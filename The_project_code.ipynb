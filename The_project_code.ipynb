{
  "cells": [
    {
      "cell_type": "code",
      "execution_count": 1,
      "metadata": {
        "colab": {
          "base_uri": "https://localhost:8080/"
        },
        "id": "DfyJddh_FzaA",
        "outputId": "e3a1855a-d169-468c-e0f9-2c239539af44"
      },
      "outputs": [
        {
          "output_type": "stream",
          "name": "stdout",
          "text": [
            "Looking in indexes: https://pypi.org/simple, https://us-python.pkg.dev/colab-wheels/public/simple/\n",
            "Collecting neo4j\n",
            "  Downloading neo4j-5.9.0.tar.gz (188 kB)\n",
            "\u001b[2K     \u001b[90m━━━━━━━━━━━━━━━━━━━━━━━━━━━━━━━━━━━━━━\u001b[0m \u001b[32m188.5/188.5 kB\u001b[0m \u001b[31m12.0 MB/s\u001b[0m eta \u001b[36m0:00:00\u001b[0m\n",
            "\u001b[?25h  Installing build dependencies ... \u001b[?25l\u001b[?25hdone\n",
            "  Getting requirements to build wheel ... \u001b[?25l\u001b[?25hdone\n",
            "  Installing backend dependencies ... \u001b[?25l\u001b[?25hdone\n",
            "  Preparing metadata (pyproject.toml) ... \u001b[?25l\u001b[?25hdone\n",
            "Requirement already satisfied: pytz in /usr/local/lib/python3.10/dist-packages (from neo4j) (2022.7.1)\n",
            "Building wheels for collected packages: neo4j\n",
            "  Building wheel for neo4j (pyproject.toml) ... \u001b[?25l\u001b[?25hdone\n",
            "  Created wheel for neo4j: filename=neo4j-5.9.0-py3-none-any.whl size=259467 sha256=473da7aaa28771cfff23ea9a9b26c0de967be5a04baaac5f29b42ea6610ed627\n",
            "  Stored in directory: /root/.cache/pip/wheels/aa/d6/e2/3534952aaddb39337f01f3fd66b3f3f2dd65051306a614af92\n",
            "Successfully built neo4j\n",
            "Installing collected packages: neo4j\n",
            "Successfully installed neo4j-5.9.0\n"
          ]
        }
      ],
      "source": [
        "!pip install neo4j    "
      ]
    },
    {
      "cell_type": "code",
      "execution_count": 2,
      "metadata": {
        "id": "Ymat9Q2JHDXa"
      },
      "outputs": [],
      "source": [
        "from neo4j import GraphDatabase "
      ]
    },
    {
      "cell_type": "code",
      "execution_count": 3,
      "metadata": {
        "id": "oBAO4ErVCsZb"
      },
      "outputs": [],
      "source": [
        "uri = \"neo4j+s://70bc3204.databases.neo4j.io\"\n",
        "pwd = \"7de6kd6oEFEU8wwTlLbOI3F9cP6NSg2Ibxsy4zOcwZE\"\n",
        "driver = GraphDatabase.driver(uri, auth=(\"neo4j\", pwd))    "
      ]
    },
    {
      "cell_type": "code",
      "execution_count": 4,
      "metadata": {
        "id": "ZqinzjrOHKQI"
      },
      "outputs": [],
      "source": [
        "class Neo4jConnection:\n",
        "    \n",
        "    def __init__(self, uri, user, pwd):\n",
        "        \n",
        "        self.__uri = uri\n",
        "        self.__user = user\n",
        "        self.__pwd = pwd\n",
        "        self.__driver = None\n",
        "        \n",
        "        try:\n",
        "            self.__driver = GraphDatabase.driver(self.__uri, auth=(self.__user, self.__pwd))\n",
        "        except Exception as e:\n",
        "            print(\"Failed to create the driver:\", e)\n",
        "        \n",
        "    def close(self):\n",
        "        \n",
        "        if self.__driver is not None:\n",
        "            self.__driver.close()\n",
        "        \n",
        "    def query(self, query, parameters=None, db=None):\n",
        "        \n",
        "        assert self.__driver is not None, \"Driver not initialized!\"\n",
        "        session = None\n",
        "        response = None\n",
        "        \n",
        "        try: \n",
        "            session = self.__driver.session(database=db) if db is not None else self.__driver.session() \n",
        "            response = list(session.run(query, parameters))\n",
        "        except Exception as e:\n",
        "            print(\"Query failed:\", e)\n",
        "        finally: \n",
        "            if session is not None:\n",
        "                session.close()\n",
        "        return response"
      ]
    },
    {
      "cell_type": "code",
      "execution_count": 5,
      "metadata": {
        "id": "-caKdnERHQPG"
      },
      "outputs": [],
      "source": [
        "uri = \"neo4j+s://70bc3204.databases.neo4j.io\"\n",
        "pwd = \"7de6kd6oEFEU8wwTlLbOI3F9cP6NSg2Ibxsy4zOcwZE\"\n",
        "user = 'neo4j'\n",
        "conn = Neo4jConnection(uri, user, pwd)"
      ]
    },
    {
      "cell_type": "markdown",
      "metadata": {
        "id": "U1oIyYMuv4Tf"
      },
      "source": [
        "## **CONSTRAINTS**"
      ]
    },
    {
      "cell_type": "code",
      "execution_count": 6,
      "metadata": {
        "id": "NgWPBVqr0ekm",
        "colab": {
          "base_uri": "https://localhost:8080/"
        },
        "outputId": "b20c0b39-fb33-4c71-f738-2dbc7c59a26e"
      },
      "outputs": [
        {
          "output_type": "stream",
          "name": "stdout",
          "text": [
            "[]\n"
          ]
        }
      ],
      "source": [
        "explore_reviews_csv_query = \"\"\"\n",
        "CREATE CONSTRAINT CVE IF NOT EXISTS FOR (cve:CVE) REQUIRE cve.id IS UNIQUE\n",
        "\"\"\"\n",
        "result = conn.query(explore_reviews_csv_query)\n",
        "print(result)"
      ]
    },
    {
      "cell_type": "code",
      "execution_count": 7,
      "metadata": {
        "id": "u8uSRMnp1slw",
        "colab": {
          "base_uri": "https://localhost:8080/"
        },
        "outputId": "2a2d4aec-a2f6-41ac-cd52-c74eab0bc01b"
      },
      "outputs": [
        {
          "output_type": "stream",
          "name": "stdout",
          "text": [
            "[]\n"
          ]
        }
      ],
      "source": [
        "explore_reviews_csv_query = \"\"\"\n",
        "CREATE CONSTRAINT references IF NOT EXISTS FOR (ref:Reference) REQUIRE ref.url IS UNIQUE\n",
        "\"\"\"\n",
        "result = conn.query(explore_reviews_csv_query)\n",
        "print(result)"
      ]
    },
    {
      "cell_type": "code",
      "execution_count": 8,
      "metadata": {
        "id": "co9S8kWs2r0L",
        "colab": {
          "base_uri": "https://localhost:8080/"
        },
        "outputId": "47dd031f-cb4e-4f58-9c87-3f6b3979eb8d"
      },
      "outputs": [
        {
          "output_type": "stream",
          "name": "stdout",
          "text": [
            "[]\n"
          ]
        }
      ],
      "source": [
        "explore_reviews_csv_query = \"\"\"\n",
        "CREATE CONSTRAINT descriptions IF NOT EXISTS FOR (desc:Description) REQUIRE desc.id IS UNIQUE\n",
        "\"\"\"\n",
        "result = conn.query(explore_reviews_csv_query)\n",
        "print(result)"
      ]
    },
    {
      "cell_type": "code",
      "execution_count": 9,
      "metadata": {
        "id": "02HjfwuQ2s94",
        "colab": {
          "base_uri": "https://localhost:8080/"
        },
        "outputId": "6c6b3409-dffe-4493-d8d0-14dc46ff9f0d"
      },
      "outputs": [
        {
          "output_type": "stream",
          "name": "stdout",
          "text": [
            "[]\n"
          ]
        }
      ],
      "source": [
        "explore_reviews_csv_query = \"\"\"\n",
        "CREATE CONSTRAINT tags IF NOT EXISTS FOR (t:Tag) REQUIRE t.tag IS UNIQUE\n",
        "\"\"\"\n",
        "result = conn.query(explore_reviews_csv_query)\n",
        "print(result)"
      ]
    },
    {
      "cell_type": "code",
      "execution_count": 10,
      "metadata": {
        "id": "v4yQyZmi2vZn",
        "colab": {
          "base_uri": "https://localhost:8080/"
        },
        "outputId": "ca031e43-0418-4653-ac13-133dfdba1ab7"
      },
      "outputs": [
        {
          "output_type": "stream",
          "name": "stdout",
          "text": [
            "[]\n"
          ]
        }
      ],
      "source": [
        "explore_reviews_csv_query = \"\"\"\n",
        "CREATE CONSTRAINT CONFIG IF NOT EXISTS FOR (config:CONFIG) REQUIRE config.id IS UNIQUE\n",
        "\"\"\"\n",
        "result = conn.query(explore_reviews_csv_query)\n",
        "print(result)"
      ]
    },
    {
      "cell_type": "code",
      "execution_count": 11,
      "metadata": {
        "id": "xZPKcwce2wgM",
        "colab": {
          "base_uri": "https://localhost:8080/"
        },
        "outputId": "74ab9ea5-0b06-42d2-a144-057fdbde51f5"
      },
      "outputs": [
        {
          "output_type": "stream",
          "name": "stdout",
          "text": [
            "[]\n"
          ]
        }
      ],
      "source": [
        "explore_reviews_csv_query = \"\"\"\n",
        "CREATE CONSTRAINT CPE IF NOT EXISTS FOR (cpe:CPE) REQUIRE cpe.cpe23Uri IS UNIQUE\n",
        "\"\"\"\n",
        "result = conn.query(explore_reviews_csv_query)\n",
        "print(result)"
      ]
    },
    {
      "cell_type": "code",
      "execution_count": 12,
      "metadata": {
        "id": "GFhXM1juEt47",
        "colab": {
          "base_uri": "https://localhost:8080/"
        },
        "outputId": "5c8d0c15-0dbe-4f85-b7b2-7d39a25685c5"
      },
      "outputs": [
        {
          "output_type": "stream",
          "name": "stdout",
          "text": [
            "[]\n"
          ]
        }
      ],
      "source": [
        "explore_reviews_csv_query = \"\"\"\n",
        "CREATE CONSTRAINT CWE IF NOT EXISTS FOR (cwe:CWE) REQUIRE cwe.CWE IS UNIQUE\n",
        "\"\"\"\n",
        "result = conn.query(explore_reviews_csv_query)\n",
        "print(result)"
      ]
    },
    {
      "cell_type": "markdown",
      "metadata": {
        "id": "ALZWnkxavpYn"
      },
      "source": [
        "# **CVE Data**"
      ]
    },
    {
      "cell_type": "markdown",
      "metadata": {
        "id": "dKD1qUv61I07"
      },
      "source": [
        "**Script_1.cypher**"
      ]
    },
    {
      "cell_type": "code",
      "execution_count": 13,
      "metadata": {
        "id": "3vr5fo2fq1gi",
        "colab": {
          "base_uri": "https://localhost:8080/"
        },
        "outputId": "3e1444f6-6bc8-4434-d71f-35725d2481f2"
      },
      "outputs": [
        {
          "output_type": "stream",
          "name": "stdout",
          "text": [
            "[]\n"
          ]
        }
      ],
      "source": [
        "explore_reviews_csv_query = \"\"\"\n",
        "CALL apoc.load.json(\"https://raw.githubusercontent.com/neostrange/CveParse/main/nvd3.json\", null, {failOnError:false})\n",
        "YIELD value\n",
        "WITH value  AS data\n",
        "\n",
        "UNWIND data.CVE_Items as item\n",
        "MERGE (cve:CVE {id: item.cve.CVE_data_meta.ID})\n",
        "ON CREATE SET cve.assigner = item.cve.CVE_data_meta.ASSIGNER\n",
        "\n",
        "WITH cve, item\n",
        "UNWIND item.cve.problemtype.problemtype_data AS problem\n",
        "UNWIND problem.description AS problem_desc\n",
        "MERGE (cve)-[:PROBLEM_TYPE]->(problemType:ProblemType {lang: problem_desc.lang, value: problem_desc.value})\n",
        "//MERGE (cve)-[:PROBLEM_TYPE]->(problemType)\n",
        "\n",
        "\n",
        "WITH item, cve\n",
        "UNWIND item.cve.references.reference_data AS ref\n",
        "MERGE (reference:Reference {url: ref.url})\n",
        "ON CREATE SET reference.name = ref.name, reference.refsource = ref.refsource\n",
        "\n",
        "WITH item, cve, reference, ref\n",
        "UNWIND ref.tags AS tag\n",
        "MERGE (tagNode:Tag {name: tag, id: tag})\n",
        "MERGE (reference)-[:TAGGED_WITH]->(tagNode)\n",
        "\n",
        "WITH item, cve, reference\n",
        "UNWIND item.cve.description.description_data AS desc\n",
        "MERGE (description:Description {lang: desc.lang, value:desc.value, cveId:cve.id})\n",
        "//ON CREATE SET description.value = desc.value\n",
        "\n",
        "//WITH item, cve, reference, description\n",
        "MERGE (cve)-[:HAS_REFERENCE]->(reference)\n",
        "MERGE (cve)-[:HAS_DESCRIPTION]->(description)\n",
        "\n",
        "\n",
        "\n",
        "WITH item, cve,item.impact.baseMetricV3 as baseMetricV3, item.impact.baseMetricV3.cvssV3 as cvssV3\n",
        "MERGE (cve)-[:HAS_IMPACT]->(impact:IMPACT {exploitabilityScore: baseMetricV3.exploitabilityScore, \n",
        "                                           impactScore: baseMetricV3.impactScore, cveId: cve.id\n",
        "})-[:HAS_CVSSV3]->(cvssv3:CVSSV3 {version: cvssV3.version,\n",
        "                                              vectorString:cvssV3.vectorString,\n",
        "                                              attackVector:cvssV3.attackVector,\n",
        "                                              attackComplexity:cvssV3.attackComplexity,\n",
        "                                              privilegesRequired:cvssV3.privilegesRequired,\n",
        "                                              userInteraction:cvssV3.userInteraction,\n",
        "                                              scope:cvssV3.scope,\n",
        "                                              confidentialityImpact:cvssV3.confidentialityImpact,\n",
        "                                              integrityImpact:cvssV3.integrityImpact,\n",
        "                                              availabilityImpact:cvssV3.availabilityImpact,\n",
        "                                              baseScore:cvssV3.baseScore,\n",
        "                                              baseSeverity:cvssV3.baseSeverity \n",
        "})\n",
        "\"\"\"\n",
        "result = conn.query(explore_reviews_csv_query)\n",
        "print(result)"
      ]
    },
    {
      "cell_type": "markdown",
      "metadata": {
        "id": "2IuoqWLt1YZX"
      },
      "source": [
        "**Script_2.cypher**"
      ]
    },
    {
      "cell_type": "code",
      "execution_count": 14,
      "metadata": {
        "id": "Jzi-BrPlq5GQ",
        "colab": {
          "base_uri": "https://localhost:8080/"
        },
        "outputId": "8750f0c1-df5c-49eb-a2ec-0dfb275584f3"
      },
      "outputs": [
        {
          "output_type": "stream",
          "name": "stdout",
          "text": [
            "[]\n"
          ]
        }
      ],
      "source": [
        "explore_reviews_csv_query = \"\"\"\n",
        "CALL apoc.load.json(\"https://raw.githubusercontent.com/neostrange/CveParse/main/nvd3.json\", null, {failOnError:false})\n",
        "YIELD value\n",
        "WITH value  AS data\n",
        "\n",
        "UNWIND data.CVE_Items as item\n",
        "MERGE (cve:CVE {id: item.cve.CVE_data_meta.ID})\n",
        "ON CREATE SET cve.assigner = item.cve.CVE_data_meta.ASSIGNER\n",
        "\n",
        "WITH item.configurations AS configurations, cve\n",
        "MERGE (config:Config {version: configurations.CVE_data_version, cveId: cve.id})\n",
        "MERGE (cve)-[:HAS_CONFIG]->(config)\n",
        "\n",
        "WITH configurations, config, cve\n",
        "UNWIND configurations.nodes as node\n",
        "  // Each node has operator, cpe_match and  children\n",
        "  //create operator for the node\n",
        "  CREATE (op:Operator {operator: node.operator})\n",
        "  CREATE (config)-[:HAS_OPERATOR]->(op)\n",
        "  //create cpe_match for the node\n",
        "  FOREACH (cpe_match in node.cpe_match |\n",
        "    CREATE (cpeMatch:CpeMatch {vulnerable: cpe_match.vulnerable, uri: cpe_match.cpe23Uri})\n",
        "    CREATE (cpeMatch)-[:HAS_OPERATOR]->(op))\n",
        "\n",
        "    //children in each node -  each children then has operator, cpe_match and children\n",
        "    FOREACH (child IN node.children | \n",
        "      CREATE (op1:Operator {operator: child.operator})\n",
        "      CREATE (op)-[:HAS_OPERATOR]->(op1)\n",
        "      FOREACH (cpe in child.cpe_match |\n",
        "        CREATE (cpeMatch:CpeMatch {vulnerable: cpe.vulnerable, uri: cpe.cpe23Uri})\n",
        "        MERGE (op1)-[:CPE_MATCH]->(cpeMatch))\n",
        ")\n",
        "\"\"\"\n",
        "result = conn.query(explore_reviews_csv_query)\n",
        "print(result)"
      ]
    },
    {
      "cell_type": "markdown",
      "metadata": {
        "id": "v0RLUDVmwCO9"
      },
      "source": [
        "# **CWE Data**"
      ]
    },
    {
      "cell_type": "markdown",
      "metadata": {
        "id": "2jAfmwvqKrZg"
      },
      "source": [
        "**Script_CWE.cypher**"
      ]
    },
    {
      "cell_type": "code",
      "execution_count": 15,
      "metadata": {
        "id": "KJ7DH4orakUu",
        "colab": {
          "base_uri": "https://localhost:8080/"
        },
        "outputId": "4dc244d4-01d7-4ca7-fdeb-a1b25872cee9"
      },
      "outputs": [
        {
          "output_type": "stream",
          "name": "stdout",
          "text": [
            "[]\n"
          ]
        }
      ],
      "source": [
        "explore_reviews_csv_query = \"\"\"\n",
        "CALL apoc.load.json(\"https://raw.githubusercontent.com/neostrange/CveParse/main/CWE.json\", null, {failOnError:false})\n",
        "YIELD value\n",
        "WITH value  AS data\n",
        "//return data.CWE_Items[0].CWE.cwe_id\n",
        "UNWIND data.CWE_Items as item\n",
        "MERGE (cwe:CWE {cwe_id: item.CWE.cwe_id})\n",
        "SET \n",
        "    cwe.name = item.CWE.name,\n",
        "    cwe.weakness_abstraction = item.CWE.weakness_abstraction, \n",
        "    cwe.status = item.CWE.status, \n",
        "    cwe.description = item.CWE.description,  \n",
        "    cwe.extended_description = item.CWE.extended_description\n",
        "\n",
        "\"\"\"\n",
        "result = conn.query(explore_reviews_csv_query)\n",
        "print(result)"
      ]
    },
    {
      "cell_type": "markdown",
      "metadata": {
        "id": "NNjO7vHkvV5k"
      },
      "source": [
        "Mapping between CVE and CWE"
      ]
    },
    {
      "cell_type": "code",
      "execution_count": 16,
      "metadata": {
        "id": "2jSJtZjpd9_F",
        "colab": {
          "base_uri": "https://localhost:8080/"
        },
        "outputId": "4585d7c1-1ece-4a9a-d6d1-eda8df5fa86b"
      },
      "outputs": [
        {
          "output_type": "stream",
          "name": "stdout",
          "text": [
            "[]\n"
          ]
        }
      ],
      "source": [
        "explore_reviews_csv_query = \"\"\"\n",
        "MERGE (problemType:ProblemType {value:\"CWE-79\"})\n",
        "MERGE (cwe:CWE {cwe_id:\"79\"})\n",
        "MERGE (problemType)-[:MAPPED_WITH]->(cwe)\n",
        "\n",
        "\"\"\"\n",
        "result = conn.query(explore_reviews_csv_query)\n",
        "print(result)"
      ]
    },
    {
      "cell_type": "code",
      "execution_count": 17,
      "metadata": {
        "id": "vt24-oAzRPMP",
        "colab": {
          "base_uri": "https://localhost:8080/"
        },
        "outputId": "9e42fa87-4fd7-4569-f32b-4f3de0e017f6"
      },
      "outputs": [
        {
          "output_type": "stream",
          "name": "stdout",
          "text": [
            "[]\n"
          ]
        }
      ],
      "source": [
        "explore_reviews_csv_query = \"\"\"\n",
        "MERGE (problemType:ProblemType {value:\"CWE-89\"})\n",
        "MERGE (cwe:CWE {cwe_id:\"89\"})\n",
        "MERGE (problemType)-[:MAPPED_WITH]->(cwe)\n",
        "\n",
        "\"\"\"\n",
        "result = conn.query(explore_reviews_csv_query)\n",
        "print(result)"
      ]
    },
    {
      "cell_type": "code",
      "execution_count": 18,
      "metadata": {
        "id": "HGhiQXo0RSN-",
        "colab": {
          "base_uri": "https://localhost:8080/"
        },
        "outputId": "6552017d-afe2-4f92-b697-baca3a5a1bb4"
      },
      "outputs": [
        {
          "output_type": "stream",
          "name": "stdout",
          "text": [
            "[]\n"
          ]
        }
      ],
      "source": [
        "explore_reviews_csv_query = \"\"\"\n",
        "MERGE (problemType:ProblemType {value:\"CWE-94\"})\n",
        "MERGE (cwe:CWE {cwe_id:\"94\"})\n",
        "MERGE (problemType)-[:MAPPED_WITH]->(cwe)\n",
        "\n",
        "\"\"\"\n",
        "result = conn.query(explore_reviews_csv_query)\n",
        "print(result)"
      ]
    },
    {
      "cell_type": "code",
      "execution_count": 19,
      "metadata": {
        "id": "f7vUdkFVRVKM",
        "colab": {
          "base_uri": "https://localhost:8080/"
        },
        "outputId": "8318647f-9128-4a8f-d9de-8be3bd0dda21"
      },
      "outputs": [
        {
          "output_type": "stream",
          "name": "stdout",
          "text": [
            "[]\n"
          ]
        }
      ],
      "source": [
        "explore_reviews_csv_query = \"\"\"\n",
        "MERGE (problemType:ProblemType {value:\"CWE-200\"})\n",
        "MERGE (cwe:CWE {cwe_id:\"200\"})\n",
        "MERGE (problemType)-[:MAPPED_WITH]->(cwe)\n",
        "\n",
        "\"\"\"\n",
        "result = conn.query(explore_reviews_csv_query)\n",
        "print(result)"
      ]
    },
    {
      "cell_type": "code",
      "execution_count": 20,
      "metadata": {
        "id": "NDxsFoS6RbIi",
        "colab": {
          "base_uri": "https://localhost:8080/"
        },
        "outputId": "b703f734-fa31-4063-fa20-7a508d5e2a50"
      },
      "outputs": [
        {
          "output_type": "stream",
          "name": "stdout",
          "text": [
            "[]\n"
          ]
        }
      ],
      "source": [
        "explore_reviews_csv_query = \"\"\"\n",
        "MERGE (problemType:ProblemType {value:\"CWE-284\"})\n",
        "MERGE (cwe:CWE {cwe_id:\"284\"})\n",
        "MERGE (problemType)-[:MAPPED_WITH]->(cwe)\n",
        "\n",
        "\"\"\"\n",
        "result = conn.query(explore_reviews_csv_query)\n",
        "print(result)"
      ]
    },
    {
      "cell_type": "code",
      "execution_count": 21,
      "metadata": {
        "id": "U7hSomJqRcGs",
        "colab": {
          "base_uri": "https://localhost:8080/"
        },
        "outputId": "041dcb50-aaa0-4819-b9d9-c276b689f4ab"
      },
      "outputs": [
        {
          "output_type": "stream",
          "name": "stdout",
          "text": [
            "[]\n"
          ]
        }
      ],
      "source": [
        "explore_reviews_csv_query = \"\"\"\n",
        "MERGE (problemType:ProblemType {value:\"CWE-294\"})\n",
        "MERGE (cwe:CWE {cwe_id:\"294\"})\n",
        "MERGE (problemType)-[:MAPPED_WITH]->(cwe)\n",
        "\n",
        "\"\"\"\n",
        "result = conn.query(explore_reviews_csv_query)\n",
        "print(result)"
      ]
    },
    {
      "cell_type": "code",
      "execution_count": 22,
      "metadata": {
        "id": "ebePW33VmBWf",
        "colab": {
          "base_uri": "https://localhost:8080/"
        },
        "outputId": "28c4bd72-bd81-4a02-c347-4a48088ba239"
      },
      "outputs": [
        {
          "output_type": "stream",
          "name": "stdout",
          "text": [
            "[]\n"
          ]
        }
      ],
      "source": [
        "explore_reviews_csv_query = \"\"\"\n",
        "MERGE (cwe1:CWE { cwe_id:\"79\"})\n",
        "MERGE (cwe2:CWE { cwe_id:\"89\"})\n",
        "MERGE (cwe1)-[:HAS_RELATED_WEAKNESS{ NATURE:\"ChildOf\",CWEـID:\"74\",VIEWـID:\"1003\",ORDINAL:\"Primary\"}]->(cwe2)\n",
        "\n",
        "\"\"\"\n",
        "result = conn.query(explore_reviews_csv_query)\n",
        "print(result)"
      ]
    },
    {
      "cell_type": "code",
      "execution_count": 23,
      "metadata": {
        "id": "HizU849aV3uR",
        "colab": {
          "base_uri": "https://localhost:8080/"
        },
        "outputId": "3551cffc-789c-400f-8774-fbc20bbdb79d"
      },
      "outputs": [
        {
          "output_type": "stream",
          "name": "stdout",
          "text": [
            "[]\n"
          ]
        }
      ],
      "source": [
        "explore_reviews_csv_query = \"\"\"\n",
        "MERGE (cwe1:CWE { cwe_id:\"79\"})\n",
        "MERGE (cwe2:CWE { cwe_id:\"94\"})\n",
        "MERGE (cwe1)-[:HAS_RELATED_WEAKNESS{ NATURE:\"ChildOf\",CWEـID:\"74\",VIEWـID:\"1000\",ORDINAL:\"Primary\"}]->(cwe2)\n",
        "\n",
        "\"\"\"\n",
        "result = conn.query(explore_reviews_csv_query)\n",
        "print(result)"
      ]
    },
    {
      "cell_type": "code",
      "execution_count": 24,
      "metadata": {
        "id": "BV-1ql7RfODd",
        "colab": {
          "base_uri": "https://localhost:8080/"
        },
        "outputId": "ddf7ded0-b2eb-430d-9cdd-a002ae982357"
      },
      "outputs": [
        {
          "output_type": "stream",
          "name": "stdout",
          "text": [
            "[]\n"
          ]
        }
      ],
      "source": [
        "explore_reviews_csv_query = \"\"\"\n",
        "MERGE (cwe1:CWE { cwe_id:\"79\"})\n",
        "MERGE (cwe2:CWE { cwe_id:\"94\"})\n",
        "MERGE (cwe1)-[:HAS_RELATED_WEAKNESS{ NATURE:\"ChildOf\",CWEـID:\"74\",VIEWـID:\"1003\",ORDINAL:\"Primary\"}]->(cwe2)\n",
        "\n",
        "\"\"\"\n",
        "result = conn.query(explore_reviews_csv_query)\n",
        "print(result)"
      ]
    },
    {
      "cell_type": "code",
      "execution_count": 25,
      "metadata": {
        "id": "uL6jPi4oYKOo",
        "colab": {
          "base_uri": "https://localhost:8080/"
        },
        "outputId": "15d37fd5-4684-493d-86c4-705edb2c61ec"
      },
      "outputs": [
        {
          "output_type": "stream",
          "name": "stdout",
          "text": [
            "[]\n"
          ]
        }
      ],
      "source": [
        "explore_reviews_csv_query = \"\"\"\n",
        "MERGE (cwe1:CWE { cwe_id:\"89\"})\n",
        "MERGE (cwe2:CWE { cwe_id:\"94\"})\n",
        "MERGE (cwe1)-[:HAS_RELATED_WEAKNESS{ NATURE:\"ChildOf\",CWEـID:\"74\",VIEWـID:\"1003\",ORDINAL:\"Primary\"}]->(cwe2)\n",
        "\n",
        "\"\"\"\n",
        "result = conn.query(explore_reviews_csv_query)\n",
        "print(result)"
      ]
    },
    {
      "cell_type": "markdown",
      "metadata": {
        "id": "U9L-NhVIvnEF"
      },
      "source": [
        "Extract the entities from unstructured data (extended_description) in CWE to structured data by using entity-fishing"
      ]
    },
    {
      "cell_type": "code",
      "execution_count": 26,
      "metadata": {
        "id": "XANCNvg7TPMr",
        "colab": {
          "base_uri": "https://localhost:8080/"
        },
        "outputId": "da7bb14d-449e-48cf-e088-469ee4cc1797"
      },
      "outputs": [
        {
          "output_type": "stream",
          "name": "stdout",
          "text": [
            "[]\n"
          ]
        }
      ],
      "source": [
        "explore_reviews_csv_query = \"\"\"\n",
        "CALL apoc.load.json(\"https://raw.githubusercontent.com/neostrange/CveParse/main/Extended_Descriptions.json\", null, {failOnError:false})\n",
        "YIELD value\n",
        "WITH value  AS data\n",
        "//return data.Extended_Descriptions[0].CWE.runtime\n",
        "UNWIND data.Extended_Descriptions as extended_descript\n",
        "MERGE (cwedata:Extended_Descriptions {runtime: extended_descript.CWE.runtime})\n",
        "SET \n",
        "    cwedata.software = extended_descript.CWE.software,\n",
        "    cwedata.version = extended_descript.CWE.version,\n",
        "    cwedata.date = extended_descript.CWE.date,\n",
        "    cwedata.nbest = extended_descript.CWE.nbest,\n",
        "    cwedata.text = extended_descript.CWE.text\n",
        "\n",
        "\"\"\"\n",
        "result = conn.query(explore_reviews_csv_query)\n",
        "print(result)"
      ]
    },
    {
      "cell_type": "code",
      "execution_count": 27,
      "metadata": {
        "id": "ncalbUWFXjI7",
        "colab": {
          "base_uri": "https://localhost:8080/"
        },
        "outputId": "7859d373-e479-40be-b5bd-3e9888ab3f42"
      },
      "outputs": [
        {
          "output_type": "stream",
          "name": "stdout",
          "text": [
            "[]\n"
          ]
        }
      ],
      "source": [
        "explore_reviews_csv_query = \"\"\"\n",
        "MERGE (cwe:CWE {cwe_id:\"79\"})\n",
        "MERGE (cwedata:Extended_Descriptions {runtime:2992})\n",
        "MERGE (cwe)-[:MAPPED_WITH]->(cwedata)\n",
        "MERGE (cwedata)-[:HAS_GLOBAL_CATEGORY{weight:0.04878159541353045,source:\"wikipedia-en\",category:\"Hacking (computer security)\",page_id:11647669}]->(cwe)\n",
        "MERGE (cwedata)-[:HAS_GLOBAL_CATEGORY{weight:0.026132997553802943,source:\"wikipedia-en\",category:\"Web security exploits\",page_id:5131853}]->(cwe)\n",
        "MERGE (cwedata)-[:HAS_GLOBAL_CATEGORY{weight:0.001742199837897568,source:\"wikipedia-en\",category:\"Unicode\",page_id:720904}]->(cwe)\n",
        "\n",
        "\"\"\"\n",
        "result = conn.query(explore_reviews_csv_query)\n",
        "print(result)"
      ]
    },
    {
      "cell_type": "code",
      "execution_count": 28,
      "metadata": {
        "id": "dRIV7ctqG46x",
        "colab": {
          "base_uri": "https://localhost:8080/"
        },
        "outputId": "8d64c8fa-5b34-4e49-c92a-ce9dbec35891"
      },
      "outputs": [
        {
          "output_type": "stream",
          "name": "stdout",
          "text": [
            "[]\n"
          ]
        }
      ],
      "source": [
        "explore_reviews_csv_query = \"\"\"\n",
        "CALL apoc.load.json(\"https://raw.githubusercontent.com/neostrange/CveParse/main/Extended_Descriptions.json\", null, {failOnError:false})\n",
        "YIELD value\n",
        "WITH value  AS data\n",
        "WITH data\n",
        "UNWIND data.Extended_Descriptions[0].CWE.entities as Entities\n",
        "MERGE (entities:Entities{rawName:Entities.`rawName`})\n",
        "  SET \n",
        "   entities.offsetStart = Entities.offsetStart,\n",
        "   entities.offsetEnd = Entities.offsetEnd,\n",
        "   entities.confidence_score = Entities.confidence_score,\n",
        "   entities.wikipediaExternalRef = Entities.wikipediaExternalRef,\n",
        "   entities.wikidataId = Entities.wikidataId\n",
        "\n",
        "\"\"\"\n",
        "result = conn.query(explore_reviews_csv_query)\n",
        "print(result)"
      ]
    },
    {
      "cell_type": "code",
      "execution_count": 29,
      "metadata": {
        "id": "mIOeUSUpOsjm",
        "colab": {
          "base_uri": "https://localhost:8080/"
        },
        "outputId": "269d477c-5cd4-4ad0-c877-f2b6864cbe78"
      },
      "outputs": [
        {
          "output_type": "stream",
          "name": "stdout",
          "text": [
            "[]\n"
          ]
        }
      ],
      "source": [
        "explore_reviews_csv_query = \"\"\"\n",
        "MERGE (cwedata:Extended_Descriptions {runtime:2992})\n",
        "MERGE (Entities:Entities {rawName:\"Cross-site scripting\"})\n",
        "MERGE (cwedata)-[:HAS_ENTITY]->(Entities)\n",
        "\n",
        "\"\"\"\n",
        "result = conn.query(explore_reviews_csv_query)\n",
        "print(result)"
      ]
    },
    {
      "cell_type": "code",
      "execution_count": 30,
      "metadata": {
        "id": "YcJpCPGkPAAf",
        "colab": {
          "base_uri": "https://localhost:8080/"
        },
        "outputId": "cb0b8919-8786-4fb8-e4a2-0cd6b61fd503"
      },
      "outputs": [
        {
          "output_type": "stream",
          "name": "stdout",
          "text": [
            "[]\n"
          ]
        }
      ],
      "source": [
        "explore_reviews_csv_query = \"\"\"\n",
        "MERGE (cwedata:Extended_Descriptions {runtime:2992})\n",
        "MERGE (Entities:Entities {rawName:\"XSS\"})\n",
        "MERGE (cwedata)-[:HAS_ENTITY]->(Entities)\n",
        "\n",
        "\"\"\"\n",
        "result = conn.query(explore_reviews_csv_query)\n",
        "print(result)"
      ]
    },
    {
      "cell_type": "code",
      "execution_count": 31,
      "metadata": {
        "id": "jee04c_yPBHC",
        "colab": {
          "base_uri": "https://localhost:8080/"
        },
        "outputId": "1eb8f82e-159f-4e6e-f36a-f7a67a9ed142"
      },
      "outputs": [
        {
          "output_type": "stream",
          "name": "stdout",
          "text": [
            "[]\n"
          ]
        }
      ],
      "source": [
        "explore_reviews_csv_query = \"\"\"\n",
        "MERGE (cwedata:Extended_Descriptions {runtime:2992})\n",
        "MERGE (Entities:Entities {rawName:\"vulnerabilities\"})\n",
        "MERGE (cwedata)-[:HAS_ENTITY]->(Entities)\n",
        "\n",
        "\"\"\"\n",
        "result = conn.query(explore_reviews_csv_query)\n",
        "print(result)"
      ]
    },
    {
      "cell_type": "code",
      "execution_count": 32,
      "metadata": {
        "id": "UdVmWpjUPCBB",
        "colab": {
          "base_uri": "https://localhost:8080/"
        },
        "outputId": "08abd5a0-4505-41f2-95d5-53bc74fc4f37"
      },
      "outputs": [
        {
          "output_type": "stream",
          "name": "stdout",
          "text": [
            "[]\n"
          ]
        }
      ],
      "source": [
        "explore_reviews_csv_query = \"\"\"\n",
        "MERGE (cwedata:Extended_Descriptions {runtime:2992})\n",
        "MERGE (Entities:Entities {rawName:\"Untrusted\"})\n",
        "MERGE (cwedata)-[:HAS_ENTITY]->(Entities)\n",
        "\n",
        "\"\"\"\n",
        "result = conn.query(explore_reviews_csv_query)\n",
        "print(result)"
      ]
    },
    {
      "cell_type": "code",
      "execution_count": 33,
      "metadata": {
        "id": "g7qNMclPPDJ_",
        "colab": {
          "base_uri": "https://localhost:8080/"
        },
        "outputId": "7c211455-5a53-458c-f99b-4bad6805b5ef"
      },
      "outputs": [
        {
          "output_type": "stream",
          "name": "stdout",
          "text": [
            "[]\n"
          ]
        }
      ],
      "source": [
        "explore_reviews_csv_query = \"\"\"\n",
        "MERGE (cwedata:Extended_Descriptions {runtime:2992})\n",
        "MERGE (Entities:Entities {rawName:\"enters\"})\n",
        "MERGE (cwedata)-[:HAS_ENTITY]->(Entities)\n",
        "\n",
        "\"\"\"\n",
        "result = conn.query(explore_reviews_csv_query)\n",
        "print(result)"
      ]
    },
    {
      "cell_type": "code",
      "execution_count": 34,
      "metadata": {
        "id": "0rxrRVfEPEHO",
        "colab": {
          "base_uri": "https://localhost:8080/"
        },
        "outputId": "5e2d52d1-3891-4749-a54f-264840f7d254"
      },
      "outputs": [
        {
          "output_type": "stream",
          "name": "stdout",
          "text": [
            "[]\n"
          ]
        }
      ],
      "source": [
        "explore_reviews_csv_query = \"\"\"\n",
        "MERGE (cwedata:Extended_Descriptions {runtime:2992})\n",
        "MERGE (Entities:Entities {rawName:\"web application\"})\n",
        "MERGE (cwedata)-[:HAS_ENTITY]->(Entities)\n",
        "\n",
        "\"\"\"\n",
        "result = conn.query(explore_reviews_csv_query)\n",
        "print(result)"
      ]
    },
    {
      "cell_type": "code",
      "execution_count": 35,
      "metadata": {
        "id": "ZNEyBv7xPFZ8",
        "colab": {
          "base_uri": "https://localhost:8080/"
        },
        "outputId": "7cfe2941-3381-4fc8-cfc5-4eb39e853d57"
      },
      "outputs": [
        {
          "output_type": "stream",
          "name": "stdout",
          "text": [
            "[]\n"
          ]
        }
      ],
      "source": [
        "explore_reviews_csv_query = \"\"\"\n",
        "MERGE (cwedata:Extended_Descriptions {runtime:2992})\n",
        "MERGE (Entities:Entities {rawName:\"web request\"})\n",
        "MERGE (cwedata)-[:HAS_ENTITY]->(Entities)\n",
        "\n",
        "\"\"\"\n",
        "result = conn.query(explore_reviews_csv_query)\n",
        "print(result)"
      ]
    },
    {
      "cell_type": "code",
      "execution_count": 36,
      "metadata": {
        "id": "w6K9LwO6PGcy",
        "colab": {
          "base_uri": "https://localhost:8080/"
        },
        "outputId": "d80a5273-2ac0-45a8-e9ef-c521f306c766"
      },
      "outputs": [
        {
          "output_type": "stream",
          "name": "stdout",
          "text": [
            "[]\n"
          ]
        }
      ],
      "source": [
        "explore_reviews_csv_query = \"\"\"\n",
        "MERGE (cwedata:Extended_Descriptions {runtime:2992})\n",
        "MERGE (Entities:Entities {rawName:\"2\"})\n",
        "MERGE (cwedata)-[:HAS_ENTITY]->(Entities)\n",
        "\n",
        "\"\"\"\n",
        "result = conn.query(explore_reviews_csv_query)\n",
        "print(result)"
      ]
    },
    {
      "cell_type": "code",
      "execution_count": 37,
      "metadata": {
        "id": "Xspm_zyiPHga",
        "colab": {
          "base_uri": "https://localhost:8080/"
        },
        "outputId": "15d53624-90f5-42da-9fc2-a0086cecb302"
      },
      "outputs": [
        {
          "output_type": "stream",
          "name": "stdout",
          "text": [
            "[]\n"
          ]
        }
      ],
      "source": [
        "explore_reviews_csv_query = \"\"\"\n",
        "MERGE (cwedata:Extended_Descriptions {runtime:2992})\n",
        "MERGE (Entities:Entities {rawName:\"dynamically generates\"})\n",
        "MERGE (cwedata)-[:HAS_ENTITY]->(Entities)\n",
        "\n",
        "\"\"\"\n",
        "result = conn.query(explore_reviews_csv_query)\n",
        "print(result)"
      ]
    },
    {
      "cell_type": "code",
      "execution_count": 38,
      "metadata": {
        "id": "5hZ92vStPIqL",
        "colab": {
          "base_uri": "https://localhost:8080/"
        },
        "outputId": "2be3dbee-9ac9-42c0-eaa4-5d55da170884"
      },
      "outputs": [
        {
          "output_type": "stream",
          "name": "stdout",
          "text": [
            "[]\n"
          ]
        }
      ],
      "source": [
        "explore_reviews_csv_query = \"\"\"\n",
        "MERGE (cwedata:Extended_Descriptions {runtime:2992})\n",
        "MERGE (Entities:Entities {rawName:\"web page\"})\n",
        "MERGE (cwedata)-[:HAS_ENTITY]->(Entities)\n",
        "\n",
        "\"\"\"\n",
        "result = conn.query(explore_reviews_csv_query)\n",
        "print(result)"
      ]
    },
    {
      "cell_type": "code",
      "execution_count": 39,
      "metadata": {
        "id": "oYdtVqnlPKJY",
        "colab": {
          "base_uri": "https://localhost:8080/"
        },
        "outputId": "360feccd-206b-4555-9791-4a3c0827f516"
      },
      "outputs": [
        {
          "output_type": "stream",
          "name": "stdout",
          "text": [
            "[]\n"
          ]
        }
      ],
      "source": [
        "explore_reviews_csv_query = \"\"\"\n",
        "MERGE (cwedata:Extended_Descriptions {runtime:2992})\n",
        "MERGE (Entities:Entities {rawName:\"web browser\"})\n",
        "MERGE (cwedata)-[:HAS_ENTITY]->(Entities)\n",
        "\n",
        "\"\"\"\n",
        "result = conn.query(explore_reviews_csv_query)\n",
        "print(result)"
      ]
    },
    {
      "cell_type": "code",
      "execution_count": 40,
      "metadata": {
        "id": "wcAf0GbIPJ_p",
        "colab": {
          "base_uri": "https://localhost:8080/"
        },
        "outputId": "12f09ec5-a89d-4826-d90f-f777cc205ce6"
      },
      "outputs": [
        {
          "output_type": "stream",
          "name": "stdout",
          "text": [
            "[]\n"
          ]
        }
      ],
      "source": [
        "explore_reviews_csv_query = \"\"\"\n",
        "MERGE (cwedata:Extended_Descriptions {runtime:2992})\n",
        "MERGE (Entities:Entities {rawName:\"JavaScript\"})\n",
        "MERGE (cwedata)-[:HAS_ENTITY]->(Entities)\n",
        "\n",
        "\"\"\"\n",
        "result = conn.query(explore_reviews_csv_query)\n",
        "print(result)"
      ]
    },
    {
      "cell_type": "code",
      "execution_count": 41,
      "metadata": {
        "id": "PTJgYrsRPJ84",
        "colab": {
          "base_uri": "https://localhost:8080/"
        },
        "outputId": "07305760-a3cc-415d-ebee-8a120d2f85bd"
      },
      "outputs": [
        {
          "output_type": "stream",
          "name": "stdout",
          "text": [
            "[]\n"
          ]
        }
      ],
      "source": [
        "explore_reviews_csv_query = \"\"\"\n",
        "MERGE (cwedata:Extended_Descriptions {runtime:2992})\n",
        "MERGE (Entities:Entities {rawName:\"HTML\"})\n",
        "MERGE (cwedata)-[:HAS_ENTITY]->(Entities)\n",
        "\n",
        "\"\"\"\n",
        "result = conn.query(explore_reviews_csv_query)\n",
        "print(result)"
      ]
    },
    {
      "cell_type": "code",
      "execution_count": 42,
      "metadata": {
        "id": "yZiwXcidPJ6I",
        "colab": {
          "base_uri": "https://localhost:8080/"
        },
        "outputId": "873a1c7d-89a0-438a-87b2-8458dbe8f58e"
      },
      "outputs": [
        {
          "output_type": "stream",
          "name": "stdout",
          "text": [
            "[]\n"
          ]
        }
      ],
      "source": [
        "explore_reviews_csv_query = \"\"\"\n",
        "MERGE (cwedata:Extended_Descriptions {runtime:2992})\n",
        "MERGE (Entities:Entities {rawName:\"tags\"})\n",
        "MERGE (cwedata)-[:HAS_ENTITY]->(Entities)\n",
        "\n",
        "\"\"\"\n",
        "result = conn.query(explore_reviews_csv_query)\n",
        "print(result)"
      ]
    },
    {
      "cell_type": "code",
      "execution_count": 43,
      "metadata": {
        "id": "4AE4pyDuPJ3X",
        "colab": {
          "base_uri": "https://localhost:8080/"
        },
        "outputId": "a230e557-15de-47f6-b5b2-dc132101df4e"
      },
      "outputs": [
        {
          "output_type": "stream",
          "name": "stdout",
          "text": [
            "[]\n"
          ]
        }
      ],
      "source": [
        "explore_reviews_csv_query = \"\"\"\n",
        "MERGE (cwedata:Extended_Descriptions {runtime:2992})\n",
        "MERGE (Entities:Entities {rawName:\"HTML attributes\"})\n",
        "MERGE (cwedata)-[:HAS_ENTITY]->(Entities)\n",
        "\n",
        "\"\"\"\n",
        "result = conn.query(explore_reviews_csv_query)\n",
        "print(result)"
      ]
    },
    {
      "cell_type": "code",
      "execution_count": 44,
      "metadata": {
        "id": "hgDrxY0IPJ0i",
        "colab": {
          "base_uri": "https://localhost:8080/"
        },
        "outputId": "41779346-f190-48c2-b6da-6a190f954ab0"
      },
      "outputs": [
        {
          "output_type": "stream",
          "name": "stdout",
          "text": [
            "[]\n"
          ]
        }
      ],
      "source": [
        "explore_reviews_csv_query = \"\"\"\n",
        "MERGE (cwedata:Extended_Descriptions {runtime:2992})\n",
        "MERGE (Entities:Entities {rawName:\"Flash\"})\n",
        "MERGE (cwedata)-[:HAS_ENTITY]->(Entities)\n",
        "\n",
        "\"\"\"\n",
        "result = conn.query(explore_reviews_csv_query)\n",
        "print(result)"
      ]
    },
    {
      "cell_type": "code",
      "execution_count": 45,
      "metadata": {
        "id": "J_gfL7EgPJxe",
        "colab": {
          "base_uri": "https://localhost:8080/"
        },
        "outputId": "b59779a1-6c33-4a11-d1d0-e449ddb209ff"
      },
      "outputs": [
        {
          "output_type": "stream",
          "name": "stdout",
          "text": [
            "[]\n"
          ]
        }
      ],
      "source": [
        "explore_reviews_csv_query = \"\"\"\n",
        "MERGE (cwedata:Extended_Descriptions {runtime:2992})\n",
        "MERGE (Entities:Entities {rawName:\"ActiveX\"})\n",
        "MERGE (cwedata)-[:HAS_ENTITY]->(Entities)\n",
        "\n",
        "\"\"\"\n",
        "result = conn.query(explore_reviews_csv_query)\n",
        "print(result)"
      ]
    },
    {
      "cell_type": "code",
      "execution_count": 46,
      "metadata": {
        "id": "x7GH6B4oPJuS",
        "colab": {
          "base_uri": "https://localhost:8080/"
        },
        "outputId": "703240ff-6efb-478f-be77-363cc6d930f5"
      },
      "outputs": [
        {
          "output_type": "stream",
          "name": "stdout",
          "text": [
            "[]\n"
          ]
        }
      ],
      "source": [
        "explore_reviews_csv_query = \"\"\"\n",
        "MERGE (cwedata:Extended_Descriptions {runtime:2992})\n",
        "MERGE (Entities:Entities {rawName:\"malicious\"})\n",
        "MERGE (cwedata)-[:HAS_ENTITY]->(Entities)\n",
        "\n",
        "\"\"\"\n",
        "result = conn.query(explore_reviews_csv_query)\n",
        "print(result)"
      ]
    },
    {
      "cell_type": "code",
      "execution_count": 47,
      "metadata": {
        "id": "C8NP4HuKRdRA",
        "colab": {
          "base_uri": "https://localhost:8080/"
        },
        "outputId": "289aa42c-4e5b-42fe-b692-0f7f24923b50"
      },
      "outputs": [
        {
          "output_type": "stream",
          "name": "stdout",
          "text": [
            "[]\n"
          ]
        }
      ],
      "source": [
        "explore_reviews_csv_query = \"\"\"\n",
        "MERGE (cwedata:Extended_Descriptions {runtime:2992})\n",
        "MERGE (Entities:Entities {rawName:\"injected\"})\n",
        "MERGE (cwedata)-[:HAS_ENTITY]->(Entities)\n",
        "\n",
        "\"\"\"\n",
        "result = conn.query(explore_reviews_csv_query)\n",
        "print(result)"
      ]
    },
    {
      "cell_type": "code",
      "execution_count": 48,
      "metadata": {
        "id": "9pvzAXNQRdC0",
        "colab": {
          "base_uri": "https://localhost:8080/"
        },
        "outputId": "b29c5f6c-1fc3-462a-afb4-18e4384d3d17"
      },
      "outputs": [
        {
          "output_type": "stream",
          "name": "stdout",
          "text": [
            "[]\n"
          ]
        }
      ],
      "source": [
        "explore_reviews_csv_query = \"\"\"\n",
        "MERGE (cwedata:Extended_Descriptions {runtime:2992})\n",
        "MERGE (Entities:Entities {rawName:\"web server\"})\n",
        "MERGE (cwedata)-[:HAS_ENTITY]->(Entities)\n",
        "\n",
        "\"\"\"\n",
        "result = conn.query(explore_reviews_csv_query)\n",
        "print(result)"
      ]
    },
    {
      "cell_type": "code",
      "execution_count": 49,
      "metadata": {
        "id": "GImUK4nxRcuN",
        "colab": {
          "base_uri": "https://localhost:8080/"
        },
        "outputId": "af7c8fab-7baf-4f7d-a455-8ed3dc007b70"
      },
      "outputs": [
        {
          "output_type": "stream",
          "name": "stdout",
          "text": [
            "[]\n"
          ]
        }
      ],
      "source": [
        "explore_reviews_csv_query = \"\"\"\n",
        "MERGE (cwedata:Extended_Descriptions {runtime:2992})\n",
        "MERGE (Entities:Entities {rawName:\"executes\"})\n",
        "MERGE (cwedata)-[:HAS_ENTITY]->(Entities)\n",
        "\n",
        "\"\"\"\n",
        "result = conn.query(explore_reviews_csv_query)\n",
        "print(result)"
      ]
    },
    {
      "cell_type": "code",
      "execution_count": 50,
      "metadata": {
        "id": "pIEaCHgBRcp5",
        "colab": {
          "base_uri": "https://localhost:8080/"
        },
        "outputId": "ccba46f2-5604-4f4e-f84a-4eee75499ae2"
      },
      "outputs": [
        {
          "output_type": "stream",
          "name": "stdout",
          "text": [
            "[]\n"
          ]
        }
      ],
      "source": [
        "explore_reviews_csv_query = \"\"\"\n",
        "MERGE (cwedata:Extended_Descriptions {runtime:2992})\n",
        "MERGE (Entities:Entities {rawName:\"violates\"})\n",
        "MERGE (cwedata)-[:HAS_ENTITY]->(Entities)\n",
        "\n",
        "\"\"\"\n",
        "result = conn.query(explore_reviews_csv_query)\n",
        "print(result)"
      ]
    },
    {
      "cell_type": "code",
      "execution_count": 51,
      "metadata": {
        "id": "MOnDlutcRclm",
        "colab": {
          "base_uri": "https://localhost:8080/"
        },
        "outputId": "92786f77-2a34-4550-d196-ec01119f689e"
      },
      "outputs": [
        {
          "output_type": "stream",
          "name": "stdout",
          "text": [
            "[]\n"
          ]
        }
      ],
      "source": [
        "explore_reviews_csv_query = \"\"\"\n",
        "MERGE (cwedata:Extended_Descriptions {runtime:2992})\n",
        "MERGE (Entities:Entities {rawName:\"web browser's\"})\n",
        "MERGE (cwedata)-[:HAS_ENTITY]->(Entities)\n",
        "\n",
        "\"\"\"\n",
        "result = conn.query(explore_reviews_csv_query)\n",
        "print(result)"
      ]
    },
    {
      "cell_type": "code",
      "execution_count": 52,
      "metadata": {
        "id": "h51goGJERchY",
        "colab": {
          "base_uri": "https://localhost:8080/"
        },
        "outputId": "93376d5c-2515-4c79-c938-fa7e8d0c2f33"
      },
      "outputs": [
        {
          "output_type": "stream",
          "name": "stdout",
          "text": [
            "[]\n"
          ]
        }
      ],
      "source": [
        "explore_reviews_csv_query = \"\"\"\n",
        "MERGE (cwedata:Extended_Descriptions {runtime:2992})\n",
        "MERGE (Entities:Entities {rawName:\"same-origin policy\"})\n",
        "MERGE (cwedata)-[:HAS_ENTITY]->(Entities)\n",
        "\n",
        "\"\"\"\n",
        "result = conn.query(explore_reviews_csv_query)\n",
        "print(result)"
      ]
    },
    {
      "cell_type": "code",
      "execution_count": 53,
      "metadata": {
        "id": "gLmOafNIRcVD",
        "colab": {
          "base_uri": "https://localhost:8080/"
        },
        "outputId": "acea6921-23d4-4d1c-f2c1-5ff5462ad36c"
      },
      "outputs": [
        {
          "output_type": "stream",
          "name": "stdout",
          "text": [
            "[]\n"
          ]
        }
      ],
      "source": [
        "explore_reviews_csv_query = \"\"\"\n",
        "MERGE (cwedata:Extended_Descriptions {runtime:2992})\n",
        "MERGE (Entities:Entities {rawName:\"scripts\"})\n",
        "MERGE (cwedata)-[:HAS_ENTITY]->(Entities)\n",
        "\n",
        "\"\"\"\n",
        "result = conn.query(explore_reviews_csv_query)\n",
        "print(result)"
      ]
    },
    {
      "cell_type": "code",
      "execution_count": 54,
      "metadata": {
        "id": "Ufh4XynaRl66",
        "colab": {
          "base_uri": "https://localhost:8080/"
        },
        "outputId": "e52fe329-e95f-41b2-cdef-3baa507ce486"
      },
      "outputs": [
        {
          "output_type": "stream",
          "name": "stdout",
          "text": [
            "[]\n"
          ]
        }
      ],
      "source": [
        "explore_reviews_csv_query = \"\"\"\n",
        "MERGE (cwedata:Extended_Descriptions {runtime:2992})\n",
        "MERGE (Entities:Entities {rawName:\"Type 1\"})\n",
        "MERGE (cwedata)-[:HAS_ENTITY]->(Entities)\n",
        "\n",
        "\"\"\"\n",
        "result = conn.query(explore_reviews_csv_query)\n",
        "print(result)"
      ]
    },
    {
      "cell_type": "code",
      "execution_count": 55,
      "metadata": {
        "id": "Z_6gx7j-RlrL",
        "colab": {
          "base_uri": "https://localhost:8080/"
        },
        "outputId": "f1c473fa-22dd-4542-f464-a5392c175b33"
      },
      "outputs": [
        {
          "output_type": "stream",
          "name": "stdout",
          "text": [
            "[]\n"
          ]
        }
      ],
      "source": [
        "explore_reviews_csv_query = \"\"\"\n",
        "MERGE (cwedata:Extended_Descriptions {runtime:2992})\n",
        "MERGE (Entities:Entities {rawName:\"Reflected XSS\"})\n",
        "MERGE (cwedata)-[:HAS_ENTITY]->(Entities)\n",
        "\n",
        "\"\"\"\n",
        "result = conn.query(explore_reviews_csv_query)\n",
        "print(result)"
      ]
    },
    {
      "cell_type": "code",
      "execution_count": 56,
      "metadata": {
        "id": "niHFAIQLRlmZ",
        "colab": {
          "base_uri": "https://localhost:8080/"
        },
        "outputId": "32eddb52-3925-4e71-802d-7f064597750e"
      },
      "outputs": [
        {
          "output_type": "stream",
          "name": "stdout",
          "text": [
            "[]\n"
          ]
        }
      ],
      "source": [
        "explore_reviews_csv_query = \"\"\"\n",
        "MERGE (cwedata:Extended_Descriptions {runtime:2992})\n",
        "MERGE (Entities:Entities {rawName:\"Persistent\"})\n",
        "MERGE (cwedata)-[:HAS_ENTITY]->(Entities)\n",
        "\n",
        "\"\"\"\n",
        "result = conn.query(explore_reviews_csv_query)\n",
        "print(result)"
      ]
    },
    {
      "cell_type": "code",
      "execution_count": 57,
      "metadata": {
        "id": "axItueCJRlWr",
        "colab": {
          "base_uri": "https://localhost:8080/"
        },
        "outputId": "f03c5adc-7158-44dc-bb90-990d1c0b5921"
      },
      "outputs": [
        {
          "output_type": "stream",
          "name": "stdout",
          "text": [
            "[]\n"
          ]
        }
      ],
      "source": [
        "explore_reviews_csv_query = \"\"\"\n",
        "MERGE (cwedata:Extended_Descriptions {runtime:2992})\n",
        "MERGE (Entities:Entities {rawName:\"HTTP request\"})\n",
        "MERGE (cwedata)-[:HAS_ENTITY]->(Entities)\n",
        "\n",
        "\"\"\"\n",
        "result = conn.query(explore_reviews_csv_query)\n",
        "print(result)"
      ]
    },
    {
      "cell_type": "code",
      "execution_count": 58,
      "metadata": {
        "id": "Uag8yv-zRlSI",
        "colab": {
          "base_uri": "https://localhost:8080/"
        },
        "outputId": "13f4b0bc-ca90-4f1c-bf62-c463af0864e0"
      },
      "outputs": [
        {
          "output_type": "stream",
          "name": "stdout",
          "text": [
            "[]\n"
          ]
        }
      ],
      "source": [
        "explore_reviews_csv_query = \"\"\"\n",
        "MERGE (cwedata:Extended_Descriptions {runtime:2992})\n",
        "MERGE (Entities:Entities {rawName:\"HTTP response\"})\n",
        "MERGE (cwedata)-[:HAS_ENTITY]->(Entities)\n",
        "\n",
        "\"\"\"\n",
        "result = conn.query(explore_reviews_csv_query)\n",
        "print(result)"
      ]
    },
    {
      "cell_type": "code",
      "execution_count": 59,
      "metadata": {
        "id": "Vx8uPVUZRlNd",
        "colab": {
          "base_uri": "https://localhost:8080/"
        },
        "outputId": "9c240081-6b7a-4e1e-c566-9ca7eac9c9c1"
      },
      "outputs": [
        {
          "output_type": "stream",
          "name": "stdout",
          "text": [
            "[]\n"
          ]
        }
      ],
      "source": [
        "explore_reviews_csv_query = \"\"\"\n",
        "MERGE (cwedata:Extended_Descriptions {runtime:2992})\n",
        "MERGE (Entities:Entities {rawName:\"exploits\"})\n",
        "MERGE (cwedata)-[:HAS_ENTITY]->(Entities)\n",
        "\n",
        "\"\"\"\n",
        "result = conn.query(explore_reviews_csv_query)\n",
        "print(result)"
      ]
    },
    {
      "cell_type": "code",
      "execution_count": 60,
      "metadata": {
        "id": "oMjjzdhGRq4P",
        "colab": {
          "base_uri": "https://localhost:8080/"
        },
        "outputId": "8302e77f-90e7-464e-89f2-af62a68c1d3e"
      },
      "outputs": [
        {
          "output_type": "stream",
          "name": "stdout",
          "text": [
            "[]\n"
          ]
        }
      ],
      "source": [
        "explore_reviews_csv_query = \"\"\"\n",
        "MERGE (cwedata:Extended_Descriptions {runtime:2992})\n",
        "MERGE (Entities:Entities {rawName:\"attacker\"})\n",
        "MERGE (cwedata)-[:HAS_ENTITY]->(Entities)\n",
        "\n",
        "\"\"\"\n",
        "result = conn.query(explore_reviews_csv_query)\n",
        "print(result)"
      ]
    },
    {
      "cell_type": "code",
      "execution_count": 61,
      "metadata": {
        "id": "PZUGJvXSRqm3",
        "colab": {
          "base_uri": "https://localhost:8080/"
        },
        "outputId": "02bcfda5-832f-4372-ea78-c1a1c787340e"
      },
      "outputs": [
        {
          "output_type": "stream",
          "name": "stdout",
          "text": [
            "[]\n"
          ]
        }
      ],
      "source": [
        "explore_reviews_csv_query = \"\"\"\n",
        "MERGE (cwedata:Extended_Descriptions {runtime:2992})\n",
        "MERGE (Entities:Entities {rawName:\"parameter\"})\n",
        "MERGE (cwedata)-[:HAS_ENTITY]->(Entities)\n",
        "\n",
        "\"\"\"\n",
        "result = conn.query(explore_reviews_csv_query)\n",
        "print(result)"
      ]
    },
    {
      "cell_type": "code",
      "execution_count": 62,
      "metadata": {
        "id": "ARr1YMTZRqh4",
        "colab": {
          "base_uri": "https://localhost:8080/"
        },
        "outputId": "e9d95659-2fea-4c3d-8e27-6a30093482ea"
      },
      "outputs": [
        {
          "output_type": "stream",
          "name": "stdout",
          "text": [
            "[]\n"
          ]
        }
      ],
      "source": [
        "explore_reviews_csv_query = \"\"\"\n",
        "MERGE (cwedata:Extended_Descriptions {runtime:2992})\n",
        "MERGE (Entities:Entities {rawName:\"URL\"})\n",
        "MERGE (cwedata)-[:HAS_ENTITY]->(Entities)\n",
        "\n",
        "\"\"\"\n",
        "result = conn.query(explore_reviews_csv_query)\n",
        "print(result)"
      ]
    },
    {
      "cell_type": "code",
      "execution_count": 63,
      "metadata": {
        "id": "yH5VykVNRqdA",
        "colab": {
          "base_uri": "https://localhost:8080/"
        },
        "outputId": "7250d08f-e7da-497a-edde-e0414ca25e8a"
      },
      "outputs": [
        {
          "output_type": "stream",
          "name": "stdout",
          "text": [
            "[]\n"
          ]
        }
      ],
      "source": [
        "explore_reviews_csv_query = \"\"\"\n",
        "MERGE (cwedata:Extended_Descriptions {runtime:2992})\n",
        "MERGE (Entities:Entities {rawName:\"e-mailed\"})\n",
        "MERGE (cwedata)-[:HAS_ENTITY]->(Entities)\n",
        "\n",
        "\"\"\"\n",
        "result = conn.query(explore_reviews_csv_query)\n",
        "print(result)"
      ]
    },
    {
      "cell_type": "code",
      "execution_count": 64,
      "metadata": {
        "id": "60X7FgPBS-Nm",
        "colab": {
          "base_uri": "https://localhost:8080/"
        },
        "outputId": "042f1808-d525-493a-b2c8-585447bb99c6"
      },
      "outputs": [
        {
          "output_type": "stream",
          "name": "stdout",
          "text": [
            "[]\n"
          ]
        }
      ],
      "source": [
        "explore_reviews_csv_query = \"\"\"\n",
        "MERGE (cwedata:Extended_Descriptions {runtime:2992})\n",
        "MERGE (Entities:Entities {rawName:\"URLs\"})\n",
        "MERGE (cwedata)-[:HAS_ENTITY]->(Entities)\n",
        "\n",
        "\"\"\"\n",
        "result = conn.query(explore_reviews_csv_query)\n",
        "print(result)"
      ]
    },
    {
      "cell_type": "code",
      "execution_count": 65,
      "metadata": {
        "id": "VcInHA6yS-HX",
        "colab": {
          "base_uri": "https://localhost:8080/"
        },
        "outputId": "17d17866-fda8-4a50-d75d-c1513cb81b0a"
      },
      "outputs": [
        {
          "output_type": "stream",
          "name": "stdout",
          "text": [
            "[]\n"
          ]
        }
      ],
      "source": [
        "explore_reviews_csv_query = \"\"\"\n",
        "MERGE (cwedata:Extended_Descriptions {runtime:2992})\n",
        "MERGE (Entities:Entities {rawName:\"phishing\"})\n",
        "MERGE (cwedata)-[:HAS_ENTITY]->(Entities)\n",
        "\n",
        "\"\"\"\n",
        "result = conn.query(explore_reviews_csv_query)\n",
        "print(result)"
      ]
    },
    {
      "cell_type": "code",
      "execution_count": 66,
      "metadata": {
        "id": "aYWCM_mDS-BP",
        "colab": {
          "base_uri": "https://localhost:8080/"
        },
        "outputId": "e43da208-878f-4b1f-9df6-b34d55000090"
      },
      "outputs": [
        {
          "output_type": "stream",
          "name": "stdout",
          "text": [
            "[]\n"
          ]
        }
      ],
      "source": [
        "explore_reviews_csv_query = \"\"\"\n",
        "MERGE (cwedata:Extended_Descriptions {runtime:2992})\n",
        "MERGE (Entities:Entities {rawName:\"browser\"})\n",
        "MERGE (cwedata)-[:HAS_ENTITY]->(Entities)\n",
        "\n",
        "\"\"\"\n",
        "result = conn.query(explore_reviews_csv_query)\n",
        "print(result)"
      ]
    },
    {
      "cell_type": "code",
      "execution_count": 67,
      "metadata": {
        "id": "hMXREtiFS97H",
        "colab": {
          "base_uri": "https://localhost:8080/"
        },
        "outputId": "594c4118-5303-4fc9-f6e6-33c9b590cb4f"
      },
      "outputs": [
        {
          "output_type": "stream",
          "name": "stdout",
          "text": [
            "[]\n"
          ]
        }
      ],
      "source": [
        "explore_reviews_csv_query = \"\"\"\n",
        "MERGE (cwedata:Extended_Descriptions {runtime:2992})\n",
        "MERGE (Entities:Entities {rawName:\"Type 2\"})\n",
        "MERGE (cwedata)-[:HAS_ENTITY]->(Entities)\n",
        "\n",
        "\"\"\"\n",
        "result = conn.query(explore_reviews_csv_query)\n",
        "print(result)"
      ]
    },
    {
      "cell_type": "code",
      "execution_count": 68,
      "metadata": {
        "id": "hiUnMEsZS9nJ",
        "colab": {
          "base_uri": "https://localhost:8080/"
        },
        "outputId": "1efd4655-72db-4340-f351-c5f921ca803e"
      },
      "outputs": [
        {
          "output_type": "stream",
          "name": "stdout",
          "text": [
            "[]\n"
          ]
        }
      ],
      "source": [
        "explore_reviews_csv_query = \"\"\"\n",
        "MERGE (cwedata:Extended_Descriptions {runtime:2992})\n",
        "MERGE (Entities:Entities {rawName:\"Stored XSS\"})\n",
        "MERGE (cwedata)-[:HAS_ENTITY]->(Entities)\n",
        "\n",
        "\"\"\"\n",
        "result = conn.query(explore_reviews_csv_query)\n",
        "print(result)"
      ]
    },
    {
      "cell_type": "code",
      "execution_count": 69,
      "metadata": {
        "id": "IXm7v5qwS9hH",
        "colab": {
          "base_uri": "https://localhost:8080/"
        },
        "outputId": "b997767d-2c45-44ae-b923-d0915ea06505"
      },
      "outputs": [
        {
          "output_type": "stream",
          "name": "stdout",
          "text": [
            "[]\n"
          ]
        }
      ],
      "source": [
        "explore_reviews_csv_query = \"\"\"\n",
        "MERGE (cwedata:Extended_Descriptions {runtime:2992})\n",
        "MERGE (Entities:Entities {rawName:\"visitor\"})\n",
        "MERGE (cwedata)-[:HAS_ENTITY]->(Entities)\n",
        "\n",
        "\"\"\"\n",
        "result = conn.query(explore_reviews_csv_query)\n",
        "print(result)"
      ]
    },
    {
      "cell_type": "code",
      "execution_count": 70,
      "metadata": {
        "id": "MesdvHaDS9a9",
        "colab": {
          "base_uri": "https://localhost:8080/"
        },
        "outputId": "6bf7b58e-e1d7-43bb-fa37-7e279ac11436"
      },
      "outputs": [
        {
          "output_type": "stream",
          "name": "stdout",
          "text": [
            "[]\n"
          ]
        }
      ],
      "source": [
        "explore_reviews_csv_query = \"\"\"\n",
        "MERGE (cwedata:Extended_Descriptions {runtime:2992})\n",
        "MERGE (Entities:Entities {rawName:\"data store\"})\n",
        "MERGE (cwedata)-[:HAS_ENTITY]->(Entities)\n",
        "\n",
        "\"\"\"\n",
        "result = conn.query(explore_reviews_csv_query)\n",
        "print(result)"
      ]
    },
    {
      "cell_type": "code",
      "execution_count": 71,
      "metadata": {
        "id": "4FqjOOuiTI3U",
        "colab": {
          "base_uri": "https://localhost:8080/"
        },
        "outputId": "b465620a-f44f-4c18-cc40-6926f3275589"
      },
      "outputs": [
        {
          "output_type": "stream",
          "name": "stdout",
          "text": [
            "[]\n"
          ]
        }
      ],
      "source": [
        "explore_reviews_csv_query = \"\"\"\n",
        "MERGE (cwedata:Extended_Descriptions {runtime:2992})\n",
        "MERGE (Entities:Entities {rawName:\"dynamic content\"})\n",
        "MERGE (cwedata)-[:HAS_ENTITY]->(Entities)\n",
        "\n",
        "\"\"\"\n",
        "result = conn.query(explore_reviews_csv_query)\n",
        "print(result)"
      ]
    },
    {
      "cell_type": "code",
      "execution_count": 72,
      "metadata": {
        "id": "ZjKAUGIlTInY",
        "colab": {
          "base_uri": "https://localhost:8080/"
        },
        "outputId": "5798e6c2-8af3-410f-faf4-3454dd40b502"
      },
      "outputs": [
        {
          "output_type": "stream",
          "name": "stdout",
          "text": [
            "[]\n"
          ]
        }
      ],
      "source": [
        "explore_reviews_csv_query = \"\"\"\n",
        "MERGE (cwedata:Extended_Descriptions {runtime:2992})\n",
        "MERGE (Entities:Entities {rawName:\"optimal\"})\n",
        "MERGE (cwedata)-[:HAS_ENTITY]->(Entities)\n",
        "\n",
        "\"\"\"\n",
        "result = conn.query(explore_reviews_csv_query)\n",
        "print(result)"
      ]
    },
    {
      "cell_type": "code",
      "execution_count": 73,
      "metadata": {
        "id": "iW4LgPZHTIg1",
        "colab": {
          "base_uri": "https://localhost:8080/"
        },
        "outputId": "95b5293e-b777-432c-c84f-68df21c40c5e"
      },
      "outputs": [
        {
          "output_type": "stream",
          "name": "stdout",
          "text": [
            "[]\n"
          ]
        }
      ],
      "source": [
        "explore_reviews_csv_query = \"\"\"\n",
        "MERGE (cwedata:Extended_Descriptions {runtime:2992})\n",
        "MERGE (Entities:Entities {rawName:\"inject\"})\n",
        "MERGE (cwedata)-[:HAS_ENTITY]->(Entities)\n",
        "\n",
        "\"\"\"\n",
        "result = conn.query(explore_reviews_csv_query)\n",
        "print(result)"
      ]
    },
    {
      "cell_type": "code",
      "execution_count": 74,
      "metadata": {
        "id": "ugJMY1PRTIQ9",
        "colab": {
          "base_uri": "https://localhost:8080/"
        },
        "outputId": "c7904ecd-320d-4075-ccf1-0153d9b89fd9"
      },
      "outputs": [
        {
          "output_type": "stream",
          "name": "stdout",
          "text": [
            "[]\n"
          ]
        }
      ],
      "source": [
        "explore_reviews_csv_query = \"\"\"\n",
        "MERGE (cwedata:Extended_Descriptions {runtime:2992})\n",
        "MERGE (Entities:Entities {rawName:\"Interesting\"})\n",
        "MERGE (cwedata)-[:HAS_ENTITY]->(Entities)\n",
        "\n",
        "\"\"\"\n",
        "result = conn.query(explore_reviews_csv_query)\n",
        "print(result)"
      ]
    },
    {
      "cell_type": "code",
      "execution_count": 75,
      "metadata": {
        "id": "W4uq-1m-TQNu",
        "colab": {
          "base_uri": "https://localhost:8080/"
        },
        "outputId": "6fc13f6b-f154-43d6-a157-88d1f9124a10"
      },
      "outputs": [
        {
          "output_type": "stream",
          "name": "stdout",
          "text": [
            "[]\n"
          ]
        }
      ],
      "source": [
        "explore_reviews_csv_query = \"\"\"\n",
        "MERGE (cwedata:Extended_Descriptions {runtime:2992})\n",
        "MERGE (Entities:Entities {rawName:\"privileges\"})\n",
        "MERGE (cwedata)-[:HAS_ENTITY]->(Entities)\n",
        "\n",
        "\"\"\"\n",
        "result = conn.query(explore_reviews_csv_query)\n",
        "print(result)"
      ]
    },
    {
      "cell_type": "code",
      "execution_count": 76,
      "metadata": {
        "id": "QYbyY26pTQEz",
        "colab": {
          "base_uri": "https://localhost:8080/"
        },
        "outputId": "5977cb1c-bd6c-4fc8-973a-ee2bd43a1837"
      },
      "outputs": [
        {
          "output_type": "stream",
          "name": "stdout",
          "text": [
            "[]\n"
          ]
        }
      ],
      "source": [
        "explore_reviews_csv_query = \"\"\"\n",
        "MERGE (cwedata:Extended_Descriptions {runtime:2992})\n",
        "MERGE (Entities:Entities {rawName:\"sensitive data\"})\n",
        "MERGE (cwedata)-[:HAS_ENTITY]->(Entities)\n",
        "\n",
        "\"\"\"\n",
        "result = conn.query(explore_reviews_csv_query)\n",
        "print(result)"
      ]
    },
    {
      "cell_type": "code",
      "execution_count": 77,
      "metadata": {
        "id": "GArvDet8TP8m",
        "colab": {
          "base_uri": "https://localhost:8080/"
        },
        "outputId": "9e273daf-a3bb-4dfa-c6b1-f2914ef7da05"
      },
      "outputs": [
        {
          "output_type": "stream",
          "name": "stdout",
          "text": [
            "[]\n"
          ]
        }
      ],
      "source": [
        "explore_reviews_csv_query = \"\"\"\n",
        "MERGE (cwedata:Extended_Descriptions {runtime:2992})\n",
        "MERGE (Entities:Entities {rawName:\"privileged\"})\n",
        "MERGE (cwedata)-[:HAS_ENTITY]->(Entities)\n",
        "\n",
        "\"\"\"\n",
        "result = conn.query(explore_reviews_csv_query)\n",
        "print(result)"
      ]
    },
    {
      "cell_type": "code",
      "execution_count": 78,
      "metadata": {
        "id": "xzuOnfXRTP1q",
        "colab": {
          "base_uri": "https://localhost:8080/"
        },
        "outputId": "1bb55b7e-ce62-477c-a00f-3810db0abe12"
      },
      "outputs": [
        {
          "output_type": "stream",
          "name": "stdout",
          "text": [
            "[]\n"
          ]
        }
      ],
      "source": [
        "explore_reviews_csv_query = \"\"\"\n",
        "MERGE (cwedata:Extended_Descriptions {runtime:2992})\n",
        "MERGE (Entities:Entities {rawName:\"gain access\"})\n",
        "MERGE (cwedata)-[:HAS_ENTITY]->(Entities)\n",
        "\n",
        "\"\"\"\n",
        "result = conn.query(explore_reviews_csv_query)\n",
        "print(result)"
      ]
    },
    {
      "cell_type": "code",
      "execution_count": 79,
      "metadata": {
        "id": "vSab3cl0TPns",
        "colab": {
          "base_uri": "https://localhost:8080/"
        },
        "outputId": "543e5b51-7797-4054-e72b-6a883155b062"
      },
      "outputs": [
        {
          "output_type": "stream",
          "name": "stdout",
          "text": [
            "[]\n"
          ]
        }
      ],
      "source": [
        "explore_reviews_csv_query = \"\"\"\n",
        "MERGE (cwedata:Extended_Descriptions {runtime:2992})\n",
        "MERGE (Entities:Entities {rawName:\"log message\"})\n",
        "MERGE (cwedata)-[:HAS_ENTITY]->(Entities)\n",
        "\n",
        "\"\"\"\n",
        "result = conn.query(explore_reviews_csv_query)\n",
        "print(result)"
      ]
    },
    {
      "cell_type": "code",
      "execution_count": 80,
      "metadata": {
        "id": "ExuCOQE1TPg0",
        "colab": {
          "base_uri": "https://localhost:8080/"
        },
        "outputId": "9b5068e7-b0d5-4c90-e126-bf2861e67924"
      },
      "outputs": [
        {
          "output_type": "stream",
          "name": "stdout",
          "text": [
            "[]\n"
          ]
        }
      ],
      "source": [
        "explore_reviews_csv_query = \"\"\"\n",
        "MERGE (cwedata:Extended_Descriptions {runtime:2992})\n",
        "MERGE (Entities:Entities {rawName:\"logs\"})\n",
        "MERGE (cwedata)-[:HAS_ENTITY]->(Entities)\n",
        "\n",
        "\"\"\"\n",
        "result = conn.query(explore_reviews_csv_query)\n",
        "print(result)"
      ]
    },
    {
      "cell_type": "code",
      "execution_count": 81,
      "metadata": {
        "id": "ntb6O28tTPVT",
        "colab": {
          "base_uri": "https://localhost:8080/"
        },
        "outputId": "f6ccee77-5bb6-42b5-f52b-009b83074790"
      },
      "outputs": [
        {
          "output_type": "stream",
          "name": "stdout",
          "text": [
            "[]\n"
          ]
        }
      ],
      "source": [
        "explore_reviews_csv_query = \"\"\"\n",
        "MERGE (cwedata:Extended_Descriptions {runtime:2992})\n",
        "MERGE (Entities:Entities {rawName:\"Type 0\"})\n",
        "MERGE (cwedata)-[:HAS_ENTITY]->(Entities)\n",
        "\n",
        "\"\"\"\n",
        "result = conn.query(explore_reviews_csv_query)\n",
        "print(result)"
      ]
    },
    {
      "cell_type": "code",
      "execution_count": 82,
      "metadata": {
        "id": "b6nJN1SPTPCz",
        "colab": {
          "base_uri": "https://localhost:8080/"
        },
        "outputId": "54a4d04d-2bfd-46c6-f41d-3f4f01eb4d41"
      },
      "outputs": [
        {
          "output_type": "stream",
          "name": "stdout",
          "text": [
            "[]\n"
          ]
        }
      ],
      "source": [
        "explore_reviews_csv_query = \"\"\"\n",
        "MERGE (cwedata:Extended_Descriptions {runtime:2992})\n",
        "MERGE (Entities:Entities {rawName:\"DOM\"})\n",
        "MERGE (cwedata)-[:HAS_ENTITY]->(Entities)\n",
        "\n",
        "\"\"\"\n",
        "result = conn.query(explore_reviews_csv_query)\n",
        "print(result)"
      ]
    },
    {
      "cell_type": "code",
      "execution_count": 83,
      "metadata": {
        "id": "GiBJxL-pTO6b",
        "colab": {
          "base_uri": "https://localhost:8080/"
        },
        "outputId": "ee7a0e22-2cc9-41c7-896c-4c20470ffa66"
      },
      "outputs": [
        {
          "output_type": "stream",
          "name": "stdout",
          "text": [
            "[]\n"
          ]
        }
      ],
      "source": [
        "explore_reviews_csv_query = \"\"\"\n",
        "MERGE (cwedata:Extended_Descriptions {runtime:2992})\n",
        "MERGE (Entities:Entities {rawName:\"Based\"})\n",
        "MERGE (cwedata)-[:HAS_ENTITY]->(Entities)\n",
        "\n",
        "\"\"\"\n",
        "result = conn.query(explore_reviews_csv_query)\n",
        "print(result)"
      ]
    },
    {
      "cell_type": "code",
      "execution_count": 84,
      "metadata": {
        "id": "JV58Xwv3X4oU",
        "colab": {
          "base_uri": "https://localhost:8080/"
        },
        "outputId": "d35cdd84-af70-4882-f353-f2bfb0447415"
      },
      "outputs": [
        {
          "output_type": "stream",
          "name": "stdout",
          "text": [
            "[]\n"
          ]
        }
      ],
      "source": [
        "explore_reviews_csv_query = \"\"\"\n",
        "MERGE (cwedata:Extended_Descriptions {runtime:2992})\n",
        "MERGE (Entities:Entities {rawName:\"performs\"})\n",
        "MERGE (cwedata)-[:HAS_ENTITY]->(Entities)\n",
        "\n",
        "\"\"\"\n",
        "result = conn.query(explore_reviews_csv_query)\n",
        "print(result)"
      ]
    },
    {
      "cell_type": "code",
      "execution_count": 85,
      "metadata": {
        "id": "pkhMx5ngX4fN",
        "colab": {
          "base_uri": "https://localhost:8080/"
        },
        "outputId": "2629cea6-5b93-4768-a468-a1e56fe67e56"
      },
      "outputs": [
        {
          "output_type": "stream",
          "name": "stdout",
          "text": [
            "[]\n"
          ]
        }
      ],
      "source": [
        "explore_reviews_csv_query = \"\"\"\n",
        "MERGE (cwedata:Extended_Descriptions {runtime:2992})\n",
        "MERGE (Entities:Entities {rawName:\"injection\"})\n",
        "MERGE (cwedata)-[:HAS_ENTITY]->(Entities)\n",
        "\n",
        "\"\"\"\n",
        "result = conn.query(explore_reviews_csv_query)\n",
        "print(result)"
      ]
    },
    {
      "cell_type": "code",
      "execution_count": 86,
      "metadata": {
        "id": "LcR27UhwX4WJ",
        "colab": {
          "base_uri": "https://localhost:8080/"
        },
        "outputId": "77b339a5-eb55-4f60-d23a-876f8eb751a2"
      },
      "outputs": [
        {
          "output_type": "stream",
          "name": "stdout",
          "text": [
            "[]\n"
          ]
        }
      ],
      "source": [
        "explore_reviews_csv_query = \"\"\"\n",
        "MERGE (cwedata:Extended_Descriptions {runtime:2992})\n",
        "MERGE (Entities:Entities {rawName:\"Javascript\"})\n",
        "MERGE (cwedata)-[:HAS_ENTITY]->(Entities)\n",
        "\n",
        "\"\"\"\n",
        "result = conn.query(explore_reviews_csv_query)\n",
        "print(result)"
      ]
    },
    {
      "cell_type": "code",
      "execution_count": 87,
      "metadata": {
        "id": "Bn7OlSaxX4NQ",
        "colab": {
          "base_uri": "https://localhost:8080/"
        },
        "outputId": "b6fe9ee3-ffc3-4600-a599-6377380803f4"
      },
      "outputs": [
        {
          "output_type": "stream",
          "name": "stdout",
          "text": [
            "[]\n"
          ]
        }
      ],
      "source": [
        "explore_reviews_csv_query = \"\"\"\n",
        "MERGE (cwedata:Extended_Descriptions {runtime:2992})\n",
        "MERGE (Entities:Entities {rawName:\"sanity\"})\n",
        "MERGE (cwedata)-[:HAS_ENTITY]->(Entities)\n",
        "\n",
        "\"\"\"\n",
        "result = conn.query(explore_reviews_csv_query)\n",
        "print(result)"
      ]
    },
    {
      "cell_type": "code",
      "execution_count": 88,
      "metadata": {
        "id": "uJK71QtoX4EM",
        "colab": {
          "base_uri": "https://localhost:8080/"
        },
        "outputId": "0ebb128b-cd6e-4430-a0c6-caf91e0a721a"
      },
      "outputs": [
        {
          "output_type": "stream",
          "name": "stdout",
          "text": [
            "[]\n"
          ]
        }
      ],
      "source": [
        "explore_reviews_csv_query = \"\"\"\n",
        "MERGE (cwedata:Extended_Descriptions {runtime:2992})\n",
        "MERGE (Entities:Entities {rawName:\"injects\"})\n",
        "MERGE (cwedata)-[:HAS_ENTITY]->(Entities)\n",
        "\n",
        "\"\"\"\n",
        "result = conn.query(explore_reviews_csv_query)\n",
        "print(result)"
      ]
    },
    {
      "cell_type": "code",
      "execution_count": 89,
      "metadata": {
        "id": "uRbrgsnfX37M",
        "colab": {
          "base_uri": "https://localhost:8080/"
        },
        "outputId": "6cf667d5-7a1d-41e3-e713-7df95b2cdbfe"
      },
      "outputs": [
        {
          "output_type": "stream",
          "name": "stdout",
          "text": [
            "[]\n"
          ]
        }
      ],
      "source": [
        "explore_reviews_csv_query = \"\"\"\n",
        "MERGE (cwedata:Extended_Descriptions {runtime:2992})\n",
        "MERGE (Entities:Entities {rawName:\"dynamic HTML\"})\n",
        "MERGE (cwedata)-[:HAS_ENTITY]->(Entities)\n",
        "\n",
        "\"\"\"\n",
        "result = conn.query(explore_reviews_csv_query)\n",
        "print(result)"
      ]
    },
    {
      "cell_type": "code",
      "execution_count": 90,
      "metadata": {
        "id": "n9qgHjxzX3e_",
        "colab": {
          "base_uri": "https://localhost:8080/"
        },
        "outputId": "cb2b24ef-51b9-49bf-f039-c26d353a1caa"
      },
      "outputs": [
        {
          "output_type": "stream",
          "name": "stdout",
          "text": [
            "[]\n"
          ]
        }
      ],
      "source": [
        "explore_reviews_csv_query = \"\"\"\n",
        "MERGE (cwedata:Extended_Descriptions {runtime:2992})\n",
        "MERGE (Entities:Entities {rawName:\"private information\"})\n",
        "MERGE (cwedata)-[:HAS_ENTITY]->(Entities)\n",
        "\n",
        "\"\"\"\n",
        "result = conn.query(explore_reviews_csv_query)\n",
        "print(result)"
      ]
    },
    {
      "cell_type": "code",
      "execution_count": 91,
      "metadata": {
        "id": "Jm6oAOh5X3WG",
        "colab": {
          "base_uri": "https://localhost:8080/"
        },
        "outputId": "e97c8dd2-bc98-48e7-ddc6-781310f5b93e"
      },
      "outputs": [
        {
          "output_type": "stream",
          "name": "stdout",
          "text": [
            "[]\n"
          ]
        }
      ],
      "source": [
        "explore_reviews_csv_query = \"\"\"\n",
        "MERGE (cwedata:Extended_Descriptions {runtime:2992})\n",
        "MERGE (Entities:Entities {rawName:\"web site\"})\n",
        "MERGE (cwedata)-[:HAS_ENTITY]->(Entities)\n",
        "\n",
        "\"\"\"\n",
        "result = conn.query(explore_reviews_csv_query)\n",
        "print(result)"
      ]
    },
    {
      "cell_type": "code",
      "execution_count": 92,
      "metadata": {
        "id": "59g45ZzOX3NA",
        "colab": {
          "base_uri": "https://localhost:8080/"
        },
        "outputId": "56797a58-d504-4c54-f6cb-34ea5b83acb6"
      },
      "outputs": [
        {
          "output_type": "stream",
          "name": "stdout",
          "text": [
            "[]\n"
          ]
        }
      ],
      "source": [
        "explore_reviews_csv_query = \"\"\"\n",
        "MERGE (cwedata:Extended_Descriptions {runtime:2992})\n",
        "MERGE (Entities:Entities {rawName:\"administrator privileges\"})\n",
        "MERGE (cwedata)-[:HAS_ENTITY]->(Entities)\n",
        "\n",
        "\"\"\"\n",
        "result = conn.query(explore_reviews_csv_query)\n",
        "print(result)"
      ]
    },
    {
      "cell_type": "code",
      "execution_count": 93,
      "metadata": {
        "id": "QKFvaGEIYFaF",
        "colab": {
          "base_uri": "https://localhost:8080/"
        },
        "outputId": "ccfe6c98-399a-4ed8-91f4-098558c54721"
      },
      "outputs": [
        {
          "output_type": "stream",
          "name": "stdout",
          "text": [
            "[]\n"
          ]
        }
      ],
      "source": [
        "explore_reviews_csv_query = \"\"\"\n",
        "MERGE (cwedata:Extended_Descriptions {runtime:2992})\n",
        "MERGE (Entities:Entities {rawName:\"Phishing attacks\"})\n",
        "MERGE (cwedata)-[:HAS_ENTITY]->(Entities)\n",
        "\n",
        "\"\"\"\n",
        "result = conn.query(explore_reviews_csv_query)\n",
        "print(result)"
      ]
    },
    {
      "cell_type": "code",
      "execution_count": 94,
      "metadata": {
        "id": "vqPT8clcYFP-",
        "colab": {
          "base_uri": "https://localhost:8080/"
        },
        "outputId": "44d9b01b-f453-46ac-bfc6-6e02b68ba873"
      },
      "outputs": [
        {
          "output_type": "stream",
          "name": "stdout",
          "text": [
            "[]\n"
          ]
        }
      ],
      "source": [
        "explore_reviews_csv_query = \"\"\"\n",
        "MERGE (cwedata:Extended_Descriptions {runtime:2992})\n",
        "MERGE (Entities:Entities {rawName:\"emulate\"})\n",
        "MERGE (cwedata)-[:HAS_ENTITY]->(Entities)\n",
        "\n",
        "\"\"\"\n",
        "result = conn.query(explore_reviews_csv_query)\n",
        "print(result)"
      ]
    },
    {
      "cell_type": "code",
      "execution_count": 95,
      "metadata": {
        "id": "wWKUTpzgYFF-",
        "colab": {
          "base_uri": "https://localhost:8080/"
        },
        "outputId": "4e1c17eb-2c81-47ff-8eb4-a10a61299997"
      },
      "outputs": [
        {
          "output_type": "stream",
          "name": "stdout",
          "text": [
            "[]\n"
          ]
        }
      ],
      "source": [
        "explore_reviews_csv_query = \"\"\"\n",
        "MERGE (cwedata:Extended_Descriptions {runtime:2992})\n",
        "MERGE (Entities:Entities {rawName:\"web sites\"})\n",
        "MERGE (cwedata)-[:HAS_ENTITY]->(Entities)\n",
        "\n",
        "\"\"\"\n",
        "result = conn.query(explore_reviews_csv_query)\n",
        "print(result)"
      ]
    },
    {
      "cell_type": "code",
      "execution_count": 96,
      "metadata": {
        "id": "S3zNzeHdYEyT",
        "colab": {
          "base_uri": "https://localhost:8080/"
        },
        "outputId": "b53df00c-a4e6-41ce-bd29-1dff97c578e7"
      },
      "outputs": [
        {
          "output_type": "stream",
          "name": "stdout",
          "text": [
            "[]\n"
          ]
        }
      ],
      "source": [
        "explore_reviews_csv_query = \"\"\"\n",
        "MERGE (cwedata:Extended_Descriptions {runtime:2992})\n",
        "MERGE (Entities:Entities {rawName:\"Finally\"})\n",
        "MERGE (cwedata)-[:HAS_ENTITY]->(Entities)\n",
        "\n",
        "\"\"\"\n",
        "result = conn.query(explore_reviews_csv_query)\n",
        "print(result)"
      ]
    },
    {
      "cell_type": "code",
      "execution_count": 97,
      "metadata": {
        "id": "xGgazzaDYEor",
        "colab": {
          "base_uri": "https://localhost:8080/"
        },
        "outputId": "77810062-76ea-4e15-eb55-2176a8bc0738"
      },
      "outputs": [
        {
          "output_type": "stream",
          "name": "stdout",
          "text": [
            "[]\n"
          ]
        }
      ],
      "source": [
        "explore_reviews_csv_query = \"\"\"\n",
        "MERGE (cwedata:Extended_Descriptions {runtime:2992})\n",
        "MERGE (Entities:Entities {rawName:\"exploit\"})\n",
        "MERGE (cwedata)-[:HAS_ENTITY]->(Entities)\n",
        "\n",
        "\"\"\"\n",
        "result = conn.query(explore_reviews_csv_query)\n",
        "print(result)"
      ]
    },
    {
      "cell_type": "code",
      "execution_count": 98,
      "metadata": {
        "id": "obUcNvicYEfA",
        "colab": {
          "base_uri": "https://localhost:8080/"
        },
        "outputId": "82a21f23-6772-4c93-cb85-4f22cfa11ae0"
      },
      "outputs": [
        {
          "output_type": "stream",
          "name": "stdout",
          "text": [
            "[]\n"
          ]
        }
      ],
      "source": [
        "explore_reviews_csv_query = \"\"\"\n",
        "MERGE (cwedata:Extended_Descriptions {runtime:2992})\n",
        "MERGE (Entities:Entities {rawName:\"vulnerability\"})\n",
        "MERGE (cwedata)-[:HAS_ENTITY]->(Entities)\n",
        "\n",
        "\"\"\"\n",
        "result = conn.query(explore_reviews_csv_query)\n",
        "print(result)"
      ]
    },
    {
      "cell_type": "code",
      "execution_count": 99,
      "metadata": {
        "id": "RTYoj2KGYEVL",
        "colab": {
          "base_uri": "https://localhost:8080/"
        },
        "outputId": "24c50370-a726-40d6-f36f-7b7699ae4a55"
      },
      "outputs": [
        {
          "output_type": "stream",
          "name": "stdout",
          "text": [
            "[]\n"
          ]
        }
      ],
      "source": [
        "explore_reviews_csv_query = \"\"\"\n",
        "MERGE (cwedata:Extended_Descriptions {runtime:2992})\n",
        "MERGE (Entities:Entities {rawName:\"drive-by\"})\n",
        "MERGE (cwedata)-[:HAS_ENTITY]->(Entities)\n",
        "\n",
        "\"\"\"\n",
        "result = conn.query(explore_reviews_csv_query)\n",
        "print(result)"
      ]
    },
    {
      "cell_type": "code",
      "execution_count": 100,
      "metadata": {
        "id": "PHNu4lnnYECa",
        "colab": {
          "base_uri": "https://localhost:8080/"
        },
        "outputId": "83e03f7c-dec6-4040-8ba9-2a6fb7b83e49"
      },
      "outputs": [
        {
          "output_type": "stream",
          "name": "stdout",
          "text": [
            "[]\n"
          ]
        }
      ],
      "source": [
        "explore_reviews_csv_query = \"\"\"\n",
        "MERGE (cwedata:Extended_Descriptions {runtime:2992})\n",
        "MERGE (Entities:Entities {rawName:\"hacking\"})\n",
        "MERGE (cwedata)-[:HAS_ENTITY]->(Entities)\n",
        "\n",
        "\"\"\"\n",
        "result = conn.query(explore_reviews_csv_query)\n",
        "print(result)"
      ]
    },
    {
      "cell_type": "code",
      "execution_count": 101,
      "metadata": {
        "id": "QT3hOtHsYD40",
        "colab": {
          "base_uri": "https://localhost:8080/"
        },
        "outputId": "953b04a7-5469-4ff3-9d69-dda022355bea"
      },
      "outputs": [
        {
          "output_type": "stream",
          "name": "stdout",
          "text": [
            "[]\n"
          ]
        }
      ],
      "source": [
        "explore_reviews_csv_query = \"\"\"\n",
        "MERGE (cwedata:Extended_Descriptions {runtime:2992})\n",
        "MERGE (Entities:Entities {rawName:\"attackers\"})\n",
        "MERGE (cwedata)-[:HAS_ENTITY]->(Entities)\n",
        "\n",
        "\"\"\"\n",
        "result = conn.query(explore_reviews_csv_query)\n",
        "print(result)"
      ]
    },
    {
      "cell_type": "code",
      "execution_count": 102,
      "metadata": {
        "id": "jT3Kbpz0Z2Z7",
        "colab": {
          "base_uri": "https://localhost:8080/"
        },
        "outputId": "014288b7-f545-4ded-ffa3-99189f817634"
      },
      "outputs": [
        {
          "output_type": "stream",
          "name": "stdout",
          "text": [
            "[]\n"
          ]
        }
      ],
      "source": [
        "explore_reviews_csv_query = \"\"\"\n",
        "MERGE (cwedata:Extended_Descriptions {runtime:2992})\n",
        "MERGE (Entities:Entities {rawName:\"variety of methods\"})\n",
        "MERGE (cwedata)-[:HAS_ENTITY]->(Entities)\n",
        "\n",
        "\"\"\"\n",
        "result = conn.query(explore_reviews_csv_query)\n",
        "print(result)"
      ]
    },
    {
      "cell_type": "code",
      "execution_count": 103,
      "metadata": {
        "id": "Imm3EoEHZ2FE",
        "colab": {
          "base_uri": "https://localhost:8080/"
        },
        "outputId": "16b6bdfb-a4b2-4b1b-df91-7718e9b8ff4c"
      },
      "outputs": [
        {
          "output_type": "stream",
          "name": "stdout",
          "text": [
            "[]\n"
          ]
        }
      ],
      "source": [
        "explore_reviews_csv_query = \"\"\"\n",
        "MERGE (cwedata:Extended_Descriptions {runtime:2992})\n",
        "MERGE (Entities:Entities {rawName:\"encode\"})\n",
        "MERGE (cwedata)-[:HAS_ENTITY]->(Entities)\n",
        "\n",
        "\"\"\"\n",
        "result = conn.query(explore_reviews_csv_query)\n",
        "print(result)"
      ]
    },
    {
      "cell_type": "code",
      "execution_count": 104,
      "metadata": {
        "id": "fo4IJcg8Z1t_",
        "colab": {
          "base_uri": "https://localhost:8080/"
        },
        "outputId": "b14817d0-0824-48dd-9a5d-ef8c78e8c9c3"
      },
      "outputs": [
        {
          "output_type": "stream",
          "name": "stdout",
          "text": [
            "[]\n"
          ]
        }
      ],
      "source": [
        "explore_reviews_csv_query = \"\"\"\n",
        "MERGE (cwedata:Extended_Descriptions {runtime:2992})\n",
        "MERGE (Entities:Entities {rawName:\"URL encoding\"})\n",
        "MERGE (cwedata)-[:HAS_ENTITY]->(Entities)\n",
        "\n",
        "\"\"\"\n",
        "result = conn.query(explore_reviews_csv_query)\n",
        "print(result)"
      ]
    },
    {
      "cell_type": "code",
      "execution_count": 105,
      "metadata": {
        "id": "XDWUOPZfZ1Ws",
        "colab": {
          "base_uri": "https://localhost:8080/"
        },
        "outputId": "a42dfc17-0d8e-48af-b24c-d9ac7c133eb2"
      },
      "outputs": [
        {
          "output_type": "stream",
          "name": "stdout",
          "text": [
            "[]\n"
          ]
        }
      ],
      "source": [
        "explore_reviews_csv_query = \"\"\"\n",
        "MERGE (cwedata:Extended_Descriptions {runtime:2992})\n",
        "MERGE (Entities:Entities {rawName:\"Unicode\"})\n",
        "MERGE (cwedata)-[:HAS_ENTITY]->(Entities)\n",
        "\n",
        "\"\"\"\n",
        "result = conn.query(explore_reviews_csv_query)\n",
        "print(result)"
      ]
    },
    {
      "cell_type": "code",
      "execution_count": 106,
      "metadata": {
        "id": "uipuN-NGaXml",
        "colab": {
          "base_uri": "https://localhost:8080/"
        },
        "outputId": "64e41f9b-b318-4c1f-cc11-7d145463782e"
      },
      "outputs": [
        {
          "output_type": "stream",
          "name": "stdout",
          "text": [
            "[]\n"
          ]
        }
      ],
      "source": [
        "explore_reviews_csv_query = \"\"\"\n",
        "MERGE (cwedata:Extended_Descriptions {runtime:2992})\n",
        "MERGE (Entities:Entities {rawName:\"submits\"})\n",
        "MERGE (cwedata)-[:HAS_ENTITY]->(Entities)\n",
        "\n",
        "\"\"\"\n",
        "result = conn.query(explore_reviews_csv_query)\n",
        "print(result)"
      ]
    },
    {
      "cell_type": "code",
      "execution_count": 107,
      "metadata": {
        "id": "TemT9-v5aXOn",
        "colab": {
          "base_uri": "https://localhost:8080/"
        },
        "outputId": "910739d0-9927-479b-db6d-f2e0be9f8b71"
      },
      "outputs": [
        {
          "output_type": "stream",
          "name": "stdout",
          "text": [
            "[]\n"
          ]
        }
      ],
      "source": [
        "explore_reviews_csv_query = \"\"\"\n",
        "MERGE (cwedata:Extended_Descriptions {runtime:2992})\n",
        "MERGE (Entities:Entities {rawName:\"executable\"})\n",
        "MERGE (cwedata)-[:HAS_ENTITY]->(Entities)\n",
        "\n",
        "\"\"\"\n",
        "result = conn.query(explore_reviews_csv_query)\n",
        "print(result)"
      ]
    },
    {
      "cell_type": "code",
      "execution_count": 108,
      "metadata": {
        "id": "BwKV3J10aWxz",
        "colab": {
          "base_uri": "https://localhost:8080/"
        },
        "outputId": "32825867-c41d-4a6b-a953-1653528e369d"
      },
      "outputs": [
        {
          "output_type": "stream",
          "name": "stdout",
          "text": [
            "[]\n"
          ]
        }
      ],
      "source": [
        "explore_reviews_csv_query = \"\"\"\n",
        "MERGE (cwedata:Extended_Descriptions {runtime:2992})\n",
        "MERGE (Entities:Entities {rawName:\"untrusted\"})\n",
        "MERGE (cwedata)-[:HAS_ENTITY]->(Entities)\n",
        "\n",
        "\"\"\"\n",
        "result = conn.query(explore_reviews_csv_query)\n",
        "print(result)"
      ]
    },
    {
      "cell_type": "code",
      "execution_count": 109,
      "metadata": {
        "id": "7L81EhCOqj60",
        "colab": {
          "base_uri": "https://localhost:8080/"
        },
        "outputId": "078c78db-6418-4aaf-8a51-4f3dbc7ddd2c"
      },
      "outputs": [
        {
          "output_type": "stream",
          "name": "stdout",
          "text": [
            "[]\n"
          ]
        }
      ],
      "source": [
        "explore_reviews_csv_query = \"\"\"\n",
        "MERGE (cwe:CWE {cwe_id:\"89\"})\n",
        "MERGE (cwedata:Extended_Descriptions {runtime:691})\n",
        "MERGE (cwe)-[:MAPPED_WITH]->(cwedata)\n",
        "MERGE (cwedata)-[:HAS_GLOBAL_CATEGORY{weight:0.019997397708562056,source:\"wikipedia-en\",category:\"Data-centric programming languages\",page_id:925067}]->(cwe)\n",
        "MERGE (cwedata)-[:HAS_GLOBAL_CATEGORY{weight:0.009998698833835067,source:\"wikipedia-en\",category:\"Command and control\",page_id:13460558}]->(cwe)\n",
        "\n",
        "\"\"\"\n",
        "result = conn.query(explore_reviews_csv_query)\n",
        "print(result)"
      ]
    },
    {
      "cell_type": "code",
      "execution_count": 110,
      "metadata": {
        "id": "b88zBe-oHdR9",
        "colab": {
          "base_uri": "https://localhost:8080/"
        },
        "outputId": "dd3e5de7-a5af-4cc4-ee01-77df135584a9"
      },
      "outputs": [
        {
          "output_type": "stream",
          "name": "stdout",
          "text": [
            "[]\n"
          ]
        }
      ],
      "source": [
        "explore_reviews_csv_query = \"\"\"\n",
        "CALL apoc.load.json(\"https://raw.githubusercontent.com/neostrange/CveParse/main/Extended_Descriptions.json\", null, {failOnError:false})\n",
        "YIELD value\n",
        "WITH value  AS data\n",
        "WITH data\n",
        "UNWIND data.Extended_Descriptions[1].CWE.entities as Entities\n",
        "MERGE (entities:Entities{rawName:Entities.`rawName`})\n",
        "  SET \n",
        "   entities.offsetStart = Entities.offsetStart,\n",
        "   entities.offsetEnd = Entities.offsetEnd,\n",
        "   entities.confidence_score = Entities.confidence_score,\n",
        "   entities.wikipediaExternalRef = Entities.wikipediaExternalRef,\n",
        "   entities.wikidataId = Entities.wikidataId\n",
        "\n",
        "\"\"\"\n",
        "result = conn.query(explore_reviews_csv_query)\n",
        "print(result)"
      ]
    },
    {
      "cell_type": "code",
      "execution_count": 111,
      "metadata": {
        "id": "bPEACnsCaxvT",
        "colab": {
          "base_uri": "https://localhost:8080/"
        },
        "outputId": "a6382937-5790-4120-c70a-6e4d9841b856"
      },
      "outputs": [
        {
          "output_type": "stream",
          "name": "stdout",
          "text": [
            "[]\n"
          ]
        }
      ],
      "source": [
        "explore_reviews_csv_query = \"\"\"\n",
        "MERGE (cwedata:Extended_Descriptions {runtime:691})\n",
        "MERGE (Entities: Entities {rawName:\"quoting\"})\n",
        "MERGE (cwedata)-[:HAS_ENTITY]->(Entities)\n",
        "\n",
        "\"\"\"\n",
        "result = conn.query(explore_reviews_csv_query)\n",
        "print(result)"
      ]
    },
    {
      "cell_type": "code",
      "execution_count": 112,
      "metadata": {
        "id": "P1-o_IWua8r7",
        "colab": {
          "base_uri": "https://localhost:8080/"
        },
        "outputId": "4ac2a58b-832c-41d5-fbc9-38db7f5d9580"
      },
      "outputs": [
        {
          "output_type": "stream",
          "name": "stdout",
          "text": [
            "[]\n"
          ]
        }
      ],
      "source": [
        "explore_reviews_csv_query = \"\"\"\n",
        "MERGE (cwedata:Extended_Descriptions {runtime:691})\n",
        "MERGE (Entities:Entities {rawName:\"SQL syntax\"})\n",
        "MERGE (cwedata)-[:HAS_ENTITY]->(Entities)\n",
        "\n",
        "\"\"\"\n",
        "result = conn.query(explore_reviews_csv_query)\n",
        "print(result)"
      ]
    },
    {
      "cell_type": "code",
      "execution_count": 113,
      "metadata": {
        "id": "FULjeSALa8Ud",
        "colab": {
          "base_uri": "https://localhost:8080/"
        },
        "outputId": "9b012922-c728-40fc-aecf-3b488ec6f90a"
      },
      "outputs": [
        {
          "output_type": "stream",
          "name": "stdout",
          "text": [
            "[]\n"
          ]
        }
      ],
      "source": [
        "explore_reviews_csv_query = \"\"\"\n",
        "MERGE (cwedata:Extended_Descriptions {runtime:691})\n",
        "MERGE (Entities:Entities {rawName:\"controllable\"})\n",
        "MERGE (cwedata)-[:HAS_ENTITY]->(Entities)\n",
        "\n",
        "\"\"\"\n",
        "result = conn.query(explore_reviews_csv_query)\n",
        "print(result)"
      ]
    },
    {
      "cell_type": "code",
      "execution_count": 114,
      "metadata": {
        "id": "5xRKxCPda78P",
        "colab": {
          "base_uri": "https://localhost:8080/"
        },
        "outputId": "0cf02a98-26c3-4721-f522-b27ad8fa3e71"
      },
      "outputs": [
        {
          "output_type": "stream",
          "name": "stdout",
          "text": [
            "[]\n"
          ]
        }
      ],
      "source": [
        "explore_reviews_csv_query = \"\"\"\n",
        "MERGE (cwedata:Extended_Descriptions {runtime:691})\n",
        "MERGE (Entities:Entities {rawName: \"inputs\"})\n",
        "MERGE (cwedata)-[:HAS_ENTITY]->(Entities)\n",
        "\n",
        "\"\"\"\n",
        "result = conn.query(explore_reviews_csv_query)\n",
        "print(result)"
      ]
    },
    {
      "cell_type": "code",
      "execution_count": 115,
      "metadata": {
        "id": "gTR_Tvb7a6zs",
        "colab": {
          "base_uri": "https://localhost:8080/"
        },
        "outputId": "0bb04ec7-0ec6-4f0c-afee-ac4d9e1063c9"
      },
      "outputs": [
        {
          "output_type": "stream",
          "name": "stdout",
          "text": [
            "[]\n"
          ]
        }
      ],
      "source": [
        "explore_reviews_csv_query = \"\"\"\n",
        "MERGE (cwedata:Extended_Descriptions {runtime:691})\n",
        "MERGE (Entities:Entities {rawName: \"SQL query\"})\n",
        "MERGE (cwedata)-[:HAS_ENTITY]->(Entities)\n",
        "\n",
        "\"\"\"\n",
        "result = conn.query(explore_reviews_csv_query)\n",
        "print(result)"
      ]
    },
    {
      "cell_type": "code",
      "execution_count": 116,
      "metadata": {
        "id": "s2gMEoP-a6l3",
        "colab": {
          "base_uri": "https://localhost:8080/"
        },
        "outputId": "f508cb6c-0569-4de5-cd8f-ad2e1e61faa9"
      },
      "outputs": [
        {
          "output_type": "stream",
          "name": "stdout",
          "text": [
            "[]\n"
          ]
        }
      ],
      "source": [
        "explore_reviews_csv_query = \"\"\"\n",
        "MERGE (cwedata:Extended_Descriptions {runtime:691})\n",
        "MERGE (Entities:Entities {rawName: \"interpreted\"})\n",
        "MERGE (cwedata)-[:HAS_ENTITY]->(Entities)\n",
        "\n",
        "\"\"\"\n",
        "result = conn.query(explore_reviews_csv_query)\n",
        "print(result)"
      ]
    },
    {
      "cell_type": "code",
      "execution_count": 117,
      "metadata": {
        "id": "LflKi3N2a6YD",
        "colab": {
          "base_uri": "https://localhost:8080/"
        },
        "outputId": "e9f2b65c-35b0-4889-dd20-084c17166158"
      },
      "outputs": [
        {
          "output_type": "stream",
          "name": "stdout",
          "text": [
            "[]\n"
          ]
        }
      ],
      "source": [
        "explore_reviews_csv_query = \"\"\"\n",
        "MERGE (cwedata:Extended_Descriptions {runtime:691})\n",
        "MERGE (Entities:Entities {rawName: \"SQL\"})\n",
        "MERGE (cwedata)-[:HAS_ENTITY]->(Entities)\n",
        "\n",
        "\"\"\"\n",
        "result = conn.query(explore_reviews_csv_query)\n",
        "print(result)"
      ]
    },
    {
      "cell_type": "code",
      "execution_count": 118,
      "metadata": {
        "id": "txN-xxFBa6J4",
        "colab": {
          "base_uri": "https://localhost:8080/"
        },
        "outputId": "e642549b-1219-4d76-9238-be6ad3c4abbb"
      },
      "outputs": [
        {
          "output_type": "stream",
          "name": "stdout",
          "text": [
            "[]\n"
          ]
        }
      ],
      "source": [
        "explore_reviews_csv_query = \"\"\"\n",
        "MERGE (cwedata:Extended_Descriptions {runtime:691})\n",
        "MERGE (Entities:Entities {rawName: \"user data\"})\n",
        "MERGE (cwedata)-[:HAS_ENTITY]->(Entities)\n",
        "\n",
        "\"\"\"\n",
        "result = conn.query(explore_reviews_csv_query)\n",
        "print(result)"
      ]
    },
    {
      "cell_type": "code",
      "execution_count": 119,
      "metadata": {
        "id": "mWHdeVRXa5x2",
        "colab": {
          "base_uri": "https://localhost:8080/"
        },
        "outputId": "a303c3b9-37d7-4797-b271-5b9886cc05ba"
      },
      "outputs": [
        {
          "output_type": "stream",
          "name": "stdout",
          "text": [
            "[]\n"
          ]
        }
      ],
      "source": [
        "explore_reviews_csv_query = \"\"\"\n",
        "MERGE (cwedata:Extended_Descriptions {runtime:691})\n",
        "MERGE (Entities:Entities {rawName: \"query\"})\n",
        "MERGE (cwedata)-[:HAS_ENTITY]->(Entities)\n",
        "\n",
        "\"\"\"\n",
        "result = conn.query(explore_reviews_csv_query)\n",
        "print(result)"
      ]
    },
    {
      "cell_type": "code",
      "execution_count": 120,
      "metadata": {
        "id": "L4Cbn54Wa5j-",
        "colab": {
          "base_uri": "https://localhost:8080/"
        },
        "outputId": "1727fe26-bcd0-4745-e98a-97084ca59d74"
      },
      "outputs": [
        {
          "output_type": "stream",
          "name": "stdout",
          "text": [
            "[]\n"
          ]
        }
      ],
      "source": [
        "explore_reviews_csv_query = \"\"\"\n",
        "MERGE (cwedata:Extended_Descriptions {runtime:691})\n",
        "MERGE (Entities:Entities {rawName: \"bypass\"})\n",
        "MERGE (cwedata)-[:HAS_ENTITY]->(Entities)\n",
        "\n",
        "\"\"\"\n",
        "result = conn.query(explore_reviews_csv_query)\n",
        "print(result)"
      ]
    },
    {
      "cell_type": "code",
      "execution_count": 121,
      "metadata": {
        "id": "PLIaYsOBa5V_",
        "colab": {
          "base_uri": "https://localhost:8080/"
        },
        "outputId": "d955d6de-d5d2-4a37-ce44-1dec83798e5b"
      },
      "outputs": [
        {
          "output_type": "stream",
          "name": "stdout",
          "text": [
            "[]\n"
          ]
        }
      ],
      "source": [
        "explore_reviews_csv_query = \"\"\"\n",
        "MERGE (cwedata:Extended_Descriptions {runtime:691})\n",
        "MERGE (Entities:Entities {rawName: \"security checks\"})\n",
        "MERGE (cwedata)-[:HAS_ENTITY]->(Entities)\n",
        "\n",
        "\"\"\"\n",
        "result = conn.query(explore_reviews_csv_query)\n",
        "print(result)"
      ]
    },
    {
      "cell_type": "code",
      "execution_count": 122,
      "metadata": {
        "id": "RfpOt2vgYUmU",
        "colab": {
          "base_uri": "https://localhost:8080/"
        },
        "outputId": "b7c4d383-878b-4b8b-ff7e-5e97f2adc508"
      },
      "outputs": [
        {
          "output_type": "stream",
          "name": "stdout",
          "text": [
            "[]\n"
          ]
        }
      ],
      "source": [
        "explore_reviews_csv_query = \"\"\"\n",
        "MERGE (cwedata:Extended_Descriptions {runtime:691})\n",
        "MERGE (Entities:Entities {rawName: \"insert\"})\n",
        "MERGE (cwedata)-[:HAS_ENTITY]->(Entities)\n",
        "\n",
        "\"\"\"\n",
        "result = conn.query(explore_reviews_csv_query)\n",
        "print(result)"
      ]
    },
    {
      "cell_type": "code",
      "execution_count": 123,
      "metadata": {
        "id": "HBbEWUl1YUf3",
        "colab": {
          "base_uri": "https://localhost:8080/"
        },
        "outputId": "abb28664-68c4-4a58-afe4-7c9825a84de9"
      },
      "outputs": [
        {
          "output_type": "stream",
          "name": "stdout",
          "text": [
            "[]\n"
          ]
        }
      ],
      "source": [
        "explore_reviews_csv_query = \"\"\"\n",
        "MERGE (cwedata:Extended_Descriptions {runtime:691})\n",
        "MERGE (Entities:Entities {rawName: \"modify\"})\n",
        "MERGE (cwedata)-[:HAS_ENTITY]->(Entities)\n",
        "\n",
        "\"\"\"\n",
        "result = conn.query(explore_reviews_csv_query)\n",
        "print(result)"
      ]
    },
    {
      "cell_type": "code",
      "execution_count": 124,
      "metadata": {
        "id": "Ln7F82zjYUYY",
        "colab": {
          "base_uri": "https://localhost:8080/"
        },
        "outputId": "90cf59ee-d037-4233-c136-536d3404bb10"
      },
      "outputs": [
        {
          "output_type": "stream",
          "name": "stdout",
          "text": [
            "[]\n"
          ]
        }
      ],
      "source": [
        "explore_reviews_csv_query = \"\"\"\n",
        "MERGE (cwedata:Extended_Descriptions {runtime:691})\n",
        "MERGE (Entities:Entities {rawName: \"back-end database\"})\n",
        "MERGE (cwedata)-[:HAS_ENTITY]->(Entities)\n",
        "\n",
        "\"\"\"\n",
        "result = conn.query(explore_reviews_csv_query)\n",
        "print(result)"
      ]
    },
    {
      "cell_type": "code",
      "execution_count": 125,
      "metadata": {
        "id": "QMFMevCFYUQg",
        "colab": {
          "base_uri": "https://localhost:8080/"
        },
        "outputId": "dc004b0b-a1ab-4f4a-b64c-c757e685ea7b"
      },
      "outputs": [
        {
          "output_type": "stream",
          "name": "stdout",
          "text": [
            "[]\n"
          ]
        }
      ],
      "source": [
        "explore_reviews_csv_query = \"\"\"\n",
        "MERGE (cwedata:Extended_Descriptions {runtime:691})\n",
        "MERGE (Entities:Entities {rawName: \"commands\"})\n",
        "MERGE (cwedata)-[:HAS_ENTITY]->(Entities)\n",
        "\n",
        "\"\"\"\n",
        "result = conn.query(explore_reviews_csv_query)\n",
        "print(result)"
      ]
    },
    {
      "cell_type": "code",
      "execution_count": 126,
      "metadata": {
        "id": "t0Jeu1SdYUH_",
        "colab": {
          "base_uri": "https://localhost:8080/"
        },
        "outputId": "32644e27-01f4-4929-cf2d-8745c647cb78"
      },
      "outputs": [
        {
          "output_type": "stream",
          "name": "stdout",
          "text": [
            "[]\n"
          ]
        }
      ],
      "source": [
        "explore_reviews_csv_query = \"\"\"\n",
        "MERGE (cwedata:Extended_Descriptions {runtime:691})\n",
        "MERGE (Entities:Entities {rawName: \"SQL injection\"})\n",
        "MERGE (cwedata)-[:HAS_ENTITY]->(Entities)\n",
        "\n",
        "\"\"\"\n",
        "result = conn.query(explore_reviews_csv_query)\n",
        "print(result)"
      ]
    },
    {
      "cell_type": "code",
      "execution_count": 127,
      "metadata": {
        "id": "9H_0ss1TYT_g",
        "colab": {
          "base_uri": "https://localhost:8080/"
        },
        "outputId": "d418f76a-a723-46dc-f1ad-0e97c925fe0c"
      },
      "outputs": [
        {
          "output_type": "stream",
          "name": "stdout",
          "text": [
            "[]\n"
          ]
        }
      ],
      "source": [
        "explore_reviews_csv_query = \"\"\"\n",
        "MERGE (cwedata:Extended_Descriptions {runtime:691})\n",
        "MERGE (Entities:Entities {rawName: \"database-driven\"})\n",
        "MERGE (cwedata)-[:HAS_ENTITY]->(Entities)\n",
        "\n",
        "\"\"\"\n",
        "result = conn.query(explore_reviews_csv_query)\n",
        "print(result)"
      ]
    },
    {
      "cell_type": "code",
      "execution_count": 128,
      "metadata": {
        "id": "NPhir1DHYT15",
        "colab": {
          "base_uri": "https://localhost:8080/"
        },
        "outputId": "f50c3a14-4abe-41d1-d2c4-7bfb208ca0a1"
      },
      "outputs": [
        {
          "output_type": "stream",
          "name": "stdout",
          "text": [
            "[]\n"
          ]
        }
      ],
      "source": [
        "explore_reviews_csv_query = \"\"\"\n",
        "MERGE (cwedata:Extended_Descriptions {runtime:691})\n",
        "MERGE (Entities:Entities {rawName: \"web sites\"})\n",
        "MERGE (cwedata)-[:HAS_ENTITY]->(Entities)\n",
        "\n",
        "\"\"\"\n",
        "result = conn.query(explore_reviews_csv_query)\n",
        "print(result)"
      ]
    },
    {
      "cell_type": "code",
      "execution_count": 129,
      "metadata": {
        "id": "e4CxeljFYjgU",
        "colab": {
          "base_uri": "https://localhost:8080/"
        },
        "outputId": "b52e0962-2137-4dbe-ff00-82d6d0eb792b"
      },
      "outputs": [
        {
          "output_type": "stream",
          "name": "stdout",
          "text": [
            "[]\n"
          ]
        }
      ],
      "source": [
        "explore_reviews_csv_query = \"\"\"\n",
        "MERGE (cwedata:Extended_Descriptions {runtime:691})\n",
        "MERGE (Entities:Entities {rawName: \"flaw\"})\n",
        "MERGE (cwedata)-[:HAS_ENTITY]->(Entities)\n",
        "\n",
        "\"\"\"\n",
        "result = conn.query(explore_reviews_csv_query)\n",
        "print(result)"
      ]
    },
    {
      "cell_type": "code",
      "execution_count": 130,
      "metadata": {
        "id": "WmZiJhOXYko2",
        "colab": {
          "base_uri": "https://localhost:8080/"
        },
        "outputId": "fabda636-c9d9-4ac3-ce21-cea5f741b6d5"
      },
      "outputs": [
        {
          "output_type": "stream",
          "name": "stdout",
          "text": [
            "[]\n"
          ]
        }
      ],
      "source": [
        "explore_reviews_csv_query = \"\"\"\n",
        "MERGE (cwedata:Extended_Descriptions {runtime:691})\n",
        "MERGE (Entities:Entities {rawName: \"exploited\"})\n",
        "MERGE (cwedata)-[:HAS_ENTITY]->(Entities)\n",
        "\n",
        "\"\"\"\n",
        "result = conn.query(explore_reviews_csv_query)\n",
        "print(result)"
      ]
    },
    {
      "cell_type": "code",
      "execution_count": 131,
      "metadata": {
        "id": "GKD9yXs6YjNy",
        "colab": {
          "base_uri": "https://localhost:8080/"
        },
        "outputId": "43340f74-d89d-45b7-ae91-8490b2694cb4"
      },
      "outputs": [
        {
          "output_type": "stream",
          "name": "stdout",
          "text": [
            "[]\n"
          ]
        }
      ],
      "source": [
        "explore_reviews_csv_query = \"\"\"\n",
        "MERGE (cwedata:Extended_Descriptions {runtime:691})\n",
        "MERGE (Entities:Entities {rawName: \"software package\"})\n",
        "MERGE (cwedata)-[:HAS_ENTITY]->(Entities)\n",
        "\n",
        "\"\"\"\n",
        "result = conn.query(explore_reviews_csv_query)\n",
        "print(result)"
      ]
    },
    {
      "cell_type": "code",
      "execution_count": 132,
      "metadata": {
        "id": "DeF7lGrNYi93",
        "colab": {
          "base_uri": "https://localhost:8080/"
        },
        "outputId": "95c26da7-bbeb-4917-b608-364319788510"
      },
      "outputs": [
        {
          "output_type": "stream",
          "name": "stdout",
          "text": [
            "[]\n"
          ]
        }
      ],
      "source": [
        "explore_reviews_csv_query = \"\"\"\n",
        "MERGE (cwedata:Extended_Descriptions {runtime:691})\n",
        "MERGE (Entities:Entities {rawName: \"user base\"})\n",
        "MERGE (cwedata)-[:HAS_ENTITY]->(Entities)\n",
        "\n",
        "\"\"\"\n",
        "result = conn.query(explore_reviews_csv_query)\n",
        "print(result)"
      ]
    },
    {
      "cell_type": "code",
      "execution_count": 133,
      "metadata": {
        "id": "PkhWIl3tqnoG",
        "colab": {
          "base_uri": "https://localhost:8080/"
        },
        "outputId": "9908450d-9ab5-40bf-ed26-32301e6eec16"
      },
      "outputs": [
        {
          "output_type": "stream",
          "name": "stdout",
          "text": [
            "[]\n"
          ]
        }
      ],
      "source": [
        "explore_reviews_csv_query = \"\"\"\n",
        "MERGE (cwe:CWE {cwe_id:\"94\"})\n",
        "MERGE (cwedata:Extended_Descriptions {runtime:833})\n",
        "MERGE (cwe)-[:MAPPED_WITH]->(cwedata)\n",
        "MERGE (cwedata)-[:HAS_GLOBAL_CATEGORY{weight:0.0901926432383948,source:\"wikipedia-en\",category:\"Computer security exploits\",page_id:22272764}]->(cwe)\n",
        "MERGE (cwedata)-[:HAS_GLOBAL_CATEGORY{weight:0.06764448218898413,source:\"wikipedia-en\",category:\"Hacking (computer security)\",page_id:11647669}]->(cwe)\n",
        "MERGE (cwedata)-[:HAS_GLOBAL_CATEGORY{weight:0.022548160729661378,source:\"wikipedia-en\",category:\"Programming language topics\",page_id:5699671}]->(cwe)\n",
        "\n",
        "\"\"\"\n",
        "result = conn.query(explore_reviews_csv_query)\n",
        "print(result)"
      ]
    },
    {
      "cell_type": "code",
      "execution_count": 134,
      "metadata": {
        "id": "5p7fR7f9IUuc",
        "colab": {
          "base_uri": "https://localhost:8080/"
        },
        "outputId": "bf30758f-c342-4272-ecae-74b62bac3264"
      },
      "outputs": [
        {
          "output_type": "stream",
          "name": "stdout",
          "text": [
            "[]\n"
          ]
        }
      ],
      "source": [
        "explore_reviews_csv_query = \"\"\"\n",
        "CALL apoc.load.json(\"https://raw.githubusercontent.com/neostrange/CveParse/main/Extended_Descriptions.json\", null, {failOnError:false})\n",
        "YIELD value\n",
        "WITH value  AS data\n",
        "WITH data\n",
        "UNWIND data.Extended_Descriptions[2].CWE.entities as Entities\n",
        "MERGE (entities:Entities{rawName:Entities.`rawName`})\n",
        "  SET \n",
        "   entities.offsetStart = Entities.offsetStart,\n",
        "   entities.offsetEnd = Entities.offsetEnd,\n",
        "   entities.confidence_score = Entities.confidence_score,\n",
        "   entities.wikipediaExternalRef = Entities.wikipediaExternalRef,\n",
        "   entities.wikidataId = Entities.wikidataId\n",
        "\n",
        "\"\"\"\n",
        "result = conn.query(explore_reviews_csv_query)\n",
        "print(result)"
      ]
    },
    {
      "cell_type": "code",
      "execution_count": 135,
      "metadata": {
        "id": "GdLpeHbgbQPT",
        "colab": {
          "base_uri": "https://localhost:8080/"
        },
        "outputId": "1f820cbd-e6e4-49bf-ea20-73beb1224b6b"
      },
      "outputs": [
        {
          "output_type": "stream",
          "name": "stdout",
          "text": [
            "[]\n"
          ]
        }
      ],
      "source": [
        "explore_reviews_csv_query = \"\"\"\n",
        "MERGE (cwedata:Extended_Descriptions {runtime: 833})\n",
        "MERGE (Entities:Entities {rawName: \"syntax\"})\n",
        "MERGE (cwedata)-[:HAS_ENTITY]->(Entities)\n",
        "\n",
        "\"\"\"\n",
        "result = conn.query(explore_reviews_csv_query)\n",
        "print(result)"
      ]
    },
    {
      "cell_type": "code",
      "execution_count": 136,
      "metadata": {
        "id": "YQbTFcRWbSRv",
        "colab": {
          "base_uri": "https://localhost:8080/"
        },
        "outputId": "e32b2fc1-15b6-44f4-8377-0a6119cdcd48"
      },
      "outputs": [
        {
          "output_type": "stream",
          "name": "stdout",
          "text": [
            "[]\n"
          ]
        }
      ],
      "source": [
        "explore_reviews_csv_query = \"\"\"\n",
        "MERGE (cwedata:Extended_Descriptions {runtime: 833})\n",
        "MERGE (Entities:Entities {rawName: \"attacker\"})\n",
        "MERGE (cwedata)-[:HAS_ENTITY]->(Entities)\n",
        "\n",
        "\"\"\"\n",
        "result = conn.query(explore_reviews_csv_query)\n",
        "print(result)"
      ]
    },
    {
      "cell_type": "code",
      "execution_count": 137,
      "metadata": {
        "id": "LUjBZi75bR08",
        "colab": {
          "base_uri": "https://localhost:8080/"
        },
        "outputId": "95649758-103f-498e-f355-c00d672f6b80"
      },
      "outputs": [
        {
          "output_type": "stream",
          "name": "stdout",
          "text": [
            "[]\n"
          ]
        }
      ],
      "source": [
        "explore_reviews_csv_query = \"\"\"\n",
        "MERGE (cwedata:Extended_Descriptions {runtime: 833})\n",
        "MERGE (Entities:Entities {rawName: \"control flow\"})\n",
        "MERGE (cwedata)-[:HAS_ENTITY]->(Entities)\n",
        "\n",
        "\"\"\"\n",
        "result = conn.query(explore_reviews_csv_query)\n",
        "print(result)"
      ]
    },
    {
      "cell_type": "code",
      "execution_count": 138,
      "metadata": {
        "id": "CPVz-IYoijva",
        "colab": {
          "base_uri": "https://localhost:8080/"
        },
        "outputId": "fd64dc4e-e4f0-4821-a38f-8cc0ca8d9f9e"
      },
      "outputs": [
        {
          "output_type": "stream",
          "name": "stdout",
          "text": [
            "[]\n"
          ]
        }
      ],
      "source": [
        "explore_reviews_csv_query = \"\"\"\n",
        "MERGE (cwedata:Extended_Descriptions {runtime: 833})\n",
        "MERGE (Entities:Entities {rawName: \"alteration\"})\n",
        "MERGE (cwedata)-[:HAS_ENTITY]->(Entities)\n",
        "\n",
        "\"\"\"\n",
        "result = conn.query(explore_reviews_csv_query)\n",
        "print(result)"
      ]
    },
    {
      "cell_type": "code",
      "execution_count": 139,
      "metadata": {
        "id": "fa6GjVdAijsE",
        "colab": {
          "base_uri": "https://localhost:8080/"
        },
        "outputId": "bffe8b0c-835e-47ce-8071-938830395762"
      },
      "outputs": [
        {
          "output_type": "stream",
          "name": "stdout",
          "text": [
            "[]\n"
          ]
        }
      ],
      "source": [
        "explore_reviews_csv_query = \"\"\"\n",
        "MERGE (cwedata:Extended_Descriptions {runtime: 833})\n",
        "MERGE (Entities:Entities {rawName: \"arbitrary code execution\"})\n",
        "MERGE (cwedata)-[:HAS_ENTITY]->(Entities)\n",
        "\n",
        "\"\"\"\n",
        "result = conn.query(explore_reviews_csv_query)\n",
        "print(result)"
      ]
    },
    {
      "cell_type": "code",
      "execution_count": 140,
      "metadata": {
        "id": "9mGZ5SmDijo-",
        "colab": {
          "base_uri": "https://localhost:8080/"
        },
        "outputId": "6e3e8e08-bc19-48bd-90b5-1b24a9a141fe"
      },
      "outputs": [
        {
          "output_type": "stream",
          "name": "stdout",
          "text": [
            "[]\n"
          ]
        }
      ],
      "source": [
        "explore_reviews_csv_query = \"\"\"\n",
        "MERGE (cwedata:Extended_Descriptions {runtime: 833})\n",
        "MERGE (Entities:Entities {rawName: \"Injection\"})\n",
        "MERGE (cwedata)-[:HAS_ENTITY]->(Entities)\n",
        "\n",
        "\"\"\"\n",
        "result = conn.query(explore_reviews_csv_query)\n",
        "print(result)"
      ]
    },
    {
      "cell_type": "code",
      "execution_count": 141,
      "metadata": {
        "id": "esTBbvRaijmJ",
        "colab": {
          "base_uri": "https://localhost:8080/"
        },
        "outputId": "474d6695-df61-4d89-fb13-730aec5c89cd"
      },
      "outputs": [
        {
          "output_type": "stream",
          "name": "stdout",
          "text": [
            "[]\n"
          ]
        }
      ],
      "source": [
        "explore_reviews_csv_query = \"\"\"\n",
        "MERGE (cwedata:Extended_Descriptions {runtime: 833})\n",
        "MERGE (Entities:Entities {rawName: \"wide variety\"})\n",
        "MERGE (cwedata)-[:HAS_ENTITY]->(Entities)\n",
        "\n",
        "\"\"\"\n",
        "result = conn.query(explore_reviews_csv_query)\n",
        "print(result)"
      ]
    },
    {
      "cell_type": "code",
      "execution_count": 142,
      "metadata": {
        "id": "7U9hs8VUijiz",
        "colab": {
          "base_uri": "https://localhost:8080/"
        },
        "outputId": "2afbf812-a290-4257-f6d1-c3d485c37a5f"
      },
      "outputs": [
        {
          "output_type": "stream",
          "name": "stdout",
          "text": [
            "[]\n"
          ]
        }
      ],
      "source": [
        "explore_reviews_csv_query = \"\"\"\n",
        "MERGE (cwedata:Extended_Descriptions {runtime: 833})\n",
        "MERGE (Entities:Entities {rawName: \"mitigated\"})\n",
        "MERGE (cwedata)-[:HAS_ENTITY]->(Entities)\n",
        "\n",
        "\"\"\"\n",
        "result = conn.query(explore_reviews_csv_query)\n",
        "print(result)"
      ]
    },
    {
      "cell_type": "code",
      "execution_count": 143,
      "metadata": {
        "id": "HKiVd7DhijgI",
        "colab": {
          "base_uri": "https://localhost:8080/"
        },
        "outputId": "fecc8f62-567b-4530-f457-18a4af0efb40"
      },
      "outputs": [
        {
          "output_type": "stream",
          "name": "stdout",
          "text": [
            "[]\n"
          ]
        }
      ],
      "source": [
        "explore_reviews_csv_query = \"\"\"\n",
        "MERGE (cwedata:Extended_Descriptions {runtime: 833})\n",
        "MERGE (Entities:Entities {rawName: \"weaknesses\"})\n",
        "MERGE (cwedata)-[:HAS_ENTITY]->(Entities)\n",
        "\n",
        "\"\"\"\n",
        "result = conn.query(explore_reviews_csv_query)\n",
        "print(result)"
      ]
    },
    {
      "cell_type": "code",
      "execution_count": 144,
      "metadata": {
        "id": "qvnuconcijcu",
        "colab": {
          "base_uri": "https://localhost:8080/"
        },
        "outputId": "758ddcd0-72e8-47b6-c8a7-47167ff81380"
      },
      "outputs": [
        {
          "output_type": "stream",
          "name": "stdout",
          "text": [
            "[]\n"
          ]
        }
      ],
      "source": [
        "explore_reviews_csv_query = \"\"\"\n",
        "MERGE (cwedata:Extended_Descriptions {runtime: 833})\n",
        "MERGE (Entities:Entities {rawName: \"classify\"})\n",
        "MERGE (cwedata)-[:HAS_ENTITY]->(Entities)\n",
        "\n",
        "\"\"\"\n",
        "result = conn.query(explore_reviews_csv_query)\n",
        "print(result)"
      ]
    },
    {
      "cell_type": "code",
      "execution_count": 145,
      "metadata": {
        "id": "wA-y3JQgijX6",
        "colab": {
          "base_uri": "https://localhost:8080/"
        },
        "outputId": "ca95c5f7-130b-4c96-88e8-b5eccb8f8a5c"
      },
      "outputs": [
        {
          "output_type": "stream",
          "name": "stdout",
          "text": [
            "[]\n"
          ]
        }
      ],
      "source": [
        "explore_reviews_csv_query = \"\"\"\n",
        "MERGE (cwedata:Extended_Descriptions {runtime: 833})\n",
        "MERGE (Entities:Entities {rawName: \"injection\"})\n",
        "MERGE (cwedata)-[:HAS_ENTITY]->(Entities)\n",
        "\n",
        "\"\"\"\n",
        "result = conn.query(explore_reviews_csv_query)\n",
        "print(result)"
      ]
    },
    {
      "cell_type": "code",
      "execution_count": 146,
      "metadata": {
        "id": "vFVgzkyeijVQ",
        "colab": {
          "base_uri": "https://localhost:8080/"
        },
        "outputId": "30795f92-c71f-48de-f14c-f952112377a9"
      },
      "outputs": [
        {
          "output_type": "stream",
          "name": "stdout",
          "text": [
            "[]\n"
          ]
        }
      ],
      "source": [
        "explore_reviews_csv_query = \"\"\"\n",
        "MERGE (cwedata:Extended_Descriptions {runtime: 833})\n",
        "MERGE (Entities:Entities {rawName: \"control plane\"})\n",
        "MERGE (cwedata)-[:HAS_ENTITY]->(Entities)\n",
        "\n",
        "\"\"\"\n",
        "result = conn.query(explore_reviews_csv_query)\n",
        "print(result)"
      ]
    },
    {
      "cell_type": "code",
      "execution_count": 147,
      "metadata": {
        "id": "wwvew0ZIijSn",
        "colab": {
          "base_uri": "https://localhost:8080/"
        },
        "outputId": "5f97d15b-de7d-47b5-8d98-f42bf07810b9"
      },
      "outputs": [
        {
          "output_type": "stream",
          "name": "stdout",
          "text": [
            "[]\n"
          ]
        }
      ],
      "source": [
        "explore_reviews_csv_query = \"\"\"\n",
        "MERGE (cwedata:Extended_Descriptions {runtime: 833})\n",
        "MERGE (Entities:Entities {rawName: \"controlled data\"})\n",
        "MERGE (cwedata)-[:HAS_ENTITY]->(Entities)\n",
        "\n",
        "\"\"\"\n",
        "result = conn.query(explore_reviews_csv_query)\n",
        "print(result)"
      ]
    },
    {
      "cell_type": "code",
      "execution_count": 148,
      "metadata": {
        "id": "kYx-6eSiijPV",
        "colab": {
          "base_uri": "https://localhost:8080/"
        },
        "outputId": "e1a40034-bd61-4edd-8101-e2d82dd26654"
      },
      "outputs": [
        {
          "output_type": "stream",
          "name": "stdout",
          "text": [
            "[]\n"
          ]
        }
      ],
      "source": [
        "explore_reviews_csv_query = \"\"\"\n",
        "MERGE (cwedata:Extended_Descriptions {runtime: 833})\n",
        "MERGE (Entities:Entities {rawName: \"data channels\"})\n",
        "MERGE (cwedata)-[:HAS_ENTITY]->(Entities)\n",
        "\n",
        "\"\"\"\n",
        "result = conn.query(explore_reviews_csv_query)\n",
        "print(result)"
      ]
    },
    {
      "cell_type": "code",
      "execution_count": 149,
      "metadata": {
        "id": "1OHqXds_ijMA",
        "colab": {
          "base_uri": "https://localhost:8080/"
        },
        "outputId": "cac7faf5-ea04-41a4-843d-dde92c2f11c0"
      },
      "outputs": [
        {
          "output_type": "stream",
          "name": "stdout",
          "text": [
            "[]\n"
          ]
        }
      ],
      "source": [
        "explore_reviews_csv_query = \"\"\"\n",
        "MERGE (cwedata:Extended_Descriptions {runtime: 833})\n",
        "MERGE (Entities:Entities {rawName: \"buffer overflows\"})\n",
        "MERGE (cwedata)-[:HAS_ENTITY]->(Entities)\n",
        "\n",
        "\"\"\"\n",
        "result = conn.query(explore_reviews_csv_query)\n",
        "print(result)"
      ]
    },
    {
      "cell_type": "code",
      "execution_count": 150,
      "metadata": {
        "id": "JDAiRDkVbRk8",
        "colab": {
          "base_uri": "https://localhost:8080/"
        },
        "outputId": "d409e036-6281-48e6-9fc4-4ecffb9451a5"
      },
      "outputs": [
        {
          "output_type": "stream",
          "name": "stdout",
          "text": [
            "[]\n"
          ]
        }
      ],
      "source": [
        "explore_reviews_csv_query = \"\"\"\n",
        "MERGE (cwedata:Extended_Descriptions {runtime: 833})\n",
        "MERGE (Entities:Entities {rawName: \"flaws\"})\n",
        "MERGE (cwedata)-[:HAS_ENTITY]->(Entities)\n",
        "\n",
        "\"\"\"\n",
        "result = conn.query(explore_reviews_csv_query)\n",
        "print(result)"
      ]
    },
    {
      "cell_type": "code",
      "execution_count": 151,
      "metadata": {
        "id": "FHLNbMk6lew2",
        "colab": {
          "base_uri": "https://localhost:8080/"
        },
        "outputId": "8e2ac1b2-997c-4864-969e-3ef8c8f0a62c"
      },
      "outputs": [
        {
          "output_type": "stream",
          "name": "stdout",
          "text": [
            "[]\n"
          ]
        }
      ],
      "source": [
        "explore_reviews_csv_query = \"\"\"\n",
        "MERGE (cwedata:Extended_Descriptions {runtime: 833})\n",
        "MERGE (Entities:Entities {rawName: \"parsed\"})\n",
        "MERGE (cwedata)-[:HAS_ENTITY]->(Entities)\n",
        "\n",
        "\"\"\"\n",
        "result = conn.query(explore_reviews_csv_query)\n",
        "print(result)"
      ]
    },
    {
      "cell_type": "code",
      "execution_count": 152,
      "metadata": {
        "id": "Q8WqqdT3lmSD",
        "colab": {
          "base_uri": "https://localhost:8080/"
        },
        "outputId": "6eeaa47a-91b8-4be8-c5d5-763c8f8d0ec1"
      },
      "outputs": [
        {
          "output_type": "stream",
          "name": "stdout",
          "text": [
            "[]\n"
          ]
        }
      ],
      "source": [
        "explore_reviews_csv_query = \"\"\"\n",
        "MERGE (cwedata:Extended_Descriptions {runtime: 833})\n",
        "MERGE (Entities:Entities {rawName: \"instantiations\"})\n",
        "MERGE (cwedata)-[:HAS_ENTITY]->(Entities)\n",
        "\n",
        "\"\"\"\n",
        "result = conn.query(explore_reviews_csv_query)\n",
        "print(result)"
      ]
    },
    {
      "cell_type": "code",
      "execution_count": 153,
      "metadata": {
        "id": "_1IxmXG2lmDb",
        "colab": {
          "base_uri": "https://localhost:8080/"
        },
        "outputId": "bacc262c-d50b-446a-85f4-bd0b135c99bd"
      },
      "outputs": [
        {
          "output_type": "stream",
          "name": "stdout",
          "text": [
            "[]\n"
          ]
        }
      ],
      "source": [
        "explore_reviews_csv_query = \"\"\"\n",
        "MERGE (cwedata:Extended_Descriptions {runtime: 833})\n",
        "MERGE (Entities:Entities {rawName: \"SQL injection\"})\n",
        "MERGE (cwedata)-[:HAS_ENTITY]->(Entities)\n",
        "\n",
        "\"\"\"\n",
        "result = conn.query(explore_reviews_csv_query)\n",
        "print(result)"
      ]
    },
    {
      "cell_type": "code",
      "execution_count": 154,
      "metadata": {
        "id": "7kxNzBnrll2X",
        "colab": {
          "base_uri": "https://localhost:8080/"
        },
        "outputId": "cbc63e4c-063e-4daa-864c-7f56cc1451bd"
      },
      "outputs": [
        {
          "output_type": "stream",
          "name": "stdout",
          "text": [
            "[]\n"
          ]
        }
      ],
      "source": [
        "explore_reviews_csv_query = \"\"\"\n",
        "MERGE (cwedata:Extended_Descriptions {runtime: 833})\n",
        "MERGE (Entities:Entities {rawName: \"format string vulnerabilities\"})\n",
        "MERGE (cwedata)-[:HAS_ENTITY]->(Entities)\n",
        "\n",
        "\"\"\"\n",
        "result = conn.query(explore_reviews_csv_query)\n",
        "print(result)"
      ]
    },
    {
      "cell_type": "code",
      "execution_count": 155,
      "metadata": {
        "id": "x6kQFPSkqo2q",
        "colab": {
          "base_uri": "https://localhost:8080/"
        },
        "outputId": "404e9ece-bb37-46f6-cf2b-58f63249a992"
      },
      "outputs": [
        {
          "output_type": "stream",
          "name": "stdout",
          "text": [
            "[]\n"
          ]
        }
      ],
      "source": [
        "explore_reviews_csv_query = \"\"\"\n",
        "MERGE (cwe:CWE {cwe_id:\"200\"})\n",
        "MERGE (cwedata:Extended_Descriptions {runtime:1302})\n",
        "MERGE (cwe)-[:MAPPED_WITH]->(cwedata)\n",
        "MERGE (cwedata)-[:HAS_GLOBAL_CATEGORY{weight:0.009935460988123061,source:\"wikipedia-en\",category:\"Construction\",page_id:755979}]->(cwe)\n",
        "MERGE (cwedata)-[:HAS_GLOBAL_CATEGORY{weight:0.009935460988123061,source:\"wikipedia-en\",category:\"File sharing\",page_id:802056}]->(cwe)\n",
        "\n",
        "\"\"\"\n",
        "result = conn.query(explore_reviews_csv_query)\n",
        "print(result)"
      ]
    },
    {
      "cell_type": "code",
      "execution_count": 156,
      "metadata": {
        "id": "oC33BGS3IXRe",
        "colab": {
          "base_uri": "https://localhost:8080/"
        },
        "outputId": "84e1f55c-bd29-463f-9192-acfe9c4d68a2"
      },
      "outputs": [
        {
          "output_type": "stream",
          "name": "stdout",
          "text": [
            "[]\n"
          ]
        }
      ],
      "source": [
        "explore_reviews_csv_query = \"\"\"\n",
        "CALL apoc.load.json(\"https://raw.githubusercontent.com/neostrange/CveParse/main/Extended_Descriptions.json\", null, {failOnError:false})\n",
        "YIELD value\n",
        "WITH value  AS data\n",
        "WITH data\n",
        "UNWIND data.Extended_Descriptions[3].CWE.entities as Entities\n",
        "MERGE (entities:Entities{rawName:Entities.`rawName`})\n",
        "  SET \n",
        "   entities.offsetStart = Entities.offsetStart,\n",
        "   entities.offsetEnd = Entities.offsetEnd,\n",
        "   entities.confidence_score = Entities.confidence_score,\n",
        "   entities.wikipediaExternalRef = Entities.wikipediaExternalRef,\n",
        "   entities.wikidataId = Entities.wikidataId\n",
        "\n",
        "\"\"\"\n",
        "result = conn.query(explore_reviews_csv_query)\n",
        "print(result)"
      ]
    },
    {
      "cell_type": "code",
      "execution_count": 157,
      "metadata": {
        "id": "RyJp_yHxba7l",
        "colab": {
          "base_uri": "https://localhost:8080/"
        },
        "outputId": "e7abbdb1-6a41-4559-eadc-0fa2785e9b1b"
      },
      "outputs": [
        {
          "output_type": "stream",
          "name": "stdout",
          "text": [
            "[]\n"
          ]
        }
      ],
      "source": [
        "explore_reviews_csv_query = \"\"\"\n",
        "MERGE (cwedata:Extended_Descriptions {runtime: 1302})\n",
        "MERGE (Entities:Entities {rawName: \"exposures\"})\n",
        "MERGE (cwedata)-[:HAS_ENTITY]->(Entities)\n",
        "\n",
        "\"\"\"\n",
        "result = conn.query(explore_reviews_csv_query)\n",
        "print(result)"
      ]
    },
    {
      "cell_type": "code",
      "execution_count": 158,
      "metadata": {
        "id": "_N-LpVIobaiI",
        "colab": {
          "base_uri": "https://localhost:8080/"
        },
        "outputId": "44ab1f77-eba6-46ee-a9b6-8c0931745f54"
      },
      "outputs": [
        {
          "output_type": "stream",
          "name": "stdout",
          "text": [
            "[]\n"
          ]
        }
      ],
      "source": [
        "explore_reviews_csv_query = \"\"\"\n",
        "MERGE (cwedata:Extended_Descriptions {runtime: 1302})\n",
        "MERGE (Entities:Entities {rawName: \"severity\"})\n",
        "MERGE (cwedata)-[:HAS_ENTITY]->(Entities)\n",
        "\n",
        "\"\"\"\n",
        "result = conn.query(explore_reviews_csv_query)\n",
        "print(result)"
      ]
    },
    {
      "cell_type": "code",
      "execution_count": 159,
      "metadata": {
        "id": "1hQ8eblqoe9M",
        "colab": {
          "base_uri": "https://localhost:8080/"
        },
        "outputId": "5999f9e9-d22f-4420-9e98-64b92320ec47"
      },
      "outputs": [
        {
          "output_type": "stream",
          "name": "stdout",
          "text": [
            "[]\n"
          ]
        }
      ],
      "source": [
        "explore_reviews_csv_query = \"\"\"\n",
        "MERGE (cwedata:Extended_Descriptions {runtime: 1302})\n",
        "MERGE (Entities:Entities {rawName: \"sensitive information\"})\n",
        "MERGE (cwedata)-[:HAS_ENTITY]->(Entities)\n",
        "\n",
        "\"\"\"\n",
        "result = conn.query(explore_reviews_csv_query)\n",
        "print(result)"
      ]
    },
    {
      "cell_type": "code",
      "execution_count": 160,
      "metadata": {
        "id": "cVIxBK7Eoe1t",
        "colab": {
          "base_uri": "https://localhost:8080/"
        },
        "outputId": "581811a5-ae99-434f-cee6-92b5fdd016f7"
      },
      "outputs": [
        {
          "output_type": "stream",
          "name": "stdout",
          "text": [
            "[]\n"
          ]
        }
      ],
      "source": [
        "explore_reviews_csv_query = \"\"\"\n",
        "MERGE (cwedata:Extended_Descriptions {runtime: 1302})\n",
        "MERGE (Entities:Entities {rawName: \"attacker\"})\n",
        "MERGE (cwedata)-[:HAS_ENTITY]->(Entities)\n",
        "\n",
        "\"\"\"\n",
        "result = conn.query(explore_reviews_csv_query)\n",
        "print(result)"
      ]
    },
    {
      "cell_type": "code",
      "execution_count": 161,
      "metadata": {
        "id": "xC1II70eoe5V",
        "colab": {
          "base_uri": "https://localhost:8080/"
        },
        "outputId": "016f3f19-fde6-465d-c173-fa2dd2478eae"
      },
      "outputs": [
        {
          "output_type": "stream",
          "name": "stdout",
          "text": [
            "[]\n"
          ]
        }
      ],
      "source": [
        "explore_reviews_csv_query = \"\"\"\n",
        "MERGE (cwedata:Extended_Descriptions {runtime: 1302})\n",
        "MERGE (Entities:Entities {rawName: \"personal information\"})\n",
        "MERGE (cwedata)-[:HAS_ENTITY]->(Entities)\n",
        "\n",
        "\"\"\"\n",
        "result = conn.query(explore_reviews_csv_query)\n",
        "print(result)"
      ]
    },
    {
      "cell_type": "code",
      "execution_count": 162,
      "metadata": {
        "id": "sjHoBtkvoexu",
        "colab": {
          "base_uri": "https://localhost:8080/"
        },
        "outputId": "81f96901-239f-4c09-dbf3-f3a024f6f91f"
      },
      "outputs": [
        {
          "output_type": "stream",
          "name": "stdout",
          "text": [
            "[]\n"
          ]
        }
      ],
      "source": [
        "explore_reviews_csv_query = \"\"\"\n",
        "MERGE (cwedata:Extended_Descriptions {runtime: 1302})\n",
        "MERGE (Entities:Entities {rawName: \"personal messages\"})\n",
        "MERGE (cwedata)-[:HAS_ENTITY]->(Entities)\n",
        "\n",
        "\"\"\"\n",
        "result = conn.query(explore_reviews_csv_query)\n",
        "print(result)"
      ]
    },
    {
      "cell_type": "code",
      "execution_count": 163,
      "metadata": {
        "id": "kElQ8kvLoeuR",
        "colab": {
          "base_uri": "https://localhost:8080/"
        },
        "outputId": "6ac8a306-8443-4c5a-9bb8-6b283925a134"
      },
      "outputs": [
        {
          "output_type": "stream",
          "name": "stdout",
          "text": [
            "[]\n"
          ]
        }
      ],
      "source": [
        "explore_reviews_csv_query = \"\"\"\n",
        "MERGE (cwedata:Extended_Descriptions {runtime: 1302})\n",
        "MERGE (Entities:Entities {rawName: \"financial data\"})\n",
        "MERGE (cwedata)-[:HAS_ENTITY]->(Entities)\n",
        "\n",
        "\"\"\"\n",
        "result = conn.query(explore_reviews_csv_query)\n",
        "print(result)"
      ]
    },
    {
      "cell_type": "code",
      "execution_count": 164,
      "metadata": {
        "id": "-P-J86weoerH",
        "colab": {
          "base_uri": "https://localhost:8080/"
        },
        "outputId": "b71d0c11-c04f-4e04-f28b-d862e743f613"
      },
      "outputs": [
        {
          "output_type": "stream",
          "name": "stdout",
          "text": [
            "[]\n"
          ]
        }
      ],
      "source": [
        "explore_reviews_csv_query = \"\"\"\n",
        "MERGE (cwedata:Extended_Descriptions {runtime: 1302})\n",
        "MERGE (Entities:Entities {rawName: \"health records\"})\n",
        "MERGE (cwedata)-[:HAS_ENTITY]->(Entities)\n",
        "\n",
        "\"\"\"\n",
        "result = conn.query(explore_reviews_csv_query)\n",
        "print(result)"
      ]
    },
    {
      "cell_type": "code",
      "execution_count": 165,
      "metadata": {
        "id": "s7sMokXyoen9",
        "colab": {
          "base_uri": "https://localhost:8080/"
        },
        "outputId": "498bfef3-6f2d-4f49-b5fd-3a8fa8b1a169"
      },
      "outputs": [
        {
          "output_type": "stream",
          "name": "stdout",
          "text": [
            "[]\n"
          ]
        }
      ],
      "source": [
        "explore_reviews_csv_query = \"\"\"\n",
        "MERGE (cwedata:Extended_Descriptions {runtime: 1302})\n",
        "MERGE (Entities:Entities {rawName: \"geographic location\"})\n",
        "MERGE (cwedata)-[:HAS_ENTITY]->(Entities)\n",
        "\n",
        "\"\"\"\n",
        "result = conn.query(explore_reviews_csv_query)\n",
        "print(result)"
      ]
    },
    {
      "cell_type": "code",
      "execution_count": 166,
      "metadata": {
        "id": "Sx7GCwZkoekk",
        "colab": {
          "base_uri": "https://localhost:8080/"
        },
        "outputId": "a54ebb98-9c6e-40cd-d128-b60de2c49cce"
      },
      "outputs": [
        {
          "output_type": "stream",
          "name": "stdout",
          "text": [
            "[]\n"
          ]
        }
      ],
      "source": [
        "explore_reviews_csv_query = \"\"\"\n",
        "MERGE (cwedata:Extended_Descriptions {runtime: 1302})\n",
        "MERGE (Entities:Entities {rawName: \"contact details\"})\n",
        "MERGE (cwedata)-[:HAS_ENTITY]->(Entities)\n",
        "\n",
        "\"\"\"\n",
        "result = conn.query(explore_reviews_csv_query)\n",
        "print(result)"
      ]
    },
    {
      "cell_type": "code",
      "execution_count": 167,
      "metadata": {
        "id": "1TDSVpjYoee4",
        "colab": {
          "base_uri": "https://localhost:8080/"
        },
        "outputId": "7e88a837-67bb-4044-a5d5-f153cda20202"
      },
      "outputs": [
        {
          "output_type": "stream",
          "name": "stdout",
          "text": [
            "[]\n"
          ]
        }
      ],
      "source": [
        "explore_reviews_csv_query = \"\"\"\n",
        "MERGE (cwedata:Extended_Descriptions {runtime: 1302})\n",
        "MERGE (Entities:Entities {rawName: \"packages\"})\n",
        "MERGE (cwedata)-[:HAS_ENTITY]->(Entities)\n",
        "\n",
        "\"\"\"\n",
        "result = conn.query(explore_reviews_csv_query)\n",
        "print(result)"
      ]
    },
    {
      "cell_type": "code",
      "execution_count": 168,
      "metadata": {
        "id": "CFL2Tmtjoebs",
        "colab": {
          "base_uri": "https://localhost:8080/"
        },
        "outputId": "fc401b59-d04e-4906-a738-a5929650a00f"
      },
      "outputs": [
        {
          "output_type": "stream",
          "name": "stdout",
          "text": [
            "[]\n"
          ]
        }
      ],
      "source": [
        "explore_reviews_csv_query = \"\"\"\n",
        "MERGE (cwedata:Extended_Descriptions {runtime: 1302})\n",
        "MERGE (Entities:Entities {rawName: \"intellectual property\"})\n",
        "MERGE (cwedata)-[:HAS_ENTITY]->(Entities)\n",
        "\n",
        "\"\"\"\n",
        "result = conn.query(explore_reviews_csv_query)\n",
        "print(result)"
      ]
    },
    {
      "cell_type": "code",
      "execution_count": 169,
      "metadata": {
        "id": "AazvA0lToeVv",
        "colab": {
          "base_uri": "https://localhost:8080/"
        },
        "outputId": "1a7cfbcd-c6b5-41ff-af0f-174888399ccf"
      },
      "outputs": [
        {
          "output_type": "stream",
          "name": "stdout",
          "text": [
            "[]\n"
          ]
        }
      ],
      "source": [
        "explore_reviews_csv_query = \"\"\"\n",
        "MERGE (cwedata:Extended_Descriptions {runtime: 1302})\n",
        "MERGE (Entities:Entities {rawName: \"configuration\"})\n",
        "MERGE (cwedata)-[:HAS_ENTITY]->(Entities)\n",
        "\n",
        "\"\"\"\n",
        "result = conn.query(explore_reviews_csv_query)\n",
        "print(result)"
      ]
    },
    {
      "cell_type": "code",
      "execution_count": 170,
      "metadata": {
        "id": "mMTxkUAPoeSZ",
        "colab": {
          "base_uri": "https://localhost:8080/"
        },
        "outputId": "2302c11c-4d41-45e0-86f4-b00cf8ed3a32"
      },
      "outputs": [
        {
          "output_type": "stream",
          "name": "stdout",
          "text": [
            "[]\n"
          ]
        }
      ],
      "source": [
        "explore_reviews_csv_query = \"\"\"\n",
        "MERGE (cwedata:Extended_Descriptions {runtime: 1302})\n",
        "MERGE (Entities:Entities {rawName: \"internal state\"})\n",
        "MERGE (cwedata)-[:HAS_ENTITY]->(Entities)\n",
        "\n",
        "\"\"\"\n",
        "result = conn.query(explore_reviews_csv_query)\n",
        "print(result)"
      ]
    },
    {
      "cell_type": "code",
      "execution_count": 171,
      "metadata": {
        "id": "HxVs1oOXbaEJ",
        "colab": {
          "base_uri": "https://localhost:8080/"
        },
        "outputId": "b4074a46-84ce-4179-841b-8b896b764d42"
      },
      "outputs": [
        {
          "output_type": "stream",
          "name": "stdout",
          "text": [
            "[]\n"
          ]
        }
      ],
      "source": [
        "explore_reviews_csv_query = \"\"\"\n",
        "MERGE (cwedata:Extended_Descriptions {runtime: 1302})\n",
        "MERGE (Entities:Entities {rawName: \"metadata\"})\n",
        "MERGE (cwedata)-[:HAS_ENTITY]->(Entities)\n",
        "\n",
        "\"\"\"\n",
        "result = conn.query(explore_reviews_csv_query)\n",
        "print(result)"
      ]
    },
    {
      "cell_type": "code",
      "execution_count": 172,
      "metadata": {
        "id": "PLPHZQLp7MeG",
        "colab": {
          "base_uri": "https://localhost:8080/"
        },
        "outputId": "a3322ad6-8000-428f-cac1-ec5feeb16616"
      },
      "outputs": [
        {
          "output_type": "stream",
          "name": "stdout",
          "text": [
            "[]\n"
          ]
        }
      ],
      "source": [
        "explore_reviews_csv_query = \"\"\"\n",
        "MERGE (cwedata:Extended_Descriptions {runtime: 1302})\n",
        "MERGE (Entities:Entities {rawName: \"logging\"})\n",
        "MERGE (cwedata)-[:HAS_ENTITY]->(Entities)\n",
        "\n",
        "\"\"\"\n",
        "result = conn.query(explore_reviews_csv_query)\n",
        "print(result)"
      ]
    },
    {
      "cell_type": "code",
      "execution_count": 173,
      "metadata": {
        "id": "YDB6cN7B7MTy",
        "colab": {
          "base_uri": "https://localhost:8080/"
        },
        "outputId": "e4c0aedc-71a2-4baa-f5eb-c55bdcbb1cc6"
      },
      "outputs": [
        {
          "output_type": "stream",
          "name": "stdout",
          "text": [
            "[]\n"
          ]
        }
      ],
      "source": [
        "explore_reviews_csv_query = \"\"\"\n",
        "MERGE (cwedata:Extended_Descriptions {runtime: 1302})\n",
        "MERGE (Entities:Entities {rawName: \"headers\"})\n",
        "MERGE (cwedata)-[:HAS_ENTITY]->(Entities)\n",
        "\n",
        "\"\"\"\n",
        "result = conn.query(explore_reviews_csv_query)\n",
        "print(result)"
      ]
    },
    {
      "cell_type": "code",
      "execution_count": 174,
      "metadata": {
        "id": "yniJxPEp7MJG",
        "colab": {
          "base_uri": "https://localhost:8080/"
        },
        "outputId": "b9d6e2ce-3355-43cd-f39b-9ef39b969920"
      },
      "outputs": [
        {
          "output_type": "stream",
          "name": "stdout",
          "text": [
            "[]\n"
          ]
        }
      ],
      "source": [
        "explore_reviews_csv_query = \"\"\"\n",
        "MERGE (cwedata:Extended_Descriptions {runtime: 1302})\n",
        "MERGE (Entities:Entities {rawName: \"indirect\"})\n",
        "MERGE (cwedata)-[:HAS_ENTITY]->(Entities)\n",
        "\n",
        "\"\"\"\n",
        "result = conn.query(explore_reviews_csv_query)\n",
        "print(result)"
      ]
    },
    {
      "cell_type": "code",
      "execution_count": 175,
      "metadata": {
        "id": "CZTQOxt97MAF",
        "colab": {
          "base_uri": "https://localhost:8080/"
        },
        "outputId": "a58c13fb-6bcb-453e-a916-24d9e7a2db32"
      },
      "outputs": [
        {
          "output_type": "stream",
          "name": "stdout",
          "text": [
            "[]\n"
          ]
        }
      ],
      "source": [
        "explore_reviews_csv_query = \"\"\"\n",
        "MERGE (cwedata:Extended_Descriptions {runtime: 1302})\n",
        "MERGE (Entities:Entities {rawName: \"discrepancy\"})\n",
        "MERGE (cwedata)-[:HAS_ENTITY]->(Entities)\n",
        "\n",
        "\"\"\"\n",
        "result = conn.query(explore_reviews_csv_query)\n",
        "print(result)"
      ]
    },
    {
      "cell_type": "code",
      "execution_count": 176,
      "metadata": {
        "id": "qoxDMgxh7L2Z",
        "colab": {
          "base_uri": "https://localhost:8080/"
        },
        "outputId": "2bf385c5-b9c0-42b7-ba1a-7ba201f8cf55"
      },
      "outputs": [
        {
          "output_type": "stream",
          "name": "stdout",
          "text": [
            "[]\n"
          ]
        }
      ],
      "source": [
        "explore_reviews_csv_query = \"\"\"\n",
        "MERGE (cwedata:Extended_Descriptions {runtime: 1302})\n",
        "MERGE (Entities:Entities {rawName: \"outsider\"})\n",
        "MERGE (cwedata)-[:HAS_ENTITY]->(Entities)\n",
        "\n",
        "\"\"\"\n",
        "result = conn.query(explore_reviews_csv_query)\n",
        "print(result)"
      ]
    },
    {
      "cell_type": "code",
      "execution_count": 177,
      "metadata": {
        "id": "ZnL0wU2f7LtM",
        "colab": {
          "base_uri": "https://localhost:8080/"
        },
        "outputId": "9b284c33-5848-47e5-c71c-89349f970055"
      },
      "outputs": [
        {
          "output_type": "stream",
          "name": "stdout",
          "text": [
            "[]\n"
          ]
        }
      ],
      "source": [
        "explore_reviews_csv_query = \"\"\"\n",
        "MERGE (cwedata:Extended_Descriptions {runtime: 1302})\n",
        "MERGE (Entities:Entities {rawName: \"Information\"})\n",
        "MERGE (cwedata)-[:HAS_ENTITY]->(Entities)\n",
        "\n",
        "\"\"\"\n",
        "result = conn.query(explore_reviews_csv_query)\n",
        "print(result)"
      ]
    },
    {
      "cell_type": "code",
      "execution_count": 178,
      "metadata": {
        "id": "rN_WGsGs7LkQ",
        "colab": {
          "base_uri": "https://localhost:8080/"
        },
        "outputId": "57cae238-d865-4ab6-d968-6eb77482750d"
      },
      "outputs": [
        {
          "output_type": "stream",
          "name": "stdout",
          "text": [
            "[]\n"
          ]
        }
      ],
      "source": [
        "explore_reviews_csv_query = \"\"\"\n",
        "MERGE (cwedata:Extended_Descriptions {runtime: 1302})\n",
        "MERGE (Entities:Entities {rawName: \"direct product\"})\n",
        "MERGE (cwedata)-[:HAS_ENTITY]->(Entities)\n",
        "\n",
        "\"\"\"\n",
        "result = conn.query(explore_reviews_csv_query)\n",
        "print(result)"
      ]
    },
    {
      "cell_type": "code",
      "execution_count": 179,
      "metadata": {
        "id": "kmsseapt7LbB",
        "colab": {
          "base_uri": "https://localhost:8080/"
        },
        "outputId": "72f14c25-2e0e-4539-f49b-5c652749e848"
      },
      "outputs": [
        {
          "output_type": "stream",
          "name": "stdout",
          "text": [
            "[]\n"
          ]
        }
      ],
      "source": [
        "explore_reviews_csv_query = \"\"\"\n",
        "MERGE (cwedata:Extended_Descriptions {runtime: 1302})\n",
        "MERGE (Entities:Entities {rawName: \"administrators\"})\n",
        "MERGE (cwedata)-[:HAS_ENTITY]->(Entities)\n",
        "\n",
        "\"\"\"\n",
        "result = conn.query(explore_reviews_csv_query)\n",
        "print(result)"
      ]
    },
    {
      "cell_type": "code",
      "execution_count": 180,
      "metadata": {
        "id": "CjOv-9Tw7LS8",
        "colab": {
          "base_uri": "https://localhost:8080/"
        },
        "outputId": "1a8d669d-2344-4618-8fc1-08082afa5bf8"
      },
      "outputs": [
        {
          "output_type": "stream",
          "name": "stdout",
          "text": [
            "[]\n"
          ]
        }
      ],
      "source": [
        "explore_reviews_csv_query = \"\"\"\n",
        "MERGE (cwedata:Extended_Descriptions {runtime: 1302})\n",
        "MERGE (Entities:Entities {rawName: \"admins\"})\n",
        "MERGE (cwedata)-[:HAS_ENTITY]->(Entities)\n",
        "\n",
        "\"\"\"\n",
        "result = conn.query(explore_reviews_csv_query)\n",
        "print(result)"
      ]
    },
    {
      "cell_type": "code",
      "execution_count": 181,
      "metadata": {
        "id": "0GDSO-Iv7LKF",
        "colab": {
          "base_uri": "https://localhost:8080/"
        },
        "outputId": "205ebe7c-544f-4ccb-f2a6-df9514377761"
      },
      "outputs": [
        {
          "output_type": "stream",
          "name": "stdout",
          "text": [
            "[]\n"
          ]
        }
      ],
      "source": [
        "explore_reviews_csv_query = \"\"\"\n",
        "MERGE (cwedata:Extended_Descriptions {runtime: 1302})\n",
        "MERGE (Entities:Entities {rawName: \"and/or\"})\n",
        "MERGE (cwedata)-[:HAS_ENTITY]->(Entities)\n",
        "\n",
        "\"\"\"\n",
        "result = conn.query(explore_reviews_csv_query)\n",
        "print(result)"
      ]
    },
    {
      "cell_type": "code",
      "execution_count": 182,
      "metadata": {
        "id": "h846zxb-7LCo",
        "colab": {
          "base_uri": "https://localhost:8080/"
        },
        "outputId": "0223942b-7a2d-4cfe-99d6-8c6a31b81fbb"
      },
      "outputs": [
        {
          "output_type": "stream",
          "name": "stdout",
          "text": [
            "[]\n"
          ]
        }
      ],
      "source": [
        "explore_reviews_csv_query = \"\"\"\n",
        "MERGE (cwedata:Extended_Descriptions {runtime: 1302})\n",
        "MERGE (Entities:Entities {rawName: \"explicitly\"})\n",
        "MERGE (cwedata)-[:HAS_ENTITY]->(Entities)\n",
        "\n",
        "\"\"\"\n",
        "result = conn.query(explore_reviews_csv_query)\n",
        "print(result)"
      ]
    },
    {
      "cell_type": "code",
      "execution_count": 183,
      "metadata": {
        "id": "0VLN9tm17K6J",
        "colab": {
          "base_uri": "https://localhost:8080/"
        },
        "outputId": "41fb3718-ecb4-4d09-fa90-6a55e39f2042"
      },
      "outputs": [
        {
          "output_type": "stream",
          "name": "stdout",
          "text": [
            "[]\n"
          ]
        }
      ],
      "source": [
        "explore_reviews_csv_query = \"\"\"\n",
        "MERGE (cwedata:Extended_Descriptions {runtime: 1302})\n",
        "MERGE (Entities:Entities {rawName: \"inserts\"})\n",
        "MERGE (cwedata)-[:HAS_ENTITY]->(Entities)\n",
        "\n",
        "\"\"\"\n",
        "result = conn.query(explore_reviews_csv_query)\n",
        "print(result)"
      ]
    },
    {
      "cell_type": "code",
      "execution_count": 184,
      "metadata": {
        "id": "8SZMAk4T7Kxk",
        "colab": {
          "base_uri": "https://localhost:8080/"
        },
        "outputId": "cdab9940-df56-44de-ba31-9db77cb451fd"
      },
      "outputs": [
        {
          "output_type": "stream",
          "name": "stdout",
          "text": [
            "[]\n"
          ]
        }
      ],
      "source": [
        "explore_reviews_csv_query = \"\"\"\n",
        "MERGE (cwedata:Extended_Descriptions {runtime: 1302})\n",
        "MERGE (Entities:Entities {rawName: \"unauthorized\"})\n",
        "MERGE (cwedata)-[:HAS_ENTITY]->(Entities)\n",
        "\n",
        "\"\"\"\n",
        "result = conn.query(explore_reviews_csv_query)\n",
        "print(result)"
      ]
    },
    {
      "cell_type": "code",
      "execution_count": 185,
      "metadata": {
        "id": "vBUzHMcT7KpU",
        "colab": {
          "base_uri": "https://localhost:8080/"
        },
        "outputId": "d6ed33e9-7597-44a6-e755-2ddf6d3af050"
      },
      "outputs": [
        {
          "output_type": "stream",
          "name": "stdout",
          "text": [
            "[]\n"
          ]
        }
      ],
      "source": [
        "explore_reviews_csv_query = \"\"\"\n",
        "MERGE (cwedata:Extended_Descriptions {runtime: 1302})\n",
        "MERGE (Entities:Entities {rawName: \"script error\"})\n",
        "MERGE (cwedata)-[:HAS_ENTITY]->(Entities)\n",
        "\n",
        "\"\"\"\n",
        "result = conn.query(explore_reviews_csv_query)\n",
        "print(result)"
      ]
    },
    {
      "cell_type": "code",
      "execution_count": 186,
      "metadata": {
        "id": "GTBVexkN7KNz",
        "colab": {
          "base_uri": "https://localhost:8080/"
        },
        "outputId": "89aeb13c-dd9f-4861-f172-d9de0338339b"
      },
      "outputs": [
        {
          "output_type": "stream",
          "name": "stdout",
          "text": [
            "[]\n"
          ]
        }
      ],
      "source": [
        "explore_reviews_csv_query = \"\"\"\n",
        "MERGE (cwedata:Extended_Descriptions {runtime: 1302})\n",
        "MERGE (Entities:Entities {rawName: \"revealing\"})\n",
        "MERGE (cwedata)-[:HAS_ENTITY]->(Entities)\n",
        "\n",
        "\"\"\"\n",
        "result = conn.query(explore_reviews_csv_query)\n",
        "print(result)"
      ]
    },
    {
      "cell_type": "code",
      "execution_count": 187,
      "metadata": {
        "id": "CV4URuRiqp0Y",
        "colab": {
          "base_uri": "https://localhost:8080/"
        },
        "outputId": "977a38c2-60cb-408c-f4fd-51679646b7da"
      },
      "outputs": [
        {
          "output_type": "stream",
          "name": "stdout",
          "text": [
            "[]\n"
          ]
        }
      ],
      "source": [
        "explore_reviews_csv_query = \"\"\"\n",
        "MERGE (cwe:CWE {cwe_id:\"284\"})\n",
        "MERGE (cwedata:Extended_Descriptions {runtime:1089})\n",
        "MERGE (cwe)-[:MAPPED_WITH]->(cwedata)\n",
        "MERGE (cwedata)-[:HAS_GLOBAL_CATEGORY{weight:0.02177728820880549,source:\"wikipedia-en\",category:\"Perimeter security\",page_id:29568962}]->(cwe)\n",
        "MERGE (cwedata)-[:HAS_GLOBAL_CATEGORY{weight:0.018774733450646813,source:\"wikipedia-en\",category:\"Command and control\",page_id:13460558}]->(cwe)\n",
        "MERGE (cwedata)-[:HAS_GLOBAL_CATEGORY{weight:0.0054037453131323635,source:\"wikipedia-en\",category:\"Software architecture\",page_id:1805593}]->(cwe)\n",
        "\n",
        "\"\"\"\n",
        "result = conn.query(explore_reviews_csv_query)\n",
        "print(result)"
      ]
    },
    {
      "cell_type": "code",
      "execution_count": 188,
      "metadata": {
        "id": "NxCUlPAKIZhf",
        "colab": {
          "base_uri": "https://localhost:8080/"
        },
        "outputId": "5e40d430-e55c-4913-e9cb-3f49271ad2de"
      },
      "outputs": [
        {
          "output_type": "stream",
          "name": "stdout",
          "text": [
            "[]\n"
          ]
        }
      ],
      "source": [
        "explore_reviews_csv_query = \"\"\"\n",
        "CALL apoc.load.json(\"https://raw.githubusercontent.com/neostrange/CveParse/main/Extended_Descriptions.json\", null, {failOnError:false})\n",
        "YIELD value\n",
        "WITH value  AS data\n",
        "WITH data\n",
        "UNWIND data.Extended_Descriptions[4].CWE.entities as Entities\n",
        "MERGE (entities:Entities{rawName:Entities.`rawName`})\n",
        "  SET \n",
        "   entities.offsetStart = Entities.offsetStart,\n",
        "   entities.offsetEnd = Entities.offsetEnd,\n",
        "   entities.confidence_score = Entities.confidence_score,\n",
        "   entities.wikipediaExternalRef = Entities.wikipediaExternalRef,\n",
        "   entities.wikidataId = Entities.wikidataId\n",
        "\n",
        "\"\"\"\n",
        "result = conn.query(explore_reviews_csv_query)\n",
        "print(result)"
      ]
    },
    {
      "cell_type": "code",
      "execution_count": 189,
      "metadata": {
        "id": "CV3EudGl7KXU",
        "colab": {
          "base_uri": "https://localhost:8080/"
        },
        "outputId": "cd0f0be7-f1bd-465f-ee82-bea32449ae68"
      },
      "outputs": [
        {
          "output_type": "stream",
          "name": "stdout",
          "text": [
            "[]\n"
          ]
        }
      ],
      "source": [
        "explore_reviews_csv_query = \"\"\"\n",
        "MERGE (cwedata:Extended_Descriptions {runtime: 1089})\n",
        "MERGE (Entities:Entities {rawName: \"Access control\"})\n",
        "MERGE (cwedata)-[:HAS_ENTITY]->(Entities)\n",
        "\n",
        "\"\"\"\n",
        "result = conn.query(explore_reviews_csv_query)\n",
        "print(result)"
      ]
    },
    {
      "cell_type": "code",
      "execution_count": 190,
      "metadata": {
        "id": "9_9vePy37KCc",
        "colab": {
          "base_uri": "https://localhost:8080/"
        },
        "outputId": "37856015-3c5d-4389-b324-b7836dddfe6b"
      },
      "outputs": [
        {
          "output_type": "stream",
          "name": "stdout",
          "text": [
            "[]\n"
          ]
        }
      ],
      "source": [
        "explore_reviews_csv_query = \"\"\"\n",
        "MERGE (cwedata:Extended_Descriptions {runtime: 1089})\n",
        "MERGE (Entities:Entities {rawName: \"Authentication\"})\n",
        "MERGE (cwedata)-[:HAS_ENTITY]->(Entities)\n",
        "\n",
        "\"\"\"\n",
        "result = conn.query(explore_reviews_csv_query)\n",
        "print(result)"
      ]
    },
    {
      "cell_type": "code",
      "execution_count": 191,
      "metadata": {
        "id": "GPYhNs-c7KgR",
        "colab": {
          "base_uri": "https://localhost:8080/"
        },
        "outputId": "7c140466-969d-47b8-fd24-04d5b0a057aa"
      },
      "outputs": [
        {
          "output_type": "stream",
          "name": "stdout",
          "text": [
            "[]\n"
          ]
        }
      ],
      "source": [
        "explore_reviews_csv_query = \"\"\"\n",
        "MERGE (cwedata:Extended_Descriptions {runtime: 1089})\n",
        "MERGE (Entities:Entities {rawName: \"proving\"})\n",
        "MERGE (cwedata)-[:HAS_ENTITY]->(Entities)\n",
        "\n",
        "\"\"\"\n",
        "result = conn.query(explore_reviews_csv_query)\n",
        "print(result)"
      ]
    },
    {
      "cell_type": "code",
      "execution_count": 192,
      "metadata": {
        "id": "jal6HUjBc8bm",
        "colab": {
          "base_uri": "https://localhost:8080/"
        },
        "outputId": "3de6b97b-7b97-4991-e597-25d6a2f154f8"
      },
      "outputs": [
        {
          "output_type": "stream",
          "name": "stdout",
          "text": [
            "[]\n"
          ]
        }
      ],
      "source": [
        "explore_reviews_csv_query = \"\"\"\n",
        "MERGE (cwedata:Extended_Descriptions {runtime: 1089})\n",
        "MERGE (Entities:Entities {rawName: \"Authorization\"})\n",
        "MERGE (cwedata)-[:HAS_ENTITY]->(Entities)\n",
        "\n",
        "\"\"\"\n",
        "result = conn.query(explore_reviews_csv_query)\n",
        "print(result)"
      ]
    },
    {
      "cell_type": "code",
      "execution_count": 193,
      "metadata": {
        "id": "ElCfE75bc73k",
        "colab": {
          "base_uri": "https://localhost:8080/"
        },
        "outputId": "94bfdbf3-adc0-4b42-be43-2944a6ab78bc"
      },
      "outputs": [
        {
          "output_type": "stream",
          "name": "stdout",
          "text": [
            "[]\n"
          ]
        }
      ],
      "source": [
        "explore_reviews_csv_query = \"\"\"\n",
        "MERGE (cwedata:Extended_Descriptions {runtime: 1089})\n",
        "MERGE (Entities:Entities {rawName: \"Accountability\"})\n",
        "MERGE (cwedata)-[:HAS_ENTITY]->(Entities)\n",
        "\n",
        "\"\"\"\n",
        "result = conn.query(explore_reviews_csv_query)\n",
        "print(result)"
      ]
    },
    {
      "cell_type": "code",
      "execution_count": 194,
      "metadata": {
        "id": "Tbg4nXnvc7OO",
        "colab": {
          "base_uri": "https://localhost:8080/"
        },
        "outputId": "5a040bb0-a833-475e-a96c-14fe4031589b"
      },
      "outputs": [
        {
          "output_type": "stream",
          "name": "stdout",
          "text": [
            "[]\n"
          ]
        }
      ],
      "source": [
        "explore_reviews_csv_query = \"\"\"\n",
        "MERGE (cwedata:Extended_Descriptions {runtime: 1089})\n",
        "MERGE (Entities:Entities {rawName: \"attackers\"})\n",
        "MERGE (cwedata)-[:HAS_ENTITY]->(Entities)\n",
        "\n",
        "\"\"\"\n",
        "result = conn.query(explore_reviews_csv_query)\n",
        "print(result)"
      ]
    },
    {
      "cell_type": "code",
      "execution_count": 195,
      "metadata": {
        "id": "pwy8pDnropMm",
        "colab": {
          "base_uri": "https://localhost:8080/"
        },
        "outputId": "bd7e209e-b128-48a6-ab0a-0269be689d78"
      },
      "outputs": [
        {
          "output_type": "stream",
          "name": "stdout",
          "text": [
            "[]\n"
          ]
        }
      ],
      "source": [
        "explore_reviews_csv_query = \"\"\"\n",
        "MERGE (cwedata:Extended_Descriptions {runtime: 1089})\n",
        "MERGE (Entities:Entities {rawName: \"privileges\"})\n",
        "MERGE (cwedata)-[:HAS_ENTITY]->(Entities)\n",
        "\n",
        "\"\"\"\n",
        "result = conn.query(explore_reviews_csv_query)\n",
        "print(result)"
      ]
    },
    {
      "cell_type": "code",
      "execution_count": 196,
      "metadata": {
        "id": "pNvSiiRzopI2",
        "colab": {
          "base_uri": "https://localhost:8080/"
        },
        "outputId": "93354bde-2b42-41ec-f997-00a2b7e86ebf"
      },
      "outputs": [
        {
          "output_type": "stream",
          "name": "stdout",
          "text": [
            "[]\n"
          ]
        }
      ],
      "source": [
        "explore_reviews_csv_query = \"\"\"\n",
        "MERGE (cwedata:Extended_Descriptions {runtime: 1089})\n",
        "MERGE (Entities:Entities {rawName: \"sensitive information\"})\n",
        "MERGE (cwedata)-[:HAS_ENTITY]->(Entities)\n",
        "\n",
        "\"\"\"\n",
        "result = conn.query(explore_reviews_csv_query)\n",
        "print(result)"
      ]
    },
    {
      "cell_type": "code",
      "execution_count": 197,
      "metadata": {
        "id": "KlV738NIopEt",
        "colab": {
          "base_uri": "https://localhost:8080/"
        },
        "outputId": "19479a55-ff5b-487e-a8d1-bfc06b5ff673"
      },
      "outputs": [
        {
          "output_type": "stream",
          "name": "stdout",
          "text": [
            "[]\n"
          ]
        }
      ],
      "source": [
        "explore_reviews_csv_query = \"\"\"\n",
        "MERGE (cwedata:Extended_Descriptions {runtime: 1089})\n",
        "MERGE (Entities:Entities {rawName: \"executing\"})\n",
        "MERGE (cwedata)-[:HAS_ENTITY]->(Entities)\n",
        "\n",
        "\"\"\"\n",
        "result = conn.query(explore_reviews_csv_query)\n",
        "print(result)"
      ]
    },
    {
      "cell_type": "code",
      "execution_count": 198,
      "metadata": {
        "id": "kaKQ2q61opA0",
        "colab": {
          "base_uri": "https://localhost:8080/"
        },
        "outputId": "94cd80b6-aeb3-4f35-b935-c35cb9a47b4e"
      },
      "outputs": [
        {
          "output_type": "stream",
          "name": "stdout",
          "text": [
            "[]\n"
          ]
        }
      ],
      "source": [
        "explore_reviews_csv_query = \"\"\"\n",
        "MERGE (cwedata:Extended_Descriptions {runtime: 1089})\n",
        "MERGE (Entities:Entities {rawName: \"commands\"})\n",
        "MERGE (cwedata)-[:HAS_ENTITY]->(Entities)\n",
        "\n",
        "\"\"\"\n",
        "result = conn.query(explore_reviews_csv_query)\n",
        "print(result)"
      ]
    },
    {
      "cell_type": "code",
      "execution_count": 199,
      "metadata": {
        "id": "IW-pePMAoo0U",
        "colab": {
          "base_uri": "https://localhost:8080/"
        },
        "outputId": "a535a97a-6256-4313-e2c1-2baa7acf06fa"
      },
      "outputs": [
        {
          "output_type": "stream",
          "name": "stdout",
          "text": [
            "[]\n"
          ]
        }
      ],
      "source": [
        "explore_reviews_csv_query = \"\"\"\n",
        "MERGE (cwedata:Extended_Descriptions {runtime: 1089})\n",
        "MERGE (Entities:Entities {rawName: \"evading detection\"})\n",
        "MERGE (cwedata)-[:HAS_ENTITY]->(Entities)\n",
        "\n",
        "\"\"\"\n",
        "result = conn.query(explore_reviews_csv_query)\n",
        "print(result)"
      ]
    },
    {
      "cell_type": "code",
      "execution_count": 200,
      "metadata": {
        "id": "nUDGRhUEc6y7",
        "colab": {
          "base_uri": "https://localhost:8080/"
        },
        "outputId": "e3273a6d-8cda-4cc5-aa5f-2502ece5c9e8"
      },
      "outputs": [
        {
          "output_type": "stream",
          "name": "stdout",
          "text": [
            "[]\n"
          ]
        }
      ],
      "source": [
        "explore_reviews_csv_query = \"\"\"\n",
        "MERGE (cwedata:Extended_Descriptions {runtime: 1089})\n",
        "MERGE (Entities:Entities {rawName: \"behaviors\"})\n",
        "MERGE (cwedata)-[:HAS_ENTITY]->(Entities)\n",
        "\n",
        "\"\"\"\n",
        "result = conn.query(explore_reviews_csv_query)\n",
        "print(result)"
      ]
    },
    {
      "cell_type": "code",
      "execution_count": 201,
      "metadata": {
        "id": "IqF9hJck7JLu",
        "colab": {
          "base_uri": "https://localhost:8080/"
        },
        "outputId": "774a73b6-07c1-46d7-cefe-03fd1570dce6"
      },
      "outputs": [
        {
          "output_type": "stream",
          "name": "stdout",
          "text": [
            "[]\n"
          ]
        }
      ],
      "source": [
        "explore_reviews_csv_query = \"\"\"\n",
        "MERGE (cwedata:Extended_Descriptions {runtime: 1089})\n",
        "MERGE (Entities:Entities {rawName: \"access control\"})\n",
        "MERGE (cwedata)-[:HAS_ENTITY]->(Entities)\n",
        "\n",
        "\"\"\"\n",
        "result = conn.query(explore_reviews_csv_query)\n",
        "print(result)"
      ]
    },
    {
      "cell_type": "code",
      "execution_count": 202,
      "metadata": {
        "id": "x38_i_qmCjcK",
        "colab": {
          "base_uri": "https://localhost:8080/"
        },
        "outputId": "50e46a41-6c4e-4f4b-bd9b-45976b3f16d4"
      },
      "outputs": [
        {
          "output_type": "stream",
          "name": "stdout",
          "text": [
            "[]\n"
          ]
        }
      ],
      "source": [
        "explore_reviews_csv_query = \"\"\"\n",
        "MERGE (cwedata:Extended_Descriptions {runtime: 1089})\n",
        "MERGE (Entities:Entities {rawName: \"weaknesses\"})\n",
        "MERGE (cwedata)-[:HAS_ENTITY]->(Entities)\n",
        "\n",
        "\"\"\"\n",
        "result = conn.query(explore_reviews_csv_query)\n",
        "print(result)"
      ]
    },
    {
      "cell_type": "code",
      "execution_count": 203,
      "metadata": {
        "id": "91bn5g9XCjWd",
        "colab": {
          "base_uri": "https://localhost:8080/"
        },
        "outputId": "357a5e53-95a7-49b5-d75b-810f9fe721bd"
      },
      "outputs": [
        {
          "output_type": "stream",
          "name": "stdout",
          "text": [
            "[]\n"
          ]
        }
      ],
      "source": [
        "explore_reviews_csv_query = \"\"\"\n",
        "MERGE (cwedata:Extended_Descriptions {runtime: 1089})\n",
        "MERGE (Entities:Entities {rawName: \"incorrect\"})\n",
        "MERGE (cwedata)-[:HAS_ENTITY]->(Entities)\n",
        "\n",
        "\"\"\"\n",
        "result = conn.query(explore_reviews_csv_query)\n",
        "print(result)"
      ]
    },
    {
      "cell_type": "code",
      "execution_count": 204,
      "metadata": {
        "id": "wRWlznONCjBy",
        "colab": {
          "base_uri": "https://localhost:8080/"
        },
        "outputId": "cef3b607-4166-4719-bfe7-a9645c47734b"
      },
      "outputs": [
        {
          "output_type": "stream",
          "name": "stdout",
          "text": [
            "[]\n"
          ]
        }
      ],
      "source": [
        "explore_reviews_csv_query = \"\"\"\n",
        "MERGE (cwedata:Extended_Descriptions {runtime: 1089})\n",
        "MERGE (Entities:Entities {rawName: \"permissions\"})\n",
        "MERGE (cwedata)-[:HAS_ENTITY]->(Entities)\n",
        "\n",
        "\"\"\"\n",
        "result = conn.query(explore_reviews_csv_query)\n",
        "print(result)"
      ]
    },
    {
      "cell_type": "code",
      "execution_count": 205,
      "metadata": {
        "id": "ojkIzPtsCi8P",
        "colab": {
          "base_uri": "https://localhost:8080/"
        },
        "outputId": "7e2ca2e5-316d-4e17-9693-f95bc37de01a"
      },
      "outputs": [
        {
          "output_type": "stream",
          "name": "stdout",
          "text": [
            "[]\n"
          ]
        }
      ],
      "source": [
        "explore_reviews_csv_query = \"\"\"\n",
        "MERGE (cwedata:Extended_Descriptions {runtime: 1089})\n",
        "MERGE (Entities:Entities {rawName: \"explicitly\"})\n",
        "MERGE (cwedata)-[:HAS_ENTITY]->(Entities)\n",
        "\n",
        "\"\"\"\n",
        "result = conn.query(explore_reviews_csv_query)\n",
        "print(result)"
      ]
    },
    {
      "cell_type": "code",
      "execution_count": 206,
      "metadata": {
        "id": "0hiuTFzRCi2t",
        "colab": {
          "base_uri": "https://localhost:8080/"
        },
        "outputId": "dc17140f-3e91-4f6d-d777-bdd2b0960435"
      },
      "outputs": [
        {
          "output_type": "stream",
          "name": "stdout",
          "text": [
            "[]\n"
          ]
        }
      ],
      "source": [
        "explore_reviews_csv_query = \"\"\"\n",
        "MERGE (cwedata:Extended_Descriptions {runtime: 1089})\n",
        "MERGE (Entities:Entities {rawName: \"syntactically\"})\n",
        "MERGE (cwedata)-[:HAS_ENTITY]->(Entities)\n",
        "\n",
        "\"\"\"\n",
        "result = conn.query(explore_reviews_csv_query)\n",
        "print(result)"
      ]
    },
    {
      "cell_type": "code",
      "execution_count": 207,
      "metadata": {
        "id": "cT_gxzLpCixM",
        "colab": {
          "base_uri": "https://localhost:8080/"
        },
        "outputId": "912b3129-5a2c-4965-cd8a-f13cef96cdb5"
      },
      "outputs": [
        {
          "output_type": "stream",
          "name": "stdout",
          "text": [
            "[]\n"
          ]
        }
      ],
      "source": [
        "explore_reviews_csv_query = \"\"\"\n",
        "MERGE (cwedata:Extended_Descriptions {runtime: 1089})\n",
        "MERGE (Entities:Entities {rawName: \"ACL\"})\n",
        "MERGE (cwedata)-[:HAS_ENTITY]->(Entities)\n",
        "\n",
        "\"\"\"\n",
        "result = conn.query(explore_reviews_csv_query)\n",
        "print(result)"
      ]
    },
    {
      "cell_type": "code",
      "execution_count": 208,
      "metadata": {
        "id": "T3IzRBY6Cinh",
        "colab": {
          "base_uri": "https://localhost:8080/"
        },
        "outputId": "3c93baeb-1ba1-474f-d303-53b84254eacf"
      },
      "outputs": [
        {
          "output_type": "stream",
          "name": "stdout",
          "text": [
            "[]\n"
          ]
        }
      ],
      "source": [
        "explore_reviews_csv_query = \"\"\"\n",
        "MERGE (cwedata:Extended_Descriptions {runtime: 1089})\n",
        "MERGE (Entities:Entities {rawName: \"insecure\"})\n",
        "MERGE (cwedata)-[:HAS_ENTITY]->(Entities)\n",
        "\n",
        "\"\"\"\n",
        "result = conn.query(explore_reviews_csv_query)\n",
        "print(result)"
      ]
    },
    {
      "cell_type": "code",
      "execution_count": 209,
      "metadata": {
        "id": "BXrR7rLKCiSH",
        "colab": {
          "base_uri": "https://localhost:8080/"
        },
        "outputId": "872fa22c-e5b7-4a05-ada2-317ace6f3354"
      },
      "outputs": [
        {
          "output_type": "stream",
          "name": "stdout",
          "text": [
            "[]\n"
          ]
        }
      ],
      "source": [
        "explore_reviews_csv_query = \"\"\"\n",
        "MERGE (cwedata:Extended_Descriptions {runtime: 1089})\n",
        "MERGE (Entities:Entities {rawName: \"security policy\"})\n",
        "MERGE (cwedata)-[:HAS_ENTITY]->(Entities)\n",
        "\n",
        "\"\"\"\n",
        "result = conn.query(explore_reviews_csv_query)\n",
        "print(result)"
      ]
    },
    {
      "cell_type": "code",
      "execution_count": 210,
      "metadata": {
        "id": "3iJ6XxZBqqyE",
        "colab": {
          "base_uri": "https://localhost:8080/"
        },
        "outputId": "a1c1fc18-815c-482b-acbd-6ff89b458d22"
      },
      "outputs": [
        {
          "output_type": "stream",
          "name": "stdout",
          "text": [
            "[]\n"
          ]
        }
      ],
      "source": [
        "explore_reviews_csv_query = \"\"\"\n",
        "MERGE (cwe:CWE {cwe_id:\"294\"})\n",
        "MERGE (cwedata:Extended_Descriptions {runtime:253})\n",
        "MERGE (cwe)-[:MAPPED_WITH]->(cwedata)\n",
        "MERGE (cwedata)-[:HAS_GLOBAL_CATEGORY{weight:0.09559506604831125,source:\"wikipedia-en\",category:\"User interfaces\",page_id:30875525}]->(cwe)\n",
        "MERGE (cwedata)-[:HAS_GLOBAL_CATEGORY{weight:0.09559506604831125,source:\"wikipedia-en\",category:\"Computing commands\",page_id:28119161}]->(cwe)\n",
        "MERGE (cwedata)-[:HAS_GLOBAL_CATEGORY{weight:0.09559506604831125,source:\"wikipedia-en\",category:\"Computing terminology\",page_id:2458835}]->(cwe)\n",
        "\n",
        "\"\"\"\n",
        "result = conn.query(explore_reviews_csv_query)\n",
        "print(result)"
      ]
    },
    {
      "cell_type": "code",
      "execution_count": 211,
      "metadata": {
        "id": "a0OzbXyAIbrO",
        "colab": {
          "base_uri": "https://localhost:8080/"
        },
        "outputId": "576e56ba-6002-4a70-e9b6-0af39f74e9cd"
      },
      "outputs": [
        {
          "output_type": "stream",
          "name": "stdout",
          "text": [
            "[]\n"
          ]
        }
      ],
      "source": [
        "explore_reviews_csv_query = \"\"\"\n",
        "CALL apoc.load.json(\"https://raw.githubusercontent.com/neostrange/CveParse/main/Extended_Descriptions.json\", null, {failOnError:false})\n",
        "YIELD value\n",
        "WITH value  AS data\n",
        "WITH data\n",
        "UNWIND data.Extended_Descriptions[5].CWE.entities as Entities\n",
        "MERGE (entities:Entities{rawName:Entities.`rawName`})\n",
        "  SET \n",
        "   entities.offsetStart = Entities.offsetStart,\n",
        "   entities.offsetEnd = Entities.offsetEnd,\n",
        "   entities.confidence_score = Entities.confidence_score,\n",
        "   entities.wikipediaExternalRef = Entities.wikipediaExternalRef,\n",
        "   entities.wikidataId = Entities.wikidataId\n",
        "\n",
        "\"\"\"\n",
        "result = conn.query(explore_reviews_csv_query)\n",
        "print(result)"
      ]
    },
    {
      "cell_type": "code",
      "execution_count": 212,
      "metadata": {
        "id": "Lv0ml9XzC1nt",
        "colab": {
          "base_uri": "https://localhost:8080/"
        },
        "outputId": "ed360795-1e4f-433c-ba2d-ae636cb9cab5"
      },
      "outputs": [
        {
          "output_type": "stream",
          "name": "stdout",
          "text": [
            "[]\n"
          ]
        }
      ],
      "source": [
        "explore_reviews_csv_query = \"\"\"\n",
        "MERGE (cwedata:Extended_Descriptions {runtime: 253})\n",
        "MERGE (Entities:Entities {rawName: \"Capture\"})\n",
        "MERGE (cwedata)-[:HAS_ENTITY]->(Entities)\n",
        "\n",
        "\"\"\"\n",
        "result = conn.query(explore_reviews_csv_query)\n",
        "print(result)"
      ]
    },
    {
      "cell_type": "code",
      "execution_count": 213,
      "metadata": {
        "id": "MAuY3lheC1TI",
        "colab": {
          "base_uri": "https://localhost:8080/"
        },
        "outputId": "4ab9ac88-96bc-43a4-9924-475e0426c930"
      },
      "outputs": [
        {
          "output_type": "stream",
          "name": "stdout",
          "text": [
            "[]\n"
          ]
        }
      ],
      "source": [
        "explore_reviews_csv_query = \"\"\"\n",
        "MERGE (cwedata:Extended_Descriptions {runtime: 253})\n",
        "MERGE (Entities:Entities {rawName: \"replay attacks\"})\n",
        "MERGE (cwedata)-[:HAS_ENTITY]->(Entities)\n",
        "\n",
        "\"\"\"\n",
        "result = conn.query(explore_reviews_csv_query)\n",
        "print(result)"
      ]
    },
    {
      "cell_type": "code",
      "execution_count": 214,
      "metadata": {
        "id": "TXo8oahQCzc7",
        "colab": {
          "base_uri": "https://localhost:8080/"
        },
        "outputId": "9e24173e-6a97-4afd-ddbd-c8e27c9b604c"
      },
      "outputs": [
        {
          "output_type": "stream",
          "name": "stdout",
          "text": [
            "[]\n"
          ]
        }
      ],
      "source": [
        "explore_reviews_csv_query = \"\"\"\n",
        "MERGE (cwedata:Extended_Descriptions {runtime: 253})\n",
        "MERGE (Entities:Entities {rawName: \"cryptography\"})\n",
        "MERGE (cwedata)-[:HAS_ENTITY]->(Entities)\n",
        "\n",
        "\"\"\"\n",
        "result = conn.query(explore_reviews_csv_query)\n",
        "print(result)"
      ]
    },
    {
      "cell_type": "code",
      "execution_count": 215,
      "metadata": {
        "id": "4pPdZ8EYCiXz",
        "colab": {
          "base_uri": "https://localhost:8080/"
        },
        "outputId": "fde0fe89-c20c-463c-f677-7d049a29f014"
      },
      "outputs": [
        {
          "output_type": "stream",
          "name": "stdout",
          "text": [
            "[]\n"
          ]
        }
      ],
      "source": [
        "explore_reviews_csv_query = \"\"\"\n",
        "MERGE (cwedata:Extended_Descriptions {runtime: 253})\n",
        "MERGE (Entities:Entities {rawName: \"subset\"})\n",
        "MERGE (cwedata)-[:HAS_ENTITY]->(Entities)\n",
        "\n",
        "\"\"\"\n",
        "result = conn.query(explore_reviews_csv_query)\n",
        "print(result)"
      ]
    },
    {
      "cell_type": "code",
      "execution_count": 216,
      "metadata": {
        "id": "Dpp6UgQzC1AV",
        "colab": {
          "base_uri": "https://localhost:8080/"
        },
        "outputId": "499c80ce-0897-4d05-f1db-24da68128f26"
      },
      "outputs": [
        {
          "output_type": "stream",
          "name": "stdout",
          "text": [
            "[]\n"
          ]
        }
      ],
      "source": [
        "explore_reviews_csv_query = \"\"\"\n",
        "MERGE (cwedata:Extended_Descriptions {runtime: 253})\n",
        "MERGE (Entities:Entities {rawName: \"injection\"})\n",
        "MERGE (cwedata)-[:HAS_ENTITY]->(Entities)\n",
        "\n",
        "\"\"\"\n",
        "result = conn.query(explore_reviews_csv_query)\n",
        "print(result)"
      ]
    },
    {
      "cell_type": "code",
      "execution_count": 217,
      "metadata": {
        "id": "2qxSzqHXdB5K",
        "colab": {
          "base_uri": "https://localhost:8080/"
        },
        "outputId": "f2e86995-3747-4829-aec8-7a25dc7802e6"
      },
      "outputs": [
        {
          "output_type": "stream",
          "name": "stdout",
          "text": [
            "[]\n"
          ]
        }
      ],
      "source": [
        "explore_reviews_csv_query = \"\"\"\n",
        "MERGE (cwedata:Extended_Descriptions {runtime: 253})\n",
        "MERGE (Entities:Entities {rawName: \"observing\"})\n",
        "MERGE (cwedata)-[:HAS_ENTITY]->(Entities)\n",
        "\n",
        "\"\"\"\n",
        "result = conn.query(explore_reviews_csv_query)\n",
        "print(result) "
      ]
    },
    {
      "cell_type": "code",
      "execution_count": 218,
      "metadata": {
        "id": "AuWAE2MrdBhe",
        "colab": {
          "base_uri": "https://localhost:8080/"
        },
        "outputId": "cf350e34-8c13-44bf-d90c-6e398e71b011"
      },
      "outputs": [
        {
          "output_type": "stream",
          "name": "stdout",
          "text": [
            "[]\n"
          ]
        }
      ],
      "source": [
        "explore_reviews_csv_query = \"\"\"\n",
        "MERGE (cwedata:Extended_Descriptions {runtime: 253})\n",
        "MERGE (Entities:Entities {rawName: \"commands\"})\n",
        "MERGE (cwedata)-[:HAS_ENTITY]->(Entities)\n",
        "\n",
        "\"\"\"\n",
        "result = conn.query(explore_reviews_csv_query)\n",
        "print(result)"
      ]
    },
    {
      "cell_type": "markdown",
      "metadata": {
        "id": "4tkFWQMewURh"
      },
      "source": [
        "# **CPE Data**"
      ]
    },
    {
      "cell_type": "markdown",
      "metadata": {
        "id": "UvXjcm5jxpjj"
      },
      "source": [
        "**Script_CPE.cypher**"
      ]
    },
    {
      "cell_type": "markdown",
      "metadata": {
        "id": "Fp-yl_lZvxFK"
      },
      "source": [
        "Parse CPE values in CVE using cpeparser"
      ]
    },
    {
      "cell_type": "code",
      "execution_count": 219,
      "metadata": {
        "id": "5MfG2-9AeJDB",
        "colab": {
          "base_uri": "https://localhost:8080/"
        },
        "outputId": "3300842a-7714-4250-f9d3-b9febee94793"
      },
      "outputs": [
        {
          "output_type": "stream",
          "name": "stdout",
          "text": [
            "[]\n"
          ]
        }
      ],
      "source": [
        "explore_reviews_csv_query = \"\"\"\n",
        "CALL apoc.load.json(\"https://raw.githubusercontent.com/neostrange/CveParse/main/CPE.json\", null, {failOnError:false})\n",
        "YIELD value\n",
        "WITH value  AS data\n",
        "//return data.CPE_Items[0].CPE.version\n",
        "UNWIND data.CPE_Items as item\n",
        "MERGE (cpe:CPE {version: item.CPE.version})\n",
        "SET \n",
        "    cpe.part = item.CPE.part,\n",
        "    cpe.vendor = item.CPE.vendor,\n",
        "    cpe.product = item.CPE.product,\n",
        "    cpe.update = item.CPE.update,\n",
        "    cpe.edition = item.CPE.edition,\n",
        "    cpe.language = item.CPE.language,\n",
        "    cpe.sw_edition = item.CPE.sw_edition,\n",
        "    cpe.target_sw = item.CPE.target_sw,\n",
        "    cpe.target_hw = item.CPE.target_hw,\n",
        "    cpe.other = item.CPE.other\n",
        "    \n",
        "\"\"\"\n",
        "result = conn.query(explore_reviews_csv_query)\n",
        "print(result)"
      ]
    },
    {
      "cell_type": "code",
      "execution_count": 220,
      "metadata": {
        "id": "lBtYxIhulZMv",
        "colab": {
          "base_uri": "https://localhost:8080/"
        },
        "outputId": "c4eb2c85-b729-4b8f-feb9-ab9ffd90c875"
      },
      "outputs": [
        {
          "output_type": "stream",
          "name": "stdout",
          "text": [
            "[]\n"
          ]
        }
      ],
      "source": [
        "explore_reviews_csv_query = \"\"\"\n",
        "MERGE (cpeMatch:CpeMatch {uri:\"cpe:2.3:a:sap:host_agent:7.21:*:*:*:*:*:*:*\" })\n",
        "MERGE (cpe:CPE {version:\"7.21\"})\n",
        "MERGE (cpeMatch)-[:MAPPED_WITH]->(cpe)\n",
        "\n",
        "\"\"\"\n",
        "result = conn.query(explore_reviews_csv_query)\n",
        "print(result)"
      ]
    },
    {
      "cell_type": "code",
      "execution_count": 221,
      "metadata": {
        "id": "NG5t__R7laOg",
        "colab": {
          "base_uri": "https://localhost:8080/"
        },
        "outputId": "05ae85ed-ee3d-4d34-9c8a-0ef1d075dcb0"
      },
      "outputs": [
        {
          "output_type": "stream",
          "name": "stdout",
          "text": [
            "[]\n"
          ]
        }
      ],
      "source": [
        "explore_reviews_csv_query = \"\"\"\n",
        "MERGE (cpeMatch:CpeMatch {uri:\"cpe:2.3:a:sap:host_agent:7.22:*:*:*:*:*:*:*\" })\n",
        "MERGE (cpe:CPE {version:\"7.22\"})\n",
        "MERGE (cpeMatch)-[:MAPPED_WITH]->(cpe)\n",
        "\n",
        "\"\"\"\n",
        "result = conn.query(explore_reviews_csv_query)\n",
        "print(result)"
      ]
    },
    {
      "cell_type": "code",
      "execution_count": 222,
      "metadata": {
        "id": "3_kvJDYY809M",
        "colab": {
          "base_uri": "https://localhost:8080/"
        },
        "outputId": "0cf1b9e8-3c14-4955-c246-984740425003"
      },
      "outputs": [
        {
          "output_type": "stream",
          "name": "stdout",
          "text": [
            "[]\n"
          ]
        }
      ],
      "source": [
        "explore_reviews_csv_query = \"\"\"\n",
        "MERGE (cpeMatch:CpeMatch {uri:\"cpe:2.3:o:microsoft:windows:-:*:*:*:*:*:*:*\" })\n",
        "MERGE (cpe:CPE {version:\"-\"})\n",
        "MERGE (cpeMatch)-[:MAPPED_WITH]->(cpe)\n",
        "\n",
        "\"\"\"\n",
        "result = conn.query(explore_reviews_csv_query)\n",
        "print(result)"
      ]
    },
    {
      "cell_type": "code",
      "execution_count": 223,
      "metadata": {
        "id": "iJDpnnyCldu5",
        "colab": {
          "base_uri": "https://localhost:8080/"
        },
        "outputId": "c5c2aad9-1ada-4b9a-88a0-c99606f15f17"
      },
      "outputs": [
        {
          "output_type": "stream",
          "name": "stdout",
          "text": [
            "[]\n"
          ]
        }
      ],
      "source": [
        "explore_reviews_csv_query = \"\"\"\n",
        "MERGE (cpeMatch:CpeMatch {uri:\"cpe:2.3:a:sap:netweaver_application_server_abap:702:*:*:*:*:*:*:*\" })\n",
        "MERGE (cpe:CPE {version:\"702\"})\n",
        "MERGE (cpeMatch)-[:MAPPED_WITH]->(cpe)\n",
        "\n",
        "\"\"\"\n",
        "result = conn.query(explore_reviews_csv_query)\n",
        "print(result)"
      ]
    },
    {
      "cell_type": "code",
      "execution_count": 224,
      "metadata": {
        "id": "EmvZ0vHMlqex",
        "colab": {
          "base_uri": "https://localhost:8080/"
        },
        "outputId": "3d4b10f7-fc77-4bc8-a9eb-0647c7bbd847"
      },
      "outputs": [
        {
          "output_type": "stream",
          "name": "stdout",
          "text": [
            "[]\n"
          ]
        }
      ],
      "source": [
        "explore_reviews_csv_query = \"\"\"\n",
        "MERGE (cpeMatch:CpeMatch {uri:\"cpe:2.3:a:sap:netweaver_application_server_abap:750:*:*:*:*:*:*:*\" })\n",
        "MERGE (cpe:CPE {version:\"750\"})\n",
        "MERGE (cpeMatch)-[:MAPPED_WITH]->(cpe)\n",
        "\n",
        "\"\"\"\n",
        "result = conn.query(explore_reviews_csv_query)\n",
        "print(result)"
      ]
    },
    {
      "cell_type": "code",
      "execution_count": 225,
      "metadata": {
        "id": "uUh-YkFul1-o",
        "colab": {
          "base_uri": "https://localhost:8080/"
        },
        "outputId": "b15de543-87b6-4212-babd-4339a84336db"
      },
      "outputs": [
        {
          "output_type": "stream",
          "name": "stdout",
          "text": [
            "[]\n"
          ]
        }
      ],
      "source": [
        "explore_reviews_csv_query = \"\"\"\n",
        "MERGE (cpeMatch:CpeMatch {uri:\"cpe:2.3:a:sap:netweaver_application_server_abap:752:*:*:*:*:*:*:*\" })\n",
        "MERGE (cpe:CPE {version:\"752\"})\n",
        "MERGE (cpeMatch)-[:MAPPED_WITH]->(cpe)\n",
        "\n",
        "\"\"\"\n",
        "result = conn.query(explore_reviews_csv_query)\n",
        "print(result)"
      ]
    },
    {
      "cell_type": "code",
      "execution_count": 226,
      "metadata": {
        "id": "NvcgSg_ml33y",
        "colab": {
          "base_uri": "https://localhost:8080/"
        },
        "outputId": "0fbef0ca-da17-49c6-8e50-61e476e8902f"
      },
      "outputs": [
        {
          "output_type": "stream",
          "name": "stdout",
          "text": [
            "[]\n"
          ]
        }
      ],
      "source": [
        "explore_reviews_csv_query = \"\"\"\n",
        "MERGE (cpeMatch:CpeMatch {uri:\"cpe:2.3:a:sap:netweaver_application_server_abap:753:*:*:*:*:*:*:*\" })\n",
        "MERGE (cpe:CPE {version:\"753\"})\n",
        "MERGE (cpeMatch)-[:MAPPED_WITH]->(cpe)\n",
        "\n",
        "\"\"\"\n",
        "result = conn.query(explore_reviews_csv_query)\n",
        "print(result)"
      ]
    },
    {
      "cell_type": "code",
      "execution_count": 227,
      "metadata": {
        "id": "1e-LB5lil5hc",
        "colab": {
          "base_uri": "https://localhost:8080/"
        },
        "outputId": "e2a8a6fb-069f-424d-b011-c54ce7aafcfb"
      },
      "outputs": [
        {
          "output_type": "stream",
          "name": "stdout",
          "text": [
            "[]\n"
          ]
        }
      ],
      "source": [
        "explore_reviews_csv_query = \"\"\"\n",
        "MERGE (cpeMatch:CpeMatch {uri:\"cpe:2.3:a:sap:netweaver_application_server_abap:754:*:*:*:*:*:*:*\" })\n",
        "MERGE (cpe:CPE {version:\"754\"})\n",
        "MERGE (cpeMatch)-[:MAPPED_WITH]->(cpe)\n",
        "\n",
        "\"\"\"\n",
        "result = conn.query(explore_reviews_csv_query)\n",
        "print(result)"
      ]
    },
    {
      "cell_type": "code",
      "execution_count": 228,
      "metadata": {
        "id": "bqZb_yAJl8Cj",
        "colab": {
          "base_uri": "https://localhost:8080/"
        },
        "outputId": "68f4716f-63e5-4cbb-dfd3-2ece5000c2a3"
      },
      "outputs": [
        {
          "output_type": "stream",
          "name": "stdout",
          "text": [
            "[]\n"
          ]
        }
      ],
      "source": [
        "explore_reviews_csv_query = \"\"\"\n",
        "MERGE (cpeMatch:CpeMatch {uri:\"cpe:2.3:a:sap:netweaver_application_server_abap:755:*:*:*:*:*:*:*\" })\n",
        "MERGE (cpe:CPE {version:\"755\"})\n",
        "MERGE (cpeMatch)-[:MAPPED_WITH]->(cpe)\n",
        "\n",
        "\"\"\"\n",
        "result = conn.query(explore_reviews_csv_query)\n",
        "print(result)"
      ]
    },
    {
      "cell_type": "code",
      "execution_count": 229,
      "metadata": {
        "id": "A25kD7aM8due",
        "colab": {
          "base_uri": "https://localhost:8080/"
        },
        "outputId": "6cddefe0-a27c-41a8-e18c-84951d091e7d"
      },
      "outputs": [
        {
          "output_type": "stream",
          "name": "stdout",
          "text": [
            "[]\n"
          ]
        }
      ],
      "source": [
        "explore_reviews_csv_query = \"\"\"\n",
        "MERGE (cpeMatch:CpeMatch {uri:\"cpe:2.3:a:sap:netweaver_application_server_abap:756:*:*:*:*:*:*:*\" })\n",
        "MERGE (cpe:CPE {version:\"756\"})\n",
        "MERGE (cpeMatch)-[:MAPPED_WITH]->(cpe)\n",
        "\n",
        "\"\"\"\n",
        "result = conn.query(explore_reviews_csv_query)\n",
        "print(result)"
      ]
    },
    {
      "cell_type": "code",
      "execution_count": 230,
      "metadata": {
        "id": "6_asvk5elmU4",
        "colab": {
          "base_uri": "https://localhost:8080/"
        },
        "outputId": "b3f920b0-ec5e-4b16-b295-ee6f07b93642"
      },
      "outputs": [
        {
          "output_type": "stream",
          "name": "stdout",
          "text": [
            "[]\n"
          ]
        }
      ],
      "source": [
        "explore_reviews_csv_query = \"\"\"\n",
        "MERGE (cpeMatch:CpeMatch {uri:\"cpe:2.3:a:sap:netweaver_application_server_abap:731:*:*:*:*:*:*:*\" })\n",
        "MERGE (cpe:CPE {version:\"731\"})\n",
        "MERGE (cpeMatch)-[:MAPPED_WITH]->(cpe)\n",
        "\n",
        "\"\"\"\n",
        "result = conn.query(explore_reviews_csv_query)\n",
        "print(result)"
      ]
    },
    {
      "cell_type": "code",
      "execution_count": 231,
      "metadata": {
        "id": "iPjsqunuloiy",
        "colab": {
          "base_uri": "https://localhost:8080/"
        },
        "outputId": "80733011-33d6-46f8-f6f0-f6ad52487cbe"
      },
      "outputs": [
        {
          "output_type": "stream",
          "name": "stdout",
          "text": [
            "[]\n"
          ]
        }
      ],
      "source": [
        "explore_reviews_csv_query = \"\"\"\n",
        "MERGE (cpeMatch:CpeMatch {uri:\"cpe:2.3:a:sap:netweaver_application_server_abap:740:*:*:*:*:*:*:*\" })\n",
        "MERGE (cpe:CPE {version:\"740\"})\n",
        "MERGE (cpeMatch)-[:MAPPED_WITH]->(cpe)\n",
        "\n",
        "\"\"\"\n",
        "result = conn.query(explore_reviews_csv_query)\n",
        "print(result)"
      ]
    },
    {
      "cell_type": "code",
      "execution_count": 232,
      "metadata": {
        "id": "WAVztOyjlzzs",
        "colab": {
          "base_uri": "https://localhost:8080/"
        },
        "outputId": "30bd555c-33fa-4ce2-a083-6f961c6883ad"
      },
      "outputs": [
        {
          "output_type": "stream",
          "name": "stdout",
          "text": [
            "[]\n"
          ]
        }
      ],
      "source": [
        "explore_reviews_csv_query = \"\"\"\n",
        "MERGE (cpeMatch:CpeMatch {uri:\"cpe:2.3:a:sap:netweaver_application_server_abap:751:*:*:*:*:*:*:*\" })\n",
        "MERGE (cpe:CPE {version:\"751\"})\n",
        "MERGE (cpeMatch)-[:MAPPED_WITH]->(cpe)\n",
        "\n",
        "\"\"\"\n",
        "result = conn.query(explore_reviews_csv_query)\n",
        "print(result)"
      ]
    },
    {
      "cell_type": "code",
      "execution_count": 233,
      "metadata": {
        "id": "SyeXOGMh8f-w",
        "colab": {
          "base_uri": "https://localhost:8080/"
        },
        "outputId": "76fba406-0823-4d10-c8d7-33b159c2857c"
      },
      "outputs": [
        {
          "output_type": "stream",
          "name": "stdout",
          "text": [
            "[]\n"
          ]
        }
      ],
      "source": [
        "explore_reviews_csv_query = \"\"\"\n",
        "MERGE (cpeMatch:CpeMatch {uri:\"cpe:2.3:a:sap:netweaver_application_server_abap:757:*:*:*:*:*:*:*\" })\n",
        "MERGE (cpe:CPE {version:\"757\"})\n",
        "MERGE (cpeMatch)-[:MAPPED_WITH]->(cpe)\n",
        "\n",
        "\"\"\"\n",
        "result = conn.query(explore_reviews_csv_query)\n",
        "print(result)"
      ]
    },
    {
      "cell_type": "code",
      "execution_count": 234,
      "metadata": {
        "id": "oZJ5mTvlle7y",
        "colab": {
          "base_uri": "https://localhost:8080/"
        },
        "outputId": "049ca744-682b-4a15-8a41-1450540a66dc"
      },
      "outputs": [
        {
          "output_type": "stream",
          "name": "stdout",
          "text": [
            "[]\n"
          ]
        }
      ],
      "source": [
        "explore_reviews_csv_query = \"\"\"\n",
        "MERGE (cpeMatch:CpeMatch {uri:\"cpe:2.3:a:sap:netweaver_application_server_abap:702:*:*:*:sap_basis:*:*:*\" })\n",
        "MERGE (cpe:CPE {version:\"702\"})\n",
        "MERGE (cpeMatch)-[:MAPPED_WITH]->(cpe)\n",
        "\n",
        "\"\"\"\n",
        "result = conn.query(explore_reviews_csv_query)\n",
        "print(result)"
      ]
    },
    {
      "cell_type": "code",
      "execution_count": 235,
      "metadata": {
        "id": "PazmT6TJ8rRe",
        "colab": {
          "base_uri": "https://localhost:8080/"
        },
        "outputId": "94da80a7-79ed-49b9-9a91-30c1930aa692"
      },
      "outputs": [
        {
          "output_type": "stream",
          "name": "stdout",
          "text": [
            "[]\n"
          ]
        }
      ],
      "source": [
        "explore_reviews_csv_query = \"\"\"\n",
        "MERGE (cpeMatch:CpeMatch {uri:\"cpe:2.3:a:sap:netweaver_as_abap_krnl64nuc:7.22ext:*:*:*:*:*:*:*\" })\n",
        "MERGE (cpe:CPE {version:\"7.22ext\"})\n",
        "MERGE (cpeMatch)-[:MAPPED_WITH]->(cpe)\n",
        "\n",
        "\"\"\"\n",
        "result = conn.query(explore_reviews_csv_query)\n",
        "print(result)"
      ]
    },
    {
      "cell_type": "code",
      "execution_count": 236,
      "metadata": {
        "id": "Gc20DxOC8uDy",
        "colab": {
          "base_uri": "https://localhost:8080/"
        },
        "outputId": "cf7dd0d6-c22b-408a-a4f1-f6f6b22ad644"
      },
      "outputs": [
        {
          "output_type": "stream",
          "name": "stdout",
          "text": [
            "[]\n"
          ]
        }
      ],
      "source": [
        "explore_reviews_csv_query = \"\"\"\n",
        "MERGE (cpeMatch:CpeMatch {uri:\"cpe:2.3:a:sap:netweaver_as_abap_krnl64uc:7.53:*:*:*:*:*:*:*\" })\n",
        "MERGE (cpe:CPE {version:\"7.53\"})\n",
        "MERGE (cpeMatch)-[:MAPPED_WITH]->(cpe)\n",
        "\n",
        "\"\"\"\n",
        "result = conn.query(explore_reviews_csv_query)\n",
        "print(result)"
      ]
    },
    {
      "cell_type": "code",
      "execution_count": 237,
      "metadata": {
        "id": "oe1q7sBY8qbG",
        "colab": {
          "base_uri": "https://localhost:8080/"
        },
        "outputId": "ff0dcec0-ffed-4d10-ab8e-5d1cc59c4f5e"
      },
      "outputs": [
        {
          "output_type": "stream",
          "name": "stdout",
          "text": [
            "[]\n"
          ]
        }
      ],
      "source": [
        "explore_reviews_csv_query = \"\"\"\n",
        "MERGE (cpeMatch:CpeMatch {uri:\"cpe:2.3:a:sap:netweaver_as_abap_krnl64nuc:7.22:*:*:*:*:*:*:*\" })\n",
        "MERGE (cpe:CPE {version:\"7.22\"})\n",
        "MERGE (cpeMatch)-[:MAPPED_WITH]->(cpe)\n",
        "\n",
        "\"\"\"\n",
        "result = conn.query(explore_reviews_csv_query)\n",
        "print(result)"
      ]
    },
    {
      "cell_type": "code",
      "execution_count": 238,
      "metadata": {
        "id": "Jh9kyOUq8kBJ",
        "colab": {
          "base_uri": "https://localhost:8080/"
        },
        "outputId": "d7807fda-435b-4a23-ff8b-10015835d266"
      },
      "outputs": [
        {
          "output_type": "stream",
          "name": "stdout",
          "text": [
            "[]\n"
          ]
        }
      ],
      "source": [
        "explore_reviews_csv_query = \"\"\"\n",
        "MERGE (cpeMatch:CpeMatch {uri:\"cpe:2.3:a:sap:netweaver_as_abap_kernel:7.22:*:*:*:*:*:*:*\" })\n",
        "MERGE (cpe:CPE {version:\"7.22\"})\n",
        "MERGE (cpeMatch)-[:MAPPED_WITH]->(cpe)\n",
        "\n",
        "\"\"\"\n",
        "result = conn.query(explore_reviews_csv_query)\n",
        "print(result)"
      ]
    },
    {
      "cell_type": "code",
      "execution_count": 239,
      "metadata": {
        "id": "QNKafT_Q8k1f",
        "colab": {
          "base_uri": "https://localhost:8080/"
        },
        "outputId": "2042a7d7-b191-4547-9cd7-222de115f75b"
      },
      "outputs": [
        {
          "output_type": "stream",
          "name": "stdout",
          "text": [
            "[]\n"
          ]
        }
      ],
      "source": [
        "explore_reviews_csv_query = \"\"\"\n",
        "MERGE (cpeMatch:CpeMatch {uri:\"cpe:2.3:a:sap:netweaver_as_abap_kernel:7.53:*:*:*:*:*:*:*\" })\n",
        "MERGE (cpe:CPE {version:\"7.53\"})\n",
        "MERGE (cpeMatch)-[:MAPPED_WITH]->(cpe)\n",
        "\n",
        "\"\"\"\n",
        "result = conn.query(explore_reviews_csv_query)\n",
        "print(result)"
      ]
    },
    {
      "cell_type": "code",
      "execution_count": 240,
      "metadata": {
        "id": "kLuNRj978l1w",
        "colab": {
          "base_uri": "https://localhost:8080/"
        },
        "outputId": "14c5a23a-cf78-4096-828c-53ee62d1aa60"
      },
      "outputs": [
        {
          "output_type": "stream",
          "name": "stdout",
          "text": [
            "[]\n"
          ]
        }
      ],
      "source": [
        "explore_reviews_csv_query = \"\"\"\n",
        "MERGE (cpeMatch:CpeMatch {uri:\"cpe:2.3:a:sap:netweaver_as_abap_kernel:7.77:*:*:*:*:*:*:*\" })\n",
        "MERGE (cpe:CPE {version:\"7.77\"})\n",
        "MERGE (cpeMatch)-[:MAPPED_WITH]->(cpe)\n",
        "\n",
        "\"\"\"\n",
        "result = conn.query(explore_reviews_csv_query)\n",
        "print(result)"
      ]
    },
    {
      "cell_type": "code",
      "execution_count": 241,
      "metadata": {
        "id": "Q-OYYGAX8ms_",
        "colab": {
          "base_uri": "https://localhost:8080/"
        },
        "outputId": "4f83d1ba-11a7-47c6-da36-060577896bee"
      },
      "outputs": [
        {
          "output_type": "stream",
          "name": "stdout",
          "text": [
            "[]\n"
          ]
        }
      ],
      "source": [
        "explore_reviews_csv_query = \"\"\"\n",
        "MERGE (cpeMatch:CpeMatch {uri:\"cpe:2.3:a:sap:netweaver_as_abap_kernel:7.81:*:*:*:*:*:*:*\" })\n",
        "MERGE (cpe:CPE {version:\"7.81\"})\n",
        "MERGE (cpeMatch)-[:MAPPED_WITH]->(cpe)\n",
        "\n",
        "\"\"\"\n",
        "result = conn.query(explore_reviews_csv_query)\n",
        "print(result)"
      ]
    },
    {
      "cell_type": "code",
      "execution_count": 242,
      "metadata": {
        "id": "lAPeVdAs8n7w",
        "colab": {
          "base_uri": "https://localhost:8080/"
        },
        "outputId": "106d2928-7b05-43a1-a2a5-ef641ea8a3f7"
      },
      "outputs": [
        {
          "output_type": "stream",
          "name": "stdout",
          "text": [
            "[]\n"
          ]
        }
      ],
      "source": [
        "explore_reviews_csv_query = \"\"\"\n",
        "MERGE (cpeMatch:CpeMatch {uri:\"cpe:2.3:a:sap:netweaver_as_abap_kernel:7.85:*:*:*:*:*:*:*\" })\n",
        "MERGE (cpe:CPE {version:\"7.85\"})\n",
        "MERGE (cpeMatch)-[:MAPPED_WITH]->(cpe)\n",
        "\n",
        "\"\"\"\n",
        "result = conn.query(explore_reviews_csv_query)\n",
        "print(result)"
      ]
    },
    {
      "cell_type": "code",
      "execution_count": 243,
      "metadata": {
        "id": "xNzOHV5v8tH8",
        "colab": {
          "base_uri": "https://localhost:8080/"
        },
        "outputId": "a9ac6a73-7a84-496b-d340-6b2b16a33aad"
      },
      "outputs": [
        {
          "output_type": "stream",
          "name": "stdout",
          "text": [
            "[]\n"
          ]
        }
      ],
      "source": [
        "explore_reviews_csv_query = \"\"\"\n",
        "MERGE (cpeMatch:CpeMatch {uri:\"cpe:2.3:a:sap:netweaver_as_abap_krnl64uc:7.22ext:*:*:*:*:*:*:*\" })\n",
        "MERGE (cpe:CPE {version:\"7.22ext\"})\n",
        "MERGE (cpeMatch)-[:MAPPED_WITH]->(cpe)\n",
        "\n",
        "\"\"\"\n",
        "result = conn.query(explore_reviews_csv_query)\n",
        "print(result)"
      ]
    },
    {
      "cell_type": "code",
      "execution_count": 244,
      "metadata": {
        "id": "8-cEYveglcBm",
        "colab": {
          "base_uri": "https://localhost:8080/"
        },
        "outputId": "f34d60ca-0994-4dfe-d207-879b1817fe44"
      },
      "outputs": [
        {
          "output_type": "stream",
          "name": "stdout",
          "text": [
            "[]\n"
          ]
        }
      ],
      "source": [
        "explore_reviews_csv_query = \"\"\"\n",
        "MERGE (cpeMatch:CpeMatch {uri:\"cpe:2.3:a:sap:netweaver_application_server_abap:700:*:*:*:sap_basis:*:*:*\" })\n",
        "MERGE (cpe:CPE {version:\"700\"})\n",
        "MERGE (cpeMatch)-[:MAPPED_WITH]->(cpe)\n",
        "\n",
        "\"\"\"\n",
        "result = conn.query(explore_reviews_csv_query)\n",
        "print(result)"
      ]
    },
    {
      "cell_type": "code",
      "execution_count": 245,
      "metadata": {
        "id": "CvEb5lvAlc7J",
        "colab": {
          "base_uri": "https://localhost:8080/"
        },
        "outputId": "1e8b1959-a066-4f02-d2e8-aee7a4a9bd86"
      },
      "outputs": [
        {
          "output_type": "stream",
          "name": "stdout",
          "text": [
            "[]\n"
          ]
        }
      ],
      "source": [
        "explore_reviews_csv_query = \"\"\"\n",
        "MERGE (cpeMatch:CpeMatch {uri:\"cpe:2.3:a:sap:netweaver_application_server_abap:701:*:*:*:sap_basis:*:*:*\" })\n",
        "MERGE (cpe:CPE {version:\"701\"})\n",
        "MERGE (cpeMatch)-[:MAPPED_WITH]->(cpe)\n",
        "\n",
        "\"\"\"\n",
        "result = conn.query(explore_reviews_csv_query)\n",
        "print(result)"
      ]
    },
    {
      "cell_type": "code",
      "execution_count": 246,
      "metadata": {
        "id": "iDzLl205lhmc",
        "colab": {
          "base_uri": "https://localhost:8080/"
        },
        "outputId": "13a6ff05-ecd5-45ec-f350-dedefedecc13"
      },
      "outputs": [
        {
          "output_type": "stream",
          "name": "stdout",
          "text": [
            "[]\n"
          ]
        }
      ],
      "source": [
        "explore_reviews_csv_query = \"\"\"\n",
        "MERGE (cpeMatch:CpeMatch {uri:\"cpe:2.3:a:sap:netweaver_application_server_abap:710:*:*:*:sap_basis:*:*:*\" })\n",
        "MERGE (cpe:CPE {version:\"710\"})\n",
        "MERGE (cpeMatch)-[:MAPPED_WITH]->(cpe)\n",
        "\n",
        "\"\"\"\n",
        "result = conn.query(explore_reviews_csv_query)\n",
        "print(result)"
      ]
    },
    {
      "cell_type": "code",
      "execution_count": 247,
      "metadata": {
        "id": "lVHrRpuUljMZ",
        "colab": {
          "base_uri": "https://localhost:8080/"
        },
        "outputId": "45b7b0b7-fbc2-43c9-aed0-d9e4ff7a98bb"
      },
      "outputs": [
        {
          "output_type": "stream",
          "name": "stdout",
          "text": [
            "[]\n"
          ]
        }
      ],
      "source": [
        "explore_reviews_csv_query = \"\"\"\n",
        "MERGE (cpeMatch:CpeMatch {uri:\"cpe:2.3:a:sap:netweaver_application_server_abap:711:*:*:*:sap_basis:*:*:*\" })\n",
        "MERGE (cpe:CPE {version:\"711\"})\n",
        "MERGE (cpeMatch)-[:MAPPED_WITH]->(cpe)\n",
        "\n",
        "\"\"\"\n",
        "result = conn.query(explore_reviews_csv_query)\n",
        "print(result)"
      ]
    },
    {
      "cell_type": "code",
      "execution_count": 248,
      "metadata": {
        "id": "PnzGM_mjlkf9",
        "colab": {
          "base_uri": "https://localhost:8080/"
        },
        "outputId": "13c011b9-b1a9-4dd0-cf7d-b1a19d69273a"
      },
      "outputs": [
        {
          "output_type": "stream",
          "name": "stdout",
          "text": [
            "[]\n"
          ]
        }
      ],
      "source": [
        "explore_reviews_csv_query = \"\"\"\n",
        "MERGE (cpeMatch:CpeMatch {uri:\"cpe:2.3:a:sap:netweaver_application_server_abap:730:*:*:*:sap_basis:*:*:*\" })\n",
        "MERGE (cpe:CPE {version:\"730\"})\n",
        "MERGE (cpeMatch)-[:MAPPED_WITH]->(cpe)\n",
        "\n",
        "\"\"\"\n",
        "result = conn.query(explore_reviews_csv_query)\n",
        "print(result)"
      ]
    },
    {
      "cell_type": "code",
      "execution_count": 249,
      "metadata": {
        "id": "MU7726D8lnak",
        "colab": {
          "base_uri": "https://localhost:8080/"
        },
        "outputId": "b09be773-bb09-40b0-faca-fba9fe2ac195"
      },
      "outputs": [
        {
          "output_type": "stream",
          "name": "stdout",
          "text": [
            "[]\n"
          ]
        }
      ],
      "source": [
        "explore_reviews_csv_query = \"\"\"\n",
        "MERGE (cpeMatch:CpeMatch {uri:\"cpe:2.3:a:sap:netweaver_application_server_abap:731:*:*:*:sap_basis:*:*:*\" })\n",
        "MERGE (cpe:CPE {version:\"731\"})\n",
        "MERGE (cpeMatch)-[:MAPPED_WITH]->(cpe)\n",
        "\n",
        "\"\"\"\n",
        "result = conn.query(explore_reviews_csv_query)\n",
        "print(result)"
      ]
    },
    {
      "cell_type": "code",
      "execution_count": 250,
      "metadata": {
        "id": "e2DhnZYMlplA",
        "colab": {
          "base_uri": "https://localhost:8080/"
        },
        "outputId": "e8eed205-95c5-4873-bd54-d883d52d6b3d"
      },
      "outputs": [
        {
          "output_type": "stream",
          "name": "stdout",
          "text": [
            "[]\n"
          ]
        }
      ],
      "source": [
        "explore_reviews_csv_query = \"\"\"\n",
        "MERGE (cpeMatch:CpeMatch {uri:\"cpe:2.3:a:sap:netweaver_application_server_abap:740:*:*:*:sap_basis:*:*:*\" })\n",
        "MERGE (cpe:CPE {version:\"740\"})\n",
        "MERGE (cpeMatch)-[:MAPPED_WITH]->(cpe)\n",
        "\n",
        "\"\"\"\n",
        "result = conn.query(explore_reviews_csv_query)\n",
        "print(result)"
      ]
    },
    {
      "cell_type": "code",
      "execution_count": 251,
      "metadata": {
        "id": "HKnoiNejly3y",
        "colab": {
          "base_uri": "https://localhost:8080/"
        },
        "outputId": "cfe2012f-9c95-4fc3-a751-979dd676aad9"
      },
      "outputs": [
        {
          "output_type": "stream",
          "name": "stdout",
          "text": [
            "[]\n"
          ]
        }
      ],
      "source": [
        "explore_reviews_csv_query = \"\"\"\n",
        "MERGE (cpeMatch:CpeMatch {uri:\"cpe:2.3:a:sap:netweaver_application_server_abap:750:*:*:*:sap_basis:*:*:*\" })\n",
        "MERGE (cpe:CPE {version:\"750\"})\n",
        "MERGE (cpeMatch)-[:MAPPED_WITH]->(cpe)\n",
        "\n",
        "\"\"\"\n",
        "result = conn.query(explore_reviews_csv_query)\n",
        "print(result)"
      ]
    },
    {
      "cell_type": "code",
      "execution_count": 252,
      "metadata": {
        "id": "MIiSlCxAl0v8",
        "colab": {
          "base_uri": "https://localhost:8080/"
        },
        "outputId": "cdf7cedb-1b02-42d0-a3c6-0aa1b5408f31"
      },
      "outputs": [
        {
          "output_type": "stream",
          "name": "stdout",
          "text": [
            "[]\n"
          ]
        }
      ],
      "source": [
        "explore_reviews_csv_query = \"\"\"\n",
        "MERGE (cpeMatch:CpeMatch {uri:\"cpe:2.3:a:sap:netweaver_application_server_abap:751:*:*:*:sap_basis:*:*:*\" })\n",
        "MERGE (cpe:CPE {version:\"751\"})\n",
        "MERGE (cpeMatch)-[:MAPPED_WITH]->(cpe)\n",
        "\n",
        "\"\"\"\n",
        "result = conn.query(explore_reviews_csv_query)\n",
        "print(result)"
      ]
    },
    {
      "cell_type": "code",
      "execution_count": 253,
      "metadata": {
        "id": "q-X3TUtBl288",
        "colab": {
          "base_uri": "https://localhost:8080/"
        },
        "outputId": "6dac1b13-6de5-409a-c51d-fd90e3ae0bcb"
      },
      "outputs": [
        {
          "output_type": "stream",
          "name": "stdout",
          "text": [
            "[]\n"
          ]
        }
      ],
      "source": [
        "explore_reviews_csv_query = \"\"\"\n",
        "MERGE (cpeMatch:CpeMatch {uri:\"cpe:2.3:a:sap:netweaver_application_server_abap:752:*:*:*:sap_basis:*:*:*\" })\n",
        "MERGE (cpe:CPE {version:\"752\"})\n",
        "MERGE (cpeMatch)-[:MAPPED_WITH]->(cpe)\n",
        "\n",
        "\"\"\"\n",
        "result = conn.query(explore_reviews_csv_query)\n",
        "print(result)"
      ]
    },
    {
      "cell_type": "code",
      "execution_count": 254,
      "metadata": {
        "colab": {
          "base_uri": "https://localhost:8080/"
        },
        "id": "fj24pVAml4os",
        "outputId": "a59a1234-c76b-47f7-f531-68b9cdbd3a1c"
      },
      "outputs": [
        {
          "output_type": "stream",
          "name": "stdout",
          "text": [
            "[]\n"
          ]
        }
      ],
      "source": [
        "explore_reviews_csv_query = \"\"\"\n",
        "MERGE (cpeMatch:CpeMatch {uri:\"cpe:2.3:a:sap:netweaver_application_server_abap:753:*:*:*:sap_basis:*:*:*\" })\n",
        "MERGE (cpe:CPE {version:\"753\"})\n",
        "MERGE (cpeMatch)-[:MAPPED_WITH]->(cpe)\n",
        "\n",
        "\"\"\"\n",
        "result = conn.query(explore_reviews_csv_query)\n",
        "print(result)"
      ]
    },
    {
      "cell_type": "code",
      "execution_count": 255,
      "metadata": {
        "colab": {
          "base_uri": "https://localhost:8080/"
        },
        "id": "sEGg2-VDl6v8",
        "outputId": "42b56309-3ee6-44ec-888a-a7098937fed4"
      },
      "outputs": [
        {
          "output_type": "stream",
          "name": "stdout",
          "text": [
            "[]\n"
          ]
        }
      ],
      "source": [
        "explore_reviews_csv_query = \"\"\"\n",
        "MERGE (cpeMatch:CpeMatch {uri:\"cpe:2.3:a:sap:netweaver_application_server_abap:754:*:*:*:sap_basis:*:*:*\" })\n",
        "MERGE (cpe:CPE {version:\"754\"})\n",
        "MERGE (cpeMatch)-[:MAPPED_WITH]->(cpe)\n",
        "\n",
        "\"\"\"\n",
        "result = conn.query(explore_reviews_csv_query)\n",
        "print(result)"
      ]
    },
    {
      "cell_type": "code",
      "execution_count": 256,
      "metadata": {
        "colab": {
          "base_uri": "https://localhost:8080/"
        },
        "id": "KFYj95Sv8Q-j",
        "outputId": "ed2b1e63-3647-489f-fbd1-60edb0e875f2"
      },
      "outputs": [
        {
          "output_type": "stream",
          "name": "stdout",
          "text": [
            "[]\n"
          ]
        }
      ],
      "source": [
        "explore_reviews_csv_query = \"\"\"\n",
        "MERGE (cpeMatch:CpeMatch {uri:\"cpe:2.3:a:sap:netweaver_application_server_abap:755:*:*:*:sap_basis:*:*:*\" })\n",
        "MERGE (cpe:CPE {version:\"755\"})\n",
        "MERGE (cpeMatch)-[:MAPPED_WITH]->(cpe)\n",
        "\n",
        "\"\"\"\n",
        "result = conn.query(explore_reviews_csv_query)\n",
        "print(result)"
      ]
    },
    {
      "cell_type": "code",
      "execution_count": 257,
      "metadata": {
        "colab": {
          "base_uri": "https://localhost:8080/"
        },
        "id": "PGAxEOgb8evX",
        "outputId": "0f416721-dfc9-48e9-8f3c-ccdf9ab6ac8a"
      },
      "outputs": [
        {
          "output_type": "stream",
          "name": "stdout",
          "text": [
            "[]\n"
          ]
        }
      ],
      "source": [
        "explore_reviews_csv_query = \"\"\"\n",
        "MERGE (cpeMatch:CpeMatch {uri:\"cpe:2.3:a:sap:netweaver_application_server_abap:756:*:*:*:sap_basis:*:*:*\" })\n",
        "MERGE (cpe:CPE {version:\"756\"})\n",
        "MERGE (cpeMatch)-[:MAPPED_WITH]->(cpe)\n",
        "\n",
        "\"\"\"\n",
        "result = conn.query(explore_reviews_csv_query)\n",
        "print(result)"
      ]
    },
    {
      "cell_type": "code",
      "execution_count": 258,
      "metadata": {
        "colab": {
          "base_uri": "https://localhost:8080/"
        },
        "id": "dbkOXjAP8g1i",
        "outputId": "33bb32d5-cef7-4662-eae6-0fddfee4ca05"
      },
      "outputs": [
        {
          "output_type": "stream",
          "name": "stdout",
          "text": [
            "[]\n"
          ]
        }
      ],
      "source": [
        "explore_reviews_csv_query = \"\"\"\n",
        "MERGE (cpeMatch:CpeMatch {uri:\"cpe:2.3:a:sap:netweaver_application_server_abap:757:*:*:*:sap_basis:*:*:*\" })\n",
        "MERGE (cpe:CPE {version:\"757\"})\n",
        "MERGE (cpeMatch)-[:MAPPED_WITH]->(cpe)\n",
        "\n",
        "\"\"\"\n",
        "result = conn.query(explore_reviews_csv_query)\n",
        "print(result)"
      ]
    },
    {
      "cell_type": "code",
      "execution_count": 259,
      "metadata": {
        "colab": {
          "base_uri": "https://localhost:8080/"
        },
        "id": "5pqSTgTW8pP7",
        "outputId": "9868b2a2-8085-44c5-9675-670adcf42349"
      },
      "outputs": [
        {
          "output_type": "stream",
          "name": "stdout",
          "text": [
            "[]\n"
          ]
        }
      ],
      "source": [
        "explore_reviews_csv_query = \"\"\"\n",
        "MERGE (cpeMatch:CpeMatch {uri:\"cpe:2.3:a:sap:netweaver_as_abap_kernel:7.89:*:*:*:*:*:*:*\" })\n",
        "MERGE (cpe:CPE {version:\"7.89\"})\n",
        "MERGE (cpeMatch)-[:MAPPED_WITH]->(cpe)\n",
        "\n",
        "\"\"\"\n",
        "result = conn.query(explore_reviews_csv_query)\n",
        "print(result)"
      ]
    },
    {
      "cell_type": "code",
      "execution_count": 260,
      "metadata": {
        "colab": {
          "base_uri": "https://localhost:8080/"
        },
        "id": "8n_04uVPFgQ4",
        "outputId": "c5625765-baac-4f6e-d6ee-148e92388579"
      },
      "outputs": [
        {
          "output_type": "stream",
          "name": "stdout",
          "text": [
            "[]\n"
          ]
        }
      ],
      "source": [
        "explore_reviews_csv_query = \"\"\"\n",
        "MERGE (cpeMatch:CpeMatch {uri:\"cpe:2.3:a:sap:business_objects_business_intelligence_platform:420:*:*:*:*:*:*:*\" })\n",
        "MERGE (cpe:CPE {version:\"420\"})\n",
        "MERGE (cpeMatch)-[:MAPPED_WITH]->(cpe)\n",
        "\n",
        "\"\"\"\n",
        "result = conn.query(explore_reviews_csv_query)\n",
        "print(result)"
      ]
    },
    {
      "cell_type": "code",
      "execution_count": 261,
      "metadata": {
        "colab": {
          "base_uri": "https://localhost:8080/"
        },
        "id": "ixCqK_VllPi3",
        "outputId": "9140881a-5ada-432d-f2bd-b6909c882799"
      },
      "outputs": [
        {
          "output_type": "stream",
          "name": "stdout",
          "text": [
            "[]\n"
          ]
        }
      ],
      "source": [
        "explore_reviews_csv_query = \"\"\"\n",
        "MERGE (cpeMatch:CpeMatch {uri:\"cpe:2.3:a:sap:business_planning_and_consolidation:810:*:*:*:*:microsoft:*:*\" })\n",
        "MERGE (cpe:CPE {version:\"810\"})\n",
        "MERGE (cpeMatch)-[:MAPPED_WITH]->(cpe)\n",
        "\n",
        "\"\"\"\n",
        "result = conn.query(explore_reviews_csv_query)\n",
        "print(result)"
      ]
    },
    {
      "cell_type": "code",
      "execution_count": 262,
      "metadata": {
        "colab": {
          "base_uri": "https://localhost:8080/"
        },
        "id": "phfT7_GZlOIG",
        "outputId": "38e45535-6dac-4308-f446-c38a005a757f"
      },
      "outputs": [
        {
          "output_type": "stream",
          "name": "stdout",
          "text": [
            "[]\n"
          ]
        }
      ],
      "source": [
        "explore_reviews_csv_query = \"\"\"\n",
        "MERGE (cpeMatch:CpeMatch {uri:\"cpe:2.3:a:sap:business_planning_and_consolidation:800:*:*:*:*:microsoft:*:*\" })\n",
        "MERGE (cpe:CPE {version:\"800\"})\n",
        "MERGE (cpeMatch)-[:MAPPED_WITH]->(cpe)\n",
        "\n",
        "\"\"\"\n",
        "result = conn.query(explore_reviews_csv_query)\n",
        "print(result)"
      ]
    },
    {
      "cell_type": "code",
      "execution_count": 263,
      "metadata": {
        "colab": {
          "base_uri": "https://localhost:8080/"
        },
        "id": "RNRVapf_8jBy",
        "outputId": "18053bb6-d062-48d8-a90d-c7938be6823e"
      },
      "outputs": [
        {
          "output_type": "stream",
          "name": "stdout",
          "text": [
            "[]\n"
          ]
        }
      ],
      "source": [
        "explore_reviews_csv_query = \"\"\"\n",
        "MERGE (cpeMatch:CpeMatch {uri:\"cpe:2.3:a:sap:netweaver_application_server_for_java:7.50:*:*:*:*:*:*:*\" })\n",
        "MERGE (cpe:CPE {version:\"7.50\"})\n",
        "MERGE (cpeMatch)-[:MAPPED_WITH]->(cpe)\n",
        "\n",
        "\"\"\"\n",
        "result = conn.query(explore_reviews_csv_query)\n",
        "print(result)"
      ]
    },
    {
      "cell_type": "code",
      "execution_count": 264,
      "metadata": {
        "colab": {
          "base_uri": "https://localhost:8080/"
        },
        "id": "0ae3KnbtlQct",
        "outputId": "7c9411fb-60d3-4dd1-a39c-43b6bbb46fa2"
      },
      "outputs": [
        {
          "output_type": "stream",
          "name": "stdout",
          "text": [
            "[]\n"
          ]
        }
      ],
      "source": [
        "explore_reviews_csv_query = \"\"\"\n",
        "MERGE (cpeMatch:CpeMatch {uri:\"cpe:2.3:a:sap:businessobjects_business_intelligence_platform:420:*:*:*:*:*:*:*\" })\n",
        "MERGE (cpe:CPE {version:\"420\"})\n",
        "MERGE (cpeMatch)-[:MAPPED_WITH]->(cpe)\n",
        "\n",
        "\"\"\"\n",
        "result = conn.query(explore_reviews_csv_query)\n",
        "print(result)"
      ]
    },
    {
      "cell_type": "code",
      "execution_count": 265,
      "metadata": {
        "colab": {
          "base_uri": "https://localhost:8080/"
        },
        "id": "LnEdxBrllSh0",
        "outputId": "3934f455-3d8c-4974-f696-58e2f4aa5283"
      },
      "outputs": [
        {
          "output_type": "stream",
          "name": "stdout",
          "text": [
            "[]\n"
          ]
        }
      ],
      "source": [
        "explore_reviews_csv_query = \"\"\"\n",
        "MERGE (cpeMatch:CpeMatch {uri:\"cpe:2.3:a:sap:businessobjects_business_intelligence_platform:430:*:*:*:*:*:*:*\" })\n",
        "MERGE (cpe:CPE {version:\"430\"})\n",
        "MERGE (cpeMatch)-[:MAPPED_WITH]->(cpe)\n",
        "\n",
        "\"\"\"\n",
        "result = conn.query(explore_reviews_csv_query)\n",
        "print(result)"
      ]
    },
    {
      "cell_type": "code",
      "execution_count": 266,
      "metadata": {
        "colab": {
          "base_uri": "https://localhost:8080/"
        },
        "id": "_HJaQ1NilRUD",
        "outputId": "763c857f-1add-4fbf-9aea-8a567e7136e0"
      },
      "outputs": [
        {
          "output_type": "stream",
          "name": "stdout",
          "text": [
            "[]\n"
          ]
        }
      ],
      "source": [
        "explore_reviews_csv_query = \"\"\"\n",
        "MERGE (cpeMatch:CpeMatch {uri:\"cpe:2.3:a:sap:businessobjects_business_intelligence_platform:420:*:*:*:analysis:olap:*:*\" })\n",
        "MERGE (cpe:CPE {version:\"420\"})\n",
        "MERGE (cpeMatch)-[:MAPPED_WITH]->(cpe)\n",
        "\n",
        "\"\"\"\n",
        "result = conn.query(explore_reviews_csv_query)\n",
        "print(result)"
      ]
    },
    {
      "cell_type": "code",
      "execution_count": 267,
      "metadata": {
        "colab": {
          "base_uri": "https://localhost:8080/"
        },
        "id": "4BBQv4MBlYN0",
        "outputId": "c42f7661-17be-4c26-dc4e-c2016606044a"
      },
      "outputs": [
        {
          "output_type": "stream",
          "name": "stdout",
          "text": [
            "[]\n"
          ]
        }
      ],
      "source": [
        "explore_reviews_csv_query = \"\"\"\n",
        "MERGE (cpeMatch:CpeMatch {uri:\"cpe:2.3:a:sap:businessobjects_business_intelligence_platform:430:*:*:*:analysis:olap:*:*\" })\n",
        "MERGE (cpe:CPE {version:\"430\"})\n",
        "MERGE (cpeMatch)-[:MAPPED_WITH]->(cpe)\n",
        "\n",
        "\"\"\"\n",
        "result = conn.query(explore_reviews_csv_query)\n",
        "print(result)"
      ]
    },
    {
      "cell_type": "code",
      "execution_count": 268,
      "metadata": {
        "colab": {
          "base_uri": "https://localhost:8080/"
        },
        "id": "w64VdVfuhxfS",
        "outputId": "8b424894-2865-4412-eaba-b370497149ea"
      },
      "outputs": [
        {
          "output_type": "stream",
          "name": "stdout",
          "text": [
            "[]\n"
          ]
        }
      ],
      "source": [
        "explore_reviews_csv_query = \"\"\"\n",
        "MERGE (cpeMatch:CpeMatch {uri:\"cpe:2.3:a:sap:bank_account_management:900:*:*:*:*:*:*:*\" })\n",
        "MERGE (cpe:CPE {version:\"900\"})\n",
        "MERGE (cpeMatch)-[:MAPPED_WITH]->(cpe)\n",
        "\n",
        "\"\"\"\n",
        "result = conn.query(explore_reviews_csv_query)\n",
        "print(result)"
      ]
    },
    {
      "cell_type": "code",
      "execution_count": 269,
      "metadata": {
        "colab": {
          "base_uri": "https://localhost:8080/"
        },
        "id": "4NYG_JuJ2np3",
        "outputId": "a741572d-f3ff-4ba2-8cc5-e84112b69210"
      },
      "outputs": [
        {
          "output_type": "stream",
          "name": "stdout",
          "text": [
            "[]\n"
          ]
        }
      ],
      "source": [
        "explore_reviews_csv_query = \"\"\"\n",
        "MERGE (cpeMatch:CpeMatch {uri:\"cpe:2.3:a:sap:bank_account_management:800:*:*:*:*:*:*:*\" })\n",
        "MERGE (cpe:CPE {version:\"800\"})\n",
        "MERGE (cpeMatch)-[:MAPPED_WITH]->(cpe)\n",
        "\n",
        "\"\"\"\n",
        "result = conn.query(explore_reviews_csv_query)\n",
        "print(result)"
      ]
    },
    {
      "cell_type": "code",
      "execution_count": 270,
      "metadata": {
        "colab": {
          "base_uri": "https://localhost:8080/"
        },
        "id": "rL35pxMdmEYp",
        "outputId": "77a976f9-cb9b-47b1-d763-d44672e26cf1"
      },
      "outputs": [
        {
          "output_type": "stream",
          "name": "stdout",
          "text": [
            "[]\n"
          ]
        }
      ],
      "source": [
        "explore_reviews_csv_query = \"\"\"\n",
        "MERGE (cpeMatch:CpeMatch {uri:\"cpe:2.3:a:linagora:twake:*:*:*:*:*:*:*:*\" })\n",
        "MERGE (cpe:CPE {version:\"*\"})\n",
        "MERGE (cpeMatch)-[:MAPPED_WITH]->(cpe)\n",
        "\n",
        "\"\"\"\n",
        "result = conn.query(explore_reviews_csv_query)\n",
        "print(result)"
      ]
    },
    {
      "cell_type": "code",
      "execution_count": 271,
      "metadata": {
        "colab": {
          "base_uri": "https://localhost:8080/"
        },
        "id": "1n3v0vB781t3",
        "outputId": "3d88a787-3f7b-4850-b6f0-7e9ac55039d3"
      },
      "outputs": [
        {
          "output_type": "stream",
          "name": "stdout",
          "text": [
            "[]\n"
          ]
        }
      ],
      "source": [
        "explore_reviews_csv_query = \"\"\"\n",
        "MERGE (cpeMatch:CpeMatch {uri:\"cpe:2.3:o:multilaserempresas:re708_firmware:re1200r4gc-2t2r-v3_v3411b_mul029b:*:*:*:*:*:*:*\" })\n",
        "MERGE (cpe:CPE {version:\"re1200r4gc-2t2r-v3_v3411b_mul029b\"})\n",
        "MERGE (cpeMatch)-[:MAPPED_WITH]->(cpe)\n",
        "\n",
        "\"\"\"\n",
        "result = conn.query(explore_reviews_csv_query)\n",
        "print(result)"
      ]
    },
    {
      "cell_type": "code",
      "execution_count": 272,
      "metadata": {
        "colab": {
          "base_uri": "https://localhost:8080/"
        },
        "id": "eOAoAjLL8z-o",
        "outputId": "18508cd7-e713-4ec6-ef5a-bd50a11f60f7"
      },
      "outputs": [
        {
          "output_type": "stream",
          "name": "stdout",
          "text": [
            "[]\n"
          ]
        }
      ],
      "source": [
        "explore_reviews_csv_query = \"\"\"\n",
        "MERGE (cpeMatch:CpeMatch {uri:\"cpe:2.3:h:multilaserempresas:re708:-:*:*:*:*:*:*:*\" })\n",
        "MERGE (cpe:CPE {version:\"-\"})\n",
        "MERGE (cpeMatch)-[:MAPPED_WITH]->(cpe)\n",
        "\n",
        "\"\"\"\n",
        "result = conn.query(explore_reviews_csv_query)\n",
        "print(result)"
      ]
    },
    {
      "cell_type": "markdown",
      "metadata": {
        "id": "v_JgjuTayQL5"
      },
      "source": [
        "**Script_Unstructured data.cypher**"
      ]
    },
    {
      "cell_type": "markdown",
      "metadata": {
        "id": "5bS9uBOlK-8v"
      },
      "source": [
        "Extract the entities from unstructured data (vulnerability description) in CVE by using OIE model, entity-fishing, and en_core_web_sm model (from spaCy)\n"
      ]
    },
    {
      "cell_type": "code",
      "execution_count": 273,
      "metadata": {
        "colab": {
          "base_uri": "https://localhost:8080/"
        },
        "id": "8LrhRlpYK-G8",
        "outputId": "8689ac3f-d65d-4418-cb64-53b39b99da25"
      },
      "outputs": [
        {
          "output_type": "stream",
          "name": "stdout",
          "text": [
            "[]\n"
          ]
        }
      ],
      "source": [
        "explore_reviews_csv_query = \"\"\"\n",
        "CREATE (node1:Frame {text:\"gains\",type:\"verb\"}),\n",
        "       (node2:Frame_Argument{text:\"an attacker\",type:\"ARG0\"}),\n",
        "       (node3:Reference{text:\"who\",type:\"R-ARG0\"}),\n",
        "       (node4:Frame_Argument{text:\"local membership\",type:\"ARG1\"}),\n",
        "       (node5:Frame_Argument{text:\"to SAP_LocalAdmin\",type:\"ARG4\"}),\n",
        "\n",
        "       (node2)-[:HAS_ARGUMENT]->(node1),\n",
        "       (node3)-[:HAS_ARGUMENT]->(node1),\n",
        "       (node4)-[:HAS_ARGUMENT]->(node1),\n",
        "       (node5)-[:HAS_ARGUMENT]->(node1)\n",
        "\n",
        "MERGE (description:Description {cveId:\"CVE-2023-0012\"})\n",
        "MERGE (frame:Frame {text:\"gains\"})\n",
        "MERGE (description)-[:MAPPED_WITH]->(frame)\n",
        "\n",
        "\"\"\"\n",
        "result = conn.query(explore_reviews_csv_query)\n",
        "print(result)"
      ]
    },
    {
      "cell_type": "code",
      "execution_count": 274,
      "metadata": {
        "colab": {
          "base_uri": "https://localhost:8080/"
        },
        "id": "rSYckdLLNPqg",
        "outputId": "bb3479fa-4897-4f1a-f251-f600613ed779"
      },
      "outputs": [
        {
          "output_type": "stream",
          "name": "stdout",
          "text": [
            "[]\n"
          ]
        }
      ],
      "source": [
        "explore_reviews_csv_query = \"\"\"\n",
        "CREATE (node1:Frame {text:\"be\",type:\"verb\"}),\n",
        "       (node2:Frame_Argument{text:\"an attacker who gains local membership to SAP_LocalAdmin\",type:\"ARG1\"}),\n",
        "       (node3:Modifier_Modal{text:\"could\",type:\"ARGM-MOD\"}),\n",
        "       (node4:Frame_Argument{text:\"able to replace executables with a malicious file that will be started under a privileged account\",type:\"ARG2\"}),\n",
        "       (node5:Frame_Argument{type:\"ARG0\",Head:\"attacker\",offsetStart:3,offsetEnd:11,confidence_score:0.3651,wikipediaExternalRef:428681,wikidataId:\"Q280658\",domains:\"Biology\"}),\n",
        "       (node6:Frame_Argument{type:\"ARG2\",Head:\"malicious\",offsetStart:35,offsetEnd:44,confidence_score:0.5011,wikipediaExternalRef:20901,wikidataId:\"Q14001\",domains:\"Computer_Science\"}),\n",
        "\n",
        "       (node2)-[:HAS_ARGUMENT]->(node1),\n",
        "       (node3)-[:HAS_ARGUMENT]->(node1),\n",
        "       (node4)-[:HAS_ARGUMENT]->(node1),\n",
        "       (node5)-[:HAS_ARGUMENT]->(node1),\n",
        "       (node6)-[:HAS_ARGUMENT]->(node1)\n",
        "\n",
        "MERGE (description:Description {cveId:\"CVE-2023-0012\"})\n",
        "MERGE (frame:Frame {text:\"be\"})\n",
        "MERGE (description)-[:MAPPED_WITH]->(frame)       \n",
        "       \n",
        "\"\"\"\n",
        "result = conn.query(explore_reviews_csv_query)\n",
        "print(result)"
      ]
    },
    {
      "cell_type": "code",
      "execution_count": 275,
      "metadata": {
        "colab": {
          "base_uri": "https://localhost:8080/"
        },
        "id": "NTsuS76jLisW",
        "outputId": "dd2030b3-e7c7-43ec-f0d1-82dfc68f4909"
      },
      "outputs": [
        {
          "output_type": "stream",
          "name": "stdout",
          "text": [
            "[]\n"
          ]
        }
      ],
      "source": [
        "explore_reviews_csv_query = \"\"\"\n",
        "CREATE (node1:Frame {text:\"replace\",type:\"verb\"}),\n",
        "       (node2:Frame_Argument{text:\"executables\",type:\"ARG1\"}),\n",
        "       (node3:Frame_Argument{text:\"an attacker who gains local membership to SAP_LocalAdmin\",type:\"ARG2\"}),\n",
        "       (node4:Frame_Argument{text:\"with a malicious file that will be started under a privileged account\",type:\"ARG2\"}),\n",
        "\n",
        "       (node2)-[:HAS_ARGUMENT]->(node1),\n",
        "       (node3)-[:HAS_ARGUMENT]->(node1),\n",
        "       (node4)-[:HAS_ARGUMENT]->(node1)\n",
        "\n",
        "MERGE (description:Description {cveId:\"CVE-2023-0012\"})\n",
        "MERGE (frame:Frame {text:\"replace\"})\n",
        "MERGE (description)-[:MAPPED_WITH]->(frame)        \n",
        "\n",
        "\"\"\"\n",
        "result = conn.query(explore_reviews_csv_query)\n",
        "print(result)"
      ]
    },
    {
      "cell_type": "code",
      "execution_count": 276,
      "metadata": {
        "colab": {
          "base_uri": "https://localhost:8080/"
        },
        "id": "UHZeCtIINjMO",
        "outputId": "370344d5-ceff-4d98-88da-ce89a3d163b9"
      },
      "outputs": [
        {
          "output_type": "stream",
          "name": "stdout",
          "text": [
            "[]\n"
          ]
        }
      ],
      "source": [
        "explore_reviews_csv_query = \"\"\"\n",
        "CREATE (node1:Frame {text:\"started\",type:\"verb\"}),\n",
        "       (node2:Frame_Argument{text:\"a malicious file\",type:\"ARG1\"}),\n",
        "       (node3:Reference{text:\"that\",type:\"R-ARG1\"}),\n",
        "       (node4:Modifier_Modal{text:\"will\",type:\"ARGM-MOD\"}),\n",
        "       (node5:Modifier_Location{text:\"under a privileged account\",type:\"ARGM-LOC\"}),\n",
        "\n",
        "       (node2)-[:HAS_ARGUMENT]->(node1),\n",
        "       (node3)-[:HAS_ARGUMENT]->(node1),\n",
        "       (node4)-[:HAS_ARGUMENT]->(node1),\n",
        "       (node5)-[:HAS_ARGUMENT]->(node1)\n",
        "\n",
        "MERGE (description:Description {cveId:\"CVE-2023-0012\"})\n",
        "MERGE (frame:Frame {text:\"started\"})\n",
        "MERGE (description)-[:MAPPED_WITH]->(frame)       \n",
        "\n",
        "\"\"\"\n",
        "result = conn.query(explore_reviews_csv_query)\n",
        "print(result)"
      ]
    },
    {
      "cell_type": "code",
      "execution_count": 277,
      "metadata": {
        "colab": {
          "base_uri": "https://localhost:8080/"
        },
        "id": "XCmuApWEq1J0",
        "outputId": "10f636c9-4c25-4ab6-c34e-9b6aea7cf336"
      },
      "outputs": [
        {
          "output_type": "stream",
          "name": "stdout",
          "text": [
            "[]\n"
          ]
        }
      ],
      "source": [
        "explore_reviews_csv_query = \"\"\"\n",
        "CREATE (node1:Frame {text:\"Note\",type:\"verb\"}),\n",
        "       (node2:Modifier_Location{text:\"In SAP\",type:\"ARGM-LOC\"}),\n",
        "       (node3:Frame_Argument{text:\"that by default all user members of SAP_LocaAdmin are denied the ability to logon locally by security policy so that this can only occur if the system has already been compromised\",type:\"ARG1\"}),\n",
        "       (node4:Frame_Argument{type:\"ARG1\",Head:\"logon\",offsetStart:76,offsetEnd:81,confidence_score:0.6351,wikipediaExternalRef:9878372,wikidataId:\"Q472302\",domains:\"Computer_Science\"}),\n",
        "\n",
        "       (node2)-[:HAS_ARGUMENT]->(node1),\n",
        "       (node3)-[:HAS_ARGUMENT]->(node1),\n",
        "       (node4)-[:HAS_ARGUMENT]->(node1)\n",
        "\n",
        "MERGE (description:Description {cveId:\"CVE-2023-0012\"})\n",
        "MERGE (frame:Frame {text:\"Note\"})\n",
        "MERGE (description)-[:MAPPED_WITH]->(frame)       \n",
        "\n",
        "\"\"\"\n",
        "result = conn.query(explore_reviews_csv_query)\n",
        "print(result)"
      ]
    },
    {
      "cell_type": "code",
      "execution_count": 278,
      "metadata": {
        "colab": {
          "base_uri": "https://localhost:8080/"
        },
        "id": "Tlpm6WuqNkjy",
        "outputId": "6c6b5844-a36b-4253-869b-6a1e1030bba0"
      },
      "outputs": [
        {
          "output_type": "stream",
          "name": "stdout",
          "text": [
            "[]\n"
          ]
        }
      ],
      "source": [
        "explore_reviews_csv_query = \"\"\"\n",
        "CREATE (node1:Frame {text:\"denied\",type:\"Verb\"}),\n",
        "       (node2:Modifier_Manner{text:\"by default all user members of\",type:\"ARGM-MNR\"}),\n",
        "       (node3:Frame_Argument{text:\"the ability to logon locally by security policy\",type:\"ARG1\"}),\n",
        "       (node4:Modifier_Purpose{text:\"so that this can only occur if the system has already been compromised\",type:\"ARGM-PRP\"}),\n",
        "       (node5:Frame_Argument{type:\"ARG0\",Head:\"security policy\",offsetStart:32,offsetEnd:47,confidence_score:0.5825,wikipediaExternalRef:34231217,wikidataId:\"Q1128636\",domains:\"Electronics, Computer_Science, Telecommunication\"}),\n",
        "\n",
        "       (node2)-[:HAS_ARGUMENT]->(node1),\n",
        "       (node3)-[:HAS_ARGUMENT]->(node1),\n",
        "       (node4)-[:HAS_ARGUMENT]->(node1),\n",
        "       (node5)-[:HAS_ARGUMENT]->(node1)\n",
        "\n",
        "MERGE (description:Description {cveId:\"CVE-2023-0012\"})\n",
        "MERGE (frame:Frame {text:\"denied\"})\n",
        "MERGE (description)-[:MAPPED_WITH]->(frame)        \n",
        "\n",
        "\"\"\"\n",
        "result = conn.query(explore_reviews_csv_query)\n",
        "print(result)"
      ]
    },
    {
      "cell_type": "code",
      "execution_count": 279,
      "metadata": {
        "colab": {
          "base_uri": "https://localhost:8080/"
        },
        "id": "YZr_jd8CNlyL",
        "outputId": "d0c3cf4f-5aef-48de-d598-284b068a6eea"
      },
      "outputs": [
        {
          "output_type": "stream",
          "name": "stdout",
          "text": [
            "[]\n"
          ]
        }
      ],
      "source": [
        "explore_reviews_csv_query = \"\"\"\n",
        "CREATE (node1:Frame {text:\"logon\",type:\"Verb\"}),\n",
        "       (node2:Frame_Argument{text:\"locally\",type:\"ARG1\"}),\n",
        "       (node3:Frame_Argument{text:\"by security\",type:\"ARG2\"}),\n",
        "\n",
        "       (node2)-[:HAS_ARGUMENT]->(node1),\n",
        "       (node3)-[:HAS_ARGUMENT]->(node1)\n",
        "\n",
        "MERGE (description:Description {cveId:\"CVE-2023-0012\"})\n",
        "MERGE (frame:Frame {text:\"logon\"})\n",
        "MERGE (description)-[:MAPPED_WITH]->(frame)       \n",
        "      \n",
        "\n",
        "\"\"\"\n",
        "result = conn.query(explore_reviews_csv_query)\n",
        "print(result)"
      ]
    },
    {
      "cell_type": "code",
      "execution_count": 280,
      "metadata": {
        "colab": {
          "base_uri": "https://localhost:8080/"
        },
        "id": "p9WqiFIwNm1S",
        "outputId": "6a3f3901-59bb-44db-8155-e0a60475dca3"
      },
      "outputs": [
        {
          "output_type": "stream",
          "name": "stdout",
          "text": [
            "[]\n"
          ]
        }
      ],
      "source": [
        "explore_reviews_csv_query = \"\"\"\n",
        "CREATE (node1:Frame {text:\"occur\",type:\"Verb\"}),\n",
        "       (node2:Frame_Argument{text:\"this\",type:\"ARG1\"}),\n",
        "       (node3:Modifier_Modal{text:\"can\",type:\"ARGM-MOD\"}),\n",
        "       (node4:Modifier_Adverbial{text:\"only\",type:\"ARGM-ADV\"}),\n",
        "       (node5:Modifier_Adverbial{text:\"if the system has already been compromised\",type:\"ARGM-ADV\"}),\n",
        "\n",
        "       (node2)-[:HAS_ARGUMENT]->(node1),\n",
        "       (node3)-[:HAS_ARGUMENT]->(node1),\n",
        "       (node4)-[:HAS_ARGUMENT]->(node1),\n",
        "       (node5)-[:HAS_ARGUMENT]->(node1)\n",
        "\n",
        "MERGE (description:Description {cveId:\"CVE-2023-0012\"})\n",
        "MERGE (frame:Frame {text:\"occur\"})\n",
        "MERGE (description)-[:MAPPED_WITH]->(frame)        \n",
        "\n",
        "\"\"\"\n",
        "result = conn.query(explore_reviews_csv_query)\n",
        "print(result)"
      ]
    },
    {
      "cell_type": "code",
      "execution_count": 281,
      "metadata": {
        "id": "qg51jo8dNo2u",
        "colab": {
          "base_uri": "https://localhost:8080/"
        },
        "outputId": "45a8d8f0-59ec-4873-8b56-0c97d95bf48f"
      },
      "outputs": [
        {
          "output_type": "stream",
          "name": "stdout",
          "text": [
            "[]\n"
          ]
        }
      ],
      "source": [
        "explore_reviews_csv_query = \"\"\"\n",
        "CREATE (node1:Frame {text:\"compromised\",type:\"Verb\"}),\n",
        "       (node2:Frame_Argument{text:\"the system\",type:\"ARG1\"}),\n",
        "       (node3:Modifier_Temporal{text:\"already\",type:\"ARGM-TMP\"}),\n",
        "\n",
        "       (node2)-[:HAS_ARGUMENT]->(node1),\n",
        "       (node3)-[:HAS_ARGUMENT]->(node1)\n",
        "\n",
        "MERGE (description:Description {cveId:\"CVE-2023-0012\"})\n",
        "MERGE (frame:Frame {text:\"compromised\"})\n",
        "MERGE (description)-[:MAPPED_WITH]->(frame)       \n",
        "\n",
        "\"\"\"\n",
        "result = conn.query(explore_reviews_csv_query)\n",
        "print(result)"
      ]
    },
    {
      "cell_type": "code",
      "execution_count": 282,
      "metadata": {
        "id": "mLviV6NxNn6W",
        "colab": {
          "base_uri": "https://localhost:8080/"
        },
        "outputId": "93206adb-f8f8-4b12-9947-c71d156d5267"
      },
      "outputs": [
        {
          "output_type": "stream",
          "name": "stdout",
          "text": [
            "[]\n"
          ]
        }
      ],
      "source": [
        "explore_reviews_csv_query = \"\"\"\n",
        "CREATE (node1:Frame {text:\"encode\",type:\"Verb\"}),\n",
        "       (node2:Frame_Argument{text:\"The ABAP Keyword Documentation of SAP NetWeaver Application Server - versions 702 , 731 , 740 , 750 , 751 , 752 , 753 , 754 , 755 , 756 , 757 , for ABAP and ABAP Platform\",type:\"ARG0\"}),\n",
        "       (node3:Modifier_Negation{text:\"not\",type:\"ARGM-NEG\"}),\n",
        "       (node4:Modifier_Manner{text:\"sufficiently\",type:\"ARGM-MNR\"}),\n",
        "       (node5:Frame_Argument{text:\"user - controlled inputs\",type:\"ARG1\"}),\n",
        "       (node6:Modifier_Adverbial{text:\"resulting in Cross - Site Scripting ( XSS ) vulnerability . On successful exploitation an attacker can cause limited impact on confidentiality and integrity of the application\",type:\"ARGM-ADV\"}),\n",
        "       (node7:Frame_Argument{type:\"ARG1\",Head:\"user-controlled\",offsetStart:189,offsetEnd:204,confidence_score:0.4601,wikipediaExternalRef:21875249,wikidataId:\"Q3561045\",domains:\"Computer_Science\"}),\n",
        "       (node8:Frame_Argument{type:\"ARG1\",Head:\"inputs\",offsetStart:205,offsetEnd:211,confidence_score:0.3879,wikipediaExternalRef:11231,wikidataId:\"Q210947\",domains:\"Finance,Sociology,Economy,Commerce,Enterprise\"}),\n",
        "\n",
        "       (node2)-[:HAS_ARGUMENT]->(node1),\n",
        "       (node3)-[:HAS_ARGUMENT]->(node1),\n",
        "       (node4)-[:HAS_ARGUMENT]->(node1),\n",
        "       (node5)-[:HAS_ARGUMENT]->(node1),\n",
        "       (node6)-[:HAS_ARGUMENT]->(node1),\n",
        "       (node7)-[:HAS_ARGUMENT]->(node1),\n",
        "       (node8)-[:HAS_ARGUMENT]->(node1)\n",
        "\n",
        "MERGE (description:Description {cveId:\"CVE-2023-0013\"})\n",
        "MERGE (frame:Frame {text:\"encode\"})\n",
        "MERGE (description)-[:MAPPED_WITH]->(frame)        \n",
        "\n",
        "\"\"\"\n",
        "result = conn.query(explore_reviews_csv_query)\n",
        "print(result)"
      ]
    },
    {
      "cell_type": "code",
      "execution_count": 283,
      "metadata": {
        "id": "X1Aq_2RVNqDm",
        "colab": {
          "base_uri": "https://localhost:8080/"
        },
        "outputId": "c35a3da4-2d49-4879-b310-ba008e5a42de"
      },
      "outputs": [
        {
          "output_type": "stream",
          "name": "stdout",
          "text": [
            "[]\n"
          ]
        }
      ],
      "source": [
        "explore_reviews_csv_query = \"\"\"\n",
        "CREATE (node1:Frame {text:\"controlled\",type:\"Verb\"}),\n",
        "       (node2:Frame_Argument{text:\"user\",type:\"ARG0\"}),\n",
        "       (node3:Frame_Argument{text:\"inputs\",type:\"ARG1\"}),\n",
        "\n",
        "       (node2)-[:HAS_ARGUMENT]->(node1),\n",
        "       (node3)-[:HAS_ARGUMENT]->(node1)\n",
        "\n",
        "MERGE (description:Description {cveId:\"CVE-2023-0013\"})\n",
        "MERGE (frame:Frame {text:\"controlled\"})\n",
        "MERGE (description)-[:MAPPED_WITH]->(frame)        \n",
        "\n",
        "\"\"\"\n",
        "result = conn.query(explore_reviews_csv_query)\n",
        "print(result)"
      ]
    },
    {
      "cell_type": "code",
      "execution_count": 284,
      "metadata": {
        "id": "HAlGxjMENq9t",
        "colab": {
          "base_uri": "https://localhost:8080/"
        },
        "outputId": "da4dec97-2b21-49a3-a1f4-23af7ed7a3e8"
      },
      "outputs": [
        {
          "output_type": "stream",
          "name": "stdout",
          "text": [
            "[]\n"
          ]
        }
      ],
      "source": [
        "explore_reviews_csv_query = \"\"\"\n",
        "CREATE (node1:Frame {text:\"cause\",type:\"Verb\"}),\n",
        "       (node2:Modifier_Location{text:\"On successful exploitation\",type:\"ARGM-LOC\"}),\n",
        "       (node3:Frame_Argument{text:\"an attacker\",type:\"ARG0\"}),\n",
        "       (node4:Modifier_Modal{text:\"can\",type:\"ARGM-MOD\"}),\n",
        "       (node5:Frame_Argument{text:\"limited impact on confidentiality and integrity of the application\",type:\"ARG1\"}),\n",
        "\n",
        "       (node2)-[:HAS_ARGUMENT]->(node1),\n",
        "       (node3)-[:HAS_ARGUMENT]->(node1),\n",
        "       (node4)-[:HAS_ARGUMENT]->(node1),\n",
        "       (node5)-[:HAS_ARGUMENT]->(node1)\n",
        "\n",
        "MERGE (description:Description {cveId:\"CVE-2023-0013\"})\n",
        "MERGE (frame:Frame {text:\"cause\"})\n",
        "MERGE (description)-[:MAPPED_WITH]->(frame)        \n",
        "\n",
        "\"\"\"\n",
        "result = conn.query(explore_reviews_csv_query)\n",
        "print(result)"
      ]
    },
    {
      "cell_type": "code",
      "execution_count": 285,
      "metadata": {
        "id": "YWkiE2vtNsPd",
        "colab": {
          "base_uri": "https://localhost:8080/"
        },
        "outputId": "bed21d44-311c-450e-a01b-6e0594bf281a"
      },
      "outputs": [
        {
          "output_type": "stream",
          "name": "stdout",
          "text": [
            "[]\n"
          ]
        }
      ],
      "source": [
        "explore_reviews_csv_query = \"\"\"\n",
        "CREATE (node1:Frame {text:\"creates\",type:\"Verb\"}),\n",
        "       (node2:Frame_Argument{text:\"SAP NetWeaver ABAP Server and ABAP Platform - versions SAP_BASIS 700 , 701 , 702 , 710 , 711 , 730 , 731 , 740 , 750 , 751 , 752 , 753 , 754 , 755 , 756 , 757 , KERNEL 7.22 , 7.53 , 7.77 , 7.81 , 7.85 , 7.89 , KRNL64UC 7.22 , 7.22EXT , 7.53 , KRNL64NUC 7.22 , 7.22EXT\",type:\"ARG0\"}),\n",
        "       (node3:Frame_Argument{text:\"information about system identity\",type:\"ARG1\"}),\n",
        "       (node4:Modifier_Location{text:\"in an ambiguous format\",type:\"ARGM-LOC\"}),\n",
        "       (node5:Frame_Argument{type:\"ARG1\",Head:\"KERNEL\",offsetStart:161,offsetEnd:167,confidence_score:0.4157,wikipediaExternalRef:21346982,wikidataId:\"Q9662\",domains:\"Computer_Science\"}),\n",
        "\n",
        "       (node2)-[:HAS_ARGUMENT]->(node1),\n",
        "       (node3)-[:HAS_ARGUMENT]->(node1),\n",
        "       (node4)-[:HAS_ARGUMENT]->(node1),\n",
        "       (node5)-[:HAS_ARGUMENT]->(node1)\n",
        "\n",
        "MERGE (description:Description {cveId:\"CVE-2023-0014\"})\n",
        "MERGE (frame:Frame {text:\"creates\"})\n",
        "MERGE (description)-[:MAPPED_WITH]->(frame)        \n",
        "\n",
        "\"\"\"\n",
        "result = conn.query(explore_reviews_csv_query)\n",
        "print(result)"
      ]
    },
    {
      "cell_type": "code",
      "execution_count": 286,
      "metadata": {
        "id": "f3UO_q-mNtXL",
        "colab": {
          "base_uri": "https://localhost:8080/"
        },
        "outputId": "47902462-e207-41dc-d40a-384f565c6c9e"
      },
      "outputs": [
        {
          "output_type": "stream",
          "name": "stdout",
          "text": [
            "[]\n"
          ]
        }
      ],
      "source": [
        "explore_reviews_csv_query = \"\"\"\n",
        "CREATE (node1:Frame {text:\"lead\",type:\"Verb\"}),\n",
        "       (node2:Frame_Argument{text:\"This\",type:\"ARG0\"}),\n",
        "       (node3:Modifier_Modal{text:\"could\",type:\"ARGM-MOD\"}),\n",
        "       (node4:Frame_Argument{text:\"to capture - replay vulnerability\",type:\"ARG2\"}),\n",
        "       (node5:Frame_Argument{type:\"ARG1\",Head:\"vulnerability\",offsetStart:20,offsetEnd:33,confidence_score:0.3654,wikipediaExternalRef:1129827,wikidataId:\"Q631425\",domains:\"Military,Computer_Science\"}),\n",
        "\n",
        "       (node2)-[:HAS_ARGUMENT]->(node1),\n",
        "       (node3)-[:HAS_ARGUMENT]->(node1),\n",
        "       (node4)-[:HAS_ARGUMENT]->(node1),\n",
        "       (node5)-[:HAS_ARGUMENT]->(node1)\n",
        "\n",
        "MERGE (description:Description {cveId:\"CVE-2023-0014\"})\n",
        "MERGE (frame:Frame {text:\"lead\"})\n",
        "MERGE (description)-[:MAPPED_WITH]->(frame)       \n",
        "\n",
        "\"\"\"\n",
        "result = conn.query(explore_reviews_csv_query)\n",
        "print(result)"
      ]
    },
    {
      "cell_type": "code",
      "execution_count": 287,
      "metadata": {
        "id": "oB5R3dBoQWqv",
        "colab": {
          "base_uri": "https://localhost:8080/"
        },
        "outputId": "5f397798-8fa1-49fd-e081-f76cc418b8a0"
      },
      "outputs": [
        {
          "output_type": "stream",
          "name": "stdout",
          "text": [
            "[]\n"
          ]
        }
      ],
      "source": [
        "explore_reviews_csv_query = \"\"\"\n",
        "CREATE (node1:Frame {text:\"may\",type:\"Verb\"}),\n",
        "       (node2:Modifier_Modal{text:\"could\",type:\"ARGM-MOD\"}),\n",
        "       (node3:Frame_Argument{text:\"be exploited by malicious users to obtain illegitimate access to the system\",type:\"ARG1\"}),\n",
        "       (node4:Frame_Argument{type:\"ARG0\",Head:\"malicious users\",offsetStart:16,offsetEnd:31,confidence_score:0.6062,wikipediaExternalRef:2471540,wikidataId:\"Q2798820\",domains:\"Computer_Science\"}),\n",
        "\n",
        "       (node2)-[:HAS_ARGUMENT]->(node1),\n",
        "       (node3)-[:HAS_ARGUMENT]->(node1),\n",
        "       (node4)-[:HAS_ARGUMENT]->(node1)\n",
        "\n",
        "MERGE (description:Description {cveId:\"CVE-2023-0014\"})\n",
        "MERGE (frame:Frame {text:\"may\"})\n",
        "MERGE (description)-[:MAPPED_WITH]->(frame)       \n",
        "\n",
        "\"\"\"\n",
        "result = conn.query(explore_reviews_csv_query)\n",
        "print(result)"
      ]
    },
    {
      "cell_type": "code",
      "execution_count": 288,
      "metadata": {
        "id": "jTIZT8-fxEJE",
        "colab": {
          "base_uri": "https://localhost:8080/"
        },
        "outputId": "1e9ed0b9-195a-4f5d-cd91-691991f86487"
      },
      "outputs": [
        {
          "output_type": "stream",
          "name": "stdout",
          "text": [
            "[]\n"
          ]
        }
      ],
      "source": [
        "explore_reviews_csv_query = \"\"\"\n",
        "CREATE (node1:Frame {text:\"exploited\",type:\"Verb\"}),\n",
        "       (node2:Frame_Argument{text:\"This\",type:\"ARG1\"}),\n",
        "       (node3:Modifier_Modal{text:\"may\",type:\"ARGM-MOD\"}),\n",
        "       (node4:Frame_Argument{text:\"by malicious users\",type:\"ARG0\"}),\n",
        "       (node5:Frame_Argument{text:\"to obtain illegitimate access to the system\",type:\"ARG2\"}),\n",
        "\n",
        "       (node2)-[:HAS_ARGUMENT]->(node1),\n",
        "       (node3)-[:HAS_ARGUMENT]->(node1),\n",
        "       (node4)-[:HAS_ARGUMENT]->(node1),\n",
        "       (node5)-[:HAS_ARGUMENT]->(node1)\n",
        "\n",
        "MERGE (description:Description {cveId:\"CVE-2023-0014\"})\n",
        "MERGE (frame:Frame {text:\"exploited\"})\n",
        "MERGE (description)-[:MAPPED_WITH]->(frame)       \n",
        "\n",
        "\"\"\"\n",
        "result = conn.query(explore_reviews_csv_query)\n",
        "print(result)"
      ]
    },
    {
      "cell_type": "code",
      "execution_count": 289,
      "metadata": {
        "id": "ZJ4s34ypxFEX",
        "colab": {
          "base_uri": "https://localhost:8080/"
        },
        "outputId": "c5b7dc2b-5088-421c-9dfb-0767c627cf5e"
      },
      "outputs": [
        {
          "output_type": "stream",
          "name": "stdout",
          "text": [
            "[]\n"
          ]
        }
      ],
      "source": [
        "explore_reviews_csv_query = \"\"\"\n",
        "CREATE (node1:Frame {text:\"return\",type:\"Verb\"}),\n",
        "       (node2:Frame_Argument{text:\"some calls\",type:\"ARG0\"}),\n",
        "       (node3:Frame_Argument{text:\"json\",type:\"ARG1\"}),\n",
        "       (node4:Modifier_Manner{text:\"with wrong content type\",type:\"ARGM-MNR\"}),\n",
        "       (node5:Modifier_Manner{text:\"in the header of the\",type:\"ARGM-MNR\"}),\n",
        "\n",
        "       (node2)-[:HAS_ARGUMENT]->(node1),\n",
        "       (node3)-[:HAS_ARGUMENT]->(node1),\n",
        "       (node4)-[:HAS_ARGUMENT]->(node1),\n",
        "       (node5)-[:HAS_ARGUMENT]->(node1)\n",
        "\n",
        "MERGE (description:Description {cveId:\"CVE-2023-0015\"})\n",
        "MERGE (frame:Frame {text:\"return\"})\n",
        "MERGE (description)-[:MAPPED_WITH]->(frame)        \n",
        "\n",
        "\"\"\"\n",
        "result = conn.query(explore_reviews_csv_query)\n",
        "print(result)"
      ]
    },
    {
      "cell_type": "code",
      "execution_count": 290,
      "metadata": {
        "id": "GnCyLc3SxGEL",
        "colab": {
          "base_uri": "https://localhost:8080/"
        },
        "outputId": "b0cdc1ea-aa8b-4a31-e720-1c06fb1f38e3"
      },
      "outputs": [
        {
          "output_type": "stream",
          "name": "stdout",
          "text": [
            "[]\n"
          ]
        }
      ],
      "source": [
        "explore_reviews_csv_query = \"\"\"\n",
        "CREATE (node1:Frame {text:\"calls\",type:\"Verb\"}),\n",
        "       (node2:Frame_Argument{text:\"a custom application\",type:\"ARG0\"}),\n",
        "       (node3:Reference{text:\"that\",type:\"R-ARG0\"}),\n",
        "       (node4:Modifier_Manner{text:\"directly\",type:\"ARGM-MNR\"}),\n",
        "       (node5:Frame_Argument{text:\"the jsp of Web Intelligence\",type:\"ARG1\"}),\n",
        "\n",
        "       (node2)-[:HAS_ARGUMENT]->(node1),\n",
        "       (node3)-[:HAS_ARGUMENT]->(node1),\n",
        "       (node4)-[:HAS_ARGUMENT]->(node1),\n",
        "       (node5)-[:HAS_ARGUMENT]->(node1)\n",
        "\n",
        "MERGE (description:Description {cveId:\"CVE-2023-0015\"})\n",
        "MERGE (frame:Frame {text:\"calls\"})\n",
        "MERGE (description)-[:MAPPED_WITH]->(frame)        \n",
        "\n",
        "\"\"\"\n",
        "result = conn.query(explore_reviews_csv_query)\n",
        "print(result)"
      ]
    },
    {
      "cell_type": "code",
      "execution_count": 291,
      "metadata": {
        "id": "ejO46JMLxG5C",
        "colab": {
          "base_uri": "https://localhost:8080/"
        },
        "outputId": "66bf1d58-c674-44d9-d3d9-8ca691f650f5"
      },
      "outputs": [
        {
          "output_type": "stream",
          "name": "stdout",
          "text": [
            "[]\n"
          ]
        }
      ],
      "source": [
        "explore_reviews_csv_query = \"\"\"\n",
        "CREATE (node1:Frame {text:\"be\",type:\"Verb\"}),\n",
        "       (node2:Frame_Argument{text:\"a custom application that calls directly the jsp of Web Intelligence DHTML\",type:\"ARG1\"}),\n",
        "       (node3:Modifier_Modal{text:\"may\",type:\"ARGM-MOD\"}),\n",
        "       (node4:Frame_Argument{text:\"vulnerable to XSS attacks\",type:\"ARG2\"}),\n",
        "\n",
        "       (node2)-[:HAS_ARGUMENT]->(node1),\n",
        "       (node3)-[:HAS_ARGUMENT]->(node1),\n",
        "       (node4)-[:HAS_ARGUMENT]->(node1)\n",
        "\n",
        "MERGE (description:Description {cveId:\"CVE-2023-0015\"})\n",
        "MERGE (frame:Frame {text:\"be\"})\n",
        "MERGE (description)-[:MAPPED_WITH]->(frame)       \n",
        "\n",
        "\"\"\"\n",
        "result = conn.query(explore_reviews_csv_query)\n",
        "print(result)"
      ]
    },
    {
      "cell_type": "code",
      "execution_count": 292,
      "metadata": {
        "id": "NJxnNpvpxH0p",
        "colab": {
          "base_uri": "https://localhost:8080/"
        },
        "outputId": "835a071e-583b-4c4b-faf6-4da8760b3f2f"
      },
      "outputs": [
        {
          "output_type": "stream",
          "name": "stdout",
          "text": [
            "[]\n"
          ]
        }
      ],
      "source": [
        "explore_reviews_csv_query = \"\"\"\n",
        "CREATE (node1:Frame {text:\"cause\",type:\"Verb\"}),\n",
        "       (node2:Modifier_Location{text:\"On successful exploitation\",type:\"ARGM-LOC\"}),\n",
        "       (node3:Frame_Argument{text:\"an attacker\",type:\"ARG0\"}),\n",
        "       (node4:Modifier_Modal{text:\"can\",type:\"ARGM-MOD\"}),\n",
        "       (node5:Frame_Argument{text:\"limited impact on confidentiality and integrity of the application\",type:\"ARG1\"}),\n",
        "\n",
        "       (node2)-[:HAS_ARGUMENT]->(node1),\n",
        "       (node3)-[:HAS_ARGUMENT]->(node1),\n",
        "       (node4)-[:HAS_ARGUMENT]->(node1),\n",
        "       (node5)-[:HAS_ARGUMENT]->(node1)\n",
        "\n",
        "MERGE (description:Description {cveId:\"CVE-2023-0015\"})\n",
        "MERGE (frame:Frame {text:\"cause\"})\n",
        "MERGE (description)-[:MAPPED_WITH]->(frame)       \n",
        "\n",
        "\"\"\"\n",
        "result = conn.query(explore_reviews_csv_query)\n",
        "print(result)"
      ]
    },
    {
      "cell_type": "code",
      "execution_count": 293,
      "metadata": {
        "id": "ksvrkEhsxI2c",
        "colab": {
          "base_uri": "https://localhost:8080/"
        },
        "outputId": "723d7a17-6b1a-44bc-dc1c-1ab802dedbba"
      },
      "outputs": [
        {
          "output_type": "stream",
          "name": "stdout",
          "text": [
            "[]\n"
          ]
        }
      ],
      "source": [
        "explore_reviews_csv_query = \"\"\"\n",
        "CREATE (node1:Frame {text:\"allows\",type:\"Verb\"}),\n",
        "       (node2:Frame_Argument{text:\"SAP BPC MS 10.0 - version 810\",type:\"ARG0\"}),\n",
        "       (node3:Frame_Argument{text:\"an unauthorized attacker to execute crafted database queries\",type:\"ARG1\"}),\n",
        "       (node4:Frame_Argument{type:\"ARG1\",Head:\"unauthorized\",offsetStart:41,offsetEnd:53,confidence_score:0.3687,wikipediaExternalRef:151617,wikidataId:\"Q788590\",domains:\"Sociology,Electronics,Engineering\"}),\n",
        "       (node5:Frame_Argument{type:\"ARG1\",Head:\"attacker\",offsetStart:54,offsetEnd:62,confidence_score:0.4001,wikipediaExternalRef:428681,wikidataId:\"Q280658\",domains:\"Biology\"}),\n",
        "\n",
        "\n",
        "       (node2)-[:HAS_ARGUMENT]->(node1),\n",
        "       (node3)-[:HAS_ARGUMENT]->(node1),\n",
        "       (node4)-[:HAS_ARGUMENT]->(node1),\n",
        "       (node5)-[:HAS_ARGUMENT]->(node1)\n",
        "\n",
        "MERGE (description:Description {cveId:\"CVE-2023-0016\"})\n",
        "MERGE (frame:Frame {text:\"allows\"})\n",
        "MERGE (description)-[:MAPPED_WITH]->(frame)       \n",
        "\n",
        "\"\"\"\n",
        "result = conn.query(explore_reviews_csv_query)\n",
        "print(result)"
      ]
    },
    {
      "cell_type": "code",
      "execution_count": 294,
      "metadata": {
        "id": "7lGP5TUuxJ_h",
        "colab": {
          "base_uri": "https://localhost:8080/"
        },
        "outputId": "60b081a2-4328-47c9-ee65-d4d1d8887450"
      },
      "outputs": [
        {
          "output_type": "stream",
          "name": "stdout",
          "text": [
            "[]\n"
          ]
        }
      ],
      "source": [
        "explore_reviews_csv_query = \"\"\"\n",
        "CREATE (node1:Frame {text:\"execute\",type:\"Verb\"}),\n",
        "       (node2:Frame_Argument{text:\"an unauthorized attacker\",type:\"ARG0\"}),\n",
        "       (node3:Frame_Argument{text:\"crafted database queries\",type:\"ARG1\"}),\n",
        "\n",
        "       (node2)-[:HAS_ARGUMENT]->(node1),\n",
        "       (node3)-[:HAS_ARGUMENT]->(node1)\n",
        "\n",
        "MERGE (description:Description {cveId:\"CVE-2023-0016\"})\n",
        "MERGE (frame:Frame {text:\"execute\"})\n",
        "MERGE (description)-[:MAPPED_WITH]->(frame)       \n",
        "\n",
        "\"\"\"\n",
        "result = conn.query(explore_reviews_csv_query)\n",
        "print(result)"
      ]
    },
    {
      "cell_type": "code",
      "execution_count": 295,
      "metadata": {
        "id": "aZUemEcexMKR",
        "colab": {
          "base_uri": "https://localhost:8080/"
        },
        "outputId": "29ecc394-4a5d-4465-dadd-b68637f799a8"
      },
      "outputs": [
        {
          "output_type": "stream",
          "name": "stdout",
          "text": [
            "[]\n"
          ]
        }
      ],
      "source": [
        "explore_reviews_csv_query = \"\"\"\n",
        "CREATE (node1:Frame {text:\"lead\",type:\"Verb\"}),\n",
        "       (node2:Frame_Argument{text:\"The exploitation of this issue\",type:\"ARG0\"}),\n",
        "       (node3:Modifier_Modal{text:\"could\",type:\"ARGM-MOD\"}),\n",
        "       (node4:Frame_Argument{text:\"to SQL injection vulnerability\",type:\"ARG2\"}),\n",
        "\n",
        "       (node2)-[:HAS_ARGUMENT]->(node1),\n",
        "       (node3)-[:HAS_ARGUMENT]->(node1),\n",
        "       (node4)-[:HAS_ARGUMENT]->(node1)\n",
        "\n",
        "MERGE (description:Description {cveId:\"CVE-2023-0016\"})\n",
        "MERGE (frame:Frame {text:\"lead\"})\n",
        "MERGE (description)-[:MAPPED_WITH]->(frame)        \n",
        "\n",
        "\"\"\"\n",
        "result = conn.query(explore_reviews_csv_query)\n",
        "print(result)"
      ]
    },
    {
      "cell_type": "code",
      "execution_count": 296,
      "metadata": {
        "id": "P4iipYB3xNGH",
        "colab": {
          "base_uri": "https://localhost:8080/"
        },
        "outputId": "a4748465-ee4f-4d4c-e8c5-31de455d8e99"
      },
      "outputs": [
        {
          "output_type": "stream",
          "name": "stdout",
          "text": [
            "[]\n"
          ]
        }
      ],
      "source": [
        "explore_reviews_csv_query = \"\"\"\n",
        "CREATE (node1:Frame {text:\"could\",type:\"Verb\"}),\n",
        "       (node2:Frame_Argument{text:\"The exploitation of this issue\",type:\"ARG0\"}),\n",
        "       (node3:Modifier_Modal{text:\"could\",type:\"ARGM-MOD\"}),\n",
        "       (node4:Frame_Argument{text:\"allow an attacker to access , modify , and/or delete data from the backend database\",type:\"ARG1\"}),\n",
        "\n",
        "       (node2)-[:HAS_ARGUMENT]->(node1),\n",
        "       (node3)-[:HAS_ARGUMENT]->(node1),\n",
        "       (node4)-[:HAS_ARGUMENT]->(node1)\n",
        "\n",
        "MERGE (description:Description {cveId:\"CVE-2023-0016\"})\n",
        "MERGE (frame:Frame {text:\"could\"})\n",
        "MERGE (description)-[:MAPPED_WITH]->(frame)       \n",
        "\n",
        "\"\"\"\n",
        "result = conn.query(explore_reviews_csv_query)\n",
        "print(result)"
      ]
    },
    {
      "cell_type": "code",
      "execution_count": 297,
      "metadata": {
        "id": "e84wr0dWxOHU",
        "colab": {
          "base_uri": "https://localhost:8080/"
        },
        "outputId": "bc55fcd8-7520-4832-fe0f-cbd1840f0903"
      },
      "outputs": [
        {
          "output_type": "stream",
          "name": "stdout",
          "text": [
            "[]\n"
          ]
        }
      ],
      "source": [
        "explore_reviews_csv_query = \"\"\"\n",
        "CREATE (node1:Frame {text:\"allow\",type:\"Verb\"}),\n",
        "       (node2:Frame_Argument{text:\"The exploitation of this issue\",type:\"ARG0\"}),\n",
        "       (node3:Modifier_Modal{text:\"could\",type:\"ARGM-MOD\"}),\n",
        "       (node4:Frame_Argument{text:\"an attacker to access , modify , and/or delete data from the backend database\",type:\"ARG1\"}),\n",
        "\n",
        "       (node2)-[:HAS_ARGUMENT]->(node1),\n",
        "       (node3)-[:HAS_ARGUMENT]->(node1),\n",
        "       (node4)-[:HAS_ARGUMENT]->(node1)\n",
        "\n",
        "MERGE (description:Description {cveId:\"CVE-2023-0016\"})\n",
        "MERGE (frame:Frame {text:\"allow\"})\n",
        "MERGE (description)-[:MAPPED_WITH]->(frame)       \n",
        "\n",
        "\"\"\"\n",
        "result = conn.query(explore_reviews_csv_query)\n",
        "print(result)"
      ]
    },
    {
      "cell_type": "code",
      "execution_count": 298,
      "metadata": {
        "id": "BuhxF1RkxPH8",
        "colab": {
          "base_uri": "https://localhost:8080/"
        },
        "outputId": "e6bb64c3-3234-4e6a-9d88-8cfc2eabd9e7"
      },
      "outputs": [
        {
          "output_type": "stream",
          "name": "stdout",
          "text": [
            "[]\n"
          ]
        }
      ],
      "source": [
        "explore_reviews_csv_query = \"\"\"\n",
        "CREATE (node1:Frame {text:\"can\",type:\"Verb\"}),\n",
        "       (node2:Frame_Argument{text:\"An unauthenticated attacker in SAP NetWeaver AS for Java - version 7.50\",type:\"ARG0\"}),\n",
        "       (node3:Frame_Argument{text:\"attach to an open interface and make use of an open naming and directory API to access services which can be used to perform unauthorized operations affecting users and data on the current\",type:\"ARG1\"}),\n",
        "       (node4:Frame_Argument{type:\"ARG1\",Head:\"unauthorized\",offsetStart:125,offsetEnd:137,confidence_score:0.3803,wikipediaExternalRef:18948365,wikidataId:\"Q647578\",domains:\"Electronics,Computer_Science,Economy,Sociology\"}),\n",
        "\n",
        "       (node2)-[:HAS_ARGUMENT]->(node1),\n",
        "       (node3)-[:HAS_ARGUMENT]->(node1),\n",
        "       (node4)-[:HAS_ARGUMENT]->(node1)\n",
        "\n",
        "MERGE (description:Description {cveId:\"CVE-2023-0017\"})\n",
        "MERGE (frame:Frame {text:\"can\"})\n",
        "MERGE (description)-[:MAPPED_WITH]->(frame)       \n",
        "\n",
        "\"\"\"\n",
        "result = conn.query(explore_reviews_csv_query)\n",
        "print(result)"
      ]
    },
    {
      "cell_type": "code",
      "execution_count": 299,
      "metadata": {
        "id": "vIJkIyV5xQV5",
        "colab": {
          "base_uri": "https://localhost:8080/"
        },
        "outputId": "521aa183-b2ab-4937-aa3e-4b3af93b6730"
      },
      "outputs": [
        {
          "output_type": "stream",
          "name": "stdout",
          "text": [
            "[]\n"
          ]
        }
      ],
      "source": [
        "explore_reviews_csv_query = \"\"\"\n",
        "CREATE (node1:Frame {text:\"attach\",type:\"Verb\"}),\n",
        "       (node2:Frame_Argument{text:\"An unauthenticated attacker in SAP NetWeaver AS for Java - version 7.50 , due to improper access control\",type:\"ARG0\"}),\n",
        "       (node3:Modifier_Modal{text:\"can\",type:\"ARGM-MOD\"}),\n",
        "       (node4:Frame_Argument{text:\"to an open interface\",type:\"ARG2\"}),\n",
        "\n",
        "       (node2)-[:HAS_ARGUMENT]->(node1),\n",
        "       (node3)-[:HAS_ARGUMENT]->(node1),\n",
        "       (node4)-[:HAS_ARGUMENT]->(node1)\n",
        "\n",
        "MERGE (description:Description {cveId:\"CVE-2023-0017\"})\n",
        "MERGE (frame:Frame {text:\"attach\"})\n",
        "MERGE (description)-[:MAPPED_WITH]->(frame)       \n",
        "\n",
        "\"\"\"\n",
        "result = conn.query(explore_reviews_csv_query)\n",
        "print(result)"
      ]
    },
    {
      "cell_type": "code",
      "execution_count": 300,
      "metadata": {
        "id": "bWmIxjA0xRai",
        "colab": {
          "base_uri": "https://localhost:8080/"
        },
        "outputId": "d8d9378d-a342-4f78-b134-7f9b6846f0f2"
      },
      "outputs": [
        {
          "output_type": "stream",
          "name": "stdout",
          "text": [
            "[]\n"
          ]
        }
      ],
      "source": [
        "explore_reviews_csv_query = \"\"\"\n",
        "CREATE (node1:Frame {text:\"make\",type:\"Verb\"}),\n",
        "       (node2:Frame_Argument{text:\"An unauthenticated attacker in SAP NetWeaver AS for Java - version 7.50 , due to improper access control\",type:\"ARG0\"}),\n",
        "       (node3:Modifier_Modal{text:\"can\",type:\"ARGM-MOD\"}),\n",
        "       (node4:Frame_Argument{text:\"use of an open naming and directory API to access services which can be used to perform unauthorized operations affecting users and data on the current system\",type:\"ARG1\"}),\n",
        "\n",
        "       (node2)-[:HAS_ARGUMENT]->(node1),\n",
        "       (node3)-[:HAS_ARGUMENT]->(node1),\n",
        "       (node4)-[:HAS_ARGUMENT]->(node1)\n",
        "\n",
        "MERGE (description:Description {cveId:\"CVE-2023-0017\"})\n",
        "MERGE (frame:Frame {text:\"make\"})\n",
        "MERGE (description)-[:MAPPED_WITH]->(frame)       \n",
        "\n",
        "\"\"\"\n",
        "result = conn.query(explore_reviews_csv_query)\n",
        "print(result)"
      ]
    },
    {
      "cell_type": "code",
      "execution_count": 301,
      "metadata": {
        "id": "a5SMemIjxTC0",
        "colab": {
          "base_uri": "https://localhost:8080/"
        },
        "outputId": "e682d626-3de3-4ba2-bdc6-20e4be55fb24"
      },
      "outputs": [
        {
          "output_type": "stream",
          "name": "stdout",
          "text": [
            "[]\n"
          ]
        }
      ],
      "source": [
        "explore_reviews_csv_query = \"\"\"\n",
        "CREATE (node1:Frame {text:\"used\",type:\"Verb\"}),\n",
        "       (node2:Frame_Argument{text:\"access services\",type:\"ARG1\"}),\n",
        "       (node3:Reference{text:\"which\",type:\"R-ARG1\"}),\n",
        "       (node4:Modifier_Modal{text:\"can\",type:\"ARGM-MOD\"}),\n",
        "       (node5:Frame_Argument{text:\"to perform unauthorized operations affecting users and data on the current system\",type:\"ARG2\"}),\n",
        "\n",
        "       (node2)-[:HAS_ARGUMENT]->(node1),\n",
        "       (node3)-[:HAS_ARGUMENT]->(node1),\n",
        "       (node4)-[:HAS_ARGUMENT]->(node1),\n",
        "       (node5)-[:HAS_ARGUMENT]->(node1)\n",
        "\n",
        "MERGE (description:Description {cveId:\"CVE-2023-0017\"})\n",
        "MERGE (frame:Frame {text:\"used\"})\n",
        "MERGE (description)-[:MAPPED_WITH]->(frame)       \n",
        "\n",
        "\"\"\"\n",
        "result = conn.query(explore_reviews_csv_query)\n",
        "print(result)"
      ]
    },
    {
      "cell_type": "code",
      "execution_count": 302,
      "metadata": {
        "id": "dofYm29TxT9T",
        "colab": {
          "base_uri": "https://localhost:8080/"
        },
        "outputId": "adebc02c-94b1-4103-cf1a-3181534edd4e"
      },
      "outputs": [
        {
          "output_type": "stream",
          "name": "stdout",
          "text": [
            "[]\n"
          ]
        }
      ],
      "source": [
        "explore_reviews_csv_query = \"\"\"\n",
        "CREATE (node1:Frame {text:\"perform\",type:\"Verb\"}),\n",
        "       (node2:Frame_Argument{text:\"access services\",type:\"ARG0\"}),\n",
        "       (node3:Frame_Argument{text:\"unauthorized operations affecting users and data on the current system\",type:\"ARG1\"}),\n",
        "       (node4:Frame_Argument{type:\"ARG1\",Head:\"unauthorized\",offsetStart:234,offsetEnd:246,confidence_score:0.3753,wikipediaExternalRef:205662,wikidataId:\"Q502918\",domains:\"Commerce, Enterprise, Finance\"}),\n",
        "\n",
        "       (node2)-[:HAS_ARGUMENT]->(node1),\n",
        "       (node3)-[:HAS_ARGUMENT]->(node1),\n",
        "       (node4)-[:HAS_ARGUMENT]->(node1)\n",
        "\n",
        "MERGE (description:Description {cveId:\"CVE-2023-0017\"})\n",
        "MERGE (frame:Frame {text:\"perform\"})\n",
        "MERGE (description)-[:MAPPED_WITH]->(frame)       \n",
        "\n",
        "\"\"\"\n",
        "result = conn.query(explore_reviews_csv_query)\n",
        "print(result)"
      ]
    },
    {
      "cell_type": "code",
      "execution_count": 303,
      "metadata": {
        "id": "VM2-rf8kxU5l",
        "colab": {
          "base_uri": "https://localhost:8080/"
        },
        "outputId": "0e539db0-98ec-4eab-8f33-f69bfc300873"
      },
      "outputs": [
        {
          "output_type": "stream",
          "name": "stdout",
          "text": [
            "[]\n"
          ]
        }
      ],
      "source": [
        "explore_reviews_csv_query = \"\"\"\n",
        "CREATE (node1:Frame {text:\"affecting\",type:\"Verb\"}),\n",
        "       (node2:Frame_Argument{text:\"unauthorized operations\",type:\"ARG0\"}),\n",
        "       (node3:Frame_Argument{text:\"users\",type:\"ARG1\"}),\n",
        "\n",
        "       (node2)-[:HAS_ARGUMENT]->(node1),\n",
        "       (node3)-[:HAS_ARGUMENT]->(node1)\n",
        "\n",
        "MERGE (description:Description {cveId:\"CVE-2023-0017\"})\n",
        "MERGE (frame:Frame {text:\"affecting\"})\n",
        "MERGE (description)-[:MAPPED_WITH]->(frame)        \n",
        "\n",
        "\"\"\"\n",
        "result = conn.query(explore_reviews_csv_query)\n",
        "print(result)"
      ]
    },
    {
      "cell_type": "code",
      "execution_count": 304,
      "metadata": {
        "id": "cgTdPA78xV1C",
        "colab": {
          "base_uri": "https://localhost:8080/"
        },
        "outputId": "35104a96-4aea-4f56-bd31-83c6f4c6a4d4"
      },
      "outputs": [
        {
          "output_type": "stream",
          "name": "stdout",
          "text": [
            "[]\n"
          ]
        }
      ],
      "source": [
        "explore_reviews_csv_query = \"\"\"\n",
        "CREATE (node1:Frame {text:\"could\",type:\"Verb\"}),\n",
        "       (node2:Frame_Argument{text:\"This\",type:\"ARG0\"}),\n",
        "       (node3:Frame_Argument{text:\"allow the attacker to have full read access to user data , make modifications to user data , and make services within the system unavailable\",type:\"ARG1\"}),\n",
        "\n",
        "       (node2)-[:HAS_ARGUMENT]->(node1),\n",
        "       (node3)-[:HAS_ARGUMENT]->(node1)\n",
        "\n",
        "MERGE (description:Description {cveId:\"CVE-2023-0017\"})\n",
        "MERGE (frame:Frame {text:\"could\"})\n",
        "MERGE (description)-[:MAPPED_WITH]->(frame)       \n",
        "\n",
        "\"\"\"\n",
        "result = conn.query(explore_reviews_csv_query)\n",
        "print(result)"
      ]
    },
    {
      "cell_type": "code",
      "execution_count": 305,
      "metadata": {
        "id": "KbG6_9-RxXVD",
        "colab": {
          "base_uri": "https://localhost:8080/"
        },
        "outputId": "c7ae1479-07f3-4e52-8724-64d6731b9384"
      },
      "outputs": [
        {
          "output_type": "stream",
          "name": "stdout",
          "text": [
            "[]\n"
          ]
        }
      ],
      "source": [
        "explore_reviews_csv_query = \"\"\"\n",
        "CREATE (node1:Frame {text:\"allow\",type:\"Verb\"}),\n",
        "       (node2:Frame_Argument{text:\"This\",type:\"ARG0\"}),\n",
        "       (node3:Modifier_Modal{text:\"could\",type:\"ARGM-MOD\"}),\n",
        "       (node4:Frame_Argument{text:\"the attacker to have full read access to user data , make modifications to user data , and make services within the system unavailable\",type:\"ARG1\"}),\n",
        "\n",
        "       (node2)-[:HAS_ARGUMENT]->(node1),\n",
        "       (node3)-[:HAS_ARGUMENT]->(node1),\n",
        "       (node4)-[:HAS_ARGUMENT]->(node1)\n",
        "\n",
        "MERGE (description:Description {cveId:\"CVE-2023-0017\"})\n",
        "MERGE (frame:Frame {text:\"allow\"})\n",
        "MERGE (description)-[:MAPPED_WITH]->(frame)       \n",
        "\n",
        "\"\"\"\n",
        "result = conn.query(explore_reviews_csv_query)\n",
        "print(result)"
      ]
    },
    {
      "cell_type": "code",
      "execution_count": 306,
      "metadata": {
        "id": "zs77hxE3xYfT",
        "colab": {
          "base_uri": "https://localhost:8080/"
        },
        "outputId": "e6c0c46b-2440-48cb-de03-50a9dd5989e0"
      },
      "outputs": [
        {
          "output_type": "stream",
          "name": "stdout",
          "text": [
            "[]\n"
          ]
        }
      ],
      "source": [
        "explore_reviews_csv_query = \"\"\"\n",
        "CREATE (node1:Frame {text:\"have\",type:\"Verb\"}),\n",
        "       (node2:Frame_Argument{text:\"the attacker\",type:\"ARG0\"}),\n",
        "       (node3:Frame_Argument{text:\"full read access to user data\",type:\"ARG1\"}),\n",
        "\n",
        "       (node2)-[:HAS_ARGUMENT]->(node1),\n",
        "       (node3)-[:HAS_ARGUMENT]->(node1)\n",
        "\n",
        "MERGE (description:Description {cveId:\"CVE-2023-0017\"})\n",
        "MERGE (frame:Frame {text:\"have\"})\n",
        "MERGE (description)-[:MAPPED_WITH]->(frame)       \n",
        "\n",
        "\"\"\"\n",
        "result = conn.query(explore_reviews_csv_query)\n",
        "print(result)"
      ]
    },
    {
      "cell_type": "code",
      "execution_count": 307,
      "metadata": {
        "id": "5kEWiXXFxcGW",
        "colab": {
          "base_uri": "https://localhost:8080/"
        },
        "outputId": "18140bc6-728c-4641-f027-90e73c6455ba"
      },
      "outputs": [
        {
          "output_type": "stream",
          "name": "stdout",
          "text": [
            "[]\n"
          ]
        }
      ],
      "source": [
        "explore_reviews_csv_query = \"\"\"\n",
        "CREATE (node1:Frame {text:\"user\",type:\"Verb\"}),\n",
        "       (node2:Frame_Argument{text:\"full read\",type:\"ARG0\"}),\n",
        "       (node3:Frame_Argument{text:\"data\",type:\"ARG1\"}),\n",
        "\n",
        "       (node2)-[:HAS_ARGUMENT]->(node1),\n",
        "       (node3)-[:HAS_ARGUMENT]->(node1)\n",
        "\n",
        "MERGE (description:Description {cveId:\"CVE-2023-0017\"})\n",
        "MERGE (frame:Frame {text:\"user\"})\n",
        "MERGE (description)-[:MAPPED_WITH]->(frame)       \n",
        "\n",
        "\"\"\"\n",
        "result = conn.query(explore_reviews_csv_query)\n",
        "print(result)"
      ]
    },
    {
      "cell_type": "code",
      "execution_count": 308,
      "metadata": {
        "id": "FO0iycOExdEo",
        "colab": {
          "base_uri": "https://localhost:8080/"
        },
        "outputId": "fd7354e8-811a-4bb2-f805-c75f46ebb4a7"
      },
      "outputs": [
        {
          "output_type": "stream",
          "name": "stdout",
          "text": [
            "[]\n"
          ]
        }
      ],
      "source": [
        "explore_reviews_csv_query = \"\"\"\n",
        "CREATE (node1:Frame {text:\"make\",type:\"Verb\"}),\n",
        "       (node2:Frame_Argument{text:\"the attacker\",type:\"ARG0\"}),\n",
        "       (node3:Frame_Argument{text:\"modifications to user data , and make\",type:\"ARG1\"}),\n",
        "\n",
        "       (node2)-[:HAS_ARGUMENT]->(node1),\n",
        "       (node3)-[:HAS_ARGUMENT]->(node1)\n",
        "\n",
        "MERGE (description:Description {cveId:\"CVE-2023-0017\"})\n",
        "MERGE (frame:Frame {text:\"make\"})\n",
        "MERGE (description)-[:MAPPED_WITH]->(frame)       \n",
        "\n",
        "\"\"\"\n",
        "result = conn.query(explore_reviews_csv_query)\n",
        "print(result)"
      ]
    },
    {
      "cell_type": "code",
      "execution_count": 309,
      "metadata": {
        "id": "7-pb9hw2xd9Y",
        "colab": {
          "base_uri": "https://localhost:8080/"
        },
        "outputId": "ed754267-8e5a-44ec-f5c0-a2012b3eae52"
      },
      "outputs": [
        {
          "output_type": "stream",
          "name": "stdout",
          "text": [
            "[]\n"
          ]
        }
      ],
      "source": [
        "explore_reviews_csv_query = \"\"\"\n",
        "CREATE (node1:Frame {text:\"make\",type:\"Verb\"}),\n",
        "       (node2:Frame_Argument{text:\"the attacker\",type:\"ARG0\"}),\n",
        "       (node3:Frame_Argument{text:\"services within the system\",type:\"ARG1\"}),\n",
        "       (node4:Modifier_Manner{text:\"unavailable\",type:\"ARGM-MNR\"}),\n",
        "\n",
        "       (node2)-[:HAS_ARGUMENT]->(node1),\n",
        "       (node3)-[:HAS_ARGUMENT]->(node1),\n",
        "       (node4)-[:HAS_ARGUMENT]->(node1)\n",
        "\n",
        "MERGE (description:Description {cveId:\"CVE-2023-0017\"})\n",
        "MERGE (frame:Frame {text:\"make\"})\n",
        "MERGE (description)-[:MAPPED_WITH]->(frame)       \n",
        "\n",
        "\"\"\"\n",
        "result = conn.query(explore_reviews_csv_query)\n",
        "print(result)"
      ]
    },
    {
      "cell_type": "code",
      "execution_count": 310,
      "metadata": {
        "id": "-PIZObvms17S",
        "colab": {
          "base_uri": "https://localhost:8080/"
        },
        "outputId": "4ba71d1d-976b-41ad-8c27-d1aed396d606"
      },
      "outputs": [
        {
          "output_type": "stream",
          "name": "stdout",
          "text": [
            "[]\n"
          ]
        }
      ],
      "source": [
        "explore_reviews_csv_query = \"\"\"\n",
        "CREATE (node1:Frame {text:\"controlled\",type:\"Verb\"}),\n",
        "       (node2:Frame_Argument{text:\"user\",type:\"ARG0\"}),\n",
        "       (node3:Frame_Argument{text:\"input\",type:\"ARG1\"}),\n",
        "\n",
        "       (node2)-[:HAS_ARGUMENT]->(node1),\n",
        "       (node3)-[:HAS_ARGUMENT]->(node1)\n",
        "\n",
        "MERGE (description:Description {cveId:\"CVE-2023-0018\"})\n",
        "MERGE (frame:Frame {text:\"controlled\"})\n",
        "MERGE (description)-[:MAPPED_WITH]->(frame)       \n",
        "\n",
        "\"\"\"\n",
        "result = conn.query(explore_reviews_csv_query)\n",
        "print(result)"
      ]
    },
    {
      "cell_type": "code",
      "execution_count": 311,
      "metadata": {
        "id": "e7w70wyaxe-Q",
        "colab": {
          "base_uri": "https://localhost:8080/"
        },
        "outputId": "1053062b-4b81-4261-afab-7a49b1e61f39"
      },
      "outputs": [
        {
          "output_type": "stream",
          "name": "stdout",
          "text": [
            "[]\n"
          ]
        }
      ],
      "source": [
        "explore_reviews_csv_query = \"\"\"\n",
        "CREATE (node1:Frame {text:\"modify\",type:\"Verb\"}),\n",
        "       (node2:Modifier_Cause{text:\"Due to improper input sanitization of user - controlled input in SAP BusinessObjects Business Intelligence\",type:\"ARGM-CAU\"}),\n",
        "       (node3:Frame_Argument{text:\"an attacker with basic user - level privileges\",type:\"ARG0\"}),\n",
        "       (node4:Modifier_Modal{text:\"can\",type:\"ARGM-MOD\"}),\n",
        "       (node5:Frame_Argument{text:\"reports containing a malicious payload\",type:\"ARG1\"}),\n",
        "\n",
        "       (node2)-[:HAS_ARGUMENT]->(node1),\n",
        "       (node3)-[:HAS_ARGUMENT]->(node1),\n",
        "       (node4)-[:HAS_ARGUMENT]->(node1),\n",
        "       (node5)-[:HAS_ARGUMENT]->(node1)\n",
        "       \n",
        "MERGE (description:Description {cveId:\"CVE-2023-0018\"})\n",
        "MERGE (frame:Frame {text:\"modify\"})\n",
        "MERGE (description)-[:MAPPED_WITH]->(frame)       \n",
        "\n",
        "\"\"\"\n",
        "result = conn.query(explore_reviews_csv_query)\n",
        "print(result)"
      ]
    },
    {
      "cell_type": "code",
      "execution_count": 312,
      "metadata": {
        "id": "wf7i4Wsvxf9s",
        "colab": {
          "base_uri": "https://localhost:8080/"
        },
        "outputId": "2bed98d7-28f0-43e9-a5ab-c7bb4605edbe"
      },
      "outputs": [
        {
          "output_type": "stream",
          "name": "stdout",
          "text": [
            "[]\n"
          ]
        }
      ],
      "source": [
        "explore_reviews_csv_query = \"\"\"\n",
        "CREATE (node1:Frame {text:\"containing\",type:\"Verb\"}),\n",
        "       (node2:Frame_Argument{text:\"reports\",type:\"ARG0\"}),\n",
        "       (node3:Frame_Argument{text:\"a malicious payload\",type:\"ARG1\"}),\n",
        "       \n",
        "       (node2)-[:HAS_ARGUMENT]->(node1),\n",
        "       (node3)-[:HAS_ARGUMENT]->(node1)\n",
        "      \n",
        "MERGE (description:Description {cveId:\"CVE-2023-0018\"})\n",
        "MERGE (frame:Frame {text:\"containing\"})\n",
        "MERGE (description)-[:MAPPED_WITH]->(frame)        \n",
        "\n",
        "\"\"\"\n",
        "result = conn.query(explore_reviews_csv_query)\n",
        "print(result)"
      ]
    },
    {
      "cell_type": "code",
      "execution_count": 313,
      "metadata": {
        "id": "GWCDz-hJxg9y",
        "colab": {
          "base_uri": "https://localhost:8080/"
        },
        "outputId": "19371f77-ae0d-4aed-d83d-c293c704249e"
      },
      "outputs": [
        {
          "output_type": "stream",
          "name": "stdout",
          "text": [
            "[]\n"
          ]
        }
      ],
      "source": [
        "explore_reviews_csv_query = \"\"\"\n",
        "CREATE (node1:Frame {text:\"are\",type:\"Verb\"}),\n",
        "       (node2:Frame_Argument{text:\"these reports\",type:\"ARG1\"}),\n",
        "       (node3:Frame_Argument{text:\"viewable\",type:\"ARG2\"}),\n",
        "\n",
        "       (node2)-[:HAS_ARGUMENT]->(node1),\n",
        "       (node3)-[:HAS_ARGUMENT]->(node1)\n",
        "\n",
        "MERGE (description:Description {cveId:\"CVE-2023-0018\"})\n",
        "MERGE (frame:Frame {text:\"are\"})\n",
        "MERGE (description)-[:MAPPED_WITH]->(frame)       \n",
        "\n",
        "\"\"\"\n",
        "result = conn.query(explore_reviews_csv_query)\n",
        "print(result)"
      ]
    },
    {
      "cell_type": "code",
      "execution_count": 314,
      "metadata": {
        "id": "RViaMR2Sxh6U",
        "colab": {
          "base_uri": "https://localhost:8080/"
        },
        "outputId": "4499fc34-c18c-49a0-b0d0-6dea7d79903f"
      },
      "outputs": [
        {
          "output_type": "stream",
          "name": "stdout",
          "text": [
            "[]\n"
          ]
        }
      ],
      "source": [
        "explore_reviews_csv_query = \"\"\"\n",
        "CREATE (node1:Frame {text:\"opens\",type:\"Verb\"}),\n",
        "       (node2:Frame_Argument{text:\"anyone\",type:\"ARG0\"}),\n",
        "       (node3:Reference{text:\"who\",type:\"R-ARG0\"}),\n",
        "       (node4:Frame_Argument{text:\"those reports\",type:\"ARG1\"}),\n",
        "\n",
        "       (node2)-[:HAS_ARGUMENT]->(node1),\n",
        "       (node3)-[:HAS_ARGUMENT]->(node1),\n",
        "       (node4)-[:HAS_ARGUMENT]->(node1)\n",
        "\n",
        "MERGE (description:Description {cveId:\"CVE-2023-0018\"})\n",
        "MERGE (frame:Frame {text:\"opens\"})\n",
        "MERGE (description)-[:MAPPED_WITH]->(frame)       \n",
        "\n",
        "\"\"\"\n",
        "result = conn.query(explore_reviews_csv_query)\n",
        "print(result)"
      ]
    },
    {
      "cell_type": "code",
      "execution_count": 315,
      "metadata": {
        "id": "tJx83bcgxi98",
        "colab": {
          "base_uri": "https://localhost:8080/"
        },
        "outputId": "84edbb78-7f13-49cd-c3fa-889f70ada83f"
      },
      "outputs": [
        {
          "output_type": "stream",
          "name": "stdout",
          "text": [
            "[]\n"
          ]
        }
      ],
      "source": [
        "explore_reviews_csv_query = \"\"\"\n",
        "CREATE (node1:Frame {text:\"be\",type:\"Verb\"}),\n",
        "       (node2:Frame_Argument{text:\"anyone who opens those reports\",type:\"ARG1\"}),\n",
        "       (node3:Modifier_Modal{text:\"would\",type:\"ARGM-MOD\"}),\n",
        "       (node4:Frame_Argument{text:\"susceptible to stored XSS attacks\",type:\"ARG2\"}),\n",
        "       (node5:Modifier_Cause{text:\"As\",type:\"ARGM-CAU\"}),\n",
        "\n",
        "       (node2)-[:HAS_ARGUMENT]->(node1),\n",
        "       (node3)-[:HAS_ARGUMENT]->(node1),\n",
        "       (node4)-[:HAS_ARGUMENT]->(node1),\n",
        "       (node5)-[:HAS_ARGUMENT]->(node1)\n",
        "\n",
        "MERGE (description:Description {cveId:\"CVE-2023-0018\"})\n",
        "MERGE (frame:Frame {text:\"be\"})\n",
        "MERGE (description)-[:MAPPED_WITH]->(frame)        \n",
        "\n",
        "\"\"\"\n",
        "result = conn.query(explore_reviews_csv_query)\n",
        "print(result)"
      ]
    },
    {
      "cell_type": "code",
      "execution_count": 316,
      "metadata": {
        "id": "sbFiOw_Axj_F",
        "colab": {
          "base_uri": "https://localhost:8080/"
        },
        "outputId": "9f76b303-29c9-4dd0-aace-2a6d7ff77eb4"
      },
      "outputs": [
        {
          "output_type": "stream",
          "name": "stdout",
          "text": [
            "[]\n"
          ]
        }
      ],
      "source": [
        "explore_reviews_csv_query = \"\"\"\n",
        "CREATE (node1:Frame {text:\"maintained\",type:\"Verb\"}),\n",
        "       (node2:Frame_Argument{text:\"information\",type:\"ARG1\"}),\n",
        "       (node3:Modifier_Location{text:\"in the victim 's web browser\",type:\"ARGM-LOC\"}),\n",
        "\n",
        "       (node2)-[:HAS_ARGUMENT]->(node1),\n",
        "       (node3)-[:HAS_ARGUMENT]->(node1)\n",
        "\n",
        "MERGE (description:Description {cveId:\"CVE-2023-0018\"})\n",
        "MERGE (frame:Frame {text:\"maintained\"})\n",
        "MERGE (description)-[:MAPPED_WITH]->(frame)       \n",
        "\n",
        "\"\"\"\n",
        "result = conn.query(explore_reviews_csv_query)\n",
        "print(result)"
      ]
    },
    {
      "cell_type": "code",
      "execution_count": 317,
      "metadata": {
        "id": "7De5Gg1pxk2U",
        "colab": {
          "base_uri": "https://localhost:8080/"
        },
        "outputId": "36eb962c-7fa6-4cd8-e48e-10a3ed1b1cc7"
      },
      "outputs": [
        {
          "output_type": "stream",
          "name": "stdout",
          "text": [
            "[]\n"
          ]
        }
      ],
      "source": [
        "explore_reviews_csv_query = \"\"\"\n",
        "CREATE (node1:Frame {text:\"read\",type:\"Verb\"}),\n",
        "       (node2:Modifier_Cause{text:\"As a result of the attack\",type:\"ARGM-CAU\"}),\n",
        "       (node3:Frame_Argument{text:\"information maintained in the victim 's web browser\",type:\"ARG1\"}),\n",
        "       (node4:Modifier_Modal{text:\"can\",type:\"ARGM-MOD\"}),\n",
        "\n",
        "       (node2)-[:HAS_ARGUMENT]->(node1),\n",
        "       (node3)-[:HAS_ARGUMENT]->(node1),\n",
        "       (node4)-[:HAS_ARGUMENT]->(node1)\n",
        "\n",
        "MERGE (description:Description {cveId:\"CVE-2023-0018\"})\n",
        "MERGE (frame:Frame {text:\"read\"})\n",
        "MERGE (description)-[:MAPPED_WITH]->(frame)       \n",
        "\n",
        "\"\"\"\n",
        "result = conn.query(explore_reviews_csv_query)\n",
        "print(result)"
      ]
    },
    {
      "cell_type": "code",
      "execution_count": 318,
      "metadata": {
        "id": "JlhqWV8pxl1E",
        "colab": {
          "base_uri": "https://localhost:8080/"
        },
        "outputId": "7c2d2545-cd81-415f-ab22-d92010b55145"
      },
      "outputs": [
        {
          "output_type": "stream",
          "name": "stdout",
          "text": [
            "[]\n"
          ]
        }
      ],
      "source": [
        "explore_reviews_csv_query = \"\"\"\n",
        "CREATE (node1:Frame {text:\"modified\",type:\"Verb\"}),\n",
        "       (node2:Frame_Argument{text:\"information maintained in the victim 's web browser\",type:\"ARG1\"}),\n",
        "       (node3:Modifier_Modal{text:\"can\",type:\"ARGM-MOD\"}),\n",
        "\n",
        "       (node2)-[:HAS_ARGUMENT]->(node1),\n",
        "       (node3)-[:HAS_ARGUMENT]->(node1)\n",
        "\n",
        "MERGE (description:Description {cveId:\"CVE-2023-0018\"})\n",
        "MERGE (frame:Frame {text:\"modified\"})\n",
        "MERGE (description)-[:MAPPED_WITH]->(frame)       \n",
        "\n",
        "\"\"\"\n",
        "result = conn.query(explore_reviews_csv_query)\n",
        "print(result)"
      ]
    },
    {
      "cell_type": "code",
      "execution_count": 319,
      "metadata": {
        "id": "UzxmXlMuxmzu",
        "colab": {
          "base_uri": "https://localhost:8080/"
        },
        "outputId": "58c00a07-eca9-40cd-acb6-21ac5068f496"
      },
      "outputs": [
        {
          "output_type": "stream",
          "name": "stdout",
          "text": [
            "[]\n"
          ]
        }
      ],
      "source": [
        "explore_reviews_csv_query = \"\"\"\n",
        "CREATE (node1:Frame {text:\"sent\",type:\"Verb\"}),\n",
        "       (node2:Frame_Argument{text:\"information maintained in the victim 's web browser\",type:\"ARG1\"}),\n",
        "       (node3:Modifier_Modal{text:\"can\",type:\"ARGM-MOD\"}),\n",
        "       (node4:Frame_Argument{text:\"to the attacker\",type:\"ARG2\"}),\n",
        "\n",
        "       (node2)-[:HAS_ARGUMENT]->(node1),\n",
        "       (node3)-[:HAS_ARGUMENT]->(node1),\n",
        "       (node4)-[:HAS_ARGUMENT]->(node1)\n",
        "\n",
        "MERGE (description:Description {cveId:\"CVE-2023-0018\"})\n",
        "MERGE (frame:Frame {text:\"sent\"})\n",
        "MERGE (description)-[:MAPPED_WITH]->(frame)       \n",
        "\n",
        "\"\"\"\n",
        "result = conn.query(explore_reviews_csv_query)\n",
        "print(result)"
      ]
    },
    {
      "cell_type": "code",
      "execution_count": 320,
      "metadata": {
        "id": "QnGTfdgFxn2o",
        "colab": {
          "base_uri": "https://localhost:8080/"
        },
        "outputId": "5c480ef2-a6a7-4b66-a30d-ee6af460fda5"
      },
      "outputs": [
        {
          "output_type": "stream",
          "name": "stdout",
          "text": [
            "[]\n"
          ]
        }
      ],
      "source": [
        "explore_reviews_csv_query = \"\"\"\n",
        "CREATE (node1:Frame {text:\"allows\",type:\"Verb\"}),\n",
        "       (node2:Frame_Argument{text:\"SAP BusinessObjects Business Intelligence Analysis edition for OLAP\",type:\"ARG0\"}),\n",
        "       (node3:Frame_Argument{text:\"an authenticated attacker to inject malicious code that can be executed by the application over the network . On successful exploitation , an attacker can perform operations that may completely compromise the application causing a high impact on the confidentiality , integrity , and availability of the application\",type:\"ARG1\"}),\n",
        "       (node4:Frame_Argument{type:\"ARG0\",Head:\"authenticated\",offsetStart:3,offsetEnd:16,confidence_score:0.3605,wikipediaExternalRef:47967,wikidataId:\"Q212108\",domains:\"Economy,Electronics,Engineering\"}),\n",
        "       (node5:Frame_Argument{type:\"ARG1\",Head:\"malicious code\",offsetStart:36,offsetEnd:50,confidence_score:0.4342,wikipediaExternalRef:20901,wikidataId:\"Q14001\",domains:\"Computer_Science\"}),\n",
        "\n",
        "       (node2)-[:HAS_ARGUMENT]->(node1),\n",
        "       (node3)-[:HAS_ARGUMENT]->(node1),\n",
        "       (node4)-[:HAS_ARGUMENT]->(node1),\n",
        "       (node5)-[:HAS_ARGUMENT]->(node1)\n",
        "\n",
        "MERGE (description:Description {cveId:\"CVE-2023-0022\"})\n",
        "MERGE (frame:Frame {text:\"allows\"})\n",
        "MERGE (description)-[:MAPPED_WITH]->(frame)       \n",
        "\n",
        "\"\"\"\n",
        "result = conn.query(explore_reviews_csv_query)\n",
        "print(result)"
      ]
    },
    {
      "cell_type": "code",
      "execution_count": 321,
      "metadata": {
        "id": "7WnIajMJxoz6",
        "colab": {
          "base_uri": "https://localhost:8080/"
        },
        "outputId": "c678e443-8834-4f06-8451-de79ab586cf4"
      },
      "outputs": [
        {
          "output_type": "stream",
          "name": "stdout",
          "text": [
            "[]\n"
          ]
        }
      ],
      "source": [
        "explore_reviews_csv_query = \"\"\"\n",
        "CREATE (node1:Frame {text:\"inject\",type:\"Verb\"}),\n",
        "       (node2:Frame_Argument{text:\"an authenticated attacker\",type:\"ARG0\"}),\n",
        "       (node3:Frame_Argument{text:\"malicious code that can be executed by the application over the network . On successful exploitation\",type:\"ARG1\"}),\n",
        "       (node4:Frame_Argument{type:\"ARG1\",Head:\"malicious code\",offsetStart:0,offsetEnd:14,confidence_score:0.4342,wikipediaExternalRef:20901,wikidataId:\"Q14001\",domains:\"Computer_Science\"}),\n",
        "\n",
        "       (node2)-[:HAS_ARGUMENT]->(node1),\n",
        "       (node3)-[:HAS_ARGUMENT]->(node1),\n",
        "       (node4)-[:HAS_ARGUMENT]->(node1)\n",
        "\n",
        "MERGE (description:Description {cveId:\"CVE-2023-0022\"})\n",
        "MERGE (frame:Frame {text:\"inject\"})\n",
        "MERGE (description)-[:MAPPED_WITH]->(frame)       \n",
        "\n",
        "\"\"\"\n",
        "result = conn.query(explore_reviews_csv_query)\n",
        "print(result)"
      ]
    },
    {
      "cell_type": "code",
      "execution_count": 322,
      "metadata": {
        "id": "aW0UU04GxqD4",
        "colab": {
          "base_uri": "https://localhost:8080/"
        },
        "outputId": "996c4316-ae8f-468d-a217-5c3bcae3fc16"
      },
      "outputs": [
        {
          "output_type": "stream",
          "name": "stdout",
          "text": [
            "[]\n"
          ]
        }
      ],
      "source": [
        "explore_reviews_csv_query = \"\"\"\n",
        "CREATE (node1:Frame {text:\"executed\",type:\"Verb\"}),\n",
        "       (node2:Frame_Argument{text:\"malicious code\",type:\"ARG1\"}),\n",
        "       (node3:Reference{text:\"that\",type:\"R-ARG1\"}),\n",
        "       (node4:Modifier_Modal{text:\"can\",type:\"ARGM-MOD\"}),\n",
        "       (node5:Frame_Argument{text:\"by the application over the network\",type:\"ARG0\"}),\n",
        "      \n",
        "       (node2)-[:HAS_ARGUMENT]->(node1),\n",
        "       (node3)-[:HAS_ARGUMENT]->(node1),\n",
        "       (node4)-[:HAS_ARGUMENT]->(node1),\n",
        "       (node5)-[:HAS_ARGUMENT]->(node1)\n",
        "\n",
        "MERGE (description:Description {cveId:\"CVE-2023-0022\"})\n",
        "MERGE (frame:Frame {text:\"executed\"})\n",
        "MERGE (description)-[:MAPPED_WITH]->(frame)        \n",
        "\n",
        "\"\"\"\n",
        "result = conn.query(explore_reviews_csv_query)\n",
        "print(result)"
      ]
    },
    {
      "cell_type": "code",
      "execution_count": 323,
      "metadata": {
        "id": "4IOCQyZasv4A",
        "colab": {
          "base_uri": "https://localhost:8080/"
        },
        "outputId": "83772b28-b1ce-493b-daaf-55e66ace6b95"
      },
      "outputs": [
        {
          "output_type": "stream",
          "name": "stdout",
          "text": [
            "[]\n"
          ]
        }
      ],
      "source": [
        "explore_reviews_csv_query = \"\"\"\n",
        "CREATE (node1:Frame {text:\"perform\",type:\"Verb\"}),\n",
        "       (node2:Frame_Argument{text:\"an attacker\",type:\"ARG0\"}),\n",
        "       (node3:Modifier_Modal{text:\"can\",type:\"ARGM-MOD\"}),\n",
        "       (node4:Frame_Argument{text:\"operations\",type:\"ARG1\"}),\n",
        "\n",
        "       (node2)-[:HAS_ARGUMENT]->(node1),\n",
        "       (node3)-[:HAS_ARGUMENT]->(node1),\n",
        "       (node4)-[:HAS_ARGUMENT]->(node1)\n",
        "\n",
        "MERGE (description:Description {cveId:\"CVE-2023-0022\"})\n",
        "MERGE (frame:Frame {text:\"perform\"})\n",
        "MERGE (description)-[:MAPPED_WITH]->(frame)       \n",
        "\n",
        "\"\"\"\n",
        "result = conn.query(explore_reviews_csv_query)\n",
        "print(result)"
      ]
    },
    {
      "cell_type": "code",
      "execution_count": 324,
      "metadata": {
        "id": "SS6uGNJ0sw7w",
        "colab": {
          "base_uri": "https://localhost:8080/"
        },
        "outputId": "3a48935d-dfbb-4561-f2e8-67119495cb45"
      },
      "outputs": [
        {
          "output_type": "stream",
          "name": "stdout",
          "text": [
            "[]\n"
          ]
        }
      ],
      "source": [
        "explore_reviews_csv_query = \"\"\"\n",
        "CREATE (node1:Frame {text:\"compromise\",type:\"Verb\"}),\n",
        "       (node2:Frame_Argument{text:\"operations\",type:\"ARG0\"}),\n",
        "       (node3:Reference{text:\"that\",type:\"R-ARG0\"}),\n",
        "       (node4:Modifier_Modal{text:\"may\",type:\"ARGM-MOD\"}),\n",
        "       (node5:Modifier_Extent{text:\"completely\",type:\"ARGM-EXT\"}),\n",
        "       (node6:Frame_Argument{text:\"the application causing a high impact on the confidentiality , integrity , and availability of the application\",type:\"ARG1\"}),\n",
        "\n",
        "       (node2)-[:HAS_ARGUMENT]->(node1),\n",
        "       (node3)-[:HAS_ARGUMENT]->(node1),\n",
        "       (node4)-[:HAS_ARGUMENT]->(node1),\n",
        "       (node5)-[:HAS_ARGUMENT]->(node1),\n",
        "       (node6)-[:HAS_ARGUMENT]->(node1)\n",
        "\n",
        "MERGE (description:Description {cveId:\"CVE-2023-0022\"})\n",
        "MERGE (frame:Frame {text:\"compromise\"})\n",
        "MERGE (description)-[:MAPPED_WITH]->(frame)       \n",
        "\n",
        "\"\"\"\n",
        "result = conn.query(explore_reviews_csv_query)\n",
        "print(result)"
      ]
    },
    {
      "cell_type": "code",
      "execution_count": 325,
      "metadata": {
        "id": "zK1Myi-WsyFA",
        "colab": {
          "base_uri": "https://localhost:8080/"
        },
        "outputId": "3a479cd3-d8f8-4131-8068-0418206ccc34"
      },
      "outputs": [
        {
          "output_type": "stream",
          "name": "stdout",
          "text": [
            "[]\n"
          ]
        }
      ],
      "source": [
        "explore_reviews_csv_query = \"\"\"\n",
        "CREATE (node1:Frame {text:\"causing\",type:\"Verb\"}),\n",
        "       (node2:Frame_Argument{text:\"the application\",type:\"ARG0\"}),\n",
        "       (node3:Frame_Argument{text:\"a high impact on the confidentiality , integrity , and availability of the application\",type:\"ARG1\"}),\n",
        "\n",
        "       (node2)-[:HAS_ARGUMENT]->(node1),\n",
        "       (node3)-[:HAS_ARGUMENT]->(node1)\n",
        "\n",
        "MERGE (description:Description {cveId:\"CVE-2023-0022\"})\n",
        "MERGE (frame:Frame {text:\"causing\"})\n",
        "MERGE (description)-[:MAPPED_WITH]->(frame)       \n",
        "\n",
        "\"\"\"\n",
        "result = conn.query(explore_reviews_csv_query)\n",
        "print(result)"
      ]
    },
    {
      "cell_type": "code",
      "execution_count": 326,
      "metadata": {
        "id": "500QHLa2szCF",
        "colab": {
          "base_uri": "https://localhost:8080/"
        },
        "outputId": "9d3e99b5-3e17-4d3e-bf57-f4a023fed706"
      },
      "outputs": [
        {
          "output_type": "stream",
          "name": "stdout",
          "text": [
            "[]\n"
          ]
        }
      ],
      "source": [
        "explore_reviews_csv_query = \"\"\"\n",
        "CREATE (node1:Frame {text:\"clicks\",type:\"Verb\"}),\n",
        "       (node2:Modifier_Temporal{text:\"when\",type:\"ARGM-TMP\"}),\n",
        "       (node3:Frame_Argument{text:\"a user\",type:\"ARG0\"}),\n",
        "       (node4:Frame_Argument{text:\"a smart link to navigate to another app\",type:\"ARG1\"}),\n",
        "\n",
        "       (node2)-[:HAS_ARGUMENT]->(node1),\n",
        "       (node3)-[:HAS_ARGUMENT]->(node1),\n",
        "       (node4)-[:HAS_ARGUMENT]->(node1)\n",
        "\n",
        "MERGE (description:Description {cveId:\"CVE-2023-0023\"})\n",
        "MERGE (frame:Frame {text:\"clicks\"})\n",
        "MERGE (description)-[:MAPPED_WITH]->(frame)       \n",
        "\n",
        "\"\"\"\n",
        "result = conn.query(explore_reviews_csv_query)\n",
        "print(result)"
      ]
    },
    {
      "cell_type": "code",
      "execution_count": 327,
      "metadata": {
        "id": "KdONSAoVsz9P",
        "colab": {
          "base_uri": "https://localhost:8080/"
        },
        "outputId": "d57c11cf-9555-4658-bd89-d2c23eff87b7"
      },
      "outputs": [
        {
          "output_type": "stream",
          "name": "stdout",
          "text": [
            "[]\n"
          ]
        }
      ],
      "source": [
        "explore_reviews_csv_query = \"\"\"\n",
        "CREATE (node1:Frame {text:\"navigate\",type:\"Verb\"}),\n",
        "       (node2:Frame_Argument{text:\"a user\",type:\"ARG0\"}),\n",
        "       (node3:Frame_Argument{text:\"to another app\",type:\"ARG1\"}),\n",
        "\n",
        "       (node2)-[:HAS_ARGUMENT]->(node1),\n",
        "       (node3)-[:HAS_ARGUMENT]->(node1)\n",
        "\n",
        "MERGE (description:Description {cveId:\"CVE-2023-0023\"})\n",
        "MERGE (frame:Frame {text:\"navigate\"})\n",
        "MERGE (description)-[:MAPPED_WITH]->(frame)       \n",
        "\n",
        "\"\"\"\n",
        "result = conn.query(explore_reviews_csv_query)\n",
        "print(result)"
      ]
    },
    {
      "cell_type": "code",
      "execution_count": 328,
      "metadata": {
        "id": "3vsStx39s05p",
        "colab": {
          "base_uri": "https://localhost:8080/"
        },
        "outputId": "aa9cb69e-40e4-45c3-860b-d45282015a33"
      },
      "outputs": [
        {
          "output_type": "stream",
          "name": "stdout",
          "text": [
            "[]\n"
          ]
        }
      ],
      "source": [
        "explore_reviews_csv_query = \"\"\"\n",
        "CREATE (node1:Frame {text:\"shown\",type:\"Verb\"}),\n",
        "       (node2:Modifier_Location{text:\"In SAP Bank Account Management ( Manage Banks ) application\",type:\"ARGM-LOC\"}),\n",
        "       (node3:Modifier_Temporal{text:\"when a user clicks a smart link to navigate to another app\",type:\"ARGM-TMP\"}),\n",
        "       (node4:Frame_Argument{text:\"personal data\",type:\"ARG1\"}),\n",
        "       (node5:Modifier_Manner{text:\"directly\",type:\"ARGM-MNR\"}),\n",
        "       (node6:Modifier_Location{text:\"in the URL\",type:\"ARGM-LOC\"}),\n",
        "\n",
        "       (node2)-[:HAS_ARGUMENT]->(node1),\n",
        "       (node3)-[:HAS_ARGUMENT]->(node1),\n",
        "       (node4)-[:HAS_ARGUMENT]->(node1), \n",
        "       (node5)-[:HAS_ARGUMENT]->(node1),\n",
        "       (node6)-[:HAS_ARGUMENT]->(node1)\n",
        "\n",
        "MERGE (description:Description {cveId:\"CVE-2023-0023\"})\n",
        "MERGE (frame:Frame {text:\"shown\"})\n",
        "MERGE (description)-[:MAPPED_WITH]->(frame)        \n",
        "\n",
        "\"\"\"\n",
        "result = conn.query(explore_reviews_csv_query)\n",
        "print(result)"
      ]
    },
    {
      "cell_type": "code",
      "execution_count": 329,
      "metadata": {
        "id": "poOinGq9s3fz",
        "colab": {
          "base_uri": "https://localhost:8080/"
        },
        "outputId": "78033d07-25aa-421a-fbc4-4d5fefeae75b"
      },
      "outputs": [
        {
          "output_type": "stream",
          "name": "stdout",
          "text": [
            "[]\n"
          ]
        }
      ],
      "source": [
        "explore_reviews_csv_query = \"\"\"\n",
        "CREATE (node1:Frame {text:\"get\",type:\"Verb\"}),\n",
        "       (node2:Frame_Argument{text:\"They\",type:\"ARG1\"}),\n",
        "       (node3:Modifier_Modal{text:\"might\",type:\"ARGM-MOD\"}),\n",
        "       (node4:Frame_Argument{text:\"captured in log files , bookmarks , and so on disclosing sensitive data of the application\",type:\"ARG2\"}),\n",
        "\n",
        "       (node2)-[:HAS_ARGUMENT]->(node1),\n",
        "       (node3)-[:HAS_ARGUMENT]->(node1),\n",
        "       (node4)-[:HAS_ARGUMENT]->(node1)\n",
        "\n",
        "MERGE (description:Description {cveId:\"CVE-2023-0023\"})\n",
        "MERGE (frame:Frame {text:\"get\"})\n",
        "MERGE (description)-[:MAPPED_WITH]->(frame)       \n",
        "\n",
        "\"\"\"\n",
        "result = conn.query(explore_reviews_csv_query)\n",
        "print(result)"
      ]
    },
    {
      "cell_type": "code",
      "execution_count": 330,
      "metadata": {
        "id": "fcSYYWXvrIjN",
        "colab": {
          "base_uri": "https://localhost:8080/"
        },
        "outputId": "3bea7525-c3f1-4bb1-e4a7-332195016025"
      },
      "outputs": [
        {
          "output_type": "stream",
          "name": "stdout",
          "text": [
            "[]\n"
          ]
        }
      ],
      "source": [
        "explore_reviews_csv_query = \"\"\"\n",
        "CREATE (node1:Frame {text:\"captured\",type:\"Verb\"}),\n",
        "       (node2:Frame_Argument{text:\"They\",type:\"ARG1\"}),\n",
        "       (node3:Modifier_Modal{text:\"might\",type:\"ARGM-MOD\"}),\n",
        "       (node4:Modifier_Location{text:\"in log files , bookmarks\",type:\"ARGM-LOC\"}),\n",
        "\n",
        "       (node2)-[:HAS_ARGUMENT]->(node1),\n",
        "       (node3)-[:HAS_ARGUMENT]->(node1),\n",
        "       (node4)-[:HAS_ARGUMENT]->(node1)\n",
        "\n",
        "MERGE (description:Description {cveId:\"CVE-2023-0023\"})\n",
        "MERGE (frame:Frame {text:\"captured\"})\n",
        "MERGE (description)-[:MAPPED_WITH]->(frame)       \n",
        "\n",
        "\"\"\"\n",
        "result = conn.query(explore_reviews_csv_query)\n",
        "print(result)"
      ]
    },
    {
      "cell_type": "code",
      "execution_count": 331,
      "metadata": {
        "id": "z0lmbOAvrJhw",
        "colab": {
          "base_uri": "https://localhost:8080/"
        },
        "outputId": "6cc34297-7a0e-4590-e56c-5232364876a5"
      },
      "outputs": [
        {
          "output_type": "stream",
          "name": "stdout",
          "text": [
            "[]\n"
          ]
        }
      ],
      "source": [
        "explore_reviews_csv_query = \"\"\"\n",
        "CREATE (node1:Frame {text:\"Stored\",type:\"Verb\"}),\n",
        "       (node2:Frame_Argument{text:\")\",type:\"ARG0\"}),\n",
        "       (node3:Frame_Argument{text:\"in GitHub repository linagora / twake\",type:\"ARG1\"}),\n",
        "       (node4:Modifier_Temporal{text:\"prior to 2023.Q1.1200 +\",type:\"ARGM-TMP\"}),\n",
        "\n",
        "       (node2)-[:HAS_ARGUMENT]->(node1),\n",
        "       (node3)-[:HAS_ARGUMENT]->(node1),\n",
        "       (node4)-[:HAS_ARGUMENT]->(node1)\n",
        "\n",
        "MERGE (description:Description {cveId:\"CVE-2023-0028\"})\n",
        "MERGE (frame:Frame {text:\"Stored\"})\n",
        "MERGE (description)-[:MAPPED_WITH]->(frame)       \n",
        "\n",
        "\"\"\"\n",
        "result = conn.query(explore_reviews_csv_query)\n",
        "print(result)"
      ]
    },
    {
      "cell_type": "code",
      "execution_count": 332,
      "metadata": {
        "id": "bGSHdBPrrKZa",
        "colab": {
          "base_uri": "https://localhost:8080/"
        },
        "outputId": "de7d7ac6-fae1-4cf1-8aa5-3220fe098b37"
      },
      "outputs": [
        {
          "output_type": "stream",
          "name": "stdout",
          "text": [
            "[]\n"
          ]
        }
      ],
      "source": [
        "explore_reviews_csv_query = \"\"\"\n",
        "CREATE (node1:Frame {text:\"found\",type:\"Verb\"}),\n",
        "       (node2:Frame_Argument{text:\"A vulnerability\",type:\"ARG1\"}),\n",
        "       (node3:Modifier_Location{text:\"in Multilaser RE708 RE1200R4GC-2T2R - V3_v3411b_MUL029B.\",type:\"ARGM-LOC\"}),\n",
        "\n",
        "       (node2)-[:HAS_ARGUMENT]->(node1),\n",
        "       (node3)-[:HAS_ARGUMENT]->(node1)\n",
        "\n",
        "MERGE (description:Description {cveId:\"CVE-2023-0029\"})\n",
        "MERGE (frame:Frame {text:\"found\"})\n",
        "MERGE (description)-[:MAPPED_WITH]->(frame)       \n",
        "\n",
        "\"\"\"\n",
        "result = conn.query(explore_reviews_csv_query)\n",
        "print(result)"
      ]
    },
    {
      "cell_type": "code",
      "execution_count": 333,
      "metadata": {
        "id": "tJHKnfZcrLP1",
        "colab": {
          "base_uri": "https://localhost:8080/"
        },
        "outputId": "87835c4f-a4a0-42e2-c102-b4c08292ddf8"
      },
      "outputs": [
        {
          "output_type": "stream",
          "name": "stdout",
          "text": [
            "[]\n"
          ]
        }
      ],
      "source": [
        "explore_reviews_csv_query = \"\"\"\n",
        "CREATE (node1:Frame {text:\"rated\",type:\"Verb\"}),\n",
        "       (node2:Frame_Argument{text:\"in Multilaser RE708 RE1200R4GC-2T2R - V3_v3411b_MUL029B\",type:\"ARG2\"}),\n",
        "       (node3:Frame_Argument{text:\"It\",type:\"ARG1\"}),\n",
        "       (node4:Frame_Argument{text:\"as problematic\",type:\"ARG2\"}),\n",
        "\n",
        "       (node2)-[:HAS_ARGUMENT]->(node1),\n",
        "       (node3)-[:HAS_ARGUMENT]->(node1),\n",
        "       (node4)-[:HAS_ARGUMENT]->(node1)\n",
        "\n",
        "MERGE (description:Description {cveId:\"CVE-2023-0029\"})\n",
        "MERGE (frame:Frame {text:\"rated\"})\n",
        "MERGE (description)-[:MAPPED_WITH]->(frame)       \n",
        "\n",
        "\"\"\"\n",
        "result = conn.query(explore_reviews_csv_query)\n",
        "print(result)"
      ]
    },
    {
      "cell_type": "code",
      "execution_count": 334,
      "metadata": {
        "id": "lfKPZ9CxrMMI",
        "colab": {
          "base_uri": "https://localhost:8080/"
        },
        "outputId": "6606bf93-73b8-4290-82a4-35686220934c"
      },
      "outputs": [
        {
          "output_type": "stream",
          "name": "stdout",
          "text": [
            "[]\n"
          ]
        }
      ],
      "source": [
        "explore_reviews_csv_query = \"\"\"\n",
        "CREATE (node1:Frame {text:\"affects\",type:\"Verb\"}),\n",
        "       (node2:Frame_Argument{text:\"This issue\",type:\"ARG0\"}),\n",
        "       (node3:Frame_Argument{text:\"some unknown processing of the component Telnet Service\",type:\"ARG1\"}),\n",
        "\n",
        "       (node2)-[:HAS_ARGUMENT]->(node1),\n",
        "       (node3)-[:HAS_ARGUMENT]->(node1)\n",
        "\n",
        "MERGE (description:Description {cveId:\"CVE-2023-0029\"})\n",
        "MERGE (frame:Frame {text:\"affects\"})\n",
        "MERGE (description)-[:MAPPED_WITH]->(frame)        \n",
        "\n",
        "\"\"\"\n",
        "result = conn.query(explore_reviews_csv_query)\n",
        "print(result)"
      ]
    },
    {
      "cell_type": "code",
      "execution_count": 335,
      "metadata": {
        "id": "2WACRjJCrM_6",
        "colab": {
          "base_uri": "https://localhost:8080/"
        },
        "outputId": "56ab31b1-9735-4394-c709-2579906092d6"
      },
      "outputs": [
        {
          "output_type": "stream",
          "name": "stdout",
          "text": [
            "[]\n"
          ]
        }
      ],
      "source": [
        "explore_reviews_csv_query = \"\"\"\n",
        "CREATE (node1:Frame {text:\"leads\",type:\"Verb\"}),\n",
        "       (node2:Frame_Argument{text:\"The manipulation\",type:\"ARG0\"}),\n",
        "       (node3:Frame_Argument{text:\"to denial of service\",type:\"ARG2\"}),\n",
        "\n",
        "       (node2)-[:HAS_ARGUMENT]->(node1),\n",
        "       (node3)-[:HAS_ARGUMENT]->(node1)\n",
        "\n",
        "MERGE (description:Description {cveId:\"CVE-2023-0029\"})\n",
        "MERGE (frame:Frame {text:\"leads\"})\n",
        "MERGE (description)-[:MAPPED_WITH]->(frame)        \n",
        "\n",
        "\"\"\"\n",
        "result = conn.query(explore_reviews_csv_query)\n",
        "print(result)"
      ]
    },
    {
      "cell_type": "code",
      "execution_count": 336,
      "metadata": {
        "id": "tVlNVdOBrN2D",
        "colab": {
          "base_uri": "https://localhost:8080/"
        },
        "outputId": "1946a9ca-85b7-4c41-87fb-98c980c52be9"
      },
      "outputs": [
        {
          "output_type": "stream",
          "name": "stdout",
          "text": [
            "[]\n"
          ]
        }
      ],
      "source": [
        "explore_reviews_csv_query = \"\"\"\n",
        "CREATE (node1:Frame {text:\"initiated\",type:\"Verb\"}),\n",
        "       (node2:Frame_Argument{text:\"The attack\",type:\"ARG1\"}),\n",
        "       (node3:Modifier_Modal{text:\"may\",type:\"ARGM-MOD\"}),\n",
        "       (node4:Modifier_Manner{text:\"remotely\",type:\"ARGM-MNR\"}),\n",
        "\n",
        "       (node2)-[:HAS_ARGUMENT]->(node1),\n",
        "       (node3)-[:HAS_ARGUMENT]->(node1),\n",
        "       (node4)-[:HAS_ARGUMENT]->(node1)\n",
        "\n",
        "MERGE (description:Description {cveId:\"CVE-2023-0029\"})\n",
        "MERGE (frame:Frame {text:\"initiated\"})\n",
        "MERGE (description)-[:MAPPED_WITH]->(frame)       \n",
        "\n",
        "\"\"\"\n",
        "result = conn.query(explore_reviews_csv_query)\n",
        "print(result)"
      ]
    },
    {
      "cell_type": "code",
      "execution_count": 337,
      "metadata": {
        "id": "Y7ZevRlUrOrC",
        "colab": {
          "base_uri": "https://localhost:8080/"
        },
        "outputId": "07f318af-df0f-46b2-c03a-c349968473ba"
      },
      "outputs": [
        {
          "output_type": "stream",
          "name": "stdout",
          "text": [
            "[]\n"
          ]
        }
      ],
      "source": [
        "explore_reviews_csv_query = \"\"\"\n",
        "CREATE (node1:Frame {text:\"assigned\",type:\"Verb\"}),\n",
        "       (node2:Frame_Argument{text:\"The identifier VDB-217169\",type:\"ARG1\"}),\n",
        "       (node3:Frame_Argument{text:\"to this vulnerability\",type:\"ARG2\"}),\n",
        "\n",
        "       (node2)-[:HAS_ARGUMENT]->(node1),\n",
        "       (node3)-[:HAS_ARGUMENT]->(node1)\n",
        "\n",
        "MERGE (description:Description {cveId:\"CVE-2023-0029\"})\n",
        "MERGE (frame:Frame {text:\"assigned\"})\n",
        "MERGE (description)-[:MAPPED_WITH]->(frame)       \n",
        "\n",
        "\"\"\"\n",
        "result = conn.query(explore_reviews_csv_query)\n",
        "print(result)"
      ]
    },
    {
      "cell_type": "markdown",
      "source": [
        "# **Creating rules for enhancing the coverage of the knowledge graph**"
      ],
      "metadata": {
        "id": "UI8LlRD57BQV"
      }
    },
    {
      "cell_type": "markdown",
      "source": [
        "Here all CWE refered to weaknesses that lead to CVE vulnerabilities "
      ],
      "metadata": {
        "id": "pnpH74uTq9Kq"
      }
    },
    {
      "cell_type": "code",
      "execution_count": 338,
      "metadata": {
        "id": "Qf9WCjACcghM",
        "colab": {
          "base_uri": "https://localhost:8080/"
        },
        "outputId": "abb915e3-9526-4d8f-b298-5d6c49943956"
      },
      "outputs": [
        {
          "output_type": "stream",
          "name": "stdout",
          "text": [
            "[<Record p=<Path start=<Node element_id='4:de342d72-e7ff-4d5b-9a28-99eaa381965b:6' labels=frozenset({'CVE'}) properties={'assigner': 'cna@sap.com', 'id': 'CVE-2023-0018'}> end=<Node element_id='4:de342d72-e7ff-4d5b-9a28-99eaa381965b:155' labels=frozenset({'CWE'}) properties={'weakness_abstraction': 'Base', 'cwe_id': '79', 'name': \"Improper Neutralization of Input During Web Page Generation ('Cross-site Scripting')\", 'description': 'The software does not neutralize or incorrectly neutralizes user-controllable input before it is placed in output that is used as a web page that is served to other users.', 'extended_description': \"Cross-site scripting (XSS) vulnerabilities occur when: 1. Untrusted data enters a web application, typically from a web request. 2. The web application dynamically generates a web page that contains this untrusted data. 3. During page generation, the application does not prevent the data from containing content that is executable by a web browser, such as JavaScript, HTML tags, HTML attributes, mouse events, Flash, ActiveX, etc. 4. A victim visits the generated web page through a web browser, which contains malicious script that was injected using the untrusted data. 5. Since the script comes from a web page that was sent by the web server, the victim's web browser executes the malicious script in the context of the web server's domain. 6. This effectively violates the intention of the web browser's same-origin policy, which states that scripts in one domain should not be able to access resources or run code in a different domain. There are three main kinds of XSS: Type 1: Reflected XSS (or Non-Persistent) - The server reads data directly from the HTTP request and reflects it back in the HTTP response. Reflected XSS exploits occur when an attacker causes a victim to supply dangerous content to a vulnerable web application, which is then reflected back to the victim and executed by the web browser. The most common mechanism for delivering malicious content is to include it as a parameter in a URL that is posted publicly or e-mailed directly to the victim. URLs constructed in this manner constitute the core of many phishing schemes, whereby an attacker convinces a victim to visit a URL that refers to a vulnerable site. After the site reflects the attacker's content back to the victim, the content is executed by the victim's browser. Type 2: Stored XSS (or Persistent) - The application stores dangerous data in a database, message forum, visitor log, or other trusted data store. At a later time, the dangerous data is subsequently read back into the application and included in dynamic content. From an attacker's perspective, the optimal place to inject malicious content is in an area that is displayed to either many users or particularly interesting users. Interesting users typically have elevated privileges in the application or interact with sensitive data that is valuable to the attacker. If one of these users executes malicious content, the attacker may be able to perform privileged operations on behalf of the user or gain access to sensitive data belonging to the user. For example, the attacker might inject XSS into a log message, which might not be handled properly when an administrator views the logs. Type 0: DOM-Based XSS - In DOM-based XSS, the client performs the injection of XSS into the page; in the other types, the server performs the injection. DOM-based XSS generally involves server-controlled, trusted script that is sent to the client, such as Javascript that performs sanity checks on a form before the user submits it. If the server-supplied script processes user-supplied data and then injects it back into the web page (such as with dynamic HTML), then DOM-based XSS is possible. Once the malicious script is injected, the attacker can perform a variety of malicious activities. The attacker could transfer private information, such as cookies that may include session information, from the victim's machine to the attacker. The attacker could send malicious requests to a web site on behalf of the victim, which could be especially dangerous to the site if the victim has administrator privileges to manage that site. Phishing attacks could be used to emulate trusted web sites and trick the victim into entering a password, allowing the attacker to compromise the victim's account on that web site. Finally, the script could exploit a vulnerability in the web browser itself possibly taking over the victim's machine, sometimes referred to as drive-by hacking. In many cases, the attack can be launched without the victim even being aware of it. Even with careful users, attackers frequently use a variety of methods to encode the malicious portion of the attack, such as URL encoding or Unicode, so the request looks less suspicious.\", 'status': 'Stable'}> size=2>>, <Record p=<Path start=<Node element_id='4:de342d72-e7ff-4d5b-9a28-99eaa381965b:9' labels=frozenset({'CVE'}) properties={'assigner': 'security@huntr.dev', 'id': 'CVE-2023-0028'}> end=<Node element_id='4:de342d72-e7ff-4d5b-9a28-99eaa381965b:155' labels=frozenset({'CWE'}) properties={'weakness_abstraction': 'Base', 'cwe_id': '79', 'name': \"Improper Neutralization of Input During Web Page Generation ('Cross-site Scripting')\", 'description': 'The software does not neutralize or incorrectly neutralizes user-controllable input before it is placed in output that is used as a web page that is served to other users.', 'extended_description': \"Cross-site scripting (XSS) vulnerabilities occur when: 1. Untrusted data enters a web application, typically from a web request. 2. The web application dynamically generates a web page that contains this untrusted data. 3. During page generation, the application does not prevent the data from containing content that is executable by a web browser, such as JavaScript, HTML tags, HTML attributes, mouse events, Flash, ActiveX, etc. 4. A victim visits the generated web page through a web browser, which contains malicious script that was injected using the untrusted data. 5. Since the script comes from a web page that was sent by the web server, the victim's web browser executes the malicious script in the context of the web server's domain. 6. This effectively violates the intention of the web browser's same-origin policy, which states that scripts in one domain should not be able to access resources or run code in a different domain. There are three main kinds of XSS: Type 1: Reflected XSS (or Non-Persistent) - The server reads data directly from the HTTP request and reflects it back in the HTTP response. Reflected XSS exploits occur when an attacker causes a victim to supply dangerous content to a vulnerable web application, which is then reflected back to the victim and executed by the web browser. The most common mechanism for delivering malicious content is to include it as a parameter in a URL that is posted publicly or e-mailed directly to the victim. URLs constructed in this manner constitute the core of many phishing schemes, whereby an attacker convinces a victim to visit a URL that refers to a vulnerable site. After the site reflects the attacker's content back to the victim, the content is executed by the victim's browser. Type 2: Stored XSS (or Persistent) - The application stores dangerous data in a database, message forum, visitor log, or other trusted data store. At a later time, the dangerous data is subsequently read back into the application and included in dynamic content. From an attacker's perspective, the optimal place to inject malicious content is in an area that is displayed to either many users or particularly interesting users. Interesting users typically have elevated privileges in the application or interact with sensitive data that is valuable to the attacker. If one of these users executes malicious content, the attacker may be able to perform privileged operations on behalf of the user or gain access to sensitive data belonging to the user. For example, the attacker might inject XSS into a log message, which might not be handled properly when an administrator views the logs. Type 0: DOM-Based XSS - In DOM-based XSS, the client performs the injection of XSS into the page; in the other types, the server performs the injection. DOM-based XSS generally involves server-controlled, trusted script that is sent to the client, such as Javascript that performs sanity checks on a form before the user submits it. If the server-supplied script processes user-supplied data and then injects it back into the web page (such as with dynamic HTML), then DOM-based XSS is possible. Once the malicious script is injected, the attacker can perform a variety of malicious activities. The attacker could transfer private information, such as cookies that may include session information, from the victim's machine to the attacker. The attacker could send malicious requests to a web site on behalf of the victim, which could be especially dangerous to the site if the victim has administrator privileges to manage that site. Phishing attacks could be used to emulate trusted web sites and trick the victim into entering a password, allowing the attacker to compromise the victim's account on that web site. Finally, the script could exploit a vulnerability in the web browser itself possibly taking over the victim's machine, sometimes referred to as drive-by hacking. In many cases, the attack can be launched without the victim even being aware of it. Even with careful users, attackers frequently use a variety of methods to encode the malicious portion of the attack, such as URL encoding or Unicode, so the request looks less suspicious.\", 'status': 'Stable'}> size=2>>, <Record p=<Path start=<Node element_id='4:de342d72-e7ff-4d5b-9a28-99eaa381965b:3' labels=frozenset({'CVE'}) properties={'assigner': 'cna@sap.com', 'id': 'CVE-2023-0015'}> end=<Node element_id='4:de342d72-e7ff-4d5b-9a28-99eaa381965b:155' labels=frozenset({'CWE'}) properties={'weakness_abstraction': 'Base', 'cwe_id': '79', 'name': \"Improper Neutralization of Input During Web Page Generation ('Cross-site Scripting')\", 'description': 'The software does not neutralize or incorrectly neutralizes user-controllable input before it is placed in output that is used as a web page that is served to other users.', 'extended_description': \"Cross-site scripting (XSS) vulnerabilities occur when: 1. Untrusted data enters a web application, typically from a web request. 2. The web application dynamically generates a web page that contains this untrusted data. 3. During page generation, the application does not prevent the data from containing content that is executable by a web browser, such as JavaScript, HTML tags, HTML attributes, mouse events, Flash, ActiveX, etc. 4. A victim visits the generated web page through a web browser, which contains malicious script that was injected using the untrusted data. 5. Since the script comes from a web page that was sent by the web server, the victim's web browser executes the malicious script in the context of the web server's domain. 6. This effectively violates the intention of the web browser's same-origin policy, which states that scripts in one domain should not be able to access resources or run code in a different domain. There are three main kinds of XSS: Type 1: Reflected XSS (or Non-Persistent) - The server reads data directly from the HTTP request and reflects it back in the HTTP response. Reflected XSS exploits occur when an attacker causes a victim to supply dangerous content to a vulnerable web application, which is then reflected back to the victim and executed by the web browser. The most common mechanism for delivering malicious content is to include it as a parameter in a URL that is posted publicly or e-mailed directly to the victim. URLs constructed in this manner constitute the core of many phishing schemes, whereby an attacker convinces a victim to visit a URL that refers to a vulnerable site. After the site reflects the attacker's content back to the victim, the content is executed by the victim's browser. Type 2: Stored XSS (or Persistent) - The application stores dangerous data in a database, message forum, visitor log, or other trusted data store. At a later time, the dangerous data is subsequently read back into the application and included in dynamic content. From an attacker's perspective, the optimal place to inject malicious content is in an area that is displayed to either many users or particularly interesting users. Interesting users typically have elevated privileges in the application or interact with sensitive data that is valuable to the attacker. If one of these users executes malicious content, the attacker may be able to perform privileged operations on behalf of the user or gain access to sensitive data belonging to the user. For example, the attacker might inject XSS into a log message, which might not be handled properly when an administrator views the logs. Type 0: DOM-Based XSS - In DOM-based XSS, the client performs the injection of XSS into the page; in the other types, the server performs the injection. DOM-based XSS generally involves server-controlled, trusted script that is sent to the client, such as Javascript that performs sanity checks on a form before the user submits it. If the server-supplied script processes user-supplied data and then injects it back into the web page (such as with dynamic HTML), then DOM-based XSS is possible. Once the malicious script is injected, the attacker can perform a variety of malicious activities. The attacker could transfer private information, such as cookies that may include session information, from the victim's machine to the attacker. The attacker could send malicious requests to a web site on behalf of the victim, which could be especially dangerous to the site if the victim has administrator privileges to manage that site. Phishing attacks could be used to emulate trusted web sites and trick the victim into entering a password, allowing the attacker to compromise the victim's account on that web site. Finally, the script could exploit a vulnerability in the web browser itself possibly taking over the victim's machine, sometimes referred to as drive-by hacking. In many cases, the attack can be launched without the victim even being aware of it. Even with careful users, attackers frequently use a variety of methods to encode the malicious portion of the attack, such as URL encoding or Unicode, so the request looks less suspicious.\", 'status': 'Stable'}> size=2>>, <Record p=<Path start=<Node element_id='4:de342d72-e7ff-4d5b-9a28-99eaa381965b:1' labels=frozenset({'CVE'}) properties={'assigner': 'cna@sap.com', 'id': 'CVE-2023-0013'}> end=<Node element_id='4:de342d72-e7ff-4d5b-9a28-99eaa381965b:155' labels=frozenset({'CWE'}) properties={'weakness_abstraction': 'Base', 'cwe_id': '79', 'name': \"Improper Neutralization of Input During Web Page Generation ('Cross-site Scripting')\", 'description': 'The software does not neutralize or incorrectly neutralizes user-controllable input before it is placed in output that is used as a web page that is served to other users.', 'extended_description': \"Cross-site scripting (XSS) vulnerabilities occur when: 1. Untrusted data enters a web application, typically from a web request. 2. The web application dynamically generates a web page that contains this untrusted data. 3. During page generation, the application does not prevent the data from containing content that is executable by a web browser, such as JavaScript, HTML tags, HTML attributes, mouse events, Flash, ActiveX, etc. 4. A victim visits the generated web page through a web browser, which contains malicious script that was injected using the untrusted data. 5. Since the script comes from a web page that was sent by the web server, the victim's web browser executes the malicious script in the context of the web server's domain. 6. This effectively violates the intention of the web browser's same-origin policy, which states that scripts in one domain should not be able to access resources or run code in a different domain. There are three main kinds of XSS: Type 1: Reflected XSS (or Non-Persistent) - The server reads data directly from the HTTP request and reflects it back in the HTTP response. Reflected XSS exploits occur when an attacker causes a victim to supply dangerous content to a vulnerable web application, which is then reflected back to the victim and executed by the web browser. The most common mechanism for delivering malicious content is to include it as a parameter in a URL that is posted publicly or e-mailed directly to the victim. URLs constructed in this manner constitute the core of many phishing schemes, whereby an attacker convinces a victim to visit a URL that refers to a vulnerable site. After the site reflects the attacker's content back to the victim, the content is executed by the victim's browser. Type 2: Stored XSS (or Persistent) - The application stores dangerous data in a database, message forum, visitor log, or other trusted data store. At a later time, the dangerous data is subsequently read back into the application and included in dynamic content. From an attacker's perspective, the optimal place to inject malicious content is in an area that is displayed to either many users or particularly interesting users. Interesting users typically have elevated privileges in the application or interact with sensitive data that is valuable to the attacker. If one of these users executes malicious content, the attacker may be able to perform privileged operations on behalf of the user or gain access to sensitive data belonging to the user. For example, the attacker might inject XSS into a log message, which might not be handled properly when an administrator views the logs. Type 0: DOM-Based XSS - In DOM-based XSS, the client performs the injection of XSS into the page; in the other types, the server performs the injection. DOM-based XSS generally involves server-controlled, trusted script that is sent to the client, such as Javascript that performs sanity checks on a form before the user submits it. If the server-supplied script processes user-supplied data and then injects it back into the web page (such as with dynamic HTML), then DOM-based XSS is possible. Once the malicious script is injected, the attacker can perform a variety of malicious activities. The attacker could transfer private information, such as cookies that may include session information, from the victim's machine to the attacker. The attacker could send malicious requests to a web site on behalf of the victim, which could be especially dangerous to the site if the victim has administrator privileges to manage that site. Phishing attacks could be used to emulate trusted web sites and trick the victim into entering a password, allowing the attacker to compromise the victim's account on that web site. Finally, the script could exploit a vulnerability in the web browser itself possibly taking over the victim's machine, sometimes referred to as drive-by hacking. In many cases, the attack can be launched without the victim even being aware of it. Even with careful users, attackers frequently use a variety of methods to encode the malicious portion of the attack, such as URL encoding or Unicode, so the request looks less suspicious.\", 'status': 'Stable'}> size=2>>, <Record p=<Path start=<Node element_id='4:de342d72-e7ff-4d5b-9a28-99eaa381965b:4' labels=frozenset({'CVE'}) properties={'assigner': 'cna@sap.com', 'id': 'CVE-2023-0016'}> end=<Node element_id='4:de342d72-e7ff-4d5b-9a28-99eaa381965b:156' labels=frozenset({'CWE'}) properties={'weakness_abstraction': 'Base', 'cwe_id': '89', 'name': \"Improper Neutralization of Special Elements used in an SQL Command ('SQL Injection')\", 'description': 'The software constructs all or part of an SQL command using externally-influenced input from an upstream component, but it does not neutralize or incorrectly neutralizes special elements that could modify the intended SQL command when it is sent to a downstream component.', 'extended_description': 'Without sufficient removal or quoting of SQL syntax in user-controllable inputs, the generated SQL query can cause those inputs to be interpreted as SQL instead of ordinary user data. This can be used to alter query logic to bypass security checks, or to insert additional statements that modify the back-end database, possibly including execution of system commands. SQL injection has become a common issue with database-driven web sites. The flaw is easily detected, and easily exploited, and as such, any site or software package with even a minimal user base is likely to be subject to an attempted attack of this kind. This flaw depends on the fact that SQL makes no real distinction between the control and data planes.', 'status': 'Stable'}> size=2>>, <Record p=<Path start=<Node element_id='4:de342d72-e7ff-4d5b-9a28-99eaa381965b:7' labels=frozenset({'CVE'}) properties={'assigner': 'cna@sap.com', 'id': 'CVE-2023-0022'}> end=<Node element_id='4:de342d72-e7ff-4d5b-9a28-99eaa381965b:157' labels=frozenset({'CWE'}) properties={'weakness_abstraction': 'Base', 'cwe_id': '94', 'name': \"Improper Control of Generation of Code ('Code Injection')\", 'description': 'The software constructs all or part of a code segment using externally-influenced input from an upstream component, but it does not neutralize or incorrectly neutralizes special elements that could modify the syntax or behavior of the intended code segment.', 'extended_description': \"When software allows a user's input to contain code syntax, it might be possible for an attacker to craft the code in such a way that it will alter the intended control flow of the software. Such an alteration could lead to arbitrary code execution. Injection problems encompass a wide variety of issues -- all mitigated in very different ways. For this reason, the most effective way to discuss these weaknesses is to note the distinct features which classify them as injection weaknesses. The most important issue to note is that all injection problems share one thing in common -- i.e., they allow for the injection of control plane data into the user-controlled data plane. This means that the execution of the process may be altered by sending code in through legitimate data channels, using no other mechanism. While buffer overflows, and many other flaws, involve the use of some further issue to gain execution, injection problems need only for the data to be parsed. The most classic instantiations of this category of weakness are SQL injection and format string vulnerabilities.\", 'status': 'Draft'}> size=2>>, <Record p=<Path start=<Node element_id='4:de342d72-e7ff-4d5b-9a28-99eaa381965b:8' labels=frozenset({'CVE'}) properties={'assigner': 'cna@sap.com', 'id': 'CVE-2023-0023'}> end=<Node element_id='4:de342d72-e7ff-4d5b-9a28-99eaa381965b:158' labels=frozenset({'CWE'}) properties={'weakness_abstraction': 'Class', 'cwe_id': '200', 'name': 'Exposure of Sensitive Information to an Unauthorized Actor', 'description': 'The product exposes sensitive information to an actor that is not explicitly authorized to have access to that information.', 'extended_description': \"There are many different kinds of mistakes that introduce information exposures. The severity of the error can range widely, depending on the context in which the product operates, the type of sensitive information that is revealed, and the benefits it may provide to an attacker. Some kinds of sensitive information include: private, personal information, such as personal messages, financial data, health records, geographic location, or contact details system status and environment, such as the operating system and installed packages business secrets and intellectual property network status and configuration the product's own code or internal state metadata, e.g. logging of connections or message headers indirect information, such as a discrepancy between two internal operations that can be observed by an outsider Information might be sensitive to different parties, each of which may have their own expectations for whether the information should be protected. These parties include: the product's own users people or organizations whose information is created or used by the product, even if they are not direct product users the product's administrators, including the admins of the system(s) and/or networks on which the product operates the developer Information exposures can occur in different ways: the code explicitly inserts sensitive information into resources that are made accessible to unauthorized actors a different weakness or mistake inadvertently makes the sensitive information available, such as a web script error revealing the full system path of the program\", 'status': 'Draft'}> size=2>>, <Record p=<Path start=<Node element_id='4:de342d72-e7ff-4d5b-9a28-99eaa381965b:0' labels=frozenset({'CVE'}) properties={'assigner': 'cna@sap.com', 'id': 'CVE-2023-0012'}> end=<Node element_id='4:de342d72-e7ff-4d5b-9a28-99eaa381965b:159' labels=frozenset({'CWE'}) properties={'weakness_abstraction': 'Pillar', 'cwe_id': '284', 'name': 'Improper Access Control', 'description': 'The software does not restrict or incorrectly restricts access to a resource from an unauthorized actor.', 'extended_description': 'Access control involves the use of several protection mechanisms such as: Authentication (proving the identity of an actor) Authorization (ensuring that a given actor can access a resource), and Accountability (tracking of activities that were performed) When any mechanism is not applied or otherwise fails, attackers can compromise the security of the software by gaining privileges, reading sensitive information, executing commands, evading detection, etc. There are two distinct behaviors that can introduce access control weaknesses: Specification: incorrect privileges, permissions, ownership, etc. are explicitly specified for either the user or the resource (for example, setting a password file to be world-writable, or giving administrator capabilities to a guest user). This action could be performed by the program or the administrator. Enforcement: the mechanism contains errors that prevent it from properly enforcing the specified access control requirements (e.g., allowing the user to specify their own privileges, or allowing a syntactically-incorrect ACL to produce insecure settings). This problem occurs within the program itself, in that it does not actually enforce the intended security policy that the administrator specifies.', 'status': 'Incomplete'}> size=2>>, <Record p=<Path start=<Node element_id='4:de342d72-e7ff-4d5b-9a28-99eaa381965b:5' labels=frozenset({'CVE'}) properties={'assigner': 'cna@sap.com', 'id': 'CVE-2023-0017'}> end=<Node element_id='4:de342d72-e7ff-4d5b-9a28-99eaa381965b:159' labels=frozenset({'CWE'}) properties={'weakness_abstraction': 'Pillar', 'cwe_id': '284', 'name': 'Improper Access Control', 'description': 'The software does not restrict or incorrectly restricts access to a resource from an unauthorized actor.', 'extended_description': 'Access control involves the use of several protection mechanisms such as: Authentication (proving the identity of an actor) Authorization (ensuring that a given actor can access a resource), and Accountability (tracking of activities that were performed) When any mechanism is not applied or otherwise fails, attackers can compromise the security of the software by gaining privileges, reading sensitive information, executing commands, evading detection, etc. There are two distinct behaviors that can introduce access control weaknesses: Specification: incorrect privileges, permissions, ownership, etc. are explicitly specified for either the user or the resource (for example, setting a password file to be world-writable, or giving administrator capabilities to a guest user). This action could be performed by the program or the administrator. Enforcement: the mechanism contains errors that prevent it from properly enforcing the specified access control requirements (e.g., allowing the user to specify their own privileges, or allowing a syntactically-incorrect ACL to produce insecure settings). This problem occurs within the program itself, in that it does not actually enforce the intended security policy that the administrator specifies.', 'status': 'Incomplete'}> size=2>>, <Record p=<Path start=<Node element_id='4:de342d72-e7ff-4d5b-9a28-99eaa381965b:2' labels=frozenset({'CVE'}) properties={'assigner': 'cna@sap.com', 'id': 'CVE-2023-0014'}> end=<Node element_id='4:de342d72-e7ff-4d5b-9a28-99eaa381965b:160' labels=frozenset({'CWE'}) properties={'weakness_abstraction': 'Base', 'cwe_id': '294', 'name': 'Authentication Bypass by Capture-replay', 'description': 'A capture-replay flaw exists when the design of the software makes it possible for a malicious user to sniff network traffic and bypass authentication by replaying it to the server in question to the same effect as the original message (or with minor changes).', 'extended_description': 'Capture-replay attacks are common and can be difficult to defeat without cryptography. They are a subset of network injection attacks that rely on observing previously-sent valid commands, then changing them slightly if necessary and resending the same commands to the server.', 'status': 'Incomplete'}> size=2>>]\n"
          ]
        }
      ],
      "source": [
        "explore_reviews_csv_query = \"\"\"\n",
        "MATCH p=(cve:CVE)-[:PROBLEM_TYPE]->(problemType:ProblemType)-[:MAPPED_WITH]->(cwe:CWE)\n",
        "MERGE(cwe)-[:LEAD_TO]->(cve)\n",
        "RETURN p\n",
        "\n",
        "\"\"\"\n",
        "result = conn.query(explore_reviews_csv_query)\n",
        "print(result)"
      ]
    },
    {
      "cell_type": "markdown",
      "source": [
        "These patterns matchs some entities from CWE, that vulnerable to each CVE vulnerabilities"
      ],
      "metadata": {
        "id": "j69O4ZWnf5PJ"
      }
    },
    {
      "cell_type": "code",
      "execution_count": 339,
      "metadata": {
        "id": "LoUqsBKDHEgi",
        "colab": {
          "base_uri": "https://localhost:8080/"
        },
        "outputId": "7454ee0d-0415-4c26-d4b6-7fc736a1af40"
      },
      "outputs": [
        {
          "output_type": "stream",
          "name": "stdout",
          "text": [
            "[<Record p=<Path start=<Node element_id='4:de342d72-e7ff-4d5b-9a28-99eaa381965b:6' labels=frozenset({'CVE'}) properties={'assigner': 'cna@sap.com', 'id': 'CVE-2023-0018'}> end=<Node element_id='4:de342d72-e7ff-4d5b-9a28-99eaa381965b:167' labels=frozenset({'Entities'}) properties={'wikipediaExternalRef': 241154, 'wikidataId': 'Q371199', 'confidence_score': 0.719, 'offsetStart': 0, 'offsetEnd': 20, 'rawName': 'Cross-site scripting'}> size=4>>, <Record p=<Path start=<Node element_id='4:de342d72-e7ff-4d5b-9a28-99eaa381965b:9' labels=frozenset({'CVE'}) properties={'assigner': 'security@huntr.dev', 'id': 'CVE-2023-0028'}> end=<Node element_id='4:de342d72-e7ff-4d5b-9a28-99eaa381965b:167' labels=frozenset({'Entities'}) properties={'wikipediaExternalRef': 241154, 'wikidataId': 'Q371199', 'confidence_score': 0.719, 'offsetStart': 0, 'offsetEnd': 20, 'rawName': 'Cross-site scripting'}> size=4>>, <Record p=<Path start=<Node element_id='4:de342d72-e7ff-4d5b-9a28-99eaa381965b:3' labels=frozenset({'CVE'}) properties={'assigner': 'cna@sap.com', 'id': 'CVE-2023-0015'}> end=<Node element_id='4:de342d72-e7ff-4d5b-9a28-99eaa381965b:167' labels=frozenset({'Entities'}) properties={'wikipediaExternalRef': 241154, 'wikidataId': 'Q371199', 'confidence_score': 0.719, 'offsetStart': 0, 'offsetEnd': 20, 'rawName': 'Cross-site scripting'}> size=4>>, <Record p=<Path start=<Node element_id='4:de342d72-e7ff-4d5b-9a28-99eaa381965b:1' labels=frozenset({'CVE'}) properties={'assigner': 'cna@sap.com', 'id': 'CVE-2023-0013'}> end=<Node element_id='4:de342d72-e7ff-4d5b-9a28-99eaa381965b:167' labels=frozenset({'Entities'}) properties={'wikipediaExternalRef': 241154, 'wikidataId': 'Q371199', 'confidence_score': 0.719, 'offsetStart': 0, 'offsetEnd': 20, 'rawName': 'Cross-site scripting'}> size=4>>]\n"
          ]
        }
      ],
      "source": [
        "explore_reviews_csv_query = \"\"\"\n",
        "MATCH p=(cve:CVE)-[:PROBLEM_TYPE]->(problemType:ProblemType)-[:MAPPED_WITH]->(cwe:CWE)-[:MAPPED_WITH]->(cwedata:Extended_Descriptions)-[:HAS_ENTITY]->(Entities:Entities{rawName:\"Cross-site scripting\"})\n",
        "MERGE(Entities)<-[:VULNERABLE_TO]-(cve)\n",
        "RETURN p\n",
        "\n",
        "\"\"\"\n",
        "result = conn.query(explore_reviews_csv_query)\n",
        "print(result)"
      ]
    },
    {
      "cell_type": "code",
      "execution_count": 340,
      "metadata": {
        "id": "XkMMVx1pz2Di",
        "colab": {
          "base_uri": "https://localhost:8080/"
        },
        "outputId": "fcae8535-6950-4271-bd8d-31d59ac6b909"
      },
      "outputs": [
        {
          "output_type": "stream",
          "name": "stdout",
          "text": [
            "[<Record p=<Path start=<Node element_id='4:de342d72-e7ff-4d5b-9a28-99eaa381965b:4' labels=frozenset({'CVE'}) properties={'assigner': 'cna@sap.com', 'id': 'CVE-2023-0016'}> end=<Node element_id='4:de342d72-e7ff-4d5b-9a28-99eaa381965b:262' labels=frozenset({'Entities'}) properties={'wikipediaExternalRef': 526999, 'wikidataId': 'Q506059', 'confidence_score': 0.9162, 'offsetStart': 1041, 'offsetEnd': 1054, 'rawName': 'SQL injection'}> size=4>>, <Record p=<Path start=<Node element_id='4:de342d72-e7ff-4d5b-9a28-99eaa381965b:7' labels=frozenset({'CVE'}) properties={'assigner': 'cna@sap.com', 'id': 'CVE-2023-0022'}> end=<Node element_id='4:de342d72-e7ff-4d5b-9a28-99eaa381965b:262' labels=frozenset({'Entities'}) properties={'wikipediaExternalRef': 526999, 'wikidataId': 'Q506059', 'confidence_score': 0.9162, 'offsetStart': 1041, 'offsetEnd': 1054, 'rawName': 'SQL injection'}> size=4>>]\n"
          ]
        }
      ],
      "source": [
        "explore_reviews_csv_query = \"\"\"\n",
        "MATCH p=(cve:CVE)-[:PROBLEM_TYPE]->(problemType:ProblemType)-[:MAPPED_WITH]->(cwe:CWE)-[:MAPPED_WITH]->(cwedata:Extended_Descriptions)-[:HAS_ENTITY]->(Entities:Entities{rawName:\"SQL injection\"})\n",
        "MERGE(Entities)<-[:VULNERABLE_TO]-(cve)\n",
        "RETURN p\n",
        "\n",
        "\"\"\"\n",
        "result = conn.query(explore_reviews_csv_query)\n",
        "print(result)"
      ]
    },
    {
      "cell_type": "code",
      "execution_count": 341,
      "metadata": {
        "id": "FEYCXm4Bz-zs",
        "colab": {
          "base_uri": "https://localhost:8080/"
        },
        "outputId": "db8663d7-2dbe-435f-98aa-3cd6b932df3e"
      },
      "outputs": [
        {
          "output_type": "stream",
          "name": "stdout",
          "text": [
            "[<Record p=<Path start=<Node element_id='4:de342d72-e7ff-4d5b-9a28-99eaa381965b:0' labels=frozenset({'CVE'}) properties={'assigner': 'cna@sap.com', 'id': 'CVE-2023-0012'}> end=<Node element_id='4:de342d72-e7ff-4d5b-9a28-99eaa381965b:314' labels=frozenset({'Entities'}) properties={'wikipediaExternalRef': 40684, 'wikidataId': 'Q228502', 'confidence_score': 0.6394, 'offsetStart': 0, 'offsetEnd': 14, 'rawName': 'Access control'}> size=4>>, <Record p=<Path start=<Node element_id='4:de342d72-e7ff-4d5b-9a28-99eaa381965b:5' labels=frozenset({'CVE'}) properties={'assigner': 'cna@sap.com', 'id': 'CVE-2023-0017'}> end=<Node element_id='4:de342d72-e7ff-4d5b-9a28-99eaa381965b:314' labels=frozenset({'Entities'}) properties={'wikipediaExternalRef': 40684, 'wikidataId': 'Q228502', 'confidence_score': 0.6394, 'offsetStart': 0, 'offsetEnd': 14, 'rawName': 'Access control'}> size=4>>]\n"
          ]
        }
      ],
      "source": [
        "explore_reviews_csv_query = \"\"\"\n",
        "MATCH p=(cve:CVE)-[:PROBLEM_TYPE]->(problemType:ProblemType)-[:MAPPED_WITH]->(cwe:CWE)-[:MAPPED_WITH]->(cwedata:Extended_Descriptions)-[:HAS_ENTITY]->(Entities:Entities{rawName:\"Access control\"})\n",
        "MERGE(Entities)<-[:VULNERABLE_TO]-(cve)\n",
        "RETURN p\n",
        "\n",
        "\"\"\"\n",
        "result = conn.query(explore_reviews_csv_query)\n",
        "print(result)"
      ]
    },
    {
      "cell_type": "code",
      "execution_count": 342,
      "metadata": {
        "id": "I3n5YoD4HVAN",
        "colab": {
          "base_uri": "https://localhost:8080/"
        },
        "outputId": "5eb87b70-b0ba-4693-e385-45f0d510851c"
      },
      "outputs": [
        {
          "output_type": "stream",
          "name": "stdout",
          "text": [
            "[<Record p=<Path start=<Node element_id='4:de342d72-e7ff-4d5b-9a28-99eaa381965b:2' labels=frozenset({'CVE'}) properties={'assigner': 'cna@sap.com', 'id': 'CVE-2023-0014'}> end=<Node element_id='4:de342d72-e7ff-4d5b-9a28-99eaa381965b:331' labels=frozenset({'Entities'}) properties={'wikipediaExternalRef': 614094, 'wikidataId': 'Q1756025', 'confidence_score': 0.5922, 'offsetStart': 8, 'offsetEnd': 22, 'rawName': 'replay attacks'}> size=4>>]\n"
          ]
        }
      ],
      "source": [
        "explore_reviews_csv_query = \"\"\"\n",
        "MATCH p=(cve:CVE)-[:PROBLEM_TYPE]->(problemType:ProblemType)-[:MAPPED_WITH]->(cwe:CWE)-[:MAPPED_WITH]->(cwedata:Extended_Descriptions)-[:HAS_ENTITY]->(Entities:Entities{rawName:\"replay attacks\"})\n",
        "MERGE(Entities)<-[:VULNERABLE_TO]-(cve)\n",
        "RETURN p\n",
        "\n",
        "\"\"\"\n",
        "result = conn.query(explore_reviews_csv_query)\n",
        "print(result)"
      ]
    },
    {
      "cell_type": "code",
      "source": [
        "explore_reviews_csv_query = \"\"\"\n",
        "MATCH p=(cve:CVE)-[:PROBLEM_TYPE]->(problemType:ProblemType)-[:MAPPED_WITH]->(cwe:CWE)-[:MAPPED_WITH]->(cwedata:Extended_Descriptions)-[:HAS_ENTITY]->(Entities:Entities{rawName:\"sensitive information\"})\n",
        "MERGE(Entities)<-[:INADVERTENTLY_EXPOSES]-(cve)\n",
        "RETURN p\n",
        "\n",
        "\"\"\"\n",
        "result = conn.query(explore_reviews_csv_query)\n",
        "print(result)"
      ],
      "metadata": {
        "colab": {
          "base_uri": "https://localhost:8080/"
        },
        "id": "nLCUYf-HD7Yn",
        "outputId": "87608f8b-9dea-4d58-85fc-094685066338"
      },
      "execution_count": 343,
      "outputs": [
        {
          "output_type": "stream",
          "name": "stdout",
          "text": [
            "[<Record p=<Path start=<Node element_id='4:de342d72-e7ff-4d5b-9a28-99eaa381965b:8' labels=frozenset({'CVE'}) properties={'assigner': 'cna@sap.com', 'id': 'CVE-2023-0023'}> end=<Node element_id='4:de342d72-e7ff-4d5b-9a28-99eaa381965b:287' labels=frozenset({'Entities'}) properties={'wikipediaExternalRef': 5316476, 'wikidataId': 'Q2587068', 'confidence_score': 0.4076, 'offsetStart': 394, 'offsetEnd': 415, 'rawName': 'sensitive information'}> size=4>>, <Record p=<Path start=<Node element_id='4:de342d72-e7ff-4d5b-9a28-99eaa381965b:0' labels=frozenset({'CVE'}) properties={'assigner': 'cna@sap.com', 'id': 'CVE-2023-0012'}> end=<Node element_id='4:de342d72-e7ff-4d5b-9a28-99eaa381965b:287' labels=frozenset({'Entities'}) properties={'wikipediaExternalRef': 5316476, 'wikidataId': 'Q2587068', 'confidence_score': 0.4076, 'offsetStart': 394, 'offsetEnd': 415, 'rawName': 'sensitive information'}> size=4>>, <Record p=<Path start=<Node element_id='4:de342d72-e7ff-4d5b-9a28-99eaa381965b:5' labels=frozenset({'CVE'}) properties={'assigner': 'cna@sap.com', 'id': 'CVE-2023-0017'}> end=<Node element_id='4:de342d72-e7ff-4d5b-9a28-99eaa381965b:287' labels=frozenset({'Entities'}) properties={'wikipediaExternalRef': 5316476, 'wikidataId': 'Q2587068', 'confidence_score': 0.4076, 'offsetStart': 394, 'offsetEnd': 415, 'rawName': 'sensitive information'}> size=4>>]\n"
          ]
        }
      ]
    },
    {
      "cell_type": "markdown",
      "source": [
        "Here some CVE are connecting with wikidata Id of the entities in order to create similarities between CVEs"
      ],
      "metadata": {
        "id": "7h8lPkblxiHj"
      }
    },
    {
      "cell_type": "code",
      "execution_count": 344,
      "metadata": {
        "id": "2OtSpD4G-kvG",
        "colab": {
          "base_uri": "https://localhost:8080/"
        },
        "outputId": "45b36bdb-4b4a-4ea9-c167-a818cd956d7d"
      },
      "outputs": [
        {
          "output_type": "stream",
          "name": "stdout",
          "text": [
            "[<Record p=<Path start=<Node element_id='4:de342d72-e7ff-4d5b-9a28-99eaa381965b:6' labels=frozenset({'CVE'}) properties={'assigner': 'cna@sap.com', 'id': 'CVE-2023-0018'}> end=<Node element_id='4:de342d72-e7ff-4d5b-9a28-99eaa381965b:167' labels=frozenset({'Entities'}) properties={'wikipediaExternalRef': 241154, 'wikidataId': 'Q371199', 'confidence_score': 0.719, 'offsetStart': 0, 'offsetEnd': 20, 'rawName': 'Cross-site scripting'}> size=4>>, <Record p=<Path start=<Node element_id='4:de342d72-e7ff-4d5b-9a28-99eaa381965b:6' labels=frozenset({'CVE'}) properties={'assigner': 'cna@sap.com', 'id': 'CVE-2023-0018'}> end=<Node element_id='4:de342d72-e7ff-4d5b-9a28-99eaa381965b:168' labels=frozenset({'Entities'}) properties={'wikipediaExternalRef': 241154, 'wikidataId': 'Q371199', 'confidence_score': 0.8255, 'offsetStart': 3130, 'offsetEnd': 3133, 'rawName': 'XSS'}> size=4>>, <Record p=<Path start=<Node element_id='4:de342d72-e7ff-4d5b-9a28-99eaa381965b:6' labels=frozenset({'CVE'}) properties={'assigner': 'cna@sap.com', 'id': 'CVE-2023-0018'}> end=<Node element_id='4:de342d72-e7ff-4d5b-9a28-99eaa381965b:195' labels=frozenset({'Entities'}) properties={'wikipediaExternalRef': 241154, 'wikidataId': 'Q371199', 'confidence_score': 0.5158, 'offsetStart': 1120, 'offsetEnd': 1133, 'rawName': 'Reflected XSS'}> size=4>>, <Record p=<Path start=<Node element_id='4:de342d72-e7ff-4d5b-9a28-99eaa381965b:6' labels=frozenset({'CVE'}) properties={'assigner': 'cna@sap.com', 'id': 'CVE-2023-0018'}> end=<Node element_id='4:de342d72-e7ff-4d5b-9a28-99eaa381965b:208' labels=frozenset({'Entities'}) properties={'wikipediaExternalRef': 241154, 'wikidataId': 'Q371199', 'confidence_score': 0.5158, 'offsetStart': 1769, 'offsetEnd': 1779, 'rawName': 'Stored XSS'}> size=4>>, <Record p=<Path start=<Node element_id='4:de342d72-e7ff-4d5b-9a28-99eaa381965b:9' labels=frozenset({'CVE'}) properties={'assigner': 'security@huntr.dev', 'id': 'CVE-2023-0028'}> end=<Node element_id='4:de342d72-e7ff-4d5b-9a28-99eaa381965b:167' labels=frozenset({'Entities'}) properties={'wikipediaExternalRef': 241154, 'wikidataId': 'Q371199', 'confidence_score': 0.719, 'offsetStart': 0, 'offsetEnd': 20, 'rawName': 'Cross-site scripting'}> size=4>>, <Record p=<Path start=<Node element_id='4:de342d72-e7ff-4d5b-9a28-99eaa381965b:9' labels=frozenset({'CVE'}) properties={'assigner': 'security@huntr.dev', 'id': 'CVE-2023-0028'}> end=<Node element_id='4:de342d72-e7ff-4d5b-9a28-99eaa381965b:168' labels=frozenset({'Entities'}) properties={'wikipediaExternalRef': 241154, 'wikidataId': 'Q371199', 'confidence_score': 0.8255, 'offsetStart': 3130, 'offsetEnd': 3133, 'rawName': 'XSS'}> size=4>>, <Record p=<Path start=<Node element_id='4:de342d72-e7ff-4d5b-9a28-99eaa381965b:9' labels=frozenset({'CVE'}) properties={'assigner': 'security@huntr.dev', 'id': 'CVE-2023-0028'}> end=<Node element_id='4:de342d72-e7ff-4d5b-9a28-99eaa381965b:195' labels=frozenset({'Entities'}) properties={'wikipediaExternalRef': 241154, 'wikidataId': 'Q371199', 'confidence_score': 0.5158, 'offsetStart': 1120, 'offsetEnd': 1133, 'rawName': 'Reflected XSS'}> size=4>>, <Record p=<Path start=<Node element_id='4:de342d72-e7ff-4d5b-9a28-99eaa381965b:9' labels=frozenset({'CVE'}) properties={'assigner': 'security@huntr.dev', 'id': 'CVE-2023-0028'}> end=<Node element_id='4:de342d72-e7ff-4d5b-9a28-99eaa381965b:208' labels=frozenset({'Entities'}) properties={'wikipediaExternalRef': 241154, 'wikidataId': 'Q371199', 'confidence_score': 0.5158, 'offsetStart': 1769, 'offsetEnd': 1779, 'rawName': 'Stored XSS'}> size=4>>, <Record p=<Path start=<Node element_id='4:de342d72-e7ff-4d5b-9a28-99eaa381965b:3' labels=frozenset({'CVE'}) properties={'assigner': 'cna@sap.com', 'id': 'CVE-2023-0015'}> end=<Node element_id='4:de342d72-e7ff-4d5b-9a28-99eaa381965b:167' labels=frozenset({'Entities'}) properties={'wikipediaExternalRef': 241154, 'wikidataId': 'Q371199', 'confidence_score': 0.719, 'offsetStart': 0, 'offsetEnd': 20, 'rawName': 'Cross-site scripting'}> size=4>>, <Record p=<Path start=<Node element_id='4:de342d72-e7ff-4d5b-9a28-99eaa381965b:3' labels=frozenset({'CVE'}) properties={'assigner': 'cna@sap.com', 'id': 'CVE-2023-0015'}> end=<Node element_id='4:de342d72-e7ff-4d5b-9a28-99eaa381965b:168' labels=frozenset({'Entities'}) properties={'wikipediaExternalRef': 241154, 'wikidataId': 'Q371199', 'confidence_score': 0.8255, 'offsetStart': 3130, 'offsetEnd': 3133, 'rawName': 'XSS'}> size=4>>, <Record p=<Path start=<Node element_id='4:de342d72-e7ff-4d5b-9a28-99eaa381965b:3' labels=frozenset({'CVE'}) properties={'assigner': 'cna@sap.com', 'id': 'CVE-2023-0015'}> end=<Node element_id='4:de342d72-e7ff-4d5b-9a28-99eaa381965b:195' labels=frozenset({'Entities'}) properties={'wikipediaExternalRef': 241154, 'wikidataId': 'Q371199', 'confidence_score': 0.5158, 'offsetStart': 1120, 'offsetEnd': 1133, 'rawName': 'Reflected XSS'}> size=4>>, <Record p=<Path start=<Node element_id='4:de342d72-e7ff-4d5b-9a28-99eaa381965b:3' labels=frozenset({'CVE'}) properties={'assigner': 'cna@sap.com', 'id': 'CVE-2023-0015'}> end=<Node element_id='4:de342d72-e7ff-4d5b-9a28-99eaa381965b:208' labels=frozenset({'Entities'}) properties={'wikipediaExternalRef': 241154, 'wikidataId': 'Q371199', 'confidence_score': 0.5158, 'offsetStart': 1769, 'offsetEnd': 1779, 'rawName': 'Stored XSS'}> size=4>>, <Record p=<Path start=<Node element_id='4:de342d72-e7ff-4d5b-9a28-99eaa381965b:1' labels=frozenset({'CVE'}) properties={'assigner': 'cna@sap.com', 'id': 'CVE-2023-0013'}> end=<Node element_id='4:de342d72-e7ff-4d5b-9a28-99eaa381965b:167' labels=frozenset({'Entities'}) properties={'wikipediaExternalRef': 241154, 'wikidataId': 'Q371199', 'confidence_score': 0.719, 'offsetStart': 0, 'offsetEnd': 20, 'rawName': 'Cross-site scripting'}> size=4>>, <Record p=<Path start=<Node element_id='4:de342d72-e7ff-4d5b-9a28-99eaa381965b:1' labels=frozenset({'CVE'}) properties={'assigner': 'cna@sap.com', 'id': 'CVE-2023-0013'}> end=<Node element_id='4:de342d72-e7ff-4d5b-9a28-99eaa381965b:168' labels=frozenset({'Entities'}) properties={'wikipediaExternalRef': 241154, 'wikidataId': 'Q371199', 'confidence_score': 0.8255, 'offsetStart': 3130, 'offsetEnd': 3133, 'rawName': 'XSS'}> size=4>>, <Record p=<Path start=<Node element_id='4:de342d72-e7ff-4d5b-9a28-99eaa381965b:1' labels=frozenset({'CVE'}) properties={'assigner': 'cna@sap.com', 'id': 'CVE-2023-0013'}> end=<Node element_id='4:de342d72-e7ff-4d5b-9a28-99eaa381965b:195' labels=frozenset({'Entities'}) properties={'wikipediaExternalRef': 241154, 'wikidataId': 'Q371199', 'confidence_score': 0.5158, 'offsetStart': 1120, 'offsetEnd': 1133, 'rawName': 'Reflected XSS'}> size=4>>, <Record p=<Path start=<Node element_id='4:de342d72-e7ff-4d5b-9a28-99eaa381965b:1' labels=frozenset({'CVE'}) properties={'assigner': 'cna@sap.com', 'id': 'CVE-2023-0013'}> end=<Node element_id='4:de342d72-e7ff-4d5b-9a28-99eaa381965b:208' labels=frozenset({'Entities'}) properties={'wikipediaExternalRef': 241154, 'wikidataId': 'Q371199', 'confidence_score': 0.5158, 'offsetStart': 1769, 'offsetEnd': 1779, 'rawName': 'Stored XSS'}> size=4>>]\n"
          ]
        }
      ],
      "source": [
        "explore_reviews_csv_query = \"\"\"\n",
        "MATCH p=(cve:CVE)-[:PROBLEM_TYPE]->(problemType:ProblemType)-[:MAPPED_WITH]->(cwe:CWE)-[:MAPPED_WITH]->(cwedata:Extended_Descriptions)-[:HAS_ENTITY]->(Entities:Entities{wikidataId:\"Q371199\"})\n",
        "MERGE(Entities)<-[:VULNERABLE_TO]-(cve)\n",
        "MERGE (cve1:CVE{id:\"CVE-2023-0013\"})\n",
        "MERGE (cve2:CVE{id:\"CVE-2023-0015\"})\n",
        "MERGE (cve3:CVE{id:\"CVE-2023-0018\"})\n",
        "MERGE (cve4:CVE{id:\"CVE-2023-0028\"})\n",
        "MERGE (cve1)-[:SIMILAR_TO]->(cve2)\n",
        "MERGE (cve2)-[:SIMILAR_TO]->(cve3)\n",
        "MERGE (cve3)-[:SIMILAR_TO]->(cve4)\n",
        "RETURN p\n",
        "\n",
        "\"\"\"\n",
        "result = conn.query(explore_reviews_csv_query)\n",
        "print(result)"
      ]
    },
    {
      "cell_type": "code",
      "execution_count": 345,
      "metadata": {
        "id": "CrsXkiEn-uY5",
        "colab": {
          "base_uri": "https://localhost:8080/"
        },
        "outputId": "31f10db7-8248-44b2-ac37-dd38654de428"
      },
      "outputs": [
        {
          "output_type": "stream",
          "name": "stdout",
          "text": [
            "[<Record p=<Path start=<Node element_id='4:de342d72-e7ff-4d5b-9a28-99eaa381965b:4' labels=frozenset({'CVE'}) properties={'assigner': 'cna@sap.com', 'id': 'CVE-2023-0016'}> end=<Node element_id='4:de342d72-e7ff-4d5b-9a28-99eaa381965b:262' labels=frozenset({'Entities'}) properties={'wikipediaExternalRef': 526999, 'wikidataId': 'Q506059', 'confidence_score': 0.9162, 'offsetStart': 1041, 'offsetEnd': 1054, 'rawName': 'SQL injection'}> size=4>>, <Record p=<Path start=<Node element_id='4:de342d72-e7ff-4d5b-9a28-99eaa381965b:7' labels=frozenset({'CVE'}) properties={'assigner': 'cna@sap.com', 'id': 'CVE-2023-0022'}> end=<Node element_id='4:de342d72-e7ff-4d5b-9a28-99eaa381965b:262' labels=frozenset({'Entities'}) properties={'wikipediaExternalRef': 526999, 'wikidataId': 'Q506059', 'confidence_score': 0.9162, 'offsetStart': 1041, 'offsetEnd': 1054, 'rawName': 'SQL injection'}> size=4>>]\n"
          ]
        }
      ],
      "source": [
        "explore_reviews_csv_query = \"\"\"\n",
        "MATCH p=(cve:CVE)-[:PROBLEM_TYPE]->(problemType:ProblemType)-[:MAPPED_WITH]->(cwe:CWE)-[:MAPPED_WITH]->(cwedata:Extended_Descriptions)-[:HAS_ENTITY]->(Entities:Entities{wikidataId:\"Q506059\"})\n",
        "MERGE (cve1:CVE{id:\"CVE-2023-0016\"})\n",
        "MERGE (cve2:CVE{id:\"CVE-2023-0022\"})\n",
        "MERGE (cve1)-[:SIMILAR_TO]->(cve2)\n",
        "RETURN p\n",
        "\n",
        "\"\"\"\n",
        "result = conn.query(explore_reviews_csv_query)\n",
        "print(result)"
      ]
    },
    {
      "cell_type": "code",
      "execution_count": 346,
      "metadata": {
        "id": "Uaqmc-4zMBgq",
        "colab": {
          "base_uri": "https://localhost:8080/"
        },
        "outputId": "bd535b86-93e7-408f-b99d-d992dd485407"
      },
      "outputs": [
        {
          "output_type": "stream",
          "name": "stdout",
          "text": [
            "[<Record p=<Path start=<Node element_id='4:de342d72-e7ff-4d5b-9a28-99eaa381965b:0' labels=frozenset({'CVE'}) properties={'assigner': 'cna@sap.com', 'id': 'CVE-2023-0012'}> end=<Node element_id='4:de342d72-e7ff-4d5b-9a28-99eaa381965b:322' labels=frozenset({'Entities'}) properties={'wikipediaExternalRef': 40684, 'wikidataId': 'Q228502', 'confidence_score': 0.4556, 'offsetStart': 947, 'offsetEnd': 961, 'rawName': 'access control'}> size=4>>, <Record p=<Path start=<Node element_id='4:de342d72-e7ff-4d5b-9a28-99eaa381965b:0' labels=frozenset({'CVE'}) properties={'assigner': 'cna@sap.com', 'id': 'CVE-2023-0012'}> end=<Node element_id='4:de342d72-e7ff-4d5b-9a28-99eaa381965b:314' labels=frozenset({'Entities'}) properties={'wikipediaExternalRef': 40684, 'wikidataId': 'Q228502', 'confidence_score': 0.6394, 'offsetStart': 0, 'offsetEnd': 14, 'rawName': 'Access control'}> size=4>>, <Record p=<Path start=<Node element_id='4:de342d72-e7ff-4d5b-9a28-99eaa381965b:5' labels=frozenset({'CVE'}) properties={'assigner': 'cna@sap.com', 'id': 'CVE-2023-0017'}> end=<Node element_id='4:de342d72-e7ff-4d5b-9a28-99eaa381965b:322' labels=frozenset({'Entities'}) properties={'wikipediaExternalRef': 40684, 'wikidataId': 'Q228502', 'confidence_score': 0.4556, 'offsetStart': 947, 'offsetEnd': 961, 'rawName': 'access control'}> size=4>>, <Record p=<Path start=<Node element_id='4:de342d72-e7ff-4d5b-9a28-99eaa381965b:5' labels=frozenset({'CVE'}) properties={'assigner': 'cna@sap.com', 'id': 'CVE-2023-0017'}> end=<Node element_id='4:de342d72-e7ff-4d5b-9a28-99eaa381965b:314' labels=frozenset({'Entities'}) properties={'wikipediaExternalRef': 40684, 'wikidataId': 'Q228502', 'confidence_score': 0.6394, 'offsetStart': 0, 'offsetEnd': 14, 'rawName': 'Access control'}> size=4>>]\n"
          ]
        }
      ],
      "source": [
        "explore_reviews_csv_query = \"\"\"\n",
        "MATCH p=(cve:CVE)-[:PROBLEM_TYPE]->(problemType:ProblemType)-[:MAPPED_WITH]->(cwe:CWE)-[:MAPPED_WITH]->(cwedata:Extended_Descriptions)-[:HAS_ENTITY]->(Entities:Entities{wikidataId:\"Q228502\"})\n",
        "MERGE (cve1:CVE{id:\"CVE-2023-0012\"})\n",
        "MERGE (cve2:CVE{id:\"CVE-2023-0017\"})\n",
        "MERGE (cve1)-[:SIMILAR_TO]->(cve2)\n",
        "RETURN p\n",
        "\n",
        "\"\"\"\n",
        "result = conn.query(explore_reviews_csv_query)\n",
        "print(result)"
      ]
    },
    {
      "cell_type": "code",
      "source": [
        "explore_reviews_csv_query = \"\"\"\n",
        "MATCH p=(cve:CVE)-[:PROBLEM_TYPE]->(problemType:ProblemType)-[:MAPPED_WITH]->(cwe:CWE)-[:MAPPED_WITH]->(cwedata:Extended_Descriptions)-[:HAS_ENTITY]->(Entities:Entities{wikidataId:\"Q2587068\"})\n",
        "MERGE (cve1:CVE{id:\"CVE-2023-0012\"})\n",
        "MERGE (cve2:CVE{id:\"CVE-2023-0017\"})\n",
        "MERGE (cve3:CVE{id:\"CVE-2023-0023\"})\n",
        "MERGE (cve1)-[:SIMILAR_TO]->(cve2)\n",
        "MERGE (cve2)-[:SIMILAR_TO]->(cve3)\n",
        "RETURN p\n",
        "\n",
        "\"\"\"\n",
        "result = conn.query(explore_reviews_csv_query)\n",
        "print(result)"
      ],
      "metadata": {
        "colab": {
          "base_uri": "https://localhost:8080/"
        },
        "id": "XlKhVJVnElwU",
        "outputId": "215b16ec-8264-40b4-9ec2-455d0c133464"
      },
      "execution_count": 347,
      "outputs": [
        {
          "output_type": "stream",
          "name": "stdout",
          "text": [
            "[<Record p=<Path start=<Node element_id='4:de342d72-e7ff-4d5b-9a28-99eaa381965b:6' labels=frozenset({'CVE'}) properties={'assigner': 'cna@sap.com', 'id': 'CVE-2023-0018'}> end=<Node element_id='4:de342d72-e7ff-4d5b-9a28-99eaa381965b:216' labels=frozenset({'Entities'}) properties={'wikipediaExternalRef': 5316476, 'wikidataId': 'Q2587068', 'confidence_score': 0.4691, 'offsetStart': 2476, 'offsetEnd': 2490, 'rawName': 'sensitive data'}> size=4>>, <Record p=<Path start=<Node element_id='4:de342d72-e7ff-4d5b-9a28-99eaa381965b:9' labels=frozenset({'CVE'}) properties={'assigner': 'security@huntr.dev', 'id': 'CVE-2023-0028'}> end=<Node element_id='4:de342d72-e7ff-4d5b-9a28-99eaa381965b:216' labels=frozenset({'Entities'}) properties={'wikipediaExternalRef': 5316476, 'wikidataId': 'Q2587068', 'confidence_score': 0.4691, 'offsetStart': 2476, 'offsetEnd': 2490, 'rawName': 'sensitive data'}> size=4>>, <Record p=<Path start=<Node element_id='4:de342d72-e7ff-4d5b-9a28-99eaa381965b:3' labels=frozenset({'CVE'}) properties={'assigner': 'cna@sap.com', 'id': 'CVE-2023-0015'}> end=<Node element_id='4:de342d72-e7ff-4d5b-9a28-99eaa381965b:216' labels=frozenset({'Entities'}) properties={'wikipediaExternalRef': 5316476, 'wikidataId': 'Q2587068', 'confidence_score': 0.4691, 'offsetStart': 2476, 'offsetEnd': 2490, 'rawName': 'sensitive data'}> size=4>>, <Record p=<Path start=<Node element_id='4:de342d72-e7ff-4d5b-9a28-99eaa381965b:1' labels=frozenset({'CVE'}) properties={'assigner': 'cna@sap.com', 'id': 'CVE-2023-0013'}> end=<Node element_id='4:de342d72-e7ff-4d5b-9a28-99eaa381965b:216' labels=frozenset({'Entities'}) properties={'wikipediaExternalRef': 5316476, 'wikidataId': 'Q2587068', 'confidence_score': 0.4691, 'offsetStart': 2476, 'offsetEnd': 2490, 'rawName': 'sensitive data'}> size=4>>, <Record p=<Path start=<Node element_id='4:de342d72-e7ff-4d5b-9a28-99eaa381965b:8' labels=frozenset({'CVE'}) properties={'assigner': 'cna@sap.com', 'id': 'CVE-2023-0023'}> end=<Node element_id='4:de342d72-e7ff-4d5b-9a28-99eaa381965b:287' labels=frozenset({'Entities'}) properties={'wikipediaExternalRef': 5316476, 'wikidataId': 'Q2587068', 'confidence_score': 0.4076, 'offsetStart': 394, 'offsetEnd': 415, 'rawName': 'sensitive information'}> size=4>>, <Record p=<Path start=<Node element_id='4:de342d72-e7ff-4d5b-9a28-99eaa381965b:0' labels=frozenset({'CVE'}) properties={'assigner': 'cna@sap.com', 'id': 'CVE-2023-0012'}> end=<Node element_id='4:de342d72-e7ff-4d5b-9a28-99eaa381965b:287' labels=frozenset({'Entities'}) properties={'wikipediaExternalRef': 5316476, 'wikidataId': 'Q2587068', 'confidence_score': 0.4076, 'offsetStart': 394, 'offsetEnd': 415, 'rawName': 'sensitive information'}> size=4>>, <Record p=<Path start=<Node element_id='4:de342d72-e7ff-4d5b-9a28-99eaa381965b:5' labels=frozenset({'CVE'}) properties={'assigner': 'cna@sap.com', 'id': 'CVE-2023-0017'}> end=<Node element_id='4:de342d72-e7ff-4d5b-9a28-99eaa381965b:287' labels=frozenset({'Entities'}) properties={'wikipediaExternalRef': 5316476, 'wikidataId': 'Q2587068', 'confidence_score': 0.4076, 'offsetStart': 394, 'offsetEnd': 415, 'rawName': 'sensitive information'}> size=4>>]\n"
          ]
        }
      ]
    },
    {
      "cell_type": "markdown",
      "source": [
        "Each CVE is assigned a CVSS score to indicate its severity"
      ],
      "metadata": {
        "id": "3pbHVPmSPmk4"
      }
    },
    {
      "cell_type": "code",
      "source": [
        "explore_reviews_csv_query = \"\"\"\n",
        "MATCH p=(cve:CVE)-[:HAS_IMPACT]->(impact:IMPACT)-[:HAS_CVSSV3]->(cvssv3:CVSSV3)\n",
        "MERGE(cvssv3)-[:ASSIGNED_TO]->(cve)\n",
        "RETURN p\n",
        "\n",
        "\"\"\"\n",
        "result = conn.query(explore_reviews_csv_query)\n",
        "print(result)"
      ],
      "metadata": {
        "colab": {
          "base_uri": "https://localhost:8080/"
        },
        "id": "1iDsGbU_PZl-",
        "outputId": "b8315e30-c730-44db-dfbe-7504e48ad015"
      },
      "execution_count": 348,
      "outputs": [
        {
          "output_type": "stream",
          "name": "stdout",
          "text": [
            "[<Record p=<Path start=<Node element_id='4:de342d72-e7ff-4d5b-9a28-99eaa381965b:0' labels=frozenset({'CVE'}) properties={'assigner': 'cna@sap.com', 'id': 'CVE-2023-0012'}> end=<Node element_id='4:de342d72-e7ff-4d5b-9a28-99eaa381965b:54' labels=frozenset({'CVSSV3'}) properties={'baseSeverity': 'MEDIUM', 'confidentialityImpact': 'HIGH', 'scope': 'UNCHANGED', 'attackComplexity': 'LOW', 'attackVector': 'LOCAL', 'availabilityImpact': 'HIGH', 'integrityImpact': 'HIGH', 'privilegesRequired': 'HIGH', 'baseScore': 6.7, 'vectorString': 'CVSS:3.1/AV:L/AC:L/PR:H/UI:N/S:U/C:H/I:H/A:H', 'userInteraction': 'NONE', 'version': '3.1'}> size=2>>, <Record p=<Path start=<Node element_id='4:de342d72-e7ff-4d5b-9a28-99eaa381965b:1' labels=frozenset({'CVE'}) properties={'assigner': 'cna@sap.com', 'id': 'CVE-2023-0013'}> end=<Node element_id='4:de342d72-e7ff-4d5b-9a28-99eaa381965b:56' labels=frozenset({'CVSSV3'}) properties={'baseSeverity': 'MEDIUM', 'confidentialityImpact': 'LOW', 'scope': 'CHANGED', 'attackComplexity': 'LOW', 'attackVector': 'NETWORK', 'availabilityImpact': 'NONE', 'integrityImpact': 'LOW', 'privilegesRequired': 'NONE', 'baseScore': 6.1, 'vectorString': 'CVSS:3.1/AV:N/AC:L/PR:N/UI:R/S:C/C:L/I:L/A:N', 'version': '3.1', 'userInteraction': 'REQUIRED'}> size=2>>, <Record p=<Path start=<Node element_id='4:de342d72-e7ff-4d5b-9a28-99eaa381965b:2' labels=frozenset({'CVE'}) properties={'assigner': 'cna@sap.com', 'id': 'CVE-2023-0014'}> end=<Node element_id='4:de342d72-e7ff-4d5b-9a28-99eaa381965b:58' labels=frozenset({'CVSSV3'}) properties={'baseSeverity': 'CRITICAL', 'confidentialityImpact': 'HIGH', 'scope': 'UNCHANGED', 'attackComplexity': 'LOW', 'attackVector': 'NETWORK', 'availabilityImpact': 'HIGH', 'integrityImpact': 'HIGH', 'privilegesRequired': 'NONE', 'baseScore': 9.8, 'vectorString': 'CVSS:3.1/AV:N/AC:L/PR:N/UI:N/S:U/C:H/I:H/A:H', 'version': '3.1', 'userInteraction': 'NONE'}> size=2>>, <Record p=<Path start=<Node element_id='4:de342d72-e7ff-4d5b-9a28-99eaa381965b:3' labels=frozenset({'CVE'}) properties={'assigner': 'cna@sap.com', 'id': 'CVE-2023-0015'}> end=<Node element_id='4:de342d72-e7ff-4d5b-9a28-99eaa381965b:60' labels=frozenset({'CVSSV3'}) properties={'baseSeverity': 'MEDIUM', 'confidentialityImpact': 'LOW', 'scope': 'CHANGED', 'attackComplexity': 'LOW', 'attackVector': 'NETWORK', 'availabilityImpact': 'NONE', 'integrityImpact': 'LOW', 'privilegesRequired': 'LOW', 'baseScore': 5.4, 'vectorString': 'CVSS:3.1/AV:N/AC:L/PR:L/UI:R/S:C/C:L/I:L/A:N', 'version': '3.1', 'userInteraction': 'REQUIRED'}> size=2>>, <Record p=<Path start=<Node element_id='4:de342d72-e7ff-4d5b-9a28-99eaa381965b:4' labels=frozenset({'CVE'}) properties={'assigner': 'cna@sap.com', 'id': 'CVE-2023-0016'}> end=<Node element_id='4:de342d72-e7ff-4d5b-9a28-99eaa381965b:62' labels=frozenset({'CVSSV3'}) properties={'baseSeverity': 'HIGH', 'confidentialityImpact': 'HIGH', 'scope': 'UNCHANGED', 'attackComplexity': 'LOW', 'attackVector': 'NETWORK', 'availabilityImpact': 'HIGH', 'integrityImpact': 'HIGH', 'privilegesRequired': 'LOW', 'baseScore': 8.8, 'vectorString': 'CVSS:3.1/AV:N/AC:L/PR:L/UI:N/S:U/C:H/I:H/A:H', 'userInteraction': 'NONE', 'version': '3.1'}> size=2>>, <Record p=<Path start=<Node element_id='4:de342d72-e7ff-4d5b-9a28-99eaa381965b:5' labels=frozenset({'CVE'}) properties={'assigner': 'cna@sap.com', 'id': 'CVE-2023-0017'}> end=<Node element_id='4:de342d72-e7ff-4d5b-9a28-99eaa381965b:64' labels=frozenset({'CVSSV3'}) properties={'baseSeverity': 'CRITICAL', 'confidentialityImpact': 'HIGH', 'scope': 'UNCHANGED', 'attackComplexity': 'LOW', 'attackVector': 'NETWORK', 'availabilityImpact': 'HIGH', 'integrityImpact': 'HIGH', 'privilegesRequired': 'NONE', 'baseScore': 9.8, 'vectorString': 'CVSS:3.1/AV:N/AC:L/PR:N/UI:N/S:U/C:H/I:H/A:H', 'version': '3.1', 'userInteraction': 'NONE'}> size=2>>, <Record p=<Path start=<Node element_id='4:de342d72-e7ff-4d5b-9a28-99eaa381965b:6' labels=frozenset({'CVE'}) properties={'assigner': 'cna@sap.com', 'id': 'CVE-2023-0018'}> end=<Node element_id='4:de342d72-e7ff-4d5b-9a28-99eaa381965b:66' labels=frozenset({'CVSSV3'}) properties={'baseSeverity': 'MEDIUM', 'confidentialityImpact': 'LOW', 'scope': 'CHANGED', 'attackComplexity': 'LOW', 'attackVector': 'NETWORK', 'availabilityImpact': 'NONE', 'integrityImpact': 'LOW', 'privilegesRequired': 'NONE', 'baseScore': 6.1, 'vectorString': 'CVSS:3.1/AV:N/AC:L/PR:N/UI:R/S:C/C:L/I:L/A:N', 'version': '3.1', 'userInteraction': 'REQUIRED'}> size=2>>, <Record p=<Path start=<Node element_id='4:de342d72-e7ff-4d5b-9a28-99eaa381965b:7' labels=frozenset({'CVE'}) properties={'assigner': 'cna@sap.com', 'id': 'CVE-2023-0022'}> end=<Node element_id='4:de342d72-e7ff-4d5b-9a28-99eaa381965b:68' labels=frozenset({'CVSSV3'}) properties={'baseSeverity': 'HIGH', 'confidentialityImpact': 'HIGH', 'scope': 'UNCHANGED', 'attackComplexity': 'LOW', 'attackVector': 'NETWORK', 'availabilityImpact': 'HIGH', 'integrityImpact': 'HIGH', 'privilegesRequired': 'LOW', 'baseScore': 8.8, 'vectorString': 'CVSS:3.1/AV:N/AC:L/PR:L/UI:N/S:U/C:H/I:H/A:H', 'userInteraction': 'NONE', 'version': '3.1'}> size=2>>, <Record p=<Path start=<Node element_id='4:de342d72-e7ff-4d5b-9a28-99eaa381965b:8' labels=frozenset({'CVE'}) properties={'assigner': 'cna@sap.com', 'id': 'CVE-2023-0023'}> end=<Node element_id='4:de342d72-e7ff-4d5b-9a28-99eaa381965b:70' labels=frozenset({'CVSSV3'}) properties={'baseSeverity': 'MEDIUM', 'confidentialityImpact': 'HIGH', 'scope': 'UNCHANGED', 'attackComplexity': 'LOW', 'attackVector': 'NETWORK', 'availabilityImpact': 'NONE', 'integrityImpact': 'NONE', 'privilegesRequired': 'LOW', 'baseScore': 5.7, 'vectorString': 'CVSS:3.1/AV:N/AC:L/PR:L/UI:R/S:U/C:H/I:N/A:N', 'version': '3.1', 'userInteraction': 'REQUIRED'}> size=2>>, <Record p=<Path start=<Node element_id='4:de342d72-e7ff-4d5b-9a28-99eaa381965b:9' labels=frozenset({'CVE'}) properties={'assigner': 'security@huntr.dev', 'id': 'CVE-2023-0028'}> end=<Node element_id='4:de342d72-e7ff-4d5b-9a28-99eaa381965b:72' labels=frozenset({'CVSSV3'}) properties={'baseSeverity': 'MEDIUM', 'confidentialityImpact': 'LOW', 'scope': 'CHANGED', 'attackComplexity': 'LOW', 'attackVector': 'NETWORK', 'availabilityImpact': 'NONE', 'integrityImpact': 'LOW', 'privilegesRequired': 'NONE', 'baseScore': 6.1, 'vectorString': 'CVSS:3.1/AV:N/AC:L/PR:N/UI:R/S:C/C:L/I:L/A:N', 'version': '3.1', 'userInteraction': 'REQUIRED'}> size=2>>, <Record p=<Path start=<Node element_id='4:de342d72-e7ff-4d5b-9a28-99eaa381965b:10' labels=frozenset({'CVE'}) properties={'assigner': 'cna@vuldb.com', 'id': 'CVE-2023-0029'}> end=<Node element_id='4:de342d72-e7ff-4d5b-9a28-99eaa381965b:74' labels=frozenset({'CVSSV3'}) properties={'baseSeverity': 'HIGH', 'confidentialityImpact': 'NONE', 'scope': 'UNCHANGED', 'attackComplexity': 'LOW', 'attackVector': 'NETWORK', 'availabilityImpact': 'HIGH', 'integrityImpact': 'NONE', 'privilegesRequired': 'NONE', 'baseScore': 7.5, 'vectorString': 'CVSS:3.1/AV:N/AC:L/PR:N/UI:N/S:U/C:N/I:N/A:H', 'userInteraction': 'NONE', 'version': '3.1'}> size=2>>]\n"
          ]
        }
      ]
    },
    {
      "cell_type": "markdown",
      "source": [
        "**To evaluate the efficiency our KG by using question-answering to transform our questions into cypher queries and then we obtain relevant data as an answer**"
      ],
      "metadata": {
        "id": "N2Eo8LfjQ5DS"
      }
    },
    {
      "cell_type": "code",
      "source": [
        "# Q1 What are the weaknesses that lead to vulnerabilities?\n",
        "\n",
        "explore_reviews_csv_query = \"\"\"\n",
        "MATCH (cwe)-[:LEAD_TO]->(cve)\n",
        "RETURN cwe,cve\n",
        "\n",
        "\"\"\"\n",
        "result = conn.query(explore_reviews_csv_query)\n",
        "print(result)"
      ],
      "metadata": {
        "id": "X--4vLwH5w0n",
        "colab": {
          "base_uri": "https://localhost:8080/"
        },
        "outputId": "959bf417-a014-45ad-8bfb-c70539ca620e"
      },
      "execution_count": 349,
      "outputs": [
        {
          "output_type": "stream",
          "name": "stdout",
          "text": [
            "[<Record cwe=<Node element_id='4:de342d72-e7ff-4d5b-9a28-99eaa381965b:155' labels=frozenset({'CWE'}) properties={'weakness_abstraction': 'Base', 'cwe_id': '79', 'name': \"Improper Neutralization of Input During Web Page Generation ('Cross-site Scripting')\", 'description': 'The software does not neutralize or incorrectly neutralizes user-controllable input before it is placed in output that is used as a web page that is served to other users.', 'extended_description': \"Cross-site scripting (XSS) vulnerabilities occur when: 1. Untrusted data enters a web application, typically from a web request. 2. The web application dynamically generates a web page that contains this untrusted data. 3. During page generation, the application does not prevent the data from containing content that is executable by a web browser, such as JavaScript, HTML tags, HTML attributes, mouse events, Flash, ActiveX, etc. 4. A victim visits the generated web page through a web browser, which contains malicious script that was injected using the untrusted data. 5. Since the script comes from a web page that was sent by the web server, the victim's web browser executes the malicious script in the context of the web server's domain. 6. This effectively violates the intention of the web browser's same-origin policy, which states that scripts in one domain should not be able to access resources or run code in a different domain. There are three main kinds of XSS: Type 1: Reflected XSS (or Non-Persistent) - The server reads data directly from the HTTP request and reflects it back in the HTTP response. Reflected XSS exploits occur when an attacker causes a victim to supply dangerous content to a vulnerable web application, which is then reflected back to the victim and executed by the web browser. The most common mechanism for delivering malicious content is to include it as a parameter in a URL that is posted publicly or e-mailed directly to the victim. URLs constructed in this manner constitute the core of many phishing schemes, whereby an attacker convinces a victim to visit a URL that refers to a vulnerable site. After the site reflects the attacker's content back to the victim, the content is executed by the victim's browser. Type 2: Stored XSS (or Persistent) - The application stores dangerous data in a database, message forum, visitor log, or other trusted data store. At a later time, the dangerous data is subsequently read back into the application and included in dynamic content. From an attacker's perspective, the optimal place to inject malicious content is in an area that is displayed to either many users or particularly interesting users. Interesting users typically have elevated privileges in the application or interact with sensitive data that is valuable to the attacker. If one of these users executes malicious content, the attacker may be able to perform privileged operations on behalf of the user or gain access to sensitive data belonging to the user. For example, the attacker might inject XSS into a log message, which might not be handled properly when an administrator views the logs. Type 0: DOM-Based XSS - In DOM-based XSS, the client performs the injection of XSS into the page; in the other types, the server performs the injection. DOM-based XSS generally involves server-controlled, trusted script that is sent to the client, such as Javascript that performs sanity checks on a form before the user submits it. If the server-supplied script processes user-supplied data and then injects it back into the web page (such as with dynamic HTML), then DOM-based XSS is possible. Once the malicious script is injected, the attacker can perform a variety of malicious activities. The attacker could transfer private information, such as cookies that may include session information, from the victim's machine to the attacker. The attacker could send malicious requests to a web site on behalf of the victim, which could be especially dangerous to the site if the victim has administrator privileges to manage that site. Phishing attacks could be used to emulate trusted web sites and trick the victim into entering a password, allowing the attacker to compromise the victim's account on that web site. Finally, the script could exploit a vulnerability in the web browser itself possibly taking over the victim's machine, sometimes referred to as drive-by hacking. In many cases, the attack can be launched without the victim even being aware of it. Even with careful users, attackers frequently use a variety of methods to encode the malicious portion of the attack, such as URL encoding or Unicode, so the request looks less suspicious.\", 'status': 'Stable'}> cve=<Node element_id='4:de342d72-e7ff-4d5b-9a28-99eaa381965b:6' labels=frozenset({'CVE'}) properties={'assigner': 'cna@sap.com', 'id': 'CVE-2023-0018'}>>, <Record cwe=<Node element_id='4:de342d72-e7ff-4d5b-9a28-99eaa381965b:155' labels=frozenset({'CWE'}) properties={'weakness_abstraction': 'Base', 'cwe_id': '79', 'name': \"Improper Neutralization of Input During Web Page Generation ('Cross-site Scripting')\", 'description': 'The software does not neutralize or incorrectly neutralizes user-controllable input before it is placed in output that is used as a web page that is served to other users.', 'extended_description': \"Cross-site scripting (XSS) vulnerabilities occur when: 1. Untrusted data enters a web application, typically from a web request. 2. The web application dynamically generates a web page that contains this untrusted data. 3. During page generation, the application does not prevent the data from containing content that is executable by a web browser, such as JavaScript, HTML tags, HTML attributes, mouse events, Flash, ActiveX, etc. 4. A victim visits the generated web page through a web browser, which contains malicious script that was injected using the untrusted data. 5. Since the script comes from a web page that was sent by the web server, the victim's web browser executes the malicious script in the context of the web server's domain. 6. This effectively violates the intention of the web browser's same-origin policy, which states that scripts in one domain should not be able to access resources or run code in a different domain. There are three main kinds of XSS: Type 1: Reflected XSS (or Non-Persistent) - The server reads data directly from the HTTP request and reflects it back in the HTTP response. Reflected XSS exploits occur when an attacker causes a victim to supply dangerous content to a vulnerable web application, which is then reflected back to the victim and executed by the web browser. The most common mechanism for delivering malicious content is to include it as a parameter in a URL that is posted publicly or e-mailed directly to the victim. URLs constructed in this manner constitute the core of many phishing schemes, whereby an attacker convinces a victim to visit a URL that refers to a vulnerable site. After the site reflects the attacker's content back to the victim, the content is executed by the victim's browser. Type 2: Stored XSS (or Persistent) - The application stores dangerous data in a database, message forum, visitor log, or other trusted data store. At a later time, the dangerous data is subsequently read back into the application and included in dynamic content. From an attacker's perspective, the optimal place to inject malicious content is in an area that is displayed to either many users or particularly interesting users. Interesting users typically have elevated privileges in the application or interact with sensitive data that is valuable to the attacker. If one of these users executes malicious content, the attacker may be able to perform privileged operations on behalf of the user or gain access to sensitive data belonging to the user. For example, the attacker might inject XSS into a log message, which might not be handled properly when an administrator views the logs. Type 0: DOM-Based XSS - In DOM-based XSS, the client performs the injection of XSS into the page; in the other types, the server performs the injection. DOM-based XSS generally involves server-controlled, trusted script that is sent to the client, such as Javascript that performs sanity checks on a form before the user submits it. If the server-supplied script processes user-supplied data and then injects it back into the web page (such as with dynamic HTML), then DOM-based XSS is possible. Once the malicious script is injected, the attacker can perform a variety of malicious activities. The attacker could transfer private information, such as cookies that may include session information, from the victim's machine to the attacker. The attacker could send malicious requests to a web site on behalf of the victim, which could be especially dangerous to the site if the victim has administrator privileges to manage that site. Phishing attacks could be used to emulate trusted web sites and trick the victim into entering a password, allowing the attacker to compromise the victim's account on that web site. Finally, the script could exploit a vulnerability in the web browser itself possibly taking over the victim's machine, sometimes referred to as drive-by hacking. In many cases, the attack can be launched without the victim even being aware of it. Even with careful users, attackers frequently use a variety of methods to encode the malicious portion of the attack, such as URL encoding or Unicode, so the request looks less suspicious.\", 'status': 'Stable'}> cve=<Node element_id='4:de342d72-e7ff-4d5b-9a28-99eaa381965b:9' labels=frozenset({'CVE'}) properties={'assigner': 'security@huntr.dev', 'id': 'CVE-2023-0028'}>>, <Record cwe=<Node element_id='4:de342d72-e7ff-4d5b-9a28-99eaa381965b:155' labels=frozenset({'CWE'}) properties={'weakness_abstraction': 'Base', 'cwe_id': '79', 'name': \"Improper Neutralization of Input During Web Page Generation ('Cross-site Scripting')\", 'description': 'The software does not neutralize or incorrectly neutralizes user-controllable input before it is placed in output that is used as a web page that is served to other users.', 'extended_description': \"Cross-site scripting (XSS) vulnerabilities occur when: 1. Untrusted data enters a web application, typically from a web request. 2. The web application dynamically generates a web page that contains this untrusted data. 3. During page generation, the application does not prevent the data from containing content that is executable by a web browser, such as JavaScript, HTML tags, HTML attributes, mouse events, Flash, ActiveX, etc. 4. A victim visits the generated web page through a web browser, which contains malicious script that was injected using the untrusted data. 5. Since the script comes from a web page that was sent by the web server, the victim's web browser executes the malicious script in the context of the web server's domain. 6. This effectively violates the intention of the web browser's same-origin policy, which states that scripts in one domain should not be able to access resources or run code in a different domain. There are three main kinds of XSS: Type 1: Reflected XSS (or Non-Persistent) - The server reads data directly from the HTTP request and reflects it back in the HTTP response. Reflected XSS exploits occur when an attacker causes a victim to supply dangerous content to a vulnerable web application, which is then reflected back to the victim and executed by the web browser. The most common mechanism for delivering malicious content is to include it as a parameter in a URL that is posted publicly or e-mailed directly to the victim. URLs constructed in this manner constitute the core of many phishing schemes, whereby an attacker convinces a victim to visit a URL that refers to a vulnerable site. After the site reflects the attacker's content back to the victim, the content is executed by the victim's browser. Type 2: Stored XSS (or Persistent) - The application stores dangerous data in a database, message forum, visitor log, or other trusted data store. At a later time, the dangerous data is subsequently read back into the application and included in dynamic content. From an attacker's perspective, the optimal place to inject malicious content is in an area that is displayed to either many users or particularly interesting users. Interesting users typically have elevated privileges in the application or interact with sensitive data that is valuable to the attacker. If one of these users executes malicious content, the attacker may be able to perform privileged operations on behalf of the user or gain access to sensitive data belonging to the user. For example, the attacker might inject XSS into a log message, which might not be handled properly when an administrator views the logs. Type 0: DOM-Based XSS - In DOM-based XSS, the client performs the injection of XSS into the page; in the other types, the server performs the injection. DOM-based XSS generally involves server-controlled, trusted script that is sent to the client, such as Javascript that performs sanity checks on a form before the user submits it. If the server-supplied script processes user-supplied data and then injects it back into the web page (such as with dynamic HTML), then DOM-based XSS is possible. Once the malicious script is injected, the attacker can perform a variety of malicious activities. The attacker could transfer private information, such as cookies that may include session information, from the victim's machine to the attacker. The attacker could send malicious requests to a web site on behalf of the victim, which could be especially dangerous to the site if the victim has administrator privileges to manage that site. Phishing attacks could be used to emulate trusted web sites and trick the victim into entering a password, allowing the attacker to compromise the victim's account on that web site. Finally, the script could exploit a vulnerability in the web browser itself possibly taking over the victim's machine, sometimes referred to as drive-by hacking. In many cases, the attack can be launched without the victim even being aware of it. Even with careful users, attackers frequently use a variety of methods to encode the malicious portion of the attack, such as URL encoding or Unicode, so the request looks less suspicious.\", 'status': 'Stable'}> cve=<Node element_id='4:de342d72-e7ff-4d5b-9a28-99eaa381965b:3' labels=frozenset({'CVE'}) properties={'assigner': 'cna@sap.com', 'id': 'CVE-2023-0015'}>>, <Record cwe=<Node element_id='4:de342d72-e7ff-4d5b-9a28-99eaa381965b:155' labels=frozenset({'CWE'}) properties={'weakness_abstraction': 'Base', 'cwe_id': '79', 'name': \"Improper Neutralization of Input During Web Page Generation ('Cross-site Scripting')\", 'description': 'The software does not neutralize or incorrectly neutralizes user-controllable input before it is placed in output that is used as a web page that is served to other users.', 'extended_description': \"Cross-site scripting (XSS) vulnerabilities occur when: 1. Untrusted data enters a web application, typically from a web request. 2. The web application dynamically generates a web page that contains this untrusted data. 3. During page generation, the application does not prevent the data from containing content that is executable by a web browser, such as JavaScript, HTML tags, HTML attributes, mouse events, Flash, ActiveX, etc. 4. A victim visits the generated web page through a web browser, which contains malicious script that was injected using the untrusted data. 5. Since the script comes from a web page that was sent by the web server, the victim's web browser executes the malicious script in the context of the web server's domain. 6. This effectively violates the intention of the web browser's same-origin policy, which states that scripts in one domain should not be able to access resources or run code in a different domain. There are three main kinds of XSS: Type 1: Reflected XSS (or Non-Persistent) - The server reads data directly from the HTTP request and reflects it back in the HTTP response. Reflected XSS exploits occur when an attacker causes a victim to supply dangerous content to a vulnerable web application, which is then reflected back to the victim and executed by the web browser. The most common mechanism for delivering malicious content is to include it as a parameter in a URL that is posted publicly or e-mailed directly to the victim. URLs constructed in this manner constitute the core of many phishing schemes, whereby an attacker convinces a victim to visit a URL that refers to a vulnerable site. After the site reflects the attacker's content back to the victim, the content is executed by the victim's browser. Type 2: Stored XSS (or Persistent) - The application stores dangerous data in a database, message forum, visitor log, or other trusted data store. At a later time, the dangerous data is subsequently read back into the application and included in dynamic content. From an attacker's perspective, the optimal place to inject malicious content is in an area that is displayed to either many users or particularly interesting users. Interesting users typically have elevated privileges in the application or interact with sensitive data that is valuable to the attacker. If one of these users executes malicious content, the attacker may be able to perform privileged operations on behalf of the user or gain access to sensitive data belonging to the user. For example, the attacker might inject XSS into a log message, which might not be handled properly when an administrator views the logs. Type 0: DOM-Based XSS - In DOM-based XSS, the client performs the injection of XSS into the page; in the other types, the server performs the injection. DOM-based XSS generally involves server-controlled, trusted script that is sent to the client, such as Javascript that performs sanity checks on a form before the user submits it. If the server-supplied script processes user-supplied data and then injects it back into the web page (such as with dynamic HTML), then DOM-based XSS is possible. Once the malicious script is injected, the attacker can perform a variety of malicious activities. The attacker could transfer private information, such as cookies that may include session information, from the victim's machine to the attacker. The attacker could send malicious requests to a web site on behalf of the victim, which could be especially dangerous to the site if the victim has administrator privileges to manage that site. Phishing attacks could be used to emulate trusted web sites and trick the victim into entering a password, allowing the attacker to compromise the victim's account on that web site. Finally, the script could exploit a vulnerability in the web browser itself possibly taking over the victim's machine, sometimes referred to as drive-by hacking. In many cases, the attack can be launched without the victim even being aware of it. Even with careful users, attackers frequently use a variety of methods to encode the malicious portion of the attack, such as URL encoding or Unicode, so the request looks less suspicious.\", 'status': 'Stable'}> cve=<Node element_id='4:de342d72-e7ff-4d5b-9a28-99eaa381965b:1' labels=frozenset({'CVE'}) properties={'assigner': 'cna@sap.com', 'id': 'CVE-2023-0013'}>>, <Record cwe=<Node element_id='4:de342d72-e7ff-4d5b-9a28-99eaa381965b:156' labels=frozenset({'CWE'}) properties={'weakness_abstraction': 'Base', 'cwe_id': '89', 'name': \"Improper Neutralization of Special Elements used in an SQL Command ('SQL Injection')\", 'description': 'The software constructs all or part of an SQL command using externally-influenced input from an upstream component, but it does not neutralize or incorrectly neutralizes special elements that could modify the intended SQL command when it is sent to a downstream component.', 'extended_description': 'Without sufficient removal or quoting of SQL syntax in user-controllable inputs, the generated SQL query can cause those inputs to be interpreted as SQL instead of ordinary user data. This can be used to alter query logic to bypass security checks, or to insert additional statements that modify the back-end database, possibly including execution of system commands. SQL injection has become a common issue with database-driven web sites. The flaw is easily detected, and easily exploited, and as such, any site or software package with even a minimal user base is likely to be subject to an attempted attack of this kind. This flaw depends on the fact that SQL makes no real distinction between the control and data planes.', 'status': 'Stable'}> cve=<Node element_id='4:de342d72-e7ff-4d5b-9a28-99eaa381965b:4' labels=frozenset({'CVE'}) properties={'assigner': 'cna@sap.com', 'id': 'CVE-2023-0016'}>>, <Record cwe=<Node element_id='4:de342d72-e7ff-4d5b-9a28-99eaa381965b:157' labels=frozenset({'CWE'}) properties={'weakness_abstraction': 'Base', 'cwe_id': '94', 'name': \"Improper Control of Generation of Code ('Code Injection')\", 'description': 'The software constructs all or part of a code segment using externally-influenced input from an upstream component, but it does not neutralize or incorrectly neutralizes special elements that could modify the syntax or behavior of the intended code segment.', 'extended_description': \"When software allows a user's input to contain code syntax, it might be possible for an attacker to craft the code in such a way that it will alter the intended control flow of the software. Such an alteration could lead to arbitrary code execution. Injection problems encompass a wide variety of issues -- all mitigated in very different ways. For this reason, the most effective way to discuss these weaknesses is to note the distinct features which classify them as injection weaknesses. The most important issue to note is that all injection problems share one thing in common -- i.e., they allow for the injection of control plane data into the user-controlled data plane. This means that the execution of the process may be altered by sending code in through legitimate data channels, using no other mechanism. While buffer overflows, and many other flaws, involve the use of some further issue to gain execution, injection problems need only for the data to be parsed. The most classic instantiations of this category of weakness are SQL injection and format string vulnerabilities.\", 'status': 'Draft'}> cve=<Node element_id='4:de342d72-e7ff-4d5b-9a28-99eaa381965b:7' labels=frozenset({'CVE'}) properties={'assigner': 'cna@sap.com', 'id': 'CVE-2023-0022'}>>, <Record cwe=<Node element_id='4:de342d72-e7ff-4d5b-9a28-99eaa381965b:158' labels=frozenset({'CWE'}) properties={'weakness_abstraction': 'Class', 'cwe_id': '200', 'name': 'Exposure of Sensitive Information to an Unauthorized Actor', 'description': 'The product exposes sensitive information to an actor that is not explicitly authorized to have access to that information.', 'extended_description': \"There are many different kinds of mistakes that introduce information exposures. The severity of the error can range widely, depending on the context in which the product operates, the type of sensitive information that is revealed, and the benefits it may provide to an attacker. Some kinds of sensitive information include: private, personal information, such as personal messages, financial data, health records, geographic location, or contact details system status and environment, such as the operating system and installed packages business secrets and intellectual property network status and configuration the product's own code or internal state metadata, e.g. logging of connections or message headers indirect information, such as a discrepancy between two internal operations that can be observed by an outsider Information might be sensitive to different parties, each of which may have their own expectations for whether the information should be protected. These parties include: the product's own users people or organizations whose information is created or used by the product, even if they are not direct product users the product's administrators, including the admins of the system(s) and/or networks on which the product operates the developer Information exposures can occur in different ways: the code explicitly inserts sensitive information into resources that are made accessible to unauthorized actors a different weakness or mistake inadvertently makes the sensitive information available, such as a web script error revealing the full system path of the program\", 'status': 'Draft'}> cve=<Node element_id='4:de342d72-e7ff-4d5b-9a28-99eaa381965b:8' labels=frozenset({'CVE'}) properties={'assigner': 'cna@sap.com', 'id': 'CVE-2023-0023'}>>, <Record cwe=<Node element_id='4:de342d72-e7ff-4d5b-9a28-99eaa381965b:159' labels=frozenset({'CWE'}) properties={'weakness_abstraction': 'Pillar', 'cwe_id': '284', 'name': 'Improper Access Control', 'description': 'The software does not restrict or incorrectly restricts access to a resource from an unauthorized actor.', 'extended_description': 'Access control involves the use of several protection mechanisms such as: Authentication (proving the identity of an actor) Authorization (ensuring that a given actor can access a resource), and Accountability (tracking of activities that were performed) When any mechanism is not applied or otherwise fails, attackers can compromise the security of the software by gaining privileges, reading sensitive information, executing commands, evading detection, etc. There are two distinct behaviors that can introduce access control weaknesses: Specification: incorrect privileges, permissions, ownership, etc. are explicitly specified for either the user or the resource (for example, setting a password file to be world-writable, or giving administrator capabilities to a guest user). This action could be performed by the program or the administrator. Enforcement: the mechanism contains errors that prevent it from properly enforcing the specified access control requirements (e.g., allowing the user to specify their own privileges, or allowing a syntactically-incorrect ACL to produce insecure settings). This problem occurs within the program itself, in that it does not actually enforce the intended security policy that the administrator specifies.', 'status': 'Incomplete'}> cve=<Node element_id='4:de342d72-e7ff-4d5b-9a28-99eaa381965b:0' labels=frozenset({'CVE'}) properties={'assigner': 'cna@sap.com', 'id': 'CVE-2023-0012'}>>, <Record cwe=<Node element_id='4:de342d72-e7ff-4d5b-9a28-99eaa381965b:159' labels=frozenset({'CWE'}) properties={'weakness_abstraction': 'Pillar', 'cwe_id': '284', 'name': 'Improper Access Control', 'description': 'The software does not restrict or incorrectly restricts access to a resource from an unauthorized actor.', 'extended_description': 'Access control involves the use of several protection mechanisms such as: Authentication (proving the identity of an actor) Authorization (ensuring that a given actor can access a resource), and Accountability (tracking of activities that were performed) When any mechanism is not applied or otherwise fails, attackers can compromise the security of the software by gaining privileges, reading sensitive information, executing commands, evading detection, etc. There are two distinct behaviors that can introduce access control weaknesses: Specification: incorrect privileges, permissions, ownership, etc. are explicitly specified for either the user or the resource (for example, setting a password file to be world-writable, or giving administrator capabilities to a guest user). This action could be performed by the program or the administrator. Enforcement: the mechanism contains errors that prevent it from properly enforcing the specified access control requirements (e.g., allowing the user to specify their own privileges, or allowing a syntactically-incorrect ACL to produce insecure settings). This problem occurs within the program itself, in that it does not actually enforce the intended security policy that the administrator specifies.', 'status': 'Incomplete'}> cve=<Node element_id='4:de342d72-e7ff-4d5b-9a28-99eaa381965b:5' labels=frozenset({'CVE'}) properties={'assigner': 'cna@sap.com', 'id': 'CVE-2023-0017'}>>, <Record cwe=<Node element_id='4:de342d72-e7ff-4d5b-9a28-99eaa381965b:160' labels=frozenset({'CWE'}) properties={'weakness_abstraction': 'Base', 'cwe_id': '294', 'name': 'Authentication Bypass by Capture-replay', 'description': 'A capture-replay flaw exists when the design of the software makes it possible for a malicious user to sniff network traffic and bypass authentication by replaying it to the server in question to the same effect as the original message (or with minor changes).', 'extended_description': 'Capture-replay attacks are common and can be difficult to defeat without cryptography. They are a subset of network injection attacks that rely on observing previously-sent valid commands, then changing them slightly if necessary and resending the same commands to the server.', 'status': 'Incomplete'}> cve=<Node element_id='4:de342d72-e7ff-4d5b-9a28-99eaa381965b:2' labels=frozenset({'CVE'}) properties={'assigner': 'cna@sap.com', 'id': 'CVE-2023-0014'}>>]\n"
          ]
        }
      ]
    },
    {
      "cell_type": "code",
      "source": [
        "# Q2 What are the vulnerabilities that can be exploited by attackers to perform attacks?\n",
        "\n",
        "explore_reviews_csv_query = \"\"\"\n",
        "MATCH (Entities)<-[:VULNERABLE_TO]-(cve)\n",
        "RETURN cve,Entities\n",
        "\n",
        "\"\"\"\n",
        "result = conn.query(explore_reviews_csv_query)\n",
        "print(result)"
      ],
      "metadata": {
        "id": "a7mmqpL3_zGz",
        "colab": {
          "base_uri": "https://localhost:8080/"
        },
        "outputId": "d5c715e1-8387-476d-a8d9-b1a52cea3d1d"
      },
      "execution_count": 350,
      "outputs": [
        {
          "output_type": "stream",
          "name": "stdout",
          "text": [
            "[<Record cve=<Node element_id='4:de342d72-e7ff-4d5b-9a28-99eaa381965b:225' labels=frozenset({'Entities'}) properties={'wikipediaExternalRef': 665909, 'wikidataId': 'Q245359', 'confidence_score': 0.3998, 'offsetStart': 116, 'offsetEnd': 125, 'rawName': 'injection'}> Entities=<Node element_id='4:de342d72-e7ff-4d5b-9a28-99eaa381965b:6' labels=frozenset({'CVE'}) properties={'assigner': 'cna@sap.com', 'id': 'CVE-2023-0018'}>>, <Record cve=<Node element_id='4:de342d72-e7ff-4d5b-9a28-99eaa381965b:225' labels=frozenset({'Entities'}) properties={'wikipediaExternalRef': 665909, 'wikidataId': 'Q245359', 'confidence_score': 0.3998, 'offsetStart': 116, 'offsetEnd': 125, 'rawName': 'injection'}> Entities=<Node element_id='4:de342d72-e7ff-4d5b-9a28-99eaa381965b:9' labels=frozenset({'CVE'}) properties={'assigner': 'security@huntr.dev', 'id': 'CVE-2023-0028'}>>, <Record cve=<Node element_id='4:de342d72-e7ff-4d5b-9a28-99eaa381965b:225' labels=frozenset({'Entities'}) properties={'wikipediaExternalRef': 665909, 'wikidataId': 'Q245359', 'confidence_score': 0.3998, 'offsetStart': 116, 'offsetEnd': 125, 'rawName': 'injection'}> Entities=<Node element_id='4:de342d72-e7ff-4d5b-9a28-99eaa381965b:3' labels=frozenset({'CVE'}) properties={'assigner': 'cna@sap.com', 'id': 'CVE-2023-0015'}>>, <Record cve=<Node element_id='4:de342d72-e7ff-4d5b-9a28-99eaa381965b:225' labels=frozenset({'Entities'}) properties={'wikipediaExternalRef': 665909, 'wikidataId': 'Q245359', 'confidence_score': 0.3998, 'offsetStart': 116, 'offsetEnd': 125, 'rawName': 'injection'}> Entities=<Node element_id='4:de342d72-e7ff-4d5b-9a28-99eaa381965b:1' labels=frozenset({'CVE'}) properties={'assigner': 'cna@sap.com', 'id': 'CVE-2023-0013'}>>, <Record cve=<Node element_id='4:de342d72-e7ff-4d5b-9a28-99eaa381965b:225' labels=frozenset({'Entities'}) properties={'wikipediaExternalRef': 665909, 'wikidataId': 'Q245359', 'confidence_score': 0.3998, 'offsetStart': 116, 'offsetEnd': 125, 'rawName': 'injection'}> Entities=<Node element_id='4:de342d72-e7ff-4d5b-9a28-99eaa381965b:7' labels=frozenset({'CVE'}) properties={'assigner': 'cna@sap.com', 'id': 'CVE-2023-0022'}>>, <Record cve=<Node element_id='4:de342d72-e7ff-4d5b-9a28-99eaa381965b:272' labels=frozenset({'Entities'}) properties={'wikipediaExternalRef': 665909, 'wikidataId': 'Q245359', 'confidence_score': 0.3998, 'offsetStart': 250, 'offsetEnd': 259, 'rawName': 'Injection'}> Entities=<Node element_id='4:de342d72-e7ff-4d5b-9a28-99eaa381965b:7' labels=frozenset({'CVE'}) properties={'assigner': 'cna@sap.com', 'id': 'CVE-2023-0022'}>>, <Record cve=<Node element_id='4:de342d72-e7ff-4d5b-9a28-99eaa381965b:225' labels=frozenset({'Entities'}) properties={'wikipediaExternalRef': 665909, 'wikidataId': 'Q245359', 'confidence_score': 0.3998, 'offsetStart': 116, 'offsetEnd': 125, 'rawName': 'injection'}> Entities=<Node element_id='4:de342d72-e7ff-4d5b-9a28-99eaa381965b:2' labels=frozenset({'CVE'}) properties={'assigner': 'cna@sap.com', 'id': 'CVE-2023-0014'}>>, <Record cve=<Node element_id='4:de342d72-e7ff-4d5b-9a28-99eaa381965b:216' labels=frozenset({'Entities'}) properties={'wikipediaExternalRef': 5316476, 'wikidataId': 'Q2587068', 'confidence_score': 0.4691, 'offsetStart': 2476, 'offsetEnd': 2490, 'rawName': 'sensitive data'}> Entities=<Node element_id='4:de342d72-e7ff-4d5b-9a28-99eaa381965b:6' labels=frozenset({'CVE'}) properties={'assigner': 'cna@sap.com', 'id': 'CVE-2023-0018'}>>, <Record cve=<Node element_id='4:de342d72-e7ff-4d5b-9a28-99eaa381965b:216' labels=frozenset({'Entities'}) properties={'wikipediaExternalRef': 5316476, 'wikidataId': 'Q2587068', 'confidence_score': 0.4691, 'offsetStart': 2476, 'offsetEnd': 2490, 'rawName': 'sensitive data'}> Entities=<Node element_id='4:de342d72-e7ff-4d5b-9a28-99eaa381965b:9' labels=frozenset({'CVE'}) properties={'assigner': 'security@huntr.dev', 'id': 'CVE-2023-0028'}>>, <Record cve=<Node element_id='4:de342d72-e7ff-4d5b-9a28-99eaa381965b:216' labels=frozenset({'Entities'}) properties={'wikipediaExternalRef': 5316476, 'wikidataId': 'Q2587068', 'confidence_score': 0.4691, 'offsetStart': 2476, 'offsetEnd': 2490, 'rawName': 'sensitive data'}> Entities=<Node element_id='4:de342d72-e7ff-4d5b-9a28-99eaa381965b:3' labels=frozenset({'CVE'}) properties={'assigner': 'cna@sap.com', 'id': 'CVE-2023-0015'}>>, <Record cve=<Node element_id='4:de342d72-e7ff-4d5b-9a28-99eaa381965b:216' labels=frozenset({'Entities'}) properties={'wikipediaExternalRef': 5316476, 'wikidataId': 'Q2587068', 'confidence_score': 0.4691, 'offsetStart': 2476, 'offsetEnd': 2490, 'rawName': 'sensitive data'}> Entities=<Node element_id='4:de342d72-e7ff-4d5b-9a28-99eaa381965b:1' labels=frozenset({'CVE'}) properties={'assigner': 'cna@sap.com', 'id': 'CVE-2023-0013'}>>, <Record cve=<Node element_id='4:de342d72-e7ff-4d5b-9a28-99eaa381965b:287' labels=frozenset({'Entities'}) properties={'wikipediaExternalRef': 5316476, 'wikidataId': 'Q2587068', 'confidence_score': 0.4076, 'offsetStart': 394, 'offsetEnd': 415, 'rawName': 'sensitive information'}> Entities=<Node element_id='4:de342d72-e7ff-4d5b-9a28-99eaa381965b:8' labels=frozenset({'CVE'}) properties={'assigner': 'cna@sap.com', 'id': 'CVE-2023-0023'}>>, <Record cve=<Node element_id='4:de342d72-e7ff-4d5b-9a28-99eaa381965b:287' labels=frozenset({'Entities'}) properties={'wikipediaExternalRef': 5316476, 'wikidataId': 'Q2587068', 'confidence_score': 0.4076, 'offsetStart': 394, 'offsetEnd': 415, 'rawName': 'sensitive information'}> Entities=<Node element_id='4:de342d72-e7ff-4d5b-9a28-99eaa381965b:0' labels=frozenset({'CVE'}) properties={'assigner': 'cna@sap.com', 'id': 'CVE-2023-0012'}>>, <Record cve=<Node element_id='4:de342d72-e7ff-4d5b-9a28-99eaa381965b:287' labels=frozenset({'Entities'}) properties={'wikipediaExternalRef': 5316476, 'wikidataId': 'Q2587068', 'confidence_score': 0.4076, 'offsetStart': 394, 'offsetEnd': 415, 'rawName': 'sensitive information'}> Entities=<Node element_id='4:de342d72-e7ff-4d5b-9a28-99eaa381965b:5' labels=frozenset({'CVE'}) properties={'assigner': 'cna@sap.com', 'id': 'CVE-2023-0017'}>>, <Record cve=<Node element_id='4:de342d72-e7ff-4d5b-9a28-99eaa381965b:322' labels=frozenset({'Entities'}) properties={'wikipediaExternalRef': 40684, 'wikidataId': 'Q228502', 'confidence_score': 0.4556, 'offsetStart': 947, 'offsetEnd': 961, 'rawName': 'access control'}> Entities=<Node element_id='4:de342d72-e7ff-4d5b-9a28-99eaa381965b:0' labels=frozenset({'CVE'}) properties={'assigner': 'cna@sap.com', 'id': 'CVE-2023-0012'}>>, <Record cve=<Node element_id='4:de342d72-e7ff-4d5b-9a28-99eaa381965b:314' labels=frozenset({'Entities'}) properties={'wikipediaExternalRef': 40684, 'wikidataId': 'Q228502', 'confidence_score': 0.6394, 'offsetStart': 0, 'offsetEnd': 14, 'rawName': 'Access control'}> Entities=<Node element_id='4:de342d72-e7ff-4d5b-9a28-99eaa381965b:0' labels=frozenset({'CVE'}) properties={'assigner': 'cna@sap.com', 'id': 'CVE-2023-0012'}>>, <Record cve=<Node element_id='4:de342d72-e7ff-4d5b-9a28-99eaa381965b:322' labels=frozenset({'Entities'}) properties={'wikipediaExternalRef': 40684, 'wikidataId': 'Q228502', 'confidence_score': 0.4556, 'offsetStart': 947, 'offsetEnd': 961, 'rawName': 'access control'}> Entities=<Node element_id='4:de342d72-e7ff-4d5b-9a28-99eaa381965b:5' labels=frozenset({'CVE'}) properties={'assigner': 'cna@sap.com', 'id': 'CVE-2023-0017'}>>, <Record cve=<Node element_id='4:de342d72-e7ff-4d5b-9a28-99eaa381965b:314' labels=frozenset({'Entities'}) properties={'wikipediaExternalRef': 40684, 'wikidataId': 'Q228502', 'confidence_score': 0.6394, 'offsetStart': 0, 'offsetEnd': 14, 'rawName': 'Access control'}> Entities=<Node element_id='4:de342d72-e7ff-4d5b-9a28-99eaa381965b:5' labels=frozenset({'CVE'}) properties={'assigner': 'cna@sap.com', 'id': 'CVE-2023-0017'}>>, <Record cve=<Node element_id='4:de342d72-e7ff-4d5b-9a28-99eaa381965b:167' labels=frozenset({'Entities'}) properties={'wikipediaExternalRef': 241154, 'wikidataId': 'Q371199', 'confidence_score': 0.719, 'offsetStart': 0, 'offsetEnd': 20, 'rawName': 'Cross-site scripting'}> Entities=<Node element_id='4:de342d72-e7ff-4d5b-9a28-99eaa381965b:6' labels=frozenset({'CVE'}) properties={'assigner': 'cna@sap.com', 'id': 'CVE-2023-0018'}>>, <Record cve=<Node element_id='4:de342d72-e7ff-4d5b-9a28-99eaa381965b:168' labels=frozenset({'Entities'}) properties={'wikipediaExternalRef': 241154, 'wikidataId': 'Q371199', 'confidence_score': 0.8255, 'offsetStart': 3130, 'offsetEnd': 3133, 'rawName': 'XSS'}> Entities=<Node element_id='4:de342d72-e7ff-4d5b-9a28-99eaa381965b:6' labels=frozenset({'CVE'}) properties={'assigner': 'cna@sap.com', 'id': 'CVE-2023-0018'}>>, <Record cve=<Node element_id='4:de342d72-e7ff-4d5b-9a28-99eaa381965b:195' labels=frozenset({'Entities'}) properties={'wikipediaExternalRef': 241154, 'wikidataId': 'Q371199', 'confidence_score': 0.5158, 'offsetStart': 1120, 'offsetEnd': 1133, 'rawName': 'Reflected XSS'}> Entities=<Node element_id='4:de342d72-e7ff-4d5b-9a28-99eaa381965b:6' labels=frozenset({'CVE'}) properties={'assigner': 'cna@sap.com', 'id': 'CVE-2023-0018'}>>, <Record cve=<Node element_id='4:de342d72-e7ff-4d5b-9a28-99eaa381965b:208' labels=frozenset({'Entities'}) properties={'wikipediaExternalRef': 241154, 'wikidataId': 'Q371199', 'confidence_score': 0.5158, 'offsetStart': 1769, 'offsetEnd': 1779, 'rawName': 'Stored XSS'}> Entities=<Node element_id='4:de342d72-e7ff-4d5b-9a28-99eaa381965b:6' labels=frozenset({'CVE'}) properties={'assigner': 'cna@sap.com', 'id': 'CVE-2023-0018'}>>, <Record cve=<Node element_id='4:de342d72-e7ff-4d5b-9a28-99eaa381965b:167' labels=frozenset({'Entities'}) properties={'wikipediaExternalRef': 241154, 'wikidataId': 'Q371199', 'confidence_score': 0.719, 'offsetStart': 0, 'offsetEnd': 20, 'rawName': 'Cross-site scripting'}> Entities=<Node element_id='4:de342d72-e7ff-4d5b-9a28-99eaa381965b:9' labels=frozenset({'CVE'}) properties={'assigner': 'security@huntr.dev', 'id': 'CVE-2023-0028'}>>, <Record cve=<Node element_id='4:de342d72-e7ff-4d5b-9a28-99eaa381965b:168' labels=frozenset({'Entities'}) properties={'wikipediaExternalRef': 241154, 'wikidataId': 'Q371199', 'confidence_score': 0.8255, 'offsetStart': 3130, 'offsetEnd': 3133, 'rawName': 'XSS'}> Entities=<Node element_id='4:de342d72-e7ff-4d5b-9a28-99eaa381965b:9' labels=frozenset({'CVE'}) properties={'assigner': 'security@huntr.dev', 'id': 'CVE-2023-0028'}>>, <Record cve=<Node element_id='4:de342d72-e7ff-4d5b-9a28-99eaa381965b:195' labels=frozenset({'Entities'}) properties={'wikipediaExternalRef': 241154, 'wikidataId': 'Q371199', 'confidence_score': 0.5158, 'offsetStart': 1120, 'offsetEnd': 1133, 'rawName': 'Reflected XSS'}> Entities=<Node element_id='4:de342d72-e7ff-4d5b-9a28-99eaa381965b:9' labels=frozenset({'CVE'}) properties={'assigner': 'security@huntr.dev', 'id': 'CVE-2023-0028'}>>, <Record cve=<Node element_id='4:de342d72-e7ff-4d5b-9a28-99eaa381965b:208' labels=frozenset({'Entities'}) properties={'wikipediaExternalRef': 241154, 'wikidataId': 'Q371199', 'confidence_score': 0.5158, 'offsetStart': 1769, 'offsetEnd': 1779, 'rawName': 'Stored XSS'}> Entities=<Node element_id='4:de342d72-e7ff-4d5b-9a28-99eaa381965b:9' labels=frozenset({'CVE'}) properties={'assigner': 'security@huntr.dev', 'id': 'CVE-2023-0028'}>>, <Record cve=<Node element_id='4:de342d72-e7ff-4d5b-9a28-99eaa381965b:167' labels=frozenset({'Entities'}) properties={'wikipediaExternalRef': 241154, 'wikidataId': 'Q371199', 'confidence_score': 0.719, 'offsetStart': 0, 'offsetEnd': 20, 'rawName': 'Cross-site scripting'}> Entities=<Node element_id='4:de342d72-e7ff-4d5b-9a28-99eaa381965b:3' labels=frozenset({'CVE'}) properties={'assigner': 'cna@sap.com', 'id': 'CVE-2023-0015'}>>, <Record cve=<Node element_id='4:de342d72-e7ff-4d5b-9a28-99eaa381965b:168' labels=frozenset({'Entities'}) properties={'wikipediaExternalRef': 241154, 'wikidataId': 'Q371199', 'confidence_score': 0.8255, 'offsetStart': 3130, 'offsetEnd': 3133, 'rawName': 'XSS'}> Entities=<Node element_id='4:de342d72-e7ff-4d5b-9a28-99eaa381965b:3' labels=frozenset({'CVE'}) properties={'assigner': 'cna@sap.com', 'id': 'CVE-2023-0015'}>>, <Record cve=<Node element_id='4:de342d72-e7ff-4d5b-9a28-99eaa381965b:195' labels=frozenset({'Entities'}) properties={'wikipediaExternalRef': 241154, 'wikidataId': 'Q371199', 'confidence_score': 0.5158, 'offsetStart': 1120, 'offsetEnd': 1133, 'rawName': 'Reflected XSS'}> Entities=<Node element_id='4:de342d72-e7ff-4d5b-9a28-99eaa381965b:3' labels=frozenset({'CVE'}) properties={'assigner': 'cna@sap.com', 'id': 'CVE-2023-0015'}>>, <Record cve=<Node element_id='4:de342d72-e7ff-4d5b-9a28-99eaa381965b:208' labels=frozenset({'Entities'}) properties={'wikipediaExternalRef': 241154, 'wikidataId': 'Q371199', 'confidence_score': 0.5158, 'offsetStart': 1769, 'offsetEnd': 1779, 'rawName': 'Stored XSS'}> Entities=<Node element_id='4:de342d72-e7ff-4d5b-9a28-99eaa381965b:3' labels=frozenset({'CVE'}) properties={'assigner': 'cna@sap.com', 'id': 'CVE-2023-0015'}>>, <Record cve=<Node element_id='4:de342d72-e7ff-4d5b-9a28-99eaa381965b:167' labels=frozenset({'Entities'}) properties={'wikipediaExternalRef': 241154, 'wikidataId': 'Q371199', 'confidence_score': 0.719, 'offsetStart': 0, 'offsetEnd': 20, 'rawName': 'Cross-site scripting'}> Entities=<Node element_id='4:de342d72-e7ff-4d5b-9a28-99eaa381965b:1' labels=frozenset({'CVE'}) properties={'assigner': 'cna@sap.com', 'id': 'CVE-2023-0013'}>>, <Record cve=<Node element_id='4:de342d72-e7ff-4d5b-9a28-99eaa381965b:168' labels=frozenset({'Entities'}) properties={'wikipediaExternalRef': 241154, 'wikidataId': 'Q371199', 'confidence_score': 0.8255, 'offsetStart': 3130, 'offsetEnd': 3133, 'rawName': 'XSS'}> Entities=<Node element_id='4:de342d72-e7ff-4d5b-9a28-99eaa381965b:1' labels=frozenset({'CVE'}) properties={'assigner': 'cna@sap.com', 'id': 'CVE-2023-0013'}>>, <Record cve=<Node element_id='4:de342d72-e7ff-4d5b-9a28-99eaa381965b:195' labels=frozenset({'Entities'}) properties={'wikipediaExternalRef': 241154, 'wikidataId': 'Q371199', 'confidence_score': 0.5158, 'offsetStart': 1120, 'offsetEnd': 1133, 'rawName': 'Reflected XSS'}> Entities=<Node element_id='4:de342d72-e7ff-4d5b-9a28-99eaa381965b:1' labels=frozenset({'CVE'}) properties={'assigner': 'cna@sap.com', 'id': 'CVE-2023-0013'}>>, <Record cve=<Node element_id='4:de342d72-e7ff-4d5b-9a28-99eaa381965b:208' labels=frozenset({'Entities'}) properties={'wikipediaExternalRef': 241154, 'wikidataId': 'Q371199', 'confidence_score': 0.5158, 'offsetStart': 1769, 'offsetEnd': 1779, 'rawName': 'Stored XSS'}> Entities=<Node element_id='4:de342d72-e7ff-4d5b-9a28-99eaa381965b:1' labels=frozenset({'CVE'}) properties={'assigner': 'cna@sap.com', 'id': 'CVE-2023-0013'}>>, <Record cve=<Node element_id='4:de342d72-e7ff-4d5b-9a28-99eaa381965b:239' labels=frozenset({'Entities'}) properties={'wikipediaExternalRef': 1129827, 'wikidataId': 'Q631425', 'confidence_score': 0.5174, 'offsetStart': 3804, 'offsetEnd': 3817, 'rawName': 'vulnerability'}> Entities=<Node element_id='4:de342d72-e7ff-4d5b-9a28-99eaa381965b:6' labels=frozenset({'CVE'}) properties={'assigner': 'cna@sap.com', 'id': 'CVE-2023-0018'}>>, <Record cve=<Node element_id='4:de342d72-e7ff-4d5b-9a28-99eaa381965b:169' labels=frozenset({'Entities'}) properties={'wikipediaExternalRef': 1129827, 'wikidataId': 'Q631425', 'confidence_score': 0.566, 'offsetStart': 27, 'offsetEnd': 42, 'rawName': 'vulnerabilities'}> Entities=<Node element_id='4:de342d72-e7ff-4d5b-9a28-99eaa381965b:6' labels=frozenset({'CVE'}) properties={'assigner': 'cna@sap.com', 'id': 'CVE-2023-0018'}>>, <Record cve=<Node element_id='4:de342d72-e7ff-4d5b-9a28-99eaa381965b:239' labels=frozenset({'Entities'}) properties={'wikipediaExternalRef': 1129827, 'wikidataId': 'Q631425', 'confidence_score': 0.5174, 'offsetStart': 3804, 'offsetEnd': 3817, 'rawName': 'vulnerability'}> Entities=<Node element_id='4:de342d72-e7ff-4d5b-9a28-99eaa381965b:9' labels=frozenset({'CVE'}) properties={'assigner': 'security@huntr.dev', 'id': 'CVE-2023-0028'}>>, <Record cve=<Node element_id='4:de342d72-e7ff-4d5b-9a28-99eaa381965b:169' labels=frozenset({'Entities'}) properties={'wikipediaExternalRef': 1129827, 'wikidataId': 'Q631425', 'confidence_score': 0.566, 'offsetStart': 27, 'offsetEnd': 42, 'rawName': 'vulnerabilities'}> Entities=<Node element_id='4:de342d72-e7ff-4d5b-9a28-99eaa381965b:9' labels=frozenset({'CVE'}) properties={'assigner': 'security@huntr.dev', 'id': 'CVE-2023-0028'}>>, <Record cve=<Node element_id='4:de342d72-e7ff-4d5b-9a28-99eaa381965b:239' labels=frozenset({'Entities'}) properties={'wikipediaExternalRef': 1129827, 'wikidataId': 'Q631425', 'confidence_score': 0.5174, 'offsetStart': 3804, 'offsetEnd': 3817, 'rawName': 'vulnerability'}> Entities=<Node element_id='4:de342d72-e7ff-4d5b-9a28-99eaa381965b:3' labels=frozenset({'CVE'}) properties={'assigner': 'cna@sap.com', 'id': 'CVE-2023-0015'}>>, <Record cve=<Node element_id='4:de342d72-e7ff-4d5b-9a28-99eaa381965b:169' labels=frozenset({'Entities'}) properties={'wikipediaExternalRef': 1129827, 'wikidataId': 'Q631425', 'confidence_score': 0.566, 'offsetStart': 27, 'offsetEnd': 42, 'rawName': 'vulnerabilities'}> Entities=<Node element_id='4:de342d72-e7ff-4d5b-9a28-99eaa381965b:3' labels=frozenset({'CVE'}) properties={'assigner': 'cna@sap.com', 'id': 'CVE-2023-0015'}>>, <Record cve=<Node element_id='4:de342d72-e7ff-4d5b-9a28-99eaa381965b:239' labels=frozenset({'Entities'}) properties={'wikipediaExternalRef': 1129827, 'wikidataId': 'Q631425', 'confidence_score': 0.5174, 'offsetStart': 3804, 'offsetEnd': 3817, 'rawName': 'vulnerability'}> Entities=<Node element_id='4:de342d72-e7ff-4d5b-9a28-99eaa381965b:1' labels=frozenset({'CVE'}) properties={'assigner': 'cna@sap.com', 'id': 'CVE-2023-0013'}>>, <Record cve=<Node element_id='4:de342d72-e7ff-4d5b-9a28-99eaa381965b:169' labels=frozenset({'Entities'}) properties={'wikipediaExternalRef': 1129827, 'wikidataId': 'Q631425', 'confidence_score': 0.566, 'offsetStart': 27, 'offsetEnd': 42, 'rawName': 'vulnerabilities'}> Entities=<Node element_id='4:de342d72-e7ff-4d5b-9a28-99eaa381965b:1' labels=frozenset({'CVE'}) properties={'assigner': 'cna@sap.com', 'id': 'CVE-2023-0013'}>>, <Record cve=<Node element_id='4:de342d72-e7ff-4d5b-9a28-99eaa381965b:177' labels=frozenset({'Entities'}) properties={'wikipediaExternalRef': 34973773, 'wikidataId': 'Q4976859', 'confidence_score': 0.5761, 'offsetStart': 558, 'offsetEnd': 567, 'rawName': 'untrusted'}> Entities=<Node element_id='4:de342d72-e7ff-4d5b-9a28-99eaa381965b:6' labels=frozenset({'CVE'}) properties={'assigner': 'cna@sap.com', 'id': 'CVE-2023-0018'}>>, <Record cve=<Node element_id='4:de342d72-e7ff-4d5b-9a28-99eaa381965b:170' labels=frozenset({'Entities'}) properties={'wikipediaExternalRef': 34973773, 'wikidataId': 'Q4976859', 'confidence_score': 0.5761, 'offsetStart': 58, 'offsetEnd': 67, 'rawName': 'Untrusted'}> Entities=<Node element_id='4:de342d72-e7ff-4d5b-9a28-99eaa381965b:6' labels=frozenset({'CVE'}) properties={'assigner': 'cna@sap.com', 'id': 'CVE-2023-0018'}>>, <Record cve=<Node element_id='4:de342d72-e7ff-4d5b-9a28-99eaa381965b:177' labels=frozenset({'Entities'}) properties={'wikipediaExternalRef': 34973773, 'wikidataId': 'Q4976859', 'confidence_score': 0.5761, 'offsetStart': 558, 'offsetEnd': 567, 'rawName': 'untrusted'}> Entities=<Node element_id='4:de342d72-e7ff-4d5b-9a28-99eaa381965b:9' labels=frozenset({'CVE'}) properties={'assigner': 'security@huntr.dev', 'id': 'CVE-2023-0028'}>>, <Record cve=<Node element_id='4:de342d72-e7ff-4d5b-9a28-99eaa381965b:170' labels=frozenset({'Entities'}) properties={'wikipediaExternalRef': 34973773, 'wikidataId': 'Q4976859', 'confidence_score': 0.5761, 'offsetStart': 58, 'offsetEnd': 67, 'rawName': 'Untrusted'}> Entities=<Node element_id='4:de342d72-e7ff-4d5b-9a28-99eaa381965b:9' labels=frozenset({'CVE'}) properties={'assigner': 'security@huntr.dev', 'id': 'CVE-2023-0028'}>>, <Record cve=<Node element_id='4:de342d72-e7ff-4d5b-9a28-99eaa381965b:177' labels=frozenset({'Entities'}) properties={'wikipediaExternalRef': 34973773, 'wikidataId': 'Q4976859', 'confidence_score': 0.5761, 'offsetStart': 558, 'offsetEnd': 567, 'rawName': 'untrusted'}> Entities=<Node element_id='4:de342d72-e7ff-4d5b-9a28-99eaa381965b:3' labels=frozenset({'CVE'}) properties={'assigner': 'cna@sap.com', 'id': 'CVE-2023-0015'}>>, <Record cve=<Node element_id='4:de342d72-e7ff-4d5b-9a28-99eaa381965b:170' labels=frozenset({'Entities'}) properties={'wikipediaExternalRef': 34973773, 'wikidataId': 'Q4976859', 'confidence_score': 0.5761, 'offsetStart': 58, 'offsetEnd': 67, 'rawName': 'Untrusted'}> Entities=<Node element_id='4:de342d72-e7ff-4d5b-9a28-99eaa381965b:3' labels=frozenset({'CVE'}) properties={'assigner': 'cna@sap.com', 'id': 'CVE-2023-0015'}>>, <Record cve=<Node element_id='4:de342d72-e7ff-4d5b-9a28-99eaa381965b:177' labels=frozenset({'Entities'}) properties={'wikipediaExternalRef': 34973773, 'wikidataId': 'Q4976859', 'confidence_score': 0.5761, 'offsetStart': 558, 'offsetEnd': 567, 'rawName': 'untrusted'}> Entities=<Node element_id='4:de342d72-e7ff-4d5b-9a28-99eaa381965b:1' labels=frozenset({'CVE'}) properties={'assigner': 'cna@sap.com', 'id': 'CVE-2023-0013'}>>, <Record cve=<Node element_id='4:de342d72-e7ff-4d5b-9a28-99eaa381965b:170' labels=frozenset({'Entities'}) properties={'wikipediaExternalRef': 34973773, 'wikidataId': 'Q4976859', 'confidence_score': 0.5761, 'offsetStart': 58, 'offsetEnd': 67, 'rawName': 'Untrusted'}> Entities=<Node element_id='4:de342d72-e7ff-4d5b-9a28-99eaa381965b:1' labels=frozenset({'CVE'}) properties={'assigner': 'cna@sap.com', 'id': 'CVE-2023-0013'}>>, <Record cve=<Node element_id='4:de342d72-e7ff-4d5b-9a28-99eaa381965b:173' labels=frozenset({'Entities'}) properties={'wikipediaExternalRef': 13443, 'wikidataId': 'Q8777', 'confidence_score': 0.6576, 'offsetStart': 116, 'offsetEnd': 127, 'rawName': 'web request'}> Entities=<Node element_id='4:de342d72-e7ff-4d5b-9a28-99eaa381965b:6' labels=frozenset({'CVE'}) properties={'assigner': 'cna@sap.com', 'id': 'CVE-2023-0018'}>>, <Record cve=<Node element_id='4:de342d72-e7ff-4d5b-9a28-99eaa381965b:197' labels=frozenset({'Entities'}) properties={'wikipediaExternalRef': 13443, 'wikidataId': 'Q8777', 'confidence_score': 0.8153, 'offsetStart': 1064, 'offsetEnd': 1076, 'rawName': 'HTTP request'}> Entities=<Node element_id='4:de342d72-e7ff-4d5b-9a28-99eaa381965b:6' labels=frozenset({'CVE'}) properties={'assigner': 'cna@sap.com', 'id': 'CVE-2023-0018'}>>, <Record cve=<Node element_id='4:de342d72-e7ff-4d5b-9a28-99eaa381965b:198' labels=frozenset({'Entities'}) properties={'wikipediaExternalRef': 13443, 'wikidataId': 'Q8777', 'confidence_score': 0.5927, 'offsetStart': 1105, 'offsetEnd': 1118, 'rawName': 'HTTP response'}> Entities=<Node element_id='4:de342d72-e7ff-4d5b-9a28-99eaa381965b:6' labels=frozenset({'CVE'}) properties={'assigner': 'cna@sap.com', 'id': 'CVE-2023-0018'}>>, <Record cve=<Node element_id='4:de342d72-e7ff-4d5b-9a28-99eaa381965b:173' labels=frozenset({'Entities'}) properties={'wikipediaExternalRef': 13443, 'wikidataId': 'Q8777', 'confidence_score': 0.6576, 'offsetStart': 116, 'offsetEnd': 127, 'rawName': 'web request'}> Entities=<Node element_id='4:de342d72-e7ff-4d5b-9a28-99eaa381965b:9' labels=frozenset({'CVE'}) properties={'assigner': 'security@huntr.dev', 'id': 'CVE-2023-0028'}>>, <Record cve=<Node element_id='4:de342d72-e7ff-4d5b-9a28-99eaa381965b:197' labels=frozenset({'Entities'}) properties={'wikipediaExternalRef': 13443, 'wikidataId': 'Q8777', 'confidence_score': 0.8153, 'offsetStart': 1064, 'offsetEnd': 1076, 'rawName': 'HTTP request'}> Entities=<Node element_id='4:de342d72-e7ff-4d5b-9a28-99eaa381965b:9' labels=frozenset({'CVE'}) properties={'assigner': 'security@huntr.dev', 'id': 'CVE-2023-0028'}>>, <Record cve=<Node element_id='4:de342d72-e7ff-4d5b-9a28-99eaa381965b:198' labels=frozenset({'Entities'}) properties={'wikipediaExternalRef': 13443, 'wikidataId': 'Q8777', 'confidence_score': 0.5927, 'offsetStart': 1105, 'offsetEnd': 1118, 'rawName': 'HTTP response'}> Entities=<Node element_id='4:de342d72-e7ff-4d5b-9a28-99eaa381965b:9' labels=frozenset({'CVE'}) properties={'assigner': 'security@huntr.dev', 'id': 'CVE-2023-0028'}>>, <Record cve=<Node element_id='4:de342d72-e7ff-4d5b-9a28-99eaa381965b:173' labels=frozenset({'Entities'}) properties={'wikipediaExternalRef': 13443, 'wikidataId': 'Q8777', 'confidence_score': 0.6576, 'offsetStart': 116, 'offsetEnd': 127, 'rawName': 'web request'}> Entities=<Node element_id='4:de342d72-e7ff-4d5b-9a28-99eaa381965b:3' labels=frozenset({'CVE'}) properties={'assigner': 'cna@sap.com', 'id': 'CVE-2023-0015'}>>, <Record cve=<Node element_id='4:de342d72-e7ff-4d5b-9a28-99eaa381965b:197' labels=frozenset({'Entities'}) properties={'wikipediaExternalRef': 13443, 'wikidataId': 'Q8777', 'confidence_score': 0.8153, 'offsetStart': 1064, 'offsetEnd': 1076, 'rawName': 'HTTP request'}> Entities=<Node element_id='4:de342d72-e7ff-4d5b-9a28-99eaa381965b:3' labels=frozenset({'CVE'}) properties={'assigner': 'cna@sap.com', 'id': 'CVE-2023-0015'}>>, <Record cve=<Node element_id='4:de342d72-e7ff-4d5b-9a28-99eaa381965b:198' labels=frozenset({'Entities'}) properties={'wikipediaExternalRef': 13443, 'wikidataId': 'Q8777', 'confidence_score': 0.5927, 'offsetStart': 1105, 'offsetEnd': 1118, 'rawName': 'HTTP response'}> Entities=<Node element_id='4:de342d72-e7ff-4d5b-9a28-99eaa381965b:3' labels=frozenset({'CVE'}) properties={'assigner': 'cna@sap.com', 'id': 'CVE-2023-0015'}>>, <Record cve=<Node element_id='4:de342d72-e7ff-4d5b-9a28-99eaa381965b:173' labels=frozenset({'Entities'}) properties={'wikipediaExternalRef': 13443, 'wikidataId': 'Q8777', 'confidence_score': 0.6576, 'offsetStart': 116, 'offsetEnd': 127, 'rawName': 'web request'}> Entities=<Node element_id='4:de342d72-e7ff-4d5b-9a28-99eaa381965b:1' labels=frozenset({'CVE'}) properties={'assigner': 'cna@sap.com', 'id': 'CVE-2023-0013'}>>, <Record cve=<Node element_id='4:de342d72-e7ff-4d5b-9a28-99eaa381965b:197' labels=frozenset({'Entities'}) properties={'wikipediaExternalRef': 13443, 'wikidataId': 'Q8777', 'confidence_score': 0.8153, 'offsetStart': 1064, 'offsetEnd': 1076, 'rawName': 'HTTP request'}> Entities=<Node element_id='4:de342d72-e7ff-4d5b-9a28-99eaa381965b:1' labels=frozenset({'CVE'}) properties={'assigner': 'cna@sap.com', 'id': 'CVE-2023-0013'}>>, <Record cve=<Node element_id='4:de342d72-e7ff-4d5b-9a28-99eaa381965b:198' labels=frozenset({'Entities'}) properties={'wikipediaExternalRef': 13443, 'wikidataId': 'Q8777', 'confidence_score': 0.5927, 'offsetStart': 1105, 'offsetEnd': 1118, 'rawName': 'HTTP response'}> Entities=<Node element_id='4:de342d72-e7ff-4d5b-9a28-99eaa381965b:1' labels=frozenset({'CVE'}) properties={'assigner': 'cna@sap.com', 'id': 'CVE-2023-0013'}>>, <Record cve=<Node element_id='4:de342d72-e7ff-4d5b-9a28-99eaa381965b:179' labels=frozenset({'Entities'}) properties={'wikipediaExternalRef': 33173, 'wikidataId': 'Q6368', 'confidence_score': 0.8945, 'offsetStart': 3825, 'offsetEnd': 3836, 'rawName': 'web browser'}> Entities=<Node element_id='4:de342d72-e7ff-4d5b-9a28-99eaa381965b:6' labels=frozenset({'CVE'}) properties={'assigner': 'cna@sap.com', 'id': 'CVE-2023-0018'}>>, <Record cve=<Node element_id='4:de342d72-e7ff-4d5b-9a28-99eaa381965b:191' labels=frozenset({'Entities'}) properties={'wikipediaExternalRef': 33173, 'wikidataId': 'Q6368', 'confidence_score': 0.6034, 'offsetStart': 797, 'offsetEnd': 810, 'rawName': \"web browser's\"}> Entities=<Node element_id='4:de342d72-e7ff-4d5b-9a28-99eaa381965b:6' labels=frozenset({'CVE'}) properties={'assigner': 'cna@sap.com', 'id': 'CVE-2023-0018'}>>, <Record cve=<Node element_id='4:de342d72-e7ff-4d5b-9a28-99eaa381965b:206' labels=frozenset({'Entities'}) properties={'wikipediaExternalRef': 33173, 'wikidataId': 'Q6368', 'confidence_score': 0.6292, 'offsetStart': 1752, 'offsetEnd': 1759, 'rawName': 'browser'}> Entities=<Node element_id='4:de342d72-e7ff-4d5b-9a28-99eaa381965b:6' labels=frozenset({'CVE'}) properties={'assigner': 'cna@sap.com', 'id': 'CVE-2023-0018'}>>, <Record cve=<Node element_id='4:de342d72-e7ff-4d5b-9a28-99eaa381965b:179' labels=frozenset({'Entities'}) properties={'wikipediaExternalRef': 33173, 'wikidataId': 'Q6368', 'confidence_score': 0.8945, 'offsetStart': 3825, 'offsetEnd': 3836, 'rawName': 'web browser'}> Entities=<Node element_id='4:de342d72-e7ff-4d5b-9a28-99eaa381965b:9' labels=frozenset({'CVE'}) properties={'assigner': 'security@huntr.dev', 'id': 'CVE-2023-0028'}>>, <Record cve=<Node element_id='4:de342d72-e7ff-4d5b-9a28-99eaa381965b:191' labels=frozenset({'Entities'}) properties={'wikipediaExternalRef': 33173, 'wikidataId': 'Q6368', 'confidence_score': 0.6034, 'offsetStart': 797, 'offsetEnd': 810, 'rawName': \"web browser's\"}> Entities=<Node element_id='4:de342d72-e7ff-4d5b-9a28-99eaa381965b:9' labels=frozenset({'CVE'}) properties={'assigner': 'security@huntr.dev', 'id': 'CVE-2023-0028'}>>, <Record cve=<Node element_id='4:de342d72-e7ff-4d5b-9a28-99eaa381965b:206' labels=frozenset({'Entities'}) properties={'wikipediaExternalRef': 33173, 'wikidataId': 'Q6368', 'confidence_score': 0.6292, 'offsetStart': 1752, 'offsetEnd': 1759, 'rawName': 'browser'}> Entities=<Node element_id='4:de342d72-e7ff-4d5b-9a28-99eaa381965b:9' labels=frozenset({'CVE'}) properties={'assigner': 'security@huntr.dev', 'id': 'CVE-2023-0028'}>>, <Record cve=<Node element_id='4:de342d72-e7ff-4d5b-9a28-99eaa381965b:179' labels=frozenset({'Entities'}) properties={'wikipediaExternalRef': 33173, 'wikidataId': 'Q6368', 'confidence_score': 0.8945, 'offsetStart': 3825, 'offsetEnd': 3836, 'rawName': 'web browser'}> Entities=<Node element_id='4:de342d72-e7ff-4d5b-9a28-99eaa381965b:3' labels=frozenset({'CVE'}) properties={'assigner': 'cna@sap.com', 'id': 'CVE-2023-0015'}>>, <Record cve=<Node element_id='4:de342d72-e7ff-4d5b-9a28-99eaa381965b:191' labels=frozenset({'Entities'}) properties={'wikipediaExternalRef': 33173, 'wikidataId': 'Q6368', 'confidence_score': 0.6034, 'offsetStart': 797, 'offsetEnd': 810, 'rawName': \"web browser's\"}> Entities=<Node element_id='4:de342d72-e7ff-4d5b-9a28-99eaa381965b:3' labels=frozenset({'CVE'}) properties={'assigner': 'cna@sap.com', 'id': 'CVE-2023-0015'}>>, <Record cve=<Node element_id='4:de342d72-e7ff-4d5b-9a28-99eaa381965b:206' labels=frozenset({'Entities'}) properties={'wikipediaExternalRef': 33173, 'wikidataId': 'Q6368', 'confidence_score': 0.6292, 'offsetStart': 1752, 'offsetEnd': 1759, 'rawName': 'browser'}> Entities=<Node element_id='4:de342d72-e7ff-4d5b-9a28-99eaa381965b:3' labels=frozenset({'CVE'}) properties={'assigner': 'cna@sap.com', 'id': 'CVE-2023-0015'}>>, <Record cve=<Node element_id='4:de342d72-e7ff-4d5b-9a28-99eaa381965b:179' labels=frozenset({'Entities'}) properties={'wikipediaExternalRef': 33173, 'wikidataId': 'Q6368', 'confidence_score': 0.8945, 'offsetStart': 3825, 'offsetEnd': 3836, 'rawName': 'web browser'}> Entities=<Node element_id='4:de342d72-e7ff-4d5b-9a28-99eaa381965b:1' labels=frozenset({'CVE'}) properties={'assigner': 'cna@sap.com', 'id': 'CVE-2023-0013'}>>, <Record cve=<Node element_id='4:de342d72-e7ff-4d5b-9a28-99eaa381965b:191' labels=frozenset({'Entities'}) properties={'wikipediaExternalRef': 33173, 'wikidataId': 'Q6368', 'confidence_score': 0.6034, 'offsetStart': 797, 'offsetEnd': 810, 'rawName': \"web browser's\"}> Entities=<Node element_id='4:de342d72-e7ff-4d5b-9a28-99eaa381965b:1' labels=frozenset({'CVE'}) properties={'assigner': 'cna@sap.com', 'id': 'CVE-2023-0013'}>>, <Record cve=<Node element_id='4:de342d72-e7ff-4d5b-9a28-99eaa381965b:206' labels=frozenset({'Entities'}) properties={'wikipediaExternalRef': 33173, 'wikidataId': 'Q6368', 'confidence_score': 0.6292, 'offsetStart': 1752, 'offsetEnd': 1759, 'rawName': 'browser'}> Entities=<Node element_id='4:de342d72-e7ff-4d5b-9a28-99eaa381965b:1' labels=frozenset({'CVE'}) properties={'assigner': 'cna@sap.com', 'id': 'CVE-2023-0013'}>>, <Record cve=<Node element_id='4:de342d72-e7ff-4d5b-9a28-99eaa381965b:226' labels=frozenset({'Entities'}) properties={'wikipediaExternalRef': 9845, 'wikidataId': 'Q2005', 'confidence_score': 0.6657, 'offsetStart': 2907, 'offsetEnd': 2917, 'rawName': 'Javascript'}> Entities=<Node element_id='4:de342d72-e7ff-4d5b-9a28-99eaa381965b:6' labels=frozenset({'CVE'}) properties={'assigner': 'cna@sap.com', 'id': 'CVE-2023-0018'}>>, <Record cve=<Node element_id='4:de342d72-e7ff-4d5b-9a28-99eaa381965b:180' labels=frozenset({'Entities'}) properties={'wikipediaExternalRef': 9845, 'wikidataId': 'Q2005', 'confidence_score': 0.915, 'offsetStart': 358, 'offsetEnd': 368, 'rawName': 'JavaScript'}> Entities=<Node element_id='4:de342d72-e7ff-4d5b-9a28-99eaa381965b:6' labels=frozenset({'CVE'}) properties={'assigner': 'cna@sap.com', 'id': 'CVE-2023-0018'}>>, <Record cve=<Node element_id='4:de342d72-e7ff-4d5b-9a28-99eaa381965b:226' labels=frozenset({'Entities'}) properties={'wikipediaExternalRef': 9845, 'wikidataId': 'Q2005', 'confidence_score': 0.6657, 'offsetStart': 2907, 'offsetEnd': 2917, 'rawName': 'Javascript'}> Entities=<Node element_id='4:de342d72-e7ff-4d5b-9a28-99eaa381965b:9' labels=frozenset({'CVE'}) properties={'assigner': 'security@huntr.dev', 'id': 'CVE-2023-0028'}>>, <Record cve=<Node element_id='4:de342d72-e7ff-4d5b-9a28-99eaa381965b:180' labels=frozenset({'Entities'}) properties={'wikipediaExternalRef': 9845, 'wikidataId': 'Q2005', 'confidence_score': 0.915, 'offsetStart': 358, 'offsetEnd': 368, 'rawName': 'JavaScript'}> Entities=<Node element_id='4:de342d72-e7ff-4d5b-9a28-99eaa381965b:9' labels=frozenset({'CVE'}) properties={'assigner': 'security@huntr.dev', 'id': 'CVE-2023-0028'}>>, <Record cve=<Node element_id='4:de342d72-e7ff-4d5b-9a28-99eaa381965b:226' labels=frozenset({'Entities'}) properties={'wikipediaExternalRef': 9845, 'wikidataId': 'Q2005', 'confidence_score': 0.6657, 'offsetStart': 2907, 'offsetEnd': 2917, 'rawName': 'Javascript'}> Entities=<Node element_id='4:de342d72-e7ff-4d5b-9a28-99eaa381965b:3' labels=frozenset({'CVE'}) properties={'assigner': 'cna@sap.com', 'id': 'CVE-2023-0015'}>>, <Record cve=<Node element_id='4:de342d72-e7ff-4d5b-9a28-99eaa381965b:180' labels=frozenset({'Entities'}) properties={'wikipediaExternalRef': 9845, 'wikidataId': 'Q2005', 'confidence_score': 0.915, 'offsetStart': 358, 'offsetEnd': 368, 'rawName': 'JavaScript'}> Entities=<Node element_id='4:de342d72-e7ff-4d5b-9a28-99eaa381965b:3' labels=frozenset({'CVE'}) properties={'assigner': 'cna@sap.com', 'id': 'CVE-2023-0015'}>>, <Record cve=<Node element_id='4:de342d72-e7ff-4d5b-9a28-99eaa381965b:226' labels=frozenset({'Entities'}) properties={'wikipediaExternalRef': 9845, 'wikidataId': 'Q2005', 'confidence_score': 0.6657, 'offsetStart': 2907, 'offsetEnd': 2917, 'rawName': 'Javascript'}> Entities=<Node element_id='4:de342d72-e7ff-4d5b-9a28-99eaa381965b:1' labels=frozenset({'CVE'}) properties={'assigner': 'cna@sap.com', 'id': 'CVE-2023-0013'}>>, <Record cve=<Node element_id='4:de342d72-e7ff-4d5b-9a28-99eaa381965b:180' labels=frozenset({'Entities'}) properties={'wikipediaExternalRef': 9845, 'wikidataId': 'Q2005', 'confidence_score': 0.915, 'offsetStart': 358, 'offsetEnd': 368, 'rawName': 'JavaScript'}> Entities=<Node element_id='4:de342d72-e7ff-4d5b-9a28-99eaa381965b:1' labels=frozenset({'CVE'}) properties={'assigner': 'cna@sap.com', 'id': 'CVE-2023-0013'}>>, <Record cve=<Node element_id='4:de342d72-e7ff-4d5b-9a28-99eaa381965b:187' labels=frozenset({'Entities'}) properties={'wikipediaExternalRef': 1065470, 'wikidataId': 'Q2920753', 'confidence_score': 0.5029, 'offsetStart': 3176, 'offsetEnd': 3184, 'rawName': 'injected'}> Entities=<Node element_id='4:de342d72-e7ff-4d5b-9a28-99eaa381965b:6' labels=frozenset({'CVE'}) properties={'assigner': 'cna@sap.com', 'id': 'CVE-2023-0018'}>>, <Record cve=<Node element_id='4:de342d72-e7ff-4d5b-9a28-99eaa381965b:213' labels=frozenset({'Entities'}) properties={'wikipediaExternalRef': 1065470, 'wikidataId': 'Q2920753', 'confidence_score': 0.3694, 'offsetStart': 2546, 'offsetEnd': 2552, 'rawName': 'inject'}> Entities=<Node element_id='4:de342d72-e7ff-4d5b-9a28-99eaa381965b:6' labels=frozenset({'CVE'}) properties={'assigner': 'cna@sap.com', 'id': 'CVE-2023-0018'}>>, <Record cve=<Node element_id='4:de342d72-e7ff-4d5b-9a28-99eaa381965b:187' labels=frozenset({'Entities'}) properties={'wikipediaExternalRef': 1065470, 'wikidataId': 'Q2920753', 'confidence_score': 0.5029, 'offsetStart': 3176, 'offsetEnd': 3184, 'rawName': 'injected'}> Entities=<Node element_id='4:de342d72-e7ff-4d5b-9a28-99eaa381965b:9' labels=frozenset({'CVE'}) properties={'assigner': 'security@huntr.dev', 'id': 'CVE-2023-0028'}>>, <Record cve=<Node element_id='4:de342d72-e7ff-4d5b-9a28-99eaa381965b:213' labels=frozenset({'Entities'}) properties={'wikipediaExternalRef': 1065470, 'wikidataId': 'Q2920753', 'confidence_score': 0.3694, 'offsetStart': 2546, 'offsetEnd': 2552, 'rawName': 'inject'}> Entities=<Node element_id='4:de342d72-e7ff-4d5b-9a28-99eaa381965b:9' labels=frozenset({'CVE'}) properties={'assigner': 'security@huntr.dev', 'id': 'CVE-2023-0028'}>>, <Record cve=<Node element_id='4:de342d72-e7ff-4d5b-9a28-99eaa381965b:187' labels=frozenset({'Entities'}) properties={'wikipediaExternalRef': 1065470, 'wikidataId': 'Q2920753', 'confidence_score': 0.5029, 'offsetStart': 3176, 'offsetEnd': 3184, 'rawName': 'injected'}> Entities=<Node element_id='4:de342d72-e7ff-4d5b-9a28-99eaa381965b:3' labels=frozenset({'CVE'}) properties={'assigner': 'cna@sap.com', 'id': 'CVE-2023-0015'}>>, <Record cve=<Node element_id='4:de342d72-e7ff-4d5b-9a28-99eaa381965b:213' labels=frozenset({'Entities'}) properties={'wikipediaExternalRef': 1065470, 'wikidataId': 'Q2920753', 'confidence_score': 0.3694, 'offsetStart': 2546, 'offsetEnd': 2552, 'rawName': 'inject'}> Entities=<Node element_id='4:de342d72-e7ff-4d5b-9a28-99eaa381965b:3' labels=frozenset({'CVE'}) properties={'assigner': 'cna@sap.com', 'id': 'CVE-2023-0015'}>>, <Record cve=<Node element_id='4:de342d72-e7ff-4d5b-9a28-99eaa381965b:187' labels=frozenset({'Entities'}) properties={'wikipediaExternalRef': 1065470, 'wikidataId': 'Q2920753', 'confidence_score': 0.5029, 'offsetStart': 3176, 'offsetEnd': 3184, 'rawName': 'injected'}> Entities=<Node element_id='4:de342d72-e7ff-4d5b-9a28-99eaa381965b:1' labels=frozenset({'CVE'}) properties={'assigner': 'cna@sap.com', 'id': 'CVE-2023-0013'}>>, <Record cve=<Node element_id='4:de342d72-e7ff-4d5b-9a28-99eaa381965b:213' labels=frozenset({'Entities'}) properties={'wikipediaExternalRef': 1065470, 'wikidataId': 'Q2920753', 'confidence_score': 0.3694, 'offsetStart': 2546, 'offsetEnd': 2552, 'rawName': 'inject'}> Entities=<Node element_id='4:de342d72-e7ff-4d5b-9a28-99eaa381965b:1' labels=frozenset({'CVE'}) properties={'assigner': 'cna@sap.com', 'id': 'CVE-2023-0013'}>>, <Record cve=<Node element_id='4:de342d72-e7ff-4d5b-9a28-99eaa381965b:238' labels=frozenset({'Entities'}) properties={'wikipediaExternalRef': 9875, 'wikidataId': 'Q11287', 'confidence_score': 0.5059, 'offsetStart': 3794, 'offsetEnd': 3801, 'rawName': 'exploit'}> Entities=<Node element_id='4:de342d72-e7ff-4d5b-9a28-99eaa381965b:6' labels=frozenset({'CVE'}) properties={'assigner': 'cna@sap.com', 'id': 'CVE-2023-0018'}>>, <Record cve=<Node element_id='4:de342d72-e7ff-4d5b-9a28-99eaa381965b:199' labels=frozenset({'Entities'}) properties={'wikipediaExternalRef': 9875, 'wikidataId': 'Q11287', 'confidence_score': 0.5021, 'offsetStart': 1134, 'offsetEnd': 1142, 'rawName': 'exploits'}> Entities=<Node element_id='4:de342d72-e7ff-4d5b-9a28-99eaa381965b:6' labels=frozenset({'CVE'}) properties={'assigner': 'cna@sap.com', 'id': 'CVE-2023-0018'}>>, <Record cve=<Node element_id='4:de342d72-e7ff-4d5b-9a28-99eaa381965b:238' labels=frozenset({'Entities'}) properties={'wikipediaExternalRef': 9875, 'wikidataId': 'Q11287', 'confidence_score': 0.5059, 'offsetStart': 3794, 'offsetEnd': 3801, 'rawName': 'exploit'}> Entities=<Node element_id='4:de342d72-e7ff-4d5b-9a28-99eaa381965b:9' labels=frozenset({'CVE'}) properties={'assigner': 'security@huntr.dev', 'id': 'CVE-2023-0028'}>>, <Record cve=<Node element_id='4:de342d72-e7ff-4d5b-9a28-99eaa381965b:199' labels=frozenset({'Entities'}) properties={'wikipediaExternalRef': 9875, 'wikidataId': 'Q11287', 'confidence_score': 0.5021, 'offsetStart': 1134, 'offsetEnd': 1142, 'rawName': 'exploits'}> Entities=<Node element_id='4:de342d72-e7ff-4d5b-9a28-99eaa381965b:9' labels=frozenset({'CVE'}) properties={'assigner': 'security@huntr.dev', 'id': 'CVE-2023-0028'}>>, <Record cve=<Node element_id='4:de342d72-e7ff-4d5b-9a28-99eaa381965b:238' labels=frozenset({'Entities'}) properties={'wikipediaExternalRef': 9875, 'wikidataId': 'Q11287', 'confidence_score': 0.5059, 'offsetStart': 3794, 'offsetEnd': 3801, 'rawName': 'exploit'}> Entities=<Node element_id='4:de342d72-e7ff-4d5b-9a28-99eaa381965b:3' labels=frozenset({'CVE'}) properties={'assigner': 'cna@sap.com', 'id': 'CVE-2023-0015'}>>, <Record cve=<Node element_id='4:de342d72-e7ff-4d5b-9a28-99eaa381965b:199' labels=frozenset({'Entities'}) properties={'wikipediaExternalRef': 9875, 'wikidataId': 'Q11287', 'confidence_score': 0.5021, 'offsetStart': 1134, 'offsetEnd': 1142, 'rawName': 'exploits'}> Entities=<Node element_id='4:de342d72-e7ff-4d5b-9a28-99eaa381965b:3' labels=frozenset({'CVE'}) properties={'assigner': 'cna@sap.com', 'id': 'CVE-2023-0015'}>>, <Record cve=<Node element_id='4:de342d72-e7ff-4d5b-9a28-99eaa381965b:238' labels=frozenset({'Entities'}) properties={'wikipediaExternalRef': 9875, 'wikidataId': 'Q11287', 'confidence_score': 0.5059, 'offsetStart': 3794, 'offsetEnd': 3801, 'rawName': 'exploit'}> Entities=<Node element_id='4:de342d72-e7ff-4d5b-9a28-99eaa381965b:1' labels=frozenset({'CVE'}) properties={'assigner': 'cna@sap.com', 'id': 'CVE-2023-0013'}>>, <Record cve=<Node element_id='4:de342d72-e7ff-4d5b-9a28-99eaa381965b:199' labels=frozenset({'Entities'}) properties={'wikipediaExternalRef': 9875, 'wikidataId': 'Q11287', 'confidence_score': 0.5021, 'offsetStart': 1134, 'offsetEnd': 1142, 'rawName': 'exploits'}> Entities=<Node element_id='4:de342d72-e7ff-4d5b-9a28-99eaa381965b:1' labels=frozenset({'CVE'}) properties={'assigner': 'cna@sap.com', 'id': 'CVE-2023-0013'}>>, <Record cve=<Node element_id='4:de342d72-e7ff-4d5b-9a28-99eaa381965b:202' labels=frozenset({'Entities'}) properties={'wikipediaExternalRef': 47817022, 'confidence_score': 0.8269, 'wikidataId': 'Q42253', 'offsetStart': 1607, 'offsetEnd': 1610, 'rawName': 'URL'}> Entities=<Node element_id='4:de342d72-e7ff-4d5b-9a28-99eaa381965b:6' labels=frozenset({'CVE'}) properties={'assigner': 'cna@sap.com', 'id': 'CVE-2023-0018'}>>, <Record cve=<Node element_id='4:de342d72-e7ff-4d5b-9a28-99eaa381965b:204' labels=frozenset({'Entities'}) properties={'wikipediaExternalRef': 47817022, 'confidence_score': 0.6707, 'wikidataId': 'Q42253', 'offsetStart': 1479, 'offsetEnd': 1483, 'rawName': 'URLs'}> Entities=<Node element_id='4:de342d72-e7ff-4d5b-9a28-99eaa381965b:6' labels=frozenset({'CVE'}) properties={'assigner': 'cna@sap.com', 'id': 'CVE-2023-0018'}>>, <Record cve=<Node element_id='4:de342d72-e7ff-4d5b-9a28-99eaa381965b:202' labels=frozenset({'Entities'}) properties={'wikipediaExternalRef': 47817022, 'confidence_score': 0.8269, 'wikidataId': 'Q42253', 'offsetStart': 1607, 'offsetEnd': 1610, 'rawName': 'URL'}> Entities=<Node element_id='4:de342d72-e7ff-4d5b-9a28-99eaa381965b:9' labels=frozenset({'CVE'}) properties={'assigner': 'security@huntr.dev', 'id': 'CVE-2023-0028'}>>, <Record cve=<Node element_id='4:de342d72-e7ff-4d5b-9a28-99eaa381965b:204' labels=frozenset({'Entities'}) properties={'wikipediaExternalRef': 47817022, 'confidence_score': 0.6707, 'wikidataId': 'Q42253', 'offsetStart': 1479, 'offsetEnd': 1483, 'rawName': 'URLs'}> Entities=<Node element_id='4:de342d72-e7ff-4d5b-9a28-99eaa381965b:9' labels=frozenset({'CVE'}) properties={'assigner': 'security@huntr.dev', 'id': 'CVE-2023-0028'}>>, <Record cve=<Node element_id='4:de342d72-e7ff-4d5b-9a28-99eaa381965b:202' labels=frozenset({'Entities'}) properties={'wikipediaExternalRef': 47817022, 'confidence_score': 0.8269, 'wikidataId': 'Q42253', 'offsetStart': 1607, 'offsetEnd': 1610, 'rawName': 'URL'}> Entities=<Node element_id='4:de342d72-e7ff-4d5b-9a28-99eaa381965b:3' labels=frozenset({'CVE'}) properties={'assigner': 'cna@sap.com', 'id': 'CVE-2023-0015'}>>, <Record cve=<Node element_id='4:de342d72-e7ff-4d5b-9a28-99eaa381965b:204' labels=frozenset({'Entities'}) properties={'wikipediaExternalRef': 47817022, 'confidence_score': 0.6707, 'wikidataId': 'Q42253', 'offsetStart': 1479, 'offsetEnd': 1483, 'rawName': 'URLs'}> Entities=<Node element_id='4:de342d72-e7ff-4d5b-9a28-99eaa381965b:3' labels=frozenset({'CVE'}) properties={'assigner': 'cna@sap.com', 'id': 'CVE-2023-0015'}>>, <Record cve=<Node element_id='4:de342d72-e7ff-4d5b-9a28-99eaa381965b:202' labels=frozenset({'Entities'}) properties={'wikipediaExternalRef': 47817022, 'confidence_score': 0.8269, 'wikidataId': 'Q42253', 'offsetStart': 1607, 'offsetEnd': 1610, 'rawName': 'URL'}> Entities=<Node element_id='4:de342d72-e7ff-4d5b-9a28-99eaa381965b:1' labels=frozenset({'CVE'}) properties={'assigner': 'cna@sap.com', 'id': 'CVE-2023-0013'}>>, <Record cve=<Node element_id='4:de342d72-e7ff-4d5b-9a28-99eaa381965b:204' labels=frozenset({'Entities'}) properties={'wikipediaExternalRef': 47817022, 'confidence_score': 0.6707, 'wikidataId': 'Q42253', 'offsetStart': 1479, 'offsetEnd': 1483, 'rawName': 'URLs'}> Entities=<Node element_id='4:de342d72-e7ff-4d5b-9a28-99eaa381965b:1' labels=frozenset({'CVE'}) properties={'assigner': 'cna@sap.com', 'id': 'CVE-2023-0013'}>>, <Record cve=<Node element_id='4:de342d72-e7ff-4d5b-9a28-99eaa381965b:234' labels=frozenset({'Entities'}) properties={'wikipediaExternalRef': 428364, 'wikidataId': 'Q135005', 'confidence_score': 0.4603, 'offsetStart': 3586, 'offsetEnd': 3602, 'rawName': 'Phishing attacks'}> Entities=<Node element_id='4:de342d72-e7ff-4d5b-9a28-99eaa381965b:6' labels=frozenset({'CVE'}) properties={'assigner': 'cna@sap.com', 'id': 'CVE-2023-0018'}>>, <Record cve=<Node element_id='4:de342d72-e7ff-4d5b-9a28-99eaa381965b:205' labels=frozenset({'Entities'}) properties={'wikipediaExternalRef': 428364, 'wikidataId': 'Q135005', 'confidence_score': 0.9026, 'offsetStart': 1539, 'offsetEnd': 1547, 'rawName': 'phishing'}> Entities=<Node element_id='4:de342d72-e7ff-4d5b-9a28-99eaa381965b:6' labels=frozenset({'CVE'}) properties={'assigner': 'cna@sap.com', 'id': 'CVE-2023-0018'}>>, <Record cve=<Node element_id='4:de342d72-e7ff-4d5b-9a28-99eaa381965b:234' labels=frozenset({'Entities'}) properties={'wikipediaExternalRef': 428364, 'wikidataId': 'Q135005', 'confidence_score': 0.4603, 'offsetStart': 3586, 'offsetEnd': 3602, 'rawName': 'Phishing attacks'}> Entities=<Node element_id='4:de342d72-e7ff-4d5b-9a28-99eaa381965b:9' labels=frozenset({'CVE'}) properties={'assigner': 'security@huntr.dev', 'id': 'CVE-2023-0028'}>>, <Record cve=<Node element_id='4:de342d72-e7ff-4d5b-9a28-99eaa381965b:205' labels=frozenset({'Entities'}) properties={'wikipediaExternalRef': 428364, 'wikidataId': 'Q135005', 'confidence_score': 0.9026, 'offsetStart': 1539, 'offsetEnd': 1547, 'rawName': 'phishing'}> Entities=<Node element_id='4:de342d72-e7ff-4d5b-9a28-99eaa381965b:9' labels=frozenset({'CVE'}) properties={'assigner': 'security@huntr.dev', 'id': 'CVE-2023-0028'}>>, <Record cve=<Node element_id='4:de342d72-e7ff-4d5b-9a28-99eaa381965b:234' labels=frozenset({'Entities'}) properties={'wikipediaExternalRef': 428364, 'wikidataId': 'Q135005', 'confidence_score': 0.4603, 'offsetStart': 3586, 'offsetEnd': 3602, 'rawName': 'Phishing attacks'}> Entities=<Node element_id='4:de342d72-e7ff-4d5b-9a28-99eaa381965b:3' labels=frozenset({'CVE'}) properties={'assigner': 'cna@sap.com', 'id': 'CVE-2023-0015'}>>, <Record cve=<Node element_id='4:de342d72-e7ff-4d5b-9a28-99eaa381965b:205' labels=frozenset({'Entities'}) properties={'wikipediaExternalRef': 428364, 'wikidataId': 'Q135005', 'confidence_score': 0.9026, 'offsetStart': 1539, 'offsetEnd': 1547, 'rawName': 'phishing'}> Entities=<Node element_id='4:de342d72-e7ff-4d5b-9a28-99eaa381965b:3' labels=frozenset({'CVE'}) properties={'assigner': 'cna@sap.com', 'id': 'CVE-2023-0015'}>>, <Record cve=<Node element_id='4:de342d72-e7ff-4d5b-9a28-99eaa381965b:234' labels=frozenset({'Entities'}) properties={'wikipediaExternalRef': 428364, 'wikidataId': 'Q135005', 'confidence_score': 0.4603, 'offsetStart': 3586, 'offsetEnd': 3602, 'rawName': 'Phishing attacks'}> Entities=<Node element_id='4:de342d72-e7ff-4d5b-9a28-99eaa381965b:1' labels=frozenset({'CVE'}) properties={'assigner': 'cna@sap.com', 'id': 'CVE-2023-0013'}>>, <Record cve=<Node element_id='4:de342d72-e7ff-4d5b-9a28-99eaa381965b:205' labels=frozenset({'Entities'}) properties={'wikipediaExternalRef': 428364, 'wikidataId': 'Q135005', 'confidence_score': 0.9026, 'offsetStart': 1539, 'offsetEnd': 1547, 'rawName': 'phishing'}> Entities=<Node element_id='4:de342d72-e7ff-4d5b-9a28-99eaa381965b:1' labels=frozenset({'CVE'}) properties={'assigner': 'cna@sap.com', 'id': 'CVE-2023-0013'}>>, <Record cve=<Node element_id='4:de342d72-e7ff-4d5b-9a28-99eaa381965b:236' labels=frozenset({'Entities'}) properties={'wikipediaExternalRef': 33898, 'wikidataId': 'Q35127', 'confidence_score': 0.4046, 'offsetStart': 429, 'offsetEnd': 438, 'rawName': 'web sites'}> Entities=<Node element_id='4:de342d72-e7ff-4d5b-9a28-99eaa381965b:6' labels=frozenset({'CVE'}) properties={'assigner': 'cna@sap.com', 'id': 'CVE-2023-0018'}>>, <Record cve=<Node element_id='4:de342d72-e7ff-4d5b-9a28-99eaa381965b:232' labels=frozenset({'Entities'}) properties={'wikipediaExternalRef': 33898, 'wikidataId': 'Q35127', 'confidence_score': 0.5084, 'offsetStart': 3758, 'offsetEnd': 3766, 'rawName': 'web site'}> Entities=<Node element_id='4:de342d72-e7ff-4d5b-9a28-99eaa381965b:6' labels=frozenset({'CVE'}) properties={'assigner': 'cna@sap.com', 'id': 'CVE-2023-0018'}>>, <Record cve=<Node element_id='4:de342d72-e7ff-4d5b-9a28-99eaa381965b:236' labels=frozenset({'Entities'}) properties={'wikipediaExternalRef': 33898, 'wikidataId': 'Q35127', 'confidence_score': 0.4046, 'offsetStart': 429, 'offsetEnd': 438, 'rawName': 'web sites'}> Entities=<Node element_id='4:de342d72-e7ff-4d5b-9a28-99eaa381965b:9' labels=frozenset({'CVE'}) properties={'assigner': 'security@huntr.dev', 'id': 'CVE-2023-0028'}>>, <Record cve=<Node element_id='4:de342d72-e7ff-4d5b-9a28-99eaa381965b:232' labels=frozenset({'Entities'}) properties={'wikipediaExternalRef': 33898, 'wikidataId': 'Q35127', 'confidence_score': 0.5084, 'offsetStart': 3758, 'offsetEnd': 3766, 'rawName': 'web site'}> Entities=<Node element_id='4:de342d72-e7ff-4d5b-9a28-99eaa381965b:9' labels=frozenset({'CVE'}) properties={'assigner': 'security@huntr.dev', 'id': 'CVE-2023-0028'}>>, <Record cve=<Node element_id='4:de342d72-e7ff-4d5b-9a28-99eaa381965b:236' labels=frozenset({'Entities'}) properties={'wikipediaExternalRef': 33898, 'wikidataId': 'Q35127', 'confidence_score': 0.4046, 'offsetStart': 429, 'offsetEnd': 438, 'rawName': 'web sites'}> Entities=<Node element_id='4:de342d72-e7ff-4d5b-9a28-99eaa381965b:3' labels=frozenset({'CVE'}) properties={'assigner': 'cna@sap.com', 'id': 'CVE-2023-0015'}>>, <Record cve=<Node element_id='4:de342d72-e7ff-4d5b-9a28-99eaa381965b:232' labels=frozenset({'Entities'}) properties={'wikipediaExternalRef': 33898, 'wikidataId': 'Q35127', 'confidence_score': 0.5084, 'offsetStart': 3758, 'offsetEnd': 3766, 'rawName': 'web site'}> Entities=<Node element_id='4:de342d72-e7ff-4d5b-9a28-99eaa381965b:3' labels=frozenset({'CVE'}) properties={'assigner': 'cna@sap.com', 'id': 'CVE-2023-0015'}>>, <Record cve=<Node element_id='4:de342d72-e7ff-4d5b-9a28-99eaa381965b:236' labels=frozenset({'Entities'}) properties={'wikipediaExternalRef': 33898, 'wikidataId': 'Q35127', 'confidence_score': 0.4046, 'offsetStart': 429, 'offsetEnd': 438, 'rawName': 'web sites'}> Entities=<Node element_id='4:de342d72-e7ff-4d5b-9a28-99eaa381965b:1' labels=frozenset({'CVE'}) properties={'assigner': 'cna@sap.com', 'id': 'CVE-2023-0013'}>>, <Record cve=<Node element_id='4:de342d72-e7ff-4d5b-9a28-99eaa381965b:232' labels=frozenset({'Entities'}) properties={'wikipediaExternalRef': 33898, 'wikidataId': 'Q35127', 'confidence_score': 0.5084, 'offsetStart': 3758, 'offsetEnd': 3766, 'rawName': 'web site'}> Entities=<Node element_id='4:de342d72-e7ff-4d5b-9a28-99eaa381965b:1' labels=frozenset({'CVE'}) properties={'assigner': 'cna@sap.com', 'id': 'CVE-2023-0013'}>>, <Record cve=<Node element_id='4:de342d72-e7ff-4d5b-9a28-99eaa381965b:236' labels=frozenset({'Entities'}) properties={'wikipediaExternalRef': 33898, 'wikidataId': 'Q35127', 'confidence_score': 0.4046, 'offsetStart': 429, 'offsetEnd': 438, 'rawName': 'web sites'}> Entities=<Node element_id='4:de342d72-e7ff-4d5b-9a28-99eaa381965b:4' labels=frozenset({'CVE'}) properties={'assigner': 'cna@sap.com', 'id': 'CVE-2023-0016'}>>, <Record cve=<Node element_id='4:de342d72-e7ff-4d5b-9a28-99eaa381965b:6' labels=frozenset({'CVE'}) properties={'assigner': 'cna@sap.com', 'id': 'CVE-2023-0018'}> Entities=<Node element_id='4:de342d72-e7ff-4d5b-9a28-99eaa381965b:167' labels=frozenset({'Entities'}) properties={'wikipediaExternalRef': 241154, 'wikidataId': 'Q371199', 'confidence_score': 0.719, 'offsetStart': 0, 'offsetEnd': 20, 'rawName': 'Cross-site scripting'}>>, <Record cve=<Node element_id='4:de342d72-e7ff-4d5b-9a28-99eaa381965b:9' labels=frozenset({'CVE'}) properties={'assigner': 'security@huntr.dev', 'id': 'CVE-2023-0028'}> Entities=<Node element_id='4:de342d72-e7ff-4d5b-9a28-99eaa381965b:167' labels=frozenset({'Entities'}) properties={'wikipediaExternalRef': 241154, 'wikidataId': 'Q371199', 'confidence_score': 0.719, 'offsetStart': 0, 'offsetEnd': 20, 'rawName': 'Cross-site scripting'}>>, <Record cve=<Node element_id='4:de342d72-e7ff-4d5b-9a28-99eaa381965b:3' labels=frozenset({'CVE'}) properties={'assigner': 'cna@sap.com', 'id': 'CVE-2023-0015'}> Entities=<Node element_id='4:de342d72-e7ff-4d5b-9a28-99eaa381965b:167' labels=frozenset({'Entities'}) properties={'wikipediaExternalRef': 241154, 'wikidataId': 'Q371199', 'confidence_score': 0.719, 'offsetStart': 0, 'offsetEnd': 20, 'rawName': 'Cross-site scripting'}>>, <Record cve=<Node element_id='4:de342d72-e7ff-4d5b-9a28-99eaa381965b:1' labels=frozenset({'CVE'}) properties={'assigner': 'cna@sap.com', 'id': 'CVE-2023-0013'}> Entities=<Node element_id='4:de342d72-e7ff-4d5b-9a28-99eaa381965b:167' labels=frozenset({'Entities'}) properties={'wikipediaExternalRef': 241154, 'wikidataId': 'Q371199', 'confidence_score': 0.719, 'offsetStart': 0, 'offsetEnd': 20, 'rawName': 'Cross-site scripting'}>>, <Record cve=<Node element_id='4:de342d72-e7ff-4d5b-9a28-99eaa381965b:4' labels=frozenset({'CVE'}) properties={'assigner': 'cna@sap.com', 'id': 'CVE-2023-0016'}> Entities=<Node element_id='4:de342d72-e7ff-4d5b-9a28-99eaa381965b:262' labels=frozenset({'Entities'}) properties={'wikipediaExternalRef': 526999, 'wikidataId': 'Q506059', 'confidence_score': 0.9162, 'offsetStart': 1041, 'offsetEnd': 1054, 'rawName': 'SQL injection'}>>, <Record cve=<Node element_id='4:de342d72-e7ff-4d5b-9a28-99eaa381965b:7' labels=frozenset({'CVE'}) properties={'assigner': 'cna@sap.com', 'id': 'CVE-2023-0022'}> Entities=<Node element_id='4:de342d72-e7ff-4d5b-9a28-99eaa381965b:262' labels=frozenset({'Entities'}) properties={'wikipediaExternalRef': 526999, 'wikidataId': 'Q506059', 'confidence_score': 0.9162, 'offsetStart': 1041, 'offsetEnd': 1054, 'rawName': 'SQL injection'}>>, <Record cve=<Node element_id='4:de342d72-e7ff-4d5b-9a28-99eaa381965b:8' labels=frozenset({'CVE'}) properties={'assigner': 'cna@sap.com', 'id': 'CVE-2023-0023'}> Entities=<Node element_id='4:de342d72-e7ff-4d5b-9a28-99eaa381965b:287' labels=frozenset({'Entities'}) properties={'wikipediaExternalRef': 5316476, 'wikidataId': 'Q2587068', 'confidence_score': 0.4076, 'offsetStart': 394, 'offsetEnd': 415, 'rawName': 'sensitive information'}>>, <Record cve=<Node element_id='4:de342d72-e7ff-4d5b-9a28-99eaa381965b:0' labels=frozenset({'CVE'}) properties={'assigner': 'cna@sap.com', 'id': 'CVE-2023-0012'}> Entities=<Node element_id='4:de342d72-e7ff-4d5b-9a28-99eaa381965b:287' labels=frozenset({'Entities'}) properties={'wikipediaExternalRef': 5316476, 'wikidataId': 'Q2587068', 'confidence_score': 0.4076, 'offsetStart': 394, 'offsetEnd': 415, 'rawName': 'sensitive information'}>>, <Record cve=<Node element_id='4:de342d72-e7ff-4d5b-9a28-99eaa381965b:5' labels=frozenset({'CVE'}) properties={'assigner': 'cna@sap.com', 'id': 'CVE-2023-0017'}> Entities=<Node element_id='4:de342d72-e7ff-4d5b-9a28-99eaa381965b:287' labels=frozenset({'Entities'}) properties={'wikipediaExternalRef': 5316476, 'wikidataId': 'Q2587068', 'confidence_score': 0.4076, 'offsetStart': 394, 'offsetEnd': 415, 'rawName': 'sensitive information'}>>, <Record cve=<Node element_id='4:de342d72-e7ff-4d5b-9a28-99eaa381965b:0' labels=frozenset({'CVE'}) properties={'assigner': 'cna@sap.com', 'id': 'CVE-2023-0012'}> Entities=<Node element_id='4:de342d72-e7ff-4d5b-9a28-99eaa381965b:314' labels=frozenset({'Entities'}) properties={'wikipediaExternalRef': 40684, 'wikidataId': 'Q228502', 'confidence_score': 0.6394, 'offsetStart': 0, 'offsetEnd': 14, 'rawName': 'Access control'}>>, <Record cve=<Node element_id='4:de342d72-e7ff-4d5b-9a28-99eaa381965b:5' labels=frozenset({'CVE'}) properties={'assigner': 'cna@sap.com', 'id': 'CVE-2023-0017'}> Entities=<Node element_id='4:de342d72-e7ff-4d5b-9a28-99eaa381965b:314' labels=frozenset({'Entities'}) properties={'wikipediaExternalRef': 40684, 'wikidataId': 'Q228502', 'confidence_score': 0.6394, 'offsetStart': 0, 'offsetEnd': 14, 'rawName': 'Access control'}>>, <Record cve=<Node element_id='4:de342d72-e7ff-4d5b-9a28-99eaa381965b:2' labels=frozenset({'CVE'}) properties={'assigner': 'cna@sap.com', 'id': 'CVE-2023-0014'}> Entities=<Node element_id='4:de342d72-e7ff-4d5b-9a28-99eaa381965b:331' labels=frozenset({'Entities'}) properties={'wikipediaExternalRef': 614094, 'wikidataId': 'Q1756025', 'confidence_score': 0.5922, 'offsetStart': 8, 'offsetEnd': 22, 'rawName': 'replay attacks'}>>, <Record cve=<Node element_id='4:de342d72-e7ff-4d5b-9a28-99eaa381965b:6' labels=frozenset({'CVE'}) properties={'assigner': 'cna@sap.com', 'id': 'CVE-2023-0018'}> Entities=<Node element_id='4:de342d72-e7ff-4d5b-9a28-99eaa381965b:168' labels=frozenset({'Entities'}) properties={'wikipediaExternalRef': 241154, 'wikidataId': 'Q371199', 'confidence_score': 0.8255, 'offsetStart': 3130, 'offsetEnd': 3133, 'rawName': 'XSS'}>>, <Record cve=<Node element_id='4:de342d72-e7ff-4d5b-9a28-99eaa381965b:6' labels=frozenset({'CVE'}) properties={'assigner': 'cna@sap.com', 'id': 'CVE-2023-0018'}> Entities=<Node element_id='4:de342d72-e7ff-4d5b-9a28-99eaa381965b:195' labels=frozenset({'Entities'}) properties={'wikipediaExternalRef': 241154, 'wikidataId': 'Q371199', 'confidence_score': 0.5158, 'offsetStart': 1120, 'offsetEnd': 1133, 'rawName': 'Reflected XSS'}>>, <Record cve=<Node element_id='4:de342d72-e7ff-4d5b-9a28-99eaa381965b:6' labels=frozenset({'CVE'}) properties={'assigner': 'cna@sap.com', 'id': 'CVE-2023-0018'}> Entities=<Node element_id='4:de342d72-e7ff-4d5b-9a28-99eaa381965b:208' labels=frozenset({'Entities'}) properties={'wikipediaExternalRef': 241154, 'wikidataId': 'Q371199', 'confidence_score': 0.5158, 'offsetStart': 1769, 'offsetEnd': 1779, 'rawName': 'Stored XSS'}>>, <Record cve=<Node element_id='4:de342d72-e7ff-4d5b-9a28-99eaa381965b:9' labels=frozenset({'CVE'}) properties={'assigner': 'security@huntr.dev', 'id': 'CVE-2023-0028'}> Entities=<Node element_id='4:de342d72-e7ff-4d5b-9a28-99eaa381965b:168' labels=frozenset({'Entities'}) properties={'wikipediaExternalRef': 241154, 'wikidataId': 'Q371199', 'confidence_score': 0.8255, 'offsetStart': 3130, 'offsetEnd': 3133, 'rawName': 'XSS'}>>, <Record cve=<Node element_id='4:de342d72-e7ff-4d5b-9a28-99eaa381965b:9' labels=frozenset({'CVE'}) properties={'assigner': 'security@huntr.dev', 'id': 'CVE-2023-0028'}> Entities=<Node element_id='4:de342d72-e7ff-4d5b-9a28-99eaa381965b:195' labels=frozenset({'Entities'}) properties={'wikipediaExternalRef': 241154, 'wikidataId': 'Q371199', 'confidence_score': 0.5158, 'offsetStart': 1120, 'offsetEnd': 1133, 'rawName': 'Reflected XSS'}>>, <Record cve=<Node element_id='4:de342d72-e7ff-4d5b-9a28-99eaa381965b:9' labels=frozenset({'CVE'}) properties={'assigner': 'security@huntr.dev', 'id': 'CVE-2023-0028'}> Entities=<Node element_id='4:de342d72-e7ff-4d5b-9a28-99eaa381965b:208' labels=frozenset({'Entities'}) properties={'wikipediaExternalRef': 241154, 'wikidataId': 'Q371199', 'confidence_score': 0.5158, 'offsetStart': 1769, 'offsetEnd': 1779, 'rawName': 'Stored XSS'}>>, <Record cve=<Node element_id='4:de342d72-e7ff-4d5b-9a28-99eaa381965b:3' labels=frozenset({'CVE'}) properties={'assigner': 'cna@sap.com', 'id': 'CVE-2023-0015'}> Entities=<Node element_id='4:de342d72-e7ff-4d5b-9a28-99eaa381965b:168' labels=frozenset({'Entities'}) properties={'wikipediaExternalRef': 241154, 'wikidataId': 'Q371199', 'confidence_score': 0.8255, 'offsetStart': 3130, 'offsetEnd': 3133, 'rawName': 'XSS'}>>, <Record cve=<Node element_id='4:de342d72-e7ff-4d5b-9a28-99eaa381965b:3' labels=frozenset({'CVE'}) properties={'assigner': 'cna@sap.com', 'id': 'CVE-2023-0015'}> Entities=<Node element_id='4:de342d72-e7ff-4d5b-9a28-99eaa381965b:195' labels=frozenset({'Entities'}) properties={'wikipediaExternalRef': 241154, 'wikidataId': 'Q371199', 'confidence_score': 0.5158, 'offsetStart': 1120, 'offsetEnd': 1133, 'rawName': 'Reflected XSS'}>>, <Record cve=<Node element_id='4:de342d72-e7ff-4d5b-9a28-99eaa381965b:3' labels=frozenset({'CVE'}) properties={'assigner': 'cna@sap.com', 'id': 'CVE-2023-0015'}> Entities=<Node element_id='4:de342d72-e7ff-4d5b-9a28-99eaa381965b:208' labels=frozenset({'Entities'}) properties={'wikipediaExternalRef': 241154, 'wikidataId': 'Q371199', 'confidence_score': 0.5158, 'offsetStart': 1769, 'offsetEnd': 1779, 'rawName': 'Stored XSS'}>>, <Record cve=<Node element_id='4:de342d72-e7ff-4d5b-9a28-99eaa381965b:1' labels=frozenset({'CVE'}) properties={'assigner': 'cna@sap.com', 'id': 'CVE-2023-0013'}> Entities=<Node element_id='4:de342d72-e7ff-4d5b-9a28-99eaa381965b:168' labels=frozenset({'Entities'}) properties={'wikipediaExternalRef': 241154, 'wikidataId': 'Q371199', 'confidence_score': 0.8255, 'offsetStart': 3130, 'offsetEnd': 3133, 'rawName': 'XSS'}>>, <Record cve=<Node element_id='4:de342d72-e7ff-4d5b-9a28-99eaa381965b:1' labels=frozenset({'CVE'}) properties={'assigner': 'cna@sap.com', 'id': 'CVE-2023-0013'}> Entities=<Node element_id='4:de342d72-e7ff-4d5b-9a28-99eaa381965b:195' labels=frozenset({'Entities'}) properties={'wikipediaExternalRef': 241154, 'wikidataId': 'Q371199', 'confidence_score': 0.5158, 'offsetStart': 1120, 'offsetEnd': 1133, 'rawName': 'Reflected XSS'}>>, <Record cve=<Node element_id='4:de342d72-e7ff-4d5b-9a28-99eaa381965b:1' labels=frozenset({'CVE'}) properties={'assigner': 'cna@sap.com', 'id': 'CVE-2023-0013'}> Entities=<Node element_id='4:de342d72-e7ff-4d5b-9a28-99eaa381965b:208' labels=frozenset({'Entities'}) properties={'wikipediaExternalRef': 241154, 'wikidataId': 'Q371199', 'confidence_score': 0.5158, 'offsetStart': 1769, 'offsetEnd': 1779, 'rawName': 'Stored XSS'}>>, <Record cve=<Node element_id='4:de342d72-e7ff-4d5b-9a28-99eaa381965b:6' labels=frozenset({'CVE'}) properties={'assigner': 'cna@sap.com', 'id': 'CVE-2023-0018'}> Entities=<Node element_id='4:de342d72-e7ff-4d5b-9a28-99eaa381965b:216' labels=frozenset({'Entities'}) properties={'wikipediaExternalRef': 5316476, 'wikidataId': 'Q2587068', 'confidence_score': 0.4691, 'offsetStart': 2476, 'offsetEnd': 2490, 'rawName': 'sensitive data'}>>, <Record cve=<Node element_id='4:de342d72-e7ff-4d5b-9a28-99eaa381965b:9' labels=frozenset({'CVE'}) properties={'assigner': 'security@huntr.dev', 'id': 'CVE-2023-0028'}> Entities=<Node element_id='4:de342d72-e7ff-4d5b-9a28-99eaa381965b:216' labels=frozenset({'Entities'}) properties={'wikipediaExternalRef': 5316476, 'wikidataId': 'Q2587068', 'confidence_score': 0.4691, 'offsetStart': 2476, 'offsetEnd': 2490, 'rawName': 'sensitive data'}>>, <Record cve=<Node element_id='4:de342d72-e7ff-4d5b-9a28-99eaa381965b:3' labels=frozenset({'CVE'}) properties={'assigner': 'cna@sap.com', 'id': 'CVE-2023-0015'}> Entities=<Node element_id='4:de342d72-e7ff-4d5b-9a28-99eaa381965b:216' labels=frozenset({'Entities'}) properties={'wikipediaExternalRef': 5316476, 'wikidataId': 'Q2587068', 'confidence_score': 0.4691, 'offsetStart': 2476, 'offsetEnd': 2490, 'rawName': 'sensitive data'}>>, <Record cve=<Node element_id='4:de342d72-e7ff-4d5b-9a28-99eaa381965b:1' labels=frozenset({'CVE'}) properties={'assigner': 'cna@sap.com', 'id': 'CVE-2023-0013'}> Entities=<Node element_id='4:de342d72-e7ff-4d5b-9a28-99eaa381965b:216' labels=frozenset({'Entities'}) properties={'wikipediaExternalRef': 5316476, 'wikidataId': 'Q2587068', 'confidence_score': 0.4691, 'offsetStart': 2476, 'offsetEnd': 2490, 'rawName': 'sensitive data'}>>, <Record cve=<Node element_id='4:de342d72-e7ff-4d5b-9a28-99eaa381965b:0' labels=frozenset({'CVE'}) properties={'assigner': 'cna@sap.com', 'id': 'CVE-2023-0012'}> Entities=<Node element_id='4:de342d72-e7ff-4d5b-9a28-99eaa381965b:322' labels=frozenset({'Entities'}) properties={'wikipediaExternalRef': 40684, 'wikidataId': 'Q228502', 'confidence_score': 0.4556, 'offsetStart': 947, 'offsetEnd': 961, 'rawName': 'access control'}>>, <Record cve=<Node element_id='4:de342d72-e7ff-4d5b-9a28-99eaa381965b:5' labels=frozenset({'CVE'}) properties={'assigner': 'cna@sap.com', 'id': 'CVE-2023-0017'}> Entities=<Node element_id='4:de342d72-e7ff-4d5b-9a28-99eaa381965b:322' labels=frozenset({'Entities'}) properties={'wikipediaExternalRef': 40684, 'wikidataId': 'Q228502', 'confidence_score': 0.4556, 'offsetStart': 947, 'offsetEnd': 961, 'rawName': 'access control'}>>]\n"
          ]
        }
      ]
    },
    {
      "cell_type": "code",
      "source": [
        "# Q3 What are the CVSS scores that are assigned to vulnerabilities?\n",
        "\n",
        "explore_reviews_csv_query = \"\"\"\n",
        "MATCH (cvssv3)-[:ASSIGNED_TO]->(cve)\n",
        "RETURN cvssv3,cve\n",
        "\n",
        "\"\"\"\n",
        "result = conn.query(explore_reviews_csv_query)\n",
        "print(result)"
      ],
      "metadata": {
        "id": "DeyOu7BQ__tB",
        "colab": {
          "base_uri": "https://localhost:8080/"
        },
        "outputId": "dad71e03-4a1e-4593-ae3a-c62b7ebfb8f0"
      },
      "execution_count": 351,
      "outputs": [
        {
          "output_type": "stream",
          "name": "stdout",
          "text": [
            "[<Record cvssv3=<Node element_id='4:de342d72-e7ff-4d5b-9a28-99eaa381965b:54' labels=frozenset({'CVSSV3'}) properties={'baseSeverity': 'MEDIUM', 'confidentialityImpact': 'HIGH', 'scope': 'UNCHANGED', 'attackComplexity': 'LOW', 'attackVector': 'LOCAL', 'availabilityImpact': 'HIGH', 'integrityImpact': 'HIGH', 'privilegesRequired': 'HIGH', 'baseScore': 6.7, 'vectorString': 'CVSS:3.1/AV:L/AC:L/PR:H/UI:N/S:U/C:H/I:H/A:H', 'userInteraction': 'NONE', 'version': '3.1'}> cve=<Node element_id='4:de342d72-e7ff-4d5b-9a28-99eaa381965b:0' labels=frozenset({'CVE'}) properties={'assigner': 'cna@sap.com', 'id': 'CVE-2023-0012'}>>, <Record cvssv3=<Node element_id='4:de342d72-e7ff-4d5b-9a28-99eaa381965b:56' labels=frozenset({'CVSSV3'}) properties={'baseSeverity': 'MEDIUM', 'confidentialityImpact': 'LOW', 'scope': 'CHANGED', 'attackComplexity': 'LOW', 'attackVector': 'NETWORK', 'availabilityImpact': 'NONE', 'integrityImpact': 'LOW', 'privilegesRequired': 'NONE', 'baseScore': 6.1, 'vectorString': 'CVSS:3.1/AV:N/AC:L/PR:N/UI:R/S:C/C:L/I:L/A:N', 'version': '3.1', 'userInteraction': 'REQUIRED'}> cve=<Node element_id='4:de342d72-e7ff-4d5b-9a28-99eaa381965b:1' labels=frozenset({'CVE'}) properties={'assigner': 'cna@sap.com', 'id': 'CVE-2023-0013'}>>, <Record cvssv3=<Node element_id='4:de342d72-e7ff-4d5b-9a28-99eaa381965b:58' labels=frozenset({'CVSSV3'}) properties={'baseSeverity': 'CRITICAL', 'confidentialityImpact': 'HIGH', 'scope': 'UNCHANGED', 'attackComplexity': 'LOW', 'attackVector': 'NETWORK', 'availabilityImpact': 'HIGH', 'integrityImpact': 'HIGH', 'privilegesRequired': 'NONE', 'baseScore': 9.8, 'vectorString': 'CVSS:3.1/AV:N/AC:L/PR:N/UI:N/S:U/C:H/I:H/A:H', 'version': '3.1', 'userInteraction': 'NONE'}> cve=<Node element_id='4:de342d72-e7ff-4d5b-9a28-99eaa381965b:2' labels=frozenset({'CVE'}) properties={'assigner': 'cna@sap.com', 'id': 'CVE-2023-0014'}>>, <Record cvssv3=<Node element_id='4:de342d72-e7ff-4d5b-9a28-99eaa381965b:60' labels=frozenset({'CVSSV3'}) properties={'baseSeverity': 'MEDIUM', 'confidentialityImpact': 'LOW', 'scope': 'CHANGED', 'attackComplexity': 'LOW', 'attackVector': 'NETWORK', 'availabilityImpact': 'NONE', 'integrityImpact': 'LOW', 'privilegesRequired': 'LOW', 'baseScore': 5.4, 'vectorString': 'CVSS:3.1/AV:N/AC:L/PR:L/UI:R/S:C/C:L/I:L/A:N', 'version': '3.1', 'userInteraction': 'REQUIRED'}> cve=<Node element_id='4:de342d72-e7ff-4d5b-9a28-99eaa381965b:3' labels=frozenset({'CVE'}) properties={'assigner': 'cna@sap.com', 'id': 'CVE-2023-0015'}>>, <Record cvssv3=<Node element_id='4:de342d72-e7ff-4d5b-9a28-99eaa381965b:62' labels=frozenset({'CVSSV3'}) properties={'baseSeverity': 'HIGH', 'confidentialityImpact': 'HIGH', 'scope': 'UNCHANGED', 'attackComplexity': 'LOW', 'attackVector': 'NETWORK', 'availabilityImpact': 'HIGH', 'integrityImpact': 'HIGH', 'privilegesRequired': 'LOW', 'baseScore': 8.8, 'vectorString': 'CVSS:3.1/AV:N/AC:L/PR:L/UI:N/S:U/C:H/I:H/A:H', 'userInteraction': 'NONE', 'version': '3.1'}> cve=<Node element_id='4:de342d72-e7ff-4d5b-9a28-99eaa381965b:4' labels=frozenset({'CVE'}) properties={'assigner': 'cna@sap.com', 'id': 'CVE-2023-0016'}>>, <Record cvssv3=<Node element_id='4:de342d72-e7ff-4d5b-9a28-99eaa381965b:64' labels=frozenset({'CVSSV3'}) properties={'baseSeverity': 'CRITICAL', 'confidentialityImpact': 'HIGH', 'scope': 'UNCHANGED', 'attackComplexity': 'LOW', 'attackVector': 'NETWORK', 'availabilityImpact': 'HIGH', 'integrityImpact': 'HIGH', 'privilegesRequired': 'NONE', 'baseScore': 9.8, 'vectorString': 'CVSS:3.1/AV:N/AC:L/PR:N/UI:N/S:U/C:H/I:H/A:H', 'version': '3.1', 'userInteraction': 'NONE'}> cve=<Node element_id='4:de342d72-e7ff-4d5b-9a28-99eaa381965b:5' labels=frozenset({'CVE'}) properties={'assigner': 'cna@sap.com', 'id': 'CVE-2023-0017'}>>, <Record cvssv3=<Node element_id='4:de342d72-e7ff-4d5b-9a28-99eaa381965b:66' labels=frozenset({'CVSSV3'}) properties={'baseSeverity': 'MEDIUM', 'confidentialityImpact': 'LOW', 'scope': 'CHANGED', 'attackComplexity': 'LOW', 'attackVector': 'NETWORK', 'availabilityImpact': 'NONE', 'integrityImpact': 'LOW', 'privilegesRequired': 'NONE', 'baseScore': 6.1, 'vectorString': 'CVSS:3.1/AV:N/AC:L/PR:N/UI:R/S:C/C:L/I:L/A:N', 'version': '3.1', 'userInteraction': 'REQUIRED'}> cve=<Node element_id='4:de342d72-e7ff-4d5b-9a28-99eaa381965b:6' labels=frozenset({'CVE'}) properties={'assigner': 'cna@sap.com', 'id': 'CVE-2023-0018'}>>, <Record cvssv3=<Node element_id='4:de342d72-e7ff-4d5b-9a28-99eaa381965b:68' labels=frozenset({'CVSSV3'}) properties={'baseSeverity': 'HIGH', 'confidentialityImpact': 'HIGH', 'scope': 'UNCHANGED', 'attackComplexity': 'LOW', 'attackVector': 'NETWORK', 'availabilityImpact': 'HIGH', 'integrityImpact': 'HIGH', 'privilegesRequired': 'LOW', 'baseScore': 8.8, 'vectorString': 'CVSS:3.1/AV:N/AC:L/PR:L/UI:N/S:U/C:H/I:H/A:H', 'userInteraction': 'NONE', 'version': '3.1'}> cve=<Node element_id='4:de342d72-e7ff-4d5b-9a28-99eaa381965b:7' labels=frozenset({'CVE'}) properties={'assigner': 'cna@sap.com', 'id': 'CVE-2023-0022'}>>, <Record cvssv3=<Node element_id='4:de342d72-e7ff-4d5b-9a28-99eaa381965b:70' labels=frozenset({'CVSSV3'}) properties={'baseSeverity': 'MEDIUM', 'confidentialityImpact': 'HIGH', 'scope': 'UNCHANGED', 'attackComplexity': 'LOW', 'attackVector': 'NETWORK', 'availabilityImpact': 'NONE', 'integrityImpact': 'NONE', 'privilegesRequired': 'LOW', 'baseScore': 5.7, 'vectorString': 'CVSS:3.1/AV:N/AC:L/PR:L/UI:R/S:U/C:H/I:N/A:N', 'version': '3.1', 'userInteraction': 'REQUIRED'}> cve=<Node element_id='4:de342d72-e7ff-4d5b-9a28-99eaa381965b:8' labels=frozenset({'CVE'}) properties={'assigner': 'cna@sap.com', 'id': 'CVE-2023-0023'}>>, <Record cvssv3=<Node element_id='4:de342d72-e7ff-4d5b-9a28-99eaa381965b:72' labels=frozenset({'CVSSV3'}) properties={'baseSeverity': 'MEDIUM', 'confidentialityImpact': 'LOW', 'scope': 'CHANGED', 'attackComplexity': 'LOW', 'attackVector': 'NETWORK', 'availabilityImpact': 'NONE', 'integrityImpact': 'LOW', 'privilegesRequired': 'NONE', 'baseScore': 6.1, 'vectorString': 'CVSS:3.1/AV:N/AC:L/PR:N/UI:R/S:C/C:L/I:L/A:N', 'version': '3.1', 'userInteraction': 'REQUIRED'}> cve=<Node element_id='4:de342d72-e7ff-4d5b-9a28-99eaa381965b:9' labels=frozenset({'CVE'}) properties={'assigner': 'security@huntr.dev', 'id': 'CVE-2023-0028'}>>, <Record cvssv3=<Node element_id='4:de342d72-e7ff-4d5b-9a28-99eaa381965b:74' labels=frozenset({'CVSSV3'}) properties={'baseSeverity': 'HIGH', 'confidentialityImpact': 'NONE', 'scope': 'UNCHANGED', 'attackComplexity': 'LOW', 'attackVector': 'NETWORK', 'availabilityImpact': 'HIGH', 'integrityImpact': 'NONE', 'privilegesRequired': 'NONE', 'baseScore': 7.5, 'vectorString': 'CVSS:3.1/AV:N/AC:L/PR:N/UI:N/S:U/C:N/I:N/A:H', 'userInteraction': 'NONE', 'version': '3.1'}> cve=<Node element_id='4:de342d72-e7ff-4d5b-9a28-99eaa381965b:10' labels=frozenset({'CVE'}) properties={'assigner': 'cna@vuldb.com', 'id': 'CVE-2023-0029'}>>]\n"
          ]
        }
      ]
    },
    {
      "cell_type": "code",
      "source": [
        "# Q4 What are the vulnerabilities that attackers can exploit by applying the same attack?\n",
        "\n",
        "explore_reviews_csv_query = \"\"\"\n",
        "MATCH (cve1)-[:SIMILAR_TO]->(cve2)\n",
        "MATCH (Entities)<-[:VULNERABLE_TO]-(cve)\n",
        "RETURN cve1,cve2,Entities\n",
        "\n",
        "\"\"\"\n",
        "result = conn.query(explore_reviews_csv_query)\n",
        "print(result)"
      ],
      "metadata": {
        "colab": {
          "base_uri": "https://localhost:8080/"
        },
        "id": "v9AvlI1axfrU",
        "outputId": "451094de-6ecc-49a8-8a1f-19f98b24250f"
      },
      "execution_count": 352,
      "outputs": [
        {
          "output_type": "stream",
          "name": "stdout",
          "text": [
            "[<Record cve1=<Node element_id='4:de342d72-e7ff-4d5b-9a28-99eaa381965b:1' labels=frozenset({'CVE'}) properties={'assigner': 'cna@sap.com', 'id': 'CVE-2023-0013'}> cve2=<Node element_id='4:de342d72-e7ff-4d5b-9a28-99eaa381965b:3' labels=frozenset({'CVE'}) properties={'assigner': 'cna@sap.com', 'id': 'CVE-2023-0015'}> Entities=<Node element_id='4:de342d72-e7ff-4d5b-9a28-99eaa381965b:6' labels=frozenset({'CVE'}) properties={'assigner': 'cna@sap.com', 'id': 'CVE-2023-0018'}>>, <Record cve1=<Node element_id='4:de342d72-e7ff-4d5b-9a28-99eaa381965b:1' labels=frozenset({'CVE'}) properties={'assigner': 'cna@sap.com', 'id': 'CVE-2023-0013'}> cve2=<Node element_id='4:de342d72-e7ff-4d5b-9a28-99eaa381965b:3' labels=frozenset({'CVE'}) properties={'assigner': 'cna@sap.com', 'id': 'CVE-2023-0015'}> Entities=<Node element_id='4:de342d72-e7ff-4d5b-9a28-99eaa381965b:9' labels=frozenset({'CVE'}) properties={'assigner': 'security@huntr.dev', 'id': 'CVE-2023-0028'}>>, <Record cve1=<Node element_id='4:de342d72-e7ff-4d5b-9a28-99eaa381965b:1' labels=frozenset({'CVE'}) properties={'assigner': 'cna@sap.com', 'id': 'CVE-2023-0013'}> cve2=<Node element_id='4:de342d72-e7ff-4d5b-9a28-99eaa381965b:3' labels=frozenset({'CVE'}) properties={'assigner': 'cna@sap.com', 'id': 'CVE-2023-0015'}> Entities=<Node element_id='4:de342d72-e7ff-4d5b-9a28-99eaa381965b:3' labels=frozenset({'CVE'}) properties={'assigner': 'cna@sap.com', 'id': 'CVE-2023-0015'}>>, <Record cve1=<Node element_id='4:de342d72-e7ff-4d5b-9a28-99eaa381965b:1' labels=frozenset({'CVE'}) properties={'assigner': 'cna@sap.com', 'id': 'CVE-2023-0013'}> cve2=<Node element_id='4:de342d72-e7ff-4d5b-9a28-99eaa381965b:3' labels=frozenset({'CVE'}) properties={'assigner': 'cna@sap.com', 'id': 'CVE-2023-0015'}> Entities=<Node element_id='4:de342d72-e7ff-4d5b-9a28-99eaa381965b:1' labels=frozenset({'CVE'}) properties={'assigner': 'cna@sap.com', 'id': 'CVE-2023-0013'}>>, <Record cve1=<Node element_id='4:de342d72-e7ff-4d5b-9a28-99eaa381965b:1' labels=frozenset({'CVE'}) properties={'assigner': 'cna@sap.com', 'id': 'CVE-2023-0013'}> cve2=<Node element_id='4:de342d72-e7ff-4d5b-9a28-99eaa381965b:3' labels=frozenset({'CVE'}) properties={'assigner': 'cna@sap.com', 'id': 'CVE-2023-0015'}> Entities=<Node element_id='4:de342d72-e7ff-4d5b-9a28-99eaa381965b:7' labels=frozenset({'CVE'}) properties={'assigner': 'cna@sap.com', 'id': 'CVE-2023-0022'}>>, <Record cve1=<Node element_id='4:de342d72-e7ff-4d5b-9a28-99eaa381965b:1' labels=frozenset({'CVE'}) properties={'assigner': 'cna@sap.com', 'id': 'CVE-2023-0013'}> cve2=<Node element_id='4:de342d72-e7ff-4d5b-9a28-99eaa381965b:3' labels=frozenset({'CVE'}) properties={'assigner': 'cna@sap.com', 'id': 'CVE-2023-0015'}> Entities=<Node element_id='4:de342d72-e7ff-4d5b-9a28-99eaa381965b:7' labels=frozenset({'CVE'}) properties={'assigner': 'cna@sap.com', 'id': 'CVE-2023-0022'}>>, <Record cve1=<Node element_id='4:de342d72-e7ff-4d5b-9a28-99eaa381965b:1' labels=frozenset({'CVE'}) properties={'assigner': 'cna@sap.com', 'id': 'CVE-2023-0013'}> cve2=<Node element_id='4:de342d72-e7ff-4d5b-9a28-99eaa381965b:3' labels=frozenset({'CVE'}) properties={'assigner': 'cna@sap.com', 'id': 'CVE-2023-0015'}> Entities=<Node element_id='4:de342d72-e7ff-4d5b-9a28-99eaa381965b:2' labels=frozenset({'CVE'}) properties={'assigner': 'cna@sap.com', 'id': 'CVE-2023-0014'}>>, <Record cve1=<Node element_id='4:de342d72-e7ff-4d5b-9a28-99eaa381965b:1' labels=frozenset({'CVE'}) properties={'assigner': 'cna@sap.com', 'id': 'CVE-2023-0013'}> cve2=<Node element_id='4:de342d72-e7ff-4d5b-9a28-99eaa381965b:3' labels=frozenset({'CVE'}) properties={'assigner': 'cna@sap.com', 'id': 'CVE-2023-0015'}> Entities=<Node element_id='4:de342d72-e7ff-4d5b-9a28-99eaa381965b:6' labels=frozenset({'CVE'}) properties={'assigner': 'cna@sap.com', 'id': 'CVE-2023-0018'}>>, <Record cve1=<Node element_id='4:de342d72-e7ff-4d5b-9a28-99eaa381965b:1' labels=frozenset({'CVE'}) properties={'assigner': 'cna@sap.com', 'id': 'CVE-2023-0013'}> cve2=<Node element_id='4:de342d72-e7ff-4d5b-9a28-99eaa381965b:3' labels=frozenset({'CVE'}) properties={'assigner': 'cna@sap.com', 'id': 'CVE-2023-0015'}> Entities=<Node element_id='4:de342d72-e7ff-4d5b-9a28-99eaa381965b:9' labels=frozenset({'CVE'}) properties={'assigner': 'security@huntr.dev', 'id': 'CVE-2023-0028'}>>, <Record cve1=<Node element_id='4:de342d72-e7ff-4d5b-9a28-99eaa381965b:1' labels=frozenset({'CVE'}) properties={'assigner': 'cna@sap.com', 'id': 'CVE-2023-0013'}> cve2=<Node element_id='4:de342d72-e7ff-4d5b-9a28-99eaa381965b:3' labels=frozenset({'CVE'}) properties={'assigner': 'cna@sap.com', 'id': 'CVE-2023-0015'}> Entities=<Node element_id='4:de342d72-e7ff-4d5b-9a28-99eaa381965b:3' labels=frozenset({'CVE'}) properties={'assigner': 'cna@sap.com', 'id': 'CVE-2023-0015'}>>, <Record cve1=<Node element_id='4:de342d72-e7ff-4d5b-9a28-99eaa381965b:1' labels=frozenset({'CVE'}) properties={'assigner': 'cna@sap.com', 'id': 'CVE-2023-0013'}> cve2=<Node element_id='4:de342d72-e7ff-4d5b-9a28-99eaa381965b:3' labels=frozenset({'CVE'}) properties={'assigner': 'cna@sap.com', 'id': 'CVE-2023-0015'}> Entities=<Node element_id='4:de342d72-e7ff-4d5b-9a28-99eaa381965b:1' labels=frozenset({'CVE'}) properties={'assigner': 'cna@sap.com', 'id': 'CVE-2023-0013'}>>, <Record cve1=<Node element_id='4:de342d72-e7ff-4d5b-9a28-99eaa381965b:1' labels=frozenset({'CVE'}) properties={'assigner': 'cna@sap.com', 'id': 'CVE-2023-0013'}> cve2=<Node element_id='4:de342d72-e7ff-4d5b-9a28-99eaa381965b:3' labels=frozenset({'CVE'}) properties={'assigner': 'cna@sap.com', 'id': 'CVE-2023-0015'}> Entities=<Node element_id='4:de342d72-e7ff-4d5b-9a28-99eaa381965b:8' labels=frozenset({'CVE'}) properties={'assigner': 'cna@sap.com', 'id': 'CVE-2023-0023'}>>, <Record cve1=<Node element_id='4:de342d72-e7ff-4d5b-9a28-99eaa381965b:1' labels=frozenset({'CVE'}) properties={'assigner': 'cna@sap.com', 'id': 'CVE-2023-0013'}> cve2=<Node element_id='4:de342d72-e7ff-4d5b-9a28-99eaa381965b:3' labels=frozenset({'CVE'}) properties={'assigner': 'cna@sap.com', 'id': 'CVE-2023-0015'}> Entities=<Node element_id='4:de342d72-e7ff-4d5b-9a28-99eaa381965b:0' labels=frozenset({'CVE'}) properties={'assigner': 'cna@sap.com', 'id': 'CVE-2023-0012'}>>, <Record cve1=<Node element_id='4:de342d72-e7ff-4d5b-9a28-99eaa381965b:1' labels=frozenset({'CVE'}) properties={'assigner': 'cna@sap.com', 'id': 'CVE-2023-0013'}> cve2=<Node element_id='4:de342d72-e7ff-4d5b-9a28-99eaa381965b:3' labels=frozenset({'CVE'}) properties={'assigner': 'cna@sap.com', 'id': 'CVE-2023-0015'}> Entities=<Node element_id='4:de342d72-e7ff-4d5b-9a28-99eaa381965b:5' labels=frozenset({'CVE'}) properties={'assigner': 'cna@sap.com', 'id': 'CVE-2023-0017'}>>, <Record cve1=<Node element_id='4:de342d72-e7ff-4d5b-9a28-99eaa381965b:1' labels=frozenset({'CVE'}) properties={'assigner': 'cna@sap.com', 'id': 'CVE-2023-0013'}> cve2=<Node element_id='4:de342d72-e7ff-4d5b-9a28-99eaa381965b:3' labels=frozenset({'CVE'}) properties={'assigner': 'cna@sap.com', 'id': 'CVE-2023-0015'}> Entities=<Node element_id='4:de342d72-e7ff-4d5b-9a28-99eaa381965b:0' labels=frozenset({'CVE'}) properties={'assigner': 'cna@sap.com', 'id': 'CVE-2023-0012'}>>, <Record cve1=<Node element_id='4:de342d72-e7ff-4d5b-9a28-99eaa381965b:1' labels=frozenset({'CVE'}) properties={'assigner': 'cna@sap.com', 'id': 'CVE-2023-0013'}> cve2=<Node element_id='4:de342d72-e7ff-4d5b-9a28-99eaa381965b:3' labels=frozenset({'CVE'}) properties={'assigner': 'cna@sap.com', 'id': 'CVE-2023-0015'}> Entities=<Node element_id='4:de342d72-e7ff-4d5b-9a28-99eaa381965b:0' labels=frozenset({'CVE'}) properties={'assigner': 'cna@sap.com', 'id': 'CVE-2023-0012'}>>, <Record cve1=<Node element_id='4:de342d72-e7ff-4d5b-9a28-99eaa381965b:1' labels=frozenset({'CVE'}) properties={'assigner': 'cna@sap.com', 'id': 'CVE-2023-0013'}> cve2=<Node element_id='4:de342d72-e7ff-4d5b-9a28-99eaa381965b:3' labels=frozenset({'CVE'}) properties={'assigner': 'cna@sap.com', 'id': 'CVE-2023-0015'}> Entities=<Node element_id='4:de342d72-e7ff-4d5b-9a28-99eaa381965b:5' labels=frozenset({'CVE'}) properties={'assigner': 'cna@sap.com', 'id': 'CVE-2023-0017'}>>, <Record cve1=<Node element_id='4:de342d72-e7ff-4d5b-9a28-99eaa381965b:1' labels=frozenset({'CVE'}) properties={'assigner': 'cna@sap.com', 'id': 'CVE-2023-0013'}> cve2=<Node element_id='4:de342d72-e7ff-4d5b-9a28-99eaa381965b:3' labels=frozenset({'CVE'}) properties={'assigner': 'cna@sap.com', 'id': 'CVE-2023-0015'}> Entities=<Node element_id='4:de342d72-e7ff-4d5b-9a28-99eaa381965b:5' labels=frozenset({'CVE'}) properties={'assigner': 'cna@sap.com', 'id': 'CVE-2023-0017'}>>, <Record cve1=<Node element_id='4:de342d72-e7ff-4d5b-9a28-99eaa381965b:1' labels=frozenset({'CVE'}) properties={'assigner': 'cna@sap.com', 'id': 'CVE-2023-0013'}> cve2=<Node element_id='4:de342d72-e7ff-4d5b-9a28-99eaa381965b:3' labels=frozenset({'CVE'}) properties={'assigner': 'cna@sap.com', 'id': 'CVE-2023-0015'}> Entities=<Node element_id='4:de342d72-e7ff-4d5b-9a28-99eaa381965b:6' labels=frozenset({'CVE'}) properties={'assigner': 'cna@sap.com', 'id': 'CVE-2023-0018'}>>, <Record cve1=<Node element_id='4:de342d72-e7ff-4d5b-9a28-99eaa381965b:1' labels=frozenset({'CVE'}) properties={'assigner': 'cna@sap.com', 'id': 'CVE-2023-0013'}> cve2=<Node element_id='4:de342d72-e7ff-4d5b-9a28-99eaa381965b:3' labels=frozenset({'CVE'}) properties={'assigner': 'cna@sap.com', 'id': 'CVE-2023-0015'}> Entities=<Node element_id='4:de342d72-e7ff-4d5b-9a28-99eaa381965b:6' labels=frozenset({'CVE'}) properties={'assigner': 'cna@sap.com', 'id': 'CVE-2023-0018'}>>, <Record cve1=<Node element_id='4:de342d72-e7ff-4d5b-9a28-99eaa381965b:1' labels=frozenset({'CVE'}) properties={'assigner': 'cna@sap.com', 'id': 'CVE-2023-0013'}> cve2=<Node element_id='4:de342d72-e7ff-4d5b-9a28-99eaa381965b:3' labels=frozenset({'CVE'}) properties={'assigner': 'cna@sap.com', 'id': 'CVE-2023-0015'}> Entities=<Node element_id='4:de342d72-e7ff-4d5b-9a28-99eaa381965b:6' labels=frozenset({'CVE'}) properties={'assigner': 'cna@sap.com', 'id': 'CVE-2023-0018'}>>, <Record cve1=<Node element_id='4:de342d72-e7ff-4d5b-9a28-99eaa381965b:1' labels=frozenset({'CVE'}) properties={'assigner': 'cna@sap.com', 'id': 'CVE-2023-0013'}> cve2=<Node element_id='4:de342d72-e7ff-4d5b-9a28-99eaa381965b:3' labels=frozenset({'CVE'}) properties={'assigner': 'cna@sap.com', 'id': 'CVE-2023-0015'}> Entities=<Node element_id='4:de342d72-e7ff-4d5b-9a28-99eaa381965b:6' labels=frozenset({'CVE'}) properties={'assigner': 'cna@sap.com', 'id': 'CVE-2023-0018'}>>, <Record cve1=<Node element_id='4:de342d72-e7ff-4d5b-9a28-99eaa381965b:1' labels=frozenset({'CVE'}) properties={'assigner': 'cna@sap.com', 'id': 'CVE-2023-0013'}> cve2=<Node element_id='4:de342d72-e7ff-4d5b-9a28-99eaa381965b:3' labels=frozenset({'CVE'}) properties={'assigner': 'cna@sap.com', 'id': 'CVE-2023-0015'}> Entities=<Node element_id='4:de342d72-e7ff-4d5b-9a28-99eaa381965b:9' labels=frozenset({'CVE'}) properties={'assigner': 'security@huntr.dev', 'id': 'CVE-2023-0028'}>>, <Record cve1=<Node element_id='4:de342d72-e7ff-4d5b-9a28-99eaa381965b:1' labels=frozenset({'CVE'}) properties={'assigner': 'cna@sap.com', 'id': 'CVE-2023-0013'}> cve2=<Node element_id='4:de342d72-e7ff-4d5b-9a28-99eaa381965b:3' labels=frozenset({'CVE'}) properties={'assigner': 'cna@sap.com', 'id': 'CVE-2023-0015'}> Entities=<Node element_id='4:de342d72-e7ff-4d5b-9a28-99eaa381965b:9' labels=frozenset({'CVE'}) properties={'assigner': 'security@huntr.dev', 'id': 'CVE-2023-0028'}>>, <Record cve1=<Node element_id='4:de342d72-e7ff-4d5b-9a28-99eaa381965b:1' labels=frozenset({'CVE'}) properties={'assigner': 'cna@sap.com', 'id': 'CVE-2023-0013'}> cve2=<Node element_id='4:de342d72-e7ff-4d5b-9a28-99eaa381965b:3' labels=frozenset({'CVE'}) properties={'assigner': 'cna@sap.com', 'id': 'CVE-2023-0015'}> Entities=<Node element_id='4:de342d72-e7ff-4d5b-9a28-99eaa381965b:9' labels=frozenset({'CVE'}) properties={'assigner': 'security@huntr.dev', 'id': 'CVE-2023-0028'}>>, <Record cve1=<Node element_id='4:de342d72-e7ff-4d5b-9a28-99eaa381965b:1' labels=frozenset({'CVE'}) properties={'assigner': 'cna@sap.com', 'id': 'CVE-2023-0013'}> cve2=<Node element_id='4:de342d72-e7ff-4d5b-9a28-99eaa381965b:3' labels=frozenset({'CVE'}) properties={'assigner': 'cna@sap.com', 'id': 'CVE-2023-0015'}> Entities=<Node element_id='4:de342d72-e7ff-4d5b-9a28-99eaa381965b:9' labels=frozenset({'CVE'}) properties={'assigner': 'security@huntr.dev', 'id': 'CVE-2023-0028'}>>, <Record cve1=<Node element_id='4:de342d72-e7ff-4d5b-9a28-99eaa381965b:1' labels=frozenset({'CVE'}) properties={'assigner': 'cna@sap.com', 'id': 'CVE-2023-0013'}> cve2=<Node element_id='4:de342d72-e7ff-4d5b-9a28-99eaa381965b:3' labels=frozenset({'CVE'}) properties={'assigner': 'cna@sap.com', 'id': 'CVE-2023-0015'}> Entities=<Node element_id='4:de342d72-e7ff-4d5b-9a28-99eaa381965b:3' labels=frozenset({'CVE'}) properties={'assigner': 'cna@sap.com', 'id': 'CVE-2023-0015'}>>, <Record cve1=<Node element_id='4:de342d72-e7ff-4d5b-9a28-99eaa381965b:1' labels=frozenset({'CVE'}) properties={'assigner': 'cna@sap.com', 'id': 'CVE-2023-0013'}> cve2=<Node element_id='4:de342d72-e7ff-4d5b-9a28-99eaa381965b:3' labels=frozenset({'CVE'}) properties={'assigner': 'cna@sap.com', 'id': 'CVE-2023-0015'}> Entities=<Node element_id='4:de342d72-e7ff-4d5b-9a28-99eaa381965b:3' labels=frozenset({'CVE'}) properties={'assigner': 'cna@sap.com', 'id': 'CVE-2023-0015'}>>, <Record cve1=<Node element_id='4:de342d72-e7ff-4d5b-9a28-99eaa381965b:1' labels=frozenset({'CVE'}) properties={'assigner': 'cna@sap.com', 'id': 'CVE-2023-0013'}> cve2=<Node element_id='4:de342d72-e7ff-4d5b-9a28-99eaa381965b:3' labels=frozenset({'CVE'}) properties={'assigner': 'cna@sap.com', 'id': 'CVE-2023-0015'}> Entities=<Node element_id='4:de342d72-e7ff-4d5b-9a28-99eaa381965b:3' labels=frozenset({'CVE'}) properties={'assigner': 'cna@sap.com', 'id': 'CVE-2023-0015'}>>, <Record cve1=<Node element_id='4:de342d72-e7ff-4d5b-9a28-99eaa381965b:1' labels=frozenset({'CVE'}) properties={'assigner': 'cna@sap.com', 'id': 'CVE-2023-0013'}> cve2=<Node element_id='4:de342d72-e7ff-4d5b-9a28-99eaa381965b:3' labels=frozenset({'CVE'}) properties={'assigner': 'cna@sap.com', 'id': 'CVE-2023-0015'}> Entities=<Node element_id='4:de342d72-e7ff-4d5b-9a28-99eaa381965b:3' labels=frozenset({'CVE'}) properties={'assigner': 'cna@sap.com', 'id': 'CVE-2023-0015'}>>, <Record cve1=<Node element_id='4:de342d72-e7ff-4d5b-9a28-99eaa381965b:1' labels=frozenset({'CVE'}) properties={'assigner': 'cna@sap.com', 'id': 'CVE-2023-0013'}> cve2=<Node element_id='4:de342d72-e7ff-4d5b-9a28-99eaa381965b:3' labels=frozenset({'CVE'}) properties={'assigner': 'cna@sap.com', 'id': 'CVE-2023-0015'}> Entities=<Node element_id='4:de342d72-e7ff-4d5b-9a28-99eaa381965b:1' labels=frozenset({'CVE'}) properties={'assigner': 'cna@sap.com', 'id': 'CVE-2023-0013'}>>, <Record cve1=<Node element_id='4:de342d72-e7ff-4d5b-9a28-99eaa381965b:1' labels=frozenset({'CVE'}) properties={'assigner': 'cna@sap.com', 'id': 'CVE-2023-0013'}> cve2=<Node element_id='4:de342d72-e7ff-4d5b-9a28-99eaa381965b:3' labels=frozenset({'CVE'}) properties={'assigner': 'cna@sap.com', 'id': 'CVE-2023-0015'}> Entities=<Node element_id='4:de342d72-e7ff-4d5b-9a28-99eaa381965b:1' labels=frozenset({'CVE'}) properties={'assigner': 'cna@sap.com', 'id': 'CVE-2023-0013'}>>, <Record cve1=<Node element_id='4:de342d72-e7ff-4d5b-9a28-99eaa381965b:1' labels=frozenset({'CVE'}) properties={'assigner': 'cna@sap.com', 'id': 'CVE-2023-0013'}> cve2=<Node element_id='4:de342d72-e7ff-4d5b-9a28-99eaa381965b:3' labels=frozenset({'CVE'}) properties={'assigner': 'cna@sap.com', 'id': 'CVE-2023-0015'}> Entities=<Node element_id='4:de342d72-e7ff-4d5b-9a28-99eaa381965b:1' labels=frozenset({'CVE'}) properties={'assigner': 'cna@sap.com', 'id': 'CVE-2023-0013'}>>, <Record cve1=<Node element_id='4:de342d72-e7ff-4d5b-9a28-99eaa381965b:1' labels=frozenset({'CVE'}) properties={'assigner': 'cna@sap.com', 'id': 'CVE-2023-0013'}> cve2=<Node element_id='4:de342d72-e7ff-4d5b-9a28-99eaa381965b:3' labels=frozenset({'CVE'}) properties={'assigner': 'cna@sap.com', 'id': 'CVE-2023-0015'}> Entities=<Node element_id='4:de342d72-e7ff-4d5b-9a28-99eaa381965b:1' labels=frozenset({'CVE'}) properties={'assigner': 'cna@sap.com', 'id': 'CVE-2023-0013'}>>, <Record cve1=<Node element_id='4:de342d72-e7ff-4d5b-9a28-99eaa381965b:1' labels=frozenset({'CVE'}) properties={'assigner': 'cna@sap.com', 'id': 'CVE-2023-0013'}> cve2=<Node element_id='4:de342d72-e7ff-4d5b-9a28-99eaa381965b:3' labels=frozenset({'CVE'}) properties={'assigner': 'cna@sap.com', 'id': 'CVE-2023-0015'}> Entities=<Node element_id='4:de342d72-e7ff-4d5b-9a28-99eaa381965b:6' labels=frozenset({'CVE'}) properties={'assigner': 'cna@sap.com', 'id': 'CVE-2023-0018'}>>, <Record cve1=<Node element_id='4:de342d72-e7ff-4d5b-9a28-99eaa381965b:1' labels=frozenset({'CVE'}) properties={'assigner': 'cna@sap.com', 'id': 'CVE-2023-0013'}> cve2=<Node element_id='4:de342d72-e7ff-4d5b-9a28-99eaa381965b:3' labels=frozenset({'CVE'}) properties={'assigner': 'cna@sap.com', 'id': 'CVE-2023-0015'}> Entities=<Node element_id='4:de342d72-e7ff-4d5b-9a28-99eaa381965b:6' labels=frozenset({'CVE'}) properties={'assigner': 'cna@sap.com', 'id': 'CVE-2023-0018'}>>, <Record cve1=<Node element_id='4:de342d72-e7ff-4d5b-9a28-99eaa381965b:1' labels=frozenset({'CVE'}) properties={'assigner': 'cna@sap.com', 'id': 'CVE-2023-0013'}> cve2=<Node element_id='4:de342d72-e7ff-4d5b-9a28-99eaa381965b:3' labels=frozenset({'CVE'}) properties={'assigner': 'cna@sap.com', 'id': 'CVE-2023-0015'}> Entities=<Node element_id='4:de342d72-e7ff-4d5b-9a28-99eaa381965b:9' labels=frozenset({'CVE'}) properties={'assigner': 'security@huntr.dev', 'id': 'CVE-2023-0028'}>>, <Record cve1=<Node element_id='4:de342d72-e7ff-4d5b-9a28-99eaa381965b:1' labels=frozenset({'CVE'}) properties={'assigner': 'cna@sap.com', 'id': 'CVE-2023-0013'}> cve2=<Node element_id='4:de342d72-e7ff-4d5b-9a28-99eaa381965b:3' labels=frozenset({'CVE'}) properties={'assigner': 'cna@sap.com', 'id': 'CVE-2023-0015'}> Entities=<Node element_id='4:de342d72-e7ff-4d5b-9a28-99eaa381965b:9' labels=frozenset({'CVE'}) properties={'assigner': 'security@huntr.dev', 'id': 'CVE-2023-0028'}>>, <Record cve1=<Node element_id='4:de342d72-e7ff-4d5b-9a28-99eaa381965b:1' labels=frozenset({'CVE'}) properties={'assigner': 'cna@sap.com', 'id': 'CVE-2023-0013'}> cve2=<Node element_id='4:de342d72-e7ff-4d5b-9a28-99eaa381965b:3' labels=frozenset({'CVE'}) properties={'assigner': 'cna@sap.com', 'id': 'CVE-2023-0015'}> Entities=<Node element_id='4:de342d72-e7ff-4d5b-9a28-99eaa381965b:3' labels=frozenset({'CVE'}) properties={'assigner': 'cna@sap.com', 'id': 'CVE-2023-0015'}>>, <Record cve1=<Node element_id='4:de342d72-e7ff-4d5b-9a28-99eaa381965b:1' labels=frozenset({'CVE'}) properties={'assigner': 'cna@sap.com', 'id': 'CVE-2023-0013'}> cve2=<Node element_id='4:de342d72-e7ff-4d5b-9a28-99eaa381965b:3' labels=frozenset({'CVE'}) properties={'assigner': 'cna@sap.com', 'id': 'CVE-2023-0015'}> Entities=<Node element_id='4:de342d72-e7ff-4d5b-9a28-99eaa381965b:3' labels=frozenset({'CVE'}) properties={'assigner': 'cna@sap.com', 'id': 'CVE-2023-0015'}>>, <Record cve1=<Node element_id='4:de342d72-e7ff-4d5b-9a28-99eaa381965b:1' labels=frozenset({'CVE'}) properties={'assigner': 'cna@sap.com', 'id': 'CVE-2023-0013'}> cve2=<Node element_id='4:de342d72-e7ff-4d5b-9a28-99eaa381965b:3' labels=frozenset({'CVE'}) properties={'assigner': 'cna@sap.com', 'id': 'CVE-2023-0015'}> Entities=<Node element_id='4:de342d72-e7ff-4d5b-9a28-99eaa381965b:1' labels=frozenset({'CVE'}) properties={'assigner': 'cna@sap.com', 'id': 'CVE-2023-0013'}>>, <Record cve1=<Node element_id='4:de342d72-e7ff-4d5b-9a28-99eaa381965b:1' labels=frozenset({'CVE'}) properties={'assigner': 'cna@sap.com', 'id': 'CVE-2023-0013'}> cve2=<Node element_id='4:de342d72-e7ff-4d5b-9a28-99eaa381965b:3' labels=frozenset({'CVE'}) properties={'assigner': 'cna@sap.com', 'id': 'CVE-2023-0015'}> Entities=<Node element_id='4:de342d72-e7ff-4d5b-9a28-99eaa381965b:1' labels=frozenset({'CVE'}) properties={'assigner': 'cna@sap.com', 'id': 'CVE-2023-0013'}>>, <Record cve1=<Node element_id='4:de342d72-e7ff-4d5b-9a28-99eaa381965b:1' labels=frozenset({'CVE'}) properties={'assigner': 'cna@sap.com', 'id': 'CVE-2023-0013'}> cve2=<Node element_id='4:de342d72-e7ff-4d5b-9a28-99eaa381965b:3' labels=frozenset({'CVE'}) properties={'assigner': 'cna@sap.com', 'id': 'CVE-2023-0015'}> Entities=<Node element_id='4:de342d72-e7ff-4d5b-9a28-99eaa381965b:6' labels=frozenset({'CVE'}) properties={'assigner': 'cna@sap.com', 'id': 'CVE-2023-0018'}>>, <Record cve1=<Node element_id='4:de342d72-e7ff-4d5b-9a28-99eaa381965b:1' labels=frozenset({'CVE'}) properties={'assigner': 'cna@sap.com', 'id': 'CVE-2023-0013'}> cve2=<Node element_id='4:de342d72-e7ff-4d5b-9a28-99eaa381965b:3' labels=frozenset({'CVE'}) properties={'assigner': 'cna@sap.com', 'id': 'CVE-2023-0015'}> Entities=<Node element_id='4:de342d72-e7ff-4d5b-9a28-99eaa381965b:6' labels=frozenset({'CVE'}) properties={'assigner': 'cna@sap.com', 'id': 'CVE-2023-0018'}>>, <Record cve1=<Node element_id='4:de342d72-e7ff-4d5b-9a28-99eaa381965b:1' labels=frozenset({'CVE'}) properties={'assigner': 'cna@sap.com', 'id': 'CVE-2023-0013'}> cve2=<Node element_id='4:de342d72-e7ff-4d5b-9a28-99eaa381965b:3' labels=frozenset({'CVE'}) properties={'assigner': 'cna@sap.com', 'id': 'CVE-2023-0015'}> Entities=<Node element_id='4:de342d72-e7ff-4d5b-9a28-99eaa381965b:9' labels=frozenset({'CVE'}) properties={'assigner': 'security@huntr.dev', 'id': 'CVE-2023-0028'}>>, <Record cve1=<Node element_id='4:de342d72-e7ff-4d5b-9a28-99eaa381965b:1' labels=frozenset({'CVE'}) properties={'assigner': 'cna@sap.com', 'id': 'CVE-2023-0013'}> cve2=<Node element_id='4:de342d72-e7ff-4d5b-9a28-99eaa381965b:3' labels=frozenset({'CVE'}) properties={'assigner': 'cna@sap.com', 'id': 'CVE-2023-0015'}> Entities=<Node element_id='4:de342d72-e7ff-4d5b-9a28-99eaa381965b:9' labels=frozenset({'CVE'}) properties={'assigner': 'security@huntr.dev', 'id': 'CVE-2023-0028'}>>, <Record cve1=<Node element_id='4:de342d72-e7ff-4d5b-9a28-99eaa381965b:1' labels=frozenset({'CVE'}) properties={'assigner': 'cna@sap.com', 'id': 'CVE-2023-0013'}> cve2=<Node element_id='4:de342d72-e7ff-4d5b-9a28-99eaa381965b:3' labels=frozenset({'CVE'}) properties={'assigner': 'cna@sap.com', 'id': 'CVE-2023-0015'}> Entities=<Node element_id='4:de342d72-e7ff-4d5b-9a28-99eaa381965b:3' labels=frozenset({'CVE'}) properties={'assigner': 'cna@sap.com', 'id': 'CVE-2023-0015'}>>, <Record cve1=<Node element_id='4:de342d72-e7ff-4d5b-9a28-99eaa381965b:1' labels=frozenset({'CVE'}) properties={'assigner': 'cna@sap.com', 'id': 'CVE-2023-0013'}> cve2=<Node element_id='4:de342d72-e7ff-4d5b-9a28-99eaa381965b:3' labels=frozenset({'CVE'}) properties={'assigner': 'cna@sap.com', 'id': 'CVE-2023-0015'}> Entities=<Node element_id='4:de342d72-e7ff-4d5b-9a28-99eaa381965b:3' labels=frozenset({'CVE'}) properties={'assigner': 'cna@sap.com', 'id': 'CVE-2023-0015'}>>, <Record cve1=<Node element_id='4:de342d72-e7ff-4d5b-9a28-99eaa381965b:1' labels=frozenset({'CVE'}) properties={'assigner': 'cna@sap.com', 'id': 'CVE-2023-0013'}> cve2=<Node element_id='4:de342d72-e7ff-4d5b-9a28-99eaa381965b:3' labels=frozenset({'CVE'}) properties={'assigner': 'cna@sap.com', 'id': 'CVE-2023-0015'}> Entities=<Node element_id='4:de342d72-e7ff-4d5b-9a28-99eaa381965b:1' labels=frozenset({'CVE'}) properties={'assigner': 'cna@sap.com', 'id': 'CVE-2023-0013'}>>, <Record cve1=<Node element_id='4:de342d72-e7ff-4d5b-9a28-99eaa381965b:1' labels=frozenset({'CVE'}) properties={'assigner': 'cna@sap.com', 'id': 'CVE-2023-0013'}> cve2=<Node element_id='4:de342d72-e7ff-4d5b-9a28-99eaa381965b:3' labels=frozenset({'CVE'}) properties={'assigner': 'cna@sap.com', 'id': 'CVE-2023-0015'}> Entities=<Node element_id='4:de342d72-e7ff-4d5b-9a28-99eaa381965b:1' labels=frozenset({'CVE'}) properties={'assigner': 'cna@sap.com', 'id': 'CVE-2023-0013'}>>, <Record cve1=<Node element_id='4:de342d72-e7ff-4d5b-9a28-99eaa381965b:1' labels=frozenset({'CVE'}) properties={'assigner': 'cna@sap.com', 'id': 'CVE-2023-0013'}> cve2=<Node element_id='4:de342d72-e7ff-4d5b-9a28-99eaa381965b:3' labels=frozenset({'CVE'}) properties={'assigner': 'cna@sap.com', 'id': 'CVE-2023-0015'}> Entities=<Node element_id='4:de342d72-e7ff-4d5b-9a28-99eaa381965b:6' labels=frozenset({'CVE'}) properties={'assigner': 'cna@sap.com', 'id': 'CVE-2023-0018'}>>, <Record cve1=<Node element_id='4:de342d72-e7ff-4d5b-9a28-99eaa381965b:1' labels=frozenset({'CVE'}) properties={'assigner': 'cna@sap.com', 'id': 'CVE-2023-0013'}> cve2=<Node element_id='4:de342d72-e7ff-4d5b-9a28-99eaa381965b:3' labels=frozenset({'CVE'}) properties={'assigner': 'cna@sap.com', 'id': 'CVE-2023-0015'}> Entities=<Node element_id='4:de342d72-e7ff-4d5b-9a28-99eaa381965b:6' labels=frozenset({'CVE'}) properties={'assigner': 'cna@sap.com', 'id': 'CVE-2023-0018'}>>, <Record cve1=<Node element_id='4:de342d72-e7ff-4d5b-9a28-99eaa381965b:1' labels=frozenset({'CVE'}) properties={'assigner': 'cna@sap.com', 'id': 'CVE-2023-0013'}> cve2=<Node element_id='4:de342d72-e7ff-4d5b-9a28-99eaa381965b:3' labels=frozenset({'CVE'}) properties={'assigner': 'cna@sap.com', 'id': 'CVE-2023-0015'}> Entities=<Node element_id='4:de342d72-e7ff-4d5b-9a28-99eaa381965b:6' labels=frozenset({'CVE'}) properties={'assigner': 'cna@sap.com', 'id': 'CVE-2023-0018'}>>, <Record cve1=<Node element_id='4:de342d72-e7ff-4d5b-9a28-99eaa381965b:1' labels=frozenset({'CVE'}) properties={'assigner': 'cna@sap.com', 'id': 'CVE-2023-0013'}> cve2=<Node element_id='4:de342d72-e7ff-4d5b-9a28-99eaa381965b:3' labels=frozenset({'CVE'}) properties={'assigner': 'cna@sap.com', 'id': 'CVE-2023-0015'}> Entities=<Node element_id='4:de342d72-e7ff-4d5b-9a28-99eaa381965b:9' labels=frozenset({'CVE'}) properties={'assigner': 'security@huntr.dev', 'id': 'CVE-2023-0028'}>>, <Record cve1=<Node element_id='4:de342d72-e7ff-4d5b-9a28-99eaa381965b:1' labels=frozenset({'CVE'}) properties={'assigner': 'cna@sap.com', 'id': 'CVE-2023-0013'}> cve2=<Node element_id='4:de342d72-e7ff-4d5b-9a28-99eaa381965b:3' labels=frozenset({'CVE'}) properties={'assigner': 'cna@sap.com', 'id': 'CVE-2023-0015'}> Entities=<Node element_id='4:de342d72-e7ff-4d5b-9a28-99eaa381965b:9' labels=frozenset({'CVE'}) properties={'assigner': 'security@huntr.dev', 'id': 'CVE-2023-0028'}>>, <Record cve1=<Node element_id='4:de342d72-e7ff-4d5b-9a28-99eaa381965b:1' labels=frozenset({'CVE'}) properties={'assigner': 'cna@sap.com', 'id': 'CVE-2023-0013'}> cve2=<Node element_id='4:de342d72-e7ff-4d5b-9a28-99eaa381965b:3' labels=frozenset({'CVE'}) properties={'assigner': 'cna@sap.com', 'id': 'CVE-2023-0015'}> Entities=<Node element_id='4:de342d72-e7ff-4d5b-9a28-99eaa381965b:9' labels=frozenset({'CVE'}) properties={'assigner': 'security@huntr.dev', 'id': 'CVE-2023-0028'}>>, <Record cve1=<Node element_id='4:de342d72-e7ff-4d5b-9a28-99eaa381965b:1' labels=frozenset({'CVE'}) properties={'assigner': 'cna@sap.com', 'id': 'CVE-2023-0013'}> cve2=<Node element_id='4:de342d72-e7ff-4d5b-9a28-99eaa381965b:3' labels=frozenset({'CVE'}) properties={'assigner': 'cna@sap.com', 'id': 'CVE-2023-0015'}> Entities=<Node element_id='4:de342d72-e7ff-4d5b-9a28-99eaa381965b:3' labels=frozenset({'CVE'}) properties={'assigner': 'cna@sap.com', 'id': 'CVE-2023-0015'}>>, <Record cve1=<Node element_id='4:de342d72-e7ff-4d5b-9a28-99eaa381965b:1' labels=frozenset({'CVE'}) properties={'assigner': 'cna@sap.com', 'id': 'CVE-2023-0013'}> cve2=<Node element_id='4:de342d72-e7ff-4d5b-9a28-99eaa381965b:3' labels=frozenset({'CVE'}) properties={'assigner': 'cna@sap.com', 'id': 'CVE-2023-0015'}> Entities=<Node element_id='4:de342d72-e7ff-4d5b-9a28-99eaa381965b:3' labels=frozenset({'CVE'}) properties={'assigner': 'cna@sap.com', 'id': 'CVE-2023-0015'}>>, <Record cve1=<Node element_id='4:de342d72-e7ff-4d5b-9a28-99eaa381965b:1' labels=frozenset({'CVE'}) properties={'assigner': 'cna@sap.com', 'id': 'CVE-2023-0013'}> cve2=<Node element_id='4:de342d72-e7ff-4d5b-9a28-99eaa381965b:3' labels=frozenset({'CVE'}) properties={'assigner': 'cna@sap.com', 'id': 'CVE-2023-0015'}> Entities=<Node element_id='4:de342d72-e7ff-4d5b-9a28-99eaa381965b:3' labels=frozenset({'CVE'}) properties={'assigner': 'cna@sap.com', 'id': 'CVE-2023-0015'}>>, <Record cve1=<Node element_id='4:de342d72-e7ff-4d5b-9a28-99eaa381965b:1' labels=frozenset({'CVE'}) properties={'assigner': 'cna@sap.com', 'id': 'CVE-2023-0013'}> cve2=<Node element_id='4:de342d72-e7ff-4d5b-9a28-99eaa381965b:3' labels=frozenset({'CVE'}) properties={'assigner': 'cna@sap.com', 'id': 'CVE-2023-0015'}> Entities=<Node element_id='4:de342d72-e7ff-4d5b-9a28-99eaa381965b:1' labels=frozenset({'CVE'}) properties={'assigner': 'cna@sap.com', 'id': 'CVE-2023-0013'}>>, <Record cve1=<Node element_id='4:de342d72-e7ff-4d5b-9a28-99eaa381965b:1' labels=frozenset({'CVE'}) properties={'assigner': 'cna@sap.com', 'id': 'CVE-2023-0013'}> cve2=<Node element_id='4:de342d72-e7ff-4d5b-9a28-99eaa381965b:3' labels=frozenset({'CVE'}) properties={'assigner': 'cna@sap.com', 'id': 'CVE-2023-0015'}> Entities=<Node element_id='4:de342d72-e7ff-4d5b-9a28-99eaa381965b:1' labels=frozenset({'CVE'}) properties={'assigner': 'cna@sap.com', 'id': 'CVE-2023-0013'}>>, <Record cve1=<Node element_id='4:de342d72-e7ff-4d5b-9a28-99eaa381965b:1' labels=frozenset({'CVE'}) properties={'assigner': 'cna@sap.com', 'id': 'CVE-2023-0013'}> cve2=<Node element_id='4:de342d72-e7ff-4d5b-9a28-99eaa381965b:3' labels=frozenset({'CVE'}) properties={'assigner': 'cna@sap.com', 'id': 'CVE-2023-0015'}> Entities=<Node element_id='4:de342d72-e7ff-4d5b-9a28-99eaa381965b:1' labels=frozenset({'CVE'}) properties={'assigner': 'cna@sap.com', 'id': 'CVE-2023-0013'}>>, <Record cve1=<Node element_id='4:de342d72-e7ff-4d5b-9a28-99eaa381965b:1' labels=frozenset({'CVE'}) properties={'assigner': 'cna@sap.com', 'id': 'CVE-2023-0013'}> cve2=<Node element_id='4:de342d72-e7ff-4d5b-9a28-99eaa381965b:3' labels=frozenset({'CVE'}) properties={'assigner': 'cna@sap.com', 'id': 'CVE-2023-0015'}> Entities=<Node element_id='4:de342d72-e7ff-4d5b-9a28-99eaa381965b:6' labels=frozenset({'CVE'}) properties={'assigner': 'cna@sap.com', 'id': 'CVE-2023-0018'}>>, <Record cve1=<Node element_id='4:de342d72-e7ff-4d5b-9a28-99eaa381965b:1' labels=frozenset({'CVE'}) properties={'assigner': 'cna@sap.com', 'id': 'CVE-2023-0013'}> cve2=<Node element_id='4:de342d72-e7ff-4d5b-9a28-99eaa381965b:3' labels=frozenset({'CVE'}) properties={'assigner': 'cna@sap.com', 'id': 'CVE-2023-0015'}> Entities=<Node element_id='4:de342d72-e7ff-4d5b-9a28-99eaa381965b:6' labels=frozenset({'CVE'}) properties={'assigner': 'cna@sap.com', 'id': 'CVE-2023-0018'}>>, <Record cve1=<Node element_id='4:de342d72-e7ff-4d5b-9a28-99eaa381965b:1' labels=frozenset({'CVE'}) properties={'assigner': 'cna@sap.com', 'id': 'CVE-2023-0013'}> cve2=<Node element_id='4:de342d72-e7ff-4d5b-9a28-99eaa381965b:3' labels=frozenset({'CVE'}) properties={'assigner': 'cna@sap.com', 'id': 'CVE-2023-0015'}> Entities=<Node element_id='4:de342d72-e7ff-4d5b-9a28-99eaa381965b:6' labels=frozenset({'CVE'}) properties={'assigner': 'cna@sap.com', 'id': 'CVE-2023-0018'}>>, <Record cve1=<Node element_id='4:de342d72-e7ff-4d5b-9a28-99eaa381965b:1' labels=frozenset({'CVE'}) properties={'assigner': 'cna@sap.com', 'id': 'CVE-2023-0013'}> cve2=<Node element_id='4:de342d72-e7ff-4d5b-9a28-99eaa381965b:3' labels=frozenset({'CVE'}) properties={'assigner': 'cna@sap.com', 'id': 'CVE-2023-0015'}> Entities=<Node element_id='4:de342d72-e7ff-4d5b-9a28-99eaa381965b:9' labels=frozenset({'CVE'}) properties={'assigner': 'security@huntr.dev', 'id': 'CVE-2023-0028'}>>, <Record cve1=<Node element_id='4:de342d72-e7ff-4d5b-9a28-99eaa381965b:1' labels=frozenset({'CVE'}) properties={'assigner': 'cna@sap.com', 'id': 'CVE-2023-0013'}> cve2=<Node element_id='4:de342d72-e7ff-4d5b-9a28-99eaa381965b:3' labels=frozenset({'CVE'}) properties={'assigner': 'cna@sap.com', 'id': 'CVE-2023-0015'}> Entities=<Node element_id='4:de342d72-e7ff-4d5b-9a28-99eaa381965b:9' labels=frozenset({'CVE'}) properties={'assigner': 'security@huntr.dev', 'id': 'CVE-2023-0028'}>>, <Record cve1=<Node element_id='4:de342d72-e7ff-4d5b-9a28-99eaa381965b:1' labels=frozenset({'CVE'}) properties={'assigner': 'cna@sap.com', 'id': 'CVE-2023-0013'}> cve2=<Node element_id='4:de342d72-e7ff-4d5b-9a28-99eaa381965b:3' labels=frozenset({'CVE'}) properties={'assigner': 'cna@sap.com', 'id': 'CVE-2023-0015'}> Entities=<Node element_id='4:de342d72-e7ff-4d5b-9a28-99eaa381965b:9' labels=frozenset({'CVE'}) properties={'assigner': 'security@huntr.dev', 'id': 'CVE-2023-0028'}>>, <Record cve1=<Node element_id='4:de342d72-e7ff-4d5b-9a28-99eaa381965b:1' labels=frozenset({'CVE'}) properties={'assigner': 'cna@sap.com', 'id': 'CVE-2023-0013'}> cve2=<Node element_id='4:de342d72-e7ff-4d5b-9a28-99eaa381965b:3' labels=frozenset({'CVE'}) properties={'assigner': 'cna@sap.com', 'id': 'CVE-2023-0015'}> Entities=<Node element_id='4:de342d72-e7ff-4d5b-9a28-99eaa381965b:3' labels=frozenset({'CVE'}) properties={'assigner': 'cna@sap.com', 'id': 'CVE-2023-0015'}>>, <Record cve1=<Node element_id='4:de342d72-e7ff-4d5b-9a28-99eaa381965b:1' labels=frozenset({'CVE'}) properties={'assigner': 'cna@sap.com', 'id': 'CVE-2023-0013'}> cve2=<Node element_id='4:de342d72-e7ff-4d5b-9a28-99eaa381965b:3' labels=frozenset({'CVE'}) properties={'assigner': 'cna@sap.com', 'id': 'CVE-2023-0015'}> Entities=<Node element_id='4:de342d72-e7ff-4d5b-9a28-99eaa381965b:3' labels=frozenset({'CVE'}) properties={'assigner': 'cna@sap.com', 'id': 'CVE-2023-0015'}>>, <Record cve1=<Node element_id='4:de342d72-e7ff-4d5b-9a28-99eaa381965b:1' labels=frozenset({'CVE'}) properties={'assigner': 'cna@sap.com', 'id': 'CVE-2023-0013'}> cve2=<Node element_id='4:de342d72-e7ff-4d5b-9a28-99eaa381965b:3' labels=frozenset({'CVE'}) properties={'assigner': 'cna@sap.com', 'id': 'CVE-2023-0015'}> Entities=<Node element_id='4:de342d72-e7ff-4d5b-9a28-99eaa381965b:3' labels=frozenset({'CVE'}) properties={'assigner': 'cna@sap.com', 'id': 'CVE-2023-0015'}>>, <Record cve1=<Node element_id='4:de342d72-e7ff-4d5b-9a28-99eaa381965b:1' labels=frozenset({'CVE'}) properties={'assigner': 'cna@sap.com', 'id': 'CVE-2023-0013'}> cve2=<Node element_id='4:de342d72-e7ff-4d5b-9a28-99eaa381965b:3' labels=frozenset({'CVE'}) properties={'assigner': 'cna@sap.com', 'id': 'CVE-2023-0015'}> Entities=<Node element_id='4:de342d72-e7ff-4d5b-9a28-99eaa381965b:1' labels=frozenset({'CVE'}) properties={'assigner': 'cna@sap.com', 'id': 'CVE-2023-0013'}>>, <Record cve1=<Node element_id='4:de342d72-e7ff-4d5b-9a28-99eaa381965b:1' labels=frozenset({'CVE'}) properties={'assigner': 'cna@sap.com', 'id': 'CVE-2023-0013'}> cve2=<Node element_id='4:de342d72-e7ff-4d5b-9a28-99eaa381965b:3' labels=frozenset({'CVE'}) properties={'assigner': 'cna@sap.com', 'id': 'CVE-2023-0015'}> Entities=<Node element_id='4:de342d72-e7ff-4d5b-9a28-99eaa381965b:1' labels=frozenset({'CVE'}) properties={'assigner': 'cna@sap.com', 'id': 'CVE-2023-0013'}>>, <Record cve1=<Node element_id='4:de342d72-e7ff-4d5b-9a28-99eaa381965b:1' labels=frozenset({'CVE'}) properties={'assigner': 'cna@sap.com', 'id': 'CVE-2023-0013'}> cve2=<Node element_id='4:de342d72-e7ff-4d5b-9a28-99eaa381965b:3' labels=frozenset({'CVE'}) properties={'assigner': 'cna@sap.com', 'id': 'CVE-2023-0015'}> Entities=<Node element_id='4:de342d72-e7ff-4d5b-9a28-99eaa381965b:1' labels=frozenset({'CVE'}) properties={'assigner': 'cna@sap.com', 'id': 'CVE-2023-0013'}>>, <Record cve1=<Node element_id='4:de342d72-e7ff-4d5b-9a28-99eaa381965b:1' labels=frozenset({'CVE'}) properties={'assigner': 'cna@sap.com', 'id': 'CVE-2023-0013'}> cve2=<Node element_id='4:de342d72-e7ff-4d5b-9a28-99eaa381965b:3' labels=frozenset({'CVE'}) properties={'assigner': 'cna@sap.com', 'id': 'CVE-2023-0015'}> Entities=<Node element_id='4:de342d72-e7ff-4d5b-9a28-99eaa381965b:6' labels=frozenset({'CVE'}) properties={'assigner': 'cna@sap.com', 'id': 'CVE-2023-0018'}>>, <Record cve1=<Node element_id='4:de342d72-e7ff-4d5b-9a28-99eaa381965b:1' labels=frozenset({'CVE'}) properties={'assigner': 'cna@sap.com', 'id': 'CVE-2023-0013'}> cve2=<Node element_id='4:de342d72-e7ff-4d5b-9a28-99eaa381965b:3' labels=frozenset({'CVE'}) properties={'assigner': 'cna@sap.com', 'id': 'CVE-2023-0015'}> Entities=<Node element_id='4:de342d72-e7ff-4d5b-9a28-99eaa381965b:6' labels=frozenset({'CVE'}) properties={'assigner': 'cna@sap.com', 'id': 'CVE-2023-0018'}>>, <Record cve1=<Node element_id='4:de342d72-e7ff-4d5b-9a28-99eaa381965b:1' labels=frozenset({'CVE'}) properties={'assigner': 'cna@sap.com', 'id': 'CVE-2023-0013'}> cve2=<Node element_id='4:de342d72-e7ff-4d5b-9a28-99eaa381965b:3' labels=frozenset({'CVE'}) properties={'assigner': 'cna@sap.com', 'id': 'CVE-2023-0015'}> Entities=<Node element_id='4:de342d72-e7ff-4d5b-9a28-99eaa381965b:9' labels=frozenset({'CVE'}) properties={'assigner': 'security@huntr.dev', 'id': 'CVE-2023-0028'}>>, <Record cve1=<Node element_id='4:de342d72-e7ff-4d5b-9a28-99eaa381965b:1' labels=frozenset({'CVE'}) properties={'assigner': 'cna@sap.com', 'id': 'CVE-2023-0013'}> cve2=<Node element_id='4:de342d72-e7ff-4d5b-9a28-99eaa381965b:3' labels=frozenset({'CVE'}) properties={'assigner': 'cna@sap.com', 'id': 'CVE-2023-0015'}> Entities=<Node element_id='4:de342d72-e7ff-4d5b-9a28-99eaa381965b:9' labels=frozenset({'CVE'}) properties={'assigner': 'security@huntr.dev', 'id': 'CVE-2023-0028'}>>, <Record cve1=<Node element_id='4:de342d72-e7ff-4d5b-9a28-99eaa381965b:1' labels=frozenset({'CVE'}) properties={'assigner': 'cna@sap.com', 'id': 'CVE-2023-0013'}> cve2=<Node element_id='4:de342d72-e7ff-4d5b-9a28-99eaa381965b:3' labels=frozenset({'CVE'}) properties={'assigner': 'cna@sap.com', 'id': 'CVE-2023-0015'}> Entities=<Node element_id='4:de342d72-e7ff-4d5b-9a28-99eaa381965b:3' labels=frozenset({'CVE'}) properties={'assigner': 'cna@sap.com', 'id': 'CVE-2023-0015'}>>, <Record cve1=<Node element_id='4:de342d72-e7ff-4d5b-9a28-99eaa381965b:1' labels=frozenset({'CVE'}) properties={'assigner': 'cna@sap.com', 'id': 'CVE-2023-0013'}> cve2=<Node element_id='4:de342d72-e7ff-4d5b-9a28-99eaa381965b:3' labels=frozenset({'CVE'}) properties={'assigner': 'cna@sap.com', 'id': 'CVE-2023-0015'}> Entities=<Node element_id='4:de342d72-e7ff-4d5b-9a28-99eaa381965b:3' labels=frozenset({'CVE'}) properties={'assigner': 'cna@sap.com', 'id': 'CVE-2023-0015'}>>, <Record cve1=<Node element_id='4:de342d72-e7ff-4d5b-9a28-99eaa381965b:1' labels=frozenset({'CVE'}) properties={'assigner': 'cna@sap.com', 'id': 'CVE-2023-0013'}> cve2=<Node element_id='4:de342d72-e7ff-4d5b-9a28-99eaa381965b:3' labels=frozenset({'CVE'}) properties={'assigner': 'cna@sap.com', 'id': 'CVE-2023-0015'}> Entities=<Node element_id='4:de342d72-e7ff-4d5b-9a28-99eaa381965b:1' labels=frozenset({'CVE'}) properties={'assigner': 'cna@sap.com', 'id': 'CVE-2023-0013'}>>, <Record cve1=<Node element_id='4:de342d72-e7ff-4d5b-9a28-99eaa381965b:1' labels=frozenset({'CVE'}) properties={'assigner': 'cna@sap.com', 'id': 'CVE-2023-0013'}> cve2=<Node element_id='4:de342d72-e7ff-4d5b-9a28-99eaa381965b:3' labels=frozenset({'CVE'}) properties={'assigner': 'cna@sap.com', 'id': 'CVE-2023-0015'}> Entities=<Node element_id='4:de342d72-e7ff-4d5b-9a28-99eaa381965b:1' labels=frozenset({'CVE'}) properties={'assigner': 'cna@sap.com', 'id': 'CVE-2023-0013'}>>, <Record cve1=<Node element_id='4:de342d72-e7ff-4d5b-9a28-99eaa381965b:1' labels=frozenset({'CVE'}) properties={'assigner': 'cna@sap.com', 'id': 'CVE-2023-0013'}> cve2=<Node element_id='4:de342d72-e7ff-4d5b-9a28-99eaa381965b:3' labels=frozenset({'CVE'}) properties={'assigner': 'cna@sap.com', 'id': 'CVE-2023-0015'}> Entities=<Node element_id='4:de342d72-e7ff-4d5b-9a28-99eaa381965b:6' labels=frozenset({'CVE'}) properties={'assigner': 'cna@sap.com', 'id': 'CVE-2023-0018'}>>, <Record cve1=<Node element_id='4:de342d72-e7ff-4d5b-9a28-99eaa381965b:1' labels=frozenset({'CVE'}) properties={'assigner': 'cna@sap.com', 'id': 'CVE-2023-0013'}> cve2=<Node element_id='4:de342d72-e7ff-4d5b-9a28-99eaa381965b:3' labels=frozenset({'CVE'}) properties={'assigner': 'cna@sap.com', 'id': 'CVE-2023-0015'}> Entities=<Node element_id='4:de342d72-e7ff-4d5b-9a28-99eaa381965b:6' labels=frozenset({'CVE'}) properties={'assigner': 'cna@sap.com', 'id': 'CVE-2023-0018'}>>, <Record cve1=<Node element_id='4:de342d72-e7ff-4d5b-9a28-99eaa381965b:1' labels=frozenset({'CVE'}) properties={'assigner': 'cna@sap.com', 'id': 'CVE-2023-0013'}> cve2=<Node element_id='4:de342d72-e7ff-4d5b-9a28-99eaa381965b:3' labels=frozenset({'CVE'}) properties={'assigner': 'cna@sap.com', 'id': 'CVE-2023-0015'}> Entities=<Node element_id='4:de342d72-e7ff-4d5b-9a28-99eaa381965b:9' labels=frozenset({'CVE'}) properties={'assigner': 'security@huntr.dev', 'id': 'CVE-2023-0028'}>>, <Record cve1=<Node element_id='4:de342d72-e7ff-4d5b-9a28-99eaa381965b:1' labels=frozenset({'CVE'}) properties={'assigner': 'cna@sap.com', 'id': 'CVE-2023-0013'}> cve2=<Node element_id='4:de342d72-e7ff-4d5b-9a28-99eaa381965b:3' labels=frozenset({'CVE'}) properties={'assigner': 'cna@sap.com', 'id': 'CVE-2023-0015'}> Entities=<Node element_id='4:de342d72-e7ff-4d5b-9a28-99eaa381965b:9' labels=frozenset({'CVE'}) properties={'assigner': 'security@huntr.dev', 'id': 'CVE-2023-0028'}>>, <Record cve1=<Node element_id='4:de342d72-e7ff-4d5b-9a28-99eaa381965b:1' labels=frozenset({'CVE'}) properties={'assigner': 'cna@sap.com', 'id': 'CVE-2023-0013'}> cve2=<Node element_id='4:de342d72-e7ff-4d5b-9a28-99eaa381965b:3' labels=frozenset({'CVE'}) properties={'assigner': 'cna@sap.com', 'id': 'CVE-2023-0015'}> Entities=<Node element_id='4:de342d72-e7ff-4d5b-9a28-99eaa381965b:3' labels=frozenset({'CVE'}) properties={'assigner': 'cna@sap.com', 'id': 'CVE-2023-0015'}>>, <Record cve1=<Node element_id='4:de342d72-e7ff-4d5b-9a28-99eaa381965b:1' labels=frozenset({'CVE'}) properties={'assigner': 'cna@sap.com', 'id': 'CVE-2023-0013'}> cve2=<Node element_id='4:de342d72-e7ff-4d5b-9a28-99eaa381965b:3' labels=frozenset({'CVE'}) properties={'assigner': 'cna@sap.com', 'id': 'CVE-2023-0015'}> Entities=<Node element_id='4:de342d72-e7ff-4d5b-9a28-99eaa381965b:3' labels=frozenset({'CVE'}) properties={'assigner': 'cna@sap.com', 'id': 'CVE-2023-0015'}>>, <Record cve1=<Node element_id='4:de342d72-e7ff-4d5b-9a28-99eaa381965b:1' labels=frozenset({'CVE'}) properties={'assigner': 'cna@sap.com', 'id': 'CVE-2023-0013'}> cve2=<Node element_id='4:de342d72-e7ff-4d5b-9a28-99eaa381965b:3' labels=frozenset({'CVE'}) properties={'assigner': 'cna@sap.com', 'id': 'CVE-2023-0015'}> Entities=<Node element_id='4:de342d72-e7ff-4d5b-9a28-99eaa381965b:1' labels=frozenset({'CVE'}) properties={'assigner': 'cna@sap.com', 'id': 'CVE-2023-0013'}>>, <Record cve1=<Node element_id='4:de342d72-e7ff-4d5b-9a28-99eaa381965b:1' labels=frozenset({'CVE'}) properties={'assigner': 'cna@sap.com', 'id': 'CVE-2023-0013'}> cve2=<Node element_id='4:de342d72-e7ff-4d5b-9a28-99eaa381965b:3' labels=frozenset({'CVE'}) properties={'assigner': 'cna@sap.com', 'id': 'CVE-2023-0015'}> Entities=<Node element_id='4:de342d72-e7ff-4d5b-9a28-99eaa381965b:1' labels=frozenset({'CVE'}) properties={'assigner': 'cna@sap.com', 'id': 'CVE-2023-0013'}>>, <Record cve1=<Node element_id='4:de342d72-e7ff-4d5b-9a28-99eaa381965b:1' labels=frozenset({'CVE'}) properties={'assigner': 'cna@sap.com', 'id': 'CVE-2023-0013'}> cve2=<Node element_id='4:de342d72-e7ff-4d5b-9a28-99eaa381965b:3' labels=frozenset({'CVE'}) properties={'assigner': 'cna@sap.com', 'id': 'CVE-2023-0015'}> Entities=<Node element_id='4:de342d72-e7ff-4d5b-9a28-99eaa381965b:6' labels=frozenset({'CVE'}) properties={'assigner': 'cna@sap.com', 'id': 'CVE-2023-0018'}>>, <Record cve1=<Node element_id='4:de342d72-e7ff-4d5b-9a28-99eaa381965b:1' labels=frozenset({'CVE'}) properties={'assigner': 'cna@sap.com', 'id': 'CVE-2023-0013'}> cve2=<Node element_id='4:de342d72-e7ff-4d5b-9a28-99eaa381965b:3' labels=frozenset({'CVE'}) properties={'assigner': 'cna@sap.com', 'id': 'CVE-2023-0015'}> Entities=<Node element_id='4:de342d72-e7ff-4d5b-9a28-99eaa381965b:6' labels=frozenset({'CVE'}) properties={'assigner': 'cna@sap.com', 'id': 'CVE-2023-0018'}>>, <Record cve1=<Node element_id='4:de342d72-e7ff-4d5b-9a28-99eaa381965b:1' labels=frozenset({'CVE'}) properties={'assigner': 'cna@sap.com', 'id': 'CVE-2023-0013'}> cve2=<Node element_id='4:de342d72-e7ff-4d5b-9a28-99eaa381965b:3' labels=frozenset({'CVE'}) properties={'assigner': 'cna@sap.com', 'id': 'CVE-2023-0015'}> Entities=<Node element_id='4:de342d72-e7ff-4d5b-9a28-99eaa381965b:9' labels=frozenset({'CVE'}) properties={'assigner': 'security@huntr.dev', 'id': 'CVE-2023-0028'}>>, <Record cve1=<Node element_id='4:de342d72-e7ff-4d5b-9a28-99eaa381965b:1' labels=frozenset({'CVE'}) properties={'assigner': 'cna@sap.com', 'id': 'CVE-2023-0013'}> cve2=<Node element_id='4:de342d72-e7ff-4d5b-9a28-99eaa381965b:3' labels=frozenset({'CVE'}) properties={'assigner': 'cna@sap.com', 'id': 'CVE-2023-0015'}> Entities=<Node element_id='4:de342d72-e7ff-4d5b-9a28-99eaa381965b:9' labels=frozenset({'CVE'}) properties={'assigner': 'security@huntr.dev', 'id': 'CVE-2023-0028'}>>, <Record cve1=<Node element_id='4:de342d72-e7ff-4d5b-9a28-99eaa381965b:1' labels=frozenset({'CVE'}) properties={'assigner': 'cna@sap.com', 'id': 'CVE-2023-0013'}> cve2=<Node element_id='4:de342d72-e7ff-4d5b-9a28-99eaa381965b:3' labels=frozenset({'CVE'}) properties={'assigner': 'cna@sap.com', 'id': 'CVE-2023-0015'}> Entities=<Node element_id='4:de342d72-e7ff-4d5b-9a28-99eaa381965b:3' labels=frozenset({'CVE'}) properties={'assigner': 'cna@sap.com', 'id': 'CVE-2023-0015'}>>, <Record cve1=<Node element_id='4:de342d72-e7ff-4d5b-9a28-99eaa381965b:1' labels=frozenset({'CVE'}) properties={'assigner': 'cna@sap.com', 'id': 'CVE-2023-0013'}> cve2=<Node element_id='4:de342d72-e7ff-4d5b-9a28-99eaa381965b:3' labels=frozenset({'CVE'}) properties={'assigner': 'cna@sap.com', 'id': 'CVE-2023-0015'}> Entities=<Node element_id='4:de342d72-e7ff-4d5b-9a28-99eaa381965b:3' labels=frozenset({'CVE'}) properties={'assigner': 'cna@sap.com', 'id': 'CVE-2023-0015'}>>, <Record cve1=<Node element_id='4:de342d72-e7ff-4d5b-9a28-99eaa381965b:1' labels=frozenset({'CVE'}) properties={'assigner': 'cna@sap.com', 'id': 'CVE-2023-0013'}> cve2=<Node element_id='4:de342d72-e7ff-4d5b-9a28-99eaa381965b:3' labels=frozenset({'CVE'}) properties={'assigner': 'cna@sap.com', 'id': 'CVE-2023-0015'}> Entities=<Node element_id='4:de342d72-e7ff-4d5b-9a28-99eaa381965b:1' labels=frozenset({'CVE'}) properties={'assigner': 'cna@sap.com', 'id': 'CVE-2023-0013'}>>, <Record cve1=<Node element_id='4:de342d72-e7ff-4d5b-9a28-99eaa381965b:1' labels=frozenset({'CVE'}) properties={'assigner': 'cna@sap.com', 'id': 'CVE-2023-0013'}> cve2=<Node element_id='4:de342d72-e7ff-4d5b-9a28-99eaa381965b:3' labels=frozenset({'CVE'}) properties={'assigner': 'cna@sap.com', 'id': 'CVE-2023-0015'}> Entities=<Node element_id='4:de342d72-e7ff-4d5b-9a28-99eaa381965b:1' labels=frozenset({'CVE'}) properties={'assigner': 'cna@sap.com', 'id': 'CVE-2023-0013'}>>, <Record cve1=<Node element_id='4:de342d72-e7ff-4d5b-9a28-99eaa381965b:1' labels=frozenset({'CVE'}) properties={'assigner': 'cna@sap.com', 'id': 'CVE-2023-0013'}> cve2=<Node element_id='4:de342d72-e7ff-4d5b-9a28-99eaa381965b:3' labels=frozenset({'CVE'}) properties={'assigner': 'cna@sap.com', 'id': 'CVE-2023-0015'}> Entities=<Node element_id='4:de342d72-e7ff-4d5b-9a28-99eaa381965b:6' labels=frozenset({'CVE'}) properties={'assigner': 'cna@sap.com', 'id': 'CVE-2023-0018'}>>, <Record cve1=<Node element_id='4:de342d72-e7ff-4d5b-9a28-99eaa381965b:1' labels=frozenset({'CVE'}) properties={'assigner': 'cna@sap.com', 'id': 'CVE-2023-0013'}> cve2=<Node element_id='4:de342d72-e7ff-4d5b-9a28-99eaa381965b:3' labels=frozenset({'CVE'}) properties={'assigner': 'cna@sap.com', 'id': 'CVE-2023-0015'}> Entities=<Node element_id='4:de342d72-e7ff-4d5b-9a28-99eaa381965b:6' labels=frozenset({'CVE'}) properties={'assigner': 'cna@sap.com', 'id': 'CVE-2023-0018'}>>, <Record cve1=<Node element_id='4:de342d72-e7ff-4d5b-9a28-99eaa381965b:1' labels=frozenset({'CVE'}) properties={'assigner': 'cna@sap.com', 'id': 'CVE-2023-0013'}> cve2=<Node element_id='4:de342d72-e7ff-4d5b-9a28-99eaa381965b:3' labels=frozenset({'CVE'}) properties={'assigner': 'cna@sap.com', 'id': 'CVE-2023-0015'}> Entities=<Node element_id='4:de342d72-e7ff-4d5b-9a28-99eaa381965b:9' labels=frozenset({'CVE'}) properties={'assigner': 'security@huntr.dev', 'id': 'CVE-2023-0028'}>>, <Record cve1=<Node element_id='4:de342d72-e7ff-4d5b-9a28-99eaa381965b:1' labels=frozenset({'CVE'}) properties={'assigner': 'cna@sap.com', 'id': 'CVE-2023-0013'}> cve2=<Node element_id='4:de342d72-e7ff-4d5b-9a28-99eaa381965b:3' labels=frozenset({'CVE'}) properties={'assigner': 'cna@sap.com', 'id': 'CVE-2023-0015'}> Entities=<Node element_id='4:de342d72-e7ff-4d5b-9a28-99eaa381965b:9' labels=frozenset({'CVE'}) properties={'assigner': 'security@huntr.dev', 'id': 'CVE-2023-0028'}>>, <Record cve1=<Node element_id='4:de342d72-e7ff-4d5b-9a28-99eaa381965b:1' labels=frozenset({'CVE'}) properties={'assigner': 'cna@sap.com', 'id': 'CVE-2023-0013'}> cve2=<Node element_id='4:de342d72-e7ff-4d5b-9a28-99eaa381965b:3' labels=frozenset({'CVE'}) properties={'assigner': 'cna@sap.com', 'id': 'CVE-2023-0015'}> Entities=<Node element_id='4:de342d72-e7ff-4d5b-9a28-99eaa381965b:3' labels=frozenset({'CVE'}) properties={'assigner': 'cna@sap.com', 'id': 'CVE-2023-0015'}>>, <Record cve1=<Node element_id='4:de342d72-e7ff-4d5b-9a28-99eaa381965b:1' labels=frozenset({'CVE'}) properties={'assigner': 'cna@sap.com', 'id': 'CVE-2023-0013'}> cve2=<Node element_id='4:de342d72-e7ff-4d5b-9a28-99eaa381965b:3' labels=frozenset({'CVE'}) properties={'assigner': 'cna@sap.com', 'id': 'CVE-2023-0015'}> Entities=<Node element_id='4:de342d72-e7ff-4d5b-9a28-99eaa381965b:3' labels=frozenset({'CVE'}) properties={'assigner': 'cna@sap.com', 'id': 'CVE-2023-0015'}>>, <Record cve1=<Node element_id='4:de342d72-e7ff-4d5b-9a28-99eaa381965b:1' labels=frozenset({'CVE'}) properties={'assigner': 'cna@sap.com', 'id': 'CVE-2023-0013'}> cve2=<Node element_id='4:de342d72-e7ff-4d5b-9a28-99eaa381965b:3' labels=frozenset({'CVE'}) properties={'assigner': 'cna@sap.com', 'id': 'CVE-2023-0015'}> Entities=<Node element_id='4:de342d72-e7ff-4d5b-9a28-99eaa381965b:1' labels=frozenset({'CVE'}) properties={'assigner': 'cna@sap.com', 'id': 'CVE-2023-0013'}>>, <Record cve1=<Node element_id='4:de342d72-e7ff-4d5b-9a28-99eaa381965b:1' labels=frozenset({'CVE'}) properties={'assigner': 'cna@sap.com', 'id': 'CVE-2023-0013'}> cve2=<Node element_id='4:de342d72-e7ff-4d5b-9a28-99eaa381965b:3' labels=frozenset({'CVE'}) properties={'assigner': 'cna@sap.com', 'id': 'CVE-2023-0015'}> Entities=<Node element_id='4:de342d72-e7ff-4d5b-9a28-99eaa381965b:1' labels=frozenset({'CVE'}) properties={'assigner': 'cna@sap.com', 'id': 'CVE-2023-0013'}>>, <Record cve1=<Node element_id='4:de342d72-e7ff-4d5b-9a28-99eaa381965b:1' labels=frozenset({'CVE'}) properties={'assigner': 'cna@sap.com', 'id': 'CVE-2023-0013'}> cve2=<Node element_id='4:de342d72-e7ff-4d5b-9a28-99eaa381965b:3' labels=frozenset({'CVE'}) properties={'assigner': 'cna@sap.com', 'id': 'CVE-2023-0015'}> Entities=<Node element_id='4:de342d72-e7ff-4d5b-9a28-99eaa381965b:6' labels=frozenset({'CVE'}) properties={'assigner': 'cna@sap.com', 'id': 'CVE-2023-0018'}>>, <Record cve1=<Node element_id='4:de342d72-e7ff-4d5b-9a28-99eaa381965b:1' labels=frozenset({'CVE'}) properties={'assigner': 'cna@sap.com', 'id': 'CVE-2023-0013'}> cve2=<Node element_id='4:de342d72-e7ff-4d5b-9a28-99eaa381965b:3' labels=frozenset({'CVE'}) properties={'assigner': 'cna@sap.com', 'id': 'CVE-2023-0015'}> Entities=<Node element_id='4:de342d72-e7ff-4d5b-9a28-99eaa381965b:6' labels=frozenset({'CVE'}) properties={'assigner': 'cna@sap.com', 'id': 'CVE-2023-0018'}>>, <Record cve1=<Node element_id='4:de342d72-e7ff-4d5b-9a28-99eaa381965b:1' labels=frozenset({'CVE'}) properties={'assigner': 'cna@sap.com', 'id': 'CVE-2023-0013'}> cve2=<Node element_id='4:de342d72-e7ff-4d5b-9a28-99eaa381965b:3' labels=frozenset({'CVE'}) properties={'assigner': 'cna@sap.com', 'id': 'CVE-2023-0015'}> Entities=<Node element_id='4:de342d72-e7ff-4d5b-9a28-99eaa381965b:9' labels=frozenset({'CVE'}) properties={'assigner': 'security@huntr.dev', 'id': 'CVE-2023-0028'}>>, <Record cve1=<Node element_id='4:de342d72-e7ff-4d5b-9a28-99eaa381965b:1' labels=frozenset({'CVE'}) properties={'assigner': 'cna@sap.com', 'id': 'CVE-2023-0013'}> cve2=<Node element_id='4:de342d72-e7ff-4d5b-9a28-99eaa381965b:3' labels=frozenset({'CVE'}) properties={'assigner': 'cna@sap.com', 'id': 'CVE-2023-0015'}> Entities=<Node element_id='4:de342d72-e7ff-4d5b-9a28-99eaa381965b:9' labels=frozenset({'CVE'}) properties={'assigner': 'security@huntr.dev', 'id': 'CVE-2023-0028'}>>, <Record cve1=<Node element_id='4:de342d72-e7ff-4d5b-9a28-99eaa381965b:1' labels=frozenset({'CVE'}) properties={'assigner': 'cna@sap.com', 'id': 'CVE-2023-0013'}> cve2=<Node element_id='4:de342d72-e7ff-4d5b-9a28-99eaa381965b:3' labels=frozenset({'CVE'}) properties={'assigner': 'cna@sap.com', 'id': 'CVE-2023-0015'}> Entities=<Node element_id='4:de342d72-e7ff-4d5b-9a28-99eaa381965b:3' labels=frozenset({'CVE'}) properties={'assigner': 'cna@sap.com', 'id': 'CVE-2023-0015'}>>, <Record cve1=<Node element_id='4:de342d72-e7ff-4d5b-9a28-99eaa381965b:1' labels=frozenset({'CVE'}) properties={'assigner': 'cna@sap.com', 'id': 'CVE-2023-0013'}> cve2=<Node element_id='4:de342d72-e7ff-4d5b-9a28-99eaa381965b:3' labels=frozenset({'CVE'}) properties={'assigner': 'cna@sap.com', 'id': 'CVE-2023-0015'}> Entities=<Node element_id='4:de342d72-e7ff-4d5b-9a28-99eaa381965b:3' labels=frozenset({'CVE'}) properties={'assigner': 'cna@sap.com', 'id': 'CVE-2023-0015'}>>, <Record cve1=<Node element_id='4:de342d72-e7ff-4d5b-9a28-99eaa381965b:1' labels=frozenset({'CVE'}) properties={'assigner': 'cna@sap.com', 'id': 'CVE-2023-0013'}> cve2=<Node element_id='4:de342d72-e7ff-4d5b-9a28-99eaa381965b:3' labels=frozenset({'CVE'}) properties={'assigner': 'cna@sap.com', 'id': 'CVE-2023-0015'}> Entities=<Node element_id='4:de342d72-e7ff-4d5b-9a28-99eaa381965b:1' labels=frozenset({'CVE'}) properties={'assigner': 'cna@sap.com', 'id': 'CVE-2023-0013'}>>, <Record cve1=<Node element_id='4:de342d72-e7ff-4d5b-9a28-99eaa381965b:1' labels=frozenset({'CVE'}) properties={'assigner': 'cna@sap.com', 'id': 'CVE-2023-0013'}> cve2=<Node element_id='4:de342d72-e7ff-4d5b-9a28-99eaa381965b:3' labels=frozenset({'CVE'}) properties={'assigner': 'cna@sap.com', 'id': 'CVE-2023-0015'}> Entities=<Node element_id='4:de342d72-e7ff-4d5b-9a28-99eaa381965b:1' labels=frozenset({'CVE'}) properties={'assigner': 'cna@sap.com', 'id': 'CVE-2023-0013'}>>, <Record cve1=<Node element_id='4:de342d72-e7ff-4d5b-9a28-99eaa381965b:1' labels=frozenset({'CVE'}) properties={'assigner': 'cna@sap.com', 'id': 'CVE-2023-0013'}> cve2=<Node element_id='4:de342d72-e7ff-4d5b-9a28-99eaa381965b:3' labels=frozenset({'CVE'}) properties={'assigner': 'cna@sap.com', 'id': 'CVE-2023-0015'}> Entities=<Node element_id='4:de342d72-e7ff-4d5b-9a28-99eaa381965b:6' labels=frozenset({'CVE'}) properties={'assigner': 'cna@sap.com', 'id': 'CVE-2023-0018'}>>, <Record cve1=<Node element_id='4:de342d72-e7ff-4d5b-9a28-99eaa381965b:1' labels=frozenset({'CVE'}) properties={'assigner': 'cna@sap.com', 'id': 'CVE-2023-0013'}> cve2=<Node element_id='4:de342d72-e7ff-4d5b-9a28-99eaa381965b:3' labels=frozenset({'CVE'}) properties={'assigner': 'cna@sap.com', 'id': 'CVE-2023-0015'}> Entities=<Node element_id='4:de342d72-e7ff-4d5b-9a28-99eaa381965b:6' labels=frozenset({'CVE'}) properties={'assigner': 'cna@sap.com', 'id': 'CVE-2023-0018'}>>, <Record cve1=<Node element_id='4:de342d72-e7ff-4d5b-9a28-99eaa381965b:1' labels=frozenset({'CVE'}) properties={'assigner': 'cna@sap.com', 'id': 'CVE-2023-0013'}> cve2=<Node element_id='4:de342d72-e7ff-4d5b-9a28-99eaa381965b:3' labels=frozenset({'CVE'}) properties={'assigner': 'cna@sap.com', 'id': 'CVE-2023-0015'}> Entities=<Node element_id='4:de342d72-e7ff-4d5b-9a28-99eaa381965b:9' labels=frozenset({'CVE'}) properties={'assigner': 'security@huntr.dev', 'id': 'CVE-2023-0028'}>>, <Record cve1=<Node element_id='4:de342d72-e7ff-4d5b-9a28-99eaa381965b:1' labels=frozenset({'CVE'}) properties={'assigner': 'cna@sap.com', 'id': 'CVE-2023-0013'}> cve2=<Node element_id='4:de342d72-e7ff-4d5b-9a28-99eaa381965b:3' labels=frozenset({'CVE'}) properties={'assigner': 'cna@sap.com', 'id': 'CVE-2023-0015'}> Entities=<Node element_id='4:de342d72-e7ff-4d5b-9a28-99eaa381965b:9' labels=frozenset({'CVE'}) properties={'assigner': 'security@huntr.dev', 'id': 'CVE-2023-0028'}>>, <Record cve1=<Node element_id='4:de342d72-e7ff-4d5b-9a28-99eaa381965b:1' labels=frozenset({'CVE'}) properties={'assigner': 'cna@sap.com', 'id': 'CVE-2023-0013'}> cve2=<Node element_id='4:de342d72-e7ff-4d5b-9a28-99eaa381965b:3' labels=frozenset({'CVE'}) properties={'assigner': 'cna@sap.com', 'id': 'CVE-2023-0015'}> Entities=<Node element_id='4:de342d72-e7ff-4d5b-9a28-99eaa381965b:3' labels=frozenset({'CVE'}) properties={'assigner': 'cna@sap.com', 'id': 'CVE-2023-0015'}>>, <Record cve1=<Node element_id='4:de342d72-e7ff-4d5b-9a28-99eaa381965b:1' labels=frozenset({'CVE'}) properties={'assigner': 'cna@sap.com', 'id': 'CVE-2023-0013'}> cve2=<Node element_id='4:de342d72-e7ff-4d5b-9a28-99eaa381965b:3' labels=frozenset({'CVE'}) properties={'assigner': 'cna@sap.com', 'id': 'CVE-2023-0015'}> Entities=<Node element_id='4:de342d72-e7ff-4d5b-9a28-99eaa381965b:3' labels=frozenset({'CVE'}) properties={'assigner': 'cna@sap.com', 'id': 'CVE-2023-0015'}>>, <Record cve1=<Node element_id='4:de342d72-e7ff-4d5b-9a28-99eaa381965b:1' labels=frozenset({'CVE'}) properties={'assigner': 'cna@sap.com', 'id': 'CVE-2023-0013'}> cve2=<Node element_id='4:de342d72-e7ff-4d5b-9a28-99eaa381965b:3' labels=frozenset({'CVE'}) properties={'assigner': 'cna@sap.com', 'id': 'CVE-2023-0015'}> Entities=<Node element_id='4:de342d72-e7ff-4d5b-9a28-99eaa381965b:1' labels=frozenset({'CVE'}) properties={'assigner': 'cna@sap.com', 'id': 'CVE-2023-0013'}>>, <Record cve1=<Node element_id='4:de342d72-e7ff-4d5b-9a28-99eaa381965b:1' labels=frozenset({'CVE'}) properties={'assigner': 'cna@sap.com', 'id': 'CVE-2023-0013'}> cve2=<Node element_id='4:de342d72-e7ff-4d5b-9a28-99eaa381965b:3' labels=frozenset({'CVE'}) properties={'assigner': 'cna@sap.com', 'id': 'CVE-2023-0015'}> Entities=<Node element_id='4:de342d72-e7ff-4d5b-9a28-99eaa381965b:1' labels=frozenset({'CVE'}) properties={'assigner': 'cna@sap.com', 'id': 'CVE-2023-0013'}>>, <Record cve1=<Node element_id='4:de342d72-e7ff-4d5b-9a28-99eaa381965b:1' labels=frozenset({'CVE'}) properties={'assigner': 'cna@sap.com', 'id': 'CVE-2023-0013'}> cve2=<Node element_id='4:de342d72-e7ff-4d5b-9a28-99eaa381965b:3' labels=frozenset({'CVE'}) properties={'assigner': 'cna@sap.com', 'id': 'CVE-2023-0015'}> Entities=<Node element_id='4:de342d72-e7ff-4d5b-9a28-99eaa381965b:4' labels=frozenset({'CVE'}) properties={'assigner': 'cna@sap.com', 'id': 'CVE-2023-0016'}>>, <Record cve1=<Node element_id='4:de342d72-e7ff-4d5b-9a28-99eaa381965b:1' labels=frozenset({'CVE'}) properties={'assigner': 'cna@sap.com', 'id': 'CVE-2023-0013'}> cve2=<Node element_id='4:de342d72-e7ff-4d5b-9a28-99eaa381965b:3' labels=frozenset({'CVE'}) properties={'assigner': 'cna@sap.com', 'id': 'CVE-2023-0015'}> Entities=<Node element_id='4:de342d72-e7ff-4d5b-9a28-99eaa381965b:167' labels=frozenset({'Entities'}) properties={'wikipediaExternalRef': 241154, 'wikidataId': 'Q371199', 'confidence_score': 0.719, 'offsetStart': 0, 'offsetEnd': 20, 'rawName': 'Cross-site scripting'}>>, <Record cve1=<Node element_id='4:de342d72-e7ff-4d5b-9a28-99eaa381965b:1' labels=frozenset({'CVE'}) properties={'assigner': 'cna@sap.com', 'id': 'CVE-2023-0013'}> cve2=<Node element_id='4:de342d72-e7ff-4d5b-9a28-99eaa381965b:3' labels=frozenset({'CVE'}) properties={'assigner': 'cna@sap.com', 'id': 'CVE-2023-0015'}> Entities=<Node element_id='4:de342d72-e7ff-4d5b-9a28-99eaa381965b:167' labels=frozenset({'Entities'}) properties={'wikipediaExternalRef': 241154, 'wikidataId': 'Q371199', 'confidence_score': 0.719, 'offsetStart': 0, 'offsetEnd': 20, 'rawName': 'Cross-site scripting'}>>, <Record cve1=<Node element_id='4:de342d72-e7ff-4d5b-9a28-99eaa381965b:1' labels=frozenset({'CVE'}) properties={'assigner': 'cna@sap.com', 'id': 'CVE-2023-0013'}> cve2=<Node element_id='4:de342d72-e7ff-4d5b-9a28-99eaa381965b:3' labels=frozenset({'CVE'}) properties={'assigner': 'cna@sap.com', 'id': 'CVE-2023-0015'}> Entities=<Node element_id='4:de342d72-e7ff-4d5b-9a28-99eaa381965b:167' labels=frozenset({'Entities'}) properties={'wikipediaExternalRef': 241154, 'wikidataId': 'Q371199', 'confidence_score': 0.719, 'offsetStart': 0, 'offsetEnd': 20, 'rawName': 'Cross-site scripting'}>>, <Record cve1=<Node element_id='4:de342d72-e7ff-4d5b-9a28-99eaa381965b:1' labels=frozenset({'CVE'}) properties={'assigner': 'cna@sap.com', 'id': 'CVE-2023-0013'}> cve2=<Node element_id='4:de342d72-e7ff-4d5b-9a28-99eaa381965b:3' labels=frozenset({'CVE'}) properties={'assigner': 'cna@sap.com', 'id': 'CVE-2023-0015'}> Entities=<Node element_id='4:de342d72-e7ff-4d5b-9a28-99eaa381965b:167' labels=frozenset({'Entities'}) properties={'wikipediaExternalRef': 241154, 'wikidataId': 'Q371199', 'confidence_score': 0.719, 'offsetStart': 0, 'offsetEnd': 20, 'rawName': 'Cross-site scripting'}>>, <Record cve1=<Node element_id='4:de342d72-e7ff-4d5b-9a28-99eaa381965b:1' labels=frozenset({'CVE'}) properties={'assigner': 'cna@sap.com', 'id': 'CVE-2023-0013'}> cve2=<Node element_id='4:de342d72-e7ff-4d5b-9a28-99eaa381965b:3' labels=frozenset({'CVE'}) properties={'assigner': 'cna@sap.com', 'id': 'CVE-2023-0015'}> Entities=<Node element_id='4:de342d72-e7ff-4d5b-9a28-99eaa381965b:262' labels=frozenset({'Entities'}) properties={'wikipediaExternalRef': 526999, 'wikidataId': 'Q506059', 'confidence_score': 0.9162, 'offsetStart': 1041, 'offsetEnd': 1054, 'rawName': 'SQL injection'}>>, <Record cve1=<Node element_id='4:de342d72-e7ff-4d5b-9a28-99eaa381965b:3' labels=frozenset({'CVE'}) properties={'assigner': 'cna@sap.com', 'id': 'CVE-2023-0015'}> cve2=<Node element_id='4:de342d72-e7ff-4d5b-9a28-99eaa381965b:6' labels=frozenset({'CVE'}) properties={'assigner': 'cna@sap.com', 'id': 'CVE-2023-0018'}> Entities=<Node element_id='4:de342d72-e7ff-4d5b-9a28-99eaa381965b:6' labels=frozenset({'CVE'}) properties={'assigner': 'cna@sap.com', 'id': 'CVE-2023-0018'}>>, <Record cve1=<Node element_id='4:de342d72-e7ff-4d5b-9a28-99eaa381965b:3' labels=frozenset({'CVE'}) properties={'assigner': 'cna@sap.com', 'id': 'CVE-2023-0015'}> cve2=<Node element_id='4:de342d72-e7ff-4d5b-9a28-99eaa381965b:6' labels=frozenset({'CVE'}) properties={'assigner': 'cna@sap.com', 'id': 'CVE-2023-0018'}> Entities=<Node element_id='4:de342d72-e7ff-4d5b-9a28-99eaa381965b:9' labels=frozenset({'CVE'}) properties={'assigner': 'security@huntr.dev', 'id': 'CVE-2023-0028'}>>, <Record cve1=<Node element_id='4:de342d72-e7ff-4d5b-9a28-99eaa381965b:3' labels=frozenset({'CVE'}) properties={'assigner': 'cna@sap.com', 'id': 'CVE-2023-0015'}> cve2=<Node element_id='4:de342d72-e7ff-4d5b-9a28-99eaa381965b:6' labels=frozenset({'CVE'}) properties={'assigner': 'cna@sap.com', 'id': 'CVE-2023-0018'}> Entities=<Node element_id='4:de342d72-e7ff-4d5b-9a28-99eaa381965b:3' labels=frozenset({'CVE'}) properties={'assigner': 'cna@sap.com', 'id': 'CVE-2023-0015'}>>, <Record cve1=<Node element_id='4:de342d72-e7ff-4d5b-9a28-99eaa381965b:3' labels=frozenset({'CVE'}) properties={'assigner': 'cna@sap.com', 'id': 'CVE-2023-0015'}> cve2=<Node element_id='4:de342d72-e7ff-4d5b-9a28-99eaa381965b:6' labels=frozenset({'CVE'}) properties={'assigner': 'cna@sap.com', 'id': 'CVE-2023-0018'}> Entities=<Node element_id='4:de342d72-e7ff-4d5b-9a28-99eaa381965b:1' labels=frozenset({'CVE'}) properties={'assigner': 'cna@sap.com', 'id': 'CVE-2023-0013'}>>, <Record cve1=<Node element_id='4:de342d72-e7ff-4d5b-9a28-99eaa381965b:3' labels=frozenset({'CVE'}) properties={'assigner': 'cna@sap.com', 'id': 'CVE-2023-0015'}> cve2=<Node element_id='4:de342d72-e7ff-4d5b-9a28-99eaa381965b:6' labels=frozenset({'CVE'}) properties={'assigner': 'cna@sap.com', 'id': 'CVE-2023-0018'}> Entities=<Node element_id='4:de342d72-e7ff-4d5b-9a28-99eaa381965b:7' labels=frozenset({'CVE'}) properties={'assigner': 'cna@sap.com', 'id': 'CVE-2023-0022'}>>, <Record cve1=<Node element_id='4:de342d72-e7ff-4d5b-9a28-99eaa381965b:3' labels=frozenset({'CVE'}) properties={'assigner': 'cna@sap.com', 'id': 'CVE-2023-0015'}> cve2=<Node element_id='4:de342d72-e7ff-4d5b-9a28-99eaa381965b:6' labels=frozenset({'CVE'}) properties={'assigner': 'cna@sap.com', 'id': 'CVE-2023-0018'}> Entities=<Node element_id='4:de342d72-e7ff-4d5b-9a28-99eaa381965b:7' labels=frozenset({'CVE'}) properties={'assigner': 'cna@sap.com', 'id': 'CVE-2023-0022'}>>, <Record cve1=<Node element_id='4:de342d72-e7ff-4d5b-9a28-99eaa381965b:3' labels=frozenset({'CVE'}) properties={'assigner': 'cna@sap.com', 'id': 'CVE-2023-0015'}> cve2=<Node element_id='4:de342d72-e7ff-4d5b-9a28-99eaa381965b:6' labels=frozenset({'CVE'}) properties={'assigner': 'cna@sap.com', 'id': 'CVE-2023-0018'}> Entities=<Node element_id='4:de342d72-e7ff-4d5b-9a28-99eaa381965b:2' labels=frozenset({'CVE'}) properties={'assigner': 'cna@sap.com', 'id': 'CVE-2023-0014'}>>, <Record cve1=<Node element_id='4:de342d72-e7ff-4d5b-9a28-99eaa381965b:3' labels=frozenset({'CVE'}) properties={'assigner': 'cna@sap.com', 'id': 'CVE-2023-0015'}> cve2=<Node element_id='4:de342d72-e7ff-4d5b-9a28-99eaa381965b:6' labels=frozenset({'CVE'}) properties={'assigner': 'cna@sap.com', 'id': 'CVE-2023-0018'}> Entities=<Node element_id='4:de342d72-e7ff-4d5b-9a28-99eaa381965b:6' labels=frozenset({'CVE'}) properties={'assigner': 'cna@sap.com', 'id': 'CVE-2023-0018'}>>, <Record cve1=<Node element_id='4:de342d72-e7ff-4d5b-9a28-99eaa381965b:3' labels=frozenset({'CVE'}) properties={'assigner': 'cna@sap.com', 'id': 'CVE-2023-0015'}> cve2=<Node element_id='4:de342d72-e7ff-4d5b-9a28-99eaa381965b:6' labels=frozenset({'CVE'}) properties={'assigner': 'cna@sap.com', 'id': 'CVE-2023-0018'}> Entities=<Node element_id='4:de342d72-e7ff-4d5b-9a28-99eaa381965b:9' labels=frozenset({'CVE'}) properties={'assigner': 'security@huntr.dev', 'id': 'CVE-2023-0028'}>>, <Record cve1=<Node element_id='4:de342d72-e7ff-4d5b-9a28-99eaa381965b:3' labels=frozenset({'CVE'}) properties={'assigner': 'cna@sap.com', 'id': 'CVE-2023-0015'}> cve2=<Node element_id='4:de342d72-e7ff-4d5b-9a28-99eaa381965b:6' labels=frozenset({'CVE'}) properties={'assigner': 'cna@sap.com', 'id': 'CVE-2023-0018'}> Entities=<Node element_id='4:de342d72-e7ff-4d5b-9a28-99eaa381965b:3' labels=frozenset({'CVE'}) properties={'assigner': 'cna@sap.com', 'id': 'CVE-2023-0015'}>>, <Record cve1=<Node element_id='4:de342d72-e7ff-4d5b-9a28-99eaa381965b:3' labels=frozenset({'CVE'}) properties={'assigner': 'cna@sap.com', 'id': 'CVE-2023-0015'}> cve2=<Node element_id='4:de342d72-e7ff-4d5b-9a28-99eaa381965b:6' labels=frozenset({'CVE'}) properties={'assigner': 'cna@sap.com', 'id': 'CVE-2023-0018'}> Entities=<Node element_id='4:de342d72-e7ff-4d5b-9a28-99eaa381965b:1' labels=frozenset({'CVE'}) properties={'assigner': 'cna@sap.com', 'id': 'CVE-2023-0013'}>>, <Record cve1=<Node element_id='4:de342d72-e7ff-4d5b-9a28-99eaa381965b:3' labels=frozenset({'CVE'}) properties={'assigner': 'cna@sap.com', 'id': 'CVE-2023-0015'}> cve2=<Node element_id='4:de342d72-e7ff-4d5b-9a28-99eaa381965b:6' labels=frozenset({'CVE'}) properties={'assigner': 'cna@sap.com', 'id': 'CVE-2023-0018'}> Entities=<Node element_id='4:de342d72-e7ff-4d5b-9a28-99eaa381965b:8' labels=frozenset({'CVE'}) properties={'assigner': 'cna@sap.com', 'id': 'CVE-2023-0023'}>>, <Record cve1=<Node element_id='4:de342d72-e7ff-4d5b-9a28-99eaa381965b:3' labels=frozenset({'CVE'}) properties={'assigner': 'cna@sap.com', 'id': 'CVE-2023-0015'}> cve2=<Node element_id='4:de342d72-e7ff-4d5b-9a28-99eaa381965b:6' labels=frozenset({'CVE'}) properties={'assigner': 'cna@sap.com', 'id': 'CVE-2023-0018'}> Entities=<Node element_id='4:de342d72-e7ff-4d5b-9a28-99eaa381965b:0' labels=frozenset({'CVE'}) properties={'assigner': 'cna@sap.com', 'id': 'CVE-2023-0012'}>>, <Record cve1=<Node element_id='4:de342d72-e7ff-4d5b-9a28-99eaa381965b:3' labels=frozenset({'CVE'}) properties={'assigner': 'cna@sap.com', 'id': 'CVE-2023-0015'}> cve2=<Node element_id='4:de342d72-e7ff-4d5b-9a28-99eaa381965b:6' labels=frozenset({'CVE'}) properties={'assigner': 'cna@sap.com', 'id': 'CVE-2023-0018'}> Entities=<Node element_id='4:de342d72-e7ff-4d5b-9a28-99eaa381965b:5' labels=frozenset({'CVE'}) properties={'assigner': 'cna@sap.com', 'id': 'CVE-2023-0017'}>>, <Record cve1=<Node element_id='4:de342d72-e7ff-4d5b-9a28-99eaa381965b:3' labels=frozenset({'CVE'}) properties={'assigner': 'cna@sap.com', 'id': 'CVE-2023-0015'}> cve2=<Node element_id='4:de342d72-e7ff-4d5b-9a28-99eaa381965b:6' labels=frozenset({'CVE'}) properties={'assigner': 'cna@sap.com', 'id': 'CVE-2023-0018'}> Entities=<Node element_id='4:de342d72-e7ff-4d5b-9a28-99eaa381965b:0' labels=frozenset({'CVE'}) properties={'assigner': 'cna@sap.com', 'id': 'CVE-2023-0012'}>>, <Record cve1=<Node element_id='4:de342d72-e7ff-4d5b-9a28-99eaa381965b:3' labels=frozenset({'CVE'}) properties={'assigner': 'cna@sap.com', 'id': 'CVE-2023-0015'}> cve2=<Node element_id='4:de342d72-e7ff-4d5b-9a28-99eaa381965b:6' labels=frozenset({'CVE'}) properties={'assigner': 'cna@sap.com', 'id': 'CVE-2023-0018'}> Entities=<Node element_id='4:de342d72-e7ff-4d5b-9a28-99eaa381965b:0' labels=frozenset({'CVE'}) properties={'assigner': 'cna@sap.com', 'id': 'CVE-2023-0012'}>>, <Record cve1=<Node element_id='4:de342d72-e7ff-4d5b-9a28-99eaa381965b:3' labels=frozenset({'CVE'}) properties={'assigner': 'cna@sap.com', 'id': 'CVE-2023-0015'}> cve2=<Node element_id='4:de342d72-e7ff-4d5b-9a28-99eaa381965b:6' labels=frozenset({'CVE'}) properties={'assigner': 'cna@sap.com', 'id': 'CVE-2023-0018'}> Entities=<Node element_id='4:de342d72-e7ff-4d5b-9a28-99eaa381965b:5' labels=frozenset({'CVE'}) properties={'assigner': 'cna@sap.com', 'id': 'CVE-2023-0017'}>>, <Record cve1=<Node element_id='4:de342d72-e7ff-4d5b-9a28-99eaa381965b:3' labels=frozenset({'CVE'}) properties={'assigner': 'cna@sap.com', 'id': 'CVE-2023-0015'}> cve2=<Node element_id='4:de342d72-e7ff-4d5b-9a28-99eaa381965b:6' labels=frozenset({'CVE'}) properties={'assigner': 'cna@sap.com', 'id': 'CVE-2023-0018'}> Entities=<Node element_id='4:de342d72-e7ff-4d5b-9a28-99eaa381965b:5' labels=frozenset({'CVE'}) properties={'assigner': 'cna@sap.com', 'id': 'CVE-2023-0017'}>>, <Record cve1=<Node element_id='4:de342d72-e7ff-4d5b-9a28-99eaa381965b:3' labels=frozenset({'CVE'}) properties={'assigner': 'cna@sap.com', 'id': 'CVE-2023-0015'}> cve2=<Node element_id='4:de342d72-e7ff-4d5b-9a28-99eaa381965b:6' labels=frozenset({'CVE'}) properties={'assigner': 'cna@sap.com', 'id': 'CVE-2023-0018'}> Entities=<Node element_id='4:de342d72-e7ff-4d5b-9a28-99eaa381965b:6' labels=frozenset({'CVE'}) properties={'assigner': 'cna@sap.com', 'id': 'CVE-2023-0018'}>>, <Record cve1=<Node element_id='4:de342d72-e7ff-4d5b-9a28-99eaa381965b:3' labels=frozenset({'CVE'}) properties={'assigner': 'cna@sap.com', 'id': 'CVE-2023-0015'}> cve2=<Node element_id='4:de342d72-e7ff-4d5b-9a28-99eaa381965b:6' labels=frozenset({'CVE'}) properties={'assigner': 'cna@sap.com', 'id': 'CVE-2023-0018'}> Entities=<Node element_id='4:de342d72-e7ff-4d5b-9a28-99eaa381965b:6' labels=frozenset({'CVE'}) properties={'assigner': 'cna@sap.com', 'id': 'CVE-2023-0018'}>>, <Record cve1=<Node element_id='4:de342d72-e7ff-4d5b-9a28-99eaa381965b:3' labels=frozenset({'CVE'}) properties={'assigner': 'cna@sap.com', 'id': 'CVE-2023-0015'}> cve2=<Node element_id='4:de342d72-e7ff-4d5b-9a28-99eaa381965b:6' labels=frozenset({'CVE'}) properties={'assigner': 'cna@sap.com', 'id': 'CVE-2023-0018'}> Entities=<Node element_id='4:de342d72-e7ff-4d5b-9a28-99eaa381965b:6' labels=frozenset({'CVE'}) properties={'assigner': 'cna@sap.com', 'id': 'CVE-2023-0018'}>>, <Record cve1=<Node element_id='4:de342d72-e7ff-4d5b-9a28-99eaa381965b:3' labels=frozenset({'CVE'}) properties={'assigner': 'cna@sap.com', 'id': 'CVE-2023-0015'}> cve2=<Node element_id='4:de342d72-e7ff-4d5b-9a28-99eaa381965b:6' labels=frozenset({'CVE'}) properties={'assigner': 'cna@sap.com', 'id': 'CVE-2023-0018'}> Entities=<Node element_id='4:de342d72-e7ff-4d5b-9a28-99eaa381965b:6' labels=frozenset({'CVE'}) properties={'assigner': 'cna@sap.com', 'id': 'CVE-2023-0018'}>>, <Record cve1=<Node element_id='4:de342d72-e7ff-4d5b-9a28-99eaa381965b:3' labels=frozenset({'CVE'}) properties={'assigner': 'cna@sap.com', 'id': 'CVE-2023-0015'}> cve2=<Node element_id='4:de342d72-e7ff-4d5b-9a28-99eaa381965b:6' labels=frozenset({'CVE'}) properties={'assigner': 'cna@sap.com', 'id': 'CVE-2023-0018'}> Entities=<Node element_id='4:de342d72-e7ff-4d5b-9a28-99eaa381965b:9' labels=frozenset({'CVE'}) properties={'assigner': 'security@huntr.dev', 'id': 'CVE-2023-0028'}>>, <Record cve1=<Node element_id='4:de342d72-e7ff-4d5b-9a28-99eaa381965b:3' labels=frozenset({'CVE'}) properties={'assigner': 'cna@sap.com', 'id': 'CVE-2023-0015'}> cve2=<Node element_id='4:de342d72-e7ff-4d5b-9a28-99eaa381965b:6' labels=frozenset({'CVE'}) properties={'assigner': 'cna@sap.com', 'id': 'CVE-2023-0018'}> Entities=<Node element_id='4:de342d72-e7ff-4d5b-9a28-99eaa381965b:9' labels=frozenset({'CVE'}) properties={'assigner': 'security@huntr.dev', 'id': 'CVE-2023-0028'}>>, <Record cve1=<Node element_id='4:de342d72-e7ff-4d5b-9a28-99eaa381965b:3' labels=frozenset({'CVE'}) properties={'assigner': 'cna@sap.com', 'id': 'CVE-2023-0015'}> cve2=<Node element_id='4:de342d72-e7ff-4d5b-9a28-99eaa381965b:6' labels=frozenset({'CVE'}) properties={'assigner': 'cna@sap.com', 'id': 'CVE-2023-0018'}> Entities=<Node element_id='4:de342d72-e7ff-4d5b-9a28-99eaa381965b:9' labels=frozenset({'CVE'}) properties={'assigner': 'security@huntr.dev', 'id': 'CVE-2023-0028'}>>, <Record cve1=<Node element_id='4:de342d72-e7ff-4d5b-9a28-99eaa381965b:3' labels=frozenset({'CVE'}) properties={'assigner': 'cna@sap.com', 'id': 'CVE-2023-0015'}> cve2=<Node element_id='4:de342d72-e7ff-4d5b-9a28-99eaa381965b:6' labels=frozenset({'CVE'}) properties={'assigner': 'cna@sap.com', 'id': 'CVE-2023-0018'}> Entities=<Node element_id='4:de342d72-e7ff-4d5b-9a28-99eaa381965b:9' labels=frozenset({'CVE'}) properties={'assigner': 'security@huntr.dev', 'id': 'CVE-2023-0028'}>>, <Record cve1=<Node element_id='4:de342d72-e7ff-4d5b-9a28-99eaa381965b:3' labels=frozenset({'CVE'}) properties={'assigner': 'cna@sap.com', 'id': 'CVE-2023-0015'}> cve2=<Node element_id='4:de342d72-e7ff-4d5b-9a28-99eaa381965b:6' labels=frozenset({'CVE'}) properties={'assigner': 'cna@sap.com', 'id': 'CVE-2023-0018'}> Entities=<Node element_id='4:de342d72-e7ff-4d5b-9a28-99eaa381965b:3' labels=frozenset({'CVE'}) properties={'assigner': 'cna@sap.com', 'id': 'CVE-2023-0015'}>>, <Record cve1=<Node element_id='4:de342d72-e7ff-4d5b-9a28-99eaa381965b:3' labels=frozenset({'CVE'}) properties={'assigner': 'cna@sap.com', 'id': 'CVE-2023-0015'}> cve2=<Node element_id='4:de342d72-e7ff-4d5b-9a28-99eaa381965b:6' labels=frozenset({'CVE'}) properties={'assigner': 'cna@sap.com', 'id': 'CVE-2023-0018'}> Entities=<Node element_id='4:de342d72-e7ff-4d5b-9a28-99eaa381965b:3' labels=frozenset({'CVE'}) properties={'assigner': 'cna@sap.com', 'id': 'CVE-2023-0015'}>>, <Record cve1=<Node element_id='4:de342d72-e7ff-4d5b-9a28-99eaa381965b:3' labels=frozenset({'CVE'}) properties={'assigner': 'cna@sap.com', 'id': 'CVE-2023-0015'}> cve2=<Node element_id='4:de342d72-e7ff-4d5b-9a28-99eaa381965b:6' labels=frozenset({'CVE'}) properties={'assigner': 'cna@sap.com', 'id': 'CVE-2023-0018'}> Entities=<Node element_id='4:de342d72-e7ff-4d5b-9a28-99eaa381965b:3' labels=frozenset({'CVE'}) properties={'assigner': 'cna@sap.com', 'id': 'CVE-2023-0015'}>>, <Record cve1=<Node element_id='4:de342d72-e7ff-4d5b-9a28-99eaa381965b:3' labels=frozenset({'CVE'}) properties={'assigner': 'cna@sap.com', 'id': 'CVE-2023-0015'}> cve2=<Node element_id='4:de342d72-e7ff-4d5b-9a28-99eaa381965b:6' labels=frozenset({'CVE'}) properties={'assigner': 'cna@sap.com', 'id': 'CVE-2023-0018'}> Entities=<Node element_id='4:de342d72-e7ff-4d5b-9a28-99eaa381965b:3' labels=frozenset({'CVE'}) properties={'assigner': 'cna@sap.com', 'id': 'CVE-2023-0015'}>>, <Record cve1=<Node element_id='4:de342d72-e7ff-4d5b-9a28-99eaa381965b:3' labels=frozenset({'CVE'}) properties={'assigner': 'cna@sap.com', 'id': 'CVE-2023-0015'}> cve2=<Node element_id='4:de342d72-e7ff-4d5b-9a28-99eaa381965b:6' labels=frozenset({'CVE'}) properties={'assigner': 'cna@sap.com', 'id': 'CVE-2023-0018'}> Entities=<Node element_id='4:de342d72-e7ff-4d5b-9a28-99eaa381965b:1' labels=frozenset({'CVE'}) properties={'assigner': 'cna@sap.com', 'id': 'CVE-2023-0013'}>>, <Record cve1=<Node element_id='4:de342d72-e7ff-4d5b-9a28-99eaa381965b:3' labels=frozenset({'CVE'}) properties={'assigner': 'cna@sap.com', 'id': 'CVE-2023-0015'}> cve2=<Node element_id='4:de342d72-e7ff-4d5b-9a28-99eaa381965b:6' labels=frozenset({'CVE'}) properties={'assigner': 'cna@sap.com', 'id': 'CVE-2023-0018'}> Entities=<Node element_id='4:de342d72-e7ff-4d5b-9a28-99eaa381965b:1' labels=frozenset({'CVE'}) properties={'assigner': 'cna@sap.com', 'id': 'CVE-2023-0013'}>>, <Record cve1=<Node element_id='4:de342d72-e7ff-4d5b-9a28-99eaa381965b:3' labels=frozenset({'CVE'}) properties={'assigner': 'cna@sap.com', 'id': 'CVE-2023-0015'}> cve2=<Node element_id='4:de342d72-e7ff-4d5b-9a28-99eaa381965b:6' labels=frozenset({'CVE'}) properties={'assigner': 'cna@sap.com', 'id': 'CVE-2023-0018'}> Entities=<Node element_id='4:de342d72-e7ff-4d5b-9a28-99eaa381965b:1' labels=frozenset({'CVE'}) properties={'assigner': 'cna@sap.com', 'id': 'CVE-2023-0013'}>>, <Record cve1=<Node element_id='4:de342d72-e7ff-4d5b-9a28-99eaa381965b:3' labels=frozenset({'CVE'}) properties={'assigner': 'cna@sap.com', 'id': 'CVE-2023-0015'}> cve2=<Node element_id='4:de342d72-e7ff-4d5b-9a28-99eaa381965b:6' labels=frozenset({'CVE'}) properties={'assigner': 'cna@sap.com', 'id': 'CVE-2023-0018'}> Entities=<Node element_id='4:de342d72-e7ff-4d5b-9a28-99eaa381965b:1' labels=frozenset({'CVE'}) properties={'assigner': 'cna@sap.com', 'id': 'CVE-2023-0013'}>>, <Record cve1=<Node element_id='4:de342d72-e7ff-4d5b-9a28-99eaa381965b:3' labels=frozenset({'CVE'}) properties={'assigner': 'cna@sap.com', 'id': 'CVE-2023-0015'}> cve2=<Node element_id='4:de342d72-e7ff-4d5b-9a28-99eaa381965b:6' labels=frozenset({'CVE'}) properties={'assigner': 'cna@sap.com', 'id': 'CVE-2023-0018'}> Entities=<Node element_id='4:de342d72-e7ff-4d5b-9a28-99eaa381965b:6' labels=frozenset({'CVE'}) properties={'assigner': 'cna@sap.com', 'id': 'CVE-2023-0018'}>>, <Record cve1=<Node element_id='4:de342d72-e7ff-4d5b-9a28-99eaa381965b:3' labels=frozenset({'CVE'}) properties={'assigner': 'cna@sap.com', 'id': 'CVE-2023-0015'}> cve2=<Node element_id='4:de342d72-e7ff-4d5b-9a28-99eaa381965b:6' labels=frozenset({'CVE'}) properties={'assigner': 'cna@sap.com', 'id': 'CVE-2023-0018'}> Entities=<Node element_id='4:de342d72-e7ff-4d5b-9a28-99eaa381965b:6' labels=frozenset({'CVE'}) properties={'assigner': 'cna@sap.com', 'id': 'CVE-2023-0018'}>>, <Record cve1=<Node element_id='4:de342d72-e7ff-4d5b-9a28-99eaa381965b:3' labels=frozenset({'CVE'}) properties={'assigner': 'cna@sap.com', 'id': 'CVE-2023-0015'}> cve2=<Node element_id='4:de342d72-e7ff-4d5b-9a28-99eaa381965b:6' labels=frozenset({'CVE'}) properties={'assigner': 'cna@sap.com', 'id': 'CVE-2023-0018'}> Entities=<Node element_id='4:de342d72-e7ff-4d5b-9a28-99eaa381965b:9' labels=frozenset({'CVE'}) properties={'assigner': 'security@huntr.dev', 'id': 'CVE-2023-0028'}>>, <Record cve1=<Node element_id='4:de342d72-e7ff-4d5b-9a28-99eaa381965b:3' labels=frozenset({'CVE'}) properties={'assigner': 'cna@sap.com', 'id': 'CVE-2023-0015'}> cve2=<Node element_id='4:de342d72-e7ff-4d5b-9a28-99eaa381965b:6' labels=frozenset({'CVE'}) properties={'assigner': 'cna@sap.com', 'id': 'CVE-2023-0018'}> Entities=<Node element_id='4:de342d72-e7ff-4d5b-9a28-99eaa381965b:9' labels=frozenset({'CVE'}) properties={'assigner': 'security@huntr.dev', 'id': 'CVE-2023-0028'}>>, <Record cve1=<Node element_id='4:de342d72-e7ff-4d5b-9a28-99eaa381965b:3' labels=frozenset({'CVE'}) properties={'assigner': 'cna@sap.com', 'id': 'CVE-2023-0015'}> cve2=<Node element_id='4:de342d72-e7ff-4d5b-9a28-99eaa381965b:6' labels=frozenset({'CVE'}) properties={'assigner': 'cna@sap.com', 'id': 'CVE-2023-0018'}> Entities=<Node element_id='4:de342d72-e7ff-4d5b-9a28-99eaa381965b:3' labels=frozenset({'CVE'}) properties={'assigner': 'cna@sap.com', 'id': 'CVE-2023-0015'}>>, <Record cve1=<Node element_id='4:de342d72-e7ff-4d5b-9a28-99eaa381965b:3' labels=frozenset({'CVE'}) properties={'assigner': 'cna@sap.com', 'id': 'CVE-2023-0015'}> cve2=<Node element_id='4:de342d72-e7ff-4d5b-9a28-99eaa381965b:6' labels=frozenset({'CVE'}) properties={'assigner': 'cna@sap.com', 'id': 'CVE-2023-0018'}> Entities=<Node element_id='4:de342d72-e7ff-4d5b-9a28-99eaa381965b:3' labels=frozenset({'CVE'}) properties={'assigner': 'cna@sap.com', 'id': 'CVE-2023-0015'}>>, <Record cve1=<Node element_id='4:de342d72-e7ff-4d5b-9a28-99eaa381965b:3' labels=frozenset({'CVE'}) properties={'assigner': 'cna@sap.com', 'id': 'CVE-2023-0015'}> cve2=<Node element_id='4:de342d72-e7ff-4d5b-9a28-99eaa381965b:6' labels=frozenset({'CVE'}) properties={'assigner': 'cna@sap.com', 'id': 'CVE-2023-0018'}> Entities=<Node element_id='4:de342d72-e7ff-4d5b-9a28-99eaa381965b:1' labels=frozenset({'CVE'}) properties={'assigner': 'cna@sap.com', 'id': 'CVE-2023-0013'}>>, <Record cve1=<Node element_id='4:de342d72-e7ff-4d5b-9a28-99eaa381965b:3' labels=frozenset({'CVE'}) properties={'assigner': 'cna@sap.com', 'id': 'CVE-2023-0015'}> cve2=<Node element_id='4:de342d72-e7ff-4d5b-9a28-99eaa381965b:6' labels=frozenset({'CVE'}) properties={'assigner': 'cna@sap.com', 'id': 'CVE-2023-0018'}> Entities=<Node element_id='4:de342d72-e7ff-4d5b-9a28-99eaa381965b:1' labels=frozenset({'CVE'}) properties={'assigner': 'cna@sap.com', 'id': 'CVE-2023-0013'}>>, <Record cve1=<Node element_id='4:de342d72-e7ff-4d5b-9a28-99eaa381965b:3' labels=frozenset({'CVE'}) properties={'assigner': 'cna@sap.com', 'id': 'CVE-2023-0015'}> cve2=<Node element_id='4:de342d72-e7ff-4d5b-9a28-99eaa381965b:6' labels=frozenset({'CVE'}) properties={'assigner': 'cna@sap.com', 'id': 'CVE-2023-0018'}> Entities=<Node element_id='4:de342d72-e7ff-4d5b-9a28-99eaa381965b:6' labels=frozenset({'CVE'}) properties={'assigner': 'cna@sap.com', 'id': 'CVE-2023-0018'}>>, <Record cve1=<Node element_id='4:de342d72-e7ff-4d5b-9a28-99eaa381965b:3' labels=frozenset({'CVE'}) properties={'assigner': 'cna@sap.com', 'id': 'CVE-2023-0015'}> cve2=<Node element_id='4:de342d72-e7ff-4d5b-9a28-99eaa381965b:6' labels=frozenset({'CVE'}) properties={'assigner': 'cna@sap.com', 'id': 'CVE-2023-0018'}> Entities=<Node element_id='4:de342d72-e7ff-4d5b-9a28-99eaa381965b:6' labels=frozenset({'CVE'}) properties={'assigner': 'cna@sap.com', 'id': 'CVE-2023-0018'}>>, <Record cve1=<Node element_id='4:de342d72-e7ff-4d5b-9a28-99eaa381965b:3' labels=frozenset({'CVE'}) properties={'assigner': 'cna@sap.com', 'id': 'CVE-2023-0015'}> cve2=<Node element_id='4:de342d72-e7ff-4d5b-9a28-99eaa381965b:6' labels=frozenset({'CVE'}) properties={'assigner': 'cna@sap.com', 'id': 'CVE-2023-0018'}> Entities=<Node element_id='4:de342d72-e7ff-4d5b-9a28-99eaa381965b:9' labels=frozenset({'CVE'}) properties={'assigner': 'security@huntr.dev', 'id': 'CVE-2023-0028'}>>, <Record cve1=<Node element_id='4:de342d72-e7ff-4d5b-9a28-99eaa381965b:3' labels=frozenset({'CVE'}) properties={'assigner': 'cna@sap.com', 'id': 'CVE-2023-0015'}> cve2=<Node element_id='4:de342d72-e7ff-4d5b-9a28-99eaa381965b:6' labels=frozenset({'CVE'}) properties={'assigner': 'cna@sap.com', 'id': 'CVE-2023-0018'}> Entities=<Node element_id='4:de342d72-e7ff-4d5b-9a28-99eaa381965b:9' labels=frozenset({'CVE'}) properties={'assigner': 'security@huntr.dev', 'id': 'CVE-2023-0028'}>>, <Record cve1=<Node element_id='4:de342d72-e7ff-4d5b-9a28-99eaa381965b:3' labels=frozenset({'CVE'}) properties={'assigner': 'cna@sap.com', 'id': 'CVE-2023-0015'}> cve2=<Node element_id='4:de342d72-e7ff-4d5b-9a28-99eaa381965b:6' labels=frozenset({'CVE'}) properties={'assigner': 'cna@sap.com', 'id': 'CVE-2023-0018'}> Entities=<Node element_id='4:de342d72-e7ff-4d5b-9a28-99eaa381965b:3' labels=frozenset({'CVE'}) properties={'assigner': 'cna@sap.com', 'id': 'CVE-2023-0015'}>>, <Record cve1=<Node element_id='4:de342d72-e7ff-4d5b-9a28-99eaa381965b:3' labels=frozenset({'CVE'}) properties={'assigner': 'cna@sap.com', 'id': 'CVE-2023-0015'}> cve2=<Node element_id='4:de342d72-e7ff-4d5b-9a28-99eaa381965b:6' labels=frozenset({'CVE'}) properties={'assigner': 'cna@sap.com', 'id': 'CVE-2023-0018'}> Entities=<Node element_id='4:de342d72-e7ff-4d5b-9a28-99eaa381965b:3' labels=frozenset({'CVE'}) properties={'assigner': 'cna@sap.com', 'id': 'CVE-2023-0015'}>>, <Record cve1=<Node element_id='4:de342d72-e7ff-4d5b-9a28-99eaa381965b:3' labels=frozenset({'CVE'}) properties={'assigner': 'cna@sap.com', 'id': 'CVE-2023-0015'}> cve2=<Node element_id='4:de342d72-e7ff-4d5b-9a28-99eaa381965b:6' labels=frozenset({'CVE'}) properties={'assigner': 'cna@sap.com', 'id': 'CVE-2023-0018'}> Entities=<Node element_id='4:de342d72-e7ff-4d5b-9a28-99eaa381965b:1' labels=frozenset({'CVE'}) properties={'assigner': 'cna@sap.com', 'id': 'CVE-2023-0013'}>>, <Record cve1=<Node element_id='4:de342d72-e7ff-4d5b-9a28-99eaa381965b:3' labels=frozenset({'CVE'}) properties={'assigner': 'cna@sap.com', 'id': 'CVE-2023-0015'}> cve2=<Node element_id='4:de342d72-e7ff-4d5b-9a28-99eaa381965b:6' labels=frozenset({'CVE'}) properties={'assigner': 'cna@sap.com', 'id': 'CVE-2023-0018'}> Entities=<Node element_id='4:de342d72-e7ff-4d5b-9a28-99eaa381965b:1' labels=frozenset({'CVE'}) properties={'assigner': 'cna@sap.com', 'id': 'CVE-2023-0013'}>>, <Record cve1=<Node element_id='4:de342d72-e7ff-4d5b-9a28-99eaa381965b:3' labels=frozenset({'CVE'}) properties={'assigner': 'cna@sap.com', 'id': 'CVE-2023-0015'}> cve2=<Node element_id='4:de342d72-e7ff-4d5b-9a28-99eaa381965b:6' labels=frozenset({'CVE'}) properties={'assigner': 'cna@sap.com', 'id': 'CVE-2023-0018'}> Entities=<Node element_id='4:de342d72-e7ff-4d5b-9a28-99eaa381965b:6' labels=frozenset({'CVE'}) properties={'assigner': 'cna@sap.com', 'id': 'CVE-2023-0018'}>>, <Record cve1=<Node element_id='4:de342d72-e7ff-4d5b-9a28-99eaa381965b:3' labels=frozenset({'CVE'}) properties={'assigner': 'cna@sap.com', 'id': 'CVE-2023-0015'}> cve2=<Node element_id='4:de342d72-e7ff-4d5b-9a28-99eaa381965b:6' labels=frozenset({'CVE'}) properties={'assigner': 'cna@sap.com', 'id': 'CVE-2023-0018'}> Entities=<Node element_id='4:de342d72-e7ff-4d5b-9a28-99eaa381965b:6' labels=frozenset({'CVE'}) properties={'assigner': 'cna@sap.com', 'id': 'CVE-2023-0018'}>>, <Record cve1=<Node element_id='4:de342d72-e7ff-4d5b-9a28-99eaa381965b:3' labels=frozenset({'CVE'}) properties={'assigner': 'cna@sap.com', 'id': 'CVE-2023-0015'}> cve2=<Node element_id='4:de342d72-e7ff-4d5b-9a28-99eaa381965b:6' labels=frozenset({'CVE'}) properties={'assigner': 'cna@sap.com', 'id': 'CVE-2023-0018'}> Entities=<Node element_id='4:de342d72-e7ff-4d5b-9a28-99eaa381965b:6' labels=frozenset({'CVE'}) properties={'assigner': 'cna@sap.com', 'id': 'CVE-2023-0018'}>>, <Record cve1=<Node element_id='4:de342d72-e7ff-4d5b-9a28-99eaa381965b:3' labels=frozenset({'CVE'}) properties={'assigner': 'cna@sap.com', 'id': 'CVE-2023-0015'}> cve2=<Node element_id='4:de342d72-e7ff-4d5b-9a28-99eaa381965b:6' labels=frozenset({'CVE'}) properties={'assigner': 'cna@sap.com', 'id': 'CVE-2023-0018'}> Entities=<Node element_id='4:de342d72-e7ff-4d5b-9a28-99eaa381965b:9' labels=frozenset({'CVE'}) properties={'assigner': 'security@huntr.dev', 'id': 'CVE-2023-0028'}>>, <Record cve1=<Node element_id='4:de342d72-e7ff-4d5b-9a28-99eaa381965b:3' labels=frozenset({'CVE'}) properties={'assigner': 'cna@sap.com', 'id': 'CVE-2023-0015'}> cve2=<Node element_id='4:de342d72-e7ff-4d5b-9a28-99eaa381965b:6' labels=frozenset({'CVE'}) properties={'assigner': 'cna@sap.com', 'id': 'CVE-2023-0018'}> Entities=<Node element_id='4:de342d72-e7ff-4d5b-9a28-99eaa381965b:9' labels=frozenset({'CVE'}) properties={'assigner': 'security@huntr.dev', 'id': 'CVE-2023-0028'}>>, <Record cve1=<Node element_id='4:de342d72-e7ff-4d5b-9a28-99eaa381965b:3' labels=frozenset({'CVE'}) properties={'assigner': 'cna@sap.com', 'id': 'CVE-2023-0015'}> cve2=<Node element_id='4:de342d72-e7ff-4d5b-9a28-99eaa381965b:6' labels=frozenset({'CVE'}) properties={'assigner': 'cna@sap.com', 'id': 'CVE-2023-0018'}> Entities=<Node element_id='4:de342d72-e7ff-4d5b-9a28-99eaa381965b:9' labels=frozenset({'CVE'}) properties={'assigner': 'security@huntr.dev', 'id': 'CVE-2023-0028'}>>, <Record cve1=<Node element_id='4:de342d72-e7ff-4d5b-9a28-99eaa381965b:3' labels=frozenset({'CVE'}) properties={'assigner': 'cna@sap.com', 'id': 'CVE-2023-0015'}> cve2=<Node element_id='4:de342d72-e7ff-4d5b-9a28-99eaa381965b:6' labels=frozenset({'CVE'}) properties={'assigner': 'cna@sap.com', 'id': 'CVE-2023-0018'}> Entities=<Node element_id='4:de342d72-e7ff-4d5b-9a28-99eaa381965b:3' labels=frozenset({'CVE'}) properties={'assigner': 'cna@sap.com', 'id': 'CVE-2023-0015'}>>, <Record cve1=<Node element_id='4:de342d72-e7ff-4d5b-9a28-99eaa381965b:3' labels=frozenset({'CVE'}) properties={'assigner': 'cna@sap.com', 'id': 'CVE-2023-0015'}> cve2=<Node element_id='4:de342d72-e7ff-4d5b-9a28-99eaa381965b:6' labels=frozenset({'CVE'}) properties={'assigner': 'cna@sap.com', 'id': 'CVE-2023-0018'}> Entities=<Node element_id='4:de342d72-e7ff-4d5b-9a28-99eaa381965b:3' labels=frozenset({'CVE'}) properties={'assigner': 'cna@sap.com', 'id': 'CVE-2023-0015'}>>, <Record cve1=<Node element_id='4:de342d72-e7ff-4d5b-9a28-99eaa381965b:3' labels=frozenset({'CVE'}) properties={'assigner': 'cna@sap.com', 'id': 'CVE-2023-0015'}> cve2=<Node element_id='4:de342d72-e7ff-4d5b-9a28-99eaa381965b:6' labels=frozenset({'CVE'}) properties={'assigner': 'cna@sap.com', 'id': 'CVE-2023-0018'}> Entities=<Node element_id='4:de342d72-e7ff-4d5b-9a28-99eaa381965b:3' labels=frozenset({'CVE'}) properties={'assigner': 'cna@sap.com', 'id': 'CVE-2023-0015'}>>, <Record cve1=<Node element_id='4:de342d72-e7ff-4d5b-9a28-99eaa381965b:3' labels=frozenset({'CVE'}) properties={'assigner': 'cna@sap.com', 'id': 'CVE-2023-0015'}> cve2=<Node element_id='4:de342d72-e7ff-4d5b-9a28-99eaa381965b:6' labels=frozenset({'CVE'}) properties={'assigner': 'cna@sap.com', 'id': 'CVE-2023-0018'}> Entities=<Node element_id='4:de342d72-e7ff-4d5b-9a28-99eaa381965b:1' labels=frozenset({'CVE'}) properties={'assigner': 'cna@sap.com', 'id': 'CVE-2023-0013'}>>, <Record cve1=<Node element_id='4:de342d72-e7ff-4d5b-9a28-99eaa381965b:3' labels=frozenset({'CVE'}) properties={'assigner': 'cna@sap.com', 'id': 'CVE-2023-0015'}> cve2=<Node element_id='4:de342d72-e7ff-4d5b-9a28-99eaa381965b:6' labels=frozenset({'CVE'}) properties={'assigner': 'cna@sap.com', 'id': 'CVE-2023-0018'}> Entities=<Node element_id='4:de342d72-e7ff-4d5b-9a28-99eaa381965b:1' labels=frozenset({'CVE'}) properties={'assigner': 'cna@sap.com', 'id': 'CVE-2023-0013'}>>, <Record cve1=<Node element_id='4:de342d72-e7ff-4d5b-9a28-99eaa381965b:3' labels=frozenset({'CVE'}) properties={'assigner': 'cna@sap.com', 'id': 'CVE-2023-0015'}> cve2=<Node element_id='4:de342d72-e7ff-4d5b-9a28-99eaa381965b:6' labels=frozenset({'CVE'}) properties={'assigner': 'cna@sap.com', 'id': 'CVE-2023-0018'}> Entities=<Node element_id='4:de342d72-e7ff-4d5b-9a28-99eaa381965b:1' labels=frozenset({'CVE'}) properties={'assigner': 'cna@sap.com', 'id': 'CVE-2023-0013'}>>, <Record cve1=<Node element_id='4:de342d72-e7ff-4d5b-9a28-99eaa381965b:3' labels=frozenset({'CVE'}) properties={'assigner': 'cna@sap.com', 'id': 'CVE-2023-0015'}> cve2=<Node element_id='4:de342d72-e7ff-4d5b-9a28-99eaa381965b:6' labels=frozenset({'CVE'}) properties={'assigner': 'cna@sap.com', 'id': 'CVE-2023-0018'}> Entities=<Node element_id='4:de342d72-e7ff-4d5b-9a28-99eaa381965b:6' labels=frozenset({'CVE'}) properties={'assigner': 'cna@sap.com', 'id': 'CVE-2023-0018'}>>, <Record cve1=<Node element_id='4:de342d72-e7ff-4d5b-9a28-99eaa381965b:3' labels=frozenset({'CVE'}) properties={'assigner': 'cna@sap.com', 'id': 'CVE-2023-0015'}> cve2=<Node element_id='4:de342d72-e7ff-4d5b-9a28-99eaa381965b:6' labels=frozenset({'CVE'}) properties={'assigner': 'cna@sap.com', 'id': 'CVE-2023-0018'}> Entities=<Node element_id='4:de342d72-e7ff-4d5b-9a28-99eaa381965b:6' labels=frozenset({'CVE'}) properties={'assigner': 'cna@sap.com', 'id': 'CVE-2023-0018'}>>, <Record cve1=<Node element_id='4:de342d72-e7ff-4d5b-9a28-99eaa381965b:3' labels=frozenset({'CVE'}) properties={'assigner': 'cna@sap.com', 'id': 'CVE-2023-0015'}> cve2=<Node element_id='4:de342d72-e7ff-4d5b-9a28-99eaa381965b:6' labels=frozenset({'CVE'}) properties={'assigner': 'cna@sap.com', 'id': 'CVE-2023-0018'}> Entities=<Node element_id='4:de342d72-e7ff-4d5b-9a28-99eaa381965b:6' labels=frozenset({'CVE'}) properties={'assigner': 'cna@sap.com', 'id': 'CVE-2023-0018'}>>, <Record cve1=<Node element_id='4:de342d72-e7ff-4d5b-9a28-99eaa381965b:3' labels=frozenset({'CVE'}) properties={'assigner': 'cna@sap.com', 'id': 'CVE-2023-0015'}> cve2=<Node element_id='4:de342d72-e7ff-4d5b-9a28-99eaa381965b:6' labels=frozenset({'CVE'}) properties={'assigner': 'cna@sap.com', 'id': 'CVE-2023-0018'}> Entities=<Node element_id='4:de342d72-e7ff-4d5b-9a28-99eaa381965b:9' labels=frozenset({'CVE'}) properties={'assigner': 'security@huntr.dev', 'id': 'CVE-2023-0028'}>>, <Record cve1=<Node element_id='4:de342d72-e7ff-4d5b-9a28-99eaa381965b:3' labels=frozenset({'CVE'}) properties={'assigner': 'cna@sap.com', 'id': 'CVE-2023-0015'}> cve2=<Node element_id='4:de342d72-e7ff-4d5b-9a28-99eaa381965b:6' labels=frozenset({'CVE'}) properties={'assigner': 'cna@sap.com', 'id': 'CVE-2023-0018'}> Entities=<Node element_id='4:de342d72-e7ff-4d5b-9a28-99eaa381965b:9' labels=frozenset({'CVE'}) properties={'assigner': 'security@huntr.dev', 'id': 'CVE-2023-0028'}>>, <Record cve1=<Node element_id='4:de342d72-e7ff-4d5b-9a28-99eaa381965b:3' labels=frozenset({'CVE'}) properties={'assigner': 'cna@sap.com', 'id': 'CVE-2023-0015'}> cve2=<Node element_id='4:de342d72-e7ff-4d5b-9a28-99eaa381965b:6' labels=frozenset({'CVE'}) properties={'assigner': 'cna@sap.com', 'id': 'CVE-2023-0018'}> Entities=<Node element_id='4:de342d72-e7ff-4d5b-9a28-99eaa381965b:9' labels=frozenset({'CVE'}) properties={'assigner': 'security@huntr.dev', 'id': 'CVE-2023-0028'}>>, <Record cve1=<Node element_id='4:de342d72-e7ff-4d5b-9a28-99eaa381965b:3' labels=frozenset({'CVE'}) properties={'assigner': 'cna@sap.com', 'id': 'CVE-2023-0015'}> cve2=<Node element_id='4:de342d72-e7ff-4d5b-9a28-99eaa381965b:6' labels=frozenset({'CVE'}) properties={'assigner': 'cna@sap.com', 'id': 'CVE-2023-0018'}> Entities=<Node element_id='4:de342d72-e7ff-4d5b-9a28-99eaa381965b:3' labels=frozenset({'CVE'}) properties={'assigner': 'cna@sap.com', 'id': 'CVE-2023-0015'}>>, <Record cve1=<Node element_id='4:de342d72-e7ff-4d5b-9a28-99eaa381965b:3' labels=frozenset({'CVE'}) properties={'assigner': 'cna@sap.com', 'id': 'CVE-2023-0015'}> cve2=<Node element_id='4:de342d72-e7ff-4d5b-9a28-99eaa381965b:6' labels=frozenset({'CVE'}) properties={'assigner': 'cna@sap.com', 'id': 'CVE-2023-0018'}> Entities=<Node element_id='4:de342d72-e7ff-4d5b-9a28-99eaa381965b:3' labels=frozenset({'CVE'}) properties={'assigner': 'cna@sap.com', 'id': 'CVE-2023-0015'}>>, <Record cve1=<Node element_id='4:de342d72-e7ff-4d5b-9a28-99eaa381965b:3' labels=frozenset({'CVE'}) properties={'assigner': 'cna@sap.com', 'id': 'CVE-2023-0015'}> cve2=<Node element_id='4:de342d72-e7ff-4d5b-9a28-99eaa381965b:6' labels=frozenset({'CVE'}) properties={'assigner': 'cna@sap.com', 'id': 'CVE-2023-0018'}> Entities=<Node element_id='4:de342d72-e7ff-4d5b-9a28-99eaa381965b:3' labels=frozenset({'CVE'}) properties={'assigner': 'cna@sap.com', 'id': 'CVE-2023-0015'}>>, <Record cve1=<Node element_id='4:de342d72-e7ff-4d5b-9a28-99eaa381965b:3' labels=frozenset({'CVE'}) properties={'assigner': 'cna@sap.com', 'id': 'CVE-2023-0015'}> cve2=<Node element_id='4:de342d72-e7ff-4d5b-9a28-99eaa381965b:6' labels=frozenset({'CVE'}) properties={'assigner': 'cna@sap.com', 'id': 'CVE-2023-0018'}> Entities=<Node element_id='4:de342d72-e7ff-4d5b-9a28-99eaa381965b:1' labels=frozenset({'CVE'}) properties={'assigner': 'cna@sap.com', 'id': 'CVE-2023-0013'}>>, <Record cve1=<Node element_id='4:de342d72-e7ff-4d5b-9a28-99eaa381965b:3' labels=frozenset({'CVE'}) properties={'assigner': 'cna@sap.com', 'id': 'CVE-2023-0015'}> cve2=<Node element_id='4:de342d72-e7ff-4d5b-9a28-99eaa381965b:6' labels=frozenset({'CVE'}) properties={'assigner': 'cna@sap.com', 'id': 'CVE-2023-0018'}> Entities=<Node element_id='4:de342d72-e7ff-4d5b-9a28-99eaa381965b:1' labels=frozenset({'CVE'}) properties={'assigner': 'cna@sap.com', 'id': 'CVE-2023-0013'}>>, <Record cve1=<Node element_id='4:de342d72-e7ff-4d5b-9a28-99eaa381965b:3' labels=frozenset({'CVE'}) properties={'assigner': 'cna@sap.com', 'id': 'CVE-2023-0015'}> cve2=<Node element_id='4:de342d72-e7ff-4d5b-9a28-99eaa381965b:6' labels=frozenset({'CVE'}) properties={'assigner': 'cna@sap.com', 'id': 'CVE-2023-0018'}> Entities=<Node element_id='4:de342d72-e7ff-4d5b-9a28-99eaa381965b:1' labels=frozenset({'CVE'}) properties={'assigner': 'cna@sap.com', 'id': 'CVE-2023-0013'}>>, <Record cve1=<Node element_id='4:de342d72-e7ff-4d5b-9a28-99eaa381965b:3' labels=frozenset({'CVE'}) properties={'assigner': 'cna@sap.com', 'id': 'CVE-2023-0015'}> cve2=<Node element_id='4:de342d72-e7ff-4d5b-9a28-99eaa381965b:6' labels=frozenset({'CVE'}) properties={'assigner': 'cna@sap.com', 'id': 'CVE-2023-0018'}> Entities=<Node element_id='4:de342d72-e7ff-4d5b-9a28-99eaa381965b:6' labels=frozenset({'CVE'}) properties={'assigner': 'cna@sap.com', 'id': 'CVE-2023-0018'}>>, <Record cve1=<Node element_id='4:de342d72-e7ff-4d5b-9a28-99eaa381965b:3' labels=frozenset({'CVE'}) properties={'assigner': 'cna@sap.com', 'id': 'CVE-2023-0015'}> cve2=<Node element_id='4:de342d72-e7ff-4d5b-9a28-99eaa381965b:6' labels=frozenset({'CVE'}) properties={'assigner': 'cna@sap.com', 'id': 'CVE-2023-0018'}> Entities=<Node element_id='4:de342d72-e7ff-4d5b-9a28-99eaa381965b:6' labels=frozenset({'CVE'}) properties={'assigner': 'cna@sap.com', 'id': 'CVE-2023-0018'}>>, <Record cve1=<Node element_id='4:de342d72-e7ff-4d5b-9a28-99eaa381965b:3' labels=frozenset({'CVE'}) properties={'assigner': 'cna@sap.com', 'id': 'CVE-2023-0015'}> cve2=<Node element_id='4:de342d72-e7ff-4d5b-9a28-99eaa381965b:6' labels=frozenset({'CVE'}) properties={'assigner': 'cna@sap.com', 'id': 'CVE-2023-0018'}> Entities=<Node element_id='4:de342d72-e7ff-4d5b-9a28-99eaa381965b:9' labels=frozenset({'CVE'}) properties={'assigner': 'security@huntr.dev', 'id': 'CVE-2023-0028'}>>, <Record cve1=<Node element_id='4:de342d72-e7ff-4d5b-9a28-99eaa381965b:3' labels=frozenset({'CVE'}) properties={'assigner': 'cna@sap.com', 'id': 'CVE-2023-0015'}> cve2=<Node element_id='4:de342d72-e7ff-4d5b-9a28-99eaa381965b:6' labels=frozenset({'CVE'}) properties={'assigner': 'cna@sap.com', 'id': 'CVE-2023-0018'}> Entities=<Node element_id='4:de342d72-e7ff-4d5b-9a28-99eaa381965b:9' labels=frozenset({'CVE'}) properties={'assigner': 'security@huntr.dev', 'id': 'CVE-2023-0028'}>>, <Record cve1=<Node element_id='4:de342d72-e7ff-4d5b-9a28-99eaa381965b:3' labels=frozenset({'CVE'}) properties={'assigner': 'cna@sap.com', 'id': 'CVE-2023-0015'}> cve2=<Node element_id='4:de342d72-e7ff-4d5b-9a28-99eaa381965b:6' labels=frozenset({'CVE'}) properties={'assigner': 'cna@sap.com', 'id': 'CVE-2023-0018'}> Entities=<Node element_id='4:de342d72-e7ff-4d5b-9a28-99eaa381965b:3' labels=frozenset({'CVE'}) properties={'assigner': 'cna@sap.com', 'id': 'CVE-2023-0015'}>>, <Record cve1=<Node element_id='4:de342d72-e7ff-4d5b-9a28-99eaa381965b:3' labels=frozenset({'CVE'}) properties={'assigner': 'cna@sap.com', 'id': 'CVE-2023-0015'}> cve2=<Node element_id='4:de342d72-e7ff-4d5b-9a28-99eaa381965b:6' labels=frozenset({'CVE'}) properties={'assigner': 'cna@sap.com', 'id': 'CVE-2023-0018'}> Entities=<Node element_id='4:de342d72-e7ff-4d5b-9a28-99eaa381965b:3' labels=frozenset({'CVE'}) properties={'assigner': 'cna@sap.com', 'id': 'CVE-2023-0015'}>>, <Record cve1=<Node element_id='4:de342d72-e7ff-4d5b-9a28-99eaa381965b:3' labels=frozenset({'CVE'}) properties={'assigner': 'cna@sap.com', 'id': 'CVE-2023-0015'}> cve2=<Node element_id='4:de342d72-e7ff-4d5b-9a28-99eaa381965b:6' labels=frozenset({'CVE'}) properties={'assigner': 'cna@sap.com', 'id': 'CVE-2023-0018'}> Entities=<Node element_id='4:de342d72-e7ff-4d5b-9a28-99eaa381965b:1' labels=frozenset({'CVE'}) properties={'assigner': 'cna@sap.com', 'id': 'CVE-2023-0013'}>>, <Record cve1=<Node element_id='4:de342d72-e7ff-4d5b-9a28-99eaa381965b:3' labels=frozenset({'CVE'}) properties={'assigner': 'cna@sap.com', 'id': 'CVE-2023-0015'}> cve2=<Node element_id='4:de342d72-e7ff-4d5b-9a28-99eaa381965b:6' labels=frozenset({'CVE'}) properties={'assigner': 'cna@sap.com', 'id': 'CVE-2023-0018'}> Entities=<Node element_id='4:de342d72-e7ff-4d5b-9a28-99eaa381965b:1' labels=frozenset({'CVE'}) properties={'assigner': 'cna@sap.com', 'id': 'CVE-2023-0013'}>>, <Record cve1=<Node element_id='4:de342d72-e7ff-4d5b-9a28-99eaa381965b:3' labels=frozenset({'CVE'}) properties={'assigner': 'cna@sap.com', 'id': 'CVE-2023-0015'}> cve2=<Node element_id='4:de342d72-e7ff-4d5b-9a28-99eaa381965b:6' labels=frozenset({'CVE'}) properties={'assigner': 'cna@sap.com', 'id': 'CVE-2023-0018'}> Entities=<Node element_id='4:de342d72-e7ff-4d5b-9a28-99eaa381965b:6' labels=frozenset({'CVE'}) properties={'assigner': 'cna@sap.com', 'id': 'CVE-2023-0018'}>>, <Record cve1=<Node element_id='4:de342d72-e7ff-4d5b-9a28-99eaa381965b:3' labels=frozenset({'CVE'}) properties={'assigner': 'cna@sap.com', 'id': 'CVE-2023-0015'}> cve2=<Node element_id='4:de342d72-e7ff-4d5b-9a28-99eaa381965b:6' labels=frozenset({'CVE'}) properties={'assigner': 'cna@sap.com', 'id': 'CVE-2023-0018'}> Entities=<Node element_id='4:de342d72-e7ff-4d5b-9a28-99eaa381965b:6' labels=frozenset({'CVE'}) properties={'assigner': 'cna@sap.com', 'id': 'CVE-2023-0018'}>>, <Record cve1=<Node element_id='4:de342d72-e7ff-4d5b-9a28-99eaa381965b:3' labels=frozenset({'CVE'}) properties={'assigner': 'cna@sap.com', 'id': 'CVE-2023-0015'}> cve2=<Node element_id='4:de342d72-e7ff-4d5b-9a28-99eaa381965b:6' labels=frozenset({'CVE'}) properties={'assigner': 'cna@sap.com', 'id': 'CVE-2023-0018'}> Entities=<Node element_id='4:de342d72-e7ff-4d5b-9a28-99eaa381965b:9' labels=frozenset({'CVE'}) properties={'assigner': 'security@huntr.dev', 'id': 'CVE-2023-0028'}>>, <Record cve1=<Node element_id='4:de342d72-e7ff-4d5b-9a28-99eaa381965b:3' labels=frozenset({'CVE'}) properties={'assigner': 'cna@sap.com', 'id': 'CVE-2023-0015'}> cve2=<Node element_id='4:de342d72-e7ff-4d5b-9a28-99eaa381965b:6' labels=frozenset({'CVE'}) properties={'assigner': 'cna@sap.com', 'id': 'CVE-2023-0018'}> Entities=<Node element_id='4:de342d72-e7ff-4d5b-9a28-99eaa381965b:9' labels=frozenset({'CVE'}) properties={'assigner': 'security@huntr.dev', 'id': 'CVE-2023-0028'}>>, <Record cve1=<Node element_id='4:de342d72-e7ff-4d5b-9a28-99eaa381965b:3' labels=frozenset({'CVE'}) properties={'assigner': 'cna@sap.com', 'id': 'CVE-2023-0015'}> cve2=<Node element_id='4:de342d72-e7ff-4d5b-9a28-99eaa381965b:6' labels=frozenset({'CVE'}) properties={'assigner': 'cna@sap.com', 'id': 'CVE-2023-0018'}> Entities=<Node element_id='4:de342d72-e7ff-4d5b-9a28-99eaa381965b:3' labels=frozenset({'CVE'}) properties={'assigner': 'cna@sap.com', 'id': 'CVE-2023-0015'}>>, <Record cve1=<Node element_id='4:de342d72-e7ff-4d5b-9a28-99eaa381965b:3' labels=frozenset({'CVE'}) properties={'assigner': 'cna@sap.com', 'id': 'CVE-2023-0015'}> cve2=<Node element_id='4:de342d72-e7ff-4d5b-9a28-99eaa381965b:6' labels=frozenset({'CVE'}) properties={'assigner': 'cna@sap.com', 'id': 'CVE-2023-0018'}> Entities=<Node element_id='4:de342d72-e7ff-4d5b-9a28-99eaa381965b:3' labels=frozenset({'CVE'}) properties={'assigner': 'cna@sap.com', 'id': 'CVE-2023-0015'}>>, <Record cve1=<Node element_id='4:de342d72-e7ff-4d5b-9a28-99eaa381965b:3' labels=frozenset({'CVE'}) properties={'assigner': 'cna@sap.com', 'id': 'CVE-2023-0015'}> cve2=<Node element_id='4:de342d72-e7ff-4d5b-9a28-99eaa381965b:6' labels=frozenset({'CVE'}) properties={'assigner': 'cna@sap.com', 'id': 'CVE-2023-0018'}> Entities=<Node element_id='4:de342d72-e7ff-4d5b-9a28-99eaa381965b:1' labels=frozenset({'CVE'}) properties={'assigner': 'cna@sap.com', 'id': 'CVE-2023-0013'}>>, <Record cve1=<Node element_id='4:de342d72-e7ff-4d5b-9a28-99eaa381965b:3' labels=frozenset({'CVE'}) properties={'assigner': 'cna@sap.com', 'id': 'CVE-2023-0015'}> cve2=<Node element_id='4:de342d72-e7ff-4d5b-9a28-99eaa381965b:6' labels=frozenset({'CVE'}) properties={'assigner': 'cna@sap.com', 'id': 'CVE-2023-0018'}> Entities=<Node element_id='4:de342d72-e7ff-4d5b-9a28-99eaa381965b:1' labels=frozenset({'CVE'}) properties={'assigner': 'cna@sap.com', 'id': 'CVE-2023-0013'}>>, <Record cve1=<Node element_id='4:de342d72-e7ff-4d5b-9a28-99eaa381965b:3' labels=frozenset({'CVE'}) properties={'assigner': 'cna@sap.com', 'id': 'CVE-2023-0015'}> cve2=<Node element_id='4:de342d72-e7ff-4d5b-9a28-99eaa381965b:6' labels=frozenset({'CVE'}) properties={'assigner': 'cna@sap.com', 'id': 'CVE-2023-0018'}> Entities=<Node element_id='4:de342d72-e7ff-4d5b-9a28-99eaa381965b:6' labels=frozenset({'CVE'}) properties={'assigner': 'cna@sap.com', 'id': 'CVE-2023-0018'}>>, <Record cve1=<Node element_id='4:de342d72-e7ff-4d5b-9a28-99eaa381965b:3' labels=frozenset({'CVE'}) properties={'assigner': 'cna@sap.com', 'id': 'CVE-2023-0015'}> cve2=<Node element_id='4:de342d72-e7ff-4d5b-9a28-99eaa381965b:6' labels=frozenset({'CVE'}) properties={'assigner': 'cna@sap.com', 'id': 'CVE-2023-0018'}> Entities=<Node element_id='4:de342d72-e7ff-4d5b-9a28-99eaa381965b:6' labels=frozenset({'CVE'}) properties={'assigner': 'cna@sap.com', 'id': 'CVE-2023-0018'}>>, <Record cve1=<Node element_id='4:de342d72-e7ff-4d5b-9a28-99eaa381965b:3' labels=frozenset({'CVE'}) properties={'assigner': 'cna@sap.com', 'id': 'CVE-2023-0015'}> cve2=<Node element_id='4:de342d72-e7ff-4d5b-9a28-99eaa381965b:6' labels=frozenset({'CVE'}) properties={'assigner': 'cna@sap.com', 'id': 'CVE-2023-0018'}> Entities=<Node element_id='4:de342d72-e7ff-4d5b-9a28-99eaa381965b:9' labels=frozenset({'CVE'}) properties={'assigner': 'security@huntr.dev', 'id': 'CVE-2023-0028'}>>, <Record cve1=<Node element_id='4:de342d72-e7ff-4d5b-9a28-99eaa381965b:3' labels=frozenset({'CVE'}) properties={'assigner': 'cna@sap.com', 'id': 'CVE-2023-0015'}> cve2=<Node element_id='4:de342d72-e7ff-4d5b-9a28-99eaa381965b:6' labels=frozenset({'CVE'}) properties={'assigner': 'cna@sap.com', 'id': 'CVE-2023-0018'}> Entities=<Node element_id='4:de342d72-e7ff-4d5b-9a28-99eaa381965b:9' labels=frozenset({'CVE'}) properties={'assigner': 'security@huntr.dev', 'id': 'CVE-2023-0028'}>>, <Record cve1=<Node element_id='4:de342d72-e7ff-4d5b-9a28-99eaa381965b:3' labels=frozenset({'CVE'}) properties={'assigner': 'cna@sap.com', 'id': 'CVE-2023-0015'}> cve2=<Node element_id='4:de342d72-e7ff-4d5b-9a28-99eaa381965b:6' labels=frozenset({'CVE'}) properties={'assigner': 'cna@sap.com', 'id': 'CVE-2023-0018'}> Entities=<Node element_id='4:de342d72-e7ff-4d5b-9a28-99eaa381965b:3' labels=frozenset({'CVE'}) properties={'assigner': 'cna@sap.com', 'id': 'CVE-2023-0015'}>>, <Record cve1=<Node element_id='4:de342d72-e7ff-4d5b-9a28-99eaa381965b:3' labels=frozenset({'CVE'}) properties={'assigner': 'cna@sap.com', 'id': 'CVE-2023-0015'}> cve2=<Node element_id='4:de342d72-e7ff-4d5b-9a28-99eaa381965b:6' labels=frozenset({'CVE'}) properties={'assigner': 'cna@sap.com', 'id': 'CVE-2023-0018'}> Entities=<Node element_id='4:de342d72-e7ff-4d5b-9a28-99eaa381965b:3' labels=frozenset({'CVE'}) properties={'assigner': 'cna@sap.com', 'id': 'CVE-2023-0015'}>>, <Record cve1=<Node element_id='4:de342d72-e7ff-4d5b-9a28-99eaa381965b:3' labels=frozenset({'CVE'}) properties={'assigner': 'cna@sap.com', 'id': 'CVE-2023-0015'}> cve2=<Node element_id='4:de342d72-e7ff-4d5b-9a28-99eaa381965b:6' labels=frozenset({'CVE'}) properties={'assigner': 'cna@sap.com', 'id': 'CVE-2023-0018'}> Entities=<Node element_id='4:de342d72-e7ff-4d5b-9a28-99eaa381965b:1' labels=frozenset({'CVE'}) properties={'assigner': 'cna@sap.com', 'id': 'CVE-2023-0013'}>>, <Record cve1=<Node element_id='4:de342d72-e7ff-4d5b-9a28-99eaa381965b:3' labels=frozenset({'CVE'}) properties={'assigner': 'cna@sap.com', 'id': 'CVE-2023-0015'}> cve2=<Node element_id='4:de342d72-e7ff-4d5b-9a28-99eaa381965b:6' labels=frozenset({'CVE'}) properties={'assigner': 'cna@sap.com', 'id': 'CVE-2023-0018'}> Entities=<Node element_id='4:de342d72-e7ff-4d5b-9a28-99eaa381965b:1' labels=frozenset({'CVE'}) properties={'assigner': 'cna@sap.com', 'id': 'CVE-2023-0013'}>>, <Record cve1=<Node element_id='4:de342d72-e7ff-4d5b-9a28-99eaa381965b:3' labels=frozenset({'CVE'}) properties={'assigner': 'cna@sap.com', 'id': 'CVE-2023-0015'}> cve2=<Node element_id='4:de342d72-e7ff-4d5b-9a28-99eaa381965b:6' labels=frozenset({'CVE'}) properties={'assigner': 'cna@sap.com', 'id': 'CVE-2023-0018'}> Entities=<Node element_id='4:de342d72-e7ff-4d5b-9a28-99eaa381965b:6' labels=frozenset({'CVE'}) properties={'assigner': 'cna@sap.com', 'id': 'CVE-2023-0018'}>>, <Record cve1=<Node element_id='4:de342d72-e7ff-4d5b-9a28-99eaa381965b:3' labels=frozenset({'CVE'}) properties={'assigner': 'cna@sap.com', 'id': 'CVE-2023-0015'}> cve2=<Node element_id='4:de342d72-e7ff-4d5b-9a28-99eaa381965b:6' labels=frozenset({'CVE'}) properties={'assigner': 'cna@sap.com', 'id': 'CVE-2023-0018'}> Entities=<Node element_id='4:de342d72-e7ff-4d5b-9a28-99eaa381965b:6' labels=frozenset({'CVE'}) properties={'assigner': 'cna@sap.com', 'id': 'CVE-2023-0018'}>>, <Record cve1=<Node element_id='4:de342d72-e7ff-4d5b-9a28-99eaa381965b:3' labels=frozenset({'CVE'}) properties={'assigner': 'cna@sap.com', 'id': 'CVE-2023-0015'}> cve2=<Node element_id='4:de342d72-e7ff-4d5b-9a28-99eaa381965b:6' labels=frozenset({'CVE'}) properties={'assigner': 'cna@sap.com', 'id': 'CVE-2023-0018'}> Entities=<Node element_id='4:de342d72-e7ff-4d5b-9a28-99eaa381965b:9' labels=frozenset({'CVE'}) properties={'assigner': 'security@huntr.dev', 'id': 'CVE-2023-0028'}>>, <Record cve1=<Node element_id='4:de342d72-e7ff-4d5b-9a28-99eaa381965b:3' labels=frozenset({'CVE'}) properties={'assigner': 'cna@sap.com', 'id': 'CVE-2023-0015'}> cve2=<Node element_id='4:de342d72-e7ff-4d5b-9a28-99eaa381965b:6' labels=frozenset({'CVE'}) properties={'assigner': 'cna@sap.com', 'id': 'CVE-2023-0018'}> Entities=<Node element_id='4:de342d72-e7ff-4d5b-9a28-99eaa381965b:9' labels=frozenset({'CVE'}) properties={'assigner': 'security@huntr.dev', 'id': 'CVE-2023-0028'}>>, <Record cve1=<Node element_id='4:de342d72-e7ff-4d5b-9a28-99eaa381965b:3' labels=frozenset({'CVE'}) properties={'assigner': 'cna@sap.com', 'id': 'CVE-2023-0015'}> cve2=<Node element_id='4:de342d72-e7ff-4d5b-9a28-99eaa381965b:6' labels=frozenset({'CVE'}) properties={'assigner': 'cna@sap.com', 'id': 'CVE-2023-0018'}> Entities=<Node element_id='4:de342d72-e7ff-4d5b-9a28-99eaa381965b:3' labels=frozenset({'CVE'}) properties={'assigner': 'cna@sap.com', 'id': 'CVE-2023-0015'}>>, <Record cve1=<Node element_id='4:de342d72-e7ff-4d5b-9a28-99eaa381965b:3' labels=frozenset({'CVE'}) properties={'assigner': 'cna@sap.com', 'id': 'CVE-2023-0015'}> cve2=<Node element_id='4:de342d72-e7ff-4d5b-9a28-99eaa381965b:6' labels=frozenset({'CVE'}) properties={'assigner': 'cna@sap.com', 'id': 'CVE-2023-0018'}> Entities=<Node element_id='4:de342d72-e7ff-4d5b-9a28-99eaa381965b:3' labels=frozenset({'CVE'}) properties={'assigner': 'cna@sap.com', 'id': 'CVE-2023-0015'}>>, <Record cve1=<Node element_id='4:de342d72-e7ff-4d5b-9a28-99eaa381965b:3' labels=frozenset({'CVE'}) properties={'assigner': 'cna@sap.com', 'id': 'CVE-2023-0015'}> cve2=<Node element_id='4:de342d72-e7ff-4d5b-9a28-99eaa381965b:6' labels=frozenset({'CVE'}) properties={'assigner': 'cna@sap.com', 'id': 'CVE-2023-0018'}> Entities=<Node element_id='4:de342d72-e7ff-4d5b-9a28-99eaa381965b:1' labels=frozenset({'CVE'}) properties={'assigner': 'cna@sap.com', 'id': 'CVE-2023-0013'}>>, <Record cve1=<Node element_id='4:de342d72-e7ff-4d5b-9a28-99eaa381965b:3' labels=frozenset({'CVE'}) properties={'assigner': 'cna@sap.com', 'id': 'CVE-2023-0015'}> cve2=<Node element_id='4:de342d72-e7ff-4d5b-9a28-99eaa381965b:6' labels=frozenset({'CVE'}) properties={'assigner': 'cna@sap.com', 'id': 'CVE-2023-0018'}> Entities=<Node element_id='4:de342d72-e7ff-4d5b-9a28-99eaa381965b:1' labels=frozenset({'CVE'}) properties={'assigner': 'cna@sap.com', 'id': 'CVE-2023-0013'}>>, <Record cve1=<Node element_id='4:de342d72-e7ff-4d5b-9a28-99eaa381965b:3' labels=frozenset({'CVE'}) properties={'assigner': 'cna@sap.com', 'id': 'CVE-2023-0015'}> cve2=<Node element_id='4:de342d72-e7ff-4d5b-9a28-99eaa381965b:6' labels=frozenset({'CVE'}) properties={'assigner': 'cna@sap.com', 'id': 'CVE-2023-0018'}> Entities=<Node element_id='4:de342d72-e7ff-4d5b-9a28-99eaa381965b:6' labels=frozenset({'CVE'}) properties={'assigner': 'cna@sap.com', 'id': 'CVE-2023-0018'}>>, <Record cve1=<Node element_id='4:de342d72-e7ff-4d5b-9a28-99eaa381965b:3' labels=frozenset({'CVE'}) properties={'assigner': 'cna@sap.com', 'id': 'CVE-2023-0015'}> cve2=<Node element_id='4:de342d72-e7ff-4d5b-9a28-99eaa381965b:6' labels=frozenset({'CVE'}) properties={'assigner': 'cna@sap.com', 'id': 'CVE-2023-0018'}> Entities=<Node element_id='4:de342d72-e7ff-4d5b-9a28-99eaa381965b:6' labels=frozenset({'CVE'}) properties={'assigner': 'cna@sap.com', 'id': 'CVE-2023-0018'}>>, <Record cve1=<Node element_id='4:de342d72-e7ff-4d5b-9a28-99eaa381965b:3' labels=frozenset({'CVE'}) properties={'assigner': 'cna@sap.com', 'id': 'CVE-2023-0015'}> cve2=<Node element_id='4:de342d72-e7ff-4d5b-9a28-99eaa381965b:6' labels=frozenset({'CVE'}) properties={'assigner': 'cna@sap.com', 'id': 'CVE-2023-0018'}> Entities=<Node element_id='4:de342d72-e7ff-4d5b-9a28-99eaa381965b:9' labels=frozenset({'CVE'}) properties={'assigner': 'security@huntr.dev', 'id': 'CVE-2023-0028'}>>, <Record cve1=<Node element_id='4:de342d72-e7ff-4d5b-9a28-99eaa381965b:3' labels=frozenset({'CVE'}) properties={'assigner': 'cna@sap.com', 'id': 'CVE-2023-0015'}> cve2=<Node element_id='4:de342d72-e7ff-4d5b-9a28-99eaa381965b:6' labels=frozenset({'CVE'}) properties={'assigner': 'cna@sap.com', 'id': 'CVE-2023-0018'}> Entities=<Node element_id='4:de342d72-e7ff-4d5b-9a28-99eaa381965b:9' labels=frozenset({'CVE'}) properties={'assigner': 'security@huntr.dev', 'id': 'CVE-2023-0028'}>>, <Record cve1=<Node element_id='4:de342d72-e7ff-4d5b-9a28-99eaa381965b:3' labels=frozenset({'CVE'}) properties={'assigner': 'cna@sap.com', 'id': 'CVE-2023-0015'}> cve2=<Node element_id='4:de342d72-e7ff-4d5b-9a28-99eaa381965b:6' labels=frozenset({'CVE'}) properties={'assigner': 'cna@sap.com', 'id': 'CVE-2023-0018'}> Entities=<Node element_id='4:de342d72-e7ff-4d5b-9a28-99eaa381965b:3' labels=frozenset({'CVE'}) properties={'assigner': 'cna@sap.com', 'id': 'CVE-2023-0015'}>>, <Record cve1=<Node element_id='4:de342d72-e7ff-4d5b-9a28-99eaa381965b:3' labels=frozenset({'CVE'}) properties={'assigner': 'cna@sap.com', 'id': 'CVE-2023-0015'}> cve2=<Node element_id='4:de342d72-e7ff-4d5b-9a28-99eaa381965b:6' labels=frozenset({'CVE'}) properties={'assigner': 'cna@sap.com', 'id': 'CVE-2023-0018'}> Entities=<Node element_id='4:de342d72-e7ff-4d5b-9a28-99eaa381965b:3' labels=frozenset({'CVE'}) properties={'assigner': 'cna@sap.com', 'id': 'CVE-2023-0015'}>>, <Record cve1=<Node element_id='4:de342d72-e7ff-4d5b-9a28-99eaa381965b:3' labels=frozenset({'CVE'}) properties={'assigner': 'cna@sap.com', 'id': 'CVE-2023-0015'}> cve2=<Node element_id='4:de342d72-e7ff-4d5b-9a28-99eaa381965b:6' labels=frozenset({'CVE'}) properties={'assigner': 'cna@sap.com', 'id': 'CVE-2023-0018'}> Entities=<Node element_id='4:de342d72-e7ff-4d5b-9a28-99eaa381965b:1' labels=frozenset({'CVE'}) properties={'assigner': 'cna@sap.com', 'id': 'CVE-2023-0013'}>>, <Record cve1=<Node element_id='4:de342d72-e7ff-4d5b-9a28-99eaa381965b:3' labels=frozenset({'CVE'}) properties={'assigner': 'cna@sap.com', 'id': 'CVE-2023-0015'}> cve2=<Node element_id='4:de342d72-e7ff-4d5b-9a28-99eaa381965b:6' labels=frozenset({'CVE'}) properties={'assigner': 'cna@sap.com', 'id': 'CVE-2023-0018'}> Entities=<Node element_id='4:de342d72-e7ff-4d5b-9a28-99eaa381965b:1' labels=frozenset({'CVE'}) properties={'assigner': 'cna@sap.com', 'id': 'CVE-2023-0013'}>>, <Record cve1=<Node element_id='4:de342d72-e7ff-4d5b-9a28-99eaa381965b:3' labels=frozenset({'CVE'}) properties={'assigner': 'cna@sap.com', 'id': 'CVE-2023-0015'}> cve2=<Node element_id='4:de342d72-e7ff-4d5b-9a28-99eaa381965b:6' labels=frozenset({'CVE'}) properties={'assigner': 'cna@sap.com', 'id': 'CVE-2023-0018'}> Entities=<Node element_id='4:de342d72-e7ff-4d5b-9a28-99eaa381965b:6' labels=frozenset({'CVE'}) properties={'assigner': 'cna@sap.com', 'id': 'CVE-2023-0018'}>>, <Record cve1=<Node element_id='4:de342d72-e7ff-4d5b-9a28-99eaa381965b:3' labels=frozenset({'CVE'}) properties={'assigner': 'cna@sap.com', 'id': 'CVE-2023-0015'}> cve2=<Node element_id='4:de342d72-e7ff-4d5b-9a28-99eaa381965b:6' labels=frozenset({'CVE'}) properties={'assigner': 'cna@sap.com', 'id': 'CVE-2023-0018'}> Entities=<Node element_id='4:de342d72-e7ff-4d5b-9a28-99eaa381965b:6' labels=frozenset({'CVE'}) properties={'assigner': 'cna@sap.com', 'id': 'CVE-2023-0018'}>>, <Record cve1=<Node element_id='4:de342d72-e7ff-4d5b-9a28-99eaa381965b:3' labels=frozenset({'CVE'}) properties={'assigner': 'cna@sap.com', 'id': 'CVE-2023-0015'}> cve2=<Node element_id='4:de342d72-e7ff-4d5b-9a28-99eaa381965b:6' labels=frozenset({'CVE'}) properties={'assigner': 'cna@sap.com', 'id': 'CVE-2023-0018'}> Entities=<Node element_id='4:de342d72-e7ff-4d5b-9a28-99eaa381965b:9' labels=frozenset({'CVE'}) properties={'assigner': 'security@huntr.dev', 'id': 'CVE-2023-0028'}>>, <Record cve1=<Node element_id='4:de342d72-e7ff-4d5b-9a28-99eaa381965b:3' labels=frozenset({'CVE'}) properties={'assigner': 'cna@sap.com', 'id': 'CVE-2023-0015'}> cve2=<Node element_id='4:de342d72-e7ff-4d5b-9a28-99eaa381965b:6' labels=frozenset({'CVE'}) properties={'assigner': 'cna@sap.com', 'id': 'CVE-2023-0018'}> Entities=<Node element_id='4:de342d72-e7ff-4d5b-9a28-99eaa381965b:9' labels=frozenset({'CVE'}) properties={'assigner': 'security@huntr.dev', 'id': 'CVE-2023-0028'}>>, <Record cve1=<Node element_id='4:de342d72-e7ff-4d5b-9a28-99eaa381965b:3' labels=frozenset({'CVE'}) properties={'assigner': 'cna@sap.com', 'id': 'CVE-2023-0015'}> cve2=<Node element_id='4:de342d72-e7ff-4d5b-9a28-99eaa381965b:6' labels=frozenset({'CVE'}) properties={'assigner': 'cna@sap.com', 'id': 'CVE-2023-0018'}> Entities=<Node element_id='4:de342d72-e7ff-4d5b-9a28-99eaa381965b:3' labels=frozenset({'CVE'}) properties={'assigner': 'cna@sap.com', 'id': 'CVE-2023-0015'}>>, <Record cve1=<Node element_id='4:de342d72-e7ff-4d5b-9a28-99eaa381965b:3' labels=frozenset({'CVE'}) properties={'assigner': 'cna@sap.com', 'id': 'CVE-2023-0015'}> cve2=<Node element_id='4:de342d72-e7ff-4d5b-9a28-99eaa381965b:6' labels=frozenset({'CVE'}) properties={'assigner': 'cna@sap.com', 'id': 'CVE-2023-0018'}> Entities=<Node element_id='4:de342d72-e7ff-4d5b-9a28-99eaa381965b:3' labels=frozenset({'CVE'}) properties={'assigner': 'cna@sap.com', 'id': 'CVE-2023-0015'}>>, <Record cve1=<Node element_id='4:de342d72-e7ff-4d5b-9a28-99eaa381965b:3' labels=frozenset({'CVE'}) properties={'assigner': 'cna@sap.com', 'id': 'CVE-2023-0015'}> cve2=<Node element_id='4:de342d72-e7ff-4d5b-9a28-99eaa381965b:6' labels=frozenset({'CVE'}) properties={'assigner': 'cna@sap.com', 'id': 'CVE-2023-0018'}> Entities=<Node element_id='4:de342d72-e7ff-4d5b-9a28-99eaa381965b:1' labels=frozenset({'CVE'}) properties={'assigner': 'cna@sap.com', 'id': 'CVE-2023-0013'}>>, <Record cve1=<Node element_id='4:de342d72-e7ff-4d5b-9a28-99eaa381965b:3' labels=frozenset({'CVE'}) properties={'assigner': 'cna@sap.com', 'id': 'CVE-2023-0015'}> cve2=<Node element_id='4:de342d72-e7ff-4d5b-9a28-99eaa381965b:6' labels=frozenset({'CVE'}) properties={'assigner': 'cna@sap.com', 'id': 'CVE-2023-0018'}> Entities=<Node element_id='4:de342d72-e7ff-4d5b-9a28-99eaa381965b:1' labels=frozenset({'CVE'}) properties={'assigner': 'cna@sap.com', 'id': 'CVE-2023-0013'}>>, <Record cve1=<Node element_id='4:de342d72-e7ff-4d5b-9a28-99eaa381965b:3' labels=frozenset({'CVE'}) properties={'assigner': 'cna@sap.com', 'id': 'CVE-2023-0015'}> cve2=<Node element_id='4:de342d72-e7ff-4d5b-9a28-99eaa381965b:6' labels=frozenset({'CVE'}) properties={'assigner': 'cna@sap.com', 'id': 'CVE-2023-0018'}> Entities=<Node element_id='4:de342d72-e7ff-4d5b-9a28-99eaa381965b:4' labels=frozenset({'CVE'}) properties={'assigner': 'cna@sap.com', 'id': 'CVE-2023-0016'}>>, <Record cve1=<Node element_id='4:de342d72-e7ff-4d5b-9a28-99eaa381965b:3' labels=frozenset({'CVE'}) properties={'assigner': 'cna@sap.com', 'id': 'CVE-2023-0015'}> cve2=<Node element_id='4:de342d72-e7ff-4d5b-9a28-99eaa381965b:6' labels=frozenset({'CVE'}) properties={'assigner': 'cna@sap.com', 'id': 'CVE-2023-0018'}> Entities=<Node element_id='4:de342d72-e7ff-4d5b-9a28-99eaa381965b:167' labels=frozenset({'Entities'}) properties={'wikipediaExternalRef': 241154, 'wikidataId': 'Q371199', 'confidence_score': 0.719, 'offsetStart': 0, 'offsetEnd': 20, 'rawName': 'Cross-site scripting'}>>, <Record cve1=<Node element_id='4:de342d72-e7ff-4d5b-9a28-99eaa381965b:3' labels=frozenset({'CVE'}) properties={'assigner': 'cna@sap.com', 'id': 'CVE-2023-0015'}> cve2=<Node element_id='4:de342d72-e7ff-4d5b-9a28-99eaa381965b:6' labels=frozenset({'CVE'}) properties={'assigner': 'cna@sap.com', 'id': 'CVE-2023-0018'}> Entities=<Node element_id='4:de342d72-e7ff-4d5b-9a28-99eaa381965b:167' labels=frozenset({'Entities'}) properties={'wikipediaExternalRef': 241154, 'wikidataId': 'Q371199', 'confidence_score': 0.719, 'offsetStart': 0, 'offsetEnd': 20, 'rawName': 'Cross-site scripting'}>>, <Record cve1=<Node element_id='4:de342d72-e7ff-4d5b-9a28-99eaa381965b:3' labels=frozenset({'CVE'}) properties={'assigner': 'cna@sap.com', 'id': 'CVE-2023-0015'}> cve2=<Node element_id='4:de342d72-e7ff-4d5b-9a28-99eaa381965b:6' labels=frozenset({'CVE'}) properties={'assigner': 'cna@sap.com', 'id': 'CVE-2023-0018'}> Entities=<Node element_id='4:de342d72-e7ff-4d5b-9a28-99eaa381965b:167' labels=frozenset({'Entities'}) properties={'wikipediaExternalRef': 241154, 'wikidataId': 'Q371199', 'confidence_score': 0.719, 'offsetStart': 0, 'offsetEnd': 20, 'rawName': 'Cross-site scripting'}>>, <Record cve1=<Node element_id='4:de342d72-e7ff-4d5b-9a28-99eaa381965b:3' labels=frozenset({'CVE'}) properties={'assigner': 'cna@sap.com', 'id': 'CVE-2023-0015'}> cve2=<Node element_id='4:de342d72-e7ff-4d5b-9a28-99eaa381965b:6' labels=frozenset({'CVE'}) properties={'assigner': 'cna@sap.com', 'id': 'CVE-2023-0018'}> Entities=<Node element_id='4:de342d72-e7ff-4d5b-9a28-99eaa381965b:167' labels=frozenset({'Entities'}) properties={'wikipediaExternalRef': 241154, 'wikidataId': 'Q371199', 'confidence_score': 0.719, 'offsetStart': 0, 'offsetEnd': 20, 'rawName': 'Cross-site scripting'}>>, <Record cve1=<Node element_id='4:de342d72-e7ff-4d5b-9a28-99eaa381965b:3' labels=frozenset({'CVE'}) properties={'assigner': 'cna@sap.com', 'id': 'CVE-2023-0015'}> cve2=<Node element_id='4:de342d72-e7ff-4d5b-9a28-99eaa381965b:6' labels=frozenset({'CVE'}) properties={'assigner': 'cna@sap.com', 'id': 'CVE-2023-0018'}> Entities=<Node element_id='4:de342d72-e7ff-4d5b-9a28-99eaa381965b:262' labels=frozenset({'Entities'}) properties={'wikipediaExternalRef': 526999, 'wikidataId': 'Q506059', 'confidence_score': 0.9162, 'offsetStart': 1041, 'offsetEnd': 1054, 'rawName': 'SQL injection'}>>, <Record cve1=<Node element_id='4:de342d72-e7ff-4d5b-9a28-99eaa381965b:6' labels=frozenset({'CVE'}) properties={'assigner': 'cna@sap.com', 'id': 'CVE-2023-0018'}> cve2=<Node element_id='4:de342d72-e7ff-4d5b-9a28-99eaa381965b:9' labels=frozenset({'CVE'}) properties={'assigner': 'security@huntr.dev', 'id': 'CVE-2023-0028'}> Entities=<Node element_id='4:de342d72-e7ff-4d5b-9a28-99eaa381965b:6' labels=frozenset({'CVE'}) properties={'assigner': 'cna@sap.com', 'id': 'CVE-2023-0018'}>>, <Record cve1=<Node element_id='4:de342d72-e7ff-4d5b-9a28-99eaa381965b:6' labels=frozenset({'CVE'}) properties={'assigner': 'cna@sap.com', 'id': 'CVE-2023-0018'}> cve2=<Node element_id='4:de342d72-e7ff-4d5b-9a28-99eaa381965b:9' labels=frozenset({'CVE'}) properties={'assigner': 'security@huntr.dev', 'id': 'CVE-2023-0028'}> Entities=<Node element_id='4:de342d72-e7ff-4d5b-9a28-99eaa381965b:9' labels=frozenset({'CVE'}) properties={'assigner': 'security@huntr.dev', 'id': 'CVE-2023-0028'}>>, <Record cve1=<Node element_id='4:de342d72-e7ff-4d5b-9a28-99eaa381965b:6' labels=frozenset({'CVE'}) properties={'assigner': 'cna@sap.com', 'id': 'CVE-2023-0018'}> cve2=<Node element_id='4:de342d72-e7ff-4d5b-9a28-99eaa381965b:9' labels=frozenset({'CVE'}) properties={'assigner': 'security@huntr.dev', 'id': 'CVE-2023-0028'}> Entities=<Node element_id='4:de342d72-e7ff-4d5b-9a28-99eaa381965b:3' labels=frozenset({'CVE'}) properties={'assigner': 'cna@sap.com', 'id': 'CVE-2023-0015'}>>, <Record cve1=<Node element_id='4:de342d72-e7ff-4d5b-9a28-99eaa381965b:6' labels=frozenset({'CVE'}) properties={'assigner': 'cna@sap.com', 'id': 'CVE-2023-0018'}> cve2=<Node element_id='4:de342d72-e7ff-4d5b-9a28-99eaa381965b:9' labels=frozenset({'CVE'}) properties={'assigner': 'security@huntr.dev', 'id': 'CVE-2023-0028'}> Entities=<Node element_id='4:de342d72-e7ff-4d5b-9a28-99eaa381965b:1' labels=frozenset({'CVE'}) properties={'assigner': 'cna@sap.com', 'id': 'CVE-2023-0013'}>>, <Record cve1=<Node element_id='4:de342d72-e7ff-4d5b-9a28-99eaa381965b:6' labels=frozenset({'CVE'}) properties={'assigner': 'cna@sap.com', 'id': 'CVE-2023-0018'}> cve2=<Node element_id='4:de342d72-e7ff-4d5b-9a28-99eaa381965b:9' labels=frozenset({'CVE'}) properties={'assigner': 'security@huntr.dev', 'id': 'CVE-2023-0028'}> Entities=<Node element_id='4:de342d72-e7ff-4d5b-9a28-99eaa381965b:7' labels=frozenset({'CVE'}) properties={'assigner': 'cna@sap.com', 'id': 'CVE-2023-0022'}>>, <Record cve1=<Node element_id='4:de342d72-e7ff-4d5b-9a28-99eaa381965b:6' labels=frozenset({'CVE'}) properties={'assigner': 'cna@sap.com', 'id': 'CVE-2023-0018'}> cve2=<Node element_id='4:de342d72-e7ff-4d5b-9a28-99eaa381965b:9' labels=frozenset({'CVE'}) properties={'assigner': 'security@huntr.dev', 'id': 'CVE-2023-0028'}> Entities=<Node element_id='4:de342d72-e7ff-4d5b-9a28-99eaa381965b:7' labels=frozenset({'CVE'}) properties={'assigner': 'cna@sap.com', 'id': 'CVE-2023-0022'}>>, <Record cve1=<Node element_id='4:de342d72-e7ff-4d5b-9a28-99eaa381965b:6' labels=frozenset({'CVE'}) properties={'assigner': 'cna@sap.com', 'id': 'CVE-2023-0018'}> cve2=<Node element_id='4:de342d72-e7ff-4d5b-9a28-99eaa381965b:9' labels=frozenset({'CVE'}) properties={'assigner': 'security@huntr.dev', 'id': 'CVE-2023-0028'}> Entities=<Node element_id='4:de342d72-e7ff-4d5b-9a28-99eaa381965b:2' labels=frozenset({'CVE'}) properties={'assigner': 'cna@sap.com', 'id': 'CVE-2023-0014'}>>, <Record cve1=<Node element_id='4:de342d72-e7ff-4d5b-9a28-99eaa381965b:6' labels=frozenset({'CVE'}) properties={'assigner': 'cna@sap.com', 'id': 'CVE-2023-0018'}> cve2=<Node element_id='4:de342d72-e7ff-4d5b-9a28-99eaa381965b:9' labels=frozenset({'CVE'}) properties={'assigner': 'security@huntr.dev', 'id': 'CVE-2023-0028'}> Entities=<Node element_id='4:de342d72-e7ff-4d5b-9a28-99eaa381965b:6' labels=frozenset({'CVE'}) properties={'assigner': 'cna@sap.com', 'id': 'CVE-2023-0018'}>>, <Record cve1=<Node element_id='4:de342d72-e7ff-4d5b-9a28-99eaa381965b:6' labels=frozenset({'CVE'}) properties={'assigner': 'cna@sap.com', 'id': 'CVE-2023-0018'}> cve2=<Node element_id='4:de342d72-e7ff-4d5b-9a28-99eaa381965b:9' labels=frozenset({'CVE'}) properties={'assigner': 'security@huntr.dev', 'id': 'CVE-2023-0028'}> Entities=<Node element_id='4:de342d72-e7ff-4d5b-9a28-99eaa381965b:9' labels=frozenset({'CVE'}) properties={'assigner': 'security@huntr.dev', 'id': 'CVE-2023-0028'}>>, <Record cve1=<Node element_id='4:de342d72-e7ff-4d5b-9a28-99eaa381965b:6' labels=frozenset({'CVE'}) properties={'assigner': 'cna@sap.com', 'id': 'CVE-2023-0018'}> cve2=<Node element_id='4:de342d72-e7ff-4d5b-9a28-99eaa381965b:9' labels=frozenset({'CVE'}) properties={'assigner': 'security@huntr.dev', 'id': 'CVE-2023-0028'}> Entities=<Node element_id='4:de342d72-e7ff-4d5b-9a28-99eaa381965b:3' labels=frozenset({'CVE'}) properties={'assigner': 'cna@sap.com', 'id': 'CVE-2023-0015'}>>, <Record cve1=<Node element_id='4:de342d72-e7ff-4d5b-9a28-99eaa381965b:6' labels=frozenset({'CVE'}) properties={'assigner': 'cna@sap.com', 'id': 'CVE-2023-0018'}> cve2=<Node element_id='4:de342d72-e7ff-4d5b-9a28-99eaa381965b:9' labels=frozenset({'CVE'}) properties={'assigner': 'security@huntr.dev', 'id': 'CVE-2023-0028'}> Entities=<Node element_id='4:de342d72-e7ff-4d5b-9a28-99eaa381965b:1' labels=frozenset({'CVE'}) properties={'assigner': 'cna@sap.com', 'id': 'CVE-2023-0013'}>>, <Record cve1=<Node element_id='4:de342d72-e7ff-4d5b-9a28-99eaa381965b:6' labels=frozenset({'CVE'}) properties={'assigner': 'cna@sap.com', 'id': 'CVE-2023-0018'}> cve2=<Node element_id='4:de342d72-e7ff-4d5b-9a28-99eaa381965b:9' labels=frozenset({'CVE'}) properties={'assigner': 'security@huntr.dev', 'id': 'CVE-2023-0028'}> Entities=<Node element_id='4:de342d72-e7ff-4d5b-9a28-99eaa381965b:8' labels=frozenset({'CVE'}) properties={'assigner': 'cna@sap.com', 'id': 'CVE-2023-0023'}>>, <Record cve1=<Node element_id='4:de342d72-e7ff-4d5b-9a28-99eaa381965b:6' labels=frozenset({'CVE'}) properties={'assigner': 'cna@sap.com', 'id': 'CVE-2023-0018'}> cve2=<Node element_id='4:de342d72-e7ff-4d5b-9a28-99eaa381965b:9' labels=frozenset({'CVE'}) properties={'assigner': 'security@huntr.dev', 'id': 'CVE-2023-0028'}> Entities=<Node element_id='4:de342d72-e7ff-4d5b-9a28-99eaa381965b:0' labels=frozenset({'CVE'}) properties={'assigner': 'cna@sap.com', 'id': 'CVE-2023-0012'}>>, <Record cve1=<Node element_id='4:de342d72-e7ff-4d5b-9a28-99eaa381965b:6' labels=frozenset({'CVE'}) properties={'assigner': 'cna@sap.com', 'id': 'CVE-2023-0018'}> cve2=<Node element_id='4:de342d72-e7ff-4d5b-9a28-99eaa381965b:9' labels=frozenset({'CVE'}) properties={'assigner': 'security@huntr.dev', 'id': 'CVE-2023-0028'}> Entities=<Node element_id='4:de342d72-e7ff-4d5b-9a28-99eaa381965b:5' labels=frozenset({'CVE'}) properties={'assigner': 'cna@sap.com', 'id': 'CVE-2023-0017'}>>, <Record cve1=<Node element_id='4:de342d72-e7ff-4d5b-9a28-99eaa381965b:6' labels=frozenset({'CVE'}) properties={'assigner': 'cna@sap.com', 'id': 'CVE-2023-0018'}> cve2=<Node element_id='4:de342d72-e7ff-4d5b-9a28-99eaa381965b:9' labels=frozenset({'CVE'}) properties={'assigner': 'security@huntr.dev', 'id': 'CVE-2023-0028'}> Entities=<Node element_id='4:de342d72-e7ff-4d5b-9a28-99eaa381965b:0' labels=frozenset({'CVE'}) properties={'assigner': 'cna@sap.com', 'id': 'CVE-2023-0012'}>>, <Record cve1=<Node element_id='4:de342d72-e7ff-4d5b-9a28-99eaa381965b:6' labels=frozenset({'CVE'}) properties={'assigner': 'cna@sap.com', 'id': 'CVE-2023-0018'}> cve2=<Node element_id='4:de342d72-e7ff-4d5b-9a28-99eaa381965b:9' labels=frozenset({'CVE'}) properties={'assigner': 'security@huntr.dev', 'id': 'CVE-2023-0028'}> Entities=<Node element_id='4:de342d72-e7ff-4d5b-9a28-99eaa381965b:0' labels=frozenset({'CVE'}) properties={'assigner': 'cna@sap.com', 'id': 'CVE-2023-0012'}>>, <Record cve1=<Node element_id='4:de342d72-e7ff-4d5b-9a28-99eaa381965b:6' labels=frozenset({'CVE'}) properties={'assigner': 'cna@sap.com', 'id': 'CVE-2023-0018'}> cve2=<Node element_id='4:de342d72-e7ff-4d5b-9a28-99eaa381965b:9' labels=frozenset({'CVE'}) properties={'assigner': 'security@huntr.dev', 'id': 'CVE-2023-0028'}> Entities=<Node element_id='4:de342d72-e7ff-4d5b-9a28-99eaa381965b:5' labels=frozenset({'CVE'}) properties={'assigner': 'cna@sap.com', 'id': 'CVE-2023-0017'}>>, <Record cve1=<Node element_id='4:de342d72-e7ff-4d5b-9a28-99eaa381965b:6' labels=frozenset({'CVE'}) properties={'assigner': 'cna@sap.com', 'id': 'CVE-2023-0018'}> cve2=<Node element_id='4:de342d72-e7ff-4d5b-9a28-99eaa381965b:9' labels=frozenset({'CVE'}) properties={'assigner': 'security@huntr.dev', 'id': 'CVE-2023-0028'}> Entities=<Node element_id='4:de342d72-e7ff-4d5b-9a28-99eaa381965b:5' labels=frozenset({'CVE'}) properties={'assigner': 'cna@sap.com', 'id': 'CVE-2023-0017'}>>, <Record cve1=<Node element_id='4:de342d72-e7ff-4d5b-9a28-99eaa381965b:6' labels=frozenset({'CVE'}) properties={'assigner': 'cna@sap.com', 'id': 'CVE-2023-0018'}> cve2=<Node element_id='4:de342d72-e7ff-4d5b-9a28-99eaa381965b:9' labels=frozenset({'CVE'}) properties={'assigner': 'security@huntr.dev', 'id': 'CVE-2023-0028'}> Entities=<Node element_id='4:de342d72-e7ff-4d5b-9a28-99eaa381965b:6' labels=frozenset({'CVE'}) properties={'assigner': 'cna@sap.com', 'id': 'CVE-2023-0018'}>>, <Record cve1=<Node element_id='4:de342d72-e7ff-4d5b-9a28-99eaa381965b:6' labels=frozenset({'CVE'}) properties={'assigner': 'cna@sap.com', 'id': 'CVE-2023-0018'}> cve2=<Node element_id='4:de342d72-e7ff-4d5b-9a28-99eaa381965b:9' labels=frozenset({'CVE'}) properties={'assigner': 'security@huntr.dev', 'id': 'CVE-2023-0028'}> Entities=<Node element_id='4:de342d72-e7ff-4d5b-9a28-99eaa381965b:6' labels=frozenset({'CVE'}) properties={'assigner': 'cna@sap.com', 'id': 'CVE-2023-0018'}>>, <Record cve1=<Node element_id='4:de342d72-e7ff-4d5b-9a28-99eaa381965b:6' labels=frozenset({'CVE'}) properties={'assigner': 'cna@sap.com', 'id': 'CVE-2023-0018'}> cve2=<Node element_id='4:de342d72-e7ff-4d5b-9a28-99eaa381965b:9' labels=frozenset({'CVE'}) properties={'assigner': 'security@huntr.dev', 'id': 'CVE-2023-0028'}> Entities=<Node element_id='4:de342d72-e7ff-4d5b-9a28-99eaa381965b:6' labels=frozenset({'CVE'}) properties={'assigner': 'cna@sap.com', 'id': 'CVE-2023-0018'}>>, <Record cve1=<Node element_id='4:de342d72-e7ff-4d5b-9a28-99eaa381965b:6' labels=frozenset({'CVE'}) properties={'assigner': 'cna@sap.com', 'id': 'CVE-2023-0018'}> cve2=<Node element_id='4:de342d72-e7ff-4d5b-9a28-99eaa381965b:9' labels=frozenset({'CVE'}) properties={'assigner': 'security@huntr.dev', 'id': 'CVE-2023-0028'}> Entities=<Node element_id='4:de342d72-e7ff-4d5b-9a28-99eaa381965b:6' labels=frozenset({'CVE'}) properties={'assigner': 'cna@sap.com', 'id': 'CVE-2023-0018'}>>, <Record cve1=<Node element_id='4:de342d72-e7ff-4d5b-9a28-99eaa381965b:6' labels=frozenset({'CVE'}) properties={'assigner': 'cna@sap.com', 'id': 'CVE-2023-0018'}> cve2=<Node element_id='4:de342d72-e7ff-4d5b-9a28-99eaa381965b:9' labels=frozenset({'CVE'}) properties={'assigner': 'security@huntr.dev', 'id': 'CVE-2023-0028'}> Entities=<Node element_id='4:de342d72-e7ff-4d5b-9a28-99eaa381965b:9' labels=frozenset({'CVE'}) properties={'assigner': 'security@huntr.dev', 'id': 'CVE-2023-0028'}>>, <Record cve1=<Node element_id='4:de342d72-e7ff-4d5b-9a28-99eaa381965b:6' labels=frozenset({'CVE'}) properties={'assigner': 'cna@sap.com', 'id': 'CVE-2023-0018'}> cve2=<Node element_id='4:de342d72-e7ff-4d5b-9a28-99eaa381965b:9' labels=frozenset({'CVE'}) properties={'assigner': 'security@huntr.dev', 'id': 'CVE-2023-0028'}> Entities=<Node element_id='4:de342d72-e7ff-4d5b-9a28-99eaa381965b:9' labels=frozenset({'CVE'}) properties={'assigner': 'security@huntr.dev', 'id': 'CVE-2023-0028'}>>, <Record cve1=<Node element_id='4:de342d72-e7ff-4d5b-9a28-99eaa381965b:6' labels=frozenset({'CVE'}) properties={'assigner': 'cna@sap.com', 'id': 'CVE-2023-0018'}> cve2=<Node element_id='4:de342d72-e7ff-4d5b-9a28-99eaa381965b:9' labels=frozenset({'CVE'}) properties={'assigner': 'security@huntr.dev', 'id': 'CVE-2023-0028'}> Entities=<Node element_id='4:de342d72-e7ff-4d5b-9a28-99eaa381965b:9' labels=frozenset({'CVE'}) properties={'assigner': 'security@huntr.dev', 'id': 'CVE-2023-0028'}>>, <Record cve1=<Node element_id='4:de342d72-e7ff-4d5b-9a28-99eaa381965b:6' labels=frozenset({'CVE'}) properties={'assigner': 'cna@sap.com', 'id': 'CVE-2023-0018'}> cve2=<Node element_id='4:de342d72-e7ff-4d5b-9a28-99eaa381965b:9' labels=frozenset({'CVE'}) properties={'assigner': 'security@huntr.dev', 'id': 'CVE-2023-0028'}> Entities=<Node element_id='4:de342d72-e7ff-4d5b-9a28-99eaa381965b:9' labels=frozenset({'CVE'}) properties={'assigner': 'security@huntr.dev', 'id': 'CVE-2023-0028'}>>, <Record cve1=<Node element_id='4:de342d72-e7ff-4d5b-9a28-99eaa381965b:6' labels=frozenset({'CVE'}) properties={'assigner': 'cna@sap.com', 'id': 'CVE-2023-0018'}> cve2=<Node element_id='4:de342d72-e7ff-4d5b-9a28-99eaa381965b:9' labels=frozenset({'CVE'}) properties={'assigner': 'security@huntr.dev', 'id': 'CVE-2023-0028'}> Entities=<Node element_id='4:de342d72-e7ff-4d5b-9a28-99eaa381965b:3' labels=frozenset({'CVE'}) properties={'assigner': 'cna@sap.com', 'id': 'CVE-2023-0015'}>>, <Record cve1=<Node element_id='4:de342d72-e7ff-4d5b-9a28-99eaa381965b:6' labels=frozenset({'CVE'}) properties={'assigner': 'cna@sap.com', 'id': 'CVE-2023-0018'}> cve2=<Node element_id='4:de342d72-e7ff-4d5b-9a28-99eaa381965b:9' labels=frozenset({'CVE'}) properties={'assigner': 'security@huntr.dev', 'id': 'CVE-2023-0028'}> Entities=<Node element_id='4:de342d72-e7ff-4d5b-9a28-99eaa381965b:3' labels=frozenset({'CVE'}) properties={'assigner': 'cna@sap.com', 'id': 'CVE-2023-0015'}>>, <Record cve1=<Node element_id='4:de342d72-e7ff-4d5b-9a28-99eaa381965b:6' labels=frozenset({'CVE'}) properties={'assigner': 'cna@sap.com', 'id': 'CVE-2023-0018'}> cve2=<Node element_id='4:de342d72-e7ff-4d5b-9a28-99eaa381965b:9' labels=frozenset({'CVE'}) properties={'assigner': 'security@huntr.dev', 'id': 'CVE-2023-0028'}> Entities=<Node element_id='4:de342d72-e7ff-4d5b-9a28-99eaa381965b:3' labels=frozenset({'CVE'}) properties={'assigner': 'cna@sap.com', 'id': 'CVE-2023-0015'}>>, <Record cve1=<Node element_id='4:de342d72-e7ff-4d5b-9a28-99eaa381965b:6' labels=frozenset({'CVE'}) properties={'assigner': 'cna@sap.com', 'id': 'CVE-2023-0018'}> cve2=<Node element_id='4:de342d72-e7ff-4d5b-9a28-99eaa381965b:9' labels=frozenset({'CVE'}) properties={'assigner': 'security@huntr.dev', 'id': 'CVE-2023-0028'}> Entities=<Node element_id='4:de342d72-e7ff-4d5b-9a28-99eaa381965b:3' labels=frozenset({'CVE'}) properties={'assigner': 'cna@sap.com', 'id': 'CVE-2023-0015'}>>, <Record cve1=<Node element_id='4:de342d72-e7ff-4d5b-9a28-99eaa381965b:6' labels=frozenset({'CVE'}) properties={'assigner': 'cna@sap.com', 'id': 'CVE-2023-0018'}> cve2=<Node element_id='4:de342d72-e7ff-4d5b-9a28-99eaa381965b:9' labels=frozenset({'CVE'}) properties={'assigner': 'security@huntr.dev', 'id': 'CVE-2023-0028'}> Entities=<Node element_id='4:de342d72-e7ff-4d5b-9a28-99eaa381965b:1' labels=frozenset({'CVE'}) properties={'assigner': 'cna@sap.com', 'id': 'CVE-2023-0013'}>>, <Record cve1=<Node element_id='4:de342d72-e7ff-4d5b-9a28-99eaa381965b:6' labels=frozenset({'CVE'}) properties={'assigner': 'cna@sap.com', 'id': 'CVE-2023-0018'}> cve2=<Node element_id='4:de342d72-e7ff-4d5b-9a28-99eaa381965b:9' labels=frozenset({'CVE'}) properties={'assigner': 'security@huntr.dev', 'id': 'CVE-2023-0028'}> Entities=<Node element_id='4:de342d72-e7ff-4d5b-9a28-99eaa381965b:1' labels=frozenset({'CVE'}) properties={'assigner': 'cna@sap.com', 'id': 'CVE-2023-0013'}>>, <Record cve1=<Node element_id='4:de342d72-e7ff-4d5b-9a28-99eaa381965b:6' labels=frozenset({'CVE'}) properties={'assigner': 'cna@sap.com', 'id': 'CVE-2023-0018'}> cve2=<Node element_id='4:de342d72-e7ff-4d5b-9a28-99eaa381965b:9' labels=frozenset({'CVE'}) properties={'assigner': 'security@huntr.dev', 'id': 'CVE-2023-0028'}> Entities=<Node element_id='4:de342d72-e7ff-4d5b-9a28-99eaa381965b:1' labels=frozenset({'CVE'}) properties={'assigner': 'cna@sap.com', 'id': 'CVE-2023-0013'}>>, <Record cve1=<Node element_id='4:de342d72-e7ff-4d5b-9a28-99eaa381965b:6' labels=frozenset({'CVE'}) properties={'assigner': 'cna@sap.com', 'id': 'CVE-2023-0018'}> cve2=<Node element_id='4:de342d72-e7ff-4d5b-9a28-99eaa381965b:9' labels=frozenset({'CVE'}) properties={'assigner': 'security@huntr.dev', 'id': 'CVE-2023-0028'}> Entities=<Node element_id='4:de342d72-e7ff-4d5b-9a28-99eaa381965b:1' labels=frozenset({'CVE'}) properties={'assigner': 'cna@sap.com', 'id': 'CVE-2023-0013'}>>, <Record cve1=<Node element_id='4:de342d72-e7ff-4d5b-9a28-99eaa381965b:6' labels=frozenset({'CVE'}) properties={'assigner': 'cna@sap.com', 'id': 'CVE-2023-0018'}> cve2=<Node element_id='4:de342d72-e7ff-4d5b-9a28-99eaa381965b:9' labels=frozenset({'CVE'}) properties={'assigner': 'security@huntr.dev', 'id': 'CVE-2023-0028'}> Entities=<Node element_id='4:de342d72-e7ff-4d5b-9a28-99eaa381965b:6' labels=frozenset({'CVE'}) properties={'assigner': 'cna@sap.com', 'id': 'CVE-2023-0018'}>>, <Record cve1=<Node element_id='4:de342d72-e7ff-4d5b-9a28-99eaa381965b:6' labels=frozenset({'CVE'}) properties={'assigner': 'cna@sap.com', 'id': 'CVE-2023-0018'}> cve2=<Node element_id='4:de342d72-e7ff-4d5b-9a28-99eaa381965b:9' labels=frozenset({'CVE'}) properties={'assigner': 'security@huntr.dev', 'id': 'CVE-2023-0028'}> Entities=<Node element_id='4:de342d72-e7ff-4d5b-9a28-99eaa381965b:6' labels=frozenset({'CVE'}) properties={'assigner': 'cna@sap.com', 'id': 'CVE-2023-0018'}>>, <Record cve1=<Node element_id='4:de342d72-e7ff-4d5b-9a28-99eaa381965b:6' labels=frozenset({'CVE'}) properties={'assigner': 'cna@sap.com', 'id': 'CVE-2023-0018'}> cve2=<Node element_id='4:de342d72-e7ff-4d5b-9a28-99eaa381965b:9' labels=frozenset({'CVE'}) properties={'assigner': 'security@huntr.dev', 'id': 'CVE-2023-0028'}> Entities=<Node element_id='4:de342d72-e7ff-4d5b-9a28-99eaa381965b:9' labels=frozenset({'CVE'}) properties={'assigner': 'security@huntr.dev', 'id': 'CVE-2023-0028'}>>, <Record cve1=<Node element_id='4:de342d72-e7ff-4d5b-9a28-99eaa381965b:6' labels=frozenset({'CVE'}) properties={'assigner': 'cna@sap.com', 'id': 'CVE-2023-0018'}> cve2=<Node element_id='4:de342d72-e7ff-4d5b-9a28-99eaa381965b:9' labels=frozenset({'CVE'}) properties={'assigner': 'security@huntr.dev', 'id': 'CVE-2023-0028'}> Entities=<Node element_id='4:de342d72-e7ff-4d5b-9a28-99eaa381965b:9' labels=frozenset({'CVE'}) properties={'assigner': 'security@huntr.dev', 'id': 'CVE-2023-0028'}>>, <Record cve1=<Node element_id='4:de342d72-e7ff-4d5b-9a28-99eaa381965b:6' labels=frozenset({'CVE'}) properties={'assigner': 'cna@sap.com', 'id': 'CVE-2023-0018'}> cve2=<Node element_id='4:de342d72-e7ff-4d5b-9a28-99eaa381965b:9' labels=frozenset({'CVE'}) properties={'assigner': 'security@huntr.dev', 'id': 'CVE-2023-0028'}> Entities=<Node element_id='4:de342d72-e7ff-4d5b-9a28-99eaa381965b:3' labels=frozenset({'CVE'}) properties={'assigner': 'cna@sap.com', 'id': 'CVE-2023-0015'}>>, <Record cve1=<Node element_id='4:de342d72-e7ff-4d5b-9a28-99eaa381965b:6' labels=frozenset({'CVE'}) properties={'assigner': 'cna@sap.com', 'id': 'CVE-2023-0018'}> cve2=<Node element_id='4:de342d72-e7ff-4d5b-9a28-99eaa381965b:9' labels=frozenset({'CVE'}) properties={'assigner': 'security@huntr.dev', 'id': 'CVE-2023-0028'}> Entities=<Node element_id='4:de342d72-e7ff-4d5b-9a28-99eaa381965b:3' labels=frozenset({'CVE'}) properties={'assigner': 'cna@sap.com', 'id': 'CVE-2023-0015'}>>, <Record cve1=<Node element_id='4:de342d72-e7ff-4d5b-9a28-99eaa381965b:6' labels=frozenset({'CVE'}) properties={'assigner': 'cna@sap.com', 'id': 'CVE-2023-0018'}> cve2=<Node element_id='4:de342d72-e7ff-4d5b-9a28-99eaa381965b:9' labels=frozenset({'CVE'}) properties={'assigner': 'security@huntr.dev', 'id': 'CVE-2023-0028'}> Entities=<Node element_id='4:de342d72-e7ff-4d5b-9a28-99eaa381965b:1' labels=frozenset({'CVE'}) properties={'assigner': 'cna@sap.com', 'id': 'CVE-2023-0013'}>>, <Record cve1=<Node element_id='4:de342d72-e7ff-4d5b-9a28-99eaa381965b:6' labels=frozenset({'CVE'}) properties={'assigner': 'cna@sap.com', 'id': 'CVE-2023-0018'}> cve2=<Node element_id='4:de342d72-e7ff-4d5b-9a28-99eaa381965b:9' labels=frozenset({'CVE'}) properties={'assigner': 'security@huntr.dev', 'id': 'CVE-2023-0028'}> Entities=<Node element_id='4:de342d72-e7ff-4d5b-9a28-99eaa381965b:1' labels=frozenset({'CVE'}) properties={'assigner': 'cna@sap.com', 'id': 'CVE-2023-0013'}>>, <Record cve1=<Node element_id='4:de342d72-e7ff-4d5b-9a28-99eaa381965b:6' labels=frozenset({'CVE'}) properties={'assigner': 'cna@sap.com', 'id': 'CVE-2023-0018'}> cve2=<Node element_id='4:de342d72-e7ff-4d5b-9a28-99eaa381965b:9' labels=frozenset({'CVE'}) properties={'assigner': 'security@huntr.dev', 'id': 'CVE-2023-0028'}> Entities=<Node element_id='4:de342d72-e7ff-4d5b-9a28-99eaa381965b:6' labels=frozenset({'CVE'}) properties={'assigner': 'cna@sap.com', 'id': 'CVE-2023-0018'}>>, <Record cve1=<Node element_id='4:de342d72-e7ff-4d5b-9a28-99eaa381965b:6' labels=frozenset({'CVE'}) properties={'assigner': 'cna@sap.com', 'id': 'CVE-2023-0018'}> cve2=<Node element_id='4:de342d72-e7ff-4d5b-9a28-99eaa381965b:9' labels=frozenset({'CVE'}) properties={'assigner': 'security@huntr.dev', 'id': 'CVE-2023-0028'}> Entities=<Node element_id='4:de342d72-e7ff-4d5b-9a28-99eaa381965b:6' labels=frozenset({'CVE'}) properties={'assigner': 'cna@sap.com', 'id': 'CVE-2023-0018'}>>, <Record cve1=<Node element_id='4:de342d72-e7ff-4d5b-9a28-99eaa381965b:6' labels=frozenset({'CVE'}) properties={'assigner': 'cna@sap.com', 'id': 'CVE-2023-0018'}> cve2=<Node element_id='4:de342d72-e7ff-4d5b-9a28-99eaa381965b:9' labels=frozenset({'CVE'}) properties={'assigner': 'security@huntr.dev', 'id': 'CVE-2023-0028'}> Entities=<Node element_id='4:de342d72-e7ff-4d5b-9a28-99eaa381965b:9' labels=frozenset({'CVE'}) properties={'assigner': 'security@huntr.dev', 'id': 'CVE-2023-0028'}>>, <Record cve1=<Node element_id='4:de342d72-e7ff-4d5b-9a28-99eaa381965b:6' labels=frozenset({'CVE'}) properties={'assigner': 'cna@sap.com', 'id': 'CVE-2023-0018'}> cve2=<Node element_id='4:de342d72-e7ff-4d5b-9a28-99eaa381965b:9' labels=frozenset({'CVE'}) properties={'assigner': 'security@huntr.dev', 'id': 'CVE-2023-0028'}> Entities=<Node element_id='4:de342d72-e7ff-4d5b-9a28-99eaa381965b:9' labels=frozenset({'CVE'}) properties={'assigner': 'security@huntr.dev', 'id': 'CVE-2023-0028'}>>, <Record cve1=<Node element_id='4:de342d72-e7ff-4d5b-9a28-99eaa381965b:6' labels=frozenset({'CVE'}) properties={'assigner': 'cna@sap.com', 'id': 'CVE-2023-0018'}> cve2=<Node element_id='4:de342d72-e7ff-4d5b-9a28-99eaa381965b:9' labels=frozenset({'CVE'}) properties={'assigner': 'security@huntr.dev', 'id': 'CVE-2023-0028'}> Entities=<Node element_id='4:de342d72-e7ff-4d5b-9a28-99eaa381965b:3' labels=frozenset({'CVE'}) properties={'assigner': 'cna@sap.com', 'id': 'CVE-2023-0015'}>>, <Record cve1=<Node element_id='4:de342d72-e7ff-4d5b-9a28-99eaa381965b:6' labels=frozenset({'CVE'}) properties={'assigner': 'cna@sap.com', 'id': 'CVE-2023-0018'}> cve2=<Node element_id='4:de342d72-e7ff-4d5b-9a28-99eaa381965b:9' labels=frozenset({'CVE'}) properties={'assigner': 'security@huntr.dev', 'id': 'CVE-2023-0028'}> Entities=<Node element_id='4:de342d72-e7ff-4d5b-9a28-99eaa381965b:3' labels=frozenset({'CVE'}) properties={'assigner': 'cna@sap.com', 'id': 'CVE-2023-0015'}>>, <Record cve1=<Node element_id='4:de342d72-e7ff-4d5b-9a28-99eaa381965b:6' labels=frozenset({'CVE'}) properties={'assigner': 'cna@sap.com', 'id': 'CVE-2023-0018'}> cve2=<Node element_id='4:de342d72-e7ff-4d5b-9a28-99eaa381965b:9' labels=frozenset({'CVE'}) properties={'assigner': 'security@huntr.dev', 'id': 'CVE-2023-0028'}> Entities=<Node element_id='4:de342d72-e7ff-4d5b-9a28-99eaa381965b:1' labels=frozenset({'CVE'}) properties={'assigner': 'cna@sap.com', 'id': 'CVE-2023-0013'}>>, <Record cve1=<Node element_id='4:de342d72-e7ff-4d5b-9a28-99eaa381965b:6' labels=frozenset({'CVE'}) properties={'assigner': 'cna@sap.com', 'id': 'CVE-2023-0018'}> cve2=<Node element_id='4:de342d72-e7ff-4d5b-9a28-99eaa381965b:9' labels=frozenset({'CVE'}) properties={'assigner': 'security@huntr.dev', 'id': 'CVE-2023-0028'}> Entities=<Node element_id='4:de342d72-e7ff-4d5b-9a28-99eaa381965b:1' labels=frozenset({'CVE'}) properties={'assigner': 'cna@sap.com', 'id': 'CVE-2023-0013'}>>, <Record cve1=<Node element_id='4:de342d72-e7ff-4d5b-9a28-99eaa381965b:6' labels=frozenset({'CVE'}) properties={'assigner': 'cna@sap.com', 'id': 'CVE-2023-0018'}> cve2=<Node element_id='4:de342d72-e7ff-4d5b-9a28-99eaa381965b:9' labels=frozenset({'CVE'}) properties={'assigner': 'security@huntr.dev', 'id': 'CVE-2023-0028'}> Entities=<Node element_id='4:de342d72-e7ff-4d5b-9a28-99eaa381965b:6' labels=frozenset({'CVE'}) properties={'assigner': 'cna@sap.com', 'id': 'CVE-2023-0018'}>>, <Record cve1=<Node element_id='4:de342d72-e7ff-4d5b-9a28-99eaa381965b:6' labels=frozenset({'CVE'}) properties={'assigner': 'cna@sap.com', 'id': 'CVE-2023-0018'}> cve2=<Node element_id='4:de342d72-e7ff-4d5b-9a28-99eaa381965b:9' labels=frozenset({'CVE'}) properties={'assigner': 'security@huntr.dev', 'id': 'CVE-2023-0028'}> Entities=<Node element_id='4:de342d72-e7ff-4d5b-9a28-99eaa381965b:6' labels=frozenset({'CVE'}) properties={'assigner': 'cna@sap.com', 'id': 'CVE-2023-0018'}>>, <Record cve1=<Node element_id='4:de342d72-e7ff-4d5b-9a28-99eaa381965b:6' labels=frozenset({'CVE'}) properties={'assigner': 'cna@sap.com', 'id': 'CVE-2023-0018'}> cve2=<Node element_id='4:de342d72-e7ff-4d5b-9a28-99eaa381965b:9' labels=frozenset({'CVE'}) properties={'assigner': 'security@huntr.dev', 'id': 'CVE-2023-0028'}> Entities=<Node element_id='4:de342d72-e7ff-4d5b-9a28-99eaa381965b:6' labels=frozenset({'CVE'}) properties={'assigner': 'cna@sap.com', 'id': 'CVE-2023-0018'}>>, <Record cve1=<Node element_id='4:de342d72-e7ff-4d5b-9a28-99eaa381965b:6' labels=frozenset({'CVE'}) properties={'assigner': 'cna@sap.com', 'id': 'CVE-2023-0018'}> cve2=<Node element_id='4:de342d72-e7ff-4d5b-9a28-99eaa381965b:9' labels=frozenset({'CVE'}) properties={'assigner': 'security@huntr.dev', 'id': 'CVE-2023-0028'}> Entities=<Node element_id='4:de342d72-e7ff-4d5b-9a28-99eaa381965b:9' labels=frozenset({'CVE'}) properties={'assigner': 'security@huntr.dev', 'id': 'CVE-2023-0028'}>>, <Record cve1=<Node element_id='4:de342d72-e7ff-4d5b-9a28-99eaa381965b:6' labels=frozenset({'CVE'}) properties={'assigner': 'cna@sap.com', 'id': 'CVE-2023-0018'}> cve2=<Node element_id='4:de342d72-e7ff-4d5b-9a28-99eaa381965b:9' labels=frozenset({'CVE'}) properties={'assigner': 'security@huntr.dev', 'id': 'CVE-2023-0028'}> Entities=<Node element_id='4:de342d72-e7ff-4d5b-9a28-99eaa381965b:9' labels=frozenset({'CVE'}) properties={'assigner': 'security@huntr.dev', 'id': 'CVE-2023-0028'}>>, <Record cve1=<Node element_id='4:de342d72-e7ff-4d5b-9a28-99eaa381965b:6' labels=frozenset({'CVE'}) properties={'assigner': 'cna@sap.com', 'id': 'CVE-2023-0018'}> cve2=<Node element_id='4:de342d72-e7ff-4d5b-9a28-99eaa381965b:9' labels=frozenset({'CVE'}) properties={'assigner': 'security@huntr.dev', 'id': 'CVE-2023-0028'}> Entities=<Node element_id='4:de342d72-e7ff-4d5b-9a28-99eaa381965b:9' labels=frozenset({'CVE'}) properties={'assigner': 'security@huntr.dev', 'id': 'CVE-2023-0028'}>>, <Record cve1=<Node element_id='4:de342d72-e7ff-4d5b-9a28-99eaa381965b:6' labels=frozenset({'CVE'}) properties={'assigner': 'cna@sap.com', 'id': 'CVE-2023-0018'}> cve2=<Node element_id='4:de342d72-e7ff-4d5b-9a28-99eaa381965b:9' labels=frozenset({'CVE'}) properties={'assigner': 'security@huntr.dev', 'id': 'CVE-2023-0028'}> Entities=<Node element_id='4:de342d72-e7ff-4d5b-9a28-99eaa381965b:3' labels=frozenset({'CVE'}) properties={'assigner': 'cna@sap.com', 'id': 'CVE-2023-0015'}>>, <Record cve1=<Node element_id='4:de342d72-e7ff-4d5b-9a28-99eaa381965b:6' labels=frozenset({'CVE'}) properties={'assigner': 'cna@sap.com', 'id': 'CVE-2023-0018'}> cve2=<Node element_id='4:de342d72-e7ff-4d5b-9a28-99eaa381965b:9' labels=frozenset({'CVE'}) properties={'assigner': 'security@huntr.dev', 'id': 'CVE-2023-0028'}> Entities=<Node element_id='4:de342d72-e7ff-4d5b-9a28-99eaa381965b:3' labels=frozenset({'CVE'}) properties={'assigner': 'cna@sap.com', 'id': 'CVE-2023-0015'}>>, <Record cve1=<Node element_id='4:de342d72-e7ff-4d5b-9a28-99eaa381965b:6' labels=frozenset({'CVE'}) properties={'assigner': 'cna@sap.com', 'id': 'CVE-2023-0018'}> cve2=<Node element_id='4:de342d72-e7ff-4d5b-9a28-99eaa381965b:9' labels=frozenset({'CVE'}) properties={'assigner': 'security@huntr.dev', 'id': 'CVE-2023-0028'}> Entities=<Node element_id='4:de342d72-e7ff-4d5b-9a28-99eaa381965b:3' labels=frozenset({'CVE'}) properties={'assigner': 'cna@sap.com', 'id': 'CVE-2023-0015'}>>, <Record cve1=<Node element_id='4:de342d72-e7ff-4d5b-9a28-99eaa381965b:6' labels=frozenset({'CVE'}) properties={'assigner': 'cna@sap.com', 'id': 'CVE-2023-0018'}> cve2=<Node element_id='4:de342d72-e7ff-4d5b-9a28-99eaa381965b:9' labels=frozenset({'CVE'}) properties={'assigner': 'security@huntr.dev', 'id': 'CVE-2023-0028'}> Entities=<Node element_id='4:de342d72-e7ff-4d5b-9a28-99eaa381965b:1' labels=frozenset({'CVE'}) properties={'assigner': 'cna@sap.com', 'id': 'CVE-2023-0013'}>>, <Record cve1=<Node element_id='4:de342d72-e7ff-4d5b-9a28-99eaa381965b:6' labels=frozenset({'CVE'}) properties={'assigner': 'cna@sap.com', 'id': 'CVE-2023-0018'}> cve2=<Node element_id='4:de342d72-e7ff-4d5b-9a28-99eaa381965b:9' labels=frozenset({'CVE'}) properties={'assigner': 'security@huntr.dev', 'id': 'CVE-2023-0028'}> Entities=<Node element_id='4:de342d72-e7ff-4d5b-9a28-99eaa381965b:1' labels=frozenset({'CVE'}) properties={'assigner': 'cna@sap.com', 'id': 'CVE-2023-0013'}>>, <Record cve1=<Node element_id='4:de342d72-e7ff-4d5b-9a28-99eaa381965b:6' labels=frozenset({'CVE'}) properties={'assigner': 'cna@sap.com', 'id': 'CVE-2023-0018'}> cve2=<Node element_id='4:de342d72-e7ff-4d5b-9a28-99eaa381965b:9' labels=frozenset({'CVE'}) properties={'assigner': 'security@huntr.dev', 'id': 'CVE-2023-0028'}> Entities=<Node element_id='4:de342d72-e7ff-4d5b-9a28-99eaa381965b:1' labels=frozenset({'CVE'}) properties={'assigner': 'cna@sap.com', 'id': 'CVE-2023-0013'}>>, <Record cve1=<Node element_id='4:de342d72-e7ff-4d5b-9a28-99eaa381965b:6' labels=frozenset({'CVE'}) properties={'assigner': 'cna@sap.com', 'id': 'CVE-2023-0018'}> cve2=<Node element_id='4:de342d72-e7ff-4d5b-9a28-99eaa381965b:9' labels=frozenset({'CVE'}) properties={'assigner': 'security@huntr.dev', 'id': 'CVE-2023-0028'}> Entities=<Node element_id='4:de342d72-e7ff-4d5b-9a28-99eaa381965b:6' labels=frozenset({'CVE'}) properties={'assigner': 'cna@sap.com', 'id': 'CVE-2023-0018'}>>, <Record cve1=<Node element_id='4:de342d72-e7ff-4d5b-9a28-99eaa381965b:6' labels=frozenset({'CVE'}) properties={'assigner': 'cna@sap.com', 'id': 'CVE-2023-0018'}> cve2=<Node element_id='4:de342d72-e7ff-4d5b-9a28-99eaa381965b:9' labels=frozenset({'CVE'}) properties={'assigner': 'security@huntr.dev', 'id': 'CVE-2023-0028'}> Entities=<Node element_id='4:de342d72-e7ff-4d5b-9a28-99eaa381965b:6' labels=frozenset({'CVE'}) properties={'assigner': 'cna@sap.com', 'id': 'CVE-2023-0018'}>>, <Record cve1=<Node element_id='4:de342d72-e7ff-4d5b-9a28-99eaa381965b:6' labels=frozenset({'CVE'}) properties={'assigner': 'cna@sap.com', 'id': 'CVE-2023-0018'}> cve2=<Node element_id='4:de342d72-e7ff-4d5b-9a28-99eaa381965b:9' labels=frozenset({'CVE'}) properties={'assigner': 'security@huntr.dev', 'id': 'CVE-2023-0028'}> Entities=<Node element_id='4:de342d72-e7ff-4d5b-9a28-99eaa381965b:6' labels=frozenset({'CVE'}) properties={'assigner': 'cna@sap.com', 'id': 'CVE-2023-0018'}>>, <Record cve1=<Node element_id='4:de342d72-e7ff-4d5b-9a28-99eaa381965b:6' labels=frozenset({'CVE'}) properties={'assigner': 'cna@sap.com', 'id': 'CVE-2023-0018'}> cve2=<Node element_id='4:de342d72-e7ff-4d5b-9a28-99eaa381965b:9' labels=frozenset({'CVE'}) properties={'assigner': 'security@huntr.dev', 'id': 'CVE-2023-0028'}> Entities=<Node element_id='4:de342d72-e7ff-4d5b-9a28-99eaa381965b:9' labels=frozenset({'CVE'}) properties={'assigner': 'security@huntr.dev', 'id': 'CVE-2023-0028'}>>, <Record cve1=<Node element_id='4:de342d72-e7ff-4d5b-9a28-99eaa381965b:6' labels=frozenset({'CVE'}) properties={'assigner': 'cna@sap.com', 'id': 'CVE-2023-0018'}> cve2=<Node element_id='4:de342d72-e7ff-4d5b-9a28-99eaa381965b:9' labels=frozenset({'CVE'}) properties={'assigner': 'security@huntr.dev', 'id': 'CVE-2023-0028'}> Entities=<Node element_id='4:de342d72-e7ff-4d5b-9a28-99eaa381965b:9' labels=frozenset({'CVE'}) properties={'assigner': 'security@huntr.dev', 'id': 'CVE-2023-0028'}>>, <Record cve1=<Node element_id='4:de342d72-e7ff-4d5b-9a28-99eaa381965b:6' labels=frozenset({'CVE'}) properties={'assigner': 'cna@sap.com', 'id': 'CVE-2023-0018'}> cve2=<Node element_id='4:de342d72-e7ff-4d5b-9a28-99eaa381965b:9' labels=frozenset({'CVE'}) properties={'assigner': 'security@huntr.dev', 'id': 'CVE-2023-0028'}> Entities=<Node element_id='4:de342d72-e7ff-4d5b-9a28-99eaa381965b:9' labels=frozenset({'CVE'}) properties={'assigner': 'security@huntr.dev', 'id': 'CVE-2023-0028'}>>, <Record cve1=<Node element_id='4:de342d72-e7ff-4d5b-9a28-99eaa381965b:6' labels=frozenset({'CVE'}) properties={'assigner': 'cna@sap.com', 'id': 'CVE-2023-0018'}> cve2=<Node element_id='4:de342d72-e7ff-4d5b-9a28-99eaa381965b:9' labels=frozenset({'CVE'}) properties={'assigner': 'security@huntr.dev', 'id': 'CVE-2023-0028'}> Entities=<Node element_id='4:de342d72-e7ff-4d5b-9a28-99eaa381965b:3' labels=frozenset({'CVE'}) properties={'assigner': 'cna@sap.com', 'id': 'CVE-2023-0015'}>>, <Record cve1=<Node element_id='4:de342d72-e7ff-4d5b-9a28-99eaa381965b:6' labels=frozenset({'CVE'}) properties={'assigner': 'cna@sap.com', 'id': 'CVE-2023-0018'}> cve2=<Node element_id='4:de342d72-e7ff-4d5b-9a28-99eaa381965b:9' labels=frozenset({'CVE'}) properties={'assigner': 'security@huntr.dev', 'id': 'CVE-2023-0028'}> Entities=<Node element_id='4:de342d72-e7ff-4d5b-9a28-99eaa381965b:3' labels=frozenset({'CVE'}) properties={'assigner': 'cna@sap.com', 'id': 'CVE-2023-0015'}>>, <Record cve1=<Node element_id='4:de342d72-e7ff-4d5b-9a28-99eaa381965b:6' labels=frozenset({'CVE'}) properties={'assigner': 'cna@sap.com', 'id': 'CVE-2023-0018'}> cve2=<Node element_id='4:de342d72-e7ff-4d5b-9a28-99eaa381965b:9' labels=frozenset({'CVE'}) properties={'assigner': 'security@huntr.dev', 'id': 'CVE-2023-0028'}> Entities=<Node element_id='4:de342d72-e7ff-4d5b-9a28-99eaa381965b:3' labels=frozenset({'CVE'}) properties={'assigner': 'cna@sap.com', 'id': 'CVE-2023-0015'}>>, <Record cve1=<Node element_id='4:de342d72-e7ff-4d5b-9a28-99eaa381965b:6' labels=frozenset({'CVE'}) properties={'assigner': 'cna@sap.com', 'id': 'CVE-2023-0018'}> cve2=<Node element_id='4:de342d72-e7ff-4d5b-9a28-99eaa381965b:9' labels=frozenset({'CVE'}) properties={'assigner': 'security@huntr.dev', 'id': 'CVE-2023-0028'}> Entities=<Node element_id='4:de342d72-e7ff-4d5b-9a28-99eaa381965b:1' labels=frozenset({'CVE'}) properties={'assigner': 'cna@sap.com', 'id': 'CVE-2023-0013'}>>, <Record cve1=<Node element_id='4:de342d72-e7ff-4d5b-9a28-99eaa381965b:6' labels=frozenset({'CVE'}) properties={'assigner': 'cna@sap.com', 'id': 'CVE-2023-0018'}> cve2=<Node element_id='4:de342d72-e7ff-4d5b-9a28-99eaa381965b:9' labels=frozenset({'CVE'}) properties={'assigner': 'security@huntr.dev', 'id': 'CVE-2023-0028'}> Entities=<Node element_id='4:de342d72-e7ff-4d5b-9a28-99eaa381965b:1' labels=frozenset({'CVE'}) properties={'assigner': 'cna@sap.com', 'id': 'CVE-2023-0013'}>>, <Record cve1=<Node element_id='4:de342d72-e7ff-4d5b-9a28-99eaa381965b:6' labels=frozenset({'CVE'}) properties={'assigner': 'cna@sap.com', 'id': 'CVE-2023-0018'}> cve2=<Node element_id='4:de342d72-e7ff-4d5b-9a28-99eaa381965b:9' labels=frozenset({'CVE'}) properties={'assigner': 'security@huntr.dev', 'id': 'CVE-2023-0028'}> Entities=<Node element_id='4:de342d72-e7ff-4d5b-9a28-99eaa381965b:1' labels=frozenset({'CVE'}) properties={'assigner': 'cna@sap.com', 'id': 'CVE-2023-0013'}>>, <Record cve1=<Node element_id='4:de342d72-e7ff-4d5b-9a28-99eaa381965b:6' labels=frozenset({'CVE'}) properties={'assigner': 'cna@sap.com', 'id': 'CVE-2023-0018'}> cve2=<Node element_id='4:de342d72-e7ff-4d5b-9a28-99eaa381965b:9' labels=frozenset({'CVE'}) properties={'assigner': 'security@huntr.dev', 'id': 'CVE-2023-0028'}> Entities=<Node element_id='4:de342d72-e7ff-4d5b-9a28-99eaa381965b:6' labels=frozenset({'CVE'}) properties={'assigner': 'cna@sap.com', 'id': 'CVE-2023-0018'}>>, <Record cve1=<Node element_id='4:de342d72-e7ff-4d5b-9a28-99eaa381965b:6' labels=frozenset({'CVE'}) properties={'assigner': 'cna@sap.com', 'id': 'CVE-2023-0018'}> cve2=<Node element_id='4:de342d72-e7ff-4d5b-9a28-99eaa381965b:9' labels=frozenset({'CVE'}) properties={'assigner': 'security@huntr.dev', 'id': 'CVE-2023-0028'}> Entities=<Node element_id='4:de342d72-e7ff-4d5b-9a28-99eaa381965b:6' labels=frozenset({'CVE'}) properties={'assigner': 'cna@sap.com', 'id': 'CVE-2023-0018'}>>, <Record cve1=<Node element_id='4:de342d72-e7ff-4d5b-9a28-99eaa381965b:6' labels=frozenset({'CVE'}) properties={'assigner': 'cna@sap.com', 'id': 'CVE-2023-0018'}> cve2=<Node element_id='4:de342d72-e7ff-4d5b-9a28-99eaa381965b:9' labels=frozenset({'CVE'}) properties={'assigner': 'security@huntr.dev', 'id': 'CVE-2023-0028'}> Entities=<Node element_id='4:de342d72-e7ff-4d5b-9a28-99eaa381965b:9' labels=frozenset({'CVE'}) properties={'assigner': 'security@huntr.dev', 'id': 'CVE-2023-0028'}>>, <Record cve1=<Node element_id='4:de342d72-e7ff-4d5b-9a28-99eaa381965b:6' labels=frozenset({'CVE'}) properties={'assigner': 'cna@sap.com', 'id': 'CVE-2023-0018'}> cve2=<Node element_id='4:de342d72-e7ff-4d5b-9a28-99eaa381965b:9' labels=frozenset({'CVE'}) properties={'assigner': 'security@huntr.dev', 'id': 'CVE-2023-0028'}> Entities=<Node element_id='4:de342d72-e7ff-4d5b-9a28-99eaa381965b:9' labels=frozenset({'CVE'}) properties={'assigner': 'security@huntr.dev', 'id': 'CVE-2023-0028'}>>, <Record cve1=<Node element_id='4:de342d72-e7ff-4d5b-9a28-99eaa381965b:6' labels=frozenset({'CVE'}) properties={'assigner': 'cna@sap.com', 'id': 'CVE-2023-0018'}> cve2=<Node element_id='4:de342d72-e7ff-4d5b-9a28-99eaa381965b:9' labels=frozenset({'CVE'}) properties={'assigner': 'security@huntr.dev', 'id': 'CVE-2023-0028'}> Entities=<Node element_id='4:de342d72-e7ff-4d5b-9a28-99eaa381965b:3' labels=frozenset({'CVE'}) properties={'assigner': 'cna@sap.com', 'id': 'CVE-2023-0015'}>>, <Record cve1=<Node element_id='4:de342d72-e7ff-4d5b-9a28-99eaa381965b:6' labels=frozenset({'CVE'}) properties={'assigner': 'cna@sap.com', 'id': 'CVE-2023-0018'}> cve2=<Node element_id='4:de342d72-e7ff-4d5b-9a28-99eaa381965b:9' labels=frozenset({'CVE'}) properties={'assigner': 'security@huntr.dev', 'id': 'CVE-2023-0028'}> Entities=<Node element_id='4:de342d72-e7ff-4d5b-9a28-99eaa381965b:3' labels=frozenset({'CVE'}) properties={'assigner': 'cna@sap.com', 'id': 'CVE-2023-0015'}>>, <Record cve1=<Node element_id='4:de342d72-e7ff-4d5b-9a28-99eaa381965b:6' labels=frozenset({'CVE'}) properties={'assigner': 'cna@sap.com', 'id': 'CVE-2023-0018'}> cve2=<Node element_id='4:de342d72-e7ff-4d5b-9a28-99eaa381965b:9' labels=frozenset({'CVE'}) properties={'assigner': 'security@huntr.dev', 'id': 'CVE-2023-0028'}> Entities=<Node element_id='4:de342d72-e7ff-4d5b-9a28-99eaa381965b:1' labels=frozenset({'CVE'}) properties={'assigner': 'cna@sap.com', 'id': 'CVE-2023-0013'}>>, <Record cve1=<Node element_id='4:de342d72-e7ff-4d5b-9a28-99eaa381965b:6' labels=frozenset({'CVE'}) properties={'assigner': 'cna@sap.com', 'id': 'CVE-2023-0018'}> cve2=<Node element_id='4:de342d72-e7ff-4d5b-9a28-99eaa381965b:9' labels=frozenset({'CVE'}) properties={'assigner': 'security@huntr.dev', 'id': 'CVE-2023-0028'}> Entities=<Node element_id='4:de342d72-e7ff-4d5b-9a28-99eaa381965b:1' labels=frozenset({'CVE'}) properties={'assigner': 'cna@sap.com', 'id': 'CVE-2023-0013'}>>, <Record cve1=<Node element_id='4:de342d72-e7ff-4d5b-9a28-99eaa381965b:6' labels=frozenset({'CVE'}) properties={'assigner': 'cna@sap.com', 'id': 'CVE-2023-0018'}> cve2=<Node element_id='4:de342d72-e7ff-4d5b-9a28-99eaa381965b:9' labels=frozenset({'CVE'}) properties={'assigner': 'security@huntr.dev', 'id': 'CVE-2023-0028'}> Entities=<Node element_id='4:de342d72-e7ff-4d5b-9a28-99eaa381965b:6' labels=frozenset({'CVE'}) properties={'assigner': 'cna@sap.com', 'id': 'CVE-2023-0018'}>>, <Record cve1=<Node element_id='4:de342d72-e7ff-4d5b-9a28-99eaa381965b:6' labels=frozenset({'CVE'}) properties={'assigner': 'cna@sap.com', 'id': 'CVE-2023-0018'}> cve2=<Node element_id='4:de342d72-e7ff-4d5b-9a28-99eaa381965b:9' labels=frozenset({'CVE'}) properties={'assigner': 'security@huntr.dev', 'id': 'CVE-2023-0028'}> Entities=<Node element_id='4:de342d72-e7ff-4d5b-9a28-99eaa381965b:6' labels=frozenset({'CVE'}) properties={'assigner': 'cna@sap.com', 'id': 'CVE-2023-0018'}>>, <Record cve1=<Node element_id='4:de342d72-e7ff-4d5b-9a28-99eaa381965b:6' labels=frozenset({'CVE'}) properties={'assigner': 'cna@sap.com', 'id': 'CVE-2023-0018'}> cve2=<Node element_id='4:de342d72-e7ff-4d5b-9a28-99eaa381965b:9' labels=frozenset({'CVE'}) properties={'assigner': 'security@huntr.dev', 'id': 'CVE-2023-0028'}> Entities=<Node element_id='4:de342d72-e7ff-4d5b-9a28-99eaa381965b:9' labels=frozenset({'CVE'}) properties={'assigner': 'security@huntr.dev', 'id': 'CVE-2023-0028'}>>, <Record cve1=<Node element_id='4:de342d72-e7ff-4d5b-9a28-99eaa381965b:6' labels=frozenset({'CVE'}) properties={'assigner': 'cna@sap.com', 'id': 'CVE-2023-0018'}> cve2=<Node element_id='4:de342d72-e7ff-4d5b-9a28-99eaa381965b:9' labels=frozenset({'CVE'}) properties={'assigner': 'security@huntr.dev', 'id': 'CVE-2023-0028'}> Entities=<Node element_id='4:de342d72-e7ff-4d5b-9a28-99eaa381965b:9' labels=frozenset({'CVE'}) properties={'assigner': 'security@huntr.dev', 'id': 'CVE-2023-0028'}>>, <Record cve1=<Node element_id='4:de342d72-e7ff-4d5b-9a28-99eaa381965b:6' labels=frozenset({'CVE'}) properties={'assigner': 'cna@sap.com', 'id': 'CVE-2023-0018'}> cve2=<Node element_id='4:de342d72-e7ff-4d5b-9a28-99eaa381965b:9' labels=frozenset({'CVE'}) properties={'assigner': 'security@huntr.dev', 'id': 'CVE-2023-0028'}> Entities=<Node element_id='4:de342d72-e7ff-4d5b-9a28-99eaa381965b:3' labels=frozenset({'CVE'}) properties={'assigner': 'cna@sap.com', 'id': 'CVE-2023-0015'}>>, <Record cve1=<Node element_id='4:de342d72-e7ff-4d5b-9a28-99eaa381965b:6' labels=frozenset({'CVE'}) properties={'assigner': 'cna@sap.com', 'id': 'CVE-2023-0018'}> cve2=<Node element_id='4:de342d72-e7ff-4d5b-9a28-99eaa381965b:9' labels=frozenset({'CVE'}) properties={'assigner': 'security@huntr.dev', 'id': 'CVE-2023-0028'}> Entities=<Node element_id='4:de342d72-e7ff-4d5b-9a28-99eaa381965b:3' labels=frozenset({'CVE'}) properties={'assigner': 'cna@sap.com', 'id': 'CVE-2023-0015'}>>, <Record cve1=<Node element_id='4:de342d72-e7ff-4d5b-9a28-99eaa381965b:6' labels=frozenset({'CVE'}) properties={'assigner': 'cna@sap.com', 'id': 'CVE-2023-0018'}> cve2=<Node element_id='4:de342d72-e7ff-4d5b-9a28-99eaa381965b:9' labels=frozenset({'CVE'}) properties={'assigner': 'security@huntr.dev', 'id': 'CVE-2023-0028'}> Entities=<Node element_id='4:de342d72-e7ff-4d5b-9a28-99eaa381965b:1' labels=frozenset({'CVE'}) properties={'assigner': 'cna@sap.com', 'id': 'CVE-2023-0013'}>>, <Record cve1=<Node element_id='4:de342d72-e7ff-4d5b-9a28-99eaa381965b:6' labels=frozenset({'CVE'}) properties={'assigner': 'cna@sap.com', 'id': 'CVE-2023-0018'}> cve2=<Node element_id='4:de342d72-e7ff-4d5b-9a28-99eaa381965b:9' labels=frozenset({'CVE'}) properties={'assigner': 'security@huntr.dev', 'id': 'CVE-2023-0028'}> Entities=<Node element_id='4:de342d72-e7ff-4d5b-9a28-99eaa381965b:1' labels=frozenset({'CVE'}) properties={'assigner': 'cna@sap.com', 'id': 'CVE-2023-0013'}>>, <Record cve1=<Node element_id='4:de342d72-e7ff-4d5b-9a28-99eaa381965b:6' labels=frozenset({'CVE'}) properties={'assigner': 'cna@sap.com', 'id': 'CVE-2023-0018'}> cve2=<Node element_id='4:de342d72-e7ff-4d5b-9a28-99eaa381965b:9' labels=frozenset({'CVE'}) properties={'assigner': 'security@huntr.dev', 'id': 'CVE-2023-0028'}> Entities=<Node element_id='4:de342d72-e7ff-4d5b-9a28-99eaa381965b:6' labels=frozenset({'CVE'}) properties={'assigner': 'cna@sap.com', 'id': 'CVE-2023-0018'}>>, <Record cve1=<Node element_id='4:de342d72-e7ff-4d5b-9a28-99eaa381965b:6' labels=frozenset({'CVE'}) properties={'assigner': 'cna@sap.com', 'id': 'CVE-2023-0018'}> cve2=<Node element_id='4:de342d72-e7ff-4d5b-9a28-99eaa381965b:9' labels=frozenset({'CVE'}) properties={'assigner': 'security@huntr.dev', 'id': 'CVE-2023-0028'}> Entities=<Node element_id='4:de342d72-e7ff-4d5b-9a28-99eaa381965b:6' labels=frozenset({'CVE'}) properties={'assigner': 'cna@sap.com', 'id': 'CVE-2023-0018'}>>, <Record cve1=<Node element_id='4:de342d72-e7ff-4d5b-9a28-99eaa381965b:6' labels=frozenset({'CVE'}) properties={'assigner': 'cna@sap.com', 'id': 'CVE-2023-0018'}> cve2=<Node element_id='4:de342d72-e7ff-4d5b-9a28-99eaa381965b:9' labels=frozenset({'CVE'}) properties={'assigner': 'security@huntr.dev', 'id': 'CVE-2023-0028'}> Entities=<Node element_id='4:de342d72-e7ff-4d5b-9a28-99eaa381965b:9' labels=frozenset({'CVE'}) properties={'assigner': 'security@huntr.dev', 'id': 'CVE-2023-0028'}>>, <Record cve1=<Node element_id='4:de342d72-e7ff-4d5b-9a28-99eaa381965b:6' labels=frozenset({'CVE'}) properties={'assigner': 'cna@sap.com', 'id': 'CVE-2023-0018'}> cve2=<Node element_id='4:de342d72-e7ff-4d5b-9a28-99eaa381965b:9' labels=frozenset({'CVE'}) properties={'assigner': 'security@huntr.dev', 'id': 'CVE-2023-0028'}> Entities=<Node element_id='4:de342d72-e7ff-4d5b-9a28-99eaa381965b:9' labels=frozenset({'CVE'}) properties={'assigner': 'security@huntr.dev', 'id': 'CVE-2023-0028'}>>, <Record cve1=<Node element_id='4:de342d72-e7ff-4d5b-9a28-99eaa381965b:6' labels=frozenset({'CVE'}) properties={'assigner': 'cna@sap.com', 'id': 'CVE-2023-0018'}> cve2=<Node element_id='4:de342d72-e7ff-4d5b-9a28-99eaa381965b:9' labels=frozenset({'CVE'}) properties={'assigner': 'security@huntr.dev', 'id': 'CVE-2023-0028'}> Entities=<Node element_id='4:de342d72-e7ff-4d5b-9a28-99eaa381965b:3' labels=frozenset({'CVE'}) properties={'assigner': 'cna@sap.com', 'id': 'CVE-2023-0015'}>>, <Record cve1=<Node element_id='4:de342d72-e7ff-4d5b-9a28-99eaa381965b:6' labels=frozenset({'CVE'}) properties={'assigner': 'cna@sap.com', 'id': 'CVE-2023-0018'}> cve2=<Node element_id='4:de342d72-e7ff-4d5b-9a28-99eaa381965b:9' labels=frozenset({'CVE'}) properties={'assigner': 'security@huntr.dev', 'id': 'CVE-2023-0028'}> Entities=<Node element_id='4:de342d72-e7ff-4d5b-9a28-99eaa381965b:3' labels=frozenset({'CVE'}) properties={'assigner': 'cna@sap.com', 'id': 'CVE-2023-0015'}>>, <Record cve1=<Node element_id='4:de342d72-e7ff-4d5b-9a28-99eaa381965b:6' labels=frozenset({'CVE'}) properties={'assigner': 'cna@sap.com', 'id': 'CVE-2023-0018'}> cve2=<Node element_id='4:de342d72-e7ff-4d5b-9a28-99eaa381965b:9' labels=frozenset({'CVE'}) properties={'assigner': 'security@huntr.dev', 'id': 'CVE-2023-0028'}> Entities=<Node element_id='4:de342d72-e7ff-4d5b-9a28-99eaa381965b:1' labels=frozenset({'CVE'}) properties={'assigner': 'cna@sap.com', 'id': 'CVE-2023-0013'}>>, <Record cve1=<Node element_id='4:de342d72-e7ff-4d5b-9a28-99eaa381965b:6' labels=frozenset({'CVE'}) properties={'assigner': 'cna@sap.com', 'id': 'CVE-2023-0018'}> cve2=<Node element_id='4:de342d72-e7ff-4d5b-9a28-99eaa381965b:9' labels=frozenset({'CVE'}) properties={'assigner': 'security@huntr.dev', 'id': 'CVE-2023-0028'}> Entities=<Node element_id='4:de342d72-e7ff-4d5b-9a28-99eaa381965b:1' labels=frozenset({'CVE'}) properties={'assigner': 'cna@sap.com', 'id': 'CVE-2023-0013'}>>, <Record cve1=<Node element_id='4:de342d72-e7ff-4d5b-9a28-99eaa381965b:6' labels=frozenset({'CVE'}) properties={'assigner': 'cna@sap.com', 'id': 'CVE-2023-0018'}> cve2=<Node element_id='4:de342d72-e7ff-4d5b-9a28-99eaa381965b:9' labels=frozenset({'CVE'}) properties={'assigner': 'security@huntr.dev', 'id': 'CVE-2023-0028'}> Entities=<Node element_id='4:de342d72-e7ff-4d5b-9a28-99eaa381965b:6' labels=frozenset({'CVE'}) properties={'assigner': 'cna@sap.com', 'id': 'CVE-2023-0018'}>>, <Record cve1=<Node element_id='4:de342d72-e7ff-4d5b-9a28-99eaa381965b:6' labels=frozenset({'CVE'}) properties={'assigner': 'cna@sap.com', 'id': 'CVE-2023-0018'}> cve2=<Node element_id='4:de342d72-e7ff-4d5b-9a28-99eaa381965b:9' labels=frozenset({'CVE'}) properties={'assigner': 'security@huntr.dev', 'id': 'CVE-2023-0028'}> Entities=<Node element_id='4:de342d72-e7ff-4d5b-9a28-99eaa381965b:6' labels=frozenset({'CVE'}) properties={'assigner': 'cna@sap.com', 'id': 'CVE-2023-0018'}>>, <Record cve1=<Node element_id='4:de342d72-e7ff-4d5b-9a28-99eaa381965b:6' labels=frozenset({'CVE'}) properties={'assigner': 'cna@sap.com', 'id': 'CVE-2023-0018'}> cve2=<Node element_id='4:de342d72-e7ff-4d5b-9a28-99eaa381965b:9' labels=frozenset({'CVE'}) properties={'assigner': 'security@huntr.dev', 'id': 'CVE-2023-0028'}> Entities=<Node element_id='4:de342d72-e7ff-4d5b-9a28-99eaa381965b:9' labels=frozenset({'CVE'}) properties={'assigner': 'security@huntr.dev', 'id': 'CVE-2023-0028'}>>, <Record cve1=<Node element_id='4:de342d72-e7ff-4d5b-9a28-99eaa381965b:6' labels=frozenset({'CVE'}) properties={'assigner': 'cna@sap.com', 'id': 'CVE-2023-0018'}> cve2=<Node element_id='4:de342d72-e7ff-4d5b-9a28-99eaa381965b:9' labels=frozenset({'CVE'}) properties={'assigner': 'security@huntr.dev', 'id': 'CVE-2023-0028'}> Entities=<Node element_id='4:de342d72-e7ff-4d5b-9a28-99eaa381965b:9' labels=frozenset({'CVE'}) properties={'assigner': 'security@huntr.dev', 'id': 'CVE-2023-0028'}>>, <Record cve1=<Node element_id='4:de342d72-e7ff-4d5b-9a28-99eaa381965b:6' labels=frozenset({'CVE'}) properties={'assigner': 'cna@sap.com', 'id': 'CVE-2023-0018'}> cve2=<Node element_id='4:de342d72-e7ff-4d5b-9a28-99eaa381965b:9' labels=frozenset({'CVE'}) properties={'assigner': 'security@huntr.dev', 'id': 'CVE-2023-0028'}> Entities=<Node element_id='4:de342d72-e7ff-4d5b-9a28-99eaa381965b:3' labels=frozenset({'CVE'}) properties={'assigner': 'cna@sap.com', 'id': 'CVE-2023-0015'}>>, <Record cve1=<Node element_id='4:de342d72-e7ff-4d5b-9a28-99eaa381965b:6' labels=frozenset({'CVE'}) properties={'assigner': 'cna@sap.com', 'id': 'CVE-2023-0018'}> cve2=<Node element_id='4:de342d72-e7ff-4d5b-9a28-99eaa381965b:9' labels=frozenset({'CVE'}) properties={'assigner': 'security@huntr.dev', 'id': 'CVE-2023-0028'}> Entities=<Node element_id='4:de342d72-e7ff-4d5b-9a28-99eaa381965b:3' labels=frozenset({'CVE'}) properties={'assigner': 'cna@sap.com', 'id': 'CVE-2023-0015'}>>, <Record cve1=<Node element_id='4:de342d72-e7ff-4d5b-9a28-99eaa381965b:6' labels=frozenset({'CVE'}) properties={'assigner': 'cna@sap.com', 'id': 'CVE-2023-0018'}> cve2=<Node element_id='4:de342d72-e7ff-4d5b-9a28-99eaa381965b:9' labels=frozenset({'CVE'}) properties={'assigner': 'security@huntr.dev', 'id': 'CVE-2023-0028'}> Entities=<Node element_id='4:de342d72-e7ff-4d5b-9a28-99eaa381965b:1' labels=frozenset({'CVE'}) properties={'assigner': 'cna@sap.com', 'id': 'CVE-2023-0013'}>>, <Record cve1=<Node element_id='4:de342d72-e7ff-4d5b-9a28-99eaa381965b:6' labels=frozenset({'CVE'}) properties={'assigner': 'cna@sap.com', 'id': 'CVE-2023-0018'}> cve2=<Node element_id='4:de342d72-e7ff-4d5b-9a28-99eaa381965b:9' labels=frozenset({'CVE'}) properties={'assigner': 'security@huntr.dev', 'id': 'CVE-2023-0028'}> Entities=<Node element_id='4:de342d72-e7ff-4d5b-9a28-99eaa381965b:1' labels=frozenset({'CVE'}) properties={'assigner': 'cna@sap.com', 'id': 'CVE-2023-0013'}>>, <Record cve1=<Node element_id='4:de342d72-e7ff-4d5b-9a28-99eaa381965b:6' labels=frozenset({'CVE'}) properties={'assigner': 'cna@sap.com', 'id': 'CVE-2023-0018'}> cve2=<Node element_id='4:de342d72-e7ff-4d5b-9a28-99eaa381965b:9' labels=frozenset({'CVE'}) properties={'assigner': 'security@huntr.dev', 'id': 'CVE-2023-0028'}> Entities=<Node element_id='4:de342d72-e7ff-4d5b-9a28-99eaa381965b:6' labels=frozenset({'CVE'}) properties={'assigner': 'cna@sap.com', 'id': 'CVE-2023-0018'}>>, <Record cve1=<Node element_id='4:de342d72-e7ff-4d5b-9a28-99eaa381965b:6' labels=frozenset({'CVE'}) properties={'assigner': 'cna@sap.com', 'id': 'CVE-2023-0018'}> cve2=<Node element_id='4:de342d72-e7ff-4d5b-9a28-99eaa381965b:9' labels=frozenset({'CVE'}) properties={'assigner': 'security@huntr.dev', 'id': 'CVE-2023-0028'}> Entities=<Node element_id='4:de342d72-e7ff-4d5b-9a28-99eaa381965b:6' labels=frozenset({'CVE'}) properties={'assigner': 'cna@sap.com', 'id': 'CVE-2023-0018'}>>, <Record cve1=<Node element_id='4:de342d72-e7ff-4d5b-9a28-99eaa381965b:6' labels=frozenset({'CVE'}) properties={'assigner': 'cna@sap.com', 'id': 'CVE-2023-0018'}> cve2=<Node element_id='4:de342d72-e7ff-4d5b-9a28-99eaa381965b:9' labels=frozenset({'CVE'}) properties={'assigner': 'security@huntr.dev', 'id': 'CVE-2023-0028'}> Entities=<Node element_id='4:de342d72-e7ff-4d5b-9a28-99eaa381965b:9' labels=frozenset({'CVE'}) properties={'assigner': 'security@huntr.dev', 'id': 'CVE-2023-0028'}>>, <Record cve1=<Node element_id='4:de342d72-e7ff-4d5b-9a28-99eaa381965b:6' labels=frozenset({'CVE'}) properties={'assigner': 'cna@sap.com', 'id': 'CVE-2023-0018'}> cve2=<Node element_id='4:de342d72-e7ff-4d5b-9a28-99eaa381965b:9' labels=frozenset({'CVE'}) properties={'assigner': 'security@huntr.dev', 'id': 'CVE-2023-0028'}> Entities=<Node element_id='4:de342d72-e7ff-4d5b-9a28-99eaa381965b:9' labels=frozenset({'CVE'}) properties={'assigner': 'security@huntr.dev', 'id': 'CVE-2023-0028'}>>, <Record cve1=<Node element_id='4:de342d72-e7ff-4d5b-9a28-99eaa381965b:6' labels=frozenset({'CVE'}) properties={'assigner': 'cna@sap.com', 'id': 'CVE-2023-0018'}> cve2=<Node element_id='4:de342d72-e7ff-4d5b-9a28-99eaa381965b:9' labels=frozenset({'CVE'}) properties={'assigner': 'security@huntr.dev', 'id': 'CVE-2023-0028'}> Entities=<Node element_id='4:de342d72-e7ff-4d5b-9a28-99eaa381965b:3' labels=frozenset({'CVE'}) properties={'assigner': 'cna@sap.com', 'id': 'CVE-2023-0015'}>>, <Record cve1=<Node element_id='4:de342d72-e7ff-4d5b-9a28-99eaa381965b:6' labels=frozenset({'CVE'}) properties={'assigner': 'cna@sap.com', 'id': 'CVE-2023-0018'}> cve2=<Node element_id='4:de342d72-e7ff-4d5b-9a28-99eaa381965b:9' labels=frozenset({'CVE'}) properties={'assigner': 'security@huntr.dev', 'id': 'CVE-2023-0028'}> Entities=<Node element_id='4:de342d72-e7ff-4d5b-9a28-99eaa381965b:3' labels=frozenset({'CVE'}) properties={'assigner': 'cna@sap.com', 'id': 'CVE-2023-0015'}>>, <Record cve1=<Node element_id='4:de342d72-e7ff-4d5b-9a28-99eaa381965b:6' labels=frozenset({'CVE'}) properties={'assigner': 'cna@sap.com', 'id': 'CVE-2023-0018'}> cve2=<Node element_id='4:de342d72-e7ff-4d5b-9a28-99eaa381965b:9' labels=frozenset({'CVE'}) properties={'assigner': 'security@huntr.dev', 'id': 'CVE-2023-0028'}> Entities=<Node element_id='4:de342d72-e7ff-4d5b-9a28-99eaa381965b:1' labels=frozenset({'CVE'}) properties={'assigner': 'cna@sap.com', 'id': 'CVE-2023-0013'}>>, <Record cve1=<Node element_id='4:de342d72-e7ff-4d5b-9a28-99eaa381965b:6' labels=frozenset({'CVE'}) properties={'assigner': 'cna@sap.com', 'id': 'CVE-2023-0018'}> cve2=<Node element_id='4:de342d72-e7ff-4d5b-9a28-99eaa381965b:9' labels=frozenset({'CVE'}) properties={'assigner': 'security@huntr.dev', 'id': 'CVE-2023-0028'}> Entities=<Node element_id='4:de342d72-e7ff-4d5b-9a28-99eaa381965b:1' labels=frozenset({'CVE'}) properties={'assigner': 'cna@sap.com', 'id': 'CVE-2023-0013'}>>, <Record cve1=<Node element_id='4:de342d72-e7ff-4d5b-9a28-99eaa381965b:6' labels=frozenset({'CVE'}) properties={'assigner': 'cna@sap.com', 'id': 'CVE-2023-0018'}> cve2=<Node element_id='4:de342d72-e7ff-4d5b-9a28-99eaa381965b:9' labels=frozenset({'CVE'}) properties={'assigner': 'security@huntr.dev', 'id': 'CVE-2023-0028'}> Entities=<Node element_id='4:de342d72-e7ff-4d5b-9a28-99eaa381965b:6' labels=frozenset({'CVE'}) properties={'assigner': 'cna@sap.com', 'id': 'CVE-2023-0018'}>>, <Record cve1=<Node element_id='4:de342d72-e7ff-4d5b-9a28-99eaa381965b:6' labels=frozenset({'CVE'}) properties={'assigner': 'cna@sap.com', 'id': 'CVE-2023-0018'}> cve2=<Node element_id='4:de342d72-e7ff-4d5b-9a28-99eaa381965b:9' labels=frozenset({'CVE'}) properties={'assigner': 'security@huntr.dev', 'id': 'CVE-2023-0028'}> Entities=<Node element_id='4:de342d72-e7ff-4d5b-9a28-99eaa381965b:6' labels=frozenset({'CVE'}) properties={'assigner': 'cna@sap.com', 'id': 'CVE-2023-0018'}>>, <Record cve1=<Node element_id='4:de342d72-e7ff-4d5b-9a28-99eaa381965b:6' labels=frozenset({'CVE'}) properties={'assigner': 'cna@sap.com', 'id': 'CVE-2023-0018'}> cve2=<Node element_id='4:de342d72-e7ff-4d5b-9a28-99eaa381965b:9' labels=frozenset({'CVE'}) properties={'assigner': 'security@huntr.dev', 'id': 'CVE-2023-0028'}> Entities=<Node element_id='4:de342d72-e7ff-4d5b-9a28-99eaa381965b:9' labels=frozenset({'CVE'}) properties={'assigner': 'security@huntr.dev', 'id': 'CVE-2023-0028'}>>, <Record cve1=<Node element_id='4:de342d72-e7ff-4d5b-9a28-99eaa381965b:6' labels=frozenset({'CVE'}) properties={'assigner': 'cna@sap.com', 'id': 'CVE-2023-0018'}> cve2=<Node element_id='4:de342d72-e7ff-4d5b-9a28-99eaa381965b:9' labels=frozenset({'CVE'}) properties={'assigner': 'security@huntr.dev', 'id': 'CVE-2023-0028'}> Entities=<Node element_id='4:de342d72-e7ff-4d5b-9a28-99eaa381965b:9' labels=frozenset({'CVE'}) properties={'assigner': 'security@huntr.dev', 'id': 'CVE-2023-0028'}>>, <Record cve1=<Node element_id='4:de342d72-e7ff-4d5b-9a28-99eaa381965b:6' labels=frozenset({'CVE'}) properties={'assigner': 'cna@sap.com', 'id': 'CVE-2023-0018'}> cve2=<Node element_id='4:de342d72-e7ff-4d5b-9a28-99eaa381965b:9' labels=frozenset({'CVE'}) properties={'assigner': 'security@huntr.dev', 'id': 'CVE-2023-0028'}> Entities=<Node element_id='4:de342d72-e7ff-4d5b-9a28-99eaa381965b:3' labels=frozenset({'CVE'}) properties={'assigner': 'cna@sap.com', 'id': 'CVE-2023-0015'}>>, <Record cve1=<Node element_id='4:de342d72-e7ff-4d5b-9a28-99eaa381965b:6' labels=frozenset({'CVE'}) properties={'assigner': 'cna@sap.com', 'id': 'CVE-2023-0018'}> cve2=<Node element_id='4:de342d72-e7ff-4d5b-9a28-99eaa381965b:9' labels=frozenset({'CVE'}) properties={'assigner': 'security@huntr.dev', 'id': 'CVE-2023-0028'}> Entities=<Node element_id='4:de342d72-e7ff-4d5b-9a28-99eaa381965b:3' labels=frozenset({'CVE'}) properties={'assigner': 'cna@sap.com', 'id': 'CVE-2023-0015'}>>, <Record cve1=<Node element_id='4:de342d72-e7ff-4d5b-9a28-99eaa381965b:6' labels=frozenset({'CVE'}) properties={'assigner': 'cna@sap.com', 'id': 'CVE-2023-0018'}> cve2=<Node element_id='4:de342d72-e7ff-4d5b-9a28-99eaa381965b:9' labels=frozenset({'CVE'}) properties={'assigner': 'security@huntr.dev', 'id': 'CVE-2023-0028'}> Entities=<Node element_id='4:de342d72-e7ff-4d5b-9a28-99eaa381965b:1' labels=frozenset({'CVE'}) properties={'assigner': 'cna@sap.com', 'id': 'CVE-2023-0013'}>>, <Record cve1=<Node element_id='4:de342d72-e7ff-4d5b-9a28-99eaa381965b:6' labels=frozenset({'CVE'}) properties={'assigner': 'cna@sap.com', 'id': 'CVE-2023-0018'}> cve2=<Node element_id='4:de342d72-e7ff-4d5b-9a28-99eaa381965b:9' labels=frozenset({'CVE'}) properties={'assigner': 'security@huntr.dev', 'id': 'CVE-2023-0028'}> Entities=<Node element_id='4:de342d72-e7ff-4d5b-9a28-99eaa381965b:1' labels=frozenset({'CVE'}) properties={'assigner': 'cna@sap.com', 'id': 'CVE-2023-0013'}>>, <Record cve1=<Node element_id='4:de342d72-e7ff-4d5b-9a28-99eaa381965b:6' labels=frozenset({'CVE'}) properties={'assigner': 'cna@sap.com', 'id': 'CVE-2023-0018'}> cve2=<Node element_id='4:de342d72-e7ff-4d5b-9a28-99eaa381965b:9' labels=frozenset({'CVE'}) properties={'assigner': 'security@huntr.dev', 'id': 'CVE-2023-0028'}> Entities=<Node element_id='4:de342d72-e7ff-4d5b-9a28-99eaa381965b:4' labels=frozenset({'CVE'}) properties={'assigner': 'cna@sap.com', 'id': 'CVE-2023-0016'}>>, <Record cve1=<Node element_id='4:de342d72-e7ff-4d5b-9a28-99eaa381965b:6' labels=frozenset({'CVE'}) properties={'assigner': 'cna@sap.com', 'id': 'CVE-2023-0018'}> cve2=<Node element_id='4:de342d72-e7ff-4d5b-9a28-99eaa381965b:9' labels=frozenset({'CVE'}) properties={'assigner': 'security@huntr.dev', 'id': 'CVE-2023-0028'}> Entities=<Node element_id='4:de342d72-e7ff-4d5b-9a28-99eaa381965b:167' labels=frozenset({'Entities'}) properties={'wikipediaExternalRef': 241154, 'wikidataId': 'Q371199', 'confidence_score': 0.719, 'offsetStart': 0, 'offsetEnd': 20, 'rawName': 'Cross-site scripting'}>>, <Record cve1=<Node element_id='4:de342d72-e7ff-4d5b-9a28-99eaa381965b:6' labels=frozenset({'CVE'}) properties={'assigner': 'cna@sap.com', 'id': 'CVE-2023-0018'}> cve2=<Node element_id='4:de342d72-e7ff-4d5b-9a28-99eaa381965b:9' labels=frozenset({'CVE'}) properties={'assigner': 'security@huntr.dev', 'id': 'CVE-2023-0028'}> Entities=<Node element_id='4:de342d72-e7ff-4d5b-9a28-99eaa381965b:167' labels=frozenset({'Entities'}) properties={'wikipediaExternalRef': 241154, 'wikidataId': 'Q371199', 'confidence_score': 0.719, 'offsetStart': 0, 'offsetEnd': 20, 'rawName': 'Cross-site scripting'}>>, <Record cve1=<Node element_id='4:de342d72-e7ff-4d5b-9a28-99eaa381965b:6' labels=frozenset({'CVE'}) properties={'assigner': 'cna@sap.com', 'id': 'CVE-2023-0018'}> cve2=<Node element_id='4:de342d72-e7ff-4d5b-9a28-99eaa381965b:9' labels=frozenset({'CVE'}) properties={'assigner': 'security@huntr.dev', 'id': 'CVE-2023-0028'}> Entities=<Node element_id='4:de342d72-e7ff-4d5b-9a28-99eaa381965b:167' labels=frozenset({'Entities'}) properties={'wikipediaExternalRef': 241154, 'wikidataId': 'Q371199', 'confidence_score': 0.719, 'offsetStart': 0, 'offsetEnd': 20, 'rawName': 'Cross-site scripting'}>>, <Record cve1=<Node element_id='4:de342d72-e7ff-4d5b-9a28-99eaa381965b:6' labels=frozenset({'CVE'}) properties={'assigner': 'cna@sap.com', 'id': 'CVE-2023-0018'}> cve2=<Node element_id='4:de342d72-e7ff-4d5b-9a28-99eaa381965b:9' labels=frozenset({'CVE'}) properties={'assigner': 'security@huntr.dev', 'id': 'CVE-2023-0028'}> Entities=<Node element_id='4:de342d72-e7ff-4d5b-9a28-99eaa381965b:167' labels=frozenset({'Entities'}) properties={'wikipediaExternalRef': 241154, 'wikidataId': 'Q371199', 'confidence_score': 0.719, 'offsetStart': 0, 'offsetEnd': 20, 'rawName': 'Cross-site scripting'}>>, <Record cve1=<Node element_id='4:de342d72-e7ff-4d5b-9a28-99eaa381965b:6' labels=frozenset({'CVE'}) properties={'assigner': 'cna@sap.com', 'id': 'CVE-2023-0018'}> cve2=<Node element_id='4:de342d72-e7ff-4d5b-9a28-99eaa381965b:9' labels=frozenset({'CVE'}) properties={'assigner': 'security@huntr.dev', 'id': 'CVE-2023-0028'}> Entities=<Node element_id='4:de342d72-e7ff-4d5b-9a28-99eaa381965b:262' labels=frozenset({'Entities'}) properties={'wikipediaExternalRef': 526999, 'wikidataId': 'Q506059', 'confidence_score': 0.9162, 'offsetStart': 1041, 'offsetEnd': 1054, 'rawName': 'SQL injection'}>>, <Record cve1=<Node element_id='4:de342d72-e7ff-4d5b-9a28-99eaa381965b:0' labels=frozenset({'CVE'}) properties={'assigner': 'cna@sap.com', 'id': 'CVE-2023-0012'}> cve2=<Node element_id='4:de342d72-e7ff-4d5b-9a28-99eaa381965b:5' labels=frozenset({'CVE'}) properties={'assigner': 'cna@sap.com', 'id': 'CVE-2023-0017'}> Entities=<Node element_id='4:de342d72-e7ff-4d5b-9a28-99eaa381965b:6' labels=frozenset({'CVE'}) properties={'assigner': 'cna@sap.com', 'id': 'CVE-2023-0018'}>>, <Record cve1=<Node element_id='4:de342d72-e7ff-4d5b-9a28-99eaa381965b:0' labels=frozenset({'CVE'}) properties={'assigner': 'cna@sap.com', 'id': 'CVE-2023-0012'}> cve2=<Node element_id='4:de342d72-e7ff-4d5b-9a28-99eaa381965b:5' labels=frozenset({'CVE'}) properties={'assigner': 'cna@sap.com', 'id': 'CVE-2023-0017'}> Entities=<Node element_id='4:de342d72-e7ff-4d5b-9a28-99eaa381965b:9' labels=frozenset({'CVE'}) properties={'assigner': 'security@huntr.dev', 'id': 'CVE-2023-0028'}>>, <Record cve1=<Node element_id='4:de342d72-e7ff-4d5b-9a28-99eaa381965b:0' labels=frozenset({'CVE'}) properties={'assigner': 'cna@sap.com', 'id': 'CVE-2023-0012'}> cve2=<Node element_id='4:de342d72-e7ff-4d5b-9a28-99eaa381965b:5' labels=frozenset({'CVE'}) properties={'assigner': 'cna@sap.com', 'id': 'CVE-2023-0017'}> Entities=<Node element_id='4:de342d72-e7ff-4d5b-9a28-99eaa381965b:3' labels=frozenset({'CVE'}) properties={'assigner': 'cna@sap.com', 'id': 'CVE-2023-0015'}>>, <Record cve1=<Node element_id='4:de342d72-e7ff-4d5b-9a28-99eaa381965b:0' labels=frozenset({'CVE'}) properties={'assigner': 'cna@sap.com', 'id': 'CVE-2023-0012'}> cve2=<Node element_id='4:de342d72-e7ff-4d5b-9a28-99eaa381965b:5' labels=frozenset({'CVE'}) properties={'assigner': 'cna@sap.com', 'id': 'CVE-2023-0017'}> Entities=<Node element_id='4:de342d72-e7ff-4d5b-9a28-99eaa381965b:1' labels=frozenset({'CVE'}) properties={'assigner': 'cna@sap.com', 'id': 'CVE-2023-0013'}>>, <Record cve1=<Node element_id='4:de342d72-e7ff-4d5b-9a28-99eaa381965b:0' labels=frozenset({'CVE'}) properties={'assigner': 'cna@sap.com', 'id': 'CVE-2023-0012'}> cve2=<Node element_id='4:de342d72-e7ff-4d5b-9a28-99eaa381965b:5' labels=frozenset({'CVE'}) properties={'assigner': 'cna@sap.com', 'id': 'CVE-2023-0017'}> Entities=<Node element_id='4:de342d72-e7ff-4d5b-9a28-99eaa381965b:7' labels=frozenset({'CVE'}) properties={'assigner': 'cna@sap.com', 'id': 'CVE-2023-0022'}>>, <Record cve1=<Node element_id='4:de342d72-e7ff-4d5b-9a28-99eaa381965b:0' labels=frozenset({'CVE'}) properties={'assigner': 'cna@sap.com', 'id': 'CVE-2023-0012'}> cve2=<Node element_id='4:de342d72-e7ff-4d5b-9a28-99eaa381965b:5' labels=frozenset({'CVE'}) properties={'assigner': 'cna@sap.com', 'id': 'CVE-2023-0017'}> Entities=<Node element_id='4:de342d72-e7ff-4d5b-9a28-99eaa381965b:7' labels=frozenset({'CVE'}) properties={'assigner': 'cna@sap.com', 'id': 'CVE-2023-0022'}>>, <Record cve1=<Node element_id='4:de342d72-e7ff-4d5b-9a28-99eaa381965b:0' labels=frozenset({'CVE'}) properties={'assigner': 'cna@sap.com', 'id': 'CVE-2023-0012'}> cve2=<Node element_id='4:de342d72-e7ff-4d5b-9a28-99eaa381965b:5' labels=frozenset({'CVE'}) properties={'assigner': 'cna@sap.com', 'id': 'CVE-2023-0017'}> Entities=<Node element_id='4:de342d72-e7ff-4d5b-9a28-99eaa381965b:2' labels=frozenset({'CVE'}) properties={'assigner': 'cna@sap.com', 'id': 'CVE-2023-0014'}>>, <Record cve1=<Node element_id='4:de342d72-e7ff-4d5b-9a28-99eaa381965b:0' labels=frozenset({'CVE'}) properties={'assigner': 'cna@sap.com', 'id': 'CVE-2023-0012'}> cve2=<Node element_id='4:de342d72-e7ff-4d5b-9a28-99eaa381965b:5' labels=frozenset({'CVE'}) properties={'assigner': 'cna@sap.com', 'id': 'CVE-2023-0017'}> Entities=<Node element_id='4:de342d72-e7ff-4d5b-9a28-99eaa381965b:6' labels=frozenset({'CVE'}) properties={'assigner': 'cna@sap.com', 'id': 'CVE-2023-0018'}>>, <Record cve1=<Node element_id='4:de342d72-e7ff-4d5b-9a28-99eaa381965b:0' labels=frozenset({'CVE'}) properties={'assigner': 'cna@sap.com', 'id': 'CVE-2023-0012'}> cve2=<Node element_id='4:de342d72-e7ff-4d5b-9a28-99eaa381965b:5' labels=frozenset({'CVE'}) properties={'assigner': 'cna@sap.com', 'id': 'CVE-2023-0017'}> Entities=<Node element_id='4:de342d72-e7ff-4d5b-9a28-99eaa381965b:9' labels=frozenset({'CVE'}) properties={'assigner': 'security@huntr.dev', 'id': 'CVE-2023-0028'}>>, <Record cve1=<Node element_id='4:de342d72-e7ff-4d5b-9a28-99eaa381965b:0' labels=frozenset({'CVE'}) properties={'assigner': 'cna@sap.com', 'id': 'CVE-2023-0012'}> cve2=<Node element_id='4:de342d72-e7ff-4d5b-9a28-99eaa381965b:5' labels=frozenset({'CVE'}) properties={'assigner': 'cna@sap.com', 'id': 'CVE-2023-0017'}> Entities=<Node element_id='4:de342d72-e7ff-4d5b-9a28-99eaa381965b:3' labels=frozenset({'CVE'}) properties={'assigner': 'cna@sap.com', 'id': 'CVE-2023-0015'}>>, <Record cve1=<Node element_id='4:de342d72-e7ff-4d5b-9a28-99eaa381965b:0' labels=frozenset({'CVE'}) properties={'assigner': 'cna@sap.com', 'id': 'CVE-2023-0012'}> cve2=<Node element_id='4:de342d72-e7ff-4d5b-9a28-99eaa381965b:5' labels=frozenset({'CVE'}) properties={'assigner': 'cna@sap.com', 'id': 'CVE-2023-0017'}> Entities=<Node element_id='4:de342d72-e7ff-4d5b-9a28-99eaa381965b:1' labels=frozenset({'CVE'}) properties={'assigner': 'cna@sap.com', 'id': 'CVE-2023-0013'}>>, <Record cve1=<Node element_id='4:de342d72-e7ff-4d5b-9a28-99eaa381965b:0' labels=frozenset({'CVE'}) properties={'assigner': 'cna@sap.com', 'id': 'CVE-2023-0012'}> cve2=<Node element_id='4:de342d72-e7ff-4d5b-9a28-99eaa381965b:5' labels=frozenset({'CVE'}) properties={'assigner': 'cna@sap.com', 'id': 'CVE-2023-0017'}> Entities=<Node element_id='4:de342d72-e7ff-4d5b-9a28-99eaa381965b:8' labels=frozenset({'CVE'}) properties={'assigner': 'cna@sap.com', 'id': 'CVE-2023-0023'}>>, <Record cve1=<Node element_id='4:de342d72-e7ff-4d5b-9a28-99eaa381965b:0' labels=frozenset({'CVE'}) properties={'assigner': 'cna@sap.com', 'id': 'CVE-2023-0012'}> cve2=<Node element_id='4:de342d72-e7ff-4d5b-9a28-99eaa381965b:5' labels=frozenset({'CVE'}) properties={'assigner': 'cna@sap.com', 'id': 'CVE-2023-0017'}> Entities=<Node element_id='4:de342d72-e7ff-4d5b-9a28-99eaa381965b:0' labels=frozenset({'CVE'}) properties={'assigner': 'cna@sap.com', 'id': 'CVE-2023-0012'}>>, <Record cve1=<Node element_id='4:de342d72-e7ff-4d5b-9a28-99eaa381965b:0' labels=frozenset({'CVE'}) properties={'assigner': 'cna@sap.com', 'id': 'CVE-2023-0012'}> cve2=<Node element_id='4:de342d72-e7ff-4d5b-9a28-99eaa381965b:5' labels=frozenset({'CVE'}) properties={'assigner': 'cna@sap.com', 'id': 'CVE-2023-0017'}> Entities=<Node element_id='4:de342d72-e7ff-4d5b-9a28-99eaa381965b:5' labels=frozenset({'CVE'}) properties={'assigner': 'cna@sap.com', 'id': 'CVE-2023-0017'}>>, <Record cve1=<Node element_id='4:de342d72-e7ff-4d5b-9a28-99eaa381965b:0' labels=frozenset({'CVE'}) properties={'assigner': 'cna@sap.com', 'id': 'CVE-2023-0012'}> cve2=<Node element_id='4:de342d72-e7ff-4d5b-9a28-99eaa381965b:5' labels=frozenset({'CVE'}) properties={'assigner': 'cna@sap.com', 'id': 'CVE-2023-0017'}> Entities=<Node element_id='4:de342d72-e7ff-4d5b-9a28-99eaa381965b:0' labels=frozenset({'CVE'}) properties={'assigner': 'cna@sap.com', 'id': 'CVE-2023-0012'}>>, <Record cve1=<Node element_id='4:de342d72-e7ff-4d5b-9a28-99eaa381965b:0' labels=frozenset({'CVE'}) properties={'assigner': 'cna@sap.com', 'id': 'CVE-2023-0012'}> cve2=<Node element_id='4:de342d72-e7ff-4d5b-9a28-99eaa381965b:5' labels=frozenset({'CVE'}) properties={'assigner': 'cna@sap.com', 'id': 'CVE-2023-0017'}> Entities=<Node element_id='4:de342d72-e7ff-4d5b-9a28-99eaa381965b:0' labels=frozenset({'CVE'}) properties={'assigner': 'cna@sap.com', 'id': 'CVE-2023-0012'}>>, <Record cve1=<Node element_id='4:de342d72-e7ff-4d5b-9a28-99eaa381965b:0' labels=frozenset({'CVE'}) properties={'assigner': 'cna@sap.com', 'id': 'CVE-2023-0012'}> cve2=<Node element_id='4:de342d72-e7ff-4d5b-9a28-99eaa381965b:5' labels=frozenset({'CVE'}) properties={'assigner': 'cna@sap.com', 'id': 'CVE-2023-0017'}> Entities=<Node element_id='4:de342d72-e7ff-4d5b-9a28-99eaa381965b:5' labels=frozenset({'CVE'}) properties={'assigner': 'cna@sap.com', 'id': 'CVE-2023-0017'}>>, <Record cve1=<Node element_id='4:de342d72-e7ff-4d5b-9a28-99eaa381965b:0' labels=frozenset({'CVE'}) properties={'assigner': 'cna@sap.com', 'id': 'CVE-2023-0012'}> cve2=<Node element_id='4:de342d72-e7ff-4d5b-9a28-99eaa381965b:5' labels=frozenset({'CVE'}) properties={'assigner': 'cna@sap.com', 'id': 'CVE-2023-0017'}> Entities=<Node element_id='4:de342d72-e7ff-4d5b-9a28-99eaa381965b:5' labels=frozenset({'CVE'}) properties={'assigner': 'cna@sap.com', 'id': 'CVE-2023-0017'}>>, <Record cve1=<Node element_id='4:de342d72-e7ff-4d5b-9a28-99eaa381965b:0' labels=frozenset({'CVE'}) properties={'assigner': 'cna@sap.com', 'id': 'CVE-2023-0012'}> cve2=<Node element_id='4:de342d72-e7ff-4d5b-9a28-99eaa381965b:5' labels=frozenset({'CVE'}) properties={'assigner': 'cna@sap.com', 'id': 'CVE-2023-0017'}> Entities=<Node element_id='4:de342d72-e7ff-4d5b-9a28-99eaa381965b:6' labels=frozenset({'CVE'}) properties={'assigner': 'cna@sap.com', 'id': 'CVE-2023-0018'}>>, <Record cve1=<Node element_id='4:de342d72-e7ff-4d5b-9a28-99eaa381965b:0' labels=frozenset({'CVE'}) properties={'assigner': 'cna@sap.com', 'id': 'CVE-2023-0012'}> cve2=<Node element_id='4:de342d72-e7ff-4d5b-9a28-99eaa381965b:5' labels=frozenset({'CVE'}) properties={'assigner': 'cna@sap.com', 'id': 'CVE-2023-0017'}> Entities=<Node element_id='4:de342d72-e7ff-4d5b-9a28-99eaa381965b:6' labels=frozenset({'CVE'}) properties={'assigner': 'cna@sap.com', 'id': 'CVE-2023-0018'}>>, <Record cve1=<Node element_id='4:de342d72-e7ff-4d5b-9a28-99eaa381965b:0' labels=frozenset({'CVE'}) properties={'assigner': 'cna@sap.com', 'id': 'CVE-2023-0012'}> cve2=<Node element_id='4:de342d72-e7ff-4d5b-9a28-99eaa381965b:5' labels=frozenset({'CVE'}) properties={'assigner': 'cna@sap.com', 'id': 'CVE-2023-0017'}> Entities=<Node element_id='4:de342d72-e7ff-4d5b-9a28-99eaa381965b:6' labels=frozenset({'CVE'}) properties={'assigner': 'cna@sap.com', 'id': 'CVE-2023-0018'}>>, <Record cve1=<Node element_id='4:de342d72-e7ff-4d5b-9a28-99eaa381965b:0' labels=frozenset({'CVE'}) properties={'assigner': 'cna@sap.com', 'id': 'CVE-2023-0012'}> cve2=<Node element_id='4:de342d72-e7ff-4d5b-9a28-99eaa381965b:5' labels=frozenset({'CVE'}) properties={'assigner': 'cna@sap.com', 'id': 'CVE-2023-0017'}> Entities=<Node element_id='4:de342d72-e7ff-4d5b-9a28-99eaa381965b:6' labels=frozenset({'CVE'}) properties={'assigner': 'cna@sap.com', 'id': 'CVE-2023-0018'}>>, <Record cve1=<Node element_id='4:de342d72-e7ff-4d5b-9a28-99eaa381965b:0' labels=frozenset({'CVE'}) properties={'assigner': 'cna@sap.com', 'id': 'CVE-2023-0012'}> cve2=<Node element_id='4:de342d72-e7ff-4d5b-9a28-99eaa381965b:5' labels=frozenset({'CVE'}) properties={'assigner': 'cna@sap.com', 'id': 'CVE-2023-0017'}> Entities=<Node element_id='4:de342d72-e7ff-4d5b-9a28-99eaa381965b:9' labels=frozenset({'CVE'}) properties={'assigner': 'security@huntr.dev', 'id': 'CVE-2023-0028'}>>, <Record cve1=<Node element_id='4:de342d72-e7ff-4d5b-9a28-99eaa381965b:0' labels=frozenset({'CVE'}) properties={'assigner': 'cna@sap.com', 'id': 'CVE-2023-0012'}> cve2=<Node element_id='4:de342d72-e7ff-4d5b-9a28-99eaa381965b:5' labels=frozenset({'CVE'}) properties={'assigner': 'cna@sap.com', 'id': 'CVE-2023-0017'}> Entities=<Node element_id='4:de342d72-e7ff-4d5b-9a28-99eaa381965b:9' labels=frozenset({'CVE'}) properties={'assigner': 'security@huntr.dev', 'id': 'CVE-2023-0028'}>>, <Record cve1=<Node element_id='4:de342d72-e7ff-4d5b-9a28-99eaa381965b:0' labels=frozenset({'CVE'}) properties={'assigner': 'cna@sap.com', 'id': 'CVE-2023-0012'}> cve2=<Node element_id='4:de342d72-e7ff-4d5b-9a28-99eaa381965b:5' labels=frozenset({'CVE'}) properties={'assigner': 'cna@sap.com', 'id': 'CVE-2023-0017'}> Entities=<Node element_id='4:de342d72-e7ff-4d5b-9a28-99eaa381965b:9' labels=frozenset({'CVE'}) properties={'assigner': 'security@huntr.dev', 'id': 'CVE-2023-0028'}>>, <Record cve1=<Node element_id='4:de342d72-e7ff-4d5b-9a28-99eaa381965b:0' labels=frozenset({'CVE'}) properties={'assigner': 'cna@sap.com', 'id': 'CVE-2023-0012'}> cve2=<Node element_id='4:de342d72-e7ff-4d5b-9a28-99eaa381965b:5' labels=frozenset({'CVE'}) properties={'assigner': 'cna@sap.com', 'id': 'CVE-2023-0017'}> Entities=<Node element_id='4:de342d72-e7ff-4d5b-9a28-99eaa381965b:9' labels=frozenset({'CVE'}) properties={'assigner': 'security@huntr.dev', 'id': 'CVE-2023-0028'}>>, <Record cve1=<Node element_id='4:de342d72-e7ff-4d5b-9a28-99eaa381965b:0' labels=frozenset({'CVE'}) properties={'assigner': 'cna@sap.com', 'id': 'CVE-2023-0012'}> cve2=<Node element_id='4:de342d72-e7ff-4d5b-9a28-99eaa381965b:5' labels=frozenset({'CVE'}) properties={'assigner': 'cna@sap.com', 'id': 'CVE-2023-0017'}> Entities=<Node element_id='4:de342d72-e7ff-4d5b-9a28-99eaa381965b:3' labels=frozenset({'CVE'}) properties={'assigner': 'cna@sap.com', 'id': 'CVE-2023-0015'}>>, <Record cve1=<Node element_id='4:de342d72-e7ff-4d5b-9a28-99eaa381965b:0' labels=frozenset({'CVE'}) properties={'assigner': 'cna@sap.com', 'id': 'CVE-2023-0012'}> cve2=<Node element_id='4:de342d72-e7ff-4d5b-9a28-99eaa381965b:5' labels=frozenset({'CVE'}) properties={'assigner': 'cna@sap.com', 'id': 'CVE-2023-0017'}> Entities=<Node element_id='4:de342d72-e7ff-4d5b-9a28-99eaa381965b:3' labels=frozenset({'CVE'}) properties={'assigner': 'cna@sap.com', 'id': 'CVE-2023-0015'}>>, <Record cve1=<Node element_id='4:de342d72-e7ff-4d5b-9a28-99eaa381965b:0' labels=frozenset({'CVE'}) properties={'assigner': 'cna@sap.com', 'id': 'CVE-2023-0012'}> cve2=<Node element_id='4:de342d72-e7ff-4d5b-9a28-99eaa381965b:5' labels=frozenset({'CVE'}) properties={'assigner': 'cna@sap.com', 'id': 'CVE-2023-0017'}> Entities=<Node element_id='4:de342d72-e7ff-4d5b-9a28-99eaa381965b:3' labels=frozenset({'CVE'}) properties={'assigner': 'cna@sap.com', 'id': 'CVE-2023-0015'}>>, <Record cve1=<Node element_id='4:de342d72-e7ff-4d5b-9a28-99eaa381965b:0' labels=frozenset({'CVE'}) properties={'assigner': 'cna@sap.com', 'id': 'CVE-2023-0012'}> cve2=<Node element_id='4:de342d72-e7ff-4d5b-9a28-99eaa381965b:5' labels=frozenset({'CVE'}) properties={'assigner': 'cna@sap.com', 'id': 'CVE-2023-0017'}> Entities=<Node element_id='4:de342d72-e7ff-4d5b-9a28-99eaa381965b:3' labels=frozenset({'CVE'}) properties={'assigner': 'cna@sap.com', 'id': 'CVE-2023-0015'}>>, <Record cve1=<Node element_id='4:de342d72-e7ff-4d5b-9a28-99eaa381965b:0' labels=frozenset({'CVE'}) properties={'assigner': 'cna@sap.com', 'id': 'CVE-2023-0012'}> cve2=<Node element_id='4:de342d72-e7ff-4d5b-9a28-99eaa381965b:5' labels=frozenset({'CVE'}) properties={'assigner': 'cna@sap.com', 'id': 'CVE-2023-0017'}> Entities=<Node element_id='4:de342d72-e7ff-4d5b-9a28-99eaa381965b:1' labels=frozenset({'CVE'}) properties={'assigner': 'cna@sap.com', 'id': 'CVE-2023-0013'}>>, <Record cve1=<Node element_id='4:de342d72-e7ff-4d5b-9a28-99eaa381965b:0' labels=frozenset({'CVE'}) properties={'assigner': 'cna@sap.com', 'id': 'CVE-2023-0012'}> cve2=<Node element_id='4:de342d72-e7ff-4d5b-9a28-99eaa381965b:5' labels=frozenset({'CVE'}) properties={'assigner': 'cna@sap.com', 'id': 'CVE-2023-0017'}> Entities=<Node element_id='4:de342d72-e7ff-4d5b-9a28-99eaa381965b:1' labels=frozenset({'CVE'}) properties={'assigner': 'cna@sap.com', 'id': 'CVE-2023-0013'}>>, <Record cve1=<Node element_id='4:de342d72-e7ff-4d5b-9a28-99eaa381965b:0' labels=frozenset({'CVE'}) properties={'assigner': 'cna@sap.com', 'id': 'CVE-2023-0012'}> cve2=<Node element_id='4:de342d72-e7ff-4d5b-9a28-99eaa381965b:5' labels=frozenset({'CVE'}) properties={'assigner': 'cna@sap.com', 'id': 'CVE-2023-0017'}> Entities=<Node element_id='4:de342d72-e7ff-4d5b-9a28-99eaa381965b:1' labels=frozenset({'CVE'}) properties={'assigner': 'cna@sap.com', 'id': 'CVE-2023-0013'}>>, <Record cve1=<Node element_id='4:de342d72-e7ff-4d5b-9a28-99eaa381965b:0' labels=frozenset({'CVE'}) properties={'assigner': 'cna@sap.com', 'id': 'CVE-2023-0012'}> cve2=<Node element_id='4:de342d72-e7ff-4d5b-9a28-99eaa381965b:5' labels=frozenset({'CVE'}) properties={'assigner': 'cna@sap.com', 'id': 'CVE-2023-0017'}> Entities=<Node element_id='4:de342d72-e7ff-4d5b-9a28-99eaa381965b:1' labels=frozenset({'CVE'}) properties={'assigner': 'cna@sap.com', 'id': 'CVE-2023-0013'}>>, <Record cve1=<Node element_id='4:de342d72-e7ff-4d5b-9a28-99eaa381965b:0' labels=frozenset({'CVE'}) properties={'assigner': 'cna@sap.com', 'id': 'CVE-2023-0012'}> cve2=<Node element_id='4:de342d72-e7ff-4d5b-9a28-99eaa381965b:5' labels=frozenset({'CVE'}) properties={'assigner': 'cna@sap.com', 'id': 'CVE-2023-0017'}> Entities=<Node element_id='4:de342d72-e7ff-4d5b-9a28-99eaa381965b:6' labels=frozenset({'CVE'}) properties={'assigner': 'cna@sap.com', 'id': 'CVE-2023-0018'}>>, <Record cve1=<Node element_id='4:de342d72-e7ff-4d5b-9a28-99eaa381965b:0' labels=frozenset({'CVE'}) properties={'assigner': 'cna@sap.com', 'id': 'CVE-2023-0012'}> cve2=<Node element_id='4:de342d72-e7ff-4d5b-9a28-99eaa381965b:5' labels=frozenset({'CVE'}) properties={'assigner': 'cna@sap.com', 'id': 'CVE-2023-0017'}> Entities=<Node element_id='4:de342d72-e7ff-4d5b-9a28-99eaa381965b:6' labels=frozenset({'CVE'}) properties={'assigner': 'cna@sap.com', 'id': 'CVE-2023-0018'}>>, <Record cve1=<Node element_id='4:de342d72-e7ff-4d5b-9a28-99eaa381965b:0' labels=frozenset({'CVE'}) properties={'assigner': 'cna@sap.com', 'id': 'CVE-2023-0012'}> cve2=<Node element_id='4:de342d72-e7ff-4d5b-9a28-99eaa381965b:5' labels=frozenset({'CVE'}) properties={'assigner': 'cna@sap.com', 'id': 'CVE-2023-0017'}> Entities=<Node element_id='4:de342d72-e7ff-4d5b-9a28-99eaa381965b:9' labels=frozenset({'CVE'}) properties={'assigner': 'security@huntr.dev', 'id': 'CVE-2023-0028'}>>, <Record cve1=<Node element_id='4:de342d72-e7ff-4d5b-9a28-99eaa381965b:0' labels=frozenset({'CVE'}) properties={'assigner': 'cna@sap.com', 'id': 'CVE-2023-0012'}> cve2=<Node element_id='4:de342d72-e7ff-4d5b-9a28-99eaa381965b:5' labels=frozenset({'CVE'}) properties={'assigner': 'cna@sap.com', 'id': 'CVE-2023-0017'}> Entities=<Node element_id='4:de342d72-e7ff-4d5b-9a28-99eaa381965b:9' labels=frozenset({'CVE'}) properties={'assigner': 'security@huntr.dev', 'id': 'CVE-2023-0028'}>>, <Record cve1=<Node element_id='4:de342d72-e7ff-4d5b-9a28-99eaa381965b:0' labels=frozenset({'CVE'}) properties={'assigner': 'cna@sap.com', 'id': 'CVE-2023-0012'}> cve2=<Node element_id='4:de342d72-e7ff-4d5b-9a28-99eaa381965b:5' labels=frozenset({'CVE'}) properties={'assigner': 'cna@sap.com', 'id': 'CVE-2023-0017'}> Entities=<Node element_id='4:de342d72-e7ff-4d5b-9a28-99eaa381965b:3' labels=frozenset({'CVE'}) properties={'assigner': 'cna@sap.com', 'id': 'CVE-2023-0015'}>>, <Record cve1=<Node element_id='4:de342d72-e7ff-4d5b-9a28-99eaa381965b:0' labels=frozenset({'CVE'}) properties={'assigner': 'cna@sap.com', 'id': 'CVE-2023-0012'}> cve2=<Node element_id='4:de342d72-e7ff-4d5b-9a28-99eaa381965b:5' labels=frozenset({'CVE'}) properties={'assigner': 'cna@sap.com', 'id': 'CVE-2023-0017'}> Entities=<Node element_id='4:de342d72-e7ff-4d5b-9a28-99eaa381965b:3' labels=frozenset({'CVE'}) properties={'assigner': 'cna@sap.com', 'id': 'CVE-2023-0015'}>>, <Record cve1=<Node element_id='4:de342d72-e7ff-4d5b-9a28-99eaa381965b:0' labels=frozenset({'CVE'}) properties={'assigner': 'cna@sap.com', 'id': 'CVE-2023-0012'}> cve2=<Node element_id='4:de342d72-e7ff-4d5b-9a28-99eaa381965b:5' labels=frozenset({'CVE'}) properties={'assigner': 'cna@sap.com', 'id': 'CVE-2023-0017'}> Entities=<Node element_id='4:de342d72-e7ff-4d5b-9a28-99eaa381965b:1' labels=frozenset({'CVE'}) properties={'assigner': 'cna@sap.com', 'id': 'CVE-2023-0013'}>>, <Record cve1=<Node element_id='4:de342d72-e7ff-4d5b-9a28-99eaa381965b:0' labels=frozenset({'CVE'}) properties={'assigner': 'cna@sap.com', 'id': 'CVE-2023-0012'}> cve2=<Node element_id='4:de342d72-e7ff-4d5b-9a28-99eaa381965b:5' labels=frozenset({'CVE'}) properties={'assigner': 'cna@sap.com', 'id': 'CVE-2023-0017'}> Entities=<Node element_id='4:de342d72-e7ff-4d5b-9a28-99eaa381965b:1' labels=frozenset({'CVE'}) properties={'assigner': 'cna@sap.com', 'id': 'CVE-2023-0013'}>>, <Record cve1=<Node element_id='4:de342d72-e7ff-4d5b-9a28-99eaa381965b:0' labels=frozenset({'CVE'}) properties={'assigner': 'cna@sap.com', 'id': 'CVE-2023-0012'}> cve2=<Node element_id='4:de342d72-e7ff-4d5b-9a28-99eaa381965b:5' labels=frozenset({'CVE'}) properties={'assigner': 'cna@sap.com', 'id': 'CVE-2023-0017'}> Entities=<Node element_id='4:de342d72-e7ff-4d5b-9a28-99eaa381965b:6' labels=frozenset({'CVE'}) properties={'assigner': 'cna@sap.com', 'id': 'CVE-2023-0018'}>>, <Record cve1=<Node element_id='4:de342d72-e7ff-4d5b-9a28-99eaa381965b:0' labels=frozenset({'CVE'}) properties={'assigner': 'cna@sap.com', 'id': 'CVE-2023-0012'}> cve2=<Node element_id='4:de342d72-e7ff-4d5b-9a28-99eaa381965b:5' labels=frozenset({'CVE'}) properties={'assigner': 'cna@sap.com', 'id': 'CVE-2023-0017'}> Entities=<Node element_id='4:de342d72-e7ff-4d5b-9a28-99eaa381965b:6' labels=frozenset({'CVE'}) properties={'assigner': 'cna@sap.com', 'id': 'CVE-2023-0018'}>>, <Record cve1=<Node element_id='4:de342d72-e7ff-4d5b-9a28-99eaa381965b:0' labels=frozenset({'CVE'}) properties={'assigner': 'cna@sap.com', 'id': 'CVE-2023-0012'}> cve2=<Node element_id='4:de342d72-e7ff-4d5b-9a28-99eaa381965b:5' labels=frozenset({'CVE'}) properties={'assigner': 'cna@sap.com', 'id': 'CVE-2023-0017'}> Entities=<Node element_id='4:de342d72-e7ff-4d5b-9a28-99eaa381965b:9' labels=frozenset({'CVE'}) properties={'assigner': 'security@huntr.dev', 'id': 'CVE-2023-0028'}>>, <Record cve1=<Node element_id='4:de342d72-e7ff-4d5b-9a28-99eaa381965b:0' labels=frozenset({'CVE'}) properties={'assigner': 'cna@sap.com', 'id': 'CVE-2023-0012'}> cve2=<Node element_id='4:de342d72-e7ff-4d5b-9a28-99eaa381965b:5' labels=frozenset({'CVE'}) properties={'assigner': 'cna@sap.com', 'id': 'CVE-2023-0017'}> Entities=<Node element_id='4:de342d72-e7ff-4d5b-9a28-99eaa381965b:9' labels=frozenset({'CVE'}) properties={'assigner': 'security@huntr.dev', 'id': 'CVE-2023-0028'}>>, <Record cve1=<Node element_id='4:de342d72-e7ff-4d5b-9a28-99eaa381965b:0' labels=frozenset({'CVE'}) properties={'assigner': 'cna@sap.com', 'id': 'CVE-2023-0012'}> cve2=<Node element_id='4:de342d72-e7ff-4d5b-9a28-99eaa381965b:5' labels=frozenset({'CVE'}) properties={'assigner': 'cna@sap.com', 'id': 'CVE-2023-0017'}> Entities=<Node element_id='4:de342d72-e7ff-4d5b-9a28-99eaa381965b:3' labels=frozenset({'CVE'}) properties={'assigner': 'cna@sap.com', 'id': 'CVE-2023-0015'}>>, <Record cve1=<Node element_id='4:de342d72-e7ff-4d5b-9a28-99eaa381965b:0' labels=frozenset({'CVE'}) properties={'assigner': 'cna@sap.com', 'id': 'CVE-2023-0012'}> cve2=<Node element_id='4:de342d72-e7ff-4d5b-9a28-99eaa381965b:5' labels=frozenset({'CVE'}) properties={'assigner': 'cna@sap.com', 'id': 'CVE-2023-0017'}> Entities=<Node element_id='4:de342d72-e7ff-4d5b-9a28-99eaa381965b:3' labels=frozenset({'CVE'}) properties={'assigner': 'cna@sap.com', 'id': 'CVE-2023-0015'}>>, <Record cve1=<Node element_id='4:de342d72-e7ff-4d5b-9a28-99eaa381965b:0' labels=frozenset({'CVE'}) properties={'assigner': 'cna@sap.com', 'id': 'CVE-2023-0012'}> cve2=<Node element_id='4:de342d72-e7ff-4d5b-9a28-99eaa381965b:5' labels=frozenset({'CVE'}) properties={'assigner': 'cna@sap.com', 'id': 'CVE-2023-0017'}> Entities=<Node element_id='4:de342d72-e7ff-4d5b-9a28-99eaa381965b:1' labels=frozenset({'CVE'}) properties={'assigner': 'cna@sap.com', 'id': 'CVE-2023-0013'}>>, <Record cve1=<Node element_id='4:de342d72-e7ff-4d5b-9a28-99eaa381965b:0' labels=frozenset({'CVE'}) properties={'assigner': 'cna@sap.com', 'id': 'CVE-2023-0012'}> cve2=<Node element_id='4:de342d72-e7ff-4d5b-9a28-99eaa381965b:5' labels=frozenset({'CVE'}) properties={'assigner': 'cna@sap.com', 'id': 'CVE-2023-0017'}> Entities=<Node element_id='4:de342d72-e7ff-4d5b-9a28-99eaa381965b:1' labels=frozenset({'CVE'}) properties={'assigner': 'cna@sap.com', 'id': 'CVE-2023-0013'}>>, <Record cve1=<Node element_id='4:de342d72-e7ff-4d5b-9a28-99eaa381965b:0' labels=frozenset({'CVE'}) properties={'assigner': 'cna@sap.com', 'id': 'CVE-2023-0012'}> cve2=<Node element_id='4:de342d72-e7ff-4d5b-9a28-99eaa381965b:5' labels=frozenset({'CVE'}) properties={'assigner': 'cna@sap.com', 'id': 'CVE-2023-0017'}> Entities=<Node element_id='4:de342d72-e7ff-4d5b-9a28-99eaa381965b:6' labels=frozenset({'CVE'}) properties={'assigner': 'cna@sap.com', 'id': 'CVE-2023-0018'}>>, <Record cve1=<Node element_id='4:de342d72-e7ff-4d5b-9a28-99eaa381965b:0' labels=frozenset({'CVE'}) properties={'assigner': 'cna@sap.com', 'id': 'CVE-2023-0012'}> cve2=<Node element_id='4:de342d72-e7ff-4d5b-9a28-99eaa381965b:5' labels=frozenset({'CVE'}) properties={'assigner': 'cna@sap.com', 'id': 'CVE-2023-0017'}> Entities=<Node element_id='4:de342d72-e7ff-4d5b-9a28-99eaa381965b:6' labels=frozenset({'CVE'}) properties={'assigner': 'cna@sap.com', 'id': 'CVE-2023-0018'}>>, <Record cve1=<Node element_id='4:de342d72-e7ff-4d5b-9a28-99eaa381965b:0' labels=frozenset({'CVE'}) properties={'assigner': 'cna@sap.com', 'id': 'CVE-2023-0012'}> cve2=<Node element_id='4:de342d72-e7ff-4d5b-9a28-99eaa381965b:5' labels=frozenset({'CVE'}) properties={'assigner': 'cna@sap.com', 'id': 'CVE-2023-0017'}> Entities=<Node element_id='4:de342d72-e7ff-4d5b-9a28-99eaa381965b:6' labels=frozenset({'CVE'}) properties={'assigner': 'cna@sap.com', 'id': 'CVE-2023-0018'}>>, <Record cve1=<Node element_id='4:de342d72-e7ff-4d5b-9a28-99eaa381965b:0' labels=frozenset({'CVE'}) properties={'assigner': 'cna@sap.com', 'id': 'CVE-2023-0012'}> cve2=<Node element_id='4:de342d72-e7ff-4d5b-9a28-99eaa381965b:5' labels=frozenset({'CVE'}) properties={'assigner': 'cna@sap.com', 'id': 'CVE-2023-0017'}> Entities=<Node element_id='4:de342d72-e7ff-4d5b-9a28-99eaa381965b:9' labels=frozenset({'CVE'}) properties={'assigner': 'security@huntr.dev', 'id': 'CVE-2023-0028'}>>, <Record cve1=<Node element_id='4:de342d72-e7ff-4d5b-9a28-99eaa381965b:0' labels=frozenset({'CVE'}) properties={'assigner': 'cna@sap.com', 'id': 'CVE-2023-0012'}> cve2=<Node element_id='4:de342d72-e7ff-4d5b-9a28-99eaa381965b:5' labels=frozenset({'CVE'}) properties={'assigner': 'cna@sap.com', 'id': 'CVE-2023-0017'}> Entities=<Node element_id='4:de342d72-e7ff-4d5b-9a28-99eaa381965b:9' labels=frozenset({'CVE'}) properties={'assigner': 'security@huntr.dev', 'id': 'CVE-2023-0028'}>>, <Record cve1=<Node element_id='4:de342d72-e7ff-4d5b-9a28-99eaa381965b:0' labels=frozenset({'CVE'}) properties={'assigner': 'cna@sap.com', 'id': 'CVE-2023-0012'}> cve2=<Node element_id='4:de342d72-e7ff-4d5b-9a28-99eaa381965b:5' labels=frozenset({'CVE'}) properties={'assigner': 'cna@sap.com', 'id': 'CVE-2023-0017'}> Entities=<Node element_id='4:de342d72-e7ff-4d5b-9a28-99eaa381965b:9' labels=frozenset({'CVE'}) properties={'assigner': 'security@huntr.dev', 'id': 'CVE-2023-0028'}>>, <Record cve1=<Node element_id='4:de342d72-e7ff-4d5b-9a28-99eaa381965b:0' labels=frozenset({'CVE'}) properties={'assigner': 'cna@sap.com', 'id': 'CVE-2023-0012'}> cve2=<Node element_id='4:de342d72-e7ff-4d5b-9a28-99eaa381965b:5' labels=frozenset({'CVE'}) properties={'assigner': 'cna@sap.com', 'id': 'CVE-2023-0017'}> Entities=<Node element_id='4:de342d72-e7ff-4d5b-9a28-99eaa381965b:3' labels=frozenset({'CVE'}) properties={'assigner': 'cna@sap.com', 'id': 'CVE-2023-0015'}>>, <Record cve1=<Node element_id='4:de342d72-e7ff-4d5b-9a28-99eaa381965b:0' labels=frozenset({'CVE'}) properties={'assigner': 'cna@sap.com', 'id': 'CVE-2023-0012'}> cve2=<Node element_id='4:de342d72-e7ff-4d5b-9a28-99eaa381965b:5' labels=frozenset({'CVE'}) properties={'assigner': 'cna@sap.com', 'id': 'CVE-2023-0017'}> Entities=<Node element_id='4:de342d72-e7ff-4d5b-9a28-99eaa381965b:3' labels=frozenset({'CVE'}) properties={'assigner': 'cna@sap.com', 'id': 'CVE-2023-0015'}>>, <Record cve1=<Node element_id='4:de342d72-e7ff-4d5b-9a28-99eaa381965b:0' labels=frozenset({'CVE'}) properties={'assigner': 'cna@sap.com', 'id': 'CVE-2023-0012'}> cve2=<Node element_id='4:de342d72-e7ff-4d5b-9a28-99eaa381965b:5' labels=frozenset({'CVE'}) properties={'assigner': 'cna@sap.com', 'id': 'CVE-2023-0017'}> Entities=<Node element_id='4:de342d72-e7ff-4d5b-9a28-99eaa381965b:3' labels=frozenset({'CVE'}) properties={'assigner': 'cna@sap.com', 'id': 'CVE-2023-0015'}>>, <Record cve1=<Node element_id='4:de342d72-e7ff-4d5b-9a28-99eaa381965b:0' labels=frozenset({'CVE'}) properties={'assigner': 'cna@sap.com', 'id': 'CVE-2023-0012'}> cve2=<Node element_id='4:de342d72-e7ff-4d5b-9a28-99eaa381965b:5' labels=frozenset({'CVE'}) properties={'assigner': 'cna@sap.com', 'id': 'CVE-2023-0017'}> Entities=<Node element_id='4:de342d72-e7ff-4d5b-9a28-99eaa381965b:1' labels=frozenset({'CVE'}) properties={'assigner': 'cna@sap.com', 'id': 'CVE-2023-0013'}>>, <Record cve1=<Node element_id='4:de342d72-e7ff-4d5b-9a28-99eaa381965b:0' labels=frozenset({'CVE'}) properties={'assigner': 'cna@sap.com', 'id': 'CVE-2023-0012'}> cve2=<Node element_id='4:de342d72-e7ff-4d5b-9a28-99eaa381965b:5' labels=frozenset({'CVE'}) properties={'assigner': 'cna@sap.com', 'id': 'CVE-2023-0017'}> Entities=<Node element_id='4:de342d72-e7ff-4d5b-9a28-99eaa381965b:1' labels=frozenset({'CVE'}) properties={'assigner': 'cna@sap.com', 'id': 'CVE-2023-0013'}>>, <Record cve1=<Node element_id='4:de342d72-e7ff-4d5b-9a28-99eaa381965b:0' labels=frozenset({'CVE'}) properties={'assigner': 'cna@sap.com', 'id': 'CVE-2023-0012'}> cve2=<Node element_id='4:de342d72-e7ff-4d5b-9a28-99eaa381965b:5' labels=frozenset({'CVE'}) properties={'assigner': 'cna@sap.com', 'id': 'CVE-2023-0017'}> Entities=<Node element_id='4:de342d72-e7ff-4d5b-9a28-99eaa381965b:1' labels=frozenset({'CVE'}) properties={'assigner': 'cna@sap.com', 'id': 'CVE-2023-0013'}>>, <Record cve1=<Node element_id='4:de342d72-e7ff-4d5b-9a28-99eaa381965b:0' labels=frozenset({'CVE'}) properties={'assigner': 'cna@sap.com', 'id': 'CVE-2023-0012'}> cve2=<Node element_id='4:de342d72-e7ff-4d5b-9a28-99eaa381965b:5' labels=frozenset({'CVE'}) properties={'assigner': 'cna@sap.com', 'id': 'CVE-2023-0017'}> Entities=<Node element_id='4:de342d72-e7ff-4d5b-9a28-99eaa381965b:6' labels=frozenset({'CVE'}) properties={'assigner': 'cna@sap.com', 'id': 'CVE-2023-0018'}>>, <Record cve1=<Node element_id='4:de342d72-e7ff-4d5b-9a28-99eaa381965b:0' labels=frozenset({'CVE'}) properties={'assigner': 'cna@sap.com', 'id': 'CVE-2023-0012'}> cve2=<Node element_id='4:de342d72-e7ff-4d5b-9a28-99eaa381965b:5' labels=frozenset({'CVE'}) properties={'assigner': 'cna@sap.com', 'id': 'CVE-2023-0017'}> Entities=<Node element_id='4:de342d72-e7ff-4d5b-9a28-99eaa381965b:6' labels=frozenset({'CVE'}) properties={'assigner': 'cna@sap.com', 'id': 'CVE-2023-0018'}>>, <Record cve1=<Node element_id='4:de342d72-e7ff-4d5b-9a28-99eaa381965b:0' labels=frozenset({'CVE'}) properties={'assigner': 'cna@sap.com', 'id': 'CVE-2023-0012'}> cve2=<Node element_id='4:de342d72-e7ff-4d5b-9a28-99eaa381965b:5' labels=frozenset({'CVE'}) properties={'assigner': 'cna@sap.com', 'id': 'CVE-2023-0017'}> Entities=<Node element_id='4:de342d72-e7ff-4d5b-9a28-99eaa381965b:6' labels=frozenset({'CVE'}) properties={'assigner': 'cna@sap.com', 'id': 'CVE-2023-0018'}>>, <Record cve1=<Node element_id='4:de342d72-e7ff-4d5b-9a28-99eaa381965b:0' labels=frozenset({'CVE'}) properties={'assigner': 'cna@sap.com', 'id': 'CVE-2023-0012'}> cve2=<Node element_id='4:de342d72-e7ff-4d5b-9a28-99eaa381965b:5' labels=frozenset({'CVE'}) properties={'assigner': 'cna@sap.com', 'id': 'CVE-2023-0017'}> Entities=<Node element_id='4:de342d72-e7ff-4d5b-9a28-99eaa381965b:9' labels=frozenset({'CVE'}) properties={'assigner': 'security@huntr.dev', 'id': 'CVE-2023-0028'}>>, <Record cve1=<Node element_id='4:de342d72-e7ff-4d5b-9a28-99eaa381965b:0' labels=frozenset({'CVE'}) properties={'assigner': 'cna@sap.com', 'id': 'CVE-2023-0012'}> cve2=<Node element_id='4:de342d72-e7ff-4d5b-9a28-99eaa381965b:5' labels=frozenset({'CVE'}) properties={'assigner': 'cna@sap.com', 'id': 'CVE-2023-0017'}> Entities=<Node element_id='4:de342d72-e7ff-4d5b-9a28-99eaa381965b:9' labels=frozenset({'CVE'}) properties={'assigner': 'security@huntr.dev', 'id': 'CVE-2023-0028'}>>, <Record cve1=<Node element_id='4:de342d72-e7ff-4d5b-9a28-99eaa381965b:0' labels=frozenset({'CVE'}) properties={'assigner': 'cna@sap.com', 'id': 'CVE-2023-0012'}> cve2=<Node element_id='4:de342d72-e7ff-4d5b-9a28-99eaa381965b:5' labels=frozenset({'CVE'}) properties={'assigner': 'cna@sap.com', 'id': 'CVE-2023-0017'}> Entities=<Node element_id='4:de342d72-e7ff-4d5b-9a28-99eaa381965b:9' labels=frozenset({'CVE'}) properties={'assigner': 'security@huntr.dev', 'id': 'CVE-2023-0028'}>>, <Record cve1=<Node element_id='4:de342d72-e7ff-4d5b-9a28-99eaa381965b:0' labels=frozenset({'CVE'}) properties={'assigner': 'cna@sap.com', 'id': 'CVE-2023-0012'}> cve2=<Node element_id='4:de342d72-e7ff-4d5b-9a28-99eaa381965b:5' labels=frozenset({'CVE'}) properties={'assigner': 'cna@sap.com', 'id': 'CVE-2023-0017'}> Entities=<Node element_id='4:de342d72-e7ff-4d5b-9a28-99eaa381965b:3' labels=frozenset({'CVE'}) properties={'assigner': 'cna@sap.com', 'id': 'CVE-2023-0015'}>>, <Record cve1=<Node element_id='4:de342d72-e7ff-4d5b-9a28-99eaa381965b:0' labels=frozenset({'CVE'}) properties={'assigner': 'cna@sap.com', 'id': 'CVE-2023-0012'}> cve2=<Node element_id='4:de342d72-e7ff-4d5b-9a28-99eaa381965b:5' labels=frozenset({'CVE'}) properties={'assigner': 'cna@sap.com', 'id': 'CVE-2023-0017'}> Entities=<Node element_id='4:de342d72-e7ff-4d5b-9a28-99eaa381965b:3' labels=frozenset({'CVE'}) properties={'assigner': 'cna@sap.com', 'id': 'CVE-2023-0015'}>>, <Record cve1=<Node element_id='4:de342d72-e7ff-4d5b-9a28-99eaa381965b:0' labels=frozenset({'CVE'}) properties={'assigner': 'cna@sap.com', 'id': 'CVE-2023-0012'}> cve2=<Node element_id='4:de342d72-e7ff-4d5b-9a28-99eaa381965b:5' labels=frozenset({'CVE'}) properties={'assigner': 'cna@sap.com', 'id': 'CVE-2023-0017'}> Entities=<Node element_id='4:de342d72-e7ff-4d5b-9a28-99eaa381965b:3' labels=frozenset({'CVE'}) properties={'assigner': 'cna@sap.com', 'id': 'CVE-2023-0015'}>>, <Record cve1=<Node element_id='4:de342d72-e7ff-4d5b-9a28-99eaa381965b:0' labels=frozenset({'CVE'}) properties={'assigner': 'cna@sap.com', 'id': 'CVE-2023-0012'}> cve2=<Node element_id='4:de342d72-e7ff-4d5b-9a28-99eaa381965b:5' labels=frozenset({'CVE'}) properties={'assigner': 'cna@sap.com', 'id': 'CVE-2023-0017'}> Entities=<Node element_id='4:de342d72-e7ff-4d5b-9a28-99eaa381965b:1' labels=frozenset({'CVE'}) properties={'assigner': 'cna@sap.com', 'id': 'CVE-2023-0013'}>>, <Record cve1=<Node element_id='4:de342d72-e7ff-4d5b-9a28-99eaa381965b:0' labels=frozenset({'CVE'}) properties={'assigner': 'cna@sap.com', 'id': 'CVE-2023-0012'}> cve2=<Node element_id='4:de342d72-e7ff-4d5b-9a28-99eaa381965b:5' labels=frozenset({'CVE'}) properties={'assigner': 'cna@sap.com', 'id': 'CVE-2023-0017'}> Entities=<Node element_id='4:de342d72-e7ff-4d5b-9a28-99eaa381965b:1' labels=frozenset({'CVE'}) properties={'assigner': 'cna@sap.com', 'id': 'CVE-2023-0013'}>>, <Record cve1=<Node element_id='4:de342d72-e7ff-4d5b-9a28-99eaa381965b:0' labels=frozenset({'CVE'}) properties={'assigner': 'cna@sap.com', 'id': 'CVE-2023-0012'}> cve2=<Node element_id='4:de342d72-e7ff-4d5b-9a28-99eaa381965b:5' labels=frozenset({'CVE'}) properties={'assigner': 'cna@sap.com', 'id': 'CVE-2023-0017'}> Entities=<Node element_id='4:de342d72-e7ff-4d5b-9a28-99eaa381965b:1' labels=frozenset({'CVE'}) properties={'assigner': 'cna@sap.com', 'id': 'CVE-2023-0013'}>>, <Record cve1=<Node element_id='4:de342d72-e7ff-4d5b-9a28-99eaa381965b:0' labels=frozenset({'CVE'}) properties={'assigner': 'cna@sap.com', 'id': 'CVE-2023-0012'}> cve2=<Node element_id='4:de342d72-e7ff-4d5b-9a28-99eaa381965b:5' labels=frozenset({'CVE'}) properties={'assigner': 'cna@sap.com', 'id': 'CVE-2023-0017'}> Entities=<Node element_id='4:de342d72-e7ff-4d5b-9a28-99eaa381965b:6' labels=frozenset({'CVE'}) properties={'assigner': 'cna@sap.com', 'id': 'CVE-2023-0018'}>>, <Record cve1=<Node element_id='4:de342d72-e7ff-4d5b-9a28-99eaa381965b:0' labels=frozenset({'CVE'}) properties={'assigner': 'cna@sap.com', 'id': 'CVE-2023-0012'}> cve2=<Node element_id='4:de342d72-e7ff-4d5b-9a28-99eaa381965b:5' labels=frozenset({'CVE'}) properties={'assigner': 'cna@sap.com', 'id': 'CVE-2023-0017'}> Entities=<Node element_id='4:de342d72-e7ff-4d5b-9a28-99eaa381965b:6' labels=frozenset({'CVE'}) properties={'assigner': 'cna@sap.com', 'id': 'CVE-2023-0018'}>>, <Record cve1=<Node element_id='4:de342d72-e7ff-4d5b-9a28-99eaa381965b:0' labels=frozenset({'CVE'}) properties={'assigner': 'cna@sap.com', 'id': 'CVE-2023-0012'}> cve2=<Node element_id='4:de342d72-e7ff-4d5b-9a28-99eaa381965b:5' labels=frozenset({'CVE'}) properties={'assigner': 'cna@sap.com', 'id': 'CVE-2023-0017'}> Entities=<Node element_id='4:de342d72-e7ff-4d5b-9a28-99eaa381965b:9' labels=frozenset({'CVE'}) properties={'assigner': 'security@huntr.dev', 'id': 'CVE-2023-0028'}>>, <Record cve1=<Node element_id='4:de342d72-e7ff-4d5b-9a28-99eaa381965b:0' labels=frozenset({'CVE'}) properties={'assigner': 'cna@sap.com', 'id': 'CVE-2023-0012'}> cve2=<Node element_id='4:de342d72-e7ff-4d5b-9a28-99eaa381965b:5' labels=frozenset({'CVE'}) properties={'assigner': 'cna@sap.com', 'id': 'CVE-2023-0017'}> Entities=<Node element_id='4:de342d72-e7ff-4d5b-9a28-99eaa381965b:9' labels=frozenset({'CVE'}) properties={'assigner': 'security@huntr.dev', 'id': 'CVE-2023-0028'}>>, <Record cve1=<Node element_id='4:de342d72-e7ff-4d5b-9a28-99eaa381965b:0' labels=frozenset({'CVE'}) properties={'assigner': 'cna@sap.com', 'id': 'CVE-2023-0012'}> cve2=<Node element_id='4:de342d72-e7ff-4d5b-9a28-99eaa381965b:5' labels=frozenset({'CVE'}) properties={'assigner': 'cna@sap.com', 'id': 'CVE-2023-0017'}> Entities=<Node element_id='4:de342d72-e7ff-4d5b-9a28-99eaa381965b:3' labels=frozenset({'CVE'}) properties={'assigner': 'cna@sap.com', 'id': 'CVE-2023-0015'}>>, <Record cve1=<Node element_id='4:de342d72-e7ff-4d5b-9a28-99eaa381965b:0' labels=frozenset({'CVE'}) properties={'assigner': 'cna@sap.com', 'id': 'CVE-2023-0012'}> cve2=<Node element_id='4:de342d72-e7ff-4d5b-9a28-99eaa381965b:5' labels=frozenset({'CVE'}) properties={'assigner': 'cna@sap.com', 'id': 'CVE-2023-0017'}> Entities=<Node element_id='4:de342d72-e7ff-4d5b-9a28-99eaa381965b:3' labels=frozenset({'CVE'}) properties={'assigner': 'cna@sap.com', 'id': 'CVE-2023-0015'}>>, <Record cve1=<Node element_id='4:de342d72-e7ff-4d5b-9a28-99eaa381965b:0' labels=frozenset({'CVE'}) properties={'assigner': 'cna@sap.com', 'id': 'CVE-2023-0012'}> cve2=<Node element_id='4:de342d72-e7ff-4d5b-9a28-99eaa381965b:5' labels=frozenset({'CVE'}) properties={'assigner': 'cna@sap.com', 'id': 'CVE-2023-0017'}> Entities=<Node element_id='4:de342d72-e7ff-4d5b-9a28-99eaa381965b:1' labels=frozenset({'CVE'}) properties={'assigner': 'cna@sap.com', 'id': 'CVE-2023-0013'}>>, <Record cve1=<Node element_id='4:de342d72-e7ff-4d5b-9a28-99eaa381965b:0' labels=frozenset({'CVE'}) properties={'assigner': 'cna@sap.com', 'id': 'CVE-2023-0012'}> cve2=<Node element_id='4:de342d72-e7ff-4d5b-9a28-99eaa381965b:5' labels=frozenset({'CVE'}) properties={'assigner': 'cna@sap.com', 'id': 'CVE-2023-0017'}> Entities=<Node element_id='4:de342d72-e7ff-4d5b-9a28-99eaa381965b:1' labels=frozenset({'CVE'}) properties={'assigner': 'cna@sap.com', 'id': 'CVE-2023-0013'}>>, <Record cve1=<Node element_id='4:de342d72-e7ff-4d5b-9a28-99eaa381965b:0' labels=frozenset({'CVE'}) properties={'assigner': 'cna@sap.com', 'id': 'CVE-2023-0012'}> cve2=<Node element_id='4:de342d72-e7ff-4d5b-9a28-99eaa381965b:5' labels=frozenset({'CVE'}) properties={'assigner': 'cna@sap.com', 'id': 'CVE-2023-0017'}> Entities=<Node element_id='4:de342d72-e7ff-4d5b-9a28-99eaa381965b:6' labels=frozenset({'CVE'}) properties={'assigner': 'cna@sap.com', 'id': 'CVE-2023-0018'}>>, <Record cve1=<Node element_id='4:de342d72-e7ff-4d5b-9a28-99eaa381965b:0' labels=frozenset({'CVE'}) properties={'assigner': 'cna@sap.com', 'id': 'CVE-2023-0012'}> cve2=<Node element_id='4:de342d72-e7ff-4d5b-9a28-99eaa381965b:5' labels=frozenset({'CVE'}) properties={'assigner': 'cna@sap.com', 'id': 'CVE-2023-0017'}> Entities=<Node element_id='4:de342d72-e7ff-4d5b-9a28-99eaa381965b:6' labels=frozenset({'CVE'}) properties={'assigner': 'cna@sap.com', 'id': 'CVE-2023-0018'}>>, <Record cve1=<Node element_id='4:de342d72-e7ff-4d5b-9a28-99eaa381965b:0' labels=frozenset({'CVE'}) properties={'assigner': 'cna@sap.com', 'id': 'CVE-2023-0012'}> cve2=<Node element_id='4:de342d72-e7ff-4d5b-9a28-99eaa381965b:5' labels=frozenset({'CVE'}) properties={'assigner': 'cna@sap.com', 'id': 'CVE-2023-0017'}> Entities=<Node element_id='4:de342d72-e7ff-4d5b-9a28-99eaa381965b:9' labels=frozenset({'CVE'}) properties={'assigner': 'security@huntr.dev', 'id': 'CVE-2023-0028'}>>, <Record cve1=<Node element_id='4:de342d72-e7ff-4d5b-9a28-99eaa381965b:0' labels=frozenset({'CVE'}) properties={'assigner': 'cna@sap.com', 'id': 'CVE-2023-0012'}> cve2=<Node element_id='4:de342d72-e7ff-4d5b-9a28-99eaa381965b:5' labels=frozenset({'CVE'}) properties={'assigner': 'cna@sap.com', 'id': 'CVE-2023-0017'}> Entities=<Node element_id='4:de342d72-e7ff-4d5b-9a28-99eaa381965b:9' labels=frozenset({'CVE'}) properties={'assigner': 'security@huntr.dev', 'id': 'CVE-2023-0028'}>>, <Record cve1=<Node element_id='4:de342d72-e7ff-4d5b-9a28-99eaa381965b:0' labels=frozenset({'CVE'}) properties={'assigner': 'cna@sap.com', 'id': 'CVE-2023-0012'}> cve2=<Node element_id='4:de342d72-e7ff-4d5b-9a28-99eaa381965b:5' labels=frozenset({'CVE'}) properties={'assigner': 'cna@sap.com', 'id': 'CVE-2023-0017'}> Entities=<Node element_id='4:de342d72-e7ff-4d5b-9a28-99eaa381965b:3' labels=frozenset({'CVE'}) properties={'assigner': 'cna@sap.com', 'id': 'CVE-2023-0015'}>>, <Record cve1=<Node element_id='4:de342d72-e7ff-4d5b-9a28-99eaa381965b:0' labels=frozenset({'CVE'}) properties={'assigner': 'cna@sap.com', 'id': 'CVE-2023-0012'}> cve2=<Node element_id='4:de342d72-e7ff-4d5b-9a28-99eaa381965b:5' labels=frozenset({'CVE'}) properties={'assigner': 'cna@sap.com', 'id': 'CVE-2023-0017'}> Entities=<Node element_id='4:de342d72-e7ff-4d5b-9a28-99eaa381965b:3' labels=frozenset({'CVE'}) properties={'assigner': 'cna@sap.com', 'id': 'CVE-2023-0015'}>>, <Record cve1=<Node element_id='4:de342d72-e7ff-4d5b-9a28-99eaa381965b:0' labels=frozenset({'CVE'}) properties={'assigner': 'cna@sap.com', 'id': 'CVE-2023-0012'}> cve2=<Node element_id='4:de342d72-e7ff-4d5b-9a28-99eaa381965b:5' labels=frozenset({'CVE'}) properties={'assigner': 'cna@sap.com', 'id': 'CVE-2023-0017'}> Entities=<Node element_id='4:de342d72-e7ff-4d5b-9a28-99eaa381965b:1' labels=frozenset({'CVE'}) properties={'assigner': 'cna@sap.com', 'id': 'CVE-2023-0013'}>>, <Record cve1=<Node element_id='4:de342d72-e7ff-4d5b-9a28-99eaa381965b:0' labels=frozenset({'CVE'}) properties={'assigner': 'cna@sap.com', 'id': 'CVE-2023-0012'}> cve2=<Node element_id='4:de342d72-e7ff-4d5b-9a28-99eaa381965b:5' labels=frozenset({'CVE'}) properties={'assigner': 'cna@sap.com', 'id': 'CVE-2023-0017'}> Entities=<Node element_id='4:de342d72-e7ff-4d5b-9a28-99eaa381965b:1' labels=frozenset({'CVE'}) properties={'assigner': 'cna@sap.com', 'id': 'CVE-2023-0013'}>>, <Record cve1=<Node element_id='4:de342d72-e7ff-4d5b-9a28-99eaa381965b:0' labels=frozenset({'CVE'}) properties={'assigner': 'cna@sap.com', 'id': 'CVE-2023-0012'}> cve2=<Node element_id='4:de342d72-e7ff-4d5b-9a28-99eaa381965b:5' labels=frozenset({'CVE'}) properties={'assigner': 'cna@sap.com', 'id': 'CVE-2023-0017'}> Entities=<Node element_id='4:de342d72-e7ff-4d5b-9a28-99eaa381965b:6' labels=frozenset({'CVE'}) properties={'assigner': 'cna@sap.com', 'id': 'CVE-2023-0018'}>>, <Record cve1=<Node element_id='4:de342d72-e7ff-4d5b-9a28-99eaa381965b:0' labels=frozenset({'CVE'}) properties={'assigner': 'cna@sap.com', 'id': 'CVE-2023-0012'}> cve2=<Node element_id='4:de342d72-e7ff-4d5b-9a28-99eaa381965b:5' labels=frozenset({'CVE'}) properties={'assigner': 'cna@sap.com', 'id': 'CVE-2023-0017'}> Entities=<Node element_id='4:de342d72-e7ff-4d5b-9a28-99eaa381965b:6' labels=frozenset({'CVE'}) properties={'assigner': 'cna@sap.com', 'id': 'CVE-2023-0018'}>>, <Record cve1=<Node element_id='4:de342d72-e7ff-4d5b-9a28-99eaa381965b:0' labels=frozenset({'CVE'}) properties={'assigner': 'cna@sap.com', 'id': 'CVE-2023-0012'}> cve2=<Node element_id='4:de342d72-e7ff-4d5b-9a28-99eaa381965b:5' labels=frozenset({'CVE'}) properties={'assigner': 'cna@sap.com', 'id': 'CVE-2023-0017'}> Entities=<Node element_id='4:de342d72-e7ff-4d5b-9a28-99eaa381965b:9' labels=frozenset({'CVE'}) properties={'assigner': 'security@huntr.dev', 'id': 'CVE-2023-0028'}>>, <Record cve1=<Node element_id='4:de342d72-e7ff-4d5b-9a28-99eaa381965b:0' labels=frozenset({'CVE'}) properties={'assigner': 'cna@sap.com', 'id': 'CVE-2023-0012'}> cve2=<Node element_id='4:de342d72-e7ff-4d5b-9a28-99eaa381965b:5' labels=frozenset({'CVE'}) properties={'assigner': 'cna@sap.com', 'id': 'CVE-2023-0017'}> Entities=<Node element_id='4:de342d72-e7ff-4d5b-9a28-99eaa381965b:9' labels=frozenset({'CVE'}) properties={'assigner': 'security@huntr.dev', 'id': 'CVE-2023-0028'}>>, <Record cve1=<Node element_id='4:de342d72-e7ff-4d5b-9a28-99eaa381965b:0' labels=frozenset({'CVE'}) properties={'assigner': 'cna@sap.com', 'id': 'CVE-2023-0012'}> cve2=<Node element_id='4:de342d72-e7ff-4d5b-9a28-99eaa381965b:5' labels=frozenset({'CVE'}) properties={'assigner': 'cna@sap.com', 'id': 'CVE-2023-0017'}> Entities=<Node element_id='4:de342d72-e7ff-4d5b-9a28-99eaa381965b:3' labels=frozenset({'CVE'}) properties={'assigner': 'cna@sap.com', 'id': 'CVE-2023-0015'}>>, <Record cve1=<Node element_id='4:de342d72-e7ff-4d5b-9a28-99eaa381965b:0' labels=frozenset({'CVE'}) properties={'assigner': 'cna@sap.com', 'id': 'CVE-2023-0012'}> cve2=<Node element_id='4:de342d72-e7ff-4d5b-9a28-99eaa381965b:5' labels=frozenset({'CVE'}) properties={'assigner': 'cna@sap.com', 'id': 'CVE-2023-0017'}> Entities=<Node element_id='4:de342d72-e7ff-4d5b-9a28-99eaa381965b:3' labels=frozenset({'CVE'}) properties={'assigner': 'cna@sap.com', 'id': 'CVE-2023-0015'}>>, <Record cve1=<Node element_id='4:de342d72-e7ff-4d5b-9a28-99eaa381965b:0' labels=frozenset({'CVE'}) properties={'assigner': 'cna@sap.com', 'id': 'CVE-2023-0012'}> cve2=<Node element_id='4:de342d72-e7ff-4d5b-9a28-99eaa381965b:5' labels=frozenset({'CVE'}) properties={'assigner': 'cna@sap.com', 'id': 'CVE-2023-0017'}> Entities=<Node element_id='4:de342d72-e7ff-4d5b-9a28-99eaa381965b:1' labels=frozenset({'CVE'}) properties={'assigner': 'cna@sap.com', 'id': 'CVE-2023-0013'}>>, <Record cve1=<Node element_id='4:de342d72-e7ff-4d5b-9a28-99eaa381965b:0' labels=frozenset({'CVE'}) properties={'assigner': 'cna@sap.com', 'id': 'CVE-2023-0012'}> cve2=<Node element_id='4:de342d72-e7ff-4d5b-9a28-99eaa381965b:5' labels=frozenset({'CVE'}) properties={'assigner': 'cna@sap.com', 'id': 'CVE-2023-0017'}> Entities=<Node element_id='4:de342d72-e7ff-4d5b-9a28-99eaa381965b:1' labels=frozenset({'CVE'}) properties={'assigner': 'cna@sap.com', 'id': 'CVE-2023-0013'}>>, <Record cve1=<Node element_id='4:de342d72-e7ff-4d5b-9a28-99eaa381965b:0' labels=frozenset({'CVE'}) properties={'assigner': 'cna@sap.com', 'id': 'CVE-2023-0012'}> cve2=<Node element_id='4:de342d72-e7ff-4d5b-9a28-99eaa381965b:5' labels=frozenset({'CVE'}) properties={'assigner': 'cna@sap.com', 'id': 'CVE-2023-0017'}> Entities=<Node element_id='4:de342d72-e7ff-4d5b-9a28-99eaa381965b:6' labels=frozenset({'CVE'}) properties={'assigner': 'cna@sap.com', 'id': 'CVE-2023-0018'}>>, <Record cve1=<Node element_id='4:de342d72-e7ff-4d5b-9a28-99eaa381965b:0' labels=frozenset({'CVE'}) properties={'assigner': 'cna@sap.com', 'id': 'CVE-2023-0012'}> cve2=<Node element_id='4:de342d72-e7ff-4d5b-9a28-99eaa381965b:5' labels=frozenset({'CVE'}) properties={'assigner': 'cna@sap.com', 'id': 'CVE-2023-0017'}> Entities=<Node element_id='4:de342d72-e7ff-4d5b-9a28-99eaa381965b:6' labels=frozenset({'CVE'}) properties={'assigner': 'cna@sap.com', 'id': 'CVE-2023-0018'}>>, <Record cve1=<Node element_id='4:de342d72-e7ff-4d5b-9a28-99eaa381965b:0' labels=frozenset({'CVE'}) properties={'assigner': 'cna@sap.com', 'id': 'CVE-2023-0012'}> cve2=<Node element_id='4:de342d72-e7ff-4d5b-9a28-99eaa381965b:5' labels=frozenset({'CVE'}) properties={'assigner': 'cna@sap.com', 'id': 'CVE-2023-0017'}> Entities=<Node element_id='4:de342d72-e7ff-4d5b-9a28-99eaa381965b:9' labels=frozenset({'CVE'}) properties={'assigner': 'security@huntr.dev', 'id': 'CVE-2023-0028'}>>, <Record cve1=<Node element_id='4:de342d72-e7ff-4d5b-9a28-99eaa381965b:0' labels=frozenset({'CVE'}) properties={'assigner': 'cna@sap.com', 'id': 'CVE-2023-0012'}> cve2=<Node element_id='4:de342d72-e7ff-4d5b-9a28-99eaa381965b:5' labels=frozenset({'CVE'}) properties={'assigner': 'cna@sap.com', 'id': 'CVE-2023-0017'}> Entities=<Node element_id='4:de342d72-e7ff-4d5b-9a28-99eaa381965b:9' labels=frozenset({'CVE'}) properties={'assigner': 'security@huntr.dev', 'id': 'CVE-2023-0028'}>>, <Record cve1=<Node element_id='4:de342d72-e7ff-4d5b-9a28-99eaa381965b:0' labels=frozenset({'CVE'}) properties={'assigner': 'cna@sap.com', 'id': 'CVE-2023-0012'}> cve2=<Node element_id='4:de342d72-e7ff-4d5b-9a28-99eaa381965b:5' labels=frozenset({'CVE'}) properties={'assigner': 'cna@sap.com', 'id': 'CVE-2023-0017'}> Entities=<Node element_id='4:de342d72-e7ff-4d5b-9a28-99eaa381965b:3' labels=frozenset({'CVE'}) properties={'assigner': 'cna@sap.com', 'id': 'CVE-2023-0015'}>>, <Record cve1=<Node element_id='4:de342d72-e7ff-4d5b-9a28-99eaa381965b:0' labels=frozenset({'CVE'}) properties={'assigner': 'cna@sap.com', 'id': 'CVE-2023-0012'}> cve2=<Node element_id='4:de342d72-e7ff-4d5b-9a28-99eaa381965b:5' labels=frozenset({'CVE'}) properties={'assigner': 'cna@sap.com', 'id': 'CVE-2023-0017'}> Entities=<Node element_id='4:de342d72-e7ff-4d5b-9a28-99eaa381965b:3' labels=frozenset({'CVE'}) properties={'assigner': 'cna@sap.com', 'id': 'CVE-2023-0015'}>>, <Record cve1=<Node element_id='4:de342d72-e7ff-4d5b-9a28-99eaa381965b:0' labels=frozenset({'CVE'}) properties={'assigner': 'cna@sap.com', 'id': 'CVE-2023-0012'}> cve2=<Node element_id='4:de342d72-e7ff-4d5b-9a28-99eaa381965b:5' labels=frozenset({'CVE'}) properties={'assigner': 'cna@sap.com', 'id': 'CVE-2023-0017'}> Entities=<Node element_id='4:de342d72-e7ff-4d5b-9a28-99eaa381965b:1' labels=frozenset({'CVE'}) properties={'assigner': 'cna@sap.com', 'id': 'CVE-2023-0013'}>>, <Record cve1=<Node element_id='4:de342d72-e7ff-4d5b-9a28-99eaa381965b:0' labels=frozenset({'CVE'}) properties={'assigner': 'cna@sap.com', 'id': 'CVE-2023-0012'}> cve2=<Node element_id='4:de342d72-e7ff-4d5b-9a28-99eaa381965b:5' labels=frozenset({'CVE'}) properties={'assigner': 'cna@sap.com', 'id': 'CVE-2023-0017'}> Entities=<Node element_id='4:de342d72-e7ff-4d5b-9a28-99eaa381965b:1' labels=frozenset({'CVE'}) properties={'assigner': 'cna@sap.com', 'id': 'CVE-2023-0013'}>>, <Record cve1=<Node element_id='4:de342d72-e7ff-4d5b-9a28-99eaa381965b:0' labels=frozenset({'CVE'}) properties={'assigner': 'cna@sap.com', 'id': 'CVE-2023-0012'}> cve2=<Node element_id='4:de342d72-e7ff-4d5b-9a28-99eaa381965b:5' labels=frozenset({'CVE'}) properties={'assigner': 'cna@sap.com', 'id': 'CVE-2023-0017'}> Entities=<Node element_id='4:de342d72-e7ff-4d5b-9a28-99eaa381965b:6' labels=frozenset({'CVE'}) properties={'assigner': 'cna@sap.com', 'id': 'CVE-2023-0018'}>>, <Record cve1=<Node element_id='4:de342d72-e7ff-4d5b-9a28-99eaa381965b:0' labels=frozenset({'CVE'}) properties={'assigner': 'cna@sap.com', 'id': 'CVE-2023-0012'}> cve2=<Node element_id='4:de342d72-e7ff-4d5b-9a28-99eaa381965b:5' labels=frozenset({'CVE'}) properties={'assigner': 'cna@sap.com', 'id': 'CVE-2023-0017'}> Entities=<Node element_id='4:de342d72-e7ff-4d5b-9a28-99eaa381965b:6' labels=frozenset({'CVE'}) properties={'assigner': 'cna@sap.com', 'id': 'CVE-2023-0018'}>>, <Record cve1=<Node element_id='4:de342d72-e7ff-4d5b-9a28-99eaa381965b:0' labels=frozenset({'CVE'}) properties={'assigner': 'cna@sap.com', 'id': 'CVE-2023-0012'}> cve2=<Node element_id='4:de342d72-e7ff-4d5b-9a28-99eaa381965b:5' labels=frozenset({'CVE'}) properties={'assigner': 'cna@sap.com', 'id': 'CVE-2023-0017'}> Entities=<Node element_id='4:de342d72-e7ff-4d5b-9a28-99eaa381965b:9' labels=frozenset({'CVE'}) properties={'assigner': 'security@huntr.dev', 'id': 'CVE-2023-0028'}>>, <Record cve1=<Node element_id='4:de342d72-e7ff-4d5b-9a28-99eaa381965b:0' labels=frozenset({'CVE'}) properties={'assigner': 'cna@sap.com', 'id': 'CVE-2023-0012'}> cve2=<Node element_id='4:de342d72-e7ff-4d5b-9a28-99eaa381965b:5' labels=frozenset({'CVE'}) properties={'assigner': 'cna@sap.com', 'id': 'CVE-2023-0017'}> Entities=<Node element_id='4:de342d72-e7ff-4d5b-9a28-99eaa381965b:9' labels=frozenset({'CVE'}) properties={'assigner': 'security@huntr.dev', 'id': 'CVE-2023-0028'}>>, <Record cve1=<Node element_id='4:de342d72-e7ff-4d5b-9a28-99eaa381965b:0' labels=frozenset({'CVE'}) properties={'assigner': 'cna@sap.com', 'id': 'CVE-2023-0012'}> cve2=<Node element_id='4:de342d72-e7ff-4d5b-9a28-99eaa381965b:5' labels=frozenset({'CVE'}) properties={'assigner': 'cna@sap.com', 'id': 'CVE-2023-0017'}> Entities=<Node element_id='4:de342d72-e7ff-4d5b-9a28-99eaa381965b:3' labels=frozenset({'CVE'}) properties={'assigner': 'cna@sap.com', 'id': 'CVE-2023-0015'}>>, <Record cve1=<Node element_id='4:de342d72-e7ff-4d5b-9a28-99eaa381965b:0' labels=frozenset({'CVE'}) properties={'assigner': 'cna@sap.com', 'id': 'CVE-2023-0012'}> cve2=<Node element_id='4:de342d72-e7ff-4d5b-9a28-99eaa381965b:5' labels=frozenset({'CVE'}) properties={'assigner': 'cna@sap.com', 'id': 'CVE-2023-0017'}> Entities=<Node element_id='4:de342d72-e7ff-4d5b-9a28-99eaa381965b:3' labels=frozenset({'CVE'}) properties={'assigner': 'cna@sap.com', 'id': 'CVE-2023-0015'}>>, <Record cve1=<Node element_id='4:de342d72-e7ff-4d5b-9a28-99eaa381965b:0' labels=frozenset({'CVE'}) properties={'assigner': 'cna@sap.com', 'id': 'CVE-2023-0012'}> cve2=<Node element_id='4:de342d72-e7ff-4d5b-9a28-99eaa381965b:5' labels=frozenset({'CVE'}) properties={'assigner': 'cna@sap.com', 'id': 'CVE-2023-0017'}> Entities=<Node element_id='4:de342d72-e7ff-4d5b-9a28-99eaa381965b:1' labels=frozenset({'CVE'}) properties={'assigner': 'cna@sap.com', 'id': 'CVE-2023-0013'}>>, <Record cve1=<Node element_id='4:de342d72-e7ff-4d5b-9a28-99eaa381965b:0' labels=frozenset({'CVE'}) properties={'assigner': 'cna@sap.com', 'id': 'CVE-2023-0012'}> cve2=<Node element_id='4:de342d72-e7ff-4d5b-9a28-99eaa381965b:5' labels=frozenset({'CVE'}) properties={'assigner': 'cna@sap.com', 'id': 'CVE-2023-0017'}> Entities=<Node element_id='4:de342d72-e7ff-4d5b-9a28-99eaa381965b:1' labels=frozenset({'CVE'}) properties={'assigner': 'cna@sap.com', 'id': 'CVE-2023-0013'}>>, <Record cve1=<Node element_id='4:de342d72-e7ff-4d5b-9a28-99eaa381965b:0' labels=frozenset({'CVE'}) properties={'assigner': 'cna@sap.com', 'id': 'CVE-2023-0012'}> cve2=<Node element_id='4:de342d72-e7ff-4d5b-9a28-99eaa381965b:5' labels=frozenset({'CVE'}) properties={'assigner': 'cna@sap.com', 'id': 'CVE-2023-0017'}> Entities=<Node element_id='4:de342d72-e7ff-4d5b-9a28-99eaa381965b:6' labels=frozenset({'CVE'}) properties={'assigner': 'cna@sap.com', 'id': 'CVE-2023-0018'}>>, <Record cve1=<Node element_id='4:de342d72-e7ff-4d5b-9a28-99eaa381965b:0' labels=frozenset({'CVE'}) properties={'assigner': 'cna@sap.com', 'id': 'CVE-2023-0012'}> cve2=<Node element_id='4:de342d72-e7ff-4d5b-9a28-99eaa381965b:5' labels=frozenset({'CVE'}) properties={'assigner': 'cna@sap.com', 'id': 'CVE-2023-0017'}> Entities=<Node element_id='4:de342d72-e7ff-4d5b-9a28-99eaa381965b:6' labels=frozenset({'CVE'}) properties={'assigner': 'cna@sap.com', 'id': 'CVE-2023-0018'}>>, <Record cve1=<Node element_id='4:de342d72-e7ff-4d5b-9a28-99eaa381965b:0' labels=frozenset({'CVE'}) properties={'assigner': 'cna@sap.com', 'id': 'CVE-2023-0012'}> cve2=<Node element_id='4:de342d72-e7ff-4d5b-9a28-99eaa381965b:5' labels=frozenset({'CVE'}) properties={'assigner': 'cna@sap.com', 'id': 'CVE-2023-0017'}> Entities=<Node element_id='4:de342d72-e7ff-4d5b-9a28-99eaa381965b:9' labels=frozenset({'CVE'}) properties={'assigner': 'security@huntr.dev', 'id': 'CVE-2023-0028'}>>, <Record cve1=<Node element_id='4:de342d72-e7ff-4d5b-9a28-99eaa381965b:0' labels=frozenset({'CVE'}) properties={'assigner': 'cna@sap.com', 'id': 'CVE-2023-0012'}> cve2=<Node element_id='4:de342d72-e7ff-4d5b-9a28-99eaa381965b:5' labels=frozenset({'CVE'}) properties={'assigner': 'cna@sap.com', 'id': 'CVE-2023-0017'}> Entities=<Node element_id='4:de342d72-e7ff-4d5b-9a28-99eaa381965b:9' labels=frozenset({'CVE'}) properties={'assigner': 'security@huntr.dev', 'id': 'CVE-2023-0028'}>>, <Record cve1=<Node element_id='4:de342d72-e7ff-4d5b-9a28-99eaa381965b:0' labels=frozenset({'CVE'}) properties={'assigner': 'cna@sap.com', 'id': 'CVE-2023-0012'}> cve2=<Node element_id='4:de342d72-e7ff-4d5b-9a28-99eaa381965b:5' labels=frozenset({'CVE'}) properties={'assigner': 'cna@sap.com', 'id': 'CVE-2023-0017'}> Entities=<Node element_id='4:de342d72-e7ff-4d5b-9a28-99eaa381965b:3' labels=frozenset({'CVE'}) properties={'assigner': 'cna@sap.com', 'id': 'CVE-2023-0015'}>>, <Record cve1=<Node element_id='4:de342d72-e7ff-4d5b-9a28-99eaa381965b:0' labels=frozenset({'CVE'}) properties={'assigner': 'cna@sap.com', 'id': 'CVE-2023-0012'}> cve2=<Node element_id='4:de342d72-e7ff-4d5b-9a28-99eaa381965b:5' labels=frozenset({'CVE'}) properties={'assigner': 'cna@sap.com', 'id': 'CVE-2023-0017'}> Entities=<Node element_id='4:de342d72-e7ff-4d5b-9a28-99eaa381965b:3' labels=frozenset({'CVE'}) properties={'assigner': 'cna@sap.com', 'id': 'CVE-2023-0015'}>>, <Record cve1=<Node element_id='4:de342d72-e7ff-4d5b-9a28-99eaa381965b:0' labels=frozenset({'CVE'}) properties={'assigner': 'cna@sap.com', 'id': 'CVE-2023-0012'}> cve2=<Node element_id='4:de342d72-e7ff-4d5b-9a28-99eaa381965b:5' labels=frozenset({'CVE'}) properties={'assigner': 'cna@sap.com', 'id': 'CVE-2023-0017'}> Entities=<Node element_id='4:de342d72-e7ff-4d5b-9a28-99eaa381965b:1' labels=frozenset({'CVE'}) properties={'assigner': 'cna@sap.com', 'id': 'CVE-2023-0013'}>>, <Record cve1=<Node element_id='4:de342d72-e7ff-4d5b-9a28-99eaa381965b:0' labels=frozenset({'CVE'}) properties={'assigner': 'cna@sap.com', 'id': 'CVE-2023-0012'}> cve2=<Node element_id='4:de342d72-e7ff-4d5b-9a28-99eaa381965b:5' labels=frozenset({'CVE'}) properties={'assigner': 'cna@sap.com', 'id': 'CVE-2023-0017'}> Entities=<Node element_id='4:de342d72-e7ff-4d5b-9a28-99eaa381965b:1' labels=frozenset({'CVE'}) properties={'assigner': 'cna@sap.com', 'id': 'CVE-2023-0013'}>>, <Record cve1=<Node element_id='4:de342d72-e7ff-4d5b-9a28-99eaa381965b:0' labels=frozenset({'CVE'}) properties={'assigner': 'cna@sap.com', 'id': 'CVE-2023-0012'}> cve2=<Node element_id='4:de342d72-e7ff-4d5b-9a28-99eaa381965b:5' labels=frozenset({'CVE'}) properties={'assigner': 'cna@sap.com', 'id': 'CVE-2023-0017'}> Entities=<Node element_id='4:de342d72-e7ff-4d5b-9a28-99eaa381965b:4' labels=frozenset({'CVE'}) properties={'assigner': 'cna@sap.com', 'id': 'CVE-2023-0016'}>>, <Record cve1=<Node element_id='4:de342d72-e7ff-4d5b-9a28-99eaa381965b:0' labels=frozenset({'CVE'}) properties={'assigner': 'cna@sap.com', 'id': 'CVE-2023-0012'}> cve2=<Node element_id='4:de342d72-e7ff-4d5b-9a28-99eaa381965b:5' labels=frozenset({'CVE'}) properties={'assigner': 'cna@sap.com', 'id': 'CVE-2023-0017'}> Entities=<Node element_id='4:de342d72-e7ff-4d5b-9a28-99eaa381965b:167' labels=frozenset({'Entities'}) properties={'wikipediaExternalRef': 241154, 'wikidataId': 'Q371199', 'confidence_score': 0.719, 'offsetStart': 0, 'offsetEnd': 20, 'rawName': 'Cross-site scripting'}>>, <Record cve1=<Node element_id='4:de342d72-e7ff-4d5b-9a28-99eaa381965b:0' labels=frozenset({'CVE'}) properties={'assigner': 'cna@sap.com', 'id': 'CVE-2023-0012'}> cve2=<Node element_id='4:de342d72-e7ff-4d5b-9a28-99eaa381965b:5' labels=frozenset({'CVE'}) properties={'assigner': 'cna@sap.com', 'id': 'CVE-2023-0017'}> Entities=<Node element_id='4:de342d72-e7ff-4d5b-9a28-99eaa381965b:167' labels=frozenset({'Entities'}) properties={'wikipediaExternalRef': 241154, 'wikidataId': 'Q371199', 'confidence_score': 0.719, 'offsetStart': 0, 'offsetEnd': 20, 'rawName': 'Cross-site scripting'}>>, <Record cve1=<Node element_id='4:de342d72-e7ff-4d5b-9a28-99eaa381965b:0' labels=frozenset({'CVE'}) properties={'assigner': 'cna@sap.com', 'id': 'CVE-2023-0012'}> cve2=<Node element_id='4:de342d72-e7ff-4d5b-9a28-99eaa381965b:5' labels=frozenset({'CVE'}) properties={'assigner': 'cna@sap.com', 'id': 'CVE-2023-0017'}> Entities=<Node element_id='4:de342d72-e7ff-4d5b-9a28-99eaa381965b:167' labels=frozenset({'Entities'}) properties={'wikipediaExternalRef': 241154, 'wikidataId': 'Q371199', 'confidence_score': 0.719, 'offsetStart': 0, 'offsetEnd': 20, 'rawName': 'Cross-site scripting'}>>, <Record cve1=<Node element_id='4:de342d72-e7ff-4d5b-9a28-99eaa381965b:0' labels=frozenset({'CVE'}) properties={'assigner': 'cna@sap.com', 'id': 'CVE-2023-0012'}> cve2=<Node element_id='4:de342d72-e7ff-4d5b-9a28-99eaa381965b:5' labels=frozenset({'CVE'}) properties={'assigner': 'cna@sap.com', 'id': 'CVE-2023-0017'}> Entities=<Node element_id='4:de342d72-e7ff-4d5b-9a28-99eaa381965b:167' labels=frozenset({'Entities'}) properties={'wikipediaExternalRef': 241154, 'wikidataId': 'Q371199', 'confidence_score': 0.719, 'offsetStart': 0, 'offsetEnd': 20, 'rawName': 'Cross-site scripting'}>>, <Record cve1=<Node element_id='4:de342d72-e7ff-4d5b-9a28-99eaa381965b:0' labels=frozenset({'CVE'}) properties={'assigner': 'cna@sap.com', 'id': 'CVE-2023-0012'}> cve2=<Node element_id='4:de342d72-e7ff-4d5b-9a28-99eaa381965b:5' labels=frozenset({'CVE'}) properties={'assigner': 'cna@sap.com', 'id': 'CVE-2023-0017'}> Entities=<Node element_id='4:de342d72-e7ff-4d5b-9a28-99eaa381965b:262' labels=frozenset({'Entities'}) properties={'wikipediaExternalRef': 526999, 'wikidataId': 'Q506059', 'confidence_score': 0.9162, 'offsetStart': 1041, 'offsetEnd': 1054, 'rawName': 'SQL injection'}>>, <Record cve1=<Node element_id='4:de342d72-e7ff-4d5b-9a28-99eaa381965b:5' labels=frozenset({'CVE'}) properties={'assigner': 'cna@sap.com', 'id': 'CVE-2023-0017'}> cve2=<Node element_id='4:de342d72-e7ff-4d5b-9a28-99eaa381965b:8' labels=frozenset({'CVE'}) properties={'assigner': 'cna@sap.com', 'id': 'CVE-2023-0023'}> Entities=<Node element_id='4:de342d72-e7ff-4d5b-9a28-99eaa381965b:6' labels=frozenset({'CVE'}) properties={'assigner': 'cna@sap.com', 'id': 'CVE-2023-0018'}>>, <Record cve1=<Node element_id='4:de342d72-e7ff-4d5b-9a28-99eaa381965b:5' labels=frozenset({'CVE'}) properties={'assigner': 'cna@sap.com', 'id': 'CVE-2023-0017'}> cve2=<Node element_id='4:de342d72-e7ff-4d5b-9a28-99eaa381965b:8' labels=frozenset({'CVE'}) properties={'assigner': 'cna@sap.com', 'id': 'CVE-2023-0023'}> Entities=<Node element_id='4:de342d72-e7ff-4d5b-9a28-99eaa381965b:9' labels=frozenset({'CVE'}) properties={'assigner': 'security@huntr.dev', 'id': 'CVE-2023-0028'}>>, <Record cve1=<Node element_id='4:de342d72-e7ff-4d5b-9a28-99eaa381965b:5' labels=frozenset({'CVE'}) properties={'assigner': 'cna@sap.com', 'id': 'CVE-2023-0017'}> cve2=<Node element_id='4:de342d72-e7ff-4d5b-9a28-99eaa381965b:8' labels=frozenset({'CVE'}) properties={'assigner': 'cna@sap.com', 'id': 'CVE-2023-0023'}> Entities=<Node element_id='4:de342d72-e7ff-4d5b-9a28-99eaa381965b:3' labels=frozenset({'CVE'}) properties={'assigner': 'cna@sap.com', 'id': 'CVE-2023-0015'}>>, <Record cve1=<Node element_id='4:de342d72-e7ff-4d5b-9a28-99eaa381965b:5' labels=frozenset({'CVE'}) properties={'assigner': 'cna@sap.com', 'id': 'CVE-2023-0017'}> cve2=<Node element_id='4:de342d72-e7ff-4d5b-9a28-99eaa381965b:8' labels=frozenset({'CVE'}) properties={'assigner': 'cna@sap.com', 'id': 'CVE-2023-0023'}> Entities=<Node element_id='4:de342d72-e7ff-4d5b-9a28-99eaa381965b:1' labels=frozenset({'CVE'}) properties={'assigner': 'cna@sap.com', 'id': 'CVE-2023-0013'}>>, <Record cve1=<Node element_id='4:de342d72-e7ff-4d5b-9a28-99eaa381965b:5' labels=frozenset({'CVE'}) properties={'assigner': 'cna@sap.com', 'id': 'CVE-2023-0017'}> cve2=<Node element_id='4:de342d72-e7ff-4d5b-9a28-99eaa381965b:8' labels=frozenset({'CVE'}) properties={'assigner': 'cna@sap.com', 'id': 'CVE-2023-0023'}> Entities=<Node element_id='4:de342d72-e7ff-4d5b-9a28-99eaa381965b:7' labels=frozenset({'CVE'}) properties={'assigner': 'cna@sap.com', 'id': 'CVE-2023-0022'}>>, <Record cve1=<Node element_id='4:de342d72-e7ff-4d5b-9a28-99eaa381965b:5' labels=frozenset({'CVE'}) properties={'assigner': 'cna@sap.com', 'id': 'CVE-2023-0017'}> cve2=<Node element_id='4:de342d72-e7ff-4d5b-9a28-99eaa381965b:8' labels=frozenset({'CVE'}) properties={'assigner': 'cna@sap.com', 'id': 'CVE-2023-0023'}> Entities=<Node element_id='4:de342d72-e7ff-4d5b-9a28-99eaa381965b:7' labels=frozenset({'CVE'}) properties={'assigner': 'cna@sap.com', 'id': 'CVE-2023-0022'}>>, <Record cve1=<Node element_id='4:de342d72-e7ff-4d5b-9a28-99eaa381965b:5' labels=frozenset({'CVE'}) properties={'assigner': 'cna@sap.com', 'id': 'CVE-2023-0017'}> cve2=<Node element_id='4:de342d72-e7ff-4d5b-9a28-99eaa381965b:8' labels=frozenset({'CVE'}) properties={'assigner': 'cna@sap.com', 'id': 'CVE-2023-0023'}> Entities=<Node element_id='4:de342d72-e7ff-4d5b-9a28-99eaa381965b:2' labels=frozenset({'CVE'}) properties={'assigner': 'cna@sap.com', 'id': 'CVE-2023-0014'}>>, <Record cve1=<Node element_id='4:de342d72-e7ff-4d5b-9a28-99eaa381965b:5' labels=frozenset({'CVE'}) properties={'assigner': 'cna@sap.com', 'id': 'CVE-2023-0017'}> cve2=<Node element_id='4:de342d72-e7ff-4d5b-9a28-99eaa381965b:8' labels=frozenset({'CVE'}) properties={'assigner': 'cna@sap.com', 'id': 'CVE-2023-0023'}> Entities=<Node element_id='4:de342d72-e7ff-4d5b-9a28-99eaa381965b:6' labels=frozenset({'CVE'}) properties={'assigner': 'cna@sap.com', 'id': 'CVE-2023-0018'}>>, <Record cve1=<Node element_id='4:de342d72-e7ff-4d5b-9a28-99eaa381965b:5' labels=frozenset({'CVE'}) properties={'assigner': 'cna@sap.com', 'id': 'CVE-2023-0017'}> cve2=<Node element_id='4:de342d72-e7ff-4d5b-9a28-99eaa381965b:8' labels=frozenset({'CVE'}) properties={'assigner': 'cna@sap.com', 'id': 'CVE-2023-0023'}> Entities=<Node element_id='4:de342d72-e7ff-4d5b-9a28-99eaa381965b:9' labels=frozenset({'CVE'}) properties={'assigner': 'security@huntr.dev', 'id': 'CVE-2023-0028'}>>, <Record cve1=<Node element_id='4:de342d72-e7ff-4d5b-9a28-99eaa381965b:5' labels=frozenset({'CVE'}) properties={'assigner': 'cna@sap.com', 'id': 'CVE-2023-0017'}> cve2=<Node element_id='4:de342d72-e7ff-4d5b-9a28-99eaa381965b:8' labels=frozenset({'CVE'}) properties={'assigner': 'cna@sap.com', 'id': 'CVE-2023-0023'}> Entities=<Node element_id='4:de342d72-e7ff-4d5b-9a28-99eaa381965b:3' labels=frozenset({'CVE'}) properties={'assigner': 'cna@sap.com', 'id': 'CVE-2023-0015'}>>, <Record cve1=<Node element_id='4:de342d72-e7ff-4d5b-9a28-99eaa381965b:5' labels=frozenset({'CVE'}) properties={'assigner': 'cna@sap.com', 'id': 'CVE-2023-0017'}> cve2=<Node element_id='4:de342d72-e7ff-4d5b-9a28-99eaa381965b:8' labels=frozenset({'CVE'}) properties={'assigner': 'cna@sap.com', 'id': 'CVE-2023-0023'}> Entities=<Node element_id='4:de342d72-e7ff-4d5b-9a28-99eaa381965b:1' labels=frozenset({'CVE'}) properties={'assigner': 'cna@sap.com', 'id': 'CVE-2023-0013'}>>, <Record cve1=<Node element_id='4:de342d72-e7ff-4d5b-9a28-99eaa381965b:5' labels=frozenset({'CVE'}) properties={'assigner': 'cna@sap.com', 'id': 'CVE-2023-0017'}> cve2=<Node element_id='4:de342d72-e7ff-4d5b-9a28-99eaa381965b:8' labels=frozenset({'CVE'}) properties={'assigner': 'cna@sap.com', 'id': 'CVE-2023-0023'}> Entities=<Node element_id='4:de342d72-e7ff-4d5b-9a28-99eaa381965b:8' labels=frozenset({'CVE'}) properties={'assigner': 'cna@sap.com', 'id': 'CVE-2023-0023'}>>, <Record cve1=<Node element_id='4:de342d72-e7ff-4d5b-9a28-99eaa381965b:5' labels=frozenset({'CVE'}) properties={'assigner': 'cna@sap.com', 'id': 'CVE-2023-0017'}> cve2=<Node element_id='4:de342d72-e7ff-4d5b-9a28-99eaa381965b:8' labels=frozenset({'CVE'}) properties={'assigner': 'cna@sap.com', 'id': 'CVE-2023-0023'}> Entities=<Node element_id='4:de342d72-e7ff-4d5b-9a28-99eaa381965b:0' labels=frozenset({'CVE'}) properties={'assigner': 'cna@sap.com', 'id': 'CVE-2023-0012'}>>, <Record cve1=<Node element_id='4:de342d72-e7ff-4d5b-9a28-99eaa381965b:5' labels=frozenset({'CVE'}) properties={'assigner': 'cna@sap.com', 'id': 'CVE-2023-0017'}> cve2=<Node element_id='4:de342d72-e7ff-4d5b-9a28-99eaa381965b:8' labels=frozenset({'CVE'}) properties={'assigner': 'cna@sap.com', 'id': 'CVE-2023-0023'}> Entities=<Node element_id='4:de342d72-e7ff-4d5b-9a28-99eaa381965b:5' labels=frozenset({'CVE'}) properties={'assigner': 'cna@sap.com', 'id': 'CVE-2023-0017'}>>, <Record cve1=<Node element_id='4:de342d72-e7ff-4d5b-9a28-99eaa381965b:5' labels=frozenset({'CVE'}) properties={'assigner': 'cna@sap.com', 'id': 'CVE-2023-0017'}> cve2=<Node element_id='4:de342d72-e7ff-4d5b-9a28-99eaa381965b:8' labels=frozenset({'CVE'}) properties={'assigner': 'cna@sap.com', 'id': 'CVE-2023-0023'}> Entities=<Node element_id='4:de342d72-e7ff-4d5b-9a28-99eaa381965b:0' labels=frozenset({'CVE'}) properties={'assigner': 'cna@sap.com', 'id': 'CVE-2023-0012'}>>, <Record cve1=<Node element_id='4:de342d72-e7ff-4d5b-9a28-99eaa381965b:5' labels=frozenset({'CVE'}) properties={'assigner': 'cna@sap.com', 'id': 'CVE-2023-0017'}> cve2=<Node element_id='4:de342d72-e7ff-4d5b-9a28-99eaa381965b:8' labels=frozenset({'CVE'}) properties={'assigner': 'cna@sap.com', 'id': 'CVE-2023-0023'}> Entities=<Node element_id='4:de342d72-e7ff-4d5b-9a28-99eaa381965b:0' labels=frozenset({'CVE'}) properties={'assigner': 'cna@sap.com', 'id': 'CVE-2023-0012'}>>, <Record cve1=<Node element_id='4:de342d72-e7ff-4d5b-9a28-99eaa381965b:5' labels=frozenset({'CVE'}) properties={'assigner': 'cna@sap.com', 'id': 'CVE-2023-0017'}> cve2=<Node element_id='4:de342d72-e7ff-4d5b-9a28-99eaa381965b:8' labels=frozenset({'CVE'}) properties={'assigner': 'cna@sap.com', 'id': 'CVE-2023-0023'}> Entities=<Node element_id='4:de342d72-e7ff-4d5b-9a28-99eaa381965b:5' labels=frozenset({'CVE'}) properties={'assigner': 'cna@sap.com', 'id': 'CVE-2023-0017'}>>, <Record cve1=<Node element_id='4:de342d72-e7ff-4d5b-9a28-99eaa381965b:5' labels=frozenset({'CVE'}) properties={'assigner': 'cna@sap.com', 'id': 'CVE-2023-0017'}> cve2=<Node element_id='4:de342d72-e7ff-4d5b-9a28-99eaa381965b:8' labels=frozenset({'CVE'}) properties={'assigner': 'cna@sap.com', 'id': 'CVE-2023-0023'}> Entities=<Node element_id='4:de342d72-e7ff-4d5b-9a28-99eaa381965b:5' labels=frozenset({'CVE'}) properties={'assigner': 'cna@sap.com', 'id': 'CVE-2023-0017'}>>, <Record cve1=<Node element_id='4:de342d72-e7ff-4d5b-9a28-99eaa381965b:5' labels=frozenset({'CVE'}) properties={'assigner': 'cna@sap.com', 'id': 'CVE-2023-0017'}> cve2=<Node element_id='4:de342d72-e7ff-4d5b-9a28-99eaa381965b:8' labels=frozenset({'CVE'}) properties={'assigner': 'cna@sap.com', 'id': 'CVE-2023-0023'}> Entities=<Node element_id='4:de342d72-e7ff-4d5b-9a28-99eaa381965b:6' labels=frozenset({'CVE'}) properties={'assigner': 'cna@sap.com', 'id': 'CVE-2023-0018'}>>, <Record cve1=<Node element_id='4:de342d72-e7ff-4d5b-9a28-99eaa381965b:5' labels=frozenset({'CVE'}) properties={'assigner': 'cna@sap.com', 'id': 'CVE-2023-0017'}> cve2=<Node element_id='4:de342d72-e7ff-4d5b-9a28-99eaa381965b:8' labels=frozenset({'CVE'}) properties={'assigner': 'cna@sap.com', 'id': 'CVE-2023-0023'}> Entities=<Node element_id='4:de342d72-e7ff-4d5b-9a28-99eaa381965b:6' labels=frozenset({'CVE'}) properties={'assigner': 'cna@sap.com', 'id': 'CVE-2023-0018'}>>, <Record cve1=<Node element_id='4:de342d72-e7ff-4d5b-9a28-99eaa381965b:5' labels=frozenset({'CVE'}) properties={'assigner': 'cna@sap.com', 'id': 'CVE-2023-0017'}> cve2=<Node element_id='4:de342d72-e7ff-4d5b-9a28-99eaa381965b:8' labels=frozenset({'CVE'}) properties={'assigner': 'cna@sap.com', 'id': 'CVE-2023-0023'}> Entities=<Node element_id='4:de342d72-e7ff-4d5b-9a28-99eaa381965b:6' labels=frozenset({'CVE'}) properties={'assigner': 'cna@sap.com', 'id': 'CVE-2023-0018'}>>, <Record cve1=<Node element_id='4:de342d72-e7ff-4d5b-9a28-99eaa381965b:5' labels=frozenset({'CVE'}) properties={'assigner': 'cna@sap.com', 'id': 'CVE-2023-0017'}> cve2=<Node element_id='4:de342d72-e7ff-4d5b-9a28-99eaa381965b:8' labels=frozenset({'CVE'}) properties={'assigner': 'cna@sap.com', 'id': 'CVE-2023-0023'}> Entities=<Node element_id='4:de342d72-e7ff-4d5b-9a28-99eaa381965b:6' labels=frozenset({'CVE'}) properties={'assigner': 'cna@sap.com', 'id': 'CVE-2023-0018'}>>, <Record cve1=<Node element_id='4:de342d72-e7ff-4d5b-9a28-99eaa381965b:5' labels=frozenset({'CVE'}) properties={'assigner': 'cna@sap.com', 'id': 'CVE-2023-0017'}> cve2=<Node element_id='4:de342d72-e7ff-4d5b-9a28-99eaa381965b:8' labels=frozenset({'CVE'}) properties={'assigner': 'cna@sap.com', 'id': 'CVE-2023-0023'}> Entities=<Node element_id='4:de342d72-e7ff-4d5b-9a28-99eaa381965b:9' labels=frozenset({'CVE'}) properties={'assigner': 'security@huntr.dev', 'id': 'CVE-2023-0028'}>>, <Record cve1=<Node element_id='4:de342d72-e7ff-4d5b-9a28-99eaa381965b:5' labels=frozenset({'CVE'}) properties={'assigner': 'cna@sap.com', 'id': 'CVE-2023-0017'}> cve2=<Node element_id='4:de342d72-e7ff-4d5b-9a28-99eaa381965b:8' labels=frozenset({'CVE'}) properties={'assigner': 'cna@sap.com', 'id': 'CVE-2023-0023'}> Entities=<Node element_id='4:de342d72-e7ff-4d5b-9a28-99eaa381965b:9' labels=frozenset({'CVE'}) properties={'assigner': 'security@huntr.dev', 'id': 'CVE-2023-0028'}>>, <Record cve1=<Node element_id='4:de342d72-e7ff-4d5b-9a28-99eaa381965b:5' labels=frozenset({'CVE'}) properties={'assigner': 'cna@sap.com', 'id': 'CVE-2023-0017'}> cve2=<Node element_id='4:de342d72-e7ff-4d5b-9a28-99eaa381965b:8' labels=frozenset({'CVE'}) properties={'assigner': 'cna@sap.com', 'id': 'CVE-2023-0023'}> Entities=<Node element_id='4:de342d72-e7ff-4d5b-9a28-99eaa381965b:9' labels=frozenset({'CVE'}) properties={'assigner': 'security@huntr.dev', 'id': 'CVE-2023-0028'}>>, <Record cve1=<Node element_id='4:de342d72-e7ff-4d5b-9a28-99eaa381965b:5' labels=frozenset({'CVE'}) properties={'assigner': 'cna@sap.com', 'id': 'CVE-2023-0017'}> cve2=<Node element_id='4:de342d72-e7ff-4d5b-9a28-99eaa381965b:8' labels=frozenset({'CVE'}) properties={'assigner': 'cna@sap.com', 'id': 'CVE-2023-0023'}> Entities=<Node element_id='4:de342d72-e7ff-4d5b-9a28-99eaa381965b:9' labels=frozenset({'CVE'}) properties={'assigner': 'security@huntr.dev', 'id': 'CVE-2023-0028'}>>, <Record cve1=<Node element_id='4:de342d72-e7ff-4d5b-9a28-99eaa381965b:5' labels=frozenset({'CVE'}) properties={'assigner': 'cna@sap.com', 'id': 'CVE-2023-0017'}> cve2=<Node element_id='4:de342d72-e7ff-4d5b-9a28-99eaa381965b:8' labels=frozenset({'CVE'}) properties={'assigner': 'cna@sap.com', 'id': 'CVE-2023-0023'}> Entities=<Node element_id='4:de342d72-e7ff-4d5b-9a28-99eaa381965b:3' labels=frozenset({'CVE'}) properties={'assigner': 'cna@sap.com', 'id': 'CVE-2023-0015'}>>, <Record cve1=<Node element_id='4:de342d72-e7ff-4d5b-9a28-99eaa381965b:5' labels=frozenset({'CVE'}) properties={'assigner': 'cna@sap.com', 'id': 'CVE-2023-0017'}> cve2=<Node element_id='4:de342d72-e7ff-4d5b-9a28-99eaa381965b:8' labels=frozenset({'CVE'}) properties={'assigner': 'cna@sap.com', 'id': 'CVE-2023-0023'}> Entities=<Node element_id='4:de342d72-e7ff-4d5b-9a28-99eaa381965b:3' labels=frozenset({'CVE'}) properties={'assigner': 'cna@sap.com', 'id': 'CVE-2023-0015'}>>, <Record cve1=<Node element_id='4:de342d72-e7ff-4d5b-9a28-99eaa381965b:5' labels=frozenset({'CVE'}) properties={'assigner': 'cna@sap.com', 'id': 'CVE-2023-0017'}> cve2=<Node element_id='4:de342d72-e7ff-4d5b-9a28-99eaa381965b:8' labels=frozenset({'CVE'}) properties={'assigner': 'cna@sap.com', 'id': 'CVE-2023-0023'}> Entities=<Node element_id='4:de342d72-e7ff-4d5b-9a28-99eaa381965b:3' labels=frozenset({'CVE'}) properties={'assigner': 'cna@sap.com', 'id': 'CVE-2023-0015'}>>, <Record cve1=<Node element_id='4:de342d72-e7ff-4d5b-9a28-99eaa381965b:5' labels=frozenset({'CVE'}) properties={'assigner': 'cna@sap.com', 'id': 'CVE-2023-0017'}> cve2=<Node element_id='4:de342d72-e7ff-4d5b-9a28-99eaa381965b:8' labels=frozenset({'CVE'}) properties={'assigner': 'cna@sap.com', 'id': 'CVE-2023-0023'}> Entities=<Node element_id='4:de342d72-e7ff-4d5b-9a28-99eaa381965b:3' labels=frozenset({'CVE'}) properties={'assigner': 'cna@sap.com', 'id': 'CVE-2023-0015'}>>, <Record cve1=<Node element_id='4:de342d72-e7ff-4d5b-9a28-99eaa381965b:5' labels=frozenset({'CVE'}) properties={'assigner': 'cna@sap.com', 'id': 'CVE-2023-0017'}> cve2=<Node element_id='4:de342d72-e7ff-4d5b-9a28-99eaa381965b:8' labels=frozenset({'CVE'}) properties={'assigner': 'cna@sap.com', 'id': 'CVE-2023-0023'}> Entities=<Node element_id='4:de342d72-e7ff-4d5b-9a28-99eaa381965b:1' labels=frozenset({'CVE'}) properties={'assigner': 'cna@sap.com', 'id': 'CVE-2023-0013'}>>, <Record cve1=<Node element_id='4:de342d72-e7ff-4d5b-9a28-99eaa381965b:5' labels=frozenset({'CVE'}) properties={'assigner': 'cna@sap.com', 'id': 'CVE-2023-0017'}> cve2=<Node element_id='4:de342d72-e7ff-4d5b-9a28-99eaa381965b:8' labels=frozenset({'CVE'}) properties={'assigner': 'cna@sap.com', 'id': 'CVE-2023-0023'}> Entities=<Node element_id='4:de342d72-e7ff-4d5b-9a28-99eaa381965b:1' labels=frozenset({'CVE'}) properties={'assigner': 'cna@sap.com', 'id': 'CVE-2023-0013'}>>, <Record cve1=<Node element_id='4:de342d72-e7ff-4d5b-9a28-99eaa381965b:5' labels=frozenset({'CVE'}) properties={'assigner': 'cna@sap.com', 'id': 'CVE-2023-0017'}> cve2=<Node element_id='4:de342d72-e7ff-4d5b-9a28-99eaa381965b:8' labels=frozenset({'CVE'}) properties={'assigner': 'cna@sap.com', 'id': 'CVE-2023-0023'}> Entities=<Node element_id='4:de342d72-e7ff-4d5b-9a28-99eaa381965b:1' labels=frozenset({'CVE'}) properties={'assigner': 'cna@sap.com', 'id': 'CVE-2023-0013'}>>, <Record cve1=<Node element_id='4:de342d72-e7ff-4d5b-9a28-99eaa381965b:5' labels=frozenset({'CVE'}) properties={'assigner': 'cna@sap.com', 'id': 'CVE-2023-0017'}> cve2=<Node element_id='4:de342d72-e7ff-4d5b-9a28-99eaa381965b:8' labels=frozenset({'CVE'}) properties={'assigner': 'cna@sap.com', 'id': 'CVE-2023-0023'}> Entities=<Node element_id='4:de342d72-e7ff-4d5b-9a28-99eaa381965b:1' labels=frozenset({'CVE'}) properties={'assigner': 'cna@sap.com', 'id': 'CVE-2023-0013'}>>, <Record cve1=<Node element_id='4:de342d72-e7ff-4d5b-9a28-99eaa381965b:5' labels=frozenset({'CVE'}) properties={'assigner': 'cna@sap.com', 'id': 'CVE-2023-0017'}> cve2=<Node element_id='4:de342d72-e7ff-4d5b-9a28-99eaa381965b:8' labels=frozenset({'CVE'}) properties={'assigner': 'cna@sap.com', 'id': 'CVE-2023-0023'}> Entities=<Node element_id='4:de342d72-e7ff-4d5b-9a28-99eaa381965b:6' labels=frozenset({'CVE'}) properties={'assigner': 'cna@sap.com', 'id': 'CVE-2023-0018'}>>, <Record cve1=<Node element_id='4:de342d72-e7ff-4d5b-9a28-99eaa381965b:5' labels=frozenset({'CVE'}) properties={'assigner': 'cna@sap.com', 'id': 'CVE-2023-0017'}> cve2=<Node element_id='4:de342d72-e7ff-4d5b-9a28-99eaa381965b:8' labels=frozenset({'CVE'}) properties={'assigner': 'cna@sap.com', 'id': 'CVE-2023-0023'}> Entities=<Node element_id='4:de342d72-e7ff-4d5b-9a28-99eaa381965b:6' labels=frozenset({'CVE'}) properties={'assigner': 'cna@sap.com', 'id': 'CVE-2023-0018'}>>, <Record cve1=<Node element_id='4:de342d72-e7ff-4d5b-9a28-99eaa381965b:5' labels=frozenset({'CVE'}) properties={'assigner': 'cna@sap.com', 'id': 'CVE-2023-0017'}> cve2=<Node element_id='4:de342d72-e7ff-4d5b-9a28-99eaa381965b:8' labels=frozenset({'CVE'}) properties={'assigner': 'cna@sap.com', 'id': 'CVE-2023-0023'}> Entities=<Node element_id='4:de342d72-e7ff-4d5b-9a28-99eaa381965b:9' labels=frozenset({'CVE'}) properties={'assigner': 'security@huntr.dev', 'id': 'CVE-2023-0028'}>>, <Record cve1=<Node element_id='4:de342d72-e7ff-4d5b-9a28-99eaa381965b:5' labels=frozenset({'CVE'}) properties={'assigner': 'cna@sap.com', 'id': 'CVE-2023-0017'}> cve2=<Node element_id='4:de342d72-e7ff-4d5b-9a28-99eaa381965b:8' labels=frozenset({'CVE'}) properties={'assigner': 'cna@sap.com', 'id': 'CVE-2023-0023'}> Entities=<Node element_id='4:de342d72-e7ff-4d5b-9a28-99eaa381965b:9' labels=frozenset({'CVE'}) properties={'assigner': 'security@huntr.dev', 'id': 'CVE-2023-0028'}>>, <Record cve1=<Node element_id='4:de342d72-e7ff-4d5b-9a28-99eaa381965b:5' labels=frozenset({'CVE'}) properties={'assigner': 'cna@sap.com', 'id': 'CVE-2023-0017'}> cve2=<Node element_id='4:de342d72-e7ff-4d5b-9a28-99eaa381965b:8' labels=frozenset({'CVE'}) properties={'assigner': 'cna@sap.com', 'id': 'CVE-2023-0023'}> Entities=<Node element_id='4:de342d72-e7ff-4d5b-9a28-99eaa381965b:3' labels=frozenset({'CVE'}) properties={'assigner': 'cna@sap.com', 'id': 'CVE-2023-0015'}>>, <Record cve1=<Node element_id='4:de342d72-e7ff-4d5b-9a28-99eaa381965b:5' labels=frozenset({'CVE'}) properties={'assigner': 'cna@sap.com', 'id': 'CVE-2023-0017'}> cve2=<Node element_id='4:de342d72-e7ff-4d5b-9a28-99eaa381965b:8' labels=frozenset({'CVE'}) properties={'assigner': 'cna@sap.com', 'id': 'CVE-2023-0023'}> Entities=<Node element_id='4:de342d72-e7ff-4d5b-9a28-99eaa381965b:3' labels=frozenset({'CVE'}) properties={'assigner': 'cna@sap.com', 'id': 'CVE-2023-0015'}>>, <Record cve1=<Node element_id='4:de342d72-e7ff-4d5b-9a28-99eaa381965b:5' labels=frozenset({'CVE'}) properties={'assigner': 'cna@sap.com', 'id': 'CVE-2023-0017'}> cve2=<Node element_id='4:de342d72-e7ff-4d5b-9a28-99eaa381965b:8' labels=frozenset({'CVE'}) properties={'assigner': 'cna@sap.com', 'id': 'CVE-2023-0023'}> Entities=<Node element_id='4:de342d72-e7ff-4d5b-9a28-99eaa381965b:1' labels=frozenset({'CVE'}) properties={'assigner': 'cna@sap.com', 'id': 'CVE-2023-0013'}>>, <Record cve1=<Node element_id='4:de342d72-e7ff-4d5b-9a28-99eaa381965b:5' labels=frozenset({'CVE'}) properties={'assigner': 'cna@sap.com', 'id': 'CVE-2023-0017'}> cve2=<Node element_id='4:de342d72-e7ff-4d5b-9a28-99eaa381965b:8' labels=frozenset({'CVE'}) properties={'assigner': 'cna@sap.com', 'id': 'CVE-2023-0023'}> Entities=<Node element_id='4:de342d72-e7ff-4d5b-9a28-99eaa381965b:1' labels=frozenset({'CVE'}) properties={'assigner': 'cna@sap.com', 'id': 'CVE-2023-0013'}>>, <Record cve1=<Node element_id='4:de342d72-e7ff-4d5b-9a28-99eaa381965b:5' labels=frozenset({'CVE'}) properties={'assigner': 'cna@sap.com', 'id': 'CVE-2023-0017'}> cve2=<Node element_id='4:de342d72-e7ff-4d5b-9a28-99eaa381965b:8' labels=frozenset({'CVE'}) properties={'assigner': 'cna@sap.com', 'id': 'CVE-2023-0023'}> Entities=<Node element_id='4:de342d72-e7ff-4d5b-9a28-99eaa381965b:6' labels=frozenset({'CVE'}) properties={'assigner': 'cna@sap.com', 'id': 'CVE-2023-0018'}>>, <Record cve1=<Node element_id='4:de342d72-e7ff-4d5b-9a28-99eaa381965b:5' labels=frozenset({'CVE'}) properties={'assigner': 'cna@sap.com', 'id': 'CVE-2023-0017'}> cve2=<Node element_id='4:de342d72-e7ff-4d5b-9a28-99eaa381965b:8' labels=frozenset({'CVE'}) properties={'assigner': 'cna@sap.com', 'id': 'CVE-2023-0023'}> Entities=<Node element_id='4:de342d72-e7ff-4d5b-9a28-99eaa381965b:6' labels=frozenset({'CVE'}) properties={'assigner': 'cna@sap.com', 'id': 'CVE-2023-0018'}>>, <Record cve1=<Node element_id='4:de342d72-e7ff-4d5b-9a28-99eaa381965b:5' labels=frozenset({'CVE'}) properties={'assigner': 'cna@sap.com', 'id': 'CVE-2023-0017'}> cve2=<Node element_id='4:de342d72-e7ff-4d5b-9a28-99eaa381965b:8' labels=frozenset({'CVE'}) properties={'assigner': 'cna@sap.com', 'id': 'CVE-2023-0023'}> Entities=<Node element_id='4:de342d72-e7ff-4d5b-9a28-99eaa381965b:9' labels=frozenset({'CVE'}) properties={'assigner': 'security@huntr.dev', 'id': 'CVE-2023-0028'}>>, <Record cve1=<Node element_id='4:de342d72-e7ff-4d5b-9a28-99eaa381965b:5' labels=frozenset({'CVE'}) properties={'assigner': 'cna@sap.com', 'id': 'CVE-2023-0017'}> cve2=<Node element_id='4:de342d72-e7ff-4d5b-9a28-99eaa381965b:8' labels=frozenset({'CVE'}) properties={'assigner': 'cna@sap.com', 'id': 'CVE-2023-0023'}> Entities=<Node element_id='4:de342d72-e7ff-4d5b-9a28-99eaa381965b:9' labels=frozenset({'CVE'}) properties={'assigner': 'security@huntr.dev', 'id': 'CVE-2023-0028'}>>, <Record cve1=<Node element_id='4:de342d72-e7ff-4d5b-9a28-99eaa381965b:5' labels=frozenset({'CVE'}) properties={'assigner': 'cna@sap.com', 'id': 'CVE-2023-0017'}> cve2=<Node element_id='4:de342d72-e7ff-4d5b-9a28-99eaa381965b:8' labels=frozenset({'CVE'}) properties={'assigner': 'cna@sap.com', 'id': 'CVE-2023-0023'}> Entities=<Node element_id='4:de342d72-e7ff-4d5b-9a28-99eaa381965b:3' labels=frozenset({'CVE'}) properties={'assigner': 'cna@sap.com', 'id': 'CVE-2023-0015'}>>, <Record cve1=<Node element_id='4:de342d72-e7ff-4d5b-9a28-99eaa381965b:5' labels=frozenset({'CVE'}) properties={'assigner': 'cna@sap.com', 'id': 'CVE-2023-0017'}> cve2=<Node element_id='4:de342d72-e7ff-4d5b-9a28-99eaa381965b:8' labels=frozenset({'CVE'}) properties={'assigner': 'cna@sap.com', 'id': 'CVE-2023-0023'}> Entities=<Node element_id='4:de342d72-e7ff-4d5b-9a28-99eaa381965b:3' labels=frozenset({'CVE'}) properties={'assigner': 'cna@sap.com', 'id': 'CVE-2023-0015'}>>, <Record cve1=<Node element_id='4:de342d72-e7ff-4d5b-9a28-99eaa381965b:5' labels=frozenset({'CVE'}) properties={'assigner': 'cna@sap.com', 'id': 'CVE-2023-0017'}> cve2=<Node element_id='4:de342d72-e7ff-4d5b-9a28-99eaa381965b:8' labels=frozenset({'CVE'}) properties={'assigner': 'cna@sap.com', 'id': 'CVE-2023-0023'}> Entities=<Node element_id='4:de342d72-e7ff-4d5b-9a28-99eaa381965b:1' labels=frozenset({'CVE'}) properties={'assigner': 'cna@sap.com', 'id': 'CVE-2023-0013'}>>, <Record cve1=<Node element_id='4:de342d72-e7ff-4d5b-9a28-99eaa381965b:5' labels=frozenset({'CVE'}) properties={'assigner': 'cna@sap.com', 'id': 'CVE-2023-0017'}> cve2=<Node element_id='4:de342d72-e7ff-4d5b-9a28-99eaa381965b:8' labels=frozenset({'CVE'}) properties={'assigner': 'cna@sap.com', 'id': 'CVE-2023-0023'}> Entities=<Node element_id='4:de342d72-e7ff-4d5b-9a28-99eaa381965b:1' labels=frozenset({'CVE'}) properties={'assigner': 'cna@sap.com', 'id': 'CVE-2023-0013'}>>, <Record cve1=<Node element_id='4:de342d72-e7ff-4d5b-9a28-99eaa381965b:5' labels=frozenset({'CVE'}) properties={'assigner': 'cna@sap.com', 'id': 'CVE-2023-0017'}> cve2=<Node element_id='4:de342d72-e7ff-4d5b-9a28-99eaa381965b:8' labels=frozenset({'CVE'}) properties={'assigner': 'cna@sap.com', 'id': 'CVE-2023-0023'}> Entities=<Node element_id='4:de342d72-e7ff-4d5b-9a28-99eaa381965b:6' labels=frozenset({'CVE'}) properties={'assigner': 'cna@sap.com', 'id': 'CVE-2023-0018'}>>, <Record cve1=<Node element_id='4:de342d72-e7ff-4d5b-9a28-99eaa381965b:5' labels=frozenset({'CVE'}) properties={'assigner': 'cna@sap.com', 'id': 'CVE-2023-0017'}> cve2=<Node element_id='4:de342d72-e7ff-4d5b-9a28-99eaa381965b:8' labels=frozenset({'CVE'}) properties={'assigner': 'cna@sap.com', 'id': 'CVE-2023-0023'}> Entities=<Node element_id='4:de342d72-e7ff-4d5b-9a28-99eaa381965b:6' labels=frozenset({'CVE'}) properties={'assigner': 'cna@sap.com', 'id': 'CVE-2023-0018'}>>, <Record cve1=<Node element_id='4:de342d72-e7ff-4d5b-9a28-99eaa381965b:5' labels=frozenset({'CVE'}) properties={'assigner': 'cna@sap.com', 'id': 'CVE-2023-0017'}> cve2=<Node element_id='4:de342d72-e7ff-4d5b-9a28-99eaa381965b:8' labels=frozenset({'CVE'}) properties={'assigner': 'cna@sap.com', 'id': 'CVE-2023-0023'}> Entities=<Node element_id='4:de342d72-e7ff-4d5b-9a28-99eaa381965b:6' labels=frozenset({'CVE'}) properties={'assigner': 'cna@sap.com', 'id': 'CVE-2023-0018'}>>, <Record cve1=<Node element_id='4:de342d72-e7ff-4d5b-9a28-99eaa381965b:5' labels=frozenset({'CVE'}) properties={'assigner': 'cna@sap.com', 'id': 'CVE-2023-0017'}> cve2=<Node element_id='4:de342d72-e7ff-4d5b-9a28-99eaa381965b:8' labels=frozenset({'CVE'}) properties={'assigner': 'cna@sap.com', 'id': 'CVE-2023-0023'}> Entities=<Node element_id='4:de342d72-e7ff-4d5b-9a28-99eaa381965b:9' labels=frozenset({'CVE'}) properties={'assigner': 'security@huntr.dev', 'id': 'CVE-2023-0028'}>>, <Record cve1=<Node element_id='4:de342d72-e7ff-4d5b-9a28-99eaa381965b:5' labels=frozenset({'CVE'}) properties={'assigner': 'cna@sap.com', 'id': 'CVE-2023-0017'}> cve2=<Node element_id='4:de342d72-e7ff-4d5b-9a28-99eaa381965b:8' labels=frozenset({'CVE'}) properties={'assigner': 'cna@sap.com', 'id': 'CVE-2023-0023'}> Entities=<Node element_id='4:de342d72-e7ff-4d5b-9a28-99eaa381965b:9' labels=frozenset({'CVE'}) properties={'assigner': 'security@huntr.dev', 'id': 'CVE-2023-0028'}>>, <Record cve1=<Node element_id='4:de342d72-e7ff-4d5b-9a28-99eaa381965b:5' labels=frozenset({'CVE'}) properties={'assigner': 'cna@sap.com', 'id': 'CVE-2023-0017'}> cve2=<Node element_id='4:de342d72-e7ff-4d5b-9a28-99eaa381965b:8' labels=frozenset({'CVE'}) properties={'assigner': 'cna@sap.com', 'id': 'CVE-2023-0023'}> Entities=<Node element_id='4:de342d72-e7ff-4d5b-9a28-99eaa381965b:9' labels=frozenset({'CVE'}) properties={'assigner': 'security@huntr.dev', 'id': 'CVE-2023-0028'}>>, <Record cve1=<Node element_id='4:de342d72-e7ff-4d5b-9a28-99eaa381965b:5' labels=frozenset({'CVE'}) properties={'assigner': 'cna@sap.com', 'id': 'CVE-2023-0017'}> cve2=<Node element_id='4:de342d72-e7ff-4d5b-9a28-99eaa381965b:8' labels=frozenset({'CVE'}) properties={'assigner': 'cna@sap.com', 'id': 'CVE-2023-0023'}> Entities=<Node element_id='4:de342d72-e7ff-4d5b-9a28-99eaa381965b:3' labels=frozenset({'CVE'}) properties={'assigner': 'cna@sap.com', 'id': 'CVE-2023-0015'}>>, <Record cve1=<Node element_id='4:de342d72-e7ff-4d5b-9a28-99eaa381965b:5' labels=frozenset({'CVE'}) properties={'assigner': 'cna@sap.com', 'id': 'CVE-2023-0017'}> cve2=<Node element_id='4:de342d72-e7ff-4d5b-9a28-99eaa381965b:8' labels=frozenset({'CVE'}) properties={'assigner': 'cna@sap.com', 'id': 'CVE-2023-0023'}> Entities=<Node element_id='4:de342d72-e7ff-4d5b-9a28-99eaa381965b:3' labels=frozenset({'CVE'}) properties={'assigner': 'cna@sap.com', 'id': 'CVE-2023-0015'}>>, <Record cve1=<Node element_id='4:de342d72-e7ff-4d5b-9a28-99eaa381965b:5' labels=frozenset({'CVE'}) properties={'assigner': 'cna@sap.com', 'id': 'CVE-2023-0017'}> cve2=<Node element_id='4:de342d72-e7ff-4d5b-9a28-99eaa381965b:8' labels=frozenset({'CVE'}) properties={'assigner': 'cna@sap.com', 'id': 'CVE-2023-0023'}> Entities=<Node element_id='4:de342d72-e7ff-4d5b-9a28-99eaa381965b:3' labels=frozenset({'CVE'}) properties={'assigner': 'cna@sap.com', 'id': 'CVE-2023-0015'}>>, <Record cve1=<Node element_id='4:de342d72-e7ff-4d5b-9a28-99eaa381965b:5' labels=frozenset({'CVE'}) properties={'assigner': 'cna@sap.com', 'id': 'CVE-2023-0017'}> cve2=<Node element_id='4:de342d72-e7ff-4d5b-9a28-99eaa381965b:8' labels=frozenset({'CVE'}) properties={'assigner': 'cna@sap.com', 'id': 'CVE-2023-0023'}> Entities=<Node element_id='4:de342d72-e7ff-4d5b-9a28-99eaa381965b:1' labels=frozenset({'CVE'}) properties={'assigner': 'cna@sap.com', 'id': 'CVE-2023-0013'}>>, <Record cve1=<Node element_id='4:de342d72-e7ff-4d5b-9a28-99eaa381965b:5' labels=frozenset({'CVE'}) properties={'assigner': 'cna@sap.com', 'id': 'CVE-2023-0017'}> cve2=<Node element_id='4:de342d72-e7ff-4d5b-9a28-99eaa381965b:8' labels=frozenset({'CVE'}) properties={'assigner': 'cna@sap.com', 'id': 'CVE-2023-0023'}> Entities=<Node element_id='4:de342d72-e7ff-4d5b-9a28-99eaa381965b:1' labels=frozenset({'CVE'}) properties={'assigner': 'cna@sap.com', 'id': 'CVE-2023-0013'}>>, <Record cve1=<Node element_id='4:de342d72-e7ff-4d5b-9a28-99eaa381965b:5' labels=frozenset({'CVE'}) properties={'assigner': 'cna@sap.com', 'id': 'CVE-2023-0017'}> cve2=<Node element_id='4:de342d72-e7ff-4d5b-9a28-99eaa381965b:8' labels=frozenset({'CVE'}) properties={'assigner': 'cna@sap.com', 'id': 'CVE-2023-0023'}> Entities=<Node element_id='4:de342d72-e7ff-4d5b-9a28-99eaa381965b:1' labels=frozenset({'CVE'}) properties={'assigner': 'cna@sap.com', 'id': 'CVE-2023-0013'}>>, <Record cve1=<Node element_id='4:de342d72-e7ff-4d5b-9a28-99eaa381965b:5' labels=frozenset({'CVE'}) properties={'assigner': 'cna@sap.com', 'id': 'CVE-2023-0017'}> cve2=<Node element_id='4:de342d72-e7ff-4d5b-9a28-99eaa381965b:8' labels=frozenset({'CVE'}) properties={'assigner': 'cna@sap.com', 'id': 'CVE-2023-0023'}> Entities=<Node element_id='4:de342d72-e7ff-4d5b-9a28-99eaa381965b:6' labels=frozenset({'CVE'}) properties={'assigner': 'cna@sap.com', 'id': 'CVE-2023-0018'}>>, <Record cve1=<Node element_id='4:de342d72-e7ff-4d5b-9a28-99eaa381965b:5' labels=frozenset({'CVE'}) properties={'assigner': 'cna@sap.com', 'id': 'CVE-2023-0017'}> cve2=<Node element_id='4:de342d72-e7ff-4d5b-9a28-99eaa381965b:8' labels=frozenset({'CVE'}) properties={'assigner': 'cna@sap.com', 'id': 'CVE-2023-0023'}> Entities=<Node element_id='4:de342d72-e7ff-4d5b-9a28-99eaa381965b:6' labels=frozenset({'CVE'}) properties={'assigner': 'cna@sap.com', 'id': 'CVE-2023-0018'}>>, <Record cve1=<Node element_id='4:de342d72-e7ff-4d5b-9a28-99eaa381965b:5' labels=frozenset({'CVE'}) properties={'assigner': 'cna@sap.com', 'id': 'CVE-2023-0017'}> cve2=<Node element_id='4:de342d72-e7ff-4d5b-9a28-99eaa381965b:8' labels=frozenset({'CVE'}) properties={'assigner': 'cna@sap.com', 'id': 'CVE-2023-0023'}> Entities=<Node element_id='4:de342d72-e7ff-4d5b-9a28-99eaa381965b:6' labels=frozenset({'CVE'}) properties={'assigner': 'cna@sap.com', 'id': 'CVE-2023-0018'}>>, <Record cve1=<Node element_id='4:de342d72-e7ff-4d5b-9a28-99eaa381965b:5' labels=frozenset({'CVE'}) properties={'assigner': 'cna@sap.com', 'id': 'CVE-2023-0017'}> cve2=<Node element_id='4:de342d72-e7ff-4d5b-9a28-99eaa381965b:8' labels=frozenset({'CVE'}) properties={'assigner': 'cna@sap.com', 'id': 'CVE-2023-0023'}> Entities=<Node element_id='4:de342d72-e7ff-4d5b-9a28-99eaa381965b:9' labels=frozenset({'CVE'}) properties={'assigner': 'security@huntr.dev', 'id': 'CVE-2023-0028'}>>, <Record cve1=<Node element_id='4:de342d72-e7ff-4d5b-9a28-99eaa381965b:5' labels=frozenset({'CVE'}) properties={'assigner': 'cna@sap.com', 'id': 'CVE-2023-0017'}> cve2=<Node element_id='4:de342d72-e7ff-4d5b-9a28-99eaa381965b:8' labels=frozenset({'CVE'}) properties={'assigner': 'cna@sap.com', 'id': 'CVE-2023-0023'}> Entities=<Node element_id='4:de342d72-e7ff-4d5b-9a28-99eaa381965b:9' labels=frozenset({'CVE'}) properties={'assigner': 'security@huntr.dev', 'id': 'CVE-2023-0028'}>>, <Record cve1=<Node element_id='4:de342d72-e7ff-4d5b-9a28-99eaa381965b:5' labels=frozenset({'CVE'}) properties={'assigner': 'cna@sap.com', 'id': 'CVE-2023-0017'}> cve2=<Node element_id='4:de342d72-e7ff-4d5b-9a28-99eaa381965b:8' labels=frozenset({'CVE'}) properties={'assigner': 'cna@sap.com', 'id': 'CVE-2023-0023'}> Entities=<Node element_id='4:de342d72-e7ff-4d5b-9a28-99eaa381965b:9' labels=frozenset({'CVE'}) properties={'assigner': 'security@huntr.dev', 'id': 'CVE-2023-0028'}>>, <Record cve1=<Node element_id='4:de342d72-e7ff-4d5b-9a28-99eaa381965b:5' labels=frozenset({'CVE'}) properties={'assigner': 'cna@sap.com', 'id': 'CVE-2023-0017'}> cve2=<Node element_id='4:de342d72-e7ff-4d5b-9a28-99eaa381965b:8' labels=frozenset({'CVE'}) properties={'assigner': 'cna@sap.com', 'id': 'CVE-2023-0023'}> Entities=<Node element_id='4:de342d72-e7ff-4d5b-9a28-99eaa381965b:3' labels=frozenset({'CVE'}) properties={'assigner': 'cna@sap.com', 'id': 'CVE-2023-0015'}>>, <Record cve1=<Node element_id='4:de342d72-e7ff-4d5b-9a28-99eaa381965b:5' labels=frozenset({'CVE'}) properties={'assigner': 'cna@sap.com', 'id': 'CVE-2023-0017'}> cve2=<Node element_id='4:de342d72-e7ff-4d5b-9a28-99eaa381965b:8' labels=frozenset({'CVE'}) properties={'assigner': 'cna@sap.com', 'id': 'CVE-2023-0023'}> Entities=<Node element_id='4:de342d72-e7ff-4d5b-9a28-99eaa381965b:3' labels=frozenset({'CVE'}) properties={'assigner': 'cna@sap.com', 'id': 'CVE-2023-0015'}>>, <Record cve1=<Node element_id='4:de342d72-e7ff-4d5b-9a28-99eaa381965b:5' labels=frozenset({'CVE'}) properties={'assigner': 'cna@sap.com', 'id': 'CVE-2023-0017'}> cve2=<Node element_id='4:de342d72-e7ff-4d5b-9a28-99eaa381965b:8' labels=frozenset({'CVE'}) properties={'assigner': 'cna@sap.com', 'id': 'CVE-2023-0023'}> Entities=<Node element_id='4:de342d72-e7ff-4d5b-9a28-99eaa381965b:3' labels=frozenset({'CVE'}) properties={'assigner': 'cna@sap.com', 'id': 'CVE-2023-0015'}>>, <Record cve1=<Node element_id='4:de342d72-e7ff-4d5b-9a28-99eaa381965b:5' labels=frozenset({'CVE'}) properties={'assigner': 'cna@sap.com', 'id': 'CVE-2023-0017'}> cve2=<Node element_id='4:de342d72-e7ff-4d5b-9a28-99eaa381965b:8' labels=frozenset({'CVE'}) properties={'assigner': 'cna@sap.com', 'id': 'CVE-2023-0023'}> Entities=<Node element_id='4:de342d72-e7ff-4d5b-9a28-99eaa381965b:1' labels=frozenset({'CVE'}) properties={'assigner': 'cna@sap.com', 'id': 'CVE-2023-0013'}>>, <Record cve1=<Node element_id='4:de342d72-e7ff-4d5b-9a28-99eaa381965b:5' labels=frozenset({'CVE'}) properties={'assigner': 'cna@sap.com', 'id': 'CVE-2023-0017'}> cve2=<Node element_id='4:de342d72-e7ff-4d5b-9a28-99eaa381965b:8' labels=frozenset({'CVE'}) properties={'assigner': 'cna@sap.com', 'id': 'CVE-2023-0023'}> Entities=<Node element_id='4:de342d72-e7ff-4d5b-9a28-99eaa381965b:1' labels=frozenset({'CVE'}) properties={'assigner': 'cna@sap.com', 'id': 'CVE-2023-0013'}>>, <Record cve1=<Node element_id='4:de342d72-e7ff-4d5b-9a28-99eaa381965b:5' labels=frozenset({'CVE'}) properties={'assigner': 'cna@sap.com', 'id': 'CVE-2023-0017'}> cve2=<Node element_id='4:de342d72-e7ff-4d5b-9a28-99eaa381965b:8' labels=frozenset({'CVE'}) properties={'assigner': 'cna@sap.com', 'id': 'CVE-2023-0023'}> Entities=<Node element_id='4:de342d72-e7ff-4d5b-9a28-99eaa381965b:1' labels=frozenset({'CVE'}) properties={'assigner': 'cna@sap.com', 'id': 'CVE-2023-0013'}>>, <Record cve1=<Node element_id='4:de342d72-e7ff-4d5b-9a28-99eaa381965b:5' labels=frozenset({'CVE'}) properties={'assigner': 'cna@sap.com', 'id': 'CVE-2023-0017'}> cve2=<Node element_id='4:de342d72-e7ff-4d5b-9a28-99eaa381965b:8' labels=frozenset({'CVE'}) properties={'assigner': 'cna@sap.com', 'id': 'CVE-2023-0023'}> Entities=<Node element_id='4:de342d72-e7ff-4d5b-9a28-99eaa381965b:6' labels=frozenset({'CVE'}) properties={'assigner': 'cna@sap.com', 'id': 'CVE-2023-0018'}>>, <Record cve1=<Node element_id='4:de342d72-e7ff-4d5b-9a28-99eaa381965b:5' labels=frozenset({'CVE'}) properties={'assigner': 'cna@sap.com', 'id': 'CVE-2023-0017'}> cve2=<Node element_id='4:de342d72-e7ff-4d5b-9a28-99eaa381965b:8' labels=frozenset({'CVE'}) properties={'assigner': 'cna@sap.com', 'id': 'CVE-2023-0023'}> Entities=<Node element_id='4:de342d72-e7ff-4d5b-9a28-99eaa381965b:6' labels=frozenset({'CVE'}) properties={'assigner': 'cna@sap.com', 'id': 'CVE-2023-0018'}>>, <Record cve1=<Node element_id='4:de342d72-e7ff-4d5b-9a28-99eaa381965b:5' labels=frozenset({'CVE'}) properties={'assigner': 'cna@sap.com', 'id': 'CVE-2023-0017'}> cve2=<Node element_id='4:de342d72-e7ff-4d5b-9a28-99eaa381965b:8' labels=frozenset({'CVE'}) properties={'assigner': 'cna@sap.com', 'id': 'CVE-2023-0023'}> Entities=<Node element_id='4:de342d72-e7ff-4d5b-9a28-99eaa381965b:9' labels=frozenset({'CVE'}) properties={'assigner': 'security@huntr.dev', 'id': 'CVE-2023-0028'}>>, <Record cve1=<Node element_id='4:de342d72-e7ff-4d5b-9a28-99eaa381965b:5' labels=frozenset({'CVE'}) properties={'assigner': 'cna@sap.com', 'id': 'CVE-2023-0017'}> cve2=<Node element_id='4:de342d72-e7ff-4d5b-9a28-99eaa381965b:8' labels=frozenset({'CVE'}) properties={'assigner': 'cna@sap.com', 'id': 'CVE-2023-0023'}> Entities=<Node element_id='4:de342d72-e7ff-4d5b-9a28-99eaa381965b:9' labels=frozenset({'CVE'}) properties={'assigner': 'security@huntr.dev', 'id': 'CVE-2023-0028'}>>, <Record cve1=<Node element_id='4:de342d72-e7ff-4d5b-9a28-99eaa381965b:5' labels=frozenset({'CVE'}) properties={'assigner': 'cna@sap.com', 'id': 'CVE-2023-0017'}> cve2=<Node element_id='4:de342d72-e7ff-4d5b-9a28-99eaa381965b:8' labels=frozenset({'CVE'}) properties={'assigner': 'cna@sap.com', 'id': 'CVE-2023-0023'}> Entities=<Node element_id='4:de342d72-e7ff-4d5b-9a28-99eaa381965b:3' labels=frozenset({'CVE'}) properties={'assigner': 'cna@sap.com', 'id': 'CVE-2023-0015'}>>, <Record cve1=<Node element_id='4:de342d72-e7ff-4d5b-9a28-99eaa381965b:5' labels=frozenset({'CVE'}) properties={'assigner': 'cna@sap.com', 'id': 'CVE-2023-0017'}> cve2=<Node element_id='4:de342d72-e7ff-4d5b-9a28-99eaa381965b:8' labels=frozenset({'CVE'}) properties={'assigner': 'cna@sap.com', 'id': 'CVE-2023-0023'}> Entities=<Node element_id='4:de342d72-e7ff-4d5b-9a28-99eaa381965b:3' labels=frozenset({'CVE'}) properties={'assigner': 'cna@sap.com', 'id': 'CVE-2023-0015'}>>, <Record cve1=<Node element_id='4:de342d72-e7ff-4d5b-9a28-99eaa381965b:5' labels=frozenset({'CVE'}) properties={'assigner': 'cna@sap.com', 'id': 'CVE-2023-0017'}> cve2=<Node element_id='4:de342d72-e7ff-4d5b-9a28-99eaa381965b:8' labels=frozenset({'CVE'}) properties={'assigner': 'cna@sap.com', 'id': 'CVE-2023-0023'}> Entities=<Node element_id='4:de342d72-e7ff-4d5b-9a28-99eaa381965b:1' labels=frozenset({'CVE'}) properties={'assigner': 'cna@sap.com', 'id': 'CVE-2023-0013'}>>, <Record cve1=<Node element_id='4:de342d72-e7ff-4d5b-9a28-99eaa381965b:5' labels=frozenset({'CVE'}) properties={'assigner': 'cna@sap.com', 'id': 'CVE-2023-0017'}> cve2=<Node element_id='4:de342d72-e7ff-4d5b-9a28-99eaa381965b:8' labels=frozenset({'CVE'}) properties={'assigner': 'cna@sap.com', 'id': 'CVE-2023-0023'}> Entities=<Node element_id='4:de342d72-e7ff-4d5b-9a28-99eaa381965b:1' labels=frozenset({'CVE'}) properties={'assigner': 'cna@sap.com', 'id': 'CVE-2023-0013'}>>, <Record cve1=<Node element_id='4:de342d72-e7ff-4d5b-9a28-99eaa381965b:5' labels=frozenset({'CVE'}) properties={'assigner': 'cna@sap.com', 'id': 'CVE-2023-0017'}> cve2=<Node element_id='4:de342d72-e7ff-4d5b-9a28-99eaa381965b:8' labels=frozenset({'CVE'}) properties={'assigner': 'cna@sap.com', 'id': 'CVE-2023-0023'}> Entities=<Node element_id='4:de342d72-e7ff-4d5b-9a28-99eaa381965b:6' labels=frozenset({'CVE'}) properties={'assigner': 'cna@sap.com', 'id': 'CVE-2023-0018'}>>, <Record cve1=<Node element_id='4:de342d72-e7ff-4d5b-9a28-99eaa381965b:5' labels=frozenset({'CVE'}) properties={'assigner': 'cna@sap.com', 'id': 'CVE-2023-0017'}> cve2=<Node element_id='4:de342d72-e7ff-4d5b-9a28-99eaa381965b:8' labels=frozenset({'CVE'}) properties={'assigner': 'cna@sap.com', 'id': 'CVE-2023-0023'}> Entities=<Node element_id='4:de342d72-e7ff-4d5b-9a28-99eaa381965b:6' labels=frozenset({'CVE'}) properties={'assigner': 'cna@sap.com', 'id': 'CVE-2023-0018'}>>, <Record cve1=<Node element_id='4:de342d72-e7ff-4d5b-9a28-99eaa381965b:5' labels=frozenset({'CVE'}) properties={'assigner': 'cna@sap.com', 'id': 'CVE-2023-0017'}> cve2=<Node element_id='4:de342d72-e7ff-4d5b-9a28-99eaa381965b:8' labels=frozenset({'CVE'}) properties={'assigner': 'cna@sap.com', 'id': 'CVE-2023-0023'}> Entities=<Node element_id='4:de342d72-e7ff-4d5b-9a28-99eaa381965b:9' labels=frozenset({'CVE'}) properties={'assigner': 'security@huntr.dev', 'id': 'CVE-2023-0028'}>>, <Record cve1=<Node element_id='4:de342d72-e7ff-4d5b-9a28-99eaa381965b:5' labels=frozenset({'CVE'}) properties={'assigner': 'cna@sap.com', 'id': 'CVE-2023-0017'}> cve2=<Node element_id='4:de342d72-e7ff-4d5b-9a28-99eaa381965b:8' labels=frozenset({'CVE'}) properties={'assigner': 'cna@sap.com', 'id': 'CVE-2023-0023'}> Entities=<Node element_id='4:de342d72-e7ff-4d5b-9a28-99eaa381965b:9' labels=frozenset({'CVE'}) properties={'assigner': 'security@huntr.dev', 'id': 'CVE-2023-0028'}>>, <Record cve1=<Node element_id='4:de342d72-e7ff-4d5b-9a28-99eaa381965b:5' labels=frozenset({'CVE'}) properties={'assigner': 'cna@sap.com', 'id': 'CVE-2023-0017'}> cve2=<Node element_id='4:de342d72-e7ff-4d5b-9a28-99eaa381965b:8' labels=frozenset({'CVE'}) properties={'assigner': 'cna@sap.com', 'id': 'CVE-2023-0023'}> Entities=<Node element_id='4:de342d72-e7ff-4d5b-9a28-99eaa381965b:3' labels=frozenset({'CVE'}) properties={'assigner': 'cna@sap.com', 'id': 'CVE-2023-0015'}>>, <Record cve1=<Node element_id='4:de342d72-e7ff-4d5b-9a28-99eaa381965b:5' labels=frozenset({'CVE'}) properties={'assigner': 'cna@sap.com', 'id': 'CVE-2023-0017'}> cve2=<Node element_id='4:de342d72-e7ff-4d5b-9a28-99eaa381965b:8' labels=frozenset({'CVE'}) properties={'assigner': 'cna@sap.com', 'id': 'CVE-2023-0023'}> Entities=<Node element_id='4:de342d72-e7ff-4d5b-9a28-99eaa381965b:3' labels=frozenset({'CVE'}) properties={'assigner': 'cna@sap.com', 'id': 'CVE-2023-0015'}>>, <Record cve1=<Node element_id='4:de342d72-e7ff-4d5b-9a28-99eaa381965b:5' labels=frozenset({'CVE'}) properties={'assigner': 'cna@sap.com', 'id': 'CVE-2023-0017'}> cve2=<Node element_id='4:de342d72-e7ff-4d5b-9a28-99eaa381965b:8' labels=frozenset({'CVE'}) properties={'assigner': 'cna@sap.com', 'id': 'CVE-2023-0023'}> Entities=<Node element_id='4:de342d72-e7ff-4d5b-9a28-99eaa381965b:1' labels=frozenset({'CVE'}) properties={'assigner': 'cna@sap.com', 'id': 'CVE-2023-0013'}>>, <Record cve1=<Node element_id='4:de342d72-e7ff-4d5b-9a28-99eaa381965b:5' labels=frozenset({'CVE'}) properties={'assigner': 'cna@sap.com', 'id': 'CVE-2023-0017'}> cve2=<Node element_id='4:de342d72-e7ff-4d5b-9a28-99eaa381965b:8' labels=frozenset({'CVE'}) properties={'assigner': 'cna@sap.com', 'id': 'CVE-2023-0023'}> Entities=<Node element_id='4:de342d72-e7ff-4d5b-9a28-99eaa381965b:1' labels=frozenset({'CVE'}) properties={'assigner': 'cna@sap.com', 'id': 'CVE-2023-0013'}>>, <Record cve1=<Node element_id='4:de342d72-e7ff-4d5b-9a28-99eaa381965b:5' labels=frozenset({'CVE'}) properties={'assigner': 'cna@sap.com', 'id': 'CVE-2023-0017'}> cve2=<Node element_id='4:de342d72-e7ff-4d5b-9a28-99eaa381965b:8' labels=frozenset({'CVE'}) properties={'assigner': 'cna@sap.com', 'id': 'CVE-2023-0023'}> Entities=<Node element_id='4:de342d72-e7ff-4d5b-9a28-99eaa381965b:6' labels=frozenset({'CVE'}) properties={'assigner': 'cna@sap.com', 'id': 'CVE-2023-0018'}>>, <Record cve1=<Node element_id='4:de342d72-e7ff-4d5b-9a28-99eaa381965b:5' labels=frozenset({'CVE'}) properties={'assigner': 'cna@sap.com', 'id': 'CVE-2023-0017'}> cve2=<Node element_id='4:de342d72-e7ff-4d5b-9a28-99eaa381965b:8' labels=frozenset({'CVE'}) properties={'assigner': 'cna@sap.com', 'id': 'CVE-2023-0023'}> Entities=<Node element_id='4:de342d72-e7ff-4d5b-9a28-99eaa381965b:6' labels=frozenset({'CVE'}) properties={'assigner': 'cna@sap.com', 'id': 'CVE-2023-0018'}>>, <Record cve1=<Node element_id='4:de342d72-e7ff-4d5b-9a28-99eaa381965b:5' labels=frozenset({'CVE'}) properties={'assigner': 'cna@sap.com', 'id': 'CVE-2023-0017'}> cve2=<Node element_id='4:de342d72-e7ff-4d5b-9a28-99eaa381965b:8' labels=frozenset({'CVE'}) properties={'assigner': 'cna@sap.com', 'id': 'CVE-2023-0023'}> Entities=<Node element_id='4:de342d72-e7ff-4d5b-9a28-99eaa381965b:9' labels=frozenset({'CVE'}) properties={'assigner': 'security@huntr.dev', 'id': 'CVE-2023-0028'}>>, <Record cve1=<Node element_id='4:de342d72-e7ff-4d5b-9a28-99eaa381965b:5' labels=frozenset({'CVE'}) properties={'assigner': 'cna@sap.com', 'id': 'CVE-2023-0017'}> cve2=<Node element_id='4:de342d72-e7ff-4d5b-9a28-99eaa381965b:8' labels=frozenset({'CVE'}) properties={'assigner': 'cna@sap.com', 'id': 'CVE-2023-0023'}> Entities=<Node element_id='4:de342d72-e7ff-4d5b-9a28-99eaa381965b:9' labels=frozenset({'CVE'}) properties={'assigner': 'security@huntr.dev', 'id': 'CVE-2023-0028'}>>, <Record cve1=<Node element_id='4:de342d72-e7ff-4d5b-9a28-99eaa381965b:5' labels=frozenset({'CVE'}) properties={'assigner': 'cna@sap.com', 'id': 'CVE-2023-0017'}> cve2=<Node element_id='4:de342d72-e7ff-4d5b-9a28-99eaa381965b:8' labels=frozenset({'CVE'}) properties={'assigner': 'cna@sap.com', 'id': 'CVE-2023-0023'}> Entities=<Node element_id='4:de342d72-e7ff-4d5b-9a28-99eaa381965b:3' labels=frozenset({'CVE'}) properties={'assigner': 'cna@sap.com', 'id': 'CVE-2023-0015'}>>, <Record cve1=<Node element_id='4:de342d72-e7ff-4d5b-9a28-99eaa381965b:5' labels=frozenset({'CVE'}) properties={'assigner': 'cna@sap.com', 'id': 'CVE-2023-0017'}> cve2=<Node element_id='4:de342d72-e7ff-4d5b-9a28-99eaa381965b:8' labels=frozenset({'CVE'}) properties={'assigner': 'cna@sap.com', 'id': 'CVE-2023-0023'}> Entities=<Node element_id='4:de342d72-e7ff-4d5b-9a28-99eaa381965b:3' labels=frozenset({'CVE'}) properties={'assigner': 'cna@sap.com', 'id': 'CVE-2023-0015'}>>, <Record cve1=<Node element_id='4:de342d72-e7ff-4d5b-9a28-99eaa381965b:5' labels=frozenset({'CVE'}) properties={'assigner': 'cna@sap.com', 'id': 'CVE-2023-0017'}> cve2=<Node element_id='4:de342d72-e7ff-4d5b-9a28-99eaa381965b:8' labels=frozenset({'CVE'}) properties={'assigner': 'cna@sap.com', 'id': 'CVE-2023-0023'}> Entities=<Node element_id='4:de342d72-e7ff-4d5b-9a28-99eaa381965b:1' labels=frozenset({'CVE'}) properties={'assigner': 'cna@sap.com', 'id': 'CVE-2023-0013'}>>, <Record cve1=<Node element_id='4:de342d72-e7ff-4d5b-9a28-99eaa381965b:5' labels=frozenset({'CVE'}) properties={'assigner': 'cna@sap.com', 'id': 'CVE-2023-0017'}> cve2=<Node element_id='4:de342d72-e7ff-4d5b-9a28-99eaa381965b:8' labels=frozenset({'CVE'}) properties={'assigner': 'cna@sap.com', 'id': 'CVE-2023-0023'}> Entities=<Node element_id='4:de342d72-e7ff-4d5b-9a28-99eaa381965b:1' labels=frozenset({'CVE'}) properties={'assigner': 'cna@sap.com', 'id': 'CVE-2023-0013'}>>, <Record cve1=<Node element_id='4:de342d72-e7ff-4d5b-9a28-99eaa381965b:5' labels=frozenset({'CVE'}) properties={'assigner': 'cna@sap.com', 'id': 'CVE-2023-0017'}> cve2=<Node element_id='4:de342d72-e7ff-4d5b-9a28-99eaa381965b:8' labels=frozenset({'CVE'}) properties={'assigner': 'cna@sap.com', 'id': 'CVE-2023-0023'}> Entities=<Node element_id='4:de342d72-e7ff-4d5b-9a28-99eaa381965b:6' labels=frozenset({'CVE'}) properties={'assigner': 'cna@sap.com', 'id': 'CVE-2023-0018'}>>, <Record cve1=<Node element_id='4:de342d72-e7ff-4d5b-9a28-99eaa381965b:5' labels=frozenset({'CVE'}) properties={'assigner': 'cna@sap.com', 'id': 'CVE-2023-0017'}> cve2=<Node element_id='4:de342d72-e7ff-4d5b-9a28-99eaa381965b:8' labels=frozenset({'CVE'}) properties={'assigner': 'cna@sap.com', 'id': 'CVE-2023-0023'}> Entities=<Node element_id='4:de342d72-e7ff-4d5b-9a28-99eaa381965b:6' labels=frozenset({'CVE'}) properties={'assigner': 'cna@sap.com', 'id': 'CVE-2023-0018'}>>, <Record cve1=<Node element_id='4:de342d72-e7ff-4d5b-9a28-99eaa381965b:5' labels=frozenset({'CVE'}) properties={'assigner': 'cna@sap.com', 'id': 'CVE-2023-0017'}> cve2=<Node element_id='4:de342d72-e7ff-4d5b-9a28-99eaa381965b:8' labels=frozenset({'CVE'}) properties={'assigner': 'cna@sap.com', 'id': 'CVE-2023-0023'}> Entities=<Node element_id='4:de342d72-e7ff-4d5b-9a28-99eaa381965b:9' labels=frozenset({'CVE'}) properties={'assigner': 'security@huntr.dev', 'id': 'CVE-2023-0028'}>>, <Record cve1=<Node element_id='4:de342d72-e7ff-4d5b-9a28-99eaa381965b:5' labels=frozenset({'CVE'}) properties={'assigner': 'cna@sap.com', 'id': 'CVE-2023-0017'}> cve2=<Node element_id='4:de342d72-e7ff-4d5b-9a28-99eaa381965b:8' labels=frozenset({'CVE'}) properties={'assigner': 'cna@sap.com', 'id': 'CVE-2023-0023'}> Entities=<Node element_id='4:de342d72-e7ff-4d5b-9a28-99eaa381965b:9' labels=frozenset({'CVE'}) properties={'assigner': 'security@huntr.dev', 'id': 'CVE-2023-0028'}>>, <Record cve1=<Node element_id='4:de342d72-e7ff-4d5b-9a28-99eaa381965b:5' labels=frozenset({'CVE'}) properties={'assigner': 'cna@sap.com', 'id': 'CVE-2023-0017'}> cve2=<Node element_id='4:de342d72-e7ff-4d5b-9a28-99eaa381965b:8' labels=frozenset({'CVE'}) properties={'assigner': 'cna@sap.com', 'id': 'CVE-2023-0023'}> Entities=<Node element_id='4:de342d72-e7ff-4d5b-9a28-99eaa381965b:3' labels=frozenset({'CVE'}) properties={'assigner': 'cna@sap.com', 'id': 'CVE-2023-0015'}>>, <Record cve1=<Node element_id='4:de342d72-e7ff-4d5b-9a28-99eaa381965b:5' labels=frozenset({'CVE'}) properties={'assigner': 'cna@sap.com', 'id': 'CVE-2023-0017'}> cve2=<Node element_id='4:de342d72-e7ff-4d5b-9a28-99eaa381965b:8' labels=frozenset({'CVE'}) properties={'assigner': 'cna@sap.com', 'id': 'CVE-2023-0023'}> Entities=<Node element_id='4:de342d72-e7ff-4d5b-9a28-99eaa381965b:3' labels=frozenset({'CVE'}) properties={'assigner': 'cna@sap.com', 'id': 'CVE-2023-0015'}>>, <Record cve1=<Node element_id='4:de342d72-e7ff-4d5b-9a28-99eaa381965b:5' labels=frozenset({'CVE'}) properties={'assigner': 'cna@sap.com', 'id': 'CVE-2023-0017'}> cve2=<Node element_id='4:de342d72-e7ff-4d5b-9a28-99eaa381965b:8' labels=frozenset({'CVE'}) properties={'assigner': 'cna@sap.com', 'id': 'CVE-2023-0023'}> Entities=<Node element_id='4:de342d72-e7ff-4d5b-9a28-99eaa381965b:1' labels=frozenset({'CVE'}) properties={'assigner': 'cna@sap.com', 'id': 'CVE-2023-0013'}>>, <Record cve1=<Node element_id='4:de342d72-e7ff-4d5b-9a28-99eaa381965b:5' labels=frozenset({'CVE'}) properties={'assigner': 'cna@sap.com', 'id': 'CVE-2023-0017'}> cve2=<Node element_id='4:de342d72-e7ff-4d5b-9a28-99eaa381965b:8' labels=frozenset({'CVE'}) properties={'assigner': 'cna@sap.com', 'id': 'CVE-2023-0023'}> Entities=<Node element_id='4:de342d72-e7ff-4d5b-9a28-99eaa381965b:1' labels=frozenset({'CVE'}) properties={'assigner': 'cna@sap.com', 'id': 'CVE-2023-0013'}>>, <Record cve1=<Node element_id='4:de342d72-e7ff-4d5b-9a28-99eaa381965b:5' labels=frozenset({'CVE'}) properties={'assigner': 'cna@sap.com', 'id': 'CVE-2023-0017'}> cve2=<Node element_id='4:de342d72-e7ff-4d5b-9a28-99eaa381965b:8' labels=frozenset({'CVE'}) properties={'assigner': 'cna@sap.com', 'id': 'CVE-2023-0023'}> Entities=<Node element_id='4:de342d72-e7ff-4d5b-9a28-99eaa381965b:6' labels=frozenset({'CVE'}) properties={'assigner': 'cna@sap.com', 'id': 'CVE-2023-0018'}>>, <Record cve1=<Node element_id='4:de342d72-e7ff-4d5b-9a28-99eaa381965b:5' labels=frozenset({'CVE'}) properties={'assigner': 'cna@sap.com', 'id': 'CVE-2023-0017'}> cve2=<Node element_id='4:de342d72-e7ff-4d5b-9a28-99eaa381965b:8' labels=frozenset({'CVE'}) properties={'assigner': 'cna@sap.com', 'id': 'CVE-2023-0023'}> Entities=<Node element_id='4:de342d72-e7ff-4d5b-9a28-99eaa381965b:6' labels=frozenset({'CVE'}) properties={'assigner': 'cna@sap.com', 'id': 'CVE-2023-0018'}>>, <Record cve1=<Node element_id='4:de342d72-e7ff-4d5b-9a28-99eaa381965b:5' labels=frozenset({'CVE'}) properties={'assigner': 'cna@sap.com', 'id': 'CVE-2023-0017'}> cve2=<Node element_id='4:de342d72-e7ff-4d5b-9a28-99eaa381965b:8' labels=frozenset({'CVE'}) properties={'assigner': 'cna@sap.com', 'id': 'CVE-2023-0023'}> Entities=<Node element_id='4:de342d72-e7ff-4d5b-9a28-99eaa381965b:9' labels=frozenset({'CVE'}) properties={'assigner': 'security@huntr.dev', 'id': 'CVE-2023-0028'}>>, <Record cve1=<Node element_id='4:de342d72-e7ff-4d5b-9a28-99eaa381965b:5' labels=frozenset({'CVE'}) properties={'assigner': 'cna@sap.com', 'id': 'CVE-2023-0017'}> cve2=<Node element_id='4:de342d72-e7ff-4d5b-9a28-99eaa381965b:8' labels=frozenset({'CVE'}) properties={'assigner': 'cna@sap.com', 'id': 'CVE-2023-0023'}> Entities=<Node element_id='4:de342d72-e7ff-4d5b-9a28-99eaa381965b:9' labels=frozenset({'CVE'}) properties={'assigner': 'security@huntr.dev', 'id': 'CVE-2023-0028'}>>, <Record cve1=<Node element_id='4:de342d72-e7ff-4d5b-9a28-99eaa381965b:5' labels=frozenset({'CVE'}) properties={'assigner': 'cna@sap.com', 'id': 'CVE-2023-0017'}> cve2=<Node element_id='4:de342d72-e7ff-4d5b-9a28-99eaa381965b:8' labels=frozenset({'CVE'}) properties={'assigner': 'cna@sap.com', 'id': 'CVE-2023-0023'}> Entities=<Node element_id='4:de342d72-e7ff-4d5b-9a28-99eaa381965b:3' labels=frozenset({'CVE'}) properties={'assigner': 'cna@sap.com', 'id': 'CVE-2023-0015'}>>, <Record cve1=<Node element_id='4:de342d72-e7ff-4d5b-9a28-99eaa381965b:5' labels=frozenset({'CVE'}) properties={'assigner': 'cna@sap.com', 'id': 'CVE-2023-0017'}> cve2=<Node element_id='4:de342d72-e7ff-4d5b-9a28-99eaa381965b:8' labels=frozenset({'CVE'}) properties={'assigner': 'cna@sap.com', 'id': 'CVE-2023-0023'}> Entities=<Node element_id='4:de342d72-e7ff-4d5b-9a28-99eaa381965b:3' labels=frozenset({'CVE'}) properties={'assigner': 'cna@sap.com', 'id': 'CVE-2023-0015'}>>, <Record cve1=<Node element_id='4:de342d72-e7ff-4d5b-9a28-99eaa381965b:5' labels=frozenset({'CVE'}) properties={'assigner': 'cna@sap.com', 'id': 'CVE-2023-0017'}> cve2=<Node element_id='4:de342d72-e7ff-4d5b-9a28-99eaa381965b:8' labels=frozenset({'CVE'}) properties={'assigner': 'cna@sap.com', 'id': 'CVE-2023-0023'}> Entities=<Node element_id='4:de342d72-e7ff-4d5b-9a28-99eaa381965b:1' labels=frozenset({'CVE'}) properties={'assigner': 'cna@sap.com', 'id': 'CVE-2023-0013'}>>, <Record cve1=<Node element_id='4:de342d72-e7ff-4d5b-9a28-99eaa381965b:5' labels=frozenset({'CVE'}) properties={'assigner': 'cna@sap.com', 'id': 'CVE-2023-0017'}> cve2=<Node element_id='4:de342d72-e7ff-4d5b-9a28-99eaa381965b:8' labels=frozenset({'CVE'}) properties={'assigner': 'cna@sap.com', 'id': 'CVE-2023-0023'}> Entities=<Node element_id='4:de342d72-e7ff-4d5b-9a28-99eaa381965b:1' labels=frozenset({'CVE'}) properties={'assigner': 'cna@sap.com', 'id': 'CVE-2023-0013'}>>, <Record cve1=<Node element_id='4:de342d72-e7ff-4d5b-9a28-99eaa381965b:5' labels=frozenset({'CVE'}) properties={'assigner': 'cna@sap.com', 'id': 'CVE-2023-0017'}> cve2=<Node element_id='4:de342d72-e7ff-4d5b-9a28-99eaa381965b:8' labels=frozenset({'CVE'}) properties={'assigner': 'cna@sap.com', 'id': 'CVE-2023-0023'}> Entities=<Node element_id='4:de342d72-e7ff-4d5b-9a28-99eaa381965b:6' labels=frozenset({'CVE'}) properties={'assigner': 'cna@sap.com', 'id': 'CVE-2023-0018'}>>, <Record cve1=<Node element_id='4:de342d72-e7ff-4d5b-9a28-99eaa381965b:5' labels=frozenset({'CVE'}) properties={'assigner': 'cna@sap.com', 'id': 'CVE-2023-0017'}> cve2=<Node element_id='4:de342d72-e7ff-4d5b-9a28-99eaa381965b:8' labels=frozenset({'CVE'}) properties={'assigner': 'cna@sap.com', 'id': 'CVE-2023-0023'}> Entities=<Node element_id='4:de342d72-e7ff-4d5b-9a28-99eaa381965b:6' labels=frozenset({'CVE'}) properties={'assigner': 'cna@sap.com', 'id': 'CVE-2023-0018'}>>, <Record cve1=<Node element_id='4:de342d72-e7ff-4d5b-9a28-99eaa381965b:5' labels=frozenset({'CVE'}) properties={'assigner': 'cna@sap.com', 'id': 'CVE-2023-0017'}> cve2=<Node element_id='4:de342d72-e7ff-4d5b-9a28-99eaa381965b:8' labels=frozenset({'CVE'}) properties={'assigner': 'cna@sap.com', 'id': 'CVE-2023-0023'}> Entities=<Node element_id='4:de342d72-e7ff-4d5b-9a28-99eaa381965b:9' labels=frozenset({'CVE'}) properties={'assigner': 'security@huntr.dev', 'id': 'CVE-2023-0028'}>>, <Record cve1=<Node element_id='4:de342d72-e7ff-4d5b-9a28-99eaa381965b:5' labels=frozenset({'CVE'}) properties={'assigner': 'cna@sap.com', 'id': 'CVE-2023-0017'}> cve2=<Node element_id='4:de342d72-e7ff-4d5b-9a28-99eaa381965b:8' labels=frozenset({'CVE'}) properties={'assigner': 'cna@sap.com', 'id': 'CVE-2023-0023'}> Entities=<Node element_id='4:de342d72-e7ff-4d5b-9a28-99eaa381965b:9' labels=frozenset({'CVE'}) properties={'assigner': 'security@huntr.dev', 'id': 'CVE-2023-0028'}>>, <Record cve1=<Node element_id='4:de342d72-e7ff-4d5b-9a28-99eaa381965b:5' labels=frozenset({'CVE'}) properties={'assigner': 'cna@sap.com', 'id': 'CVE-2023-0017'}> cve2=<Node element_id='4:de342d72-e7ff-4d5b-9a28-99eaa381965b:8' labels=frozenset({'CVE'}) properties={'assigner': 'cna@sap.com', 'id': 'CVE-2023-0023'}> Entities=<Node element_id='4:de342d72-e7ff-4d5b-9a28-99eaa381965b:3' labels=frozenset({'CVE'}) properties={'assigner': 'cna@sap.com', 'id': 'CVE-2023-0015'}>>, <Record cve1=<Node element_id='4:de342d72-e7ff-4d5b-9a28-99eaa381965b:5' labels=frozenset({'CVE'}) properties={'assigner': 'cna@sap.com', 'id': 'CVE-2023-0017'}> cve2=<Node element_id='4:de342d72-e7ff-4d5b-9a28-99eaa381965b:8' labels=frozenset({'CVE'}) properties={'assigner': 'cna@sap.com', 'id': 'CVE-2023-0023'}> Entities=<Node element_id='4:de342d72-e7ff-4d5b-9a28-99eaa381965b:3' labels=frozenset({'CVE'}) properties={'assigner': 'cna@sap.com', 'id': 'CVE-2023-0015'}>>, <Record cve1=<Node element_id='4:de342d72-e7ff-4d5b-9a28-99eaa381965b:5' labels=frozenset({'CVE'}) properties={'assigner': 'cna@sap.com', 'id': 'CVE-2023-0017'}> cve2=<Node element_id='4:de342d72-e7ff-4d5b-9a28-99eaa381965b:8' labels=frozenset({'CVE'}) properties={'assigner': 'cna@sap.com', 'id': 'CVE-2023-0023'}> Entities=<Node element_id='4:de342d72-e7ff-4d5b-9a28-99eaa381965b:1' labels=frozenset({'CVE'}) properties={'assigner': 'cna@sap.com', 'id': 'CVE-2023-0013'}>>, <Record cve1=<Node element_id='4:de342d72-e7ff-4d5b-9a28-99eaa381965b:5' labels=frozenset({'CVE'}) properties={'assigner': 'cna@sap.com', 'id': 'CVE-2023-0017'}> cve2=<Node element_id='4:de342d72-e7ff-4d5b-9a28-99eaa381965b:8' labels=frozenset({'CVE'}) properties={'assigner': 'cna@sap.com', 'id': 'CVE-2023-0023'}> Entities=<Node element_id='4:de342d72-e7ff-4d5b-9a28-99eaa381965b:1' labels=frozenset({'CVE'}) properties={'assigner': 'cna@sap.com', 'id': 'CVE-2023-0013'}>>, <Record cve1=<Node element_id='4:de342d72-e7ff-4d5b-9a28-99eaa381965b:5' labels=frozenset({'CVE'}) properties={'assigner': 'cna@sap.com', 'id': 'CVE-2023-0017'}> cve2=<Node element_id='4:de342d72-e7ff-4d5b-9a28-99eaa381965b:8' labels=frozenset({'CVE'}) properties={'assigner': 'cna@sap.com', 'id': 'CVE-2023-0023'}> Entities=<Node element_id='4:de342d72-e7ff-4d5b-9a28-99eaa381965b:4' labels=frozenset({'CVE'}) properties={'assigner': 'cna@sap.com', 'id': 'CVE-2023-0016'}>>, <Record cve1=<Node element_id='4:de342d72-e7ff-4d5b-9a28-99eaa381965b:5' labels=frozenset({'CVE'}) properties={'assigner': 'cna@sap.com', 'id': 'CVE-2023-0017'}> cve2=<Node element_id='4:de342d72-e7ff-4d5b-9a28-99eaa381965b:8' labels=frozenset({'CVE'}) properties={'assigner': 'cna@sap.com', 'id': 'CVE-2023-0023'}> Entities=<Node element_id='4:de342d72-e7ff-4d5b-9a28-99eaa381965b:167' labels=frozenset({'Entities'}) properties={'wikipediaExternalRef': 241154, 'wikidataId': 'Q371199', 'confidence_score': 0.719, 'offsetStart': 0, 'offsetEnd': 20, 'rawName': 'Cross-site scripting'}>>, <Record cve1=<Node element_id='4:de342d72-e7ff-4d5b-9a28-99eaa381965b:5' labels=frozenset({'CVE'}) properties={'assigner': 'cna@sap.com', 'id': 'CVE-2023-0017'}> cve2=<Node element_id='4:de342d72-e7ff-4d5b-9a28-99eaa381965b:8' labels=frozenset({'CVE'}) properties={'assigner': 'cna@sap.com', 'id': 'CVE-2023-0023'}> Entities=<Node element_id='4:de342d72-e7ff-4d5b-9a28-99eaa381965b:167' labels=frozenset({'Entities'}) properties={'wikipediaExternalRef': 241154, 'wikidataId': 'Q371199', 'confidence_score': 0.719, 'offsetStart': 0, 'offsetEnd': 20, 'rawName': 'Cross-site scripting'}>>, <Record cve1=<Node element_id='4:de342d72-e7ff-4d5b-9a28-99eaa381965b:5' labels=frozenset({'CVE'}) properties={'assigner': 'cna@sap.com', 'id': 'CVE-2023-0017'}> cve2=<Node element_id='4:de342d72-e7ff-4d5b-9a28-99eaa381965b:8' labels=frozenset({'CVE'}) properties={'assigner': 'cna@sap.com', 'id': 'CVE-2023-0023'}> Entities=<Node element_id='4:de342d72-e7ff-4d5b-9a28-99eaa381965b:167' labels=frozenset({'Entities'}) properties={'wikipediaExternalRef': 241154, 'wikidataId': 'Q371199', 'confidence_score': 0.719, 'offsetStart': 0, 'offsetEnd': 20, 'rawName': 'Cross-site scripting'}>>, <Record cve1=<Node element_id='4:de342d72-e7ff-4d5b-9a28-99eaa381965b:5' labels=frozenset({'CVE'}) properties={'assigner': 'cna@sap.com', 'id': 'CVE-2023-0017'}> cve2=<Node element_id='4:de342d72-e7ff-4d5b-9a28-99eaa381965b:8' labels=frozenset({'CVE'}) properties={'assigner': 'cna@sap.com', 'id': 'CVE-2023-0023'}> Entities=<Node element_id='4:de342d72-e7ff-4d5b-9a28-99eaa381965b:167' labels=frozenset({'Entities'}) properties={'wikipediaExternalRef': 241154, 'wikidataId': 'Q371199', 'confidence_score': 0.719, 'offsetStart': 0, 'offsetEnd': 20, 'rawName': 'Cross-site scripting'}>>, <Record cve1=<Node element_id='4:de342d72-e7ff-4d5b-9a28-99eaa381965b:5' labels=frozenset({'CVE'}) properties={'assigner': 'cna@sap.com', 'id': 'CVE-2023-0017'}> cve2=<Node element_id='4:de342d72-e7ff-4d5b-9a28-99eaa381965b:8' labels=frozenset({'CVE'}) properties={'assigner': 'cna@sap.com', 'id': 'CVE-2023-0023'}> Entities=<Node element_id='4:de342d72-e7ff-4d5b-9a28-99eaa381965b:262' labels=frozenset({'Entities'}) properties={'wikipediaExternalRef': 526999, 'wikidataId': 'Q506059', 'confidence_score': 0.9162, 'offsetStart': 1041, 'offsetEnd': 1054, 'rawName': 'SQL injection'}>>, <Record cve1=<Node element_id='4:de342d72-e7ff-4d5b-9a28-99eaa381965b:4' labels=frozenset({'CVE'}) properties={'assigner': 'cna@sap.com', 'id': 'CVE-2023-0016'}> cve2=<Node element_id='4:de342d72-e7ff-4d5b-9a28-99eaa381965b:7' labels=frozenset({'CVE'}) properties={'assigner': 'cna@sap.com', 'id': 'CVE-2023-0022'}> Entities=<Node element_id='4:de342d72-e7ff-4d5b-9a28-99eaa381965b:6' labels=frozenset({'CVE'}) properties={'assigner': 'cna@sap.com', 'id': 'CVE-2023-0018'}>>, <Record cve1=<Node element_id='4:de342d72-e7ff-4d5b-9a28-99eaa381965b:4' labels=frozenset({'CVE'}) properties={'assigner': 'cna@sap.com', 'id': 'CVE-2023-0016'}> cve2=<Node element_id='4:de342d72-e7ff-4d5b-9a28-99eaa381965b:7' labels=frozenset({'CVE'}) properties={'assigner': 'cna@sap.com', 'id': 'CVE-2023-0022'}> Entities=<Node element_id='4:de342d72-e7ff-4d5b-9a28-99eaa381965b:9' labels=frozenset({'CVE'}) properties={'assigner': 'security@huntr.dev', 'id': 'CVE-2023-0028'}>>, <Record cve1=<Node element_id='4:de342d72-e7ff-4d5b-9a28-99eaa381965b:4' labels=frozenset({'CVE'}) properties={'assigner': 'cna@sap.com', 'id': 'CVE-2023-0016'}> cve2=<Node element_id='4:de342d72-e7ff-4d5b-9a28-99eaa381965b:7' labels=frozenset({'CVE'}) properties={'assigner': 'cna@sap.com', 'id': 'CVE-2023-0022'}> Entities=<Node element_id='4:de342d72-e7ff-4d5b-9a28-99eaa381965b:3' labels=frozenset({'CVE'}) properties={'assigner': 'cna@sap.com', 'id': 'CVE-2023-0015'}>>, <Record cve1=<Node element_id='4:de342d72-e7ff-4d5b-9a28-99eaa381965b:4' labels=frozenset({'CVE'}) properties={'assigner': 'cna@sap.com', 'id': 'CVE-2023-0016'}> cve2=<Node element_id='4:de342d72-e7ff-4d5b-9a28-99eaa381965b:7' labels=frozenset({'CVE'}) properties={'assigner': 'cna@sap.com', 'id': 'CVE-2023-0022'}> Entities=<Node element_id='4:de342d72-e7ff-4d5b-9a28-99eaa381965b:1' labels=frozenset({'CVE'}) properties={'assigner': 'cna@sap.com', 'id': 'CVE-2023-0013'}>>, <Record cve1=<Node element_id='4:de342d72-e7ff-4d5b-9a28-99eaa381965b:4' labels=frozenset({'CVE'}) properties={'assigner': 'cna@sap.com', 'id': 'CVE-2023-0016'}> cve2=<Node element_id='4:de342d72-e7ff-4d5b-9a28-99eaa381965b:7' labels=frozenset({'CVE'}) properties={'assigner': 'cna@sap.com', 'id': 'CVE-2023-0022'}> Entities=<Node element_id='4:de342d72-e7ff-4d5b-9a28-99eaa381965b:7' labels=frozenset({'CVE'}) properties={'assigner': 'cna@sap.com', 'id': 'CVE-2023-0022'}>>, <Record cve1=<Node element_id='4:de342d72-e7ff-4d5b-9a28-99eaa381965b:4' labels=frozenset({'CVE'}) properties={'assigner': 'cna@sap.com', 'id': 'CVE-2023-0016'}> cve2=<Node element_id='4:de342d72-e7ff-4d5b-9a28-99eaa381965b:7' labels=frozenset({'CVE'}) properties={'assigner': 'cna@sap.com', 'id': 'CVE-2023-0022'}> Entities=<Node element_id='4:de342d72-e7ff-4d5b-9a28-99eaa381965b:7' labels=frozenset({'CVE'}) properties={'assigner': 'cna@sap.com', 'id': 'CVE-2023-0022'}>>, <Record cve1=<Node element_id='4:de342d72-e7ff-4d5b-9a28-99eaa381965b:4' labels=frozenset({'CVE'}) properties={'assigner': 'cna@sap.com', 'id': 'CVE-2023-0016'}> cve2=<Node element_id='4:de342d72-e7ff-4d5b-9a28-99eaa381965b:7' labels=frozenset({'CVE'}) properties={'assigner': 'cna@sap.com', 'id': 'CVE-2023-0022'}> Entities=<Node element_id='4:de342d72-e7ff-4d5b-9a28-99eaa381965b:2' labels=frozenset({'CVE'}) properties={'assigner': 'cna@sap.com', 'id': 'CVE-2023-0014'}>>, <Record cve1=<Node element_id='4:de342d72-e7ff-4d5b-9a28-99eaa381965b:4' labels=frozenset({'CVE'}) properties={'assigner': 'cna@sap.com', 'id': 'CVE-2023-0016'}> cve2=<Node element_id='4:de342d72-e7ff-4d5b-9a28-99eaa381965b:7' labels=frozenset({'CVE'}) properties={'assigner': 'cna@sap.com', 'id': 'CVE-2023-0022'}> Entities=<Node element_id='4:de342d72-e7ff-4d5b-9a28-99eaa381965b:6' labels=frozenset({'CVE'}) properties={'assigner': 'cna@sap.com', 'id': 'CVE-2023-0018'}>>, <Record cve1=<Node element_id='4:de342d72-e7ff-4d5b-9a28-99eaa381965b:4' labels=frozenset({'CVE'}) properties={'assigner': 'cna@sap.com', 'id': 'CVE-2023-0016'}> cve2=<Node element_id='4:de342d72-e7ff-4d5b-9a28-99eaa381965b:7' labels=frozenset({'CVE'}) properties={'assigner': 'cna@sap.com', 'id': 'CVE-2023-0022'}> Entities=<Node element_id='4:de342d72-e7ff-4d5b-9a28-99eaa381965b:9' labels=frozenset({'CVE'}) properties={'assigner': 'security@huntr.dev', 'id': 'CVE-2023-0028'}>>, <Record cve1=<Node element_id='4:de342d72-e7ff-4d5b-9a28-99eaa381965b:4' labels=frozenset({'CVE'}) properties={'assigner': 'cna@sap.com', 'id': 'CVE-2023-0016'}> cve2=<Node element_id='4:de342d72-e7ff-4d5b-9a28-99eaa381965b:7' labels=frozenset({'CVE'}) properties={'assigner': 'cna@sap.com', 'id': 'CVE-2023-0022'}> Entities=<Node element_id='4:de342d72-e7ff-4d5b-9a28-99eaa381965b:3' labels=frozenset({'CVE'}) properties={'assigner': 'cna@sap.com', 'id': 'CVE-2023-0015'}>>, <Record cve1=<Node element_id='4:de342d72-e7ff-4d5b-9a28-99eaa381965b:4' labels=frozenset({'CVE'}) properties={'assigner': 'cna@sap.com', 'id': 'CVE-2023-0016'}> cve2=<Node element_id='4:de342d72-e7ff-4d5b-9a28-99eaa381965b:7' labels=frozenset({'CVE'}) properties={'assigner': 'cna@sap.com', 'id': 'CVE-2023-0022'}> Entities=<Node element_id='4:de342d72-e7ff-4d5b-9a28-99eaa381965b:1' labels=frozenset({'CVE'}) properties={'assigner': 'cna@sap.com', 'id': 'CVE-2023-0013'}>>, <Record cve1=<Node element_id='4:de342d72-e7ff-4d5b-9a28-99eaa381965b:4' labels=frozenset({'CVE'}) properties={'assigner': 'cna@sap.com', 'id': 'CVE-2023-0016'}> cve2=<Node element_id='4:de342d72-e7ff-4d5b-9a28-99eaa381965b:7' labels=frozenset({'CVE'}) properties={'assigner': 'cna@sap.com', 'id': 'CVE-2023-0022'}> Entities=<Node element_id='4:de342d72-e7ff-4d5b-9a28-99eaa381965b:8' labels=frozenset({'CVE'}) properties={'assigner': 'cna@sap.com', 'id': 'CVE-2023-0023'}>>, <Record cve1=<Node element_id='4:de342d72-e7ff-4d5b-9a28-99eaa381965b:4' labels=frozenset({'CVE'}) properties={'assigner': 'cna@sap.com', 'id': 'CVE-2023-0016'}> cve2=<Node element_id='4:de342d72-e7ff-4d5b-9a28-99eaa381965b:7' labels=frozenset({'CVE'}) properties={'assigner': 'cna@sap.com', 'id': 'CVE-2023-0022'}> Entities=<Node element_id='4:de342d72-e7ff-4d5b-9a28-99eaa381965b:0' labels=frozenset({'CVE'}) properties={'assigner': 'cna@sap.com', 'id': 'CVE-2023-0012'}>>, <Record cve1=<Node element_id='4:de342d72-e7ff-4d5b-9a28-99eaa381965b:4' labels=frozenset({'CVE'}) properties={'assigner': 'cna@sap.com', 'id': 'CVE-2023-0016'}> cve2=<Node element_id='4:de342d72-e7ff-4d5b-9a28-99eaa381965b:7' labels=frozenset({'CVE'}) properties={'assigner': 'cna@sap.com', 'id': 'CVE-2023-0022'}> Entities=<Node element_id='4:de342d72-e7ff-4d5b-9a28-99eaa381965b:5' labels=frozenset({'CVE'}) properties={'assigner': 'cna@sap.com', 'id': 'CVE-2023-0017'}>>, <Record cve1=<Node element_id='4:de342d72-e7ff-4d5b-9a28-99eaa381965b:4' labels=frozenset({'CVE'}) properties={'assigner': 'cna@sap.com', 'id': 'CVE-2023-0016'}> cve2=<Node element_id='4:de342d72-e7ff-4d5b-9a28-99eaa381965b:7' labels=frozenset({'CVE'}) properties={'assigner': 'cna@sap.com', 'id': 'CVE-2023-0022'}> Entities=<Node element_id='4:de342d72-e7ff-4d5b-9a28-99eaa381965b:0' labels=frozenset({'CVE'}) properties={'assigner': 'cna@sap.com', 'id': 'CVE-2023-0012'}>>, <Record cve1=<Node element_id='4:de342d72-e7ff-4d5b-9a28-99eaa381965b:4' labels=frozenset({'CVE'}) properties={'assigner': 'cna@sap.com', 'id': 'CVE-2023-0016'}> cve2=<Node element_id='4:de342d72-e7ff-4d5b-9a28-99eaa381965b:7' labels=frozenset({'CVE'}) properties={'assigner': 'cna@sap.com', 'id': 'CVE-2023-0022'}> Entities=<Node element_id='4:de342d72-e7ff-4d5b-9a28-99eaa381965b:0' labels=frozenset({'CVE'}) properties={'assigner': 'cna@sap.com', 'id': 'CVE-2023-0012'}>>, <Record cve1=<Node element_id='4:de342d72-e7ff-4d5b-9a28-99eaa381965b:4' labels=frozenset({'CVE'}) properties={'assigner': 'cna@sap.com', 'id': 'CVE-2023-0016'}> cve2=<Node element_id='4:de342d72-e7ff-4d5b-9a28-99eaa381965b:7' labels=frozenset({'CVE'}) properties={'assigner': 'cna@sap.com', 'id': 'CVE-2023-0022'}> Entities=<Node element_id='4:de342d72-e7ff-4d5b-9a28-99eaa381965b:5' labels=frozenset({'CVE'}) properties={'assigner': 'cna@sap.com', 'id': 'CVE-2023-0017'}>>, <Record cve1=<Node element_id='4:de342d72-e7ff-4d5b-9a28-99eaa381965b:4' labels=frozenset({'CVE'}) properties={'assigner': 'cna@sap.com', 'id': 'CVE-2023-0016'}> cve2=<Node element_id='4:de342d72-e7ff-4d5b-9a28-99eaa381965b:7' labels=frozenset({'CVE'}) properties={'assigner': 'cna@sap.com', 'id': 'CVE-2023-0022'}> Entities=<Node element_id='4:de342d72-e7ff-4d5b-9a28-99eaa381965b:5' labels=frozenset({'CVE'}) properties={'assigner': 'cna@sap.com', 'id': 'CVE-2023-0017'}>>, <Record cve1=<Node element_id='4:de342d72-e7ff-4d5b-9a28-99eaa381965b:4' labels=frozenset({'CVE'}) properties={'assigner': 'cna@sap.com', 'id': 'CVE-2023-0016'}> cve2=<Node element_id='4:de342d72-e7ff-4d5b-9a28-99eaa381965b:7' labels=frozenset({'CVE'}) properties={'assigner': 'cna@sap.com', 'id': 'CVE-2023-0022'}> Entities=<Node element_id='4:de342d72-e7ff-4d5b-9a28-99eaa381965b:6' labels=frozenset({'CVE'}) properties={'assigner': 'cna@sap.com', 'id': 'CVE-2023-0018'}>>, <Record cve1=<Node element_id='4:de342d72-e7ff-4d5b-9a28-99eaa381965b:4' labels=frozenset({'CVE'}) properties={'assigner': 'cna@sap.com', 'id': 'CVE-2023-0016'}> cve2=<Node element_id='4:de342d72-e7ff-4d5b-9a28-99eaa381965b:7' labels=frozenset({'CVE'}) properties={'assigner': 'cna@sap.com', 'id': 'CVE-2023-0022'}> Entities=<Node element_id='4:de342d72-e7ff-4d5b-9a28-99eaa381965b:6' labels=frozenset({'CVE'}) properties={'assigner': 'cna@sap.com', 'id': 'CVE-2023-0018'}>>, <Record cve1=<Node element_id='4:de342d72-e7ff-4d5b-9a28-99eaa381965b:4' labels=frozenset({'CVE'}) properties={'assigner': 'cna@sap.com', 'id': 'CVE-2023-0016'}> cve2=<Node element_id='4:de342d72-e7ff-4d5b-9a28-99eaa381965b:7' labels=frozenset({'CVE'}) properties={'assigner': 'cna@sap.com', 'id': 'CVE-2023-0022'}> Entities=<Node element_id='4:de342d72-e7ff-4d5b-9a28-99eaa381965b:6' labels=frozenset({'CVE'}) properties={'assigner': 'cna@sap.com', 'id': 'CVE-2023-0018'}>>, <Record cve1=<Node element_id='4:de342d72-e7ff-4d5b-9a28-99eaa381965b:4' labels=frozenset({'CVE'}) properties={'assigner': 'cna@sap.com', 'id': 'CVE-2023-0016'}> cve2=<Node element_id='4:de342d72-e7ff-4d5b-9a28-99eaa381965b:7' labels=frozenset({'CVE'}) properties={'assigner': 'cna@sap.com', 'id': 'CVE-2023-0022'}> Entities=<Node element_id='4:de342d72-e7ff-4d5b-9a28-99eaa381965b:6' labels=frozenset({'CVE'}) properties={'assigner': 'cna@sap.com', 'id': 'CVE-2023-0018'}>>, <Record cve1=<Node element_id='4:de342d72-e7ff-4d5b-9a28-99eaa381965b:4' labels=frozenset({'CVE'}) properties={'assigner': 'cna@sap.com', 'id': 'CVE-2023-0016'}> cve2=<Node element_id='4:de342d72-e7ff-4d5b-9a28-99eaa381965b:7' labels=frozenset({'CVE'}) properties={'assigner': 'cna@sap.com', 'id': 'CVE-2023-0022'}> Entities=<Node element_id='4:de342d72-e7ff-4d5b-9a28-99eaa381965b:9' labels=frozenset({'CVE'}) properties={'assigner': 'security@huntr.dev', 'id': 'CVE-2023-0028'}>>, <Record cve1=<Node element_id='4:de342d72-e7ff-4d5b-9a28-99eaa381965b:4' labels=frozenset({'CVE'}) properties={'assigner': 'cna@sap.com', 'id': 'CVE-2023-0016'}> cve2=<Node element_id='4:de342d72-e7ff-4d5b-9a28-99eaa381965b:7' labels=frozenset({'CVE'}) properties={'assigner': 'cna@sap.com', 'id': 'CVE-2023-0022'}> Entities=<Node element_id='4:de342d72-e7ff-4d5b-9a28-99eaa381965b:9' labels=frozenset({'CVE'}) properties={'assigner': 'security@huntr.dev', 'id': 'CVE-2023-0028'}>>, <Record cve1=<Node element_id='4:de342d72-e7ff-4d5b-9a28-99eaa381965b:4' labels=frozenset({'CVE'}) properties={'assigner': 'cna@sap.com', 'id': 'CVE-2023-0016'}> cve2=<Node element_id='4:de342d72-e7ff-4d5b-9a28-99eaa381965b:7' labels=frozenset({'CVE'}) properties={'assigner': 'cna@sap.com', 'id': 'CVE-2023-0022'}> Entities=<Node element_id='4:de342d72-e7ff-4d5b-9a28-99eaa381965b:9' labels=frozenset({'CVE'}) properties={'assigner': 'security@huntr.dev', 'id': 'CVE-2023-0028'}>>, <Record cve1=<Node element_id='4:de342d72-e7ff-4d5b-9a28-99eaa381965b:4' labels=frozenset({'CVE'}) properties={'assigner': 'cna@sap.com', 'id': 'CVE-2023-0016'}> cve2=<Node element_id='4:de342d72-e7ff-4d5b-9a28-99eaa381965b:7' labels=frozenset({'CVE'}) properties={'assigner': 'cna@sap.com', 'id': 'CVE-2023-0022'}> Entities=<Node element_id='4:de342d72-e7ff-4d5b-9a28-99eaa381965b:9' labels=frozenset({'CVE'}) properties={'assigner': 'security@huntr.dev', 'id': 'CVE-2023-0028'}>>, <Record cve1=<Node element_id='4:de342d72-e7ff-4d5b-9a28-99eaa381965b:4' labels=frozenset({'CVE'}) properties={'assigner': 'cna@sap.com', 'id': 'CVE-2023-0016'}> cve2=<Node element_id='4:de342d72-e7ff-4d5b-9a28-99eaa381965b:7' labels=frozenset({'CVE'}) properties={'assigner': 'cna@sap.com', 'id': 'CVE-2023-0022'}> Entities=<Node element_id='4:de342d72-e7ff-4d5b-9a28-99eaa381965b:3' labels=frozenset({'CVE'}) properties={'assigner': 'cna@sap.com', 'id': 'CVE-2023-0015'}>>, <Record cve1=<Node element_id='4:de342d72-e7ff-4d5b-9a28-99eaa381965b:4' labels=frozenset({'CVE'}) properties={'assigner': 'cna@sap.com', 'id': 'CVE-2023-0016'}> cve2=<Node element_id='4:de342d72-e7ff-4d5b-9a28-99eaa381965b:7' labels=frozenset({'CVE'}) properties={'assigner': 'cna@sap.com', 'id': 'CVE-2023-0022'}> Entities=<Node element_id='4:de342d72-e7ff-4d5b-9a28-99eaa381965b:3' labels=frozenset({'CVE'}) properties={'assigner': 'cna@sap.com', 'id': 'CVE-2023-0015'}>>, <Record cve1=<Node element_id='4:de342d72-e7ff-4d5b-9a28-99eaa381965b:4' labels=frozenset({'CVE'}) properties={'assigner': 'cna@sap.com', 'id': 'CVE-2023-0016'}> cve2=<Node element_id='4:de342d72-e7ff-4d5b-9a28-99eaa381965b:7' labels=frozenset({'CVE'}) properties={'assigner': 'cna@sap.com', 'id': 'CVE-2023-0022'}> Entities=<Node element_id='4:de342d72-e7ff-4d5b-9a28-99eaa381965b:3' labels=frozenset({'CVE'}) properties={'assigner': 'cna@sap.com', 'id': 'CVE-2023-0015'}>>, <Record cve1=<Node element_id='4:de342d72-e7ff-4d5b-9a28-99eaa381965b:4' labels=frozenset({'CVE'}) properties={'assigner': 'cna@sap.com', 'id': 'CVE-2023-0016'}> cve2=<Node element_id='4:de342d72-e7ff-4d5b-9a28-99eaa381965b:7' labels=frozenset({'CVE'}) properties={'assigner': 'cna@sap.com', 'id': 'CVE-2023-0022'}> Entities=<Node element_id='4:de342d72-e7ff-4d5b-9a28-99eaa381965b:3' labels=frozenset({'CVE'}) properties={'assigner': 'cna@sap.com', 'id': 'CVE-2023-0015'}>>, <Record cve1=<Node element_id='4:de342d72-e7ff-4d5b-9a28-99eaa381965b:4' labels=frozenset({'CVE'}) properties={'assigner': 'cna@sap.com', 'id': 'CVE-2023-0016'}> cve2=<Node element_id='4:de342d72-e7ff-4d5b-9a28-99eaa381965b:7' labels=frozenset({'CVE'}) properties={'assigner': 'cna@sap.com', 'id': 'CVE-2023-0022'}> Entities=<Node element_id='4:de342d72-e7ff-4d5b-9a28-99eaa381965b:1' labels=frozenset({'CVE'}) properties={'assigner': 'cna@sap.com', 'id': 'CVE-2023-0013'}>>, <Record cve1=<Node element_id='4:de342d72-e7ff-4d5b-9a28-99eaa381965b:4' labels=frozenset({'CVE'}) properties={'assigner': 'cna@sap.com', 'id': 'CVE-2023-0016'}> cve2=<Node element_id='4:de342d72-e7ff-4d5b-9a28-99eaa381965b:7' labels=frozenset({'CVE'}) properties={'assigner': 'cna@sap.com', 'id': 'CVE-2023-0022'}> Entities=<Node element_id='4:de342d72-e7ff-4d5b-9a28-99eaa381965b:1' labels=frozenset({'CVE'}) properties={'assigner': 'cna@sap.com', 'id': 'CVE-2023-0013'}>>, <Record cve1=<Node element_id='4:de342d72-e7ff-4d5b-9a28-99eaa381965b:4' labels=frozenset({'CVE'}) properties={'assigner': 'cna@sap.com', 'id': 'CVE-2023-0016'}> cve2=<Node element_id='4:de342d72-e7ff-4d5b-9a28-99eaa381965b:7' labels=frozenset({'CVE'}) properties={'assigner': 'cna@sap.com', 'id': 'CVE-2023-0022'}> Entities=<Node element_id='4:de342d72-e7ff-4d5b-9a28-99eaa381965b:1' labels=frozenset({'CVE'}) properties={'assigner': 'cna@sap.com', 'id': 'CVE-2023-0013'}>>, <Record cve1=<Node element_id='4:de342d72-e7ff-4d5b-9a28-99eaa381965b:4' labels=frozenset({'CVE'}) properties={'assigner': 'cna@sap.com', 'id': 'CVE-2023-0016'}> cve2=<Node element_id='4:de342d72-e7ff-4d5b-9a28-99eaa381965b:7' labels=frozenset({'CVE'}) properties={'assigner': 'cna@sap.com', 'id': 'CVE-2023-0022'}> Entities=<Node element_id='4:de342d72-e7ff-4d5b-9a28-99eaa381965b:1' labels=frozenset({'CVE'}) properties={'assigner': 'cna@sap.com', 'id': 'CVE-2023-0013'}>>, <Record cve1=<Node element_id='4:de342d72-e7ff-4d5b-9a28-99eaa381965b:4' labels=frozenset({'CVE'}) properties={'assigner': 'cna@sap.com', 'id': 'CVE-2023-0016'}> cve2=<Node element_id='4:de342d72-e7ff-4d5b-9a28-99eaa381965b:7' labels=frozenset({'CVE'}) properties={'assigner': 'cna@sap.com', 'id': 'CVE-2023-0022'}> Entities=<Node element_id='4:de342d72-e7ff-4d5b-9a28-99eaa381965b:6' labels=frozenset({'CVE'}) properties={'assigner': 'cna@sap.com', 'id': 'CVE-2023-0018'}>>, <Record cve1=<Node element_id='4:de342d72-e7ff-4d5b-9a28-99eaa381965b:4' labels=frozenset({'CVE'}) properties={'assigner': 'cna@sap.com', 'id': 'CVE-2023-0016'}> cve2=<Node element_id='4:de342d72-e7ff-4d5b-9a28-99eaa381965b:7' labels=frozenset({'CVE'}) properties={'assigner': 'cna@sap.com', 'id': 'CVE-2023-0022'}> Entities=<Node element_id='4:de342d72-e7ff-4d5b-9a28-99eaa381965b:6' labels=frozenset({'CVE'}) properties={'assigner': 'cna@sap.com', 'id': 'CVE-2023-0018'}>>, <Record cve1=<Node element_id='4:de342d72-e7ff-4d5b-9a28-99eaa381965b:4' labels=frozenset({'CVE'}) properties={'assigner': 'cna@sap.com', 'id': 'CVE-2023-0016'}> cve2=<Node element_id='4:de342d72-e7ff-4d5b-9a28-99eaa381965b:7' labels=frozenset({'CVE'}) properties={'assigner': 'cna@sap.com', 'id': 'CVE-2023-0022'}> Entities=<Node element_id='4:de342d72-e7ff-4d5b-9a28-99eaa381965b:9' labels=frozenset({'CVE'}) properties={'assigner': 'security@huntr.dev', 'id': 'CVE-2023-0028'}>>, <Record cve1=<Node element_id='4:de342d72-e7ff-4d5b-9a28-99eaa381965b:4' labels=frozenset({'CVE'}) properties={'assigner': 'cna@sap.com', 'id': 'CVE-2023-0016'}> cve2=<Node element_id='4:de342d72-e7ff-4d5b-9a28-99eaa381965b:7' labels=frozenset({'CVE'}) properties={'assigner': 'cna@sap.com', 'id': 'CVE-2023-0022'}> Entities=<Node element_id='4:de342d72-e7ff-4d5b-9a28-99eaa381965b:9' labels=frozenset({'CVE'}) properties={'assigner': 'security@huntr.dev', 'id': 'CVE-2023-0028'}>>, <Record cve1=<Node element_id='4:de342d72-e7ff-4d5b-9a28-99eaa381965b:4' labels=frozenset({'CVE'}) properties={'assigner': 'cna@sap.com', 'id': 'CVE-2023-0016'}> cve2=<Node element_id='4:de342d72-e7ff-4d5b-9a28-99eaa381965b:7' labels=frozenset({'CVE'}) properties={'assigner': 'cna@sap.com', 'id': 'CVE-2023-0022'}> Entities=<Node element_id='4:de342d72-e7ff-4d5b-9a28-99eaa381965b:3' labels=frozenset({'CVE'}) properties={'assigner': 'cna@sap.com', 'id': 'CVE-2023-0015'}>>, <Record cve1=<Node element_id='4:de342d72-e7ff-4d5b-9a28-99eaa381965b:4' labels=frozenset({'CVE'}) properties={'assigner': 'cna@sap.com', 'id': 'CVE-2023-0016'}> cve2=<Node element_id='4:de342d72-e7ff-4d5b-9a28-99eaa381965b:7' labels=frozenset({'CVE'}) properties={'assigner': 'cna@sap.com', 'id': 'CVE-2023-0022'}> Entities=<Node element_id='4:de342d72-e7ff-4d5b-9a28-99eaa381965b:3' labels=frozenset({'CVE'}) properties={'assigner': 'cna@sap.com', 'id': 'CVE-2023-0015'}>>, <Record cve1=<Node element_id='4:de342d72-e7ff-4d5b-9a28-99eaa381965b:4' labels=frozenset({'CVE'}) properties={'assigner': 'cna@sap.com', 'id': 'CVE-2023-0016'}> cve2=<Node element_id='4:de342d72-e7ff-4d5b-9a28-99eaa381965b:7' labels=frozenset({'CVE'}) properties={'assigner': 'cna@sap.com', 'id': 'CVE-2023-0022'}> Entities=<Node element_id='4:de342d72-e7ff-4d5b-9a28-99eaa381965b:1' labels=frozenset({'CVE'}) properties={'assigner': 'cna@sap.com', 'id': 'CVE-2023-0013'}>>, <Record cve1=<Node element_id='4:de342d72-e7ff-4d5b-9a28-99eaa381965b:4' labels=frozenset({'CVE'}) properties={'assigner': 'cna@sap.com', 'id': 'CVE-2023-0016'}> cve2=<Node element_id='4:de342d72-e7ff-4d5b-9a28-99eaa381965b:7' labels=frozenset({'CVE'}) properties={'assigner': 'cna@sap.com', 'id': 'CVE-2023-0022'}> Entities=<Node element_id='4:de342d72-e7ff-4d5b-9a28-99eaa381965b:1' labels=frozenset({'CVE'}) properties={'assigner': 'cna@sap.com', 'id': 'CVE-2023-0013'}>>, <Record cve1=<Node element_id='4:de342d72-e7ff-4d5b-9a28-99eaa381965b:4' labels=frozenset({'CVE'}) properties={'assigner': 'cna@sap.com', 'id': 'CVE-2023-0016'}> cve2=<Node element_id='4:de342d72-e7ff-4d5b-9a28-99eaa381965b:7' labels=frozenset({'CVE'}) properties={'assigner': 'cna@sap.com', 'id': 'CVE-2023-0022'}> Entities=<Node element_id='4:de342d72-e7ff-4d5b-9a28-99eaa381965b:6' labels=frozenset({'CVE'}) properties={'assigner': 'cna@sap.com', 'id': 'CVE-2023-0018'}>>, <Record cve1=<Node element_id='4:de342d72-e7ff-4d5b-9a28-99eaa381965b:4' labels=frozenset({'CVE'}) properties={'assigner': 'cna@sap.com', 'id': 'CVE-2023-0016'}> cve2=<Node element_id='4:de342d72-e7ff-4d5b-9a28-99eaa381965b:7' labels=frozenset({'CVE'}) properties={'assigner': 'cna@sap.com', 'id': 'CVE-2023-0022'}> Entities=<Node element_id='4:de342d72-e7ff-4d5b-9a28-99eaa381965b:6' labels=frozenset({'CVE'}) properties={'assigner': 'cna@sap.com', 'id': 'CVE-2023-0018'}>>, <Record cve1=<Node element_id='4:de342d72-e7ff-4d5b-9a28-99eaa381965b:4' labels=frozenset({'CVE'}) properties={'assigner': 'cna@sap.com', 'id': 'CVE-2023-0016'}> cve2=<Node element_id='4:de342d72-e7ff-4d5b-9a28-99eaa381965b:7' labels=frozenset({'CVE'}) properties={'assigner': 'cna@sap.com', 'id': 'CVE-2023-0022'}> Entities=<Node element_id='4:de342d72-e7ff-4d5b-9a28-99eaa381965b:9' labels=frozenset({'CVE'}) properties={'assigner': 'security@huntr.dev', 'id': 'CVE-2023-0028'}>>, <Record cve1=<Node element_id='4:de342d72-e7ff-4d5b-9a28-99eaa381965b:4' labels=frozenset({'CVE'}) properties={'assigner': 'cna@sap.com', 'id': 'CVE-2023-0016'}> cve2=<Node element_id='4:de342d72-e7ff-4d5b-9a28-99eaa381965b:7' labels=frozenset({'CVE'}) properties={'assigner': 'cna@sap.com', 'id': 'CVE-2023-0022'}> Entities=<Node element_id='4:de342d72-e7ff-4d5b-9a28-99eaa381965b:9' labels=frozenset({'CVE'}) properties={'assigner': 'security@huntr.dev', 'id': 'CVE-2023-0028'}>>, <Record cve1=<Node element_id='4:de342d72-e7ff-4d5b-9a28-99eaa381965b:4' labels=frozenset({'CVE'}) properties={'assigner': 'cna@sap.com', 'id': 'CVE-2023-0016'}> cve2=<Node element_id='4:de342d72-e7ff-4d5b-9a28-99eaa381965b:7' labels=frozenset({'CVE'}) properties={'assigner': 'cna@sap.com', 'id': 'CVE-2023-0022'}> Entities=<Node element_id='4:de342d72-e7ff-4d5b-9a28-99eaa381965b:3' labels=frozenset({'CVE'}) properties={'assigner': 'cna@sap.com', 'id': 'CVE-2023-0015'}>>, <Record cve1=<Node element_id='4:de342d72-e7ff-4d5b-9a28-99eaa381965b:4' labels=frozenset({'CVE'}) properties={'assigner': 'cna@sap.com', 'id': 'CVE-2023-0016'}> cve2=<Node element_id='4:de342d72-e7ff-4d5b-9a28-99eaa381965b:7' labels=frozenset({'CVE'}) properties={'assigner': 'cna@sap.com', 'id': 'CVE-2023-0022'}> Entities=<Node element_id='4:de342d72-e7ff-4d5b-9a28-99eaa381965b:3' labels=frozenset({'CVE'}) properties={'assigner': 'cna@sap.com', 'id': 'CVE-2023-0015'}>>, <Record cve1=<Node element_id='4:de342d72-e7ff-4d5b-9a28-99eaa381965b:4' labels=frozenset({'CVE'}) properties={'assigner': 'cna@sap.com', 'id': 'CVE-2023-0016'}> cve2=<Node element_id='4:de342d72-e7ff-4d5b-9a28-99eaa381965b:7' labels=frozenset({'CVE'}) properties={'assigner': 'cna@sap.com', 'id': 'CVE-2023-0022'}> Entities=<Node element_id='4:de342d72-e7ff-4d5b-9a28-99eaa381965b:1' labels=frozenset({'CVE'}) properties={'assigner': 'cna@sap.com', 'id': 'CVE-2023-0013'}>>, <Record cve1=<Node element_id='4:de342d72-e7ff-4d5b-9a28-99eaa381965b:4' labels=frozenset({'CVE'}) properties={'assigner': 'cna@sap.com', 'id': 'CVE-2023-0016'}> cve2=<Node element_id='4:de342d72-e7ff-4d5b-9a28-99eaa381965b:7' labels=frozenset({'CVE'}) properties={'assigner': 'cna@sap.com', 'id': 'CVE-2023-0022'}> Entities=<Node element_id='4:de342d72-e7ff-4d5b-9a28-99eaa381965b:1' labels=frozenset({'CVE'}) properties={'assigner': 'cna@sap.com', 'id': 'CVE-2023-0013'}>>, <Record cve1=<Node element_id='4:de342d72-e7ff-4d5b-9a28-99eaa381965b:4' labels=frozenset({'CVE'}) properties={'assigner': 'cna@sap.com', 'id': 'CVE-2023-0016'}> cve2=<Node element_id='4:de342d72-e7ff-4d5b-9a28-99eaa381965b:7' labels=frozenset({'CVE'}) properties={'assigner': 'cna@sap.com', 'id': 'CVE-2023-0022'}> Entities=<Node element_id='4:de342d72-e7ff-4d5b-9a28-99eaa381965b:6' labels=frozenset({'CVE'}) properties={'assigner': 'cna@sap.com', 'id': 'CVE-2023-0018'}>>, <Record cve1=<Node element_id='4:de342d72-e7ff-4d5b-9a28-99eaa381965b:4' labels=frozenset({'CVE'}) properties={'assigner': 'cna@sap.com', 'id': 'CVE-2023-0016'}> cve2=<Node element_id='4:de342d72-e7ff-4d5b-9a28-99eaa381965b:7' labels=frozenset({'CVE'}) properties={'assigner': 'cna@sap.com', 'id': 'CVE-2023-0022'}> Entities=<Node element_id='4:de342d72-e7ff-4d5b-9a28-99eaa381965b:6' labels=frozenset({'CVE'}) properties={'assigner': 'cna@sap.com', 'id': 'CVE-2023-0018'}>>, <Record cve1=<Node element_id='4:de342d72-e7ff-4d5b-9a28-99eaa381965b:4' labels=frozenset({'CVE'}) properties={'assigner': 'cna@sap.com', 'id': 'CVE-2023-0016'}> cve2=<Node element_id='4:de342d72-e7ff-4d5b-9a28-99eaa381965b:7' labels=frozenset({'CVE'}) properties={'assigner': 'cna@sap.com', 'id': 'CVE-2023-0022'}> Entities=<Node element_id='4:de342d72-e7ff-4d5b-9a28-99eaa381965b:6' labels=frozenset({'CVE'}) properties={'assigner': 'cna@sap.com', 'id': 'CVE-2023-0018'}>>, <Record cve1=<Node element_id='4:de342d72-e7ff-4d5b-9a28-99eaa381965b:4' labels=frozenset({'CVE'}) properties={'assigner': 'cna@sap.com', 'id': 'CVE-2023-0016'}> cve2=<Node element_id='4:de342d72-e7ff-4d5b-9a28-99eaa381965b:7' labels=frozenset({'CVE'}) properties={'assigner': 'cna@sap.com', 'id': 'CVE-2023-0022'}> Entities=<Node element_id='4:de342d72-e7ff-4d5b-9a28-99eaa381965b:9' labels=frozenset({'CVE'}) properties={'assigner': 'security@huntr.dev', 'id': 'CVE-2023-0028'}>>, <Record cve1=<Node element_id='4:de342d72-e7ff-4d5b-9a28-99eaa381965b:4' labels=frozenset({'CVE'}) properties={'assigner': 'cna@sap.com', 'id': 'CVE-2023-0016'}> cve2=<Node element_id='4:de342d72-e7ff-4d5b-9a28-99eaa381965b:7' labels=frozenset({'CVE'}) properties={'assigner': 'cna@sap.com', 'id': 'CVE-2023-0022'}> Entities=<Node element_id='4:de342d72-e7ff-4d5b-9a28-99eaa381965b:9' labels=frozenset({'CVE'}) properties={'assigner': 'security@huntr.dev', 'id': 'CVE-2023-0028'}>>, <Record cve1=<Node element_id='4:de342d72-e7ff-4d5b-9a28-99eaa381965b:4' labels=frozenset({'CVE'}) properties={'assigner': 'cna@sap.com', 'id': 'CVE-2023-0016'}> cve2=<Node element_id='4:de342d72-e7ff-4d5b-9a28-99eaa381965b:7' labels=frozenset({'CVE'}) properties={'assigner': 'cna@sap.com', 'id': 'CVE-2023-0022'}> Entities=<Node element_id='4:de342d72-e7ff-4d5b-9a28-99eaa381965b:9' labels=frozenset({'CVE'}) properties={'assigner': 'security@huntr.dev', 'id': 'CVE-2023-0028'}>>, <Record cve1=<Node element_id='4:de342d72-e7ff-4d5b-9a28-99eaa381965b:4' labels=frozenset({'CVE'}) properties={'assigner': 'cna@sap.com', 'id': 'CVE-2023-0016'}> cve2=<Node element_id='4:de342d72-e7ff-4d5b-9a28-99eaa381965b:7' labels=frozenset({'CVE'}) properties={'assigner': 'cna@sap.com', 'id': 'CVE-2023-0022'}> Entities=<Node element_id='4:de342d72-e7ff-4d5b-9a28-99eaa381965b:3' labels=frozenset({'CVE'}) properties={'assigner': 'cna@sap.com', 'id': 'CVE-2023-0015'}>>, <Record cve1=<Node element_id='4:de342d72-e7ff-4d5b-9a28-99eaa381965b:4' labels=frozenset({'CVE'}) properties={'assigner': 'cna@sap.com', 'id': 'CVE-2023-0016'}> cve2=<Node element_id='4:de342d72-e7ff-4d5b-9a28-99eaa381965b:7' labels=frozenset({'CVE'}) properties={'assigner': 'cna@sap.com', 'id': 'CVE-2023-0022'}> Entities=<Node element_id='4:de342d72-e7ff-4d5b-9a28-99eaa381965b:3' labels=frozenset({'CVE'}) properties={'assigner': 'cna@sap.com', 'id': 'CVE-2023-0015'}>>, <Record cve1=<Node element_id='4:de342d72-e7ff-4d5b-9a28-99eaa381965b:4' labels=frozenset({'CVE'}) properties={'assigner': 'cna@sap.com', 'id': 'CVE-2023-0016'}> cve2=<Node element_id='4:de342d72-e7ff-4d5b-9a28-99eaa381965b:7' labels=frozenset({'CVE'}) properties={'assigner': 'cna@sap.com', 'id': 'CVE-2023-0022'}> Entities=<Node element_id='4:de342d72-e7ff-4d5b-9a28-99eaa381965b:3' labels=frozenset({'CVE'}) properties={'assigner': 'cna@sap.com', 'id': 'CVE-2023-0015'}>>, <Record cve1=<Node element_id='4:de342d72-e7ff-4d5b-9a28-99eaa381965b:4' labels=frozenset({'CVE'}) properties={'assigner': 'cna@sap.com', 'id': 'CVE-2023-0016'}> cve2=<Node element_id='4:de342d72-e7ff-4d5b-9a28-99eaa381965b:7' labels=frozenset({'CVE'}) properties={'assigner': 'cna@sap.com', 'id': 'CVE-2023-0022'}> Entities=<Node element_id='4:de342d72-e7ff-4d5b-9a28-99eaa381965b:1' labels=frozenset({'CVE'}) properties={'assigner': 'cna@sap.com', 'id': 'CVE-2023-0013'}>>, <Record cve1=<Node element_id='4:de342d72-e7ff-4d5b-9a28-99eaa381965b:4' labels=frozenset({'CVE'}) properties={'assigner': 'cna@sap.com', 'id': 'CVE-2023-0016'}> cve2=<Node element_id='4:de342d72-e7ff-4d5b-9a28-99eaa381965b:7' labels=frozenset({'CVE'}) properties={'assigner': 'cna@sap.com', 'id': 'CVE-2023-0022'}> Entities=<Node element_id='4:de342d72-e7ff-4d5b-9a28-99eaa381965b:1' labels=frozenset({'CVE'}) properties={'assigner': 'cna@sap.com', 'id': 'CVE-2023-0013'}>>, <Record cve1=<Node element_id='4:de342d72-e7ff-4d5b-9a28-99eaa381965b:4' labels=frozenset({'CVE'}) properties={'assigner': 'cna@sap.com', 'id': 'CVE-2023-0016'}> cve2=<Node element_id='4:de342d72-e7ff-4d5b-9a28-99eaa381965b:7' labels=frozenset({'CVE'}) properties={'assigner': 'cna@sap.com', 'id': 'CVE-2023-0022'}> Entities=<Node element_id='4:de342d72-e7ff-4d5b-9a28-99eaa381965b:1' labels=frozenset({'CVE'}) properties={'assigner': 'cna@sap.com', 'id': 'CVE-2023-0013'}>>, <Record cve1=<Node element_id='4:de342d72-e7ff-4d5b-9a28-99eaa381965b:4' labels=frozenset({'CVE'}) properties={'assigner': 'cna@sap.com', 'id': 'CVE-2023-0016'}> cve2=<Node element_id='4:de342d72-e7ff-4d5b-9a28-99eaa381965b:7' labels=frozenset({'CVE'}) properties={'assigner': 'cna@sap.com', 'id': 'CVE-2023-0022'}> Entities=<Node element_id='4:de342d72-e7ff-4d5b-9a28-99eaa381965b:6' labels=frozenset({'CVE'}) properties={'assigner': 'cna@sap.com', 'id': 'CVE-2023-0018'}>>, <Record cve1=<Node element_id='4:de342d72-e7ff-4d5b-9a28-99eaa381965b:4' labels=frozenset({'CVE'}) properties={'assigner': 'cna@sap.com', 'id': 'CVE-2023-0016'}> cve2=<Node element_id='4:de342d72-e7ff-4d5b-9a28-99eaa381965b:7' labels=frozenset({'CVE'}) properties={'assigner': 'cna@sap.com', 'id': 'CVE-2023-0022'}> Entities=<Node element_id='4:de342d72-e7ff-4d5b-9a28-99eaa381965b:6' labels=frozenset({'CVE'}) properties={'assigner': 'cna@sap.com', 'id': 'CVE-2023-0018'}>>, <Record cve1=<Node element_id='4:de342d72-e7ff-4d5b-9a28-99eaa381965b:4' labels=frozenset({'CVE'}) properties={'assigner': 'cna@sap.com', 'id': 'CVE-2023-0016'}> cve2=<Node element_id='4:de342d72-e7ff-4d5b-9a28-99eaa381965b:7' labels=frozenset({'CVE'}) properties={'assigner': 'cna@sap.com', 'id': 'CVE-2023-0022'}> Entities=<Node element_id='4:de342d72-e7ff-4d5b-9a28-99eaa381965b:6' labels=frozenset({'CVE'}) properties={'assigner': 'cna@sap.com', 'id': 'CVE-2023-0018'}>>, <Record cve1=<Node element_id='4:de342d72-e7ff-4d5b-9a28-99eaa381965b:4' labels=frozenset({'CVE'}) properties={'assigner': 'cna@sap.com', 'id': 'CVE-2023-0016'}> cve2=<Node element_id='4:de342d72-e7ff-4d5b-9a28-99eaa381965b:7' labels=frozenset({'CVE'}) properties={'assigner': 'cna@sap.com', 'id': 'CVE-2023-0022'}> Entities=<Node element_id='4:de342d72-e7ff-4d5b-9a28-99eaa381965b:9' labels=frozenset({'CVE'}) properties={'assigner': 'security@huntr.dev', 'id': 'CVE-2023-0028'}>>, <Record cve1=<Node element_id='4:de342d72-e7ff-4d5b-9a28-99eaa381965b:4' labels=frozenset({'CVE'}) properties={'assigner': 'cna@sap.com', 'id': 'CVE-2023-0016'}> cve2=<Node element_id='4:de342d72-e7ff-4d5b-9a28-99eaa381965b:7' labels=frozenset({'CVE'}) properties={'assigner': 'cna@sap.com', 'id': 'CVE-2023-0022'}> Entities=<Node element_id='4:de342d72-e7ff-4d5b-9a28-99eaa381965b:9' labels=frozenset({'CVE'}) properties={'assigner': 'security@huntr.dev', 'id': 'CVE-2023-0028'}>>, <Record cve1=<Node element_id='4:de342d72-e7ff-4d5b-9a28-99eaa381965b:4' labels=frozenset({'CVE'}) properties={'assigner': 'cna@sap.com', 'id': 'CVE-2023-0016'}> cve2=<Node element_id='4:de342d72-e7ff-4d5b-9a28-99eaa381965b:7' labels=frozenset({'CVE'}) properties={'assigner': 'cna@sap.com', 'id': 'CVE-2023-0022'}> Entities=<Node element_id='4:de342d72-e7ff-4d5b-9a28-99eaa381965b:9' labels=frozenset({'CVE'}) properties={'assigner': 'security@huntr.dev', 'id': 'CVE-2023-0028'}>>, <Record cve1=<Node element_id='4:de342d72-e7ff-4d5b-9a28-99eaa381965b:4' labels=frozenset({'CVE'}) properties={'assigner': 'cna@sap.com', 'id': 'CVE-2023-0016'}> cve2=<Node element_id='4:de342d72-e7ff-4d5b-9a28-99eaa381965b:7' labels=frozenset({'CVE'}) properties={'assigner': 'cna@sap.com', 'id': 'CVE-2023-0022'}> Entities=<Node element_id='4:de342d72-e7ff-4d5b-9a28-99eaa381965b:3' labels=frozenset({'CVE'}) properties={'assigner': 'cna@sap.com', 'id': 'CVE-2023-0015'}>>, <Record cve1=<Node element_id='4:de342d72-e7ff-4d5b-9a28-99eaa381965b:4' labels=frozenset({'CVE'}) properties={'assigner': 'cna@sap.com', 'id': 'CVE-2023-0016'}> cve2=<Node element_id='4:de342d72-e7ff-4d5b-9a28-99eaa381965b:7' labels=frozenset({'CVE'}) properties={'assigner': 'cna@sap.com', 'id': 'CVE-2023-0022'}> Entities=<Node element_id='4:de342d72-e7ff-4d5b-9a28-99eaa381965b:3' labels=frozenset({'CVE'}) properties={'assigner': 'cna@sap.com', 'id': 'CVE-2023-0015'}>>, <Record cve1=<Node element_id='4:de342d72-e7ff-4d5b-9a28-99eaa381965b:4' labels=frozenset({'CVE'}) properties={'assigner': 'cna@sap.com', 'id': 'CVE-2023-0016'}> cve2=<Node element_id='4:de342d72-e7ff-4d5b-9a28-99eaa381965b:7' labels=frozenset({'CVE'}) properties={'assigner': 'cna@sap.com', 'id': 'CVE-2023-0022'}> Entities=<Node element_id='4:de342d72-e7ff-4d5b-9a28-99eaa381965b:3' labels=frozenset({'CVE'}) properties={'assigner': 'cna@sap.com', 'id': 'CVE-2023-0015'}>>, <Record cve1=<Node element_id='4:de342d72-e7ff-4d5b-9a28-99eaa381965b:4' labels=frozenset({'CVE'}) properties={'assigner': 'cna@sap.com', 'id': 'CVE-2023-0016'}> cve2=<Node element_id='4:de342d72-e7ff-4d5b-9a28-99eaa381965b:7' labels=frozenset({'CVE'}) properties={'assigner': 'cna@sap.com', 'id': 'CVE-2023-0022'}> Entities=<Node element_id='4:de342d72-e7ff-4d5b-9a28-99eaa381965b:1' labels=frozenset({'CVE'}) properties={'assigner': 'cna@sap.com', 'id': 'CVE-2023-0013'}>>, <Record cve1=<Node element_id='4:de342d72-e7ff-4d5b-9a28-99eaa381965b:4' labels=frozenset({'CVE'}) properties={'assigner': 'cna@sap.com', 'id': 'CVE-2023-0016'}> cve2=<Node element_id='4:de342d72-e7ff-4d5b-9a28-99eaa381965b:7' labels=frozenset({'CVE'}) properties={'assigner': 'cna@sap.com', 'id': 'CVE-2023-0022'}> Entities=<Node element_id='4:de342d72-e7ff-4d5b-9a28-99eaa381965b:1' labels=frozenset({'CVE'}) properties={'assigner': 'cna@sap.com', 'id': 'CVE-2023-0013'}>>, <Record cve1=<Node element_id='4:de342d72-e7ff-4d5b-9a28-99eaa381965b:4' labels=frozenset({'CVE'}) properties={'assigner': 'cna@sap.com', 'id': 'CVE-2023-0016'}> cve2=<Node element_id='4:de342d72-e7ff-4d5b-9a28-99eaa381965b:7' labels=frozenset({'CVE'}) properties={'assigner': 'cna@sap.com', 'id': 'CVE-2023-0022'}> Entities=<Node element_id='4:de342d72-e7ff-4d5b-9a28-99eaa381965b:1' labels=frozenset({'CVE'}) properties={'assigner': 'cna@sap.com', 'id': 'CVE-2023-0013'}>>, <Record cve1=<Node element_id='4:de342d72-e7ff-4d5b-9a28-99eaa381965b:4' labels=frozenset({'CVE'}) properties={'assigner': 'cna@sap.com', 'id': 'CVE-2023-0016'}> cve2=<Node element_id='4:de342d72-e7ff-4d5b-9a28-99eaa381965b:7' labels=frozenset({'CVE'}) properties={'assigner': 'cna@sap.com', 'id': 'CVE-2023-0022'}> Entities=<Node element_id='4:de342d72-e7ff-4d5b-9a28-99eaa381965b:6' labels=frozenset({'CVE'}) properties={'assigner': 'cna@sap.com', 'id': 'CVE-2023-0018'}>>, <Record cve1=<Node element_id='4:de342d72-e7ff-4d5b-9a28-99eaa381965b:4' labels=frozenset({'CVE'}) properties={'assigner': 'cna@sap.com', 'id': 'CVE-2023-0016'}> cve2=<Node element_id='4:de342d72-e7ff-4d5b-9a28-99eaa381965b:7' labels=frozenset({'CVE'}) properties={'assigner': 'cna@sap.com', 'id': 'CVE-2023-0022'}> Entities=<Node element_id='4:de342d72-e7ff-4d5b-9a28-99eaa381965b:6' labels=frozenset({'CVE'}) properties={'assigner': 'cna@sap.com', 'id': 'CVE-2023-0018'}>>, <Record cve1=<Node element_id='4:de342d72-e7ff-4d5b-9a28-99eaa381965b:4' labels=frozenset({'CVE'}) properties={'assigner': 'cna@sap.com', 'id': 'CVE-2023-0016'}> cve2=<Node element_id='4:de342d72-e7ff-4d5b-9a28-99eaa381965b:7' labels=frozenset({'CVE'}) properties={'assigner': 'cna@sap.com', 'id': 'CVE-2023-0022'}> Entities=<Node element_id='4:de342d72-e7ff-4d5b-9a28-99eaa381965b:9' labels=frozenset({'CVE'}) properties={'assigner': 'security@huntr.dev', 'id': 'CVE-2023-0028'}>>, <Record cve1=<Node element_id='4:de342d72-e7ff-4d5b-9a28-99eaa381965b:4' labels=frozenset({'CVE'}) properties={'assigner': 'cna@sap.com', 'id': 'CVE-2023-0016'}> cve2=<Node element_id='4:de342d72-e7ff-4d5b-9a28-99eaa381965b:7' labels=frozenset({'CVE'}) properties={'assigner': 'cna@sap.com', 'id': 'CVE-2023-0022'}> Entities=<Node element_id='4:de342d72-e7ff-4d5b-9a28-99eaa381965b:9' labels=frozenset({'CVE'}) properties={'assigner': 'security@huntr.dev', 'id': 'CVE-2023-0028'}>>, <Record cve1=<Node element_id='4:de342d72-e7ff-4d5b-9a28-99eaa381965b:4' labels=frozenset({'CVE'}) properties={'assigner': 'cna@sap.com', 'id': 'CVE-2023-0016'}> cve2=<Node element_id='4:de342d72-e7ff-4d5b-9a28-99eaa381965b:7' labels=frozenset({'CVE'}) properties={'assigner': 'cna@sap.com', 'id': 'CVE-2023-0022'}> Entities=<Node element_id='4:de342d72-e7ff-4d5b-9a28-99eaa381965b:3' labels=frozenset({'CVE'}) properties={'assigner': 'cna@sap.com', 'id': 'CVE-2023-0015'}>>, <Record cve1=<Node element_id='4:de342d72-e7ff-4d5b-9a28-99eaa381965b:4' labels=frozenset({'CVE'}) properties={'assigner': 'cna@sap.com', 'id': 'CVE-2023-0016'}> cve2=<Node element_id='4:de342d72-e7ff-4d5b-9a28-99eaa381965b:7' labels=frozenset({'CVE'}) properties={'assigner': 'cna@sap.com', 'id': 'CVE-2023-0022'}> Entities=<Node element_id='4:de342d72-e7ff-4d5b-9a28-99eaa381965b:3' labels=frozenset({'CVE'}) properties={'assigner': 'cna@sap.com', 'id': 'CVE-2023-0015'}>>, <Record cve1=<Node element_id='4:de342d72-e7ff-4d5b-9a28-99eaa381965b:4' labels=frozenset({'CVE'}) properties={'assigner': 'cna@sap.com', 'id': 'CVE-2023-0016'}> cve2=<Node element_id='4:de342d72-e7ff-4d5b-9a28-99eaa381965b:7' labels=frozenset({'CVE'}) properties={'assigner': 'cna@sap.com', 'id': 'CVE-2023-0022'}> Entities=<Node element_id='4:de342d72-e7ff-4d5b-9a28-99eaa381965b:1' labels=frozenset({'CVE'}) properties={'assigner': 'cna@sap.com', 'id': 'CVE-2023-0013'}>>, <Record cve1=<Node element_id='4:de342d72-e7ff-4d5b-9a28-99eaa381965b:4' labels=frozenset({'CVE'}) properties={'assigner': 'cna@sap.com', 'id': 'CVE-2023-0016'}> cve2=<Node element_id='4:de342d72-e7ff-4d5b-9a28-99eaa381965b:7' labels=frozenset({'CVE'}) properties={'assigner': 'cna@sap.com', 'id': 'CVE-2023-0022'}> Entities=<Node element_id='4:de342d72-e7ff-4d5b-9a28-99eaa381965b:1' labels=frozenset({'CVE'}) properties={'assigner': 'cna@sap.com', 'id': 'CVE-2023-0013'}>>, <Record cve1=<Node element_id='4:de342d72-e7ff-4d5b-9a28-99eaa381965b:4' labels=frozenset({'CVE'}) properties={'assigner': 'cna@sap.com', 'id': 'CVE-2023-0016'}> cve2=<Node element_id='4:de342d72-e7ff-4d5b-9a28-99eaa381965b:7' labels=frozenset({'CVE'}) properties={'assigner': 'cna@sap.com', 'id': 'CVE-2023-0022'}> Entities=<Node element_id='4:de342d72-e7ff-4d5b-9a28-99eaa381965b:6' labels=frozenset({'CVE'}) properties={'assigner': 'cna@sap.com', 'id': 'CVE-2023-0018'}>>, <Record cve1=<Node element_id='4:de342d72-e7ff-4d5b-9a28-99eaa381965b:4' labels=frozenset({'CVE'}) properties={'assigner': 'cna@sap.com', 'id': 'CVE-2023-0016'}> cve2=<Node element_id='4:de342d72-e7ff-4d5b-9a28-99eaa381965b:7' labels=frozenset({'CVE'}) properties={'assigner': 'cna@sap.com', 'id': 'CVE-2023-0022'}> Entities=<Node element_id='4:de342d72-e7ff-4d5b-9a28-99eaa381965b:6' labels=frozenset({'CVE'}) properties={'assigner': 'cna@sap.com', 'id': 'CVE-2023-0018'}>>, <Record cve1=<Node element_id='4:de342d72-e7ff-4d5b-9a28-99eaa381965b:4' labels=frozenset({'CVE'}) properties={'assigner': 'cna@sap.com', 'id': 'CVE-2023-0016'}> cve2=<Node element_id='4:de342d72-e7ff-4d5b-9a28-99eaa381965b:7' labels=frozenset({'CVE'}) properties={'assigner': 'cna@sap.com', 'id': 'CVE-2023-0022'}> Entities=<Node element_id='4:de342d72-e7ff-4d5b-9a28-99eaa381965b:9' labels=frozenset({'CVE'}) properties={'assigner': 'security@huntr.dev', 'id': 'CVE-2023-0028'}>>, <Record cve1=<Node element_id='4:de342d72-e7ff-4d5b-9a28-99eaa381965b:4' labels=frozenset({'CVE'}) properties={'assigner': 'cna@sap.com', 'id': 'CVE-2023-0016'}> cve2=<Node element_id='4:de342d72-e7ff-4d5b-9a28-99eaa381965b:7' labels=frozenset({'CVE'}) properties={'assigner': 'cna@sap.com', 'id': 'CVE-2023-0022'}> Entities=<Node element_id='4:de342d72-e7ff-4d5b-9a28-99eaa381965b:9' labels=frozenset({'CVE'}) properties={'assigner': 'security@huntr.dev', 'id': 'CVE-2023-0028'}>>, <Record cve1=<Node element_id='4:de342d72-e7ff-4d5b-9a28-99eaa381965b:4' labels=frozenset({'CVE'}) properties={'assigner': 'cna@sap.com', 'id': 'CVE-2023-0016'}> cve2=<Node element_id='4:de342d72-e7ff-4d5b-9a28-99eaa381965b:7' labels=frozenset({'CVE'}) properties={'assigner': 'cna@sap.com', 'id': 'CVE-2023-0022'}> Entities=<Node element_id='4:de342d72-e7ff-4d5b-9a28-99eaa381965b:3' labels=frozenset({'CVE'}) properties={'assigner': 'cna@sap.com', 'id': 'CVE-2023-0015'}>>, <Record cve1=<Node element_id='4:de342d72-e7ff-4d5b-9a28-99eaa381965b:4' labels=frozenset({'CVE'}) properties={'assigner': 'cna@sap.com', 'id': 'CVE-2023-0016'}> cve2=<Node element_id='4:de342d72-e7ff-4d5b-9a28-99eaa381965b:7' labels=frozenset({'CVE'}) properties={'assigner': 'cna@sap.com', 'id': 'CVE-2023-0022'}> Entities=<Node element_id='4:de342d72-e7ff-4d5b-9a28-99eaa381965b:3' labels=frozenset({'CVE'}) properties={'assigner': 'cna@sap.com', 'id': 'CVE-2023-0015'}>>, <Record cve1=<Node element_id='4:de342d72-e7ff-4d5b-9a28-99eaa381965b:4' labels=frozenset({'CVE'}) properties={'assigner': 'cna@sap.com', 'id': 'CVE-2023-0016'}> cve2=<Node element_id='4:de342d72-e7ff-4d5b-9a28-99eaa381965b:7' labels=frozenset({'CVE'}) properties={'assigner': 'cna@sap.com', 'id': 'CVE-2023-0022'}> Entities=<Node element_id='4:de342d72-e7ff-4d5b-9a28-99eaa381965b:1' labels=frozenset({'CVE'}) properties={'assigner': 'cna@sap.com', 'id': 'CVE-2023-0013'}>>, <Record cve1=<Node element_id='4:de342d72-e7ff-4d5b-9a28-99eaa381965b:4' labels=frozenset({'CVE'}) properties={'assigner': 'cna@sap.com', 'id': 'CVE-2023-0016'}> cve2=<Node element_id='4:de342d72-e7ff-4d5b-9a28-99eaa381965b:7' labels=frozenset({'CVE'}) properties={'assigner': 'cna@sap.com', 'id': 'CVE-2023-0022'}> Entities=<Node element_id='4:de342d72-e7ff-4d5b-9a28-99eaa381965b:1' labels=frozenset({'CVE'}) properties={'assigner': 'cna@sap.com', 'id': 'CVE-2023-0013'}>>, <Record cve1=<Node element_id='4:de342d72-e7ff-4d5b-9a28-99eaa381965b:4' labels=frozenset({'CVE'}) properties={'assigner': 'cna@sap.com', 'id': 'CVE-2023-0016'}> cve2=<Node element_id='4:de342d72-e7ff-4d5b-9a28-99eaa381965b:7' labels=frozenset({'CVE'}) properties={'assigner': 'cna@sap.com', 'id': 'CVE-2023-0022'}> Entities=<Node element_id='4:de342d72-e7ff-4d5b-9a28-99eaa381965b:6' labels=frozenset({'CVE'}) properties={'assigner': 'cna@sap.com', 'id': 'CVE-2023-0018'}>>, <Record cve1=<Node element_id='4:de342d72-e7ff-4d5b-9a28-99eaa381965b:4' labels=frozenset({'CVE'}) properties={'assigner': 'cna@sap.com', 'id': 'CVE-2023-0016'}> cve2=<Node element_id='4:de342d72-e7ff-4d5b-9a28-99eaa381965b:7' labels=frozenset({'CVE'}) properties={'assigner': 'cna@sap.com', 'id': 'CVE-2023-0022'}> Entities=<Node element_id='4:de342d72-e7ff-4d5b-9a28-99eaa381965b:6' labels=frozenset({'CVE'}) properties={'assigner': 'cna@sap.com', 'id': 'CVE-2023-0018'}>>, <Record cve1=<Node element_id='4:de342d72-e7ff-4d5b-9a28-99eaa381965b:4' labels=frozenset({'CVE'}) properties={'assigner': 'cna@sap.com', 'id': 'CVE-2023-0016'}> cve2=<Node element_id='4:de342d72-e7ff-4d5b-9a28-99eaa381965b:7' labels=frozenset({'CVE'}) properties={'assigner': 'cna@sap.com', 'id': 'CVE-2023-0022'}> Entities=<Node element_id='4:de342d72-e7ff-4d5b-9a28-99eaa381965b:9' labels=frozenset({'CVE'}) properties={'assigner': 'security@huntr.dev', 'id': 'CVE-2023-0028'}>>, <Record cve1=<Node element_id='4:de342d72-e7ff-4d5b-9a28-99eaa381965b:4' labels=frozenset({'CVE'}) properties={'assigner': 'cna@sap.com', 'id': 'CVE-2023-0016'}> cve2=<Node element_id='4:de342d72-e7ff-4d5b-9a28-99eaa381965b:7' labels=frozenset({'CVE'}) properties={'assigner': 'cna@sap.com', 'id': 'CVE-2023-0022'}> Entities=<Node element_id='4:de342d72-e7ff-4d5b-9a28-99eaa381965b:9' labels=frozenset({'CVE'}) properties={'assigner': 'security@huntr.dev', 'id': 'CVE-2023-0028'}>>, <Record cve1=<Node element_id='4:de342d72-e7ff-4d5b-9a28-99eaa381965b:4' labels=frozenset({'CVE'}) properties={'assigner': 'cna@sap.com', 'id': 'CVE-2023-0016'}> cve2=<Node element_id='4:de342d72-e7ff-4d5b-9a28-99eaa381965b:7' labels=frozenset({'CVE'}) properties={'assigner': 'cna@sap.com', 'id': 'CVE-2023-0022'}> Entities=<Node element_id='4:de342d72-e7ff-4d5b-9a28-99eaa381965b:3' labels=frozenset({'CVE'}) properties={'assigner': 'cna@sap.com', 'id': 'CVE-2023-0015'}>>, <Record cve1=<Node element_id='4:de342d72-e7ff-4d5b-9a28-99eaa381965b:4' labels=frozenset({'CVE'}) properties={'assigner': 'cna@sap.com', 'id': 'CVE-2023-0016'}> cve2=<Node element_id='4:de342d72-e7ff-4d5b-9a28-99eaa381965b:7' labels=frozenset({'CVE'}) properties={'assigner': 'cna@sap.com', 'id': 'CVE-2023-0022'}> Entities=<Node element_id='4:de342d72-e7ff-4d5b-9a28-99eaa381965b:3' labels=frozenset({'CVE'}) properties={'assigner': 'cna@sap.com', 'id': 'CVE-2023-0015'}>>, <Record cve1=<Node element_id='4:de342d72-e7ff-4d5b-9a28-99eaa381965b:4' labels=frozenset({'CVE'}) properties={'assigner': 'cna@sap.com', 'id': 'CVE-2023-0016'}> cve2=<Node element_id='4:de342d72-e7ff-4d5b-9a28-99eaa381965b:7' labels=frozenset({'CVE'}) properties={'assigner': 'cna@sap.com', 'id': 'CVE-2023-0022'}> Entities=<Node element_id='4:de342d72-e7ff-4d5b-9a28-99eaa381965b:1' labels=frozenset({'CVE'}) properties={'assigner': 'cna@sap.com', 'id': 'CVE-2023-0013'}>>, <Record cve1=<Node element_id='4:de342d72-e7ff-4d5b-9a28-99eaa381965b:4' labels=frozenset({'CVE'}) properties={'assigner': 'cna@sap.com', 'id': 'CVE-2023-0016'}> cve2=<Node element_id='4:de342d72-e7ff-4d5b-9a28-99eaa381965b:7' labels=frozenset({'CVE'}) properties={'assigner': 'cna@sap.com', 'id': 'CVE-2023-0022'}> Entities=<Node element_id='4:de342d72-e7ff-4d5b-9a28-99eaa381965b:1' labels=frozenset({'CVE'}) properties={'assigner': 'cna@sap.com', 'id': 'CVE-2023-0013'}>>, <Record cve1=<Node element_id='4:de342d72-e7ff-4d5b-9a28-99eaa381965b:4' labels=frozenset({'CVE'}) properties={'assigner': 'cna@sap.com', 'id': 'CVE-2023-0016'}> cve2=<Node element_id='4:de342d72-e7ff-4d5b-9a28-99eaa381965b:7' labels=frozenset({'CVE'}) properties={'assigner': 'cna@sap.com', 'id': 'CVE-2023-0022'}> Entities=<Node element_id='4:de342d72-e7ff-4d5b-9a28-99eaa381965b:6' labels=frozenset({'CVE'}) properties={'assigner': 'cna@sap.com', 'id': 'CVE-2023-0018'}>>, <Record cve1=<Node element_id='4:de342d72-e7ff-4d5b-9a28-99eaa381965b:4' labels=frozenset({'CVE'}) properties={'assigner': 'cna@sap.com', 'id': 'CVE-2023-0016'}> cve2=<Node element_id='4:de342d72-e7ff-4d5b-9a28-99eaa381965b:7' labels=frozenset({'CVE'}) properties={'assigner': 'cna@sap.com', 'id': 'CVE-2023-0022'}> Entities=<Node element_id='4:de342d72-e7ff-4d5b-9a28-99eaa381965b:6' labels=frozenset({'CVE'}) properties={'assigner': 'cna@sap.com', 'id': 'CVE-2023-0018'}>>, <Record cve1=<Node element_id='4:de342d72-e7ff-4d5b-9a28-99eaa381965b:4' labels=frozenset({'CVE'}) properties={'assigner': 'cna@sap.com', 'id': 'CVE-2023-0016'}> cve2=<Node element_id='4:de342d72-e7ff-4d5b-9a28-99eaa381965b:7' labels=frozenset({'CVE'}) properties={'assigner': 'cna@sap.com', 'id': 'CVE-2023-0022'}> Entities=<Node element_id='4:de342d72-e7ff-4d5b-9a28-99eaa381965b:9' labels=frozenset({'CVE'}) properties={'assigner': 'security@huntr.dev', 'id': 'CVE-2023-0028'}>>, <Record cve1=<Node element_id='4:de342d72-e7ff-4d5b-9a28-99eaa381965b:4' labels=frozenset({'CVE'}) properties={'assigner': 'cna@sap.com', 'id': 'CVE-2023-0016'}> cve2=<Node element_id='4:de342d72-e7ff-4d5b-9a28-99eaa381965b:7' labels=frozenset({'CVE'}) properties={'assigner': 'cna@sap.com', 'id': 'CVE-2023-0022'}> Entities=<Node element_id='4:de342d72-e7ff-4d5b-9a28-99eaa381965b:9' labels=frozenset({'CVE'}) properties={'assigner': 'security@huntr.dev', 'id': 'CVE-2023-0028'}>>, <Record cve1=<Node element_id='4:de342d72-e7ff-4d5b-9a28-99eaa381965b:4' labels=frozenset({'CVE'}) properties={'assigner': 'cna@sap.com', 'id': 'CVE-2023-0016'}> cve2=<Node element_id='4:de342d72-e7ff-4d5b-9a28-99eaa381965b:7' labels=frozenset({'CVE'}) properties={'assigner': 'cna@sap.com', 'id': 'CVE-2023-0022'}> Entities=<Node element_id='4:de342d72-e7ff-4d5b-9a28-99eaa381965b:3' labels=frozenset({'CVE'}) properties={'assigner': 'cna@sap.com', 'id': 'CVE-2023-0015'}>>, <Record cve1=<Node element_id='4:de342d72-e7ff-4d5b-9a28-99eaa381965b:4' labels=frozenset({'CVE'}) properties={'assigner': 'cna@sap.com', 'id': 'CVE-2023-0016'}> cve2=<Node element_id='4:de342d72-e7ff-4d5b-9a28-99eaa381965b:7' labels=frozenset({'CVE'}) properties={'assigner': 'cna@sap.com', 'id': 'CVE-2023-0022'}> Entities=<Node element_id='4:de342d72-e7ff-4d5b-9a28-99eaa381965b:3' labels=frozenset({'CVE'}) properties={'assigner': 'cna@sap.com', 'id': 'CVE-2023-0015'}>>, <Record cve1=<Node element_id='4:de342d72-e7ff-4d5b-9a28-99eaa381965b:4' labels=frozenset({'CVE'}) properties={'assigner': 'cna@sap.com', 'id': 'CVE-2023-0016'}> cve2=<Node element_id='4:de342d72-e7ff-4d5b-9a28-99eaa381965b:7' labels=frozenset({'CVE'}) properties={'assigner': 'cna@sap.com', 'id': 'CVE-2023-0022'}> Entities=<Node element_id='4:de342d72-e7ff-4d5b-9a28-99eaa381965b:1' labels=frozenset({'CVE'}) properties={'assigner': 'cna@sap.com', 'id': 'CVE-2023-0013'}>>, <Record cve1=<Node element_id='4:de342d72-e7ff-4d5b-9a28-99eaa381965b:4' labels=frozenset({'CVE'}) properties={'assigner': 'cna@sap.com', 'id': 'CVE-2023-0016'}> cve2=<Node element_id='4:de342d72-e7ff-4d5b-9a28-99eaa381965b:7' labels=frozenset({'CVE'}) properties={'assigner': 'cna@sap.com', 'id': 'CVE-2023-0022'}> Entities=<Node element_id='4:de342d72-e7ff-4d5b-9a28-99eaa381965b:1' labels=frozenset({'CVE'}) properties={'assigner': 'cna@sap.com', 'id': 'CVE-2023-0013'}>>, <Record cve1=<Node element_id='4:de342d72-e7ff-4d5b-9a28-99eaa381965b:4' labels=frozenset({'CVE'}) properties={'assigner': 'cna@sap.com', 'id': 'CVE-2023-0016'}> cve2=<Node element_id='4:de342d72-e7ff-4d5b-9a28-99eaa381965b:7' labels=frozenset({'CVE'}) properties={'assigner': 'cna@sap.com', 'id': 'CVE-2023-0022'}> Entities=<Node element_id='4:de342d72-e7ff-4d5b-9a28-99eaa381965b:6' labels=frozenset({'CVE'}) properties={'assigner': 'cna@sap.com', 'id': 'CVE-2023-0018'}>>, <Record cve1=<Node element_id='4:de342d72-e7ff-4d5b-9a28-99eaa381965b:4' labels=frozenset({'CVE'}) properties={'assigner': 'cna@sap.com', 'id': 'CVE-2023-0016'}> cve2=<Node element_id='4:de342d72-e7ff-4d5b-9a28-99eaa381965b:7' labels=frozenset({'CVE'}) properties={'assigner': 'cna@sap.com', 'id': 'CVE-2023-0022'}> Entities=<Node element_id='4:de342d72-e7ff-4d5b-9a28-99eaa381965b:6' labels=frozenset({'CVE'}) properties={'assigner': 'cna@sap.com', 'id': 'CVE-2023-0018'}>>, <Record cve1=<Node element_id='4:de342d72-e7ff-4d5b-9a28-99eaa381965b:4' labels=frozenset({'CVE'}) properties={'assigner': 'cna@sap.com', 'id': 'CVE-2023-0016'}> cve2=<Node element_id='4:de342d72-e7ff-4d5b-9a28-99eaa381965b:7' labels=frozenset({'CVE'}) properties={'assigner': 'cna@sap.com', 'id': 'CVE-2023-0022'}> Entities=<Node element_id='4:de342d72-e7ff-4d5b-9a28-99eaa381965b:9' labels=frozenset({'CVE'}) properties={'assigner': 'security@huntr.dev', 'id': 'CVE-2023-0028'}>>, <Record cve1=<Node element_id='4:de342d72-e7ff-4d5b-9a28-99eaa381965b:4' labels=frozenset({'CVE'}) properties={'assigner': 'cna@sap.com', 'id': 'CVE-2023-0016'}> cve2=<Node element_id='4:de342d72-e7ff-4d5b-9a28-99eaa381965b:7' labels=frozenset({'CVE'}) properties={'assigner': 'cna@sap.com', 'id': 'CVE-2023-0022'}> Entities=<Node element_id='4:de342d72-e7ff-4d5b-9a28-99eaa381965b:9' labels=frozenset({'CVE'}) properties={'assigner': 'security@huntr.dev', 'id': 'CVE-2023-0028'}>>, <Record cve1=<Node element_id='4:de342d72-e7ff-4d5b-9a28-99eaa381965b:4' labels=frozenset({'CVE'}) properties={'assigner': 'cna@sap.com', 'id': 'CVE-2023-0016'}> cve2=<Node element_id='4:de342d72-e7ff-4d5b-9a28-99eaa381965b:7' labels=frozenset({'CVE'}) properties={'assigner': 'cna@sap.com', 'id': 'CVE-2023-0022'}> Entities=<Node element_id='4:de342d72-e7ff-4d5b-9a28-99eaa381965b:3' labels=frozenset({'CVE'}) properties={'assigner': 'cna@sap.com', 'id': 'CVE-2023-0015'}>>, <Record cve1=<Node element_id='4:de342d72-e7ff-4d5b-9a28-99eaa381965b:4' labels=frozenset({'CVE'}) properties={'assigner': 'cna@sap.com', 'id': 'CVE-2023-0016'}> cve2=<Node element_id='4:de342d72-e7ff-4d5b-9a28-99eaa381965b:7' labels=frozenset({'CVE'}) properties={'assigner': 'cna@sap.com', 'id': 'CVE-2023-0022'}> Entities=<Node element_id='4:de342d72-e7ff-4d5b-9a28-99eaa381965b:3' labels=frozenset({'CVE'}) properties={'assigner': 'cna@sap.com', 'id': 'CVE-2023-0015'}>>, <Record cve1=<Node element_id='4:de342d72-e7ff-4d5b-9a28-99eaa381965b:4' labels=frozenset({'CVE'}) properties={'assigner': 'cna@sap.com', 'id': 'CVE-2023-0016'}> cve2=<Node element_id='4:de342d72-e7ff-4d5b-9a28-99eaa381965b:7' labels=frozenset({'CVE'}) properties={'assigner': 'cna@sap.com', 'id': 'CVE-2023-0022'}> Entities=<Node element_id='4:de342d72-e7ff-4d5b-9a28-99eaa381965b:1' labels=frozenset({'CVE'}) properties={'assigner': 'cna@sap.com', 'id': 'CVE-2023-0013'}>>, <Record cve1=<Node element_id='4:de342d72-e7ff-4d5b-9a28-99eaa381965b:4' labels=frozenset({'CVE'}) properties={'assigner': 'cna@sap.com', 'id': 'CVE-2023-0016'}> cve2=<Node element_id='4:de342d72-e7ff-4d5b-9a28-99eaa381965b:7' labels=frozenset({'CVE'}) properties={'assigner': 'cna@sap.com', 'id': 'CVE-2023-0022'}> Entities=<Node element_id='4:de342d72-e7ff-4d5b-9a28-99eaa381965b:1' labels=frozenset({'CVE'}) properties={'assigner': 'cna@sap.com', 'id': 'CVE-2023-0013'}>>, <Record cve1=<Node element_id='4:de342d72-e7ff-4d5b-9a28-99eaa381965b:4' labels=frozenset({'CVE'}) properties={'assigner': 'cna@sap.com', 'id': 'CVE-2023-0016'}> cve2=<Node element_id='4:de342d72-e7ff-4d5b-9a28-99eaa381965b:7' labels=frozenset({'CVE'}) properties={'assigner': 'cna@sap.com', 'id': 'CVE-2023-0022'}> Entities=<Node element_id='4:de342d72-e7ff-4d5b-9a28-99eaa381965b:6' labels=frozenset({'CVE'}) properties={'assigner': 'cna@sap.com', 'id': 'CVE-2023-0018'}>>, <Record cve1=<Node element_id='4:de342d72-e7ff-4d5b-9a28-99eaa381965b:4' labels=frozenset({'CVE'}) properties={'assigner': 'cna@sap.com', 'id': 'CVE-2023-0016'}> cve2=<Node element_id='4:de342d72-e7ff-4d5b-9a28-99eaa381965b:7' labels=frozenset({'CVE'}) properties={'assigner': 'cna@sap.com', 'id': 'CVE-2023-0022'}> Entities=<Node element_id='4:de342d72-e7ff-4d5b-9a28-99eaa381965b:6' labels=frozenset({'CVE'}) properties={'assigner': 'cna@sap.com', 'id': 'CVE-2023-0018'}>>, <Record cve1=<Node element_id='4:de342d72-e7ff-4d5b-9a28-99eaa381965b:4' labels=frozenset({'CVE'}) properties={'assigner': 'cna@sap.com', 'id': 'CVE-2023-0016'}> cve2=<Node element_id='4:de342d72-e7ff-4d5b-9a28-99eaa381965b:7' labels=frozenset({'CVE'}) properties={'assigner': 'cna@sap.com', 'id': 'CVE-2023-0022'}> Entities=<Node element_id='4:de342d72-e7ff-4d5b-9a28-99eaa381965b:9' labels=frozenset({'CVE'}) properties={'assigner': 'security@huntr.dev', 'id': 'CVE-2023-0028'}>>, <Record cve1=<Node element_id='4:de342d72-e7ff-4d5b-9a28-99eaa381965b:4' labels=frozenset({'CVE'}) properties={'assigner': 'cna@sap.com', 'id': 'CVE-2023-0016'}> cve2=<Node element_id='4:de342d72-e7ff-4d5b-9a28-99eaa381965b:7' labels=frozenset({'CVE'}) properties={'assigner': 'cna@sap.com', 'id': 'CVE-2023-0022'}> Entities=<Node element_id='4:de342d72-e7ff-4d5b-9a28-99eaa381965b:9' labels=frozenset({'CVE'}) properties={'assigner': 'security@huntr.dev', 'id': 'CVE-2023-0028'}>>, <Record cve1=<Node element_id='4:de342d72-e7ff-4d5b-9a28-99eaa381965b:4' labels=frozenset({'CVE'}) properties={'assigner': 'cna@sap.com', 'id': 'CVE-2023-0016'}> cve2=<Node element_id='4:de342d72-e7ff-4d5b-9a28-99eaa381965b:7' labels=frozenset({'CVE'}) properties={'assigner': 'cna@sap.com', 'id': 'CVE-2023-0022'}> Entities=<Node element_id='4:de342d72-e7ff-4d5b-9a28-99eaa381965b:3' labels=frozenset({'CVE'}) properties={'assigner': 'cna@sap.com', 'id': 'CVE-2023-0015'}>>, <Record cve1=<Node element_id='4:de342d72-e7ff-4d5b-9a28-99eaa381965b:4' labels=frozenset({'CVE'}) properties={'assigner': 'cna@sap.com', 'id': 'CVE-2023-0016'}> cve2=<Node element_id='4:de342d72-e7ff-4d5b-9a28-99eaa381965b:7' labels=frozenset({'CVE'}) properties={'assigner': 'cna@sap.com', 'id': 'CVE-2023-0022'}> Entities=<Node element_id='4:de342d72-e7ff-4d5b-9a28-99eaa381965b:3' labels=frozenset({'CVE'}) properties={'assigner': 'cna@sap.com', 'id': 'CVE-2023-0015'}>>, <Record cve1=<Node element_id='4:de342d72-e7ff-4d5b-9a28-99eaa381965b:4' labels=frozenset({'CVE'}) properties={'assigner': 'cna@sap.com', 'id': 'CVE-2023-0016'}> cve2=<Node element_id='4:de342d72-e7ff-4d5b-9a28-99eaa381965b:7' labels=frozenset({'CVE'}) properties={'assigner': 'cna@sap.com', 'id': 'CVE-2023-0022'}> Entities=<Node element_id='4:de342d72-e7ff-4d5b-9a28-99eaa381965b:1' labels=frozenset({'CVE'}) properties={'assigner': 'cna@sap.com', 'id': 'CVE-2023-0013'}>>, <Record cve1=<Node element_id='4:de342d72-e7ff-4d5b-9a28-99eaa381965b:4' labels=frozenset({'CVE'}) properties={'assigner': 'cna@sap.com', 'id': 'CVE-2023-0016'}> cve2=<Node element_id='4:de342d72-e7ff-4d5b-9a28-99eaa381965b:7' labels=frozenset({'CVE'}) properties={'assigner': 'cna@sap.com', 'id': 'CVE-2023-0022'}> Entities=<Node element_id='4:de342d72-e7ff-4d5b-9a28-99eaa381965b:1' labels=frozenset({'CVE'}) properties={'assigner': 'cna@sap.com', 'id': 'CVE-2023-0013'}>>, <Record cve1=<Node element_id='4:de342d72-e7ff-4d5b-9a28-99eaa381965b:4' labels=frozenset({'CVE'}) properties={'assigner': 'cna@sap.com', 'id': 'CVE-2023-0016'}> cve2=<Node element_id='4:de342d72-e7ff-4d5b-9a28-99eaa381965b:7' labels=frozenset({'CVE'}) properties={'assigner': 'cna@sap.com', 'id': 'CVE-2023-0022'}> Entities=<Node element_id='4:de342d72-e7ff-4d5b-9a28-99eaa381965b:4' labels=frozenset({'CVE'}) properties={'assigner': 'cna@sap.com', 'id': 'CVE-2023-0016'}>>, <Record cve1=<Node element_id='4:de342d72-e7ff-4d5b-9a28-99eaa381965b:4' labels=frozenset({'CVE'}) properties={'assigner': 'cna@sap.com', 'id': 'CVE-2023-0016'}> cve2=<Node element_id='4:de342d72-e7ff-4d5b-9a28-99eaa381965b:7' labels=frozenset({'CVE'}) properties={'assigner': 'cna@sap.com', 'id': 'CVE-2023-0022'}> Entities=<Node element_id='4:de342d72-e7ff-4d5b-9a28-99eaa381965b:167' labels=frozenset({'Entities'}) properties={'wikipediaExternalRef': 241154, 'wikidataId': 'Q371199', 'confidence_score': 0.719, 'offsetStart': 0, 'offsetEnd': 20, 'rawName': 'Cross-site scripting'}>>, <Record cve1=<Node element_id='4:de342d72-e7ff-4d5b-9a28-99eaa381965b:4' labels=frozenset({'CVE'}) properties={'assigner': 'cna@sap.com', 'id': 'CVE-2023-0016'}> cve2=<Node element_id='4:de342d72-e7ff-4d5b-9a28-99eaa381965b:7' labels=frozenset({'CVE'}) properties={'assigner': 'cna@sap.com', 'id': 'CVE-2023-0022'}> Entities=<Node element_id='4:de342d72-e7ff-4d5b-9a28-99eaa381965b:167' labels=frozenset({'Entities'}) properties={'wikipediaExternalRef': 241154, 'wikidataId': 'Q371199', 'confidence_score': 0.719, 'offsetStart': 0, 'offsetEnd': 20, 'rawName': 'Cross-site scripting'}>>, <Record cve1=<Node element_id='4:de342d72-e7ff-4d5b-9a28-99eaa381965b:4' labels=frozenset({'CVE'}) properties={'assigner': 'cna@sap.com', 'id': 'CVE-2023-0016'}> cve2=<Node element_id='4:de342d72-e7ff-4d5b-9a28-99eaa381965b:7' labels=frozenset({'CVE'}) properties={'assigner': 'cna@sap.com', 'id': 'CVE-2023-0022'}> Entities=<Node element_id='4:de342d72-e7ff-4d5b-9a28-99eaa381965b:167' labels=frozenset({'Entities'}) properties={'wikipediaExternalRef': 241154, 'wikidataId': 'Q371199', 'confidence_score': 0.719, 'offsetStart': 0, 'offsetEnd': 20, 'rawName': 'Cross-site scripting'}>>, <Record cve1=<Node element_id='4:de342d72-e7ff-4d5b-9a28-99eaa381965b:4' labels=frozenset({'CVE'}) properties={'assigner': 'cna@sap.com', 'id': 'CVE-2023-0016'}> cve2=<Node element_id='4:de342d72-e7ff-4d5b-9a28-99eaa381965b:7' labels=frozenset({'CVE'}) properties={'assigner': 'cna@sap.com', 'id': 'CVE-2023-0022'}> Entities=<Node element_id='4:de342d72-e7ff-4d5b-9a28-99eaa381965b:167' labels=frozenset({'Entities'}) properties={'wikipediaExternalRef': 241154, 'wikidataId': 'Q371199', 'confidence_score': 0.719, 'offsetStart': 0, 'offsetEnd': 20, 'rawName': 'Cross-site scripting'}>>, <Record cve1=<Node element_id='4:de342d72-e7ff-4d5b-9a28-99eaa381965b:4' labels=frozenset({'CVE'}) properties={'assigner': 'cna@sap.com', 'id': 'CVE-2023-0016'}> cve2=<Node element_id='4:de342d72-e7ff-4d5b-9a28-99eaa381965b:7' labels=frozenset({'CVE'}) properties={'assigner': 'cna@sap.com', 'id': 'CVE-2023-0022'}> Entities=<Node element_id='4:de342d72-e7ff-4d5b-9a28-99eaa381965b:262' labels=frozenset({'Entities'}) properties={'wikipediaExternalRef': 526999, 'wikidataId': 'Q506059', 'confidence_score': 0.9162, 'offsetStart': 1041, 'offsetEnd': 1054, 'rawName': 'SQL injection'}>>, <Record cve1=<Node element_id='4:de342d72-e7ff-4d5b-9a28-99eaa381965b:1' labels=frozenset({'CVE'}) properties={'assigner': 'cna@sap.com', 'id': 'CVE-2023-0013'}> cve2=<Node element_id='4:de342d72-e7ff-4d5b-9a28-99eaa381965b:3' labels=frozenset({'CVE'}) properties={'assigner': 'cna@sap.com', 'id': 'CVE-2023-0015'}> Entities=<Node element_id='4:de342d72-e7ff-4d5b-9a28-99eaa381965b:262' labels=frozenset({'Entities'}) properties={'wikipediaExternalRef': 526999, 'wikidataId': 'Q506059', 'confidence_score': 0.9162, 'offsetStart': 1041, 'offsetEnd': 1054, 'rawName': 'SQL injection'}>>, <Record cve1=<Node element_id='4:de342d72-e7ff-4d5b-9a28-99eaa381965b:1' labels=frozenset({'CVE'}) properties={'assigner': 'cna@sap.com', 'id': 'CVE-2023-0013'}> cve2=<Node element_id='4:de342d72-e7ff-4d5b-9a28-99eaa381965b:3' labels=frozenset({'CVE'}) properties={'assigner': 'cna@sap.com', 'id': 'CVE-2023-0015'}> Entities=<Node element_id='4:de342d72-e7ff-4d5b-9a28-99eaa381965b:287' labels=frozenset({'Entities'}) properties={'wikipediaExternalRef': 5316476, 'wikidataId': 'Q2587068', 'confidence_score': 0.4076, 'offsetStart': 394, 'offsetEnd': 415, 'rawName': 'sensitive information'}>>, <Record cve1=<Node element_id='4:de342d72-e7ff-4d5b-9a28-99eaa381965b:1' labels=frozenset({'CVE'}) properties={'assigner': 'cna@sap.com', 'id': 'CVE-2023-0013'}> cve2=<Node element_id='4:de342d72-e7ff-4d5b-9a28-99eaa381965b:3' labels=frozenset({'CVE'}) properties={'assigner': 'cna@sap.com', 'id': 'CVE-2023-0015'}> Entities=<Node element_id='4:de342d72-e7ff-4d5b-9a28-99eaa381965b:287' labels=frozenset({'Entities'}) properties={'wikipediaExternalRef': 5316476, 'wikidataId': 'Q2587068', 'confidence_score': 0.4076, 'offsetStart': 394, 'offsetEnd': 415, 'rawName': 'sensitive information'}>>, <Record cve1=<Node element_id='4:de342d72-e7ff-4d5b-9a28-99eaa381965b:1' labels=frozenset({'CVE'}) properties={'assigner': 'cna@sap.com', 'id': 'CVE-2023-0013'}> cve2=<Node element_id='4:de342d72-e7ff-4d5b-9a28-99eaa381965b:3' labels=frozenset({'CVE'}) properties={'assigner': 'cna@sap.com', 'id': 'CVE-2023-0015'}> Entities=<Node element_id='4:de342d72-e7ff-4d5b-9a28-99eaa381965b:287' labels=frozenset({'Entities'}) properties={'wikipediaExternalRef': 5316476, 'wikidataId': 'Q2587068', 'confidence_score': 0.4076, 'offsetStart': 394, 'offsetEnd': 415, 'rawName': 'sensitive information'}>>, <Record cve1=<Node element_id='4:de342d72-e7ff-4d5b-9a28-99eaa381965b:1' labels=frozenset({'CVE'}) properties={'assigner': 'cna@sap.com', 'id': 'CVE-2023-0013'}> cve2=<Node element_id='4:de342d72-e7ff-4d5b-9a28-99eaa381965b:3' labels=frozenset({'CVE'}) properties={'assigner': 'cna@sap.com', 'id': 'CVE-2023-0015'}> Entities=<Node element_id='4:de342d72-e7ff-4d5b-9a28-99eaa381965b:314' labels=frozenset({'Entities'}) properties={'wikipediaExternalRef': 40684, 'wikidataId': 'Q228502', 'confidence_score': 0.6394, 'offsetStart': 0, 'offsetEnd': 14, 'rawName': 'Access control'}>>, <Record cve1=<Node element_id='4:de342d72-e7ff-4d5b-9a28-99eaa381965b:1' labels=frozenset({'CVE'}) properties={'assigner': 'cna@sap.com', 'id': 'CVE-2023-0013'}> cve2=<Node element_id='4:de342d72-e7ff-4d5b-9a28-99eaa381965b:3' labels=frozenset({'CVE'}) properties={'assigner': 'cna@sap.com', 'id': 'CVE-2023-0015'}> Entities=<Node element_id='4:de342d72-e7ff-4d5b-9a28-99eaa381965b:314' labels=frozenset({'Entities'}) properties={'wikipediaExternalRef': 40684, 'wikidataId': 'Q228502', 'confidence_score': 0.6394, 'offsetStart': 0, 'offsetEnd': 14, 'rawName': 'Access control'}>>, <Record cve1=<Node element_id='4:de342d72-e7ff-4d5b-9a28-99eaa381965b:1' labels=frozenset({'CVE'}) properties={'assigner': 'cna@sap.com', 'id': 'CVE-2023-0013'}> cve2=<Node element_id='4:de342d72-e7ff-4d5b-9a28-99eaa381965b:3' labels=frozenset({'CVE'}) properties={'assigner': 'cna@sap.com', 'id': 'CVE-2023-0015'}> Entities=<Node element_id='4:de342d72-e7ff-4d5b-9a28-99eaa381965b:331' labels=frozenset({'Entities'}) properties={'wikipediaExternalRef': 614094, 'wikidataId': 'Q1756025', 'confidence_score': 0.5922, 'offsetStart': 8, 'offsetEnd': 22, 'rawName': 'replay attacks'}>>, <Record cve1=<Node element_id='4:de342d72-e7ff-4d5b-9a28-99eaa381965b:1' labels=frozenset({'CVE'}) properties={'assigner': 'cna@sap.com', 'id': 'CVE-2023-0013'}> cve2=<Node element_id='4:de342d72-e7ff-4d5b-9a28-99eaa381965b:3' labels=frozenset({'CVE'}) properties={'assigner': 'cna@sap.com', 'id': 'CVE-2023-0015'}> Entities=<Node element_id='4:de342d72-e7ff-4d5b-9a28-99eaa381965b:168' labels=frozenset({'Entities'}) properties={'wikipediaExternalRef': 241154, 'wikidataId': 'Q371199', 'confidence_score': 0.8255, 'offsetStart': 3130, 'offsetEnd': 3133, 'rawName': 'XSS'}>>, <Record cve1=<Node element_id='4:de342d72-e7ff-4d5b-9a28-99eaa381965b:1' labels=frozenset({'CVE'}) properties={'assigner': 'cna@sap.com', 'id': 'CVE-2023-0013'}> cve2=<Node element_id='4:de342d72-e7ff-4d5b-9a28-99eaa381965b:3' labels=frozenset({'CVE'}) properties={'assigner': 'cna@sap.com', 'id': 'CVE-2023-0015'}> Entities=<Node element_id='4:de342d72-e7ff-4d5b-9a28-99eaa381965b:195' labels=frozenset({'Entities'}) properties={'wikipediaExternalRef': 241154, 'wikidataId': 'Q371199', 'confidence_score': 0.5158, 'offsetStart': 1120, 'offsetEnd': 1133, 'rawName': 'Reflected XSS'}>>, <Record cve1=<Node element_id='4:de342d72-e7ff-4d5b-9a28-99eaa381965b:1' labels=frozenset({'CVE'}) properties={'assigner': 'cna@sap.com', 'id': 'CVE-2023-0013'}> cve2=<Node element_id='4:de342d72-e7ff-4d5b-9a28-99eaa381965b:3' labels=frozenset({'CVE'}) properties={'assigner': 'cna@sap.com', 'id': 'CVE-2023-0015'}> Entities=<Node element_id='4:de342d72-e7ff-4d5b-9a28-99eaa381965b:208' labels=frozenset({'Entities'}) properties={'wikipediaExternalRef': 241154, 'wikidataId': 'Q371199', 'confidence_score': 0.5158, 'offsetStart': 1769, 'offsetEnd': 1779, 'rawName': 'Stored XSS'}>>, <Record cve1=<Node element_id='4:de342d72-e7ff-4d5b-9a28-99eaa381965b:1' labels=frozenset({'CVE'}) properties={'assigner': 'cna@sap.com', 'id': 'CVE-2023-0013'}> cve2=<Node element_id='4:de342d72-e7ff-4d5b-9a28-99eaa381965b:3' labels=frozenset({'CVE'}) properties={'assigner': 'cna@sap.com', 'id': 'CVE-2023-0015'}> Entities=<Node element_id='4:de342d72-e7ff-4d5b-9a28-99eaa381965b:168' labels=frozenset({'Entities'}) properties={'wikipediaExternalRef': 241154, 'wikidataId': 'Q371199', 'confidence_score': 0.8255, 'offsetStart': 3130, 'offsetEnd': 3133, 'rawName': 'XSS'}>>, <Record cve1=<Node element_id='4:de342d72-e7ff-4d5b-9a28-99eaa381965b:1' labels=frozenset({'CVE'}) properties={'assigner': 'cna@sap.com', 'id': 'CVE-2023-0013'}> cve2=<Node element_id='4:de342d72-e7ff-4d5b-9a28-99eaa381965b:3' labels=frozenset({'CVE'}) properties={'assigner': 'cna@sap.com', 'id': 'CVE-2023-0015'}> Entities=<Node element_id='4:de342d72-e7ff-4d5b-9a28-99eaa381965b:195' labels=frozenset({'Entities'}) properties={'wikipediaExternalRef': 241154, 'wikidataId': 'Q371199', 'confidence_score': 0.5158, 'offsetStart': 1120, 'offsetEnd': 1133, 'rawName': 'Reflected XSS'}>>, <Record cve1=<Node element_id='4:de342d72-e7ff-4d5b-9a28-99eaa381965b:1' labels=frozenset({'CVE'}) properties={'assigner': 'cna@sap.com', 'id': 'CVE-2023-0013'}> cve2=<Node element_id='4:de342d72-e7ff-4d5b-9a28-99eaa381965b:3' labels=frozenset({'CVE'}) properties={'assigner': 'cna@sap.com', 'id': 'CVE-2023-0015'}> Entities=<Node element_id='4:de342d72-e7ff-4d5b-9a28-99eaa381965b:208' labels=frozenset({'Entities'}) properties={'wikipediaExternalRef': 241154, 'wikidataId': 'Q371199', 'confidence_score': 0.5158, 'offsetStart': 1769, 'offsetEnd': 1779, 'rawName': 'Stored XSS'}>>, <Record cve1=<Node element_id='4:de342d72-e7ff-4d5b-9a28-99eaa381965b:1' labels=frozenset({'CVE'}) properties={'assigner': 'cna@sap.com', 'id': 'CVE-2023-0013'}> cve2=<Node element_id='4:de342d72-e7ff-4d5b-9a28-99eaa381965b:3' labels=frozenset({'CVE'}) properties={'assigner': 'cna@sap.com', 'id': 'CVE-2023-0015'}> Entities=<Node element_id='4:de342d72-e7ff-4d5b-9a28-99eaa381965b:168' labels=frozenset({'Entities'}) properties={'wikipediaExternalRef': 241154, 'wikidataId': 'Q371199', 'confidence_score': 0.8255, 'offsetStart': 3130, 'offsetEnd': 3133, 'rawName': 'XSS'}>>, <Record cve1=<Node element_id='4:de342d72-e7ff-4d5b-9a28-99eaa381965b:1' labels=frozenset({'CVE'}) properties={'assigner': 'cna@sap.com', 'id': 'CVE-2023-0013'}> cve2=<Node element_id='4:de342d72-e7ff-4d5b-9a28-99eaa381965b:3' labels=frozenset({'CVE'}) properties={'assigner': 'cna@sap.com', 'id': 'CVE-2023-0015'}> Entities=<Node element_id='4:de342d72-e7ff-4d5b-9a28-99eaa381965b:195' labels=frozenset({'Entities'}) properties={'wikipediaExternalRef': 241154, 'wikidataId': 'Q371199', 'confidence_score': 0.5158, 'offsetStart': 1120, 'offsetEnd': 1133, 'rawName': 'Reflected XSS'}>>, <Record cve1=<Node element_id='4:de342d72-e7ff-4d5b-9a28-99eaa381965b:1' labels=frozenset({'CVE'}) properties={'assigner': 'cna@sap.com', 'id': 'CVE-2023-0013'}> cve2=<Node element_id='4:de342d72-e7ff-4d5b-9a28-99eaa381965b:3' labels=frozenset({'CVE'}) properties={'assigner': 'cna@sap.com', 'id': 'CVE-2023-0015'}> Entities=<Node element_id='4:de342d72-e7ff-4d5b-9a28-99eaa381965b:208' labels=frozenset({'Entities'}) properties={'wikipediaExternalRef': 241154, 'wikidataId': 'Q371199', 'confidence_score': 0.5158, 'offsetStart': 1769, 'offsetEnd': 1779, 'rawName': 'Stored XSS'}>>, <Record cve1=<Node element_id='4:de342d72-e7ff-4d5b-9a28-99eaa381965b:1' labels=frozenset({'CVE'}) properties={'assigner': 'cna@sap.com', 'id': 'CVE-2023-0013'}> cve2=<Node element_id='4:de342d72-e7ff-4d5b-9a28-99eaa381965b:3' labels=frozenset({'CVE'}) properties={'assigner': 'cna@sap.com', 'id': 'CVE-2023-0015'}> Entities=<Node element_id='4:de342d72-e7ff-4d5b-9a28-99eaa381965b:168' labels=frozenset({'Entities'}) properties={'wikipediaExternalRef': 241154, 'wikidataId': 'Q371199', 'confidence_score': 0.8255, 'offsetStart': 3130, 'offsetEnd': 3133, 'rawName': 'XSS'}>>, <Record cve1=<Node element_id='4:de342d72-e7ff-4d5b-9a28-99eaa381965b:1' labels=frozenset({'CVE'}) properties={'assigner': 'cna@sap.com', 'id': 'CVE-2023-0013'}> cve2=<Node element_id='4:de342d72-e7ff-4d5b-9a28-99eaa381965b:3' labels=frozenset({'CVE'}) properties={'assigner': 'cna@sap.com', 'id': 'CVE-2023-0015'}> Entities=<Node element_id='4:de342d72-e7ff-4d5b-9a28-99eaa381965b:195' labels=frozenset({'Entities'}) properties={'wikipediaExternalRef': 241154, 'wikidataId': 'Q371199', 'confidence_score': 0.5158, 'offsetStart': 1120, 'offsetEnd': 1133, 'rawName': 'Reflected XSS'}>>, <Record cve1=<Node element_id='4:de342d72-e7ff-4d5b-9a28-99eaa381965b:1' labels=frozenset({'CVE'}) properties={'assigner': 'cna@sap.com', 'id': 'CVE-2023-0013'}> cve2=<Node element_id='4:de342d72-e7ff-4d5b-9a28-99eaa381965b:3' labels=frozenset({'CVE'}) properties={'assigner': 'cna@sap.com', 'id': 'CVE-2023-0015'}> Entities=<Node element_id='4:de342d72-e7ff-4d5b-9a28-99eaa381965b:208' labels=frozenset({'Entities'}) properties={'wikipediaExternalRef': 241154, 'wikidataId': 'Q371199', 'confidence_score': 0.5158, 'offsetStart': 1769, 'offsetEnd': 1779, 'rawName': 'Stored XSS'}>>, <Record cve1=<Node element_id='4:de342d72-e7ff-4d5b-9a28-99eaa381965b:1' labels=frozenset({'CVE'}) properties={'assigner': 'cna@sap.com', 'id': 'CVE-2023-0013'}> cve2=<Node element_id='4:de342d72-e7ff-4d5b-9a28-99eaa381965b:3' labels=frozenset({'CVE'}) properties={'assigner': 'cna@sap.com', 'id': 'CVE-2023-0015'}> Entities=<Node element_id='4:de342d72-e7ff-4d5b-9a28-99eaa381965b:216' labels=frozenset({'Entities'}) properties={'wikipediaExternalRef': 5316476, 'wikidataId': 'Q2587068', 'confidence_score': 0.4691, 'offsetStart': 2476, 'offsetEnd': 2490, 'rawName': 'sensitive data'}>>, <Record cve1=<Node element_id='4:de342d72-e7ff-4d5b-9a28-99eaa381965b:1' labels=frozenset({'CVE'}) properties={'assigner': 'cna@sap.com', 'id': 'CVE-2023-0013'}> cve2=<Node element_id='4:de342d72-e7ff-4d5b-9a28-99eaa381965b:3' labels=frozenset({'CVE'}) properties={'assigner': 'cna@sap.com', 'id': 'CVE-2023-0015'}> Entities=<Node element_id='4:de342d72-e7ff-4d5b-9a28-99eaa381965b:216' labels=frozenset({'Entities'}) properties={'wikipediaExternalRef': 5316476, 'wikidataId': 'Q2587068', 'confidence_score': 0.4691, 'offsetStart': 2476, 'offsetEnd': 2490, 'rawName': 'sensitive data'}>>, <Record cve1=<Node element_id='4:de342d72-e7ff-4d5b-9a28-99eaa381965b:1' labels=frozenset({'CVE'}) properties={'assigner': 'cna@sap.com', 'id': 'CVE-2023-0013'}> cve2=<Node element_id='4:de342d72-e7ff-4d5b-9a28-99eaa381965b:3' labels=frozenset({'CVE'}) properties={'assigner': 'cna@sap.com', 'id': 'CVE-2023-0015'}> Entities=<Node element_id='4:de342d72-e7ff-4d5b-9a28-99eaa381965b:216' labels=frozenset({'Entities'}) properties={'wikipediaExternalRef': 5316476, 'wikidataId': 'Q2587068', 'confidence_score': 0.4691, 'offsetStart': 2476, 'offsetEnd': 2490, 'rawName': 'sensitive data'}>>, <Record cve1=<Node element_id='4:de342d72-e7ff-4d5b-9a28-99eaa381965b:1' labels=frozenset({'CVE'}) properties={'assigner': 'cna@sap.com', 'id': 'CVE-2023-0013'}> cve2=<Node element_id='4:de342d72-e7ff-4d5b-9a28-99eaa381965b:3' labels=frozenset({'CVE'}) properties={'assigner': 'cna@sap.com', 'id': 'CVE-2023-0015'}> Entities=<Node element_id='4:de342d72-e7ff-4d5b-9a28-99eaa381965b:216' labels=frozenset({'Entities'}) properties={'wikipediaExternalRef': 5316476, 'wikidataId': 'Q2587068', 'confidence_score': 0.4691, 'offsetStart': 2476, 'offsetEnd': 2490, 'rawName': 'sensitive data'}>>, <Record cve1=<Node element_id='4:de342d72-e7ff-4d5b-9a28-99eaa381965b:1' labels=frozenset({'CVE'}) properties={'assigner': 'cna@sap.com', 'id': 'CVE-2023-0013'}> cve2=<Node element_id='4:de342d72-e7ff-4d5b-9a28-99eaa381965b:3' labels=frozenset({'CVE'}) properties={'assigner': 'cna@sap.com', 'id': 'CVE-2023-0015'}> Entities=<Node element_id='4:de342d72-e7ff-4d5b-9a28-99eaa381965b:322' labels=frozenset({'Entities'}) properties={'wikipediaExternalRef': 40684, 'wikidataId': 'Q228502', 'confidence_score': 0.4556, 'offsetStart': 947, 'offsetEnd': 961, 'rawName': 'access control'}>>, <Record cve1=<Node element_id='4:de342d72-e7ff-4d5b-9a28-99eaa381965b:1' labels=frozenset({'CVE'}) properties={'assigner': 'cna@sap.com', 'id': 'CVE-2023-0013'}> cve2=<Node element_id='4:de342d72-e7ff-4d5b-9a28-99eaa381965b:3' labels=frozenset({'CVE'}) properties={'assigner': 'cna@sap.com', 'id': 'CVE-2023-0015'}> Entities=<Node element_id='4:de342d72-e7ff-4d5b-9a28-99eaa381965b:322' labels=frozenset({'Entities'}) properties={'wikipediaExternalRef': 40684, 'wikidataId': 'Q228502', 'confidence_score': 0.4556, 'offsetStart': 947, 'offsetEnd': 961, 'rawName': 'access control'}>>, <Record cve1=<Node element_id='4:de342d72-e7ff-4d5b-9a28-99eaa381965b:3' labels=frozenset({'CVE'}) properties={'assigner': 'cna@sap.com', 'id': 'CVE-2023-0015'}> cve2=<Node element_id='4:de342d72-e7ff-4d5b-9a28-99eaa381965b:6' labels=frozenset({'CVE'}) properties={'assigner': 'cna@sap.com', 'id': 'CVE-2023-0018'}> Entities=<Node element_id='4:de342d72-e7ff-4d5b-9a28-99eaa381965b:262' labels=frozenset({'Entities'}) properties={'wikipediaExternalRef': 526999, 'wikidataId': 'Q506059', 'confidence_score': 0.9162, 'offsetStart': 1041, 'offsetEnd': 1054, 'rawName': 'SQL injection'}>>, <Record cve1=<Node element_id='4:de342d72-e7ff-4d5b-9a28-99eaa381965b:3' labels=frozenset({'CVE'}) properties={'assigner': 'cna@sap.com', 'id': 'CVE-2023-0015'}> cve2=<Node element_id='4:de342d72-e7ff-4d5b-9a28-99eaa381965b:6' labels=frozenset({'CVE'}) properties={'assigner': 'cna@sap.com', 'id': 'CVE-2023-0018'}> Entities=<Node element_id='4:de342d72-e7ff-4d5b-9a28-99eaa381965b:287' labels=frozenset({'Entities'}) properties={'wikipediaExternalRef': 5316476, 'wikidataId': 'Q2587068', 'confidence_score': 0.4076, 'offsetStart': 394, 'offsetEnd': 415, 'rawName': 'sensitive information'}>>, <Record cve1=<Node element_id='4:de342d72-e7ff-4d5b-9a28-99eaa381965b:3' labels=frozenset({'CVE'}) properties={'assigner': 'cna@sap.com', 'id': 'CVE-2023-0015'}> cve2=<Node element_id='4:de342d72-e7ff-4d5b-9a28-99eaa381965b:6' labels=frozenset({'CVE'}) properties={'assigner': 'cna@sap.com', 'id': 'CVE-2023-0018'}> Entities=<Node element_id='4:de342d72-e7ff-4d5b-9a28-99eaa381965b:287' labels=frozenset({'Entities'}) properties={'wikipediaExternalRef': 5316476, 'wikidataId': 'Q2587068', 'confidence_score': 0.4076, 'offsetStart': 394, 'offsetEnd': 415, 'rawName': 'sensitive information'}>>, <Record cve1=<Node element_id='4:de342d72-e7ff-4d5b-9a28-99eaa381965b:3' labels=frozenset({'CVE'}) properties={'assigner': 'cna@sap.com', 'id': 'CVE-2023-0015'}> cve2=<Node element_id='4:de342d72-e7ff-4d5b-9a28-99eaa381965b:6' labels=frozenset({'CVE'}) properties={'assigner': 'cna@sap.com', 'id': 'CVE-2023-0018'}> Entities=<Node element_id='4:de342d72-e7ff-4d5b-9a28-99eaa381965b:287' labels=frozenset({'Entities'}) properties={'wikipediaExternalRef': 5316476, 'wikidataId': 'Q2587068', 'confidence_score': 0.4076, 'offsetStart': 394, 'offsetEnd': 415, 'rawName': 'sensitive information'}>>, <Record cve1=<Node element_id='4:de342d72-e7ff-4d5b-9a28-99eaa381965b:3' labels=frozenset({'CVE'}) properties={'assigner': 'cna@sap.com', 'id': 'CVE-2023-0015'}> cve2=<Node element_id='4:de342d72-e7ff-4d5b-9a28-99eaa381965b:6' labels=frozenset({'CVE'}) properties={'assigner': 'cna@sap.com', 'id': 'CVE-2023-0018'}> Entities=<Node element_id='4:de342d72-e7ff-4d5b-9a28-99eaa381965b:314' labels=frozenset({'Entities'}) properties={'wikipediaExternalRef': 40684, 'wikidataId': 'Q228502', 'confidence_score': 0.6394, 'offsetStart': 0, 'offsetEnd': 14, 'rawName': 'Access control'}>>, <Record cve1=<Node element_id='4:de342d72-e7ff-4d5b-9a28-99eaa381965b:3' labels=frozenset({'CVE'}) properties={'assigner': 'cna@sap.com', 'id': 'CVE-2023-0015'}> cve2=<Node element_id='4:de342d72-e7ff-4d5b-9a28-99eaa381965b:6' labels=frozenset({'CVE'}) properties={'assigner': 'cna@sap.com', 'id': 'CVE-2023-0018'}> Entities=<Node element_id='4:de342d72-e7ff-4d5b-9a28-99eaa381965b:314' labels=frozenset({'Entities'}) properties={'wikipediaExternalRef': 40684, 'wikidataId': 'Q228502', 'confidence_score': 0.6394, 'offsetStart': 0, 'offsetEnd': 14, 'rawName': 'Access control'}>>, <Record cve1=<Node element_id='4:de342d72-e7ff-4d5b-9a28-99eaa381965b:3' labels=frozenset({'CVE'}) properties={'assigner': 'cna@sap.com', 'id': 'CVE-2023-0015'}> cve2=<Node element_id='4:de342d72-e7ff-4d5b-9a28-99eaa381965b:6' labels=frozenset({'CVE'}) properties={'assigner': 'cna@sap.com', 'id': 'CVE-2023-0018'}> Entities=<Node element_id='4:de342d72-e7ff-4d5b-9a28-99eaa381965b:331' labels=frozenset({'Entities'}) properties={'wikipediaExternalRef': 614094, 'wikidataId': 'Q1756025', 'confidence_score': 0.5922, 'offsetStart': 8, 'offsetEnd': 22, 'rawName': 'replay attacks'}>>, <Record cve1=<Node element_id='4:de342d72-e7ff-4d5b-9a28-99eaa381965b:3' labels=frozenset({'CVE'}) properties={'assigner': 'cna@sap.com', 'id': 'CVE-2023-0015'}> cve2=<Node element_id='4:de342d72-e7ff-4d5b-9a28-99eaa381965b:6' labels=frozenset({'CVE'}) properties={'assigner': 'cna@sap.com', 'id': 'CVE-2023-0018'}> Entities=<Node element_id='4:de342d72-e7ff-4d5b-9a28-99eaa381965b:168' labels=frozenset({'Entities'}) properties={'wikipediaExternalRef': 241154, 'wikidataId': 'Q371199', 'confidence_score': 0.8255, 'offsetStart': 3130, 'offsetEnd': 3133, 'rawName': 'XSS'}>>, <Record cve1=<Node element_id='4:de342d72-e7ff-4d5b-9a28-99eaa381965b:3' labels=frozenset({'CVE'}) properties={'assigner': 'cna@sap.com', 'id': 'CVE-2023-0015'}> cve2=<Node element_id='4:de342d72-e7ff-4d5b-9a28-99eaa381965b:6' labels=frozenset({'CVE'}) properties={'assigner': 'cna@sap.com', 'id': 'CVE-2023-0018'}> Entities=<Node element_id='4:de342d72-e7ff-4d5b-9a28-99eaa381965b:195' labels=frozenset({'Entities'}) properties={'wikipediaExternalRef': 241154, 'wikidataId': 'Q371199', 'confidence_score': 0.5158, 'offsetStart': 1120, 'offsetEnd': 1133, 'rawName': 'Reflected XSS'}>>, <Record cve1=<Node element_id='4:de342d72-e7ff-4d5b-9a28-99eaa381965b:3' labels=frozenset({'CVE'}) properties={'assigner': 'cna@sap.com', 'id': 'CVE-2023-0015'}> cve2=<Node element_id='4:de342d72-e7ff-4d5b-9a28-99eaa381965b:6' labels=frozenset({'CVE'}) properties={'assigner': 'cna@sap.com', 'id': 'CVE-2023-0018'}> Entities=<Node element_id='4:de342d72-e7ff-4d5b-9a28-99eaa381965b:208' labels=frozenset({'Entities'}) properties={'wikipediaExternalRef': 241154, 'wikidataId': 'Q371199', 'confidence_score': 0.5158, 'offsetStart': 1769, 'offsetEnd': 1779, 'rawName': 'Stored XSS'}>>, <Record cve1=<Node element_id='4:de342d72-e7ff-4d5b-9a28-99eaa381965b:3' labels=frozenset({'CVE'}) properties={'assigner': 'cna@sap.com', 'id': 'CVE-2023-0015'}> cve2=<Node element_id='4:de342d72-e7ff-4d5b-9a28-99eaa381965b:6' labels=frozenset({'CVE'}) properties={'assigner': 'cna@sap.com', 'id': 'CVE-2023-0018'}> Entities=<Node element_id='4:de342d72-e7ff-4d5b-9a28-99eaa381965b:168' labels=frozenset({'Entities'}) properties={'wikipediaExternalRef': 241154, 'wikidataId': 'Q371199', 'confidence_score': 0.8255, 'offsetStart': 3130, 'offsetEnd': 3133, 'rawName': 'XSS'}>>, <Record cve1=<Node element_id='4:de342d72-e7ff-4d5b-9a28-99eaa381965b:3' labels=frozenset({'CVE'}) properties={'assigner': 'cna@sap.com', 'id': 'CVE-2023-0015'}> cve2=<Node element_id='4:de342d72-e7ff-4d5b-9a28-99eaa381965b:6' labels=frozenset({'CVE'}) properties={'assigner': 'cna@sap.com', 'id': 'CVE-2023-0018'}> Entities=<Node element_id='4:de342d72-e7ff-4d5b-9a28-99eaa381965b:195' labels=frozenset({'Entities'}) properties={'wikipediaExternalRef': 241154, 'wikidataId': 'Q371199', 'confidence_score': 0.5158, 'offsetStart': 1120, 'offsetEnd': 1133, 'rawName': 'Reflected XSS'}>>, <Record cve1=<Node element_id='4:de342d72-e7ff-4d5b-9a28-99eaa381965b:3' labels=frozenset({'CVE'}) properties={'assigner': 'cna@sap.com', 'id': 'CVE-2023-0015'}> cve2=<Node element_id='4:de342d72-e7ff-4d5b-9a28-99eaa381965b:6' labels=frozenset({'CVE'}) properties={'assigner': 'cna@sap.com', 'id': 'CVE-2023-0018'}> Entities=<Node element_id='4:de342d72-e7ff-4d5b-9a28-99eaa381965b:208' labels=frozenset({'Entities'}) properties={'wikipediaExternalRef': 241154, 'wikidataId': 'Q371199', 'confidence_score': 0.5158, 'offsetStart': 1769, 'offsetEnd': 1779, 'rawName': 'Stored XSS'}>>, <Record cve1=<Node element_id='4:de342d72-e7ff-4d5b-9a28-99eaa381965b:3' labels=frozenset({'CVE'}) properties={'assigner': 'cna@sap.com', 'id': 'CVE-2023-0015'}> cve2=<Node element_id='4:de342d72-e7ff-4d5b-9a28-99eaa381965b:6' labels=frozenset({'CVE'}) properties={'assigner': 'cna@sap.com', 'id': 'CVE-2023-0018'}> Entities=<Node element_id='4:de342d72-e7ff-4d5b-9a28-99eaa381965b:168' labels=frozenset({'Entities'}) properties={'wikipediaExternalRef': 241154, 'wikidataId': 'Q371199', 'confidence_score': 0.8255, 'offsetStart': 3130, 'offsetEnd': 3133, 'rawName': 'XSS'}>>, <Record cve1=<Node element_id='4:de342d72-e7ff-4d5b-9a28-99eaa381965b:3' labels=frozenset({'CVE'}) properties={'assigner': 'cna@sap.com', 'id': 'CVE-2023-0015'}> cve2=<Node element_id='4:de342d72-e7ff-4d5b-9a28-99eaa381965b:6' labels=frozenset({'CVE'}) properties={'assigner': 'cna@sap.com', 'id': 'CVE-2023-0018'}> Entities=<Node element_id='4:de342d72-e7ff-4d5b-9a28-99eaa381965b:195' labels=frozenset({'Entities'}) properties={'wikipediaExternalRef': 241154, 'wikidataId': 'Q371199', 'confidence_score': 0.5158, 'offsetStart': 1120, 'offsetEnd': 1133, 'rawName': 'Reflected XSS'}>>, <Record cve1=<Node element_id='4:de342d72-e7ff-4d5b-9a28-99eaa381965b:3' labels=frozenset({'CVE'}) properties={'assigner': 'cna@sap.com', 'id': 'CVE-2023-0015'}> cve2=<Node element_id='4:de342d72-e7ff-4d5b-9a28-99eaa381965b:6' labels=frozenset({'CVE'}) properties={'assigner': 'cna@sap.com', 'id': 'CVE-2023-0018'}> Entities=<Node element_id='4:de342d72-e7ff-4d5b-9a28-99eaa381965b:208' labels=frozenset({'Entities'}) properties={'wikipediaExternalRef': 241154, 'wikidataId': 'Q371199', 'confidence_score': 0.5158, 'offsetStart': 1769, 'offsetEnd': 1779, 'rawName': 'Stored XSS'}>>, <Record cve1=<Node element_id='4:de342d72-e7ff-4d5b-9a28-99eaa381965b:3' labels=frozenset({'CVE'}) properties={'assigner': 'cna@sap.com', 'id': 'CVE-2023-0015'}> cve2=<Node element_id='4:de342d72-e7ff-4d5b-9a28-99eaa381965b:6' labels=frozenset({'CVE'}) properties={'assigner': 'cna@sap.com', 'id': 'CVE-2023-0018'}> Entities=<Node element_id='4:de342d72-e7ff-4d5b-9a28-99eaa381965b:168' labels=frozenset({'Entities'}) properties={'wikipediaExternalRef': 241154, 'wikidataId': 'Q371199', 'confidence_score': 0.8255, 'offsetStart': 3130, 'offsetEnd': 3133, 'rawName': 'XSS'}>>, <Record cve1=<Node element_id='4:de342d72-e7ff-4d5b-9a28-99eaa381965b:3' labels=frozenset({'CVE'}) properties={'assigner': 'cna@sap.com', 'id': 'CVE-2023-0015'}> cve2=<Node element_id='4:de342d72-e7ff-4d5b-9a28-99eaa381965b:6' labels=frozenset({'CVE'}) properties={'assigner': 'cna@sap.com', 'id': 'CVE-2023-0018'}> Entities=<Node element_id='4:de342d72-e7ff-4d5b-9a28-99eaa381965b:195' labels=frozenset({'Entities'}) properties={'wikipediaExternalRef': 241154, 'wikidataId': 'Q371199', 'confidence_score': 0.5158, 'offsetStart': 1120, 'offsetEnd': 1133, 'rawName': 'Reflected XSS'}>>, <Record cve1=<Node element_id='4:de342d72-e7ff-4d5b-9a28-99eaa381965b:3' labels=frozenset({'CVE'}) properties={'assigner': 'cna@sap.com', 'id': 'CVE-2023-0015'}> cve2=<Node element_id='4:de342d72-e7ff-4d5b-9a28-99eaa381965b:6' labels=frozenset({'CVE'}) properties={'assigner': 'cna@sap.com', 'id': 'CVE-2023-0018'}> Entities=<Node element_id='4:de342d72-e7ff-4d5b-9a28-99eaa381965b:208' labels=frozenset({'Entities'}) properties={'wikipediaExternalRef': 241154, 'wikidataId': 'Q371199', 'confidence_score': 0.5158, 'offsetStart': 1769, 'offsetEnd': 1779, 'rawName': 'Stored XSS'}>>, <Record cve1=<Node element_id='4:de342d72-e7ff-4d5b-9a28-99eaa381965b:3' labels=frozenset({'CVE'}) properties={'assigner': 'cna@sap.com', 'id': 'CVE-2023-0015'}> cve2=<Node element_id='4:de342d72-e7ff-4d5b-9a28-99eaa381965b:6' labels=frozenset({'CVE'}) properties={'assigner': 'cna@sap.com', 'id': 'CVE-2023-0018'}> Entities=<Node element_id='4:de342d72-e7ff-4d5b-9a28-99eaa381965b:216' labels=frozenset({'Entities'}) properties={'wikipediaExternalRef': 5316476, 'wikidataId': 'Q2587068', 'confidence_score': 0.4691, 'offsetStart': 2476, 'offsetEnd': 2490, 'rawName': 'sensitive data'}>>, <Record cve1=<Node element_id='4:de342d72-e7ff-4d5b-9a28-99eaa381965b:3' labels=frozenset({'CVE'}) properties={'assigner': 'cna@sap.com', 'id': 'CVE-2023-0015'}> cve2=<Node element_id='4:de342d72-e7ff-4d5b-9a28-99eaa381965b:6' labels=frozenset({'CVE'}) properties={'assigner': 'cna@sap.com', 'id': 'CVE-2023-0018'}> Entities=<Node element_id='4:de342d72-e7ff-4d5b-9a28-99eaa381965b:216' labels=frozenset({'Entities'}) properties={'wikipediaExternalRef': 5316476, 'wikidataId': 'Q2587068', 'confidence_score': 0.4691, 'offsetStart': 2476, 'offsetEnd': 2490, 'rawName': 'sensitive data'}>>, <Record cve1=<Node element_id='4:de342d72-e7ff-4d5b-9a28-99eaa381965b:3' labels=frozenset({'CVE'}) properties={'assigner': 'cna@sap.com', 'id': 'CVE-2023-0015'}> cve2=<Node element_id='4:de342d72-e7ff-4d5b-9a28-99eaa381965b:6' labels=frozenset({'CVE'}) properties={'assigner': 'cna@sap.com', 'id': 'CVE-2023-0018'}> Entities=<Node element_id='4:de342d72-e7ff-4d5b-9a28-99eaa381965b:216' labels=frozenset({'Entities'}) properties={'wikipediaExternalRef': 5316476, 'wikidataId': 'Q2587068', 'confidence_score': 0.4691, 'offsetStart': 2476, 'offsetEnd': 2490, 'rawName': 'sensitive data'}>>, <Record cve1=<Node element_id='4:de342d72-e7ff-4d5b-9a28-99eaa381965b:3' labels=frozenset({'CVE'}) properties={'assigner': 'cna@sap.com', 'id': 'CVE-2023-0015'}> cve2=<Node element_id='4:de342d72-e7ff-4d5b-9a28-99eaa381965b:6' labels=frozenset({'CVE'}) properties={'assigner': 'cna@sap.com', 'id': 'CVE-2023-0018'}> Entities=<Node element_id='4:de342d72-e7ff-4d5b-9a28-99eaa381965b:216' labels=frozenset({'Entities'}) properties={'wikipediaExternalRef': 5316476, 'wikidataId': 'Q2587068', 'confidence_score': 0.4691, 'offsetStart': 2476, 'offsetEnd': 2490, 'rawName': 'sensitive data'}>>, <Record cve1=<Node element_id='4:de342d72-e7ff-4d5b-9a28-99eaa381965b:3' labels=frozenset({'CVE'}) properties={'assigner': 'cna@sap.com', 'id': 'CVE-2023-0015'}> cve2=<Node element_id='4:de342d72-e7ff-4d5b-9a28-99eaa381965b:6' labels=frozenset({'CVE'}) properties={'assigner': 'cna@sap.com', 'id': 'CVE-2023-0018'}> Entities=<Node element_id='4:de342d72-e7ff-4d5b-9a28-99eaa381965b:322' labels=frozenset({'Entities'}) properties={'wikipediaExternalRef': 40684, 'wikidataId': 'Q228502', 'confidence_score': 0.4556, 'offsetStart': 947, 'offsetEnd': 961, 'rawName': 'access control'}>>, <Record cve1=<Node element_id='4:de342d72-e7ff-4d5b-9a28-99eaa381965b:3' labels=frozenset({'CVE'}) properties={'assigner': 'cna@sap.com', 'id': 'CVE-2023-0015'}> cve2=<Node element_id='4:de342d72-e7ff-4d5b-9a28-99eaa381965b:6' labels=frozenset({'CVE'}) properties={'assigner': 'cna@sap.com', 'id': 'CVE-2023-0018'}> Entities=<Node element_id='4:de342d72-e7ff-4d5b-9a28-99eaa381965b:322' labels=frozenset({'Entities'}) properties={'wikipediaExternalRef': 40684, 'wikidataId': 'Q228502', 'confidence_score': 0.4556, 'offsetStart': 947, 'offsetEnd': 961, 'rawName': 'access control'}>>, <Record cve1=<Node element_id='4:de342d72-e7ff-4d5b-9a28-99eaa381965b:6' labels=frozenset({'CVE'}) properties={'assigner': 'cna@sap.com', 'id': 'CVE-2023-0018'}> cve2=<Node element_id='4:de342d72-e7ff-4d5b-9a28-99eaa381965b:9' labels=frozenset({'CVE'}) properties={'assigner': 'security@huntr.dev', 'id': 'CVE-2023-0028'}> Entities=<Node element_id='4:de342d72-e7ff-4d5b-9a28-99eaa381965b:262' labels=frozenset({'Entities'}) properties={'wikipediaExternalRef': 526999, 'wikidataId': 'Q506059', 'confidence_score': 0.9162, 'offsetStart': 1041, 'offsetEnd': 1054, 'rawName': 'SQL injection'}>>, <Record cve1=<Node element_id='4:de342d72-e7ff-4d5b-9a28-99eaa381965b:6' labels=frozenset({'CVE'}) properties={'assigner': 'cna@sap.com', 'id': 'CVE-2023-0018'}> cve2=<Node element_id='4:de342d72-e7ff-4d5b-9a28-99eaa381965b:9' labels=frozenset({'CVE'}) properties={'assigner': 'security@huntr.dev', 'id': 'CVE-2023-0028'}> Entities=<Node element_id='4:de342d72-e7ff-4d5b-9a28-99eaa381965b:287' labels=frozenset({'Entities'}) properties={'wikipediaExternalRef': 5316476, 'wikidataId': 'Q2587068', 'confidence_score': 0.4076, 'offsetStart': 394, 'offsetEnd': 415, 'rawName': 'sensitive information'}>>, <Record cve1=<Node element_id='4:de342d72-e7ff-4d5b-9a28-99eaa381965b:6' labels=frozenset({'CVE'}) properties={'assigner': 'cna@sap.com', 'id': 'CVE-2023-0018'}> cve2=<Node element_id='4:de342d72-e7ff-4d5b-9a28-99eaa381965b:9' labels=frozenset({'CVE'}) properties={'assigner': 'security@huntr.dev', 'id': 'CVE-2023-0028'}> Entities=<Node element_id='4:de342d72-e7ff-4d5b-9a28-99eaa381965b:287' labels=frozenset({'Entities'}) properties={'wikipediaExternalRef': 5316476, 'wikidataId': 'Q2587068', 'confidence_score': 0.4076, 'offsetStart': 394, 'offsetEnd': 415, 'rawName': 'sensitive information'}>>, <Record cve1=<Node element_id='4:de342d72-e7ff-4d5b-9a28-99eaa381965b:6' labels=frozenset({'CVE'}) properties={'assigner': 'cna@sap.com', 'id': 'CVE-2023-0018'}> cve2=<Node element_id='4:de342d72-e7ff-4d5b-9a28-99eaa381965b:9' labels=frozenset({'CVE'}) properties={'assigner': 'security@huntr.dev', 'id': 'CVE-2023-0028'}> Entities=<Node element_id='4:de342d72-e7ff-4d5b-9a28-99eaa381965b:287' labels=frozenset({'Entities'}) properties={'wikipediaExternalRef': 5316476, 'wikidataId': 'Q2587068', 'confidence_score': 0.4076, 'offsetStart': 394, 'offsetEnd': 415, 'rawName': 'sensitive information'}>>, <Record cve1=<Node element_id='4:de342d72-e7ff-4d5b-9a28-99eaa381965b:6' labels=frozenset({'CVE'}) properties={'assigner': 'cna@sap.com', 'id': 'CVE-2023-0018'}> cve2=<Node element_id='4:de342d72-e7ff-4d5b-9a28-99eaa381965b:9' labels=frozenset({'CVE'}) properties={'assigner': 'security@huntr.dev', 'id': 'CVE-2023-0028'}> Entities=<Node element_id='4:de342d72-e7ff-4d5b-9a28-99eaa381965b:314' labels=frozenset({'Entities'}) properties={'wikipediaExternalRef': 40684, 'wikidataId': 'Q228502', 'confidence_score': 0.6394, 'offsetStart': 0, 'offsetEnd': 14, 'rawName': 'Access control'}>>, <Record cve1=<Node element_id='4:de342d72-e7ff-4d5b-9a28-99eaa381965b:6' labels=frozenset({'CVE'}) properties={'assigner': 'cna@sap.com', 'id': 'CVE-2023-0018'}> cve2=<Node element_id='4:de342d72-e7ff-4d5b-9a28-99eaa381965b:9' labels=frozenset({'CVE'}) properties={'assigner': 'security@huntr.dev', 'id': 'CVE-2023-0028'}> Entities=<Node element_id='4:de342d72-e7ff-4d5b-9a28-99eaa381965b:314' labels=frozenset({'Entities'}) properties={'wikipediaExternalRef': 40684, 'wikidataId': 'Q228502', 'confidence_score': 0.6394, 'offsetStart': 0, 'offsetEnd': 14, 'rawName': 'Access control'}>>, <Record cve1=<Node element_id='4:de342d72-e7ff-4d5b-9a28-99eaa381965b:6' labels=frozenset({'CVE'}) properties={'assigner': 'cna@sap.com', 'id': 'CVE-2023-0018'}> cve2=<Node element_id='4:de342d72-e7ff-4d5b-9a28-99eaa381965b:9' labels=frozenset({'CVE'}) properties={'assigner': 'security@huntr.dev', 'id': 'CVE-2023-0028'}> Entities=<Node element_id='4:de342d72-e7ff-4d5b-9a28-99eaa381965b:331' labels=frozenset({'Entities'}) properties={'wikipediaExternalRef': 614094, 'wikidataId': 'Q1756025', 'confidence_score': 0.5922, 'offsetStart': 8, 'offsetEnd': 22, 'rawName': 'replay attacks'}>>, <Record cve1=<Node element_id='4:de342d72-e7ff-4d5b-9a28-99eaa381965b:6' labels=frozenset({'CVE'}) properties={'assigner': 'cna@sap.com', 'id': 'CVE-2023-0018'}> cve2=<Node element_id='4:de342d72-e7ff-4d5b-9a28-99eaa381965b:9' labels=frozenset({'CVE'}) properties={'assigner': 'security@huntr.dev', 'id': 'CVE-2023-0028'}> Entities=<Node element_id='4:de342d72-e7ff-4d5b-9a28-99eaa381965b:168' labels=frozenset({'Entities'}) properties={'wikipediaExternalRef': 241154, 'wikidataId': 'Q371199', 'confidence_score': 0.8255, 'offsetStart': 3130, 'offsetEnd': 3133, 'rawName': 'XSS'}>>, <Record cve1=<Node element_id='4:de342d72-e7ff-4d5b-9a28-99eaa381965b:6' labels=frozenset({'CVE'}) properties={'assigner': 'cna@sap.com', 'id': 'CVE-2023-0018'}> cve2=<Node element_id='4:de342d72-e7ff-4d5b-9a28-99eaa381965b:9' labels=frozenset({'CVE'}) properties={'assigner': 'security@huntr.dev', 'id': 'CVE-2023-0028'}> Entities=<Node element_id='4:de342d72-e7ff-4d5b-9a28-99eaa381965b:195' labels=frozenset({'Entities'}) properties={'wikipediaExternalRef': 241154, 'wikidataId': 'Q371199', 'confidence_score': 0.5158, 'offsetStart': 1120, 'offsetEnd': 1133, 'rawName': 'Reflected XSS'}>>, <Record cve1=<Node element_id='4:de342d72-e7ff-4d5b-9a28-99eaa381965b:6' labels=frozenset({'CVE'}) properties={'assigner': 'cna@sap.com', 'id': 'CVE-2023-0018'}> cve2=<Node element_id='4:de342d72-e7ff-4d5b-9a28-99eaa381965b:9' labels=frozenset({'CVE'}) properties={'assigner': 'security@huntr.dev', 'id': 'CVE-2023-0028'}> Entities=<Node element_id='4:de342d72-e7ff-4d5b-9a28-99eaa381965b:208' labels=frozenset({'Entities'}) properties={'wikipediaExternalRef': 241154, 'wikidataId': 'Q371199', 'confidence_score': 0.5158, 'offsetStart': 1769, 'offsetEnd': 1779, 'rawName': 'Stored XSS'}>>, <Record cve1=<Node element_id='4:de342d72-e7ff-4d5b-9a28-99eaa381965b:6' labels=frozenset({'CVE'}) properties={'assigner': 'cna@sap.com', 'id': 'CVE-2023-0018'}> cve2=<Node element_id='4:de342d72-e7ff-4d5b-9a28-99eaa381965b:9' labels=frozenset({'CVE'}) properties={'assigner': 'security@huntr.dev', 'id': 'CVE-2023-0028'}> Entities=<Node element_id='4:de342d72-e7ff-4d5b-9a28-99eaa381965b:168' labels=frozenset({'Entities'}) properties={'wikipediaExternalRef': 241154, 'wikidataId': 'Q371199', 'confidence_score': 0.8255, 'offsetStart': 3130, 'offsetEnd': 3133, 'rawName': 'XSS'}>>, <Record cve1=<Node element_id='4:de342d72-e7ff-4d5b-9a28-99eaa381965b:6' labels=frozenset({'CVE'}) properties={'assigner': 'cna@sap.com', 'id': 'CVE-2023-0018'}> cve2=<Node element_id='4:de342d72-e7ff-4d5b-9a28-99eaa381965b:9' labels=frozenset({'CVE'}) properties={'assigner': 'security@huntr.dev', 'id': 'CVE-2023-0028'}> Entities=<Node element_id='4:de342d72-e7ff-4d5b-9a28-99eaa381965b:195' labels=frozenset({'Entities'}) properties={'wikipediaExternalRef': 241154, 'wikidataId': 'Q371199', 'confidence_score': 0.5158, 'offsetStart': 1120, 'offsetEnd': 1133, 'rawName': 'Reflected XSS'}>>, <Record cve1=<Node element_id='4:de342d72-e7ff-4d5b-9a28-99eaa381965b:6' labels=frozenset({'CVE'}) properties={'assigner': 'cna@sap.com', 'id': 'CVE-2023-0018'}> cve2=<Node element_id='4:de342d72-e7ff-4d5b-9a28-99eaa381965b:9' labels=frozenset({'CVE'}) properties={'assigner': 'security@huntr.dev', 'id': 'CVE-2023-0028'}> Entities=<Node element_id='4:de342d72-e7ff-4d5b-9a28-99eaa381965b:208' labels=frozenset({'Entities'}) properties={'wikipediaExternalRef': 241154, 'wikidataId': 'Q371199', 'confidence_score': 0.5158, 'offsetStart': 1769, 'offsetEnd': 1779, 'rawName': 'Stored XSS'}>>, <Record cve1=<Node element_id='4:de342d72-e7ff-4d5b-9a28-99eaa381965b:6' labels=frozenset({'CVE'}) properties={'assigner': 'cna@sap.com', 'id': 'CVE-2023-0018'}> cve2=<Node element_id='4:de342d72-e7ff-4d5b-9a28-99eaa381965b:9' labels=frozenset({'CVE'}) properties={'assigner': 'security@huntr.dev', 'id': 'CVE-2023-0028'}> Entities=<Node element_id='4:de342d72-e7ff-4d5b-9a28-99eaa381965b:168' labels=frozenset({'Entities'}) properties={'wikipediaExternalRef': 241154, 'wikidataId': 'Q371199', 'confidence_score': 0.8255, 'offsetStart': 3130, 'offsetEnd': 3133, 'rawName': 'XSS'}>>, <Record cve1=<Node element_id='4:de342d72-e7ff-4d5b-9a28-99eaa381965b:6' labels=frozenset({'CVE'}) properties={'assigner': 'cna@sap.com', 'id': 'CVE-2023-0018'}> cve2=<Node element_id='4:de342d72-e7ff-4d5b-9a28-99eaa381965b:9' labels=frozenset({'CVE'}) properties={'assigner': 'security@huntr.dev', 'id': 'CVE-2023-0028'}> Entities=<Node element_id='4:de342d72-e7ff-4d5b-9a28-99eaa381965b:195' labels=frozenset({'Entities'}) properties={'wikipediaExternalRef': 241154, 'wikidataId': 'Q371199', 'confidence_score': 0.5158, 'offsetStart': 1120, 'offsetEnd': 1133, 'rawName': 'Reflected XSS'}>>, <Record cve1=<Node element_id='4:de342d72-e7ff-4d5b-9a28-99eaa381965b:6' labels=frozenset({'CVE'}) properties={'assigner': 'cna@sap.com', 'id': 'CVE-2023-0018'}> cve2=<Node element_id='4:de342d72-e7ff-4d5b-9a28-99eaa381965b:9' labels=frozenset({'CVE'}) properties={'assigner': 'security@huntr.dev', 'id': 'CVE-2023-0028'}> Entities=<Node element_id='4:de342d72-e7ff-4d5b-9a28-99eaa381965b:208' labels=frozenset({'Entities'}) properties={'wikipediaExternalRef': 241154, 'wikidataId': 'Q371199', 'confidence_score': 0.5158, 'offsetStart': 1769, 'offsetEnd': 1779, 'rawName': 'Stored XSS'}>>, <Record cve1=<Node element_id='4:de342d72-e7ff-4d5b-9a28-99eaa381965b:6' labels=frozenset({'CVE'}) properties={'assigner': 'cna@sap.com', 'id': 'CVE-2023-0018'}> cve2=<Node element_id='4:de342d72-e7ff-4d5b-9a28-99eaa381965b:9' labels=frozenset({'CVE'}) properties={'assigner': 'security@huntr.dev', 'id': 'CVE-2023-0028'}> Entities=<Node element_id='4:de342d72-e7ff-4d5b-9a28-99eaa381965b:168' labels=frozenset({'Entities'}) properties={'wikipediaExternalRef': 241154, 'wikidataId': 'Q371199', 'confidence_score': 0.8255, 'offsetStart': 3130, 'offsetEnd': 3133, 'rawName': 'XSS'}>>, <Record cve1=<Node element_id='4:de342d72-e7ff-4d5b-9a28-99eaa381965b:6' labels=frozenset({'CVE'}) properties={'assigner': 'cna@sap.com', 'id': 'CVE-2023-0018'}> cve2=<Node element_id='4:de342d72-e7ff-4d5b-9a28-99eaa381965b:9' labels=frozenset({'CVE'}) properties={'assigner': 'security@huntr.dev', 'id': 'CVE-2023-0028'}> Entities=<Node element_id='4:de342d72-e7ff-4d5b-9a28-99eaa381965b:195' labels=frozenset({'Entities'}) properties={'wikipediaExternalRef': 241154, 'wikidataId': 'Q371199', 'confidence_score': 0.5158, 'offsetStart': 1120, 'offsetEnd': 1133, 'rawName': 'Reflected XSS'}>>, <Record cve1=<Node element_id='4:de342d72-e7ff-4d5b-9a28-99eaa381965b:6' labels=frozenset({'CVE'}) properties={'assigner': 'cna@sap.com', 'id': 'CVE-2023-0018'}> cve2=<Node element_id='4:de342d72-e7ff-4d5b-9a28-99eaa381965b:9' labels=frozenset({'CVE'}) properties={'assigner': 'security@huntr.dev', 'id': 'CVE-2023-0028'}> Entities=<Node element_id='4:de342d72-e7ff-4d5b-9a28-99eaa381965b:208' labels=frozenset({'Entities'}) properties={'wikipediaExternalRef': 241154, 'wikidataId': 'Q371199', 'confidence_score': 0.5158, 'offsetStart': 1769, 'offsetEnd': 1779, 'rawName': 'Stored XSS'}>>, <Record cve1=<Node element_id='4:de342d72-e7ff-4d5b-9a28-99eaa381965b:6' labels=frozenset({'CVE'}) properties={'assigner': 'cna@sap.com', 'id': 'CVE-2023-0018'}> cve2=<Node element_id='4:de342d72-e7ff-4d5b-9a28-99eaa381965b:9' labels=frozenset({'CVE'}) properties={'assigner': 'security@huntr.dev', 'id': 'CVE-2023-0028'}> Entities=<Node element_id='4:de342d72-e7ff-4d5b-9a28-99eaa381965b:216' labels=frozenset({'Entities'}) properties={'wikipediaExternalRef': 5316476, 'wikidataId': 'Q2587068', 'confidence_score': 0.4691, 'offsetStart': 2476, 'offsetEnd': 2490, 'rawName': 'sensitive data'}>>, <Record cve1=<Node element_id='4:de342d72-e7ff-4d5b-9a28-99eaa381965b:6' labels=frozenset({'CVE'}) properties={'assigner': 'cna@sap.com', 'id': 'CVE-2023-0018'}> cve2=<Node element_id='4:de342d72-e7ff-4d5b-9a28-99eaa381965b:9' labels=frozenset({'CVE'}) properties={'assigner': 'security@huntr.dev', 'id': 'CVE-2023-0028'}> Entities=<Node element_id='4:de342d72-e7ff-4d5b-9a28-99eaa381965b:216' labels=frozenset({'Entities'}) properties={'wikipediaExternalRef': 5316476, 'wikidataId': 'Q2587068', 'confidence_score': 0.4691, 'offsetStart': 2476, 'offsetEnd': 2490, 'rawName': 'sensitive data'}>>, <Record cve1=<Node element_id='4:de342d72-e7ff-4d5b-9a28-99eaa381965b:6' labels=frozenset({'CVE'}) properties={'assigner': 'cna@sap.com', 'id': 'CVE-2023-0018'}> cve2=<Node element_id='4:de342d72-e7ff-4d5b-9a28-99eaa381965b:9' labels=frozenset({'CVE'}) properties={'assigner': 'security@huntr.dev', 'id': 'CVE-2023-0028'}> Entities=<Node element_id='4:de342d72-e7ff-4d5b-9a28-99eaa381965b:216' labels=frozenset({'Entities'}) properties={'wikipediaExternalRef': 5316476, 'wikidataId': 'Q2587068', 'confidence_score': 0.4691, 'offsetStart': 2476, 'offsetEnd': 2490, 'rawName': 'sensitive data'}>>, <Record cve1=<Node element_id='4:de342d72-e7ff-4d5b-9a28-99eaa381965b:6' labels=frozenset({'CVE'}) properties={'assigner': 'cna@sap.com', 'id': 'CVE-2023-0018'}> cve2=<Node element_id='4:de342d72-e7ff-4d5b-9a28-99eaa381965b:9' labels=frozenset({'CVE'}) properties={'assigner': 'security@huntr.dev', 'id': 'CVE-2023-0028'}> Entities=<Node element_id='4:de342d72-e7ff-4d5b-9a28-99eaa381965b:216' labels=frozenset({'Entities'}) properties={'wikipediaExternalRef': 5316476, 'wikidataId': 'Q2587068', 'confidence_score': 0.4691, 'offsetStart': 2476, 'offsetEnd': 2490, 'rawName': 'sensitive data'}>>, <Record cve1=<Node element_id='4:de342d72-e7ff-4d5b-9a28-99eaa381965b:6' labels=frozenset({'CVE'}) properties={'assigner': 'cna@sap.com', 'id': 'CVE-2023-0018'}> cve2=<Node element_id='4:de342d72-e7ff-4d5b-9a28-99eaa381965b:9' labels=frozenset({'CVE'}) properties={'assigner': 'security@huntr.dev', 'id': 'CVE-2023-0028'}> Entities=<Node element_id='4:de342d72-e7ff-4d5b-9a28-99eaa381965b:322' labels=frozenset({'Entities'}) properties={'wikipediaExternalRef': 40684, 'wikidataId': 'Q228502', 'confidence_score': 0.4556, 'offsetStart': 947, 'offsetEnd': 961, 'rawName': 'access control'}>>, <Record cve1=<Node element_id='4:de342d72-e7ff-4d5b-9a28-99eaa381965b:6' labels=frozenset({'CVE'}) properties={'assigner': 'cna@sap.com', 'id': 'CVE-2023-0018'}> cve2=<Node element_id='4:de342d72-e7ff-4d5b-9a28-99eaa381965b:9' labels=frozenset({'CVE'}) properties={'assigner': 'security@huntr.dev', 'id': 'CVE-2023-0028'}> Entities=<Node element_id='4:de342d72-e7ff-4d5b-9a28-99eaa381965b:322' labels=frozenset({'Entities'}) properties={'wikipediaExternalRef': 40684, 'wikidataId': 'Q228502', 'confidence_score': 0.4556, 'offsetStart': 947, 'offsetEnd': 961, 'rawName': 'access control'}>>, <Record cve1=<Node element_id='4:de342d72-e7ff-4d5b-9a28-99eaa381965b:0' labels=frozenset({'CVE'}) properties={'assigner': 'cna@sap.com', 'id': 'CVE-2023-0012'}> cve2=<Node element_id='4:de342d72-e7ff-4d5b-9a28-99eaa381965b:5' labels=frozenset({'CVE'}) properties={'assigner': 'cna@sap.com', 'id': 'CVE-2023-0017'}> Entities=<Node element_id='4:de342d72-e7ff-4d5b-9a28-99eaa381965b:262' labels=frozenset({'Entities'}) properties={'wikipediaExternalRef': 526999, 'wikidataId': 'Q506059', 'confidence_score': 0.9162, 'offsetStart': 1041, 'offsetEnd': 1054, 'rawName': 'SQL injection'}>>, <Record cve1=<Node element_id='4:de342d72-e7ff-4d5b-9a28-99eaa381965b:0' labels=frozenset({'CVE'}) properties={'assigner': 'cna@sap.com', 'id': 'CVE-2023-0012'}> cve2=<Node element_id='4:de342d72-e7ff-4d5b-9a28-99eaa381965b:5' labels=frozenset({'CVE'}) properties={'assigner': 'cna@sap.com', 'id': 'CVE-2023-0017'}> Entities=<Node element_id='4:de342d72-e7ff-4d5b-9a28-99eaa381965b:287' labels=frozenset({'Entities'}) properties={'wikipediaExternalRef': 5316476, 'wikidataId': 'Q2587068', 'confidence_score': 0.4076, 'offsetStart': 394, 'offsetEnd': 415, 'rawName': 'sensitive information'}>>, <Record cve1=<Node element_id='4:de342d72-e7ff-4d5b-9a28-99eaa381965b:0' labels=frozenset({'CVE'}) properties={'assigner': 'cna@sap.com', 'id': 'CVE-2023-0012'}> cve2=<Node element_id='4:de342d72-e7ff-4d5b-9a28-99eaa381965b:5' labels=frozenset({'CVE'}) properties={'assigner': 'cna@sap.com', 'id': 'CVE-2023-0017'}> Entities=<Node element_id='4:de342d72-e7ff-4d5b-9a28-99eaa381965b:287' labels=frozenset({'Entities'}) properties={'wikipediaExternalRef': 5316476, 'wikidataId': 'Q2587068', 'confidence_score': 0.4076, 'offsetStart': 394, 'offsetEnd': 415, 'rawName': 'sensitive information'}>>, <Record cve1=<Node element_id='4:de342d72-e7ff-4d5b-9a28-99eaa381965b:0' labels=frozenset({'CVE'}) properties={'assigner': 'cna@sap.com', 'id': 'CVE-2023-0012'}> cve2=<Node element_id='4:de342d72-e7ff-4d5b-9a28-99eaa381965b:5' labels=frozenset({'CVE'}) properties={'assigner': 'cna@sap.com', 'id': 'CVE-2023-0017'}> Entities=<Node element_id='4:de342d72-e7ff-4d5b-9a28-99eaa381965b:287' labels=frozenset({'Entities'}) properties={'wikipediaExternalRef': 5316476, 'wikidataId': 'Q2587068', 'confidence_score': 0.4076, 'offsetStart': 394, 'offsetEnd': 415, 'rawName': 'sensitive information'}>>, <Record cve1=<Node element_id='4:de342d72-e7ff-4d5b-9a28-99eaa381965b:0' labels=frozenset({'CVE'}) properties={'assigner': 'cna@sap.com', 'id': 'CVE-2023-0012'}> cve2=<Node element_id='4:de342d72-e7ff-4d5b-9a28-99eaa381965b:5' labels=frozenset({'CVE'}) properties={'assigner': 'cna@sap.com', 'id': 'CVE-2023-0017'}> Entities=<Node element_id='4:de342d72-e7ff-4d5b-9a28-99eaa381965b:314' labels=frozenset({'Entities'}) properties={'wikipediaExternalRef': 40684, 'wikidataId': 'Q228502', 'confidence_score': 0.6394, 'offsetStart': 0, 'offsetEnd': 14, 'rawName': 'Access control'}>>, <Record cve1=<Node element_id='4:de342d72-e7ff-4d5b-9a28-99eaa381965b:0' labels=frozenset({'CVE'}) properties={'assigner': 'cna@sap.com', 'id': 'CVE-2023-0012'}> cve2=<Node element_id='4:de342d72-e7ff-4d5b-9a28-99eaa381965b:5' labels=frozenset({'CVE'}) properties={'assigner': 'cna@sap.com', 'id': 'CVE-2023-0017'}> Entities=<Node element_id='4:de342d72-e7ff-4d5b-9a28-99eaa381965b:314' labels=frozenset({'Entities'}) properties={'wikipediaExternalRef': 40684, 'wikidataId': 'Q228502', 'confidence_score': 0.6394, 'offsetStart': 0, 'offsetEnd': 14, 'rawName': 'Access control'}>>, <Record cve1=<Node element_id='4:de342d72-e7ff-4d5b-9a28-99eaa381965b:0' labels=frozenset({'CVE'}) properties={'assigner': 'cna@sap.com', 'id': 'CVE-2023-0012'}> cve2=<Node element_id='4:de342d72-e7ff-4d5b-9a28-99eaa381965b:5' labels=frozenset({'CVE'}) properties={'assigner': 'cna@sap.com', 'id': 'CVE-2023-0017'}> Entities=<Node element_id='4:de342d72-e7ff-4d5b-9a28-99eaa381965b:331' labels=frozenset({'Entities'}) properties={'wikipediaExternalRef': 614094, 'wikidataId': 'Q1756025', 'confidence_score': 0.5922, 'offsetStart': 8, 'offsetEnd': 22, 'rawName': 'replay attacks'}>>, <Record cve1=<Node element_id='4:de342d72-e7ff-4d5b-9a28-99eaa381965b:0' labels=frozenset({'CVE'}) properties={'assigner': 'cna@sap.com', 'id': 'CVE-2023-0012'}> cve2=<Node element_id='4:de342d72-e7ff-4d5b-9a28-99eaa381965b:5' labels=frozenset({'CVE'}) properties={'assigner': 'cna@sap.com', 'id': 'CVE-2023-0017'}> Entities=<Node element_id='4:de342d72-e7ff-4d5b-9a28-99eaa381965b:168' labels=frozenset({'Entities'}) properties={'wikipediaExternalRef': 241154, 'wikidataId': 'Q371199', 'confidence_score': 0.8255, 'offsetStart': 3130, 'offsetEnd': 3133, 'rawName': 'XSS'}>>, <Record cve1=<Node element_id='4:de342d72-e7ff-4d5b-9a28-99eaa381965b:0' labels=frozenset({'CVE'}) properties={'assigner': 'cna@sap.com', 'id': 'CVE-2023-0012'}> cve2=<Node element_id='4:de342d72-e7ff-4d5b-9a28-99eaa381965b:5' labels=frozenset({'CVE'}) properties={'assigner': 'cna@sap.com', 'id': 'CVE-2023-0017'}> Entities=<Node element_id='4:de342d72-e7ff-4d5b-9a28-99eaa381965b:195' labels=frozenset({'Entities'}) properties={'wikipediaExternalRef': 241154, 'wikidataId': 'Q371199', 'confidence_score': 0.5158, 'offsetStart': 1120, 'offsetEnd': 1133, 'rawName': 'Reflected XSS'}>>, <Record cve1=<Node element_id='4:de342d72-e7ff-4d5b-9a28-99eaa381965b:0' labels=frozenset({'CVE'}) properties={'assigner': 'cna@sap.com', 'id': 'CVE-2023-0012'}> cve2=<Node element_id='4:de342d72-e7ff-4d5b-9a28-99eaa381965b:5' labels=frozenset({'CVE'}) properties={'assigner': 'cna@sap.com', 'id': 'CVE-2023-0017'}> Entities=<Node element_id='4:de342d72-e7ff-4d5b-9a28-99eaa381965b:208' labels=frozenset({'Entities'}) properties={'wikipediaExternalRef': 241154, 'wikidataId': 'Q371199', 'confidence_score': 0.5158, 'offsetStart': 1769, 'offsetEnd': 1779, 'rawName': 'Stored XSS'}>>, <Record cve1=<Node element_id='4:de342d72-e7ff-4d5b-9a28-99eaa381965b:0' labels=frozenset({'CVE'}) properties={'assigner': 'cna@sap.com', 'id': 'CVE-2023-0012'}> cve2=<Node element_id='4:de342d72-e7ff-4d5b-9a28-99eaa381965b:5' labels=frozenset({'CVE'}) properties={'assigner': 'cna@sap.com', 'id': 'CVE-2023-0017'}> Entities=<Node element_id='4:de342d72-e7ff-4d5b-9a28-99eaa381965b:168' labels=frozenset({'Entities'}) properties={'wikipediaExternalRef': 241154, 'wikidataId': 'Q371199', 'confidence_score': 0.8255, 'offsetStart': 3130, 'offsetEnd': 3133, 'rawName': 'XSS'}>>, <Record cve1=<Node element_id='4:de342d72-e7ff-4d5b-9a28-99eaa381965b:0' labels=frozenset({'CVE'}) properties={'assigner': 'cna@sap.com', 'id': 'CVE-2023-0012'}> cve2=<Node element_id='4:de342d72-e7ff-4d5b-9a28-99eaa381965b:5' labels=frozenset({'CVE'}) properties={'assigner': 'cna@sap.com', 'id': 'CVE-2023-0017'}> Entities=<Node element_id='4:de342d72-e7ff-4d5b-9a28-99eaa381965b:195' labels=frozenset({'Entities'}) properties={'wikipediaExternalRef': 241154, 'wikidataId': 'Q371199', 'confidence_score': 0.5158, 'offsetStart': 1120, 'offsetEnd': 1133, 'rawName': 'Reflected XSS'}>>, <Record cve1=<Node element_id='4:de342d72-e7ff-4d5b-9a28-99eaa381965b:0' labels=frozenset({'CVE'}) properties={'assigner': 'cna@sap.com', 'id': 'CVE-2023-0012'}> cve2=<Node element_id='4:de342d72-e7ff-4d5b-9a28-99eaa381965b:5' labels=frozenset({'CVE'}) properties={'assigner': 'cna@sap.com', 'id': 'CVE-2023-0017'}> Entities=<Node element_id='4:de342d72-e7ff-4d5b-9a28-99eaa381965b:208' labels=frozenset({'Entities'}) properties={'wikipediaExternalRef': 241154, 'wikidataId': 'Q371199', 'confidence_score': 0.5158, 'offsetStart': 1769, 'offsetEnd': 1779, 'rawName': 'Stored XSS'}>>, <Record cve1=<Node element_id='4:de342d72-e7ff-4d5b-9a28-99eaa381965b:0' labels=frozenset({'CVE'}) properties={'assigner': 'cna@sap.com', 'id': 'CVE-2023-0012'}> cve2=<Node element_id='4:de342d72-e7ff-4d5b-9a28-99eaa381965b:5' labels=frozenset({'CVE'}) properties={'assigner': 'cna@sap.com', 'id': 'CVE-2023-0017'}> Entities=<Node element_id='4:de342d72-e7ff-4d5b-9a28-99eaa381965b:168' labels=frozenset({'Entities'}) properties={'wikipediaExternalRef': 241154, 'wikidataId': 'Q371199', 'confidence_score': 0.8255, 'offsetStart': 3130, 'offsetEnd': 3133, 'rawName': 'XSS'}>>, <Record cve1=<Node element_id='4:de342d72-e7ff-4d5b-9a28-99eaa381965b:0' labels=frozenset({'CVE'}) properties={'assigner': 'cna@sap.com', 'id': 'CVE-2023-0012'}> cve2=<Node element_id='4:de342d72-e7ff-4d5b-9a28-99eaa381965b:5' labels=frozenset({'CVE'}) properties={'assigner': 'cna@sap.com', 'id': 'CVE-2023-0017'}> Entities=<Node element_id='4:de342d72-e7ff-4d5b-9a28-99eaa381965b:195' labels=frozenset({'Entities'}) properties={'wikipediaExternalRef': 241154, 'wikidataId': 'Q371199', 'confidence_score': 0.5158, 'offsetStart': 1120, 'offsetEnd': 1133, 'rawName': 'Reflected XSS'}>>, <Record cve1=<Node element_id='4:de342d72-e7ff-4d5b-9a28-99eaa381965b:0' labels=frozenset({'CVE'}) properties={'assigner': 'cna@sap.com', 'id': 'CVE-2023-0012'}> cve2=<Node element_id='4:de342d72-e7ff-4d5b-9a28-99eaa381965b:5' labels=frozenset({'CVE'}) properties={'assigner': 'cna@sap.com', 'id': 'CVE-2023-0017'}> Entities=<Node element_id='4:de342d72-e7ff-4d5b-9a28-99eaa381965b:208' labels=frozenset({'Entities'}) properties={'wikipediaExternalRef': 241154, 'wikidataId': 'Q371199', 'confidence_score': 0.5158, 'offsetStart': 1769, 'offsetEnd': 1779, 'rawName': 'Stored XSS'}>>, <Record cve1=<Node element_id='4:de342d72-e7ff-4d5b-9a28-99eaa381965b:0' labels=frozenset({'CVE'}) properties={'assigner': 'cna@sap.com', 'id': 'CVE-2023-0012'}> cve2=<Node element_id='4:de342d72-e7ff-4d5b-9a28-99eaa381965b:5' labels=frozenset({'CVE'}) properties={'assigner': 'cna@sap.com', 'id': 'CVE-2023-0017'}> Entities=<Node element_id='4:de342d72-e7ff-4d5b-9a28-99eaa381965b:168' labels=frozenset({'Entities'}) properties={'wikipediaExternalRef': 241154, 'wikidataId': 'Q371199', 'confidence_score': 0.8255, 'offsetStart': 3130, 'offsetEnd': 3133, 'rawName': 'XSS'}>>, <Record cve1=<Node element_id='4:de342d72-e7ff-4d5b-9a28-99eaa381965b:0' labels=frozenset({'CVE'}) properties={'assigner': 'cna@sap.com', 'id': 'CVE-2023-0012'}> cve2=<Node element_id='4:de342d72-e7ff-4d5b-9a28-99eaa381965b:5' labels=frozenset({'CVE'}) properties={'assigner': 'cna@sap.com', 'id': 'CVE-2023-0017'}> Entities=<Node element_id='4:de342d72-e7ff-4d5b-9a28-99eaa381965b:195' labels=frozenset({'Entities'}) properties={'wikipediaExternalRef': 241154, 'wikidataId': 'Q371199', 'confidence_score': 0.5158, 'offsetStart': 1120, 'offsetEnd': 1133, 'rawName': 'Reflected XSS'}>>, <Record cve1=<Node element_id='4:de342d72-e7ff-4d5b-9a28-99eaa381965b:0' labels=frozenset({'CVE'}) properties={'assigner': 'cna@sap.com', 'id': 'CVE-2023-0012'}> cve2=<Node element_id='4:de342d72-e7ff-4d5b-9a28-99eaa381965b:5' labels=frozenset({'CVE'}) properties={'assigner': 'cna@sap.com', 'id': 'CVE-2023-0017'}> Entities=<Node element_id='4:de342d72-e7ff-4d5b-9a28-99eaa381965b:208' labels=frozenset({'Entities'}) properties={'wikipediaExternalRef': 241154, 'wikidataId': 'Q371199', 'confidence_score': 0.5158, 'offsetStart': 1769, 'offsetEnd': 1779, 'rawName': 'Stored XSS'}>>, <Record cve1=<Node element_id='4:de342d72-e7ff-4d5b-9a28-99eaa381965b:0' labels=frozenset({'CVE'}) properties={'assigner': 'cna@sap.com', 'id': 'CVE-2023-0012'}> cve2=<Node element_id='4:de342d72-e7ff-4d5b-9a28-99eaa381965b:5' labels=frozenset({'CVE'}) properties={'assigner': 'cna@sap.com', 'id': 'CVE-2023-0017'}> Entities=<Node element_id='4:de342d72-e7ff-4d5b-9a28-99eaa381965b:216' labels=frozenset({'Entities'}) properties={'wikipediaExternalRef': 5316476, 'wikidataId': 'Q2587068', 'confidence_score': 0.4691, 'offsetStart': 2476, 'offsetEnd': 2490, 'rawName': 'sensitive data'}>>, <Record cve1=<Node element_id='4:de342d72-e7ff-4d5b-9a28-99eaa381965b:0' labels=frozenset({'CVE'}) properties={'assigner': 'cna@sap.com', 'id': 'CVE-2023-0012'}> cve2=<Node element_id='4:de342d72-e7ff-4d5b-9a28-99eaa381965b:5' labels=frozenset({'CVE'}) properties={'assigner': 'cna@sap.com', 'id': 'CVE-2023-0017'}> Entities=<Node element_id='4:de342d72-e7ff-4d5b-9a28-99eaa381965b:216' labels=frozenset({'Entities'}) properties={'wikipediaExternalRef': 5316476, 'wikidataId': 'Q2587068', 'confidence_score': 0.4691, 'offsetStart': 2476, 'offsetEnd': 2490, 'rawName': 'sensitive data'}>>, <Record cve1=<Node element_id='4:de342d72-e7ff-4d5b-9a28-99eaa381965b:0' labels=frozenset({'CVE'}) properties={'assigner': 'cna@sap.com', 'id': 'CVE-2023-0012'}> cve2=<Node element_id='4:de342d72-e7ff-4d5b-9a28-99eaa381965b:5' labels=frozenset({'CVE'}) properties={'assigner': 'cna@sap.com', 'id': 'CVE-2023-0017'}> Entities=<Node element_id='4:de342d72-e7ff-4d5b-9a28-99eaa381965b:216' labels=frozenset({'Entities'}) properties={'wikipediaExternalRef': 5316476, 'wikidataId': 'Q2587068', 'confidence_score': 0.4691, 'offsetStart': 2476, 'offsetEnd': 2490, 'rawName': 'sensitive data'}>>, <Record cve1=<Node element_id='4:de342d72-e7ff-4d5b-9a28-99eaa381965b:0' labels=frozenset({'CVE'}) properties={'assigner': 'cna@sap.com', 'id': 'CVE-2023-0012'}> cve2=<Node element_id='4:de342d72-e7ff-4d5b-9a28-99eaa381965b:5' labels=frozenset({'CVE'}) properties={'assigner': 'cna@sap.com', 'id': 'CVE-2023-0017'}> Entities=<Node element_id='4:de342d72-e7ff-4d5b-9a28-99eaa381965b:216' labels=frozenset({'Entities'}) properties={'wikipediaExternalRef': 5316476, 'wikidataId': 'Q2587068', 'confidence_score': 0.4691, 'offsetStart': 2476, 'offsetEnd': 2490, 'rawName': 'sensitive data'}>>, <Record cve1=<Node element_id='4:de342d72-e7ff-4d5b-9a28-99eaa381965b:0' labels=frozenset({'CVE'}) properties={'assigner': 'cna@sap.com', 'id': 'CVE-2023-0012'}> cve2=<Node element_id='4:de342d72-e7ff-4d5b-9a28-99eaa381965b:5' labels=frozenset({'CVE'}) properties={'assigner': 'cna@sap.com', 'id': 'CVE-2023-0017'}> Entities=<Node element_id='4:de342d72-e7ff-4d5b-9a28-99eaa381965b:322' labels=frozenset({'Entities'}) properties={'wikipediaExternalRef': 40684, 'wikidataId': 'Q228502', 'confidence_score': 0.4556, 'offsetStart': 947, 'offsetEnd': 961, 'rawName': 'access control'}>>, <Record cve1=<Node element_id='4:de342d72-e7ff-4d5b-9a28-99eaa381965b:0' labels=frozenset({'CVE'}) properties={'assigner': 'cna@sap.com', 'id': 'CVE-2023-0012'}> cve2=<Node element_id='4:de342d72-e7ff-4d5b-9a28-99eaa381965b:5' labels=frozenset({'CVE'}) properties={'assigner': 'cna@sap.com', 'id': 'CVE-2023-0017'}> Entities=<Node element_id='4:de342d72-e7ff-4d5b-9a28-99eaa381965b:322' labels=frozenset({'Entities'}) properties={'wikipediaExternalRef': 40684, 'wikidataId': 'Q228502', 'confidence_score': 0.4556, 'offsetStart': 947, 'offsetEnd': 961, 'rawName': 'access control'}>>, <Record cve1=<Node element_id='4:de342d72-e7ff-4d5b-9a28-99eaa381965b:5' labels=frozenset({'CVE'}) properties={'assigner': 'cna@sap.com', 'id': 'CVE-2023-0017'}> cve2=<Node element_id='4:de342d72-e7ff-4d5b-9a28-99eaa381965b:8' labels=frozenset({'CVE'}) properties={'assigner': 'cna@sap.com', 'id': 'CVE-2023-0023'}> Entities=<Node element_id='4:de342d72-e7ff-4d5b-9a28-99eaa381965b:262' labels=frozenset({'Entities'}) properties={'wikipediaExternalRef': 526999, 'wikidataId': 'Q506059', 'confidence_score': 0.9162, 'offsetStart': 1041, 'offsetEnd': 1054, 'rawName': 'SQL injection'}>>, <Record cve1=<Node element_id='4:de342d72-e7ff-4d5b-9a28-99eaa381965b:5' labels=frozenset({'CVE'}) properties={'assigner': 'cna@sap.com', 'id': 'CVE-2023-0017'}> cve2=<Node element_id='4:de342d72-e7ff-4d5b-9a28-99eaa381965b:8' labels=frozenset({'CVE'}) properties={'assigner': 'cna@sap.com', 'id': 'CVE-2023-0023'}> Entities=<Node element_id='4:de342d72-e7ff-4d5b-9a28-99eaa381965b:287' labels=frozenset({'Entities'}) properties={'wikipediaExternalRef': 5316476, 'wikidataId': 'Q2587068', 'confidence_score': 0.4076, 'offsetStart': 394, 'offsetEnd': 415, 'rawName': 'sensitive information'}>>, <Record cve1=<Node element_id='4:de342d72-e7ff-4d5b-9a28-99eaa381965b:5' labels=frozenset({'CVE'}) properties={'assigner': 'cna@sap.com', 'id': 'CVE-2023-0017'}> cve2=<Node element_id='4:de342d72-e7ff-4d5b-9a28-99eaa381965b:8' labels=frozenset({'CVE'}) properties={'assigner': 'cna@sap.com', 'id': 'CVE-2023-0023'}> Entities=<Node element_id='4:de342d72-e7ff-4d5b-9a28-99eaa381965b:287' labels=frozenset({'Entities'}) properties={'wikipediaExternalRef': 5316476, 'wikidataId': 'Q2587068', 'confidence_score': 0.4076, 'offsetStart': 394, 'offsetEnd': 415, 'rawName': 'sensitive information'}>>, <Record cve1=<Node element_id='4:de342d72-e7ff-4d5b-9a28-99eaa381965b:5' labels=frozenset({'CVE'}) properties={'assigner': 'cna@sap.com', 'id': 'CVE-2023-0017'}> cve2=<Node element_id='4:de342d72-e7ff-4d5b-9a28-99eaa381965b:8' labels=frozenset({'CVE'}) properties={'assigner': 'cna@sap.com', 'id': 'CVE-2023-0023'}> Entities=<Node element_id='4:de342d72-e7ff-4d5b-9a28-99eaa381965b:287' labels=frozenset({'Entities'}) properties={'wikipediaExternalRef': 5316476, 'wikidataId': 'Q2587068', 'confidence_score': 0.4076, 'offsetStart': 394, 'offsetEnd': 415, 'rawName': 'sensitive information'}>>, <Record cve1=<Node element_id='4:de342d72-e7ff-4d5b-9a28-99eaa381965b:5' labels=frozenset({'CVE'}) properties={'assigner': 'cna@sap.com', 'id': 'CVE-2023-0017'}> cve2=<Node element_id='4:de342d72-e7ff-4d5b-9a28-99eaa381965b:8' labels=frozenset({'CVE'}) properties={'assigner': 'cna@sap.com', 'id': 'CVE-2023-0023'}> Entities=<Node element_id='4:de342d72-e7ff-4d5b-9a28-99eaa381965b:314' labels=frozenset({'Entities'}) properties={'wikipediaExternalRef': 40684, 'wikidataId': 'Q228502', 'confidence_score': 0.6394, 'offsetStart': 0, 'offsetEnd': 14, 'rawName': 'Access control'}>>, <Record cve1=<Node element_id='4:de342d72-e7ff-4d5b-9a28-99eaa381965b:5' labels=frozenset({'CVE'}) properties={'assigner': 'cna@sap.com', 'id': 'CVE-2023-0017'}> cve2=<Node element_id='4:de342d72-e7ff-4d5b-9a28-99eaa381965b:8' labels=frozenset({'CVE'}) properties={'assigner': 'cna@sap.com', 'id': 'CVE-2023-0023'}> Entities=<Node element_id='4:de342d72-e7ff-4d5b-9a28-99eaa381965b:314' labels=frozenset({'Entities'}) properties={'wikipediaExternalRef': 40684, 'wikidataId': 'Q228502', 'confidence_score': 0.6394, 'offsetStart': 0, 'offsetEnd': 14, 'rawName': 'Access control'}>>, <Record cve1=<Node element_id='4:de342d72-e7ff-4d5b-9a28-99eaa381965b:5' labels=frozenset({'CVE'}) properties={'assigner': 'cna@sap.com', 'id': 'CVE-2023-0017'}> cve2=<Node element_id='4:de342d72-e7ff-4d5b-9a28-99eaa381965b:8' labels=frozenset({'CVE'}) properties={'assigner': 'cna@sap.com', 'id': 'CVE-2023-0023'}> Entities=<Node element_id='4:de342d72-e7ff-4d5b-9a28-99eaa381965b:331' labels=frozenset({'Entities'}) properties={'wikipediaExternalRef': 614094, 'wikidataId': 'Q1756025', 'confidence_score': 0.5922, 'offsetStart': 8, 'offsetEnd': 22, 'rawName': 'replay attacks'}>>, <Record cve1=<Node element_id='4:de342d72-e7ff-4d5b-9a28-99eaa381965b:5' labels=frozenset({'CVE'}) properties={'assigner': 'cna@sap.com', 'id': 'CVE-2023-0017'}> cve2=<Node element_id='4:de342d72-e7ff-4d5b-9a28-99eaa381965b:8' labels=frozenset({'CVE'}) properties={'assigner': 'cna@sap.com', 'id': 'CVE-2023-0023'}> Entities=<Node element_id='4:de342d72-e7ff-4d5b-9a28-99eaa381965b:168' labels=frozenset({'Entities'}) properties={'wikipediaExternalRef': 241154, 'wikidataId': 'Q371199', 'confidence_score': 0.8255, 'offsetStart': 3130, 'offsetEnd': 3133, 'rawName': 'XSS'}>>, <Record cve1=<Node element_id='4:de342d72-e7ff-4d5b-9a28-99eaa381965b:5' labels=frozenset({'CVE'}) properties={'assigner': 'cna@sap.com', 'id': 'CVE-2023-0017'}> cve2=<Node element_id='4:de342d72-e7ff-4d5b-9a28-99eaa381965b:8' labels=frozenset({'CVE'}) properties={'assigner': 'cna@sap.com', 'id': 'CVE-2023-0023'}> Entities=<Node element_id='4:de342d72-e7ff-4d5b-9a28-99eaa381965b:195' labels=frozenset({'Entities'}) properties={'wikipediaExternalRef': 241154, 'wikidataId': 'Q371199', 'confidence_score': 0.5158, 'offsetStart': 1120, 'offsetEnd': 1133, 'rawName': 'Reflected XSS'}>>, <Record cve1=<Node element_id='4:de342d72-e7ff-4d5b-9a28-99eaa381965b:5' labels=frozenset({'CVE'}) properties={'assigner': 'cna@sap.com', 'id': 'CVE-2023-0017'}> cve2=<Node element_id='4:de342d72-e7ff-4d5b-9a28-99eaa381965b:8' labels=frozenset({'CVE'}) properties={'assigner': 'cna@sap.com', 'id': 'CVE-2023-0023'}> Entities=<Node element_id='4:de342d72-e7ff-4d5b-9a28-99eaa381965b:208' labels=frozenset({'Entities'}) properties={'wikipediaExternalRef': 241154, 'wikidataId': 'Q371199', 'confidence_score': 0.5158, 'offsetStart': 1769, 'offsetEnd': 1779, 'rawName': 'Stored XSS'}>>, <Record cve1=<Node element_id='4:de342d72-e7ff-4d5b-9a28-99eaa381965b:5' labels=frozenset({'CVE'}) properties={'assigner': 'cna@sap.com', 'id': 'CVE-2023-0017'}> cve2=<Node element_id='4:de342d72-e7ff-4d5b-9a28-99eaa381965b:8' labels=frozenset({'CVE'}) properties={'assigner': 'cna@sap.com', 'id': 'CVE-2023-0023'}> Entities=<Node element_id='4:de342d72-e7ff-4d5b-9a28-99eaa381965b:168' labels=frozenset({'Entities'}) properties={'wikipediaExternalRef': 241154, 'wikidataId': 'Q371199', 'confidence_score': 0.8255, 'offsetStart': 3130, 'offsetEnd': 3133, 'rawName': 'XSS'}>>, <Record cve1=<Node element_id='4:de342d72-e7ff-4d5b-9a28-99eaa381965b:5' labels=frozenset({'CVE'}) properties={'assigner': 'cna@sap.com', 'id': 'CVE-2023-0017'}> cve2=<Node element_id='4:de342d72-e7ff-4d5b-9a28-99eaa381965b:8' labels=frozenset({'CVE'}) properties={'assigner': 'cna@sap.com', 'id': 'CVE-2023-0023'}> Entities=<Node element_id='4:de342d72-e7ff-4d5b-9a28-99eaa381965b:195' labels=frozenset({'Entities'}) properties={'wikipediaExternalRef': 241154, 'wikidataId': 'Q371199', 'confidence_score': 0.5158, 'offsetStart': 1120, 'offsetEnd': 1133, 'rawName': 'Reflected XSS'}>>, <Record cve1=<Node element_id='4:de342d72-e7ff-4d5b-9a28-99eaa381965b:5' labels=frozenset({'CVE'}) properties={'assigner': 'cna@sap.com', 'id': 'CVE-2023-0017'}> cve2=<Node element_id='4:de342d72-e7ff-4d5b-9a28-99eaa381965b:8' labels=frozenset({'CVE'}) properties={'assigner': 'cna@sap.com', 'id': 'CVE-2023-0023'}> Entities=<Node element_id='4:de342d72-e7ff-4d5b-9a28-99eaa381965b:208' labels=frozenset({'Entities'}) properties={'wikipediaExternalRef': 241154, 'wikidataId': 'Q371199', 'confidence_score': 0.5158, 'offsetStart': 1769, 'offsetEnd': 1779, 'rawName': 'Stored XSS'}>>, <Record cve1=<Node element_id='4:de342d72-e7ff-4d5b-9a28-99eaa381965b:5' labels=frozenset({'CVE'}) properties={'assigner': 'cna@sap.com', 'id': 'CVE-2023-0017'}> cve2=<Node element_id='4:de342d72-e7ff-4d5b-9a28-99eaa381965b:8' labels=frozenset({'CVE'}) properties={'assigner': 'cna@sap.com', 'id': 'CVE-2023-0023'}> Entities=<Node element_id='4:de342d72-e7ff-4d5b-9a28-99eaa381965b:168' labels=frozenset({'Entities'}) properties={'wikipediaExternalRef': 241154, 'wikidataId': 'Q371199', 'confidence_score': 0.8255, 'offsetStart': 3130, 'offsetEnd': 3133, 'rawName': 'XSS'}>>, <Record cve1=<Node element_id='4:de342d72-e7ff-4d5b-9a28-99eaa381965b:5' labels=frozenset({'CVE'}) properties={'assigner': 'cna@sap.com', 'id': 'CVE-2023-0017'}> cve2=<Node element_id='4:de342d72-e7ff-4d5b-9a28-99eaa381965b:8' labels=frozenset({'CVE'}) properties={'assigner': 'cna@sap.com', 'id': 'CVE-2023-0023'}> Entities=<Node element_id='4:de342d72-e7ff-4d5b-9a28-99eaa381965b:195' labels=frozenset({'Entities'}) properties={'wikipediaExternalRef': 241154, 'wikidataId': 'Q371199', 'confidence_score': 0.5158, 'offsetStart': 1120, 'offsetEnd': 1133, 'rawName': 'Reflected XSS'}>>, <Record cve1=<Node element_id='4:de342d72-e7ff-4d5b-9a28-99eaa381965b:5' labels=frozenset({'CVE'}) properties={'assigner': 'cna@sap.com', 'id': 'CVE-2023-0017'}> cve2=<Node element_id='4:de342d72-e7ff-4d5b-9a28-99eaa381965b:8' labels=frozenset({'CVE'}) properties={'assigner': 'cna@sap.com', 'id': 'CVE-2023-0023'}> Entities=<Node element_id='4:de342d72-e7ff-4d5b-9a28-99eaa381965b:208' labels=frozenset({'Entities'}) properties={'wikipediaExternalRef': 241154, 'wikidataId': 'Q371199', 'confidence_score': 0.5158, 'offsetStart': 1769, 'offsetEnd': 1779, 'rawName': 'Stored XSS'}>>, <Record cve1=<Node element_id='4:de342d72-e7ff-4d5b-9a28-99eaa381965b:5' labels=frozenset({'CVE'}) properties={'assigner': 'cna@sap.com', 'id': 'CVE-2023-0017'}> cve2=<Node element_id='4:de342d72-e7ff-4d5b-9a28-99eaa381965b:8' labels=frozenset({'CVE'}) properties={'assigner': 'cna@sap.com', 'id': 'CVE-2023-0023'}> Entities=<Node element_id='4:de342d72-e7ff-4d5b-9a28-99eaa381965b:168' labels=frozenset({'Entities'}) properties={'wikipediaExternalRef': 241154, 'wikidataId': 'Q371199', 'confidence_score': 0.8255, 'offsetStart': 3130, 'offsetEnd': 3133, 'rawName': 'XSS'}>>, <Record cve1=<Node element_id='4:de342d72-e7ff-4d5b-9a28-99eaa381965b:5' labels=frozenset({'CVE'}) properties={'assigner': 'cna@sap.com', 'id': 'CVE-2023-0017'}> cve2=<Node element_id='4:de342d72-e7ff-4d5b-9a28-99eaa381965b:8' labels=frozenset({'CVE'}) properties={'assigner': 'cna@sap.com', 'id': 'CVE-2023-0023'}> Entities=<Node element_id='4:de342d72-e7ff-4d5b-9a28-99eaa381965b:195' labels=frozenset({'Entities'}) properties={'wikipediaExternalRef': 241154, 'wikidataId': 'Q371199', 'confidence_score': 0.5158, 'offsetStart': 1120, 'offsetEnd': 1133, 'rawName': 'Reflected XSS'}>>, <Record cve1=<Node element_id='4:de342d72-e7ff-4d5b-9a28-99eaa381965b:5' labels=frozenset({'CVE'}) properties={'assigner': 'cna@sap.com', 'id': 'CVE-2023-0017'}> cve2=<Node element_id='4:de342d72-e7ff-4d5b-9a28-99eaa381965b:8' labels=frozenset({'CVE'}) properties={'assigner': 'cna@sap.com', 'id': 'CVE-2023-0023'}> Entities=<Node element_id='4:de342d72-e7ff-4d5b-9a28-99eaa381965b:208' labels=frozenset({'Entities'}) properties={'wikipediaExternalRef': 241154, 'wikidataId': 'Q371199', 'confidence_score': 0.5158, 'offsetStart': 1769, 'offsetEnd': 1779, 'rawName': 'Stored XSS'}>>, <Record cve1=<Node element_id='4:de342d72-e7ff-4d5b-9a28-99eaa381965b:5' labels=frozenset({'CVE'}) properties={'assigner': 'cna@sap.com', 'id': 'CVE-2023-0017'}> cve2=<Node element_id='4:de342d72-e7ff-4d5b-9a28-99eaa381965b:8' labels=frozenset({'CVE'}) properties={'assigner': 'cna@sap.com', 'id': 'CVE-2023-0023'}> Entities=<Node element_id='4:de342d72-e7ff-4d5b-9a28-99eaa381965b:216' labels=frozenset({'Entities'}) properties={'wikipediaExternalRef': 5316476, 'wikidataId': 'Q2587068', 'confidence_score': 0.4691, 'offsetStart': 2476, 'offsetEnd': 2490, 'rawName': 'sensitive data'}>>, <Record cve1=<Node element_id='4:de342d72-e7ff-4d5b-9a28-99eaa381965b:5' labels=frozenset({'CVE'}) properties={'assigner': 'cna@sap.com', 'id': 'CVE-2023-0017'}> cve2=<Node element_id='4:de342d72-e7ff-4d5b-9a28-99eaa381965b:8' labels=frozenset({'CVE'}) properties={'assigner': 'cna@sap.com', 'id': 'CVE-2023-0023'}> Entities=<Node element_id='4:de342d72-e7ff-4d5b-9a28-99eaa381965b:216' labels=frozenset({'Entities'}) properties={'wikipediaExternalRef': 5316476, 'wikidataId': 'Q2587068', 'confidence_score': 0.4691, 'offsetStart': 2476, 'offsetEnd': 2490, 'rawName': 'sensitive data'}>>, <Record cve1=<Node element_id='4:de342d72-e7ff-4d5b-9a28-99eaa381965b:5' labels=frozenset({'CVE'}) properties={'assigner': 'cna@sap.com', 'id': 'CVE-2023-0017'}> cve2=<Node element_id='4:de342d72-e7ff-4d5b-9a28-99eaa381965b:8' labels=frozenset({'CVE'}) properties={'assigner': 'cna@sap.com', 'id': 'CVE-2023-0023'}> Entities=<Node element_id='4:de342d72-e7ff-4d5b-9a28-99eaa381965b:216' labels=frozenset({'Entities'}) properties={'wikipediaExternalRef': 5316476, 'wikidataId': 'Q2587068', 'confidence_score': 0.4691, 'offsetStart': 2476, 'offsetEnd': 2490, 'rawName': 'sensitive data'}>>, <Record cve1=<Node element_id='4:de342d72-e7ff-4d5b-9a28-99eaa381965b:5' labels=frozenset({'CVE'}) properties={'assigner': 'cna@sap.com', 'id': 'CVE-2023-0017'}> cve2=<Node element_id='4:de342d72-e7ff-4d5b-9a28-99eaa381965b:8' labels=frozenset({'CVE'}) properties={'assigner': 'cna@sap.com', 'id': 'CVE-2023-0023'}> Entities=<Node element_id='4:de342d72-e7ff-4d5b-9a28-99eaa381965b:216' labels=frozenset({'Entities'}) properties={'wikipediaExternalRef': 5316476, 'wikidataId': 'Q2587068', 'confidence_score': 0.4691, 'offsetStart': 2476, 'offsetEnd': 2490, 'rawName': 'sensitive data'}>>, <Record cve1=<Node element_id='4:de342d72-e7ff-4d5b-9a28-99eaa381965b:5' labels=frozenset({'CVE'}) properties={'assigner': 'cna@sap.com', 'id': 'CVE-2023-0017'}> cve2=<Node element_id='4:de342d72-e7ff-4d5b-9a28-99eaa381965b:8' labels=frozenset({'CVE'}) properties={'assigner': 'cna@sap.com', 'id': 'CVE-2023-0023'}> Entities=<Node element_id='4:de342d72-e7ff-4d5b-9a28-99eaa381965b:322' labels=frozenset({'Entities'}) properties={'wikipediaExternalRef': 40684, 'wikidataId': 'Q228502', 'confidence_score': 0.4556, 'offsetStart': 947, 'offsetEnd': 961, 'rawName': 'access control'}>>, <Record cve1=<Node element_id='4:de342d72-e7ff-4d5b-9a28-99eaa381965b:5' labels=frozenset({'CVE'}) properties={'assigner': 'cna@sap.com', 'id': 'CVE-2023-0017'}> cve2=<Node element_id='4:de342d72-e7ff-4d5b-9a28-99eaa381965b:8' labels=frozenset({'CVE'}) properties={'assigner': 'cna@sap.com', 'id': 'CVE-2023-0023'}> Entities=<Node element_id='4:de342d72-e7ff-4d5b-9a28-99eaa381965b:322' labels=frozenset({'Entities'}) properties={'wikipediaExternalRef': 40684, 'wikidataId': 'Q228502', 'confidence_score': 0.4556, 'offsetStart': 947, 'offsetEnd': 961, 'rawName': 'access control'}>>, <Record cve1=<Node element_id='4:de342d72-e7ff-4d5b-9a28-99eaa381965b:4' labels=frozenset({'CVE'}) properties={'assigner': 'cna@sap.com', 'id': 'CVE-2023-0016'}> cve2=<Node element_id='4:de342d72-e7ff-4d5b-9a28-99eaa381965b:7' labels=frozenset({'CVE'}) properties={'assigner': 'cna@sap.com', 'id': 'CVE-2023-0022'}> Entities=<Node element_id='4:de342d72-e7ff-4d5b-9a28-99eaa381965b:262' labels=frozenset({'Entities'}) properties={'wikipediaExternalRef': 526999, 'wikidataId': 'Q506059', 'confidence_score': 0.9162, 'offsetStart': 1041, 'offsetEnd': 1054, 'rawName': 'SQL injection'}>>, <Record cve1=<Node element_id='4:de342d72-e7ff-4d5b-9a28-99eaa381965b:4' labels=frozenset({'CVE'}) properties={'assigner': 'cna@sap.com', 'id': 'CVE-2023-0016'}> cve2=<Node element_id='4:de342d72-e7ff-4d5b-9a28-99eaa381965b:7' labels=frozenset({'CVE'}) properties={'assigner': 'cna@sap.com', 'id': 'CVE-2023-0022'}> Entities=<Node element_id='4:de342d72-e7ff-4d5b-9a28-99eaa381965b:287' labels=frozenset({'Entities'}) properties={'wikipediaExternalRef': 5316476, 'wikidataId': 'Q2587068', 'confidence_score': 0.4076, 'offsetStart': 394, 'offsetEnd': 415, 'rawName': 'sensitive information'}>>, <Record cve1=<Node element_id='4:de342d72-e7ff-4d5b-9a28-99eaa381965b:4' labels=frozenset({'CVE'}) properties={'assigner': 'cna@sap.com', 'id': 'CVE-2023-0016'}> cve2=<Node element_id='4:de342d72-e7ff-4d5b-9a28-99eaa381965b:7' labels=frozenset({'CVE'}) properties={'assigner': 'cna@sap.com', 'id': 'CVE-2023-0022'}> Entities=<Node element_id='4:de342d72-e7ff-4d5b-9a28-99eaa381965b:287' labels=frozenset({'Entities'}) properties={'wikipediaExternalRef': 5316476, 'wikidataId': 'Q2587068', 'confidence_score': 0.4076, 'offsetStart': 394, 'offsetEnd': 415, 'rawName': 'sensitive information'}>>, <Record cve1=<Node element_id='4:de342d72-e7ff-4d5b-9a28-99eaa381965b:4' labels=frozenset({'CVE'}) properties={'assigner': 'cna@sap.com', 'id': 'CVE-2023-0016'}> cve2=<Node element_id='4:de342d72-e7ff-4d5b-9a28-99eaa381965b:7' labels=frozenset({'CVE'}) properties={'assigner': 'cna@sap.com', 'id': 'CVE-2023-0022'}> Entities=<Node element_id='4:de342d72-e7ff-4d5b-9a28-99eaa381965b:287' labels=frozenset({'Entities'}) properties={'wikipediaExternalRef': 5316476, 'wikidataId': 'Q2587068', 'confidence_score': 0.4076, 'offsetStart': 394, 'offsetEnd': 415, 'rawName': 'sensitive information'}>>, <Record cve1=<Node element_id='4:de342d72-e7ff-4d5b-9a28-99eaa381965b:4' labels=frozenset({'CVE'}) properties={'assigner': 'cna@sap.com', 'id': 'CVE-2023-0016'}> cve2=<Node element_id='4:de342d72-e7ff-4d5b-9a28-99eaa381965b:7' labels=frozenset({'CVE'}) properties={'assigner': 'cna@sap.com', 'id': 'CVE-2023-0022'}> Entities=<Node element_id='4:de342d72-e7ff-4d5b-9a28-99eaa381965b:314' labels=frozenset({'Entities'}) properties={'wikipediaExternalRef': 40684, 'wikidataId': 'Q228502', 'confidence_score': 0.6394, 'offsetStart': 0, 'offsetEnd': 14, 'rawName': 'Access control'}>>, <Record cve1=<Node element_id='4:de342d72-e7ff-4d5b-9a28-99eaa381965b:4' labels=frozenset({'CVE'}) properties={'assigner': 'cna@sap.com', 'id': 'CVE-2023-0016'}> cve2=<Node element_id='4:de342d72-e7ff-4d5b-9a28-99eaa381965b:7' labels=frozenset({'CVE'}) properties={'assigner': 'cna@sap.com', 'id': 'CVE-2023-0022'}> Entities=<Node element_id='4:de342d72-e7ff-4d5b-9a28-99eaa381965b:314' labels=frozenset({'Entities'}) properties={'wikipediaExternalRef': 40684, 'wikidataId': 'Q228502', 'confidence_score': 0.6394, 'offsetStart': 0, 'offsetEnd': 14, 'rawName': 'Access control'}>>, <Record cve1=<Node element_id='4:de342d72-e7ff-4d5b-9a28-99eaa381965b:4' labels=frozenset({'CVE'}) properties={'assigner': 'cna@sap.com', 'id': 'CVE-2023-0016'}> cve2=<Node element_id='4:de342d72-e7ff-4d5b-9a28-99eaa381965b:7' labels=frozenset({'CVE'}) properties={'assigner': 'cna@sap.com', 'id': 'CVE-2023-0022'}> Entities=<Node element_id='4:de342d72-e7ff-4d5b-9a28-99eaa381965b:331' labels=frozenset({'Entities'}) properties={'wikipediaExternalRef': 614094, 'wikidataId': 'Q1756025', 'confidence_score': 0.5922, 'offsetStart': 8, 'offsetEnd': 22, 'rawName': 'replay attacks'}>>, <Record cve1=<Node element_id='4:de342d72-e7ff-4d5b-9a28-99eaa381965b:4' labels=frozenset({'CVE'}) properties={'assigner': 'cna@sap.com', 'id': 'CVE-2023-0016'}> cve2=<Node element_id='4:de342d72-e7ff-4d5b-9a28-99eaa381965b:7' labels=frozenset({'CVE'}) properties={'assigner': 'cna@sap.com', 'id': 'CVE-2023-0022'}> Entities=<Node element_id='4:de342d72-e7ff-4d5b-9a28-99eaa381965b:168' labels=frozenset({'Entities'}) properties={'wikipediaExternalRef': 241154, 'wikidataId': 'Q371199', 'confidence_score': 0.8255, 'offsetStart': 3130, 'offsetEnd': 3133, 'rawName': 'XSS'}>>, <Record cve1=<Node element_id='4:de342d72-e7ff-4d5b-9a28-99eaa381965b:4' labels=frozenset({'CVE'}) properties={'assigner': 'cna@sap.com', 'id': 'CVE-2023-0016'}> cve2=<Node element_id='4:de342d72-e7ff-4d5b-9a28-99eaa381965b:7' labels=frozenset({'CVE'}) properties={'assigner': 'cna@sap.com', 'id': 'CVE-2023-0022'}> Entities=<Node element_id='4:de342d72-e7ff-4d5b-9a28-99eaa381965b:195' labels=frozenset({'Entities'}) properties={'wikipediaExternalRef': 241154, 'wikidataId': 'Q371199', 'confidence_score': 0.5158, 'offsetStart': 1120, 'offsetEnd': 1133, 'rawName': 'Reflected XSS'}>>, <Record cve1=<Node element_id='4:de342d72-e7ff-4d5b-9a28-99eaa381965b:4' labels=frozenset({'CVE'}) properties={'assigner': 'cna@sap.com', 'id': 'CVE-2023-0016'}> cve2=<Node element_id='4:de342d72-e7ff-4d5b-9a28-99eaa381965b:7' labels=frozenset({'CVE'}) properties={'assigner': 'cna@sap.com', 'id': 'CVE-2023-0022'}> Entities=<Node element_id='4:de342d72-e7ff-4d5b-9a28-99eaa381965b:208' labels=frozenset({'Entities'}) properties={'wikipediaExternalRef': 241154, 'wikidataId': 'Q371199', 'confidence_score': 0.5158, 'offsetStart': 1769, 'offsetEnd': 1779, 'rawName': 'Stored XSS'}>>, <Record cve1=<Node element_id='4:de342d72-e7ff-4d5b-9a28-99eaa381965b:4' labels=frozenset({'CVE'}) properties={'assigner': 'cna@sap.com', 'id': 'CVE-2023-0016'}> cve2=<Node element_id='4:de342d72-e7ff-4d5b-9a28-99eaa381965b:7' labels=frozenset({'CVE'}) properties={'assigner': 'cna@sap.com', 'id': 'CVE-2023-0022'}> Entities=<Node element_id='4:de342d72-e7ff-4d5b-9a28-99eaa381965b:168' labels=frozenset({'Entities'}) properties={'wikipediaExternalRef': 241154, 'wikidataId': 'Q371199', 'confidence_score': 0.8255, 'offsetStart': 3130, 'offsetEnd': 3133, 'rawName': 'XSS'}>>, <Record cve1=<Node element_id='4:de342d72-e7ff-4d5b-9a28-99eaa381965b:4' labels=frozenset({'CVE'}) properties={'assigner': 'cna@sap.com', 'id': 'CVE-2023-0016'}> cve2=<Node element_id='4:de342d72-e7ff-4d5b-9a28-99eaa381965b:7' labels=frozenset({'CVE'}) properties={'assigner': 'cna@sap.com', 'id': 'CVE-2023-0022'}> Entities=<Node element_id='4:de342d72-e7ff-4d5b-9a28-99eaa381965b:195' labels=frozenset({'Entities'}) properties={'wikipediaExternalRef': 241154, 'wikidataId': 'Q371199', 'confidence_score': 0.5158, 'offsetStart': 1120, 'offsetEnd': 1133, 'rawName': 'Reflected XSS'}>>, <Record cve1=<Node element_id='4:de342d72-e7ff-4d5b-9a28-99eaa381965b:4' labels=frozenset({'CVE'}) properties={'assigner': 'cna@sap.com', 'id': 'CVE-2023-0016'}> cve2=<Node element_id='4:de342d72-e7ff-4d5b-9a28-99eaa381965b:7' labels=frozenset({'CVE'}) properties={'assigner': 'cna@sap.com', 'id': 'CVE-2023-0022'}> Entities=<Node element_id='4:de342d72-e7ff-4d5b-9a28-99eaa381965b:208' labels=frozenset({'Entities'}) properties={'wikipediaExternalRef': 241154, 'wikidataId': 'Q371199', 'confidence_score': 0.5158, 'offsetStart': 1769, 'offsetEnd': 1779, 'rawName': 'Stored XSS'}>>, <Record cve1=<Node element_id='4:de342d72-e7ff-4d5b-9a28-99eaa381965b:4' labels=frozenset({'CVE'}) properties={'assigner': 'cna@sap.com', 'id': 'CVE-2023-0016'}> cve2=<Node element_id='4:de342d72-e7ff-4d5b-9a28-99eaa381965b:7' labels=frozenset({'CVE'}) properties={'assigner': 'cna@sap.com', 'id': 'CVE-2023-0022'}> Entities=<Node element_id='4:de342d72-e7ff-4d5b-9a28-99eaa381965b:168' labels=frozenset({'Entities'}) properties={'wikipediaExternalRef': 241154, 'wikidataId': 'Q371199', 'confidence_score': 0.8255, 'offsetStart': 3130, 'offsetEnd': 3133, 'rawName': 'XSS'}>>, <Record cve1=<Node element_id='4:de342d72-e7ff-4d5b-9a28-99eaa381965b:4' labels=frozenset({'CVE'}) properties={'assigner': 'cna@sap.com', 'id': 'CVE-2023-0016'}> cve2=<Node element_id='4:de342d72-e7ff-4d5b-9a28-99eaa381965b:7' labels=frozenset({'CVE'}) properties={'assigner': 'cna@sap.com', 'id': 'CVE-2023-0022'}> Entities=<Node element_id='4:de342d72-e7ff-4d5b-9a28-99eaa381965b:195' labels=frozenset({'Entities'}) properties={'wikipediaExternalRef': 241154, 'wikidataId': 'Q371199', 'confidence_score': 0.5158, 'offsetStart': 1120, 'offsetEnd': 1133, 'rawName': 'Reflected XSS'}>>, <Record cve1=<Node element_id='4:de342d72-e7ff-4d5b-9a28-99eaa381965b:4' labels=frozenset({'CVE'}) properties={'assigner': 'cna@sap.com', 'id': 'CVE-2023-0016'}> cve2=<Node element_id='4:de342d72-e7ff-4d5b-9a28-99eaa381965b:7' labels=frozenset({'CVE'}) properties={'assigner': 'cna@sap.com', 'id': 'CVE-2023-0022'}> Entities=<Node element_id='4:de342d72-e7ff-4d5b-9a28-99eaa381965b:208' labels=frozenset({'Entities'}) properties={'wikipediaExternalRef': 241154, 'wikidataId': 'Q371199', 'confidence_score': 0.5158, 'offsetStart': 1769, 'offsetEnd': 1779, 'rawName': 'Stored XSS'}>>, <Record cve1=<Node element_id='4:de342d72-e7ff-4d5b-9a28-99eaa381965b:4' labels=frozenset({'CVE'}) properties={'assigner': 'cna@sap.com', 'id': 'CVE-2023-0016'}> cve2=<Node element_id='4:de342d72-e7ff-4d5b-9a28-99eaa381965b:7' labels=frozenset({'CVE'}) properties={'assigner': 'cna@sap.com', 'id': 'CVE-2023-0022'}> Entities=<Node element_id='4:de342d72-e7ff-4d5b-9a28-99eaa381965b:168' labels=frozenset({'Entities'}) properties={'wikipediaExternalRef': 241154, 'wikidataId': 'Q371199', 'confidence_score': 0.8255, 'offsetStart': 3130, 'offsetEnd': 3133, 'rawName': 'XSS'}>>, <Record cve1=<Node element_id='4:de342d72-e7ff-4d5b-9a28-99eaa381965b:4' labels=frozenset({'CVE'}) properties={'assigner': 'cna@sap.com', 'id': 'CVE-2023-0016'}> cve2=<Node element_id='4:de342d72-e7ff-4d5b-9a28-99eaa381965b:7' labels=frozenset({'CVE'}) properties={'assigner': 'cna@sap.com', 'id': 'CVE-2023-0022'}> Entities=<Node element_id='4:de342d72-e7ff-4d5b-9a28-99eaa381965b:195' labels=frozenset({'Entities'}) properties={'wikipediaExternalRef': 241154, 'wikidataId': 'Q371199', 'confidence_score': 0.5158, 'offsetStart': 1120, 'offsetEnd': 1133, 'rawName': 'Reflected XSS'}>>, <Record cve1=<Node element_id='4:de342d72-e7ff-4d5b-9a28-99eaa381965b:4' labels=frozenset({'CVE'}) properties={'assigner': 'cna@sap.com', 'id': 'CVE-2023-0016'}> cve2=<Node element_id='4:de342d72-e7ff-4d5b-9a28-99eaa381965b:7' labels=frozenset({'CVE'}) properties={'assigner': 'cna@sap.com', 'id': 'CVE-2023-0022'}> Entities=<Node element_id='4:de342d72-e7ff-4d5b-9a28-99eaa381965b:208' labels=frozenset({'Entities'}) properties={'wikipediaExternalRef': 241154, 'wikidataId': 'Q371199', 'confidence_score': 0.5158, 'offsetStart': 1769, 'offsetEnd': 1779, 'rawName': 'Stored XSS'}>>, <Record cve1=<Node element_id='4:de342d72-e7ff-4d5b-9a28-99eaa381965b:4' labels=frozenset({'CVE'}) properties={'assigner': 'cna@sap.com', 'id': 'CVE-2023-0016'}> cve2=<Node element_id='4:de342d72-e7ff-4d5b-9a28-99eaa381965b:7' labels=frozenset({'CVE'}) properties={'assigner': 'cna@sap.com', 'id': 'CVE-2023-0022'}> Entities=<Node element_id='4:de342d72-e7ff-4d5b-9a28-99eaa381965b:216' labels=frozenset({'Entities'}) properties={'wikipediaExternalRef': 5316476, 'wikidataId': 'Q2587068', 'confidence_score': 0.4691, 'offsetStart': 2476, 'offsetEnd': 2490, 'rawName': 'sensitive data'}>>, <Record cve1=<Node element_id='4:de342d72-e7ff-4d5b-9a28-99eaa381965b:4' labels=frozenset({'CVE'}) properties={'assigner': 'cna@sap.com', 'id': 'CVE-2023-0016'}> cve2=<Node element_id='4:de342d72-e7ff-4d5b-9a28-99eaa381965b:7' labels=frozenset({'CVE'}) properties={'assigner': 'cna@sap.com', 'id': 'CVE-2023-0022'}> Entities=<Node element_id='4:de342d72-e7ff-4d5b-9a28-99eaa381965b:216' labels=frozenset({'Entities'}) properties={'wikipediaExternalRef': 5316476, 'wikidataId': 'Q2587068', 'confidence_score': 0.4691, 'offsetStart': 2476, 'offsetEnd': 2490, 'rawName': 'sensitive data'}>>, <Record cve1=<Node element_id='4:de342d72-e7ff-4d5b-9a28-99eaa381965b:4' labels=frozenset({'CVE'}) properties={'assigner': 'cna@sap.com', 'id': 'CVE-2023-0016'}> cve2=<Node element_id='4:de342d72-e7ff-4d5b-9a28-99eaa381965b:7' labels=frozenset({'CVE'}) properties={'assigner': 'cna@sap.com', 'id': 'CVE-2023-0022'}> Entities=<Node element_id='4:de342d72-e7ff-4d5b-9a28-99eaa381965b:216' labels=frozenset({'Entities'}) properties={'wikipediaExternalRef': 5316476, 'wikidataId': 'Q2587068', 'confidence_score': 0.4691, 'offsetStart': 2476, 'offsetEnd': 2490, 'rawName': 'sensitive data'}>>, <Record cve1=<Node element_id='4:de342d72-e7ff-4d5b-9a28-99eaa381965b:4' labels=frozenset({'CVE'}) properties={'assigner': 'cna@sap.com', 'id': 'CVE-2023-0016'}> cve2=<Node element_id='4:de342d72-e7ff-4d5b-9a28-99eaa381965b:7' labels=frozenset({'CVE'}) properties={'assigner': 'cna@sap.com', 'id': 'CVE-2023-0022'}> Entities=<Node element_id='4:de342d72-e7ff-4d5b-9a28-99eaa381965b:216' labels=frozenset({'Entities'}) properties={'wikipediaExternalRef': 5316476, 'wikidataId': 'Q2587068', 'confidence_score': 0.4691, 'offsetStart': 2476, 'offsetEnd': 2490, 'rawName': 'sensitive data'}>>, <Record cve1=<Node element_id='4:de342d72-e7ff-4d5b-9a28-99eaa381965b:4' labels=frozenset({'CVE'}) properties={'assigner': 'cna@sap.com', 'id': 'CVE-2023-0016'}> cve2=<Node element_id='4:de342d72-e7ff-4d5b-9a28-99eaa381965b:7' labels=frozenset({'CVE'}) properties={'assigner': 'cna@sap.com', 'id': 'CVE-2023-0022'}> Entities=<Node element_id='4:de342d72-e7ff-4d5b-9a28-99eaa381965b:322' labels=frozenset({'Entities'}) properties={'wikipediaExternalRef': 40684, 'wikidataId': 'Q228502', 'confidence_score': 0.4556, 'offsetStart': 947, 'offsetEnd': 961, 'rawName': 'access control'}>>, <Record cve1=<Node element_id='4:de342d72-e7ff-4d5b-9a28-99eaa381965b:4' labels=frozenset({'CVE'}) properties={'assigner': 'cna@sap.com', 'id': 'CVE-2023-0016'}> cve2=<Node element_id='4:de342d72-e7ff-4d5b-9a28-99eaa381965b:7' labels=frozenset({'CVE'}) properties={'assigner': 'cna@sap.com', 'id': 'CVE-2023-0022'}> Entities=<Node element_id='4:de342d72-e7ff-4d5b-9a28-99eaa381965b:322' labels=frozenset({'Entities'}) properties={'wikipediaExternalRef': 40684, 'wikidataId': 'Q228502', 'confidence_score': 0.4556, 'offsetStart': 947, 'offsetEnd': 961, 'rawName': 'access control'}>>]\n"
          ]
        }
      ]
    }
  ],
  "metadata": {
    "colab": {
      "provenance": []
    },
    "kernelspec": {
      "display_name": "Python 3",
      "name": "python3"
    },
    "language_info": {
      "name": "python"
    }
  },
  "nbformat": 4,
  "nbformat_minor": 0
}