{
  "cells": [
    {
      "cell_type": "code",
      "execution_count": 698,
      "metadata": {
        "colab": {
          "base_uri": "https://localhost:8080/"
        },
        "id": "DfyJddh_FzaA",
        "outputId": "30fcb453-a497-472f-aa72-bd3bcdb5af14"
      },
      "outputs": [
        {
          "output_type": "stream",
          "name": "stdout",
          "text": [
            "Looking in indexes: https://pypi.org/simple, https://us-python.pkg.dev/colab-wheels/public/simple/\n",
            "Requirement already satisfied: neo4j in /usr/local/lib/python3.10/dist-packages (5.8.1)\n",
            "Requirement already satisfied: pytz in /usr/local/lib/python3.10/dist-packages (from neo4j) (2022.7.1)\n"
          ]
        }
      ],
      "source": [
        "!pip install neo4j    "
      ]
    },
    {
      "cell_type": "code",
      "execution_count": 699,
      "metadata": {
        "id": "Ymat9Q2JHDXa"
      },
      "outputs": [],
      "source": [
        "from neo4j import GraphDatabase "
      ]
    },
    {
      "cell_type": "code",
      "execution_count": 700,
      "metadata": {
        "id": "oBAO4ErVCsZb"
      },
      "outputs": [],
      "source": [
        "uri = \"neo4j+s://70bc3204.databases.neo4j.io\"\n",
        "pwd = \"7de6kd6oEFEU8wwTlLbOI3F9cP6NSg2Ibxsy4zOcwZE\"\n",
        "driver = GraphDatabase.driver(uri, auth=(\"neo4j\", pwd))    "
      ]
    },
    {
      "cell_type": "code",
      "execution_count": 701,
      "metadata": {
        "id": "ZqinzjrOHKQI"
      },
      "outputs": [],
      "source": [
        "class Neo4jConnection:\n",
        "    \n",
        "    def __init__(self, uri, user, pwd):\n",
        "        \n",
        "        self.__uri = uri\n",
        "        self.__user = user\n",
        "        self.__pwd = pwd\n",
        "        self.__driver = None\n",
        "        \n",
        "        try:\n",
        "            self.__driver = GraphDatabase.driver(self.__uri, auth=(self.__user, self.__pwd))\n",
        "        except Exception as e:\n",
        "            print(\"Failed to create the driver:\", e)\n",
        "        \n",
        "    def close(self):\n",
        "        \n",
        "        if self.__driver is not None:\n",
        "            self.__driver.close()\n",
        "        \n",
        "    def query(self, query, parameters=None, db=None):\n",
        "        \n",
        "        assert self.__driver is not None, \"Driver not initialized!\"\n",
        "        session = None\n",
        "        response = None\n",
        "        \n",
        "        try: \n",
        "            session = self.__driver.session(database=db) if db is not None else self.__driver.session() \n",
        "            response = list(session.run(query, parameters))\n",
        "        except Exception as e:\n",
        "            print(\"Query failed:\", e)\n",
        "        finally: \n",
        "            if session is not None:\n",
        "                session.close()\n",
        "        return response"
      ]
    },
    {
      "cell_type": "code",
      "execution_count": 702,
      "metadata": {
        "id": "-caKdnERHQPG"
      },
      "outputs": [],
      "source": [
        "uri = \"neo4j+s://70bc3204.databases.neo4j.io\"\n",
        "pwd = \"7de6kd6oEFEU8wwTlLbOI3F9cP6NSg2Ibxsy4zOcwZE\"\n",
        "user = 'neo4j'\n",
        "conn = Neo4jConnection(uri, user, pwd)"
      ]
    },
    {
      "cell_type": "markdown",
      "metadata": {
        "id": "U1oIyYMuv4Tf"
      },
      "source": [
        "## **CONSTRAINTS**"
      ]
    },
    {
      "cell_type": "code",
      "execution_count": 703,
      "metadata": {
        "id": "NgWPBVqr0ekm",
        "colab": {
          "base_uri": "https://localhost:8080/"
        },
        "outputId": "298f1165-fbd1-4990-a3ff-203572eb1ec5"
      },
      "outputs": [
        {
          "output_type": "stream",
          "name": "stdout",
          "text": [
            "[]\n"
          ]
        }
      ],
      "source": [
        "explore_reviews_csv_query = \"\"\"\n",
        "CREATE CONSTRAINT CVE IF NOT EXISTS FOR (cve:CVE) REQUIRE cve.id IS UNIQUE\n",
        "\"\"\"\n",
        "result = conn.query(explore_reviews_csv_query)\n",
        "print(result)"
      ]
    },
    {
      "cell_type": "code",
      "execution_count": 704,
      "metadata": {
        "id": "u8uSRMnp1slw",
        "colab": {
          "base_uri": "https://localhost:8080/"
        },
        "outputId": "b96db99c-c6ab-498b-ed67-6410ce6de492"
      },
      "outputs": [
        {
          "output_type": "stream",
          "name": "stdout",
          "text": [
            "[]\n"
          ]
        }
      ],
      "source": [
        "explore_reviews_csv_query = \"\"\"\n",
        "CREATE CONSTRAINT references IF NOT EXISTS FOR (ref:Reference) REQUIRE ref.url IS UNIQUE\n",
        "\"\"\"\n",
        "result = conn.query(explore_reviews_csv_query)\n",
        "print(result)"
      ]
    },
    {
      "cell_type": "code",
      "execution_count": 705,
      "metadata": {
        "id": "co9S8kWs2r0L",
        "colab": {
          "base_uri": "https://localhost:8080/"
        },
        "outputId": "5c0e8dc4-cf56-436b-e8ac-6db43de1b5a6"
      },
      "outputs": [
        {
          "output_type": "stream",
          "name": "stdout",
          "text": [
            "[]\n"
          ]
        }
      ],
      "source": [
        "explore_reviews_csv_query = \"\"\"\n",
        "CREATE CONSTRAINT descriptions IF NOT EXISTS FOR (desc:Description) REQUIRE desc.id IS UNIQUE\n",
        "\"\"\"\n",
        "result = conn.query(explore_reviews_csv_query)\n",
        "print(result)"
      ]
    },
    {
      "cell_type": "code",
      "execution_count": 706,
      "metadata": {
        "id": "02HjfwuQ2s94",
        "colab": {
          "base_uri": "https://localhost:8080/"
        },
        "outputId": "1039a791-1417-407c-e6c9-3d2d3d57e940"
      },
      "outputs": [
        {
          "output_type": "stream",
          "name": "stdout",
          "text": [
            "[]\n"
          ]
        }
      ],
      "source": [
        "explore_reviews_csv_query = \"\"\"\n",
        "CREATE CONSTRAINT tags IF NOT EXISTS FOR (t:Tag) REQUIRE t.tag IS UNIQUE\n",
        "\"\"\"\n",
        "result = conn.query(explore_reviews_csv_query)\n",
        "print(result)"
      ]
    },
    {
      "cell_type": "code",
      "execution_count": 707,
      "metadata": {
        "id": "v4yQyZmi2vZn",
        "colab": {
          "base_uri": "https://localhost:8080/"
        },
        "outputId": "699f5ad9-f107-4f18-e331-689414a45d5b"
      },
      "outputs": [
        {
          "output_type": "stream",
          "name": "stdout",
          "text": [
            "[]\n"
          ]
        }
      ],
      "source": [
        "explore_reviews_csv_query = \"\"\"\n",
        "CREATE CONSTRAINT CONFIG IF NOT EXISTS FOR (config:CONFIG) REQUIRE config.id IS UNIQUE\n",
        "\"\"\"\n",
        "result = conn.query(explore_reviews_csv_query)\n",
        "print(result)"
      ]
    },
    {
      "cell_type": "code",
      "execution_count": 708,
      "metadata": {
        "id": "xZPKcwce2wgM",
        "colab": {
          "base_uri": "https://localhost:8080/"
        },
        "outputId": "2d57feba-ef98-4cad-ff23-91d3faa4e598"
      },
      "outputs": [
        {
          "output_type": "stream",
          "name": "stdout",
          "text": [
            "[]\n"
          ]
        }
      ],
      "source": [
        "explore_reviews_csv_query = \"\"\"\n",
        "CREATE CONSTRAINT CPE IF NOT EXISTS FOR (cpe:CPE) REQUIRE cpe.cpe23Uri IS UNIQUE\n",
        "\"\"\"\n",
        "result = conn.query(explore_reviews_csv_query)\n",
        "print(result)"
      ]
    },
    {
      "cell_type": "code",
      "execution_count": 709,
      "metadata": {
        "id": "GFhXM1juEt47",
        "colab": {
          "base_uri": "https://localhost:8080/"
        },
        "outputId": "73c0f7fd-be89-4a5b-a8f2-c38559ab13ba"
      },
      "outputs": [
        {
          "output_type": "stream",
          "name": "stdout",
          "text": [
            "[]\n"
          ]
        }
      ],
      "source": [
        "explore_reviews_csv_query = \"\"\"\n",
        "CREATE CONSTRAINT CWE IF NOT EXISTS FOR (cwe:CWE) REQUIRE cwe.CWE IS UNIQUE\n",
        "\"\"\"\n",
        "result = conn.query(explore_reviews_csv_query)\n",
        "print(result)"
      ]
    },
    {
      "cell_type": "code",
      "execution_count": 710,
      "metadata": {
        "colab": {
          "base_uri": "https://localhost:8080/"
        },
        "id": "RdGOPkmpD5N2",
        "outputId": "97402cfd-683b-443b-e223-c62caf564dfb"
      },
      "outputs": [
        {
          "output_type": "stream",
          "name": "stdout",
          "text": [
            "[]\n"
          ]
        }
      ],
      "source": [
        "explore_reviews_csv_query = \"\"\"\n",
        "CREATE CONSTRAINT CPE IF NOT EXISTS FOR (cpe:CPE) REQUIRE cpe.CPE IS UNIQUE\n",
        "\"\"\"\n",
        "result = conn.query(explore_reviews_csv_query)\n",
        "print(result)"
      ]
    },
    {
      "cell_type": "markdown",
      "metadata": {
        "id": "ALZWnkxavpYn"
      },
      "source": [
        "# **CVE Data**"
      ]
    },
    {
      "cell_type": "markdown",
      "metadata": {
        "id": "dKD1qUv61I07"
      },
      "source": [
        "**Script_1.cypher**"
      ]
    },
    {
      "cell_type": "code",
      "execution_count": 711,
      "metadata": {
        "id": "3vr5fo2fq1gi",
        "colab": {
          "base_uri": "https://localhost:8080/"
        },
        "outputId": "2e322c43-abcc-427d-9af6-fe568b605a91"
      },
      "outputs": [
        {
          "output_type": "stream",
          "name": "stdout",
          "text": [
            "[]\n"
          ]
        }
      ],
      "source": [
        "explore_reviews_csv_query = \"\"\"\n",
        "CALL apoc.load.json(\"https://raw.githubusercontent.com/neostrange/CveParse/main/nvd3.json\", null, {failOnError:false})\n",
        "YIELD value\n",
        "WITH value  AS data\n",
        "\n",
        "UNWIND data.CVE_Items as item\n",
        "MERGE (cve:CVE {id: item.cve.CVE_data_meta.ID})\n",
        "ON CREATE SET cve.assigner = item.cve.CVE_data_meta.ASSIGNER\n",
        "\n",
        "WITH cve, item\n",
        "UNWIND item.cve.problemtype.problemtype_data AS problem\n",
        "UNWIND problem.description AS problem_desc\n",
        "MERGE (cve)-[:PROBLEM_TYPE]->(problemType:ProblemType {lang: problem_desc.lang, value: problem_desc.value})\n",
        "//MERGE (cve)-[:PROBLEM_TYPE]->(problemType)\n",
        "\n",
        "\n",
        "WITH item, cve\n",
        "UNWIND item.cve.references.reference_data AS ref\n",
        "MERGE (reference:Reference {url: ref.url})\n",
        "ON CREATE SET reference.name = ref.name, reference.refsource = ref.refsource\n",
        "\n",
        "WITH item, cve, reference, ref\n",
        "UNWIND ref.tags AS tag\n",
        "MERGE (tagNode:Tag {name: tag, id: tag})\n",
        "MERGE (reference)-[:TAGGED_WITH]->(tagNode)\n",
        "\n",
        "WITH item, cve, reference\n",
        "UNWIND item.cve.description.description_data AS desc\n",
        "MERGE (description:Description {lang: desc.lang, value:desc.value, cveId:cve.id})\n",
        "//ON CREATE SET description.value = desc.value\n",
        "\n",
        "//WITH item, cve, reference, description\n",
        "MERGE (cve)-[:HAS_REFERENCE]->(reference)\n",
        "MERGE (cve)-[:HAS_DESCRIPTION]->(description)\n",
        "\n",
        "\n",
        "\n",
        "WITH item, cve,item.impact.baseMetricV3 as baseMetricV3, item.impact.baseMetricV3.cvssV3 as cvssV3\n",
        "MERGE (cve)-[:HAS_IMPACT]->(impact:IMPACT {exploitabilityScore: baseMetricV3.exploitabilityScore, \n",
        "                                           impactScore: baseMetricV3.impactScore, cveId: cve.id\n",
        "})-[:HAS_CVSSV3]->(cvssv3:CVSSV3 {version: cvssV3.version,\n",
        "                                              vectorString:cvssV3.vectorString,\n",
        "                                              attackVector:cvssV3.attackVector,\n",
        "                                              attackComplexity:cvssV3.attackComplexity,\n",
        "                                              privilegesRequired:cvssV3.privilegesRequired,\n",
        "                                              userInteraction:cvssV3.userInteraction,\n",
        "                                              scope:cvssV3.scope,\n",
        "                                              confidentialityImpact:cvssV3.confidentialityImpact,\n",
        "                                              integrityImpact:cvssV3.integrityImpact,\n",
        "                                              availabilityImpact:cvssV3.availabilityImpact,\n",
        "                                              baseScore:cvssV3.baseScore,\n",
        "                                              baseSeverity:cvssV3.baseSeverity \n",
        "})\n",
        "\"\"\"\n",
        "result = conn.query(explore_reviews_csv_query)\n",
        "print(result)"
      ]
    },
    {
      "cell_type": "markdown",
      "metadata": {
        "id": "2IuoqWLt1YZX"
      },
      "source": [
        "**Script_2.cypher**"
      ]
    },
    {
      "cell_type": "code",
      "execution_count": 712,
      "metadata": {
        "id": "Jzi-BrPlq5GQ",
        "colab": {
          "base_uri": "https://localhost:8080/"
        },
        "outputId": "a1d40cf0-5f40-480a-84c9-fc7f93e9ea78"
      },
      "outputs": [
        {
          "output_type": "stream",
          "name": "stdout",
          "text": [
            "[]\n"
          ]
        }
      ],
      "source": [
        "explore_reviews_csv_query = \"\"\"\n",
        "CALL apoc.load.json(\"https://raw.githubusercontent.com/neostrange/CveParse/main/nvd3.json\", null, {failOnError:false})\n",
        "YIELD value\n",
        "WITH value  AS data\n",
        "\n",
        "UNWIND data.CVE_Items as item\n",
        "MERGE (cve:CVE {id: item.cve.CVE_data_meta.ID})\n",
        "ON CREATE SET cve.assigner = item.cve.CVE_data_meta.ASSIGNER\n",
        "\n",
        "WITH item.configurations AS configurations, cve\n",
        "MERGE (config:Config {version: configurations.CVE_data_version, cveId: cve.id})\n",
        "MERGE (cve)-[:HAS_CONFIG]->(config)\n",
        "\n",
        "WITH configurations, config, cve\n",
        "UNWIND configurations.nodes as node\n",
        "  // Each node has operator, cpe_match and  children\n",
        "  //create operator for the node\n",
        "  CREATE (op:Operator {operator: node.operator})\n",
        "  CREATE (config)-[:HAS_OPERATOR]->(op)\n",
        "  //create cpe_match for the node\n",
        "  FOREACH (cpe_match in node.cpe_match |\n",
        "    CREATE (cpeMatch:CpeMatch {vulnerable: cpe_match.vulnerable, uri: cpe_match.cpe23Uri})\n",
        "    CREATE (cpeMatch)-[:HAS_OPERATOR]->(op))\n",
        "\n",
        "    //children in each node -  each children then has operator, cpe_match and children\n",
        "    FOREACH (child IN node.children | \n",
        "      CREATE (op1:Operator {operator: child.operator})\n",
        "      CREATE (op)-[:HAS_OPERATOR]->(op1)\n",
        "      FOREACH (cpe in child.cpe_match |\n",
        "        CREATE (cpeMatch:CpeMatch {vulnerable: cpe.vulnerable, uri: cpe.cpe23Uri})\n",
        "        MERGE (op1)-[:CPE_MATCH]->(cpeMatch))\n",
        ")\n",
        "\"\"\"\n",
        "result = conn.query(explore_reviews_csv_query)\n",
        "print(result)"
      ]
    },
    {
      "cell_type": "markdown",
      "metadata": {
        "id": "v0RLUDVmwCO9"
      },
      "source": [
        "# **CWE Data**"
      ]
    },
    {
      "cell_type": "markdown",
      "metadata": {
        "id": "2jAfmwvqKrZg"
      },
      "source": [
        "**Script_CWE.cypher**"
      ]
    },
    {
      "cell_type": "code",
      "execution_count": 713,
      "metadata": {
        "id": "KJ7DH4orakUu",
        "colab": {
          "base_uri": "https://localhost:8080/"
        },
        "outputId": "4be94cfa-b354-47b9-e0f4-118bec935350"
      },
      "outputs": [
        {
          "output_type": "stream",
          "name": "stdout",
          "text": [
            "[]\n"
          ]
        }
      ],
      "source": [
        "explore_reviews_csv_query = \"\"\"\n",
        "CALL apoc.load.json(\"https://raw.githubusercontent.com/neostrange/CveParse/main/CWE.json\", null, {failOnError:false})\n",
        "YIELD value\n",
        "WITH value  AS data\n",
        "//return data.CWE_Items[0].CWE.cwe_id\n",
        "UNWIND data.CWE_Items as item\n",
        "MERGE (cwe:CWE {cwe_id: item.CWE.cwe_id})\n",
        "SET \n",
        "    cwe.name = item.CWE.name,\n",
        "    cwe.weakness_abstraction = item.CWE.weakness_abstraction, \n",
        "    cwe.status = item.CWE.status, \n",
        "    cwe.description = item.CWE.description,  \n",
        "    cwe.extended_description = item.CWE.extended_description\n",
        "\n",
        "\"\"\"\n",
        "result = conn.query(explore_reviews_csv_query)\n",
        "print(result)"
      ]
    },
    {
      "cell_type": "markdown",
      "metadata": {
        "id": "NNjO7vHkvV5k"
      },
      "source": [
        "Mapping between CVE and CWE"
      ]
    },
    {
      "cell_type": "code",
      "execution_count": 714,
      "metadata": {
        "id": "2jSJtZjpd9_F",
        "colab": {
          "base_uri": "https://localhost:8080/"
        },
        "outputId": "a6c19df2-b951-4154-c21d-e75c56ff561d"
      },
      "outputs": [
        {
          "output_type": "stream",
          "name": "stdout",
          "text": [
            "[]\n"
          ]
        }
      ],
      "source": [
        "explore_reviews_csv_query = \"\"\"\n",
        "MERGE (problemType:ProblemType {value:\"CWE-79\"})\n",
        "MERGE (cwe:CWE {cwe_id:\"79\"})\n",
        "MERGE (problemType)-[:MAPPED_WITH]->(cwe)\n",
        "\n",
        "\"\"\"\n",
        "result = conn.query(explore_reviews_csv_query)\n",
        "print(result)"
      ]
    },
    {
      "cell_type": "code",
      "execution_count": 715,
      "metadata": {
        "id": "vt24-oAzRPMP",
        "colab": {
          "base_uri": "https://localhost:8080/"
        },
        "outputId": "6e2e06d3-c450-4c68-af08-cd728208cb80"
      },
      "outputs": [
        {
          "output_type": "stream",
          "name": "stdout",
          "text": [
            "[]\n"
          ]
        }
      ],
      "source": [
        "explore_reviews_csv_query = \"\"\"\n",
        "MERGE (problemType:ProblemType {value:\"CWE-89\"})\n",
        "MERGE (cwe:CWE {cwe_id:\"89\"})\n",
        "MERGE (problemType)-[:MAPPED_WITH]->(cwe)\n",
        "\n",
        "\"\"\"\n",
        "result = conn.query(explore_reviews_csv_query)\n",
        "print(result)"
      ]
    },
    {
      "cell_type": "code",
      "execution_count": 716,
      "metadata": {
        "id": "HGhiQXo0RSN-",
        "colab": {
          "base_uri": "https://localhost:8080/"
        },
        "outputId": "1fe6fece-70f5-4af7-ddc3-e4512835f0ac"
      },
      "outputs": [
        {
          "output_type": "stream",
          "name": "stdout",
          "text": [
            "[]\n"
          ]
        }
      ],
      "source": [
        "explore_reviews_csv_query = \"\"\"\n",
        "MERGE (problemType:ProblemType {value:\"CWE-94\"})\n",
        "MERGE (cwe:CWE {cwe_id:\"94\"})\n",
        "MERGE (problemType)-[:MAPPED_WITH]->(cwe)\n",
        "\n",
        "\"\"\"\n",
        "result = conn.query(explore_reviews_csv_query)\n",
        "print(result)"
      ]
    },
    {
      "cell_type": "code",
      "execution_count": 717,
      "metadata": {
        "id": "f7vUdkFVRVKM",
        "colab": {
          "base_uri": "https://localhost:8080/"
        },
        "outputId": "7c70d6d8-2778-43a4-f10d-4b75a83a4665"
      },
      "outputs": [
        {
          "output_type": "stream",
          "name": "stdout",
          "text": [
            "[]\n"
          ]
        }
      ],
      "source": [
        "explore_reviews_csv_query = \"\"\"\n",
        "MERGE (problemType:ProblemType {value:\"CWE-200\"})\n",
        "MERGE (cwe:CWE {cwe_id:\"200\"})\n",
        "MERGE (problemType)-[:MAPPED_WITH]->(cwe)\n",
        "\n",
        "\"\"\"\n",
        "result = conn.query(explore_reviews_csv_query)\n",
        "print(result)"
      ]
    },
    {
      "cell_type": "code",
      "execution_count": 718,
      "metadata": {
        "id": "NDxsFoS6RbIi",
        "colab": {
          "base_uri": "https://localhost:8080/"
        },
        "outputId": "6f07ab3b-07fe-4a55-8b3a-762d89f4f501"
      },
      "outputs": [
        {
          "output_type": "stream",
          "name": "stdout",
          "text": [
            "[]\n"
          ]
        }
      ],
      "source": [
        "explore_reviews_csv_query = \"\"\"\n",
        "MERGE (problemType:ProblemType {value:\"CWE-284\"})\n",
        "MERGE (cwe:CWE {cwe_id:\"284\"})\n",
        "MERGE (problemType)-[:MAPPED_WITH]->(cwe)\n",
        "\n",
        "\"\"\"\n",
        "result = conn.query(explore_reviews_csv_query)\n",
        "print(result)"
      ]
    },
    {
      "cell_type": "code",
      "execution_count": 719,
      "metadata": {
        "id": "U7hSomJqRcGs",
        "colab": {
          "base_uri": "https://localhost:8080/"
        },
        "outputId": "caa9f82f-0186-4b12-f335-e790d1a4efa8"
      },
      "outputs": [
        {
          "output_type": "stream",
          "name": "stdout",
          "text": [
            "[]\n"
          ]
        }
      ],
      "source": [
        "explore_reviews_csv_query = \"\"\"\n",
        "MERGE (problemType:ProblemType {value:\"CWE-294\"})\n",
        "MERGE (cwe:CWE {cwe_id:\"294\"})\n",
        "MERGE (problemType)-[:MAPPED_WITH]->(cwe)\n",
        "\n",
        "\"\"\"\n",
        "result = conn.query(explore_reviews_csv_query)\n",
        "print(result)"
      ]
    },
    {
      "cell_type": "code",
      "execution_count": 720,
      "metadata": {
        "id": "ebePW33VmBWf",
        "colab": {
          "base_uri": "https://localhost:8080/"
        },
        "outputId": "9ed4dfb3-3c92-4a87-e34c-dbe598be8318"
      },
      "outputs": [
        {
          "output_type": "stream",
          "name": "stdout",
          "text": [
            "[]\n"
          ]
        }
      ],
      "source": [
        "explore_reviews_csv_query = \"\"\"\n",
        "MERGE (cwe1:CWE { cwe_id:\"79\"})\n",
        "MERGE (cwe2:CWE { cwe_id:\"89\"})\n",
        "MERGE (cwe1)-[:HAS_RELATED_WEAKNESS{ NATURE:\"ChildOf\",CWEـID:\"74\",VIEWـID:\"1003\",ORDINAL:\"Primary\"}]->(cwe2)\n",
        "\n",
        "\"\"\"\n",
        "result = conn.query(explore_reviews_csv_query)\n",
        "print(result)"
      ]
    },
    {
      "cell_type": "code",
      "execution_count": 721,
      "metadata": {
        "id": "HizU849aV3uR",
        "colab": {
          "base_uri": "https://localhost:8080/"
        },
        "outputId": "7cdf77ac-aaa2-48b6-d004-f7c93e4b2e59"
      },
      "outputs": [
        {
          "output_type": "stream",
          "name": "stdout",
          "text": [
            "[]\n"
          ]
        }
      ],
      "source": [
        "explore_reviews_csv_query = \"\"\"\n",
        "MERGE (cwe1:CWE { cwe_id:\"79\"})\n",
        "MERGE (cwe2:CWE { cwe_id:\"94\"})\n",
        "MERGE (cwe1)-[:HAS_RELATED_WEAKNESS{ NATURE:\"ChildOf\",CWEـID:\"74\",VIEWـID:\"1000\",ORDINAL:\"Primary\"}]->(cwe2)\n",
        "\n",
        "\"\"\"\n",
        "result = conn.query(explore_reviews_csv_query)\n",
        "print(result)"
      ]
    },
    {
      "cell_type": "code",
      "execution_count": 722,
      "metadata": {
        "id": "BV-1ql7RfODd",
        "colab": {
          "base_uri": "https://localhost:8080/"
        },
        "outputId": "63abe05d-b612-477c-9e77-e7a9ef676dda"
      },
      "outputs": [
        {
          "output_type": "stream",
          "name": "stdout",
          "text": [
            "[]\n"
          ]
        }
      ],
      "source": [
        "explore_reviews_csv_query = \"\"\"\n",
        "MERGE (cwe1:CWE { cwe_id:\"79\"})\n",
        "MERGE (cwe2:CWE { cwe_id:\"94\"})\n",
        "MERGE (cwe1)-[:HAS_RELATED_WEAKNESS{ NATURE:\"ChildOf\",CWEـID:\"74\",VIEWـID:\"1003\",ORDINAL:\"Primary\"}]->(cwe2)\n",
        "\n",
        "\"\"\"\n",
        "result = conn.query(explore_reviews_csv_query)\n",
        "print(result)"
      ]
    },
    {
      "cell_type": "code",
      "execution_count": 723,
      "metadata": {
        "id": "uL6jPi4oYKOo",
        "colab": {
          "base_uri": "https://localhost:8080/"
        },
        "outputId": "b89dd0a7-2647-49ef-fe3a-6c4933f492f8"
      },
      "outputs": [
        {
          "output_type": "stream",
          "name": "stdout",
          "text": [
            "[]\n"
          ]
        }
      ],
      "source": [
        "explore_reviews_csv_query = \"\"\"\n",
        "MERGE (cwe1:CWE { cwe_id:\"89\"})\n",
        "MERGE (cwe2:CWE { cwe_id:\"94\"})\n",
        "MERGE (cwe1)-[:HAS_RELATED_WEAKNESS{ NATURE:\"ChildOf\",CWEـID:\"74\",VIEWـID:\"1003\",ORDINAL:\"Primary\"}]->(cwe2)\n",
        "\n",
        "\"\"\"\n",
        "result = conn.query(explore_reviews_csv_query)\n",
        "print(result)"
      ]
    },
    {
      "cell_type": "markdown",
      "metadata": {
        "id": "U9L-NhVIvnEF"
      },
      "source": [
        "Extract the entities from unstructured data (extended_description) in CWE to structured data by using entity-fishing"
      ]
    },
    {
      "cell_type": "code",
      "execution_count": 724,
      "metadata": {
        "id": "XANCNvg7TPMr",
        "colab": {
          "base_uri": "https://localhost:8080/"
        },
        "outputId": "cc42c6f7-5229-4bf8-e8d2-6c9be9c3b005"
      },
      "outputs": [
        {
          "output_type": "stream",
          "name": "stdout",
          "text": [
            "[]\n"
          ]
        }
      ],
      "source": [
        "explore_reviews_csv_query = \"\"\"\n",
        "CALL apoc.load.json(\"https://raw.githubusercontent.com/neostrange/CveParse/main/Extended_Descriptions.json\", null, {failOnError:false})\n",
        "YIELD value\n",
        "WITH value  AS data\n",
        "//return data.Extended_Descriptions[0].CWE.runtime\n",
        "UNWIND data.Extended_Descriptions as extended_descript\n",
        "MERGE (cwedata:Extended_Descriptions {runtime: extended_descript.CWE.runtime})\n",
        "SET \n",
        "    cwedata.software = extended_descript.CWE.software,\n",
        "    cwedata.version = extended_descript.CWE.version,\n",
        "    cwedata.date = extended_descript.CWE.date,\n",
        "    cwedata.nbest = extended_descript.CWE.nbest,\n",
        "    cwedata.text = extended_descript.CWE.text\n",
        "\n",
        "\"\"\"\n",
        "result = conn.query(explore_reviews_csv_query)\n",
        "print(result)"
      ]
    },
    {
      "cell_type": "code",
      "execution_count": 725,
      "metadata": {
        "id": "ncalbUWFXjI7",
        "colab": {
          "base_uri": "https://localhost:8080/"
        },
        "outputId": "9eae0860-cd57-452f-a039-723a3a7a9b43"
      },
      "outputs": [
        {
          "output_type": "stream",
          "name": "stdout",
          "text": [
            "[]\n"
          ]
        }
      ],
      "source": [
        "explore_reviews_csv_query = \"\"\"\n",
        "MERGE (cwe:CWE {cwe_id:\"79\"})\n",
        "MERGE (cwedata:Extended_Descriptions {runtime:2992})\n",
        "MERGE (cwe)-[:MAPPED_WITH]->(cwedata)\n",
        "MERGE (cwedata)-[:HAS_GLOBAL_CATEGORY{weight:0.04878159541353045,source:\"wikipedia-en\",category:\"Hacking (computer security)\",page_id:11647669}]->(cwe)\n",
        "MERGE (cwedata)-[:HAS_GLOBAL_CATEGORY{weight:0.026132997553802943,source:\"wikipedia-en\",category:\"Web security exploits\",page_id:5131853}]->(cwe)\n",
        "MERGE (cwedata)-[:HAS_GLOBAL_CATEGORY{weight:0.001742199837897568,source:\"wikipedia-en\",category:\"Unicode\",page_id:720904}]->(cwe)\n",
        "\n",
        "\"\"\"\n",
        "result = conn.query(explore_reviews_csv_query)\n",
        "print(result)"
      ]
    },
    {
      "cell_type": "code",
      "execution_count": 726,
      "metadata": {
        "id": "dRIV7ctqG46x",
        "colab": {
          "base_uri": "https://localhost:8080/"
        },
        "outputId": "98860bb4-4a2b-4c31-f38e-e8176be3a3c0"
      },
      "outputs": [
        {
          "output_type": "stream",
          "name": "stdout",
          "text": [
            "[]\n"
          ]
        }
      ],
      "source": [
        "explore_reviews_csv_query = \"\"\"\n",
        "CALL apoc.load.json(\"https://raw.githubusercontent.com/neostrange/CveParse/main/Extended_Descriptions.json\", null, {failOnError:false})\n",
        "YIELD value\n",
        "WITH value  AS data\n",
        "WITH data\n",
        "UNWIND data.Extended_Descriptions[0].CWE.entities as Entities\n",
        "MERGE (entities:Entities{rawName:Entities.`rawName`})\n",
        "  SET \n",
        "   entities.offsetStart = Entities.offsetStart,\n",
        "   entities.offsetEnd = Entities.offsetEnd,\n",
        "   entities.confidence_score = Entities.confidence_score,\n",
        "   entities.wikipediaExternalRef = Entities.wikipediaExternalRef,\n",
        "   entities.wikidataId = Entities.wikidataId\n",
        "\n",
        "\"\"\"\n",
        "result = conn.query(explore_reviews_csv_query)\n",
        "print(result)"
      ]
    },
    {
      "cell_type": "code",
      "execution_count": 727,
      "metadata": {
        "id": "mIOeUSUpOsjm",
        "colab": {
          "base_uri": "https://localhost:8080/"
        },
        "outputId": "e074ec6f-e31b-4a49-bf3f-1398afa0e306"
      },
      "outputs": [
        {
          "output_type": "stream",
          "name": "stdout",
          "text": [
            "[]\n"
          ]
        }
      ],
      "source": [
        "explore_reviews_csv_query = \"\"\"\n",
        "MERGE (cwedata:Extended_Descriptions {runtime:2992})\n",
        "MERGE (Entities:Entities {rawName:\"Cross-site scripting\"})\n",
        "MERGE (cwedata)-[:HAS_ENTITY]->(Entities)\n",
        "\n",
        "\"\"\"\n",
        "result = conn.query(explore_reviews_csv_query)\n",
        "print(result)"
      ]
    },
    {
      "cell_type": "code",
      "execution_count": 728,
      "metadata": {
        "id": "YcJpCPGkPAAf",
        "colab": {
          "base_uri": "https://localhost:8080/"
        },
        "outputId": "62b3a8fd-4ec6-4709-b8ae-1a3e28f96729"
      },
      "outputs": [
        {
          "output_type": "stream",
          "name": "stdout",
          "text": [
            "[]\n"
          ]
        }
      ],
      "source": [
        "explore_reviews_csv_query = \"\"\"\n",
        "MERGE (cwedata:Extended_Descriptions {runtime:2992})\n",
        "MERGE (Entities:Entities {rawName:\"XSS\"})\n",
        "MERGE (cwedata)-[:HAS_ENTITY]->(Entities)\n",
        "\n",
        "\"\"\"\n",
        "result = conn.query(explore_reviews_csv_query)\n",
        "print(result)"
      ]
    },
    {
      "cell_type": "code",
      "execution_count": 729,
      "metadata": {
        "id": "jee04c_yPBHC",
        "colab": {
          "base_uri": "https://localhost:8080/"
        },
        "outputId": "64d633ae-5d1c-414a-b125-b3dfc97636fe"
      },
      "outputs": [
        {
          "output_type": "stream",
          "name": "stdout",
          "text": [
            "[]\n"
          ]
        }
      ],
      "source": [
        "explore_reviews_csv_query = \"\"\"\n",
        "MERGE (cwedata:Extended_Descriptions {runtime:2992})\n",
        "MERGE (Entities:Entities {rawName:\"vulnerabilities\"})\n",
        "MERGE (cwedata)-[:HAS_ENTITY]->(Entities)\n",
        "\n",
        "\"\"\"\n",
        "result = conn.query(explore_reviews_csv_query)\n",
        "print(result)"
      ]
    },
    {
      "cell_type": "code",
      "execution_count": 730,
      "metadata": {
        "id": "UdVmWpjUPCBB",
        "colab": {
          "base_uri": "https://localhost:8080/"
        },
        "outputId": "2b9ff452-7bbf-4c90-f08f-f94130039596"
      },
      "outputs": [
        {
          "output_type": "stream",
          "name": "stdout",
          "text": [
            "[]\n"
          ]
        }
      ],
      "source": [
        "explore_reviews_csv_query = \"\"\"\n",
        "MERGE (cwedata:Extended_Descriptions {runtime:2992})\n",
        "MERGE (Entities:Entities {rawName:\"Untrusted\"})\n",
        "MERGE (cwedata)-[:HAS_ENTITY]->(Entities)\n",
        "\n",
        "\"\"\"\n",
        "result = conn.query(explore_reviews_csv_query)\n",
        "print(result)"
      ]
    },
    {
      "cell_type": "code",
      "execution_count": 731,
      "metadata": {
        "id": "g7qNMclPPDJ_",
        "colab": {
          "base_uri": "https://localhost:8080/"
        },
        "outputId": "67380ce6-df94-4bca-cf11-7201f2a77343"
      },
      "outputs": [
        {
          "output_type": "stream",
          "name": "stdout",
          "text": [
            "[]\n"
          ]
        }
      ],
      "source": [
        "explore_reviews_csv_query = \"\"\"\n",
        "MERGE (cwedata:Extended_Descriptions {runtime:2992})\n",
        "MERGE (Entities:Entities {rawName:\"enters\"})\n",
        "MERGE (cwedata)-[:HAS_ENTITY]->(Entities)\n",
        "\n",
        "\"\"\"\n",
        "result = conn.query(explore_reviews_csv_query)\n",
        "print(result)"
      ]
    },
    {
      "cell_type": "code",
      "execution_count": 732,
      "metadata": {
        "id": "0rxrRVfEPEHO",
        "colab": {
          "base_uri": "https://localhost:8080/"
        },
        "outputId": "b0906f75-ea9a-4534-9514-54db071038e6"
      },
      "outputs": [
        {
          "output_type": "stream",
          "name": "stdout",
          "text": [
            "[]\n"
          ]
        }
      ],
      "source": [
        "explore_reviews_csv_query = \"\"\"\n",
        "MERGE (cwedata:Extended_Descriptions {runtime:2992})\n",
        "MERGE (Entities:Entities {rawName:\"web application\"})\n",
        "MERGE (cwedata)-[:HAS_ENTITY]->(Entities)\n",
        "\n",
        "\"\"\"\n",
        "result = conn.query(explore_reviews_csv_query)\n",
        "print(result)"
      ]
    },
    {
      "cell_type": "code",
      "execution_count": 733,
      "metadata": {
        "id": "ZNEyBv7xPFZ8",
        "colab": {
          "base_uri": "https://localhost:8080/"
        },
        "outputId": "3a7f75d1-ea64-47e9-8674-b9d87476d9ec"
      },
      "outputs": [
        {
          "output_type": "stream",
          "name": "stdout",
          "text": [
            "[]\n"
          ]
        }
      ],
      "source": [
        "explore_reviews_csv_query = \"\"\"\n",
        "MERGE (cwedata:Extended_Descriptions {runtime:2992})\n",
        "MERGE (Entities:Entities {rawName:\"web request\"})\n",
        "MERGE (cwedata)-[:HAS_ENTITY]->(Entities)\n",
        "\n",
        "\"\"\"\n",
        "result = conn.query(explore_reviews_csv_query)\n",
        "print(result)"
      ]
    },
    {
      "cell_type": "code",
      "execution_count": 734,
      "metadata": {
        "id": "w6K9LwO6PGcy",
        "colab": {
          "base_uri": "https://localhost:8080/"
        },
        "outputId": "4c9c496d-49c2-4b97-dfe6-02c9d4d598d7"
      },
      "outputs": [
        {
          "output_type": "stream",
          "name": "stdout",
          "text": [
            "[]\n"
          ]
        }
      ],
      "source": [
        "explore_reviews_csv_query = \"\"\"\n",
        "MERGE (cwedata:Extended_Descriptions {runtime:2992})\n",
        "MERGE (Entities:Entities {rawName:\"2\"})\n",
        "MERGE (cwedata)-[:HAS_ENTITY]->(Entities)\n",
        "\n",
        "\"\"\"\n",
        "result = conn.query(explore_reviews_csv_query)\n",
        "print(result)"
      ]
    },
    {
      "cell_type": "code",
      "execution_count": 735,
      "metadata": {
        "id": "Xspm_zyiPHga",
        "colab": {
          "base_uri": "https://localhost:8080/"
        },
        "outputId": "6667543d-79e7-4118-855f-7628872826de"
      },
      "outputs": [
        {
          "output_type": "stream",
          "name": "stdout",
          "text": [
            "[]\n"
          ]
        }
      ],
      "source": [
        "explore_reviews_csv_query = \"\"\"\n",
        "MERGE (cwedata:Extended_Descriptions {runtime:2992})\n",
        "MERGE (Entities:Entities {rawName:\"dynamically generates\"})\n",
        "MERGE (cwedata)-[:HAS_ENTITY]->(Entities)\n",
        "\n",
        "\"\"\"\n",
        "result = conn.query(explore_reviews_csv_query)\n",
        "print(result)"
      ]
    },
    {
      "cell_type": "code",
      "execution_count": 736,
      "metadata": {
        "id": "5hZ92vStPIqL",
        "colab": {
          "base_uri": "https://localhost:8080/"
        },
        "outputId": "e98bef44-863d-45de-8212-318442a6162e"
      },
      "outputs": [
        {
          "output_type": "stream",
          "name": "stdout",
          "text": [
            "[]\n"
          ]
        }
      ],
      "source": [
        "explore_reviews_csv_query = \"\"\"\n",
        "MERGE (cwedata:Extended_Descriptions {runtime:2992})\n",
        "MERGE (Entities:Entities {rawName:\"web page\"})\n",
        "MERGE (cwedata)-[:HAS_ENTITY]->(Entities)\n",
        "\n",
        "\"\"\"\n",
        "result = conn.query(explore_reviews_csv_query)\n",
        "print(result)"
      ]
    },
    {
      "cell_type": "code",
      "execution_count": 737,
      "metadata": {
        "id": "oYdtVqnlPKJY",
        "colab": {
          "base_uri": "https://localhost:8080/"
        },
        "outputId": "574ea145-5c3b-4a46-a966-bd0d5e161666"
      },
      "outputs": [
        {
          "output_type": "stream",
          "name": "stdout",
          "text": [
            "[]\n"
          ]
        }
      ],
      "source": [
        "explore_reviews_csv_query = \"\"\"\n",
        "MERGE (cwedata:Extended_Descriptions {runtime:2992})\n",
        "MERGE (Entities:Entities {rawName:\"web browser\"})\n",
        "MERGE (cwedata)-[:HAS_ENTITY]->(Entities)\n",
        "\n",
        "\"\"\"\n",
        "result = conn.query(explore_reviews_csv_query)\n",
        "print(result)"
      ]
    },
    {
      "cell_type": "code",
      "execution_count": 738,
      "metadata": {
        "id": "wcAf0GbIPJ_p",
        "colab": {
          "base_uri": "https://localhost:8080/"
        },
        "outputId": "d61be42e-a09c-4866-bd2a-25ef2639b381"
      },
      "outputs": [
        {
          "output_type": "stream",
          "name": "stdout",
          "text": [
            "[]\n"
          ]
        }
      ],
      "source": [
        "explore_reviews_csv_query = \"\"\"\n",
        "MERGE (cwedata:Extended_Descriptions {runtime:2992})\n",
        "MERGE (Entities:Entities {rawName:\"JavaScript\"})\n",
        "MERGE (cwedata)-[:HAS_ENTITY]->(Entities)\n",
        "\n",
        "\"\"\"\n",
        "result = conn.query(explore_reviews_csv_query)\n",
        "print(result)"
      ]
    },
    {
      "cell_type": "code",
      "execution_count": 739,
      "metadata": {
        "id": "PTJgYrsRPJ84",
        "colab": {
          "base_uri": "https://localhost:8080/"
        },
        "outputId": "68ee19ee-8018-4c91-8b96-102d89818f0b"
      },
      "outputs": [
        {
          "output_type": "stream",
          "name": "stdout",
          "text": [
            "[]\n"
          ]
        }
      ],
      "source": [
        "explore_reviews_csv_query = \"\"\"\n",
        "MERGE (cwedata:Extended_Descriptions {runtime:2992})\n",
        "MERGE (Entities:Entities {rawName:\"HTML\"})\n",
        "MERGE (cwedata)-[:HAS_ENTITY]->(Entities)\n",
        "\n",
        "\"\"\"\n",
        "result = conn.query(explore_reviews_csv_query)\n",
        "print(result)"
      ]
    },
    {
      "cell_type": "code",
      "execution_count": 740,
      "metadata": {
        "id": "yZiwXcidPJ6I",
        "colab": {
          "base_uri": "https://localhost:8080/"
        },
        "outputId": "100569ab-8561-4ae9-c111-4ff0a59f809c"
      },
      "outputs": [
        {
          "output_type": "stream",
          "name": "stdout",
          "text": [
            "[]\n"
          ]
        }
      ],
      "source": [
        "explore_reviews_csv_query = \"\"\"\n",
        "MERGE (cwedata:Extended_Descriptions {runtime:2992})\n",
        "MERGE (Entities:Entities {rawName:\"tags\"})\n",
        "MERGE (cwedata)-[:HAS_ENTITY]->(Entities)\n",
        "\n",
        "\"\"\"\n",
        "result = conn.query(explore_reviews_csv_query)\n",
        "print(result)"
      ]
    },
    {
      "cell_type": "code",
      "execution_count": 741,
      "metadata": {
        "id": "4AE4pyDuPJ3X",
        "colab": {
          "base_uri": "https://localhost:8080/"
        },
        "outputId": "cf051759-97ad-4846-8d3b-5e78f3c0129f"
      },
      "outputs": [
        {
          "output_type": "stream",
          "name": "stdout",
          "text": [
            "[]\n"
          ]
        }
      ],
      "source": [
        "explore_reviews_csv_query = \"\"\"\n",
        "MERGE (cwedata:Extended_Descriptions {runtime:2992})\n",
        "MERGE (Entities:Entities {rawName:\"HTML attributes\"})\n",
        "MERGE (cwedata)-[:HAS_ENTITY]->(Entities)\n",
        "\n",
        "\"\"\"\n",
        "result = conn.query(explore_reviews_csv_query)\n",
        "print(result)"
      ]
    },
    {
      "cell_type": "code",
      "execution_count": 742,
      "metadata": {
        "id": "hgDrxY0IPJ0i",
        "colab": {
          "base_uri": "https://localhost:8080/"
        },
        "outputId": "3039d9b5-ae0d-4a72-9d81-7ae29511a50a"
      },
      "outputs": [
        {
          "output_type": "stream",
          "name": "stdout",
          "text": [
            "[]\n"
          ]
        }
      ],
      "source": [
        "explore_reviews_csv_query = \"\"\"\n",
        "MERGE (cwedata:Extended_Descriptions {runtime:2992})\n",
        "MERGE (Entities:Entities {rawName:\"Flash\"})\n",
        "MERGE (cwedata)-[:HAS_ENTITY]->(Entities)\n",
        "\n",
        "\"\"\"\n",
        "result = conn.query(explore_reviews_csv_query)\n",
        "print(result)"
      ]
    },
    {
      "cell_type": "code",
      "execution_count": 743,
      "metadata": {
        "id": "J_gfL7EgPJxe",
        "colab": {
          "base_uri": "https://localhost:8080/"
        },
        "outputId": "a12d5b77-4d65-4ed3-b0c7-8fa7f0ff7d3f"
      },
      "outputs": [
        {
          "output_type": "stream",
          "name": "stdout",
          "text": [
            "[]\n"
          ]
        }
      ],
      "source": [
        "explore_reviews_csv_query = \"\"\"\n",
        "MERGE (cwedata:Extended_Descriptions {runtime:2992})\n",
        "MERGE (Entities:Entities {rawName:\"ActiveX\"})\n",
        "MERGE (cwedata)-[:HAS_ENTITY]->(Entities)\n",
        "\n",
        "\"\"\"\n",
        "result = conn.query(explore_reviews_csv_query)\n",
        "print(result)"
      ]
    },
    {
      "cell_type": "code",
      "execution_count": 744,
      "metadata": {
        "id": "x7GH6B4oPJuS",
        "colab": {
          "base_uri": "https://localhost:8080/"
        },
        "outputId": "8c8693d2-75d2-4b2d-bfbc-3af7387310b8"
      },
      "outputs": [
        {
          "output_type": "stream",
          "name": "stdout",
          "text": [
            "[]\n"
          ]
        }
      ],
      "source": [
        "explore_reviews_csv_query = \"\"\"\n",
        "MERGE (cwedata:Extended_Descriptions {runtime:2992})\n",
        "MERGE (Entities:Entities {rawName:\"malicious\"})\n",
        "MERGE (cwedata)-[:HAS_ENTITY]->(Entities)\n",
        "\n",
        "\"\"\"\n",
        "result = conn.query(explore_reviews_csv_query)\n",
        "print(result)"
      ]
    },
    {
      "cell_type": "code",
      "execution_count": 745,
      "metadata": {
        "id": "C8NP4HuKRdRA",
        "colab": {
          "base_uri": "https://localhost:8080/"
        },
        "outputId": "734c24c8-1567-468b-88e0-066b04b7bf61"
      },
      "outputs": [
        {
          "output_type": "stream",
          "name": "stdout",
          "text": [
            "[]\n"
          ]
        }
      ],
      "source": [
        "explore_reviews_csv_query = \"\"\"\n",
        "MERGE (cwedata:Extended_Descriptions {runtime:2992})\n",
        "MERGE (Entities:Entities {rawName:\"injected\"})\n",
        "MERGE (cwedata)-[:HAS_ENTITY]->(Entities)\n",
        "\n",
        "\"\"\"\n",
        "result = conn.query(explore_reviews_csv_query)\n",
        "print(result)"
      ]
    },
    {
      "cell_type": "code",
      "execution_count": 746,
      "metadata": {
        "id": "9pvzAXNQRdC0",
        "colab": {
          "base_uri": "https://localhost:8080/"
        },
        "outputId": "50882ad4-3b52-47bc-8251-1e8ed1559a9a"
      },
      "outputs": [
        {
          "output_type": "stream",
          "name": "stdout",
          "text": [
            "[]\n"
          ]
        }
      ],
      "source": [
        "explore_reviews_csv_query = \"\"\"\n",
        "MERGE (cwedata:Extended_Descriptions {runtime:2992})\n",
        "MERGE (Entities:Entities {rawName:\"web server\"})\n",
        "MERGE (cwedata)-[:HAS_ENTITY]->(Entities)\n",
        "\n",
        "\"\"\"\n",
        "result = conn.query(explore_reviews_csv_query)\n",
        "print(result)"
      ]
    },
    {
      "cell_type": "code",
      "execution_count": 747,
      "metadata": {
        "id": "GImUK4nxRcuN",
        "colab": {
          "base_uri": "https://localhost:8080/"
        },
        "outputId": "ac9ed8a4-fe8e-478c-da52-740d85d60f6a"
      },
      "outputs": [
        {
          "output_type": "stream",
          "name": "stdout",
          "text": [
            "[]\n"
          ]
        }
      ],
      "source": [
        "explore_reviews_csv_query = \"\"\"\n",
        "MERGE (cwedata:Extended_Descriptions {runtime:2992})\n",
        "MERGE (Entities:Entities {rawName:\"executes\"})\n",
        "MERGE (cwedata)-[:HAS_ENTITY]->(Entities)\n",
        "\n",
        "\"\"\"\n",
        "result = conn.query(explore_reviews_csv_query)\n",
        "print(result)"
      ]
    },
    {
      "cell_type": "code",
      "execution_count": 748,
      "metadata": {
        "id": "pIEaCHgBRcp5",
        "colab": {
          "base_uri": "https://localhost:8080/"
        },
        "outputId": "ffb228eb-17a2-4b91-cc89-87564217dda4"
      },
      "outputs": [
        {
          "output_type": "stream",
          "name": "stdout",
          "text": [
            "[]\n"
          ]
        }
      ],
      "source": [
        "explore_reviews_csv_query = \"\"\"\n",
        "MERGE (cwedata:Extended_Descriptions {runtime:2992})\n",
        "MERGE (Entities:Entities {rawName:\"violates\"})\n",
        "MERGE (cwedata)-[:HAS_ENTITY]->(Entities)\n",
        "\n",
        "\"\"\"\n",
        "result = conn.query(explore_reviews_csv_query)\n",
        "print(result)"
      ]
    },
    {
      "cell_type": "code",
      "execution_count": 749,
      "metadata": {
        "id": "MOnDlutcRclm",
        "colab": {
          "base_uri": "https://localhost:8080/"
        },
        "outputId": "eacb4b50-f3f9-43ae-e34a-a40c948aaded"
      },
      "outputs": [
        {
          "output_type": "stream",
          "name": "stdout",
          "text": [
            "[]\n"
          ]
        }
      ],
      "source": [
        "explore_reviews_csv_query = \"\"\"\n",
        "MERGE (cwedata:Extended_Descriptions {runtime:2992})\n",
        "MERGE (Entities:Entities {rawName:\"web browser's\"})\n",
        "MERGE (cwedata)-[:HAS_ENTITY]->(Entities)\n",
        "\n",
        "\"\"\"\n",
        "result = conn.query(explore_reviews_csv_query)\n",
        "print(result)"
      ]
    },
    {
      "cell_type": "code",
      "execution_count": 750,
      "metadata": {
        "id": "h51goGJERchY",
        "colab": {
          "base_uri": "https://localhost:8080/"
        },
        "outputId": "629ca6c1-2a1c-48f2-babd-a850e27168d2"
      },
      "outputs": [
        {
          "output_type": "stream",
          "name": "stdout",
          "text": [
            "[]\n"
          ]
        }
      ],
      "source": [
        "explore_reviews_csv_query = \"\"\"\n",
        "MERGE (cwedata:Extended_Descriptions {runtime:2992})\n",
        "MERGE (Entities:Entities {rawName:\"same-origin policy\"})\n",
        "MERGE (cwedata)-[:HAS_ENTITY]->(Entities)\n",
        "\n",
        "\"\"\"\n",
        "result = conn.query(explore_reviews_csv_query)\n",
        "print(result)"
      ]
    },
    {
      "cell_type": "code",
      "execution_count": 751,
      "metadata": {
        "id": "gLmOafNIRcVD",
        "colab": {
          "base_uri": "https://localhost:8080/"
        },
        "outputId": "6681a3b3-ed94-48ac-9e48-987d4f5fb470"
      },
      "outputs": [
        {
          "output_type": "stream",
          "name": "stdout",
          "text": [
            "[]\n"
          ]
        }
      ],
      "source": [
        "explore_reviews_csv_query = \"\"\"\n",
        "MERGE (cwedata:Extended_Descriptions {runtime:2992})\n",
        "MERGE (Entities:Entities {rawName:\"scripts\"})\n",
        "MERGE (cwedata)-[:HAS_ENTITY]->(Entities)\n",
        "\n",
        "\"\"\"\n",
        "result = conn.query(explore_reviews_csv_query)\n",
        "print(result)"
      ]
    },
    {
      "cell_type": "code",
      "execution_count": 752,
      "metadata": {
        "id": "Ufh4XynaRl66",
        "colab": {
          "base_uri": "https://localhost:8080/"
        },
        "outputId": "641ca351-3b70-44e3-efdc-4cb7c5942a11"
      },
      "outputs": [
        {
          "output_type": "stream",
          "name": "stdout",
          "text": [
            "[]\n"
          ]
        }
      ],
      "source": [
        "explore_reviews_csv_query = \"\"\"\n",
        "MERGE (cwedata:Extended_Descriptions {runtime:2992})\n",
        "MERGE (Entities:Entities {rawName:\"Type 1\"})\n",
        "MERGE (cwedata)-[:HAS_ENTITY]->(Entities)\n",
        "\n",
        "\"\"\"\n",
        "result = conn.query(explore_reviews_csv_query)\n",
        "print(result)"
      ]
    },
    {
      "cell_type": "code",
      "execution_count": 753,
      "metadata": {
        "id": "Z_6gx7j-RlrL",
        "colab": {
          "base_uri": "https://localhost:8080/"
        },
        "outputId": "c2e21767-e2db-44dd-c651-72566f1d5f40"
      },
      "outputs": [
        {
          "output_type": "stream",
          "name": "stdout",
          "text": [
            "[]\n"
          ]
        }
      ],
      "source": [
        "explore_reviews_csv_query = \"\"\"\n",
        "MERGE (cwedata:Extended_Descriptions {runtime:2992})\n",
        "MERGE (Entities:Entities {rawName:\"Reflected XSS\"})\n",
        "MERGE (cwedata)-[:HAS_ENTITY]->(Entities)\n",
        "\n",
        "\"\"\"\n",
        "result = conn.query(explore_reviews_csv_query)\n",
        "print(result)"
      ]
    },
    {
      "cell_type": "code",
      "execution_count": 754,
      "metadata": {
        "id": "niHFAIQLRlmZ",
        "colab": {
          "base_uri": "https://localhost:8080/"
        },
        "outputId": "228ab2e9-dfd5-49ef-a74a-6981a18f91ff"
      },
      "outputs": [
        {
          "output_type": "stream",
          "name": "stdout",
          "text": [
            "[]\n"
          ]
        }
      ],
      "source": [
        "explore_reviews_csv_query = \"\"\"\n",
        "MERGE (cwedata:Extended_Descriptions {runtime:2992})\n",
        "MERGE (Entities:Entities {rawName:\"Persistent\"})\n",
        "MERGE (cwedata)-[:HAS_ENTITY]->(Entities)\n",
        "\n",
        "\"\"\"\n",
        "result = conn.query(explore_reviews_csv_query)\n",
        "print(result)"
      ]
    },
    {
      "cell_type": "code",
      "execution_count": 755,
      "metadata": {
        "id": "axItueCJRlWr",
        "colab": {
          "base_uri": "https://localhost:8080/"
        },
        "outputId": "0002eb5c-32c6-4edf-8bb5-55782f1e1ce1"
      },
      "outputs": [
        {
          "output_type": "stream",
          "name": "stdout",
          "text": [
            "[]\n"
          ]
        }
      ],
      "source": [
        "explore_reviews_csv_query = \"\"\"\n",
        "MERGE (cwedata:Extended_Descriptions {runtime:2992})\n",
        "MERGE (Entities:Entities {rawName:\"HTTP request\"})\n",
        "MERGE (cwedata)-[:HAS_ENTITY]->(Entities)\n",
        "\n",
        "\"\"\"\n",
        "result = conn.query(explore_reviews_csv_query)\n",
        "print(result)"
      ]
    },
    {
      "cell_type": "code",
      "execution_count": 756,
      "metadata": {
        "id": "Uag8yv-zRlSI",
        "colab": {
          "base_uri": "https://localhost:8080/"
        },
        "outputId": "96b421cb-2db3-466e-ddcc-d1b985b0333f"
      },
      "outputs": [
        {
          "output_type": "stream",
          "name": "stdout",
          "text": [
            "[]\n"
          ]
        }
      ],
      "source": [
        "explore_reviews_csv_query = \"\"\"\n",
        "MERGE (cwedata:Extended_Descriptions {runtime:2992})\n",
        "MERGE (Entities:Entities {rawName:\"HTTP response\"})\n",
        "MERGE (cwedata)-[:HAS_ENTITY]->(Entities)\n",
        "\n",
        "\"\"\"\n",
        "result = conn.query(explore_reviews_csv_query)\n",
        "print(result)"
      ]
    },
    {
      "cell_type": "code",
      "execution_count": 757,
      "metadata": {
        "id": "Vx8uPVUZRlNd",
        "colab": {
          "base_uri": "https://localhost:8080/"
        },
        "outputId": "307f44b4-a496-484a-a5cf-17ba2db75a73"
      },
      "outputs": [
        {
          "output_type": "stream",
          "name": "stdout",
          "text": [
            "[]\n"
          ]
        }
      ],
      "source": [
        "explore_reviews_csv_query = \"\"\"\n",
        "MERGE (cwedata:Extended_Descriptions {runtime:2992})\n",
        "MERGE (Entities:Entities {rawName:\"exploits\"})\n",
        "MERGE (cwedata)-[:HAS_ENTITY]->(Entities)\n",
        "\n",
        "\"\"\"\n",
        "result = conn.query(explore_reviews_csv_query)\n",
        "print(result)"
      ]
    },
    {
      "cell_type": "code",
      "execution_count": 758,
      "metadata": {
        "id": "oMjjzdhGRq4P",
        "colab": {
          "base_uri": "https://localhost:8080/"
        },
        "outputId": "c6aa6633-e708-492d-fc0b-72cf4b08b842"
      },
      "outputs": [
        {
          "output_type": "stream",
          "name": "stdout",
          "text": [
            "[]\n"
          ]
        }
      ],
      "source": [
        "explore_reviews_csv_query = \"\"\"\n",
        "MERGE (cwedata:Extended_Descriptions {runtime:2992})\n",
        "MERGE (Entities:Entities {rawName:\"attacker\"})\n",
        "MERGE (cwedata)-[:HAS_ENTITY]->(Entities)\n",
        "\n",
        "\"\"\"\n",
        "result = conn.query(explore_reviews_csv_query)\n",
        "print(result)"
      ]
    },
    {
      "cell_type": "code",
      "execution_count": 759,
      "metadata": {
        "id": "PZUGJvXSRqm3",
        "colab": {
          "base_uri": "https://localhost:8080/"
        },
        "outputId": "7be43e46-24db-4aee-d603-958631dbb411"
      },
      "outputs": [
        {
          "output_type": "stream",
          "name": "stdout",
          "text": [
            "[]\n"
          ]
        }
      ],
      "source": [
        "explore_reviews_csv_query = \"\"\"\n",
        "MERGE (cwedata:Extended_Descriptions {runtime:2992})\n",
        "MERGE (Entities:Entities {rawName:\"parameter\"})\n",
        "MERGE (cwedata)-[:HAS_ENTITY]->(Entities)\n",
        "\n",
        "\"\"\"\n",
        "result = conn.query(explore_reviews_csv_query)\n",
        "print(result)"
      ]
    },
    {
      "cell_type": "code",
      "execution_count": 760,
      "metadata": {
        "id": "ARr1YMTZRqh4",
        "colab": {
          "base_uri": "https://localhost:8080/"
        },
        "outputId": "70cba8cd-a91e-4591-b74c-f24bb7b298a0"
      },
      "outputs": [
        {
          "output_type": "stream",
          "name": "stdout",
          "text": [
            "[]\n"
          ]
        }
      ],
      "source": [
        "explore_reviews_csv_query = \"\"\"\n",
        "MERGE (cwedata:Extended_Descriptions {runtime:2992})\n",
        "MERGE (Entities:Entities {rawName:\"URL\"})\n",
        "MERGE (cwedata)-[:HAS_ENTITY]->(Entities)\n",
        "\n",
        "\"\"\"\n",
        "result = conn.query(explore_reviews_csv_query)\n",
        "print(result)"
      ]
    },
    {
      "cell_type": "code",
      "execution_count": 761,
      "metadata": {
        "id": "yH5VykVNRqdA",
        "colab": {
          "base_uri": "https://localhost:8080/"
        },
        "outputId": "b71e3a7a-0e9a-4f59-bd8b-008679f6275c"
      },
      "outputs": [
        {
          "output_type": "stream",
          "name": "stdout",
          "text": [
            "[]\n"
          ]
        }
      ],
      "source": [
        "explore_reviews_csv_query = \"\"\"\n",
        "MERGE (cwedata:Extended_Descriptions {runtime:2992})\n",
        "MERGE (Entities:Entities {rawName:\"e-mailed\"})\n",
        "MERGE (cwedata)-[:HAS_ENTITY]->(Entities)\n",
        "\n",
        "\"\"\"\n",
        "result = conn.query(explore_reviews_csv_query)\n",
        "print(result)"
      ]
    },
    {
      "cell_type": "code",
      "execution_count": 762,
      "metadata": {
        "id": "60X7FgPBS-Nm",
        "colab": {
          "base_uri": "https://localhost:8080/"
        },
        "outputId": "745610b3-6932-4b81-e2c5-ed23043e18b1"
      },
      "outputs": [
        {
          "output_type": "stream",
          "name": "stdout",
          "text": [
            "[]\n"
          ]
        }
      ],
      "source": [
        "explore_reviews_csv_query = \"\"\"\n",
        "MERGE (cwedata:Extended_Descriptions {runtime:2992})\n",
        "MERGE (Entities:Entities {rawName:\"URLs\"})\n",
        "MERGE (cwedata)-[:HAS_ENTITY]->(Entities)\n",
        "\n",
        "\"\"\"\n",
        "result = conn.query(explore_reviews_csv_query)\n",
        "print(result)"
      ]
    },
    {
      "cell_type": "code",
      "execution_count": 763,
      "metadata": {
        "id": "VcInHA6yS-HX",
        "colab": {
          "base_uri": "https://localhost:8080/"
        },
        "outputId": "07ca3d55-3989-4573-a27c-87222ef0acdf"
      },
      "outputs": [
        {
          "output_type": "stream",
          "name": "stdout",
          "text": [
            "[]\n"
          ]
        }
      ],
      "source": [
        "explore_reviews_csv_query = \"\"\"\n",
        "MERGE (cwedata:Extended_Descriptions {runtime:2992})\n",
        "MERGE (Entities:Entities {rawName:\"phishing\"})\n",
        "MERGE (cwedata)-[:HAS_ENTITY]->(Entities)\n",
        "\n",
        "\"\"\"\n",
        "result = conn.query(explore_reviews_csv_query)\n",
        "print(result)"
      ]
    },
    {
      "cell_type": "code",
      "execution_count": 764,
      "metadata": {
        "id": "aYWCM_mDS-BP",
        "colab": {
          "base_uri": "https://localhost:8080/"
        },
        "outputId": "a9c820d6-6378-47e5-f47b-afd442c3fa54"
      },
      "outputs": [
        {
          "output_type": "stream",
          "name": "stdout",
          "text": [
            "[]\n"
          ]
        }
      ],
      "source": [
        "explore_reviews_csv_query = \"\"\"\n",
        "MERGE (cwedata:Extended_Descriptions {runtime:2992})\n",
        "MERGE (Entities:Entities {rawName:\"browser\"})\n",
        "MERGE (cwedata)-[:HAS_ENTITY]->(Entities)\n",
        "\n",
        "\"\"\"\n",
        "result = conn.query(explore_reviews_csv_query)\n",
        "print(result)"
      ]
    },
    {
      "cell_type": "code",
      "execution_count": 765,
      "metadata": {
        "id": "hMXREtiFS97H",
        "colab": {
          "base_uri": "https://localhost:8080/"
        },
        "outputId": "084f6421-1863-4363-b4fb-985c7699e079"
      },
      "outputs": [
        {
          "output_type": "stream",
          "name": "stdout",
          "text": [
            "[]\n"
          ]
        }
      ],
      "source": [
        "explore_reviews_csv_query = \"\"\"\n",
        "MERGE (cwedata:Extended_Descriptions {runtime:2992})\n",
        "MERGE (Entities:Entities {rawName:\"Type 2\"})\n",
        "MERGE (cwedata)-[:HAS_ENTITY]->(Entities)\n",
        "\n",
        "\"\"\"\n",
        "result = conn.query(explore_reviews_csv_query)\n",
        "print(result)"
      ]
    },
    {
      "cell_type": "code",
      "execution_count": 766,
      "metadata": {
        "id": "hiUnMEsZS9nJ",
        "colab": {
          "base_uri": "https://localhost:8080/"
        },
        "outputId": "c05c4a44-db38-4a3a-98d0-3850fbdc2342"
      },
      "outputs": [
        {
          "output_type": "stream",
          "name": "stdout",
          "text": [
            "[]\n"
          ]
        }
      ],
      "source": [
        "explore_reviews_csv_query = \"\"\"\n",
        "MERGE (cwedata:Extended_Descriptions {runtime:2992})\n",
        "MERGE (Entities:Entities {rawName:\"Stored XSS\"})\n",
        "MERGE (cwedata)-[:HAS_ENTITY]->(Entities)\n",
        "\n",
        "\"\"\"\n",
        "result = conn.query(explore_reviews_csv_query)\n",
        "print(result)"
      ]
    },
    {
      "cell_type": "code",
      "execution_count": 767,
      "metadata": {
        "id": "IXm7v5qwS9hH",
        "colab": {
          "base_uri": "https://localhost:8080/"
        },
        "outputId": "1cc898f4-06e9-43cb-a095-98837b15b036"
      },
      "outputs": [
        {
          "output_type": "stream",
          "name": "stdout",
          "text": [
            "[]\n"
          ]
        }
      ],
      "source": [
        "explore_reviews_csv_query = \"\"\"\n",
        "MERGE (cwedata:Extended_Descriptions {runtime:2992})\n",
        "MERGE (Entities:Entities {rawName:\"visitor\"})\n",
        "MERGE (cwedata)-[:HAS_ENTITY]->(Entities)\n",
        "\n",
        "\"\"\"\n",
        "result = conn.query(explore_reviews_csv_query)\n",
        "print(result)"
      ]
    },
    {
      "cell_type": "code",
      "execution_count": 768,
      "metadata": {
        "id": "MesdvHaDS9a9",
        "colab": {
          "base_uri": "https://localhost:8080/"
        },
        "outputId": "ec5dd993-35fe-4d1d-ebc0-a57b12d08ac0"
      },
      "outputs": [
        {
          "output_type": "stream",
          "name": "stdout",
          "text": [
            "[]\n"
          ]
        }
      ],
      "source": [
        "explore_reviews_csv_query = \"\"\"\n",
        "MERGE (cwedata:Extended_Descriptions {runtime:2992})\n",
        "MERGE (Entities:Entities {rawName:\"data store\"})\n",
        "MERGE (cwedata)-[:HAS_ENTITY]->(Entities)\n",
        "\n",
        "\"\"\"\n",
        "result = conn.query(explore_reviews_csv_query)\n",
        "print(result)"
      ]
    },
    {
      "cell_type": "code",
      "execution_count": 769,
      "metadata": {
        "id": "4FqjOOuiTI3U",
        "colab": {
          "base_uri": "https://localhost:8080/"
        },
        "outputId": "d2486a88-614c-42d1-c7ad-2f284ddc3280"
      },
      "outputs": [
        {
          "output_type": "stream",
          "name": "stdout",
          "text": [
            "[]\n"
          ]
        }
      ],
      "source": [
        "explore_reviews_csv_query = \"\"\"\n",
        "MERGE (cwedata:Extended_Descriptions {runtime:2992})\n",
        "MERGE (Entities:Entities {rawName:\"dynamic content\"})\n",
        "MERGE (cwedata)-[:HAS_ENTITY]->(Entities)\n",
        "\n",
        "\"\"\"\n",
        "result = conn.query(explore_reviews_csv_query)\n",
        "print(result)"
      ]
    },
    {
      "cell_type": "code",
      "execution_count": 770,
      "metadata": {
        "id": "ZjKAUGIlTInY",
        "colab": {
          "base_uri": "https://localhost:8080/"
        },
        "outputId": "97dae984-fba2-455f-fc51-81233f32c485"
      },
      "outputs": [
        {
          "output_type": "stream",
          "name": "stdout",
          "text": [
            "[]\n"
          ]
        }
      ],
      "source": [
        "explore_reviews_csv_query = \"\"\"\n",
        "MERGE (cwedata:Extended_Descriptions {runtime:2992})\n",
        "MERGE (Entities:Entities {rawName:\"optimal\"})\n",
        "MERGE (cwedata)-[:HAS_ENTITY]->(Entities)\n",
        "\n",
        "\"\"\"\n",
        "result = conn.query(explore_reviews_csv_query)\n",
        "print(result)"
      ]
    },
    {
      "cell_type": "code",
      "execution_count": 771,
      "metadata": {
        "id": "iW4LgPZHTIg1",
        "colab": {
          "base_uri": "https://localhost:8080/"
        },
        "outputId": "be3f0e06-c46d-4662-9951-76dda8ee91ec"
      },
      "outputs": [
        {
          "output_type": "stream",
          "name": "stdout",
          "text": [
            "[]\n"
          ]
        }
      ],
      "source": [
        "explore_reviews_csv_query = \"\"\"\n",
        "MERGE (cwedata:Extended_Descriptions {runtime:2992})\n",
        "MERGE (Entities:Entities {rawName:\"inject\"})\n",
        "MERGE (cwedata)-[:HAS_ENTITY]->(Entities)\n",
        "\n",
        "\"\"\"\n",
        "result = conn.query(explore_reviews_csv_query)\n",
        "print(result)"
      ]
    },
    {
      "cell_type": "code",
      "execution_count": 772,
      "metadata": {
        "id": "ugJMY1PRTIQ9",
        "colab": {
          "base_uri": "https://localhost:8080/"
        },
        "outputId": "31395842-6387-48b2-c863-4a76990035e0"
      },
      "outputs": [
        {
          "output_type": "stream",
          "name": "stdout",
          "text": [
            "[]\n"
          ]
        }
      ],
      "source": [
        "explore_reviews_csv_query = \"\"\"\n",
        "MERGE (cwedata:Extended_Descriptions {runtime:2992})\n",
        "MERGE (Entities:Entities {rawName:\"Interesting\"})\n",
        "MERGE (cwedata)-[:HAS_ENTITY]->(Entities)\n",
        "\n",
        "\"\"\"\n",
        "result = conn.query(explore_reviews_csv_query)\n",
        "print(result)"
      ]
    },
    {
      "cell_type": "code",
      "execution_count": 773,
      "metadata": {
        "id": "W4uq-1m-TQNu",
        "colab": {
          "base_uri": "https://localhost:8080/"
        },
        "outputId": "d6469a1f-f133-4717-d56c-3052dba9a082"
      },
      "outputs": [
        {
          "output_type": "stream",
          "name": "stdout",
          "text": [
            "[]\n"
          ]
        }
      ],
      "source": [
        "explore_reviews_csv_query = \"\"\"\n",
        "MERGE (cwedata:Extended_Descriptions {runtime:2992})\n",
        "MERGE (Entities:Entities {rawName:\"privileges\"})\n",
        "MERGE (cwedata)-[:HAS_ENTITY]->(Entities)\n",
        "\n",
        "\"\"\"\n",
        "result = conn.query(explore_reviews_csv_query)\n",
        "print(result)"
      ]
    },
    {
      "cell_type": "code",
      "execution_count": 774,
      "metadata": {
        "id": "QYbyY26pTQEz",
        "colab": {
          "base_uri": "https://localhost:8080/"
        },
        "outputId": "a55508da-00ce-4869-8832-824b66aad53b"
      },
      "outputs": [
        {
          "output_type": "stream",
          "name": "stdout",
          "text": [
            "[]\n"
          ]
        }
      ],
      "source": [
        "explore_reviews_csv_query = \"\"\"\n",
        "MERGE (cwedata:Extended_Descriptions {runtime:2992})\n",
        "MERGE (Entities:Entities {rawName:\"sensitive data\"})\n",
        "MERGE (cwedata)-[:HAS_ENTITY]->(Entities)\n",
        "\n",
        "\"\"\"\n",
        "result = conn.query(explore_reviews_csv_query)\n",
        "print(result)"
      ]
    },
    {
      "cell_type": "code",
      "execution_count": 775,
      "metadata": {
        "id": "GArvDet8TP8m",
        "colab": {
          "base_uri": "https://localhost:8080/"
        },
        "outputId": "c532ea06-871d-48b6-8bf7-84db5a1763da"
      },
      "outputs": [
        {
          "output_type": "stream",
          "name": "stdout",
          "text": [
            "[]\n"
          ]
        }
      ],
      "source": [
        "explore_reviews_csv_query = \"\"\"\n",
        "MERGE (cwedata:Extended_Descriptions {runtime:2992})\n",
        "MERGE (Entities:Entities {rawName:\"privileged\"})\n",
        "MERGE (cwedata)-[:HAS_ENTITY]->(Entities)\n",
        "\n",
        "\"\"\"\n",
        "result = conn.query(explore_reviews_csv_query)\n",
        "print(result)"
      ]
    },
    {
      "cell_type": "code",
      "execution_count": 776,
      "metadata": {
        "id": "xzuOnfXRTP1q",
        "colab": {
          "base_uri": "https://localhost:8080/"
        },
        "outputId": "a53210e6-5c70-48c5-b605-0a2854d67be8"
      },
      "outputs": [
        {
          "output_type": "stream",
          "name": "stdout",
          "text": [
            "[]\n"
          ]
        }
      ],
      "source": [
        "explore_reviews_csv_query = \"\"\"\n",
        "MERGE (cwedata:Extended_Descriptions {runtime:2992})\n",
        "MERGE (Entities:Entities {rawName:\"gain access\"})\n",
        "MERGE (cwedata)-[:HAS_ENTITY]->(Entities)\n",
        "\n",
        "\"\"\"\n",
        "result = conn.query(explore_reviews_csv_query)\n",
        "print(result)"
      ]
    },
    {
      "cell_type": "code",
      "execution_count": 777,
      "metadata": {
        "id": "vSab3cl0TPns",
        "colab": {
          "base_uri": "https://localhost:8080/"
        },
        "outputId": "df2a7aad-5dde-4f5e-8184-d6e94e029e5a"
      },
      "outputs": [
        {
          "output_type": "stream",
          "name": "stdout",
          "text": [
            "[]\n"
          ]
        }
      ],
      "source": [
        "explore_reviews_csv_query = \"\"\"\n",
        "MERGE (cwedata:Extended_Descriptions {runtime:2992})\n",
        "MERGE (Entities:Entities {rawName:\"log message\"})\n",
        "MERGE (cwedata)-[:HAS_ENTITY]->(Entities)\n",
        "\n",
        "\"\"\"\n",
        "result = conn.query(explore_reviews_csv_query)\n",
        "print(result)"
      ]
    },
    {
      "cell_type": "code",
      "execution_count": 778,
      "metadata": {
        "id": "ExuCOQE1TPg0",
        "colab": {
          "base_uri": "https://localhost:8080/"
        },
        "outputId": "60f863e0-394e-47be-febb-f09b52be79c6"
      },
      "outputs": [
        {
          "output_type": "stream",
          "name": "stdout",
          "text": [
            "[]\n"
          ]
        }
      ],
      "source": [
        "explore_reviews_csv_query = \"\"\"\n",
        "MERGE (cwedata:Extended_Descriptions {runtime:2992})\n",
        "MERGE (Entities:Entities {rawName:\"logs\"})\n",
        "MERGE (cwedata)-[:HAS_ENTITY]->(Entities)\n",
        "\n",
        "\"\"\"\n",
        "result = conn.query(explore_reviews_csv_query)\n",
        "print(result)"
      ]
    },
    {
      "cell_type": "code",
      "execution_count": 779,
      "metadata": {
        "id": "ntb6O28tTPVT",
        "colab": {
          "base_uri": "https://localhost:8080/"
        },
        "outputId": "d18f36e8-80bb-4bdd-b114-fe6c8423528e"
      },
      "outputs": [
        {
          "output_type": "stream",
          "name": "stdout",
          "text": [
            "[]\n"
          ]
        }
      ],
      "source": [
        "explore_reviews_csv_query = \"\"\"\n",
        "MERGE (cwedata:Extended_Descriptions {runtime:2992})\n",
        "MERGE (Entities:Entities {rawName:\"Type 0\"})\n",
        "MERGE (cwedata)-[:HAS_ENTITY]->(Entities)\n",
        "\n",
        "\"\"\"\n",
        "result = conn.query(explore_reviews_csv_query)\n",
        "print(result)"
      ]
    },
    {
      "cell_type": "code",
      "execution_count": 780,
      "metadata": {
        "id": "b6nJN1SPTPCz",
        "colab": {
          "base_uri": "https://localhost:8080/"
        },
        "outputId": "55a6023c-fb6f-4471-a32f-004d15c79df5"
      },
      "outputs": [
        {
          "output_type": "stream",
          "name": "stdout",
          "text": [
            "[]\n"
          ]
        }
      ],
      "source": [
        "explore_reviews_csv_query = \"\"\"\n",
        "MERGE (cwedata:Extended_Descriptions {runtime:2992})\n",
        "MERGE (Entities:Entities {rawName:\"DOM\"})\n",
        "MERGE (cwedata)-[:HAS_ENTITY]->(Entities)\n",
        "\n",
        "\"\"\"\n",
        "result = conn.query(explore_reviews_csv_query)\n",
        "print(result)"
      ]
    },
    {
      "cell_type": "code",
      "execution_count": 781,
      "metadata": {
        "id": "GiBJxL-pTO6b",
        "colab": {
          "base_uri": "https://localhost:8080/"
        },
        "outputId": "e0e8fa56-60f3-4e4d-9adc-28e59411d843"
      },
      "outputs": [
        {
          "output_type": "stream",
          "name": "stdout",
          "text": [
            "[]\n"
          ]
        }
      ],
      "source": [
        "explore_reviews_csv_query = \"\"\"\n",
        "MERGE (cwedata:Extended_Descriptions {runtime:2992})\n",
        "MERGE (Entities:Entities {rawName:\"Based\"})\n",
        "MERGE (cwedata)-[:HAS_ENTITY]->(Entities)\n",
        "\n",
        "\"\"\"\n",
        "result = conn.query(explore_reviews_csv_query)\n",
        "print(result)"
      ]
    },
    {
      "cell_type": "code",
      "execution_count": 782,
      "metadata": {
        "id": "JV58Xwv3X4oU",
        "colab": {
          "base_uri": "https://localhost:8080/"
        },
        "outputId": "b799e140-7258-47ac-b68e-85d5f5246679"
      },
      "outputs": [
        {
          "output_type": "stream",
          "name": "stdout",
          "text": [
            "[]\n"
          ]
        }
      ],
      "source": [
        "explore_reviews_csv_query = \"\"\"\n",
        "MERGE (cwedata:Extended_Descriptions {runtime:2992})\n",
        "MERGE (Entities:Entities {rawName:\"performs\"})\n",
        "MERGE (cwedata)-[:HAS_ENTITY]->(Entities)\n",
        "\n",
        "\"\"\"\n",
        "result = conn.query(explore_reviews_csv_query)\n",
        "print(result)"
      ]
    },
    {
      "cell_type": "code",
      "execution_count": 783,
      "metadata": {
        "id": "pkhMx5ngX4fN",
        "colab": {
          "base_uri": "https://localhost:8080/"
        },
        "outputId": "77ba19e8-823c-4eab-a69e-04fd9e0f5a30"
      },
      "outputs": [
        {
          "output_type": "stream",
          "name": "stdout",
          "text": [
            "[]\n"
          ]
        }
      ],
      "source": [
        "explore_reviews_csv_query = \"\"\"\n",
        "MERGE (cwedata:Extended_Descriptions {runtime:2992})\n",
        "MERGE (Entities:Entities {rawName:\"injection\"})\n",
        "MERGE (cwedata)-[:HAS_ENTITY]->(Entities)\n",
        "\n",
        "\"\"\"\n",
        "result = conn.query(explore_reviews_csv_query)\n",
        "print(result)"
      ]
    },
    {
      "cell_type": "code",
      "execution_count": 784,
      "metadata": {
        "id": "LcR27UhwX4WJ",
        "colab": {
          "base_uri": "https://localhost:8080/"
        },
        "outputId": "409b0dfd-e347-4fc0-f22a-982551f14421"
      },
      "outputs": [
        {
          "output_type": "stream",
          "name": "stdout",
          "text": [
            "[]\n"
          ]
        }
      ],
      "source": [
        "explore_reviews_csv_query = \"\"\"\n",
        "MERGE (cwedata:Extended_Descriptions {runtime:2992})\n",
        "MERGE (Entities:Entities {rawName:\"Javascript\"})\n",
        "MERGE (cwedata)-[:HAS_ENTITY]->(Entities)\n",
        "\n",
        "\"\"\"\n",
        "result = conn.query(explore_reviews_csv_query)\n",
        "print(result)"
      ]
    },
    {
      "cell_type": "code",
      "execution_count": 785,
      "metadata": {
        "id": "Bn7OlSaxX4NQ",
        "colab": {
          "base_uri": "https://localhost:8080/"
        },
        "outputId": "051834d8-713f-486d-c892-9c458193b307"
      },
      "outputs": [
        {
          "output_type": "stream",
          "name": "stdout",
          "text": [
            "[]\n"
          ]
        }
      ],
      "source": [
        "explore_reviews_csv_query = \"\"\"\n",
        "MERGE (cwedata:Extended_Descriptions {runtime:2992})\n",
        "MERGE (Entities:Entities {rawName:\"sanity\"})\n",
        "MERGE (cwedata)-[:HAS_ENTITY]->(Entities)\n",
        "\n",
        "\"\"\"\n",
        "result = conn.query(explore_reviews_csv_query)\n",
        "print(result)"
      ]
    },
    {
      "cell_type": "code",
      "execution_count": 786,
      "metadata": {
        "id": "uJK71QtoX4EM",
        "colab": {
          "base_uri": "https://localhost:8080/"
        },
        "outputId": "73b7f1e5-7b16-4fbe-ea35-56311fc9daaf"
      },
      "outputs": [
        {
          "output_type": "stream",
          "name": "stdout",
          "text": [
            "[]\n"
          ]
        }
      ],
      "source": [
        "explore_reviews_csv_query = \"\"\"\n",
        "MERGE (cwedata:Extended_Descriptions {runtime:2992})\n",
        "MERGE (Entities:Entities {rawName:\"injects\"})\n",
        "MERGE (cwedata)-[:HAS_ENTITY]->(Entities)\n",
        "\n",
        "\"\"\"\n",
        "result = conn.query(explore_reviews_csv_query)\n",
        "print(result)"
      ]
    },
    {
      "cell_type": "code",
      "execution_count": 787,
      "metadata": {
        "id": "uRbrgsnfX37M",
        "colab": {
          "base_uri": "https://localhost:8080/"
        },
        "outputId": "a89e56d6-2a59-40d9-f404-8fc419f0c087"
      },
      "outputs": [
        {
          "output_type": "stream",
          "name": "stdout",
          "text": [
            "[]\n"
          ]
        }
      ],
      "source": [
        "explore_reviews_csv_query = \"\"\"\n",
        "MERGE (cwedata:Extended_Descriptions {runtime:2992})\n",
        "MERGE (Entities:Entities {rawName:\"dynamic HTML\"})\n",
        "MERGE (cwedata)-[:HAS_ENTITY]->(Entities)\n",
        "\n",
        "\"\"\"\n",
        "result = conn.query(explore_reviews_csv_query)\n",
        "print(result)"
      ]
    },
    {
      "cell_type": "code",
      "execution_count": 788,
      "metadata": {
        "id": "n9qgHjxzX3e_",
        "colab": {
          "base_uri": "https://localhost:8080/"
        },
        "outputId": "ca20a410-c401-46c6-8857-7025de28144d"
      },
      "outputs": [
        {
          "output_type": "stream",
          "name": "stdout",
          "text": [
            "[]\n"
          ]
        }
      ],
      "source": [
        "explore_reviews_csv_query = \"\"\"\n",
        "MERGE (cwedata:Extended_Descriptions {runtime:2992})\n",
        "MERGE (Entities:Entities {rawName:\"private information\"})\n",
        "MERGE (cwedata)-[:HAS_ENTITY]->(Entities)\n",
        "\n",
        "\"\"\"\n",
        "result = conn.query(explore_reviews_csv_query)\n",
        "print(result)"
      ]
    },
    {
      "cell_type": "code",
      "execution_count": 789,
      "metadata": {
        "id": "Jm6oAOh5X3WG",
        "colab": {
          "base_uri": "https://localhost:8080/"
        },
        "outputId": "e021701c-1b69-41db-826e-f30f3ee5e602"
      },
      "outputs": [
        {
          "output_type": "stream",
          "name": "stdout",
          "text": [
            "[]\n"
          ]
        }
      ],
      "source": [
        "explore_reviews_csv_query = \"\"\"\n",
        "MERGE (cwedata:Extended_Descriptions {runtime:2992})\n",
        "MERGE (Entities:Entities {rawName:\"web site\"})\n",
        "MERGE (cwedata)-[:HAS_ENTITY]->(Entities)\n",
        "\n",
        "\"\"\"\n",
        "result = conn.query(explore_reviews_csv_query)\n",
        "print(result)"
      ]
    },
    {
      "cell_type": "code",
      "execution_count": 790,
      "metadata": {
        "id": "59g45ZzOX3NA",
        "colab": {
          "base_uri": "https://localhost:8080/"
        },
        "outputId": "50ef2d91-833b-432a-ea53-7549d4538cf7"
      },
      "outputs": [
        {
          "output_type": "stream",
          "name": "stdout",
          "text": [
            "[]\n"
          ]
        }
      ],
      "source": [
        "explore_reviews_csv_query = \"\"\"\n",
        "MERGE (cwedata:Extended_Descriptions {runtime:2992})\n",
        "MERGE (Entities:Entities {rawName:\"administrator privileges\"})\n",
        "MERGE (cwedata)-[:HAS_ENTITY]->(Entities)\n",
        "\n",
        "\"\"\"\n",
        "result = conn.query(explore_reviews_csv_query)\n",
        "print(result)"
      ]
    },
    {
      "cell_type": "code",
      "execution_count": 791,
      "metadata": {
        "id": "QKFvaGEIYFaF",
        "colab": {
          "base_uri": "https://localhost:8080/"
        },
        "outputId": "7e100f2d-2192-4616-b1fe-76ef4b9043a0"
      },
      "outputs": [
        {
          "output_type": "stream",
          "name": "stdout",
          "text": [
            "[]\n"
          ]
        }
      ],
      "source": [
        "explore_reviews_csv_query = \"\"\"\n",
        "MERGE (cwedata:Extended_Descriptions {runtime:2992})\n",
        "MERGE (Entities:Entities {rawName:\"Phishing attacks\"})\n",
        "MERGE (cwedata)-[:HAS_ENTITY]->(Entities)\n",
        "\n",
        "\"\"\"\n",
        "result = conn.query(explore_reviews_csv_query)\n",
        "print(result)"
      ]
    },
    {
      "cell_type": "code",
      "execution_count": 792,
      "metadata": {
        "id": "vqPT8clcYFP-",
        "colab": {
          "base_uri": "https://localhost:8080/"
        },
        "outputId": "00d952a6-ec5a-46df-b887-b7504cd4a4ee"
      },
      "outputs": [
        {
          "output_type": "stream",
          "name": "stdout",
          "text": [
            "[]\n"
          ]
        }
      ],
      "source": [
        "explore_reviews_csv_query = \"\"\"\n",
        "MERGE (cwedata:Extended_Descriptions {runtime:2992})\n",
        "MERGE (Entities:Entities {rawName:\"emulate\"})\n",
        "MERGE (cwedata)-[:HAS_ENTITY]->(Entities)\n",
        "\n",
        "\"\"\"\n",
        "result = conn.query(explore_reviews_csv_query)\n",
        "print(result)"
      ]
    },
    {
      "cell_type": "code",
      "execution_count": 793,
      "metadata": {
        "id": "wWKUTpzgYFF-",
        "colab": {
          "base_uri": "https://localhost:8080/"
        },
        "outputId": "eb8c2512-4755-4e4a-de0a-c97280997463"
      },
      "outputs": [
        {
          "output_type": "stream",
          "name": "stdout",
          "text": [
            "[]\n"
          ]
        }
      ],
      "source": [
        "explore_reviews_csv_query = \"\"\"\n",
        "MERGE (cwedata:Extended_Descriptions {runtime:2992})\n",
        "MERGE (Entities:Entities {rawName:\"web sites\"})\n",
        "MERGE (cwedata)-[:HAS_ENTITY]->(Entities)\n",
        "\n",
        "\"\"\"\n",
        "result = conn.query(explore_reviews_csv_query)\n",
        "print(result)"
      ]
    },
    {
      "cell_type": "code",
      "execution_count": 794,
      "metadata": {
        "id": "S3zNzeHdYEyT",
        "colab": {
          "base_uri": "https://localhost:8080/"
        },
        "outputId": "68ecdef9-dca2-421f-ca39-7106137fe556"
      },
      "outputs": [
        {
          "output_type": "stream",
          "name": "stdout",
          "text": [
            "[]\n"
          ]
        }
      ],
      "source": [
        "explore_reviews_csv_query = \"\"\"\n",
        "MERGE (cwedata:Extended_Descriptions {runtime:2992})\n",
        "MERGE (Entities:Entities {rawName:\"Finally\"})\n",
        "MERGE (cwedata)-[:HAS_ENTITY]->(Entities)\n",
        "\n",
        "\"\"\"\n",
        "result = conn.query(explore_reviews_csv_query)\n",
        "print(result)"
      ]
    },
    {
      "cell_type": "code",
      "execution_count": 795,
      "metadata": {
        "id": "xGgazzaDYEor",
        "colab": {
          "base_uri": "https://localhost:8080/"
        },
        "outputId": "1027cc11-cef7-4aa3-fabd-865bc2c0774d"
      },
      "outputs": [
        {
          "output_type": "stream",
          "name": "stdout",
          "text": [
            "[]\n"
          ]
        }
      ],
      "source": [
        "explore_reviews_csv_query = \"\"\"\n",
        "MERGE (cwedata:Extended_Descriptions {runtime:2992})\n",
        "MERGE (Entities:Entities {rawName:\"exploit\"})\n",
        "MERGE (cwedata)-[:HAS_ENTITY]->(Entities)\n",
        "\n",
        "\"\"\"\n",
        "result = conn.query(explore_reviews_csv_query)\n",
        "print(result)"
      ]
    },
    {
      "cell_type": "code",
      "execution_count": 796,
      "metadata": {
        "id": "obUcNvicYEfA",
        "colab": {
          "base_uri": "https://localhost:8080/"
        },
        "outputId": "a22838f4-bf47-4a36-d17a-5786b551b692"
      },
      "outputs": [
        {
          "output_type": "stream",
          "name": "stdout",
          "text": [
            "[]\n"
          ]
        }
      ],
      "source": [
        "explore_reviews_csv_query = \"\"\"\n",
        "MERGE (cwedata:Extended_Descriptions {runtime:2992})\n",
        "MERGE (Entities:Entities {rawName:\"vulnerability\"})\n",
        "MERGE (cwedata)-[:HAS_ENTITY]->(Entities)\n",
        "\n",
        "\"\"\"\n",
        "result = conn.query(explore_reviews_csv_query)\n",
        "print(result)"
      ]
    },
    {
      "cell_type": "code",
      "execution_count": 797,
      "metadata": {
        "id": "RTYoj2KGYEVL",
        "colab": {
          "base_uri": "https://localhost:8080/"
        },
        "outputId": "17dcc851-c9f6-4cf4-aa8e-b1604c9feea4"
      },
      "outputs": [
        {
          "output_type": "stream",
          "name": "stdout",
          "text": [
            "[]\n"
          ]
        }
      ],
      "source": [
        "explore_reviews_csv_query = \"\"\"\n",
        "MERGE (cwedata:Extended_Descriptions {runtime:2992})\n",
        "MERGE (Entities:Entities {rawName:\"drive-by\"})\n",
        "MERGE (cwedata)-[:HAS_ENTITY]->(Entities)\n",
        "\n",
        "\"\"\"\n",
        "result = conn.query(explore_reviews_csv_query)\n",
        "print(result)"
      ]
    },
    {
      "cell_type": "code",
      "execution_count": 798,
      "metadata": {
        "id": "PHNu4lnnYECa",
        "colab": {
          "base_uri": "https://localhost:8080/"
        },
        "outputId": "fddf3533-b152-4af7-d70c-ce83ad160e64"
      },
      "outputs": [
        {
          "output_type": "stream",
          "name": "stdout",
          "text": [
            "[]\n"
          ]
        }
      ],
      "source": [
        "explore_reviews_csv_query = \"\"\"\n",
        "MERGE (cwedata:Extended_Descriptions {runtime:2992})\n",
        "MERGE (Entities:Entities {rawName:\"hacking\"})\n",
        "MERGE (cwedata)-[:HAS_ENTITY]->(Entities)\n",
        "\n",
        "\"\"\"\n",
        "result = conn.query(explore_reviews_csv_query)\n",
        "print(result)"
      ]
    },
    {
      "cell_type": "code",
      "execution_count": 799,
      "metadata": {
        "id": "QT3hOtHsYD40",
        "colab": {
          "base_uri": "https://localhost:8080/"
        },
        "outputId": "934e20f5-790e-4bb5-d8bf-76496cca06e1"
      },
      "outputs": [
        {
          "output_type": "stream",
          "name": "stdout",
          "text": [
            "[]\n"
          ]
        }
      ],
      "source": [
        "explore_reviews_csv_query = \"\"\"\n",
        "MERGE (cwedata:Extended_Descriptions {runtime:2992})\n",
        "MERGE (Entities:Entities {rawName:\"attackers\"})\n",
        "MERGE (cwedata)-[:HAS_ENTITY]->(Entities)\n",
        "\n",
        "\"\"\"\n",
        "result = conn.query(explore_reviews_csv_query)\n",
        "print(result)"
      ]
    },
    {
      "cell_type": "code",
      "execution_count": 800,
      "metadata": {
        "id": "jT3Kbpz0Z2Z7",
        "colab": {
          "base_uri": "https://localhost:8080/"
        },
        "outputId": "409a86e5-8691-47fd-cc99-90ef940378f2"
      },
      "outputs": [
        {
          "output_type": "stream",
          "name": "stdout",
          "text": [
            "[]\n"
          ]
        }
      ],
      "source": [
        "explore_reviews_csv_query = \"\"\"\n",
        "MERGE (cwedata:Extended_Descriptions {runtime:2992})\n",
        "MERGE (Entities:Entities {rawName:\"variety of methods\"})\n",
        "MERGE (cwedata)-[:HAS_ENTITY]->(Entities)\n",
        "\n",
        "\"\"\"\n",
        "result = conn.query(explore_reviews_csv_query)\n",
        "print(result)"
      ]
    },
    {
      "cell_type": "code",
      "execution_count": 801,
      "metadata": {
        "id": "Imm3EoEHZ2FE",
        "colab": {
          "base_uri": "https://localhost:8080/"
        },
        "outputId": "5825c1e4-fde7-4c63-84e3-eb4c7c77db79"
      },
      "outputs": [
        {
          "output_type": "stream",
          "name": "stdout",
          "text": [
            "[]\n"
          ]
        }
      ],
      "source": [
        "explore_reviews_csv_query = \"\"\"\n",
        "MERGE (cwedata:Extended_Descriptions {runtime:2992})\n",
        "MERGE (Entities:Entities {rawName:\"encode\"})\n",
        "MERGE (cwedata)-[:HAS_ENTITY]->(Entities)\n",
        "\n",
        "\"\"\"\n",
        "result = conn.query(explore_reviews_csv_query)\n",
        "print(result)"
      ]
    },
    {
      "cell_type": "code",
      "execution_count": 802,
      "metadata": {
        "id": "fo4IJcg8Z1t_",
        "colab": {
          "base_uri": "https://localhost:8080/"
        },
        "outputId": "149c93e5-e13c-45b6-85ff-db288612ce99"
      },
      "outputs": [
        {
          "output_type": "stream",
          "name": "stdout",
          "text": [
            "[]\n"
          ]
        }
      ],
      "source": [
        "explore_reviews_csv_query = \"\"\"\n",
        "MERGE (cwedata:Extended_Descriptions {runtime:2992})\n",
        "MERGE (Entities:Entities {rawName:\"URL encoding\"})\n",
        "MERGE (cwedata)-[:HAS_ENTITY]->(Entities)\n",
        "\n",
        "\"\"\"\n",
        "result = conn.query(explore_reviews_csv_query)\n",
        "print(result)"
      ]
    },
    {
      "cell_type": "code",
      "execution_count": 803,
      "metadata": {
        "id": "XDWUOPZfZ1Ws",
        "colab": {
          "base_uri": "https://localhost:8080/"
        },
        "outputId": "45fcbd1e-b9f8-4f26-d886-659862e700fb"
      },
      "outputs": [
        {
          "output_type": "stream",
          "name": "stdout",
          "text": [
            "[]\n"
          ]
        }
      ],
      "source": [
        "explore_reviews_csv_query = \"\"\"\n",
        "MERGE (cwedata:Extended_Descriptions {runtime:2992})\n",
        "MERGE (Entities:Entities {rawName:\"Unicode\"})\n",
        "MERGE (cwedata)-[:HAS_ENTITY]->(Entities)\n",
        "\n",
        "\"\"\"\n",
        "result = conn.query(explore_reviews_csv_query)\n",
        "print(result)"
      ]
    },
    {
      "cell_type": "code",
      "execution_count": 804,
      "metadata": {
        "id": "uipuN-NGaXml",
        "colab": {
          "base_uri": "https://localhost:8080/"
        },
        "outputId": "b8c773c6-33e6-457d-d3f0-8fecd82b4d0f"
      },
      "outputs": [
        {
          "output_type": "stream",
          "name": "stdout",
          "text": [
            "[]\n"
          ]
        }
      ],
      "source": [
        "explore_reviews_csv_query = \"\"\"\n",
        "MERGE (cwedata:Extended_Descriptions {runtime:2992})\n",
        "MERGE (Entities:Entities {rawName:\"submits\"})\n",
        "MERGE (cwedata)-[:HAS_ENTITY]->(Entities)\n",
        "\n",
        "\"\"\"\n",
        "result = conn.query(explore_reviews_csv_query)\n",
        "print(result)"
      ]
    },
    {
      "cell_type": "code",
      "execution_count": 805,
      "metadata": {
        "id": "TemT9-v5aXOn",
        "colab": {
          "base_uri": "https://localhost:8080/"
        },
        "outputId": "d00f02c5-b9f8-4187-aa97-1f9b7636961f"
      },
      "outputs": [
        {
          "output_type": "stream",
          "name": "stdout",
          "text": [
            "[]\n"
          ]
        }
      ],
      "source": [
        "explore_reviews_csv_query = \"\"\"\n",
        "MERGE (cwedata:Extended_Descriptions {runtime:2992})\n",
        "MERGE (Entities:Entities {rawName:\"executable\"})\n",
        "MERGE (cwedata)-[:HAS_ENTITY]->(Entities)\n",
        "\n",
        "\"\"\"\n",
        "result = conn.query(explore_reviews_csv_query)\n",
        "print(result)"
      ]
    },
    {
      "cell_type": "code",
      "execution_count": 806,
      "metadata": {
        "id": "BwKV3J10aWxz",
        "colab": {
          "base_uri": "https://localhost:8080/"
        },
        "outputId": "4b071548-0fb8-4ada-8b10-db343df64ba1"
      },
      "outputs": [
        {
          "output_type": "stream",
          "name": "stdout",
          "text": [
            "[]\n"
          ]
        }
      ],
      "source": [
        "explore_reviews_csv_query = \"\"\"\n",
        "MERGE (cwedata:Extended_Descriptions {runtime:2992})\n",
        "MERGE (Entities:Entities {rawName:\"untrusted\"})\n",
        "MERGE (cwedata)-[:HAS_ENTITY]->(Entities)\n",
        "\n",
        "\"\"\"\n",
        "result = conn.query(explore_reviews_csv_query)\n",
        "print(result)"
      ]
    },
    {
      "cell_type": "code",
      "execution_count": 807,
      "metadata": {
        "id": "7L81EhCOqj60",
        "colab": {
          "base_uri": "https://localhost:8080/"
        },
        "outputId": "b209f430-0cad-45a3-93ee-732352519ce0"
      },
      "outputs": [
        {
          "output_type": "stream",
          "name": "stdout",
          "text": [
            "[]\n"
          ]
        }
      ],
      "source": [
        "explore_reviews_csv_query = \"\"\"\n",
        "MERGE (cwe:CWE {cwe_id:\"89\"})\n",
        "MERGE (cwedata:Extended_Descriptions {runtime:691})\n",
        "MERGE (cwe)-[:MAPPED_WITH]->(cwedata)\n",
        "MERGE (cwedata)-[:HAS_GLOBAL_CATEGORY{weight:0.019997397708562056,source:\"wikipedia-en\",category:\"Data-centric programming languages\",page_id:925067}]->(cwe)\n",
        "MERGE (cwedata)-[:HAS_GLOBAL_CATEGORY{weight:0.009998698833835067,source:\"wikipedia-en\",category:\"Command and control\",page_id:13460558}]->(cwe)\n",
        "\n",
        "\"\"\"\n",
        "result = conn.query(explore_reviews_csv_query)\n",
        "print(result)"
      ]
    },
    {
      "cell_type": "code",
      "execution_count": 808,
      "metadata": {
        "id": "b88zBe-oHdR9",
        "colab": {
          "base_uri": "https://localhost:8080/"
        },
        "outputId": "73795f55-ef2f-42d3-d1f9-5d6d480d84c2"
      },
      "outputs": [
        {
          "output_type": "stream",
          "name": "stdout",
          "text": [
            "[]\n"
          ]
        }
      ],
      "source": [
        "explore_reviews_csv_query = \"\"\"\n",
        "CALL apoc.load.json(\"https://raw.githubusercontent.com/neostrange/CveParse/main/Extended_Descriptions.json\", null, {failOnError:false})\n",
        "YIELD value\n",
        "WITH value  AS data\n",
        "WITH data\n",
        "UNWIND data.Extended_Descriptions[1].CWE.entities as Entities\n",
        "MERGE (entities:Entities{rawName:Entities.`rawName`})\n",
        "  SET \n",
        "   entities.offsetStart = Entities.offsetStart,\n",
        "   entities.offsetEnd = Entities.offsetEnd,\n",
        "   entities.confidence_score = Entities.confidence_score,\n",
        "   entities.wikipediaExternalRef = Entities.wikipediaExternalRef,\n",
        "   entities.wikidataId = Entities.wikidataId\n",
        "\n",
        "\"\"\"\n",
        "result = conn.query(explore_reviews_csv_query)\n",
        "print(result)"
      ]
    },
    {
      "cell_type": "code",
      "execution_count": 809,
      "metadata": {
        "id": "bPEACnsCaxvT",
        "colab": {
          "base_uri": "https://localhost:8080/"
        },
        "outputId": "2e86cdef-2fd9-415a-cb55-4836ef409d07"
      },
      "outputs": [
        {
          "output_type": "stream",
          "name": "stdout",
          "text": [
            "[]\n"
          ]
        }
      ],
      "source": [
        "explore_reviews_csv_query = \"\"\"\n",
        "MERGE (cwedata:Extended_Descriptions {runtime:691})\n",
        "MERGE (Entities: Entities {rawName:\"quoting\"})\n",
        "MERGE (cwedata)-[:HAS_ENTITY]->(Entities)\n",
        "\n",
        "\"\"\"\n",
        "result = conn.query(explore_reviews_csv_query)\n",
        "print(result)"
      ]
    },
    {
      "cell_type": "code",
      "execution_count": 810,
      "metadata": {
        "id": "P1-o_IWua8r7",
        "colab": {
          "base_uri": "https://localhost:8080/"
        },
        "outputId": "3a5cc256-7183-46e7-9e5a-a31050849d83"
      },
      "outputs": [
        {
          "output_type": "stream",
          "name": "stdout",
          "text": [
            "[]\n"
          ]
        }
      ],
      "source": [
        "explore_reviews_csv_query = \"\"\"\n",
        "MERGE (cwedata:Extended_Descriptions {runtime:691})\n",
        "MERGE (Entities:Entities {rawName:\"SQL syntax\"})\n",
        "MERGE (cwedata)-[:HAS_ENTITY]->(Entities)\n",
        "\n",
        "\"\"\"\n",
        "result = conn.query(explore_reviews_csv_query)\n",
        "print(result)"
      ]
    },
    {
      "cell_type": "code",
      "execution_count": 811,
      "metadata": {
        "id": "FULjeSALa8Ud",
        "colab": {
          "base_uri": "https://localhost:8080/"
        },
        "outputId": "084d29df-5286-4b94-fe40-f83916ba3cec"
      },
      "outputs": [
        {
          "output_type": "stream",
          "name": "stdout",
          "text": [
            "[]\n"
          ]
        }
      ],
      "source": [
        "explore_reviews_csv_query = \"\"\"\n",
        "MERGE (cwedata:Extended_Descriptions {runtime:691})\n",
        "MERGE (Entities:Entities {rawName:\"controllable\"})\n",
        "MERGE (cwedata)-[:HAS_ENTITY]->(Entities)\n",
        "\n",
        "\"\"\"\n",
        "result = conn.query(explore_reviews_csv_query)\n",
        "print(result)"
      ]
    },
    {
      "cell_type": "code",
      "execution_count": 812,
      "metadata": {
        "id": "5xRKxCPda78P",
        "colab": {
          "base_uri": "https://localhost:8080/"
        },
        "outputId": "c070765c-7b26-4e7b-d737-69c375badcf7"
      },
      "outputs": [
        {
          "output_type": "stream",
          "name": "stdout",
          "text": [
            "[]\n"
          ]
        }
      ],
      "source": [
        "explore_reviews_csv_query = \"\"\"\n",
        "MERGE (cwedata:Extended_Descriptions {runtime:691})\n",
        "MERGE (Entities:Entities {rawName: \"inputs\"})\n",
        "MERGE (cwedata)-[:HAS_ENTITY]->(Entities)\n",
        "\n",
        "\"\"\"\n",
        "result = conn.query(explore_reviews_csv_query)\n",
        "print(result)"
      ]
    },
    {
      "cell_type": "code",
      "execution_count": 813,
      "metadata": {
        "id": "gTR_Tvb7a6zs",
        "colab": {
          "base_uri": "https://localhost:8080/"
        },
        "outputId": "79e565f1-5abe-46bf-dbe8-8bacc22d44c3"
      },
      "outputs": [
        {
          "output_type": "stream",
          "name": "stdout",
          "text": [
            "[]\n"
          ]
        }
      ],
      "source": [
        "explore_reviews_csv_query = \"\"\"\n",
        "MERGE (cwedata:Extended_Descriptions {runtime:691})\n",
        "MERGE (Entities:Entities {rawName: \"SQL query\"})\n",
        "MERGE (cwedata)-[:HAS_ENTITY]->(Entities)\n",
        "\n",
        "\"\"\"\n",
        "result = conn.query(explore_reviews_csv_query)\n",
        "print(result)"
      ]
    },
    {
      "cell_type": "code",
      "execution_count": 814,
      "metadata": {
        "id": "s2gMEoP-a6l3",
        "colab": {
          "base_uri": "https://localhost:8080/"
        },
        "outputId": "0d1eb707-7c90-40d6-e011-153d4afbc967"
      },
      "outputs": [
        {
          "output_type": "stream",
          "name": "stdout",
          "text": [
            "[]\n"
          ]
        }
      ],
      "source": [
        "explore_reviews_csv_query = \"\"\"\n",
        "MERGE (cwedata:Extended_Descriptions {runtime:691})\n",
        "MERGE (Entities:Entities {rawName: \"interpreted\"})\n",
        "MERGE (cwedata)-[:HAS_ENTITY]->(Entities)\n",
        "\n",
        "\"\"\"\n",
        "result = conn.query(explore_reviews_csv_query)\n",
        "print(result)"
      ]
    },
    {
      "cell_type": "code",
      "execution_count": 815,
      "metadata": {
        "id": "LflKi3N2a6YD",
        "colab": {
          "base_uri": "https://localhost:8080/"
        },
        "outputId": "4da2e21c-b1bc-4e8a-8bea-54b0b79e9de4"
      },
      "outputs": [
        {
          "output_type": "stream",
          "name": "stdout",
          "text": [
            "[]\n"
          ]
        }
      ],
      "source": [
        "explore_reviews_csv_query = \"\"\"\n",
        "MERGE (cwedata:Extended_Descriptions {runtime:691})\n",
        "MERGE (Entities:Entities {rawName: \"SQL\"})\n",
        "MERGE (cwedata)-[:HAS_ENTITY]->(Entities)\n",
        "\n",
        "\"\"\"\n",
        "result = conn.query(explore_reviews_csv_query)\n",
        "print(result)"
      ]
    },
    {
      "cell_type": "code",
      "execution_count": 816,
      "metadata": {
        "id": "txN-xxFBa6J4",
        "colab": {
          "base_uri": "https://localhost:8080/"
        },
        "outputId": "e4916df2-3ce0-4467-d8f3-dfa591f32450"
      },
      "outputs": [
        {
          "output_type": "stream",
          "name": "stdout",
          "text": [
            "[]\n"
          ]
        }
      ],
      "source": [
        "explore_reviews_csv_query = \"\"\"\n",
        "MERGE (cwedata:Extended_Descriptions {runtime:691})\n",
        "MERGE (Entities:Entities {rawName: \"user data\"})\n",
        "MERGE (cwedata)-[:HAS_ENTITY]->(Entities)\n",
        "\n",
        "\"\"\"\n",
        "result = conn.query(explore_reviews_csv_query)\n",
        "print(result)"
      ]
    },
    {
      "cell_type": "code",
      "execution_count": 817,
      "metadata": {
        "id": "mWHdeVRXa5x2",
        "colab": {
          "base_uri": "https://localhost:8080/"
        },
        "outputId": "becc0ded-c024-4e1f-9da2-e4ec499fd27a"
      },
      "outputs": [
        {
          "output_type": "stream",
          "name": "stdout",
          "text": [
            "[]\n"
          ]
        }
      ],
      "source": [
        "explore_reviews_csv_query = \"\"\"\n",
        "MERGE (cwedata:Extended_Descriptions {runtime:691})\n",
        "MERGE (Entities:Entities {rawName: \"query\"})\n",
        "MERGE (cwedata)-[:HAS_ENTITY]->(Entities)\n",
        "\n",
        "\"\"\"\n",
        "result = conn.query(explore_reviews_csv_query)\n",
        "print(result)"
      ]
    },
    {
      "cell_type": "code",
      "execution_count": 818,
      "metadata": {
        "id": "L4Cbn54Wa5j-",
        "colab": {
          "base_uri": "https://localhost:8080/"
        },
        "outputId": "45690ce9-744c-4355-c086-d0cdbcae19eb"
      },
      "outputs": [
        {
          "output_type": "stream",
          "name": "stdout",
          "text": [
            "[]\n"
          ]
        }
      ],
      "source": [
        "explore_reviews_csv_query = \"\"\"\n",
        "MERGE (cwedata:Extended_Descriptions {runtime:691})\n",
        "MERGE (Entities:Entities {rawName: \"bypass\"})\n",
        "MERGE (cwedata)-[:HAS_ENTITY]->(Entities)\n",
        "\n",
        "\"\"\"\n",
        "result = conn.query(explore_reviews_csv_query)\n",
        "print(result)"
      ]
    },
    {
      "cell_type": "code",
      "execution_count": 819,
      "metadata": {
        "id": "PLIaYsOBa5V_",
        "colab": {
          "base_uri": "https://localhost:8080/"
        },
        "outputId": "6bf137f9-efef-4c28-a671-63b66b4b1007"
      },
      "outputs": [
        {
          "output_type": "stream",
          "name": "stdout",
          "text": [
            "[]\n"
          ]
        }
      ],
      "source": [
        "explore_reviews_csv_query = \"\"\"\n",
        "MERGE (cwedata:Extended_Descriptions {runtime:691})\n",
        "MERGE (Entities:Entities {rawName: \"security checks\"})\n",
        "MERGE (cwedata)-[:HAS_ENTITY]->(Entities)\n",
        "\n",
        "\"\"\"\n",
        "result = conn.query(explore_reviews_csv_query)\n",
        "print(result)"
      ]
    },
    {
      "cell_type": "code",
      "execution_count": 820,
      "metadata": {
        "id": "RfpOt2vgYUmU",
        "colab": {
          "base_uri": "https://localhost:8080/"
        },
        "outputId": "167f923e-8af5-4d03-fbec-4be9e1dca1b9"
      },
      "outputs": [
        {
          "output_type": "stream",
          "name": "stdout",
          "text": [
            "[]\n"
          ]
        }
      ],
      "source": [
        "explore_reviews_csv_query = \"\"\"\n",
        "MERGE (cwedata:Extended_Descriptions {runtime:691})\n",
        "MERGE (Entities:Entities {rawName: \"insert\"})\n",
        "MERGE (cwedata)-[:HAS_ENTITY]->(Entities)\n",
        "\n",
        "\"\"\"\n",
        "result = conn.query(explore_reviews_csv_query)\n",
        "print(result)"
      ]
    },
    {
      "cell_type": "code",
      "execution_count": 821,
      "metadata": {
        "id": "HBbEWUl1YUf3",
        "colab": {
          "base_uri": "https://localhost:8080/"
        },
        "outputId": "a9c360c7-2d72-4e02-dafe-5e3b4ce8107f"
      },
      "outputs": [
        {
          "output_type": "stream",
          "name": "stdout",
          "text": [
            "[]\n"
          ]
        }
      ],
      "source": [
        "explore_reviews_csv_query = \"\"\"\n",
        "MERGE (cwedata:Extended_Descriptions {runtime:691})\n",
        "MERGE (Entities:Entities {rawName: \"modify\"})\n",
        "MERGE (cwedata)-[:HAS_ENTITY]->(Entities)\n",
        "\n",
        "\"\"\"\n",
        "result = conn.query(explore_reviews_csv_query)\n",
        "print(result)"
      ]
    },
    {
      "cell_type": "code",
      "execution_count": 822,
      "metadata": {
        "id": "Ln7F82zjYUYY",
        "colab": {
          "base_uri": "https://localhost:8080/"
        },
        "outputId": "e6bd4f66-caec-43c9-92ec-262a05345157"
      },
      "outputs": [
        {
          "output_type": "stream",
          "name": "stdout",
          "text": [
            "[]\n"
          ]
        }
      ],
      "source": [
        "explore_reviews_csv_query = \"\"\"\n",
        "MERGE (cwedata:Extended_Descriptions {runtime:691})\n",
        "MERGE (Entities:Entities {rawName: \"back-end database\"})\n",
        "MERGE (cwedata)-[:HAS_ENTITY]->(Entities)\n",
        "\n",
        "\"\"\"\n",
        "result = conn.query(explore_reviews_csv_query)\n",
        "print(result)"
      ]
    },
    {
      "cell_type": "code",
      "execution_count": 823,
      "metadata": {
        "id": "QMFMevCFYUQg",
        "colab": {
          "base_uri": "https://localhost:8080/"
        },
        "outputId": "fac60ccd-f567-4b33-99f9-d3053dd91191"
      },
      "outputs": [
        {
          "output_type": "stream",
          "name": "stdout",
          "text": [
            "[]\n"
          ]
        }
      ],
      "source": [
        "explore_reviews_csv_query = \"\"\"\n",
        "MERGE (cwedata:Extended_Descriptions {runtime:691})\n",
        "MERGE (Entities:Entities {rawName: \"commands\"})\n",
        "MERGE (cwedata)-[:HAS_ENTITY]->(Entities)\n",
        "\n",
        "\"\"\"\n",
        "result = conn.query(explore_reviews_csv_query)\n",
        "print(result)"
      ]
    },
    {
      "cell_type": "code",
      "execution_count": 824,
      "metadata": {
        "id": "t0Jeu1SdYUH_",
        "colab": {
          "base_uri": "https://localhost:8080/"
        },
        "outputId": "0eb35c0e-7e83-4643-ae50-00852e013b74"
      },
      "outputs": [
        {
          "output_type": "stream",
          "name": "stdout",
          "text": [
            "[]\n"
          ]
        }
      ],
      "source": [
        "explore_reviews_csv_query = \"\"\"\n",
        "MERGE (cwedata:Extended_Descriptions {runtime:691})\n",
        "MERGE (Entities:Entities {rawName: \"SQL injection\"})\n",
        "MERGE (cwedata)-[:HAS_ENTITY]->(Entities)\n",
        "\n",
        "\"\"\"\n",
        "result = conn.query(explore_reviews_csv_query)\n",
        "print(result)"
      ]
    },
    {
      "cell_type": "code",
      "execution_count": 825,
      "metadata": {
        "id": "9H_0ss1TYT_g",
        "colab": {
          "base_uri": "https://localhost:8080/"
        },
        "outputId": "48839519-2a6a-4766-9458-061e710d8666"
      },
      "outputs": [
        {
          "output_type": "stream",
          "name": "stdout",
          "text": [
            "[]\n"
          ]
        }
      ],
      "source": [
        "explore_reviews_csv_query = \"\"\"\n",
        "MERGE (cwedata:Extended_Descriptions {runtime:691})\n",
        "MERGE (Entities:Entities {rawName: \"database-driven\"})\n",
        "MERGE (cwedata)-[:HAS_ENTITY]->(Entities)\n",
        "\n",
        "\"\"\"\n",
        "result = conn.query(explore_reviews_csv_query)\n",
        "print(result)"
      ]
    },
    {
      "cell_type": "code",
      "execution_count": 826,
      "metadata": {
        "id": "NPhir1DHYT15",
        "colab": {
          "base_uri": "https://localhost:8080/"
        },
        "outputId": "64cc0e47-2d6e-46dd-97a4-1eede81b94f3"
      },
      "outputs": [
        {
          "output_type": "stream",
          "name": "stdout",
          "text": [
            "[]\n"
          ]
        }
      ],
      "source": [
        "explore_reviews_csv_query = \"\"\"\n",
        "MERGE (cwedata:Extended_Descriptions {runtime:691})\n",
        "MERGE (Entities:Entities {rawName: \"web sites\"})\n",
        "MERGE (cwedata)-[:HAS_ENTITY]->(Entities)\n",
        "\n",
        "\"\"\"\n",
        "result = conn.query(explore_reviews_csv_query)\n",
        "print(result)"
      ]
    },
    {
      "cell_type": "code",
      "execution_count": 827,
      "metadata": {
        "id": "e4CxeljFYjgU",
        "colab": {
          "base_uri": "https://localhost:8080/"
        },
        "outputId": "3280e7ae-4f51-401e-ef51-35271350b096"
      },
      "outputs": [
        {
          "output_type": "stream",
          "name": "stdout",
          "text": [
            "[]\n"
          ]
        }
      ],
      "source": [
        "explore_reviews_csv_query = \"\"\"\n",
        "MERGE (cwedata:Extended_Descriptions {runtime:691})\n",
        "MERGE (Entities:Entities {rawName: \"flaw\"})\n",
        "MERGE (cwedata)-[:HAS_ENTITY]->(Entities)\n",
        "\n",
        "\"\"\"\n",
        "result = conn.query(explore_reviews_csv_query)\n",
        "print(result)"
      ]
    },
    {
      "cell_type": "code",
      "execution_count": 828,
      "metadata": {
        "id": "WmZiJhOXYko2",
        "colab": {
          "base_uri": "https://localhost:8080/"
        },
        "outputId": "e60648b0-34cc-45f5-8845-35c2fd4889a5"
      },
      "outputs": [
        {
          "output_type": "stream",
          "name": "stdout",
          "text": [
            "[]\n"
          ]
        }
      ],
      "source": [
        "explore_reviews_csv_query = \"\"\"\n",
        "MERGE (cwedata:Extended_Descriptions {runtime:691})\n",
        "MERGE (Entities:Entities {rawName: \"exploited\"})\n",
        "MERGE (cwedata)-[:HAS_ENTITY]->(Entities)\n",
        "\n",
        "\"\"\"\n",
        "result = conn.query(explore_reviews_csv_query)\n",
        "print(result)"
      ]
    },
    {
      "cell_type": "code",
      "execution_count": 829,
      "metadata": {
        "id": "GKD9yXs6YjNy",
        "colab": {
          "base_uri": "https://localhost:8080/"
        },
        "outputId": "36a8fa2a-20c2-4457-d279-ceb6a7a84891"
      },
      "outputs": [
        {
          "output_type": "stream",
          "name": "stdout",
          "text": [
            "[]\n"
          ]
        }
      ],
      "source": [
        "explore_reviews_csv_query = \"\"\"\n",
        "MERGE (cwedata:Extended_Descriptions {runtime:691})\n",
        "MERGE (Entities:Entities {rawName: \"software package\"})\n",
        "MERGE (cwedata)-[:HAS_ENTITY]->(Entities)\n",
        "\n",
        "\"\"\"\n",
        "result = conn.query(explore_reviews_csv_query)\n",
        "print(result)"
      ]
    },
    {
      "cell_type": "code",
      "execution_count": 830,
      "metadata": {
        "id": "DeF7lGrNYi93",
        "colab": {
          "base_uri": "https://localhost:8080/"
        },
        "outputId": "db6564f4-db54-40de-9db1-1f9643b8d59d"
      },
      "outputs": [
        {
          "output_type": "stream",
          "name": "stdout",
          "text": [
            "[]\n"
          ]
        }
      ],
      "source": [
        "explore_reviews_csv_query = \"\"\"\n",
        "MERGE (cwedata:Extended_Descriptions {runtime:691})\n",
        "MERGE (Entities:Entities {rawName: \"user base\"})\n",
        "MERGE (cwedata)-[:HAS_ENTITY]->(Entities)\n",
        "\n",
        "\"\"\"\n",
        "result = conn.query(explore_reviews_csv_query)\n",
        "print(result)"
      ]
    },
    {
      "cell_type": "code",
      "execution_count": 831,
      "metadata": {
        "id": "PkhWIl3tqnoG",
        "colab": {
          "base_uri": "https://localhost:8080/"
        },
        "outputId": "94afe07f-4cdb-482c-fb11-fa39d1b172eb"
      },
      "outputs": [
        {
          "output_type": "stream",
          "name": "stdout",
          "text": [
            "[]\n"
          ]
        }
      ],
      "source": [
        "explore_reviews_csv_query = \"\"\"\n",
        "MERGE (cwe:CWE {cwe_id:\"94\"})\n",
        "MERGE (cwedata:Extended_Descriptions {runtime:833})\n",
        "MERGE (cwe)-[:MAPPED_WITH]->(cwedata)\n",
        "MERGE (cwedata)-[:HAS_GLOBAL_CATEGORY{weight:0.0901926432383948,source:\"wikipedia-en\",category:\"Computer security exploits\",page_id:22272764}]->(cwe)\n",
        "MERGE (cwedata)-[:HAS_GLOBAL_CATEGORY{weight:0.06764448218898413,source:\"wikipedia-en\",category:\"Hacking (computer security)\",page_id:11647669}]->(cwe)\n",
        "MERGE (cwedata)-[:HAS_GLOBAL_CATEGORY{weight:0.022548160729661378,source:\"wikipedia-en\",category:\"Programming language topics\",page_id:5699671}]->(cwe)\n",
        "\n",
        "\"\"\"\n",
        "result = conn.query(explore_reviews_csv_query)\n",
        "print(result)"
      ]
    },
    {
      "cell_type": "code",
      "execution_count": 832,
      "metadata": {
        "id": "5p7fR7f9IUuc",
        "colab": {
          "base_uri": "https://localhost:8080/"
        },
        "outputId": "c74b9575-e553-4db0-ab45-f512aeaad58b"
      },
      "outputs": [
        {
          "output_type": "stream",
          "name": "stdout",
          "text": [
            "[]\n"
          ]
        }
      ],
      "source": [
        "explore_reviews_csv_query = \"\"\"\n",
        "CALL apoc.load.json(\"https://raw.githubusercontent.com/neostrange/CveParse/main/Extended_Descriptions.json\", null, {failOnError:false})\n",
        "YIELD value\n",
        "WITH value  AS data\n",
        "WITH data\n",
        "UNWIND data.Extended_Descriptions[2].CWE.entities as Entities\n",
        "MERGE (entities:Entities{rawName:Entities.`rawName`})\n",
        "  SET \n",
        "   entities.offsetStart = Entities.offsetStart,\n",
        "   entities.offsetEnd = Entities.offsetEnd,\n",
        "   entities.confidence_score = Entities.confidence_score,\n",
        "   entities.wikipediaExternalRef = Entities.wikipediaExternalRef,\n",
        "   entities.wikidataId = Entities.wikidataId\n",
        "\n",
        "\"\"\"\n",
        "result = conn.query(explore_reviews_csv_query)\n",
        "print(result)"
      ]
    },
    {
      "cell_type": "code",
      "execution_count": 833,
      "metadata": {
        "id": "GdLpeHbgbQPT",
        "colab": {
          "base_uri": "https://localhost:8080/"
        },
        "outputId": "93261a19-1b6b-4fbb-f56d-3846d86927d1"
      },
      "outputs": [
        {
          "output_type": "stream",
          "name": "stdout",
          "text": [
            "[]\n"
          ]
        }
      ],
      "source": [
        "explore_reviews_csv_query = \"\"\"\n",
        "MERGE (cwedata:Extended_Descriptions {runtime: 833})\n",
        "MERGE (Entities:Entities {rawName: \"syntax\"})\n",
        "MERGE (cwedata)-[:HAS_ENTITY]->(Entities)\n",
        "\n",
        "\"\"\"\n",
        "result = conn.query(explore_reviews_csv_query)\n",
        "print(result)"
      ]
    },
    {
      "cell_type": "code",
      "execution_count": 834,
      "metadata": {
        "id": "YQbTFcRWbSRv",
        "colab": {
          "base_uri": "https://localhost:8080/"
        },
        "outputId": "3b2c0e35-be31-4f5f-a202-c3582db3f587"
      },
      "outputs": [
        {
          "output_type": "stream",
          "name": "stdout",
          "text": [
            "[]\n"
          ]
        }
      ],
      "source": [
        "explore_reviews_csv_query = \"\"\"\n",
        "MERGE (cwedata:Extended_Descriptions {runtime: 833})\n",
        "MERGE (Entities:Entities {rawName: \"attacker\"})\n",
        "MERGE (cwedata)-[:HAS_ENTITY]->(Entities)\n",
        "\n",
        "\"\"\"\n",
        "result = conn.query(explore_reviews_csv_query)\n",
        "print(result)"
      ]
    },
    {
      "cell_type": "code",
      "execution_count": 835,
      "metadata": {
        "id": "LUjBZi75bR08",
        "colab": {
          "base_uri": "https://localhost:8080/"
        },
        "outputId": "d0665e03-04a7-48fb-b333-e72b38427498"
      },
      "outputs": [
        {
          "output_type": "stream",
          "name": "stdout",
          "text": [
            "[]\n"
          ]
        }
      ],
      "source": [
        "explore_reviews_csv_query = \"\"\"\n",
        "MERGE (cwedata:Extended_Descriptions {runtime: 833})\n",
        "MERGE (Entities:Entities {rawName: \"control flow\"})\n",
        "MERGE (cwedata)-[:HAS_ENTITY]->(Entities)\n",
        "\n",
        "\"\"\"\n",
        "result = conn.query(explore_reviews_csv_query)\n",
        "print(result)"
      ]
    },
    {
      "cell_type": "code",
      "execution_count": 836,
      "metadata": {
        "id": "CPVz-IYoijva",
        "colab": {
          "base_uri": "https://localhost:8080/"
        },
        "outputId": "6b6c41f9-5d88-4b8e-ccd9-e3e626a68f05"
      },
      "outputs": [
        {
          "output_type": "stream",
          "name": "stdout",
          "text": [
            "[]\n"
          ]
        }
      ],
      "source": [
        "explore_reviews_csv_query = \"\"\"\n",
        "MERGE (cwedata:Extended_Descriptions {runtime: 833})\n",
        "MERGE (Entities:Entities {rawName: \"alteration\"})\n",
        "MERGE (cwedata)-[:HAS_ENTITY]->(Entities)\n",
        "\n",
        "\"\"\"\n",
        "result = conn.query(explore_reviews_csv_query)\n",
        "print(result)"
      ]
    },
    {
      "cell_type": "code",
      "execution_count": 837,
      "metadata": {
        "id": "fa6GjVdAijsE",
        "colab": {
          "base_uri": "https://localhost:8080/"
        },
        "outputId": "5e4d67b3-2efd-49c1-9b4e-f158da7862fd"
      },
      "outputs": [
        {
          "output_type": "stream",
          "name": "stdout",
          "text": [
            "[]\n"
          ]
        }
      ],
      "source": [
        "explore_reviews_csv_query = \"\"\"\n",
        "MERGE (cwedata:Extended_Descriptions {runtime: 833})\n",
        "MERGE (Entities:Entities {rawName: \"arbitrary code execution\"})\n",
        "MERGE (cwedata)-[:HAS_ENTITY]->(Entities)\n",
        "\n",
        "\"\"\"\n",
        "result = conn.query(explore_reviews_csv_query)\n",
        "print(result)"
      ]
    },
    {
      "cell_type": "code",
      "execution_count": 838,
      "metadata": {
        "id": "9mGZ5SmDijo-",
        "colab": {
          "base_uri": "https://localhost:8080/"
        },
        "outputId": "fe78ede2-fefc-4d24-deba-e90aa252f83f"
      },
      "outputs": [
        {
          "output_type": "stream",
          "name": "stdout",
          "text": [
            "[]\n"
          ]
        }
      ],
      "source": [
        "explore_reviews_csv_query = \"\"\"\n",
        "MERGE (cwedata:Extended_Descriptions {runtime: 833})\n",
        "MERGE (Entities:Entities {rawName: \"Injection\"})\n",
        "MERGE (cwedata)-[:HAS_ENTITY]->(Entities)\n",
        "\n",
        "\"\"\"\n",
        "result = conn.query(explore_reviews_csv_query)\n",
        "print(result)"
      ]
    },
    {
      "cell_type": "code",
      "execution_count": 839,
      "metadata": {
        "id": "esTBbvRaijmJ",
        "colab": {
          "base_uri": "https://localhost:8080/"
        },
        "outputId": "8490344a-f513-4d44-d250-d788153a60e0"
      },
      "outputs": [
        {
          "output_type": "stream",
          "name": "stdout",
          "text": [
            "[]\n"
          ]
        }
      ],
      "source": [
        "explore_reviews_csv_query = \"\"\"\n",
        "MERGE (cwedata:Extended_Descriptions {runtime: 833})\n",
        "MERGE (Entities:Entities {rawName: \"wide variety\"})\n",
        "MERGE (cwedata)-[:HAS_ENTITY]->(Entities)\n",
        "\n",
        "\"\"\"\n",
        "result = conn.query(explore_reviews_csv_query)\n",
        "print(result)"
      ]
    },
    {
      "cell_type": "code",
      "execution_count": 840,
      "metadata": {
        "id": "7U9hs8VUijiz",
        "colab": {
          "base_uri": "https://localhost:8080/"
        },
        "outputId": "6546661d-56fa-4484-d22f-57efef1f18df"
      },
      "outputs": [
        {
          "output_type": "stream",
          "name": "stdout",
          "text": [
            "[]\n"
          ]
        }
      ],
      "source": [
        "explore_reviews_csv_query = \"\"\"\n",
        "MERGE (cwedata:Extended_Descriptions {runtime: 833})\n",
        "MERGE (Entities:Entities {rawName: \"mitigated\"})\n",
        "MERGE (cwedata)-[:HAS_ENTITY]->(Entities)\n",
        "\n",
        "\"\"\"\n",
        "result = conn.query(explore_reviews_csv_query)\n",
        "print(result)"
      ]
    },
    {
      "cell_type": "code",
      "execution_count": 841,
      "metadata": {
        "id": "HKiVd7DhijgI",
        "colab": {
          "base_uri": "https://localhost:8080/"
        },
        "outputId": "0b27f28c-7a42-4ebb-a640-5f85b2c7c1ac"
      },
      "outputs": [
        {
          "output_type": "stream",
          "name": "stdout",
          "text": [
            "[]\n"
          ]
        }
      ],
      "source": [
        "explore_reviews_csv_query = \"\"\"\n",
        "MERGE (cwedata:Extended_Descriptions {runtime: 833})\n",
        "MERGE (Entities:Entities {rawName: \"weaknesses\"})\n",
        "MERGE (cwedata)-[:HAS_ENTITY]->(Entities)\n",
        "\n",
        "\"\"\"\n",
        "result = conn.query(explore_reviews_csv_query)\n",
        "print(result)"
      ]
    },
    {
      "cell_type": "code",
      "execution_count": 842,
      "metadata": {
        "id": "qvnuconcijcu",
        "colab": {
          "base_uri": "https://localhost:8080/"
        },
        "outputId": "6e909fde-b38a-41ce-fad5-83630d291b9b"
      },
      "outputs": [
        {
          "output_type": "stream",
          "name": "stdout",
          "text": [
            "[]\n"
          ]
        }
      ],
      "source": [
        "explore_reviews_csv_query = \"\"\"\n",
        "MERGE (cwedata:Extended_Descriptions {runtime: 833})\n",
        "MERGE (Entities:Entities {rawName: \"classify\"})\n",
        "MERGE (cwedata)-[:HAS_ENTITY]->(Entities)\n",
        "\n",
        "\"\"\"\n",
        "result = conn.query(explore_reviews_csv_query)\n",
        "print(result)"
      ]
    },
    {
      "cell_type": "code",
      "execution_count": 843,
      "metadata": {
        "id": "wA-y3JQgijX6",
        "colab": {
          "base_uri": "https://localhost:8080/"
        },
        "outputId": "8a0412c7-03d8-4af7-f569-dfbe27b23444"
      },
      "outputs": [
        {
          "output_type": "stream",
          "name": "stdout",
          "text": [
            "[]\n"
          ]
        }
      ],
      "source": [
        "explore_reviews_csv_query = \"\"\"\n",
        "MERGE (cwedata:Extended_Descriptions {runtime: 833})\n",
        "MERGE (Entities:Entities {rawName: \"injection\"})\n",
        "MERGE (cwedata)-[:HAS_ENTITY]->(Entities)\n",
        "\n",
        "\"\"\"\n",
        "result = conn.query(explore_reviews_csv_query)\n",
        "print(result)"
      ]
    },
    {
      "cell_type": "code",
      "execution_count": 844,
      "metadata": {
        "id": "vFVgzkyeijVQ",
        "colab": {
          "base_uri": "https://localhost:8080/"
        },
        "outputId": "f9f69027-39b1-45c5-beaf-f0e4893c40f1"
      },
      "outputs": [
        {
          "output_type": "stream",
          "name": "stdout",
          "text": [
            "[]\n"
          ]
        }
      ],
      "source": [
        "explore_reviews_csv_query = \"\"\"\n",
        "MERGE (cwedata:Extended_Descriptions {runtime: 833})\n",
        "MERGE (Entities:Entities {rawName: \"control plane\"})\n",
        "MERGE (cwedata)-[:HAS_ENTITY]->(Entities)\n",
        "\n",
        "\"\"\"\n",
        "result = conn.query(explore_reviews_csv_query)\n",
        "print(result)"
      ]
    },
    {
      "cell_type": "code",
      "execution_count": 845,
      "metadata": {
        "id": "wwvew0ZIijSn",
        "colab": {
          "base_uri": "https://localhost:8080/"
        },
        "outputId": "cfb1d345-91cb-41ee-9969-702dfb7da640"
      },
      "outputs": [
        {
          "output_type": "stream",
          "name": "stdout",
          "text": [
            "[]\n"
          ]
        }
      ],
      "source": [
        "explore_reviews_csv_query = \"\"\"\n",
        "MERGE (cwedata:Extended_Descriptions {runtime: 833})\n",
        "MERGE (Entities:Entities {rawName: \"controlled data\"})\n",
        "MERGE (cwedata)-[:HAS_ENTITY]->(Entities)\n",
        "\n",
        "\"\"\"\n",
        "result = conn.query(explore_reviews_csv_query)\n",
        "print(result)"
      ]
    },
    {
      "cell_type": "code",
      "execution_count": 846,
      "metadata": {
        "id": "kYx-6eSiijPV",
        "colab": {
          "base_uri": "https://localhost:8080/"
        },
        "outputId": "82372373-bb91-428b-f431-63e29e93b92b"
      },
      "outputs": [
        {
          "output_type": "stream",
          "name": "stdout",
          "text": [
            "[]\n"
          ]
        }
      ],
      "source": [
        "explore_reviews_csv_query = \"\"\"\n",
        "MERGE (cwedata:Extended_Descriptions {runtime: 833})\n",
        "MERGE (Entities:Entities {rawName: \"data channels\"})\n",
        "MERGE (cwedata)-[:HAS_ENTITY]->(Entities)\n",
        "\n",
        "\"\"\"\n",
        "result = conn.query(explore_reviews_csv_query)\n",
        "print(result)"
      ]
    },
    {
      "cell_type": "code",
      "execution_count": 847,
      "metadata": {
        "id": "1OHqXds_ijMA",
        "colab": {
          "base_uri": "https://localhost:8080/"
        },
        "outputId": "4888a630-3e66-45f3-d6c7-61f66ed62b47"
      },
      "outputs": [
        {
          "output_type": "stream",
          "name": "stdout",
          "text": [
            "[]\n"
          ]
        }
      ],
      "source": [
        "explore_reviews_csv_query = \"\"\"\n",
        "MERGE (cwedata:Extended_Descriptions {runtime: 833})\n",
        "MERGE (Entities:Entities {rawName: \"buffer overflows\"})\n",
        "MERGE (cwedata)-[:HAS_ENTITY]->(Entities)\n",
        "\n",
        "\"\"\"\n",
        "result = conn.query(explore_reviews_csv_query)\n",
        "print(result)"
      ]
    },
    {
      "cell_type": "code",
      "execution_count": 848,
      "metadata": {
        "id": "JDAiRDkVbRk8",
        "colab": {
          "base_uri": "https://localhost:8080/"
        },
        "outputId": "8c382930-1a28-49a1-bc4a-85919c15044e"
      },
      "outputs": [
        {
          "output_type": "stream",
          "name": "stdout",
          "text": [
            "[]\n"
          ]
        }
      ],
      "source": [
        "explore_reviews_csv_query = \"\"\"\n",
        "MERGE (cwedata:Extended_Descriptions {runtime: 833})\n",
        "MERGE (Entities:Entities {rawName: \"flaws\"})\n",
        "MERGE (cwedata)-[:HAS_ENTITY]->(Entities)\n",
        "\n",
        "\"\"\"\n",
        "result = conn.query(explore_reviews_csv_query)\n",
        "print(result)"
      ]
    },
    {
      "cell_type": "code",
      "execution_count": 849,
      "metadata": {
        "id": "FHLNbMk6lew2",
        "colab": {
          "base_uri": "https://localhost:8080/"
        },
        "outputId": "b17488f1-041b-4dad-f69f-5b2b63dcb4e7"
      },
      "outputs": [
        {
          "output_type": "stream",
          "name": "stdout",
          "text": [
            "[]\n"
          ]
        }
      ],
      "source": [
        "explore_reviews_csv_query = \"\"\"\n",
        "MERGE (cwedata:Extended_Descriptions {runtime: 833})\n",
        "MERGE (Entities:Entities {rawName: \"parsed\"})\n",
        "MERGE (cwedata)-[:HAS_ENTITY]->(Entities)\n",
        "\n",
        "\"\"\"\n",
        "result = conn.query(explore_reviews_csv_query)\n",
        "print(result)"
      ]
    },
    {
      "cell_type": "code",
      "execution_count": 850,
      "metadata": {
        "id": "Q8WqqdT3lmSD",
        "colab": {
          "base_uri": "https://localhost:8080/"
        },
        "outputId": "1b4c67f8-7a7e-4d2a-cdce-30857f613bcd"
      },
      "outputs": [
        {
          "output_type": "stream",
          "name": "stdout",
          "text": [
            "[]\n"
          ]
        }
      ],
      "source": [
        "explore_reviews_csv_query = \"\"\"\n",
        "MERGE (cwedata:Extended_Descriptions {runtime: 833})\n",
        "MERGE (Entities:Entities {rawName: \"instantiations\"})\n",
        "MERGE (cwedata)-[:HAS_ENTITY]->(Entities)\n",
        "\n",
        "\"\"\"\n",
        "result = conn.query(explore_reviews_csv_query)\n",
        "print(result)"
      ]
    },
    {
      "cell_type": "code",
      "execution_count": 851,
      "metadata": {
        "id": "_1IxmXG2lmDb",
        "colab": {
          "base_uri": "https://localhost:8080/"
        },
        "outputId": "f2cc4280-66ae-48a7-d2dc-3ad3550142ea"
      },
      "outputs": [
        {
          "output_type": "stream",
          "name": "stdout",
          "text": [
            "[]\n"
          ]
        }
      ],
      "source": [
        "explore_reviews_csv_query = \"\"\"\n",
        "MERGE (cwedata:Extended_Descriptions {runtime: 833})\n",
        "MERGE (Entities:Entities {rawName: \"SQL injection\"})\n",
        "MERGE (cwedata)-[:HAS_ENTITY]->(Entities)\n",
        "\n",
        "\"\"\"\n",
        "result = conn.query(explore_reviews_csv_query)\n",
        "print(result)"
      ]
    },
    {
      "cell_type": "code",
      "execution_count": 852,
      "metadata": {
        "id": "7kxNzBnrll2X",
        "colab": {
          "base_uri": "https://localhost:8080/"
        },
        "outputId": "e95b0e85-91b4-4024-940d-d451c7b42385"
      },
      "outputs": [
        {
          "output_type": "stream",
          "name": "stdout",
          "text": [
            "[]\n"
          ]
        }
      ],
      "source": [
        "explore_reviews_csv_query = \"\"\"\n",
        "MERGE (cwedata:Extended_Descriptions {runtime: 833})\n",
        "MERGE (Entities:Entities {rawName: \"format string vulnerabilities\"})\n",
        "MERGE (cwedata)-[:HAS_ENTITY]->(Entities)\n",
        "\n",
        "\"\"\"\n",
        "result = conn.query(explore_reviews_csv_query)\n",
        "print(result)"
      ]
    },
    {
      "cell_type": "code",
      "execution_count": 853,
      "metadata": {
        "id": "x6kQFPSkqo2q",
        "colab": {
          "base_uri": "https://localhost:8080/"
        },
        "outputId": "7495f22e-00b2-4986-d1bb-1e113524fa32"
      },
      "outputs": [
        {
          "output_type": "stream",
          "name": "stdout",
          "text": [
            "[]\n"
          ]
        }
      ],
      "source": [
        "explore_reviews_csv_query = \"\"\"\n",
        "MERGE (cwe:CWE {cwe_id:\"200\"})\n",
        "MERGE (cwedata:Extended_Descriptions {runtime:1302})\n",
        "MERGE (cwe)-[:MAPPED_WITH]->(cwedata)\n",
        "MERGE (cwedata)-[:HAS_GLOBAL_CATEGORY{weight:0.009935460988123061,source:\"wikipedia-en\",category:\"Construction\",page_id:755979}]->(cwe)\n",
        "MERGE (cwedata)-[:HAS_GLOBAL_CATEGORY{weight:0.009935460988123061,source:\"wikipedia-en\",category:\"File sharing\",page_id:802056}]->(cwe)\n",
        "\n",
        "\"\"\"\n",
        "result = conn.query(explore_reviews_csv_query)\n",
        "print(result)"
      ]
    },
    {
      "cell_type": "code",
      "execution_count": 854,
      "metadata": {
        "id": "oC33BGS3IXRe",
        "colab": {
          "base_uri": "https://localhost:8080/"
        },
        "outputId": "59b0789f-053d-4442-8e6a-2173d4517eca"
      },
      "outputs": [
        {
          "output_type": "stream",
          "name": "stdout",
          "text": [
            "[]\n"
          ]
        }
      ],
      "source": [
        "explore_reviews_csv_query = \"\"\"\n",
        "CALL apoc.load.json(\"https://raw.githubusercontent.com/neostrange/CveParse/main/Extended_Descriptions.json\", null, {failOnError:false})\n",
        "YIELD value\n",
        "WITH value  AS data\n",
        "WITH data\n",
        "UNWIND data.Extended_Descriptions[3].CWE.entities as Entities\n",
        "MERGE (entities:Entities{rawName:Entities.`rawName`})\n",
        "  SET \n",
        "   entities.offsetStart = Entities.offsetStart,\n",
        "   entities.offsetEnd = Entities.offsetEnd,\n",
        "   entities.confidence_score = Entities.confidence_score,\n",
        "   entities.wikipediaExternalRef = Entities.wikipediaExternalRef,\n",
        "   entities.wikidataId = Entities.wikidataId\n",
        "\n",
        "\"\"\"\n",
        "result = conn.query(explore_reviews_csv_query)\n",
        "print(result)"
      ]
    },
    {
      "cell_type": "code",
      "execution_count": 855,
      "metadata": {
        "id": "RyJp_yHxba7l",
        "colab": {
          "base_uri": "https://localhost:8080/"
        },
        "outputId": "253a3555-0614-4352-ae84-d8bd5d4493d2"
      },
      "outputs": [
        {
          "output_type": "stream",
          "name": "stdout",
          "text": [
            "[]\n"
          ]
        }
      ],
      "source": [
        "explore_reviews_csv_query = \"\"\"\n",
        "MERGE (cwedata:Extended_Descriptions {runtime: 1302})\n",
        "MERGE (Entities:Entities {rawName: \"exposures\"})\n",
        "MERGE (cwedata)-[:HAS_ENTITY]->(Entities)\n",
        "\n",
        "\"\"\"\n",
        "result = conn.query(explore_reviews_csv_query)\n",
        "print(result)"
      ]
    },
    {
      "cell_type": "code",
      "execution_count": 856,
      "metadata": {
        "id": "_N-LpVIobaiI",
        "colab": {
          "base_uri": "https://localhost:8080/"
        },
        "outputId": "4c87bb01-1bf5-4f42-9767-c5edf6ade62a"
      },
      "outputs": [
        {
          "output_type": "stream",
          "name": "stdout",
          "text": [
            "[]\n"
          ]
        }
      ],
      "source": [
        "explore_reviews_csv_query = \"\"\"\n",
        "MERGE (cwedata:Extended_Descriptions {runtime: 1302})\n",
        "MERGE (Entities:Entities {rawName: \"severity\"})\n",
        "MERGE (cwedata)-[:HAS_ENTITY]->(Entities)\n",
        "\n",
        "\"\"\"\n",
        "result = conn.query(explore_reviews_csv_query)\n",
        "print(result)"
      ]
    },
    {
      "cell_type": "code",
      "execution_count": 857,
      "metadata": {
        "id": "1hQ8eblqoe9M",
        "colab": {
          "base_uri": "https://localhost:8080/"
        },
        "outputId": "1e9b13f4-a534-4ee7-8108-524eb79bb313"
      },
      "outputs": [
        {
          "output_type": "stream",
          "name": "stdout",
          "text": [
            "[]\n"
          ]
        }
      ],
      "source": [
        "explore_reviews_csv_query = \"\"\"\n",
        "MERGE (cwedata:Extended_Descriptions {runtime: 1302})\n",
        "MERGE (Entities:Entities {rawName: \"sensitive information\"})\n",
        "MERGE (cwedata)-[:HAS_ENTITY]->(Entities)\n",
        "\n",
        "\"\"\"\n",
        "result = conn.query(explore_reviews_csv_query)\n",
        "print(result)"
      ]
    },
    {
      "cell_type": "code",
      "execution_count": 858,
      "metadata": {
        "id": "cVIxBK7Eoe1t",
        "colab": {
          "base_uri": "https://localhost:8080/"
        },
        "outputId": "3685abdd-d5de-474f-bd9c-fad3498c85d9"
      },
      "outputs": [
        {
          "output_type": "stream",
          "name": "stdout",
          "text": [
            "[]\n"
          ]
        }
      ],
      "source": [
        "explore_reviews_csv_query = \"\"\"\n",
        "MERGE (cwedata:Extended_Descriptions {runtime: 1302})\n",
        "MERGE (Entities:Entities {rawName: \"attacker\"})\n",
        "MERGE (cwedata)-[:HAS_ENTITY]->(Entities)\n",
        "\n",
        "\"\"\"\n",
        "result = conn.query(explore_reviews_csv_query)\n",
        "print(result)"
      ]
    },
    {
      "cell_type": "code",
      "execution_count": 859,
      "metadata": {
        "id": "xC1II70eoe5V",
        "colab": {
          "base_uri": "https://localhost:8080/"
        },
        "outputId": "15dad458-6b20-44e8-cdd5-2d085bfa7100"
      },
      "outputs": [
        {
          "output_type": "stream",
          "name": "stdout",
          "text": [
            "[]\n"
          ]
        }
      ],
      "source": [
        "explore_reviews_csv_query = \"\"\"\n",
        "MERGE (cwedata:Extended_Descriptions {runtime: 1302})\n",
        "MERGE (Entities:Entities {rawName: \"personal information\"})\n",
        "MERGE (cwedata)-[:HAS_ENTITY]->(Entities)\n",
        "\n",
        "\"\"\"\n",
        "result = conn.query(explore_reviews_csv_query)\n",
        "print(result)"
      ]
    },
    {
      "cell_type": "code",
      "execution_count": 860,
      "metadata": {
        "id": "sjHoBtkvoexu",
        "colab": {
          "base_uri": "https://localhost:8080/"
        },
        "outputId": "9671785e-0f8e-4f28-d6c6-9a3eaa5d9a68"
      },
      "outputs": [
        {
          "output_type": "stream",
          "name": "stdout",
          "text": [
            "[]\n"
          ]
        }
      ],
      "source": [
        "explore_reviews_csv_query = \"\"\"\n",
        "MERGE (cwedata:Extended_Descriptions {runtime: 1302})\n",
        "MERGE (Entities:Entities {rawName: \"personal messages\"})\n",
        "MERGE (cwedata)-[:HAS_ENTITY]->(Entities)\n",
        "\n",
        "\"\"\"\n",
        "result = conn.query(explore_reviews_csv_query)\n",
        "print(result)"
      ]
    },
    {
      "cell_type": "code",
      "execution_count": 861,
      "metadata": {
        "id": "kElQ8kvLoeuR",
        "colab": {
          "base_uri": "https://localhost:8080/"
        },
        "outputId": "95b4d072-5904-4662-e6f2-6d4237a12aa3"
      },
      "outputs": [
        {
          "output_type": "stream",
          "name": "stdout",
          "text": [
            "[]\n"
          ]
        }
      ],
      "source": [
        "explore_reviews_csv_query = \"\"\"\n",
        "MERGE (cwedata:Extended_Descriptions {runtime: 1302})\n",
        "MERGE (Entities:Entities {rawName: \"financial data\"})\n",
        "MERGE (cwedata)-[:HAS_ENTITY]->(Entities)\n",
        "\n",
        "\"\"\"\n",
        "result = conn.query(explore_reviews_csv_query)\n",
        "print(result)"
      ]
    },
    {
      "cell_type": "code",
      "execution_count": 862,
      "metadata": {
        "id": "-P-J86weoerH",
        "colab": {
          "base_uri": "https://localhost:8080/"
        },
        "outputId": "e61f7d38-2934-4197-9d36-525fa72cf3c9"
      },
      "outputs": [
        {
          "output_type": "stream",
          "name": "stdout",
          "text": [
            "[]\n"
          ]
        }
      ],
      "source": [
        "explore_reviews_csv_query = \"\"\"\n",
        "MERGE (cwedata:Extended_Descriptions {runtime: 1302})\n",
        "MERGE (Entities:Entities {rawName: \"health records\"})\n",
        "MERGE (cwedata)-[:HAS_ENTITY]->(Entities)\n",
        "\n",
        "\"\"\"\n",
        "result = conn.query(explore_reviews_csv_query)\n",
        "print(result)"
      ]
    },
    {
      "cell_type": "code",
      "execution_count": 863,
      "metadata": {
        "id": "s7sMokXyoen9",
        "colab": {
          "base_uri": "https://localhost:8080/"
        },
        "outputId": "e3ffdb59-2597-43b5-e2b8-521440362034"
      },
      "outputs": [
        {
          "output_type": "stream",
          "name": "stdout",
          "text": [
            "[]\n"
          ]
        }
      ],
      "source": [
        "explore_reviews_csv_query = \"\"\"\n",
        "MERGE (cwedata:Extended_Descriptions {runtime: 1302})\n",
        "MERGE (Entities:Entities {rawName: \"geographic location\"})\n",
        "MERGE (cwedata)-[:HAS_ENTITY]->(Entities)\n",
        "\n",
        "\"\"\"\n",
        "result = conn.query(explore_reviews_csv_query)\n",
        "print(result)"
      ]
    },
    {
      "cell_type": "code",
      "execution_count": 864,
      "metadata": {
        "id": "Sx7GCwZkoekk",
        "colab": {
          "base_uri": "https://localhost:8080/"
        },
        "outputId": "01ffb8b8-1c3c-4db4-f5c3-624bcb02d302"
      },
      "outputs": [
        {
          "output_type": "stream",
          "name": "stdout",
          "text": [
            "[]\n"
          ]
        }
      ],
      "source": [
        "explore_reviews_csv_query = \"\"\"\n",
        "MERGE (cwedata:Extended_Descriptions {runtime: 1302})\n",
        "MERGE (Entities:Entities {rawName: \"contact details\"})\n",
        "MERGE (cwedata)-[:HAS_ENTITY]->(Entities)\n",
        "\n",
        "\"\"\"\n",
        "result = conn.query(explore_reviews_csv_query)\n",
        "print(result)"
      ]
    },
    {
      "cell_type": "code",
      "execution_count": 865,
      "metadata": {
        "id": "1TDSVpjYoee4",
        "colab": {
          "base_uri": "https://localhost:8080/"
        },
        "outputId": "ae3af365-c156-490a-f178-8e35974736f0"
      },
      "outputs": [
        {
          "output_type": "stream",
          "name": "stdout",
          "text": [
            "[]\n"
          ]
        }
      ],
      "source": [
        "explore_reviews_csv_query = \"\"\"\n",
        "MERGE (cwedata:Extended_Descriptions {runtime: 1302})\n",
        "MERGE (Entities:Entities {rawName: \"packages\"})\n",
        "MERGE (cwedata)-[:HAS_ENTITY]->(Entities)\n",
        "\n",
        "\"\"\"\n",
        "result = conn.query(explore_reviews_csv_query)\n",
        "print(result)"
      ]
    },
    {
      "cell_type": "code",
      "execution_count": 866,
      "metadata": {
        "id": "CFL2Tmtjoebs",
        "colab": {
          "base_uri": "https://localhost:8080/"
        },
        "outputId": "8f0d2e09-0e8f-4c7a-ab02-3c8ec3ae257d"
      },
      "outputs": [
        {
          "output_type": "stream",
          "name": "stdout",
          "text": [
            "[]\n"
          ]
        }
      ],
      "source": [
        "explore_reviews_csv_query = \"\"\"\n",
        "MERGE (cwedata:Extended_Descriptions {runtime: 1302})\n",
        "MERGE (Entities:Entities {rawName: \"intellectual property\"})\n",
        "MERGE (cwedata)-[:HAS_ENTITY]->(Entities)\n",
        "\n",
        "\"\"\"\n",
        "result = conn.query(explore_reviews_csv_query)\n",
        "print(result)"
      ]
    },
    {
      "cell_type": "code",
      "execution_count": 867,
      "metadata": {
        "id": "AazvA0lToeVv",
        "colab": {
          "base_uri": "https://localhost:8080/"
        },
        "outputId": "9715fd12-12ea-4ee9-ccf7-586f3a99629e"
      },
      "outputs": [
        {
          "output_type": "stream",
          "name": "stdout",
          "text": [
            "[]\n"
          ]
        }
      ],
      "source": [
        "explore_reviews_csv_query = \"\"\"\n",
        "MERGE (cwedata:Extended_Descriptions {runtime: 1302})\n",
        "MERGE (Entities:Entities {rawName: \"configuration\"})\n",
        "MERGE (cwedata)-[:HAS_ENTITY]->(Entities)\n",
        "\n",
        "\"\"\"\n",
        "result = conn.query(explore_reviews_csv_query)\n",
        "print(result)"
      ]
    },
    {
      "cell_type": "code",
      "execution_count": 868,
      "metadata": {
        "id": "mMTxkUAPoeSZ",
        "colab": {
          "base_uri": "https://localhost:8080/"
        },
        "outputId": "3608dcae-2806-4cd9-bf21-1bc3a8f518a0"
      },
      "outputs": [
        {
          "output_type": "stream",
          "name": "stdout",
          "text": [
            "[]\n"
          ]
        }
      ],
      "source": [
        "explore_reviews_csv_query = \"\"\"\n",
        "MERGE (cwedata:Extended_Descriptions {runtime: 1302})\n",
        "MERGE (Entities:Entities {rawName: \"internal state\"})\n",
        "MERGE (cwedata)-[:HAS_ENTITY]->(Entities)\n",
        "\n",
        "\"\"\"\n",
        "result = conn.query(explore_reviews_csv_query)\n",
        "print(result)"
      ]
    },
    {
      "cell_type": "code",
      "execution_count": 869,
      "metadata": {
        "id": "HxVs1oOXbaEJ",
        "colab": {
          "base_uri": "https://localhost:8080/"
        },
        "outputId": "abd0ce62-555c-4a2a-883e-d884d8a96ad0"
      },
      "outputs": [
        {
          "output_type": "stream",
          "name": "stdout",
          "text": [
            "[]\n"
          ]
        }
      ],
      "source": [
        "explore_reviews_csv_query = \"\"\"\n",
        "MERGE (cwedata:Extended_Descriptions {runtime: 1302})\n",
        "MERGE (Entities:Entities {rawName: \"metadata\"})\n",
        "MERGE (cwedata)-[:HAS_ENTITY]->(Entities)\n",
        "\n",
        "\"\"\"\n",
        "result = conn.query(explore_reviews_csv_query)\n",
        "print(result)"
      ]
    },
    {
      "cell_type": "code",
      "execution_count": 870,
      "metadata": {
        "id": "PLPHZQLp7MeG",
        "colab": {
          "base_uri": "https://localhost:8080/"
        },
        "outputId": "b0b09bf5-0215-4f06-f3c3-d91465621086"
      },
      "outputs": [
        {
          "output_type": "stream",
          "name": "stdout",
          "text": [
            "[]\n"
          ]
        }
      ],
      "source": [
        "explore_reviews_csv_query = \"\"\"\n",
        "MERGE (cwedata:Extended_Descriptions {runtime: 1302})\n",
        "MERGE (Entities:Entities {rawName: \"logging\"})\n",
        "MERGE (cwedata)-[:HAS_ENTITY]->(Entities)\n",
        "\n",
        "\"\"\"\n",
        "result = conn.query(explore_reviews_csv_query)\n",
        "print(result)"
      ]
    },
    {
      "cell_type": "code",
      "execution_count": 871,
      "metadata": {
        "id": "YDB6cN7B7MTy",
        "colab": {
          "base_uri": "https://localhost:8080/"
        },
        "outputId": "d5d1485b-8f26-43c7-e19d-1680f5628923"
      },
      "outputs": [
        {
          "output_type": "stream",
          "name": "stdout",
          "text": [
            "[]\n"
          ]
        }
      ],
      "source": [
        "explore_reviews_csv_query = \"\"\"\n",
        "MERGE (cwedata:Extended_Descriptions {runtime: 1302})\n",
        "MERGE (Entities:Entities {rawName: \"headers\"})\n",
        "MERGE (cwedata)-[:HAS_ENTITY]->(Entities)\n",
        "\n",
        "\"\"\"\n",
        "result = conn.query(explore_reviews_csv_query)\n",
        "print(result)"
      ]
    },
    {
      "cell_type": "code",
      "execution_count": 872,
      "metadata": {
        "id": "yniJxPEp7MJG",
        "colab": {
          "base_uri": "https://localhost:8080/"
        },
        "outputId": "14508ccb-aea7-4170-8c4c-0d5f7d28fe8d"
      },
      "outputs": [
        {
          "output_type": "stream",
          "name": "stdout",
          "text": [
            "[]\n"
          ]
        }
      ],
      "source": [
        "explore_reviews_csv_query = \"\"\"\n",
        "MERGE (cwedata:Extended_Descriptions {runtime: 1302})\n",
        "MERGE (Entities:Entities {rawName: \"indirect\"})\n",
        "MERGE (cwedata)-[:HAS_ENTITY]->(Entities)\n",
        "\n",
        "\"\"\"\n",
        "result = conn.query(explore_reviews_csv_query)\n",
        "print(result)"
      ]
    },
    {
      "cell_type": "code",
      "execution_count": 873,
      "metadata": {
        "id": "CZTQOxt97MAF",
        "colab": {
          "base_uri": "https://localhost:8080/"
        },
        "outputId": "93bb30d8-be7d-49ae-98d9-c28ab9376de8"
      },
      "outputs": [
        {
          "output_type": "stream",
          "name": "stdout",
          "text": [
            "[]\n"
          ]
        }
      ],
      "source": [
        "explore_reviews_csv_query = \"\"\"\n",
        "MERGE (cwedata:Extended_Descriptions {runtime: 1302})\n",
        "MERGE (Entities:Entities {rawName: \"discrepancy\"})\n",
        "MERGE (cwedata)-[:HAS_ENTITY]->(Entities)\n",
        "\n",
        "\"\"\"\n",
        "result = conn.query(explore_reviews_csv_query)\n",
        "print(result)"
      ]
    },
    {
      "cell_type": "code",
      "execution_count": 874,
      "metadata": {
        "id": "qoxDMgxh7L2Z",
        "colab": {
          "base_uri": "https://localhost:8080/"
        },
        "outputId": "b6f3784c-28c1-4329-f252-184bd41bc470"
      },
      "outputs": [
        {
          "output_type": "stream",
          "name": "stdout",
          "text": [
            "[]\n"
          ]
        }
      ],
      "source": [
        "explore_reviews_csv_query = \"\"\"\n",
        "MERGE (cwedata:Extended_Descriptions {runtime: 1302})\n",
        "MERGE (Entities:Entities {rawName: \"outsider\"})\n",
        "MERGE (cwedata)-[:HAS_ENTITY]->(Entities)\n",
        "\n",
        "\"\"\"\n",
        "result = conn.query(explore_reviews_csv_query)\n",
        "print(result)"
      ]
    },
    {
      "cell_type": "code",
      "execution_count": 875,
      "metadata": {
        "id": "ZnL0wU2f7LtM",
        "colab": {
          "base_uri": "https://localhost:8080/"
        },
        "outputId": "468291d8-9cf1-4788-b7c9-df3532b84d24"
      },
      "outputs": [
        {
          "output_type": "stream",
          "name": "stdout",
          "text": [
            "[]\n"
          ]
        }
      ],
      "source": [
        "explore_reviews_csv_query = \"\"\"\n",
        "MERGE (cwedata:Extended_Descriptions {runtime: 1302})\n",
        "MERGE (Entities:Entities {rawName: \"Information\"})\n",
        "MERGE (cwedata)-[:HAS_ENTITY]->(Entities)\n",
        "\n",
        "\"\"\"\n",
        "result = conn.query(explore_reviews_csv_query)\n",
        "print(result)"
      ]
    },
    {
      "cell_type": "code",
      "execution_count": 876,
      "metadata": {
        "id": "rN_WGsGs7LkQ",
        "colab": {
          "base_uri": "https://localhost:8080/"
        },
        "outputId": "e9cdea8a-12e9-431e-dee8-f0588eb2dc0a"
      },
      "outputs": [
        {
          "output_type": "stream",
          "name": "stdout",
          "text": [
            "[]\n"
          ]
        }
      ],
      "source": [
        "explore_reviews_csv_query = \"\"\"\n",
        "MERGE (cwedata:Extended_Descriptions {runtime: 1302})\n",
        "MERGE (Entities:Entities {rawName: \"direct product\"})\n",
        "MERGE (cwedata)-[:HAS_ENTITY]->(Entities)\n",
        "\n",
        "\"\"\"\n",
        "result = conn.query(explore_reviews_csv_query)\n",
        "print(result)"
      ]
    },
    {
      "cell_type": "code",
      "execution_count": 877,
      "metadata": {
        "id": "kmsseapt7LbB",
        "colab": {
          "base_uri": "https://localhost:8080/"
        },
        "outputId": "113b3b28-5115-405d-9a9c-29ae33f7c8c0"
      },
      "outputs": [
        {
          "output_type": "stream",
          "name": "stdout",
          "text": [
            "[]\n"
          ]
        }
      ],
      "source": [
        "explore_reviews_csv_query = \"\"\"\n",
        "MERGE (cwedata:Extended_Descriptions {runtime: 1302})\n",
        "MERGE (Entities:Entities {rawName: \"administrators\"})\n",
        "MERGE (cwedata)-[:HAS_ENTITY]->(Entities)\n",
        "\n",
        "\"\"\"\n",
        "result = conn.query(explore_reviews_csv_query)\n",
        "print(result)"
      ]
    },
    {
      "cell_type": "code",
      "execution_count": 878,
      "metadata": {
        "id": "CjOv-9Tw7LS8",
        "colab": {
          "base_uri": "https://localhost:8080/"
        },
        "outputId": "e7273458-e0d2-4ad4-d03b-c43858862d05"
      },
      "outputs": [
        {
          "output_type": "stream",
          "name": "stdout",
          "text": [
            "[]\n"
          ]
        }
      ],
      "source": [
        "explore_reviews_csv_query = \"\"\"\n",
        "MERGE (cwedata:Extended_Descriptions {runtime: 1302})\n",
        "MERGE (Entities:Entities {rawName: \"admins\"})\n",
        "MERGE (cwedata)-[:HAS_ENTITY]->(Entities)\n",
        "\n",
        "\"\"\"\n",
        "result = conn.query(explore_reviews_csv_query)\n",
        "print(result)"
      ]
    },
    {
      "cell_type": "code",
      "execution_count": 879,
      "metadata": {
        "id": "0GDSO-Iv7LKF",
        "colab": {
          "base_uri": "https://localhost:8080/"
        },
        "outputId": "f402c31a-bcbc-403e-9941-d7ebe5a441e0"
      },
      "outputs": [
        {
          "output_type": "stream",
          "name": "stdout",
          "text": [
            "[]\n"
          ]
        }
      ],
      "source": [
        "explore_reviews_csv_query = \"\"\"\n",
        "MERGE (cwedata:Extended_Descriptions {runtime: 1302})\n",
        "MERGE (Entities:Entities {rawName: \"and/or\"})\n",
        "MERGE (cwedata)-[:HAS_ENTITY]->(Entities)\n",
        "\n",
        "\"\"\"\n",
        "result = conn.query(explore_reviews_csv_query)\n",
        "print(result)"
      ]
    },
    {
      "cell_type": "code",
      "execution_count": 880,
      "metadata": {
        "id": "h846zxb-7LCo",
        "colab": {
          "base_uri": "https://localhost:8080/"
        },
        "outputId": "a33d4bea-975e-4337-ae26-0f49a4e91189"
      },
      "outputs": [
        {
          "output_type": "stream",
          "name": "stdout",
          "text": [
            "[]\n"
          ]
        }
      ],
      "source": [
        "explore_reviews_csv_query = \"\"\"\n",
        "MERGE (cwedata:Extended_Descriptions {runtime: 1302})\n",
        "MERGE (Entities:Entities {rawName: \"explicitly\"})\n",
        "MERGE (cwedata)-[:HAS_ENTITY]->(Entities)\n",
        "\n",
        "\"\"\"\n",
        "result = conn.query(explore_reviews_csv_query)\n",
        "print(result)"
      ]
    },
    {
      "cell_type": "code",
      "execution_count": 881,
      "metadata": {
        "id": "0VLN9tm17K6J",
        "colab": {
          "base_uri": "https://localhost:8080/"
        },
        "outputId": "f4ca11d3-ed12-48ce-ed57-191d6ba73d4a"
      },
      "outputs": [
        {
          "output_type": "stream",
          "name": "stdout",
          "text": [
            "[]\n"
          ]
        }
      ],
      "source": [
        "explore_reviews_csv_query = \"\"\"\n",
        "MERGE (cwedata:Extended_Descriptions {runtime: 1302})\n",
        "MERGE (Entities:Entities {rawName: \"inserts\"})\n",
        "MERGE (cwedata)-[:HAS_ENTITY]->(Entities)\n",
        "\n",
        "\"\"\"\n",
        "result = conn.query(explore_reviews_csv_query)\n",
        "print(result)"
      ]
    },
    {
      "cell_type": "code",
      "execution_count": 882,
      "metadata": {
        "id": "8SZMAk4T7Kxk",
        "colab": {
          "base_uri": "https://localhost:8080/"
        },
        "outputId": "fe2b814d-528c-448b-c5a8-c6f8f07c662b"
      },
      "outputs": [
        {
          "output_type": "stream",
          "name": "stdout",
          "text": [
            "[]\n"
          ]
        }
      ],
      "source": [
        "explore_reviews_csv_query = \"\"\"\n",
        "MERGE (cwedata:Extended_Descriptions {runtime: 1302})\n",
        "MERGE (Entities:Entities {rawName: \"unauthorized\"})\n",
        "MERGE (cwedata)-[:HAS_ENTITY]->(Entities)\n",
        "\n",
        "\"\"\"\n",
        "result = conn.query(explore_reviews_csv_query)\n",
        "print(result)"
      ]
    },
    {
      "cell_type": "code",
      "execution_count": 883,
      "metadata": {
        "id": "vBUzHMcT7KpU",
        "colab": {
          "base_uri": "https://localhost:8080/"
        },
        "outputId": "02dffb9c-170f-4e94-ed01-ea465d69511c"
      },
      "outputs": [
        {
          "output_type": "stream",
          "name": "stdout",
          "text": [
            "[]\n"
          ]
        }
      ],
      "source": [
        "explore_reviews_csv_query = \"\"\"\n",
        "MERGE (cwedata:Extended_Descriptions {runtime: 1302})\n",
        "MERGE (Entities:Entities {rawName: \"script error\"})\n",
        "MERGE (cwedata)-[:HAS_ENTITY]->(Entities)\n",
        "\n",
        "\"\"\"\n",
        "result = conn.query(explore_reviews_csv_query)\n",
        "print(result)"
      ]
    },
    {
      "cell_type": "code",
      "execution_count": 884,
      "metadata": {
        "id": "GTBVexkN7KNz",
        "colab": {
          "base_uri": "https://localhost:8080/"
        },
        "outputId": "230cb6e9-3639-4e78-81ee-5544af033f4e"
      },
      "outputs": [
        {
          "output_type": "stream",
          "name": "stdout",
          "text": [
            "[]\n"
          ]
        }
      ],
      "source": [
        "explore_reviews_csv_query = \"\"\"\n",
        "MERGE (cwedata:Extended_Descriptions {runtime: 1302})\n",
        "MERGE (Entities:Entities {rawName: \"revealing\"})\n",
        "MERGE (cwedata)-[:HAS_ENTITY]->(Entities)\n",
        "\n",
        "\"\"\"\n",
        "result = conn.query(explore_reviews_csv_query)\n",
        "print(result)"
      ]
    },
    {
      "cell_type": "code",
      "execution_count": 885,
      "metadata": {
        "id": "CV4URuRiqp0Y",
        "colab": {
          "base_uri": "https://localhost:8080/"
        },
        "outputId": "768587d3-9dce-4c27-bae9-97b15049ce8b"
      },
      "outputs": [
        {
          "output_type": "stream",
          "name": "stdout",
          "text": [
            "[]\n"
          ]
        }
      ],
      "source": [
        "explore_reviews_csv_query = \"\"\"\n",
        "MERGE (cwe:CWE {cwe_id:\"284\"})\n",
        "MERGE (cwedata:Extended_Descriptions {runtime:1089})\n",
        "MERGE (cwe)-[:MAPPED_WITH]->(cwedata)\n",
        "MERGE (cwedata)-[:HAS_GLOBAL_CATEGORY{weight:0.02177728820880549,source:\"wikipedia-en\",category:\"Perimeter security\",page_id:29568962}]->(cwe)\n",
        "MERGE (cwedata)-[:HAS_GLOBAL_CATEGORY{weight:0.018774733450646813,source:\"wikipedia-en\",category:\"Command and control\",page_id:13460558}]->(cwe)\n",
        "MERGE (cwedata)-[:HAS_GLOBAL_CATEGORY{weight:0.0054037453131323635,source:\"wikipedia-en\",category:\"Software architecture\",page_id:1805593}]->(cwe)\n",
        "\n",
        "\"\"\"\n",
        "result = conn.query(explore_reviews_csv_query)\n",
        "print(result)"
      ]
    },
    {
      "cell_type": "code",
      "execution_count": 886,
      "metadata": {
        "id": "NxCUlPAKIZhf",
        "colab": {
          "base_uri": "https://localhost:8080/"
        },
        "outputId": "a8f400a6-fb95-4c70-da5c-0d3f6629a54e"
      },
      "outputs": [
        {
          "output_type": "stream",
          "name": "stdout",
          "text": [
            "[]\n"
          ]
        }
      ],
      "source": [
        "explore_reviews_csv_query = \"\"\"\n",
        "CALL apoc.load.json(\"https://raw.githubusercontent.com/neostrange/CveParse/main/Extended_Descriptions.json\", null, {failOnError:false})\n",
        "YIELD value\n",
        "WITH value  AS data\n",
        "WITH data\n",
        "UNWIND data.Extended_Descriptions[4].CWE.entities as Entities\n",
        "MERGE (entities:Entities{rawName:Entities.`rawName`})\n",
        "  SET \n",
        "   entities.offsetStart = Entities.offsetStart,\n",
        "   entities.offsetEnd = Entities.offsetEnd,\n",
        "   entities.confidence_score = Entities.confidence_score,\n",
        "   entities.wikipediaExternalRef = Entities.wikipediaExternalRef,\n",
        "   entities.wikidataId = Entities.wikidataId\n",
        "\n",
        "\"\"\"\n",
        "result = conn.query(explore_reviews_csv_query)\n",
        "print(result)"
      ]
    },
    {
      "cell_type": "code",
      "execution_count": 887,
      "metadata": {
        "id": "CV3EudGl7KXU",
        "colab": {
          "base_uri": "https://localhost:8080/"
        },
        "outputId": "388e3b58-7657-4db1-dc26-dc53ea1172a6"
      },
      "outputs": [
        {
          "output_type": "stream",
          "name": "stdout",
          "text": [
            "[]\n"
          ]
        }
      ],
      "source": [
        "explore_reviews_csv_query = \"\"\"\n",
        "MERGE (cwedata:Extended_Descriptions {runtime: 1089})\n",
        "MERGE (Entities:Entities {rawName: \"Access control\"})\n",
        "MERGE (cwedata)-[:HAS_ENTITY]->(Entities)\n",
        "\n",
        "\"\"\"\n",
        "result = conn.query(explore_reviews_csv_query)\n",
        "print(result)"
      ]
    },
    {
      "cell_type": "code",
      "execution_count": 888,
      "metadata": {
        "id": "9_9vePy37KCc",
        "colab": {
          "base_uri": "https://localhost:8080/"
        },
        "outputId": "0c034365-0d4e-40a2-b88c-41da88c012aa"
      },
      "outputs": [
        {
          "output_type": "stream",
          "name": "stdout",
          "text": [
            "[]\n"
          ]
        }
      ],
      "source": [
        "explore_reviews_csv_query = \"\"\"\n",
        "MERGE (cwedata:Extended_Descriptions {runtime: 1089})\n",
        "MERGE (Entities:Entities {rawName: \"Authentication\"})\n",
        "MERGE (cwedata)-[:HAS_ENTITY]->(Entities)\n",
        "\n",
        "\"\"\"\n",
        "result = conn.query(explore_reviews_csv_query)\n",
        "print(result)"
      ]
    },
    {
      "cell_type": "code",
      "execution_count": 889,
      "metadata": {
        "id": "GPYhNs-c7KgR",
        "colab": {
          "base_uri": "https://localhost:8080/"
        },
        "outputId": "7189f9f1-360c-41aa-ab22-ac091f4b4578"
      },
      "outputs": [
        {
          "output_type": "stream",
          "name": "stdout",
          "text": [
            "[]\n"
          ]
        }
      ],
      "source": [
        "explore_reviews_csv_query = \"\"\"\n",
        "MERGE (cwedata:Extended_Descriptions {runtime: 1089})\n",
        "MERGE (Entities:Entities {rawName: \"proving\"})\n",
        "MERGE (cwedata)-[:HAS_ENTITY]->(Entities)\n",
        "\n",
        "\"\"\"\n",
        "result = conn.query(explore_reviews_csv_query)\n",
        "print(result)"
      ]
    },
    {
      "cell_type": "code",
      "execution_count": 890,
      "metadata": {
        "id": "jal6HUjBc8bm",
        "colab": {
          "base_uri": "https://localhost:8080/"
        },
        "outputId": "38fb9967-11e4-4519-8f8d-1553c93c6c47"
      },
      "outputs": [
        {
          "output_type": "stream",
          "name": "stdout",
          "text": [
            "[]\n"
          ]
        }
      ],
      "source": [
        "explore_reviews_csv_query = \"\"\"\n",
        "MERGE (cwedata:Extended_Descriptions {runtime: 1089})\n",
        "MERGE (Entities:Entities {rawName: \"Authorization\"})\n",
        "MERGE (cwedata)-[:HAS_ENTITY]->(Entities)\n",
        "\n",
        "\"\"\"\n",
        "result = conn.query(explore_reviews_csv_query)\n",
        "print(result)"
      ]
    },
    {
      "cell_type": "code",
      "execution_count": 891,
      "metadata": {
        "id": "ElCfE75bc73k",
        "colab": {
          "base_uri": "https://localhost:8080/"
        },
        "outputId": "c88c1274-5728-43ee-dc6e-33eaee61f5ae"
      },
      "outputs": [
        {
          "output_type": "stream",
          "name": "stdout",
          "text": [
            "[]\n"
          ]
        }
      ],
      "source": [
        "explore_reviews_csv_query = \"\"\"\n",
        "MERGE (cwedata:Extended_Descriptions {runtime: 1089})\n",
        "MERGE (Entities:Entities {rawName: \"Accountability\"})\n",
        "MERGE (cwedata)-[:HAS_ENTITY]->(Entities)\n",
        "\n",
        "\"\"\"\n",
        "result = conn.query(explore_reviews_csv_query)\n",
        "print(result)"
      ]
    },
    {
      "cell_type": "code",
      "execution_count": 892,
      "metadata": {
        "id": "Tbg4nXnvc7OO",
        "colab": {
          "base_uri": "https://localhost:8080/"
        },
        "outputId": "389006a4-42cf-4a5a-d14b-23ba590d3937"
      },
      "outputs": [
        {
          "output_type": "stream",
          "name": "stdout",
          "text": [
            "[]\n"
          ]
        }
      ],
      "source": [
        "explore_reviews_csv_query = \"\"\"\n",
        "MERGE (cwedata:Extended_Descriptions {runtime: 1089})\n",
        "MERGE (Entities:Entities {rawName: \"attackers\"})\n",
        "MERGE (cwedata)-[:HAS_ENTITY]->(Entities)\n",
        "\n",
        "\"\"\"\n",
        "result = conn.query(explore_reviews_csv_query)\n",
        "print(result)"
      ]
    },
    {
      "cell_type": "code",
      "execution_count": 893,
      "metadata": {
        "id": "pwy8pDnropMm",
        "colab": {
          "base_uri": "https://localhost:8080/"
        },
        "outputId": "85745bee-68d0-4d75-9e23-e5930a3b446f"
      },
      "outputs": [
        {
          "output_type": "stream",
          "name": "stdout",
          "text": [
            "[]\n"
          ]
        }
      ],
      "source": [
        "explore_reviews_csv_query = \"\"\"\n",
        "MERGE (cwedata:Extended_Descriptions {runtime: 1089})\n",
        "MERGE (Entities:Entities {rawName: \"privileges\"})\n",
        "MERGE (cwedata)-[:HAS_ENTITY]->(Entities)\n",
        "\n",
        "\"\"\"\n",
        "result = conn.query(explore_reviews_csv_query)\n",
        "print(result)"
      ]
    },
    {
      "cell_type": "code",
      "execution_count": 894,
      "metadata": {
        "id": "pNvSiiRzopI2",
        "colab": {
          "base_uri": "https://localhost:8080/"
        },
        "outputId": "02fd5b5e-996b-4e64-e1aa-b42619e8fa1d"
      },
      "outputs": [
        {
          "output_type": "stream",
          "name": "stdout",
          "text": [
            "[]\n"
          ]
        }
      ],
      "source": [
        "explore_reviews_csv_query = \"\"\"\n",
        "MERGE (cwedata:Extended_Descriptions {runtime: 1089})\n",
        "MERGE (Entities:Entities {rawName: \"sensitive information\"})\n",
        "MERGE (cwedata)-[:HAS_ENTITY]->(Entities)\n",
        "\n",
        "\"\"\"\n",
        "result = conn.query(explore_reviews_csv_query)\n",
        "print(result)"
      ]
    },
    {
      "cell_type": "code",
      "execution_count": 895,
      "metadata": {
        "id": "KlV738NIopEt",
        "colab": {
          "base_uri": "https://localhost:8080/"
        },
        "outputId": "c01870bb-9d74-4b52-c161-37f1720c3f49"
      },
      "outputs": [
        {
          "output_type": "stream",
          "name": "stdout",
          "text": [
            "[]\n"
          ]
        }
      ],
      "source": [
        "explore_reviews_csv_query = \"\"\"\n",
        "MERGE (cwedata:Extended_Descriptions {runtime: 1089})\n",
        "MERGE (Entities:Entities {rawName: \"executing\"})\n",
        "MERGE (cwedata)-[:HAS_ENTITY]->(Entities)\n",
        "\n",
        "\"\"\"\n",
        "result = conn.query(explore_reviews_csv_query)\n",
        "print(result)"
      ]
    },
    {
      "cell_type": "code",
      "execution_count": 896,
      "metadata": {
        "id": "kaKQ2q61opA0",
        "colab": {
          "base_uri": "https://localhost:8080/"
        },
        "outputId": "83d7cdcd-af52-4422-af16-fb54e84d7153"
      },
      "outputs": [
        {
          "output_type": "stream",
          "name": "stdout",
          "text": [
            "[]\n"
          ]
        }
      ],
      "source": [
        "explore_reviews_csv_query = \"\"\"\n",
        "MERGE (cwedata:Extended_Descriptions {runtime: 1089})\n",
        "MERGE (Entities:Entities {rawName: \"commands\"})\n",
        "MERGE (cwedata)-[:HAS_ENTITY]->(Entities)\n",
        "\n",
        "\"\"\"\n",
        "result = conn.query(explore_reviews_csv_query)\n",
        "print(result)"
      ]
    },
    {
      "cell_type": "code",
      "execution_count": 897,
      "metadata": {
        "id": "IW-pePMAoo0U",
        "colab": {
          "base_uri": "https://localhost:8080/"
        },
        "outputId": "a34085c4-921c-4477-c74e-05f51c72bb33"
      },
      "outputs": [
        {
          "output_type": "stream",
          "name": "stdout",
          "text": [
            "[]\n"
          ]
        }
      ],
      "source": [
        "explore_reviews_csv_query = \"\"\"\n",
        "MERGE (cwedata:Extended_Descriptions {runtime: 1089})\n",
        "MERGE (Entities:Entities {rawName: \"evading detection\"})\n",
        "MERGE (cwedata)-[:HAS_ENTITY]->(Entities)\n",
        "\n",
        "\"\"\"\n",
        "result = conn.query(explore_reviews_csv_query)\n",
        "print(result)"
      ]
    },
    {
      "cell_type": "code",
      "execution_count": 898,
      "metadata": {
        "id": "nUDGRhUEc6y7",
        "colab": {
          "base_uri": "https://localhost:8080/"
        },
        "outputId": "dc3a72c6-0dad-4b78-bf00-6a6dbb90fa0a"
      },
      "outputs": [
        {
          "output_type": "stream",
          "name": "stdout",
          "text": [
            "[]\n"
          ]
        }
      ],
      "source": [
        "explore_reviews_csv_query = \"\"\"\n",
        "MERGE (cwedata:Extended_Descriptions {runtime: 1089})\n",
        "MERGE (Entities:Entities {rawName: \"behaviors\"})\n",
        "MERGE (cwedata)-[:HAS_ENTITY]->(Entities)\n",
        "\n",
        "\"\"\"\n",
        "result = conn.query(explore_reviews_csv_query)\n",
        "print(result)"
      ]
    },
    {
      "cell_type": "code",
      "execution_count": 899,
      "metadata": {
        "id": "IqF9hJck7JLu",
        "colab": {
          "base_uri": "https://localhost:8080/"
        },
        "outputId": "fd0ff64f-7eed-4147-e69c-1fee0895ba62"
      },
      "outputs": [
        {
          "output_type": "stream",
          "name": "stdout",
          "text": [
            "[]\n"
          ]
        }
      ],
      "source": [
        "explore_reviews_csv_query = \"\"\"\n",
        "MERGE (cwedata:Extended_Descriptions {runtime: 1089})\n",
        "MERGE (Entities:Entities {rawName: \"access control\"})\n",
        "MERGE (cwedata)-[:HAS_ENTITY]->(Entities)\n",
        "\n",
        "\"\"\"\n",
        "result = conn.query(explore_reviews_csv_query)\n",
        "print(result)"
      ]
    },
    {
      "cell_type": "code",
      "execution_count": 900,
      "metadata": {
        "id": "x38_i_qmCjcK",
        "colab": {
          "base_uri": "https://localhost:8080/"
        },
        "outputId": "c42adcfd-cf8e-40cb-8302-2f6274e85fe6"
      },
      "outputs": [
        {
          "output_type": "stream",
          "name": "stdout",
          "text": [
            "[]\n"
          ]
        }
      ],
      "source": [
        "explore_reviews_csv_query = \"\"\"\n",
        "MERGE (cwedata:Extended_Descriptions {runtime: 1089})\n",
        "MERGE (Entities:Entities {rawName: \"weaknesses\"})\n",
        "MERGE (cwedata)-[:HAS_ENTITY]->(Entities)\n",
        "\n",
        "\"\"\"\n",
        "result = conn.query(explore_reviews_csv_query)\n",
        "print(result)"
      ]
    },
    {
      "cell_type": "code",
      "execution_count": 901,
      "metadata": {
        "id": "91bn5g9XCjWd",
        "colab": {
          "base_uri": "https://localhost:8080/"
        },
        "outputId": "8f7fe6c7-13f6-40be-bd98-d943c67258dd"
      },
      "outputs": [
        {
          "output_type": "stream",
          "name": "stdout",
          "text": [
            "[]\n"
          ]
        }
      ],
      "source": [
        "explore_reviews_csv_query = \"\"\"\n",
        "MERGE (cwedata:Extended_Descriptions {runtime: 1089})\n",
        "MERGE (Entities:Entities {rawName: \"incorrect\"})\n",
        "MERGE (cwedata)-[:HAS_ENTITY]->(Entities)\n",
        "\n",
        "\"\"\"\n",
        "result = conn.query(explore_reviews_csv_query)\n",
        "print(result)"
      ]
    },
    {
      "cell_type": "code",
      "execution_count": 902,
      "metadata": {
        "id": "wRWlznONCjBy",
        "colab": {
          "base_uri": "https://localhost:8080/"
        },
        "outputId": "b408c61d-fe65-4a2a-90ea-577c6256219c"
      },
      "outputs": [
        {
          "output_type": "stream",
          "name": "stdout",
          "text": [
            "[]\n"
          ]
        }
      ],
      "source": [
        "explore_reviews_csv_query = \"\"\"\n",
        "MERGE (cwedata:Extended_Descriptions {runtime: 1089})\n",
        "MERGE (Entities:Entities {rawName: \"permissions\"})\n",
        "MERGE (cwedata)-[:HAS_ENTITY]->(Entities)\n",
        "\n",
        "\"\"\"\n",
        "result = conn.query(explore_reviews_csv_query)\n",
        "print(result)"
      ]
    },
    {
      "cell_type": "code",
      "execution_count": 903,
      "metadata": {
        "id": "ojkIzPtsCi8P",
        "colab": {
          "base_uri": "https://localhost:8080/"
        },
        "outputId": "141722c3-c7b3-4d45-e85b-55ec144ef7ef"
      },
      "outputs": [
        {
          "output_type": "stream",
          "name": "stdout",
          "text": [
            "[]\n"
          ]
        }
      ],
      "source": [
        "explore_reviews_csv_query = \"\"\"\n",
        "MERGE (cwedata:Extended_Descriptions {runtime: 1089})\n",
        "MERGE (Entities:Entities {rawName: \"explicitly\"})\n",
        "MERGE (cwedata)-[:HAS_ENTITY]->(Entities)\n",
        "\n",
        "\"\"\"\n",
        "result = conn.query(explore_reviews_csv_query)\n",
        "print(result)"
      ]
    },
    {
      "cell_type": "code",
      "execution_count": 904,
      "metadata": {
        "id": "0hiuTFzRCi2t",
        "colab": {
          "base_uri": "https://localhost:8080/"
        },
        "outputId": "19316b71-8e9a-490b-a6c6-8a53bf6a8296"
      },
      "outputs": [
        {
          "output_type": "stream",
          "name": "stdout",
          "text": [
            "[]\n"
          ]
        }
      ],
      "source": [
        "explore_reviews_csv_query = \"\"\"\n",
        "MERGE (cwedata:Extended_Descriptions {runtime: 1089})\n",
        "MERGE (Entities:Entities {rawName: \"syntactically\"})\n",
        "MERGE (cwedata)-[:HAS_ENTITY]->(Entities)\n",
        "\n",
        "\"\"\"\n",
        "result = conn.query(explore_reviews_csv_query)\n",
        "print(result)"
      ]
    },
    {
      "cell_type": "code",
      "execution_count": 905,
      "metadata": {
        "id": "cT_gxzLpCixM",
        "colab": {
          "base_uri": "https://localhost:8080/"
        },
        "outputId": "a25144cc-d727-404b-bd29-db638fec9f47"
      },
      "outputs": [
        {
          "output_type": "stream",
          "name": "stdout",
          "text": [
            "[]\n"
          ]
        }
      ],
      "source": [
        "explore_reviews_csv_query = \"\"\"\n",
        "MERGE (cwedata:Extended_Descriptions {runtime: 1089})\n",
        "MERGE (Entities:Entities {rawName: \"ACL\"})\n",
        "MERGE (cwedata)-[:HAS_ENTITY]->(Entities)\n",
        "\n",
        "\"\"\"\n",
        "result = conn.query(explore_reviews_csv_query)\n",
        "print(result)"
      ]
    },
    {
      "cell_type": "code",
      "execution_count": 906,
      "metadata": {
        "id": "T3IzRBY6Cinh",
        "colab": {
          "base_uri": "https://localhost:8080/"
        },
        "outputId": "89dfc8fe-47e1-420e-8af3-65a7bd84b6d6"
      },
      "outputs": [
        {
          "output_type": "stream",
          "name": "stdout",
          "text": [
            "[]\n"
          ]
        }
      ],
      "source": [
        "explore_reviews_csv_query = \"\"\"\n",
        "MERGE (cwedata:Extended_Descriptions {runtime: 1089})\n",
        "MERGE (Entities:Entities {rawName: \"insecure\"})\n",
        "MERGE (cwedata)-[:HAS_ENTITY]->(Entities)\n",
        "\n",
        "\"\"\"\n",
        "result = conn.query(explore_reviews_csv_query)\n",
        "print(result)"
      ]
    },
    {
      "cell_type": "code",
      "execution_count": 907,
      "metadata": {
        "id": "BXrR7rLKCiSH",
        "colab": {
          "base_uri": "https://localhost:8080/"
        },
        "outputId": "123bbaed-c324-4648-970d-81e5535e5928"
      },
      "outputs": [
        {
          "output_type": "stream",
          "name": "stdout",
          "text": [
            "[]\n"
          ]
        }
      ],
      "source": [
        "explore_reviews_csv_query = \"\"\"\n",
        "MERGE (cwedata:Extended_Descriptions {runtime: 1089})\n",
        "MERGE (Entities:Entities {rawName: \"security policy\"})\n",
        "MERGE (cwedata)-[:HAS_ENTITY]->(Entities)\n",
        "\n",
        "\"\"\"\n",
        "result = conn.query(explore_reviews_csv_query)\n",
        "print(result)"
      ]
    },
    {
      "cell_type": "code",
      "execution_count": 908,
      "metadata": {
        "id": "3iJ6XxZBqqyE",
        "colab": {
          "base_uri": "https://localhost:8080/"
        },
        "outputId": "f1de17a1-0c61-42a5-dd03-43abdef8caff"
      },
      "outputs": [
        {
          "output_type": "stream",
          "name": "stdout",
          "text": [
            "[]\n"
          ]
        }
      ],
      "source": [
        "explore_reviews_csv_query = \"\"\"\n",
        "MERGE (cwe:CWE {cwe_id:\"294\"})\n",
        "MERGE (cwedata:Extended_Descriptions {runtime:253})\n",
        "MERGE (cwe)-[:MAPPED_WITH]->(cwedata)\n",
        "MERGE (cwedata)-[:HAS_GLOBAL_CATEGORY{weight:0.09559506604831125,source:\"wikipedia-en\",category:\"User interfaces\",page_id:30875525}]->(cwe)\n",
        "MERGE (cwedata)-[:HAS_GLOBAL_CATEGORY{weight:0.09559506604831125,source:\"wikipedia-en\",category:\"Computing commands\",page_id:28119161}]->(cwe)\n",
        "MERGE (cwedata)-[:HAS_GLOBAL_CATEGORY{weight:0.09559506604831125,source:\"wikipedia-en\",category:\"Computing terminology\",page_id:2458835}]->(cwe)\n",
        "\n",
        "\"\"\"\n",
        "result = conn.query(explore_reviews_csv_query)\n",
        "print(result)"
      ]
    },
    {
      "cell_type": "code",
      "execution_count": 909,
      "metadata": {
        "id": "a0OzbXyAIbrO",
        "colab": {
          "base_uri": "https://localhost:8080/"
        },
        "outputId": "fc7bfd57-09a1-474b-c7f1-1b553b063c7a"
      },
      "outputs": [
        {
          "output_type": "stream",
          "name": "stdout",
          "text": [
            "[]\n"
          ]
        }
      ],
      "source": [
        "explore_reviews_csv_query = \"\"\"\n",
        "CALL apoc.load.json(\"https://raw.githubusercontent.com/neostrange/CveParse/main/Extended_Descriptions.json\", null, {failOnError:false})\n",
        "YIELD value\n",
        "WITH value  AS data\n",
        "WITH data\n",
        "UNWIND data.Extended_Descriptions[5].CWE.entities as Entities\n",
        "MERGE (entities:Entities{rawName:Entities.`rawName`})\n",
        "  SET \n",
        "   entities.offsetStart = Entities.offsetStart,\n",
        "   entities.offsetEnd = Entities.offsetEnd,\n",
        "   entities.confidence_score = Entities.confidence_score,\n",
        "   entities.wikipediaExternalRef = Entities.wikipediaExternalRef,\n",
        "   entities.wikidataId = Entities.wikidataId\n",
        "\n",
        "\"\"\"\n",
        "result = conn.query(explore_reviews_csv_query)\n",
        "print(result)"
      ]
    },
    {
      "cell_type": "code",
      "execution_count": 910,
      "metadata": {
        "id": "Lv0ml9XzC1nt",
        "colab": {
          "base_uri": "https://localhost:8080/"
        },
        "outputId": "9ab52ff6-61e6-4e09-ec67-61558eb65f75"
      },
      "outputs": [
        {
          "output_type": "stream",
          "name": "stdout",
          "text": [
            "[]\n"
          ]
        }
      ],
      "source": [
        "explore_reviews_csv_query = \"\"\"\n",
        "MERGE (cwedata:Extended_Descriptions {runtime: 253})\n",
        "MERGE (Entities:Entities {rawName: \"Capture\"})\n",
        "MERGE (cwedata)-[:HAS_ENTITY]->(Entities)\n",
        "\n",
        "\"\"\"\n",
        "result = conn.query(explore_reviews_csv_query)\n",
        "print(result)"
      ]
    },
    {
      "cell_type": "code",
      "execution_count": 911,
      "metadata": {
        "id": "MAuY3lheC1TI",
        "colab": {
          "base_uri": "https://localhost:8080/"
        },
        "outputId": "67dfd8ac-ede9-40c4-96d6-659f1c823d37"
      },
      "outputs": [
        {
          "output_type": "stream",
          "name": "stdout",
          "text": [
            "[]\n"
          ]
        }
      ],
      "source": [
        "explore_reviews_csv_query = \"\"\"\n",
        "MERGE (cwedata:Extended_Descriptions {runtime: 253})\n",
        "MERGE (Entities:Entities {rawName: \"replay attacks\"})\n",
        "MERGE (cwedata)-[:HAS_ENTITY]->(Entities)\n",
        "\n",
        "\"\"\"\n",
        "result = conn.query(explore_reviews_csv_query)\n",
        "print(result)"
      ]
    },
    {
      "cell_type": "code",
      "execution_count": 912,
      "metadata": {
        "id": "TXo8oahQCzc7",
        "colab": {
          "base_uri": "https://localhost:8080/"
        },
        "outputId": "a77782d4-bdff-4c19-f4f9-17c1f6ee8a48"
      },
      "outputs": [
        {
          "output_type": "stream",
          "name": "stdout",
          "text": [
            "[]\n"
          ]
        }
      ],
      "source": [
        "explore_reviews_csv_query = \"\"\"\n",
        "MERGE (cwedata:Extended_Descriptions {runtime: 253})\n",
        "MERGE (Entities:Entities {rawName: \"cryptography\"})\n",
        "MERGE (cwedata)-[:HAS_ENTITY]->(Entities)\n",
        "\n",
        "\"\"\"\n",
        "result = conn.query(explore_reviews_csv_query)\n",
        "print(result)"
      ]
    },
    {
      "cell_type": "code",
      "execution_count": 913,
      "metadata": {
        "id": "4pPdZ8EYCiXz",
        "colab": {
          "base_uri": "https://localhost:8080/"
        },
        "outputId": "bf7c6d43-e874-4b39-fb1e-1607b70c41ff"
      },
      "outputs": [
        {
          "output_type": "stream",
          "name": "stdout",
          "text": [
            "[]\n"
          ]
        }
      ],
      "source": [
        "explore_reviews_csv_query = \"\"\"\n",
        "MERGE (cwedata:Extended_Descriptions {runtime: 253})\n",
        "MERGE (Entities:Entities {rawName: \"subset\"})\n",
        "MERGE (cwedata)-[:HAS_ENTITY]->(Entities)\n",
        "\n",
        "\"\"\"\n",
        "result = conn.query(explore_reviews_csv_query)\n",
        "print(result)"
      ]
    },
    {
      "cell_type": "code",
      "execution_count": 914,
      "metadata": {
        "id": "Dpp6UgQzC1AV",
        "colab": {
          "base_uri": "https://localhost:8080/"
        },
        "outputId": "cd1dcaa5-7f62-4281-974c-a451d2a296e3"
      },
      "outputs": [
        {
          "output_type": "stream",
          "name": "stdout",
          "text": [
            "[]\n"
          ]
        }
      ],
      "source": [
        "explore_reviews_csv_query = \"\"\"\n",
        "MERGE (cwedata:Extended_Descriptions {runtime: 253})\n",
        "MERGE (Entities:Entities {rawName: \"injection\"})\n",
        "MERGE (cwedata)-[:HAS_ENTITY]->(Entities)\n",
        "\n",
        "\"\"\"\n",
        "result = conn.query(explore_reviews_csv_query)\n",
        "print(result)"
      ]
    },
    {
      "cell_type": "code",
      "execution_count": 915,
      "metadata": {
        "id": "2qxSzqHXdB5K",
        "colab": {
          "base_uri": "https://localhost:8080/"
        },
        "outputId": "5101cd93-860e-456a-d185-b54d4c49b6df"
      },
      "outputs": [
        {
          "output_type": "stream",
          "name": "stdout",
          "text": [
            "[]\n"
          ]
        }
      ],
      "source": [
        "explore_reviews_csv_query = \"\"\"\n",
        "MERGE (cwedata:Extended_Descriptions {runtime: 253})\n",
        "MERGE (Entities:Entities {rawName: \"observing\"})\n",
        "MERGE (cwedata)-[:HAS_ENTITY]->(Entities)\n",
        "\n",
        "\"\"\"\n",
        "result = conn.query(explore_reviews_csv_query)\n",
        "print(result) "
      ]
    },
    {
      "cell_type": "code",
      "execution_count": 916,
      "metadata": {
        "id": "AuWAE2MrdBhe",
        "colab": {
          "base_uri": "https://localhost:8080/"
        },
        "outputId": "4449dc10-e389-4890-9779-bb74835e42c7"
      },
      "outputs": [
        {
          "output_type": "stream",
          "name": "stdout",
          "text": [
            "[]\n"
          ]
        }
      ],
      "source": [
        "explore_reviews_csv_query = \"\"\"\n",
        "MERGE (cwedata:Extended_Descriptions {runtime: 253})\n",
        "MERGE (Entities:Entities {rawName: \"commands\"})\n",
        "MERGE (cwedata)-[:HAS_ENTITY]->(Entities)\n",
        "\n",
        "\"\"\"\n",
        "result = conn.query(explore_reviews_csv_query)\n",
        "print(result)"
      ]
    },
    {
      "cell_type": "markdown",
      "metadata": {
        "id": "4tkFWQMewURh"
      },
      "source": [
        "# **CPE Data**"
      ]
    },
    {
      "cell_type": "markdown",
      "metadata": {
        "id": "UvXjcm5jxpjj"
      },
      "source": [
        "**Script_CPE.cypher**"
      ]
    },
    {
      "cell_type": "markdown",
      "metadata": {
        "id": "Fp-yl_lZvxFK"
      },
      "source": [
        "Parse CPE values in CVE using cpeparser"
      ]
    },
    {
      "cell_type": "code",
      "execution_count": 917,
      "metadata": {
        "id": "5MfG2-9AeJDB",
        "colab": {
          "base_uri": "https://localhost:8080/"
        },
        "outputId": "a168dcb1-7bd0-4ec1-aa2e-14f8ccd3fcaf"
      },
      "outputs": [
        {
          "output_type": "stream",
          "name": "stdout",
          "text": [
            "[]\n"
          ]
        }
      ],
      "source": [
        "explore_reviews_csv_query = \"\"\"\n",
        "CALL apoc.load.json(\"https://raw.githubusercontent.com/neostrange/CveParse/main/CPE.json\", null, {failOnError:false})\n",
        "YIELD value\n",
        "WITH value  AS data\n",
        "//return data.CPE_Items[0].CPE.version\n",
        "UNWIND data.CPE_Items as item\n",
        "MERGE (cpe:CPE {version: item.CPE.version})\n",
        "SET \n",
        "    cpe.part = item.CPE.part,\n",
        "    cpe.vendor = item.CPE.vendor,\n",
        "    cpe.product = item.CPE.product,\n",
        "    cpe.update = item.CPE.update,\n",
        "    cpe.edition = item.CPE.edition,\n",
        "    cpe.language = item.CPE.language,\n",
        "    cpe.sw_edition = item.CPE.sw_edition,\n",
        "    cpe.target_sw = item.CPE.target_sw,\n",
        "    cpe.target_hw = item.CPE.target_hw,\n",
        "    cpe.other = item.CPE.other\n",
        "    \n",
        "\"\"\"\n",
        "result = conn.query(explore_reviews_csv_query)\n",
        "print(result)"
      ]
    },
    {
      "cell_type": "code",
      "execution_count": 918,
      "metadata": {
        "id": "lBtYxIhulZMv",
        "colab": {
          "base_uri": "https://localhost:8080/"
        },
        "outputId": "77fe7252-cadb-497d-fecd-f2b2d848e553"
      },
      "outputs": [
        {
          "output_type": "stream",
          "name": "stdout",
          "text": [
            "[]\n"
          ]
        }
      ],
      "source": [
        "explore_reviews_csv_query = \"\"\"\n",
        "MERGE (cpeMatch:CpeMatch {uri:\"cpe:2.3:a:sap:host_agent:7.21:*:*:*:*:*:*:*\" })\n",
        "MERGE (cpe:CPE {version:\"7.21\"})\n",
        "MERGE (cpeMatch)-[:MAPPED_WITH]->(cpe)\n",
        "\n",
        "\"\"\"\n",
        "result = conn.query(explore_reviews_csv_query)\n",
        "print(result)"
      ]
    },
    {
      "cell_type": "code",
      "execution_count": 919,
      "metadata": {
        "id": "NG5t__R7laOg",
        "colab": {
          "base_uri": "https://localhost:8080/"
        },
        "outputId": "c1639c6d-77b1-4502-ea47-c9c8027e66aa"
      },
      "outputs": [
        {
          "output_type": "stream",
          "name": "stdout",
          "text": [
            "[]\n"
          ]
        }
      ],
      "source": [
        "explore_reviews_csv_query = \"\"\"\n",
        "MERGE (cpeMatch:CpeMatch {uri:\"cpe:2.3:a:sap:host_agent:7.22:*:*:*:*:*:*:*\" })\n",
        "MERGE (cpe:CPE {version:\"7.22\"})\n",
        "MERGE (cpeMatch)-[:MAPPED_WITH]->(cpe)\n",
        "\n",
        "\"\"\"\n",
        "result = conn.query(explore_reviews_csv_query)\n",
        "print(result)"
      ]
    },
    {
      "cell_type": "code",
      "execution_count": 920,
      "metadata": {
        "id": "3_kvJDYY809M",
        "colab": {
          "base_uri": "https://localhost:8080/"
        },
        "outputId": "be550632-a797-4737-9c79-558a617d19a9"
      },
      "outputs": [
        {
          "output_type": "stream",
          "name": "stdout",
          "text": [
            "[]\n"
          ]
        }
      ],
      "source": [
        "explore_reviews_csv_query = \"\"\"\n",
        "MERGE (cpeMatch:CpeMatch {uri:\"cpe:2.3:o:microsoft:windows:-:*:*:*:*:*:*:*\" })\n",
        "MERGE (cpe:CPE {version:\"-\"})\n",
        "MERGE (cpeMatch)-[:MAPPED_WITH]->(cpe)\n",
        "\n",
        "\"\"\"\n",
        "result = conn.query(explore_reviews_csv_query)\n",
        "print(result)"
      ]
    },
    {
      "cell_type": "code",
      "execution_count": 921,
      "metadata": {
        "id": "iJDpnnyCldu5",
        "colab": {
          "base_uri": "https://localhost:8080/"
        },
        "outputId": "b34a993c-b73e-406b-a00f-7c26476c8151"
      },
      "outputs": [
        {
          "output_type": "stream",
          "name": "stdout",
          "text": [
            "[]\n"
          ]
        }
      ],
      "source": [
        "explore_reviews_csv_query = \"\"\"\n",
        "MERGE (cpeMatch:CpeMatch {uri:\"cpe:2.3:a:sap:netweaver_application_server_abap:702:*:*:*:*:*:*:*\" })\n",
        "MERGE (cpe:CPE {version:\"702\"})\n",
        "MERGE (cpeMatch)-[:MAPPED_WITH]->(cpe)\n",
        "\n",
        "\"\"\"\n",
        "result = conn.query(explore_reviews_csv_query)\n",
        "print(result)"
      ]
    },
    {
      "cell_type": "code",
      "execution_count": 922,
      "metadata": {
        "id": "EmvZ0vHMlqex",
        "colab": {
          "base_uri": "https://localhost:8080/"
        },
        "outputId": "640b2adf-0d4f-4ef6-fb82-7b9dc623658e"
      },
      "outputs": [
        {
          "output_type": "stream",
          "name": "stdout",
          "text": [
            "[]\n"
          ]
        }
      ],
      "source": [
        "explore_reviews_csv_query = \"\"\"\n",
        "MERGE (cpeMatch:CpeMatch {uri:\"cpe:2.3:a:sap:netweaver_application_server_abap:750:*:*:*:*:*:*:*\" })\n",
        "MERGE (cpe:CPE {version:\"750\"})\n",
        "MERGE (cpeMatch)-[:MAPPED_WITH]->(cpe)\n",
        "\n",
        "\"\"\"\n",
        "result = conn.query(explore_reviews_csv_query)\n",
        "print(result)"
      ]
    },
    {
      "cell_type": "code",
      "execution_count": 923,
      "metadata": {
        "id": "uUh-YkFul1-o",
        "colab": {
          "base_uri": "https://localhost:8080/"
        },
        "outputId": "93b9e084-ac2d-45fb-8406-20c4b3d64ef5"
      },
      "outputs": [
        {
          "output_type": "stream",
          "name": "stdout",
          "text": [
            "[]\n"
          ]
        }
      ],
      "source": [
        "explore_reviews_csv_query = \"\"\"\n",
        "MERGE (cpeMatch:CpeMatch {uri:\"cpe:2.3:a:sap:netweaver_application_server_abap:752:*:*:*:*:*:*:*\" })\n",
        "MERGE (cpe:CPE {version:\"752\"})\n",
        "MERGE (cpeMatch)-[:MAPPED_WITH]->(cpe)\n",
        "\n",
        "\"\"\"\n",
        "result = conn.query(explore_reviews_csv_query)\n",
        "print(result)"
      ]
    },
    {
      "cell_type": "code",
      "execution_count": 924,
      "metadata": {
        "id": "NvcgSg_ml33y",
        "colab": {
          "base_uri": "https://localhost:8080/"
        },
        "outputId": "af9bc319-fee7-43a9-d910-efeea332a966"
      },
      "outputs": [
        {
          "output_type": "stream",
          "name": "stdout",
          "text": [
            "[]\n"
          ]
        }
      ],
      "source": [
        "explore_reviews_csv_query = \"\"\"\n",
        "MERGE (cpeMatch:CpeMatch {uri:\"cpe:2.3:a:sap:netweaver_application_server_abap:753:*:*:*:*:*:*:*\" })\n",
        "MERGE (cpe:CPE {version:\"753\"})\n",
        "MERGE (cpeMatch)-[:MAPPED_WITH]->(cpe)\n",
        "\n",
        "\"\"\"\n",
        "result = conn.query(explore_reviews_csv_query)\n",
        "print(result)"
      ]
    },
    {
      "cell_type": "code",
      "execution_count": 925,
      "metadata": {
        "id": "1e-LB5lil5hc",
        "colab": {
          "base_uri": "https://localhost:8080/"
        },
        "outputId": "390d4148-1bad-4451-b8f5-9379e289fd72"
      },
      "outputs": [
        {
          "output_type": "stream",
          "name": "stdout",
          "text": [
            "[]\n"
          ]
        }
      ],
      "source": [
        "explore_reviews_csv_query = \"\"\"\n",
        "MERGE (cpeMatch:CpeMatch {uri:\"cpe:2.3:a:sap:netweaver_application_server_abap:754:*:*:*:*:*:*:*\" })\n",
        "MERGE (cpe:CPE {version:\"754\"})\n",
        "MERGE (cpeMatch)-[:MAPPED_WITH]->(cpe)\n",
        "\n",
        "\"\"\"\n",
        "result = conn.query(explore_reviews_csv_query)\n",
        "print(result)"
      ]
    },
    {
      "cell_type": "code",
      "execution_count": 926,
      "metadata": {
        "id": "bqZb_yAJl8Cj",
        "colab": {
          "base_uri": "https://localhost:8080/"
        },
        "outputId": "1c2f9e41-b2ef-4133-eacf-a5651f7bf18b"
      },
      "outputs": [
        {
          "output_type": "stream",
          "name": "stdout",
          "text": [
            "[]\n"
          ]
        }
      ],
      "source": [
        "explore_reviews_csv_query = \"\"\"\n",
        "MERGE (cpeMatch:CpeMatch {uri:\"cpe:2.3:a:sap:netweaver_application_server_abap:755:*:*:*:*:*:*:*\" })\n",
        "MERGE (cpe:CPE {version:\"755\"})\n",
        "MERGE (cpeMatch)-[:MAPPED_WITH]->(cpe)\n",
        "\n",
        "\"\"\"\n",
        "result = conn.query(explore_reviews_csv_query)\n",
        "print(result)"
      ]
    },
    {
      "cell_type": "code",
      "execution_count": 927,
      "metadata": {
        "id": "A25kD7aM8due",
        "colab": {
          "base_uri": "https://localhost:8080/"
        },
        "outputId": "ebb9162a-f151-446d-ac55-7d9dfd7f3924"
      },
      "outputs": [
        {
          "output_type": "stream",
          "name": "stdout",
          "text": [
            "[]\n"
          ]
        }
      ],
      "source": [
        "explore_reviews_csv_query = \"\"\"\n",
        "MERGE (cpeMatch:CpeMatch {uri:\"cpe:2.3:a:sap:netweaver_application_server_abap:756:*:*:*:*:*:*:*\" })\n",
        "MERGE (cpe:CPE {version:\"756\"})\n",
        "MERGE (cpeMatch)-[:MAPPED_WITH]->(cpe)\n",
        "\n",
        "\"\"\"\n",
        "result = conn.query(explore_reviews_csv_query)\n",
        "print(result)"
      ]
    },
    {
      "cell_type": "code",
      "execution_count": 928,
      "metadata": {
        "id": "6_asvk5elmU4",
        "colab": {
          "base_uri": "https://localhost:8080/"
        },
        "outputId": "71a8c648-b6ea-47c0-b35d-bb44f09b69cf"
      },
      "outputs": [
        {
          "output_type": "stream",
          "name": "stdout",
          "text": [
            "[]\n"
          ]
        }
      ],
      "source": [
        "explore_reviews_csv_query = \"\"\"\n",
        "MERGE (cpeMatch:CpeMatch {uri:\"cpe:2.3:a:sap:netweaver_application_server_abap:731:*:*:*:*:*:*:*\" })\n",
        "MERGE (cpe:CPE {version:\"731\"})\n",
        "MERGE (cpeMatch)-[:MAPPED_WITH]->(cpe)\n",
        "\n",
        "\"\"\"\n",
        "result = conn.query(explore_reviews_csv_query)\n",
        "print(result)"
      ]
    },
    {
      "cell_type": "code",
      "execution_count": 929,
      "metadata": {
        "id": "iPjsqunuloiy",
        "colab": {
          "base_uri": "https://localhost:8080/"
        },
        "outputId": "53e803f1-4961-4559-9ec9-dcfa3010cf47"
      },
      "outputs": [
        {
          "output_type": "stream",
          "name": "stdout",
          "text": [
            "[]\n"
          ]
        }
      ],
      "source": [
        "explore_reviews_csv_query = \"\"\"\n",
        "MERGE (cpeMatch:CpeMatch {uri:\"cpe:2.3:a:sap:netweaver_application_server_abap:740:*:*:*:*:*:*:*\" })\n",
        "MERGE (cpe:CPE {version:\"740\"})\n",
        "MERGE (cpeMatch)-[:MAPPED_WITH]->(cpe)\n",
        "\n",
        "\"\"\"\n",
        "result = conn.query(explore_reviews_csv_query)\n",
        "print(result)"
      ]
    },
    {
      "cell_type": "code",
      "execution_count": 930,
      "metadata": {
        "id": "WAVztOyjlzzs",
        "colab": {
          "base_uri": "https://localhost:8080/"
        },
        "outputId": "c70905e8-0f35-4a97-8397-90c504146924"
      },
      "outputs": [
        {
          "output_type": "stream",
          "name": "stdout",
          "text": [
            "[]\n"
          ]
        }
      ],
      "source": [
        "explore_reviews_csv_query = \"\"\"\n",
        "MERGE (cpeMatch:CpeMatch {uri:\"cpe:2.3:a:sap:netweaver_application_server_abap:751:*:*:*:*:*:*:*\" })\n",
        "MERGE (cpe:CPE {version:\"751\"})\n",
        "MERGE (cpeMatch)-[:MAPPED_WITH]->(cpe)\n",
        "\n",
        "\"\"\"\n",
        "result = conn.query(explore_reviews_csv_query)\n",
        "print(result)"
      ]
    },
    {
      "cell_type": "code",
      "execution_count": 931,
      "metadata": {
        "id": "SyeXOGMh8f-w",
        "colab": {
          "base_uri": "https://localhost:8080/"
        },
        "outputId": "09fc4cca-e641-42d5-8a4b-e93714810279"
      },
      "outputs": [
        {
          "output_type": "stream",
          "name": "stdout",
          "text": [
            "[]\n"
          ]
        }
      ],
      "source": [
        "explore_reviews_csv_query = \"\"\"\n",
        "MERGE (cpeMatch:CpeMatch {uri:\"cpe:2.3:a:sap:netweaver_application_server_abap:757:*:*:*:*:*:*:*\" })\n",
        "MERGE (cpe:CPE {version:\"757\"})\n",
        "MERGE (cpeMatch)-[:MAPPED_WITH]->(cpe)\n",
        "\n",
        "\"\"\"\n",
        "result = conn.query(explore_reviews_csv_query)\n",
        "print(result)"
      ]
    },
    {
      "cell_type": "code",
      "execution_count": 932,
      "metadata": {
        "id": "oZJ5mTvlle7y",
        "colab": {
          "base_uri": "https://localhost:8080/"
        },
        "outputId": "120df74a-e58b-4f40-c1ba-6e7c30fdf58d"
      },
      "outputs": [
        {
          "output_type": "stream",
          "name": "stdout",
          "text": [
            "[]\n"
          ]
        }
      ],
      "source": [
        "explore_reviews_csv_query = \"\"\"\n",
        "MERGE (cpeMatch:CpeMatch {uri:\"cpe:2.3:a:sap:netweaver_application_server_abap:702:*:*:*:sap_basis:*:*:*\" })\n",
        "MERGE (cpe:CPE {version:\"702\"})\n",
        "MERGE (cpeMatch)-[:MAPPED_WITH]->(cpe)\n",
        "\n",
        "\"\"\"\n",
        "result = conn.query(explore_reviews_csv_query)\n",
        "print(result)"
      ]
    },
    {
      "cell_type": "code",
      "execution_count": 933,
      "metadata": {
        "id": "PazmT6TJ8rRe",
        "colab": {
          "base_uri": "https://localhost:8080/"
        },
        "outputId": "c7e308eb-9f46-4990-f9c6-36741edf8b9c"
      },
      "outputs": [
        {
          "output_type": "stream",
          "name": "stdout",
          "text": [
            "[]\n"
          ]
        }
      ],
      "source": [
        "explore_reviews_csv_query = \"\"\"\n",
        "MERGE (cpeMatch:CpeMatch {uri:\"cpe:2.3:a:sap:netweaver_as_abap_krnl64nuc:7.22ext:*:*:*:*:*:*:*\" })\n",
        "MERGE (cpe:CPE {version:\"7.22ext\"})\n",
        "MERGE (cpeMatch)-[:MAPPED_WITH]->(cpe)\n",
        "\n",
        "\"\"\"\n",
        "result = conn.query(explore_reviews_csv_query)\n",
        "print(result)"
      ]
    },
    {
      "cell_type": "code",
      "execution_count": 934,
      "metadata": {
        "id": "Gc20DxOC8uDy",
        "colab": {
          "base_uri": "https://localhost:8080/"
        },
        "outputId": "51365857-2639-416b-fe53-3157d1946f6c"
      },
      "outputs": [
        {
          "output_type": "stream",
          "name": "stdout",
          "text": [
            "[]\n"
          ]
        }
      ],
      "source": [
        "explore_reviews_csv_query = \"\"\"\n",
        "MERGE (cpeMatch:CpeMatch {uri:\"cpe:2.3:a:sap:netweaver_as_abap_krnl64uc:7.53:*:*:*:*:*:*:*\" })\n",
        "MERGE (cpe:CPE {version:\"7.53\"})\n",
        "MERGE (cpeMatch)-[:MAPPED_WITH]->(cpe)\n",
        "\n",
        "\"\"\"\n",
        "result = conn.query(explore_reviews_csv_query)\n",
        "print(result)"
      ]
    },
    {
      "cell_type": "code",
      "execution_count": 935,
      "metadata": {
        "id": "oe1q7sBY8qbG",
        "colab": {
          "base_uri": "https://localhost:8080/"
        },
        "outputId": "351c4754-109b-4d98-9cdd-7b6551c13407"
      },
      "outputs": [
        {
          "output_type": "stream",
          "name": "stdout",
          "text": [
            "[]\n"
          ]
        }
      ],
      "source": [
        "explore_reviews_csv_query = \"\"\"\n",
        "MERGE (cpeMatch:CpeMatch {uri:\"cpe:2.3:a:sap:netweaver_as_abap_krnl64nuc:7.22:*:*:*:*:*:*:*\" })\n",
        "MERGE (cpe:CPE {version:\"7.22\"})\n",
        "MERGE (cpeMatch)-[:MAPPED_WITH]->(cpe)\n",
        "\n",
        "\"\"\"\n",
        "result = conn.query(explore_reviews_csv_query)\n",
        "print(result)"
      ]
    },
    {
      "cell_type": "code",
      "execution_count": 936,
      "metadata": {
        "id": "Jh9kyOUq8kBJ",
        "colab": {
          "base_uri": "https://localhost:8080/"
        },
        "outputId": "f8997aad-4ecc-4ae5-d090-a64da8979547"
      },
      "outputs": [
        {
          "output_type": "stream",
          "name": "stdout",
          "text": [
            "[]\n"
          ]
        }
      ],
      "source": [
        "explore_reviews_csv_query = \"\"\"\n",
        "MERGE (cpeMatch:CpeMatch {uri:\"cpe:2.3:a:sap:netweaver_as_abap_kernel:7.22:*:*:*:*:*:*:*\" })\n",
        "MERGE (cpe:CPE {version:\"7.22\"})\n",
        "MERGE (cpeMatch)-[:MAPPED_WITH]->(cpe)\n",
        "\n",
        "\"\"\"\n",
        "result = conn.query(explore_reviews_csv_query)\n",
        "print(result)"
      ]
    },
    {
      "cell_type": "code",
      "execution_count": 937,
      "metadata": {
        "id": "QNKafT_Q8k1f",
        "colab": {
          "base_uri": "https://localhost:8080/"
        },
        "outputId": "79ad4ae6-5e88-4d24-a372-0cf2ef72b140"
      },
      "outputs": [
        {
          "output_type": "stream",
          "name": "stdout",
          "text": [
            "[]\n"
          ]
        }
      ],
      "source": [
        "explore_reviews_csv_query = \"\"\"\n",
        "MERGE (cpeMatch:CpeMatch {uri:\"cpe:2.3:a:sap:netweaver_as_abap_kernel:7.53:*:*:*:*:*:*:*\" })\n",
        "MERGE (cpe:CPE {version:\"7.53\"})\n",
        "MERGE (cpeMatch)-[:MAPPED_WITH]->(cpe)\n",
        "\n",
        "\"\"\"\n",
        "result = conn.query(explore_reviews_csv_query)\n",
        "print(result)"
      ]
    },
    {
      "cell_type": "code",
      "execution_count": 938,
      "metadata": {
        "id": "kLuNRj978l1w",
        "colab": {
          "base_uri": "https://localhost:8080/"
        },
        "outputId": "ab92b01d-ee2c-46f7-da64-a53b76119213"
      },
      "outputs": [
        {
          "output_type": "stream",
          "name": "stdout",
          "text": [
            "[]\n"
          ]
        }
      ],
      "source": [
        "explore_reviews_csv_query = \"\"\"\n",
        "MERGE (cpeMatch:CpeMatch {uri:\"cpe:2.3:a:sap:netweaver_as_abap_kernel:7.77:*:*:*:*:*:*:*\" })\n",
        "MERGE (cpe:CPE {version:\"7.77\"})\n",
        "MERGE (cpeMatch)-[:MAPPED_WITH]->(cpe)\n",
        "\n",
        "\"\"\"\n",
        "result = conn.query(explore_reviews_csv_query)\n",
        "print(result)"
      ]
    },
    {
      "cell_type": "code",
      "execution_count": 939,
      "metadata": {
        "id": "Q-OYYGAX8ms_",
        "colab": {
          "base_uri": "https://localhost:8080/"
        },
        "outputId": "660c0388-3ec5-4143-9f4a-2c39ecf0f4bb"
      },
      "outputs": [
        {
          "output_type": "stream",
          "name": "stdout",
          "text": [
            "[]\n"
          ]
        }
      ],
      "source": [
        "explore_reviews_csv_query = \"\"\"\n",
        "MERGE (cpeMatch:CpeMatch {uri:\"cpe:2.3:a:sap:netweaver_as_abap_kernel:7.81:*:*:*:*:*:*:*\" })\n",
        "MERGE (cpe:CPE {version:\"7.81\"})\n",
        "MERGE (cpeMatch)-[:MAPPED_WITH]->(cpe)\n",
        "\n",
        "\"\"\"\n",
        "result = conn.query(explore_reviews_csv_query)\n",
        "print(result)"
      ]
    },
    {
      "cell_type": "code",
      "execution_count": 940,
      "metadata": {
        "id": "lAPeVdAs8n7w",
        "colab": {
          "base_uri": "https://localhost:8080/"
        },
        "outputId": "4c478c6d-af6a-47bf-c858-b0b596e3ba05"
      },
      "outputs": [
        {
          "output_type": "stream",
          "name": "stdout",
          "text": [
            "[]\n"
          ]
        }
      ],
      "source": [
        "explore_reviews_csv_query = \"\"\"\n",
        "MERGE (cpeMatch:CpeMatch {uri:\"cpe:2.3:a:sap:netweaver_as_abap_kernel:7.85:*:*:*:*:*:*:*\" })\n",
        "MERGE (cpe:CPE {version:\"7.85\"})\n",
        "MERGE (cpeMatch)-[:MAPPED_WITH]->(cpe)\n",
        "\n",
        "\"\"\"\n",
        "result = conn.query(explore_reviews_csv_query)\n",
        "print(result)"
      ]
    },
    {
      "cell_type": "code",
      "execution_count": 941,
      "metadata": {
        "id": "xNzOHV5v8tH8",
        "colab": {
          "base_uri": "https://localhost:8080/"
        },
        "outputId": "4b22ca45-464b-4997-d417-4cffacb803f6"
      },
      "outputs": [
        {
          "output_type": "stream",
          "name": "stdout",
          "text": [
            "[]\n"
          ]
        }
      ],
      "source": [
        "explore_reviews_csv_query = \"\"\"\n",
        "MERGE (cpeMatch:CpeMatch {uri:\"cpe:2.3:a:sap:netweaver_as_abap_krnl64uc:7.22ext:*:*:*:*:*:*:*\" })\n",
        "MERGE (cpe:CPE {version:\"7.22ext\"})\n",
        "MERGE (cpeMatch)-[:MAPPED_WITH]->(cpe)\n",
        "\n",
        "\"\"\"\n",
        "result = conn.query(explore_reviews_csv_query)\n",
        "print(result)"
      ]
    },
    {
      "cell_type": "code",
      "execution_count": 942,
      "metadata": {
        "id": "8-cEYveglcBm",
        "colab": {
          "base_uri": "https://localhost:8080/"
        },
        "outputId": "3b57d5d8-b8b4-47ee-e2f2-1d9a9cdbf26e"
      },
      "outputs": [
        {
          "output_type": "stream",
          "name": "stdout",
          "text": [
            "[]\n"
          ]
        }
      ],
      "source": [
        "explore_reviews_csv_query = \"\"\"\n",
        "MERGE (cpeMatch:CpeMatch {uri:\"cpe:2.3:a:sap:netweaver_application_server_abap:700:*:*:*:sap_basis:*:*:*\" })\n",
        "MERGE (cpe:CPE {version:\"700\"})\n",
        "MERGE (cpeMatch)-[:MAPPED_WITH]->(cpe)\n",
        "\n",
        "\"\"\"\n",
        "result = conn.query(explore_reviews_csv_query)\n",
        "print(result)"
      ]
    },
    {
      "cell_type": "code",
      "execution_count": 943,
      "metadata": {
        "id": "CvEb5lvAlc7J",
        "colab": {
          "base_uri": "https://localhost:8080/"
        },
        "outputId": "fc92a23c-7204-4fc4-de35-db8bfb0149d9"
      },
      "outputs": [
        {
          "output_type": "stream",
          "name": "stdout",
          "text": [
            "[]\n"
          ]
        }
      ],
      "source": [
        "explore_reviews_csv_query = \"\"\"\n",
        "MERGE (cpeMatch:CpeMatch {uri:\"cpe:2.3:a:sap:netweaver_application_server_abap:701:*:*:*:sap_basis:*:*:*\" })\n",
        "MERGE (cpe:CPE {version:\"701\"})\n",
        "MERGE (cpeMatch)-[:MAPPED_WITH]->(cpe)\n",
        "\n",
        "\"\"\"\n",
        "result = conn.query(explore_reviews_csv_query)\n",
        "print(result)"
      ]
    },
    {
      "cell_type": "code",
      "execution_count": 944,
      "metadata": {
        "id": "iDzLl205lhmc",
        "colab": {
          "base_uri": "https://localhost:8080/"
        },
        "outputId": "663a0de7-67e1-4924-b9bb-eebccadf6b3e"
      },
      "outputs": [
        {
          "output_type": "stream",
          "name": "stdout",
          "text": [
            "[]\n"
          ]
        }
      ],
      "source": [
        "explore_reviews_csv_query = \"\"\"\n",
        "MERGE (cpeMatch:CpeMatch {uri:\"cpe:2.3:a:sap:netweaver_application_server_abap:710:*:*:*:sap_basis:*:*:*\" })\n",
        "MERGE (cpe:CPE {version:\"710\"})\n",
        "MERGE (cpeMatch)-[:MAPPED_WITH]->(cpe)\n",
        "\n",
        "\"\"\"\n",
        "result = conn.query(explore_reviews_csv_query)\n",
        "print(result)"
      ]
    },
    {
      "cell_type": "code",
      "execution_count": 945,
      "metadata": {
        "id": "lVHrRpuUljMZ",
        "colab": {
          "base_uri": "https://localhost:8080/"
        },
        "outputId": "ec439270-874a-45cb-89e9-bf7a5abad243"
      },
      "outputs": [
        {
          "output_type": "stream",
          "name": "stdout",
          "text": [
            "[]\n"
          ]
        }
      ],
      "source": [
        "explore_reviews_csv_query = \"\"\"\n",
        "MERGE (cpeMatch:CpeMatch {uri:\"cpe:2.3:a:sap:netweaver_application_server_abap:711:*:*:*:sap_basis:*:*:*\" })\n",
        "MERGE (cpe:CPE {version:\"711\"})\n",
        "MERGE (cpeMatch)-[:MAPPED_WITH]->(cpe)\n",
        "\n",
        "\"\"\"\n",
        "result = conn.query(explore_reviews_csv_query)\n",
        "print(result)"
      ]
    },
    {
      "cell_type": "code",
      "execution_count": 946,
      "metadata": {
        "id": "PnzGM_mjlkf9",
        "colab": {
          "base_uri": "https://localhost:8080/"
        },
        "outputId": "b3840aec-0048-4e4a-ccc3-2ad6f14d85d9"
      },
      "outputs": [
        {
          "output_type": "stream",
          "name": "stdout",
          "text": [
            "[]\n"
          ]
        }
      ],
      "source": [
        "explore_reviews_csv_query = \"\"\"\n",
        "MERGE (cpeMatch:CpeMatch {uri:\"cpe:2.3:a:sap:netweaver_application_server_abap:730:*:*:*:sap_basis:*:*:*\" })\n",
        "MERGE (cpe:CPE {version:\"730\"})\n",
        "MERGE (cpeMatch)-[:MAPPED_WITH]->(cpe)\n",
        "\n",
        "\"\"\"\n",
        "result = conn.query(explore_reviews_csv_query)\n",
        "print(result)"
      ]
    },
    {
      "cell_type": "code",
      "execution_count": 947,
      "metadata": {
        "id": "MU7726D8lnak",
        "colab": {
          "base_uri": "https://localhost:8080/"
        },
        "outputId": "16e26996-0542-4133-aa65-4d414da0b28d"
      },
      "outputs": [
        {
          "output_type": "stream",
          "name": "stdout",
          "text": [
            "[]\n"
          ]
        }
      ],
      "source": [
        "explore_reviews_csv_query = \"\"\"\n",
        "MERGE (cpeMatch:CpeMatch {uri:\"cpe:2.3:a:sap:netweaver_application_server_abap:731:*:*:*:sap_basis:*:*:*\" })\n",
        "MERGE (cpe:CPE {version:\"731\"})\n",
        "MERGE (cpeMatch)-[:MAPPED_WITH]->(cpe)\n",
        "\n",
        "\"\"\"\n",
        "result = conn.query(explore_reviews_csv_query)\n",
        "print(result)"
      ]
    },
    {
      "cell_type": "code",
      "execution_count": 948,
      "metadata": {
        "id": "e2DhnZYMlplA",
        "colab": {
          "base_uri": "https://localhost:8080/"
        },
        "outputId": "adbfc5d3-ce4a-469f-bb30-50a21e5dd749"
      },
      "outputs": [
        {
          "output_type": "stream",
          "name": "stdout",
          "text": [
            "[]\n"
          ]
        }
      ],
      "source": [
        "explore_reviews_csv_query = \"\"\"\n",
        "MERGE (cpeMatch:CpeMatch {uri:\"cpe:2.3:a:sap:netweaver_application_server_abap:740:*:*:*:sap_basis:*:*:*\" })\n",
        "MERGE (cpe:CPE {version:\"740\"})\n",
        "MERGE (cpeMatch)-[:MAPPED_WITH]->(cpe)\n",
        "\n",
        "\"\"\"\n",
        "result = conn.query(explore_reviews_csv_query)\n",
        "print(result)"
      ]
    },
    {
      "cell_type": "code",
      "execution_count": 949,
      "metadata": {
        "id": "HKnoiNejly3y",
        "colab": {
          "base_uri": "https://localhost:8080/"
        },
        "outputId": "ba31c3e8-89e5-48ab-8bee-50f17b97a2e9"
      },
      "outputs": [
        {
          "output_type": "stream",
          "name": "stdout",
          "text": [
            "[]\n"
          ]
        }
      ],
      "source": [
        "explore_reviews_csv_query = \"\"\"\n",
        "MERGE (cpeMatch:CpeMatch {uri:\"cpe:2.3:a:sap:netweaver_application_server_abap:750:*:*:*:sap_basis:*:*:*\" })\n",
        "MERGE (cpe:CPE {version:\"750\"})\n",
        "MERGE (cpeMatch)-[:MAPPED_WITH]->(cpe)\n",
        "\n",
        "\"\"\"\n",
        "result = conn.query(explore_reviews_csv_query)\n",
        "print(result)"
      ]
    },
    {
      "cell_type": "code",
      "execution_count": 950,
      "metadata": {
        "id": "MIiSlCxAl0v8",
        "colab": {
          "base_uri": "https://localhost:8080/"
        },
        "outputId": "1efd53b8-46ba-4e83-a881-96022ce298cc"
      },
      "outputs": [
        {
          "output_type": "stream",
          "name": "stdout",
          "text": [
            "[]\n"
          ]
        }
      ],
      "source": [
        "explore_reviews_csv_query = \"\"\"\n",
        "MERGE (cpeMatch:CpeMatch {uri:\"cpe:2.3:a:sap:netweaver_application_server_abap:751:*:*:*:sap_basis:*:*:*\" })\n",
        "MERGE (cpe:CPE {version:\"751\"})\n",
        "MERGE (cpeMatch)-[:MAPPED_WITH]->(cpe)\n",
        "\n",
        "\"\"\"\n",
        "result = conn.query(explore_reviews_csv_query)\n",
        "print(result)"
      ]
    },
    {
      "cell_type": "code",
      "execution_count": 951,
      "metadata": {
        "id": "q-X3TUtBl288",
        "colab": {
          "base_uri": "https://localhost:8080/"
        },
        "outputId": "f7a6d106-ff80-49fd-eb2b-8ae8fce611ac"
      },
      "outputs": [
        {
          "output_type": "stream",
          "name": "stdout",
          "text": [
            "[]\n"
          ]
        }
      ],
      "source": [
        "explore_reviews_csv_query = \"\"\"\n",
        "MERGE (cpeMatch:CpeMatch {uri:\"cpe:2.3:a:sap:netweaver_application_server_abap:752:*:*:*:sap_basis:*:*:*\" })\n",
        "MERGE (cpe:CPE {version:\"752\"})\n",
        "MERGE (cpeMatch)-[:MAPPED_WITH]->(cpe)\n",
        "\n",
        "\"\"\"\n",
        "result = conn.query(explore_reviews_csv_query)\n",
        "print(result)"
      ]
    },
    {
      "cell_type": "code",
      "execution_count": 952,
      "metadata": {
        "colab": {
          "base_uri": "https://localhost:8080/"
        },
        "id": "fj24pVAml4os",
        "outputId": "48959d4b-dd94-4fb7-ecfc-ac0f96fdcf03"
      },
      "outputs": [
        {
          "output_type": "stream",
          "name": "stdout",
          "text": [
            "[]\n"
          ]
        }
      ],
      "source": [
        "explore_reviews_csv_query = \"\"\"\n",
        "MERGE (cpeMatch:CpeMatch {uri:\"cpe:2.3:a:sap:netweaver_application_server_abap:753:*:*:*:sap_basis:*:*:*\" })\n",
        "MERGE (cpe:CPE {version:\"753\"})\n",
        "MERGE (cpeMatch)-[:MAPPED_WITH]->(cpe)\n",
        "\n",
        "\"\"\"\n",
        "result = conn.query(explore_reviews_csv_query)\n",
        "print(result)"
      ]
    },
    {
      "cell_type": "code",
      "execution_count": 953,
      "metadata": {
        "colab": {
          "base_uri": "https://localhost:8080/"
        },
        "id": "sEGg2-VDl6v8",
        "outputId": "373c2338-6175-47af-f5c4-620976f5f319"
      },
      "outputs": [
        {
          "output_type": "stream",
          "name": "stdout",
          "text": [
            "[]\n"
          ]
        }
      ],
      "source": [
        "explore_reviews_csv_query = \"\"\"\n",
        "MERGE (cpeMatch:CpeMatch {uri:\"cpe:2.3:a:sap:netweaver_application_server_abap:754:*:*:*:sap_basis:*:*:*\" })\n",
        "MERGE (cpe:CPE {version:\"754\"})\n",
        "MERGE (cpeMatch)-[:MAPPED_WITH]->(cpe)\n",
        "\n",
        "\"\"\"\n",
        "result = conn.query(explore_reviews_csv_query)\n",
        "print(result)"
      ]
    },
    {
      "cell_type": "code",
      "execution_count": 954,
      "metadata": {
        "colab": {
          "base_uri": "https://localhost:8080/"
        },
        "id": "KFYj95Sv8Q-j",
        "outputId": "df47eabd-b108-4d3d-98f0-161e1546595a"
      },
      "outputs": [
        {
          "output_type": "stream",
          "name": "stdout",
          "text": [
            "[]\n"
          ]
        }
      ],
      "source": [
        "explore_reviews_csv_query = \"\"\"\n",
        "MERGE (cpeMatch:CpeMatch {uri:\"cpe:2.3:a:sap:netweaver_application_server_abap:755:*:*:*:sap_basis:*:*:*\" })\n",
        "MERGE (cpe:CPE {version:\"755\"})\n",
        "MERGE (cpeMatch)-[:MAPPED_WITH]->(cpe)\n",
        "\n",
        "\"\"\"\n",
        "result = conn.query(explore_reviews_csv_query)\n",
        "print(result)"
      ]
    },
    {
      "cell_type": "code",
      "execution_count": 955,
      "metadata": {
        "colab": {
          "base_uri": "https://localhost:8080/"
        },
        "id": "PGAxEOgb8evX",
        "outputId": "8b7195ca-d78f-4781-8ab4-f4ca8d2770bb"
      },
      "outputs": [
        {
          "output_type": "stream",
          "name": "stdout",
          "text": [
            "[]\n"
          ]
        }
      ],
      "source": [
        "explore_reviews_csv_query = \"\"\"\n",
        "MERGE (cpeMatch:CpeMatch {uri:\"cpe:2.3:a:sap:netweaver_application_server_abap:756:*:*:*:sap_basis:*:*:*\" })\n",
        "MERGE (cpe:CPE {version:\"756\"})\n",
        "MERGE (cpeMatch)-[:MAPPED_WITH]->(cpe)\n",
        "\n",
        "\"\"\"\n",
        "result = conn.query(explore_reviews_csv_query)\n",
        "print(result)"
      ]
    },
    {
      "cell_type": "code",
      "execution_count": 956,
      "metadata": {
        "colab": {
          "base_uri": "https://localhost:8080/"
        },
        "id": "dbkOXjAP8g1i",
        "outputId": "5de3657a-3056-4fd0-882a-8d74b2d8a593"
      },
      "outputs": [
        {
          "output_type": "stream",
          "name": "stdout",
          "text": [
            "[]\n"
          ]
        }
      ],
      "source": [
        "explore_reviews_csv_query = \"\"\"\n",
        "MERGE (cpeMatch:CpeMatch {uri:\"cpe:2.3:a:sap:netweaver_application_server_abap:757:*:*:*:sap_basis:*:*:*\" })\n",
        "MERGE (cpe:CPE {version:\"757\"})\n",
        "MERGE (cpeMatch)-[:MAPPED_WITH]->(cpe)\n",
        "\n",
        "\"\"\"\n",
        "result = conn.query(explore_reviews_csv_query)\n",
        "print(result)"
      ]
    },
    {
      "cell_type": "code",
      "execution_count": 957,
      "metadata": {
        "colab": {
          "base_uri": "https://localhost:8080/"
        },
        "id": "5pqSTgTW8pP7",
        "outputId": "91195615-17b7-42dd-bdce-b80fb4938985"
      },
      "outputs": [
        {
          "output_type": "stream",
          "name": "stdout",
          "text": [
            "[]\n"
          ]
        }
      ],
      "source": [
        "explore_reviews_csv_query = \"\"\"\n",
        "MERGE (cpeMatch:CpeMatch {uri:\"cpe:2.3:a:sap:netweaver_as_abap_kernel:7.89:*:*:*:*:*:*:*\" })\n",
        "MERGE (cpe:CPE {version:\"7.89\"})\n",
        "MERGE (cpeMatch)-[:MAPPED_WITH]->(cpe)\n",
        "\n",
        "\"\"\"\n",
        "result = conn.query(explore_reviews_csv_query)\n",
        "print(result)"
      ]
    },
    {
      "cell_type": "code",
      "execution_count": 958,
      "metadata": {
        "colab": {
          "base_uri": "https://localhost:8080/"
        },
        "id": "8n_04uVPFgQ4",
        "outputId": "e9ccdb1c-3bd3-41de-f19d-7e7b1ff6ead5"
      },
      "outputs": [
        {
          "output_type": "stream",
          "name": "stdout",
          "text": [
            "[]\n"
          ]
        }
      ],
      "source": [
        "explore_reviews_csv_query = \"\"\"\n",
        "MERGE (cpeMatch:CpeMatch {uri:\"cpe:2.3:a:sap:business_objects_business_intelligence_platform:420:*:*:*:*:*:*:*\" })\n",
        "MERGE (cpe:CPE {version:\"420\"})\n",
        "MERGE (cpeMatch)-[:MAPPED_WITH]->(cpe)\n",
        "\n",
        "\"\"\"\n",
        "result = conn.query(explore_reviews_csv_query)\n",
        "print(result)"
      ]
    },
    {
      "cell_type": "code",
      "execution_count": 959,
      "metadata": {
        "colab": {
          "base_uri": "https://localhost:8080/"
        },
        "id": "ixCqK_VllPi3",
        "outputId": "627b75b1-3d43-4a9c-d687-222dfada42bb"
      },
      "outputs": [
        {
          "output_type": "stream",
          "name": "stdout",
          "text": [
            "[]\n"
          ]
        }
      ],
      "source": [
        "explore_reviews_csv_query = \"\"\"\n",
        "MERGE (cpeMatch:CpeMatch {uri:\"cpe:2.3:a:sap:business_planning_and_consolidation:810:*:*:*:*:microsoft:*:*\" })\n",
        "MERGE (cpe:CPE {version:\"810\"})\n",
        "MERGE (cpeMatch)-[:MAPPED_WITH]->(cpe)\n",
        "\n",
        "\"\"\"\n",
        "result = conn.query(explore_reviews_csv_query)\n",
        "print(result)"
      ]
    },
    {
      "cell_type": "code",
      "execution_count": 960,
      "metadata": {
        "colab": {
          "base_uri": "https://localhost:8080/"
        },
        "id": "phfT7_GZlOIG",
        "outputId": "ec0607b8-635d-4c44-e862-25106969465e"
      },
      "outputs": [
        {
          "output_type": "stream",
          "name": "stdout",
          "text": [
            "[]\n"
          ]
        }
      ],
      "source": [
        "explore_reviews_csv_query = \"\"\"\n",
        "MERGE (cpeMatch:CpeMatch {uri:\"cpe:2.3:a:sap:business_planning_and_consolidation:800:*:*:*:*:microsoft:*:*\" })\n",
        "MERGE (cpe:CPE {version:\"800\"})\n",
        "MERGE (cpeMatch)-[:MAPPED_WITH]->(cpe)\n",
        "\n",
        "\"\"\"\n",
        "result = conn.query(explore_reviews_csv_query)\n",
        "print(result)"
      ]
    },
    {
      "cell_type": "code",
      "execution_count": 961,
      "metadata": {
        "colab": {
          "base_uri": "https://localhost:8080/"
        },
        "id": "RNRVapf_8jBy",
        "outputId": "f8c4f010-9c70-4909-f9ef-2612e903d6a7"
      },
      "outputs": [
        {
          "output_type": "stream",
          "name": "stdout",
          "text": [
            "[]\n"
          ]
        }
      ],
      "source": [
        "explore_reviews_csv_query = \"\"\"\n",
        "MERGE (cpeMatch:CpeMatch {uri:\"cpe:2.3:a:sap:netweaver_application_server_for_java:7.50:*:*:*:*:*:*:*\" })\n",
        "MERGE (cpe:CPE {version:\"7.50\"})\n",
        "MERGE (cpeMatch)-[:MAPPED_WITH]->(cpe)\n",
        "\n",
        "\"\"\"\n",
        "result = conn.query(explore_reviews_csv_query)\n",
        "print(result)"
      ]
    },
    {
      "cell_type": "code",
      "execution_count": 962,
      "metadata": {
        "colab": {
          "base_uri": "https://localhost:8080/"
        },
        "id": "0ae3KnbtlQct",
        "outputId": "b5d12874-dee0-495c-d1b9-48d758438ce9"
      },
      "outputs": [
        {
          "output_type": "stream",
          "name": "stdout",
          "text": [
            "[]\n"
          ]
        }
      ],
      "source": [
        "explore_reviews_csv_query = \"\"\"\n",
        "MERGE (cpeMatch:CpeMatch {uri:\"cpe:2.3:a:sap:businessobjects_business_intelligence_platform:420:*:*:*:*:*:*:*\" })\n",
        "MERGE (cpe:CPE {version:\"420\"})\n",
        "MERGE (cpeMatch)-[:MAPPED_WITH]->(cpe)\n",
        "\n",
        "\"\"\"\n",
        "result = conn.query(explore_reviews_csv_query)\n",
        "print(result)"
      ]
    },
    {
      "cell_type": "code",
      "execution_count": 963,
      "metadata": {
        "colab": {
          "base_uri": "https://localhost:8080/"
        },
        "id": "LnEdxBrllSh0",
        "outputId": "ee08e25a-8885-48ac-a3dc-672f859d7b80"
      },
      "outputs": [
        {
          "output_type": "stream",
          "name": "stdout",
          "text": [
            "[]\n"
          ]
        }
      ],
      "source": [
        "explore_reviews_csv_query = \"\"\"\n",
        "MERGE (cpeMatch:CpeMatch {uri:\"cpe:2.3:a:sap:businessobjects_business_intelligence_platform:430:*:*:*:*:*:*:*\" })\n",
        "MERGE (cpe:CPE {version:\"430\"})\n",
        "MERGE (cpeMatch)-[:MAPPED_WITH]->(cpe)\n",
        "\n",
        "\"\"\"\n",
        "result = conn.query(explore_reviews_csv_query)\n",
        "print(result)"
      ]
    },
    {
      "cell_type": "code",
      "execution_count": 964,
      "metadata": {
        "colab": {
          "base_uri": "https://localhost:8080/"
        },
        "id": "_HJaQ1NilRUD",
        "outputId": "6f57aa17-1cb5-4c62-e185-f7ee4b11c7d3"
      },
      "outputs": [
        {
          "output_type": "stream",
          "name": "stdout",
          "text": [
            "[]\n"
          ]
        }
      ],
      "source": [
        "explore_reviews_csv_query = \"\"\"\n",
        "MERGE (cpeMatch:CpeMatch {uri:\"cpe:2.3:a:sap:businessobjects_business_intelligence_platform:420:*:*:*:analysis:olap:*:*\" })\n",
        "MERGE (cpe:CPE {version:\"420\"})\n",
        "MERGE (cpeMatch)-[:MAPPED_WITH]->(cpe)\n",
        "\n",
        "\"\"\"\n",
        "result = conn.query(explore_reviews_csv_query)\n",
        "print(result)"
      ]
    },
    {
      "cell_type": "code",
      "execution_count": 965,
      "metadata": {
        "colab": {
          "base_uri": "https://localhost:8080/"
        },
        "id": "4BBQv4MBlYN0",
        "outputId": "2ba5a018-c496-4dbc-97cf-377875b94964"
      },
      "outputs": [
        {
          "output_type": "stream",
          "name": "stdout",
          "text": [
            "[]\n"
          ]
        }
      ],
      "source": [
        "explore_reviews_csv_query = \"\"\"\n",
        "MERGE (cpeMatch:CpeMatch {uri:\"cpe:2.3:a:sap:businessobjects_business_intelligence_platform:430:*:*:*:analysis:olap:*:*\" })\n",
        "MERGE (cpe:CPE {version:\"430\"})\n",
        "MERGE (cpeMatch)-[:MAPPED_WITH]->(cpe)\n",
        "\n",
        "\"\"\"\n",
        "result = conn.query(explore_reviews_csv_query)\n",
        "print(result)"
      ]
    },
    {
      "cell_type": "code",
      "execution_count": 966,
      "metadata": {
        "colab": {
          "base_uri": "https://localhost:8080/"
        },
        "id": "w64VdVfuhxfS",
        "outputId": "04ed0960-b8c0-4fbb-ec18-e9c798072adf"
      },
      "outputs": [
        {
          "output_type": "stream",
          "name": "stdout",
          "text": [
            "[]\n"
          ]
        }
      ],
      "source": [
        "explore_reviews_csv_query = \"\"\"\n",
        "MERGE (cpeMatch:CpeMatch {uri:\"cpe:2.3:a:sap:bank_account_management:900:*:*:*:*:*:*:*\" })\n",
        "MERGE (cpe:CPE {version:\"900\"})\n",
        "MERGE (cpeMatch)-[:MAPPED_WITH]->(cpe)\n",
        "\n",
        "\"\"\"\n",
        "result = conn.query(explore_reviews_csv_query)\n",
        "print(result)"
      ]
    },
    {
      "cell_type": "code",
      "execution_count": 967,
      "metadata": {
        "colab": {
          "base_uri": "https://localhost:8080/"
        },
        "id": "4NYG_JuJ2np3",
        "outputId": "caaedcc4-9fca-4223-ab2e-6ccb6039dfd8"
      },
      "outputs": [
        {
          "output_type": "stream",
          "name": "stdout",
          "text": [
            "[]\n"
          ]
        }
      ],
      "source": [
        "explore_reviews_csv_query = \"\"\"\n",
        "MERGE (cpeMatch:CpeMatch {uri:\"cpe:2.3:a:sap:bank_account_management:800:*:*:*:*:*:*:*\" })\n",
        "MERGE (cpe:CPE {version:\"800\"})\n",
        "MERGE (cpeMatch)-[:MAPPED_WITH]->(cpe)\n",
        "\n",
        "\"\"\"\n",
        "result = conn.query(explore_reviews_csv_query)\n",
        "print(result)"
      ]
    },
    {
      "cell_type": "code",
      "execution_count": 968,
      "metadata": {
        "colab": {
          "base_uri": "https://localhost:8080/"
        },
        "id": "rL35pxMdmEYp",
        "outputId": "c9b56775-d7a6-47d4-df60-9b99213605d5"
      },
      "outputs": [
        {
          "output_type": "stream",
          "name": "stdout",
          "text": [
            "[]\n"
          ]
        }
      ],
      "source": [
        "explore_reviews_csv_query = \"\"\"\n",
        "MERGE (cpeMatch:CpeMatch {uri:\"cpe:2.3:a:linagora:twake:*:*:*:*:*:*:*:*\" })\n",
        "MERGE (cpe:CPE {version:\"*\"})\n",
        "MERGE (cpeMatch)-[:MAPPED_WITH]->(cpe)\n",
        "\n",
        "\"\"\"\n",
        "result = conn.query(explore_reviews_csv_query)\n",
        "print(result)"
      ]
    },
    {
      "cell_type": "code",
      "execution_count": 969,
      "metadata": {
        "colab": {
          "base_uri": "https://localhost:8080/"
        },
        "id": "1n3v0vB781t3",
        "outputId": "c83bf829-6ee8-4961-85a8-f91403629d29"
      },
      "outputs": [
        {
          "output_type": "stream",
          "name": "stdout",
          "text": [
            "[]\n"
          ]
        }
      ],
      "source": [
        "explore_reviews_csv_query = \"\"\"\n",
        "MERGE (cpeMatch:CpeMatch {uri:\"cpe:2.3:o:multilaserempresas:re708_firmware:re1200r4gc-2t2r-v3_v3411b_mul029b:*:*:*:*:*:*:*\" })\n",
        "MERGE (cpe:CPE {version:\"re1200r4gc-2t2r-v3_v3411b_mul029b\"})\n",
        "MERGE (cpeMatch)-[:MAPPED_WITH]->(cpe)\n",
        "\n",
        "\"\"\"\n",
        "result = conn.query(explore_reviews_csv_query)\n",
        "print(result)"
      ]
    },
    {
      "cell_type": "code",
      "execution_count": 970,
      "metadata": {
        "colab": {
          "base_uri": "https://localhost:8080/"
        },
        "id": "eOAoAjLL8z-o",
        "outputId": "3dd7470a-ca73-4f70-e962-f9087e11e0d0"
      },
      "outputs": [
        {
          "output_type": "stream",
          "name": "stdout",
          "text": [
            "[]\n"
          ]
        }
      ],
      "source": [
        "explore_reviews_csv_query = \"\"\"\n",
        "MERGE (cpeMatch:CpeMatch {uri:\"cpe:2.3:h:multilaserempresas:re708:-:*:*:*:*:*:*:*\" })\n",
        "MERGE (cpe:CPE {version:\"-\"})\n",
        "MERGE (cpeMatch)-[:MAPPED_WITH]->(cpe)\n",
        "\n",
        "\"\"\"\n",
        "result = conn.query(explore_reviews_csv_query)\n",
        "print(result)"
      ]
    },
    {
      "cell_type": "markdown",
      "metadata": {
        "id": "v_JgjuTayQL5"
      },
      "source": [
        "**Script_Unstructured data.cypher**"
      ]
    },
    {
      "cell_type": "markdown",
      "metadata": {
        "id": "5bS9uBOlK-8v"
      },
      "source": [
        "Extract the entities from unstructured data (vulnerability description) in CVE by using OIE model, entity-fishing, and en_core_web_sm model (from spaCy)\n"
      ]
    },
    {
      "cell_type": "code",
      "execution_count": 971,
      "metadata": {
        "colab": {
          "base_uri": "https://localhost:8080/"
        },
        "id": "8LrhRlpYK-G8",
        "outputId": "d8715839-3fa5-47d9-f298-7b9ecfd9c325"
      },
      "outputs": [
        {
          "output_type": "stream",
          "name": "stdout",
          "text": [
            "[]\n"
          ]
        }
      ],
      "source": [
        "explore_reviews_csv_query = \"\"\"\n",
        "CREATE (node1:Frame {text:\"gains\",type:\"verb\"}),\n",
        "       (node2:Frame_Argument{text:\"an attacker\",type:\"ARG0\"}),\n",
        "       (node3:Reference{text:\"who\",type:\"R-ARG0\"}),\n",
        "       (node4:Frame_Argument{text:\"local membership\",type:\"ARG1\"}),\n",
        "       (node5:Frame_Argument{text:\"to SAP_LocalAdmin\",type:\"ARG4\"}),\n",
        "\n",
        "       (node2)-[:HAS_ARGUMENT]->(node1),\n",
        "       (node3)-[:HAS_ARGUMENT]->(node1),\n",
        "       (node4)-[:HAS_ARGUMENT]->(node1),\n",
        "       (node5)-[:HAS_ARGUMENT]->(node1)\n",
        "\n",
        "MERGE (description:Description {cveId:\"CVE-2023-0012\"})\n",
        "MERGE (frame:Frame {text:\"gains\"})\n",
        "MERGE (description)-[:MAPPED_WITH]->(frame)\n",
        "\n",
        "\"\"\"\n",
        "result = conn.query(explore_reviews_csv_query)\n",
        "print(result)"
      ]
    },
    {
      "cell_type": "code",
      "execution_count": 972,
      "metadata": {
        "colab": {
          "base_uri": "https://localhost:8080/"
        },
        "id": "rSYckdLLNPqg",
        "outputId": "aab405db-7ca3-4df5-9fab-04919c388c86"
      },
      "outputs": [
        {
          "output_type": "stream",
          "name": "stdout",
          "text": [
            "[]\n"
          ]
        }
      ],
      "source": [
        "explore_reviews_csv_query = \"\"\"\n",
        "CREATE (node1:Frame {text:\"be\",type:\"verb\"}),\n",
        "       (node2:Frame_Argument{text:\"an attacker who gains local membership to SAP_LocalAdmin\",type:\"ARG1\"}),\n",
        "       (node3:Modifier_Modal{text:\"could\",type:\"ARGM-MOD\"}),\n",
        "       (node4:Frame_Argument{text:\"able to replace executables with a malicious file that will be started under a privileged account\",type:\"ARG2\"}),\n",
        "       (node5:Frame_Argument{type:\"ARG0\",Head:\"attacker\",offsetStart:3,offsetEnd:11,confidence_score:0.3651,wikipediaExternalRef:428681,wikidataId:\"Q280658\",domains:\"Biology\"}),\n",
        "       (node6:Frame_Argument{type:\"ARG2\",Head:\"malicious\",offsetStart:35,offsetEnd:44,confidence_score:0.5011,wikipediaExternalRef:20901,wikidataId:\"Q14001\",domains:\"Computer_Science\"}),\n",
        "\n",
        "       (node2)-[:HAS_ARGUMENT]->(node1),\n",
        "       (node3)-[:HAS_ARGUMENT]->(node1),\n",
        "       (node4)-[:HAS_ARGUMENT]->(node1),\n",
        "       (node5)-[:HAS_ARGUMENT]->(node1),\n",
        "       (node6)-[:HAS_ARGUMENT]->(node1)\n",
        "\n",
        "MERGE (description:Description {cveId:\"CVE-2023-0012\"})\n",
        "MERGE (frame:Frame {text:\"be\"})\n",
        "MERGE (description)-[:MAPPED_WITH]->(frame)       \n",
        "       \n",
        "\"\"\"\n",
        "result = conn.query(explore_reviews_csv_query)\n",
        "print(result)"
      ]
    },
    {
      "cell_type": "code",
      "execution_count": 973,
      "metadata": {
        "colab": {
          "base_uri": "https://localhost:8080/"
        },
        "id": "NTsuS76jLisW",
        "outputId": "38ffeb63-f99d-4b59-9f0b-c48eddabc554"
      },
      "outputs": [
        {
          "output_type": "stream",
          "name": "stdout",
          "text": [
            "[]\n"
          ]
        }
      ],
      "source": [
        "explore_reviews_csv_query = \"\"\"\n",
        "CREATE (node1:Frame {text:\"replace\",type:\"verb\"}),\n",
        "       (node2:Frame_Argument{text:\"executables\",type:\"ARG1\"}),\n",
        "       (node3:Frame_Argument{text:\"an attacker who gains local membership to SAP_LocalAdmin\",type:\"ARG2\"}),\n",
        "       (node4:Frame_Argument{text:\"with a malicious file that will be started under a privileged account\",type:\"ARG2\"}),\n",
        "\n",
        "       (node2)-[:HAS_ARGUMENT]->(node1),\n",
        "       (node3)-[:HAS_ARGUMENT]->(node1),\n",
        "       (node4)-[:HAS_ARGUMENT]->(node1)\n",
        "\n",
        "MERGE (description:Description {cveId:\"CVE-2023-0012\"})\n",
        "MERGE (frame:Frame {text:\"replace\"})\n",
        "MERGE (description)-[:MAPPED_WITH]->(frame)        \n",
        "\n",
        "\"\"\"\n",
        "result = conn.query(explore_reviews_csv_query)\n",
        "print(result)"
      ]
    },
    {
      "cell_type": "code",
      "execution_count": 974,
      "metadata": {
        "colab": {
          "base_uri": "https://localhost:8080/"
        },
        "id": "UHZeCtIINjMO",
        "outputId": "9f294437-f88f-43fc-d130-19467360022d"
      },
      "outputs": [
        {
          "output_type": "stream",
          "name": "stdout",
          "text": [
            "[]\n"
          ]
        }
      ],
      "source": [
        "explore_reviews_csv_query = \"\"\"\n",
        "CREATE (node1:Frame {text:\"started\",type:\"verb\"}),\n",
        "       (node2:Frame_Argument{text:\"a malicious file\",type:\"ARG1\"}),\n",
        "       (node3:Reference{text:\"that\",type:\"R-ARG1\"}),\n",
        "       (node4:Modifier_Modal{text:\"will\",type:\"ARGM-MOD\"}),\n",
        "       (node5:Modifier_Location{text:\"under a privileged account\",type:\"ARGM-LOC\"}),\n",
        "\n",
        "       (node2)-[:HAS_ARGUMENT]->(node1),\n",
        "       (node3)-[:HAS_ARGUMENT]->(node1),\n",
        "       (node4)-[:HAS_ARGUMENT]->(node1),\n",
        "       (node5)-[:HAS_ARGUMENT]->(node1)\n",
        "\n",
        "MERGE (description:Description {cveId:\"CVE-2023-0012\"})\n",
        "MERGE (frame:Frame {text:\"started\"})\n",
        "MERGE (description)-[:MAPPED_WITH]->(frame)       \n",
        "\n",
        "\"\"\"\n",
        "result = conn.query(explore_reviews_csv_query)\n",
        "print(result)"
      ]
    },
    {
      "cell_type": "code",
      "execution_count": 975,
      "metadata": {
        "colab": {
          "base_uri": "https://localhost:8080/"
        },
        "id": "XCmuApWEq1J0",
        "outputId": "881b18a7-4fd6-4ff0-9fcc-37374cb5786d"
      },
      "outputs": [
        {
          "output_type": "stream",
          "name": "stdout",
          "text": [
            "[]\n"
          ]
        }
      ],
      "source": [
        "explore_reviews_csv_query = \"\"\"\n",
        "CREATE (node1:Frame {text:\"Note\",type:\"verb\"}),\n",
        "       (node2:Modifier_Location{text:\"In SAP\",type:\"ARGM-LOC\"}),\n",
        "       (node3:Frame_Argument{text:\"that by default all user members of SAP_LocaAdmin are denied the ability to logon locally by security policy so that this can only occur if the system has already been compromised\",type:\"ARG1\"}),\n",
        "       (node4:Frame_Argument{type:\"ARG1\",Head:\"logon\",offsetStart:76,offsetEnd:81,confidence_score:0.6351,wikipediaExternalRef:9878372,wikidataId:\"Q472302\",domains:\"Computer_Science\"}),\n",
        "\n",
        "       (node2)-[:HAS_ARGUMENT]->(node1),\n",
        "       (node3)-[:HAS_ARGUMENT]->(node1),\n",
        "       (node4)-[:HAS_ARGUMENT]->(node1)\n",
        "\n",
        "MERGE (description:Description {cveId:\"CVE-2023-0012\"})\n",
        "MERGE (frame:Frame {text:\"Note\"})\n",
        "MERGE (description)-[:MAPPED_WITH]->(frame)       \n",
        "\n",
        "\"\"\"\n",
        "result = conn.query(explore_reviews_csv_query)\n",
        "print(result)"
      ]
    },
    {
      "cell_type": "code",
      "execution_count": 976,
      "metadata": {
        "colab": {
          "base_uri": "https://localhost:8080/"
        },
        "id": "Tlpm6WuqNkjy",
        "outputId": "336ec6fe-6679-4f6e-ee64-360bdfdcc7a9"
      },
      "outputs": [
        {
          "output_type": "stream",
          "name": "stdout",
          "text": [
            "[]\n"
          ]
        }
      ],
      "source": [
        "explore_reviews_csv_query = \"\"\"\n",
        "CREATE (node1:Frame {text:\"denied\",type:\"Verb\"}),\n",
        "       (node2:Modifier_Manner{text:\"by default all user members of\",type:\"ARGM-MNR\"}),\n",
        "       (node3:Frame_Argument{text:\"the ability to logon locally by security policy\",type:\"ARG1\"}),\n",
        "       (node4:Modifier_Purpose{text:\"so that this can only occur if the system has already been compromised\",type:\"ARGM-PRP\"}),\n",
        "       (node5:Frame_Argument{type:\"ARG0\",Head:\"security policy\",offsetStart:32,offsetEnd:47,confidence_score:0.5825,wikipediaExternalRef:34231217,wikidataId:\"Q1128636\",domains:\"Electronics, Computer_Science, Telecommunication\"}),\n",
        "\n",
        "       (node2)-[:HAS_ARGUMENT]->(node1),\n",
        "       (node3)-[:HAS_ARGUMENT]->(node1),\n",
        "       (node4)-[:HAS_ARGUMENT]->(node1),\n",
        "       (node5)-[:HAS_ARGUMENT]->(node1)\n",
        "\n",
        "MERGE (description:Description {cveId:\"CVE-2023-0012\"})\n",
        "MERGE (frame:Frame {text:\"denied\"})\n",
        "MERGE (description)-[:MAPPED_WITH]->(frame)        \n",
        "\n",
        "\"\"\"\n",
        "result = conn.query(explore_reviews_csv_query)\n",
        "print(result)"
      ]
    },
    {
      "cell_type": "code",
      "execution_count": 977,
      "metadata": {
        "colab": {
          "base_uri": "https://localhost:8080/"
        },
        "id": "YZr_jd8CNlyL",
        "outputId": "02dff529-bef8-4c86-abdf-9f24c6a148e6"
      },
      "outputs": [
        {
          "output_type": "stream",
          "name": "stdout",
          "text": [
            "[]\n"
          ]
        }
      ],
      "source": [
        "explore_reviews_csv_query = \"\"\"\n",
        "CREATE (node1:Frame {text:\"logon\",type:\"Verb\"}),\n",
        "       (node2:Frame_Argument{text:\"locally\",type:\"ARG1\"}),\n",
        "       (node3:Frame_Argument{text:\"by security\",type:\"ARG2\"}),\n",
        "\n",
        "       (node2)-[:HAS_ARGUMENT]->(node1),\n",
        "       (node3)-[:HAS_ARGUMENT]->(node1)\n",
        "\n",
        "MERGE (description:Description {cveId:\"CVE-2023-0012\"})\n",
        "MERGE (frame:Frame {text:\"logon\"})\n",
        "MERGE (description)-[:MAPPED_WITH]->(frame)       \n",
        "      \n",
        "\n",
        "\"\"\"\n",
        "result = conn.query(explore_reviews_csv_query)\n",
        "print(result)"
      ]
    },
    {
      "cell_type": "code",
      "execution_count": 978,
      "metadata": {
        "colab": {
          "base_uri": "https://localhost:8080/"
        },
        "id": "p9WqiFIwNm1S",
        "outputId": "839ab82a-0da7-4fa5-fe12-720b917a4267"
      },
      "outputs": [
        {
          "output_type": "stream",
          "name": "stdout",
          "text": [
            "[]\n"
          ]
        }
      ],
      "source": [
        "explore_reviews_csv_query = \"\"\"\n",
        "CREATE (node1:Frame {text:\"occur\",type:\"Verb\"}),\n",
        "       (node2:Frame_Argument{text:\"this\",type:\"ARG1\"}),\n",
        "       (node3:Modifier_Modal{text:\"can\",type:\"ARGM-MOD\"}),\n",
        "       (node4:Modifier_Adverbial{text:\"only\",type:\"ARGM-ADV\"}),\n",
        "       (node5:Modifier_Adverbial{text:\"if the system has already been compromised\",type:\"ARGM-ADV\"}),\n",
        "\n",
        "       (node2)-[:HAS_ARGUMENT]->(node1),\n",
        "       (node3)-[:HAS_ARGUMENT]->(node1),\n",
        "       (node4)-[:HAS_ARGUMENT]->(node1),\n",
        "       (node5)-[:HAS_ARGUMENT]->(node1)\n",
        "\n",
        "MERGE (description:Description {cveId:\"CVE-2023-0012\"})\n",
        "MERGE (frame:Frame {text:\"occur\"})\n",
        "MERGE (description)-[:MAPPED_WITH]->(frame)        \n",
        "\n",
        "\"\"\"\n",
        "result = conn.query(explore_reviews_csv_query)\n",
        "print(result)"
      ]
    },
    {
      "cell_type": "code",
      "execution_count": 979,
      "metadata": {
        "id": "qg51jo8dNo2u",
        "colab": {
          "base_uri": "https://localhost:8080/"
        },
        "outputId": "9cda1a8f-fad1-40f1-e9c2-4e3fa375c61b"
      },
      "outputs": [
        {
          "output_type": "stream",
          "name": "stdout",
          "text": [
            "[]\n"
          ]
        }
      ],
      "source": [
        "explore_reviews_csv_query = \"\"\"\n",
        "CREATE (node1:Frame {text:\"compromised\",type:\"Verb\"}),\n",
        "       (node2:Frame_Argument{text:\"the system\",type:\"ARG1\"}),\n",
        "       (node3:Modifier_Temporal{text:\"already\",type:\"ARGM-TMP\"}),\n",
        "\n",
        "       (node2)-[:HAS_ARGUMENT]->(node1),\n",
        "       (node3)-[:HAS_ARGUMENT]->(node1)\n",
        "\n",
        "MERGE (description:Description {cveId:\"CVE-2023-0012\"})\n",
        "MERGE (frame:Frame {text:\"compromised\"})\n",
        "MERGE (description)-[:MAPPED_WITH]->(frame)       \n",
        "\n",
        "\"\"\"\n",
        "result = conn.query(explore_reviews_csv_query)\n",
        "print(result)"
      ]
    },
    {
      "cell_type": "code",
      "execution_count": 980,
      "metadata": {
        "id": "mLviV6NxNn6W",
        "colab": {
          "base_uri": "https://localhost:8080/"
        },
        "outputId": "92d67f5d-92ed-424c-d8fe-b8f07b9e6c41"
      },
      "outputs": [
        {
          "output_type": "stream",
          "name": "stdout",
          "text": [
            "[]\n"
          ]
        }
      ],
      "source": [
        "explore_reviews_csv_query = \"\"\"\n",
        "CREATE (node1:Frame {text:\"encode\",type:\"Verb\"}),\n",
        "       (node2:Frame_Argument{text:\"The ABAP Keyword Documentation of SAP NetWeaver Application Server - versions 702 , 731 , 740 , 750 , 751 , 752 , 753 , 754 , 755 , 756 , 757 , for ABAP and ABAP Platform\",type:\"ARG0\"}),\n",
        "       (node3:Modifier_Negation{text:\"not\",type:\"ARGM-NEG\"}),\n",
        "       (node4:Modifier_Manner{text:\"sufficiently\",type:\"ARGM-MNR\"}),\n",
        "       (node5:Frame_Argument{text:\"user - controlled inputs\",type:\"ARG1\"}),\n",
        "       (node6:Modifier_Adverbial{text:\"resulting in Cross - Site Scripting ( XSS ) vulnerability . On successful exploitation an attacker can cause limited impact on confidentiality and integrity of the application\",type:\"ARGM-ADV\"}),\n",
        "       (node7:Frame_Argument{type:\"ARG1\",Head:\"user-controlled\",offsetStart:189,offsetEnd:204,confidence_score:0.4601,wikipediaExternalRef:21875249,wikidataId:\"Q3561045\",domains:\"Computer_Science\"}),\n",
        "       (node8:Frame_Argument{type:\"ARG1\",Head:\"inputs\",offsetStart:205,offsetEnd:211,confidence_score:0.3879,wikipediaExternalRef:11231,wikidataId:\"Q210947\",domains:\"Finance,Sociology,Economy,Commerce,Enterprise\"}),\n",
        "\n",
        "       (node2)-[:HAS_ARGUMENT]->(node1),\n",
        "       (node3)-[:HAS_ARGUMENT]->(node1),\n",
        "       (node4)-[:HAS_ARGUMENT]->(node1),\n",
        "       (node5)-[:HAS_ARGUMENT]->(node1),\n",
        "       (node6)-[:HAS_ARGUMENT]->(node1),\n",
        "       (node7)-[:HAS_ARGUMENT]->(node1),\n",
        "       (node8)-[:HAS_ARGUMENT]->(node1)\n",
        "\n",
        "MERGE (description:Description {cveId:\"CVE-2023-0013\"})\n",
        "MERGE (frame:Frame {text:\"encode\"})\n",
        "MERGE (description)-[:MAPPED_WITH]->(frame)        \n",
        "\n",
        "\"\"\"\n",
        "result = conn.query(explore_reviews_csv_query)\n",
        "print(result)"
      ]
    },
    {
      "cell_type": "code",
      "execution_count": 981,
      "metadata": {
        "id": "X1Aq_2RVNqDm",
        "colab": {
          "base_uri": "https://localhost:8080/"
        },
        "outputId": "38106ee4-1964-45ef-ca04-d9d6247f1f04"
      },
      "outputs": [
        {
          "output_type": "stream",
          "name": "stdout",
          "text": [
            "[]\n"
          ]
        }
      ],
      "source": [
        "explore_reviews_csv_query = \"\"\"\n",
        "CREATE (node1:Frame {text:\"controlled\",type:\"Verb\"}),\n",
        "       (node2:Frame_Argument{text:\"user\",type:\"ARG0\"}),\n",
        "       (node3:Frame_Argument{text:\"inputs\",type:\"ARG1\"}),\n",
        "\n",
        "       (node2)-[:HAS_ARGUMENT]->(node1),\n",
        "       (node3)-[:HAS_ARGUMENT]->(node1)\n",
        "\n",
        "MERGE (description:Description {cveId:\"CVE-2023-0013\"})\n",
        "MERGE (frame:Frame {text:\"controlled\"})\n",
        "MERGE (description)-[:MAPPED_WITH]->(frame)        \n",
        "\n",
        "\"\"\"\n",
        "result = conn.query(explore_reviews_csv_query)\n",
        "print(result)"
      ]
    },
    {
      "cell_type": "code",
      "execution_count": 982,
      "metadata": {
        "id": "HAlGxjMENq9t",
        "colab": {
          "base_uri": "https://localhost:8080/"
        },
        "outputId": "3c0229f4-925a-41cb-9730-ed59072af3e8"
      },
      "outputs": [
        {
          "output_type": "stream",
          "name": "stdout",
          "text": [
            "[]\n"
          ]
        }
      ],
      "source": [
        "explore_reviews_csv_query = \"\"\"\n",
        "CREATE (node1:Frame {text:\"cause\",type:\"Verb\"}),\n",
        "       (node2:Modifier_Location{text:\"On successful exploitation\",type:\"ARGM-LOC\"}),\n",
        "       (node3:Frame_Argument{text:\"an attacker\",type:\"ARG0\"}),\n",
        "       (node4:Modifier_Modal{text:\"can\",type:\"ARGM-MOD\"}),\n",
        "       (node5:Frame_Argument{text:\"limited impact on confidentiality and integrity of the application\",type:\"ARG1\"}),\n",
        "\n",
        "       (node2)-[:HAS_ARGUMENT]->(node1),\n",
        "       (node3)-[:HAS_ARGUMENT]->(node1),\n",
        "       (node4)-[:HAS_ARGUMENT]->(node1),\n",
        "       (node5)-[:HAS_ARGUMENT]->(node1)\n",
        "\n",
        "MERGE (description:Description {cveId:\"CVE-2023-0013\"})\n",
        "MERGE (frame:Frame {text:\"cause\"})\n",
        "MERGE (description)-[:MAPPED_WITH]->(frame)        \n",
        "\n",
        "\"\"\"\n",
        "result = conn.query(explore_reviews_csv_query)\n",
        "print(result)"
      ]
    },
    {
      "cell_type": "code",
      "execution_count": 983,
      "metadata": {
        "id": "YWkiE2vtNsPd",
        "colab": {
          "base_uri": "https://localhost:8080/"
        },
        "outputId": "b3ff522f-dd1a-4260-8f00-ffa5a4319dde"
      },
      "outputs": [
        {
          "output_type": "stream",
          "name": "stdout",
          "text": [
            "[]\n"
          ]
        }
      ],
      "source": [
        "explore_reviews_csv_query = \"\"\"\n",
        "CREATE (node1:Frame {text:\"creates\",type:\"Verb\"}),\n",
        "       (node2:Frame_Argument{text:\"SAP NetWeaver ABAP Server and ABAP Platform - versions SAP_BASIS 700 , 701 , 702 , 710 , 711 , 730 , 731 , 740 , 750 , 751 , 752 , 753 , 754 , 755 , 756 , 757 , KERNEL 7.22 , 7.53 , 7.77 , 7.81 , 7.85 , 7.89 , KRNL64UC 7.22 , 7.22EXT , 7.53 , KRNL64NUC 7.22 , 7.22EXT\",type:\"ARG0\"}),\n",
        "       (node3:Frame_Argument{text:\"information about system identity\",type:\"ARG1\"}),\n",
        "       (node4:Modifier_Location{text:\"in an ambiguous format\",type:\"ARGM-LOC\"}),\n",
        "       (node5:Frame_Argument{type:\"ARG1\",Head:\"KERNEL\",offsetStart:161,offsetEnd:167,confidence_score:0.4157,wikipediaExternalRef:21346982,wikidataId:\"Q9662\",domains:\"Computer_Science\"}),\n",
        "\n",
        "       (node2)-[:HAS_ARGUMENT]->(node1),\n",
        "       (node3)-[:HAS_ARGUMENT]->(node1),\n",
        "       (node4)-[:HAS_ARGUMENT]->(node1),\n",
        "       (node5)-[:HAS_ARGUMENT]->(node1)\n",
        "\n",
        "MERGE (description:Description {cveId:\"CVE-2023-0014\"})\n",
        "MERGE (frame:Frame {text:\"creates\"})\n",
        "MERGE (description)-[:MAPPED_WITH]->(frame)        \n",
        "\n",
        "\"\"\"\n",
        "result = conn.query(explore_reviews_csv_query)\n",
        "print(result)"
      ]
    },
    {
      "cell_type": "code",
      "execution_count": 984,
      "metadata": {
        "id": "f3UO_q-mNtXL",
        "colab": {
          "base_uri": "https://localhost:8080/"
        },
        "outputId": "73d96786-ee13-4e66-9fc8-8861bf27f162"
      },
      "outputs": [
        {
          "output_type": "stream",
          "name": "stdout",
          "text": [
            "[]\n"
          ]
        }
      ],
      "source": [
        "explore_reviews_csv_query = \"\"\"\n",
        "CREATE (node1:Frame {text:\"lead\",type:\"Verb\"}),\n",
        "       (node2:Frame_Argument{text:\"This\",type:\"ARG0\"}),\n",
        "       (node3:Modifier_Modal{text:\"could\",type:\"ARGM-MOD\"}),\n",
        "       (node4:Frame_Argument{text:\"to capture - replay vulnerability\",type:\"ARG2\"}),\n",
        "       (node5:Frame_Argument{type:\"ARG1\",Head:\"vulnerability\",offsetStart:20,offsetEnd:33,confidence_score:0.3654,wikipediaExternalRef:1129827,wikidataId:\"Q631425\",domains:\"Military,Computer_Science\"}),\n",
        "\n",
        "       (node2)-[:HAS_ARGUMENT]->(node1),\n",
        "       (node3)-[:HAS_ARGUMENT]->(node1),\n",
        "       (node4)-[:HAS_ARGUMENT]->(node1),\n",
        "       (node5)-[:HAS_ARGUMENT]->(node1)\n",
        "\n",
        "MERGE (description:Description {cveId:\"CVE-2023-0014\"})\n",
        "MERGE (frame:Frame {text:\"lead\"})\n",
        "MERGE (description)-[:MAPPED_WITH]->(frame)       \n",
        "\n",
        "\"\"\"\n",
        "result = conn.query(explore_reviews_csv_query)\n",
        "print(result)"
      ]
    },
    {
      "cell_type": "code",
      "execution_count": 985,
      "metadata": {
        "id": "oB5R3dBoQWqv",
        "colab": {
          "base_uri": "https://localhost:8080/"
        },
        "outputId": "e0fcec3c-b688-47cb-88fe-a0adeda3ce3d"
      },
      "outputs": [
        {
          "output_type": "stream",
          "name": "stdout",
          "text": [
            "[]\n"
          ]
        }
      ],
      "source": [
        "explore_reviews_csv_query = \"\"\"\n",
        "CREATE (node1:Frame {text:\"may\",type:\"Verb\"}),\n",
        "       (node2:Modifier_Modal{text:\"could\",type:\"ARGM-MOD\"}),\n",
        "       (node3:Frame_Argument{text:\"be exploited by malicious users to obtain illegitimate access to the system\",type:\"ARG1\"}),\n",
        "       (node4:Frame_Argument{type:\"ARG0\",Head:\"malicious users\",offsetStart:16,offsetEnd:31,confidence_score:0.6062,wikipediaExternalRef:2471540,wikidataId:\"Q2798820\",domains:\"Computer_Science\"}),\n",
        "\n",
        "       (node2)-[:HAS_ARGUMENT]->(node1),\n",
        "       (node3)-[:HAS_ARGUMENT]->(node1),\n",
        "       (node4)-[:HAS_ARGUMENT]->(node1)\n",
        "\n",
        "MERGE (description:Description {cveId:\"CVE-2023-0014\"})\n",
        "MERGE (frame:Frame {text:\"may\"})\n",
        "MERGE (description)-[:MAPPED_WITH]->(frame)       \n",
        "\n",
        "\"\"\"\n",
        "result = conn.query(explore_reviews_csv_query)\n",
        "print(result)"
      ]
    },
    {
      "cell_type": "code",
      "execution_count": 986,
      "metadata": {
        "id": "jTIZT8-fxEJE",
        "colab": {
          "base_uri": "https://localhost:8080/"
        },
        "outputId": "5e1f0bda-6de4-4e2a-fc64-e274d63a3972"
      },
      "outputs": [
        {
          "output_type": "stream",
          "name": "stdout",
          "text": [
            "[]\n"
          ]
        }
      ],
      "source": [
        "explore_reviews_csv_query = \"\"\"\n",
        "CREATE (node1:Frame {text:\"exploited\",type:\"Verb\"}),\n",
        "       (node2:Frame_Argument{text:\"This\",type:\"ARG1\"}),\n",
        "       (node3:Modifier_Modal{text:\"may\",type:\"ARGM-MOD\"}),\n",
        "       (node4:Frame_Argument{text:\"by malicious users\",type:\"ARG0\"}),\n",
        "       (node5:Frame_Argument{text:\"to obtain illegitimate access to the system\",type:\"ARG2\"}),\n",
        "\n",
        "       (node2)-[:HAS_ARGUMENT]->(node1),\n",
        "       (node3)-[:HAS_ARGUMENT]->(node1),\n",
        "       (node4)-[:HAS_ARGUMENT]->(node1),\n",
        "       (node5)-[:HAS_ARGUMENT]->(node1)\n",
        "\n",
        "MERGE (description:Description {cveId:\"CVE-2023-0014\"})\n",
        "MERGE (frame:Frame {text:\"exploited\"})\n",
        "MERGE (description)-[:MAPPED_WITH]->(frame)       \n",
        "\n",
        "\"\"\"\n",
        "result = conn.query(explore_reviews_csv_query)\n",
        "print(result)"
      ]
    },
    {
      "cell_type": "code",
      "execution_count": 987,
      "metadata": {
        "id": "ZJ4s34ypxFEX",
        "colab": {
          "base_uri": "https://localhost:8080/"
        },
        "outputId": "d8f6d7af-c04a-45ef-fc12-2f07bf0eca22"
      },
      "outputs": [
        {
          "output_type": "stream",
          "name": "stdout",
          "text": [
            "[]\n"
          ]
        }
      ],
      "source": [
        "explore_reviews_csv_query = \"\"\"\n",
        "CREATE (node1:Frame {text:\"return\",type:\"Verb\"}),\n",
        "       (node2:Frame_Argument{text:\"some calls\",type:\"ARG0\"}),\n",
        "       (node3:Frame_Argument{text:\"json\",type:\"ARG1\"}),\n",
        "       (node4:Modifier_Manner{text:\"with wrong content type\",type:\"ARGM-MNR\"}),\n",
        "       (node5:Modifier_Manner{text:\"in the header of the\",type:\"ARGM-MNR\"}),\n",
        "\n",
        "       (node2)-[:HAS_ARGUMENT]->(node1),\n",
        "       (node3)-[:HAS_ARGUMENT]->(node1),\n",
        "       (node4)-[:HAS_ARGUMENT]->(node1),\n",
        "       (node5)-[:HAS_ARGUMENT]->(node1)\n",
        "\n",
        "MERGE (description:Description {cveId:\"CVE-2023-0015\"})\n",
        "MERGE (frame:Frame {text:\"return\"})\n",
        "MERGE (description)-[:MAPPED_WITH]->(frame)        \n",
        "\n",
        "\"\"\"\n",
        "result = conn.query(explore_reviews_csv_query)\n",
        "print(result)"
      ]
    },
    {
      "cell_type": "code",
      "execution_count": 988,
      "metadata": {
        "id": "GnCyLc3SxGEL",
        "colab": {
          "base_uri": "https://localhost:8080/"
        },
        "outputId": "9e5708e7-b3e7-4db7-b24b-51bb97074588"
      },
      "outputs": [
        {
          "output_type": "stream",
          "name": "stdout",
          "text": [
            "[]\n"
          ]
        }
      ],
      "source": [
        "explore_reviews_csv_query = \"\"\"\n",
        "CREATE (node1:Frame {text:\"calls\",type:\"Verb\"}),\n",
        "       (node2:Frame_Argument{text:\"a custom application\",type:\"ARG0\"}),\n",
        "       (node3:Reference{text:\"that\",type:\"R-ARG0\"}),\n",
        "       (node4:Modifier_Manner{text:\"directly\",type:\"ARGM-MNR\"}),\n",
        "       (node5:Frame_Argument{text:\"the jsp of Web Intelligence\",type:\"ARG1\"}),\n",
        "\n",
        "       (node2)-[:HAS_ARGUMENT]->(node1),\n",
        "       (node3)-[:HAS_ARGUMENT]->(node1),\n",
        "       (node4)-[:HAS_ARGUMENT]->(node1),\n",
        "       (node5)-[:HAS_ARGUMENT]->(node1)\n",
        "\n",
        "MERGE (description:Description {cveId:\"CVE-2023-0015\"})\n",
        "MERGE (frame:Frame {text:\"calls\"})\n",
        "MERGE (description)-[:MAPPED_WITH]->(frame)        \n",
        "\n",
        "\"\"\"\n",
        "result = conn.query(explore_reviews_csv_query)\n",
        "print(result)"
      ]
    },
    {
      "cell_type": "code",
      "execution_count": 989,
      "metadata": {
        "id": "ejO46JMLxG5C",
        "colab": {
          "base_uri": "https://localhost:8080/"
        },
        "outputId": "e7502465-e9b3-4f2b-f6d8-5b77b3762025"
      },
      "outputs": [
        {
          "output_type": "stream",
          "name": "stdout",
          "text": [
            "[]\n"
          ]
        }
      ],
      "source": [
        "explore_reviews_csv_query = \"\"\"\n",
        "CREATE (node1:Frame {text:\"be\",type:\"Verb\"}),\n",
        "       (node2:Frame_Argument{text:\"a custom application that calls directly the jsp of Web Intelligence DHTML\",type:\"ARG1\"}),\n",
        "       (node3:Modifier_Modal{text:\"may\",type:\"ARGM-MOD\"}),\n",
        "       (node4:Frame_Argument{text:\"vulnerable to XSS attacks\",type:\"ARG2\"}),\n",
        "\n",
        "       (node2)-[:HAS_ARGUMENT]->(node1),\n",
        "       (node3)-[:HAS_ARGUMENT]->(node1),\n",
        "       (node4)-[:HAS_ARGUMENT]->(node1)\n",
        "\n",
        "MERGE (description:Description {cveId:\"CVE-2023-0015\"})\n",
        "MERGE (frame:Frame {text:\"be\"})\n",
        "MERGE (description)-[:MAPPED_WITH]->(frame)       \n",
        "\n",
        "\"\"\"\n",
        "result = conn.query(explore_reviews_csv_query)\n",
        "print(result)"
      ]
    },
    {
      "cell_type": "code",
      "execution_count": 990,
      "metadata": {
        "id": "NJxnNpvpxH0p",
        "colab": {
          "base_uri": "https://localhost:8080/"
        },
        "outputId": "3b48fdbc-f7b5-46cd-b410-e3f0f67a8ed7"
      },
      "outputs": [
        {
          "output_type": "stream",
          "name": "stdout",
          "text": [
            "[]\n"
          ]
        }
      ],
      "source": [
        "explore_reviews_csv_query = \"\"\"\n",
        "CREATE (node1:Frame {text:\"cause\",type:\"Verb\"}),\n",
        "       (node2:Modifier_Location{text:\"On successful exploitation\",type:\"ARGM-LOC\"}),\n",
        "       (node3:Frame_Argument{text:\"an attacker\",type:\"ARG0\"}),\n",
        "       (node4:Modifier_Modal{text:\"can\",type:\"ARGM-MOD\"}),\n",
        "       (node5:Frame_Argument{text:\"limited impact on confidentiality and integrity of the application\",type:\"ARG1\"}),\n",
        "\n",
        "       (node2)-[:HAS_ARGUMENT]->(node1),\n",
        "       (node3)-[:HAS_ARGUMENT]->(node1),\n",
        "       (node4)-[:HAS_ARGUMENT]->(node1),\n",
        "       (node5)-[:HAS_ARGUMENT]->(node1)\n",
        "\n",
        "MERGE (description:Description {cveId:\"CVE-2023-0015\"})\n",
        "MERGE (frame:Frame {text:\"cause\"})\n",
        "MERGE (description)-[:MAPPED_WITH]->(frame)       \n",
        "\n",
        "\"\"\"\n",
        "result = conn.query(explore_reviews_csv_query)\n",
        "print(result)"
      ]
    },
    {
      "cell_type": "code",
      "execution_count": 991,
      "metadata": {
        "id": "ksvrkEhsxI2c",
        "colab": {
          "base_uri": "https://localhost:8080/"
        },
        "outputId": "42789aa7-caab-41b1-e4e1-2179ba49f29b"
      },
      "outputs": [
        {
          "output_type": "stream",
          "name": "stdout",
          "text": [
            "[]\n"
          ]
        }
      ],
      "source": [
        "explore_reviews_csv_query = \"\"\"\n",
        "CREATE (node1:Frame {text:\"allows\",type:\"Verb\"}),\n",
        "       (node2:Frame_Argument{text:\"SAP BPC MS 10.0 - version 810\",type:\"ARG0\"}),\n",
        "       (node3:Frame_Argument{text:\"an unauthorized attacker to execute crafted database queries\",type:\"ARG1\"}),\n",
        "       (node4:Frame_Argument{type:\"ARG1\",Head:\"unauthorized\",offsetStart:41,offsetEnd:53,confidence_score:0.3687,wikipediaExternalRef:151617,wikidataId:\"Q788590\",domains:\"Sociology,Electronics,Engineering\"}),\n",
        "       (node5:Frame_Argument{type:\"ARG1\",Head:\"attacker\",offsetStart:54,offsetEnd:62,confidence_score:0.4001,wikipediaExternalRef:428681,wikidataId:\"Q280658\",domains:\"Biology\"}),\n",
        "\n",
        "\n",
        "       (node2)-[:HAS_ARGUMENT]->(node1),\n",
        "       (node3)-[:HAS_ARGUMENT]->(node1),\n",
        "       (node4)-[:HAS_ARGUMENT]->(node1),\n",
        "       (node5)-[:HAS_ARGUMENT]->(node1)\n",
        "\n",
        "MERGE (description:Description {cveId:\"CVE-2023-0016\"})\n",
        "MERGE (frame:Frame {text:\"allows\"})\n",
        "MERGE (description)-[:MAPPED_WITH]->(frame)       \n",
        "\n",
        "\"\"\"\n",
        "result = conn.query(explore_reviews_csv_query)\n",
        "print(result)"
      ]
    },
    {
      "cell_type": "code",
      "execution_count": 992,
      "metadata": {
        "id": "7lGP5TUuxJ_h",
        "colab": {
          "base_uri": "https://localhost:8080/"
        },
        "outputId": "6fdcb0bb-db3c-4164-b04d-02e7f81296fd"
      },
      "outputs": [
        {
          "output_type": "stream",
          "name": "stdout",
          "text": [
            "[]\n"
          ]
        }
      ],
      "source": [
        "explore_reviews_csv_query = \"\"\"\n",
        "CREATE (node1:Frame {text:\"execute\",type:\"Verb\"}),\n",
        "       (node2:Frame_Argument{text:\"an unauthorized attacker\",type:\"ARG0\"}),\n",
        "       (node3:Frame_Argument{text:\"crafted database queries\",type:\"ARG1\"}),\n",
        "\n",
        "       (node2)-[:HAS_ARGUMENT]->(node1),\n",
        "       (node3)-[:HAS_ARGUMENT]->(node1)\n",
        "\n",
        "MERGE (description:Description {cveId:\"CVE-2023-0016\"})\n",
        "MERGE (frame:Frame {text:\"execute\"})\n",
        "MERGE (description)-[:MAPPED_WITH]->(frame)       \n",
        "\n",
        "\"\"\"\n",
        "result = conn.query(explore_reviews_csv_query)\n",
        "print(result)"
      ]
    },
    {
      "cell_type": "code",
      "execution_count": 993,
      "metadata": {
        "id": "aZUemEcexMKR",
        "colab": {
          "base_uri": "https://localhost:8080/"
        },
        "outputId": "c4afbd18-233a-4627-ffa0-74466b2e43f8"
      },
      "outputs": [
        {
          "output_type": "stream",
          "name": "stdout",
          "text": [
            "[]\n"
          ]
        }
      ],
      "source": [
        "explore_reviews_csv_query = \"\"\"\n",
        "CREATE (node1:Frame {text:\"lead\",type:\"Verb\"}),\n",
        "       (node2:Frame_Argument{text:\"The exploitation of this issue\",type:\"ARG0\"}),\n",
        "       (node3:Modifier_Modal{text:\"could\",type:\"ARGM-MOD\"}),\n",
        "       (node4:Frame_Argument{text:\"to SQL injection vulnerability\",type:\"ARG2\"}),\n",
        "\n",
        "       (node2)-[:HAS_ARGUMENT]->(node1),\n",
        "       (node3)-[:HAS_ARGUMENT]->(node1),\n",
        "       (node4)-[:HAS_ARGUMENT]->(node1)\n",
        "\n",
        "MERGE (description:Description {cveId:\"CVE-2023-0016\"})\n",
        "MERGE (frame:Frame {text:\"lead\"})\n",
        "MERGE (description)-[:MAPPED_WITH]->(frame)        \n",
        "\n",
        "\"\"\"\n",
        "result = conn.query(explore_reviews_csv_query)\n",
        "print(result)"
      ]
    },
    {
      "cell_type": "code",
      "execution_count": 994,
      "metadata": {
        "id": "P4iipYB3xNGH",
        "colab": {
          "base_uri": "https://localhost:8080/"
        },
        "outputId": "afa5e8a9-7246-4d79-e892-e6d8d1674129"
      },
      "outputs": [
        {
          "output_type": "stream",
          "name": "stdout",
          "text": [
            "[]\n"
          ]
        }
      ],
      "source": [
        "explore_reviews_csv_query = \"\"\"\n",
        "CREATE (node1:Frame {text:\"could\",type:\"Verb\"}),\n",
        "       (node2:Frame_Argument{text:\"The exploitation of this issue\",type:\"ARG0\"}),\n",
        "       (node3:Modifier_Modal{text:\"could\",type:\"ARGM-MOD\"}),\n",
        "       (node4:Frame_Argument{text:\"allow an attacker to access , modify , and/or delete data from the backend database\",type:\"ARG1\"}),\n",
        "\n",
        "       (node2)-[:HAS_ARGUMENT]->(node1),\n",
        "       (node3)-[:HAS_ARGUMENT]->(node1),\n",
        "       (node4)-[:HAS_ARGUMENT]->(node1)\n",
        "\n",
        "MERGE (description:Description {cveId:\"CVE-2023-0016\"})\n",
        "MERGE (frame:Frame {text:\"could\"})\n",
        "MERGE (description)-[:MAPPED_WITH]->(frame)       \n",
        "\n",
        "\"\"\"\n",
        "result = conn.query(explore_reviews_csv_query)\n",
        "print(result)"
      ]
    },
    {
      "cell_type": "code",
      "execution_count": 995,
      "metadata": {
        "id": "e84wr0dWxOHU",
        "colab": {
          "base_uri": "https://localhost:8080/"
        },
        "outputId": "9fbde446-aaf8-4fb5-e4d0-f77a369adf2a"
      },
      "outputs": [
        {
          "output_type": "stream",
          "name": "stdout",
          "text": [
            "[]\n"
          ]
        }
      ],
      "source": [
        "explore_reviews_csv_query = \"\"\"\n",
        "CREATE (node1:Frame {text:\"allow\",type:\"Verb\"}),\n",
        "       (node2:Frame_Argument{text:\"The exploitation of this issue\",type:\"ARG0\"}),\n",
        "       (node3:Modifier_Modal{text:\"could\",type:\"ARGM-MOD\"}),\n",
        "       (node4:Frame_Argument{text:\"an attacker to access , modify , and/or delete data from the backend database\",type:\"ARG1\"}),\n",
        "\n",
        "       (node2)-[:HAS_ARGUMENT]->(node1),\n",
        "       (node3)-[:HAS_ARGUMENT]->(node1),\n",
        "       (node4)-[:HAS_ARGUMENT]->(node1)\n",
        "\n",
        "MERGE (description:Description {cveId:\"CVE-2023-0016\"})\n",
        "MERGE (frame:Frame {text:\"allow\"})\n",
        "MERGE (description)-[:MAPPED_WITH]->(frame)       \n",
        "\n",
        "\"\"\"\n",
        "result = conn.query(explore_reviews_csv_query)\n",
        "print(result)"
      ]
    },
    {
      "cell_type": "code",
      "execution_count": 996,
      "metadata": {
        "id": "BuhxF1RkxPH8",
        "colab": {
          "base_uri": "https://localhost:8080/"
        },
        "outputId": "e818f6d0-f12b-4ec0-de4f-0edc0bbd297a"
      },
      "outputs": [
        {
          "output_type": "stream",
          "name": "stdout",
          "text": [
            "[]\n"
          ]
        }
      ],
      "source": [
        "explore_reviews_csv_query = \"\"\"\n",
        "CREATE (node1:Frame {text:\"can\",type:\"Verb\"}),\n",
        "       (node2:Frame_Argument{text:\"An unauthenticated attacker in SAP NetWeaver AS for Java - version 7.50\",type:\"ARG0\"}),\n",
        "       (node3:Frame_Argument{text:\"attach to an open interface and make use of an open naming and directory API to access services which can be used to perform unauthorized operations affecting users and data on the current\",type:\"ARG1\"}),\n",
        "       (node4:Frame_Argument{type:\"ARG1\",Head:\"unauthorized\",offsetStart:125,offsetEnd:137,confidence_score:0.3803,wikipediaExternalRef:18948365,wikidataId:\"Q647578\",domains:\"Electronics,Computer_Science,Economy,Sociology\"}),\n",
        "\n",
        "       (node2)-[:HAS_ARGUMENT]->(node1),\n",
        "       (node3)-[:HAS_ARGUMENT]->(node1),\n",
        "       (node4)-[:HAS_ARGUMENT]->(node1)\n",
        "\n",
        "MERGE (description:Description {cveId:\"CVE-2023-0017\"})\n",
        "MERGE (frame:Frame {text:\"can\"})\n",
        "MERGE (description)-[:MAPPED_WITH]->(frame)       \n",
        "\n",
        "\"\"\"\n",
        "result = conn.query(explore_reviews_csv_query)\n",
        "print(result)"
      ]
    },
    {
      "cell_type": "code",
      "execution_count": 997,
      "metadata": {
        "id": "vIJkIyV5xQV5",
        "colab": {
          "base_uri": "https://localhost:8080/"
        },
        "outputId": "a8fcf42e-3751-4759-95f6-ce34157ccad8"
      },
      "outputs": [
        {
          "output_type": "stream",
          "name": "stdout",
          "text": [
            "[]\n"
          ]
        }
      ],
      "source": [
        "explore_reviews_csv_query = \"\"\"\n",
        "CREATE (node1:Frame {text:\"attach\",type:\"Verb\"}),\n",
        "       (node2:Frame_Argument{text:\"An unauthenticated attacker in SAP NetWeaver AS for Java - version 7.50 , due to improper access control\",type:\"ARG0\"}),\n",
        "       (node3:Modifier_Modal{text:\"can\",type:\"ARGM-MOD\"}),\n",
        "       (node4:Frame_Argument{text:\"to an open interface\",type:\"ARG2\"}),\n",
        "\n",
        "       (node2)-[:HAS_ARGUMENT]->(node1),\n",
        "       (node3)-[:HAS_ARGUMENT]->(node1),\n",
        "       (node4)-[:HAS_ARGUMENT]->(node1)\n",
        "\n",
        "MERGE (description:Description {cveId:\"CVE-2023-0017\"})\n",
        "MERGE (frame:Frame {text:\"attach\"})\n",
        "MERGE (description)-[:MAPPED_WITH]->(frame)       \n",
        "\n",
        "\"\"\"\n",
        "result = conn.query(explore_reviews_csv_query)\n",
        "print(result)"
      ]
    },
    {
      "cell_type": "code",
      "execution_count": 998,
      "metadata": {
        "id": "bWmIxjA0xRai",
        "colab": {
          "base_uri": "https://localhost:8080/"
        },
        "outputId": "265ae967-9931-4fb7-f153-4a3850d10fb9"
      },
      "outputs": [
        {
          "output_type": "stream",
          "name": "stdout",
          "text": [
            "[]\n"
          ]
        }
      ],
      "source": [
        "explore_reviews_csv_query = \"\"\"\n",
        "CREATE (node1:Frame {text:\"make\",type:\"Verb\"}),\n",
        "       (node2:Frame_Argument{text:\"An unauthenticated attacker in SAP NetWeaver AS for Java - version 7.50 , due to improper access control\",type:\"ARG0\"}),\n",
        "       (node3:Modifier_Modal{text:\"can\",type:\"ARGM-MOD\"}),\n",
        "       (node4:Frame_Argument{text:\"use of an open naming and directory API to access services which can be used to perform unauthorized operations affecting users and data on the current system\",type:\"ARG1\"}),\n",
        "\n",
        "       (node2)-[:HAS_ARGUMENT]->(node1),\n",
        "       (node3)-[:HAS_ARGUMENT]->(node1),\n",
        "       (node4)-[:HAS_ARGUMENT]->(node1)\n",
        "\n",
        "MERGE (description:Description {cveId:\"CVE-2023-0017\"})\n",
        "MERGE (frame:Frame {text:\"make\"})\n",
        "MERGE (description)-[:MAPPED_WITH]->(frame)       \n",
        "\n",
        "\"\"\"\n",
        "result = conn.query(explore_reviews_csv_query)\n",
        "print(result)"
      ]
    },
    {
      "cell_type": "code",
      "execution_count": 999,
      "metadata": {
        "id": "a5SMemIjxTC0",
        "colab": {
          "base_uri": "https://localhost:8080/"
        },
        "outputId": "c2a3d85f-d742-4ba1-aae4-02eff53dcd78"
      },
      "outputs": [
        {
          "output_type": "stream",
          "name": "stdout",
          "text": [
            "[]\n"
          ]
        }
      ],
      "source": [
        "explore_reviews_csv_query = \"\"\"\n",
        "CREATE (node1:Frame {text:\"used\",type:\"Verb\"}),\n",
        "       (node2:Frame_Argument{text:\"access services\",type:\"ARG1\"}),\n",
        "       (node3:Reference{text:\"which\",type:\"R-ARG1\"}),\n",
        "       (node4:Modifier_Modal{text:\"can\",type:\"ARGM-MOD\"}),\n",
        "       (node5:Frame_Argument{text:\"to perform unauthorized operations affecting users and data on the current system\",type:\"ARG2\"}),\n",
        "\n",
        "       (node2)-[:HAS_ARGUMENT]->(node1),\n",
        "       (node3)-[:HAS_ARGUMENT]->(node1),\n",
        "       (node4)-[:HAS_ARGUMENT]->(node1),\n",
        "       (node5)-[:HAS_ARGUMENT]->(node1)\n",
        "\n",
        "MERGE (description:Description {cveId:\"CVE-2023-0017\"})\n",
        "MERGE (frame:Frame {text:\"used\"})\n",
        "MERGE (description)-[:MAPPED_WITH]->(frame)       \n",
        "\n",
        "\"\"\"\n",
        "result = conn.query(explore_reviews_csv_query)\n",
        "print(result)"
      ]
    },
    {
      "cell_type": "code",
      "execution_count": 1000,
      "metadata": {
        "id": "dofYm29TxT9T",
        "colab": {
          "base_uri": "https://localhost:8080/"
        },
        "outputId": "0dd8653c-01ee-4f30-ce23-fc6670b93546"
      },
      "outputs": [
        {
          "output_type": "stream",
          "name": "stdout",
          "text": [
            "[]\n"
          ]
        }
      ],
      "source": [
        "explore_reviews_csv_query = \"\"\"\n",
        "CREATE (node1:Frame {text:\"perform\",type:\"Verb\"}),\n",
        "       (node2:Frame_Argument{text:\"access services\",type:\"ARG0\"}),\n",
        "       (node3:Frame_Argument{text:\"unauthorized operations affecting users and data on the current system\",type:\"ARG1\"}),\n",
        "       (node4:Frame_Argument{type:\"ARG1\",Head:\"unauthorized\",offsetStart:234,offsetEnd:246,confidence_score:0.3753,wikipediaExternalRef:205662,wikidataId:\"Q502918\",domains:\"Commerce, Enterprise, Finance\"}),\n",
        "\n",
        "       (node2)-[:HAS_ARGUMENT]->(node1),\n",
        "       (node3)-[:HAS_ARGUMENT]->(node1),\n",
        "       (node4)-[:HAS_ARGUMENT]->(node1)\n",
        "\n",
        "MERGE (description:Description {cveId:\"CVE-2023-0017\"})\n",
        "MERGE (frame:Frame {text:\"perform\"})\n",
        "MERGE (description)-[:MAPPED_WITH]->(frame)       \n",
        "\n",
        "\"\"\"\n",
        "result = conn.query(explore_reviews_csv_query)\n",
        "print(result)"
      ]
    },
    {
      "cell_type": "code",
      "execution_count": 1001,
      "metadata": {
        "id": "VM2-rf8kxU5l",
        "colab": {
          "base_uri": "https://localhost:8080/"
        },
        "outputId": "9633a93a-49ac-406d-bdd4-92deff1da7e5"
      },
      "outputs": [
        {
          "output_type": "stream",
          "name": "stdout",
          "text": [
            "[]\n"
          ]
        }
      ],
      "source": [
        "explore_reviews_csv_query = \"\"\"\n",
        "CREATE (node1:Frame {text:\"affecting\",type:\"Verb\"}),\n",
        "       (node2:Frame_Argument{text:\"unauthorized operations\",type:\"ARG0\"}),\n",
        "       (node3:Frame_Argument{text:\"users\",type:\"ARG1\"}),\n",
        "\n",
        "       (node2)-[:HAS_ARGUMENT]->(node1),\n",
        "       (node3)-[:HAS_ARGUMENT]->(node1)\n",
        "\n",
        "MERGE (description:Description {cveId:\"CVE-2023-0017\"})\n",
        "MERGE (frame:Frame {text:\"affecting\"})\n",
        "MERGE (description)-[:MAPPED_WITH]->(frame)        \n",
        "\n",
        "\"\"\"\n",
        "result = conn.query(explore_reviews_csv_query)\n",
        "print(result)"
      ]
    },
    {
      "cell_type": "code",
      "execution_count": 1002,
      "metadata": {
        "id": "cgTdPA78xV1C",
        "colab": {
          "base_uri": "https://localhost:8080/"
        },
        "outputId": "6b042328-e121-4d3a-a27a-21fc6e437653"
      },
      "outputs": [
        {
          "output_type": "stream",
          "name": "stdout",
          "text": [
            "[]\n"
          ]
        }
      ],
      "source": [
        "explore_reviews_csv_query = \"\"\"\n",
        "CREATE (node1:Frame {text:\"could\",type:\"Verb\"}),\n",
        "       (node2:Frame_Argument{text:\"This\",type:\"ARG0\"}),\n",
        "       (node3:Frame_Argument{text:\"allow the attacker to have full read access to user data , make modifications to user data , and make services within the system unavailable\",type:\"ARG1\"}),\n",
        "\n",
        "       (node2)-[:HAS_ARGUMENT]->(node1),\n",
        "       (node3)-[:HAS_ARGUMENT]->(node1)\n",
        "\n",
        "MERGE (description:Description {cveId:\"CVE-2023-0017\"})\n",
        "MERGE (frame:Frame {text:\"could\"})\n",
        "MERGE (description)-[:MAPPED_WITH]->(frame)       \n",
        "\n",
        "\"\"\"\n",
        "result = conn.query(explore_reviews_csv_query)\n",
        "print(result)"
      ]
    },
    {
      "cell_type": "code",
      "execution_count": 1003,
      "metadata": {
        "id": "KbG6_9-RxXVD",
        "colab": {
          "base_uri": "https://localhost:8080/"
        },
        "outputId": "f3420217-5467-42a3-d390-ccc24709446f"
      },
      "outputs": [
        {
          "output_type": "stream",
          "name": "stdout",
          "text": [
            "[]\n"
          ]
        }
      ],
      "source": [
        "explore_reviews_csv_query = \"\"\"\n",
        "CREATE (node1:Frame {text:\"allow\",type:\"Verb\"}),\n",
        "       (node2:Frame_Argument{text:\"This\",type:\"ARG0\"}),\n",
        "       (node3:Modifier_Modal{text:\"could\",type:\"ARGM-MOD\"}),\n",
        "       (node4:Frame_Argument{text:\"the attacker to have full read access to user data , make modifications to user data , and make services within the system unavailable\",type:\"ARG1\"}),\n",
        "\n",
        "       (node2)-[:HAS_ARGUMENT]->(node1),\n",
        "       (node3)-[:HAS_ARGUMENT]->(node1),\n",
        "       (node4)-[:HAS_ARGUMENT]->(node1)\n",
        "\n",
        "MERGE (description:Description {cveId:\"CVE-2023-0017\"})\n",
        "MERGE (frame:Frame {text:\"allow\"})\n",
        "MERGE (description)-[:MAPPED_WITH]->(frame)       \n",
        "\n",
        "\"\"\"\n",
        "result = conn.query(explore_reviews_csv_query)\n",
        "print(result)"
      ]
    },
    {
      "cell_type": "code",
      "execution_count": 1004,
      "metadata": {
        "id": "zs77hxE3xYfT",
        "colab": {
          "base_uri": "https://localhost:8080/"
        },
        "outputId": "9de45000-5183-4987-f789-5ba125c40326"
      },
      "outputs": [
        {
          "output_type": "stream",
          "name": "stdout",
          "text": [
            "[]\n"
          ]
        }
      ],
      "source": [
        "explore_reviews_csv_query = \"\"\"\n",
        "CREATE (node1:Frame {text:\"have\",type:\"Verb\"}),\n",
        "       (node2:Frame_Argument{text:\"the attacker\",type:\"ARG0\"}),\n",
        "       (node3:Frame_Argument{text:\"full read access to user data\",type:\"ARG1\"}),\n",
        "\n",
        "       (node2)-[:HAS_ARGUMENT]->(node1),\n",
        "       (node3)-[:HAS_ARGUMENT]->(node1)\n",
        "\n",
        "MERGE (description:Description {cveId:\"CVE-2023-0017\"})\n",
        "MERGE (frame:Frame {text:\"have\"})\n",
        "MERGE (description)-[:MAPPED_WITH]->(frame)       \n",
        "\n",
        "\"\"\"\n",
        "result = conn.query(explore_reviews_csv_query)\n",
        "print(result)"
      ]
    },
    {
      "cell_type": "code",
      "execution_count": 1005,
      "metadata": {
        "id": "5kEWiXXFxcGW",
        "colab": {
          "base_uri": "https://localhost:8080/"
        },
        "outputId": "0feb38f8-e4b5-4834-9b89-84de8f52fedc"
      },
      "outputs": [
        {
          "output_type": "stream",
          "name": "stdout",
          "text": [
            "[]\n"
          ]
        }
      ],
      "source": [
        "explore_reviews_csv_query = \"\"\"\n",
        "CREATE (node1:Frame {text:\"user\",type:\"Verb\"}),\n",
        "       (node2:Frame_Argument{text:\"full read\",type:\"ARG0\"}),\n",
        "       (node3:Frame_Argument{text:\"data\",type:\"ARG1\"}),\n",
        "\n",
        "       (node2)-[:HAS_ARGUMENT]->(node1),\n",
        "       (node3)-[:HAS_ARGUMENT]->(node1)\n",
        "\n",
        "MERGE (description:Description {cveId:\"CVE-2023-0017\"})\n",
        "MERGE (frame:Frame {text:\"user\"})\n",
        "MERGE (description)-[:MAPPED_WITH]->(frame)       \n",
        "\n",
        "\"\"\"\n",
        "result = conn.query(explore_reviews_csv_query)\n",
        "print(result)"
      ]
    },
    {
      "cell_type": "code",
      "execution_count": 1006,
      "metadata": {
        "id": "FO0iycOExdEo",
        "colab": {
          "base_uri": "https://localhost:8080/"
        },
        "outputId": "3e6082c0-9742-46a6-bb9e-6e11a3338344"
      },
      "outputs": [
        {
          "output_type": "stream",
          "name": "stdout",
          "text": [
            "[]\n"
          ]
        }
      ],
      "source": [
        "explore_reviews_csv_query = \"\"\"\n",
        "CREATE (node1:Frame {text:\"make\",type:\"Verb\"}),\n",
        "       (node2:Frame_Argument{text:\"the attacker\",type:\"ARG0\"}),\n",
        "       (node3:Frame_Argument{text:\"modifications to user data , and make\",type:\"ARG1\"}),\n",
        "\n",
        "       (node2)-[:HAS_ARGUMENT]->(node1),\n",
        "       (node3)-[:HAS_ARGUMENT]->(node1)\n",
        "\n",
        "MERGE (description:Description {cveId:\"CVE-2023-0017\"})\n",
        "MERGE (frame:Frame {text:\"make\"})\n",
        "MERGE (description)-[:MAPPED_WITH]->(frame)       \n",
        "\n",
        "\"\"\"\n",
        "result = conn.query(explore_reviews_csv_query)\n",
        "print(result)"
      ]
    },
    {
      "cell_type": "code",
      "execution_count": 1007,
      "metadata": {
        "id": "7-pb9hw2xd9Y",
        "colab": {
          "base_uri": "https://localhost:8080/"
        },
        "outputId": "d6cb6254-54f0-4eec-8730-433c180e1803"
      },
      "outputs": [
        {
          "output_type": "stream",
          "name": "stdout",
          "text": [
            "[]\n"
          ]
        }
      ],
      "source": [
        "explore_reviews_csv_query = \"\"\"\n",
        "CREATE (node1:Frame {text:\"make\",type:\"Verb\"}),\n",
        "       (node2:Frame_Argument{text:\"the attacker\",type:\"ARG0\"}),\n",
        "       (node3:Frame_Argument{text:\"services within the system\",type:\"ARG1\"}),\n",
        "       (node4:Modifier_Manner{text:\"unavailable\",type:\"ARGM-MNR\"}),\n",
        "\n",
        "       (node2)-[:HAS_ARGUMENT]->(node1),\n",
        "       (node3)-[:HAS_ARGUMENT]->(node1),\n",
        "       (node4)-[:HAS_ARGUMENT]->(node1)\n",
        "\n",
        "MERGE (description:Description {cveId:\"CVE-2023-0017\"})\n",
        "MERGE (frame:Frame {text:\"make\"})\n",
        "MERGE (description)-[:MAPPED_WITH]->(frame)       \n",
        "\n",
        "\"\"\"\n",
        "result = conn.query(explore_reviews_csv_query)\n",
        "print(result)"
      ]
    },
    {
      "cell_type": "code",
      "execution_count": 1008,
      "metadata": {
        "id": "-PIZObvms17S",
        "colab": {
          "base_uri": "https://localhost:8080/"
        },
        "outputId": "49639888-e23b-499e-b952-3282e9fc7e8d"
      },
      "outputs": [
        {
          "output_type": "stream",
          "name": "stdout",
          "text": [
            "[]\n"
          ]
        }
      ],
      "source": [
        "explore_reviews_csv_query = \"\"\"\n",
        "CREATE (node1:Frame {text:\"controlled\",type:\"Verb\"}),\n",
        "       (node2:Frame_Argument{text:\"user\",type:\"ARG0\"}),\n",
        "       (node3:Frame_Argument{text:\"input\",type:\"ARG1\"}),\n",
        "\n",
        "       (node2)-[:HAS_ARGUMENT]->(node1),\n",
        "       (node3)-[:HAS_ARGUMENT]->(node1)\n",
        "\n",
        "MERGE (description:Description {cveId:\"CVE-2023-0018\"})\n",
        "MERGE (frame:Frame {text:\"controlled\"})\n",
        "MERGE (description)-[:MAPPED_WITH]->(frame)       \n",
        "\n",
        "\"\"\"\n",
        "result = conn.query(explore_reviews_csv_query)\n",
        "print(result)"
      ]
    },
    {
      "cell_type": "code",
      "execution_count": 1009,
      "metadata": {
        "id": "e7w70wyaxe-Q",
        "colab": {
          "base_uri": "https://localhost:8080/"
        },
        "outputId": "1c15bae6-f6c6-4f6c-8e7e-de7bea4a7a48"
      },
      "outputs": [
        {
          "output_type": "stream",
          "name": "stdout",
          "text": [
            "[]\n"
          ]
        }
      ],
      "source": [
        "explore_reviews_csv_query = \"\"\"\n",
        "CREATE (node1:Frame {text:\"modify\",type:\"Verb\"}),\n",
        "       (node2:Modifier_Cause{text:\"Due to improper input sanitization of user - controlled input in SAP BusinessObjects Business Intelligence\",type:\"ARGM-CAU\"}),\n",
        "       (node3:Frame_Argument{text:\"an attacker with basic user - level privileges\",type:\"ARG0\"}),\n",
        "       (node4:Modifier_Modal{text:\"can\",type:\"ARGM-MOD\"}),\n",
        "       (node5:Frame_Argument{text:\"reports containing a malicious payload\",type:\"ARG1\"}),\n",
        "\n",
        "       (node2)-[:HAS_ARGUMENT]->(node1),\n",
        "       (node3)-[:HAS_ARGUMENT]->(node1),\n",
        "       (node4)-[:HAS_ARGUMENT]->(node1),\n",
        "       (node5)-[:HAS_ARGUMENT]->(node1)\n",
        "       \n",
        "MERGE (description:Description {cveId:\"CVE-2023-0018\"})\n",
        "MERGE (frame:Frame {text:\"modify\"})\n",
        "MERGE (description)-[:MAPPED_WITH]->(frame)       \n",
        "\n",
        "\"\"\"\n",
        "result = conn.query(explore_reviews_csv_query)\n",
        "print(result)"
      ]
    },
    {
      "cell_type": "code",
      "execution_count": 1010,
      "metadata": {
        "id": "wf7i4Wsvxf9s",
        "colab": {
          "base_uri": "https://localhost:8080/"
        },
        "outputId": "c2a2fbae-6377-42be-bf6d-3ffc4e0d72c2"
      },
      "outputs": [
        {
          "output_type": "stream",
          "name": "stdout",
          "text": [
            "[]\n"
          ]
        }
      ],
      "source": [
        "explore_reviews_csv_query = \"\"\"\n",
        "CREATE (node1:Frame {text:\"containing\",type:\"Verb\"}),\n",
        "       (node2:Frame_Argument{text:\"reports\",type:\"ARG0\"}),\n",
        "       (node3:Frame_Argument{text:\"a malicious payload\",type:\"ARG1\"}),\n",
        "       \n",
        "       (node2)-[:HAS_ARGUMENT]->(node1),\n",
        "       (node3)-[:HAS_ARGUMENT]->(node1)\n",
        "      \n",
        "MERGE (description:Description {cveId:\"CVE-2023-0018\"})\n",
        "MERGE (frame:Frame {text:\"containing\"})\n",
        "MERGE (description)-[:MAPPED_WITH]->(frame)        \n",
        "\n",
        "\"\"\"\n",
        "result = conn.query(explore_reviews_csv_query)\n",
        "print(result)"
      ]
    },
    {
      "cell_type": "code",
      "execution_count": 1011,
      "metadata": {
        "id": "GWCDz-hJxg9y",
        "colab": {
          "base_uri": "https://localhost:8080/"
        },
        "outputId": "6e4fe570-c611-46fc-b709-9f642446a6ed"
      },
      "outputs": [
        {
          "output_type": "stream",
          "name": "stdout",
          "text": [
            "[]\n"
          ]
        }
      ],
      "source": [
        "explore_reviews_csv_query = \"\"\"\n",
        "CREATE (node1:Frame {text:\"are\",type:\"Verb\"}),\n",
        "       (node2:Frame_Argument{text:\"these reports\",type:\"ARG1\"}),\n",
        "       (node3:Frame_Argument{text:\"viewable\",type:\"ARG2\"}),\n",
        "\n",
        "       (node2)-[:HAS_ARGUMENT]->(node1),\n",
        "       (node3)-[:HAS_ARGUMENT]->(node1)\n",
        "\n",
        "MERGE (description:Description {cveId:\"CVE-2023-0018\"})\n",
        "MERGE (frame:Frame {text:\"are\"})\n",
        "MERGE (description)-[:MAPPED_WITH]->(frame)       \n",
        "\n",
        "\"\"\"\n",
        "result = conn.query(explore_reviews_csv_query)\n",
        "print(result)"
      ]
    },
    {
      "cell_type": "code",
      "execution_count": 1012,
      "metadata": {
        "id": "RViaMR2Sxh6U",
        "colab": {
          "base_uri": "https://localhost:8080/"
        },
        "outputId": "5ed74cda-27d6-4300-be61-e384f8c04d44"
      },
      "outputs": [
        {
          "output_type": "stream",
          "name": "stdout",
          "text": [
            "[]\n"
          ]
        }
      ],
      "source": [
        "explore_reviews_csv_query = \"\"\"\n",
        "CREATE (node1:Frame {text:\"opens\",type:\"Verb\"}),\n",
        "       (node2:Frame_Argument{text:\"anyone\",type:\"ARG0\"}),\n",
        "       (node3:Reference{text:\"who\",type:\"R-ARG0\"}),\n",
        "       (node4:Frame_Argument{text:\"those reports\",type:\"ARG1\"}),\n",
        "\n",
        "       (node2)-[:HAS_ARGUMENT]->(node1),\n",
        "       (node3)-[:HAS_ARGUMENT]->(node1),\n",
        "       (node4)-[:HAS_ARGUMENT]->(node1)\n",
        "\n",
        "MERGE (description:Description {cveId:\"CVE-2023-0018\"})\n",
        "MERGE (frame:Frame {text:\"opens\"})\n",
        "MERGE (description)-[:MAPPED_WITH]->(frame)       \n",
        "\n",
        "\"\"\"\n",
        "result = conn.query(explore_reviews_csv_query)\n",
        "print(result)"
      ]
    },
    {
      "cell_type": "code",
      "execution_count": 1013,
      "metadata": {
        "id": "tJx83bcgxi98",
        "colab": {
          "base_uri": "https://localhost:8080/"
        },
        "outputId": "826d0399-0a6f-47df-f41a-27f011caf866"
      },
      "outputs": [
        {
          "output_type": "stream",
          "name": "stdout",
          "text": [
            "[]\n"
          ]
        }
      ],
      "source": [
        "explore_reviews_csv_query = \"\"\"\n",
        "CREATE (node1:Frame {text:\"be\",type:\"Verb\"}),\n",
        "       (node2:Frame_Argument{text:\"anyone who opens those reports\",type:\"ARG1\"}),\n",
        "       (node3:Modifier_Modal{text:\"would\",type:\"ARGM-MOD\"}),\n",
        "       (node4:Frame_Argument{text:\"susceptible to stored XSS attacks\",type:\"ARG2\"}),\n",
        "       (node5:Modifier_Cause{text:\"As\",type:\"ARGM-CAU\"}),\n",
        "\n",
        "       (node2)-[:HAS_ARGUMENT]->(node1),\n",
        "       (node3)-[:HAS_ARGUMENT]->(node1),\n",
        "       (node4)-[:HAS_ARGUMENT]->(node1),\n",
        "       (node5)-[:HAS_ARGUMENT]->(node1)\n",
        "\n",
        "MERGE (description:Description {cveId:\"CVE-2023-0018\"})\n",
        "MERGE (frame:Frame {text:\"be\"})\n",
        "MERGE (description)-[:MAPPED_WITH]->(frame)        \n",
        "\n",
        "\"\"\"\n",
        "result = conn.query(explore_reviews_csv_query)\n",
        "print(result)"
      ]
    },
    {
      "cell_type": "code",
      "execution_count": 1014,
      "metadata": {
        "id": "sbFiOw_Axj_F",
        "colab": {
          "base_uri": "https://localhost:8080/"
        },
        "outputId": "4d6b203d-395b-4aff-e477-26ece93eca6c"
      },
      "outputs": [
        {
          "output_type": "stream",
          "name": "stdout",
          "text": [
            "[]\n"
          ]
        }
      ],
      "source": [
        "explore_reviews_csv_query = \"\"\"\n",
        "CREATE (node1:Frame {text:\"maintained\",type:\"Verb\"}),\n",
        "       (node2:Frame_Argument{text:\"information\",type:\"ARG1\"}),\n",
        "       (node3:Modifier_Location{text:\"in the victim 's web browser\",type:\"ARGM-LOC\"}),\n",
        "\n",
        "       (node2)-[:HAS_ARGUMENT]->(node1),\n",
        "       (node3)-[:HAS_ARGUMENT]->(node1)\n",
        "\n",
        "MERGE (description:Description {cveId:\"CVE-2023-0018\"})\n",
        "MERGE (frame:Frame {text:\"maintained\"})\n",
        "MERGE (description)-[:MAPPED_WITH]->(frame)       \n",
        "\n",
        "\"\"\"\n",
        "result = conn.query(explore_reviews_csv_query)\n",
        "print(result)"
      ]
    },
    {
      "cell_type": "code",
      "execution_count": 1015,
      "metadata": {
        "id": "7De5Gg1pxk2U",
        "colab": {
          "base_uri": "https://localhost:8080/"
        },
        "outputId": "d6de0d0b-7ef7-4e87-be7f-e8c630bc8528"
      },
      "outputs": [
        {
          "output_type": "stream",
          "name": "stdout",
          "text": [
            "[]\n"
          ]
        }
      ],
      "source": [
        "explore_reviews_csv_query = \"\"\"\n",
        "CREATE (node1:Frame {text:\"read\",type:\"Verb\"}),\n",
        "       (node2:Modifier_Cause{text:\"As a result of the attack\",type:\"ARGM-CAU\"}),\n",
        "       (node3:Frame_Argument{text:\"information maintained in the victim 's web browser\",type:\"ARG1\"}),\n",
        "       (node4:Modifier_Modal{text:\"can\",type:\"ARGM-MOD\"}),\n",
        "\n",
        "       (node2)-[:HAS_ARGUMENT]->(node1),\n",
        "       (node3)-[:HAS_ARGUMENT]->(node1),\n",
        "       (node4)-[:HAS_ARGUMENT]->(node1)\n",
        "\n",
        "MERGE (description:Description {cveId:\"CVE-2023-0018\"})\n",
        "MERGE (frame:Frame {text:\"read\"})\n",
        "MERGE (description)-[:MAPPED_WITH]->(frame)       \n",
        "\n",
        "\"\"\"\n",
        "result = conn.query(explore_reviews_csv_query)\n",
        "print(result)"
      ]
    },
    {
      "cell_type": "code",
      "execution_count": 1016,
      "metadata": {
        "id": "JlhqWV8pxl1E",
        "colab": {
          "base_uri": "https://localhost:8080/"
        },
        "outputId": "ca6c8fb4-fa34-427b-d2c9-3453c265bc42"
      },
      "outputs": [
        {
          "output_type": "stream",
          "name": "stdout",
          "text": [
            "[]\n"
          ]
        }
      ],
      "source": [
        "explore_reviews_csv_query = \"\"\"\n",
        "CREATE (node1:Frame {text:\"modified\",type:\"Verb\"}),\n",
        "       (node2:Frame_Argument{text:\"information maintained in the victim 's web browser\",type:\"ARG1\"}),\n",
        "       (node3:Modifier_Modal{text:\"can\",type:\"ARGM-MOD\"}),\n",
        "\n",
        "       (node2)-[:HAS_ARGUMENT]->(node1),\n",
        "       (node3)-[:HAS_ARGUMENT]->(node1)\n",
        "\n",
        "MERGE (description:Description {cveId:\"CVE-2023-0018\"})\n",
        "MERGE (frame:Frame {text:\"modified\"})\n",
        "MERGE (description)-[:MAPPED_WITH]->(frame)       \n",
        "\n",
        "\"\"\"\n",
        "result = conn.query(explore_reviews_csv_query)\n",
        "print(result)"
      ]
    },
    {
      "cell_type": "code",
      "execution_count": 1017,
      "metadata": {
        "id": "UzxmXlMuxmzu",
        "colab": {
          "base_uri": "https://localhost:8080/"
        },
        "outputId": "76d1491c-c68e-4d2a-ff1f-3d9c83859848"
      },
      "outputs": [
        {
          "output_type": "stream",
          "name": "stdout",
          "text": [
            "[]\n"
          ]
        }
      ],
      "source": [
        "explore_reviews_csv_query = \"\"\"\n",
        "CREATE (node1:Frame {text:\"sent\",type:\"Verb\"}),\n",
        "       (node2:Frame_Argument{text:\"information maintained in the victim 's web browser\",type:\"ARG1\"}),\n",
        "       (node3:Modifier_Modal{text:\"can\",type:\"ARGM-MOD\"}),\n",
        "       (node4:Frame_Argument{text:\"to the attacker\",type:\"ARG2\"}),\n",
        "\n",
        "       (node2)-[:HAS_ARGUMENT]->(node1),\n",
        "       (node3)-[:HAS_ARGUMENT]->(node1),\n",
        "       (node4)-[:HAS_ARGUMENT]->(node1)\n",
        "\n",
        "MERGE (description:Description {cveId:\"CVE-2023-0018\"})\n",
        "MERGE (frame:Frame {text:\"sent\"})\n",
        "MERGE (description)-[:MAPPED_WITH]->(frame)       \n",
        "\n",
        "\"\"\"\n",
        "result = conn.query(explore_reviews_csv_query)\n",
        "print(result)"
      ]
    },
    {
      "cell_type": "code",
      "execution_count": 1018,
      "metadata": {
        "id": "QnGTfdgFxn2o",
        "colab": {
          "base_uri": "https://localhost:8080/"
        },
        "outputId": "6d4b4938-1e4e-4930-8b88-cb162f6ee838"
      },
      "outputs": [
        {
          "output_type": "stream",
          "name": "stdout",
          "text": [
            "[]\n"
          ]
        }
      ],
      "source": [
        "explore_reviews_csv_query = \"\"\"\n",
        "CREATE (node1:Frame {text:\"allows\",type:\"Verb\"}),\n",
        "       (node2:Frame_Argument{text:\"SAP BusinessObjects Business Intelligence Analysis edition for OLAP\",type:\"ARG0\"}),\n",
        "       (node3:Frame_Argument{text:\"an authenticated attacker to inject malicious code that can be executed by the application over the network . On successful exploitation , an attacker can perform operations that may completely compromise the application causing a high impact on the confidentiality , integrity , and availability of the application\",type:\"ARG1\"}),\n",
        "       (node4:Frame_Argument{type:\"ARG0\",Head:\"authenticated\",offsetStart:3,offsetEnd:16,confidence_score:0.3605,wikipediaExternalRef:47967,wikidataId:\"Q212108\",domains:\"Economy,Electronics,Engineering\"}),\n",
        "       (node5:Frame_Argument{type:\"ARG1\",Head:\"malicious code\",offsetStart:36,offsetEnd:50,confidence_score:0.4342,wikipediaExternalRef:20901,wikidataId:\"Q14001\",domains:\"Computer_Science\"}),\n",
        "\n",
        "       (node2)-[:HAS_ARGUMENT]->(node1),\n",
        "       (node3)-[:HAS_ARGUMENT]->(node1),\n",
        "       (node4)-[:HAS_ARGUMENT]->(node1),\n",
        "       (node5)-[:HAS_ARGUMENT]->(node1)\n",
        "\n",
        "MERGE (description:Description {cveId:\"CVE-2023-0022\"})\n",
        "MERGE (frame:Frame {text:\"allows\"})\n",
        "MERGE (description)-[:MAPPED_WITH]->(frame)       \n",
        "\n",
        "\"\"\"\n",
        "result = conn.query(explore_reviews_csv_query)\n",
        "print(result)"
      ]
    },
    {
      "cell_type": "code",
      "execution_count": 1019,
      "metadata": {
        "id": "7WnIajMJxoz6",
        "colab": {
          "base_uri": "https://localhost:8080/"
        },
        "outputId": "fafb0f64-eda5-4fa0-c69c-2a0938f949a5"
      },
      "outputs": [
        {
          "output_type": "stream",
          "name": "stdout",
          "text": [
            "[]\n"
          ]
        }
      ],
      "source": [
        "explore_reviews_csv_query = \"\"\"\n",
        "CREATE (node1:Frame {text:\"inject\",type:\"Verb\"}),\n",
        "       (node2:Frame_Argument{text:\"an authenticated attacker\",type:\"ARG0\"}),\n",
        "       (node3:Frame_Argument{text:\"malicious code that can be executed by the application over the network . On successful exploitation\",type:\"ARG1\"}),\n",
        "       (node4:Frame_Argument{type:\"ARG1\",Head:\"malicious code\",offsetStart:0,offsetEnd:14,confidence_score:0.4342,wikipediaExternalRef:20901,wikidataId:\"Q14001\",domains:\"Computer_Science\"}),\n",
        "\n",
        "       (node2)-[:HAS_ARGUMENT]->(node1),\n",
        "       (node3)-[:HAS_ARGUMENT]->(node1),\n",
        "       (node4)-[:HAS_ARGUMENT]->(node1)\n",
        "\n",
        "MERGE (description:Description {cveId:\"CVE-2023-0022\"})\n",
        "MERGE (frame:Frame {text:\"inject\"})\n",
        "MERGE (description)-[:MAPPED_WITH]->(frame)       \n",
        "\n",
        "\"\"\"\n",
        "result = conn.query(explore_reviews_csv_query)\n",
        "print(result)"
      ]
    },
    {
      "cell_type": "code",
      "execution_count": 1020,
      "metadata": {
        "id": "aW0UU04GxqD4",
        "colab": {
          "base_uri": "https://localhost:8080/"
        },
        "outputId": "87d6de89-bdec-4f09-dc0d-8e0cb2f158ca"
      },
      "outputs": [
        {
          "output_type": "stream",
          "name": "stdout",
          "text": [
            "[]\n"
          ]
        }
      ],
      "source": [
        "explore_reviews_csv_query = \"\"\"\n",
        "CREATE (node1:Frame {text:\"executed\",type:\"Verb\"}),\n",
        "       (node2:Frame_Argument{text:\"malicious code\",type:\"ARG1\"}),\n",
        "       (node3:Reference{text:\"that\",type:\"R-ARG1\"}),\n",
        "       (node4:Modifier_Modal{text:\"can\",type:\"ARGM-MOD\"}),\n",
        "       (node5:Frame_Argument{text:\"by the application over the network\",type:\"ARG0\"}),\n",
        "      \n",
        "       (node2)-[:HAS_ARGUMENT]->(node1),\n",
        "       (node3)-[:HAS_ARGUMENT]->(node1),\n",
        "       (node4)-[:HAS_ARGUMENT]->(node1),\n",
        "       (node5)-[:HAS_ARGUMENT]->(node1)\n",
        "\n",
        "MERGE (description:Description {cveId:\"CVE-2023-0022\"})\n",
        "MERGE (frame:Frame {text:\"executed\"})\n",
        "MERGE (description)-[:MAPPED_WITH]->(frame)        \n",
        "\n",
        "\"\"\"\n",
        "result = conn.query(explore_reviews_csv_query)\n",
        "print(result)"
      ]
    },
    {
      "cell_type": "code",
      "execution_count": 1021,
      "metadata": {
        "id": "4IOCQyZasv4A",
        "colab": {
          "base_uri": "https://localhost:8080/"
        },
        "outputId": "06a052cd-bcfd-4375-9570-76489cc2ccb1"
      },
      "outputs": [
        {
          "output_type": "stream",
          "name": "stdout",
          "text": [
            "[]\n"
          ]
        }
      ],
      "source": [
        "explore_reviews_csv_query = \"\"\"\n",
        "CREATE (node1:Frame {text:\"perform\",type:\"Verb\"}),\n",
        "       (node2:Frame_Argument{text:\"an attacker\",type:\"ARG0\"}),\n",
        "       (node3:Modifier_Modal{text:\"can\",type:\"ARGM-MOD\"}),\n",
        "       (node4:Frame_Argument{text:\"operations\",type:\"ARG1\"}),\n",
        "\n",
        "       (node2)-[:HAS_ARGUMENT]->(node1),\n",
        "       (node3)-[:HAS_ARGUMENT]->(node1),\n",
        "       (node4)-[:HAS_ARGUMENT]->(node1)\n",
        "\n",
        "MERGE (description:Description {cveId:\"CVE-2023-0022\"})\n",
        "MERGE (frame:Frame {text:\"perform\"})\n",
        "MERGE (description)-[:MAPPED_WITH]->(frame)       \n",
        "\n",
        "\"\"\"\n",
        "result = conn.query(explore_reviews_csv_query)\n",
        "print(result)"
      ]
    },
    {
      "cell_type": "code",
      "execution_count": 1022,
      "metadata": {
        "id": "SS6uGNJ0sw7w",
        "colab": {
          "base_uri": "https://localhost:8080/"
        },
        "outputId": "864cfdb8-f03a-4f68-f5be-7eaa803d364e"
      },
      "outputs": [
        {
          "output_type": "stream",
          "name": "stdout",
          "text": [
            "[]\n"
          ]
        }
      ],
      "source": [
        "explore_reviews_csv_query = \"\"\"\n",
        "CREATE (node1:Frame {text:\"compromise\",type:\"Verb\"}),\n",
        "       (node2:Frame_Argument{text:\"operations\",type:\"ARG0\"}),\n",
        "       (node3:Reference{text:\"that\",type:\"R-ARG0\"}),\n",
        "       (node4:Modifier_Modal{text:\"may\",type:\"ARGM-MOD\"}),\n",
        "       (node5:Modifier_Extent{text:\"completely\",type:\"ARGM-EXT\"}),\n",
        "       (node6:Frame_Argument{text:\"the application causing a high impact on the confidentiality , integrity , and availability of the application\",type:\"ARG1\"}),\n",
        "\n",
        "       (node2)-[:HAS_ARGUMENT]->(node1),\n",
        "       (node3)-[:HAS_ARGUMENT]->(node1),\n",
        "       (node4)-[:HAS_ARGUMENT]->(node1),\n",
        "       (node5)-[:HAS_ARGUMENT]->(node1),\n",
        "       (node6)-[:HAS_ARGUMENT]->(node1)\n",
        "\n",
        "MERGE (description:Description {cveId:\"CVE-2023-0022\"})\n",
        "MERGE (frame:Frame {text:\"compromise\"})\n",
        "MERGE (description)-[:MAPPED_WITH]->(frame)       \n",
        "\n",
        "\"\"\"\n",
        "result = conn.query(explore_reviews_csv_query)\n",
        "print(result)"
      ]
    },
    {
      "cell_type": "code",
      "execution_count": 1023,
      "metadata": {
        "id": "zK1Myi-WsyFA",
        "colab": {
          "base_uri": "https://localhost:8080/"
        },
        "outputId": "cdb0d991-74ba-4aaa-c8df-26d3331b0fb0"
      },
      "outputs": [
        {
          "output_type": "stream",
          "name": "stdout",
          "text": [
            "[]\n"
          ]
        }
      ],
      "source": [
        "explore_reviews_csv_query = \"\"\"\n",
        "CREATE (node1:Frame {text:\"causing\",type:\"Verb\"}),\n",
        "       (node2:Frame_Argument{text:\"the application\",type:\"ARG0\"}),\n",
        "       (node3:Frame_Argument{text:\"a high impact on the confidentiality , integrity , and availability of the application\",type:\"ARG1\"}),\n",
        "\n",
        "       (node2)-[:HAS_ARGUMENT]->(node1),\n",
        "       (node3)-[:HAS_ARGUMENT]->(node1)\n",
        "\n",
        "MERGE (description:Description {cveId:\"CVE-2023-0022\"})\n",
        "MERGE (frame:Frame {text:\"causing\"})\n",
        "MERGE (description)-[:MAPPED_WITH]->(frame)       \n",
        "\n",
        "\"\"\"\n",
        "result = conn.query(explore_reviews_csv_query)\n",
        "print(result)"
      ]
    },
    {
      "cell_type": "code",
      "execution_count": 1024,
      "metadata": {
        "id": "500QHLa2szCF",
        "colab": {
          "base_uri": "https://localhost:8080/"
        },
        "outputId": "b1e51a21-fe48-4ab0-b508-8a5871582eb1"
      },
      "outputs": [
        {
          "output_type": "stream",
          "name": "stdout",
          "text": [
            "[]\n"
          ]
        }
      ],
      "source": [
        "explore_reviews_csv_query = \"\"\"\n",
        "CREATE (node1:Frame {text:\"clicks\",type:\"Verb\"}),\n",
        "       (node2:Modifier_Temporal{text:\"when\",type:\"ARGM-TMP\"}),\n",
        "       (node3:Frame_Argument{text:\"a user\",type:\"ARG0\"}),\n",
        "       (node4:Frame_Argument{text:\"a smart link to navigate to another app\",type:\"ARG1\"}),\n",
        "\n",
        "       (node2)-[:HAS_ARGUMENT]->(node1),\n",
        "       (node3)-[:HAS_ARGUMENT]->(node1),\n",
        "       (node4)-[:HAS_ARGUMENT]->(node1)\n",
        "\n",
        "MERGE (description:Description {cveId:\"CVE-2023-0023\"})\n",
        "MERGE (frame:Frame {text:\"clicks\"})\n",
        "MERGE (description)-[:MAPPED_WITH]->(frame)       \n",
        "\n",
        "\"\"\"\n",
        "result = conn.query(explore_reviews_csv_query)\n",
        "print(result)"
      ]
    },
    {
      "cell_type": "code",
      "execution_count": 1025,
      "metadata": {
        "id": "KdONSAoVsz9P",
        "colab": {
          "base_uri": "https://localhost:8080/"
        },
        "outputId": "672ad1b8-e538-4229-db41-1d4c22afbba0"
      },
      "outputs": [
        {
          "output_type": "stream",
          "name": "stdout",
          "text": [
            "[]\n"
          ]
        }
      ],
      "source": [
        "explore_reviews_csv_query = \"\"\"\n",
        "CREATE (node1:Frame {text:\"navigate\",type:\"Verb\"}),\n",
        "       (node2:Frame_Argument{text:\"a user\",type:\"ARG0\"}),\n",
        "       (node3:Frame_Argument{text:\"to another app\",type:\"ARG1\"}),\n",
        "\n",
        "       (node2)-[:HAS_ARGUMENT]->(node1),\n",
        "       (node3)-[:HAS_ARGUMENT]->(node1)\n",
        "\n",
        "MERGE (description:Description {cveId:\"CVE-2023-0023\"})\n",
        "MERGE (frame:Frame {text:\"navigate\"})\n",
        "MERGE (description)-[:MAPPED_WITH]->(frame)       \n",
        "\n",
        "\"\"\"\n",
        "result = conn.query(explore_reviews_csv_query)\n",
        "print(result)"
      ]
    },
    {
      "cell_type": "code",
      "execution_count": 1026,
      "metadata": {
        "id": "3vsStx39s05p",
        "colab": {
          "base_uri": "https://localhost:8080/"
        },
        "outputId": "4a86d751-0d59-47c9-e0cd-d6f9f1d6dafa"
      },
      "outputs": [
        {
          "output_type": "stream",
          "name": "stdout",
          "text": [
            "[]\n"
          ]
        }
      ],
      "source": [
        "explore_reviews_csv_query = \"\"\"\n",
        "CREATE (node1:Frame {text:\"shown\",type:\"Verb\"}),\n",
        "       (node2:Modifier_Location{text:\"In SAP Bank Account Management ( Manage Banks ) application\",type:\"ARGM-LOC\"}),\n",
        "       (node3:Modifier_Temporal{text:\"when a user clicks a smart link to navigate to another app\",type:\"ARGM-TMP\"}),\n",
        "       (node4:Frame_Argument{text:\"personal data\",type:\"ARG1\"}),\n",
        "       (node5:Modifier_Manner{text:\"directly\",type:\"ARGM-MNR\"}),\n",
        "       (node6:Modifier_Location{text:\"in the URL\",type:\"ARGM-LOC\"}),\n",
        "\n",
        "       (node2)-[:HAS_ARGUMENT]->(node1),\n",
        "       (node3)-[:HAS_ARGUMENT]->(node1),\n",
        "       (node4)-[:HAS_ARGUMENT]->(node1), \n",
        "       (node5)-[:HAS_ARGUMENT]->(node1),\n",
        "       (node6)-[:HAS_ARGUMENT]->(node1)\n",
        "\n",
        "MERGE (description:Description {cveId:\"CVE-2023-0023\"})\n",
        "MERGE (frame:Frame {text:\"shown\"})\n",
        "MERGE (description)-[:MAPPED_WITH]->(frame)        \n",
        "\n",
        "\"\"\"\n",
        "result = conn.query(explore_reviews_csv_query)\n",
        "print(result)"
      ]
    },
    {
      "cell_type": "code",
      "execution_count": 1027,
      "metadata": {
        "id": "poOinGq9s3fz",
        "colab": {
          "base_uri": "https://localhost:8080/"
        },
        "outputId": "c870a1b5-da29-4b69-a226-cec0561a5201"
      },
      "outputs": [
        {
          "output_type": "stream",
          "name": "stdout",
          "text": [
            "[]\n"
          ]
        }
      ],
      "source": [
        "explore_reviews_csv_query = \"\"\"\n",
        "CREATE (node1:Frame {text:\"get\",type:\"Verb\"}),\n",
        "       (node2:Frame_Argument{text:\"They\",type:\"ARG1\"}),\n",
        "       (node3:Modifier_Modal{text:\"might\",type:\"ARGM-MOD\"}),\n",
        "       (node4:Frame_Argument{text:\"captured in log files , bookmarks , and so on disclosing sensitive data of the application\",type:\"ARG2\"}),\n",
        "\n",
        "       (node2)-[:HAS_ARGUMENT]->(node1),\n",
        "       (node3)-[:HAS_ARGUMENT]->(node1),\n",
        "       (node4)-[:HAS_ARGUMENT]->(node1)\n",
        "\n",
        "MERGE (description:Description {cveId:\"CVE-2023-0023\"})\n",
        "MERGE (frame:Frame {text:\"get\"})\n",
        "MERGE (description)-[:MAPPED_WITH]->(frame)       \n",
        "\n",
        "\"\"\"\n",
        "result = conn.query(explore_reviews_csv_query)\n",
        "print(result)"
      ]
    },
    {
      "cell_type": "code",
      "execution_count": 1028,
      "metadata": {
        "id": "fcSYYWXvrIjN",
        "colab": {
          "base_uri": "https://localhost:8080/"
        },
        "outputId": "a9ec5d64-4c2d-4f87-81f5-e298ab164ee9"
      },
      "outputs": [
        {
          "output_type": "stream",
          "name": "stdout",
          "text": [
            "[]\n"
          ]
        }
      ],
      "source": [
        "explore_reviews_csv_query = \"\"\"\n",
        "CREATE (node1:Frame {text:\"captured\",type:\"Verb\"}),\n",
        "       (node2:Frame_Argument{text:\"They\",type:\"ARG1\"}),\n",
        "       (node3:Modifier_Modal{text:\"might\",type:\"ARGM-MOD\"}),\n",
        "       (node4:Modifier_Location{text:\"in log files , bookmarks\",type:\"ARGM-LOC\"}),\n",
        "\n",
        "       (node2)-[:HAS_ARGUMENT]->(node1),\n",
        "       (node3)-[:HAS_ARGUMENT]->(node1),\n",
        "       (node4)-[:HAS_ARGUMENT]->(node1)\n",
        "\n",
        "MERGE (description:Description {cveId:\"CVE-2023-0023\"})\n",
        "MERGE (frame:Frame {text:\"captured\"})\n",
        "MERGE (description)-[:MAPPED_WITH]->(frame)       \n",
        "\n",
        "\"\"\"\n",
        "result = conn.query(explore_reviews_csv_query)\n",
        "print(result)"
      ]
    },
    {
      "cell_type": "code",
      "execution_count": 1029,
      "metadata": {
        "id": "z0lmbOAvrJhw",
        "colab": {
          "base_uri": "https://localhost:8080/"
        },
        "outputId": "e4b9d271-46fa-4c2d-aa1e-ef3270d3de3d"
      },
      "outputs": [
        {
          "output_type": "stream",
          "name": "stdout",
          "text": [
            "[]\n"
          ]
        }
      ],
      "source": [
        "explore_reviews_csv_query = \"\"\"\n",
        "CREATE (node1:Frame {text:\"Stored\",type:\"Verb\"}),\n",
        "       (node2:Frame_Argument{text:\")\",type:\"ARG0\"}),\n",
        "       (node3:Frame_Argument{text:\"in GitHub repository linagora / twake\",type:\"ARG1\"}),\n",
        "       (node4:Modifier_Temporal{text:\"prior to 2023.Q1.1200 +\",type:\"ARGM-TMP\"}),\n",
        "\n",
        "       (node2)-[:HAS_ARGUMENT]->(node1),\n",
        "       (node3)-[:HAS_ARGUMENT]->(node1),\n",
        "       (node4)-[:HAS_ARGUMENT]->(node1)\n",
        "\n",
        "MERGE (description:Description {cveId:\"CVE-2023-0028\"})\n",
        "MERGE (frame:Frame {text:\"Stored\"})\n",
        "MERGE (description)-[:MAPPED_WITH]->(frame)       \n",
        "\n",
        "\"\"\"\n",
        "result = conn.query(explore_reviews_csv_query)\n",
        "print(result)"
      ]
    },
    {
      "cell_type": "code",
      "execution_count": 1030,
      "metadata": {
        "id": "bGSHdBPrrKZa",
        "colab": {
          "base_uri": "https://localhost:8080/"
        },
        "outputId": "21058332-6026-4df6-d914-88ec8a496929"
      },
      "outputs": [
        {
          "output_type": "stream",
          "name": "stdout",
          "text": [
            "[]\n"
          ]
        }
      ],
      "source": [
        "explore_reviews_csv_query = \"\"\"\n",
        "CREATE (node1:Frame {text:\"found\",type:\"Verb\"}),\n",
        "       (node2:Frame_Argument{text:\"A vulnerability\",type:\"ARG1\"}),\n",
        "       (node3:Modifier_Location{text:\"in Multilaser RE708 RE1200R4GC-2T2R - V3_v3411b_MUL029B.\",type:\"ARGM-LOC\"}),\n",
        "\n",
        "       (node2)-[:HAS_ARGUMENT]->(node1),\n",
        "       (node3)-[:HAS_ARGUMENT]->(node1)\n",
        "\n",
        "MERGE (description:Description {cveId:\"CVE-2023-0029\"})\n",
        "MERGE (frame:Frame {text:\"found\"})\n",
        "MERGE (description)-[:MAPPED_WITH]->(frame)       \n",
        "\n",
        "\"\"\"\n",
        "result = conn.query(explore_reviews_csv_query)\n",
        "print(result)"
      ]
    },
    {
      "cell_type": "code",
      "execution_count": 1031,
      "metadata": {
        "id": "tJHKnfZcrLP1",
        "colab": {
          "base_uri": "https://localhost:8080/"
        },
        "outputId": "0753ab9b-374f-42e5-96e4-c5c0fc37ca55"
      },
      "outputs": [
        {
          "output_type": "stream",
          "name": "stdout",
          "text": [
            "[]\n"
          ]
        }
      ],
      "source": [
        "explore_reviews_csv_query = \"\"\"\n",
        "CREATE (node1:Frame {text:\"rated\",type:\"Verb\"}),\n",
        "       (node2:Frame_Argument{text:\"in Multilaser RE708 RE1200R4GC-2T2R - V3_v3411b_MUL029B\",type:\"ARG2\"}),\n",
        "       (node3:Frame_Argument{text:\"It\",type:\"ARG1\"}),\n",
        "       (node4:Frame_Argument{text:\"as problematic\",type:\"ARG2\"}),\n",
        "\n",
        "       (node2)-[:HAS_ARGUMENT]->(node1),\n",
        "       (node3)-[:HAS_ARGUMENT]->(node1),\n",
        "       (node4)-[:HAS_ARGUMENT]->(node1)\n",
        "\n",
        "MERGE (description:Description {cveId:\"CVE-2023-0029\"})\n",
        "MERGE (frame:Frame {text:\"rated\"})\n",
        "MERGE (description)-[:MAPPED_WITH]->(frame)       \n",
        "\n",
        "\"\"\"\n",
        "result = conn.query(explore_reviews_csv_query)\n",
        "print(result)"
      ]
    },
    {
      "cell_type": "code",
      "execution_count": 1032,
      "metadata": {
        "id": "lfKPZ9CxrMMI",
        "colab": {
          "base_uri": "https://localhost:8080/"
        },
        "outputId": "1d2a50ce-0ee9-4674-d386-e290454bdd01"
      },
      "outputs": [
        {
          "output_type": "stream",
          "name": "stdout",
          "text": [
            "[]\n"
          ]
        }
      ],
      "source": [
        "explore_reviews_csv_query = \"\"\"\n",
        "CREATE (node1:Frame {text:\"affects\",type:\"Verb\"}),\n",
        "       (node2:Frame_Argument{text:\"This issue\",type:\"ARG0\"}),\n",
        "       (node3:Frame_Argument{text:\"some unknown processing of the component Telnet Service\",type:\"ARG1\"}),\n",
        "\n",
        "       (node2)-[:HAS_ARGUMENT]->(node1),\n",
        "       (node3)-[:HAS_ARGUMENT]->(node1)\n",
        "\n",
        "MERGE (description:Description {cveId:\"CVE-2023-0029\"})\n",
        "MERGE (frame:Frame {text:\"affects\"})\n",
        "MERGE (description)-[:MAPPED_WITH]->(frame)        \n",
        "\n",
        "\"\"\"\n",
        "result = conn.query(explore_reviews_csv_query)\n",
        "print(result)"
      ]
    },
    {
      "cell_type": "code",
      "execution_count": 1033,
      "metadata": {
        "id": "2WACRjJCrM_6",
        "colab": {
          "base_uri": "https://localhost:8080/"
        },
        "outputId": "ffde5c7e-81ac-4519-b1ec-2c9668ab5f0f"
      },
      "outputs": [
        {
          "output_type": "stream",
          "name": "stdout",
          "text": [
            "[]\n"
          ]
        }
      ],
      "source": [
        "explore_reviews_csv_query = \"\"\"\n",
        "CREATE (node1:Frame {text:\"leads\",type:\"Verb\"}),\n",
        "       (node2:Frame_Argument{text:\"The manipulation\",type:\"ARG0\"}),\n",
        "       (node3:Frame_Argument{text:\"to denial of service\",type:\"ARG2\"}),\n",
        "\n",
        "       (node2)-[:HAS_ARGUMENT]->(node1),\n",
        "       (node3)-[:HAS_ARGUMENT]->(node1)\n",
        "\n",
        "MERGE (description:Description {cveId:\"CVE-2023-0029\"})\n",
        "MERGE (frame:Frame {text:\"leads\"})\n",
        "MERGE (description)-[:MAPPED_WITH]->(frame)        \n",
        "\n",
        "\"\"\"\n",
        "result = conn.query(explore_reviews_csv_query)\n",
        "print(result)"
      ]
    },
    {
      "cell_type": "code",
      "execution_count": 1034,
      "metadata": {
        "id": "tVlNVdOBrN2D",
        "colab": {
          "base_uri": "https://localhost:8080/"
        },
        "outputId": "1196dfe7-b46c-4026-9e9b-ad4315115db7"
      },
      "outputs": [
        {
          "output_type": "stream",
          "name": "stdout",
          "text": [
            "[]\n"
          ]
        }
      ],
      "source": [
        "explore_reviews_csv_query = \"\"\"\n",
        "CREATE (node1:Frame {text:\"initiated\",type:\"Verb\"}),\n",
        "       (node2:Frame_Argument{text:\"The attack\",type:\"ARG1\"}),\n",
        "       (node3:Modifier_Modal{text:\"may\",type:\"ARGM-MOD\"}),\n",
        "       (node4:Modifier_Manner{text:\"remotely\",type:\"ARGM-MNR\"}),\n",
        "\n",
        "       (node2)-[:HAS_ARGUMENT]->(node1),\n",
        "       (node3)-[:HAS_ARGUMENT]->(node1),\n",
        "       (node4)-[:HAS_ARGUMENT]->(node1)\n",
        "\n",
        "MERGE (description:Description {cveId:\"CVE-2023-0029\"})\n",
        "MERGE (frame:Frame {text:\"initiated\"})\n",
        "MERGE (description)-[:MAPPED_WITH]->(frame)       \n",
        "\n",
        "\"\"\"\n",
        "result = conn.query(explore_reviews_csv_query)\n",
        "print(result)"
      ]
    },
    {
      "cell_type": "code",
      "execution_count": 1035,
      "metadata": {
        "id": "Y7ZevRlUrOrC",
        "colab": {
          "base_uri": "https://localhost:8080/"
        },
        "outputId": "4f6e5d9d-a592-4803-a941-f84c66fb236e"
      },
      "outputs": [
        {
          "output_type": "stream",
          "name": "stdout",
          "text": [
            "[]\n"
          ]
        }
      ],
      "source": [
        "explore_reviews_csv_query = \"\"\"\n",
        "CREATE (node1:Frame {text:\"assigned\",type:\"Verb\"}),\n",
        "       (node2:Frame_Argument{text:\"The identifier VDB-217169\",type:\"ARG1\"}),\n",
        "       (node3:Frame_Argument{text:\"to this vulnerability\",type:\"ARG2\"}),\n",
        "\n",
        "       (node2)-[:HAS_ARGUMENT]->(node1),\n",
        "       (node3)-[:HAS_ARGUMENT]->(node1)\n",
        "\n",
        "MERGE (description:Description {cveId:\"CVE-2023-0029\"})\n",
        "MERGE (frame:Frame {text:\"assigned\"})\n",
        "MERGE (description)-[:MAPPED_WITH]->(frame)       \n",
        "\n",
        "\"\"\"\n",
        "result = conn.query(explore_reviews_csv_query)\n",
        "print(result)"
      ]
    },
    {
      "cell_type": "markdown",
      "source": [
        "# **Creating rules for enhancing the coverage of the knowledge graph**"
      ],
      "metadata": {
        "id": "UI8LlRD57BQV"
      }
    },
    {
      "cell_type": "markdown",
      "source": [
        "Here all CWE refered to weaknesses that lead to CVE vulnerabilities "
      ],
      "metadata": {
        "id": "pnpH74uTq9Kq"
      }
    },
    {
      "cell_type": "code",
      "execution_count": 1036,
      "metadata": {
        "id": "Qf9WCjACcghM",
        "colab": {
          "base_uri": "https://localhost:8080/"
        },
        "outputId": "809ed1c3-c80c-4f67-9e83-399fd504bebe"
      },
      "outputs": [
        {
          "output_type": "stream",
          "name": "stdout",
          "text": [
            "[<Record p=<Path start=<Node element_id='4:de342d72-e7ff-4d5b-9a28-99eaa381965b:6' labels=frozenset({'CVE'}) properties={'assigner': 'cna@sap.com', 'id': 'CVE-2023-0018'}> end=<Node element_id='4:de342d72-e7ff-4d5b-9a28-99eaa381965b:155' labels=frozenset({'CWE'}) properties={'weakness_abstraction': 'Base', 'cwe_id': '79', 'name': \"Improper Neutralization of Input During Web Page Generation ('Cross-site Scripting')\", 'description': 'The software does not neutralize or incorrectly neutralizes user-controllable input before it is placed in output that is used as a web page that is served to other users.', 'extended_description': \"Cross-site scripting (XSS) vulnerabilities occur when: 1. Untrusted data enters a web application, typically from a web request. 2. The web application dynamically generates a web page that contains this untrusted data. 3. During page generation, the application does not prevent the data from containing content that is executable by a web browser, such as JavaScript, HTML tags, HTML attributes, mouse events, Flash, ActiveX, etc. 4. A victim visits the generated web page through a web browser, which contains malicious script that was injected using the untrusted data. 5. Since the script comes from a web page that was sent by the web server, the victim's web browser executes the malicious script in the context of the web server's domain. 6. This effectively violates the intention of the web browser's same-origin policy, which states that scripts in one domain should not be able to access resources or run code in a different domain. There are three main kinds of XSS: Type 1: Reflected XSS (or Non-Persistent) - The server reads data directly from the HTTP request and reflects it back in the HTTP response. Reflected XSS exploits occur when an attacker causes a victim to supply dangerous content to a vulnerable web application, which is then reflected back to the victim and executed by the web browser. The most common mechanism for delivering malicious content is to include it as a parameter in a URL that is posted publicly or e-mailed directly to the victim. URLs constructed in this manner constitute the core of many phishing schemes, whereby an attacker convinces a victim to visit a URL that refers to a vulnerable site. After the site reflects the attacker's content back to the victim, the content is executed by the victim's browser. Type 2: Stored XSS (or Persistent) - The application stores dangerous data in a database, message forum, visitor log, or other trusted data store. At a later time, the dangerous data is subsequently read back into the application and included in dynamic content. From an attacker's perspective, the optimal place to inject malicious content is in an area that is displayed to either many users or particularly interesting users. Interesting users typically have elevated privileges in the application or interact with sensitive data that is valuable to the attacker. If one of these users executes malicious content, the attacker may be able to perform privileged operations on behalf of the user or gain access to sensitive data belonging to the user. For example, the attacker might inject XSS into a log message, which might not be handled properly when an administrator views the logs. Type 0: DOM-Based XSS - In DOM-based XSS, the client performs the injection of XSS into the page; in the other types, the server performs the injection. DOM-based XSS generally involves server-controlled, trusted script that is sent to the client, such as Javascript that performs sanity checks on a form before the user submits it. If the server-supplied script processes user-supplied data and then injects it back into the web page (such as with dynamic HTML), then DOM-based XSS is possible. Once the malicious script is injected, the attacker can perform a variety of malicious activities. The attacker could transfer private information, such as cookies that may include session information, from the victim's machine to the attacker. The attacker could send malicious requests to a web site on behalf of the victim, which could be especially dangerous to the site if the victim has administrator privileges to manage that site. Phishing attacks could be used to emulate trusted web sites and trick the victim into entering a password, allowing the attacker to compromise the victim's account on that web site. Finally, the script could exploit a vulnerability in the web browser itself possibly taking over the victim's machine, sometimes referred to as drive-by hacking. In many cases, the attack can be launched without the victim even being aware of it. Even with careful users, attackers frequently use a variety of methods to encode the malicious portion of the attack, such as URL encoding or Unicode, so the request looks less suspicious.\", 'status': 'Stable'}> size=2>>, <Record p=<Path start=<Node element_id='4:de342d72-e7ff-4d5b-9a28-99eaa381965b:9' labels=frozenset({'CVE'}) properties={'assigner': 'security@huntr.dev', 'id': 'CVE-2023-0028'}> end=<Node element_id='4:de342d72-e7ff-4d5b-9a28-99eaa381965b:155' labels=frozenset({'CWE'}) properties={'weakness_abstraction': 'Base', 'cwe_id': '79', 'name': \"Improper Neutralization of Input During Web Page Generation ('Cross-site Scripting')\", 'description': 'The software does not neutralize or incorrectly neutralizes user-controllable input before it is placed in output that is used as a web page that is served to other users.', 'extended_description': \"Cross-site scripting (XSS) vulnerabilities occur when: 1. Untrusted data enters a web application, typically from a web request. 2. The web application dynamically generates a web page that contains this untrusted data. 3. During page generation, the application does not prevent the data from containing content that is executable by a web browser, such as JavaScript, HTML tags, HTML attributes, mouse events, Flash, ActiveX, etc. 4. A victim visits the generated web page through a web browser, which contains malicious script that was injected using the untrusted data. 5. Since the script comes from a web page that was sent by the web server, the victim's web browser executes the malicious script in the context of the web server's domain. 6. This effectively violates the intention of the web browser's same-origin policy, which states that scripts in one domain should not be able to access resources or run code in a different domain. There are three main kinds of XSS: Type 1: Reflected XSS (or Non-Persistent) - The server reads data directly from the HTTP request and reflects it back in the HTTP response. Reflected XSS exploits occur when an attacker causes a victim to supply dangerous content to a vulnerable web application, which is then reflected back to the victim and executed by the web browser. The most common mechanism for delivering malicious content is to include it as a parameter in a URL that is posted publicly or e-mailed directly to the victim. URLs constructed in this manner constitute the core of many phishing schemes, whereby an attacker convinces a victim to visit a URL that refers to a vulnerable site. After the site reflects the attacker's content back to the victim, the content is executed by the victim's browser. Type 2: Stored XSS (or Persistent) - The application stores dangerous data in a database, message forum, visitor log, or other trusted data store. At a later time, the dangerous data is subsequently read back into the application and included in dynamic content. From an attacker's perspective, the optimal place to inject malicious content is in an area that is displayed to either many users or particularly interesting users. Interesting users typically have elevated privileges in the application or interact with sensitive data that is valuable to the attacker. If one of these users executes malicious content, the attacker may be able to perform privileged operations on behalf of the user or gain access to sensitive data belonging to the user. For example, the attacker might inject XSS into a log message, which might not be handled properly when an administrator views the logs. Type 0: DOM-Based XSS - In DOM-based XSS, the client performs the injection of XSS into the page; in the other types, the server performs the injection. DOM-based XSS generally involves server-controlled, trusted script that is sent to the client, such as Javascript that performs sanity checks on a form before the user submits it. If the server-supplied script processes user-supplied data and then injects it back into the web page (such as with dynamic HTML), then DOM-based XSS is possible. Once the malicious script is injected, the attacker can perform a variety of malicious activities. The attacker could transfer private information, such as cookies that may include session information, from the victim's machine to the attacker. The attacker could send malicious requests to a web site on behalf of the victim, which could be especially dangerous to the site if the victim has administrator privileges to manage that site. Phishing attacks could be used to emulate trusted web sites and trick the victim into entering a password, allowing the attacker to compromise the victim's account on that web site. Finally, the script could exploit a vulnerability in the web browser itself possibly taking over the victim's machine, sometimes referred to as drive-by hacking. In many cases, the attack can be launched without the victim even being aware of it. Even with careful users, attackers frequently use a variety of methods to encode the malicious portion of the attack, such as URL encoding or Unicode, so the request looks less suspicious.\", 'status': 'Stable'}> size=2>>, <Record p=<Path start=<Node element_id='4:de342d72-e7ff-4d5b-9a28-99eaa381965b:3' labels=frozenset({'CVE'}) properties={'assigner': 'cna@sap.com', 'id': 'CVE-2023-0015'}> end=<Node element_id='4:de342d72-e7ff-4d5b-9a28-99eaa381965b:155' labels=frozenset({'CWE'}) properties={'weakness_abstraction': 'Base', 'cwe_id': '79', 'name': \"Improper Neutralization of Input During Web Page Generation ('Cross-site Scripting')\", 'description': 'The software does not neutralize or incorrectly neutralizes user-controllable input before it is placed in output that is used as a web page that is served to other users.', 'extended_description': \"Cross-site scripting (XSS) vulnerabilities occur when: 1. Untrusted data enters a web application, typically from a web request. 2. The web application dynamically generates a web page that contains this untrusted data. 3. During page generation, the application does not prevent the data from containing content that is executable by a web browser, such as JavaScript, HTML tags, HTML attributes, mouse events, Flash, ActiveX, etc. 4. A victim visits the generated web page through a web browser, which contains malicious script that was injected using the untrusted data. 5. Since the script comes from a web page that was sent by the web server, the victim's web browser executes the malicious script in the context of the web server's domain. 6. This effectively violates the intention of the web browser's same-origin policy, which states that scripts in one domain should not be able to access resources or run code in a different domain. There are three main kinds of XSS: Type 1: Reflected XSS (or Non-Persistent) - The server reads data directly from the HTTP request and reflects it back in the HTTP response. Reflected XSS exploits occur when an attacker causes a victim to supply dangerous content to a vulnerable web application, which is then reflected back to the victim and executed by the web browser. The most common mechanism for delivering malicious content is to include it as a parameter in a URL that is posted publicly or e-mailed directly to the victim. URLs constructed in this manner constitute the core of many phishing schemes, whereby an attacker convinces a victim to visit a URL that refers to a vulnerable site. After the site reflects the attacker's content back to the victim, the content is executed by the victim's browser. Type 2: Stored XSS (or Persistent) - The application stores dangerous data in a database, message forum, visitor log, or other trusted data store. At a later time, the dangerous data is subsequently read back into the application and included in dynamic content. From an attacker's perspective, the optimal place to inject malicious content is in an area that is displayed to either many users or particularly interesting users. Interesting users typically have elevated privileges in the application or interact with sensitive data that is valuable to the attacker. If one of these users executes malicious content, the attacker may be able to perform privileged operations on behalf of the user or gain access to sensitive data belonging to the user. For example, the attacker might inject XSS into a log message, which might not be handled properly when an administrator views the logs. Type 0: DOM-Based XSS - In DOM-based XSS, the client performs the injection of XSS into the page; in the other types, the server performs the injection. DOM-based XSS generally involves server-controlled, trusted script that is sent to the client, such as Javascript that performs sanity checks on a form before the user submits it. If the server-supplied script processes user-supplied data and then injects it back into the web page (such as with dynamic HTML), then DOM-based XSS is possible. Once the malicious script is injected, the attacker can perform a variety of malicious activities. The attacker could transfer private information, such as cookies that may include session information, from the victim's machine to the attacker. The attacker could send malicious requests to a web site on behalf of the victim, which could be especially dangerous to the site if the victim has administrator privileges to manage that site. Phishing attacks could be used to emulate trusted web sites and trick the victim into entering a password, allowing the attacker to compromise the victim's account on that web site. Finally, the script could exploit a vulnerability in the web browser itself possibly taking over the victim's machine, sometimes referred to as drive-by hacking. In many cases, the attack can be launched without the victim even being aware of it. Even with careful users, attackers frequently use a variety of methods to encode the malicious portion of the attack, such as URL encoding or Unicode, so the request looks less suspicious.\", 'status': 'Stable'}> size=2>>, <Record p=<Path start=<Node element_id='4:de342d72-e7ff-4d5b-9a28-99eaa381965b:1' labels=frozenset({'CVE'}) properties={'assigner': 'cna@sap.com', 'id': 'CVE-2023-0013'}> end=<Node element_id='4:de342d72-e7ff-4d5b-9a28-99eaa381965b:155' labels=frozenset({'CWE'}) properties={'weakness_abstraction': 'Base', 'cwe_id': '79', 'name': \"Improper Neutralization of Input During Web Page Generation ('Cross-site Scripting')\", 'description': 'The software does not neutralize or incorrectly neutralizes user-controllable input before it is placed in output that is used as a web page that is served to other users.', 'extended_description': \"Cross-site scripting (XSS) vulnerabilities occur when: 1. Untrusted data enters a web application, typically from a web request. 2. The web application dynamically generates a web page that contains this untrusted data. 3. During page generation, the application does not prevent the data from containing content that is executable by a web browser, such as JavaScript, HTML tags, HTML attributes, mouse events, Flash, ActiveX, etc. 4. A victim visits the generated web page through a web browser, which contains malicious script that was injected using the untrusted data. 5. Since the script comes from a web page that was sent by the web server, the victim's web browser executes the malicious script in the context of the web server's domain. 6. This effectively violates the intention of the web browser's same-origin policy, which states that scripts in one domain should not be able to access resources or run code in a different domain. There are three main kinds of XSS: Type 1: Reflected XSS (or Non-Persistent) - The server reads data directly from the HTTP request and reflects it back in the HTTP response. Reflected XSS exploits occur when an attacker causes a victim to supply dangerous content to a vulnerable web application, which is then reflected back to the victim and executed by the web browser. The most common mechanism for delivering malicious content is to include it as a parameter in a URL that is posted publicly or e-mailed directly to the victim. URLs constructed in this manner constitute the core of many phishing schemes, whereby an attacker convinces a victim to visit a URL that refers to a vulnerable site. After the site reflects the attacker's content back to the victim, the content is executed by the victim's browser. Type 2: Stored XSS (or Persistent) - The application stores dangerous data in a database, message forum, visitor log, or other trusted data store. At a later time, the dangerous data is subsequently read back into the application and included in dynamic content. From an attacker's perspective, the optimal place to inject malicious content is in an area that is displayed to either many users or particularly interesting users. Interesting users typically have elevated privileges in the application or interact with sensitive data that is valuable to the attacker. If one of these users executes malicious content, the attacker may be able to perform privileged operations on behalf of the user or gain access to sensitive data belonging to the user. For example, the attacker might inject XSS into a log message, which might not be handled properly when an administrator views the logs. Type 0: DOM-Based XSS - In DOM-based XSS, the client performs the injection of XSS into the page; in the other types, the server performs the injection. DOM-based XSS generally involves server-controlled, trusted script that is sent to the client, such as Javascript that performs sanity checks on a form before the user submits it. If the server-supplied script processes user-supplied data and then injects it back into the web page (such as with dynamic HTML), then DOM-based XSS is possible. Once the malicious script is injected, the attacker can perform a variety of malicious activities. The attacker could transfer private information, such as cookies that may include session information, from the victim's machine to the attacker. The attacker could send malicious requests to a web site on behalf of the victim, which could be especially dangerous to the site if the victim has administrator privileges to manage that site. Phishing attacks could be used to emulate trusted web sites and trick the victim into entering a password, allowing the attacker to compromise the victim's account on that web site. Finally, the script could exploit a vulnerability in the web browser itself possibly taking over the victim's machine, sometimes referred to as drive-by hacking. In many cases, the attack can be launched without the victim even being aware of it. Even with careful users, attackers frequently use a variety of methods to encode the malicious portion of the attack, such as URL encoding or Unicode, so the request looks less suspicious.\", 'status': 'Stable'}> size=2>>, <Record p=<Path start=<Node element_id='4:de342d72-e7ff-4d5b-9a28-99eaa381965b:4' labels=frozenset({'CVE'}) properties={'assigner': 'cna@sap.com', 'id': 'CVE-2023-0016'}> end=<Node element_id='4:de342d72-e7ff-4d5b-9a28-99eaa381965b:156' labels=frozenset({'CWE'}) properties={'weakness_abstraction': 'Base', 'cwe_id': '89', 'name': \"Improper Neutralization of Special Elements used in an SQL Command ('SQL Injection')\", 'description': 'The software constructs all or part of an SQL command using externally-influenced input from an upstream component, but it does not neutralize or incorrectly neutralizes special elements that could modify the intended SQL command when it is sent to a downstream component.', 'extended_description': 'Without sufficient removal or quoting of SQL syntax in user-controllable inputs, the generated SQL query can cause those inputs to be interpreted as SQL instead of ordinary user data. This can be used to alter query logic to bypass security checks, or to insert additional statements that modify the back-end database, possibly including execution of system commands. SQL injection has become a common issue with database-driven web sites. The flaw is easily detected, and easily exploited, and as such, any site or software package with even a minimal user base is likely to be subject to an attempted attack of this kind. This flaw depends on the fact that SQL makes no real distinction between the control and data planes.', 'status': 'Stable'}> size=2>>, <Record p=<Path start=<Node element_id='4:de342d72-e7ff-4d5b-9a28-99eaa381965b:7' labels=frozenset({'CVE'}) properties={'assigner': 'cna@sap.com', 'id': 'CVE-2023-0022'}> end=<Node element_id='4:de342d72-e7ff-4d5b-9a28-99eaa381965b:157' labels=frozenset({'CWE'}) properties={'weakness_abstraction': 'Base', 'cwe_id': '94', 'name': \"Improper Control of Generation of Code ('Code Injection')\", 'description': 'The software constructs all or part of a code segment using externally-influenced input from an upstream component, but it does not neutralize or incorrectly neutralizes special elements that could modify the syntax or behavior of the intended code segment.', 'extended_description': \"When software allows a user's input to contain code syntax, it might be possible for an attacker to craft the code in such a way that it will alter the intended control flow of the software. Such an alteration could lead to arbitrary code execution. Injection problems encompass a wide variety of issues -- all mitigated in very different ways. For this reason, the most effective way to discuss these weaknesses is to note the distinct features which classify them as injection weaknesses. The most important issue to note is that all injection problems share one thing in common -- i.e., they allow for the injection of control plane data into the user-controlled data plane. This means that the execution of the process may be altered by sending code in through legitimate data channels, using no other mechanism. While buffer overflows, and many other flaws, involve the use of some further issue to gain execution, injection problems need only for the data to be parsed. The most classic instantiations of this category of weakness are SQL injection and format string vulnerabilities.\", 'status': 'Draft'}> size=2>>, <Record p=<Path start=<Node element_id='4:de342d72-e7ff-4d5b-9a28-99eaa381965b:8' labels=frozenset({'CVE'}) properties={'assigner': 'cna@sap.com', 'id': 'CVE-2023-0023'}> end=<Node element_id='4:de342d72-e7ff-4d5b-9a28-99eaa381965b:158' labels=frozenset({'CWE'}) properties={'weakness_abstraction': 'Class', 'cwe_id': '200', 'name': 'Exposure of Sensitive Information to an Unauthorized Actor', 'description': 'The product exposes sensitive information to an actor that is not explicitly authorized to have access to that information.', 'extended_description': \"There are many different kinds of mistakes that introduce information exposures. The severity of the error can range widely, depending on the context in which the product operates, the type of sensitive information that is revealed, and the benefits it may provide to an attacker. Some kinds of sensitive information include: private, personal information, such as personal messages, financial data, health records, geographic location, or contact details system status and environment, such as the operating system and installed packages business secrets and intellectual property network status and configuration the product's own code or internal state metadata, e.g. logging of connections or message headers indirect information, such as a discrepancy between two internal operations that can be observed by an outsider Information might be sensitive to different parties, each of which may have their own expectations for whether the information should be protected. These parties include: the product's own users people or organizations whose information is created or used by the product, even if they are not direct product users the product's administrators, including the admins of the system(s) and/or networks on which the product operates the developer Information exposures can occur in different ways: the code explicitly inserts sensitive information into resources that are made accessible to unauthorized actors a different weakness or mistake inadvertently makes the sensitive information available, such as a web script error revealing the full system path of the program\", 'status': 'Draft'}> size=2>>, <Record p=<Path start=<Node element_id='4:de342d72-e7ff-4d5b-9a28-99eaa381965b:0' labels=frozenset({'CVE'}) properties={'assigner': 'cna@sap.com', 'id': 'CVE-2023-0012'}> end=<Node element_id='4:de342d72-e7ff-4d5b-9a28-99eaa381965b:159' labels=frozenset({'CWE'}) properties={'weakness_abstraction': 'Pillar', 'cwe_id': '284', 'name': 'Improper Access Control', 'description': 'The software does not restrict or incorrectly restricts access to a resource from an unauthorized actor.', 'extended_description': 'Access control involves the use of several protection mechanisms such as: Authentication (proving the identity of an actor) Authorization (ensuring that a given actor can access a resource), and Accountability (tracking of activities that were performed) When any mechanism is not applied or otherwise fails, attackers can compromise the security of the software by gaining privileges, reading sensitive information, executing commands, evading detection, etc. There are two distinct behaviors that can introduce access control weaknesses: Specification: incorrect privileges, permissions, ownership, etc. are explicitly specified for either the user or the resource (for example, setting a password file to be world-writable, or giving administrator capabilities to a guest user). This action could be performed by the program or the administrator. Enforcement: the mechanism contains errors that prevent it from properly enforcing the specified access control requirements (e.g., allowing the user to specify their own privileges, or allowing a syntactically-incorrect ACL to produce insecure settings). This problem occurs within the program itself, in that it does not actually enforce the intended security policy that the administrator specifies.', 'status': 'Incomplete'}> size=2>>, <Record p=<Path start=<Node element_id='4:de342d72-e7ff-4d5b-9a28-99eaa381965b:5' labels=frozenset({'CVE'}) properties={'assigner': 'cna@sap.com', 'id': 'CVE-2023-0017'}> end=<Node element_id='4:de342d72-e7ff-4d5b-9a28-99eaa381965b:159' labels=frozenset({'CWE'}) properties={'weakness_abstraction': 'Pillar', 'cwe_id': '284', 'name': 'Improper Access Control', 'description': 'The software does not restrict or incorrectly restricts access to a resource from an unauthorized actor.', 'extended_description': 'Access control involves the use of several protection mechanisms such as: Authentication (proving the identity of an actor) Authorization (ensuring that a given actor can access a resource), and Accountability (tracking of activities that were performed) When any mechanism is not applied or otherwise fails, attackers can compromise the security of the software by gaining privileges, reading sensitive information, executing commands, evading detection, etc. There are two distinct behaviors that can introduce access control weaknesses: Specification: incorrect privileges, permissions, ownership, etc. are explicitly specified for either the user or the resource (for example, setting a password file to be world-writable, or giving administrator capabilities to a guest user). This action could be performed by the program or the administrator. Enforcement: the mechanism contains errors that prevent it from properly enforcing the specified access control requirements (e.g., allowing the user to specify their own privileges, or allowing a syntactically-incorrect ACL to produce insecure settings). This problem occurs within the program itself, in that it does not actually enforce the intended security policy that the administrator specifies.', 'status': 'Incomplete'}> size=2>>, <Record p=<Path start=<Node element_id='4:de342d72-e7ff-4d5b-9a28-99eaa381965b:2' labels=frozenset({'CVE'}) properties={'assigner': 'cna@sap.com', 'id': 'CVE-2023-0014'}> end=<Node element_id='4:de342d72-e7ff-4d5b-9a28-99eaa381965b:160' labels=frozenset({'CWE'}) properties={'weakness_abstraction': 'Base', 'cwe_id': '294', 'name': 'Authentication Bypass by Capture-replay', 'description': 'A capture-replay flaw exists when the design of the software makes it possible for a malicious user to sniff network traffic and bypass authentication by replaying it to the server in question to the same effect as the original message (or with minor changes).', 'extended_description': 'Capture-replay attacks are common and can be difficult to defeat without cryptography. They are a subset of network injection attacks that rely on observing previously-sent valid commands, then changing them slightly if necessary and resending the same commands to the server.', 'status': 'Incomplete'}> size=2>>]\n"
          ]
        }
      ],
      "source": [
        "explore_reviews_csv_query = \"\"\"\n",
        "MATCH p=(cve:CVE)-[:PROBLEM_TYPE]->(problemType:ProblemType)-[:MAPPED_WITH]->(cwe:CWE)\n",
        "MERGE(cwe)-[:LEAD_TO]->(cve)\n",
        "RETURN p\n",
        "\n",
        "\"\"\"\n",
        "result = conn.query(explore_reviews_csv_query)\n",
        "print(result)"
      ]
    },
    {
      "cell_type": "markdown",
      "source": [
        "These patterns matchs some entities from CWE, that vulnerable to each CVE vulnerabilities"
      ],
      "metadata": {
        "id": "j69O4ZWnf5PJ"
      }
    },
    {
      "cell_type": "code",
      "execution_count": 1037,
      "metadata": {
        "id": "LoUqsBKDHEgi",
        "colab": {
          "base_uri": "https://localhost:8080/"
        },
        "outputId": "398181d9-d7cf-44e1-c824-844ae7dc738a"
      },
      "outputs": [
        {
          "output_type": "stream",
          "name": "stdout",
          "text": [
            "[<Record p=<Path start=<Node element_id='4:de342d72-e7ff-4d5b-9a28-99eaa381965b:6' labels=frozenset({'CVE'}) properties={'assigner': 'cna@sap.com', 'id': 'CVE-2023-0018'}> end=<Node element_id='4:de342d72-e7ff-4d5b-9a28-99eaa381965b:167' labels=frozenset({'Entities'}) properties={'wikipediaExternalRef': 241154, 'wikidataId': 'Q371199', 'confidence_score': 0.719, 'offsetStart': 0, 'offsetEnd': 20, 'rawName': 'Cross-site scripting'}> size=4>>, <Record p=<Path start=<Node element_id='4:de342d72-e7ff-4d5b-9a28-99eaa381965b:9' labels=frozenset({'CVE'}) properties={'assigner': 'security@huntr.dev', 'id': 'CVE-2023-0028'}> end=<Node element_id='4:de342d72-e7ff-4d5b-9a28-99eaa381965b:167' labels=frozenset({'Entities'}) properties={'wikipediaExternalRef': 241154, 'wikidataId': 'Q371199', 'confidence_score': 0.719, 'offsetStart': 0, 'offsetEnd': 20, 'rawName': 'Cross-site scripting'}> size=4>>, <Record p=<Path start=<Node element_id='4:de342d72-e7ff-4d5b-9a28-99eaa381965b:3' labels=frozenset({'CVE'}) properties={'assigner': 'cna@sap.com', 'id': 'CVE-2023-0015'}> end=<Node element_id='4:de342d72-e7ff-4d5b-9a28-99eaa381965b:167' labels=frozenset({'Entities'}) properties={'wikipediaExternalRef': 241154, 'wikidataId': 'Q371199', 'confidence_score': 0.719, 'offsetStart': 0, 'offsetEnd': 20, 'rawName': 'Cross-site scripting'}> size=4>>, <Record p=<Path start=<Node element_id='4:de342d72-e7ff-4d5b-9a28-99eaa381965b:1' labels=frozenset({'CVE'}) properties={'assigner': 'cna@sap.com', 'id': 'CVE-2023-0013'}> end=<Node element_id='4:de342d72-e7ff-4d5b-9a28-99eaa381965b:167' labels=frozenset({'Entities'}) properties={'wikipediaExternalRef': 241154, 'wikidataId': 'Q371199', 'confidence_score': 0.719, 'offsetStart': 0, 'offsetEnd': 20, 'rawName': 'Cross-site scripting'}> size=4>>]\n"
          ]
        }
      ],
      "source": [
        "explore_reviews_csv_query = \"\"\"\n",
        "MATCH p=(cve:CVE)-[:PROBLEM_TYPE]->(problemType:ProblemType)-[:MAPPED_WITH]->(cwe:CWE)-[:MAPPED_WITH]->(cwedata:Extended_Descriptions)-[:HAS_ENTITY]->(Entities:Entities{rawName:\"Cross-site scripting\"})\n",
        "MERGE(Entities)<-[:VULNERABLE_TO]-(cve)\n",
        "RETURN p\n",
        "\n",
        "\"\"\"\n",
        "result = conn.query(explore_reviews_csv_query)\n",
        "print(result)"
      ]
    },
    {
      "cell_type": "code",
      "execution_count": 1038,
      "metadata": {
        "id": "XkMMVx1pz2Di",
        "colab": {
          "base_uri": "https://localhost:8080/"
        },
        "outputId": "b5671c41-7716-4675-d793-d3bf393e1ec1"
      },
      "outputs": [
        {
          "output_type": "stream",
          "name": "stdout",
          "text": [
            "[<Record p=<Path start=<Node element_id='4:de342d72-e7ff-4d5b-9a28-99eaa381965b:4' labels=frozenset({'CVE'}) properties={'assigner': 'cna@sap.com', 'id': 'CVE-2023-0016'}> end=<Node element_id='4:de342d72-e7ff-4d5b-9a28-99eaa381965b:262' labels=frozenset({'Entities'}) properties={'wikipediaExternalRef': 526999, 'wikidataId': 'Q506059', 'confidence_score': 0.9162, 'offsetStart': 1041, 'offsetEnd': 1054, 'rawName': 'SQL injection'}> size=4>>, <Record p=<Path start=<Node element_id='4:de342d72-e7ff-4d5b-9a28-99eaa381965b:7' labels=frozenset({'CVE'}) properties={'assigner': 'cna@sap.com', 'id': 'CVE-2023-0022'}> end=<Node element_id='4:de342d72-e7ff-4d5b-9a28-99eaa381965b:262' labels=frozenset({'Entities'}) properties={'wikipediaExternalRef': 526999, 'wikidataId': 'Q506059', 'confidence_score': 0.9162, 'offsetStart': 1041, 'offsetEnd': 1054, 'rawName': 'SQL injection'}> size=4>>]\n"
          ]
        }
      ],
      "source": [
        "explore_reviews_csv_query = \"\"\"\n",
        "MATCH p=(cve:CVE)-[:PROBLEM_TYPE]->(problemType:ProblemType)-[:MAPPED_WITH]->(cwe:CWE)-[:MAPPED_WITH]->(cwedata:Extended_Descriptions)-[:HAS_ENTITY]->(Entities:Entities{rawName:\"SQL injection\"})\n",
        "MERGE(Entities)<-[:VULNERABLE_TO]-(cve)\n",
        "RETURN p\n",
        "\n",
        "\"\"\"\n",
        "result = conn.query(explore_reviews_csv_query)\n",
        "print(result)"
      ]
    },
    {
      "cell_type": "code",
      "execution_count": 1039,
      "metadata": {
        "id": "yl5QJI-cz4ac",
        "colab": {
          "base_uri": "https://localhost:8080/"
        },
        "outputId": "7fd363a7-7326-4905-edca-aaf201e2d1e8"
      },
      "outputs": [
        {
          "output_type": "stream",
          "name": "stdout",
          "text": [
            "[<Record p=<Path start=<Node element_id='4:de342d72-e7ff-4d5b-9a28-99eaa381965b:8' labels=frozenset({'CVE'}) properties={'assigner': 'cna@sap.com', 'id': 'CVE-2023-0023'}> end=<Node element_id='4:de342d72-e7ff-4d5b-9a28-99eaa381965b:287' labels=frozenset({'Entities'}) properties={'wikipediaExternalRef': 5316476, 'wikidataId': 'Q2587068', 'confidence_score': 0.4076, 'offsetStart': 394, 'offsetEnd': 415, 'rawName': 'sensitive information'}> size=4>>, <Record p=<Path start=<Node element_id='4:de342d72-e7ff-4d5b-9a28-99eaa381965b:0' labels=frozenset({'CVE'}) properties={'assigner': 'cna@sap.com', 'id': 'CVE-2023-0012'}> end=<Node element_id='4:de342d72-e7ff-4d5b-9a28-99eaa381965b:287' labels=frozenset({'Entities'}) properties={'wikipediaExternalRef': 5316476, 'wikidataId': 'Q2587068', 'confidence_score': 0.4076, 'offsetStart': 394, 'offsetEnd': 415, 'rawName': 'sensitive information'}> size=4>>, <Record p=<Path start=<Node element_id='4:de342d72-e7ff-4d5b-9a28-99eaa381965b:5' labels=frozenset({'CVE'}) properties={'assigner': 'cna@sap.com', 'id': 'CVE-2023-0017'}> end=<Node element_id='4:de342d72-e7ff-4d5b-9a28-99eaa381965b:287' labels=frozenset({'Entities'}) properties={'wikipediaExternalRef': 5316476, 'wikidataId': 'Q2587068', 'confidence_score': 0.4076, 'offsetStart': 394, 'offsetEnd': 415, 'rawName': 'sensitive information'}> size=4>>]\n"
          ]
        }
      ],
      "source": [
        "explore_reviews_csv_query = \"\"\"\n",
        "MATCH p=(cve:CVE)-[:PROBLEM_TYPE]->(problemType:ProblemType)-[:MAPPED_WITH]->(cwe:CWE)-[:MAPPED_WITH]->(cwedata:Extended_Descriptions)-[:HAS_ENTITY]->(Entities:Entities{rawName:\"sensitive information\"})\n",
        "MERGE(Entities)<-[:VULNERABLE_TO]-(cve)\n",
        "RETURN p\n",
        "\n",
        "\"\"\"\n",
        "result = conn.query(explore_reviews_csv_query)\n",
        "print(result)"
      ]
    },
    {
      "cell_type": "code",
      "execution_count": 1040,
      "metadata": {
        "id": "FEYCXm4Bz-zs",
        "colab": {
          "base_uri": "https://localhost:8080/"
        },
        "outputId": "8629f73d-938e-46e5-e897-fe95b6d54222"
      },
      "outputs": [
        {
          "output_type": "stream",
          "name": "stdout",
          "text": [
            "[<Record p=<Path start=<Node element_id='4:de342d72-e7ff-4d5b-9a28-99eaa381965b:0' labels=frozenset({'CVE'}) properties={'assigner': 'cna@sap.com', 'id': 'CVE-2023-0012'}> end=<Node element_id='4:de342d72-e7ff-4d5b-9a28-99eaa381965b:314' labels=frozenset({'Entities'}) properties={'wikipediaExternalRef': 40684, 'wikidataId': 'Q228502', 'confidence_score': 0.6394, 'offsetStart': 0, 'offsetEnd': 14, 'rawName': 'Access control'}> size=4>>, <Record p=<Path start=<Node element_id='4:de342d72-e7ff-4d5b-9a28-99eaa381965b:5' labels=frozenset({'CVE'}) properties={'assigner': 'cna@sap.com', 'id': 'CVE-2023-0017'}> end=<Node element_id='4:de342d72-e7ff-4d5b-9a28-99eaa381965b:314' labels=frozenset({'Entities'}) properties={'wikipediaExternalRef': 40684, 'wikidataId': 'Q228502', 'confidence_score': 0.6394, 'offsetStart': 0, 'offsetEnd': 14, 'rawName': 'Access control'}> size=4>>]\n"
          ]
        }
      ],
      "source": [
        "explore_reviews_csv_query = \"\"\"\n",
        "MATCH p=(cve:CVE)-[:PROBLEM_TYPE]->(problemType:ProblemType)-[:MAPPED_WITH]->(cwe:CWE)-[:MAPPED_WITH]->(cwedata:Extended_Descriptions)-[:HAS_ENTITY]->(Entities:Entities{rawName:\"Access control\"})\n",
        "MERGE(Entities)<-[:VULNERABLE_TO]-(cve)\n",
        "RETURN p\n",
        "\n",
        "\"\"\"\n",
        "result = conn.query(explore_reviews_csv_query)\n",
        "print(result)"
      ]
    },
    {
      "cell_type": "code",
      "execution_count": 1041,
      "metadata": {
        "id": "I3n5YoD4HVAN",
        "colab": {
          "base_uri": "https://localhost:8080/"
        },
        "outputId": "1886e10a-ff09-44c1-da44-121eae325cc4"
      },
      "outputs": [
        {
          "output_type": "stream",
          "name": "stdout",
          "text": [
            "[<Record p=<Path start=<Node element_id='4:de342d72-e7ff-4d5b-9a28-99eaa381965b:2' labels=frozenset({'CVE'}) properties={'assigner': 'cna@sap.com', 'id': 'CVE-2023-0014'}> end=<Node element_id='4:de342d72-e7ff-4d5b-9a28-99eaa381965b:331' labels=frozenset({'Entities'}) properties={'wikipediaExternalRef': 614094, 'wikidataId': 'Q1756025', 'confidence_score': 0.5922, 'offsetStart': 8, 'offsetEnd': 22, 'rawName': 'replay attacks'}> size=4>>]\n"
          ]
        }
      ],
      "source": [
        "explore_reviews_csv_query = \"\"\"\n",
        "MATCH p=(cve:CVE)-[:PROBLEM_TYPE]->(problemType:ProblemType)-[:MAPPED_WITH]->(cwe:CWE)-[:MAPPED_WITH]->(cwedata:Extended_Descriptions)-[:HAS_ENTITY]->(Entities:Entities{rawName:\"replay attacks\"})\n",
        "MERGE(Entities)<-[:VULNERABLE_TO]-(cve)\n",
        "RETURN p\n",
        "\n",
        "\"\"\"\n",
        "result = conn.query(explore_reviews_csv_query)\n",
        "print(result)"
      ]
    },
    {
      "cell_type": "markdown",
      "source": [
        "Here some CVE are connecting with wikidata Id of the entities in order to create similarities between CVEs"
      ],
      "metadata": {
        "id": "7h8lPkblxiHj"
      }
    },
    {
      "cell_type": "code",
      "execution_count": 1042,
      "metadata": {
        "id": "2OtSpD4G-kvG",
        "colab": {
          "base_uri": "https://localhost:8080/"
        },
        "outputId": "88efe1e8-f2f8-4e8b-c9cf-978ebba2f7ab"
      },
      "outputs": [
        {
          "output_type": "stream",
          "name": "stdout",
          "text": [
            "[<Record p=<Path start=<Node element_id='4:de342d72-e7ff-4d5b-9a28-99eaa381965b:6' labels=frozenset({'CVE'}) properties={'assigner': 'cna@sap.com', 'id': 'CVE-2023-0018'}> end=<Node element_id='4:de342d72-e7ff-4d5b-9a28-99eaa381965b:167' labels=frozenset({'Entities'}) properties={'wikipediaExternalRef': 241154, 'wikidataId': 'Q371199', 'confidence_score': 0.719, 'offsetStart': 0, 'offsetEnd': 20, 'rawName': 'Cross-site scripting'}> size=4>>, <Record p=<Path start=<Node element_id='4:de342d72-e7ff-4d5b-9a28-99eaa381965b:6' labels=frozenset({'CVE'}) properties={'assigner': 'cna@sap.com', 'id': 'CVE-2023-0018'}> end=<Node element_id='4:de342d72-e7ff-4d5b-9a28-99eaa381965b:168' labels=frozenset({'Entities'}) properties={'wikipediaExternalRef': 241154, 'wikidataId': 'Q371199', 'confidence_score': 0.8255, 'offsetStart': 3130, 'offsetEnd': 3133, 'rawName': 'XSS'}> size=4>>, <Record p=<Path start=<Node element_id='4:de342d72-e7ff-4d5b-9a28-99eaa381965b:6' labels=frozenset({'CVE'}) properties={'assigner': 'cna@sap.com', 'id': 'CVE-2023-0018'}> end=<Node element_id='4:de342d72-e7ff-4d5b-9a28-99eaa381965b:195' labels=frozenset({'Entities'}) properties={'wikipediaExternalRef': 241154, 'wikidataId': 'Q371199', 'confidence_score': 0.5158, 'offsetStart': 1120, 'offsetEnd': 1133, 'rawName': 'Reflected XSS'}> size=4>>, <Record p=<Path start=<Node element_id='4:de342d72-e7ff-4d5b-9a28-99eaa381965b:6' labels=frozenset({'CVE'}) properties={'assigner': 'cna@sap.com', 'id': 'CVE-2023-0018'}> end=<Node element_id='4:de342d72-e7ff-4d5b-9a28-99eaa381965b:208' labels=frozenset({'Entities'}) properties={'wikipediaExternalRef': 241154, 'wikidataId': 'Q371199', 'confidence_score': 0.5158, 'offsetStart': 1769, 'offsetEnd': 1779, 'rawName': 'Stored XSS'}> size=4>>, <Record p=<Path start=<Node element_id='4:de342d72-e7ff-4d5b-9a28-99eaa381965b:9' labels=frozenset({'CVE'}) properties={'assigner': 'security@huntr.dev', 'id': 'CVE-2023-0028'}> end=<Node element_id='4:de342d72-e7ff-4d5b-9a28-99eaa381965b:167' labels=frozenset({'Entities'}) properties={'wikipediaExternalRef': 241154, 'wikidataId': 'Q371199', 'confidence_score': 0.719, 'offsetStart': 0, 'offsetEnd': 20, 'rawName': 'Cross-site scripting'}> size=4>>, <Record p=<Path start=<Node element_id='4:de342d72-e7ff-4d5b-9a28-99eaa381965b:9' labels=frozenset({'CVE'}) properties={'assigner': 'security@huntr.dev', 'id': 'CVE-2023-0028'}> end=<Node element_id='4:de342d72-e7ff-4d5b-9a28-99eaa381965b:168' labels=frozenset({'Entities'}) properties={'wikipediaExternalRef': 241154, 'wikidataId': 'Q371199', 'confidence_score': 0.8255, 'offsetStart': 3130, 'offsetEnd': 3133, 'rawName': 'XSS'}> size=4>>, <Record p=<Path start=<Node element_id='4:de342d72-e7ff-4d5b-9a28-99eaa381965b:9' labels=frozenset({'CVE'}) properties={'assigner': 'security@huntr.dev', 'id': 'CVE-2023-0028'}> end=<Node element_id='4:de342d72-e7ff-4d5b-9a28-99eaa381965b:195' labels=frozenset({'Entities'}) properties={'wikipediaExternalRef': 241154, 'wikidataId': 'Q371199', 'confidence_score': 0.5158, 'offsetStart': 1120, 'offsetEnd': 1133, 'rawName': 'Reflected XSS'}> size=4>>, <Record p=<Path start=<Node element_id='4:de342d72-e7ff-4d5b-9a28-99eaa381965b:9' labels=frozenset({'CVE'}) properties={'assigner': 'security@huntr.dev', 'id': 'CVE-2023-0028'}> end=<Node element_id='4:de342d72-e7ff-4d5b-9a28-99eaa381965b:208' labels=frozenset({'Entities'}) properties={'wikipediaExternalRef': 241154, 'wikidataId': 'Q371199', 'confidence_score': 0.5158, 'offsetStart': 1769, 'offsetEnd': 1779, 'rawName': 'Stored XSS'}> size=4>>, <Record p=<Path start=<Node element_id='4:de342d72-e7ff-4d5b-9a28-99eaa381965b:3' labels=frozenset({'CVE'}) properties={'assigner': 'cna@sap.com', 'id': 'CVE-2023-0015'}> end=<Node element_id='4:de342d72-e7ff-4d5b-9a28-99eaa381965b:167' labels=frozenset({'Entities'}) properties={'wikipediaExternalRef': 241154, 'wikidataId': 'Q371199', 'confidence_score': 0.719, 'offsetStart': 0, 'offsetEnd': 20, 'rawName': 'Cross-site scripting'}> size=4>>, <Record p=<Path start=<Node element_id='4:de342d72-e7ff-4d5b-9a28-99eaa381965b:3' labels=frozenset({'CVE'}) properties={'assigner': 'cna@sap.com', 'id': 'CVE-2023-0015'}> end=<Node element_id='4:de342d72-e7ff-4d5b-9a28-99eaa381965b:168' labels=frozenset({'Entities'}) properties={'wikipediaExternalRef': 241154, 'wikidataId': 'Q371199', 'confidence_score': 0.8255, 'offsetStart': 3130, 'offsetEnd': 3133, 'rawName': 'XSS'}> size=4>>, <Record p=<Path start=<Node element_id='4:de342d72-e7ff-4d5b-9a28-99eaa381965b:3' labels=frozenset({'CVE'}) properties={'assigner': 'cna@sap.com', 'id': 'CVE-2023-0015'}> end=<Node element_id='4:de342d72-e7ff-4d5b-9a28-99eaa381965b:195' labels=frozenset({'Entities'}) properties={'wikipediaExternalRef': 241154, 'wikidataId': 'Q371199', 'confidence_score': 0.5158, 'offsetStart': 1120, 'offsetEnd': 1133, 'rawName': 'Reflected XSS'}> size=4>>, <Record p=<Path start=<Node element_id='4:de342d72-e7ff-4d5b-9a28-99eaa381965b:3' labels=frozenset({'CVE'}) properties={'assigner': 'cna@sap.com', 'id': 'CVE-2023-0015'}> end=<Node element_id='4:de342d72-e7ff-4d5b-9a28-99eaa381965b:208' labels=frozenset({'Entities'}) properties={'wikipediaExternalRef': 241154, 'wikidataId': 'Q371199', 'confidence_score': 0.5158, 'offsetStart': 1769, 'offsetEnd': 1779, 'rawName': 'Stored XSS'}> size=4>>, <Record p=<Path start=<Node element_id='4:de342d72-e7ff-4d5b-9a28-99eaa381965b:1' labels=frozenset({'CVE'}) properties={'assigner': 'cna@sap.com', 'id': 'CVE-2023-0013'}> end=<Node element_id='4:de342d72-e7ff-4d5b-9a28-99eaa381965b:167' labels=frozenset({'Entities'}) properties={'wikipediaExternalRef': 241154, 'wikidataId': 'Q371199', 'confidence_score': 0.719, 'offsetStart': 0, 'offsetEnd': 20, 'rawName': 'Cross-site scripting'}> size=4>>, <Record p=<Path start=<Node element_id='4:de342d72-e7ff-4d5b-9a28-99eaa381965b:1' labels=frozenset({'CVE'}) properties={'assigner': 'cna@sap.com', 'id': 'CVE-2023-0013'}> end=<Node element_id='4:de342d72-e7ff-4d5b-9a28-99eaa381965b:168' labels=frozenset({'Entities'}) properties={'wikipediaExternalRef': 241154, 'wikidataId': 'Q371199', 'confidence_score': 0.8255, 'offsetStart': 3130, 'offsetEnd': 3133, 'rawName': 'XSS'}> size=4>>, <Record p=<Path start=<Node element_id='4:de342d72-e7ff-4d5b-9a28-99eaa381965b:1' labels=frozenset({'CVE'}) properties={'assigner': 'cna@sap.com', 'id': 'CVE-2023-0013'}> end=<Node element_id='4:de342d72-e7ff-4d5b-9a28-99eaa381965b:195' labels=frozenset({'Entities'}) properties={'wikipediaExternalRef': 241154, 'wikidataId': 'Q371199', 'confidence_score': 0.5158, 'offsetStart': 1120, 'offsetEnd': 1133, 'rawName': 'Reflected XSS'}> size=4>>, <Record p=<Path start=<Node element_id='4:de342d72-e7ff-4d5b-9a28-99eaa381965b:1' labels=frozenset({'CVE'}) properties={'assigner': 'cna@sap.com', 'id': 'CVE-2023-0013'}> end=<Node element_id='4:de342d72-e7ff-4d5b-9a28-99eaa381965b:208' labels=frozenset({'Entities'}) properties={'wikipediaExternalRef': 241154, 'wikidataId': 'Q371199', 'confidence_score': 0.5158, 'offsetStart': 1769, 'offsetEnd': 1779, 'rawName': 'Stored XSS'}> size=4>>]\n"
          ]
        }
      ],
      "source": [
        "explore_reviews_csv_query = \"\"\"\n",
        "MATCH p=(cve:CVE)-[:PROBLEM_TYPE]->(problemType:ProblemType)-[:MAPPED_WITH]->(cwe:CWE)-[:MAPPED_WITH]->(cwedata:Extended_Descriptions)-[:HAS_ENTITY]->(Entities:Entities{wikidataId:\"Q371199\"})\n",
        "MERGE (cve1:CVE{id:\"CVE-2023-0013\"})\n",
        "MERGE (cve2:CVE{id:\"CVE-2023-0015\"})\n",
        "MERGE (cve3:CVE{id:\"CVE-2023-0018\"})\n",
        "MERGE (cve4:CVE{id:\"CVE-2023-0028\"})\n",
        "MERGE (cve1)-[:SIMILAR_TO]->(cve2)\n",
        "MERGE (cve2)-[:SIMILAR_TO]->(cve3)\n",
        "MERGE (cve3)-[:SIMILAR_TO]->(cve4)\n",
        "RETURN p\n",
        "\n",
        "\"\"\"\n",
        "result = conn.query(explore_reviews_csv_query)\n",
        "print(result)"
      ]
    },
    {
      "cell_type": "code",
      "execution_count": 1043,
      "metadata": {
        "id": "CrsXkiEn-uY5",
        "colab": {
          "base_uri": "https://localhost:8080/"
        },
        "outputId": "dad40db7-8d47-4717-dcf2-2f31c3c38541"
      },
      "outputs": [
        {
          "output_type": "stream",
          "name": "stdout",
          "text": [
            "[<Record p=<Path start=<Node element_id='4:de342d72-e7ff-4d5b-9a28-99eaa381965b:4' labels=frozenset({'CVE'}) properties={'assigner': 'cna@sap.com', 'id': 'CVE-2023-0016'}> end=<Node element_id='4:de342d72-e7ff-4d5b-9a28-99eaa381965b:262' labels=frozenset({'Entities'}) properties={'wikipediaExternalRef': 526999, 'wikidataId': 'Q506059', 'confidence_score': 0.9162, 'offsetStart': 1041, 'offsetEnd': 1054, 'rawName': 'SQL injection'}> size=4>>, <Record p=<Path start=<Node element_id='4:de342d72-e7ff-4d5b-9a28-99eaa381965b:7' labels=frozenset({'CVE'}) properties={'assigner': 'cna@sap.com', 'id': 'CVE-2023-0022'}> end=<Node element_id='4:de342d72-e7ff-4d5b-9a28-99eaa381965b:262' labels=frozenset({'Entities'}) properties={'wikipediaExternalRef': 526999, 'wikidataId': 'Q506059', 'confidence_score': 0.9162, 'offsetStart': 1041, 'offsetEnd': 1054, 'rawName': 'SQL injection'}> size=4>>]\n"
          ]
        }
      ],
      "source": [
        "explore_reviews_csv_query = \"\"\"\n",
        "MATCH p=(cve:CVE)-[:PROBLEM_TYPE]->(problemType:ProblemType)-[:MAPPED_WITH]->(cwe:CWE)-[:MAPPED_WITH]->(cwedata:Extended_Descriptions)-[:HAS_ENTITY]->(Entities:Entities{wikidataId:\"Q506059\"})\n",
        "MERGE (cve1:CVE{id:\"CVE-2023-0016\"})\n",
        "MERGE (cve2:CVE{id:\"CVE-2023-0022\"})\n",
        "MERGE (cve1)-[:SIMILAR_TO]->(cve2)\n",
        "RETURN p\n",
        "\n",
        "\"\"\"\n",
        "result = conn.query(explore_reviews_csv_query)\n",
        "print(result)"
      ]
    },
    {
      "cell_type": "code",
      "execution_count": 1044,
      "metadata": {
        "id": "ClusNkpQPmd9",
        "colab": {
          "base_uri": "https://localhost:8080/"
        },
        "outputId": "1b583921-b695-482b-a3f3-2842ad7bc21a"
      },
      "outputs": [
        {
          "output_type": "stream",
          "name": "stdout",
          "text": [
            "[<Record p=<Path start=<Node element_id='4:de342d72-e7ff-4d5b-9a28-99eaa381965b:6' labels=frozenset({'CVE'}) properties={'assigner': 'cna@sap.com', 'id': 'CVE-2023-0018'}> end=<Node element_id='4:de342d72-e7ff-4d5b-9a28-99eaa381965b:216' labels=frozenset({'Entities'}) properties={'wikipediaExternalRef': 5316476, 'wikidataId': 'Q2587068', 'confidence_score': 0.4691, 'offsetStart': 2476, 'offsetEnd': 2490, 'rawName': 'sensitive data'}> size=4>>, <Record p=<Path start=<Node element_id='4:de342d72-e7ff-4d5b-9a28-99eaa381965b:9' labels=frozenset({'CVE'}) properties={'assigner': 'security@huntr.dev', 'id': 'CVE-2023-0028'}> end=<Node element_id='4:de342d72-e7ff-4d5b-9a28-99eaa381965b:216' labels=frozenset({'Entities'}) properties={'wikipediaExternalRef': 5316476, 'wikidataId': 'Q2587068', 'confidence_score': 0.4691, 'offsetStart': 2476, 'offsetEnd': 2490, 'rawName': 'sensitive data'}> size=4>>, <Record p=<Path start=<Node element_id='4:de342d72-e7ff-4d5b-9a28-99eaa381965b:3' labels=frozenset({'CVE'}) properties={'assigner': 'cna@sap.com', 'id': 'CVE-2023-0015'}> end=<Node element_id='4:de342d72-e7ff-4d5b-9a28-99eaa381965b:216' labels=frozenset({'Entities'}) properties={'wikipediaExternalRef': 5316476, 'wikidataId': 'Q2587068', 'confidence_score': 0.4691, 'offsetStart': 2476, 'offsetEnd': 2490, 'rawName': 'sensitive data'}> size=4>>, <Record p=<Path start=<Node element_id='4:de342d72-e7ff-4d5b-9a28-99eaa381965b:1' labels=frozenset({'CVE'}) properties={'assigner': 'cna@sap.com', 'id': 'CVE-2023-0013'}> end=<Node element_id='4:de342d72-e7ff-4d5b-9a28-99eaa381965b:216' labels=frozenset({'Entities'}) properties={'wikipediaExternalRef': 5316476, 'wikidataId': 'Q2587068', 'confidence_score': 0.4691, 'offsetStart': 2476, 'offsetEnd': 2490, 'rawName': 'sensitive data'}> size=4>>, <Record p=<Path start=<Node element_id='4:de342d72-e7ff-4d5b-9a28-99eaa381965b:8' labels=frozenset({'CVE'}) properties={'assigner': 'cna@sap.com', 'id': 'CVE-2023-0023'}> end=<Node element_id='4:de342d72-e7ff-4d5b-9a28-99eaa381965b:287' labels=frozenset({'Entities'}) properties={'wikipediaExternalRef': 5316476, 'wikidataId': 'Q2587068', 'confidence_score': 0.4076, 'offsetStart': 394, 'offsetEnd': 415, 'rawName': 'sensitive information'}> size=4>>, <Record p=<Path start=<Node element_id='4:de342d72-e7ff-4d5b-9a28-99eaa381965b:0' labels=frozenset({'CVE'}) properties={'assigner': 'cna@sap.com', 'id': 'CVE-2023-0012'}> end=<Node element_id='4:de342d72-e7ff-4d5b-9a28-99eaa381965b:287' labels=frozenset({'Entities'}) properties={'wikipediaExternalRef': 5316476, 'wikidataId': 'Q2587068', 'confidence_score': 0.4076, 'offsetStart': 394, 'offsetEnd': 415, 'rawName': 'sensitive information'}> size=4>>, <Record p=<Path start=<Node element_id='4:de342d72-e7ff-4d5b-9a28-99eaa381965b:5' labels=frozenset({'CVE'}) properties={'assigner': 'cna@sap.com', 'id': 'CVE-2023-0017'}> end=<Node element_id='4:de342d72-e7ff-4d5b-9a28-99eaa381965b:287' labels=frozenset({'Entities'}) properties={'wikipediaExternalRef': 5316476, 'wikidataId': 'Q2587068', 'confidence_score': 0.4076, 'offsetStart': 394, 'offsetEnd': 415, 'rawName': 'sensitive information'}> size=4>>]\n"
          ]
        }
      ],
      "source": [
        "explore_reviews_csv_query = \"\"\"\n",
        "MATCH p=(cve:CVE)-[:PROBLEM_TYPE]->(problemType:ProblemType)-[:MAPPED_WITH]->(cwe:CWE)-[:MAPPED_WITH]->(cwedata:Extended_Descriptions)-[:HAS_ENTITY]->(Entities:Entities{wikidataId:\"Q2587068\"})\n",
        "MERGE (cve1:CVE{id:\"CVE-2023-0012\"})\n",
        "MERGE (cve2:CVE{id:\"CVE-2023-0017\"})\n",
        "MERGE (cve3:CVE{id:\"CVE-2023-0023\"})\n",
        "MERGE (cve1)-[:SIMILAR_TO]->(cve2)\n",
        "MERGE (cve2)-[:SIMILAR_TO]->(cve3)\n",
        "RETURN p\n",
        "\n",
        "\"\"\"\n",
        "result = conn.query(explore_reviews_csv_query)\n",
        "print(result)"
      ]
    },
    {
      "cell_type": "code",
      "execution_count": 1045,
      "metadata": {
        "id": "Uaqmc-4zMBgq",
        "colab": {
          "base_uri": "https://localhost:8080/"
        },
        "outputId": "f4c91158-3b96-4148-ec95-c5df994e0589"
      },
      "outputs": [
        {
          "output_type": "stream",
          "name": "stdout",
          "text": [
            "[<Record p=<Path start=<Node element_id='4:de342d72-e7ff-4d5b-9a28-99eaa381965b:0' labels=frozenset({'CVE'}) properties={'assigner': 'cna@sap.com', 'id': 'CVE-2023-0012'}> end=<Node element_id='4:de342d72-e7ff-4d5b-9a28-99eaa381965b:322' labels=frozenset({'Entities'}) properties={'wikipediaExternalRef': 40684, 'wikidataId': 'Q228502', 'confidence_score': 0.4556, 'offsetStart': 947, 'offsetEnd': 961, 'rawName': 'access control'}> size=4>>, <Record p=<Path start=<Node element_id='4:de342d72-e7ff-4d5b-9a28-99eaa381965b:0' labels=frozenset({'CVE'}) properties={'assigner': 'cna@sap.com', 'id': 'CVE-2023-0012'}> end=<Node element_id='4:de342d72-e7ff-4d5b-9a28-99eaa381965b:314' labels=frozenset({'Entities'}) properties={'wikipediaExternalRef': 40684, 'wikidataId': 'Q228502', 'confidence_score': 0.6394, 'offsetStart': 0, 'offsetEnd': 14, 'rawName': 'Access control'}> size=4>>, <Record p=<Path start=<Node element_id='4:de342d72-e7ff-4d5b-9a28-99eaa381965b:5' labels=frozenset({'CVE'}) properties={'assigner': 'cna@sap.com', 'id': 'CVE-2023-0017'}> end=<Node element_id='4:de342d72-e7ff-4d5b-9a28-99eaa381965b:322' labels=frozenset({'Entities'}) properties={'wikipediaExternalRef': 40684, 'wikidataId': 'Q228502', 'confidence_score': 0.4556, 'offsetStart': 947, 'offsetEnd': 961, 'rawName': 'access control'}> size=4>>, <Record p=<Path start=<Node element_id='4:de342d72-e7ff-4d5b-9a28-99eaa381965b:5' labels=frozenset({'CVE'}) properties={'assigner': 'cna@sap.com', 'id': 'CVE-2023-0017'}> end=<Node element_id='4:de342d72-e7ff-4d5b-9a28-99eaa381965b:314' labels=frozenset({'Entities'}) properties={'wikipediaExternalRef': 40684, 'wikidataId': 'Q228502', 'confidence_score': 0.6394, 'offsetStart': 0, 'offsetEnd': 14, 'rawName': 'Access control'}> size=4>>]\n"
          ]
        }
      ],
      "source": [
        "explore_reviews_csv_query = \"\"\"\n",
        "MATCH p=(cve:CVE)-[:PROBLEM_TYPE]->(problemType:ProblemType)-[:MAPPED_WITH]->(cwe:CWE)-[:MAPPED_WITH]->(cwedata:Extended_Descriptions)-[:HAS_ENTITY]->(Entities:Entities{wikidataId:\"Q228502\"})\n",
        "MERGE (cve1:CVE{id:\"CVE-2023-0012\"})\n",
        "MERGE (cve2:CVE{id:\"CVE-2023-0017\"})\n",
        "MERGE (cve1)-[:SIMILAR_TO]->(cve2)\n",
        "RETURN p\n",
        "\n",
        "\"\"\"\n",
        "result = conn.query(explore_reviews_csv_query)\n",
        "print(result)"
      ]
    },
    {
      "cell_type": "markdown",
      "source": [
        "Each CVE is assigned a CVSS score to indicate its severity"
      ],
      "metadata": {
        "id": "3pbHVPmSPmk4"
      }
    },
    {
      "cell_type": "code",
      "source": [
        "explore_reviews_csv_query = \"\"\"\n",
        "MATCH p=(cve:CVE)-[:HAS_IMPACT]->(impact:IMPACT)-[:HAS_CVSSV3]->(cvssv3:CVSSV3)\n",
        "MERGE(cvssv3)-[:ASSIGNED_TO]->(cve)\n",
        "RETURN p\n",
        "\n",
        "\"\"\"\n",
        "result = conn.query(explore_reviews_csv_query)\n",
        "print(result)"
      ],
      "metadata": {
        "colab": {
          "base_uri": "https://localhost:8080/"
        },
        "id": "1iDsGbU_PZl-",
        "outputId": "493ffd9f-d8c5-4d4e-8441-bff3b48ed44d"
      },
      "execution_count": 1046,
      "outputs": [
        {
          "output_type": "stream",
          "name": "stdout",
          "text": [
            "[<Record p=<Path start=<Node element_id='4:de342d72-e7ff-4d5b-9a28-99eaa381965b:0' labels=frozenset({'CVE'}) properties={'assigner': 'cna@sap.com', 'id': 'CVE-2023-0012'}> end=<Node element_id='4:de342d72-e7ff-4d5b-9a28-99eaa381965b:54' labels=frozenset({'CVSSV3'}) properties={'baseSeverity': 'MEDIUM', 'confidentialityImpact': 'HIGH', 'scope': 'UNCHANGED', 'attackComplexity': 'LOW', 'attackVector': 'LOCAL', 'availabilityImpact': 'HIGH', 'integrityImpact': 'HIGH', 'privilegesRequired': 'HIGH', 'baseScore': 6.7, 'vectorString': 'CVSS:3.1/AV:L/AC:L/PR:H/UI:N/S:U/C:H/I:H/A:H', 'userInteraction': 'NONE', 'version': '3.1'}> size=2>>, <Record p=<Path start=<Node element_id='4:de342d72-e7ff-4d5b-9a28-99eaa381965b:1' labels=frozenset({'CVE'}) properties={'assigner': 'cna@sap.com', 'id': 'CVE-2023-0013'}> end=<Node element_id='4:de342d72-e7ff-4d5b-9a28-99eaa381965b:56' labels=frozenset({'CVSSV3'}) properties={'baseSeverity': 'MEDIUM', 'confidentialityImpact': 'LOW', 'scope': 'CHANGED', 'attackComplexity': 'LOW', 'attackVector': 'NETWORK', 'availabilityImpact': 'NONE', 'integrityImpact': 'LOW', 'privilegesRequired': 'NONE', 'baseScore': 6.1, 'vectorString': 'CVSS:3.1/AV:N/AC:L/PR:N/UI:R/S:C/C:L/I:L/A:N', 'version': '3.1', 'userInteraction': 'REQUIRED'}> size=2>>, <Record p=<Path start=<Node element_id='4:de342d72-e7ff-4d5b-9a28-99eaa381965b:2' labels=frozenset({'CVE'}) properties={'assigner': 'cna@sap.com', 'id': 'CVE-2023-0014'}> end=<Node element_id='4:de342d72-e7ff-4d5b-9a28-99eaa381965b:58' labels=frozenset({'CVSSV3'}) properties={'baseSeverity': 'CRITICAL', 'confidentialityImpact': 'HIGH', 'scope': 'UNCHANGED', 'attackComplexity': 'LOW', 'attackVector': 'NETWORK', 'availabilityImpact': 'HIGH', 'integrityImpact': 'HIGH', 'privilegesRequired': 'NONE', 'baseScore': 9.8, 'vectorString': 'CVSS:3.1/AV:N/AC:L/PR:N/UI:N/S:U/C:H/I:H/A:H', 'version': '3.1', 'userInteraction': 'NONE'}> size=2>>, <Record p=<Path start=<Node element_id='4:de342d72-e7ff-4d5b-9a28-99eaa381965b:3' labels=frozenset({'CVE'}) properties={'assigner': 'cna@sap.com', 'id': 'CVE-2023-0015'}> end=<Node element_id='4:de342d72-e7ff-4d5b-9a28-99eaa381965b:60' labels=frozenset({'CVSSV3'}) properties={'baseSeverity': 'MEDIUM', 'confidentialityImpact': 'LOW', 'scope': 'CHANGED', 'attackComplexity': 'LOW', 'attackVector': 'NETWORK', 'availabilityImpact': 'NONE', 'integrityImpact': 'LOW', 'privilegesRequired': 'LOW', 'baseScore': 5.4, 'vectorString': 'CVSS:3.1/AV:N/AC:L/PR:L/UI:R/S:C/C:L/I:L/A:N', 'version': '3.1', 'userInteraction': 'REQUIRED'}> size=2>>, <Record p=<Path start=<Node element_id='4:de342d72-e7ff-4d5b-9a28-99eaa381965b:4' labels=frozenset({'CVE'}) properties={'assigner': 'cna@sap.com', 'id': 'CVE-2023-0016'}> end=<Node element_id='4:de342d72-e7ff-4d5b-9a28-99eaa381965b:62' labels=frozenset({'CVSSV3'}) properties={'baseSeverity': 'HIGH', 'confidentialityImpact': 'HIGH', 'scope': 'UNCHANGED', 'attackComplexity': 'LOW', 'attackVector': 'NETWORK', 'availabilityImpact': 'HIGH', 'integrityImpact': 'HIGH', 'privilegesRequired': 'LOW', 'baseScore': 8.8, 'vectorString': 'CVSS:3.1/AV:N/AC:L/PR:L/UI:N/S:U/C:H/I:H/A:H', 'userInteraction': 'NONE', 'version': '3.1'}> size=2>>, <Record p=<Path start=<Node element_id='4:de342d72-e7ff-4d5b-9a28-99eaa381965b:5' labels=frozenset({'CVE'}) properties={'assigner': 'cna@sap.com', 'id': 'CVE-2023-0017'}> end=<Node element_id='4:de342d72-e7ff-4d5b-9a28-99eaa381965b:64' labels=frozenset({'CVSSV3'}) properties={'baseSeverity': 'CRITICAL', 'confidentialityImpact': 'HIGH', 'scope': 'UNCHANGED', 'attackComplexity': 'LOW', 'attackVector': 'NETWORK', 'availabilityImpact': 'HIGH', 'integrityImpact': 'HIGH', 'privilegesRequired': 'NONE', 'baseScore': 9.8, 'vectorString': 'CVSS:3.1/AV:N/AC:L/PR:N/UI:N/S:U/C:H/I:H/A:H', 'version': '3.1', 'userInteraction': 'NONE'}> size=2>>, <Record p=<Path start=<Node element_id='4:de342d72-e7ff-4d5b-9a28-99eaa381965b:6' labels=frozenset({'CVE'}) properties={'assigner': 'cna@sap.com', 'id': 'CVE-2023-0018'}> end=<Node element_id='4:de342d72-e7ff-4d5b-9a28-99eaa381965b:66' labels=frozenset({'CVSSV3'}) properties={'baseSeverity': 'MEDIUM', 'confidentialityImpact': 'LOW', 'scope': 'CHANGED', 'attackComplexity': 'LOW', 'attackVector': 'NETWORK', 'availabilityImpact': 'NONE', 'integrityImpact': 'LOW', 'privilegesRequired': 'NONE', 'baseScore': 6.1, 'vectorString': 'CVSS:3.1/AV:N/AC:L/PR:N/UI:R/S:C/C:L/I:L/A:N', 'version': '3.1', 'userInteraction': 'REQUIRED'}> size=2>>, <Record p=<Path start=<Node element_id='4:de342d72-e7ff-4d5b-9a28-99eaa381965b:7' labels=frozenset({'CVE'}) properties={'assigner': 'cna@sap.com', 'id': 'CVE-2023-0022'}> end=<Node element_id='4:de342d72-e7ff-4d5b-9a28-99eaa381965b:68' labels=frozenset({'CVSSV3'}) properties={'baseSeverity': 'HIGH', 'confidentialityImpact': 'HIGH', 'scope': 'UNCHANGED', 'attackComplexity': 'LOW', 'attackVector': 'NETWORK', 'availabilityImpact': 'HIGH', 'integrityImpact': 'HIGH', 'privilegesRequired': 'LOW', 'baseScore': 8.8, 'vectorString': 'CVSS:3.1/AV:N/AC:L/PR:L/UI:N/S:U/C:H/I:H/A:H', 'userInteraction': 'NONE', 'version': '3.1'}> size=2>>, <Record p=<Path start=<Node element_id='4:de342d72-e7ff-4d5b-9a28-99eaa381965b:8' labels=frozenset({'CVE'}) properties={'assigner': 'cna@sap.com', 'id': 'CVE-2023-0023'}> end=<Node element_id='4:de342d72-e7ff-4d5b-9a28-99eaa381965b:70' labels=frozenset({'CVSSV3'}) properties={'baseSeverity': 'MEDIUM', 'confidentialityImpact': 'HIGH', 'scope': 'UNCHANGED', 'attackComplexity': 'LOW', 'attackVector': 'NETWORK', 'availabilityImpact': 'NONE', 'integrityImpact': 'NONE', 'privilegesRequired': 'LOW', 'baseScore': 5.7, 'vectorString': 'CVSS:3.1/AV:N/AC:L/PR:L/UI:R/S:U/C:H/I:N/A:N', 'version': '3.1', 'userInteraction': 'REQUIRED'}> size=2>>, <Record p=<Path start=<Node element_id='4:de342d72-e7ff-4d5b-9a28-99eaa381965b:9' labels=frozenset({'CVE'}) properties={'assigner': 'security@huntr.dev', 'id': 'CVE-2023-0028'}> end=<Node element_id='4:de342d72-e7ff-4d5b-9a28-99eaa381965b:72' labels=frozenset({'CVSSV3'}) properties={'baseSeverity': 'MEDIUM', 'confidentialityImpact': 'LOW', 'scope': 'CHANGED', 'attackComplexity': 'LOW', 'attackVector': 'NETWORK', 'availabilityImpact': 'NONE', 'integrityImpact': 'LOW', 'privilegesRequired': 'NONE', 'baseScore': 6.1, 'vectorString': 'CVSS:3.1/AV:N/AC:L/PR:N/UI:R/S:C/C:L/I:L/A:N', 'version': '3.1', 'userInteraction': 'REQUIRED'}> size=2>>, <Record p=<Path start=<Node element_id='4:de342d72-e7ff-4d5b-9a28-99eaa381965b:10' labels=frozenset({'CVE'}) properties={'assigner': 'cna@vuldb.com', 'id': 'CVE-2023-0029'}> end=<Node element_id='4:de342d72-e7ff-4d5b-9a28-99eaa381965b:74' labels=frozenset({'CVSSV3'}) properties={'baseSeverity': 'HIGH', 'confidentialityImpact': 'NONE', 'scope': 'UNCHANGED', 'attackComplexity': 'LOW', 'attackVector': 'NETWORK', 'availabilityImpact': 'HIGH', 'integrityImpact': 'NONE', 'privilegesRequired': 'NONE', 'baseScore': 7.5, 'vectorString': 'CVSS:3.1/AV:N/AC:L/PR:N/UI:N/S:U/C:N/I:N/A:H', 'userInteraction': 'NONE', 'version': '3.1'}> size=2>>]\n"
          ]
        }
      ]
    }
  ],
  "metadata": {
    "colab": {
      "provenance": []
    },
    "kernelspec": {
      "display_name": "Python 3",
      "name": "python3"
    },
    "language_info": {
      "name": "python"
    }
  },
  "nbformat": 4,
  "nbformat_minor": 0
}