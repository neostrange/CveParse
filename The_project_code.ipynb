{
  "cells": [
    {
      "cell_type": "code",
      "execution_count": 349,
      "metadata": {
        "colab": {
          "base_uri": "https://localhost:8080/"
        },
        "id": "DfyJddh_FzaA",
        "outputId": "e4e5db38-aa65-4751-ad37-f016ef7b1e3a"
      },
      "outputs": [
        {
          "output_type": "stream",
          "name": "stdout",
          "text": [
            "Looking in indexes: https://pypi.org/simple, https://us-python.pkg.dev/colab-wheels/public/simple/\n",
            "Requirement already satisfied: neo4j in /usr/local/lib/python3.10/dist-packages (5.8.1)\n",
            "Requirement already satisfied: pytz in /usr/local/lib/python3.10/dist-packages (from neo4j) (2022.7.1)\n"
          ]
        }
      ],
      "source": [
        "!pip install neo4j    "
      ]
    },
    {
      "cell_type": "code",
      "execution_count": 350,
      "metadata": {
        "id": "Ymat9Q2JHDXa"
      },
      "outputs": [],
      "source": [
        "from neo4j import GraphDatabase "
      ]
    },
    {
      "cell_type": "code",
      "execution_count": 351,
      "metadata": {
        "id": "oBAO4ErVCsZb"
      },
      "outputs": [],
      "source": [
        "uri = \"neo4j+s://70bc3204.databases.neo4j.io\"\n",
        "pwd = \"7de6kd6oEFEU8wwTlLbOI3F9cP6NSg2Ibxsy4zOcwZE\"\n",
        "driver = GraphDatabase.driver(uri, auth=(\"neo4j\", pwd))    "
      ]
    },
    {
      "cell_type": "code",
      "execution_count": 352,
      "metadata": {
        "id": "ZqinzjrOHKQI"
      },
      "outputs": [],
      "source": [
        "class Neo4jConnection:\n",
        "    \n",
        "    def __init__(self, uri, user, pwd):\n",
        "        \n",
        "        self.__uri = uri\n",
        "        self.__user = user\n",
        "        self.__pwd = pwd\n",
        "        self.__driver = None\n",
        "        \n",
        "        try:\n",
        "            self.__driver = GraphDatabase.driver(self.__uri, auth=(self.__user, self.__pwd))\n",
        "        except Exception as e:\n",
        "            print(\"Failed to create the driver:\", e)\n",
        "        \n",
        "    def close(self):\n",
        "        \n",
        "        if self.__driver is not None:\n",
        "            self.__driver.close()\n",
        "        \n",
        "    def query(self, query, parameters=None, db=None):\n",
        "        \n",
        "        assert self.__driver is not None, \"Driver not initialized!\"\n",
        "        session = None\n",
        "        response = None\n",
        "        \n",
        "        try: \n",
        "            session = self.__driver.session(database=db) if db is not None else self.__driver.session() \n",
        "            response = list(session.run(query, parameters))\n",
        "        except Exception as e:\n",
        "            print(\"Query failed:\", e)\n",
        "        finally: \n",
        "            if session is not None:\n",
        "                session.close()\n",
        "        return response"
      ]
    },
    {
      "cell_type": "code",
      "execution_count": 353,
      "metadata": {
        "id": "-caKdnERHQPG"
      },
      "outputs": [],
      "source": [
        "uri = \"neo4j+s://70bc3204.databases.neo4j.io\"\n",
        "pwd = \"7de6kd6oEFEU8wwTlLbOI3F9cP6NSg2Ibxsy4zOcwZE\"\n",
        "user = 'neo4j'\n",
        "conn = Neo4jConnection(uri, user, pwd)"
      ]
    },
    {
      "cell_type": "markdown",
      "metadata": {
        "id": "U1oIyYMuv4Tf"
      },
      "source": [
        "## **CONSTRAINTS**"
      ]
    },
    {
      "cell_type": "code",
      "execution_count": 354,
      "metadata": {
        "id": "NgWPBVqr0ekm",
        "colab": {
          "base_uri": "https://localhost:8080/"
        },
        "outputId": "569325b0-2ba6-4bc9-819c-fd4cbebdfe1f"
      },
      "outputs": [
        {
          "output_type": "stream",
          "name": "stdout",
          "text": [
            "[]\n"
          ]
        }
      ],
      "source": [
        "explore_reviews_csv_query = \"\"\"\n",
        "CREATE CONSTRAINT CVE IF NOT EXISTS FOR (cve:CVE) REQUIRE cve.id IS UNIQUE\n",
        "\"\"\"\n",
        "result = conn.query(explore_reviews_csv_query)\n",
        "print(result)"
      ]
    },
    {
      "cell_type": "code",
      "execution_count": 355,
      "metadata": {
        "id": "u8uSRMnp1slw",
        "colab": {
          "base_uri": "https://localhost:8080/"
        },
        "outputId": "22b6f3e2-95b5-42bb-e10c-69915437427a"
      },
      "outputs": [
        {
          "output_type": "stream",
          "name": "stdout",
          "text": [
            "[]\n"
          ]
        }
      ],
      "source": [
        "explore_reviews_csv_query = \"\"\"\n",
        "CREATE CONSTRAINT references IF NOT EXISTS FOR (ref:Reference) REQUIRE ref.url IS UNIQUE\n",
        "\"\"\"\n",
        "result = conn.query(explore_reviews_csv_query)\n",
        "print(result)"
      ]
    },
    {
      "cell_type": "code",
      "execution_count": 356,
      "metadata": {
        "id": "co9S8kWs2r0L",
        "colab": {
          "base_uri": "https://localhost:8080/"
        },
        "outputId": "383281d5-a999-4fd0-b0b7-b52fd47ebf4e"
      },
      "outputs": [
        {
          "output_type": "stream",
          "name": "stdout",
          "text": [
            "[]\n"
          ]
        }
      ],
      "source": [
        "explore_reviews_csv_query = \"\"\"\n",
        "CREATE CONSTRAINT descriptions IF NOT EXISTS FOR (desc:Description) REQUIRE desc.id IS UNIQUE\n",
        "\"\"\"\n",
        "result = conn.query(explore_reviews_csv_query)\n",
        "print(result)"
      ]
    },
    {
      "cell_type": "code",
      "execution_count": 357,
      "metadata": {
        "id": "02HjfwuQ2s94",
        "colab": {
          "base_uri": "https://localhost:8080/"
        },
        "outputId": "799eb38b-c29f-47ad-8ef3-b08691ceccb3"
      },
      "outputs": [
        {
          "output_type": "stream",
          "name": "stdout",
          "text": [
            "[]\n"
          ]
        }
      ],
      "source": [
        "explore_reviews_csv_query = \"\"\"\n",
        "CREATE CONSTRAINT tags IF NOT EXISTS FOR (t:Tag) REQUIRE t.tag IS UNIQUE\n",
        "\"\"\"\n",
        "result = conn.query(explore_reviews_csv_query)\n",
        "print(result)"
      ]
    },
    {
      "cell_type": "code",
      "execution_count": 358,
      "metadata": {
        "id": "v4yQyZmi2vZn",
        "colab": {
          "base_uri": "https://localhost:8080/"
        },
        "outputId": "81586fb0-096d-4b06-d094-18da18147948"
      },
      "outputs": [
        {
          "output_type": "stream",
          "name": "stdout",
          "text": [
            "[]\n"
          ]
        }
      ],
      "source": [
        "explore_reviews_csv_query = \"\"\"\n",
        "CREATE CONSTRAINT CONFIG IF NOT EXISTS FOR (config:CONFIG) REQUIRE config.id IS UNIQUE\n",
        "\"\"\"\n",
        "result = conn.query(explore_reviews_csv_query)\n",
        "print(result)"
      ]
    },
    {
      "cell_type": "code",
      "execution_count": 359,
      "metadata": {
        "id": "xZPKcwce2wgM",
        "colab": {
          "base_uri": "https://localhost:8080/"
        },
        "outputId": "5add02d5-4f56-4f15-e618-1ee47bdcb790"
      },
      "outputs": [
        {
          "output_type": "stream",
          "name": "stdout",
          "text": [
            "[]\n"
          ]
        }
      ],
      "source": [
        "explore_reviews_csv_query = \"\"\"\n",
        "CREATE CONSTRAINT CPE IF NOT EXISTS FOR (cpe:CPE) REQUIRE cpe.cpe23Uri IS UNIQUE\n",
        "\"\"\"\n",
        "result = conn.query(explore_reviews_csv_query)\n",
        "print(result)"
      ]
    },
    {
      "cell_type": "code",
      "execution_count": 360,
      "metadata": {
        "id": "GFhXM1juEt47",
        "colab": {
          "base_uri": "https://localhost:8080/"
        },
        "outputId": "694216bc-5cb4-4752-9af8-e071bc9cac23"
      },
      "outputs": [
        {
          "output_type": "stream",
          "name": "stdout",
          "text": [
            "[]\n"
          ]
        }
      ],
      "source": [
        "explore_reviews_csv_query = \"\"\"\n",
        "CREATE CONSTRAINT CWE IF NOT EXISTS FOR (cwe:CWE) REQUIRE cwe.CWE IS UNIQUE\n",
        "\"\"\"\n",
        "result = conn.query(explore_reviews_csv_query)\n",
        "print(result)"
      ]
    },
    {
      "cell_type": "code",
      "execution_count": 361,
      "metadata": {
        "colab": {
          "base_uri": "https://localhost:8080/"
        },
        "id": "RdGOPkmpD5N2",
        "outputId": "fb2acc70-29a9-4bb1-9e8f-01d125c5bf27"
      },
      "outputs": [
        {
          "output_type": "stream",
          "name": "stdout",
          "text": [
            "[]\n"
          ]
        }
      ],
      "source": [
        "explore_reviews_csv_query = \"\"\"\n",
        "CREATE CONSTRAINT CPE IF NOT EXISTS FOR (cpe:CPE) REQUIRE cpe.CPE IS UNIQUE\n",
        "\"\"\"\n",
        "result = conn.query(explore_reviews_csv_query)\n",
        "print(result)"
      ]
    },
    {
      "cell_type": "markdown",
      "metadata": {
        "id": "ALZWnkxavpYn"
      },
      "source": [
        "# **CVE Data**"
      ]
    },
    {
      "cell_type": "markdown",
      "metadata": {
        "id": "dKD1qUv61I07"
      },
      "source": [
        "**Script_1.cypher**"
      ]
    },
    {
      "cell_type": "code",
      "execution_count": 362,
      "metadata": {
        "id": "3vr5fo2fq1gi",
        "colab": {
          "base_uri": "https://localhost:8080/"
        },
        "outputId": "ec55d2ed-8827-40cf-dbb8-f6d78146f2ab"
      },
      "outputs": [
        {
          "output_type": "stream",
          "name": "stdout",
          "text": [
            "[]\n"
          ]
        }
      ],
      "source": [
        "explore_reviews_csv_query = \"\"\"\n",
        "CALL apoc.load.json(\"https://raw.githubusercontent.com/neostrange/CveParse/main/nvd3.json\", null, {failOnError:false})\n",
        "YIELD value\n",
        "WITH value  AS data\n",
        "\n",
        "UNWIND data.CVE_Items as item\n",
        "MERGE (cve:CVE {id: item.cve.CVE_data_meta.ID})\n",
        "ON CREATE SET cve.assigner = item.cve.CVE_data_meta.ASSIGNER\n",
        "\n",
        "WITH cve, item\n",
        "UNWIND item.cve.problemtype.problemtype_data AS problem\n",
        "UNWIND problem.description AS problem_desc\n",
        "MERGE (cve)-[:PROBLEM_TYPE]->(problemType:ProblemType {lang: problem_desc.lang, value: problem_desc.value})\n",
        "//MERGE (cve)-[:PROBLEM_TYPE]->(problemType)\n",
        "\n",
        "\n",
        "WITH item, cve\n",
        "UNWIND item.cve.references.reference_data AS ref\n",
        "MERGE (reference:Reference {url: ref.url})\n",
        "ON CREATE SET reference.name = ref.name, reference.refsource = ref.refsource\n",
        "\n",
        "WITH item, cve, reference, ref\n",
        "UNWIND ref.tags AS tag\n",
        "MERGE (tagNode:Tag {name: tag, id: tag})\n",
        "MERGE (reference)-[:TAGGED_WITH]->(tagNode)\n",
        "\n",
        "WITH item, cve, reference\n",
        "UNWIND item.cve.description.description_data AS desc\n",
        "MERGE (description:Description {lang: desc.lang, value:desc.value, cveId:cve.id})\n",
        "//ON CREATE SET description.value = desc.value\n",
        "\n",
        "//WITH item, cve, reference, description\n",
        "MERGE (cve)-[:HAS_REFERENCE]->(reference)\n",
        "MERGE (cve)-[:HAS_DESCRIPTION]->(description)\n",
        "\n",
        "\n",
        "\n",
        "WITH item, cve,item.impact.baseMetricV3 as baseMetricV3, item.impact.baseMetricV3.cvssV3 as cvssV3\n",
        "MERGE (cve)-[:HAS_IMPACT]->(impact:IMPACT {exploitabilityScore: baseMetricV3.exploitabilityScore, \n",
        "                                           impactScore: baseMetricV3.impactScore, cveId: cve.id\n",
        "})-[:HAS_CVSSV3]->(cvssv3:CVSSV3 {version: cvssV3.version,\n",
        "                                              vectorString:cvssV3.vectorString,\n",
        "                                              attackVector:cvssV3.attackVector,\n",
        "                                              attackComplexity:cvssV3.attackComplexity,\n",
        "                                              privilegesRequired:cvssV3.privilegesRequired,\n",
        "                                              userInteraction:cvssV3.userInteraction,\n",
        "                                              scope:cvssV3.scope,\n",
        "                                              confidentialityImpact:cvssV3.confidentialityImpact,\n",
        "                                              integrityImpact:cvssV3.integrityImpact,\n",
        "                                              availabilityImpact:cvssV3.availabilityImpact,\n",
        "                                              baseScore:cvssV3.baseScore,\n",
        "                                              baseSeverity:cvssV3.baseSeverity \n",
        "})\n",
        "\"\"\"\n",
        "result = conn.query(explore_reviews_csv_query)\n",
        "print(result)"
      ]
    },
    {
      "cell_type": "markdown",
      "metadata": {
        "id": "2IuoqWLt1YZX"
      },
      "source": [
        "**Script_2.cypher**"
      ]
    },
    {
      "cell_type": "code",
      "execution_count": 363,
      "metadata": {
        "id": "Jzi-BrPlq5GQ",
        "colab": {
          "base_uri": "https://localhost:8080/"
        },
        "outputId": "19eb452a-ca56-4bf1-da15-64f8baf089ae"
      },
      "outputs": [
        {
          "output_type": "stream",
          "name": "stdout",
          "text": [
            "[]\n"
          ]
        }
      ],
      "source": [
        "explore_reviews_csv_query = \"\"\"\n",
        "CALL apoc.load.json(\"https://raw.githubusercontent.com/neostrange/CveParse/main/nvd3.json\", null, {failOnError:false})\n",
        "YIELD value\n",
        "WITH value  AS data\n",
        "\n",
        "UNWIND data.CVE_Items as item\n",
        "MERGE (cve:CVE {id: item.cve.CVE_data_meta.ID})\n",
        "ON CREATE SET cve.assigner = item.cve.CVE_data_meta.ASSIGNER\n",
        "\n",
        "WITH item.configurations AS configurations, cve\n",
        "MERGE (config:Config {version: configurations.CVE_data_version, cveId: cve.id})\n",
        "MERGE (cve)-[:HAS_CONFIG]->(config)\n",
        "\n",
        "WITH configurations, config, cve\n",
        "UNWIND configurations.nodes as node\n",
        "  // Each node has operator, cpe_match and  children\n",
        "  //create operator for the node\n",
        "  CREATE (op:Operator {operator: node.operator})\n",
        "  CREATE (config)-[:HAS_OPERATOR]->(op)\n",
        "  //create cpe_match for the node\n",
        "  FOREACH (cpe_match in node.cpe_match |\n",
        "    CREATE (cpeMatch:CpeMatch {vulnerable: cpe_match.vulnerable, uri: cpe_match.cpe23Uri})\n",
        "    CREATE (cpeMatch)-[:HAS_OPERATOR]->(op))\n",
        "\n",
        "    //children in each node -  each children then has operator, cpe_match and children\n",
        "    FOREACH (child IN node.children | \n",
        "      CREATE (op1:Operator {operator: child.operator})\n",
        "      CREATE (op)-[:HAS_OPERATOR]->(op1)\n",
        "      FOREACH (cpe in child.cpe_match |\n",
        "        CREATE (cpeMatch:CpeMatch {vulnerable: cpe.vulnerable, uri: cpe.cpe23Uri})\n",
        "        MERGE (op1)-[:CPE_MATCH]->(cpeMatch))\n",
        ")\n",
        "\"\"\"\n",
        "result = conn.query(explore_reviews_csv_query)\n",
        "print(result)"
      ]
    },
    {
      "cell_type": "markdown",
      "metadata": {
        "id": "v0RLUDVmwCO9"
      },
      "source": [
        "# **CWE Data**"
      ]
    },
    {
      "cell_type": "markdown",
      "metadata": {
        "id": "2jAfmwvqKrZg"
      },
      "source": [
        "**Script_CWE.cypher**"
      ]
    },
    {
      "cell_type": "code",
      "execution_count": 364,
      "metadata": {
        "id": "KJ7DH4orakUu",
        "colab": {
          "base_uri": "https://localhost:8080/"
        },
        "outputId": "87b57193-98ad-4a33-dd65-85b9c8df742f"
      },
      "outputs": [
        {
          "output_type": "stream",
          "name": "stdout",
          "text": [
            "[]\n"
          ]
        }
      ],
      "source": [
        "explore_reviews_csv_query = \"\"\"\n",
        "CALL apoc.load.json(\"https://raw.githubusercontent.com/neostrange/CveParse/main/CWE.json\", null, {failOnError:false})\n",
        "YIELD value\n",
        "WITH value  AS data\n",
        "//return data.CWE_Items[0].CWE.cwe_id\n",
        "UNWIND data.CWE_Items as item\n",
        "MERGE (cwe:CWE {cwe_id: item.CWE.cwe_id})\n",
        "SET \n",
        "    cwe.name = item.CWE.name,\n",
        "    cwe.weakness_abstraction = item.CWE.weakness_abstraction, \n",
        "    cwe.status = item.CWE.status, \n",
        "    cwe.description = item.CWE.description,  \n",
        "    cwe.extended_description = item.CWE.extended_description\n",
        "\n",
        "\"\"\"\n",
        "result = conn.query(explore_reviews_csv_query)\n",
        "print(result)"
      ]
    },
    {
      "cell_type": "markdown",
      "metadata": {
        "id": "NNjO7vHkvV5k"
      },
      "source": [
        "Mapping between CVE and CWE"
      ]
    },
    {
      "cell_type": "code",
      "execution_count": 365,
      "metadata": {
        "id": "2jSJtZjpd9_F",
        "colab": {
          "base_uri": "https://localhost:8080/"
        },
        "outputId": "f121ee6d-cefe-4ed2-b5bc-9aad84685de6"
      },
      "outputs": [
        {
          "output_type": "stream",
          "name": "stdout",
          "text": [
            "[]\n"
          ]
        }
      ],
      "source": [
        "explore_reviews_csv_query = \"\"\"\n",
        "MERGE (problemType:ProblemType {value:\"CWE-79\"})\n",
        "MERGE (cwe:CWE {cwe_id:\"79\"})\n",
        "MERGE (problemType)-[:MAPPED_WITH]->(cwe)\n",
        "\n",
        "\"\"\"\n",
        "result = conn.query(explore_reviews_csv_query)\n",
        "print(result)"
      ]
    },
    {
      "cell_type": "code",
      "execution_count": 366,
      "metadata": {
        "id": "vt24-oAzRPMP",
        "colab": {
          "base_uri": "https://localhost:8080/"
        },
        "outputId": "e9d687d5-3707-46ab-cb8c-4b5b980abadb"
      },
      "outputs": [
        {
          "output_type": "stream",
          "name": "stdout",
          "text": [
            "[]\n"
          ]
        }
      ],
      "source": [
        "explore_reviews_csv_query = \"\"\"\n",
        "MERGE (problemType:ProblemType {value:\"CWE-89\"})\n",
        "MERGE (cwe:CWE {cwe_id:\"89\"})\n",
        "MERGE (problemType)-[:MAPPED_WITH]->(cwe)\n",
        "\n",
        "\"\"\"\n",
        "result = conn.query(explore_reviews_csv_query)\n",
        "print(result)"
      ]
    },
    {
      "cell_type": "code",
      "execution_count": 367,
      "metadata": {
        "id": "HGhiQXo0RSN-",
        "colab": {
          "base_uri": "https://localhost:8080/"
        },
        "outputId": "fd3c607f-a7fb-479b-a5e1-101f06703191"
      },
      "outputs": [
        {
          "output_type": "stream",
          "name": "stdout",
          "text": [
            "[]\n"
          ]
        }
      ],
      "source": [
        "explore_reviews_csv_query = \"\"\"\n",
        "MERGE (problemType:ProblemType {value:\"CWE-94\"})\n",
        "MERGE (cwe:CWE {cwe_id:\"94\"})\n",
        "MERGE (problemType)-[:MAPPED_WITH]->(cwe)\n",
        "\n",
        "\"\"\"\n",
        "result = conn.query(explore_reviews_csv_query)\n",
        "print(result)"
      ]
    },
    {
      "cell_type": "code",
      "execution_count": 368,
      "metadata": {
        "id": "f7vUdkFVRVKM",
        "colab": {
          "base_uri": "https://localhost:8080/"
        },
        "outputId": "b10efd88-5e86-4a09-87fe-c31aa77a8bc2"
      },
      "outputs": [
        {
          "output_type": "stream",
          "name": "stdout",
          "text": [
            "[]\n"
          ]
        }
      ],
      "source": [
        "explore_reviews_csv_query = \"\"\"\n",
        "MERGE (problemType:ProblemType {value:\"CWE-200\"})\n",
        "MERGE (cwe:CWE {cwe_id:\"200\"})\n",
        "MERGE (problemType)-[:MAPPED_WITH]->(cwe)\n",
        "\n",
        "\"\"\"\n",
        "result = conn.query(explore_reviews_csv_query)\n",
        "print(result)"
      ]
    },
    {
      "cell_type": "code",
      "execution_count": 369,
      "metadata": {
        "id": "NDxsFoS6RbIi",
        "colab": {
          "base_uri": "https://localhost:8080/"
        },
        "outputId": "54838af2-2913-4097-c10d-69329a71d983"
      },
      "outputs": [
        {
          "output_type": "stream",
          "name": "stdout",
          "text": [
            "[]\n"
          ]
        }
      ],
      "source": [
        "explore_reviews_csv_query = \"\"\"\n",
        "MERGE (problemType:ProblemType {value:\"CWE-284\"})\n",
        "MERGE (cwe:CWE {cwe_id:\"284\"})\n",
        "MERGE (problemType)-[:MAPPED_WITH]->(cwe)\n",
        "\n",
        "\"\"\"\n",
        "result = conn.query(explore_reviews_csv_query)\n",
        "print(result)"
      ]
    },
    {
      "cell_type": "code",
      "execution_count": 370,
      "metadata": {
        "id": "U7hSomJqRcGs",
        "colab": {
          "base_uri": "https://localhost:8080/"
        },
        "outputId": "bdedb793-ee1f-4ef2-c1b2-6d5aba03bcbf"
      },
      "outputs": [
        {
          "output_type": "stream",
          "name": "stdout",
          "text": [
            "[]\n"
          ]
        }
      ],
      "source": [
        "explore_reviews_csv_query = \"\"\"\n",
        "MERGE (problemType:ProblemType {value:\"CWE-294\"})\n",
        "MERGE (cwe:CWE {cwe_id:\"294\"})\n",
        "MERGE (problemType)-[:MAPPED_WITH]->(cwe)\n",
        "\n",
        "\"\"\"\n",
        "result = conn.query(explore_reviews_csv_query)\n",
        "print(result)"
      ]
    },
    {
      "cell_type": "code",
      "execution_count": 371,
      "metadata": {
        "id": "ebePW33VmBWf",
        "colab": {
          "base_uri": "https://localhost:8080/"
        },
        "outputId": "e99047ac-7512-43d5-ba15-e8aa71ab93a6"
      },
      "outputs": [
        {
          "output_type": "stream",
          "name": "stdout",
          "text": [
            "[]\n"
          ]
        }
      ],
      "source": [
        "explore_reviews_csv_query = \"\"\"\n",
        "MERGE (cwe1:CWE { cwe_id:\"79\"})\n",
        "MERGE (cwe2:CWE { cwe_id:\"89\"})\n",
        "MERGE (cwe1)-[:HAS_RELATED_WEAKNESS{ NATURE:\"ChildOf\",CWEـID:\"74\",VIEWـID:\"1003\",ORDINAL:\"Primary\"}]->(cwe2)\n",
        "\n",
        "\"\"\"\n",
        "result = conn.query(explore_reviews_csv_query)\n",
        "print(result)"
      ]
    },
    {
      "cell_type": "code",
      "execution_count": 372,
      "metadata": {
        "id": "HizU849aV3uR",
        "colab": {
          "base_uri": "https://localhost:8080/"
        },
        "outputId": "70209fc0-cfeb-484d-bb10-06f0cdbe6e03"
      },
      "outputs": [
        {
          "output_type": "stream",
          "name": "stdout",
          "text": [
            "[]\n"
          ]
        }
      ],
      "source": [
        "explore_reviews_csv_query = \"\"\"\n",
        "MERGE (cwe1:CWE { cwe_id:\"79\"})\n",
        "MERGE (cwe2:CWE { cwe_id:\"94\"})\n",
        "MERGE (cwe1)-[:HAS_RELATED_WEAKNESS{ NATURE:\"ChildOf\",CWEـID:\"74\",VIEWـID:\"1000\",ORDINAL:\"Primary\"}]->(cwe2)\n",
        "\n",
        "\"\"\"\n",
        "result = conn.query(explore_reviews_csv_query)\n",
        "print(result)"
      ]
    },
    {
      "cell_type": "code",
      "execution_count": 373,
      "metadata": {
        "id": "BV-1ql7RfODd",
        "colab": {
          "base_uri": "https://localhost:8080/"
        },
        "outputId": "1612c237-bb33-4bbb-9e48-4dbe3e27087b"
      },
      "outputs": [
        {
          "output_type": "stream",
          "name": "stdout",
          "text": [
            "[]\n"
          ]
        }
      ],
      "source": [
        "explore_reviews_csv_query = \"\"\"\n",
        "MERGE (cwe1:CWE { cwe_id:\"79\"})\n",
        "MERGE (cwe2:CWE { cwe_id:\"94\"})\n",
        "MERGE (cwe1)-[:HAS_RELATED_WEAKNESS{ NATURE:\"ChildOf\",CWEـID:\"74\",VIEWـID:\"1003\",ORDINAL:\"Primary\"}]->(cwe2)\n",
        "\n",
        "\"\"\"\n",
        "result = conn.query(explore_reviews_csv_query)\n",
        "print(result)"
      ]
    },
    {
      "cell_type": "code",
      "execution_count": 374,
      "metadata": {
        "id": "uL6jPi4oYKOo",
        "colab": {
          "base_uri": "https://localhost:8080/"
        },
        "outputId": "eed2fdd8-305d-4e62-f228-285b7392b9c1"
      },
      "outputs": [
        {
          "output_type": "stream",
          "name": "stdout",
          "text": [
            "[]\n"
          ]
        }
      ],
      "source": [
        "explore_reviews_csv_query = \"\"\"\n",
        "MERGE (cwe1:CWE { cwe_id:\"89\"})\n",
        "MERGE (cwe2:CWE { cwe_id:\"94\"})\n",
        "MERGE (cwe1)-[:HAS_RELATED_WEAKNESS{ NATURE:\"ChildOf\",CWEـID:\"74\",VIEWـID:\"1003\",ORDINAL:\"Primary\"}]->(cwe2)\n",
        "\n",
        "\"\"\"\n",
        "result = conn.query(explore_reviews_csv_query)\n",
        "print(result)"
      ]
    },
    {
      "cell_type": "markdown",
      "metadata": {
        "id": "U9L-NhVIvnEF"
      },
      "source": [
        "Extract the entities from unstructured data (extended_description) in CWE to structured data by using entity-fishing"
      ]
    },
    {
      "cell_type": "code",
      "execution_count": 375,
      "metadata": {
        "id": "XANCNvg7TPMr",
        "colab": {
          "base_uri": "https://localhost:8080/"
        },
        "outputId": "e5d0563c-34ea-4d81-9ab0-73efd82e5bbf"
      },
      "outputs": [
        {
          "output_type": "stream",
          "name": "stdout",
          "text": [
            "[]\n"
          ]
        }
      ],
      "source": [
        "explore_reviews_csv_query = \"\"\"\n",
        "CALL apoc.load.json(\"https://raw.githubusercontent.com/neostrange/CveParse/main/Extended_Descriptions.json\", null, {failOnError:false})\n",
        "YIELD value\n",
        "WITH value  AS data\n",
        "//return data.Extended_Descriptions[0].CWE.runtime\n",
        "UNWIND data.Extended_Descriptions as extended_descript\n",
        "MERGE (cwedata:Extended_Descriptions {runtime: extended_descript.CWE.runtime})\n",
        "SET \n",
        "    cwedata.software = extended_descript.CWE.software,\n",
        "    cwedata.version = extended_descript.CWE.version,\n",
        "    cwedata.date = extended_descript.CWE.date,\n",
        "    cwedata.nbest = extended_descript.CWE.nbest,\n",
        "    cwedata.text = extended_descript.CWE.text\n",
        "\n",
        "\"\"\"\n",
        "result = conn.query(explore_reviews_csv_query)\n",
        "print(result)"
      ]
    },
    {
      "cell_type": "code",
      "execution_count": 376,
      "metadata": {
        "id": "ncalbUWFXjI7",
        "colab": {
          "base_uri": "https://localhost:8080/"
        },
        "outputId": "c12bd4cd-2b9c-4193-e520-709f5dfc7e8a"
      },
      "outputs": [
        {
          "output_type": "stream",
          "name": "stdout",
          "text": [
            "[]\n"
          ]
        }
      ],
      "source": [
        "explore_reviews_csv_query = \"\"\"\n",
        "MERGE (cwe:CWE {cwe_id:\"79\"})\n",
        "MERGE (cwedata:Extended_Descriptions {runtime:2992})\n",
        "MERGE (cwe)-[:MAPPED_WITH]->(cwedata)\n",
        "MERGE (cwedata)-[:HAS_GLOBAL_CATEGORY{weight:0.04878159541353045,source:\"wikipedia-en\",category:\"Hacking (computer security)\",page_id:11647669}]->(cwe)\n",
        "MERGE (cwedata)-[:HAS_GLOBAL_CATEGORY{weight:0.026132997553802943,source:\"wikipedia-en\",category:\"Web security exploits\",page_id:5131853}]->(cwe)\n",
        "MERGE (cwedata)-[:HAS_GLOBAL_CATEGORY{weight:0.001742199837897568,source:\"wikipedia-en\",category:\"Unicode\",page_id:720904}]->(cwe)\n",
        "\n",
        "\"\"\"\n",
        "result = conn.query(explore_reviews_csv_query)\n",
        "print(result)"
      ]
    },
    {
      "cell_type": "code",
      "execution_count": 377,
      "metadata": {
        "id": "dRIV7ctqG46x",
        "colab": {
          "base_uri": "https://localhost:8080/"
        },
        "outputId": "9bd05fa4-063e-413a-8940-c1659084c89f"
      },
      "outputs": [
        {
          "output_type": "stream",
          "name": "stdout",
          "text": [
            "[]\n"
          ]
        }
      ],
      "source": [
        "explore_reviews_csv_query = \"\"\"\n",
        "CALL apoc.load.json(\"https://raw.githubusercontent.com/neostrange/CveParse/main/Extended_Descriptions.json\", null, {failOnError:false})\n",
        "YIELD value\n",
        "WITH value  AS data\n",
        "WITH data\n",
        "UNWIND data.Extended_Descriptions[0].CWE.entities as Entities\n",
        "MERGE (entities:Entities{rawName:Entities.`rawName`})\n",
        "  SET \n",
        "   entities.offsetStart = Entities.offsetStart,\n",
        "   entities.offsetEnd = Entities.offsetEnd,\n",
        "   entities.confidence_score = Entities.confidence_score,\n",
        "   entities.wikipediaExternalRef = Entities.wikipediaExternalRef,\n",
        "   entities.wikidataId = Entities.wikidataId\n",
        "\n",
        "\"\"\"\n",
        "result = conn.query(explore_reviews_csv_query)\n",
        "print(result)"
      ]
    },
    {
      "cell_type": "code",
      "execution_count": 378,
      "metadata": {
        "id": "mIOeUSUpOsjm",
        "colab": {
          "base_uri": "https://localhost:8080/"
        },
        "outputId": "5dd64b69-dc3b-4624-bc31-1a98ed113db6"
      },
      "outputs": [
        {
          "output_type": "stream",
          "name": "stdout",
          "text": [
            "[]\n"
          ]
        }
      ],
      "source": [
        "explore_reviews_csv_query = \"\"\"\n",
        "MERGE (cwedata:Extended_Descriptions {runtime:2992})\n",
        "MERGE (Entities:Entities {rawName:\"Cross-site scripting\"})\n",
        "MERGE (cwedata)-[:HAS_ENTITY]->(Entities)\n",
        "\n",
        "\"\"\"\n",
        "result = conn.query(explore_reviews_csv_query)\n",
        "print(result)"
      ]
    },
    {
      "cell_type": "code",
      "execution_count": 379,
      "metadata": {
        "id": "YcJpCPGkPAAf",
        "colab": {
          "base_uri": "https://localhost:8080/"
        },
        "outputId": "61d66540-42c4-4c77-848a-fa5297f8bfe1"
      },
      "outputs": [
        {
          "output_type": "stream",
          "name": "stdout",
          "text": [
            "[]\n"
          ]
        }
      ],
      "source": [
        "explore_reviews_csv_query = \"\"\"\n",
        "MERGE (cwedata:Extended_Descriptions {runtime:2992})\n",
        "MERGE (Entities:Entities {rawName:\"XSS\"})\n",
        "MERGE (cwedata)-[:HAS_ENTITY]->(Entities)\n",
        "\n",
        "\"\"\"\n",
        "result = conn.query(explore_reviews_csv_query)\n",
        "print(result)"
      ]
    },
    {
      "cell_type": "code",
      "execution_count": 380,
      "metadata": {
        "id": "jee04c_yPBHC",
        "colab": {
          "base_uri": "https://localhost:8080/"
        },
        "outputId": "fdf29dea-0229-4d3d-9b43-65a32ce11d30"
      },
      "outputs": [
        {
          "output_type": "stream",
          "name": "stdout",
          "text": [
            "[]\n"
          ]
        }
      ],
      "source": [
        "explore_reviews_csv_query = \"\"\"\n",
        "MERGE (cwedata:Extended_Descriptions {runtime:2992})\n",
        "MERGE (Entities:Entities {rawName:\"vulnerabilities\"})\n",
        "MERGE (cwedata)-[:HAS_ENTITY]->(Entities)\n",
        "\n",
        "\"\"\"\n",
        "result = conn.query(explore_reviews_csv_query)\n",
        "print(result)"
      ]
    },
    {
      "cell_type": "code",
      "execution_count": 381,
      "metadata": {
        "id": "UdVmWpjUPCBB",
        "colab": {
          "base_uri": "https://localhost:8080/"
        },
        "outputId": "d8f1f491-9da4-4416-a8ab-1cf6f613fd44"
      },
      "outputs": [
        {
          "output_type": "stream",
          "name": "stdout",
          "text": [
            "[]\n"
          ]
        }
      ],
      "source": [
        "explore_reviews_csv_query = \"\"\"\n",
        "MERGE (cwedata:Extended_Descriptions {runtime:2992})\n",
        "MERGE (Entities:Entities {rawName:\"Untrusted\"})\n",
        "MERGE (cwedata)-[:HAS_ENTITY]->(Entities)\n",
        "\n",
        "\"\"\"\n",
        "result = conn.query(explore_reviews_csv_query)\n",
        "print(result)"
      ]
    },
    {
      "cell_type": "code",
      "execution_count": 382,
      "metadata": {
        "id": "g7qNMclPPDJ_",
        "colab": {
          "base_uri": "https://localhost:8080/"
        },
        "outputId": "9a7868f8-edc4-4c0a-a556-0f9408002e6e"
      },
      "outputs": [
        {
          "output_type": "stream",
          "name": "stdout",
          "text": [
            "[]\n"
          ]
        }
      ],
      "source": [
        "explore_reviews_csv_query = \"\"\"\n",
        "MERGE (cwedata:Extended_Descriptions {runtime:2992})\n",
        "MERGE (Entities:Entities {rawName:\"enters\"})\n",
        "MERGE (cwedata)-[:HAS_ENTITY]->(Entities)\n",
        "\n",
        "\"\"\"\n",
        "result = conn.query(explore_reviews_csv_query)\n",
        "print(result)"
      ]
    },
    {
      "cell_type": "code",
      "execution_count": 383,
      "metadata": {
        "id": "0rxrRVfEPEHO",
        "colab": {
          "base_uri": "https://localhost:8080/"
        },
        "outputId": "cd674971-8be4-4fd8-f9cc-327db0b5d0d0"
      },
      "outputs": [
        {
          "output_type": "stream",
          "name": "stdout",
          "text": [
            "[]\n"
          ]
        }
      ],
      "source": [
        "explore_reviews_csv_query = \"\"\"\n",
        "MERGE (cwedata:Extended_Descriptions {runtime:2992})\n",
        "MERGE (Entities:Entities {rawName:\"web application\"})\n",
        "MERGE (cwedata)-[:HAS_ENTITY]->(Entities)\n",
        "\n",
        "\"\"\"\n",
        "result = conn.query(explore_reviews_csv_query)\n",
        "print(result)"
      ]
    },
    {
      "cell_type": "code",
      "execution_count": 384,
      "metadata": {
        "id": "ZNEyBv7xPFZ8",
        "colab": {
          "base_uri": "https://localhost:8080/"
        },
        "outputId": "4d1a047f-63b8-4c00-8946-14ec8a513518"
      },
      "outputs": [
        {
          "output_type": "stream",
          "name": "stdout",
          "text": [
            "[]\n"
          ]
        }
      ],
      "source": [
        "explore_reviews_csv_query = \"\"\"\n",
        "MERGE (cwedata:Extended_Descriptions {runtime:2992})\n",
        "MERGE (Entities:Entities {rawName:\"web request\"})\n",
        "MERGE (cwedata)-[:HAS_ENTITY]->(Entities)\n",
        "\n",
        "\"\"\"\n",
        "result = conn.query(explore_reviews_csv_query)\n",
        "print(result)"
      ]
    },
    {
      "cell_type": "code",
      "execution_count": 385,
      "metadata": {
        "id": "w6K9LwO6PGcy",
        "colab": {
          "base_uri": "https://localhost:8080/"
        },
        "outputId": "260dd0ed-532f-4c92-b486-b7a88cd8440b"
      },
      "outputs": [
        {
          "output_type": "stream",
          "name": "stdout",
          "text": [
            "[]\n"
          ]
        }
      ],
      "source": [
        "explore_reviews_csv_query = \"\"\"\n",
        "MERGE (cwedata:Extended_Descriptions {runtime:2992})\n",
        "MERGE (Entities:Entities {rawName:\"2\"})\n",
        "MERGE (cwedata)-[:HAS_ENTITY]->(Entities)\n",
        "\n",
        "\"\"\"\n",
        "result = conn.query(explore_reviews_csv_query)\n",
        "print(result)"
      ]
    },
    {
      "cell_type": "code",
      "execution_count": 386,
      "metadata": {
        "id": "Xspm_zyiPHga",
        "colab": {
          "base_uri": "https://localhost:8080/"
        },
        "outputId": "f70747d6-e23e-40aa-89af-15768eb1aeb6"
      },
      "outputs": [
        {
          "output_type": "stream",
          "name": "stdout",
          "text": [
            "[]\n"
          ]
        }
      ],
      "source": [
        "explore_reviews_csv_query = \"\"\"\n",
        "MERGE (cwedata:Extended_Descriptions {runtime:2992})\n",
        "MERGE (Entities:Entities {rawName:\"dynamically generates\"})\n",
        "MERGE (cwedata)-[:HAS_ENTITY]->(Entities)\n",
        "\n",
        "\"\"\"\n",
        "result = conn.query(explore_reviews_csv_query)\n",
        "print(result)"
      ]
    },
    {
      "cell_type": "code",
      "execution_count": 387,
      "metadata": {
        "id": "5hZ92vStPIqL",
        "colab": {
          "base_uri": "https://localhost:8080/"
        },
        "outputId": "82f7b582-dfa5-4d1d-a0c1-dda3eadda165"
      },
      "outputs": [
        {
          "output_type": "stream",
          "name": "stdout",
          "text": [
            "[]\n"
          ]
        }
      ],
      "source": [
        "explore_reviews_csv_query = \"\"\"\n",
        "MERGE (cwedata:Extended_Descriptions {runtime:2992})\n",
        "MERGE (Entities:Entities {rawName:\"web page\"})\n",
        "MERGE (cwedata)-[:HAS_ENTITY]->(Entities)\n",
        "\n",
        "\"\"\"\n",
        "result = conn.query(explore_reviews_csv_query)\n",
        "print(result)"
      ]
    },
    {
      "cell_type": "code",
      "execution_count": 388,
      "metadata": {
        "id": "oYdtVqnlPKJY",
        "colab": {
          "base_uri": "https://localhost:8080/"
        },
        "outputId": "350f7954-beb9-44cf-e9db-d2457f8e79bd"
      },
      "outputs": [
        {
          "output_type": "stream",
          "name": "stdout",
          "text": [
            "[]\n"
          ]
        }
      ],
      "source": [
        "explore_reviews_csv_query = \"\"\"\n",
        "MERGE (cwedata:Extended_Descriptions {runtime:2992})\n",
        "MERGE (Entities:Entities {rawName:\"web browser\"})\n",
        "MERGE (cwedata)-[:HAS_ENTITY]->(Entities)\n",
        "\n",
        "\"\"\"\n",
        "result = conn.query(explore_reviews_csv_query)\n",
        "print(result)"
      ]
    },
    {
      "cell_type": "code",
      "execution_count": 389,
      "metadata": {
        "id": "wcAf0GbIPJ_p",
        "colab": {
          "base_uri": "https://localhost:8080/"
        },
        "outputId": "e56da00f-1146-458d-8234-586ff03edea2"
      },
      "outputs": [
        {
          "output_type": "stream",
          "name": "stdout",
          "text": [
            "[]\n"
          ]
        }
      ],
      "source": [
        "explore_reviews_csv_query = \"\"\"\n",
        "MERGE (cwedata:Extended_Descriptions {runtime:2992})\n",
        "MERGE (Entities:Entities {rawName:\"JavaScript\"})\n",
        "MERGE (cwedata)-[:HAS_ENTITY]->(Entities)\n",
        "\n",
        "\"\"\"\n",
        "result = conn.query(explore_reviews_csv_query)\n",
        "print(result)"
      ]
    },
    {
      "cell_type": "code",
      "execution_count": 390,
      "metadata": {
        "id": "PTJgYrsRPJ84",
        "colab": {
          "base_uri": "https://localhost:8080/"
        },
        "outputId": "352125e0-c33a-4dbb-a3b4-6a29fcb62a69"
      },
      "outputs": [
        {
          "output_type": "stream",
          "name": "stdout",
          "text": [
            "[]\n"
          ]
        }
      ],
      "source": [
        "explore_reviews_csv_query = \"\"\"\n",
        "MERGE (cwedata:Extended_Descriptions {runtime:2992})\n",
        "MERGE (Entities:Entities {rawName:\"HTML\"})\n",
        "MERGE (cwedata)-[:HAS_ENTITY]->(Entities)\n",
        "\n",
        "\"\"\"\n",
        "result = conn.query(explore_reviews_csv_query)\n",
        "print(result)"
      ]
    },
    {
      "cell_type": "code",
      "execution_count": 391,
      "metadata": {
        "id": "yZiwXcidPJ6I",
        "colab": {
          "base_uri": "https://localhost:8080/"
        },
        "outputId": "17536fb1-0392-4d25-f37d-7985cabf36d2"
      },
      "outputs": [
        {
          "output_type": "stream",
          "name": "stdout",
          "text": [
            "[]\n"
          ]
        }
      ],
      "source": [
        "explore_reviews_csv_query = \"\"\"\n",
        "MERGE (cwedata:Extended_Descriptions {runtime:2992})\n",
        "MERGE (Entities:Entities {rawName:\"tags\"})\n",
        "MERGE (cwedata)-[:HAS_ENTITY]->(Entities)\n",
        "\n",
        "\"\"\"\n",
        "result = conn.query(explore_reviews_csv_query)\n",
        "print(result)"
      ]
    },
    {
      "cell_type": "code",
      "execution_count": 392,
      "metadata": {
        "id": "4AE4pyDuPJ3X",
        "colab": {
          "base_uri": "https://localhost:8080/"
        },
        "outputId": "3382df74-60d8-4a76-baf1-8d05922bf272"
      },
      "outputs": [
        {
          "output_type": "stream",
          "name": "stdout",
          "text": [
            "[]\n"
          ]
        }
      ],
      "source": [
        "explore_reviews_csv_query = \"\"\"\n",
        "MERGE (cwedata:Extended_Descriptions {runtime:2992})\n",
        "MERGE (Entities:Entities {rawName:\"HTML attributes\"})\n",
        "MERGE (cwedata)-[:HAS_ENTITY]->(Entities)\n",
        "\n",
        "\"\"\"\n",
        "result = conn.query(explore_reviews_csv_query)\n",
        "print(result)"
      ]
    },
    {
      "cell_type": "code",
      "execution_count": 393,
      "metadata": {
        "id": "hgDrxY0IPJ0i",
        "colab": {
          "base_uri": "https://localhost:8080/"
        },
        "outputId": "0a3dbedb-1fa5-4988-e87d-52125c8185f6"
      },
      "outputs": [
        {
          "output_type": "stream",
          "name": "stdout",
          "text": [
            "[]\n"
          ]
        }
      ],
      "source": [
        "explore_reviews_csv_query = \"\"\"\n",
        "MERGE (cwedata:Extended_Descriptions {runtime:2992})\n",
        "MERGE (Entities:Entities {rawName:\"Flash\"})\n",
        "MERGE (cwedata)-[:HAS_ENTITY]->(Entities)\n",
        "\n",
        "\"\"\"\n",
        "result = conn.query(explore_reviews_csv_query)\n",
        "print(result)"
      ]
    },
    {
      "cell_type": "code",
      "execution_count": 394,
      "metadata": {
        "id": "J_gfL7EgPJxe",
        "colab": {
          "base_uri": "https://localhost:8080/"
        },
        "outputId": "eae5cc88-c848-4330-d296-448a5024a7a0"
      },
      "outputs": [
        {
          "output_type": "stream",
          "name": "stdout",
          "text": [
            "[]\n"
          ]
        }
      ],
      "source": [
        "explore_reviews_csv_query = \"\"\"\n",
        "MERGE (cwedata:Extended_Descriptions {runtime:2992})\n",
        "MERGE (Entities:Entities {rawName:\"ActiveX\"})\n",
        "MERGE (cwedata)-[:HAS_ENTITY]->(Entities)\n",
        "\n",
        "\"\"\"\n",
        "result = conn.query(explore_reviews_csv_query)\n",
        "print(result)"
      ]
    },
    {
      "cell_type": "code",
      "execution_count": 395,
      "metadata": {
        "id": "x7GH6B4oPJuS",
        "colab": {
          "base_uri": "https://localhost:8080/"
        },
        "outputId": "68c577cc-dd9f-412a-cca6-65a57820b212"
      },
      "outputs": [
        {
          "output_type": "stream",
          "name": "stdout",
          "text": [
            "[]\n"
          ]
        }
      ],
      "source": [
        "explore_reviews_csv_query = \"\"\"\n",
        "MERGE (cwedata:Extended_Descriptions {runtime:2992})\n",
        "MERGE (Entities:Entities {rawName:\"malicious\"})\n",
        "MERGE (cwedata)-[:HAS_ENTITY]->(Entities)\n",
        "\n",
        "\"\"\"\n",
        "result = conn.query(explore_reviews_csv_query)\n",
        "print(result)"
      ]
    },
    {
      "cell_type": "code",
      "execution_count": 396,
      "metadata": {
        "id": "C8NP4HuKRdRA",
        "colab": {
          "base_uri": "https://localhost:8080/"
        },
        "outputId": "b236f49a-49ae-49ab-858a-2fa741b602bc"
      },
      "outputs": [
        {
          "output_type": "stream",
          "name": "stdout",
          "text": [
            "[]\n"
          ]
        }
      ],
      "source": [
        "explore_reviews_csv_query = \"\"\"\n",
        "MERGE (cwedata:Extended_Descriptions {runtime:2992})\n",
        "MERGE (Entities:Entities {rawName:\"injected\"})\n",
        "MERGE (cwedata)-[:HAS_ENTITY]->(Entities)\n",
        "\n",
        "\"\"\"\n",
        "result = conn.query(explore_reviews_csv_query)\n",
        "print(result)"
      ]
    },
    {
      "cell_type": "code",
      "execution_count": 397,
      "metadata": {
        "id": "9pvzAXNQRdC0",
        "colab": {
          "base_uri": "https://localhost:8080/"
        },
        "outputId": "2d99f5a7-a19b-46e3-c3a7-55cb8c083aa5"
      },
      "outputs": [
        {
          "output_type": "stream",
          "name": "stdout",
          "text": [
            "[]\n"
          ]
        }
      ],
      "source": [
        "explore_reviews_csv_query = \"\"\"\n",
        "MERGE (cwedata:Extended_Descriptions {runtime:2992})\n",
        "MERGE (Entities:Entities {rawName:\"web server\"})\n",
        "MERGE (cwedata)-[:HAS_ENTITY]->(Entities)\n",
        "\n",
        "\"\"\"\n",
        "result = conn.query(explore_reviews_csv_query)\n",
        "print(result)"
      ]
    },
    {
      "cell_type": "code",
      "execution_count": 398,
      "metadata": {
        "id": "GImUK4nxRcuN",
        "colab": {
          "base_uri": "https://localhost:8080/"
        },
        "outputId": "d8f6b813-5abf-414f-fbad-9159af5a9f9e"
      },
      "outputs": [
        {
          "output_type": "stream",
          "name": "stdout",
          "text": [
            "[]\n"
          ]
        }
      ],
      "source": [
        "explore_reviews_csv_query = \"\"\"\n",
        "MERGE (cwedata:Extended_Descriptions {runtime:2992})\n",
        "MERGE (Entities:Entities {rawName:\"executes\"})\n",
        "MERGE (cwedata)-[:HAS_ENTITY]->(Entities)\n",
        "\n",
        "\"\"\"\n",
        "result = conn.query(explore_reviews_csv_query)\n",
        "print(result)"
      ]
    },
    {
      "cell_type": "code",
      "execution_count": 399,
      "metadata": {
        "id": "pIEaCHgBRcp5",
        "colab": {
          "base_uri": "https://localhost:8080/"
        },
        "outputId": "5b78e583-0322-4c78-b2f7-1457341a18f4"
      },
      "outputs": [
        {
          "output_type": "stream",
          "name": "stdout",
          "text": [
            "[]\n"
          ]
        }
      ],
      "source": [
        "explore_reviews_csv_query = \"\"\"\n",
        "MERGE (cwedata:Extended_Descriptions {runtime:2992})\n",
        "MERGE (Entities:Entities {rawName:\"violates\"})\n",
        "MERGE (cwedata)-[:HAS_ENTITY]->(Entities)\n",
        "\n",
        "\"\"\"\n",
        "result = conn.query(explore_reviews_csv_query)\n",
        "print(result)"
      ]
    },
    {
      "cell_type": "code",
      "execution_count": 400,
      "metadata": {
        "id": "MOnDlutcRclm",
        "colab": {
          "base_uri": "https://localhost:8080/"
        },
        "outputId": "321fac0c-9058-4486-bb74-471e2a337ded"
      },
      "outputs": [
        {
          "output_type": "stream",
          "name": "stdout",
          "text": [
            "[]\n"
          ]
        }
      ],
      "source": [
        "explore_reviews_csv_query = \"\"\"\n",
        "MERGE (cwedata:Extended_Descriptions {runtime:2992})\n",
        "MERGE (Entities:Entities {rawName:\"web browser's\"})\n",
        "MERGE (cwedata)-[:HAS_ENTITY]->(Entities)\n",
        "\n",
        "\"\"\"\n",
        "result = conn.query(explore_reviews_csv_query)\n",
        "print(result)"
      ]
    },
    {
      "cell_type": "code",
      "execution_count": 401,
      "metadata": {
        "id": "h51goGJERchY",
        "colab": {
          "base_uri": "https://localhost:8080/"
        },
        "outputId": "1b73ba59-05eb-41c8-afba-a393eae6c548"
      },
      "outputs": [
        {
          "output_type": "stream",
          "name": "stdout",
          "text": [
            "[]\n"
          ]
        }
      ],
      "source": [
        "explore_reviews_csv_query = \"\"\"\n",
        "MERGE (cwedata:Extended_Descriptions {runtime:2992})\n",
        "MERGE (Entities:Entities {rawName:\"same-origin policy\"})\n",
        "MERGE (cwedata)-[:HAS_ENTITY]->(Entities)\n",
        "\n",
        "\"\"\"\n",
        "result = conn.query(explore_reviews_csv_query)\n",
        "print(result)"
      ]
    },
    {
      "cell_type": "code",
      "execution_count": 402,
      "metadata": {
        "id": "gLmOafNIRcVD",
        "colab": {
          "base_uri": "https://localhost:8080/"
        },
        "outputId": "c258f29d-515a-401c-8084-b92ef138d8a5"
      },
      "outputs": [
        {
          "output_type": "stream",
          "name": "stdout",
          "text": [
            "[]\n"
          ]
        }
      ],
      "source": [
        "explore_reviews_csv_query = \"\"\"\n",
        "MERGE (cwedata:Extended_Descriptions {runtime:2992})\n",
        "MERGE (Entities:Entities {rawName:\"scripts\"})\n",
        "MERGE (cwedata)-[:HAS_ENTITY]->(Entities)\n",
        "\n",
        "\"\"\"\n",
        "result = conn.query(explore_reviews_csv_query)\n",
        "print(result)"
      ]
    },
    {
      "cell_type": "code",
      "execution_count": 403,
      "metadata": {
        "id": "Ufh4XynaRl66",
        "colab": {
          "base_uri": "https://localhost:8080/"
        },
        "outputId": "a18c2765-961b-41ac-8749-f8628e9ef2f8"
      },
      "outputs": [
        {
          "output_type": "stream",
          "name": "stdout",
          "text": [
            "[]\n"
          ]
        }
      ],
      "source": [
        "explore_reviews_csv_query = \"\"\"\n",
        "MERGE (cwedata:Extended_Descriptions {runtime:2992})\n",
        "MERGE (Entities:Entities {rawName:\"Type 1\"})\n",
        "MERGE (cwedata)-[:HAS_ENTITY]->(Entities)\n",
        "\n",
        "\"\"\"\n",
        "result = conn.query(explore_reviews_csv_query)\n",
        "print(result)"
      ]
    },
    {
      "cell_type": "code",
      "execution_count": 404,
      "metadata": {
        "id": "Z_6gx7j-RlrL",
        "colab": {
          "base_uri": "https://localhost:8080/"
        },
        "outputId": "bfaefe37-4188-4a45-83cc-80cc220b8a91"
      },
      "outputs": [
        {
          "output_type": "stream",
          "name": "stdout",
          "text": [
            "[]\n"
          ]
        }
      ],
      "source": [
        "explore_reviews_csv_query = \"\"\"\n",
        "MERGE (cwedata:Extended_Descriptions {runtime:2992})\n",
        "MERGE (Entities:Entities {rawName:\"Reflected XSS\"})\n",
        "MERGE (cwedata)-[:HAS_ENTITY]->(Entities)\n",
        "\n",
        "\"\"\"\n",
        "result = conn.query(explore_reviews_csv_query)\n",
        "print(result)"
      ]
    },
    {
      "cell_type": "code",
      "execution_count": 405,
      "metadata": {
        "id": "niHFAIQLRlmZ",
        "colab": {
          "base_uri": "https://localhost:8080/"
        },
        "outputId": "f76532b8-f174-470c-d21d-458ce694e995"
      },
      "outputs": [
        {
          "output_type": "stream",
          "name": "stdout",
          "text": [
            "[]\n"
          ]
        }
      ],
      "source": [
        "explore_reviews_csv_query = \"\"\"\n",
        "MERGE (cwedata:Extended_Descriptions {runtime:2992})\n",
        "MERGE (Entities:Entities {rawName:\"Persistent\"})\n",
        "MERGE (cwedata)-[:HAS_ENTITY]->(Entities)\n",
        "\n",
        "\"\"\"\n",
        "result = conn.query(explore_reviews_csv_query)\n",
        "print(result)"
      ]
    },
    {
      "cell_type": "code",
      "execution_count": 406,
      "metadata": {
        "id": "axItueCJRlWr",
        "colab": {
          "base_uri": "https://localhost:8080/"
        },
        "outputId": "80ada0cf-de66-4ec1-d0f4-4020b2d4913b"
      },
      "outputs": [
        {
          "output_type": "stream",
          "name": "stdout",
          "text": [
            "[]\n"
          ]
        }
      ],
      "source": [
        "explore_reviews_csv_query = \"\"\"\n",
        "MERGE (cwedata:Extended_Descriptions {runtime:2992})\n",
        "MERGE (Entities:Entities {rawName:\"HTTP request\"})\n",
        "MERGE (cwedata)-[:HAS_ENTITY]->(Entities)\n",
        "\n",
        "\"\"\"\n",
        "result = conn.query(explore_reviews_csv_query)\n",
        "print(result)"
      ]
    },
    {
      "cell_type": "code",
      "execution_count": 407,
      "metadata": {
        "id": "Uag8yv-zRlSI",
        "colab": {
          "base_uri": "https://localhost:8080/"
        },
        "outputId": "c874d194-2f66-4e18-be26-32d827aeabed"
      },
      "outputs": [
        {
          "output_type": "stream",
          "name": "stdout",
          "text": [
            "[]\n"
          ]
        }
      ],
      "source": [
        "explore_reviews_csv_query = \"\"\"\n",
        "MERGE (cwedata:Extended_Descriptions {runtime:2992})\n",
        "MERGE (Entities:Entities {rawName:\"HTTP response\"})\n",
        "MERGE (cwedata)-[:HAS_ENTITY]->(Entities)\n",
        "\n",
        "\"\"\"\n",
        "result = conn.query(explore_reviews_csv_query)\n",
        "print(result)"
      ]
    },
    {
      "cell_type": "code",
      "execution_count": 408,
      "metadata": {
        "id": "Vx8uPVUZRlNd",
        "colab": {
          "base_uri": "https://localhost:8080/"
        },
        "outputId": "e4e1bf7b-9257-4ea8-fc0b-08d7710a8fa8"
      },
      "outputs": [
        {
          "output_type": "stream",
          "name": "stdout",
          "text": [
            "[]\n"
          ]
        }
      ],
      "source": [
        "explore_reviews_csv_query = \"\"\"\n",
        "MERGE (cwedata:Extended_Descriptions {runtime:2992})\n",
        "MERGE (Entities:Entities {rawName:\"exploits\"})\n",
        "MERGE (cwedata)-[:HAS_ENTITY]->(Entities)\n",
        "\n",
        "\"\"\"\n",
        "result = conn.query(explore_reviews_csv_query)\n",
        "print(result)"
      ]
    },
    {
      "cell_type": "code",
      "execution_count": 409,
      "metadata": {
        "id": "oMjjzdhGRq4P",
        "colab": {
          "base_uri": "https://localhost:8080/"
        },
        "outputId": "8d8714e5-ecfd-4b99-b677-2aba89141425"
      },
      "outputs": [
        {
          "output_type": "stream",
          "name": "stdout",
          "text": [
            "[]\n"
          ]
        }
      ],
      "source": [
        "explore_reviews_csv_query = \"\"\"\n",
        "MERGE (cwedata:Extended_Descriptions {runtime:2992})\n",
        "MERGE (Entities:Entities {rawName:\"attacker\"})\n",
        "MERGE (cwedata)-[:HAS_ENTITY]->(Entities)\n",
        "\n",
        "\"\"\"\n",
        "result = conn.query(explore_reviews_csv_query)\n",
        "print(result)"
      ]
    },
    {
      "cell_type": "code",
      "execution_count": 410,
      "metadata": {
        "id": "PZUGJvXSRqm3",
        "colab": {
          "base_uri": "https://localhost:8080/"
        },
        "outputId": "6118a537-6bea-4f5e-e4b5-ab9993ef7ae2"
      },
      "outputs": [
        {
          "output_type": "stream",
          "name": "stdout",
          "text": [
            "[]\n"
          ]
        }
      ],
      "source": [
        "explore_reviews_csv_query = \"\"\"\n",
        "MERGE (cwedata:Extended_Descriptions {runtime:2992})\n",
        "MERGE (Entities:Entities {rawName:\"parameter\"})\n",
        "MERGE (cwedata)-[:HAS_ENTITY]->(Entities)\n",
        "\n",
        "\"\"\"\n",
        "result = conn.query(explore_reviews_csv_query)\n",
        "print(result)"
      ]
    },
    {
      "cell_type": "code",
      "execution_count": 411,
      "metadata": {
        "id": "ARr1YMTZRqh4",
        "colab": {
          "base_uri": "https://localhost:8080/"
        },
        "outputId": "e1d736ea-a732-4f83-bc86-b010ca770a33"
      },
      "outputs": [
        {
          "output_type": "stream",
          "name": "stdout",
          "text": [
            "[]\n"
          ]
        }
      ],
      "source": [
        "explore_reviews_csv_query = \"\"\"\n",
        "MERGE (cwedata:Extended_Descriptions {runtime:2992})\n",
        "MERGE (Entities:Entities {rawName:\"URL\"})\n",
        "MERGE (cwedata)-[:HAS_ENTITY]->(Entities)\n",
        "\n",
        "\"\"\"\n",
        "result = conn.query(explore_reviews_csv_query)\n",
        "print(result)"
      ]
    },
    {
      "cell_type": "code",
      "execution_count": 412,
      "metadata": {
        "id": "yH5VykVNRqdA",
        "colab": {
          "base_uri": "https://localhost:8080/"
        },
        "outputId": "7303cf63-4c17-47dd-c895-d3d5f5993466"
      },
      "outputs": [
        {
          "output_type": "stream",
          "name": "stdout",
          "text": [
            "[]\n"
          ]
        }
      ],
      "source": [
        "explore_reviews_csv_query = \"\"\"\n",
        "MERGE (cwedata:Extended_Descriptions {runtime:2992})\n",
        "MERGE (Entities:Entities {rawName:\"e-mailed\"})\n",
        "MERGE (cwedata)-[:HAS_ENTITY]->(Entities)\n",
        "\n",
        "\"\"\"\n",
        "result = conn.query(explore_reviews_csv_query)\n",
        "print(result)"
      ]
    },
    {
      "cell_type": "code",
      "execution_count": 413,
      "metadata": {
        "id": "60X7FgPBS-Nm",
        "colab": {
          "base_uri": "https://localhost:8080/"
        },
        "outputId": "d52ac828-0468-45ef-f151-07a29844bc8b"
      },
      "outputs": [
        {
          "output_type": "stream",
          "name": "stdout",
          "text": [
            "[]\n"
          ]
        }
      ],
      "source": [
        "explore_reviews_csv_query = \"\"\"\n",
        "MERGE (cwedata:Extended_Descriptions {runtime:2992})\n",
        "MERGE (Entities:Entities {rawName:\"URLs\"})\n",
        "MERGE (cwedata)-[:HAS_ENTITY]->(Entities)\n",
        "\n",
        "\"\"\"\n",
        "result = conn.query(explore_reviews_csv_query)\n",
        "print(result)"
      ]
    },
    {
      "cell_type": "code",
      "execution_count": 414,
      "metadata": {
        "id": "VcInHA6yS-HX",
        "colab": {
          "base_uri": "https://localhost:8080/"
        },
        "outputId": "0b5db5bd-f5e8-4dce-d6f0-c9f00f0598f1"
      },
      "outputs": [
        {
          "output_type": "stream",
          "name": "stdout",
          "text": [
            "[]\n"
          ]
        }
      ],
      "source": [
        "explore_reviews_csv_query = \"\"\"\n",
        "MERGE (cwedata:Extended_Descriptions {runtime:2992})\n",
        "MERGE (Entities:Entities {rawName:\"phishing\"})\n",
        "MERGE (cwedata)-[:HAS_ENTITY]->(Entities)\n",
        "\n",
        "\"\"\"\n",
        "result = conn.query(explore_reviews_csv_query)\n",
        "print(result)"
      ]
    },
    {
      "cell_type": "code",
      "execution_count": 415,
      "metadata": {
        "id": "aYWCM_mDS-BP",
        "colab": {
          "base_uri": "https://localhost:8080/"
        },
        "outputId": "9ec1a78f-8c18-48f7-96cf-feecb9cc5ff7"
      },
      "outputs": [
        {
          "output_type": "stream",
          "name": "stdout",
          "text": [
            "[]\n"
          ]
        }
      ],
      "source": [
        "explore_reviews_csv_query = \"\"\"\n",
        "MERGE (cwedata:Extended_Descriptions {runtime:2992})\n",
        "MERGE (Entities:Entities {rawName:\"browser\"})\n",
        "MERGE (cwedata)-[:HAS_ENTITY]->(Entities)\n",
        "\n",
        "\"\"\"\n",
        "result = conn.query(explore_reviews_csv_query)\n",
        "print(result)"
      ]
    },
    {
      "cell_type": "code",
      "execution_count": 416,
      "metadata": {
        "id": "hMXREtiFS97H",
        "colab": {
          "base_uri": "https://localhost:8080/"
        },
        "outputId": "18662d6c-3e69-4ef3-aa39-e05787fb4b07"
      },
      "outputs": [
        {
          "output_type": "stream",
          "name": "stdout",
          "text": [
            "[]\n"
          ]
        }
      ],
      "source": [
        "explore_reviews_csv_query = \"\"\"\n",
        "MERGE (cwedata:Extended_Descriptions {runtime:2992})\n",
        "MERGE (Entities:Entities {rawName:\"Type 2\"})\n",
        "MERGE (cwedata)-[:HAS_ENTITY]->(Entities)\n",
        "\n",
        "\"\"\"\n",
        "result = conn.query(explore_reviews_csv_query)\n",
        "print(result)"
      ]
    },
    {
      "cell_type": "code",
      "execution_count": 417,
      "metadata": {
        "id": "hiUnMEsZS9nJ",
        "colab": {
          "base_uri": "https://localhost:8080/"
        },
        "outputId": "35c2f69d-39ce-4f7b-e158-589b1ef0d1a6"
      },
      "outputs": [
        {
          "output_type": "stream",
          "name": "stdout",
          "text": [
            "[]\n"
          ]
        }
      ],
      "source": [
        "explore_reviews_csv_query = \"\"\"\n",
        "MERGE (cwedata:Extended_Descriptions {runtime:2992})\n",
        "MERGE (Entities:Entities {rawName:\"Stored XSS\"})\n",
        "MERGE (cwedata)-[:HAS_ENTITY]->(Entities)\n",
        "\n",
        "\"\"\"\n",
        "result = conn.query(explore_reviews_csv_query)\n",
        "print(result)"
      ]
    },
    {
      "cell_type": "code",
      "execution_count": 418,
      "metadata": {
        "id": "IXm7v5qwS9hH",
        "colab": {
          "base_uri": "https://localhost:8080/"
        },
        "outputId": "bdb0c115-11e0-4d66-e5a0-2c7deaa36a09"
      },
      "outputs": [
        {
          "output_type": "stream",
          "name": "stdout",
          "text": [
            "[]\n"
          ]
        }
      ],
      "source": [
        "explore_reviews_csv_query = \"\"\"\n",
        "MERGE (cwedata:Extended_Descriptions {runtime:2992})\n",
        "MERGE (Entities:Entities {rawName:\"visitor\"})\n",
        "MERGE (cwedata)-[:HAS_ENTITY]->(Entities)\n",
        "\n",
        "\"\"\"\n",
        "result = conn.query(explore_reviews_csv_query)\n",
        "print(result)"
      ]
    },
    {
      "cell_type": "code",
      "execution_count": 419,
      "metadata": {
        "id": "MesdvHaDS9a9",
        "colab": {
          "base_uri": "https://localhost:8080/"
        },
        "outputId": "122c6c9f-c702-4725-aafe-d619d779892d"
      },
      "outputs": [
        {
          "output_type": "stream",
          "name": "stdout",
          "text": [
            "[]\n"
          ]
        }
      ],
      "source": [
        "explore_reviews_csv_query = \"\"\"\n",
        "MERGE (cwedata:Extended_Descriptions {runtime:2992})\n",
        "MERGE (Entities:Entities {rawName:\"data store\"})\n",
        "MERGE (cwedata)-[:HAS_ENTITY]->(Entities)\n",
        "\n",
        "\"\"\"\n",
        "result = conn.query(explore_reviews_csv_query)\n",
        "print(result)"
      ]
    },
    {
      "cell_type": "code",
      "execution_count": 420,
      "metadata": {
        "id": "4FqjOOuiTI3U",
        "colab": {
          "base_uri": "https://localhost:8080/"
        },
        "outputId": "194e531a-3885-49d0-b297-4eda1751e231"
      },
      "outputs": [
        {
          "output_type": "stream",
          "name": "stdout",
          "text": [
            "[]\n"
          ]
        }
      ],
      "source": [
        "explore_reviews_csv_query = \"\"\"\n",
        "MERGE (cwedata:Extended_Descriptions {runtime:2992})\n",
        "MERGE (Entities:Entities {rawName:\"dynamic content\"})\n",
        "MERGE (cwedata)-[:HAS_ENTITY]->(Entities)\n",
        "\n",
        "\"\"\"\n",
        "result = conn.query(explore_reviews_csv_query)\n",
        "print(result)"
      ]
    },
    {
      "cell_type": "code",
      "execution_count": 421,
      "metadata": {
        "id": "ZjKAUGIlTInY",
        "colab": {
          "base_uri": "https://localhost:8080/"
        },
        "outputId": "c1fd9283-d05c-44dd-fa1e-f99cc0539bee"
      },
      "outputs": [
        {
          "output_type": "stream",
          "name": "stdout",
          "text": [
            "[]\n"
          ]
        }
      ],
      "source": [
        "explore_reviews_csv_query = \"\"\"\n",
        "MERGE (cwedata:Extended_Descriptions {runtime:2992})\n",
        "MERGE (Entities:Entities {rawName:\"optimal\"})\n",
        "MERGE (cwedata)-[:HAS_ENTITY]->(Entities)\n",
        "\n",
        "\"\"\"\n",
        "result = conn.query(explore_reviews_csv_query)\n",
        "print(result)"
      ]
    },
    {
      "cell_type": "code",
      "execution_count": 422,
      "metadata": {
        "id": "iW4LgPZHTIg1",
        "colab": {
          "base_uri": "https://localhost:8080/"
        },
        "outputId": "fe1dc770-3a99-4d08-f328-19cab47d324a"
      },
      "outputs": [
        {
          "output_type": "stream",
          "name": "stdout",
          "text": [
            "[]\n"
          ]
        }
      ],
      "source": [
        "explore_reviews_csv_query = \"\"\"\n",
        "MERGE (cwedata:Extended_Descriptions {runtime:2992})\n",
        "MERGE (Entities:Entities {rawName:\"inject\"})\n",
        "MERGE (cwedata)-[:HAS_ENTITY]->(Entities)\n",
        "\n",
        "\"\"\"\n",
        "result = conn.query(explore_reviews_csv_query)\n",
        "print(result)"
      ]
    },
    {
      "cell_type": "code",
      "execution_count": 423,
      "metadata": {
        "id": "ugJMY1PRTIQ9",
        "colab": {
          "base_uri": "https://localhost:8080/"
        },
        "outputId": "46073681-b0b6-456a-bf4b-a332f7b8ed6d"
      },
      "outputs": [
        {
          "output_type": "stream",
          "name": "stdout",
          "text": [
            "[]\n"
          ]
        }
      ],
      "source": [
        "explore_reviews_csv_query = \"\"\"\n",
        "MERGE (cwedata:Extended_Descriptions {runtime:2992})\n",
        "MERGE (Entities:Entities {rawName:\"Interesting\"})\n",
        "MERGE (cwedata)-[:HAS_ENTITY]->(Entities)\n",
        "\n",
        "\"\"\"\n",
        "result = conn.query(explore_reviews_csv_query)\n",
        "print(result)"
      ]
    },
    {
      "cell_type": "code",
      "execution_count": 424,
      "metadata": {
        "id": "W4uq-1m-TQNu",
        "colab": {
          "base_uri": "https://localhost:8080/"
        },
        "outputId": "2cd247c3-0add-4d4b-a9a1-335a0bab41a6"
      },
      "outputs": [
        {
          "output_type": "stream",
          "name": "stdout",
          "text": [
            "[]\n"
          ]
        }
      ],
      "source": [
        "explore_reviews_csv_query = \"\"\"\n",
        "MERGE (cwedata:Extended_Descriptions {runtime:2992})\n",
        "MERGE (Entities:Entities {rawName:\"privileges\"})\n",
        "MERGE (cwedata)-[:HAS_ENTITY]->(Entities)\n",
        "\n",
        "\"\"\"\n",
        "result = conn.query(explore_reviews_csv_query)\n",
        "print(result)"
      ]
    },
    {
      "cell_type": "code",
      "execution_count": 425,
      "metadata": {
        "id": "QYbyY26pTQEz",
        "colab": {
          "base_uri": "https://localhost:8080/"
        },
        "outputId": "6da0d273-2496-4db5-a941-e63b70437150"
      },
      "outputs": [
        {
          "output_type": "stream",
          "name": "stdout",
          "text": [
            "[]\n"
          ]
        }
      ],
      "source": [
        "explore_reviews_csv_query = \"\"\"\n",
        "MERGE (cwedata:Extended_Descriptions {runtime:2992})\n",
        "MERGE (Entities:Entities {rawName:\"sensitive data\"})\n",
        "MERGE (cwedata)-[:HAS_ENTITY]->(Entities)\n",
        "\n",
        "\"\"\"\n",
        "result = conn.query(explore_reviews_csv_query)\n",
        "print(result)"
      ]
    },
    {
      "cell_type": "code",
      "execution_count": 426,
      "metadata": {
        "id": "GArvDet8TP8m",
        "colab": {
          "base_uri": "https://localhost:8080/"
        },
        "outputId": "e323e2f4-3931-496b-d44b-4efae3735f61"
      },
      "outputs": [
        {
          "output_type": "stream",
          "name": "stdout",
          "text": [
            "[]\n"
          ]
        }
      ],
      "source": [
        "explore_reviews_csv_query = \"\"\"\n",
        "MERGE (cwedata:Extended_Descriptions {runtime:2992})\n",
        "MERGE (Entities:Entities {rawName:\"privileged\"})\n",
        "MERGE (cwedata)-[:HAS_ENTITY]->(Entities)\n",
        "\n",
        "\"\"\"\n",
        "result = conn.query(explore_reviews_csv_query)\n",
        "print(result)"
      ]
    },
    {
      "cell_type": "code",
      "execution_count": 427,
      "metadata": {
        "id": "xzuOnfXRTP1q",
        "colab": {
          "base_uri": "https://localhost:8080/"
        },
        "outputId": "f7a81e0a-c625-416a-ff8b-63347bed047a"
      },
      "outputs": [
        {
          "output_type": "stream",
          "name": "stdout",
          "text": [
            "[]\n"
          ]
        }
      ],
      "source": [
        "explore_reviews_csv_query = \"\"\"\n",
        "MERGE (cwedata:Extended_Descriptions {runtime:2992})\n",
        "MERGE (Entities:Entities {rawName:\"gain access\"})\n",
        "MERGE (cwedata)-[:HAS_ENTITY]->(Entities)\n",
        "\n",
        "\"\"\"\n",
        "result = conn.query(explore_reviews_csv_query)\n",
        "print(result)"
      ]
    },
    {
      "cell_type": "code",
      "execution_count": 428,
      "metadata": {
        "id": "vSab3cl0TPns",
        "colab": {
          "base_uri": "https://localhost:8080/"
        },
        "outputId": "f48f1c85-334d-418d-a2fa-bd18d7361a3f"
      },
      "outputs": [
        {
          "output_type": "stream",
          "name": "stdout",
          "text": [
            "[]\n"
          ]
        }
      ],
      "source": [
        "explore_reviews_csv_query = \"\"\"\n",
        "MERGE (cwedata:Extended_Descriptions {runtime:2992})\n",
        "MERGE (Entities:Entities {rawName:\"log message\"})\n",
        "MERGE (cwedata)-[:HAS_ENTITY]->(Entities)\n",
        "\n",
        "\"\"\"\n",
        "result = conn.query(explore_reviews_csv_query)\n",
        "print(result)"
      ]
    },
    {
      "cell_type": "code",
      "execution_count": 429,
      "metadata": {
        "id": "ExuCOQE1TPg0",
        "colab": {
          "base_uri": "https://localhost:8080/"
        },
        "outputId": "ddb1c041-8b49-459a-eaef-1cd49f34c531"
      },
      "outputs": [
        {
          "output_type": "stream",
          "name": "stdout",
          "text": [
            "[]\n"
          ]
        }
      ],
      "source": [
        "explore_reviews_csv_query = \"\"\"\n",
        "MERGE (cwedata:Extended_Descriptions {runtime:2992})\n",
        "MERGE (Entities:Entities {rawName:\"logs\"})\n",
        "MERGE (cwedata)-[:HAS_ENTITY]->(Entities)\n",
        "\n",
        "\"\"\"\n",
        "result = conn.query(explore_reviews_csv_query)\n",
        "print(result)"
      ]
    },
    {
      "cell_type": "code",
      "execution_count": 430,
      "metadata": {
        "id": "ntb6O28tTPVT",
        "colab": {
          "base_uri": "https://localhost:8080/"
        },
        "outputId": "d1da504e-40c7-4360-a619-257dd9605060"
      },
      "outputs": [
        {
          "output_type": "stream",
          "name": "stdout",
          "text": [
            "[]\n"
          ]
        }
      ],
      "source": [
        "explore_reviews_csv_query = \"\"\"\n",
        "MERGE (cwedata:Extended_Descriptions {runtime:2992})\n",
        "MERGE (Entities:Entities {rawName:\"Type 0\"})\n",
        "MERGE (cwedata)-[:HAS_ENTITY]->(Entities)\n",
        "\n",
        "\"\"\"\n",
        "result = conn.query(explore_reviews_csv_query)\n",
        "print(result)"
      ]
    },
    {
      "cell_type": "code",
      "execution_count": 431,
      "metadata": {
        "id": "b6nJN1SPTPCz",
        "colab": {
          "base_uri": "https://localhost:8080/"
        },
        "outputId": "435e616a-e8c8-42b2-a2c4-f5db880471ca"
      },
      "outputs": [
        {
          "output_type": "stream",
          "name": "stdout",
          "text": [
            "[]\n"
          ]
        }
      ],
      "source": [
        "explore_reviews_csv_query = \"\"\"\n",
        "MERGE (cwedata:Extended_Descriptions {runtime:2992})\n",
        "MERGE (Entities:Entities {rawName:\"DOM\"})\n",
        "MERGE (cwedata)-[:HAS_ENTITY]->(Entities)\n",
        "\n",
        "\"\"\"\n",
        "result = conn.query(explore_reviews_csv_query)\n",
        "print(result)"
      ]
    },
    {
      "cell_type": "code",
      "execution_count": 432,
      "metadata": {
        "id": "GiBJxL-pTO6b",
        "colab": {
          "base_uri": "https://localhost:8080/"
        },
        "outputId": "3f17f64c-14a3-4ccf-f820-061e5a9973c1"
      },
      "outputs": [
        {
          "output_type": "stream",
          "name": "stdout",
          "text": [
            "[]\n"
          ]
        }
      ],
      "source": [
        "explore_reviews_csv_query = \"\"\"\n",
        "MERGE (cwedata:Extended_Descriptions {runtime:2992})\n",
        "MERGE (Entities:Entities {rawName:\"Based\"})\n",
        "MERGE (cwedata)-[:HAS_ENTITY]->(Entities)\n",
        "\n",
        "\"\"\"\n",
        "result = conn.query(explore_reviews_csv_query)\n",
        "print(result)"
      ]
    },
    {
      "cell_type": "code",
      "execution_count": 433,
      "metadata": {
        "id": "JV58Xwv3X4oU",
        "colab": {
          "base_uri": "https://localhost:8080/"
        },
        "outputId": "ad13fbb7-ace4-4012-90e6-6d04138bca01"
      },
      "outputs": [
        {
          "output_type": "stream",
          "name": "stdout",
          "text": [
            "[]\n"
          ]
        }
      ],
      "source": [
        "explore_reviews_csv_query = \"\"\"\n",
        "MERGE (cwedata:Extended_Descriptions {runtime:2992})\n",
        "MERGE (Entities:Entities {rawName:\"performs\"})\n",
        "MERGE (cwedata)-[:HAS_ENTITY]->(Entities)\n",
        "\n",
        "\"\"\"\n",
        "result = conn.query(explore_reviews_csv_query)\n",
        "print(result)"
      ]
    },
    {
      "cell_type": "code",
      "execution_count": 434,
      "metadata": {
        "id": "pkhMx5ngX4fN",
        "colab": {
          "base_uri": "https://localhost:8080/"
        },
        "outputId": "92c334f3-6787-459e-e7ba-7146811e2e0e"
      },
      "outputs": [
        {
          "output_type": "stream",
          "name": "stdout",
          "text": [
            "[]\n"
          ]
        }
      ],
      "source": [
        "explore_reviews_csv_query = \"\"\"\n",
        "MERGE (cwedata:Extended_Descriptions {runtime:2992})\n",
        "MERGE (Entities:Entities {rawName:\"injection\"})\n",
        "MERGE (cwedata)-[:HAS_ENTITY]->(Entities)\n",
        "\n",
        "\"\"\"\n",
        "result = conn.query(explore_reviews_csv_query)\n",
        "print(result)"
      ]
    },
    {
      "cell_type": "code",
      "execution_count": 435,
      "metadata": {
        "id": "LcR27UhwX4WJ",
        "colab": {
          "base_uri": "https://localhost:8080/"
        },
        "outputId": "7f46993a-b5fa-44b1-9d59-f1d8654ab35c"
      },
      "outputs": [
        {
          "output_type": "stream",
          "name": "stdout",
          "text": [
            "[]\n"
          ]
        }
      ],
      "source": [
        "explore_reviews_csv_query = \"\"\"\n",
        "MERGE (cwedata:Extended_Descriptions {runtime:2992})\n",
        "MERGE (Entities:Entities {rawName:\"Javascript\"})\n",
        "MERGE (cwedata)-[:HAS_ENTITY]->(Entities)\n",
        "\n",
        "\"\"\"\n",
        "result = conn.query(explore_reviews_csv_query)\n",
        "print(result)"
      ]
    },
    {
      "cell_type": "code",
      "execution_count": 436,
      "metadata": {
        "id": "Bn7OlSaxX4NQ",
        "colab": {
          "base_uri": "https://localhost:8080/"
        },
        "outputId": "a1c51f35-b750-4af3-9270-f335a1f73235"
      },
      "outputs": [
        {
          "output_type": "stream",
          "name": "stdout",
          "text": [
            "[]\n"
          ]
        }
      ],
      "source": [
        "explore_reviews_csv_query = \"\"\"\n",
        "MERGE (cwedata:Extended_Descriptions {runtime:2992})\n",
        "MERGE (Entities:Entities {rawName:\"sanity\"})\n",
        "MERGE (cwedata)-[:HAS_ENTITY]->(Entities)\n",
        "\n",
        "\"\"\"\n",
        "result = conn.query(explore_reviews_csv_query)\n",
        "print(result)"
      ]
    },
    {
      "cell_type": "code",
      "execution_count": 437,
      "metadata": {
        "id": "uJK71QtoX4EM",
        "colab": {
          "base_uri": "https://localhost:8080/"
        },
        "outputId": "2e18c0f6-a241-4822-a63e-cb32caa1774c"
      },
      "outputs": [
        {
          "output_type": "stream",
          "name": "stdout",
          "text": [
            "[]\n"
          ]
        }
      ],
      "source": [
        "explore_reviews_csv_query = \"\"\"\n",
        "MERGE (cwedata:Extended_Descriptions {runtime:2992})\n",
        "MERGE (Entities:Entities {rawName:\"injects\"})\n",
        "MERGE (cwedata)-[:HAS_ENTITY]->(Entities)\n",
        "\n",
        "\"\"\"\n",
        "result = conn.query(explore_reviews_csv_query)\n",
        "print(result)"
      ]
    },
    {
      "cell_type": "code",
      "execution_count": 438,
      "metadata": {
        "id": "uRbrgsnfX37M",
        "colab": {
          "base_uri": "https://localhost:8080/"
        },
        "outputId": "5c973a4f-20f2-4976-ffa2-1d4747a99f3c"
      },
      "outputs": [
        {
          "output_type": "stream",
          "name": "stdout",
          "text": [
            "[]\n"
          ]
        }
      ],
      "source": [
        "explore_reviews_csv_query = \"\"\"\n",
        "MERGE (cwedata:Extended_Descriptions {runtime:2992})\n",
        "MERGE (Entities:Entities {rawName:\"dynamic HTML\"})\n",
        "MERGE (cwedata)-[:HAS_ENTITY]->(Entities)\n",
        "\n",
        "\"\"\"\n",
        "result = conn.query(explore_reviews_csv_query)\n",
        "print(result)"
      ]
    },
    {
      "cell_type": "code",
      "execution_count": 439,
      "metadata": {
        "id": "n9qgHjxzX3e_",
        "colab": {
          "base_uri": "https://localhost:8080/"
        },
        "outputId": "475df24a-685c-4893-b6a6-b601e30245eb"
      },
      "outputs": [
        {
          "output_type": "stream",
          "name": "stdout",
          "text": [
            "[]\n"
          ]
        }
      ],
      "source": [
        "explore_reviews_csv_query = \"\"\"\n",
        "MERGE (cwedata:Extended_Descriptions {runtime:2992})\n",
        "MERGE (Entities:Entities {rawName:\"private information\"})\n",
        "MERGE (cwedata)-[:HAS_ENTITY]->(Entities)\n",
        "\n",
        "\"\"\"\n",
        "result = conn.query(explore_reviews_csv_query)\n",
        "print(result)"
      ]
    },
    {
      "cell_type": "code",
      "execution_count": 440,
      "metadata": {
        "id": "Jm6oAOh5X3WG",
        "colab": {
          "base_uri": "https://localhost:8080/"
        },
        "outputId": "e09b5c2b-b93f-49e3-fa29-85da3f92c591"
      },
      "outputs": [
        {
          "output_type": "stream",
          "name": "stdout",
          "text": [
            "[]\n"
          ]
        }
      ],
      "source": [
        "explore_reviews_csv_query = \"\"\"\n",
        "MERGE (cwedata:Extended_Descriptions {runtime:2992})\n",
        "MERGE (Entities:Entities {rawName:\"web site\"})\n",
        "MERGE (cwedata)-[:HAS_ENTITY]->(Entities)\n",
        "\n",
        "\"\"\"\n",
        "result = conn.query(explore_reviews_csv_query)\n",
        "print(result)"
      ]
    },
    {
      "cell_type": "code",
      "execution_count": 441,
      "metadata": {
        "id": "59g45ZzOX3NA",
        "colab": {
          "base_uri": "https://localhost:8080/"
        },
        "outputId": "2fffa720-d1c0-44e4-c305-bde49ee4df69"
      },
      "outputs": [
        {
          "output_type": "stream",
          "name": "stdout",
          "text": [
            "[]\n"
          ]
        }
      ],
      "source": [
        "explore_reviews_csv_query = \"\"\"\n",
        "MERGE (cwedata:Extended_Descriptions {runtime:2992})\n",
        "MERGE (Entities:Entities {rawName:\"administrator privileges\"})\n",
        "MERGE (cwedata)-[:HAS_ENTITY]->(Entities)\n",
        "\n",
        "\"\"\"\n",
        "result = conn.query(explore_reviews_csv_query)\n",
        "print(result)"
      ]
    },
    {
      "cell_type": "code",
      "execution_count": 442,
      "metadata": {
        "id": "QKFvaGEIYFaF",
        "colab": {
          "base_uri": "https://localhost:8080/"
        },
        "outputId": "6247f506-8e3b-4dcd-da83-1394d9a0c7aa"
      },
      "outputs": [
        {
          "output_type": "stream",
          "name": "stdout",
          "text": [
            "[]\n"
          ]
        }
      ],
      "source": [
        "explore_reviews_csv_query = \"\"\"\n",
        "MERGE (cwedata:Extended_Descriptions {runtime:2992})\n",
        "MERGE (Entities:Entities {rawName:\"Phishing attacks\"})\n",
        "MERGE (cwedata)-[:HAS_ENTITY]->(Entities)\n",
        "\n",
        "\"\"\"\n",
        "result = conn.query(explore_reviews_csv_query)\n",
        "print(result)"
      ]
    },
    {
      "cell_type": "code",
      "execution_count": 443,
      "metadata": {
        "id": "vqPT8clcYFP-",
        "colab": {
          "base_uri": "https://localhost:8080/"
        },
        "outputId": "7183464f-97e9-44ef-ea94-2b8e2425a7a6"
      },
      "outputs": [
        {
          "output_type": "stream",
          "name": "stdout",
          "text": [
            "[]\n"
          ]
        }
      ],
      "source": [
        "explore_reviews_csv_query = \"\"\"\n",
        "MERGE (cwedata:Extended_Descriptions {runtime:2992})\n",
        "MERGE (Entities:Entities {rawName:\"emulate\"})\n",
        "MERGE (cwedata)-[:HAS_ENTITY]->(Entities)\n",
        "\n",
        "\"\"\"\n",
        "result = conn.query(explore_reviews_csv_query)\n",
        "print(result)"
      ]
    },
    {
      "cell_type": "code",
      "execution_count": 444,
      "metadata": {
        "id": "wWKUTpzgYFF-",
        "colab": {
          "base_uri": "https://localhost:8080/"
        },
        "outputId": "8a900e52-d710-415c-93b0-91cf80b33aed"
      },
      "outputs": [
        {
          "output_type": "stream",
          "name": "stdout",
          "text": [
            "[]\n"
          ]
        }
      ],
      "source": [
        "explore_reviews_csv_query = \"\"\"\n",
        "MERGE (cwedata:Extended_Descriptions {runtime:2992})\n",
        "MERGE (Entities:Entities {rawName:\"web sites\"})\n",
        "MERGE (cwedata)-[:HAS_ENTITY]->(Entities)\n",
        "\n",
        "\"\"\"\n",
        "result = conn.query(explore_reviews_csv_query)\n",
        "print(result)"
      ]
    },
    {
      "cell_type": "code",
      "execution_count": 445,
      "metadata": {
        "id": "S3zNzeHdYEyT",
        "colab": {
          "base_uri": "https://localhost:8080/"
        },
        "outputId": "60bd10dd-a79e-498a-c002-c8c09a1ab89f"
      },
      "outputs": [
        {
          "output_type": "stream",
          "name": "stdout",
          "text": [
            "[]\n"
          ]
        }
      ],
      "source": [
        "explore_reviews_csv_query = \"\"\"\n",
        "MERGE (cwedata:Extended_Descriptions {runtime:2992})\n",
        "MERGE (Entities:Entities {rawName:\"Finally\"})\n",
        "MERGE (cwedata)-[:HAS_ENTITY]->(Entities)\n",
        "\n",
        "\"\"\"\n",
        "result = conn.query(explore_reviews_csv_query)\n",
        "print(result)"
      ]
    },
    {
      "cell_type": "code",
      "execution_count": 446,
      "metadata": {
        "id": "xGgazzaDYEor",
        "colab": {
          "base_uri": "https://localhost:8080/"
        },
        "outputId": "232bc7f9-aaf0-4506-cd79-b07763d2fdf0"
      },
      "outputs": [
        {
          "output_type": "stream",
          "name": "stdout",
          "text": [
            "[]\n"
          ]
        }
      ],
      "source": [
        "explore_reviews_csv_query = \"\"\"\n",
        "MERGE (cwedata:Extended_Descriptions {runtime:2992})\n",
        "MERGE (Entities:Entities {rawName:\"exploit\"})\n",
        "MERGE (cwedata)-[:HAS_ENTITY]->(Entities)\n",
        "\n",
        "\"\"\"\n",
        "result = conn.query(explore_reviews_csv_query)\n",
        "print(result)"
      ]
    },
    {
      "cell_type": "code",
      "execution_count": 447,
      "metadata": {
        "id": "obUcNvicYEfA",
        "colab": {
          "base_uri": "https://localhost:8080/"
        },
        "outputId": "c4b1530d-adf7-421f-d396-5ce5fe7d9fab"
      },
      "outputs": [
        {
          "output_type": "stream",
          "name": "stdout",
          "text": [
            "[]\n"
          ]
        }
      ],
      "source": [
        "explore_reviews_csv_query = \"\"\"\n",
        "MERGE (cwedata:Extended_Descriptions {runtime:2992})\n",
        "MERGE (Entities:Entities {rawName:\"vulnerability\"})\n",
        "MERGE (cwedata)-[:HAS_ENTITY]->(Entities)\n",
        "\n",
        "\"\"\"\n",
        "result = conn.query(explore_reviews_csv_query)\n",
        "print(result)"
      ]
    },
    {
      "cell_type": "code",
      "execution_count": 448,
      "metadata": {
        "id": "RTYoj2KGYEVL",
        "colab": {
          "base_uri": "https://localhost:8080/"
        },
        "outputId": "2e25d78c-8a40-499e-98e2-407e48c3df57"
      },
      "outputs": [
        {
          "output_type": "stream",
          "name": "stdout",
          "text": [
            "[]\n"
          ]
        }
      ],
      "source": [
        "explore_reviews_csv_query = \"\"\"\n",
        "MERGE (cwedata:Extended_Descriptions {runtime:2992})\n",
        "MERGE (Entities:Entities {rawName:\"drive-by\"})\n",
        "MERGE (cwedata)-[:HAS_ENTITY]->(Entities)\n",
        "\n",
        "\"\"\"\n",
        "result = conn.query(explore_reviews_csv_query)\n",
        "print(result)"
      ]
    },
    {
      "cell_type": "code",
      "execution_count": 449,
      "metadata": {
        "id": "PHNu4lnnYECa",
        "colab": {
          "base_uri": "https://localhost:8080/"
        },
        "outputId": "dea9635a-979d-47a4-81e0-1419596a40d1"
      },
      "outputs": [
        {
          "output_type": "stream",
          "name": "stdout",
          "text": [
            "[]\n"
          ]
        }
      ],
      "source": [
        "explore_reviews_csv_query = \"\"\"\n",
        "MERGE (cwedata:Extended_Descriptions {runtime:2992})\n",
        "MERGE (Entities:Entities {rawName:\"hacking\"})\n",
        "MERGE (cwedata)-[:HAS_ENTITY]->(Entities)\n",
        "\n",
        "\"\"\"\n",
        "result = conn.query(explore_reviews_csv_query)\n",
        "print(result)"
      ]
    },
    {
      "cell_type": "code",
      "execution_count": 450,
      "metadata": {
        "id": "QT3hOtHsYD40",
        "colab": {
          "base_uri": "https://localhost:8080/"
        },
        "outputId": "02c5b3f4-efac-4a2f-81be-755704da5b87"
      },
      "outputs": [
        {
          "output_type": "stream",
          "name": "stdout",
          "text": [
            "[]\n"
          ]
        }
      ],
      "source": [
        "explore_reviews_csv_query = \"\"\"\n",
        "MERGE (cwedata:Extended_Descriptions {runtime:2992})\n",
        "MERGE (Entities:Entities {rawName:\"attackers\"})\n",
        "MERGE (cwedata)-[:HAS_ENTITY]->(Entities)\n",
        "\n",
        "\"\"\"\n",
        "result = conn.query(explore_reviews_csv_query)\n",
        "print(result)"
      ]
    },
    {
      "cell_type": "code",
      "execution_count": 451,
      "metadata": {
        "id": "jT3Kbpz0Z2Z7",
        "colab": {
          "base_uri": "https://localhost:8080/"
        },
        "outputId": "b3819dc3-bc92-4638-814d-28a4cfa7d4d2"
      },
      "outputs": [
        {
          "output_type": "stream",
          "name": "stdout",
          "text": [
            "[]\n"
          ]
        }
      ],
      "source": [
        "explore_reviews_csv_query = \"\"\"\n",
        "MERGE (cwedata:Extended_Descriptions {runtime:2992})\n",
        "MERGE (Entities:Entities {rawName:\"variety of methods\"})\n",
        "MERGE (cwedata)-[:HAS_ENTITY]->(Entities)\n",
        "\n",
        "\"\"\"\n",
        "result = conn.query(explore_reviews_csv_query)\n",
        "print(result)"
      ]
    },
    {
      "cell_type": "code",
      "execution_count": 452,
      "metadata": {
        "id": "Imm3EoEHZ2FE",
        "colab": {
          "base_uri": "https://localhost:8080/"
        },
        "outputId": "16bb83c5-703c-4ca9-95d7-bc43fdca4f9c"
      },
      "outputs": [
        {
          "output_type": "stream",
          "name": "stdout",
          "text": [
            "[]\n"
          ]
        }
      ],
      "source": [
        "explore_reviews_csv_query = \"\"\"\n",
        "MERGE (cwedata:Extended_Descriptions {runtime:2992})\n",
        "MERGE (Entities:Entities {rawName:\"encode\"})\n",
        "MERGE (cwedata)-[:HAS_ENTITY]->(Entities)\n",
        "\n",
        "\"\"\"\n",
        "result = conn.query(explore_reviews_csv_query)\n",
        "print(result)"
      ]
    },
    {
      "cell_type": "code",
      "execution_count": 453,
      "metadata": {
        "id": "fo4IJcg8Z1t_",
        "colab": {
          "base_uri": "https://localhost:8080/"
        },
        "outputId": "a8c8638c-929a-4e48-eb41-e86773c67d87"
      },
      "outputs": [
        {
          "output_type": "stream",
          "name": "stdout",
          "text": [
            "[]\n"
          ]
        }
      ],
      "source": [
        "explore_reviews_csv_query = \"\"\"\n",
        "MERGE (cwedata:Extended_Descriptions {runtime:2992})\n",
        "MERGE (Entities:Entities {rawName:\"URL encoding\"})\n",
        "MERGE (cwedata)-[:HAS_ENTITY]->(Entities)\n",
        "\n",
        "\"\"\"\n",
        "result = conn.query(explore_reviews_csv_query)\n",
        "print(result)"
      ]
    },
    {
      "cell_type": "code",
      "execution_count": 454,
      "metadata": {
        "id": "XDWUOPZfZ1Ws",
        "colab": {
          "base_uri": "https://localhost:8080/"
        },
        "outputId": "27b71f68-7595-43a0-e173-a270b2d4f391"
      },
      "outputs": [
        {
          "output_type": "stream",
          "name": "stdout",
          "text": [
            "[]\n"
          ]
        }
      ],
      "source": [
        "explore_reviews_csv_query = \"\"\"\n",
        "MERGE (cwedata:Extended_Descriptions {runtime:2992})\n",
        "MERGE (Entities:Entities {rawName:\"Unicode\"})\n",
        "MERGE (cwedata)-[:HAS_ENTITY]->(Entities)\n",
        "\n",
        "\"\"\"\n",
        "result = conn.query(explore_reviews_csv_query)\n",
        "print(result)"
      ]
    },
    {
      "cell_type": "code",
      "execution_count": 455,
      "metadata": {
        "id": "uipuN-NGaXml",
        "colab": {
          "base_uri": "https://localhost:8080/"
        },
        "outputId": "e9d15481-ab1c-435d-c38b-2f70c418dc27"
      },
      "outputs": [
        {
          "output_type": "stream",
          "name": "stdout",
          "text": [
            "[]\n"
          ]
        }
      ],
      "source": [
        "explore_reviews_csv_query = \"\"\"\n",
        "MERGE (cwedata:Extended_Descriptions {runtime:2992})\n",
        "MERGE (Entities:Entities {rawName:\"submits\"})\n",
        "MERGE (cwedata)-[:HAS_ENTITY]->(Entities)\n",
        "\n",
        "\"\"\"\n",
        "result = conn.query(explore_reviews_csv_query)\n",
        "print(result)"
      ]
    },
    {
      "cell_type": "code",
      "execution_count": 456,
      "metadata": {
        "id": "TemT9-v5aXOn",
        "colab": {
          "base_uri": "https://localhost:8080/"
        },
        "outputId": "a14f8729-5bfd-4634-a63f-6346c77a4ec0"
      },
      "outputs": [
        {
          "output_type": "stream",
          "name": "stdout",
          "text": [
            "[]\n"
          ]
        }
      ],
      "source": [
        "explore_reviews_csv_query = \"\"\"\n",
        "MERGE (cwedata:Extended_Descriptions {runtime:2992})\n",
        "MERGE (Entities:Entities {rawName:\"executable\"})\n",
        "MERGE (cwedata)-[:HAS_ENTITY]->(Entities)\n",
        "\n",
        "\"\"\"\n",
        "result = conn.query(explore_reviews_csv_query)\n",
        "print(result)"
      ]
    },
    {
      "cell_type": "code",
      "execution_count": 457,
      "metadata": {
        "id": "BwKV3J10aWxz",
        "colab": {
          "base_uri": "https://localhost:8080/"
        },
        "outputId": "531b989b-32b2-435d-857f-709909ada1e4"
      },
      "outputs": [
        {
          "output_type": "stream",
          "name": "stdout",
          "text": [
            "[]\n"
          ]
        }
      ],
      "source": [
        "explore_reviews_csv_query = \"\"\"\n",
        "MERGE (cwedata:Extended_Descriptions {runtime:2992})\n",
        "MERGE (Entities:Entities {rawName:\"untrusted\"})\n",
        "MERGE (cwedata)-[:HAS_ENTITY]->(Entities)\n",
        "\n",
        "\"\"\"\n",
        "result = conn.query(explore_reviews_csv_query)\n",
        "print(result)"
      ]
    },
    {
      "cell_type": "code",
      "execution_count": 458,
      "metadata": {
        "id": "7L81EhCOqj60",
        "colab": {
          "base_uri": "https://localhost:8080/"
        },
        "outputId": "92f0116c-f908-465d-ca8e-3f43a59e8ebc"
      },
      "outputs": [
        {
          "output_type": "stream",
          "name": "stdout",
          "text": [
            "[]\n"
          ]
        }
      ],
      "source": [
        "explore_reviews_csv_query = \"\"\"\n",
        "MERGE (cwe:CWE {cwe_id:\"89\"})\n",
        "MERGE (cwedata:Extended_Descriptions {runtime:691})\n",
        "MERGE (cwe)-[:MAPPED_WITH]->(cwedata)\n",
        "MERGE (cwedata)-[:HAS_GLOBAL_CATEGORY{weight:0.019997397708562056,source:\"wikipedia-en\",category:\"Data-centric programming languages\",page_id:925067}]->(cwe)\n",
        "MERGE (cwedata)-[:HAS_GLOBAL_CATEGORY{weight:0.009998698833835067,source:\"wikipedia-en\",category:\"Command and control\",page_id:13460558}]->(cwe)\n",
        "\n",
        "\"\"\"\n",
        "result = conn.query(explore_reviews_csv_query)\n",
        "print(result)"
      ]
    },
    {
      "cell_type": "code",
      "execution_count": 459,
      "metadata": {
        "id": "b88zBe-oHdR9",
        "colab": {
          "base_uri": "https://localhost:8080/"
        },
        "outputId": "98dc9608-a960-4a73-e238-60031bb7205f"
      },
      "outputs": [
        {
          "output_type": "stream",
          "name": "stdout",
          "text": [
            "[]\n"
          ]
        }
      ],
      "source": [
        "explore_reviews_csv_query = \"\"\"\n",
        "CALL apoc.load.json(\"https://raw.githubusercontent.com/neostrange/CveParse/main/Extended_Descriptions.json\", null, {failOnError:false})\n",
        "YIELD value\n",
        "WITH value  AS data\n",
        "WITH data\n",
        "UNWIND data.Extended_Descriptions[1].CWE.entities as Entities\n",
        "MERGE (entities:Entities{rawName:Entities.`rawName`})\n",
        "  SET \n",
        "   entities.offsetStart = Entities.offsetStart,\n",
        "   entities.offsetEnd = Entities.offsetEnd,\n",
        "   entities.confidence_score = Entities.confidence_score,\n",
        "   entities.wikipediaExternalRef = Entities.wikipediaExternalRef,\n",
        "   entities.wikidataId = Entities.wikidataId\n",
        "\n",
        "\"\"\"\n",
        "result = conn.query(explore_reviews_csv_query)\n",
        "print(result)"
      ]
    },
    {
      "cell_type": "code",
      "execution_count": 460,
      "metadata": {
        "id": "bPEACnsCaxvT",
        "colab": {
          "base_uri": "https://localhost:8080/"
        },
        "outputId": "66b122ef-504c-46dd-b010-c931934148a0"
      },
      "outputs": [
        {
          "output_type": "stream",
          "name": "stdout",
          "text": [
            "[]\n"
          ]
        }
      ],
      "source": [
        "explore_reviews_csv_query = \"\"\"\n",
        "MERGE (cwedata:Extended_Descriptions {runtime:691})\n",
        "MERGE (Entities: Entities {rawName:\"quoting\"})\n",
        "MERGE (cwedata)-[:HAS_ENTITY]->(Entities)\n",
        "\n",
        "\"\"\"\n",
        "result = conn.query(explore_reviews_csv_query)\n",
        "print(result)"
      ]
    },
    {
      "cell_type": "code",
      "execution_count": 461,
      "metadata": {
        "id": "P1-o_IWua8r7",
        "colab": {
          "base_uri": "https://localhost:8080/"
        },
        "outputId": "f4844d94-c85b-47a4-ce91-fdf244c5a3a1"
      },
      "outputs": [
        {
          "output_type": "stream",
          "name": "stdout",
          "text": [
            "[]\n"
          ]
        }
      ],
      "source": [
        "explore_reviews_csv_query = \"\"\"\n",
        "MERGE (cwedata:Extended_Descriptions {runtime:691})\n",
        "MERGE (Entities:Entities {rawName:\"SQL syntax\"})\n",
        "MERGE (cwedata)-[:HAS_ENTITY]->(Entities)\n",
        "\n",
        "\"\"\"\n",
        "result = conn.query(explore_reviews_csv_query)\n",
        "print(result)"
      ]
    },
    {
      "cell_type": "code",
      "execution_count": 462,
      "metadata": {
        "id": "FULjeSALa8Ud",
        "colab": {
          "base_uri": "https://localhost:8080/"
        },
        "outputId": "e53e36f6-2fa5-44ea-d239-1705add75f23"
      },
      "outputs": [
        {
          "output_type": "stream",
          "name": "stdout",
          "text": [
            "[]\n"
          ]
        }
      ],
      "source": [
        "explore_reviews_csv_query = \"\"\"\n",
        "MERGE (cwedata:Extended_Descriptions {runtime:691})\n",
        "MERGE (Entities:Entities {rawName:\"controllable\"})\n",
        "MERGE (cwedata)-[:HAS_ENTITY]->(Entities)\n",
        "\n",
        "\"\"\"\n",
        "result = conn.query(explore_reviews_csv_query)\n",
        "print(result)"
      ]
    },
    {
      "cell_type": "code",
      "execution_count": 463,
      "metadata": {
        "id": "5xRKxCPda78P",
        "colab": {
          "base_uri": "https://localhost:8080/"
        },
        "outputId": "6652564a-e0ed-42ae-8e37-88b36555ed20"
      },
      "outputs": [
        {
          "output_type": "stream",
          "name": "stdout",
          "text": [
            "[]\n"
          ]
        }
      ],
      "source": [
        "explore_reviews_csv_query = \"\"\"\n",
        "MERGE (cwedata:Extended_Descriptions {runtime:691})\n",
        "MERGE (Entities:Entities {rawName: \"inputs\"})\n",
        "MERGE (cwedata)-[:HAS_ENTITY]->(Entities)\n",
        "\n",
        "\"\"\"\n",
        "result = conn.query(explore_reviews_csv_query)\n",
        "print(result)"
      ]
    },
    {
      "cell_type": "code",
      "execution_count": 464,
      "metadata": {
        "id": "gTR_Tvb7a6zs",
        "colab": {
          "base_uri": "https://localhost:8080/"
        },
        "outputId": "e6b17b34-6fc4-4390-af04-b6f9d5c7ac01"
      },
      "outputs": [
        {
          "output_type": "stream",
          "name": "stdout",
          "text": [
            "[]\n"
          ]
        }
      ],
      "source": [
        "explore_reviews_csv_query = \"\"\"\n",
        "MERGE (cwedata:Extended_Descriptions {runtime:691})\n",
        "MERGE (Entities:Entities {rawName: \"SQL query\"})\n",
        "MERGE (cwedata)-[:HAS_ENTITY]->(Entities)\n",
        "\n",
        "\"\"\"\n",
        "result = conn.query(explore_reviews_csv_query)\n",
        "print(result)"
      ]
    },
    {
      "cell_type": "code",
      "execution_count": 465,
      "metadata": {
        "id": "s2gMEoP-a6l3",
        "colab": {
          "base_uri": "https://localhost:8080/"
        },
        "outputId": "1246593f-ac37-459f-d49e-a6ebb4bbc3be"
      },
      "outputs": [
        {
          "output_type": "stream",
          "name": "stdout",
          "text": [
            "[]\n"
          ]
        }
      ],
      "source": [
        "explore_reviews_csv_query = \"\"\"\n",
        "MERGE (cwedata:Extended_Descriptions {runtime:691})\n",
        "MERGE (Entities:Entities {rawName: \"interpreted\"})\n",
        "MERGE (cwedata)-[:HAS_ENTITY]->(Entities)\n",
        "\n",
        "\"\"\"\n",
        "result = conn.query(explore_reviews_csv_query)\n",
        "print(result)"
      ]
    },
    {
      "cell_type": "code",
      "execution_count": 466,
      "metadata": {
        "id": "LflKi3N2a6YD",
        "colab": {
          "base_uri": "https://localhost:8080/"
        },
        "outputId": "e8af8068-e289-41b1-c62a-044cda888ed1"
      },
      "outputs": [
        {
          "output_type": "stream",
          "name": "stdout",
          "text": [
            "[]\n"
          ]
        }
      ],
      "source": [
        "explore_reviews_csv_query = \"\"\"\n",
        "MERGE (cwedata:Extended_Descriptions {runtime:691})\n",
        "MERGE (Entities:Entities {rawName: \"SQL\"})\n",
        "MERGE (cwedata)-[:HAS_ENTITY]->(Entities)\n",
        "\n",
        "\"\"\"\n",
        "result = conn.query(explore_reviews_csv_query)\n",
        "print(result)"
      ]
    },
    {
      "cell_type": "code",
      "execution_count": 467,
      "metadata": {
        "id": "txN-xxFBa6J4",
        "colab": {
          "base_uri": "https://localhost:8080/"
        },
        "outputId": "257d041a-dceb-489f-b8b8-c35aec3f763c"
      },
      "outputs": [
        {
          "output_type": "stream",
          "name": "stdout",
          "text": [
            "[]\n"
          ]
        }
      ],
      "source": [
        "explore_reviews_csv_query = \"\"\"\n",
        "MERGE (cwedata:Extended_Descriptions {runtime:691})\n",
        "MERGE (Entities:Entities {rawName: \"user data\"})\n",
        "MERGE (cwedata)-[:HAS_ENTITY]->(Entities)\n",
        "\n",
        "\"\"\"\n",
        "result = conn.query(explore_reviews_csv_query)\n",
        "print(result)"
      ]
    },
    {
      "cell_type": "code",
      "execution_count": 468,
      "metadata": {
        "id": "mWHdeVRXa5x2",
        "colab": {
          "base_uri": "https://localhost:8080/"
        },
        "outputId": "08c7c28e-1c64-49b4-9dba-0f34b112fc10"
      },
      "outputs": [
        {
          "output_type": "stream",
          "name": "stdout",
          "text": [
            "[]\n"
          ]
        }
      ],
      "source": [
        "explore_reviews_csv_query = \"\"\"\n",
        "MERGE (cwedata:Extended_Descriptions {runtime:691})\n",
        "MERGE (Entities:Entities {rawName: \"query\"})\n",
        "MERGE (cwedata)-[:HAS_ENTITY]->(Entities)\n",
        "\n",
        "\"\"\"\n",
        "result = conn.query(explore_reviews_csv_query)\n",
        "print(result)"
      ]
    },
    {
      "cell_type": "code",
      "execution_count": 469,
      "metadata": {
        "id": "L4Cbn54Wa5j-",
        "colab": {
          "base_uri": "https://localhost:8080/"
        },
        "outputId": "4c689d55-73a6-4d9e-94f6-533f1be823a2"
      },
      "outputs": [
        {
          "output_type": "stream",
          "name": "stdout",
          "text": [
            "[]\n"
          ]
        }
      ],
      "source": [
        "explore_reviews_csv_query = \"\"\"\n",
        "MERGE (cwedata:Extended_Descriptions {runtime:691})\n",
        "MERGE (Entities:Entities {rawName: \"bypass\"})\n",
        "MERGE (cwedata)-[:HAS_ENTITY]->(Entities)\n",
        "\n",
        "\"\"\"\n",
        "result = conn.query(explore_reviews_csv_query)\n",
        "print(result)"
      ]
    },
    {
      "cell_type": "code",
      "execution_count": 470,
      "metadata": {
        "id": "PLIaYsOBa5V_",
        "colab": {
          "base_uri": "https://localhost:8080/"
        },
        "outputId": "a067c2ca-7db4-4051-c805-54c5f3f612fa"
      },
      "outputs": [
        {
          "output_type": "stream",
          "name": "stdout",
          "text": [
            "[]\n"
          ]
        }
      ],
      "source": [
        "explore_reviews_csv_query = \"\"\"\n",
        "MERGE (cwedata:Extended_Descriptions {runtime:691})\n",
        "MERGE (Entities:Entities {rawName: \"security checks\"})\n",
        "MERGE (cwedata)-[:HAS_ENTITY]->(Entities)\n",
        "\n",
        "\"\"\"\n",
        "result = conn.query(explore_reviews_csv_query)\n",
        "print(result)"
      ]
    },
    {
      "cell_type": "code",
      "execution_count": 471,
      "metadata": {
        "id": "RfpOt2vgYUmU",
        "colab": {
          "base_uri": "https://localhost:8080/"
        },
        "outputId": "7ce98799-1bc6-444a-b150-2f5a476afdc7"
      },
      "outputs": [
        {
          "output_type": "stream",
          "name": "stdout",
          "text": [
            "[]\n"
          ]
        }
      ],
      "source": [
        "explore_reviews_csv_query = \"\"\"\n",
        "MERGE (cwedata:Extended_Descriptions {runtime:691})\n",
        "MERGE (Entities:Entities {rawName: \"insert\"})\n",
        "MERGE (cwedata)-[:HAS_ENTITY]->(Entities)\n",
        "\n",
        "\"\"\"\n",
        "result = conn.query(explore_reviews_csv_query)\n",
        "print(result)"
      ]
    },
    {
      "cell_type": "code",
      "execution_count": 472,
      "metadata": {
        "id": "HBbEWUl1YUf3",
        "colab": {
          "base_uri": "https://localhost:8080/"
        },
        "outputId": "6269ec23-2b51-4dd0-bece-adcd346abd18"
      },
      "outputs": [
        {
          "output_type": "stream",
          "name": "stdout",
          "text": [
            "[]\n"
          ]
        }
      ],
      "source": [
        "explore_reviews_csv_query = \"\"\"\n",
        "MERGE (cwedata:Extended_Descriptions {runtime:691})\n",
        "MERGE (Entities:Entities {rawName: \"modify\"})\n",
        "MERGE (cwedata)-[:HAS_ENTITY]->(Entities)\n",
        "\n",
        "\"\"\"\n",
        "result = conn.query(explore_reviews_csv_query)\n",
        "print(result)"
      ]
    },
    {
      "cell_type": "code",
      "execution_count": 473,
      "metadata": {
        "id": "Ln7F82zjYUYY",
        "colab": {
          "base_uri": "https://localhost:8080/"
        },
        "outputId": "e1020ecd-b75d-4d30-ca7a-d041f0f6b82a"
      },
      "outputs": [
        {
          "output_type": "stream",
          "name": "stdout",
          "text": [
            "[]\n"
          ]
        }
      ],
      "source": [
        "explore_reviews_csv_query = \"\"\"\n",
        "MERGE (cwedata:Extended_Descriptions {runtime:691})\n",
        "MERGE (Entities:Entities {rawName: \"back-end database\"})\n",
        "MERGE (cwedata)-[:HAS_ENTITY]->(Entities)\n",
        "\n",
        "\"\"\"\n",
        "result = conn.query(explore_reviews_csv_query)\n",
        "print(result)"
      ]
    },
    {
      "cell_type": "code",
      "execution_count": 474,
      "metadata": {
        "id": "QMFMevCFYUQg",
        "colab": {
          "base_uri": "https://localhost:8080/"
        },
        "outputId": "155f7608-9cbf-495b-fa84-69f6240c0ac9"
      },
      "outputs": [
        {
          "output_type": "stream",
          "name": "stdout",
          "text": [
            "[]\n"
          ]
        }
      ],
      "source": [
        "explore_reviews_csv_query = \"\"\"\n",
        "MERGE (cwedata:Extended_Descriptions {runtime:691})\n",
        "MERGE (Entities:Entities {rawName: \"commands\"})\n",
        "MERGE (cwedata)-[:HAS_ENTITY]->(Entities)\n",
        "\n",
        "\"\"\"\n",
        "result = conn.query(explore_reviews_csv_query)\n",
        "print(result)"
      ]
    },
    {
      "cell_type": "code",
      "execution_count": 475,
      "metadata": {
        "id": "t0Jeu1SdYUH_",
        "colab": {
          "base_uri": "https://localhost:8080/"
        },
        "outputId": "1a2a6bbe-de50-4a9d-8b5a-7e7746accb3b"
      },
      "outputs": [
        {
          "output_type": "stream",
          "name": "stdout",
          "text": [
            "[]\n"
          ]
        }
      ],
      "source": [
        "explore_reviews_csv_query = \"\"\"\n",
        "MERGE (cwedata:Extended_Descriptions {runtime:691})\n",
        "MERGE (Entities:Entities {rawName: \"SQL injection\"})\n",
        "MERGE (cwedata)-[:HAS_ENTITY]->(Entities)\n",
        "\n",
        "\"\"\"\n",
        "result = conn.query(explore_reviews_csv_query)\n",
        "print(result)"
      ]
    },
    {
      "cell_type": "code",
      "execution_count": 476,
      "metadata": {
        "id": "9H_0ss1TYT_g",
        "colab": {
          "base_uri": "https://localhost:8080/"
        },
        "outputId": "ec6b3155-f421-4d6e-a758-326f1ff59844"
      },
      "outputs": [
        {
          "output_type": "stream",
          "name": "stdout",
          "text": [
            "[]\n"
          ]
        }
      ],
      "source": [
        "explore_reviews_csv_query = \"\"\"\n",
        "MERGE (cwedata:Extended_Descriptions {runtime:691})\n",
        "MERGE (Entities:Entities {rawName: \"database-driven\"})\n",
        "MERGE (cwedata)-[:HAS_ENTITY]->(Entities)\n",
        "\n",
        "\"\"\"\n",
        "result = conn.query(explore_reviews_csv_query)\n",
        "print(result)"
      ]
    },
    {
      "cell_type": "code",
      "execution_count": 477,
      "metadata": {
        "id": "NPhir1DHYT15",
        "colab": {
          "base_uri": "https://localhost:8080/"
        },
        "outputId": "42f8dfc1-d53a-44cc-9939-73352a6b26e7"
      },
      "outputs": [
        {
          "output_type": "stream",
          "name": "stdout",
          "text": [
            "[]\n"
          ]
        }
      ],
      "source": [
        "explore_reviews_csv_query = \"\"\"\n",
        "MERGE (cwedata:Extended_Descriptions {runtime:691})\n",
        "MERGE (Entities:Entities {rawName: \"web sites\"})\n",
        "MERGE (cwedata)-[:HAS_ENTITY]->(Entities)\n",
        "\n",
        "\"\"\"\n",
        "result = conn.query(explore_reviews_csv_query)\n",
        "print(result)"
      ]
    },
    {
      "cell_type": "code",
      "execution_count": 478,
      "metadata": {
        "id": "e4CxeljFYjgU",
        "colab": {
          "base_uri": "https://localhost:8080/"
        },
        "outputId": "3c67f253-1d4b-4b37-cec7-8f31f7c9a0dc"
      },
      "outputs": [
        {
          "output_type": "stream",
          "name": "stdout",
          "text": [
            "[]\n"
          ]
        }
      ],
      "source": [
        "explore_reviews_csv_query = \"\"\"\n",
        "MERGE (cwedata:Extended_Descriptions {runtime:691})\n",
        "MERGE (Entities:Entities {rawName: \"flaw\"})\n",
        "MERGE (cwedata)-[:HAS_ENTITY]->(Entities)\n",
        "\n",
        "\"\"\"\n",
        "result = conn.query(explore_reviews_csv_query)\n",
        "print(result)"
      ]
    },
    {
      "cell_type": "code",
      "execution_count": 479,
      "metadata": {
        "id": "WmZiJhOXYko2",
        "colab": {
          "base_uri": "https://localhost:8080/"
        },
        "outputId": "43d9384c-4e4a-43d7-ce28-25fdcbae896b"
      },
      "outputs": [
        {
          "output_type": "stream",
          "name": "stdout",
          "text": [
            "[]\n"
          ]
        }
      ],
      "source": [
        "explore_reviews_csv_query = \"\"\"\n",
        "MERGE (cwedata:Extended_Descriptions {runtime:691})\n",
        "MERGE (Entities:Entities {rawName: \"exploited\"})\n",
        "MERGE (cwedata)-[:HAS_ENTITY]->(Entities)\n",
        "\n",
        "\"\"\"\n",
        "result = conn.query(explore_reviews_csv_query)\n",
        "print(result)"
      ]
    },
    {
      "cell_type": "code",
      "execution_count": 480,
      "metadata": {
        "id": "GKD9yXs6YjNy",
        "colab": {
          "base_uri": "https://localhost:8080/"
        },
        "outputId": "10061504-37ed-4bcb-d831-3fea43110a2e"
      },
      "outputs": [
        {
          "output_type": "stream",
          "name": "stdout",
          "text": [
            "[]\n"
          ]
        }
      ],
      "source": [
        "explore_reviews_csv_query = \"\"\"\n",
        "MERGE (cwedata:Extended_Descriptions {runtime:691})\n",
        "MERGE (Entities:Entities {rawName: \"software package\"})\n",
        "MERGE (cwedata)-[:HAS_ENTITY]->(Entities)\n",
        "\n",
        "\"\"\"\n",
        "result = conn.query(explore_reviews_csv_query)\n",
        "print(result)"
      ]
    },
    {
      "cell_type": "code",
      "execution_count": 481,
      "metadata": {
        "id": "DeF7lGrNYi93",
        "colab": {
          "base_uri": "https://localhost:8080/"
        },
        "outputId": "cc902354-604a-4a5c-844d-f2ae79fe1d6f"
      },
      "outputs": [
        {
          "output_type": "stream",
          "name": "stdout",
          "text": [
            "[]\n"
          ]
        }
      ],
      "source": [
        "explore_reviews_csv_query = \"\"\"\n",
        "MERGE (cwedata:Extended_Descriptions {runtime:691})\n",
        "MERGE (Entities:Entities {rawName: \"user base\"})\n",
        "MERGE (cwedata)-[:HAS_ENTITY]->(Entities)\n",
        "\n",
        "\"\"\"\n",
        "result = conn.query(explore_reviews_csv_query)\n",
        "print(result)"
      ]
    },
    {
      "cell_type": "code",
      "execution_count": 482,
      "metadata": {
        "id": "PkhWIl3tqnoG",
        "colab": {
          "base_uri": "https://localhost:8080/"
        },
        "outputId": "2cee7455-1544-461f-ceba-2452c55d36cd"
      },
      "outputs": [
        {
          "output_type": "stream",
          "name": "stdout",
          "text": [
            "[]\n"
          ]
        }
      ],
      "source": [
        "explore_reviews_csv_query = \"\"\"\n",
        "MERGE (cwe:CWE {cwe_id:\"94\"})\n",
        "MERGE (cwedata:Extended_Descriptions {runtime:833})\n",
        "MERGE (cwe)-[:MAPPED_WITH]->(cwedata)\n",
        "MERGE (cwedata)-[:HAS_GLOBAL_CATEGORY{weight:0.0901926432383948,source:\"wikipedia-en\",category:\"Computer security exploits\",page_id:22272764}]->(cwe)\n",
        "MERGE (cwedata)-[:HAS_GLOBAL_CATEGORY{weight:0.06764448218898413,source:\"wikipedia-en\",category:\"Hacking (computer security)\",page_id:11647669}]->(cwe)\n",
        "MERGE (cwedata)-[:HAS_GLOBAL_CATEGORY{weight:0.022548160729661378,source:\"wikipedia-en\",category:\"Programming language topics\",page_id:5699671}]->(cwe)\n",
        "\n",
        "\"\"\"\n",
        "result = conn.query(explore_reviews_csv_query)\n",
        "print(result)"
      ]
    },
    {
      "cell_type": "code",
      "execution_count": 483,
      "metadata": {
        "id": "5p7fR7f9IUuc",
        "colab": {
          "base_uri": "https://localhost:8080/"
        },
        "outputId": "39c6381e-0c4f-404d-b253-8b165bc6dfb7"
      },
      "outputs": [
        {
          "output_type": "stream",
          "name": "stdout",
          "text": [
            "[]\n"
          ]
        }
      ],
      "source": [
        "explore_reviews_csv_query = \"\"\"\n",
        "CALL apoc.load.json(\"https://raw.githubusercontent.com/neostrange/CveParse/main/Extended_Descriptions.json\", null, {failOnError:false})\n",
        "YIELD value\n",
        "WITH value  AS data\n",
        "WITH data\n",
        "UNWIND data.Extended_Descriptions[2].CWE.entities as Entities\n",
        "MERGE (entities:Entities{rawName:Entities.`rawName`})\n",
        "  SET \n",
        "   entities.offsetStart = Entities.offsetStart,\n",
        "   entities.offsetEnd = Entities.offsetEnd,\n",
        "   entities.confidence_score = Entities.confidence_score,\n",
        "   entities.wikipediaExternalRef = Entities.wikipediaExternalRef,\n",
        "   entities.wikidataId = Entities.wikidataId\n",
        "\n",
        "\"\"\"\n",
        "result = conn.query(explore_reviews_csv_query)\n",
        "print(result)"
      ]
    },
    {
      "cell_type": "code",
      "execution_count": 484,
      "metadata": {
        "id": "GdLpeHbgbQPT",
        "colab": {
          "base_uri": "https://localhost:8080/"
        },
        "outputId": "fdec733a-c4fc-4132-af0c-96483c1a708f"
      },
      "outputs": [
        {
          "output_type": "stream",
          "name": "stdout",
          "text": [
            "[]\n"
          ]
        }
      ],
      "source": [
        "explore_reviews_csv_query = \"\"\"\n",
        "MERGE (cwedata:Extended_Descriptions {runtime: 833})\n",
        "MERGE (Entities:Entities {rawName: \"syntax\"})\n",
        "MERGE (cwedata)-[:HAS_ENTITY]->(Entities)\n",
        "\n",
        "\"\"\"\n",
        "result = conn.query(explore_reviews_csv_query)\n",
        "print(result)"
      ]
    },
    {
      "cell_type": "code",
      "execution_count": 485,
      "metadata": {
        "id": "YQbTFcRWbSRv",
        "colab": {
          "base_uri": "https://localhost:8080/"
        },
        "outputId": "b6459811-bf3c-4ff5-e225-2b3d4cefb061"
      },
      "outputs": [
        {
          "output_type": "stream",
          "name": "stdout",
          "text": [
            "[]\n"
          ]
        }
      ],
      "source": [
        "explore_reviews_csv_query = \"\"\"\n",
        "MERGE (cwedata:Extended_Descriptions {runtime: 833})\n",
        "MERGE (Entities:Entities {rawName: \"attacker\"})\n",
        "MERGE (cwedata)-[:HAS_ENTITY]->(Entities)\n",
        "\n",
        "\"\"\"\n",
        "result = conn.query(explore_reviews_csv_query)\n",
        "print(result)"
      ]
    },
    {
      "cell_type": "code",
      "execution_count": 486,
      "metadata": {
        "id": "LUjBZi75bR08",
        "colab": {
          "base_uri": "https://localhost:8080/"
        },
        "outputId": "3504a69d-8b7c-46bc-a068-e919ac40a9ff"
      },
      "outputs": [
        {
          "output_type": "stream",
          "name": "stdout",
          "text": [
            "[]\n"
          ]
        }
      ],
      "source": [
        "explore_reviews_csv_query = \"\"\"\n",
        "MERGE (cwedata:Extended_Descriptions {runtime: 833})\n",
        "MERGE (Entities:Entities {rawName: \"control flow\"})\n",
        "MERGE (cwedata)-[:HAS_ENTITY]->(Entities)\n",
        "\n",
        "\"\"\"\n",
        "result = conn.query(explore_reviews_csv_query)\n",
        "print(result)"
      ]
    },
    {
      "cell_type": "code",
      "execution_count": 487,
      "metadata": {
        "id": "CPVz-IYoijva",
        "colab": {
          "base_uri": "https://localhost:8080/"
        },
        "outputId": "06ae46d6-3199-41b8-b775-d654c13cacf6"
      },
      "outputs": [
        {
          "output_type": "stream",
          "name": "stdout",
          "text": [
            "[]\n"
          ]
        }
      ],
      "source": [
        "explore_reviews_csv_query = \"\"\"\n",
        "MERGE (cwedata:Extended_Descriptions {runtime: 833})\n",
        "MERGE (Entities:Entities {rawName: \"alteration\"})\n",
        "MERGE (cwedata)-[:HAS_ENTITY]->(Entities)\n",
        "\n",
        "\"\"\"\n",
        "result = conn.query(explore_reviews_csv_query)\n",
        "print(result)"
      ]
    },
    {
      "cell_type": "code",
      "execution_count": 488,
      "metadata": {
        "id": "fa6GjVdAijsE",
        "colab": {
          "base_uri": "https://localhost:8080/"
        },
        "outputId": "61f38dc2-45a1-4086-dac0-565a142b77ba"
      },
      "outputs": [
        {
          "output_type": "stream",
          "name": "stdout",
          "text": [
            "[]\n"
          ]
        }
      ],
      "source": [
        "explore_reviews_csv_query = \"\"\"\n",
        "MERGE (cwedata:Extended_Descriptions {runtime: 833})\n",
        "MERGE (Entities:Entities {rawName: \"arbitrary code execution\"})\n",
        "MERGE (cwedata)-[:HAS_ENTITY]->(Entities)\n",
        "\n",
        "\"\"\"\n",
        "result = conn.query(explore_reviews_csv_query)\n",
        "print(result)"
      ]
    },
    {
      "cell_type": "code",
      "execution_count": 489,
      "metadata": {
        "id": "9mGZ5SmDijo-",
        "colab": {
          "base_uri": "https://localhost:8080/"
        },
        "outputId": "b7fc0965-b259-4187-c9a5-4da407f324e9"
      },
      "outputs": [
        {
          "output_type": "stream",
          "name": "stdout",
          "text": [
            "[]\n"
          ]
        }
      ],
      "source": [
        "explore_reviews_csv_query = \"\"\"\n",
        "MERGE (cwedata:Extended_Descriptions {runtime: 833})\n",
        "MERGE (Entities:Entities {rawName: \"Injection\"})\n",
        "MERGE (cwedata)-[:HAS_ENTITY]->(Entities)\n",
        "\n",
        "\"\"\"\n",
        "result = conn.query(explore_reviews_csv_query)\n",
        "print(result)"
      ]
    },
    {
      "cell_type": "code",
      "execution_count": 490,
      "metadata": {
        "id": "esTBbvRaijmJ",
        "colab": {
          "base_uri": "https://localhost:8080/"
        },
        "outputId": "de2b81ea-b083-4d48-edd6-3b7a3d8df487"
      },
      "outputs": [
        {
          "output_type": "stream",
          "name": "stdout",
          "text": [
            "[]\n"
          ]
        }
      ],
      "source": [
        "explore_reviews_csv_query = \"\"\"\n",
        "MERGE (cwedata:Extended_Descriptions {runtime: 833})\n",
        "MERGE (Entities:Entities {rawName: \"wide variety\"})\n",
        "MERGE (cwedata)-[:HAS_ENTITY]->(Entities)\n",
        "\n",
        "\"\"\"\n",
        "result = conn.query(explore_reviews_csv_query)\n",
        "print(result)"
      ]
    },
    {
      "cell_type": "code",
      "execution_count": 491,
      "metadata": {
        "id": "7U9hs8VUijiz",
        "colab": {
          "base_uri": "https://localhost:8080/"
        },
        "outputId": "19d246fe-2d1e-420b-9dcc-145002acc3e7"
      },
      "outputs": [
        {
          "output_type": "stream",
          "name": "stdout",
          "text": [
            "[]\n"
          ]
        }
      ],
      "source": [
        "explore_reviews_csv_query = \"\"\"\n",
        "MERGE (cwedata:Extended_Descriptions {runtime: 833})\n",
        "MERGE (Entities:Entities {rawName: \"mitigated\"})\n",
        "MERGE (cwedata)-[:HAS_ENTITY]->(Entities)\n",
        "\n",
        "\"\"\"\n",
        "result = conn.query(explore_reviews_csv_query)\n",
        "print(result)"
      ]
    },
    {
      "cell_type": "code",
      "execution_count": 492,
      "metadata": {
        "id": "HKiVd7DhijgI",
        "colab": {
          "base_uri": "https://localhost:8080/"
        },
        "outputId": "7ce007d2-ee39-4138-acb0-2adc1d49e9c1"
      },
      "outputs": [
        {
          "output_type": "stream",
          "name": "stdout",
          "text": [
            "[]\n"
          ]
        }
      ],
      "source": [
        "explore_reviews_csv_query = \"\"\"\n",
        "MERGE (cwedata:Extended_Descriptions {runtime: 833})\n",
        "MERGE (Entities:Entities {rawName: \"weaknesses\"})\n",
        "MERGE (cwedata)-[:HAS_ENTITY]->(Entities)\n",
        "\n",
        "\"\"\"\n",
        "result = conn.query(explore_reviews_csv_query)\n",
        "print(result)"
      ]
    },
    {
      "cell_type": "code",
      "execution_count": 493,
      "metadata": {
        "id": "qvnuconcijcu",
        "colab": {
          "base_uri": "https://localhost:8080/"
        },
        "outputId": "087e188d-b17d-4b98-d532-1ad278738d0d"
      },
      "outputs": [
        {
          "output_type": "stream",
          "name": "stdout",
          "text": [
            "[]\n"
          ]
        }
      ],
      "source": [
        "explore_reviews_csv_query = \"\"\"\n",
        "MERGE (cwedata:Extended_Descriptions {runtime: 833})\n",
        "MERGE (Entities:Entities {rawName: \"classify\"})\n",
        "MERGE (cwedata)-[:HAS_ENTITY]->(Entities)\n",
        "\n",
        "\"\"\"\n",
        "result = conn.query(explore_reviews_csv_query)\n",
        "print(result)"
      ]
    },
    {
      "cell_type": "code",
      "execution_count": 494,
      "metadata": {
        "id": "wA-y3JQgijX6",
        "colab": {
          "base_uri": "https://localhost:8080/"
        },
        "outputId": "eb3285fa-f90a-40b7-8e8d-b42f46f52e25"
      },
      "outputs": [
        {
          "output_type": "stream",
          "name": "stdout",
          "text": [
            "[]\n"
          ]
        }
      ],
      "source": [
        "explore_reviews_csv_query = \"\"\"\n",
        "MERGE (cwedata:Extended_Descriptions {runtime: 833})\n",
        "MERGE (Entities:Entities {rawName: \"injection\"})\n",
        "MERGE (cwedata)-[:HAS_ENTITY]->(Entities)\n",
        "\n",
        "\"\"\"\n",
        "result = conn.query(explore_reviews_csv_query)\n",
        "print(result)"
      ]
    },
    {
      "cell_type": "code",
      "execution_count": 495,
      "metadata": {
        "id": "vFVgzkyeijVQ",
        "colab": {
          "base_uri": "https://localhost:8080/"
        },
        "outputId": "8617ab1b-eae4-482c-afda-0197f0e3545a"
      },
      "outputs": [
        {
          "output_type": "stream",
          "name": "stdout",
          "text": [
            "[]\n"
          ]
        }
      ],
      "source": [
        "explore_reviews_csv_query = \"\"\"\n",
        "MERGE (cwedata:Extended_Descriptions {runtime: 833})\n",
        "MERGE (Entities:Entities {rawName: \"control plane\"})\n",
        "MERGE (cwedata)-[:HAS_ENTITY]->(Entities)\n",
        "\n",
        "\"\"\"\n",
        "result = conn.query(explore_reviews_csv_query)\n",
        "print(result)"
      ]
    },
    {
      "cell_type": "code",
      "execution_count": 496,
      "metadata": {
        "id": "wwvew0ZIijSn",
        "colab": {
          "base_uri": "https://localhost:8080/"
        },
        "outputId": "2a2e4cce-b350-4c81-a8b7-955a1847d39c"
      },
      "outputs": [
        {
          "output_type": "stream",
          "name": "stdout",
          "text": [
            "[]\n"
          ]
        }
      ],
      "source": [
        "explore_reviews_csv_query = \"\"\"\n",
        "MERGE (cwedata:Extended_Descriptions {runtime: 833})\n",
        "MERGE (Entities:Entities {rawName: \"controlled data\"})\n",
        "MERGE (cwedata)-[:HAS_ENTITY]->(Entities)\n",
        "\n",
        "\"\"\"\n",
        "result = conn.query(explore_reviews_csv_query)\n",
        "print(result)"
      ]
    },
    {
      "cell_type": "code",
      "execution_count": 497,
      "metadata": {
        "id": "kYx-6eSiijPV",
        "colab": {
          "base_uri": "https://localhost:8080/"
        },
        "outputId": "0267961e-1e0d-46de-f869-1465f0adcf79"
      },
      "outputs": [
        {
          "output_type": "stream",
          "name": "stdout",
          "text": [
            "[]\n"
          ]
        }
      ],
      "source": [
        "explore_reviews_csv_query = \"\"\"\n",
        "MERGE (cwedata:Extended_Descriptions {runtime: 833})\n",
        "MERGE (Entities:Entities {rawName: \"data channels\"})\n",
        "MERGE (cwedata)-[:HAS_ENTITY]->(Entities)\n",
        "\n",
        "\"\"\"\n",
        "result = conn.query(explore_reviews_csv_query)\n",
        "print(result)"
      ]
    },
    {
      "cell_type": "code",
      "execution_count": 498,
      "metadata": {
        "id": "1OHqXds_ijMA",
        "colab": {
          "base_uri": "https://localhost:8080/"
        },
        "outputId": "a147de4f-3579-4324-8efd-0700a54a874d"
      },
      "outputs": [
        {
          "output_type": "stream",
          "name": "stdout",
          "text": [
            "[]\n"
          ]
        }
      ],
      "source": [
        "explore_reviews_csv_query = \"\"\"\n",
        "MERGE (cwedata:Extended_Descriptions {runtime: 833})\n",
        "MERGE (Entities:Entities {rawName: \"buffer overflows\"})\n",
        "MERGE (cwedata)-[:HAS_ENTITY]->(Entities)\n",
        "\n",
        "\"\"\"\n",
        "result = conn.query(explore_reviews_csv_query)\n",
        "print(result)"
      ]
    },
    {
      "cell_type": "code",
      "execution_count": 499,
      "metadata": {
        "id": "JDAiRDkVbRk8",
        "colab": {
          "base_uri": "https://localhost:8080/"
        },
        "outputId": "a27f883f-7a89-4f0f-92ee-c1e86c87e0a9"
      },
      "outputs": [
        {
          "output_type": "stream",
          "name": "stdout",
          "text": [
            "[]\n"
          ]
        }
      ],
      "source": [
        "explore_reviews_csv_query = \"\"\"\n",
        "MERGE (cwedata:Extended_Descriptions {runtime: 833})\n",
        "MERGE (Entities:Entities {rawName: \"flaws\"})\n",
        "MERGE (cwedata)-[:HAS_ENTITY]->(Entities)\n",
        "\n",
        "\"\"\"\n",
        "result = conn.query(explore_reviews_csv_query)\n",
        "print(result)"
      ]
    },
    {
      "cell_type": "code",
      "execution_count": 500,
      "metadata": {
        "id": "FHLNbMk6lew2",
        "colab": {
          "base_uri": "https://localhost:8080/"
        },
        "outputId": "d61f14be-a88f-461b-83b0-07f870efe7ab"
      },
      "outputs": [
        {
          "output_type": "stream",
          "name": "stdout",
          "text": [
            "[]\n"
          ]
        }
      ],
      "source": [
        "explore_reviews_csv_query = \"\"\"\n",
        "MERGE (cwedata:Extended_Descriptions {runtime: 833})\n",
        "MERGE (Entities:Entities {rawName: \"parsed\"})\n",
        "MERGE (cwedata)-[:HAS_ENTITY]->(Entities)\n",
        "\n",
        "\"\"\"\n",
        "result = conn.query(explore_reviews_csv_query)\n",
        "print(result)"
      ]
    },
    {
      "cell_type": "code",
      "execution_count": 501,
      "metadata": {
        "id": "Q8WqqdT3lmSD",
        "colab": {
          "base_uri": "https://localhost:8080/"
        },
        "outputId": "f479855b-fbcc-4f9c-c542-50e27787cfd1"
      },
      "outputs": [
        {
          "output_type": "stream",
          "name": "stdout",
          "text": [
            "[]\n"
          ]
        }
      ],
      "source": [
        "explore_reviews_csv_query = \"\"\"\n",
        "MERGE (cwedata:Extended_Descriptions {runtime: 833})\n",
        "MERGE (Entities:Entities {rawName: \"instantiations\"})\n",
        "MERGE (cwedata)-[:HAS_ENTITY]->(Entities)\n",
        "\n",
        "\"\"\"\n",
        "result = conn.query(explore_reviews_csv_query)\n",
        "print(result)"
      ]
    },
    {
      "cell_type": "code",
      "execution_count": 502,
      "metadata": {
        "id": "_1IxmXG2lmDb",
        "colab": {
          "base_uri": "https://localhost:8080/"
        },
        "outputId": "32bc0fa1-1eb2-432c-b0bf-465d88cda7bb"
      },
      "outputs": [
        {
          "output_type": "stream",
          "name": "stdout",
          "text": [
            "[]\n"
          ]
        }
      ],
      "source": [
        "explore_reviews_csv_query = \"\"\"\n",
        "MERGE (cwedata:Extended_Descriptions {runtime: 833})\n",
        "MERGE (Entities:Entities {rawName: \"SQL injection\"})\n",
        "MERGE (cwedata)-[:HAS_ENTITY]->(Entities)\n",
        "\n",
        "\"\"\"\n",
        "result = conn.query(explore_reviews_csv_query)\n",
        "print(result)"
      ]
    },
    {
      "cell_type": "code",
      "execution_count": 503,
      "metadata": {
        "id": "7kxNzBnrll2X",
        "colab": {
          "base_uri": "https://localhost:8080/"
        },
        "outputId": "393eeebf-a29a-487a-dec7-618741a9bab2"
      },
      "outputs": [
        {
          "output_type": "stream",
          "name": "stdout",
          "text": [
            "[]\n"
          ]
        }
      ],
      "source": [
        "explore_reviews_csv_query = \"\"\"\n",
        "MERGE (cwedata:Extended_Descriptions {runtime: 833})\n",
        "MERGE (Entities:Entities {rawName: \"format string vulnerabilities\"})\n",
        "MERGE (cwedata)-[:HAS_ENTITY]->(Entities)\n",
        "\n",
        "\"\"\"\n",
        "result = conn.query(explore_reviews_csv_query)\n",
        "print(result)"
      ]
    },
    {
      "cell_type": "code",
      "execution_count": 504,
      "metadata": {
        "id": "x6kQFPSkqo2q",
        "colab": {
          "base_uri": "https://localhost:8080/"
        },
        "outputId": "ddde1d9c-a4fc-4edf-de72-42de1703f195"
      },
      "outputs": [
        {
          "output_type": "stream",
          "name": "stdout",
          "text": [
            "[]\n"
          ]
        }
      ],
      "source": [
        "explore_reviews_csv_query = \"\"\"\n",
        "MERGE (cwe:CWE {cwe_id:\"200\"})\n",
        "MERGE (cwedata:Extended_Descriptions {runtime:1302})\n",
        "MERGE (cwe)-[:MAPPED_WITH]->(cwedata)\n",
        "MERGE (cwedata)-[:HAS_GLOBAL_CATEGORY{weight:0.009935460988123061,source:\"wikipedia-en\",category:\"Construction\",page_id:755979}]->(cwe)\n",
        "MERGE (cwedata)-[:HAS_GLOBAL_CATEGORY{weight:0.009935460988123061,source:\"wikipedia-en\",category:\"File sharing\",page_id:802056}]->(cwe)\n",
        "\n",
        "\"\"\"\n",
        "result = conn.query(explore_reviews_csv_query)\n",
        "print(result)"
      ]
    },
    {
      "cell_type": "code",
      "execution_count": 505,
      "metadata": {
        "id": "oC33BGS3IXRe",
        "colab": {
          "base_uri": "https://localhost:8080/"
        },
        "outputId": "2d1ad0aa-8e07-46b8-fc09-704c8e733d93"
      },
      "outputs": [
        {
          "output_type": "stream",
          "name": "stdout",
          "text": [
            "[]\n"
          ]
        }
      ],
      "source": [
        "explore_reviews_csv_query = \"\"\"\n",
        "CALL apoc.load.json(\"https://raw.githubusercontent.com/neostrange/CveParse/main/Extended_Descriptions.json\", null, {failOnError:false})\n",
        "YIELD value\n",
        "WITH value  AS data\n",
        "WITH data\n",
        "UNWIND data.Extended_Descriptions[3].CWE.entities as Entities\n",
        "MERGE (entities:Entities{rawName:Entities.`rawName`})\n",
        "  SET \n",
        "   entities.offsetStart = Entities.offsetStart,\n",
        "   entities.offsetEnd = Entities.offsetEnd,\n",
        "   entities.confidence_score = Entities.confidence_score,\n",
        "   entities.wikipediaExternalRef = Entities.wikipediaExternalRef,\n",
        "   entities.wikidataId = Entities.wikidataId\n",
        "\n",
        "\"\"\"\n",
        "result = conn.query(explore_reviews_csv_query)\n",
        "print(result)"
      ]
    },
    {
      "cell_type": "code",
      "execution_count": 506,
      "metadata": {
        "id": "RyJp_yHxba7l",
        "colab": {
          "base_uri": "https://localhost:8080/"
        },
        "outputId": "26b83a81-6025-4d88-80f6-24583a14fff5"
      },
      "outputs": [
        {
          "output_type": "stream",
          "name": "stdout",
          "text": [
            "[]\n"
          ]
        }
      ],
      "source": [
        "explore_reviews_csv_query = \"\"\"\n",
        "MERGE (cwedata:Extended_Descriptions {runtime: 1302})\n",
        "MERGE (Entities:Entities {rawName: \"exposures\"})\n",
        "MERGE (cwedata)-[:HAS_ENTITY]->(Entities)\n",
        "\n",
        "\"\"\"\n",
        "result = conn.query(explore_reviews_csv_query)\n",
        "print(result)"
      ]
    },
    {
      "cell_type": "code",
      "execution_count": 507,
      "metadata": {
        "id": "_N-LpVIobaiI",
        "colab": {
          "base_uri": "https://localhost:8080/"
        },
        "outputId": "a9a8c098-ba6d-4e43-a1a3-c709c66e4077"
      },
      "outputs": [
        {
          "output_type": "stream",
          "name": "stdout",
          "text": [
            "[]\n"
          ]
        }
      ],
      "source": [
        "explore_reviews_csv_query = \"\"\"\n",
        "MERGE (cwedata:Extended_Descriptions {runtime: 1302})\n",
        "MERGE (Entities:Entities {rawName: \"severity\"})\n",
        "MERGE (cwedata)-[:HAS_ENTITY]->(Entities)\n",
        "\n",
        "\"\"\"\n",
        "result = conn.query(explore_reviews_csv_query)\n",
        "print(result)"
      ]
    },
    {
      "cell_type": "code",
      "execution_count": 508,
      "metadata": {
        "id": "1hQ8eblqoe9M",
        "colab": {
          "base_uri": "https://localhost:8080/"
        },
        "outputId": "ebeb0d9d-e0f6-4d91-d1aa-4b23f589eb6d"
      },
      "outputs": [
        {
          "output_type": "stream",
          "name": "stdout",
          "text": [
            "[]\n"
          ]
        }
      ],
      "source": [
        "explore_reviews_csv_query = \"\"\"\n",
        "MERGE (cwedata:Extended_Descriptions {runtime: 1302})\n",
        "MERGE (Entities:Entities {rawName: \"sensitive information\"})\n",
        "MERGE (cwedata)-[:HAS_ENTITY]->(Entities)\n",
        "\n",
        "\"\"\"\n",
        "result = conn.query(explore_reviews_csv_query)\n",
        "print(result)"
      ]
    },
    {
      "cell_type": "code",
      "execution_count": 509,
      "metadata": {
        "id": "cVIxBK7Eoe1t",
        "colab": {
          "base_uri": "https://localhost:8080/"
        },
        "outputId": "4665b8ec-2d02-4d57-cc17-4e4a2e5a24b0"
      },
      "outputs": [
        {
          "output_type": "stream",
          "name": "stdout",
          "text": [
            "[]\n"
          ]
        }
      ],
      "source": [
        "explore_reviews_csv_query = \"\"\"\n",
        "MERGE (cwedata:Extended_Descriptions {runtime: 1302})\n",
        "MERGE (Entities:Entities {rawName: \"attacker\"})\n",
        "MERGE (cwedata)-[:HAS_ENTITY]->(Entities)\n",
        "\n",
        "\"\"\"\n",
        "result = conn.query(explore_reviews_csv_query)\n",
        "print(result)"
      ]
    },
    {
      "cell_type": "code",
      "execution_count": 510,
      "metadata": {
        "id": "xC1II70eoe5V",
        "colab": {
          "base_uri": "https://localhost:8080/"
        },
        "outputId": "74e5c4f2-cb99-4dfd-e31d-c7808f54a8bb"
      },
      "outputs": [
        {
          "output_type": "stream",
          "name": "stdout",
          "text": [
            "[]\n"
          ]
        }
      ],
      "source": [
        "explore_reviews_csv_query = \"\"\"\n",
        "MERGE (cwedata:Extended_Descriptions {runtime: 1302})\n",
        "MERGE (Entities:Entities {rawName: \"personal information\"})\n",
        "MERGE (cwedata)-[:HAS_ENTITY]->(Entities)\n",
        "\n",
        "\"\"\"\n",
        "result = conn.query(explore_reviews_csv_query)\n",
        "print(result)"
      ]
    },
    {
      "cell_type": "code",
      "execution_count": 511,
      "metadata": {
        "id": "sjHoBtkvoexu",
        "colab": {
          "base_uri": "https://localhost:8080/"
        },
        "outputId": "8742006a-934b-4d9b-c3a0-63a6aae692e1"
      },
      "outputs": [
        {
          "output_type": "stream",
          "name": "stdout",
          "text": [
            "[]\n"
          ]
        }
      ],
      "source": [
        "explore_reviews_csv_query = \"\"\"\n",
        "MERGE (cwedata:Extended_Descriptions {runtime: 1302})\n",
        "MERGE (Entities:Entities {rawName: \"personal messages\"})\n",
        "MERGE (cwedata)-[:HAS_ENTITY]->(Entities)\n",
        "\n",
        "\"\"\"\n",
        "result = conn.query(explore_reviews_csv_query)\n",
        "print(result)"
      ]
    },
    {
      "cell_type": "code",
      "execution_count": 512,
      "metadata": {
        "id": "kElQ8kvLoeuR",
        "colab": {
          "base_uri": "https://localhost:8080/"
        },
        "outputId": "35128f56-2124-4d97-ae43-82789586e4c3"
      },
      "outputs": [
        {
          "output_type": "stream",
          "name": "stdout",
          "text": [
            "[]\n"
          ]
        }
      ],
      "source": [
        "explore_reviews_csv_query = \"\"\"\n",
        "MERGE (cwedata:Extended_Descriptions {runtime: 1302})\n",
        "MERGE (Entities:Entities {rawName: \"financial data\"})\n",
        "MERGE (cwedata)-[:HAS_ENTITY]->(Entities)\n",
        "\n",
        "\"\"\"\n",
        "result = conn.query(explore_reviews_csv_query)\n",
        "print(result)"
      ]
    },
    {
      "cell_type": "code",
      "execution_count": 513,
      "metadata": {
        "id": "-P-J86weoerH",
        "colab": {
          "base_uri": "https://localhost:8080/"
        },
        "outputId": "05218818-0803-42ce-a6c8-d2c2001a5b49"
      },
      "outputs": [
        {
          "output_type": "stream",
          "name": "stdout",
          "text": [
            "[]\n"
          ]
        }
      ],
      "source": [
        "explore_reviews_csv_query = \"\"\"\n",
        "MERGE (cwedata:Extended_Descriptions {runtime: 1302})\n",
        "MERGE (Entities:Entities {rawName: \"health records\"})\n",
        "MERGE (cwedata)-[:HAS_ENTITY]->(Entities)\n",
        "\n",
        "\"\"\"\n",
        "result = conn.query(explore_reviews_csv_query)\n",
        "print(result)"
      ]
    },
    {
      "cell_type": "code",
      "execution_count": 514,
      "metadata": {
        "id": "s7sMokXyoen9",
        "colab": {
          "base_uri": "https://localhost:8080/"
        },
        "outputId": "ad93d003-4a08-423b-cfcb-898dd15bd267"
      },
      "outputs": [
        {
          "output_type": "stream",
          "name": "stdout",
          "text": [
            "[]\n"
          ]
        }
      ],
      "source": [
        "explore_reviews_csv_query = \"\"\"\n",
        "MERGE (cwedata:Extended_Descriptions {runtime: 1302})\n",
        "MERGE (Entities:Entities {rawName: \"geographic location\"})\n",
        "MERGE (cwedata)-[:HAS_ENTITY]->(Entities)\n",
        "\n",
        "\"\"\"\n",
        "result = conn.query(explore_reviews_csv_query)\n",
        "print(result)"
      ]
    },
    {
      "cell_type": "code",
      "execution_count": 515,
      "metadata": {
        "id": "Sx7GCwZkoekk",
        "colab": {
          "base_uri": "https://localhost:8080/"
        },
        "outputId": "3815f496-33a2-403b-96d7-a42db260653e"
      },
      "outputs": [
        {
          "output_type": "stream",
          "name": "stdout",
          "text": [
            "[]\n"
          ]
        }
      ],
      "source": [
        "explore_reviews_csv_query = \"\"\"\n",
        "MERGE (cwedata:Extended_Descriptions {runtime: 1302})\n",
        "MERGE (Entities:Entities {rawName: \"contact details\"})\n",
        "MERGE (cwedata)-[:HAS_ENTITY]->(Entities)\n",
        "\n",
        "\"\"\"\n",
        "result = conn.query(explore_reviews_csv_query)\n",
        "print(result)"
      ]
    },
    {
      "cell_type": "code",
      "execution_count": 516,
      "metadata": {
        "id": "1TDSVpjYoee4",
        "colab": {
          "base_uri": "https://localhost:8080/"
        },
        "outputId": "8577f817-8ce0-40f1-c890-0c2507131a9a"
      },
      "outputs": [
        {
          "output_type": "stream",
          "name": "stdout",
          "text": [
            "[]\n"
          ]
        }
      ],
      "source": [
        "explore_reviews_csv_query = \"\"\"\n",
        "MERGE (cwedata:Extended_Descriptions {runtime: 1302})\n",
        "MERGE (Entities:Entities {rawName: \"packages\"})\n",
        "MERGE (cwedata)-[:HAS_ENTITY]->(Entities)\n",
        "\n",
        "\"\"\"\n",
        "result = conn.query(explore_reviews_csv_query)\n",
        "print(result)"
      ]
    },
    {
      "cell_type": "code",
      "execution_count": 517,
      "metadata": {
        "id": "CFL2Tmtjoebs",
        "colab": {
          "base_uri": "https://localhost:8080/"
        },
        "outputId": "7d31152c-627a-4dd2-fc31-0eabf777a1b4"
      },
      "outputs": [
        {
          "output_type": "stream",
          "name": "stdout",
          "text": [
            "[]\n"
          ]
        }
      ],
      "source": [
        "explore_reviews_csv_query = \"\"\"\n",
        "MERGE (cwedata:Extended_Descriptions {runtime: 1302})\n",
        "MERGE (Entities:Entities {rawName: \"intellectual property\"})\n",
        "MERGE (cwedata)-[:HAS_ENTITY]->(Entities)\n",
        "\n",
        "\"\"\"\n",
        "result = conn.query(explore_reviews_csv_query)\n",
        "print(result)"
      ]
    },
    {
      "cell_type": "code",
      "execution_count": 518,
      "metadata": {
        "id": "AazvA0lToeVv",
        "colab": {
          "base_uri": "https://localhost:8080/"
        },
        "outputId": "7d2638f8-0139-45f3-c5c0-a98a4050b966"
      },
      "outputs": [
        {
          "output_type": "stream",
          "name": "stdout",
          "text": [
            "[]\n"
          ]
        }
      ],
      "source": [
        "explore_reviews_csv_query = \"\"\"\n",
        "MERGE (cwedata:Extended_Descriptions {runtime: 1302})\n",
        "MERGE (Entities:Entities {rawName: \"configuration\"})\n",
        "MERGE (cwedata)-[:HAS_ENTITY]->(Entities)\n",
        "\n",
        "\"\"\"\n",
        "result = conn.query(explore_reviews_csv_query)\n",
        "print(result)"
      ]
    },
    {
      "cell_type": "code",
      "execution_count": 519,
      "metadata": {
        "id": "mMTxkUAPoeSZ",
        "colab": {
          "base_uri": "https://localhost:8080/"
        },
        "outputId": "557fa36a-0ec3-4278-f6aa-4ccf8abe0086"
      },
      "outputs": [
        {
          "output_type": "stream",
          "name": "stdout",
          "text": [
            "[]\n"
          ]
        }
      ],
      "source": [
        "explore_reviews_csv_query = \"\"\"\n",
        "MERGE (cwedata:Extended_Descriptions {runtime: 1302})\n",
        "MERGE (Entities:Entities {rawName: \"internal state\"})\n",
        "MERGE (cwedata)-[:HAS_ENTITY]->(Entities)\n",
        "\n",
        "\"\"\"\n",
        "result = conn.query(explore_reviews_csv_query)\n",
        "print(result)"
      ]
    },
    {
      "cell_type": "code",
      "execution_count": 520,
      "metadata": {
        "id": "HxVs1oOXbaEJ",
        "colab": {
          "base_uri": "https://localhost:8080/"
        },
        "outputId": "4868e74e-2361-418b-de92-88b9b42fa387"
      },
      "outputs": [
        {
          "output_type": "stream",
          "name": "stdout",
          "text": [
            "[]\n"
          ]
        }
      ],
      "source": [
        "explore_reviews_csv_query = \"\"\"\n",
        "MERGE (cwedata:Extended_Descriptions {runtime: 1302})\n",
        "MERGE (Entities:Entities {rawName: \"metadata\"})\n",
        "MERGE (cwedata)-[:HAS_ENTITY]->(Entities)\n",
        "\n",
        "\"\"\"\n",
        "result = conn.query(explore_reviews_csv_query)\n",
        "print(result)"
      ]
    },
    {
      "cell_type": "code",
      "execution_count": 521,
      "metadata": {
        "id": "PLPHZQLp7MeG",
        "colab": {
          "base_uri": "https://localhost:8080/"
        },
        "outputId": "d734111b-d271-403d-9bf6-cbe4311f510f"
      },
      "outputs": [
        {
          "output_type": "stream",
          "name": "stdout",
          "text": [
            "[]\n"
          ]
        }
      ],
      "source": [
        "explore_reviews_csv_query = \"\"\"\n",
        "MERGE (cwedata:Extended_Descriptions {runtime: 1302})\n",
        "MERGE (Entities:Entities {rawName: \"logging\"})\n",
        "MERGE (cwedata)-[:HAS_ENTITY]->(Entities)\n",
        "\n",
        "\"\"\"\n",
        "result = conn.query(explore_reviews_csv_query)\n",
        "print(result)"
      ]
    },
    {
      "cell_type": "code",
      "execution_count": 522,
      "metadata": {
        "id": "YDB6cN7B7MTy",
        "colab": {
          "base_uri": "https://localhost:8080/"
        },
        "outputId": "1da5e698-f0f5-44b7-a07a-ca4f2c8f8cdc"
      },
      "outputs": [
        {
          "output_type": "stream",
          "name": "stdout",
          "text": [
            "[]\n"
          ]
        }
      ],
      "source": [
        "explore_reviews_csv_query = \"\"\"\n",
        "MERGE (cwedata:Extended_Descriptions {runtime: 1302})\n",
        "MERGE (Entities:Entities {rawName: \"headers\"})\n",
        "MERGE (cwedata)-[:HAS_ENTITY]->(Entities)\n",
        "\n",
        "\"\"\"\n",
        "result = conn.query(explore_reviews_csv_query)\n",
        "print(result)"
      ]
    },
    {
      "cell_type": "code",
      "execution_count": 523,
      "metadata": {
        "id": "yniJxPEp7MJG",
        "colab": {
          "base_uri": "https://localhost:8080/"
        },
        "outputId": "9466bdd6-925e-4f92-db3a-15935bfd5932"
      },
      "outputs": [
        {
          "output_type": "stream",
          "name": "stdout",
          "text": [
            "[]\n"
          ]
        }
      ],
      "source": [
        "explore_reviews_csv_query = \"\"\"\n",
        "MERGE (cwedata:Extended_Descriptions {runtime: 1302})\n",
        "MERGE (Entities:Entities {rawName: \"indirect\"})\n",
        "MERGE (cwedata)-[:HAS_ENTITY]->(Entities)\n",
        "\n",
        "\"\"\"\n",
        "result = conn.query(explore_reviews_csv_query)\n",
        "print(result)"
      ]
    },
    {
      "cell_type": "code",
      "execution_count": 524,
      "metadata": {
        "id": "CZTQOxt97MAF",
        "colab": {
          "base_uri": "https://localhost:8080/"
        },
        "outputId": "9fbceb68-c757-4747-cff4-ad41ad39839f"
      },
      "outputs": [
        {
          "output_type": "stream",
          "name": "stdout",
          "text": [
            "[]\n"
          ]
        }
      ],
      "source": [
        "explore_reviews_csv_query = \"\"\"\n",
        "MERGE (cwedata:Extended_Descriptions {runtime: 1302})\n",
        "MERGE (Entities:Entities {rawName: \"discrepancy\"})\n",
        "MERGE (cwedata)-[:HAS_ENTITY]->(Entities)\n",
        "\n",
        "\"\"\"\n",
        "result = conn.query(explore_reviews_csv_query)\n",
        "print(result)"
      ]
    },
    {
      "cell_type": "code",
      "execution_count": 525,
      "metadata": {
        "id": "qoxDMgxh7L2Z",
        "colab": {
          "base_uri": "https://localhost:8080/"
        },
        "outputId": "3d56443d-bc5a-435b-b226-2dea8c3e12e1"
      },
      "outputs": [
        {
          "output_type": "stream",
          "name": "stdout",
          "text": [
            "[]\n"
          ]
        }
      ],
      "source": [
        "explore_reviews_csv_query = \"\"\"\n",
        "MERGE (cwedata:Extended_Descriptions {runtime: 1302})\n",
        "MERGE (Entities:Entities {rawName: \"outsider\"})\n",
        "MERGE (cwedata)-[:HAS_ENTITY]->(Entities)\n",
        "\n",
        "\"\"\"\n",
        "result = conn.query(explore_reviews_csv_query)\n",
        "print(result)"
      ]
    },
    {
      "cell_type": "code",
      "execution_count": 526,
      "metadata": {
        "id": "ZnL0wU2f7LtM",
        "colab": {
          "base_uri": "https://localhost:8080/"
        },
        "outputId": "11db0341-ae1e-41f3-9ff9-5fde28fc3663"
      },
      "outputs": [
        {
          "output_type": "stream",
          "name": "stdout",
          "text": [
            "[]\n"
          ]
        }
      ],
      "source": [
        "explore_reviews_csv_query = \"\"\"\n",
        "MERGE (cwedata:Extended_Descriptions {runtime: 1302})\n",
        "MERGE (Entities:Entities {rawName: \"Information\"})\n",
        "MERGE (cwedata)-[:HAS_ENTITY]->(Entities)\n",
        "\n",
        "\"\"\"\n",
        "result = conn.query(explore_reviews_csv_query)\n",
        "print(result)"
      ]
    },
    {
      "cell_type": "code",
      "execution_count": 527,
      "metadata": {
        "id": "rN_WGsGs7LkQ",
        "colab": {
          "base_uri": "https://localhost:8080/"
        },
        "outputId": "8e5ddb55-0fe1-4eef-afea-2d5d9c00b742"
      },
      "outputs": [
        {
          "output_type": "stream",
          "name": "stdout",
          "text": [
            "[]\n"
          ]
        }
      ],
      "source": [
        "explore_reviews_csv_query = \"\"\"\n",
        "MERGE (cwedata:Extended_Descriptions {runtime: 1302})\n",
        "MERGE (Entities:Entities {rawName: \"direct product\"})\n",
        "MERGE (cwedata)-[:HAS_ENTITY]->(Entities)\n",
        "\n",
        "\"\"\"\n",
        "result = conn.query(explore_reviews_csv_query)\n",
        "print(result)"
      ]
    },
    {
      "cell_type": "code",
      "execution_count": 528,
      "metadata": {
        "id": "kmsseapt7LbB",
        "colab": {
          "base_uri": "https://localhost:8080/"
        },
        "outputId": "856ffb2e-e91a-426d-9c7b-5d5fb986b7b8"
      },
      "outputs": [
        {
          "output_type": "stream",
          "name": "stdout",
          "text": [
            "[]\n"
          ]
        }
      ],
      "source": [
        "explore_reviews_csv_query = \"\"\"\n",
        "MERGE (cwedata:Extended_Descriptions {runtime: 1302})\n",
        "MERGE (Entities:Entities {rawName: \"administrators\"})\n",
        "MERGE (cwedata)-[:HAS_ENTITY]->(Entities)\n",
        "\n",
        "\"\"\"\n",
        "result = conn.query(explore_reviews_csv_query)\n",
        "print(result)"
      ]
    },
    {
      "cell_type": "code",
      "execution_count": 529,
      "metadata": {
        "id": "CjOv-9Tw7LS8",
        "colab": {
          "base_uri": "https://localhost:8080/"
        },
        "outputId": "68c74544-3cdb-4f31-d35f-083712c6c513"
      },
      "outputs": [
        {
          "output_type": "stream",
          "name": "stdout",
          "text": [
            "[]\n"
          ]
        }
      ],
      "source": [
        "explore_reviews_csv_query = \"\"\"\n",
        "MERGE (cwedata:Extended_Descriptions {runtime: 1302})\n",
        "MERGE (Entities:Entities {rawName: \"admins\"})\n",
        "MERGE (cwedata)-[:HAS_ENTITY]->(Entities)\n",
        "\n",
        "\"\"\"\n",
        "result = conn.query(explore_reviews_csv_query)\n",
        "print(result)"
      ]
    },
    {
      "cell_type": "code",
      "execution_count": 530,
      "metadata": {
        "id": "0GDSO-Iv7LKF",
        "colab": {
          "base_uri": "https://localhost:8080/"
        },
        "outputId": "84a46f14-04f2-4f1e-e437-0b7d17130adf"
      },
      "outputs": [
        {
          "output_type": "stream",
          "name": "stdout",
          "text": [
            "[]\n"
          ]
        }
      ],
      "source": [
        "explore_reviews_csv_query = \"\"\"\n",
        "MERGE (cwedata:Extended_Descriptions {runtime: 1302})\n",
        "MERGE (Entities:Entities {rawName: \"and/or\"})\n",
        "MERGE (cwedata)-[:HAS_ENTITY]->(Entities)\n",
        "\n",
        "\"\"\"\n",
        "result = conn.query(explore_reviews_csv_query)\n",
        "print(result)"
      ]
    },
    {
      "cell_type": "code",
      "execution_count": 531,
      "metadata": {
        "id": "h846zxb-7LCo",
        "colab": {
          "base_uri": "https://localhost:8080/"
        },
        "outputId": "40d7a363-932b-4dd9-c802-d10facb5055d"
      },
      "outputs": [
        {
          "output_type": "stream",
          "name": "stdout",
          "text": [
            "[]\n"
          ]
        }
      ],
      "source": [
        "explore_reviews_csv_query = \"\"\"\n",
        "MERGE (cwedata:Extended_Descriptions {runtime: 1302})\n",
        "MERGE (Entities:Entities {rawName: \"explicitly\"})\n",
        "MERGE (cwedata)-[:HAS_ENTITY]->(Entities)\n",
        "\n",
        "\"\"\"\n",
        "result = conn.query(explore_reviews_csv_query)\n",
        "print(result)"
      ]
    },
    {
      "cell_type": "code",
      "execution_count": 532,
      "metadata": {
        "id": "0VLN9tm17K6J",
        "colab": {
          "base_uri": "https://localhost:8080/"
        },
        "outputId": "e90ae80f-0fdc-4252-d47a-7e845eefede9"
      },
      "outputs": [
        {
          "output_type": "stream",
          "name": "stdout",
          "text": [
            "[]\n"
          ]
        }
      ],
      "source": [
        "explore_reviews_csv_query = \"\"\"\n",
        "MERGE (cwedata:Extended_Descriptions {runtime: 1302})\n",
        "MERGE (Entities:Entities {rawName: \"inserts\"})\n",
        "MERGE (cwedata)-[:HAS_ENTITY]->(Entities)\n",
        "\n",
        "\"\"\"\n",
        "result = conn.query(explore_reviews_csv_query)\n",
        "print(result)"
      ]
    },
    {
      "cell_type": "code",
      "execution_count": 533,
      "metadata": {
        "id": "8SZMAk4T7Kxk",
        "colab": {
          "base_uri": "https://localhost:8080/"
        },
        "outputId": "92adceb5-42c4-4be1-ee86-45dccc160071"
      },
      "outputs": [
        {
          "output_type": "stream",
          "name": "stdout",
          "text": [
            "[]\n"
          ]
        }
      ],
      "source": [
        "explore_reviews_csv_query = \"\"\"\n",
        "MERGE (cwedata:Extended_Descriptions {runtime: 1302})\n",
        "MERGE (Entities:Entities {rawName: \"unauthorized\"})\n",
        "MERGE (cwedata)-[:HAS_ENTITY]->(Entities)\n",
        "\n",
        "\"\"\"\n",
        "result = conn.query(explore_reviews_csv_query)\n",
        "print(result)"
      ]
    },
    {
      "cell_type": "code",
      "execution_count": 534,
      "metadata": {
        "id": "vBUzHMcT7KpU",
        "colab": {
          "base_uri": "https://localhost:8080/"
        },
        "outputId": "f908834b-7ba2-4152-ab67-84de52e9f528"
      },
      "outputs": [
        {
          "output_type": "stream",
          "name": "stdout",
          "text": [
            "[]\n"
          ]
        }
      ],
      "source": [
        "explore_reviews_csv_query = \"\"\"\n",
        "MERGE (cwedata:Extended_Descriptions {runtime: 1302})\n",
        "MERGE (Entities:Entities {rawName: \"script error\"})\n",
        "MERGE (cwedata)-[:HAS_ENTITY]->(Entities)\n",
        "\n",
        "\"\"\"\n",
        "result = conn.query(explore_reviews_csv_query)\n",
        "print(result)"
      ]
    },
    {
      "cell_type": "code",
      "execution_count": 535,
      "metadata": {
        "id": "GTBVexkN7KNz",
        "colab": {
          "base_uri": "https://localhost:8080/"
        },
        "outputId": "c46eccc9-6877-4b2e-9f92-8f9a4722beef"
      },
      "outputs": [
        {
          "output_type": "stream",
          "name": "stdout",
          "text": [
            "[]\n"
          ]
        }
      ],
      "source": [
        "explore_reviews_csv_query = \"\"\"\n",
        "MERGE (cwedata:Extended_Descriptions {runtime: 1302})\n",
        "MERGE (Entities:Entities {rawName: \"revealing\"})\n",
        "MERGE (cwedata)-[:HAS_ENTITY]->(Entities)\n",
        "\n",
        "\"\"\"\n",
        "result = conn.query(explore_reviews_csv_query)\n",
        "print(result)"
      ]
    },
    {
      "cell_type": "code",
      "execution_count": 536,
      "metadata": {
        "id": "CV4URuRiqp0Y",
        "colab": {
          "base_uri": "https://localhost:8080/"
        },
        "outputId": "db9d048d-2437-4a7f-e4fe-58314853683a"
      },
      "outputs": [
        {
          "output_type": "stream",
          "name": "stdout",
          "text": [
            "[]\n"
          ]
        }
      ],
      "source": [
        "explore_reviews_csv_query = \"\"\"\n",
        "MERGE (cwe:CWE {cwe_id:\"284\"})\n",
        "MERGE (cwedata:Extended_Descriptions {runtime:1089})\n",
        "MERGE (cwe)-[:MAPPED_WITH]->(cwedata)\n",
        "MERGE (cwedata)-[:HAS_GLOBAL_CATEGORY{weight:0.02177728820880549,source:\"wikipedia-en\",category:\"Perimeter security\",page_id:29568962}]->(cwe)\n",
        "MERGE (cwedata)-[:HAS_GLOBAL_CATEGORY{weight:0.018774733450646813,source:\"wikipedia-en\",category:\"Command and control\",page_id:13460558}]->(cwe)\n",
        "MERGE (cwedata)-[:HAS_GLOBAL_CATEGORY{weight:0.0054037453131323635,source:\"wikipedia-en\",category:\"Software architecture\",page_id:1805593}]->(cwe)\n",
        "\n",
        "\"\"\"\n",
        "result = conn.query(explore_reviews_csv_query)\n",
        "print(result)"
      ]
    },
    {
      "cell_type": "code",
      "execution_count": 537,
      "metadata": {
        "id": "NxCUlPAKIZhf",
        "colab": {
          "base_uri": "https://localhost:8080/"
        },
        "outputId": "4c1c80a4-e3b7-420a-f70d-8a6650d6403c"
      },
      "outputs": [
        {
          "output_type": "stream",
          "name": "stdout",
          "text": [
            "[]\n"
          ]
        }
      ],
      "source": [
        "explore_reviews_csv_query = \"\"\"\n",
        "CALL apoc.load.json(\"https://raw.githubusercontent.com/neostrange/CveParse/main/Extended_Descriptions.json\", null, {failOnError:false})\n",
        "YIELD value\n",
        "WITH value  AS data\n",
        "WITH data\n",
        "UNWIND data.Extended_Descriptions[4].CWE.entities as Entities\n",
        "MERGE (entities:Entities{rawName:Entities.`rawName`})\n",
        "  SET \n",
        "   entities.offsetStart = Entities.offsetStart,\n",
        "   entities.offsetEnd = Entities.offsetEnd,\n",
        "   entities.confidence_score = Entities.confidence_score,\n",
        "   entities.wikipediaExternalRef = Entities.wikipediaExternalRef,\n",
        "   entities.wikidataId = Entities.wikidataId\n",
        "\n",
        "\"\"\"\n",
        "result = conn.query(explore_reviews_csv_query)\n",
        "print(result)"
      ]
    },
    {
      "cell_type": "code",
      "execution_count": 538,
      "metadata": {
        "id": "CV3EudGl7KXU",
        "colab": {
          "base_uri": "https://localhost:8080/"
        },
        "outputId": "cfb1b18c-2ff9-414e-92ba-3d8ec616d8ef"
      },
      "outputs": [
        {
          "output_type": "stream",
          "name": "stdout",
          "text": [
            "[]\n"
          ]
        }
      ],
      "source": [
        "explore_reviews_csv_query = \"\"\"\n",
        "MERGE (cwedata:Extended_Descriptions {runtime: 1089})\n",
        "MERGE (Entities:Entities {rawName: \"Access control\"})\n",
        "MERGE (cwedata)-[:HAS_ENTITY]->(Entities)\n",
        "\n",
        "\"\"\"\n",
        "result = conn.query(explore_reviews_csv_query)\n",
        "print(result)"
      ]
    },
    {
      "cell_type": "code",
      "execution_count": 539,
      "metadata": {
        "id": "9_9vePy37KCc",
        "colab": {
          "base_uri": "https://localhost:8080/"
        },
        "outputId": "0820b8c9-1739-4c7a-a7bd-83c07f5f45c6"
      },
      "outputs": [
        {
          "output_type": "stream",
          "name": "stdout",
          "text": [
            "[]\n"
          ]
        }
      ],
      "source": [
        "explore_reviews_csv_query = \"\"\"\n",
        "MERGE (cwedata:Extended_Descriptions {runtime: 1089})\n",
        "MERGE (Entities:Entities {rawName: \"Authentication\"})\n",
        "MERGE (cwedata)-[:HAS_ENTITY]->(Entities)\n",
        "\n",
        "\"\"\"\n",
        "result = conn.query(explore_reviews_csv_query)\n",
        "print(result)"
      ]
    },
    {
      "cell_type": "code",
      "execution_count": 540,
      "metadata": {
        "id": "GPYhNs-c7KgR",
        "colab": {
          "base_uri": "https://localhost:8080/"
        },
        "outputId": "8d826e64-3377-407f-af10-6f04991a43a3"
      },
      "outputs": [
        {
          "output_type": "stream",
          "name": "stdout",
          "text": [
            "[]\n"
          ]
        }
      ],
      "source": [
        "explore_reviews_csv_query = \"\"\"\n",
        "MERGE (cwedata:Extended_Descriptions {runtime: 1089})\n",
        "MERGE (Entities:Entities {rawName: \"proving\"})\n",
        "MERGE (cwedata)-[:HAS_ENTITY]->(Entities)\n",
        "\n",
        "\"\"\"\n",
        "result = conn.query(explore_reviews_csv_query)\n",
        "print(result)"
      ]
    },
    {
      "cell_type": "code",
      "execution_count": 541,
      "metadata": {
        "id": "jal6HUjBc8bm",
        "colab": {
          "base_uri": "https://localhost:8080/"
        },
        "outputId": "cda6d085-79ff-4d95-b592-e336d3c6fa2f"
      },
      "outputs": [
        {
          "output_type": "stream",
          "name": "stdout",
          "text": [
            "[]\n"
          ]
        }
      ],
      "source": [
        "explore_reviews_csv_query = \"\"\"\n",
        "MERGE (cwedata:Extended_Descriptions {runtime: 1089})\n",
        "MERGE (Entities:Entities {rawName: \"Authorization\"})\n",
        "MERGE (cwedata)-[:HAS_ENTITY]->(Entities)\n",
        "\n",
        "\"\"\"\n",
        "result = conn.query(explore_reviews_csv_query)\n",
        "print(result)"
      ]
    },
    {
      "cell_type": "code",
      "execution_count": 542,
      "metadata": {
        "id": "ElCfE75bc73k",
        "colab": {
          "base_uri": "https://localhost:8080/"
        },
        "outputId": "bd06134c-dd44-4262-d995-8b1d47078816"
      },
      "outputs": [
        {
          "output_type": "stream",
          "name": "stdout",
          "text": [
            "[]\n"
          ]
        }
      ],
      "source": [
        "explore_reviews_csv_query = \"\"\"\n",
        "MERGE (cwedata:Extended_Descriptions {runtime: 1089})\n",
        "MERGE (Entities:Entities {rawName: \"Accountability\"})\n",
        "MERGE (cwedata)-[:HAS_ENTITY]->(Entities)\n",
        "\n",
        "\"\"\"\n",
        "result = conn.query(explore_reviews_csv_query)\n",
        "print(result)"
      ]
    },
    {
      "cell_type": "code",
      "execution_count": 543,
      "metadata": {
        "id": "Tbg4nXnvc7OO",
        "colab": {
          "base_uri": "https://localhost:8080/"
        },
        "outputId": "c1aec2d4-1e49-4664-9690-808a67ac26b4"
      },
      "outputs": [
        {
          "output_type": "stream",
          "name": "stdout",
          "text": [
            "[]\n"
          ]
        }
      ],
      "source": [
        "explore_reviews_csv_query = \"\"\"\n",
        "MERGE (cwedata:Extended_Descriptions {runtime: 1089})\n",
        "MERGE (Entities:Entities {rawName: \"attackers\"})\n",
        "MERGE (cwedata)-[:HAS_ENTITY]->(Entities)\n",
        "\n",
        "\"\"\"\n",
        "result = conn.query(explore_reviews_csv_query)\n",
        "print(result)"
      ]
    },
    {
      "cell_type": "code",
      "execution_count": 544,
      "metadata": {
        "id": "pwy8pDnropMm",
        "colab": {
          "base_uri": "https://localhost:8080/"
        },
        "outputId": "c28ecbfb-7991-4421-e48d-517ab653c67e"
      },
      "outputs": [
        {
          "output_type": "stream",
          "name": "stdout",
          "text": [
            "[]\n"
          ]
        }
      ],
      "source": [
        "explore_reviews_csv_query = \"\"\"\n",
        "MERGE (cwedata:Extended_Descriptions {runtime: 1089})\n",
        "MERGE (Entities:Entities {rawName: \"privileges\"})\n",
        "MERGE (cwedata)-[:HAS_ENTITY]->(Entities)\n",
        "\n",
        "\"\"\"\n",
        "result = conn.query(explore_reviews_csv_query)\n",
        "print(result)"
      ]
    },
    {
      "cell_type": "code",
      "execution_count": 545,
      "metadata": {
        "id": "pNvSiiRzopI2",
        "colab": {
          "base_uri": "https://localhost:8080/"
        },
        "outputId": "156486d9-079a-4964-f136-e452b26a17a5"
      },
      "outputs": [
        {
          "output_type": "stream",
          "name": "stdout",
          "text": [
            "[]\n"
          ]
        }
      ],
      "source": [
        "explore_reviews_csv_query = \"\"\"\n",
        "MERGE (cwedata:Extended_Descriptions {runtime: 1089})\n",
        "MERGE (Entities:Entities {rawName: \"sensitive information\"})\n",
        "MERGE (cwedata)-[:HAS_ENTITY]->(Entities)\n",
        "\n",
        "\"\"\"\n",
        "result = conn.query(explore_reviews_csv_query)\n",
        "print(result)"
      ]
    },
    {
      "cell_type": "code",
      "execution_count": 546,
      "metadata": {
        "id": "KlV738NIopEt",
        "colab": {
          "base_uri": "https://localhost:8080/"
        },
        "outputId": "a822b3c3-21a6-42c8-a55a-a7ea7991da02"
      },
      "outputs": [
        {
          "output_type": "stream",
          "name": "stdout",
          "text": [
            "[]\n"
          ]
        }
      ],
      "source": [
        "explore_reviews_csv_query = \"\"\"\n",
        "MERGE (cwedata:Extended_Descriptions {runtime: 1089})\n",
        "MERGE (Entities:Entities {rawName: \"executing\"})\n",
        "MERGE (cwedata)-[:HAS_ENTITY]->(Entities)\n",
        "\n",
        "\"\"\"\n",
        "result = conn.query(explore_reviews_csv_query)\n",
        "print(result)"
      ]
    },
    {
      "cell_type": "code",
      "execution_count": 547,
      "metadata": {
        "id": "kaKQ2q61opA0",
        "colab": {
          "base_uri": "https://localhost:8080/"
        },
        "outputId": "1f1ea676-3b7d-45a1-c3b5-d8c24ef1af52"
      },
      "outputs": [
        {
          "output_type": "stream",
          "name": "stdout",
          "text": [
            "[]\n"
          ]
        }
      ],
      "source": [
        "explore_reviews_csv_query = \"\"\"\n",
        "MERGE (cwedata:Extended_Descriptions {runtime: 1089})\n",
        "MERGE (Entities:Entities {rawName: \"commands\"})\n",
        "MERGE (cwedata)-[:HAS_ENTITY]->(Entities)\n",
        "\n",
        "\"\"\"\n",
        "result = conn.query(explore_reviews_csv_query)\n",
        "print(result)"
      ]
    },
    {
      "cell_type": "code",
      "execution_count": 548,
      "metadata": {
        "id": "IW-pePMAoo0U",
        "colab": {
          "base_uri": "https://localhost:8080/"
        },
        "outputId": "5ec1429a-8f03-4d52-ee24-094f04612efc"
      },
      "outputs": [
        {
          "output_type": "stream",
          "name": "stdout",
          "text": [
            "[]\n"
          ]
        }
      ],
      "source": [
        "explore_reviews_csv_query = \"\"\"\n",
        "MERGE (cwedata:Extended_Descriptions {runtime: 1089})\n",
        "MERGE (Entities:Entities {rawName: \"evading detection\"})\n",
        "MERGE (cwedata)-[:HAS_ENTITY]->(Entities)\n",
        "\n",
        "\"\"\"\n",
        "result = conn.query(explore_reviews_csv_query)\n",
        "print(result)"
      ]
    },
    {
      "cell_type": "code",
      "execution_count": 549,
      "metadata": {
        "id": "nUDGRhUEc6y7",
        "colab": {
          "base_uri": "https://localhost:8080/"
        },
        "outputId": "3615a933-176a-4bff-9a71-a2143469b9f0"
      },
      "outputs": [
        {
          "output_type": "stream",
          "name": "stdout",
          "text": [
            "[]\n"
          ]
        }
      ],
      "source": [
        "explore_reviews_csv_query = \"\"\"\n",
        "MERGE (cwedata:Extended_Descriptions {runtime: 1089})\n",
        "MERGE (Entities:Entities {rawName: \"behaviors\"})\n",
        "MERGE (cwedata)-[:HAS_ENTITY]->(Entities)\n",
        "\n",
        "\"\"\"\n",
        "result = conn.query(explore_reviews_csv_query)\n",
        "print(result)"
      ]
    },
    {
      "cell_type": "code",
      "execution_count": 550,
      "metadata": {
        "id": "IqF9hJck7JLu",
        "colab": {
          "base_uri": "https://localhost:8080/"
        },
        "outputId": "f241ff83-8c78-417a-f877-7f6dbd4ee15f"
      },
      "outputs": [
        {
          "output_type": "stream",
          "name": "stdout",
          "text": [
            "[]\n"
          ]
        }
      ],
      "source": [
        "explore_reviews_csv_query = \"\"\"\n",
        "MERGE (cwedata:Extended_Descriptions {runtime: 1089})\n",
        "MERGE (Entities:Entities {rawName: \"access control\"})\n",
        "MERGE (cwedata)-[:HAS_ENTITY]->(Entities)\n",
        "\n",
        "\"\"\"\n",
        "result = conn.query(explore_reviews_csv_query)\n",
        "print(result)"
      ]
    },
    {
      "cell_type": "code",
      "execution_count": 551,
      "metadata": {
        "id": "x38_i_qmCjcK",
        "colab": {
          "base_uri": "https://localhost:8080/"
        },
        "outputId": "114de915-eaa7-4ed8-ddab-fed21c777f46"
      },
      "outputs": [
        {
          "output_type": "stream",
          "name": "stdout",
          "text": [
            "[]\n"
          ]
        }
      ],
      "source": [
        "explore_reviews_csv_query = \"\"\"\n",
        "MERGE (cwedata:Extended_Descriptions {runtime: 1089})\n",
        "MERGE (Entities:Entities {rawName: \"weaknesses\"})\n",
        "MERGE (cwedata)-[:HAS_ENTITY]->(Entities)\n",
        "\n",
        "\"\"\"\n",
        "result = conn.query(explore_reviews_csv_query)\n",
        "print(result)"
      ]
    },
    {
      "cell_type": "code",
      "execution_count": 552,
      "metadata": {
        "id": "91bn5g9XCjWd",
        "colab": {
          "base_uri": "https://localhost:8080/"
        },
        "outputId": "377e0061-0ea0-4e96-93ce-7ff3882b1a3f"
      },
      "outputs": [
        {
          "output_type": "stream",
          "name": "stdout",
          "text": [
            "[]\n"
          ]
        }
      ],
      "source": [
        "explore_reviews_csv_query = \"\"\"\n",
        "MERGE (cwedata:Extended_Descriptions {runtime: 1089})\n",
        "MERGE (Entities:Entities {rawName: \"incorrect\"})\n",
        "MERGE (cwedata)-[:HAS_ENTITY]->(Entities)\n",
        "\n",
        "\"\"\"\n",
        "result = conn.query(explore_reviews_csv_query)\n",
        "print(result)"
      ]
    },
    {
      "cell_type": "code",
      "execution_count": 553,
      "metadata": {
        "id": "wRWlznONCjBy",
        "colab": {
          "base_uri": "https://localhost:8080/"
        },
        "outputId": "5a3c03b7-879b-4e69-f271-6c9a41439707"
      },
      "outputs": [
        {
          "output_type": "stream",
          "name": "stdout",
          "text": [
            "[]\n"
          ]
        }
      ],
      "source": [
        "explore_reviews_csv_query = \"\"\"\n",
        "MERGE (cwedata:Extended_Descriptions {runtime: 1089})\n",
        "MERGE (Entities:Entities {rawName: \"permissions\"})\n",
        "MERGE (cwedata)-[:HAS_ENTITY]->(Entities)\n",
        "\n",
        "\"\"\"\n",
        "result = conn.query(explore_reviews_csv_query)\n",
        "print(result)"
      ]
    },
    {
      "cell_type": "code",
      "execution_count": 554,
      "metadata": {
        "id": "ojkIzPtsCi8P",
        "colab": {
          "base_uri": "https://localhost:8080/"
        },
        "outputId": "5e7e6c53-34a8-481d-c89e-de0a76d72926"
      },
      "outputs": [
        {
          "output_type": "stream",
          "name": "stdout",
          "text": [
            "[]\n"
          ]
        }
      ],
      "source": [
        "explore_reviews_csv_query = \"\"\"\n",
        "MERGE (cwedata:Extended_Descriptions {runtime: 1089})\n",
        "MERGE (Entities:Entities {rawName: \"explicitly\"})\n",
        "MERGE (cwedata)-[:HAS_ENTITY]->(Entities)\n",
        "\n",
        "\"\"\"\n",
        "result = conn.query(explore_reviews_csv_query)\n",
        "print(result)"
      ]
    },
    {
      "cell_type": "code",
      "execution_count": 555,
      "metadata": {
        "id": "0hiuTFzRCi2t",
        "colab": {
          "base_uri": "https://localhost:8080/"
        },
        "outputId": "b9f7b59a-288e-414c-a0e8-ee5aa5008286"
      },
      "outputs": [
        {
          "output_type": "stream",
          "name": "stdout",
          "text": [
            "[]\n"
          ]
        }
      ],
      "source": [
        "explore_reviews_csv_query = \"\"\"\n",
        "MERGE (cwedata:Extended_Descriptions {runtime: 1089})\n",
        "MERGE (Entities:Entities {rawName: \"syntactically\"})\n",
        "MERGE (cwedata)-[:HAS_ENTITY]->(Entities)\n",
        "\n",
        "\"\"\"\n",
        "result = conn.query(explore_reviews_csv_query)\n",
        "print(result)"
      ]
    },
    {
      "cell_type": "code",
      "execution_count": 556,
      "metadata": {
        "id": "cT_gxzLpCixM",
        "colab": {
          "base_uri": "https://localhost:8080/"
        },
        "outputId": "1834df8f-43f8-48d6-95d4-48296f71886c"
      },
      "outputs": [
        {
          "output_type": "stream",
          "name": "stdout",
          "text": [
            "[]\n"
          ]
        }
      ],
      "source": [
        "explore_reviews_csv_query = \"\"\"\n",
        "MERGE (cwedata:Extended_Descriptions {runtime: 1089})\n",
        "MERGE (Entities:Entities {rawName: \"ACL\"})\n",
        "MERGE (cwedata)-[:HAS_ENTITY]->(Entities)\n",
        "\n",
        "\"\"\"\n",
        "result = conn.query(explore_reviews_csv_query)\n",
        "print(result)"
      ]
    },
    {
      "cell_type": "code",
      "execution_count": 557,
      "metadata": {
        "id": "T3IzRBY6Cinh",
        "colab": {
          "base_uri": "https://localhost:8080/"
        },
        "outputId": "aebfdbc2-6fd5-47cf-8da3-de4aa2219104"
      },
      "outputs": [
        {
          "output_type": "stream",
          "name": "stdout",
          "text": [
            "[]\n"
          ]
        }
      ],
      "source": [
        "explore_reviews_csv_query = \"\"\"\n",
        "MERGE (cwedata:Extended_Descriptions {runtime: 1089})\n",
        "MERGE (Entities:Entities {rawName: \"insecure\"})\n",
        "MERGE (cwedata)-[:HAS_ENTITY]->(Entities)\n",
        "\n",
        "\"\"\"\n",
        "result = conn.query(explore_reviews_csv_query)\n",
        "print(result)"
      ]
    },
    {
      "cell_type": "code",
      "execution_count": 558,
      "metadata": {
        "id": "BXrR7rLKCiSH",
        "colab": {
          "base_uri": "https://localhost:8080/"
        },
        "outputId": "44cf99fe-7c46-4cc3-fac3-199ccdd564da"
      },
      "outputs": [
        {
          "output_type": "stream",
          "name": "stdout",
          "text": [
            "[]\n"
          ]
        }
      ],
      "source": [
        "explore_reviews_csv_query = \"\"\"\n",
        "MERGE (cwedata:Extended_Descriptions {runtime: 1089})\n",
        "MERGE (Entities:Entities {rawName: \"security policy\"})\n",
        "MERGE (cwedata)-[:HAS_ENTITY]->(Entities)\n",
        "\n",
        "\"\"\"\n",
        "result = conn.query(explore_reviews_csv_query)\n",
        "print(result)"
      ]
    },
    {
      "cell_type": "code",
      "execution_count": 559,
      "metadata": {
        "id": "3iJ6XxZBqqyE",
        "colab": {
          "base_uri": "https://localhost:8080/"
        },
        "outputId": "709172af-00cf-4318-a82e-b39ded944dfc"
      },
      "outputs": [
        {
          "output_type": "stream",
          "name": "stdout",
          "text": [
            "[]\n"
          ]
        }
      ],
      "source": [
        "explore_reviews_csv_query = \"\"\"\n",
        "MERGE (cwe:CWE {cwe_id:\"294\"})\n",
        "MERGE (cwedata:Extended_Descriptions {runtime:253})\n",
        "MERGE (cwe)-[:MAPPED_WITH]->(cwedata)\n",
        "MERGE (cwedata)-[:HAS_GLOBAL_CATEGORY{weight:0.09559506604831125,source:\"wikipedia-en\",category:\"User interfaces\",page_id:30875525}]->(cwe)\n",
        "MERGE (cwedata)-[:HAS_GLOBAL_CATEGORY{weight:0.09559506604831125,source:\"wikipedia-en\",category:\"Computing commands\",page_id:28119161}]->(cwe)\n",
        "MERGE (cwedata)-[:HAS_GLOBAL_CATEGORY{weight:0.09559506604831125,source:\"wikipedia-en\",category:\"Computing terminology\",page_id:2458835}]->(cwe)\n",
        "\n",
        "\"\"\"\n",
        "result = conn.query(explore_reviews_csv_query)\n",
        "print(result)"
      ]
    },
    {
      "cell_type": "code",
      "execution_count": 560,
      "metadata": {
        "id": "a0OzbXyAIbrO",
        "colab": {
          "base_uri": "https://localhost:8080/"
        },
        "outputId": "019a541a-ebae-40c4-ded7-3251cfd8e365"
      },
      "outputs": [
        {
          "output_type": "stream",
          "name": "stdout",
          "text": [
            "[]\n"
          ]
        }
      ],
      "source": [
        "explore_reviews_csv_query = \"\"\"\n",
        "CALL apoc.load.json(\"https://raw.githubusercontent.com/neostrange/CveParse/main/Extended_Descriptions.json\", null, {failOnError:false})\n",
        "YIELD value\n",
        "WITH value  AS data\n",
        "WITH data\n",
        "UNWIND data.Extended_Descriptions[5].CWE.entities as Entities\n",
        "MERGE (entities:Entities{rawName:Entities.`rawName`})\n",
        "  SET \n",
        "   entities.offsetStart = Entities.offsetStart,\n",
        "   entities.offsetEnd = Entities.offsetEnd,\n",
        "   entities.confidence_score = Entities.confidence_score,\n",
        "   entities.wikipediaExternalRef = Entities.wikipediaExternalRef,\n",
        "   entities.wikidataId = Entities.wikidataId\n",
        "\n",
        "\"\"\"\n",
        "result = conn.query(explore_reviews_csv_query)\n",
        "print(result)"
      ]
    },
    {
      "cell_type": "code",
      "execution_count": 561,
      "metadata": {
        "id": "Lv0ml9XzC1nt",
        "colab": {
          "base_uri": "https://localhost:8080/"
        },
        "outputId": "5cdaf452-8611-4b1a-8062-e3967407d377"
      },
      "outputs": [
        {
          "output_type": "stream",
          "name": "stdout",
          "text": [
            "[]\n"
          ]
        }
      ],
      "source": [
        "explore_reviews_csv_query = \"\"\"\n",
        "MERGE (cwedata:Extended_Descriptions {runtime: 253})\n",
        "MERGE (Entities:Entities {rawName: \"Capture\"})\n",
        "MERGE (cwedata)-[:HAS_ENTITY]->(Entities)\n",
        "\n",
        "\"\"\"\n",
        "result = conn.query(explore_reviews_csv_query)\n",
        "print(result)"
      ]
    },
    {
      "cell_type": "code",
      "execution_count": 562,
      "metadata": {
        "id": "MAuY3lheC1TI",
        "colab": {
          "base_uri": "https://localhost:8080/"
        },
        "outputId": "3bed7759-dba9-4843-dbdc-2c0916cf28da"
      },
      "outputs": [
        {
          "output_type": "stream",
          "name": "stdout",
          "text": [
            "[]\n"
          ]
        }
      ],
      "source": [
        "explore_reviews_csv_query = \"\"\"\n",
        "MERGE (cwedata:Extended_Descriptions {runtime: 253})\n",
        "MERGE (Entities:Entities {rawName: \"replay attacks\"})\n",
        "MERGE (cwedata)-[:HAS_ENTITY]->(Entities)\n",
        "\n",
        "\"\"\"\n",
        "result = conn.query(explore_reviews_csv_query)\n",
        "print(result)"
      ]
    },
    {
      "cell_type": "code",
      "execution_count": 563,
      "metadata": {
        "id": "TXo8oahQCzc7",
        "colab": {
          "base_uri": "https://localhost:8080/"
        },
        "outputId": "789ec0ae-abca-423e-9649-84ae4472e6f3"
      },
      "outputs": [
        {
          "output_type": "stream",
          "name": "stdout",
          "text": [
            "[]\n"
          ]
        }
      ],
      "source": [
        "explore_reviews_csv_query = \"\"\"\n",
        "MERGE (cwedata:Extended_Descriptions {runtime: 253})\n",
        "MERGE (Entities:Entities {rawName: \"cryptography\"})\n",
        "MERGE (cwedata)-[:HAS_ENTITY]->(Entities)\n",
        "\n",
        "\"\"\"\n",
        "result = conn.query(explore_reviews_csv_query)\n",
        "print(result)"
      ]
    },
    {
      "cell_type": "code",
      "execution_count": 564,
      "metadata": {
        "id": "4pPdZ8EYCiXz",
        "colab": {
          "base_uri": "https://localhost:8080/"
        },
        "outputId": "447c647a-acad-48f0-fc99-74685d20f1bd"
      },
      "outputs": [
        {
          "output_type": "stream",
          "name": "stdout",
          "text": [
            "[]\n"
          ]
        }
      ],
      "source": [
        "explore_reviews_csv_query = \"\"\"\n",
        "MERGE (cwedata:Extended_Descriptions {runtime: 253})\n",
        "MERGE (Entities:Entities {rawName: \"subset\"})\n",
        "MERGE (cwedata)-[:HAS_ENTITY]->(Entities)\n",
        "\n",
        "\"\"\"\n",
        "result = conn.query(explore_reviews_csv_query)\n",
        "print(result)"
      ]
    },
    {
      "cell_type": "code",
      "execution_count": 565,
      "metadata": {
        "id": "Dpp6UgQzC1AV",
        "colab": {
          "base_uri": "https://localhost:8080/"
        },
        "outputId": "4915ec70-f6ed-419f-e80c-4355807cfa5c"
      },
      "outputs": [
        {
          "output_type": "stream",
          "name": "stdout",
          "text": [
            "[]\n"
          ]
        }
      ],
      "source": [
        "explore_reviews_csv_query = \"\"\"\n",
        "MERGE (cwedata:Extended_Descriptions {runtime: 253})\n",
        "MERGE (Entities:Entities {rawName: \"injection\"})\n",
        "MERGE (cwedata)-[:HAS_ENTITY]->(Entities)\n",
        "\n",
        "\"\"\"\n",
        "result = conn.query(explore_reviews_csv_query)\n",
        "print(result)"
      ]
    },
    {
      "cell_type": "code",
      "execution_count": 566,
      "metadata": {
        "id": "2qxSzqHXdB5K",
        "colab": {
          "base_uri": "https://localhost:8080/"
        },
        "outputId": "55427b84-bff5-40dd-f972-c0f9d285553d"
      },
      "outputs": [
        {
          "output_type": "stream",
          "name": "stdout",
          "text": [
            "[]\n"
          ]
        }
      ],
      "source": [
        "explore_reviews_csv_query = \"\"\"\n",
        "MERGE (cwedata:Extended_Descriptions {runtime: 253})\n",
        "MERGE (Entities:Entities {rawName: \"observing\"})\n",
        "MERGE (cwedata)-[:HAS_ENTITY]->(Entities)\n",
        "\n",
        "\"\"\"\n",
        "result = conn.query(explore_reviews_csv_query)\n",
        "print(result) "
      ]
    },
    {
      "cell_type": "code",
      "execution_count": 567,
      "metadata": {
        "id": "AuWAE2MrdBhe",
        "colab": {
          "base_uri": "https://localhost:8080/"
        },
        "outputId": "7ebf01d3-df70-4151-b998-05cc2a314bca"
      },
      "outputs": [
        {
          "output_type": "stream",
          "name": "stdout",
          "text": [
            "[]\n"
          ]
        }
      ],
      "source": [
        "explore_reviews_csv_query = \"\"\"\n",
        "MERGE (cwedata:Extended_Descriptions {runtime: 253})\n",
        "MERGE (Entities:Entities {rawName: \"commands\"})\n",
        "MERGE (cwedata)-[:HAS_ENTITY]->(Entities)\n",
        "\n",
        "\"\"\"\n",
        "result = conn.query(explore_reviews_csv_query)\n",
        "print(result)"
      ]
    },
    {
      "cell_type": "markdown",
      "metadata": {
        "id": "4tkFWQMewURh"
      },
      "source": [
        "# **CPE Data**"
      ]
    },
    {
      "cell_type": "markdown",
      "metadata": {
        "id": "UvXjcm5jxpjj"
      },
      "source": [
        "**Script_CPE.cypher**"
      ]
    },
    {
      "cell_type": "markdown",
      "metadata": {
        "id": "Fp-yl_lZvxFK"
      },
      "source": [
        "Parse CPE values in CVE using cpeparser"
      ]
    },
    {
      "cell_type": "code",
      "execution_count": 568,
      "metadata": {
        "id": "5MfG2-9AeJDB",
        "colab": {
          "base_uri": "https://localhost:8080/"
        },
        "outputId": "f8248398-b226-4581-c962-60fce3800f0a"
      },
      "outputs": [
        {
          "output_type": "stream",
          "name": "stdout",
          "text": [
            "[]\n"
          ]
        }
      ],
      "source": [
        "explore_reviews_csv_query = \"\"\"\n",
        "CALL apoc.load.json(\"https://raw.githubusercontent.com/neostrange/CveParse/main/CPE.json\", null, {failOnError:false})\n",
        "YIELD value\n",
        "WITH value  AS data\n",
        "//return data.CPE_Items[0].CPE.version\n",
        "UNWIND data.CPE_Items as item\n",
        "MERGE (cpe:CPE {version: item.CPE.version})\n",
        "SET \n",
        "    cpe.part = item.CPE.part,\n",
        "    cpe.vendor = item.CPE.vendor,\n",
        "    cpe.product = item.CPE.product,\n",
        "    cpe.update = item.CPE.update,\n",
        "    cpe.edition = item.CPE.edition,\n",
        "    cpe.language = item.CPE.language,\n",
        "    cpe.sw_edition = item.CPE.sw_edition,\n",
        "    cpe.target_sw = item.CPE.target_sw,\n",
        "    cpe.target_hw = item.CPE.target_hw,\n",
        "    cpe.other = item.CPE.other\n",
        "    \n",
        "\"\"\"\n",
        "result = conn.query(explore_reviews_csv_query)\n",
        "print(result)"
      ]
    },
    {
      "cell_type": "code",
      "execution_count": 569,
      "metadata": {
        "id": "lBtYxIhulZMv",
        "colab": {
          "base_uri": "https://localhost:8080/"
        },
        "outputId": "0e4ef652-9ca0-4f1c-87b3-aebee1523f9f"
      },
      "outputs": [
        {
          "output_type": "stream",
          "name": "stdout",
          "text": [
            "[]\n"
          ]
        }
      ],
      "source": [
        "explore_reviews_csv_query = \"\"\"\n",
        "MERGE (cpeMatch:CpeMatch {uri:\"cpe:2.3:a:sap:host_agent:7.21:*:*:*:*:*:*:*\" })\n",
        "MERGE (cpe:CPE {version:\"7.21\"})\n",
        "MERGE (cpeMatch)-[:MAPPED_WITH]->(cpe)\n",
        "\n",
        "\"\"\"\n",
        "result = conn.query(explore_reviews_csv_query)\n",
        "print(result)"
      ]
    },
    {
      "cell_type": "code",
      "execution_count": 570,
      "metadata": {
        "id": "NG5t__R7laOg",
        "colab": {
          "base_uri": "https://localhost:8080/"
        },
        "outputId": "752a6551-de47-4952-e54a-a9b356b1b5ea"
      },
      "outputs": [
        {
          "output_type": "stream",
          "name": "stdout",
          "text": [
            "[]\n"
          ]
        }
      ],
      "source": [
        "explore_reviews_csv_query = \"\"\"\n",
        "MERGE (cpeMatch:CpeMatch {uri:\"cpe:2.3:a:sap:host_agent:7.22:*:*:*:*:*:*:*\" })\n",
        "MERGE (cpe:CPE {version:\"7.22\"})\n",
        "MERGE (cpeMatch)-[:MAPPED_WITH]->(cpe)\n",
        "\n",
        "\"\"\"\n",
        "result = conn.query(explore_reviews_csv_query)\n",
        "print(result)"
      ]
    },
    {
      "cell_type": "code",
      "execution_count": 571,
      "metadata": {
        "id": "3_kvJDYY809M",
        "colab": {
          "base_uri": "https://localhost:8080/"
        },
        "outputId": "a169912a-a0e1-4223-9b2d-cf8f09f4186c"
      },
      "outputs": [
        {
          "output_type": "stream",
          "name": "stdout",
          "text": [
            "[]\n"
          ]
        }
      ],
      "source": [
        "explore_reviews_csv_query = \"\"\"\n",
        "MERGE (cpeMatch:CpeMatch {uri:\"cpe:2.3:o:microsoft:windows:-:*:*:*:*:*:*:*\" })\n",
        "MERGE (cpe:CPE {version:\"-\"})\n",
        "MERGE (cpeMatch)-[:MAPPED_WITH]->(cpe)\n",
        "\n",
        "\"\"\"\n",
        "result = conn.query(explore_reviews_csv_query)\n",
        "print(result)"
      ]
    },
    {
      "cell_type": "code",
      "execution_count": 572,
      "metadata": {
        "id": "iJDpnnyCldu5",
        "colab": {
          "base_uri": "https://localhost:8080/"
        },
        "outputId": "f4a4ceba-d8c7-466c-e745-1d9fd901ee05"
      },
      "outputs": [
        {
          "output_type": "stream",
          "name": "stdout",
          "text": [
            "[]\n"
          ]
        }
      ],
      "source": [
        "explore_reviews_csv_query = \"\"\"\n",
        "MERGE (cpeMatch:CpeMatch {uri:\"cpe:2.3:a:sap:netweaver_application_server_abap:702:*:*:*:*:*:*:*\" })\n",
        "MERGE (cpe:CPE {version:\"702\"})\n",
        "MERGE (cpeMatch)-[:MAPPED_WITH]->(cpe)\n",
        "\n",
        "\"\"\"\n",
        "result = conn.query(explore_reviews_csv_query)\n",
        "print(result)"
      ]
    },
    {
      "cell_type": "code",
      "execution_count": 573,
      "metadata": {
        "id": "EmvZ0vHMlqex",
        "colab": {
          "base_uri": "https://localhost:8080/"
        },
        "outputId": "76a663cd-9834-44e9-f221-9473c7f23b91"
      },
      "outputs": [
        {
          "output_type": "stream",
          "name": "stdout",
          "text": [
            "[]\n"
          ]
        }
      ],
      "source": [
        "explore_reviews_csv_query = \"\"\"\n",
        "MERGE (cpeMatch:CpeMatch {uri:\"cpe:2.3:a:sap:netweaver_application_server_abap:750:*:*:*:*:*:*:*\" })\n",
        "MERGE (cpe:CPE {version:\"750\"})\n",
        "MERGE (cpeMatch)-[:MAPPED_WITH]->(cpe)\n",
        "\n",
        "\"\"\"\n",
        "result = conn.query(explore_reviews_csv_query)\n",
        "print(result)"
      ]
    },
    {
      "cell_type": "code",
      "execution_count": 574,
      "metadata": {
        "id": "uUh-YkFul1-o",
        "colab": {
          "base_uri": "https://localhost:8080/"
        },
        "outputId": "8b52d41f-a82e-4a53-ef54-4cc58de55634"
      },
      "outputs": [
        {
          "output_type": "stream",
          "name": "stdout",
          "text": [
            "[]\n"
          ]
        }
      ],
      "source": [
        "explore_reviews_csv_query = \"\"\"\n",
        "MERGE (cpeMatch:CpeMatch {uri:\"cpe:2.3:a:sap:netweaver_application_server_abap:752:*:*:*:*:*:*:*\" })\n",
        "MERGE (cpe:CPE {version:\"752\"})\n",
        "MERGE (cpeMatch)-[:MAPPED_WITH]->(cpe)\n",
        "\n",
        "\"\"\"\n",
        "result = conn.query(explore_reviews_csv_query)\n",
        "print(result)"
      ]
    },
    {
      "cell_type": "code",
      "execution_count": 575,
      "metadata": {
        "id": "NvcgSg_ml33y",
        "colab": {
          "base_uri": "https://localhost:8080/"
        },
        "outputId": "e280aea8-4c21-492c-f218-be7d300db9d8"
      },
      "outputs": [
        {
          "output_type": "stream",
          "name": "stdout",
          "text": [
            "[]\n"
          ]
        }
      ],
      "source": [
        "explore_reviews_csv_query = \"\"\"\n",
        "MERGE (cpeMatch:CpeMatch {uri:\"cpe:2.3:a:sap:netweaver_application_server_abap:753:*:*:*:*:*:*:*\" })\n",
        "MERGE (cpe:CPE {version:\"753\"})\n",
        "MERGE (cpeMatch)-[:MAPPED_WITH]->(cpe)\n",
        "\n",
        "\"\"\"\n",
        "result = conn.query(explore_reviews_csv_query)\n",
        "print(result)"
      ]
    },
    {
      "cell_type": "code",
      "execution_count": 576,
      "metadata": {
        "id": "1e-LB5lil5hc",
        "colab": {
          "base_uri": "https://localhost:8080/"
        },
        "outputId": "cefa1a4e-766e-4b95-c589-e14c5258016b"
      },
      "outputs": [
        {
          "output_type": "stream",
          "name": "stdout",
          "text": [
            "[]\n"
          ]
        }
      ],
      "source": [
        "explore_reviews_csv_query = \"\"\"\n",
        "MERGE (cpeMatch:CpeMatch {uri:\"cpe:2.3:a:sap:netweaver_application_server_abap:754:*:*:*:*:*:*:*\" })\n",
        "MERGE (cpe:CPE {version:\"754\"})\n",
        "MERGE (cpeMatch)-[:MAPPED_WITH]->(cpe)\n",
        "\n",
        "\"\"\"\n",
        "result = conn.query(explore_reviews_csv_query)\n",
        "print(result)"
      ]
    },
    {
      "cell_type": "code",
      "execution_count": 577,
      "metadata": {
        "id": "bqZb_yAJl8Cj",
        "colab": {
          "base_uri": "https://localhost:8080/"
        },
        "outputId": "9b9a605d-2a33-4564-ab66-be1ee9f7323f"
      },
      "outputs": [
        {
          "output_type": "stream",
          "name": "stdout",
          "text": [
            "[]\n"
          ]
        }
      ],
      "source": [
        "explore_reviews_csv_query = \"\"\"\n",
        "MERGE (cpeMatch:CpeMatch {uri:\"cpe:2.3:a:sap:netweaver_application_server_abap:755:*:*:*:*:*:*:*\" })\n",
        "MERGE (cpe:CPE {version:\"755\"})\n",
        "MERGE (cpeMatch)-[:MAPPED_WITH]->(cpe)\n",
        "\n",
        "\"\"\"\n",
        "result = conn.query(explore_reviews_csv_query)\n",
        "print(result)"
      ]
    },
    {
      "cell_type": "code",
      "execution_count": 578,
      "metadata": {
        "id": "A25kD7aM8due",
        "colab": {
          "base_uri": "https://localhost:8080/"
        },
        "outputId": "f53dcc4a-b84a-4d2c-8d69-61a937d9292a"
      },
      "outputs": [
        {
          "output_type": "stream",
          "name": "stdout",
          "text": [
            "[]\n"
          ]
        }
      ],
      "source": [
        "explore_reviews_csv_query = \"\"\"\n",
        "MERGE (cpeMatch:CpeMatch {uri:\"cpe:2.3:a:sap:netweaver_application_server_abap:756:*:*:*:*:*:*:*\" })\n",
        "MERGE (cpe:CPE {version:\"756\"})\n",
        "MERGE (cpeMatch)-[:MAPPED_WITH]->(cpe)\n",
        "\n",
        "\"\"\"\n",
        "result = conn.query(explore_reviews_csv_query)\n",
        "print(result)"
      ]
    },
    {
      "cell_type": "code",
      "execution_count": 579,
      "metadata": {
        "id": "6_asvk5elmU4",
        "colab": {
          "base_uri": "https://localhost:8080/"
        },
        "outputId": "34870c51-4b48-48e9-8b63-a4cebeb265ee"
      },
      "outputs": [
        {
          "output_type": "stream",
          "name": "stdout",
          "text": [
            "[]\n"
          ]
        }
      ],
      "source": [
        "explore_reviews_csv_query = \"\"\"\n",
        "MERGE (cpeMatch:CpeMatch {uri:\"cpe:2.3:a:sap:netweaver_application_server_abap:731:*:*:*:*:*:*:*\" })\n",
        "MERGE (cpe:CPE {version:\"731\"})\n",
        "MERGE (cpeMatch)-[:MAPPED_WITH]->(cpe)\n",
        "\n",
        "\"\"\"\n",
        "result = conn.query(explore_reviews_csv_query)\n",
        "print(result)"
      ]
    },
    {
      "cell_type": "code",
      "execution_count": 580,
      "metadata": {
        "id": "iPjsqunuloiy",
        "colab": {
          "base_uri": "https://localhost:8080/"
        },
        "outputId": "4007bb8c-a317-40cc-ce8d-d67317eed7f5"
      },
      "outputs": [
        {
          "output_type": "stream",
          "name": "stdout",
          "text": [
            "[]\n"
          ]
        }
      ],
      "source": [
        "explore_reviews_csv_query = \"\"\"\n",
        "MERGE (cpeMatch:CpeMatch {uri:\"cpe:2.3:a:sap:netweaver_application_server_abap:740:*:*:*:*:*:*:*\" })\n",
        "MERGE (cpe:CPE {version:\"740\"})\n",
        "MERGE (cpeMatch)-[:MAPPED_WITH]->(cpe)\n",
        "\n",
        "\"\"\"\n",
        "result = conn.query(explore_reviews_csv_query)\n",
        "print(result)"
      ]
    },
    {
      "cell_type": "code",
      "execution_count": 581,
      "metadata": {
        "id": "WAVztOyjlzzs",
        "colab": {
          "base_uri": "https://localhost:8080/"
        },
        "outputId": "4ecb018d-b739-46a3-d836-d59838849c8f"
      },
      "outputs": [
        {
          "output_type": "stream",
          "name": "stdout",
          "text": [
            "[]\n"
          ]
        }
      ],
      "source": [
        "explore_reviews_csv_query = \"\"\"\n",
        "MERGE (cpeMatch:CpeMatch {uri:\"cpe:2.3:a:sap:netweaver_application_server_abap:751:*:*:*:*:*:*:*\" })\n",
        "MERGE (cpe:CPE {version:\"751\"})\n",
        "MERGE (cpeMatch)-[:MAPPED_WITH]->(cpe)\n",
        "\n",
        "\"\"\"\n",
        "result = conn.query(explore_reviews_csv_query)\n",
        "print(result)"
      ]
    },
    {
      "cell_type": "code",
      "execution_count": 582,
      "metadata": {
        "id": "SyeXOGMh8f-w",
        "colab": {
          "base_uri": "https://localhost:8080/"
        },
        "outputId": "dd854a5d-2b80-43b4-e332-6035d05f383a"
      },
      "outputs": [
        {
          "output_type": "stream",
          "name": "stdout",
          "text": [
            "[]\n"
          ]
        }
      ],
      "source": [
        "explore_reviews_csv_query = \"\"\"\n",
        "MERGE (cpeMatch:CpeMatch {uri:\"cpe:2.3:a:sap:netweaver_application_server_abap:757:*:*:*:*:*:*:*\" })\n",
        "MERGE (cpe:CPE {version:\"757\"})\n",
        "MERGE (cpeMatch)-[:MAPPED_WITH]->(cpe)\n",
        "\n",
        "\"\"\"\n",
        "result = conn.query(explore_reviews_csv_query)\n",
        "print(result)"
      ]
    },
    {
      "cell_type": "code",
      "execution_count": 583,
      "metadata": {
        "id": "oZJ5mTvlle7y",
        "colab": {
          "base_uri": "https://localhost:8080/"
        },
        "outputId": "84713b6b-9c42-4e5a-be14-e35a1a5b957c"
      },
      "outputs": [
        {
          "output_type": "stream",
          "name": "stdout",
          "text": [
            "[]\n"
          ]
        }
      ],
      "source": [
        "explore_reviews_csv_query = \"\"\"\n",
        "MERGE (cpeMatch:CpeMatch {uri:\"cpe:2.3:a:sap:netweaver_application_server_abap:702:*:*:*:sap_basis:*:*:*\" })\n",
        "MERGE (cpe:CPE {version:\"702\"})\n",
        "MERGE (cpeMatch)-[:MAPPED_WITH]->(cpe)\n",
        "\n",
        "\"\"\"\n",
        "result = conn.query(explore_reviews_csv_query)\n",
        "print(result)"
      ]
    },
    {
      "cell_type": "code",
      "execution_count": 584,
      "metadata": {
        "id": "PazmT6TJ8rRe",
        "colab": {
          "base_uri": "https://localhost:8080/"
        },
        "outputId": "8961d920-a891-42fc-e13f-a5816c969658"
      },
      "outputs": [
        {
          "output_type": "stream",
          "name": "stdout",
          "text": [
            "[]\n"
          ]
        }
      ],
      "source": [
        "explore_reviews_csv_query = \"\"\"\n",
        "MERGE (cpeMatch:CpeMatch {uri:\"cpe:2.3:a:sap:netweaver_as_abap_krnl64nuc:7.22ext:*:*:*:*:*:*:*\" })\n",
        "MERGE (cpe:CPE {version:\"7.22ext\"})\n",
        "MERGE (cpeMatch)-[:MAPPED_WITH]->(cpe)\n",
        "\n",
        "\"\"\"\n",
        "result = conn.query(explore_reviews_csv_query)\n",
        "print(result)"
      ]
    },
    {
      "cell_type": "code",
      "execution_count": 585,
      "metadata": {
        "id": "Gc20DxOC8uDy",
        "colab": {
          "base_uri": "https://localhost:8080/"
        },
        "outputId": "3ce3c24c-41ac-4cd4-e9ac-f4d2817c0d8f"
      },
      "outputs": [
        {
          "output_type": "stream",
          "name": "stdout",
          "text": [
            "[]\n"
          ]
        }
      ],
      "source": [
        "explore_reviews_csv_query = \"\"\"\n",
        "MERGE (cpeMatch:CpeMatch {uri:\"cpe:2.3:a:sap:netweaver_as_abap_krnl64uc:7.53:*:*:*:*:*:*:*\" })\n",
        "MERGE (cpe:CPE {version:\"7.53\"})\n",
        "MERGE (cpeMatch)-[:MAPPED_WITH]->(cpe)\n",
        "\n",
        "\"\"\"\n",
        "result = conn.query(explore_reviews_csv_query)\n",
        "print(result)"
      ]
    },
    {
      "cell_type": "code",
      "execution_count": 586,
      "metadata": {
        "id": "oe1q7sBY8qbG",
        "colab": {
          "base_uri": "https://localhost:8080/"
        },
        "outputId": "03a58b32-e56b-4aa1-823b-ef6f01c25fd6"
      },
      "outputs": [
        {
          "output_type": "stream",
          "name": "stdout",
          "text": [
            "[]\n"
          ]
        }
      ],
      "source": [
        "explore_reviews_csv_query = \"\"\"\n",
        "MERGE (cpeMatch:CpeMatch {uri:\"cpe:2.3:a:sap:netweaver_as_abap_krnl64nuc:7.22:*:*:*:*:*:*:*\" })\n",
        "MERGE (cpe:CPE {version:\"7.22\"})\n",
        "MERGE (cpeMatch)-[:MAPPED_WITH]->(cpe)\n",
        "\n",
        "\"\"\"\n",
        "result = conn.query(explore_reviews_csv_query)\n",
        "print(result)"
      ]
    },
    {
      "cell_type": "code",
      "execution_count": 587,
      "metadata": {
        "id": "Jh9kyOUq8kBJ",
        "colab": {
          "base_uri": "https://localhost:8080/"
        },
        "outputId": "e413b46c-2084-4fab-a9e7-343dccdfbf00"
      },
      "outputs": [
        {
          "output_type": "stream",
          "name": "stdout",
          "text": [
            "[]\n"
          ]
        }
      ],
      "source": [
        "explore_reviews_csv_query = \"\"\"\n",
        "MERGE (cpeMatch:CpeMatch {uri:\"cpe:2.3:a:sap:netweaver_as_abap_kernel:7.22:*:*:*:*:*:*:*\" })\n",
        "MERGE (cpe:CPE {version:\"7.22\"})\n",
        "MERGE (cpeMatch)-[:MAPPED_WITH]->(cpe)\n",
        "\n",
        "\"\"\"\n",
        "result = conn.query(explore_reviews_csv_query)\n",
        "print(result)"
      ]
    },
    {
      "cell_type": "code",
      "execution_count": 588,
      "metadata": {
        "id": "QNKafT_Q8k1f",
        "colab": {
          "base_uri": "https://localhost:8080/"
        },
        "outputId": "c4fae58a-5d80-44c7-c94d-546372822004"
      },
      "outputs": [
        {
          "output_type": "stream",
          "name": "stdout",
          "text": [
            "[]\n"
          ]
        }
      ],
      "source": [
        "explore_reviews_csv_query = \"\"\"\n",
        "MERGE (cpeMatch:CpeMatch {uri:\"cpe:2.3:a:sap:netweaver_as_abap_kernel:7.53:*:*:*:*:*:*:*\" })\n",
        "MERGE (cpe:CPE {version:\"7.53\"})\n",
        "MERGE (cpeMatch)-[:MAPPED_WITH]->(cpe)\n",
        "\n",
        "\"\"\"\n",
        "result = conn.query(explore_reviews_csv_query)\n",
        "print(result)"
      ]
    },
    {
      "cell_type": "code",
      "execution_count": 589,
      "metadata": {
        "id": "kLuNRj978l1w",
        "colab": {
          "base_uri": "https://localhost:8080/"
        },
        "outputId": "b1e44264-8221-4405-fd61-d19535e620e7"
      },
      "outputs": [
        {
          "output_type": "stream",
          "name": "stdout",
          "text": [
            "[]\n"
          ]
        }
      ],
      "source": [
        "explore_reviews_csv_query = \"\"\"\n",
        "MERGE (cpeMatch:CpeMatch {uri:\"cpe:2.3:a:sap:netweaver_as_abap_kernel:7.77:*:*:*:*:*:*:*\" })\n",
        "MERGE (cpe:CPE {version:\"7.77\"})\n",
        "MERGE (cpeMatch)-[:MAPPED_WITH]->(cpe)\n",
        "\n",
        "\"\"\"\n",
        "result = conn.query(explore_reviews_csv_query)\n",
        "print(result)"
      ]
    },
    {
      "cell_type": "code",
      "execution_count": 590,
      "metadata": {
        "id": "Q-OYYGAX8ms_",
        "colab": {
          "base_uri": "https://localhost:8080/"
        },
        "outputId": "fc53aa5b-acfc-4796-a51e-daa423fae33c"
      },
      "outputs": [
        {
          "output_type": "stream",
          "name": "stdout",
          "text": [
            "[]\n"
          ]
        }
      ],
      "source": [
        "explore_reviews_csv_query = \"\"\"\n",
        "MERGE (cpeMatch:CpeMatch {uri:\"cpe:2.3:a:sap:netweaver_as_abap_kernel:7.81:*:*:*:*:*:*:*\" })\n",
        "MERGE (cpe:CPE {version:\"7.81\"})\n",
        "MERGE (cpeMatch)-[:MAPPED_WITH]->(cpe)\n",
        "\n",
        "\"\"\"\n",
        "result = conn.query(explore_reviews_csv_query)\n",
        "print(result)"
      ]
    },
    {
      "cell_type": "code",
      "execution_count": 591,
      "metadata": {
        "id": "lAPeVdAs8n7w",
        "colab": {
          "base_uri": "https://localhost:8080/"
        },
        "outputId": "7b871a85-95c1-4e35-8053-ed0ab2170bb5"
      },
      "outputs": [
        {
          "output_type": "stream",
          "name": "stdout",
          "text": [
            "[]\n"
          ]
        }
      ],
      "source": [
        "explore_reviews_csv_query = \"\"\"\n",
        "MERGE (cpeMatch:CpeMatch {uri:\"cpe:2.3:a:sap:netweaver_as_abap_kernel:7.85:*:*:*:*:*:*:*\" })\n",
        "MERGE (cpe:CPE {version:\"7.85\"})\n",
        "MERGE (cpeMatch)-[:MAPPED_WITH]->(cpe)\n",
        "\n",
        "\"\"\"\n",
        "result = conn.query(explore_reviews_csv_query)\n",
        "print(result)"
      ]
    },
    {
      "cell_type": "code",
      "execution_count": 592,
      "metadata": {
        "id": "xNzOHV5v8tH8",
        "colab": {
          "base_uri": "https://localhost:8080/"
        },
        "outputId": "41c6273e-7df7-46b9-f807-e006a488e30e"
      },
      "outputs": [
        {
          "output_type": "stream",
          "name": "stdout",
          "text": [
            "[]\n"
          ]
        }
      ],
      "source": [
        "explore_reviews_csv_query = \"\"\"\n",
        "MERGE (cpeMatch:CpeMatch {uri:\"cpe:2.3:a:sap:netweaver_as_abap_krnl64uc:7.22ext:*:*:*:*:*:*:*\" })\n",
        "MERGE (cpe:CPE {version:\"7.22ext\"})\n",
        "MERGE (cpeMatch)-[:MAPPED_WITH]->(cpe)\n",
        "\n",
        "\"\"\"\n",
        "result = conn.query(explore_reviews_csv_query)\n",
        "print(result)"
      ]
    },
    {
      "cell_type": "code",
      "execution_count": 593,
      "metadata": {
        "id": "8-cEYveglcBm",
        "colab": {
          "base_uri": "https://localhost:8080/"
        },
        "outputId": "7db378ff-7599-4661-b231-6bd60088e870"
      },
      "outputs": [
        {
          "output_type": "stream",
          "name": "stdout",
          "text": [
            "[]\n"
          ]
        }
      ],
      "source": [
        "explore_reviews_csv_query = \"\"\"\n",
        "MERGE (cpeMatch:CpeMatch {uri:\"cpe:2.3:a:sap:netweaver_application_server_abap:700:*:*:*:sap_basis:*:*:*\" })\n",
        "MERGE (cpe:CPE {version:\"700\"})\n",
        "MERGE (cpeMatch)-[:MAPPED_WITH]->(cpe)\n",
        "\n",
        "\"\"\"\n",
        "result = conn.query(explore_reviews_csv_query)\n",
        "print(result)"
      ]
    },
    {
      "cell_type": "code",
      "execution_count": 594,
      "metadata": {
        "id": "CvEb5lvAlc7J",
        "colab": {
          "base_uri": "https://localhost:8080/"
        },
        "outputId": "64cc75f9-15a6-4167-823a-b7a1228ff77f"
      },
      "outputs": [
        {
          "output_type": "stream",
          "name": "stdout",
          "text": [
            "[]\n"
          ]
        }
      ],
      "source": [
        "explore_reviews_csv_query = \"\"\"\n",
        "MERGE (cpeMatch:CpeMatch {uri:\"cpe:2.3:a:sap:netweaver_application_server_abap:701:*:*:*:sap_basis:*:*:*\" })\n",
        "MERGE (cpe:CPE {version:\"701\"})\n",
        "MERGE (cpeMatch)-[:MAPPED_WITH]->(cpe)\n",
        "\n",
        "\"\"\"\n",
        "result = conn.query(explore_reviews_csv_query)\n",
        "print(result)"
      ]
    },
    {
      "cell_type": "code",
      "execution_count": 595,
      "metadata": {
        "id": "iDzLl205lhmc",
        "colab": {
          "base_uri": "https://localhost:8080/"
        },
        "outputId": "6fdbed87-e8dc-4240-835a-a1abaaea9650"
      },
      "outputs": [
        {
          "output_type": "stream",
          "name": "stdout",
          "text": [
            "[]\n"
          ]
        }
      ],
      "source": [
        "explore_reviews_csv_query = \"\"\"\n",
        "MERGE (cpeMatch:CpeMatch {uri:\"cpe:2.3:a:sap:netweaver_application_server_abap:710:*:*:*:sap_basis:*:*:*\" })\n",
        "MERGE (cpe:CPE {version:\"710\"})\n",
        "MERGE (cpeMatch)-[:MAPPED_WITH]->(cpe)\n",
        "\n",
        "\"\"\"\n",
        "result = conn.query(explore_reviews_csv_query)\n",
        "print(result)"
      ]
    },
    {
      "cell_type": "code",
      "execution_count": 596,
      "metadata": {
        "id": "lVHrRpuUljMZ",
        "colab": {
          "base_uri": "https://localhost:8080/"
        },
        "outputId": "9df84fb8-bc70-4ed1-9694-2766cc58405c"
      },
      "outputs": [
        {
          "output_type": "stream",
          "name": "stdout",
          "text": [
            "[]\n"
          ]
        }
      ],
      "source": [
        "explore_reviews_csv_query = \"\"\"\n",
        "MERGE (cpeMatch:CpeMatch {uri:\"cpe:2.3:a:sap:netweaver_application_server_abap:711:*:*:*:sap_basis:*:*:*\" })\n",
        "MERGE (cpe:CPE {version:\"711\"})\n",
        "MERGE (cpeMatch)-[:MAPPED_WITH]->(cpe)\n",
        "\n",
        "\"\"\"\n",
        "result = conn.query(explore_reviews_csv_query)\n",
        "print(result)"
      ]
    },
    {
      "cell_type": "code",
      "execution_count": 597,
      "metadata": {
        "id": "PnzGM_mjlkf9",
        "colab": {
          "base_uri": "https://localhost:8080/"
        },
        "outputId": "605bea8e-8513-467e-ff96-0d9346357b80"
      },
      "outputs": [
        {
          "output_type": "stream",
          "name": "stdout",
          "text": [
            "[]\n"
          ]
        }
      ],
      "source": [
        "explore_reviews_csv_query = \"\"\"\n",
        "MERGE (cpeMatch:CpeMatch {uri:\"cpe:2.3:a:sap:netweaver_application_server_abap:730:*:*:*:sap_basis:*:*:*\" })\n",
        "MERGE (cpe:CPE {version:\"730\"})\n",
        "MERGE (cpeMatch)-[:MAPPED_WITH]->(cpe)\n",
        "\n",
        "\"\"\"\n",
        "result = conn.query(explore_reviews_csv_query)\n",
        "print(result)"
      ]
    },
    {
      "cell_type": "code",
      "execution_count": 598,
      "metadata": {
        "id": "MU7726D8lnak",
        "colab": {
          "base_uri": "https://localhost:8080/"
        },
        "outputId": "66179c77-5598-43e0-bfa5-33b4a88f1ed2"
      },
      "outputs": [
        {
          "output_type": "stream",
          "name": "stdout",
          "text": [
            "[]\n"
          ]
        }
      ],
      "source": [
        "explore_reviews_csv_query = \"\"\"\n",
        "MERGE (cpeMatch:CpeMatch {uri:\"cpe:2.3:a:sap:netweaver_application_server_abap:731:*:*:*:sap_basis:*:*:*\" })\n",
        "MERGE (cpe:CPE {version:\"731\"})\n",
        "MERGE (cpeMatch)-[:MAPPED_WITH]->(cpe)\n",
        "\n",
        "\"\"\"\n",
        "result = conn.query(explore_reviews_csv_query)\n",
        "print(result)"
      ]
    },
    {
      "cell_type": "code",
      "execution_count": 599,
      "metadata": {
        "id": "e2DhnZYMlplA",
        "colab": {
          "base_uri": "https://localhost:8080/"
        },
        "outputId": "14a67f4f-91af-4378-f781-19dcad9706b3"
      },
      "outputs": [
        {
          "output_type": "stream",
          "name": "stdout",
          "text": [
            "[]\n"
          ]
        }
      ],
      "source": [
        "explore_reviews_csv_query = \"\"\"\n",
        "MERGE (cpeMatch:CpeMatch {uri:\"cpe:2.3:a:sap:netweaver_application_server_abap:740:*:*:*:sap_basis:*:*:*\" })\n",
        "MERGE (cpe:CPE {version:\"740\"})\n",
        "MERGE (cpeMatch)-[:MAPPED_WITH]->(cpe)\n",
        "\n",
        "\"\"\"\n",
        "result = conn.query(explore_reviews_csv_query)\n",
        "print(result)"
      ]
    },
    {
      "cell_type": "code",
      "execution_count": 600,
      "metadata": {
        "id": "HKnoiNejly3y",
        "colab": {
          "base_uri": "https://localhost:8080/"
        },
        "outputId": "9e7ac800-d156-4d77-9d15-3990519d9e88"
      },
      "outputs": [
        {
          "output_type": "stream",
          "name": "stdout",
          "text": [
            "[]\n"
          ]
        }
      ],
      "source": [
        "explore_reviews_csv_query = \"\"\"\n",
        "MERGE (cpeMatch:CpeMatch {uri:\"cpe:2.3:a:sap:netweaver_application_server_abap:750:*:*:*:sap_basis:*:*:*\" })\n",
        "MERGE (cpe:CPE {version:\"750\"})\n",
        "MERGE (cpeMatch)-[:MAPPED_WITH]->(cpe)\n",
        "\n",
        "\"\"\"\n",
        "result = conn.query(explore_reviews_csv_query)\n",
        "print(result)"
      ]
    },
    {
      "cell_type": "code",
      "execution_count": 601,
      "metadata": {
        "id": "MIiSlCxAl0v8",
        "colab": {
          "base_uri": "https://localhost:8080/"
        },
        "outputId": "b349bf67-5b3c-4b77-b3c9-65d658f3e6ae"
      },
      "outputs": [
        {
          "output_type": "stream",
          "name": "stdout",
          "text": [
            "[]\n"
          ]
        }
      ],
      "source": [
        "explore_reviews_csv_query = \"\"\"\n",
        "MERGE (cpeMatch:CpeMatch {uri:\"cpe:2.3:a:sap:netweaver_application_server_abap:751:*:*:*:sap_basis:*:*:*\" })\n",
        "MERGE (cpe:CPE {version:\"751\"})\n",
        "MERGE (cpeMatch)-[:MAPPED_WITH]->(cpe)\n",
        "\n",
        "\"\"\"\n",
        "result = conn.query(explore_reviews_csv_query)\n",
        "print(result)"
      ]
    },
    {
      "cell_type": "code",
      "execution_count": 602,
      "metadata": {
        "id": "q-X3TUtBl288",
        "colab": {
          "base_uri": "https://localhost:8080/"
        },
        "outputId": "fc4543c5-a143-4383-f3e2-67294abc8570"
      },
      "outputs": [
        {
          "output_type": "stream",
          "name": "stdout",
          "text": [
            "[]\n"
          ]
        }
      ],
      "source": [
        "explore_reviews_csv_query = \"\"\"\n",
        "MERGE (cpeMatch:CpeMatch {uri:\"cpe:2.3:a:sap:netweaver_application_server_abap:752:*:*:*:sap_basis:*:*:*\" })\n",
        "MERGE (cpe:CPE {version:\"752\"})\n",
        "MERGE (cpeMatch)-[:MAPPED_WITH]->(cpe)\n",
        "\n",
        "\"\"\"\n",
        "result = conn.query(explore_reviews_csv_query)\n",
        "print(result)"
      ]
    },
    {
      "cell_type": "code",
      "execution_count": 603,
      "metadata": {
        "colab": {
          "base_uri": "https://localhost:8080/"
        },
        "id": "fj24pVAml4os",
        "outputId": "9b40e27f-7f3d-4f07-98f0-0cacdbb87f47"
      },
      "outputs": [
        {
          "output_type": "stream",
          "name": "stdout",
          "text": [
            "[]\n"
          ]
        }
      ],
      "source": [
        "explore_reviews_csv_query = \"\"\"\n",
        "MERGE (cpeMatch:CpeMatch {uri:\"cpe:2.3:a:sap:netweaver_application_server_abap:753:*:*:*:sap_basis:*:*:*\" })\n",
        "MERGE (cpe:CPE {version:\"753\"})\n",
        "MERGE (cpeMatch)-[:MAPPED_WITH]->(cpe)\n",
        "\n",
        "\"\"\"\n",
        "result = conn.query(explore_reviews_csv_query)\n",
        "print(result)"
      ]
    },
    {
      "cell_type": "code",
      "execution_count": 604,
      "metadata": {
        "colab": {
          "base_uri": "https://localhost:8080/"
        },
        "id": "sEGg2-VDl6v8",
        "outputId": "404c8bbd-a4f4-4d53-8c8d-d7414ab01e18"
      },
      "outputs": [
        {
          "output_type": "stream",
          "name": "stdout",
          "text": [
            "[]\n"
          ]
        }
      ],
      "source": [
        "explore_reviews_csv_query = \"\"\"\n",
        "MERGE (cpeMatch:CpeMatch {uri:\"cpe:2.3:a:sap:netweaver_application_server_abap:754:*:*:*:sap_basis:*:*:*\" })\n",
        "MERGE (cpe:CPE {version:\"754\"})\n",
        "MERGE (cpeMatch)-[:MAPPED_WITH]->(cpe)\n",
        "\n",
        "\"\"\"\n",
        "result = conn.query(explore_reviews_csv_query)\n",
        "print(result)"
      ]
    },
    {
      "cell_type": "code",
      "execution_count": 605,
      "metadata": {
        "colab": {
          "base_uri": "https://localhost:8080/"
        },
        "id": "KFYj95Sv8Q-j",
        "outputId": "dcaaef57-82a1-493e-ca37-73e930c757d0"
      },
      "outputs": [
        {
          "output_type": "stream",
          "name": "stdout",
          "text": [
            "[]\n"
          ]
        }
      ],
      "source": [
        "explore_reviews_csv_query = \"\"\"\n",
        "MERGE (cpeMatch:CpeMatch {uri:\"cpe:2.3:a:sap:netweaver_application_server_abap:755:*:*:*:sap_basis:*:*:*\" })\n",
        "MERGE (cpe:CPE {version:\"755\"})\n",
        "MERGE (cpeMatch)-[:MAPPED_WITH]->(cpe)\n",
        "\n",
        "\"\"\"\n",
        "result = conn.query(explore_reviews_csv_query)\n",
        "print(result)"
      ]
    },
    {
      "cell_type": "code",
      "execution_count": 606,
      "metadata": {
        "colab": {
          "base_uri": "https://localhost:8080/"
        },
        "id": "PGAxEOgb8evX",
        "outputId": "96f4fee2-f189-4547-907c-9b27f0d5eba0"
      },
      "outputs": [
        {
          "output_type": "stream",
          "name": "stdout",
          "text": [
            "[]\n"
          ]
        }
      ],
      "source": [
        "explore_reviews_csv_query = \"\"\"\n",
        "MERGE (cpeMatch:CpeMatch {uri:\"cpe:2.3:a:sap:netweaver_application_server_abap:756:*:*:*:sap_basis:*:*:*\" })\n",
        "MERGE (cpe:CPE {version:\"756\"})\n",
        "MERGE (cpeMatch)-[:MAPPED_WITH]->(cpe)\n",
        "\n",
        "\"\"\"\n",
        "result = conn.query(explore_reviews_csv_query)\n",
        "print(result)"
      ]
    },
    {
      "cell_type": "code",
      "execution_count": 607,
      "metadata": {
        "colab": {
          "base_uri": "https://localhost:8080/"
        },
        "id": "dbkOXjAP8g1i",
        "outputId": "d7308b5b-a6ae-499a-9576-6f6bfa8e2195"
      },
      "outputs": [
        {
          "output_type": "stream",
          "name": "stdout",
          "text": [
            "[]\n"
          ]
        }
      ],
      "source": [
        "explore_reviews_csv_query = \"\"\"\n",
        "MERGE (cpeMatch:CpeMatch {uri:\"cpe:2.3:a:sap:netweaver_application_server_abap:757:*:*:*:sap_basis:*:*:*\" })\n",
        "MERGE (cpe:CPE {version:\"757\"})\n",
        "MERGE (cpeMatch)-[:MAPPED_WITH]->(cpe)\n",
        "\n",
        "\"\"\"\n",
        "result = conn.query(explore_reviews_csv_query)\n",
        "print(result)"
      ]
    },
    {
      "cell_type": "code",
      "execution_count": 608,
      "metadata": {
        "colab": {
          "base_uri": "https://localhost:8080/"
        },
        "id": "5pqSTgTW8pP7",
        "outputId": "9ad88fb1-c56a-4dec-bab5-8d38bacbd80b"
      },
      "outputs": [
        {
          "output_type": "stream",
          "name": "stdout",
          "text": [
            "[]\n"
          ]
        }
      ],
      "source": [
        "explore_reviews_csv_query = \"\"\"\n",
        "MERGE (cpeMatch:CpeMatch {uri:\"cpe:2.3:a:sap:netweaver_as_abap_kernel:7.89:*:*:*:*:*:*:*\" })\n",
        "MERGE (cpe:CPE {version:\"7.89\"})\n",
        "MERGE (cpeMatch)-[:MAPPED_WITH]->(cpe)\n",
        "\n",
        "\"\"\"\n",
        "result = conn.query(explore_reviews_csv_query)\n",
        "print(result)"
      ]
    },
    {
      "cell_type": "code",
      "execution_count": 609,
      "metadata": {
        "colab": {
          "base_uri": "https://localhost:8080/"
        },
        "id": "8n_04uVPFgQ4",
        "outputId": "9708cbc9-633d-46cd-b1ea-ac1a652cecb4"
      },
      "outputs": [
        {
          "output_type": "stream",
          "name": "stdout",
          "text": [
            "[]\n"
          ]
        }
      ],
      "source": [
        "explore_reviews_csv_query = \"\"\"\n",
        "MERGE (cpeMatch:CpeMatch {uri:\"cpe:2.3:a:sap:business_objects_business_intelligence_platform:420:*:*:*:*:*:*:*\" })\n",
        "MERGE (cpe:CPE {version:\"420\"})\n",
        "MERGE (cpeMatch)-[:MAPPED_WITH]->(cpe)\n",
        "\n",
        "\"\"\"\n",
        "result = conn.query(explore_reviews_csv_query)\n",
        "print(result)"
      ]
    },
    {
      "cell_type": "code",
      "execution_count": 610,
      "metadata": {
        "colab": {
          "base_uri": "https://localhost:8080/"
        },
        "id": "ixCqK_VllPi3",
        "outputId": "036297c9-eee7-4705-f7dc-246c2358361f"
      },
      "outputs": [
        {
          "output_type": "stream",
          "name": "stdout",
          "text": [
            "[]\n"
          ]
        }
      ],
      "source": [
        "explore_reviews_csv_query = \"\"\"\n",
        "MERGE (cpeMatch:CpeMatch {uri:\"cpe:2.3:a:sap:business_planning_and_consolidation:810:*:*:*:*:microsoft:*:*\" })\n",
        "MERGE (cpe:CPE {version:\"810\"})\n",
        "MERGE (cpeMatch)-[:MAPPED_WITH]->(cpe)\n",
        "\n",
        "\"\"\"\n",
        "result = conn.query(explore_reviews_csv_query)\n",
        "print(result)"
      ]
    },
    {
      "cell_type": "code",
      "execution_count": 611,
      "metadata": {
        "colab": {
          "base_uri": "https://localhost:8080/"
        },
        "id": "phfT7_GZlOIG",
        "outputId": "16837979-5a22-419d-86b4-06e42c7a9806"
      },
      "outputs": [
        {
          "output_type": "stream",
          "name": "stdout",
          "text": [
            "[]\n"
          ]
        }
      ],
      "source": [
        "explore_reviews_csv_query = \"\"\"\n",
        "MERGE (cpeMatch:CpeMatch {uri:\"cpe:2.3:a:sap:business_planning_and_consolidation:800:*:*:*:*:microsoft:*:*\" })\n",
        "MERGE (cpe:CPE {version:\"800\"})\n",
        "MERGE (cpeMatch)-[:MAPPED_WITH]->(cpe)\n",
        "\n",
        "\"\"\"\n",
        "result = conn.query(explore_reviews_csv_query)\n",
        "print(result)"
      ]
    },
    {
      "cell_type": "code",
      "execution_count": 612,
      "metadata": {
        "colab": {
          "base_uri": "https://localhost:8080/"
        },
        "id": "RNRVapf_8jBy",
        "outputId": "da37d944-2519-469a-9c18-941fe0ae47e9"
      },
      "outputs": [
        {
          "output_type": "stream",
          "name": "stdout",
          "text": [
            "[]\n"
          ]
        }
      ],
      "source": [
        "explore_reviews_csv_query = \"\"\"\n",
        "MERGE (cpeMatch:CpeMatch {uri:\"cpe:2.3:a:sap:netweaver_application_server_for_java:7.50:*:*:*:*:*:*:*\" })\n",
        "MERGE (cpe:CPE {version:\"7.50\"})\n",
        "MERGE (cpeMatch)-[:MAPPED_WITH]->(cpe)\n",
        "\n",
        "\"\"\"\n",
        "result = conn.query(explore_reviews_csv_query)\n",
        "print(result)"
      ]
    },
    {
      "cell_type": "code",
      "execution_count": 613,
      "metadata": {
        "colab": {
          "base_uri": "https://localhost:8080/"
        },
        "id": "0ae3KnbtlQct",
        "outputId": "7cc5567c-2c99-4944-ceaa-49059929b3bd"
      },
      "outputs": [
        {
          "output_type": "stream",
          "name": "stdout",
          "text": [
            "[]\n"
          ]
        }
      ],
      "source": [
        "explore_reviews_csv_query = \"\"\"\n",
        "MERGE (cpeMatch:CpeMatch {uri:\"cpe:2.3:a:sap:businessobjects_business_intelligence_platform:420:*:*:*:*:*:*:*\" })\n",
        "MERGE (cpe:CPE {version:\"420\"})\n",
        "MERGE (cpeMatch)-[:MAPPED_WITH]->(cpe)\n",
        "\n",
        "\"\"\"\n",
        "result = conn.query(explore_reviews_csv_query)\n",
        "print(result)"
      ]
    },
    {
      "cell_type": "code",
      "execution_count": 614,
      "metadata": {
        "colab": {
          "base_uri": "https://localhost:8080/"
        },
        "id": "LnEdxBrllSh0",
        "outputId": "3489d0bf-8908-41a2-c583-f87d8d1d159b"
      },
      "outputs": [
        {
          "output_type": "stream",
          "name": "stdout",
          "text": [
            "[]\n"
          ]
        }
      ],
      "source": [
        "explore_reviews_csv_query = \"\"\"\n",
        "MERGE (cpeMatch:CpeMatch {uri:\"cpe:2.3:a:sap:businessobjects_business_intelligence_platform:430:*:*:*:*:*:*:*\" })\n",
        "MERGE (cpe:CPE {version:\"430\"})\n",
        "MERGE (cpeMatch)-[:MAPPED_WITH]->(cpe)\n",
        "\n",
        "\"\"\"\n",
        "result = conn.query(explore_reviews_csv_query)\n",
        "print(result)"
      ]
    },
    {
      "cell_type": "code",
      "execution_count": 615,
      "metadata": {
        "colab": {
          "base_uri": "https://localhost:8080/"
        },
        "id": "_HJaQ1NilRUD",
        "outputId": "32eb9ef3-9e7b-4ef0-cb88-f0c3be3baf02"
      },
      "outputs": [
        {
          "output_type": "stream",
          "name": "stdout",
          "text": [
            "[]\n"
          ]
        }
      ],
      "source": [
        "explore_reviews_csv_query = \"\"\"\n",
        "MERGE (cpeMatch:CpeMatch {uri:\"cpe:2.3:a:sap:businessobjects_business_intelligence_platform:420:*:*:*:analysis:olap:*:*\" })\n",
        "MERGE (cpe:CPE {version:\"420\"})\n",
        "MERGE (cpeMatch)-[:MAPPED_WITH]->(cpe)\n",
        "\n",
        "\"\"\"\n",
        "result = conn.query(explore_reviews_csv_query)\n",
        "print(result)"
      ]
    },
    {
      "cell_type": "code",
      "execution_count": 616,
      "metadata": {
        "colab": {
          "base_uri": "https://localhost:8080/"
        },
        "id": "4BBQv4MBlYN0",
        "outputId": "bf57d848-70a0-4631-ad02-5dcb0acf5bb6"
      },
      "outputs": [
        {
          "output_type": "stream",
          "name": "stdout",
          "text": [
            "[]\n"
          ]
        }
      ],
      "source": [
        "explore_reviews_csv_query = \"\"\"\n",
        "MERGE (cpeMatch:CpeMatch {uri:\"cpe:2.3:a:sap:businessobjects_business_intelligence_platform:430:*:*:*:analysis:olap:*:*\" })\n",
        "MERGE (cpe:CPE {version:\"430\"})\n",
        "MERGE (cpeMatch)-[:MAPPED_WITH]->(cpe)\n",
        "\n",
        "\"\"\"\n",
        "result = conn.query(explore_reviews_csv_query)\n",
        "print(result)"
      ]
    },
    {
      "cell_type": "code",
      "execution_count": 617,
      "metadata": {
        "colab": {
          "base_uri": "https://localhost:8080/"
        },
        "id": "w64VdVfuhxfS",
        "outputId": "53c2a06f-84e4-4e0c-e653-e920efdddc2f"
      },
      "outputs": [
        {
          "output_type": "stream",
          "name": "stdout",
          "text": [
            "[]\n"
          ]
        }
      ],
      "source": [
        "explore_reviews_csv_query = \"\"\"\n",
        "MERGE (cpeMatch:CpeMatch {uri:\"cpe:2.3:a:sap:bank_account_management:900:*:*:*:*:*:*:*\" })\n",
        "MERGE (cpe:CPE {version:\"900\"})\n",
        "MERGE (cpeMatch)-[:MAPPED_WITH]->(cpe)\n",
        "\n",
        "\"\"\"\n",
        "result = conn.query(explore_reviews_csv_query)\n",
        "print(result)"
      ]
    },
    {
      "cell_type": "code",
      "execution_count": 618,
      "metadata": {
        "colab": {
          "base_uri": "https://localhost:8080/"
        },
        "id": "4NYG_JuJ2np3",
        "outputId": "4e0eb5e5-b80a-4c89-e4da-dec2d57b5ba9"
      },
      "outputs": [
        {
          "output_type": "stream",
          "name": "stdout",
          "text": [
            "[]\n"
          ]
        }
      ],
      "source": [
        "explore_reviews_csv_query = \"\"\"\n",
        "MERGE (cpeMatch:CpeMatch {uri:\"cpe:2.3:a:sap:bank_account_management:800:*:*:*:*:*:*:*\" })\n",
        "MERGE (cpe:CPE {version:\"800\"})\n",
        "MERGE (cpeMatch)-[:MAPPED_WITH]->(cpe)\n",
        "\n",
        "\"\"\"\n",
        "result = conn.query(explore_reviews_csv_query)\n",
        "print(result)"
      ]
    },
    {
      "cell_type": "code",
      "execution_count": 619,
      "metadata": {
        "colab": {
          "base_uri": "https://localhost:8080/"
        },
        "id": "rL35pxMdmEYp",
        "outputId": "122cb2c3-3dc2-433b-ad48-8f70160ac7b4"
      },
      "outputs": [
        {
          "output_type": "stream",
          "name": "stdout",
          "text": [
            "[]\n"
          ]
        }
      ],
      "source": [
        "explore_reviews_csv_query = \"\"\"\n",
        "MERGE (cpeMatch:CpeMatch {uri:\"cpe:2.3:a:linagora:twake:*:*:*:*:*:*:*:*\" })\n",
        "MERGE (cpe:CPE {version:\"*\"})\n",
        "MERGE (cpeMatch)-[:MAPPED_WITH]->(cpe)\n",
        "\n",
        "\"\"\"\n",
        "result = conn.query(explore_reviews_csv_query)\n",
        "print(result)"
      ]
    },
    {
      "cell_type": "code",
      "execution_count": 620,
      "metadata": {
        "colab": {
          "base_uri": "https://localhost:8080/"
        },
        "id": "1n3v0vB781t3",
        "outputId": "5f42e53f-9fb6-4997-be19-3e681c56a26a"
      },
      "outputs": [
        {
          "output_type": "stream",
          "name": "stdout",
          "text": [
            "[]\n"
          ]
        }
      ],
      "source": [
        "explore_reviews_csv_query = \"\"\"\n",
        "MERGE (cpeMatch:CpeMatch {uri:\"cpe:2.3:o:multilaserempresas:re708_firmware:re1200r4gc-2t2r-v3_v3411b_mul029b:*:*:*:*:*:*:*\" })\n",
        "MERGE (cpe:CPE {version:\"re1200r4gc-2t2r-v3_v3411b_mul029b\"})\n",
        "MERGE (cpeMatch)-[:MAPPED_WITH]->(cpe)\n",
        "\n",
        "\"\"\"\n",
        "result = conn.query(explore_reviews_csv_query)\n",
        "print(result)"
      ]
    },
    {
      "cell_type": "code",
      "execution_count": 621,
      "metadata": {
        "colab": {
          "base_uri": "https://localhost:8080/"
        },
        "id": "eOAoAjLL8z-o",
        "outputId": "bd0acf50-46bc-49c6-e57e-958cbfd0e588"
      },
      "outputs": [
        {
          "output_type": "stream",
          "name": "stdout",
          "text": [
            "[]\n"
          ]
        }
      ],
      "source": [
        "explore_reviews_csv_query = \"\"\"\n",
        "MERGE (cpeMatch:CpeMatch {uri:\"cpe:2.3:h:multilaserempresas:re708:-:*:*:*:*:*:*:*\" })\n",
        "MERGE (cpe:CPE {version:\"-\"})\n",
        "MERGE (cpeMatch)-[:MAPPED_WITH]->(cpe)\n",
        "\n",
        "\"\"\"\n",
        "result = conn.query(explore_reviews_csv_query)\n",
        "print(result)"
      ]
    },
    {
      "cell_type": "markdown",
      "metadata": {
        "id": "v_JgjuTayQL5"
      },
      "source": [
        "**Script_Unstructured data.cypher**"
      ]
    },
    {
      "cell_type": "markdown",
      "metadata": {
        "id": "5bS9uBOlK-8v"
      },
      "source": [
        "Extract the entities from unstructured data (vulnerability description) in CVE by using OIE model, entity-fishing, and en_core_web_sm model (from spaCy)\n"
      ]
    },
    {
      "cell_type": "code",
      "execution_count": 622,
      "metadata": {
        "colab": {
          "base_uri": "https://localhost:8080/"
        },
        "id": "8LrhRlpYK-G8",
        "outputId": "c5ea7355-a5d6-4012-e0d3-c11ff68e7b64"
      },
      "outputs": [
        {
          "output_type": "stream",
          "name": "stdout",
          "text": [
            "[]\n"
          ]
        }
      ],
      "source": [
        "explore_reviews_csv_query = \"\"\"\n",
        "CREATE (node1:Frame {text:\"gains\",type:\"verb\"}),\n",
        "       (node2:Frame_Argument{text:\"an attacker\",type:\"ARG0\"}),\n",
        "       (node3:Reference{text:\"who\",type:\"R-ARG0\"}),\n",
        "       (node4:Frame_Argument{text:\"local membership\",type:\"ARG1\"}),\n",
        "       (node5:Frame_Argument{text:\"to SAP_LocalAdmin\",type:\"ARG4\"}),\n",
        "\n",
        "       (node2)-[:HAS_ARGUMENT]->(node1),\n",
        "       (node3)-[:HAS_ARGUMENT]->(node1),\n",
        "       (node4)-[:HAS_ARGUMENT]->(node1),\n",
        "       (node5)-[:HAS_ARGUMENT]->(node1)\n",
        "\n",
        "MERGE (description:Description {cveId:\"CVE-2023-0012\"})\n",
        "MERGE (frame:Frame {text:\"gains\"})\n",
        "MERGE (description)-[:MAPPED_WITH]->(frame)\n",
        "\n",
        "\"\"\"\n",
        "result = conn.query(explore_reviews_csv_query)\n",
        "print(result)"
      ]
    },
    {
      "cell_type": "code",
      "execution_count": 623,
      "metadata": {
        "colab": {
          "base_uri": "https://localhost:8080/"
        },
        "id": "rSYckdLLNPqg",
        "outputId": "c9712683-0a56-4170-a09f-37dccc29ca72"
      },
      "outputs": [
        {
          "output_type": "stream",
          "name": "stdout",
          "text": [
            "[]\n"
          ]
        }
      ],
      "source": [
        "explore_reviews_csv_query = \"\"\"\n",
        "CREATE (node1:Frame {text:\"be\",type:\"verb\"}),\n",
        "       (node2:Frame_Argument{text:\"an attacker who gains local membership to SAP_LocalAdmin\",type:\"ARG1\"}),\n",
        "       (node3:Modifier_Modal{text:\"could\",type:\"ARGM-MOD\"}),\n",
        "       (node4:Frame_Argument{text:\"able to replace executables with a malicious file that will be started under a privileged account\",type:\"ARG2\"}),\n",
        "       (node5:Frame_Argument{type:\"ARG0\",Head:\"attacker\",offsetStart:3,offsetEnd:11,confidence_score:0.3651,wikipediaExternalRef:428681,wikidataId:\"Q280658\",domains:\"Biology\"}),\n",
        "       (node6:Frame_Argument{type:\"ARG2\",Head:\"malicious\",offsetStart:35,offsetEnd:44,confidence_score:0.5011,wikipediaExternalRef:20901,wikidataId:\"Q14001\",domains:\"Computer_Science\"}),\n",
        "\n",
        "       (node2)-[:HAS_ARGUMENT]->(node1),\n",
        "       (node3)-[:HAS_ARGUMENT]->(node1),\n",
        "       (node4)-[:HAS_ARGUMENT]->(node1),\n",
        "       (node5)-[:HAS_ARGUMENT]->(node1),\n",
        "       (node6)-[:HAS_ARGUMENT]->(node1)\n",
        "\n",
        "MERGE (description:Description {cveId:\"CVE-2023-0012\"})\n",
        "MERGE (frame:Frame {text:\"be\"})\n",
        "MERGE (description)-[:MAPPED_WITH]->(frame)       \n",
        "       \n",
        "\"\"\"\n",
        "result = conn.query(explore_reviews_csv_query)\n",
        "print(result)"
      ]
    },
    {
      "cell_type": "code",
      "execution_count": 624,
      "metadata": {
        "colab": {
          "base_uri": "https://localhost:8080/"
        },
        "id": "NTsuS76jLisW",
        "outputId": "29a43253-b0e6-441c-e1cc-eec0ed7ccfb4"
      },
      "outputs": [
        {
          "output_type": "stream",
          "name": "stdout",
          "text": [
            "[]\n"
          ]
        }
      ],
      "source": [
        "explore_reviews_csv_query = \"\"\"\n",
        "CREATE (node1:Frame {text:\"replace\",type:\"verb\"}),\n",
        "       (node2:Frame_Argument{text:\"executables\",type:\"ARG1\"}),\n",
        "       (node3:Frame_Argument{text:\"an attacker who gains local membership to SAP_LocalAdmin\",type:\"ARG2\"}),\n",
        "       (node4:Frame_Argument{text:\"with a malicious file that will be started under a privileged account\",type:\"ARG2\"}),\n",
        "\n",
        "       (node2)-[:HAS_ARGUMENT]->(node1),\n",
        "       (node3)-[:HAS_ARGUMENT]->(node1),\n",
        "       (node4)-[:HAS_ARGUMENT]->(node1)\n",
        "\n",
        "MERGE (description:Description {cveId:\"CVE-2023-0012\"})\n",
        "MERGE (frame:Frame {text:\"replace\"})\n",
        "MERGE (description)-[:MAPPED_WITH]->(frame)        \n",
        "\n",
        "\"\"\"\n",
        "result = conn.query(explore_reviews_csv_query)\n",
        "print(result)"
      ]
    },
    {
      "cell_type": "code",
      "execution_count": 625,
      "metadata": {
        "colab": {
          "base_uri": "https://localhost:8080/"
        },
        "id": "UHZeCtIINjMO",
        "outputId": "efa35722-e59c-4e44-9365-7a1fa5ddc045"
      },
      "outputs": [
        {
          "output_type": "stream",
          "name": "stdout",
          "text": [
            "[]\n"
          ]
        }
      ],
      "source": [
        "explore_reviews_csv_query = \"\"\"\n",
        "CREATE (node1:Frame {text:\"started\",type:\"verb\"}),\n",
        "       (node2:Frame_Argument{text:\"a malicious file\",type:\"ARG1\"}),\n",
        "       (node3:Reference{text:\"that\",type:\"R-ARG1\"}),\n",
        "       (node4:Modifier_Modal{text:\"will\",type:\"ARGM-MOD\"}),\n",
        "       (node5:Modifier_Location{text:\"under a privileged account\",type:\"ARGM-LOC\"}),\n",
        "\n",
        "       (node2)-[:HAS_ARGUMENT]->(node1),\n",
        "       (node3)-[:HAS_ARGUMENT]->(node1),\n",
        "       (node4)-[:HAS_ARGUMENT]->(node1),\n",
        "       (node5)-[:HAS_ARGUMENT]->(node1)\n",
        "\n",
        "MERGE (description:Description {cveId:\"CVE-2023-0012\"})\n",
        "MERGE (frame:Frame {text:\"started\"})\n",
        "MERGE (description)-[:MAPPED_WITH]->(frame)       \n",
        "\n",
        "\"\"\"\n",
        "result = conn.query(explore_reviews_csv_query)\n",
        "print(result)"
      ]
    },
    {
      "cell_type": "code",
      "execution_count": 626,
      "metadata": {
        "colab": {
          "base_uri": "https://localhost:8080/"
        },
        "id": "XCmuApWEq1J0",
        "outputId": "64c3dc84-85cf-4638-c3f2-14c3ac6665fa"
      },
      "outputs": [
        {
          "output_type": "stream",
          "name": "stdout",
          "text": [
            "[]\n"
          ]
        }
      ],
      "source": [
        "explore_reviews_csv_query = \"\"\"\n",
        "CREATE (node1:Frame {text:\"Note\",type:\"verb\"}),\n",
        "       (node2:Modifier_Location{text:\"In SAP\",type:\"ARGM-LOC\"}),\n",
        "       (node3:Frame_Argument{text:\"that by default all user members of SAP_LocaAdmin are denied the ability to logon locally by security policy so that this can only occur if the system has already been compromised\",type:\"ARG1\"}),\n",
        "       (node4:Frame_Argument{type:\"ARG1\",Head:\"logon\",offsetStart:76,offsetEnd:81,confidence_score:0.6351,wikipediaExternalRef:9878372,wikidataId:\"Q472302\",domains:\"Computer_Science\"}),\n",
        "\n",
        "       (node2)-[:HAS_ARGUMENT]->(node1),\n",
        "       (node3)-[:HAS_ARGUMENT]->(node1),\n",
        "       (node4)-[:HAS_ARGUMENT]->(node1)\n",
        "\n",
        "MERGE (description:Description {cveId:\"CVE-2023-0012\"})\n",
        "MERGE (frame:Frame {text:\"Note\"})\n",
        "MERGE (description)-[:MAPPED_WITH]->(frame)       \n",
        "\n",
        "\"\"\"\n",
        "result = conn.query(explore_reviews_csv_query)\n",
        "print(result)"
      ]
    },
    {
      "cell_type": "code",
      "execution_count": 627,
      "metadata": {
        "colab": {
          "base_uri": "https://localhost:8080/"
        },
        "id": "Tlpm6WuqNkjy",
        "outputId": "f84521a5-935f-4fa9-dd21-e9de32cc4170"
      },
      "outputs": [
        {
          "output_type": "stream",
          "name": "stdout",
          "text": [
            "[]\n"
          ]
        }
      ],
      "source": [
        "explore_reviews_csv_query = \"\"\"\n",
        "CREATE (node1:Frame {text:\"denied\",type:\"Verb\"}),\n",
        "       (node2:Modifier_Manner{text:\"by default all user members of\",type:\"ARGM-MNR\"}),\n",
        "       (node3:Frame_Argument{text:\"the ability to logon locally by security policy\",type:\"ARG1\"}),\n",
        "       (node4:Modifier_Purpose{text:\"so that this can only occur if the system has already been compromised\",type:\"ARGM-PRP\"}),\n",
        "       (node5:Frame_Argument{type:\"ARG0\",Head:\"security policy\",offsetStart:32,offsetEnd:47,confidence_score:0.5825,wikipediaExternalRef:34231217,wikidataId:\"Q1128636\",domains:\"Electronics, Computer_Science, Telecommunication\"}),\n",
        "\n",
        "       (node2)-[:HAS_ARGUMENT]->(node1),\n",
        "       (node3)-[:HAS_ARGUMENT]->(node1),\n",
        "       (node4)-[:HAS_ARGUMENT]->(node1),\n",
        "       (node5)-[:HAS_ARGUMENT]->(node1)\n",
        "\n",
        "MERGE (description:Description {cveId:\"CVE-2023-0012\"})\n",
        "MERGE (frame:Frame {text:\"denied\"})\n",
        "MERGE (description)-[:MAPPED_WITH]->(frame)        \n",
        "\n",
        "\"\"\"\n",
        "result = conn.query(explore_reviews_csv_query)\n",
        "print(result)"
      ]
    },
    {
      "cell_type": "code",
      "execution_count": 628,
      "metadata": {
        "colab": {
          "base_uri": "https://localhost:8080/"
        },
        "id": "YZr_jd8CNlyL",
        "outputId": "6ab5c2f7-c963-4b14-c37e-8f0f1c184fc6"
      },
      "outputs": [
        {
          "output_type": "stream",
          "name": "stdout",
          "text": [
            "[]\n"
          ]
        }
      ],
      "source": [
        "explore_reviews_csv_query = \"\"\"\n",
        "CREATE (node1:Frame {text:\"logon\",type:\"Verb\"}),\n",
        "       (node2:Frame_Argument{text:\"locally\",type:\"ARG1\"}),\n",
        "       (node3:Frame_Argument{text:\"by security\",type:\"ARG2\"}),\n",
        "\n",
        "       (node2)-[:HAS_ARGUMENT]->(node1),\n",
        "       (node3)-[:HAS_ARGUMENT]->(node1)\n",
        "\n",
        "MERGE (description:Description {cveId:\"CVE-2023-0012\"})\n",
        "MERGE (frame:Frame {text:\"logon\"})\n",
        "MERGE (description)-[:MAPPED_WITH]->(frame)       \n",
        "      \n",
        "\n",
        "\"\"\"\n",
        "result = conn.query(explore_reviews_csv_query)\n",
        "print(result)"
      ]
    },
    {
      "cell_type": "code",
      "execution_count": 629,
      "metadata": {
        "colab": {
          "base_uri": "https://localhost:8080/"
        },
        "id": "p9WqiFIwNm1S",
        "outputId": "d4db0184-620a-410d-cc62-ccd8d30fe4ff"
      },
      "outputs": [
        {
          "output_type": "stream",
          "name": "stdout",
          "text": [
            "[]\n"
          ]
        }
      ],
      "source": [
        "explore_reviews_csv_query = \"\"\"\n",
        "CREATE (node1:Frame {text:\"occur\",type:\"Verb\"}),\n",
        "       (node2:Frame_Argument{text:\"this\",type:\"ARG1\"}),\n",
        "       (node3:Modifier_Modal{text:\"can\",type:\"ARGM-MOD\"}),\n",
        "       (node4:Modifier_Adverbial{text:\"only\",type:\"ARGM-ADV\"}),\n",
        "       (node5:Modifier_Adverbial{text:\"if the system has already been compromised\",type:\"ARGM-ADV\"}),\n",
        "\n",
        "       (node2)-[:HAS_ARGUMENT]->(node1),\n",
        "       (node3)-[:HAS_ARGUMENT]->(node1),\n",
        "       (node4)-[:HAS_ARGUMENT]->(node1),\n",
        "       (node5)-[:HAS_ARGUMENT]->(node1)\n",
        "\n",
        "MERGE (description:Description {cveId:\"CVE-2023-0012\"})\n",
        "MERGE (frame:Frame {text:\"occur\"})\n",
        "MERGE (description)-[:MAPPED_WITH]->(frame)        \n",
        "\n",
        "\"\"\"\n",
        "result = conn.query(explore_reviews_csv_query)\n",
        "print(result)"
      ]
    },
    {
      "cell_type": "code",
      "execution_count": 630,
      "metadata": {
        "id": "qg51jo8dNo2u",
        "colab": {
          "base_uri": "https://localhost:8080/"
        },
        "outputId": "9c98d2bd-5532-4310-90ca-5ecf012d5bf5"
      },
      "outputs": [
        {
          "output_type": "stream",
          "name": "stdout",
          "text": [
            "[]\n"
          ]
        }
      ],
      "source": [
        "explore_reviews_csv_query = \"\"\"\n",
        "CREATE (node1:Frame {text:\"compromised\",type:\"Verb\"}),\n",
        "       (node2:Frame_Argument{text:\"the system\",type:\"ARG1\"}),\n",
        "       (node3:Modifier_Temporal{text:\"already\",type:\"ARGM-TMP\"}),\n",
        "\n",
        "       (node2)-[:HAS_ARGUMENT]->(node1),\n",
        "       (node3)-[:HAS_ARGUMENT]->(node1)\n",
        "\n",
        "MERGE (description:Description {cveId:\"CVE-2023-0012\"})\n",
        "MERGE (frame:Frame {text:\"compromised\"})\n",
        "MERGE (description)-[:MAPPED_WITH]->(frame)       \n",
        "\n",
        "\"\"\"\n",
        "result = conn.query(explore_reviews_csv_query)\n",
        "print(result)"
      ]
    },
    {
      "cell_type": "code",
      "execution_count": 631,
      "metadata": {
        "id": "mLviV6NxNn6W",
        "colab": {
          "base_uri": "https://localhost:8080/"
        },
        "outputId": "b0dd3767-7690-4d74-bb3c-48e68f5cdf02"
      },
      "outputs": [
        {
          "output_type": "stream",
          "name": "stdout",
          "text": [
            "[]\n"
          ]
        }
      ],
      "source": [
        "explore_reviews_csv_query = \"\"\"\n",
        "CREATE (node1:Frame {text:\"encode\",type:\"Verb\"}),\n",
        "       (node2:Frame_Argument{text:\"The ABAP Keyword Documentation of SAP NetWeaver Application Server - versions 702 , 731 , 740 , 750 , 751 , 752 , 753 , 754 , 755 , 756 , 757 , for ABAP and ABAP Platform\",type:\"ARG0\"}),\n",
        "       (node3:Modifier_Negation{text:\"not\",type:\"ARGM-NEG\"}),\n",
        "       (node4:Modifier_Manner{text:\"sufficiently\",type:\"ARGM-MNR\"}),\n",
        "       (node5:Frame_Argument{text:\"user - controlled inputs\",type:\"ARG1\"}),\n",
        "       (node6:Modifier_Adverbial{text:\"resulting in Cross - Site Scripting ( XSS ) vulnerability . On successful exploitation an attacker can cause limited impact on confidentiality and integrity of the application\",type:\"ARGM-ADV\"}),\n",
        "       (node7:Frame_Argument{type:\"ARG1\",Head:\"user-controlled\",offsetStart:189,offsetEnd:204,confidence_score:0.4601,wikipediaExternalRef:21875249,wikidataId:\"Q3561045\",domains:\"Computer_Science\"}),\n",
        "       (node8:Frame_Argument{type:\"ARG1\",Head:\"inputs\",offsetStart:205,offsetEnd:211,confidence_score:0.3879,wikipediaExternalRef:11231,wikidataId:\"Q210947\",domains:\"Finance,Sociology,Economy,Commerce,Enterprise\"}),\n",
        "\n",
        "       (node2)-[:HAS_ARGUMENT]->(node1),\n",
        "       (node3)-[:HAS_ARGUMENT]->(node1),\n",
        "       (node4)-[:HAS_ARGUMENT]->(node1),\n",
        "       (node5)-[:HAS_ARGUMENT]->(node1),\n",
        "       (node6)-[:HAS_ARGUMENT]->(node1),\n",
        "       (node7)-[:HAS_ARGUMENT]->(node1),\n",
        "       (node8)-[:HAS_ARGUMENT]->(node1)\n",
        "\n",
        "MERGE (description:Description {cveId:\"CVE-2023-0013\"})\n",
        "MERGE (frame:Frame {text:\"encode\"})\n",
        "MERGE (description)-[:MAPPED_WITH]->(frame)        \n",
        "\n",
        "\"\"\"\n",
        "result = conn.query(explore_reviews_csv_query)\n",
        "print(result)"
      ]
    },
    {
      "cell_type": "code",
      "execution_count": 632,
      "metadata": {
        "id": "X1Aq_2RVNqDm",
        "colab": {
          "base_uri": "https://localhost:8080/"
        },
        "outputId": "6e121289-416a-48dd-f745-815b967f20b5"
      },
      "outputs": [
        {
          "output_type": "stream",
          "name": "stdout",
          "text": [
            "[]\n"
          ]
        }
      ],
      "source": [
        "explore_reviews_csv_query = \"\"\"\n",
        "CREATE (node1:Frame {text:\"controlled\",type:\"Verb\"}),\n",
        "       (node2:Frame_Argument{text:\"user\",type:\"ARG0\"}),\n",
        "       (node3:Frame_Argument{text:\"inputs\",type:\"ARG1\"}),\n",
        "\n",
        "       (node2)-[:HAS_ARGUMENT]->(node1),\n",
        "       (node3)-[:HAS_ARGUMENT]->(node1)\n",
        "\n",
        "MERGE (description:Description {cveId:\"CVE-2023-0013\"})\n",
        "MERGE (frame:Frame {text:\"controlled\"})\n",
        "MERGE (description)-[:MAPPED_WITH]->(frame)        \n",
        "\n",
        "\"\"\"\n",
        "result = conn.query(explore_reviews_csv_query)\n",
        "print(result)"
      ]
    },
    {
      "cell_type": "code",
      "execution_count": 633,
      "metadata": {
        "id": "HAlGxjMENq9t",
        "colab": {
          "base_uri": "https://localhost:8080/"
        },
        "outputId": "85926a59-6bfb-49b9-d527-528301ae38a0"
      },
      "outputs": [
        {
          "output_type": "stream",
          "name": "stdout",
          "text": [
            "[]\n"
          ]
        }
      ],
      "source": [
        "explore_reviews_csv_query = \"\"\"\n",
        "CREATE (node1:Frame {text:\"cause\",type:\"Verb\"}),\n",
        "       (node2:Modifier_Location{text:\"On successful exploitation\",type:\"ARGM-LOC\"}),\n",
        "       (node3:Frame_Argument{text:\"an attacker\",type:\"ARG0\"}),\n",
        "       (node4:Modifier_Modal{text:\"can\",type:\"ARGM-MOD\"}),\n",
        "       (node5:Frame_Argument{text:\"limited impact on confidentiality and integrity of the application\",type:\"ARG1\"}),\n",
        "\n",
        "       (node2)-[:HAS_ARGUMENT]->(node1),\n",
        "       (node3)-[:HAS_ARGUMENT]->(node1),\n",
        "       (node4)-[:HAS_ARGUMENT]->(node1),\n",
        "       (node5)-[:HAS_ARGUMENT]->(node1)\n",
        "\n",
        "MERGE (description:Description {cveId:\"CVE-2023-0013\"})\n",
        "MERGE (frame:Frame {text:\"cause\"})\n",
        "MERGE (description)-[:MAPPED_WITH]->(frame)        \n",
        "\n",
        "\"\"\"\n",
        "result = conn.query(explore_reviews_csv_query)\n",
        "print(result)"
      ]
    },
    {
      "cell_type": "code",
      "execution_count": 634,
      "metadata": {
        "id": "YWkiE2vtNsPd",
        "colab": {
          "base_uri": "https://localhost:8080/"
        },
        "outputId": "cdba6441-4766-45cd-f2f7-255de66f0c2a"
      },
      "outputs": [
        {
          "output_type": "stream",
          "name": "stdout",
          "text": [
            "[]\n"
          ]
        }
      ],
      "source": [
        "explore_reviews_csv_query = \"\"\"\n",
        "CREATE (node1:Frame {text:\"creates\",type:\"Verb\"}),\n",
        "       (node2:Frame_Argument{text:\"SAP NetWeaver ABAP Server and ABAP Platform - versions SAP_BASIS 700 , 701 , 702 , 710 , 711 , 730 , 731 , 740 , 750 , 751 , 752 , 753 , 754 , 755 , 756 , 757 , KERNEL 7.22 , 7.53 , 7.77 , 7.81 , 7.85 , 7.89 , KRNL64UC 7.22 , 7.22EXT , 7.53 , KRNL64NUC 7.22 , 7.22EXT\",type:\"ARG0\"}),\n",
        "       (node3:Frame_Argument{text:\"information about system identity\",type:\"ARG1\"}),\n",
        "       (node4:Modifier_Location{text:\"in an ambiguous format\",type:\"ARGM-LOC\"}),\n",
        "       (node5:Frame_Argument{type:\"ARG1\",Head:\"KERNEL\",offsetStart:161,offsetEnd:167,confidence_score:0.4157,wikipediaExternalRef:21346982,wikidataId:\"Q9662\",domains:\"Computer_Science\"}),\n",
        "\n",
        "       (node2)-[:HAS_ARGUMENT]->(node1),\n",
        "       (node3)-[:HAS_ARGUMENT]->(node1),\n",
        "       (node4)-[:HAS_ARGUMENT]->(node1),\n",
        "       (node5)-[:HAS_ARGUMENT]->(node1)\n",
        "\n",
        "MERGE (description:Description {cveId:\"CVE-2023-0014\"})\n",
        "MERGE (frame:Frame {text:\"creates\"})\n",
        "MERGE (description)-[:MAPPED_WITH]->(frame)        \n",
        "\n",
        "\"\"\"\n",
        "result = conn.query(explore_reviews_csv_query)\n",
        "print(result)"
      ]
    },
    {
      "cell_type": "code",
      "execution_count": 635,
      "metadata": {
        "id": "f3UO_q-mNtXL",
        "colab": {
          "base_uri": "https://localhost:8080/"
        },
        "outputId": "1e5f4358-bea1-4da3-cb3c-45a82913f103"
      },
      "outputs": [
        {
          "output_type": "stream",
          "name": "stdout",
          "text": [
            "[]\n"
          ]
        }
      ],
      "source": [
        "explore_reviews_csv_query = \"\"\"\n",
        "CREATE (node1:Frame {text:\"lead\",type:\"Verb\"}),\n",
        "       (node2:Frame_Argument{text:\"This\",type:\"ARG0\"}),\n",
        "       (node3:Modifier_Modal{text:\"could\",type:\"ARGM-MOD\"}),\n",
        "       (node4:Frame_Argument{text:\"to capture - replay vulnerability\",type:\"ARG2\"}),\n",
        "       (node5:Frame_Argument{type:\"ARG1\",Head:\"vulnerability\",offsetStart:20,offsetEnd:33,confidence_score:0.3654,wikipediaExternalRef:1129827,wikidataId:\"Q631425\",domains:\"Military,Computer_Science\"}),\n",
        "\n",
        "       (node2)-[:HAS_ARGUMENT]->(node1),\n",
        "       (node3)-[:HAS_ARGUMENT]->(node1),\n",
        "       (node4)-[:HAS_ARGUMENT]->(node1),\n",
        "       (node5)-[:HAS_ARGUMENT]->(node1)\n",
        "\n",
        "MERGE (description:Description {cveId:\"CVE-2023-0014\"})\n",
        "MERGE (frame:Frame {text:\"lead\"})\n",
        "MERGE (description)-[:MAPPED_WITH]->(frame)       \n",
        "\n",
        "\"\"\"\n",
        "result = conn.query(explore_reviews_csv_query)\n",
        "print(result)"
      ]
    },
    {
      "cell_type": "code",
      "execution_count": 636,
      "metadata": {
        "id": "oB5R3dBoQWqv",
        "colab": {
          "base_uri": "https://localhost:8080/"
        },
        "outputId": "b2820226-5aeb-4b60-a073-fdd362ffe99d"
      },
      "outputs": [
        {
          "output_type": "stream",
          "name": "stdout",
          "text": [
            "[]\n"
          ]
        }
      ],
      "source": [
        "explore_reviews_csv_query = \"\"\"\n",
        "CREATE (node1:Frame {text:\"may\",type:\"Verb\"}),\n",
        "       (node2:Modifier_Modal{text:\"could\",type:\"ARGM-MOD\"}),\n",
        "       (node3:Frame_Argument{text:\"be exploited by malicious users to obtain illegitimate access to the system\",type:\"ARG1\"}),\n",
        "       (node4:Frame_Argument{type:\"ARG0\",Head:\"malicious users\",offsetStart:16,offsetEnd:31,confidence_score:0.6062,wikipediaExternalRef:2471540,wikidataId:\"Q2798820\",domains:\"Computer_Science\"}),\n",
        "\n",
        "       (node2)-[:HAS_ARGUMENT]->(node1),\n",
        "       (node3)-[:HAS_ARGUMENT]->(node1),\n",
        "       (node4)-[:HAS_ARGUMENT]->(node1)\n",
        "\n",
        "MERGE (description:Description {cveId:\"CVE-2023-0014\"})\n",
        "MERGE (frame:Frame {text:\"may\"})\n",
        "MERGE (description)-[:MAPPED_WITH]->(frame)       \n",
        "\n",
        "\"\"\"\n",
        "result = conn.query(explore_reviews_csv_query)\n",
        "print(result)"
      ]
    },
    {
      "cell_type": "code",
      "execution_count": 637,
      "metadata": {
        "id": "jTIZT8-fxEJE",
        "colab": {
          "base_uri": "https://localhost:8080/"
        },
        "outputId": "17c50bbb-d103-4b52-8c62-cbe54cc2ef80"
      },
      "outputs": [
        {
          "output_type": "stream",
          "name": "stdout",
          "text": [
            "[]\n"
          ]
        }
      ],
      "source": [
        "explore_reviews_csv_query = \"\"\"\n",
        "CREATE (node1:Frame {text:\"exploited\",type:\"Verb\"}),\n",
        "       (node2:Frame_Argument{text:\"This\",type:\"ARG1\"}),\n",
        "       (node3:Modifier_Modal{text:\"may\",type:\"ARGM-MOD\"}),\n",
        "       (node4:Frame_Argument{text:\"by malicious users\",type:\"ARG0\"}),\n",
        "       (node5:Frame_Argument{text:\"to obtain illegitimate access to the system\",type:\"ARG2\"}),\n",
        "\n",
        "       (node2)-[:HAS_ARGUMENT]->(node1),\n",
        "       (node3)-[:HAS_ARGUMENT]->(node1),\n",
        "       (node4)-[:HAS_ARGUMENT]->(node1),\n",
        "       (node5)-[:HAS_ARGUMENT]->(node1)\n",
        "\n",
        "MERGE (description:Description {cveId:\"CVE-2023-0014\"})\n",
        "MERGE (frame:Frame {text:\"exploited\"})\n",
        "MERGE (description)-[:MAPPED_WITH]->(frame)       \n",
        "\n",
        "\"\"\"\n",
        "result = conn.query(explore_reviews_csv_query)\n",
        "print(result)"
      ]
    },
    {
      "cell_type": "code",
      "execution_count": 638,
      "metadata": {
        "id": "ZJ4s34ypxFEX",
        "colab": {
          "base_uri": "https://localhost:8080/"
        },
        "outputId": "59d8f4fc-9d44-4c7d-e550-994948759360"
      },
      "outputs": [
        {
          "output_type": "stream",
          "name": "stdout",
          "text": [
            "[]\n"
          ]
        }
      ],
      "source": [
        "explore_reviews_csv_query = \"\"\"\n",
        "CREATE (node1:Frame {text:\"return\",type:\"Verb\"}),\n",
        "       (node2:Frame_Argument{text:\"some calls\",type:\"ARG0\"}),\n",
        "       (node3:Frame_Argument{text:\"json\",type:\"ARG1\"}),\n",
        "       (node4:Modifier_Manner{text:\"with wrong content type\",type:\"ARGM-MNR\"}),\n",
        "       (node5:Modifier_Manner{text:\"in the header of the\",type:\"ARGM-MNR\"}),\n",
        "\n",
        "       (node2)-[:HAS_ARGUMENT]->(node1),\n",
        "       (node3)-[:HAS_ARGUMENT]->(node1),\n",
        "       (node4)-[:HAS_ARGUMENT]->(node1),\n",
        "       (node5)-[:HAS_ARGUMENT]->(node1)\n",
        "\n",
        "MERGE (description:Description {cveId:\"CVE-2023-0015\"})\n",
        "MERGE (frame:Frame {text:\"return\"})\n",
        "MERGE (description)-[:MAPPED_WITH]->(frame)        \n",
        "\n",
        "\"\"\"\n",
        "result = conn.query(explore_reviews_csv_query)\n",
        "print(result)"
      ]
    },
    {
      "cell_type": "code",
      "execution_count": 639,
      "metadata": {
        "id": "GnCyLc3SxGEL",
        "colab": {
          "base_uri": "https://localhost:8080/"
        },
        "outputId": "cc6e9455-00c4-4772-9b93-6cd80f5fee98"
      },
      "outputs": [
        {
          "output_type": "stream",
          "name": "stdout",
          "text": [
            "[]\n"
          ]
        }
      ],
      "source": [
        "explore_reviews_csv_query = \"\"\"\n",
        "CREATE (node1:Frame {text:\"calls\",type:\"Verb\"}),\n",
        "       (node2:Frame_Argument{text:\"a custom application\",type:\"ARG0\"}),\n",
        "       (node3:Reference{text:\"that\",type:\"R-ARG0\"}),\n",
        "       (node4:Modifier_Manner{text:\"directly\",type:\"ARGM-MNR\"}),\n",
        "       (node5:Frame_Argument{text:\"the jsp of Web Intelligence\",type:\"ARG1\"}),\n",
        "\n",
        "       (node2)-[:HAS_ARGUMENT]->(node1),\n",
        "       (node3)-[:HAS_ARGUMENT]->(node1),\n",
        "       (node4)-[:HAS_ARGUMENT]->(node1),\n",
        "       (node5)-[:HAS_ARGUMENT]->(node1)\n",
        "\n",
        "MERGE (description:Description {cveId:\"CVE-2023-0015\"})\n",
        "MERGE (frame:Frame {text:\"calls\"})\n",
        "MERGE (description)-[:MAPPED_WITH]->(frame)        \n",
        "\n",
        "\"\"\"\n",
        "result = conn.query(explore_reviews_csv_query)\n",
        "print(result)"
      ]
    },
    {
      "cell_type": "code",
      "execution_count": 640,
      "metadata": {
        "id": "ejO46JMLxG5C",
        "colab": {
          "base_uri": "https://localhost:8080/"
        },
        "outputId": "1cce6821-a23d-42c0-9d42-e541bb857a04"
      },
      "outputs": [
        {
          "output_type": "stream",
          "name": "stdout",
          "text": [
            "[]\n"
          ]
        }
      ],
      "source": [
        "explore_reviews_csv_query = \"\"\"\n",
        "CREATE (node1:Frame {text:\"be\",type:\"Verb\"}),\n",
        "       (node2:Frame_Argument{text:\"a custom application that calls directly the jsp of Web Intelligence DHTML\",type:\"ARG1\"}),\n",
        "       (node3:Modifier_Modal{text:\"may\",type:\"ARGM-MOD\"}),\n",
        "       (node4:Frame_Argument{text:\"vulnerable to XSS attacks\",type:\"ARG2\"}),\n",
        "\n",
        "       (node2)-[:HAS_ARGUMENT]->(node1),\n",
        "       (node3)-[:HAS_ARGUMENT]->(node1),\n",
        "       (node4)-[:HAS_ARGUMENT]->(node1)\n",
        "\n",
        "MERGE (description:Description {cveId:\"CVE-2023-0015\"})\n",
        "MERGE (frame:Frame {text:\"be\"})\n",
        "MERGE (description)-[:MAPPED_WITH]->(frame)       \n",
        "\n",
        "\"\"\"\n",
        "result = conn.query(explore_reviews_csv_query)\n",
        "print(result)"
      ]
    },
    {
      "cell_type": "code",
      "execution_count": 641,
      "metadata": {
        "id": "NJxnNpvpxH0p",
        "colab": {
          "base_uri": "https://localhost:8080/"
        },
        "outputId": "1fc70e7b-cddd-423a-d580-ae17588c360a"
      },
      "outputs": [
        {
          "output_type": "stream",
          "name": "stdout",
          "text": [
            "[]\n"
          ]
        }
      ],
      "source": [
        "explore_reviews_csv_query = \"\"\"\n",
        "CREATE (node1:Frame {text:\"cause\",type:\"Verb\"}),\n",
        "       (node2:Modifier_Location{text:\"On successful exploitation\",type:\"ARGM-LOC\"}),\n",
        "       (node3:Frame_Argument{text:\"an attacker\",type:\"ARG0\"}),\n",
        "       (node4:Modifier_Modal{text:\"can\",type:\"ARGM-MOD\"}),\n",
        "       (node5:Frame_Argument{text:\"limited impact on confidentiality and integrity of the application\",type:\"ARG1\"}),\n",
        "\n",
        "       (node2)-[:HAS_ARGUMENT]->(node1),\n",
        "       (node3)-[:HAS_ARGUMENT]->(node1),\n",
        "       (node4)-[:HAS_ARGUMENT]->(node1),\n",
        "       (node5)-[:HAS_ARGUMENT]->(node1)\n",
        "\n",
        "MERGE (description:Description {cveId:\"CVE-2023-0015\"})\n",
        "MERGE (frame:Frame {text:\"cause\"})\n",
        "MERGE (description)-[:MAPPED_WITH]->(frame)       \n",
        "\n",
        "\"\"\"\n",
        "result = conn.query(explore_reviews_csv_query)\n",
        "print(result)"
      ]
    },
    {
      "cell_type": "code",
      "execution_count": 642,
      "metadata": {
        "id": "ksvrkEhsxI2c",
        "colab": {
          "base_uri": "https://localhost:8080/"
        },
        "outputId": "5e3fadbd-8869-4afc-e6d0-c984806dcf4f"
      },
      "outputs": [
        {
          "output_type": "stream",
          "name": "stdout",
          "text": [
            "[]\n"
          ]
        }
      ],
      "source": [
        "explore_reviews_csv_query = \"\"\"\n",
        "CREATE (node1:Frame {text:\"allows\",type:\"Verb\"}),\n",
        "       (node2:Frame_Argument{text:\"SAP BPC MS 10.0 - version 810\",type:\"ARG0\"}),\n",
        "       (node3:Frame_Argument{text:\"an unauthorized attacker to execute crafted database queries\",type:\"ARG1\"}),\n",
        "       (node4:Frame_Argument{type:\"ARG1\",Head:\"unauthorized\",offsetStart:41,offsetEnd:53,confidence_score:0.3687,wikipediaExternalRef:151617,wikidataId:\"Q788590\",domains:\"Sociology,Electronics,Engineering\"}),\n",
        "       (node5:Frame_Argument{type:\"ARG1\",Head:\"attacker\",offsetStart:54,offsetEnd:62,confidence_score:0.4001,wikipediaExternalRef:428681,wikidataId:\"Q280658\",domains:\"Biology\"}),\n",
        "\n",
        "\n",
        "       (node2)-[:HAS_ARGUMENT]->(node1),\n",
        "       (node3)-[:HAS_ARGUMENT]->(node1),\n",
        "       (node4)-[:HAS_ARGUMENT]->(node1),\n",
        "       (node5)-[:HAS_ARGUMENT]->(node1)\n",
        "\n",
        "MERGE (description:Description {cveId:\"CVE-2023-0016\"})\n",
        "MERGE (frame:Frame {text:\"allows\"})\n",
        "MERGE (description)-[:MAPPED_WITH]->(frame)       \n",
        "\n",
        "\"\"\"\n",
        "result = conn.query(explore_reviews_csv_query)\n",
        "print(result)"
      ]
    },
    {
      "cell_type": "code",
      "execution_count": 643,
      "metadata": {
        "id": "7lGP5TUuxJ_h",
        "colab": {
          "base_uri": "https://localhost:8080/"
        },
        "outputId": "764bcfd7-2fc0-475a-d1d7-ad8d83c69f35"
      },
      "outputs": [
        {
          "output_type": "stream",
          "name": "stdout",
          "text": [
            "[]\n"
          ]
        }
      ],
      "source": [
        "explore_reviews_csv_query = \"\"\"\n",
        "CREATE (node1:Frame {text:\"execute\",type:\"Verb\"}),\n",
        "       (node2:Frame_Argument{text:\"an unauthorized attacker\",type:\"ARG0\"}),\n",
        "       (node3:Frame_Argument{text:\"crafted database queries\",type:\"ARG1\"}),\n",
        "\n",
        "       (node2)-[:HAS_ARGUMENT]->(node1),\n",
        "       (node3)-[:HAS_ARGUMENT]->(node1)\n",
        "\n",
        "MERGE (description:Description {cveId:\"CVE-2023-0016\"})\n",
        "MERGE (frame:Frame {text:\"execute\"})\n",
        "MERGE (description)-[:MAPPED_WITH]->(frame)       \n",
        "\n",
        "\"\"\"\n",
        "result = conn.query(explore_reviews_csv_query)\n",
        "print(result)"
      ]
    },
    {
      "cell_type": "code",
      "execution_count": 644,
      "metadata": {
        "id": "aZUemEcexMKR",
        "colab": {
          "base_uri": "https://localhost:8080/"
        },
        "outputId": "46af5b53-dd66-499b-e078-4ee3e927c97f"
      },
      "outputs": [
        {
          "output_type": "stream",
          "name": "stdout",
          "text": [
            "[]\n"
          ]
        }
      ],
      "source": [
        "explore_reviews_csv_query = \"\"\"\n",
        "CREATE (node1:Frame {text:\"lead\",type:\"Verb\"}),\n",
        "       (node2:Frame_Argument{text:\"The exploitation of this issue\",type:\"ARG0\"}),\n",
        "       (node3:Modifier_Modal{text:\"could\",type:\"ARGM-MOD\"}),\n",
        "       (node4:Frame_Argument{text:\"to SQL injection vulnerability\",type:\"ARG2\"}),\n",
        "\n",
        "       (node2)-[:HAS_ARGUMENT]->(node1),\n",
        "       (node3)-[:HAS_ARGUMENT]->(node1),\n",
        "       (node4)-[:HAS_ARGUMENT]->(node1)\n",
        "\n",
        "MERGE (description:Description {cveId:\"CVE-2023-0016\"})\n",
        "MERGE (frame:Frame {text:\"lead\"})\n",
        "MERGE (description)-[:MAPPED_WITH]->(frame)        \n",
        "\n",
        "\"\"\"\n",
        "result = conn.query(explore_reviews_csv_query)\n",
        "print(result)"
      ]
    },
    {
      "cell_type": "code",
      "execution_count": 645,
      "metadata": {
        "id": "P4iipYB3xNGH",
        "colab": {
          "base_uri": "https://localhost:8080/"
        },
        "outputId": "54bcfed5-2be7-46fa-fa1f-1a310ae87606"
      },
      "outputs": [
        {
          "output_type": "stream",
          "name": "stdout",
          "text": [
            "[]\n"
          ]
        }
      ],
      "source": [
        "explore_reviews_csv_query = \"\"\"\n",
        "CREATE (node1:Frame {text:\"could\",type:\"Verb\"}),\n",
        "       (node2:Frame_Argument{text:\"The exploitation of this issue\",type:\"ARG0\"}),\n",
        "       (node3:Modifier_Modal{text:\"could\",type:\"ARGM-MOD\"}),\n",
        "       (node4:Frame_Argument{text:\"allow an attacker to access , modify , and/or delete data from the backend database\",type:\"ARG1\"}),\n",
        "\n",
        "       (node2)-[:HAS_ARGUMENT]->(node1),\n",
        "       (node3)-[:HAS_ARGUMENT]->(node1),\n",
        "       (node4)-[:HAS_ARGUMENT]->(node1)\n",
        "\n",
        "MERGE (description:Description {cveId:\"CVE-2023-0016\"})\n",
        "MERGE (frame:Frame {text:\"could\"})\n",
        "MERGE (description)-[:MAPPED_WITH]->(frame)       \n",
        "\n",
        "\"\"\"\n",
        "result = conn.query(explore_reviews_csv_query)\n",
        "print(result)"
      ]
    },
    {
      "cell_type": "code",
      "execution_count": 646,
      "metadata": {
        "id": "e84wr0dWxOHU",
        "colab": {
          "base_uri": "https://localhost:8080/"
        },
        "outputId": "154b6bb9-d288-4c9f-dd5c-5b20a0304882"
      },
      "outputs": [
        {
          "output_type": "stream",
          "name": "stdout",
          "text": [
            "[]\n"
          ]
        }
      ],
      "source": [
        "explore_reviews_csv_query = \"\"\"\n",
        "CREATE (node1:Frame {text:\"allow\",type:\"Verb\"}),\n",
        "       (node2:Frame_Argument{text:\"The exploitation of this issue\",type:\"ARG0\"}),\n",
        "       (node3:Modifier_Modal{text:\"could\",type:\"ARGM-MOD\"}),\n",
        "       (node4:Frame_Argument{text:\"an attacker to access , modify , and/or delete data from the backend database\",type:\"ARG1\"}),\n",
        "\n",
        "       (node2)-[:HAS_ARGUMENT]->(node1),\n",
        "       (node3)-[:HAS_ARGUMENT]->(node1),\n",
        "       (node4)-[:HAS_ARGUMENT]->(node1)\n",
        "\n",
        "MERGE (description:Description {cveId:\"CVE-2023-0016\"})\n",
        "MERGE (frame:Frame {text:\"allow\"})\n",
        "MERGE (description)-[:MAPPED_WITH]->(frame)       \n",
        "\n",
        "\"\"\"\n",
        "result = conn.query(explore_reviews_csv_query)\n",
        "print(result)"
      ]
    },
    {
      "cell_type": "code",
      "execution_count": 647,
      "metadata": {
        "id": "BuhxF1RkxPH8",
        "colab": {
          "base_uri": "https://localhost:8080/"
        },
        "outputId": "5f243775-7128-4e58-90c8-e08d7250dfef"
      },
      "outputs": [
        {
          "output_type": "stream",
          "name": "stdout",
          "text": [
            "[]\n"
          ]
        }
      ],
      "source": [
        "explore_reviews_csv_query = \"\"\"\n",
        "CREATE (node1:Frame {text:\"can\",type:\"Verb\"}),\n",
        "       (node2:Frame_Argument{text:\"An unauthenticated attacker in SAP NetWeaver AS for Java - version 7.50\",type:\"ARG0\"}),\n",
        "       (node3:Frame_Argument{text:\"attach to an open interface and make use of an open naming and directory API to access services which can be used to perform unauthorized operations affecting users and data on the current\",type:\"ARG1\"}),\n",
        "       (node4:Frame_Argument{type:\"ARG1\",Head:\"unauthorized\",offsetStart:125,offsetEnd:137,confidence_score:0.3803,wikipediaExternalRef:18948365,wikidataId:\"Q647578\",domains:\"Electronics,Computer_Science,Economy,Sociology\"}),\n",
        "\n",
        "       (node2)-[:HAS_ARGUMENT]->(node1),\n",
        "       (node3)-[:HAS_ARGUMENT]->(node1),\n",
        "       (node4)-[:HAS_ARGUMENT]->(node1)\n",
        "\n",
        "MERGE (description:Description {cveId:\"CVE-2023-0017\"})\n",
        "MERGE (frame:Frame {text:\"can\"})\n",
        "MERGE (description)-[:MAPPED_WITH]->(frame)       \n",
        "\n",
        "\"\"\"\n",
        "result = conn.query(explore_reviews_csv_query)\n",
        "print(result)"
      ]
    },
    {
      "cell_type": "code",
      "execution_count": 648,
      "metadata": {
        "id": "vIJkIyV5xQV5",
        "colab": {
          "base_uri": "https://localhost:8080/"
        },
        "outputId": "b2a71aa2-3934-40f7-cebf-51c0dd756f23"
      },
      "outputs": [
        {
          "output_type": "stream",
          "name": "stdout",
          "text": [
            "[]\n"
          ]
        }
      ],
      "source": [
        "explore_reviews_csv_query = \"\"\"\n",
        "CREATE (node1:Frame {text:\"attach\",type:\"Verb\"}),\n",
        "       (node2:Frame_Argument{text:\"An unauthenticated attacker in SAP NetWeaver AS for Java - version 7.50 , due to improper access control\",type:\"ARG0\"}),\n",
        "       (node3:Modifier_Modal{text:\"can\",type:\"ARGM-MOD\"}),\n",
        "       (node4:Frame_Argument{text:\"to an open interface\",type:\"ARG2\"}),\n",
        "\n",
        "       (node2)-[:HAS_ARGUMENT]->(node1),\n",
        "       (node3)-[:HAS_ARGUMENT]->(node1),\n",
        "       (node4)-[:HAS_ARGUMENT]->(node1)\n",
        "\n",
        "MERGE (description:Description {cveId:\"CVE-2023-0017\"})\n",
        "MERGE (frame:Frame {text:\"attach\"})\n",
        "MERGE (description)-[:MAPPED_WITH]->(frame)       \n",
        "\n",
        "\"\"\"\n",
        "result = conn.query(explore_reviews_csv_query)\n",
        "print(result)"
      ]
    },
    {
      "cell_type": "code",
      "execution_count": 649,
      "metadata": {
        "id": "bWmIxjA0xRai",
        "colab": {
          "base_uri": "https://localhost:8080/"
        },
        "outputId": "406395fb-dc40-426e-b530-dd301cca217c"
      },
      "outputs": [
        {
          "output_type": "stream",
          "name": "stdout",
          "text": [
            "[]\n"
          ]
        }
      ],
      "source": [
        "explore_reviews_csv_query = \"\"\"\n",
        "CREATE (node1:Frame {text:\"make\",type:\"Verb\"}),\n",
        "       (node2:Frame_Argument{text:\"An unauthenticated attacker in SAP NetWeaver AS for Java - version 7.50 , due to improper access control\",type:\"ARG0\"}),\n",
        "       (node3:Modifier_Modal{text:\"can\",type:\"ARGM-MOD\"}),\n",
        "       (node4:Frame_Argument{text:\"use of an open naming and directory API to access services which can be used to perform unauthorized operations affecting users and data on the current system\",type:\"ARG1\"}),\n",
        "\n",
        "       (node2)-[:HAS_ARGUMENT]->(node1),\n",
        "       (node3)-[:HAS_ARGUMENT]->(node1),\n",
        "       (node4)-[:HAS_ARGUMENT]->(node1)\n",
        "\n",
        "MERGE (description:Description {cveId:\"CVE-2023-0017\"})\n",
        "MERGE (frame:Frame {text:\"make\"})\n",
        "MERGE (description)-[:MAPPED_WITH]->(frame)       \n",
        "\n",
        "\"\"\"\n",
        "result = conn.query(explore_reviews_csv_query)\n",
        "print(result)"
      ]
    },
    {
      "cell_type": "code",
      "execution_count": 650,
      "metadata": {
        "id": "a5SMemIjxTC0",
        "colab": {
          "base_uri": "https://localhost:8080/"
        },
        "outputId": "7b966a39-1c84-449f-e3b5-b93f143eebe6"
      },
      "outputs": [
        {
          "output_type": "stream",
          "name": "stdout",
          "text": [
            "[]\n"
          ]
        }
      ],
      "source": [
        "explore_reviews_csv_query = \"\"\"\n",
        "CREATE (node1:Frame {text:\"used\",type:\"Verb\"}),\n",
        "       (node2:Frame_Argument{text:\"access services\",type:\"ARG1\"}),\n",
        "       (node3:Reference{text:\"which\",type:\"R-ARG1\"}),\n",
        "       (node4:Modifier_Modal{text:\"can\",type:\"ARGM-MOD\"}),\n",
        "       (node5:Frame_Argument{text:\"to perform unauthorized operations affecting users and data on the current system\",type:\"ARG2\"}),\n",
        "\n",
        "       (node2)-[:HAS_ARGUMENT]->(node1),\n",
        "       (node3)-[:HAS_ARGUMENT]->(node1),\n",
        "       (node4)-[:HAS_ARGUMENT]->(node1),\n",
        "       (node5)-[:HAS_ARGUMENT]->(node1)\n",
        "\n",
        "MERGE (description:Description {cveId:\"CVE-2023-0017\"})\n",
        "MERGE (frame:Frame {text:\"used\"})\n",
        "MERGE (description)-[:MAPPED_WITH]->(frame)       \n",
        "\n",
        "\"\"\"\n",
        "result = conn.query(explore_reviews_csv_query)\n",
        "print(result)"
      ]
    },
    {
      "cell_type": "code",
      "execution_count": 651,
      "metadata": {
        "id": "dofYm29TxT9T",
        "colab": {
          "base_uri": "https://localhost:8080/"
        },
        "outputId": "1d3e32d3-56dd-432d-fc94-99bd8731d70f"
      },
      "outputs": [
        {
          "output_type": "stream",
          "name": "stdout",
          "text": [
            "[]\n"
          ]
        }
      ],
      "source": [
        "explore_reviews_csv_query = \"\"\"\n",
        "CREATE (node1:Frame {text:\"perform\",type:\"Verb\"}),\n",
        "       (node2:Frame_Argument{text:\"access services\",type:\"ARG0\"}),\n",
        "       (node3:Frame_Argument{text:\"unauthorized operations affecting users and data on the current system\",type:\"ARG1\"}),\n",
        "       (node4:Frame_Argument{type:\"ARG1\",Head:\"unauthorized\",offsetStart:234,offsetEnd:246,confidence_score:0.3753,wikipediaExternalRef:205662,wikidataId:\"Q502918\",domains:\"Commerce, Enterprise, Finance\"}),\n",
        "\n",
        "       (node2)-[:HAS_ARGUMENT]->(node1),\n",
        "       (node3)-[:HAS_ARGUMENT]->(node1),\n",
        "       (node4)-[:HAS_ARGUMENT]->(node1)\n",
        "\n",
        "MERGE (description:Description {cveId:\"CVE-2023-0017\"})\n",
        "MERGE (frame:Frame {text:\"perform\"})\n",
        "MERGE (description)-[:MAPPED_WITH]->(frame)       \n",
        "\n",
        "\"\"\"\n",
        "result = conn.query(explore_reviews_csv_query)\n",
        "print(result)"
      ]
    },
    {
      "cell_type": "code",
      "execution_count": 652,
      "metadata": {
        "id": "VM2-rf8kxU5l",
        "colab": {
          "base_uri": "https://localhost:8080/"
        },
        "outputId": "e906c76f-1f21-44e9-dace-86cc763d6de5"
      },
      "outputs": [
        {
          "output_type": "stream",
          "name": "stdout",
          "text": [
            "[]\n"
          ]
        }
      ],
      "source": [
        "explore_reviews_csv_query = \"\"\"\n",
        "CREATE (node1:Frame {text:\"affecting\",type:\"Verb\"}),\n",
        "       (node2:Frame_Argument{text:\"unauthorized operations\",type:\"ARG0\"}),\n",
        "       (node3:Frame_Argument{text:\"users\",type:\"ARG1\"}),\n",
        "\n",
        "       (node2)-[:HAS_ARGUMENT]->(node1),\n",
        "       (node3)-[:HAS_ARGUMENT]->(node1)\n",
        "\n",
        "MERGE (description:Description {cveId:\"CVE-2023-0017\"})\n",
        "MERGE (frame:Frame {text:\"affecting\"})\n",
        "MERGE (description)-[:MAPPED_WITH]->(frame)        \n",
        "\n",
        "\"\"\"\n",
        "result = conn.query(explore_reviews_csv_query)\n",
        "print(result)"
      ]
    },
    {
      "cell_type": "code",
      "execution_count": 653,
      "metadata": {
        "id": "cgTdPA78xV1C",
        "colab": {
          "base_uri": "https://localhost:8080/"
        },
        "outputId": "14c712ef-0cbf-4988-dd6c-f2acbfb57864"
      },
      "outputs": [
        {
          "output_type": "stream",
          "name": "stdout",
          "text": [
            "[]\n"
          ]
        }
      ],
      "source": [
        "explore_reviews_csv_query = \"\"\"\n",
        "CREATE (node1:Frame {text:\"could\",type:\"Verb\"}),\n",
        "       (node2:Frame_Argument{text:\"This\",type:\"ARG0\"}),\n",
        "       (node3:Frame_Argument{text:\"allow the attacker to have full read access to user data , make modifications to user data , and make services within the system unavailable\",type:\"ARG1\"}),\n",
        "\n",
        "       (node2)-[:HAS_ARGUMENT]->(node1),\n",
        "       (node3)-[:HAS_ARGUMENT]->(node1)\n",
        "\n",
        "MERGE (description:Description {cveId:\"CVE-2023-0017\"})\n",
        "MERGE (frame:Frame {text:\"could\"})\n",
        "MERGE (description)-[:MAPPED_WITH]->(frame)       \n",
        "\n",
        "\"\"\"\n",
        "result = conn.query(explore_reviews_csv_query)\n",
        "print(result)"
      ]
    },
    {
      "cell_type": "code",
      "execution_count": 654,
      "metadata": {
        "id": "KbG6_9-RxXVD",
        "colab": {
          "base_uri": "https://localhost:8080/"
        },
        "outputId": "1ea8d30e-6e93-4d41-92f9-492375a55e34"
      },
      "outputs": [
        {
          "output_type": "stream",
          "name": "stdout",
          "text": [
            "[]\n"
          ]
        }
      ],
      "source": [
        "explore_reviews_csv_query = \"\"\"\n",
        "CREATE (node1:Frame {text:\"allow\",type:\"Verb\"}),\n",
        "       (node2:Frame_Argument{text:\"This\",type:\"ARG0\"}),\n",
        "       (node3:Modifier_Modal{text:\"could\",type:\"ARGM-MOD\"}),\n",
        "       (node4:Frame_Argument{text:\"the attacker to have full read access to user data , make modifications to user data , and make services within the system unavailable\",type:\"ARG1\"}),\n",
        "\n",
        "       (node2)-[:HAS_ARGUMENT]->(node1),\n",
        "       (node3)-[:HAS_ARGUMENT]->(node1),\n",
        "       (node4)-[:HAS_ARGUMENT]->(node1)\n",
        "\n",
        "MERGE (description:Description {cveId:\"CVE-2023-0017\"})\n",
        "MERGE (frame:Frame {text:\"allow\"})\n",
        "MERGE (description)-[:MAPPED_WITH]->(frame)       \n",
        "\n",
        "\"\"\"\n",
        "result = conn.query(explore_reviews_csv_query)\n",
        "print(result)"
      ]
    },
    {
      "cell_type": "code",
      "execution_count": 655,
      "metadata": {
        "id": "zs77hxE3xYfT",
        "colab": {
          "base_uri": "https://localhost:8080/"
        },
        "outputId": "dc0a80e8-7322-47f3-c8ed-865a53c37981"
      },
      "outputs": [
        {
          "output_type": "stream",
          "name": "stdout",
          "text": [
            "[]\n"
          ]
        }
      ],
      "source": [
        "explore_reviews_csv_query = \"\"\"\n",
        "CREATE (node1:Frame {text:\"have\",type:\"Verb\"}),\n",
        "       (node2:Frame_Argument{text:\"the attacker\",type:\"ARG0\"}),\n",
        "       (node3:Frame_Argument{text:\"full read access to user data\",type:\"ARG1\"}),\n",
        "\n",
        "       (node2)-[:HAS_ARGUMENT]->(node1),\n",
        "       (node3)-[:HAS_ARGUMENT]->(node1)\n",
        "\n",
        "MERGE (description:Description {cveId:\"CVE-2023-0017\"})\n",
        "MERGE (frame:Frame {text:\"have\"})\n",
        "MERGE (description)-[:MAPPED_WITH]->(frame)       \n",
        "\n",
        "\"\"\"\n",
        "result = conn.query(explore_reviews_csv_query)\n",
        "print(result)"
      ]
    },
    {
      "cell_type": "code",
      "execution_count": 656,
      "metadata": {
        "id": "5kEWiXXFxcGW",
        "colab": {
          "base_uri": "https://localhost:8080/"
        },
        "outputId": "e9ac5813-4e77-4ce8-d2ba-11caa394f740"
      },
      "outputs": [
        {
          "output_type": "stream",
          "name": "stdout",
          "text": [
            "[]\n"
          ]
        }
      ],
      "source": [
        "explore_reviews_csv_query = \"\"\"\n",
        "CREATE (node1:Frame {text:\"user\",type:\"Verb\"}),\n",
        "       (node2:Frame_Argument{text:\"full read\",type:\"ARG0\"}),\n",
        "       (node3:Frame_Argument{text:\"data\",type:\"ARG1\"}),\n",
        "\n",
        "       (node2)-[:HAS_ARGUMENT]->(node1),\n",
        "       (node3)-[:HAS_ARGUMENT]->(node1)\n",
        "\n",
        "MERGE (description:Description {cveId:\"CVE-2023-0017\"})\n",
        "MERGE (frame:Frame {text:\"user\"})\n",
        "MERGE (description)-[:MAPPED_WITH]->(frame)       \n",
        "\n",
        "\"\"\"\n",
        "result = conn.query(explore_reviews_csv_query)\n",
        "print(result)"
      ]
    },
    {
      "cell_type": "code",
      "execution_count": 657,
      "metadata": {
        "id": "FO0iycOExdEo",
        "colab": {
          "base_uri": "https://localhost:8080/"
        },
        "outputId": "9045db7a-ea10-4c1b-9108-ca42b4d57c19"
      },
      "outputs": [
        {
          "output_type": "stream",
          "name": "stdout",
          "text": [
            "[]\n"
          ]
        }
      ],
      "source": [
        "explore_reviews_csv_query = \"\"\"\n",
        "CREATE (node1:Frame {text:\"make\",type:\"Verb\"}),\n",
        "       (node2:Frame_Argument{text:\"the attacker\",type:\"ARG0\"}),\n",
        "       (node3:Frame_Argument{text:\"modifications to user data , and make\",type:\"ARG1\"}),\n",
        "\n",
        "       (node2)-[:HAS_ARGUMENT]->(node1),\n",
        "       (node3)-[:HAS_ARGUMENT]->(node1)\n",
        "\n",
        "MERGE (description:Description {cveId:\"CVE-2023-0017\"})\n",
        "MERGE (frame:Frame {text:\"make\"})\n",
        "MERGE (description)-[:MAPPED_WITH]->(frame)       \n",
        "\n",
        "\"\"\"\n",
        "result = conn.query(explore_reviews_csv_query)\n",
        "print(result)"
      ]
    },
    {
      "cell_type": "code",
      "execution_count": 658,
      "metadata": {
        "id": "7-pb9hw2xd9Y",
        "colab": {
          "base_uri": "https://localhost:8080/"
        },
        "outputId": "358eaad7-a9ab-4195-d31e-f67b0fe2bb6b"
      },
      "outputs": [
        {
          "output_type": "stream",
          "name": "stdout",
          "text": [
            "[]\n"
          ]
        }
      ],
      "source": [
        "explore_reviews_csv_query = \"\"\"\n",
        "CREATE (node1:Frame {text:\"make\",type:\"Verb\"}),\n",
        "       (node2:Frame_Argument{text:\"the attacker\",type:\"ARG0\"}),\n",
        "       (node3:Frame_Argument{text:\"services within the system\",type:\"ARG1\"}),\n",
        "       (node4:Modifier_Manner{text:\"unavailable\",type:\"ARGM-MNR\"}),\n",
        "\n",
        "       (node2)-[:HAS_ARGUMENT]->(node1),\n",
        "       (node3)-[:HAS_ARGUMENT]->(node1),\n",
        "       (node4)-[:HAS_ARGUMENT]->(node1)\n",
        "\n",
        "MERGE (description:Description {cveId:\"CVE-2023-0017\"})\n",
        "MERGE (frame:Frame {text:\"make\"})\n",
        "MERGE (description)-[:MAPPED_WITH]->(frame)       \n",
        "\n",
        "\"\"\"\n",
        "result = conn.query(explore_reviews_csv_query)\n",
        "print(result)"
      ]
    },
    {
      "cell_type": "code",
      "execution_count": 659,
      "metadata": {
        "id": "-PIZObvms17S",
        "colab": {
          "base_uri": "https://localhost:8080/"
        },
        "outputId": "7a4e1fd0-0114-4442-d878-ff463191b1b2"
      },
      "outputs": [
        {
          "output_type": "stream",
          "name": "stdout",
          "text": [
            "[]\n"
          ]
        }
      ],
      "source": [
        "explore_reviews_csv_query = \"\"\"\n",
        "CREATE (node1:Frame {text:\"controlled\",type:\"Verb\"}),\n",
        "       (node2:Frame_Argument{text:\"user\",type:\"ARG0\"}),\n",
        "       (node3:Frame_Argument{text:\"input\",type:\"ARG1\"}),\n",
        "\n",
        "       (node2)-[:HAS_ARGUMENT]->(node1),\n",
        "       (node3)-[:HAS_ARGUMENT]->(node1)\n",
        "\n",
        "MERGE (description:Description {cveId:\"CVE-2023-0018\"})\n",
        "MERGE (frame:Frame {text:\"controlled\"})\n",
        "MERGE (description)-[:MAPPED_WITH]->(frame)       \n",
        "\n",
        "\"\"\"\n",
        "result = conn.query(explore_reviews_csv_query)\n",
        "print(result)"
      ]
    },
    {
      "cell_type": "code",
      "execution_count": 660,
      "metadata": {
        "id": "e7w70wyaxe-Q",
        "colab": {
          "base_uri": "https://localhost:8080/"
        },
        "outputId": "1cfc25a9-ede6-442d-df4f-ea7356681c2e"
      },
      "outputs": [
        {
          "output_type": "stream",
          "name": "stdout",
          "text": [
            "[]\n"
          ]
        }
      ],
      "source": [
        "explore_reviews_csv_query = \"\"\"\n",
        "CREATE (node1:Frame {text:\"modify\",type:\"Verb\"}),\n",
        "       (node2:Modifier_Cause{text:\"Due to improper input sanitization of user - controlled input in SAP BusinessObjects Business Intelligence\",type:\"ARGM-CAU\"}),\n",
        "       (node3:Frame_Argument{text:\"an attacker with basic user - level privileges\",type:\"ARG0\"}),\n",
        "       (node4:Modifier_Modal{text:\"can\",type:\"ARGM-MOD\"}),\n",
        "       (node5:Frame_Argument{text:\"reports containing a malicious payload\",type:\"ARG1\"}),\n",
        "\n",
        "       (node2)-[:HAS_ARGUMENT]->(node1),\n",
        "       (node3)-[:HAS_ARGUMENT]->(node1),\n",
        "       (node4)-[:HAS_ARGUMENT]->(node1),\n",
        "       (node5)-[:HAS_ARGUMENT]->(node1)\n",
        "       \n",
        "MERGE (description:Description {cveId:\"CVE-2023-0018\"})\n",
        "MERGE (frame:Frame {text:\"modify\"})\n",
        "MERGE (description)-[:MAPPED_WITH]->(frame)       \n",
        "\n",
        "\"\"\"\n",
        "result = conn.query(explore_reviews_csv_query)\n",
        "print(result)"
      ]
    },
    {
      "cell_type": "code",
      "execution_count": 661,
      "metadata": {
        "id": "wf7i4Wsvxf9s",
        "colab": {
          "base_uri": "https://localhost:8080/"
        },
        "outputId": "66179c15-6270-44e0-fd8a-cc23e3397462"
      },
      "outputs": [
        {
          "output_type": "stream",
          "name": "stdout",
          "text": [
            "[]\n"
          ]
        }
      ],
      "source": [
        "explore_reviews_csv_query = \"\"\"\n",
        "CREATE (node1:Frame {text:\"containing\",type:\"Verb\"}),\n",
        "       (node2:Frame_Argument{text:\"reports\",type:\"ARG0\"}),\n",
        "       (node3:Frame_Argument{text:\"a malicious payload\",type:\"ARG1\"}),\n",
        "       \n",
        "       (node2)-[:HAS_ARGUMENT]->(node1),\n",
        "       (node3)-[:HAS_ARGUMENT]->(node1)\n",
        "      \n",
        "MERGE (description:Description {cveId:\"CVE-2023-0018\"})\n",
        "MERGE (frame:Frame {text:\"containing\"})\n",
        "MERGE (description)-[:MAPPED_WITH]->(frame)        \n",
        "\n",
        "\"\"\"\n",
        "result = conn.query(explore_reviews_csv_query)\n",
        "print(result)"
      ]
    },
    {
      "cell_type": "code",
      "execution_count": 662,
      "metadata": {
        "id": "GWCDz-hJxg9y",
        "colab": {
          "base_uri": "https://localhost:8080/"
        },
        "outputId": "6a860fd9-35cc-4c7b-dc6b-7f3c999abf0b"
      },
      "outputs": [
        {
          "output_type": "stream",
          "name": "stdout",
          "text": [
            "[]\n"
          ]
        }
      ],
      "source": [
        "explore_reviews_csv_query = \"\"\"\n",
        "CREATE (node1:Frame {text:\"are\",type:\"Verb\"}),\n",
        "       (node2:Frame_Argument{text:\"these reports\",type:\"ARG1\"}),\n",
        "       (node3:Frame_Argument{text:\"viewable\",type:\"ARG2\"}),\n",
        "\n",
        "       (node2)-[:HAS_ARGUMENT]->(node1),\n",
        "       (node3)-[:HAS_ARGUMENT]->(node1)\n",
        "\n",
        "MERGE (description:Description {cveId:\"CVE-2023-0018\"})\n",
        "MERGE (frame:Frame {text:\"are\"})\n",
        "MERGE (description)-[:MAPPED_WITH]->(frame)       \n",
        "\n",
        "\"\"\"\n",
        "result = conn.query(explore_reviews_csv_query)\n",
        "print(result)"
      ]
    },
    {
      "cell_type": "code",
      "execution_count": 663,
      "metadata": {
        "id": "RViaMR2Sxh6U",
        "colab": {
          "base_uri": "https://localhost:8080/"
        },
        "outputId": "06f0b2d0-e057-4b3f-c5ec-96b8f0d54fae"
      },
      "outputs": [
        {
          "output_type": "stream",
          "name": "stdout",
          "text": [
            "[]\n"
          ]
        }
      ],
      "source": [
        "explore_reviews_csv_query = \"\"\"\n",
        "CREATE (node1:Frame {text:\"opens\",type:\"Verb\"}),\n",
        "       (node2:Frame_Argument{text:\"anyone\",type:\"ARG0\"}),\n",
        "       (node3:Reference{text:\"who\",type:\"R-ARG0\"}),\n",
        "       (node4:Frame_Argument{text:\"those reports\",type:\"ARG1\"}),\n",
        "\n",
        "       (node2)-[:HAS_ARGUMENT]->(node1),\n",
        "       (node3)-[:HAS_ARGUMENT]->(node1),\n",
        "       (node4)-[:HAS_ARGUMENT]->(node1)\n",
        "\n",
        "MERGE (description:Description {cveId:\"CVE-2023-0018\"})\n",
        "MERGE (frame:Frame {text:\"opens\"})\n",
        "MERGE (description)-[:MAPPED_WITH]->(frame)       \n",
        "\n",
        "\"\"\"\n",
        "result = conn.query(explore_reviews_csv_query)\n",
        "print(result)"
      ]
    },
    {
      "cell_type": "code",
      "execution_count": 664,
      "metadata": {
        "id": "tJx83bcgxi98",
        "colab": {
          "base_uri": "https://localhost:8080/"
        },
        "outputId": "268411e7-f2b9-4bf4-c7ba-44aaa4264ac6"
      },
      "outputs": [
        {
          "output_type": "stream",
          "name": "stdout",
          "text": [
            "[]\n"
          ]
        }
      ],
      "source": [
        "explore_reviews_csv_query = \"\"\"\n",
        "CREATE (node1:Frame {text:\"be\",type:\"Verb\"}),\n",
        "       (node2:Frame_Argument{text:\"anyone who opens those reports\",type:\"ARG1\"}),\n",
        "       (node3:Modifier_Modal{text:\"would\",type:\"ARGM-MOD\"}),\n",
        "       (node4:Frame_Argument{text:\"susceptible to stored XSS attacks\",type:\"ARG2\"}),\n",
        "       (node5:Modifier_Cause{text:\"As\",type:\"ARGM-CAU\"}),\n",
        "\n",
        "       (node2)-[:HAS_ARGUMENT]->(node1),\n",
        "       (node3)-[:HAS_ARGUMENT]->(node1),\n",
        "       (node4)-[:HAS_ARGUMENT]->(node1),\n",
        "       (node5)-[:HAS_ARGUMENT]->(node1)\n",
        "\n",
        "MERGE (description:Description {cveId:\"CVE-2023-0018\"})\n",
        "MERGE (frame:Frame {text:\"be\"})\n",
        "MERGE (description)-[:MAPPED_WITH]->(frame)        \n",
        "\n",
        "\"\"\"\n",
        "result = conn.query(explore_reviews_csv_query)\n",
        "print(result)"
      ]
    },
    {
      "cell_type": "code",
      "execution_count": 665,
      "metadata": {
        "id": "sbFiOw_Axj_F",
        "colab": {
          "base_uri": "https://localhost:8080/"
        },
        "outputId": "589e949e-f535-4d53-c211-31990ab80611"
      },
      "outputs": [
        {
          "output_type": "stream",
          "name": "stdout",
          "text": [
            "[]\n"
          ]
        }
      ],
      "source": [
        "explore_reviews_csv_query = \"\"\"\n",
        "CREATE (node1:Frame {text:\"maintained\",type:\"Verb\"}),\n",
        "       (node2:Frame_Argument{text:\"information\",type:\"ARG1\"}),\n",
        "       (node3:Modifier_Location{text:\"in the victim 's web browser\",type:\"ARGM-LOC\"}),\n",
        "\n",
        "       (node2)-[:HAS_ARGUMENT]->(node1),\n",
        "       (node3)-[:HAS_ARGUMENT]->(node1)\n",
        "\n",
        "MERGE (description:Description {cveId:\"CVE-2023-0018\"})\n",
        "MERGE (frame:Frame {text:\"maintained\"})\n",
        "MERGE (description)-[:MAPPED_WITH]->(frame)       \n",
        "\n",
        "\"\"\"\n",
        "result = conn.query(explore_reviews_csv_query)\n",
        "print(result)"
      ]
    },
    {
      "cell_type": "code",
      "execution_count": 666,
      "metadata": {
        "id": "7De5Gg1pxk2U",
        "colab": {
          "base_uri": "https://localhost:8080/"
        },
        "outputId": "0be3a5e0-7adf-42bd-aba0-a15b5d7ed7ef"
      },
      "outputs": [
        {
          "output_type": "stream",
          "name": "stdout",
          "text": [
            "[]\n"
          ]
        }
      ],
      "source": [
        "explore_reviews_csv_query = \"\"\"\n",
        "CREATE (node1:Frame {text:\"read\",type:\"Verb\"}),\n",
        "       (node2:Modifier_Cause{text:\"As a result of the attack\",type:\"ARGM-CAU\"}),\n",
        "       (node3:Frame_Argument{text:\"information maintained in the victim 's web browser\",type:\"ARG1\"}),\n",
        "       (node4:Modifier_Modal{text:\"can\",type:\"ARGM-MOD\"}),\n",
        "\n",
        "       (node2)-[:HAS_ARGUMENT]->(node1),\n",
        "       (node3)-[:HAS_ARGUMENT]->(node1),\n",
        "       (node4)-[:HAS_ARGUMENT]->(node1)\n",
        "\n",
        "MERGE (description:Description {cveId:\"CVE-2023-0018\"})\n",
        "MERGE (frame:Frame {text:\"read\"})\n",
        "MERGE (description)-[:MAPPED_WITH]->(frame)       \n",
        "\n",
        "\"\"\"\n",
        "result = conn.query(explore_reviews_csv_query)\n",
        "print(result)"
      ]
    },
    {
      "cell_type": "code",
      "execution_count": 667,
      "metadata": {
        "id": "JlhqWV8pxl1E",
        "colab": {
          "base_uri": "https://localhost:8080/"
        },
        "outputId": "3707981f-1fbc-4bb2-938b-79ed1724b8ee"
      },
      "outputs": [
        {
          "output_type": "stream",
          "name": "stdout",
          "text": [
            "[]\n"
          ]
        }
      ],
      "source": [
        "explore_reviews_csv_query = \"\"\"\n",
        "CREATE (node1:Frame {text:\"modified\",type:\"Verb\"}),\n",
        "       (node2:Frame_Argument{text:\"information maintained in the victim 's web browser\",type:\"ARG1\"}),\n",
        "       (node3:Modifier_Modal{text:\"can\",type:\"ARGM-MOD\"}),\n",
        "\n",
        "       (node2)-[:HAS_ARGUMENT]->(node1),\n",
        "       (node3)-[:HAS_ARGUMENT]->(node1)\n",
        "\n",
        "MERGE (description:Description {cveId:\"CVE-2023-0018\"})\n",
        "MERGE (frame:Frame {text:\"modified\"})\n",
        "MERGE (description)-[:MAPPED_WITH]->(frame)       \n",
        "\n",
        "\"\"\"\n",
        "result = conn.query(explore_reviews_csv_query)\n",
        "print(result)"
      ]
    },
    {
      "cell_type": "code",
      "execution_count": 668,
      "metadata": {
        "id": "UzxmXlMuxmzu",
        "colab": {
          "base_uri": "https://localhost:8080/"
        },
        "outputId": "bf6b1577-bbd8-4e3f-a24b-997b59cf0017"
      },
      "outputs": [
        {
          "output_type": "stream",
          "name": "stdout",
          "text": [
            "[]\n"
          ]
        }
      ],
      "source": [
        "explore_reviews_csv_query = \"\"\"\n",
        "CREATE (node1:Frame {text:\"sent\",type:\"Verb\"}),\n",
        "       (node2:Frame_Argument{text:\"information maintained in the victim 's web browser\",type:\"ARG1\"}),\n",
        "       (node3:Modifier_Modal{text:\"can\",type:\"ARGM-MOD\"}),\n",
        "       (node4:Frame_Argument{text:\"to the attacker\",type:\"ARG2\"}),\n",
        "\n",
        "       (node2)-[:HAS_ARGUMENT]->(node1),\n",
        "       (node3)-[:HAS_ARGUMENT]->(node1),\n",
        "       (node4)-[:HAS_ARGUMENT]->(node1)\n",
        "\n",
        "MERGE (description:Description {cveId:\"CVE-2023-0018\"})\n",
        "MERGE (frame:Frame {text:\"sent\"})\n",
        "MERGE (description)-[:MAPPED_WITH]->(frame)       \n",
        "\n",
        "\"\"\"\n",
        "result = conn.query(explore_reviews_csv_query)\n",
        "print(result)"
      ]
    },
    {
      "cell_type": "code",
      "execution_count": 669,
      "metadata": {
        "id": "QnGTfdgFxn2o",
        "colab": {
          "base_uri": "https://localhost:8080/"
        },
        "outputId": "1aada82f-b157-44aa-8dc1-8fb04fdbeac8"
      },
      "outputs": [
        {
          "output_type": "stream",
          "name": "stdout",
          "text": [
            "[]\n"
          ]
        }
      ],
      "source": [
        "explore_reviews_csv_query = \"\"\"\n",
        "CREATE (node1:Frame {text:\"allows\",type:\"Verb\"}),\n",
        "       (node2:Frame_Argument{text:\"SAP BusinessObjects Business Intelligence Analysis edition for OLAP\",type:\"ARG0\"}),\n",
        "       (node3:Frame_Argument{text:\"an authenticated attacker to inject malicious code that can be executed by the application over the network . On successful exploitation , an attacker can perform operations that may completely compromise the application causing a high impact on the confidentiality , integrity , and availability of the application\",type:\"ARG1\"}),\n",
        "       (node4:Frame_Argument{type:\"ARG0\",Head:\"authenticated\",offsetStart:3,offsetEnd:16,confidence_score:0.3605,wikipediaExternalRef:47967,wikidataId:\"Q212108\",domains:\"Economy,Electronics,Engineering\"}),\n",
        "       (node5:Frame_Argument{type:\"ARG1\",Head:\"malicious code\",offsetStart:36,offsetEnd:50,confidence_score:0.4342,wikipediaExternalRef:20901,wikidataId:\"Q14001\",domains:\"Computer_Science\"}),\n",
        "\n",
        "       (node2)-[:HAS_ARGUMENT]->(node1),\n",
        "       (node3)-[:HAS_ARGUMENT]->(node1),\n",
        "       (node4)-[:HAS_ARGUMENT]->(node1),\n",
        "       (node5)-[:HAS_ARGUMENT]->(node1)\n",
        "\n",
        "MERGE (description:Description {cveId:\"CVE-2023-0022\"})\n",
        "MERGE (frame:Frame {text:\"allows\"})\n",
        "MERGE (description)-[:MAPPED_WITH]->(frame)       \n",
        "\n",
        "\"\"\"\n",
        "result = conn.query(explore_reviews_csv_query)\n",
        "print(result)"
      ]
    },
    {
      "cell_type": "code",
      "execution_count": 670,
      "metadata": {
        "id": "7WnIajMJxoz6",
        "colab": {
          "base_uri": "https://localhost:8080/"
        },
        "outputId": "6c7cf0cb-c16b-4b9b-b582-ce2c63357d03"
      },
      "outputs": [
        {
          "output_type": "stream",
          "name": "stdout",
          "text": [
            "[]\n"
          ]
        }
      ],
      "source": [
        "explore_reviews_csv_query = \"\"\"\n",
        "CREATE (node1:Frame {text:\"inject\",type:\"Verb\"}),\n",
        "       (node2:Frame_Argument{text:\"an authenticated attacker\",type:\"ARG0\"}),\n",
        "       (node3:Frame_Argument{text:\"malicious code that can be executed by the application over the network . On successful exploitation\",type:\"ARG1\"}),\n",
        "       (node4:Frame_Argument{type:\"ARG1\",Head:\"malicious code\",offsetStart:0,offsetEnd:14,confidence_score:0.4342,wikipediaExternalRef:20901,wikidataId:\"Q14001\",domains:\"Computer_Science\"}),\n",
        "\n",
        "       (node2)-[:HAS_ARGUMENT]->(node1),\n",
        "       (node3)-[:HAS_ARGUMENT]->(node1),\n",
        "       (node4)-[:HAS_ARGUMENT]->(node1)\n",
        "\n",
        "MERGE (description:Description {cveId:\"CVE-2023-0022\"})\n",
        "MERGE (frame:Frame {text:\"inject\"})\n",
        "MERGE (description)-[:MAPPED_WITH]->(frame)       \n",
        "\n",
        "\"\"\"\n",
        "result = conn.query(explore_reviews_csv_query)\n",
        "print(result)"
      ]
    },
    {
      "cell_type": "code",
      "execution_count": 671,
      "metadata": {
        "id": "aW0UU04GxqD4",
        "colab": {
          "base_uri": "https://localhost:8080/"
        },
        "outputId": "892d3c84-33ed-41df-e1c7-2be4cc847787"
      },
      "outputs": [
        {
          "output_type": "stream",
          "name": "stdout",
          "text": [
            "[]\n"
          ]
        }
      ],
      "source": [
        "explore_reviews_csv_query = \"\"\"\n",
        "CREATE (node1:Frame {text:\"executed\",type:\"Verb\"}),\n",
        "       (node2:Frame_Argument{text:\"malicious code\",type:\"ARG1\"}),\n",
        "       (node3:Reference{text:\"that\",type:\"R-ARG1\"}),\n",
        "       (node4:Modifier_Modal{text:\"can\",type:\"ARGM-MOD\"}),\n",
        "       (node5:Frame_Argument{text:\"by the application over the network\",type:\"ARG0\"}),\n",
        "      \n",
        "       (node2)-[:HAS_ARGUMENT]->(node1),\n",
        "       (node3)-[:HAS_ARGUMENT]->(node1),\n",
        "       (node4)-[:HAS_ARGUMENT]->(node1),\n",
        "       (node5)-[:HAS_ARGUMENT]->(node1)\n",
        "\n",
        "MERGE (description:Description {cveId:\"CVE-2023-0022\"})\n",
        "MERGE (frame:Frame {text:\"executed\"})\n",
        "MERGE (description)-[:MAPPED_WITH]->(frame)        \n",
        "\n",
        "\"\"\"\n",
        "result = conn.query(explore_reviews_csv_query)\n",
        "print(result)"
      ]
    },
    {
      "cell_type": "code",
      "execution_count": 672,
      "metadata": {
        "id": "4IOCQyZasv4A",
        "colab": {
          "base_uri": "https://localhost:8080/"
        },
        "outputId": "1fcae781-2864-41e9-ea63-d56f466449df"
      },
      "outputs": [
        {
          "output_type": "stream",
          "name": "stdout",
          "text": [
            "[]\n"
          ]
        }
      ],
      "source": [
        "explore_reviews_csv_query = \"\"\"\n",
        "CREATE (node1:Frame {text:\"perform\",type:\"Verb\"}),\n",
        "       (node2:Frame_Argument{text:\"an attacker\",type:\"ARG0\"}),\n",
        "       (node3:Modifier_Modal{text:\"can\",type:\"ARGM-MOD\"}),\n",
        "       (node4:Frame_Argument{text:\"operations\",type:\"ARG1\"}),\n",
        "\n",
        "       (node2)-[:HAS_ARGUMENT]->(node1),\n",
        "       (node3)-[:HAS_ARGUMENT]->(node1),\n",
        "       (node4)-[:HAS_ARGUMENT]->(node1)\n",
        "\n",
        "MERGE (description:Description {cveId:\"CVE-2023-0022\"})\n",
        "MERGE (frame:Frame {text:\"perform\"})\n",
        "MERGE (description)-[:MAPPED_WITH]->(frame)       \n",
        "\n",
        "\"\"\"\n",
        "result = conn.query(explore_reviews_csv_query)\n",
        "print(result)"
      ]
    },
    {
      "cell_type": "code",
      "execution_count": 673,
      "metadata": {
        "id": "SS6uGNJ0sw7w",
        "colab": {
          "base_uri": "https://localhost:8080/"
        },
        "outputId": "3ae48d61-7b4e-4694-efd5-0965dad31bde"
      },
      "outputs": [
        {
          "output_type": "stream",
          "name": "stdout",
          "text": [
            "[]\n"
          ]
        }
      ],
      "source": [
        "explore_reviews_csv_query = \"\"\"\n",
        "CREATE (node1:Frame {text:\"compromise\",type:\"Verb\"}),\n",
        "       (node2:Frame_Argument{text:\"operations\",type:\"ARG0\"}),\n",
        "       (node3:Reference{text:\"that\",type:\"R-ARG0\"}),\n",
        "       (node4:Modifier_Modal{text:\"may\",type:\"ARGM-MOD\"}),\n",
        "       (node5:Modifier_Extent{text:\"completely\",type:\"ARGM-EXT\"}),\n",
        "       (node6:Frame_Argument{text:\"the application causing a high impact on the confidentiality , integrity , and availability of the application\",type:\"ARG1\"}),\n",
        "\n",
        "       (node2)-[:HAS_ARGUMENT]->(node1),\n",
        "       (node3)-[:HAS_ARGUMENT]->(node1),\n",
        "       (node4)-[:HAS_ARGUMENT]->(node1),\n",
        "       (node5)-[:HAS_ARGUMENT]->(node1),\n",
        "       (node6)-[:HAS_ARGUMENT]->(node1)\n",
        "\n",
        "MERGE (description:Description {cveId:\"CVE-2023-0022\"})\n",
        "MERGE (frame:Frame {text:\"compromise\"})\n",
        "MERGE (description)-[:MAPPED_WITH]->(frame)       \n",
        "\n",
        "\"\"\"\n",
        "result = conn.query(explore_reviews_csv_query)\n",
        "print(result)"
      ]
    },
    {
      "cell_type": "code",
      "execution_count": 674,
      "metadata": {
        "id": "zK1Myi-WsyFA",
        "colab": {
          "base_uri": "https://localhost:8080/"
        },
        "outputId": "38e52bac-021d-41db-a0b5-b644d0b2117f"
      },
      "outputs": [
        {
          "output_type": "stream",
          "name": "stdout",
          "text": [
            "[]\n"
          ]
        }
      ],
      "source": [
        "explore_reviews_csv_query = \"\"\"\n",
        "CREATE (node1:Frame {text:\"causing\",type:\"Verb\"}),\n",
        "       (node2:Frame_Argument{text:\"the application\",type:\"ARG0\"}),\n",
        "       (node3:Frame_Argument{text:\"a high impact on the confidentiality , integrity , and availability of the application\",type:\"ARG1\"}),\n",
        "\n",
        "       (node2)-[:HAS_ARGUMENT]->(node1),\n",
        "       (node3)-[:HAS_ARGUMENT]->(node1)\n",
        "\n",
        "MERGE (description:Description {cveId:\"CVE-2023-0022\"})\n",
        "MERGE (frame:Frame {text:\"causing\"})\n",
        "MERGE (description)-[:MAPPED_WITH]->(frame)       \n",
        "\n",
        "\"\"\"\n",
        "result = conn.query(explore_reviews_csv_query)\n",
        "print(result)"
      ]
    },
    {
      "cell_type": "code",
      "execution_count": 675,
      "metadata": {
        "id": "500QHLa2szCF",
        "colab": {
          "base_uri": "https://localhost:8080/"
        },
        "outputId": "da5e8685-649d-43a8-99bf-336ebed6b8d8"
      },
      "outputs": [
        {
          "output_type": "stream",
          "name": "stdout",
          "text": [
            "[]\n"
          ]
        }
      ],
      "source": [
        "explore_reviews_csv_query = \"\"\"\n",
        "CREATE (node1:Frame {text:\"clicks\",type:\"Verb\"}),\n",
        "       (node2:Modifier_Temporal{text:\"when\",type:\"ARGM-TMP\"}),\n",
        "       (node3:Frame_Argument{text:\"a user\",type:\"ARG0\"}),\n",
        "       (node4:Frame_Argument{text:\"a smart link to navigate to another app\",type:\"ARG1\"}),\n",
        "\n",
        "       (node2)-[:HAS_ARGUMENT]->(node1),\n",
        "       (node3)-[:HAS_ARGUMENT]->(node1),\n",
        "       (node4)-[:HAS_ARGUMENT]->(node1)\n",
        "\n",
        "MERGE (description:Description {cveId:\"CVE-2023-0023\"})\n",
        "MERGE (frame:Frame {text:\"clicks\"})\n",
        "MERGE (description)-[:MAPPED_WITH]->(frame)       \n",
        "\n",
        "\"\"\"\n",
        "result = conn.query(explore_reviews_csv_query)\n",
        "print(result)"
      ]
    },
    {
      "cell_type": "code",
      "execution_count": 676,
      "metadata": {
        "id": "KdONSAoVsz9P",
        "colab": {
          "base_uri": "https://localhost:8080/"
        },
        "outputId": "9198a379-1d75-479c-e0e1-541800631465"
      },
      "outputs": [
        {
          "output_type": "stream",
          "name": "stdout",
          "text": [
            "[]\n"
          ]
        }
      ],
      "source": [
        "explore_reviews_csv_query = \"\"\"\n",
        "CREATE (node1:Frame {text:\"navigate\",type:\"Verb\"}),\n",
        "       (node2:Frame_Argument{text:\"a user\",type:\"ARG0\"}),\n",
        "       (node3:Frame_Argument{text:\"to another app\",type:\"ARG1\"}),\n",
        "\n",
        "       (node2)-[:HAS_ARGUMENT]->(node1),\n",
        "       (node3)-[:HAS_ARGUMENT]->(node1)\n",
        "\n",
        "MERGE (description:Description {cveId:\"CVE-2023-0023\"})\n",
        "MERGE (frame:Frame {text:\"navigate\"})\n",
        "MERGE (description)-[:MAPPED_WITH]->(frame)       \n",
        "\n",
        "\"\"\"\n",
        "result = conn.query(explore_reviews_csv_query)\n",
        "print(result)"
      ]
    },
    {
      "cell_type": "code",
      "execution_count": 677,
      "metadata": {
        "id": "3vsStx39s05p",
        "colab": {
          "base_uri": "https://localhost:8080/"
        },
        "outputId": "2aabd7cb-2b94-45b7-ad27-743322e1ec72"
      },
      "outputs": [
        {
          "output_type": "stream",
          "name": "stdout",
          "text": [
            "[]\n"
          ]
        }
      ],
      "source": [
        "explore_reviews_csv_query = \"\"\"\n",
        "CREATE (node1:Frame {text:\"shown\",type:\"Verb\"}),\n",
        "       (node2:Modifier_Location{text:\"In SAP Bank Account Management ( Manage Banks ) application\",type:\"ARGM-LOC\"}),\n",
        "       (node3:Modifier_Temporal{text:\"when a user clicks a smart link to navigate to another app\",type:\"ARGM-TMP\"}),\n",
        "       (node4:Frame_Argument{text:\"personal data\",type:\"ARG1\"}),\n",
        "       (node5:Modifier_Manner{text:\"directly\",type:\"ARGM-MNR\"}),\n",
        "       (node6:Modifier_Location{text:\"in the URL\",type:\"ARGM-LOC\"}),\n",
        "\n",
        "       (node2)-[:HAS_ARGUMENT]->(node1),\n",
        "       (node3)-[:HAS_ARGUMENT]->(node1),\n",
        "       (node4)-[:HAS_ARGUMENT]->(node1), \n",
        "       (node5)-[:HAS_ARGUMENT]->(node1),\n",
        "       (node6)-[:HAS_ARGUMENT]->(node1)\n",
        "\n",
        "MERGE (description:Description {cveId:\"CVE-2023-0023\"})\n",
        "MERGE (frame:Frame {text:\"shown\"})\n",
        "MERGE (description)-[:MAPPED_WITH]->(frame)        \n",
        "\n",
        "\"\"\"\n",
        "result = conn.query(explore_reviews_csv_query)\n",
        "print(result)"
      ]
    },
    {
      "cell_type": "code",
      "execution_count": 678,
      "metadata": {
        "id": "poOinGq9s3fz",
        "colab": {
          "base_uri": "https://localhost:8080/"
        },
        "outputId": "73145c55-fa2c-451c-dcdf-a966b2dd7268"
      },
      "outputs": [
        {
          "output_type": "stream",
          "name": "stdout",
          "text": [
            "[]\n"
          ]
        }
      ],
      "source": [
        "explore_reviews_csv_query = \"\"\"\n",
        "CREATE (node1:Frame {text:\"get\",type:\"Verb\"}),\n",
        "       (node2:Frame_Argument{text:\"They\",type:\"ARG1\"}),\n",
        "       (node3:Modifier_Modal{text:\"might\",type:\"ARGM-MOD\"}),\n",
        "       (node4:Frame_Argument{text:\"captured in log files , bookmarks , and so on disclosing sensitive data of the application\",type:\"ARG2\"}),\n",
        "\n",
        "       (node2)-[:HAS_ARGUMENT]->(node1),\n",
        "       (node3)-[:HAS_ARGUMENT]->(node1),\n",
        "       (node4)-[:HAS_ARGUMENT]->(node1)\n",
        "\n",
        "MERGE (description:Description {cveId:\"CVE-2023-0023\"})\n",
        "MERGE (frame:Frame {text:\"get\"})\n",
        "MERGE (description)-[:MAPPED_WITH]->(frame)       \n",
        "\n",
        "\"\"\"\n",
        "result = conn.query(explore_reviews_csv_query)\n",
        "print(result)"
      ]
    },
    {
      "cell_type": "code",
      "execution_count": 679,
      "metadata": {
        "id": "fcSYYWXvrIjN",
        "colab": {
          "base_uri": "https://localhost:8080/"
        },
        "outputId": "54e175bd-1153-4f0a-fe54-decc0f3e7644"
      },
      "outputs": [
        {
          "output_type": "stream",
          "name": "stdout",
          "text": [
            "[]\n"
          ]
        }
      ],
      "source": [
        "explore_reviews_csv_query = \"\"\"\n",
        "CREATE (node1:Frame {text:\"captured\",type:\"Verb\"}),\n",
        "       (node2:Frame_Argument{text:\"They\",type:\"ARG1\"}),\n",
        "       (node3:Modifier_Modal{text:\"might\",type:\"ARGM-MOD\"}),\n",
        "       (node4:Modifier_Location{text:\"in log files , bookmarks\",type:\"ARGM-LOC\"}),\n",
        "\n",
        "       (node2)-[:HAS_ARGUMENT]->(node1),\n",
        "       (node3)-[:HAS_ARGUMENT]->(node1),\n",
        "       (node4)-[:HAS_ARGUMENT]->(node1)\n",
        "\n",
        "MERGE (description:Description {cveId:\"CVE-2023-0023\"})\n",
        "MERGE (frame:Frame {text:\"captured\"})\n",
        "MERGE (description)-[:MAPPED_WITH]->(frame)       \n",
        "\n",
        "\"\"\"\n",
        "result = conn.query(explore_reviews_csv_query)\n",
        "print(result)"
      ]
    },
    {
      "cell_type": "code",
      "execution_count": 680,
      "metadata": {
        "id": "z0lmbOAvrJhw",
        "colab": {
          "base_uri": "https://localhost:8080/"
        },
        "outputId": "d7a98299-5e3e-4b56-872c-ae5699f67231"
      },
      "outputs": [
        {
          "output_type": "stream",
          "name": "stdout",
          "text": [
            "[]\n"
          ]
        }
      ],
      "source": [
        "explore_reviews_csv_query = \"\"\"\n",
        "CREATE (node1:Frame {text:\"Stored\",type:\"Verb\"}),\n",
        "       (node2:Frame_Argument{text:\")\",type:\"ARG0\"}),\n",
        "       (node3:Frame_Argument{text:\"in GitHub repository linagora / twake\",type:\"ARG1\"}),\n",
        "       (node4:Modifier_Temporal{text:\"prior to 2023.Q1.1200 +\",type:\"ARGM-TMP\"}),\n",
        "\n",
        "       (node2)-[:HAS_ARGUMENT]->(node1),\n",
        "       (node3)-[:HAS_ARGUMENT]->(node1),\n",
        "       (node4)-[:HAS_ARGUMENT]->(node1)\n",
        "\n",
        "MERGE (description:Description {cveId:\"CVE-2023-0028\"})\n",
        "MERGE (frame:Frame {text:\"Stored\"})\n",
        "MERGE (description)-[:MAPPED_WITH]->(frame)       \n",
        "\n",
        "\"\"\"\n",
        "result = conn.query(explore_reviews_csv_query)\n",
        "print(result)"
      ]
    },
    {
      "cell_type": "code",
      "execution_count": 681,
      "metadata": {
        "id": "bGSHdBPrrKZa",
        "colab": {
          "base_uri": "https://localhost:8080/"
        },
        "outputId": "e9c39ff8-7a01-4762-e49c-c258b8d7c77d"
      },
      "outputs": [
        {
          "output_type": "stream",
          "name": "stdout",
          "text": [
            "[]\n"
          ]
        }
      ],
      "source": [
        "explore_reviews_csv_query = \"\"\"\n",
        "CREATE (node1:Frame {text:\"found\",type:\"Verb\"}),\n",
        "       (node2:Frame_Argument{text:\"A vulnerability\",type:\"ARG1\"}),\n",
        "       (node3:Modifier_Location{text:\"in Multilaser RE708 RE1200R4GC-2T2R - V3_v3411b_MUL029B.\",type:\"ARGM-LOC\"}),\n",
        "\n",
        "       (node2)-[:HAS_ARGUMENT]->(node1),\n",
        "       (node3)-[:HAS_ARGUMENT]->(node1)\n",
        "\n",
        "MERGE (description:Description {cveId:\"CVE-2023-0029\"})\n",
        "MERGE (frame:Frame {text:\"found\"})\n",
        "MERGE (description)-[:MAPPED_WITH]->(frame)       \n",
        "\n",
        "\"\"\"\n",
        "result = conn.query(explore_reviews_csv_query)\n",
        "print(result)"
      ]
    },
    {
      "cell_type": "code",
      "execution_count": 682,
      "metadata": {
        "id": "tJHKnfZcrLP1",
        "colab": {
          "base_uri": "https://localhost:8080/"
        },
        "outputId": "f2832811-90b4-4635-fc6a-0d9dc21c1e86"
      },
      "outputs": [
        {
          "output_type": "stream",
          "name": "stdout",
          "text": [
            "[]\n"
          ]
        }
      ],
      "source": [
        "explore_reviews_csv_query = \"\"\"\n",
        "CREATE (node1:Frame {text:\"rated\",type:\"Verb\"}),\n",
        "       (node2:Frame_Argument{text:\"in Multilaser RE708 RE1200R4GC-2T2R - V3_v3411b_MUL029B\",type:\"ARG2\"}),\n",
        "       (node3:Frame_Argument{text:\"It\",type:\"ARG1\"}),\n",
        "       (node4:Frame_Argument{text:\"as problematic\",type:\"ARG2\"}),\n",
        "\n",
        "       (node2)-[:HAS_ARGUMENT]->(node1),\n",
        "       (node3)-[:HAS_ARGUMENT]->(node1),\n",
        "       (node4)-[:HAS_ARGUMENT]->(node1)\n",
        "\n",
        "MERGE (description:Description {cveId:\"CVE-2023-0029\"})\n",
        "MERGE (frame:Frame {text:\"rated\"})\n",
        "MERGE (description)-[:MAPPED_WITH]->(frame)       \n",
        "\n",
        "\"\"\"\n",
        "result = conn.query(explore_reviews_csv_query)\n",
        "print(result)"
      ]
    },
    {
      "cell_type": "code",
      "execution_count": 683,
      "metadata": {
        "id": "lfKPZ9CxrMMI",
        "colab": {
          "base_uri": "https://localhost:8080/"
        },
        "outputId": "f953f875-de48-4df4-b516-e21bb2f480e0"
      },
      "outputs": [
        {
          "output_type": "stream",
          "name": "stdout",
          "text": [
            "[]\n"
          ]
        }
      ],
      "source": [
        "explore_reviews_csv_query = \"\"\"\n",
        "CREATE (node1:Frame {text:\"affects\",type:\"Verb\"}),\n",
        "       (node2:Frame_Argument{text:\"This issue\",type:\"ARG0\"}),\n",
        "       (node3:Frame_Argument{text:\"some unknown processing of the component Telnet Service\",type:\"ARG1\"}),\n",
        "\n",
        "       (node2)-[:HAS_ARGUMENT]->(node1),\n",
        "       (node3)-[:HAS_ARGUMENT]->(node1)\n",
        "\n",
        "MERGE (description:Description {cveId:\"CVE-2023-0029\"})\n",
        "MERGE (frame:Frame {text:\"affects\"})\n",
        "MERGE (description)-[:MAPPED_WITH]->(frame)        \n",
        "\n",
        "\"\"\"\n",
        "result = conn.query(explore_reviews_csv_query)\n",
        "print(result)"
      ]
    },
    {
      "cell_type": "code",
      "execution_count": 684,
      "metadata": {
        "id": "2WACRjJCrM_6",
        "colab": {
          "base_uri": "https://localhost:8080/"
        },
        "outputId": "c081c2d8-3806-4187-88bf-ba0f6193a1ba"
      },
      "outputs": [
        {
          "output_type": "stream",
          "name": "stdout",
          "text": [
            "[]\n"
          ]
        }
      ],
      "source": [
        "explore_reviews_csv_query = \"\"\"\n",
        "CREATE (node1:Frame {text:\"leads\",type:\"Verb\"}),\n",
        "       (node2:Frame_Argument{text:\"The manipulation\",type:\"ARG0\"}),\n",
        "       (node3:Frame_Argument{text:\"to denial of service\",type:\"ARG2\"}),\n",
        "\n",
        "       (node2)-[:HAS_ARGUMENT]->(node1),\n",
        "       (node3)-[:HAS_ARGUMENT]->(node1)\n",
        "\n",
        "MERGE (description:Description {cveId:\"CVE-2023-0029\"})\n",
        "MERGE (frame:Frame {text:\"leads\"})\n",
        "MERGE (description)-[:MAPPED_WITH]->(frame)        \n",
        "\n",
        "\"\"\"\n",
        "result = conn.query(explore_reviews_csv_query)\n",
        "print(result)"
      ]
    },
    {
      "cell_type": "code",
      "execution_count": 685,
      "metadata": {
        "id": "tVlNVdOBrN2D",
        "colab": {
          "base_uri": "https://localhost:8080/"
        },
        "outputId": "ef02c063-5915-4869-9989-9264673a3513"
      },
      "outputs": [
        {
          "output_type": "stream",
          "name": "stdout",
          "text": [
            "[]\n"
          ]
        }
      ],
      "source": [
        "explore_reviews_csv_query = \"\"\"\n",
        "CREATE (node1:Frame {text:\"initiated\",type:\"Verb\"}),\n",
        "       (node2:Frame_Argument{text:\"The attack\",type:\"ARG1\"}),\n",
        "       (node3:Modifier_Modal{text:\"may\",type:\"ARGM-MOD\"}),\n",
        "       (node4:Modifier_Manner{text:\"remotely\",type:\"ARGM-MNR\"}),\n",
        "\n",
        "       (node2)-[:HAS_ARGUMENT]->(node1),\n",
        "       (node3)-[:HAS_ARGUMENT]->(node1),\n",
        "       (node4)-[:HAS_ARGUMENT]->(node1)\n",
        "\n",
        "MERGE (description:Description {cveId:\"CVE-2023-0029\"})\n",
        "MERGE (frame:Frame {text:\"initiated\"})\n",
        "MERGE (description)-[:MAPPED_WITH]->(frame)       \n",
        "\n",
        "\"\"\"\n",
        "result = conn.query(explore_reviews_csv_query)\n",
        "print(result)"
      ]
    },
    {
      "cell_type": "code",
      "execution_count": 686,
      "metadata": {
        "id": "Y7ZevRlUrOrC",
        "colab": {
          "base_uri": "https://localhost:8080/"
        },
        "outputId": "14373f50-d3f4-4abe-f14c-67e11b2f20a4"
      },
      "outputs": [
        {
          "output_type": "stream",
          "name": "stdout",
          "text": [
            "[]\n"
          ]
        }
      ],
      "source": [
        "explore_reviews_csv_query = \"\"\"\n",
        "CREATE (node1:Frame {text:\"assigned\",type:\"Verb\"}),\n",
        "       (node2:Frame_Argument{text:\"The identifier VDB-217169\",type:\"ARG1\"}),\n",
        "       (node3:Frame_Argument{text:\"to this vulnerability\",type:\"ARG2\"}),\n",
        "\n",
        "       (node2)-[:HAS_ARGUMENT]->(node1),\n",
        "       (node3)-[:HAS_ARGUMENT]->(node1)\n",
        "\n",
        "MERGE (description:Description {cveId:\"CVE-2023-0029\"})\n",
        "MERGE (frame:Frame {text:\"assigned\"})\n",
        "MERGE (description)-[:MAPPED_WITH]->(frame)       \n",
        "\n",
        "\"\"\"\n",
        "result = conn.query(explore_reviews_csv_query)\n",
        "print(result)"
      ]
    },
    {
      "cell_type": "markdown",
      "source": [
        "# **Creating rules for enhancing the coverage of the knowledge graph**"
      ],
      "metadata": {
        "id": "UI8LlRD57BQV"
      }
    },
    {
      "cell_type": "markdown",
      "source": [
        "Here all CWE refered to weaknesses that lead to CVE vulnerabilities "
      ],
      "metadata": {
        "id": "pnpH74uTq9Kq"
      }
    },
    {
      "cell_type": "code",
      "execution_count": 687,
      "metadata": {
        "id": "Qf9WCjACcghM",
        "colab": {
          "base_uri": "https://localhost:8080/"
        },
        "outputId": "db8aef14-ae49-4f11-df45-055cb8bc643d"
      },
      "outputs": [
        {
          "output_type": "stream",
          "name": "stdout",
          "text": [
            "[<Record p=<Path start=<Node element_id='4:de342d72-e7ff-4d5b-9a28-99eaa381965b:6' labels=frozenset({'CVE'}) properties={'assigner': 'cna@sap.com', 'id': 'CVE-2023-0018'}> end=<Node element_id='4:de342d72-e7ff-4d5b-9a28-99eaa381965b:155' labels=frozenset({'CWE'}) properties={'weakness_abstraction': 'Base', 'cwe_id': '79', 'name': \"Improper Neutralization of Input During Web Page Generation ('Cross-site Scripting')\", 'description': 'The software does not neutralize or incorrectly neutralizes user-controllable input before it is placed in output that is used as a web page that is served to other users.', 'extended_description': \"Cross-site scripting (XSS) vulnerabilities occur when: 1. Untrusted data enters a web application, typically from a web request. 2. The web application dynamically generates a web page that contains this untrusted data. 3. During page generation, the application does not prevent the data from containing content that is executable by a web browser, such as JavaScript, HTML tags, HTML attributes, mouse events, Flash, ActiveX, etc. 4. A victim visits the generated web page through a web browser, which contains malicious script that was injected using the untrusted data. 5. Since the script comes from a web page that was sent by the web server, the victim's web browser executes the malicious script in the context of the web server's domain. 6. This effectively violates the intention of the web browser's same-origin policy, which states that scripts in one domain should not be able to access resources or run code in a different domain. There are three main kinds of XSS: Type 1: Reflected XSS (or Non-Persistent) - The server reads data directly from the HTTP request and reflects it back in the HTTP response. Reflected XSS exploits occur when an attacker causes a victim to supply dangerous content to a vulnerable web application, which is then reflected back to the victim and executed by the web browser. The most common mechanism for delivering malicious content is to include it as a parameter in a URL that is posted publicly or e-mailed directly to the victim. URLs constructed in this manner constitute the core of many phishing schemes, whereby an attacker convinces a victim to visit a URL that refers to a vulnerable site. After the site reflects the attacker's content back to the victim, the content is executed by the victim's browser. Type 2: Stored XSS (or Persistent) - The application stores dangerous data in a database, message forum, visitor log, or other trusted data store. At a later time, the dangerous data is subsequently read back into the application and included in dynamic content. From an attacker's perspective, the optimal place to inject malicious content is in an area that is displayed to either many users or particularly interesting users. Interesting users typically have elevated privileges in the application or interact with sensitive data that is valuable to the attacker. If one of these users executes malicious content, the attacker may be able to perform privileged operations on behalf of the user or gain access to sensitive data belonging to the user. For example, the attacker might inject XSS into a log message, which might not be handled properly when an administrator views the logs. Type 0: DOM-Based XSS - In DOM-based XSS, the client performs the injection of XSS into the page; in the other types, the server performs the injection. DOM-based XSS generally involves server-controlled, trusted script that is sent to the client, such as Javascript that performs sanity checks on a form before the user submits it. If the server-supplied script processes user-supplied data and then injects it back into the web page (such as with dynamic HTML), then DOM-based XSS is possible. Once the malicious script is injected, the attacker can perform a variety of malicious activities. The attacker could transfer private information, such as cookies that may include session information, from the victim's machine to the attacker. The attacker could send malicious requests to a web site on behalf of the victim, which could be especially dangerous to the site if the victim has administrator privileges to manage that site. Phishing attacks could be used to emulate trusted web sites and trick the victim into entering a password, allowing the attacker to compromise the victim's account on that web site. Finally, the script could exploit a vulnerability in the web browser itself possibly taking over the victim's machine, sometimes referred to as drive-by hacking. In many cases, the attack can be launched without the victim even being aware of it. Even with careful users, attackers frequently use a variety of methods to encode the malicious portion of the attack, such as URL encoding or Unicode, so the request looks less suspicious.\", 'status': 'Stable'}> size=2>>, <Record p=<Path start=<Node element_id='4:de342d72-e7ff-4d5b-9a28-99eaa381965b:9' labels=frozenset({'CVE'}) properties={'assigner': 'security@huntr.dev', 'id': 'CVE-2023-0028'}> end=<Node element_id='4:de342d72-e7ff-4d5b-9a28-99eaa381965b:155' labels=frozenset({'CWE'}) properties={'weakness_abstraction': 'Base', 'cwe_id': '79', 'name': \"Improper Neutralization of Input During Web Page Generation ('Cross-site Scripting')\", 'description': 'The software does not neutralize or incorrectly neutralizes user-controllable input before it is placed in output that is used as a web page that is served to other users.', 'extended_description': \"Cross-site scripting (XSS) vulnerabilities occur when: 1. Untrusted data enters a web application, typically from a web request. 2. The web application dynamically generates a web page that contains this untrusted data. 3. During page generation, the application does not prevent the data from containing content that is executable by a web browser, such as JavaScript, HTML tags, HTML attributes, mouse events, Flash, ActiveX, etc. 4. A victim visits the generated web page through a web browser, which contains malicious script that was injected using the untrusted data. 5. Since the script comes from a web page that was sent by the web server, the victim's web browser executes the malicious script in the context of the web server's domain. 6. This effectively violates the intention of the web browser's same-origin policy, which states that scripts in one domain should not be able to access resources or run code in a different domain. There are three main kinds of XSS: Type 1: Reflected XSS (or Non-Persistent) - The server reads data directly from the HTTP request and reflects it back in the HTTP response. Reflected XSS exploits occur when an attacker causes a victim to supply dangerous content to a vulnerable web application, which is then reflected back to the victim and executed by the web browser. The most common mechanism for delivering malicious content is to include it as a parameter in a URL that is posted publicly or e-mailed directly to the victim. URLs constructed in this manner constitute the core of many phishing schemes, whereby an attacker convinces a victim to visit a URL that refers to a vulnerable site. After the site reflects the attacker's content back to the victim, the content is executed by the victim's browser. Type 2: Stored XSS (or Persistent) - The application stores dangerous data in a database, message forum, visitor log, or other trusted data store. At a later time, the dangerous data is subsequently read back into the application and included in dynamic content. From an attacker's perspective, the optimal place to inject malicious content is in an area that is displayed to either many users or particularly interesting users. Interesting users typically have elevated privileges in the application or interact with sensitive data that is valuable to the attacker. If one of these users executes malicious content, the attacker may be able to perform privileged operations on behalf of the user or gain access to sensitive data belonging to the user. For example, the attacker might inject XSS into a log message, which might not be handled properly when an administrator views the logs. Type 0: DOM-Based XSS - In DOM-based XSS, the client performs the injection of XSS into the page; in the other types, the server performs the injection. DOM-based XSS generally involves server-controlled, trusted script that is sent to the client, such as Javascript that performs sanity checks on a form before the user submits it. If the server-supplied script processes user-supplied data and then injects it back into the web page (such as with dynamic HTML), then DOM-based XSS is possible. Once the malicious script is injected, the attacker can perform a variety of malicious activities. The attacker could transfer private information, such as cookies that may include session information, from the victim's machine to the attacker. The attacker could send malicious requests to a web site on behalf of the victim, which could be especially dangerous to the site if the victim has administrator privileges to manage that site. Phishing attacks could be used to emulate trusted web sites and trick the victim into entering a password, allowing the attacker to compromise the victim's account on that web site. Finally, the script could exploit a vulnerability in the web browser itself possibly taking over the victim's machine, sometimes referred to as drive-by hacking. In many cases, the attack can be launched without the victim even being aware of it. Even with careful users, attackers frequently use a variety of methods to encode the malicious portion of the attack, such as URL encoding or Unicode, so the request looks less suspicious.\", 'status': 'Stable'}> size=2>>, <Record p=<Path start=<Node element_id='4:de342d72-e7ff-4d5b-9a28-99eaa381965b:3' labels=frozenset({'CVE'}) properties={'assigner': 'cna@sap.com', 'id': 'CVE-2023-0015'}> end=<Node element_id='4:de342d72-e7ff-4d5b-9a28-99eaa381965b:155' labels=frozenset({'CWE'}) properties={'weakness_abstraction': 'Base', 'cwe_id': '79', 'name': \"Improper Neutralization of Input During Web Page Generation ('Cross-site Scripting')\", 'description': 'The software does not neutralize or incorrectly neutralizes user-controllable input before it is placed in output that is used as a web page that is served to other users.', 'extended_description': \"Cross-site scripting (XSS) vulnerabilities occur when: 1. Untrusted data enters a web application, typically from a web request. 2. The web application dynamically generates a web page that contains this untrusted data. 3. During page generation, the application does not prevent the data from containing content that is executable by a web browser, such as JavaScript, HTML tags, HTML attributes, mouse events, Flash, ActiveX, etc. 4. A victim visits the generated web page through a web browser, which contains malicious script that was injected using the untrusted data. 5. Since the script comes from a web page that was sent by the web server, the victim's web browser executes the malicious script in the context of the web server's domain. 6. This effectively violates the intention of the web browser's same-origin policy, which states that scripts in one domain should not be able to access resources or run code in a different domain. There are three main kinds of XSS: Type 1: Reflected XSS (or Non-Persistent) - The server reads data directly from the HTTP request and reflects it back in the HTTP response. Reflected XSS exploits occur when an attacker causes a victim to supply dangerous content to a vulnerable web application, which is then reflected back to the victim and executed by the web browser. The most common mechanism for delivering malicious content is to include it as a parameter in a URL that is posted publicly or e-mailed directly to the victim. URLs constructed in this manner constitute the core of many phishing schemes, whereby an attacker convinces a victim to visit a URL that refers to a vulnerable site. After the site reflects the attacker's content back to the victim, the content is executed by the victim's browser. Type 2: Stored XSS (or Persistent) - The application stores dangerous data in a database, message forum, visitor log, or other trusted data store. At a later time, the dangerous data is subsequently read back into the application and included in dynamic content. From an attacker's perspective, the optimal place to inject malicious content is in an area that is displayed to either many users or particularly interesting users. Interesting users typically have elevated privileges in the application or interact with sensitive data that is valuable to the attacker. If one of these users executes malicious content, the attacker may be able to perform privileged operations on behalf of the user or gain access to sensitive data belonging to the user. For example, the attacker might inject XSS into a log message, which might not be handled properly when an administrator views the logs. Type 0: DOM-Based XSS - In DOM-based XSS, the client performs the injection of XSS into the page; in the other types, the server performs the injection. DOM-based XSS generally involves server-controlled, trusted script that is sent to the client, such as Javascript that performs sanity checks on a form before the user submits it. If the server-supplied script processes user-supplied data and then injects it back into the web page (such as with dynamic HTML), then DOM-based XSS is possible. Once the malicious script is injected, the attacker can perform a variety of malicious activities. The attacker could transfer private information, such as cookies that may include session information, from the victim's machine to the attacker. The attacker could send malicious requests to a web site on behalf of the victim, which could be especially dangerous to the site if the victim has administrator privileges to manage that site. Phishing attacks could be used to emulate trusted web sites and trick the victim into entering a password, allowing the attacker to compromise the victim's account on that web site. Finally, the script could exploit a vulnerability in the web browser itself possibly taking over the victim's machine, sometimes referred to as drive-by hacking. In many cases, the attack can be launched without the victim even being aware of it. Even with careful users, attackers frequently use a variety of methods to encode the malicious portion of the attack, such as URL encoding or Unicode, so the request looks less suspicious.\", 'status': 'Stable'}> size=2>>, <Record p=<Path start=<Node element_id='4:de342d72-e7ff-4d5b-9a28-99eaa381965b:1' labels=frozenset({'CVE'}) properties={'assigner': 'cna@sap.com', 'id': 'CVE-2023-0013'}> end=<Node element_id='4:de342d72-e7ff-4d5b-9a28-99eaa381965b:155' labels=frozenset({'CWE'}) properties={'weakness_abstraction': 'Base', 'cwe_id': '79', 'name': \"Improper Neutralization of Input During Web Page Generation ('Cross-site Scripting')\", 'description': 'The software does not neutralize or incorrectly neutralizes user-controllable input before it is placed in output that is used as a web page that is served to other users.', 'extended_description': \"Cross-site scripting (XSS) vulnerabilities occur when: 1. Untrusted data enters a web application, typically from a web request. 2. The web application dynamically generates a web page that contains this untrusted data. 3. During page generation, the application does not prevent the data from containing content that is executable by a web browser, such as JavaScript, HTML tags, HTML attributes, mouse events, Flash, ActiveX, etc. 4. A victim visits the generated web page through a web browser, which contains malicious script that was injected using the untrusted data. 5. Since the script comes from a web page that was sent by the web server, the victim's web browser executes the malicious script in the context of the web server's domain. 6. This effectively violates the intention of the web browser's same-origin policy, which states that scripts in one domain should not be able to access resources or run code in a different domain. There are three main kinds of XSS: Type 1: Reflected XSS (or Non-Persistent) - The server reads data directly from the HTTP request and reflects it back in the HTTP response. Reflected XSS exploits occur when an attacker causes a victim to supply dangerous content to a vulnerable web application, which is then reflected back to the victim and executed by the web browser. The most common mechanism for delivering malicious content is to include it as a parameter in a URL that is posted publicly or e-mailed directly to the victim. URLs constructed in this manner constitute the core of many phishing schemes, whereby an attacker convinces a victim to visit a URL that refers to a vulnerable site. After the site reflects the attacker's content back to the victim, the content is executed by the victim's browser. Type 2: Stored XSS (or Persistent) - The application stores dangerous data in a database, message forum, visitor log, or other trusted data store. At a later time, the dangerous data is subsequently read back into the application and included in dynamic content. From an attacker's perspective, the optimal place to inject malicious content is in an area that is displayed to either many users or particularly interesting users. Interesting users typically have elevated privileges in the application or interact with sensitive data that is valuable to the attacker. If one of these users executes malicious content, the attacker may be able to perform privileged operations on behalf of the user or gain access to sensitive data belonging to the user. For example, the attacker might inject XSS into a log message, which might not be handled properly when an administrator views the logs. Type 0: DOM-Based XSS - In DOM-based XSS, the client performs the injection of XSS into the page; in the other types, the server performs the injection. DOM-based XSS generally involves server-controlled, trusted script that is sent to the client, such as Javascript that performs sanity checks on a form before the user submits it. If the server-supplied script processes user-supplied data and then injects it back into the web page (such as with dynamic HTML), then DOM-based XSS is possible. Once the malicious script is injected, the attacker can perform a variety of malicious activities. The attacker could transfer private information, such as cookies that may include session information, from the victim's machine to the attacker. The attacker could send malicious requests to a web site on behalf of the victim, which could be especially dangerous to the site if the victim has administrator privileges to manage that site. Phishing attacks could be used to emulate trusted web sites and trick the victim into entering a password, allowing the attacker to compromise the victim's account on that web site. Finally, the script could exploit a vulnerability in the web browser itself possibly taking over the victim's machine, sometimes referred to as drive-by hacking. In many cases, the attack can be launched without the victim even being aware of it. Even with careful users, attackers frequently use a variety of methods to encode the malicious portion of the attack, such as URL encoding or Unicode, so the request looks less suspicious.\", 'status': 'Stable'}> size=2>>, <Record p=<Path start=<Node element_id='4:de342d72-e7ff-4d5b-9a28-99eaa381965b:4' labels=frozenset({'CVE'}) properties={'assigner': 'cna@sap.com', 'id': 'CVE-2023-0016'}> end=<Node element_id='4:de342d72-e7ff-4d5b-9a28-99eaa381965b:156' labels=frozenset({'CWE'}) properties={'weakness_abstraction': 'Base', 'cwe_id': '89', 'name': \"Improper Neutralization of Special Elements used in an SQL Command ('SQL Injection')\", 'description': 'The software constructs all or part of an SQL command using externally-influenced input from an upstream component, but it does not neutralize or incorrectly neutralizes special elements that could modify the intended SQL command when it is sent to a downstream component.', 'extended_description': 'Without sufficient removal or quoting of SQL syntax in user-controllable inputs, the generated SQL query can cause those inputs to be interpreted as SQL instead of ordinary user data. This can be used to alter query logic to bypass security checks, or to insert additional statements that modify the back-end database, possibly including execution of system commands. SQL injection has become a common issue with database-driven web sites. The flaw is easily detected, and easily exploited, and as such, any site or software package with even a minimal user base is likely to be subject to an attempted attack of this kind. This flaw depends on the fact that SQL makes no real distinction between the control and data planes.', 'status': 'Stable'}> size=2>>, <Record p=<Path start=<Node element_id='4:de342d72-e7ff-4d5b-9a28-99eaa381965b:7' labels=frozenset({'CVE'}) properties={'assigner': 'cna@sap.com', 'id': 'CVE-2023-0022'}> end=<Node element_id='4:de342d72-e7ff-4d5b-9a28-99eaa381965b:157' labels=frozenset({'CWE'}) properties={'weakness_abstraction': 'Base', 'cwe_id': '94', 'name': \"Improper Control of Generation of Code ('Code Injection')\", 'description': 'The software constructs all or part of a code segment using externally-influenced input from an upstream component, but it does not neutralize or incorrectly neutralizes special elements that could modify the syntax or behavior of the intended code segment.', 'extended_description': \"When software allows a user's input to contain code syntax, it might be possible for an attacker to craft the code in such a way that it will alter the intended control flow of the software. Such an alteration could lead to arbitrary code execution. Injection problems encompass a wide variety of issues -- all mitigated in very different ways. For this reason, the most effective way to discuss these weaknesses is to note the distinct features which classify them as injection weaknesses. The most important issue to note is that all injection problems share one thing in common -- i.e., they allow for the injection of control plane data into the user-controlled data plane. This means that the execution of the process may be altered by sending code in through legitimate data channels, using no other mechanism. While buffer overflows, and many other flaws, involve the use of some further issue to gain execution, injection problems need only for the data to be parsed. The most classic instantiations of this category of weakness are SQL injection and format string vulnerabilities.\", 'status': 'Draft'}> size=2>>, <Record p=<Path start=<Node element_id='4:de342d72-e7ff-4d5b-9a28-99eaa381965b:8' labels=frozenset({'CVE'}) properties={'assigner': 'cna@sap.com', 'id': 'CVE-2023-0023'}> end=<Node element_id='4:de342d72-e7ff-4d5b-9a28-99eaa381965b:158' labels=frozenset({'CWE'}) properties={'weakness_abstraction': 'Class', 'cwe_id': '200', 'name': 'Exposure of Sensitive Information to an Unauthorized Actor', 'description': 'The product exposes sensitive information to an actor that is not explicitly authorized to have access to that information.', 'extended_description': \"There are many different kinds of mistakes that introduce information exposures. The severity of the error can range widely, depending on the context in which the product operates, the type of sensitive information that is revealed, and the benefits it may provide to an attacker. Some kinds of sensitive information include: private, personal information, such as personal messages, financial data, health records, geographic location, or contact details system status and environment, such as the operating system and installed packages business secrets and intellectual property network status and configuration the product's own code or internal state metadata, e.g. logging of connections or message headers indirect information, such as a discrepancy between two internal operations that can be observed by an outsider Information might be sensitive to different parties, each of which may have their own expectations for whether the information should be protected. These parties include: the product's own users people or organizations whose information is created or used by the product, even if they are not direct product users the product's administrators, including the admins of the system(s) and/or networks on which the product operates the developer Information exposures can occur in different ways: the code explicitly inserts sensitive information into resources that are made accessible to unauthorized actors a different weakness or mistake inadvertently makes the sensitive information available, such as a web script error revealing the full system path of the program\", 'status': 'Draft'}> size=2>>, <Record p=<Path start=<Node element_id='4:de342d72-e7ff-4d5b-9a28-99eaa381965b:0' labels=frozenset({'CVE'}) properties={'assigner': 'cna@sap.com', 'id': 'CVE-2023-0012'}> end=<Node element_id='4:de342d72-e7ff-4d5b-9a28-99eaa381965b:159' labels=frozenset({'CWE'}) properties={'weakness_abstraction': 'Pillar', 'cwe_id': '284', 'name': 'Improper Access Control', 'description': 'The software does not restrict or incorrectly restricts access to a resource from an unauthorized actor.', 'extended_description': 'Access control involves the use of several protection mechanisms such as: Authentication (proving the identity of an actor) Authorization (ensuring that a given actor can access a resource), and Accountability (tracking of activities that were performed) When any mechanism is not applied or otherwise fails, attackers can compromise the security of the software by gaining privileges, reading sensitive information, executing commands, evading detection, etc. There are two distinct behaviors that can introduce access control weaknesses: Specification: incorrect privileges, permissions, ownership, etc. are explicitly specified for either the user or the resource (for example, setting a password file to be world-writable, or giving administrator capabilities to a guest user). This action could be performed by the program or the administrator. Enforcement: the mechanism contains errors that prevent it from properly enforcing the specified access control requirements (e.g., allowing the user to specify their own privileges, or allowing a syntactically-incorrect ACL to produce insecure settings). This problem occurs within the program itself, in that it does not actually enforce the intended security policy that the administrator specifies.', 'status': 'Incomplete'}> size=2>>, <Record p=<Path start=<Node element_id='4:de342d72-e7ff-4d5b-9a28-99eaa381965b:5' labels=frozenset({'CVE'}) properties={'assigner': 'cna@sap.com', 'id': 'CVE-2023-0017'}> end=<Node element_id='4:de342d72-e7ff-4d5b-9a28-99eaa381965b:159' labels=frozenset({'CWE'}) properties={'weakness_abstraction': 'Pillar', 'cwe_id': '284', 'name': 'Improper Access Control', 'description': 'The software does not restrict or incorrectly restricts access to a resource from an unauthorized actor.', 'extended_description': 'Access control involves the use of several protection mechanisms such as: Authentication (proving the identity of an actor) Authorization (ensuring that a given actor can access a resource), and Accountability (tracking of activities that were performed) When any mechanism is not applied or otherwise fails, attackers can compromise the security of the software by gaining privileges, reading sensitive information, executing commands, evading detection, etc. There are two distinct behaviors that can introduce access control weaknesses: Specification: incorrect privileges, permissions, ownership, etc. are explicitly specified for either the user or the resource (for example, setting a password file to be world-writable, or giving administrator capabilities to a guest user). This action could be performed by the program or the administrator. Enforcement: the mechanism contains errors that prevent it from properly enforcing the specified access control requirements (e.g., allowing the user to specify their own privileges, or allowing a syntactically-incorrect ACL to produce insecure settings). This problem occurs within the program itself, in that it does not actually enforce the intended security policy that the administrator specifies.', 'status': 'Incomplete'}> size=2>>, <Record p=<Path start=<Node element_id='4:de342d72-e7ff-4d5b-9a28-99eaa381965b:2' labels=frozenset({'CVE'}) properties={'assigner': 'cna@sap.com', 'id': 'CVE-2023-0014'}> end=<Node element_id='4:de342d72-e7ff-4d5b-9a28-99eaa381965b:160' labels=frozenset({'CWE'}) properties={'weakness_abstraction': 'Base', 'cwe_id': '294', 'name': 'Authentication Bypass by Capture-replay', 'description': 'A capture-replay flaw exists when the design of the software makes it possible for a malicious user to sniff network traffic and bypass authentication by replaying it to the server in question to the same effect as the original message (or with minor changes).', 'extended_description': 'Capture-replay attacks are common and can be difficult to defeat without cryptography. They are a subset of network injection attacks that rely on observing previously-sent valid commands, then changing them slightly if necessary and resending the same commands to the server.', 'status': 'Incomplete'}> size=2>>]\n"
          ]
        }
      ],
      "source": [
        "explore_reviews_csv_query = \"\"\"\n",
        "MATCH p=(cve:CVE)-[:PROBLEM_TYPE]->(problemType:ProblemType)-[:MAPPED_WITH]->(cwe:CWE)\n",
        "MERGE(cwe)-[:LEAD_TO]->(cve)\n",
        "RETURN p\n",
        "\n",
        "\"\"\"\n",
        "result = conn.query(explore_reviews_csv_query)\n",
        "print(result)"
      ]
    },
    {
      "cell_type": "markdown",
      "source": [
        "These patterns matchs some entities from CWE, that vulnerable to each CVE vulnerabilities"
      ],
      "metadata": {
        "id": "j69O4ZWnf5PJ"
      }
    },
    {
      "cell_type": "code",
      "execution_count": 688,
      "metadata": {
        "id": "LoUqsBKDHEgi",
        "colab": {
          "base_uri": "https://localhost:8080/"
        },
        "outputId": "0ed99499-8770-41ce-8f51-b87134c38c60"
      },
      "outputs": [
        {
          "output_type": "stream",
          "name": "stdout",
          "text": [
            "[<Record p=<Path start=<Node element_id='4:de342d72-e7ff-4d5b-9a28-99eaa381965b:6' labels=frozenset({'CVE'}) properties={'assigner': 'cna@sap.com', 'id': 'CVE-2023-0018'}> end=<Node element_id='4:de342d72-e7ff-4d5b-9a28-99eaa381965b:167' labels=frozenset({'Entities'}) properties={'wikipediaExternalRef': 241154, 'wikidataId': 'Q371199', 'confidence_score': 0.719, 'offsetStart': 0, 'offsetEnd': 20, 'rawName': 'Cross-site scripting'}> size=4>>, <Record p=<Path start=<Node element_id='4:de342d72-e7ff-4d5b-9a28-99eaa381965b:9' labels=frozenset({'CVE'}) properties={'assigner': 'security@huntr.dev', 'id': 'CVE-2023-0028'}> end=<Node element_id='4:de342d72-e7ff-4d5b-9a28-99eaa381965b:167' labels=frozenset({'Entities'}) properties={'wikipediaExternalRef': 241154, 'wikidataId': 'Q371199', 'confidence_score': 0.719, 'offsetStart': 0, 'offsetEnd': 20, 'rawName': 'Cross-site scripting'}> size=4>>, <Record p=<Path start=<Node element_id='4:de342d72-e7ff-4d5b-9a28-99eaa381965b:3' labels=frozenset({'CVE'}) properties={'assigner': 'cna@sap.com', 'id': 'CVE-2023-0015'}> end=<Node element_id='4:de342d72-e7ff-4d5b-9a28-99eaa381965b:167' labels=frozenset({'Entities'}) properties={'wikipediaExternalRef': 241154, 'wikidataId': 'Q371199', 'confidence_score': 0.719, 'offsetStart': 0, 'offsetEnd': 20, 'rawName': 'Cross-site scripting'}> size=4>>, <Record p=<Path start=<Node element_id='4:de342d72-e7ff-4d5b-9a28-99eaa381965b:1' labels=frozenset({'CVE'}) properties={'assigner': 'cna@sap.com', 'id': 'CVE-2023-0013'}> end=<Node element_id='4:de342d72-e7ff-4d5b-9a28-99eaa381965b:167' labels=frozenset({'Entities'}) properties={'wikipediaExternalRef': 241154, 'wikidataId': 'Q371199', 'confidence_score': 0.719, 'offsetStart': 0, 'offsetEnd': 20, 'rawName': 'Cross-site scripting'}> size=4>>]\n"
          ]
        }
      ],
      "source": [
        "explore_reviews_csv_query = \"\"\"\n",
        "MATCH p=(cve:CVE)-[:PROBLEM_TYPE]->(problemType:ProblemType)-[:MAPPED_WITH]->(cwe:CWE)-[:MAPPED_WITH]->(cwedata:Extended_Descriptions)-[:HAS_ENTITY]->(Entities:Entities{rawName:\"Cross-site scripting\"})\n",
        "MERGE(Entities)<-[:VULNERABLE_TO]-(cve)\n",
        "RETURN p\n",
        "\n",
        "\"\"\"\n",
        "result = conn.query(explore_reviews_csv_query)\n",
        "print(result)"
      ]
    },
    {
      "cell_type": "code",
      "execution_count": 689,
      "metadata": {
        "id": "XkMMVx1pz2Di",
        "colab": {
          "base_uri": "https://localhost:8080/"
        },
        "outputId": "19688d8c-621d-4073-b2c4-4f420d8e8498"
      },
      "outputs": [
        {
          "output_type": "stream",
          "name": "stdout",
          "text": [
            "[<Record p=<Path start=<Node element_id='4:de342d72-e7ff-4d5b-9a28-99eaa381965b:4' labels=frozenset({'CVE'}) properties={'assigner': 'cna@sap.com', 'id': 'CVE-2023-0016'}> end=<Node element_id='4:de342d72-e7ff-4d5b-9a28-99eaa381965b:262' labels=frozenset({'Entities'}) properties={'wikipediaExternalRef': 526999, 'wikidataId': 'Q506059', 'confidence_score': 0.9162, 'offsetStart': 1041, 'offsetEnd': 1054, 'rawName': 'SQL injection'}> size=4>>, <Record p=<Path start=<Node element_id='4:de342d72-e7ff-4d5b-9a28-99eaa381965b:7' labels=frozenset({'CVE'}) properties={'assigner': 'cna@sap.com', 'id': 'CVE-2023-0022'}> end=<Node element_id='4:de342d72-e7ff-4d5b-9a28-99eaa381965b:262' labels=frozenset({'Entities'}) properties={'wikipediaExternalRef': 526999, 'wikidataId': 'Q506059', 'confidence_score': 0.9162, 'offsetStart': 1041, 'offsetEnd': 1054, 'rawName': 'SQL injection'}> size=4>>]\n"
          ]
        }
      ],
      "source": [
        "explore_reviews_csv_query = \"\"\"\n",
        "MATCH p=(cve:CVE)-[:PROBLEM_TYPE]->(problemType:ProblemType)-[:MAPPED_WITH]->(cwe:CWE)-[:MAPPED_WITH]->(cwedata:Extended_Descriptions)-[:HAS_ENTITY]->(Entities:Entities{rawName:\"SQL injection\"})\n",
        "MERGE(Entities)<-[:VULNERABLE_TO]-(cve)\n",
        "RETURN p\n",
        "\n",
        "\"\"\"\n",
        "result = conn.query(explore_reviews_csv_query)\n",
        "print(result)"
      ]
    },
    {
      "cell_type": "code",
      "execution_count": 690,
      "metadata": {
        "id": "yl5QJI-cz4ac",
        "colab": {
          "base_uri": "https://localhost:8080/"
        },
        "outputId": "e233eabc-b000-4d8d-eb4c-1161824c81ce"
      },
      "outputs": [
        {
          "output_type": "stream",
          "name": "stdout",
          "text": [
            "[<Record p=<Path start=<Node element_id='4:de342d72-e7ff-4d5b-9a28-99eaa381965b:8' labels=frozenset({'CVE'}) properties={'assigner': 'cna@sap.com', 'id': 'CVE-2023-0023'}> end=<Node element_id='4:de342d72-e7ff-4d5b-9a28-99eaa381965b:287' labels=frozenset({'Entities'}) properties={'wikipediaExternalRef': 5316476, 'wikidataId': 'Q2587068', 'confidence_score': 0.4076, 'offsetStart': 394, 'offsetEnd': 415, 'rawName': 'sensitive information'}> size=4>>, <Record p=<Path start=<Node element_id='4:de342d72-e7ff-4d5b-9a28-99eaa381965b:0' labels=frozenset({'CVE'}) properties={'assigner': 'cna@sap.com', 'id': 'CVE-2023-0012'}> end=<Node element_id='4:de342d72-e7ff-4d5b-9a28-99eaa381965b:287' labels=frozenset({'Entities'}) properties={'wikipediaExternalRef': 5316476, 'wikidataId': 'Q2587068', 'confidence_score': 0.4076, 'offsetStart': 394, 'offsetEnd': 415, 'rawName': 'sensitive information'}> size=4>>, <Record p=<Path start=<Node element_id='4:de342d72-e7ff-4d5b-9a28-99eaa381965b:5' labels=frozenset({'CVE'}) properties={'assigner': 'cna@sap.com', 'id': 'CVE-2023-0017'}> end=<Node element_id='4:de342d72-e7ff-4d5b-9a28-99eaa381965b:287' labels=frozenset({'Entities'}) properties={'wikipediaExternalRef': 5316476, 'wikidataId': 'Q2587068', 'confidence_score': 0.4076, 'offsetStart': 394, 'offsetEnd': 415, 'rawName': 'sensitive information'}> size=4>>]\n"
          ]
        }
      ],
      "source": [
        "explore_reviews_csv_query = \"\"\"\n",
        "MATCH p=(cve:CVE)-[:PROBLEM_TYPE]->(problemType:ProblemType)-[:MAPPED_WITH]->(cwe:CWE)-[:MAPPED_WITH]->(cwedata:Extended_Descriptions)-[:HAS_ENTITY]->(Entities:Entities{rawName:\"sensitive information\"})\n",
        "MERGE(Entities)<-[:VULNERABLE_TO]-(cve)\n",
        "RETURN p\n",
        "\n",
        "\"\"\"\n",
        "result = conn.query(explore_reviews_csv_query)\n",
        "print(result)"
      ]
    },
    {
      "cell_type": "code",
      "execution_count": 691,
      "metadata": {
        "id": "FEYCXm4Bz-zs",
        "colab": {
          "base_uri": "https://localhost:8080/"
        },
        "outputId": "6e7c0ac9-8f7b-447a-d726-c4b0bb7ae0da"
      },
      "outputs": [
        {
          "output_type": "stream",
          "name": "stdout",
          "text": [
            "[<Record p=<Path start=<Node element_id='4:de342d72-e7ff-4d5b-9a28-99eaa381965b:0' labels=frozenset({'CVE'}) properties={'assigner': 'cna@sap.com', 'id': 'CVE-2023-0012'}> end=<Node element_id='4:de342d72-e7ff-4d5b-9a28-99eaa381965b:314' labels=frozenset({'Entities'}) properties={'wikipediaExternalRef': 40684, 'wikidataId': 'Q228502', 'confidence_score': 0.6394, 'offsetStart': 0, 'offsetEnd': 14, 'rawName': 'Access control'}> size=4>>, <Record p=<Path start=<Node element_id='4:de342d72-e7ff-4d5b-9a28-99eaa381965b:5' labels=frozenset({'CVE'}) properties={'assigner': 'cna@sap.com', 'id': 'CVE-2023-0017'}> end=<Node element_id='4:de342d72-e7ff-4d5b-9a28-99eaa381965b:314' labels=frozenset({'Entities'}) properties={'wikipediaExternalRef': 40684, 'wikidataId': 'Q228502', 'confidence_score': 0.6394, 'offsetStart': 0, 'offsetEnd': 14, 'rawName': 'Access control'}> size=4>>]\n"
          ]
        }
      ],
      "source": [
        "explore_reviews_csv_query = \"\"\"\n",
        "MATCH p=(cve:CVE)-[:PROBLEM_TYPE]->(problemType:ProblemType)-[:MAPPED_WITH]->(cwe:CWE)-[:MAPPED_WITH]->(cwedata:Extended_Descriptions)-[:HAS_ENTITY]->(Entities:Entities{rawName:\"Access control\"})\n",
        "MERGE(Entities)<-[:VULNERABLE_TO]-(cve)\n",
        "RETURN p\n",
        "\n",
        "\"\"\"\n",
        "result = conn.query(explore_reviews_csv_query)\n",
        "print(result)"
      ]
    },
    {
      "cell_type": "code",
      "execution_count": 692,
      "metadata": {
        "id": "I3n5YoD4HVAN",
        "colab": {
          "base_uri": "https://localhost:8080/"
        },
        "outputId": "7ecbddb9-76c3-4937-f453-1db0ad800497"
      },
      "outputs": [
        {
          "output_type": "stream",
          "name": "stdout",
          "text": [
            "[<Record p=<Path start=<Node element_id='4:de342d72-e7ff-4d5b-9a28-99eaa381965b:2' labels=frozenset({'CVE'}) properties={'assigner': 'cna@sap.com', 'id': 'CVE-2023-0014'}> end=<Node element_id='4:de342d72-e7ff-4d5b-9a28-99eaa381965b:331' labels=frozenset({'Entities'}) properties={'wikipediaExternalRef': 614094, 'wikidataId': 'Q1756025', 'confidence_score': 0.5922, 'offsetStart': 8, 'offsetEnd': 22, 'rawName': 'replay attacks'}> size=4>>]\n"
          ]
        }
      ],
      "source": [
        "explore_reviews_csv_query = \"\"\"\n",
        "MATCH p=(cve:CVE)-[:PROBLEM_TYPE]->(problemType:ProblemType)-[:MAPPED_WITH]->(cwe:CWE)-[:MAPPED_WITH]->(cwedata:Extended_Descriptions)-[:HAS_ENTITY]->(Entities:Entities{rawName:\"replay attacks\"})\n",
        "MERGE(Entities)<-[:VULNERABLE_TO]-(cve)\n",
        "RETURN p\n",
        "\n",
        "\"\"\"\n",
        "result = conn.query(explore_reviews_csv_query)\n",
        "print(result)"
      ]
    },
    {
      "cell_type": "markdown",
      "source": [
        "Here some CVE are connecting with wikidata Id of the entities in order to create similarities between CVEs"
      ],
      "metadata": {
        "id": "7h8lPkblxiHj"
      }
    },
    {
      "cell_type": "code",
      "execution_count": 693,
      "metadata": {
        "id": "2OtSpD4G-kvG",
        "colab": {
          "base_uri": "https://localhost:8080/"
        },
        "outputId": "367f0e10-9f48-4922-ca87-9be904bd717a"
      },
      "outputs": [
        {
          "output_type": "stream",
          "name": "stdout",
          "text": [
            "[<Record p=<Path start=<Node element_id='4:de342d72-e7ff-4d5b-9a28-99eaa381965b:6' labels=frozenset({'CVE'}) properties={'assigner': 'cna@sap.com', 'id': 'CVE-2023-0018'}> end=<Node element_id='4:de342d72-e7ff-4d5b-9a28-99eaa381965b:167' labels=frozenset({'Entities'}) properties={'wikipediaExternalRef': 241154, 'wikidataId': 'Q371199', 'confidence_score': 0.719, 'offsetStart': 0, 'offsetEnd': 20, 'rawName': 'Cross-site scripting'}> size=4>>, <Record p=<Path start=<Node element_id='4:de342d72-e7ff-4d5b-9a28-99eaa381965b:6' labels=frozenset({'CVE'}) properties={'assigner': 'cna@sap.com', 'id': 'CVE-2023-0018'}> end=<Node element_id='4:de342d72-e7ff-4d5b-9a28-99eaa381965b:168' labels=frozenset({'Entities'}) properties={'wikipediaExternalRef': 241154, 'wikidataId': 'Q371199', 'confidence_score': 0.8255, 'offsetStart': 3130, 'offsetEnd': 3133, 'rawName': 'XSS'}> size=4>>, <Record p=<Path start=<Node element_id='4:de342d72-e7ff-4d5b-9a28-99eaa381965b:6' labels=frozenset({'CVE'}) properties={'assigner': 'cna@sap.com', 'id': 'CVE-2023-0018'}> end=<Node element_id='4:de342d72-e7ff-4d5b-9a28-99eaa381965b:195' labels=frozenset({'Entities'}) properties={'wikipediaExternalRef': 241154, 'wikidataId': 'Q371199', 'confidence_score': 0.5158, 'offsetStart': 1120, 'offsetEnd': 1133, 'rawName': 'Reflected XSS'}> size=4>>, <Record p=<Path start=<Node element_id='4:de342d72-e7ff-4d5b-9a28-99eaa381965b:6' labels=frozenset({'CVE'}) properties={'assigner': 'cna@sap.com', 'id': 'CVE-2023-0018'}> end=<Node element_id='4:de342d72-e7ff-4d5b-9a28-99eaa381965b:208' labels=frozenset({'Entities'}) properties={'wikipediaExternalRef': 241154, 'wikidataId': 'Q371199', 'confidence_score': 0.5158, 'offsetStart': 1769, 'offsetEnd': 1779, 'rawName': 'Stored XSS'}> size=4>>, <Record p=<Path start=<Node element_id='4:de342d72-e7ff-4d5b-9a28-99eaa381965b:9' labels=frozenset({'CVE'}) properties={'assigner': 'security@huntr.dev', 'id': 'CVE-2023-0028'}> end=<Node element_id='4:de342d72-e7ff-4d5b-9a28-99eaa381965b:167' labels=frozenset({'Entities'}) properties={'wikipediaExternalRef': 241154, 'wikidataId': 'Q371199', 'confidence_score': 0.719, 'offsetStart': 0, 'offsetEnd': 20, 'rawName': 'Cross-site scripting'}> size=4>>, <Record p=<Path start=<Node element_id='4:de342d72-e7ff-4d5b-9a28-99eaa381965b:9' labels=frozenset({'CVE'}) properties={'assigner': 'security@huntr.dev', 'id': 'CVE-2023-0028'}> end=<Node element_id='4:de342d72-e7ff-4d5b-9a28-99eaa381965b:168' labels=frozenset({'Entities'}) properties={'wikipediaExternalRef': 241154, 'wikidataId': 'Q371199', 'confidence_score': 0.8255, 'offsetStart': 3130, 'offsetEnd': 3133, 'rawName': 'XSS'}> size=4>>, <Record p=<Path start=<Node element_id='4:de342d72-e7ff-4d5b-9a28-99eaa381965b:9' labels=frozenset({'CVE'}) properties={'assigner': 'security@huntr.dev', 'id': 'CVE-2023-0028'}> end=<Node element_id='4:de342d72-e7ff-4d5b-9a28-99eaa381965b:195' labels=frozenset({'Entities'}) properties={'wikipediaExternalRef': 241154, 'wikidataId': 'Q371199', 'confidence_score': 0.5158, 'offsetStart': 1120, 'offsetEnd': 1133, 'rawName': 'Reflected XSS'}> size=4>>, <Record p=<Path start=<Node element_id='4:de342d72-e7ff-4d5b-9a28-99eaa381965b:9' labels=frozenset({'CVE'}) properties={'assigner': 'security@huntr.dev', 'id': 'CVE-2023-0028'}> end=<Node element_id='4:de342d72-e7ff-4d5b-9a28-99eaa381965b:208' labels=frozenset({'Entities'}) properties={'wikipediaExternalRef': 241154, 'wikidataId': 'Q371199', 'confidence_score': 0.5158, 'offsetStart': 1769, 'offsetEnd': 1779, 'rawName': 'Stored XSS'}> size=4>>, <Record p=<Path start=<Node element_id='4:de342d72-e7ff-4d5b-9a28-99eaa381965b:3' labels=frozenset({'CVE'}) properties={'assigner': 'cna@sap.com', 'id': 'CVE-2023-0015'}> end=<Node element_id='4:de342d72-e7ff-4d5b-9a28-99eaa381965b:167' labels=frozenset({'Entities'}) properties={'wikipediaExternalRef': 241154, 'wikidataId': 'Q371199', 'confidence_score': 0.719, 'offsetStart': 0, 'offsetEnd': 20, 'rawName': 'Cross-site scripting'}> size=4>>, <Record p=<Path start=<Node element_id='4:de342d72-e7ff-4d5b-9a28-99eaa381965b:3' labels=frozenset({'CVE'}) properties={'assigner': 'cna@sap.com', 'id': 'CVE-2023-0015'}> end=<Node element_id='4:de342d72-e7ff-4d5b-9a28-99eaa381965b:168' labels=frozenset({'Entities'}) properties={'wikipediaExternalRef': 241154, 'wikidataId': 'Q371199', 'confidence_score': 0.8255, 'offsetStart': 3130, 'offsetEnd': 3133, 'rawName': 'XSS'}> size=4>>, <Record p=<Path start=<Node element_id='4:de342d72-e7ff-4d5b-9a28-99eaa381965b:3' labels=frozenset({'CVE'}) properties={'assigner': 'cna@sap.com', 'id': 'CVE-2023-0015'}> end=<Node element_id='4:de342d72-e7ff-4d5b-9a28-99eaa381965b:195' labels=frozenset({'Entities'}) properties={'wikipediaExternalRef': 241154, 'wikidataId': 'Q371199', 'confidence_score': 0.5158, 'offsetStart': 1120, 'offsetEnd': 1133, 'rawName': 'Reflected XSS'}> size=4>>, <Record p=<Path start=<Node element_id='4:de342d72-e7ff-4d5b-9a28-99eaa381965b:3' labels=frozenset({'CVE'}) properties={'assigner': 'cna@sap.com', 'id': 'CVE-2023-0015'}> end=<Node element_id='4:de342d72-e7ff-4d5b-9a28-99eaa381965b:208' labels=frozenset({'Entities'}) properties={'wikipediaExternalRef': 241154, 'wikidataId': 'Q371199', 'confidence_score': 0.5158, 'offsetStart': 1769, 'offsetEnd': 1779, 'rawName': 'Stored XSS'}> size=4>>, <Record p=<Path start=<Node element_id='4:de342d72-e7ff-4d5b-9a28-99eaa381965b:1' labels=frozenset({'CVE'}) properties={'assigner': 'cna@sap.com', 'id': 'CVE-2023-0013'}> end=<Node element_id='4:de342d72-e7ff-4d5b-9a28-99eaa381965b:167' labels=frozenset({'Entities'}) properties={'wikipediaExternalRef': 241154, 'wikidataId': 'Q371199', 'confidence_score': 0.719, 'offsetStart': 0, 'offsetEnd': 20, 'rawName': 'Cross-site scripting'}> size=4>>, <Record p=<Path start=<Node element_id='4:de342d72-e7ff-4d5b-9a28-99eaa381965b:1' labels=frozenset({'CVE'}) properties={'assigner': 'cna@sap.com', 'id': 'CVE-2023-0013'}> end=<Node element_id='4:de342d72-e7ff-4d5b-9a28-99eaa381965b:168' labels=frozenset({'Entities'}) properties={'wikipediaExternalRef': 241154, 'wikidataId': 'Q371199', 'confidence_score': 0.8255, 'offsetStart': 3130, 'offsetEnd': 3133, 'rawName': 'XSS'}> size=4>>, <Record p=<Path start=<Node element_id='4:de342d72-e7ff-4d5b-9a28-99eaa381965b:1' labels=frozenset({'CVE'}) properties={'assigner': 'cna@sap.com', 'id': 'CVE-2023-0013'}> end=<Node element_id='4:de342d72-e7ff-4d5b-9a28-99eaa381965b:195' labels=frozenset({'Entities'}) properties={'wikipediaExternalRef': 241154, 'wikidataId': 'Q371199', 'confidence_score': 0.5158, 'offsetStart': 1120, 'offsetEnd': 1133, 'rawName': 'Reflected XSS'}> size=4>>, <Record p=<Path start=<Node element_id='4:de342d72-e7ff-4d5b-9a28-99eaa381965b:1' labels=frozenset({'CVE'}) properties={'assigner': 'cna@sap.com', 'id': 'CVE-2023-0013'}> end=<Node element_id='4:de342d72-e7ff-4d5b-9a28-99eaa381965b:208' labels=frozenset({'Entities'}) properties={'wikipediaExternalRef': 241154, 'wikidataId': 'Q371199', 'confidence_score': 0.5158, 'offsetStart': 1769, 'offsetEnd': 1779, 'rawName': 'Stored XSS'}> size=4>>]\n"
          ]
        }
      ],
      "source": [
        "explore_reviews_csv_query = \"\"\"\n",
        "MATCH p=(cve:CVE)-[:PROBLEM_TYPE]->(problemType:ProblemType)-[:MAPPED_WITH]->(cwe:CWE)-[:MAPPED_WITH]->(cwedata:Extended_Descriptions)-[:HAS_ENTITY]->(Entities:Entities{wikidataId:\"Q371199\"})\n",
        "MERGE (cve1:CVE{id:\"CVE-2023-0013\"})\n",
        "MERGE (cve2:CVE{id:\"CVE-2023-0015\"})\n",
        "MERGE (cve3:CVE{id:\"CVE-2023-0018\"})\n",
        "MERGE (cve4:CVE{id:\"CVE-2023-0028\"})\n",
        "MERGE (cve1)-[:SIMILAR_TO]->(cve2)\n",
        "MERGE (cve2)-[:SIMILAR_TO]->(cve3)\n",
        "MERGE (cve3)-[:SIMILAR_TO]->(cve4)\n",
        "RETURN p\n",
        "\n",
        "\"\"\"\n",
        "result = conn.query(explore_reviews_csv_query)\n",
        "print(result)"
      ]
    },
    {
      "cell_type": "code",
      "execution_count": 694,
      "metadata": {
        "id": "CrsXkiEn-uY5",
        "colab": {
          "base_uri": "https://localhost:8080/"
        },
        "outputId": "6ec3c865-0136-408f-fd14-b032b678a63e"
      },
      "outputs": [
        {
          "output_type": "stream",
          "name": "stdout",
          "text": [
            "[<Record p=<Path start=<Node element_id='4:de342d72-e7ff-4d5b-9a28-99eaa381965b:4' labels=frozenset({'CVE'}) properties={'assigner': 'cna@sap.com', 'id': 'CVE-2023-0016'}> end=<Node element_id='4:de342d72-e7ff-4d5b-9a28-99eaa381965b:262' labels=frozenset({'Entities'}) properties={'wikipediaExternalRef': 526999, 'wikidataId': 'Q506059', 'confidence_score': 0.9162, 'offsetStart': 1041, 'offsetEnd': 1054, 'rawName': 'SQL injection'}> size=4>>, <Record p=<Path start=<Node element_id='4:de342d72-e7ff-4d5b-9a28-99eaa381965b:7' labels=frozenset({'CVE'}) properties={'assigner': 'cna@sap.com', 'id': 'CVE-2023-0022'}> end=<Node element_id='4:de342d72-e7ff-4d5b-9a28-99eaa381965b:262' labels=frozenset({'Entities'}) properties={'wikipediaExternalRef': 526999, 'wikidataId': 'Q506059', 'confidence_score': 0.9162, 'offsetStart': 1041, 'offsetEnd': 1054, 'rawName': 'SQL injection'}> size=4>>]\n"
          ]
        }
      ],
      "source": [
        "explore_reviews_csv_query = \"\"\"\n",
        "MATCH p=(cve:CVE)-[:PROBLEM_TYPE]->(problemType:ProblemType)-[:MAPPED_WITH]->(cwe:CWE)-[:MAPPED_WITH]->(cwedata:Extended_Descriptions)-[:HAS_ENTITY]->(Entities:Entities{wikidataId:\"Q506059\"})\n",
        "MERGE (cve1:CVE{id:\"CVE-2023-0016\"})\n",
        "MERGE (cve2:CVE{id:\"CVE-2023-0022\"})\n",
        "MERGE (cve1)-[:SIMILAR_TO]->(cve2)\n",
        "RETURN p\n",
        "\n",
        "\"\"\"\n",
        "result = conn.query(explore_reviews_csv_query)\n",
        "print(result)"
      ]
    },
    {
      "cell_type": "code",
      "execution_count": 695,
      "metadata": {
        "id": "ClusNkpQPmd9",
        "colab": {
          "base_uri": "https://localhost:8080/"
        },
        "outputId": "a760d6e1-646d-4dfc-a54a-69a977b4cd14"
      },
      "outputs": [
        {
          "output_type": "stream",
          "name": "stdout",
          "text": [
            "[<Record p=<Path start=<Node element_id='4:de342d72-e7ff-4d5b-9a28-99eaa381965b:6' labels=frozenset({'CVE'}) properties={'assigner': 'cna@sap.com', 'id': 'CVE-2023-0018'}> end=<Node element_id='4:de342d72-e7ff-4d5b-9a28-99eaa381965b:216' labels=frozenset({'Entities'}) properties={'wikipediaExternalRef': 5316476, 'wikidataId': 'Q2587068', 'confidence_score': 0.4691, 'offsetStart': 2476, 'offsetEnd': 2490, 'rawName': 'sensitive data'}> size=4>>, <Record p=<Path start=<Node element_id='4:de342d72-e7ff-4d5b-9a28-99eaa381965b:9' labels=frozenset({'CVE'}) properties={'assigner': 'security@huntr.dev', 'id': 'CVE-2023-0028'}> end=<Node element_id='4:de342d72-e7ff-4d5b-9a28-99eaa381965b:216' labels=frozenset({'Entities'}) properties={'wikipediaExternalRef': 5316476, 'wikidataId': 'Q2587068', 'confidence_score': 0.4691, 'offsetStart': 2476, 'offsetEnd': 2490, 'rawName': 'sensitive data'}> size=4>>, <Record p=<Path start=<Node element_id='4:de342d72-e7ff-4d5b-9a28-99eaa381965b:3' labels=frozenset({'CVE'}) properties={'assigner': 'cna@sap.com', 'id': 'CVE-2023-0015'}> end=<Node element_id='4:de342d72-e7ff-4d5b-9a28-99eaa381965b:216' labels=frozenset({'Entities'}) properties={'wikipediaExternalRef': 5316476, 'wikidataId': 'Q2587068', 'confidence_score': 0.4691, 'offsetStart': 2476, 'offsetEnd': 2490, 'rawName': 'sensitive data'}> size=4>>, <Record p=<Path start=<Node element_id='4:de342d72-e7ff-4d5b-9a28-99eaa381965b:1' labels=frozenset({'CVE'}) properties={'assigner': 'cna@sap.com', 'id': 'CVE-2023-0013'}> end=<Node element_id='4:de342d72-e7ff-4d5b-9a28-99eaa381965b:216' labels=frozenset({'Entities'}) properties={'wikipediaExternalRef': 5316476, 'wikidataId': 'Q2587068', 'confidence_score': 0.4691, 'offsetStart': 2476, 'offsetEnd': 2490, 'rawName': 'sensitive data'}> size=4>>, <Record p=<Path start=<Node element_id='4:de342d72-e7ff-4d5b-9a28-99eaa381965b:8' labels=frozenset({'CVE'}) properties={'assigner': 'cna@sap.com', 'id': 'CVE-2023-0023'}> end=<Node element_id='4:de342d72-e7ff-4d5b-9a28-99eaa381965b:287' labels=frozenset({'Entities'}) properties={'wikipediaExternalRef': 5316476, 'wikidataId': 'Q2587068', 'confidence_score': 0.4076, 'offsetStart': 394, 'offsetEnd': 415, 'rawName': 'sensitive information'}> size=4>>, <Record p=<Path start=<Node element_id='4:de342d72-e7ff-4d5b-9a28-99eaa381965b:0' labels=frozenset({'CVE'}) properties={'assigner': 'cna@sap.com', 'id': 'CVE-2023-0012'}> end=<Node element_id='4:de342d72-e7ff-4d5b-9a28-99eaa381965b:287' labels=frozenset({'Entities'}) properties={'wikipediaExternalRef': 5316476, 'wikidataId': 'Q2587068', 'confidence_score': 0.4076, 'offsetStart': 394, 'offsetEnd': 415, 'rawName': 'sensitive information'}> size=4>>, <Record p=<Path start=<Node element_id='4:de342d72-e7ff-4d5b-9a28-99eaa381965b:5' labels=frozenset({'CVE'}) properties={'assigner': 'cna@sap.com', 'id': 'CVE-2023-0017'}> end=<Node element_id='4:de342d72-e7ff-4d5b-9a28-99eaa381965b:287' labels=frozenset({'Entities'}) properties={'wikipediaExternalRef': 5316476, 'wikidataId': 'Q2587068', 'confidence_score': 0.4076, 'offsetStart': 394, 'offsetEnd': 415, 'rawName': 'sensitive information'}> size=4>>]\n"
          ]
        }
      ],
      "source": [
        "explore_reviews_csv_query = \"\"\"\n",
        "MATCH p=(cve:CVE)-[:PROBLEM_TYPE]->(problemType:ProblemType)-[:MAPPED_WITH]->(cwe:CWE)-[:MAPPED_WITH]->(cwedata:Extended_Descriptions)-[:HAS_ENTITY]->(Entities:Entities{wikidataId:\"Q2587068\"})\n",
        "MERGE (cve1:CVE{id:\"CVE-2023-0012\"})\n",
        "MERGE (cve2:CVE{id:\"CVE-2023-0017\"})\n",
        "MERGE (cve3:CVE{id:\"CVE-2023-0023\"})\n",
        "MERGE (cve1)-[:SIMILAR_TO]->(cve2)\n",
        "MERGE (cve2)-[:SIMILAR_TO]->(cve3)\n",
        "RETURN p\n",
        "\n",
        "\"\"\"\n",
        "result = conn.query(explore_reviews_csv_query)\n",
        "print(result)"
      ]
    },
    {
      "cell_type": "code",
      "execution_count": 696,
      "metadata": {
        "id": "Uaqmc-4zMBgq",
        "colab": {
          "base_uri": "https://localhost:8080/"
        },
        "outputId": "8466f3af-1ca2-484c-d31e-72256765e98f"
      },
      "outputs": [
        {
          "output_type": "stream",
          "name": "stdout",
          "text": [
            "[<Record p=<Path start=<Node element_id='4:de342d72-e7ff-4d5b-9a28-99eaa381965b:0' labels=frozenset({'CVE'}) properties={'assigner': 'cna@sap.com', 'id': 'CVE-2023-0012'}> end=<Node element_id='4:de342d72-e7ff-4d5b-9a28-99eaa381965b:322' labels=frozenset({'Entities'}) properties={'wikipediaExternalRef': 40684, 'wikidataId': 'Q228502', 'confidence_score': 0.4556, 'offsetStart': 947, 'offsetEnd': 961, 'rawName': 'access control'}> size=4>>, <Record p=<Path start=<Node element_id='4:de342d72-e7ff-4d5b-9a28-99eaa381965b:0' labels=frozenset({'CVE'}) properties={'assigner': 'cna@sap.com', 'id': 'CVE-2023-0012'}> end=<Node element_id='4:de342d72-e7ff-4d5b-9a28-99eaa381965b:314' labels=frozenset({'Entities'}) properties={'wikipediaExternalRef': 40684, 'wikidataId': 'Q228502', 'confidence_score': 0.6394, 'offsetStart': 0, 'offsetEnd': 14, 'rawName': 'Access control'}> size=4>>, <Record p=<Path start=<Node element_id='4:de342d72-e7ff-4d5b-9a28-99eaa381965b:5' labels=frozenset({'CVE'}) properties={'assigner': 'cna@sap.com', 'id': 'CVE-2023-0017'}> end=<Node element_id='4:de342d72-e7ff-4d5b-9a28-99eaa381965b:322' labels=frozenset({'Entities'}) properties={'wikipediaExternalRef': 40684, 'wikidataId': 'Q228502', 'confidence_score': 0.4556, 'offsetStart': 947, 'offsetEnd': 961, 'rawName': 'access control'}> size=4>>, <Record p=<Path start=<Node element_id='4:de342d72-e7ff-4d5b-9a28-99eaa381965b:5' labels=frozenset({'CVE'}) properties={'assigner': 'cna@sap.com', 'id': 'CVE-2023-0017'}> end=<Node element_id='4:de342d72-e7ff-4d5b-9a28-99eaa381965b:314' labels=frozenset({'Entities'}) properties={'wikipediaExternalRef': 40684, 'wikidataId': 'Q228502', 'confidence_score': 0.6394, 'offsetStart': 0, 'offsetEnd': 14, 'rawName': 'Access control'}> size=4>>]\n"
          ]
        }
      ],
      "source": [
        "explore_reviews_csv_query = \"\"\"\n",
        "MATCH p=(cve:CVE)-[:PROBLEM_TYPE]->(problemType:ProblemType)-[:MAPPED_WITH]->(cwe:CWE)-[:MAPPED_WITH]->(cwedata:Extended_Descriptions)-[:HAS_ENTITY]->(Entities:Entities{wikidataId:\"Q228502\"})\n",
        "MERGE (cve1:CVE{id:\"CVE-2023-0012\"})\n",
        "MERGE (cve2:CVE{id:\"CVE-2023-0017\"})\n",
        "MERGE (cve1)-[:SIMILAR_TO]->(cve2)\n",
        "RETURN p\n",
        "\n",
        "\"\"\"\n",
        "result = conn.query(explore_reviews_csv_query)\n",
        "print(result)"
      ]
    }
  ],
  "metadata": {
    "colab": {
      "provenance": []
    },
    "kernelspec": {
      "display_name": "Python 3",
      "name": "python3"
    },
    "language_info": {
      "name": "python"
    }
  },
  "nbformat": 4,
  "nbformat_minor": 0
}