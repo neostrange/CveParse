{
  "cells": [
    {
      "cell_type": "code",
      "execution_count": 713,
      "metadata": {
        "colab": {
          "base_uri": "https://localhost:8080/"
        },
        "id": "DfyJddh_FzaA",
        "outputId": "222aa518-149b-469d-b5f2-d1ef201c3e98"
      },
      "outputs": [
        {
          "output_type": "stream",
          "name": "stdout",
          "text": [
            "Looking in indexes: https://pypi.org/simple, https://us-python.pkg.dev/colab-wheels/public/simple/\n",
            "Requirement already satisfied: neo4j in /usr/local/lib/python3.10/dist-packages (5.9.0)\n",
            "Requirement already satisfied: pytz in /usr/local/lib/python3.10/dist-packages (from neo4j) (2022.7.1)\n"
          ]
        }
      ],
      "source": [
        "!pip install neo4j    "
      ]
    },
    {
      "cell_type": "code",
      "execution_count": 714,
      "metadata": {
        "id": "Ymat9Q2JHDXa"
      },
      "outputs": [],
      "source": [
        "from neo4j import GraphDatabase "
      ]
    },
    {
      "cell_type": "code",
      "execution_count": 715,
      "metadata": {
        "id": "oBAO4ErVCsZb"
      },
      "outputs": [],
      "source": [
        "uri = \"neo4j+s://70bc3204.databases.neo4j.io\"\n",
        "pwd = \"7de6kd6oEFEU8wwTlLbOI3F9cP6NSg2Ibxsy4zOcwZE\"\n",
        "driver = GraphDatabase.driver(uri, auth=(\"neo4j\", pwd))    "
      ]
    },
    {
      "cell_type": "code",
      "execution_count": 716,
      "metadata": {
        "id": "ZqinzjrOHKQI"
      },
      "outputs": [],
      "source": [
        "class Neo4jConnection:\n",
        "    \n",
        "    def __init__(self, uri, user, pwd):\n",
        "        \n",
        "        self.__uri = uri\n",
        "        self.__user = user\n",
        "        self.__pwd = pwd\n",
        "        self.__driver = None\n",
        "        \n",
        "        try:\n",
        "            self.__driver = GraphDatabase.driver(self.__uri, auth=(self.__user, self.__pwd))\n",
        "        except Exception as e:\n",
        "            print(\"Failed to create the driver:\", e)\n",
        "        \n",
        "    def close(self):\n",
        "        \n",
        "        if self.__driver is not None:\n",
        "            self.__driver.close()\n",
        "        \n",
        "    def query(self, query, parameters=None, db=None):\n",
        "        \n",
        "        assert self.__driver is not None, \"Driver not initialized!\"\n",
        "        session = None\n",
        "        response = None\n",
        "        \n",
        "        try: \n",
        "            session = self.__driver.session(database=db) if db is not None else self.__driver.session() \n",
        "            response = list(session.run(query, parameters))\n",
        "        except Exception as e:\n",
        "            print(\"Query failed:\", e)\n",
        "        finally: \n",
        "            if session is not None:\n",
        "                session.close()\n",
        "        return response"
      ]
    },
    {
      "cell_type": "code",
      "execution_count": 717,
      "metadata": {
        "id": "-caKdnERHQPG"
      },
      "outputs": [],
      "source": [
        "uri = \"neo4j+s://70bc3204.databases.neo4j.io\"\n",
        "pwd = \"7de6kd6oEFEU8wwTlLbOI3F9cP6NSg2Ibxsy4zOcwZE\"\n",
        "user = 'neo4j'\n",
        "conn = Neo4jConnection(uri, user, pwd)"
      ]
    },
    {
      "cell_type": "markdown",
      "metadata": {
        "id": "U1oIyYMuv4Tf"
      },
      "source": [
        "## **CONSTRAINTS**"
      ]
    },
    {
      "cell_type": "code",
      "execution_count": 718,
      "metadata": {
        "id": "NgWPBVqr0ekm",
        "colab": {
          "base_uri": "https://localhost:8080/"
        },
        "outputId": "42fc2a69-b217-4cb9-f09f-c9e1eff81e1c"
      },
      "outputs": [
        {
          "output_type": "stream",
          "name": "stdout",
          "text": [
            "[]\n"
          ]
        }
      ],
      "source": [
        "explore_reviews_csv_query = \"\"\"\n",
        "CREATE CONSTRAINT CVE IF NOT EXISTS FOR (cve:CVE) REQUIRE cve.id IS UNIQUE\n",
        "\"\"\"\n",
        "result = conn.query(explore_reviews_csv_query)\n",
        "print(result)"
      ]
    },
    {
      "cell_type": "code",
      "execution_count": 719,
      "metadata": {
        "id": "u8uSRMnp1slw",
        "colab": {
          "base_uri": "https://localhost:8080/"
        },
        "outputId": "89804f15-7624-4d0e-e931-ebbaa8565b64"
      },
      "outputs": [
        {
          "output_type": "stream",
          "name": "stdout",
          "text": [
            "[]\n"
          ]
        }
      ],
      "source": [
        "explore_reviews_csv_query = \"\"\"\n",
        "CREATE CONSTRAINT references IF NOT EXISTS FOR (ref:Reference) REQUIRE ref.url IS UNIQUE\n",
        "\"\"\"\n",
        "result = conn.query(explore_reviews_csv_query)\n",
        "print(result)"
      ]
    },
    {
      "cell_type": "code",
      "execution_count": 720,
      "metadata": {
        "id": "co9S8kWs2r0L",
        "colab": {
          "base_uri": "https://localhost:8080/"
        },
        "outputId": "a011d32e-5752-47c1-e2ab-45a911f8d44c"
      },
      "outputs": [
        {
          "output_type": "stream",
          "name": "stdout",
          "text": [
            "[]\n"
          ]
        }
      ],
      "source": [
        "explore_reviews_csv_query = \"\"\"\n",
        "CREATE CONSTRAINT descriptions IF NOT EXISTS FOR (desc:Description) REQUIRE desc.id IS UNIQUE\n",
        "\"\"\"\n",
        "result = conn.query(explore_reviews_csv_query)\n",
        "print(result)"
      ]
    },
    {
      "cell_type": "code",
      "execution_count": 721,
      "metadata": {
        "id": "02HjfwuQ2s94",
        "colab": {
          "base_uri": "https://localhost:8080/"
        },
        "outputId": "6c1265a2-705c-4d7c-a7e5-ca92eb91b4ab"
      },
      "outputs": [
        {
          "output_type": "stream",
          "name": "stdout",
          "text": [
            "[]\n"
          ]
        }
      ],
      "source": [
        "explore_reviews_csv_query = \"\"\"\n",
        "CREATE CONSTRAINT tags IF NOT EXISTS FOR (t:Tag) REQUIRE t.tag IS UNIQUE\n",
        "\"\"\"\n",
        "result = conn.query(explore_reviews_csv_query)\n",
        "print(result)"
      ]
    },
    {
      "cell_type": "code",
      "execution_count": 722,
      "metadata": {
        "id": "v4yQyZmi2vZn",
        "colab": {
          "base_uri": "https://localhost:8080/"
        },
        "outputId": "4fcc9584-784f-4820-86dc-6ecfc22685e8"
      },
      "outputs": [
        {
          "output_type": "stream",
          "name": "stdout",
          "text": [
            "[]\n"
          ]
        }
      ],
      "source": [
        "explore_reviews_csv_query = \"\"\"\n",
        "CREATE CONSTRAINT CONFIG IF NOT EXISTS FOR (config:CONFIG) REQUIRE config.id IS UNIQUE\n",
        "\"\"\"\n",
        "result = conn.query(explore_reviews_csv_query)\n",
        "print(result)"
      ]
    },
    {
      "cell_type": "code",
      "execution_count": 723,
      "metadata": {
        "id": "xZPKcwce2wgM",
        "colab": {
          "base_uri": "https://localhost:8080/"
        },
        "outputId": "e1a932ca-c9d5-4404-8dd9-4a164c6c577a"
      },
      "outputs": [
        {
          "output_type": "stream",
          "name": "stdout",
          "text": [
            "[]\n"
          ]
        }
      ],
      "source": [
        "explore_reviews_csv_query = \"\"\"\n",
        "CREATE CONSTRAINT CPE IF NOT EXISTS FOR (cpe:CPE) REQUIRE cpe.cpe23Uri IS UNIQUE\n",
        "\"\"\"\n",
        "result = conn.query(explore_reviews_csv_query)\n",
        "print(result)"
      ]
    },
    {
      "cell_type": "code",
      "execution_count": 724,
      "metadata": {
        "id": "GFhXM1juEt47",
        "colab": {
          "base_uri": "https://localhost:8080/"
        },
        "outputId": "7496727e-6a95-4fbb-80cb-6d731fbf251a"
      },
      "outputs": [
        {
          "output_type": "stream",
          "name": "stdout",
          "text": [
            "[]\n"
          ]
        }
      ],
      "source": [
        "explore_reviews_csv_query = \"\"\"\n",
        "CREATE CONSTRAINT CWE IF NOT EXISTS FOR (cwe:CWE) REQUIRE cwe.CWE IS UNIQUE\n",
        "\"\"\"\n",
        "result = conn.query(explore_reviews_csv_query)\n",
        "print(result)"
      ]
    },
    {
      "cell_type": "code",
      "execution_count": 725,
      "metadata": {
        "colab": {
          "base_uri": "https://localhost:8080/"
        },
        "id": "RdGOPkmpD5N2",
        "outputId": "dda8caf9-4f75-49cb-cbe6-35b6350b751b"
      },
      "outputs": [
        {
          "output_type": "stream",
          "name": "stdout",
          "text": [
            "[]\n"
          ]
        }
      ],
      "source": [
        "explore_reviews_csv_query = \"\"\"\n",
        "CREATE CONSTRAINT CPE IF NOT EXISTS FOR (cpe:CPE) REQUIRE cpe.CPE IS UNIQUE\n",
        "\"\"\"\n",
        "result = conn.query(explore_reviews_csv_query)\n",
        "print(result)"
      ]
    },
    {
      "cell_type": "markdown",
      "metadata": {
        "id": "ALZWnkxavpYn"
      },
      "source": [
        "# **CVE Data**"
      ]
    },
    {
      "cell_type": "markdown",
      "metadata": {
        "id": "dKD1qUv61I07"
      },
      "source": [
        "**Script_1.cypher**"
      ]
    },
    {
      "cell_type": "code",
      "execution_count": 726,
      "metadata": {
        "id": "3vr5fo2fq1gi",
        "colab": {
          "base_uri": "https://localhost:8080/"
        },
        "outputId": "d0b376e9-52d0-48a9-fe40-2228803c2b7e"
      },
      "outputs": [
        {
          "output_type": "stream",
          "name": "stdout",
          "text": [
            "[]\n"
          ]
        }
      ],
      "source": [
        "explore_reviews_csv_query = \"\"\"\n",
        "CALL apoc.load.json(\"https://raw.githubusercontent.com/neostrange/CveParse/main/nvd3.json\", null, {failOnError:false})\n",
        "YIELD value\n",
        "WITH value  AS data\n",
        "\n",
        "UNWIND data.CVE_Items as item\n",
        "MERGE (cve:CVE {id: item.cve.CVE_data_meta.ID})\n",
        "ON CREATE SET cve.assigner = item.cve.CVE_data_meta.ASSIGNER\n",
        "\n",
        "WITH cve, item\n",
        "UNWIND item.cve.problemtype.problemtype_data AS problem\n",
        "UNWIND problem.description AS problem_desc\n",
        "MERGE (cve)-[:PROBLEM_TYPE]->(problemType:ProblemType {lang: problem_desc.lang, value: problem_desc.value})\n",
        "//MERGE (cve)-[:PROBLEM_TYPE]->(problemType)\n",
        "\n",
        "\n",
        "WITH item, cve\n",
        "UNWIND item.cve.references.reference_data AS ref\n",
        "MERGE (reference:Reference {url: ref.url})\n",
        "ON CREATE SET reference.name = ref.name, reference.refsource = ref.refsource\n",
        "\n",
        "WITH item, cve, reference, ref\n",
        "UNWIND ref.tags AS tag\n",
        "MERGE (tagNode:Tag {name: tag, id: tag})\n",
        "MERGE (reference)-[:TAGGED_WITH]->(tagNode)\n",
        "\n",
        "WITH item, cve, reference\n",
        "UNWIND item.cve.description.description_data AS desc\n",
        "MERGE (description:Description {lang: desc.lang, value:desc.value, cveId:cve.id})\n",
        "//ON CREATE SET description.value = desc.value\n",
        "\n",
        "//WITH item, cve, reference, description\n",
        "MERGE (cve)-[:HAS_REFERENCE]->(reference)\n",
        "MERGE (cve)-[:HAS_DESCRIPTION]->(description)\n",
        "\n",
        "\n",
        "\n",
        "WITH item, cve,item.impact.baseMetricV3 as baseMetricV3, item.impact.baseMetricV3.cvssV3 as cvssV3\n",
        "MERGE (cve)-[:HAS_IMPACT]->(impact:IMPACT {exploitabilityScore: baseMetricV3.exploitabilityScore, \n",
        "                                           impactScore: baseMetricV3.impactScore, cveId: cve.id\n",
        "})-[:HAS_CVSSV3]->(cvssv3:CVSSV3 {version: cvssV3.version,\n",
        "                                              vectorString:cvssV3.vectorString,\n",
        "                                              attackVector:cvssV3.attackVector,\n",
        "                                              attackComplexity:cvssV3.attackComplexity,\n",
        "                                              privilegesRequired:cvssV3.privilegesRequired,\n",
        "                                              userInteraction:cvssV3.userInteraction,\n",
        "                                              scope:cvssV3.scope,\n",
        "                                              confidentialityImpact:cvssV3.confidentialityImpact,\n",
        "                                              integrityImpact:cvssV3.integrityImpact,\n",
        "                                              availabilityImpact:cvssV3.availabilityImpact,\n",
        "                                              baseScore:cvssV3.baseScore,\n",
        "                                              baseSeverity:cvssV3.baseSeverity \n",
        "})\n",
        "\"\"\"\n",
        "result = conn.query(explore_reviews_csv_query)\n",
        "print(result)"
      ]
    },
    {
      "cell_type": "markdown",
      "metadata": {
        "id": "2IuoqWLt1YZX"
      },
      "source": [
        "**Script_2.cypher**"
      ]
    },
    {
      "cell_type": "code",
      "execution_count": 727,
      "metadata": {
        "id": "Jzi-BrPlq5GQ",
        "colab": {
          "base_uri": "https://localhost:8080/"
        },
        "outputId": "33ab7ccb-7561-451e-f6dd-0a13c04e10a7"
      },
      "outputs": [
        {
          "output_type": "stream",
          "name": "stdout",
          "text": [
            "[]\n"
          ]
        }
      ],
      "source": [
        "explore_reviews_csv_query = \"\"\"\n",
        "CALL apoc.load.json(\"https://raw.githubusercontent.com/neostrange/CveParse/main/nvd3.json\", null, {failOnError:false})\n",
        "YIELD value\n",
        "WITH value  AS data\n",
        "\n",
        "UNWIND data.CVE_Items as item\n",
        "MERGE (cve:CVE {id: item.cve.CVE_data_meta.ID})\n",
        "ON CREATE SET cve.assigner = item.cve.CVE_data_meta.ASSIGNER\n",
        "\n",
        "WITH item.configurations AS configurations, cve\n",
        "MERGE (config:Config {version: configurations.CVE_data_version, cveId: cve.id})\n",
        "MERGE (cve)-[:HAS_CONFIG]->(config)\n",
        "\n",
        "WITH configurations, config, cve\n",
        "UNWIND configurations.nodes as node\n",
        "  // Each node has operator, cpe_match and  children\n",
        "  //create operator for the node\n",
        "  CREATE (op:Operator {operator: node.operator})\n",
        "  CREATE (config)-[:HAS_OPERATOR]->(op)\n",
        "  //create cpe_match for the node\n",
        "  FOREACH (cpe_match in node.cpe_match |\n",
        "    CREATE (cpeMatch:CpeMatch {vulnerable: cpe_match.vulnerable, uri: cpe_match.cpe23Uri})\n",
        "    CREATE (cpeMatch)-[:HAS_OPERATOR]->(op))\n",
        "\n",
        "    //children in each node -  each children then has operator, cpe_match and children\n",
        "    FOREACH (child IN node.children | \n",
        "      CREATE (op1:Operator {operator: child.operator})\n",
        "      CREATE (op)-[:HAS_OPERATOR]->(op1)\n",
        "      FOREACH (cpe in child.cpe_match |\n",
        "        CREATE (cpeMatch:CpeMatch {vulnerable: cpe.vulnerable, uri: cpe.cpe23Uri})\n",
        "        MERGE (op1)-[:CPE_MATCH]->(cpeMatch))\n",
        ")\n",
        "\"\"\"\n",
        "result = conn.query(explore_reviews_csv_query)\n",
        "print(result)"
      ]
    },
    {
      "cell_type": "markdown",
      "metadata": {
        "id": "v0RLUDVmwCO9"
      },
      "source": [
        "# **CWE Data**"
      ]
    },
    {
      "cell_type": "markdown",
      "metadata": {
        "id": "2jAfmwvqKrZg"
      },
      "source": [
        "**Script_CWE.cypher**"
      ]
    },
    {
      "cell_type": "code",
      "execution_count": 728,
      "metadata": {
        "id": "KJ7DH4orakUu",
        "colab": {
          "base_uri": "https://localhost:8080/"
        },
        "outputId": "b0e0e53e-43fb-4e33-e072-7a67f74eba6d"
      },
      "outputs": [
        {
          "output_type": "stream",
          "name": "stdout",
          "text": [
            "[]\n"
          ]
        }
      ],
      "source": [
        "explore_reviews_csv_query = \"\"\"\n",
        "CALL apoc.load.json(\"https://raw.githubusercontent.com/neostrange/CveParse/main/CWE.json\", null, {failOnError:false})\n",
        "YIELD value\n",
        "WITH value  AS data\n",
        "//return data.CWE_Items[0].CWE.cwe_id\n",
        "UNWIND data.CWE_Items as item\n",
        "MERGE (cwe:CWE {cwe_id: item.CWE.cwe_id})\n",
        "SET \n",
        "    cwe.name = item.CWE.name,\n",
        "    cwe.weakness_abstraction = item.CWE.weakness_abstraction, \n",
        "    cwe.status = item.CWE.status, \n",
        "    cwe.description = item.CWE.description,  \n",
        "    cwe.extended_description = item.CWE.extended_description\n",
        "\n",
        "\"\"\"\n",
        "result = conn.query(explore_reviews_csv_query)\n",
        "print(result)"
      ]
    },
    {
      "cell_type": "markdown",
      "metadata": {
        "id": "NNjO7vHkvV5k"
      },
      "source": [
        "Mapping between CVE and CWE"
      ]
    },
    {
      "cell_type": "code",
      "execution_count": 729,
      "metadata": {
        "id": "2jSJtZjpd9_F",
        "colab": {
          "base_uri": "https://localhost:8080/"
        },
        "outputId": "b9a92311-2d5f-4ce3-d2d9-4b687e8a8453"
      },
      "outputs": [
        {
          "output_type": "stream",
          "name": "stdout",
          "text": [
            "[]\n"
          ]
        }
      ],
      "source": [
        "explore_reviews_csv_query = \"\"\"\n",
        "MERGE (problemType:ProblemType {value:\"CWE-79\"})\n",
        "MERGE (cwe:CWE {cwe_id:\"79\"})\n",
        "MERGE (problemType)-[:MAPPED_WITH]->(cwe)\n",
        "\n",
        "\"\"\"\n",
        "result = conn.query(explore_reviews_csv_query)\n",
        "print(result)"
      ]
    },
    {
      "cell_type": "code",
      "execution_count": 730,
      "metadata": {
        "id": "vt24-oAzRPMP",
        "colab": {
          "base_uri": "https://localhost:8080/"
        },
        "outputId": "1567a77e-4d08-4039-b4f4-d5a72e26272b"
      },
      "outputs": [
        {
          "output_type": "stream",
          "name": "stdout",
          "text": [
            "[]\n"
          ]
        }
      ],
      "source": [
        "explore_reviews_csv_query = \"\"\"\n",
        "MERGE (problemType:ProblemType {value:\"CWE-89\"})\n",
        "MERGE (cwe:CWE {cwe_id:\"89\"})\n",
        "MERGE (problemType)-[:MAPPED_WITH]->(cwe)\n",
        "\n",
        "\"\"\"\n",
        "result = conn.query(explore_reviews_csv_query)\n",
        "print(result)"
      ]
    },
    {
      "cell_type": "code",
      "execution_count": 731,
      "metadata": {
        "id": "HGhiQXo0RSN-",
        "colab": {
          "base_uri": "https://localhost:8080/"
        },
        "outputId": "28e66444-b6ea-470b-b943-b04484b2e4a9"
      },
      "outputs": [
        {
          "output_type": "stream",
          "name": "stdout",
          "text": [
            "[]\n"
          ]
        }
      ],
      "source": [
        "explore_reviews_csv_query = \"\"\"\n",
        "MERGE (problemType:ProblemType {value:\"CWE-94\"})\n",
        "MERGE (cwe:CWE {cwe_id:\"94\"})\n",
        "MERGE (problemType)-[:MAPPED_WITH]->(cwe)\n",
        "\n",
        "\"\"\"\n",
        "result = conn.query(explore_reviews_csv_query)\n",
        "print(result)"
      ]
    },
    {
      "cell_type": "code",
      "execution_count": 732,
      "metadata": {
        "id": "f7vUdkFVRVKM",
        "colab": {
          "base_uri": "https://localhost:8080/"
        },
        "outputId": "270e0964-28a3-4ba6-95cd-eb9b5380d4c9"
      },
      "outputs": [
        {
          "output_type": "stream",
          "name": "stdout",
          "text": [
            "[]\n"
          ]
        }
      ],
      "source": [
        "explore_reviews_csv_query = \"\"\"\n",
        "MERGE (problemType:ProblemType {value:\"CWE-200\"})\n",
        "MERGE (cwe:CWE {cwe_id:\"200\"})\n",
        "MERGE (problemType)-[:MAPPED_WITH]->(cwe)\n",
        "\n",
        "\"\"\"\n",
        "result = conn.query(explore_reviews_csv_query)\n",
        "print(result)"
      ]
    },
    {
      "cell_type": "code",
      "execution_count": 733,
      "metadata": {
        "id": "NDxsFoS6RbIi",
        "colab": {
          "base_uri": "https://localhost:8080/"
        },
        "outputId": "491b230c-079c-46cc-881c-4fd2b7a16383"
      },
      "outputs": [
        {
          "output_type": "stream",
          "name": "stdout",
          "text": [
            "[]\n"
          ]
        }
      ],
      "source": [
        "explore_reviews_csv_query = \"\"\"\n",
        "MERGE (problemType:ProblemType {value:\"CWE-284\"})\n",
        "MERGE (cwe:CWE {cwe_id:\"284\"})\n",
        "MERGE (problemType)-[:MAPPED_WITH]->(cwe)\n",
        "\n",
        "\"\"\"\n",
        "result = conn.query(explore_reviews_csv_query)\n",
        "print(result)"
      ]
    },
    {
      "cell_type": "code",
      "execution_count": 734,
      "metadata": {
        "id": "U7hSomJqRcGs",
        "colab": {
          "base_uri": "https://localhost:8080/"
        },
        "outputId": "2b27d80f-c35b-4907-dc7f-40443f38c76c"
      },
      "outputs": [
        {
          "output_type": "stream",
          "name": "stdout",
          "text": [
            "[]\n"
          ]
        }
      ],
      "source": [
        "explore_reviews_csv_query = \"\"\"\n",
        "MERGE (problemType:ProblemType {value:\"CWE-294\"})\n",
        "MERGE (cwe:CWE {cwe_id:\"294\"})\n",
        "MERGE (problemType)-[:MAPPED_WITH]->(cwe)\n",
        "\n",
        "\"\"\"\n",
        "result = conn.query(explore_reviews_csv_query)\n",
        "print(result)"
      ]
    },
    {
      "cell_type": "code",
      "execution_count": 735,
      "metadata": {
        "id": "ebePW33VmBWf",
        "colab": {
          "base_uri": "https://localhost:8080/"
        },
        "outputId": "f031f5e1-33e4-4af8-bfbe-6d59c1ae9285"
      },
      "outputs": [
        {
          "output_type": "stream",
          "name": "stdout",
          "text": [
            "[]\n"
          ]
        }
      ],
      "source": [
        "explore_reviews_csv_query = \"\"\"\n",
        "MERGE (cwe1:CWE { cwe_id:\"79\"})\n",
        "MERGE (cwe2:CWE { cwe_id:\"89\"})\n",
        "MERGE (cwe1)-[:HAS_RELATED_WEAKNESS{ NATURE:\"ChildOf\",CWEـID:\"74\",VIEWـID:\"1003\",ORDINAL:\"Primary\"}]->(cwe2)\n",
        "\n",
        "\"\"\"\n",
        "result = conn.query(explore_reviews_csv_query)\n",
        "print(result)"
      ]
    },
    {
      "cell_type": "code",
      "execution_count": 736,
      "metadata": {
        "id": "HizU849aV3uR",
        "colab": {
          "base_uri": "https://localhost:8080/"
        },
        "outputId": "a6df71b3-c582-4c04-868f-119caf1042fd"
      },
      "outputs": [
        {
          "output_type": "stream",
          "name": "stdout",
          "text": [
            "[]\n"
          ]
        }
      ],
      "source": [
        "explore_reviews_csv_query = \"\"\"\n",
        "MERGE (cwe1:CWE { cwe_id:\"79\"})\n",
        "MERGE (cwe2:CWE { cwe_id:\"94\"})\n",
        "MERGE (cwe1)-[:HAS_RELATED_WEAKNESS{ NATURE:\"ChildOf\",CWEـID:\"74\",VIEWـID:\"1000\",ORDINAL:\"Primary\"}]->(cwe2)\n",
        "\n",
        "\"\"\"\n",
        "result = conn.query(explore_reviews_csv_query)\n",
        "print(result)"
      ]
    },
    {
      "cell_type": "code",
      "execution_count": 737,
      "metadata": {
        "id": "BV-1ql7RfODd",
        "colab": {
          "base_uri": "https://localhost:8080/"
        },
        "outputId": "a5743fad-be60-4da0-f600-2635a594f152"
      },
      "outputs": [
        {
          "output_type": "stream",
          "name": "stdout",
          "text": [
            "[]\n"
          ]
        }
      ],
      "source": [
        "explore_reviews_csv_query = \"\"\"\n",
        "MERGE (cwe1:CWE { cwe_id:\"79\"})\n",
        "MERGE (cwe2:CWE { cwe_id:\"94\"})\n",
        "MERGE (cwe1)-[:HAS_RELATED_WEAKNESS{ NATURE:\"ChildOf\",CWEـID:\"74\",VIEWـID:\"1003\",ORDINAL:\"Primary\"}]->(cwe2)\n",
        "\n",
        "\"\"\"\n",
        "result = conn.query(explore_reviews_csv_query)\n",
        "print(result)"
      ]
    },
    {
      "cell_type": "code",
      "execution_count": 738,
      "metadata": {
        "id": "uL6jPi4oYKOo",
        "colab": {
          "base_uri": "https://localhost:8080/"
        },
        "outputId": "94194642-b107-4911-b6b9-8d257c0ff0a0"
      },
      "outputs": [
        {
          "output_type": "stream",
          "name": "stdout",
          "text": [
            "[]\n"
          ]
        }
      ],
      "source": [
        "explore_reviews_csv_query = \"\"\"\n",
        "MERGE (cwe1:CWE { cwe_id:\"89\"})\n",
        "MERGE (cwe2:CWE { cwe_id:\"94\"})\n",
        "MERGE (cwe1)-[:HAS_RELATED_WEAKNESS{ NATURE:\"ChildOf\",CWEـID:\"74\",VIEWـID:\"1003\",ORDINAL:\"Primary\"}]->(cwe2)\n",
        "\n",
        "\"\"\"\n",
        "result = conn.query(explore_reviews_csv_query)\n",
        "print(result)"
      ]
    },
    {
      "cell_type": "markdown",
      "metadata": {
        "id": "U9L-NhVIvnEF"
      },
      "source": [
        "Extract the entities from unstructured data (extended_description) in CWE to structured data by using entity-fishing"
      ]
    },
    {
      "cell_type": "code",
      "execution_count": 739,
      "metadata": {
        "id": "XANCNvg7TPMr",
        "colab": {
          "base_uri": "https://localhost:8080/"
        },
        "outputId": "a12691c3-6a69-48c1-b1eb-93c378ca8de9"
      },
      "outputs": [
        {
          "output_type": "stream",
          "name": "stdout",
          "text": [
            "[]\n"
          ]
        }
      ],
      "source": [
        "explore_reviews_csv_query = \"\"\"\n",
        "CALL apoc.load.json(\"https://raw.githubusercontent.com/neostrange/CveParse/main/Extended_Descriptions.json\", null, {failOnError:false})\n",
        "YIELD value\n",
        "WITH value  AS data\n",
        "//return data.Extended_Descriptions[0].CWE.runtime\n",
        "UNWIND data.Extended_Descriptions as extended_descript\n",
        "MERGE (cwedata:Extended_Descriptions {runtime: extended_descript.CWE.runtime})\n",
        "SET \n",
        "    cwedata.software = extended_descript.CWE.software,\n",
        "    cwedata.version = extended_descript.CWE.version,\n",
        "    cwedata.date = extended_descript.CWE.date,\n",
        "    cwedata.nbest = extended_descript.CWE.nbest,\n",
        "    cwedata.text = extended_descript.CWE.text\n",
        "\n",
        "\"\"\"\n",
        "result = conn.query(explore_reviews_csv_query)\n",
        "print(result)"
      ]
    },
    {
      "cell_type": "code",
      "execution_count": 740,
      "metadata": {
        "id": "ncalbUWFXjI7",
        "colab": {
          "base_uri": "https://localhost:8080/"
        },
        "outputId": "5134ebb1-503b-4bed-b8a4-eb4b1d304e43"
      },
      "outputs": [
        {
          "output_type": "stream",
          "name": "stdout",
          "text": [
            "[]\n"
          ]
        }
      ],
      "source": [
        "explore_reviews_csv_query = \"\"\"\n",
        "MERGE (cwe:CWE {cwe_id:\"79\"})\n",
        "MERGE (cwedata:Extended_Descriptions {runtime:2992})\n",
        "MERGE (cwe)-[:MAPPED_WITH]->(cwedata)\n",
        "MERGE (cwedata)-[:HAS_GLOBAL_CATEGORY{weight:0.04878159541353045,source:\"wikipedia-en\",category:\"Hacking (computer security)\",page_id:11647669}]->(cwe)\n",
        "MERGE (cwedata)-[:HAS_GLOBAL_CATEGORY{weight:0.026132997553802943,source:\"wikipedia-en\",category:\"Web security exploits\",page_id:5131853}]->(cwe)\n",
        "MERGE (cwedata)-[:HAS_GLOBAL_CATEGORY{weight:0.001742199837897568,source:\"wikipedia-en\",category:\"Unicode\",page_id:720904}]->(cwe)\n",
        "\n",
        "\"\"\"\n",
        "result = conn.query(explore_reviews_csv_query)\n",
        "print(result)"
      ]
    },
    {
      "cell_type": "code",
      "execution_count": 741,
      "metadata": {
        "id": "dRIV7ctqG46x",
        "colab": {
          "base_uri": "https://localhost:8080/"
        },
        "outputId": "660d28f0-5cdb-4d5e-a444-67e0ec75f391"
      },
      "outputs": [
        {
          "output_type": "stream",
          "name": "stdout",
          "text": [
            "[]\n"
          ]
        }
      ],
      "source": [
        "explore_reviews_csv_query = \"\"\"\n",
        "CALL apoc.load.json(\"https://raw.githubusercontent.com/neostrange/CveParse/main/Extended_Descriptions.json\", null, {failOnError:false})\n",
        "YIELD value\n",
        "WITH value  AS data\n",
        "WITH data\n",
        "UNWIND data.Extended_Descriptions[0].CWE.entities as Entities\n",
        "MERGE (entities:Entities{rawName:Entities.`rawName`})\n",
        "  SET \n",
        "   entities.offsetStart = Entities.offsetStart,\n",
        "   entities.offsetEnd = Entities.offsetEnd,\n",
        "   entities.confidence_score = Entities.confidence_score,\n",
        "   entities.wikipediaExternalRef = Entities.wikipediaExternalRef,\n",
        "   entities.wikidataId = Entities.wikidataId\n",
        "\n",
        "\"\"\"\n",
        "result = conn.query(explore_reviews_csv_query)\n",
        "print(result)"
      ]
    },
    {
      "cell_type": "code",
      "execution_count": 742,
      "metadata": {
        "id": "mIOeUSUpOsjm",
        "colab": {
          "base_uri": "https://localhost:8080/"
        },
        "outputId": "f6872c49-3eda-4488-e105-be17836abdff"
      },
      "outputs": [
        {
          "output_type": "stream",
          "name": "stdout",
          "text": [
            "[]\n"
          ]
        }
      ],
      "source": [
        "explore_reviews_csv_query = \"\"\"\n",
        "MERGE (cwedata:Extended_Descriptions {runtime:2992})\n",
        "MERGE (Entities:Entities {rawName:\"Cross-site scripting\"})\n",
        "MERGE (cwedata)-[:HAS_ENTITY]->(Entities)\n",
        "\n",
        "\"\"\"\n",
        "result = conn.query(explore_reviews_csv_query)\n",
        "print(result)"
      ]
    },
    {
      "cell_type": "code",
      "execution_count": 743,
      "metadata": {
        "id": "YcJpCPGkPAAf",
        "colab": {
          "base_uri": "https://localhost:8080/"
        },
        "outputId": "83110f62-c1d4-4deb-f584-164cc936efd6"
      },
      "outputs": [
        {
          "output_type": "stream",
          "name": "stdout",
          "text": [
            "[]\n"
          ]
        }
      ],
      "source": [
        "explore_reviews_csv_query = \"\"\"\n",
        "MERGE (cwedata:Extended_Descriptions {runtime:2992})\n",
        "MERGE (Entities:Entities {rawName:\"XSS\"})\n",
        "MERGE (cwedata)-[:HAS_ENTITY]->(Entities)\n",
        "\n",
        "\"\"\"\n",
        "result = conn.query(explore_reviews_csv_query)\n",
        "print(result)"
      ]
    },
    {
      "cell_type": "code",
      "execution_count": 744,
      "metadata": {
        "id": "jee04c_yPBHC",
        "colab": {
          "base_uri": "https://localhost:8080/"
        },
        "outputId": "10e110e8-04c0-41e0-d9c3-ec6509623ac4"
      },
      "outputs": [
        {
          "output_type": "stream",
          "name": "stdout",
          "text": [
            "[]\n"
          ]
        }
      ],
      "source": [
        "explore_reviews_csv_query = \"\"\"\n",
        "MERGE (cwedata:Extended_Descriptions {runtime:2992})\n",
        "MERGE (Entities:Entities {rawName:\"vulnerabilities\"})\n",
        "MERGE (cwedata)-[:HAS_ENTITY]->(Entities)\n",
        "\n",
        "\"\"\"\n",
        "result = conn.query(explore_reviews_csv_query)\n",
        "print(result)"
      ]
    },
    {
      "cell_type": "code",
      "execution_count": 745,
      "metadata": {
        "id": "UdVmWpjUPCBB",
        "colab": {
          "base_uri": "https://localhost:8080/"
        },
        "outputId": "3001bbdd-1db8-4fd0-a7c3-4e17dbf93cb4"
      },
      "outputs": [
        {
          "output_type": "stream",
          "name": "stdout",
          "text": [
            "[]\n"
          ]
        }
      ],
      "source": [
        "explore_reviews_csv_query = \"\"\"\n",
        "MERGE (cwedata:Extended_Descriptions {runtime:2992})\n",
        "MERGE (Entities:Entities {rawName:\"Untrusted\"})\n",
        "MERGE (cwedata)-[:HAS_ENTITY]->(Entities)\n",
        "\n",
        "\"\"\"\n",
        "result = conn.query(explore_reviews_csv_query)\n",
        "print(result)"
      ]
    },
    {
      "cell_type": "code",
      "execution_count": 746,
      "metadata": {
        "id": "g7qNMclPPDJ_",
        "colab": {
          "base_uri": "https://localhost:8080/"
        },
        "outputId": "3b19b997-728b-469c-f0d2-768a4094190d"
      },
      "outputs": [
        {
          "output_type": "stream",
          "name": "stdout",
          "text": [
            "[]\n"
          ]
        }
      ],
      "source": [
        "explore_reviews_csv_query = \"\"\"\n",
        "MERGE (cwedata:Extended_Descriptions {runtime:2992})\n",
        "MERGE (Entities:Entities {rawName:\"enters\"})\n",
        "MERGE (cwedata)-[:HAS_ENTITY]->(Entities)\n",
        "\n",
        "\"\"\"\n",
        "result = conn.query(explore_reviews_csv_query)\n",
        "print(result)"
      ]
    },
    {
      "cell_type": "code",
      "execution_count": 747,
      "metadata": {
        "id": "0rxrRVfEPEHO",
        "colab": {
          "base_uri": "https://localhost:8080/"
        },
        "outputId": "dd52fae2-5ab3-4398-c7b5-44971e10d2b8"
      },
      "outputs": [
        {
          "output_type": "stream",
          "name": "stdout",
          "text": [
            "[]\n"
          ]
        }
      ],
      "source": [
        "explore_reviews_csv_query = \"\"\"\n",
        "MERGE (cwedata:Extended_Descriptions {runtime:2992})\n",
        "MERGE (Entities:Entities {rawName:\"web application\"})\n",
        "MERGE (cwedata)-[:HAS_ENTITY]->(Entities)\n",
        "\n",
        "\"\"\"\n",
        "result = conn.query(explore_reviews_csv_query)\n",
        "print(result)"
      ]
    },
    {
      "cell_type": "code",
      "execution_count": 748,
      "metadata": {
        "id": "ZNEyBv7xPFZ8",
        "colab": {
          "base_uri": "https://localhost:8080/"
        },
        "outputId": "33ea09f7-5552-4b38-fcae-127afca0a0d1"
      },
      "outputs": [
        {
          "output_type": "stream",
          "name": "stdout",
          "text": [
            "[]\n"
          ]
        }
      ],
      "source": [
        "explore_reviews_csv_query = \"\"\"\n",
        "MERGE (cwedata:Extended_Descriptions {runtime:2992})\n",
        "MERGE (Entities:Entities {rawName:\"web request\"})\n",
        "MERGE (cwedata)-[:HAS_ENTITY]->(Entities)\n",
        "\n",
        "\"\"\"\n",
        "result = conn.query(explore_reviews_csv_query)\n",
        "print(result)"
      ]
    },
    {
      "cell_type": "code",
      "execution_count": 749,
      "metadata": {
        "id": "w6K9LwO6PGcy",
        "colab": {
          "base_uri": "https://localhost:8080/"
        },
        "outputId": "1b3cb369-de08-480a-ae57-5fc6fe0b1fa8"
      },
      "outputs": [
        {
          "output_type": "stream",
          "name": "stdout",
          "text": [
            "[]\n"
          ]
        }
      ],
      "source": [
        "explore_reviews_csv_query = \"\"\"\n",
        "MERGE (cwedata:Extended_Descriptions {runtime:2992})\n",
        "MERGE (Entities:Entities {rawName:\"2\"})\n",
        "MERGE (cwedata)-[:HAS_ENTITY]->(Entities)\n",
        "\n",
        "\"\"\"\n",
        "result = conn.query(explore_reviews_csv_query)\n",
        "print(result)"
      ]
    },
    {
      "cell_type": "code",
      "execution_count": 750,
      "metadata": {
        "id": "Xspm_zyiPHga",
        "colab": {
          "base_uri": "https://localhost:8080/"
        },
        "outputId": "50c3603a-454c-4282-fddd-d11002136e1e"
      },
      "outputs": [
        {
          "output_type": "stream",
          "name": "stdout",
          "text": [
            "[]\n"
          ]
        }
      ],
      "source": [
        "explore_reviews_csv_query = \"\"\"\n",
        "MERGE (cwedata:Extended_Descriptions {runtime:2992})\n",
        "MERGE (Entities:Entities {rawName:\"dynamically generates\"})\n",
        "MERGE (cwedata)-[:HAS_ENTITY]->(Entities)\n",
        "\n",
        "\"\"\"\n",
        "result = conn.query(explore_reviews_csv_query)\n",
        "print(result)"
      ]
    },
    {
      "cell_type": "code",
      "execution_count": 751,
      "metadata": {
        "id": "5hZ92vStPIqL",
        "colab": {
          "base_uri": "https://localhost:8080/"
        },
        "outputId": "93ecdeb4-5215-47bc-a0d8-d184631047b1"
      },
      "outputs": [
        {
          "output_type": "stream",
          "name": "stdout",
          "text": [
            "[]\n"
          ]
        }
      ],
      "source": [
        "explore_reviews_csv_query = \"\"\"\n",
        "MERGE (cwedata:Extended_Descriptions {runtime:2992})\n",
        "MERGE (Entities:Entities {rawName:\"web page\"})\n",
        "MERGE (cwedata)-[:HAS_ENTITY]->(Entities)\n",
        "\n",
        "\"\"\"\n",
        "result = conn.query(explore_reviews_csv_query)\n",
        "print(result)"
      ]
    },
    {
      "cell_type": "code",
      "execution_count": 752,
      "metadata": {
        "id": "oYdtVqnlPKJY",
        "colab": {
          "base_uri": "https://localhost:8080/"
        },
        "outputId": "45c81bb3-26c9-4bf6-ff87-97bc5e7a1b5c"
      },
      "outputs": [
        {
          "output_type": "stream",
          "name": "stdout",
          "text": [
            "[]\n"
          ]
        }
      ],
      "source": [
        "explore_reviews_csv_query = \"\"\"\n",
        "MERGE (cwedata:Extended_Descriptions {runtime:2992})\n",
        "MERGE (Entities:Entities {rawName:\"web browser\"})\n",
        "MERGE (cwedata)-[:HAS_ENTITY]->(Entities)\n",
        "\n",
        "\"\"\"\n",
        "result = conn.query(explore_reviews_csv_query)\n",
        "print(result)"
      ]
    },
    {
      "cell_type": "code",
      "execution_count": 753,
      "metadata": {
        "id": "wcAf0GbIPJ_p",
        "colab": {
          "base_uri": "https://localhost:8080/"
        },
        "outputId": "c8b377b7-554c-4434-cf46-dd6b46210320"
      },
      "outputs": [
        {
          "output_type": "stream",
          "name": "stdout",
          "text": [
            "[]\n"
          ]
        }
      ],
      "source": [
        "explore_reviews_csv_query = \"\"\"\n",
        "MERGE (cwedata:Extended_Descriptions {runtime:2992})\n",
        "MERGE (Entities:Entities {rawName:\"JavaScript\"})\n",
        "MERGE (cwedata)-[:HAS_ENTITY]->(Entities)\n",
        "\n",
        "\"\"\"\n",
        "result = conn.query(explore_reviews_csv_query)\n",
        "print(result)"
      ]
    },
    {
      "cell_type": "code",
      "execution_count": 754,
      "metadata": {
        "id": "PTJgYrsRPJ84",
        "colab": {
          "base_uri": "https://localhost:8080/"
        },
        "outputId": "928e748d-5bef-4e57-b882-6f4d94daf5cf"
      },
      "outputs": [
        {
          "output_type": "stream",
          "name": "stdout",
          "text": [
            "[]\n"
          ]
        }
      ],
      "source": [
        "explore_reviews_csv_query = \"\"\"\n",
        "MERGE (cwedata:Extended_Descriptions {runtime:2992})\n",
        "MERGE (Entities:Entities {rawName:\"HTML\"})\n",
        "MERGE (cwedata)-[:HAS_ENTITY]->(Entities)\n",
        "\n",
        "\"\"\"\n",
        "result = conn.query(explore_reviews_csv_query)\n",
        "print(result)"
      ]
    },
    {
      "cell_type": "code",
      "execution_count": 755,
      "metadata": {
        "id": "yZiwXcidPJ6I",
        "colab": {
          "base_uri": "https://localhost:8080/"
        },
        "outputId": "a400d705-4ed0-473b-dc6d-7b6187763374"
      },
      "outputs": [
        {
          "output_type": "stream",
          "name": "stdout",
          "text": [
            "[]\n"
          ]
        }
      ],
      "source": [
        "explore_reviews_csv_query = \"\"\"\n",
        "MERGE (cwedata:Extended_Descriptions {runtime:2992})\n",
        "MERGE (Entities:Entities {rawName:\"tags\"})\n",
        "MERGE (cwedata)-[:HAS_ENTITY]->(Entities)\n",
        "\n",
        "\"\"\"\n",
        "result = conn.query(explore_reviews_csv_query)\n",
        "print(result)"
      ]
    },
    {
      "cell_type": "code",
      "execution_count": 756,
      "metadata": {
        "id": "4AE4pyDuPJ3X",
        "colab": {
          "base_uri": "https://localhost:8080/"
        },
        "outputId": "6ffb0277-9a0d-42ad-92d8-b1107b8d0ff3"
      },
      "outputs": [
        {
          "output_type": "stream",
          "name": "stdout",
          "text": [
            "[]\n"
          ]
        }
      ],
      "source": [
        "explore_reviews_csv_query = \"\"\"\n",
        "MERGE (cwedata:Extended_Descriptions {runtime:2992})\n",
        "MERGE (Entities:Entities {rawName:\"HTML attributes\"})\n",
        "MERGE (cwedata)-[:HAS_ENTITY]->(Entities)\n",
        "\n",
        "\"\"\"\n",
        "result = conn.query(explore_reviews_csv_query)\n",
        "print(result)"
      ]
    },
    {
      "cell_type": "code",
      "execution_count": 757,
      "metadata": {
        "id": "hgDrxY0IPJ0i",
        "colab": {
          "base_uri": "https://localhost:8080/"
        },
        "outputId": "365cb520-d1dd-4cf5-f111-b06ddc82ad2a"
      },
      "outputs": [
        {
          "output_type": "stream",
          "name": "stdout",
          "text": [
            "[]\n"
          ]
        }
      ],
      "source": [
        "explore_reviews_csv_query = \"\"\"\n",
        "MERGE (cwedata:Extended_Descriptions {runtime:2992})\n",
        "MERGE (Entities:Entities {rawName:\"Flash\"})\n",
        "MERGE (cwedata)-[:HAS_ENTITY]->(Entities)\n",
        "\n",
        "\"\"\"\n",
        "result = conn.query(explore_reviews_csv_query)\n",
        "print(result)"
      ]
    },
    {
      "cell_type": "code",
      "execution_count": 758,
      "metadata": {
        "id": "J_gfL7EgPJxe",
        "colab": {
          "base_uri": "https://localhost:8080/"
        },
        "outputId": "2f858c00-67fe-444b-ed68-aef761c5186e"
      },
      "outputs": [
        {
          "output_type": "stream",
          "name": "stdout",
          "text": [
            "[]\n"
          ]
        }
      ],
      "source": [
        "explore_reviews_csv_query = \"\"\"\n",
        "MERGE (cwedata:Extended_Descriptions {runtime:2992})\n",
        "MERGE (Entities:Entities {rawName:\"ActiveX\"})\n",
        "MERGE (cwedata)-[:HAS_ENTITY]->(Entities)\n",
        "\n",
        "\"\"\"\n",
        "result = conn.query(explore_reviews_csv_query)\n",
        "print(result)"
      ]
    },
    {
      "cell_type": "code",
      "execution_count": 759,
      "metadata": {
        "id": "x7GH6B4oPJuS",
        "colab": {
          "base_uri": "https://localhost:8080/"
        },
        "outputId": "3de73dac-d19b-4a95-d02c-8e5dab3277f6"
      },
      "outputs": [
        {
          "output_type": "stream",
          "name": "stdout",
          "text": [
            "[]\n"
          ]
        }
      ],
      "source": [
        "explore_reviews_csv_query = \"\"\"\n",
        "MERGE (cwedata:Extended_Descriptions {runtime:2992})\n",
        "MERGE (Entities:Entities {rawName:\"malicious\"})\n",
        "MERGE (cwedata)-[:HAS_ENTITY]->(Entities)\n",
        "\n",
        "\"\"\"\n",
        "result = conn.query(explore_reviews_csv_query)\n",
        "print(result)"
      ]
    },
    {
      "cell_type": "code",
      "execution_count": 760,
      "metadata": {
        "id": "C8NP4HuKRdRA",
        "colab": {
          "base_uri": "https://localhost:8080/"
        },
        "outputId": "edf6c9d4-a843-425e-fc45-7f7ec4987ba3"
      },
      "outputs": [
        {
          "output_type": "stream",
          "name": "stdout",
          "text": [
            "[]\n"
          ]
        }
      ],
      "source": [
        "explore_reviews_csv_query = \"\"\"\n",
        "MERGE (cwedata:Extended_Descriptions {runtime:2992})\n",
        "MERGE (Entities:Entities {rawName:\"injected\"})\n",
        "MERGE (cwedata)-[:HAS_ENTITY]->(Entities)\n",
        "\n",
        "\"\"\"\n",
        "result = conn.query(explore_reviews_csv_query)\n",
        "print(result)"
      ]
    },
    {
      "cell_type": "code",
      "execution_count": 761,
      "metadata": {
        "id": "9pvzAXNQRdC0",
        "colab": {
          "base_uri": "https://localhost:8080/"
        },
        "outputId": "a5cf80cb-4c23-477d-f67e-28bb03166bf9"
      },
      "outputs": [
        {
          "output_type": "stream",
          "name": "stdout",
          "text": [
            "[]\n"
          ]
        }
      ],
      "source": [
        "explore_reviews_csv_query = \"\"\"\n",
        "MERGE (cwedata:Extended_Descriptions {runtime:2992})\n",
        "MERGE (Entities:Entities {rawName:\"web server\"})\n",
        "MERGE (cwedata)-[:HAS_ENTITY]->(Entities)\n",
        "\n",
        "\"\"\"\n",
        "result = conn.query(explore_reviews_csv_query)\n",
        "print(result)"
      ]
    },
    {
      "cell_type": "code",
      "execution_count": 762,
      "metadata": {
        "id": "GImUK4nxRcuN",
        "colab": {
          "base_uri": "https://localhost:8080/"
        },
        "outputId": "dbe3a2f9-103a-4fe5-a87b-8d42fe71b689"
      },
      "outputs": [
        {
          "output_type": "stream",
          "name": "stdout",
          "text": [
            "[]\n"
          ]
        }
      ],
      "source": [
        "explore_reviews_csv_query = \"\"\"\n",
        "MERGE (cwedata:Extended_Descriptions {runtime:2992})\n",
        "MERGE (Entities:Entities {rawName:\"executes\"})\n",
        "MERGE (cwedata)-[:HAS_ENTITY]->(Entities)\n",
        "\n",
        "\"\"\"\n",
        "result = conn.query(explore_reviews_csv_query)\n",
        "print(result)"
      ]
    },
    {
      "cell_type": "code",
      "execution_count": 763,
      "metadata": {
        "id": "pIEaCHgBRcp5",
        "colab": {
          "base_uri": "https://localhost:8080/"
        },
        "outputId": "0dfaf8ce-f34c-4a2f-923e-c6a4328dbd95"
      },
      "outputs": [
        {
          "output_type": "stream",
          "name": "stdout",
          "text": [
            "[]\n"
          ]
        }
      ],
      "source": [
        "explore_reviews_csv_query = \"\"\"\n",
        "MERGE (cwedata:Extended_Descriptions {runtime:2992})\n",
        "MERGE (Entities:Entities {rawName:\"violates\"})\n",
        "MERGE (cwedata)-[:HAS_ENTITY]->(Entities)\n",
        "\n",
        "\"\"\"\n",
        "result = conn.query(explore_reviews_csv_query)\n",
        "print(result)"
      ]
    },
    {
      "cell_type": "code",
      "execution_count": 764,
      "metadata": {
        "id": "MOnDlutcRclm",
        "colab": {
          "base_uri": "https://localhost:8080/"
        },
        "outputId": "0bad75fa-0dae-4bde-c1d0-860016cd3206"
      },
      "outputs": [
        {
          "output_type": "stream",
          "name": "stdout",
          "text": [
            "[]\n"
          ]
        }
      ],
      "source": [
        "explore_reviews_csv_query = \"\"\"\n",
        "MERGE (cwedata:Extended_Descriptions {runtime:2992})\n",
        "MERGE (Entities:Entities {rawName:\"web browser's\"})\n",
        "MERGE (cwedata)-[:HAS_ENTITY]->(Entities)\n",
        "\n",
        "\"\"\"\n",
        "result = conn.query(explore_reviews_csv_query)\n",
        "print(result)"
      ]
    },
    {
      "cell_type": "code",
      "execution_count": 765,
      "metadata": {
        "id": "h51goGJERchY",
        "colab": {
          "base_uri": "https://localhost:8080/"
        },
        "outputId": "955d6d52-3535-4fba-a86b-54e3c03a3558"
      },
      "outputs": [
        {
          "output_type": "stream",
          "name": "stdout",
          "text": [
            "[]\n"
          ]
        }
      ],
      "source": [
        "explore_reviews_csv_query = \"\"\"\n",
        "MERGE (cwedata:Extended_Descriptions {runtime:2992})\n",
        "MERGE (Entities:Entities {rawName:\"same-origin policy\"})\n",
        "MERGE (cwedata)-[:HAS_ENTITY]->(Entities)\n",
        "\n",
        "\"\"\"\n",
        "result = conn.query(explore_reviews_csv_query)\n",
        "print(result)"
      ]
    },
    {
      "cell_type": "code",
      "execution_count": 766,
      "metadata": {
        "id": "gLmOafNIRcVD",
        "colab": {
          "base_uri": "https://localhost:8080/"
        },
        "outputId": "d9e61276-b2e0-44c9-e949-2757040b1b94"
      },
      "outputs": [
        {
          "output_type": "stream",
          "name": "stdout",
          "text": [
            "[]\n"
          ]
        }
      ],
      "source": [
        "explore_reviews_csv_query = \"\"\"\n",
        "MERGE (cwedata:Extended_Descriptions {runtime:2992})\n",
        "MERGE (Entities:Entities {rawName:\"scripts\"})\n",
        "MERGE (cwedata)-[:HAS_ENTITY]->(Entities)\n",
        "\n",
        "\"\"\"\n",
        "result = conn.query(explore_reviews_csv_query)\n",
        "print(result)"
      ]
    },
    {
      "cell_type": "code",
      "execution_count": 767,
      "metadata": {
        "id": "Ufh4XynaRl66",
        "colab": {
          "base_uri": "https://localhost:8080/"
        },
        "outputId": "ad98e2f7-35d5-43c5-9c89-8e3e1cbbcd4a"
      },
      "outputs": [
        {
          "output_type": "stream",
          "name": "stdout",
          "text": [
            "[]\n"
          ]
        }
      ],
      "source": [
        "explore_reviews_csv_query = \"\"\"\n",
        "MERGE (cwedata:Extended_Descriptions {runtime:2992})\n",
        "MERGE (Entities:Entities {rawName:\"Type 1\"})\n",
        "MERGE (cwedata)-[:HAS_ENTITY]->(Entities)\n",
        "\n",
        "\"\"\"\n",
        "result = conn.query(explore_reviews_csv_query)\n",
        "print(result)"
      ]
    },
    {
      "cell_type": "code",
      "execution_count": 768,
      "metadata": {
        "id": "Z_6gx7j-RlrL",
        "colab": {
          "base_uri": "https://localhost:8080/"
        },
        "outputId": "b5aa99ff-27ed-4b9e-b4a3-cd8c5d944c4b"
      },
      "outputs": [
        {
          "output_type": "stream",
          "name": "stdout",
          "text": [
            "[]\n"
          ]
        }
      ],
      "source": [
        "explore_reviews_csv_query = \"\"\"\n",
        "MERGE (cwedata:Extended_Descriptions {runtime:2992})\n",
        "MERGE (Entities:Entities {rawName:\"Reflected XSS\"})\n",
        "MERGE (cwedata)-[:HAS_ENTITY]->(Entities)\n",
        "\n",
        "\"\"\"\n",
        "result = conn.query(explore_reviews_csv_query)\n",
        "print(result)"
      ]
    },
    {
      "cell_type": "code",
      "execution_count": 769,
      "metadata": {
        "id": "niHFAIQLRlmZ",
        "colab": {
          "base_uri": "https://localhost:8080/"
        },
        "outputId": "2074cd74-599e-4b5b-e724-23243f5e3908"
      },
      "outputs": [
        {
          "output_type": "stream",
          "name": "stdout",
          "text": [
            "[]\n"
          ]
        }
      ],
      "source": [
        "explore_reviews_csv_query = \"\"\"\n",
        "MERGE (cwedata:Extended_Descriptions {runtime:2992})\n",
        "MERGE (Entities:Entities {rawName:\"Persistent\"})\n",
        "MERGE (cwedata)-[:HAS_ENTITY]->(Entities)\n",
        "\n",
        "\"\"\"\n",
        "result = conn.query(explore_reviews_csv_query)\n",
        "print(result)"
      ]
    },
    {
      "cell_type": "code",
      "execution_count": 770,
      "metadata": {
        "id": "axItueCJRlWr",
        "colab": {
          "base_uri": "https://localhost:8080/"
        },
        "outputId": "98d66720-a4f5-4fc8-e8a4-cb03af2ef72c"
      },
      "outputs": [
        {
          "output_type": "stream",
          "name": "stdout",
          "text": [
            "[]\n"
          ]
        }
      ],
      "source": [
        "explore_reviews_csv_query = \"\"\"\n",
        "MERGE (cwedata:Extended_Descriptions {runtime:2992})\n",
        "MERGE (Entities:Entities {rawName:\"HTTP request\"})\n",
        "MERGE (cwedata)-[:HAS_ENTITY]->(Entities)\n",
        "\n",
        "\"\"\"\n",
        "result = conn.query(explore_reviews_csv_query)\n",
        "print(result)"
      ]
    },
    {
      "cell_type": "code",
      "execution_count": 771,
      "metadata": {
        "id": "Uag8yv-zRlSI",
        "colab": {
          "base_uri": "https://localhost:8080/"
        },
        "outputId": "03903efa-c59a-4549-8114-772c78d0cc7b"
      },
      "outputs": [
        {
          "output_type": "stream",
          "name": "stdout",
          "text": [
            "[]\n"
          ]
        }
      ],
      "source": [
        "explore_reviews_csv_query = \"\"\"\n",
        "MERGE (cwedata:Extended_Descriptions {runtime:2992})\n",
        "MERGE (Entities:Entities {rawName:\"HTTP response\"})\n",
        "MERGE (cwedata)-[:HAS_ENTITY]->(Entities)\n",
        "\n",
        "\"\"\"\n",
        "result = conn.query(explore_reviews_csv_query)\n",
        "print(result)"
      ]
    },
    {
      "cell_type": "code",
      "execution_count": 772,
      "metadata": {
        "id": "Vx8uPVUZRlNd",
        "colab": {
          "base_uri": "https://localhost:8080/"
        },
        "outputId": "be89c20e-139e-429b-c4f2-8d85257e37db"
      },
      "outputs": [
        {
          "output_type": "stream",
          "name": "stdout",
          "text": [
            "[]\n"
          ]
        }
      ],
      "source": [
        "explore_reviews_csv_query = \"\"\"\n",
        "MERGE (cwedata:Extended_Descriptions {runtime:2992})\n",
        "MERGE (Entities:Entities {rawName:\"exploits\"})\n",
        "MERGE (cwedata)-[:HAS_ENTITY]->(Entities)\n",
        "\n",
        "\"\"\"\n",
        "result = conn.query(explore_reviews_csv_query)\n",
        "print(result)"
      ]
    },
    {
      "cell_type": "code",
      "execution_count": 773,
      "metadata": {
        "id": "oMjjzdhGRq4P",
        "colab": {
          "base_uri": "https://localhost:8080/"
        },
        "outputId": "feb29bbf-ea4b-478e-ca7b-c4e26bc1132a"
      },
      "outputs": [
        {
          "output_type": "stream",
          "name": "stdout",
          "text": [
            "[]\n"
          ]
        }
      ],
      "source": [
        "explore_reviews_csv_query = \"\"\"\n",
        "MERGE (cwedata:Extended_Descriptions {runtime:2992})\n",
        "MERGE (Entities:Entities {rawName:\"attacker\"})\n",
        "MERGE (cwedata)-[:HAS_ENTITY]->(Entities)\n",
        "\n",
        "\"\"\"\n",
        "result = conn.query(explore_reviews_csv_query)\n",
        "print(result)"
      ]
    },
    {
      "cell_type": "code",
      "execution_count": 774,
      "metadata": {
        "id": "PZUGJvXSRqm3",
        "colab": {
          "base_uri": "https://localhost:8080/"
        },
        "outputId": "0e803a7e-816e-4026-c970-e15b810d1bb8"
      },
      "outputs": [
        {
          "output_type": "stream",
          "name": "stdout",
          "text": [
            "[]\n"
          ]
        }
      ],
      "source": [
        "explore_reviews_csv_query = \"\"\"\n",
        "MERGE (cwedata:Extended_Descriptions {runtime:2992})\n",
        "MERGE (Entities:Entities {rawName:\"parameter\"})\n",
        "MERGE (cwedata)-[:HAS_ENTITY]->(Entities)\n",
        "\n",
        "\"\"\"\n",
        "result = conn.query(explore_reviews_csv_query)\n",
        "print(result)"
      ]
    },
    {
      "cell_type": "code",
      "execution_count": 775,
      "metadata": {
        "id": "ARr1YMTZRqh4",
        "colab": {
          "base_uri": "https://localhost:8080/"
        },
        "outputId": "501cd645-ac06-413a-bd5c-7e5c6239c183"
      },
      "outputs": [
        {
          "output_type": "stream",
          "name": "stdout",
          "text": [
            "[]\n"
          ]
        }
      ],
      "source": [
        "explore_reviews_csv_query = \"\"\"\n",
        "MERGE (cwedata:Extended_Descriptions {runtime:2992})\n",
        "MERGE (Entities:Entities {rawName:\"URL\"})\n",
        "MERGE (cwedata)-[:HAS_ENTITY]->(Entities)\n",
        "\n",
        "\"\"\"\n",
        "result = conn.query(explore_reviews_csv_query)\n",
        "print(result)"
      ]
    },
    {
      "cell_type": "code",
      "execution_count": 776,
      "metadata": {
        "id": "yH5VykVNRqdA",
        "colab": {
          "base_uri": "https://localhost:8080/"
        },
        "outputId": "37487a1f-b1d0-4986-8335-f055895a24ba"
      },
      "outputs": [
        {
          "output_type": "stream",
          "name": "stdout",
          "text": [
            "[]\n"
          ]
        }
      ],
      "source": [
        "explore_reviews_csv_query = \"\"\"\n",
        "MERGE (cwedata:Extended_Descriptions {runtime:2992})\n",
        "MERGE (Entities:Entities {rawName:\"e-mailed\"})\n",
        "MERGE (cwedata)-[:HAS_ENTITY]->(Entities)\n",
        "\n",
        "\"\"\"\n",
        "result = conn.query(explore_reviews_csv_query)\n",
        "print(result)"
      ]
    },
    {
      "cell_type": "code",
      "execution_count": 777,
      "metadata": {
        "id": "60X7FgPBS-Nm",
        "colab": {
          "base_uri": "https://localhost:8080/"
        },
        "outputId": "bc0ff02d-5718-44ac-bbf1-2cb426940695"
      },
      "outputs": [
        {
          "output_type": "stream",
          "name": "stdout",
          "text": [
            "[]\n"
          ]
        }
      ],
      "source": [
        "explore_reviews_csv_query = \"\"\"\n",
        "MERGE (cwedata:Extended_Descriptions {runtime:2992})\n",
        "MERGE (Entities:Entities {rawName:\"URLs\"})\n",
        "MERGE (cwedata)-[:HAS_ENTITY]->(Entities)\n",
        "\n",
        "\"\"\"\n",
        "result = conn.query(explore_reviews_csv_query)\n",
        "print(result)"
      ]
    },
    {
      "cell_type": "code",
      "execution_count": 778,
      "metadata": {
        "id": "VcInHA6yS-HX",
        "colab": {
          "base_uri": "https://localhost:8080/"
        },
        "outputId": "080be730-d02c-4b09-9d51-4def69bbb819"
      },
      "outputs": [
        {
          "output_type": "stream",
          "name": "stdout",
          "text": [
            "[]\n"
          ]
        }
      ],
      "source": [
        "explore_reviews_csv_query = \"\"\"\n",
        "MERGE (cwedata:Extended_Descriptions {runtime:2992})\n",
        "MERGE (Entities:Entities {rawName:\"phishing\"})\n",
        "MERGE (cwedata)-[:HAS_ENTITY]->(Entities)\n",
        "\n",
        "\"\"\"\n",
        "result = conn.query(explore_reviews_csv_query)\n",
        "print(result)"
      ]
    },
    {
      "cell_type": "code",
      "execution_count": 779,
      "metadata": {
        "id": "aYWCM_mDS-BP",
        "colab": {
          "base_uri": "https://localhost:8080/"
        },
        "outputId": "1aa0b34c-a1fa-4f5d-9ad7-37b463346936"
      },
      "outputs": [
        {
          "output_type": "stream",
          "name": "stdout",
          "text": [
            "[]\n"
          ]
        }
      ],
      "source": [
        "explore_reviews_csv_query = \"\"\"\n",
        "MERGE (cwedata:Extended_Descriptions {runtime:2992})\n",
        "MERGE (Entities:Entities {rawName:\"browser\"})\n",
        "MERGE (cwedata)-[:HAS_ENTITY]->(Entities)\n",
        "\n",
        "\"\"\"\n",
        "result = conn.query(explore_reviews_csv_query)\n",
        "print(result)"
      ]
    },
    {
      "cell_type": "code",
      "execution_count": 780,
      "metadata": {
        "id": "hMXREtiFS97H",
        "colab": {
          "base_uri": "https://localhost:8080/"
        },
        "outputId": "3166a4d6-9bd6-4608-e6e6-f50ae8f09af5"
      },
      "outputs": [
        {
          "output_type": "stream",
          "name": "stdout",
          "text": [
            "[]\n"
          ]
        }
      ],
      "source": [
        "explore_reviews_csv_query = \"\"\"\n",
        "MERGE (cwedata:Extended_Descriptions {runtime:2992})\n",
        "MERGE (Entities:Entities {rawName:\"Type 2\"})\n",
        "MERGE (cwedata)-[:HAS_ENTITY]->(Entities)\n",
        "\n",
        "\"\"\"\n",
        "result = conn.query(explore_reviews_csv_query)\n",
        "print(result)"
      ]
    },
    {
      "cell_type": "code",
      "execution_count": 781,
      "metadata": {
        "id": "hiUnMEsZS9nJ",
        "colab": {
          "base_uri": "https://localhost:8080/"
        },
        "outputId": "efa771a4-358d-4102-ce3b-6a645b27e37f"
      },
      "outputs": [
        {
          "output_type": "stream",
          "name": "stdout",
          "text": [
            "[]\n"
          ]
        }
      ],
      "source": [
        "explore_reviews_csv_query = \"\"\"\n",
        "MERGE (cwedata:Extended_Descriptions {runtime:2992})\n",
        "MERGE (Entities:Entities {rawName:\"Stored XSS\"})\n",
        "MERGE (cwedata)-[:HAS_ENTITY]->(Entities)\n",
        "\n",
        "\"\"\"\n",
        "result = conn.query(explore_reviews_csv_query)\n",
        "print(result)"
      ]
    },
    {
      "cell_type": "code",
      "execution_count": 782,
      "metadata": {
        "id": "IXm7v5qwS9hH",
        "colab": {
          "base_uri": "https://localhost:8080/"
        },
        "outputId": "f833adf2-995d-450e-a84a-11959408b349"
      },
      "outputs": [
        {
          "output_type": "stream",
          "name": "stdout",
          "text": [
            "[]\n"
          ]
        }
      ],
      "source": [
        "explore_reviews_csv_query = \"\"\"\n",
        "MERGE (cwedata:Extended_Descriptions {runtime:2992})\n",
        "MERGE (Entities:Entities {rawName:\"visitor\"})\n",
        "MERGE (cwedata)-[:HAS_ENTITY]->(Entities)\n",
        "\n",
        "\"\"\"\n",
        "result = conn.query(explore_reviews_csv_query)\n",
        "print(result)"
      ]
    },
    {
      "cell_type": "code",
      "execution_count": 783,
      "metadata": {
        "id": "MesdvHaDS9a9",
        "colab": {
          "base_uri": "https://localhost:8080/"
        },
        "outputId": "5d70b9dd-9c6d-48a0-a3a7-dbef27ab84e7"
      },
      "outputs": [
        {
          "output_type": "stream",
          "name": "stdout",
          "text": [
            "[]\n"
          ]
        }
      ],
      "source": [
        "explore_reviews_csv_query = \"\"\"\n",
        "MERGE (cwedata:Extended_Descriptions {runtime:2992})\n",
        "MERGE (Entities:Entities {rawName:\"data store\"})\n",
        "MERGE (cwedata)-[:HAS_ENTITY]->(Entities)\n",
        "\n",
        "\"\"\"\n",
        "result = conn.query(explore_reviews_csv_query)\n",
        "print(result)"
      ]
    },
    {
      "cell_type": "code",
      "execution_count": 784,
      "metadata": {
        "id": "4FqjOOuiTI3U",
        "colab": {
          "base_uri": "https://localhost:8080/"
        },
        "outputId": "bb74d651-ea2a-41ae-acc6-591b4a424824"
      },
      "outputs": [
        {
          "output_type": "stream",
          "name": "stdout",
          "text": [
            "[]\n"
          ]
        }
      ],
      "source": [
        "explore_reviews_csv_query = \"\"\"\n",
        "MERGE (cwedata:Extended_Descriptions {runtime:2992})\n",
        "MERGE (Entities:Entities {rawName:\"dynamic content\"})\n",
        "MERGE (cwedata)-[:HAS_ENTITY]->(Entities)\n",
        "\n",
        "\"\"\"\n",
        "result = conn.query(explore_reviews_csv_query)\n",
        "print(result)"
      ]
    },
    {
      "cell_type": "code",
      "execution_count": 785,
      "metadata": {
        "id": "ZjKAUGIlTInY",
        "colab": {
          "base_uri": "https://localhost:8080/"
        },
        "outputId": "17973200-487e-4274-9754-488c2bed736e"
      },
      "outputs": [
        {
          "output_type": "stream",
          "name": "stdout",
          "text": [
            "[]\n"
          ]
        }
      ],
      "source": [
        "explore_reviews_csv_query = \"\"\"\n",
        "MERGE (cwedata:Extended_Descriptions {runtime:2992})\n",
        "MERGE (Entities:Entities {rawName:\"optimal\"})\n",
        "MERGE (cwedata)-[:HAS_ENTITY]->(Entities)\n",
        "\n",
        "\"\"\"\n",
        "result = conn.query(explore_reviews_csv_query)\n",
        "print(result)"
      ]
    },
    {
      "cell_type": "code",
      "execution_count": 786,
      "metadata": {
        "id": "iW4LgPZHTIg1",
        "colab": {
          "base_uri": "https://localhost:8080/"
        },
        "outputId": "0f25ba48-7b9b-4582-c875-b8a1218a1cb5"
      },
      "outputs": [
        {
          "output_type": "stream",
          "name": "stdout",
          "text": [
            "[]\n"
          ]
        }
      ],
      "source": [
        "explore_reviews_csv_query = \"\"\"\n",
        "MERGE (cwedata:Extended_Descriptions {runtime:2992})\n",
        "MERGE (Entities:Entities {rawName:\"inject\"})\n",
        "MERGE (cwedata)-[:HAS_ENTITY]->(Entities)\n",
        "\n",
        "\"\"\"\n",
        "result = conn.query(explore_reviews_csv_query)\n",
        "print(result)"
      ]
    },
    {
      "cell_type": "code",
      "execution_count": 787,
      "metadata": {
        "id": "ugJMY1PRTIQ9",
        "colab": {
          "base_uri": "https://localhost:8080/"
        },
        "outputId": "5790ae28-f5bb-40c8-ab82-9ad396e67f1b"
      },
      "outputs": [
        {
          "output_type": "stream",
          "name": "stdout",
          "text": [
            "[]\n"
          ]
        }
      ],
      "source": [
        "explore_reviews_csv_query = \"\"\"\n",
        "MERGE (cwedata:Extended_Descriptions {runtime:2992})\n",
        "MERGE (Entities:Entities {rawName:\"Interesting\"})\n",
        "MERGE (cwedata)-[:HAS_ENTITY]->(Entities)\n",
        "\n",
        "\"\"\"\n",
        "result = conn.query(explore_reviews_csv_query)\n",
        "print(result)"
      ]
    },
    {
      "cell_type": "code",
      "execution_count": 788,
      "metadata": {
        "id": "W4uq-1m-TQNu",
        "colab": {
          "base_uri": "https://localhost:8080/"
        },
        "outputId": "33815c4f-382b-4b67-9cc5-652ec88e2f78"
      },
      "outputs": [
        {
          "output_type": "stream",
          "name": "stdout",
          "text": [
            "[]\n"
          ]
        }
      ],
      "source": [
        "explore_reviews_csv_query = \"\"\"\n",
        "MERGE (cwedata:Extended_Descriptions {runtime:2992})\n",
        "MERGE (Entities:Entities {rawName:\"privileges\"})\n",
        "MERGE (cwedata)-[:HAS_ENTITY]->(Entities)\n",
        "\n",
        "\"\"\"\n",
        "result = conn.query(explore_reviews_csv_query)\n",
        "print(result)"
      ]
    },
    {
      "cell_type": "code",
      "execution_count": 789,
      "metadata": {
        "id": "QYbyY26pTQEz",
        "colab": {
          "base_uri": "https://localhost:8080/"
        },
        "outputId": "0b7efbfc-31a5-4198-c994-8d9b9e69d5de"
      },
      "outputs": [
        {
          "output_type": "stream",
          "name": "stdout",
          "text": [
            "[]\n"
          ]
        }
      ],
      "source": [
        "explore_reviews_csv_query = \"\"\"\n",
        "MERGE (cwedata:Extended_Descriptions {runtime:2992})\n",
        "MERGE (Entities:Entities {rawName:\"sensitive data\"})\n",
        "MERGE (cwedata)-[:HAS_ENTITY]->(Entities)\n",
        "\n",
        "\"\"\"\n",
        "result = conn.query(explore_reviews_csv_query)\n",
        "print(result)"
      ]
    },
    {
      "cell_type": "code",
      "execution_count": 790,
      "metadata": {
        "id": "GArvDet8TP8m",
        "colab": {
          "base_uri": "https://localhost:8080/"
        },
        "outputId": "a9ad4a22-12c7-49da-f452-6fdccd4041e2"
      },
      "outputs": [
        {
          "output_type": "stream",
          "name": "stdout",
          "text": [
            "[]\n"
          ]
        }
      ],
      "source": [
        "explore_reviews_csv_query = \"\"\"\n",
        "MERGE (cwedata:Extended_Descriptions {runtime:2992})\n",
        "MERGE (Entities:Entities {rawName:\"privileged\"})\n",
        "MERGE (cwedata)-[:HAS_ENTITY]->(Entities)\n",
        "\n",
        "\"\"\"\n",
        "result = conn.query(explore_reviews_csv_query)\n",
        "print(result)"
      ]
    },
    {
      "cell_type": "code",
      "execution_count": 791,
      "metadata": {
        "id": "xzuOnfXRTP1q",
        "colab": {
          "base_uri": "https://localhost:8080/"
        },
        "outputId": "28e91e2c-2ec5-4665-801e-a341ffd1a730"
      },
      "outputs": [
        {
          "output_type": "stream",
          "name": "stdout",
          "text": [
            "[]\n"
          ]
        }
      ],
      "source": [
        "explore_reviews_csv_query = \"\"\"\n",
        "MERGE (cwedata:Extended_Descriptions {runtime:2992})\n",
        "MERGE (Entities:Entities {rawName:\"gain access\"})\n",
        "MERGE (cwedata)-[:HAS_ENTITY]->(Entities)\n",
        "\n",
        "\"\"\"\n",
        "result = conn.query(explore_reviews_csv_query)\n",
        "print(result)"
      ]
    },
    {
      "cell_type": "code",
      "execution_count": 792,
      "metadata": {
        "id": "vSab3cl0TPns",
        "colab": {
          "base_uri": "https://localhost:8080/"
        },
        "outputId": "95a54be3-405b-4f0c-95ba-b54c6bd89de6"
      },
      "outputs": [
        {
          "output_type": "stream",
          "name": "stdout",
          "text": [
            "[]\n"
          ]
        }
      ],
      "source": [
        "explore_reviews_csv_query = \"\"\"\n",
        "MERGE (cwedata:Extended_Descriptions {runtime:2992})\n",
        "MERGE (Entities:Entities {rawName:\"log message\"})\n",
        "MERGE (cwedata)-[:HAS_ENTITY]->(Entities)\n",
        "\n",
        "\"\"\"\n",
        "result = conn.query(explore_reviews_csv_query)\n",
        "print(result)"
      ]
    },
    {
      "cell_type": "code",
      "execution_count": 793,
      "metadata": {
        "id": "ExuCOQE1TPg0",
        "colab": {
          "base_uri": "https://localhost:8080/"
        },
        "outputId": "88b566e4-a301-4d77-c88b-54fcf5e8a279"
      },
      "outputs": [
        {
          "output_type": "stream",
          "name": "stdout",
          "text": [
            "[]\n"
          ]
        }
      ],
      "source": [
        "explore_reviews_csv_query = \"\"\"\n",
        "MERGE (cwedata:Extended_Descriptions {runtime:2992})\n",
        "MERGE (Entities:Entities {rawName:\"logs\"})\n",
        "MERGE (cwedata)-[:HAS_ENTITY]->(Entities)\n",
        "\n",
        "\"\"\"\n",
        "result = conn.query(explore_reviews_csv_query)\n",
        "print(result)"
      ]
    },
    {
      "cell_type": "code",
      "execution_count": 794,
      "metadata": {
        "id": "ntb6O28tTPVT",
        "colab": {
          "base_uri": "https://localhost:8080/"
        },
        "outputId": "f489b662-ecbb-419e-e16f-4119b73eaf0b"
      },
      "outputs": [
        {
          "output_type": "stream",
          "name": "stdout",
          "text": [
            "[]\n"
          ]
        }
      ],
      "source": [
        "explore_reviews_csv_query = \"\"\"\n",
        "MERGE (cwedata:Extended_Descriptions {runtime:2992})\n",
        "MERGE (Entities:Entities {rawName:\"Type 0\"})\n",
        "MERGE (cwedata)-[:HAS_ENTITY]->(Entities)\n",
        "\n",
        "\"\"\"\n",
        "result = conn.query(explore_reviews_csv_query)\n",
        "print(result)"
      ]
    },
    {
      "cell_type": "code",
      "execution_count": 795,
      "metadata": {
        "id": "b6nJN1SPTPCz",
        "colab": {
          "base_uri": "https://localhost:8080/"
        },
        "outputId": "faac8555-48e2-4cb6-a755-1040462656ca"
      },
      "outputs": [
        {
          "output_type": "stream",
          "name": "stdout",
          "text": [
            "[]\n"
          ]
        }
      ],
      "source": [
        "explore_reviews_csv_query = \"\"\"\n",
        "MERGE (cwedata:Extended_Descriptions {runtime:2992})\n",
        "MERGE (Entities:Entities {rawName:\"DOM\"})\n",
        "MERGE (cwedata)-[:HAS_ENTITY]->(Entities)\n",
        "\n",
        "\"\"\"\n",
        "result = conn.query(explore_reviews_csv_query)\n",
        "print(result)"
      ]
    },
    {
      "cell_type": "code",
      "execution_count": 796,
      "metadata": {
        "id": "GiBJxL-pTO6b",
        "colab": {
          "base_uri": "https://localhost:8080/"
        },
        "outputId": "d2ec75a1-ba86-4028-afdf-27f4ace83955"
      },
      "outputs": [
        {
          "output_type": "stream",
          "name": "stdout",
          "text": [
            "[]\n"
          ]
        }
      ],
      "source": [
        "explore_reviews_csv_query = \"\"\"\n",
        "MERGE (cwedata:Extended_Descriptions {runtime:2992})\n",
        "MERGE (Entities:Entities {rawName:\"Based\"})\n",
        "MERGE (cwedata)-[:HAS_ENTITY]->(Entities)\n",
        "\n",
        "\"\"\"\n",
        "result = conn.query(explore_reviews_csv_query)\n",
        "print(result)"
      ]
    },
    {
      "cell_type": "code",
      "execution_count": 797,
      "metadata": {
        "id": "JV58Xwv3X4oU",
        "colab": {
          "base_uri": "https://localhost:8080/"
        },
        "outputId": "da7c7598-1eba-4729-dc71-4ef611124ca9"
      },
      "outputs": [
        {
          "output_type": "stream",
          "name": "stdout",
          "text": [
            "[]\n"
          ]
        }
      ],
      "source": [
        "explore_reviews_csv_query = \"\"\"\n",
        "MERGE (cwedata:Extended_Descriptions {runtime:2992})\n",
        "MERGE (Entities:Entities {rawName:\"performs\"})\n",
        "MERGE (cwedata)-[:HAS_ENTITY]->(Entities)\n",
        "\n",
        "\"\"\"\n",
        "result = conn.query(explore_reviews_csv_query)\n",
        "print(result)"
      ]
    },
    {
      "cell_type": "code",
      "execution_count": 798,
      "metadata": {
        "id": "pkhMx5ngX4fN",
        "colab": {
          "base_uri": "https://localhost:8080/"
        },
        "outputId": "0b80ce48-5fb1-450a-8d0a-b35c3e44f889"
      },
      "outputs": [
        {
          "output_type": "stream",
          "name": "stdout",
          "text": [
            "[]\n"
          ]
        }
      ],
      "source": [
        "explore_reviews_csv_query = \"\"\"\n",
        "MERGE (cwedata:Extended_Descriptions {runtime:2992})\n",
        "MERGE (Entities:Entities {rawName:\"injection\"})\n",
        "MERGE (cwedata)-[:HAS_ENTITY]->(Entities)\n",
        "\n",
        "\"\"\"\n",
        "result = conn.query(explore_reviews_csv_query)\n",
        "print(result)"
      ]
    },
    {
      "cell_type": "code",
      "execution_count": 799,
      "metadata": {
        "id": "LcR27UhwX4WJ",
        "colab": {
          "base_uri": "https://localhost:8080/"
        },
        "outputId": "1de66593-2f8b-42a1-cb58-8536f1cd83ba"
      },
      "outputs": [
        {
          "output_type": "stream",
          "name": "stdout",
          "text": [
            "[]\n"
          ]
        }
      ],
      "source": [
        "explore_reviews_csv_query = \"\"\"\n",
        "MERGE (cwedata:Extended_Descriptions {runtime:2992})\n",
        "MERGE (Entities:Entities {rawName:\"Javascript\"})\n",
        "MERGE (cwedata)-[:HAS_ENTITY]->(Entities)\n",
        "\n",
        "\"\"\"\n",
        "result = conn.query(explore_reviews_csv_query)\n",
        "print(result)"
      ]
    },
    {
      "cell_type": "code",
      "execution_count": 800,
      "metadata": {
        "id": "Bn7OlSaxX4NQ",
        "colab": {
          "base_uri": "https://localhost:8080/"
        },
        "outputId": "ab578bf3-28ba-417b-9dfb-8c2d34cdfa24"
      },
      "outputs": [
        {
          "output_type": "stream",
          "name": "stdout",
          "text": [
            "[]\n"
          ]
        }
      ],
      "source": [
        "explore_reviews_csv_query = \"\"\"\n",
        "MERGE (cwedata:Extended_Descriptions {runtime:2992})\n",
        "MERGE (Entities:Entities {rawName:\"sanity\"})\n",
        "MERGE (cwedata)-[:HAS_ENTITY]->(Entities)\n",
        "\n",
        "\"\"\"\n",
        "result = conn.query(explore_reviews_csv_query)\n",
        "print(result)"
      ]
    },
    {
      "cell_type": "code",
      "execution_count": 801,
      "metadata": {
        "id": "uJK71QtoX4EM",
        "colab": {
          "base_uri": "https://localhost:8080/"
        },
        "outputId": "77ba72b7-9f11-4926-d1da-8cf37a18685b"
      },
      "outputs": [
        {
          "output_type": "stream",
          "name": "stdout",
          "text": [
            "[]\n"
          ]
        }
      ],
      "source": [
        "explore_reviews_csv_query = \"\"\"\n",
        "MERGE (cwedata:Extended_Descriptions {runtime:2992})\n",
        "MERGE (Entities:Entities {rawName:\"injects\"})\n",
        "MERGE (cwedata)-[:HAS_ENTITY]->(Entities)\n",
        "\n",
        "\"\"\"\n",
        "result = conn.query(explore_reviews_csv_query)\n",
        "print(result)"
      ]
    },
    {
      "cell_type": "code",
      "execution_count": 802,
      "metadata": {
        "id": "uRbrgsnfX37M",
        "colab": {
          "base_uri": "https://localhost:8080/"
        },
        "outputId": "787be849-f916-4024-a8e2-063ca0003106"
      },
      "outputs": [
        {
          "output_type": "stream",
          "name": "stdout",
          "text": [
            "[]\n"
          ]
        }
      ],
      "source": [
        "explore_reviews_csv_query = \"\"\"\n",
        "MERGE (cwedata:Extended_Descriptions {runtime:2992})\n",
        "MERGE (Entities:Entities {rawName:\"dynamic HTML\"})\n",
        "MERGE (cwedata)-[:HAS_ENTITY]->(Entities)\n",
        "\n",
        "\"\"\"\n",
        "result = conn.query(explore_reviews_csv_query)\n",
        "print(result)"
      ]
    },
    {
      "cell_type": "code",
      "execution_count": 803,
      "metadata": {
        "id": "n9qgHjxzX3e_",
        "colab": {
          "base_uri": "https://localhost:8080/"
        },
        "outputId": "1e2501c8-3345-409f-a0cd-1ce0cdb73ed2"
      },
      "outputs": [
        {
          "output_type": "stream",
          "name": "stdout",
          "text": [
            "[]\n"
          ]
        }
      ],
      "source": [
        "explore_reviews_csv_query = \"\"\"\n",
        "MERGE (cwedata:Extended_Descriptions {runtime:2992})\n",
        "MERGE (Entities:Entities {rawName:\"private information\"})\n",
        "MERGE (cwedata)-[:HAS_ENTITY]->(Entities)\n",
        "\n",
        "\"\"\"\n",
        "result = conn.query(explore_reviews_csv_query)\n",
        "print(result)"
      ]
    },
    {
      "cell_type": "code",
      "execution_count": 804,
      "metadata": {
        "id": "Jm6oAOh5X3WG",
        "colab": {
          "base_uri": "https://localhost:8080/"
        },
        "outputId": "f9a0bc7c-0a91-46e3-930b-ccf5c5862640"
      },
      "outputs": [
        {
          "output_type": "stream",
          "name": "stdout",
          "text": [
            "[]\n"
          ]
        }
      ],
      "source": [
        "explore_reviews_csv_query = \"\"\"\n",
        "MERGE (cwedata:Extended_Descriptions {runtime:2992})\n",
        "MERGE (Entities:Entities {rawName:\"web site\"})\n",
        "MERGE (cwedata)-[:HAS_ENTITY]->(Entities)\n",
        "\n",
        "\"\"\"\n",
        "result = conn.query(explore_reviews_csv_query)\n",
        "print(result)"
      ]
    },
    {
      "cell_type": "code",
      "execution_count": 805,
      "metadata": {
        "id": "59g45ZzOX3NA",
        "colab": {
          "base_uri": "https://localhost:8080/"
        },
        "outputId": "e1ce8d81-b81e-4e74-f279-350063b4b3f6"
      },
      "outputs": [
        {
          "output_type": "stream",
          "name": "stdout",
          "text": [
            "[]\n"
          ]
        }
      ],
      "source": [
        "explore_reviews_csv_query = \"\"\"\n",
        "MERGE (cwedata:Extended_Descriptions {runtime:2992})\n",
        "MERGE (Entities:Entities {rawName:\"administrator privileges\"})\n",
        "MERGE (cwedata)-[:HAS_ENTITY]->(Entities)\n",
        "\n",
        "\"\"\"\n",
        "result = conn.query(explore_reviews_csv_query)\n",
        "print(result)"
      ]
    },
    {
      "cell_type": "code",
      "execution_count": 806,
      "metadata": {
        "id": "QKFvaGEIYFaF",
        "colab": {
          "base_uri": "https://localhost:8080/"
        },
        "outputId": "cb2115fe-c6c5-4ebe-e4f1-6ef96a3c9b63"
      },
      "outputs": [
        {
          "output_type": "stream",
          "name": "stdout",
          "text": [
            "[]\n"
          ]
        }
      ],
      "source": [
        "explore_reviews_csv_query = \"\"\"\n",
        "MERGE (cwedata:Extended_Descriptions {runtime:2992})\n",
        "MERGE (Entities:Entities {rawName:\"Phishing attacks\"})\n",
        "MERGE (cwedata)-[:HAS_ENTITY]->(Entities)\n",
        "\n",
        "\"\"\"\n",
        "result = conn.query(explore_reviews_csv_query)\n",
        "print(result)"
      ]
    },
    {
      "cell_type": "code",
      "execution_count": 807,
      "metadata": {
        "id": "vqPT8clcYFP-",
        "colab": {
          "base_uri": "https://localhost:8080/"
        },
        "outputId": "24c6a9c6-bfe9-4e49-f1fd-32cae9b8d157"
      },
      "outputs": [
        {
          "output_type": "stream",
          "name": "stdout",
          "text": [
            "[]\n"
          ]
        }
      ],
      "source": [
        "explore_reviews_csv_query = \"\"\"\n",
        "MERGE (cwedata:Extended_Descriptions {runtime:2992})\n",
        "MERGE (Entities:Entities {rawName:\"emulate\"})\n",
        "MERGE (cwedata)-[:HAS_ENTITY]->(Entities)\n",
        "\n",
        "\"\"\"\n",
        "result = conn.query(explore_reviews_csv_query)\n",
        "print(result)"
      ]
    },
    {
      "cell_type": "code",
      "execution_count": 808,
      "metadata": {
        "id": "wWKUTpzgYFF-",
        "colab": {
          "base_uri": "https://localhost:8080/"
        },
        "outputId": "abbcab7f-45f8-4d1f-a677-b4f366b7243b"
      },
      "outputs": [
        {
          "output_type": "stream",
          "name": "stdout",
          "text": [
            "[]\n"
          ]
        }
      ],
      "source": [
        "explore_reviews_csv_query = \"\"\"\n",
        "MERGE (cwedata:Extended_Descriptions {runtime:2992})\n",
        "MERGE (Entities:Entities {rawName:\"web sites\"})\n",
        "MERGE (cwedata)-[:HAS_ENTITY]->(Entities)\n",
        "\n",
        "\"\"\"\n",
        "result = conn.query(explore_reviews_csv_query)\n",
        "print(result)"
      ]
    },
    {
      "cell_type": "code",
      "execution_count": 809,
      "metadata": {
        "id": "S3zNzeHdYEyT",
        "colab": {
          "base_uri": "https://localhost:8080/"
        },
        "outputId": "79836c5c-0ed5-4e67-e822-f98d63f13f8d"
      },
      "outputs": [
        {
          "output_type": "stream",
          "name": "stdout",
          "text": [
            "[]\n"
          ]
        }
      ],
      "source": [
        "explore_reviews_csv_query = \"\"\"\n",
        "MERGE (cwedata:Extended_Descriptions {runtime:2992})\n",
        "MERGE (Entities:Entities {rawName:\"Finally\"})\n",
        "MERGE (cwedata)-[:HAS_ENTITY]->(Entities)\n",
        "\n",
        "\"\"\"\n",
        "result = conn.query(explore_reviews_csv_query)\n",
        "print(result)"
      ]
    },
    {
      "cell_type": "code",
      "execution_count": 810,
      "metadata": {
        "id": "xGgazzaDYEor",
        "colab": {
          "base_uri": "https://localhost:8080/"
        },
        "outputId": "4ac00498-bc6b-47a3-d8ae-778c8e591e61"
      },
      "outputs": [
        {
          "output_type": "stream",
          "name": "stdout",
          "text": [
            "[]\n"
          ]
        }
      ],
      "source": [
        "explore_reviews_csv_query = \"\"\"\n",
        "MERGE (cwedata:Extended_Descriptions {runtime:2992})\n",
        "MERGE (Entities:Entities {rawName:\"exploit\"})\n",
        "MERGE (cwedata)-[:HAS_ENTITY]->(Entities)\n",
        "\n",
        "\"\"\"\n",
        "result = conn.query(explore_reviews_csv_query)\n",
        "print(result)"
      ]
    },
    {
      "cell_type": "code",
      "execution_count": 811,
      "metadata": {
        "id": "obUcNvicYEfA",
        "colab": {
          "base_uri": "https://localhost:8080/"
        },
        "outputId": "e6123ecc-19fd-4655-ebed-f9a5e81ecf67"
      },
      "outputs": [
        {
          "output_type": "stream",
          "name": "stdout",
          "text": [
            "[]\n"
          ]
        }
      ],
      "source": [
        "explore_reviews_csv_query = \"\"\"\n",
        "MERGE (cwedata:Extended_Descriptions {runtime:2992})\n",
        "MERGE (Entities:Entities {rawName:\"vulnerability\"})\n",
        "MERGE (cwedata)-[:HAS_ENTITY]->(Entities)\n",
        "\n",
        "\"\"\"\n",
        "result = conn.query(explore_reviews_csv_query)\n",
        "print(result)"
      ]
    },
    {
      "cell_type": "code",
      "execution_count": 812,
      "metadata": {
        "id": "RTYoj2KGYEVL",
        "colab": {
          "base_uri": "https://localhost:8080/"
        },
        "outputId": "f6573f32-b668-4eec-a88a-faec4f1f2e8e"
      },
      "outputs": [
        {
          "output_type": "stream",
          "name": "stdout",
          "text": [
            "[]\n"
          ]
        }
      ],
      "source": [
        "explore_reviews_csv_query = \"\"\"\n",
        "MERGE (cwedata:Extended_Descriptions {runtime:2992})\n",
        "MERGE (Entities:Entities {rawName:\"drive-by\"})\n",
        "MERGE (cwedata)-[:HAS_ENTITY]->(Entities)\n",
        "\n",
        "\"\"\"\n",
        "result = conn.query(explore_reviews_csv_query)\n",
        "print(result)"
      ]
    },
    {
      "cell_type": "code",
      "execution_count": 813,
      "metadata": {
        "id": "PHNu4lnnYECa",
        "colab": {
          "base_uri": "https://localhost:8080/"
        },
        "outputId": "c78424a5-0862-473d-c0cc-caba774f826a"
      },
      "outputs": [
        {
          "output_type": "stream",
          "name": "stdout",
          "text": [
            "[]\n"
          ]
        }
      ],
      "source": [
        "explore_reviews_csv_query = \"\"\"\n",
        "MERGE (cwedata:Extended_Descriptions {runtime:2992})\n",
        "MERGE (Entities:Entities {rawName:\"hacking\"})\n",
        "MERGE (cwedata)-[:HAS_ENTITY]->(Entities)\n",
        "\n",
        "\"\"\"\n",
        "result = conn.query(explore_reviews_csv_query)\n",
        "print(result)"
      ]
    },
    {
      "cell_type": "code",
      "execution_count": 814,
      "metadata": {
        "id": "QT3hOtHsYD40",
        "colab": {
          "base_uri": "https://localhost:8080/"
        },
        "outputId": "9ae5b50c-936c-4e44-ede7-b79202dfff0b"
      },
      "outputs": [
        {
          "output_type": "stream",
          "name": "stdout",
          "text": [
            "[]\n"
          ]
        }
      ],
      "source": [
        "explore_reviews_csv_query = \"\"\"\n",
        "MERGE (cwedata:Extended_Descriptions {runtime:2992})\n",
        "MERGE (Entities:Entities {rawName:\"attackers\"})\n",
        "MERGE (cwedata)-[:HAS_ENTITY]->(Entities)\n",
        "\n",
        "\"\"\"\n",
        "result = conn.query(explore_reviews_csv_query)\n",
        "print(result)"
      ]
    },
    {
      "cell_type": "code",
      "execution_count": 815,
      "metadata": {
        "id": "jT3Kbpz0Z2Z7",
        "colab": {
          "base_uri": "https://localhost:8080/"
        },
        "outputId": "bd8500eb-87df-4abf-8b8f-ddfac273f33f"
      },
      "outputs": [
        {
          "output_type": "stream",
          "name": "stdout",
          "text": [
            "[]\n"
          ]
        }
      ],
      "source": [
        "explore_reviews_csv_query = \"\"\"\n",
        "MERGE (cwedata:Extended_Descriptions {runtime:2992})\n",
        "MERGE (Entities:Entities {rawName:\"variety of methods\"})\n",
        "MERGE (cwedata)-[:HAS_ENTITY]->(Entities)\n",
        "\n",
        "\"\"\"\n",
        "result = conn.query(explore_reviews_csv_query)\n",
        "print(result)"
      ]
    },
    {
      "cell_type": "code",
      "execution_count": 816,
      "metadata": {
        "id": "Imm3EoEHZ2FE",
        "colab": {
          "base_uri": "https://localhost:8080/"
        },
        "outputId": "16afa646-407e-48b7-9b88-f1b2f8d51439"
      },
      "outputs": [
        {
          "output_type": "stream",
          "name": "stdout",
          "text": [
            "[]\n"
          ]
        }
      ],
      "source": [
        "explore_reviews_csv_query = \"\"\"\n",
        "MERGE (cwedata:Extended_Descriptions {runtime:2992})\n",
        "MERGE (Entities:Entities {rawName:\"encode\"})\n",
        "MERGE (cwedata)-[:HAS_ENTITY]->(Entities)\n",
        "\n",
        "\"\"\"\n",
        "result = conn.query(explore_reviews_csv_query)\n",
        "print(result)"
      ]
    },
    {
      "cell_type": "code",
      "execution_count": 817,
      "metadata": {
        "id": "fo4IJcg8Z1t_",
        "colab": {
          "base_uri": "https://localhost:8080/"
        },
        "outputId": "45e4761e-a2c4-474f-b8f4-cd180378b57c"
      },
      "outputs": [
        {
          "output_type": "stream",
          "name": "stdout",
          "text": [
            "[]\n"
          ]
        }
      ],
      "source": [
        "explore_reviews_csv_query = \"\"\"\n",
        "MERGE (cwedata:Extended_Descriptions {runtime:2992})\n",
        "MERGE (Entities:Entities {rawName:\"URL encoding\"})\n",
        "MERGE (cwedata)-[:HAS_ENTITY]->(Entities)\n",
        "\n",
        "\"\"\"\n",
        "result = conn.query(explore_reviews_csv_query)\n",
        "print(result)"
      ]
    },
    {
      "cell_type": "code",
      "execution_count": 818,
      "metadata": {
        "id": "XDWUOPZfZ1Ws",
        "colab": {
          "base_uri": "https://localhost:8080/"
        },
        "outputId": "fdeb30e7-35e6-41cc-8221-286e58820c5d"
      },
      "outputs": [
        {
          "output_type": "stream",
          "name": "stdout",
          "text": [
            "[]\n"
          ]
        }
      ],
      "source": [
        "explore_reviews_csv_query = \"\"\"\n",
        "MERGE (cwedata:Extended_Descriptions {runtime:2992})\n",
        "MERGE (Entities:Entities {rawName:\"Unicode\"})\n",
        "MERGE (cwedata)-[:HAS_ENTITY]->(Entities)\n",
        "\n",
        "\"\"\"\n",
        "result = conn.query(explore_reviews_csv_query)\n",
        "print(result)"
      ]
    },
    {
      "cell_type": "code",
      "execution_count": 819,
      "metadata": {
        "id": "uipuN-NGaXml",
        "colab": {
          "base_uri": "https://localhost:8080/"
        },
        "outputId": "de1d6313-afbe-4730-f297-37388fd877c3"
      },
      "outputs": [
        {
          "output_type": "stream",
          "name": "stdout",
          "text": [
            "[]\n"
          ]
        }
      ],
      "source": [
        "explore_reviews_csv_query = \"\"\"\n",
        "MERGE (cwedata:Extended_Descriptions {runtime:2992})\n",
        "MERGE (Entities:Entities {rawName:\"submits\"})\n",
        "MERGE (cwedata)-[:HAS_ENTITY]->(Entities)\n",
        "\n",
        "\"\"\"\n",
        "result = conn.query(explore_reviews_csv_query)\n",
        "print(result)"
      ]
    },
    {
      "cell_type": "code",
      "execution_count": 820,
      "metadata": {
        "id": "TemT9-v5aXOn",
        "colab": {
          "base_uri": "https://localhost:8080/"
        },
        "outputId": "78834bbd-db65-4bfa-8fa5-0b281efb8b9c"
      },
      "outputs": [
        {
          "output_type": "stream",
          "name": "stdout",
          "text": [
            "[]\n"
          ]
        }
      ],
      "source": [
        "explore_reviews_csv_query = \"\"\"\n",
        "MERGE (cwedata:Extended_Descriptions {runtime:2992})\n",
        "MERGE (Entities:Entities {rawName:\"executable\"})\n",
        "MERGE (cwedata)-[:HAS_ENTITY]->(Entities)\n",
        "\n",
        "\"\"\"\n",
        "result = conn.query(explore_reviews_csv_query)\n",
        "print(result)"
      ]
    },
    {
      "cell_type": "code",
      "execution_count": 821,
      "metadata": {
        "id": "BwKV3J10aWxz",
        "colab": {
          "base_uri": "https://localhost:8080/"
        },
        "outputId": "171922d9-74e0-43cf-b7c8-c16ae15c03af"
      },
      "outputs": [
        {
          "output_type": "stream",
          "name": "stdout",
          "text": [
            "[]\n"
          ]
        }
      ],
      "source": [
        "explore_reviews_csv_query = \"\"\"\n",
        "MERGE (cwedata:Extended_Descriptions {runtime:2992})\n",
        "MERGE (Entities:Entities {rawName:\"untrusted\"})\n",
        "MERGE (cwedata)-[:HAS_ENTITY]->(Entities)\n",
        "\n",
        "\"\"\"\n",
        "result = conn.query(explore_reviews_csv_query)\n",
        "print(result)"
      ]
    },
    {
      "cell_type": "code",
      "execution_count": 822,
      "metadata": {
        "id": "7L81EhCOqj60",
        "colab": {
          "base_uri": "https://localhost:8080/"
        },
        "outputId": "38f933c9-1a41-4646-9a13-2c8979e8bcbf"
      },
      "outputs": [
        {
          "output_type": "stream",
          "name": "stdout",
          "text": [
            "[]\n"
          ]
        }
      ],
      "source": [
        "explore_reviews_csv_query = \"\"\"\n",
        "MERGE (cwe:CWE {cwe_id:\"89\"})\n",
        "MERGE (cwedata:Extended_Descriptions {runtime:691})\n",
        "MERGE (cwe)-[:MAPPED_WITH]->(cwedata)\n",
        "MERGE (cwedata)-[:HAS_GLOBAL_CATEGORY{weight:0.019997397708562056,source:\"wikipedia-en\",category:\"Data-centric programming languages\",page_id:925067}]->(cwe)\n",
        "MERGE (cwedata)-[:HAS_GLOBAL_CATEGORY{weight:0.009998698833835067,source:\"wikipedia-en\",category:\"Command and control\",page_id:13460558}]->(cwe)\n",
        "\n",
        "\"\"\"\n",
        "result = conn.query(explore_reviews_csv_query)\n",
        "print(result)"
      ]
    },
    {
      "cell_type": "code",
      "execution_count": 823,
      "metadata": {
        "id": "b88zBe-oHdR9",
        "colab": {
          "base_uri": "https://localhost:8080/"
        },
        "outputId": "9ea42774-dcef-464f-c5d8-d22bdc7b24df"
      },
      "outputs": [
        {
          "output_type": "stream",
          "name": "stdout",
          "text": [
            "[]\n"
          ]
        }
      ],
      "source": [
        "explore_reviews_csv_query = \"\"\"\n",
        "CALL apoc.load.json(\"https://raw.githubusercontent.com/neostrange/CveParse/main/Extended_Descriptions.json\", null, {failOnError:false})\n",
        "YIELD value\n",
        "WITH value  AS data\n",
        "WITH data\n",
        "UNWIND data.Extended_Descriptions[1].CWE.entities as Entities\n",
        "MERGE (entities:Entities{rawName:Entities.`rawName`})\n",
        "  SET \n",
        "   entities.offsetStart = Entities.offsetStart,\n",
        "   entities.offsetEnd = Entities.offsetEnd,\n",
        "   entities.confidence_score = Entities.confidence_score,\n",
        "   entities.wikipediaExternalRef = Entities.wikipediaExternalRef,\n",
        "   entities.wikidataId = Entities.wikidataId\n",
        "\n",
        "\"\"\"\n",
        "result = conn.query(explore_reviews_csv_query)\n",
        "print(result)"
      ]
    },
    {
      "cell_type": "code",
      "execution_count": 824,
      "metadata": {
        "id": "bPEACnsCaxvT",
        "colab": {
          "base_uri": "https://localhost:8080/"
        },
        "outputId": "ba808ba3-346f-4a26-98a7-5ab5ef0ab457"
      },
      "outputs": [
        {
          "output_type": "stream",
          "name": "stdout",
          "text": [
            "[]\n"
          ]
        }
      ],
      "source": [
        "explore_reviews_csv_query = \"\"\"\n",
        "MERGE (cwedata:Extended_Descriptions {runtime:691})\n",
        "MERGE (Entities: Entities {rawName:\"quoting\"})\n",
        "MERGE (cwedata)-[:HAS_ENTITY]->(Entities)\n",
        "\n",
        "\"\"\"\n",
        "result = conn.query(explore_reviews_csv_query)\n",
        "print(result)"
      ]
    },
    {
      "cell_type": "code",
      "execution_count": 825,
      "metadata": {
        "id": "P1-o_IWua8r7",
        "colab": {
          "base_uri": "https://localhost:8080/"
        },
        "outputId": "643773fa-f624-4f18-f7ec-4136d8414a3f"
      },
      "outputs": [
        {
          "output_type": "stream",
          "name": "stdout",
          "text": [
            "[]\n"
          ]
        }
      ],
      "source": [
        "explore_reviews_csv_query = \"\"\"\n",
        "MERGE (cwedata:Extended_Descriptions {runtime:691})\n",
        "MERGE (Entities:Entities {rawName:\"SQL syntax\"})\n",
        "MERGE (cwedata)-[:HAS_ENTITY]->(Entities)\n",
        "\n",
        "\"\"\"\n",
        "result = conn.query(explore_reviews_csv_query)\n",
        "print(result)"
      ]
    },
    {
      "cell_type": "code",
      "execution_count": 826,
      "metadata": {
        "id": "FULjeSALa8Ud",
        "colab": {
          "base_uri": "https://localhost:8080/"
        },
        "outputId": "8c89066c-f25e-4fe6-a708-18b129f54456"
      },
      "outputs": [
        {
          "output_type": "stream",
          "name": "stdout",
          "text": [
            "[]\n"
          ]
        }
      ],
      "source": [
        "explore_reviews_csv_query = \"\"\"\n",
        "MERGE (cwedata:Extended_Descriptions {runtime:691})\n",
        "MERGE (Entities:Entities {rawName:\"controllable\"})\n",
        "MERGE (cwedata)-[:HAS_ENTITY]->(Entities)\n",
        "\n",
        "\"\"\"\n",
        "result = conn.query(explore_reviews_csv_query)\n",
        "print(result)"
      ]
    },
    {
      "cell_type": "code",
      "execution_count": 827,
      "metadata": {
        "id": "5xRKxCPda78P",
        "colab": {
          "base_uri": "https://localhost:8080/"
        },
        "outputId": "0f3e21fc-9477-44a1-b050-826f2e0e06b1"
      },
      "outputs": [
        {
          "output_type": "stream",
          "name": "stdout",
          "text": [
            "[]\n"
          ]
        }
      ],
      "source": [
        "explore_reviews_csv_query = \"\"\"\n",
        "MERGE (cwedata:Extended_Descriptions {runtime:691})\n",
        "MERGE (Entities:Entities {rawName: \"inputs\"})\n",
        "MERGE (cwedata)-[:HAS_ENTITY]->(Entities)\n",
        "\n",
        "\"\"\"\n",
        "result = conn.query(explore_reviews_csv_query)\n",
        "print(result)"
      ]
    },
    {
      "cell_type": "code",
      "execution_count": 828,
      "metadata": {
        "id": "gTR_Tvb7a6zs",
        "colab": {
          "base_uri": "https://localhost:8080/"
        },
        "outputId": "0af11010-901b-4918-b469-8536da05885f"
      },
      "outputs": [
        {
          "output_type": "stream",
          "name": "stdout",
          "text": [
            "[]\n"
          ]
        }
      ],
      "source": [
        "explore_reviews_csv_query = \"\"\"\n",
        "MERGE (cwedata:Extended_Descriptions {runtime:691})\n",
        "MERGE (Entities:Entities {rawName: \"SQL query\"})\n",
        "MERGE (cwedata)-[:HAS_ENTITY]->(Entities)\n",
        "\n",
        "\"\"\"\n",
        "result = conn.query(explore_reviews_csv_query)\n",
        "print(result)"
      ]
    },
    {
      "cell_type": "code",
      "execution_count": 829,
      "metadata": {
        "id": "s2gMEoP-a6l3",
        "colab": {
          "base_uri": "https://localhost:8080/"
        },
        "outputId": "0ff33887-d54f-42fa-f3de-966b6a7fefc9"
      },
      "outputs": [
        {
          "output_type": "stream",
          "name": "stdout",
          "text": [
            "[]\n"
          ]
        }
      ],
      "source": [
        "explore_reviews_csv_query = \"\"\"\n",
        "MERGE (cwedata:Extended_Descriptions {runtime:691})\n",
        "MERGE (Entities:Entities {rawName: \"interpreted\"})\n",
        "MERGE (cwedata)-[:HAS_ENTITY]->(Entities)\n",
        "\n",
        "\"\"\"\n",
        "result = conn.query(explore_reviews_csv_query)\n",
        "print(result)"
      ]
    },
    {
      "cell_type": "code",
      "execution_count": 830,
      "metadata": {
        "id": "LflKi3N2a6YD",
        "colab": {
          "base_uri": "https://localhost:8080/"
        },
        "outputId": "1da3da2c-2755-4141-d84b-9373fa74d91d"
      },
      "outputs": [
        {
          "output_type": "stream",
          "name": "stdout",
          "text": [
            "[]\n"
          ]
        }
      ],
      "source": [
        "explore_reviews_csv_query = \"\"\"\n",
        "MERGE (cwedata:Extended_Descriptions {runtime:691})\n",
        "MERGE (Entities:Entities {rawName: \"SQL\"})\n",
        "MERGE (cwedata)-[:HAS_ENTITY]->(Entities)\n",
        "\n",
        "\"\"\"\n",
        "result = conn.query(explore_reviews_csv_query)\n",
        "print(result)"
      ]
    },
    {
      "cell_type": "code",
      "execution_count": 831,
      "metadata": {
        "id": "txN-xxFBa6J4",
        "colab": {
          "base_uri": "https://localhost:8080/"
        },
        "outputId": "155a6526-cc0c-473f-f421-3e4839a1fda3"
      },
      "outputs": [
        {
          "output_type": "stream",
          "name": "stdout",
          "text": [
            "[]\n"
          ]
        }
      ],
      "source": [
        "explore_reviews_csv_query = \"\"\"\n",
        "MERGE (cwedata:Extended_Descriptions {runtime:691})\n",
        "MERGE (Entities:Entities {rawName: \"user data\"})\n",
        "MERGE (cwedata)-[:HAS_ENTITY]->(Entities)\n",
        "\n",
        "\"\"\"\n",
        "result = conn.query(explore_reviews_csv_query)\n",
        "print(result)"
      ]
    },
    {
      "cell_type": "code",
      "execution_count": 832,
      "metadata": {
        "id": "mWHdeVRXa5x2",
        "colab": {
          "base_uri": "https://localhost:8080/"
        },
        "outputId": "72283496-3f3a-42d3-e9e4-c5a43c733b49"
      },
      "outputs": [
        {
          "output_type": "stream",
          "name": "stdout",
          "text": [
            "[]\n"
          ]
        }
      ],
      "source": [
        "explore_reviews_csv_query = \"\"\"\n",
        "MERGE (cwedata:Extended_Descriptions {runtime:691})\n",
        "MERGE (Entities:Entities {rawName: \"query\"})\n",
        "MERGE (cwedata)-[:HAS_ENTITY]->(Entities)\n",
        "\n",
        "\"\"\"\n",
        "result = conn.query(explore_reviews_csv_query)\n",
        "print(result)"
      ]
    },
    {
      "cell_type": "code",
      "execution_count": 833,
      "metadata": {
        "id": "L4Cbn54Wa5j-",
        "colab": {
          "base_uri": "https://localhost:8080/"
        },
        "outputId": "ef0ffc46-5d41-4242-d6e5-bbe0d429513a"
      },
      "outputs": [
        {
          "output_type": "stream",
          "name": "stdout",
          "text": [
            "[]\n"
          ]
        }
      ],
      "source": [
        "explore_reviews_csv_query = \"\"\"\n",
        "MERGE (cwedata:Extended_Descriptions {runtime:691})\n",
        "MERGE (Entities:Entities {rawName: \"bypass\"})\n",
        "MERGE (cwedata)-[:HAS_ENTITY]->(Entities)\n",
        "\n",
        "\"\"\"\n",
        "result = conn.query(explore_reviews_csv_query)\n",
        "print(result)"
      ]
    },
    {
      "cell_type": "code",
      "execution_count": 834,
      "metadata": {
        "id": "PLIaYsOBa5V_",
        "colab": {
          "base_uri": "https://localhost:8080/"
        },
        "outputId": "501f68c7-dc15-4dae-b148-6ae3e6af8957"
      },
      "outputs": [
        {
          "output_type": "stream",
          "name": "stdout",
          "text": [
            "[]\n"
          ]
        }
      ],
      "source": [
        "explore_reviews_csv_query = \"\"\"\n",
        "MERGE (cwedata:Extended_Descriptions {runtime:691})\n",
        "MERGE (Entities:Entities {rawName: \"security checks\"})\n",
        "MERGE (cwedata)-[:HAS_ENTITY]->(Entities)\n",
        "\n",
        "\"\"\"\n",
        "result = conn.query(explore_reviews_csv_query)\n",
        "print(result)"
      ]
    },
    {
      "cell_type": "code",
      "execution_count": 835,
      "metadata": {
        "id": "RfpOt2vgYUmU",
        "colab": {
          "base_uri": "https://localhost:8080/"
        },
        "outputId": "6b32eea8-3055-49a2-b6b2-ae41d1b41c11"
      },
      "outputs": [
        {
          "output_type": "stream",
          "name": "stdout",
          "text": [
            "[]\n"
          ]
        }
      ],
      "source": [
        "explore_reviews_csv_query = \"\"\"\n",
        "MERGE (cwedata:Extended_Descriptions {runtime:691})\n",
        "MERGE (Entities:Entities {rawName: \"insert\"})\n",
        "MERGE (cwedata)-[:HAS_ENTITY]->(Entities)\n",
        "\n",
        "\"\"\"\n",
        "result = conn.query(explore_reviews_csv_query)\n",
        "print(result)"
      ]
    },
    {
      "cell_type": "code",
      "execution_count": 836,
      "metadata": {
        "id": "HBbEWUl1YUf3",
        "colab": {
          "base_uri": "https://localhost:8080/"
        },
        "outputId": "e00f8f95-9114-4344-fe8b-f35a8fb65795"
      },
      "outputs": [
        {
          "output_type": "stream",
          "name": "stdout",
          "text": [
            "[]\n"
          ]
        }
      ],
      "source": [
        "explore_reviews_csv_query = \"\"\"\n",
        "MERGE (cwedata:Extended_Descriptions {runtime:691})\n",
        "MERGE (Entities:Entities {rawName: \"modify\"})\n",
        "MERGE (cwedata)-[:HAS_ENTITY]->(Entities)\n",
        "\n",
        "\"\"\"\n",
        "result = conn.query(explore_reviews_csv_query)\n",
        "print(result)"
      ]
    },
    {
      "cell_type": "code",
      "execution_count": 837,
      "metadata": {
        "id": "Ln7F82zjYUYY",
        "colab": {
          "base_uri": "https://localhost:8080/"
        },
        "outputId": "a4d2fceb-10e1-4cfd-f3e6-01fcc49f7f9d"
      },
      "outputs": [
        {
          "output_type": "stream",
          "name": "stdout",
          "text": [
            "[]\n"
          ]
        }
      ],
      "source": [
        "explore_reviews_csv_query = \"\"\"\n",
        "MERGE (cwedata:Extended_Descriptions {runtime:691})\n",
        "MERGE (Entities:Entities {rawName: \"back-end database\"})\n",
        "MERGE (cwedata)-[:HAS_ENTITY]->(Entities)\n",
        "\n",
        "\"\"\"\n",
        "result = conn.query(explore_reviews_csv_query)\n",
        "print(result)"
      ]
    },
    {
      "cell_type": "code",
      "execution_count": 838,
      "metadata": {
        "id": "QMFMevCFYUQg",
        "colab": {
          "base_uri": "https://localhost:8080/"
        },
        "outputId": "b7047f5a-6380-4e86-de2e-95250932ed98"
      },
      "outputs": [
        {
          "output_type": "stream",
          "name": "stdout",
          "text": [
            "[]\n"
          ]
        }
      ],
      "source": [
        "explore_reviews_csv_query = \"\"\"\n",
        "MERGE (cwedata:Extended_Descriptions {runtime:691})\n",
        "MERGE (Entities:Entities {rawName: \"commands\"})\n",
        "MERGE (cwedata)-[:HAS_ENTITY]->(Entities)\n",
        "\n",
        "\"\"\"\n",
        "result = conn.query(explore_reviews_csv_query)\n",
        "print(result)"
      ]
    },
    {
      "cell_type": "code",
      "execution_count": 839,
      "metadata": {
        "id": "t0Jeu1SdYUH_",
        "colab": {
          "base_uri": "https://localhost:8080/"
        },
        "outputId": "0ced781a-1126-4821-d8e0-338197ab35c8"
      },
      "outputs": [
        {
          "output_type": "stream",
          "name": "stdout",
          "text": [
            "[]\n"
          ]
        }
      ],
      "source": [
        "explore_reviews_csv_query = \"\"\"\n",
        "MERGE (cwedata:Extended_Descriptions {runtime:691})\n",
        "MERGE (Entities:Entities {rawName: \"SQL injection\"})\n",
        "MERGE (cwedata)-[:HAS_ENTITY]->(Entities)\n",
        "\n",
        "\"\"\"\n",
        "result = conn.query(explore_reviews_csv_query)\n",
        "print(result)"
      ]
    },
    {
      "cell_type": "code",
      "execution_count": 840,
      "metadata": {
        "id": "9H_0ss1TYT_g",
        "colab": {
          "base_uri": "https://localhost:8080/"
        },
        "outputId": "f7f61110-f88f-4603-ff0f-2613777aff7d"
      },
      "outputs": [
        {
          "output_type": "stream",
          "name": "stdout",
          "text": [
            "[]\n"
          ]
        }
      ],
      "source": [
        "explore_reviews_csv_query = \"\"\"\n",
        "MERGE (cwedata:Extended_Descriptions {runtime:691})\n",
        "MERGE (Entities:Entities {rawName: \"database-driven\"})\n",
        "MERGE (cwedata)-[:HAS_ENTITY]->(Entities)\n",
        "\n",
        "\"\"\"\n",
        "result = conn.query(explore_reviews_csv_query)\n",
        "print(result)"
      ]
    },
    {
      "cell_type": "code",
      "execution_count": 841,
      "metadata": {
        "id": "NPhir1DHYT15",
        "colab": {
          "base_uri": "https://localhost:8080/"
        },
        "outputId": "b5ffe63c-80c0-46b3-c3fc-f46a77c0392c"
      },
      "outputs": [
        {
          "output_type": "stream",
          "name": "stdout",
          "text": [
            "[]\n"
          ]
        }
      ],
      "source": [
        "explore_reviews_csv_query = \"\"\"\n",
        "MERGE (cwedata:Extended_Descriptions {runtime:691})\n",
        "MERGE (Entities:Entities {rawName: \"web sites\"})\n",
        "MERGE (cwedata)-[:HAS_ENTITY]->(Entities)\n",
        "\n",
        "\"\"\"\n",
        "result = conn.query(explore_reviews_csv_query)\n",
        "print(result)"
      ]
    },
    {
      "cell_type": "code",
      "execution_count": 842,
      "metadata": {
        "id": "e4CxeljFYjgU",
        "colab": {
          "base_uri": "https://localhost:8080/"
        },
        "outputId": "78c819f8-681d-4478-bf90-10b8d40614f1"
      },
      "outputs": [
        {
          "output_type": "stream",
          "name": "stdout",
          "text": [
            "[]\n"
          ]
        }
      ],
      "source": [
        "explore_reviews_csv_query = \"\"\"\n",
        "MERGE (cwedata:Extended_Descriptions {runtime:691})\n",
        "MERGE (Entities:Entities {rawName: \"flaw\"})\n",
        "MERGE (cwedata)-[:HAS_ENTITY]->(Entities)\n",
        "\n",
        "\"\"\"\n",
        "result = conn.query(explore_reviews_csv_query)\n",
        "print(result)"
      ]
    },
    {
      "cell_type": "code",
      "execution_count": 843,
      "metadata": {
        "id": "WmZiJhOXYko2",
        "colab": {
          "base_uri": "https://localhost:8080/"
        },
        "outputId": "b1ce39f6-07bc-4fb2-9c33-0633e96ab814"
      },
      "outputs": [
        {
          "output_type": "stream",
          "name": "stdout",
          "text": [
            "[]\n"
          ]
        }
      ],
      "source": [
        "explore_reviews_csv_query = \"\"\"\n",
        "MERGE (cwedata:Extended_Descriptions {runtime:691})\n",
        "MERGE (Entities:Entities {rawName: \"exploited\"})\n",
        "MERGE (cwedata)-[:HAS_ENTITY]->(Entities)\n",
        "\n",
        "\"\"\"\n",
        "result = conn.query(explore_reviews_csv_query)\n",
        "print(result)"
      ]
    },
    {
      "cell_type": "code",
      "execution_count": 844,
      "metadata": {
        "id": "GKD9yXs6YjNy",
        "colab": {
          "base_uri": "https://localhost:8080/"
        },
        "outputId": "24047a6d-e590-4492-e407-321bace9cf74"
      },
      "outputs": [
        {
          "output_type": "stream",
          "name": "stdout",
          "text": [
            "[]\n"
          ]
        }
      ],
      "source": [
        "explore_reviews_csv_query = \"\"\"\n",
        "MERGE (cwedata:Extended_Descriptions {runtime:691})\n",
        "MERGE (Entities:Entities {rawName: \"software package\"})\n",
        "MERGE (cwedata)-[:HAS_ENTITY]->(Entities)\n",
        "\n",
        "\"\"\"\n",
        "result = conn.query(explore_reviews_csv_query)\n",
        "print(result)"
      ]
    },
    {
      "cell_type": "code",
      "execution_count": 845,
      "metadata": {
        "id": "DeF7lGrNYi93",
        "colab": {
          "base_uri": "https://localhost:8080/"
        },
        "outputId": "211c5833-336d-4403-f2eb-8da3380f6c0c"
      },
      "outputs": [
        {
          "output_type": "stream",
          "name": "stdout",
          "text": [
            "[]\n"
          ]
        }
      ],
      "source": [
        "explore_reviews_csv_query = \"\"\"\n",
        "MERGE (cwedata:Extended_Descriptions {runtime:691})\n",
        "MERGE (Entities:Entities {rawName: \"user base\"})\n",
        "MERGE (cwedata)-[:HAS_ENTITY]->(Entities)\n",
        "\n",
        "\"\"\"\n",
        "result = conn.query(explore_reviews_csv_query)\n",
        "print(result)"
      ]
    },
    {
      "cell_type": "code",
      "execution_count": 846,
      "metadata": {
        "id": "PkhWIl3tqnoG",
        "colab": {
          "base_uri": "https://localhost:8080/"
        },
        "outputId": "5acda58e-0a17-4d2f-8fb5-c5511e9c6bfa"
      },
      "outputs": [
        {
          "output_type": "stream",
          "name": "stdout",
          "text": [
            "[]\n"
          ]
        }
      ],
      "source": [
        "explore_reviews_csv_query = \"\"\"\n",
        "MERGE (cwe:CWE {cwe_id:\"94\"})\n",
        "MERGE (cwedata:Extended_Descriptions {runtime:833})\n",
        "MERGE (cwe)-[:MAPPED_WITH]->(cwedata)\n",
        "MERGE (cwedata)-[:HAS_GLOBAL_CATEGORY{weight:0.0901926432383948,source:\"wikipedia-en\",category:\"Computer security exploits\",page_id:22272764}]->(cwe)\n",
        "MERGE (cwedata)-[:HAS_GLOBAL_CATEGORY{weight:0.06764448218898413,source:\"wikipedia-en\",category:\"Hacking (computer security)\",page_id:11647669}]->(cwe)\n",
        "MERGE (cwedata)-[:HAS_GLOBAL_CATEGORY{weight:0.022548160729661378,source:\"wikipedia-en\",category:\"Programming language topics\",page_id:5699671}]->(cwe)\n",
        "\n",
        "\"\"\"\n",
        "result = conn.query(explore_reviews_csv_query)\n",
        "print(result)"
      ]
    },
    {
      "cell_type": "code",
      "execution_count": 847,
      "metadata": {
        "id": "5p7fR7f9IUuc",
        "colab": {
          "base_uri": "https://localhost:8080/"
        },
        "outputId": "fa14a52e-ef88-4a1a-bf57-a3a382908412"
      },
      "outputs": [
        {
          "output_type": "stream",
          "name": "stdout",
          "text": [
            "[]\n"
          ]
        }
      ],
      "source": [
        "explore_reviews_csv_query = \"\"\"\n",
        "CALL apoc.load.json(\"https://raw.githubusercontent.com/neostrange/CveParse/main/Extended_Descriptions.json\", null, {failOnError:false})\n",
        "YIELD value\n",
        "WITH value  AS data\n",
        "WITH data\n",
        "UNWIND data.Extended_Descriptions[2].CWE.entities as Entities\n",
        "MERGE (entities:Entities{rawName:Entities.`rawName`})\n",
        "  SET \n",
        "   entities.offsetStart = Entities.offsetStart,\n",
        "   entities.offsetEnd = Entities.offsetEnd,\n",
        "   entities.confidence_score = Entities.confidence_score,\n",
        "   entities.wikipediaExternalRef = Entities.wikipediaExternalRef,\n",
        "   entities.wikidataId = Entities.wikidataId\n",
        "\n",
        "\"\"\"\n",
        "result = conn.query(explore_reviews_csv_query)\n",
        "print(result)"
      ]
    },
    {
      "cell_type": "code",
      "execution_count": 848,
      "metadata": {
        "id": "GdLpeHbgbQPT",
        "colab": {
          "base_uri": "https://localhost:8080/"
        },
        "outputId": "831dd8f9-df77-4a6e-8ab7-6ea4397470ca"
      },
      "outputs": [
        {
          "output_type": "stream",
          "name": "stdout",
          "text": [
            "[]\n"
          ]
        }
      ],
      "source": [
        "explore_reviews_csv_query = \"\"\"\n",
        "MERGE (cwedata:Extended_Descriptions {runtime: 833})\n",
        "MERGE (Entities:Entities {rawName: \"syntax\"})\n",
        "MERGE (cwedata)-[:HAS_ENTITY]->(Entities)\n",
        "\n",
        "\"\"\"\n",
        "result = conn.query(explore_reviews_csv_query)\n",
        "print(result)"
      ]
    },
    {
      "cell_type": "code",
      "execution_count": 849,
      "metadata": {
        "id": "YQbTFcRWbSRv",
        "colab": {
          "base_uri": "https://localhost:8080/"
        },
        "outputId": "d87d7e22-a05b-44cd-f3d0-981d32df2bc4"
      },
      "outputs": [
        {
          "output_type": "stream",
          "name": "stdout",
          "text": [
            "[]\n"
          ]
        }
      ],
      "source": [
        "explore_reviews_csv_query = \"\"\"\n",
        "MERGE (cwedata:Extended_Descriptions {runtime: 833})\n",
        "MERGE (Entities:Entities {rawName: \"attacker\"})\n",
        "MERGE (cwedata)-[:HAS_ENTITY]->(Entities)\n",
        "\n",
        "\"\"\"\n",
        "result = conn.query(explore_reviews_csv_query)\n",
        "print(result)"
      ]
    },
    {
      "cell_type": "code",
      "execution_count": 850,
      "metadata": {
        "id": "LUjBZi75bR08",
        "colab": {
          "base_uri": "https://localhost:8080/"
        },
        "outputId": "1ae1a8e0-bb87-4f26-9255-098212810525"
      },
      "outputs": [
        {
          "output_type": "stream",
          "name": "stdout",
          "text": [
            "[]\n"
          ]
        }
      ],
      "source": [
        "explore_reviews_csv_query = \"\"\"\n",
        "MERGE (cwedata:Extended_Descriptions {runtime: 833})\n",
        "MERGE (Entities:Entities {rawName: \"control flow\"})\n",
        "MERGE (cwedata)-[:HAS_ENTITY]->(Entities)\n",
        "\n",
        "\"\"\"\n",
        "result = conn.query(explore_reviews_csv_query)\n",
        "print(result)"
      ]
    },
    {
      "cell_type": "code",
      "execution_count": 851,
      "metadata": {
        "id": "CPVz-IYoijva",
        "colab": {
          "base_uri": "https://localhost:8080/"
        },
        "outputId": "c1eff9f2-252e-4125-bf05-661a0cb72b2e"
      },
      "outputs": [
        {
          "output_type": "stream",
          "name": "stdout",
          "text": [
            "[]\n"
          ]
        }
      ],
      "source": [
        "explore_reviews_csv_query = \"\"\"\n",
        "MERGE (cwedata:Extended_Descriptions {runtime: 833})\n",
        "MERGE (Entities:Entities {rawName: \"alteration\"})\n",
        "MERGE (cwedata)-[:HAS_ENTITY]->(Entities)\n",
        "\n",
        "\"\"\"\n",
        "result = conn.query(explore_reviews_csv_query)\n",
        "print(result)"
      ]
    },
    {
      "cell_type": "code",
      "execution_count": 852,
      "metadata": {
        "id": "fa6GjVdAijsE",
        "colab": {
          "base_uri": "https://localhost:8080/"
        },
        "outputId": "c348f08f-4283-4271-addc-a942a3dea1d1"
      },
      "outputs": [
        {
          "output_type": "stream",
          "name": "stdout",
          "text": [
            "[]\n"
          ]
        }
      ],
      "source": [
        "explore_reviews_csv_query = \"\"\"\n",
        "MERGE (cwedata:Extended_Descriptions {runtime: 833})\n",
        "MERGE (Entities:Entities {rawName: \"arbitrary code execution\"})\n",
        "MERGE (cwedata)-[:HAS_ENTITY]->(Entities)\n",
        "\n",
        "\"\"\"\n",
        "result = conn.query(explore_reviews_csv_query)\n",
        "print(result)"
      ]
    },
    {
      "cell_type": "code",
      "execution_count": 853,
      "metadata": {
        "id": "9mGZ5SmDijo-",
        "colab": {
          "base_uri": "https://localhost:8080/"
        },
        "outputId": "30c8f776-30b1-436e-8e7e-069efa13abf9"
      },
      "outputs": [
        {
          "output_type": "stream",
          "name": "stdout",
          "text": [
            "[]\n"
          ]
        }
      ],
      "source": [
        "explore_reviews_csv_query = \"\"\"\n",
        "MERGE (cwedata:Extended_Descriptions {runtime: 833})\n",
        "MERGE (Entities:Entities {rawName: \"Injection\"})\n",
        "MERGE (cwedata)-[:HAS_ENTITY]->(Entities)\n",
        "\n",
        "\"\"\"\n",
        "result = conn.query(explore_reviews_csv_query)\n",
        "print(result)"
      ]
    },
    {
      "cell_type": "code",
      "execution_count": 854,
      "metadata": {
        "id": "esTBbvRaijmJ",
        "colab": {
          "base_uri": "https://localhost:8080/"
        },
        "outputId": "f6d9c81d-3716-4184-99f1-4ba29908abc6"
      },
      "outputs": [
        {
          "output_type": "stream",
          "name": "stdout",
          "text": [
            "[]\n"
          ]
        }
      ],
      "source": [
        "explore_reviews_csv_query = \"\"\"\n",
        "MERGE (cwedata:Extended_Descriptions {runtime: 833})\n",
        "MERGE (Entities:Entities {rawName: \"wide variety\"})\n",
        "MERGE (cwedata)-[:HAS_ENTITY]->(Entities)\n",
        "\n",
        "\"\"\"\n",
        "result = conn.query(explore_reviews_csv_query)\n",
        "print(result)"
      ]
    },
    {
      "cell_type": "code",
      "execution_count": 855,
      "metadata": {
        "id": "7U9hs8VUijiz",
        "colab": {
          "base_uri": "https://localhost:8080/"
        },
        "outputId": "b7e36f11-3c37-4223-de2f-6a686e6b64b3"
      },
      "outputs": [
        {
          "output_type": "stream",
          "name": "stdout",
          "text": [
            "[]\n"
          ]
        }
      ],
      "source": [
        "explore_reviews_csv_query = \"\"\"\n",
        "MERGE (cwedata:Extended_Descriptions {runtime: 833})\n",
        "MERGE (Entities:Entities {rawName: \"mitigated\"})\n",
        "MERGE (cwedata)-[:HAS_ENTITY]->(Entities)\n",
        "\n",
        "\"\"\"\n",
        "result = conn.query(explore_reviews_csv_query)\n",
        "print(result)"
      ]
    },
    {
      "cell_type": "code",
      "execution_count": 856,
      "metadata": {
        "id": "HKiVd7DhijgI",
        "colab": {
          "base_uri": "https://localhost:8080/"
        },
        "outputId": "39a4300d-acf6-4270-fcee-51da6c19c5e6"
      },
      "outputs": [
        {
          "output_type": "stream",
          "name": "stdout",
          "text": [
            "[]\n"
          ]
        }
      ],
      "source": [
        "explore_reviews_csv_query = \"\"\"\n",
        "MERGE (cwedata:Extended_Descriptions {runtime: 833})\n",
        "MERGE (Entities:Entities {rawName: \"weaknesses\"})\n",
        "MERGE (cwedata)-[:HAS_ENTITY]->(Entities)\n",
        "\n",
        "\"\"\"\n",
        "result = conn.query(explore_reviews_csv_query)\n",
        "print(result)"
      ]
    },
    {
      "cell_type": "code",
      "execution_count": 857,
      "metadata": {
        "id": "qvnuconcijcu",
        "colab": {
          "base_uri": "https://localhost:8080/"
        },
        "outputId": "81879b7c-bb42-4155-cf67-3bd52fe14a05"
      },
      "outputs": [
        {
          "output_type": "stream",
          "name": "stdout",
          "text": [
            "[]\n"
          ]
        }
      ],
      "source": [
        "explore_reviews_csv_query = \"\"\"\n",
        "MERGE (cwedata:Extended_Descriptions {runtime: 833})\n",
        "MERGE (Entities:Entities {rawName: \"classify\"})\n",
        "MERGE (cwedata)-[:HAS_ENTITY]->(Entities)\n",
        "\n",
        "\"\"\"\n",
        "result = conn.query(explore_reviews_csv_query)\n",
        "print(result)"
      ]
    },
    {
      "cell_type": "code",
      "execution_count": 858,
      "metadata": {
        "id": "wA-y3JQgijX6",
        "colab": {
          "base_uri": "https://localhost:8080/"
        },
        "outputId": "17ee77a9-a7b5-486e-9869-46f1de6ad9cd"
      },
      "outputs": [
        {
          "output_type": "stream",
          "name": "stdout",
          "text": [
            "[]\n"
          ]
        }
      ],
      "source": [
        "explore_reviews_csv_query = \"\"\"\n",
        "MERGE (cwedata:Extended_Descriptions {runtime: 833})\n",
        "MERGE (Entities:Entities {rawName: \"injection\"})\n",
        "MERGE (cwedata)-[:HAS_ENTITY]->(Entities)\n",
        "\n",
        "\"\"\"\n",
        "result = conn.query(explore_reviews_csv_query)\n",
        "print(result)"
      ]
    },
    {
      "cell_type": "code",
      "execution_count": 859,
      "metadata": {
        "id": "vFVgzkyeijVQ",
        "colab": {
          "base_uri": "https://localhost:8080/"
        },
        "outputId": "bd51e6b5-2db6-4d3f-85a3-7453bca055df"
      },
      "outputs": [
        {
          "output_type": "stream",
          "name": "stdout",
          "text": [
            "[]\n"
          ]
        }
      ],
      "source": [
        "explore_reviews_csv_query = \"\"\"\n",
        "MERGE (cwedata:Extended_Descriptions {runtime: 833})\n",
        "MERGE (Entities:Entities {rawName: \"control plane\"})\n",
        "MERGE (cwedata)-[:HAS_ENTITY]->(Entities)\n",
        "\n",
        "\"\"\"\n",
        "result = conn.query(explore_reviews_csv_query)\n",
        "print(result)"
      ]
    },
    {
      "cell_type": "code",
      "execution_count": 860,
      "metadata": {
        "id": "wwvew0ZIijSn",
        "colab": {
          "base_uri": "https://localhost:8080/"
        },
        "outputId": "a1ac4cd5-2900-45df-948a-6970688d0239"
      },
      "outputs": [
        {
          "output_type": "stream",
          "name": "stdout",
          "text": [
            "[]\n"
          ]
        }
      ],
      "source": [
        "explore_reviews_csv_query = \"\"\"\n",
        "MERGE (cwedata:Extended_Descriptions {runtime: 833})\n",
        "MERGE (Entities:Entities {rawName: \"controlled data\"})\n",
        "MERGE (cwedata)-[:HAS_ENTITY]->(Entities)\n",
        "\n",
        "\"\"\"\n",
        "result = conn.query(explore_reviews_csv_query)\n",
        "print(result)"
      ]
    },
    {
      "cell_type": "code",
      "execution_count": 861,
      "metadata": {
        "id": "kYx-6eSiijPV",
        "colab": {
          "base_uri": "https://localhost:8080/"
        },
        "outputId": "df6c8e87-1f85-4a2f-9ba3-12027b22509d"
      },
      "outputs": [
        {
          "output_type": "stream",
          "name": "stdout",
          "text": [
            "[]\n"
          ]
        }
      ],
      "source": [
        "explore_reviews_csv_query = \"\"\"\n",
        "MERGE (cwedata:Extended_Descriptions {runtime: 833})\n",
        "MERGE (Entities:Entities {rawName: \"data channels\"})\n",
        "MERGE (cwedata)-[:HAS_ENTITY]->(Entities)\n",
        "\n",
        "\"\"\"\n",
        "result = conn.query(explore_reviews_csv_query)\n",
        "print(result)"
      ]
    },
    {
      "cell_type": "code",
      "execution_count": 862,
      "metadata": {
        "id": "1OHqXds_ijMA",
        "colab": {
          "base_uri": "https://localhost:8080/"
        },
        "outputId": "71a1051e-a3b8-430a-fff8-2d22cc8432e8"
      },
      "outputs": [
        {
          "output_type": "stream",
          "name": "stdout",
          "text": [
            "[]\n"
          ]
        }
      ],
      "source": [
        "explore_reviews_csv_query = \"\"\"\n",
        "MERGE (cwedata:Extended_Descriptions {runtime: 833})\n",
        "MERGE (Entities:Entities {rawName: \"buffer overflows\"})\n",
        "MERGE (cwedata)-[:HAS_ENTITY]->(Entities)\n",
        "\n",
        "\"\"\"\n",
        "result = conn.query(explore_reviews_csv_query)\n",
        "print(result)"
      ]
    },
    {
      "cell_type": "code",
      "execution_count": 863,
      "metadata": {
        "id": "JDAiRDkVbRk8",
        "colab": {
          "base_uri": "https://localhost:8080/"
        },
        "outputId": "bcca5ae6-6713-4688-83e4-d4e30c32b2bf"
      },
      "outputs": [
        {
          "output_type": "stream",
          "name": "stdout",
          "text": [
            "[]\n"
          ]
        }
      ],
      "source": [
        "explore_reviews_csv_query = \"\"\"\n",
        "MERGE (cwedata:Extended_Descriptions {runtime: 833})\n",
        "MERGE (Entities:Entities {rawName: \"flaws\"})\n",
        "MERGE (cwedata)-[:HAS_ENTITY]->(Entities)\n",
        "\n",
        "\"\"\"\n",
        "result = conn.query(explore_reviews_csv_query)\n",
        "print(result)"
      ]
    },
    {
      "cell_type": "code",
      "execution_count": 864,
      "metadata": {
        "id": "FHLNbMk6lew2",
        "colab": {
          "base_uri": "https://localhost:8080/"
        },
        "outputId": "1f6b2366-72d4-43e6-b874-ccc71e51dd1c"
      },
      "outputs": [
        {
          "output_type": "stream",
          "name": "stdout",
          "text": [
            "[]\n"
          ]
        }
      ],
      "source": [
        "explore_reviews_csv_query = \"\"\"\n",
        "MERGE (cwedata:Extended_Descriptions {runtime: 833})\n",
        "MERGE (Entities:Entities {rawName: \"parsed\"})\n",
        "MERGE (cwedata)-[:HAS_ENTITY]->(Entities)\n",
        "\n",
        "\"\"\"\n",
        "result = conn.query(explore_reviews_csv_query)\n",
        "print(result)"
      ]
    },
    {
      "cell_type": "code",
      "execution_count": 865,
      "metadata": {
        "id": "Q8WqqdT3lmSD",
        "colab": {
          "base_uri": "https://localhost:8080/"
        },
        "outputId": "0539fe28-7f58-4af4-cbf3-cadd72510629"
      },
      "outputs": [
        {
          "output_type": "stream",
          "name": "stdout",
          "text": [
            "[]\n"
          ]
        }
      ],
      "source": [
        "explore_reviews_csv_query = \"\"\"\n",
        "MERGE (cwedata:Extended_Descriptions {runtime: 833})\n",
        "MERGE (Entities:Entities {rawName: \"instantiations\"})\n",
        "MERGE (cwedata)-[:HAS_ENTITY]->(Entities)\n",
        "\n",
        "\"\"\"\n",
        "result = conn.query(explore_reviews_csv_query)\n",
        "print(result)"
      ]
    },
    {
      "cell_type": "code",
      "execution_count": 866,
      "metadata": {
        "id": "_1IxmXG2lmDb",
        "colab": {
          "base_uri": "https://localhost:8080/"
        },
        "outputId": "f66f0884-95a4-4532-ecc0-95f89abd04a6"
      },
      "outputs": [
        {
          "output_type": "stream",
          "name": "stdout",
          "text": [
            "[]\n"
          ]
        }
      ],
      "source": [
        "explore_reviews_csv_query = \"\"\"\n",
        "MERGE (cwedata:Extended_Descriptions {runtime: 833})\n",
        "MERGE (Entities:Entities {rawName: \"SQL injection\"})\n",
        "MERGE (cwedata)-[:HAS_ENTITY]->(Entities)\n",
        "\n",
        "\"\"\"\n",
        "result = conn.query(explore_reviews_csv_query)\n",
        "print(result)"
      ]
    },
    {
      "cell_type": "code",
      "execution_count": 867,
      "metadata": {
        "id": "7kxNzBnrll2X",
        "colab": {
          "base_uri": "https://localhost:8080/"
        },
        "outputId": "4874ae42-2368-4e7c-d967-fdbf87955505"
      },
      "outputs": [
        {
          "output_type": "stream",
          "name": "stdout",
          "text": [
            "[]\n"
          ]
        }
      ],
      "source": [
        "explore_reviews_csv_query = \"\"\"\n",
        "MERGE (cwedata:Extended_Descriptions {runtime: 833})\n",
        "MERGE (Entities:Entities {rawName: \"format string vulnerabilities\"})\n",
        "MERGE (cwedata)-[:HAS_ENTITY]->(Entities)\n",
        "\n",
        "\"\"\"\n",
        "result = conn.query(explore_reviews_csv_query)\n",
        "print(result)"
      ]
    },
    {
      "cell_type": "code",
      "execution_count": 868,
      "metadata": {
        "id": "x6kQFPSkqo2q",
        "colab": {
          "base_uri": "https://localhost:8080/"
        },
        "outputId": "8bd0a2f4-fc73-4fd7-f0ff-5f182dc47e59"
      },
      "outputs": [
        {
          "output_type": "stream",
          "name": "stdout",
          "text": [
            "[]\n"
          ]
        }
      ],
      "source": [
        "explore_reviews_csv_query = \"\"\"\n",
        "MERGE (cwe:CWE {cwe_id:\"200\"})\n",
        "MERGE (cwedata:Extended_Descriptions {runtime:1302})\n",
        "MERGE (cwe)-[:MAPPED_WITH]->(cwedata)\n",
        "MERGE (cwedata)-[:HAS_GLOBAL_CATEGORY{weight:0.009935460988123061,source:\"wikipedia-en\",category:\"Construction\",page_id:755979}]->(cwe)\n",
        "MERGE (cwedata)-[:HAS_GLOBAL_CATEGORY{weight:0.009935460988123061,source:\"wikipedia-en\",category:\"File sharing\",page_id:802056}]->(cwe)\n",
        "\n",
        "\"\"\"\n",
        "result = conn.query(explore_reviews_csv_query)\n",
        "print(result)"
      ]
    },
    {
      "cell_type": "code",
      "execution_count": 869,
      "metadata": {
        "id": "oC33BGS3IXRe",
        "colab": {
          "base_uri": "https://localhost:8080/"
        },
        "outputId": "fdfcf0db-e616-47f6-af68-5247f6e0cbfd"
      },
      "outputs": [
        {
          "output_type": "stream",
          "name": "stdout",
          "text": [
            "[]\n"
          ]
        }
      ],
      "source": [
        "explore_reviews_csv_query = \"\"\"\n",
        "CALL apoc.load.json(\"https://raw.githubusercontent.com/neostrange/CveParse/main/Extended_Descriptions.json\", null, {failOnError:false})\n",
        "YIELD value\n",
        "WITH value  AS data\n",
        "WITH data\n",
        "UNWIND data.Extended_Descriptions[3].CWE.entities as Entities\n",
        "MERGE (entities:Entities{rawName:Entities.`rawName`})\n",
        "  SET \n",
        "   entities.offsetStart = Entities.offsetStart,\n",
        "   entities.offsetEnd = Entities.offsetEnd,\n",
        "   entities.confidence_score = Entities.confidence_score,\n",
        "   entities.wikipediaExternalRef = Entities.wikipediaExternalRef,\n",
        "   entities.wikidataId = Entities.wikidataId\n",
        "\n",
        "\"\"\"\n",
        "result = conn.query(explore_reviews_csv_query)\n",
        "print(result)"
      ]
    },
    {
      "cell_type": "code",
      "execution_count": 870,
      "metadata": {
        "id": "RyJp_yHxba7l",
        "colab": {
          "base_uri": "https://localhost:8080/"
        },
        "outputId": "24c68aaf-35d5-49f3-f017-b2f8ee3ca52f"
      },
      "outputs": [
        {
          "output_type": "stream",
          "name": "stdout",
          "text": [
            "[]\n"
          ]
        }
      ],
      "source": [
        "explore_reviews_csv_query = \"\"\"\n",
        "MERGE (cwedata:Extended_Descriptions {runtime: 1302})\n",
        "MERGE (Entities:Entities {rawName: \"exposures\"})\n",
        "MERGE (cwedata)-[:HAS_ENTITY]->(Entities)\n",
        "\n",
        "\"\"\"\n",
        "result = conn.query(explore_reviews_csv_query)\n",
        "print(result)"
      ]
    },
    {
      "cell_type": "code",
      "execution_count": 871,
      "metadata": {
        "id": "_N-LpVIobaiI",
        "colab": {
          "base_uri": "https://localhost:8080/"
        },
        "outputId": "802881b2-e326-42bb-e2c4-48e70d02374e"
      },
      "outputs": [
        {
          "output_type": "stream",
          "name": "stdout",
          "text": [
            "[]\n"
          ]
        }
      ],
      "source": [
        "explore_reviews_csv_query = \"\"\"\n",
        "MERGE (cwedata:Extended_Descriptions {runtime: 1302})\n",
        "MERGE (Entities:Entities {rawName: \"severity\"})\n",
        "MERGE (cwedata)-[:HAS_ENTITY]->(Entities)\n",
        "\n",
        "\"\"\"\n",
        "result = conn.query(explore_reviews_csv_query)\n",
        "print(result)"
      ]
    },
    {
      "cell_type": "code",
      "execution_count": 872,
      "metadata": {
        "id": "1hQ8eblqoe9M",
        "colab": {
          "base_uri": "https://localhost:8080/"
        },
        "outputId": "c329d5c0-8553-4eb0-d711-f156d48b00fa"
      },
      "outputs": [
        {
          "output_type": "stream",
          "name": "stdout",
          "text": [
            "[]\n"
          ]
        }
      ],
      "source": [
        "explore_reviews_csv_query = \"\"\"\n",
        "MERGE (cwedata:Extended_Descriptions {runtime: 1302})\n",
        "MERGE (Entities:Entities {rawName: \"sensitive information\"})\n",
        "MERGE (cwedata)-[:HAS_ENTITY]->(Entities)\n",
        "\n",
        "\"\"\"\n",
        "result = conn.query(explore_reviews_csv_query)\n",
        "print(result)"
      ]
    },
    {
      "cell_type": "code",
      "execution_count": 873,
      "metadata": {
        "id": "cVIxBK7Eoe1t",
        "colab": {
          "base_uri": "https://localhost:8080/"
        },
        "outputId": "95eb3ae4-8146-4d9f-a794-544785c8927d"
      },
      "outputs": [
        {
          "output_type": "stream",
          "name": "stdout",
          "text": [
            "[]\n"
          ]
        }
      ],
      "source": [
        "explore_reviews_csv_query = \"\"\"\n",
        "MERGE (cwedata:Extended_Descriptions {runtime: 1302})\n",
        "MERGE (Entities:Entities {rawName: \"attacker\"})\n",
        "MERGE (cwedata)-[:HAS_ENTITY]->(Entities)\n",
        "\n",
        "\"\"\"\n",
        "result = conn.query(explore_reviews_csv_query)\n",
        "print(result)"
      ]
    },
    {
      "cell_type": "code",
      "execution_count": 874,
      "metadata": {
        "id": "xC1II70eoe5V",
        "colab": {
          "base_uri": "https://localhost:8080/"
        },
        "outputId": "b26d9f63-835d-41d8-cffe-0a04215ce90a"
      },
      "outputs": [
        {
          "output_type": "stream",
          "name": "stdout",
          "text": [
            "[]\n"
          ]
        }
      ],
      "source": [
        "explore_reviews_csv_query = \"\"\"\n",
        "MERGE (cwedata:Extended_Descriptions {runtime: 1302})\n",
        "MERGE (Entities:Entities {rawName: \"personal information\"})\n",
        "MERGE (cwedata)-[:HAS_ENTITY]->(Entities)\n",
        "\n",
        "\"\"\"\n",
        "result = conn.query(explore_reviews_csv_query)\n",
        "print(result)"
      ]
    },
    {
      "cell_type": "code",
      "execution_count": 875,
      "metadata": {
        "id": "sjHoBtkvoexu",
        "colab": {
          "base_uri": "https://localhost:8080/"
        },
        "outputId": "0f2b311d-7341-437f-f735-5e5123ec1837"
      },
      "outputs": [
        {
          "output_type": "stream",
          "name": "stdout",
          "text": [
            "[]\n"
          ]
        }
      ],
      "source": [
        "explore_reviews_csv_query = \"\"\"\n",
        "MERGE (cwedata:Extended_Descriptions {runtime: 1302})\n",
        "MERGE (Entities:Entities {rawName: \"personal messages\"})\n",
        "MERGE (cwedata)-[:HAS_ENTITY]->(Entities)\n",
        "\n",
        "\"\"\"\n",
        "result = conn.query(explore_reviews_csv_query)\n",
        "print(result)"
      ]
    },
    {
      "cell_type": "code",
      "execution_count": 876,
      "metadata": {
        "id": "kElQ8kvLoeuR",
        "colab": {
          "base_uri": "https://localhost:8080/"
        },
        "outputId": "3ae14aab-8b9f-4aa0-87df-bc5425d4cb53"
      },
      "outputs": [
        {
          "output_type": "stream",
          "name": "stdout",
          "text": [
            "[]\n"
          ]
        }
      ],
      "source": [
        "explore_reviews_csv_query = \"\"\"\n",
        "MERGE (cwedata:Extended_Descriptions {runtime: 1302})\n",
        "MERGE (Entities:Entities {rawName: \"financial data\"})\n",
        "MERGE (cwedata)-[:HAS_ENTITY]->(Entities)\n",
        "\n",
        "\"\"\"\n",
        "result = conn.query(explore_reviews_csv_query)\n",
        "print(result)"
      ]
    },
    {
      "cell_type": "code",
      "execution_count": 877,
      "metadata": {
        "id": "-P-J86weoerH",
        "colab": {
          "base_uri": "https://localhost:8080/"
        },
        "outputId": "3bdfab91-ae70-4035-e298-4a1c1cb1bf8b"
      },
      "outputs": [
        {
          "output_type": "stream",
          "name": "stdout",
          "text": [
            "[]\n"
          ]
        }
      ],
      "source": [
        "explore_reviews_csv_query = \"\"\"\n",
        "MERGE (cwedata:Extended_Descriptions {runtime: 1302})\n",
        "MERGE (Entities:Entities {rawName: \"health records\"})\n",
        "MERGE (cwedata)-[:HAS_ENTITY]->(Entities)\n",
        "\n",
        "\"\"\"\n",
        "result = conn.query(explore_reviews_csv_query)\n",
        "print(result)"
      ]
    },
    {
      "cell_type": "code",
      "execution_count": 878,
      "metadata": {
        "id": "s7sMokXyoen9",
        "colab": {
          "base_uri": "https://localhost:8080/"
        },
        "outputId": "536d9521-d3ed-4279-ef2e-ab6c56587810"
      },
      "outputs": [
        {
          "output_type": "stream",
          "name": "stdout",
          "text": [
            "[]\n"
          ]
        }
      ],
      "source": [
        "explore_reviews_csv_query = \"\"\"\n",
        "MERGE (cwedata:Extended_Descriptions {runtime: 1302})\n",
        "MERGE (Entities:Entities {rawName: \"geographic location\"})\n",
        "MERGE (cwedata)-[:HAS_ENTITY]->(Entities)\n",
        "\n",
        "\"\"\"\n",
        "result = conn.query(explore_reviews_csv_query)\n",
        "print(result)"
      ]
    },
    {
      "cell_type": "code",
      "execution_count": 879,
      "metadata": {
        "id": "Sx7GCwZkoekk",
        "colab": {
          "base_uri": "https://localhost:8080/"
        },
        "outputId": "c279e3ab-f368-4d29-a1f7-6392a228b2d4"
      },
      "outputs": [
        {
          "output_type": "stream",
          "name": "stdout",
          "text": [
            "[]\n"
          ]
        }
      ],
      "source": [
        "explore_reviews_csv_query = \"\"\"\n",
        "MERGE (cwedata:Extended_Descriptions {runtime: 1302})\n",
        "MERGE (Entities:Entities {rawName: \"contact details\"})\n",
        "MERGE (cwedata)-[:HAS_ENTITY]->(Entities)\n",
        "\n",
        "\"\"\"\n",
        "result = conn.query(explore_reviews_csv_query)\n",
        "print(result)"
      ]
    },
    {
      "cell_type": "code",
      "execution_count": 880,
      "metadata": {
        "id": "1TDSVpjYoee4",
        "colab": {
          "base_uri": "https://localhost:8080/"
        },
        "outputId": "97ae45ea-86da-4da8-cf0d-afa55b809007"
      },
      "outputs": [
        {
          "output_type": "stream",
          "name": "stdout",
          "text": [
            "[]\n"
          ]
        }
      ],
      "source": [
        "explore_reviews_csv_query = \"\"\"\n",
        "MERGE (cwedata:Extended_Descriptions {runtime: 1302})\n",
        "MERGE (Entities:Entities {rawName: \"packages\"})\n",
        "MERGE (cwedata)-[:HAS_ENTITY]->(Entities)\n",
        "\n",
        "\"\"\"\n",
        "result = conn.query(explore_reviews_csv_query)\n",
        "print(result)"
      ]
    },
    {
      "cell_type": "code",
      "execution_count": 881,
      "metadata": {
        "id": "CFL2Tmtjoebs",
        "colab": {
          "base_uri": "https://localhost:8080/"
        },
        "outputId": "2de65af6-36dd-4e7a-ccee-0c7fc97a8864"
      },
      "outputs": [
        {
          "output_type": "stream",
          "name": "stdout",
          "text": [
            "[]\n"
          ]
        }
      ],
      "source": [
        "explore_reviews_csv_query = \"\"\"\n",
        "MERGE (cwedata:Extended_Descriptions {runtime: 1302})\n",
        "MERGE (Entities:Entities {rawName: \"intellectual property\"})\n",
        "MERGE (cwedata)-[:HAS_ENTITY]->(Entities)\n",
        "\n",
        "\"\"\"\n",
        "result = conn.query(explore_reviews_csv_query)\n",
        "print(result)"
      ]
    },
    {
      "cell_type": "code",
      "execution_count": 882,
      "metadata": {
        "id": "AazvA0lToeVv",
        "colab": {
          "base_uri": "https://localhost:8080/"
        },
        "outputId": "f43ce0d4-fa47-4f49-9dde-2bd7f1f27c2e"
      },
      "outputs": [
        {
          "output_type": "stream",
          "name": "stdout",
          "text": [
            "[]\n"
          ]
        }
      ],
      "source": [
        "explore_reviews_csv_query = \"\"\"\n",
        "MERGE (cwedata:Extended_Descriptions {runtime: 1302})\n",
        "MERGE (Entities:Entities {rawName: \"configuration\"})\n",
        "MERGE (cwedata)-[:HAS_ENTITY]->(Entities)\n",
        "\n",
        "\"\"\"\n",
        "result = conn.query(explore_reviews_csv_query)\n",
        "print(result)"
      ]
    },
    {
      "cell_type": "code",
      "execution_count": 883,
      "metadata": {
        "id": "mMTxkUAPoeSZ",
        "colab": {
          "base_uri": "https://localhost:8080/"
        },
        "outputId": "0de39d34-ba34-48c1-8dac-ee96132ddcdc"
      },
      "outputs": [
        {
          "output_type": "stream",
          "name": "stdout",
          "text": [
            "[]\n"
          ]
        }
      ],
      "source": [
        "explore_reviews_csv_query = \"\"\"\n",
        "MERGE (cwedata:Extended_Descriptions {runtime: 1302})\n",
        "MERGE (Entities:Entities {rawName: \"internal state\"})\n",
        "MERGE (cwedata)-[:HAS_ENTITY]->(Entities)\n",
        "\n",
        "\"\"\"\n",
        "result = conn.query(explore_reviews_csv_query)\n",
        "print(result)"
      ]
    },
    {
      "cell_type": "code",
      "execution_count": 884,
      "metadata": {
        "id": "HxVs1oOXbaEJ",
        "colab": {
          "base_uri": "https://localhost:8080/"
        },
        "outputId": "28446168-1d93-4080-e306-9a3715a0bbf0"
      },
      "outputs": [
        {
          "output_type": "stream",
          "name": "stdout",
          "text": [
            "[]\n"
          ]
        }
      ],
      "source": [
        "explore_reviews_csv_query = \"\"\"\n",
        "MERGE (cwedata:Extended_Descriptions {runtime: 1302})\n",
        "MERGE (Entities:Entities {rawName: \"metadata\"})\n",
        "MERGE (cwedata)-[:HAS_ENTITY]->(Entities)\n",
        "\n",
        "\"\"\"\n",
        "result = conn.query(explore_reviews_csv_query)\n",
        "print(result)"
      ]
    },
    {
      "cell_type": "code",
      "execution_count": 885,
      "metadata": {
        "id": "PLPHZQLp7MeG",
        "colab": {
          "base_uri": "https://localhost:8080/"
        },
        "outputId": "a2d446ac-d983-460f-d697-7f27eac68e5e"
      },
      "outputs": [
        {
          "output_type": "stream",
          "name": "stdout",
          "text": [
            "[]\n"
          ]
        }
      ],
      "source": [
        "explore_reviews_csv_query = \"\"\"\n",
        "MERGE (cwedata:Extended_Descriptions {runtime: 1302})\n",
        "MERGE (Entities:Entities {rawName: \"logging\"})\n",
        "MERGE (cwedata)-[:HAS_ENTITY]->(Entities)\n",
        "\n",
        "\"\"\"\n",
        "result = conn.query(explore_reviews_csv_query)\n",
        "print(result)"
      ]
    },
    {
      "cell_type": "code",
      "execution_count": 886,
      "metadata": {
        "id": "YDB6cN7B7MTy",
        "colab": {
          "base_uri": "https://localhost:8080/"
        },
        "outputId": "d03a8aec-959f-4a3c-ae62-a5cd5493b873"
      },
      "outputs": [
        {
          "output_type": "stream",
          "name": "stdout",
          "text": [
            "[]\n"
          ]
        }
      ],
      "source": [
        "explore_reviews_csv_query = \"\"\"\n",
        "MERGE (cwedata:Extended_Descriptions {runtime: 1302})\n",
        "MERGE (Entities:Entities {rawName: \"headers\"})\n",
        "MERGE (cwedata)-[:HAS_ENTITY]->(Entities)\n",
        "\n",
        "\"\"\"\n",
        "result = conn.query(explore_reviews_csv_query)\n",
        "print(result)"
      ]
    },
    {
      "cell_type": "code",
      "execution_count": 887,
      "metadata": {
        "id": "yniJxPEp7MJG",
        "colab": {
          "base_uri": "https://localhost:8080/"
        },
        "outputId": "689da531-3eaa-489e-91bd-d6ca8b3b3ddb"
      },
      "outputs": [
        {
          "output_type": "stream",
          "name": "stdout",
          "text": [
            "[]\n"
          ]
        }
      ],
      "source": [
        "explore_reviews_csv_query = \"\"\"\n",
        "MERGE (cwedata:Extended_Descriptions {runtime: 1302})\n",
        "MERGE (Entities:Entities {rawName: \"indirect\"})\n",
        "MERGE (cwedata)-[:HAS_ENTITY]->(Entities)\n",
        "\n",
        "\"\"\"\n",
        "result = conn.query(explore_reviews_csv_query)\n",
        "print(result)"
      ]
    },
    {
      "cell_type": "code",
      "execution_count": 888,
      "metadata": {
        "id": "CZTQOxt97MAF",
        "colab": {
          "base_uri": "https://localhost:8080/"
        },
        "outputId": "877ab69a-a033-4293-d397-a48f016e8c55"
      },
      "outputs": [
        {
          "output_type": "stream",
          "name": "stdout",
          "text": [
            "[]\n"
          ]
        }
      ],
      "source": [
        "explore_reviews_csv_query = \"\"\"\n",
        "MERGE (cwedata:Extended_Descriptions {runtime: 1302})\n",
        "MERGE (Entities:Entities {rawName: \"discrepancy\"})\n",
        "MERGE (cwedata)-[:HAS_ENTITY]->(Entities)\n",
        "\n",
        "\"\"\"\n",
        "result = conn.query(explore_reviews_csv_query)\n",
        "print(result)"
      ]
    },
    {
      "cell_type": "code",
      "execution_count": 889,
      "metadata": {
        "id": "qoxDMgxh7L2Z",
        "colab": {
          "base_uri": "https://localhost:8080/"
        },
        "outputId": "801e537f-48d3-4bb6-c452-ae6ef6c2be9a"
      },
      "outputs": [
        {
          "output_type": "stream",
          "name": "stdout",
          "text": [
            "[]\n"
          ]
        }
      ],
      "source": [
        "explore_reviews_csv_query = \"\"\"\n",
        "MERGE (cwedata:Extended_Descriptions {runtime: 1302})\n",
        "MERGE (Entities:Entities {rawName: \"outsider\"})\n",
        "MERGE (cwedata)-[:HAS_ENTITY]->(Entities)\n",
        "\n",
        "\"\"\"\n",
        "result = conn.query(explore_reviews_csv_query)\n",
        "print(result)"
      ]
    },
    {
      "cell_type": "code",
      "execution_count": 890,
      "metadata": {
        "id": "ZnL0wU2f7LtM",
        "colab": {
          "base_uri": "https://localhost:8080/"
        },
        "outputId": "37d9a259-b88f-4f3b-9d86-40cc722bd922"
      },
      "outputs": [
        {
          "output_type": "stream",
          "name": "stdout",
          "text": [
            "[]\n"
          ]
        }
      ],
      "source": [
        "explore_reviews_csv_query = \"\"\"\n",
        "MERGE (cwedata:Extended_Descriptions {runtime: 1302})\n",
        "MERGE (Entities:Entities {rawName: \"Information\"})\n",
        "MERGE (cwedata)-[:HAS_ENTITY]->(Entities)\n",
        "\n",
        "\"\"\"\n",
        "result = conn.query(explore_reviews_csv_query)\n",
        "print(result)"
      ]
    },
    {
      "cell_type": "code",
      "execution_count": 891,
      "metadata": {
        "id": "rN_WGsGs7LkQ",
        "colab": {
          "base_uri": "https://localhost:8080/"
        },
        "outputId": "500180fd-5fa6-4296-e2c1-cbe2a1e08f84"
      },
      "outputs": [
        {
          "output_type": "stream",
          "name": "stdout",
          "text": [
            "[]\n"
          ]
        }
      ],
      "source": [
        "explore_reviews_csv_query = \"\"\"\n",
        "MERGE (cwedata:Extended_Descriptions {runtime: 1302})\n",
        "MERGE (Entities:Entities {rawName: \"direct product\"})\n",
        "MERGE (cwedata)-[:HAS_ENTITY]->(Entities)\n",
        "\n",
        "\"\"\"\n",
        "result = conn.query(explore_reviews_csv_query)\n",
        "print(result)"
      ]
    },
    {
      "cell_type": "code",
      "execution_count": 892,
      "metadata": {
        "id": "kmsseapt7LbB",
        "colab": {
          "base_uri": "https://localhost:8080/"
        },
        "outputId": "e24fba8b-eae9-4093-89a7-9a396470e468"
      },
      "outputs": [
        {
          "output_type": "stream",
          "name": "stdout",
          "text": [
            "[]\n"
          ]
        }
      ],
      "source": [
        "explore_reviews_csv_query = \"\"\"\n",
        "MERGE (cwedata:Extended_Descriptions {runtime: 1302})\n",
        "MERGE (Entities:Entities {rawName: \"administrators\"})\n",
        "MERGE (cwedata)-[:HAS_ENTITY]->(Entities)\n",
        "\n",
        "\"\"\"\n",
        "result = conn.query(explore_reviews_csv_query)\n",
        "print(result)"
      ]
    },
    {
      "cell_type": "code",
      "execution_count": 893,
      "metadata": {
        "id": "CjOv-9Tw7LS8",
        "colab": {
          "base_uri": "https://localhost:8080/"
        },
        "outputId": "66523927-1d9b-4c48-f053-6b91e55ebf65"
      },
      "outputs": [
        {
          "output_type": "stream",
          "name": "stdout",
          "text": [
            "[]\n"
          ]
        }
      ],
      "source": [
        "explore_reviews_csv_query = \"\"\"\n",
        "MERGE (cwedata:Extended_Descriptions {runtime: 1302})\n",
        "MERGE (Entities:Entities {rawName: \"admins\"})\n",
        "MERGE (cwedata)-[:HAS_ENTITY]->(Entities)\n",
        "\n",
        "\"\"\"\n",
        "result = conn.query(explore_reviews_csv_query)\n",
        "print(result)"
      ]
    },
    {
      "cell_type": "code",
      "execution_count": 894,
      "metadata": {
        "id": "0GDSO-Iv7LKF",
        "colab": {
          "base_uri": "https://localhost:8080/"
        },
        "outputId": "39c83337-bc23-499d-b1d3-732d22fe424a"
      },
      "outputs": [
        {
          "output_type": "stream",
          "name": "stdout",
          "text": [
            "[]\n"
          ]
        }
      ],
      "source": [
        "explore_reviews_csv_query = \"\"\"\n",
        "MERGE (cwedata:Extended_Descriptions {runtime: 1302})\n",
        "MERGE (Entities:Entities {rawName: \"and/or\"})\n",
        "MERGE (cwedata)-[:HAS_ENTITY]->(Entities)\n",
        "\n",
        "\"\"\"\n",
        "result = conn.query(explore_reviews_csv_query)\n",
        "print(result)"
      ]
    },
    {
      "cell_type": "code",
      "execution_count": 895,
      "metadata": {
        "id": "h846zxb-7LCo",
        "colab": {
          "base_uri": "https://localhost:8080/"
        },
        "outputId": "f85b9fe6-09a2-45d1-a284-2180378f5363"
      },
      "outputs": [
        {
          "output_type": "stream",
          "name": "stdout",
          "text": [
            "[]\n"
          ]
        }
      ],
      "source": [
        "explore_reviews_csv_query = \"\"\"\n",
        "MERGE (cwedata:Extended_Descriptions {runtime: 1302})\n",
        "MERGE (Entities:Entities {rawName: \"explicitly\"})\n",
        "MERGE (cwedata)-[:HAS_ENTITY]->(Entities)\n",
        "\n",
        "\"\"\"\n",
        "result = conn.query(explore_reviews_csv_query)\n",
        "print(result)"
      ]
    },
    {
      "cell_type": "code",
      "execution_count": 896,
      "metadata": {
        "id": "0VLN9tm17K6J",
        "colab": {
          "base_uri": "https://localhost:8080/"
        },
        "outputId": "e1158654-b15a-497d-d61b-dfac604e1fcd"
      },
      "outputs": [
        {
          "output_type": "stream",
          "name": "stdout",
          "text": [
            "[]\n"
          ]
        }
      ],
      "source": [
        "explore_reviews_csv_query = \"\"\"\n",
        "MERGE (cwedata:Extended_Descriptions {runtime: 1302})\n",
        "MERGE (Entities:Entities {rawName: \"inserts\"})\n",
        "MERGE (cwedata)-[:HAS_ENTITY]->(Entities)\n",
        "\n",
        "\"\"\"\n",
        "result = conn.query(explore_reviews_csv_query)\n",
        "print(result)"
      ]
    },
    {
      "cell_type": "code",
      "execution_count": 897,
      "metadata": {
        "id": "8SZMAk4T7Kxk",
        "colab": {
          "base_uri": "https://localhost:8080/"
        },
        "outputId": "2f9be23b-ffc9-43f9-fbdb-3d710d4025b6"
      },
      "outputs": [
        {
          "output_type": "stream",
          "name": "stdout",
          "text": [
            "[]\n"
          ]
        }
      ],
      "source": [
        "explore_reviews_csv_query = \"\"\"\n",
        "MERGE (cwedata:Extended_Descriptions {runtime: 1302})\n",
        "MERGE (Entities:Entities {rawName: \"unauthorized\"})\n",
        "MERGE (cwedata)-[:HAS_ENTITY]->(Entities)\n",
        "\n",
        "\"\"\"\n",
        "result = conn.query(explore_reviews_csv_query)\n",
        "print(result)"
      ]
    },
    {
      "cell_type": "code",
      "execution_count": 898,
      "metadata": {
        "id": "vBUzHMcT7KpU",
        "colab": {
          "base_uri": "https://localhost:8080/"
        },
        "outputId": "52622100-8081-44a1-8d2b-7ac780a1a9dd"
      },
      "outputs": [
        {
          "output_type": "stream",
          "name": "stdout",
          "text": [
            "[]\n"
          ]
        }
      ],
      "source": [
        "explore_reviews_csv_query = \"\"\"\n",
        "MERGE (cwedata:Extended_Descriptions {runtime: 1302})\n",
        "MERGE (Entities:Entities {rawName: \"script error\"})\n",
        "MERGE (cwedata)-[:HAS_ENTITY]->(Entities)\n",
        "\n",
        "\"\"\"\n",
        "result = conn.query(explore_reviews_csv_query)\n",
        "print(result)"
      ]
    },
    {
      "cell_type": "code",
      "execution_count": 899,
      "metadata": {
        "id": "GTBVexkN7KNz",
        "colab": {
          "base_uri": "https://localhost:8080/"
        },
        "outputId": "cbcaeddf-1398-40ff-b8fa-a9d998fd3d55"
      },
      "outputs": [
        {
          "output_type": "stream",
          "name": "stdout",
          "text": [
            "[]\n"
          ]
        }
      ],
      "source": [
        "explore_reviews_csv_query = \"\"\"\n",
        "MERGE (cwedata:Extended_Descriptions {runtime: 1302})\n",
        "MERGE (Entities:Entities {rawName: \"revealing\"})\n",
        "MERGE (cwedata)-[:HAS_ENTITY]->(Entities)\n",
        "\n",
        "\"\"\"\n",
        "result = conn.query(explore_reviews_csv_query)\n",
        "print(result)"
      ]
    },
    {
      "cell_type": "code",
      "execution_count": 900,
      "metadata": {
        "id": "CV4URuRiqp0Y",
        "colab": {
          "base_uri": "https://localhost:8080/"
        },
        "outputId": "e7b6da77-7dde-4481-f167-1748c064809c"
      },
      "outputs": [
        {
          "output_type": "stream",
          "name": "stdout",
          "text": [
            "[]\n"
          ]
        }
      ],
      "source": [
        "explore_reviews_csv_query = \"\"\"\n",
        "MERGE (cwe:CWE {cwe_id:\"284\"})\n",
        "MERGE (cwedata:Extended_Descriptions {runtime:1089})\n",
        "MERGE (cwe)-[:MAPPED_WITH]->(cwedata)\n",
        "MERGE (cwedata)-[:HAS_GLOBAL_CATEGORY{weight:0.02177728820880549,source:\"wikipedia-en\",category:\"Perimeter security\",page_id:29568962}]->(cwe)\n",
        "MERGE (cwedata)-[:HAS_GLOBAL_CATEGORY{weight:0.018774733450646813,source:\"wikipedia-en\",category:\"Command and control\",page_id:13460558}]->(cwe)\n",
        "MERGE (cwedata)-[:HAS_GLOBAL_CATEGORY{weight:0.0054037453131323635,source:\"wikipedia-en\",category:\"Software architecture\",page_id:1805593}]->(cwe)\n",
        "\n",
        "\"\"\"\n",
        "result = conn.query(explore_reviews_csv_query)\n",
        "print(result)"
      ]
    },
    {
      "cell_type": "code",
      "execution_count": 901,
      "metadata": {
        "id": "NxCUlPAKIZhf",
        "colab": {
          "base_uri": "https://localhost:8080/"
        },
        "outputId": "c46eac39-0064-4c4e-c8bb-c348b3258080"
      },
      "outputs": [
        {
          "output_type": "stream",
          "name": "stdout",
          "text": [
            "[]\n"
          ]
        }
      ],
      "source": [
        "explore_reviews_csv_query = \"\"\"\n",
        "CALL apoc.load.json(\"https://raw.githubusercontent.com/neostrange/CveParse/main/Extended_Descriptions.json\", null, {failOnError:false})\n",
        "YIELD value\n",
        "WITH value  AS data\n",
        "WITH data\n",
        "UNWIND data.Extended_Descriptions[4].CWE.entities as Entities\n",
        "MERGE (entities:Entities{rawName:Entities.`rawName`})\n",
        "  SET \n",
        "   entities.offsetStart = Entities.offsetStart,\n",
        "   entities.offsetEnd = Entities.offsetEnd,\n",
        "   entities.confidence_score = Entities.confidence_score,\n",
        "   entities.wikipediaExternalRef = Entities.wikipediaExternalRef,\n",
        "   entities.wikidataId = Entities.wikidataId\n",
        "\n",
        "\"\"\"\n",
        "result = conn.query(explore_reviews_csv_query)\n",
        "print(result)"
      ]
    },
    {
      "cell_type": "code",
      "execution_count": 902,
      "metadata": {
        "id": "CV3EudGl7KXU",
        "colab": {
          "base_uri": "https://localhost:8080/"
        },
        "outputId": "21361f25-6c8a-4975-ea35-0eec1cd86c8a"
      },
      "outputs": [
        {
          "output_type": "stream",
          "name": "stdout",
          "text": [
            "[]\n"
          ]
        }
      ],
      "source": [
        "explore_reviews_csv_query = \"\"\"\n",
        "MERGE (cwedata:Extended_Descriptions {runtime: 1089})\n",
        "MERGE (Entities:Entities {rawName: \"Access control\"})\n",
        "MERGE (cwedata)-[:HAS_ENTITY]->(Entities)\n",
        "\n",
        "\"\"\"\n",
        "result = conn.query(explore_reviews_csv_query)\n",
        "print(result)"
      ]
    },
    {
      "cell_type": "code",
      "execution_count": 903,
      "metadata": {
        "id": "9_9vePy37KCc",
        "colab": {
          "base_uri": "https://localhost:8080/"
        },
        "outputId": "6f115b4a-0e5e-4925-f42a-af070f6b8c88"
      },
      "outputs": [
        {
          "output_type": "stream",
          "name": "stdout",
          "text": [
            "[]\n"
          ]
        }
      ],
      "source": [
        "explore_reviews_csv_query = \"\"\"\n",
        "MERGE (cwedata:Extended_Descriptions {runtime: 1089})\n",
        "MERGE (Entities:Entities {rawName: \"Authentication\"})\n",
        "MERGE (cwedata)-[:HAS_ENTITY]->(Entities)\n",
        "\n",
        "\"\"\"\n",
        "result = conn.query(explore_reviews_csv_query)\n",
        "print(result)"
      ]
    },
    {
      "cell_type": "code",
      "execution_count": 904,
      "metadata": {
        "id": "GPYhNs-c7KgR",
        "colab": {
          "base_uri": "https://localhost:8080/"
        },
        "outputId": "d408154f-4889-4add-f3ef-1065d0926f1f"
      },
      "outputs": [
        {
          "output_type": "stream",
          "name": "stdout",
          "text": [
            "[]\n"
          ]
        }
      ],
      "source": [
        "explore_reviews_csv_query = \"\"\"\n",
        "MERGE (cwedata:Extended_Descriptions {runtime: 1089})\n",
        "MERGE (Entities:Entities {rawName: \"proving\"})\n",
        "MERGE (cwedata)-[:HAS_ENTITY]->(Entities)\n",
        "\n",
        "\"\"\"\n",
        "result = conn.query(explore_reviews_csv_query)\n",
        "print(result)"
      ]
    },
    {
      "cell_type": "code",
      "execution_count": 905,
      "metadata": {
        "id": "jal6HUjBc8bm",
        "colab": {
          "base_uri": "https://localhost:8080/"
        },
        "outputId": "8b5360c6-313b-40fe-ef3e-4fe656f2e7df"
      },
      "outputs": [
        {
          "output_type": "stream",
          "name": "stdout",
          "text": [
            "[]\n"
          ]
        }
      ],
      "source": [
        "explore_reviews_csv_query = \"\"\"\n",
        "MERGE (cwedata:Extended_Descriptions {runtime: 1089})\n",
        "MERGE (Entities:Entities {rawName: \"Authorization\"})\n",
        "MERGE (cwedata)-[:HAS_ENTITY]->(Entities)\n",
        "\n",
        "\"\"\"\n",
        "result = conn.query(explore_reviews_csv_query)\n",
        "print(result)"
      ]
    },
    {
      "cell_type": "code",
      "execution_count": 906,
      "metadata": {
        "id": "ElCfE75bc73k",
        "colab": {
          "base_uri": "https://localhost:8080/"
        },
        "outputId": "de5fce83-391e-4919-a3bc-e74407bd918d"
      },
      "outputs": [
        {
          "output_type": "stream",
          "name": "stdout",
          "text": [
            "[]\n"
          ]
        }
      ],
      "source": [
        "explore_reviews_csv_query = \"\"\"\n",
        "MERGE (cwedata:Extended_Descriptions {runtime: 1089})\n",
        "MERGE (Entities:Entities {rawName: \"Accountability\"})\n",
        "MERGE (cwedata)-[:HAS_ENTITY]->(Entities)\n",
        "\n",
        "\"\"\"\n",
        "result = conn.query(explore_reviews_csv_query)\n",
        "print(result)"
      ]
    },
    {
      "cell_type": "code",
      "execution_count": 907,
      "metadata": {
        "id": "Tbg4nXnvc7OO",
        "colab": {
          "base_uri": "https://localhost:8080/"
        },
        "outputId": "bf7d3a74-429c-4a93-c15d-6eabf98c0ba9"
      },
      "outputs": [
        {
          "output_type": "stream",
          "name": "stdout",
          "text": [
            "[]\n"
          ]
        }
      ],
      "source": [
        "explore_reviews_csv_query = \"\"\"\n",
        "MERGE (cwedata:Extended_Descriptions {runtime: 1089})\n",
        "MERGE (Entities:Entities {rawName: \"attackers\"})\n",
        "MERGE (cwedata)-[:HAS_ENTITY]->(Entities)\n",
        "\n",
        "\"\"\"\n",
        "result = conn.query(explore_reviews_csv_query)\n",
        "print(result)"
      ]
    },
    {
      "cell_type": "code",
      "execution_count": 908,
      "metadata": {
        "id": "pwy8pDnropMm",
        "colab": {
          "base_uri": "https://localhost:8080/"
        },
        "outputId": "da5ab26c-d570-4908-fa38-1bfe4d3031b3"
      },
      "outputs": [
        {
          "output_type": "stream",
          "name": "stdout",
          "text": [
            "[]\n"
          ]
        }
      ],
      "source": [
        "explore_reviews_csv_query = \"\"\"\n",
        "MERGE (cwedata:Extended_Descriptions {runtime: 1089})\n",
        "MERGE (Entities:Entities {rawName: \"privileges\"})\n",
        "MERGE (cwedata)-[:HAS_ENTITY]->(Entities)\n",
        "\n",
        "\"\"\"\n",
        "result = conn.query(explore_reviews_csv_query)\n",
        "print(result)"
      ]
    },
    {
      "cell_type": "code",
      "execution_count": 909,
      "metadata": {
        "id": "pNvSiiRzopI2",
        "colab": {
          "base_uri": "https://localhost:8080/"
        },
        "outputId": "37e1ffe2-1ddc-4f83-8a6d-f5fb80ef234c"
      },
      "outputs": [
        {
          "output_type": "stream",
          "name": "stdout",
          "text": [
            "[]\n"
          ]
        }
      ],
      "source": [
        "explore_reviews_csv_query = \"\"\"\n",
        "MERGE (cwedata:Extended_Descriptions {runtime: 1089})\n",
        "MERGE (Entities:Entities {rawName: \"sensitive information\"})\n",
        "MERGE (cwedata)-[:HAS_ENTITY]->(Entities)\n",
        "\n",
        "\"\"\"\n",
        "result = conn.query(explore_reviews_csv_query)\n",
        "print(result)"
      ]
    },
    {
      "cell_type": "code",
      "execution_count": 910,
      "metadata": {
        "id": "KlV738NIopEt",
        "colab": {
          "base_uri": "https://localhost:8080/"
        },
        "outputId": "c21301d2-216c-4b83-dcf9-f32e5cee5b0a"
      },
      "outputs": [
        {
          "output_type": "stream",
          "name": "stdout",
          "text": [
            "[]\n"
          ]
        }
      ],
      "source": [
        "explore_reviews_csv_query = \"\"\"\n",
        "MERGE (cwedata:Extended_Descriptions {runtime: 1089})\n",
        "MERGE (Entities:Entities {rawName: \"executing\"})\n",
        "MERGE (cwedata)-[:HAS_ENTITY]->(Entities)\n",
        "\n",
        "\"\"\"\n",
        "result = conn.query(explore_reviews_csv_query)\n",
        "print(result)"
      ]
    },
    {
      "cell_type": "code",
      "execution_count": 911,
      "metadata": {
        "id": "kaKQ2q61opA0",
        "colab": {
          "base_uri": "https://localhost:8080/"
        },
        "outputId": "c847c9cd-fc5e-47f6-bbd3-91526943018b"
      },
      "outputs": [
        {
          "output_type": "stream",
          "name": "stdout",
          "text": [
            "[]\n"
          ]
        }
      ],
      "source": [
        "explore_reviews_csv_query = \"\"\"\n",
        "MERGE (cwedata:Extended_Descriptions {runtime: 1089})\n",
        "MERGE (Entities:Entities {rawName: \"commands\"})\n",
        "MERGE (cwedata)-[:HAS_ENTITY]->(Entities)\n",
        "\n",
        "\"\"\"\n",
        "result = conn.query(explore_reviews_csv_query)\n",
        "print(result)"
      ]
    },
    {
      "cell_type": "code",
      "execution_count": 912,
      "metadata": {
        "id": "IW-pePMAoo0U",
        "colab": {
          "base_uri": "https://localhost:8080/"
        },
        "outputId": "1282294a-f61b-4511-a570-d28b9d5b501e"
      },
      "outputs": [
        {
          "output_type": "stream",
          "name": "stdout",
          "text": [
            "[]\n"
          ]
        }
      ],
      "source": [
        "explore_reviews_csv_query = \"\"\"\n",
        "MERGE (cwedata:Extended_Descriptions {runtime: 1089})\n",
        "MERGE (Entities:Entities {rawName: \"evading detection\"})\n",
        "MERGE (cwedata)-[:HAS_ENTITY]->(Entities)\n",
        "\n",
        "\"\"\"\n",
        "result = conn.query(explore_reviews_csv_query)\n",
        "print(result)"
      ]
    },
    {
      "cell_type": "code",
      "execution_count": 913,
      "metadata": {
        "id": "nUDGRhUEc6y7",
        "colab": {
          "base_uri": "https://localhost:8080/"
        },
        "outputId": "92252e6e-9f43-4ebe-eb56-e37652551dce"
      },
      "outputs": [
        {
          "output_type": "stream",
          "name": "stdout",
          "text": [
            "[]\n"
          ]
        }
      ],
      "source": [
        "explore_reviews_csv_query = \"\"\"\n",
        "MERGE (cwedata:Extended_Descriptions {runtime: 1089})\n",
        "MERGE (Entities:Entities {rawName: \"behaviors\"})\n",
        "MERGE (cwedata)-[:HAS_ENTITY]->(Entities)\n",
        "\n",
        "\"\"\"\n",
        "result = conn.query(explore_reviews_csv_query)\n",
        "print(result)"
      ]
    },
    {
      "cell_type": "code",
      "execution_count": 914,
      "metadata": {
        "id": "IqF9hJck7JLu",
        "colab": {
          "base_uri": "https://localhost:8080/"
        },
        "outputId": "bb46f97c-daba-4544-c71d-bf111867cee1"
      },
      "outputs": [
        {
          "output_type": "stream",
          "name": "stdout",
          "text": [
            "[]\n"
          ]
        }
      ],
      "source": [
        "explore_reviews_csv_query = \"\"\"\n",
        "MERGE (cwedata:Extended_Descriptions {runtime: 1089})\n",
        "MERGE (Entities:Entities {rawName: \"access control\"})\n",
        "MERGE (cwedata)-[:HAS_ENTITY]->(Entities)\n",
        "\n",
        "\"\"\"\n",
        "result = conn.query(explore_reviews_csv_query)\n",
        "print(result)"
      ]
    },
    {
      "cell_type": "code",
      "execution_count": 915,
      "metadata": {
        "id": "x38_i_qmCjcK",
        "colab": {
          "base_uri": "https://localhost:8080/"
        },
        "outputId": "75cc98cc-f631-47d9-c892-745664aa73f2"
      },
      "outputs": [
        {
          "output_type": "stream",
          "name": "stdout",
          "text": [
            "[]\n"
          ]
        }
      ],
      "source": [
        "explore_reviews_csv_query = \"\"\"\n",
        "MERGE (cwedata:Extended_Descriptions {runtime: 1089})\n",
        "MERGE (Entities:Entities {rawName: \"weaknesses\"})\n",
        "MERGE (cwedata)-[:HAS_ENTITY]->(Entities)\n",
        "\n",
        "\"\"\"\n",
        "result = conn.query(explore_reviews_csv_query)\n",
        "print(result)"
      ]
    },
    {
      "cell_type": "code",
      "execution_count": 916,
      "metadata": {
        "id": "91bn5g9XCjWd",
        "colab": {
          "base_uri": "https://localhost:8080/"
        },
        "outputId": "38e4e3cd-74aa-44af-aed0-c014380abd14"
      },
      "outputs": [
        {
          "output_type": "stream",
          "name": "stdout",
          "text": [
            "[]\n"
          ]
        }
      ],
      "source": [
        "explore_reviews_csv_query = \"\"\"\n",
        "MERGE (cwedata:Extended_Descriptions {runtime: 1089})\n",
        "MERGE (Entities:Entities {rawName: \"incorrect\"})\n",
        "MERGE (cwedata)-[:HAS_ENTITY]->(Entities)\n",
        "\n",
        "\"\"\"\n",
        "result = conn.query(explore_reviews_csv_query)\n",
        "print(result)"
      ]
    },
    {
      "cell_type": "code",
      "execution_count": 917,
      "metadata": {
        "id": "wRWlznONCjBy",
        "colab": {
          "base_uri": "https://localhost:8080/"
        },
        "outputId": "5b6e1830-0c76-4590-fd0f-f894f67552af"
      },
      "outputs": [
        {
          "output_type": "stream",
          "name": "stdout",
          "text": [
            "[]\n"
          ]
        }
      ],
      "source": [
        "explore_reviews_csv_query = \"\"\"\n",
        "MERGE (cwedata:Extended_Descriptions {runtime: 1089})\n",
        "MERGE (Entities:Entities {rawName: \"permissions\"})\n",
        "MERGE (cwedata)-[:HAS_ENTITY]->(Entities)\n",
        "\n",
        "\"\"\"\n",
        "result = conn.query(explore_reviews_csv_query)\n",
        "print(result)"
      ]
    },
    {
      "cell_type": "code",
      "execution_count": 918,
      "metadata": {
        "id": "ojkIzPtsCi8P",
        "colab": {
          "base_uri": "https://localhost:8080/"
        },
        "outputId": "46c45d17-57ef-4597-ac0d-7ce0846fce42"
      },
      "outputs": [
        {
          "output_type": "stream",
          "name": "stdout",
          "text": [
            "[]\n"
          ]
        }
      ],
      "source": [
        "explore_reviews_csv_query = \"\"\"\n",
        "MERGE (cwedata:Extended_Descriptions {runtime: 1089})\n",
        "MERGE (Entities:Entities {rawName: \"explicitly\"})\n",
        "MERGE (cwedata)-[:HAS_ENTITY]->(Entities)\n",
        "\n",
        "\"\"\"\n",
        "result = conn.query(explore_reviews_csv_query)\n",
        "print(result)"
      ]
    },
    {
      "cell_type": "code",
      "execution_count": 919,
      "metadata": {
        "id": "0hiuTFzRCi2t",
        "colab": {
          "base_uri": "https://localhost:8080/"
        },
        "outputId": "451a384e-52b1-4137-befe-598806d21851"
      },
      "outputs": [
        {
          "output_type": "stream",
          "name": "stdout",
          "text": [
            "[]\n"
          ]
        }
      ],
      "source": [
        "explore_reviews_csv_query = \"\"\"\n",
        "MERGE (cwedata:Extended_Descriptions {runtime: 1089})\n",
        "MERGE (Entities:Entities {rawName: \"syntactically\"})\n",
        "MERGE (cwedata)-[:HAS_ENTITY]->(Entities)\n",
        "\n",
        "\"\"\"\n",
        "result = conn.query(explore_reviews_csv_query)\n",
        "print(result)"
      ]
    },
    {
      "cell_type": "code",
      "execution_count": 920,
      "metadata": {
        "id": "cT_gxzLpCixM",
        "colab": {
          "base_uri": "https://localhost:8080/"
        },
        "outputId": "6974419c-32d3-4c3b-f13e-100c6c9e67a6"
      },
      "outputs": [
        {
          "output_type": "stream",
          "name": "stdout",
          "text": [
            "[]\n"
          ]
        }
      ],
      "source": [
        "explore_reviews_csv_query = \"\"\"\n",
        "MERGE (cwedata:Extended_Descriptions {runtime: 1089})\n",
        "MERGE (Entities:Entities {rawName: \"ACL\"})\n",
        "MERGE (cwedata)-[:HAS_ENTITY]->(Entities)\n",
        "\n",
        "\"\"\"\n",
        "result = conn.query(explore_reviews_csv_query)\n",
        "print(result)"
      ]
    },
    {
      "cell_type": "code",
      "execution_count": 921,
      "metadata": {
        "id": "T3IzRBY6Cinh",
        "colab": {
          "base_uri": "https://localhost:8080/"
        },
        "outputId": "9d1cebee-29c3-48e8-fed8-716dbe94ed71"
      },
      "outputs": [
        {
          "output_type": "stream",
          "name": "stdout",
          "text": [
            "[]\n"
          ]
        }
      ],
      "source": [
        "explore_reviews_csv_query = \"\"\"\n",
        "MERGE (cwedata:Extended_Descriptions {runtime: 1089})\n",
        "MERGE (Entities:Entities {rawName: \"insecure\"})\n",
        "MERGE (cwedata)-[:HAS_ENTITY]->(Entities)\n",
        "\n",
        "\"\"\"\n",
        "result = conn.query(explore_reviews_csv_query)\n",
        "print(result)"
      ]
    },
    {
      "cell_type": "code",
      "execution_count": 922,
      "metadata": {
        "id": "BXrR7rLKCiSH",
        "colab": {
          "base_uri": "https://localhost:8080/"
        },
        "outputId": "12b4e507-1e57-4989-cc9f-7b4f16bce6da"
      },
      "outputs": [
        {
          "output_type": "stream",
          "name": "stdout",
          "text": [
            "[]\n"
          ]
        }
      ],
      "source": [
        "explore_reviews_csv_query = \"\"\"\n",
        "MERGE (cwedata:Extended_Descriptions {runtime: 1089})\n",
        "MERGE (Entities:Entities {rawName: \"security policy\"})\n",
        "MERGE (cwedata)-[:HAS_ENTITY]->(Entities)\n",
        "\n",
        "\"\"\"\n",
        "result = conn.query(explore_reviews_csv_query)\n",
        "print(result)"
      ]
    },
    {
      "cell_type": "code",
      "execution_count": 923,
      "metadata": {
        "id": "3iJ6XxZBqqyE",
        "colab": {
          "base_uri": "https://localhost:8080/"
        },
        "outputId": "96353775-2f67-499e-84af-cd3c28a92424"
      },
      "outputs": [
        {
          "output_type": "stream",
          "name": "stdout",
          "text": [
            "[]\n"
          ]
        }
      ],
      "source": [
        "explore_reviews_csv_query = \"\"\"\n",
        "MERGE (cwe:CWE {cwe_id:\"294\"})\n",
        "MERGE (cwedata:Extended_Descriptions {runtime:253})\n",
        "MERGE (cwe)-[:MAPPED_WITH]->(cwedata)\n",
        "MERGE (cwedata)-[:HAS_GLOBAL_CATEGORY{weight:0.09559506604831125,source:\"wikipedia-en\",category:\"User interfaces\",page_id:30875525}]->(cwe)\n",
        "MERGE (cwedata)-[:HAS_GLOBAL_CATEGORY{weight:0.09559506604831125,source:\"wikipedia-en\",category:\"Computing commands\",page_id:28119161}]->(cwe)\n",
        "MERGE (cwedata)-[:HAS_GLOBAL_CATEGORY{weight:0.09559506604831125,source:\"wikipedia-en\",category:\"Computing terminology\",page_id:2458835}]->(cwe)\n",
        "\n",
        "\"\"\"\n",
        "result = conn.query(explore_reviews_csv_query)\n",
        "print(result)"
      ]
    },
    {
      "cell_type": "code",
      "execution_count": 924,
      "metadata": {
        "id": "a0OzbXyAIbrO",
        "colab": {
          "base_uri": "https://localhost:8080/"
        },
        "outputId": "1faa6b57-4661-4623-b5fa-90574c6e5a0a"
      },
      "outputs": [
        {
          "output_type": "stream",
          "name": "stdout",
          "text": [
            "[]\n"
          ]
        }
      ],
      "source": [
        "explore_reviews_csv_query = \"\"\"\n",
        "CALL apoc.load.json(\"https://raw.githubusercontent.com/neostrange/CveParse/main/Extended_Descriptions.json\", null, {failOnError:false})\n",
        "YIELD value\n",
        "WITH value  AS data\n",
        "WITH data\n",
        "UNWIND data.Extended_Descriptions[5].CWE.entities as Entities\n",
        "MERGE (entities:Entities{rawName:Entities.`rawName`})\n",
        "  SET \n",
        "   entities.offsetStart = Entities.offsetStart,\n",
        "   entities.offsetEnd = Entities.offsetEnd,\n",
        "   entities.confidence_score = Entities.confidence_score,\n",
        "   entities.wikipediaExternalRef = Entities.wikipediaExternalRef,\n",
        "   entities.wikidataId = Entities.wikidataId\n",
        "\n",
        "\"\"\"\n",
        "result = conn.query(explore_reviews_csv_query)\n",
        "print(result)"
      ]
    },
    {
      "cell_type": "code",
      "execution_count": 925,
      "metadata": {
        "id": "Lv0ml9XzC1nt",
        "colab": {
          "base_uri": "https://localhost:8080/"
        },
        "outputId": "68b929eb-3271-4117-e080-d637aa4c61c5"
      },
      "outputs": [
        {
          "output_type": "stream",
          "name": "stdout",
          "text": [
            "[]\n"
          ]
        }
      ],
      "source": [
        "explore_reviews_csv_query = \"\"\"\n",
        "MERGE (cwedata:Extended_Descriptions {runtime: 253})\n",
        "MERGE (Entities:Entities {rawName: \"Capture\"})\n",
        "MERGE (cwedata)-[:HAS_ENTITY]->(Entities)\n",
        "\n",
        "\"\"\"\n",
        "result = conn.query(explore_reviews_csv_query)\n",
        "print(result)"
      ]
    },
    {
      "cell_type": "code",
      "execution_count": 926,
      "metadata": {
        "id": "MAuY3lheC1TI",
        "colab": {
          "base_uri": "https://localhost:8080/"
        },
        "outputId": "f536e47e-f655-4cab-ff7d-6e642e45d308"
      },
      "outputs": [
        {
          "output_type": "stream",
          "name": "stdout",
          "text": [
            "[]\n"
          ]
        }
      ],
      "source": [
        "explore_reviews_csv_query = \"\"\"\n",
        "MERGE (cwedata:Extended_Descriptions {runtime: 253})\n",
        "MERGE (Entities:Entities {rawName: \"replay attacks\"})\n",
        "MERGE (cwedata)-[:HAS_ENTITY]->(Entities)\n",
        "\n",
        "\"\"\"\n",
        "result = conn.query(explore_reviews_csv_query)\n",
        "print(result)"
      ]
    },
    {
      "cell_type": "code",
      "execution_count": 927,
      "metadata": {
        "id": "TXo8oahQCzc7",
        "colab": {
          "base_uri": "https://localhost:8080/"
        },
        "outputId": "e4dcd3bc-6f81-4f5c-cc4b-115491ec56f5"
      },
      "outputs": [
        {
          "output_type": "stream",
          "name": "stdout",
          "text": [
            "[]\n"
          ]
        }
      ],
      "source": [
        "explore_reviews_csv_query = \"\"\"\n",
        "MERGE (cwedata:Extended_Descriptions {runtime: 253})\n",
        "MERGE (Entities:Entities {rawName: \"cryptography\"})\n",
        "MERGE (cwedata)-[:HAS_ENTITY]->(Entities)\n",
        "\n",
        "\"\"\"\n",
        "result = conn.query(explore_reviews_csv_query)\n",
        "print(result)"
      ]
    },
    {
      "cell_type": "code",
      "execution_count": 928,
      "metadata": {
        "id": "4pPdZ8EYCiXz",
        "colab": {
          "base_uri": "https://localhost:8080/"
        },
        "outputId": "a44a702b-eee2-4fa6-e611-f888b99c385a"
      },
      "outputs": [
        {
          "output_type": "stream",
          "name": "stdout",
          "text": [
            "[]\n"
          ]
        }
      ],
      "source": [
        "explore_reviews_csv_query = \"\"\"\n",
        "MERGE (cwedata:Extended_Descriptions {runtime: 253})\n",
        "MERGE (Entities:Entities {rawName: \"subset\"})\n",
        "MERGE (cwedata)-[:HAS_ENTITY]->(Entities)\n",
        "\n",
        "\"\"\"\n",
        "result = conn.query(explore_reviews_csv_query)\n",
        "print(result)"
      ]
    },
    {
      "cell_type": "code",
      "execution_count": 929,
      "metadata": {
        "id": "Dpp6UgQzC1AV",
        "colab": {
          "base_uri": "https://localhost:8080/"
        },
        "outputId": "6acf2f0c-3acc-4864-b5b9-1f1d9720f20b"
      },
      "outputs": [
        {
          "output_type": "stream",
          "name": "stdout",
          "text": [
            "[]\n"
          ]
        }
      ],
      "source": [
        "explore_reviews_csv_query = \"\"\"\n",
        "MERGE (cwedata:Extended_Descriptions {runtime: 253})\n",
        "MERGE (Entities:Entities {rawName: \"injection\"})\n",
        "MERGE (cwedata)-[:HAS_ENTITY]->(Entities)\n",
        "\n",
        "\"\"\"\n",
        "result = conn.query(explore_reviews_csv_query)\n",
        "print(result)"
      ]
    },
    {
      "cell_type": "code",
      "execution_count": 930,
      "metadata": {
        "id": "2qxSzqHXdB5K",
        "colab": {
          "base_uri": "https://localhost:8080/"
        },
        "outputId": "cfeb5903-222f-4f86-ed5b-302cc4491f84"
      },
      "outputs": [
        {
          "output_type": "stream",
          "name": "stdout",
          "text": [
            "[]\n"
          ]
        }
      ],
      "source": [
        "explore_reviews_csv_query = \"\"\"\n",
        "MERGE (cwedata:Extended_Descriptions {runtime: 253})\n",
        "MERGE (Entities:Entities {rawName: \"observing\"})\n",
        "MERGE (cwedata)-[:HAS_ENTITY]->(Entities)\n",
        "\n",
        "\"\"\"\n",
        "result = conn.query(explore_reviews_csv_query)\n",
        "print(result) "
      ]
    },
    {
      "cell_type": "code",
      "execution_count": 931,
      "metadata": {
        "id": "AuWAE2MrdBhe",
        "colab": {
          "base_uri": "https://localhost:8080/"
        },
        "outputId": "8a420ad6-c098-47ea-e7df-6d2f14649a5b"
      },
      "outputs": [
        {
          "output_type": "stream",
          "name": "stdout",
          "text": [
            "[]\n"
          ]
        }
      ],
      "source": [
        "explore_reviews_csv_query = \"\"\"\n",
        "MERGE (cwedata:Extended_Descriptions {runtime: 253})\n",
        "MERGE (Entities:Entities {rawName: \"commands\"})\n",
        "MERGE (cwedata)-[:HAS_ENTITY]->(Entities)\n",
        "\n",
        "\"\"\"\n",
        "result = conn.query(explore_reviews_csv_query)\n",
        "print(result)"
      ]
    },
    {
      "cell_type": "markdown",
      "metadata": {
        "id": "4tkFWQMewURh"
      },
      "source": [
        "# **CPE Data**"
      ]
    },
    {
      "cell_type": "markdown",
      "metadata": {
        "id": "UvXjcm5jxpjj"
      },
      "source": [
        "**Script_CPE.cypher**"
      ]
    },
    {
      "cell_type": "markdown",
      "metadata": {
        "id": "Fp-yl_lZvxFK"
      },
      "source": [
        "Parse CPE values in CVE using cpeparser"
      ]
    },
    {
      "cell_type": "code",
      "execution_count": 932,
      "metadata": {
        "id": "5MfG2-9AeJDB",
        "colab": {
          "base_uri": "https://localhost:8080/"
        },
        "outputId": "ba01a440-6326-408e-bcab-90169082aacb"
      },
      "outputs": [
        {
          "output_type": "stream",
          "name": "stdout",
          "text": [
            "[]\n"
          ]
        }
      ],
      "source": [
        "explore_reviews_csv_query = \"\"\"\n",
        "CALL apoc.load.json(\"https://raw.githubusercontent.com/neostrange/CveParse/main/CPE.json\", null, {failOnError:false})\n",
        "YIELD value\n",
        "WITH value  AS data\n",
        "//return data.CPE_Items[0].CPE.version\n",
        "UNWIND data.CPE_Items as item\n",
        "MERGE (cpe:CPE {version: item.CPE.version})\n",
        "SET \n",
        "    cpe.part = item.CPE.part,\n",
        "    cpe.vendor = item.CPE.vendor,\n",
        "    cpe.product = item.CPE.product,\n",
        "    cpe.update = item.CPE.update,\n",
        "    cpe.edition = item.CPE.edition,\n",
        "    cpe.language = item.CPE.language,\n",
        "    cpe.sw_edition = item.CPE.sw_edition,\n",
        "    cpe.target_sw = item.CPE.target_sw,\n",
        "    cpe.target_hw = item.CPE.target_hw,\n",
        "    cpe.other = item.CPE.other\n",
        "    \n",
        "\"\"\"\n",
        "result = conn.query(explore_reviews_csv_query)\n",
        "print(result)"
      ]
    },
    {
      "cell_type": "code",
      "execution_count": 933,
      "metadata": {
        "id": "lBtYxIhulZMv",
        "colab": {
          "base_uri": "https://localhost:8080/"
        },
        "outputId": "0fdc3e15-d14e-4aa6-9cf6-89b7b2234f6f"
      },
      "outputs": [
        {
          "output_type": "stream",
          "name": "stdout",
          "text": [
            "[]\n"
          ]
        }
      ],
      "source": [
        "explore_reviews_csv_query = \"\"\"\n",
        "MERGE (cpeMatch:CpeMatch {uri:\"cpe:2.3:a:sap:host_agent:7.21:*:*:*:*:*:*:*\" })\n",
        "MERGE (cpe:CPE {version:\"7.21\"})\n",
        "MERGE (cpeMatch)-[:MAPPED_WITH]->(cpe)\n",
        "\n",
        "\"\"\"\n",
        "result = conn.query(explore_reviews_csv_query)\n",
        "print(result)"
      ]
    },
    {
      "cell_type": "code",
      "execution_count": 934,
      "metadata": {
        "id": "NG5t__R7laOg",
        "colab": {
          "base_uri": "https://localhost:8080/"
        },
        "outputId": "360b1f78-649b-4a39-b11d-4bd0447a67a2"
      },
      "outputs": [
        {
          "output_type": "stream",
          "name": "stdout",
          "text": [
            "[]\n"
          ]
        }
      ],
      "source": [
        "explore_reviews_csv_query = \"\"\"\n",
        "MERGE (cpeMatch:CpeMatch {uri:\"cpe:2.3:a:sap:host_agent:7.22:*:*:*:*:*:*:*\" })\n",
        "MERGE (cpe:CPE {version:\"7.22\"})\n",
        "MERGE (cpeMatch)-[:MAPPED_WITH]->(cpe)\n",
        "\n",
        "\"\"\"\n",
        "result = conn.query(explore_reviews_csv_query)\n",
        "print(result)"
      ]
    },
    {
      "cell_type": "code",
      "execution_count": 935,
      "metadata": {
        "id": "3_kvJDYY809M",
        "colab": {
          "base_uri": "https://localhost:8080/"
        },
        "outputId": "33f77bf3-903a-4385-b107-00fc4738c6d3"
      },
      "outputs": [
        {
          "output_type": "stream",
          "name": "stdout",
          "text": [
            "[]\n"
          ]
        }
      ],
      "source": [
        "explore_reviews_csv_query = \"\"\"\n",
        "MERGE (cpeMatch:CpeMatch {uri:\"cpe:2.3:o:microsoft:windows:-:*:*:*:*:*:*:*\" })\n",
        "MERGE (cpe:CPE {version:\"-\"})\n",
        "MERGE (cpeMatch)-[:MAPPED_WITH]->(cpe)\n",
        "\n",
        "\"\"\"\n",
        "result = conn.query(explore_reviews_csv_query)\n",
        "print(result)"
      ]
    },
    {
      "cell_type": "code",
      "execution_count": 936,
      "metadata": {
        "id": "iJDpnnyCldu5",
        "colab": {
          "base_uri": "https://localhost:8080/"
        },
        "outputId": "1f6f0c97-f94d-4ea2-a297-ccf3e643653a"
      },
      "outputs": [
        {
          "output_type": "stream",
          "name": "stdout",
          "text": [
            "[]\n"
          ]
        }
      ],
      "source": [
        "explore_reviews_csv_query = \"\"\"\n",
        "MERGE (cpeMatch:CpeMatch {uri:\"cpe:2.3:a:sap:netweaver_application_server_abap:702:*:*:*:*:*:*:*\" })\n",
        "MERGE (cpe:CPE {version:\"702\"})\n",
        "MERGE (cpeMatch)-[:MAPPED_WITH]->(cpe)\n",
        "\n",
        "\"\"\"\n",
        "result = conn.query(explore_reviews_csv_query)\n",
        "print(result)"
      ]
    },
    {
      "cell_type": "code",
      "execution_count": 937,
      "metadata": {
        "id": "EmvZ0vHMlqex",
        "colab": {
          "base_uri": "https://localhost:8080/"
        },
        "outputId": "cc7edece-f888-41a3-d21c-b0f4507e6a2d"
      },
      "outputs": [
        {
          "output_type": "stream",
          "name": "stdout",
          "text": [
            "[]\n"
          ]
        }
      ],
      "source": [
        "explore_reviews_csv_query = \"\"\"\n",
        "MERGE (cpeMatch:CpeMatch {uri:\"cpe:2.3:a:sap:netweaver_application_server_abap:750:*:*:*:*:*:*:*\" })\n",
        "MERGE (cpe:CPE {version:\"750\"})\n",
        "MERGE (cpeMatch)-[:MAPPED_WITH]->(cpe)\n",
        "\n",
        "\"\"\"\n",
        "result = conn.query(explore_reviews_csv_query)\n",
        "print(result)"
      ]
    },
    {
      "cell_type": "code",
      "execution_count": 938,
      "metadata": {
        "id": "uUh-YkFul1-o",
        "colab": {
          "base_uri": "https://localhost:8080/"
        },
        "outputId": "85210fbe-6c13-4d67-daf1-56f583fd59e5"
      },
      "outputs": [
        {
          "output_type": "stream",
          "name": "stdout",
          "text": [
            "[]\n"
          ]
        }
      ],
      "source": [
        "explore_reviews_csv_query = \"\"\"\n",
        "MERGE (cpeMatch:CpeMatch {uri:\"cpe:2.3:a:sap:netweaver_application_server_abap:752:*:*:*:*:*:*:*\" })\n",
        "MERGE (cpe:CPE {version:\"752\"})\n",
        "MERGE (cpeMatch)-[:MAPPED_WITH]->(cpe)\n",
        "\n",
        "\"\"\"\n",
        "result = conn.query(explore_reviews_csv_query)\n",
        "print(result)"
      ]
    },
    {
      "cell_type": "code",
      "execution_count": 939,
      "metadata": {
        "id": "NvcgSg_ml33y",
        "colab": {
          "base_uri": "https://localhost:8080/"
        },
        "outputId": "5ed8c3ff-b771-4a09-c48b-960b0a552894"
      },
      "outputs": [
        {
          "output_type": "stream",
          "name": "stdout",
          "text": [
            "[]\n"
          ]
        }
      ],
      "source": [
        "explore_reviews_csv_query = \"\"\"\n",
        "MERGE (cpeMatch:CpeMatch {uri:\"cpe:2.3:a:sap:netweaver_application_server_abap:753:*:*:*:*:*:*:*\" })\n",
        "MERGE (cpe:CPE {version:\"753\"})\n",
        "MERGE (cpeMatch)-[:MAPPED_WITH]->(cpe)\n",
        "\n",
        "\"\"\"\n",
        "result = conn.query(explore_reviews_csv_query)\n",
        "print(result)"
      ]
    },
    {
      "cell_type": "code",
      "execution_count": 940,
      "metadata": {
        "id": "1e-LB5lil5hc",
        "colab": {
          "base_uri": "https://localhost:8080/"
        },
        "outputId": "e4f35955-85a0-4fa6-b9a0-8e524f2d8489"
      },
      "outputs": [
        {
          "output_type": "stream",
          "name": "stdout",
          "text": [
            "[]\n"
          ]
        }
      ],
      "source": [
        "explore_reviews_csv_query = \"\"\"\n",
        "MERGE (cpeMatch:CpeMatch {uri:\"cpe:2.3:a:sap:netweaver_application_server_abap:754:*:*:*:*:*:*:*\" })\n",
        "MERGE (cpe:CPE {version:\"754\"})\n",
        "MERGE (cpeMatch)-[:MAPPED_WITH]->(cpe)\n",
        "\n",
        "\"\"\"\n",
        "result = conn.query(explore_reviews_csv_query)\n",
        "print(result)"
      ]
    },
    {
      "cell_type": "code",
      "execution_count": 941,
      "metadata": {
        "id": "bqZb_yAJl8Cj",
        "colab": {
          "base_uri": "https://localhost:8080/"
        },
        "outputId": "e9b1f289-b448-4687-af93-8a57eaf0a08e"
      },
      "outputs": [
        {
          "output_type": "stream",
          "name": "stdout",
          "text": [
            "[]\n"
          ]
        }
      ],
      "source": [
        "explore_reviews_csv_query = \"\"\"\n",
        "MERGE (cpeMatch:CpeMatch {uri:\"cpe:2.3:a:sap:netweaver_application_server_abap:755:*:*:*:*:*:*:*\" })\n",
        "MERGE (cpe:CPE {version:\"755\"})\n",
        "MERGE (cpeMatch)-[:MAPPED_WITH]->(cpe)\n",
        "\n",
        "\"\"\"\n",
        "result = conn.query(explore_reviews_csv_query)\n",
        "print(result)"
      ]
    },
    {
      "cell_type": "code",
      "execution_count": 942,
      "metadata": {
        "id": "A25kD7aM8due",
        "colab": {
          "base_uri": "https://localhost:8080/"
        },
        "outputId": "3bcc21c9-ae83-48ff-8958-5ada60fd65de"
      },
      "outputs": [
        {
          "output_type": "stream",
          "name": "stdout",
          "text": [
            "[]\n"
          ]
        }
      ],
      "source": [
        "explore_reviews_csv_query = \"\"\"\n",
        "MERGE (cpeMatch:CpeMatch {uri:\"cpe:2.3:a:sap:netweaver_application_server_abap:756:*:*:*:*:*:*:*\" })\n",
        "MERGE (cpe:CPE {version:\"756\"})\n",
        "MERGE (cpeMatch)-[:MAPPED_WITH]->(cpe)\n",
        "\n",
        "\"\"\"\n",
        "result = conn.query(explore_reviews_csv_query)\n",
        "print(result)"
      ]
    },
    {
      "cell_type": "code",
      "execution_count": 943,
      "metadata": {
        "id": "6_asvk5elmU4",
        "colab": {
          "base_uri": "https://localhost:8080/"
        },
        "outputId": "c2ad7255-a852-42f9-92f7-e01d7a85576a"
      },
      "outputs": [
        {
          "output_type": "stream",
          "name": "stdout",
          "text": [
            "[]\n"
          ]
        }
      ],
      "source": [
        "explore_reviews_csv_query = \"\"\"\n",
        "MERGE (cpeMatch:CpeMatch {uri:\"cpe:2.3:a:sap:netweaver_application_server_abap:731:*:*:*:*:*:*:*\" })\n",
        "MERGE (cpe:CPE {version:\"731\"})\n",
        "MERGE (cpeMatch)-[:MAPPED_WITH]->(cpe)\n",
        "\n",
        "\"\"\"\n",
        "result = conn.query(explore_reviews_csv_query)\n",
        "print(result)"
      ]
    },
    {
      "cell_type": "code",
      "execution_count": 944,
      "metadata": {
        "id": "iPjsqunuloiy",
        "colab": {
          "base_uri": "https://localhost:8080/"
        },
        "outputId": "29efb92a-4075-41fb-f790-aaaf51fb11fb"
      },
      "outputs": [
        {
          "output_type": "stream",
          "name": "stdout",
          "text": [
            "[]\n"
          ]
        }
      ],
      "source": [
        "explore_reviews_csv_query = \"\"\"\n",
        "MERGE (cpeMatch:CpeMatch {uri:\"cpe:2.3:a:sap:netweaver_application_server_abap:740:*:*:*:*:*:*:*\" })\n",
        "MERGE (cpe:CPE {version:\"740\"})\n",
        "MERGE (cpeMatch)-[:MAPPED_WITH]->(cpe)\n",
        "\n",
        "\"\"\"\n",
        "result = conn.query(explore_reviews_csv_query)\n",
        "print(result)"
      ]
    },
    {
      "cell_type": "code",
      "execution_count": 945,
      "metadata": {
        "id": "WAVztOyjlzzs",
        "colab": {
          "base_uri": "https://localhost:8080/"
        },
        "outputId": "6e1df0df-fd37-405d-f0bf-171130bd9a70"
      },
      "outputs": [
        {
          "output_type": "stream",
          "name": "stdout",
          "text": [
            "[]\n"
          ]
        }
      ],
      "source": [
        "explore_reviews_csv_query = \"\"\"\n",
        "MERGE (cpeMatch:CpeMatch {uri:\"cpe:2.3:a:sap:netweaver_application_server_abap:751:*:*:*:*:*:*:*\" })\n",
        "MERGE (cpe:CPE {version:\"751\"})\n",
        "MERGE (cpeMatch)-[:MAPPED_WITH]->(cpe)\n",
        "\n",
        "\"\"\"\n",
        "result = conn.query(explore_reviews_csv_query)\n",
        "print(result)"
      ]
    },
    {
      "cell_type": "code",
      "execution_count": 946,
      "metadata": {
        "id": "SyeXOGMh8f-w",
        "colab": {
          "base_uri": "https://localhost:8080/"
        },
        "outputId": "2392b24f-2b9f-4a4a-f104-f9146f977003"
      },
      "outputs": [
        {
          "output_type": "stream",
          "name": "stdout",
          "text": [
            "[]\n"
          ]
        }
      ],
      "source": [
        "explore_reviews_csv_query = \"\"\"\n",
        "MERGE (cpeMatch:CpeMatch {uri:\"cpe:2.3:a:sap:netweaver_application_server_abap:757:*:*:*:*:*:*:*\" })\n",
        "MERGE (cpe:CPE {version:\"757\"})\n",
        "MERGE (cpeMatch)-[:MAPPED_WITH]->(cpe)\n",
        "\n",
        "\"\"\"\n",
        "result = conn.query(explore_reviews_csv_query)\n",
        "print(result)"
      ]
    },
    {
      "cell_type": "code",
      "execution_count": 947,
      "metadata": {
        "id": "oZJ5mTvlle7y",
        "colab": {
          "base_uri": "https://localhost:8080/"
        },
        "outputId": "4d9cc565-7ac5-4714-d207-940ea056a349"
      },
      "outputs": [
        {
          "output_type": "stream",
          "name": "stdout",
          "text": [
            "[]\n"
          ]
        }
      ],
      "source": [
        "explore_reviews_csv_query = \"\"\"\n",
        "MERGE (cpeMatch:CpeMatch {uri:\"cpe:2.3:a:sap:netweaver_application_server_abap:702:*:*:*:sap_basis:*:*:*\" })\n",
        "MERGE (cpe:CPE {version:\"702\"})\n",
        "MERGE (cpeMatch)-[:MAPPED_WITH]->(cpe)\n",
        "\n",
        "\"\"\"\n",
        "result = conn.query(explore_reviews_csv_query)\n",
        "print(result)"
      ]
    },
    {
      "cell_type": "code",
      "execution_count": 948,
      "metadata": {
        "id": "PazmT6TJ8rRe",
        "colab": {
          "base_uri": "https://localhost:8080/"
        },
        "outputId": "37d81d32-300c-474d-8d7b-51a992599557"
      },
      "outputs": [
        {
          "output_type": "stream",
          "name": "stdout",
          "text": [
            "[]\n"
          ]
        }
      ],
      "source": [
        "explore_reviews_csv_query = \"\"\"\n",
        "MERGE (cpeMatch:CpeMatch {uri:\"cpe:2.3:a:sap:netweaver_as_abap_krnl64nuc:7.22ext:*:*:*:*:*:*:*\" })\n",
        "MERGE (cpe:CPE {version:\"7.22ext\"})\n",
        "MERGE (cpeMatch)-[:MAPPED_WITH]->(cpe)\n",
        "\n",
        "\"\"\"\n",
        "result = conn.query(explore_reviews_csv_query)\n",
        "print(result)"
      ]
    },
    {
      "cell_type": "code",
      "execution_count": 949,
      "metadata": {
        "id": "Gc20DxOC8uDy",
        "colab": {
          "base_uri": "https://localhost:8080/"
        },
        "outputId": "61e94010-b25f-4605-8e40-b5a0c48e2725"
      },
      "outputs": [
        {
          "output_type": "stream",
          "name": "stdout",
          "text": [
            "[]\n"
          ]
        }
      ],
      "source": [
        "explore_reviews_csv_query = \"\"\"\n",
        "MERGE (cpeMatch:CpeMatch {uri:\"cpe:2.3:a:sap:netweaver_as_abap_krnl64uc:7.53:*:*:*:*:*:*:*\" })\n",
        "MERGE (cpe:CPE {version:\"7.53\"})\n",
        "MERGE (cpeMatch)-[:MAPPED_WITH]->(cpe)\n",
        "\n",
        "\"\"\"\n",
        "result = conn.query(explore_reviews_csv_query)\n",
        "print(result)"
      ]
    },
    {
      "cell_type": "code",
      "execution_count": 950,
      "metadata": {
        "id": "oe1q7sBY8qbG",
        "colab": {
          "base_uri": "https://localhost:8080/"
        },
        "outputId": "574256e2-2bec-45e6-d0a6-c45fde63b0d6"
      },
      "outputs": [
        {
          "output_type": "stream",
          "name": "stdout",
          "text": [
            "[]\n"
          ]
        }
      ],
      "source": [
        "explore_reviews_csv_query = \"\"\"\n",
        "MERGE (cpeMatch:CpeMatch {uri:\"cpe:2.3:a:sap:netweaver_as_abap_krnl64nuc:7.22:*:*:*:*:*:*:*\" })\n",
        "MERGE (cpe:CPE {version:\"7.22\"})\n",
        "MERGE (cpeMatch)-[:MAPPED_WITH]->(cpe)\n",
        "\n",
        "\"\"\"\n",
        "result = conn.query(explore_reviews_csv_query)\n",
        "print(result)"
      ]
    },
    {
      "cell_type": "code",
      "execution_count": 951,
      "metadata": {
        "id": "Jh9kyOUq8kBJ",
        "colab": {
          "base_uri": "https://localhost:8080/"
        },
        "outputId": "c4f49639-0d95-4b3c-d483-0abffa7c3e5f"
      },
      "outputs": [
        {
          "output_type": "stream",
          "name": "stdout",
          "text": [
            "[]\n"
          ]
        }
      ],
      "source": [
        "explore_reviews_csv_query = \"\"\"\n",
        "MERGE (cpeMatch:CpeMatch {uri:\"cpe:2.3:a:sap:netweaver_as_abap_kernel:7.22:*:*:*:*:*:*:*\" })\n",
        "MERGE (cpe:CPE {version:\"7.22\"})\n",
        "MERGE (cpeMatch)-[:MAPPED_WITH]->(cpe)\n",
        "\n",
        "\"\"\"\n",
        "result = conn.query(explore_reviews_csv_query)\n",
        "print(result)"
      ]
    },
    {
      "cell_type": "code",
      "execution_count": 952,
      "metadata": {
        "id": "QNKafT_Q8k1f",
        "colab": {
          "base_uri": "https://localhost:8080/"
        },
        "outputId": "62efb467-fd2c-4528-9d1b-c0b303621a4b"
      },
      "outputs": [
        {
          "output_type": "stream",
          "name": "stdout",
          "text": [
            "[]\n"
          ]
        }
      ],
      "source": [
        "explore_reviews_csv_query = \"\"\"\n",
        "MERGE (cpeMatch:CpeMatch {uri:\"cpe:2.3:a:sap:netweaver_as_abap_kernel:7.53:*:*:*:*:*:*:*\" })\n",
        "MERGE (cpe:CPE {version:\"7.53\"})\n",
        "MERGE (cpeMatch)-[:MAPPED_WITH]->(cpe)\n",
        "\n",
        "\"\"\"\n",
        "result = conn.query(explore_reviews_csv_query)\n",
        "print(result)"
      ]
    },
    {
      "cell_type": "code",
      "execution_count": 953,
      "metadata": {
        "id": "kLuNRj978l1w",
        "colab": {
          "base_uri": "https://localhost:8080/"
        },
        "outputId": "651c1baa-fba9-45c5-b2b0-f9ddc32b7dec"
      },
      "outputs": [
        {
          "output_type": "stream",
          "name": "stdout",
          "text": [
            "[]\n"
          ]
        }
      ],
      "source": [
        "explore_reviews_csv_query = \"\"\"\n",
        "MERGE (cpeMatch:CpeMatch {uri:\"cpe:2.3:a:sap:netweaver_as_abap_kernel:7.77:*:*:*:*:*:*:*\" })\n",
        "MERGE (cpe:CPE {version:\"7.77\"})\n",
        "MERGE (cpeMatch)-[:MAPPED_WITH]->(cpe)\n",
        "\n",
        "\"\"\"\n",
        "result = conn.query(explore_reviews_csv_query)\n",
        "print(result)"
      ]
    },
    {
      "cell_type": "code",
      "execution_count": 954,
      "metadata": {
        "id": "Q-OYYGAX8ms_",
        "colab": {
          "base_uri": "https://localhost:8080/"
        },
        "outputId": "0c29c447-1fe3-4af0-edce-5c41501099b4"
      },
      "outputs": [
        {
          "output_type": "stream",
          "name": "stdout",
          "text": [
            "[]\n"
          ]
        }
      ],
      "source": [
        "explore_reviews_csv_query = \"\"\"\n",
        "MERGE (cpeMatch:CpeMatch {uri:\"cpe:2.3:a:sap:netweaver_as_abap_kernel:7.81:*:*:*:*:*:*:*\" })\n",
        "MERGE (cpe:CPE {version:\"7.81\"})\n",
        "MERGE (cpeMatch)-[:MAPPED_WITH]->(cpe)\n",
        "\n",
        "\"\"\"\n",
        "result = conn.query(explore_reviews_csv_query)\n",
        "print(result)"
      ]
    },
    {
      "cell_type": "code",
      "execution_count": 955,
      "metadata": {
        "id": "lAPeVdAs8n7w",
        "colab": {
          "base_uri": "https://localhost:8080/"
        },
        "outputId": "04065062-7ce2-45f5-d72b-2e05a587680d"
      },
      "outputs": [
        {
          "output_type": "stream",
          "name": "stdout",
          "text": [
            "[]\n"
          ]
        }
      ],
      "source": [
        "explore_reviews_csv_query = \"\"\"\n",
        "MERGE (cpeMatch:CpeMatch {uri:\"cpe:2.3:a:sap:netweaver_as_abap_kernel:7.85:*:*:*:*:*:*:*\" })\n",
        "MERGE (cpe:CPE {version:\"7.85\"})\n",
        "MERGE (cpeMatch)-[:MAPPED_WITH]->(cpe)\n",
        "\n",
        "\"\"\"\n",
        "result = conn.query(explore_reviews_csv_query)\n",
        "print(result)"
      ]
    },
    {
      "cell_type": "code",
      "execution_count": 956,
      "metadata": {
        "id": "xNzOHV5v8tH8",
        "colab": {
          "base_uri": "https://localhost:8080/"
        },
        "outputId": "0a10d214-171d-4df7-ccd4-00a12598648e"
      },
      "outputs": [
        {
          "output_type": "stream",
          "name": "stdout",
          "text": [
            "[]\n"
          ]
        }
      ],
      "source": [
        "explore_reviews_csv_query = \"\"\"\n",
        "MERGE (cpeMatch:CpeMatch {uri:\"cpe:2.3:a:sap:netweaver_as_abap_krnl64uc:7.22ext:*:*:*:*:*:*:*\" })\n",
        "MERGE (cpe:CPE {version:\"7.22ext\"})\n",
        "MERGE (cpeMatch)-[:MAPPED_WITH]->(cpe)\n",
        "\n",
        "\"\"\"\n",
        "result = conn.query(explore_reviews_csv_query)\n",
        "print(result)"
      ]
    },
    {
      "cell_type": "code",
      "execution_count": 957,
      "metadata": {
        "id": "8-cEYveglcBm",
        "colab": {
          "base_uri": "https://localhost:8080/"
        },
        "outputId": "f1688799-b1d3-4198-ad31-7a152110f8b2"
      },
      "outputs": [
        {
          "output_type": "stream",
          "name": "stdout",
          "text": [
            "[]\n"
          ]
        }
      ],
      "source": [
        "explore_reviews_csv_query = \"\"\"\n",
        "MERGE (cpeMatch:CpeMatch {uri:\"cpe:2.3:a:sap:netweaver_application_server_abap:700:*:*:*:sap_basis:*:*:*\" })\n",
        "MERGE (cpe:CPE {version:\"700\"})\n",
        "MERGE (cpeMatch)-[:MAPPED_WITH]->(cpe)\n",
        "\n",
        "\"\"\"\n",
        "result = conn.query(explore_reviews_csv_query)\n",
        "print(result)"
      ]
    },
    {
      "cell_type": "code",
      "execution_count": 958,
      "metadata": {
        "id": "CvEb5lvAlc7J",
        "colab": {
          "base_uri": "https://localhost:8080/"
        },
        "outputId": "cb0fe2b1-06f5-4a1f-c809-2c241f1433f4"
      },
      "outputs": [
        {
          "output_type": "stream",
          "name": "stdout",
          "text": [
            "[]\n"
          ]
        }
      ],
      "source": [
        "explore_reviews_csv_query = \"\"\"\n",
        "MERGE (cpeMatch:CpeMatch {uri:\"cpe:2.3:a:sap:netweaver_application_server_abap:701:*:*:*:sap_basis:*:*:*\" })\n",
        "MERGE (cpe:CPE {version:\"701\"})\n",
        "MERGE (cpeMatch)-[:MAPPED_WITH]->(cpe)\n",
        "\n",
        "\"\"\"\n",
        "result = conn.query(explore_reviews_csv_query)\n",
        "print(result)"
      ]
    },
    {
      "cell_type": "code",
      "execution_count": 959,
      "metadata": {
        "id": "iDzLl205lhmc",
        "colab": {
          "base_uri": "https://localhost:8080/"
        },
        "outputId": "30eaa43e-1320-4bcb-8ff6-930e967280ea"
      },
      "outputs": [
        {
          "output_type": "stream",
          "name": "stdout",
          "text": [
            "[]\n"
          ]
        }
      ],
      "source": [
        "explore_reviews_csv_query = \"\"\"\n",
        "MERGE (cpeMatch:CpeMatch {uri:\"cpe:2.3:a:sap:netweaver_application_server_abap:710:*:*:*:sap_basis:*:*:*\" })\n",
        "MERGE (cpe:CPE {version:\"710\"})\n",
        "MERGE (cpeMatch)-[:MAPPED_WITH]->(cpe)\n",
        "\n",
        "\"\"\"\n",
        "result = conn.query(explore_reviews_csv_query)\n",
        "print(result)"
      ]
    },
    {
      "cell_type": "code",
      "execution_count": 960,
      "metadata": {
        "id": "lVHrRpuUljMZ",
        "colab": {
          "base_uri": "https://localhost:8080/"
        },
        "outputId": "0137128e-e64d-4562-8eef-e6ad6202469a"
      },
      "outputs": [
        {
          "output_type": "stream",
          "name": "stdout",
          "text": [
            "[]\n"
          ]
        }
      ],
      "source": [
        "explore_reviews_csv_query = \"\"\"\n",
        "MERGE (cpeMatch:CpeMatch {uri:\"cpe:2.3:a:sap:netweaver_application_server_abap:711:*:*:*:sap_basis:*:*:*\" })\n",
        "MERGE (cpe:CPE {version:\"711\"})\n",
        "MERGE (cpeMatch)-[:MAPPED_WITH]->(cpe)\n",
        "\n",
        "\"\"\"\n",
        "result = conn.query(explore_reviews_csv_query)\n",
        "print(result)"
      ]
    },
    {
      "cell_type": "code",
      "execution_count": 961,
      "metadata": {
        "id": "PnzGM_mjlkf9",
        "colab": {
          "base_uri": "https://localhost:8080/"
        },
        "outputId": "f19143e3-e540-4173-93c2-7efe4b90e5a6"
      },
      "outputs": [
        {
          "output_type": "stream",
          "name": "stdout",
          "text": [
            "[]\n"
          ]
        }
      ],
      "source": [
        "explore_reviews_csv_query = \"\"\"\n",
        "MERGE (cpeMatch:CpeMatch {uri:\"cpe:2.3:a:sap:netweaver_application_server_abap:730:*:*:*:sap_basis:*:*:*\" })\n",
        "MERGE (cpe:CPE {version:\"730\"})\n",
        "MERGE (cpeMatch)-[:MAPPED_WITH]->(cpe)\n",
        "\n",
        "\"\"\"\n",
        "result = conn.query(explore_reviews_csv_query)\n",
        "print(result)"
      ]
    },
    {
      "cell_type": "code",
      "execution_count": 962,
      "metadata": {
        "id": "MU7726D8lnak",
        "colab": {
          "base_uri": "https://localhost:8080/"
        },
        "outputId": "a0177af9-9262-449e-c3af-c8b08a9bcd85"
      },
      "outputs": [
        {
          "output_type": "stream",
          "name": "stdout",
          "text": [
            "[]\n"
          ]
        }
      ],
      "source": [
        "explore_reviews_csv_query = \"\"\"\n",
        "MERGE (cpeMatch:CpeMatch {uri:\"cpe:2.3:a:sap:netweaver_application_server_abap:731:*:*:*:sap_basis:*:*:*\" })\n",
        "MERGE (cpe:CPE {version:\"731\"})\n",
        "MERGE (cpeMatch)-[:MAPPED_WITH]->(cpe)\n",
        "\n",
        "\"\"\"\n",
        "result = conn.query(explore_reviews_csv_query)\n",
        "print(result)"
      ]
    },
    {
      "cell_type": "code",
      "execution_count": 963,
      "metadata": {
        "id": "e2DhnZYMlplA",
        "colab": {
          "base_uri": "https://localhost:8080/"
        },
        "outputId": "0c6c2cc9-de1f-409e-b975-31cc0e725eb0"
      },
      "outputs": [
        {
          "output_type": "stream",
          "name": "stdout",
          "text": [
            "[]\n"
          ]
        }
      ],
      "source": [
        "explore_reviews_csv_query = \"\"\"\n",
        "MERGE (cpeMatch:CpeMatch {uri:\"cpe:2.3:a:sap:netweaver_application_server_abap:740:*:*:*:sap_basis:*:*:*\" })\n",
        "MERGE (cpe:CPE {version:\"740\"})\n",
        "MERGE (cpeMatch)-[:MAPPED_WITH]->(cpe)\n",
        "\n",
        "\"\"\"\n",
        "result = conn.query(explore_reviews_csv_query)\n",
        "print(result)"
      ]
    },
    {
      "cell_type": "code",
      "execution_count": 964,
      "metadata": {
        "id": "HKnoiNejly3y",
        "colab": {
          "base_uri": "https://localhost:8080/"
        },
        "outputId": "4708e4de-11af-4b69-8ca6-1055e6e8feb3"
      },
      "outputs": [
        {
          "output_type": "stream",
          "name": "stdout",
          "text": [
            "[]\n"
          ]
        }
      ],
      "source": [
        "explore_reviews_csv_query = \"\"\"\n",
        "MERGE (cpeMatch:CpeMatch {uri:\"cpe:2.3:a:sap:netweaver_application_server_abap:750:*:*:*:sap_basis:*:*:*\" })\n",
        "MERGE (cpe:CPE {version:\"750\"})\n",
        "MERGE (cpeMatch)-[:MAPPED_WITH]->(cpe)\n",
        "\n",
        "\"\"\"\n",
        "result = conn.query(explore_reviews_csv_query)\n",
        "print(result)"
      ]
    },
    {
      "cell_type": "code",
      "execution_count": 965,
      "metadata": {
        "id": "MIiSlCxAl0v8",
        "colab": {
          "base_uri": "https://localhost:8080/"
        },
        "outputId": "a4057052-3908-4696-ed3a-472cf7992728"
      },
      "outputs": [
        {
          "output_type": "stream",
          "name": "stdout",
          "text": [
            "[]\n"
          ]
        }
      ],
      "source": [
        "explore_reviews_csv_query = \"\"\"\n",
        "MERGE (cpeMatch:CpeMatch {uri:\"cpe:2.3:a:sap:netweaver_application_server_abap:751:*:*:*:sap_basis:*:*:*\" })\n",
        "MERGE (cpe:CPE {version:\"751\"})\n",
        "MERGE (cpeMatch)-[:MAPPED_WITH]->(cpe)\n",
        "\n",
        "\"\"\"\n",
        "result = conn.query(explore_reviews_csv_query)\n",
        "print(result)"
      ]
    },
    {
      "cell_type": "code",
      "execution_count": 966,
      "metadata": {
        "id": "q-X3TUtBl288",
        "colab": {
          "base_uri": "https://localhost:8080/"
        },
        "outputId": "04e777bf-53f9-4860-a464-0089881d17a0"
      },
      "outputs": [
        {
          "output_type": "stream",
          "name": "stdout",
          "text": [
            "[]\n"
          ]
        }
      ],
      "source": [
        "explore_reviews_csv_query = \"\"\"\n",
        "MERGE (cpeMatch:CpeMatch {uri:\"cpe:2.3:a:sap:netweaver_application_server_abap:752:*:*:*:sap_basis:*:*:*\" })\n",
        "MERGE (cpe:CPE {version:\"752\"})\n",
        "MERGE (cpeMatch)-[:MAPPED_WITH]->(cpe)\n",
        "\n",
        "\"\"\"\n",
        "result = conn.query(explore_reviews_csv_query)\n",
        "print(result)"
      ]
    },
    {
      "cell_type": "code",
      "execution_count": 967,
      "metadata": {
        "colab": {
          "base_uri": "https://localhost:8080/"
        },
        "id": "fj24pVAml4os",
        "outputId": "044c11b1-8dbe-43a2-b2bb-17ee4544e4aa"
      },
      "outputs": [
        {
          "output_type": "stream",
          "name": "stdout",
          "text": [
            "[]\n"
          ]
        }
      ],
      "source": [
        "explore_reviews_csv_query = \"\"\"\n",
        "MERGE (cpeMatch:CpeMatch {uri:\"cpe:2.3:a:sap:netweaver_application_server_abap:753:*:*:*:sap_basis:*:*:*\" })\n",
        "MERGE (cpe:CPE {version:\"753\"})\n",
        "MERGE (cpeMatch)-[:MAPPED_WITH]->(cpe)\n",
        "\n",
        "\"\"\"\n",
        "result = conn.query(explore_reviews_csv_query)\n",
        "print(result)"
      ]
    },
    {
      "cell_type": "code",
      "execution_count": 968,
      "metadata": {
        "colab": {
          "base_uri": "https://localhost:8080/"
        },
        "id": "sEGg2-VDl6v8",
        "outputId": "a8040723-f5ad-4d87-f6ad-81d57676586c"
      },
      "outputs": [
        {
          "output_type": "stream",
          "name": "stdout",
          "text": [
            "[]\n"
          ]
        }
      ],
      "source": [
        "explore_reviews_csv_query = \"\"\"\n",
        "MERGE (cpeMatch:CpeMatch {uri:\"cpe:2.3:a:sap:netweaver_application_server_abap:754:*:*:*:sap_basis:*:*:*\" })\n",
        "MERGE (cpe:CPE {version:\"754\"})\n",
        "MERGE (cpeMatch)-[:MAPPED_WITH]->(cpe)\n",
        "\n",
        "\"\"\"\n",
        "result = conn.query(explore_reviews_csv_query)\n",
        "print(result)"
      ]
    },
    {
      "cell_type": "code",
      "execution_count": 969,
      "metadata": {
        "colab": {
          "base_uri": "https://localhost:8080/"
        },
        "id": "KFYj95Sv8Q-j",
        "outputId": "eff0b7c4-d5ca-410e-9ff6-f73182d2618e"
      },
      "outputs": [
        {
          "output_type": "stream",
          "name": "stdout",
          "text": [
            "[]\n"
          ]
        }
      ],
      "source": [
        "explore_reviews_csv_query = \"\"\"\n",
        "MERGE (cpeMatch:CpeMatch {uri:\"cpe:2.3:a:sap:netweaver_application_server_abap:755:*:*:*:sap_basis:*:*:*\" })\n",
        "MERGE (cpe:CPE {version:\"755\"})\n",
        "MERGE (cpeMatch)-[:MAPPED_WITH]->(cpe)\n",
        "\n",
        "\"\"\"\n",
        "result = conn.query(explore_reviews_csv_query)\n",
        "print(result)"
      ]
    },
    {
      "cell_type": "code",
      "execution_count": 970,
      "metadata": {
        "colab": {
          "base_uri": "https://localhost:8080/"
        },
        "id": "PGAxEOgb8evX",
        "outputId": "e6bcaf84-40a6-4053-de07-74fee3c00387"
      },
      "outputs": [
        {
          "output_type": "stream",
          "name": "stdout",
          "text": [
            "[]\n"
          ]
        }
      ],
      "source": [
        "explore_reviews_csv_query = \"\"\"\n",
        "MERGE (cpeMatch:CpeMatch {uri:\"cpe:2.3:a:sap:netweaver_application_server_abap:756:*:*:*:sap_basis:*:*:*\" })\n",
        "MERGE (cpe:CPE {version:\"756\"})\n",
        "MERGE (cpeMatch)-[:MAPPED_WITH]->(cpe)\n",
        "\n",
        "\"\"\"\n",
        "result = conn.query(explore_reviews_csv_query)\n",
        "print(result)"
      ]
    },
    {
      "cell_type": "code",
      "execution_count": 971,
      "metadata": {
        "colab": {
          "base_uri": "https://localhost:8080/"
        },
        "id": "dbkOXjAP8g1i",
        "outputId": "80d3c8bb-3725-415e-d239-d8c216293e33"
      },
      "outputs": [
        {
          "output_type": "stream",
          "name": "stdout",
          "text": [
            "[]\n"
          ]
        }
      ],
      "source": [
        "explore_reviews_csv_query = \"\"\"\n",
        "MERGE (cpeMatch:CpeMatch {uri:\"cpe:2.3:a:sap:netweaver_application_server_abap:757:*:*:*:sap_basis:*:*:*\" })\n",
        "MERGE (cpe:CPE {version:\"757\"})\n",
        "MERGE (cpeMatch)-[:MAPPED_WITH]->(cpe)\n",
        "\n",
        "\"\"\"\n",
        "result = conn.query(explore_reviews_csv_query)\n",
        "print(result)"
      ]
    },
    {
      "cell_type": "code",
      "execution_count": 972,
      "metadata": {
        "colab": {
          "base_uri": "https://localhost:8080/"
        },
        "id": "5pqSTgTW8pP7",
        "outputId": "5547f932-8712-417a-b097-663a65ed6df1"
      },
      "outputs": [
        {
          "output_type": "stream",
          "name": "stdout",
          "text": [
            "[]\n"
          ]
        }
      ],
      "source": [
        "explore_reviews_csv_query = \"\"\"\n",
        "MERGE (cpeMatch:CpeMatch {uri:\"cpe:2.3:a:sap:netweaver_as_abap_kernel:7.89:*:*:*:*:*:*:*\" })\n",
        "MERGE (cpe:CPE {version:\"7.89\"})\n",
        "MERGE (cpeMatch)-[:MAPPED_WITH]->(cpe)\n",
        "\n",
        "\"\"\"\n",
        "result = conn.query(explore_reviews_csv_query)\n",
        "print(result)"
      ]
    },
    {
      "cell_type": "code",
      "execution_count": 973,
      "metadata": {
        "colab": {
          "base_uri": "https://localhost:8080/"
        },
        "id": "8n_04uVPFgQ4",
        "outputId": "50d77233-deeb-4cfc-e405-5b5b88807ca5"
      },
      "outputs": [
        {
          "output_type": "stream",
          "name": "stdout",
          "text": [
            "[]\n"
          ]
        }
      ],
      "source": [
        "explore_reviews_csv_query = \"\"\"\n",
        "MERGE (cpeMatch:CpeMatch {uri:\"cpe:2.3:a:sap:business_objects_business_intelligence_platform:420:*:*:*:*:*:*:*\" })\n",
        "MERGE (cpe:CPE {version:\"420\"})\n",
        "MERGE (cpeMatch)-[:MAPPED_WITH]->(cpe)\n",
        "\n",
        "\"\"\"\n",
        "result = conn.query(explore_reviews_csv_query)\n",
        "print(result)"
      ]
    },
    {
      "cell_type": "code",
      "execution_count": 974,
      "metadata": {
        "colab": {
          "base_uri": "https://localhost:8080/"
        },
        "id": "ixCqK_VllPi3",
        "outputId": "f3ca6cac-ae71-4ce7-d7f5-ee1fd6ec12ee"
      },
      "outputs": [
        {
          "output_type": "stream",
          "name": "stdout",
          "text": [
            "[]\n"
          ]
        }
      ],
      "source": [
        "explore_reviews_csv_query = \"\"\"\n",
        "MERGE (cpeMatch:CpeMatch {uri:\"cpe:2.3:a:sap:business_planning_and_consolidation:810:*:*:*:*:microsoft:*:*\" })\n",
        "MERGE (cpe:CPE {version:\"810\"})\n",
        "MERGE (cpeMatch)-[:MAPPED_WITH]->(cpe)\n",
        "\n",
        "\"\"\"\n",
        "result = conn.query(explore_reviews_csv_query)\n",
        "print(result)"
      ]
    },
    {
      "cell_type": "code",
      "execution_count": 975,
      "metadata": {
        "colab": {
          "base_uri": "https://localhost:8080/"
        },
        "id": "phfT7_GZlOIG",
        "outputId": "8afb1f1b-ce4c-4176-8b99-c57fba6bbe9c"
      },
      "outputs": [
        {
          "output_type": "stream",
          "name": "stdout",
          "text": [
            "[]\n"
          ]
        }
      ],
      "source": [
        "explore_reviews_csv_query = \"\"\"\n",
        "MERGE (cpeMatch:CpeMatch {uri:\"cpe:2.3:a:sap:business_planning_and_consolidation:800:*:*:*:*:microsoft:*:*\" })\n",
        "MERGE (cpe:CPE {version:\"800\"})\n",
        "MERGE (cpeMatch)-[:MAPPED_WITH]->(cpe)\n",
        "\n",
        "\"\"\"\n",
        "result = conn.query(explore_reviews_csv_query)\n",
        "print(result)"
      ]
    },
    {
      "cell_type": "code",
      "execution_count": 976,
      "metadata": {
        "colab": {
          "base_uri": "https://localhost:8080/"
        },
        "id": "RNRVapf_8jBy",
        "outputId": "cdf10ea6-75cd-42f9-fd70-1d0142c09ce4"
      },
      "outputs": [
        {
          "output_type": "stream",
          "name": "stdout",
          "text": [
            "[]\n"
          ]
        }
      ],
      "source": [
        "explore_reviews_csv_query = \"\"\"\n",
        "MERGE (cpeMatch:CpeMatch {uri:\"cpe:2.3:a:sap:netweaver_application_server_for_java:7.50:*:*:*:*:*:*:*\" })\n",
        "MERGE (cpe:CPE {version:\"7.50\"})\n",
        "MERGE (cpeMatch)-[:MAPPED_WITH]->(cpe)\n",
        "\n",
        "\"\"\"\n",
        "result = conn.query(explore_reviews_csv_query)\n",
        "print(result)"
      ]
    },
    {
      "cell_type": "code",
      "execution_count": 977,
      "metadata": {
        "colab": {
          "base_uri": "https://localhost:8080/"
        },
        "id": "0ae3KnbtlQct",
        "outputId": "79a7d590-3425-4eb8-cf56-8996ad3589f5"
      },
      "outputs": [
        {
          "output_type": "stream",
          "name": "stdout",
          "text": [
            "[]\n"
          ]
        }
      ],
      "source": [
        "explore_reviews_csv_query = \"\"\"\n",
        "MERGE (cpeMatch:CpeMatch {uri:\"cpe:2.3:a:sap:businessobjects_business_intelligence_platform:420:*:*:*:*:*:*:*\" })\n",
        "MERGE (cpe:CPE {version:\"420\"})\n",
        "MERGE (cpeMatch)-[:MAPPED_WITH]->(cpe)\n",
        "\n",
        "\"\"\"\n",
        "result = conn.query(explore_reviews_csv_query)\n",
        "print(result)"
      ]
    },
    {
      "cell_type": "code",
      "execution_count": 978,
      "metadata": {
        "colab": {
          "base_uri": "https://localhost:8080/"
        },
        "id": "LnEdxBrllSh0",
        "outputId": "a4a2023e-37fd-4b43-e803-3b303f8953cc"
      },
      "outputs": [
        {
          "output_type": "stream",
          "name": "stdout",
          "text": [
            "[]\n"
          ]
        }
      ],
      "source": [
        "explore_reviews_csv_query = \"\"\"\n",
        "MERGE (cpeMatch:CpeMatch {uri:\"cpe:2.3:a:sap:businessobjects_business_intelligence_platform:430:*:*:*:*:*:*:*\" })\n",
        "MERGE (cpe:CPE {version:\"430\"})\n",
        "MERGE (cpeMatch)-[:MAPPED_WITH]->(cpe)\n",
        "\n",
        "\"\"\"\n",
        "result = conn.query(explore_reviews_csv_query)\n",
        "print(result)"
      ]
    },
    {
      "cell_type": "code",
      "execution_count": 979,
      "metadata": {
        "colab": {
          "base_uri": "https://localhost:8080/"
        },
        "id": "_HJaQ1NilRUD",
        "outputId": "ce40127d-1db9-419a-b839-8be74af5f92e"
      },
      "outputs": [
        {
          "output_type": "stream",
          "name": "stdout",
          "text": [
            "[]\n"
          ]
        }
      ],
      "source": [
        "explore_reviews_csv_query = \"\"\"\n",
        "MERGE (cpeMatch:CpeMatch {uri:\"cpe:2.3:a:sap:businessobjects_business_intelligence_platform:420:*:*:*:analysis:olap:*:*\" })\n",
        "MERGE (cpe:CPE {version:\"420\"})\n",
        "MERGE (cpeMatch)-[:MAPPED_WITH]->(cpe)\n",
        "\n",
        "\"\"\"\n",
        "result = conn.query(explore_reviews_csv_query)\n",
        "print(result)"
      ]
    },
    {
      "cell_type": "code",
      "execution_count": 980,
      "metadata": {
        "colab": {
          "base_uri": "https://localhost:8080/"
        },
        "id": "4BBQv4MBlYN0",
        "outputId": "9d3eaefe-e016-4684-f2ad-6c15618fc426"
      },
      "outputs": [
        {
          "output_type": "stream",
          "name": "stdout",
          "text": [
            "[]\n"
          ]
        }
      ],
      "source": [
        "explore_reviews_csv_query = \"\"\"\n",
        "MERGE (cpeMatch:CpeMatch {uri:\"cpe:2.3:a:sap:businessobjects_business_intelligence_platform:430:*:*:*:analysis:olap:*:*\" })\n",
        "MERGE (cpe:CPE {version:\"430\"})\n",
        "MERGE (cpeMatch)-[:MAPPED_WITH]->(cpe)\n",
        "\n",
        "\"\"\"\n",
        "result = conn.query(explore_reviews_csv_query)\n",
        "print(result)"
      ]
    },
    {
      "cell_type": "code",
      "execution_count": 981,
      "metadata": {
        "colab": {
          "base_uri": "https://localhost:8080/"
        },
        "id": "w64VdVfuhxfS",
        "outputId": "8cf9b03a-09b0-48a7-f023-18cc70400e9b"
      },
      "outputs": [
        {
          "output_type": "stream",
          "name": "stdout",
          "text": [
            "[]\n"
          ]
        }
      ],
      "source": [
        "explore_reviews_csv_query = \"\"\"\n",
        "MERGE (cpeMatch:CpeMatch {uri:\"cpe:2.3:a:sap:bank_account_management:900:*:*:*:*:*:*:*\" })\n",
        "MERGE (cpe:CPE {version:\"900\"})\n",
        "MERGE (cpeMatch)-[:MAPPED_WITH]->(cpe)\n",
        "\n",
        "\"\"\"\n",
        "result = conn.query(explore_reviews_csv_query)\n",
        "print(result)"
      ]
    },
    {
      "cell_type": "code",
      "execution_count": 982,
      "metadata": {
        "colab": {
          "base_uri": "https://localhost:8080/"
        },
        "id": "4NYG_JuJ2np3",
        "outputId": "d7f090f9-1e0a-4522-e536-e02c9b44a5f9"
      },
      "outputs": [
        {
          "output_type": "stream",
          "name": "stdout",
          "text": [
            "[]\n"
          ]
        }
      ],
      "source": [
        "explore_reviews_csv_query = \"\"\"\n",
        "MERGE (cpeMatch:CpeMatch {uri:\"cpe:2.3:a:sap:bank_account_management:800:*:*:*:*:*:*:*\" })\n",
        "MERGE (cpe:CPE {version:\"800\"})\n",
        "MERGE (cpeMatch)-[:MAPPED_WITH]->(cpe)\n",
        "\n",
        "\"\"\"\n",
        "result = conn.query(explore_reviews_csv_query)\n",
        "print(result)"
      ]
    },
    {
      "cell_type": "code",
      "execution_count": 983,
      "metadata": {
        "colab": {
          "base_uri": "https://localhost:8080/"
        },
        "id": "rL35pxMdmEYp",
        "outputId": "0100a895-e525-466d-a3e0-075f11553920"
      },
      "outputs": [
        {
          "output_type": "stream",
          "name": "stdout",
          "text": [
            "[]\n"
          ]
        }
      ],
      "source": [
        "explore_reviews_csv_query = \"\"\"\n",
        "MERGE (cpeMatch:CpeMatch {uri:\"cpe:2.3:a:linagora:twake:*:*:*:*:*:*:*:*\" })\n",
        "MERGE (cpe:CPE {version:\"*\"})\n",
        "MERGE (cpeMatch)-[:MAPPED_WITH]->(cpe)\n",
        "\n",
        "\"\"\"\n",
        "result = conn.query(explore_reviews_csv_query)\n",
        "print(result)"
      ]
    },
    {
      "cell_type": "code",
      "execution_count": 984,
      "metadata": {
        "colab": {
          "base_uri": "https://localhost:8080/"
        },
        "id": "1n3v0vB781t3",
        "outputId": "706a9c15-7aca-499a-9f2f-27baf33c3cee"
      },
      "outputs": [
        {
          "output_type": "stream",
          "name": "stdout",
          "text": [
            "[]\n"
          ]
        }
      ],
      "source": [
        "explore_reviews_csv_query = \"\"\"\n",
        "MERGE (cpeMatch:CpeMatch {uri:\"cpe:2.3:o:multilaserempresas:re708_firmware:re1200r4gc-2t2r-v3_v3411b_mul029b:*:*:*:*:*:*:*\" })\n",
        "MERGE (cpe:CPE {version:\"re1200r4gc-2t2r-v3_v3411b_mul029b\"})\n",
        "MERGE (cpeMatch)-[:MAPPED_WITH]->(cpe)\n",
        "\n",
        "\"\"\"\n",
        "result = conn.query(explore_reviews_csv_query)\n",
        "print(result)"
      ]
    },
    {
      "cell_type": "code",
      "execution_count": 985,
      "metadata": {
        "colab": {
          "base_uri": "https://localhost:8080/"
        },
        "id": "eOAoAjLL8z-o",
        "outputId": "213f35cd-65e4-457a-8019-ed7c921d7965"
      },
      "outputs": [
        {
          "output_type": "stream",
          "name": "stdout",
          "text": [
            "[]\n"
          ]
        }
      ],
      "source": [
        "explore_reviews_csv_query = \"\"\"\n",
        "MERGE (cpeMatch:CpeMatch {uri:\"cpe:2.3:h:multilaserempresas:re708:-:*:*:*:*:*:*:*\" })\n",
        "MERGE (cpe:CPE {version:\"-\"})\n",
        "MERGE (cpeMatch)-[:MAPPED_WITH]->(cpe)\n",
        "\n",
        "\"\"\"\n",
        "result = conn.query(explore_reviews_csv_query)\n",
        "print(result)"
      ]
    },
    {
      "cell_type": "markdown",
      "metadata": {
        "id": "v_JgjuTayQL5"
      },
      "source": [
        "**Script_Unstructured data.cypher**"
      ]
    },
    {
      "cell_type": "markdown",
      "metadata": {
        "id": "5bS9uBOlK-8v"
      },
      "source": [
        "Extract the entities from unstructured data (vulnerability description) in CVE by using OIE model, entity-fishing, and en_core_web_sm model (from spaCy)\n"
      ]
    },
    {
      "cell_type": "code",
      "execution_count": 986,
      "metadata": {
        "colab": {
          "base_uri": "https://localhost:8080/"
        },
        "id": "8LrhRlpYK-G8",
        "outputId": "2ae9372e-3f50-4d53-932e-613bcd8a0e67"
      },
      "outputs": [
        {
          "output_type": "stream",
          "name": "stdout",
          "text": [
            "[]\n"
          ]
        }
      ],
      "source": [
        "explore_reviews_csv_query = \"\"\"\n",
        "CREATE (node1:Frame {text:\"gains\",type:\"verb\"}),\n",
        "       (node2:Frame_Argument{text:\"an attacker\",type:\"ARG0\"}),\n",
        "       (node3:Reference{text:\"who\",type:\"R-ARG0\"}),\n",
        "       (node4:Frame_Argument{text:\"local membership\",type:\"ARG1\"}),\n",
        "       (node5:Frame_Argument{text:\"to SAP_LocalAdmin\",type:\"ARG4\"}),\n",
        "\n",
        "       (node2)-[:HAS_ARGUMENT]->(node1),\n",
        "       (node3)-[:HAS_ARGUMENT]->(node1),\n",
        "       (node4)-[:HAS_ARGUMENT]->(node1),\n",
        "       (node5)-[:HAS_ARGUMENT]->(node1)\n",
        "\n",
        "MERGE (description:Description {cveId:\"CVE-2023-0012\"})\n",
        "MERGE (frame:Frame {text:\"gains\"})\n",
        "MERGE (description)-[:MAPPED_WITH]->(frame)\n",
        "\n",
        "\"\"\"\n",
        "result = conn.query(explore_reviews_csv_query)\n",
        "print(result)"
      ]
    },
    {
      "cell_type": "code",
      "execution_count": 987,
      "metadata": {
        "colab": {
          "base_uri": "https://localhost:8080/"
        },
        "id": "rSYckdLLNPqg",
        "outputId": "646d539d-1235-4f21-f995-9ec92ac7dfb9"
      },
      "outputs": [
        {
          "output_type": "stream",
          "name": "stdout",
          "text": [
            "[]\n"
          ]
        }
      ],
      "source": [
        "explore_reviews_csv_query = \"\"\"\n",
        "CREATE (node1:Frame {text:\"be\",type:\"verb\"}),\n",
        "       (node2:Frame_Argument{text:\"an attacker who gains local membership to SAP_LocalAdmin\",type:\"ARG1\"}),\n",
        "       (node3:Modifier_Modal{text:\"could\",type:\"ARGM-MOD\"}),\n",
        "       (node4:Frame_Argument{text:\"able to replace executables with a malicious file that will be started under a privileged account\",type:\"ARG2\"}),\n",
        "       (node5:Frame_Argument{type:\"ARG0\",Head:\"attacker\",offsetStart:3,offsetEnd:11,confidence_score:0.3651,wikipediaExternalRef:428681,wikidataId:\"Q280658\",domains:\"Biology\"}),\n",
        "       (node6:Frame_Argument{type:\"ARG2\",Head:\"malicious\",offsetStart:35,offsetEnd:44,confidence_score:0.5011,wikipediaExternalRef:20901,wikidataId:\"Q14001\",domains:\"Computer_Science\"}),\n",
        "\n",
        "       (node2)-[:HAS_ARGUMENT]->(node1),\n",
        "       (node3)-[:HAS_ARGUMENT]->(node1),\n",
        "       (node4)-[:HAS_ARGUMENT]->(node1),\n",
        "       (node5)-[:HAS_ARGUMENT]->(node1),\n",
        "       (node6)-[:HAS_ARGUMENT]->(node1)\n",
        "\n",
        "MERGE (description:Description {cveId:\"CVE-2023-0012\"})\n",
        "MERGE (frame:Frame {text:\"be\"})\n",
        "MERGE (description)-[:MAPPED_WITH]->(frame)       \n",
        "       \n",
        "\"\"\"\n",
        "result = conn.query(explore_reviews_csv_query)\n",
        "print(result)"
      ]
    },
    {
      "cell_type": "code",
      "execution_count": 988,
      "metadata": {
        "colab": {
          "base_uri": "https://localhost:8080/"
        },
        "id": "NTsuS76jLisW",
        "outputId": "02bd4d63-9e9f-4604-c8cb-185001f9594c"
      },
      "outputs": [
        {
          "output_type": "stream",
          "name": "stdout",
          "text": [
            "[]\n"
          ]
        }
      ],
      "source": [
        "explore_reviews_csv_query = \"\"\"\n",
        "CREATE (node1:Frame {text:\"replace\",type:\"verb\"}),\n",
        "       (node2:Frame_Argument{text:\"executables\",type:\"ARG1\"}),\n",
        "       (node3:Frame_Argument{text:\"an attacker who gains local membership to SAP_LocalAdmin\",type:\"ARG2\"}),\n",
        "       (node4:Frame_Argument{text:\"with a malicious file that will be started under a privileged account\",type:\"ARG2\"}),\n",
        "\n",
        "       (node2)-[:HAS_ARGUMENT]->(node1),\n",
        "       (node3)-[:HAS_ARGUMENT]->(node1),\n",
        "       (node4)-[:HAS_ARGUMENT]->(node1)\n",
        "\n",
        "MERGE (description:Description {cveId:\"CVE-2023-0012\"})\n",
        "MERGE (frame:Frame {text:\"replace\"})\n",
        "MERGE (description)-[:MAPPED_WITH]->(frame)        \n",
        "\n",
        "\"\"\"\n",
        "result = conn.query(explore_reviews_csv_query)\n",
        "print(result)"
      ]
    },
    {
      "cell_type": "code",
      "execution_count": 989,
      "metadata": {
        "colab": {
          "base_uri": "https://localhost:8080/"
        },
        "id": "UHZeCtIINjMO",
        "outputId": "ff16a5ec-7917-476e-a6c5-81fdadb023f3"
      },
      "outputs": [
        {
          "output_type": "stream",
          "name": "stdout",
          "text": [
            "[]\n"
          ]
        }
      ],
      "source": [
        "explore_reviews_csv_query = \"\"\"\n",
        "CREATE (node1:Frame {text:\"started\",type:\"verb\"}),\n",
        "       (node2:Frame_Argument{text:\"a malicious file\",type:\"ARG1\"}),\n",
        "       (node3:Reference{text:\"that\",type:\"R-ARG1\"}),\n",
        "       (node4:Modifier_Modal{text:\"will\",type:\"ARGM-MOD\"}),\n",
        "       (node5:Modifier_Location{text:\"under a privileged account\",type:\"ARGM-LOC\"}),\n",
        "\n",
        "       (node2)-[:HAS_ARGUMENT]->(node1),\n",
        "       (node3)-[:HAS_ARGUMENT]->(node1),\n",
        "       (node4)-[:HAS_ARGUMENT]->(node1),\n",
        "       (node5)-[:HAS_ARGUMENT]->(node1)\n",
        "\n",
        "MERGE (description:Description {cveId:\"CVE-2023-0012\"})\n",
        "MERGE (frame:Frame {text:\"started\"})\n",
        "MERGE (description)-[:MAPPED_WITH]->(frame)       \n",
        "\n",
        "\"\"\"\n",
        "result = conn.query(explore_reviews_csv_query)\n",
        "print(result)"
      ]
    },
    {
      "cell_type": "code",
      "execution_count": 990,
      "metadata": {
        "colab": {
          "base_uri": "https://localhost:8080/"
        },
        "id": "XCmuApWEq1J0",
        "outputId": "995811b8-e992-4159-df94-339a83f4dec1"
      },
      "outputs": [
        {
          "output_type": "stream",
          "name": "stdout",
          "text": [
            "[]\n"
          ]
        }
      ],
      "source": [
        "explore_reviews_csv_query = \"\"\"\n",
        "CREATE (node1:Frame {text:\"Note\",type:\"verb\"}),\n",
        "       (node2:Modifier_Location{text:\"In SAP\",type:\"ARGM-LOC\"}),\n",
        "       (node3:Frame_Argument{text:\"that by default all user members of SAP_LocaAdmin are denied the ability to logon locally by security policy so that this can only occur if the system has already been compromised\",type:\"ARG1\"}),\n",
        "       (node4:Frame_Argument{type:\"ARG1\",Head:\"logon\",offsetStart:76,offsetEnd:81,confidence_score:0.6351,wikipediaExternalRef:9878372,wikidataId:\"Q472302\",domains:\"Computer_Science\"}),\n",
        "\n",
        "       (node2)-[:HAS_ARGUMENT]->(node1),\n",
        "       (node3)-[:HAS_ARGUMENT]->(node1),\n",
        "       (node4)-[:HAS_ARGUMENT]->(node1)\n",
        "\n",
        "MERGE (description:Description {cveId:\"CVE-2023-0012\"})\n",
        "MERGE (frame:Frame {text:\"Note\"})\n",
        "MERGE (description)-[:MAPPED_WITH]->(frame)       \n",
        "\n",
        "\"\"\"\n",
        "result = conn.query(explore_reviews_csv_query)\n",
        "print(result)"
      ]
    },
    {
      "cell_type": "code",
      "execution_count": 991,
      "metadata": {
        "colab": {
          "base_uri": "https://localhost:8080/"
        },
        "id": "Tlpm6WuqNkjy",
        "outputId": "3fb5365f-5144-4f0f-eefd-d7560d3e329e"
      },
      "outputs": [
        {
          "output_type": "stream",
          "name": "stdout",
          "text": [
            "[]\n"
          ]
        }
      ],
      "source": [
        "explore_reviews_csv_query = \"\"\"\n",
        "CREATE (node1:Frame {text:\"denied\",type:\"Verb\"}),\n",
        "       (node2:Modifier_Manner{text:\"by default all user members of\",type:\"ARGM-MNR\"}),\n",
        "       (node3:Frame_Argument{text:\"the ability to logon locally by security policy\",type:\"ARG1\"}),\n",
        "       (node4:Modifier_Purpose{text:\"so that this can only occur if the system has already been compromised\",type:\"ARGM-PRP\"}),\n",
        "       (node5:Frame_Argument{type:\"ARG0\",Head:\"security policy\",offsetStart:32,offsetEnd:47,confidence_score:0.5825,wikipediaExternalRef:34231217,wikidataId:\"Q1128636\",domains:\"Electronics, Computer_Science, Telecommunication\"}),\n",
        "\n",
        "       (node2)-[:HAS_ARGUMENT]->(node1),\n",
        "       (node3)-[:HAS_ARGUMENT]->(node1),\n",
        "       (node4)-[:HAS_ARGUMENT]->(node1),\n",
        "       (node5)-[:HAS_ARGUMENT]->(node1)\n",
        "\n",
        "MERGE (description:Description {cveId:\"CVE-2023-0012\"})\n",
        "MERGE (frame:Frame {text:\"denied\"})\n",
        "MERGE (description)-[:MAPPED_WITH]->(frame)        \n",
        "\n",
        "\"\"\"\n",
        "result = conn.query(explore_reviews_csv_query)\n",
        "print(result)"
      ]
    },
    {
      "cell_type": "code",
      "execution_count": 992,
      "metadata": {
        "colab": {
          "base_uri": "https://localhost:8080/"
        },
        "id": "YZr_jd8CNlyL",
        "outputId": "7dff0712-f20d-466b-f9c2-7302ee0d1bb0"
      },
      "outputs": [
        {
          "output_type": "stream",
          "name": "stdout",
          "text": [
            "[]\n"
          ]
        }
      ],
      "source": [
        "explore_reviews_csv_query = \"\"\"\n",
        "CREATE (node1:Frame {text:\"logon\",type:\"Verb\"}),\n",
        "       (node2:Frame_Argument{text:\"locally\",type:\"ARG1\"}),\n",
        "       (node3:Frame_Argument{text:\"by security\",type:\"ARG2\"}),\n",
        "\n",
        "       (node2)-[:HAS_ARGUMENT]->(node1),\n",
        "       (node3)-[:HAS_ARGUMENT]->(node1)\n",
        "\n",
        "MERGE (description:Description {cveId:\"CVE-2023-0012\"})\n",
        "MERGE (frame:Frame {text:\"logon\"})\n",
        "MERGE (description)-[:MAPPED_WITH]->(frame)       \n",
        "      \n",
        "\n",
        "\"\"\"\n",
        "result = conn.query(explore_reviews_csv_query)\n",
        "print(result)"
      ]
    },
    {
      "cell_type": "code",
      "execution_count": 993,
      "metadata": {
        "colab": {
          "base_uri": "https://localhost:8080/"
        },
        "id": "p9WqiFIwNm1S",
        "outputId": "d1c1a712-3d8a-4d85-ef2d-95ccb600a90f"
      },
      "outputs": [
        {
          "output_type": "stream",
          "name": "stdout",
          "text": [
            "[]\n"
          ]
        }
      ],
      "source": [
        "explore_reviews_csv_query = \"\"\"\n",
        "CREATE (node1:Frame {text:\"occur\",type:\"Verb\"}),\n",
        "       (node2:Frame_Argument{text:\"this\",type:\"ARG1\"}),\n",
        "       (node3:Modifier_Modal{text:\"can\",type:\"ARGM-MOD\"}),\n",
        "       (node4:Modifier_Adverbial{text:\"only\",type:\"ARGM-ADV\"}),\n",
        "       (node5:Modifier_Adverbial{text:\"if the system has already been compromised\",type:\"ARGM-ADV\"}),\n",
        "\n",
        "       (node2)-[:HAS_ARGUMENT]->(node1),\n",
        "       (node3)-[:HAS_ARGUMENT]->(node1),\n",
        "       (node4)-[:HAS_ARGUMENT]->(node1),\n",
        "       (node5)-[:HAS_ARGUMENT]->(node1)\n",
        "\n",
        "MERGE (description:Description {cveId:\"CVE-2023-0012\"})\n",
        "MERGE (frame:Frame {text:\"occur\"})\n",
        "MERGE (description)-[:MAPPED_WITH]->(frame)        \n",
        "\n",
        "\"\"\"\n",
        "result = conn.query(explore_reviews_csv_query)\n",
        "print(result)"
      ]
    },
    {
      "cell_type": "code",
      "execution_count": 994,
      "metadata": {
        "id": "qg51jo8dNo2u",
        "colab": {
          "base_uri": "https://localhost:8080/"
        },
        "outputId": "7d895221-2098-41f3-d7e7-708934f39d34"
      },
      "outputs": [
        {
          "output_type": "stream",
          "name": "stdout",
          "text": [
            "[]\n"
          ]
        }
      ],
      "source": [
        "explore_reviews_csv_query = \"\"\"\n",
        "CREATE (node1:Frame {text:\"compromised\",type:\"Verb\"}),\n",
        "       (node2:Frame_Argument{text:\"the system\",type:\"ARG1\"}),\n",
        "       (node3:Modifier_Temporal{text:\"already\",type:\"ARGM-TMP\"}),\n",
        "\n",
        "       (node2)-[:HAS_ARGUMENT]->(node1),\n",
        "       (node3)-[:HAS_ARGUMENT]->(node1)\n",
        "\n",
        "MERGE (description:Description {cveId:\"CVE-2023-0012\"})\n",
        "MERGE (frame:Frame {text:\"compromised\"})\n",
        "MERGE (description)-[:MAPPED_WITH]->(frame)       \n",
        "\n",
        "\"\"\"\n",
        "result = conn.query(explore_reviews_csv_query)\n",
        "print(result)"
      ]
    },
    {
      "cell_type": "code",
      "execution_count": 995,
      "metadata": {
        "id": "mLviV6NxNn6W",
        "colab": {
          "base_uri": "https://localhost:8080/"
        },
        "outputId": "b6d1b4c1-3af6-4172-c1d7-67eee37d3432"
      },
      "outputs": [
        {
          "output_type": "stream",
          "name": "stdout",
          "text": [
            "[]\n"
          ]
        }
      ],
      "source": [
        "explore_reviews_csv_query = \"\"\"\n",
        "CREATE (node1:Frame {text:\"encode\",type:\"Verb\"}),\n",
        "       (node2:Frame_Argument{text:\"The ABAP Keyword Documentation of SAP NetWeaver Application Server - versions 702 , 731 , 740 , 750 , 751 , 752 , 753 , 754 , 755 , 756 , 757 , for ABAP and ABAP Platform\",type:\"ARG0\"}),\n",
        "       (node3:Modifier_Negation{text:\"not\",type:\"ARGM-NEG\"}),\n",
        "       (node4:Modifier_Manner{text:\"sufficiently\",type:\"ARGM-MNR\"}),\n",
        "       (node5:Frame_Argument{text:\"user - controlled inputs\",type:\"ARG1\"}),\n",
        "       (node6:Modifier_Adverbial{text:\"resulting in Cross - Site Scripting ( XSS ) vulnerability . On successful exploitation an attacker can cause limited impact on confidentiality and integrity of the application\",type:\"ARGM-ADV\"}),\n",
        "       (node7:Frame_Argument{type:\"ARG1\",Head:\"user-controlled\",offsetStart:189,offsetEnd:204,confidence_score:0.4601,wikipediaExternalRef:21875249,wikidataId:\"Q3561045\",domains:\"Computer_Science\"}),\n",
        "       (node8:Frame_Argument{type:\"ARG1\",Head:\"inputs\",offsetStart:205,offsetEnd:211,confidence_score:0.3879,wikipediaExternalRef:11231,wikidataId:\"Q210947\",domains:\"Finance,Sociology,Economy,Commerce,Enterprise\"}),\n",
        "\n",
        "       (node2)-[:HAS_ARGUMENT]->(node1),\n",
        "       (node3)-[:HAS_ARGUMENT]->(node1),\n",
        "       (node4)-[:HAS_ARGUMENT]->(node1),\n",
        "       (node5)-[:HAS_ARGUMENT]->(node1),\n",
        "       (node6)-[:HAS_ARGUMENT]->(node1),\n",
        "       (node7)-[:HAS_ARGUMENT]->(node1),\n",
        "       (node8)-[:HAS_ARGUMENT]->(node1)\n",
        "\n",
        "MERGE (description:Description {cveId:\"CVE-2023-0013\"})\n",
        "MERGE (frame:Frame {text:\"encode\"})\n",
        "MERGE (description)-[:MAPPED_WITH]->(frame)        \n",
        "\n",
        "\"\"\"\n",
        "result = conn.query(explore_reviews_csv_query)\n",
        "print(result)"
      ]
    },
    {
      "cell_type": "code",
      "execution_count": 996,
      "metadata": {
        "id": "X1Aq_2RVNqDm",
        "colab": {
          "base_uri": "https://localhost:8080/"
        },
        "outputId": "53f072b0-2810-494f-e839-7c91bd720e11"
      },
      "outputs": [
        {
          "output_type": "stream",
          "name": "stdout",
          "text": [
            "[]\n"
          ]
        }
      ],
      "source": [
        "explore_reviews_csv_query = \"\"\"\n",
        "CREATE (node1:Frame {text:\"controlled\",type:\"Verb\"}),\n",
        "       (node2:Frame_Argument{text:\"user\",type:\"ARG0\"}),\n",
        "       (node3:Frame_Argument{text:\"inputs\",type:\"ARG1\"}),\n",
        "\n",
        "       (node2)-[:HAS_ARGUMENT]->(node1),\n",
        "       (node3)-[:HAS_ARGUMENT]->(node1)\n",
        "\n",
        "MERGE (description:Description {cveId:\"CVE-2023-0013\"})\n",
        "MERGE (frame:Frame {text:\"controlled\"})\n",
        "MERGE (description)-[:MAPPED_WITH]->(frame)        \n",
        "\n",
        "\"\"\"\n",
        "result = conn.query(explore_reviews_csv_query)\n",
        "print(result)"
      ]
    },
    {
      "cell_type": "code",
      "execution_count": 997,
      "metadata": {
        "id": "HAlGxjMENq9t",
        "colab": {
          "base_uri": "https://localhost:8080/"
        },
        "outputId": "102c61a0-e372-4217-e501-561950116e85"
      },
      "outputs": [
        {
          "output_type": "stream",
          "name": "stdout",
          "text": [
            "[]\n"
          ]
        }
      ],
      "source": [
        "explore_reviews_csv_query = \"\"\"\n",
        "CREATE (node1:Frame {text:\"cause\",type:\"Verb\"}),\n",
        "       (node2:Modifier_Location{text:\"On successful exploitation\",type:\"ARGM-LOC\"}),\n",
        "       (node3:Frame_Argument{text:\"an attacker\",type:\"ARG0\"}),\n",
        "       (node4:Modifier_Modal{text:\"can\",type:\"ARGM-MOD\"}),\n",
        "       (node5:Frame_Argument{text:\"limited impact on confidentiality and integrity of the application\",type:\"ARG1\"}),\n",
        "\n",
        "       (node2)-[:HAS_ARGUMENT]->(node1),\n",
        "       (node3)-[:HAS_ARGUMENT]->(node1),\n",
        "       (node4)-[:HAS_ARGUMENT]->(node1),\n",
        "       (node5)-[:HAS_ARGUMENT]->(node1)\n",
        "\n",
        "MERGE (description:Description {cveId:\"CVE-2023-0013\"})\n",
        "MERGE (frame:Frame {text:\"cause\"})\n",
        "MERGE (description)-[:MAPPED_WITH]->(frame)        \n",
        "\n",
        "\"\"\"\n",
        "result = conn.query(explore_reviews_csv_query)\n",
        "print(result)"
      ]
    },
    {
      "cell_type": "code",
      "execution_count": 998,
      "metadata": {
        "id": "YWkiE2vtNsPd",
        "colab": {
          "base_uri": "https://localhost:8080/"
        },
        "outputId": "bd768b46-5787-4702-af07-f742dd1cf7a1"
      },
      "outputs": [
        {
          "output_type": "stream",
          "name": "stdout",
          "text": [
            "[]\n"
          ]
        }
      ],
      "source": [
        "explore_reviews_csv_query = \"\"\"\n",
        "CREATE (node1:Frame {text:\"creates\",type:\"Verb\"}),\n",
        "       (node2:Frame_Argument{text:\"SAP NetWeaver ABAP Server and ABAP Platform - versions SAP_BASIS 700 , 701 , 702 , 710 , 711 , 730 , 731 , 740 , 750 , 751 , 752 , 753 , 754 , 755 , 756 , 757 , KERNEL 7.22 , 7.53 , 7.77 , 7.81 , 7.85 , 7.89 , KRNL64UC 7.22 , 7.22EXT , 7.53 , KRNL64NUC 7.22 , 7.22EXT\",type:\"ARG0\"}),\n",
        "       (node3:Frame_Argument{text:\"information about system identity\",type:\"ARG1\"}),\n",
        "       (node4:Modifier_Location{text:\"in an ambiguous format\",type:\"ARGM-LOC\"}),\n",
        "       (node5:Frame_Argument{type:\"ARG1\",Head:\"KERNEL\",offsetStart:161,offsetEnd:167,confidence_score:0.4157,wikipediaExternalRef:21346982,wikidataId:\"Q9662\",domains:\"Computer_Science\"}),\n",
        "\n",
        "       (node2)-[:HAS_ARGUMENT]->(node1),\n",
        "       (node3)-[:HAS_ARGUMENT]->(node1),\n",
        "       (node4)-[:HAS_ARGUMENT]->(node1),\n",
        "       (node5)-[:HAS_ARGUMENT]->(node1)\n",
        "\n",
        "MERGE (description:Description {cveId:\"CVE-2023-0014\"})\n",
        "MERGE (frame:Frame {text:\"creates\"})\n",
        "MERGE (description)-[:MAPPED_WITH]->(frame)        \n",
        "\n",
        "\"\"\"\n",
        "result = conn.query(explore_reviews_csv_query)\n",
        "print(result)"
      ]
    },
    {
      "cell_type": "code",
      "execution_count": 999,
      "metadata": {
        "id": "f3UO_q-mNtXL",
        "colab": {
          "base_uri": "https://localhost:8080/"
        },
        "outputId": "d99ae6b6-cd89-4ccb-f8e6-7dc9b4ad802f"
      },
      "outputs": [
        {
          "output_type": "stream",
          "name": "stdout",
          "text": [
            "[]\n"
          ]
        }
      ],
      "source": [
        "explore_reviews_csv_query = \"\"\"\n",
        "CREATE (node1:Frame {text:\"lead\",type:\"Verb\"}),\n",
        "       (node2:Frame_Argument{text:\"This\",type:\"ARG0\"}),\n",
        "       (node3:Modifier_Modal{text:\"could\",type:\"ARGM-MOD\"}),\n",
        "       (node4:Frame_Argument{text:\"to capture - replay vulnerability\",type:\"ARG2\"}),\n",
        "       (node5:Frame_Argument{type:\"ARG1\",Head:\"vulnerability\",offsetStart:20,offsetEnd:33,confidence_score:0.3654,wikipediaExternalRef:1129827,wikidataId:\"Q631425\",domains:\"Military,Computer_Science\"}),\n",
        "\n",
        "       (node2)-[:HAS_ARGUMENT]->(node1),\n",
        "       (node3)-[:HAS_ARGUMENT]->(node1),\n",
        "       (node4)-[:HAS_ARGUMENT]->(node1),\n",
        "       (node5)-[:HAS_ARGUMENT]->(node1)\n",
        "\n",
        "MERGE (description:Description {cveId:\"CVE-2023-0014\"})\n",
        "MERGE (frame:Frame {text:\"lead\"})\n",
        "MERGE (description)-[:MAPPED_WITH]->(frame)       \n",
        "\n",
        "\"\"\"\n",
        "result = conn.query(explore_reviews_csv_query)\n",
        "print(result)"
      ]
    },
    {
      "cell_type": "code",
      "execution_count": 1000,
      "metadata": {
        "id": "oB5R3dBoQWqv",
        "colab": {
          "base_uri": "https://localhost:8080/"
        },
        "outputId": "0c5cf4d0-cdd3-4b27-946f-187ce4e01b49"
      },
      "outputs": [
        {
          "output_type": "stream",
          "name": "stdout",
          "text": [
            "[]\n"
          ]
        }
      ],
      "source": [
        "explore_reviews_csv_query = \"\"\"\n",
        "CREATE (node1:Frame {text:\"may\",type:\"Verb\"}),\n",
        "       (node2:Modifier_Modal{text:\"could\",type:\"ARGM-MOD\"}),\n",
        "       (node3:Frame_Argument{text:\"be exploited by malicious users to obtain illegitimate access to the system\",type:\"ARG1\"}),\n",
        "       (node4:Frame_Argument{type:\"ARG0\",Head:\"malicious users\",offsetStart:16,offsetEnd:31,confidence_score:0.6062,wikipediaExternalRef:2471540,wikidataId:\"Q2798820\",domains:\"Computer_Science\"}),\n",
        "\n",
        "       (node2)-[:HAS_ARGUMENT]->(node1),\n",
        "       (node3)-[:HAS_ARGUMENT]->(node1),\n",
        "       (node4)-[:HAS_ARGUMENT]->(node1)\n",
        "\n",
        "MERGE (description:Description {cveId:\"CVE-2023-0014\"})\n",
        "MERGE (frame:Frame {text:\"may\"})\n",
        "MERGE (description)-[:MAPPED_WITH]->(frame)       \n",
        "\n",
        "\"\"\"\n",
        "result = conn.query(explore_reviews_csv_query)\n",
        "print(result)"
      ]
    },
    {
      "cell_type": "code",
      "execution_count": 1001,
      "metadata": {
        "id": "jTIZT8-fxEJE",
        "colab": {
          "base_uri": "https://localhost:8080/"
        },
        "outputId": "649afd4e-82ae-4349-f5af-956aa4fcacd8"
      },
      "outputs": [
        {
          "output_type": "stream",
          "name": "stdout",
          "text": [
            "[]\n"
          ]
        }
      ],
      "source": [
        "explore_reviews_csv_query = \"\"\"\n",
        "CREATE (node1:Frame {text:\"exploited\",type:\"Verb\"}),\n",
        "       (node2:Frame_Argument{text:\"This\",type:\"ARG1\"}),\n",
        "       (node3:Modifier_Modal{text:\"may\",type:\"ARGM-MOD\"}),\n",
        "       (node4:Frame_Argument{text:\"by malicious users\",type:\"ARG0\"}),\n",
        "       (node5:Frame_Argument{text:\"to obtain illegitimate access to the system\",type:\"ARG2\"}),\n",
        "\n",
        "       (node2)-[:HAS_ARGUMENT]->(node1),\n",
        "       (node3)-[:HAS_ARGUMENT]->(node1),\n",
        "       (node4)-[:HAS_ARGUMENT]->(node1),\n",
        "       (node5)-[:HAS_ARGUMENT]->(node1)\n",
        "\n",
        "MERGE (description:Description {cveId:\"CVE-2023-0014\"})\n",
        "MERGE (frame:Frame {text:\"exploited\"})\n",
        "MERGE (description)-[:MAPPED_WITH]->(frame)       \n",
        "\n",
        "\"\"\"\n",
        "result = conn.query(explore_reviews_csv_query)\n",
        "print(result)"
      ]
    },
    {
      "cell_type": "code",
      "execution_count": 1002,
      "metadata": {
        "id": "ZJ4s34ypxFEX",
        "colab": {
          "base_uri": "https://localhost:8080/"
        },
        "outputId": "58ea7f26-590d-466d-8c0d-467af5424ec8"
      },
      "outputs": [
        {
          "output_type": "stream",
          "name": "stdout",
          "text": [
            "[]\n"
          ]
        }
      ],
      "source": [
        "explore_reviews_csv_query = \"\"\"\n",
        "CREATE (node1:Frame {text:\"return\",type:\"Verb\"}),\n",
        "       (node2:Frame_Argument{text:\"some calls\",type:\"ARG0\"}),\n",
        "       (node3:Frame_Argument{text:\"json\",type:\"ARG1\"}),\n",
        "       (node4:Modifier_Manner{text:\"with wrong content type\",type:\"ARGM-MNR\"}),\n",
        "       (node5:Modifier_Manner{text:\"in the header of the\",type:\"ARGM-MNR\"}),\n",
        "\n",
        "       (node2)-[:HAS_ARGUMENT]->(node1),\n",
        "       (node3)-[:HAS_ARGUMENT]->(node1),\n",
        "       (node4)-[:HAS_ARGUMENT]->(node1),\n",
        "       (node5)-[:HAS_ARGUMENT]->(node1)\n",
        "\n",
        "MERGE (description:Description {cveId:\"CVE-2023-0015\"})\n",
        "MERGE (frame:Frame {text:\"return\"})\n",
        "MERGE (description)-[:MAPPED_WITH]->(frame)        \n",
        "\n",
        "\"\"\"\n",
        "result = conn.query(explore_reviews_csv_query)\n",
        "print(result)"
      ]
    },
    {
      "cell_type": "code",
      "execution_count": 1003,
      "metadata": {
        "id": "GnCyLc3SxGEL",
        "colab": {
          "base_uri": "https://localhost:8080/"
        },
        "outputId": "4c96b619-204b-43cb-97eb-9a9dcbe20318"
      },
      "outputs": [
        {
          "output_type": "stream",
          "name": "stdout",
          "text": [
            "[]\n"
          ]
        }
      ],
      "source": [
        "explore_reviews_csv_query = \"\"\"\n",
        "CREATE (node1:Frame {text:\"calls\",type:\"Verb\"}),\n",
        "       (node2:Frame_Argument{text:\"a custom application\",type:\"ARG0\"}),\n",
        "       (node3:Reference{text:\"that\",type:\"R-ARG0\"}),\n",
        "       (node4:Modifier_Manner{text:\"directly\",type:\"ARGM-MNR\"}),\n",
        "       (node5:Frame_Argument{text:\"the jsp of Web Intelligence\",type:\"ARG1\"}),\n",
        "\n",
        "       (node2)-[:HAS_ARGUMENT]->(node1),\n",
        "       (node3)-[:HAS_ARGUMENT]->(node1),\n",
        "       (node4)-[:HAS_ARGUMENT]->(node1),\n",
        "       (node5)-[:HAS_ARGUMENT]->(node1)\n",
        "\n",
        "MERGE (description:Description {cveId:\"CVE-2023-0015\"})\n",
        "MERGE (frame:Frame {text:\"calls\"})\n",
        "MERGE (description)-[:MAPPED_WITH]->(frame)        \n",
        "\n",
        "\"\"\"\n",
        "result = conn.query(explore_reviews_csv_query)\n",
        "print(result)"
      ]
    },
    {
      "cell_type": "code",
      "execution_count": 1004,
      "metadata": {
        "id": "ejO46JMLxG5C",
        "colab": {
          "base_uri": "https://localhost:8080/"
        },
        "outputId": "7de9438a-36d8-464f-b002-eb24aa0fdf46"
      },
      "outputs": [
        {
          "output_type": "stream",
          "name": "stdout",
          "text": [
            "[]\n"
          ]
        }
      ],
      "source": [
        "explore_reviews_csv_query = \"\"\"\n",
        "CREATE (node1:Frame {text:\"be\",type:\"Verb\"}),\n",
        "       (node2:Frame_Argument{text:\"a custom application that calls directly the jsp of Web Intelligence DHTML\",type:\"ARG1\"}),\n",
        "       (node3:Modifier_Modal{text:\"may\",type:\"ARGM-MOD\"}),\n",
        "       (node4:Frame_Argument{text:\"vulnerable to XSS attacks\",type:\"ARG2\"}),\n",
        "\n",
        "       (node2)-[:HAS_ARGUMENT]->(node1),\n",
        "       (node3)-[:HAS_ARGUMENT]->(node1),\n",
        "       (node4)-[:HAS_ARGUMENT]->(node1)\n",
        "\n",
        "MERGE (description:Description {cveId:\"CVE-2023-0015\"})\n",
        "MERGE (frame:Frame {text:\"be\"})\n",
        "MERGE (description)-[:MAPPED_WITH]->(frame)       \n",
        "\n",
        "\"\"\"\n",
        "result = conn.query(explore_reviews_csv_query)\n",
        "print(result)"
      ]
    },
    {
      "cell_type": "code",
      "execution_count": 1005,
      "metadata": {
        "id": "NJxnNpvpxH0p",
        "colab": {
          "base_uri": "https://localhost:8080/"
        },
        "outputId": "2c9bbf16-084a-43b0-80ac-d6d0a5e2ca1b"
      },
      "outputs": [
        {
          "output_type": "stream",
          "name": "stdout",
          "text": [
            "[]\n"
          ]
        }
      ],
      "source": [
        "explore_reviews_csv_query = \"\"\"\n",
        "CREATE (node1:Frame {text:\"cause\",type:\"Verb\"}),\n",
        "       (node2:Modifier_Location{text:\"On successful exploitation\",type:\"ARGM-LOC\"}),\n",
        "       (node3:Frame_Argument{text:\"an attacker\",type:\"ARG0\"}),\n",
        "       (node4:Modifier_Modal{text:\"can\",type:\"ARGM-MOD\"}),\n",
        "       (node5:Frame_Argument{text:\"limited impact on confidentiality and integrity of the application\",type:\"ARG1\"}),\n",
        "\n",
        "       (node2)-[:HAS_ARGUMENT]->(node1),\n",
        "       (node3)-[:HAS_ARGUMENT]->(node1),\n",
        "       (node4)-[:HAS_ARGUMENT]->(node1),\n",
        "       (node5)-[:HAS_ARGUMENT]->(node1)\n",
        "\n",
        "MERGE (description:Description {cveId:\"CVE-2023-0015\"})\n",
        "MERGE (frame:Frame {text:\"cause\"})\n",
        "MERGE (description)-[:MAPPED_WITH]->(frame)       \n",
        "\n",
        "\"\"\"\n",
        "result = conn.query(explore_reviews_csv_query)\n",
        "print(result)"
      ]
    },
    {
      "cell_type": "code",
      "execution_count": 1006,
      "metadata": {
        "id": "ksvrkEhsxI2c",
        "colab": {
          "base_uri": "https://localhost:8080/"
        },
        "outputId": "dd25dc61-6882-4b34-d14a-96851d803321"
      },
      "outputs": [
        {
          "output_type": "stream",
          "name": "stdout",
          "text": [
            "[]\n"
          ]
        }
      ],
      "source": [
        "explore_reviews_csv_query = \"\"\"\n",
        "CREATE (node1:Frame {text:\"allows\",type:\"Verb\"}),\n",
        "       (node2:Frame_Argument{text:\"SAP BPC MS 10.0 - version 810\",type:\"ARG0\"}),\n",
        "       (node3:Frame_Argument{text:\"an unauthorized attacker to execute crafted database queries\",type:\"ARG1\"}),\n",
        "       (node4:Frame_Argument{type:\"ARG1\",Head:\"unauthorized\",offsetStart:41,offsetEnd:53,confidence_score:0.3687,wikipediaExternalRef:151617,wikidataId:\"Q788590\",domains:\"Sociology,Electronics,Engineering\"}),\n",
        "       (node5:Frame_Argument{type:\"ARG1\",Head:\"attacker\",offsetStart:54,offsetEnd:62,confidence_score:0.4001,wikipediaExternalRef:428681,wikidataId:\"Q280658\",domains:\"Biology\"}),\n",
        "\n",
        "\n",
        "       (node2)-[:HAS_ARGUMENT]->(node1),\n",
        "       (node3)-[:HAS_ARGUMENT]->(node1),\n",
        "       (node4)-[:HAS_ARGUMENT]->(node1),\n",
        "       (node5)-[:HAS_ARGUMENT]->(node1)\n",
        "\n",
        "MERGE (description:Description {cveId:\"CVE-2023-0016\"})\n",
        "MERGE (frame:Frame {text:\"allows\"})\n",
        "MERGE (description)-[:MAPPED_WITH]->(frame)       \n",
        "\n",
        "\"\"\"\n",
        "result = conn.query(explore_reviews_csv_query)\n",
        "print(result)"
      ]
    },
    {
      "cell_type": "code",
      "execution_count": 1007,
      "metadata": {
        "id": "7lGP5TUuxJ_h",
        "colab": {
          "base_uri": "https://localhost:8080/"
        },
        "outputId": "6b470020-3a45-4c16-844f-2ed4113f5f06"
      },
      "outputs": [
        {
          "output_type": "stream",
          "name": "stdout",
          "text": [
            "[]\n"
          ]
        }
      ],
      "source": [
        "explore_reviews_csv_query = \"\"\"\n",
        "CREATE (node1:Frame {text:\"execute\",type:\"Verb\"}),\n",
        "       (node2:Frame_Argument{text:\"an unauthorized attacker\",type:\"ARG0\"}),\n",
        "       (node3:Frame_Argument{text:\"crafted database queries\",type:\"ARG1\"}),\n",
        "\n",
        "       (node2)-[:HAS_ARGUMENT]->(node1),\n",
        "       (node3)-[:HAS_ARGUMENT]->(node1)\n",
        "\n",
        "MERGE (description:Description {cveId:\"CVE-2023-0016\"})\n",
        "MERGE (frame:Frame {text:\"execute\"})\n",
        "MERGE (description)-[:MAPPED_WITH]->(frame)       \n",
        "\n",
        "\"\"\"\n",
        "result = conn.query(explore_reviews_csv_query)\n",
        "print(result)"
      ]
    },
    {
      "cell_type": "code",
      "execution_count": 1008,
      "metadata": {
        "id": "aZUemEcexMKR",
        "colab": {
          "base_uri": "https://localhost:8080/"
        },
        "outputId": "7a19aaab-06da-4f7a-e4a9-a4717442f3f3"
      },
      "outputs": [
        {
          "output_type": "stream",
          "name": "stdout",
          "text": [
            "[]\n"
          ]
        }
      ],
      "source": [
        "explore_reviews_csv_query = \"\"\"\n",
        "CREATE (node1:Frame {text:\"lead\",type:\"Verb\"}),\n",
        "       (node2:Frame_Argument{text:\"The exploitation of this issue\",type:\"ARG0\"}),\n",
        "       (node3:Modifier_Modal{text:\"could\",type:\"ARGM-MOD\"}),\n",
        "       (node4:Frame_Argument{text:\"to SQL injection vulnerability\",type:\"ARG2\"}),\n",
        "\n",
        "       (node2)-[:HAS_ARGUMENT]->(node1),\n",
        "       (node3)-[:HAS_ARGUMENT]->(node1),\n",
        "       (node4)-[:HAS_ARGUMENT]->(node1)\n",
        "\n",
        "MERGE (description:Description {cveId:\"CVE-2023-0016\"})\n",
        "MERGE (frame:Frame {text:\"lead\"})\n",
        "MERGE (description)-[:MAPPED_WITH]->(frame)        \n",
        "\n",
        "\"\"\"\n",
        "result = conn.query(explore_reviews_csv_query)\n",
        "print(result)"
      ]
    },
    {
      "cell_type": "code",
      "execution_count": 1009,
      "metadata": {
        "id": "P4iipYB3xNGH",
        "colab": {
          "base_uri": "https://localhost:8080/"
        },
        "outputId": "0238de01-071d-4732-f70e-0047fab2a404"
      },
      "outputs": [
        {
          "output_type": "stream",
          "name": "stdout",
          "text": [
            "[]\n"
          ]
        }
      ],
      "source": [
        "explore_reviews_csv_query = \"\"\"\n",
        "CREATE (node1:Frame {text:\"could\",type:\"Verb\"}),\n",
        "       (node2:Frame_Argument{text:\"The exploitation of this issue\",type:\"ARG0\"}),\n",
        "       (node3:Modifier_Modal{text:\"could\",type:\"ARGM-MOD\"}),\n",
        "       (node4:Frame_Argument{text:\"allow an attacker to access , modify , and/or delete data from the backend database\",type:\"ARG1\"}),\n",
        "\n",
        "       (node2)-[:HAS_ARGUMENT]->(node1),\n",
        "       (node3)-[:HAS_ARGUMENT]->(node1),\n",
        "       (node4)-[:HAS_ARGUMENT]->(node1)\n",
        "\n",
        "MERGE (description:Description {cveId:\"CVE-2023-0016\"})\n",
        "MERGE (frame:Frame {text:\"could\"})\n",
        "MERGE (description)-[:MAPPED_WITH]->(frame)       \n",
        "\n",
        "\"\"\"\n",
        "result = conn.query(explore_reviews_csv_query)\n",
        "print(result)"
      ]
    },
    {
      "cell_type": "code",
      "execution_count": 1010,
      "metadata": {
        "id": "e84wr0dWxOHU",
        "colab": {
          "base_uri": "https://localhost:8080/"
        },
        "outputId": "060ff780-f9a7-48da-f5c6-8984a4f9e83e"
      },
      "outputs": [
        {
          "output_type": "stream",
          "name": "stdout",
          "text": [
            "[]\n"
          ]
        }
      ],
      "source": [
        "explore_reviews_csv_query = \"\"\"\n",
        "CREATE (node1:Frame {text:\"allow\",type:\"Verb\"}),\n",
        "       (node2:Frame_Argument{text:\"The exploitation of this issue\",type:\"ARG0\"}),\n",
        "       (node3:Modifier_Modal{text:\"could\",type:\"ARGM-MOD\"}),\n",
        "       (node4:Frame_Argument{text:\"an attacker to access , modify , and/or delete data from the backend database\",type:\"ARG1\"}),\n",
        "\n",
        "       (node2)-[:HAS_ARGUMENT]->(node1),\n",
        "       (node3)-[:HAS_ARGUMENT]->(node1),\n",
        "       (node4)-[:HAS_ARGUMENT]->(node1)\n",
        "\n",
        "MERGE (description:Description {cveId:\"CVE-2023-0016\"})\n",
        "MERGE (frame:Frame {text:\"allow\"})\n",
        "MERGE (description)-[:MAPPED_WITH]->(frame)       \n",
        "\n",
        "\"\"\"\n",
        "result = conn.query(explore_reviews_csv_query)\n",
        "print(result)"
      ]
    },
    {
      "cell_type": "code",
      "execution_count": 1011,
      "metadata": {
        "id": "BuhxF1RkxPH8",
        "colab": {
          "base_uri": "https://localhost:8080/"
        },
        "outputId": "97e182b6-9bea-445f-c47a-9a3b288b4722"
      },
      "outputs": [
        {
          "output_type": "stream",
          "name": "stdout",
          "text": [
            "[]\n"
          ]
        }
      ],
      "source": [
        "explore_reviews_csv_query = \"\"\"\n",
        "CREATE (node1:Frame {text:\"can\",type:\"Verb\"}),\n",
        "       (node2:Frame_Argument{text:\"An unauthenticated attacker in SAP NetWeaver AS for Java - version 7.50\",type:\"ARG0\"}),\n",
        "       (node3:Frame_Argument{text:\"attach to an open interface and make use of an open naming and directory API to access services which can be used to perform unauthorized operations affecting users and data on the current\",type:\"ARG1\"}),\n",
        "       (node4:Frame_Argument{type:\"ARG1\",Head:\"unauthorized\",offsetStart:125,offsetEnd:137,confidence_score:0.3803,wikipediaExternalRef:18948365,wikidataId:\"Q647578\",domains:\"Electronics,Computer_Science,Economy,Sociology\"}),\n",
        "\n",
        "       (node2)-[:HAS_ARGUMENT]->(node1),\n",
        "       (node3)-[:HAS_ARGUMENT]->(node1),\n",
        "       (node4)-[:HAS_ARGUMENT]->(node1)\n",
        "\n",
        "MERGE (description:Description {cveId:\"CVE-2023-0017\"})\n",
        "MERGE (frame:Frame {text:\"can\"})\n",
        "MERGE (description)-[:MAPPED_WITH]->(frame)       \n",
        "\n",
        "\"\"\"\n",
        "result = conn.query(explore_reviews_csv_query)\n",
        "print(result)"
      ]
    },
    {
      "cell_type": "code",
      "execution_count": 1012,
      "metadata": {
        "id": "vIJkIyV5xQV5",
        "colab": {
          "base_uri": "https://localhost:8080/"
        },
        "outputId": "b9a6a773-fff0-44d8-dfbc-7b75a383de9a"
      },
      "outputs": [
        {
          "output_type": "stream",
          "name": "stdout",
          "text": [
            "[]\n"
          ]
        }
      ],
      "source": [
        "explore_reviews_csv_query = \"\"\"\n",
        "CREATE (node1:Frame {text:\"attach\",type:\"Verb\"}),\n",
        "       (node2:Frame_Argument{text:\"An unauthenticated attacker in SAP NetWeaver AS for Java - version 7.50 , due to improper access control\",type:\"ARG0\"}),\n",
        "       (node3:Modifier_Modal{text:\"can\",type:\"ARGM-MOD\"}),\n",
        "       (node4:Frame_Argument{text:\"to an open interface\",type:\"ARG2\"}),\n",
        "\n",
        "       (node2)-[:HAS_ARGUMENT]->(node1),\n",
        "       (node3)-[:HAS_ARGUMENT]->(node1),\n",
        "       (node4)-[:HAS_ARGUMENT]->(node1)\n",
        "\n",
        "MERGE (description:Description {cveId:\"CVE-2023-0017\"})\n",
        "MERGE (frame:Frame {text:\"attach\"})\n",
        "MERGE (description)-[:MAPPED_WITH]->(frame)       \n",
        "\n",
        "\"\"\"\n",
        "result = conn.query(explore_reviews_csv_query)\n",
        "print(result)"
      ]
    },
    {
      "cell_type": "code",
      "execution_count": 1013,
      "metadata": {
        "id": "bWmIxjA0xRai",
        "colab": {
          "base_uri": "https://localhost:8080/"
        },
        "outputId": "dd4d5fe5-be37-479f-d90b-7c7c6aa09c2e"
      },
      "outputs": [
        {
          "output_type": "stream",
          "name": "stdout",
          "text": [
            "[]\n"
          ]
        }
      ],
      "source": [
        "explore_reviews_csv_query = \"\"\"\n",
        "CREATE (node1:Frame {text:\"make\",type:\"Verb\"}),\n",
        "       (node2:Frame_Argument{text:\"An unauthenticated attacker in SAP NetWeaver AS for Java - version 7.50 , due to improper access control\",type:\"ARG0\"}),\n",
        "       (node3:Modifier_Modal{text:\"can\",type:\"ARGM-MOD\"}),\n",
        "       (node4:Frame_Argument{text:\"use of an open naming and directory API to access services which can be used to perform unauthorized operations affecting users and data on the current system\",type:\"ARG1\"}),\n",
        "\n",
        "       (node2)-[:HAS_ARGUMENT]->(node1),\n",
        "       (node3)-[:HAS_ARGUMENT]->(node1),\n",
        "       (node4)-[:HAS_ARGUMENT]->(node1)\n",
        "\n",
        "MERGE (description:Description {cveId:\"CVE-2023-0017\"})\n",
        "MERGE (frame:Frame {text:\"make\"})\n",
        "MERGE (description)-[:MAPPED_WITH]->(frame)       \n",
        "\n",
        "\"\"\"\n",
        "result = conn.query(explore_reviews_csv_query)\n",
        "print(result)"
      ]
    },
    {
      "cell_type": "code",
      "execution_count": 1014,
      "metadata": {
        "id": "a5SMemIjxTC0",
        "colab": {
          "base_uri": "https://localhost:8080/"
        },
        "outputId": "da0ac42f-f93a-423e-bd70-e2d8e3c98fcb"
      },
      "outputs": [
        {
          "output_type": "stream",
          "name": "stdout",
          "text": [
            "[]\n"
          ]
        }
      ],
      "source": [
        "explore_reviews_csv_query = \"\"\"\n",
        "CREATE (node1:Frame {text:\"used\",type:\"Verb\"}),\n",
        "       (node2:Frame_Argument{text:\"access services\",type:\"ARG1\"}),\n",
        "       (node3:Reference{text:\"which\",type:\"R-ARG1\"}),\n",
        "       (node4:Modifier_Modal{text:\"can\",type:\"ARGM-MOD\"}),\n",
        "       (node5:Frame_Argument{text:\"to perform unauthorized operations affecting users and data on the current system\",type:\"ARG2\"}),\n",
        "\n",
        "       (node2)-[:HAS_ARGUMENT]->(node1),\n",
        "       (node3)-[:HAS_ARGUMENT]->(node1),\n",
        "       (node4)-[:HAS_ARGUMENT]->(node1),\n",
        "       (node5)-[:HAS_ARGUMENT]->(node1)\n",
        "\n",
        "MERGE (description:Description {cveId:\"CVE-2023-0017\"})\n",
        "MERGE (frame:Frame {text:\"used\"})\n",
        "MERGE (description)-[:MAPPED_WITH]->(frame)       \n",
        "\n",
        "\"\"\"\n",
        "result = conn.query(explore_reviews_csv_query)\n",
        "print(result)"
      ]
    },
    {
      "cell_type": "code",
      "execution_count": 1015,
      "metadata": {
        "id": "dofYm29TxT9T",
        "colab": {
          "base_uri": "https://localhost:8080/"
        },
        "outputId": "afbab26f-0cb7-46f2-aeea-f951b20cff5b"
      },
      "outputs": [
        {
          "output_type": "stream",
          "name": "stdout",
          "text": [
            "[]\n"
          ]
        }
      ],
      "source": [
        "explore_reviews_csv_query = \"\"\"\n",
        "CREATE (node1:Frame {text:\"perform\",type:\"Verb\"}),\n",
        "       (node2:Frame_Argument{text:\"access services\",type:\"ARG0\"}),\n",
        "       (node3:Frame_Argument{text:\"unauthorized operations affecting users and data on the current system\",type:\"ARG1\"}),\n",
        "       (node4:Frame_Argument{type:\"ARG1\",Head:\"unauthorized\",offsetStart:234,offsetEnd:246,confidence_score:0.3753,wikipediaExternalRef:205662,wikidataId:\"Q502918\",domains:\"Commerce, Enterprise, Finance\"}),\n",
        "\n",
        "       (node2)-[:HAS_ARGUMENT]->(node1),\n",
        "       (node3)-[:HAS_ARGUMENT]->(node1),\n",
        "       (node4)-[:HAS_ARGUMENT]->(node1)\n",
        "\n",
        "MERGE (description:Description {cveId:\"CVE-2023-0017\"})\n",
        "MERGE (frame:Frame {text:\"perform\"})\n",
        "MERGE (description)-[:MAPPED_WITH]->(frame)       \n",
        "\n",
        "\"\"\"\n",
        "result = conn.query(explore_reviews_csv_query)\n",
        "print(result)"
      ]
    },
    {
      "cell_type": "code",
      "execution_count": 1016,
      "metadata": {
        "id": "VM2-rf8kxU5l",
        "colab": {
          "base_uri": "https://localhost:8080/"
        },
        "outputId": "648b3f30-5758-4ff1-c973-e699c2549075"
      },
      "outputs": [
        {
          "output_type": "stream",
          "name": "stdout",
          "text": [
            "[]\n"
          ]
        }
      ],
      "source": [
        "explore_reviews_csv_query = \"\"\"\n",
        "CREATE (node1:Frame {text:\"affecting\",type:\"Verb\"}),\n",
        "       (node2:Frame_Argument{text:\"unauthorized operations\",type:\"ARG0\"}),\n",
        "       (node3:Frame_Argument{text:\"users\",type:\"ARG1\"}),\n",
        "\n",
        "       (node2)-[:HAS_ARGUMENT]->(node1),\n",
        "       (node3)-[:HAS_ARGUMENT]->(node1)\n",
        "\n",
        "MERGE (description:Description {cveId:\"CVE-2023-0017\"})\n",
        "MERGE (frame:Frame {text:\"affecting\"})\n",
        "MERGE (description)-[:MAPPED_WITH]->(frame)        \n",
        "\n",
        "\"\"\"\n",
        "result = conn.query(explore_reviews_csv_query)\n",
        "print(result)"
      ]
    },
    {
      "cell_type": "code",
      "execution_count": 1017,
      "metadata": {
        "id": "cgTdPA78xV1C",
        "colab": {
          "base_uri": "https://localhost:8080/"
        },
        "outputId": "ce0eeeb7-bb33-425b-aed0-57ed3e0363b4"
      },
      "outputs": [
        {
          "output_type": "stream",
          "name": "stdout",
          "text": [
            "[]\n"
          ]
        }
      ],
      "source": [
        "explore_reviews_csv_query = \"\"\"\n",
        "CREATE (node1:Frame {text:\"could\",type:\"Verb\"}),\n",
        "       (node2:Frame_Argument{text:\"This\",type:\"ARG0\"}),\n",
        "       (node3:Frame_Argument{text:\"allow the attacker to have full read access to user data , make modifications to user data , and make services within the system unavailable\",type:\"ARG1\"}),\n",
        "\n",
        "       (node2)-[:HAS_ARGUMENT]->(node1),\n",
        "       (node3)-[:HAS_ARGUMENT]->(node1)\n",
        "\n",
        "MERGE (description:Description {cveId:\"CVE-2023-0017\"})\n",
        "MERGE (frame:Frame {text:\"could\"})\n",
        "MERGE (description)-[:MAPPED_WITH]->(frame)       \n",
        "\n",
        "\"\"\"\n",
        "result = conn.query(explore_reviews_csv_query)\n",
        "print(result)"
      ]
    },
    {
      "cell_type": "code",
      "execution_count": 1018,
      "metadata": {
        "id": "KbG6_9-RxXVD",
        "colab": {
          "base_uri": "https://localhost:8080/"
        },
        "outputId": "7fc9cd2e-90e9-4eec-ecc4-7dea9da86b9a"
      },
      "outputs": [
        {
          "output_type": "stream",
          "name": "stdout",
          "text": [
            "[]\n"
          ]
        }
      ],
      "source": [
        "explore_reviews_csv_query = \"\"\"\n",
        "CREATE (node1:Frame {text:\"allow\",type:\"Verb\"}),\n",
        "       (node2:Frame_Argument{text:\"This\",type:\"ARG0\"}),\n",
        "       (node3:Modifier_Modal{text:\"could\",type:\"ARGM-MOD\"}),\n",
        "       (node4:Frame_Argument{text:\"the attacker to have full read access to user data , make modifications to user data , and make services within the system unavailable\",type:\"ARG1\"}),\n",
        "\n",
        "       (node2)-[:HAS_ARGUMENT]->(node1),\n",
        "       (node3)-[:HAS_ARGUMENT]->(node1),\n",
        "       (node4)-[:HAS_ARGUMENT]->(node1)\n",
        "\n",
        "MERGE (description:Description {cveId:\"CVE-2023-0017\"})\n",
        "MERGE (frame:Frame {text:\"allow\"})\n",
        "MERGE (description)-[:MAPPED_WITH]->(frame)       \n",
        "\n",
        "\"\"\"\n",
        "result = conn.query(explore_reviews_csv_query)\n",
        "print(result)"
      ]
    },
    {
      "cell_type": "code",
      "execution_count": 1019,
      "metadata": {
        "id": "zs77hxE3xYfT",
        "colab": {
          "base_uri": "https://localhost:8080/"
        },
        "outputId": "21cbcdc2-8dcd-4ca7-9ca1-dd3ee83e49ca"
      },
      "outputs": [
        {
          "output_type": "stream",
          "name": "stdout",
          "text": [
            "[]\n"
          ]
        }
      ],
      "source": [
        "explore_reviews_csv_query = \"\"\"\n",
        "CREATE (node1:Frame {text:\"have\",type:\"Verb\"}),\n",
        "       (node2:Frame_Argument{text:\"the attacker\",type:\"ARG0\"}),\n",
        "       (node3:Frame_Argument{text:\"full read access to user data\",type:\"ARG1\"}),\n",
        "\n",
        "       (node2)-[:HAS_ARGUMENT]->(node1),\n",
        "       (node3)-[:HAS_ARGUMENT]->(node1)\n",
        "\n",
        "MERGE (description:Description {cveId:\"CVE-2023-0017\"})\n",
        "MERGE (frame:Frame {text:\"have\"})\n",
        "MERGE (description)-[:MAPPED_WITH]->(frame)       \n",
        "\n",
        "\"\"\"\n",
        "result = conn.query(explore_reviews_csv_query)\n",
        "print(result)"
      ]
    },
    {
      "cell_type": "code",
      "execution_count": 1020,
      "metadata": {
        "id": "5kEWiXXFxcGW",
        "colab": {
          "base_uri": "https://localhost:8080/"
        },
        "outputId": "8ba2cd06-7b38-4042-bae4-b4f2b4323eff"
      },
      "outputs": [
        {
          "output_type": "stream",
          "name": "stdout",
          "text": [
            "[]\n"
          ]
        }
      ],
      "source": [
        "explore_reviews_csv_query = \"\"\"\n",
        "CREATE (node1:Frame {text:\"user\",type:\"Verb\"}),\n",
        "       (node2:Frame_Argument{text:\"full read\",type:\"ARG0\"}),\n",
        "       (node3:Frame_Argument{text:\"data\",type:\"ARG1\"}),\n",
        "\n",
        "       (node2)-[:HAS_ARGUMENT]->(node1),\n",
        "       (node3)-[:HAS_ARGUMENT]->(node1)\n",
        "\n",
        "MERGE (description:Description {cveId:\"CVE-2023-0017\"})\n",
        "MERGE (frame:Frame {text:\"user\"})\n",
        "MERGE (description)-[:MAPPED_WITH]->(frame)       \n",
        "\n",
        "\"\"\"\n",
        "result = conn.query(explore_reviews_csv_query)\n",
        "print(result)"
      ]
    },
    {
      "cell_type": "code",
      "execution_count": 1021,
      "metadata": {
        "id": "FO0iycOExdEo",
        "colab": {
          "base_uri": "https://localhost:8080/"
        },
        "outputId": "ff1543ae-5920-4749-fcf3-ed3e3c9553fa"
      },
      "outputs": [
        {
          "output_type": "stream",
          "name": "stdout",
          "text": [
            "[]\n"
          ]
        }
      ],
      "source": [
        "explore_reviews_csv_query = \"\"\"\n",
        "CREATE (node1:Frame {text:\"make\",type:\"Verb\"}),\n",
        "       (node2:Frame_Argument{text:\"the attacker\",type:\"ARG0\"}),\n",
        "       (node3:Frame_Argument{text:\"modifications to user data , and make\",type:\"ARG1\"}),\n",
        "\n",
        "       (node2)-[:HAS_ARGUMENT]->(node1),\n",
        "       (node3)-[:HAS_ARGUMENT]->(node1)\n",
        "\n",
        "MERGE (description:Description {cveId:\"CVE-2023-0017\"})\n",
        "MERGE (frame:Frame {text:\"make\"})\n",
        "MERGE (description)-[:MAPPED_WITH]->(frame)       \n",
        "\n",
        "\"\"\"\n",
        "result = conn.query(explore_reviews_csv_query)\n",
        "print(result)"
      ]
    },
    {
      "cell_type": "code",
      "execution_count": 1022,
      "metadata": {
        "id": "7-pb9hw2xd9Y",
        "colab": {
          "base_uri": "https://localhost:8080/"
        },
        "outputId": "b19407dc-b48a-45f8-a182-39778117553c"
      },
      "outputs": [
        {
          "output_type": "stream",
          "name": "stdout",
          "text": [
            "[]\n"
          ]
        }
      ],
      "source": [
        "explore_reviews_csv_query = \"\"\"\n",
        "CREATE (node1:Frame {text:\"make\",type:\"Verb\"}),\n",
        "       (node2:Frame_Argument{text:\"the attacker\",type:\"ARG0\"}),\n",
        "       (node3:Frame_Argument{text:\"services within the system\",type:\"ARG1\"}),\n",
        "       (node4:Modifier_Manner{text:\"unavailable\",type:\"ARGM-MNR\"}),\n",
        "\n",
        "       (node2)-[:HAS_ARGUMENT]->(node1),\n",
        "       (node3)-[:HAS_ARGUMENT]->(node1),\n",
        "       (node4)-[:HAS_ARGUMENT]->(node1)\n",
        "\n",
        "MERGE (description:Description {cveId:\"CVE-2023-0017\"})\n",
        "MERGE (frame:Frame {text:\"make\"})\n",
        "MERGE (description)-[:MAPPED_WITH]->(frame)       \n",
        "\n",
        "\"\"\"\n",
        "result = conn.query(explore_reviews_csv_query)\n",
        "print(result)"
      ]
    },
    {
      "cell_type": "code",
      "execution_count": 1023,
      "metadata": {
        "id": "-PIZObvms17S",
        "colab": {
          "base_uri": "https://localhost:8080/"
        },
        "outputId": "1f46bc0e-0003-4d43-fd3b-46a373dd4e2d"
      },
      "outputs": [
        {
          "output_type": "stream",
          "name": "stdout",
          "text": [
            "[]\n"
          ]
        }
      ],
      "source": [
        "explore_reviews_csv_query = \"\"\"\n",
        "CREATE (node1:Frame {text:\"controlled\",type:\"Verb\"}),\n",
        "       (node2:Frame_Argument{text:\"user\",type:\"ARG0\"}),\n",
        "       (node3:Frame_Argument{text:\"input\",type:\"ARG1\"}),\n",
        "\n",
        "       (node2)-[:HAS_ARGUMENT]->(node1),\n",
        "       (node3)-[:HAS_ARGUMENT]->(node1)\n",
        "\n",
        "MERGE (description:Description {cveId:\"CVE-2023-0018\"})\n",
        "MERGE (frame:Frame {text:\"controlled\"})\n",
        "MERGE (description)-[:MAPPED_WITH]->(frame)       \n",
        "\n",
        "\"\"\"\n",
        "result = conn.query(explore_reviews_csv_query)\n",
        "print(result)"
      ]
    },
    {
      "cell_type": "code",
      "execution_count": 1024,
      "metadata": {
        "id": "e7w70wyaxe-Q",
        "colab": {
          "base_uri": "https://localhost:8080/"
        },
        "outputId": "da10b2c9-c5f8-496f-9966-3e8bd0830f8f"
      },
      "outputs": [
        {
          "output_type": "stream",
          "name": "stdout",
          "text": [
            "[]\n"
          ]
        }
      ],
      "source": [
        "explore_reviews_csv_query = \"\"\"\n",
        "CREATE (node1:Frame {text:\"modify\",type:\"Verb\"}),\n",
        "       (node2:Modifier_Cause{text:\"Due to improper input sanitization of user - controlled input in SAP BusinessObjects Business Intelligence\",type:\"ARGM-CAU\"}),\n",
        "       (node3:Frame_Argument{text:\"an attacker with basic user - level privileges\",type:\"ARG0\"}),\n",
        "       (node4:Modifier_Modal{text:\"can\",type:\"ARGM-MOD\"}),\n",
        "       (node5:Frame_Argument{text:\"reports containing a malicious payload\",type:\"ARG1\"}),\n",
        "\n",
        "       (node2)-[:HAS_ARGUMENT]->(node1),\n",
        "       (node3)-[:HAS_ARGUMENT]->(node1),\n",
        "       (node4)-[:HAS_ARGUMENT]->(node1),\n",
        "       (node5)-[:HAS_ARGUMENT]->(node1)\n",
        "       \n",
        "MERGE (description:Description {cveId:\"CVE-2023-0018\"})\n",
        "MERGE (frame:Frame {text:\"modify\"})\n",
        "MERGE (description)-[:MAPPED_WITH]->(frame)       \n",
        "\n",
        "\"\"\"\n",
        "result = conn.query(explore_reviews_csv_query)\n",
        "print(result)"
      ]
    },
    {
      "cell_type": "code",
      "execution_count": 1025,
      "metadata": {
        "id": "wf7i4Wsvxf9s",
        "colab": {
          "base_uri": "https://localhost:8080/"
        },
        "outputId": "51b480f7-e486-42c5-9915-1fa04b9cc5eb"
      },
      "outputs": [
        {
          "output_type": "stream",
          "name": "stdout",
          "text": [
            "[]\n"
          ]
        }
      ],
      "source": [
        "explore_reviews_csv_query = \"\"\"\n",
        "CREATE (node1:Frame {text:\"containing\",type:\"Verb\"}),\n",
        "       (node2:Frame_Argument{text:\"reports\",type:\"ARG0\"}),\n",
        "       (node3:Frame_Argument{text:\"a malicious payload\",type:\"ARG1\"}),\n",
        "       \n",
        "       (node2)-[:HAS_ARGUMENT]->(node1),\n",
        "       (node3)-[:HAS_ARGUMENT]->(node1)\n",
        "      \n",
        "MERGE (description:Description {cveId:\"CVE-2023-0018\"})\n",
        "MERGE (frame:Frame {text:\"containing\"})\n",
        "MERGE (description)-[:MAPPED_WITH]->(frame)        \n",
        "\n",
        "\"\"\"\n",
        "result = conn.query(explore_reviews_csv_query)\n",
        "print(result)"
      ]
    },
    {
      "cell_type": "code",
      "execution_count": 1026,
      "metadata": {
        "id": "GWCDz-hJxg9y",
        "colab": {
          "base_uri": "https://localhost:8080/"
        },
        "outputId": "55a57485-e21e-4aeb-a5d0-1dcf275661fb"
      },
      "outputs": [
        {
          "output_type": "stream",
          "name": "stdout",
          "text": [
            "[]\n"
          ]
        }
      ],
      "source": [
        "explore_reviews_csv_query = \"\"\"\n",
        "CREATE (node1:Frame {text:\"are\",type:\"Verb\"}),\n",
        "       (node2:Frame_Argument{text:\"these reports\",type:\"ARG1\"}),\n",
        "       (node3:Frame_Argument{text:\"viewable\",type:\"ARG2\"}),\n",
        "\n",
        "       (node2)-[:HAS_ARGUMENT]->(node1),\n",
        "       (node3)-[:HAS_ARGUMENT]->(node1)\n",
        "\n",
        "MERGE (description:Description {cveId:\"CVE-2023-0018\"})\n",
        "MERGE (frame:Frame {text:\"are\"})\n",
        "MERGE (description)-[:MAPPED_WITH]->(frame)       \n",
        "\n",
        "\"\"\"\n",
        "result = conn.query(explore_reviews_csv_query)\n",
        "print(result)"
      ]
    },
    {
      "cell_type": "code",
      "execution_count": 1027,
      "metadata": {
        "id": "RViaMR2Sxh6U",
        "colab": {
          "base_uri": "https://localhost:8080/"
        },
        "outputId": "9beb1ab6-45df-4775-9a5f-ec585f6f40bf"
      },
      "outputs": [
        {
          "output_type": "stream",
          "name": "stdout",
          "text": [
            "[]\n"
          ]
        }
      ],
      "source": [
        "explore_reviews_csv_query = \"\"\"\n",
        "CREATE (node1:Frame {text:\"opens\",type:\"Verb\"}),\n",
        "       (node2:Frame_Argument{text:\"anyone\",type:\"ARG0\"}),\n",
        "       (node3:Reference{text:\"who\",type:\"R-ARG0\"}),\n",
        "       (node4:Frame_Argument{text:\"those reports\",type:\"ARG1\"}),\n",
        "\n",
        "       (node2)-[:HAS_ARGUMENT]->(node1),\n",
        "       (node3)-[:HAS_ARGUMENT]->(node1),\n",
        "       (node4)-[:HAS_ARGUMENT]->(node1)\n",
        "\n",
        "MERGE (description:Description {cveId:\"CVE-2023-0018\"})\n",
        "MERGE (frame:Frame {text:\"opens\"})\n",
        "MERGE (description)-[:MAPPED_WITH]->(frame)       \n",
        "\n",
        "\"\"\"\n",
        "result = conn.query(explore_reviews_csv_query)\n",
        "print(result)"
      ]
    },
    {
      "cell_type": "code",
      "execution_count": 1028,
      "metadata": {
        "id": "tJx83bcgxi98",
        "colab": {
          "base_uri": "https://localhost:8080/"
        },
        "outputId": "3b691101-d0c6-4397-a85d-c22b1adf1d1a"
      },
      "outputs": [
        {
          "output_type": "stream",
          "name": "stdout",
          "text": [
            "[]\n"
          ]
        }
      ],
      "source": [
        "explore_reviews_csv_query = \"\"\"\n",
        "CREATE (node1:Frame {text:\"be\",type:\"Verb\"}),\n",
        "       (node2:Frame_Argument{text:\"anyone who opens those reports\",type:\"ARG1\"}),\n",
        "       (node3:Modifier_Modal{text:\"would\",type:\"ARGM-MOD\"}),\n",
        "       (node4:Frame_Argument{text:\"susceptible to stored XSS attacks\",type:\"ARG2\"}),\n",
        "       (node5:Modifier_Cause{text:\"As\",type:\"ARGM-CAU\"}),\n",
        "\n",
        "       (node2)-[:HAS_ARGUMENT]->(node1),\n",
        "       (node3)-[:HAS_ARGUMENT]->(node1),\n",
        "       (node4)-[:HAS_ARGUMENT]->(node1),\n",
        "       (node5)-[:HAS_ARGUMENT]->(node1)\n",
        "\n",
        "MERGE (description:Description {cveId:\"CVE-2023-0018\"})\n",
        "MERGE (frame:Frame {text:\"be\"})\n",
        "MERGE (description)-[:MAPPED_WITH]->(frame)        \n",
        "\n",
        "\"\"\"\n",
        "result = conn.query(explore_reviews_csv_query)\n",
        "print(result)"
      ]
    },
    {
      "cell_type": "code",
      "execution_count": 1029,
      "metadata": {
        "id": "sbFiOw_Axj_F",
        "colab": {
          "base_uri": "https://localhost:8080/"
        },
        "outputId": "a590feca-7c13-41bb-a696-97bb6e5e2edc"
      },
      "outputs": [
        {
          "output_type": "stream",
          "name": "stdout",
          "text": [
            "[]\n"
          ]
        }
      ],
      "source": [
        "explore_reviews_csv_query = \"\"\"\n",
        "CREATE (node1:Frame {text:\"maintained\",type:\"Verb\"}),\n",
        "       (node2:Frame_Argument{text:\"information\",type:\"ARG1\"}),\n",
        "       (node3:Modifier_Location{text:\"in the victim 's web browser\",type:\"ARGM-LOC\"}),\n",
        "\n",
        "       (node2)-[:HAS_ARGUMENT]->(node1),\n",
        "       (node3)-[:HAS_ARGUMENT]->(node1)\n",
        "\n",
        "MERGE (description:Description {cveId:\"CVE-2023-0018\"})\n",
        "MERGE (frame:Frame {text:\"maintained\"})\n",
        "MERGE (description)-[:MAPPED_WITH]->(frame)       \n",
        "\n",
        "\"\"\"\n",
        "result = conn.query(explore_reviews_csv_query)\n",
        "print(result)"
      ]
    },
    {
      "cell_type": "code",
      "execution_count": 1030,
      "metadata": {
        "id": "7De5Gg1pxk2U",
        "colab": {
          "base_uri": "https://localhost:8080/"
        },
        "outputId": "79f2a6a6-fcac-4adb-e189-8ddbcab16fe5"
      },
      "outputs": [
        {
          "output_type": "stream",
          "name": "stdout",
          "text": [
            "[]\n"
          ]
        }
      ],
      "source": [
        "explore_reviews_csv_query = \"\"\"\n",
        "CREATE (node1:Frame {text:\"read\",type:\"Verb\"}),\n",
        "       (node2:Modifier_Cause{text:\"As a result of the attack\",type:\"ARGM-CAU\"}),\n",
        "       (node3:Frame_Argument{text:\"information maintained in the victim 's web browser\",type:\"ARG1\"}),\n",
        "       (node4:Modifier_Modal{text:\"can\",type:\"ARGM-MOD\"}),\n",
        "\n",
        "       (node2)-[:HAS_ARGUMENT]->(node1),\n",
        "       (node3)-[:HAS_ARGUMENT]->(node1),\n",
        "       (node4)-[:HAS_ARGUMENT]->(node1)\n",
        "\n",
        "MERGE (description:Description {cveId:\"CVE-2023-0018\"})\n",
        "MERGE (frame:Frame {text:\"read\"})\n",
        "MERGE (description)-[:MAPPED_WITH]->(frame)       \n",
        "\n",
        "\"\"\"\n",
        "result = conn.query(explore_reviews_csv_query)\n",
        "print(result)"
      ]
    },
    {
      "cell_type": "code",
      "execution_count": 1031,
      "metadata": {
        "id": "JlhqWV8pxl1E",
        "colab": {
          "base_uri": "https://localhost:8080/"
        },
        "outputId": "85bd2459-0536-4fff-9dca-bbc79c2439e4"
      },
      "outputs": [
        {
          "output_type": "stream",
          "name": "stdout",
          "text": [
            "[]\n"
          ]
        }
      ],
      "source": [
        "explore_reviews_csv_query = \"\"\"\n",
        "CREATE (node1:Frame {text:\"modified\",type:\"Verb\"}),\n",
        "       (node2:Frame_Argument{text:\"information maintained in the victim 's web browser\",type:\"ARG1\"}),\n",
        "       (node3:Modifier_Modal{text:\"can\",type:\"ARGM-MOD\"}),\n",
        "\n",
        "       (node2)-[:HAS_ARGUMENT]->(node1),\n",
        "       (node3)-[:HAS_ARGUMENT]->(node1)\n",
        "\n",
        "MERGE (description:Description {cveId:\"CVE-2023-0018\"})\n",
        "MERGE (frame:Frame {text:\"modified\"})\n",
        "MERGE (description)-[:MAPPED_WITH]->(frame)       \n",
        "\n",
        "\"\"\"\n",
        "result = conn.query(explore_reviews_csv_query)\n",
        "print(result)"
      ]
    },
    {
      "cell_type": "code",
      "execution_count": 1032,
      "metadata": {
        "id": "UzxmXlMuxmzu",
        "colab": {
          "base_uri": "https://localhost:8080/"
        },
        "outputId": "62b2b407-5520-4136-bc12-70011884e43c"
      },
      "outputs": [
        {
          "output_type": "stream",
          "name": "stdout",
          "text": [
            "[]\n"
          ]
        }
      ],
      "source": [
        "explore_reviews_csv_query = \"\"\"\n",
        "CREATE (node1:Frame {text:\"sent\",type:\"Verb\"}),\n",
        "       (node2:Frame_Argument{text:\"information maintained in the victim 's web browser\",type:\"ARG1\"}),\n",
        "       (node3:Modifier_Modal{text:\"can\",type:\"ARGM-MOD\"}),\n",
        "       (node4:Frame_Argument{text:\"to the attacker\",type:\"ARG2\"}),\n",
        "\n",
        "       (node2)-[:HAS_ARGUMENT]->(node1),\n",
        "       (node3)-[:HAS_ARGUMENT]->(node1),\n",
        "       (node4)-[:HAS_ARGUMENT]->(node1)\n",
        "\n",
        "MERGE (description:Description {cveId:\"CVE-2023-0018\"})\n",
        "MERGE (frame:Frame {text:\"sent\"})\n",
        "MERGE (description)-[:MAPPED_WITH]->(frame)       \n",
        "\n",
        "\"\"\"\n",
        "result = conn.query(explore_reviews_csv_query)\n",
        "print(result)"
      ]
    },
    {
      "cell_type": "code",
      "execution_count": 1033,
      "metadata": {
        "id": "QnGTfdgFxn2o",
        "colab": {
          "base_uri": "https://localhost:8080/"
        },
        "outputId": "089ff6e5-9c7c-4a58-f222-ca4ae55cb6c2"
      },
      "outputs": [
        {
          "output_type": "stream",
          "name": "stdout",
          "text": [
            "[]\n"
          ]
        }
      ],
      "source": [
        "explore_reviews_csv_query = \"\"\"\n",
        "CREATE (node1:Frame {text:\"allows\",type:\"Verb\"}),\n",
        "       (node2:Frame_Argument{text:\"SAP BusinessObjects Business Intelligence Analysis edition for OLAP\",type:\"ARG0\"}),\n",
        "       (node3:Frame_Argument{text:\"an authenticated attacker to inject malicious code that can be executed by the application over the network . On successful exploitation , an attacker can perform operations that may completely compromise the application causing a high impact on the confidentiality , integrity , and availability of the application\",type:\"ARG1\"}),\n",
        "       (node4:Frame_Argument{type:\"ARG0\",Head:\"authenticated\",offsetStart:3,offsetEnd:16,confidence_score:0.3605,wikipediaExternalRef:47967,wikidataId:\"Q212108\",domains:\"Economy,Electronics,Engineering\"}),\n",
        "       (node5:Frame_Argument{type:\"ARG1\",Head:\"malicious code\",offsetStart:36,offsetEnd:50,confidence_score:0.4342,wikipediaExternalRef:20901,wikidataId:\"Q14001\",domains:\"Computer_Science\"}),\n",
        "\n",
        "       (node2)-[:HAS_ARGUMENT]->(node1),\n",
        "       (node3)-[:HAS_ARGUMENT]->(node1),\n",
        "       (node4)-[:HAS_ARGUMENT]->(node1),\n",
        "       (node5)-[:HAS_ARGUMENT]->(node1)\n",
        "\n",
        "MERGE (description:Description {cveId:\"CVE-2023-0022\"})\n",
        "MERGE (frame:Frame {text:\"allows\"})\n",
        "MERGE (description)-[:MAPPED_WITH]->(frame)       \n",
        "\n",
        "\"\"\"\n",
        "result = conn.query(explore_reviews_csv_query)\n",
        "print(result)"
      ]
    },
    {
      "cell_type": "code",
      "execution_count": 1034,
      "metadata": {
        "id": "7WnIajMJxoz6",
        "colab": {
          "base_uri": "https://localhost:8080/"
        },
        "outputId": "48dcad8b-841c-4f1d-b9d2-1e70f6b8ded4"
      },
      "outputs": [
        {
          "output_type": "stream",
          "name": "stdout",
          "text": [
            "[]\n"
          ]
        }
      ],
      "source": [
        "explore_reviews_csv_query = \"\"\"\n",
        "CREATE (node1:Frame {text:\"inject\",type:\"Verb\"}),\n",
        "       (node2:Frame_Argument{text:\"an authenticated attacker\",type:\"ARG0\"}),\n",
        "       (node3:Frame_Argument{text:\"malicious code that can be executed by the application over the network . On successful exploitation\",type:\"ARG1\"}),\n",
        "       (node4:Frame_Argument{type:\"ARG1\",Head:\"malicious code\",offsetStart:0,offsetEnd:14,confidence_score:0.4342,wikipediaExternalRef:20901,wikidataId:\"Q14001\",domains:\"Computer_Science\"}),\n",
        "\n",
        "       (node2)-[:HAS_ARGUMENT]->(node1),\n",
        "       (node3)-[:HAS_ARGUMENT]->(node1),\n",
        "       (node4)-[:HAS_ARGUMENT]->(node1)\n",
        "\n",
        "MERGE (description:Description {cveId:\"CVE-2023-0022\"})\n",
        "MERGE (frame:Frame {text:\"inject\"})\n",
        "MERGE (description)-[:MAPPED_WITH]->(frame)       \n",
        "\n",
        "\"\"\"\n",
        "result = conn.query(explore_reviews_csv_query)\n",
        "print(result)"
      ]
    },
    {
      "cell_type": "code",
      "execution_count": 1035,
      "metadata": {
        "id": "aW0UU04GxqD4",
        "colab": {
          "base_uri": "https://localhost:8080/"
        },
        "outputId": "f8100061-977c-4a80-9129-6f816bad581b"
      },
      "outputs": [
        {
          "output_type": "stream",
          "name": "stdout",
          "text": [
            "[]\n"
          ]
        }
      ],
      "source": [
        "explore_reviews_csv_query = \"\"\"\n",
        "CREATE (node1:Frame {text:\"executed\",type:\"Verb\"}),\n",
        "       (node2:Frame_Argument{text:\"malicious code\",type:\"ARG1\"}),\n",
        "       (node3:Reference{text:\"that\",type:\"R-ARG1\"}),\n",
        "       (node4:Modifier_Modal{text:\"can\",type:\"ARGM-MOD\"}),\n",
        "       (node5:Frame_Argument{text:\"by the application over the network\",type:\"ARG0\"}),\n",
        "      \n",
        "       (node2)-[:HAS_ARGUMENT]->(node1),\n",
        "       (node3)-[:HAS_ARGUMENT]->(node1),\n",
        "       (node4)-[:HAS_ARGUMENT]->(node1),\n",
        "       (node5)-[:HAS_ARGUMENT]->(node1)\n",
        "\n",
        "MERGE (description:Description {cveId:\"CVE-2023-0022\"})\n",
        "MERGE (frame:Frame {text:\"executed\"})\n",
        "MERGE (description)-[:MAPPED_WITH]->(frame)        \n",
        "\n",
        "\"\"\"\n",
        "result = conn.query(explore_reviews_csv_query)\n",
        "print(result)"
      ]
    },
    {
      "cell_type": "code",
      "execution_count": 1036,
      "metadata": {
        "id": "4IOCQyZasv4A",
        "colab": {
          "base_uri": "https://localhost:8080/"
        },
        "outputId": "40481299-5c2f-40d0-9dff-f14f71b8cf27"
      },
      "outputs": [
        {
          "output_type": "stream",
          "name": "stdout",
          "text": [
            "[]\n"
          ]
        }
      ],
      "source": [
        "explore_reviews_csv_query = \"\"\"\n",
        "CREATE (node1:Frame {text:\"perform\",type:\"Verb\"}),\n",
        "       (node2:Frame_Argument{text:\"an attacker\",type:\"ARG0\"}),\n",
        "       (node3:Modifier_Modal{text:\"can\",type:\"ARGM-MOD\"}),\n",
        "       (node4:Frame_Argument{text:\"operations\",type:\"ARG1\"}),\n",
        "\n",
        "       (node2)-[:HAS_ARGUMENT]->(node1),\n",
        "       (node3)-[:HAS_ARGUMENT]->(node1),\n",
        "       (node4)-[:HAS_ARGUMENT]->(node1)\n",
        "\n",
        "MERGE (description:Description {cveId:\"CVE-2023-0022\"})\n",
        "MERGE (frame:Frame {text:\"perform\"})\n",
        "MERGE (description)-[:MAPPED_WITH]->(frame)       \n",
        "\n",
        "\"\"\"\n",
        "result = conn.query(explore_reviews_csv_query)\n",
        "print(result)"
      ]
    },
    {
      "cell_type": "code",
      "execution_count": 1037,
      "metadata": {
        "id": "SS6uGNJ0sw7w",
        "colab": {
          "base_uri": "https://localhost:8080/"
        },
        "outputId": "430d7930-cb1d-401c-9992-7f62367fb8e5"
      },
      "outputs": [
        {
          "output_type": "stream",
          "name": "stdout",
          "text": [
            "[]\n"
          ]
        }
      ],
      "source": [
        "explore_reviews_csv_query = \"\"\"\n",
        "CREATE (node1:Frame {text:\"compromise\",type:\"Verb\"}),\n",
        "       (node2:Frame_Argument{text:\"operations\",type:\"ARG0\"}),\n",
        "       (node3:Reference{text:\"that\",type:\"R-ARG0\"}),\n",
        "       (node4:Modifier_Modal{text:\"may\",type:\"ARGM-MOD\"}),\n",
        "       (node5:Modifier_Extent{text:\"completely\",type:\"ARGM-EXT\"}),\n",
        "       (node6:Frame_Argument{text:\"the application causing a high impact on the confidentiality , integrity , and availability of the application\",type:\"ARG1\"}),\n",
        "\n",
        "       (node2)-[:HAS_ARGUMENT]->(node1),\n",
        "       (node3)-[:HAS_ARGUMENT]->(node1),\n",
        "       (node4)-[:HAS_ARGUMENT]->(node1),\n",
        "       (node5)-[:HAS_ARGUMENT]->(node1),\n",
        "       (node6)-[:HAS_ARGUMENT]->(node1)\n",
        "\n",
        "MERGE (description:Description {cveId:\"CVE-2023-0022\"})\n",
        "MERGE (frame:Frame {text:\"compromise\"})\n",
        "MERGE (description)-[:MAPPED_WITH]->(frame)       \n",
        "\n",
        "\"\"\"\n",
        "result = conn.query(explore_reviews_csv_query)\n",
        "print(result)"
      ]
    },
    {
      "cell_type": "code",
      "execution_count": 1038,
      "metadata": {
        "id": "zK1Myi-WsyFA",
        "colab": {
          "base_uri": "https://localhost:8080/"
        },
        "outputId": "30474d26-3b0f-4aed-d866-d3496d56d6ac"
      },
      "outputs": [
        {
          "output_type": "stream",
          "name": "stdout",
          "text": [
            "[]\n"
          ]
        }
      ],
      "source": [
        "explore_reviews_csv_query = \"\"\"\n",
        "CREATE (node1:Frame {text:\"causing\",type:\"Verb\"}),\n",
        "       (node2:Frame_Argument{text:\"the application\",type:\"ARG0\"}),\n",
        "       (node3:Frame_Argument{text:\"a high impact on the confidentiality , integrity , and availability of the application\",type:\"ARG1\"}),\n",
        "\n",
        "       (node2)-[:HAS_ARGUMENT]->(node1),\n",
        "       (node3)-[:HAS_ARGUMENT]->(node1)\n",
        "\n",
        "MERGE (description:Description {cveId:\"CVE-2023-0022\"})\n",
        "MERGE (frame:Frame {text:\"causing\"})\n",
        "MERGE (description)-[:MAPPED_WITH]->(frame)       \n",
        "\n",
        "\"\"\"\n",
        "result = conn.query(explore_reviews_csv_query)\n",
        "print(result)"
      ]
    },
    {
      "cell_type": "code",
      "execution_count": 1039,
      "metadata": {
        "id": "500QHLa2szCF",
        "colab": {
          "base_uri": "https://localhost:8080/"
        },
        "outputId": "f21d255b-fb31-4843-cf89-7c91f67e00ab"
      },
      "outputs": [
        {
          "output_type": "stream",
          "name": "stdout",
          "text": [
            "[]\n"
          ]
        }
      ],
      "source": [
        "explore_reviews_csv_query = \"\"\"\n",
        "CREATE (node1:Frame {text:\"clicks\",type:\"Verb\"}),\n",
        "       (node2:Modifier_Temporal{text:\"when\",type:\"ARGM-TMP\"}),\n",
        "       (node3:Frame_Argument{text:\"a user\",type:\"ARG0\"}),\n",
        "       (node4:Frame_Argument{text:\"a smart link to navigate to another app\",type:\"ARG1\"}),\n",
        "\n",
        "       (node2)-[:HAS_ARGUMENT]->(node1),\n",
        "       (node3)-[:HAS_ARGUMENT]->(node1),\n",
        "       (node4)-[:HAS_ARGUMENT]->(node1)\n",
        "\n",
        "MERGE (description:Description {cveId:\"CVE-2023-0023\"})\n",
        "MERGE (frame:Frame {text:\"clicks\"})\n",
        "MERGE (description)-[:MAPPED_WITH]->(frame)       \n",
        "\n",
        "\"\"\"\n",
        "result = conn.query(explore_reviews_csv_query)\n",
        "print(result)"
      ]
    },
    {
      "cell_type": "code",
      "execution_count": 1040,
      "metadata": {
        "id": "KdONSAoVsz9P",
        "colab": {
          "base_uri": "https://localhost:8080/"
        },
        "outputId": "9554a25c-61d3-417f-ceee-693a64260fc2"
      },
      "outputs": [
        {
          "output_type": "stream",
          "name": "stdout",
          "text": [
            "[]\n"
          ]
        }
      ],
      "source": [
        "explore_reviews_csv_query = \"\"\"\n",
        "CREATE (node1:Frame {text:\"navigate\",type:\"Verb\"}),\n",
        "       (node2:Frame_Argument{text:\"a user\",type:\"ARG0\"}),\n",
        "       (node3:Frame_Argument{text:\"to another app\",type:\"ARG1\"}),\n",
        "\n",
        "       (node2)-[:HAS_ARGUMENT]->(node1),\n",
        "       (node3)-[:HAS_ARGUMENT]->(node1)\n",
        "\n",
        "MERGE (description:Description {cveId:\"CVE-2023-0023\"})\n",
        "MERGE (frame:Frame {text:\"navigate\"})\n",
        "MERGE (description)-[:MAPPED_WITH]->(frame)       \n",
        "\n",
        "\"\"\"\n",
        "result = conn.query(explore_reviews_csv_query)\n",
        "print(result)"
      ]
    },
    {
      "cell_type": "code",
      "execution_count": 1041,
      "metadata": {
        "id": "3vsStx39s05p",
        "colab": {
          "base_uri": "https://localhost:8080/"
        },
        "outputId": "71322b66-b9fe-4047-ce5b-ed498207135e"
      },
      "outputs": [
        {
          "output_type": "stream",
          "name": "stdout",
          "text": [
            "[]\n"
          ]
        }
      ],
      "source": [
        "explore_reviews_csv_query = \"\"\"\n",
        "CREATE (node1:Frame {text:\"shown\",type:\"Verb\"}),\n",
        "       (node2:Modifier_Location{text:\"In SAP Bank Account Management ( Manage Banks ) application\",type:\"ARGM-LOC\"}),\n",
        "       (node3:Modifier_Temporal{text:\"when a user clicks a smart link to navigate to another app\",type:\"ARGM-TMP\"}),\n",
        "       (node4:Frame_Argument{text:\"personal data\",type:\"ARG1\"}),\n",
        "       (node5:Modifier_Manner{text:\"directly\",type:\"ARGM-MNR\"}),\n",
        "       (node6:Modifier_Location{text:\"in the URL\",type:\"ARGM-LOC\"}),\n",
        "\n",
        "       (node2)-[:HAS_ARGUMENT]->(node1),\n",
        "       (node3)-[:HAS_ARGUMENT]->(node1),\n",
        "       (node4)-[:HAS_ARGUMENT]->(node1), \n",
        "       (node5)-[:HAS_ARGUMENT]->(node1),\n",
        "       (node6)-[:HAS_ARGUMENT]->(node1)\n",
        "\n",
        "MERGE (description:Description {cveId:\"CVE-2023-0023\"})\n",
        "MERGE (frame:Frame {text:\"shown\"})\n",
        "MERGE (description)-[:MAPPED_WITH]->(frame)        \n",
        "\n",
        "\"\"\"\n",
        "result = conn.query(explore_reviews_csv_query)\n",
        "print(result)"
      ]
    },
    {
      "cell_type": "code",
      "execution_count": 1042,
      "metadata": {
        "id": "poOinGq9s3fz",
        "colab": {
          "base_uri": "https://localhost:8080/"
        },
        "outputId": "0db584c6-497e-426d-9839-9cf50672c9a7"
      },
      "outputs": [
        {
          "output_type": "stream",
          "name": "stdout",
          "text": [
            "[]\n"
          ]
        }
      ],
      "source": [
        "explore_reviews_csv_query = \"\"\"\n",
        "CREATE (node1:Frame {text:\"get\",type:\"Verb\"}),\n",
        "       (node2:Frame_Argument{text:\"They\",type:\"ARG1\"}),\n",
        "       (node3:Modifier_Modal{text:\"might\",type:\"ARGM-MOD\"}),\n",
        "       (node4:Frame_Argument{text:\"captured in log files , bookmarks , and so on disclosing sensitive data of the application\",type:\"ARG2\"}),\n",
        "\n",
        "       (node2)-[:HAS_ARGUMENT]->(node1),\n",
        "       (node3)-[:HAS_ARGUMENT]->(node1),\n",
        "       (node4)-[:HAS_ARGUMENT]->(node1)\n",
        "\n",
        "MERGE (description:Description {cveId:\"CVE-2023-0023\"})\n",
        "MERGE (frame:Frame {text:\"get\"})\n",
        "MERGE (description)-[:MAPPED_WITH]->(frame)       \n",
        "\n",
        "\"\"\"\n",
        "result = conn.query(explore_reviews_csv_query)\n",
        "print(result)"
      ]
    },
    {
      "cell_type": "code",
      "execution_count": 1043,
      "metadata": {
        "id": "fcSYYWXvrIjN",
        "colab": {
          "base_uri": "https://localhost:8080/"
        },
        "outputId": "aaff0500-9c03-4295-efb0-8394d3aba92d"
      },
      "outputs": [
        {
          "output_type": "stream",
          "name": "stdout",
          "text": [
            "[]\n"
          ]
        }
      ],
      "source": [
        "explore_reviews_csv_query = \"\"\"\n",
        "CREATE (node1:Frame {text:\"captured\",type:\"Verb\"}),\n",
        "       (node2:Frame_Argument{text:\"They\",type:\"ARG1\"}),\n",
        "       (node3:Modifier_Modal{text:\"might\",type:\"ARGM-MOD\"}),\n",
        "       (node4:Modifier_Location{text:\"in log files , bookmarks\",type:\"ARGM-LOC\"}),\n",
        "\n",
        "       (node2)-[:HAS_ARGUMENT]->(node1),\n",
        "       (node3)-[:HAS_ARGUMENT]->(node1),\n",
        "       (node4)-[:HAS_ARGUMENT]->(node1)\n",
        "\n",
        "MERGE (description:Description {cveId:\"CVE-2023-0023\"})\n",
        "MERGE (frame:Frame {text:\"captured\"})\n",
        "MERGE (description)-[:MAPPED_WITH]->(frame)       \n",
        "\n",
        "\"\"\"\n",
        "result = conn.query(explore_reviews_csv_query)\n",
        "print(result)"
      ]
    },
    {
      "cell_type": "code",
      "execution_count": 1044,
      "metadata": {
        "id": "z0lmbOAvrJhw",
        "colab": {
          "base_uri": "https://localhost:8080/"
        },
        "outputId": "4932988c-7f57-46c8-c85b-9f26b541c7c0"
      },
      "outputs": [
        {
          "output_type": "stream",
          "name": "stdout",
          "text": [
            "[]\n"
          ]
        }
      ],
      "source": [
        "explore_reviews_csv_query = \"\"\"\n",
        "CREATE (node1:Frame {text:\"Stored\",type:\"Verb\"}),\n",
        "       (node2:Frame_Argument{text:\")\",type:\"ARG0\"}),\n",
        "       (node3:Frame_Argument{text:\"in GitHub repository linagora / twake\",type:\"ARG1\"}),\n",
        "       (node4:Modifier_Temporal{text:\"prior to 2023.Q1.1200 +\",type:\"ARGM-TMP\"}),\n",
        "\n",
        "       (node2)-[:HAS_ARGUMENT]->(node1),\n",
        "       (node3)-[:HAS_ARGUMENT]->(node1),\n",
        "       (node4)-[:HAS_ARGUMENT]->(node1)\n",
        "\n",
        "MERGE (description:Description {cveId:\"CVE-2023-0028\"})\n",
        "MERGE (frame:Frame {text:\"Stored\"})\n",
        "MERGE (description)-[:MAPPED_WITH]->(frame)       \n",
        "\n",
        "\"\"\"\n",
        "result = conn.query(explore_reviews_csv_query)\n",
        "print(result)"
      ]
    },
    {
      "cell_type": "code",
      "execution_count": 1045,
      "metadata": {
        "id": "bGSHdBPrrKZa",
        "colab": {
          "base_uri": "https://localhost:8080/"
        },
        "outputId": "613689c2-fa7c-486e-f710-75d9d6264a3a"
      },
      "outputs": [
        {
          "output_type": "stream",
          "name": "stdout",
          "text": [
            "[]\n"
          ]
        }
      ],
      "source": [
        "explore_reviews_csv_query = \"\"\"\n",
        "CREATE (node1:Frame {text:\"found\",type:\"Verb\"}),\n",
        "       (node2:Frame_Argument{text:\"A vulnerability\",type:\"ARG1\"}),\n",
        "       (node3:Modifier_Location{text:\"in Multilaser RE708 RE1200R4GC-2T2R - V3_v3411b_MUL029B.\",type:\"ARGM-LOC\"}),\n",
        "\n",
        "       (node2)-[:HAS_ARGUMENT]->(node1),\n",
        "       (node3)-[:HAS_ARGUMENT]->(node1)\n",
        "\n",
        "MERGE (description:Description {cveId:\"CVE-2023-0029\"})\n",
        "MERGE (frame:Frame {text:\"found\"})\n",
        "MERGE (description)-[:MAPPED_WITH]->(frame)       \n",
        "\n",
        "\"\"\"\n",
        "result = conn.query(explore_reviews_csv_query)\n",
        "print(result)"
      ]
    },
    {
      "cell_type": "code",
      "execution_count": 1046,
      "metadata": {
        "id": "tJHKnfZcrLP1",
        "colab": {
          "base_uri": "https://localhost:8080/"
        },
        "outputId": "c394d035-a002-4221-f090-ea7bd06359ef"
      },
      "outputs": [
        {
          "output_type": "stream",
          "name": "stdout",
          "text": [
            "[]\n"
          ]
        }
      ],
      "source": [
        "explore_reviews_csv_query = \"\"\"\n",
        "CREATE (node1:Frame {text:\"rated\",type:\"Verb\"}),\n",
        "       (node2:Frame_Argument{text:\"in Multilaser RE708 RE1200R4GC-2T2R - V3_v3411b_MUL029B\",type:\"ARG2\"}),\n",
        "       (node3:Frame_Argument{text:\"It\",type:\"ARG1\"}),\n",
        "       (node4:Frame_Argument{text:\"as problematic\",type:\"ARG2\"}),\n",
        "\n",
        "       (node2)-[:HAS_ARGUMENT]->(node1),\n",
        "       (node3)-[:HAS_ARGUMENT]->(node1),\n",
        "       (node4)-[:HAS_ARGUMENT]->(node1)\n",
        "\n",
        "MERGE (description:Description {cveId:\"CVE-2023-0029\"})\n",
        "MERGE (frame:Frame {text:\"rated\"})\n",
        "MERGE (description)-[:MAPPED_WITH]->(frame)       \n",
        "\n",
        "\"\"\"\n",
        "result = conn.query(explore_reviews_csv_query)\n",
        "print(result)"
      ]
    },
    {
      "cell_type": "code",
      "execution_count": 1047,
      "metadata": {
        "id": "lfKPZ9CxrMMI",
        "colab": {
          "base_uri": "https://localhost:8080/"
        },
        "outputId": "e87c952c-8640-4be6-e0da-2549c8833be4"
      },
      "outputs": [
        {
          "output_type": "stream",
          "name": "stdout",
          "text": [
            "[]\n"
          ]
        }
      ],
      "source": [
        "explore_reviews_csv_query = \"\"\"\n",
        "CREATE (node1:Frame {text:\"affects\",type:\"Verb\"}),\n",
        "       (node2:Frame_Argument{text:\"This issue\",type:\"ARG0\"}),\n",
        "       (node3:Frame_Argument{text:\"some unknown processing of the component Telnet Service\",type:\"ARG1\"}),\n",
        "\n",
        "       (node2)-[:HAS_ARGUMENT]->(node1),\n",
        "       (node3)-[:HAS_ARGUMENT]->(node1)\n",
        "\n",
        "MERGE (description:Description {cveId:\"CVE-2023-0029\"})\n",
        "MERGE (frame:Frame {text:\"affects\"})\n",
        "MERGE (description)-[:MAPPED_WITH]->(frame)        \n",
        "\n",
        "\"\"\"\n",
        "result = conn.query(explore_reviews_csv_query)\n",
        "print(result)"
      ]
    },
    {
      "cell_type": "code",
      "execution_count": 1048,
      "metadata": {
        "id": "2WACRjJCrM_6",
        "colab": {
          "base_uri": "https://localhost:8080/"
        },
        "outputId": "663f857d-d330-4c37-9915-125c6bc29d87"
      },
      "outputs": [
        {
          "output_type": "stream",
          "name": "stdout",
          "text": [
            "[]\n"
          ]
        }
      ],
      "source": [
        "explore_reviews_csv_query = \"\"\"\n",
        "CREATE (node1:Frame {text:\"leads\",type:\"Verb\"}),\n",
        "       (node2:Frame_Argument{text:\"The manipulation\",type:\"ARG0\"}),\n",
        "       (node3:Frame_Argument{text:\"to denial of service\",type:\"ARG2\"}),\n",
        "\n",
        "       (node2)-[:HAS_ARGUMENT]->(node1),\n",
        "       (node3)-[:HAS_ARGUMENT]->(node1)\n",
        "\n",
        "MERGE (description:Description {cveId:\"CVE-2023-0029\"})\n",
        "MERGE (frame:Frame {text:\"leads\"})\n",
        "MERGE (description)-[:MAPPED_WITH]->(frame)        \n",
        "\n",
        "\"\"\"\n",
        "result = conn.query(explore_reviews_csv_query)\n",
        "print(result)"
      ]
    },
    {
      "cell_type": "code",
      "execution_count": 1049,
      "metadata": {
        "id": "tVlNVdOBrN2D",
        "colab": {
          "base_uri": "https://localhost:8080/"
        },
        "outputId": "f0ed9c14-e0e2-4068-8219-7c151339f806"
      },
      "outputs": [
        {
          "output_type": "stream",
          "name": "stdout",
          "text": [
            "[]\n"
          ]
        }
      ],
      "source": [
        "explore_reviews_csv_query = \"\"\"\n",
        "CREATE (node1:Frame {text:\"initiated\",type:\"Verb\"}),\n",
        "       (node2:Frame_Argument{text:\"The attack\",type:\"ARG1\"}),\n",
        "       (node3:Modifier_Modal{text:\"may\",type:\"ARGM-MOD\"}),\n",
        "       (node4:Modifier_Manner{text:\"remotely\",type:\"ARGM-MNR\"}),\n",
        "\n",
        "       (node2)-[:HAS_ARGUMENT]->(node1),\n",
        "       (node3)-[:HAS_ARGUMENT]->(node1),\n",
        "       (node4)-[:HAS_ARGUMENT]->(node1)\n",
        "\n",
        "MERGE (description:Description {cveId:\"CVE-2023-0029\"})\n",
        "MERGE (frame:Frame {text:\"initiated\"})\n",
        "MERGE (description)-[:MAPPED_WITH]->(frame)       \n",
        "\n",
        "\"\"\"\n",
        "result = conn.query(explore_reviews_csv_query)\n",
        "print(result)"
      ]
    },
    {
      "cell_type": "code",
      "execution_count": 1050,
      "metadata": {
        "id": "Y7ZevRlUrOrC",
        "colab": {
          "base_uri": "https://localhost:8080/"
        },
        "outputId": "d9141f5e-165d-466c-874f-399f5051458f"
      },
      "outputs": [
        {
          "output_type": "stream",
          "name": "stdout",
          "text": [
            "[]\n"
          ]
        }
      ],
      "source": [
        "explore_reviews_csv_query = \"\"\"\n",
        "CREATE (node1:Frame {text:\"assigned\",type:\"Verb\"}),\n",
        "       (node2:Frame_Argument{text:\"The identifier VDB-217169\",type:\"ARG1\"}),\n",
        "       (node3:Frame_Argument{text:\"to this vulnerability\",type:\"ARG2\"}),\n",
        "\n",
        "       (node2)-[:HAS_ARGUMENT]->(node1),\n",
        "       (node3)-[:HAS_ARGUMENT]->(node1)\n",
        "\n",
        "MERGE (description:Description {cveId:\"CVE-2023-0029\"})\n",
        "MERGE (frame:Frame {text:\"assigned\"})\n",
        "MERGE (description)-[:MAPPED_WITH]->(frame)       \n",
        "\n",
        "\"\"\"\n",
        "result = conn.query(explore_reviews_csv_query)\n",
        "print(result)"
      ]
    },
    {
      "cell_type": "markdown",
      "source": [
        "# **Creating rules for enhancing the coverage of the knowledge graph**"
      ],
      "metadata": {
        "id": "UI8LlRD57BQV"
      }
    },
    {
      "cell_type": "markdown",
      "source": [
        "Here all CWE refered to weaknesses that lead to CVE vulnerabilities "
      ],
      "metadata": {
        "id": "pnpH74uTq9Kq"
      }
    },
    {
      "cell_type": "code",
      "execution_count": 1051,
      "metadata": {
        "id": "Qf9WCjACcghM",
        "colab": {
          "base_uri": "https://localhost:8080/"
        },
        "outputId": "758e3513-270d-4bce-b1fc-789bdcad680c"
      },
      "outputs": [
        {
          "output_type": "stream",
          "name": "stdout",
          "text": [
            "[<Record p=<Path start=<Node element_id='4:de342d72-e7ff-4d5b-9a28-99eaa381965b:6' labels=frozenset({'CVE'}) properties={'assigner': 'cna@sap.com', 'id': 'CVE-2023-0018'}> end=<Node element_id='4:de342d72-e7ff-4d5b-9a28-99eaa381965b:155' labels=frozenset({'CWE'}) properties={'weakness_abstraction': 'Base', 'cwe_id': '79', 'name': \"Improper Neutralization of Input During Web Page Generation ('Cross-site Scripting')\", 'description': 'The software does not neutralize or incorrectly neutralizes user-controllable input before it is placed in output that is used as a web page that is served to other users.', 'extended_description': \"Cross-site scripting (XSS) vulnerabilities occur when: 1. Untrusted data enters a web application, typically from a web request. 2. The web application dynamically generates a web page that contains this untrusted data. 3. During page generation, the application does not prevent the data from containing content that is executable by a web browser, such as JavaScript, HTML tags, HTML attributes, mouse events, Flash, ActiveX, etc. 4. A victim visits the generated web page through a web browser, which contains malicious script that was injected using the untrusted data. 5. Since the script comes from a web page that was sent by the web server, the victim's web browser executes the malicious script in the context of the web server's domain. 6. This effectively violates the intention of the web browser's same-origin policy, which states that scripts in one domain should not be able to access resources or run code in a different domain. There are three main kinds of XSS: Type 1: Reflected XSS (or Non-Persistent) - The server reads data directly from the HTTP request and reflects it back in the HTTP response. Reflected XSS exploits occur when an attacker causes a victim to supply dangerous content to a vulnerable web application, which is then reflected back to the victim and executed by the web browser. The most common mechanism for delivering malicious content is to include it as a parameter in a URL that is posted publicly or e-mailed directly to the victim. URLs constructed in this manner constitute the core of many phishing schemes, whereby an attacker convinces a victim to visit a URL that refers to a vulnerable site. After the site reflects the attacker's content back to the victim, the content is executed by the victim's browser. Type 2: Stored XSS (or Persistent) - The application stores dangerous data in a database, message forum, visitor log, or other trusted data store. At a later time, the dangerous data is subsequently read back into the application and included in dynamic content. From an attacker's perspective, the optimal place to inject malicious content is in an area that is displayed to either many users or particularly interesting users. Interesting users typically have elevated privileges in the application or interact with sensitive data that is valuable to the attacker. If one of these users executes malicious content, the attacker may be able to perform privileged operations on behalf of the user or gain access to sensitive data belonging to the user. For example, the attacker might inject XSS into a log message, which might not be handled properly when an administrator views the logs. Type 0: DOM-Based XSS - In DOM-based XSS, the client performs the injection of XSS into the page; in the other types, the server performs the injection. DOM-based XSS generally involves server-controlled, trusted script that is sent to the client, such as Javascript that performs sanity checks on a form before the user submits it. If the server-supplied script processes user-supplied data and then injects it back into the web page (such as with dynamic HTML), then DOM-based XSS is possible. Once the malicious script is injected, the attacker can perform a variety of malicious activities. The attacker could transfer private information, such as cookies that may include session information, from the victim's machine to the attacker. The attacker could send malicious requests to a web site on behalf of the victim, which could be especially dangerous to the site if the victim has administrator privileges to manage that site. Phishing attacks could be used to emulate trusted web sites and trick the victim into entering a password, allowing the attacker to compromise the victim's account on that web site. Finally, the script could exploit a vulnerability in the web browser itself possibly taking over the victim's machine, sometimes referred to as drive-by hacking. In many cases, the attack can be launched without the victim even being aware of it. Even with careful users, attackers frequently use a variety of methods to encode the malicious portion of the attack, such as URL encoding or Unicode, so the request looks less suspicious.\", 'status': 'Stable'}> size=2>>, <Record p=<Path start=<Node element_id='4:de342d72-e7ff-4d5b-9a28-99eaa381965b:9' labels=frozenset({'CVE'}) properties={'assigner': 'security@huntr.dev', 'id': 'CVE-2023-0028'}> end=<Node element_id='4:de342d72-e7ff-4d5b-9a28-99eaa381965b:155' labels=frozenset({'CWE'}) properties={'weakness_abstraction': 'Base', 'cwe_id': '79', 'name': \"Improper Neutralization of Input During Web Page Generation ('Cross-site Scripting')\", 'description': 'The software does not neutralize or incorrectly neutralizes user-controllable input before it is placed in output that is used as a web page that is served to other users.', 'extended_description': \"Cross-site scripting (XSS) vulnerabilities occur when: 1. Untrusted data enters a web application, typically from a web request. 2. The web application dynamically generates a web page that contains this untrusted data. 3. During page generation, the application does not prevent the data from containing content that is executable by a web browser, such as JavaScript, HTML tags, HTML attributes, mouse events, Flash, ActiveX, etc. 4. A victim visits the generated web page through a web browser, which contains malicious script that was injected using the untrusted data. 5. Since the script comes from a web page that was sent by the web server, the victim's web browser executes the malicious script in the context of the web server's domain. 6. This effectively violates the intention of the web browser's same-origin policy, which states that scripts in one domain should not be able to access resources or run code in a different domain. There are three main kinds of XSS: Type 1: Reflected XSS (or Non-Persistent) - The server reads data directly from the HTTP request and reflects it back in the HTTP response. Reflected XSS exploits occur when an attacker causes a victim to supply dangerous content to a vulnerable web application, which is then reflected back to the victim and executed by the web browser. The most common mechanism for delivering malicious content is to include it as a parameter in a URL that is posted publicly or e-mailed directly to the victim. URLs constructed in this manner constitute the core of many phishing schemes, whereby an attacker convinces a victim to visit a URL that refers to a vulnerable site. After the site reflects the attacker's content back to the victim, the content is executed by the victim's browser. Type 2: Stored XSS (or Persistent) - The application stores dangerous data in a database, message forum, visitor log, or other trusted data store. At a later time, the dangerous data is subsequently read back into the application and included in dynamic content. From an attacker's perspective, the optimal place to inject malicious content is in an area that is displayed to either many users or particularly interesting users. Interesting users typically have elevated privileges in the application or interact with sensitive data that is valuable to the attacker. If one of these users executes malicious content, the attacker may be able to perform privileged operations on behalf of the user or gain access to sensitive data belonging to the user. For example, the attacker might inject XSS into a log message, which might not be handled properly when an administrator views the logs. Type 0: DOM-Based XSS - In DOM-based XSS, the client performs the injection of XSS into the page; in the other types, the server performs the injection. DOM-based XSS generally involves server-controlled, trusted script that is sent to the client, such as Javascript that performs sanity checks on a form before the user submits it. If the server-supplied script processes user-supplied data and then injects it back into the web page (such as with dynamic HTML), then DOM-based XSS is possible. Once the malicious script is injected, the attacker can perform a variety of malicious activities. The attacker could transfer private information, such as cookies that may include session information, from the victim's machine to the attacker. The attacker could send malicious requests to a web site on behalf of the victim, which could be especially dangerous to the site if the victim has administrator privileges to manage that site. Phishing attacks could be used to emulate trusted web sites and trick the victim into entering a password, allowing the attacker to compromise the victim's account on that web site. Finally, the script could exploit a vulnerability in the web browser itself possibly taking over the victim's machine, sometimes referred to as drive-by hacking. In many cases, the attack can be launched without the victim even being aware of it. Even with careful users, attackers frequently use a variety of methods to encode the malicious portion of the attack, such as URL encoding or Unicode, so the request looks less suspicious.\", 'status': 'Stable'}> size=2>>, <Record p=<Path start=<Node element_id='4:de342d72-e7ff-4d5b-9a28-99eaa381965b:3' labels=frozenset({'CVE'}) properties={'assigner': 'cna@sap.com', 'id': 'CVE-2023-0015'}> end=<Node element_id='4:de342d72-e7ff-4d5b-9a28-99eaa381965b:155' labels=frozenset({'CWE'}) properties={'weakness_abstraction': 'Base', 'cwe_id': '79', 'name': \"Improper Neutralization of Input During Web Page Generation ('Cross-site Scripting')\", 'description': 'The software does not neutralize or incorrectly neutralizes user-controllable input before it is placed in output that is used as a web page that is served to other users.', 'extended_description': \"Cross-site scripting (XSS) vulnerabilities occur when: 1. Untrusted data enters a web application, typically from a web request. 2. The web application dynamically generates a web page that contains this untrusted data. 3. During page generation, the application does not prevent the data from containing content that is executable by a web browser, such as JavaScript, HTML tags, HTML attributes, mouse events, Flash, ActiveX, etc. 4. A victim visits the generated web page through a web browser, which contains malicious script that was injected using the untrusted data. 5. Since the script comes from a web page that was sent by the web server, the victim's web browser executes the malicious script in the context of the web server's domain. 6. This effectively violates the intention of the web browser's same-origin policy, which states that scripts in one domain should not be able to access resources or run code in a different domain. There are three main kinds of XSS: Type 1: Reflected XSS (or Non-Persistent) - The server reads data directly from the HTTP request and reflects it back in the HTTP response. Reflected XSS exploits occur when an attacker causes a victim to supply dangerous content to a vulnerable web application, which is then reflected back to the victim and executed by the web browser. The most common mechanism for delivering malicious content is to include it as a parameter in a URL that is posted publicly or e-mailed directly to the victim. URLs constructed in this manner constitute the core of many phishing schemes, whereby an attacker convinces a victim to visit a URL that refers to a vulnerable site. After the site reflects the attacker's content back to the victim, the content is executed by the victim's browser. Type 2: Stored XSS (or Persistent) - The application stores dangerous data in a database, message forum, visitor log, or other trusted data store. At a later time, the dangerous data is subsequently read back into the application and included in dynamic content. From an attacker's perspective, the optimal place to inject malicious content is in an area that is displayed to either many users or particularly interesting users. Interesting users typically have elevated privileges in the application or interact with sensitive data that is valuable to the attacker. If one of these users executes malicious content, the attacker may be able to perform privileged operations on behalf of the user or gain access to sensitive data belonging to the user. For example, the attacker might inject XSS into a log message, which might not be handled properly when an administrator views the logs. Type 0: DOM-Based XSS - In DOM-based XSS, the client performs the injection of XSS into the page; in the other types, the server performs the injection. DOM-based XSS generally involves server-controlled, trusted script that is sent to the client, such as Javascript that performs sanity checks on a form before the user submits it. If the server-supplied script processes user-supplied data and then injects it back into the web page (such as with dynamic HTML), then DOM-based XSS is possible. Once the malicious script is injected, the attacker can perform a variety of malicious activities. The attacker could transfer private information, such as cookies that may include session information, from the victim's machine to the attacker. The attacker could send malicious requests to a web site on behalf of the victim, which could be especially dangerous to the site if the victim has administrator privileges to manage that site. Phishing attacks could be used to emulate trusted web sites and trick the victim into entering a password, allowing the attacker to compromise the victim's account on that web site. Finally, the script could exploit a vulnerability in the web browser itself possibly taking over the victim's machine, sometimes referred to as drive-by hacking. In many cases, the attack can be launched without the victim even being aware of it. Even with careful users, attackers frequently use a variety of methods to encode the malicious portion of the attack, such as URL encoding or Unicode, so the request looks less suspicious.\", 'status': 'Stable'}> size=2>>, <Record p=<Path start=<Node element_id='4:de342d72-e7ff-4d5b-9a28-99eaa381965b:1' labels=frozenset({'CVE'}) properties={'assigner': 'cna@sap.com', 'id': 'CVE-2023-0013'}> end=<Node element_id='4:de342d72-e7ff-4d5b-9a28-99eaa381965b:155' labels=frozenset({'CWE'}) properties={'weakness_abstraction': 'Base', 'cwe_id': '79', 'name': \"Improper Neutralization of Input During Web Page Generation ('Cross-site Scripting')\", 'description': 'The software does not neutralize or incorrectly neutralizes user-controllable input before it is placed in output that is used as a web page that is served to other users.', 'extended_description': \"Cross-site scripting (XSS) vulnerabilities occur when: 1. Untrusted data enters a web application, typically from a web request. 2. The web application dynamically generates a web page that contains this untrusted data. 3. During page generation, the application does not prevent the data from containing content that is executable by a web browser, such as JavaScript, HTML tags, HTML attributes, mouse events, Flash, ActiveX, etc. 4. A victim visits the generated web page through a web browser, which contains malicious script that was injected using the untrusted data. 5. Since the script comes from a web page that was sent by the web server, the victim's web browser executes the malicious script in the context of the web server's domain. 6. This effectively violates the intention of the web browser's same-origin policy, which states that scripts in one domain should not be able to access resources or run code in a different domain. There are three main kinds of XSS: Type 1: Reflected XSS (or Non-Persistent) - The server reads data directly from the HTTP request and reflects it back in the HTTP response. Reflected XSS exploits occur when an attacker causes a victim to supply dangerous content to a vulnerable web application, which is then reflected back to the victim and executed by the web browser. The most common mechanism for delivering malicious content is to include it as a parameter in a URL that is posted publicly or e-mailed directly to the victim. URLs constructed in this manner constitute the core of many phishing schemes, whereby an attacker convinces a victim to visit a URL that refers to a vulnerable site. After the site reflects the attacker's content back to the victim, the content is executed by the victim's browser. Type 2: Stored XSS (or Persistent) - The application stores dangerous data in a database, message forum, visitor log, or other trusted data store. At a later time, the dangerous data is subsequently read back into the application and included in dynamic content. From an attacker's perspective, the optimal place to inject malicious content is in an area that is displayed to either many users or particularly interesting users. Interesting users typically have elevated privileges in the application or interact with sensitive data that is valuable to the attacker. If one of these users executes malicious content, the attacker may be able to perform privileged operations on behalf of the user or gain access to sensitive data belonging to the user. For example, the attacker might inject XSS into a log message, which might not be handled properly when an administrator views the logs. Type 0: DOM-Based XSS - In DOM-based XSS, the client performs the injection of XSS into the page; in the other types, the server performs the injection. DOM-based XSS generally involves server-controlled, trusted script that is sent to the client, such as Javascript that performs sanity checks on a form before the user submits it. If the server-supplied script processes user-supplied data and then injects it back into the web page (such as with dynamic HTML), then DOM-based XSS is possible. Once the malicious script is injected, the attacker can perform a variety of malicious activities. The attacker could transfer private information, such as cookies that may include session information, from the victim's machine to the attacker. The attacker could send malicious requests to a web site on behalf of the victim, which could be especially dangerous to the site if the victim has administrator privileges to manage that site. Phishing attacks could be used to emulate trusted web sites and trick the victim into entering a password, allowing the attacker to compromise the victim's account on that web site. Finally, the script could exploit a vulnerability in the web browser itself possibly taking over the victim's machine, sometimes referred to as drive-by hacking. In many cases, the attack can be launched without the victim even being aware of it. Even with careful users, attackers frequently use a variety of methods to encode the malicious portion of the attack, such as URL encoding or Unicode, so the request looks less suspicious.\", 'status': 'Stable'}> size=2>>, <Record p=<Path start=<Node element_id='4:de342d72-e7ff-4d5b-9a28-99eaa381965b:4' labels=frozenset({'CVE'}) properties={'assigner': 'cna@sap.com', 'id': 'CVE-2023-0016'}> end=<Node element_id='4:de342d72-e7ff-4d5b-9a28-99eaa381965b:156' labels=frozenset({'CWE'}) properties={'weakness_abstraction': 'Base', 'cwe_id': '89', 'name': \"Improper Neutralization of Special Elements used in an SQL Command ('SQL Injection')\", 'description': 'The software constructs all or part of an SQL command using externally-influenced input from an upstream component, but it does not neutralize or incorrectly neutralizes special elements that could modify the intended SQL command when it is sent to a downstream component.', 'extended_description': 'Without sufficient removal or quoting of SQL syntax in user-controllable inputs, the generated SQL query can cause those inputs to be interpreted as SQL instead of ordinary user data. This can be used to alter query logic to bypass security checks, or to insert additional statements that modify the back-end database, possibly including execution of system commands. SQL injection has become a common issue with database-driven web sites. The flaw is easily detected, and easily exploited, and as such, any site or software package with even a minimal user base is likely to be subject to an attempted attack of this kind. This flaw depends on the fact that SQL makes no real distinction between the control and data planes.', 'status': 'Stable'}> size=2>>, <Record p=<Path start=<Node element_id='4:de342d72-e7ff-4d5b-9a28-99eaa381965b:7' labels=frozenset({'CVE'}) properties={'assigner': 'cna@sap.com', 'id': 'CVE-2023-0022'}> end=<Node element_id='4:de342d72-e7ff-4d5b-9a28-99eaa381965b:157' labels=frozenset({'CWE'}) properties={'weakness_abstraction': 'Base', 'cwe_id': '94', 'name': \"Improper Control of Generation of Code ('Code Injection')\", 'description': 'The software constructs all or part of a code segment using externally-influenced input from an upstream component, but it does not neutralize or incorrectly neutralizes special elements that could modify the syntax or behavior of the intended code segment.', 'extended_description': \"When software allows a user's input to contain code syntax, it might be possible for an attacker to craft the code in such a way that it will alter the intended control flow of the software. Such an alteration could lead to arbitrary code execution. Injection problems encompass a wide variety of issues -- all mitigated in very different ways. For this reason, the most effective way to discuss these weaknesses is to note the distinct features which classify them as injection weaknesses. The most important issue to note is that all injection problems share one thing in common -- i.e., they allow for the injection of control plane data into the user-controlled data plane. This means that the execution of the process may be altered by sending code in through legitimate data channels, using no other mechanism. While buffer overflows, and many other flaws, involve the use of some further issue to gain execution, injection problems need only for the data to be parsed. The most classic instantiations of this category of weakness are SQL injection and format string vulnerabilities.\", 'status': 'Draft'}> size=2>>, <Record p=<Path start=<Node element_id='4:de342d72-e7ff-4d5b-9a28-99eaa381965b:8' labels=frozenset({'CVE'}) properties={'assigner': 'cna@sap.com', 'id': 'CVE-2023-0023'}> end=<Node element_id='4:de342d72-e7ff-4d5b-9a28-99eaa381965b:158' labels=frozenset({'CWE'}) properties={'weakness_abstraction': 'Class', 'cwe_id': '200', 'name': 'Exposure of Sensitive Information to an Unauthorized Actor', 'description': 'The product exposes sensitive information to an actor that is not explicitly authorized to have access to that information.', 'extended_description': \"There are many different kinds of mistakes that introduce information exposures. The severity of the error can range widely, depending on the context in which the product operates, the type of sensitive information that is revealed, and the benefits it may provide to an attacker. Some kinds of sensitive information include: private, personal information, such as personal messages, financial data, health records, geographic location, or contact details system status and environment, such as the operating system and installed packages business secrets and intellectual property network status and configuration the product's own code or internal state metadata, e.g. logging of connections or message headers indirect information, such as a discrepancy between two internal operations that can be observed by an outsider Information might be sensitive to different parties, each of which may have their own expectations for whether the information should be protected. These parties include: the product's own users people or organizations whose information is created or used by the product, even if they are not direct product users the product's administrators, including the admins of the system(s) and/or networks on which the product operates the developer Information exposures can occur in different ways: the code explicitly inserts sensitive information into resources that are made accessible to unauthorized actors a different weakness or mistake inadvertently makes the sensitive information available, such as a web script error revealing the full system path of the program\", 'status': 'Draft'}> size=2>>, <Record p=<Path start=<Node element_id='4:de342d72-e7ff-4d5b-9a28-99eaa381965b:0' labels=frozenset({'CVE'}) properties={'assigner': 'cna@sap.com', 'id': 'CVE-2023-0012'}> end=<Node element_id='4:de342d72-e7ff-4d5b-9a28-99eaa381965b:159' labels=frozenset({'CWE'}) properties={'weakness_abstraction': 'Pillar', 'cwe_id': '284', 'name': 'Improper Access Control', 'description': 'The software does not restrict or incorrectly restricts access to a resource from an unauthorized actor.', 'extended_description': 'Access control involves the use of several protection mechanisms such as: Authentication (proving the identity of an actor) Authorization (ensuring that a given actor can access a resource), and Accountability (tracking of activities that were performed) When any mechanism is not applied or otherwise fails, attackers can compromise the security of the software by gaining privileges, reading sensitive information, executing commands, evading detection, etc. There are two distinct behaviors that can introduce access control weaknesses: Specification: incorrect privileges, permissions, ownership, etc. are explicitly specified for either the user or the resource (for example, setting a password file to be world-writable, or giving administrator capabilities to a guest user). This action could be performed by the program or the administrator. Enforcement: the mechanism contains errors that prevent it from properly enforcing the specified access control requirements (e.g., allowing the user to specify their own privileges, or allowing a syntactically-incorrect ACL to produce insecure settings). This problem occurs within the program itself, in that it does not actually enforce the intended security policy that the administrator specifies.', 'status': 'Incomplete'}> size=2>>, <Record p=<Path start=<Node element_id='4:de342d72-e7ff-4d5b-9a28-99eaa381965b:5' labels=frozenset({'CVE'}) properties={'assigner': 'cna@sap.com', 'id': 'CVE-2023-0017'}> end=<Node element_id='4:de342d72-e7ff-4d5b-9a28-99eaa381965b:159' labels=frozenset({'CWE'}) properties={'weakness_abstraction': 'Pillar', 'cwe_id': '284', 'name': 'Improper Access Control', 'description': 'The software does not restrict or incorrectly restricts access to a resource from an unauthorized actor.', 'extended_description': 'Access control involves the use of several protection mechanisms such as: Authentication (proving the identity of an actor) Authorization (ensuring that a given actor can access a resource), and Accountability (tracking of activities that were performed) When any mechanism is not applied or otherwise fails, attackers can compromise the security of the software by gaining privileges, reading sensitive information, executing commands, evading detection, etc. There are two distinct behaviors that can introduce access control weaknesses: Specification: incorrect privileges, permissions, ownership, etc. are explicitly specified for either the user or the resource (for example, setting a password file to be world-writable, or giving administrator capabilities to a guest user). This action could be performed by the program or the administrator. Enforcement: the mechanism contains errors that prevent it from properly enforcing the specified access control requirements (e.g., allowing the user to specify their own privileges, or allowing a syntactically-incorrect ACL to produce insecure settings). This problem occurs within the program itself, in that it does not actually enforce the intended security policy that the administrator specifies.', 'status': 'Incomplete'}> size=2>>, <Record p=<Path start=<Node element_id='4:de342d72-e7ff-4d5b-9a28-99eaa381965b:2' labels=frozenset({'CVE'}) properties={'assigner': 'cna@sap.com', 'id': 'CVE-2023-0014'}> end=<Node element_id='4:de342d72-e7ff-4d5b-9a28-99eaa381965b:160' labels=frozenset({'CWE'}) properties={'weakness_abstraction': 'Base', 'cwe_id': '294', 'name': 'Authentication Bypass by Capture-replay', 'description': 'A capture-replay flaw exists when the design of the software makes it possible for a malicious user to sniff network traffic and bypass authentication by replaying it to the server in question to the same effect as the original message (or with minor changes).', 'extended_description': 'Capture-replay attacks are common and can be difficult to defeat without cryptography. They are a subset of network injection attacks that rely on observing previously-sent valid commands, then changing them slightly if necessary and resending the same commands to the server.', 'status': 'Incomplete'}> size=2>>]\n"
          ]
        }
      ],
      "source": [
        "explore_reviews_csv_query = \"\"\"\n",
        "MATCH p=(cve:CVE)-[:PROBLEM_TYPE]->(problemType:ProblemType)-[:MAPPED_WITH]->(cwe:CWE)\n",
        "MERGE(cwe)-[:LEAD_TO]->(cve)\n",
        "RETURN p\n",
        "\n",
        "\"\"\"\n",
        "result = conn.query(explore_reviews_csv_query)\n",
        "print(result)"
      ]
    },
    {
      "cell_type": "markdown",
      "source": [
        "These patterns matchs some entities from CWE, that vulnerable to each CVE vulnerabilities"
      ],
      "metadata": {
        "id": "j69O4ZWnf5PJ"
      }
    },
    {
      "cell_type": "code",
      "execution_count": 1052,
      "metadata": {
        "id": "LoUqsBKDHEgi",
        "colab": {
          "base_uri": "https://localhost:8080/"
        },
        "outputId": "a9eb4c28-0d11-43f0-be7a-a82046ad5c57"
      },
      "outputs": [
        {
          "output_type": "stream",
          "name": "stdout",
          "text": [
            "[<Record p=<Path start=<Node element_id='4:de342d72-e7ff-4d5b-9a28-99eaa381965b:6' labels=frozenset({'CVE'}) properties={'assigner': 'cna@sap.com', 'id': 'CVE-2023-0018'}> end=<Node element_id='4:de342d72-e7ff-4d5b-9a28-99eaa381965b:167' labels=frozenset({'Entities'}) properties={'wikipediaExternalRef': 241154, 'wikidataId': 'Q371199', 'confidence_score': 0.719, 'offsetStart': 0, 'offsetEnd': 20, 'rawName': 'Cross-site scripting'}> size=4>>, <Record p=<Path start=<Node element_id='4:de342d72-e7ff-4d5b-9a28-99eaa381965b:9' labels=frozenset({'CVE'}) properties={'assigner': 'security@huntr.dev', 'id': 'CVE-2023-0028'}> end=<Node element_id='4:de342d72-e7ff-4d5b-9a28-99eaa381965b:167' labels=frozenset({'Entities'}) properties={'wikipediaExternalRef': 241154, 'wikidataId': 'Q371199', 'confidence_score': 0.719, 'offsetStart': 0, 'offsetEnd': 20, 'rawName': 'Cross-site scripting'}> size=4>>, <Record p=<Path start=<Node element_id='4:de342d72-e7ff-4d5b-9a28-99eaa381965b:3' labels=frozenset({'CVE'}) properties={'assigner': 'cna@sap.com', 'id': 'CVE-2023-0015'}> end=<Node element_id='4:de342d72-e7ff-4d5b-9a28-99eaa381965b:167' labels=frozenset({'Entities'}) properties={'wikipediaExternalRef': 241154, 'wikidataId': 'Q371199', 'confidence_score': 0.719, 'offsetStart': 0, 'offsetEnd': 20, 'rawName': 'Cross-site scripting'}> size=4>>, <Record p=<Path start=<Node element_id='4:de342d72-e7ff-4d5b-9a28-99eaa381965b:1' labels=frozenset({'CVE'}) properties={'assigner': 'cna@sap.com', 'id': 'CVE-2023-0013'}> end=<Node element_id='4:de342d72-e7ff-4d5b-9a28-99eaa381965b:167' labels=frozenset({'Entities'}) properties={'wikipediaExternalRef': 241154, 'wikidataId': 'Q371199', 'confidence_score': 0.719, 'offsetStart': 0, 'offsetEnd': 20, 'rawName': 'Cross-site scripting'}> size=4>>]\n"
          ]
        }
      ],
      "source": [
        "explore_reviews_csv_query = \"\"\"\n",
        "MATCH p=(cve:CVE)-[:PROBLEM_TYPE]->(problemType:ProblemType)-[:MAPPED_WITH]->(cwe:CWE)-[:MAPPED_WITH]->(cwedata:Extended_Descriptions)-[:HAS_ENTITY]->(Entities:Entities{rawName:\"Cross-site scripting\"})\n",
        "MERGE(Entities)<-[:VULNERABLE_TO]-(cve)\n",
        "RETURN p\n",
        "\n",
        "\"\"\"\n",
        "result = conn.query(explore_reviews_csv_query)\n",
        "print(result)"
      ]
    },
    {
      "cell_type": "code",
      "execution_count": 1053,
      "metadata": {
        "id": "XkMMVx1pz2Di",
        "colab": {
          "base_uri": "https://localhost:8080/"
        },
        "outputId": "6def813d-4fb7-4566-b45a-a416b74b4f46"
      },
      "outputs": [
        {
          "output_type": "stream",
          "name": "stdout",
          "text": [
            "[<Record p=<Path start=<Node element_id='4:de342d72-e7ff-4d5b-9a28-99eaa381965b:4' labels=frozenset({'CVE'}) properties={'assigner': 'cna@sap.com', 'id': 'CVE-2023-0016'}> end=<Node element_id='4:de342d72-e7ff-4d5b-9a28-99eaa381965b:262' labels=frozenset({'Entities'}) properties={'wikipediaExternalRef': 526999, 'wikidataId': 'Q506059', 'confidence_score': 0.9162, 'offsetStart': 1041, 'offsetEnd': 1054, 'rawName': 'SQL injection'}> size=4>>, <Record p=<Path start=<Node element_id='4:de342d72-e7ff-4d5b-9a28-99eaa381965b:7' labels=frozenset({'CVE'}) properties={'assigner': 'cna@sap.com', 'id': 'CVE-2023-0022'}> end=<Node element_id='4:de342d72-e7ff-4d5b-9a28-99eaa381965b:262' labels=frozenset({'Entities'}) properties={'wikipediaExternalRef': 526999, 'wikidataId': 'Q506059', 'confidence_score': 0.9162, 'offsetStart': 1041, 'offsetEnd': 1054, 'rawName': 'SQL injection'}> size=4>>]\n"
          ]
        }
      ],
      "source": [
        "explore_reviews_csv_query = \"\"\"\n",
        "MATCH p=(cve:CVE)-[:PROBLEM_TYPE]->(problemType:ProblemType)-[:MAPPED_WITH]->(cwe:CWE)-[:MAPPED_WITH]->(cwedata:Extended_Descriptions)-[:HAS_ENTITY]->(Entities:Entities{rawName:\"SQL injection\"})\n",
        "MERGE(Entities)<-[:VULNERABLE_TO]-(cve)\n",
        "RETURN p\n",
        "\n",
        "\"\"\"\n",
        "result = conn.query(explore_reviews_csv_query)\n",
        "print(result)"
      ]
    },
    {
      "cell_type": "code",
      "execution_count": 1054,
      "metadata": {
        "id": "FEYCXm4Bz-zs",
        "colab": {
          "base_uri": "https://localhost:8080/"
        },
        "outputId": "c01f716f-43b2-47ba-942d-0170b16ad5fc"
      },
      "outputs": [
        {
          "output_type": "stream",
          "name": "stdout",
          "text": [
            "[<Record p=<Path start=<Node element_id='4:de342d72-e7ff-4d5b-9a28-99eaa381965b:0' labels=frozenset({'CVE'}) properties={'assigner': 'cna@sap.com', 'id': 'CVE-2023-0012'}> end=<Node element_id='4:de342d72-e7ff-4d5b-9a28-99eaa381965b:314' labels=frozenset({'Entities'}) properties={'wikipediaExternalRef': 40684, 'wikidataId': 'Q228502', 'confidence_score': 0.6394, 'offsetStart': 0, 'offsetEnd': 14, 'rawName': 'Access control'}> size=4>>, <Record p=<Path start=<Node element_id='4:de342d72-e7ff-4d5b-9a28-99eaa381965b:5' labels=frozenset({'CVE'}) properties={'assigner': 'cna@sap.com', 'id': 'CVE-2023-0017'}> end=<Node element_id='4:de342d72-e7ff-4d5b-9a28-99eaa381965b:314' labels=frozenset({'Entities'}) properties={'wikipediaExternalRef': 40684, 'wikidataId': 'Q228502', 'confidence_score': 0.6394, 'offsetStart': 0, 'offsetEnd': 14, 'rawName': 'Access control'}> size=4>>]\n"
          ]
        }
      ],
      "source": [
        "explore_reviews_csv_query = \"\"\"\n",
        "MATCH p=(cve:CVE)-[:PROBLEM_TYPE]->(problemType:ProblemType)-[:MAPPED_WITH]->(cwe:CWE)-[:MAPPED_WITH]->(cwedata:Extended_Descriptions)-[:HAS_ENTITY]->(Entities:Entities{rawName:\"Access control\"})\n",
        "MERGE(Entities)<-[:VULNERABLE_TO]-(cve)\n",
        "RETURN p\n",
        "\n",
        "\"\"\"\n",
        "result = conn.query(explore_reviews_csv_query)\n",
        "print(result)"
      ]
    },
    {
      "cell_type": "code",
      "execution_count": 1055,
      "metadata": {
        "id": "I3n5YoD4HVAN",
        "colab": {
          "base_uri": "https://localhost:8080/"
        },
        "outputId": "32a9f2d8-d86c-43b5-b3d8-20025b03702e"
      },
      "outputs": [
        {
          "output_type": "stream",
          "name": "stdout",
          "text": [
            "[<Record p=<Path start=<Node element_id='4:de342d72-e7ff-4d5b-9a28-99eaa381965b:2' labels=frozenset({'CVE'}) properties={'assigner': 'cna@sap.com', 'id': 'CVE-2023-0014'}> end=<Node element_id='4:de342d72-e7ff-4d5b-9a28-99eaa381965b:331' labels=frozenset({'Entities'}) properties={'wikipediaExternalRef': 614094, 'wikidataId': 'Q1756025', 'confidence_score': 0.5922, 'offsetStart': 8, 'offsetEnd': 22, 'rawName': 'replay attacks'}> size=4>>]\n"
          ]
        }
      ],
      "source": [
        "explore_reviews_csv_query = \"\"\"\n",
        "MATCH p=(cve:CVE)-[:PROBLEM_TYPE]->(problemType:ProblemType)-[:MAPPED_WITH]->(cwe:CWE)-[:MAPPED_WITH]->(cwedata:Extended_Descriptions)-[:HAS_ENTITY]->(Entities:Entities{rawName:\"replay attacks\"})\n",
        "MERGE(Entities)<-[:VULNERABLE_TO]-(cve)\n",
        "RETURN p\n",
        "\n",
        "\"\"\"\n",
        "result = conn.query(explore_reviews_csv_query)\n",
        "print(result)"
      ]
    },
    {
      "cell_type": "code",
      "source": [
        "explore_reviews_csv_query = \"\"\"\n",
        "MATCH p=(cve:CVE)-[:PROBLEM_TYPE]->(problemType:ProblemType)-[:MAPPED_WITH]->(cwe:CWE)-[:MAPPED_WITH]->(cwedata:Extended_Descriptions)-[:HAS_ENTITY]->(Entities:Entities{rawName:\"sensitive information\"})\n",
        "MERGE(Entities)<-[:INADVERTENTLY_EXPOSES]-(cve)\n",
        "RETURN p\n",
        "\n",
        "\"\"\"\n",
        "result = conn.query(explore_reviews_csv_query)\n",
        "print(result)"
      ],
      "metadata": {
        "colab": {
          "base_uri": "https://localhost:8080/"
        },
        "id": "nLCUYf-HD7Yn",
        "outputId": "507e3243-de53-4554-9287-9d679719c5fc"
      },
      "execution_count": 1056,
      "outputs": [
        {
          "output_type": "stream",
          "name": "stdout",
          "text": [
            "[<Record p=<Path start=<Node element_id='4:de342d72-e7ff-4d5b-9a28-99eaa381965b:8' labels=frozenset({'CVE'}) properties={'assigner': 'cna@sap.com', 'id': 'CVE-2023-0023'}> end=<Node element_id='4:de342d72-e7ff-4d5b-9a28-99eaa381965b:287' labels=frozenset({'Entities'}) properties={'wikipediaExternalRef': 5316476, 'wikidataId': 'Q2587068', 'confidence_score': 0.4076, 'offsetStart': 394, 'offsetEnd': 415, 'rawName': 'sensitive information'}> size=4>>, <Record p=<Path start=<Node element_id='4:de342d72-e7ff-4d5b-9a28-99eaa381965b:0' labels=frozenset({'CVE'}) properties={'assigner': 'cna@sap.com', 'id': 'CVE-2023-0012'}> end=<Node element_id='4:de342d72-e7ff-4d5b-9a28-99eaa381965b:287' labels=frozenset({'Entities'}) properties={'wikipediaExternalRef': 5316476, 'wikidataId': 'Q2587068', 'confidence_score': 0.4076, 'offsetStart': 394, 'offsetEnd': 415, 'rawName': 'sensitive information'}> size=4>>, <Record p=<Path start=<Node element_id='4:de342d72-e7ff-4d5b-9a28-99eaa381965b:5' labels=frozenset({'CVE'}) properties={'assigner': 'cna@sap.com', 'id': 'CVE-2023-0017'}> end=<Node element_id='4:de342d72-e7ff-4d5b-9a28-99eaa381965b:287' labels=frozenset({'Entities'}) properties={'wikipediaExternalRef': 5316476, 'wikidataId': 'Q2587068', 'confidence_score': 0.4076, 'offsetStart': 394, 'offsetEnd': 415, 'rawName': 'sensitive information'}> size=4>>]\n"
          ]
        }
      ]
    },
    {
      "cell_type": "markdown",
      "source": [
        "Here some CVE are connecting with wikidata Id of the entities in order to create similarities between CVEs"
      ],
      "metadata": {
        "id": "7h8lPkblxiHj"
      }
    },
    {
      "cell_type": "code",
      "execution_count": 1057,
      "metadata": {
        "id": "2OtSpD4G-kvG",
        "colab": {
          "base_uri": "https://localhost:8080/"
        },
        "outputId": "2d51661d-0738-457f-dbb0-8b24bbcc10c1"
      },
      "outputs": [
        {
          "output_type": "stream",
          "name": "stdout",
          "text": [
            "[<Record p=<Path start=<Node element_id='4:de342d72-e7ff-4d5b-9a28-99eaa381965b:6' labels=frozenset({'CVE'}) properties={'assigner': 'cna@sap.com', 'id': 'CVE-2023-0018'}> end=<Node element_id='4:de342d72-e7ff-4d5b-9a28-99eaa381965b:167' labels=frozenset({'Entities'}) properties={'wikipediaExternalRef': 241154, 'wikidataId': 'Q371199', 'confidence_score': 0.719, 'offsetStart': 0, 'offsetEnd': 20, 'rawName': 'Cross-site scripting'}> size=4>>, <Record p=<Path start=<Node element_id='4:de342d72-e7ff-4d5b-9a28-99eaa381965b:6' labels=frozenset({'CVE'}) properties={'assigner': 'cna@sap.com', 'id': 'CVE-2023-0018'}> end=<Node element_id='4:de342d72-e7ff-4d5b-9a28-99eaa381965b:168' labels=frozenset({'Entities'}) properties={'wikipediaExternalRef': 241154, 'wikidataId': 'Q371199', 'confidence_score': 0.8255, 'offsetStart': 3130, 'offsetEnd': 3133, 'rawName': 'XSS'}> size=4>>, <Record p=<Path start=<Node element_id='4:de342d72-e7ff-4d5b-9a28-99eaa381965b:6' labels=frozenset({'CVE'}) properties={'assigner': 'cna@sap.com', 'id': 'CVE-2023-0018'}> end=<Node element_id='4:de342d72-e7ff-4d5b-9a28-99eaa381965b:195' labels=frozenset({'Entities'}) properties={'wikipediaExternalRef': 241154, 'wikidataId': 'Q371199', 'confidence_score': 0.5158, 'offsetStart': 1120, 'offsetEnd': 1133, 'rawName': 'Reflected XSS'}> size=4>>, <Record p=<Path start=<Node element_id='4:de342d72-e7ff-4d5b-9a28-99eaa381965b:6' labels=frozenset({'CVE'}) properties={'assigner': 'cna@sap.com', 'id': 'CVE-2023-0018'}> end=<Node element_id='4:de342d72-e7ff-4d5b-9a28-99eaa381965b:208' labels=frozenset({'Entities'}) properties={'wikipediaExternalRef': 241154, 'wikidataId': 'Q371199', 'confidence_score': 0.5158, 'offsetStart': 1769, 'offsetEnd': 1779, 'rawName': 'Stored XSS'}> size=4>>, <Record p=<Path start=<Node element_id='4:de342d72-e7ff-4d5b-9a28-99eaa381965b:9' labels=frozenset({'CVE'}) properties={'assigner': 'security@huntr.dev', 'id': 'CVE-2023-0028'}> end=<Node element_id='4:de342d72-e7ff-4d5b-9a28-99eaa381965b:167' labels=frozenset({'Entities'}) properties={'wikipediaExternalRef': 241154, 'wikidataId': 'Q371199', 'confidence_score': 0.719, 'offsetStart': 0, 'offsetEnd': 20, 'rawName': 'Cross-site scripting'}> size=4>>, <Record p=<Path start=<Node element_id='4:de342d72-e7ff-4d5b-9a28-99eaa381965b:9' labels=frozenset({'CVE'}) properties={'assigner': 'security@huntr.dev', 'id': 'CVE-2023-0028'}> end=<Node element_id='4:de342d72-e7ff-4d5b-9a28-99eaa381965b:168' labels=frozenset({'Entities'}) properties={'wikipediaExternalRef': 241154, 'wikidataId': 'Q371199', 'confidence_score': 0.8255, 'offsetStart': 3130, 'offsetEnd': 3133, 'rawName': 'XSS'}> size=4>>, <Record p=<Path start=<Node element_id='4:de342d72-e7ff-4d5b-9a28-99eaa381965b:9' labels=frozenset({'CVE'}) properties={'assigner': 'security@huntr.dev', 'id': 'CVE-2023-0028'}> end=<Node element_id='4:de342d72-e7ff-4d5b-9a28-99eaa381965b:195' labels=frozenset({'Entities'}) properties={'wikipediaExternalRef': 241154, 'wikidataId': 'Q371199', 'confidence_score': 0.5158, 'offsetStart': 1120, 'offsetEnd': 1133, 'rawName': 'Reflected XSS'}> size=4>>, <Record p=<Path start=<Node element_id='4:de342d72-e7ff-4d5b-9a28-99eaa381965b:9' labels=frozenset({'CVE'}) properties={'assigner': 'security@huntr.dev', 'id': 'CVE-2023-0028'}> end=<Node element_id='4:de342d72-e7ff-4d5b-9a28-99eaa381965b:208' labels=frozenset({'Entities'}) properties={'wikipediaExternalRef': 241154, 'wikidataId': 'Q371199', 'confidence_score': 0.5158, 'offsetStart': 1769, 'offsetEnd': 1779, 'rawName': 'Stored XSS'}> size=4>>, <Record p=<Path start=<Node element_id='4:de342d72-e7ff-4d5b-9a28-99eaa381965b:3' labels=frozenset({'CVE'}) properties={'assigner': 'cna@sap.com', 'id': 'CVE-2023-0015'}> end=<Node element_id='4:de342d72-e7ff-4d5b-9a28-99eaa381965b:167' labels=frozenset({'Entities'}) properties={'wikipediaExternalRef': 241154, 'wikidataId': 'Q371199', 'confidence_score': 0.719, 'offsetStart': 0, 'offsetEnd': 20, 'rawName': 'Cross-site scripting'}> size=4>>, <Record p=<Path start=<Node element_id='4:de342d72-e7ff-4d5b-9a28-99eaa381965b:3' labels=frozenset({'CVE'}) properties={'assigner': 'cna@sap.com', 'id': 'CVE-2023-0015'}> end=<Node element_id='4:de342d72-e7ff-4d5b-9a28-99eaa381965b:168' labels=frozenset({'Entities'}) properties={'wikipediaExternalRef': 241154, 'wikidataId': 'Q371199', 'confidence_score': 0.8255, 'offsetStart': 3130, 'offsetEnd': 3133, 'rawName': 'XSS'}> size=4>>, <Record p=<Path start=<Node element_id='4:de342d72-e7ff-4d5b-9a28-99eaa381965b:3' labels=frozenset({'CVE'}) properties={'assigner': 'cna@sap.com', 'id': 'CVE-2023-0015'}> end=<Node element_id='4:de342d72-e7ff-4d5b-9a28-99eaa381965b:195' labels=frozenset({'Entities'}) properties={'wikipediaExternalRef': 241154, 'wikidataId': 'Q371199', 'confidence_score': 0.5158, 'offsetStart': 1120, 'offsetEnd': 1133, 'rawName': 'Reflected XSS'}> size=4>>, <Record p=<Path start=<Node element_id='4:de342d72-e7ff-4d5b-9a28-99eaa381965b:3' labels=frozenset({'CVE'}) properties={'assigner': 'cna@sap.com', 'id': 'CVE-2023-0015'}> end=<Node element_id='4:de342d72-e7ff-4d5b-9a28-99eaa381965b:208' labels=frozenset({'Entities'}) properties={'wikipediaExternalRef': 241154, 'wikidataId': 'Q371199', 'confidence_score': 0.5158, 'offsetStart': 1769, 'offsetEnd': 1779, 'rawName': 'Stored XSS'}> size=4>>, <Record p=<Path start=<Node element_id='4:de342d72-e7ff-4d5b-9a28-99eaa381965b:1' labels=frozenset({'CVE'}) properties={'assigner': 'cna@sap.com', 'id': 'CVE-2023-0013'}> end=<Node element_id='4:de342d72-e7ff-4d5b-9a28-99eaa381965b:167' labels=frozenset({'Entities'}) properties={'wikipediaExternalRef': 241154, 'wikidataId': 'Q371199', 'confidence_score': 0.719, 'offsetStart': 0, 'offsetEnd': 20, 'rawName': 'Cross-site scripting'}> size=4>>, <Record p=<Path start=<Node element_id='4:de342d72-e7ff-4d5b-9a28-99eaa381965b:1' labels=frozenset({'CVE'}) properties={'assigner': 'cna@sap.com', 'id': 'CVE-2023-0013'}> end=<Node element_id='4:de342d72-e7ff-4d5b-9a28-99eaa381965b:168' labels=frozenset({'Entities'}) properties={'wikipediaExternalRef': 241154, 'wikidataId': 'Q371199', 'confidence_score': 0.8255, 'offsetStart': 3130, 'offsetEnd': 3133, 'rawName': 'XSS'}> size=4>>, <Record p=<Path start=<Node element_id='4:de342d72-e7ff-4d5b-9a28-99eaa381965b:1' labels=frozenset({'CVE'}) properties={'assigner': 'cna@sap.com', 'id': 'CVE-2023-0013'}> end=<Node element_id='4:de342d72-e7ff-4d5b-9a28-99eaa381965b:195' labels=frozenset({'Entities'}) properties={'wikipediaExternalRef': 241154, 'wikidataId': 'Q371199', 'confidence_score': 0.5158, 'offsetStart': 1120, 'offsetEnd': 1133, 'rawName': 'Reflected XSS'}> size=4>>, <Record p=<Path start=<Node element_id='4:de342d72-e7ff-4d5b-9a28-99eaa381965b:1' labels=frozenset({'CVE'}) properties={'assigner': 'cna@sap.com', 'id': 'CVE-2023-0013'}> end=<Node element_id='4:de342d72-e7ff-4d5b-9a28-99eaa381965b:208' labels=frozenset({'Entities'}) properties={'wikipediaExternalRef': 241154, 'wikidataId': 'Q371199', 'confidence_score': 0.5158, 'offsetStart': 1769, 'offsetEnd': 1779, 'rawName': 'Stored XSS'}> size=4>>]\n"
          ]
        }
      ],
      "source": [
        "explore_reviews_csv_query = \"\"\"\n",
        "MATCH p=(cve:CVE)-[:PROBLEM_TYPE]->(problemType:ProblemType)-[:MAPPED_WITH]->(cwe:CWE)-[:MAPPED_WITH]->(cwedata:Extended_Descriptions)-[:HAS_ENTITY]->(Entities:Entities{wikidataId:\"Q371199\"})\n",
        "MERGE(Entities)<-[:VULNERABLE_TO]-(cve)\n",
        "MERGE (cve1:CVE{id:\"CVE-2023-0013\"})\n",
        "MERGE (cve2:CVE{id:\"CVE-2023-0015\"})\n",
        "MERGE (cve3:CVE{id:\"CVE-2023-0018\"})\n",
        "MERGE (cve4:CVE{id:\"CVE-2023-0028\"})\n",
        "MERGE (cve1)-[:SIMILAR_TO]->(cve2)\n",
        "MERGE (cve2)-[:SIMILAR_TO]->(cve3)\n",
        "MERGE (cve3)-[:SIMILAR_TO]->(cve4)\n",
        "RETURN p\n",
        "\n",
        "\"\"\"\n",
        "result = conn.query(explore_reviews_csv_query)\n",
        "print(result)"
      ]
    },
    {
      "cell_type": "code",
      "execution_count": 1058,
      "metadata": {
        "id": "CrsXkiEn-uY5",
        "colab": {
          "base_uri": "https://localhost:8080/"
        },
        "outputId": "5a7ad661-8ad7-4b7d-d3ab-d34924f9df09"
      },
      "outputs": [
        {
          "output_type": "stream",
          "name": "stdout",
          "text": [
            "[<Record p=<Path start=<Node element_id='4:de342d72-e7ff-4d5b-9a28-99eaa381965b:4' labels=frozenset({'CVE'}) properties={'assigner': 'cna@sap.com', 'id': 'CVE-2023-0016'}> end=<Node element_id='4:de342d72-e7ff-4d5b-9a28-99eaa381965b:262' labels=frozenset({'Entities'}) properties={'wikipediaExternalRef': 526999, 'wikidataId': 'Q506059', 'confidence_score': 0.9162, 'offsetStart': 1041, 'offsetEnd': 1054, 'rawName': 'SQL injection'}> size=4>>, <Record p=<Path start=<Node element_id='4:de342d72-e7ff-4d5b-9a28-99eaa381965b:7' labels=frozenset({'CVE'}) properties={'assigner': 'cna@sap.com', 'id': 'CVE-2023-0022'}> end=<Node element_id='4:de342d72-e7ff-4d5b-9a28-99eaa381965b:262' labels=frozenset({'Entities'}) properties={'wikipediaExternalRef': 526999, 'wikidataId': 'Q506059', 'confidence_score': 0.9162, 'offsetStart': 1041, 'offsetEnd': 1054, 'rawName': 'SQL injection'}> size=4>>]\n"
          ]
        }
      ],
      "source": [
        "explore_reviews_csv_query = \"\"\"\n",
        "MATCH p=(cve:CVE)-[:PROBLEM_TYPE]->(problemType:ProblemType)-[:MAPPED_WITH]->(cwe:CWE)-[:MAPPED_WITH]->(cwedata:Extended_Descriptions)-[:HAS_ENTITY]->(Entities:Entities{wikidataId:\"Q506059\"})\n",
        "MERGE (cve1:CVE{id:\"CVE-2023-0016\"})\n",
        "MERGE (cve2:CVE{id:\"CVE-2023-0022\"})\n",
        "MERGE (cve1)-[:SIMILAR_TO]->(cve2)\n",
        "RETURN p\n",
        "\n",
        "\"\"\"\n",
        "result = conn.query(explore_reviews_csv_query)\n",
        "print(result)"
      ]
    },
    {
      "cell_type": "code",
      "execution_count": 1059,
      "metadata": {
        "id": "Uaqmc-4zMBgq",
        "colab": {
          "base_uri": "https://localhost:8080/"
        },
        "outputId": "b05c76b1-6c5f-42da-e900-9a1da1ce3f73"
      },
      "outputs": [
        {
          "output_type": "stream",
          "name": "stdout",
          "text": [
            "[<Record p=<Path start=<Node element_id='4:de342d72-e7ff-4d5b-9a28-99eaa381965b:0' labels=frozenset({'CVE'}) properties={'assigner': 'cna@sap.com', 'id': 'CVE-2023-0012'}> end=<Node element_id='4:de342d72-e7ff-4d5b-9a28-99eaa381965b:322' labels=frozenset({'Entities'}) properties={'wikipediaExternalRef': 40684, 'wikidataId': 'Q228502', 'confidence_score': 0.4556, 'offsetStart': 947, 'offsetEnd': 961, 'rawName': 'access control'}> size=4>>, <Record p=<Path start=<Node element_id='4:de342d72-e7ff-4d5b-9a28-99eaa381965b:0' labels=frozenset({'CVE'}) properties={'assigner': 'cna@sap.com', 'id': 'CVE-2023-0012'}> end=<Node element_id='4:de342d72-e7ff-4d5b-9a28-99eaa381965b:314' labels=frozenset({'Entities'}) properties={'wikipediaExternalRef': 40684, 'wikidataId': 'Q228502', 'confidence_score': 0.6394, 'offsetStart': 0, 'offsetEnd': 14, 'rawName': 'Access control'}> size=4>>, <Record p=<Path start=<Node element_id='4:de342d72-e7ff-4d5b-9a28-99eaa381965b:5' labels=frozenset({'CVE'}) properties={'assigner': 'cna@sap.com', 'id': 'CVE-2023-0017'}> end=<Node element_id='4:de342d72-e7ff-4d5b-9a28-99eaa381965b:322' labels=frozenset({'Entities'}) properties={'wikipediaExternalRef': 40684, 'wikidataId': 'Q228502', 'confidence_score': 0.4556, 'offsetStart': 947, 'offsetEnd': 961, 'rawName': 'access control'}> size=4>>, <Record p=<Path start=<Node element_id='4:de342d72-e7ff-4d5b-9a28-99eaa381965b:5' labels=frozenset({'CVE'}) properties={'assigner': 'cna@sap.com', 'id': 'CVE-2023-0017'}> end=<Node element_id='4:de342d72-e7ff-4d5b-9a28-99eaa381965b:314' labels=frozenset({'Entities'}) properties={'wikipediaExternalRef': 40684, 'wikidataId': 'Q228502', 'confidence_score': 0.6394, 'offsetStart': 0, 'offsetEnd': 14, 'rawName': 'Access control'}> size=4>>]\n"
          ]
        }
      ],
      "source": [
        "explore_reviews_csv_query = \"\"\"\n",
        "MATCH p=(cve:CVE)-[:PROBLEM_TYPE]->(problemType:ProblemType)-[:MAPPED_WITH]->(cwe:CWE)-[:MAPPED_WITH]->(cwedata:Extended_Descriptions)-[:HAS_ENTITY]->(Entities:Entities{wikidataId:\"Q228502\"})\n",
        "MERGE (cve1:CVE{id:\"CVE-2023-0012\"})\n",
        "MERGE (cve2:CVE{id:\"CVE-2023-0017\"})\n",
        "MERGE (cve1)-[:SIMILAR_TO]->(cve2)\n",
        "RETURN p\n",
        "\n",
        "\"\"\"\n",
        "result = conn.query(explore_reviews_csv_query)\n",
        "print(result)"
      ]
    },
    {
      "cell_type": "code",
      "source": [
        "explore_reviews_csv_query = \"\"\"\n",
        "MATCH p=(cve:CVE)-[:PROBLEM_TYPE]->(problemType:ProblemType)-[:MAPPED_WITH]->(cwe:CWE)-[:MAPPED_WITH]->(cwedata:Extended_Descriptions)-[:HAS_ENTITY]->(Entities:Entities{wikidataId:\"Q2587068\"})\n",
        "MERGE (cve1:CVE{id:\"CVE-2023-0012\"})\n",
        "MERGE (cve2:CVE{id:\"CVE-2023-0017\"})\n",
        "MERGE (cve3:CVE{id:\"CVE-2023-0023\"})\n",
        "MERGE (cve1)-[:SIMILAR_TO]->(cve2)\n",
        "MERGE (cve2)-[:SIMILAR_TO]->(cve3)\n",
        "RETURN p\n",
        "\n",
        "\"\"\"\n",
        "result = conn.query(explore_reviews_csv_query)\n",
        "print(result)"
      ],
      "metadata": {
        "colab": {
          "base_uri": "https://localhost:8080/"
        },
        "id": "XlKhVJVnElwU",
        "outputId": "b1dbdec3-2988-4124-e95e-be334e49d287"
      },
      "execution_count": 1060,
      "outputs": [
        {
          "output_type": "stream",
          "name": "stdout",
          "text": [
            "[<Record p=<Path start=<Node element_id='4:de342d72-e7ff-4d5b-9a28-99eaa381965b:6' labels=frozenset({'CVE'}) properties={'assigner': 'cna@sap.com', 'id': 'CVE-2023-0018'}> end=<Node element_id='4:de342d72-e7ff-4d5b-9a28-99eaa381965b:216' labels=frozenset({'Entities'}) properties={'wikipediaExternalRef': 5316476, 'wikidataId': 'Q2587068', 'confidence_score': 0.4691, 'offsetStart': 2476, 'offsetEnd': 2490, 'rawName': 'sensitive data'}> size=4>>, <Record p=<Path start=<Node element_id='4:de342d72-e7ff-4d5b-9a28-99eaa381965b:9' labels=frozenset({'CVE'}) properties={'assigner': 'security@huntr.dev', 'id': 'CVE-2023-0028'}> end=<Node element_id='4:de342d72-e7ff-4d5b-9a28-99eaa381965b:216' labels=frozenset({'Entities'}) properties={'wikipediaExternalRef': 5316476, 'wikidataId': 'Q2587068', 'confidence_score': 0.4691, 'offsetStart': 2476, 'offsetEnd': 2490, 'rawName': 'sensitive data'}> size=4>>, <Record p=<Path start=<Node element_id='4:de342d72-e7ff-4d5b-9a28-99eaa381965b:3' labels=frozenset({'CVE'}) properties={'assigner': 'cna@sap.com', 'id': 'CVE-2023-0015'}> end=<Node element_id='4:de342d72-e7ff-4d5b-9a28-99eaa381965b:216' labels=frozenset({'Entities'}) properties={'wikipediaExternalRef': 5316476, 'wikidataId': 'Q2587068', 'confidence_score': 0.4691, 'offsetStart': 2476, 'offsetEnd': 2490, 'rawName': 'sensitive data'}> size=4>>, <Record p=<Path start=<Node element_id='4:de342d72-e7ff-4d5b-9a28-99eaa381965b:1' labels=frozenset({'CVE'}) properties={'assigner': 'cna@sap.com', 'id': 'CVE-2023-0013'}> end=<Node element_id='4:de342d72-e7ff-4d5b-9a28-99eaa381965b:216' labels=frozenset({'Entities'}) properties={'wikipediaExternalRef': 5316476, 'wikidataId': 'Q2587068', 'confidence_score': 0.4691, 'offsetStart': 2476, 'offsetEnd': 2490, 'rawName': 'sensitive data'}> size=4>>, <Record p=<Path start=<Node element_id='4:de342d72-e7ff-4d5b-9a28-99eaa381965b:8' labels=frozenset({'CVE'}) properties={'assigner': 'cna@sap.com', 'id': 'CVE-2023-0023'}> end=<Node element_id='4:de342d72-e7ff-4d5b-9a28-99eaa381965b:287' labels=frozenset({'Entities'}) properties={'wikipediaExternalRef': 5316476, 'wikidataId': 'Q2587068', 'confidence_score': 0.4076, 'offsetStart': 394, 'offsetEnd': 415, 'rawName': 'sensitive information'}> size=4>>, <Record p=<Path start=<Node element_id='4:de342d72-e7ff-4d5b-9a28-99eaa381965b:0' labels=frozenset({'CVE'}) properties={'assigner': 'cna@sap.com', 'id': 'CVE-2023-0012'}> end=<Node element_id='4:de342d72-e7ff-4d5b-9a28-99eaa381965b:287' labels=frozenset({'Entities'}) properties={'wikipediaExternalRef': 5316476, 'wikidataId': 'Q2587068', 'confidence_score': 0.4076, 'offsetStart': 394, 'offsetEnd': 415, 'rawName': 'sensitive information'}> size=4>>, <Record p=<Path start=<Node element_id='4:de342d72-e7ff-4d5b-9a28-99eaa381965b:5' labels=frozenset({'CVE'}) properties={'assigner': 'cna@sap.com', 'id': 'CVE-2023-0017'}> end=<Node element_id='4:de342d72-e7ff-4d5b-9a28-99eaa381965b:287' labels=frozenset({'Entities'}) properties={'wikipediaExternalRef': 5316476, 'wikidataId': 'Q2587068', 'confidence_score': 0.4076, 'offsetStart': 394, 'offsetEnd': 415, 'rawName': 'sensitive information'}> size=4>>]\n"
          ]
        }
      ]
    },
    {
      "cell_type": "markdown",
      "source": [
        "Each CVE is assigned a CVSS score to indicate its severity"
      ],
      "metadata": {
        "id": "3pbHVPmSPmk4"
      }
    },
    {
      "cell_type": "code",
      "source": [
        "explore_reviews_csv_query = \"\"\"\n",
        "MATCH p=(cve:CVE)-[:HAS_IMPACT]->(impact:IMPACT)-[:HAS_CVSSV3]->(cvssv3:CVSSV3)\n",
        "MERGE(cvssv3)-[:ASSIGNED_TO]->(cve)\n",
        "RETURN p\n",
        "\n",
        "\"\"\"\n",
        "result = conn.query(explore_reviews_csv_query)\n",
        "print(result)"
      ],
      "metadata": {
        "colab": {
          "base_uri": "https://localhost:8080/"
        },
        "id": "1iDsGbU_PZl-",
        "outputId": "d03b0552-ace3-4537-a26a-fe925080ad7b"
      },
      "execution_count": 1061,
      "outputs": [
        {
          "output_type": "stream",
          "name": "stdout",
          "text": [
            "[<Record p=<Path start=<Node element_id='4:de342d72-e7ff-4d5b-9a28-99eaa381965b:0' labels=frozenset({'CVE'}) properties={'assigner': 'cna@sap.com', 'id': 'CVE-2023-0012'}> end=<Node element_id='4:de342d72-e7ff-4d5b-9a28-99eaa381965b:54' labels=frozenset({'CVSSV3'}) properties={'baseSeverity': 'MEDIUM', 'confidentialityImpact': 'HIGH', 'scope': 'UNCHANGED', 'attackComplexity': 'LOW', 'attackVector': 'LOCAL', 'availabilityImpact': 'HIGH', 'integrityImpact': 'HIGH', 'privilegesRequired': 'HIGH', 'baseScore': 6.7, 'vectorString': 'CVSS:3.1/AV:L/AC:L/PR:H/UI:N/S:U/C:H/I:H/A:H', 'userInteraction': 'NONE', 'version': '3.1'}> size=2>>, <Record p=<Path start=<Node element_id='4:de342d72-e7ff-4d5b-9a28-99eaa381965b:1' labels=frozenset({'CVE'}) properties={'assigner': 'cna@sap.com', 'id': 'CVE-2023-0013'}> end=<Node element_id='4:de342d72-e7ff-4d5b-9a28-99eaa381965b:56' labels=frozenset({'CVSSV3'}) properties={'baseSeverity': 'MEDIUM', 'confidentialityImpact': 'LOW', 'scope': 'CHANGED', 'attackComplexity': 'LOW', 'attackVector': 'NETWORK', 'availabilityImpact': 'NONE', 'integrityImpact': 'LOW', 'privilegesRequired': 'NONE', 'baseScore': 6.1, 'vectorString': 'CVSS:3.1/AV:N/AC:L/PR:N/UI:R/S:C/C:L/I:L/A:N', 'version': '3.1', 'userInteraction': 'REQUIRED'}> size=2>>, <Record p=<Path start=<Node element_id='4:de342d72-e7ff-4d5b-9a28-99eaa381965b:2' labels=frozenset({'CVE'}) properties={'assigner': 'cna@sap.com', 'id': 'CVE-2023-0014'}> end=<Node element_id='4:de342d72-e7ff-4d5b-9a28-99eaa381965b:58' labels=frozenset({'CVSSV3'}) properties={'baseSeverity': 'CRITICAL', 'confidentialityImpact': 'HIGH', 'scope': 'UNCHANGED', 'attackComplexity': 'LOW', 'attackVector': 'NETWORK', 'availabilityImpact': 'HIGH', 'integrityImpact': 'HIGH', 'privilegesRequired': 'NONE', 'baseScore': 9.8, 'vectorString': 'CVSS:3.1/AV:N/AC:L/PR:N/UI:N/S:U/C:H/I:H/A:H', 'version': '3.1', 'userInteraction': 'NONE'}> size=2>>, <Record p=<Path start=<Node element_id='4:de342d72-e7ff-4d5b-9a28-99eaa381965b:3' labels=frozenset({'CVE'}) properties={'assigner': 'cna@sap.com', 'id': 'CVE-2023-0015'}> end=<Node element_id='4:de342d72-e7ff-4d5b-9a28-99eaa381965b:60' labels=frozenset({'CVSSV3'}) properties={'baseSeverity': 'MEDIUM', 'confidentialityImpact': 'LOW', 'scope': 'CHANGED', 'attackComplexity': 'LOW', 'attackVector': 'NETWORK', 'availabilityImpact': 'NONE', 'integrityImpact': 'LOW', 'privilegesRequired': 'LOW', 'baseScore': 5.4, 'vectorString': 'CVSS:3.1/AV:N/AC:L/PR:L/UI:R/S:C/C:L/I:L/A:N', 'version': '3.1', 'userInteraction': 'REQUIRED'}> size=2>>, <Record p=<Path start=<Node element_id='4:de342d72-e7ff-4d5b-9a28-99eaa381965b:4' labels=frozenset({'CVE'}) properties={'assigner': 'cna@sap.com', 'id': 'CVE-2023-0016'}> end=<Node element_id='4:de342d72-e7ff-4d5b-9a28-99eaa381965b:62' labels=frozenset({'CVSSV3'}) properties={'baseSeverity': 'HIGH', 'confidentialityImpact': 'HIGH', 'scope': 'UNCHANGED', 'attackComplexity': 'LOW', 'attackVector': 'NETWORK', 'availabilityImpact': 'HIGH', 'integrityImpact': 'HIGH', 'privilegesRequired': 'LOW', 'baseScore': 8.8, 'vectorString': 'CVSS:3.1/AV:N/AC:L/PR:L/UI:N/S:U/C:H/I:H/A:H', 'userInteraction': 'NONE', 'version': '3.1'}> size=2>>, <Record p=<Path start=<Node element_id='4:de342d72-e7ff-4d5b-9a28-99eaa381965b:5' labels=frozenset({'CVE'}) properties={'assigner': 'cna@sap.com', 'id': 'CVE-2023-0017'}> end=<Node element_id='4:de342d72-e7ff-4d5b-9a28-99eaa381965b:64' labels=frozenset({'CVSSV3'}) properties={'baseSeverity': 'CRITICAL', 'confidentialityImpact': 'HIGH', 'scope': 'UNCHANGED', 'attackComplexity': 'LOW', 'attackVector': 'NETWORK', 'availabilityImpact': 'HIGH', 'integrityImpact': 'HIGH', 'privilegesRequired': 'NONE', 'baseScore': 9.8, 'vectorString': 'CVSS:3.1/AV:N/AC:L/PR:N/UI:N/S:U/C:H/I:H/A:H', 'version': '3.1', 'userInteraction': 'NONE'}> size=2>>, <Record p=<Path start=<Node element_id='4:de342d72-e7ff-4d5b-9a28-99eaa381965b:6' labels=frozenset({'CVE'}) properties={'assigner': 'cna@sap.com', 'id': 'CVE-2023-0018'}> end=<Node element_id='4:de342d72-e7ff-4d5b-9a28-99eaa381965b:66' labels=frozenset({'CVSSV3'}) properties={'baseSeverity': 'MEDIUM', 'confidentialityImpact': 'LOW', 'scope': 'CHANGED', 'attackComplexity': 'LOW', 'attackVector': 'NETWORK', 'availabilityImpact': 'NONE', 'integrityImpact': 'LOW', 'privilegesRequired': 'NONE', 'baseScore': 6.1, 'vectorString': 'CVSS:3.1/AV:N/AC:L/PR:N/UI:R/S:C/C:L/I:L/A:N', 'version': '3.1', 'userInteraction': 'REQUIRED'}> size=2>>, <Record p=<Path start=<Node element_id='4:de342d72-e7ff-4d5b-9a28-99eaa381965b:7' labels=frozenset({'CVE'}) properties={'assigner': 'cna@sap.com', 'id': 'CVE-2023-0022'}> end=<Node element_id='4:de342d72-e7ff-4d5b-9a28-99eaa381965b:68' labels=frozenset({'CVSSV3'}) properties={'baseSeverity': 'HIGH', 'confidentialityImpact': 'HIGH', 'scope': 'UNCHANGED', 'attackComplexity': 'LOW', 'attackVector': 'NETWORK', 'availabilityImpact': 'HIGH', 'integrityImpact': 'HIGH', 'privilegesRequired': 'LOW', 'baseScore': 8.8, 'vectorString': 'CVSS:3.1/AV:N/AC:L/PR:L/UI:N/S:U/C:H/I:H/A:H', 'userInteraction': 'NONE', 'version': '3.1'}> size=2>>, <Record p=<Path start=<Node element_id='4:de342d72-e7ff-4d5b-9a28-99eaa381965b:8' labels=frozenset({'CVE'}) properties={'assigner': 'cna@sap.com', 'id': 'CVE-2023-0023'}> end=<Node element_id='4:de342d72-e7ff-4d5b-9a28-99eaa381965b:70' labels=frozenset({'CVSSV3'}) properties={'baseSeverity': 'MEDIUM', 'confidentialityImpact': 'HIGH', 'scope': 'UNCHANGED', 'attackComplexity': 'LOW', 'attackVector': 'NETWORK', 'availabilityImpact': 'NONE', 'integrityImpact': 'NONE', 'privilegesRequired': 'LOW', 'baseScore': 5.7, 'vectorString': 'CVSS:3.1/AV:N/AC:L/PR:L/UI:R/S:U/C:H/I:N/A:N', 'version': '3.1', 'userInteraction': 'REQUIRED'}> size=2>>, <Record p=<Path start=<Node element_id='4:de342d72-e7ff-4d5b-9a28-99eaa381965b:9' labels=frozenset({'CVE'}) properties={'assigner': 'security@huntr.dev', 'id': 'CVE-2023-0028'}> end=<Node element_id='4:de342d72-e7ff-4d5b-9a28-99eaa381965b:72' labels=frozenset({'CVSSV3'}) properties={'baseSeverity': 'MEDIUM', 'confidentialityImpact': 'LOW', 'scope': 'CHANGED', 'attackComplexity': 'LOW', 'attackVector': 'NETWORK', 'availabilityImpact': 'NONE', 'integrityImpact': 'LOW', 'privilegesRequired': 'NONE', 'baseScore': 6.1, 'vectorString': 'CVSS:3.1/AV:N/AC:L/PR:N/UI:R/S:C/C:L/I:L/A:N', 'version': '3.1', 'userInteraction': 'REQUIRED'}> size=2>>, <Record p=<Path start=<Node element_id='4:de342d72-e7ff-4d5b-9a28-99eaa381965b:10' labels=frozenset({'CVE'}) properties={'assigner': 'cna@vuldb.com', 'id': 'CVE-2023-0029'}> end=<Node element_id='4:de342d72-e7ff-4d5b-9a28-99eaa381965b:74' labels=frozenset({'CVSSV3'}) properties={'baseSeverity': 'HIGH', 'confidentialityImpact': 'NONE', 'scope': 'UNCHANGED', 'attackComplexity': 'LOW', 'attackVector': 'NETWORK', 'availabilityImpact': 'HIGH', 'integrityImpact': 'NONE', 'privilegesRequired': 'NONE', 'baseScore': 7.5, 'vectorString': 'CVSS:3.1/AV:N/AC:L/PR:N/UI:N/S:U/C:N/I:N/A:H', 'userInteraction': 'NONE', 'version': '3.1'}> size=2>>]\n"
          ]
        }
      ]
    },
    {
      "cell_type": "markdown",
      "source": [
        "**To evaluate the efficiency our KG by using question-answering to transform our questions into cypher queries and then we obtain relevant data as an answer**"
      ],
      "metadata": {
        "id": "N2Eo8LfjQ5DS"
      }
    },
    {
      "cell_type": "code",
      "source": [
        "# Q1 What are the weaknesses that lead to vulnerabilities?\n",
        "\n",
        "explore_reviews_csv_query = \"\"\"\n",
        "MATCH (cwe)-[:LEAD_TO]->(cve)\n",
        "RETURN cwe,cve\n",
        "\n",
        "\"\"\"\n",
        "result = conn.query(explore_reviews_csv_query)\n",
        "print(result)"
      ],
      "metadata": {
        "id": "X--4vLwH5w0n",
        "colab": {
          "base_uri": "https://localhost:8080/"
        },
        "outputId": "d6778734-33da-4bd1-c620-952dabe0cd9f"
      },
      "execution_count": 1062,
      "outputs": [
        {
          "output_type": "stream",
          "name": "stdout",
          "text": [
            "[<Record cwe=<Node element_id='4:de342d72-e7ff-4d5b-9a28-99eaa381965b:155' labels=frozenset({'CWE'}) properties={'weakness_abstraction': 'Base', 'cwe_id': '79', 'name': \"Improper Neutralization of Input During Web Page Generation ('Cross-site Scripting')\", 'description': 'The software does not neutralize or incorrectly neutralizes user-controllable input before it is placed in output that is used as a web page that is served to other users.', 'extended_description': \"Cross-site scripting (XSS) vulnerabilities occur when: 1. Untrusted data enters a web application, typically from a web request. 2. The web application dynamically generates a web page that contains this untrusted data. 3. During page generation, the application does not prevent the data from containing content that is executable by a web browser, such as JavaScript, HTML tags, HTML attributes, mouse events, Flash, ActiveX, etc. 4. A victim visits the generated web page through a web browser, which contains malicious script that was injected using the untrusted data. 5. Since the script comes from a web page that was sent by the web server, the victim's web browser executes the malicious script in the context of the web server's domain. 6. This effectively violates the intention of the web browser's same-origin policy, which states that scripts in one domain should not be able to access resources or run code in a different domain. There are three main kinds of XSS: Type 1: Reflected XSS (or Non-Persistent) - The server reads data directly from the HTTP request and reflects it back in the HTTP response. Reflected XSS exploits occur when an attacker causes a victim to supply dangerous content to a vulnerable web application, which is then reflected back to the victim and executed by the web browser. The most common mechanism for delivering malicious content is to include it as a parameter in a URL that is posted publicly or e-mailed directly to the victim. URLs constructed in this manner constitute the core of many phishing schemes, whereby an attacker convinces a victim to visit a URL that refers to a vulnerable site. After the site reflects the attacker's content back to the victim, the content is executed by the victim's browser. Type 2: Stored XSS (or Persistent) - The application stores dangerous data in a database, message forum, visitor log, or other trusted data store. At a later time, the dangerous data is subsequently read back into the application and included in dynamic content. From an attacker's perspective, the optimal place to inject malicious content is in an area that is displayed to either many users or particularly interesting users. Interesting users typically have elevated privileges in the application or interact with sensitive data that is valuable to the attacker. If one of these users executes malicious content, the attacker may be able to perform privileged operations on behalf of the user or gain access to sensitive data belonging to the user. For example, the attacker might inject XSS into a log message, which might not be handled properly when an administrator views the logs. Type 0: DOM-Based XSS - In DOM-based XSS, the client performs the injection of XSS into the page; in the other types, the server performs the injection. DOM-based XSS generally involves server-controlled, trusted script that is sent to the client, such as Javascript that performs sanity checks on a form before the user submits it. If the server-supplied script processes user-supplied data and then injects it back into the web page (such as with dynamic HTML), then DOM-based XSS is possible. Once the malicious script is injected, the attacker can perform a variety of malicious activities. The attacker could transfer private information, such as cookies that may include session information, from the victim's machine to the attacker. The attacker could send malicious requests to a web site on behalf of the victim, which could be especially dangerous to the site if the victim has administrator privileges to manage that site. Phishing attacks could be used to emulate trusted web sites and trick the victim into entering a password, allowing the attacker to compromise the victim's account on that web site. Finally, the script could exploit a vulnerability in the web browser itself possibly taking over the victim's machine, sometimes referred to as drive-by hacking. In many cases, the attack can be launched without the victim even being aware of it. Even with careful users, attackers frequently use a variety of methods to encode the malicious portion of the attack, such as URL encoding or Unicode, so the request looks less suspicious.\", 'status': 'Stable'}> cve=<Node element_id='4:de342d72-e7ff-4d5b-9a28-99eaa381965b:6' labels=frozenset({'CVE'}) properties={'assigner': 'cna@sap.com', 'id': 'CVE-2023-0018'}>>, <Record cwe=<Node element_id='4:de342d72-e7ff-4d5b-9a28-99eaa381965b:155' labels=frozenset({'CWE'}) properties={'weakness_abstraction': 'Base', 'cwe_id': '79', 'name': \"Improper Neutralization of Input During Web Page Generation ('Cross-site Scripting')\", 'description': 'The software does not neutralize or incorrectly neutralizes user-controllable input before it is placed in output that is used as a web page that is served to other users.', 'extended_description': \"Cross-site scripting (XSS) vulnerabilities occur when: 1. Untrusted data enters a web application, typically from a web request. 2. The web application dynamically generates a web page that contains this untrusted data. 3. During page generation, the application does not prevent the data from containing content that is executable by a web browser, such as JavaScript, HTML tags, HTML attributes, mouse events, Flash, ActiveX, etc. 4. A victim visits the generated web page through a web browser, which contains malicious script that was injected using the untrusted data. 5. Since the script comes from a web page that was sent by the web server, the victim's web browser executes the malicious script in the context of the web server's domain. 6. This effectively violates the intention of the web browser's same-origin policy, which states that scripts in one domain should not be able to access resources or run code in a different domain. There are three main kinds of XSS: Type 1: Reflected XSS (or Non-Persistent) - The server reads data directly from the HTTP request and reflects it back in the HTTP response. Reflected XSS exploits occur when an attacker causes a victim to supply dangerous content to a vulnerable web application, which is then reflected back to the victim and executed by the web browser. The most common mechanism for delivering malicious content is to include it as a parameter in a URL that is posted publicly or e-mailed directly to the victim. URLs constructed in this manner constitute the core of many phishing schemes, whereby an attacker convinces a victim to visit a URL that refers to a vulnerable site. After the site reflects the attacker's content back to the victim, the content is executed by the victim's browser. Type 2: Stored XSS (or Persistent) - The application stores dangerous data in a database, message forum, visitor log, or other trusted data store. At a later time, the dangerous data is subsequently read back into the application and included in dynamic content. From an attacker's perspective, the optimal place to inject malicious content is in an area that is displayed to either many users or particularly interesting users. Interesting users typically have elevated privileges in the application or interact with sensitive data that is valuable to the attacker. If one of these users executes malicious content, the attacker may be able to perform privileged operations on behalf of the user or gain access to sensitive data belonging to the user. For example, the attacker might inject XSS into a log message, which might not be handled properly when an administrator views the logs. Type 0: DOM-Based XSS - In DOM-based XSS, the client performs the injection of XSS into the page; in the other types, the server performs the injection. DOM-based XSS generally involves server-controlled, trusted script that is sent to the client, such as Javascript that performs sanity checks on a form before the user submits it. If the server-supplied script processes user-supplied data and then injects it back into the web page (such as with dynamic HTML), then DOM-based XSS is possible. Once the malicious script is injected, the attacker can perform a variety of malicious activities. The attacker could transfer private information, such as cookies that may include session information, from the victim's machine to the attacker. The attacker could send malicious requests to a web site on behalf of the victim, which could be especially dangerous to the site if the victim has administrator privileges to manage that site. Phishing attacks could be used to emulate trusted web sites and trick the victim into entering a password, allowing the attacker to compromise the victim's account on that web site. Finally, the script could exploit a vulnerability in the web browser itself possibly taking over the victim's machine, sometimes referred to as drive-by hacking. In many cases, the attack can be launched without the victim even being aware of it. Even with careful users, attackers frequently use a variety of methods to encode the malicious portion of the attack, such as URL encoding or Unicode, so the request looks less suspicious.\", 'status': 'Stable'}> cve=<Node element_id='4:de342d72-e7ff-4d5b-9a28-99eaa381965b:9' labels=frozenset({'CVE'}) properties={'assigner': 'security@huntr.dev', 'id': 'CVE-2023-0028'}>>, <Record cwe=<Node element_id='4:de342d72-e7ff-4d5b-9a28-99eaa381965b:155' labels=frozenset({'CWE'}) properties={'weakness_abstraction': 'Base', 'cwe_id': '79', 'name': \"Improper Neutralization of Input During Web Page Generation ('Cross-site Scripting')\", 'description': 'The software does not neutralize or incorrectly neutralizes user-controllable input before it is placed in output that is used as a web page that is served to other users.', 'extended_description': \"Cross-site scripting (XSS) vulnerabilities occur when: 1. Untrusted data enters a web application, typically from a web request. 2. The web application dynamically generates a web page that contains this untrusted data. 3. During page generation, the application does not prevent the data from containing content that is executable by a web browser, such as JavaScript, HTML tags, HTML attributes, mouse events, Flash, ActiveX, etc. 4. A victim visits the generated web page through a web browser, which contains malicious script that was injected using the untrusted data. 5. Since the script comes from a web page that was sent by the web server, the victim's web browser executes the malicious script in the context of the web server's domain. 6. This effectively violates the intention of the web browser's same-origin policy, which states that scripts in one domain should not be able to access resources or run code in a different domain. There are three main kinds of XSS: Type 1: Reflected XSS (or Non-Persistent) - The server reads data directly from the HTTP request and reflects it back in the HTTP response. Reflected XSS exploits occur when an attacker causes a victim to supply dangerous content to a vulnerable web application, which is then reflected back to the victim and executed by the web browser. The most common mechanism for delivering malicious content is to include it as a parameter in a URL that is posted publicly or e-mailed directly to the victim. URLs constructed in this manner constitute the core of many phishing schemes, whereby an attacker convinces a victim to visit a URL that refers to a vulnerable site. After the site reflects the attacker's content back to the victim, the content is executed by the victim's browser. Type 2: Stored XSS (or Persistent) - The application stores dangerous data in a database, message forum, visitor log, or other trusted data store. At a later time, the dangerous data is subsequently read back into the application and included in dynamic content. From an attacker's perspective, the optimal place to inject malicious content is in an area that is displayed to either many users or particularly interesting users. Interesting users typically have elevated privileges in the application or interact with sensitive data that is valuable to the attacker. If one of these users executes malicious content, the attacker may be able to perform privileged operations on behalf of the user or gain access to sensitive data belonging to the user. For example, the attacker might inject XSS into a log message, which might not be handled properly when an administrator views the logs. Type 0: DOM-Based XSS - In DOM-based XSS, the client performs the injection of XSS into the page; in the other types, the server performs the injection. DOM-based XSS generally involves server-controlled, trusted script that is sent to the client, such as Javascript that performs sanity checks on a form before the user submits it. If the server-supplied script processes user-supplied data and then injects it back into the web page (such as with dynamic HTML), then DOM-based XSS is possible. Once the malicious script is injected, the attacker can perform a variety of malicious activities. The attacker could transfer private information, such as cookies that may include session information, from the victim's machine to the attacker. The attacker could send malicious requests to a web site on behalf of the victim, which could be especially dangerous to the site if the victim has administrator privileges to manage that site. Phishing attacks could be used to emulate trusted web sites and trick the victim into entering a password, allowing the attacker to compromise the victim's account on that web site. Finally, the script could exploit a vulnerability in the web browser itself possibly taking over the victim's machine, sometimes referred to as drive-by hacking. In many cases, the attack can be launched without the victim even being aware of it. Even with careful users, attackers frequently use a variety of methods to encode the malicious portion of the attack, such as URL encoding or Unicode, so the request looks less suspicious.\", 'status': 'Stable'}> cve=<Node element_id='4:de342d72-e7ff-4d5b-9a28-99eaa381965b:3' labels=frozenset({'CVE'}) properties={'assigner': 'cna@sap.com', 'id': 'CVE-2023-0015'}>>, <Record cwe=<Node element_id='4:de342d72-e7ff-4d5b-9a28-99eaa381965b:155' labels=frozenset({'CWE'}) properties={'weakness_abstraction': 'Base', 'cwe_id': '79', 'name': \"Improper Neutralization of Input During Web Page Generation ('Cross-site Scripting')\", 'description': 'The software does not neutralize or incorrectly neutralizes user-controllable input before it is placed in output that is used as a web page that is served to other users.', 'extended_description': \"Cross-site scripting (XSS) vulnerabilities occur when: 1. Untrusted data enters a web application, typically from a web request. 2. The web application dynamically generates a web page that contains this untrusted data. 3. During page generation, the application does not prevent the data from containing content that is executable by a web browser, such as JavaScript, HTML tags, HTML attributes, mouse events, Flash, ActiveX, etc. 4. A victim visits the generated web page through a web browser, which contains malicious script that was injected using the untrusted data. 5. Since the script comes from a web page that was sent by the web server, the victim's web browser executes the malicious script in the context of the web server's domain. 6. This effectively violates the intention of the web browser's same-origin policy, which states that scripts in one domain should not be able to access resources or run code in a different domain. There are three main kinds of XSS: Type 1: Reflected XSS (or Non-Persistent) - The server reads data directly from the HTTP request and reflects it back in the HTTP response. Reflected XSS exploits occur when an attacker causes a victim to supply dangerous content to a vulnerable web application, which is then reflected back to the victim and executed by the web browser. The most common mechanism for delivering malicious content is to include it as a parameter in a URL that is posted publicly or e-mailed directly to the victim. URLs constructed in this manner constitute the core of many phishing schemes, whereby an attacker convinces a victim to visit a URL that refers to a vulnerable site. After the site reflects the attacker's content back to the victim, the content is executed by the victim's browser. Type 2: Stored XSS (or Persistent) - The application stores dangerous data in a database, message forum, visitor log, or other trusted data store. At a later time, the dangerous data is subsequently read back into the application and included in dynamic content. From an attacker's perspective, the optimal place to inject malicious content is in an area that is displayed to either many users or particularly interesting users. Interesting users typically have elevated privileges in the application or interact with sensitive data that is valuable to the attacker. If one of these users executes malicious content, the attacker may be able to perform privileged operations on behalf of the user or gain access to sensitive data belonging to the user. For example, the attacker might inject XSS into a log message, which might not be handled properly when an administrator views the logs. Type 0: DOM-Based XSS - In DOM-based XSS, the client performs the injection of XSS into the page; in the other types, the server performs the injection. DOM-based XSS generally involves server-controlled, trusted script that is sent to the client, such as Javascript that performs sanity checks on a form before the user submits it. If the server-supplied script processes user-supplied data and then injects it back into the web page (such as with dynamic HTML), then DOM-based XSS is possible. Once the malicious script is injected, the attacker can perform a variety of malicious activities. The attacker could transfer private information, such as cookies that may include session information, from the victim's machine to the attacker. The attacker could send malicious requests to a web site on behalf of the victim, which could be especially dangerous to the site if the victim has administrator privileges to manage that site. Phishing attacks could be used to emulate trusted web sites and trick the victim into entering a password, allowing the attacker to compromise the victim's account on that web site. Finally, the script could exploit a vulnerability in the web browser itself possibly taking over the victim's machine, sometimes referred to as drive-by hacking. In many cases, the attack can be launched without the victim even being aware of it. Even with careful users, attackers frequently use a variety of methods to encode the malicious portion of the attack, such as URL encoding or Unicode, so the request looks less suspicious.\", 'status': 'Stable'}> cve=<Node element_id='4:de342d72-e7ff-4d5b-9a28-99eaa381965b:1' labels=frozenset({'CVE'}) properties={'assigner': 'cna@sap.com', 'id': 'CVE-2023-0013'}>>, <Record cwe=<Node element_id='4:de342d72-e7ff-4d5b-9a28-99eaa381965b:156' labels=frozenset({'CWE'}) properties={'weakness_abstraction': 'Base', 'cwe_id': '89', 'name': \"Improper Neutralization of Special Elements used in an SQL Command ('SQL Injection')\", 'description': 'The software constructs all or part of an SQL command using externally-influenced input from an upstream component, but it does not neutralize or incorrectly neutralizes special elements that could modify the intended SQL command when it is sent to a downstream component.', 'extended_description': 'Without sufficient removal or quoting of SQL syntax in user-controllable inputs, the generated SQL query can cause those inputs to be interpreted as SQL instead of ordinary user data. This can be used to alter query logic to bypass security checks, or to insert additional statements that modify the back-end database, possibly including execution of system commands. SQL injection has become a common issue with database-driven web sites. The flaw is easily detected, and easily exploited, and as such, any site or software package with even a minimal user base is likely to be subject to an attempted attack of this kind. This flaw depends on the fact that SQL makes no real distinction between the control and data planes.', 'status': 'Stable'}> cve=<Node element_id='4:de342d72-e7ff-4d5b-9a28-99eaa381965b:4' labels=frozenset({'CVE'}) properties={'assigner': 'cna@sap.com', 'id': 'CVE-2023-0016'}>>, <Record cwe=<Node element_id='4:de342d72-e7ff-4d5b-9a28-99eaa381965b:157' labels=frozenset({'CWE'}) properties={'weakness_abstraction': 'Base', 'cwe_id': '94', 'name': \"Improper Control of Generation of Code ('Code Injection')\", 'description': 'The software constructs all or part of a code segment using externally-influenced input from an upstream component, but it does not neutralize or incorrectly neutralizes special elements that could modify the syntax or behavior of the intended code segment.', 'extended_description': \"When software allows a user's input to contain code syntax, it might be possible for an attacker to craft the code in such a way that it will alter the intended control flow of the software. Such an alteration could lead to arbitrary code execution. Injection problems encompass a wide variety of issues -- all mitigated in very different ways. For this reason, the most effective way to discuss these weaknesses is to note the distinct features which classify them as injection weaknesses. The most important issue to note is that all injection problems share one thing in common -- i.e., they allow for the injection of control plane data into the user-controlled data plane. This means that the execution of the process may be altered by sending code in through legitimate data channels, using no other mechanism. While buffer overflows, and many other flaws, involve the use of some further issue to gain execution, injection problems need only for the data to be parsed. The most classic instantiations of this category of weakness are SQL injection and format string vulnerabilities.\", 'status': 'Draft'}> cve=<Node element_id='4:de342d72-e7ff-4d5b-9a28-99eaa381965b:7' labels=frozenset({'CVE'}) properties={'assigner': 'cna@sap.com', 'id': 'CVE-2023-0022'}>>, <Record cwe=<Node element_id='4:de342d72-e7ff-4d5b-9a28-99eaa381965b:158' labels=frozenset({'CWE'}) properties={'weakness_abstraction': 'Class', 'cwe_id': '200', 'name': 'Exposure of Sensitive Information to an Unauthorized Actor', 'description': 'The product exposes sensitive information to an actor that is not explicitly authorized to have access to that information.', 'extended_description': \"There are many different kinds of mistakes that introduce information exposures. The severity of the error can range widely, depending on the context in which the product operates, the type of sensitive information that is revealed, and the benefits it may provide to an attacker. Some kinds of sensitive information include: private, personal information, such as personal messages, financial data, health records, geographic location, or contact details system status and environment, such as the operating system and installed packages business secrets and intellectual property network status and configuration the product's own code or internal state metadata, e.g. logging of connections or message headers indirect information, such as a discrepancy between two internal operations that can be observed by an outsider Information might be sensitive to different parties, each of which may have their own expectations for whether the information should be protected. These parties include: the product's own users people or organizations whose information is created or used by the product, even if they are not direct product users the product's administrators, including the admins of the system(s) and/or networks on which the product operates the developer Information exposures can occur in different ways: the code explicitly inserts sensitive information into resources that are made accessible to unauthorized actors a different weakness or mistake inadvertently makes the sensitive information available, such as a web script error revealing the full system path of the program\", 'status': 'Draft'}> cve=<Node element_id='4:de342d72-e7ff-4d5b-9a28-99eaa381965b:8' labels=frozenset({'CVE'}) properties={'assigner': 'cna@sap.com', 'id': 'CVE-2023-0023'}>>, <Record cwe=<Node element_id='4:de342d72-e7ff-4d5b-9a28-99eaa381965b:159' labels=frozenset({'CWE'}) properties={'weakness_abstraction': 'Pillar', 'cwe_id': '284', 'name': 'Improper Access Control', 'description': 'The software does not restrict or incorrectly restricts access to a resource from an unauthorized actor.', 'extended_description': 'Access control involves the use of several protection mechanisms such as: Authentication (proving the identity of an actor) Authorization (ensuring that a given actor can access a resource), and Accountability (tracking of activities that were performed) When any mechanism is not applied or otherwise fails, attackers can compromise the security of the software by gaining privileges, reading sensitive information, executing commands, evading detection, etc. There are two distinct behaviors that can introduce access control weaknesses: Specification: incorrect privileges, permissions, ownership, etc. are explicitly specified for either the user or the resource (for example, setting a password file to be world-writable, or giving administrator capabilities to a guest user). This action could be performed by the program or the administrator. Enforcement: the mechanism contains errors that prevent it from properly enforcing the specified access control requirements (e.g., allowing the user to specify their own privileges, or allowing a syntactically-incorrect ACL to produce insecure settings). This problem occurs within the program itself, in that it does not actually enforce the intended security policy that the administrator specifies.', 'status': 'Incomplete'}> cve=<Node element_id='4:de342d72-e7ff-4d5b-9a28-99eaa381965b:0' labels=frozenset({'CVE'}) properties={'assigner': 'cna@sap.com', 'id': 'CVE-2023-0012'}>>, <Record cwe=<Node element_id='4:de342d72-e7ff-4d5b-9a28-99eaa381965b:159' labels=frozenset({'CWE'}) properties={'weakness_abstraction': 'Pillar', 'cwe_id': '284', 'name': 'Improper Access Control', 'description': 'The software does not restrict or incorrectly restricts access to a resource from an unauthorized actor.', 'extended_description': 'Access control involves the use of several protection mechanisms such as: Authentication (proving the identity of an actor) Authorization (ensuring that a given actor can access a resource), and Accountability (tracking of activities that were performed) When any mechanism is not applied or otherwise fails, attackers can compromise the security of the software by gaining privileges, reading sensitive information, executing commands, evading detection, etc. There are two distinct behaviors that can introduce access control weaknesses: Specification: incorrect privileges, permissions, ownership, etc. are explicitly specified for either the user or the resource (for example, setting a password file to be world-writable, or giving administrator capabilities to a guest user). This action could be performed by the program or the administrator. Enforcement: the mechanism contains errors that prevent it from properly enforcing the specified access control requirements (e.g., allowing the user to specify their own privileges, or allowing a syntactically-incorrect ACL to produce insecure settings). This problem occurs within the program itself, in that it does not actually enforce the intended security policy that the administrator specifies.', 'status': 'Incomplete'}> cve=<Node element_id='4:de342d72-e7ff-4d5b-9a28-99eaa381965b:5' labels=frozenset({'CVE'}) properties={'assigner': 'cna@sap.com', 'id': 'CVE-2023-0017'}>>, <Record cwe=<Node element_id='4:de342d72-e7ff-4d5b-9a28-99eaa381965b:160' labels=frozenset({'CWE'}) properties={'weakness_abstraction': 'Base', 'cwe_id': '294', 'name': 'Authentication Bypass by Capture-replay', 'description': 'A capture-replay flaw exists when the design of the software makes it possible for a malicious user to sniff network traffic and bypass authentication by replaying it to the server in question to the same effect as the original message (or with minor changes).', 'extended_description': 'Capture-replay attacks are common and can be difficult to defeat without cryptography. They are a subset of network injection attacks that rely on observing previously-sent valid commands, then changing them slightly if necessary and resending the same commands to the server.', 'status': 'Incomplete'}> cve=<Node element_id='4:de342d72-e7ff-4d5b-9a28-99eaa381965b:2' labels=frozenset({'CVE'}) properties={'assigner': 'cna@sap.com', 'id': 'CVE-2023-0014'}>>]\n"
          ]
        }
      ]
    },
    {
      "cell_type": "code",
      "source": [
        "# Q2 What are the vulnerabilities that can be exploited by attackers to perform attacks?\n",
        "\n",
        "explore_reviews_csv_query = \"\"\"\n",
        "MATCH (Entities)<-[:VULNERABLE_TO]-(cve)\n",
        "RETURN cve,Entities\n",
        "\n",
        "\"\"\"\n",
        "result = conn.query(explore_reviews_csv_query)\n",
        "print(result)"
      ],
      "metadata": {
        "id": "a7mmqpL3_zGz",
        "colab": {
          "base_uri": "https://localhost:8080/"
        },
        "outputId": "586191e9-a826-4716-cc8f-9b12824200db"
      },
      "execution_count": 1063,
      "outputs": [
        {
          "output_type": "stream",
          "name": "stdout",
          "text": [
            "[<Record cve=<Node element_id='4:de342d72-e7ff-4d5b-9a28-99eaa381965b:225' labels=frozenset({'Entities'}) properties={'wikipediaExternalRef': 665909, 'wikidataId': 'Q245359', 'confidence_score': 0.3998, 'offsetStart': 116, 'offsetEnd': 125, 'rawName': 'injection'}> Entities=<Node element_id='4:de342d72-e7ff-4d5b-9a28-99eaa381965b:6' labels=frozenset({'CVE'}) properties={'assigner': 'cna@sap.com', 'id': 'CVE-2023-0018'}>>, <Record cve=<Node element_id='4:de342d72-e7ff-4d5b-9a28-99eaa381965b:225' labels=frozenset({'Entities'}) properties={'wikipediaExternalRef': 665909, 'wikidataId': 'Q245359', 'confidence_score': 0.3998, 'offsetStart': 116, 'offsetEnd': 125, 'rawName': 'injection'}> Entities=<Node element_id='4:de342d72-e7ff-4d5b-9a28-99eaa381965b:9' labels=frozenset({'CVE'}) properties={'assigner': 'security@huntr.dev', 'id': 'CVE-2023-0028'}>>, <Record cve=<Node element_id='4:de342d72-e7ff-4d5b-9a28-99eaa381965b:225' labels=frozenset({'Entities'}) properties={'wikipediaExternalRef': 665909, 'wikidataId': 'Q245359', 'confidence_score': 0.3998, 'offsetStart': 116, 'offsetEnd': 125, 'rawName': 'injection'}> Entities=<Node element_id='4:de342d72-e7ff-4d5b-9a28-99eaa381965b:3' labels=frozenset({'CVE'}) properties={'assigner': 'cna@sap.com', 'id': 'CVE-2023-0015'}>>, <Record cve=<Node element_id='4:de342d72-e7ff-4d5b-9a28-99eaa381965b:225' labels=frozenset({'Entities'}) properties={'wikipediaExternalRef': 665909, 'wikidataId': 'Q245359', 'confidence_score': 0.3998, 'offsetStart': 116, 'offsetEnd': 125, 'rawName': 'injection'}> Entities=<Node element_id='4:de342d72-e7ff-4d5b-9a28-99eaa381965b:1' labels=frozenset({'CVE'}) properties={'assigner': 'cna@sap.com', 'id': 'CVE-2023-0013'}>>, <Record cve=<Node element_id='4:de342d72-e7ff-4d5b-9a28-99eaa381965b:225' labels=frozenset({'Entities'}) properties={'wikipediaExternalRef': 665909, 'wikidataId': 'Q245359', 'confidence_score': 0.3998, 'offsetStart': 116, 'offsetEnd': 125, 'rawName': 'injection'}> Entities=<Node element_id='4:de342d72-e7ff-4d5b-9a28-99eaa381965b:7' labels=frozenset({'CVE'}) properties={'assigner': 'cna@sap.com', 'id': 'CVE-2023-0022'}>>, <Record cve=<Node element_id='4:de342d72-e7ff-4d5b-9a28-99eaa381965b:272' labels=frozenset({'Entities'}) properties={'wikipediaExternalRef': 665909, 'wikidataId': 'Q245359', 'confidence_score': 0.3998, 'offsetStart': 250, 'offsetEnd': 259, 'rawName': 'Injection'}> Entities=<Node element_id='4:de342d72-e7ff-4d5b-9a28-99eaa381965b:7' labels=frozenset({'CVE'}) properties={'assigner': 'cna@sap.com', 'id': 'CVE-2023-0022'}>>, <Record cve=<Node element_id='4:de342d72-e7ff-4d5b-9a28-99eaa381965b:225' labels=frozenset({'Entities'}) properties={'wikipediaExternalRef': 665909, 'wikidataId': 'Q245359', 'confidence_score': 0.3998, 'offsetStart': 116, 'offsetEnd': 125, 'rawName': 'injection'}> Entities=<Node element_id='4:de342d72-e7ff-4d5b-9a28-99eaa381965b:2' labels=frozenset({'CVE'}) properties={'assigner': 'cna@sap.com', 'id': 'CVE-2023-0014'}>>, <Record cve=<Node element_id='4:de342d72-e7ff-4d5b-9a28-99eaa381965b:216' labels=frozenset({'Entities'}) properties={'wikipediaExternalRef': 5316476, 'wikidataId': 'Q2587068', 'confidence_score': 0.4691, 'offsetStart': 2476, 'offsetEnd': 2490, 'rawName': 'sensitive data'}> Entities=<Node element_id='4:de342d72-e7ff-4d5b-9a28-99eaa381965b:6' labels=frozenset({'CVE'}) properties={'assigner': 'cna@sap.com', 'id': 'CVE-2023-0018'}>>, <Record cve=<Node element_id='4:de342d72-e7ff-4d5b-9a28-99eaa381965b:216' labels=frozenset({'Entities'}) properties={'wikipediaExternalRef': 5316476, 'wikidataId': 'Q2587068', 'confidence_score': 0.4691, 'offsetStart': 2476, 'offsetEnd': 2490, 'rawName': 'sensitive data'}> Entities=<Node element_id='4:de342d72-e7ff-4d5b-9a28-99eaa381965b:9' labels=frozenset({'CVE'}) properties={'assigner': 'security@huntr.dev', 'id': 'CVE-2023-0028'}>>, <Record cve=<Node element_id='4:de342d72-e7ff-4d5b-9a28-99eaa381965b:216' labels=frozenset({'Entities'}) properties={'wikipediaExternalRef': 5316476, 'wikidataId': 'Q2587068', 'confidence_score': 0.4691, 'offsetStart': 2476, 'offsetEnd': 2490, 'rawName': 'sensitive data'}> Entities=<Node element_id='4:de342d72-e7ff-4d5b-9a28-99eaa381965b:3' labels=frozenset({'CVE'}) properties={'assigner': 'cna@sap.com', 'id': 'CVE-2023-0015'}>>, <Record cve=<Node element_id='4:de342d72-e7ff-4d5b-9a28-99eaa381965b:216' labels=frozenset({'Entities'}) properties={'wikipediaExternalRef': 5316476, 'wikidataId': 'Q2587068', 'confidence_score': 0.4691, 'offsetStart': 2476, 'offsetEnd': 2490, 'rawName': 'sensitive data'}> Entities=<Node element_id='4:de342d72-e7ff-4d5b-9a28-99eaa381965b:1' labels=frozenset({'CVE'}) properties={'assigner': 'cna@sap.com', 'id': 'CVE-2023-0013'}>>, <Record cve=<Node element_id='4:de342d72-e7ff-4d5b-9a28-99eaa381965b:287' labels=frozenset({'Entities'}) properties={'wikipediaExternalRef': 5316476, 'wikidataId': 'Q2587068', 'confidence_score': 0.4076, 'offsetStart': 394, 'offsetEnd': 415, 'rawName': 'sensitive information'}> Entities=<Node element_id='4:de342d72-e7ff-4d5b-9a28-99eaa381965b:8' labels=frozenset({'CVE'}) properties={'assigner': 'cna@sap.com', 'id': 'CVE-2023-0023'}>>, <Record cve=<Node element_id='4:de342d72-e7ff-4d5b-9a28-99eaa381965b:287' labels=frozenset({'Entities'}) properties={'wikipediaExternalRef': 5316476, 'wikidataId': 'Q2587068', 'confidence_score': 0.4076, 'offsetStart': 394, 'offsetEnd': 415, 'rawName': 'sensitive information'}> Entities=<Node element_id='4:de342d72-e7ff-4d5b-9a28-99eaa381965b:0' labels=frozenset({'CVE'}) properties={'assigner': 'cna@sap.com', 'id': 'CVE-2023-0012'}>>, <Record cve=<Node element_id='4:de342d72-e7ff-4d5b-9a28-99eaa381965b:287' labels=frozenset({'Entities'}) properties={'wikipediaExternalRef': 5316476, 'wikidataId': 'Q2587068', 'confidence_score': 0.4076, 'offsetStart': 394, 'offsetEnd': 415, 'rawName': 'sensitive information'}> Entities=<Node element_id='4:de342d72-e7ff-4d5b-9a28-99eaa381965b:5' labels=frozenset({'CVE'}) properties={'assigner': 'cna@sap.com', 'id': 'CVE-2023-0017'}>>, <Record cve=<Node element_id='4:de342d72-e7ff-4d5b-9a28-99eaa381965b:322' labels=frozenset({'Entities'}) properties={'wikipediaExternalRef': 40684, 'wikidataId': 'Q228502', 'confidence_score': 0.4556, 'offsetStart': 947, 'offsetEnd': 961, 'rawName': 'access control'}> Entities=<Node element_id='4:de342d72-e7ff-4d5b-9a28-99eaa381965b:0' labels=frozenset({'CVE'}) properties={'assigner': 'cna@sap.com', 'id': 'CVE-2023-0012'}>>, <Record cve=<Node element_id='4:de342d72-e7ff-4d5b-9a28-99eaa381965b:314' labels=frozenset({'Entities'}) properties={'wikipediaExternalRef': 40684, 'wikidataId': 'Q228502', 'confidence_score': 0.6394, 'offsetStart': 0, 'offsetEnd': 14, 'rawName': 'Access control'}> Entities=<Node element_id='4:de342d72-e7ff-4d5b-9a28-99eaa381965b:0' labels=frozenset({'CVE'}) properties={'assigner': 'cna@sap.com', 'id': 'CVE-2023-0012'}>>, <Record cve=<Node element_id='4:de342d72-e7ff-4d5b-9a28-99eaa381965b:322' labels=frozenset({'Entities'}) properties={'wikipediaExternalRef': 40684, 'wikidataId': 'Q228502', 'confidence_score': 0.4556, 'offsetStart': 947, 'offsetEnd': 961, 'rawName': 'access control'}> Entities=<Node element_id='4:de342d72-e7ff-4d5b-9a28-99eaa381965b:5' labels=frozenset({'CVE'}) properties={'assigner': 'cna@sap.com', 'id': 'CVE-2023-0017'}>>, <Record cve=<Node element_id='4:de342d72-e7ff-4d5b-9a28-99eaa381965b:314' labels=frozenset({'Entities'}) properties={'wikipediaExternalRef': 40684, 'wikidataId': 'Q228502', 'confidence_score': 0.6394, 'offsetStart': 0, 'offsetEnd': 14, 'rawName': 'Access control'}> Entities=<Node element_id='4:de342d72-e7ff-4d5b-9a28-99eaa381965b:5' labels=frozenset({'CVE'}) properties={'assigner': 'cna@sap.com', 'id': 'CVE-2023-0017'}>>, <Record cve=<Node element_id='4:de342d72-e7ff-4d5b-9a28-99eaa381965b:167' labels=frozenset({'Entities'}) properties={'wikipediaExternalRef': 241154, 'wikidataId': 'Q371199', 'confidence_score': 0.719, 'offsetStart': 0, 'offsetEnd': 20, 'rawName': 'Cross-site scripting'}> Entities=<Node element_id='4:de342d72-e7ff-4d5b-9a28-99eaa381965b:6' labels=frozenset({'CVE'}) properties={'assigner': 'cna@sap.com', 'id': 'CVE-2023-0018'}>>, <Record cve=<Node element_id='4:de342d72-e7ff-4d5b-9a28-99eaa381965b:168' labels=frozenset({'Entities'}) properties={'wikipediaExternalRef': 241154, 'wikidataId': 'Q371199', 'confidence_score': 0.8255, 'offsetStart': 3130, 'offsetEnd': 3133, 'rawName': 'XSS'}> Entities=<Node element_id='4:de342d72-e7ff-4d5b-9a28-99eaa381965b:6' labels=frozenset({'CVE'}) properties={'assigner': 'cna@sap.com', 'id': 'CVE-2023-0018'}>>, <Record cve=<Node element_id='4:de342d72-e7ff-4d5b-9a28-99eaa381965b:195' labels=frozenset({'Entities'}) properties={'wikipediaExternalRef': 241154, 'wikidataId': 'Q371199', 'confidence_score': 0.5158, 'offsetStart': 1120, 'offsetEnd': 1133, 'rawName': 'Reflected XSS'}> Entities=<Node element_id='4:de342d72-e7ff-4d5b-9a28-99eaa381965b:6' labels=frozenset({'CVE'}) properties={'assigner': 'cna@sap.com', 'id': 'CVE-2023-0018'}>>, <Record cve=<Node element_id='4:de342d72-e7ff-4d5b-9a28-99eaa381965b:208' labels=frozenset({'Entities'}) properties={'wikipediaExternalRef': 241154, 'wikidataId': 'Q371199', 'confidence_score': 0.5158, 'offsetStart': 1769, 'offsetEnd': 1779, 'rawName': 'Stored XSS'}> Entities=<Node element_id='4:de342d72-e7ff-4d5b-9a28-99eaa381965b:6' labels=frozenset({'CVE'}) properties={'assigner': 'cna@sap.com', 'id': 'CVE-2023-0018'}>>, <Record cve=<Node element_id='4:de342d72-e7ff-4d5b-9a28-99eaa381965b:167' labels=frozenset({'Entities'}) properties={'wikipediaExternalRef': 241154, 'wikidataId': 'Q371199', 'confidence_score': 0.719, 'offsetStart': 0, 'offsetEnd': 20, 'rawName': 'Cross-site scripting'}> Entities=<Node element_id='4:de342d72-e7ff-4d5b-9a28-99eaa381965b:9' labels=frozenset({'CVE'}) properties={'assigner': 'security@huntr.dev', 'id': 'CVE-2023-0028'}>>, <Record cve=<Node element_id='4:de342d72-e7ff-4d5b-9a28-99eaa381965b:168' labels=frozenset({'Entities'}) properties={'wikipediaExternalRef': 241154, 'wikidataId': 'Q371199', 'confidence_score': 0.8255, 'offsetStart': 3130, 'offsetEnd': 3133, 'rawName': 'XSS'}> Entities=<Node element_id='4:de342d72-e7ff-4d5b-9a28-99eaa381965b:9' labels=frozenset({'CVE'}) properties={'assigner': 'security@huntr.dev', 'id': 'CVE-2023-0028'}>>, <Record cve=<Node element_id='4:de342d72-e7ff-4d5b-9a28-99eaa381965b:195' labels=frozenset({'Entities'}) properties={'wikipediaExternalRef': 241154, 'wikidataId': 'Q371199', 'confidence_score': 0.5158, 'offsetStart': 1120, 'offsetEnd': 1133, 'rawName': 'Reflected XSS'}> Entities=<Node element_id='4:de342d72-e7ff-4d5b-9a28-99eaa381965b:9' labels=frozenset({'CVE'}) properties={'assigner': 'security@huntr.dev', 'id': 'CVE-2023-0028'}>>, <Record cve=<Node element_id='4:de342d72-e7ff-4d5b-9a28-99eaa381965b:208' labels=frozenset({'Entities'}) properties={'wikipediaExternalRef': 241154, 'wikidataId': 'Q371199', 'confidence_score': 0.5158, 'offsetStart': 1769, 'offsetEnd': 1779, 'rawName': 'Stored XSS'}> Entities=<Node element_id='4:de342d72-e7ff-4d5b-9a28-99eaa381965b:9' labels=frozenset({'CVE'}) properties={'assigner': 'security@huntr.dev', 'id': 'CVE-2023-0028'}>>, <Record cve=<Node element_id='4:de342d72-e7ff-4d5b-9a28-99eaa381965b:167' labels=frozenset({'Entities'}) properties={'wikipediaExternalRef': 241154, 'wikidataId': 'Q371199', 'confidence_score': 0.719, 'offsetStart': 0, 'offsetEnd': 20, 'rawName': 'Cross-site scripting'}> Entities=<Node element_id='4:de342d72-e7ff-4d5b-9a28-99eaa381965b:3' labels=frozenset({'CVE'}) properties={'assigner': 'cna@sap.com', 'id': 'CVE-2023-0015'}>>, <Record cve=<Node element_id='4:de342d72-e7ff-4d5b-9a28-99eaa381965b:168' labels=frozenset({'Entities'}) properties={'wikipediaExternalRef': 241154, 'wikidataId': 'Q371199', 'confidence_score': 0.8255, 'offsetStart': 3130, 'offsetEnd': 3133, 'rawName': 'XSS'}> Entities=<Node element_id='4:de342d72-e7ff-4d5b-9a28-99eaa381965b:3' labels=frozenset({'CVE'}) properties={'assigner': 'cna@sap.com', 'id': 'CVE-2023-0015'}>>, <Record cve=<Node element_id='4:de342d72-e7ff-4d5b-9a28-99eaa381965b:195' labels=frozenset({'Entities'}) properties={'wikipediaExternalRef': 241154, 'wikidataId': 'Q371199', 'confidence_score': 0.5158, 'offsetStart': 1120, 'offsetEnd': 1133, 'rawName': 'Reflected XSS'}> Entities=<Node element_id='4:de342d72-e7ff-4d5b-9a28-99eaa381965b:3' labels=frozenset({'CVE'}) properties={'assigner': 'cna@sap.com', 'id': 'CVE-2023-0015'}>>, <Record cve=<Node element_id='4:de342d72-e7ff-4d5b-9a28-99eaa381965b:208' labels=frozenset({'Entities'}) properties={'wikipediaExternalRef': 241154, 'wikidataId': 'Q371199', 'confidence_score': 0.5158, 'offsetStart': 1769, 'offsetEnd': 1779, 'rawName': 'Stored XSS'}> Entities=<Node element_id='4:de342d72-e7ff-4d5b-9a28-99eaa381965b:3' labels=frozenset({'CVE'}) properties={'assigner': 'cna@sap.com', 'id': 'CVE-2023-0015'}>>, <Record cve=<Node element_id='4:de342d72-e7ff-4d5b-9a28-99eaa381965b:167' labels=frozenset({'Entities'}) properties={'wikipediaExternalRef': 241154, 'wikidataId': 'Q371199', 'confidence_score': 0.719, 'offsetStart': 0, 'offsetEnd': 20, 'rawName': 'Cross-site scripting'}> Entities=<Node element_id='4:de342d72-e7ff-4d5b-9a28-99eaa381965b:1' labels=frozenset({'CVE'}) properties={'assigner': 'cna@sap.com', 'id': 'CVE-2023-0013'}>>, <Record cve=<Node element_id='4:de342d72-e7ff-4d5b-9a28-99eaa381965b:168' labels=frozenset({'Entities'}) properties={'wikipediaExternalRef': 241154, 'wikidataId': 'Q371199', 'confidence_score': 0.8255, 'offsetStart': 3130, 'offsetEnd': 3133, 'rawName': 'XSS'}> Entities=<Node element_id='4:de342d72-e7ff-4d5b-9a28-99eaa381965b:1' labels=frozenset({'CVE'}) properties={'assigner': 'cna@sap.com', 'id': 'CVE-2023-0013'}>>, <Record cve=<Node element_id='4:de342d72-e7ff-4d5b-9a28-99eaa381965b:195' labels=frozenset({'Entities'}) properties={'wikipediaExternalRef': 241154, 'wikidataId': 'Q371199', 'confidence_score': 0.5158, 'offsetStart': 1120, 'offsetEnd': 1133, 'rawName': 'Reflected XSS'}> Entities=<Node element_id='4:de342d72-e7ff-4d5b-9a28-99eaa381965b:1' labels=frozenset({'CVE'}) properties={'assigner': 'cna@sap.com', 'id': 'CVE-2023-0013'}>>, <Record cve=<Node element_id='4:de342d72-e7ff-4d5b-9a28-99eaa381965b:208' labels=frozenset({'Entities'}) properties={'wikipediaExternalRef': 241154, 'wikidataId': 'Q371199', 'confidence_score': 0.5158, 'offsetStart': 1769, 'offsetEnd': 1779, 'rawName': 'Stored XSS'}> Entities=<Node element_id='4:de342d72-e7ff-4d5b-9a28-99eaa381965b:1' labels=frozenset({'CVE'}) properties={'assigner': 'cna@sap.com', 'id': 'CVE-2023-0013'}>>, <Record cve=<Node element_id='4:de342d72-e7ff-4d5b-9a28-99eaa381965b:239' labels=frozenset({'Entities'}) properties={'wikipediaExternalRef': 1129827, 'wikidataId': 'Q631425', 'confidence_score': 0.5174, 'offsetStart': 3804, 'offsetEnd': 3817, 'rawName': 'vulnerability'}> Entities=<Node element_id='4:de342d72-e7ff-4d5b-9a28-99eaa381965b:6' labels=frozenset({'CVE'}) properties={'assigner': 'cna@sap.com', 'id': 'CVE-2023-0018'}>>, <Record cve=<Node element_id='4:de342d72-e7ff-4d5b-9a28-99eaa381965b:169' labels=frozenset({'Entities'}) properties={'wikipediaExternalRef': 1129827, 'wikidataId': 'Q631425', 'confidence_score': 0.566, 'offsetStart': 27, 'offsetEnd': 42, 'rawName': 'vulnerabilities'}> Entities=<Node element_id='4:de342d72-e7ff-4d5b-9a28-99eaa381965b:6' labels=frozenset({'CVE'}) properties={'assigner': 'cna@sap.com', 'id': 'CVE-2023-0018'}>>, <Record cve=<Node element_id='4:de342d72-e7ff-4d5b-9a28-99eaa381965b:239' labels=frozenset({'Entities'}) properties={'wikipediaExternalRef': 1129827, 'wikidataId': 'Q631425', 'confidence_score': 0.5174, 'offsetStart': 3804, 'offsetEnd': 3817, 'rawName': 'vulnerability'}> Entities=<Node element_id='4:de342d72-e7ff-4d5b-9a28-99eaa381965b:9' labels=frozenset({'CVE'}) properties={'assigner': 'security@huntr.dev', 'id': 'CVE-2023-0028'}>>, <Record cve=<Node element_id='4:de342d72-e7ff-4d5b-9a28-99eaa381965b:169' labels=frozenset({'Entities'}) properties={'wikipediaExternalRef': 1129827, 'wikidataId': 'Q631425', 'confidence_score': 0.566, 'offsetStart': 27, 'offsetEnd': 42, 'rawName': 'vulnerabilities'}> Entities=<Node element_id='4:de342d72-e7ff-4d5b-9a28-99eaa381965b:9' labels=frozenset({'CVE'}) properties={'assigner': 'security@huntr.dev', 'id': 'CVE-2023-0028'}>>, <Record cve=<Node element_id='4:de342d72-e7ff-4d5b-9a28-99eaa381965b:239' labels=frozenset({'Entities'}) properties={'wikipediaExternalRef': 1129827, 'wikidataId': 'Q631425', 'confidence_score': 0.5174, 'offsetStart': 3804, 'offsetEnd': 3817, 'rawName': 'vulnerability'}> Entities=<Node element_id='4:de342d72-e7ff-4d5b-9a28-99eaa381965b:3' labels=frozenset({'CVE'}) properties={'assigner': 'cna@sap.com', 'id': 'CVE-2023-0015'}>>, <Record cve=<Node element_id='4:de342d72-e7ff-4d5b-9a28-99eaa381965b:169' labels=frozenset({'Entities'}) properties={'wikipediaExternalRef': 1129827, 'wikidataId': 'Q631425', 'confidence_score': 0.566, 'offsetStart': 27, 'offsetEnd': 42, 'rawName': 'vulnerabilities'}> Entities=<Node element_id='4:de342d72-e7ff-4d5b-9a28-99eaa381965b:3' labels=frozenset({'CVE'}) properties={'assigner': 'cna@sap.com', 'id': 'CVE-2023-0015'}>>, <Record cve=<Node element_id='4:de342d72-e7ff-4d5b-9a28-99eaa381965b:239' labels=frozenset({'Entities'}) properties={'wikipediaExternalRef': 1129827, 'wikidataId': 'Q631425', 'confidence_score': 0.5174, 'offsetStart': 3804, 'offsetEnd': 3817, 'rawName': 'vulnerability'}> Entities=<Node element_id='4:de342d72-e7ff-4d5b-9a28-99eaa381965b:1' labels=frozenset({'CVE'}) properties={'assigner': 'cna@sap.com', 'id': 'CVE-2023-0013'}>>, <Record cve=<Node element_id='4:de342d72-e7ff-4d5b-9a28-99eaa381965b:169' labels=frozenset({'Entities'}) properties={'wikipediaExternalRef': 1129827, 'wikidataId': 'Q631425', 'confidence_score': 0.566, 'offsetStart': 27, 'offsetEnd': 42, 'rawName': 'vulnerabilities'}> Entities=<Node element_id='4:de342d72-e7ff-4d5b-9a28-99eaa381965b:1' labels=frozenset({'CVE'}) properties={'assigner': 'cna@sap.com', 'id': 'CVE-2023-0013'}>>, <Record cve=<Node element_id='4:de342d72-e7ff-4d5b-9a28-99eaa381965b:177' labels=frozenset({'Entities'}) properties={'wikipediaExternalRef': 34973773, 'wikidataId': 'Q4976859', 'confidence_score': 0.5761, 'offsetStart': 558, 'offsetEnd': 567, 'rawName': 'untrusted'}> Entities=<Node element_id='4:de342d72-e7ff-4d5b-9a28-99eaa381965b:6' labels=frozenset({'CVE'}) properties={'assigner': 'cna@sap.com', 'id': 'CVE-2023-0018'}>>, <Record cve=<Node element_id='4:de342d72-e7ff-4d5b-9a28-99eaa381965b:170' labels=frozenset({'Entities'}) properties={'wikipediaExternalRef': 34973773, 'wikidataId': 'Q4976859', 'confidence_score': 0.5761, 'offsetStart': 58, 'offsetEnd': 67, 'rawName': 'Untrusted'}> Entities=<Node element_id='4:de342d72-e7ff-4d5b-9a28-99eaa381965b:6' labels=frozenset({'CVE'}) properties={'assigner': 'cna@sap.com', 'id': 'CVE-2023-0018'}>>, <Record cve=<Node element_id='4:de342d72-e7ff-4d5b-9a28-99eaa381965b:177' labels=frozenset({'Entities'}) properties={'wikipediaExternalRef': 34973773, 'wikidataId': 'Q4976859', 'confidence_score': 0.5761, 'offsetStart': 558, 'offsetEnd': 567, 'rawName': 'untrusted'}> Entities=<Node element_id='4:de342d72-e7ff-4d5b-9a28-99eaa381965b:9' labels=frozenset({'CVE'}) properties={'assigner': 'security@huntr.dev', 'id': 'CVE-2023-0028'}>>, <Record cve=<Node element_id='4:de342d72-e7ff-4d5b-9a28-99eaa381965b:170' labels=frozenset({'Entities'}) properties={'wikipediaExternalRef': 34973773, 'wikidataId': 'Q4976859', 'confidence_score': 0.5761, 'offsetStart': 58, 'offsetEnd': 67, 'rawName': 'Untrusted'}> Entities=<Node element_id='4:de342d72-e7ff-4d5b-9a28-99eaa381965b:9' labels=frozenset({'CVE'}) properties={'assigner': 'security@huntr.dev', 'id': 'CVE-2023-0028'}>>, <Record cve=<Node element_id='4:de342d72-e7ff-4d5b-9a28-99eaa381965b:177' labels=frozenset({'Entities'}) properties={'wikipediaExternalRef': 34973773, 'wikidataId': 'Q4976859', 'confidence_score': 0.5761, 'offsetStart': 558, 'offsetEnd': 567, 'rawName': 'untrusted'}> Entities=<Node element_id='4:de342d72-e7ff-4d5b-9a28-99eaa381965b:3' labels=frozenset({'CVE'}) properties={'assigner': 'cna@sap.com', 'id': 'CVE-2023-0015'}>>, <Record cve=<Node element_id='4:de342d72-e7ff-4d5b-9a28-99eaa381965b:170' labels=frozenset({'Entities'}) properties={'wikipediaExternalRef': 34973773, 'wikidataId': 'Q4976859', 'confidence_score': 0.5761, 'offsetStart': 58, 'offsetEnd': 67, 'rawName': 'Untrusted'}> Entities=<Node element_id='4:de342d72-e7ff-4d5b-9a28-99eaa381965b:3' labels=frozenset({'CVE'}) properties={'assigner': 'cna@sap.com', 'id': 'CVE-2023-0015'}>>, <Record cve=<Node element_id='4:de342d72-e7ff-4d5b-9a28-99eaa381965b:177' labels=frozenset({'Entities'}) properties={'wikipediaExternalRef': 34973773, 'wikidataId': 'Q4976859', 'confidence_score': 0.5761, 'offsetStart': 558, 'offsetEnd': 567, 'rawName': 'untrusted'}> Entities=<Node element_id='4:de342d72-e7ff-4d5b-9a28-99eaa381965b:1' labels=frozenset({'CVE'}) properties={'assigner': 'cna@sap.com', 'id': 'CVE-2023-0013'}>>, <Record cve=<Node element_id='4:de342d72-e7ff-4d5b-9a28-99eaa381965b:170' labels=frozenset({'Entities'}) properties={'wikipediaExternalRef': 34973773, 'wikidataId': 'Q4976859', 'confidence_score': 0.5761, 'offsetStart': 58, 'offsetEnd': 67, 'rawName': 'Untrusted'}> Entities=<Node element_id='4:de342d72-e7ff-4d5b-9a28-99eaa381965b:1' labels=frozenset({'CVE'}) properties={'assigner': 'cna@sap.com', 'id': 'CVE-2023-0013'}>>, <Record cve=<Node element_id='4:de342d72-e7ff-4d5b-9a28-99eaa381965b:173' labels=frozenset({'Entities'}) properties={'wikipediaExternalRef': 13443, 'wikidataId': 'Q8777', 'confidence_score': 0.6576, 'offsetStart': 116, 'offsetEnd': 127, 'rawName': 'web request'}> Entities=<Node element_id='4:de342d72-e7ff-4d5b-9a28-99eaa381965b:6' labels=frozenset({'CVE'}) properties={'assigner': 'cna@sap.com', 'id': 'CVE-2023-0018'}>>, <Record cve=<Node element_id='4:de342d72-e7ff-4d5b-9a28-99eaa381965b:197' labels=frozenset({'Entities'}) properties={'wikipediaExternalRef': 13443, 'wikidataId': 'Q8777', 'confidence_score': 0.8153, 'offsetStart': 1064, 'offsetEnd': 1076, 'rawName': 'HTTP request'}> Entities=<Node element_id='4:de342d72-e7ff-4d5b-9a28-99eaa381965b:6' labels=frozenset({'CVE'}) properties={'assigner': 'cna@sap.com', 'id': 'CVE-2023-0018'}>>, <Record cve=<Node element_id='4:de342d72-e7ff-4d5b-9a28-99eaa381965b:198' labels=frozenset({'Entities'}) properties={'wikipediaExternalRef': 13443, 'wikidataId': 'Q8777', 'confidence_score': 0.5927, 'offsetStart': 1105, 'offsetEnd': 1118, 'rawName': 'HTTP response'}> Entities=<Node element_id='4:de342d72-e7ff-4d5b-9a28-99eaa381965b:6' labels=frozenset({'CVE'}) properties={'assigner': 'cna@sap.com', 'id': 'CVE-2023-0018'}>>, <Record cve=<Node element_id='4:de342d72-e7ff-4d5b-9a28-99eaa381965b:173' labels=frozenset({'Entities'}) properties={'wikipediaExternalRef': 13443, 'wikidataId': 'Q8777', 'confidence_score': 0.6576, 'offsetStart': 116, 'offsetEnd': 127, 'rawName': 'web request'}> Entities=<Node element_id='4:de342d72-e7ff-4d5b-9a28-99eaa381965b:9' labels=frozenset({'CVE'}) properties={'assigner': 'security@huntr.dev', 'id': 'CVE-2023-0028'}>>, <Record cve=<Node element_id='4:de342d72-e7ff-4d5b-9a28-99eaa381965b:197' labels=frozenset({'Entities'}) properties={'wikipediaExternalRef': 13443, 'wikidataId': 'Q8777', 'confidence_score': 0.8153, 'offsetStart': 1064, 'offsetEnd': 1076, 'rawName': 'HTTP request'}> Entities=<Node element_id='4:de342d72-e7ff-4d5b-9a28-99eaa381965b:9' labels=frozenset({'CVE'}) properties={'assigner': 'security@huntr.dev', 'id': 'CVE-2023-0028'}>>, <Record cve=<Node element_id='4:de342d72-e7ff-4d5b-9a28-99eaa381965b:198' labels=frozenset({'Entities'}) properties={'wikipediaExternalRef': 13443, 'wikidataId': 'Q8777', 'confidence_score': 0.5927, 'offsetStart': 1105, 'offsetEnd': 1118, 'rawName': 'HTTP response'}> Entities=<Node element_id='4:de342d72-e7ff-4d5b-9a28-99eaa381965b:9' labels=frozenset({'CVE'}) properties={'assigner': 'security@huntr.dev', 'id': 'CVE-2023-0028'}>>, <Record cve=<Node element_id='4:de342d72-e7ff-4d5b-9a28-99eaa381965b:173' labels=frozenset({'Entities'}) properties={'wikipediaExternalRef': 13443, 'wikidataId': 'Q8777', 'confidence_score': 0.6576, 'offsetStart': 116, 'offsetEnd': 127, 'rawName': 'web request'}> Entities=<Node element_id='4:de342d72-e7ff-4d5b-9a28-99eaa381965b:3' labels=frozenset({'CVE'}) properties={'assigner': 'cna@sap.com', 'id': 'CVE-2023-0015'}>>, <Record cve=<Node element_id='4:de342d72-e7ff-4d5b-9a28-99eaa381965b:197' labels=frozenset({'Entities'}) properties={'wikipediaExternalRef': 13443, 'wikidataId': 'Q8777', 'confidence_score': 0.8153, 'offsetStart': 1064, 'offsetEnd': 1076, 'rawName': 'HTTP request'}> Entities=<Node element_id='4:de342d72-e7ff-4d5b-9a28-99eaa381965b:3' labels=frozenset({'CVE'}) properties={'assigner': 'cna@sap.com', 'id': 'CVE-2023-0015'}>>, <Record cve=<Node element_id='4:de342d72-e7ff-4d5b-9a28-99eaa381965b:198' labels=frozenset({'Entities'}) properties={'wikipediaExternalRef': 13443, 'wikidataId': 'Q8777', 'confidence_score': 0.5927, 'offsetStart': 1105, 'offsetEnd': 1118, 'rawName': 'HTTP response'}> Entities=<Node element_id='4:de342d72-e7ff-4d5b-9a28-99eaa381965b:3' labels=frozenset({'CVE'}) properties={'assigner': 'cna@sap.com', 'id': 'CVE-2023-0015'}>>, <Record cve=<Node element_id='4:de342d72-e7ff-4d5b-9a28-99eaa381965b:173' labels=frozenset({'Entities'}) properties={'wikipediaExternalRef': 13443, 'wikidataId': 'Q8777', 'confidence_score': 0.6576, 'offsetStart': 116, 'offsetEnd': 127, 'rawName': 'web request'}> Entities=<Node element_id='4:de342d72-e7ff-4d5b-9a28-99eaa381965b:1' labels=frozenset({'CVE'}) properties={'assigner': 'cna@sap.com', 'id': 'CVE-2023-0013'}>>, <Record cve=<Node element_id='4:de342d72-e7ff-4d5b-9a28-99eaa381965b:197' labels=frozenset({'Entities'}) properties={'wikipediaExternalRef': 13443, 'wikidataId': 'Q8777', 'confidence_score': 0.8153, 'offsetStart': 1064, 'offsetEnd': 1076, 'rawName': 'HTTP request'}> Entities=<Node element_id='4:de342d72-e7ff-4d5b-9a28-99eaa381965b:1' labels=frozenset({'CVE'}) properties={'assigner': 'cna@sap.com', 'id': 'CVE-2023-0013'}>>, <Record cve=<Node element_id='4:de342d72-e7ff-4d5b-9a28-99eaa381965b:198' labels=frozenset({'Entities'}) properties={'wikipediaExternalRef': 13443, 'wikidataId': 'Q8777', 'confidence_score': 0.5927, 'offsetStart': 1105, 'offsetEnd': 1118, 'rawName': 'HTTP response'}> Entities=<Node element_id='4:de342d72-e7ff-4d5b-9a28-99eaa381965b:1' labels=frozenset({'CVE'}) properties={'assigner': 'cna@sap.com', 'id': 'CVE-2023-0013'}>>, <Record cve=<Node element_id='4:de342d72-e7ff-4d5b-9a28-99eaa381965b:179' labels=frozenset({'Entities'}) properties={'wikipediaExternalRef': 33173, 'wikidataId': 'Q6368', 'confidence_score': 0.8945, 'offsetStart': 3825, 'offsetEnd': 3836, 'rawName': 'web browser'}> Entities=<Node element_id='4:de342d72-e7ff-4d5b-9a28-99eaa381965b:6' labels=frozenset({'CVE'}) properties={'assigner': 'cna@sap.com', 'id': 'CVE-2023-0018'}>>, <Record cve=<Node element_id='4:de342d72-e7ff-4d5b-9a28-99eaa381965b:191' labels=frozenset({'Entities'}) properties={'wikipediaExternalRef': 33173, 'wikidataId': 'Q6368', 'confidence_score': 0.6034, 'offsetStart': 797, 'offsetEnd': 810, 'rawName': \"web browser's\"}> Entities=<Node element_id='4:de342d72-e7ff-4d5b-9a28-99eaa381965b:6' labels=frozenset({'CVE'}) properties={'assigner': 'cna@sap.com', 'id': 'CVE-2023-0018'}>>, <Record cve=<Node element_id='4:de342d72-e7ff-4d5b-9a28-99eaa381965b:206' labels=frozenset({'Entities'}) properties={'wikipediaExternalRef': 33173, 'wikidataId': 'Q6368', 'confidence_score': 0.6292, 'offsetStart': 1752, 'offsetEnd': 1759, 'rawName': 'browser'}> Entities=<Node element_id='4:de342d72-e7ff-4d5b-9a28-99eaa381965b:6' labels=frozenset({'CVE'}) properties={'assigner': 'cna@sap.com', 'id': 'CVE-2023-0018'}>>, <Record cve=<Node element_id='4:de342d72-e7ff-4d5b-9a28-99eaa381965b:179' labels=frozenset({'Entities'}) properties={'wikipediaExternalRef': 33173, 'wikidataId': 'Q6368', 'confidence_score': 0.8945, 'offsetStart': 3825, 'offsetEnd': 3836, 'rawName': 'web browser'}> Entities=<Node element_id='4:de342d72-e7ff-4d5b-9a28-99eaa381965b:9' labels=frozenset({'CVE'}) properties={'assigner': 'security@huntr.dev', 'id': 'CVE-2023-0028'}>>, <Record cve=<Node element_id='4:de342d72-e7ff-4d5b-9a28-99eaa381965b:191' labels=frozenset({'Entities'}) properties={'wikipediaExternalRef': 33173, 'wikidataId': 'Q6368', 'confidence_score': 0.6034, 'offsetStart': 797, 'offsetEnd': 810, 'rawName': \"web browser's\"}> Entities=<Node element_id='4:de342d72-e7ff-4d5b-9a28-99eaa381965b:9' labels=frozenset({'CVE'}) properties={'assigner': 'security@huntr.dev', 'id': 'CVE-2023-0028'}>>, <Record cve=<Node element_id='4:de342d72-e7ff-4d5b-9a28-99eaa381965b:206' labels=frozenset({'Entities'}) properties={'wikipediaExternalRef': 33173, 'wikidataId': 'Q6368', 'confidence_score': 0.6292, 'offsetStart': 1752, 'offsetEnd': 1759, 'rawName': 'browser'}> Entities=<Node element_id='4:de342d72-e7ff-4d5b-9a28-99eaa381965b:9' labels=frozenset({'CVE'}) properties={'assigner': 'security@huntr.dev', 'id': 'CVE-2023-0028'}>>, <Record cve=<Node element_id='4:de342d72-e7ff-4d5b-9a28-99eaa381965b:179' labels=frozenset({'Entities'}) properties={'wikipediaExternalRef': 33173, 'wikidataId': 'Q6368', 'confidence_score': 0.8945, 'offsetStart': 3825, 'offsetEnd': 3836, 'rawName': 'web browser'}> Entities=<Node element_id='4:de342d72-e7ff-4d5b-9a28-99eaa381965b:3' labels=frozenset({'CVE'}) properties={'assigner': 'cna@sap.com', 'id': 'CVE-2023-0015'}>>, <Record cve=<Node element_id='4:de342d72-e7ff-4d5b-9a28-99eaa381965b:191' labels=frozenset({'Entities'}) properties={'wikipediaExternalRef': 33173, 'wikidataId': 'Q6368', 'confidence_score': 0.6034, 'offsetStart': 797, 'offsetEnd': 810, 'rawName': \"web browser's\"}> Entities=<Node element_id='4:de342d72-e7ff-4d5b-9a28-99eaa381965b:3' labels=frozenset({'CVE'}) properties={'assigner': 'cna@sap.com', 'id': 'CVE-2023-0015'}>>, <Record cve=<Node element_id='4:de342d72-e7ff-4d5b-9a28-99eaa381965b:206' labels=frozenset({'Entities'}) properties={'wikipediaExternalRef': 33173, 'wikidataId': 'Q6368', 'confidence_score': 0.6292, 'offsetStart': 1752, 'offsetEnd': 1759, 'rawName': 'browser'}> Entities=<Node element_id='4:de342d72-e7ff-4d5b-9a28-99eaa381965b:3' labels=frozenset({'CVE'}) properties={'assigner': 'cna@sap.com', 'id': 'CVE-2023-0015'}>>, <Record cve=<Node element_id='4:de342d72-e7ff-4d5b-9a28-99eaa381965b:179' labels=frozenset({'Entities'}) properties={'wikipediaExternalRef': 33173, 'wikidataId': 'Q6368', 'confidence_score': 0.8945, 'offsetStart': 3825, 'offsetEnd': 3836, 'rawName': 'web browser'}> Entities=<Node element_id='4:de342d72-e7ff-4d5b-9a28-99eaa381965b:1' labels=frozenset({'CVE'}) properties={'assigner': 'cna@sap.com', 'id': 'CVE-2023-0013'}>>, <Record cve=<Node element_id='4:de342d72-e7ff-4d5b-9a28-99eaa381965b:191' labels=frozenset({'Entities'}) properties={'wikipediaExternalRef': 33173, 'wikidataId': 'Q6368', 'confidence_score': 0.6034, 'offsetStart': 797, 'offsetEnd': 810, 'rawName': \"web browser's\"}> Entities=<Node element_id='4:de342d72-e7ff-4d5b-9a28-99eaa381965b:1' labels=frozenset({'CVE'}) properties={'assigner': 'cna@sap.com', 'id': 'CVE-2023-0013'}>>, <Record cve=<Node element_id='4:de342d72-e7ff-4d5b-9a28-99eaa381965b:206' labels=frozenset({'Entities'}) properties={'wikipediaExternalRef': 33173, 'wikidataId': 'Q6368', 'confidence_score': 0.6292, 'offsetStart': 1752, 'offsetEnd': 1759, 'rawName': 'browser'}> Entities=<Node element_id='4:de342d72-e7ff-4d5b-9a28-99eaa381965b:1' labels=frozenset({'CVE'}) properties={'assigner': 'cna@sap.com', 'id': 'CVE-2023-0013'}>>, <Record cve=<Node element_id='4:de342d72-e7ff-4d5b-9a28-99eaa381965b:226' labels=frozenset({'Entities'}) properties={'wikipediaExternalRef': 9845, 'wikidataId': 'Q2005', 'confidence_score': 0.6657, 'offsetStart': 2907, 'offsetEnd': 2917, 'rawName': 'Javascript'}> Entities=<Node element_id='4:de342d72-e7ff-4d5b-9a28-99eaa381965b:6' labels=frozenset({'CVE'}) properties={'assigner': 'cna@sap.com', 'id': 'CVE-2023-0018'}>>, <Record cve=<Node element_id='4:de342d72-e7ff-4d5b-9a28-99eaa381965b:180' labels=frozenset({'Entities'}) properties={'wikipediaExternalRef': 9845, 'wikidataId': 'Q2005', 'confidence_score': 0.915, 'offsetStart': 358, 'offsetEnd': 368, 'rawName': 'JavaScript'}> Entities=<Node element_id='4:de342d72-e7ff-4d5b-9a28-99eaa381965b:6' labels=frozenset({'CVE'}) properties={'assigner': 'cna@sap.com', 'id': 'CVE-2023-0018'}>>, <Record cve=<Node element_id='4:de342d72-e7ff-4d5b-9a28-99eaa381965b:226' labels=frozenset({'Entities'}) properties={'wikipediaExternalRef': 9845, 'wikidataId': 'Q2005', 'confidence_score': 0.6657, 'offsetStart': 2907, 'offsetEnd': 2917, 'rawName': 'Javascript'}> Entities=<Node element_id='4:de342d72-e7ff-4d5b-9a28-99eaa381965b:9' labels=frozenset({'CVE'}) properties={'assigner': 'security@huntr.dev', 'id': 'CVE-2023-0028'}>>, <Record cve=<Node element_id='4:de342d72-e7ff-4d5b-9a28-99eaa381965b:180' labels=frozenset({'Entities'}) properties={'wikipediaExternalRef': 9845, 'wikidataId': 'Q2005', 'confidence_score': 0.915, 'offsetStart': 358, 'offsetEnd': 368, 'rawName': 'JavaScript'}> Entities=<Node element_id='4:de342d72-e7ff-4d5b-9a28-99eaa381965b:9' labels=frozenset({'CVE'}) properties={'assigner': 'security@huntr.dev', 'id': 'CVE-2023-0028'}>>, <Record cve=<Node element_id='4:de342d72-e7ff-4d5b-9a28-99eaa381965b:226' labels=frozenset({'Entities'}) properties={'wikipediaExternalRef': 9845, 'wikidataId': 'Q2005', 'confidence_score': 0.6657, 'offsetStart': 2907, 'offsetEnd': 2917, 'rawName': 'Javascript'}> Entities=<Node element_id='4:de342d72-e7ff-4d5b-9a28-99eaa381965b:3' labels=frozenset({'CVE'}) properties={'assigner': 'cna@sap.com', 'id': 'CVE-2023-0015'}>>, <Record cve=<Node element_id='4:de342d72-e7ff-4d5b-9a28-99eaa381965b:180' labels=frozenset({'Entities'}) properties={'wikipediaExternalRef': 9845, 'wikidataId': 'Q2005', 'confidence_score': 0.915, 'offsetStart': 358, 'offsetEnd': 368, 'rawName': 'JavaScript'}> Entities=<Node element_id='4:de342d72-e7ff-4d5b-9a28-99eaa381965b:3' labels=frozenset({'CVE'}) properties={'assigner': 'cna@sap.com', 'id': 'CVE-2023-0015'}>>, <Record cve=<Node element_id='4:de342d72-e7ff-4d5b-9a28-99eaa381965b:226' labels=frozenset({'Entities'}) properties={'wikipediaExternalRef': 9845, 'wikidataId': 'Q2005', 'confidence_score': 0.6657, 'offsetStart': 2907, 'offsetEnd': 2917, 'rawName': 'Javascript'}> Entities=<Node element_id='4:de342d72-e7ff-4d5b-9a28-99eaa381965b:1' labels=frozenset({'CVE'}) properties={'assigner': 'cna@sap.com', 'id': 'CVE-2023-0013'}>>, <Record cve=<Node element_id='4:de342d72-e7ff-4d5b-9a28-99eaa381965b:180' labels=frozenset({'Entities'}) properties={'wikipediaExternalRef': 9845, 'wikidataId': 'Q2005', 'confidence_score': 0.915, 'offsetStart': 358, 'offsetEnd': 368, 'rawName': 'JavaScript'}> Entities=<Node element_id='4:de342d72-e7ff-4d5b-9a28-99eaa381965b:1' labels=frozenset({'CVE'}) properties={'assigner': 'cna@sap.com', 'id': 'CVE-2023-0013'}>>, <Record cve=<Node element_id='4:de342d72-e7ff-4d5b-9a28-99eaa381965b:187' labels=frozenset({'Entities'}) properties={'wikipediaExternalRef': 1065470, 'wikidataId': 'Q2920753', 'confidence_score': 0.5029, 'offsetStart': 3176, 'offsetEnd': 3184, 'rawName': 'injected'}> Entities=<Node element_id='4:de342d72-e7ff-4d5b-9a28-99eaa381965b:6' labels=frozenset({'CVE'}) properties={'assigner': 'cna@sap.com', 'id': 'CVE-2023-0018'}>>, <Record cve=<Node element_id='4:de342d72-e7ff-4d5b-9a28-99eaa381965b:213' labels=frozenset({'Entities'}) properties={'wikipediaExternalRef': 1065470, 'wikidataId': 'Q2920753', 'confidence_score': 0.3694, 'offsetStart': 2546, 'offsetEnd': 2552, 'rawName': 'inject'}> Entities=<Node element_id='4:de342d72-e7ff-4d5b-9a28-99eaa381965b:6' labels=frozenset({'CVE'}) properties={'assigner': 'cna@sap.com', 'id': 'CVE-2023-0018'}>>, <Record cve=<Node element_id='4:de342d72-e7ff-4d5b-9a28-99eaa381965b:187' labels=frozenset({'Entities'}) properties={'wikipediaExternalRef': 1065470, 'wikidataId': 'Q2920753', 'confidence_score': 0.5029, 'offsetStart': 3176, 'offsetEnd': 3184, 'rawName': 'injected'}> Entities=<Node element_id='4:de342d72-e7ff-4d5b-9a28-99eaa381965b:9' labels=frozenset({'CVE'}) properties={'assigner': 'security@huntr.dev', 'id': 'CVE-2023-0028'}>>, <Record cve=<Node element_id='4:de342d72-e7ff-4d5b-9a28-99eaa381965b:213' labels=frozenset({'Entities'}) properties={'wikipediaExternalRef': 1065470, 'wikidataId': 'Q2920753', 'confidence_score': 0.3694, 'offsetStart': 2546, 'offsetEnd': 2552, 'rawName': 'inject'}> Entities=<Node element_id='4:de342d72-e7ff-4d5b-9a28-99eaa381965b:9' labels=frozenset({'CVE'}) properties={'assigner': 'security@huntr.dev', 'id': 'CVE-2023-0028'}>>, <Record cve=<Node element_id='4:de342d72-e7ff-4d5b-9a28-99eaa381965b:187' labels=frozenset({'Entities'}) properties={'wikipediaExternalRef': 1065470, 'wikidataId': 'Q2920753', 'confidence_score': 0.5029, 'offsetStart': 3176, 'offsetEnd': 3184, 'rawName': 'injected'}> Entities=<Node element_id='4:de342d72-e7ff-4d5b-9a28-99eaa381965b:3' labels=frozenset({'CVE'}) properties={'assigner': 'cna@sap.com', 'id': 'CVE-2023-0015'}>>, <Record cve=<Node element_id='4:de342d72-e7ff-4d5b-9a28-99eaa381965b:213' labels=frozenset({'Entities'}) properties={'wikipediaExternalRef': 1065470, 'wikidataId': 'Q2920753', 'confidence_score': 0.3694, 'offsetStart': 2546, 'offsetEnd': 2552, 'rawName': 'inject'}> Entities=<Node element_id='4:de342d72-e7ff-4d5b-9a28-99eaa381965b:3' labels=frozenset({'CVE'}) properties={'assigner': 'cna@sap.com', 'id': 'CVE-2023-0015'}>>, <Record cve=<Node element_id='4:de342d72-e7ff-4d5b-9a28-99eaa381965b:187' labels=frozenset({'Entities'}) properties={'wikipediaExternalRef': 1065470, 'wikidataId': 'Q2920753', 'confidence_score': 0.5029, 'offsetStart': 3176, 'offsetEnd': 3184, 'rawName': 'injected'}> Entities=<Node element_id='4:de342d72-e7ff-4d5b-9a28-99eaa381965b:1' labels=frozenset({'CVE'}) properties={'assigner': 'cna@sap.com', 'id': 'CVE-2023-0013'}>>, <Record cve=<Node element_id='4:de342d72-e7ff-4d5b-9a28-99eaa381965b:213' labels=frozenset({'Entities'}) properties={'wikipediaExternalRef': 1065470, 'wikidataId': 'Q2920753', 'confidence_score': 0.3694, 'offsetStart': 2546, 'offsetEnd': 2552, 'rawName': 'inject'}> Entities=<Node element_id='4:de342d72-e7ff-4d5b-9a28-99eaa381965b:1' labels=frozenset({'CVE'}) properties={'assigner': 'cna@sap.com', 'id': 'CVE-2023-0013'}>>, <Record cve=<Node element_id='4:de342d72-e7ff-4d5b-9a28-99eaa381965b:238' labels=frozenset({'Entities'}) properties={'wikipediaExternalRef': 9875, 'wikidataId': 'Q11287', 'confidence_score': 0.5059, 'offsetStart': 3794, 'offsetEnd': 3801, 'rawName': 'exploit'}> Entities=<Node element_id='4:de342d72-e7ff-4d5b-9a28-99eaa381965b:6' labels=frozenset({'CVE'}) properties={'assigner': 'cna@sap.com', 'id': 'CVE-2023-0018'}>>, <Record cve=<Node element_id='4:de342d72-e7ff-4d5b-9a28-99eaa381965b:199' labels=frozenset({'Entities'}) properties={'wikipediaExternalRef': 9875, 'wikidataId': 'Q11287', 'confidence_score': 0.5021, 'offsetStart': 1134, 'offsetEnd': 1142, 'rawName': 'exploits'}> Entities=<Node element_id='4:de342d72-e7ff-4d5b-9a28-99eaa381965b:6' labels=frozenset({'CVE'}) properties={'assigner': 'cna@sap.com', 'id': 'CVE-2023-0018'}>>, <Record cve=<Node element_id='4:de342d72-e7ff-4d5b-9a28-99eaa381965b:238' labels=frozenset({'Entities'}) properties={'wikipediaExternalRef': 9875, 'wikidataId': 'Q11287', 'confidence_score': 0.5059, 'offsetStart': 3794, 'offsetEnd': 3801, 'rawName': 'exploit'}> Entities=<Node element_id='4:de342d72-e7ff-4d5b-9a28-99eaa381965b:9' labels=frozenset({'CVE'}) properties={'assigner': 'security@huntr.dev', 'id': 'CVE-2023-0028'}>>, <Record cve=<Node element_id='4:de342d72-e7ff-4d5b-9a28-99eaa381965b:199' labels=frozenset({'Entities'}) properties={'wikipediaExternalRef': 9875, 'wikidataId': 'Q11287', 'confidence_score': 0.5021, 'offsetStart': 1134, 'offsetEnd': 1142, 'rawName': 'exploits'}> Entities=<Node element_id='4:de342d72-e7ff-4d5b-9a28-99eaa381965b:9' labels=frozenset({'CVE'}) properties={'assigner': 'security@huntr.dev', 'id': 'CVE-2023-0028'}>>, <Record cve=<Node element_id='4:de342d72-e7ff-4d5b-9a28-99eaa381965b:238' labels=frozenset({'Entities'}) properties={'wikipediaExternalRef': 9875, 'wikidataId': 'Q11287', 'confidence_score': 0.5059, 'offsetStart': 3794, 'offsetEnd': 3801, 'rawName': 'exploit'}> Entities=<Node element_id='4:de342d72-e7ff-4d5b-9a28-99eaa381965b:3' labels=frozenset({'CVE'}) properties={'assigner': 'cna@sap.com', 'id': 'CVE-2023-0015'}>>, <Record cve=<Node element_id='4:de342d72-e7ff-4d5b-9a28-99eaa381965b:199' labels=frozenset({'Entities'}) properties={'wikipediaExternalRef': 9875, 'wikidataId': 'Q11287', 'confidence_score': 0.5021, 'offsetStart': 1134, 'offsetEnd': 1142, 'rawName': 'exploits'}> Entities=<Node element_id='4:de342d72-e7ff-4d5b-9a28-99eaa381965b:3' labels=frozenset({'CVE'}) properties={'assigner': 'cna@sap.com', 'id': 'CVE-2023-0015'}>>, <Record cve=<Node element_id='4:de342d72-e7ff-4d5b-9a28-99eaa381965b:238' labels=frozenset({'Entities'}) properties={'wikipediaExternalRef': 9875, 'wikidataId': 'Q11287', 'confidence_score': 0.5059, 'offsetStart': 3794, 'offsetEnd': 3801, 'rawName': 'exploit'}> Entities=<Node element_id='4:de342d72-e7ff-4d5b-9a28-99eaa381965b:1' labels=frozenset({'CVE'}) properties={'assigner': 'cna@sap.com', 'id': 'CVE-2023-0013'}>>, <Record cve=<Node element_id='4:de342d72-e7ff-4d5b-9a28-99eaa381965b:199' labels=frozenset({'Entities'}) properties={'wikipediaExternalRef': 9875, 'wikidataId': 'Q11287', 'confidence_score': 0.5021, 'offsetStart': 1134, 'offsetEnd': 1142, 'rawName': 'exploits'}> Entities=<Node element_id='4:de342d72-e7ff-4d5b-9a28-99eaa381965b:1' labels=frozenset({'CVE'}) properties={'assigner': 'cna@sap.com', 'id': 'CVE-2023-0013'}>>, <Record cve=<Node element_id='4:de342d72-e7ff-4d5b-9a28-99eaa381965b:202' labels=frozenset({'Entities'}) properties={'wikipediaExternalRef': 47817022, 'confidence_score': 0.8269, 'wikidataId': 'Q42253', 'offsetStart': 1607, 'offsetEnd': 1610, 'rawName': 'URL'}> Entities=<Node element_id='4:de342d72-e7ff-4d5b-9a28-99eaa381965b:6' labels=frozenset({'CVE'}) properties={'assigner': 'cna@sap.com', 'id': 'CVE-2023-0018'}>>, <Record cve=<Node element_id='4:de342d72-e7ff-4d5b-9a28-99eaa381965b:204' labels=frozenset({'Entities'}) properties={'wikipediaExternalRef': 47817022, 'confidence_score': 0.6707, 'wikidataId': 'Q42253', 'offsetStart': 1479, 'offsetEnd': 1483, 'rawName': 'URLs'}> Entities=<Node element_id='4:de342d72-e7ff-4d5b-9a28-99eaa381965b:6' labels=frozenset({'CVE'}) properties={'assigner': 'cna@sap.com', 'id': 'CVE-2023-0018'}>>, <Record cve=<Node element_id='4:de342d72-e7ff-4d5b-9a28-99eaa381965b:202' labels=frozenset({'Entities'}) properties={'wikipediaExternalRef': 47817022, 'confidence_score': 0.8269, 'wikidataId': 'Q42253', 'offsetStart': 1607, 'offsetEnd': 1610, 'rawName': 'URL'}> Entities=<Node element_id='4:de342d72-e7ff-4d5b-9a28-99eaa381965b:9' labels=frozenset({'CVE'}) properties={'assigner': 'security@huntr.dev', 'id': 'CVE-2023-0028'}>>, <Record cve=<Node element_id='4:de342d72-e7ff-4d5b-9a28-99eaa381965b:204' labels=frozenset({'Entities'}) properties={'wikipediaExternalRef': 47817022, 'confidence_score': 0.6707, 'wikidataId': 'Q42253', 'offsetStart': 1479, 'offsetEnd': 1483, 'rawName': 'URLs'}> Entities=<Node element_id='4:de342d72-e7ff-4d5b-9a28-99eaa381965b:9' labels=frozenset({'CVE'}) properties={'assigner': 'security@huntr.dev', 'id': 'CVE-2023-0028'}>>, <Record cve=<Node element_id='4:de342d72-e7ff-4d5b-9a28-99eaa381965b:202' labels=frozenset({'Entities'}) properties={'wikipediaExternalRef': 47817022, 'confidence_score': 0.8269, 'wikidataId': 'Q42253', 'offsetStart': 1607, 'offsetEnd': 1610, 'rawName': 'URL'}> Entities=<Node element_id='4:de342d72-e7ff-4d5b-9a28-99eaa381965b:3' labels=frozenset({'CVE'}) properties={'assigner': 'cna@sap.com', 'id': 'CVE-2023-0015'}>>, <Record cve=<Node element_id='4:de342d72-e7ff-4d5b-9a28-99eaa381965b:204' labels=frozenset({'Entities'}) properties={'wikipediaExternalRef': 47817022, 'confidence_score': 0.6707, 'wikidataId': 'Q42253', 'offsetStart': 1479, 'offsetEnd': 1483, 'rawName': 'URLs'}> Entities=<Node element_id='4:de342d72-e7ff-4d5b-9a28-99eaa381965b:3' labels=frozenset({'CVE'}) properties={'assigner': 'cna@sap.com', 'id': 'CVE-2023-0015'}>>, <Record cve=<Node element_id='4:de342d72-e7ff-4d5b-9a28-99eaa381965b:202' labels=frozenset({'Entities'}) properties={'wikipediaExternalRef': 47817022, 'confidence_score': 0.8269, 'wikidataId': 'Q42253', 'offsetStart': 1607, 'offsetEnd': 1610, 'rawName': 'URL'}> Entities=<Node element_id='4:de342d72-e7ff-4d5b-9a28-99eaa381965b:1' labels=frozenset({'CVE'}) properties={'assigner': 'cna@sap.com', 'id': 'CVE-2023-0013'}>>, <Record cve=<Node element_id='4:de342d72-e7ff-4d5b-9a28-99eaa381965b:204' labels=frozenset({'Entities'}) properties={'wikipediaExternalRef': 47817022, 'confidence_score': 0.6707, 'wikidataId': 'Q42253', 'offsetStart': 1479, 'offsetEnd': 1483, 'rawName': 'URLs'}> Entities=<Node element_id='4:de342d72-e7ff-4d5b-9a28-99eaa381965b:1' labels=frozenset({'CVE'}) properties={'assigner': 'cna@sap.com', 'id': 'CVE-2023-0013'}>>, <Record cve=<Node element_id='4:de342d72-e7ff-4d5b-9a28-99eaa381965b:234' labels=frozenset({'Entities'}) properties={'wikipediaExternalRef': 428364, 'wikidataId': 'Q135005', 'confidence_score': 0.4603, 'offsetStart': 3586, 'offsetEnd': 3602, 'rawName': 'Phishing attacks'}> Entities=<Node element_id='4:de342d72-e7ff-4d5b-9a28-99eaa381965b:6' labels=frozenset({'CVE'}) properties={'assigner': 'cna@sap.com', 'id': 'CVE-2023-0018'}>>, <Record cve=<Node element_id='4:de342d72-e7ff-4d5b-9a28-99eaa381965b:205' labels=frozenset({'Entities'}) properties={'wikipediaExternalRef': 428364, 'wikidataId': 'Q135005', 'confidence_score': 0.9026, 'offsetStart': 1539, 'offsetEnd': 1547, 'rawName': 'phishing'}> Entities=<Node element_id='4:de342d72-e7ff-4d5b-9a28-99eaa381965b:6' labels=frozenset({'CVE'}) properties={'assigner': 'cna@sap.com', 'id': 'CVE-2023-0018'}>>, <Record cve=<Node element_id='4:de342d72-e7ff-4d5b-9a28-99eaa381965b:234' labels=frozenset({'Entities'}) properties={'wikipediaExternalRef': 428364, 'wikidataId': 'Q135005', 'confidence_score': 0.4603, 'offsetStart': 3586, 'offsetEnd': 3602, 'rawName': 'Phishing attacks'}> Entities=<Node element_id='4:de342d72-e7ff-4d5b-9a28-99eaa381965b:9' labels=frozenset({'CVE'}) properties={'assigner': 'security@huntr.dev', 'id': 'CVE-2023-0028'}>>, <Record cve=<Node element_id='4:de342d72-e7ff-4d5b-9a28-99eaa381965b:205' labels=frozenset({'Entities'}) properties={'wikipediaExternalRef': 428364, 'wikidataId': 'Q135005', 'confidence_score': 0.9026, 'offsetStart': 1539, 'offsetEnd': 1547, 'rawName': 'phishing'}> Entities=<Node element_id='4:de342d72-e7ff-4d5b-9a28-99eaa381965b:9' labels=frozenset({'CVE'}) properties={'assigner': 'security@huntr.dev', 'id': 'CVE-2023-0028'}>>, <Record cve=<Node element_id='4:de342d72-e7ff-4d5b-9a28-99eaa381965b:234' labels=frozenset({'Entities'}) properties={'wikipediaExternalRef': 428364, 'wikidataId': 'Q135005', 'confidence_score': 0.4603, 'offsetStart': 3586, 'offsetEnd': 3602, 'rawName': 'Phishing attacks'}> Entities=<Node element_id='4:de342d72-e7ff-4d5b-9a28-99eaa381965b:3' labels=frozenset({'CVE'}) properties={'assigner': 'cna@sap.com', 'id': 'CVE-2023-0015'}>>, <Record cve=<Node element_id='4:de342d72-e7ff-4d5b-9a28-99eaa381965b:205' labels=frozenset({'Entities'}) properties={'wikipediaExternalRef': 428364, 'wikidataId': 'Q135005', 'confidence_score': 0.9026, 'offsetStart': 1539, 'offsetEnd': 1547, 'rawName': 'phishing'}> Entities=<Node element_id='4:de342d72-e7ff-4d5b-9a28-99eaa381965b:3' labels=frozenset({'CVE'}) properties={'assigner': 'cna@sap.com', 'id': 'CVE-2023-0015'}>>, <Record cve=<Node element_id='4:de342d72-e7ff-4d5b-9a28-99eaa381965b:234' labels=frozenset({'Entities'}) properties={'wikipediaExternalRef': 428364, 'wikidataId': 'Q135005', 'confidence_score': 0.4603, 'offsetStart': 3586, 'offsetEnd': 3602, 'rawName': 'Phishing attacks'}> Entities=<Node element_id='4:de342d72-e7ff-4d5b-9a28-99eaa381965b:1' labels=frozenset({'CVE'}) properties={'assigner': 'cna@sap.com', 'id': 'CVE-2023-0013'}>>, <Record cve=<Node element_id='4:de342d72-e7ff-4d5b-9a28-99eaa381965b:205' labels=frozenset({'Entities'}) properties={'wikipediaExternalRef': 428364, 'wikidataId': 'Q135005', 'confidence_score': 0.9026, 'offsetStart': 1539, 'offsetEnd': 1547, 'rawName': 'phishing'}> Entities=<Node element_id='4:de342d72-e7ff-4d5b-9a28-99eaa381965b:1' labels=frozenset({'CVE'}) properties={'assigner': 'cna@sap.com', 'id': 'CVE-2023-0013'}>>, <Record cve=<Node element_id='4:de342d72-e7ff-4d5b-9a28-99eaa381965b:236' labels=frozenset({'Entities'}) properties={'wikipediaExternalRef': 33898, 'wikidataId': 'Q35127', 'confidence_score': 0.4046, 'offsetStart': 429, 'offsetEnd': 438, 'rawName': 'web sites'}> Entities=<Node element_id='4:de342d72-e7ff-4d5b-9a28-99eaa381965b:6' labels=frozenset({'CVE'}) properties={'assigner': 'cna@sap.com', 'id': 'CVE-2023-0018'}>>, <Record cve=<Node element_id='4:de342d72-e7ff-4d5b-9a28-99eaa381965b:232' labels=frozenset({'Entities'}) properties={'wikipediaExternalRef': 33898, 'wikidataId': 'Q35127', 'confidence_score': 0.5084, 'offsetStart': 3758, 'offsetEnd': 3766, 'rawName': 'web site'}> Entities=<Node element_id='4:de342d72-e7ff-4d5b-9a28-99eaa381965b:6' labels=frozenset({'CVE'}) properties={'assigner': 'cna@sap.com', 'id': 'CVE-2023-0018'}>>, <Record cve=<Node element_id='4:de342d72-e7ff-4d5b-9a28-99eaa381965b:236' labels=frozenset({'Entities'}) properties={'wikipediaExternalRef': 33898, 'wikidataId': 'Q35127', 'confidence_score': 0.4046, 'offsetStart': 429, 'offsetEnd': 438, 'rawName': 'web sites'}> Entities=<Node element_id='4:de342d72-e7ff-4d5b-9a28-99eaa381965b:9' labels=frozenset({'CVE'}) properties={'assigner': 'security@huntr.dev', 'id': 'CVE-2023-0028'}>>, <Record cve=<Node element_id='4:de342d72-e7ff-4d5b-9a28-99eaa381965b:232' labels=frozenset({'Entities'}) properties={'wikipediaExternalRef': 33898, 'wikidataId': 'Q35127', 'confidence_score': 0.5084, 'offsetStart': 3758, 'offsetEnd': 3766, 'rawName': 'web site'}> Entities=<Node element_id='4:de342d72-e7ff-4d5b-9a28-99eaa381965b:9' labels=frozenset({'CVE'}) properties={'assigner': 'security@huntr.dev', 'id': 'CVE-2023-0028'}>>, <Record cve=<Node element_id='4:de342d72-e7ff-4d5b-9a28-99eaa381965b:236' labels=frozenset({'Entities'}) properties={'wikipediaExternalRef': 33898, 'wikidataId': 'Q35127', 'confidence_score': 0.4046, 'offsetStart': 429, 'offsetEnd': 438, 'rawName': 'web sites'}> Entities=<Node element_id='4:de342d72-e7ff-4d5b-9a28-99eaa381965b:3' labels=frozenset({'CVE'}) properties={'assigner': 'cna@sap.com', 'id': 'CVE-2023-0015'}>>, <Record cve=<Node element_id='4:de342d72-e7ff-4d5b-9a28-99eaa381965b:232' labels=frozenset({'Entities'}) properties={'wikipediaExternalRef': 33898, 'wikidataId': 'Q35127', 'confidence_score': 0.5084, 'offsetStart': 3758, 'offsetEnd': 3766, 'rawName': 'web site'}> Entities=<Node element_id='4:de342d72-e7ff-4d5b-9a28-99eaa381965b:3' labels=frozenset({'CVE'}) properties={'assigner': 'cna@sap.com', 'id': 'CVE-2023-0015'}>>, <Record cve=<Node element_id='4:de342d72-e7ff-4d5b-9a28-99eaa381965b:236' labels=frozenset({'Entities'}) properties={'wikipediaExternalRef': 33898, 'wikidataId': 'Q35127', 'confidence_score': 0.4046, 'offsetStart': 429, 'offsetEnd': 438, 'rawName': 'web sites'}> Entities=<Node element_id='4:de342d72-e7ff-4d5b-9a28-99eaa381965b:1' labels=frozenset({'CVE'}) properties={'assigner': 'cna@sap.com', 'id': 'CVE-2023-0013'}>>, <Record cve=<Node element_id='4:de342d72-e7ff-4d5b-9a28-99eaa381965b:232' labels=frozenset({'Entities'}) properties={'wikipediaExternalRef': 33898, 'wikidataId': 'Q35127', 'confidence_score': 0.5084, 'offsetStart': 3758, 'offsetEnd': 3766, 'rawName': 'web site'}> Entities=<Node element_id='4:de342d72-e7ff-4d5b-9a28-99eaa381965b:1' labels=frozenset({'CVE'}) properties={'assigner': 'cna@sap.com', 'id': 'CVE-2023-0013'}>>, <Record cve=<Node element_id='4:de342d72-e7ff-4d5b-9a28-99eaa381965b:236' labels=frozenset({'Entities'}) properties={'wikipediaExternalRef': 33898, 'wikidataId': 'Q35127', 'confidence_score': 0.4046, 'offsetStart': 429, 'offsetEnd': 438, 'rawName': 'web sites'}> Entities=<Node element_id='4:de342d72-e7ff-4d5b-9a28-99eaa381965b:4' labels=frozenset({'CVE'}) properties={'assigner': 'cna@sap.com', 'id': 'CVE-2023-0016'}>>, <Record cve=<Node element_id='4:de342d72-e7ff-4d5b-9a28-99eaa381965b:6' labels=frozenset({'CVE'}) properties={'assigner': 'cna@sap.com', 'id': 'CVE-2023-0018'}> Entities=<Node element_id='4:de342d72-e7ff-4d5b-9a28-99eaa381965b:167' labels=frozenset({'Entities'}) properties={'wikipediaExternalRef': 241154, 'wikidataId': 'Q371199', 'confidence_score': 0.719, 'offsetStart': 0, 'offsetEnd': 20, 'rawName': 'Cross-site scripting'}>>, <Record cve=<Node element_id='4:de342d72-e7ff-4d5b-9a28-99eaa381965b:9' labels=frozenset({'CVE'}) properties={'assigner': 'security@huntr.dev', 'id': 'CVE-2023-0028'}> Entities=<Node element_id='4:de342d72-e7ff-4d5b-9a28-99eaa381965b:167' labels=frozenset({'Entities'}) properties={'wikipediaExternalRef': 241154, 'wikidataId': 'Q371199', 'confidence_score': 0.719, 'offsetStart': 0, 'offsetEnd': 20, 'rawName': 'Cross-site scripting'}>>, <Record cve=<Node element_id='4:de342d72-e7ff-4d5b-9a28-99eaa381965b:3' labels=frozenset({'CVE'}) properties={'assigner': 'cna@sap.com', 'id': 'CVE-2023-0015'}> Entities=<Node element_id='4:de342d72-e7ff-4d5b-9a28-99eaa381965b:167' labels=frozenset({'Entities'}) properties={'wikipediaExternalRef': 241154, 'wikidataId': 'Q371199', 'confidence_score': 0.719, 'offsetStart': 0, 'offsetEnd': 20, 'rawName': 'Cross-site scripting'}>>, <Record cve=<Node element_id='4:de342d72-e7ff-4d5b-9a28-99eaa381965b:1' labels=frozenset({'CVE'}) properties={'assigner': 'cna@sap.com', 'id': 'CVE-2023-0013'}> Entities=<Node element_id='4:de342d72-e7ff-4d5b-9a28-99eaa381965b:167' labels=frozenset({'Entities'}) properties={'wikipediaExternalRef': 241154, 'wikidataId': 'Q371199', 'confidence_score': 0.719, 'offsetStart': 0, 'offsetEnd': 20, 'rawName': 'Cross-site scripting'}>>, <Record cve=<Node element_id='4:de342d72-e7ff-4d5b-9a28-99eaa381965b:4' labels=frozenset({'CVE'}) properties={'assigner': 'cna@sap.com', 'id': 'CVE-2023-0016'}> Entities=<Node element_id='4:de342d72-e7ff-4d5b-9a28-99eaa381965b:262' labels=frozenset({'Entities'}) properties={'wikipediaExternalRef': 526999, 'wikidataId': 'Q506059', 'confidence_score': 0.9162, 'offsetStart': 1041, 'offsetEnd': 1054, 'rawName': 'SQL injection'}>>, <Record cve=<Node element_id='4:de342d72-e7ff-4d5b-9a28-99eaa381965b:7' labels=frozenset({'CVE'}) properties={'assigner': 'cna@sap.com', 'id': 'CVE-2023-0022'}> Entities=<Node element_id='4:de342d72-e7ff-4d5b-9a28-99eaa381965b:262' labels=frozenset({'Entities'}) properties={'wikipediaExternalRef': 526999, 'wikidataId': 'Q506059', 'confidence_score': 0.9162, 'offsetStart': 1041, 'offsetEnd': 1054, 'rawName': 'SQL injection'}>>, <Record cve=<Node element_id='4:de342d72-e7ff-4d5b-9a28-99eaa381965b:8' labels=frozenset({'CVE'}) properties={'assigner': 'cna@sap.com', 'id': 'CVE-2023-0023'}> Entities=<Node element_id='4:de342d72-e7ff-4d5b-9a28-99eaa381965b:287' labels=frozenset({'Entities'}) properties={'wikipediaExternalRef': 5316476, 'wikidataId': 'Q2587068', 'confidence_score': 0.4076, 'offsetStart': 394, 'offsetEnd': 415, 'rawName': 'sensitive information'}>>, <Record cve=<Node element_id='4:de342d72-e7ff-4d5b-9a28-99eaa381965b:0' labels=frozenset({'CVE'}) properties={'assigner': 'cna@sap.com', 'id': 'CVE-2023-0012'}> Entities=<Node element_id='4:de342d72-e7ff-4d5b-9a28-99eaa381965b:287' labels=frozenset({'Entities'}) properties={'wikipediaExternalRef': 5316476, 'wikidataId': 'Q2587068', 'confidence_score': 0.4076, 'offsetStart': 394, 'offsetEnd': 415, 'rawName': 'sensitive information'}>>, <Record cve=<Node element_id='4:de342d72-e7ff-4d5b-9a28-99eaa381965b:5' labels=frozenset({'CVE'}) properties={'assigner': 'cna@sap.com', 'id': 'CVE-2023-0017'}> Entities=<Node element_id='4:de342d72-e7ff-4d5b-9a28-99eaa381965b:287' labels=frozenset({'Entities'}) properties={'wikipediaExternalRef': 5316476, 'wikidataId': 'Q2587068', 'confidence_score': 0.4076, 'offsetStart': 394, 'offsetEnd': 415, 'rawName': 'sensitive information'}>>, <Record cve=<Node element_id='4:de342d72-e7ff-4d5b-9a28-99eaa381965b:0' labels=frozenset({'CVE'}) properties={'assigner': 'cna@sap.com', 'id': 'CVE-2023-0012'}> Entities=<Node element_id='4:de342d72-e7ff-4d5b-9a28-99eaa381965b:314' labels=frozenset({'Entities'}) properties={'wikipediaExternalRef': 40684, 'wikidataId': 'Q228502', 'confidence_score': 0.6394, 'offsetStart': 0, 'offsetEnd': 14, 'rawName': 'Access control'}>>, <Record cve=<Node element_id='4:de342d72-e7ff-4d5b-9a28-99eaa381965b:5' labels=frozenset({'CVE'}) properties={'assigner': 'cna@sap.com', 'id': 'CVE-2023-0017'}> Entities=<Node element_id='4:de342d72-e7ff-4d5b-9a28-99eaa381965b:314' labels=frozenset({'Entities'}) properties={'wikipediaExternalRef': 40684, 'wikidataId': 'Q228502', 'confidence_score': 0.6394, 'offsetStart': 0, 'offsetEnd': 14, 'rawName': 'Access control'}>>, <Record cve=<Node element_id='4:de342d72-e7ff-4d5b-9a28-99eaa381965b:2' labels=frozenset({'CVE'}) properties={'assigner': 'cna@sap.com', 'id': 'CVE-2023-0014'}> Entities=<Node element_id='4:de342d72-e7ff-4d5b-9a28-99eaa381965b:331' labels=frozenset({'Entities'}) properties={'wikipediaExternalRef': 614094, 'wikidataId': 'Q1756025', 'confidence_score': 0.5922, 'offsetStart': 8, 'offsetEnd': 22, 'rawName': 'replay attacks'}>>, <Record cve=<Node element_id='4:de342d72-e7ff-4d5b-9a28-99eaa381965b:6' labels=frozenset({'CVE'}) properties={'assigner': 'cna@sap.com', 'id': 'CVE-2023-0018'}> Entities=<Node element_id='4:de342d72-e7ff-4d5b-9a28-99eaa381965b:168' labels=frozenset({'Entities'}) properties={'wikipediaExternalRef': 241154, 'wikidataId': 'Q371199', 'confidence_score': 0.8255, 'offsetStart': 3130, 'offsetEnd': 3133, 'rawName': 'XSS'}>>, <Record cve=<Node element_id='4:de342d72-e7ff-4d5b-9a28-99eaa381965b:6' labels=frozenset({'CVE'}) properties={'assigner': 'cna@sap.com', 'id': 'CVE-2023-0018'}> Entities=<Node element_id='4:de342d72-e7ff-4d5b-9a28-99eaa381965b:195' labels=frozenset({'Entities'}) properties={'wikipediaExternalRef': 241154, 'wikidataId': 'Q371199', 'confidence_score': 0.5158, 'offsetStart': 1120, 'offsetEnd': 1133, 'rawName': 'Reflected XSS'}>>, <Record cve=<Node element_id='4:de342d72-e7ff-4d5b-9a28-99eaa381965b:6' labels=frozenset({'CVE'}) properties={'assigner': 'cna@sap.com', 'id': 'CVE-2023-0018'}> Entities=<Node element_id='4:de342d72-e7ff-4d5b-9a28-99eaa381965b:208' labels=frozenset({'Entities'}) properties={'wikipediaExternalRef': 241154, 'wikidataId': 'Q371199', 'confidence_score': 0.5158, 'offsetStart': 1769, 'offsetEnd': 1779, 'rawName': 'Stored XSS'}>>, <Record cve=<Node element_id='4:de342d72-e7ff-4d5b-9a28-99eaa381965b:9' labels=frozenset({'CVE'}) properties={'assigner': 'security@huntr.dev', 'id': 'CVE-2023-0028'}> Entities=<Node element_id='4:de342d72-e7ff-4d5b-9a28-99eaa381965b:168' labels=frozenset({'Entities'}) properties={'wikipediaExternalRef': 241154, 'wikidataId': 'Q371199', 'confidence_score': 0.8255, 'offsetStart': 3130, 'offsetEnd': 3133, 'rawName': 'XSS'}>>, <Record cve=<Node element_id='4:de342d72-e7ff-4d5b-9a28-99eaa381965b:9' labels=frozenset({'CVE'}) properties={'assigner': 'security@huntr.dev', 'id': 'CVE-2023-0028'}> Entities=<Node element_id='4:de342d72-e7ff-4d5b-9a28-99eaa381965b:195' labels=frozenset({'Entities'}) properties={'wikipediaExternalRef': 241154, 'wikidataId': 'Q371199', 'confidence_score': 0.5158, 'offsetStart': 1120, 'offsetEnd': 1133, 'rawName': 'Reflected XSS'}>>, <Record cve=<Node element_id='4:de342d72-e7ff-4d5b-9a28-99eaa381965b:9' labels=frozenset({'CVE'}) properties={'assigner': 'security@huntr.dev', 'id': 'CVE-2023-0028'}> Entities=<Node element_id='4:de342d72-e7ff-4d5b-9a28-99eaa381965b:208' labels=frozenset({'Entities'}) properties={'wikipediaExternalRef': 241154, 'wikidataId': 'Q371199', 'confidence_score': 0.5158, 'offsetStart': 1769, 'offsetEnd': 1779, 'rawName': 'Stored XSS'}>>, <Record cve=<Node element_id='4:de342d72-e7ff-4d5b-9a28-99eaa381965b:3' labels=frozenset({'CVE'}) properties={'assigner': 'cna@sap.com', 'id': 'CVE-2023-0015'}> Entities=<Node element_id='4:de342d72-e7ff-4d5b-9a28-99eaa381965b:168' labels=frozenset({'Entities'}) properties={'wikipediaExternalRef': 241154, 'wikidataId': 'Q371199', 'confidence_score': 0.8255, 'offsetStart': 3130, 'offsetEnd': 3133, 'rawName': 'XSS'}>>, <Record cve=<Node element_id='4:de342d72-e7ff-4d5b-9a28-99eaa381965b:3' labels=frozenset({'CVE'}) properties={'assigner': 'cna@sap.com', 'id': 'CVE-2023-0015'}> Entities=<Node element_id='4:de342d72-e7ff-4d5b-9a28-99eaa381965b:195' labels=frozenset({'Entities'}) properties={'wikipediaExternalRef': 241154, 'wikidataId': 'Q371199', 'confidence_score': 0.5158, 'offsetStart': 1120, 'offsetEnd': 1133, 'rawName': 'Reflected XSS'}>>, <Record cve=<Node element_id='4:de342d72-e7ff-4d5b-9a28-99eaa381965b:3' labels=frozenset({'CVE'}) properties={'assigner': 'cna@sap.com', 'id': 'CVE-2023-0015'}> Entities=<Node element_id='4:de342d72-e7ff-4d5b-9a28-99eaa381965b:208' labels=frozenset({'Entities'}) properties={'wikipediaExternalRef': 241154, 'wikidataId': 'Q371199', 'confidence_score': 0.5158, 'offsetStart': 1769, 'offsetEnd': 1779, 'rawName': 'Stored XSS'}>>, <Record cve=<Node element_id='4:de342d72-e7ff-4d5b-9a28-99eaa381965b:1' labels=frozenset({'CVE'}) properties={'assigner': 'cna@sap.com', 'id': 'CVE-2023-0013'}> Entities=<Node element_id='4:de342d72-e7ff-4d5b-9a28-99eaa381965b:168' labels=frozenset({'Entities'}) properties={'wikipediaExternalRef': 241154, 'wikidataId': 'Q371199', 'confidence_score': 0.8255, 'offsetStart': 3130, 'offsetEnd': 3133, 'rawName': 'XSS'}>>, <Record cve=<Node element_id='4:de342d72-e7ff-4d5b-9a28-99eaa381965b:1' labels=frozenset({'CVE'}) properties={'assigner': 'cna@sap.com', 'id': 'CVE-2023-0013'}> Entities=<Node element_id='4:de342d72-e7ff-4d5b-9a28-99eaa381965b:195' labels=frozenset({'Entities'}) properties={'wikipediaExternalRef': 241154, 'wikidataId': 'Q371199', 'confidence_score': 0.5158, 'offsetStart': 1120, 'offsetEnd': 1133, 'rawName': 'Reflected XSS'}>>, <Record cve=<Node element_id='4:de342d72-e7ff-4d5b-9a28-99eaa381965b:1' labels=frozenset({'CVE'}) properties={'assigner': 'cna@sap.com', 'id': 'CVE-2023-0013'}> Entities=<Node element_id='4:de342d72-e7ff-4d5b-9a28-99eaa381965b:208' labels=frozenset({'Entities'}) properties={'wikipediaExternalRef': 241154, 'wikidataId': 'Q371199', 'confidence_score': 0.5158, 'offsetStart': 1769, 'offsetEnd': 1779, 'rawName': 'Stored XSS'}>>, <Record cve=<Node element_id='4:de342d72-e7ff-4d5b-9a28-99eaa381965b:6' labels=frozenset({'CVE'}) properties={'assigner': 'cna@sap.com', 'id': 'CVE-2023-0018'}> Entities=<Node element_id='4:de342d72-e7ff-4d5b-9a28-99eaa381965b:216' labels=frozenset({'Entities'}) properties={'wikipediaExternalRef': 5316476, 'wikidataId': 'Q2587068', 'confidence_score': 0.4691, 'offsetStart': 2476, 'offsetEnd': 2490, 'rawName': 'sensitive data'}>>, <Record cve=<Node element_id='4:de342d72-e7ff-4d5b-9a28-99eaa381965b:9' labels=frozenset({'CVE'}) properties={'assigner': 'security@huntr.dev', 'id': 'CVE-2023-0028'}> Entities=<Node element_id='4:de342d72-e7ff-4d5b-9a28-99eaa381965b:216' labels=frozenset({'Entities'}) properties={'wikipediaExternalRef': 5316476, 'wikidataId': 'Q2587068', 'confidence_score': 0.4691, 'offsetStart': 2476, 'offsetEnd': 2490, 'rawName': 'sensitive data'}>>, <Record cve=<Node element_id='4:de342d72-e7ff-4d5b-9a28-99eaa381965b:3' labels=frozenset({'CVE'}) properties={'assigner': 'cna@sap.com', 'id': 'CVE-2023-0015'}> Entities=<Node element_id='4:de342d72-e7ff-4d5b-9a28-99eaa381965b:216' labels=frozenset({'Entities'}) properties={'wikipediaExternalRef': 5316476, 'wikidataId': 'Q2587068', 'confidence_score': 0.4691, 'offsetStart': 2476, 'offsetEnd': 2490, 'rawName': 'sensitive data'}>>, <Record cve=<Node element_id='4:de342d72-e7ff-4d5b-9a28-99eaa381965b:1' labels=frozenset({'CVE'}) properties={'assigner': 'cna@sap.com', 'id': 'CVE-2023-0013'}> Entities=<Node element_id='4:de342d72-e7ff-4d5b-9a28-99eaa381965b:216' labels=frozenset({'Entities'}) properties={'wikipediaExternalRef': 5316476, 'wikidataId': 'Q2587068', 'confidence_score': 0.4691, 'offsetStart': 2476, 'offsetEnd': 2490, 'rawName': 'sensitive data'}>>, <Record cve=<Node element_id='4:de342d72-e7ff-4d5b-9a28-99eaa381965b:0' labels=frozenset({'CVE'}) properties={'assigner': 'cna@sap.com', 'id': 'CVE-2023-0012'}> Entities=<Node element_id='4:de342d72-e7ff-4d5b-9a28-99eaa381965b:322' labels=frozenset({'Entities'}) properties={'wikipediaExternalRef': 40684, 'wikidataId': 'Q228502', 'confidence_score': 0.4556, 'offsetStart': 947, 'offsetEnd': 961, 'rawName': 'access control'}>>, <Record cve=<Node element_id='4:de342d72-e7ff-4d5b-9a28-99eaa381965b:5' labels=frozenset({'CVE'}) properties={'assigner': 'cna@sap.com', 'id': 'CVE-2023-0017'}> Entities=<Node element_id='4:de342d72-e7ff-4d5b-9a28-99eaa381965b:322' labels=frozenset({'Entities'}) properties={'wikipediaExternalRef': 40684, 'wikidataId': 'Q228502', 'confidence_score': 0.4556, 'offsetStart': 947, 'offsetEnd': 961, 'rawName': 'access control'}>>]\n"
          ]
        }
      ]
    },
    {
      "cell_type": "code",
      "source": [
        "# Q3 What are the CVSS scores that are assigned to vulnerabilities?\n",
        "\n",
        "explore_reviews_csv_query = \"\"\"\n",
        "MATCH (cvssv3)-[:ASSIGNED_TO]->(cve)\n",
        "RETURN cvssv3,cve\n",
        "\n",
        "\"\"\"\n",
        "result = conn.query(explore_reviews_csv_query)\n",
        "print(result)"
      ],
      "metadata": {
        "id": "DeyOu7BQ__tB",
        "colab": {
          "base_uri": "https://localhost:8080/"
        },
        "outputId": "dd4e19c4-8925-462d-d556-784631733926"
      },
      "execution_count": 1064,
      "outputs": [
        {
          "output_type": "stream",
          "name": "stdout",
          "text": [
            "[<Record cvssv3=<Node element_id='4:de342d72-e7ff-4d5b-9a28-99eaa381965b:54' labels=frozenset({'CVSSV3'}) properties={'baseSeverity': 'MEDIUM', 'confidentialityImpact': 'HIGH', 'scope': 'UNCHANGED', 'attackComplexity': 'LOW', 'attackVector': 'LOCAL', 'availabilityImpact': 'HIGH', 'integrityImpact': 'HIGH', 'privilegesRequired': 'HIGH', 'baseScore': 6.7, 'vectorString': 'CVSS:3.1/AV:L/AC:L/PR:H/UI:N/S:U/C:H/I:H/A:H', 'userInteraction': 'NONE', 'version': '3.1'}> cve=<Node element_id='4:de342d72-e7ff-4d5b-9a28-99eaa381965b:0' labels=frozenset({'CVE'}) properties={'assigner': 'cna@sap.com', 'id': 'CVE-2023-0012'}>>, <Record cvssv3=<Node element_id='4:de342d72-e7ff-4d5b-9a28-99eaa381965b:56' labels=frozenset({'CVSSV3'}) properties={'baseSeverity': 'MEDIUM', 'confidentialityImpact': 'LOW', 'scope': 'CHANGED', 'attackComplexity': 'LOW', 'attackVector': 'NETWORK', 'availabilityImpact': 'NONE', 'integrityImpact': 'LOW', 'privilegesRequired': 'NONE', 'baseScore': 6.1, 'vectorString': 'CVSS:3.1/AV:N/AC:L/PR:N/UI:R/S:C/C:L/I:L/A:N', 'version': '3.1', 'userInteraction': 'REQUIRED'}> cve=<Node element_id='4:de342d72-e7ff-4d5b-9a28-99eaa381965b:1' labels=frozenset({'CVE'}) properties={'assigner': 'cna@sap.com', 'id': 'CVE-2023-0013'}>>, <Record cvssv3=<Node element_id='4:de342d72-e7ff-4d5b-9a28-99eaa381965b:58' labels=frozenset({'CVSSV3'}) properties={'baseSeverity': 'CRITICAL', 'confidentialityImpact': 'HIGH', 'scope': 'UNCHANGED', 'attackComplexity': 'LOW', 'attackVector': 'NETWORK', 'availabilityImpact': 'HIGH', 'integrityImpact': 'HIGH', 'privilegesRequired': 'NONE', 'baseScore': 9.8, 'vectorString': 'CVSS:3.1/AV:N/AC:L/PR:N/UI:N/S:U/C:H/I:H/A:H', 'version': '3.1', 'userInteraction': 'NONE'}> cve=<Node element_id='4:de342d72-e7ff-4d5b-9a28-99eaa381965b:2' labels=frozenset({'CVE'}) properties={'assigner': 'cna@sap.com', 'id': 'CVE-2023-0014'}>>, <Record cvssv3=<Node element_id='4:de342d72-e7ff-4d5b-9a28-99eaa381965b:60' labels=frozenset({'CVSSV3'}) properties={'baseSeverity': 'MEDIUM', 'confidentialityImpact': 'LOW', 'scope': 'CHANGED', 'attackComplexity': 'LOW', 'attackVector': 'NETWORK', 'availabilityImpact': 'NONE', 'integrityImpact': 'LOW', 'privilegesRequired': 'LOW', 'baseScore': 5.4, 'vectorString': 'CVSS:3.1/AV:N/AC:L/PR:L/UI:R/S:C/C:L/I:L/A:N', 'version': '3.1', 'userInteraction': 'REQUIRED'}> cve=<Node element_id='4:de342d72-e7ff-4d5b-9a28-99eaa381965b:3' labels=frozenset({'CVE'}) properties={'assigner': 'cna@sap.com', 'id': 'CVE-2023-0015'}>>, <Record cvssv3=<Node element_id='4:de342d72-e7ff-4d5b-9a28-99eaa381965b:62' labels=frozenset({'CVSSV3'}) properties={'baseSeverity': 'HIGH', 'confidentialityImpact': 'HIGH', 'scope': 'UNCHANGED', 'attackComplexity': 'LOW', 'attackVector': 'NETWORK', 'availabilityImpact': 'HIGH', 'integrityImpact': 'HIGH', 'privilegesRequired': 'LOW', 'baseScore': 8.8, 'vectorString': 'CVSS:3.1/AV:N/AC:L/PR:L/UI:N/S:U/C:H/I:H/A:H', 'userInteraction': 'NONE', 'version': '3.1'}> cve=<Node element_id='4:de342d72-e7ff-4d5b-9a28-99eaa381965b:4' labels=frozenset({'CVE'}) properties={'assigner': 'cna@sap.com', 'id': 'CVE-2023-0016'}>>, <Record cvssv3=<Node element_id='4:de342d72-e7ff-4d5b-9a28-99eaa381965b:64' labels=frozenset({'CVSSV3'}) properties={'baseSeverity': 'CRITICAL', 'confidentialityImpact': 'HIGH', 'scope': 'UNCHANGED', 'attackComplexity': 'LOW', 'attackVector': 'NETWORK', 'availabilityImpact': 'HIGH', 'integrityImpact': 'HIGH', 'privilegesRequired': 'NONE', 'baseScore': 9.8, 'vectorString': 'CVSS:3.1/AV:N/AC:L/PR:N/UI:N/S:U/C:H/I:H/A:H', 'version': '3.1', 'userInteraction': 'NONE'}> cve=<Node element_id='4:de342d72-e7ff-4d5b-9a28-99eaa381965b:5' labels=frozenset({'CVE'}) properties={'assigner': 'cna@sap.com', 'id': 'CVE-2023-0017'}>>, <Record cvssv3=<Node element_id='4:de342d72-e7ff-4d5b-9a28-99eaa381965b:66' labels=frozenset({'CVSSV3'}) properties={'baseSeverity': 'MEDIUM', 'confidentialityImpact': 'LOW', 'scope': 'CHANGED', 'attackComplexity': 'LOW', 'attackVector': 'NETWORK', 'availabilityImpact': 'NONE', 'integrityImpact': 'LOW', 'privilegesRequired': 'NONE', 'baseScore': 6.1, 'vectorString': 'CVSS:3.1/AV:N/AC:L/PR:N/UI:R/S:C/C:L/I:L/A:N', 'version': '3.1', 'userInteraction': 'REQUIRED'}> cve=<Node element_id='4:de342d72-e7ff-4d5b-9a28-99eaa381965b:6' labels=frozenset({'CVE'}) properties={'assigner': 'cna@sap.com', 'id': 'CVE-2023-0018'}>>, <Record cvssv3=<Node element_id='4:de342d72-e7ff-4d5b-9a28-99eaa381965b:68' labels=frozenset({'CVSSV3'}) properties={'baseSeverity': 'HIGH', 'confidentialityImpact': 'HIGH', 'scope': 'UNCHANGED', 'attackComplexity': 'LOW', 'attackVector': 'NETWORK', 'availabilityImpact': 'HIGH', 'integrityImpact': 'HIGH', 'privilegesRequired': 'LOW', 'baseScore': 8.8, 'vectorString': 'CVSS:3.1/AV:N/AC:L/PR:L/UI:N/S:U/C:H/I:H/A:H', 'userInteraction': 'NONE', 'version': '3.1'}> cve=<Node element_id='4:de342d72-e7ff-4d5b-9a28-99eaa381965b:7' labels=frozenset({'CVE'}) properties={'assigner': 'cna@sap.com', 'id': 'CVE-2023-0022'}>>, <Record cvssv3=<Node element_id='4:de342d72-e7ff-4d5b-9a28-99eaa381965b:70' labels=frozenset({'CVSSV3'}) properties={'baseSeverity': 'MEDIUM', 'confidentialityImpact': 'HIGH', 'scope': 'UNCHANGED', 'attackComplexity': 'LOW', 'attackVector': 'NETWORK', 'availabilityImpact': 'NONE', 'integrityImpact': 'NONE', 'privilegesRequired': 'LOW', 'baseScore': 5.7, 'vectorString': 'CVSS:3.1/AV:N/AC:L/PR:L/UI:R/S:U/C:H/I:N/A:N', 'version': '3.1', 'userInteraction': 'REQUIRED'}> cve=<Node element_id='4:de342d72-e7ff-4d5b-9a28-99eaa381965b:8' labels=frozenset({'CVE'}) properties={'assigner': 'cna@sap.com', 'id': 'CVE-2023-0023'}>>, <Record cvssv3=<Node element_id='4:de342d72-e7ff-4d5b-9a28-99eaa381965b:72' labels=frozenset({'CVSSV3'}) properties={'baseSeverity': 'MEDIUM', 'confidentialityImpact': 'LOW', 'scope': 'CHANGED', 'attackComplexity': 'LOW', 'attackVector': 'NETWORK', 'availabilityImpact': 'NONE', 'integrityImpact': 'LOW', 'privilegesRequired': 'NONE', 'baseScore': 6.1, 'vectorString': 'CVSS:3.1/AV:N/AC:L/PR:N/UI:R/S:C/C:L/I:L/A:N', 'version': '3.1', 'userInteraction': 'REQUIRED'}> cve=<Node element_id='4:de342d72-e7ff-4d5b-9a28-99eaa381965b:9' labels=frozenset({'CVE'}) properties={'assigner': 'security@huntr.dev', 'id': 'CVE-2023-0028'}>>, <Record cvssv3=<Node element_id='4:de342d72-e7ff-4d5b-9a28-99eaa381965b:74' labels=frozenset({'CVSSV3'}) properties={'baseSeverity': 'HIGH', 'confidentialityImpact': 'NONE', 'scope': 'UNCHANGED', 'attackComplexity': 'LOW', 'attackVector': 'NETWORK', 'availabilityImpact': 'HIGH', 'integrityImpact': 'NONE', 'privilegesRequired': 'NONE', 'baseScore': 7.5, 'vectorString': 'CVSS:3.1/AV:N/AC:L/PR:N/UI:N/S:U/C:N/I:N/A:H', 'userInteraction': 'NONE', 'version': '3.1'}> cve=<Node element_id='4:de342d72-e7ff-4d5b-9a28-99eaa381965b:10' labels=frozenset({'CVE'}) properties={'assigner': 'cna@vuldb.com', 'id': 'CVE-2023-0029'}>>]\n"
          ]
        }
      ]
    },
    {
      "cell_type": "code",
      "source": [
        "# Q4 What are the vulnerabilities that attackers can exploit by applying the same attack?\n",
        "\n",
        "explore_reviews_csv_query = \"\"\"\n",
        "MATCH (cve1)-[:SIMILAR_TO]->(cve2)\n",
        "MATCH (Entities)<-[:VULNERABLE_TO]-(cve)\n",
        "RETURN cve1,cve2,Entities\n",
        "\n",
        "\"\"\"\n",
        "result = conn.query(explore_reviews_csv_query)\n",
        "print(result)"
      ],
      "metadata": {
        "colab": {
          "base_uri": "https://localhost:8080/"
        },
        "id": "v9AvlI1axfrU",
        "outputId": "f2ac02c1-f204-4e9d-bed7-0312f580a0e0"
      },
      "execution_count": 1065,
      "outputs": [
        {
          "output_type": "stream",
          "name": "stdout",
          "text": [
            "[<Record cve1=<Node element_id='4:de342d72-e7ff-4d5b-9a28-99eaa381965b:1' labels=frozenset({'CVE'}) properties={'assigner': 'cna@sap.com', 'id': 'CVE-2023-0013'}> cve2=<Node element_id='4:de342d72-e7ff-4d5b-9a28-99eaa381965b:3' labels=frozenset({'CVE'}) properties={'assigner': 'cna@sap.com', 'id': 'CVE-2023-0015'}> Entities=<Node element_id='4:de342d72-e7ff-4d5b-9a28-99eaa381965b:6' labels=frozenset({'CVE'}) properties={'assigner': 'cna@sap.com', 'id': 'CVE-2023-0018'}>>, <Record cve1=<Node element_id='4:de342d72-e7ff-4d5b-9a28-99eaa381965b:1' labels=frozenset({'CVE'}) properties={'assigner': 'cna@sap.com', 'id': 'CVE-2023-0013'}> cve2=<Node element_id='4:de342d72-e7ff-4d5b-9a28-99eaa381965b:3' labels=frozenset({'CVE'}) properties={'assigner': 'cna@sap.com', 'id': 'CVE-2023-0015'}> Entities=<Node element_id='4:de342d72-e7ff-4d5b-9a28-99eaa381965b:9' labels=frozenset({'CVE'}) properties={'assigner': 'security@huntr.dev', 'id': 'CVE-2023-0028'}>>, <Record cve1=<Node element_id='4:de342d72-e7ff-4d5b-9a28-99eaa381965b:1' labels=frozenset({'CVE'}) properties={'assigner': 'cna@sap.com', 'id': 'CVE-2023-0013'}> cve2=<Node element_id='4:de342d72-e7ff-4d5b-9a28-99eaa381965b:3' labels=frozenset({'CVE'}) properties={'assigner': 'cna@sap.com', 'id': 'CVE-2023-0015'}> Entities=<Node element_id='4:de342d72-e7ff-4d5b-9a28-99eaa381965b:3' labels=frozenset({'CVE'}) properties={'assigner': 'cna@sap.com', 'id': 'CVE-2023-0015'}>>, <Record cve1=<Node element_id='4:de342d72-e7ff-4d5b-9a28-99eaa381965b:1' labels=frozenset({'CVE'}) properties={'assigner': 'cna@sap.com', 'id': 'CVE-2023-0013'}> cve2=<Node element_id='4:de342d72-e7ff-4d5b-9a28-99eaa381965b:3' labels=frozenset({'CVE'}) properties={'assigner': 'cna@sap.com', 'id': 'CVE-2023-0015'}> Entities=<Node element_id='4:de342d72-e7ff-4d5b-9a28-99eaa381965b:1' labels=frozenset({'CVE'}) properties={'assigner': 'cna@sap.com', 'id': 'CVE-2023-0013'}>>, <Record cve1=<Node element_id='4:de342d72-e7ff-4d5b-9a28-99eaa381965b:1' labels=frozenset({'CVE'}) properties={'assigner': 'cna@sap.com', 'id': 'CVE-2023-0013'}> cve2=<Node element_id='4:de342d72-e7ff-4d5b-9a28-99eaa381965b:3' labels=frozenset({'CVE'}) properties={'assigner': 'cna@sap.com', 'id': 'CVE-2023-0015'}> Entities=<Node element_id='4:de342d72-e7ff-4d5b-9a28-99eaa381965b:7' labels=frozenset({'CVE'}) properties={'assigner': 'cna@sap.com', 'id': 'CVE-2023-0022'}>>, <Record cve1=<Node element_id='4:de342d72-e7ff-4d5b-9a28-99eaa381965b:1' labels=frozenset({'CVE'}) properties={'assigner': 'cna@sap.com', 'id': 'CVE-2023-0013'}> cve2=<Node element_id='4:de342d72-e7ff-4d5b-9a28-99eaa381965b:3' labels=frozenset({'CVE'}) properties={'assigner': 'cna@sap.com', 'id': 'CVE-2023-0015'}> Entities=<Node element_id='4:de342d72-e7ff-4d5b-9a28-99eaa381965b:7' labels=frozenset({'CVE'}) properties={'assigner': 'cna@sap.com', 'id': 'CVE-2023-0022'}>>, <Record cve1=<Node element_id='4:de342d72-e7ff-4d5b-9a28-99eaa381965b:1' labels=frozenset({'CVE'}) properties={'assigner': 'cna@sap.com', 'id': 'CVE-2023-0013'}> cve2=<Node element_id='4:de342d72-e7ff-4d5b-9a28-99eaa381965b:3' labels=frozenset({'CVE'}) properties={'assigner': 'cna@sap.com', 'id': 'CVE-2023-0015'}> Entities=<Node element_id='4:de342d72-e7ff-4d5b-9a28-99eaa381965b:2' labels=frozenset({'CVE'}) properties={'assigner': 'cna@sap.com', 'id': 'CVE-2023-0014'}>>, <Record cve1=<Node element_id='4:de342d72-e7ff-4d5b-9a28-99eaa381965b:1' labels=frozenset({'CVE'}) properties={'assigner': 'cna@sap.com', 'id': 'CVE-2023-0013'}> cve2=<Node element_id='4:de342d72-e7ff-4d5b-9a28-99eaa381965b:3' labels=frozenset({'CVE'}) properties={'assigner': 'cna@sap.com', 'id': 'CVE-2023-0015'}> Entities=<Node element_id='4:de342d72-e7ff-4d5b-9a28-99eaa381965b:6' labels=frozenset({'CVE'}) properties={'assigner': 'cna@sap.com', 'id': 'CVE-2023-0018'}>>, <Record cve1=<Node element_id='4:de342d72-e7ff-4d5b-9a28-99eaa381965b:1' labels=frozenset({'CVE'}) properties={'assigner': 'cna@sap.com', 'id': 'CVE-2023-0013'}> cve2=<Node element_id='4:de342d72-e7ff-4d5b-9a28-99eaa381965b:3' labels=frozenset({'CVE'}) properties={'assigner': 'cna@sap.com', 'id': 'CVE-2023-0015'}> Entities=<Node element_id='4:de342d72-e7ff-4d5b-9a28-99eaa381965b:9' labels=frozenset({'CVE'}) properties={'assigner': 'security@huntr.dev', 'id': 'CVE-2023-0028'}>>, <Record cve1=<Node element_id='4:de342d72-e7ff-4d5b-9a28-99eaa381965b:1' labels=frozenset({'CVE'}) properties={'assigner': 'cna@sap.com', 'id': 'CVE-2023-0013'}> cve2=<Node element_id='4:de342d72-e7ff-4d5b-9a28-99eaa381965b:3' labels=frozenset({'CVE'}) properties={'assigner': 'cna@sap.com', 'id': 'CVE-2023-0015'}> Entities=<Node element_id='4:de342d72-e7ff-4d5b-9a28-99eaa381965b:3' labels=frozenset({'CVE'}) properties={'assigner': 'cna@sap.com', 'id': 'CVE-2023-0015'}>>, <Record cve1=<Node element_id='4:de342d72-e7ff-4d5b-9a28-99eaa381965b:1' labels=frozenset({'CVE'}) properties={'assigner': 'cna@sap.com', 'id': 'CVE-2023-0013'}> cve2=<Node element_id='4:de342d72-e7ff-4d5b-9a28-99eaa381965b:3' labels=frozenset({'CVE'}) properties={'assigner': 'cna@sap.com', 'id': 'CVE-2023-0015'}> Entities=<Node element_id='4:de342d72-e7ff-4d5b-9a28-99eaa381965b:1' labels=frozenset({'CVE'}) properties={'assigner': 'cna@sap.com', 'id': 'CVE-2023-0013'}>>, <Record cve1=<Node element_id='4:de342d72-e7ff-4d5b-9a28-99eaa381965b:1' labels=frozenset({'CVE'}) properties={'assigner': 'cna@sap.com', 'id': 'CVE-2023-0013'}> cve2=<Node element_id='4:de342d72-e7ff-4d5b-9a28-99eaa381965b:3' labels=frozenset({'CVE'}) properties={'assigner': 'cna@sap.com', 'id': 'CVE-2023-0015'}> Entities=<Node element_id='4:de342d72-e7ff-4d5b-9a28-99eaa381965b:8' labels=frozenset({'CVE'}) properties={'assigner': 'cna@sap.com', 'id': 'CVE-2023-0023'}>>, <Record cve1=<Node element_id='4:de342d72-e7ff-4d5b-9a28-99eaa381965b:1' labels=frozenset({'CVE'}) properties={'assigner': 'cna@sap.com', 'id': 'CVE-2023-0013'}> cve2=<Node element_id='4:de342d72-e7ff-4d5b-9a28-99eaa381965b:3' labels=frozenset({'CVE'}) properties={'assigner': 'cna@sap.com', 'id': 'CVE-2023-0015'}> Entities=<Node element_id='4:de342d72-e7ff-4d5b-9a28-99eaa381965b:0' labels=frozenset({'CVE'}) properties={'assigner': 'cna@sap.com', 'id': 'CVE-2023-0012'}>>, <Record cve1=<Node element_id='4:de342d72-e7ff-4d5b-9a28-99eaa381965b:1' labels=frozenset({'CVE'}) properties={'assigner': 'cna@sap.com', 'id': 'CVE-2023-0013'}> cve2=<Node element_id='4:de342d72-e7ff-4d5b-9a28-99eaa381965b:3' labels=frozenset({'CVE'}) properties={'assigner': 'cna@sap.com', 'id': 'CVE-2023-0015'}> Entities=<Node element_id='4:de342d72-e7ff-4d5b-9a28-99eaa381965b:5' labels=frozenset({'CVE'}) properties={'assigner': 'cna@sap.com', 'id': 'CVE-2023-0017'}>>, <Record cve1=<Node element_id='4:de342d72-e7ff-4d5b-9a28-99eaa381965b:1' labels=frozenset({'CVE'}) properties={'assigner': 'cna@sap.com', 'id': 'CVE-2023-0013'}> cve2=<Node element_id='4:de342d72-e7ff-4d5b-9a28-99eaa381965b:3' labels=frozenset({'CVE'}) properties={'assigner': 'cna@sap.com', 'id': 'CVE-2023-0015'}> Entities=<Node element_id='4:de342d72-e7ff-4d5b-9a28-99eaa381965b:0' labels=frozenset({'CVE'}) properties={'assigner': 'cna@sap.com', 'id': 'CVE-2023-0012'}>>, <Record cve1=<Node element_id='4:de342d72-e7ff-4d5b-9a28-99eaa381965b:1' labels=frozenset({'CVE'}) properties={'assigner': 'cna@sap.com', 'id': 'CVE-2023-0013'}> cve2=<Node element_id='4:de342d72-e7ff-4d5b-9a28-99eaa381965b:3' labels=frozenset({'CVE'}) properties={'assigner': 'cna@sap.com', 'id': 'CVE-2023-0015'}> Entities=<Node element_id='4:de342d72-e7ff-4d5b-9a28-99eaa381965b:0' labels=frozenset({'CVE'}) properties={'assigner': 'cna@sap.com', 'id': 'CVE-2023-0012'}>>, <Record cve1=<Node element_id='4:de342d72-e7ff-4d5b-9a28-99eaa381965b:1' labels=frozenset({'CVE'}) properties={'assigner': 'cna@sap.com', 'id': 'CVE-2023-0013'}> cve2=<Node element_id='4:de342d72-e7ff-4d5b-9a28-99eaa381965b:3' labels=frozenset({'CVE'}) properties={'assigner': 'cna@sap.com', 'id': 'CVE-2023-0015'}> Entities=<Node element_id='4:de342d72-e7ff-4d5b-9a28-99eaa381965b:5' labels=frozenset({'CVE'}) properties={'assigner': 'cna@sap.com', 'id': 'CVE-2023-0017'}>>, <Record cve1=<Node element_id='4:de342d72-e7ff-4d5b-9a28-99eaa381965b:1' labels=frozenset({'CVE'}) properties={'assigner': 'cna@sap.com', 'id': 'CVE-2023-0013'}> cve2=<Node element_id='4:de342d72-e7ff-4d5b-9a28-99eaa381965b:3' labels=frozenset({'CVE'}) properties={'assigner': 'cna@sap.com', 'id': 'CVE-2023-0015'}> Entities=<Node element_id='4:de342d72-e7ff-4d5b-9a28-99eaa381965b:5' labels=frozenset({'CVE'}) properties={'assigner': 'cna@sap.com', 'id': 'CVE-2023-0017'}>>, <Record cve1=<Node element_id='4:de342d72-e7ff-4d5b-9a28-99eaa381965b:1' labels=frozenset({'CVE'}) properties={'assigner': 'cna@sap.com', 'id': 'CVE-2023-0013'}> cve2=<Node element_id='4:de342d72-e7ff-4d5b-9a28-99eaa381965b:3' labels=frozenset({'CVE'}) properties={'assigner': 'cna@sap.com', 'id': 'CVE-2023-0015'}> Entities=<Node element_id='4:de342d72-e7ff-4d5b-9a28-99eaa381965b:6' labels=frozenset({'CVE'}) properties={'assigner': 'cna@sap.com', 'id': 'CVE-2023-0018'}>>, <Record cve1=<Node element_id='4:de342d72-e7ff-4d5b-9a28-99eaa381965b:1' labels=frozenset({'CVE'}) properties={'assigner': 'cna@sap.com', 'id': 'CVE-2023-0013'}> cve2=<Node element_id='4:de342d72-e7ff-4d5b-9a28-99eaa381965b:3' labels=frozenset({'CVE'}) properties={'assigner': 'cna@sap.com', 'id': 'CVE-2023-0015'}> Entities=<Node element_id='4:de342d72-e7ff-4d5b-9a28-99eaa381965b:6' labels=frozenset({'CVE'}) properties={'assigner': 'cna@sap.com', 'id': 'CVE-2023-0018'}>>, <Record cve1=<Node element_id='4:de342d72-e7ff-4d5b-9a28-99eaa381965b:1' labels=frozenset({'CVE'}) properties={'assigner': 'cna@sap.com', 'id': 'CVE-2023-0013'}> cve2=<Node element_id='4:de342d72-e7ff-4d5b-9a28-99eaa381965b:3' labels=frozenset({'CVE'}) properties={'assigner': 'cna@sap.com', 'id': 'CVE-2023-0015'}> Entities=<Node element_id='4:de342d72-e7ff-4d5b-9a28-99eaa381965b:6' labels=frozenset({'CVE'}) properties={'assigner': 'cna@sap.com', 'id': 'CVE-2023-0018'}>>, <Record cve1=<Node element_id='4:de342d72-e7ff-4d5b-9a28-99eaa381965b:1' labels=frozenset({'CVE'}) properties={'assigner': 'cna@sap.com', 'id': 'CVE-2023-0013'}> cve2=<Node element_id='4:de342d72-e7ff-4d5b-9a28-99eaa381965b:3' labels=frozenset({'CVE'}) properties={'assigner': 'cna@sap.com', 'id': 'CVE-2023-0015'}> Entities=<Node element_id='4:de342d72-e7ff-4d5b-9a28-99eaa381965b:6' labels=frozenset({'CVE'}) properties={'assigner': 'cna@sap.com', 'id': 'CVE-2023-0018'}>>, <Record cve1=<Node element_id='4:de342d72-e7ff-4d5b-9a28-99eaa381965b:1' labels=frozenset({'CVE'}) properties={'assigner': 'cna@sap.com', 'id': 'CVE-2023-0013'}> cve2=<Node element_id='4:de342d72-e7ff-4d5b-9a28-99eaa381965b:3' labels=frozenset({'CVE'}) properties={'assigner': 'cna@sap.com', 'id': 'CVE-2023-0015'}> Entities=<Node element_id='4:de342d72-e7ff-4d5b-9a28-99eaa381965b:9' labels=frozenset({'CVE'}) properties={'assigner': 'security@huntr.dev', 'id': 'CVE-2023-0028'}>>, <Record cve1=<Node element_id='4:de342d72-e7ff-4d5b-9a28-99eaa381965b:1' labels=frozenset({'CVE'}) properties={'assigner': 'cna@sap.com', 'id': 'CVE-2023-0013'}> cve2=<Node element_id='4:de342d72-e7ff-4d5b-9a28-99eaa381965b:3' labels=frozenset({'CVE'}) properties={'assigner': 'cna@sap.com', 'id': 'CVE-2023-0015'}> Entities=<Node element_id='4:de342d72-e7ff-4d5b-9a28-99eaa381965b:9' labels=frozenset({'CVE'}) properties={'assigner': 'security@huntr.dev', 'id': 'CVE-2023-0028'}>>, <Record cve1=<Node element_id='4:de342d72-e7ff-4d5b-9a28-99eaa381965b:1' labels=frozenset({'CVE'}) properties={'assigner': 'cna@sap.com', 'id': 'CVE-2023-0013'}> cve2=<Node element_id='4:de342d72-e7ff-4d5b-9a28-99eaa381965b:3' labels=frozenset({'CVE'}) properties={'assigner': 'cna@sap.com', 'id': 'CVE-2023-0015'}> Entities=<Node element_id='4:de342d72-e7ff-4d5b-9a28-99eaa381965b:9' labels=frozenset({'CVE'}) properties={'assigner': 'security@huntr.dev', 'id': 'CVE-2023-0028'}>>, <Record cve1=<Node element_id='4:de342d72-e7ff-4d5b-9a28-99eaa381965b:1' labels=frozenset({'CVE'}) properties={'assigner': 'cna@sap.com', 'id': 'CVE-2023-0013'}> cve2=<Node element_id='4:de342d72-e7ff-4d5b-9a28-99eaa381965b:3' labels=frozenset({'CVE'}) properties={'assigner': 'cna@sap.com', 'id': 'CVE-2023-0015'}> Entities=<Node element_id='4:de342d72-e7ff-4d5b-9a28-99eaa381965b:9' labels=frozenset({'CVE'}) properties={'assigner': 'security@huntr.dev', 'id': 'CVE-2023-0028'}>>, <Record cve1=<Node element_id='4:de342d72-e7ff-4d5b-9a28-99eaa381965b:1' labels=frozenset({'CVE'}) properties={'assigner': 'cna@sap.com', 'id': 'CVE-2023-0013'}> cve2=<Node element_id='4:de342d72-e7ff-4d5b-9a28-99eaa381965b:3' labels=frozenset({'CVE'}) properties={'assigner': 'cna@sap.com', 'id': 'CVE-2023-0015'}> Entities=<Node element_id='4:de342d72-e7ff-4d5b-9a28-99eaa381965b:3' labels=frozenset({'CVE'}) properties={'assigner': 'cna@sap.com', 'id': 'CVE-2023-0015'}>>, <Record cve1=<Node element_id='4:de342d72-e7ff-4d5b-9a28-99eaa381965b:1' labels=frozenset({'CVE'}) properties={'assigner': 'cna@sap.com', 'id': 'CVE-2023-0013'}> cve2=<Node element_id='4:de342d72-e7ff-4d5b-9a28-99eaa381965b:3' labels=frozenset({'CVE'}) properties={'assigner': 'cna@sap.com', 'id': 'CVE-2023-0015'}> Entities=<Node element_id='4:de342d72-e7ff-4d5b-9a28-99eaa381965b:3' labels=frozenset({'CVE'}) properties={'assigner': 'cna@sap.com', 'id': 'CVE-2023-0015'}>>, <Record cve1=<Node element_id='4:de342d72-e7ff-4d5b-9a28-99eaa381965b:1' labels=frozenset({'CVE'}) properties={'assigner': 'cna@sap.com', 'id': 'CVE-2023-0013'}> cve2=<Node element_id='4:de342d72-e7ff-4d5b-9a28-99eaa381965b:3' labels=frozenset({'CVE'}) properties={'assigner': 'cna@sap.com', 'id': 'CVE-2023-0015'}> Entities=<Node element_id='4:de342d72-e7ff-4d5b-9a28-99eaa381965b:3' labels=frozenset({'CVE'}) properties={'assigner': 'cna@sap.com', 'id': 'CVE-2023-0015'}>>, <Record cve1=<Node element_id='4:de342d72-e7ff-4d5b-9a28-99eaa381965b:1' labels=frozenset({'CVE'}) properties={'assigner': 'cna@sap.com', 'id': 'CVE-2023-0013'}> cve2=<Node element_id='4:de342d72-e7ff-4d5b-9a28-99eaa381965b:3' labels=frozenset({'CVE'}) properties={'assigner': 'cna@sap.com', 'id': 'CVE-2023-0015'}> Entities=<Node element_id='4:de342d72-e7ff-4d5b-9a28-99eaa381965b:3' labels=frozenset({'CVE'}) properties={'assigner': 'cna@sap.com', 'id': 'CVE-2023-0015'}>>, <Record cve1=<Node element_id='4:de342d72-e7ff-4d5b-9a28-99eaa381965b:1' labels=frozenset({'CVE'}) properties={'assigner': 'cna@sap.com', 'id': 'CVE-2023-0013'}> cve2=<Node element_id='4:de342d72-e7ff-4d5b-9a28-99eaa381965b:3' labels=frozenset({'CVE'}) properties={'assigner': 'cna@sap.com', 'id': 'CVE-2023-0015'}> Entities=<Node element_id='4:de342d72-e7ff-4d5b-9a28-99eaa381965b:1' labels=frozenset({'CVE'}) properties={'assigner': 'cna@sap.com', 'id': 'CVE-2023-0013'}>>, <Record cve1=<Node element_id='4:de342d72-e7ff-4d5b-9a28-99eaa381965b:1' labels=frozenset({'CVE'}) properties={'assigner': 'cna@sap.com', 'id': 'CVE-2023-0013'}> cve2=<Node element_id='4:de342d72-e7ff-4d5b-9a28-99eaa381965b:3' labels=frozenset({'CVE'}) properties={'assigner': 'cna@sap.com', 'id': 'CVE-2023-0015'}> Entities=<Node element_id='4:de342d72-e7ff-4d5b-9a28-99eaa381965b:1' labels=frozenset({'CVE'}) properties={'assigner': 'cna@sap.com', 'id': 'CVE-2023-0013'}>>, <Record cve1=<Node element_id='4:de342d72-e7ff-4d5b-9a28-99eaa381965b:1' labels=frozenset({'CVE'}) properties={'assigner': 'cna@sap.com', 'id': 'CVE-2023-0013'}> cve2=<Node element_id='4:de342d72-e7ff-4d5b-9a28-99eaa381965b:3' labels=frozenset({'CVE'}) properties={'assigner': 'cna@sap.com', 'id': 'CVE-2023-0015'}> Entities=<Node element_id='4:de342d72-e7ff-4d5b-9a28-99eaa381965b:1' labels=frozenset({'CVE'}) properties={'assigner': 'cna@sap.com', 'id': 'CVE-2023-0013'}>>, <Record cve1=<Node element_id='4:de342d72-e7ff-4d5b-9a28-99eaa381965b:1' labels=frozenset({'CVE'}) properties={'assigner': 'cna@sap.com', 'id': 'CVE-2023-0013'}> cve2=<Node element_id='4:de342d72-e7ff-4d5b-9a28-99eaa381965b:3' labels=frozenset({'CVE'}) properties={'assigner': 'cna@sap.com', 'id': 'CVE-2023-0015'}> Entities=<Node element_id='4:de342d72-e7ff-4d5b-9a28-99eaa381965b:1' labels=frozenset({'CVE'}) properties={'assigner': 'cna@sap.com', 'id': 'CVE-2023-0013'}>>, <Record cve1=<Node element_id='4:de342d72-e7ff-4d5b-9a28-99eaa381965b:1' labels=frozenset({'CVE'}) properties={'assigner': 'cna@sap.com', 'id': 'CVE-2023-0013'}> cve2=<Node element_id='4:de342d72-e7ff-4d5b-9a28-99eaa381965b:3' labels=frozenset({'CVE'}) properties={'assigner': 'cna@sap.com', 'id': 'CVE-2023-0015'}> Entities=<Node element_id='4:de342d72-e7ff-4d5b-9a28-99eaa381965b:6' labels=frozenset({'CVE'}) properties={'assigner': 'cna@sap.com', 'id': 'CVE-2023-0018'}>>, <Record cve1=<Node element_id='4:de342d72-e7ff-4d5b-9a28-99eaa381965b:1' labels=frozenset({'CVE'}) properties={'assigner': 'cna@sap.com', 'id': 'CVE-2023-0013'}> cve2=<Node element_id='4:de342d72-e7ff-4d5b-9a28-99eaa381965b:3' labels=frozenset({'CVE'}) properties={'assigner': 'cna@sap.com', 'id': 'CVE-2023-0015'}> Entities=<Node element_id='4:de342d72-e7ff-4d5b-9a28-99eaa381965b:6' labels=frozenset({'CVE'}) properties={'assigner': 'cna@sap.com', 'id': 'CVE-2023-0018'}>>, <Record cve1=<Node element_id='4:de342d72-e7ff-4d5b-9a28-99eaa381965b:1' labels=frozenset({'CVE'}) properties={'assigner': 'cna@sap.com', 'id': 'CVE-2023-0013'}> cve2=<Node element_id='4:de342d72-e7ff-4d5b-9a28-99eaa381965b:3' labels=frozenset({'CVE'}) properties={'assigner': 'cna@sap.com', 'id': 'CVE-2023-0015'}> Entities=<Node element_id='4:de342d72-e7ff-4d5b-9a28-99eaa381965b:9' labels=frozenset({'CVE'}) properties={'assigner': 'security@huntr.dev', 'id': 'CVE-2023-0028'}>>, <Record cve1=<Node element_id='4:de342d72-e7ff-4d5b-9a28-99eaa381965b:1' labels=frozenset({'CVE'}) properties={'assigner': 'cna@sap.com', 'id': 'CVE-2023-0013'}> cve2=<Node element_id='4:de342d72-e7ff-4d5b-9a28-99eaa381965b:3' labels=frozenset({'CVE'}) properties={'assigner': 'cna@sap.com', 'id': 'CVE-2023-0015'}> Entities=<Node element_id='4:de342d72-e7ff-4d5b-9a28-99eaa381965b:9' labels=frozenset({'CVE'}) properties={'assigner': 'security@huntr.dev', 'id': 'CVE-2023-0028'}>>, <Record cve1=<Node element_id='4:de342d72-e7ff-4d5b-9a28-99eaa381965b:1' labels=frozenset({'CVE'}) properties={'assigner': 'cna@sap.com', 'id': 'CVE-2023-0013'}> cve2=<Node element_id='4:de342d72-e7ff-4d5b-9a28-99eaa381965b:3' labels=frozenset({'CVE'}) properties={'assigner': 'cna@sap.com', 'id': 'CVE-2023-0015'}> Entities=<Node element_id='4:de342d72-e7ff-4d5b-9a28-99eaa381965b:3' labels=frozenset({'CVE'}) properties={'assigner': 'cna@sap.com', 'id': 'CVE-2023-0015'}>>, <Record cve1=<Node element_id='4:de342d72-e7ff-4d5b-9a28-99eaa381965b:1' labels=frozenset({'CVE'}) properties={'assigner': 'cna@sap.com', 'id': 'CVE-2023-0013'}> cve2=<Node element_id='4:de342d72-e7ff-4d5b-9a28-99eaa381965b:3' labels=frozenset({'CVE'}) properties={'assigner': 'cna@sap.com', 'id': 'CVE-2023-0015'}> Entities=<Node element_id='4:de342d72-e7ff-4d5b-9a28-99eaa381965b:3' labels=frozenset({'CVE'}) properties={'assigner': 'cna@sap.com', 'id': 'CVE-2023-0015'}>>, <Record cve1=<Node element_id='4:de342d72-e7ff-4d5b-9a28-99eaa381965b:1' labels=frozenset({'CVE'}) properties={'assigner': 'cna@sap.com', 'id': 'CVE-2023-0013'}> cve2=<Node element_id='4:de342d72-e7ff-4d5b-9a28-99eaa381965b:3' labels=frozenset({'CVE'}) properties={'assigner': 'cna@sap.com', 'id': 'CVE-2023-0015'}> Entities=<Node element_id='4:de342d72-e7ff-4d5b-9a28-99eaa381965b:1' labels=frozenset({'CVE'}) properties={'assigner': 'cna@sap.com', 'id': 'CVE-2023-0013'}>>, <Record cve1=<Node element_id='4:de342d72-e7ff-4d5b-9a28-99eaa381965b:1' labels=frozenset({'CVE'}) properties={'assigner': 'cna@sap.com', 'id': 'CVE-2023-0013'}> cve2=<Node element_id='4:de342d72-e7ff-4d5b-9a28-99eaa381965b:3' labels=frozenset({'CVE'}) properties={'assigner': 'cna@sap.com', 'id': 'CVE-2023-0015'}> Entities=<Node element_id='4:de342d72-e7ff-4d5b-9a28-99eaa381965b:1' labels=frozenset({'CVE'}) properties={'assigner': 'cna@sap.com', 'id': 'CVE-2023-0013'}>>, <Record cve1=<Node element_id='4:de342d72-e7ff-4d5b-9a28-99eaa381965b:1' labels=frozenset({'CVE'}) properties={'assigner': 'cna@sap.com', 'id': 'CVE-2023-0013'}> cve2=<Node element_id='4:de342d72-e7ff-4d5b-9a28-99eaa381965b:3' labels=frozenset({'CVE'}) properties={'assigner': 'cna@sap.com', 'id': 'CVE-2023-0015'}> Entities=<Node element_id='4:de342d72-e7ff-4d5b-9a28-99eaa381965b:6' labels=frozenset({'CVE'}) properties={'assigner': 'cna@sap.com', 'id': 'CVE-2023-0018'}>>, <Record cve1=<Node element_id='4:de342d72-e7ff-4d5b-9a28-99eaa381965b:1' labels=frozenset({'CVE'}) properties={'assigner': 'cna@sap.com', 'id': 'CVE-2023-0013'}> cve2=<Node element_id='4:de342d72-e7ff-4d5b-9a28-99eaa381965b:3' labels=frozenset({'CVE'}) properties={'assigner': 'cna@sap.com', 'id': 'CVE-2023-0015'}> Entities=<Node element_id='4:de342d72-e7ff-4d5b-9a28-99eaa381965b:6' labels=frozenset({'CVE'}) properties={'assigner': 'cna@sap.com', 'id': 'CVE-2023-0018'}>>, <Record cve1=<Node element_id='4:de342d72-e7ff-4d5b-9a28-99eaa381965b:1' labels=frozenset({'CVE'}) properties={'assigner': 'cna@sap.com', 'id': 'CVE-2023-0013'}> cve2=<Node element_id='4:de342d72-e7ff-4d5b-9a28-99eaa381965b:3' labels=frozenset({'CVE'}) properties={'assigner': 'cna@sap.com', 'id': 'CVE-2023-0015'}> Entities=<Node element_id='4:de342d72-e7ff-4d5b-9a28-99eaa381965b:9' labels=frozenset({'CVE'}) properties={'assigner': 'security@huntr.dev', 'id': 'CVE-2023-0028'}>>, <Record cve1=<Node element_id='4:de342d72-e7ff-4d5b-9a28-99eaa381965b:1' labels=frozenset({'CVE'}) properties={'assigner': 'cna@sap.com', 'id': 'CVE-2023-0013'}> cve2=<Node element_id='4:de342d72-e7ff-4d5b-9a28-99eaa381965b:3' labels=frozenset({'CVE'}) properties={'assigner': 'cna@sap.com', 'id': 'CVE-2023-0015'}> Entities=<Node element_id='4:de342d72-e7ff-4d5b-9a28-99eaa381965b:9' labels=frozenset({'CVE'}) properties={'assigner': 'security@huntr.dev', 'id': 'CVE-2023-0028'}>>, <Record cve1=<Node element_id='4:de342d72-e7ff-4d5b-9a28-99eaa381965b:1' labels=frozenset({'CVE'}) properties={'assigner': 'cna@sap.com', 'id': 'CVE-2023-0013'}> cve2=<Node element_id='4:de342d72-e7ff-4d5b-9a28-99eaa381965b:3' labels=frozenset({'CVE'}) properties={'assigner': 'cna@sap.com', 'id': 'CVE-2023-0015'}> Entities=<Node element_id='4:de342d72-e7ff-4d5b-9a28-99eaa381965b:3' labels=frozenset({'CVE'}) properties={'assigner': 'cna@sap.com', 'id': 'CVE-2023-0015'}>>, <Record cve1=<Node element_id='4:de342d72-e7ff-4d5b-9a28-99eaa381965b:1' labels=frozenset({'CVE'}) properties={'assigner': 'cna@sap.com', 'id': 'CVE-2023-0013'}> cve2=<Node element_id='4:de342d72-e7ff-4d5b-9a28-99eaa381965b:3' labels=frozenset({'CVE'}) properties={'assigner': 'cna@sap.com', 'id': 'CVE-2023-0015'}> Entities=<Node element_id='4:de342d72-e7ff-4d5b-9a28-99eaa381965b:3' labels=frozenset({'CVE'}) properties={'assigner': 'cna@sap.com', 'id': 'CVE-2023-0015'}>>, <Record cve1=<Node element_id='4:de342d72-e7ff-4d5b-9a28-99eaa381965b:1' labels=frozenset({'CVE'}) properties={'assigner': 'cna@sap.com', 'id': 'CVE-2023-0013'}> cve2=<Node element_id='4:de342d72-e7ff-4d5b-9a28-99eaa381965b:3' labels=frozenset({'CVE'}) properties={'assigner': 'cna@sap.com', 'id': 'CVE-2023-0015'}> Entities=<Node element_id='4:de342d72-e7ff-4d5b-9a28-99eaa381965b:1' labels=frozenset({'CVE'}) properties={'assigner': 'cna@sap.com', 'id': 'CVE-2023-0013'}>>, <Record cve1=<Node element_id='4:de342d72-e7ff-4d5b-9a28-99eaa381965b:1' labels=frozenset({'CVE'}) properties={'assigner': 'cna@sap.com', 'id': 'CVE-2023-0013'}> cve2=<Node element_id='4:de342d72-e7ff-4d5b-9a28-99eaa381965b:3' labels=frozenset({'CVE'}) properties={'assigner': 'cna@sap.com', 'id': 'CVE-2023-0015'}> Entities=<Node element_id='4:de342d72-e7ff-4d5b-9a28-99eaa381965b:1' labels=frozenset({'CVE'}) properties={'assigner': 'cna@sap.com', 'id': 'CVE-2023-0013'}>>, <Record cve1=<Node element_id='4:de342d72-e7ff-4d5b-9a28-99eaa381965b:1' labels=frozenset({'CVE'}) properties={'assigner': 'cna@sap.com', 'id': 'CVE-2023-0013'}> cve2=<Node element_id='4:de342d72-e7ff-4d5b-9a28-99eaa381965b:3' labels=frozenset({'CVE'}) properties={'assigner': 'cna@sap.com', 'id': 'CVE-2023-0015'}> Entities=<Node element_id='4:de342d72-e7ff-4d5b-9a28-99eaa381965b:6' labels=frozenset({'CVE'}) properties={'assigner': 'cna@sap.com', 'id': 'CVE-2023-0018'}>>, <Record cve1=<Node element_id='4:de342d72-e7ff-4d5b-9a28-99eaa381965b:1' labels=frozenset({'CVE'}) properties={'assigner': 'cna@sap.com', 'id': 'CVE-2023-0013'}> cve2=<Node element_id='4:de342d72-e7ff-4d5b-9a28-99eaa381965b:3' labels=frozenset({'CVE'}) properties={'assigner': 'cna@sap.com', 'id': 'CVE-2023-0015'}> Entities=<Node element_id='4:de342d72-e7ff-4d5b-9a28-99eaa381965b:6' labels=frozenset({'CVE'}) properties={'assigner': 'cna@sap.com', 'id': 'CVE-2023-0018'}>>, <Record cve1=<Node element_id='4:de342d72-e7ff-4d5b-9a28-99eaa381965b:1' labels=frozenset({'CVE'}) properties={'assigner': 'cna@sap.com', 'id': 'CVE-2023-0013'}> cve2=<Node element_id='4:de342d72-e7ff-4d5b-9a28-99eaa381965b:3' labels=frozenset({'CVE'}) properties={'assigner': 'cna@sap.com', 'id': 'CVE-2023-0015'}> Entities=<Node element_id='4:de342d72-e7ff-4d5b-9a28-99eaa381965b:6' labels=frozenset({'CVE'}) properties={'assigner': 'cna@sap.com', 'id': 'CVE-2023-0018'}>>, <Record cve1=<Node element_id='4:de342d72-e7ff-4d5b-9a28-99eaa381965b:1' labels=frozenset({'CVE'}) properties={'assigner': 'cna@sap.com', 'id': 'CVE-2023-0013'}> cve2=<Node element_id='4:de342d72-e7ff-4d5b-9a28-99eaa381965b:3' labels=frozenset({'CVE'}) properties={'assigner': 'cna@sap.com', 'id': 'CVE-2023-0015'}> Entities=<Node element_id='4:de342d72-e7ff-4d5b-9a28-99eaa381965b:9' labels=frozenset({'CVE'}) properties={'assigner': 'security@huntr.dev', 'id': 'CVE-2023-0028'}>>, <Record cve1=<Node element_id='4:de342d72-e7ff-4d5b-9a28-99eaa381965b:1' labels=frozenset({'CVE'}) properties={'assigner': 'cna@sap.com', 'id': 'CVE-2023-0013'}> cve2=<Node element_id='4:de342d72-e7ff-4d5b-9a28-99eaa381965b:3' labels=frozenset({'CVE'}) properties={'assigner': 'cna@sap.com', 'id': 'CVE-2023-0015'}> Entities=<Node element_id='4:de342d72-e7ff-4d5b-9a28-99eaa381965b:9' labels=frozenset({'CVE'}) properties={'assigner': 'security@huntr.dev', 'id': 'CVE-2023-0028'}>>, <Record cve1=<Node element_id='4:de342d72-e7ff-4d5b-9a28-99eaa381965b:1' labels=frozenset({'CVE'}) properties={'assigner': 'cna@sap.com', 'id': 'CVE-2023-0013'}> cve2=<Node element_id='4:de342d72-e7ff-4d5b-9a28-99eaa381965b:3' labels=frozenset({'CVE'}) properties={'assigner': 'cna@sap.com', 'id': 'CVE-2023-0015'}> Entities=<Node element_id='4:de342d72-e7ff-4d5b-9a28-99eaa381965b:9' labels=frozenset({'CVE'}) properties={'assigner': 'security@huntr.dev', 'id': 'CVE-2023-0028'}>>, <Record cve1=<Node element_id='4:de342d72-e7ff-4d5b-9a28-99eaa381965b:1' labels=frozenset({'CVE'}) properties={'assigner': 'cna@sap.com', 'id': 'CVE-2023-0013'}> cve2=<Node element_id='4:de342d72-e7ff-4d5b-9a28-99eaa381965b:3' labels=frozenset({'CVE'}) properties={'assigner': 'cna@sap.com', 'id': 'CVE-2023-0015'}> Entities=<Node element_id='4:de342d72-e7ff-4d5b-9a28-99eaa381965b:3' labels=frozenset({'CVE'}) properties={'assigner': 'cna@sap.com', 'id': 'CVE-2023-0015'}>>, <Record cve1=<Node element_id='4:de342d72-e7ff-4d5b-9a28-99eaa381965b:1' labels=frozenset({'CVE'}) properties={'assigner': 'cna@sap.com', 'id': 'CVE-2023-0013'}> cve2=<Node element_id='4:de342d72-e7ff-4d5b-9a28-99eaa381965b:3' labels=frozenset({'CVE'}) properties={'assigner': 'cna@sap.com', 'id': 'CVE-2023-0015'}> Entities=<Node element_id='4:de342d72-e7ff-4d5b-9a28-99eaa381965b:3' labels=frozenset({'CVE'}) properties={'assigner': 'cna@sap.com', 'id': 'CVE-2023-0015'}>>, <Record cve1=<Node element_id='4:de342d72-e7ff-4d5b-9a28-99eaa381965b:1' labels=frozenset({'CVE'}) properties={'assigner': 'cna@sap.com', 'id': 'CVE-2023-0013'}> cve2=<Node element_id='4:de342d72-e7ff-4d5b-9a28-99eaa381965b:3' labels=frozenset({'CVE'}) properties={'assigner': 'cna@sap.com', 'id': 'CVE-2023-0015'}> Entities=<Node element_id='4:de342d72-e7ff-4d5b-9a28-99eaa381965b:3' labels=frozenset({'CVE'}) properties={'assigner': 'cna@sap.com', 'id': 'CVE-2023-0015'}>>, <Record cve1=<Node element_id='4:de342d72-e7ff-4d5b-9a28-99eaa381965b:1' labels=frozenset({'CVE'}) properties={'assigner': 'cna@sap.com', 'id': 'CVE-2023-0013'}> cve2=<Node element_id='4:de342d72-e7ff-4d5b-9a28-99eaa381965b:3' labels=frozenset({'CVE'}) properties={'assigner': 'cna@sap.com', 'id': 'CVE-2023-0015'}> Entities=<Node element_id='4:de342d72-e7ff-4d5b-9a28-99eaa381965b:1' labels=frozenset({'CVE'}) properties={'assigner': 'cna@sap.com', 'id': 'CVE-2023-0013'}>>, <Record cve1=<Node element_id='4:de342d72-e7ff-4d5b-9a28-99eaa381965b:1' labels=frozenset({'CVE'}) properties={'assigner': 'cna@sap.com', 'id': 'CVE-2023-0013'}> cve2=<Node element_id='4:de342d72-e7ff-4d5b-9a28-99eaa381965b:3' labels=frozenset({'CVE'}) properties={'assigner': 'cna@sap.com', 'id': 'CVE-2023-0015'}> Entities=<Node element_id='4:de342d72-e7ff-4d5b-9a28-99eaa381965b:1' labels=frozenset({'CVE'}) properties={'assigner': 'cna@sap.com', 'id': 'CVE-2023-0013'}>>, <Record cve1=<Node element_id='4:de342d72-e7ff-4d5b-9a28-99eaa381965b:1' labels=frozenset({'CVE'}) properties={'assigner': 'cna@sap.com', 'id': 'CVE-2023-0013'}> cve2=<Node element_id='4:de342d72-e7ff-4d5b-9a28-99eaa381965b:3' labels=frozenset({'CVE'}) properties={'assigner': 'cna@sap.com', 'id': 'CVE-2023-0015'}> Entities=<Node element_id='4:de342d72-e7ff-4d5b-9a28-99eaa381965b:1' labels=frozenset({'CVE'}) properties={'assigner': 'cna@sap.com', 'id': 'CVE-2023-0013'}>>, <Record cve1=<Node element_id='4:de342d72-e7ff-4d5b-9a28-99eaa381965b:1' labels=frozenset({'CVE'}) properties={'assigner': 'cna@sap.com', 'id': 'CVE-2023-0013'}> cve2=<Node element_id='4:de342d72-e7ff-4d5b-9a28-99eaa381965b:3' labels=frozenset({'CVE'}) properties={'assigner': 'cna@sap.com', 'id': 'CVE-2023-0015'}> Entities=<Node element_id='4:de342d72-e7ff-4d5b-9a28-99eaa381965b:6' labels=frozenset({'CVE'}) properties={'assigner': 'cna@sap.com', 'id': 'CVE-2023-0018'}>>, <Record cve1=<Node element_id='4:de342d72-e7ff-4d5b-9a28-99eaa381965b:1' labels=frozenset({'CVE'}) properties={'assigner': 'cna@sap.com', 'id': 'CVE-2023-0013'}> cve2=<Node element_id='4:de342d72-e7ff-4d5b-9a28-99eaa381965b:3' labels=frozenset({'CVE'}) properties={'assigner': 'cna@sap.com', 'id': 'CVE-2023-0015'}> Entities=<Node element_id='4:de342d72-e7ff-4d5b-9a28-99eaa381965b:6' labels=frozenset({'CVE'}) properties={'assigner': 'cna@sap.com', 'id': 'CVE-2023-0018'}>>, <Record cve1=<Node element_id='4:de342d72-e7ff-4d5b-9a28-99eaa381965b:1' labels=frozenset({'CVE'}) properties={'assigner': 'cna@sap.com', 'id': 'CVE-2023-0013'}> cve2=<Node element_id='4:de342d72-e7ff-4d5b-9a28-99eaa381965b:3' labels=frozenset({'CVE'}) properties={'assigner': 'cna@sap.com', 'id': 'CVE-2023-0015'}> Entities=<Node element_id='4:de342d72-e7ff-4d5b-9a28-99eaa381965b:6' labels=frozenset({'CVE'}) properties={'assigner': 'cna@sap.com', 'id': 'CVE-2023-0018'}>>, <Record cve1=<Node element_id='4:de342d72-e7ff-4d5b-9a28-99eaa381965b:1' labels=frozenset({'CVE'}) properties={'assigner': 'cna@sap.com', 'id': 'CVE-2023-0013'}> cve2=<Node element_id='4:de342d72-e7ff-4d5b-9a28-99eaa381965b:3' labels=frozenset({'CVE'}) properties={'assigner': 'cna@sap.com', 'id': 'CVE-2023-0015'}> Entities=<Node element_id='4:de342d72-e7ff-4d5b-9a28-99eaa381965b:9' labels=frozenset({'CVE'}) properties={'assigner': 'security@huntr.dev', 'id': 'CVE-2023-0028'}>>, <Record cve1=<Node element_id='4:de342d72-e7ff-4d5b-9a28-99eaa381965b:1' labels=frozenset({'CVE'}) properties={'assigner': 'cna@sap.com', 'id': 'CVE-2023-0013'}> cve2=<Node element_id='4:de342d72-e7ff-4d5b-9a28-99eaa381965b:3' labels=frozenset({'CVE'}) properties={'assigner': 'cna@sap.com', 'id': 'CVE-2023-0015'}> Entities=<Node element_id='4:de342d72-e7ff-4d5b-9a28-99eaa381965b:9' labels=frozenset({'CVE'}) properties={'assigner': 'security@huntr.dev', 'id': 'CVE-2023-0028'}>>, <Record cve1=<Node element_id='4:de342d72-e7ff-4d5b-9a28-99eaa381965b:1' labels=frozenset({'CVE'}) properties={'assigner': 'cna@sap.com', 'id': 'CVE-2023-0013'}> cve2=<Node element_id='4:de342d72-e7ff-4d5b-9a28-99eaa381965b:3' labels=frozenset({'CVE'}) properties={'assigner': 'cna@sap.com', 'id': 'CVE-2023-0015'}> Entities=<Node element_id='4:de342d72-e7ff-4d5b-9a28-99eaa381965b:9' labels=frozenset({'CVE'}) properties={'assigner': 'security@huntr.dev', 'id': 'CVE-2023-0028'}>>, <Record cve1=<Node element_id='4:de342d72-e7ff-4d5b-9a28-99eaa381965b:1' labels=frozenset({'CVE'}) properties={'assigner': 'cna@sap.com', 'id': 'CVE-2023-0013'}> cve2=<Node element_id='4:de342d72-e7ff-4d5b-9a28-99eaa381965b:3' labels=frozenset({'CVE'}) properties={'assigner': 'cna@sap.com', 'id': 'CVE-2023-0015'}> Entities=<Node element_id='4:de342d72-e7ff-4d5b-9a28-99eaa381965b:3' labels=frozenset({'CVE'}) properties={'assigner': 'cna@sap.com', 'id': 'CVE-2023-0015'}>>, <Record cve1=<Node element_id='4:de342d72-e7ff-4d5b-9a28-99eaa381965b:1' labels=frozenset({'CVE'}) properties={'assigner': 'cna@sap.com', 'id': 'CVE-2023-0013'}> cve2=<Node element_id='4:de342d72-e7ff-4d5b-9a28-99eaa381965b:3' labels=frozenset({'CVE'}) properties={'assigner': 'cna@sap.com', 'id': 'CVE-2023-0015'}> Entities=<Node element_id='4:de342d72-e7ff-4d5b-9a28-99eaa381965b:3' labels=frozenset({'CVE'}) properties={'assigner': 'cna@sap.com', 'id': 'CVE-2023-0015'}>>, <Record cve1=<Node element_id='4:de342d72-e7ff-4d5b-9a28-99eaa381965b:1' labels=frozenset({'CVE'}) properties={'assigner': 'cna@sap.com', 'id': 'CVE-2023-0013'}> cve2=<Node element_id='4:de342d72-e7ff-4d5b-9a28-99eaa381965b:3' labels=frozenset({'CVE'}) properties={'assigner': 'cna@sap.com', 'id': 'CVE-2023-0015'}> Entities=<Node element_id='4:de342d72-e7ff-4d5b-9a28-99eaa381965b:3' labels=frozenset({'CVE'}) properties={'assigner': 'cna@sap.com', 'id': 'CVE-2023-0015'}>>, <Record cve1=<Node element_id='4:de342d72-e7ff-4d5b-9a28-99eaa381965b:1' labels=frozenset({'CVE'}) properties={'assigner': 'cna@sap.com', 'id': 'CVE-2023-0013'}> cve2=<Node element_id='4:de342d72-e7ff-4d5b-9a28-99eaa381965b:3' labels=frozenset({'CVE'}) properties={'assigner': 'cna@sap.com', 'id': 'CVE-2023-0015'}> Entities=<Node element_id='4:de342d72-e7ff-4d5b-9a28-99eaa381965b:1' labels=frozenset({'CVE'}) properties={'assigner': 'cna@sap.com', 'id': 'CVE-2023-0013'}>>, <Record cve1=<Node element_id='4:de342d72-e7ff-4d5b-9a28-99eaa381965b:1' labels=frozenset({'CVE'}) properties={'assigner': 'cna@sap.com', 'id': 'CVE-2023-0013'}> cve2=<Node element_id='4:de342d72-e7ff-4d5b-9a28-99eaa381965b:3' labels=frozenset({'CVE'}) properties={'assigner': 'cna@sap.com', 'id': 'CVE-2023-0015'}> Entities=<Node element_id='4:de342d72-e7ff-4d5b-9a28-99eaa381965b:1' labels=frozenset({'CVE'}) properties={'assigner': 'cna@sap.com', 'id': 'CVE-2023-0013'}>>, <Record cve1=<Node element_id='4:de342d72-e7ff-4d5b-9a28-99eaa381965b:1' labels=frozenset({'CVE'}) properties={'assigner': 'cna@sap.com', 'id': 'CVE-2023-0013'}> cve2=<Node element_id='4:de342d72-e7ff-4d5b-9a28-99eaa381965b:3' labels=frozenset({'CVE'}) properties={'assigner': 'cna@sap.com', 'id': 'CVE-2023-0015'}> Entities=<Node element_id='4:de342d72-e7ff-4d5b-9a28-99eaa381965b:1' labels=frozenset({'CVE'}) properties={'assigner': 'cna@sap.com', 'id': 'CVE-2023-0013'}>>, <Record cve1=<Node element_id='4:de342d72-e7ff-4d5b-9a28-99eaa381965b:1' labels=frozenset({'CVE'}) properties={'assigner': 'cna@sap.com', 'id': 'CVE-2023-0013'}> cve2=<Node element_id='4:de342d72-e7ff-4d5b-9a28-99eaa381965b:3' labels=frozenset({'CVE'}) properties={'assigner': 'cna@sap.com', 'id': 'CVE-2023-0015'}> Entities=<Node element_id='4:de342d72-e7ff-4d5b-9a28-99eaa381965b:6' labels=frozenset({'CVE'}) properties={'assigner': 'cna@sap.com', 'id': 'CVE-2023-0018'}>>, <Record cve1=<Node element_id='4:de342d72-e7ff-4d5b-9a28-99eaa381965b:1' labels=frozenset({'CVE'}) properties={'assigner': 'cna@sap.com', 'id': 'CVE-2023-0013'}> cve2=<Node element_id='4:de342d72-e7ff-4d5b-9a28-99eaa381965b:3' labels=frozenset({'CVE'}) properties={'assigner': 'cna@sap.com', 'id': 'CVE-2023-0015'}> Entities=<Node element_id='4:de342d72-e7ff-4d5b-9a28-99eaa381965b:6' labels=frozenset({'CVE'}) properties={'assigner': 'cna@sap.com', 'id': 'CVE-2023-0018'}>>, <Record cve1=<Node element_id='4:de342d72-e7ff-4d5b-9a28-99eaa381965b:1' labels=frozenset({'CVE'}) properties={'assigner': 'cna@sap.com', 'id': 'CVE-2023-0013'}> cve2=<Node element_id='4:de342d72-e7ff-4d5b-9a28-99eaa381965b:3' labels=frozenset({'CVE'}) properties={'assigner': 'cna@sap.com', 'id': 'CVE-2023-0015'}> Entities=<Node element_id='4:de342d72-e7ff-4d5b-9a28-99eaa381965b:9' labels=frozenset({'CVE'}) properties={'assigner': 'security@huntr.dev', 'id': 'CVE-2023-0028'}>>, <Record cve1=<Node element_id='4:de342d72-e7ff-4d5b-9a28-99eaa381965b:1' labels=frozenset({'CVE'}) properties={'assigner': 'cna@sap.com', 'id': 'CVE-2023-0013'}> cve2=<Node element_id='4:de342d72-e7ff-4d5b-9a28-99eaa381965b:3' labels=frozenset({'CVE'}) properties={'assigner': 'cna@sap.com', 'id': 'CVE-2023-0015'}> Entities=<Node element_id='4:de342d72-e7ff-4d5b-9a28-99eaa381965b:9' labels=frozenset({'CVE'}) properties={'assigner': 'security@huntr.dev', 'id': 'CVE-2023-0028'}>>, <Record cve1=<Node element_id='4:de342d72-e7ff-4d5b-9a28-99eaa381965b:1' labels=frozenset({'CVE'}) properties={'assigner': 'cna@sap.com', 'id': 'CVE-2023-0013'}> cve2=<Node element_id='4:de342d72-e7ff-4d5b-9a28-99eaa381965b:3' labels=frozenset({'CVE'}) properties={'assigner': 'cna@sap.com', 'id': 'CVE-2023-0015'}> Entities=<Node element_id='4:de342d72-e7ff-4d5b-9a28-99eaa381965b:3' labels=frozenset({'CVE'}) properties={'assigner': 'cna@sap.com', 'id': 'CVE-2023-0015'}>>, <Record cve1=<Node element_id='4:de342d72-e7ff-4d5b-9a28-99eaa381965b:1' labels=frozenset({'CVE'}) properties={'assigner': 'cna@sap.com', 'id': 'CVE-2023-0013'}> cve2=<Node element_id='4:de342d72-e7ff-4d5b-9a28-99eaa381965b:3' labels=frozenset({'CVE'}) properties={'assigner': 'cna@sap.com', 'id': 'CVE-2023-0015'}> Entities=<Node element_id='4:de342d72-e7ff-4d5b-9a28-99eaa381965b:3' labels=frozenset({'CVE'}) properties={'assigner': 'cna@sap.com', 'id': 'CVE-2023-0015'}>>, <Record cve1=<Node element_id='4:de342d72-e7ff-4d5b-9a28-99eaa381965b:1' labels=frozenset({'CVE'}) properties={'assigner': 'cna@sap.com', 'id': 'CVE-2023-0013'}> cve2=<Node element_id='4:de342d72-e7ff-4d5b-9a28-99eaa381965b:3' labels=frozenset({'CVE'}) properties={'assigner': 'cna@sap.com', 'id': 'CVE-2023-0015'}> Entities=<Node element_id='4:de342d72-e7ff-4d5b-9a28-99eaa381965b:1' labels=frozenset({'CVE'}) properties={'assigner': 'cna@sap.com', 'id': 'CVE-2023-0013'}>>, <Record cve1=<Node element_id='4:de342d72-e7ff-4d5b-9a28-99eaa381965b:1' labels=frozenset({'CVE'}) properties={'assigner': 'cna@sap.com', 'id': 'CVE-2023-0013'}> cve2=<Node element_id='4:de342d72-e7ff-4d5b-9a28-99eaa381965b:3' labels=frozenset({'CVE'}) properties={'assigner': 'cna@sap.com', 'id': 'CVE-2023-0015'}> Entities=<Node element_id='4:de342d72-e7ff-4d5b-9a28-99eaa381965b:1' labels=frozenset({'CVE'}) properties={'assigner': 'cna@sap.com', 'id': 'CVE-2023-0013'}>>, <Record cve1=<Node element_id='4:de342d72-e7ff-4d5b-9a28-99eaa381965b:1' labels=frozenset({'CVE'}) properties={'assigner': 'cna@sap.com', 'id': 'CVE-2023-0013'}> cve2=<Node element_id='4:de342d72-e7ff-4d5b-9a28-99eaa381965b:3' labels=frozenset({'CVE'}) properties={'assigner': 'cna@sap.com', 'id': 'CVE-2023-0015'}> Entities=<Node element_id='4:de342d72-e7ff-4d5b-9a28-99eaa381965b:6' labels=frozenset({'CVE'}) properties={'assigner': 'cna@sap.com', 'id': 'CVE-2023-0018'}>>, <Record cve1=<Node element_id='4:de342d72-e7ff-4d5b-9a28-99eaa381965b:1' labels=frozenset({'CVE'}) properties={'assigner': 'cna@sap.com', 'id': 'CVE-2023-0013'}> cve2=<Node element_id='4:de342d72-e7ff-4d5b-9a28-99eaa381965b:3' labels=frozenset({'CVE'}) properties={'assigner': 'cna@sap.com', 'id': 'CVE-2023-0015'}> Entities=<Node element_id='4:de342d72-e7ff-4d5b-9a28-99eaa381965b:6' labels=frozenset({'CVE'}) properties={'assigner': 'cna@sap.com', 'id': 'CVE-2023-0018'}>>, <Record cve1=<Node element_id='4:de342d72-e7ff-4d5b-9a28-99eaa381965b:1' labels=frozenset({'CVE'}) properties={'assigner': 'cna@sap.com', 'id': 'CVE-2023-0013'}> cve2=<Node element_id='4:de342d72-e7ff-4d5b-9a28-99eaa381965b:3' labels=frozenset({'CVE'}) properties={'assigner': 'cna@sap.com', 'id': 'CVE-2023-0015'}> Entities=<Node element_id='4:de342d72-e7ff-4d5b-9a28-99eaa381965b:9' labels=frozenset({'CVE'}) properties={'assigner': 'security@huntr.dev', 'id': 'CVE-2023-0028'}>>, <Record cve1=<Node element_id='4:de342d72-e7ff-4d5b-9a28-99eaa381965b:1' labels=frozenset({'CVE'}) properties={'assigner': 'cna@sap.com', 'id': 'CVE-2023-0013'}> cve2=<Node element_id='4:de342d72-e7ff-4d5b-9a28-99eaa381965b:3' labels=frozenset({'CVE'}) properties={'assigner': 'cna@sap.com', 'id': 'CVE-2023-0015'}> Entities=<Node element_id='4:de342d72-e7ff-4d5b-9a28-99eaa381965b:9' labels=frozenset({'CVE'}) properties={'assigner': 'security@huntr.dev', 'id': 'CVE-2023-0028'}>>, <Record cve1=<Node element_id='4:de342d72-e7ff-4d5b-9a28-99eaa381965b:1' labels=frozenset({'CVE'}) properties={'assigner': 'cna@sap.com', 'id': 'CVE-2023-0013'}> cve2=<Node element_id='4:de342d72-e7ff-4d5b-9a28-99eaa381965b:3' labels=frozenset({'CVE'}) properties={'assigner': 'cna@sap.com', 'id': 'CVE-2023-0015'}> Entities=<Node element_id='4:de342d72-e7ff-4d5b-9a28-99eaa381965b:3' labels=frozenset({'CVE'}) properties={'assigner': 'cna@sap.com', 'id': 'CVE-2023-0015'}>>, <Record cve1=<Node element_id='4:de342d72-e7ff-4d5b-9a28-99eaa381965b:1' labels=frozenset({'CVE'}) properties={'assigner': 'cna@sap.com', 'id': 'CVE-2023-0013'}> cve2=<Node element_id='4:de342d72-e7ff-4d5b-9a28-99eaa381965b:3' labels=frozenset({'CVE'}) properties={'assigner': 'cna@sap.com', 'id': 'CVE-2023-0015'}> Entities=<Node element_id='4:de342d72-e7ff-4d5b-9a28-99eaa381965b:3' labels=frozenset({'CVE'}) properties={'assigner': 'cna@sap.com', 'id': 'CVE-2023-0015'}>>, <Record cve1=<Node element_id='4:de342d72-e7ff-4d5b-9a28-99eaa381965b:1' labels=frozenset({'CVE'}) properties={'assigner': 'cna@sap.com', 'id': 'CVE-2023-0013'}> cve2=<Node element_id='4:de342d72-e7ff-4d5b-9a28-99eaa381965b:3' labels=frozenset({'CVE'}) properties={'assigner': 'cna@sap.com', 'id': 'CVE-2023-0015'}> Entities=<Node element_id='4:de342d72-e7ff-4d5b-9a28-99eaa381965b:1' labels=frozenset({'CVE'}) properties={'assigner': 'cna@sap.com', 'id': 'CVE-2023-0013'}>>, <Record cve1=<Node element_id='4:de342d72-e7ff-4d5b-9a28-99eaa381965b:1' labels=frozenset({'CVE'}) properties={'assigner': 'cna@sap.com', 'id': 'CVE-2023-0013'}> cve2=<Node element_id='4:de342d72-e7ff-4d5b-9a28-99eaa381965b:3' labels=frozenset({'CVE'}) properties={'assigner': 'cna@sap.com', 'id': 'CVE-2023-0015'}> Entities=<Node element_id='4:de342d72-e7ff-4d5b-9a28-99eaa381965b:1' labels=frozenset({'CVE'}) properties={'assigner': 'cna@sap.com', 'id': 'CVE-2023-0013'}>>, <Record cve1=<Node element_id='4:de342d72-e7ff-4d5b-9a28-99eaa381965b:1' labels=frozenset({'CVE'}) properties={'assigner': 'cna@sap.com', 'id': 'CVE-2023-0013'}> cve2=<Node element_id='4:de342d72-e7ff-4d5b-9a28-99eaa381965b:3' labels=frozenset({'CVE'}) properties={'assigner': 'cna@sap.com', 'id': 'CVE-2023-0015'}> Entities=<Node element_id='4:de342d72-e7ff-4d5b-9a28-99eaa381965b:6' labels=frozenset({'CVE'}) properties={'assigner': 'cna@sap.com', 'id': 'CVE-2023-0018'}>>, <Record cve1=<Node element_id='4:de342d72-e7ff-4d5b-9a28-99eaa381965b:1' labels=frozenset({'CVE'}) properties={'assigner': 'cna@sap.com', 'id': 'CVE-2023-0013'}> cve2=<Node element_id='4:de342d72-e7ff-4d5b-9a28-99eaa381965b:3' labels=frozenset({'CVE'}) properties={'assigner': 'cna@sap.com', 'id': 'CVE-2023-0015'}> Entities=<Node element_id='4:de342d72-e7ff-4d5b-9a28-99eaa381965b:6' labels=frozenset({'CVE'}) properties={'assigner': 'cna@sap.com', 'id': 'CVE-2023-0018'}>>, <Record cve1=<Node element_id='4:de342d72-e7ff-4d5b-9a28-99eaa381965b:1' labels=frozenset({'CVE'}) properties={'assigner': 'cna@sap.com', 'id': 'CVE-2023-0013'}> cve2=<Node element_id='4:de342d72-e7ff-4d5b-9a28-99eaa381965b:3' labels=frozenset({'CVE'}) properties={'assigner': 'cna@sap.com', 'id': 'CVE-2023-0015'}> Entities=<Node element_id='4:de342d72-e7ff-4d5b-9a28-99eaa381965b:9' labels=frozenset({'CVE'}) properties={'assigner': 'security@huntr.dev', 'id': 'CVE-2023-0028'}>>, <Record cve1=<Node element_id='4:de342d72-e7ff-4d5b-9a28-99eaa381965b:1' labels=frozenset({'CVE'}) properties={'assigner': 'cna@sap.com', 'id': 'CVE-2023-0013'}> cve2=<Node element_id='4:de342d72-e7ff-4d5b-9a28-99eaa381965b:3' labels=frozenset({'CVE'}) properties={'assigner': 'cna@sap.com', 'id': 'CVE-2023-0015'}> Entities=<Node element_id='4:de342d72-e7ff-4d5b-9a28-99eaa381965b:9' labels=frozenset({'CVE'}) properties={'assigner': 'security@huntr.dev', 'id': 'CVE-2023-0028'}>>, <Record cve1=<Node element_id='4:de342d72-e7ff-4d5b-9a28-99eaa381965b:1' labels=frozenset({'CVE'}) properties={'assigner': 'cna@sap.com', 'id': 'CVE-2023-0013'}> cve2=<Node element_id='4:de342d72-e7ff-4d5b-9a28-99eaa381965b:3' labels=frozenset({'CVE'}) properties={'assigner': 'cna@sap.com', 'id': 'CVE-2023-0015'}> Entities=<Node element_id='4:de342d72-e7ff-4d5b-9a28-99eaa381965b:3' labels=frozenset({'CVE'}) properties={'assigner': 'cna@sap.com', 'id': 'CVE-2023-0015'}>>, <Record cve1=<Node element_id='4:de342d72-e7ff-4d5b-9a28-99eaa381965b:1' labels=frozenset({'CVE'}) properties={'assigner': 'cna@sap.com', 'id': 'CVE-2023-0013'}> cve2=<Node element_id='4:de342d72-e7ff-4d5b-9a28-99eaa381965b:3' labels=frozenset({'CVE'}) properties={'assigner': 'cna@sap.com', 'id': 'CVE-2023-0015'}> Entities=<Node element_id='4:de342d72-e7ff-4d5b-9a28-99eaa381965b:3' labels=frozenset({'CVE'}) properties={'assigner': 'cna@sap.com', 'id': 'CVE-2023-0015'}>>, <Record cve1=<Node element_id='4:de342d72-e7ff-4d5b-9a28-99eaa381965b:1' labels=frozenset({'CVE'}) properties={'assigner': 'cna@sap.com', 'id': 'CVE-2023-0013'}> cve2=<Node element_id='4:de342d72-e7ff-4d5b-9a28-99eaa381965b:3' labels=frozenset({'CVE'}) properties={'assigner': 'cna@sap.com', 'id': 'CVE-2023-0015'}> Entities=<Node element_id='4:de342d72-e7ff-4d5b-9a28-99eaa381965b:1' labels=frozenset({'CVE'}) properties={'assigner': 'cna@sap.com', 'id': 'CVE-2023-0013'}>>, <Record cve1=<Node element_id='4:de342d72-e7ff-4d5b-9a28-99eaa381965b:1' labels=frozenset({'CVE'}) properties={'assigner': 'cna@sap.com', 'id': 'CVE-2023-0013'}> cve2=<Node element_id='4:de342d72-e7ff-4d5b-9a28-99eaa381965b:3' labels=frozenset({'CVE'}) properties={'assigner': 'cna@sap.com', 'id': 'CVE-2023-0015'}> Entities=<Node element_id='4:de342d72-e7ff-4d5b-9a28-99eaa381965b:1' labels=frozenset({'CVE'}) properties={'assigner': 'cna@sap.com', 'id': 'CVE-2023-0013'}>>, <Record cve1=<Node element_id='4:de342d72-e7ff-4d5b-9a28-99eaa381965b:1' labels=frozenset({'CVE'}) properties={'assigner': 'cna@sap.com', 'id': 'CVE-2023-0013'}> cve2=<Node element_id='4:de342d72-e7ff-4d5b-9a28-99eaa381965b:3' labels=frozenset({'CVE'}) properties={'assigner': 'cna@sap.com', 'id': 'CVE-2023-0015'}> Entities=<Node element_id='4:de342d72-e7ff-4d5b-9a28-99eaa381965b:6' labels=frozenset({'CVE'}) properties={'assigner': 'cna@sap.com', 'id': 'CVE-2023-0018'}>>, <Record cve1=<Node element_id='4:de342d72-e7ff-4d5b-9a28-99eaa381965b:1' labels=frozenset({'CVE'}) properties={'assigner': 'cna@sap.com', 'id': 'CVE-2023-0013'}> cve2=<Node element_id='4:de342d72-e7ff-4d5b-9a28-99eaa381965b:3' labels=frozenset({'CVE'}) properties={'assigner': 'cna@sap.com', 'id': 'CVE-2023-0015'}> Entities=<Node element_id='4:de342d72-e7ff-4d5b-9a28-99eaa381965b:6' labels=frozenset({'CVE'}) properties={'assigner': 'cna@sap.com', 'id': 'CVE-2023-0018'}>>, <Record cve1=<Node element_id='4:de342d72-e7ff-4d5b-9a28-99eaa381965b:1' labels=frozenset({'CVE'}) properties={'assigner': 'cna@sap.com', 'id': 'CVE-2023-0013'}> cve2=<Node element_id='4:de342d72-e7ff-4d5b-9a28-99eaa381965b:3' labels=frozenset({'CVE'}) properties={'assigner': 'cna@sap.com', 'id': 'CVE-2023-0015'}> Entities=<Node element_id='4:de342d72-e7ff-4d5b-9a28-99eaa381965b:9' labels=frozenset({'CVE'}) properties={'assigner': 'security@huntr.dev', 'id': 'CVE-2023-0028'}>>, <Record cve1=<Node element_id='4:de342d72-e7ff-4d5b-9a28-99eaa381965b:1' labels=frozenset({'CVE'}) properties={'assigner': 'cna@sap.com', 'id': 'CVE-2023-0013'}> cve2=<Node element_id='4:de342d72-e7ff-4d5b-9a28-99eaa381965b:3' labels=frozenset({'CVE'}) properties={'assigner': 'cna@sap.com', 'id': 'CVE-2023-0015'}> Entities=<Node element_id='4:de342d72-e7ff-4d5b-9a28-99eaa381965b:9' labels=frozenset({'CVE'}) properties={'assigner': 'security@huntr.dev', 'id': 'CVE-2023-0028'}>>, <Record cve1=<Node element_id='4:de342d72-e7ff-4d5b-9a28-99eaa381965b:1' labels=frozenset({'CVE'}) properties={'assigner': 'cna@sap.com', 'id': 'CVE-2023-0013'}> cve2=<Node element_id='4:de342d72-e7ff-4d5b-9a28-99eaa381965b:3' labels=frozenset({'CVE'}) properties={'assigner': 'cna@sap.com', 'id': 'CVE-2023-0015'}> Entities=<Node element_id='4:de342d72-e7ff-4d5b-9a28-99eaa381965b:3' labels=frozenset({'CVE'}) properties={'assigner': 'cna@sap.com', 'id': 'CVE-2023-0015'}>>, <Record cve1=<Node element_id='4:de342d72-e7ff-4d5b-9a28-99eaa381965b:1' labels=frozenset({'CVE'}) properties={'assigner': 'cna@sap.com', 'id': 'CVE-2023-0013'}> cve2=<Node element_id='4:de342d72-e7ff-4d5b-9a28-99eaa381965b:3' labels=frozenset({'CVE'}) properties={'assigner': 'cna@sap.com', 'id': 'CVE-2023-0015'}> Entities=<Node element_id='4:de342d72-e7ff-4d5b-9a28-99eaa381965b:3' labels=frozenset({'CVE'}) properties={'assigner': 'cna@sap.com', 'id': 'CVE-2023-0015'}>>, <Record cve1=<Node element_id='4:de342d72-e7ff-4d5b-9a28-99eaa381965b:1' labels=frozenset({'CVE'}) properties={'assigner': 'cna@sap.com', 'id': 'CVE-2023-0013'}> cve2=<Node element_id='4:de342d72-e7ff-4d5b-9a28-99eaa381965b:3' labels=frozenset({'CVE'}) properties={'assigner': 'cna@sap.com', 'id': 'CVE-2023-0015'}> Entities=<Node element_id='4:de342d72-e7ff-4d5b-9a28-99eaa381965b:1' labels=frozenset({'CVE'}) properties={'assigner': 'cna@sap.com', 'id': 'CVE-2023-0013'}>>, <Record cve1=<Node element_id='4:de342d72-e7ff-4d5b-9a28-99eaa381965b:1' labels=frozenset({'CVE'}) properties={'assigner': 'cna@sap.com', 'id': 'CVE-2023-0013'}> cve2=<Node element_id='4:de342d72-e7ff-4d5b-9a28-99eaa381965b:3' labels=frozenset({'CVE'}) properties={'assigner': 'cna@sap.com', 'id': 'CVE-2023-0015'}> Entities=<Node element_id='4:de342d72-e7ff-4d5b-9a28-99eaa381965b:1' labels=frozenset({'CVE'}) properties={'assigner': 'cna@sap.com', 'id': 'CVE-2023-0013'}>>, <Record cve1=<Node element_id='4:de342d72-e7ff-4d5b-9a28-99eaa381965b:1' labels=frozenset({'CVE'}) properties={'assigner': 'cna@sap.com', 'id': 'CVE-2023-0013'}> cve2=<Node element_id='4:de342d72-e7ff-4d5b-9a28-99eaa381965b:3' labels=frozenset({'CVE'}) properties={'assigner': 'cna@sap.com', 'id': 'CVE-2023-0015'}> Entities=<Node element_id='4:de342d72-e7ff-4d5b-9a28-99eaa381965b:6' labels=frozenset({'CVE'}) properties={'assigner': 'cna@sap.com', 'id': 'CVE-2023-0018'}>>, <Record cve1=<Node element_id='4:de342d72-e7ff-4d5b-9a28-99eaa381965b:1' labels=frozenset({'CVE'}) properties={'assigner': 'cna@sap.com', 'id': 'CVE-2023-0013'}> cve2=<Node element_id='4:de342d72-e7ff-4d5b-9a28-99eaa381965b:3' labels=frozenset({'CVE'}) properties={'assigner': 'cna@sap.com', 'id': 'CVE-2023-0015'}> Entities=<Node element_id='4:de342d72-e7ff-4d5b-9a28-99eaa381965b:6' labels=frozenset({'CVE'}) properties={'assigner': 'cna@sap.com', 'id': 'CVE-2023-0018'}>>, <Record cve1=<Node element_id='4:de342d72-e7ff-4d5b-9a28-99eaa381965b:1' labels=frozenset({'CVE'}) properties={'assigner': 'cna@sap.com', 'id': 'CVE-2023-0013'}> cve2=<Node element_id='4:de342d72-e7ff-4d5b-9a28-99eaa381965b:3' labels=frozenset({'CVE'}) properties={'assigner': 'cna@sap.com', 'id': 'CVE-2023-0015'}> Entities=<Node element_id='4:de342d72-e7ff-4d5b-9a28-99eaa381965b:9' labels=frozenset({'CVE'}) properties={'assigner': 'security@huntr.dev', 'id': 'CVE-2023-0028'}>>, <Record cve1=<Node element_id='4:de342d72-e7ff-4d5b-9a28-99eaa381965b:1' labels=frozenset({'CVE'}) properties={'assigner': 'cna@sap.com', 'id': 'CVE-2023-0013'}> cve2=<Node element_id='4:de342d72-e7ff-4d5b-9a28-99eaa381965b:3' labels=frozenset({'CVE'}) properties={'assigner': 'cna@sap.com', 'id': 'CVE-2023-0015'}> Entities=<Node element_id='4:de342d72-e7ff-4d5b-9a28-99eaa381965b:9' labels=frozenset({'CVE'}) properties={'assigner': 'security@huntr.dev', 'id': 'CVE-2023-0028'}>>, <Record cve1=<Node element_id='4:de342d72-e7ff-4d5b-9a28-99eaa381965b:1' labels=frozenset({'CVE'}) properties={'assigner': 'cna@sap.com', 'id': 'CVE-2023-0013'}> cve2=<Node element_id='4:de342d72-e7ff-4d5b-9a28-99eaa381965b:3' labels=frozenset({'CVE'}) properties={'assigner': 'cna@sap.com', 'id': 'CVE-2023-0015'}> Entities=<Node element_id='4:de342d72-e7ff-4d5b-9a28-99eaa381965b:3' labels=frozenset({'CVE'}) properties={'assigner': 'cna@sap.com', 'id': 'CVE-2023-0015'}>>, <Record cve1=<Node element_id='4:de342d72-e7ff-4d5b-9a28-99eaa381965b:1' labels=frozenset({'CVE'}) properties={'assigner': 'cna@sap.com', 'id': 'CVE-2023-0013'}> cve2=<Node element_id='4:de342d72-e7ff-4d5b-9a28-99eaa381965b:3' labels=frozenset({'CVE'}) properties={'assigner': 'cna@sap.com', 'id': 'CVE-2023-0015'}> Entities=<Node element_id='4:de342d72-e7ff-4d5b-9a28-99eaa381965b:3' labels=frozenset({'CVE'}) properties={'assigner': 'cna@sap.com', 'id': 'CVE-2023-0015'}>>, <Record cve1=<Node element_id='4:de342d72-e7ff-4d5b-9a28-99eaa381965b:1' labels=frozenset({'CVE'}) properties={'assigner': 'cna@sap.com', 'id': 'CVE-2023-0013'}> cve2=<Node element_id='4:de342d72-e7ff-4d5b-9a28-99eaa381965b:3' labels=frozenset({'CVE'}) properties={'assigner': 'cna@sap.com', 'id': 'CVE-2023-0015'}> Entities=<Node element_id='4:de342d72-e7ff-4d5b-9a28-99eaa381965b:1' labels=frozenset({'CVE'}) properties={'assigner': 'cna@sap.com', 'id': 'CVE-2023-0013'}>>, <Record cve1=<Node element_id='4:de342d72-e7ff-4d5b-9a28-99eaa381965b:1' labels=frozenset({'CVE'}) properties={'assigner': 'cna@sap.com', 'id': 'CVE-2023-0013'}> cve2=<Node element_id='4:de342d72-e7ff-4d5b-9a28-99eaa381965b:3' labels=frozenset({'CVE'}) properties={'assigner': 'cna@sap.com', 'id': 'CVE-2023-0015'}> Entities=<Node element_id='4:de342d72-e7ff-4d5b-9a28-99eaa381965b:1' labels=frozenset({'CVE'}) properties={'assigner': 'cna@sap.com', 'id': 'CVE-2023-0013'}>>, <Record cve1=<Node element_id='4:de342d72-e7ff-4d5b-9a28-99eaa381965b:1' labels=frozenset({'CVE'}) properties={'assigner': 'cna@sap.com', 'id': 'CVE-2023-0013'}> cve2=<Node element_id='4:de342d72-e7ff-4d5b-9a28-99eaa381965b:3' labels=frozenset({'CVE'}) properties={'assigner': 'cna@sap.com', 'id': 'CVE-2023-0015'}> Entities=<Node element_id='4:de342d72-e7ff-4d5b-9a28-99eaa381965b:6' labels=frozenset({'CVE'}) properties={'assigner': 'cna@sap.com', 'id': 'CVE-2023-0018'}>>, <Record cve1=<Node element_id='4:de342d72-e7ff-4d5b-9a28-99eaa381965b:1' labels=frozenset({'CVE'}) properties={'assigner': 'cna@sap.com', 'id': 'CVE-2023-0013'}> cve2=<Node element_id='4:de342d72-e7ff-4d5b-9a28-99eaa381965b:3' labels=frozenset({'CVE'}) properties={'assigner': 'cna@sap.com', 'id': 'CVE-2023-0015'}> Entities=<Node element_id='4:de342d72-e7ff-4d5b-9a28-99eaa381965b:6' labels=frozenset({'CVE'}) properties={'assigner': 'cna@sap.com', 'id': 'CVE-2023-0018'}>>, <Record cve1=<Node element_id='4:de342d72-e7ff-4d5b-9a28-99eaa381965b:1' labels=frozenset({'CVE'}) properties={'assigner': 'cna@sap.com', 'id': 'CVE-2023-0013'}> cve2=<Node element_id='4:de342d72-e7ff-4d5b-9a28-99eaa381965b:3' labels=frozenset({'CVE'}) properties={'assigner': 'cna@sap.com', 'id': 'CVE-2023-0015'}> Entities=<Node element_id='4:de342d72-e7ff-4d5b-9a28-99eaa381965b:9' labels=frozenset({'CVE'}) properties={'assigner': 'security@huntr.dev', 'id': 'CVE-2023-0028'}>>, <Record cve1=<Node element_id='4:de342d72-e7ff-4d5b-9a28-99eaa381965b:1' labels=frozenset({'CVE'}) properties={'assigner': 'cna@sap.com', 'id': 'CVE-2023-0013'}> cve2=<Node element_id='4:de342d72-e7ff-4d5b-9a28-99eaa381965b:3' labels=frozenset({'CVE'}) properties={'assigner': 'cna@sap.com', 'id': 'CVE-2023-0015'}> Entities=<Node element_id='4:de342d72-e7ff-4d5b-9a28-99eaa381965b:9' labels=frozenset({'CVE'}) properties={'assigner': 'security@huntr.dev', 'id': 'CVE-2023-0028'}>>, <Record cve1=<Node element_id='4:de342d72-e7ff-4d5b-9a28-99eaa381965b:1' labels=frozenset({'CVE'}) properties={'assigner': 'cna@sap.com', 'id': 'CVE-2023-0013'}> cve2=<Node element_id='4:de342d72-e7ff-4d5b-9a28-99eaa381965b:3' labels=frozenset({'CVE'}) properties={'assigner': 'cna@sap.com', 'id': 'CVE-2023-0015'}> Entities=<Node element_id='4:de342d72-e7ff-4d5b-9a28-99eaa381965b:3' labels=frozenset({'CVE'}) properties={'assigner': 'cna@sap.com', 'id': 'CVE-2023-0015'}>>, <Record cve1=<Node element_id='4:de342d72-e7ff-4d5b-9a28-99eaa381965b:1' labels=frozenset({'CVE'}) properties={'assigner': 'cna@sap.com', 'id': 'CVE-2023-0013'}> cve2=<Node element_id='4:de342d72-e7ff-4d5b-9a28-99eaa381965b:3' labels=frozenset({'CVE'}) properties={'assigner': 'cna@sap.com', 'id': 'CVE-2023-0015'}> Entities=<Node element_id='4:de342d72-e7ff-4d5b-9a28-99eaa381965b:3' labels=frozenset({'CVE'}) properties={'assigner': 'cna@sap.com', 'id': 'CVE-2023-0015'}>>, <Record cve1=<Node element_id='4:de342d72-e7ff-4d5b-9a28-99eaa381965b:1' labels=frozenset({'CVE'}) properties={'assigner': 'cna@sap.com', 'id': 'CVE-2023-0013'}> cve2=<Node element_id='4:de342d72-e7ff-4d5b-9a28-99eaa381965b:3' labels=frozenset({'CVE'}) properties={'assigner': 'cna@sap.com', 'id': 'CVE-2023-0015'}> Entities=<Node element_id='4:de342d72-e7ff-4d5b-9a28-99eaa381965b:1' labels=frozenset({'CVE'}) properties={'assigner': 'cna@sap.com', 'id': 'CVE-2023-0013'}>>, <Record cve1=<Node element_id='4:de342d72-e7ff-4d5b-9a28-99eaa381965b:1' labels=frozenset({'CVE'}) properties={'assigner': 'cna@sap.com', 'id': 'CVE-2023-0013'}> cve2=<Node element_id='4:de342d72-e7ff-4d5b-9a28-99eaa381965b:3' labels=frozenset({'CVE'}) properties={'assigner': 'cna@sap.com', 'id': 'CVE-2023-0015'}> Entities=<Node element_id='4:de342d72-e7ff-4d5b-9a28-99eaa381965b:1' labels=frozenset({'CVE'}) properties={'assigner': 'cna@sap.com', 'id': 'CVE-2023-0013'}>>, <Record cve1=<Node element_id='4:de342d72-e7ff-4d5b-9a28-99eaa381965b:1' labels=frozenset({'CVE'}) properties={'assigner': 'cna@sap.com', 'id': 'CVE-2023-0013'}> cve2=<Node element_id='4:de342d72-e7ff-4d5b-9a28-99eaa381965b:3' labels=frozenset({'CVE'}) properties={'assigner': 'cna@sap.com', 'id': 'CVE-2023-0015'}> Entities=<Node element_id='4:de342d72-e7ff-4d5b-9a28-99eaa381965b:4' labels=frozenset({'CVE'}) properties={'assigner': 'cna@sap.com', 'id': 'CVE-2023-0016'}>>, <Record cve1=<Node element_id='4:de342d72-e7ff-4d5b-9a28-99eaa381965b:1' labels=frozenset({'CVE'}) properties={'assigner': 'cna@sap.com', 'id': 'CVE-2023-0013'}> cve2=<Node element_id='4:de342d72-e7ff-4d5b-9a28-99eaa381965b:3' labels=frozenset({'CVE'}) properties={'assigner': 'cna@sap.com', 'id': 'CVE-2023-0015'}> Entities=<Node element_id='4:de342d72-e7ff-4d5b-9a28-99eaa381965b:167' labels=frozenset({'Entities'}) properties={'wikipediaExternalRef': 241154, 'wikidataId': 'Q371199', 'confidence_score': 0.719, 'offsetStart': 0, 'offsetEnd': 20, 'rawName': 'Cross-site scripting'}>>, <Record cve1=<Node element_id='4:de342d72-e7ff-4d5b-9a28-99eaa381965b:1' labels=frozenset({'CVE'}) properties={'assigner': 'cna@sap.com', 'id': 'CVE-2023-0013'}> cve2=<Node element_id='4:de342d72-e7ff-4d5b-9a28-99eaa381965b:3' labels=frozenset({'CVE'}) properties={'assigner': 'cna@sap.com', 'id': 'CVE-2023-0015'}> Entities=<Node element_id='4:de342d72-e7ff-4d5b-9a28-99eaa381965b:167' labels=frozenset({'Entities'}) properties={'wikipediaExternalRef': 241154, 'wikidataId': 'Q371199', 'confidence_score': 0.719, 'offsetStart': 0, 'offsetEnd': 20, 'rawName': 'Cross-site scripting'}>>, <Record cve1=<Node element_id='4:de342d72-e7ff-4d5b-9a28-99eaa381965b:1' labels=frozenset({'CVE'}) properties={'assigner': 'cna@sap.com', 'id': 'CVE-2023-0013'}> cve2=<Node element_id='4:de342d72-e7ff-4d5b-9a28-99eaa381965b:3' labels=frozenset({'CVE'}) properties={'assigner': 'cna@sap.com', 'id': 'CVE-2023-0015'}> Entities=<Node element_id='4:de342d72-e7ff-4d5b-9a28-99eaa381965b:167' labels=frozenset({'Entities'}) properties={'wikipediaExternalRef': 241154, 'wikidataId': 'Q371199', 'confidence_score': 0.719, 'offsetStart': 0, 'offsetEnd': 20, 'rawName': 'Cross-site scripting'}>>, <Record cve1=<Node element_id='4:de342d72-e7ff-4d5b-9a28-99eaa381965b:1' labels=frozenset({'CVE'}) properties={'assigner': 'cna@sap.com', 'id': 'CVE-2023-0013'}> cve2=<Node element_id='4:de342d72-e7ff-4d5b-9a28-99eaa381965b:3' labels=frozenset({'CVE'}) properties={'assigner': 'cna@sap.com', 'id': 'CVE-2023-0015'}> Entities=<Node element_id='4:de342d72-e7ff-4d5b-9a28-99eaa381965b:167' labels=frozenset({'Entities'}) properties={'wikipediaExternalRef': 241154, 'wikidataId': 'Q371199', 'confidence_score': 0.719, 'offsetStart': 0, 'offsetEnd': 20, 'rawName': 'Cross-site scripting'}>>, <Record cve1=<Node element_id='4:de342d72-e7ff-4d5b-9a28-99eaa381965b:1' labels=frozenset({'CVE'}) properties={'assigner': 'cna@sap.com', 'id': 'CVE-2023-0013'}> cve2=<Node element_id='4:de342d72-e7ff-4d5b-9a28-99eaa381965b:3' labels=frozenset({'CVE'}) properties={'assigner': 'cna@sap.com', 'id': 'CVE-2023-0015'}> Entities=<Node element_id='4:de342d72-e7ff-4d5b-9a28-99eaa381965b:262' labels=frozenset({'Entities'}) properties={'wikipediaExternalRef': 526999, 'wikidataId': 'Q506059', 'confidence_score': 0.9162, 'offsetStart': 1041, 'offsetEnd': 1054, 'rawName': 'SQL injection'}>>, <Record cve1=<Node element_id='4:de342d72-e7ff-4d5b-9a28-99eaa381965b:3' labels=frozenset({'CVE'}) properties={'assigner': 'cna@sap.com', 'id': 'CVE-2023-0015'}> cve2=<Node element_id='4:de342d72-e7ff-4d5b-9a28-99eaa381965b:6' labels=frozenset({'CVE'}) properties={'assigner': 'cna@sap.com', 'id': 'CVE-2023-0018'}> Entities=<Node element_id='4:de342d72-e7ff-4d5b-9a28-99eaa381965b:6' labels=frozenset({'CVE'}) properties={'assigner': 'cna@sap.com', 'id': 'CVE-2023-0018'}>>, <Record cve1=<Node element_id='4:de342d72-e7ff-4d5b-9a28-99eaa381965b:3' labels=frozenset({'CVE'}) properties={'assigner': 'cna@sap.com', 'id': 'CVE-2023-0015'}> cve2=<Node element_id='4:de342d72-e7ff-4d5b-9a28-99eaa381965b:6' labels=frozenset({'CVE'}) properties={'assigner': 'cna@sap.com', 'id': 'CVE-2023-0018'}> Entities=<Node element_id='4:de342d72-e7ff-4d5b-9a28-99eaa381965b:9' labels=frozenset({'CVE'}) properties={'assigner': 'security@huntr.dev', 'id': 'CVE-2023-0028'}>>, <Record cve1=<Node element_id='4:de342d72-e7ff-4d5b-9a28-99eaa381965b:3' labels=frozenset({'CVE'}) properties={'assigner': 'cna@sap.com', 'id': 'CVE-2023-0015'}> cve2=<Node element_id='4:de342d72-e7ff-4d5b-9a28-99eaa381965b:6' labels=frozenset({'CVE'}) properties={'assigner': 'cna@sap.com', 'id': 'CVE-2023-0018'}> Entities=<Node element_id='4:de342d72-e7ff-4d5b-9a28-99eaa381965b:3' labels=frozenset({'CVE'}) properties={'assigner': 'cna@sap.com', 'id': 'CVE-2023-0015'}>>, <Record cve1=<Node element_id='4:de342d72-e7ff-4d5b-9a28-99eaa381965b:3' labels=frozenset({'CVE'}) properties={'assigner': 'cna@sap.com', 'id': 'CVE-2023-0015'}> cve2=<Node element_id='4:de342d72-e7ff-4d5b-9a28-99eaa381965b:6' labels=frozenset({'CVE'}) properties={'assigner': 'cna@sap.com', 'id': 'CVE-2023-0018'}> Entities=<Node element_id='4:de342d72-e7ff-4d5b-9a28-99eaa381965b:1' labels=frozenset({'CVE'}) properties={'assigner': 'cna@sap.com', 'id': 'CVE-2023-0013'}>>, <Record cve1=<Node element_id='4:de342d72-e7ff-4d5b-9a28-99eaa381965b:3' labels=frozenset({'CVE'}) properties={'assigner': 'cna@sap.com', 'id': 'CVE-2023-0015'}> cve2=<Node element_id='4:de342d72-e7ff-4d5b-9a28-99eaa381965b:6' labels=frozenset({'CVE'}) properties={'assigner': 'cna@sap.com', 'id': 'CVE-2023-0018'}> Entities=<Node element_id='4:de342d72-e7ff-4d5b-9a28-99eaa381965b:7' labels=frozenset({'CVE'}) properties={'assigner': 'cna@sap.com', 'id': 'CVE-2023-0022'}>>, <Record cve1=<Node element_id='4:de342d72-e7ff-4d5b-9a28-99eaa381965b:3' labels=frozenset({'CVE'}) properties={'assigner': 'cna@sap.com', 'id': 'CVE-2023-0015'}> cve2=<Node element_id='4:de342d72-e7ff-4d5b-9a28-99eaa381965b:6' labels=frozenset({'CVE'}) properties={'assigner': 'cna@sap.com', 'id': 'CVE-2023-0018'}> Entities=<Node element_id='4:de342d72-e7ff-4d5b-9a28-99eaa381965b:7' labels=frozenset({'CVE'}) properties={'assigner': 'cna@sap.com', 'id': 'CVE-2023-0022'}>>, <Record cve1=<Node element_id='4:de342d72-e7ff-4d5b-9a28-99eaa381965b:3' labels=frozenset({'CVE'}) properties={'assigner': 'cna@sap.com', 'id': 'CVE-2023-0015'}> cve2=<Node element_id='4:de342d72-e7ff-4d5b-9a28-99eaa381965b:6' labels=frozenset({'CVE'}) properties={'assigner': 'cna@sap.com', 'id': 'CVE-2023-0018'}> Entities=<Node element_id='4:de342d72-e7ff-4d5b-9a28-99eaa381965b:2' labels=frozenset({'CVE'}) properties={'assigner': 'cna@sap.com', 'id': 'CVE-2023-0014'}>>, <Record cve1=<Node element_id='4:de342d72-e7ff-4d5b-9a28-99eaa381965b:3' labels=frozenset({'CVE'}) properties={'assigner': 'cna@sap.com', 'id': 'CVE-2023-0015'}> cve2=<Node element_id='4:de342d72-e7ff-4d5b-9a28-99eaa381965b:6' labels=frozenset({'CVE'}) properties={'assigner': 'cna@sap.com', 'id': 'CVE-2023-0018'}> Entities=<Node element_id='4:de342d72-e7ff-4d5b-9a28-99eaa381965b:6' labels=frozenset({'CVE'}) properties={'assigner': 'cna@sap.com', 'id': 'CVE-2023-0018'}>>, <Record cve1=<Node element_id='4:de342d72-e7ff-4d5b-9a28-99eaa381965b:3' labels=frozenset({'CVE'}) properties={'assigner': 'cna@sap.com', 'id': 'CVE-2023-0015'}> cve2=<Node element_id='4:de342d72-e7ff-4d5b-9a28-99eaa381965b:6' labels=frozenset({'CVE'}) properties={'assigner': 'cna@sap.com', 'id': 'CVE-2023-0018'}> Entities=<Node element_id='4:de342d72-e7ff-4d5b-9a28-99eaa381965b:9' labels=frozenset({'CVE'}) properties={'assigner': 'security@huntr.dev', 'id': 'CVE-2023-0028'}>>, <Record cve1=<Node element_id='4:de342d72-e7ff-4d5b-9a28-99eaa381965b:3' labels=frozenset({'CVE'}) properties={'assigner': 'cna@sap.com', 'id': 'CVE-2023-0015'}> cve2=<Node element_id='4:de342d72-e7ff-4d5b-9a28-99eaa381965b:6' labels=frozenset({'CVE'}) properties={'assigner': 'cna@sap.com', 'id': 'CVE-2023-0018'}> Entities=<Node element_id='4:de342d72-e7ff-4d5b-9a28-99eaa381965b:3' labels=frozenset({'CVE'}) properties={'assigner': 'cna@sap.com', 'id': 'CVE-2023-0015'}>>, <Record cve1=<Node element_id='4:de342d72-e7ff-4d5b-9a28-99eaa381965b:3' labels=frozenset({'CVE'}) properties={'assigner': 'cna@sap.com', 'id': 'CVE-2023-0015'}> cve2=<Node element_id='4:de342d72-e7ff-4d5b-9a28-99eaa381965b:6' labels=frozenset({'CVE'}) properties={'assigner': 'cna@sap.com', 'id': 'CVE-2023-0018'}> Entities=<Node element_id='4:de342d72-e7ff-4d5b-9a28-99eaa381965b:1' labels=frozenset({'CVE'}) properties={'assigner': 'cna@sap.com', 'id': 'CVE-2023-0013'}>>, <Record cve1=<Node element_id='4:de342d72-e7ff-4d5b-9a28-99eaa381965b:3' labels=frozenset({'CVE'}) properties={'assigner': 'cna@sap.com', 'id': 'CVE-2023-0015'}> cve2=<Node element_id='4:de342d72-e7ff-4d5b-9a28-99eaa381965b:6' labels=frozenset({'CVE'}) properties={'assigner': 'cna@sap.com', 'id': 'CVE-2023-0018'}> Entities=<Node element_id='4:de342d72-e7ff-4d5b-9a28-99eaa381965b:8' labels=frozenset({'CVE'}) properties={'assigner': 'cna@sap.com', 'id': 'CVE-2023-0023'}>>, <Record cve1=<Node element_id='4:de342d72-e7ff-4d5b-9a28-99eaa381965b:3' labels=frozenset({'CVE'}) properties={'assigner': 'cna@sap.com', 'id': 'CVE-2023-0015'}> cve2=<Node element_id='4:de342d72-e7ff-4d5b-9a28-99eaa381965b:6' labels=frozenset({'CVE'}) properties={'assigner': 'cna@sap.com', 'id': 'CVE-2023-0018'}> Entities=<Node element_id='4:de342d72-e7ff-4d5b-9a28-99eaa381965b:0' labels=frozenset({'CVE'}) properties={'assigner': 'cna@sap.com', 'id': 'CVE-2023-0012'}>>, <Record cve1=<Node element_id='4:de342d72-e7ff-4d5b-9a28-99eaa381965b:3' labels=frozenset({'CVE'}) properties={'assigner': 'cna@sap.com', 'id': 'CVE-2023-0015'}> cve2=<Node element_id='4:de342d72-e7ff-4d5b-9a28-99eaa381965b:6' labels=frozenset({'CVE'}) properties={'assigner': 'cna@sap.com', 'id': 'CVE-2023-0018'}> Entities=<Node element_id='4:de342d72-e7ff-4d5b-9a28-99eaa381965b:5' labels=frozenset({'CVE'}) properties={'assigner': 'cna@sap.com', 'id': 'CVE-2023-0017'}>>, <Record cve1=<Node element_id='4:de342d72-e7ff-4d5b-9a28-99eaa381965b:3' labels=frozenset({'CVE'}) properties={'assigner': 'cna@sap.com', 'id': 'CVE-2023-0015'}> cve2=<Node element_id='4:de342d72-e7ff-4d5b-9a28-99eaa381965b:6' labels=frozenset({'CVE'}) properties={'assigner': 'cna@sap.com', 'id': 'CVE-2023-0018'}> Entities=<Node element_id='4:de342d72-e7ff-4d5b-9a28-99eaa381965b:0' labels=frozenset({'CVE'}) properties={'assigner': 'cna@sap.com', 'id': 'CVE-2023-0012'}>>, <Record cve1=<Node element_id='4:de342d72-e7ff-4d5b-9a28-99eaa381965b:3' labels=frozenset({'CVE'}) properties={'assigner': 'cna@sap.com', 'id': 'CVE-2023-0015'}> cve2=<Node element_id='4:de342d72-e7ff-4d5b-9a28-99eaa381965b:6' labels=frozenset({'CVE'}) properties={'assigner': 'cna@sap.com', 'id': 'CVE-2023-0018'}> Entities=<Node element_id='4:de342d72-e7ff-4d5b-9a28-99eaa381965b:0' labels=frozenset({'CVE'}) properties={'assigner': 'cna@sap.com', 'id': 'CVE-2023-0012'}>>, <Record cve1=<Node element_id='4:de342d72-e7ff-4d5b-9a28-99eaa381965b:3' labels=frozenset({'CVE'}) properties={'assigner': 'cna@sap.com', 'id': 'CVE-2023-0015'}> cve2=<Node element_id='4:de342d72-e7ff-4d5b-9a28-99eaa381965b:6' labels=frozenset({'CVE'}) properties={'assigner': 'cna@sap.com', 'id': 'CVE-2023-0018'}> Entities=<Node element_id='4:de342d72-e7ff-4d5b-9a28-99eaa381965b:5' labels=frozenset({'CVE'}) properties={'assigner': 'cna@sap.com', 'id': 'CVE-2023-0017'}>>, <Record cve1=<Node element_id='4:de342d72-e7ff-4d5b-9a28-99eaa381965b:3' labels=frozenset({'CVE'}) properties={'assigner': 'cna@sap.com', 'id': 'CVE-2023-0015'}> cve2=<Node element_id='4:de342d72-e7ff-4d5b-9a28-99eaa381965b:6' labels=frozenset({'CVE'}) properties={'assigner': 'cna@sap.com', 'id': 'CVE-2023-0018'}> Entities=<Node element_id='4:de342d72-e7ff-4d5b-9a28-99eaa381965b:5' labels=frozenset({'CVE'}) properties={'assigner': 'cna@sap.com', 'id': 'CVE-2023-0017'}>>, <Record cve1=<Node element_id='4:de342d72-e7ff-4d5b-9a28-99eaa381965b:3' labels=frozenset({'CVE'}) properties={'assigner': 'cna@sap.com', 'id': 'CVE-2023-0015'}> cve2=<Node element_id='4:de342d72-e7ff-4d5b-9a28-99eaa381965b:6' labels=frozenset({'CVE'}) properties={'assigner': 'cna@sap.com', 'id': 'CVE-2023-0018'}> Entities=<Node element_id='4:de342d72-e7ff-4d5b-9a28-99eaa381965b:6' labels=frozenset({'CVE'}) properties={'assigner': 'cna@sap.com', 'id': 'CVE-2023-0018'}>>, <Record cve1=<Node element_id='4:de342d72-e7ff-4d5b-9a28-99eaa381965b:3' labels=frozenset({'CVE'}) properties={'assigner': 'cna@sap.com', 'id': 'CVE-2023-0015'}> cve2=<Node element_id='4:de342d72-e7ff-4d5b-9a28-99eaa381965b:6' labels=frozenset({'CVE'}) properties={'assigner': 'cna@sap.com', 'id': 'CVE-2023-0018'}> Entities=<Node element_id='4:de342d72-e7ff-4d5b-9a28-99eaa381965b:6' labels=frozenset({'CVE'}) properties={'assigner': 'cna@sap.com', 'id': 'CVE-2023-0018'}>>, <Record cve1=<Node element_id='4:de342d72-e7ff-4d5b-9a28-99eaa381965b:3' labels=frozenset({'CVE'}) properties={'assigner': 'cna@sap.com', 'id': 'CVE-2023-0015'}> cve2=<Node element_id='4:de342d72-e7ff-4d5b-9a28-99eaa381965b:6' labels=frozenset({'CVE'}) properties={'assigner': 'cna@sap.com', 'id': 'CVE-2023-0018'}> Entities=<Node element_id='4:de342d72-e7ff-4d5b-9a28-99eaa381965b:6' labels=frozenset({'CVE'}) properties={'assigner': 'cna@sap.com', 'id': 'CVE-2023-0018'}>>, <Record cve1=<Node element_id='4:de342d72-e7ff-4d5b-9a28-99eaa381965b:3' labels=frozenset({'CVE'}) properties={'assigner': 'cna@sap.com', 'id': 'CVE-2023-0015'}> cve2=<Node element_id='4:de342d72-e7ff-4d5b-9a28-99eaa381965b:6' labels=frozenset({'CVE'}) properties={'assigner': 'cna@sap.com', 'id': 'CVE-2023-0018'}> Entities=<Node element_id='4:de342d72-e7ff-4d5b-9a28-99eaa381965b:6' labels=frozenset({'CVE'}) properties={'assigner': 'cna@sap.com', 'id': 'CVE-2023-0018'}>>, <Record cve1=<Node element_id='4:de342d72-e7ff-4d5b-9a28-99eaa381965b:3' labels=frozenset({'CVE'}) properties={'assigner': 'cna@sap.com', 'id': 'CVE-2023-0015'}> cve2=<Node element_id='4:de342d72-e7ff-4d5b-9a28-99eaa381965b:6' labels=frozenset({'CVE'}) properties={'assigner': 'cna@sap.com', 'id': 'CVE-2023-0018'}> Entities=<Node element_id='4:de342d72-e7ff-4d5b-9a28-99eaa381965b:9' labels=frozenset({'CVE'}) properties={'assigner': 'security@huntr.dev', 'id': 'CVE-2023-0028'}>>, <Record cve1=<Node element_id='4:de342d72-e7ff-4d5b-9a28-99eaa381965b:3' labels=frozenset({'CVE'}) properties={'assigner': 'cna@sap.com', 'id': 'CVE-2023-0015'}> cve2=<Node element_id='4:de342d72-e7ff-4d5b-9a28-99eaa381965b:6' labels=frozenset({'CVE'}) properties={'assigner': 'cna@sap.com', 'id': 'CVE-2023-0018'}> Entities=<Node element_id='4:de342d72-e7ff-4d5b-9a28-99eaa381965b:9' labels=frozenset({'CVE'}) properties={'assigner': 'security@huntr.dev', 'id': 'CVE-2023-0028'}>>, <Record cve1=<Node element_id='4:de342d72-e7ff-4d5b-9a28-99eaa381965b:3' labels=frozenset({'CVE'}) properties={'assigner': 'cna@sap.com', 'id': 'CVE-2023-0015'}> cve2=<Node element_id='4:de342d72-e7ff-4d5b-9a28-99eaa381965b:6' labels=frozenset({'CVE'}) properties={'assigner': 'cna@sap.com', 'id': 'CVE-2023-0018'}> Entities=<Node element_id='4:de342d72-e7ff-4d5b-9a28-99eaa381965b:9' labels=frozenset({'CVE'}) properties={'assigner': 'security@huntr.dev', 'id': 'CVE-2023-0028'}>>, <Record cve1=<Node element_id='4:de342d72-e7ff-4d5b-9a28-99eaa381965b:3' labels=frozenset({'CVE'}) properties={'assigner': 'cna@sap.com', 'id': 'CVE-2023-0015'}> cve2=<Node element_id='4:de342d72-e7ff-4d5b-9a28-99eaa381965b:6' labels=frozenset({'CVE'}) properties={'assigner': 'cna@sap.com', 'id': 'CVE-2023-0018'}> Entities=<Node element_id='4:de342d72-e7ff-4d5b-9a28-99eaa381965b:9' labels=frozenset({'CVE'}) properties={'assigner': 'security@huntr.dev', 'id': 'CVE-2023-0028'}>>, <Record cve1=<Node element_id='4:de342d72-e7ff-4d5b-9a28-99eaa381965b:3' labels=frozenset({'CVE'}) properties={'assigner': 'cna@sap.com', 'id': 'CVE-2023-0015'}> cve2=<Node element_id='4:de342d72-e7ff-4d5b-9a28-99eaa381965b:6' labels=frozenset({'CVE'}) properties={'assigner': 'cna@sap.com', 'id': 'CVE-2023-0018'}> Entities=<Node element_id='4:de342d72-e7ff-4d5b-9a28-99eaa381965b:3' labels=frozenset({'CVE'}) properties={'assigner': 'cna@sap.com', 'id': 'CVE-2023-0015'}>>, <Record cve1=<Node element_id='4:de342d72-e7ff-4d5b-9a28-99eaa381965b:3' labels=frozenset({'CVE'}) properties={'assigner': 'cna@sap.com', 'id': 'CVE-2023-0015'}> cve2=<Node element_id='4:de342d72-e7ff-4d5b-9a28-99eaa381965b:6' labels=frozenset({'CVE'}) properties={'assigner': 'cna@sap.com', 'id': 'CVE-2023-0018'}> Entities=<Node element_id='4:de342d72-e7ff-4d5b-9a28-99eaa381965b:3' labels=frozenset({'CVE'}) properties={'assigner': 'cna@sap.com', 'id': 'CVE-2023-0015'}>>, <Record cve1=<Node element_id='4:de342d72-e7ff-4d5b-9a28-99eaa381965b:3' labels=frozenset({'CVE'}) properties={'assigner': 'cna@sap.com', 'id': 'CVE-2023-0015'}> cve2=<Node element_id='4:de342d72-e7ff-4d5b-9a28-99eaa381965b:6' labels=frozenset({'CVE'}) properties={'assigner': 'cna@sap.com', 'id': 'CVE-2023-0018'}> Entities=<Node element_id='4:de342d72-e7ff-4d5b-9a28-99eaa381965b:3' labels=frozenset({'CVE'}) properties={'assigner': 'cna@sap.com', 'id': 'CVE-2023-0015'}>>, <Record cve1=<Node element_id='4:de342d72-e7ff-4d5b-9a28-99eaa381965b:3' labels=frozenset({'CVE'}) properties={'assigner': 'cna@sap.com', 'id': 'CVE-2023-0015'}> cve2=<Node element_id='4:de342d72-e7ff-4d5b-9a28-99eaa381965b:6' labels=frozenset({'CVE'}) properties={'assigner': 'cna@sap.com', 'id': 'CVE-2023-0018'}> Entities=<Node element_id='4:de342d72-e7ff-4d5b-9a28-99eaa381965b:3' labels=frozenset({'CVE'}) properties={'assigner': 'cna@sap.com', 'id': 'CVE-2023-0015'}>>, <Record cve1=<Node element_id='4:de342d72-e7ff-4d5b-9a28-99eaa381965b:3' labels=frozenset({'CVE'}) properties={'assigner': 'cna@sap.com', 'id': 'CVE-2023-0015'}> cve2=<Node element_id='4:de342d72-e7ff-4d5b-9a28-99eaa381965b:6' labels=frozenset({'CVE'}) properties={'assigner': 'cna@sap.com', 'id': 'CVE-2023-0018'}> Entities=<Node element_id='4:de342d72-e7ff-4d5b-9a28-99eaa381965b:1' labels=frozenset({'CVE'}) properties={'assigner': 'cna@sap.com', 'id': 'CVE-2023-0013'}>>, <Record cve1=<Node element_id='4:de342d72-e7ff-4d5b-9a28-99eaa381965b:3' labels=frozenset({'CVE'}) properties={'assigner': 'cna@sap.com', 'id': 'CVE-2023-0015'}> cve2=<Node element_id='4:de342d72-e7ff-4d5b-9a28-99eaa381965b:6' labels=frozenset({'CVE'}) properties={'assigner': 'cna@sap.com', 'id': 'CVE-2023-0018'}> Entities=<Node element_id='4:de342d72-e7ff-4d5b-9a28-99eaa381965b:1' labels=frozenset({'CVE'}) properties={'assigner': 'cna@sap.com', 'id': 'CVE-2023-0013'}>>, <Record cve1=<Node element_id='4:de342d72-e7ff-4d5b-9a28-99eaa381965b:3' labels=frozenset({'CVE'}) properties={'assigner': 'cna@sap.com', 'id': 'CVE-2023-0015'}> cve2=<Node element_id='4:de342d72-e7ff-4d5b-9a28-99eaa381965b:6' labels=frozenset({'CVE'}) properties={'assigner': 'cna@sap.com', 'id': 'CVE-2023-0018'}> Entities=<Node element_id='4:de342d72-e7ff-4d5b-9a28-99eaa381965b:1' labels=frozenset({'CVE'}) properties={'assigner': 'cna@sap.com', 'id': 'CVE-2023-0013'}>>, <Record cve1=<Node element_id='4:de342d72-e7ff-4d5b-9a28-99eaa381965b:3' labels=frozenset({'CVE'}) properties={'assigner': 'cna@sap.com', 'id': 'CVE-2023-0015'}> cve2=<Node element_id='4:de342d72-e7ff-4d5b-9a28-99eaa381965b:6' labels=frozenset({'CVE'}) properties={'assigner': 'cna@sap.com', 'id': 'CVE-2023-0018'}> Entities=<Node element_id='4:de342d72-e7ff-4d5b-9a28-99eaa381965b:1' labels=frozenset({'CVE'}) properties={'assigner': 'cna@sap.com', 'id': 'CVE-2023-0013'}>>, <Record cve1=<Node element_id='4:de342d72-e7ff-4d5b-9a28-99eaa381965b:3' labels=frozenset({'CVE'}) properties={'assigner': 'cna@sap.com', 'id': 'CVE-2023-0015'}> cve2=<Node element_id='4:de342d72-e7ff-4d5b-9a28-99eaa381965b:6' labels=frozenset({'CVE'}) properties={'assigner': 'cna@sap.com', 'id': 'CVE-2023-0018'}> Entities=<Node element_id='4:de342d72-e7ff-4d5b-9a28-99eaa381965b:6' labels=frozenset({'CVE'}) properties={'assigner': 'cna@sap.com', 'id': 'CVE-2023-0018'}>>, <Record cve1=<Node element_id='4:de342d72-e7ff-4d5b-9a28-99eaa381965b:3' labels=frozenset({'CVE'}) properties={'assigner': 'cna@sap.com', 'id': 'CVE-2023-0015'}> cve2=<Node element_id='4:de342d72-e7ff-4d5b-9a28-99eaa381965b:6' labels=frozenset({'CVE'}) properties={'assigner': 'cna@sap.com', 'id': 'CVE-2023-0018'}> Entities=<Node element_id='4:de342d72-e7ff-4d5b-9a28-99eaa381965b:6' labels=frozenset({'CVE'}) properties={'assigner': 'cna@sap.com', 'id': 'CVE-2023-0018'}>>, <Record cve1=<Node element_id='4:de342d72-e7ff-4d5b-9a28-99eaa381965b:3' labels=frozenset({'CVE'}) properties={'assigner': 'cna@sap.com', 'id': 'CVE-2023-0015'}> cve2=<Node element_id='4:de342d72-e7ff-4d5b-9a28-99eaa381965b:6' labels=frozenset({'CVE'}) properties={'assigner': 'cna@sap.com', 'id': 'CVE-2023-0018'}> Entities=<Node element_id='4:de342d72-e7ff-4d5b-9a28-99eaa381965b:9' labels=frozenset({'CVE'}) properties={'assigner': 'security@huntr.dev', 'id': 'CVE-2023-0028'}>>, <Record cve1=<Node element_id='4:de342d72-e7ff-4d5b-9a28-99eaa381965b:3' labels=frozenset({'CVE'}) properties={'assigner': 'cna@sap.com', 'id': 'CVE-2023-0015'}> cve2=<Node element_id='4:de342d72-e7ff-4d5b-9a28-99eaa381965b:6' labels=frozenset({'CVE'}) properties={'assigner': 'cna@sap.com', 'id': 'CVE-2023-0018'}> Entities=<Node element_id='4:de342d72-e7ff-4d5b-9a28-99eaa381965b:9' labels=frozenset({'CVE'}) properties={'assigner': 'security@huntr.dev', 'id': 'CVE-2023-0028'}>>, <Record cve1=<Node element_id='4:de342d72-e7ff-4d5b-9a28-99eaa381965b:3' labels=frozenset({'CVE'}) properties={'assigner': 'cna@sap.com', 'id': 'CVE-2023-0015'}> cve2=<Node element_id='4:de342d72-e7ff-4d5b-9a28-99eaa381965b:6' labels=frozenset({'CVE'}) properties={'assigner': 'cna@sap.com', 'id': 'CVE-2023-0018'}> Entities=<Node element_id='4:de342d72-e7ff-4d5b-9a28-99eaa381965b:3' labels=frozenset({'CVE'}) properties={'assigner': 'cna@sap.com', 'id': 'CVE-2023-0015'}>>, <Record cve1=<Node element_id='4:de342d72-e7ff-4d5b-9a28-99eaa381965b:3' labels=frozenset({'CVE'}) properties={'assigner': 'cna@sap.com', 'id': 'CVE-2023-0015'}> cve2=<Node element_id='4:de342d72-e7ff-4d5b-9a28-99eaa381965b:6' labels=frozenset({'CVE'}) properties={'assigner': 'cna@sap.com', 'id': 'CVE-2023-0018'}> Entities=<Node element_id='4:de342d72-e7ff-4d5b-9a28-99eaa381965b:3' labels=frozenset({'CVE'}) properties={'assigner': 'cna@sap.com', 'id': 'CVE-2023-0015'}>>, <Record cve1=<Node element_id='4:de342d72-e7ff-4d5b-9a28-99eaa381965b:3' labels=frozenset({'CVE'}) properties={'assigner': 'cna@sap.com', 'id': 'CVE-2023-0015'}> cve2=<Node element_id='4:de342d72-e7ff-4d5b-9a28-99eaa381965b:6' labels=frozenset({'CVE'}) properties={'assigner': 'cna@sap.com', 'id': 'CVE-2023-0018'}> Entities=<Node element_id='4:de342d72-e7ff-4d5b-9a28-99eaa381965b:1' labels=frozenset({'CVE'}) properties={'assigner': 'cna@sap.com', 'id': 'CVE-2023-0013'}>>, <Record cve1=<Node element_id='4:de342d72-e7ff-4d5b-9a28-99eaa381965b:3' labels=frozenset({'CVE'}) properties={'assigner': 'cna@sap.com', 'id': 'CVE-2023-0015'}> cve2=<Node element_id='4:de342d72-e7ff-4d5b-9a28-99eaa381965b:6' labels=frozenset({'CVE'}) properties={'assigner': 'cna@sap.com', 'id': 'CVE-2023-0018'}> Entities=<Node element_id='4:de342d72-e7ff-4d5b-9a28-99eaa381965b:1' labels=frozenset({'CVE'}) properties={'assigner': 'cna@sap.com', 'id': 'CVE-2023-0013'}>>, <Record cve1=<Node element_id='4:de342d72-e7ff-4d5b-9a28-99eaa381965b:3' labels=frozenset({'CVE'}) properties={'assigner': 'cna@sap.com', 'id': 'CVE-2023-0015'}> cve2=<Node element_id='4:de342d72-e7ff-4d5b-9a28-99eaa381965b:6' labels=frozenset({'CVE'}) properties={'assigner': 'cna@sap.com', 'id': 'CVE-2023-0018'}> Entities=<Node element_id='4:de342d72-e7ff-4d5b-9a28-99eaa381965b:6' labels=frozenset({'CVE'}) properties={'assigner': 'cna@sap.com', 'id': 'CVE-2023-0018'}>>, <Record cve1=<Node element_id='4:de342d72-e7ff-4d5b-9a28-99eaa381965b:3' labels=frozenset({'CVE'}) properties={'assigner': 'cna@sap.com', 'id': 'CVE-2023-0015'}> cve2=<Node element_id='4:de342d72-e7ff-4d5b-9a28-99eaa381965b:6' labels=frozenset({'CVE'}) properties={'assigner': 'cna@sap.com', 'id': 'CVE-2023-0018'}> Entities=<Node element_id='4:de342d72-e7ff-4d5b-9a28-99eaa381965b:6' labels=frozenset({'CVE'}) properties={'assigner': 'cna@sap.com', 'id': 'CVE-2023-0018'}>>, <Record cve1=<Node element_id='4:de342d72-e7ff-4d5b-9a28-99eaa381965b:3' labels=frozenset({'CVE'}) properties={'assigner': 'cna@sap.com', 'id': 'CVE-2023-0015'}> cve2=<Node element_id='4:de342d72-e7ff-4d5b-9a28-99eaa381965b:6' labels=frozenset({'CVE'}) properties={'assigner': 'cna@sap.com', 'id': 'CVE-2023-0018'}> Entities=<Node element_id='4:de342d72-e7ff-4d5b-9a28-99eaa381965b:9' labels=frozenset({'CVE'}) properties={'assigner': 'security@huntr.dev', 'id': 'CVE-2023-0028'}>>, <Record cve1=<Node element_id='4:de342d72-e7ff-4d5b-9a28-99eaa381965b:3' labels=frozenset({'CVE'}) properties={'assigner': 'cna@sap.com', 'id': 'CVE-2023-0015'}> cve2=<Node element_id='4:de342d72-e7ff-4d5b-9a28-99eaa381965b:6' labels=frozenset({'CVE'}) properties={'assigner': 'cna@sap.com', 'id': 'CVE-2023-0018'}> Entities=<Node element_id='4:de342d72-e7ff-4d5b-9a28-99eaa381965b:9' labels=frozenset({'CVE'}) properties={'assigner': 'security@huntr.dev', 'id': 'CVE-2023-0028'}>>, <Record cve1=<Node element_id='4:de342d72-e7ff-4d5b-9a28-99eaa381965b:3' labels=frozenset({'CVE'}) properties={'assigner': 'cna@sap.com', 'id': 'CVE-2023-0015'}> cve2=<Node element_id='4:de342d72-e7ff-4d5b-9a28-99eaa381965b:6' labels=frozenset({'CVE'}) properties={'assigner': 'cna@sap.com', 'id': 'CVE-2023-0018'}> Entities=<Node element_id='4:de342d72-e7ff-4d5b-9a28-99eaa381965b:3' labels=frozenset({'CVE'}) properties={'assigner': 'cna@sap.com', 'id': 'CVE-2023-0015'}>>, <Record cve1=<Node element_id='4:de342d72-e7ff-4d5b-9a28-99eaa381965b:3' labels=frozenset({'CVE'}) properties={'assigner': 'cna@sap.com', 'id': 'CVE-2023-0015'}> cve2=<Node element_id='4:de342d72-e7ff-4d5b-9a28-99eaa381965b:6' labels=frozenset({'CVE'}) properties={'assigner': 'cna@sap.com', 'id': 'CVE-2023-0018'}> Entities=<Node element_id='4:de342d72-e7ff-4d5b-9a28-99eaa381965b:3' labels=frozenset({'CVE'}) properties={'assigner': 'cna@sap.com', 'id': 'CVE-2023-0015'}>>, <Record cve1=<Node element_id='4:de342d72-e7ff-4d5b-9a28-99eaa381965b:3' labels=frozenset({'CVE'}) properties={'assigner': 'cna@sap.com', 'id': 'CVE-2023-0015'}> cve2=<Node element_id='4:de342d72-e7ff-4d5b-9a28-99eaa381965b:6' labels=frozenset({'CVE'}) properties={'assigner': 'cna@sap.com', 'id': 'CVE-2023-0018'}> Entities=<Node element_id='4:de342d72-e7ff-4d5b-9a28-99eaa381965b:1' labels=frozenset({'CVE'}) properties={'assigner': 'cna@sap.com', 'id': 'CVE-2023-0013'}>>, <Record cve1=<Node element_id='4:de342d72-e7ff-4d5b-9a28-99eaa381965b:3' labels=frozenset({'CVE'}) properties={'assigner': 'cna@sap.com', 'id': 'CVE-2023-0015'}> cve2=<Node element_id='4:de342d72-e7ff-4d5b-9a28-99eaa381965b:6' labels=frozenset({'CVE'}) properties={'assigner': 'cna@sap.com', 'id': 'CVE-2023-0018'}> Entities=<Node element_id='4:de342d72-e7ff-4d5b-9a28-99eaa381965b:1' labels=frozenset({'CVE'}) properties={'assigner': 'cna@sap.com', 'id': 'CVE-2023-0013'}>>, <Record cve1=<Node element_id='4:de342d72-e7ff-4d5b-9a28-99eaa381965b:3' labels=frozenset({'CVE'}) properties={'assigner': 'cna@sap.com', 'id': 'CVE-2023-0015'}> cve2=<Node element_id='4:de342d72-e7ff-4d5b-9a28-99eaa381965b:6' labels=frozenset({'CVE'}) properties={'assigner': 'cna@sap.com', 'id': 'CVE-2023-0018'}> Entities=<Node element_id='4:de342d72-e7ff-4d5b-9a28-99eaa381965b:6' labels=frozenset({'CVE'}) properties={'assigner': 'cna@sap.com', 'id': 'CVE-2023-0018'}>>, <Record cve1=<Node element_id='4:de342d72-e7ff-4d5b-9a28-99eaa381965b:3' labels=frozenset({'CVE'}) properties={'assigner': 'cna@sap.com', 'id': 'CVE-2023-0015'}> cve2=<Node element_id='4:de342d72-e7ff-4d5b-9a28-99eaa381965b:6' labels=frozenset({'CVE'}) properties={'assigner': 'cna@sap.com', 'id': 'CVE-2023-0018'}> Entities=<Node element_id='4:de342d72-e7ff-4d5b-9a28-99eaa381965b:6' labels=frozenset({'CVE'}) properties={'assigner': 'cna@sap.com', 'id': 'CVE-2023-0018'}>>, <Record cve1=<Node element_id='4:de342d72-e7ff-4d5b-9a28-99eaa381965b:3' labels=frozenset({'CVE'}) properties={'assigner': 'cna@sap.com', 'id': 'CVE-2023-0015'}> cve2=<Node element_id='4:de342d72-e7ff-4d5b-9a28-99eaa381965b:6' labels=frozenset({'CVE'}) properties={'assigner': 'cna@sap.com', 'id': 'CVE-2023-0018'}> Entities=<Node element_id='4:de342d72-e7ff-4d5b-9a28-99eaa381965b:6' labels=frozenset({'CVE'}) properties={'assigner': 'cna@sap.com', 'id': 'CVE-2023-0018'}>>, <Record cve1=<Node element_id='4:de342d72-e7ff-4d5b-9a28-99eaa381965b:3' labels=frozenset({'CVE'}) properties={'assigner': 'cna@sap.com', 'id': 'CVE-2023-0015'}> cve2=<Node element_id='4:de342d72-e7ff-4d5b-9a28-99eaa381965b:6' labels=frozenset({'CVE'}) properties={'assigner': 'cna@sap.com', 'id': 'CVE-2023-0018'}> Entities=<Node element_id='4:de342d72-e7ff-4d5b-9a28-99eaa381965b:9' labels=frozenset({'CVE'}) properties={'assigner': 'security@huntr.dev', 'id': 'CVE-2023-0028'}>>, <Record cve1=<Node element_id='4:de342d72-e7ff-4d5b-9a28-99eaa381965b:3' labels=frozenset({'CVE'}) properties={'assigner': 'cna@sap.com', 'id': 'CVE-2023-0015'}> cve2=<Node element_id='4:de342d72-e7ff-4d5b-9a28-99eaa381965b:6' labels=frozenset({'CVE'}) properties={'assigner': 'cna@sap.com', 'id': 'CVE-2023-0018'}> Entities=<Node element_id='4:de342d72-e7ff-4d5b-9a28-99eaa381965b:9' labels=frozenset({'CVE'}) properties={'assigner': 'security@huntr.dev', 'id': 'CVE-2023-0028'}>>, <Record cve1=<Node element_id='4:de342d72-e7ff-4d5b-9a28-99eaa381965b:3' labels=frozenset({'CVE'}) properties={'assigner': 'cna@sap.com', 'id': 'CVE-2023-0015'}> cve2=<Node element_id='4:de342d72-e7ff-4d5b-9a28-99eaa381965b:6' labels=frozenset({'CVE'}) properties={'assigner': 'cna@sap.com', 'id': 'CVE-2023-0018'}> Entities=<Node element_id='4:de342d72-e7ff-4d5b-9a28-99eaa381965b:9' labels=frozenset({'CVE'}) properties={'assigner': 'security@huntr.dev', 'id': 'CVE-2023-0028'}>>, <Record cve1=<Node element_id='4:de342d72-e7ff-4d5b-9a28-99eaa381965b:3' labels=frozenset({'CVE'}) properties={'assigner': 'cna@sap.com', 'id': 'CVE-2023-0015'}> cve2=<Node element_id='4:de342d72-e7ff-4d5b-9a28-99eaa381965b:6' labels=frozenset({'CVE'}) properties={'assigner': 'cna@sap.com', 'id': 'CVE-2023-0018'}> Entities=<Node element_id='4:de342d72-e7ff-4d5b-9a28-99eaa381965b:3' labels=frozenset({'CVE'}) properties={'assigner': 'cna@sap.com', 'id': 'CVE-2023-0015'}>>, <Record cve1=<Node element_id='4:de342d72-e7ff-4d5b-9a28-99eaa381965b:3' labels=frozenset({'CVE'}) properties={'assigner': 'cna@sap.com', 'id': 'CVE-2023-0015'}> cve2=<Node element_id='4:de342d72-e7ff-4d5b-9a28-99eaa381965b:6' labels=frozenset({'CVE'}) properties={'assigner': 'cna@sap.com', 'id': 'CVE-2023-0018'}> Entities=<Node element_id='4:de342d72-e7ff-4d5b-9a28-99eaa381965b:3' labels=frozenset({'CVE'}) properties={'assigner': 'cna@sap.com', 'id': 'CVE-2023-0015'}>>, <Record cve1=<Node element_id='4:de342d72-e7ff-4d5b-9a28-99eaa381965b:3' labels=frozenset({'CVE'}) properties={'assigner': 'cna@sap.com', 'id': 'CVE-2023-0015'}> cve2=<Node element_id='4:de342d72-e7ff-4d5b-9a28-99eaa381965b:6' labels=frozenset({'CVE'}) properties={'assigner': 'cna@sap.com', 'id': 'CVE-2023-0018'}> Entities=<Node element_id='4:de342d72-e7ff-4d5b-9a28-99eaa381965b:3' labels=frozenset({'CVE'}) properties={'assigner': 'cna@sap.com', 'id': 'CVE-2023-0015'}>>, <Record cve1=<Node element_id='4:de342d72-e7ff-4d5b-9a28-99eaa381965b:3' labels=frozenset({'CVE'}) properties={'assigner': 'cna@sap.com', 'id': 'CVE-2023-0015'}> cve2=<Node element_id='4:de342d72-e7ff-4d5b-9a28-99eaa381965b:6' labels=frozenset({'CVE'}) properties={'assigner': 'cna@sap.com', 'id': 'CVE-2023-0018'}> Entities=<Node element_id='4:de342d72-e7ff-4d5b-9a28-99eaa381965b:1' labels=frozenset({'CVE'}) properties={'assigner': 'cna@sap.com', 'id': 'CVE-2023-0013'}>>, <Record cve1=<Node element_id='4:de342d72-e7ff-4d5b-9a28-99eaa381965b:3' labels=frozenset({'CVE'}) properties={'assigner': 'cna@sap.com', 'id': 'CVE-2023-0015'}> cve2=<Node element_id='4:de342d72-e7ff-4d5b-9a28-99eaa381965b:6' labels=frozenset({'CVE'}) properties={'assigner': 'cna@sap.com', 'id': 'CVE-2023-0018'}> Entities=<Node element_id='4:de342d72-e7ff-4d5b-9a28-99eaa381965b:1' labels=frozenset({'CVE'}) properties={'assigner': 'cna@sap.com', 'id': 'CVE-2023-0013'}>>, <Record cve1=<Node element_id='4:de342d72-e7ff-4d5b-9a28-99eaa381965b:3' labels=frozenset({'CVE'}) properties={'assigner': 'cna@sap.com', 'id': 'CVE-2023-0015'}> cve2=<Node element_id='4:de342d72-e7ff-4d5b-9a28-99eaa381965b:6' labels=frozenset({'CVE'}) properties={'assigner': 'cna@sap.com', 'id': 'CVE-2023-0018'}> Entities=<Node element_id='4:de342d72-e7ff-4d5b-9a28-99eaa381965b:1' labels=frozenset({'CVE'}) properties={'assigner': 'cna@sap.com', 'id': 'CVE-2023-0013'}>>, <Record cve1=<Node element_id='4:de342d72-e7ff-4d5b-9a28-99eaa381965b:3' labels=frozenset({'CVE'}) properties={'assigner': 'cna@sap.com', 'id': 'CVE-2023-0015'}> cve2=<Node element_id='4:de342d72-e7ff-4d5b-9a28-99eaa381965b:6' labels=frozenset({'CVE'}) properties={'assigner': 'cna@sap.com', 'id': 'CVE-2023-0018'}> Entities=<Node element_id='4:de342d72-e7ff-4d5b-9a28-99eaa381965b:6' labels=frozenset({'CVE'}) properties={'assigner': 'cna@sap.com', 'id': 'CVE-2023-0018'}>>, <Record cve1=<Node element_id='4:de342d72-e7ff-4d5b-9a28-99eaa381965b:3' labels=frozenset({'CVE'}) properties={'assigner': 'cna@sap.com', 'id': 'CVE-2023-0015'}> cve2=<Node element_id='4:de342d72-e7ff-4d5b-9a28-99eaa381965b:6' labels=frozenset({'CVE'}) properties={'assigner': 'cna@sap.com', 'id': 'CVE-2023-0018'}> Entities=<Node element_id='4:de342d72-e7ff-4d5b-9a28-99eaa381965b:6' labels=frozenset({'CVE'}) properties={'assigner': 'cna@sap.com', 'id': 'CVE-2023-0018'}>>, <Record cve1=<Node element_id='4:de342d72-e7ff-4d5b-9a28-99eaa381965b:3' labels=frozenset({'CVE'}) properties={'assigner': 'cna@sap.com', 'id': 'CVE-2023-0015'}> cve2=<Node element_id='4:de342d72-e7ff-4d5b-9a28-99eaa381965b:6' labels=frozenset({'CVE'}) properties={'assigner': 'cna@sap.com', 'id': 'CVE-2023-0018'}> Entities=<Node element_id='4:de342d72-e7ff-4d5b-9a28-99eaa381965b:6' labels=frozenset({'CVE'}) properties={'assigner': 'cna@sap.com', 'id': 'CVE-2023-0018'}>>, <Record cve1=<Node element_id='4:de342d72-e7ff-4d5b-9a28-99eaa381965b:3' labels=frozenset({'CVE'}) properties={'assigner': 'cna@sap.com', 'id': 'CVE-2023-0015'}> cve2=<Node element_id='4:de342d72-e7ff-4d5b-9a28-99eaa381965b:6' labels=frozenset({'CVE'}) properties={'assigner': 'cna@sap.com', 'id': 'CVE-2023-0018'}> Entities=<Node element_id='4:de342d72-e7ff-4d5b-9a28-99eaa381965b:9' labels=frozenset({'CVE'}) properties={'assigner': 'security@huntr.dev', 'id': 'CVE-2023-0028'}>>, <Record cve1=<Node element_id='4:de342d72-e7ff-4d5b-9a28-99eaa381965b:3' labels=frozenset({'CVE'}) properties={'assigner': 'cna@sap.com', 'id': 'CVE-2023-0015'}> cve2=<Node element_id='4:de342d72-e7ff-4d5b-9a28-99eaa381965b:6' labels=frozenset({'CVE'}) properties={'assigner': 'cna@sap.com', 'id': 'CVE-2023-0018'}> Entities=<Node element_id='4:de342d72-e7ff-4d5b-9a28-99eaa381965b:9' labels=frozenset({'CVE'}) properties={'assigner': 'security@huntr.dev', 'id': 'CVE-2023-0028'}>>, <Record cve1=<Node element_id='4:de342d72-e7ff-4d5b-9a28-99eaa381965b:3' labels=frozenset({'CVE'}) properties={'assigner': 'cna@sap.com', 'id': 'CVE-2023-0015'}> cve2=<Node element_id='4:de342d72-e7ff-4d5b-9a28-99eaa381965b:6' labels=frozenset({'CVE'}) properties={'assigner': 'cna@sap.com', 'id': 'CVE-2023-0018'}> Entities=<Node element_id='4:de342d72-e7ff-4d5b-9a28-99eaa381965b:9' labels=frozenset({'CVE'}) properties={'assigner': 'security@huntr.dev', 'id': 'CVE-2023-0028'}>>, <Record cve1=<Node element_id='4:de342d72-e7ff-4d5b-9a28-99eaa381965b:3' labels=frozenset({'CVE'}) properties={'assigner': 'cna@sap.com', 'id': 'CVE-2023-0015'}> cve2=<Node element_id='4:de342d72-e7ff-4d5b-9a28-99eaa381965b:6' labels=frozenset({'CVE'}) properties={'assigner': 'cna@sap.com', 'id': 'CVE-2023-0018'}> Entities=<Node element_id='4:de342d72-e7ff-4d5b-9a28-99eaa381965b:3' labels=frozenset({'CVE'}) properties={'assigner': 'cna@sap.com', 'id': 'CVE-2023-0015'}>>, <Record cve1=<Node element_id='4:de342d72-e7ff-4d5b-9a28-99eaa381965b:3' labels=frozenset({'CVE'}) properties={'assigner': 'cna@sap.com', 'id': 'CVE-2023-0015'}> cve2=<Node element_id='4:de342d72-e7ff-4d5b-9a28-99eaa381965b:6' labels=frozenset({'CVE'}) properties={'assigner': 'cna@sap.com', 'id': 'CVE-2023-0018'}> Entities=<Node element_id='4:de342d72-e7ff-4d5b-9a28-99eaa381965b:3' labels=frozenset({'CVE'}) properties={'assigner': 'cna@sap.com', 'id': 'CVE-2023-0015'}>>, <Record cve1=<Node element_id='4:de342d72-e7ff-4d5b-9a28-99eaa381965b:3' labels=frozenset({'CVE'}) properties={'assigner': 'cna@sap.com', 'id': 'CVE-2023-0015'}> cve2=<Node element_id='4:de342d72-e7ff-4d5b-9a28-99eaa381965b:6' labels=frozenset({'CVE'}) properties={'assigner': 'cna@sap.com', 'id': 'CVE-2023-0018'}> Entities=<Node element_id='4:de342d72-e7ff-4d5b-9a28-99eaa381965b:3' labels=frozenset({'CVE'}) properties={'assigner': 'cna@sap.com', 'id': 'CVE-2023-0015'}>>, <Record cve1=<Node element_id='4:de342d72-e7ff-4d5b-9a28-99eaa381965b:3' labels=frozenset({'CVE'}) properties={'assigner': 'cna@sap.com', 'id': 'CVE-2023-0015'}> cve2=<Node element_id='4:de342d72-e7ff-4d5b-9a28-99eaa381965b:6' labels=frozenset({'CVE'}) properties={'assigner': 'cna@sap.com', 'id': 'CVE-2023-0018'}> Entities=<Node element_id='4:de342d72-e7ff-4d5b-9a28-99eaa381965b:1' labels=frozenset({'CVE'}) properties={'assigner': 'cna@sap.com', 'id': 'CVE-2023-0013'}>>, <Record cve1=<Node element_id='4:de342d72-e7ff-4d5b-9a28-99eaa381965b:3' labels=frozenset({'CVE'}) properties={'assigner': 'cna@sap.com', 'id': 'CVE-2023-0015'}> cve2=<Node element_id='4:de342d72-e7ff-4d5b-9a28-99eaa381965b:6' labels=frozenset({'CVE'}) properties={'assigner': 'cna@sap.com', 'id': 'CVE-2023-0018'}> Entities=<Node element_id='4:de342d72-e7ff-4d5b-9a28-99eaa381965b:1' labels=frozenset({'CVE'}) properties={'assigner': 'cna@sap.com', 'id': 'CVE-2023-0013'}>>, <Record cve1=<Node element_id='4:de342d72-e7ff-4d5b-9a28-99eaa381965b:3' labels=frozenset({'CVE'}) properties={'assigner': 'cna@sap.com', 'id': 'CVE-2023-0015'}> cve2=<Node element_id='4:de342d72-e7ff-4d5b-9a28-99eaa381965b:6' labels=frozenset({'CVE'}) properties={'assigner': 'cna@sap.com', 'id': 'CVE-2023-0018'}> Entities=<Node element_id='4:de342d72-e7ff-4d5b-9a28-99eaa381965b:1' labels=frozenset({'CVE'}) properties={'assigner': 'cna@sap.com', 'id': 'CVE-2023-0013'}>>, <Record cve1=<Node element_id='4:de342d72-e7ff-4d5b-9a28-99eaa381965b:3' labels=frozenset({'CVE'}) properties={'assigner': 'cna@sap.com', 'id': 'CVE-2023-0015'}> cve2=<Node element_id='4:de342d72-e7ff-4d5b-9a28-99eaa381965b:6' labels=frozenset({'CVE'}) properties={'assigner': 'cna@sap.com', 'id': 'CVE-2023-0018'}> Entities=<Node element_id='4:de342d72-e7ff-4d5b-9a28-99eaa381965b:6' labels=frozenset({'CVE'}) properties={'assigner': 'cna@sap.com', 'id': 'CVE-2023-0018'}>>, <Record cve1=<Node element_id='4:de342d72-e7ff-4d5b-9a28-99eaa381965b:3' labels=frozenset({'CVE'}) properties={'assigner': 'cna@sap.com', 'id': 'CVE-2023-0015'}> cve2=<Node element_id='4:de342d72-e7ff-4d5b-9a28-99eaa381965b:6' labels=frozenset({'CVE'}) properties={'assigner': 'cna@sap.com', 'id': 'CVE-2023-0018'}> Entities=<Node element_id='4:de342d72-e7ff-4d5b-9a28-99eaa381965b:6' labels=frozenset({'CVE'}) properties={'assigner': 'cna@sap.com', 'id': 'CVE-2023-0018'}>>, <Record cve1=<Node element_id='4:de342d72-e7ff-4d5b-9a28-99eaa381965b:3' labels=frozenset({'CVE'}) properties={'assigner': 'cna@sap.com', 'id': 'CVE-2023-0015'}> cve2=<Node element_id='4:de342d72-e7ff-4d5b-9a28-99eaa381965b:6' labels=frozenset({'CVE'}) properties={'assigner': 'cna@sap.com', 'id': 'CVE-2023-0018'}> Entities=<Node element_id='4:de342d72-e7ff-4d5b-9a28-99eaa381965b:9' labels=frozenset({'CVE'}) properties={'assigner': 'security@huntr.dev', 'id': 'CVE-2023-0028'}>>, <Record cve1=<Node element_id='4:de342d72-e7ff-4d5b-9a28-99eaa381965b:3' labels=frozenset({'CVE'}) properties={'assigner': 'cna@sap.com', 'id': 'CVE-2023-0015'}> cve2=<Node element_id='4:de342d72-e7ff-4d5b-9a28-99eaa381965b:6' labels=frozenset({'CVE'}) properties={'assigner': 'cna@sap.com', 'id': 'CVE-2023-0018'}> Entities=<Node element_id='4:de342d72-e7ff-4d5b-9a28-99eaa381965b:9' labels=frozenset({'CVE'}) properties={'assigner': 'security@huntr.dev', 'id': 'CVE-2023-0028'}>>, <Record cve1=<Node element_id='4:de342d72-e7ff-4d5b-9a28-99eaa381965b:3' labels=frozenset({'CVE'}) properties={'assigner': 'cna@sap.com', 'id': 'CVE-2023-0015'}> cve2=<Node element_id='4:de342d72-e7ff-4d5b-9a28-99eaa381965b:6' labels=frozenset({'CVE'}) properties={'assigner': 'cna@sap.com', 'id': 'CVE-2023-0018'}> Entities=<Node element_id='4:de342d72-e7ff-4d5b-9a28-99eaa381965b:3' labels=frozenset({'CVE'}) properties={'assigner': 'cna@sap.com', 'id': 'CVE-2023-0015'}>>, <Record cve1=<Node element_id='4:de342d72-e7ff-4d5b-9a28-99eaa381965b:3' labels=frozenset({'CVE'}) properties={'assigner': 'cna@sap.com', 'id': 'CVE-2023-0015'}> cve2=<Node element_id='4:de342d72-e7ff-4d5b-9a28-99eaa381965b:6' labels=frozenset({'CVE'}) properties={'assigner': 'cna@sap.com', 'id': 'CVE-2023-0018'}> Entities=<Node element_id='4:de342d72-e7ff-4d5b-9a28-99eaa381965b:3' labels=frozenset({'CVE'}) properties={'assigner': 'cna@sap.com', 'id': 'CVE-2023-0015'}>>, <Record cve1=<Node element_id='4:de342d72-e7ff-4d5b-9a28-99eaa381965b:3' labels=frozenset({'CVE'}) properties={'assigner': 'cna@sap.com', 'id': 'CVE-2023-0015'}> cve2=<Node element_id='4:de342d72-e7ff-4d5b-9a28-99eaa381965b:6' labels=frozenset({'CVE'}) properties={'assigner': 'cna@sap.com', 'id': 'CVE-2023-0018'}> Entities=<Node element_id='4:de342d72-e7ff-4d5b-9a28-99eaa381965b:1' labels=frozenset({'CVE'}) properties={'assigner': 'cna@sap.com', 'id': 'CVE-2023-0013'}>>, <Record cve1=<Node element_id='4:de342d72-e7ff-4d5b-9a28-99eaa381965b:3' labels=frozenset({'CVE'}) properties={'assigner': 'cna@sap.com', 'id': 'CVE-2023-0015'}> cve2=<Node element_id='4:de342d72-e7ff-4d5b-9a28-99eaa381965b:6' labels=frozenset({'CVE'}) properties={'assigner': 'cna@sap.com', 'id': 'CVE-2023-0018'}> Entities=<Node element_id='4:de342d72-e7ff-4d5b-9a28-99eaa381965b:1' labels=frozenset({'CVE'}) properties={'assigner': 'cna@sap.com', 'id': 'CVE-2023-0013'}>>, <Record cve1=<Node element_id='4:de342d72-e7ff-4d5b-9a28-99eaa381965b:3' labels=frozenset({'CVE'}) properties={'assigner': 'cna@sap.com', 'id': 'CVE-2023-0015'}> cve2=<Node element_id='4:de342d72-e7ff-4d5b-9a28-99eaa381965b:6' labels=frozenset({'CVE'}) properties={'assigner': 'cna@sap.com', 'id': 'CVE-2023-0018'}> Entities=<Node element_id='4:de342d72-e7ff-4d5b-9a28-99eaa381965b:6' labels=frozenset({'CVE'}) properties={'assigner': 'cna@sap.com', 'id': 'CVE-2023-0018'}>>, <Record cve1=<Node element_id='4:de342d72-e7ff-4d5b-9a28-99eaa381965b:3' labels=frozenset({'CVE'}) properties={'assigner': 'cna@sap.com', 'id': 'CVE-2023-0015'}> cve2=<Node element_id='4:de342d72-e7ff-4d5b-9a28-99eaa381965b:6' labels=frozenset({'CVE'}) properties={'assigner': 'cna@sap.com', 'id': 'CVE-2023-0018'}> Entities=<Node element_id='4:de342d72-e7ff-4d5b-9a28-99eaa381965b:6' labels=frozenset({'CVE'}) properties={'assigner': 'cna@sap.com', 'id': 'CVE-2023-0018'}>>, <Record cve1=<Node element_id='4:de342d72-e7ff-4d5b-9a28-99eaa381965b:3' labels=frozenset({'CVE'}) properties={'assigner': 'cna@sap.com', 'id': 'CVE-2023-0015'}> cve2=<Node element_id='4:de342d72-e7ff-4d5b-9a28-99eaa381965b:6' labels=frozenset({'CVE'}) properties={'assigner': 'cna@sap.com', 'id': 'CVE-2023-0018'}> Entities=<Node element_id='4:de342d72-e7ff-4d5b-9a28-99eaa381965b:9' labels=frozenset({'CVE'}) properties={'assigner': 'security@huntr.dev', 'id': 'CVE-2023-0028'}>>, <Record cve1=<Node element_id='4:de342d72-e7ff-4d5b-9a28-99eaa381965b:3' labels=frozenset({'CVE'}) properties={'assigner': 'cna@sap.com', 'id': 'CVE-2023-0015'}> cve2=<Node element_id='4:de342d72-e7ff-4d5b-9a28-99eaa381965b:6' labels=frozenset({'CVE'}) properties={'assigner': 'cna@sap.com', 'id': 'CVE-2023-0018'}> Entities=<Node element_id='4:de342d72-e7ff-4d5b-9a28-99eaa381965b:9' labels=frozenset({'CVE'}) properties={'assigner': 'security@huntr.dev', 'id': 'CVE-2023-0028'}>>, <Record cve1=<Node element_id='4:de342d72-e7ff-4d5b-9a28-99eaa381965b:3' labels=frozenset({'CVE'}) properties={'assigner': 'cna@sap.com', 'id': 'CVE-2023-0015'}> cve2=<Node element_id='4:de342d72-e7ff-4d5b-9a28-99eaa381965b:6' labels=frozenset({'CVE'}) properties={'assigner': 'cna@sap.com', 'id': 'CVE-2023-0018'}> Entities=<Node element_id='4:de342d72-e7ff-4d5b-9a28-99eaa381965b:3' labels=frozenset({'CVE'}) properties={'assigner': 'cna@sap.com', 'id': 'CVE-2023-0015'}>>, <Record cve1=<Node element_id='4:de342d72-e7ff-4d5b-9a28-99eaa381965b:3' labels=frozenset({'CVE'}) properties={'assigner': 'cna@sap.com', 'id': 'CVE-2023-0015'}> cve2=<Node element_id='4:de342d72-e7ff-4d5b-9a28-99eaa381965b:6' labels=frozenset({'CVE'}) properties={'assigner': 'cna@sap.com', 'id': 'CVE-2023-0018'}> Entities=<Node element_id='4:de342d72-e7ff-4d5b-9a28-99eaa381965b:3' labels=frozenset({'CVE'}) properties={'assigner': 'cna@sap.com', 'id': 'CVE-2023-0015'}>>, <Record cve1=<Node element_id='4:de342d72-e7ff-4d5b-9a28-99eaa381965b:3' labels=frozenset({'CVE'}) properties={'assigner': 'cna@sap.com', 'id': 'CVE-2023-0015'}> cve2=<Node element_id='4:de342d72-e7ff-4d5b-9a28-99eaa381965b:6' labels=frozenset({'CVE'}) properties={'assigner': 'cna@sap.com', 'id': 'CVE-2023-0018'}> Entities=<Node element_id='4:de342d72-e7ff-4d5b-9a28-99eaa381965b:1' labels=frozenset({'CVE'}) properties={'assigner': 'cna@sap.com', 'id': 'CVE-2023-0013'}>>, <Record cve1=<Node element_id='4:de342d72-e7ff-4d5b-9a28-99eaa381965b:3' labels=frozenset({'CVE'}) properties={'assigner': 'cna@sap.com', 'id': 'CVE-2023-0015'}> cve2=<Node element_id='4:de342d72-e7ff-4d5b-9a28-99eaa381965b:6' labels=frozenset({'CVE'}) properties={'assigner': 'cna@sap.com', 'id': 'CVE-2023-0018'}> Entities=<Node element_id='4:de342d72-e7ff-4d5b-9a28-99eaa381965b:1' labels=frozenset({'CVE'}) properties={'assigner': 'cna@sap.com', 'id': 'CVE-2023-0013'}>>, <Record cve1=<Node element_id='4:de342d72-e7ff-4d5b-9a28-99eaa381965b:3' labels=frozenset({'CVE'}) properties={'assigner': 'cna@sap.com', 'id': 'CVE-2023-0015'}> cve2=<Node element_id='4:de342d72-e7ff-4d5b-9a28-99eaa381965b:6' labels=frozenset({'CVE'}) properties={'assigner': 'cna@sap.com', 'id': 'CVE-2023-0018'}> Entities=<Node element_id='4:de342d72-e7ff-4d5b-9a28-99eaa381965b:6' labels=frozenset({'CVE'}) properties={'assigner': 'cna@sap.com', 'id': 'CVE-2023-0018'}>>, <Record cve1=<Node element_id='4:de342d72-e7ff-4d5b-9a28-99eaa381965b:3' labels=frozenset({'CVE'}) properties={'assigner': 'cna@sap.com', 'id': 'CVE-2023-0015'}> cve2=<Node element_id='4:de342d72-e7ff-4d5b-9a28-99eaa381965b:6' labels=frozenset({'CVE'}) properties={'assigner': 'cna@sap.com', 'id': 'CVE-2023-0018'}> Entities=<Node element_id='4:de342d72-e7ff-4d5b-9a28-99eaa381965b:6' labels=frozenset({'CVE'}) properties={'assigner': 'cna@sap.com', 'id': 'CVE-2023-0018'}>>, <Record cve1=<Node element_id='4:de342d72-e7ff-4d5b-9a28-99eaa381965b:3' labels=frozenset({'CVE'}) properties={'assigner': 'cna@sap.com', 'id': 'CVE-2023-0015'}> cve2=<Node element_id='4:de342d72-e7ff-4d5b-9a28-99eaa381965b:6' labels=frozenset({'CVE'}) properties={'assigner': 'cna@sap.com', 'id': 'CVE-2023-0018'}> Entities=<Node element_id='4:de342d72-e7ff-4d5b-9a28-99eaa381965b:9' labels=frozenset({'CVE'}) properties={'assigner': 'security@huntr.dev', 'id': 'CVE-2023-0028'}>>, <Record cve1=<Node element_id='4:de342d72-e7ff-4d5b-9a28-99eaa381965b:3' labels=frozenset({'CVE'}) properties={'assigner': 'cna@sap.com', 'id': 'CVE-2023-0015'}> cve2=<Node element_id='4:de342d72-e7ff-4d5b-9a28-99eaa381965b:6' labels=frozenset({'CVE'}) properties={'assigner': 'cna@sap.com', 'id': 'CVE-2023-0018'}> Entities=<Node element_id='4:de342d72-e7ff-4d5b-9a28-99eaa381965b:9' labels=frozenset({'CVE'}) properties={'assigner': 'security@huntr.dev', 'id': 'CVE-2023-0028'}>>, <Record cve1=<Node element_id='4:de342d72-e7ff-4d5b-9a28-99eaa381965b:3' labels=frozenset({'CVE'}) properties={'assigner': 'cna@sap.com', 'id': 'CVE-2023-0015'}> cve2=<Node element_id='4:de342d72-e7ff-4d5b-9a28-99eaa381965b:6' labels=frozenset({'CVE'}) properties={'assigner': 'cna@sap.com', 'id': 'CVE-2023-0018'}> Entities=<Node element_id='4:de342d72-e7ff-4d5b-9a28-99eaa381965b:3' labels=frozenset({'CVE'}) properties={'assigner': 'cna@sap.com', 'id': 'CVE-2023-0015'}>>, <Record cve1=<Node element_id='4:de342d72-e7ff-4d5b-9a28-99eaa381965b:3' labels=frozenset({'CVE'}) properties={'assigner': 'cna@sap.com', 'id': 'CVE-2023-0015'}> cve2=<Node element_id='4:de342d72-e7ff-4d5b-9a28-99eaa381965b:6' labels=frozenset({'CVE'}) properties={'assigner': 'cna@sap.com', 'id': 'CVE-2023-0018'}> Entities=<Node element_id='4:de342d72-e7ff-4d5b-9a28-99eaa381965b:3' labels=frozenset({'CVE'}) properties={'assigner': 'cna@sap.com', 'id': 'CVE-2023-0015'}>>, <Record cve1=<Node element_id='4:de342d72-e7ff-4d5b-9a28-99eaa381965b:3' labels=frozenset({'CVE'}) properties={'assigner': 'cna@sap.com', 'id': 'CVE-2023-0015'}> cve2=<Node element_id='4:de342d72-e7ff-4d5b-9a28-99eaa381965b:6' labels=frozenset({'CVE'}) properties={'assigner': 'cna@sap.com', 'id': 'CVE-2023-0018'}> Entities=<Node element_id='4:de342d72-e7ff-4d5b-9a28-99eaa381965b:1' labels=frozenset({'CVE'}) properties={'assigner': 'cna@sap.com', 'id': 'CVE-2023-0013'}>>, <Record cve1=<Node element_id='4:de342d72-e7ff-4d5b-9a28-99eaa381965b:3' labels=frozenset({'CVE'}) properties={'assigner': 'cna@sap.com', 'id': 'CVE-2023-0015'}> cve2=<Node element_id='4:de342d72-e7ff-4d5b-9a28-99eaa381965b:6' labels=frozenset({'CVE'}) properties={'assigner': 'cna@sap.com', 'id': 'CVE-2023-0018'}> Entities=<Node element_id='4:de342d72-e7ff-4d5b-9a28-99eaa381965b:1' labels=frozenset({'CVE'}) properties={'assigner': 'cna@sap.com', 'id': 'CVE-2023-0013'}>>, <Record cve1=<Node element_id='4:de342d72-e7ff-4d5b-9a28-99eaa381965b:3' labels=frozenset({'CVE'}) properties={'assigner': 'cna@sap.com', 'id': 'CVE-2023-0015'}> cve2=<Node element_id='4:de342d72-e7ff-4d5b-9a28-99eaa381965b:6' labels=frozenset({'CVE'}) properties={'assigner': 'cna@sap.com', 'id': 'CVE-2023-0018'}> Entities=<Node element_id='4:de342d72-e7ff-4d5b-9a28-99eaa381965b:6' labels=frozenset({'CVE'}) properties={'assigner': 'cna@sap.com', 'id': 'CVE-2023-0018'}>>, <Record cve1=<Node element_id='4:de342d72-e7ff-4d5b-9a28-99eaa381965b:3' labels=frozenset({'CVE'}) properties={'assigner': 'cna@sap.com', 'id': 'CVE-2023-0015'}> cve2=<Node element_id='4:de342d72-e7ff-4d5b-9a28-99eaa381965b:6' labels=frozenset({'CVE'}) properties={'assigner': 'cna@sap.com', 'id': 'CVE-2023-0018'}> Entities=<Node element_id='4:de342d72-e7ff-4d5b-9a28-99eaa381965b:6' labels=frozenset({'CVE'}) properties={'assigner': 'cna@sap.com', 'id': 'CVE-2023-0018'}>>, <Record cve1=<Node element_id='4:de342d72-e7ff-4d5b-9a28-99eaa381965b:3' labels=frozenset({'CVE'}) properties={'assigner': 'cna@sap.com', 'id': 'CVE-2023-0015'}> cve2=<Node element_id='4:de342d72-e7ff-4d5b-9a28-99eaa381965b:6' labels=frozenset({'CVE'}) properties={'assigner': 'cna@sap.com', 'id': 'CVE-2023-0018'}> Entities=<Node element_id='4:de342d72-e7ff-4d5b-9a28-99eaa381965b:9' labels=frozenset({'CVE'}) properties={'assigner': 'security@huntr.dev', 'id': 'CVE-2023-0028'}>>, <Record cve1=<Node element_id='4:de342d72-e7ff-4d5b-9a28-99eaa381965b:3' labels=frozenset({'CVE'}) properties={'assigner': 'cna@sap.com', 'id': 'CVE-2023-0015'}> cve2=<Node element_id='4:de342d72-e7ff-4d5b-9a28-99eaa381965b:6' labels=frozenset({'CVE'}) properties={'assigner': 'cna@sap.com', 'id': 'CVE-2023-0018'}> Entities=<Node element_id='4:de342d72-e7ff-4d5b-9a28-99eaa381965b:9' labels=frozenset({'CVE'}) properties={'assigner': 'security@huntr.dev', 'id': 'CVE-2023-0028'}>>, <Record cve1=<Node element_id='4:de342d72-e7ff-4d5b-9a28-99eaa381965b:3' labels=frozenset({'CVE'}) properties={'assigner': 'cna@sap.com', 'id': 'CVE-2023-0015'}> cve2=<Node element_id='4:de342d72-e7ff-4d5b-9a28-99eaa381965b:6' labels=frozenset({'CVE'}) properties={'assigner': 'cna@sap.com', 'id': 'CVE-2023-0018'}> Entities=<Node element_id='4:de342d72-e7ff-4d5b-9a28-99eaa381965b:3' labels=frozenset({'CVE'}) properties={'assigner': 'cna@sap.com', 'id': 'CVE-2023-0015'}>>, <Record cve1=<Node element_id='4:de342d72-e7ff-4d5b-9a28-99eaa381965b:3' labels=frozenset({'CVE'}) properties={'assigner': 'cna@sap.com', 'id': 'CVE-2023-0015'}> cve2=<Node element_id='4:de342d72-e7ff-4d5b-9a28-99eaa381965b:6' labels=frozenset({'CVE'}) properties={'assigner': 'cna@sap.com', 'id': 'CVE-2023-0018'}> Entities=<Node element_id='4:de342d72-e7ff-4d5b-9a28-99eaa381965b:3' labels=frozenset({'CVE'}) properties={'assigner': 'cna@sap.com', 'id': 'CVE-2023-0015'}>>, <Record cve1=<Node element_id='4:de342d72-e7ff-4d5b-9a28-99eaa381965b:3' labels=frozenset({'CVE'}) properties={'assigner': 'cna@sap.com', 'id': 'CVE-2023-0015'}> cve2=<Node element_id='4:de342d72-e7ff-4d5b-9a28-99eaa381965b:6' labels=frozenset({'CVE'}) properties={'assigner': 'cna@sap.com', 'id': 'CVE-2023-0018'}> Entities=<Node element_id='4:de342d72-e7ff-4d5b-9a28-99eaa381965b:1' labels=frozenset({'CVE'}) properties={'assigner': 'cna@sap.com', 'id': 'CVE-2023-0013'}>>, <Record cve1=<Node element_id='4:de342d72-e7ff-4d5b-9a28-99eaa381965b:3' labels=frozenset({'CVE'}) properties={'assigner': 'cna@sap.com', 'id': 'CVE-2023-0015'}> cve2=<Node element_id='4:de342d72-e7ff-4d5b-9a28-99eaa381965b:6' labels=frozenset({'CVE'}) properties={'assigner': 'cna@sap.com', 'id': 'CVE-2023-0018'}> Entities=<Node element_id='4:de342d72-e7ff-4d5b-9a28-99eaa381965b:1' labels=frozenset({'CVE'}) properties={'assigner': 'cna@sap.com', 'id': 'CVE-2023-0013'}>>, <Record cve1=<Node element_id='4:de342d72-e7ff-4d5b-9a28-99eaa381965b:3' labels=frozenset({'CVE'}) properties={'assigner': 'cna@sap.com', 'id': 'CVE-2023-0015'}> cve2=<Node element_id='4:de342d72-e7ff-4d5b-9a28-99eaa381965b:6' labels=frozenset({'CVE'}) properties={'assigner': 'cna@sap.com', 'id': 'CVE-2023-0018'}> Entities=<Node element_id='4:de342d72-e7ff-4d5b-9a28-99eaa381965b:6' labels=frozenset({'CVE'}) properties={'assigner': 'cna@sap.com', 'id': 'CVE-2023-0018'}>>, <Record cve1=<Node element_id='4:de342d72-e7ff-4d5b-9a28-99eaa381965b:3' labels=frozenset({'CVE'}) properties={'assigner': 'cna@sap.com', 'id': 'CVE-2023-0015'}> cve2=<Node element_id='4:de342d72-e7ff-4d5b-9a28-99eaa381965b:6' labels=frozenset({'CVE'}) properties={'assigner': 'cna@sap.com', 'id': 'CVE-2023-0018'}> Entities=<Node element_id='4:de342d72-e7ff-4d5b-9a28-99eaa381965b:6' labels=frozenset({'CVE'}) properties={'assigner': 'cna@sap.com', 'id': 'CVE-2023-0018'}>>, <Record cve1=<Node element_id='4:de342d72-e7ff-4d5b-9a28-99eaa381965b:3' labels=frozenset({'CVE'}) properties={'assigner': 'cna@sap.com', 'id': 'CVE-2023-0015'}> cve2=<Node element_id='4:de342d72-e7ff-4d5b-9a28-99eaa381965b:6' labels=frozenset({'CVE'}) properties={'assigner': 'cna@sap.com', 'id': 'CVE-2023-0018'}> Entities=<Node element_id='4:de342d72-e7ff-4d5b-9a28-99eaa381965b:9' labels=frozenset({'CVE'}) properties={'assigner': 'security@huntr.dev', 'id': 'CVE-2023-0028'}>>, <Record cve1=<Node element_id='4:de342d72-e7ff-4d5b-9a28-99eaa381965b:3' labels=frozenset({'CVE'}) properties={'assigner': 'cna@sap.com', 'id': 'CVE-2023-0015'}> cve2=<Node element_id='4:de342d72-e7ff-4d5b-9a28-99eaa381965b:6' labels=frozenset({'CVE'}) properties={'assigner': 'cna@sap.com', 'id': 'CVE-2023-0018'}> Entities=<Node element_id='4:de342d72-e7ff-4d5b-9a28-99eaa381965b:9' labels=frozenset({'CVE'}) properties={'assigner': 'security@huntr.dev', 'id': 'CVE-2023-0028'}>>, <Record cve1=<Node element_id='4:de342d72-e7ff-4d5b-9a28-99eaa381965b:3' labels=frozenset({'CVE'}) properties={'assigner': 'cna@sap.com', 'id': 'CVE-2023-0015'}> cve2=<Node element_id='4:de342d72-e7ff-4d5b-9a28-99eaa381965b:6' labels=frozenset({'CVE'}) properties={'assigner': 'cna@sap.com', 'id': 'CVE-2023-0018'}> Entities=<Node element_id='4:de342d72-e7ff-4d5b-9a28-99eaa381965b:3' labels=frozenset({'CVE'}) properties={'assigner': 'cna@sap.com', 'id': 'CVE-2023-0015'}>>, <Record cve1=<Node element_id='4:de342d72-e7ff-4d5b-9a28-99eaa381965b:3' labels=frozenset({'CVE'}) properties={'assigner': 'cna@sap.com', 'id': 'CVE-2023-0015'}> cve2=<Node element_id='4:de342d72-e7ff-4d5b-9a28-99eaa381965b:6' labels=frozenset({'CVE'}) properties={'assigner': 'cna@sap.com', 'id': 'CVE-2023-0018'}> Entities=<Node element_id='4:de342d72-e7ff-4d5b-9a28-99eaa381965b:3' labels=frozenset({'CVE'}) properties={'assigner': 'cna@sap.com', 'id': 'CVE-2023-0015'}>>, <Record cve1=<Node element_id='4:de342d72-e7ff-4d5b-9a28-99eaa381965b:3' labels=frozenset({'CVE'}) properties={'assigner': 'cna@sap.com', 'id': 'CVE-2023-0015'}> cve2=<Node element_id='4:de342d72-e7ff-4d5b-9a28-99eaa381965b:6' labels=frozenset({'CVE'}) properties={'assigner': 'cna@sap.com', 'id': 'CVE-2023-0018'}> Entities=<Node element_id='4:de342d72-e7ff-4d5b-9a28-99eaa381965b:1' labels=frozenset({'CVE'}) properties={'assigner': 'cna@sap.com', 'id': 'CVE-2023-0013'}>>, <Record cve1=<Node element_id='4:de342d72-e7ff-4d5b-9a28-99eaa381965b:3' labels=frozenset({'CVE'}) properties={'assigner': 'cna@sap.com', 'id': 'CVE-2023-0015'}> cve2=<Node element_id='4:de342d72-e7ff-4d5b-9a28-99eaa381965b:6' labels=frozenset({'CVE'}) properties={'assigner': 'cna@sap.com', 'id': 'CVE-2023-0018'}> Entities=<Node element_id='4:de342d72-e7ff-4d5b-9a28-99eaa381965b:1' labels=frozenset({'CVE'}) properties={'assigner': 'cna@sap.com', 'id': 'CVE-2023-0013'}>>, <Record cve1=<Node element_id='4:de342d72-e7ff-4d5b-9a28-99eaa381965b:3' labels=frozenset({'CVE'}) properties={'assigner': 'cna@sap.com', 'id': 'CVE-2023-0015'}> cve2=<Node element_id='4:de342d72-e7ff-4d5b-9a28-99eaa381965b:6' labels=frozenset({'CVE'}) properties={'assigner': 'cna@sap.com', 'id': 'CVE-2023-0018'}> Entities=<Node element_id='4:de342d72-e7ff-4d5b-9a28-99eaa381965b:6' labels=frozenset({'CVE'}) properties={'assigner': 'cna@sap.com', 'id': 'CVE-2023-0018'}>>, <Record cve1=<Node element_id='4:de342d72-e7ff-4d5b-9a28-99eaa381965b:3' labels=frozenset({'CVE'}) properties={'assigner': 'cna@sap.com', 'id': 'CVE-2023-0015'}> cve2=<Node element_id='4:de342d72-e7ff-4d5b-9a28-99eaa381965b:6' labels=frozenset({'CVE'}) properties={'assigner': 'cna@sap.com', 'id': 'CVE-2023-0018'}> Entities=<Node element_id='4:de342d72-e7ff-4d5b-9a28-99eaa381965b:6' labels=frozenset({'CVE'}) properties={'assigner': 'cna@sap.com', 'id': 'CVE-2023-0018'}>>, <Record cve1=<Node element_id='4:de342d72-e7ff-4d5b-9a28-99eaa381965b:3' labels=frozenset({'CVE'}) properties={'assigner': 'cna@sap.com', 'id': 'CVE-2023-0015'}> cve2=<Node element_id='4:de342d72-e7ff-4d5b-9a28-99eaa381965b:6' labels=frozenset({'CVE'}) properties={'assigner': 'cna@sap.com', 'id': 'CVE-2023-0018'}> Entities=<Node element_id='4:de342d72-e7ff-4d5b-9a28-99eaa381965b:9' labels=frozenset({'CVE'}) properties={'assigner': 'security@huntr.dev', 'id': 'CVE-2023-0028'}>>, <Record cve1=<Node element_id='4:de342d72-e7ff-4d5b-9a28-99eaa381965b:3' labels=frozenset({'CVE'}) properties={'assigner': 'cna@sap.com', 'id': 'CVE-2023-0015'}> cve2=<Node element_id='4:de342d72-e7ff-4d5b-9a28-99eaa381965b:6' labels=frozenset({'CVE'}) properties={'assigner': 'cna@sap.com', 'id': 'CVE-2023-0018'}> Entities=<Node element_id='4:de342d72-e7ff-4d5b-9a28-99eaa381965b:9' labels=frozenset({'CVE'}) properties={'assigner': 'security@huntr.dev', 'id': 'CVE-2023-0028'}>>, <Record cve1=<Node element_id='4:de342d72-e7ff-4d5b-9a28-99eaa381965b:3' labels=frozenset({'CVE'}) properties={'assigner': 'cna@sap.com', 'id': 'CVE-2023-0015'}> cve2=<Node element_id='4:de342d72-e7ff-4d5b-9a28-99eaa381965b:6' labels=frozenset({'CVE'}) properties={'assigner': 'cna@sap.com', 'id': 'CVE-2023-0018'}> Entities=<Node element_id='4:de342d72-e7ff-4d5b-9a28-99eaa381965b:3' labels=frozenset({'CVE'}) properties={'assigner': 'cna@sap.com', 'id': 'CVE-2023-0015'}>>, <Record cve1=<Node element_id='4:de342d72-e7ff-4d5b-9a28-99eaa381965b:3' labels=frozenset({'CVE'}) properties={'assigner': 'cna@sap.com', 'id': 'CVE-2023-0015'}> cve2=<Node element_id='4:de342d72-e7ff-4d5b-9a28-99eaa381965b:6' labels=frozenset({'CVE'}) properties={'assigner': 'cna@sap.com', 'id': 'CVE-2023-0018'}> Entities=<Node element_id='4:de342d72-e7ff-4d5b-9a28-99eaa381965b:3' labels=frozenset({'CVE'}) properties={'assigner': 'cna@sap.com', 'id': 'CVE-2023-0015'}>>, <Record cve1=<Node element_id='4:de342d72-e7ff-4d5b-9a28-99eaa381965b:3' labels=frozenset({'CVE'}) properties={'assigner': 'cna@sap.com', 'id': 'CVE-2023-0015'}> cve2=<Node element_id='4:de342d72-e7ff-4d5b-9a28-99eaa381965b:6' labels=frozenset({'CVE'}) properties={'assigner': 'cna@sap.com', 'id': 'CVE-2023-0018'}> Entities=<Node element_id='4:de342d72-e7ff-4d5b-9a28-99eaa381965b:1' labels=frozenset({'CVE'}) properties={'assigner': 'cna@sap.com', 'id': 'CVE-2023-0013'}>>, <Record cve1=<Node element_id='4:de342d72-e7ff-4d5b-9a28-99eaa381965b:3' labels=frozenset({'CVE'}) properties={'assigner': 'cna@sap.com', 'id': 'CVE-2023-0015'}> cve2=<Node element_id='4:de342d72-e7ff-4d5b-9a28-99eaa381965b:6' labels=frozenset({'CVE'}) properties={'assigner': 'cna@sap.com', 'id': 'CVE-2023-0018'}> Entities=<Node element_id='4:de342d72-e7ff-4d5b-9a28-99eaa381965b:1' labels=frozenset({'CVE'}) properties={'assigner': 'cna@sap.com', 'id': 'CVE-2023-0013'}>>, <Record cve1=<Node element_id='4:de342d72-e7ff-4d5b-9a28-99eaa381965b:3' labels=frozenset({'CVE'}) properties={'assigner': 'cna@sap.com', 'id': 'CVE-2023-0015'}> cve2=<Node element_id='4:de342d72-e7ff-4d5b-9a28-99eaa381965b:6' labels=frozenset({'CVE'}) properties={'assigner': 'cna@sap.com', 'id': 'CVE-2023-0018'}> Entities=<Node element_id='4:de342d72-e7ff-4d5b-9a28-99eaa381965b:4' labels=frozenset({'CVE'}) properties={'assigner': 'cna@sap.com', 'id': 'CVE-2023-0016'}>>, <Record cve1=<Node element_id='4:de342d72-e7ff-4d5b-9a28-99eaa381965b:3' labels=frozenset({'CVE'}) properties={'assigner': 'cna@sap.com', 'id': 'CVE-2023-0015'}> cve2=<Node element_id='4:de342d72-e7ff-4d5b-9a28-99eaa381965b:6' labels=frozenset({'CVE'}) properties={'assigner': 'cna@sap.com', 'id': 'CVE-2023-0018'}> Entities=<Node element_id='4:de342d72-e7ff-4d5b-9a28-99eaa381965b:167' labels=frozenset({'Entities'}) properties={'wikipediaExternalRef': 241154, 'wikidataId': 'Q371199', 'confidence_score': 0.719, 'offsetStart': 0, 'offsetEnd': 20, 'rawName': 'Cross-site scripting'}>>, <Record cve1=<Node element_id='4:de342d72-e7ff-4d5b-9a28-99eaa381965b:3' labels=frozenset({'CVE'}) properties={'assigner': 'cna@sap.com', 'id': 'CVE-2023-0015'}> cve2=<Node element_id='4:de342d72-e7ff-4d5b-9a28-99eaa381965b:6' labels=frozenset({'CVE'}) properties={'assigner': 'cna@sap.com', 'id': 'CVE-2023-0018'}> Entities=<Node element_id='4:de342d72-e7ff-4d5b-9a28-99eaa381965b:167' labels=frozenset({'Entities'}) properties={'wikipediaExternalRef': 241154, 'wikidataId': 'Q371199', 'confidence_score': 0.719, 'offsetStart': 0, 'offsetEnd': 20, 'rawName': 'Cross-site scripting'}>>, <Record cve1=<Node element_id='4:de342d72-e7ff-4d5b-9a28-99eaa381965b:3' labels=frozenset({'CVE'}) properties={'assigner': 'cna@sap.com', 'id': 'CVE-2023-0015'}> cve2=<Node element_id='4:de342d72-e7ff-4d5b-9a28-99eaa381965b:6' labels=frozenset({'CVE'}) properties={'assigner': 'cna@sap.com', 'id': 'CVE-2023-0018'}> Entities=<Node element_id='4:de342d72-e7ff-4d5b-9a28-99eaa381965b:167' labels=frozenset({'Entities'}) properties={'wikipediaExternalRef': 241154, 'wikidataId': 'Q371199', 'confidence_score': 0.719, 'offsetStart': 0, 'offsetEnd': 20, 'rawName': 'Cross-site scripting'}>>, <Record cve1=<Node element_id='4:de342d72-e7ff-4d5b-9a28-99eaa381965b:3' labels=frozenset({'CVE'}) properties={'assigner': 'cna@sap.com', 'id': 'CVE-2023-0015'}> cve2=<Node element_id='4:de342d72-e7ff-4d5b-9a28-99eaa381965b:6' labels=frozenset({'CVE'}) properties={'assigner': 'cna@sap.com', 'id': 'CVE-2023-0018'}> Entities=<Node element_id='4:de342d72-e7ff-4d5b-9a28-99eaa381965b:167' labels=frozenset({'Entities'}) properties={'wikipediaExternalRef': 241154, 'wikidataId': 'Q371199', 'confidence_score': 0.719, 'offsetStart': 0, 'offsetEnd': 20, 'rawName': 'Cross-site scripting'}>>, <Record cve1=<Node element_id='4:de342d72-e7ff-4d5b-9a28-99eaa381965b:3' labels=frozenset({'CVE'}) properties={'assigner': 'cna@sap.com', 'id': 'CVE-2023-0015'}> cve2=<Node element_id='4:de342d72-e7ff-4d5b-9a28-99eaa381965b:6' labels=frozenset({'CVE'}) properties={'assigner': 'cna@sap.com', 'id': 'CVE-2023-0018'}> Entities=<Node element_id='4:de342d72-e7ff-4d5b-9a28-99eaa381965b:262' labels=frozenset({'Entities'}) properties={'wikipediaExternalRef': 526999, 'wikidataId': 'Q506059', 'confidence_score': 0.9162, 'offsetStart': 1041, 'offsetEnd': 1054, 'rawName': 'SQL injection'}>>, <Record cve1=<Node element_id='4:de342d72-e7ff-4d5b-9a28-99eaa381965b:6' labels=frozenset({'CVE'}) properties={'assigner': 'cna@sap.com', 'id': 'CVE-2023-0018'}> cve2=<Node element_id='4:de342d72-e7ff-4d5b-9a28-99eaa381965b:9' labels=frozenset({'CVE'}) properties={'assigner': 'security@huntr.dev', 'id': 'CVE-2023-0028'}> Entities=<Node element_id='4:de342d72-e7ff-4d5b-9a28-99eaa381965b:6' labels=frozenset({'CVE'}) properties={'assigner': 'cna@sap.com', 'id': 'CVE-2023-0018'}>>, <Record cve1=<Node element_id='4:de342d72-e7ff-4d5b-9a28-99eaa381965b:6' labels=frozenset({'CVE'}) properties={'assigner': 'cna@sap.com', 'id': 'CVE-2023-0018'}> cve2=<Node element_id='4:de342d72-e7ff-4d5b-9a28-99eaa381965b:9' labels=frozenset({'CVE'}) properties={'assigner': 'security@huntr.dev', 'id': 'CVE-2023-0028'}> Entities=<Node element_id='4:de342d72-e7ff-4d5b-9a28-99eaa381965b:9' labels=frozenset({'CVE'}) properties={'assigner': 'security@huntr.dev', 'id': 'CVE-2023-0028'}>>, <Record cve1=<Node element_id='4:de342d72-e7ff-4d5b-9a28-99eaa381965b:6' labels=frozenset({'CVE'}) properties={'assigner': 'cna@sap.com', 'id': 'CVE-2023-0018'}> cve2=<Node element_id='4:de342d72-e7ff-4d5b-9a28-99eaa381965b:9' labels=frozenset({'CVE'}) properties={'assigner': 'security@huntr.dev', 'id': 'CVE-2023-0028'}> Entities=<Node element_id='4:de342d72-e7ff-4d5b-9a28-99eaa381965b:3' labels=frozenset({'CVE'}) properties={'assigner': 'cna@sap.com', 'id': 'CVE-2023-0015'}>>, <Record cve1=<Node element_id='4:de342d72-e7ff-4d5b-9a28-99eaa381965b:6' labels=frozenset({'CVE'}) properties={'assigner': 'cna@sap.com', 'id': 'CVE-2023-0018'}> cve2=<Node element_id='4:de342d72-e7ff-4d5b-9a28-99eaa381965b:9' labels=frozenset({'CVE'}) properties={'assigner': 'security@huntr.dev', 'id': 'CVE-2023-0028'}> Entities=<Node element_id='4:de342d72-e7ff-4d5b-9a28-99eaa381965b:1' labels=frozenset({'CVE'}) properties={'assigner': 'cna@sap.com', 'id': 'CVE-2023-0013'}>>, <Record cve1=<Node element_id='4:de342d72-e7ff-4d5b-9a28-99eaa381965b:6' labels=frozenset({'CVE'}) properties={'assigner': 'cna@sap.com', 'id': 'CVE-2023-0018'}> cve2=<Node element_id='4:de342d72-e7ff-4d5b-9a28-99eaa381965b:9' labels=frozenset({'CVE'}) properties={'assigner': 'security@huntr.dev', 'id': 'CVE-2023-0028'}> Entities=<Node element_id='4:de342d72-e7ff-4d5b-9a28-99eaa381965b:7' labels=frozenset({'CVE'}) properties={'assigner': 'cna@sap.com', 'id': 'CVE-2023-0022'}>>, <Record cve1=<Node element_id='4:de342d72-e7ff-4d5b-9a28-99eaa381965b:6' labels=frozenset({'CVE'}) properties={'assigner': 'cna@sap.com', 'id': 'CVE-2023-0018'}> cve2=<Node element_id='4:de342d72-e7ff-4d5b-9a28-99eaa381965b:9' labels=frozenset({'CVE'}) properties={'assigner': 'security@huntr.dev', 'id': 'CVE-2023-0028'}> Entities=<Node element_id='4:de342d72-e7ff-4d5b-9a28-99eaa381965b:7' labels=frozenset({'CVE'}) properties={'assigner': 'cna@sap.com', 'id': 'CVE-2023-0022'}>>, <Record cve1=<Node element_id='4:de342d72-e7ff-4d5b-9a28-99eaa381965b:6' labels=frozenset({'CVE'}) properties={'assigner': 'cna@sap.com', 'id': 'CVE-2023-0018'}> cve2=<Node element_id='4:de342d72-e7ff-4d5b-9a28-99eaa381965b:9' labels=frozenset({'CVE'}) properties={'assigner': 'security@huntr.dev', 'id': 'CVE-2023-0028'}> Entities=<Node element_id='4:de342d72-e7ff-4d5b-9a28-99eaa381965b:2' labels=frozenset({'CVE'}) properties={'assigner': 'cna@sap.com', 'id': 'CVE-2023-0014'}>>, <Record cve1=<Node element_id='4:de342d72-e7ff-4d5b-9a28-99eaa381965b:6' labels=frozenset({'CVE'}) properties={'assigner': 'cna@sap.com', 'id': 'CVE-2023-0018'}> cve2=<Node element_id='4:de342d72-e7ff-4d5b-9a28-99eaa381965b:9' labels=frozenset({'CVE'}) properties={'assigner': 'security@huntr.dev', 'id': 'CVE-2023-0028'}> Entities=<Node element_id='4:de342d72-e7ff-4d5b-9a28-99eaa381965b:6' labels=frozenset({'CVE'}) properties={'assigner': 'cna@sap.com', 'id': 'CVE-2023-0018'}>>, <Record cve1=<Node element_id='4:de342d72-e7ff-4d5b-9a28-99eaa381965b:6' labels=frozenset({'CVE'}) properties={'assigner': 'cna@sap.com', 'id': 'CVE-2023-0018'}> cve2=<Node element_id='4:de342d72-e7ff-4d5b-9a28-99eaa381965b:9' labels=frozenset({'CVE'}) properties={'assigner': 'security@huntr.dev', 'id': 'CVE-2023-0028'}> Entities=<Node element_id='4:de342d72-e7ff-4d5b-9a28-99eaa381965b:9' labels=frozenset({'CVE'}) properties={'assigner': 'security@huntr.dev', 'id': 'CVE-2023-0028'}>>, <Record cve1=<Node element_id='4:de342d72-e7ff-4d5b-9a28-99eaa381965b:6' labels=frozenset({'CVE'}) properties={'assigner': 'cna@sap.com', 'id': 'CVE-2023-0018'}> cve2=<Node element_id='4:de342d72-e7ff-4d5b-9a28-99eaa381965b:9' labels=frozenset({'CVE'}) properties={'assigner': 'security@huntr.dev', 'id': 'CVE-2023-0028'}> Entities=<Node element_id='4:de342d72-e7ff-4d5b-9a28-99eaa381965b:3' labels=frozenset({'CVE'}) properties={'assigner': 'cna@sap.com', 'id': 'CVE-2023-0015'}>>, <Record cve1=<Node element_id='4:de342d72-e7ff-4d5b-9a28-99eaa381965b:6' labels=frozenset({'CVE'}) properties={'assigner': 'cna@sap.com', 'id': 'CVE-2023-0018'}> cve2=<Node element_id='4:de342d72-e7ff-4d5b-9a28-99eaa381965b:9' labels=frozenset({'CVE'}) properties={'assigner': 'security@huntr.dev', 'id': 'CVE-2023-0028'}> Entities=<Node element_id='4:de342d72-e7ff-4d5b-9a28-99eaa381965b:1' labels=frozenset({'CVE'}) properties={'assigner': 'cna@sap.com', 'id': 'CVE-2023-0013'}>>, <Record cve1=<Node element_id='4:de342d72-e7ff-4d5b-9a28-99eaa381965b:6' labels=frozenset({'CVE'}) properties={'assigner': 'cna@sap.com', 'id': 'CVE-2023-0018'}> cve2=<Node element_id='4:de342d72-e7ff-4d5b-9a28-99eaa381965b:9' labels=frozenset({'CVE'}) properties={'assigner': 'security@huntr.dev', 'id': 'CVE-2023-0028'}> Entities=<Node element_id='4:de342d72-e7ff-4d5b-9a28-99eaa381965b:8' labels=frozenset({'CVE'}) properties={'assigner': 'cna@sap.com', 'id': 'CVE-2023-0023'}>>, <Record cve1=<Node element_id='4:de342d72-e7ff-4d5b-9a28-99eaa381965b:6' labels=frozenset({'CVE'}) properties={'assigner': 'cna@sap.com', 'id': 'CVE-2023-0018'}> cve2=<Node element_id='4:de342d72-e7ff-4d5b-9a28-99eaa381965b:9' labels=frozenset({'CVE'}) properties={'assigner': 'security@huntr.dev', 'id': 'CVE-2023-0028'}> Entities=<Node element_id='4:de342d72-e7ff-4d5b-9a28-99eaa381965b:0' labels=frozenset({'CVE'}) properties={'assigner': 'cna@sap.com', 'id': 'CVE-2023-0012'}>>, <Record cve1=<Node element_id='4:de342d72-e7ff-4d5b-9a28-99eaa381965b:6' labels=frozenset({'CVE'}) properties={'assigner': 'cna@sap.com', 'id': 'CVE-2023-0018'}> cve2=<Node element_id='4:de342d72-e7ff-4d5b-9a28-99eaa381965b:9' labels=frozenset({'CVE'}) properties={'assigner': 'security@huntr.dev', 'id': 'CVE-2023-0028'}> Entities=<Node element_id='4:de342d72-e7ff-4d5b-9a28-99eaa381965b:5' labels=frozenset({'CVE'}) properties={'assigner': 'cna@sap.com', 'id': 'CVE-2023-0017'}>>, <Record cve1=<Node element_id='4:de342d72-e7ff-4d5b-9a28-99eaa381965b:6' labels=frozenset({'CVE'}) properties={'assigner': 'cna@sap.com', 'id': 'CVE-2023-0018'}> cve2=<Node element_id='4:de342d72-e7ff-4d5b-9a28-99eaa381965b:9' labels=frozenset({'CVE'}) properties={'assigner': 'security@huntr.dev', 'id': 'CVE-2023-0028'}> Entities=<Node element_id='4:de342d72-e7ff-4d5b-9a28-99eaa381965b:0' labels=frozenset({'CVE'}) properties={'assigner': 'cna@sap.com', 'id': 'CVE-2023-0012'}>>, <Record cve1=<Node element_id='4:de342d72-e7ff-4d5b-9a28-99eaa381965b:6' labels=frozenset({'CVE'}) properties={'assigner': 'cna@sap.com', 'id': 'CVE-2023-0018'}> cve2=<Node element_id='4:de342d72-e7ff-4d5b-9a28-99eaa381965b:9' labels=frozenset({'CVE'}) properties={'assigner': 'security@huntr.dev', 'id': 'CVE-2023-0028'}> Entities=<Node element_id='4:de342d72-e7ff-4d5b-9a28-99eaa381965b:0' labels=frozenset({'CVE'}) properties={'assigner': 'cna@sap.com', 'id': 'CVE-2023-0012'}>>, <Record cve1=<Node element_id='4:de342d72-e7ff-4d5b-9a28-99eaa381965b:6' labels=frozenset({'CVE'}) properties={'assigner': 'cna@sap.com', 'id': 'CVE-2023-0018'}> cve2=<Node element_id='4:de342d72-e7ff-4d5b-9a28-99eaa381965b:9' labels=frozenset({'CVE'}) properties={'assigner': 'security@huntr.dev', 'id': 'CVE-2023-0028'}> Entities=<Node element_id='4:de342d72-e7ff-4d5b-9a28-99eaa381965b:5' labels=frozenset({'CVE'}) properties={'assigner': 'cna@sap.com', 'id': 'CVE-2023-0017'}>>, <Record cve1=<Node element_id='4:de342d72-e7ff-4d5b-9a28-99eaa381965b:6' labels=frozenset({'CVE'}) properties={'assigner': 'cna@sap.com', 'id': 'CVE-2023-0018'}> cve2=<Node element_id='4:de342d72-e7ff-4d5b-9a28-99eaa381965b:9' labels=frozenset({'CVE'}) properties={'assigner': 'security@huntr.dev', 'id': 'CVE-2023-0028'}> Entities=<Node element_id='4:de342d72-e7ff-4d5b-9a28-99eaa381965b:5' labels=frozenset({'CVE'}) properties={'assigner': 'cna@sap.com', 'id': 'CVE-2023-0017'}>>, <Record cve1=<Node element_id='4:de342d72-e7ff-4d5b-9a28-99eaa381965b:6' labels=frozenset({'CVE'}) properties={'assigner': 'cna@sap.com', 'id': 'CVE-2023-0018'}> cve2=<Node element_id='4:de342d72-e7ff-4d5b-9a28-99eaa381965b:9' labels=frozenset({'CVE'}) properties={'assigner': 'security@huntr.dev', 'id': 'CVE-2023-0028'}> Entities=<Node element_id='4:de342d72-e7ff-4d5b-9a28-99eaa381965b:6' labels=frozenset({'CVE'}) properties={'assigner': 'cna@sap.com', 'id': 'CVE-2023-0018'}>>, <Record cve1=<Node element_id='4:de342d72-e7ff-4d5b-9a28-99eaa381965b:6' labels=frozenset({'CVE'}) properties={'assigner': 'cna@sap.com', 'id': 'CVE-2023-0018'}> cve2=<Node element_id='4:de342d72-e7ff-4d5b-9a28-99eaa381965b:9' labels=frozenset({'CVE'}) properties={'assigner': 'security@huntr.dev', 'id': 'CVE-2023-0028'}> Entities=<Node element_id='4:de342d72-e7ff-4d5b-9a28-99eaa381965b:6' labels=frozenset({'CVE'}) properties={'assigner': 'cna@sap.com', 'id': 'CVE-2023-0018'}>>, <Record cve1=<Node element_id='4:de342d72-e7ff-4d5b-9a28-99eaa381965b:6' labels=frozenset({'CVE'}) properties={'assigner': 'cna@sap.com', 'id': 'CVE-2023-0018'}> cve2=<Node element_id='4:de342d72-e7ff-4d5b-9a28-99eaa381965b:9' labels=frozenset({'CVE'}) properties={'assigner': 'security@huntr.dev', 'id': 'CVE-2023-0028'}> Entities=<Node element_id='4:de342d72-e7ff-4d5b-9a28-99eaa381965b:6' labels=frozenset({'CVE'}) properties={'assigner': 'cna@sap.com', 'id': 'CVE-2023-0018'}>>, <Record cve1=<Node element_id='4:de342d72-e7ff-4d5b-9a28-99eaa381965b:6' labels=frozenset({'CVE'}) properties={'assigner': 'cna@sap.com', 'id': 'CVE-2023-0018'}> cve2=<Node element_id='4:de342d72-e7ff-4d5b-9a28-99eaa381965b:9' labels=frozenset({'CVE'}) properties={'assigner': 'security@huntr.dev', 'id': 'CVE-2023-0028'}> Entities=<Node element_id='4:de342d72-e7ff-4d5b-9a28-99eaa381965b:6' labels=frozenset({'CVE'}) properties={'assigner': 'cna@sap.com', 'id': 'CVE-2023-0018'}>>, <Record cve1=<Node element_id='4:de342d72-e7ff-4d5b-9a28-99eaa381965b:6' labels=frozenset({'CVE'}) properties={'assigner': 'cna@sap.com', 'id': 'CVE-2023-0018'}> cve2=<Node element_id='4:de342d72-e7ff-4d5b-9a28-99eaa381965b:9' labels=frozenset({'CVE'}) properties={'assigner': 'security@huntr.dev', 'id': 'CVE-2023-0028'}> Entities=<Node element_id='4:de342d72-e7ff-4d5b-9a28-99eaa381965b:9' labels=frozenset({'CVE'}) properties={'assigner': 'security@huntr.dev', 'id': 'CVE-2023-0028'}>>, <Record cve1=<Node element_id='4:de342d72-e7ff-4d5b-9a28-99eaa381965b:6' labels=frozenset({'CVE'}) properties={'assigner': 'cna@sap.com', 'id': 'CVE-2023-0018'}> cve2=<Node element_id='4:de342d72-e7ff-4d5b-9a28-99eaa381965b:9' labels=frozenset({'CVE'}) properties={'assigner': 'security@huntr.dev', 'id': 'CVE-2023-0028'}> Entities=<Node element_id='4:de342d72-e7ff-4d5b-9a28-99eaa381965b:9' labels=frozenset({'CVE'}) properties={'assigner': 'security@huntr.dev', 'id': 'CVE-2023-0028'}>>, <Record cve1=<Node element_id='4:de342d72-e7ff-4d5b-9a28-99eaa381965b:6' labels=frozenset({'CVE'}) properties={'assigner': 'cna@sap.com', 'id': 'CVE-2023-0018'}> cve2=<Node element_id='4:de342d72-e7ff-4d5b-9a28-99eaa381965b:9' labels=frozenset({'CVE'}) properties={'assigner': 'security@huntr.dev', 'id': 'CVE-2023-0028'}> Entities=<Node element_id='4:de342d72-e7ff-4d5b-9a28-99eaa381965b:9' labels=frozenset({'CVE'}) properties={'assigner': 'security@huntr.dev', 'id': 'CVE-2023-0028'}>>, <Record cve1=<Node element_id='4:de342d72-e7ff-4d5b-9a28-99eaa381965b:6' labels=frozenset({'CVE'}) properties={'assigner': 'cna@sap.com', 'id': 'CVE-2023-0018'}> cve2=<Node element_id='4:de342d72-e7ff-4d5b-9a28-99eaa381965b:9' labels=frozenset({'CVE'}) properties={'assigner': 'security@huntr.dev', 'id': 'CVE-2023-0028'}> Entities=<Node element_id='4:de342d72-e7ff-4d5b-9a28-99eaa381965b:9' labels=frozenset({'CVE'}) properties={'assigner': 'security@huntr.dev', 'id': 'CVE-2023-0028'}>>, <Record cve1=<Node element_id='4:de342d72-e7ff-4d5b-9a28-99eaa381965b:6' labels=frozenset({'CVE'}) properties={'assigner': 'cna@sap.com', 'id': 'CVE-2023-0018'}> cve2=<Node element_id='4:de342d72-e7ff-4d5b-9a28-99eaa381965b:9' labels=frozenset({'CVE'}) properties={'assigner': 'security@huntr.dev', 'id': 'CVE-2023-0028'}> Entities=<Node element_id='4:de342d72-e7ff-4d5b-9a28-99eaa381965b:3' labels=frozenset({'CVE'}) properties={'assigner': 'cna@sap.com', 'id': 'CVE-2023-0015'}>>, <Record cve1=<Node element_id='4:de342d72-e7ff-4d5b-9a28-99eaa381965b:6' labels=frozenset({'CVE'}) properties={'assigner': 'cna@sap.com', 'id': 'CVE-2023-0018'}> cve2=<Node element_id='4:de342d72-e7ff-4d5b-9a28-99eaa381965b:9' labels=frozenset({'CVE'}) properties={'assigner': 'security@huntr.dev', 'id': 'CVE-2023-0028'}> Entities=<Node element_id='4:de342d72-e7ff-4d5b-9a28-99eaa381965b:3' labels=frozenset({'CVE'}) properties={'assigner': 'cna@sap.com', 'id': 'CVE-2023-0015'}>>, <Record cve1=<Node element_id='4:de342d72-e7ff-4d5b-9a28-99eaa381965b:6' labels=frozenset({'CVE'}) properties={'assigner': 'cna@sap.com', 'id': 'CVE-2023-0018'}> cve2=<Node element_id='4:de342d72-e7ff-4d5b-9a28-99eaa381965b:9' labels=frozenset({'CVE'}) properties={'assigner': 'security@huntr.dev', 'id': 'CVE-2023-0028'}> Entities=<Node element_id='4:de342d72-e7ff-4d5b-9a28-99eaa381965b:3' labels=frozenset({'CVE'}) properties={'assigner': 'cna@sap.com', 'id': 'CVE-2023-0015'}>>, <Record cve1=<Node element_id='4:de342d72-e7ff-4d5b-9a28-99eaa381965b:6' labels=frozenset({'CVE'}) properties={'assigner': 'cna@sap.com', 'id': 'CVE-2023-0018'}> cve2=<Node element_id='4:de342d72-e7ff-4d5b-9a28-99eaa381965b:9' labels=frozenset({'CVE'}) properties={'assigner': 'security@huntr.dev', 'id': 'CVE-2023-0028'}> Entities=<Node element_id='4:de342d72-e7ff-4d5b-9a28-99eaa381965b:3' labels=frozenset({'CVE'}) properties={'assigner': 'cna@sap.com', 'id': 'CVE-2023-0015'}>>, <Record cve1=<Node element_id='4:de342d72-e7ff-4d5b-9a28-99eaa381965b:6' labels=frozenset({'CVE'}) properties={'assigner': 'cna@sap.com', 'id': 'CVE-2023-0018'}> cve2=<Node element_id='4:de342d72-e7ff-4d5b-9a28-99eaa381965b:9' labels=frozenset({'CVE'}) properties={'assigner': 'security@huntr.dev', 'id': 'CVE-2023-0028'}> Entities=<Node element_id='4:de342d72-e7ff-4d5b-9a28-99eaa381965b:1' labels=frozenset({'CVE'}) properties={'assigner': 'cna@sap.com', 'id': 'CVE-2023-0013'}>>, <Record cve1=<Node element_id='4:de342d72-e7ff-4d5b-9a28-99eaa381965b:6' labels=frozenset({'CVE'}) properties={'assigner': 'cna@sap.com', 'id': 'CVE-2023-0018'}> cve2=<Node element_id='4:de342d72-e7ff-4d5b-9a28-99eaa381965b:9' labels=frozenset({'CVE'}) properties={'assigner': 'security@huntr.dev', 'id': 'CVE-2023-0028'}> Entities=<Node element_id='4:de342d72-e7ff-4d5b-9a28-99eaa381965b:1' labels=frozenset({'CVE'}) properties={'assigner': 'cna@sap.com', 'id': 'CVE-2023-0013'}>>, <Record cve1=<Node element_id='4:de342d72-e7ff-4d5b-9a28-99eaa381965b:6' labels=frozenset({'CVE'}) properties={'assigner': 'cna@sap.com', 'id': 'CVE-2023-0018'}> cve2=<Node element_id='4:de342d72-e7ff-4d5b-9a28-99eaa381965b:9' labels=frozenset({'CVE'}) properties={'assigner': 'security@huntr.dev', 'id': 'CVE-2023-0028'}> Entities=<Node element_id='4:de342d72-e7ff-4d5b-9a28-99eaa381965b:1' labels=frozenset({'CVE'}) properties={'assigner': 'cna@sap.com', 'id': 'CVE-2023-0013'}>>, <Record cve1=<Node element_id='4:de342d72-e7ff-4d5b-9a28-99eaa381965b:6' labels=frozenset({'CVE'}) properties={'assigner': 'cna@sap.com', 'id': 'CVE-2023-0018'}> cve2=<Node element_id='4:de342d72-e7ff-4d5b-9a28-99eaa381965b:9' labels=frozenset({'CVE'}) properties={'assigner': 'security@huntr.dev', 'id': 'CVE-2023-0028'}> Entities=<Node element_id='4:de342d72-e7ff-4d5b-9a28-99eaa381965b:1' labels=frozenset({'CVE'}) properties={'assigner': 'cna@sap.com', 'id': 'CVE-2023-0013'}>>, <Record cve1=<Node element_id='4:de342d72-e7ff-4d5b-9a28-99eaa381965b:6' labels=frozenset({'CVE'}) properties={'assigner': 'cna@sap.com', 'id': 'CVE-2023-0018'}> cve2=<Node element_id='4:de342d72-e7ff-4d5b-9a28-99eaa381965b:9' labels=frozenset({'CVE'}) properties={'assigner': 'security@huntr.dev', 'id': 'CVE-2023-0028'}> Entities=<Node element_id='4:de342d72-e7ff-4d5b-9a28-99eaa381965b:6' labels=frozenset({'CVE'}) properties={'assigner': 'cna@sap.com', 'id': 'CVE-2023-0018'}>>, <Record cve1=<Node element_id='4:de342d72-e7ff-4d5b-9a28-99eaa381965b:6' labels=frozenset({'CVE'}) properties={'assigner': 'cna@sap.com', 'id': 'CVE-2023-0018'}> cve2=<Node element_id='4:de342d72-e7ff-4d5b-9a28-99eaa381965b:9' labels=frozenset({'CVE'}) properties={'assigner': 'security@huntr.dev', 'id': 'CVE-2023-0028'}> Entities=<Node element_id='4:de342d72-e7ff-4d5b-9a28-99eaa381965b:6' labels=frozenset({'CVE'}) properties={'assigner': 'cna@sap.com', 'id': 'CVE-2023-0018'}>>, <Record cve1=<Node element_id='4:de342d72-e7ff-4d5b-9a28-99eaa381965b:6' labels=frozenset({'CVE'}) properties={'assigner': 'cna@sap.com', 'id': 'CVE-2023-0018'}> cve2=<Node element_id='4:de342d72-e7ff-4d5b-9a28-99eaa381965b:9' labels=frozenset({'CVE'}) properties={'assigner': 'security@huntr.dev', 'id': 'CVE-2023-0028'}> Entities=<Node element_id='4:de342d72-e7ff-4d5b-9a28-99eaa381965b:9' labels=frozenset({'CVE'}) properties={'assigner': 'security@huntr.dev', 'id': 'CVE-2023-0028'}>>, <Record cve1=<Node element_id='4:de342d72-e7ff-4d5b-9a28-99eaa381965b:6' labels=frozenset({'CVE'}) properties={'assigner': 'cna@sap.com', 'id': 'CVE-2023-0018'}> cve2=<Node element_id='4:de342d72-e7ff-4d5b-9a28-99eaa381965b:9' labels=frozenset({'CVE'}) properties={'assigner': 'security@huntr.dev', 'id': 'CVE-2023-0028'}> Entities=<Node element_id='4:de342d72-e7ff-4d5b-9a28-99eaa381965b:9' labels=frozenset({'CVE'}) properties={'assigner': 'security@huntr.dev', 'id': 'CVE-2023-0028'}>>, <Record cve1=<Node element_id='4:de342d72-e7ff-4d5b-9a28-99eaa381965b:6' labels=frozenset({'CVE'}) properties={'assigner': 'cna@sap.com', 'id': 'CVE-2023-0018'}> cve2=<Node element_id='4:de342d72-e7ff-4d5b-9a28-99eaa381965b:9' labels=frozenset({'CVE'}) properties={'assigner': 'security@huntr.dev', 'id': 'CVE-2023-0028'}> Entities=<Node element_id='4:de342d72-e7ff-4d5b-9a28-99eaa381965b:3' labels=frozenset({'CVE'}) properties={'assigner': 'cna@sap.com', 'id': 'CVE-2023-0015'}>>, <Record cve1=<Node element_id='4:de342d72-e7ff-4d5b-9a28-99eaa381965b:6' labels=frozenset({'CVE'}) properties={'assigner': 'cna@sap.com', 'id': 'CVE-2023-0018'}> cve2=<Node element_id='4:de342d72-e7ff-4d5b-9a28-99eaa381965b:9' labels=frozenset({'CVE'}) properties={'assigner': 'security@huntr.dev', 'id': 'CVE-2023-0028'}> Entities=<Node element_id='4:de342d72-e7ff-4d5b-9a28-99eaa381965b:3' labels=frozenset({'CVE'}) properties={'assigner': 'cna@sap.com', 'id': 'CVE-2023-0015'}>>, <Record cve1=<Node element_id='4:de342d72-e7ff-4d5b-9a28-99eaa381965b:6' labels=frozenset({'CVE'}) properties={'assigner': 'cna@sap.com', 'id': 'CVE-2023-0018'}> cve2=<Node element_id='4:de342d72-e7ff-4d5b-9a28-99eaa381965b:9' labels=frozenset({'CVE'}) properties={'assigner': 'security@huntr.dev', 'id': 'CVE-2023-0028'}> Entities=<Node element_id='4:de342d72-e7ff-4d5b-9a28-99eaa381965b:1' labels=frozenset({'CVE'}) properties={'assigner': 'cna@sap.com', 'id': 'CVE-2023-0013'}>>, <Record cve1=<Node element_id='4:de342d72-e7ff-4d5b-9a28-99eaa381965b:6' labels=frozenset({'CVE'}) properties={'assigner': 'cna@sap.com', 'id': 'CVE-2023-0018'}> cve2=<Node element_id='4:de342d72-e7ff-4d5b-9a28-99eaa381965b:9' labels=frozenset({'CVE'}) properties={'assigner': 'security@huntr.dev', 'id': 'CVE-2023-0028'}> Entities=<Node element_id='4:de342d72-e7ff-4d5b-9a28-99eaa381965b:1' labels=frozenset({'CVE'}) properties={'assigner': 'cna@sap.com', 'id': 'CVE-2023-0013'}>>, <Record cve1=<Node element_id='4:de342d72-e7ff-4d5b-9a28-99eaa381965b:6' labels=frozenset({'CVE'}) properties={'assigner': 'cna@sap.com', 'id': 'CVE-2023-0018'}> cve2=<Node element_id='4:de342d72-e7ff-4d5b-9a28-99eaa381965b:9' labels=frozenset({'CVE'}) properties={'assigner': 'security@huntr.dev', 'id': 'CVE-2023-0028'}> Entities=<Node element_id='4:de342d72-e7ff-4d5b-9a28-99eaa381965b:6' labels=frozenset({'CVE'}) properties={'assigner': 'cna@sap.com', 'id': 'CVE-2023-0018'}>>, <Record cve1=<Node element_id='4:de342d72-e7ff-4d5b-9a28-99eaa381965b:6' labels=frozenset({'CVE'}) properties={'assigner': 'cna@sap.com', 'id': 'CVE-2023-0018'}> cve2=<Node element_id='4:de342d72-e7ff-4d5b-9a28-99eaa381965b:9' labels=frozenset({'CVE'}) properties={'assigner': 'security@huntr.dev', 'id': 'CVE-2023-0028'}> Entities=<Node element_id='4:de342d72-e7ff-4d5b-9a28-99eaa381965b:6' labels=frozenset({'CVE'}) properties={'assigner': 'cna@sap.com', 'id': 'CVE-2023-0018'}>>, <Record cve1=<Node element_id='4:de342d72-e7ff-4d5b-9a28-99eaa381965b:6' labels=frozenset({'CVE'}) properties={'assigner': 'cna@sap.com', 'id': 'CVE-2023-0018'}> cve2=<Node element_id='4:de342d72-e7ff-4d5b-9a28-99eaa381965b:9' labels=frozenset({'CVE'}) properties={'assigner': 'security@huntr.dev', 'id': 'CVE-2023-0028'}> Entities=<Node element_id='4:de342d72-e7ff-4d5b-9a28-99eaa381965b:9' labels=frozenset({'CVE'}) properties={'assigner': 'security@huntr.dev', 'id': 'CVE-2023-0028'}>>, <Record cve1=<Node element_id='4:de342d72-e7ff-4d5b-9a28-99eaa381965b:6' labels=frozenset({'CVE'}) properties={'assigner': 'cna@sap.com', 'id': 'CVE-2023-0018'}> cve2=<Node element_id='4:de342d72-e7ff-4d5b-9a28-99eaa381965b:9' labels=frozenset({'CVE'}) properties={'assigner': 'security@huntr.dev', 'id': 'CVE-2023-0028'}> Entities=<Node element_id='4:de342d72-e7ff-4d5b-9a28-99eaa381965b:9' labels=frozenset({'CVE'}) properties={'assigner': 'security@huntr.dev', 'id': 'CVE-2023-0028'}>>, <Record cve1=<Node element_id='4:de342d72-e7ff-4d5b-9a28-99eaa381965b:6' labels=frozenset({'CVE'}) properties={'assigner': 'cna@sap.com', 'id': 'CVE-2023-0018'}> cve2=<Node element_id='4:de342d72-e7ff-4d5b-9a28-99eaa381965b:9' labels=frozenset({'CVE'}) properties={'assigner': 'security@huntr.dev', 'id': 'CVE-2023-0028'}> Entities=<Node element_id='4:de342d72-e7ff-4d5b-9a28-99eaa381965b:3' labels=frozenset({'CVE'}) properties={'assigner': 'cna@sap.com', 'id': 'CVE-2023-0015'}>>, <Record cve1=<Node element_id='4:de342d72-e7ff-4d5b-9a28-99eaa381965b:6' labels=frozenset({'CVE'}) properties={'assigner': 'cna@sap.com', 'id': 'CVE-2023-0018'}> cve2=<Node element_id='4:de342d72-e7ff-4d5b-9a28-99eaa381965b:9' labels=frozenset({'CVE'}) properties={'assigner': 'security@huntr.dev', 'id': 'CVE-2023-0028'}> Entities=<Node element_id='4:de342d72-e7ff-4d5b-9a28-99eaa381965b:3' labels=frozenset({'CVE'}) properties={'assigner': 'cna@sap.com', 'id': 'CVE-2023-0015'}>>, <Record cve1=<Node element_id='4:de342d72-e7ff-4d5b-9a28-99eaa381965b:6' labels=frozenset({'CVE'}) properties={'assigner': 'cna@sap.com', 'id': 'CVE-2023-0018'}> cve2=<Node element_id='4:de342d72-e7ff-4d5b-9a28-99eaa381965b:9' labels=frozenset({'CVE'}) properties={'assigner': 'security@huntr.dev', 'id': 'CVE-2023-0028'}> Entities=<Node element_id='4:de342d72-e7ff-4d5b-9a28-99eaa381965b:1' labels=frozenset({'CVE'}) properties={'assigner': 'cna@sap.com', 'id': 'CVE-2023-0013'}>>, <Record cve1=<Node element_id='4:de342d72-e7ff-4d5b-9a28-99eaa381965b:6' labels=frozenset({'CVE'}) properties={'assigner': 'cna@sap.com', 'id': 'CVE-2023-0018'}> cve2=<Node element_id='4:de342d72-e7ff-4d5b-9a28-99eaa381965b:9' labels=frozenset({'CVE'}) properties={'assigner': 'security@huntr.dev', 'id': 'CVE-2023-0028'}> Entities=<Node element_id='4:de342d72-e7ff-4d5b-9a28-99eaa381965b:1' labels=frozenset({'CVE'}) properties={'assigner': 'cna@sap.com', 'id': 'CVE-2023-0013'}>>, <Record cve1=<Node element_id='4:de342d72-e7ff-4d5b-9a28-99eaa381965b:6' labels=frozenset({'CVE'}) properties={'assigner': 'cna@sap.com', 'id': 'CVE-2023-0018'}> cve2=<Node element_id='4:de342d72-e7ff-4d5b-9a28-99eaa381965b:9' labels=frozenset({'CVE'}) properties={'assigner': 'security@huntr.dev', 'id': 'CVE-2023-0028'}> Entities=<Node element_id='4:de342d72-e7ff-4d5b-9a28-99eaa381965b:6' labels=frozenset({'CVE'}) properties={'assigner': 'cna@sap.com', 'id': 'CVE-2023-0018'}>>, <Record cve1=<Node element_id='4:de342d72-e7ff-4d5b-9a28-99eaa381965b:6' labels=frozenset({'CVE'}) properties={'assigner': 'cna@sap.com', 'id': 'CVE-2023-0018'}> cve2=<Node element_id='4:de342d72-e7ff-4d5b-9a28-99eaa381965b:9' labels=frozenset({'CVE'}) properties={'assigner': 'security@huntr.dev', 'id': 'CVE-2023-0028'}> Entities=<Node element_id='4:de342d72-e7ff-4d5b-9a28-99eaa381965b:6' labels=frozenset({'CVE'}) properties={'assigner': 'cna@sap.com', 'id': 'CVE-2023-0018'}>>, <Record cve1=<Node element_id='4:de342d72-e7ff-4d5b-9a28-99eaa381965b:6' labels=frozenset({'CVE'}) properties={'assigner': 'cna@sap.com', 'id': 'CVE-2023-0018'}> cve2=<Node element_id='4:de342d72-e7ff-4d5b-9a28-99eaa381965b:9' labels=frozenset({'CVE'}) properties={'assigner': 'security@huntr.dev', 'id': 'CVE-2023-0028'}> Entities=<Node element_id='4:de342d72-e7ff-4d5b-9a28-99eaa381965b:6' labels=frozenset({'CVE'}) properties={'assigner': 'cna@sap.com', 'id': 'CVE-2023-0018'}>>, <Record cve1=<Node element_id='4:de342d72-e7ff-4d5b-9a28-99eaa381965b:6' labels=frozenset({'CVE'}) properties={'assigner': 'cna@sap.com', 'id': 'CVE-2023-0018'}> cve2=<Node element_id='4:de342d72-e7ff-4d5b-9a28-99eaa381965b:9' labels=frozenset({'CVE'}) properties={'assigner': 'security@huntr.dev', 'id': 'CVE-2023-0028'}> Entities=<Node element_id='4:de342d72-e7ff-4d5b-9a28-99eaa381965b:9' labels=frozenset({'CVE'}) properties={'assigner': 'security@huntr.dev', 'id': 'CVE-2023-0028'}>>, <Record cve1=<Node element_id='4:de342d72-e7ff-4d5b-9a28-99eaa381965b:6' labels=frozenset({'CVE'}) properties={'assigner': 'cna@sap.com', 'id': 'CVE-2023-0018'}> cve2=<Node element_id='4:de342d72-e7ff-4d5b-9a28-99eaa381965b:9' labels=frozenset({'CVE'}) properties={'assigner': 'security@huntr.dev', 'id': 'CVE-2023-0028'}> Entities=<Node element_id='4:de342d72-e7ff-4d5b-9a28-99eaa381965b:9' labels=frozenset({'CVE'}) properties={'assigner': 'security@huntr.dev', 'id': 'CVE-2023-0028'}>>, <Record cve1=<Node element_id='4:de342d72-e7ff-4d5b-9a28-99eaa381965b:6' labels=frozenset({'CVE'}) properties={'assigner': 'cna@sap.com', 'id': 'CVE-2023-0018'}> cve2=<Node element_id='4:de342d72-e7ff-4d5b-9a28-99eaa381965b:9' labels=frozenset({'CVE'}) properties={'assigner': 'security@huntr.dev', 'id': 'CVE-2023-0028'}> Entities=<Node element_id='4:de342d72-e7ff-4d5b-9a28-99eaa381965b:9' labels=frozenset({'CVE'}) properties={'assigner': 'security@huntr.dev', 'id': 'CVE-2023-0028'}>>, <Record cve1=<Node element_id='4:de342d72-e7ff-4d5b-9a28-99eaa381965b:6' labels=frozenset({'CVE'}) properties={'assigner': 'cna@sap.com', 'id': 'CVE-2023-0018'}> cve2=<Node element_id='4:de342d72-e7ff-4d5b-9a28-99eaa381965b:9' labels=frozenset({'CVE'}) properties={'assigner': 'security@huntr.dev', 'id': 'CVE-2023-0028'}> Entities=<Node element_id='4:de342d72-e7ff-4d5b-9a28-99eaa381965b:3' labels=frozenset({'CVE'}) properties={'assigner': 'cna@sap.com', 'id': 'CVE-2023-0015'}>>, <Record cve1=<Node element_id='4:de342d72-e7ff-4d5b-9a28-99eaa381965b:6' labels=frozenset({'CVE'}) properties={'assigner': 'cna@sap.com', 'id': 'CVE-2023-0018'}> cve2=<Node element_id='4:de342d72-e7ff-4d5b-9a28-99eaa381965b:9' labels=frozenset({'CVE'}) properties={'assigner': 'security@huntr.dev', 'id': 'CVE-2023-0028'}> Entities=<Node element_id='4:de342d72-e7ff-4d5b-9a28-99eaa381965b:3' labels=frozenset({'CVE'}) properties={'assigner': 'cna@sap.com', 'id': 'CVE-2023-0015'}>>, <Record cve1=<Node element_id='4:de342d72-e7ff-4d5b-9a28-99eaa381965b:6' labels=frozenset({'CVE'}) properties={'assigner': 'cna@sap.com', 'id': 'CVE-2023-0018'}> cve2=<Node element_id='4:de342d72-e7ff-4d5b-9a28-99eaa381965b:9' labels=frozenset({'CVE'}) properties={'assigner': 'security@huntr.dev', 'id': 'CVE-2023-0028'}> Entities=<Node element_id='4:de342d72-e7ff-4d5b-9a28-99eaa381965b:3' labels=frozenset({'CVE'}) properties={'assigner': 'cna@sap.com', 'id': 'CVE-2023-0015'}>>, <Record cve1=<Node element_id='4:de342d72-e7ff-4d5b-9a28-99eaa381965b:6' labels=frozenset({'CVE'}) properties={'assigner': 'cna@sap.com', 'id': 'CVE-2023-0018'}> cve2=<Node element_id='4:de342d72-e7ff-4d5b-9a28-99eaa381965b:9' labels=frozenset({'CVE'}) properties={'assigner': 'security@huntr.dev', 'id': 'CVE-2023-0028'}> Entities=<Node element_id='4:de342d72-e7ff-4d5b-9a28-99eaa381965b:1' labels=frozenset({'CVE'}) properties={'assigner': 'cna@sap.com', 'id': 'CVE-2023-0013'}>>, <Record cve1=<Node element_id='4:de342d72-e7ff-4d5b-9a28-99eaa381965b:6' labels=frozenset({'CVE'}) properties={'assigner': 'cna@sap.com', 'id': 'CVE-2023-0018'}> cve2=<Node element_id='4:de342d72-e7ff-4d5b-9a28-99eaa381965b:9' labels=frozenset({'CVE'}) properties={'assigner': 'security@huntr.dev', 'id': 'CVE-2023-0028'}> Entities=<Node element_id='4:de342d72-e7ff-4d5b-9a28-99eaa381965b:1' labels=frozenset({'CVE'}) properties={'assigner': 'cna@sap.com', 'id': 'CVE-2023-0013'}>>, <Record cve1=<Node element_id='4:de342d72-e7ff-4d5b-9a28-99eaa381965b:6' labels=frozenset({'CVE'}) properties={'assigner': 'cna@sap.com', 'id': 'CVE-2023-0018'}> cve2=<Node element_id='4:de342d72-e7ff-4d5b-9a28-99eaa381965b:9' labels=frozenset({'CVE'}) properties={'assigner': 'security@huntr.dev', 'id': 'CVE-2023-0028'}> Entities=<Node element_id='4:de342d72-e7ff-4d5b-9a28-99eaa381965b:1' labels=frozenset({'CVE'}) properties={'assigner': 'cna@sap.com', 'id': 'CVE-2023-0013'}>>, <Record cve1=<Node element_id='4:de342d72-e7ff-4d5b-9a28-99eaa381965b:6' labels=frozenset({'CVE'}) properties={'assigner': 'cna@sap.com', 'id': 'CVE-2023-0018'}> cve2=<Node element_id='4:de342d72-e7ff-4d5b-9a28-99eaa381965b:9' labels=frozenset({'CVE'}) properties={'assigner': 'security@huntr.dev', 'id': 'CVE-2023-0028'}> Entities=<Node element_id='4:de342d72-e7ff-4d5b-9a28-99eaa381965b:6' labels=frozenset({'CVE'}) properties={'assigner': 'cna@sap.com', 'id': 'CVE-2023-0018'}>>, <Record cve1=<Node element_id='4:de342d72-e7ff-4d5b-9a28-99eaa381965b:6' labels=frozenset({'CVE'}) properties={'assigner': 'cna@sap.com', 'id': 'CVE-2023-0018'}> cve2=<Node element_id='4:de342d72-e7ff-4d5b-9a28-99eaa381965b:9' labels=frozenset({'CVE'}) properties={'assigner': 'security@huntr.dev', 'id': 'CVE-2023-0028'}> Entities=<Node element_id='4:de342d72-e7ff-4d5b-9a28-99eaa381965b:6' labels=frozenset({'CVE'}) properties={'assigner': 'cna@sap.com', 'id': 'CVE-2023-0018'}>>, <Record cve1=<Node element_id='4:de342d72-e7ff-4d5b-9a28-99eaa381965b:6' labels=frozenset({'CVE'}) properties={'assigner': 'cna@sap.com', 'id': 'CVE-2023-0018'}> cve2=<Node element_id='4:de342d72-e7ff-4d5b-9a28-99eaa381965b:9' labels=frozenset({'CVE'}) properties={'assigner': 'security@huntr.dev', 'id': 'CVE-2023-0028'}> Entities=<Node element_id='4:de342d72-e7ff-4d5b-9a28-99eaa381965b:6' labels=frozenset({'CVE'}) properties={'assigner': 'cna@sap.com', 'id': 'CVE-2023-0018'}>>, <Record cve1=<Node element_id='4:de342d72-e7ff-4d5b-9a28-99eaa381965b:6' labels=frozenset({'CVE'}) properties={'assigner': 'cna@sap.com', 'id': 'CVE-2023-0018'}> cve2=<Node element_id='4:de342d72-e7ff-4d5b-9a28-99eaa381965b:9' labels=frozenset({'CVE'}) properties={'assigner': 'security@huntr.dev', 'id': 'CVE-2023-0028'}> Entities=<Node element_id='4:de342d72-e7ff-4d5b-9a28-99eaa381965b:9' labels=frozenset({'CVE'}) properties={'assigner': 'security@huntr.dev', 'id': 'CVE-2023-0028'}>>, <Record cve1=<Node element_id='4:de342d72-e7ff-4d5b-9a28-99eaa381965b:6' labels=frozenset({'CVE'}) properties={'assigner': 'cna@sap.com', 'id': 'CVE-2023-0018'}> cve2=<Node element_id='4:de342d72-e7ff-4d5b-9a28-99eaa381965b:9' labels=frozenset({'CVE'}) properties={'assigner': 'security@huntr.dev', 'id': 'CVE-2023-0028'}> Entities=<Node element_id='4:de342d72-e7ff-4d5b-9a28-99eaa381965b:9' labels=frozenset({'CVE'}) properties={'assigner': 'security@huntr.dev', 'id': 'CVE-2023-0028'}>>, <Record cve1=<Node element_id='4:de342d72-e7ff-4d5b-9a28-99eaa381965b:6' labels=frozenset({'CVE'}) properties={'assigner': 'cna@sap.com', 'id': 'CVE-2023-0018'}> cve2=<Node element_id='4:de342d72-e7ff-4d5b-9a28-99eaa381965b:9' labels=frozenset({'CVE'}) properties={'assigner': 'security@huntr.dev', 'id': 'CVE-2023-0028'}> Entities=<Node element_id='4:de342d72-e7ff-4d5b-9a28-99eaa381965b:9' labels=frozenset({'CVE'}) properties={'assigner': 'security@huntr.dev', 'id': 'CVE-2023-0028'}>>, <Record cve1=<Node element_id='4:de342d72-e7ff-4d5b-9a28-99eaa381965b:6' labels=frozenset({'CVE'}) properties={'assigner': 'cna@sap.com', 'id': 'CVE-2023-0018'}> cve2=<Node element_id='4:de342d72-e7ff-4d5b-9a28-99eaa381965b:9' labels=frozenset({'CVE'}) properties={'assigner': 'security@huntr.dev', 'id': 'CVE-2023-0028'}> Entities=<Node element_id='4:de342d72-e7ff-4d5b-9a28-99eaa381965b:3' labels=frozenset({'CVE'}) properties={'assigner': 'cna@sap.com', 'id': 'CVE-2023-0015'}>>, <Record cve1=<Node element_id='4:de342d72-e7ff-4d5b-9a28-99eaa381965b:6' labels=frozenset({'CVE'}) properties={'assigner': 'cna@sap.com', 'id': 'CVE-2023-0018'}> cve2=<Node element_id='4:de342d72-e7ff-4d5b-9a28-99eaa381965b:9' labels=frozenset({'CVE'}) properties={'assigner': 'security@huntr.dev', 'id': 'CVE-2023-0028'}> Entities=<Node element_id='4:de342d72-e7ff-4d5b-9a28-99eaa381965b:3' labels=frozenset({'CVE'}) properties={'assigner': 'cna@sap.com', 'id': 'CVE-2023-0015'}>>, <Record cve1=<Node element_id='4:de342d72-e7ff-4d5b-9a28-99eaa381965b:6' labels=frozenset({'CVE'}) properties={'assigner': 'cna@sap.com', 'id': 'CVE-2023-0018'}> cve2=<Node element_id='4:de342d72-e7ff-4d5b-9a28-99eaa381965b:9' labels=frozenset({'CVE'}) properties={'assigner': 'security@huntr.dev', 'id': 'CVE-2023-0028'}> Entities=<Node element_id='4:de342d72-e7ff-4d5b-9a28-99eaa381965b:3' labels=frozenset({'CVE'}) properties={'assigner': 'cna@sap.com', 'id': 'CVE-2023-0015'}>>, <Record cve1=<Node element_id='4:de342d72-e7ff-4d5b-9a28-99eaa381965b:6' labels=frozenset({'CVE'}) properties={'assigner': 'cna@sap.com', 'id': 'CVE-2023-0018'}> cve2=<Node element_id='4:de342d72-e7ff-4d5b-9a28-99eaa381965b:9' labels=frozenset({'CVE'}) properties={'assigner': 'security@huntr.dev', 'id': 'CVE-2023-0028'}> Entities=<Node element_id='4:de342d72-e7ff-4d5b-9a28-99eaa381965b:1' labels=frozenset({'CVE'}) properties={'assigner': 'cna@sap.com', 'id': 'CVE-2023-0013'}>>, <Record cve1=<Node element_id='4:de342d72-e7ff-4d5b-9a28-99eaa381965b:6' labels=frozenset({'CVE'}) properties={'assigner': 'cna@sap.com', 'id': 'CVE-2023-0018'}> cve2=<Node element_id='4:de342d72-e7ff-4d5b-9a28-99eaa381965b:9' labels=frozenset({'CVE'}) properties={'assigner': 'security@huntr.dev', 'id': 'CVE-2023-0028'}> Entities=<Node element_id='4:de342d72-e7ff-4d5b-9a28-99eaa381965b:1' labels=frozenset({'CVE'}) properties={'assigner': 'cna@sap.com', 'id': 'CVE-2023-0013'}>>, <Record cve1=<Node element_id='4:de342d72-e7ff-4d5b-9a28-99eaa381965b:6' labels=frozenset({'CVE'}) properties={'assigner': 'cna@sap.com', 'id': 'CVE-2023-0018'}> cve2=<Node element_id='4:de342d72-e7ff-4d5b-9a28-99eaa381965b:9' labels=frozenset({'CVE'}) properties={'assigner': 'security@huntr.dev', 'id': 'CVE-2023-0028'}> Entities=<Node element_id='4:de342d72-e7ff-4d5b-9a28-99eaa381965b:1' labels=frozenset({'CVE'}) properties={'assigner': 'cna@sap.com', 'id': 'CVE-2023-0013'}>>, <Record cve1=<Node element_id='4:de342d72-e7ff-4d5b-9a28-99eaa381965b:6' labels=frozenset({'CVE'}) properties={'assigner': 'cna@sap.com', 'id': 'CVE-2023-0018'}> cve2=<Node element_id='4:de342d72-e7ff-4d5b-9a28-99eaa381965b:9' labels=frozenset({'CVE'}) properties={'assigner': 'security@huntr.dev', 'id': 'CVE-2023-0028'}> Entities=<Node element_id='4:de342d72-e7ff-4d5b-9a28-99eaa381965b:6' labels=frozenset({'CVE'}) properties={'assigner': 'cna@sap.com', 'id': 'CVE-2023-0018'}>>, <Record cve1=<Node element_id='4:de342d72-e7ff-4d5b-9a28-99eaa381965b:6' labels=frozenset({'CVE'}) properties={'assigner': 'cna@sap.com', 'id': 'CVE-2023-0018'}> cve2=<Node element_id='4:de342d72-e7ff-4d5b-9a28-99eaa381965b:9' labels=frozenset({'CVE'}) properties={'assigner': 'security@huntr.dev', 'id': 'CVE-2023-0028'}> Entities=<Node element_id='4:de342d72-e7ff-4d5b-9a28-99eaa381965b:6' labels=frozenset({'CVE'}) properties={'assigner': 'cna@sap.com', 'id': 'CVE-2023-0018'}>>, <Record cve1=<Node element_id='4:de342d72-e7ff-4d5b-9a28-99eaa381965b:6' labels=frozenset({'CVE'}) properties={'assigner': 'cna@sap.com', 'id': 'CVE-2023-0018'}> cve2=<Node element_id='4:de342d72-e7ff-4d5b-9a28-99eaa381965b:9' labels=frozenset({'CVE'}) properties={'assigner': 'security@huntr.dev', 'id': 'CVE-2023-0028'}> Entities=<Node element_id='4:de342d72-e7ff-4d5b-9a28-99eaa381965b:9' labels=frozenset({'CVE'}) properties={'assigner': 'security@huntr.dev', 'id': 'CVE-2023-0028'}>>, <Record cve1=<Node element_id='4:de342d72-e7ff-4d5b-9a28-99eaa381965b:6' labels=frozenset({'CVE'}) properties={'assigner': 'cna@sap.com', 'id': 'CVE-2023-0018'}> cve2=<Node element_id='4:de342d72-e7ff-4d5b-9a28-99eaa381965b:9' labels=frozenset({'CVE'}) properties={'assigner': 'security@huntr.dev', 'id': 'CVE-2023-0028'}> Entities=<Node element_id='4:de342d72-e7ff-4d5b-9a28-99eaa381965b:9' labels=frozenset({'CVE'}) properties={'assigner': 'security@huntr.dev', 'id': 'CVE-2023-0028'}>>, <Record cve1=<Node element_id='4:de342d72-e7ff-4d5b-9a28-99eaa381965b:6' labels=frozenset({'CVE'}) properties={'assigner': 'cna@sap.com', 'id': 'CVE-2023-0018'}> cve2=<Node element_id='4:de342d72-e7ff-4d5b-9a28-99eaa381965b:9' labels=frozenset({'CVE'}) properties={'assigner': 'security@huntr.dev', 'id': 'CVE-2023-0028'}> Entities=<Node element_id='4:de342d72-e7ff-4d5b-9a28-99eaa381965b:3' labels=frozenset({'CVE'}) properties={'assigner': 'cna@sap.com', 'id': 'CVE-2023-0015'}>>, <Record cve1=<Node element_id='4:de342d72-e7ff-4d5b-9a28-99eaa381965b:6' labels=frozenset({'CVE'}) properties={'assigner': 'cna@sap.com', 'id': 'CVE-2023-0018'}> cve2=<Node element_id='4:de342d72-e7ff-4d5b-9a28-99eaa381965b:9' labels=frozenset({'CVE'}) properties={'assigner': 'security@huntr.dev', 'id': 'CVE-2023-0028'}> Entities=<Node element_id='4:de342d72-e7ff-4d5b-9a28-99eaa381965b:3' labels=frozenset({'CVE'}) properties={'assigner': 'cna@sap.com', 'id': 'CVE-2023-0015'}>>, <Record cve1=<Node element_id='4:de342d72-e7ff-4d5b-9a28-99eaa381965b:6' labels=frozenset({'CVE'}) properties={'assigner': 'cna@sap.com', 'id': 'CVE-2023-0018'}> cve2=<Node element_id='4:de342d72-e7ff-4d5b-9a28-99eaa381965b:9' labels=frozenset({'CVE'}) properties={'assigner': 'security@huntr.dev', 'id': 'CVE-2023-0028'}> Entities=<Node element_id='4:de342d72-e7ff-4d5b-9a28-99eaa381965b:1' labels=frozenset({'CVE'}) properties={'assigner': 'cna@sap.com', 'id': 'CVE-2023-0013'}>>, <Record cve1=<Node element_id='4:de342d72-e7ff-4d5b-9a28-99eaa381965b:6' labels=frozenset({'CVE'}) properties={'assigner': 'cna@sap.com', 'id': 'CVE-2023-0018'}> cve2=<Node element_id='4:de342d72-e7ff-4d5b-9a28-99eaa381965b:9' labels=frozenset({'CVE'}) properties={'assigner': 'security@huntr.dev', 'id': 'CVE-2023-0028'}> Entities=<Node element_id='4:de342d72-e7ff-4d5b-9a28-99eaa381965b:1' labels=frozenset({'CVE'}) properties={'assigner': 'cna@sap.com', 'id': 'CVE-2023-0013'}>>, <Record cve1=<Node element_id='4:de342d72-e7ff-4d5b-9a28-99eaa381965b:6' labels=frozenset({'CVE'}) properties={'assigner': 'cna@sap.com', 'id': 'CVE-2023-0018'}> cve2=<Node element_id='4:de342d72-e7ff-4d5b-9a28-99eaa381965b:9' labels=frozenset({'CVE'}) properties={'assigner': 'security@huntr.dev', 'id': 'CVE-2023-0028'}> Entities=<Node element_id='4:de342d72-e7ff-4d5b-9a28-99eaa381965b:6' labels=frozenset({'CVE'}) properties={'assigner': 'cna@sap.com', 'id': 'CVE-2023-0018'}>>, <Record cve1=<Node element_id='4:de342d72-e7ff-4d5b-9a28-99eaa381965b:6' labels=frozenset({'CVE'}) properties={'assigner': 'cna@sap.com', 'id': 'CVE-2023-0018'}> cve2=<Node element_id='4:de342d72-e7ff-4d5b-9a28-99eaa381965b:9' labels=frozenset({'CVE'}) properties={'assigner': 'security@huntr.dev', 'id': 'CVE-2023-0028'}> Entities=<Node element_id='4:de342d72-e7ff-4d5b-9a28-99eaa381965b:6' labels=frozenset({'CVE'}) properties={'assigner': 'cna@sap.com', 'id': 'CVE-2023-0018'}>>, <Record cve1=<Node element_id='4:de342d72-e7ff-4d5b-9a28-99eaa381965b:6' labels=frozenset({'CVE'}) properties={'assigner': 'cna@sap.com', 'id': 'CVE-2023-0018'}> cve2=<Node element_id='4:de342d72-e7ff-4d5b-9a28-99eaa381965b:9' labels=frozenset({'CVE'}) properties={'assigner': 'security@huntr.dev', 'id': 'CVE-2023-0028'}> Entities=<Node element_id='4:de342d72-e7ff-4d5b-9a28-99eaa381965b:9' labels=frozenset({'CVE'}) properties={'assigner': 'security@huntr.dev', 'id': 'CVE-2023-0028'}>>, <Record cve1=<Node element_id='4:de342d72-e7ff-4d5b-9a28-99eaa381965b:6' labels=frozenset({'CVE'}) properties={'assigner': 'cna@sap.com', 'id': 'CVE-2023-0018'}> cve2=<Node element_id='4:de342d72-e7ff-4d5b-9a28-99eaa381965b:9' labels=frozenset({'CVE'}) properties={'assigner': 'security@huntr.dev', 'id': 'CVE-2023-0028'}> Entities=<Node element_id='4:de342d72-e7ff-4d5b-9a28-99eaa381965b:9' labels=frozenset({'CVE'}) properties={'assigner': 'security@huntr.dev', 'id': 'CVE-2023-0028'}>>, <Record cve1=<Node element_id='4:de342d72-e7ff-4d5b-9a28-99eaa381965b:6' labels=frozenset({'CVE'}) properties={'assigner': 'cna@sap.com', 'id': 'CVE-2023-0018'}> cve2=<Node element_id='4:de342d72-e7ff-4d5b-9a28-99eaa381965b:9' labels=frozenset({'CVE'}) properties={'assigner': 'security@huntr.dev', 'id': 'CVE-2023-0028'}> Entities=<Node element_id='4:de342d72-e7ff-4d5b-9a28-99eaa381965b:3' labels=frozenset({'CVE'}) properties={'assigner': 'cna@sap.com', 'id': 'CVE-2023-0015'}>>, <Record cve1=<Node element_id='4:de342d72-e7ff-4d5b-9a28-99eaa381965b:6' labels=frozenset({'CVE'}) properties={'assigner': 'cna@sap.com', 'id': 'CVE-2023-0018'}> cve2=<Node element_id='4:de342d72-e7ff-4d5b-9a28-99eaa381965b:9' labels=frozenset({'CVE'}) properties={'assigner': 'security@huntr.dev', 'id': 'CVE-2023-0028'}> Entities=<Node element_id='4:de342d72-e7ff-4d5b-9a28-99eaa381965b:3' labels=frozenset({'CVE'}) properties={'assigner': 'cna@sap.com', 'id': 'CVE-2023-0015'}>>, <Record cve1=<Node element_id='4:de342d72-e7ff-4d5b-9a28-99eaa381965b:6' labels=frozenset({'CVE'}) properties={'assigner': 'cna@sap.com', 'id': 'CVE-2023-0018'}> cve2=<Node element_id='4:de342d72-e7ff-4d5b-9a28-99eaa381965b:9' labels=frozenset({'CVE'}) properties={'assigner': 'security@huntr.dev', 'id': 'CVE-2023-0028'}> Entities=<Node element_id='4:de342d72-e7ff-4d5b-9a28-99eaa381965b:1' labels=frozenset({'CVE'}) properties={'assigner': 'cna@sap.com', 'id': 'CVE-2023-0013'}>>, <Record cve1=<Node element_id='4:de342d72-e7ff-4d5b-9a28-99eaa381965b:6' labels=frozenset({'CVE'}) properties={'assigner': 'cna@sap.com', 'id': 'CVE-2023-0018'}> cve2=<Node element_id='4:de342d72-e7ff-4d5b-9a28-99eaa381965b:9' labels=frozenset({'CVE'}) properties={'assigner': 'security@huntr.dev', 'id': 'CVE-2023-0028'}> Entities=<Node element_id='4:de342d72-e7ff-4d5b-9a28-99eaa381965b:1' labels=frozenset({'CVE'}) properties={'assigner': 'cna@sap.com', 'id': 'CVE-2023-0013'}>>, <Record cve1=<Node element_id='4:de342d72-e7ff-4d5b-9a28-99eaa381965b:6' labels=frozenset({'CVE'}) properties={'assigner': 'cna@sap.com', 'id': 'CVE-2023-0018'}> cve2=<Node element_id='4:de342d72-e7ff-4d5b-9a28-99eaa381965b:9' labels=frozenset({'CVE'}) properties={'assigner': 'security@huntr.dev', 'id': 'CVE-2023-0028'}> Entities=<Node element_id='4:de342d72-e7ff-4d5b-9a28-99eaa381965b:6' labels=frozenset({'CVE'}) properties={'assigner': 'cna@sap.com', 'id': 'CVE-2023-0018'}>>, <Record cve1=<Node element_id='4:de342d72-e7ff-4d5b-9a28-99eaa381965b:6' labels=frozenset({'CVE'}) properties={'assigner': 'cna@sap.com', 'id': 'CVE-2023-0018'}> cve2=<Node element_id='4:de342d72-e7ff-4d5b-9a28-99eaa381965b:9' labels=frozenset({'CVE'}) properties={'assigner': 'security@huntr.dev', 'id': 'CVE-2023-0028'}> Entities=<Node element_id='4:de342d72-e7ff-4d5b-9a28-99eaa381965b:6' labels=frozenset({'CVE'}) properties={'assigner': 'cna@sap.com', 'id': 'CVE-2023-0018'}>>, <Record cve1=<Node element_id='4:de342d72-e7ff-4d5b-9a28-99eaa381965b:6' labels=frozenset({'CVE'}) properties={'assigner': 'cna@sap.com', 'id': 'CVE-2023-0018'}> cve2=<Node element_id='4:de342d72-e7ff-4d5b-9a28-99eaa381965b:9' labels=frozenset({'CVE'}) properties={'assigner': 'security@huntr.dev', 'id': 'CVE-2023-0028'}> Entities=<Node element_id='4:de342d72-e7ff-4d5b-9a28-99eaa381965b:9' labels=frozenset({'CVE'}) properties={'assigner': 'security@huntr.dev', 'id': 'CVE-2023-0028'}>>, <Record cve1=<Node element_id='4:de342d72-e7ff-4d5b-9a28-99eaa381965b:6' labels=frozenset({'CVE'}) properties={'assigner': 'cna@sap.com', 'id': 'CVE-2023-0018'}> cve2=<Node element_id='4:de342d72-e7ff-4d5b-9a28-99eaa381965b:9' labels=frozenset({'CVE'}) properties={'assigner': 'security@huntr.dev', 'id': 'CVE-2023-0028'}> Entities=<Node element_id='4:de342d72-e7ff-4d5b-9a28-99eaa381965b:9' labels=frozenset({'CVE'}) properties={'assigner': 'security@huntr.dev', 'id': 'CVE-2023-0028'}>>, <Record cve1=<Node element_id='4:de342d72-e7ff-4d5b-9a28-99eaa381965b:6' labels=frozenset({'CVE'}) properties={'assigner': 'cna@sap.com', 'id': 'CVE-2023-0018'}> cve2=<Node element_id='4:de342d72-e7ff-4d5b-9a28-99eaa381965b:9' labels=frozenset({'CVE'}) properties={'assigner': 'security@huntr.dev', 'id': 'CVE-2023-0028'}> Entities=<Node element_id='4:de342d72-e7ff-4d5b-9a28-99eaa381965b:3' labels=frozenset({'CVE'}) properties={'assigner': 'cna@sap.com', 'id': 'CVE-2023-0015'}>>, <Record cve1=<Node element_id='4:de342d72-e7ff-4d5b-9a28-99eaa381965b:6' labels=frozenset({'CVE'}) properties={'assigner': 'cna@sap.com', 'id': 'CVE-2023-0018'}> cve2=<Node element_id='4:de342d72-e7ff-4d5b-9a28-99eaa381965b:9' labels=frozenset({'CVE'}) properties={'assigner': 'security@huntr.dev', 'id': 'CVE-2023-0028'}> Entities=<Node element_id='4:de342d72-e7ff-4d5b-9a28-99eaa381965b:3' labels=frozenset({'CVE'}) properties={'assigner': 'cna@sap.com', 'id': 'CVE-2023-0015'}>>, <Record cve1=<Node element_id='4:de342d72-e7ff-4d5b-9a28-99eaa381965b:6' labels=frozenset({'CVE'}) properties={'assigner': 'cna@sap.com', 'id': 'CVE-2023-0018'}> cve2=<Node element_id='4:de342d72-e7ff-4d5b-9a28-99eaa381965b:9' labels=frozenset({'CVE'}) properties={'assigner': 'security@huntr.dev', 'id': 'CVE-2023-0028'}> Entities=<Node element_id='4:de342d72-e7ff-4d5b-9a28-99eaa381965b:1' labels=frozenset({'CVE'}) properties={'assigner': 'cna@sap.com', 'id': 'CVE-2023-0013'}>>, <Record cve1=<Node element_id='4:de342d72-e7ff-4d5b-9a28-99eaa381965b:6' labels=frozenset({'CVE'}) properties={'assigner': 'cna@sap.com', 'id': 'CVE-2023-0018'}> cve2=<Node element_id='4:de342d72-e7ff-4d5b-9a28-99eaa381965b:9' labels=frozenset({'CVE'}) properties={'assigner': 'security@huntr.dev', 'id': 'CVE-2023-0028'}> Entities=<Node element_id='4:de342d72-e7ff-4d5b-9a28-99eaa381965b:1' labels=frozenset({'CVE'}) properties={'assigner': 'cna@sap.com', 'id': 'CVE-2023-0013'}>>, <Record cve1=<Node element_id='4:de342d72-e7ff-4d5b-9a28-99eaa381965b:6' labels=frozenset({'CVE'}) properties={'assigner': 'cna@sap.com', 'id': 'CVE-2023-0018'}> cve2=<Node element_id='4:de342d72-e7ff-4d5b-9a28-99eaa381965b:9' labels=frozenset({'CVE'}) properties={'assigner': 'security@huntr.dev', 'id': 'CVE-2023-0028'}> Entities=<Node element_id='4:de342d72-e7ff-4d5b-9a28-99eaa381965b:6' labels=frozenset({'CVE'}) properties={'assigner': 'cna@sap.com', 'id': 'CVE-2023-0018'}>>, <Record cve1=<Node element_id='4:de342d72-e7ff-4d5b-9a28-99eaa381965b:6' labels=frozenset({'CVE'}) properties={'assigner': 'cna@sap.com', 'id': 'CVE-2023-0018'}> cve2=<Node element_id='4:de342d72-e7ff-4d5b-9a28-99eaa381965b:9' labels=frozenset({'CVE'}) properties={'assigner': 'security@huntr.dev', 'id': 'CVE-2023-0028'}> Entities=<Node element_id='4:de342d72-e7ff-4d5b-9a28-99eaa381965b:6' labels=frozenset({'CVE'}) properties={'assigner': 'cna@sap.com', 'id': 'CVE-2023-0018'}>>, <Record cve1=<Node element_id='4:de342d72-e7ff-4d5b-9a28-99eaa381965b:6' labels=frozenset({'CVE'}) properties={'assigner': 'cna@sap.com', 'id': 'CVE-2023-0018'}> cve2=<Node element_id='4:de342d72-e7ff-4d5b-9a28-99eaa381965b:9' labels=frozenset({'CVE'}) properties={'assigner': 'security@huntr.dev', 'id': 'CVE-2023-0028'}> Entities=<Node element_id='4:de342d72-e7ff-4d5b-9a28-99eaa381965b:9' labels=frozenset({'CVE'}) properties={'assigner': 'security@huntr.dev', 'id': 'CVE-2023-0028'}>>, <Record cve1=<Node element_id='4:de342d72-e7ff-4d5b-9a28-99eaa381965b:6' labels=frozenset({'CVE'}) properties={'assigner': 'cna@sap.com', 'id': 'CVE-2023-0018'}> cve2=<Node element_id='4:de342d72-e7ff-4d5b-9a28-99eaa381965b:9' labels=frozenset({'CVE'}) properties={'assigner': 'security@huntr.dev', 'id': 'CVE-2023-0028'}> Entities=<Node element_id='4:de342d72-e7ff-4d5b-9a28-99eaa381965b:9' labels=frozenset({'CVE'}) properties={'assigner': 'security@huntr.dev', 'id': 'CVE-2023-0028'}>>, <Record cve1=<Node element_id='4:de342d72-e7ff-4d5b-9a28-99eaa381965b:6' labels=frozenset({'CVE'}) properties={'assigner': 'cna@sap.com', 'id': 'CVE-2023-0018'}> cve2=<Node element_id='4:de342d72-e7ff-4d5b-9a28-99eaa381965b:9' labels=frozenset({'CVE'}) properties={'assigner': 'security@huntr.dev', 'id': 'CVE-2023-0028'}> Entities=<Node element_id='4:de342d72-e7ff-4d5b-9a28-99eaa381965b:3' labels=frozenset({'CVE'}) properties={'assigner': 'cna@sap.com', 'id': 'CVE-2023-0015'}>>, <Record cve1=<Node element_id='4:de342d72-e7ff-4d5b-9a28-99eaa381965b:6' labels=frozenset({'CVE'}) properties={'assigner': 'cna@sap.com', 'id': 'CVE-2023-0018'}> cve2=<Node element_id='4:de342d72-e7ff-4d5b-9a28-99eaa381965b:9' labels=frozenset({'CVE'}) properties={'assigner': 'security@huntr.dev', 'id': 'CVE-2023-0028'}> Entities=<Node element_id='4:de342d72-e7ff-4d5b-9a28-99eaa381965b:3' labels=frozenset({'CVE'}) properties={'assigner': 'cna@sap.com', 'id': 'CVE-2023-0015'}>>, <Record cve1=<Node element_id='4:de342d72-e7ff-4d5b-9a28-99eaa381965b:6' labels=frozenset({'CVE'}) properties={'assigner': 'cna@sap.com', 'id': 'CVE-2023-0018'}> cve2=<Node element_id='4:de342d72-e7ff-4d5b-9a28-99eaa381965b:9' labels=frozenset({'CVE'}) properties={'assigner': 'security@huntr.dev', 'id': 'CVE-2023-0028'}> Entities=<Node element_id='4:de342d72-e7ff-4d5b-9a28-99eaa381965b:1' labels=frozenset({'CVE'}) properties={'assigner': 'cna@sap.com', 'id': 'CVE-2023-0013'}>>, <Record cve1=<Node element_id='4:de342d72-e7ff-4d5b-9a28-99eaa381965b:6' labels=frozenset({'CVE'}) properties={'assigner': 'cna@sap.com', 'id': 'CVE-2023-0018'}> cve2=<Node element_id='4:de342d72-e7ff-4d5b-9a28-99eaa381965b:9' labels=frozenset({'CVE'}) properties={'assigner': 'security@huntr.dev', 'id': 'CVE-2023-0028'}> Entities=<Node element_id='4:de342d72-e7ff-4d5b-9a28-99eaa381965b:1' labels=frozenset({'CVE'}) properties={'assigner': 'cna@sap.com', 'id': 'CVE-2023-0013'}>>, <Record cve1=<Node element_id='4:de342d72-e7ff-4d5b-9a28-99eaa381965b:6' labels=frozenset({'CVE'}) properties={'assigner': 'cna@sap.com', 'id': 'CVE-2023-0018'}> cve2=<Node element_id='4:de342d72-e7ff-4d5b-9a28-99eaa381965b:9' labels=frozenset({'CVE'}) properties={'assigner': 'security@huntr.dev', 'id': 'CVE-2023-0028'}> Entities=<Node element_id='4:de342d72-e7ff-4d5b-9a28-99eaa381965b:6' labels=frozenset({'CVE'}) properties={'assigner': 'cna@sap.com', 'id': 'CVE-2023-0018'}>>, <Record cve1=<Node element_id='4:de342d72-e7ff-4d5b-9a28-99eaa381965b:6' labels=frozenset({'CVE'}) properties={'assigner': 'cna@sap.com', 'id': 'CVE-2023-0018'}> cve2=<Node element_id='4:de342d72-e7ff-4d5b-9a28-99eaa381965b:9' labels=frozenset({'CVE'}) properties={'assigner': 'security@huntr.dev', 'id': 'CVE-2023-0028'}> Entities=<Node element_id='4:de342d72-e7ff-4d5b-9a28-99eaa381965b:6' labels=frozenset({'CVE'}) properties={'assigner': 'cna@sap.com', 'id': 'CVE-2023-0018'}>>, <Record cve1=<Node element_id='4:de342d72-e7ff-4d5b-9a28-99eaa381965b:6' labels=frozenset({'CVE'}) properties={'assigner': 'cna@sap.com', 'id': 'CVE-2023-0018'}> cve2=<Node element_id='4:de342d72-e7ff-4d5b-9a28-99eaa381965b:9' labels=frozenset({'CVE'}) properties={'assigner': 'security@huntr.dev', 'id': 'CVE-2023-0028'}> Entities=<Node element_id='4:de342d72-e7ff-4d5b-9a28-99eaa381965b:9' labels=frozenset({'CVE'}) properties={'assigner': 'security@huntr.dev', 'id': 'CVE-2023-0028'}>>, <Record cve1=<Node element_id='4:de342d72-e7ff-4d5b-9a28-99eaa381965b:6' labels=frozenset({'CVE'}) properties={'assigner': 'cna@sap.com', 'id': 'CVE-2023-0018'}> cve2=<Node element_id='4:de342d72-e7ff-4d5b-9a28-99eaa381965b:9' labels=frozenset({'CVE'}) properties={'assigner': 'security@huntr.dev', 'id': 'CVE-2023-0028'}> Entities=<Node element_id='4:de342d72-e7ff-4d5b-9a28-99eaa381965b:9' labels=frozenset({'CVE'}) properties={'assigner': 'security@huntr.dev', 'id': 'CVE-2023-0028'}>>, <Record cve1=<Node element_id='4:de342d72-e7ff-4d5b-9a28-99eaa381965b:6' labels=frozenset({'CVE'}) properties={'assigner': 'cna@sap.com', 'id': 'CVE-2023-0018'}> cve2=<Node element_id='4:de342d72-e7ff-4d5b-9a28-99eaa381965b:9' labels=frozenset({'CVE'}) properties={'assigner': 'security@huntr.dev', 'id': 'CVE-2023-0028'}> Entities=<Node element_id='4:de342d72-e7ff-4d5b-9a28-99eaa381965b:3' labels=frozenset({'CVE'}) properties={'assigner': 'cna@sap.com', 'id': 'CVE-2023-0015'}>>, <Record cve1=<Node element_id='4:de342d72-e7ff-4d5b-9a28-99eaa381965b:6' labels=frozenset({'CVE'}) properties={'assigner': 'cna@sap.com', 'id': 'CVE-2023-0018'}> cve2=<Node element_id='4:de342d72-e7ff-4d5b-9a28-99eaa381965b:9' labels=frozenset({'CVE'}) properties={'assigner': 'security@huntr.dev', 'id': 'CVE-2023-0028'}> Entities=<Node element_id='4:de342d72-e7ff-4d5b-9a28-99eaa381965b:3' labels=frozenset({'CVE'}) properties={'assigner': 'cna@sap.com', 'id': 'CVE-2023-0015'}>>, <Record cve1=<Node element_id='4:de342d72-e7ff-4d5b-9a28-99eaa381965b:6' labels=frozenset({'CVE'}) properties={'assigner': 'cna@sap.com', 'id': 'CVE-2023-0018'}> cve2=<Node element_id='4:de342d72-e7ff-4d5b-9a28-99eaa381965b:9' labels=frozenset({'CVE'}) properties={'assigner': 'security@huntr.dev', 'id': 'CVE-2023-0028'}> Entities=<Node element_id='4:de342d72-e7ff-4d5b-9a28-99eaa381965b:1' labels=frozenset({'CVE'}) properties={'assigner': 'cna@sap.com', 'id': 'CVE-2023-0013'}>>, <Record cve1=<Node element_id='4:de342d72-e7ff-4d5b-9a28-99eaa381965b:6' labels=frozenset({'CVE'}) properties={'assigner': 'cna@sap.com', 'id': 'CVE-2023-0018'}> cve2=<Node element_id='4:de342d72-e7ff-4d5b-9a28-99eaa381965b:9' labels=frozenset({'CVE'}) properties={'assigner': 'security@huntr.dev', 'id': 'CVE-2023-0028'}> Entities=<Node element_id='4:de342d72-e7ff-4d5b-9a28-99eaa381965b:1' labels=frozenset({'CVE'}) properties={'assigner': 'cna@sap.com', 'id': 'CVE-2023-0013'}>>, <Record cve1=<Node element_id='4:de342d72-e7ff-4d5b-9a28-99eaa381965b:6' labels=frozenset({'CVE'}) properties={'assigner': 'cna@sap.com', 'id': 'CVE-2023-0018'}> cve2=<Node element_id='4:de342d72-e7ff-4d5b-9a28-99eaa381965b:9' labels=frozenset({'CVE'}) properties={'assigner': 'security@huntr.dev', 'id': 'CVE-2023-0028'}> Entities=<Node element_id='4:de342d72-e7ff-4d5b-9a28-99eaa381965b:6' labels=frozenset({'CVE'}) properties={'assigner': 'cna@sap.com', 'id': 'CVE-2023-0018'}>>, <Record cve1=<Node element_id='4:de342d72-e7ff-4d5b-9a28-99eaa381965b:6' labels=frozenset({'CVE'}) properties={'assigner': 'cna@sap.com', 'id': 'CVE-2023-0018'}> cve2=<Node element_id='4:de342d72-e7ff-4d5b-9a28-99eaa381965b:9' labels=frozenset({'CVE'}) properties={'assigner': 'security@huntr.dev', 'id': 'CVE-2023-0028'}> Entities=<Node element_id='4:de342d72-e7ff-4d5b-9a28-99eaa381965b:6' labels=frozenset({'CVE'}) properties={'assigner': 'cna@sap.com', 'id': 'CVE-2023-0018'}>>, <Record cve1=<Node element_id='4:de342d72-e7ff-4d5b-9a28-99eaa381965b:6' labels=frozenset({'CVE'}) properties={'assigner': 'cna@sap.com', 'id': 'CVE-2023-0018'}> cve2=<Node element_id='4:de342d72-e7ff-4d5b-9a28-99eaa381965b:9' labels=frozenset({'CVE'}) properties={'assigner': 'security@huntr.dev', 'id': 'CVE-2023-0028'}> Entities=<Node element_id='4:de342d72-e7ff-4d5b-9a28-99eaa381965b:9' labels=frozenset({'CVE'}) properties={'assigner': 'security@huntr.dev', 'id': 'CVE-2023-0028'}>>, <Record cve1=<Node element_id='4:de342d72-e7ff-4d5b-9a28-99eaa381965b:6' labels=frozenset({'CVE'}) properties={'assigner': 'cna@sap.com', 'id': 'CVE-2023-0018'}> cve2=<Node element_id='4:de342d72-e7ff-4d5b-9a28-99eaa381965b:9' labels=frozenset({'CVE'}) properties={'assigner': 'security@huntr.dev', 'id': 'CVE-2023-0028'}> Entities=<Node element_id='4:de342d72-e7ff-4d5b-9a28-99eaa381965b:9' labels=frozenset({'CVE'}) properties={'assigner': 'security@huntr.dev', 'id': 'CVE-2023-0028'}>>, <Record cve1=<Node element_id='4:de342d72-e7ff-4d5b-9a28-99eaa381965b:6' labels=frozenset({'CVE'}) properties={'assigner': 'cna@sap.com', 'id': 'CVE-2023-0018'}> cve2=<Node element_id='4:de342d72-e7ff-4d5b-9a28-99eaa381965b:9' labels=frozenset({'CVE'}) properties={'assigner': 'security@huntr.dev', 'id': 'CVE-2023-0028'}> Entities=<Node element_id='4:de342d72-e7ff-4d5b-9a28-99eaa381965b:3' labels=frozenset({'CVE'}) properties={'assigner': 'cna@sap.com', 'id': 'CVE-2023-0015'}>>, <Record cve1=<Node element_id='4:de342d72-e7ff-4d5b-9a28-99eaa381965b:6' labels=frozenset({'CVE'}) properties={'assigner': 'cna@sap.com', 'id': 'CVE-2023-0018'}> cve2=<Node element_id='4:de342d72-e7ff-4d5b-9a28-99eaa381965b:9' labels=frozenset({'CVE'}) properties={'assigner': 'security@huntr.dev', 'id': 'CVE-2023-0028'}> Entities=<Node element_id='4:de342d72-e7ff-4d5b-9a28-99eaa381965b:3' labels=frozenset({'CVE'}) properties={'assigner': 'cna@sap.com', 'id': 'CVE-2023-0015'}>>, <Record cve1=<Node element_id='4:de342d72-e7ff-4d5b-9a28-99eaa381965b:6' labels=frozenset({'CVE'}) properties={'assigner': 'cna@sap.com', 'id': 'CVE-2023-0018'}> cve2=<Node element_id='4:de342d72-e7ff-4d5b-9a28-99eaa381965b:9' labels=frozenset({'CVE'}) properties={'assigner': 'security@huntr.dev', 'id': 'CVE-2023-0028'}> Entities=<Node element_id='4:de342d72-e7ff-4d5b-9a28-99eaa381965b:1' labels=frozenset({'CVE'}) properties={'assigner': 'cna@sap.com', 'id': 'CVE-2023-0013'}>>, <Record cve1=<Node element_id='4:de342d72-e7ff-4d5b-9a28-99eaa381965b:6' labels=frozenset({'CVE'}) properties={'assigner': 'cna@sap.com', 'id': 'CVE-2023-0018'}> cve2=<Node element_id='4:de342d72-e7ff-4d5b-9a28-99eaa381965b:9' labels=frozenset({'CVE'}) properties={'assigner': 'security@huntr.dev', 'id': 'CVE-2023-0028'}> Entities=<Node element_id='4:de342d72-e7ff-4d5b-9a28-99eaa381965b:1' labels=frozenset({'CVE'}) properties={'assigner': 'cna@sap.com', 'id': 'CVE-2023-0013'}>>, <Record cve1=<Node element_id='4:de342d72-e7ff-4d5b-9a28-99eaa381965b:6' labels=frozenset({'CVE'}) properties={'assigner': 'cna@sap.com', 'id': 'CVE-2023-0018'}> cve2=<Node element_id='4:de342d72-e7ff-4d5b-9a28-99eaa381965b:9' labels=frozenset({'CVE'}) properties={'assigner': 'security@huntr.dev', 'id': 'CVE-2023-0028'}> Entities=<Node element_id='4:de342d72-e7ff-4d5b-9a28-99eaa381965b:4' labels=frozenset({'CVE'}) properties={'assigner': 'cna@sap.com', 'id': 'CVE-2023-0016'}>>, <Record cve1=<Node element_id='4:de342d72-e7ff-4d5b-9a28-99eaa381965b:6' labels=frozenset({'CVE'}) properties={'assigner': 'cna@sap.com', 'id': 'CVE-2023-0018'}> cve2=<Node element_id='4:de342d72-e7ff-4d5b-9a28-99eaa381965b:9' labels=frozenset({'CVE'}) properties={'assigner': 'security@huntr.dev', 'id': 'CVE-2023-0028'}> Entities=<Node element_id='4:de342d72-e7ff-4d5b-9a28-99eaa381965b:167' labels=frozenset({'Entities'}) properties={'wikipediaExternalRef': 241154, 'wikidataId': 'Q371199', 'confidence_score': 0.719, 'offsetStart': 0, 'offsetEnd': 20, 'rawName': 'Cross-site scripting'}>>, <Record cve1=<Node element_id='4:de342d72-e7ff-4d5b-9a28-99eaa381965b:6' labels=frozenset({'CVE'}) properties={'assigner': 'cna@sap.com', 'id': 'CVE-2023-0018'}> cve2=<Node element_id='4:de342d72-e7ff-4d5b-9a28-99eaa381965b:9' labels=frozenset({'CVE'}) properties={'assigner': 'security@huntr.dev', 'id': 'CVE-2023-0028'}> Entities=<Node element_id='4:de342d72-e7ff-4d5b-9a28-99eaa381965b:167' labels=frozenset({'Entities'}) properties={'wikipediaExternalRef': 241154, 'wikidataId': 'Q371199', 'confidence_score': 0.719, 'offsetStart': 0, 'offsetEnd': 20, 'rawName': 'Cross-site scripting'}>>, <Record cve1=<Node element_id='4:de342d72-e7ff-4d5b-9a28-99eaa381965b:6' labels=frozenset({'CVE'}) properties={'assigner': 'cna@sap.com', 'id': 'CVE-2023-0018'}> cve2=<Node element_id='4:de342d72-e7ff-4d5b-9a28-99eaa381965b:9' labels=frozenset({'CVE'}) properties={'assigner': 'security@huntr.dev', 'id': 'CVE-2023-0028'}> Entities=<Node element_id='4:de342d72-e7ff-4d5b-9a28-99eaa381965b:167' labels=frozenset({'Entities'}) properties={'wikipediaExternalRef': 241154, 'wikidataId': 'Q371199', 'confidence_score': 0.719, 'offsetStart': 0, 'offsetEnd': 20, 'rawName': 'Cross-site scripting'}>>, <Record cve1=<Node element_id='4:de342d72-e7ff-4d5b-9a28-99eaa381965b:6' labels=frozenset({'CVE'}) properties={'assigner': 'cna@sap.com', 'id': 'CVE-2023-0018'}> cve2=<Node element_id='4:de342d72-e7ff-4d5b-9a28-99eaa381965b:9' labels=frozenset({'CVE'}) properties={'assigner': 'security@huntr.dev', 'id': 'CVE-2023-0028'}> Entities=<Node element_id='4:de342d72-e7ff-4d5b-9a28-99eaa381965b:167' labels=frozenset({'Entities'}) properties={'wikipediaExternalRef': 241154, 'wikidataId': 'Q371199', 'confidence_score': 0.719, 'offsetStart': 0, 'offsetEnd': 20, 'rawName': 'Cross-site scripting'}>>, <Record cve1=<Node element_id='4:de342d72-e7ff-4d5b-9a28-99eaa381965b:6' labels=frozenset({'CVE'}) properties={'assigner': 'cna@sap.com', 'id': 'CVE-2023-0018'}> cve2=<Node element_id='4:de342d72-e7ff-4d5b-9a28-99eaa381965b:9' labels=frozenset({'CVE'}) properties={'assigner': 'security@huntr.dev', 'id': 'CVE-2023-0028'}> Entities=<Node element_id='4:de342d72-e7ff-4d5b-9a28-99eaa381965b:262' labels=frozenset({'Entities'}) properties={'wikipediaExternalRef': 526999, 'wikidataId': 'Q506059', 'confidence_score': 0.9162, 'offsetStart': 1041, 'offsetEnd': 1054, 'rawName': 'SQL injection'}>>, <Record cve1=<Node element_id='4:de342d72-e7ff-4d5b-9a28-99eaa381965b:0' labels=frozenset({'CVE'}) properties={'assigner': 'cna@sap.com', 'id': 'CVE-2023-0012'}> cve2=<Node element_id='4:de342d72-e7ff-4d5b-9a28-99eaa381965b:5' labels=frozenset({'CVE'}) properties={'assigner': 'cna@sap.com', 'id': 'CVE-2023-0017'}> Entities=<Node element_id='4:de342d72-e7ff-4d5b-9a28-99eaa381965b:6' labels=frozenset({'CVE'}) properties={'assigner': 'cna@sap.com', 'id': 'CVE-2023-0018'}>>, <Record cve1=<Node element_id='4:de342d72-e7ff-4d5b-9a28-99eaa381965b:0' labels=frozenset({'CVE'}) properties={'assigner': 'cna@sap.com', 'id': 'CVE-2023-0012'}> cve2=<Node element_id='4:de342d72-e7ff-4d5b-9a28-99eaa381965b:5' labels=frozenset({'CVE'}) properties={'assigner': 'cna@sap.com', 'id': 'CVE-2023-0017'}> Entities=<Node element_id='4:de342d72-e7ff-4d5b-9a28-99eaa381965b:9' labels=frozenset({'CVE'}) properties={'assigner': 'security@huntr.dev', 'id': 'CVE-2023-0028'}>>, <Record cve1=<Node element_id='4:de342d72-e7ff-4d5b-9a28-99eaa381965b:0' labels=frozenset({'CVE'}) properties={'assigner': 'cna@sap.com', 'id': 'CVE-2023-0012'}> cve2=<Node element_id='4:de342d72-e7ff-4d5b-9a28-99eaa381965b:5' labels=frozenset({'CVE'}) properties={'assigner': 'cna@sap.com', 'id': 'CVE-2023-0017'}> Entities=<Node element_id='4:de342d72-e7ff-4d5b-9a28-99eaa381965b:3' labels=frozenset({'CVE'}) properties={'assigner': 'cna@sap.com', 'id': 'CVE-2023-0015'}>>, <Record cve1=<Node element_id='4:de342d72-e7ff-4d5b-9a28-99eaa381965b:0' labels=frozenset({'CVE'}) properties={'assigner': 'cna@sap.com', 'id': 'CVE-2023-0012'}> cve2=<Node element_id='4:de342d72-e7ff-4d5b-9a28-99eaa381965b:5' labels=frozenset({'CVE'}) properties={'assigner': 'cna@sap.com', 'id': 'CVE-2023-0017'}> Entities=<Node element_id='4:de342d72-e7ff-4d5b-9a28-99eaa381965b:1' labels=frozenset({'CVE'}) properties={'assigner': 'cna@sap.com', 'id': 'CVE-2023-0013'}>>, <Record cve1=<Node element_id='4:de342d72-e7ff-4d5b-9a28-99eaa381965b:0' labels=frozenset({'CVE'}) properties={'assigner': 'cna@sap.com', 'id': 'CVE-2023-0012'}> cve2=<Node element_id='4:de342d72-e7ff-4d5b-9a28-99eaa381965b:5' labels=frozenset({'CVE'}) properties={'assigner': 'cna@sap.com', 'id': 'CVE-2023-0017'}> Entities=<Node element_id='4:de342d72-e7ff-4d5b-9a28-99eaa381965b:7' labels=frozenset({'CVE'}) properties={'assigner': 'cna@sap.com', 'id': 'CVE-2023-0022'}>>, <Record cve1=<Node element_id='4:de342d72-e7ff-4d5b-9a28-99eaa381965b:0' labels=frozenset({'CVE'}) properties={'assigner': 'cna@sap.com', 'id': 'CVE-2023-0012'}> cve2=<Node element_id='4:de342d72-e7ff-4d5b-9a28-99eaa381965b:5' labels=frozenset({'CVE'}) properties={'assigner': 'cna@sap.com', 'id': 'CVE-2023-0017'}> Entities=<Node element_id='4:de342d72-e7ff-4d5b-9a28-99eaa381965b:7' labels=frozenset({'CVE'}) properties={'assigner': 'cna@sap.com', 'id': 'CVE-2023-0022'}>>, <Record cve1=<Node element_id='4:de342d72-e7ff-4d5b-9a28-99eaa381965b:0' labels=frozenset({'CVE'}) properties={'assigner': 'cna@sap.com', 'id': 'CVE-2023-0012'}> cve2=<Node element_id='4:de342d72-e7ff-4d5b-9a28-99eaa381965b:5' labels=frozenset({'CVE'}) properties={'assigner': 'cna@sap.com', 'id': 'CVE-2023-0017'}> Entities=<Node element_id='4:de342d72-e7ff-4d5b-9a28-99eaa381965b:2' labels=frozenset({'CVE'}) properties={'assigner': 'cna@sap.com', 'id': 'CVE-2023-0014'}>>, <Record cve1=<Node element_id='4:de342d72-e7ff-4d5b-9a28-99eaa381965b:0' labels=frozenset({'CVE'}) properties={'assigner': 'cna@sap.com', 'id': 'CVE-2023-0012'}> cve2=<Node element_id='4:de342d72-e7ff-4d5b-9a28-99eaa381965b:5' labels=frozenset({'CVE'}) properties={'assigner': 'cna@sap.com', 'id': 'CVE-2023-0017'}> Entities=<Node element_id='4:de342d72-e7ff-4d5b-9a28-99eaa381965b:6' labels=frozenset({'CVE'}) properties={'assigner': 'cna@sap.com', 'id': 'CVE-2023-0018'}>>, <Record cve1=<Node element_id='4:de342d72-e7ff-4d5b-9a28-99eaa381965b:0' labels=frozenset({'CVE'}) properties={'assigner': 'cna@sap.com', 'id': 'CVE-2023-0012'}> cve2=<Node element_id='4:de342d72-e7ff-4d5b-9a28-99eaa381965b:5' labels=frozenset({'CVE'}) properties={'assigner': 'cna@sap.com', 'id': 'CVE-2023-0017'}> Entities=<Node element_id='4:de342d72-e7ff-4d5b-9a28-99eaa381965b:9' labels=frozenset({'CVE'}) properties={'assigner': 'security@huntr.dev', 'id': 'CVE-2023-0028'}>>, <Record cve1=<Node element_id='4:de342d72-e7ff-4d5b-9a28-99eaa381965b:0' labels=frozenset({'CVE'}) properties={'assigner': 'cna@sap.com', 'id': 'CVE-2023-0012'}> cve2=<Node element_id='4:de342d72-e7ff-4d5b-9a28-99eaa381965b:5' labels=frozenset({'CVE'}) properties={'assigner': 'cna@sap.com', 'id': 'CVE-2023-0017'}> Entities=<Node element_id='4:de342d72-e7ff-4d5b-9a28-99eaa381965b:3' labels=frozenset({'CVE'}) properties={'assigner': 'cna@sap.com', 'id': 'CVE-2023-0015'}>>, <Record cve1=<Node element_id='4:de342d72-e7ff-4d5b-9a28-99eaa381965b:0' labels=frozenset({'CVE'}) properties={'assigner': 'cna@sap.com', 'id': 'CVE-2023-0012'}> cve2=<Node element_id='4:de342d72-e7ff-4d5b-9a28-99eaa381965b:5' labels=frozenset({'CVE'}) properties={'assigner': 'cna@sap.com', 'id': 'CVE-2023-0017'}> Entities=<Node element_id='4:de342d72-e7ff-4d5b-9a28-99eaa381965b:1' labels=frozenset({'CVE'}) properties={'assigner': 'cna@sap.com', 'id': 'CVE-2023-0013'}>>, <Record cve1=<Node element_id='4:de342d72-e7ff-4d5b-9a28-99eaa381965b:0' labels=frozenset({'CVE'}) properties={'assigner': 'cna@sap.com', 'id': 'CVE-2023-0012'}> cve2=<Node element_id='4:de342d72-e7ff-4d5b-9a28-99eaa381965b:5' labels=frozenset({'CVE'}) properties={'assigner': 'cna@sap.com', 'id': 'CVE-2023-0017'}> Entities=<Node element_id='4:de342d72-e7ff-4d5b-9a28-99eaa381965b:8' labels=frozenset({'CVE'}) properties={'assigner': 'cna@sap.com', 'id': 'CVE-2023-0023'}>>, <Record cve1=<Node element_id='4:de342d72-e7ff-4d5b-9a28-99eaa381965b:0' labels=frozenset({'CVE'}) properties={'assigner': 'cna@sap.com', 'id': 'CVE-2023-0012'}> cve2=<Node element_id='4:de342d72-e7ff-4d5b-9a28-99eaa381965b:5' labels=frozenset({'CVE'}) properties={'assigner': 'cna@sap.com', 'id': 'CVE-2023-0017'}> Entities=<Node element_id='4:de342d72-e7ff-4d5b-9a28-99eaa381965b:0' labels=frozenset({'CVE'}) properties={'assigner': 'cna@sap.com', 'id': 'CVE-2023-0012'}>>, <Record cve1=<Node element_id='4:de342d72-e7ff-4d5b-9a28-99eaa381965b:0' labels=frozenset({'CVE'}) properties={'assigner': 'cna@sap.com', 'id': 'CVE-2023-0012'}> cve2=<Node element_id='4:de342d72-e7ff-4d5b-9a28-99eaa381965b:5' labels=frozenset({'CVE'}) properties={'assigner': 'cna@sap.com', 'id': 'CVE-2023-0017'}> Entities=<Node element_id='4:de342d72-e7ff-4d5b-9a28-99eaa381965b:5' labels=frozenset({'CVE'}) properties={'assigner': 'cna@sap.com', 'id': 'CVE-2023-0017'}>>, <Record cve1=<Node element_id='4:de342d72-e7ff-4d5b-9a28-99eaa381965b:0' labels=frozenset({'CVE'}) properties={'assigner': 'cna@sap.com', 'id': 'CVE-2023-0012'}> cve2=<Node element_id='4:de342d72-e7ff-4d5b-9a28-99eaa381965b:5' labels=frozenset({'CVE'}) properties={'assigner': 'cna@sap.com', 'id': 'CVE-2023-0017'}> Entities=<Node element_id='4:de342d72-e7ff-4d5b-9a28-99eaa381965b:0' labels=frozenset({'CVE'}) properties={'assigner': 'cna@sap.com', 'id': 'CVE-2023-0012'}>>, <Record cve1=<Node element_id='4:de342d72-e7ff-4d5b-9a28-99eaa381965b:0' labels=frozenset({'CVE'}) properties={'assigner': 'cna@sap.com', 'id': 'CVE-2023-0012'}> cve2=<Node element_id='4:de342d72-e7ff-4d5b-9a28-99eaa381965b:5' labels=frozenset({'CVE'}) properties={'assigner': 'cna@sap.com', 'id': 'CVE-2023-0017'}> Entities=<Node element_id='4:de342d72-e7ff-4d5b-9a28-99eaa381965b:0' labels=frozenset({'CVE'}) properties={'assigner': 'cna@sap.com', 'id': 'CVE-2023-0012'}>>, <Record cve1=<Node element_id='4:de342d72-e7ff-4d5b-9a28-99eaa381965b:0' labels=frozenset({'CVE'}) properties={'assigner': 'cna@sap.com', 'id': 'CVE-2023-0012'}> cve2=<Node element_id='4:de342d72-e7ff-4d5b-9a28-99eaa381965b:5' labels=frozenset({'CVE'}) properties={'assigner': 'cna@sap.com', 'id': 'CVE-2023-0017'}> Entities=<Node element_id='4:de342d72-e7ff-4d5b-9a28-99eaa381965b:5' labels=frozenset({'CVE'}) properties={'assigner': 'cna@sap.com', 'id': 'CVE-2023-0017'}>>, <Record cve1=<Node element_id='4:de342d72-e7ff-4d5b-9a28-99eaa381965b:0' labels=frozenset({'CVE'}) properties={'assigner': 'cna@sap.com', 'id': 'CVE-2023-0012'}> cve2=<Node element_id='4:de342d72-e7ff-4d5b-9a28-99eaa381965b:5' labels=frozenset({'CVE'}) properties={'assigner': 'cna@sap.com', 'id': 'CVE-2023-0017'}> Entities=<Node element_id='4:de342d72-e7ff-4d5b-9a28-99eaa381965b:5' labels=frozenset({'CVE'}) properties={'assigner': 'cna@sap.com', 'id': 'CVE-2023-0017'}>>, <Record cve1=<Node element_id='4:de342d72-e7ff-4d5b-9a28-99eaa381965b:0' labels=frozenset({'CVE'}) properties={'assigner': 'cna@sap.com', 'id': 'CVE-2023-0012'}> cve2=<Node element_id='4:de342d72-e7ff-4d5b-9a28-99eaa381965b:5' labels=frozenset({'CVE'}) properties={'assigner': 'cna@sap.com', 'id': 'CVE-2023-0017'}> Entities=<Node element_id='4:de342d72-e7ff-4d5b-9a28-99eaa381965b:6' labels=frozenset({'CVE'}) properties={'assigner': 'cna@sap.com', 'id': 'CVE-2023-0018'}>>, <Record cve1=<Node element_id='4:de342d72-e7ff-4d5b-9a28-99eaa381965b:0' labels=frozenset({'CVE'}) properties={'assigner': 'cna@sap.com', 'id': 'CVE-2023-0012'}> cve2=<Node element_id='4:de342d72-e7ff-4d5b-9a28-99eaa381965b:5' labels=frozenset({'CVE'}) properties={'assigner': 'cna@sap.com', 'id': 'CVE-2023-0017'}> Entities=<Node element_id='4:de342d72-e7ff-4d5b-9a28-99eaa381965b:6' labels=frozenset({'CVE'}) properties={'assigner': 'cna@sap.com', 'id': 'CVE-2023-0018'}>>, <Record cve1=<Node element_id='4:de342d72-e7ff-4d5b-9a28-99eaa381965b:0' labels=frozenset({'CVE'}) properties={'assigner': 'cna@sap.com', 'id': 'CVE-2023-0012'}> cve2=<Node element_id='4:de342d72-e7ff-4d5b-9a28-99eaa381965b:5' labels=frozenset({'CVE'}) properties={'assigner': 'cna@sap.com', 'id': 'CVE-2023-0017'}> Entities=<Node element_id='4:de342d72-e7ff-4d5b-9a28-99eaa381965b:6' labels=frozenset({'CVE'}) properties={'assigner': 'cna@sap.com', 'id': 'CVE-2023-0018'}>>, <Record cve1=<Node element_id='4:de342d72-e7ff-4d5b-9a28-99eaa381965b:0' labels=frozenset({'CVE'}) properties={'assigner': 'cna@sap.com', 'id': 'CVE-2023-0012'}> cve2=<Node element_id='4:de342d72-e7ff-4d5b-9a28-99eaa381965b:5' labels=frozenset({'CVE'}) properties={'assigner': 'cna@sap.com', 'id': 'CVE-2023-0017'}> Entities=<Node element_id='4:de342d72-e7ff-4d5b-9a28-99eaa381965b:6' labels=frozenset({'CVE'}) properties={'assigner': 'cna@sap.com', 'id': 'CVE-2023-0018'}>>, <Record cve1=<Node element_id='4:de342d72-e7ff-4d5b-9a28-99eaa381965b:0' labels=frozenset({'CVE'}) properties={'assigner': 'cna@sap.com', 'id': 'CVE-2023-0012'}> cve2=<Node element_id='4:de342d72-e7ff-4d5b-9a28-99eaa381965b:5' labels=frozenset({'CVE'}) properties={'assigner': 'cna@sap.com', 'id': 'CVE-2023-0017'}> Entities=<Node element_id='4:de342d72-e7ff-4d5b-9a28-99eaa381965b:9' labels=frozenset({'CVE'}) properties={'assigner': 'security@huntr.dev', 'id': 'CVE-2023-0028'}>>, <Record cve1=<Node element_id='4:de342d72-e7ff-4d5b-9a28-99eaa381965b:0' labels=frozenset({'CVE'}) properties={'assigner': 'cna@sap.com', 'id': 'CVE-2023-0012'}> cve2=<Node element_id='4:de342d72-e7ff-4d5b-9a28-99eaa381965b:5' labels=frozenset({'CVE'}) properties={'assigner': 'cna@sap.com', 'id': 'CVE-2023-0017'}> Entities=<Node element_id='4:de342d72-e7ff-4d5b-9a28-99eaa381965b:9' labels=frozenset({'CVE'}) properties={'assigner': 'security@huntr.dev', 'id': 'CVE-2023-0028'}>>, <Record cve1=<Node element_id='4:de342d72-e7ff-4d5b-9a28-99eaa381965b:0' labels=frozenset({'CVE'}) properties={'assigner': 'cna@sap.com', 'id': 'CVE-2023-0012'}> cve2=<Node element_id='4:de342d72-e7ff-4d5b-9a28-99eaa381965b:5' labels=frozenset({'CVE'}) properties={'assigner': 'cna@sap.com', 'id': 'CVE-2023-0017'}> Entities=<Node element_id='4:de342d72-e7ff-4d5b-9a28-99eaa381965b:9' labels=frozenset({'CVE'}) properties={'assigner': 'security@huntr.dev', 'id': 'CVE-2023-0028'}>>, <Record cve1=<Node element_id='4:de342d72-e7ff-4d5b-9a28-99eaa381965b:0' labels=frozenset({'CVE'}) properties={'assigner': 'cna@sap.com', 'id': 'CVE-2023-0012'}> cve2=<Node element_id='4:de342d72-e7ff-4d5b-9a28-99eaa381965b:5' labels=frozenset({'CVE'}) properties={'assigner': 'cna@sap.com', 'id': 'CVE-2023-0017'}> Entities=<Node element_id='4:de342d72-e7ff-4d5b-9a28-99eaa381965b:9' labels=frozenset({'CVE'}) properties={'assigner': 'security@huntr.dev', 'id': 'CVE-2023-0028'}>>, <Record cve1=<Node element_id='4:de342d72-e7ff-4d5b-9a28-99eaa381965b:0' labels=frozenset({'CVE'}) properties={'assigner': 'cna@sap.com', 'id': 'CVE-2023-0012'}> cve2=<Node element_id='4:de342d72-e7ff-4d5b-9a28-99eaa381965b:5' labels=frozenset({'CVE'}) properties={'assigner': 'cna@sap.com', 'id': 'CVE-2023-0017'}> Entities=<Node element_id='4:de342d72-e7ff-4d5b-9a28-99eaa381965b:3' labels=frozenset({'CVE'}) properties={'assigner': 'cna@sap.com', 'id': 'CVE-2023-0015'}>>, <Record cve1=<Node element_id='4:de342d72-e7ff-4d5b-9a28-99eaa381965b:0' labels=frozenset({'CVE'}) properties={'assigner': 'cna@sap.com', 'id': 'CVE-2023-0012'}> cve2=<Node element_id='4:de342d72-e7ff-4d5b-9a28-99eaa381965b:5' labels=frozenset({'CVE'}) properties={'assigner': 'cna@sap.com', 'id': 'CVE-2023-0017'}> Entities=<Node element_id='4:de342d72-e7ff-4d5b-9a28-99eaa381965b:3' labels=frozenset({'CVE'}) properties={'assigner': 'cna@sap.com', 'id': 'CVE-2023-0015'}>>, <Record cve1=<Node element_id='4:de342d72-e7ff-4d5b-9a28-99eaa381965b:0' labels=frozenset({'CVE'}) properties={'assigner': 'cna@sap.com', 'id': 'CVE-2023-0012'}> cve2=<Node element_id='4:de342d72-e7ff-4d5b-9a28-99eaa381965b:5' labels=frozenset({'CVE'}) properties={'assigner': 'cna@sap.com', 'id': 'CVE-2023-0017'}> Entities=<Node element_id='4:de342d72-e7ff-4d5b-9a28-99eaa381965b:3' labels=frozenset({'CVE'}) properties={'assigner': 'cna@sap.com', 'id': 'CVE-2023-0015'}>>, <Record cve1=<Node element_id='4:de342d72-e7ff-4d5b-9a28-99eaa381965b:0' labels=frozenset({'CVE'}) properties={'assigner': 'cna@sap.com', 'id': 'CVE-2023-0012'}> cve2=<Node element_id='4:de342d72-e7ff-4d5b-9a28-99eaa381965b:5' labels=frozenset({'CVE'}) properties={'assigner': 'cna@sap.com', 'id': 'CVE-2023-0017'}> Entities=<Node element_id='4:de342d72-e7ff-4d5b-9a28-99eaa381965b:3' labels=frozenset({'CVE'}) properties={'assigner': 'cna@sap.com', 'id': 'CVE-2023-0015'}>>, <Record cve1=<Node element_id='4:de342d72-e7ff-4d5b-9a28-99eaa381965b:0' labels=frozenset({'CVE'}) properties={'assigner': 'cna@sap.com', 'id': 'CVE-2023-0012'}> cve2=<Node element_id='4:de342d72-e7ff-4d5b-9a28-99eaa381965b:5' labels=frozenset({'CVE'}) properties={'assigner': 'cna@sap.com', 'id': 'CVE-2023-0017'}> Entities=<Node element_id='4:de342d72-e7ff-4d5b-9a28-99eaa381965b:1' labels=frozenset({'CVE'}) properties={'assigner': 'cna@sap.com', 'id': 'CVE-2023-0013'}>>, <Record cve1=<Node element_id='4:de342d72-e7ff-4d5b-9a28-99eaa381965b:0' labels=frozenset({'CVE'}) properties={'assigner': 'cna@sap.com', 'id': 'CVE-2023-0012'}> cve2=<Node element_id='4:de342d72-e7ff-4d5b-9a28-99eaa381965b:5' labels=frozenset({'CVE'}) properties={'assigner': 'cna@sap.com', 'id': 'CVE-2023-0017'}> Entities=<Node element_id='4:de342d72-e7ff-4d5b-9a28-99eaa381965b:1' labels=frozenset({'CVE'}) properties={'assigner': 'cna@sap.com', 'id': 'CVE-2023-0013'}>>, <Record cve1=<Node element_id='4:de342d72-e7ff-4d5b-9a28-99eaa381965b:0' labels=frozenset({'CVE'}) properties={'assigner': 'cna@sap.com', 'id': 'CVE-2023-0012'}> cve2=<Node element_id='4:de342d72-e7ff-4d5b-9a28-99eaa381965b:5' labels=frozenset({'CVE'}) properties={'assigner': 'cna@sap.com', 'id': 'CVE-2023-0017'}> Entities=<Node element_id='4:de342d72-e7ff-4d5b-9a28-99eaa381965b:1' labels=frozenset({'CVE'}) properties={'assigner': 'cna@sap.com', 'id': 'CVE-2023-0013'}>>, <Record cve1=<Node element_id='4:de342d72-e7ff-4d5b-9a28-99eaa381965b:0' labels=frozenset({'CVE'}) properties={'assigner': 'cna@sap.com', 'id': 'CVE-2023-0012'}> cve2=<Node element_id='4:de342d72-e7ff-4d5b-9a28-99eaa381965b:5' labels=frozenset({'CVE'}) properties={'assigner': 'cna@sap.com', 'id': 'CVE-2023-0017'}> Entities=<Node element_id='4:de342d72-e7ff-4d5b-9a28-99eaa381965b:1' labels=frozenset({'CVE'}) properties={'assigner': 'cna@sap.com', 'id': 'CVE-2023-0013'}>>, <Record cve1=<Node element_id='4:de342d72-e7ff-4d5b-9a28-99eaa381965b:0' labels=frozenset({'CVE'}) properties={'assigner': 'cna@sap.com', 'id': 'CVE-2023-0012'}> cve2=<Node element_id='4:de342d72-e7ff-4d5b-9a28-99eaa381965b:5' labels=frozenset({'CVE'}) properties={'assigner': 'cna@sap.com', 'id': 'CVE-2023-0017'}> Entities=<Node element_id='4:de342d72-e7ff-4d5b-9a28-99eaa381965b:6' labels=frozenset({'CVE'}) properties={'assigner': 'cna@sap.com', 'id': 'CVE-2023-0018'}>>, <Record cve1=<Node element_id='4:de342d72-e7ff-4d5b-9a28-99eaa381965b:0' labels=frozenset({'CVE'}) properties={'assigner': 'cna@sap.com', 'id': 'CVE-2023-0012'}> cve2=<Node element_id='4:de342d72-e7ff-4d5b-9a28-99eaa381965b:5' labels=frozenset({'CVE'}) properties={'assigner': 'cna@sap.com', 'id': 'CVE-2023-0017'}> Entities=<Node element_id='4:de342d72-e7ff-4d5b-9a28-99eaa381965b:6' labels=frozenset({'CVE'}) properties={'assigner': 'cna@sap.com', 'id': 'CVE-2023-0018'}>>, <Record cve1=<Node element_id='4:de342d72-e7ff-4d5b-9a28-99eaa381965b:0' labels=frozenset({'CVE'}) properties={'assigner': 'cna@sap.com', 'id': 'CVE-2023-0012'}> cve2=<Node element_id='4:de342d72-e7ff-4d5b-9a28-99eaa381965b:5' labels=frozenset({'CVE'}) properties={'assigner': 'cna@sap.com', 'id': 'CVE-2023-0017'}> Entities=<Node element_id='4:de342d72-e7ff-4d5b-9a28-99eaa381965b:9' labels=frozenset({'CVE'}) properties={'assigner': 'security@huntr.dev', 'id': 'CVE-2023-0028'}>>, <Record cve1=<Node element_id='4:de342d72-e7ff-4d5b-9a28-99eaa381965b:0' labels=frozenset({'CVE'}) properties={'assigner': 'cna@sap.com', 'id': 'CVE-2023-0012'}> cve2=<Node element_id='4:de342d72-e7ff-4d5b-9a28-99eaa381965b:5' labels=frozenset({'CVE'}) properties={'assigner': 'cna@sap.com', 'id': 'CVE-2023-0017'}> Entities=<Node element_id='4:de342d72-e7ff-4d5b-9a28-99eaa381965b:9' labels=frozenset({'CVE'}) properties={'assigner': 'security@huntr.dev', 'id': 'CVE-2023-0028'}>>, <Record cve1=<Node element_id='4:de342d72-e7ff-4d5b-9a28-99eaa381965b:0' labels=frozenset({'CVE'}) properties={'assigner': 'cna@sap.com', 'id': 'CVE-2023-0012'}> cve2=<Node element_id='4:de342d72-e7ff-4d5b-9a28-99eaa381965b:5' labels=frozenset({'CVE'}) properties={'assigner': 'cna@sap.com', 'id': 'CVE-2023-0017'}> Entities=<Node element_id='4:de342d72-e7ff-4d5b-9a28-99eaa381965b:3' labels=frozenset({'CVE'}) properties={'assigner': 'cna@sap.com', 'id': 'CVE-2023-0015'}>>, <Record cve1=<Node element_id='4:de342d72-e7ff-4d5b-9a28-99eaa381965b:0' labels=frozenset({'CVE'}) properties={'assigner': 'cna@sap.com', 'id': 'CVE-2023-0012'}> cve2=<Node element_id='4:de342d72-e7ff-4d5b-9a28-99eaa381965b:5' labels=frozenset({'CVE'}) properties={'assigner': 'cna@sap.com', 'id': 'CVE-2023-0017'}> Entities=<Node element_id='4:de342d72-e7ff-4d5b-9a28-99eaa381965b:3' labels=frozenset({'CVE'}) properties={'assigner': 'cna@sap.com', 'id': 'CVE-2023-0015'}>>, <Record cve1=<Node element_id='4:de342d72-e7ff-4d5b-9a28-99eaa381965b:0' labels=frozenset({'CVE'}) properties={'assigner': 'cna@sap.com', 'id': 'CVE-2023-0012'}> cve2=<Node element_id='4:de342d72-e7ff-4d5b-9a28-99eaa381965b:5' labels=frozenset({'CVE'}) properties={'assigner': 'cna@sap.com', 'id': 'CVE-2023-0017'}> Entities=<Node element_id='4:de342d72-e7ff-4d5b-9a28-99eaa381965b:1' labels=frozenset({'CVE'}) properties={'assigner': 'cna@sap.com', 'id': 'CVE-2023-0013'}>>, <Record cve1=<Node element_id='4:de342d72-e7ff-4d5b-9a28-99eaa381965b:0' labels=frozenset({'CVE'}) properties={'assigner': 'cna@sap.com', 'id': 'CVE-2023-0012'}> cve2=<Node element_id='4:de342d72-e7ff-4d5b-9a28-99eaa381965b:5' labels=frozenset({'CVE'}) properties={'assigner': 'cna@sap.com', 'id': 'CVE-2023-0017'}> Entities=<Node element_id='4:de342d72-e7ff-4d5b-9a28-99eaa381965b:1' labels=frozenset({'CVE'}) properties={'assigner': 'cna@sap.com', 'id': 'CVE-2023-0013'}>>, <Record cve1=<Node element_id='4:de342d72-e7ff-4d5b-9a28-99eaa381965b:0' labels=frozenset({'CVE'}) properties={'assigner': 'cna@sap.com', 'id': 'CVE-2023-0012'}> cve2=<Node element_id='4:de342d72-e7ff-4d5b-9a28-99eaa381965b:5' labels=frozenset({'CVE'}) properties={'assigner': 'cna@sap.com', 'id': 'CVE-2023-0017'}> Entities=<Node element_id='4:de342d72-e7ff-4d5b-9a28-99eaa381965b:6' labels=frozenset({'CVE'}) properties={'assigner': 'cna@sap.com', 'id': 'CVE-2023-0018'}>>, <Record cve1=<Node element_id='4:de342d72-e7ff-4d5b-9a28-99eaa381965b:0' labels=frozenset({'CVE'}) properties={'assigner': 'cna@sap.com', 'id': 'CVE-2023-0012'}> cve2=<Node element_id='4:de342d72-e7ff-4d5b-9a28-99eaa381965b:5' labels=frozenset({'CVE'}) properties={'assigner': 'cna@sap.com', 'id': 'CVE-2023-0017'}> Entities=<Node element_id='4:de342d72-e7ff-4d5b-9a28-99eaa381965b:6' labels=frozenset({'CVE'}) properties={'assigner': 'cna@sap.com', 'id': 'CVE-2023-0018'}>>, <Record cve1=<Node element_id='4:de342d72-e7ff-4d5b-9a28-99eaa381965b:0' labels=frozenset({'CVE'}) properties={'assigner': 'cna@sap.com', 'id': 'CVE-2023-0012'}> cve2=<Node element_id='4:de342d72-e7ff-4d5b-9a28-99eaa381965b:5' labels=frozenset({'CVE'}) properties={'assigner': 'cna@sap.com', 'id': 'CVE-2023-0017'}> Entities=<Node element_id='4:de342d72-e7ff-4d5b-9a28-99eaa381965b:9' labels=frozenset({'CVE'}) properties={'assigner': 'security@huntr.dev', 'id': 'CVE-2023-0028'}>>, <Record cve1=<Node element_id='4:de342d72-e7ff-4d5b-9a28-99eaa381965b:0' labels=frozenset({'CVE'}) properties={'assigner': 'cna@sap.com', 'id': 'CVE-2023-0012'}> cve2=<Node element_id='4:de342d72-e7ff-4d5b-9a28-99eaa381965b:5' labels=frozenset({'CVE'}) properties={'assigner': 'cna@sap.com', 'id': 'CVE-2023-0017'}> Entities=<Node element_id='4:de342d72-e7ff-4d5b-9a28-99eaa381965b:9' labels=frozenset({'CVE'}) properties={'assigner': 'security@huntr.dev', 'id': 'CVE-2023-0028'}>>, <Record cve1=<Node element_id='4:de342d72-e7ff-4d5b-9a28-99eaa381965b:0' labels=frozenset({'CVE'}) properties={'assigner': 'cna@sap.com', 'id': 'CVE-2023-0012'}> cve2=<Node element_id='4:de342d72-e7ff-4d5b-9a28-99eaa381965b:5' labels=frozenset({'CVE'}) properties={'assigner': 'cna@sap.com', 'id': 'CVE-2023-0017'}> Entities=<Node element_id='4:de342d72-e7ff-4d5b-9a28-99eaa381965b:3' labels=frozenset({'CVE'}) properties={'assigner': 'cna@sap.com', 'id': 'CVE-2023-0015'}>>, <Record cve1=<Node element_id='4:de342d72-e7ff-4d5b-9a28-99eaa381965b:0' labels=frozenset({'CVE'}) properties={'assigner': 'cna@sap.com', 'id': 'CVE-2023-0012'}> cve2=<Node element_id='4:de342d72-e7ff-4d5b-9a28-99eaa381965b:5' labels=frozenset({'CVE'}) properties={'assigner': 'cna@sap.com', 'id': 'CVE-2023-0017'}> Entities=<Node element_id='4:de342d72-e7ff-4d5b-9a28-99eaa381965b:3' labels=frozenset({'CVE'}) properties={'assigner': 'cna@sap.com', 'id': 'CVE-2023-0015'}>>, <Record cve1=<Node element_id='4:de342d72-e7ff-4d5b-9a28-99eaa381965b:0' labels=frozenset({'CVE'}) properties={'assigner': 'cna@sap.com', 'id': 'CVE-2023-0012'}> cve2=<Node element_id='4:de342d72-e7ff-4d5b-9a28-99eaa381965b:5' labels=frozenset({'CVE'}) properties={'assigner': 'cna@sap.com', 'id': 'CVE-2023-0017'}> Entities=<Node element_id='4:de342d72-e7ff-4d5b-9a28-99eaa381965b:1' labels=frozenset({'CVE'}) properties={'assigner': 'cna@sap.com', 'id': 'CVE-2023-0013'}>>, <Record cve1=<Node element_id='4:de342d72-e7ff-4d5b-9a28-99eaa381965b:0' labels=frozenset({'CVE'}) properties={'assigner': 'cna@sap.com', 'id': 'CVE-2023-0012'}> cve2=<Node element_id='4:de342d72-e7ff-4d5b-9a28-99eaa381965b:5' labels=frozenset({'CVE'}) properties={'assigner': 'cna@sap.com', 'id': 'CVE-2023-0017'}> Entities=<Node element_id='4:de342d72-e7ff-4d5b-9a28-99eaa381965b:1' labels=frozenset({'CVE'}) properties={'assigner': 'cna@sap.com', 'id': 'CVE-2023-0013'}>>, <Record cve1=<Node element_id='4:de342d72-e7ff-4d5b-9a28-99eaa381965b:0' labels=frozenset({'CVE'}) properties={'assigner': 'cna@sap.com', 'id': 'CVE-2023-0012'}> cve2=<Node element_id='4:de342d72-e7ff-4d5b-9a28-99eaa381965b:5' labels=frozenset({'CVE'}) properties={'assigner': 'cna@sap.com', 'id': 'CVE-2023-0017'}> Entities=<Node element_id='4:de342d72-e7ff-4d5b-9a28-99eaa381965b:6' labels=frozenset({'CVE'}) properties={'assigner': 'cna@sap.com', 'id': 'CVE-2023-0018'}>>, <Record cve1=<Node element_id='4:de342d72-e7ff-4d5b-9a28-99eaa381965b:0' labels=frozenset({'CVE'}) properties={'assigner': 'cna@sap.com', 'id': 'CVE-2023-0012'}> cve2=<Node element_id='4:de342d72-e7ff-4d5b-9a28-99eaa381965b:5' labels=frozenset({'CVE'}) properties={'assigner': 'cna@sap.com', 'id': 'CVE-2023-0017'}> Entities=<Node element_id='4:de342d72-e7ff-4d5b-9a28-99eaa381965b:6' labels=frozenset({'CVE'}) properties={'assigner': 'cna@sap.com', 'id': 'CVE-2023-0018'}>>, <Record cve1=<Node element_id='4:de342d72-e7ff-4d5b-9a28-99eaa381965b:0' labels=frozenset({'CVE'}) properties={'assigner': 'cna@sap.com', 'id': 'CVE-2023-0012'}> cve2=<Node element_id='4:de342d72-e7ff-4d5b-9a28-99eaa381965b:5' labels=frozenset({'CVE'}) properties={'assigner': 'cna@sap.com', 'id': 'CVE-2023-0017'}> Entities=<Node element_id='4:de342d72-e7ff-4d5b-9a28-99eaa381965b:6' labels=frozenset({'CVE'}) properties={'assigner': 'cna@sap.com', 'id': 'CVE-2023-0018'}>>, <Record cve1=<Node element_id='4:de342d72-e7ff-4d5b-9a28-99eaa381965b:0' labels=frozenset({'CVE'}) properties={'assigner': 'cna@sap.com', 'id': 'CVE-2023-0012'}> cve2=<Node element_id='4:de342d72-e7ff-4d5b-9a28-99eaa381965b:5' labels=frozenset({'CVE'}) properties={'assigner': 'cna@sap.com', 'id': 'CVE-2023-0017'}> Entities=<Node element_id='4:de342d72-e7ff-4d5b-9a28-99eaa381965b:9' labels=frozenset({'CVE'}) properties={'assigner': 'security@huntr.dev', 'id': 'CVE-2023-0028'}>>, <Record cve1=<Node element_id='4:de342d72-e7ff-4d5b-9a28-99eaa381965b:0' labels=frozenset({'CVE'}) properties={'assigner': 'cna@sap.com', 'id': 'CVE-2023-0012'}> cve2=<Node element_id='4:de342d72-e7ff-4d5b-9a28-99eaa381965b:5' labels=frozenset({'CVE'}) properties={'assigner': 'cna@sap.com', 'id': 'CVE-2023-0017'}> Entities=<Node element_id='4:de342d72-e7ff-4d5b-9a28-99eaa381965b:9' labels=frozenset({'CVE'}) properties={'assigner': 'security@huntr.dev', 'id': 'CVE-2023-0028'}>>, <Record cve1=<Node element_id='4:de342d72-e7ff-4d5b-9a28-99eaa381965b:0' labels=frozenset({'CVE'}) properties={'assigner': 'cna@sap.com', 'id': 'CVE-2023-0012'}> cve2=<Node element_id='4:de342d72-e7ff-4d5b-9a28-99eaa381965b:5' labels=frozenset({'CVE'}) properties={'assigner': 'cna@sap.com', 'id': 'CVE-2023-0017'}> Entities=<Node element_id='4:de342d72-e7ff-4d5b-9a28-99eaa381965b:9' labels=frozenset({'CVE'}) properties={'assigner': 'security@huntr.dev', 'id': 'CVE-2023-0028'}>>, <Record cve1=<Node element_id='4:de342d72-e7ff-4d5b-9a28-99eaa381965b:0' labels=frozenset({'CVE'}) properties={'assigner': 'cna@sap.com', 'id': 'CVE-2023-0012'}> cve2=<Node element_id='4:de342d72-e7ff-4d5b-9a28-99eaa381965b:5' labels=frozenset({'CVE'}) properties={'assigner': 'cna@sap.com', 'id': 'CVE-2023-0017'}> Entities=<Node element_id='4:de342d72-e7ff-4d5b-9a28-99eaa381965b:3' labels=frozenset({'CVE'}) properties={'assigner': 'cna@sap.com', 'id': 'CVE-2023-0015'}>>, <Record cve1=<Node element_id='4:de342d72-e7ff-4d5b-9a28-99eaa381965b:0' labels=frozenset({'CVE'}) properties={'assigner': 'cna@sap.com', 'id': 'CVE-2023-0012'}> cve2=<Node element_id='4:de342d72-e7ff-4d5b-9a28-99eaa381965b:5' labels=frozenset({'CVE'}) properties={'assigner': 'cna@sap.com', 'id': 'CVE-2023-0017'}> Entities=<Node element_id='4:de342d72-e7ff-4d5b-9a28-99eaa381965b:3' labels=frozenset({'CVE'}) properties={'assigner': 'cna@sap.com', 'id': 'CVE-2023-0015'}>>, <Record cve1=<Node element_id='4:de342d72-e7ff-4d5b-9a28-99eaa381965b:0' labels=frozenset({'CVE'}) properties={'assigner': 'cna@sap.com', 'id': 'CVE-2023-0012'}> cve2=<Node element_id='4:de342d72-e7ff-4d5b-9a28-99eaa381965b:5' labels=frozenset({'CVE'}) properties={'assigner': 'cna@sap.com', 'id': 'CVE-2023-0017'}> Entities=<Node element_id='4:de342d72-e7ff-4d5b-9a28-99eaa381965b:3' labels=frozenset({'CVE'}) properties={'assigner': 'cna@sap.com', 'id': 'CVE-2023-0015'}>>, <Record cve1=<Node element_id='4:de342d72-e7ff-4d5b-9a28-99eaa381965b:0' labels=frozenset({'CVE'}) properties={'assigner': 'cna@sap.com', 'id': 'CVE-2023-0012'}> cve2=<Node element_id='4:de342d72-e7ff-4d5b-9a28-99eaa381965b:5' labels=frozenset({'CVE'}) properties={'assigner': 'cna@sap.com', 'id': 'CVE-2023-0017'}> Entities=<Node element_id='4:de342d72-e7ff-4d5b-9a28-99eaa381965b:1' labels=frozenset({'CVE'}) properties={'assigner': 'cna@sap.com', 'id': 'CVE-2023-0013'}>>, <Record cve1=<Node element_id='4:de342d72-e7ff-4d5b-9a28-99eaa381965b:0' labels=frozenset({'CVE'}) properties={'assigner': 'cna@sap.com', 'id': 'CVE-2023-0012'}> cve2=<Node element_id='4:de342d72-e7ff-4d5b-9a28-99eaa381965b:5' labels=frozenset({'CVE'}) properties={'assigner': 'cna@sap.com', 'id': 'CVE-2023-0017'}> Entities=<Node element_id='4:de342d72-e7ff-4d5b-9a28-99eaa381965b:1' labels=frozenset({'CVE'}) properties={'assigner': 'cna@sap.com', 'id': 'CVE-2023-0013'}>>, <Record cve1=<Node element_id='4:de342d72-e7ff-4d5b-9a28-99eaa381965b:0' labels=frozenset({'CVE'}) properties={'assigner': 'cna@sap.com', 'id': 'CVE-2023-0012'}> cve2=<Node element_id='4:de342d72-e7ff-4d5b-9a28-99eaa381965b:5' labels=frozenset({'CVE'}) properties={'assigner': 'cna@sap.com', 'id': 'CVE-2023-0017'}> Entities=<Node element_id='4:de342d72-e7ff-4d5b-9a28-99eaa381965b:1' labels=frozenset({'CVE'}) properties={'assigner': 'cna@sap.com', 'id': 'CVE-2023-0013'}>>, <Record cve1=<Node element_id='4:de342d72-e7ff-4d5b-9a28-99eaa381965b:0' labels=frozenset({'CVE'}) properties={'assigner': 'cna@sap.com', 'id': 'CVE-2023-0012'}> cve2=<Node element_id='4:de342d72-e7ff-4d5b-9a28-99eaa381965b:5' labels=frozenset({'CVE'}) properties={'assigner': 'cna@sap.com', 'id': 'CVE-2023-0017'}> Entities=<Node element_id='4:de342d72-e7ff-4d5b-9a28-99eaa381965b:6' labels=frozenset({'CVE'}) properties={'assigner': 'cna@sap.com', 'id': 'CVE-2023-0018'}>>, <Record cve1=<Node element_id='4:de342d72-e7ff-4d5b-9a28-99eaa381965b:0' labels=frozenset({'CVE'}) properties={'assigner': 'cna@sap.com', 'id': 'CVE-2023-0012'}> cve2=<Node element_id='4:de342d72-e7ff-4d5b-9a28-99eaa381965b:5' labels=frozenset({'CVE'}) properties={'assigner': 'cna@sap.com', 'id': 'CVE-2023-0017'}> Entities=<Node element_id='4:de342d72-e7ff-4d5b-9a28-99eaa381965b:6' labels=frozenset({'CVE'}) properties={'assigner': 'cna@sap.com', 'id': 'CVE-2023-0018'}>>, <Record cve1=<Node element_id='4:de342d72-e7ff-4d5b-9a28-99eaa381965b:0' labels=frozenset({'CVE'}) properties={'assigner': 'cna@sap.com', 'id': 'CVE-2023-0012'}> cve2=<Node element_id='4:de342d72-e7ff-4d5b-9a28-99eaa381965b:5' labels=frozenset({'CVE'}) properties={'assigner': 'cna@sap.com', 'id': 'CVE-2023-0017'}> Entities=<Node element_id='4:de342d72-e7ff-4d5b-9a28-99eaa381965b:6' labels=frozenset({'CVE'}) properties={'assigner': 'cna@sap.com', 'id': 'CVE-2023-0018'}>>, <Record cve1=<Node element_id='4:de342d72-e7ff-4d5b-9a28-99eaa381965b:0' labels=frozenset({'CVE'}) properties={'assigner': 'cna@sap.com', 'id': 'CVE-2023-0012'}> cve2=<Node element_id='4:de342d72-e7ff-4d5b-9a28-99eaa381965b:5' labels=frozenset({'CVE'}) properties={'assigner': 'cna@sap.com', 'id': 'CVE-2023-0017'}> Entities=<Node element_id='4:de342d72-e7ff-4d5b-9a28-99eaa381965b:9' labels=frozenset({'CVE'}) properties={'assigner': 'security@huntr.dev', 'id': 'CVE-2023-0028'}>>, <Record cve1=<Node element_id='4:de342d72-e7ff-4d5b-9a28-99eaa381965b:0' labels=frozenset({'CVE'}) properties={'assigner': 'cna@sap.com', 'id': 'CVE-2023-0012'}> cve2=<Node element_id='4:de342d72-e7ff-4d5b-9a28-99eaa381965b:5' labels=frozenset({'CVE'}) properties={'assigner': 'cna@sap.com', 'id': 'CVE-2023-0017'}> Entities=<Node element_id='4:de342d72-e7ff-4d5b-9a28-99eaa381965b:9' labels=frozenset({'CVE'}) properties={'assigner': 'security@huntr.dev', 'id': 'CVE-2023-0028'}>>, <Record cve1=<Node element_id='4:de342d72-e7ff-4d5b-9a28-99eaa381965b:0' labels=frozenset({'CVE'}) properties={'assigner': 'cna@sap.com', 'id': 'CVE-2023-0012'}> cve2=<Node element_id='4:de342d72-e7ff-4d5b-9a28-99eaa381965b:5' labels=frozenset({'CVE'}) properties={'assigner': 'cna@sap.com', 'id': 'CVE-2023-0017'}> Entities=<Node element_id='4:de342d72-e7ff-4d5b-9a28-99eaa381965b:9' labels=frozenset({'CVE'}) properties={'assigner': 'security@huntr.dev', 'id': 'CVE-2023-0028'}>>, <Record cve1=<Node element_id='4:de342d72-e7ff-4d5b-9a28-99eaa381965b:0' labels=frozenset({'CVE'}) properties={'assigner': 'cna@sap.com', 'id': 'CVE-2023-0012'}> cve2=<Node element_id='4:de342d72-e7ff-4d5b-9a28-99eaa381965b:5' labels=frozenset({'CVE'}) properties={'assigner': 'cna@sap.com', 'id': 'CVE-2023-0017'}> Entities=<Node element_id='4:de342d72-e7ff-4d5b-9a28-99eaa381965b:3' labels=frozenset({'CVE'}) properties={'assigner': 'cna@sap.com', 'id': 'CVE-2023-0015'}>>, <Record cve1=<Node element_id='4:de342d72-e7ff-4d5b-9a28-99eaa381965b:0' labels=frozenset({'CVE'}) properties={'assigner': 'cna@sap.com', 'id': 'CVE-2023-0012'}> cve2=<Node element_id='4:de342d72-e7ff-4d5b-9a28-99eaa381965b:5' labels=frozenset({'CVE'}) properties={'assigner': 'cna@sap.com', 'id': 'CVE-2023-0017'}> Entities=<Node element_id='4:de342d72-e7ff-4d5b-9a28-99eaa381965b:3' labels=frozenset({'CVE'}) properties={'assigner': 'cna@sap.com', 'id': 'CVE-2023-0015'}>>, <Record cve1=<Node element_id='4:de342d72-e7ff-4d5b-9a28-99eaa381965b:0' labels=frozenset({'CVE'}) properties={'assigner': 'cna@sap.com', 'id': 'CVE-2023-0012'}> cve2=<Node element_id='4:de342d72-e7ff-4d5b-9a28-99eaa381965b:5' labels=frozenset({'CVE'}) properties={'assigner': 'cna@sap.com', 'id': 'CVE-2023-0017'}> Entities=<Node element_id='4:de342d72-e7ff-4d5b-9a28-99eaa381965b:3' labels=frozenset({'CVE'}) properties={'assigner': 'cna@sap.com', 'id': 'CVE-2023-0015'}>>, <Record cve1=<Node element_id='4:de342d72-e7ff-4d5b-9a28-99eaa381965b:0' labels=frozenset({'CVE'}) properties={'assigner': 'cna@sap.com', 'id': 'CVE-2023-0012'}> cve2=<Node element_id='4:de342d72-e7ff-4d5b-9a28-99eaa381965b:5' labels=frozenset({'CVE'}) properties={'assigner': 'cna@sap.com', 'id': 'CVE-2023-0017'}> Entities=<Node element_id='4:de342d72-e7ff-4d5b-9a28-99eaa381965b:1' labels=frozenset({'CVE'}) properties={'assigner': 'cna@sap.com', 'id': 'CVE-2023-0013'}>>, <Record cve1=<Node element_id='4:de342d72-e7ff-4d5b-9a28-99eaa381965b:0' labels=frozenset({'CVE'}) properties={'assigner': 'cna@sap.com', 'id': 'CVE-2023-0012'}> cve2=<Node element_id='4:de342d72-e7ff-4d5b-9a28-99eaa381965b:5' labels=frozenset({'CVE'}) properties={'assigner': 'cna@sap.com', 'id': 'CVE-2023-0017'}> Entities=<Node element_id='4:de342d72-e7ff-4d5b-9a28-99eaa381965b:1' labels=frozenset({'CVE'}) properties={'assigner': 'cna@sap.com', 'id': 'CVE-2023-0013'}>>, <Record cve1=<Node element_id='4:de342d72-e7ff-4d5b-9a28-99eaa381965b:0' labels=frozenset({'CVE'}) properties={'assigner': 'cna@sap.com', 'id': 'CVE-2023-0012'}> cve2=<Node element_id='4:de342d72-e7ff-4d5b-9a28-99eaa381965b:5' labels=frozenset({'CVE'}) properties={'assigner': 'cna@sap.com', 'id': 'CVE-2023-0017'}> Entities=<Node element_id='4:de342d72-e7ff-4d5b-9a28-99eaa381965b:1' labels=frozenset({'CVE'}) properties={'assigner': 'cna@sap.com', 'id': 'CVE-2023-0013'}>>, <Record cve1=<Node element_id='4:de342d72-e7ff-4d5b-9a28-99eaa381965b:0' labels=frozenset({'CVE'}) properties={'assigner': 'cna@sap.com', 'id': 'CVE-2023-0012'}> cve2=<Node element_id='4:de342d72-e7ff-4d5b-9a28-99eaa381965b:5' labels=frozenset({'CVE'}) properties={'assigner': 'cna@sap.com', 'id': 'CVE-2023-0017'}> Entities=<Node element_id='4:de342d72-e7ff-4d5b-9a28-99eaa381965b:6' labels=frozenset({'CVE'}) properties={'assigner': 'cna@sap.com', 'id': 'CVE-2023-0018'}>>, <Record cve1=<Node element_id='4:de342d72-e7ff-4d5b-9a28-99eaa381965b:0' labels=frozenset({'CVE'}) properties={'assigner': 'cna@sap.com', 'id': 'CVE-2023-0012'}> cve2=<Node element_id='4:de342d72-e7ff-4d5b-9a28-99eaa381965b:5' labels=frozenset({'CVE'}) properties={'assigner': 'cna@sap.com', 'id': 'CVE-2023-0017'}> Entities=<Node element_id='4:de342d72-e7ff-4d5b-9a28-99eaa381965b:6' labels=frozenset({'CVE'}) properties={'assigner': 'cna@sap.com', 'id': 'CVE-2023-0018'}>>, <Record cve1=<Node element_id='4:de342d72-e7ff-4d5b-9a28-99eaa381965b:0' labels=frozenset({'CVE'}) properties={'assigner': 'cna@sap.com', 'id': 'CVE-2023-0012'}> cve2=<Node element_id='4:de342d72-e7ff-4d5b-9a28-99eaa381965b:5' labels=frozenset({'CVE'}) properties={'assigner': 'cna@sap.com', 'id': 'CVE-2023-0017'}> Entities=<Node element_id='4:de342d72-e7ff-4d5b-9a28-99eaa381965b:9' labels=frozenset({'CVE'}) properties={'assigner': 'security@huntr.dev', 'id': 'CVE-2023-0028'}>>, <Record cve1=<Node element_id='4:de342d72-e7ff-4d5b-9a28-99eaa381965b:0' labels=frozenset({'CVE'}) properties={'assigner': 'cna@sap.com', 'id': 'CVE-2023-0012'}> cve2=<Node element_id='4:de342d72-e7ff-4d5b-9a28-99eaa381965b:5' labels=frozenset({'CVE'}) properties={'assigner': 'cna@sap.com', 'id': 'CVE-2023-0017'}> Entities=<Node element_id='4:de342d72-e7ff-4d5b-9a28-99eaa381965b:9' labels=frozenset({'CVE'}) properties={'assigner': 'security@huntr.dev', 'id': 'CVE-2023-0028'}>>, <Record cve1=<Node element_id='4:de342d72-e7ff-4d5b-9a28-99eaa381965b:0' labels=frozenset({'CVE'}) properties={'assigner': 'cna@sap.com', 'id': 'CVE-2023-0012'}> cve2=<Node element_id='4:de342d72-e7ff-4d5b-9a28-99eaa381965b:5' labels=frozenset({'CVE'}) properties={'assigner': 'cna@sap.com', 'id': 'CVE-2023-0017'}> Entities=<Node element_id='4:de342d72-e7ff-4d5b-9a28-99eaa381965b:3' labels=frozenset({'CVE'}) properties={'assigner': 'cna@sap.com', 'id': 'CVE-2023-0015'}>>, <Record cve1=<Node element_id='4:de342d72-e7ff-4d5b-9a28-99eaa381965b:0' labels=frozenset({'CVE'}) properties={'assigner': 'cna@sap.com', 'id': 'CVE-2023-0012'}> cve2=<Node element_id='4:de342d72-e7ff-4d5b-9a28-99eaa381965b:5' labels=frozenset({'CVE'}) properties={'assigner': 'cna@sap.com', 'id': 'CVE-2023-0017'}> Entities=<Node element_id='4:de342d72-e7ff-4d5b-9a28-99eaa381965b:3' labels=frozenset({'CVE'}) properties={'assigner': 'cna@sap.com', 'id': 'CVE-2023-0015'}>>, <Record cve1=<Node element_id='4:de342d72-e7ff-4d5b-9a28-99eaa381965b:0' labels=frozenset({'CVE'}) properties={'assigner': 'cna@sap.com', 'id': 'CVE-2023-0012'}> cve2=<Node element_id='4:de342d72-e7ff-4d5b-9a28-99eaa381965b:5' labels=frozenset({'CVE'}) properties={'assigner': 'cna@sap.com', 'id': 'CVE-2023-0017'}> Entities=<Node element_id='4:de342d72-e7ff-4d5b-9a28-99eaa381965b:1' labels=frozenset({'CVE'}) properties={'assigner': 'cna@sap.com', 'id': 'CVE-2023-0013'}>>, <Record cve1=<Node element_id='4:de342d72-e7ff-4d5b-9a28-99eaa381965b:0' labels=frozenset({'CVE'}) properties={'assigner': 'cna@sap.com', 'id': 'CVE-2023-0012'}> cve2=<Node element_id='4:de342d72-e7ff-4d5b-9a28-99eaa381965b:5' labels=frozenset({'CVE'}) properties={'assigner': 'cna@sap.com', 'id': 'CVE-2023-0017'}> Entities=<Node element_id='4:de342d72-e7ff-4d5b-9a28-99eaa381965b:1' labels=frozenset({'CVE'}) properties={'assigner': 'cna@sap.com', 'id': 'CVE-2023-0013'}>>, <Record cve1=<Node element_id='4:de342d72-e7ff-4d5b-9a28-99eaa381965b:0' labels=frozenset({'CVE'}) properties={'assigner': 'cna@sap.com', 'id': 'CVE-2023-0012'}> cve2=<Node element_id='4:de342d72-e7ff-4d5b-9a28-99eaa381965b:5' labels=frozenset({'CVE'}) properties={'assigner': 'cna@sap.com', 'id': 'CVE-2023-0017'}> Entities=<Node element_id='4:de342d72-e7ff-4d5b-9a28-99eaa381965b:6' labels=frozenset({'CVE'}) properties={'assigner': 'cna@sap.com', 'id': 'CVE-2023-0018'}>>, <Record cve1=<Node element_id='4:de342d72-e7ff-4d5b-9a28-99eaa381965b:0' labels=frozenset({'CVE'}) properties={'assigner': 'cna@sap.com', 'id': 'CVE-2023-0012'}> cve2=<Node element_id='4:de342d72-e7ff-4d5b-9a28-99eaa381965b:5' labels=frozenset({'CVE'}) properties={'assigner': 'cna@sap.com', 'id': 'CVE-2023-0017'}> Entities=<Node element_id='4:de342d72-e7ff-4d5b-9a28-99eaa381965b:6' labels=frozenset({'CVE'}) properties={'assigner': 'cna@sap.com', 'id': 'CVE-2023-0018'}>>, <Record cve1=<Node element_id='4:de342d72-e7ff-4d5b-9a28-99eaa381965b:0' labels=frozenset({'CVE'}) properties={'assigner': 'cna@sap.com', 'id': 'CVE-2023-0012'}> cve2=<Node element_id='4:de342d72-e7ff-4d5b-9a28-99eaa381965b:5' labels=frozenset({'CVE'}) properties={'assigner': 'cna@sap.com', 'id': 'CVE-2023-0017'}> Entities=<Node element_id='4:de342d72-e7ff-4d5b-9a28-99eaa381965b:9' labels=frozenset({'CVE'}) properties={'assigner': 'security@huntr.dev', 'id': 'CVE-2023-0028'}>>, <Record cve1=<Node element_id='4:de342d72-e7ff-4d5b-9a28-99eaa381965b:0' labels=frozenset({'CVE'}) properties={'assigner': 'cna@sap.com', 'id': 'CVE-2023-0012'}> cve2=<Node element_id='4:de342d72-e7ff-4d5b-9a28-99eaa381965b:5' labels=frozenset({'CVE'}) properties={'assigner': 'cna@sap.com', 'id': 'CVE-2023-0017'}> Entities=<Node element_id='4:de342d72-e7ff-4d5b-9a28-99eaa381965b:9' labels=frozenset({'CVE'}) properties={'assigner': 'security@huntr.dev', 'id': 'CVE-2023-0028'}>>, <Record cve1=<Node element_id='4:de342d72-e7ff-4d5b-9a28-99eaa381965b:0' labels=frozenset({'CVE'}) properties={'assigner': 'cna@sap.com', 'id': 'CVE-2023-0012'}> cve2=<Node element_id='4:de342d72-e7ff-4d5b-9a28-99eaa381965b:5' labels=frozenset({'CVE'}) properties={'assigner': 'cna@sap.com', 'id': 'CVE-2023-0017'}> Entities=<Node element_id='4:de342d72-e7ff-4d5b-9a28-99eaa381965b:3' labels=frozenset({'CVE'}) properties={'assigner': 'cna@sap.com', 'id': 'CVE-2023-0015'}>>, <Record cve1=<Node element_id='4:de342d72-e7ff-4d5b-9a28-99eaa381965b:0' labels=frozenset({'CVE'}) properties={'assigner': 'cna@sap.com', 'id': 'CVE-2023-0012'}> cve2=<Node element_id='4:de342d72-e7ff-4d5b-9a28-99eaa381965b:5' labels=frozenset({'CVE'}) properties={'assigner': 'cna@sap.com', 'id': 'CVE-2023-0017'}> Entities=<Node element_id='4:de342d72-e7ff-4d5b-9a28-99eaa381965b:3' labels=frozenset({'CVE'}) properties={'assigner': 'cna@sap.com', 'id': 'CVE-2023-0015'}>>, <Record cve1=<Node element_id='4:de342d72-e7ff-4d5b-9a28-99eaa381965b:0' labels=frozenset({'CVE'}) properties={'assigner': 'cna@sap.com', 'id': 'CVE-2023-0012'}> cve2=<Node element_id='4:de342d72-e7ff-4d5b-9a28-99eaa381965b:5' labels=frozenset({'CVE'}) properties={'assigner': 'cna@sap.com', 'id': 'CVE-2023-0017'}> Entities=<Node element_id='4:de342d72-e7ff-4d5b-9a28-99eaa381965b:1' labels=frozenset({'CVE'}) properties={'assigner': 'cna@sap.com', 'id': 'CVE-2023-0013'}>>, <Record cve1=<Node element_id='4:de342d72-e7ff-4d5b-9a28-99eaa381965b:0' labels=frozenset({'CVE'}) properties={'assigner': 'cna@sap.com', 'id': 'CVE-2023-0012'}> cve2=<Node element_id='4:de342d72-e7ff-4d5b-9a28-99eaa381965b:5' labels=frozenset({'CVE'}) properties={'assigner': 'cna@sap.com', 'id': 'CVE-2023-0017'}> Entities=<Node element_id='4:de342d72-e7ff-4d5b-9a28-99eaa381965b:1' labels=frozenset({'CVE'}) properties={'assigner': 'cna@sap.com', 'id': 'CVE-2023-0013'}>>, <Record cve1=<Node element_id='4:de342d72-e7ff-4d5b-9a28-99eaa381965b:0' labels=frozenset({'CVE'}) properties={'assigner': 'cna@sap.com', 'id': 'CVE-2023-0012'}> cve2=<Node element_id='4:de342d72-e7ff-4d5b-9a28-99eaa381965b:5' labels=frozenset({'CVE'}) properties={'assigner': 'cna@sap.com', 'id': 'CVE-2023-0017'}> Entities=<Node element_id='4:de342d72-e7ff-4d5b-9a28-99eaa381965b:6' labels=frozenset({'CVE'}) properties={'assigner': 'cna@sap.com', 'id': 'CVE-2023-0018'}>>, <Record cve1=<Node element_id='4:de342d72-e7ff-4d5b-9a28-99eaa381965b:0' labels=frozenset({'CVE'}) properties={'assigner': 'cna@sap.com', 'id': 'CVE-2023-0012'}> cve2=<Node element_id='4:de342d72-e7ff-4d5b-9a28-99eaa381965b:5' labels=frozenset({'CVE'}) properties={'assigner': 'cna@sap.com', 'id': 'CVE-2023-0017'}> Entities=<Node element_id='4:de342d72-e7ff-4d5b-9a28-99eaa381965b:6' labels=frozenset({'CVE'}) properties={'assigner': 'cna@sap.com', 'id': 'CVE-2023-0018'}>>, <Record cve1=<Node element_id='4:de342d72-e7ff-4d5b-9a28-99eaa381965b:0' labels=frozenset({'CVE'}) properties={'assigner': 'cna@sap.com', 'id': 'CVE-2023-0012'}> cve2=<Node element_id='4:de342d72-e7ff-4d5b-9a28-99eaa381965b:5' labels=frozenset({'CVE'}) properties={'assigner': 'cna@sap.com', 'id': 'CVE-2023-0017'}> Entities=<Node element_id='4:de342d72-e7ff-4d5b-9a28-99eaa381965b:9' labels=frozenset({'CVE'}) properties={'assigner': 'security@huntr.dev', 'id': 'CVE-2023-0028'}>>, <Record cve1=<Node element_id='4:de342d72-e7ff-4d5b-9a28-99eaa381965b:0' labels=frozenset({'CVE'}) properties={'assigner': 'cna@sap.com', 'id': 'CVE-2023-0012'}> cve2=<Node element_id='4:de342d72-e7ff-4d5b-9a28-99eaa381965b:5' labels=frozenset({'CVE'}) properties={'assigner': 'cna@sap.com', 'id': 'CVE-2023-0017'}> Entities=<Node element_id='4:de342d72-e7ff-4d5b-9a28-99eaa381965b:9' labels=frozenset({'CVE'}) properties={'assigner': 'security@huntr.dev', 'id': 'CVE-2023-0028'}>>, <Record cve1=<Node element_id='4:de342d72-e7ff-4d5b-9a28-99eaa381965b:0' labels=frozenset({'CVE'}) properties={'assigner': 'cna@sap.com', 'id': 'CVE-2023-0012'}> cve2=<Node element_id='4:de342d72-e7ff-4d5b-9a28-99eaa381965b:5' labels=frozenset({'CVE'}) properties={'assigner': 'cna@sap.com', 'id': 'CVE-2023-0017'}> Entities=<Node element_id='4:de342d72-e7ff-4d5b-9a28-99eaa381965b:3' labels=frozenset({'CVE'}) properties={'assigner': 'cna@sap.com', 'id': 'CVE-2023-0015'}>>, <Record cve1=<Node element_id='4:de342d72-e7ff-4d5b-9a28-99eaa381965b:0' labels=frozenset({'CVE'}) properties={'assigner': 'cna@sap.com', 'id': 'CVE-2023-0012'}> cve2=<Node element_id='4:de342d72-e7ff-4d5b-9a28-99eaa381965b:5' labels=frozenset({'CVE'}) properties={'assigner': 'cna@sap.com', 'id': 'CVE-2023-0017'}> Entities=<Node element_id='4:de342d72-e7ff-4d5b-9a28-99eaa381965b:3' labels=frozenset({'CVE'}) properties={'assigner': 'cna@sap.com', 'id': 'CVE-2023-0015'}>>, <Record cve1=<Node element_id='4:de342d72-e7ff-4d5b-9a28-99eaa381965b:0' labels=frozenset({'CVE'}) properties={'assigner': 'cna@sap.com', 'id': 'CVE-2023-0012'}> cve2=<Node element_id='4:de342d72-e7ff-4d5b-9a28-99eaa381965b:5' labels=frozenset({'CVE'}) properties={'assigner': 'cna@sap.com', 'id': 'CVE-2023-0017'}> Entities=<Node element_id='4:de342d72-e7ff-4d5b-9a28-99eaa381965b:1' labels=frozenset({'CVE'}) properties={'assigner': 'cna@sap.com', 'id': 'CVE-2023-0013'}>>, <Record cve1=<Node element_id='4:de342d72-e7ff-4d5b-9a28-99eaa381965b:0' labels=frozenset({'CVE'}) properties={'assigner': 'cna@sap.com', 'id': 'CVE-2023-0012'}> cve2=<Node element_id='4:de342d72-e7ff-4d5b-9a28-99eaa381965b:5' labels=frozenset({'CVE'}) properties={'assigner': 'cna@sap.com', 'id': 'CVE-2023-0017'}> Entities=<Node element_id='4:de342d72-e7ff-4d5b-9a28-99eaa381965b:1' labels=frozenset({'CVE'}) properties={'assigner': 'cna@sap.com', 'id': 'CVE-2023-0013'}>>, <Record cve1=<Node element_id='4:de342d72-e7ff-4d5b-9a28-99eaa381965b:0' labels=frozenset({'CVE'}) properties={'assigner': 'cna@sap.com', 'id': 'CVE-2023-0012'}> cve2=<Node element_id='4:de342d72-e7ff-4d5b-9a28-99eaa381965b:5' labels=frozenset({'CVE'}) properties={'assigner': 'cna@sap.com', 'id': 'CVE-2023-0017'}> Entities=<Node element_id='4:de342d72-e7ff-4d5b-9a28-99eaa381965b:6' labels=frozenset({'CVE'}) properties={'assigner': 'cna@sap.com', 'id': 'CVE-2023-0018'}>>, <Record cve1=<Node element_id='4:de342d72-e7ff-4d5b-9a28-99eaa381965b:0' labels=frozenset({'CVE'}) properties={'assigner': 'cna@sap.com', 'id': 'CVE-2023-0012'}> cve2=<Node element_id='4:de342d72-e7ff-4d5b-9a28-99eaa381965b:5' labels=frozenset({'CVE'}) properties={'assigner': 'cna@sap.com', 'id': 'CVE-2023-0017'}> Entities=<Node element_id='4:de342d72-e7ff-4d5b-9a28-99eaa381965b:6' labels=frozenset({'CVE'}) properties={'assigner': 'cna@sap.com', 'id': 'CVE-2023-0018'}>>, <Record cve1=<Node element_id='4:de342d72-e7ff-4d5b-9a28-99eaa381965b:0' labels=frozenset({'CVE'}) properties={'assigner': 'cna@sap.com', 'id': 'CVE-2023-0012'}> cve2=<Node element_id='4:de342d72-e7ff-4d5b-9a28-99eaa381965b:5' labels=frozenset({'CVE'}) properties={'assigner': 'cna@sap.com', 'id': 'CVE-2023-0017'}> Entities=<Node element_id='4:de342d72-e7ff-4d5b-9a28-99eaa381965b:9' labels=frozenset({'CVE'}) properties={'assigner': 'security@huntr.dev', 'id': 'CVE-2023-0028'}>>, <Record cve1=<Node element_id='4:de342d72-e7ff-4d5b-9a28-99eaa381965b:0' labels=frozenset({'CVE'}) properties={'assigner': 'cna@sap.com', 'id': 'CVE-2023-0012'}> cve2=<Node element_id='4:de342d72-e7ff-4d5b-9a28-99eaa381965b:5' labels=frozenset({'CVE'}) properties={'assigner': 'cna@sap.com', 'id': 'CVE-2023-0017'}> Entities=<Node element_id='4:de342d72-e7ff-4d5b-9a28-99eaa381965b:9' labels=frozenset({'CVE'}) properties={'assigner': 'security@huntr.dev', 'id': 'CVE-2023-0028'}>>, <Record cve1=<Node element_id='4:de342d72-e7ff-4d5b-9a28-99eaa381965b:0' labels=frozenset({'CVE'}) properties={'assigner': 'cna@sap.com', 'id': 'CVE-2023-0012'}> cve2=<Node element_id='4:de342d72-e7ff-4d5b-9a28-99eaa381965b:5' labels=frozenset({'CVE'}) properties={'assigner': 'cna@sap.com', 'id': 'CVE-2023-0017'}> Entities=<Node element_id='4:de342d72-e7ff-4d5b-9a28-99eaa381965b:3' labels=frozenset({'CVE'}) properties={'assigner': 'cna@sap.com', 'id': 'CVE-2023-0015'}>>, <Record cve1=<Node element_id='4:de342d72-e7ff-4d5b-9a28-99eaa381965b:0' labels=frozenset({'CVE'}) properties={'assigner': 'cna@sap.com', 'id': 'CVE-2023-0012'}> cve2=<Node element_id='4:de342d72-e7ff-4d5b-9a28-99eaa381965b:5' labels=frozenset({'CVE'}) properties={'assigner': 'cna@sap.com', 'id': 'CVE-2023-0017'}> Entities=<Node element_id='4:de342d72-e7ff-4d5b-9a28-99eaa381965b:3' labels=frozenset({'CVE'}) properties={'assigner': 'cna@sap.com', 'id': 'CVE-2023-0015'}>>, <Record cve1=<Node element_id='4:de342d72-e7ff-4d5b-9a28-99eaa381965b:0' labels=frozenset({'CVE'}) properties={'assigner': 'cna@sap.com', 'id': 'CVE-2023-0012'}> cve2=<Node element_id='4:de342d72-e7ff-4d5b-9a28-99eaa381965b:5' labels=frozenset({'CVE'}) properties={'assigner': 'cna@sap.com', 'id': 'CVE-2023-0017'}> Entities=<Node element_id='4:de342d72-e7ff-4d5b-9a28-99eaa381965b:1' labels=frozenset({'CVE'}) properties={'assigner': 'cna@sap.com', 'id': 'CVE-2023-0013'}>>, <Record cve1=<Node element_id='4:de342d72-e7ff-4d5b-9a28-99eaa381965b:0' labels=frozenset({'CVE'}) properties={'assigner': 'cna@sap.com', 'id': 'CVE-2023-0012'}> cve2=<Node element_id='4:de342d72-e7ff-4d5b-9a28-99eaa381965b:5' labels=frozenset({'CVE'}) properties={'assigner': 'cna@sap.com', 'id': 'CVE-2023-0017'}> Entities=<Node element_id='4:de342d72-e7ff-4d5b-9a28-99eaa381965b:1' labels=frozenset({'CVE'}) properties={'assigner': 'cna@sap.com', 'id': 'CVE-2023-0013'}>>, <Record cve1=<Node element_id='4:de342d72-e7ff-4d5b-9a28-99eaa381965b:0' labels=frozenset({'CVE'}) properties={'assigner': 'cna@sap.com', 'id': 'CVE-2023-0012'}> cve2=<Node element_id='4:de342d72-e7ff-4d5b-9a28-99eaa381965b:5' labels=frozenset({'CVE'}) properties={'assigner': 'cna@sap.com', 'id': 'CVE-2023-0017'}> Entities=<Node element_id='4:de342d72-e7ff-4d5b-9a28-99eaa381965b:6' labels=frozenset({'CVE'}) properties={'assigner': 'cna@sap.com', 'id': 'CVE-2023-0018'}>>, <Record cve1=<Node element_id='4:de342d72-e7ff-4d5b-9a28-99eaa381965b:0' labels=frozenset({'CVE'}) properties={'assigner': 'cna@sap.com', 'id': 'CVE-2023-0012'}> cve2=<Node element_id='4:de342d72-e7ff-4d5b-9a28-99eaa381965b:5' labels=frozenset({'CVE'}) properties={'assigner': 'cna@sap.com', 'id': 'CVE-2023-0017'}> Entities=<Node element_id='4:de342d72-e7ff-4d5b-9a28-99eaa381965b:6' labels=frozenset({'CVE'}) properties={'assigner': 'cna@sap.com', 'id': 'CVE-2023-0018'}>>, <Record cve1=<Node element_id='4:de342d72-e7ff-4d5b-9a28-99eaa381965b:0' labels=frozenset({'CVE'}) properties={'assigner': 'cna@sap.com', 'id': 'CVE-2023-0012'}> cve2=<Node element_id='4:de342d72-e7ff-4d5b-9a28-99eaa381965b:5' labels=frozenset({'CVE'}) properties={'assigner': 'cna@sap.com', 'id': 'CVE-2023-0017'}> Entities=<Node element_id='4:de342d72-e7ff-4d5b-9a28-99eaa381965b:9' labels=frozenset({'CVE'}) properties={'assigner': 'security@huntr.dev', 'id': 'CVE-2023-0028'}>>, <Record cve1=<Node element_id='4:de342d72-e7ff-4d5b-9a28-99eaa381965b:0' labels=frozenset({'CVE'}) properties={'assigner': 'cna@sap.com', 'id': 'CVE-2023-0012'}> cve2=<Node element_id='4:de342d72-e7ff-4d5b-9a28-99eaa381965b:5' labels=frozenset({'CVE'}) properties={'assigner': 'cna@sap.com', 'id': 'CVE-2023-0017'}> Entities=<Node element_id='4:de342d72-e7ff-4d5b-9a28-99eaa381965b:9' labels=frozenset({'CVE'}) properties={'assigner': 'security@huntr.dev', 'id': 'CVE-2023-0028'}>>, <Record cve1=<Node element_id='4:de342d72-e7ff-4d5b-9a28-99eaa381965b:0' labels=frozenset({'CVE'}) properties={'assigner': 'cna@sap.com', 'id': 'CVE-2023-0012'}> cve2=<Node element_id='4:de342d72-e7ff-4d5b-9a28-99eaa381965b:5' labels=frozenset({'CVE'}) properties={'assigner': 'cna@sap.com', 'id': 'CVE-2023-0017'}> Entities=<Node element_id='4:de342d72-e7ff-4d5b-9a28-99eaa381965b:3' labels=frozenset({'CVE'}) properties={'assigner': 'cna@sap.com', 'id': 'CVE-2023-0015'}>>, <Record cve1=<Node element_id='4:de342d72-e7ff-4d5b-9a28-99eaa381965b:0' labels=frozenset({'CVE'}) properties={'assigner': 'cna@sap.com', 'id': 'CVE-2023-0012'}> cve2=<Node element_id='4:de342d72-e7ff-4d5b-9a28-99eaa381965b:5' labels=frozenset({'CVE'}) properties={'assigner': 'cna@sap.com', 'id': 'CVE-2023-0017'}> Entities=<Node element_id='4:de342d72-e7ff-4d5b-9a28-99eaa381965b:3' labels=frozenset({'CVE'}) properties={'assigner': 'cna@sap.com', 'id': 'CVE-2023-0015'}>>, <Record cve1=<Node element_id='4:de342d72-e7ff-4d5b-9a28-99eaa381965b:0' labels=frozenset({'CVE'}) properties={'assigner': 'cna@sap.com', 'id': 'CVE-2023-0012'}> cve2=<Node element_id='4:de342d72-e7ff-4d5b-9a28-99eaa381965b:5' labels=frozenset({'CVE'}) properties={'assigner': 'cna@sap.com', 'id': 'CVE-2023-0017'}> Entities=<Node element_id='4:de342d72-e7ff-4d5b-9a28-99eaa381965b:1' labels=frozenset({'CVE'}) properties={'assigner': 'cna@sap.com', 'id': 'CVE-2023-0013'}>>, <Record cve1=<Node element_id='4:de342d72-e7ff-4d5b-9a28-99eaa381965b:0' labels=frozenset({'CVE'}) properties={'assigner': 'cna@sap.com', 'id': 'CVE-2023-0012'}> cve2=<Node element_id='4:de342d72-e7ff-4d5b-9a28-99eaa381965b:5' labels=frozenset({'CVE'}) properties={'assigner': 'cna@sap.com', 'id': 'CVE-2023-0017'}> Entities=<Node element_id='4:de342d72-e7ff-4d5b-9a28-99eaa381965b:1' labels=frozenset({'CVE'}) properties={'assigner': 'cna@sap.com', 'id': 'CVE-2023-0013'}>>, <Record cve1=<Node element_id='4:de342d72-e7ff-4d5b-9a28-99eaa381965b:0' labels=frozenset({'CVE'}) properties={'assigner': 'cna@sap.com', 'id': 'CVE-2023-0012'}> cve2=<Node element_id='4:de342d72-e7ff-4d5b-9a28-99eaa381965b:5' labels=frozenset({'CVE'}) properties={'assigner': 'cna@sap.com', 'id': 'CVE-2023-0017'}> Entities=<Node element_id='4:de342d72-e7ff-4d5b-9a28-99eaa381965b:6' labels=frozenset({'CVE'}) properties={'assigner': 'cna@sap.com', 'id': 'CVE-2023-0018'}>>, <Record cve1=<Node element_id='4:de342d72-e7ff-4d5b-9a28-99eaa381965b:0' labels=frozenset({'CVE'}) properties={'assigner': 'cna@sap.com', 'id': 'CVE-2023-0012'}> cve2=<Node element_id='4:de342d72-e7ff-4d5b-9a28-99eaa381965b:5' labels=frozenset({'CVE'}) properties={'assigner': 'cna@sap.com', 'id': 'CVE-2023-0017'}> Entities=<Node element_id='4:de342d72-e7ff-4d5b-9a28-99eaa381965b:6' labels=frozenset({'CVE'}) properties={'assigner': 'cna@sap.com', 'id': 'CVE-2023-0018'}>>, <Record cve1=<Node element_id='4:de342d72-e7ff-4d5b-9a28-99eaa381965b:0' labels=frozenset({'CVE'}) properties={'assigner': 'cna@sap.com', 'id': 'CVE-2023-0012'}> cve2=<Node element_id='4:de342d72-e7ff-4d5b-9a28-99eaa381965b:5' labels=frozenset({'CVE'}) properties={'assigner': 'cna@sap.com', 'id': 'CVE-2023-0017'}> Entities=<Node element_id='4:de342d72-e7ff-4d5b-9a28-99eaa381965b:9' labels=frozenset({'CVE'}) properties={'assigner': 'security@huntr.dev', 'id': 'CVE-2023-0028'}>>, <Record cve1=<Node element_id='4:de342d72-e7ff-4d5b-9a28-99eaa381965b:0' labels=frozenset({'CVE'}) properties={'assigner': 'cna@sap.com', 'id': 'CVE-2023-0012'}> cve2=<Node element_id='4:de342d72-e7ff-4d5b-9a28-99eaa381965b:5' labels=frozenset({'CVE'}) properties={'assigner': 'cna@sap.com', 'id': 'CVE-2023-0017'}> Entities=<Node element_id='4:de342d72-e7ff-4d5b-9a28-99eaa381965b:9' labels=frozenset({'CVE'}) properties={'assigner': 'security@huntr.dev', 'id': 'CVE-2023-0028'}>>, <Record cve1=<Node element_id='4:de342d72-e7ff-4d5b-9a28-99eaa381965b:0' labels=frozenset({'CVE'}) properties={'assigner': 'cna@sap.com', 'id': 'CVE-2023-0012'}> cve2=<Node element_id='4:de342d72-e7ff-4d5b-9a28-99eaa381965b:5' labels=frozenset({'CVE'}) properties={'assigner': 'cna@sap.com', 'id': 'CVE-2023-0017'}> Entities=<Node element_id='4:de342d72-e7ff-4d5b-9a28-99eaa381965b:3' labels=frozenset({'CVE'}) properties={'assigner': 'cna@sap.com', 'id': 'CVE-2023-0015'}>>, <Record cve1=<Node element_id='4:de342d72-e7ff-4d5b-9a28-99eaa381965b:0' labels=frozenset({'CVE'}) properties={'assigner': 'cna@sap.com', 'id': 'CVE-2023-0012'}> cve2=<Node element_id='4:de342d72-e7ff-4d5b-9a28-99eaa381965b:5' labels=frozenset({'CVE'}) properties={'assigner': 'cna@sap.com', 'id': 'CVE-2023-0017'}> Entities=<Node element_id='4:de342d72-e7ff-4d5b-9a28-99eaa381965b:3' labels=frozenset({'CVE'}) properties={'assigner': 'cna@sap.com', 'id': 'CVE-2023-0015'}>>, <Record cve1=<Node element_id='4:de342d72-e7ff-4d5b-9a28-99eaa381965b:0' labels=frozenset({'CVE'}) properties={'assigner': 'cna@sap.com', 'id': 'CVE-2023-0012'}> cve2=<Node element_id='4:de342d72-e7ff-4d5b-9a28-99eaa381965b:5' labels=frozenset({'CVE'}) properties={'assigner': 'cna@sap.com', 'id': 'CVE-2023-0017'}> Entities=<Node element_id='4:de342d72-e7ff-4d5b-9a28-99eaa381965b:1' labels=frozenset({'CVE'}) properties={'assigner': 'cna@sap.com', 'id': 'CVE-2023-0013'}>>, <Record cve1=<Node element_id='4:de342d72-e7ff-4d5b-9a28-99eaa381965b:0' labels=frozenset({'CVE'}) properties={'assigner': 'cna@sap.com', 'id': 'CVE-2023-0012'}> cve2=<Node element_id='4:de342d72-e7ff-4d5b-9a28-99eaa381965b:5' labels=frozenset({'CVE'}) properties={'assigner': 'cna@sap.com', 'id': 'CVE-2023-0017'}> Entities=<Node element_id='4:de342d72-e7ff-4d5b-9a28-99eaa381965b:1' labels=frozenset({'CVE'}) properties={'assigner': 'cna@sap.com', 'id': 'CVE-2023-0013'}>>, <Record cve1=<Node element_id='4:de342d72-e7ff-4d5b-9a28-99eaa381965b:0' labels=frozenset({'CVE'}) properties={'assigner': 'cna@sap.com', 'id': 'CVE-2023-0012'}> cve2=<Node element_id='4:de342d72-e7ff-4d5b-9a28-99eaa381965b:5' labels=frozenset({'CVE'}) properties={'assigner': 'cna@sap.com', 'id': 'CVE-2023-0017'}> Entities=<Node element_id='4:de342d72-e7ff-4d5b-9a28-99eaa381965b:4' labels=frozenset({'CVE'}) properties={'assigner': 'cna@sap.com', 'id': 'CVE-2023-0016'}>>, <Record cve1=<Node element_id='4:de342d72-e7ff-4d5b-9a28-99eaa381965b:0' labels=frozenset({'CVE'}) properties={'assigner': 'cna@sap.com', 'id': 'CVE-2023-0012'}> cve2=<Node element_id='4:de342d72-e7ff-4d5b-9a28-99eaa381965b:5' labels=frozenset({'CVE'}) properties={'assigner': 'cna@sap.com', 'id': 'CVE-2023-0017'}> Entities=<Node element_id='4:de342d72-e7ff-4d5b-9a28-99eaa381965b:167' labels=frozenset({'Entities'}) properties={'wikipediaExternalRef': 241154, 'wikidataId': 'Q371199', 'confidence_score': 0.719, 'offsetStart': 0, 'offsetEnd': 20, 'rawName': 'Cross-site scripting'}>>, <Record cve1=<Node element_id='4:de342d72-e7ff-4d5b-9a28-99eaa381965b:0' labels=frozenset({'CVE'}) properties={'assigner': 'cna@sap.com', 'id': 'CVE-2023-0012'}> cve2=<Node element_id='4:de342d72-e7ff-4d5b-9a28-99eaa381965b:5' labels=frozenset({'CVE'}) properties={'assigner': 'cna@sap.com', 'id': 'CVE-2023-0017'}> Entities=<Node element_id='4:de342d72-e7ff-4d5b-9a28-99eaa381965b:167' labels=frozenset({'Entities'}) properties={'wikipediaExternalRef': 241154, 'wikidataId': 'Q371199', 'confidence_score': 0.719, 'offsetStart': 0, 'offsetEnd': 20, 'rawName': 'Cross-site scripting'}>>, <Record cve1=<Node element_id='4:de342d72-e7ff-4d5b-9a28-99eaa381965b:0' labels=frozenset({'CVE'}) properties={'assigner': 'cna@sap.com', 'id': 'CVE-2023-0012'}> cve2=<Node element_id='4:de342d72-e7ff-4d5b-9a28-99eaa381965b:5' labels=frozenset({'CVE'}) properties={'assigner': 'cna@sap.com', 'id': 'CVE-2023-0017'}> Entities=<Node element_id='4:de342d72-e7ff-4d5b-9a28-99eaa381965b:167' labels=frozenset({'Entities'}) properties={'wikipediaExternalRef': 241154, 'wikidataId': 'Q371199', 'confidence_score': 0.719, 'offsetStart': 0, 'offsetEnd': 20, 'rawName': 'Cross-site scripting'}>>, <Record cve1=<Node element_id='4:de342d72-e7ff-4d5b-9a28-99eaa381965b:0' labels=frozenset({'CVE'}) properties={'assigner': 'cna@sap.com', 'id': 'CVE-2023-0012'}> cve2=<Node element_id='4:de342d72-e7ff-4d5b-9a28-99eaa381965b:5' labels=frozenset({'CVE'}) properties={'assigner': 'cna@sap.com', 'id': 'CVE-2023-0017'}> Entities=<Node element_id='4:de342d72-e7ff-4d5b-9a28-99eaa381965b:167' labels=frozenset({'Entities'}) properties={'wikipediaExternalRef': 241154, 'wikidataId': 'Q371199', 'confidence_score': 0.719, 'offsetStart': 0, 'offsetEnd': 20, 'rawName': 'Cross-site scripting'}>>, <Record cve1=<Node element_id='4:de342d72-e7ff-4d5b-9a28-99eaa381965b:0' labels=frozenset({'CVE'}) properties={'assigner': 'cna@sap.com', 'id': 'CVE-2023-0012'}> cve2=<Node element_id='4:de342d72-e7ff-4d5b-9a28-99eaa381965b:5' labels=frozenset({'CVE'}) properties={'assigner': 'cna@sap.com', 'id': 'CVE-2023-0017'}> Entities=<Node element_id='4:de342d72-e7ff-4d5b-9a28-99eaa381965b:262' labels=frozenset({'Entities'}) properties={'wikipediaExternalRef': 526999, 'wikidataId': 'Q506059', 'confidence_score': 0.9162, 'offsetStart': 1041, 'offsetEnd': 1054, 'rawName': 'SQL injection'}>>, <Record cve1=<Node element_id='4:de342d72-e7ff-4d5b-9a28-99eaa381965b:5' labels=frozenset({'CVE'}) properties={'assigner': 'cna@sap.com', 'id': 'CVE-2023-0017'}> cve2=<Node element_id='4:de342d72-e7ff-4d5b-9a28-99eaa381965b:8' labels=frozenset({'CVE'}) properties={'assigner': 'cna@sap.com', 'id': 'CVE-2023-0023'}> Entities=<Node element_id='4:de342d72-e7ff-4d5b-9a28-99eaa381965b:6' labels=frozenset({'CVE'}) properties={'assigner': 'cna@sap.com', 'id': 'CVE-2023-0018'}>>, <Record cve1=<Node element_id='4:de342d72-e7ff-4d5b-9a28-99eaa381965b:5' labels=frozenset({'CVE'}) properties={'assigner': 'cna@sap.com', 'id': 'CVE-2023-0017'}> cve2=<Node element_id='4:de342d72-e7ff-4d5b-9a28-99eaa381965b:8' labels=frozenset({'CVE'}) properties={'assigner': 'cna@sap.com', 'id': 'CVE-2023-0023'}> Entities=<Node element_id='4:de342d72-e7ff-4d5b-9a28-99eaa381965b:9' labels=frozenset({'CVE'}) properties={'assigner': 'security@huntr.dev', 'id': 'CVE-2023-0028'}>>, <Record cve1=<Node element_id='4:de342d72-e7ff-4d5b-9a28-99eaa381965b:5' labels=frozenset({'CVE'}) properties={'assigner': 'cna@sap.com', 'id': 'CVE-2023-0017'}> cve2=<Node element_id='4:de342d72-e7ff-4d5b-9a28-99eaa381965b:8' labels=frozenset({'CVE'}) properties={'assigner': 'cna@sap.com', 'id': 'CVE-2023-0023'}> Entities=<Node element_id='4:de342d72-e7ff-4d5b-9a28-99eaa381965b:3' labels=frozenset({'CVE'}) properties={'assigner': 'cna@sap.com', 'id': 'CVE-2023-0015'}>>, <Record cve1=<Node element_id='4:de342d72-e7ff-4d5b-9a28-99eaa381965b:5' labels=frozenset({'CVE'}) properties={'assigner': 'cna@sap.com', 'id': 'CVE-2023-0017'}> cve2=<Node element_id='4:de342d72-e7ff-4d5b-9a28-99eaa381965b:8' labels=frozenset({'CVE'}) properties={'assigner': 'cna@sap.com', 'id': 'CVE-2023-0023'}> Entities=<Node element_id='4:de342d72-e7ff-4d5b-9a28-99eaa381965b:1' labels=frozenset({'CVE'}) properties={'assigner': 'cna@sap.com', 'id': 'CVE-2023-0013'}>>, <Record cve1=<Node element_id='4:de342d72-e7ff-4d5b-9a28-99eaa381965b:5' labels=frozenset({'CVE'}) properties={'assigner': 'cna@sap.com', 'id': 'CVE-2023-0017'}> cve2=<Node element_id='4:de342d72-e7ff-4d5b-9a28-99eaa381965b:8' labels=frozenset({'CVE'}) properties={'assigner': 'cna@sap.com', 'id': 'CVE-2023-0023'}> Entities=<Node element_id='4:de342d72-e7ff-4d5b-9a28-99eaa381965b:7' labels=frozenset({'CVE'}) properties={'assigner': 'cna@sap.com', 'id': 'CVE-2023-0022'}>>, <Record cve1=<Node element_id='4:de342d72-e7ff-4d5b-9a28-99eaa381965b:5' labels=frozenset({'CVE'}) properties={'assigner': 'cna@sap.com', 'id': 'CVE-2023-0017'}> cve2=<Node element_id='4:de342d72-e7ff-4d5b-9a28-99eaa381965b:8' labels=frozenset({'CVE'}) properties={'assigner': 'cna@sap.com', 'id': 'CVE-2023-0023'}> Entities=<Node element_id='4:de342d72-e7ff-4d5b-9a28-99eaa381965b:7' labels=frozenset({'CVE'}) properties={'assigner': 'cna@sap.com', 'id': 'CVE-2023-0022'}>>, <Record cve1=<Node element_id='4:de342d72-e7ff-4d5b-9a28-99eaa381965b:5' labels=frozenset({'CVE'}) properties={'assigner': 'cna@sap.com', 'id': 'CVE-2023-0017'}> cve2=<Node element_id='4:de342d72-e7ff-4d5b-9a28-99eaa381965b:8' labels=frozenset({'CVE'}) properties={'assigner': 'cna@sap.com', 'id': 'CVE-2023-0023'}> Entities=<Node element_id='4:de342d72-e7ff-4d5b-9a28-99eaa381965b:2' labels=frozenset({'CVE'}) properties={'assigner': 'cna@sap.com', 'id': 'CVE-2023-0014'}>>, <Record cve1=<Node element_id='4:de342d72-e7ff-4d5b-9a28-99eaa381965b:5' labels=frozenset({'CVE'}) properties={'assigner': 'cna@sap.com', 'id': 'CVE-2023-0017'}> cve2=<Node element_id='4:de342d72-e7ff-4d5b-9a28-99eaa381965b:8' labels=frozenset({'CVE'}) properties={'assigner': 'cna@sap.com', 'id': 'CVE-2023-0023'}> Entities=<Node element_id='4:de342d72-e7ff-4d5b-9a28-99eaa381965b:6' labels=frozenset({'CVE'}) properties={'assigner': 'cna@sap.com', 'id': 'CVE-2023-0018'}>>, <Record cve1=<Node element_id='4:de342d72-e7ff-4d5b-9a28-99eaa381965b:5' labels=frozenset({'CVE'}) properties={'assigner': 'cna@sap.com', 'id': 'CVE-2023-0017'}> cve2=<Node element_id='4:de342d72-e7ff-4d5b-9a28-99eaa381965b:8' labels=frozenset({'CVE'}) properties={'assigner': 'cna@sap.com', 'id': 'CVE-2023-0023'}> Entities=<Node element_id='4:de342d72-e7ff-4d5b-9a28-99eaa381965b:9' labels=frozenset({'CVE'}) properties={'assigner': 'security@huntr.dev', 'id': 'CVE-2023-0028'}>>, <Record cve1=<Node element_id='4:de342d72-e7ff-4d5b-9a28-99eaa381965b:5' labels=frozenset({'CVE'}) properties={'assigner': 'cna@sap.com', 'id': 'CVE-2023-0017'}> cve2=<Node element_id='4:de342d72-e7ff-4d5b-9a28-99eaa381965b:8' labels=frozenset({'CVE'}) properties={'assigner': 'cna@sap.com', 'id': 'CVE-2023-0023'}> Entities=<Node element_id='4:de342d72-e7ff-4d5b-9a28-99eaa381965b:3' labels=frozenset({'CVE'}) properties={'assigner': 'cna@sap.com', 'id': 'CVE-2023-0015'}>>, <Record cve1=<Node element_id='4:de342d72-e7ff-4d5b-9a28-99eaa381965b:5' labels=frozenset({'CVE'}) properties={'assigner': 'cna@sap.com', 'id': 'CVE-2023-0017'}> cve2=<Node element_id='4:de342d72-e7ff-4d5b-9a28-99eaa381965b:8' labels=frozenset({'CVE'}) properties={'assigner': 'cna@sap.com', 'id': 'CVE-2023-0023'}> Entities=<Node element_id='4:de342d72-e7ff-4d5b-9a28-99eaa381965b:1' labels=frozenset({'CVE'}) properties={'assigner': 'cna@sap.com', 'id': 'CVE-2023-0013'}>>, <Record cve1=<Node element_id='4:de342d72-e7ff-4d5b-9a28-99eaa381965b:5' labels=frozenset({'CVE'}) properties={'assigner': 'cna@sap.com', 'id': 'CVE-2023-0017'}> cve2=<Node element_id='4:de342d72-e7ff-4d5b-9a28-99eaa381965b:8' labels=frozenset({'CVE'}) properties={'assigner': 'cna@sap.com', 'id': 'CVE-2023-0023'}> Entities=<Node element_id='4:de342d72-e7ff-4d5b-9a28-99eaa381965b:8' labels=frozenset({'CVE'}) properties={'assigner': 'cna@sap.com', 'id': 'CVE-2023-0023'}>>, <Record cve1=<Node element_id='4:de342d72-e7ff-4d5b-9a28-99eaa381965b:5' labels=frozenset({'CVE'}) properties={'assigner': 'cna@sap.com', 'id': 'CVE-2023-0017'}> cve2=<Node element_id='4:de342d72-e7ff-4d5b-9a28-99eaa381965b:8' labels=frozenset({'CVE'}) properties={'assigner': 'cna@sap.com', 'id': 'CVE-2023-0023'}> Entities=<Node element_id='4:de342d72-e7ff-4d5b-9a28-99eaa381965b:0' labels=frozenset({'CVE'}) properties={'assigner': 'cna@sap.com', 'id': 'CVE-2023-0012'}>>, <Record cve1=<Node element_id='4:de342d72-e7ff-4d5b-9a28-99eaa381965b:5' labels=frozenset({'CVE'}) properties={'assigner': 'cna@sap.com', 'id': 'CVE-2023-0017'}> cve2=<Node element_id='4:de342d72-e7ff-4d5b-9a28-99eaa381965b:8' labels=frozenset({'CVE'}) properties={'assigner': 'cna@sap.com', 'id': 'CVE-2023-0023'}> Entities=<Node element_id='4:de342d72-e7ff-4d5b-9a28-99eaa381965b:5' labels=frozenset({'CVE'}) properties={'assigner': 'cna@sap.com', 'id': 'CVE-2023-0017'}>>, <Record cve1=<Node element_id='4:de342d72-e7ff-4d5b-9a28-99eaa381965b:5' labels=frozenset({'CVE'}) properties={'assigner': 'cna@sap.com', 'id': 'CVE-2023-0017'}> cve2=<Node element_id='4:de342d72-e7ff-4d5b-9a28-99eaa381965b:8' labels=frozenset({'CVE'}) properties={'assigner': 'cna@sap.com', 'id': 'CVE-2023-0023'}> Entities=<Node element_id='4:de342d72-e7ff-4d5b-9a28-99eaa381965b:0' labels=frozenset({'CVE'}) properties={'assigner': 'cna@sap.com', 'id': 'CVE-2023-0012'}>>, <Record cve1=<Node element_id='4:de342d72-e7ff-4d5b-9a28-99eaa381965b:5' labels=frozenset({'CVE'}) properties={'assigner': 'cna@sap.com', 'id': 'CVE-2023-0017'}> cve2=<Node element_id='4:de342d72-e7ff-4d5b-9a28-99eaa381965b:8' labels=frozenset({'CVE'}) properties={'assigner': 'cna@sap.com', 'id': 'CVE-2023-0023'}> Entities=<Node element_id='4:de342d72-e7ff-4d5b-9a28-99eaa381965b:0' labels=frozenset({'CVE'}) properties={'assigner': 'cna@sap.com', 'id': 'CVE-2023-0012'}>>, <Record cve1=<Node element_id='4:de342d72-e7ff-4d5b-9a28-99eaa381965b:5' labels=frozenset({'CVE'}) properties={'assigner': 'cna@sap.com', 'id': 'CVE-2023-0017'}> cve2=<Node element_id='4:de342d72-e7ff-4d5b-9a28-99eaa381965b:8' labels=frozenset({'CVE'}) properties={'assigner': 'cna@sap.com', 'id': 'CVE-2023-0023'}> Entities=<Node element_id='4:de342d72-e7ff-4d5b-9a28-99eaa381965b:5' labels=frozenset({'CVE'}) properties={'assigner': 'cna@sap.com', 'id': 'CVE-2023-0017'}>>, <Record cve1=<Node element_id='4:de342d72-e7ff-4d5b-9a28-99eaa381965b:5' labels=frozenset({'CVE'}) properties={'assigner': 'cna@sap.com', 'id': 'CVE-2023-0017'}> cve2=<Node element_id='4:de342d72-e7ff-4d5b-9a28-99eaa381965b:8' labels=frozenset({'CVE'}) properties={'assigner': 'cna@sap.com', 'id': 'CVE-2023-0023'}> Entities=<Node element_id='4:de342d72-e7ff-4d5b-9a28-99eaa381965b:5' labels=frozenset({'CVE'}) properties={'assigner': 'cna@sap.com', 'id': 'CVE-2023-0017'}>>, <Record cve1=<Node element_id='4:de342d72-e7ff-4d5b-9a28-99eaa381965b:5' labels=frozenset({'CVE'}) properties={'assigner': 'cna@sap.com', 'id': 'CVE-2023-0017'}> cve2=<Node element_id='4:de342d72-e7ff-4d5b-9a28-99eaa381965b:8' labels=frozenset({'CVE'}) properties={'assigner': 'cna@sap.com', 'id': 'CVE-2023-0023'}> Entities=<Node element_id='4:de342d72-e7ff-4d5b-9a28-99eaa381965b:6' labels=frozenset({'CVE'}) properties={'assigner': 'cna@sap.com', 'id': 'CVE-2023-0018'}>>, <Record cve1=<Node element_id='4:de342d72-e7ff-4d5b-9a28-99eaa381965b:5' labels=frozenset({'CVE'}) properties={'assigner': 'cna@sap.com', 'id': 'CVE-2023-0017'}> cve2=<Node element_id='4:de342d72-e7ff-4d5b-9a28-99eaa381965b:8' labels=frozenset({'CVE'}) properties={'assigner': 'cna@sap.com', 'id': 'CVE-2023-0023'}> Entities=<Node element_id='4:de342d72-e7ff-4d5b-9a28-99eaa381965b:6' labels=frozenset({'CVE'}) properties={'assigner': 'cna@sap.com', 'id': 'CVE-2023-0018'}>>, <Record cve1=<Node element_id='4:de342d72-e7ff-4d5b-9a28-99eaa381965b:5' labels=frozenset({'CVE'}) properties={'assigner': 'cna@sap.com', 'id': 'CVE-2023-0017'}> cve2=<Node element_id='4:de342d72-e7ff-4d5b-9a28-99eaa381965b:8' labels=frozenset({'CVE'}) properties={'assigner': 'cna@sap.com', 'id': 'CVE-2023-0023'}> Entities=<Node element_id='4:de342d72-e7ff-4d5b-9a28-99eaa381965b:6' labels=frozenset({'CVE'}) properties={'assigner': 'cna@sap.com', 'id': 'CVE-2023-0018'}>>, <Record cve1=<Node element_id='4:de342d72-e7ff-4d5b-9a28-99eaa381965b:5' labels=frozenset({'CVE'}) properties={'assigner': 'cna@sap.com', 'id': 'CVE-2023-0017'}> cve2=<Node element_id='4:de342d72-e7ff-4d5b-9a28-99eaa381965b:8' labels=frozenset({'CVE'}) properties={'assigner': 'cna@sap.com', 'id': 'CVE-2023-0023'}> Entities=<Node element_id='4:de342d72-e7ff-4d5b-9a28-99eaa381965b:6' labels=frozenset({'CVE'}) properties={'assigner': 'cna@sap.com', 'id': 'CVE-2023-0018'}>>, <Record cve1=<Node element_id='4:de342d72-e7ff-4d5b-9a28-99eaa381965b:5' labels=frozenset({'CVE'}) properties={'assigner': 'cna@sap.com', 'id': 'CVE-2023-0017'}> cve2=<Node element_id='4:de342d72-e7ff-4d5b-9a28-99eaa381965b:8' labels=frozenset({'CVE'}) properties={'assigner': 'cna@sap.com', 'id': 'CVE-2023-0023'}> Entities=<Node element_id='4:de342d72-e7ff-4d5b-9a28-99eaa381965b:9' labels=frozenset({'CVE'}) properties={'assigner': 'security@huntr.dev', 'id': 'CVE-2023-0028'}>>, <Record cve1=<Node element_id='4:de342d72-e7ff-4d5b-9a28-99eaa381965b:5' labels=frozenset({'CVE'}) properties={'assigner': 'cna@sap.com', 'id': 'CVE-2023-0017'}> cve2=<Node element_id='4:de342d72-e7ff-4d5b-9a28-99eaa381965b:8' labels=frozenset({'CVE'}) properties={'assigner': 'cna@sap.com', 'id': 'CVE-2023-0023'}> Entities=<Node element_id='4:de342d72-e7ff-4d5b-9a28-99eaa381965b:9' labels=frozenset({'CVE'}) properties={'assigner': 'security@huntr.dev', 'id': 'CVE-2023-0028'}>>, <Record cve1=<Node element_id='4:de342d72-e7ff-4d5b-9a28-99eaa381965b:5' labels=frozenset({'CVE'}) properties={'assigner': 'cna@sap.com', 'id': 'CVE-2023-0017'}> cve2=<Node element_id='4:de342d72-e7ff-4d5b-9a28-99eaa381965b:8' labels=frozenset({'CVE'}) properties={'assigner': 'cna@sap.com', 'id': 'CVE-2023-0023'}> Entities=<Node element_id='4:de342d72-e7ff-4d5b-9a28-99eaa381965b:9' labels=frozenset({'CVE'}) properties={'assigner': 'security@huntr.dev', 'id': 'CVE-2023-0028'}>>, <Record cve1=<Node element_id='4:de342d72-e7ff-4d5b-9a28-99eaa381965b:5' labels=frozenset({'CVE'}) properties={'assigner': 'cna@sap.com', 'id': 'CVE-2023-0017'}> cve2=<Node element_id='4:de342d72-e7ff-4d5b-9a28-99eaa381965b:8' labels=frozenset({'CVE'}) properties={'assigner': 'cna@sap.com', 'id': 'CVE-2023-0023'}> Entities=<Node element_id='4:de342d72-e7ff-4d5b-9a28-99eaa381965b:9' labels=frozenset({'CVE'}) properties={'assigner': 'security@huntr.dev', 'id': 'CVE-2023-0028'}>>, <Record cve1=<Node element_id='4:de342d72-e7ff-4d5b-9a28-99eaa381965b:5' labels=frozenset({'CVE'}) properties={'assigner': 'cna@sap.com', 'id': 'CVE-2023-0017'}> cve2=<Node element_id='4:de342d72-e7ff-4d5b-9a28-99eaa381965b:8' labels=frozenset({'CVE'}) properties={'assigner': 'cna@sap.com', 'id': 'CVE-2023-0023'}> Entities=<Node element_id='4:de342d72-e7ff-4d5b-9a28-99eaa381965b:3' labels=frozenset({'CVE'}) properties={'assigner': 'cna@sap.com', 'id': 'CVE-2023-0015'}>>, <Record cve1=<Node element_id='4:de342d72-e7ff-4d5b-9a28-99eaa381965b:5' labels=frozenset({'CVE'}) properties={'assigner': 'cna@sap.com', 'id': 'CVE-2023-0017'}> cve2=<Node element_id='4:de342d72-e7ff-4d5b-9a28-99eaa381965b:8' labels=frozenset({'CVE'}) properties={'assigner': 'cna@sap.com', 'id': 'CVE-2023-0023'}> Entities=<Node element_id='4:de342d72-e7ff-4d5b-9a28-99eaa381965b:3' labels=frozenset({'CVE'}) properties={'assigner': 'cna@sap.com', 'id': 'CVE-2023-0015'}>>, <Record cve1=<Node element_id='4:de342d72-e7ff-4d5b-9a28-99eaa381965b:5' labels=frozenset({'CVE'}) properties={'assigner': 'cna@sap.com', 'id': 'CVE-2023-0017'}> cve2=<Node element_id='4:de342d72-e7ff-4d5b-9a28-99eaa381965b:8' labels=frozenset({'CVE'}) properties={'assigner': 'cna@sap.com', 'id': 'CVE-2023-0023'}> Entities=<Node element_id='4:de342d72-e7ff-4d5b-9a28-99eaa381965b:3' labels=frozenset({'CVE'}) properties={'assigner': 'cna@sap.com', 'id': 'CVE-2023-0015'}>>, <Record cve1=<Node element_id='4:de342d72-e7ff-4d5b-9a28-99eaa381965b:5' labels=frozenset({'CVE'}) properties={'assigner': 'cna@sap.com', 'id': 'CVE-2023-0017'}> cve2=<Node element_id='4:de342d72-e7ff-4d5b-9a28-99eaa381965b:8' labels=frozenset({'CVE'}) properties={'assigner': 'cna@sap.com', 'id': 'CVE-2023-0023'}> Entities=<Node element_id='4:de342d72-e7ff-4d5b-9a28-99eaa381965b:3' labels=frozenset({'CVE'}) properties={'assigner': 'cna@sap.com', 'id': 'CVE-2023-0015'}>>, <Record cve1=<Node element_id='4:de342d72-e7ff-4d5b-9a28-99eaa381965b:5' labels=frozenset({'CVE'}) properties={'assigner': 'cna@sap.com', 'id': 'CVE-2023-0017'}> cve2=<Node element_id='4:de342d72-e7ff-4d5b-9a28-99eaa381965b:8' labels=frozenset({'CVE'}) properties={'assigner': 'cna@sap.com', 'id': 'CVE-2023-0023'}> Entities=<Node element_id='4:de342d72-e7ff-4d5b-9a28-99eaa381965b:1' labels=frozenset({'CVE'}) properties={'assigner': 'cna@sap.com', 'id': 'CVE-2023-0013'}>>, <Record cve1=<Node element_id='4:de342d72-e7ff-4d5b-9a28-99eaa381965b:5' labels=frozenset({'CVE'}) properties={'assigner': 'cna@sap.com', 'id': 'CVE-2023-0017'}> cve2=<Node element_id='4:de342d72-e7ff-4d5b-9a28-99eaa381965b:8' labels=frozenset({'CVE'}) properties={'assigner': 'cna@sap.com', 'id': 'CVE-2023-0023'}> Entities=<Node element_id='4:de342d72-e7ff-4d5b-9a28-99eaa381965b:1' labels=frozenset({'CVE'}) properties={'assigner': 'cna@sap.com', 'id': 'CVE-2023-0013'}>>, <Record cve1=<Node element_id='4:de342d72-e7ff-4d5b-9a28-99eaa381965b:5' labels=frozenset({'CVE'}) properties={'assigner': 'cna@sap.com', 'id': 'CVE-2023-0017'}> cve2=<Node element_id='4:de342d72-e7ff-4d5b-9a28-99eaa381965b:8' labels=frozenset({'CVE'}) properties={'assigner': 'cna@sap.com', 'id': 'CVE-2023-0023'}> Entities=<Node element_id='4:de342d72-e7ff-4d5b-9a28-99eaa381965b:1' labels=frozenset({'CVE'}) properties={'assigner': 'cna@sap.com', 'id': 'CVE-2023-0013'}>>, <Record cve1=<Node element_id='4:de342d72-e7ff-4d5b-9a28-99eaa381965b:5' labels=frozenset({'CVE'}) properties={'assigner': 'cna@sap.com', 'id': 'CVE-2023-0017'}> cve2=<Node element_id='4:de342d72-e7ff-4d5b-9a28-99eaa381965b:8' labels=frozenset({'CVE'}) properties={'assigner': 'cna@sap.com', 'id': 'CVE-2023-0023'}> Entities=<Node element_id='4:de342d72-e7ff-4d5b-9a28-99eaa381965b:1' labels=frozenset({'CVE'}) properties={'assigner': 'cna@sap.com', 'id': 'CVE-2023-0013'}>>, <Record cve1=<Node element_id='4:de342d72-e7ff-4d5b-9a28-99eaa381965b:5' labels=frozenset({'CVE'}) properties={'assigner': 'cna@sap.com', 'id': 'CVE-2023-0017'}> cve2=<Node element_id='4:de342d72-e7ff-4d5b-9a28-99eaa381965b:8' labels=frozenset({'CVE'}) properties={'assigner': 'cna@sap.com', 'id': 'CVE-2023-0023'}> Entities=<Node element_id='4:de342d72-e7ff-4d5b-9a28-99eaa381965b:6' labels=frozenset({'CVE'}) properties={'assigner': 'cna@sap.com', 'id': 'CVE-2023-0018'}>>, <Record cve1=<Node element_id='4:de342d72-e7ff-4d5b-9a28-99eaa381965b:5' labels=frozenset({'CVE'}) properties={'assigner': 'cna@sap.com', 'id': 'CVE-2023-0017'}> cve2=<Node element_id='4:de342d72-e7ff-4d5b-9a28-99eaa381965b:8' labels=frozenset({'CVE'}) properties={'assigner': 'cna@sap.com', 'id': 'CVE-2023-0023'}> Entities=<Node element_id='4:de342d72-e7ff-4d5b-9a28-99eaa381965b:6' labels=frozenset({'CVE'}) properties={'assigner': 'cna@sap.com', 'id': 'CVE-2023-0018'}>>, <Record cve1=<Node element_id='4:de342d72-e7ff-4d5b-9a28-99eaa381965b:5' labels=frozenset({'CVE'}) properties={'assigner': 'cna@sap.com', 'id': 'CVE-2023-0017'}> cve2=<Node element_id='4:de342d72-e7ff-4d5b-9a28-99eaa381965b:8' labels=frozenset({'CVE'}) properties={'assigner': 'cna@sap.com', 'id': 'CVE-2023-0023'}> Entities=<Node element_id='4:de342d72-e7ff-4d5b-9a28-99eaa381965b:9' labels=frozenset({'CVE'}) properties={'assigner': 'security@huntr.dev', 'id': 'CVE-2023-0028'}>>, <Record cve1=<Node element_id='4:de342d72-e7ff-4d5b-9a28-99eaa381965b:5' labels=frozenset({'CVE'}) properties={'assigner': 'cna@sap.com', 'id': 'CVE-2023-0017'}> cve2=<Node element_id='4:de342d72-e7ff-4d5b-9a28-99eaa381965b:8' labels=frozenset({'CVE'}) properties={'assigner': 'cna@sap.com', 'id': 'CVE-2023-0023'}> Entities=<Node element_id='4:de342d72-e7ff-4d5b-9a28-99eaa381965b:9' labels=frozenset({'CVE'}) properties={'assigner': 'security@huntr.dev', 'id': 'CVE-2023-0028'}>>, <Record cve1=<Node element_id='4:de342d72-e7ff-4d5b-9a28-99eaa381965b:5' labels=frozenset({'CVE'}) properties={'assigner': 'cna@sap.com', 'id': 'CVE-2023-0017'}> cve2=<Node element_id='4:de342d72-e7ff-4d5b-9a28-99eaa381965b:8' labels=frozenset({'CVE'}) properties={'assigner': 'cna@sap.com', 'id': 'CVE-2023-0023'}> Entities=<Node element_id='4:de342d72-e7ff-4d5b-9a28-99eaa381965b:3' labels=frozenset({'CVE'}) properties={'assigner': 'cna@sap.com', 'id': 'CVE-2023-0015'}>>, <Record cve1=<Node element_id='4:de342d72-e7ff-4d5b-9a28-99eaa381965b:5' labels=frozenset({'CVE'}) properties={'assigner': 'cna@sap.com', 'id': 'CVE-2023-0017'}> cve2=<Node element_id='4:de342d72-e7ff-4d5b-9a28-99eaa381965b:8' labels=frozenset({'CVE'}) properties={'assigner': 'cna@sap.com', 'id': 'CVE-2023-0023'}> Entities=<Node element_id='4:de342d72-e7ff-4d5b-9a28-99eaa381965b:3' labels=frozenset({'CVE'}) properties={'assigner': 'cna@sap.com', 'id': 'CVE-2023-0015'}>>, <Record cve1=<Node element_id='4:de342d72-e7ff-4d5b-9a28-99eaa381965b:5' labels=frozenset({'CVE'}) properties={'assigner': 'cna@sap.com', 'id': 'CVE-2023-0017'}> cve2=<Node element_id='4:de342d72-e7ff-4d5b-9a28-99eaa381965b:8' labels=frozenset({'CVE'}) properties={'assigner': 'cna@sap.com', 'id': 'CVE-2023-0023'}> Entities=<Node element_id='4:de342d72-e7ff-4d5b-9a28-99eaa381965b:1' labels=frozenset({'CVE'}) properties={'assigner': 'cna@sap.com', 'id': 'CVE-2023-0013'}>>, <Record cve1=<Node element_id='4:de342d72-e7ff-4d5b-9a28-99eaa381965b:5' labels=frozenset({'CVE'}) properties={'assigner': 'cna@sap.com', 'id': 'CVE-2023-0017'}> cve2=<Node element_id='4:de342d72-e7ff-4d5b-9a28-99eaa381965b:8' labels=frozenset({'CVE'}) properties={'assigner': 'cna@sap.com', 'id': 'CVE-2023-0023'}> Entities=<Node element_id='4:de342d72-e7ff-4d5b-9a28-99eaa381965b:1' labels=frozenset({'CVE'}) properties={'assigner': 'cna@sap.com', 'id': 'CVE-2023-0013'}>>, <Record cve1=<Node element_id='4:de342d72-e7ff-4d5b-9a28-99eaa381965b:5' labels=frozenset({'CVE'}) properties={'assigner': 'cna@sap.com', 'id': 'CVE-2023-0017'}> cve2=<Node element_id='4:de342d72-e7ff-4d5b-9a28-99eaa381965b:8' labels=frozenset({'CVE'}) properties={'assigner': 'cna@sap.com', 'id': 'CVE-2023-0023'}> Entities=<Node element_id='4:de342d72-e7ff-4d5b-9a28-99eaa381965b:6' labels=frozenset({'CVE'}) properties={'assigner': 'cna@sap.com', 'id': 'CVE-2023-0018'}>>, <Record cve1=<Node element_id='4:de342d72-e7ff-4d5b-9a28-99eaa381965b:5' labels=frozenset({'CVE'}) properties={'assigner': 'cna@sap.com', 'id': 'CVE-2023-0017'}> cve2=<Node element_id='4:de342d72-e7ff-4d5b-9a28-99eaa381965b:8' labels=frozenset({'CVE'}) properties={'assigner': 'cna@sap.com', 'id': 'CVE-2023-0023'}> Entities=<Node element_id='4:de342d72-e7ff-4d5b-9a28-99eaa381965b:6' labels=frozenset({'CVE'}) properties={'assigner': 'cna@sap.com', 'id': 'CVE-2023-0018'}>>, <Record cve1=<Node element_id='4:de342d72-e7ff-4d5b-9a28-99eaa381965b:5' labels=frozenset({'CVE'}) properties={'assigner': 'cna@sap.com', 'id': 'CVE-2023-0017'}> cve2=<Node element_id='4:de342d72-e7ff-4d5b-9a28-99eaa381965b:8' labels=frozenset({'CVE'}) properties={'assigner': 'cna@sap.com', 'id': 'CVE-2023-0023'}> Entities=<Node element_id='4:de342d72-e7ff-4d5b-9a28-99eaa381965b:9' labels=frozenset({'CVE'}) properties={'assigner': 'security@huntr.dev', 'id': 'CVE-2023-0028'}>>, <Record cve1=<Node element_id='4:de342d72-e7ff-4d5b-9a28-99eaa381965b:5' labels=frozenset({'CVE'}) properties={'assigner': 'cna@sap.com', 'id': 'CVE-2023-0017'}> cve2=<Node element_id='4:de342d72-e7ff-4d5b-9a28-99eaa381965b:8' labels=frozenset({'CVE'}) properties={'assigner': 'cna@sap.com', 'id': 'CVE-2023-0023'}> Entities=<Node element_id='4:de342d72-e7ff-4d5b-9a28-99eaa381965b:9' labels=frozenset({'CVE'}) properties={'assigner': 'security@huntr.dev', 'id': 'CVE-2023-0028'}>>, <Record cve1=<Node element_id='4:de342d72-e7ff-4d5b-9a28-99eaa381965b:5' labels=frozenset({'CVE'}) properties={'assigner': 'cna@sap.com', 'id': 'CVE-2023-0017'}> cve2=<Node element_id='4:de342d72-e7ff-4d5b-9a28-99eaa381965b:8' labels=frozenset({'CVE'}) properties={'assigner': 'cna@sap.com', 'id': 'CVE-2023-0023'}> Entities=<Node element_id='4:de342d72-e7ff-4d5b-9a28-99eaa381965b:3' labels=frozenset({'CVE'}) properties={'assigner': 'cna@sap.com', 'id': 'CVE-2023-0015'}>>, <Record cve1=<Node element_id='4:de342d72-e7ff-4d5b-9a28-99eaa381965b:5' labels=frozenset({'CVE'}) properties={'assigner': 'cna@sap.com', 'id': 'CVE-2023-0017'}> cve2=<Node element_id='4:de342d72-e7ff-4d5b-9a28-99eaa381965b:8' labels=frozenset({'CVE'}) properties={'assigner': 'cna@sap.com', 'id': 'CVE-2023-0023'}> Entities=<Node element_id='4:de342d72-e7ff-4d5b-9a28-99eaa381965b:3' labels=frozenset({'CVE'}) properties={'assigner': 'cna@sap.com', 'id': 'CVE-2023-0015'}>>, <Record cve1=<Node element_id='4:de342d72-e7ff-4d5b-9a28-99eaa381965b:5' labels=frozenset({'CVE'}) properties={'assigner': 'cna@sap.com', 'id': 'CVE-2023-0017'}> cve2=<Node element_id='4:de342d72-e7ff-4d5b-9a28-99eaa381965b:8' labels=frozenset({'CVE'}) properties={'assigner': 'cna@sap.com', 'id': 'CVE-2023-0023'}> Entities=<Node element_id='4:de342d72-e7ff-4d5b-9a28-99eaa381965b:1' labels=frozenset({'CVE'}) properties={'assigner': 'cna@sap.com', 'id': 'CVE-2023-0013'}>>, <Record cve1=<Node element_id='4:de342d72-e7ff-4d5b-9a28-99eaa381965b:5' labels=frozenset({'CVE'}) properties={'assigner': 'cna@sap.com', 'id': 'CVE-2023-0017'}> cve2=<Node element_id='4:de342d72-e7ff-4d5b-9a28-99eaa381965b:8' labels=frozenset({'CVE'}) properties={'assigner': 'cna@sap.com', 'id': 'CVE-2023-0023'}> Entities=<Node element_id='4:de342d72-e7ff-4d5b-9a28-99eaa381965b:1' labels=frozenset({'CVE'}) properties={'assigner': 'cna@sap.com', 'id': 'CVE-2023-0013'}>>, <Record cve1=<Node element_id='4:de342d72-e7ff-4d5b-9a28-99eaa381965b:5' labels=frozenset({'CVE'}) properties={'assigner': 'cna@sap.com', 'id': 'CVE-2023-0017'}> cve2=<Node element_id='4:de342d72-e7ff-4d5b-9a28-99eaa381965b:8' labels=frozenset({'CVE'}) properties={'assigner': 'cna@sap.com', 'id': 'CVE-2023-0023'}> Entities=<Node element_id='4:de342d72-e7ff-4d5b-9a28-99eaa381965b:6' labels=frozenset({'CVE'}) properties={'assigner': 'cna@sap.com', 'id': 'CVE-2023-0018'}>>, <Record cve1=<Node element_id='4:de342d72-e7ff-4d5b-9a28-99eaa381965b:5' labels=frozenset({'CVE'}) properties={'assigner': 'cna@sap.com', 'id': 'CVE-2023-0017'}> cve2=<Node element_id='4:de342d72-e7ff-4d5b-9a28-99eaa381965b:8' labels=frozenset({'CVE'}) properties={'assigner': 'cna@sap.com', 'id': 'CVE-2023-0023'}> Entities=<Node element_id='4:de342d72-e7ff-4d5b-9a28-99eaa381965b:6' labels=frozenset({'CVE'}) properties={'assigner': 'cna@sap.com', 'id': 'CVE-2023-0018'}>>, <Record cve1=<Node element_id='4:de342d72-e7ff-4d5b-9a28-99eaa381965b:5' labels=frozenset({'CVE'}) properties={'assigner': 'cna@sap.com', 'id': 'CVE-2023-0017'}> cve2=<Node element_id='4:de342d72-e7ff-4d5b-9a28-99eaa381965b:8' labels=frozenset({'CVE'}) properties={'assigner': 'cna@sap.com', 'id': 'CVE-2023-0023'}> Entities=<Node element_id='4:de342d72-e7ff-4d5b-9a28-99eaa381965b:6' labels=frozenset({'CVE'}) properties={'assigner': 'cna@sap.com', 'id': 'CVE-2023-0018'}>>, <Record cve1=<Node element_id='4:de342d72-e7ff-4d5b-9a28-99eaa381965b:5' labels=frozenset({'CVE'}) properties={'assigner': 'cna@sap.com', 'id': 'CVE-2023-0017'}> cve2=<Node element_id='4:de342d72-e7ff-4d5b-9a28-99eaa381965b:8' labels=frozenset({'CVE'}) properties={'assigner': 'cna@sap.com', 'id': 'CVE-2023-0023'}> Entities=<Node element_id='4:de342d72-e7ff-4d5b-9a28-99eaa381965b:9' labels=frozenset({'CVE'}) properties={'assigner': 'security@huntr.dev', 'id': 'CVE-2023-0028'}>>, <Record cve1=<Node element_id='4:de342d72-e7ff-4d5b-9a28-99eaa381965b:5' labels=frozenset({'CVE'}) properties={'assigner': 'cna@sap.com', 'id': 'CVE-2023-0017'}> cve2=<Node element_id='4:de342d72-e7ff-4d5b-9a28-99eaa381965b:8' labels=frozenset({'CVE'}) properties={'assigner': 'cna@sap.com', 'id': 'CVE-2023-0023'}> Entities=<Node element_id='4:de342d72-e7ff-4d5b-9a28-99eaa381965b:9' labels=frozenset({'CVE'}) properties={'assigner': 'security@huntr.dev', 'id': 'CVE-2023-0028'}>>, <Record cve1=<Node element_id='4:de342d72-e7ff-4d5b-9a28-99eaa381965b:5' labels=frozenset({'CVE'}) properties={'assigner': 'cna@sap.com', 'id': 'CVE-2023-0017'}> cve2=<Node element_id='4:de342d72-e7ff-4d5b-9a28-99eaa381965b:8' labels=frozenset({'CVE'}) properties={'assigner': 'cna@sap.com', 'id': 'CVE-2023-0023'}> Entities=<Node element_id='4:de342d72-e7ff-4d5b-9a28-99eaa381965b:9' labels=frozenset({'CVE'}) properties={'assigner': 'security@huntr.dev', 'id': 'CVE-2023-0028'}>>, <Record cve1=<Node element_id='4:de342d72-e7ff-4d5b-9a28-99eaa381965b:5' labels=frozenset({'CVE'}) properties={'assigner': 'cna@sap.com', 'id': 'CVE-2023-0017'}> cve2=<Node element_id='4:de342d72-e7ff-4d5b-9a28-99eaa381965b:8' labels=frozenset({'CVE'}) properties={'assigner': 'cna@sap.com', 'id': 'CVE-2023-0023'}> Entities=<Node element_id='4:de342d72-e7ff-4d5b-9a28-99eaa381965b:3' labels=frozenset({'CVE'}) properties={'assigner': 'cna@sap.com', 'id': 'CVE-2023-0015'}>>, <Record cve1=<Node element_id='4:de342d72-e7ff-4d5b-9a28-99eaa381965b:5' labels=frozenset({'CVE'}) properties={'assigner': 'cna@sap.com', 'id': 'CVE-2023-0017'}> cve2=<Node element_id='4:de342d72-e7ff-4d5b-9a28-99eaa381965b:8' labels=frozenset({'CVE'}) properties={'assigner': 'cna@sap.com', 'id': 'CVE-2023-0023'}> Entities=<Node element_id='4:de342d72-e7ff-4d5b-9a28-99eaa381965b:3' labels=frozenset({'CVE'}) properties={'assigner': 'cna@sap.com', 'id': 'CVE-2023-0015'}>>, <Record cve1=<Node element_id='4:de342d72-e7ff-4d5b-9a28-99eaa381965b:5' labels=frozenset({'CVE'}) properties={'assigner': 'cna@sap.com', 'id': 'CVE-2023-0017'}> cve2=<Node element_id='4:de342d72-e7ff-4d5b-9a28-99eaa381965b:8' labels=frozenset({'CVE'}) properties={'assigner': 'cna@sap.com', 'id': 'CVE-2023-0023'}> Entities=<Node element_id='4:de342d72-e7ff-4d5b-9a28-99eaa381965b:3' labels=frozenset({'CVE'}) properties={'assigner': 'cna@sap.com', 'id': 'CVE-2023-0015'}>>, <Record cve1=<Node element_id='4:de342d72-e7ff-4d5b-9a28-99eaa381965b:5' labels=frozenset({'CVE'}) properties={'assigner': 'cna@sap.com', 'id': 'CVE-2023-0017'}> cve2=<Node element_id='4:de342d72-e7ff-4d5b-9a28-99eaa381965b:8' labels=frozenset({'CVE'}) properties={'assigner': 'cna@sap.com', 'id': 'CVE-2023-0023'}> Entities=<Node element_id='4:de342d72-e7ff-4d5b-9a28-99eaa381965b:1' labels=frozenset({'CVE'}) properties={'assigner': 'cna@sap.com', 'id': 'CVE-2023-0013'}>>, <Record cve1=<Node element_id='4:de342d72-e7ff-4d5b-9a28-99eaa381965b:5' labels=frozenset({'CVE'}) properties={'assigner': 'cna@sap.com', 'id': 'CVE-2023-0017'}> cve2=<Node element_id='4:de342d72-e7ff-4d5b-9a28-99eaa381965b:8' labels=frozenset({'CVE'}) properties={'assigner': 'cna@sap.com', 'id': 'CVE-2023-0023'}> Entities=<Node element_id='4:de342d72-e7ff-4d5b-9a28-99eaa381965b:1' labels=frozenset({'CVE'}) properties={'assigner': 'cna@sap.com', 'id': 'CVE-2023-0013'}>>, <Record cve1=<Node element_id='4:de342d72-e7ff-4d5b-9a28-99eaa381965b:5' labels=frozenset({'CVE'}) properties={'assigner': 'cna@sap.com', 'id': 'CVE-2023-0017'}> cve2=<Node element_id='4:de342d72-e7ff-4d5b-9a28-99eaa381965b:8' labels=frozenset({'CVE'}) properties={'assigner': 'cna@sap.com', 'id': 'CVE-2023-0023'}> Entities=<Node element_id='4:de342d72-e7ff-4d5b-9a28-99eaa381965b:1' labels=frozenset({'CVE'}) properties={'assigner': 'cna@sap.com', 'id': 'CVE-2023-0013'}>>, <Record cve1=<Node element_id='4:de342d72-e7ff-4d5b-9a28-99eaa381965b:5' labels=frozenset({'CVE'}) properties={'assigner': 'cna@sap.com', 'id': 'CVE-2023-0017'}> cve2=<Node element_id='4:de342d72-e7ff-4d5b-9a28-99eaa381965b:8' labels=frozenset({'CVE'}) properties={'assigner': 'cna@sap.com', 'id': 'CVE-2023-0023'}> Entities=<Node element_id='4:de342d72-e7ff-4d5b-9a28-99eaa381965b:6' labels=frozenset({'CVE'}) properties={'assigner': 'cna@sap.com', 'id': 'CVE-2023-0018'}>>, <Record cve1=<Node element_id='4:de342d72-e7ff-4d5b-9a28-99eaa381965b:5' labels=frozenset({'CVE'}) properties={'assigner': 'cna@sap.com', 'id': 'CVE-2023-0017'}> cve2=<Node element_id='4:de342d72-e7ff-4d5b-9a28-99eaa381965b:8' labels=frozenset({'CVE'}) properties={'assigner': 'cna@sap.com', 'id': 'CVE-2023-0023'}> Entities=<Node element_id='4:de342d72-e7ff-4d5b-9a28-99eaa381965b:6' labels=frozenset({'CVE'}) properties={'assigner': 'cna@sap.com', 'id': 'CVE-2023-0018'}>>, <Record cve1=<Node element_id='4:de342d72-e7ff-4d5b-9a28-99eaa381965b:5' labels=frozenset({'CVE'}) properties={'assigner': 'cna@sap.com', 'id': 'CVE-2023-0017'}> cve2=<Node element_id='4:de342d72-e7ff-4d5b-9a28-99eaa381965b:8' labels=frozenset({'CVE'}) properties={'assigner': 'cna@sap.com', 'id': 'CVE-2023-0023'}> Entities=<Node element_id='4:de342d72-e7ff-4d5b-9a28-99eaa381965b:6' labels=frozenset({'CVE'}) properties={'assigner': 'cna@sap.com', 'id': 'CVE-2023-0018'}>>, <Record cve1=<Node element_id='4:de342d72-e7ff-4d5b-9a28-99eaa381965b:5' labels=frozenset({'CVE'}) properties={'assigner': 'cna@sap.com', 'id': 'CVE-2023-0017'}> cve2=<Node element_id='4:de342d72-e7ff-4d5b-9a28-99eaa381965b:8' labels=frozenset({'CVE'}) properties={'assigner': 'cna@sap.com', 'id': 'CVE-2023-0023'}> Entities=<Node element_id='4:de342d72-e7ff-4d5b-9a28-99eaa381965b:9' labels=frozenset({'CVE'}) properties={'assigner': 'security@huntr.dev', 'id': 'CVE-2023-0028'}>>, <Record cve1=<Node element_id='4:de342d72-e7ff-4d5b-9a28-99eaa381965b:5' labels=frozenset({'CVE'}) properties={'assigner': 'cna@sap.com', 'id': 'CVE-2023-0017'}> cve2=<Node element_id='4:de342d72-e7ff-4d5b-9a28-99eaa381965b:8' labels=frozenset({'CVE'}) properties={'assigner': 'cna@sap.com', 'id': 'CVE-2023-0023'}> Entities=<Node element_id='4:de342d72-e7ff-4d5b-9a28-99eaa381965b:9' labels=frozenset({'CVE'}) properties={'assigner': 'security@huntr.dev', 'id': 'CVE-2023-0028'}>>, <Record cve1=<Node element_id='4:de342d72-e7ff-4d5b-9a28-99eaa381965b:5' labels=frozenset({'CVE'}) properties={'assigner': 'cna@sap.com', 'id': 'CVE-2023-0017'}> cve2=<Node element_id='4:de342d72-e7ff-4d5b-9a28-99eaa381965b:8' labels=frozenset({'CVE'}) properties={'assigner': 'cna@sap.com', 'id': 'CVE-2023-0023'}> Entities=<Node element_id='4:de342d72-e7ff-4d5b-9a28-99eaa381965b:9' labels=frozenset({'CVE'}) properties={'assigner': 'security@huntr.dev', 'id': 'CVE-2023-0028'}>>, <Record cve1=<Node element_id='4:de342d72-e7ff-4d5b-9a28-99eaa381965b:5' labels=frozenset({'CVE'}) properties={'assigner': 'cna@sap.com', 'id': 'CVE-2023-0017'}> cve2=<Node element_id='4:de342d72-e7ff-4d5b-9a28-99eaa381965b:8' labels=frozenset({'CVE'}) properties={'assigner': 'cna@sap.com', 'id': 'CVE-2023-0023'}> Entities=<Node element_id='4:de342d72-e7ff-4d5b-9a28-99eaa381965b:3' labels=frozenset({'CVE'}) properties={'assigner': 'cna@sap.com', 'id': 'CVE-2023-0015'}>>, <Record cve1=<Node element_id='4:de342d72-e7ff-4d5b-9a28-99eaa381965b:5' labels=frozenset({'CVE'}) properties={'assigner': 'cna@sap.com', 'id': 'CVE-2023-0017'}> cve2=<Node element_id='4:de342d72-e7ff-4d5b-9a28-99eaa381965b:8' labels=frozenset({'CVE'}) properties={'assigner': 'cna@sap.com', 'id': 'CVE-2023-0023'}> Entities=<Node element_id='4:de342d72-e7ff-4d5b-9a28-99eaa381965b:3' labels=frozenset({'CVE'}) properties={'assigner': 'cna@sap.com', 'id': 'CVE-2023-0015'}>>, <Record cve1=<Node element_id='4:de342d72-e7ff-4d5b-9a28-99eaa381965b:5' labels=frozenset({'CVE'}) properties={'assigner': 'cna@sap.com', 'id': 'CVE-2023-0017'}> cve2=<Node element_id='4:de342d72-e7ff-4d5b-9a28-99eaa381965b:8' labels=frozenset({'CVE'}) properties={'assigner': 'cna@sap.com', 'id': 'CVE-2023-0023'}> Entities=<Node element_id='4:de342d72-e7ff-4d5b-9a28-99eaa381965b:3' labels=frozenset({'CVE'}) properties={'assigner': 'cna@sap.com', 'id': 'CVE-2023-0015'}>>, <Record cve1=<Node element_id='4:de342d72-e7ff-4d5b-9a28-99eaa381965b:5' labels=frozenset({'CVE'}) properties={'assigner': 'cna@sap.com', 'id': 'CVE-2023-0017'}> cve2=<Node element_id='4:de342d72-e7ff-4d5b-9a28-99eaa381965b:8' labels=frozenset({'CVE'}) properties={'assigner': 'cna@sap.com', 'id': 'CVE-2023-0023'}> Entities=<Node element_id='4:de342d72-e7ff-4d5b-9a28-99eaa381965b:1' labels=frozenset({'CVE'}) properties={'assigner': 'cna@sap.com', 'id': 'CVE-2023-0013'}>>, <Record cve1=<Node element_id='4:de342d72-e7ff-4d5b-9a28-99eaa381965b:5' labels=frozenset({'CVE'}) properties={'assigner': 'cna@sap.com', 'id': 'CVE-2023-0017'}> cve2=<Node element_id='4:de342d72-e7ff-4d5b-9a28-99eaa381965b:8' labels=frozenset({'CVE'}) properties={'assigner': 'cna@sap.com', 'id': 'CVE-2023-0023'}> Entities=<Node element_id='4:de342d72-e7ff-4d5b-9a28-99eaa381965b:1' labels=frozenset({'CVE'}) properties={'assigner': 'cna@sap.com', 'id': 'CVE-2023-0013'}>>, <Record cve1=<Node element_id='4:de342d72-e7ff-4d5b-9a28-99eaa381965b:5' labels=frozenset({'CVE'}) properties={'assigner': 'cna@sap.com', 'id': 'CVE-2023-0017'}> cve2=<Node element_id='4:de342d72-e7ff-4d5b-9a28-99eaa381965b:8' labels=frozenset({'CVE'}) properties={'assigner': 'cna@sap.com', 'id': 'CVE-2023-0023'}> Entities=<Node element_id='4:de342d72-e7ff-4d5b-9a28-99eaa381965b:1' labels=frozenset({'CVE'}) properties={'assigner': 'cna@sap.com', 'id': 'CVE-2023-0013'}>>, <Record cve1=<Node element_id='4:de342d72-e7ff-4d5b-9a28-99eaa381965b:5' labels=frozenset({'CVE'}) properties={'assigner': 'cna@sap.com', 'id': 'CVE-2023-0017'}> cve2=<Node element_id='4:de342d72-e7ff-4d5b-9a28-99eaa381965b:8' labels=frozenset({'CVE'}) properties={'assigner': 'cna@sap.com', 'id': 'CVE-2023-0023'}> Entities=<Node element_id='4:de342d72-e7ff-4d5b-9a28-99eaa381965b:6' labels=frozenset({'CVE'}) properties={'assigner': 'cna@sap.com', 'id': 'CVE-2023-0018'}>>, <Record cve1=<Node element_id='4:de342d72-e7ff-4d5b-9a28-99eaa381965b:5' labels=frozenset({'CVE'}) properties={'assigner': 'cna@sap.com', 'id': 'CVE-2023-0017'}> cve2=<Node element_id='4:de342d72-e7ff-4d5b-9a28-99eaa381965b:8' labels=frozenset({'CVE'}) properties={'assigner': 'cna@sap.com', 'id': 'CVE-2023-0023'}> Entities=<Node element_id='4:de342d72-e7ff-4d5b-9a28-99eaa381965b:6' labels=frozenset({'CVE'}) properties={'assigner': 'cna@sap.com', 'id': 'CVE-2023-0018'}>>, <Record cve1=<Node element_id='4:de342d72-e7ff-4d5b-9a28-99eaa381965b:5' labels=frozenset({'CVE'}) properties={'assigner': 'cna@sap.com', 'id': 'CVE-2023-0017'}> cve2=<Node element_id='4:de342d72-e7ff-4d5b-9a28-99eaa381965b:8' labels=frozenset({'CVE'}) properties={'assigner': 'cna@sap.com', 'id': 'CVE-2023-0023'}> Entities=<Node element_id='4:de342d72-e7ff-4d5b-9a28-99eaa381965b:9' labels=frozenset({'CVE'}) properties={'assigner': 'security@huntr.dev', 'id': 'CVE-2023-0028'}>>, <Record cve1=<Node element_id='4:de342d72-e7ff-4d5b-9a28-99eaa381965b:5' labels=frozenset({'CVE'}) properties={'assigner': 'cna@sap.com', 'id': 'CVE-2023-0017'}> cve2=<Node element_id='4:de342d72-e7ff-4d5b-9a28-99eaa381965b:8' labels=frozenset({'CVE'}) properties={'assigner': 'cna@sap.com', 'id': 'CVE-2023-0023'}> Entities=<Node element_id='4:de342d72-e7ff-4d5b-9a28-99eaa381965b:9' labels=frozenset({'CVE'}) properties={'assigner': 'security@huntr.dev', 'id': 'CVE-2023-0028'}>>, <Record cve1=<Node element_id='4:de342d72-e7ff-4d5b-9a28-99eaa381965b:5' labels=frozenset({'CVE'}) properties={'assigner': 'cna@sap.com', 'id': 'CVE-2023-0017'}> cve2=<Node element_id='4:de342d72-e7ff-4d5b-9a28-99eaa381965b:8' labels=frozenset({'CVE'}) properties={'assigner': 'cna@sap.com', 'id': 'CVE-2023-0023'}> Entities=<Node element_id='4:de342d72-e7ff-4d5b-9a28-99eaa381965b:3' labels=frozenset({'CVE'}) properties={'assigner': 'cna@sap.com', 'id': 'CVE-2023-0015'}>>, <Record cve1=<Node element_id='4:de342d72-e7ff-4d5b-9a28-99eaa381965b:5' labels=frozenset({'CVE'}) properties={'assigner': 'cna@sap.com', 'id': 'CVE-2023-0017'}> cve2=<Node element_id='4:de342d72-e7ff-4d5b-9a28-99eaa381965b:8' labels=frozenset({'CVE'}) properties={'assigner': 'cna@sap.com', 'id': 'CVE-2023-0023'}> Entities=<Node element_id='4:de342d72-e7ff-4d5b-9a28-99eaa381965b:3' labels=frozenset({'CVE'}) properties={'assigner': 'cna@sap.com', 'id': 'CVE-2023-0015'}>>, <Record cve1=<Node element_id='4:de342d72-e7ff-4d5b-9a28-99eaa381965b:5' labels=frozenset({'CVE'}) properties={'assigner': 'cna@sap.com', 'id': 'CVE-2023-0017'}> cve2=<Node element_id='4:de342d72-e7ff-4d5b-9a28-99eaa381965b:8' labels=frozenset({'CVE'}) properties={'assigner': 'cna@sap.com', 'id': 'CVE-2023-0023'}> Entities=<Node element_id='4:de342d72-e7ff-4d5b-9a28-99eaa381965b:1' labels=frozenset({'CVE'}) properties={'assigner': 'cna@sap.com', 'id': 'CVE-2023-0013'}>>, <Record cve1=<Node element_id='4:de342d72-e7ff-4d5b-9a28-99eaa381965b:5' labels=frozenset({'CVE'}) properties={'assigner': 'cna@sap.com', 'id': 'CVE-2023-0017'}> cve2=<Node element_id='4:de342d72-e7ff-4d5b-9a28-99eaa381965b:8' labels=frozenset({'CVE'}) properties={'assigner': 'cna@sap.com', 'id': 'CVE-2023-0023'}> Entities=<Node element_id='4:de342d72-e7ff-4d5b-9a28-99eaa381965b:1' labels=frozenset({'CVE'}) properties={'assigner': 'cna@sap.com', 'id': 'CVE-2023-0013'}>>, <Record cve1=<Node element_id='4:de342d72-e7ff-4d5b-9a28-99eaa381965b:5' labels=frozenset({'CVE'}) properties={'assigner': 'cna@sap.com', 'id': 'CVE-2023-0017'}> cve2=<Node element_id='4:de342d72-e7ff-4d5b-9a28-99eaa381965b:8' labels=frozenset({'CVE'}) properties={'assigner': 'cna@sap.com', 'id': 'CVE-2023-0023'}> Entities=<Node element_id='4:de342d72-e7ff-4d5b-9a28-99eaa381965b:6' labels=frozenset({'CVE'}) properties={'assigner': 'cna@sap.com', 'id': 'CVE-2023-0018'}>>, <Record cve1=<Node element_id='4:de342d72-e7ff-4d5b-9a28-99eaa381965b:5' labels=frozenset({'CVE'}) properties={'assigner': 'cna@sap.com', 'id': 'CVE-2023-0017'}> cve2=<Node element_id='4:de342d72-e7ff-4d5b-9a28-99eaa381965b:8' labels=frozenset({'CVE'}) properties={'assigner': 'cna@sap.com', 'id': 'CVE-2023-0023'}> Entities=<Node element_id='4:de342d72-e7ff-4d5b-9a28-99eaa381965b:6' labels=frozenset({'CVE'}) properties={'assigner': 'cna@sap.com', 'id': 'CVE-2023-0018'}>>, <Record cve1=<Node element_id='4:de342d72-e7ff-4d5b-9a28-99eaa381965b:5' labels=frozenset({'CVE'}) properties={'assigner': 'cna@sap.com', 'id': 'CVE-2023-0017'}> cve2=<Node element_id='4:de342d72-e7ff-4d5b-9a28-99eaa381965b:8' labels=frozenset({'CVE'}) properties={'assigner': 'cna@sap.com', 'id': 'CVE-2023-0023'}> Entities=<Node element_id='4:de342d72-e7ff-4d5b-9a28-99eaa381965b:9' labels=frozenset({'CVE'}) properties={'assigner': 'security@huntr.dev', 'id': 'CVE-2023-0028'}>>, <Record cve1=<Node element_id='4:de342d72-e7ff-4d5b-9a28-99eaa381965b:5' labels=frozenset({'CVE'}) properties={'assigner': 'cna@sap.com', 'id': 'CVE-2023-0017'}> cve2=<Node element_id='4:de342d72-e7ff-4d5b-9a28-99eaa381965b:8' labels=frozenset({'CVE'}) properties={'assigner': 'cna@sap.com', 'id': 'CVE-2023-0023'}> Entities=<Node element_id='4:de342d72-e7ff-4d5b-9a28-99eaa381965b:9' labels=frozenset({'CVE'}) properties={'assigner': 'security@huntr.dev', 'id': 'CVE-2023-0028'}>>, <Record cve1=<Node element_id='4:de342d72-e7ff-4d5b-9a28-99eaa381965b:5' labels=frozenset({'CVE'}) properties={'assigner': 'cna@sap.com', 'id': 'CVE-2023-0017'}> cve2=<Node element_id='4:de342d72-e7ff-4d5b-9a28-99eaa381965b:8' labels=frozenset({'CVE'}) properties={'assigner': 'cna@sap.com', 'id': 'CVE-2023-0023'}> Entities=<Node element_id='4:de342d72-e7ff-4d5b-9a28-99eaa381965b:3' labels=frozenset({'CVE'}) properties={'assigner': 'cna@sap.com', 'id': 'CVE-2023-0015'}>>, <Record cve1=<Node element_id='4:de342d72-e7ff-4d5b-9a28-99eaa381965b:5' labels=frozenset({'CVE'}) properties={'assigner': 'cna@sap.com', 'id': 'CVE-2023-0017'}> cve2=<Node element_id='4:de342d72-e7ff-4d5b-9a28-99eaa381965b:8' labels=frozenset({'CVE'}) properties={'assigner': 'cna@sap.com', 'id': 'CVE-2023-0023'}> Entities=<Node element_id='4:de342d72-e7ff-4d5b-9a28-99eaa381965b:3' labels=frozenset({'CVE'}) properties={'assigner': 'cna@sap.com', 'id': 'CVE-2023-0015'}>>, <Record cve1=<Node element_id='4:de342d72-e7ff-4d5b-9a28-99eaa381965b:5' labels=frozenset({'CVE'}) properties={'assigner': 'cna@sap.com', 'id': 'CVE-2023-0017'}> cve2=<Node element_id='4:de342d72-e7ff-4d5b-9a28-99eaa381965b:8' labels=frozenset({'CVE'}) properties={'assigner': 'cna@sap.com', 'id': 'CVE-2023-0023'}> Entities=<Node element_id='4:de342d72-e7ff-4d5b-9a28-99eaa381965b:1' labels=frozenset({'CVE'}) properties={'assigner': 'cna@sap.com', 'id': 'CVE-2023-0013'}>>, <Record cve1=<Node element_id='4:de342d72-e7ff-4d5b-9a28-99eaa381965b:5' labels=frozenset({'CVE'}) properties={'assigner': 'cna@sap.com', 'id': 'CVE-2023-0017'}> cve2=<Node element_id='4:de342d72-e7ff-4d5b-9a28-99eaa381965b:8' labels=frozenset({'CVE'}) properties={'assigner': 'cna@sap.com', 'id': 'CVE-2023-0023'}> Entities=<Node element_id='4:de342d72-e7ff-4d5b-9a28-99eaa381965b:1' labels=frozenset({'CVE'}) properties={'assigner': 'cna@sap.com', 'id': 'CVE-2023-0013'}>>, <Record cve1=<Node element_id='4:de342d72-e7ff-4d5b-9a28-99eaa381965b:5' labels=frozenset({'CVE'}) properties={'assigner': 'cna@sap.com', 'id': 'CVE-2023-0017'}> cve2=<Node element_id='4:de342d72-e7ff-4d5b-9a28-99eaa381965b:8' labels=frozenset({'CVE'}) properties={'assigner': 'cna@sap.com', 'id': 'CVE-2023-0023'}> Entities=<Node element_id='4:de342d72-e7ff-4d5b-9a28-99eaa381965b:6' labels=frozenset({'CVE'}) properties={'assigner': 'cna@sap.com', 'id': 'CVE-2023-0018'}>>, <Record cve1=<Node element_id='4:de342d72-e7ff-4d5b-9a28-99eaa381965b:5' labels=frozenset({'CVE'}) properties={'assigner': 'cna@sap.com', 'id': 'CVE-2023-0017'}> cve2=<Node element_id='4:de342d72-e7ff-4d5b-9a28-99eaa381965b:8' labels=frozenset({'CVE'}) properties={'assigner': 'cna@sap.com', 'id': 'CVE-2023-0023'}> Entities=<Node element_id='4:de342d72-e7ff-4d5b-9a28-99eaa381965b:6' labels=frozenset({'CVE'}) properties={'assigner': 'cna@sap.com', 'id': 'CVE-2023-0018'}>>, <Record cve1=<Node element_id='4:de342d72-e7ff-4d5b-9a28-99eaa381965b:5' labels=frozenset({'CVE'}) properties={'assigner': 'cna@sap.com', 'id': 'CVE-2023-0017'}> cve2=<Node element_id='4:de342d72-e7ff-4d5b-9a28-99eaa381965b:8' labels=frozenset({'CVE'}) properties={'assigner': 'cna@sap.com', 'id': 'CVE-2023-0023'}> Entities=<Node element_id='4:de342d72-e7ff-4d5b-9a28-99eaa381965b:9' labels=frozenset({'CVE'}) properties={'assigner': 'security@huntr.dev', 'id': 'CVE-2023-0028'}>>, <Record cve1=<Node element_id='4:de342d72-e7ff-4d5b-9a28-99eaa381965b:5' labels=frozenset({'CVE'}) properties={'assigner': 'cna@sap.com', 'id': 'CVE-2023-0017'}> cve2=<Node element_id='4:de342d72-e7ff-4d5b-9a28-99eaa381965b:8' labels=frozenset({'CVE'}) properties={'assigner': 'cna@sap.com', 'id': 'CVE-2023-0023'}> Entities=<Node element_id='4:de342d72-e7ff-4d5b-9a28-99eaa381965b:9' labels=frozenset({'CVE'}) properties={'assigner': 'security@huntr.dev', 'id': 'CVE-2023-0028'}>>, <Record cve1=<Node element_id='4:de342d72-e7ff-4d5b-9a28-99eaa381965b:5' labels=frozenset({'CVE'}) properties={'assigner': 'cna@sap.com', 'id': 'CVE-2023-0017'}> cve2=<Node element_id='4:de342d72-e7ff-4d5b-9a28-99eaa381965b:8' labels=frozenset({'CVE'}) properties={'assigner': 'cna@sap.com', 'id': 'CVE-2023-0023'}> Entities=<Node element_id='4:de342d72-e7ff-4d5b-9a28-99eaa381965b:3' labels=frozenset({'CVE'}) properties={'assigner': 'cna@sap.com', 'id': 'CVE-2023-0015'}>>, <Record cve1=<Node element_id='4:de342d72-e7ff-4d5b-9a28-99eaa381965b:5' labels=frozenset({'CVE'}) properties={'assigner': 'cna@sap.com', 'id': 'CVE-2023-0017'}> cve2=<Node element_id='4:de342d72-e7ff-4d5b-9a28-99eaa381965b:8' labels=frozenset({'CVE'}) properties={'assigner': 'cna@sap.com', 'id': 'CVE-2023-0023'}> Entities=<Node element_id='4:de342d72-e7ff-4d5b-9a28-99eaa381965b:3' labels=frozenset({'CVE'}) properties={'assigner': 'cna@sap.com', 'id': 'CVE-2023-0015'}>>, <Record cve1=<Node element_id='4:de342d72-e7ff-4d5b-9a28-99eaa381965b:5' labels=frozenset({'CVE'}) properties={'assigner': 'cna@sap.com', 'id': 'CVE-2023-0017'}> cve2=<Node element_id='4:de342d72-e7ff-4d5b-9a28-99eaa381965b:8' labels=frozenset({'CVE'}) properties={'assigner': 'cna@sap.com', 'id': 'CVE-2023-0023'}> Entities=<Node element_id='4:de342d72-e7ff-4d5b-9a28-99eaa381965b:1' labels=frozenset({'CVE'}) properties={'assigner': 'cna@sap.com', 'id': 'CVE-2023-0013'}>>, <Record cve1=<Node element_id='4:de342d72-e7ff-4d5b-9a28-99eaa381965b:5' labels=frozenset({'CVE'}) properties={'assigner': 'cna@sap.com', 'id': 'CVE-2023-0017'}> cve2=<Node element_id='4:de342d72-e7ff-4d5b-9a28-99eaa381965b:8' labels=frozenset({'CVE'}) properties={'assigner': 'cna@sap.com', 'id': 'CVE-2023-0023'}> Entities=<Node element_id='4:de342d72-e7ff-4d5b-9a28-99eaa381965b:1' labels=frozenset({'CVE'}) properties={'assigner': 'cna@sap.com', 'id': 'CVE-2023-0013'}>>, <Record cve1=<Node element_id='4:de342d72-e7ff-4d5b-9a28-99eaa381965b:5' labels=frozenset({'CVE'}) properties={'assigner': 'cna@sap.com', 'id': 'CVE-2023-0017'}> cve2=<Node element_id='4:de342d72-e7ff-4d5b-9a28-99eaa381965b:8' labels=frozenset({'CVE'}) properties={'assigner': 'cna@sap.com', 'id': 'CVE-2023-0023'}> Entities=<Node element_id='4:de342d72-e7ff-4d5b-9a28-99eaa381965b:6' labels=frozenset({'CVE'}) properties={'assigner': 'cna@sap.com', 'id': 'CVE-2023-0018'}>>, <Record cve1=<Node element_id='4:de342d72-e7ff-4d5b-9a28-99eaa381965b:5' labels=frozenset({'CVE'}) properties={'assigner': 'cna@sap.com', 'id': 'CVE-2023-0017'}> cve2=<Node element_id='4:de342d72-e7ff-4d5b-9a28-99eaa381965b:8' labels=frozenset({'CVE'}) properties={'assigner': 'cna@sap.com', 'id': 'CVE-2023-0023'}> Entities=<Node element_id='4:de342d72-e7ff-4d5b-9a28-99eaa381965b:6' labels=frozenset({'CVE'}) properties={'assigner': 'cna@sap.com', 'id': 'CVE-2023-0018'}>>, <Record cve1=<Node element_id='4:de342d72-e7ff-4d5b-9a28-99eaa381965b:5' labels=frozenset({'CVE'}) properties={'assigner': 'cna@sap.com', 'id': 'CVE-2023-0017'}> cve2=<Node element_id='4:de342d72-e7ff-4d5b-9a28-99eaa381965b:8' labels=frozenset({'CVE'}) properties={'assigner': 'cna@sap.com', 'id': 'CVE-2023-0023'}> Entities=<Node element_id='4:de342d72-e7ff-4d5b-9a28-99eaa381965b:9' labels=frozenset({'CVE'}) properties={'assigner': 'security@huntr.dev', 'id': 'CVE-2023-0028'}>>, <Record cve1=<Node element_id='4:de342d72-e7ff-4d5b-9a28-99eaa381965b:5' labels=frozenset({'CVE'}) properties={'assigner': 'cna@sap.com', 'id': 'CVE-2023-0017'}> cve2=<Node element_id='4:de342d72-e7ff-4d5b-9a28-99eaa381965b:8' labels=frozenset({'CVE'}) properties={'assigner': 'cna@sap.com', 'id': 'CVE-2023-0023'}> Entities=<Node element_id='4:de342d72-e7ff-4d5b-9a28-99eaa381965b:9' labels=frozenset({'CVE'}) properties={'assigner': 'security@huntr.dev', 'id': 'CVE-2023-0028'}>>, <Record cve1=<Node element_id='4:de342d72-e7ff-4d5b-9a28-99eaa381965b:5' labels=frozenset({'CVE'}) properties={'assigner': 'cna@sap.com', 'id': 'CVE-2023-0017'}> cve2=<Node element_id='4:de342d72-e7ff-4d5b-9a28-99eaa381965b:8' labels=frozenset({'CVE'}) properties={'assigner': 'cna@sap.com', 'id': 'CVE-2023-0023'}> Entities=<Node element_id='4:de342d72-e7ff-4d5b-9a28-99eaa381965b:3' labels=frozenset({'CVE'}) properties={'assigner': 'cna@sap.com', 'id': 'CVE-2023-0015'}>>, <Record cve1=<Node element_id='4:de342d72-e7ff-4d5b-9a28-99eaa381965b:5' labels=frozenset({'CVE'}) properties={'assigner': 'cna@sap.com', 'id': 'CVE-2023-0017'}> cve2=<Node element_id='4:de342d72-e7ff-4d5b-9a28-99eaa381965b:8' labels=frozenset({'CVE'}) properties={'assigner': 'cna@sap.com', 'id': 'CVE-2023-0023'}> Entities=<Node element_id='4:de342d72-e7ff-4d5b-9a28-99eaa381965b:3' labels=frozenset({'CVE'}) properties={'assigner': 'cna@sap.com', 'id': 'CVE-2023-0015'}>>, <Record cve1=<Node element_id='4:de342d72-e7ff-4d5b-9a28-99eaa381965b:5' labels=frozenset({'CVE'}) properties={'assigner': 'cna@sap.com', 'id': 'CVE-2023-0017'}> cve2=<Node element_id='4:de342d72-e7ff-4d5b-9a28-99eaa381965b:8' labels=frozenset({'CVE'}) properties={'assigner': 'cna@sap.com', 'id': 'CVE-2023-0023'}> Entities=<Node element_id='4:de342d72-e7ff-4d5b-9a28-99eaa381965b:1' labels=frozenset({'CVE'}) properties={'assigner': 'cna@sap.com', 'id': 'CVE-2023-0013'}>>, <Record cve1=<Node element_id='4:de342d72-e7ff-4d5b-9a28-99eaa381965b:5' labels=frozenset({'CVE'}) properties={'assigner': 'cna@sap.com', 'id': 'CVE-2023-0017'}> cve2=<Node element_id='4:de342d72-e7ff-4d5b-9a28-99eaa381965b:8' labels=frozenset({'CVE'}) properties={'assigner': 'cna@sap.com', 'id': 'CVE-2023-0023'}> Entities=<Node element_id='4:de342d72-e7ff-4d5b-9a28-99eaa381965b:1' labels=frozenset({'CVE'}) properties={'assigner': 'cna@sap.com', 'id': 'CVE-2023-0013'}>>, <Record cve1=<Node element_id='4:de342d72-e7ff-4d5b-9a28-99eaa381965b:5' labels=frozenset({'CVE'}) properties={'assigner': 'cna@sap.com', 'id': 'CVE-2023-0017'}> cve2=<Node element_id='4:de342d72-e7ff-4d5b-9a28-99eaa381965b:8' labels=frozenset({'CVE'}) properties={'assigner': 'cna@sap.com', 'id': 'CVE-2023-0023'}> Entities=<Node element_id='4:de342d72-e7ff-4d5b-9a28-99eaa381965b:6' labels=frozenset({'CVE'}) properties={'assigner': 'cna@sap.com', 'id': 'CVE-2023-0018'}>>, <Record cve1=<Node element_id='4:de342d72-e7ff-4d5b-9a28-99eaa381965b:5' labels=frozenset({'CVE'}) properties={'assigner': 'cna@sap.com', 'id': 'CVE-2023-0017'}> cve2=<Node element_id='4:de342d72-e7ff-4d5b-9a28-99eaa381965b:8' labels=frozenset({'CVE'}) properties={'assigner': 'cna@sap.com', 'id': 'CVE-2023-0023'}> Entities=<Node element_id='4:de342d72-e7ff-4d5b-9a28-99eaa381965b:6' labels=frozenset({'CVE'}) properties={'assigner': 'cna@sap.com', 'id': 'CVE-2023-0018'}>>, <Record cve1=<Node element_id='4:de342d72-e7ff-4d5b-9a28-99eaa381965b:5' labels=frozenset({'CVE'}) properties={'assigner': 'cna@sap.com', 'id': 'CVE-2023-0017'}> cve2=<Node element_id='4:de342d72-e7ff-4d5b-9a28-99eaa381965b:8' labels=frozenset({'CVE'}) properties={'assigner': 'cna@sap.com', 'id': 'CVE-2023-0023'}> Entities=<Node element_id='4:de342d72-e7ff-4d5b-9a28-99eaa381965b:9' labels=frozenset({'CVE'}) properties={'assigner': 'security@huntr.dev', 'id': 'CVE-2023-0028'}>>, <Record cve1=<Node element_id='4:de342d72-e7ff-4d5b-9a28-99eaa381965b:5' labels=frozenset({'CVE'}) properties={'assigner': 'cna@sap.com', 'id': 'CVE-2023-0017'}> cve2=<Node element_id='4:de342d72-e7ff-4d5b-9a28-99eaa381965b:8' labels=frozenset({'CVE'}) properties={'assigner': 'cna@sap.com', 'id': 'CVE-2023-0023'}> Entities=<Node element_id='4:de342d72-e7ff-4d5b-9a28-99eaa381965b:9' labels=frozenset({'CVE'}) properties={'assigner': 'security@huntr.dev', 'id': 'CVE-2023-0028'}>>, <Record cve1=<Node element_id='4:de342d72-e7ff-4d5b-9a28-99eaa381965b:5' labels=frozenset({'CVE'}) properties={'assigner': 'cna@sap.com', 'id': 'CVE-2023-0017'}> cve2=<Node element_id='4:de342d72-e7ff-4d5b-9a28-99eaa381965b:8' labels=frozenset({'CVE'}) properties={'assigner': 'cna@sap.com', 'id': 'CVE-2023-0023'}> Entities=<Node element_id='4:de342d72-e7ff-4d5b-9a28-99eaa381965b:3' labels=frozenset({'CVE'}) properties={'assigner': 'cna@sap.com', 'id': 'CVE-2023-0015'}>>, <Record cve1=<Node element_id='4:de342d72-e7ff-4d5b-9a28-99eaa381965b:5' labels=frozenset({'CVE'}) properties={'assigner': 'cna@sap.com', 'id': 'CVE-2023-0017'}> cve2=<Node element_id='4:de342d72-e7ff-4d5b-9a28-99eaa381965b:8' labels=frozenset({'CVE'}) properties={'assigner': 'cna@sap.com', 'id': 'CVE-2023-0023'}> Entities=<Node element_id='4:de342d72-e7ff-4d5b-9a28-99eaa381965b:3' labels=frozenset({'CVE'}) properties={'assigner': 'cna@sap.com', 'id': 'CVE-2023-0015'}>>, <Record cve1=<Node element_id='4:de342d72-e7ff-4d5b-9a28-99eaa381965b:5' labels=frozenset({'CVE'}) properties={'assigner': 'cna@sap.com', 'id': 'CVE-2023-0017'}> cve2=<Node element_id='4:de342d72-e7ff-4d5b-9a28-99eaa381965b:8' labels=frozenset({'CVE'}) properties={'assigner': 'cna@sap.com', 'id': 'CVE-2023-0023'}> Entities=<Node element_id='4:de342d72-e7ff-4d5b-9a28-99eaa381965b:1' labels=frozenset({'CVE'}) properties={'assigner': 'cna@sap.com', 'id': 'CVE-2023-0013'}>>, <Record cve1=<Node element_id='4:de342d72-e7ff-4d5b-9a28-99eaa381965b:5' labels=frozenset({'CVE'}) properties={'assigner': 'cna@sap.com', 'id': 'CVE-2023-0017'}> cve2=<Node element_id='4:de342d72-e7ff-4d5b-9a28-99eaa381965b:8' labels=frozenset({'CVE'}) properties={'assigner': 'cna@sap.com', 'id': 'CVE-2023-0023'}> Entities=<Node element_id='4:de342d72-e7ff-4d5b-9a28-99eaa381965b:1' labels=frozenset({'CVE'}) properties={'assigner': 'cna@sap.com', 'id': 'CVE-2023-0013'}>>, <Record cve1=<Node element_id='4:de342d72-e7ff-4d5b-9a28-99eaa381965b:5' labels=frozenset({'CVE'}) properties={'assigner': 'cna@sap.com', 'id': 'CVE-2023-0017'}> cve2=<Node element_id='4:de342d72-e7ff-4d5b-9a28-99eaa381965b:8' labels=frozenset({'CVE'}) properties={'assigner': 'cna@sap.com', 'id': 'CVE-2023-0023'}> Entities=<Node element_id='4:de342d72-e7ff-4d5b-9a28-99eaa381965b:6' labels=frozenset({'CVE'}) properties={'assigner': 'cna@sap.com', 'id': 'CVE-2023-0018'}>>, <Record cve1=<Node element_id='4:de342d72-e7ff-4d5b-9a28-99eaa381965b:5' labels=frozenset({'CVE'}) properties={'assigner': 'cna@sap.com', 'id': 'CVE-2023-0017'}> cve2=<Node element_id='4:de342d72-e7ff-4d5b-9a28-99eaa381965b:8' labels=frozenset({'CVE'}) properties={'assigner': 'cna@sap.com', 'id': 'CVE-2023-0023'}> Entities=<Node element_id='4:de342d72-e7ff-4d5b-9a28-99eaa381965b:6' labels=frozenset({'CVE'}) properties={'assigner': 'cna@sap.com', 'id': 'CVE-2023-0018'}>>, <Record cve1=<Node element_id='4:de342d72-e7ff-4d5b-9a28-99eaa381965b:5' labels=frozenset({'CVE'}) properties={'assigner': 'cna@sap.com', 'id': 'CVE-2023-0017'}> cve2=<Node element_id='4:de342d72-e7ff-4d5b-9a28-99eaa381965b:8' labels=frozenset({'CVE'}) properties={'assigner': 'cna@sap.com', 'id': 'CVE-2023-0023'}> Entities=<Node element_id='4:de342d72-e7ff-4d5b-9a28-99eaa381965b:9' labels=frozenset({'CVE'}) properties={'assigner': 'security@huntr.dev', 'id': 'CVE-2023-0028'}>>, <Record cve1=<Node element_id='4:de342d72-e7ff-4d5b-9a28-99eaa381965b:5' labels=frozenset({'CVE'}) properties={'assigner': 'cna@sap.com', 'id': 'CVE-2023-0017'}> cve2=<Node element_id='4:de342d72-e7ff-4d5b-9a28-99eaa381965b:8' labels=frozenset({'CVE'}) properties={'assigner': 'cna@sap.com', 'id': 'CVE-2023-0023'}> Entities=<Node element_id='4:de342d72-e7ff-4d5b-9a28-99eaa381965b:9' labels=frozenset({'CVE'}) properties={'assigner': 'security@huntr.dev', 'id': 'CVE-2023-0028'}>>, <Record cve1=<Node element_id='4:de342d72-e7ff-4d5b-9a28-99eaa381965b:5' labels=frozenset({'CVE'}) properties={'assigner': 'cna@sap.com', 'id': 'CVE-2023-0017'}> cve2=<Node element_id='4:de342d72-e7ff-4d5b-9a28-99eaa381965b:8' labels=frozenset({'CVE'}) properties={'assigner': 'cna@sap.com', 'id': 'CVE-2023-0023'}> Entities=<Node element_id='4:de342d72-e7ff-4d5b-9a28-99eaa381965b:3' labels=frozenset({'CVE'}) properties={'assigner': 'cna@sap.com', 'id': 'CVE-2023-0015'}>>, <Record cve1=<Node element_id='4:de342d72-e7ff-4d5b-9a28-99eaa381965b:5' labels=frozenset({'CVE'}) properties={'assigner': 'cna@sap.com', 'id': 'CVE-2023-0017'}> cve2=<Node element_id='4:de342d72-e7ff-4d5b-9a28-99eaa381965b:8' labels=frozenset({'CVE'}) properties={'assigner': 'cna@sap.com', 'id': 'CVE-2023-0023'}> Entities=<Node element_id='4:de342d72-e7ff-4d5b-9a28-99eaa381965b:3' labels=frozenset({'CVE'}) properties={'assigner': 'cna@sap.com', 'id': 'CVE-2023-0015'}>>, <Record cve1=<Node element_id='4:de342d72-e7ff-4d5b-9a28-99eaa381965b:5' labels=frozenset({'CVE'}) properties={'assigner': 'cna@sap.com', 'id': 'CVE-2023-0017'}> cve2=<Node element_id='4:de342d72-e7ff-4d5b-9a28-99eaa381965b:8' labels=frozenset({'CVE'}) properties={'assigner': 'cna@sap.com', 'id': 'CVE-2023-0023'}> Entities=<Node element_id='4:de342d72-e7ff-4d5b-9a28-99eaa381965b:1' labels=frozenset({'CVE'}) properties={'assigner': 'cna@sap.com', 'id': 'CVE-2023-0013'}>>, <Record cve1=<Node element_id='4:de342d72-e7ff-4d5b-9a28-99eaa381965b:5' labels=frozenset({'CVE'}) properties={'assigner': 'cna@sap.com', 'id': 'CVE-2023-0017'}> cve2=<Node element_id='4:de342d72-e7ff-4d5b-9a28-99eaa381965b:8' labels=frozenset({'CVE'}) properties={'assigner': 'cna@sap.com', 'id': 'CVE-2023-0023'}> Entities=<Node element_id='4:de342d72-e7ff-4d5b-9a28-99eaa381965b:1' labels=frozenset({'CVE'}) properties={'assigner': 'cna@sap.com', 'id': 'CVE-2023-0013'}>>, <Record cve1=<Node element_id='4:de342d72-e7ff-4d5b-9a28-99eaa381965b:5' labels=frozenset({'CVE'}) properties={'assigner': 'cna@sap.com', 'id': 'CVE-2023-0017'}> cve2=<Node element_id='4:de342d72-e7ff-4d5b-9a28-99eaa381965b:8' labels=frozenset({'CVE'}) properties={'assigner': 'cna@sap.com', 'id': 'CVE-2023-0023'}> Entities=<Node element_id='4:de342d72-e7ff-4d5b-9a28-99eaa381965b:4' labels=frozenset({'CVE'}) properties={'assigner': 'cna@sap.com', 'id': 'CVE-2023-0016'}>>, <Record cve1=<Node element_id='4:de342d72-e7ff-4d5b-9a28-99eaa381965b:5' labels=frozenset({'CVE'}) properties={'assigner': 'cna@sap.com', 'id': 'CVE-2023-0017'}> cve2=<Node element_id='4:de342d72-e7ff-4d5b-9a28-99eaa381965b:8' labels=frozenset({'CVE'}) properties={'assigner': 'cna@sap.com', 'id': 'CVE-2023-0023'}> Entities=<Node element_id='4:de342d72-e7ff-4d5b-9a28-99eaa381965b:167' labels=frozenset({'Entities'}) properties={'wikipediaExternalRef': 241154, 'wikidataId': 'Q371199', 'confidence_score': 0.719, 'offsetStart': 0, 'offsetEnd': 20, 'rawName': 'Cross-site scripting'}>>, <Record cve1=<Node element_id='4:de342d72-e7ff-4d5b-9a28-99eaa381965b:5' labels=frozenset({'CVE'}) properties={'assigner': 'cna@sap.com', 'id': 'CVE-2023-0017'}> cve2=<Node element_id='4:de342d72-e7ff-4d5b-9a28-99eaa381965b:8' labels=frozenset({'CVE'}) properties={'assigner': 'cna@sap.com', 'id': 'CVE-2023-0023'}> Entities=<Node element_id='4:de342d72-e7ff-4d5b-9a28-99eaa381965b:167' labels=frozenset({'Entities'}) properties={'wikipediaExternalRef': 241154, 'wikidataId': 'Q371199', 'confidence_score': 0.719, 'offsetStart': 0, 'offsetEnd': 20, 'rawName': 'Cross-site scripting'}>>, <Record cve1=<Node element_id='4:de342d72-e7ff-4d5b-9a28-99eaa381965b:5' labels=frozenset({'CVE'}) properties={'assigner': 'cna@sap.com', 'id': 'CVE-2023-0017'}> cve2=<Node element_id='4:de342d72-e7ff-4d5b-9a28-99eaa381965b:8' labels=frozenset({'CVE'}) properties={'assigner': 'cna@sap.com', 'id': 'CVE-2023-0023'}> Entities=<Node element_id='4:de342d72-e7ff-4d5b-9a28-99eaa381965b:167' labels=frozenset({'Entities'}) properties={'wikipediaExternalRef': 241154, 'wikidataId': 'Q371199', 'confidence_score': 0.719, 'offsetStart': 0, 'offsetEnd': 20, 'rawName': 'Cross-site scripting'}>>, <Record cve1=<Node element_id='4:de342d72-e7ff-4d5b-9a28-99eaa381965b:5' labels=frozenset({'CVE'}) properties={'assigner': 'cna@sap.com', 'id': 'CVE-2023-0017'}> cve2=<Node element_id='4:de342d72-e7ff-4d5b-9a28-99eaa381965b:8' labels=frozenset({'CVE'}) properties={'assigner': 'cna@sap.com', 'id': 'CVE-2023-0023'}> Entities=<Node element_id='4:de342d72-e7ff-4d5b-9a28-99eaa381965b:167' labels=frozenset({'Entities'}) properties={'wikipediaExternalRef': 241154, 'wikidataId': 'Q371199', 'confidence_score': 0.719, 'offsetStart': 0, 'offsetEnd': 20, 'rawName': 'Cross-site scripting'}>>, <Record cve1=<Node element_id='4:de342d72-e7ff-4d5b-9a28-99eaa381965b:5' labels=frozenset({'CVE'}) properties={'assigner': 'cna@sap.com', 'id': 'CVE-2023-0017'}> cve2=<Node element_id='4:de342d72-e7ff-4d5b-9a28-99eaa381965b:8' labels=frozenset({'CVE'}) properties={'assigner': 'cna@sap.com', 'id': 'CVE-2023-0023'}> Entities=<Node element_id='4:de342d72-e7ff-4d5b-9a28-99eaa381965b:262' labels=frozenset({'Entities'}) properties={'wikipediaExternalRef': 526999, 'wikidataId': 'Q506059', 'confidence_score': 0.9162, 'offsetStart': 1041, 'offsetEnd': 1054, 'rawName': 'SQL injection'}>>, <Record cve1=<Node element_id='4:de342d72-e7ff-4d5b-9a28-99eaa381965b:4' labels=frozenset({'CVE'}) properties={'assigner': 'cna@sap.com', 'id': 'CVE-2023-0016'}> cve2=<Node element_id='4:de342d72-e7ff-4d5b-9a28-99eaa381965b:7' labels=frozenset({'CVE'}) properties={'assigner': 'cna@sap.com', 'id': 'CVE-2023-0022'}> Entities=<Node element_id='4:de342d72-e7ff-4d5b-9a28-99eaa381965b:6' labels=frozenset({'CVE'}) properties={'assigner': 'cna@sap.com', 'id': 'CVE-2023-0018'}>>, <Record cve1=<Node element_id='4:de342d72-e7ff-4d5b-9a28-99eaa381965b:4' labels=frozenset({'CVE'}) properties={'assigner': 'cna@sap.com', 'id': 'CVE-2023-0016'}> cve2=<Node element_id='4:de342d72-e7ff-4d5b-9a28-99eaa381965b:7' labels=frozenset({'CVE'}) properties={'assigner': 'cna@sap.com', 'id': 'CVE-2023-0022'}> Entities=<Node element_id='4:de342d72-e7ff-4d5b-9a28-99eaa381965b:9' labels=frozenset({'CVE'}) properties={'assigner': 'security@huntr.dev', 'id': 'CVE-2023-0028'}>>, <Record cve1=<Node element_id='4:de342d72-e7ff-4d5b-9a28-99eaa381965b:4' labels=frozenset({'CVE'}) properties={'assigner': 'cna@sap.com', 'id': 'CVE-2023-0016'}> cve2=<Node element_id='4:de342d72-e7ff-4d5b-9a28-99eaa381965b:7' labels=frozenset({'CVE'}) properties={'assigner': 'cna@sap.com', 'id': 'CVE-2023-0022'}> Entities=<Node element_id='4:de342d72-e7ff-4d5b-9a28-99eaa381965b:3' labels=frozenset({'CVE'}) properties={'assigner': 'cna@sap.com', 'id': 'CVE-2023-0015'}>>, <Record cve1=<Node element_id='4:de342d72-e7ff-4d5b-9a28-99eaa381965b:4' labels=frozenset({'CVE'}) properties={'assigner': 'cna@sap.com', 'id': 'CVE-2023-0016'}> cve2=<Node element_id='4:de342d72-e7ff-4d5b-9a28-99eaa381965b:7' labels=frozenset({'CVE'}) properties={'assigner': 'cna@sap.com', 'id': 'CVE-2023-0022'}> Entities=<Node element_id='4:de342d72-e7ff-4d5b-9a28-99eaa381965b:1' labels=frozenset({'CVE'}) properties={'assigner': 'cna@sap.com', 'id': 'CVE-2023-0013'}>>, <Record cve1=<Node element_id='4:de342d72-e7ff-4d5b-9a28-99eaa381965b:4' labels=frozenset({'CVE'}) properties={'assigner': 'cna@sap.com', 'id': 'CVE-2023-0016'}> cve2=<Node element_id='4:de342d72-e7ff-4d5b-9a28-99eaa381965b:7' labels=frozenset({'CVE'}) properties={'assigner': 'cna@sap.com', 'id': 'CVE-2023-0022'}> Entities=<Node element_id='4:de342d72-e7ff-4d5b-9a28-99eaa381965b:7' labels=frozenset({'CVE'}) properties={'assigner': 'cna@sap.com', 'id': 'CVE-2023-0022'}>>, <Record cve1=<Node element_id='4:de342d72-e7ff-4d5b-9a28-99eaa381965b:4' labels=frozenset({'CVE'}) properties={'assigner': 'cna@sap.com', 'id': 'CVE-2023-0016'}> cve2=<Node element_id='4:de342d72-e7ff-4d5b-9a28-99eaa381965b:7' labels=frozenset({'CVE'}) properties={'assigner': 'cna@sap.com', 'id': 'CVE-2023-0022'}> Entities=<Node element_id='4:de342d72-e7ff-4d5b-9a28-99eaa381965b:7' labels=frozenset({'CVE'}) properties={'assigner': 'cna@sap.com', 'id': 'CVE-2023-0022'}>>, <Record cve1=<Node element_id='4:de342d72-e7ff-4d5b-9a28-99eaa381965b:4' labels=frozenset({'CVE'}) properties={'assigner': 'cna@sap.com', 'id': 'CVE-2023-0016'}> cve2=<Node element_id='4:de342d72-e7ff-4d5b-9a28-99eaa381965b:7' labels=frozenset({'CVE'}) properties={'assigner': 'cna@sap.com', 'id': 'CVE-2023-0022'}> Entities=<Node element_id='4:de342d72-e7ff-4d5b-9a28-99eaa381965b:2' labels=frozenset({'CVE'}) properties={'assigner': 'cna@sap.com', 'id': 'CVE-2023-0014'}>>, <Record cve1=<Node element_id='4:de342d72-e7ff-4d5b-9a28-99eaa381965b:4' labels=frozenset({'CVE'}) properties={'assigner': 'cna@sap.com', 'id': 'CVE-2023-0016'}> cve2=<Node element_id='4:de342d72-e7ff-4d5b-9a28-99eaa381965b:7' labels=frozenset({'CVE'}) properties={'assigner': 'cna@sap.com', 'id': 'CVE-2023-0022'}> Entities=<Node element_id='4:de342d72-e7ff-4d5b-9a28-99eaa381965b:6' labels=frozenset({'CVE'}) properties={'assigner': 'cna@sap.com', 'id': 'CVE-2023-0018'}>>, <Record cve1=<Node element_id='4:de342d72-e7ff-4d5b-9a28-99eaa381965b:4' labels=frozenset({'CVE'}) properties={'assigner': 'cna@sap.com', 'id': 'CVE-2023-0016'}> cve2=<Node element_id='4:de342d72-e7ff-4d5b-9a28-99eaa381965b:7' labels=frozenset({'CVE'}) properties={'assigner': 'cna@sap.com', 'id': 'CVE-2023-0022'}> Entities=<Node element_id='4:de342d72-e7ff-4d5b-9a28-99eaa381965b:9' labels=frozenset({'CVE'}) properties={'assigner': 'security@huntr.dev', 'id': 'CVE-2023-0028'}>>, <Record cve1=<Node element_id='4:de342d72-e7ff-4d5b-9a28-99eaa381965b:4' labels=frozenset({'CVE'}) properties={'assigner': 'cna@sap.com', 'id': 'CVE-2023-0016'}> cve2=<Node element_id='4:de342d72-e7ff-4d5b-9a28-99eaa381965b:7' labels=frozenset({'CVE'}) properties={'assigner': 'cna@sap.com', 'id': 'CVE-2023-0022'}> Entities=<Node element_id='4:de342d72-e7ff-4d5b-9a28-99eaa381965b:3' labels=frozenset({'CVE'}) properties={'assigner': 'cna@sap.com', 'id': 'CVE-2023-0015'}>>, <Record cve1=<Node element_id='4:de342d72-e7ff-4d5b-9a28-99eaa381965b:4' labels=frozenset({'CVE'}) properties={'assigner': 'cna@sap.com', 'id': 'CVE-2023-0016'}> cve2=<Node element_id='4:de342d72-e7ff-4d5b-9a28-99eaa381965b:7' labels=frozenset({'CVE'}) properties={'assigner': 'cna@sap.com', 'id': 'CVE-2023-0022'}> Entities=<Node element_id='4:de342d72-e7ff-4d5b-9a28-99eaa381965b:1' labels=frozenset({'CVE'}) properties={'assigner': 'cna@sap.com', 'id': 'CVE-2023-0013'}>>, <Record cve1=<Node element_id='4:de342d72-e7ff-4d5b-9a28-99eaa381965b:4' labels=frozenset({'CVE'}) properties={'assigner': 'cna@sap.com', 'id': 'CVE-2023-0016'}> cve2=<Node element_id='4:de342d72-e7ff-4d5b-9a28-99eaa381965b:7' labels=frozenset({'CVE'}) properties={'assigner': 'cna@sap.com', 'id': 'CVE-2023-0022'}> Entities=<Node element_id='4:de342d72-e7ff-4d5b-9a28-99eaa381965b:8' labels=frozenset({'CVE'}) properties={'assigner': 'cna@sap.com', 'id': 'CVE-2023-0023'}>>, <Record cve1=<Node element_id='4:de342d72-e7ff-4d5b-9a28-99eaa381965b:4' labels=frozenset({'CVE'}) properties={'assigner': 'cna@sap.com', 'id': 'CVE-2023-0016'}> cve2=<Node element_id='4:de342d72-e7ff-4d5b-9a28-99eaa381965b:7' labels=frozenset({'CVE'}) properties={'assigner': 'cna@sap.com', 'id': 'CVE-2023-0022'}> Entities=<Node element_id='4:de342d72-e7ff-4d5b-9a28-99eaa381965b:0' labels=frozenset({'CVE'}) properties={'assigner': 'cna@sap.com', 'id': 'CVE-2023-0012'}>>, <Record cve1=<Node element_id='4:de342d72-e7ff-4d5b-9a28-99eaa381965b:4' labels=frozenset({'CVE'}) properties={'assigner': 'cna@sap.com', 'id': 'CVE-2023-0016'}> cve2=<Node element_id='4:de342d72-e7ff-4d5b-9a28-99eaa381965b:7' labels=frozenset({'CVE'}) properties={'assigner': 'cna@sap.com', 'id': 'CVE-2023-0022'}> Entities=<Node element_id='4:de342d72-e7ff-4d5b-9a28-99eaa381965b:5' labels=frozenset({'CVE'}) properties={'assigner': 'cna@sap.com', 'id': 'CVE-2023-0017'}>>, <Record cve1=<Node element_id='4:de342d72-e7ff-4d5b-9a28-99eaa381965b:4' labels=frozenset({'CVE'}) properties={'assigner': 'cna@sap.com', 'id': 'CVE-2023-0016'}> cve2=<Node element_id='4:de342d72-e7ff-4d5b-9a28-99eaa381965b:7' labels=frozenset({'CVE'}) properties={'assigner': 'cna@sap.com', 'id': 'CVE-2023-0022'}> Entities=<Node element_id='4:de342d72-e7ff-4d5b-9a28-99eaa381965b:0' labels=frozenset({'CVE'}) properties={'assigner': 'cna@sap.com', 'id': 'CVE-2023-0012'}>>, <Record cve1=<Node element_id='4:de342d72-e7ff-4d5b-9a28-99eaa381965b:4' labels=frozenset({'CVE'}) properties={'assigner': 'cna@sap.com', 'id': 'CVE-2023-0016'}> cve2=<Node element_id='4:de342d72-e7ff-4d5b-9a28-99eaa381965b:7' labels=frozenset({'CVE'}) properties={'assigner': 'cna@sap.com', 'id': 'CVE-2023-0022'}> Entities=<Node element_id='4:de342d72-e7ff-4d5b-9a28-99eaa381965b:0' labels=frozenset({'CVE'}) properties={'assigner': 'cna@sap.com', 'id': 'CVE-2023-0012'}>>, <Record cve1=<Node element_id='4:de342d72-e7ff-4d5b-9a28-99eaa381965b:4' labels=frozenset({'CVE'}) properties={'assigner': 'cna@sap.com', 'id': 'CVE-2023-0016'}> cve2=<Node element_id='4:de342d72-e7ff-4d5b-9a28-99eaa381965b:7' labels=frozenset({'CVE'}) properties={'assigner': 'cna@sap.com', 'id': 'CVE-2023-0022'}> Entities=<Node element_id='4:de342d72-e7ff-4d5b-9a28-99eaa381965b:5' labels=frozenset({'CVE'}) properties={'assigner': 'cna@sap.com', 'id': 'CVE-2023-0017'}>>, <Record cve1=<Node element_id='4:de342d72-e7ff-4d5b-9a28-99eaa381965b:4' labels=frozenset({'CVE'}) properties={'assigner': 'cna@sap.com', 'id': 'CVE-2023-0016'}> cve2=<Node element_id='4:de342d72-e7ff-4d5b-9a28-99eaa381965b:7' labels=frozenset({'CVE'}) properties={'assigner': 'cna@sap.com', 'id': 'CVE-2023-0022'}> Entities=<Node element_id='4:de342d72-e7ff-4d5b-9a28-99eaa381965b:5' labels=frozenset({'CVE'}) properties={'assigner': 'cna@sap.com', 'id': 'CVE-2023-0017'}>>, <Record cve1=<Node element_id='4:de342d72-e7ff-4d5b-9a28-99eaa381965b:4' labels=frozenset({'CVE'}) properties={'assigner': 'cna@sap.com', 'id': 'CVE-2023-0016'}> cve2=<Node element_id='4:de342d72-e7ff-4d5b-9a28-99eaa381965b:7' labels=frozenset({'CVE'}) properties={'assigner': 'cna@sap.com', 'id': 'CVE-2023-0022'}> Entities=<Node element_id='4:de342d72-e7ff-4d5b-9a28-99eaa381965b:6' labels=frozenset({'CVE'}) properties={'assigner': 'cna@sap.com', 'id': 'CVE-2023-0018'}>>, <Record cve1=<Node element_id='4:de342d72-e7ff-4d5b-9a28-99eaa381965b:4' labels=frozenset({'CVE'}) properties={'assigner': 'cna@sap.com', 'id': 'CVE-2023-0016'}> cve2=<Node element_id='4:de342d72-e7ff-4d5b-9a28-99eaa381965b:7' labels=frozenset({'CVE'}) properties={'assigner': 'cna@sap.com', 'id': 'CVE-2023-0022'}> Entities=<Node element_id='4:de342d72-e7ff-4d5b-9a28-99eaa381965b:6' labels=frozenset({'CVE'}) properties={'assigner': 'cna@sap.com', 'id': 'CVE-2023-0018'}>>, <Record cve1=<Node element_id='4:de342d72-e7ff-4d5b-9a28-99eaa381965b:4' labels=frozenset({'CVE'}) properties={'assigner': 'cna@sap.com', 'id': 'CVE-2023-0016'}> cve2=<Node element_id='4:de342d72-e7ff-4d5b-9a28-99eaa381965b:7' labels=frozenset({'CVE'}) properties={'assigner': 'cna@sap.com', 'id': 'CVE-2023-0022'}> Entities=<Node element_id='4:de342d72-e7ff-4d5b-9a28-99eaa381965b:6' labels=frozenset({'CVE'}) properties={'assigner': 'cna@sap.com', 'id': 'CVE-2023-0018'}>>, <Record cve1=<Node element_id='4:de342d72-e7ff-4d5b-9a28-99eaa381965b:4' labels=frozenset({'CVE'}) properties={'assigner': 'cna@sap.com', 'id': 'CVE-2023-0016'}> cve2=<Node element_id='4:de342d72-e7ff-4d5b-9a28-99eaa381965b:7' labels=frozenset({'CVE'}) properties={'assigner': 'cna@sap.com', 'id': 'CVE-2023-0022'}> Entities=<Node element_id='4:de342d72-e7ff-4d5b-9a28-99eaa381965b:6' labels=frozenset({'CVE'}) properties={'assigner': 'cna@sap.com', 'id': 'CVE-2023-0018'}>>, <Record cve1=<Node element_id='4:de342d72-e7ff-4d5b-9a28-99eaa381965b:4' labels=frozenset({'CVE'}) properties={'assigner': 'cna@sap.com', 'id': 'CVE-2023-0016'}> cve2=<Node element_id='4:de342d72-e7ff-4d5b-9a28-99eaa381965b:7' labels=frozenset({'CVE'}) properties={'assigner': 'cna@sap.com', 'id': 'CVE-2023-0022'}> Entities=<Node element_id='4:de342d72-e7ff-4d5b-9a28-99eaa381965b:9' labels=frozenset({'CVE'}) properties={'assigner': 'security@huntr.dev', 'id': 'CVE-2023-0028'}>>, <Record cve1=<Node element_id='4:de342d72-e7ff-4d5b-9a28-99eaa381965b:4' labels=frozenset({'CVE'}) properties={'assigner': 'cna@sap.com', 'id': 'CVE-2023-0016'}> cve2=<Node element_id='4:de342d72-e7ff-4d5b-9a28-99eaa381965b:7' labels=frozenset({'CVE'}) properties={'assigner': 'cna@sap.com', 'id': 'CVE-2023-0022'}> Entities=<Node element_id='4:de342d72-e7ff-4d5b-9a28-99eaa381965b:9' labels=frozenset({'CVE'}) properties={'assigner': 'security@huntr.dev', 'id': 'CVE-2023-0028'}>>, <Record cve1=<Node element_id='4:de342d72-e7ff-4d5b-9a28-99eaa381965b:4' labels=frozenset({'CVE'}) properties={'assigner': 'cna@sap.com', 'id': 'CVE-2023-0016'}> cve2=<Node element_id='4:de342d72-e7ff-4d5b-9a28-99eaa381965b:7' labels=frozenset({'CVE'}) properties={'assigner': 'cna@sap.com', 'id': 'CVE-2023-0022'}> Entities=<Node element_id='4:de342d72-e7ff-4d5b-9a28-99eaa381965b:9' labels=frozenset({'CVE'}) properties={'assigner': 'security@huntr.dev', 'id': 'CVE-2023-0028'}>>, <Record cve1=<Node element_id='4:de342d72-e7ff-4d5b-9a28-99eaa381965b:4' labels=frozenset({'CVE'}) properties={'assigner': 'cna@sap.com', 'id': 'CVE-2023-0016'}> cve2=<Node element_id='4:de342d72-e7ff-4d5b-9a28-99eaa381965b:7' labels=frozenset({'CVE'}) properties={'assigner': 'cna@sap.com', 'id': 'CVE-2023-0022'}> Entities=<Node element_id='4:de342d72-e7ff-4d5b-9a28-99eaa381965b:9' labels=frozenset({'CVE'}) properties={'assigner': 'security@huntr.dev', 'id': 'CVE-2023-0028'}>>, <Record cve1=<Node element_id='4:de342d72-e7ff-4d5b-9a28-99eaa381965b:4' labels=frozenset({'CVE'}) properties={'assigner': 'cna@sap.com', 'id': 'CVE-2023-0016'}> cve2=<Node element_id='4:de342d72-e7ff-4d5b-9a28-99eaa381965b:7' labels=frozenset({'CVE'}) properties={'assigner': 'cna@sap.com', 'id': 'CVE-2023-0022'}> Entities=<Node element_id='4:de342d72-e7ff-4d5b-9a28-99eaa381965b:3' labels=frozenset({'CVE'}) properties={'assigner': 'cna@sap.com', 'id': 'CVE-2023-0015'}>>, <Record cve1=<Node element_id='4:de342d72-e7ff-4d5b-9a28-99eaa381965b:4' labels=frozenset({'CVE'}) properties={'assigner': 'cna@sap.com', 'id': 'CVE-2023-0016'}> cve2=<Node element_id='4:de342d72-e7ff-4d5b-9a28-99eaa381965b:7' labels=frozenset({'CVE'}) properties={'assigner': 'cna@sap.com', 'id': 'CVE-2023-0022'}> Entities=<Node element_id='4:de342d72-e7ff-4d5b-9a28-99eaa381965b:3' labels=frozenset({'CVE'}) properties={'assigner': 'cna@sap.com', 'id': 'CVE-2023-0015'}>>, <Record cve1=<Node element_id='4:de342d72-e7ff-4d5b-9a28-99eaa381965b:4' labels=frozenset({'CVE'}) properties={'assigner': 'cna@sap.com', 'id': 'CVE-2023-0016'}> cve2=<Node element_id='4:de342d72-e7ff-4d5b-9a28-99eaa381965b:7' labels=frozenset({'CVE'}) properties={'assigner': 'cna@sap.com', 'id': 'CVE-2023-0022'}> Entities=<Node element_id='4:de342d72-e7ff-4d5b-9a28-99eaa381965b:3' labels=frozenset({'CVE'}) properties={'assigner': 'cna@sap.com', 'id': 'CVE-2023-0015'}>>, <Record cve1=<Node element_id='4:de342d72-e7ff-4d5b-9a28-99eaa381965b:4' labels=frozenset({'CVE'}) properties={'assigner': 'cna@sap.com', 'id': 'CVE-2023-0016'}> cve2=<Node element_id='4:de342d72-e7ff-4d5b-9a28-99eaa381965b:7' labels=frozenset({'CVE'}) properties={'assigner': 'cna@sap.com', 'id': 'CVE-2023-0022'}> Entities=<Node element_id='4:de342d72-e7ff-4d5b-9a28-99eaa381965b:3' labels=frozenset({'CVE'}) properties={'assigner': 'cna@sap.com', 'id': 'CVE-2023-0015'}>>, <Record cve1=<Node element_id='4:de342d72-e7ff-4d5b-9a28-99eaa381965b:4' labels=frozenset({'CVE'}) properties={'assigner': 'cna@sap.com', 'id': 'CVE-2023-0016'}> cve2=<Node element_id='4:de342d72-e7ff-4d5b-9a28-99eaa381965b:7' labels=frozenset({'CVE'}) properties={'assigner': 'cna@sap.com', 'id': 'CVE-2023-0022'}> Entities=<Node element_id='4:de342d72-e7ff-4d5b-9a28-99eaa381965b:1' labels=frozenset({'CVE'}) properties={'assigner': 'cna@sap.com', 'id': 'CVE-2023-0013'}>>, <Record cve1=<Node element_id='4:de342d72-e7ff-4d5b-9a28-99eaa381965b:4' labels=frozenset({'CVE'}) properties={'assigner': 'cna@sap.com', 'id': 'CVE-2023-0016'}> cve2=<Node element_id='4:de342d72-e7ff-4d5b-9a28-99eaa381965b:7' labels=frozenset({'CVE'}) properties={'assigner': 'cna@sap.com', 'id': 'CVE-2023-0022'}> Entities=<Node element_id='4:de342d72-e7ff-4d5b-9a28-99eaa381965b:1' labels=frozenset({'CVE'}) properties={'assigner': 'cna@sap.com', 'id': 'CVE-2023-0013'}>>, <Record cve1=<Node element_id='4:de342d72-e7ff-4d5b-9a28-99eaa381965b:4' labels=frozenset({'CVE'}) properties={'assigner': 'cna@sap.com', 'id': 'CVE-2023-0016'}> cve2=<Node element_id='4:de342d72-e7ff-4d5b-9a28-99eaa381965b:7' labels=frozenset({'CVE'}) properties={'assigner': 'cna@sap.com', 'id': 'CVE-2023-0022'}> Entities=<Node element_id='4:de342d72-e7ff-4d5b-9a28-99eaa381965b:1' labels=frozenset({'CVE'}) properties={'assigner': 'cna@sap.com', 'id': 'CVE-2023-0013'}>>, <Record cve1=<Node element_id='4:de342d72-e7ff-4d5b-9a28-99eaa381965b:4' labels=frozenset({'CVE'}) properties={'assigner': 'cna@sap.com', 'id': 'CVE-2023-0016'}> cve2=<Node element_id='4:de342d72-e7ff-4d5b-9a28-99eaa381965b:7' labels=frozenset({'CVE'}) properties={'assigner': 'cna@sap.com', 'id': 'CVE-2023-0022'}> Entities=<Node element_id='4:de342d72-e7ff-4d5b-9a28-99eaa381965b:1' labels=frozenset({'CVE'}) properties={'assigner': 'cna@sap.com', 'id': 'CVE-2023-0013'}>>, <Record cve1=<Node element_id='4:de342d72-e7ff-4d5b-9a28-99eaa381965b:4' labels=frozenset({'CVE'}) properties={'assigner': 'cna@sap.com', 'id': 'CVE-2023-0016'}> cve2=<Node element_id='4:de342d72-e7ff-4d5b-9a28-99eaa381965b:7' labels=frozenset({'CVE'}) properties={'assigner': 'cna@sap.com', 'id': 'CVE-2023-0022'}> Entities=<Node element_id='4:de342d72-e7ff-4d5b-9a28-99eaa381965b:6' labels=frozenset({'CVE'}) properties={'assigner': 'cna@sap.com', 'id': 'CVE-2023-0018'}>>, <Record cve1=<Node element_id='4:de342d72-e7ff-4d5b-9a28-99eaa381965b:4' labels=frozenset({'CVE'}) properties={'assigner': 'cna@sap.com', 'id': 'CVE-2023-0016'}> cve2=<Node element_id='4:de342d72-e7ff-4d5b-9a28-99eaa381965b:7' labels=frozenset({'CVE'}) properties={'assigner': 'cna@sap.com', 'id': 'CVE-2023-0022'}> Entities=<Node element_id='4:de342d72-e7ff-4d5b-9a28-99eaa381965b:6' labels=frozenset({'CVE'}) properties={'assigner': 'cna@sap.com', 'id': 'CVE-2023-0018'}>>, <Record cve1=<Node element_id='4:de342d72-e7ff-4d5b-9a28-99eaa381965b:4' labels=frozenset({'CVE'}) properties={'assigner': 'cna@sap.com', 'id': 'CVE-2023-0016'}> cve2=<Node element_id='4:de342d72-e7ff-4d5b-9a28-99eaa381965b:7' labels=frozenset({'CVE'}) properties={'assigner': 'cna@sap.com', 'id': 'CVE-2023-0022'}> Entities=<Node element_id='4:de342d72-e7ff-4d5b-9a28-99eaa381965b:9' labels=frozenset({'CVE'}) properties={'assigner': 'security@huntr.dev', 'id': 'CVE-2023-0028'}>>, <Record cve1=<Node element_id='4:de342d72-e7ff-4d5b-9a28-99eaa381965b:4' labels=frozenset({'CVE'}) properties={'assigner': 'cna@sap.com', 'id': 'CVE-2023-0016'}> cve2=<Node element_id='4:de342d72-e7ff-4d5b-9a28-99eaa381965b:7' labels=frozenset({'CVE'}) properties={'assigner': 'cna@sap.com', 'id': 'CVE-2023-0022'}> Entities=<Node element_id='4:de342d72-e7ff-4d5b-9a28-99eaa381965b:9' labels=frozenset({'CVE'}) properties={'assigner': 'security@huntr.dev', 'id': 'CVE-2023-0028'}>>, <Record cve1=<Node element_id='4:de342d72-e7ff-4d5b-9a28-99eaa381965b:4' labels=frozenset({'CVE'}) properties={'assigner': 'cna@sap.com', 'id': 'CVE-2023-0016'}> cve2=<Node element_id='4:de342d72-e7ff-4d5b-9a28-99eaa381965b:7' labels=frozenset({'CVE'}) properties={'assigner': 'cna@sap.com', 'id': 'CVE-2023-0022'}> Entities=<Node element_id='4:de342d72-e7ff-4d5b-9a28-99eaa381965b:3' labels=frozenset({'CVE'}) properties={'assigner': 'cna@sap.com', 'id': 'CVE-2023-0015'}>>, <Record cve1=<Node element_id='4:de342d72-e7ff-4d5b-9a28-99eaa381965b:4' labels=frozenset({'CVE'}) properties={'assigner': 'cna@sap.com', 'id': 'CVE-2023-0016'}> cve2=<Node element_id='4:de342d72-e7ff-4d5b-9a28-99eaa381965b:7' labels=frozenset({'CVE'}) properties={'assigner': 'cna@sap.com', 'id': 'CVE-2023-0022'}> Entities=<Node element_id='4:de342d72-e7ff-4d5b-9a28-99eaa381965b:3' labels=frozenset({'CVE'}) properties={'assigner': 'cna@sap.com', 'id': 'CVE-2023-0015'}>>, <Record cve1=<Node element_id='4:de342d72-e7ff-4d5b-9a28-99eaa381965b:4' labels=frozenset({'CVE'}) properties={'assigner': 'cna@sap.com', 'id': 'CVE-2023-0016'}> cve2=<Node element_id='4:de342d72-e7ff-4d5b-9a28-99eaa381965b:7' labels=frozenset({'CVE'}) properties={'assigner': 'cna@sap.com', 'id': 'CVE-2023-0022'}> Entities=<Node element_id='4:de342d72-e7ff-4d5b-9a28-99eaa381965b:1' labels=frozenset({'CVE'}) properties={'assigner': 'cna@sap.com', 'id': 'CVE-2023-0013'}>>, <Record cve1=<Node element_id='4:de342d72-e7ff-4d5b-9a28-99eaa381965b:4' labels=frozenset({'CVE'}) properties={'assigner': 'cna@sap.com', 'id': 'CVE-2023-0016'}> cve2=<Node element_id='4:de342d72-e7ff-4d5b-9a28-99eaa381965b:7' labels=frozenset({'CVE'}) properties={'assigner': 'cna@sap.com', 'id': 'CVE-2023-0022'}> Entities=<Node element_id='4:de342d72-e7ff-4d5b-9a28-99eaa381965b:1' labels=frozenset({'CVE'}) properties={'assigner': 'cna@sap.com', 'id': 'CVE-2023-0013'}>>, <Record cve1=<Node element_id='4:de342d72-e7ff-4d5b-9a28-99eaa381965b:4' labels=frozenset({'CVE'}) properties={'assigner': 'cna@sap.com', 'id': 'CVE-2023-0016'}> cve2=<Node element_id='4:de342d72-e7ff-4d5b-9a28-99eaa381965b:7' labels=frozenset({'CVE'}) properties={'assigner': 'cna@sap.com', 'id': 'CVE-2023-0022'}> Entities=<Node element_id='4:de342d72-e7ff-4d5b-9a28-99eaa381965b:6' labels=frozenset({'CVE'}) properties={'assigner': 'cna@sap.com', 'id': 'CVE-2023-0018'}>>, <Record cve1=<Node element_id='4:de342d72-e7ff-4d5b-9a28-99eaa381965b:4' labels=frozenset({'CVE'}) properties={'assigner': 'cna@sap.com', 'id': 'CVE-2023-0016'}> cve2=<Node element_id='4:de342d72-e7ff-4d5b-9a28-99eaa381965b:7' labels=frozenset({'CVE'}) properties={'assigner': 'cna@sap.com', 'id': 'CVE-2023-0022'}> Entities=<Node element_id='4:de342d72-e7ff-4d5b-9a28-99eaa381965b:6' labels=frozenset({'CVE'}) properties={'assigner': 'cna@sap.com', 'id': 'CVE-2023-0018'}>>, <Record cve1=<Node element_id='4:de342d72-e7ff-4d5b-9a28-99eaa381965b:4' labels=frozenset({'CVE'}) properties={'assigner': 'cna@sap.com', 'id': 'CVE-2023-0016'}> cve2=<Node element_id='4:de342d72-e7ff-4d5b-9a28-99eaa381965b:7' labels=frozenset({'CVE'}) properties={'assigner': 'cna@sap.com', 'id': 'CVE-2023-0022'}> Entities=<Node element_id='4:de342d72-e7ff-4d5b-9a28-99eaa381965b:9' labels=frozenset({'CVE'}) properties={'assigner': 'security@huntr.dev', 'id': 'CVE-2023-0028'}>>, <Record cve1=<Node element_id='4:de342d72-e7ff-4d5b-9a28-99eaa381965b:4' labels=frozenset({'CVE'}) properties={'assigner': 'cna@sap.com', 'id': 'CVE-2023-0016'}> cve2=<Node element_id='4:de342d72-e7ff-4d5b-9a28-99eaa381965b:7' labels=frozenset({'CVE'}) properties={'assigner': 'cna@sap.com', 'id': 'CVE-2023-0022'}> Entities=<Node element_id='4:de342d72-e7ff-4d5b-9a28-99eaa381965b:9' labels=frozenset({'CVE'}) properties={'assigner': 'security@huntr.dev', 'id': 'CVE-2023-0028'}>>, <Record cve1=<Node element_id='4:de342d72-e7ff-4d5b-9a28-99eaa381965b:4' labels=frozenset({'CVE'}) properties={'assigner': 'cna@sap.com', 'id': 'CVE-2023-0016'}> cve2=<Node element_id='4:de342d72-e7ff-4d5b-9a28-99eaa381965b:7' labels=frozenset({'CVE'}) properties={'assigner': 'cna@sap.com', 'id': 'CVE-2023-0022'}> Entities=<Node element_id='4:de342d72-e7ff-4d5b-9a28-99eaa381965b:3' labels=frozenset({'CVE'}) properties={'assigner': 'cna@sap.com', 'id': 'CVE-2023-0015'}>>, <Record cve1=<Node element_id='4:de342d72-e7ff-4d5b-9a28-99eaa381965b:4' labels=frozenset({'CVE'}) properties={'assigner': 'cna@sap.com', 'id': 'CVE-2023-0016'}> cve2=<Node element_id='4:de342d72-e7ff-4d5b-9a28-99eaa381965b:7' labels=frozenset({'CVE'}) properties={'assigner': 'cna@sap.com', 'id': 'CVE-2023-0022'}> Entities=<Node element_id='4:de342d72-e7ff-4d5b-9a28-99eaa381965b:3' labels=frozenset({'CVE'}) properties={'assigner': 'cna@sap.com', 'id': 'CVE-2023-0015'}>>, <Record cve1=<Node element_id='4:de342d72-e7ff-4d5b-9a28-99eaa381965b:4' labels=frozenset({'CVE'}) properties={'assigner': 'cna@sap.com', 'id': 'CVE-2023-0016'}> cve2=<Node element_id='4:de342d72-e7ff-4d5b-9a28-99eaa381965b:7' labels=frozenset({'CVE'}) properties={'assigner': 'cna@sap.com', 'id': 'CVE-2023-0022'}> Entities=<Node element_id='4:de342d72-e7ff-4d5b-9a28-99eaa381965b:1' labels=frozenset({'CVE'}) properties={'assigner': 'cna@sap.com', 'id': 'CVE-2023-0013'}>>, <Record cve1=<Node element_id='4:de342d72-e7ff-4d5b-9a28-99eaa381965b:4' labels=frozenset({'CVE'}) properties={'assigner': 'cna@sap.com', 'id': 'CVE-2023-0016'}> cve2=<Node element_id='4:de342d72-e7ff-4d5b-9a28-99eaa381965b:7' labels=frozenset({'CVE'}) properties={'assigner': 'cna@sap.com', 'id': 'CVE-2023-0022'}> Entities=<Node element_id='4:de342d72-e7ff-4d5b-9a28-99eaa381965b:1' labels=frozenset({'CVE'}) properties={'assigner': 'cna@sap.com', 'id': 'CVE-2023-0013'}>>, <Record cve1=<Node element_id='4:de342d72-e7ff-4d5b-9a28-99eaa381965b:4' labels=frozenset({'CVE'}) properties={'assigner': 'cna@sap.com', 'id': 'CVE-2023-0016'}> cve2=<Node element_id='4:de342d72-e7ff-4d5b-9a28-99eaa381965b:7' labels=frozenset({'CVE'}) properties={'assigner': 'cna@sap.com', 'id': 'CVE-2023-0022'}> Entities=<Node element_id='4:de342d72-e7ff-4d5b-9a28-99eaa381965b:6' labels=frozenset({'CVE'}) properties={'assigner': 'cna@sap.com', 'id': 'CVE-2023-0018'}>>, <Record cve1=<Node element_id='4:de342d72-e7ff-4d5b-9a28-99eaa381965b:4' labels=frozenset({'CVE'}) properties={'assigner': 'cna@sap.com', 'id': 'CVE-2023-0016'}> cve2=<Node element_id='4:de342d72-e7ff-4d5b-9a28-99eaa381965b:7' labels=frozenset({'CVE'}) properties={'assigner': 'cna@sap.com', 'id': 'CVE-2023-0022'}> Entities=<Node element_id='4:de342d72-e7ff-4d5b-9a28-99eaa381965b:6' labels=frozenset({'CVE'}) properties={'assigner': 'cna@sap.com', 'id': 'CVE-2023-0018'}>>, <Record cve1=<Node element_id='4:de342d72-e7ff-4d5b-9a28-99eaa381965b:4' labels=frozenset({'CVE'}) properties={'assigner': 'cna@sap.com', 'id': 'CVE-2023-0016'}> cve2=<Node element_id='4:de342d72-e7ff-4d5b-9a28-99eaa381965b:7' labels=frozenset({'CVE'}) properties={'assigner': 'cna@sap.com', 'id': 'CVE-2023-0022'}> Entities=<Node element_id='4:de342d72-e7ff-4d5b-9a28-99eaa381965b:6' labels=frozenset({'CVE'}) properties={'assigner': 'cna@sap.com', 'id': 'CVE-2023-0018'}>>, <Record cve1=<Node element_id='4:de342d72-e7ff-4d5b-9a28-99eaa381965b:4' labels=frozenset({'CVE'}) properties={'assigner': 'cna@sap.com', 'id': 'CVE-2023-0016'}> cve2=<Node element_id='4:de342d72-e7ff-4d5b-9a28-99eaa381965b:7' labels=frozenset({'CVE'}) properties={'assigner': 'cna@sap.com', 'id': 'CVE-2023-0022'}> Entities=<Node element_id='4:de342d72-e7ff-4d5b-9a28-99eaa381965b:9' labels=frozenset({'CVE'}) properties={'assigner': 'security@huntr.dev', 'id': 'CVE-2023-0028'}>>, <Record cve1=<Node element_id='4:de342d72-e7ff-4d5b-9a28-99eaa381965b:4' labels=frozenset({'CVE'}) properties={'assigner': 'cna@sap.com', 'id': 'CVE-2023-0016'}> cve2=<Node element_id='4:de342d72-e7ff-4d5b-9a28-99eaa381965b:7' labels=frozenset({'CVE'}) properties={'assigner': 'cna@sap.com', 'id': 'CVE-2023-0022'}> Entities=<Node element_id='4:de342d72-e7ff-4d5b-9a28-99eaa381965b:9' labels=frozenset({'CVE'}) properties={'assigner': 'security@huntr.dev', 'id': 'CVE-2023-0028'}>>, <Record cve1=<Node element_id='4:de342d72-e7ff-4d5b-9a28-99eaa381965b:4' labels=frozenset({'CVE'}) properties={'assigner': 'cna@sap.com', 'id': 'CVE-2023-0016'}> cve2=<Node element_id='4:de342d72-e7ff-4d5b-9a28-99eaa381965b:7' labels=frozenset({'CVE'}) properties={'assigner': 'cna@sap.com', 'id': 'CVE-2023-0022'}> Entities=<Node element_id='4:de342d72-e7ff-4d5b-9a28-99eaa381965b:9' labels=frozenset({'CVE'}) properties={'assigner': 'security@huntr.dev', 'id': 'CVE-2023-0028'}>>, <Record cve1=<Node element_id='4:de342d72-e7ff-4d5b-9a28-99eaa381965b:4' labels=frozenset({'CVE'}) properties={'assigner': 'cna@sap.com', 'id': 'CVE-2023-0016'}> cve2=<Node element_id='4:de342d72-e7ff-4d5b-9a28-99eaa381965b:7' labels=frozenset({'CVE'}) properties={'assigner': 'cna@sap.com', 'id': 'CVE-2023-0022'}> Entities=<Node element_id='4:de342d72-e7ff-4d5b-9a28-99eaa381965b:3' labels=frozenset({'CVE'}) properties={'assigner': 'cna@sap.com', 'id': 'CVE-2023-0015'}>>, <Record cve1=<Node element_id='4:de342d72-e7ff-4d5b-9a28-99eaa381965b:4' labels=frozenset({'CVE'}) properties={'assigner': 'cna@sap.com', 'id': 'CVE-2023-0016'}> cve2=<Node element_id='4:de342d72-e7ff-4d5b-9a28-99eaa381965b:7' labels=frozenset({'CVE'}) properties={'assigner': 'cna@sap.com', 'id': 'CVE-2023-0022'}> Entities=<Node element_id='4:de342d72-e7ff-4d5b-9a28-99eaa381965b:3' labels=frozenset({'CVE'}) properties={'assigner': 'cna@sap.com', 'id': 'CVE-2023-0015'}>>, <Record cve1=<Node element_id='4:de342d72-e7ff-4d5b-9a28-99eaa381965b:4' labels=frozenset({'CVE'}) properties={'assigner': 'cna@sap.com', 'id': 'CVE-2023-0016'}> cve2=<Node element_id='4:de342d72-e7ff-4d5b-9a28-99eaa381965b:7' labels=frozenset({'CVE'}) properties={'assigner': 'cna@sap.com', 'id': 'CVE-2023-0022'}> Entities=<Node element_id='4:de342d72-e7ff-4d5b-9a28-99eaa381965b:3' labels=frozenset({'CVE'}) properties={'assigner': 'cna@sap.com', 'id': 'CVE-2023-0015'}>>, <Record cve1=<Node element_id='4:de342d72-e7ff-4d5b-9a28-99eaa381965b:4' labels=frozenset({'CVE'}) properties={'assigner': 'cna@sap.com', 'id': 'CVE-2023-0016'}> cve2=<Node element_id='4:de342d72-e7ff-4d5b-9a28-99eaa381965b:7' labels=frozenset({'CVE'}) properties={'assigner': 'cna@sap.com', 'id': 'CVE-2023-0022'}> Entities=<Node element_id='4:de342d72-e7ff-4d5b-9a28-99eaa381965b:1' labels=frozenset({'CVE'}) properties={'assigner': 'cna@sap.com', 'id': 'CVE-2023-0013'}>>, <Record cve1=<Node element_id='4:de342d72-e7ff-4d5b-9a28-99eaa381965b:4' labels=frozenset({'CVE'}) properties={'assigner': 'cna@sap.com', 'id': 'CVE-2023-0016'}> cve2=<Node element_id='4:de342d72-e7ff-4d5b-9a28-99eaa381965b:7' labels=frozenset({'CVE'}) properties={'assigner': 'cna@sap.com', 'id': 'CVE-2023-0022'}> Entities=<Node element_id='4:de342d72-e7ff-4d5b-9a28-99eaa381965b:1' labels=frozenset({'CVE'}) properties={'assigner': 'cna@sap.com', 'id': 'CVE-2023-0013'}>>, <Record cve1=<Node element_id='4:de342d72-e7ff-4d5b-9a28-99eaa381965b:4' labels=frozenset({'CVE'}) properties={'assigner': 'cna@sap.com', 'id': 'CVE-2023-0016'}> cve2=<Node element_id='4:de342d72-e7ff-4d5b-9a28-99eaa381965b:7' labels=frozenset({'CVE'}) properties={'assigner': 'cna@sap.com', 'id': 'CVE-2023-0022'}> Entities=<Node element_id='4:de342d72-e7ff-4d5b-9a28-99eaa381965b:1' labels=frozenset({'CVE'}) properties={'assigner': 'cna@sap.com', 'id': 'CVE-2023-0013'}>>, <Record cve1=<Node element_id='4:de342d72-e7ff-4d5b-9a28-99eaa381965b:4' labels=frozenset({'CVE'}) properties={'assigner': 'cna@sap.com', 'id': 'CVE-2023-0016'}> cve2=<Node element_id='4:de342d72-e7ff-4d5b-9a28-99eaa381965b:7' labels=frozenset({'CVE'}) properties={'assigner': 'cna@sap.com', 'id': 'CVE-2023-0022'}> Entities=<Node element_id='4:de342d72-e7ff-4d5b-9a28-99eaa381965b:6' labels=frozenset({'CVE'}) properties={'assigner': 'cna@sap.com', 'id': 'CVE-2023-0018'}>>, <Record cve1=<Node element_id='4:de342d72-e7ff-4d5b-9a28-99eaa381965b:4' labels=frozenset({'CVE'}) properties={'assigner': 'cna@sap.com', 'id': 'CVE-2023-0016'}> cve2=<Node element_id='4:de342d72-e7ff-4d5b-9a28-99eaa381965b:7' labels=frozenset({'CVE'}) properties={'assigner': 'cna@sap.com', 'id': 'CVE-2023-0022'}> Entities=<Node element_id='4:de342d72-e7ff-4d5b-9a28-99eaa381965b:6' labels=frozenset({'CVE'}) properties={'assigner': 'cna@sap.com', 'id': 'CVE-2023-0018'}>>, <Record cve1=<Node element_id='4:de342d72-e7ff-4d5b-9a28-99eaa381965b:4' labels=frozenset({'CVE'}) properties={'assigner': 'cna@sap.com', 'id': 'CVE-2023-0016'}> cve2=<Node element_id='4:de342d72-e7ff-4d5b-9a28-99eaa381965b:7' labels=frozenset({'CVE'}) properties={'assigner': 'cna@sap.com', 'id': 'CVE-2023-0022'}> Entities=<Node element_id='4:de342d72-e7ff-4d5b-9a28-99eaa381965b:6' labels=frozenset({'CVE'}) properties={'assigner': 'cna@sap.com', 'id': 'CVE-2023-0018'}>>, <Record cve1=<Node element_id='4:de342d72-e7ff-4d5b-9a28-99eaa381965b:4' labels=frozenset({'CVE'}) properties={'assigner': 'cna@sap.com', 'id': 'CVE-2023-0016'}> cve2=<Node element_id='4:de342d72-e7ff-4d5b-9a28-99eaa381965b:7' labels=frozenset({'CVE'}) properties={'assigner': 'cna@sap.com', 'id': 'CVE-2023-0022'}> Entities=<Node element_id='4:de342d72-e7ff-4d5b-9a28-99eaa381965b:9' labels=frozenset({'CVE'}) properties={'assigner': 'security@huntr.dev', 'id': 'CVE-2023-0028'}>>, <Record cve1=<Node element_id='4:de342d72-e7ff-4d5b-9a28-99eaa381965b:4' labels=frozenset({'CVE'}) properties={'assigner': 'cna@sap.com', 'id': 'CVE-2023-0016'}> cve2=<Node element_id='4:de342d72-e7ff-4d5b-9a28-99eaa381965b:7' labels=frozenset({'CVE'}) properties={'assigner': 'cna@sap.com', 'id': 'CVE-2023-0022'}> Entities=<Node element_id='4:de342d72-e7ff-4d5b-9a28-99eaa381965b:9' labels=frozenset({'CVE'}) properties={'assigner': 'security@huntr.dev', 'id': 'CVE-2023-0028'}>>, <Record cve1=<Node element_id='4:de342d72-e7ff-4d5b-9a28-99eaa381965b:4' labels=frozenset({'CVE'}) properties={'assigner': 'cna@sap.com', 'id': 'CVE-2023-0016'}> cve2=<Node element_id='4:de342d72-e7ff-4d5b-9a28-99eaa381965b:7' labels=frozenset({'CVE'}) properties={'assigner': 'cna@sap.com', 'id': 'CVE-2023-0022'}> Entities=<Node element_id='4:de342d72-e7ff-4d5b-9a28-99eaa381965b:9' labels=frozenset({'CVE'}) properties={'assigner': 'security@huntr.dev', 'id': 'CVE-2023-0028'}>>, <Record cve1=<Node element_id='4:de342d72-e7ff-4d5b-9a28-99eaa381965b:4' labels=frozenset({'CVE'}) properties={'assigner': 'cna@sap.com', 'id': 'CVE-2023-0016'}> cve2=<Node element_id='4:de342d72-e7ff-4d5b-9a28-99eaa381965b:7' labels=frozenset({'CVE'}) properties={'assigner': 'cna@sap.com', 'id': 'CVE-2023-0022'}> Entities=<Node element_id='4:de342d72-e7ff-4d5b-9a28-99eaa381965b:3' labels=frozenset({'CVE'}) properties={'assigner': 'cna@sap.com', 'id': 'CVE-2023-0015'}>>, <Record cve1=<Node element_id='4:de342d72-e7ff-4d5b-9a28-99eaa381965b:4' labels=frozenset({'CVE'}) properties={'assigner': 'cna@sap.com', 'id': 'CVE-2023-0016'}> cve2=<Node element_id='4:de342d72-e7ff-4d5b-9a28-99eaa381965b:7' labels=frozenset({'CVE'}) properties={'assigner': 'cna@sap.com', 'id': 'CVE-2023-0022'}> Entities=<Node element_id='4:de342d72-e7ff-4d5b-9a28-99eaa381965b:3' labels=frozenset({'CVE'}) properties={'assigner': 'cna@sap.com', 'id': 'CVE-2023-0015'}>>, <Record cve1=<Node element_id='4:de342d72-e7ff-4d5b-9a28-99eaa381965b:4' labels=frozenset({'CVE'}) properties={'assigner': 'cna@sap.com', 'id': 'CVE-2023-0016'}> cve2=<Node element_id='4:de342d72-e7ff-4d5b-9a28-99eaa381965b:7' labels=frozenset({'CVE'}) properties={'assigner': 'cna@sap.com', 'id': 'CVE-2023-0022'}> Entities=<Node element_id='4:de342d72-e7ff-4d5b-9a28-99eaa381965b:3' labels=frozenset({'CVE'}) properties={'assigner': 'cna@sap.com', 'id': 'CVE-2023-0015'}>>, <Record cve1=<Node element_id='4:de342d72-e7ff-4d5b-9a28-99eaa381965b:4' labels=frozenset({'CVE'}) properties={'assigner': 'cna@sap.com', 'id': 'CVE-2023-0016'}> cve2=<Node element_id='4:de342d72-e7ff-4d5b-9a28-99eaa381965b:7' labels=frozenset({'CVE'}) properties={'assigner': 'cna@sap.com', 'id': 'CVE-2023-0022'}> Entities=<Node element_id='4:de342d72-e7ff-4d5b-9a28-99eaa381965b:1' labels=frozenset({'CVE'}) properties={'assigner': 'cna@sap.com', 'id': 'CVE-2023-0013'}>>, <Record cve1=<Node element_id='4:de342d72-e7ff-4d5b-9a28-99eaa381965b:4' labels=frozenset({'CVE'}) properties={'assigner': 'cna@sap.com', 'id': 'CVE-2023-0016'}> cve2=<Node element_id='4:de342d72-e7ff-4d5b-9a28-99eaa381965b:7' labels=frozenset({'CVE'}) properties={'assigner': 'cna@sap.com', 'id': 'CVE-2023-0022'}> Entities=<Node element_id='4:de342d72-e7ff-4d5b-9a28-99eaa381965b:1' labels=frozenset({'CVE'}) properties={'assigner': 'cna@sap.com', 'id': 'CVE-2023-0013'}>>, <Record cve1=<Node element_id='4:de342d72-e7ff-4d5b-9a28-99eaa381965b:4' labels=frozenset({'CVE'}) properties={'assigner': 'cna@sap.com', 'id': 'CVE-2023-0016'}> cve2=<Node element_id='4:de342d72-e7ff-4d5b-9a28-99eaa381965b:7' labels=frozenset({'CVE'}) properties={'assigner': 'cna@sap.com', 'id': 'CVE-2023-0022'}> Entities=<Node element_id='4:de342d72-e7ff-4d5b-9a28-99eaa381965b:1' labels=frozenset({'CVE'}) properties={'assigner': 'cna@sap.com', 'id': 'CVE-2023-0013'}>>, <Record cve1=<Node element_id='4:de342d72-e7ff-4d5b-9a28-99eaa381965b:4' labels=frozenset({'CVE'}) properties={'assigner': 'cna@sap.com', 'id': 'CVE-2023-0016'}> cve2=<Node element_id='4:de342d72-e7ff-4d5b-9a28-99eaa381965b:7' labels=frozenset({'CVE'}) properties={'assigner': 'cna@sap.com', 'id': 'CVE-2023-0022'}> Entities=<Node element_id='4:de342d72-e7ff-4d5b-9a28-99eaa381965b:6' labels=frozenset({'CVE'}) properties={'assigner': 'cna@sap.com', 'id': 'CVE-2023-0018'}>>, <Record cve1=<Node element_id='4:de342d72-e7ff-4d5b-9a28-99eaa381965b:4' labels=frozenset({'CVE'}) properties={'assigner': 'cna@sap.com', 'id': 'CVE-2023-0016'}> cve2=<Node element_id='4:de342d72-e7ff-4d5b-9a28-99eaa381965b:7' labels=frozenset({'CVE'}) properties={'assigner': 'cna@sap.com', 'id': 'CVE-2023-0022'}> Entities=<Node element_id='4:de342d72-e7ff-4d5b-9a28-99eaa381965b:6' labels=frozenset({'CVE'}) properties={'assigner': 'cna@sap.com', 'id': 'CVE-2023-0018'}>>, <Record cve1=<Node element_id='4:de342d72-e7ff-4d5b-9a28-99eaa381965b:4' labels=frozenset({'CVE'}) properties={'assigner': 'cna@sap.com', 'id': 'CVE-2023-0016'}> cve2=<Node element_id='4:de342d72-e7ff-4d5b-9a28-99eaa381965b:7' labels=frozenset({'CVE'}) properties={'assigner': 'cna@sap.com', 'id': 'CVE-2023-0022'}> Entities=<Node element_id='4:de342d72-e7ff-4d5b-9a28-99eaa381965b:9' labels=frozenset({'CVE'}) properties={'assigner': 'security@huntr.dev', 'id': 'CVE-2023-0028'}>>, <Record cve1=<Node element_id='4:de342d72-e7ff-4d5b-9a28-99eaa381965b:4' labels=frozenset({'CVE'}) properties={'assigner': 'cna@sap.com', 'id': 'CVE-2023-0016'}> cve2=<Node element_id='4:de342d72-e7ff-4d5b-9a28-99eaa381965b:7' labels=frozenset({'CVE'}) properties={'assigner': 'cna@sap.com', 'id': 'CVE-2023-0022'}> Entities=<Node element_id='4:de342d72-e7ff-4d5b-9a28-99eaa381965b:9' labels=frozenset({'CVE'}) properties={'assigner': 'security@huntr.dev', 'id': 'CVE-2023-0028'}>>, <Record cve1=<Node element_id='4:de342d72-e7ff-4d5b-9a28-99eaa381965b:4' labels=frozenset({'CVE'}) properties={'assigner': 'cna@sap.com', 'id': 'CVE-2023-0016'}> cve2=<Node element_id='4:de342d72-e7ff-4d5b-9a28-99eaa381965b:7' labels=frozenset({'CVE'}) properties={'assigner': 'cna@sap.com', 'id': 'CVE-2023-0022'}> Entities=<Node element_id='4:de342d72-e7ff-4d5b-9a28-99eaa381965b:3' labels=frozenset({'CVE'}) properties={'assigner': 'cna@sap.com', 'id': 'CVE-2023-0015'}>>, <Record cve1=<Node element_id='4:de342d72-e7ff-4d5b-9a28-99eaa381965b:4' labels=frozenset({'CVE'}) properties={'assigner': 'cna@sap.com', 'id': 'CVE-2023-0016'}> cve2=<Node element_id='4:de342d72-e7ff-4d5b-9a28-99eaa381965b:7' labels=frozenset({'CVE'}) properties={'assigner': 'cna@sap.com', 'id': 'CVE-2023-0022'}> Entities=<Node element_id='4:de342d72-e7ff-4d5b-9a28-99eaa381965b:3' labels=frozenset({'CVE'}) properties={'assigner': 'cna@sap.com', 'id': 'CVE-2023-0015'}>>, <Record cve1=<Node element_id='4:de342d72-e7ff-4d5b-9a28-99eaa381965b:4' labels=frozenset({'CVE'}) properties={'assigner': 'cna@sap.com', 'id': 'CVE-2023-0016'}> cve2=<Node element_id='4:de342d72-e7ff-4d5b-9a28-99eaa381965b:7' labels=frozenset({'CVE'}) properties={'assigner': 'cna@sap.com', 'id': 'CVE-2023-0022'}> Entities=<Node element_id='4:de342d72-e7ff-4d5b-9a28-99eaa381965b:1' labels=frozenset({'CVE'}) properties={'assigner': 'cna@sap.com', 'id': 'CVE-2023-0013'}>>, <Record cve1=<Node element_id='4:de342d72-e7ff-4d5b-9a28-99eaa381965b:4' labels=frozenset({'CVE'}) properties={'assigner': 'cna@sap.com', 'id': 'CVE-2023-0016'}> cve2=<Node element_id='4:de342d72-e7ff-4d5b-9a28-99eaa381965b:7' labels=frozenset({'CVE'}) properties={'assigner': 'cna@sap.com', 'id': 'CVE-2023-0022'}> Entities=<Node element_id='4:de342d72-e7ff-4d5b-9a28-99eaa381965b:1' labels=frozenset({'CVE'}) properties={'assigner': 'cna@sap.com', 'id': 'CVE-2023-0013'}>>, <Record cve1=<Node element_id='4:de342d72-e7ff-4d5b-9a28-99eaa381965b:4' labels=frozenset({'CVE'}) properties={'assigner': 'cna@sap.com', 'id': 'CVE-2023-0016'}> cve2=<Node element_id='4:de342d72-e7ff-4d5b-9a28-99eaa381965b:7' labels=frozenset({'CVE'}) properties={'assigner': 'cna@sap.com', 'id': 'CVE-2023-0022'}> Entities=<Node element_id='4:de342d72-e7ff-4d5b-9a28-99eaa381965b:6' labels=frozenset({'CVE'}) properties={'assigner': 'cna@sap.com', 'id': 'CVE-2023-0018'}>>, <Record cve1=<Node element_id='4:de342d72-e7ff-4d5b-9a28-99eaa381965b:4' labels=frozenset({'CVE'}) properties={'assigner': 'cna@sap.com', 'id': 'CVE-2023-0016'}> cve2=<Node element_id='4:de342d72-e7ff-4d5b-9a28-99eaa381965b:7' labels=frozenset({'CVE'}) properties={'assigner': 'cna@sap.com', 'id': 'CVE-2023-0022'}> Entities=<Node element_id='4:de342d72-e7ff-4d5b-9a28-99eaa381965b:6' labels=frozenset({'CVE'}) properties={'assigner': 'cna@sap.com', 'id': 'CVE-2023-0018'}>>, <Record cve1=<Node element_id='4:de342d72-e7ff-4d5b-9a28-99eaa381965b:4' labels=frozenset({'CVE'}) properties={'assigner': 'cna@sap.com', 'id': 'CVE-2023-0016'}> cve2=<Node element_id='4:de342d72-e7ff-4d5b-9a28-99eaa381965b:7' labels=frozenset({'CVE'}) properties={'assigner': 'cna@sap.com', 'id': 'CVE-2023-0022'}> Entities=<Node element_id='4:de342d72-e7ff-4d5b-9a28-99eaa381965b:9' labels=frozenset({'CVE'}) properties={'assigner': 'security@huntr.dev', 'id': 'CVE-2023-0028'}>>, <Record cve1=<Node element_id='4:de342d72-e7ff-4d5b-9a28-99eaa381965b:4' labels=frozenset({'CVE'}) properties={'assigner': 'cna@sap.com', 'id': 'CVE-2023-0016'}> cve2=<Node element_id='4:de342d72-e7ff-4d5b-9a28-99eaa381965b:7' labels=frozenset({'CVE'}) properties={'assigner': 'cna@sap.com', 'id': 'CVE-2023-0022'}> Entities=<Node element_id='4:de342d72-e7ff-4d5b-9a28-99eaa381965b:9' labels=frozenset({'CVE'}) properties={'assigner': 'security@huntr.dev', 'id': 'CVE-2023-0028'}>>, <Record cve1=<Node element_id='4:de342d72-e7ff-4d5b-9a28-99eaa381965b:4' labels=frozenset({'CVE'}) properties={'assigner': 'cna@sap.com', 'id': 'CVE-2023-0016'}> cve2=<Node element_id='4:de342d72-e7ff-4d5b-9a28-99eaa381965b:7' labels=frozenset({'CVE'}) properties={'assigner': 'cna@sap.com', 'id': 'CVE-2023-0022'}> Entities=<Node element_id='4:de342d72-e7ff-4d5b-9a28-99eaa381965b:3' labels=frozenset({'CVE'}) properties={'assigner': 'cna@sap.com', 'id': 'CVE-2023-0015'}>>, <Record cve1=<Node element_id='4:de342d72-e7ff-4d5b-9a28-99eaa381965b:4' labels=frozenset({'CVE'}) properties={'assigner': 'cna@sap.com', 'id': 'CVE-2023-0016'}> cve2=<Node element_id='4:de342d72-e7ff-4d5b-9a28-99eaa381965b:7' labels=frozenset({'CVE'}) properties={'assigner': 'cna@sap.com', 'id': 'CVE-2023-0022'}> Entities=<Node element_id='4:de342d72-e7ff-4d5b-9a28-99eaa381965b:3' labels=frozenset({'CVE'}) properties={'assigner': 'cna@sap.com', 'id': 'CVE-2023-0015'}>>, <Record cve1=<Node element_id='4:de342d72-e7ff-4d5b-9a28-99eaa381965b:4' labels=frozenset({'CVE'}) properties={'assigner': 'cna@sap.com', 'id': 'CVE-2023-0016'}> cve2=<Node element_id='4:de342d72-e7ff-4d5b-9a28-99eaa381965b:7' labels=frozenset({'CVE'}) properties={'assigner': 'cna@sap.com', 'id': 'CVE-2023-0022'}> Entities=<Node element_id='4:de342d72-e7ff-4d5b-9a28-99eaa381965b:1' labels=frozenset({'CVE'}) properties={'assigner': 'cna@sap.com', 'id': 'CVE-2023-0013'}>>, <Record cve1=<Node element_id='4:de342d72-e7ff-4d5b-9a28-99eaa381965b:4' labels=frozenset({'CVE'}) properties={'assigner': 'cna@sap.com', 'id': 'CVE-2023-0016'}> cve2=<Node element_id='4:de342d72-e7ff-4d5b-9a28-99eaa381965b:7' labels=frozenset({'CVE'}) properties={'assigner': 'cna@sap.com', 'id': 'CVE-2023-0022'}> Entities=<Node element_id='4:de342d72-e7ff-4d5b-9a28-99eaa381965b:1' labels=frozenset({'CVE'}) properties={'assigner': 'cna@sap.com', 'id': 'CVE-2023-0013'}>>, <Record cve1=<Node element_id='4:de342d72-e7ff-4d5b-9a28-99eaa381965b:4' labels=frozenset({'CVE'}) properties={'assigner': 'cna@sap.com', 'id': 'CVE-2023-0016'}> cve2=<Node element_id='4:de342d72-e7ff-4d5b-9a28-99eaa381965b:7' labels=frozenset({'CVE'}) properties={'assigner': 'cna@sap.com', 'id': 'CVE-2023-0022'}> Entities=<Node element_id='4:de342d72-e7ff-4d5b-9a28-99eaa381965b:6' labels=frozenset({'CVE'}) properties={'assigner': 'cna@sap.com', 'id': 'CVE-2023-0018'}>>, <Record cve1=<Node element_id='4:de342d72-e7ff-4d5b-9a28-99eaa381965b:4' labels=frozenset({'CVE'}) properties={'assigner': 'cna@sap.com', 'id': 'CVE-2023-0016'}> cve2=<Node element_id='4:de342d72-e7ff-4d5b-9a28-99eaa381965b:7' labels=frozenset({'CVE'}) properties={'assigner': 'cna@sap.com', 'id': 'CVE-2023-0022'}> Entities=<Node element_id='4:de342d72-e7ff-4d5b-9a28-99eaa381965b:6' labels=frozenset({'CVE'}) properties={'assigner': 'cna@sap.com', 'id': 'CVE-2023-0018'}>>, <Record cve1=<Node element_id='4:de342d72-e7ff-4d5b-9a28-99eaa381965b:4' labels=frozenset({'CVE'}) properties={'assigner': 'cna@sap.com', 'id': 'CVE-2023-0016'}> cve2=<Node element_id='4:de342d72-e7ff-4d5b-9a28-99eaa381965b:7' labels=frozenset({'CVE'}) properties={'assigner': 'cna@sap.com', 'id': 'CVE-2023-0022'}> Entities=<Node element_id='4:de342d72-e7ff-4d5b-9a28-99eaa381965b:9' labels=frozenset({'CVE'}) properties={'assigner': 'security@huntr.dev', 'id': 'CVE-2023-0028'}>>, <Record cve1=<Node element_id='4:de342d72-e7ff-4d5b-9a28-99eaa381965b:4' labels=frozenset({'CVE'}) properties={'assigner': 'cna@sap.com', 'id': 'CVE-2023-0016'}> cve2=<Node element_id='4:de342d72-e7ff-4d5b-9a28-99eaa381965b:7' labels=frozenset({'CVE'}) properties={'assigner': 'cna@sap.com', 'id': 'CVE-2023-0022'}> Entities=<Node element_id='4:de342d72-e7ff-4d5b-9a28-99eaa381965b:9' labels=frozenset({'CVE'}) properties={'assigner': 'security@huntr.dev', 'id': 'CVE-2023-0028'}>>, <Record cve1=<Node element_id='4:de342d72-e7ff-4d5b-9a28-99eaa381965b:4' labels=frozenset({'CVE'}) properties={'assigner': 'cna@sap.com', 'id': 'CVE-2023-0016'}> cve2=<Node element_id='4:de342d72-e7ff-4d5b-9a28-99eaa381965b:7' labels=frozenset({'CVE'}) properties={'assigner': 'cna@sap.com', 'id': 'CVE-2023-0022'}> Entities=<Node element_id='4:de342d72-e7ff-4d5b-9a28-99eaa381965b:3' labels=frozenset({'CVE'}) properties={'assigner': 'cna@sap.com', 'id': 'CVE-2023-0015'}>>, <Record cve1=<Node element_id='4:de342d72-e7ff-4d5b-9a28-99eaa381965b:4' labels=frozenset({'CVE'}) properties={'assigner': 'cna@sap.com', 'id': 'CVE-2023-0016'}> cve2=<Node element_id='4:de342d72-e7ff-4d5b-9a28-99eaa381965b:7' labels=frozenset({'CVE'}) properties={'assigner': 'cna@sap.com', 'id': 'CVE-2023-0022'}> Entities=<Node element_id='4:de342d72-e7ff-4d5b-9a28-99eaa381965b:3' labels=frozenset({'CVE'}) properties={'assigner': 'cna@sap.com', 'id': 'CVE-2023-0015'}>>, <Record cve1=<Node element_id='4:de342d72-e7ff-4d5b-9a28-99eaa381965b:4' labels=frozenset({'CVE'}) properties={'assigner': 'cna@sap.com', 'id': 'CVE-2023-0016'}> cve2=<Node element_id='4:de342d72-e7ff-4d5b-9a28-99eaa381965b:7' labels=frozenset({'CVE'}) properties={'assigner': 'cna@sap.com', 'id': 'CVE-2023-0022'}> Entities=<Node element_id='4:de342d72-e7ff-4d5b-9a28-99eaa381965b:1' labels=frozenset({'CVE'}) properties={'assigner': 'cna@sap.com', 'id': 'CVE-2023-0013'}>>, <Record cve1=<Node element_id='4:de342d72-e7ff-4d5b-9a28-99eaa381965b:4' labels=frozenset({'CVE'}) properties={'assigner': 'cna@sap.com', 'id': 'CVE-2023-0016'}> cve2=<Node element_id='4:de342d72-e7ff-4d5b-9a28-99eaa381965b:7' labels=frozenset({'CVE'}) properties={'assigner': 'cna@sap.com', 'id': 'CVE-2023-0022'}> Entities=<Node element_id='4:de342d72-e7ff-4d5b-9a28-99eaa381965b:1' labels=frozenset({'CVE'}) properties={'assigner': 'cna@sap.com', 'id': 'CVE-2023-0013'}>>, <Record cve1=<Node element_id='4:de342d72-e7ff-4d5b-9a28-99eaa381965b:4' labels=frozenset({'CVE'}) properties={'assigner': 'cna@sap.com', 'id': 'CVE-2023-0016'}> cve2=<Node element_id='4:de342d72-e7ff-4d5b-9a28-99eaa381965b:7' labels=frozenset({'CVE'}) properties={'assigner': 'cna@sap.com', 'id': 'CVE-2023-0022'}> Entities=<Node element_id='4:de342d72-e7ff-4d5b-9a28-99eaa381965b:6' labels=frozenset({'CVE'}) properties={'assigner': 'cna@sap.com', 'id': 'CVE-2023-0018'}>>, <Record cve1=<Node element_id='4:de342d72-e7ff-4d5b-9a28-99eaa381965b:4' labels=frozenset({'CVE'}) properties={'assigner': 'cna@sap.com', 'id': 'CVE-2023-0016'}> cve2=<Node element_id='4:de342d72-e7ff-4d5b-9a28-99eaa381965b:7' labels=frozenset({'CVE'}) properties={'assigner': 'cna@sap.com', 'id': 'CVE-2023-0022'}> Entities=<Node element_id='4:de342d72-e7ff-4d5b-9a28-99eaa381965b:6' labels=frozenset({'CVE'}) properties={'assigner': 'cna@sap.com', 'id': 'CVE-2023-0018'}>>, <Record cve1=<Node element_id='4:de342d72-e7ff-4d5b-9a28-99eaa381965b:4' labels=frozenset({'CVE'}) properties={'assigner': 'cna@sap.com', 'id': 'CVE-2023-0016'}> cve2=<Node element_id='4:de342d72-e7ff-4d5b-9a28-99eaa381965b:7' labels=frozenset({'CVE'}) properties={'assigner': 'cna@sap.com', 'id': 'CVE-2023-0022'}> Entities=<Node element_id='4:de342d72-e7ff-4d5b-9a28-99eaa381965b:9' labels=frozenset({'CVE'}) properties={'assigner': 'security@huntr.dev', 'id': 'CVE-2023-0028'}>>, <Record cve1=<Node element_id='4:de342d72-e7ff-4d5b-9a28-99eaa381965b:4' labels=frozenset({'CVE'}) properties={'assigner': 'cna@sap.com', 'id': 'CVE-2023-0016'}> cve2=<Node element_id='4:de342d72-e7ff-4d5b-9a28-99eaa381965b:7' labels=frozenset({'CVE'}) properties={'assigner': 'cna@sap.com', 'id': 'CVE-2023-0022'}> Entities=<Node element_id='4:de342d72-e7ff-4d5b-9a28-99eaa381965b:9' labels=frozenset({'CVE'}) properties={'assigner': 'security@huntr.dev', 'id': 'CVE-2023-0028'}>>, <Record cve1=<Node element_id='4:de342d72-e7ff-4d5b-9a28-99eaa381965b:4' labels=frozenset({'CVE'}) properties={'assigner': 'cna@sap.com', 'id': 'CVE-2023-0016'}> cve2=<Node element_id='4:de342d72-e7ff-4d5b-9a28-99eaa381965b:7' labels=frozenset({'CVE'}) properties={'assigner': 'cna@sap.com', 'id': 'CVE-2023-0022'}> Entities=<Node element_id='4:de342d72-e7ff-4d5b-9a28-99eaa381965b:3' labels=frozenset({'CVE'}) properties={'assigner': 'cna@sap.com', 'id': 'CVE-2023-0015'}>>, <Record cve1=<Node element_id='4:de342d72-e7ff-4d5b-9a28-99eaa381965b:4' labels=frozenset({'CVE'}) properties={'assigner': 'cna@sap.com', 'id': 'CVE-2023-0016'}> cve2=<Node element_id='4:de342d72-e7ff-4d5b-9a28-99eaa381965b:7' labels=frozenset({'CVE'}) properties={'assigner': 'cna@sap.com', 'id': 'CVE-2023-0022'}> Entities=<Node element_id='4:de342d72-e7ff-4d5b-9a28-99eaa381965b:3' labels=frozenset({'CVE'}) properties={'assigner': 'cna@sap.com', 'id': 'CVE-2023-0015'}>>, <Record cve1=<Node element_id='4:de342d72-e7ff-4d5b-9a28-99eaa381965b:4' labels=frozenset({'CVE'}) properties={'assigner': 'cna@sap.com', 'id': 'CVE-2023-0016'}> cve2=<Node element_id='4:de342d72-e7ff-4d5b-9a28-99eaa381965b:7' labels=frozenset({'CVE'}) properties={'assigner': 'cna@sap.com', 'id': 'CVE-2023-0022'}> Entities=<Node element_id='4:de342d72-e7ff-4d5b-9a28-99eaa381965b:1' labels=frozenset({'CVE'}) properties={'assigner': 'cna@sap.com', 'id': 'CVE-2023-0013'}>>, <Record cve1=<Node element_id='4:de342d72-e7ff-4d5b-9a28-99eaa381965b:4' labels=frozenset({'CVE'}) properties={'assigner': 'cna@sap.com', 'id': 'CVE-2023-0016'}> cve2=<Node element_id='4:de342d72-e7ff-4d5b-9a28-99eaa381965b:7' labels=frozenset({'CVE'}) properties={'assigner': 'cna@sap.com', 'id': 'CVE-2023-0022'}> Entities=<Node element_id='4:de342d72-e7ff-4d5b-9a28-99eaa381965b:1' labels=frozenset({'CVE'}) properties={'assigner': 'cna@sap.com', 'id': 'CVE-2023-0013'}>>, <Record cve1=<Node element_id='4:de342d72-e7ff-4d5b-9a28-99eaa381965b:4' labels=frozenset({'CVE'}) properties={'assigner': 'cna@sap.com', 'id': 'CVE-2023-0016'}> cve2=<Node element_id='4:de342d72-e7ff-4d5b-9a28-99eaa381965b:7' labels=frozenset({'CVE'}) properties={'assigner': 'cna@sap.com', 'id': 'CVE-2023-0022'}> Entities=<Node element_id='4:de342d72-e7ff-4d5b-9a28-99eaa381965b:6' labels=frozenset({'CVE'}) properties={'assigner': 'cna@sap.com', 'id': 'CVE-2023-0018'}>>, <Record cve1=<Node element_id='4:de342d72-e7ff-4d5b-9a28-99eaa381965b:4' labels=frozenset({'CVE'}) properties={'assigner': 'cna@sap.com', 'id': 'CVE-2023-0016'}> cve2=<Node element_id='4:de342d72-e7ff-4d5b-9a28-99eaa381965b:7' labels=frozenset({'CVE'}) properties={'assigner': 'cna@sap.com', 'id': 'CVE-2023-0022'}> Entities=<Node element_id='4:de342d72-e7ff-4d5b-9a28-99eaa381965b:6' labels=frozenset({'CVE'}) properties={'assigner': 'cna@sap.com', 'id': 'CVE-2023-0018'}>>, <Record cve1=<Node element_id='4:de342d72-e7ff-4d5b-9a28-99eaa381965b:4' labels=frozenset({'CVE'}) properties={'assigner': 'cna@sap.com', 'id': 'CVE-2023-0016'}> cve2=<Node element_id='4:de342d72-e7ff-4d5b-9a28-99eaa381965b:7' labels=frozenset({'CVE'}) properties={'assigner': 'cna@sap.com', 'id': 'CVE-2023-0022'}> Entities=<Node element_id='4:de342d72-e7ff-4d5b-9a28-99eaa381965b:9' labels=frozenset({'CVE'}) properties={'assigner': 'security@huntr.dev', 'id': 'CVE-2023-0028'}>>, <Record cve1=<Node element_id='4:de342d72-e7ff-4d5b-9a28-99eaa381965b:4' labels=frozenset({'CVE'}) properties={'assigner': 'cna@sap.com', 'id': 'CVE-2023-0016'}> cve2=<Node element_id='4:de342d72-e7ff-4d5b-9a28-99eaa381965b:7' labels=frozenset({'CVE'}) properties={'assigner': 'cna@sap.com', 'id': 'CVE-2023-0022'}> Entities=<Node element_id='4:de342d72-e7ff-4d5b-9a28-99eaa381965b:9' labels=frozenset({'CVE'}) properties={'assigner': 'security@huntr.dev', 'id': 'CVE-2023-0028'}>>, <Record cve1=<Node element_id='4:de342d72-e7ff-4d5b-9a28-99eaa381965b:4' labels=frozenset({'CVE'}) properties={'assigner': 'cna@sap.com', 'id': 'CVE-2023-0016'}> cve2=<Node element_id='4:de342d72-e7ff-4d5b-9a28-99eaa381965b:7' labels=frozenset({'CVE'}) properties={'assigner': 'cna@sap.com', 'id': 'CVE-2023-0022'}> Entities=<Node element_id='4:de342d72-e7ff-4d5b-9a28-99eaa381965b:3' labels=frozenset({'CVE'}) properties={'assigner': 'cna@sap.com', 'id': 'CVE-2023-0015'}>>, <Record cve1=<Node element_id='4:de342d72-e7ff-4d5b-9a28-99eaa381965b:4' labels=frozenset({'CVE'}) properties={'assigner': 'cna@sap.com', 'id': 'CVE-2023-0016'}> cve2=<Node element_id='4:de342d72-e7ff-4d5b-9a28-99eaa381965b:7' labels=frozenset({'CVE'}) properties={'assigner': 'cna@sap.com', 'id': 'CVE-2023-0022'}> Entities=<Node element_id='4:de342d72-e7ff-4d5b-9a28-99eaa381965b:3' labels=frozenset({'CVE'}) properties={'assigner': 'cna@sap.com', 'id': 'CVE-2023-0015'}>>, <Record cve1=<Node element_id='4:de342d72-e7ff-4d5b-9a28-99eaa381965b:4' labels=frozenset({'CVE'}) properties={'assigner': 'cna@sap.com', 'id': 'CVE-2023-0016'}> cve2=<Node element_id='4:de342d72-e7ff-4d5b-9a28-99eaa381965b:7' labels=frozenset({'CVE'}) properties={'assigner': 'cna@sap.com', 'id': 'CVE-2023-0022'}> Entities=<Node element_id='4:de342d72-e7ff-4d5b-9a28-99eaa381965b:1' labels=frozenset({'CVE'}) properties={'assigner': 'cna@sap.com', 'id': 'CVE-2023-0013'}>>, <Record cve1=<Node element_id='4:de342d72-e7ff-4d5b-9a28-99eaa381965b:4' labels=frozenset({'CVE'}) properties={'assigner': 'cna@sap.com', 'id': 'CVE-2023-0016'}> cve2=<Node element_id='4:de342d72-e7ff-4d5b-9a28-99eaa381965b:7' labels=frozenset({'CVE'}) properties={'assigner': 'cna@sap.com', 'id': 'CVE-2023-0022'}> Entities=<Node element_id='4:de342d72-e7ff-4d5b-9a28-99eaa381965b:1' labels=frozenset({'CVE'}) properties={'assigner': 'cna@sap.com', 'id': 'CVE-2023-0013'}>>, <Record cve1=<Node element_id='4:de342d72-e7ff-4d5b-9a28-99eaa381965b:4' labels=frozenset({'CVE'}) properties={'assigner': 'cna@sap.com', 'id': 'CVE-2023-0016'}> cve2=<Node element_id='4:de342d72-e7ff-4d5b-9a28-99eaa381965b:7' labels=frozenset({'CVE'}) properties={'assigner': 'cna@sap.com', 'id': 'CVE-2023-0022'}> Entities=<Node element_id='4:de342d72-e7ff-4d5b-9a28-99eaa381965b:6' labels=frozenset({'CVE'}) properties={'assigner': 'cna@sap.com', 'id': 'CVE-2023-0018'}>>, <Record cve1=<Node element_id='4:de342d72-e7ff-4d5b-9a28-99eaa381965b:4' labels=frozenset({'CVE'}) properties={'assigner': 'cna@sap.com', 'id': 'CVE-2023-0016'}> cve2=<Node element_id='4:de342d72-e7ff-4d5b-9a28-99eaa381965b:7' labels=frozenset({'CVE'}) properties={'assigner': 'cna@sap.com', 'id': 'CVE-2023-0022'}> Entities=<Node element_id='4:de342d72-e7ff-4d5b-9a28-99eaa381965b:6' labels=frozenset({'CVE'}) properties={'assigner': 'cna@sap.com', 'id': 'CVE-2023-0018'}>>, <Record cve1=<Node element_id='4:de342d72-e7ff-4d5b-9a28-99eaa381965b:4' labels=frozenset({'CVE'}) properties={'assigner': 'cna@sap.com', 'id': 'CVE-2023-0016'}> cve2=<Node element_id='4:de342d72-e7ff-4d5b-9a28-99eaa381965b:7' labels=frozenset({'CVE'}) properties={'assigner': 'cna@sap.com', 'id': 'CVE-2023-0022'}> Entities=<Node element_id='4:de342d72-e7ff-4d5b-9a28-99eaa381965b:9' labels=frozenset({'CVE'}) properties={'assigner': 'security@huntr.dev', 'id': 'CVE-2023-0028'}>>, <Record cve1=<Node element_id='4:de342d72-e7ff-4d5b-9a28-99eaa381965b:4' labels=frozenset({'CVE'}) properties={'assigner': 'cna@sap.com', 'id': 'CVE-2023-0016'}> cve2=<Node element_id='4:de342d72-e7ff-4d5b-9a28-99eaa381965b:7' labels=frozenset({'CVE'}) properties={'assigner': 'cna@sap.com', 'id': 'CVE-2023-0022'}> Entities=<Node element_id='4:de342d72-e7ff-4d5b-9a28-99eaa381965b:9' labels=frozenset({'CVE'}) properties={'assigner': 'security@huntr.dev', 'id': 'CVE-2023-0028'}>>, <Record cve1=<Node element_id='4:de342d72-e7ff-4d5b-9a28-99eaa381965b:4' labels=frozenset({'CVE'}) properties={'assigner': 'cna@sap.com', 'id': 'CVE-2023-0016'}> cve2=<Node element_id='4:de342d72-e7ff-4d5b-9a28-99eaa381965b:7' labels=frozenset({'CVE'}) properties={'assigner': 'cna@sap.com', 'id': 'CVE-2023-0022'}> Entities=<Node element_id='4:de342d72-e7ff-4d5b-9a28-99eaa381965b:3' labels=frozenset({'CVE'}) properties={'assigner': 'cna@sap.com', 'id': 'CVE-2023-0015'}>>, <Record cve1=<Node element_id='4:de342d72-e7ff-4d5b-9a28-99eaa381965b:4' labels=frozenset({'CVE'}) properties={'assigner': 'cna@sap.com', 'id': 'CVE-2023-0016'}> cve2=<Node element_id='4:de342d72-e7ff-4d5b-9a28-99eaa381965b:7' labels=frozenset({'CVE'}) properties={'assigner': 'cna@sap.com', 'id': 'CVE-2023-0022'}> Entities=<Node element_id='4:de342d72-e7ff-4d5b-9a28-99eaa381965b:3' labels=frozenset({'CVE'}) properties={'assigner': 'cna@sap.com', 'id': 'CVE-2023-0015'}>>, <Record cve1=<Node element_id='4:de342d72-e7ff-4d5b-9a28-99eaa381965b:4' labels=frozenset({'CVE'}) properties={'assigner': 'cna@sap.com', 'id': 'CVE-2023-0016'}> cve2=<Node element_id='4:de342d72-e7ff-4d5b-9a28-99eaa381965b:7' labels=frozenset({'CVE'}) properties={'assigner': 'cna@sap.com', 'id': 'CVE-2023-0022'}> Entities=<Node element_id='4:de342d72-e7ff-4d5b-9a28-99eaa381965b:1' labels=frozenset({'CVE'}) properties={'assigner': 'cna@sap.com', 'id': 'CVE-2023-0013'}>>, <Record cve1=<Node element_id='4:de342d72-e7ff-4d5b-9a28-99eaa381965b:4' labels=frozenset({'CVE'}) properties={'assigner': 'cna@sap.com', 'id': 'CVE-2023-0016'}> cve2=<Node element_id='4:de342d72-e7ff-4d5b-9a28-99eaa381965b:7' labels=frozenset({'CVE'}) properties={'assigner': 'cna@sap.com', 'id': 'CVE-2023-0022'}> Entities=<Node element_id='4:de342d72-e7ff-4d5b-9a28-99eaa381965b:1' labels=frozenset({'CVE'}) properties={'assigner': 'cna@sap.com', 'id': 'CVE-2023-0013'}>>, <Record cve1=<Node element_id='4:de342d72-e7ff-4d5b-9a28-99eaa381965b:4' labels=frozenset({'CVE'}) properties={'assigner': 'cna@sap.com', 'id': 'CVE-2023-0016'}> cve2=<Node element_id='4:de342d72-e7ff-4d5b-9a28-99eaa381965b:7' labels=frozenset({'CVE'}) properties={'assigner': 'cna@sap.com', 'id': 'CVE-2023-0022'}> Entities=<Node element_id='4:de342d72-e7ff-4d5b-9a28-99eaa381965b:4' labels=frozenset({'CVE'}) properties={'assigner': 'cna@sap.com', 'id': 'CVE-2023-0016'}>>, <Record cve1=<Node element_id='4:de342d72-e7ff-4d5b-9a28-99eaa381965b:4' labels=frozenset({'CVE'}) properties={'assigner': 'cna@sap.com', 'id': 'CVE-2023-0016'}> cve2=<Node element_id='4:de342d72-e7ff-4d5b-9a28-99eaa381965b:7' labels=frozenset({'CVE'}) properties={'assigner': 'cna@sap.com', 'id': 'CVE-2023-0022'}> Entities=<Node element_id='4:de342d72-e7ff-4d5b-9a28-99eaa381965b:167' labels=frozenset({'Entities'}) properties={'wikipediaExternalRef': 241154, 'wikidataId': 'Q371199', 'confidence_score': 0.719, 'offsetStart': 0, 'offsetEnd': 20, 'rawName': 'Cross-site scripting'}>>, <Record cve1=<Node element_id='4:de342d72-e7ff-4d5b-9a28-99eaa381965b:4' labels=frozenset({'CVE'}) properties={'assigner': 'cna@sap.com', 'id': 'CVE-2023-0016'}> cve2=<Node element_id='4:de342d72-e7ff-4d5b-9a28-99eaa381965b:7' labels=frozenset({'CVE'}) properties={'assigner': 'cna@sap.com', 'id': 'CVE-2023-0022'}> Entities=<Node element_id='4:de342d72-e7ff-4d5b-9a28-99eaa381965b:167' labels=frozenset({'Entities'}) properties={'wikipediaExternalRef': 241154, 'wikidataId': 'Q371199', 'confidence_score': 0.719, 'offsetStart': 0, 'offsetEnd': 20, 'rawName': 'Cross-site scripting'}>>, <Record cve1=<Node element_id='4:de342d72-e7ff-4d5b-9a28-99eaa381965b:4' labels=frozenset({'CVE'}) properties={'assigner': 'cna@sap.com', 'id': 'CVE-2023-0016'}> cve2=<Node element_id='4:de342d72-e7ff-4d5b-9a28-99eaa381965b:7' labels=frozenset({'CVE'}) properties={'assigner': 'cna@sap.com', 'id': 'CVE-2023-0022'}> Entities=<Node element_id='4:de342d72-e7ff-4d5b-9a28-99eaa381965b:167' labels=frozenset({'Entities'}) properties={'wikipediaExternalRef': 241154, 'wikidataId': 'Q371199', 'confidence_score': 0.719, 'offsetStart': 0, 'offsetEnd': 20, 'rawName': 'Cross-site scripting'}>>, <Record cve1=<Node element_id='4:de342d72-e7ff-4d5b-9a28-99eaa381965b:4' labels=frozenset({'CVE'}) properties={'assigner': 'cna@sap.com', 'id': 'CVE-2023-0016'}> cve2=<Node element_id='4:de342d72-e7ff-4d5b-9a28-99eaa381965b:7' labels=frozenset({'CVE'}) properties={'assigner': 'cna@sap.com', 'id': 'CVE-2023-0022'}> Entities=<Node element_id='4:de342d72-e7ff-4d5b-9a28-99eaa381965b:167' labels=frozenset({'Entities'}) properties={'wikipediaExternalRef': 241154, 'wikidataId': 'Q371199', 'confidence_score': 0.719, 'offsetStart': 0, 'offsetEnd': 20, 'rawName': 'Cross-site scripting'}>>, <Record cve1=<Node element_id='4:de342d72-e7ff-4d5b-9a28-99eaa381965b:4' labels=frozenset({'CVE'}) properties={'assigner': 'cna@sap.com', 'id': 'CVE-2023-0016'}> cve2=<Node element_id='4:de342d72-e7ff-4d5b-9a28-99eaa381965b:7' labels=frozenset({'CVE'}) properties={'assigner': 'cna@sap.com', 'id': 'CVE-2023-0022'}> Entities=<Node element_id='4:de342d72-e7ff-4d5b-9a28-99eaa381965b:262' labels=frozenset({'Entities'}) properties={'wikipediaExternalRef': 526999, 'wikidataId': 'Q506059', 'confidence_score': 0.9162, 'offsetStart': 1041, 'offsetEnd': 1054, 'rawName': 'SQL injection'}>>, <Record cve1=<Node element_id='4:de342d72-e7ff-4d5b-9a28-99eaa381965b:1' labels=frozenset({'CVE'}) properties={'assigner': 'cna@sap.com', 'id': 'CVE-2023-0013'}> cve2=<Node element_id='4:de342d72-e7ff-4d5b-9a28-99eaa381965b:3' labels=frozenset({'CVE'}) properties={'assigner': 'cna@sap.com', 'id': 'CVE-2023-0015'}> Entities=<Node element_id='4:de342d72-e7ff-4d5b-9a28-99eaa381965b:262' labels=frozenset({'Entities'}) properties={'wikipediaExternalRef': 526999, 'wikidataId': 'Q506059', 'confidence_score': 0.9162, 'offsetStart': 1041, 'offsetEnd': 1054, 'rawName': 'SQL injection'}>>, <Record cve1=<Node element_id='4:de342d72-e7ff-4d5b-9a28-99eaa381965b:1' labels=frozenset({'CVE'}) properties={'assigner': 'cna@sap.com', 'id': 'CVE-2023-0013'}> cve2=<Node element_id='4:de342d72-e7ff-4d5b-9a28-99eaa381965b:3' labels=frozenset({'CVE'}) properties={'assigner': 'cna@sap.com', 'id': 'CVE-2023-0015'}> Entities=<Node element_id='4:de342d72-e7ff-4d5b-9a28-99eaa381965b:287' labels=frozenset({'Entities'}) properties={'wikipediaExternalRef': 5316476, 'wikidataId': 'Q2587068', 'confidence_score': 0.4076, 'offsetStart': 394, 'offsetEnd': 415, 'rawName': 'sensitive information'}>>, <Record cve1=<Node element_id='4:de342d72-e7ff-4d5b-9a28-99eaa381965b:1' labels=frozenset({'CVE'}) properties={'assigner': 'cna@sap.com', 'id': 'CVE-2023-0013'}> cve2=<Node element_id='4:de342d72-e7ff-4d5b-9a28-99eaa381965b:3' labels=frozenset({'CVE'}) properties={'assigner': 'cna@sap.com', 'id': 'CVE-2023-0015'}> Entities=<Node element_id='4:de342d72-e7ff-4d5b-9a28-99eaa381965b:287' labels=frozenset({'Entities'}) properties={'wikipediaExternalRef': 5316476, 'wikidataId': 'Q2587068', 'confidence_score': 0.4076, 'offsetStart': 394, 'offsetEnd': 415, 'rawName': 'sensitive information'}>>, <Record cve1=<Node element_id='4:de342d72-e7ff-4d5b-9a28-99eaa381965b:1' labels=frozenset({'CVE'}) properties={'assigner': 'cna@sap.com', 'id': 'CVE-2023-0013'}> cve2=<Node element_id='4:de342d72-e7ff-4d5b-9a28-99eaa381965b:3' labels=frozenset({'CVE'}) properties={'assigner': 'cna@sap.com', 'id': 'CVE-2023-0015'}> Entities=<Node element_id='4:de342d72-e7ff-4d5b-9a28-99eaa381965b:287' labels=frozenset({'Entities'}) properties={'wikipediaExternalRef': 5316476, 'wikidataId': 'Q2587068', 'confidence_score': 0.4076, 'offsetStart': 394, 'offsetEnd': 415, 'rawName': 'sensitive information'}>>, <Record cve1=<Node element_id='4:de342d72-e7ff-4d5b-9a28-99eaa381965b:1' labels=frozenset({'CVE'}) properties={'assigner': 'cna@sap.com', 'id': 'CVE-2023-0013'}> cve2=<Node element_id='4:de342d72-e7ff-4d5b-9a28-99eaa381965b:3' labels=frozenset({'CVE'}) properties={'assigner': 'cna@sap.com', 'id': 'CVE-2023-0015'}> Entities=<Node element_id='4:de342d72-e7ff-4d5b-9a28-99eaa381965b:314' labels=frozenset({'Entities'}) properties={'wikipediaExternalRef': 40684, 'wikidataId': 'Q228502', 'confidence_score': 0.6394, 'offsetStart': 0, 'offsetEnd': 14, 'rawName': 'Access control'}>>, <Record cve1=<Node element_id='4:de342d72-e7ff-4d5b-9a28-99eaa381965b:1' labels=frozenset({'CVE'}) properties={'assigner': 'cna@sap.com', 'id': 'CVE-2023-0013'}> cve2=<Node element_id='4:de342d72-e7ff-4d5b-9a28-99eaa381965b:3' labels=frozenset({'CVE'}) properties={'assigner': 'cna@sap.com', 'id': 'CVE-2023-0015'}> Entities=<Node element_id='4:de342d72-e7ff-4d5b-9a28-99eaa381965b:314' labels=frozenset({'Entities'}) properties={'wikipediaExternalRef': 40684, 'wikidataId': 'Q228502', 'confidence_score': 0.6394, 'offsetStart': 0, 'offsetEnd': 14, 'rawName': 'Access control'}>>, <Record cve1=<Node element_id='4:de342d72-e7ff-4d5b-9a28-99eaa381965b:1' labels=frozenset({'CVE'}) properties={'assigner': 'cna@sap.com', 'id': 'CVE-2023-0013'}> cve2=<Node element_id='4:de342d72-e7ff-4d5b-9a28-99eaa381965b:3' labels=frozenset({'CVE'}) properties={'assigner': 'cna@sap.com', 'id': 'CVE-2023-0015'}> Entities=<Node element_id='4:de342d72-e7ff-4d5b-9a28-99eaa381965b:331' labels=frozenset({'Entities'}) properties={'wikipediaExternalRef': 614094, 'wikidataId': 'Q1756025', 'confidence_score': 0.5922, 'offsetStart': 8, 'offsetEnd': 22, 'rawName': 'replay attacks'}>>, <Record cve1=<Node element_id='4:de342d72-e7ff-4d5b-9a28-99eaa381965b:1' labels=frozenset({'CVE'}) properties={'assigner': 'cna@sap.com', 'id': 'CVE-2023-0013'}> cve2=<Node element_id='4:de342d72-e7ff-4d5b-9a28-99eaa381965b:3' labels=frozenset({'CVE'}) properties={'assigner': 'cna@sap.com', 'id': 'CVE-2023-0015'}> Entities=<Node element_id='4:de342d72-e7ff-4d5b-9a28-99eaa381965b:168' labels=frozenset({'Entities'}) properties={'wikipediaExternalRef': 241154, 'wikidataId': 'Q371199', 'confidence_score': 0.8255, 'offsetStart': 3130, 'offsetEnd': 3133, 'rawName': 'XSS'}>>, <Record cve1=<Node element_id='4:de342d72-e7ff-4d5b-9a28-99eaa381965b:1' labels=frozenset({'CVE'}) properties={'assigner': 'cna@sap.com', 'id': 'CVE-2023-0013'}> cve2=<Node element_id='4:de342d72-e7ff-4d5b-9a28-99eaa381965b:3' labels=frozenset({'CVE'}) properties={'assigner': 'cna@sap.com', 'id': 'CVE-2023-0015'}> Entities=<Node element_id='4:de342d72-e7ff-4d5b-9a28-99eaa381965b:195' labels=frozenset({'Entities'}) properties={'wikipediaExternalRef': 241154, 'wikidataId': 'Q371199', 'confidence_score': 0.5158, 'offsetStart': 1120, 'offsetEnd': 1133, 'rawName': 'Reflected XSS'}>>, <Record cve1=<Node element_id='4:de342d72-e7ff-4d5b-9a28-99eaa381965b:1' labels=frozenset({'CVE'}) properties={'assigner': 'cna@sap.com', 'id': 'CVE-2023-0013'}> cve2=<Node element_id='4:de342d72-e7ff-4d5b-9a28-99eaa381965b:3' labels=frozenset({'CVE'}) properties={'assigner': 'cna@sap.com', 'id': 'CVE-2023-0015'}> Entities=<Node element_id='4:de342d72-e7ff-4d5b-9a28-99eaa381965b:208' labels=frozenset({'Entities'}) properties={'wikipediaExternalRef': 241154, 'wikidataId': 'Q371199', 'confidence_score': 0.5158, 'offsetStart': 1769, 'offsetEnd': 1779, 'rawName': 'Stored XSS'}>>, <Record cve1=<Node element_id='4:de342d72-e7ff-4d5b-9a28-99eaa381965b:1' labels=frozenset({'CVE'}) properties={'assigner': 'cna@sap.com', 'id': 'CVE-2023-0013'}> cve2=<Node element_id='4:de342d72-e7ff-4d5b-9a28-99eaa381965b:3' labels=frozenset({'CVE'}) properties={'assigner': 'cna@sap.com', 'id': 'CVE-2023-0015'}> Entities=<Node element_id='4:de342d72-e7ff-4d5b-9a28-99eaa381965b:168' labels=frozenset({'Entities'}) properties={'wikipediaExternalRef': 241154, 'wikidataId': 'Q371199', 'confidence_score': 0.8255, 'offsetStart': 3130, 'offsetEnd': 3133, 'rawName': 'XSS'}>>, <Record cve1=<Node element_id='4:de342d72-e7ff-4d5b-9a28-99eaa381965b:1' labels=frozenset({'CVE'}) properties={'assigner': 'cna@sap.com', 'id': 'CVE-2023-0013'}> cve2=<Node element_id='4:de342d72-e7ff-4d5b-9a28-99eaa381965b:3' labels=frozenset({'CVE'}) properties={'assigner': 'cna@sap.com', 'id': 'CVE-2023-0015'}> Entities=<Node element_id='4:de342d72-e7ff-4d5b-9a28-99eaa381965b:195' labels=frozenset({'Entities'}) properties={'wikipediaExternalRef': 241154, 'wikidataId': 'Q371199', 'confidence_score': 0.5158, 'offsetStart': 1120, 'offsetEnd': 1133, 'rawName': 'Reflected XSS'}>>, <Record cve1=<Node element_id='4:de342d72-e7ff-4d5b-9a28-99eaa381965b:1' labels=frozenset({'CVE'}) properties={'assigner': 'cna@sap.com', 'id': 'CVE-2023-0013'}> cve2=<Node element_id='4:de342d72-e7ff-4d5b-9a28-99eaa381965b:3' labels=frozenset({'CVE'}) properties={'assigner': 'cna@sap.com', 'id': 'CVE-2023-0015'}> Entities=<Node element_id='4:de342d72-e7ff-4d5b-9a28-99eaa381965b:208' labels=frozenset({'Entities'}) properties={'wikipediaExternalRef': 241154, 'wikidataId': 'Q371199', 'confidence_score': 0.5158, 'offsetStart': 1769, 'offsetEnd': 1779, 'rawName': 'Stored XSS'}>>, <Record cve1=<Node element_id='4:de342d72-e7ff-4d5b-9a28-99eaa381965b:1' labels=frozenset({'CVE'}) properties={'assigner': 'cna@sap.com', 'id': 'CVE-2023-0013'}> cve2=<Node element_id='4:de342d72-e7ff-4d5b-9a28-99eaa381965b:3' labels=frozenset({'CVE'}) properties={'assigner': 'cna@sap.com', 'id': 'CVE-2023-0015'}> Entities=<Node element_id='4:de342d72-e7ff-4d5b-9a28-99eaa381965b:168' labels=frozenset({'Entities'}) properties={'wikipediaExternalRef': 241154, 'wikidataId': 'Q371199', 'confidence_score': 0.8255, 'offsetStart': 3130, 'offsetEnd': 3133, 'rawName': 'XSS'}>>, <Record cve1=<Node element_id='4:de342d72-e7ff-4d5b-9a28-99eaa381965b:1' labels=frozenset({'CVE'}) properties={'assigner': 'cna@sap.com', 'id': 'CVE-2023-0013'}> cve2=<Node element_id='4:de342d72-e7ff-4d5b-9a28-99eaa381965b:3' labels=frozenset({'CVE'}) properties={'assigner': 'cna@sap.com', 'id': 'CVE-2023-0015'}> Entities=<Node element_id='4:de342d72-e7ff-4d5b-9a28-99eaa381965b:195' labels=frozenset({'Entities'}) properties={'wikipediaExternalRef': 241154, 'wikidataId': 'Q371199', 'confidence_score': 0.5158, 'offsetStart': 1120, 'offsetEnd': 1133, 'rawName': 'Reflected XSS'}>>, <Record cve1=<Node element_id='4:de342d72-e7ff-4d5b-9a28-99eaa381965b:1' labels=frozenset({'CVE'}) properties={'assigner': 'cna@sap.com', 'id': 'CVE-2023-0013'}> cve2=<Node element_id='4:de342d72-e7ff-4d5b-9a28-99eaa381965b:3' labels=frozenset({'CVE'}) properties={'assigner': 'cna@sap.com', 'id': 'CVE-2023-0015'}> Entities=<Node element_id='4:de342d72-e7ff-4d5b-9a28-99eaa381965b:208' labels=frozenset({'Entities'}) properties={'wikipediaExternalRef': 241154, 'wikidataId': 'Q371199', 'confidence_score': 0.5158, 'offsetStart': 1769, 'offsetEnd': 1779, 'rawName': 'Stored XSS'}>>, <Record cve1=<Node element_id='4:de342d72-e7ff-4d5b-9a28-99eaa381965b:1' labels=frozenset({'CVE'}) properties={'assigner': 'cna@sap.com', 'id': 'CVE-2023-0013'}> cve2=<Node element_id='4:de342d72-e7ff-4d5b-9a28-99eaa381965b:3' labels=frozenset({'CVE'}) properties={'assigner': 'cna@sap.com', 'id': 'CVE-2023-0015'}> Entities=<Node element_id='4:de342d72-e7ff-4d5b-9a28-99eaa381965b:168' labels=frozenset({'Entities'}) properties={'wikipediaExternalRef': 241154, 'wikidataId': 'Q371199', 'confidence_score': 0.8255, 'offsetStart': 3130, 'offsetEnd': 3133, 'rawName': 'XSS'}>>, <Record cve1=<Node element_id='4:de342d72-e7ff-4d5b-9a28-99eaa381965b:1' labels=frozenset({'CVE'}) properties={'assigner': 'cna@sap.com', 'id': 'CVE-2023-0013'}> cve2=<Node element_id='4:de342d72-e7ff-4d5b-9a28-99eaa381965b:3' labels=frozenset({'CVE'}) properties={'assigner': 'cna@sap.com', 'id': 'CVE-2023-0015'}> Entities=<Node element_id='4:de342d72-e7ff-4d5b-9a28-99eaa381965b:195' labels=frozenset({'Entities'}) properties={'wikipediaExternalRef': 241154, 'wikidataId': 'Q371199', 'confidence_score': 0.5158, 'offsetStart': 1120, 'offsetEnd': 1133, 'rawName': 'Reflected XSS'}>>, <Record cve1=<Node element_id='4:de342d72-e7ff-4d5b-9a28-99eaa381965b:1' labels=frozenset({'CVE'}) properties={'assigner': 'cna@sap.com', 'id': 'CVE-2023-0013'}> cve2=<Node element_id='4:de342d72-e7ff-4d5b-9a28-99eaa381965b:3' labels=frozenset({'CVE'}) properties={'assigner': 'cna@sap.com', 'id': 'CVE-2023-0015'}> Entities=<Node element_id='4:de342d72-e7ff-4d5b-9a28-99eaa381965b:208' labels=frozenset({'Entities'}) properties={'wikipediaExternalRef': 241154, 'wikidataId': 'Q371199', 'confidence_score': 0.5158, 'offsetStart': 1769, 'offsetEnd': 1779, 'rawName': 'Stored XSS'}>>, <Record cve1=<Node element_id='4:de342d72-e7ff-4d5b-9a28-99eaa381965b:1' labels=frozenset({'CVE'}) properties={'assigner': 'cna@sap.com', 'id': 'CVE-2023-0013'}> cve2=<Node element_id='4:de342d72-e7ff-4d5b-9a28-99eaa381965b:3' labels=frozenset({'CVE'}) properties={'assigner': 'cna@sap.com', 'id': 'CVE-2023-0015'}> Entities=<Node element_id='4:de342d72-e7ff-4d5b-9a28-99eaa381965b:216' labels=frozenset({'Entities'}) properties={'wikipediaExternalRef': 5316476, 'wikidataId': 'Q2587068', 'confidence_score': 0.4691, 'offsetStart': 2476, 'offsetEnd': 2490, 'rawName': 'sensitive data'}>>, <Record cve1=<Node element_id='4:de342d72-e7ff-4d5b-9a28-99eaa381965b:1' labels=frozenset({'CVE'}) properties={'assigner': 'cna@sap.com', 'id': 'CVE-2023-0013'}> cve2=<Node element_id='4:de342d72-e7ff-4d5b-9a28-99eaa381965b:3' labels=frozenset({'CVE'}) properties={'assigner': 'cna@sap.com', 'id': 'CVE-2023-0015'}> Entities=<Node element_id='4:de342d72-e7ff-4d5b-9a28-99eaa381965b:216' labels=frozenset({'Entities'}) properties={'wikipediaExternalRef': 5316476, 'wikidataId': 'Q2587068', 'confidence_score': 0.4691, 'offsetStart': 2476, 'offsetEnd': 2490, 'rawName': 'sensitive data'}>>, <Record cve1=<Node element_id='4:de342d72-e7ff-4d5b-9a28-99eaa381965b:1' labels=frozenset({'CVE'}) properties={'assigner': 'cna@sap.com', 'id': 'CVE-2023-0013'}> cve2=<Node element_id='4:de342d72-e7ff-4d5b-9a28-99eaa381965b:3' labels=frozenset({'CVE'}) properties={'assigner': 'cna@sap.com', 'id': 'CVE-2023-0015'}> Entities=<Node element_id='4:de342d72-e7ff-4d5b-9a28-99eaa381965b:216' labels=frozenset({'Entities'}) properties={'wikipediaExternalRef': 5316476, 'wikidataId': 'Q2587068', 'confidence_score': 0.4691, 'offsetStart': 2476, 'offsetEnd': 2490, 'rawName': 'sensitive data'}>>, <Record cve1=<Node element_id='4:de342d72-e7ff-4d5b-9a28-99eaa381965b:1' labels=frozenset({'CVE'}) properties={'assigner': 'cna@sap.com', 'id': 'CVE-2023-0013'}> cve2=<Node element_id='4:de342d72-e7ff-4d5b-9a28-99eaa381965b:3' labels=frozenset({'CVE'}) properties={'assigner': 'cna@sap.com', 'id': 'CVE-2023-0015'}> Entities=<Node element_id='4:de342d72-e7ff-4d5b-9a28-99eaa381965b:216' labels=frozenset({'Entities'}) properties={'wikipediaExternalRef': 5316476, 'wikidataId': 'Q2587068', 'confidence_score': 0.4691, 'offsetStart': 2476, 'offsetEnd': 2490, 'rawName': 'sensitive data'}>>, <Record cve1=<Node element_id='4:de342d72-e7ff-4d5b-9a28-99eaa381965b:1' labels=frozenset({'CVE'}) properties={'assigner': 'cna@sap.com', 'id': 'CVE-2023-0013'}> cve2=<Node element_id='4:de342d72-e7ff-4d5b-9a28-99eaa381965b:3' labels=frozenset({'CVE'}) properties={'assigner': 'cna@sap.com', 'id': 'CVE-2023-0015'}> Entities=<Node element_id='4:de342d72-e7ff-4d5b-9a28-99eaa381965b:322' labels=frozenset({'Entities'}) properties={'wikipediaExternalRef': 40684, 'wikidataId': 'Q228502', 'confidence_score': 0.4556, 'offsetStart': 947, 'offsetEnd': 961, 'rawName': 'access control'}>>, <Record cve1=<Node element_id='4:de342d72-e7ff-4d5b-9a28-99eaa381965b:1' labels=frozenset({'CVE'}) properties={'assigner': 'cna@sap.com', 'id': 'CVE-2023-0013'}> cve2=<Node element_id='4:de342d72-e7ff-4d5b-9a28-99eaa381965b:3' labels=frozenset({'CVE'}) properties={'assigner': 'cna@sap.com', 'id': 'CVE-2023-0015'}> Entities=<Node element_id='4:de342d72-e7ff-4d5b-9a28-99eaa381965b:322' labels=frozenset({'Entities'}) properties={'wikipediaExternalRef': 40684, 'wikidataId': 'Q228502', 'confidence_score': 0.4556, 'offsetStart': 947, 'offsetEnd': 961, 'rawName': 'access control'}>>, <Record cve1=<Node element_id='4:de342d72-e7ff-4d5b-9a28-99eaa381965b:3' labels=frozenset({'CVE'}) properties={'assigner': 'cna@sap.com', 'id': 'CVE-2023-0015'}> cve2=<Node element_id='4:de342d72-e7ff-4d5b-9a28-99eaa381965b:6' labels=frozenset({'CVE'}) properties={'assigner': 'cna@sap.com', 'id': 'CVE-2023-0018'}> Entities=<Node element_id='4:de342d72-e7ff-4d5b-9a28-99eaa381965b:262' labels=frozenset({'Entities'}) properties={'wikipediaExternalRef': 526999, 'wikidataId': 'Q506059', 'confidence_score': 0.9162, 'offsetStart': 1041, 'offsetEnd': 1054, 'rawName': 'SQL injection'}>>, <Record cve1=<Node element_id='4:de342d72-e7ff-4d5b-9a28-99eaa381965b:3' labels=frozenset({'CVE'}) properties={'assigner': 'cna@sap.com', 'id': 'CVE-2023-0015'}> cve2=<Node element_id='4:de342d72-e7ff-4d5b-9a28-99eaa381965b:6' labels=frozenset({'CVE'}) properties={'assigner': 'cna@sap.com', 'id': 'CVE-2023-0018'}> Entities=<Node element_id='4:de342d72-e7ff-4d5b-9a28-99eaa381965b:287' labels=frozenset({'Entities'}) properties={'wikipediaExternalRef': 5316476, 'wikidataId': 'Q2587068', 'confidence_score': 0.4076, 'offsetStart': 394, 'offsetEnd': 415, 'rawName': 'sensitive information'}>>, <Record cve1=<Node element_id='4:de342d72-e7ff-4d5b-9a28-99eaa381965b:3' labels=frozenset({'CVE'}) properties={'assigner': 'cna@sap.com', 'id': 'CVE-2023-0015'}> cve2=<Node element_id='4:de342d72-e7ff-4d5b-9a28-99eaa381965b:6' labels=frozenset({'CVE'}) properties={'assigner': 'cna@sap.com', 'id': 'CVE-2023-0018'}> Entities=<Node element_id='4:de342d72-e7ff-4d5b-9a28-99eaa381965b:287' labels=frozenset({'Entities'}) properties={'wikipediaExternalRef': 5316476, 'wikidataId': 'Q2587068', 'confidence_score': 0.4076, 'offsetStart': 394, 'offsetEnd': 415, 'rawName': 'sensitive information'}>>, <Record cve1=<Node element_id='4:de342d72-e7ff-4d5b-9a28-99eaa381965b:3' labels=frozenset({'CVE'}) properties={'assigner': 'cna@sap.com', 'id': 'CVE-2023-0015'}> cve2=<Node element_id='4:de342d72-e7ff-4d5b-9a28-99eaa381965b:6' labels=frozenset({'CVE'}) properties={'assigner': 'cna@sap.com', 'id': 'CVE-2023-0018'}> Entities=<Node element_id='4:de342d72-e7ff-4d5b-9a28-99eaa381965b:287' labels=frozenset({'Entities'}) properties={'wikipediaExternalRef': 5316476, 'wikidataId': 'Q2587068', 'confidence_score': 0.4076, 'offsetStart': 394, 'offsetEnd': 415, 'rawName': 'sensitive information'}>>, <Record cve1=<Node element_id='4:de342d72-e7ff-4d5b-9a28-99eaa381965b:3' labels=frozenset({'CVE'}) properties={'assigner': 'cna@sap.com', 'id': 'CVE-2023-0015'}> cve2=<Node element_id='4:de342d72-e7ff-4d5b-9a28-99eaa381965b:6' labels=frozenset({'CVE'}) properties={'assigner': 'cna@sap.com', 'id': 'CVE-2023-0018'}> Entities=<Node element_id='4:de342d72-e7ff-4d5b-9a28-99eaa381965b:314' labels=frozenset({'Entities'}) properties={'wikipediaExternalRef': 40684, 'wikidataId': 'Q228502', 'confidence_score': 0.6394, 'offsetStart': 0, 'offsetEnd': 14, 'rawName': 'Access control'}>>, <Record cve1=<Node element_id='4:de342d72-e7ff-4d5b-9a28-99eaa381965b:3' labels=frozenset({'CVE'}) properties={'assigner': 'cna@sap.com', 'id': 'CVE-2023-0015'}> cve2=<Node element_id='4:de342d72-e7ff-4d5b-9a28-99eaa381965b:6' labels=frozenset({'CVE'}) properties={'assigner': 'cna@sap.com', 'id': 'CVE-2023-0018'}> Entities=<Node element_id='4:de342d72-e7ff-4d5b-9a28-99eaa381965b:314' labels=frozenset({'Entities'}) properties={'wikipediaExternalRef': 40684, 'wikidataId': 'Q228502', 'confidence_score': 0.6394, 'offsetStart': 0, 'offsetEnd': 14, 'rawName': 'Access control'}>>, <Record cve1=<Node element_id='4:de342d72-e7ff-4d5b-9a28-99eaa381965b:3' labels=frozenset({'CVE'}) properties={'assigner': 'cna@sap.com', 'id': 'CVE-2023-0015'}> cve2=<Node element_id='4:de342d72-e7ff-4d5b-9a28-99eaa381965b:6' labels=frozenset({'CVE'}) properties={'assigner': 'cna@sap.com', 'id': 'CVE-2023-0018'}> Entities=<Node element_id='4:de342d72-e7ff-4d5b-9a28-99eaa381965b:331' labels=frozenset({'Entities'}) properties={'wikipediaExternalRef': 614094, 'wikidataId': 'Q1756025', 'confidence_score': 0.5922, 'offsetStart': 8, 'offsetEnd': 22, 'rawName': 'replay attacks'}>>, <Record cve1=<Node element_id='4:de342d72-e7ff-4d5b-9a28-99eaa381965b:3' labels=frozenset({'CVE'}) properties={'assigner': 'cna@sap.com', 'id': 'CVE-2023-0015'}> cve2=<Node element_id='4:de342d72-e7ff-4d5b-9a28-99eaa381965b:6' labels=frozenset({'CVE'}) properties={'assigner': 'cna@sap.com', 'id': 'CVE-2023-0018'}> Entities=<Node element_id='4:de342d72-e7ff-4d5b-9a28-99eaa381965b:168' labels=frozenset({'Entities'}) properties={'wikipediaExternalRef': 241154, 'wikidataId': 'Q371199', 'confidence_score': 0.8255, 'offsetStart': 3130, 'offsetEnd': 3133, 'rawName': 'XSS'}>>, <Record cve1=<Node element_id='4:de342d72-e7ff-4d5b-9a28-99eaa381965b:3' labels=frozenset({'CVE'}) properties={'assigner': 'cna@sap.com', 'id': 'CVE-2023-0015'}> cve2=<Node element_id='4:de342d72-e7ff-4d5b-9a28-99eaa381965b:6' labels=frozenset({'CVE'}) properties={'assigner': 'cna@sap.com', 'id': 'CVE-2023-0018'}> Entities=<Node element_id='4:de342d72-e7ff-4d5b-9a28-99eaa381965b:195' labels=frozenset({'Entities'}) properties={'wikipediaExternalRef': 241154, 'wikidataId': 'Q371199', 'confidence_score': 0.5158, 'offsetStart': 1120, 'offsetEnd': 1133, 'rawName': 'Reflected XSS'}>>, <Record cve1=<Node element_id='4:de342d72-e7ff-4d5b-9a28-99eaa381965b:3' labels=frozenset({'CVE'}) properties={'assigner': 'cna@sap.com', 'id': 'CVE-2023-0015'}> cve2=<Node element_id='4:de342d72-e7ff-4d5b-9a28-99eaa381965b:6' labels=frozenset({'CVE'}) properties={'assigner': 'cna@sap.com', 'id': 'CVE-2023-0018'}> Entities=<Node element_id='4:de342d72-e7ff-4d5b-9a28-99eaa381965b:208' labels=frozenset({'Entities'}) properties={'wikipediaExternalRef': 241154, 'wikidataId': 'Q371199', 'confidence_score': 0.5158, 'offsetStart': 1769, 'offsetEnd': 1779, 'rawName': 'Stored XSS'}>>, <Record cve1=<Node element_id='4:de342d72-e7ff-4d5b-9a28-99eaa381965b:3' labels=frozenset({'CVE'}) properties={'assigner': 'cna@sap.com', 'id': 'CVE-2023-0015'}> cve2=<Node element_id='4:de342d72-e7ff-4d5b-9a28-99eaa381965b:6' labels=frozenset({'CVE'}) properties={'assigner': 'cna@sap.com', 'id': 'CVE-2023-0018'}> Entities=<Node element_id='4:de342d72-e7ff-4d5b-9a28-99eaa381965b:168' labels=frozenset({'Entities'}) properties={'wikipediaExternalRef': 241154, 'wikidataId': 'Q371199', 'confidence_score': 0.8255, 'offsetStart': 3130, 'offsetEnd': 3133, 'rawName': 'XSS'}>>, <Record cve1=<Node element_id='4:de342d72-e7ff-4d5b-9a28-99eaa381965b:3' labels=frozenset({'CVE'}) properties={'assigner': 'cna@sap.com', 'id': 'CVE-2023-0015'}> cve2=<Node element_id='4:de342d72-e7ff-4d5b-9a28-99eaa381965b:6' labels=frozenset({'CVE'}) properties={'assigner': 'cna@sap.com', 'id': 'CVE-2023-0018'}> Entities=<Node element_id='4:de342d72-e7ff-4d5b-9a28-99eaa381965b:195' labels=frozenset({'Entities'}) properties={'wikipediaExternalRef': 241154, 'wikidataId': 'Q371199', 'confidence_score': 0.5158, 'offsetStart': 1120, 'offsetEnd': 1133, 'rawName': 'Reflected XSS'}>>, <Record cve1=<Node element_id='4:de342d72-e7ff-4d5b-9a28-99eaa381965b:3' labels=frozenset({'CVE'}) properties={'assigner': 'cna@sap.com', 'id': 'CVE-2023-0015'}> cve2=<Node element_id='4:de342d72-e7ff-4d5b-9a28-99eaa381965b:6' labels=frozenset({'CVE'}) properties={'assigner': 'cna@sap.com', 'id': 'CVE-2023-0018'}> Entities=<Node element_id='4:de342d72-e7ff-4d5b-9a28-99eaa381965b:208' labels=frozenset({'Entities'}) properties={'wikipediaExternalRef': 241154, 'wikidataId': 'Q371199', 'confidence_score': 0.5158, 'offsetStart': 1769, 'offsetEnd': 1779, 'rawName': 'Stored XSS'}>>, <Record cve1=<Node element_id='4:de342d72-e7ff-4d5b-9a28-99eaa381965b:3' labels=frozenset({'CVE'}) properties={'assigner': 'cna@sap.com', 'id': 'CVE-2023-0015'}> cve2=<Node element_id='4:de342d72-e7ff-4d5b-9a28-99eaa381965b:6' labels=frozenset({'CVE'}) properties={'assigner': 'cna@sap.com', 'id': 'CVE-2023-0018'}> Entities=<Node element_id='4:de342d72-e7ff-4d5b-9a28-99eaa381965b:168' labels=frozenset({'Entities'}) properties={'wikipediaExternalRef': 241154, 'wikidataId': 'Q371199', 'confidence_score': 0.8255, 'offsetStart': 3130, 'offsetEnd': 3133, 'rawName': 'XSS'}>>, <Record cve1=<Node element_id='4:de342d72-e7ff-4d5b-9a28-99eaa381965b:3' labels=frozenset({'CVE'}) properties={'assigner': 'cna@sap.com', 'id': 'CVE-2023-0015'}> cve2=<Node element_id='4:de342d72-e7ff-4d5b-9a28-99eaa381965b:6' labels=frozenset({'CVE'}) properties={'assigner': 'cna@sap.com', 'id': 'CVE-2023-0018'}> Entities=<Node element_id='4:de342d72-e7ff-4d5b-9a28-99eaa381965b:195' labels=frozenset({'Entities'}) properties={'wikipediaExternalRef': 241154, 'wikidataId': 'Q371199', 'confidence_score': 0.5158, 'offsetStart': 1120, 'offsetEnd': 1133, 'rawName': 'Reflected XSS'}>>, <Record cve1=<Node element_id='4:de342d72-e7ff-4d5b-9a28-99eaa381965b:3' labels=frozenset({'CVE'}) properties={'assigner': 'cna@sap.com', 'id': 'CVE-2023-0015'}> cve2=<Node element_id='4:de342d72-e7ff-4d5b-9a28-99eaa381965b:6' labels=frozenset({'CVE'}) properties={'assigner': 'cna@sap.com', 'id': 'CVE-2023-0018'}> Entities=<Node element_id='4:de342d72-e7ff-4d5b-9a28-99eaa381965b:208' labels=frozenset({'Entities'}) properties={'wikipediaExternalRef': 241154, 'wikidataId': 'Q371199', 'confidence_score': 0.5158, 'offsetStart': 1769, 'offsetEnd': 1779, 'rawName': 'Stored XSS'}>>, <Record cve1=<Node element_id='4:de342d72-e7ff-4d5b-9a28-99eaa381965b:3' labels=frozenset({'CVE'}) properties={'assigner': 'cna@sap.com', 'id': 'CVE-2023-0015'}> cve2=<Node element_id='4:de342d72-e7ff-4d5b-9a28-99eaa381965b:6' labels=frozenset({'CVE'}) properties={'assigner': 'cna@sap.com', 'id': 'CVE-2023-0018'}> Entities=<Node element_id='4:de342d72-e7ff-4d5b-9a28-99eaa381965b:168' labels=frozenset({'Entities'}) properties={'wikipediaExternalRef': 241154, 'wikidataId': 'Q371199', 'confidence_score': 0.8255, 'offsetStart': 3130, 'offsetEnd': 3133, 'rawName': 'XSS'}>>, <Record cve1=<Node element_id='4:de342d72-e7ff-4d5b-9a28-99eaa381965b:3' labels=frozenset({'CVE'}) properties={'assigner': 'cna@sap.com', 'id': 'CVE-2023-0015'}> cve2=<Node element_id='4:de342d72-e7ff-4d5b-9a28-99eaa381965b:6' labels=frozenset({'CVE'}) properties={'assigner': 'cna@sap.com', 'id': 'CVE-2023-0018'}> Entities=<Node element_id='4:de342d72-e7ff-4d5b-9a28-99eaa381965b:195' labels=frozenset({'Entities'}) properties={'wikipediaExternalRef': 241154, 'wikidataId': 'Q371199', 'confidence_score': 0.5158, 'offsetStart': 1120, 'offsetEnd': 1133, 'rawName': 'Reflected XSS'}>>, <Record cve1=<Node element_id='4:de342d72-e7ff-4d5b-9a28-99eaa381965b:3' labels=frozenset({'CVE'}) properties={'assigner': 'cna@sap.com', 'id': 'CVE-2023-0015'}> cve2=<Node element_id='4:de342d72-e7ff-4d5b-9a28-99eaa381965b:6' labels=frozenset({'CVE'}) properties={'assigner': 'cna@sap.com', 'id': 'CVE-2023-0018'}> Entities=<Node element_id='4:de342d72-e7ff-4d5b-9a28-99eaa381965b:208' labels=frozenset({'Entities'}) properties={'wikipediaExternalRef': 241154, 'wikidataId': 'Q371199', 'confidence_score': 0.5158, 'offsetStart': 1769, 'offsetEnd': 1779, 'rawName': 'Stored XSS'}>>, <Record cve1=<Node element_id='4:de342d72-e7ff-4d5b-9a28-99eaa381965b:3' labels=frozenset({'CVE'}) properties={'assigner': 'cna@sap.com', 'id': 'CVE-2023-0015'}> cve2=<Node element_id='4:de342d72-e7ff-4d5b-9a28-99eaa381965b:6' labels=frozenset({'CVE'}) properties={'assigner': 'cna@sap.com', 'id': 'CVE-2023-0018'}> Entities=<Node element_id='4:de342d72-e7ff-4d5b-9a28-99eaa381965b:216' labels=frozenset({'Entities'}) properties={'wikipediaExternalRef': 5316476, 'wikidataId': 'Q2587068', 'confidence_score': 0.4691, 'offsetStart': 2476, 'offsetEnd': 2490, 'rawName': 'sensitive data'}>>, <Record cve1=<Node element_id='4:de342d72-e7ff-4d5b-9a28-99eaa381965b:3' labels=frozenset({'CVE'}) properties={'assigner': 'cna@sap.com', 'id': 'CVE-2023-0015'}> cve2=<Node element_id='4:de342d72-e7ff-4d5b-9a28-99eaa381965b:6' labels=frozenset({'CVE'}) properties={'assigner': 'cna@sap.com', 'id': 'CVE-2023-0018'}> Entities=<Node element_id='4:de342d72-e7ff-4d5b-9a28-99eaa381965b:216' labels=frozenset({'Entities'}) properties={'wikipediaExternalRef': 5316476, 'wikidataId': 'Q2587068', 'confidence_score': 0.4691, 'offsetStart': 2476, 'offsetEnd': 2490, 'rawName': 'sensitive data'}>>, <Record cve1=<Node element_id='4:de342d72-e7ff-4d5b-9a28-99eaa381965b:3' labels=frozenset({'CVE'}) properties={'assigner': 'cna@sap.com', 'id': 'CVE-2023-0015'}> cve2=<Node element_id='4:de342d72-e7ff-4d5b-9a28-99eaa381965b:6' labels=frozenset({'CVE'}) properties={'assigner': 'cna@sap.com', 'id': 'CVE-2023-0018'}> Entities=<Node element_id='4:de342d72-e7ff-4d5b-9a28-99eaa381965b:216' labels=frozenset({'Entities'}) properties={'wikipediaExternalRef': 5316476, 'wikidataId': 'Q2587068', 'confidence_score': 0.4691, 'offsetStart': 2476, 'offsetEnd': 2490, 'rawName': 'sensitive data'}>>, <Record cve1=<Node element_id='4:de342d72-e7ff-4d5b-9a28-99eaa381965b:3' labels=frozenset({'CVE'}) properties={'assigner': 'cna@sap.com', 'id': 'CVE-2023-0015'}> cve2=<Node element_id='4:de342d72-e7ff-4d5b-9a28-99eaa381965b:6' labels=frozenset({'CVE'}) properties={'assigner': 'cna@sap.com', 'id': 'CVE-2023-0018'}> Entities=<Node element_id='4:de342d72-e7ff-4d5b-9a28-99eaa381965b:216' labels=frozenset({'Entities'}) properties={'wikipediaExternalRef': 5316476, 'wikidataId': 'Q2587068', 'confidence_score': 0.4691, 'offsetStart': 2476, 'offsetEnd': 2490, 'rawName': 'sensitive data'}>>, <Record cve1=<Node element_id='4:de342d72-e7ff-4d5b-9a28-99eaa381965b:3' labels=frozenset({'CVE'}) properties={'assigner': 'cna@sap.com', 'id': 'CVE-2023-0015'}> cve2=<Node element_id='4:de342d72-e7ff-4d5b-9a28-99eaa381965b:6' labels=frozenset({'CVE'}) properties={'assigner': 'cna@sap.com', 'id': 'CVE-2023-0018'}> Entities=<Node element_id='4:de342d72-e7ff-4d5b-9a28-99eaa381965b:322' labels=frozenset({'Entities'}) properties={'wikipediaExternalRef': 40684, 'wikidataId': 'Q228502', 'confidence_score': 0.4556, 'offsetStart': 947, 'offsetEnd': 961, 'rawName': 'access control'}>>, <Record cve1=<Node element_id='4:de342d72-e7ff-4d5b-9a28-99eaa381965b:3' labels=frozenset({'CVE'}) properties={'assigner': 'cna@sap.com', 'id': 'CVE-2023-0015'}> cve2=<Node element_id='4:de342d72-e7ff-4d5b-9a28-99eaa381965b:6' labels=frozenset({'CVE'}) properties={'assigner': 'cna@sap.com', 'id': 'CVE-2023-0018'}> Entities=<Node element_id='4:de342d72-e7ff-4d5b-9a28-99eaa381965b:322' labels=frozenset({'Entities'}) properties={'wikipediaExternalRef': 40684, 'wikidataId': 'Q228502', 'confidence_score': 0.4556, 'offsetStart': 947, 'offsetEnd': 961, 'rawName': 'access control'}>>, <Record cve1=<Node element_id='4:de342d72-e7ff-4d5b-9a28-99eaa381965b:6' labels=frozenset({'CVE'}) properties={'assigner': 'cna@sap.com', 'id': 'CVE-2023-0018'}> cve2=<Node element_id='4:de342d72-e7ff-4d5b-9a28-99eaa381965b:9' labels=frozenset({'CVE'}) properties={'assigner': 'security@huntr.dev', 'id': 'CVE-2023-0028'}> Entities=<Node element_id='4:de342d72-e7ff-4d5b-9a28-99eaa381965b:262' labels=frozenset({'Entities'}) properties={'wikipediaExternalRef': 526999, 'wikidataId': 'Q506059', 'confidence_score': 0.9162, 'offsetStart': 1041, 'offsetEnd': 1054, 'rawName': 'SQL injection'}>>, <Record cve1=<Node element_id='4:de342d72-e7ff-4d5b-9a28-99eaa381965b:6' labels=frozenset({'CVE'}) properties={'assigner': 'cna@sap.com', 'id': 'CVE-2023-0018'}> cve2=<Node element_id='4:de342d72-e7ff-4d5b-9a28-99eaa381965b:9' labels=frozenset({'CVE'}) properties={'assigner': 'security@huntr.dev', 'id': 'CVE-2023-0028'}> Entities=<Node element_id='4:de342d72-e7ff-4d5b-9a28-99eaa381965b:287' labels=frozenset({'Entities'}) properties={'wikipediaExternalRef': 5316476, 'wikidataId': 'Q2587068', 'confidence_score': 0.4076, 'offsetStart': 394, 'offsetEnd': 415, 'rawName': 'sensitive information'}>>, <Record cve1=<Node element_id='4:de342d72-e7ff-4d5b-9a28-99eaa381965b:6' labels=frozenset({'CVE'}) properties={'assigner': 'cna@sap.com', 'id': 'CVE-2023-0018'}> cve2=<Node element_id='4:de342d72-e7ff-4d5b-9a28-99eaa381965b:9' labels=frozenset({'CVE'}) properties={'assigner': 'security@huntr.dev', 'id': 'CVE-2023-0028'}> Entities=<Node element_id='4:de342d72-e7ff-4d5b-9a28-99eaa381965b:287' labels=frozenset({'Entities'}) properties={'wikipediaExternalRef': 5316476, 'wikidataId': 'Q2587068', 'confidence_score': 0.4076, 'offsetStart': 394, 'offsetEnd': 415, 'rawName': 'sensitive information'}>>, <Record cve1=<Node element_id='4:de342d72-e7ff-4d5b-9a28-99eaa381965b:6' labels=frozenset({'CVE'}) properties={'assigner': 'cna@sap.com', 'id': 'CVE-2023-0018'}> cve2=<Node element_id='4:de342d72-e7ff-4d5b-9a28-99eaa381965b:9' labels=frozenset({'CVE'}) properties={'assigner': 'security@huntr.dev', 'id': 'CVE-2023-0028'}> Entities=<Node element_id='4:de342d72-e7ff-4d5b-9a28-99eaa381965b:287' labels=frozenset({'Entities'}) properties={'wikipediaExternalRef': 5316476, 'wikidataId': 'Q2587068', 'confidence_score': 0.4076, 'offsetStart': 394, 'offsetEnd': 415, 'rawName': 'sensitive information'}>>, <Record cve1=<Node element_id='4:de342d72-e7ff-4d5b-9a28-99eaa381965b:6' labels=frozenset({'CVE'}) properties={'assigner': 'cna@sap.com', 'id': 'CVE-2023-0018'}> cve2=<Node element_id='4:de342d72-e7ff-4d5b-9a28-99eaa381965b:9' labels=frozenset({'CVE'}) properties={'assigner': 'security@huntr.dev', 'id': 'CVE-2023-0028'}> Entities=<Node element_id='4:de342d72-e7ff-4d5b-9a28-99eaa381965b:314' labels=frozenset({'Entities'}) properties={'wikipediaExternalRef': 40684, 'wikidataId': 'Q228502', 'confidence_score': 0.6394, 'offsetStart': 0, 'offsetEnd': 14, 'rawName': 'Access control'}>>, <Record cve1=<Node element_id='4:de342d72-e7ff-4d5b-9a28-99eaa381965b:6' labels=frozenset({'CVE'}) properties={'assigner': 'cna@sap.com', 'id': 'CVE-2023-0018'}> cve2=<Node element_id='4:de342d72-e7ff-4d5b-9a28-99eaa381965b:9' labels=frozenset({'CVE'}) properties={'assigner': 'security@huntr.dev', 'id': 'CVE-2023-0028'}> Entities=<Node element_id='4:de342d72-e7ff-4d5b-9a28-99eaa381965b:314' labels=frozenset({'Entities'}) properties={'wikipediaExternalRef': 40684, 'wikidataId': 'Q228502', 'confidence_score': 0.6394, 'offsetStart': 0, 'offsetEnd': 14, 'rawName': 'Access control'}>>, <Record cve1=<Node element_id='4:de342d72-e7ff-4d5b-9a28-99eaa381965b:6' labels=frozenset({'CVE'}) properties={'assigner': 'cna@sap.com', 'id': 'CVE-2023-0018'}> cve2=<Node element_id='4:de342d72-e7ff-4d5b-9a28-99eaa381965b:9' labels=frozenset({'CVE'}) properties={'assigner': 'security@huntr.dev', 'id': 'CVE-2023-0028'}> Entities=<Node element_id='4:de342d72-e7ff-4d5b-9a28-99eaa381965b:331' labels=frozenset({'Entities'}) properties={'wikipediaExternalRef': 614094, 'wikidataId': 'Q1756025', 'confidence_score': 0.5922, 'offsetStart': 8, 'offsetEnd': 22, 'rawName': 'replay attacks'}>>, <Record cve1=<Node element_id='4:de342d72-e7ff-4d5b-9a28-99eaa381965b:6' labels=frozenset({'CVE'}) properties={'assigner': 'cna@sap.com', 'id': 'CVE-2023-0018'}> cve2=<Node element_id='4:de342d72-e7ff-4d5b-9a28-99eaa381965b:9' labels=frozenset({'CVE'}) properties={'assigner': 'security@huntr.dev', 'id': 'CVE-2023-0028'}> Entities=<Node element_id='4:de342d72-e7ff-4d5b-9a28-99eaa381965b:168' labels=frozenset({'Entities'}) properties={'wikipediaExternalRef': 241154, 'wikidataId': 'Q371199', 'confidence_score': 0.8255, 'offsetStart': 3130, 'offsetEnd': 3133, 'rawName': 'XSS'}>>, <Record cve1=<Node element_id='4:de342d72-e7ff-4d5b-9a28-99eaa381965b:6' labels=frozenset({'CVE'}) properties={'assigner': 'cna@sap.com', 'id': 'CVE-2023-0018'}> cve2=<Node element_id='4:de342d72-e7ff-4d5b-9a28-99eaa381965b:9' labels=frozenset({'CVE'}) properties={'assigner': 'security@huntr.dev', 'id': 'CVE-2023-0028'}> Entities=<Node element_id='4:de342d72-e7ff-4d5b-9a28-99eaa381965b:195' labels=frozenset({'Entities'}) properties={'wikipediaExternalRef': 241154, 'wikidataId': 'Q371199', 'confidence_score': 0.5158, 'offsetStart': 1120, 'offsetEnd': 1133, 'rawName': 'Reflected XSS'}>>, <Record cve1=<Node element_id='4:de342d72-e7ff-4d5b-9a28-99eaa381965b:6' labels=frozenset({'CVE'}) properties={'assigner': 'cna@sap.com', 'id': 'CVE-2023-0018'}> cve2=<Node element_id='4:de342d72-e7ff-4d5b-9a28-99eaa381965b:9' labels=frozenset({'CVE'}) properties={'assigner': 'security@huntr.dev', 'id': 'CVE-2023-0028'}> Entities=<Node element_id='4:de342d72-e7ff-4d5b-9a28-99eaa381965b:208' labels=frozenset({'Entities'}) properties={'wikipediaExternalRef': 241154, 'wikidataId': 'Q371199', 'confidence_score': 0.5158, 'offsetStart': 1769, 'offsetEnd': 1779, 'rawName': 'Stored XSS'}>>, <Record cve1=<Node element_id='4:de342d72-e7ff-4d5b-9a28-99eaa381965b:6' labels=frozenset({'CVE'}) properties={'assigner': 'cna@sap.com', 'id': 'CVE-2023-0018'}> cve2=<Node element_id='4:de342d72-e7ff-4d5b-9a28-99eaa381965b:9' labels=frozenset({'CVE'}) properties={'assigner': 'security@huntr.dev', 'id': 'CVE-2023-0028'}> Entities=<Node element_id='4:de342d72-e7ff-4d5b-9a28-99eaa381965b:168' labels=frozenset({'Entities'}) properties={'wikipediaExternalRef': 241154, 'wikidataId': 'Q371199', 'confidence_score': 0.8255, 'offsetStart': 3130, 'offsetEnd': 3133, 'rawName': 'XSS'}>>, <Record cve1=<Node element_id='4:de342d72-e7ff-4d5b-9a28-99eaa381965b:6' labels=frozenset({'CVE'}) properties={'assigner': 'cna@sap.com', 'id': 'CVE-2023-0018'}> cve2=<Node element_id='4:de342d72-e7ff-4d5b-9a28-99eaa381965b:9' labels=frozenset({'CVE'}) properties={'assigner': 'security@huntr.dev', 'id': 'CVE-2023-0028'}> Entities=<Node element_id='4:de342d72-e7ff-4d5b-9a28-99eaa381965b:195' labels=frozenset({'Entities'}) properties={'wikipediaExternalRef': 241154, 'wikidataId': 'Q371199', 'confidence_score': 0.5158, 'offsetStart': 1120, 'offsetEnd': 1133, 'rawName': 'Reflected XSS'}>>, <Record cve1=<Node element_id='4:de342d72-e7ff-4d5b-9a28-99eaa381965b:6' labels=frozenset({'CVE'}) properties={'assigner': 'cna@sap.com', 'id': 'CVE-2023-0018'}> cve2=<Node element_id='4:de342d72-e7ff-4d5b-9a28-99eaa381965b:9' labels=frozenset({'CVE'}) properties={'assigner': 'security@huntr.dev', 'id': 'CVE-2023-0028'}> Entities=<Node element_id='4:de342d72-e7ff-4d5b-9a28-99eaa381965b:208' labels=frozenset({'Entities'}) properties={'wikipediaExternalRef': 241154, 'wikidataId': 'Q371199', 'confidence_score': 0.5158, 'offsetStart': 1769, 'offsetEnd': 1779, 'rawName': 'Stored XSS'}>>, <Record cve1=<Node element_id='4:de342d72-e7ff-4d5b-9a28-99eaa381965b:6' labels=frozenset({'CVE'}) properties={'assigner': 'cna@sap.com', 'id': 'CVE-2023-0018'}> cve2=<Node element_id='4:de342d72-e7ff-4d5b-9a28-99eaa381965b:9' labels=frozenset({'CVE'}) properties={'assigner': 'security@huntr.dev', 'id': 'CVE-2023-0028'}> Entities=<Node element_id='4:de342d72-e7ff-4d5b-9a28-99eaa381965b:168' labels=frozenset({'Entities'}) properties={'wikipediaExternalRef': 241154, 'wikidataId': 'Q371199', 'confidence_score': 0.8255, 'offsetStart': 3130, 'offsetEnd': 3133, 'rawName': 'XSS'}>>, <Record cve1=<Node element_id='4:de342d72-e7ff-4d5b-9a28-99eaa381965b:6' labels=frozenset({'CVE'}) properties={'assigner': 'cna@sap.com', 'id': 'CVE-2023-0018'}> cve2=<Node element_id='4:de342d72-e7ff-4d5b-9a28-99eaa381965b:9' labels=frozenset({'CVE'}) properties={'assigner': 'security@huntr.dev', 'id': 'CVE-2023-0028'}> Entities=<Node element_id='4:de342d72-e7ff-4d5b-9a28-99eaa381965b:195' labels=frozenset({'Entities'}) properties={'wikipediaExternalRef': 241154, 'wikidataId': 'Q371199', 'confidence_score': 0.5158, 'offsetStart': 1120, 'offsetEnd': 1133, 'rawName': 'Reflected XSS'}>>, <Record cve1=<Node element_id='4:de342d72-e7ff-4d5b-9a28-99eaa381965b:6' labels=frozenset({'CVE'}) properties={'assigner': 'cna@sap.com', 'id': 'CVE-2023-0018'}> cve2=<Node element_id='4:de342d72-e7ff-4d5b-9a28-99eaa381965b:9' labels=frozenset({'CVE'}) properties={'assigner': 'security@huntr.dev', 'id': 'CVE-2023-0028'}> Entities=<Node element_id='4:de342d72-e7ff-4d5b-9a28-99eaa381965b:208' labels=frozenset({'Entities'}) properties={'wikipediaExternalRef': 241154, 'wikidataId': 'Q371199', 'confidence_score': 0.5158, 'offsetStart': 1769, 'offsetEnd': 1779, 'rawName': 'Stored XSS'}>>, <Record cve1=<Node element_id='4:de342d72-e7ff-4d5b-9a28-99eaa381965b:6' labels=frozenset({'CVE'}) properties={'assigner': 'cna@sap.com', 'id': 'CVE-2023-0018'}> cve2=<Node element_id='4:de342d72-e7ff-4d5b-9a28-99eaa381965b:9' labels=frozenset({'CVE'}) properties={'assigner': 'security@huntr.dev', 'id': 'CVE-2023-0028'}> Entities=<Node element_id='4:de342d72-e7ff-4d5b-9a28-99eaa381965b:168' labels=frozenset({'Entities'}) properties={'wikipediaExternalRef': 241154, 'wikidataId': 'Q371199', 'confidence_score': 0.8255, 'offsetStart': 3130, 'offsetEnd': 3133, 'rawName': 'XSS'}>>, <Record cve1=<Node element_id='4:de342d72-e7ff-4d5b-9a28-99eaa381965b:6' labels=frozenset({'CVE'}) properties={'assigner': 'cna@sap.com', 'id': 'CVE-2023-0018'}> cve2=<Node element_id='4:de342d72-e7ff-4d5b-9a28-99eaa381965b:9' labels=frozenset({'CVE'}) properties={'assigner': 'security@huntr.dev', 'id': 'CVE-2023-0028'}> Entities=<Node element_id='4:de342d72-e7ff-4d5b-9a28-99eaa381965b:195' labels=frozenset({'Entities'}) properties={'wikipediaExternalRef': 241154, 'wikidataId': 'Q371199', 'confidence_score': 0.5158, 'offsetStart': 1120, 'offsetEnd': 1133, 'rawName': 'Reflected XSS'}>>, <Record cve1=<Node element_id='4:de342d72-e7ff-4d5b-9a28-99eaa381965b:6' labels=frozenset({'CVE'}) properties={'assigner': 'cna@sap.com', 'id': 'CVE-2023-0018'}> cve2=<Node element_id='4:de342d72-e7ff-4d5b-9a28-99eaa381965b:9' labels=frozenset({'CVE'}) properties={'assigner': 'security@huntr.dev', 'id': 'CVE-2023-0028'}> Entities=<Node element_id='4:de342d72-e7ff-4d5b-9a28-99eaa381965b:208' labels=frozenset({'Entities'}) properties={'wikipediaExternalRef': 241154, 'wikidataId': 'Q371199', 'confidence_score': 0.5158, 'offsetStart': 1769, 'offsetEnd': 1779, 'rawName': 'Stored XSS'}>>, <Record cve1=<Node element_id='4:de342d72-e7ff-4d5b-9a28-99eaa381965b:6' labels=frozenset({'CVE'}) properties={'assigner': 'cna@sap.com', 'id': 'CVE-2023-0018'}> cve2=<Node element_id='4:de342d72-e7ff-4d5b-9a28-99eaa381965b:9' labels=frozenset({'CVE'}) properties={'assigner': 'security@huntr.dev', 'id': 'CVE-2023-0028'}> Entities=<Node element_id='4:de342d72-e7ff-4d5b-9a28-99eaa381965b:216' labels=frozenset({'Entities'}) properties={'wikipediaExternalRef': 5316476, 'wikidataId': 'Q2587068', 'confidence_score': 0.4691, 'offsetStart': 2476, 'offsetEnd': 2490, 'rawName': 'sensitive data'}>>, <Record cve1=<Node element_id='4:de342d72-e7ff-4d5b-9a28-99eaa381965b:6' labels=frozenset({'CVE'}) properties={'assigner': 'cna@sap.com', 'id': 'CVE-2023-0018'}> cve2=<Node element_id='4:de342d72-e7ff-4d5b-9a28-99eaa381965b:9' labels=frozenset({'CVE'}) properties={'assigner': 'security@huntr.dev', 'id': 'CVE-2023-0028'}> Entities=<Node element_id='4:de342d72-e7ff-4d5b-9a28-99eaa381965b:216' labels=frozenset({'Entities'}) properties={'wikipediaExternalRef': 5316476, 'wikidataId': 'Q2587068', 'confidence_score': 0.4691, 'offsetStart': 2476, 'offsetEnd': 2490, 'rawName': 'sensitive data'}>>, <Record cve1=<Node element_id='4:de342d72-e7ff-4d5b-9a28-99eaa381965b:6' labels=frozenset({'CVE'}) properties={'assigner': 'cna@sap.com', 'id': 'CVE-2023-0018'}> cve2=<Node element_id='4:de342d72-e7ff-4d5b-9a28-99eaa381965b:9' labels=frozenset({'CVE'}) properties={'assigner': 'security@huntr.dev', 'id': 'CVE-2023-0028'}> Entities=<Node element_id='4:de342d72-e7ff-4d5b-9a28-99eaa381965b:216' labels=frozenset({'Entities'}) properties={'wikipediaExternalRef': 5316476, 'wikidataId': 'Q2587068', 'confidence_score': 0.4691, 'offsetStart': 2476, 'offsetEnd': 2490, 'rawName': 'sensitive data'}>>, <Record cve1=<Node element_id='4:de342d72-e7ff-4d5b-9a28-99eaa381965b:6' labels=frozenset({'CVE'}) properties={'assigner': 'cna@sap.com', 'id': 'CVE-2023-0018'}> cve2=<Node element_id='4:de342d72-e7ff-4d5b-9a28-99eaa381965b:9' labels=frozenset({'CVE'}) properties={'assigner': 'security@huntr.dev', 'id': 'CVE-2023-0028'}> Entities=<Node element_id='4:de342d72-e7ff-4d5b-9a28-99eaa381965b:216' labels=frozenset({'Entities'}) properties={'wikipediaExternalRef': 5316476, 'wikidataId': 'Q2587068', 'confidence_score': 0.4691, 'offsetStart': 2476, 'offsetEnd': 2490, 'rawName': 'sensitive data'}>>, <Record cve1=<Node element_id='4:de342d72-e7ff-4d5b-9a28-99eaa381965b:6' labels=frozenset({'CVE'}) properties={'assigner': 'cna@sap.com', 'id': 'CVE-2023-0018'}> cve2=<Node element_id='4:de342d72-e7ff-4d5b-9a28-99eaa381965b:9' labels=frozenset({'CVE'}) properties={'assigner': 'security@huntr.dev', 'id': 'CVE-2023-0028'}> Entities=<Node element_id='4:de342d72-e7ff-4d5b-9a28-99eaa381965b:322' labels=frozenset({'Entities'}) properties={'wikipediaExternalRef': 40684, 'wikidataId': 'Q228502', 'confidence_score': 0.4556, 'offsetStart': 947, 'offsetEnd': 961, 'rawName': 'access control'}>>, <Record cve1=<Node element_id='4:de342d72-e7ff-4d5b-9a28-99eaa381965b:6' labels=frozenset({'CVE'}) properties={'assigner': 'cna@sap.com', 'id': 'CVE-2023-0018'}> cve2=<Node element_id='4:de342d72-e7ff-4d5b-9a28-99eaa381965b:9' labels=frozenset({'CVE'}) properties={'assigner': 'security@huntr.dev', 'id': 'CVE-2023-0028'}> Entities=<Node element_id='4:de342d72-e7ff-4d5b-9a28-99eaa381965b:322' labels=frozenset({'Entities'}) properties={'wikipediaExternalRef': 40684, 'wikidataId': 'Q228502', 'confidence_score': 0.4556, 'offsetStart': 947, 'offsetEnd': 961, 'rawName': 'access control'}>>, <Record cve1=<Node element_id='4:de342d72-e7ff-4d5b-9a28-99eaa381965b:0' labels=frozenset({'CVE'}) properties={'assigner': 'cna@sap.com', 'id': 'CVE-2023-0012'}> cve2=<Node element_id='4:de342d72-e7ff-4d5b-9a28-99eaa381965b:5' labels=frozenset({'CVE'}) properties={'assigner': 'cna@sap.com', 'id': 'CVE-2023-0017'}> Entities=<Node element_id='4:de342d72-e7ff-4d5b-9a28-99eaa381965b:262' labels=frozenset({'Entities'}) properties={'wikipediaExternalRef': 526999, 'wikidataId': 'Q506059', 'confidence_score': 0.9162, 'offsetStart': 1041, 'offsetEnd': 1054, 'rawName': 'SQL injection'}>>, <Record cve1=<Node element_id='4:de342d72-e7ff-4d5b-9a28-99eaa381965b:0' labels=frozenset({'CVE'}) properties={'assigner': 'cna@sap.com', 'id': 'CVE-2023-0012'}> cve2=<Node element_id='4:de342d72-e7ff-4d5b-9a28-99eaa381965b:5' labels=frozenset({'CVE'}) properties={'assigner': 'cna@sap.com', 'id': 'CVE-2023-0017'}> Entities=<Node element_id='4:de342d72-e7ff-4d5b-9a28-99eaa381965b:287' labels=frozenset({'Entities'}) properties={'wikipediaExternalRef': 5316476, 'wikidataId': 'Q2587068', 'confidence_score': 0.4076, 'offsetStart': 394, 'offsetEnd': 415, 'rawName': 'sensitive information'}>>, <Record cve1=<Node element_id='4:de342d72-e7ff-4d5b-9a28-99eaa381965b:0' labels=frozenset({'CVE'}) properties={'assigner': 'cna@sap.com', 'id': 'CVE-2023-0012'}> cve2=<Node element_id='4:de342d72-e7ff-4d5b-9a28-99eaa381965b:5' labels=frozenset({'CVE'}) properties={'assigner': 'cna@sap.com', 'id': 'CVE-2023-0017'}> Entities=<Node element_id='4:de342d72-e7ff-4d5b-9a28-99eaa381965b:287' labels=frozenset({'Entities'}) properties={'wikipediaExternalRef': 5316476, 'wikidataId': 'Q2587068', 'confidence_score': 0.4076, 'offsetStart': 394, 'offsetEnd': 415, 'rawName': 'sensitive information'}>>, <Record cve1=<Node element_id='4:de342d72-e7ff-4d5b-9a28-99eaa381965b:0' labels=frozenset({'CVE'}) properties={'assigner': 'cna@sap.com', 'id': 'CVE-2023-0012'}> cve2=<Node element_id='4:de342d72-e7ff-4d5b-9a28-99eaa381965b:5' labels=frozenset({'CVE'}) properties={'assigner': 'cna@sap.com', 'id': 'CVE-2023-0017'}> Entities=<Node element_id='4:de342d72-e7ff-4d5b-9a28-99eaa381965b:287' labels=frozenset({'Entities'}) properties={'wikipediaExternalRef': 5316476, 'wikidataId': 'Q2587068', 'confidence_score': 0.4076, 'offsetStart': 394, 'offsetEnd': 415, 'rawName': 'sensitive information'}>>, <Record cve1=<Node element_id='4:de342d72-e7ff-4d5b-9a28-99eaa381965b:0' labels=frozenset({'CVE'}) properties={'assigner': 'cna@sap.com', 'id': 'CVE-2023-0012'}> cve2=<Node element_id='4:de342d72-e7ff-4d5b-9a28-99eaa381965b:5' labels=frozenset({'CVE'}) properties={'assigner': 'cna@sap.com', 'id': 'CVE-2023-0017'}> Entities=<Node element_id='4:de342d72-e7ff-4d5b-9a28-99eaa381965b:314' labels=frozenset({'Entities'}) properties={'wikipediaExternalRef': 40684, 'wikidataId': 'Q228502', 'confidence_score': 0.6394, 'offsetStart': 0, 'offsetEnd': 14, 'rawName': 'Access control'}>>, <Record cve1=<Node element_id='4:de342d72-e7ff-4d5b-9a28-99eaa381965b:0' labels=frozenset({'CVE'}) properties={'assigner': 'cna@sap.com', 'id': 'CVE-2023-0012'}> cve2=<Node element_id='4:de342d72-e7ff-4d5b-9a28-99eaa381965b:5' labels=frozenset({'CVE'}) properties={'assigner': 'cna@sap.com', 'id': 'CVE-2023-0017'}> Entities=<Node element_id='4:de342d72-e7ff-4d5b-9a28-99eaa381965b:314' labels=frozenset({'Entities'}) properties={'wikipediaExternalRef': 40684, 'wikidataId': 'Q228502', 'confidence_score': 0.6394, 'offsetStart': 0, 'offsetEnd': 14, 'rawName': 'Access control'}>>, <Record cve1=<Node element_id='4:de342d72-e7ff-4d5b-9a28-99eaa381965b:0' labels=frozenset({'CVE'}) properties={'assigner': 'cna@sap.com', 'id': 'CVE-2023-0012'}> cve2=<Node element_id='4:de342d72-e7ff-4d5b-9a28-99eaa381965b:5' labels=frozenset({'CVE'}) properties={'assigner': 'cna@sap.com', 'id': 'CVE-2023-0017'}> Entities=<Node element_id='4:de342d72-e7ff-4d5b-9a28-99eaa381965b:331' labels=frozenset({'Entities'}) properties={'wikipediaExternalRef': 614094, 'wikidataId': 'Q1756025', 'confidence_score': 0.5922, 'offsetStart': 8, 'offsetEnd': 22, 'rawName': 'replay attacks'}>>, <Record cve1=<Node element_id='4:de342d72-e7ff-4d5b-9a28-99eaa381965b:0' labels=frozenset({'CVE'}) properties={'assigner': 'cna@sap.com', 'id': 'CVE-2023-0012'}> cve2=<Node element_id='4:de342d72-e7ff-4d5b-9a28-99eaa381965b:5' labels=frozenset({'CVE'}) properties={'assigner': 'cna@sap.com', 'id': 'CVE-2023-0017'}> Entities=<Node element_id='4:de342d72-e7ff-4d5b-9a28-99eaa381965b:168' labels=frozenset({'Entities'}) properties={'wikipediaExternalRef': 241154, 'wikidataId': 'Q371199', 'confidence_score': 0.8255, 'offsetStart': 3130, 'offsetEnd': 3133, 'rawName': 'XSS'}>>, <Record cve1=<Node element_id='4:de342d72-e7ff-4d5b-9a28-99eaa381965b:0' labels=frozenset({'CVE'}) properties={'assigner': 'cna@sap.com', 'id': 'CVE-2023-0012'}> cve2=<Node element_id='4:de342d72-e7ff-4d5b-9a28-99eaa381965b:5' labels=frozenset({'CVE'}) properties={'assigner': 'cna@sap.com', 'id': 'CVE-2023-0017'}> Entities=<Node element_id='4:de342d72-e7ff-4d5b-9a28-99eaa381965b:195' labels=frozenset({'Entities'}) properties={'wikipediaExternalRef': 241154, 'wikidataId': 'Q371199', 'confidence_score': 0.5158, 'offsetStart': 1120, 'offsetEnd': 1133, 'rawName': 'Reflected XSS'}>>, <Record cve1=<Node element_id='4:de342d72-e7ff-4d5b-9a28-99eaa381965b:0' labels=frozenset({'CVE'}) properties={'assigner': 'cna@sap.com', 'id': 'CVE-2023-0012'}> cve2=<Node element_id='4:de342d72-e7ff-4d5b-9a28-99eaa381965b:5' labels=frozenset({'CVE'}) properties={'assigner': 'cna@sap.com', 'id': 'CVE-2023-0017'}> Entities=<Node element_id='4:de342d72-e7ff-4d5b-9a28-99eaa381965b:208' labels=frozenset({'Entities'}) properties={'wikipediaExternalRef': 241154, 'wikidataId': 'Q371199', 'confidence_score': 0.5158, 'offsetStart': 1769, 'offsetEnd': 1779, 'rawName': 'Stored XSS'}>>, <Record cve1=<Node element_id='4:de342d72-e7ff-4d5b-9a28-99eaa381965b:0' labels=frozenset({'CVE'}) properties={'assigner': 'cna@sap.com', 'id': 'CVE-2023-0012'}> cve2=<Node element_id='4:de342d72-e7ff-4d5b-9a28-99eaa381965b:5' labels=frozenset({'CVE'}) properties={'assigner': 'cna@sap.com', 'id': 'CVE-2023-0017'}> Entities=<Node element_id='4:de342d72-e7ff-4d5b-9a28-99eaa381965b:168' labels=frozenset({'Entities'}) properties={'wikipediaExternalRef': 241154, 'wikidataId': 'Q371199', 'confidence_score': 0.8255, 'offsetStart': 3130, 'offsetEnd': 3133, 'rawName': 'XSS'}>>, <Record cve1=<Node element_id='4:de342d72-e7ff-4d5b-9a28-99eaa381965b:0' labels=frozenset({'CVE'}) properties={'assigner': 'cna@sap.com', 'id': 'CVE-2023-0012'}> cve2=<Node element_id='4:de342d72-e7ff-4d5b-9a28-99eaa381965b:5' labels=frozenset({'CVE'}) properties={'assigner': 'cna@sap.com', 'id': 'CVE-2023-0017'}> Entities=<Node element_id='4:de342d72-e7ff-4d5b-9a28-99eaa381965b:195' labels=frozenset({'Entities'}) properties={'wikipediaExternalRef': 241154, 'wikidataId': 'Q371199', 'confidence_score': 0.5158, 'offsetStart': 1120, 'offsetEnd': 1133, 'rawName': 'Reflected XSS'}>>, <Record cve1=<Node element_id='4:de342d72-e7ff-4d5b-9a28-99eaa381965b:0' labels=frozenset({'CVE'}) properties={'assigner': 'cna@sap.com', 'id': 'CVE-2023-0012'}> cve2=<Node element_id='4:de342d72-e7ff-4d5b-9a28-99eaa381965b:5' labels=frozenset({'CVE'}) properties={'assigner': 'cna@sap.com', 'id': 'CVE-2023-0017'}> Entities=<Node element_id='4:de342d72-e7ff-4d5b-9a28-99eaa381965b:208' labels=frozenset({'Entities'}) properties={'wikipediaExternalRef': 241154, 'wikidataId': 'Q371199', 'confidence_score': 0.5158, 'offsetStart': 1769, 'offsetEnd': 1779, 'rawName': 'Stored XSS'}>>, <Record cve1=<Node element_id='4:de342d72-e7ff-4d5b-9a28-99eaa381965b:0' labels=frozenset({'CVE'}) properties={'assigner': 'cna@sap.com', 'id': 'CVE-2023-0012'}> cve2=<Node element_id='4:de342d72-e7ff-4d5b-9a28-99eaa381965b:5' labels=frozenset({'CVE'}) properties={'assigner': 'cna@sap.com', 'id': 'CVE-2023-0017'}> Entities=<Node element_id='4:de342d72-e7ff-4d5b-9a28-99eaa381965b:168' labels=frozenset({'Entities'}) properties={'wikipediaExternalRef': 241154, 'wikidataId': 'Q371199', 'confidence_score': 0.8255, 'offsetStart': 3130, 'offsetEnd': 3133, 'rawName': 'XSS'}>>, <Record cve1=<Node element_id='4:de342d72-e7ff-4d5b-9a28-99eaa381965b:0' labels=frozenset({'CVE'}) properties={'assigner': 'cna@sap.com', 'id': 'CVE-2023-0012'}> cve2=<Node element_id='4:de342d72-e7ff-4d5b-9a28-99eaa381965b:5' labels=frozenset({'CVE'}) properties={'assigner': 'cna@sap.com', 'id': 'CVE-2023-0017'}> Entities=<Node element_id='4:de342d72-e7ff-4d5b-9a28-99eaa381965b:195' labels=frozenset({'Entities'}) properties={'wikipediaExternalRef': 241154, 'wikidataId': 'Q371199', 'confidence_score': 0.5158, 'offsetStart': 1120, 'offsetEnd': 1133, 'rawName': 'Reflected XSS'}>>, <Record cve1=<Node element_id='4:de342d72-e7ff-4d5b-9a28-99eaa381965b:0' labels=frozenset({'CVE'}) properties={'assigner': 'cna@sap.com', 'id': 'CVE-2023-0012'}> cve2=<Node element_id='4:de342d72-e7ff-4d5b-9a28-99eaa381965b:5' labels=frozenset({'CVE'}) properties={'assigner': 'cna@sap.com', 'id': 'CVE-2023-0017'}> Entities=<Node element_id='4:de342d72-e7ff-4d5b-9a28-99eaa381965b:208' labels=frozenset({'Entities'}) properties={'wikipediaExternalRef': 241154, 'wikidataId': 'Q371199', 'confidence_score': 0.5158, 'offsetStart': 1769, 'offsetEnd': 1779, 'rawName': 'Stored XSS'}>>, <Record cve1=<Node element_id='4:de342d72-e7ff-4d5b-9a28-99eaa381965b:0' labels=frozenset({'CVE'}) properties={'assigner': 'cna@sap.com', 'id': 'CVE-2023-0012'}> cve2=<Node element_id='4:de342d72-e7ff-4d5b-9a28-99eaa381965b:5' labels=frozenset({'CVE'}) properties={'assigner': 'cna@sap.com', 'id': 'CVE-2023-0017'}> Entities=<Node element_id='4:de342d72-e7ff-4d5b-9a28-99eaa381965b:168' labels=frozenset({'Entities'}) properties={'wikipediaExternalRef': 241154, 'wikidataId': 'Q371199', 'confidence_score': 0.8255, 'offsetStart': 3130, 'offsetEnd': 3133, 'rawName': 'XSS'}>>, <Record cve1=<Node element_id='4:de342d72-e7ff-4d5b-9a28-99eaa381965b:0' labels=frozenset({'CVE'}) properties={'assigner': 'cna@sap.com', 'id': 'CVE-2023-0012'}> cve2=<Node element_id='4:de342d72-e7ff-4d5b-9a28-99eaa381965b:5' labels=frozenset({'CVE'}) properties={'assigner': 'cna@sap.com', 'id': 'CVE-2023-0017'}> Entities=<Node element_id='4:de342d72-e7ff-4d5b-9a28-99eaa381965b:195' labels=frozenset({'Entities'}) properties={'wikipediaExternalRef': 241154, 'wikidataId': 'Q371199', 'confidence_score': 0.5158, 'offsetStart': 1120, 'offsetEnd': 1133, 'rawName': 'Reflected XSS'}>>, <Record cve1=<Node element_id='4:de342d72-e7ff-4d5b-9a28-99eaa381965b:0' labels=frozenset({'CVE'}) properties={'assigner': 'cna@sap.com', 'id': 'CVE-2023-0012'}> cve2=<Node element_id='4:de342d72-e7ff-4d5b-9a28-99eaa381965b:5' labels=frozenset({'CVE'}) properties={'assigner': 'cna@sap.com', 'id': 'CVE-2023-0017'}> Entities=<Node element_id='4:de342d72-e7ff-4d5b-9a28-99eaa381965b:208' labels=frozenset({'Entities'}) properties={'wikipediaExternalRef': 241154, 'wikidataId': 'Q371199', 'confidence_score': 0.5158, 'offsetStart': 1769, 'offsetEnd': 1779, 'rawName': 'Stored XSS'}>>, <Record cve1=<Node element_id='4:de342d72-e7ff-4d5b-9a28-99eaa381965b:0' labels=frozenset({'CVE'}) properties={'assigner': 'cna@sap.com', 'id': 'CVE-2023-0012'}> cve2=<Node element_id='4:de342d72-e7ff-4d5b-9a28-99eaa381965b:5' labels=frozenset({'CVE'}) properties={'assigner': 'cna@sap.com', 'id': 'CVE-2023-0017'}> Entities=<Node element_id='4:de342d72-e7ff-4d5b-9a28-99eaa381965b:216' labels=frozenset({'Entities'}) properties={'wikipediaExternalRef': 5316476, 'wikidataId': 'Q2587068', 'confidence_score': 0.4691, 'offsetStart': 2476, 'offsetEnd': 2490, 'rawName': 'sensitive data'}>>, <Record cve1=<Node element_id='4:de342d72-e7ff-4d5b-9a28-99eaa381965b:0' labels=frozenset({'CVE'}) properties={'assigner': 'cna@sap.com', 'id': 'CVE-2023-0012'}> cve2=<Node element_id='4:de342d72-e7ff-4d5b-9a28-99eaa381965b:5' labels=frozenset({'CVE'}) properties={'assigner': 'cna@sap.com', 'id': 'CVE-2023-0017'}> Entities=<Node element_id='4:de342d72-e7ff-4d5b-9a28-99eaa381965b:216' labels=frozenset({'Entities'}) properties={'wikipediaExternalRef': 5316476, 'wikidataId': 'Q2587068', 'confidence_score': 0.4691, 'offsetStart': 2476, 'offsetEnd': 2490, 'rawName': 'sensitive data'}>>, <Record cve1=<Node element_id='4:de342d72-e7ff-4d5b-9a28-99eaa381965b:0' labels=frozenset({'CVE'}) properties={'assigner': 'cna@sap.com', 'id': 'CVE-2023-0012'}> cve2=<Node element_id='4:de342d72-e7ff-4d5b-9a28-99eaa381965b:5' labels=frozenset({'CVE'}) properties={'assigner': 'cna@sap.com', 'id': 'CVE-2023-0017'}> Entities=<Node element_id='4:de342d72-e7ff-4d5b-9a28-99eaa381965b:216' labels=frozenset({'Entities'}) properties={'wikipediaExternalRef': 5316476, 'wikidataId': 'Q2587068', 'confidence_score': 0.4691, 'offsetStart': 2476, 'offsetEnd': 2490, 'rawName': 'sensitive data'}>>, <Record cve1=<Node element_id='4:de342d72-e7ff-4d5b-9a28-99eaa381965b:0' labels=frozenset({'CVE'}) properties={'assigner': 'cna@sap.com', 'id': 'CVE-2023-0012'}> cve2=<Node element_id='4:de342d72-e7ff-4d5b-9a28-99eaa381965b:5' labels=frozenset({'CVE'}) properties={'assigner': 'cna@sap.com', 'id': 'CVE-2023-0017'}> Entities=<Node element_id='4:de342d72-e7ff-4d5b-9a28-99eaa381965b:216' labels=frozenset({'Entities'}) properties={'wikipediaExternalRef': 5316476, 'wikidataId': 'Q2587068', 'confidence_score': 0.4691, 'offsetStart': 2476, 'offsetEnd': 2490, 'rawName': 'sensitive data'}>>, <Record cve1=<Node element_id='4:de342d72-e7ff-4d5b-9a28-99eaa381965b:0' labels=frozenset({'CVE'}) properties={'assigner': 'cna@sap.com', 'id': 'CVE-2023-0012'}> cve2=<Node element_id='4:de342d72-e7ff-4d5b-9a28-99eaa381965b:5' labels=frozenset({'CVE'}) properties={'assigner': 'cna@sap.com', 'id': 'CVE-2023-0017'}> Entities=<Node element_id='4:de342d72-e7ff-4d5b-9a28-99eaa381965b:322' labels=frozenset({'Entities'}) properties={'wikipediaExternalRef': 40684, 'wikidataId': 'Q228502', 'confidence_score': 0.4556, 'offsetStart': 947, 'offsetEnd': 961, 'rawName': 'access control'}>>, <Record cve1=<Node element_id='4:de342d72-e7ff-4d5b-9a28-99eaa381965b:0' labels=frozenset({'CVE'}) properties={'assigner': 'cna@sap.com', 'id': 'CVE-2023-0012'}> cve2=<Node element_id='4:de342d72-e7ff-4d5b-9a28-99eaa381965b:5' labels=frozenset({'CVE'}) properties={'assigner': 'cna@sap.com', 'id': 'CVE-2023-0017'}> Entities=<Node element_id='4:de342d72-e7ff-4d5b-9a28-99eaa381965b:322' labels=frozenset({'Entities'}) properties={'wikipediaExternalRef': 40684, 'wikidataId': 'Q228502', 'confidence_score': 0.4556, 'offsetStart': 947, 'offsetEnd': 961, 'rawName': 'access control'}>>, <Record cve1=<Node element_id='4:de342d72-e7ff-4d5b-9a28-99eaa381965b:5' labels=frozenset({'CVE'}) properties={'assigner': 'cna@sap.com', 'id': 'CVE-2023-0017'}> cve2=<Node element_id='4:de342d72-e7ff-4d5b-9a28-99eaa381965b:8' labels=frozenset({'CVE'}) properties={'assigner': 'cna@sap.com', 'id': 'CVE-2023-0023'}> Entities=<Node element_id='4:de342d72-e7ff-4d5b-9a28-99eaa381965b:262' labels=frozenset({'Entities'}) properties={'wikipediaExternalRef': 526999, 'wikidataId': 'Q506059', 'confidence_score': 0.9162, 'offsetStart': 1041, 'offsetEnd': 1054, 'rawName': 'SQL injection'}>>, <Record cve1=<Node element_id='4:de342d72-e7ff-4d5b-9a28-99eaa381965b:5' labels=frozenset({'CVE'}) properties={'assigner': 'cna@sap.com', 'id': 'CVE-2023-0017'}> cve2=<Node element_id='4:de342d72-e7ff-4d5b-9a28-99eaa381965b:8' labels=frozenset({'CVE'}) properties={'assigner': 'cna@sap.com', 'id': 'CVE-2023-0023'}> Entities=<Node element_id='4:de342d72-e7ff-4d5b-9a28-99eaa381965b:287' labels=frozenset({'Entities'}) properties={'wikipediaExternalRef': 5316476, 'wikidataId': 'Q2587068', 'confidence_score': 0.4076, 'offsetStart': 394, 'offsetEnd': 415, 'rawName': 'sensitive information'}>>, <Record cve1=<Node element_id='4:de342d72-e7ff-4d5b-9a28-99eaa381965b:5' labels=frozenset({'CVE'}) properties={'assigner': 'cna@sap.com', 'id': 'CVE-2023-0017'}> cve2=<Node element_id='4:de342d72-e7ff-4d5b-9a28-99eaa381965b:8' labels=frozenset({'CVE'}) properties={'assigner': 'cna@sap.com', 'id': 'CVE-2023-0023'}> Entities=<Node element_id='4:de342d72-e7ff-4d5b-9a28-99eaa381965b:287' labels=frozenset({'Entities'}) properties={'wikipediaExternalRef': 5316476, 'wikidataId': 'Q2587068', 'confidence_score': 0.4076, 'offsetStart': 394, 'offsetEnd': 415, 'rawName': 'sensitive information'}>>, <Record cve1=<Node element_id='4:de342d72-e7ff-4d5b-9a28-99eaa381965b:5' labels=frozenset({'CVE'}) properties={'assigner': 'cna@sap.com', 'id': 'CVE-2023-0017'}> cve2=<Node element_id='4:de342d72-e7ff-4d5b-9a28-99eaa381965b:8' labels=frozenset({'CVE'}) properties={'assigner': 'cna@sap.com', 'id': 'CVE-2023-0023'}> Entities=<Node element_id='4:de342d72-e7ff-4d5b-9a28-99eaa381965b:287' labels=frozenset({'Entities'}) properties={'wikipediaExternalRef': 5316476, 'wikidataId': 'Q2587068', 'confidence_score': 0.4076, 'offsetStart': 394, 'offsetEnd': 415, 'rawName': 'sensitive information'}>>, <Record cve1=<Node element_id='4:de342d72-e7ff-4d5b-9a28-99eaa381965b:5' labels=frozenset({'CVE'}) properties={'assigner': 'cna@sap.com', 'id': 'CVE-2023-0017'}> cve2=<Node element_id='4:de342d72-e7ff-4d5b-9a28-99eaa381965b:8' labels=frozenset({'CVE'}) properties={'assigner': 'cna@sap.com', 'id': 'CVE-2023-0023'}> Entities=<Node element_id='4:de342d72-e7ff-4d5b-9a28-99eaa381965b:314' labels=frozenset({'Entities'}) properties={'wikipediaExternalRef': 40684, 'wikidataId': 'Q228502', 'confidence_score': 0.6394, 'offsetStart': 0, 'offsetEnd': 14, 'rawName': 'Access control'}>>, <Record cve1=<Node element_id='4:de342d72-e7ff-4d5b-9a28-99eaa381965b:5' labels=frozenset({'CVE'}) properties={'assigner': 'cna@sap.com', 'id': 'CVE-2023-0017'}> cve2=<Node element_id='4:de342d72-e7ff-4d5b-9a28-99eaa381965b:8' labels=frozenset({'CVE'}) properties={'assigner': 'cna@sap.com', 'id': 'CVE-2023-0023'}> Entities=<Node element_id='4:de342d72-e7ff-4d5b-9a28-99eaa381965b:314' labels=frozenset({'Entities'}) properties={'wikipediaExternalRef': 40684, 'wikidataId': 'Q228502', 'confidence_score': 0.6394, 'offsetStart': 0, 'offsetEnd': 14, 'rawName': 'Access control'}>>, <Record cve1=<Node element_id='4:de342d72-e7ff-4d5b-9a28-99eaa381965b:5' labels=frozenset({'CVE'}) properties={'assigner': 'cna@sap.com', 'id': 'CVE-2023-0017'}> cve2=<Node element_id='4:de342d72-e7ff-4d5b-9a28-99eaa381965b:8' labels=frozenset({'CVE'}) properties={'assigner': 'cna@sap.com', 'id': 'CVE-2023-0023'}> Entities=<Node element_id='4:de342d72-e7ff-4d5b-9a28-99eaa381965b:331' labels=frozenset({'Entities'}) properties={'wikipediaExternalRef': 614094, 'wikidataId': 'Q1756025', 'confidence_score': 0.5922, 'offsetStart': 8, 'offsetEnd': 22, 'rawName': 'replay attacks'}>>, <Record cve1=<Node element_id='4:de342d72-e7ff-4d5b-9a28-99eaa381965b:5' labels=frozenset({'CVE'}) properties={'assigner': 'cna@sap.com', 'id': 'CVE-2023-0017'}> cve2=<Node element_id='4:de342d72-e7ff-4d5b-9a28-99eaa381965b:8' labels=frozenset({'CVE'}) properties={'assigner': 'cna@sap.com', 'id': 'CVE-2023-0023'}> Entities=<Node element_id='4:de342d72-e7ff-4d5b-9a28-99eaa381965b:168' labels=frozenset({'Entities'}) properties={'wikipediaExternalRef': 241154, 'wikidataId': 'Q371199', 'confidence_score': 0.8255, 'offsetStart': 3130, 'offsetEnd': 3133, 'rawName': 'XSS'}>>, <Record cve1=<Node element_id='4:de342d72-e7ff-4d5b-9a28-99eaa381965b:5' labels=frozenset({'CVE'}) properties={'assigner': 'cna@sap.com', 'id': 'CVE-2023-0017'}> cve2=<Node element_id='4:de342d72-e7ff-4d5b-9a28-99eaa381965b:8' labels=frozenset({'CVE'}) properties={'assigner': 'cna@sap.com', 'id': 'CVE-2023-0023'}> Entities=<Node element_id='4:de342d72-e7ff-4d5b-9a28-99eaa381965b:195' labels=frozenset({'Entities'}) properties={'wikipediaExternalRef': 241154, 'wikidataId': 'Q371199', 'confidence_score': 0.5158, 'offsetStart': 1120, 'offsetEnd': 1133, 'rawName': 'Reflected XSS'}>>, <Record cve1=<Node element_id='4:de342d72-e7ff-4d5b-9a28-99eaa381965b:5' labels=frozenset({'CVE'}) properties={'assigner': 'cna@sap.com', 'id': 'CVE-2023-0017'}> cve2=<Node element_id='4:de342d72-e7ff-4d5b-9a28-99eaa381965b:8' labels=frozenset({'CVE'}) properties={'assigner': 'cna@sap.com', 'id': 'CVE-2023-0023'}> Entities=<Node element_id='4:de342d72-e7ff-4d5b-9a28-99eaa381965b:208' labels=frozenset({'Entities'}) properties={'wikipediaExternalRef': 241154, 'wikidataId': 'Q371199', 'confidence_score': 0.5158, 'offsetStart': 1769, 'offsetEnd': 1779, 'rawName': 'Stored XSS'}>>, <Record cve1=<Node element_id='4:de342d72-e7ff-4d5b-9a28-99eaa381965b:5' labels=frozenset({'CVE'}) properties={'assigner': 'cna@sap.com', 'id': 'CVE-2023-0017'}> cve2=<Node element_id='4:de342d72-e7ff-4d5b-9a28-99eaa381965b:8' labels=frozenset({'CVE'}) properties={'assigner': 'cna@sap.com', 'id': 'CVE-2023-0023'}> Entities=<Node element_id='4:de342d72-e7ff-4d5b-9a28-99eaa381965b:168' labels=frozenset({'Entities'}) properties={'wikipediaExternalRef': 241154, 'wikidataId': 'Q371199', 'confidence_score': 0.8255, 'offsetStart': 3130, 'offsetEnd': 3133, 'rawName': 'XSS'}>>, <Record cve1=<Node element_id='4:de342d72-e7ff-4d5b-9a28-99eaa381965b:5' labels=frozenset({'CVE'}) properties={'assigner': 'cna@sap.com', 'id': 'CVE-2023-0017'}> cve2=<Node element_id='4:de342d72-e7ff-4d5b-9a28-99eaa381965b:8' labels=frozenset({'CVE'}) properties={'assigner': 'cna@sap.com', 'id': 'CVE-2023-0023'}> Entities=<Node element_id='4:de342d72-e7ff-4d5b-9a28-99eaa381965b:195' labels=frozenset({'Entities'}) properties={'wikipediaExternalRef': 241154, 'wikidataId': 'Q371199', 'confidence_score': 0.5158, 'offsetStart': 1120, 'offsetEnd': 1133, 'rawName': 'Reflected XSS'}>>, <Record cve1=<Node element_id='4:de342d72-e7ff-4d5b-9a28-99eaa381965b:5' labels=frozenset({'CVE'}) properties={'assigner': 'cna@sap.com', 'id': 'CVE-2023-0017'}> cve2=<Node element_id='4:de342d72-e7ff-4d5b-9a28-99eaa381965b:8' labels=frozenset({'CVE'}) properties={'assigner': 'cna@sap.com', 'id': 'CVE-2023-0023'}> Entities=<Node element_id='4:de342d72-e7ff-4d5b-9a28-99eaa381965b:208' labels=frozenset({'Entities'}) properties={'wikipediaExternalRef': 241154, 'wikidataId': 'Q371199', 'confidence_score': 0.5158, 'offsetStart': 1769, 'offsetEnd': 1779, 'rawName': 'Stored XSS'}>>, <Record cve1=<Node element_id='4:de342d72-e7ff-4d5b-9a28-99eaa381965b:5' labels=frozenset({'CVE'}) properties={'assigner': 'cna@sap.com', 'id': 'CVE-2023-0017'}> cve2=<Node element_id='4:de342d72-e7ff-4d5b-9a28-99eaa381965b:8' labels=frozenset({'CVE'}) properties={'assigner': 'cna@sap.com', 'id': 'CVE-2023-0023'}> Entities=<Node element_id='4:de342d72-e7ff-4d5b-9a28-99eaa381965b:168' labels=frozenset({'Entities'}) properties={'wikipediaExternalRef': 241154, 'wikidataId': 'Q371199', 'confidence_score': 0.8255, 'offsetStart': 3130, 'offsetEnd': 3133, 'rawName': 'XSS'}>>, <Record cve1=<Node element_id='4:de342d72-e7ff-4d5b-9a28-99eaa381965b:5' labels=frozenset({'CVE'}) properties={'assigner': 'cna@sap.com', 'id': 'CVE-2023-0017'}> cve2=<Node element_id='4:de342d72-e7ff-4d5b-9a28-99eaa381965b:8' labels=frozenset({'CVE'}) properties={'assigner': 'cna@sap.com', 'id': 'CVE-2023-0023'}> Entities=<Node element_id='4:de342d72-e7ff-4d5b-9a28-99eaa381965b:195' labels=frozenset({'Entities'}) properties={'wikipediaExternalRef': 241154, 'wikidataId': 'Q371199', 'confidence_score': 0.5158, 'offsetStart': 1120, 'offsetEnd': 1133, 'rawName': 'Reflected XSS'}>>, <Record cve1=<Node element_id='4:de342d72-e7ff-4d5b-9a28-99eaa381965b:5' labels=frozenset({'CVE'}) properties={'assigner': 'cna@sap.com', 'id': 'CVE-2023-0017'}> cve2=<Node element_id='4:de342d72-e7ff-4d5b-9a28-99eaa381965b:8' labels=frozenset({'CVE'}) properties={'assigner': 'cna@sap.com', 'id': 'CVE-2023-0023'}> Entities=<Node element_id='4:de342d72-e7ff-4d5b-9a28-99eaa381965b:208' labels=frozenset({'Entities'}) properties={'wikipediaExternalRef': 241154, 'wikidataId': 'Q371199', 'confidence_score': 0.5158, 'offsetStart': 1769, 'offsetEnd': 1779, 'rawName': 'Stored XSS'}>>, <Record cve1=<Node element_id='4:de342d72-e7ff-4d5b-9a28-99eaa381965b:5' labels=frozenset({'CVE'}) properties={'assigner': 'cna@sap.com', 'id': 'CVE-2023-0017'}> cve2=<Node element_id='4:de342d72-e7ff-4d5b-9a28-99eaa381965b:8' labels=frozenset({'CVE'}) properties={'assigner': 'cna@sap.com', 'id': 'CVE-2023-0023'}> Entities=<Node element_id='4:de342d72-e7ff-4d5b-9a28-99eaa381965b:168' labels=frozenset({'Entities'}) properties={'wikipediaExternalRef': 241154, 'wikidataId': 'Q371199', 'confidence_score': 0.8255, 'offsetStart': 3130, 'offsetEnd': 3133, 'rawName': 'XSS'}>>, <Record cve1=<Node element_id='4:de342d72-e7ff-4d5b-9a28-99eaa381965b:5' labels=frozenset({'CVE'}) properties={'assigner': 'cna@sap.com', 'id': 'CVE-2023-0017'}> cve2=<Node element_id='4:de342d72-e7ff-4d5b-9a28-99eaa381965b:8' labels=frozenset({'CVE'}) properties={'assigner': 'cna@sap.com', 'id': 'CVE-2023-0023'}> Entities=<Node element_id='4:de342d72-e7ff-4d5b-9a28-99eaa381965b:195' labels=frozenset({'Entities'}) properties={'wikipediaExternalRef': 241154, 'wikidataId': 'Q371199', 'confidence_score': 0.5158, 'offsetStart': 1120, 'offsetEnd': 1133, 'rawName': 'Reflected XSS'}>>, <Record cve1=<Node element_id='4:de342d72-e7ff-4d5b-9a28-99eaa381965b:5' labels=frozenset({'CVE'}) properties={'assigner': 'cna@sap.com', 'id': 'CVE-2023-0017'}> cve2=<Node element_id='4:de342d72-e7ff-4d5b-9a28-99eaa381965b:8' labels=frozenset({'CVE'}) properties={'assigner': 'cna@sap.com', 'id': 'CVE-2023-0023'}> Entities=<Node element_id='4:de342d72-e7ff-4d5b-9a28-99eaa381965b:208' labels=frozenset({'Entities'}) properties={'wikipediaExternalRef': 241154, 'wikidataId': 'Q371199', 'confidence_score': 0.5158, 'offsetStart': 1769, 'offsetEnd': 1779, 'rawName': 'Stored XSS'}>>, <Record cve1=<Node element_id='4:de342d72-e7ff-4d5b-9a28-99eaa381965b:5' labels=frozenset({'CVE'}) properties={'assigner': 'cna@sap.com', 'id': 'CVE-2023-0017'}> cve2=<Node element_id='4:de342d72-e7ff-4d5b-9a28-99eaa381965b:8' labels=frozenset({'CVE'}) properties={'assigner': 'cna@sap.com', 'id': 'CVE-2023-0023'}> Entities=<Node element_id='4:de342d72-e7ff-4d5b-9a28-99eaa381965b:216' labels=frozenset({'Entities'}) properties={'wikipediaExternalRef': 5316476, 'wikidataId': 'Q2587068', 'confidence_score': 0.4691, 'offsetStart': 2476, 'offsetEnd': 2490, 'rawName': 'sensitive data'}>>, <Record cve1=<Node element_id='4:de342d72-e7ff-4d5b-9a28-99eaa381965b:5' labels=frozenset({'CVE'}) properties={'assigner': 'cna@sap.com', 'id': 'CVE-2023-0017'}> cve2=<Node element_id='4:de342d72-e7ff-4d5b-9a28-99eaa381965b:8' labels=frozenset({'CVE'}) properties={'assigner': 'cna@sap.com', 'id': 'CVE-2023-0023'}> Entities=<Node element_id='4:de342d72-e7ff-4d5b-9a28-99eaa381965b:216' labels=frozenset({'Entities'}) properties={'wikipediaExternalRef': 5316476, 'wikidataId': 'Q2587068', 'confidence_score': 0.4691, 'offsetStart': 2476, 'offsetEnd': 2490, 'rawName': 'sensitive data'}>>, <Record cve1=<Node element_id='4:de342d72-e7ff-4d5b-9a28-99eaa381965b:5' labels=frozenset({'CVE'}) properties={'assigner': 'cna@sap.com', 'id': 'CVE-2023-0017'}> cve2=<Node element_id='4:de342d72-e7ff-4d5b-9a28-99eaa381965b:8' labels=frozenset({'CVE'}) properties={'assigner': 'cna@sap.com', 'id': 'CVE-2023-0023'}> Entities=<Node element_id='4:de342d72-e7ff-4d5b-9a28-99eaa381965b:216' labels=frozenset({'Entities'}) properties={'wikipediaExternalRef': 5316476, 'wikidataId': 'Q2587068', 'confidence_score': 0.4691, 'offsetStart': 2476, 'offsetEnd': 2490, 'rawName': 'sensitive data'}>>, <Record cve1=<Node element_id='4:de342d72-e7ff-4d5b-9a28-99eaa381965b:5' labels=frozenset({'CVE'}) properties={'assigner': 'cna@sap.com', 'id': 'CVE-2023-0017'}> cve2=<Node element_id='4:de342d72-e7ff-4d5b-9a28-99eaa381965b:8' labels=frozenset({'CVE'}) properties={'assigner': 'cna@sap.com', 'id': 'CVE-2023-0023'}> Entities=<Node element_id='4:de342d72-e7ff-4d5b-9a28-99eaa381965b:216' labels=frozenset({'Entities'}) properties={'wikipediaExternalRef': 5316476, 'wikidataId': 'Q2587068', 'confidence_score': 0.4691, 'offsetStart': 2476, 'offsetEnd': 2490, 'rawName': 'sensitive data'}>>, <Record cve1=<Node element_id='4:de342d72-e7ff-4d5b-9a28-99eaa381965b:5' labels=frozenset({'CVE'}) properties={'assigner': 'cna@sap.com', 'id': 'CVE-2023-0017'}> cve2=<Node element_id='4:de342d72-e7ff-4d5b-9a28-99eaa381965b:8' labels=frozenset({'CVE'}) properties={'assigner': 'cna@sap.com', 'id': 'CVE-2023-0023'}> Entities=<Node element_id='4:de342d72-e7ff-4d5b-9a28-99eaa381965b:322' labels=frozenset({'Entities'}) properties={'wikipediaExternalRef': 40684, 'wikidataId': 'Q228502', 'confidence_score': 0.4556, 'offsetStart': 947, 'offsetEnd': 961, 'rawName': 'access control'}>>, <Record cve1=<Node element_id='4:de342d72-e7ff-4d5b-9a28-99eaa381965b:5' labels=frozenset({'CVE'}) properties={'assigner': 'cna@sap.com', 'id': 'CVE-2023-0017'}> cve2=<Node element_id='4:de342d72-e7ff-4d5b-9a28-99eaa381965b:8' labels=frozenset({'CVE'}) properties={'assigner': 'cna@sap.com', 'id': 'CVE-2023-0023'}> Entities=<Node element_id='4:de342d72-e7ff-4d5b-9a28-99eaa381965b:322' labels=frozenset({'Entities'}) properties={'wikipediaExternalRef': 40684, 'wikidataId': 'Q228502', 'confidence_score': 0.4556, 'offsetStart': 947, 'offsetEnd': 961, 'rawName': 'access control'}>>, <Record cve1=<Node element_id='4:de342d72-e7ff-4d5b-9a28-99eaa381965b:4' labels=frozenset({'CVE'}) properties={'assigner': 'cna@sap.com', 'id': 'CVE-2023-0016'}> cve2=<Node element_id='4:de342d72-e7ff-4d5b-9a28-99eaa381965b:7' labels=frozenset({'CVE'}) properties={'assigner': 'cna@sap.com', 'id': 'CVE-2023-0022'}> Entities=<Node element_id='4:de342d72-e7ff-4d5b-9a28-99eaa381965b:262' labels=frozenset({'Entities'}) properties={'wikipediaExternalRef': 526999, 'wikidataId': 'Q506059', 'confidence_score': 0.9162, 'offsetStart': 1041, 'offsetEnd': 1054, 'rawName': 'SQL injection'}>>, <Record cve1=<Node element_id='4:de342d72-e7ff-4d5b-9a28-99eaa381965b:4' labels=frozenset({'CVE'}) properties={'assigner': 'cna@sap.com', 'id': 'CVE-2023-0016'}> cve2=<Node element_id='4:de342d72-e7ff-4d5b-9a28-99eaa381965b:7' labels=frozenset({'CVE'}) properties={'assigner': 'cna@sap.com', 'id': 'CVE-2023-0022'}> Entities=<Node element_id='4:de342d72-e7ff-4d5b-9a28-99eaa381965b:287' labels=frozenset({'Entities'}) properties={'wikipediaExternalRef': 5316476, 'wikidataId': 'Q2587068', 'confidence_score': 0.4076, 'offsetStart': 394, 'offsetEnd': 415, 'rawName': 'sensitive information'}>>, <Record cve1=<Node element_id='4:de342d72-e7ff-4d5b-9a28-99eaa381965b:4' labels=frozenset({'CVE'}) properties={'assigner': 'cna@sap.com', 'id': 'CVE-2023-0016'}> cve2=<Node element_id='4:de342d72-e7ff-4d5b-9a28-99eaa381965b:7' labels=frozenset({'CVE'}) properties={'assigner': 'cna@sap.com', 'id': 'CVE-2023-0022'}> Entities=<Node element_id='4:de342d72-e7ff-4d5b-9a28-99eaa381965b:287' labels=frozenset({'Entities'}) properties={'wikipediaExternalRef': 5316476, 'wikidataId': 'Q2587068', 'confidence_score': 0.4076, 'offsetStart': 394, 'offsetEnd': 415, 'rawName': 'sensitive information'}>>, <Record cve1=<Node element_id='4:de342d72-e7ff-4d5b-9a28-99eaa381965b:4' labels=frozenset({'CVE'}) properties={'assigner': 'cna@sap.com', 'id': 'CVE-2023-0016'}> cve2=<Node element_id='4:de342d72-e7ff-4d5b-9a28-99eaa381965b:7' labels=frozenset({'CVE'}) properties={'assigner': 'cna@sap.com', 'id': 'CVE-2023-0022'}> Entities=<Node element_id='4:de342d72-e7ff-4d5b-9a28-99eaa381965b:287' labels=frozenset({'Entities'}) properties={'wikipediaExternalRef': 5316476, 'wikidataId': 'Q2587068', 'confidence_score': 0.4076, 'offsetStart': 394, 'offsetEnd': 415, 'rawName': 'sensitive information'}>>, <Record cve1=<Node element_id='4:de342d72-e7ff-4d5b-9a28-99eaa381965b:4' labels=frozenset({'CVE'}) properties={'assigner': 'cna@sap.com', 'id': 'CVE-2023-0016'}> cve2=<Node element_id='4:de342d72-e7ff-4d5b-9a28-99eaa381965b:7' labels=frozenset({'CVE'}) properties={'assigner': 'cna@sap.com', 'id': 'CVE-2023-0022'}> Entities=<Node element_id='4:de342d72-e7ff-4d5b-9a28-99eaa381965b:314' labels=frozenset({'Entities'}) properties={'wikipediaExternalRef': 40684, 'wikidataId': 'Q228502', 'confidence_score': 0.6394, 'offsetStart': 0, 'offsetEnd': 14, 'rawName': 'Access control'}>>, <Record cve1=<Node element_id='4:de342d72-e7ff-4d5b-9a28-99eaa381965b:4' labels=frozenset({'CVE'}) properties={'assigner': 'cna@sap.com', 'id': 'CVE-2023-0016'}> cve2=<Node element_id='4:de342d72-e7ff-4d5b-9a28-99eaa381965b:7' labels=frozenset({'CVE'}) properties={'assigner': 'cna@sap.com', 'id': 'CVE-2023-0022'}> Entities=<Node element_id='4:de342d72-e7ff-4d5b-9a28-99eaa381965b:314' labels=frozenset({'Entities'}) properties={'wikipediaExternalRef': 40684, 'wikidataId': 'Q228502', 'confidence_score': 0.6394, 'offsetStart': 0, 'offsetEnd': 14, 'rawName': 'Access control'}>>, <Record cve1=<Node element_id='4:de342d72-e7ff-4d5b-9a28-99eaa381965b:4' labels=frozenset({'CVE'}) properties={'assigner': 'cna@sap.com', 'id': 'CVE-2023-0016'}> cve2=<Node element_id='4:de342d72-e7ff-4d5b-9a28-99eaa381965b:7' labels=frozenset({'CVE'}) properties={'assigner': 'cna@sap.com', 'id': 'CVE-2023-0022'}> Entities=<Node element_id='4:de342d72-e7ff-4d5b-9a28-99eaa381965b:331' labels=frozenset({'Entities'}) properties={'wikipediaExternalRef': 614094, 'wikidataId': 'Q1756025', 'confidence_score': 0.5922, 'offsetStart': 8, 'offsetEnd': 22, 'rawName': 'replay attacks'}>>, <Record cve1=<Node element_id='4:de342d72-e7ff-4d5b-9a28-99eaa381965b:4' labels=frozenset({'CVE'}) properties={'assigner': 'cna@sap.com', 'id': 'CVE-2023-0016'}> cve2=<Node element_id='4:de342d72-e7ff-4d5b-9a28-99eaa381965b:7' labels=frozenset({'CVE'}) properties={'assigner': 'cna@sap.com', 'id': 'CVE-2023-0022'}> Entities=<Node element_id='4:de342d72-e7ff-4d5b-9a28-99eaa381965b:168' labels=frozenset({'Entities'}) properties={'wikipediaExternalRef': 241154, 'wikidataId': 'Q371199', 'confidence_score': 0.8255, 'offsetStart': 3130, 'offsetEnd': 3133, 'rawName': 'XSS'}>>, <Record cve1=<Node element_id='4:de342d72-e7ff-4d5b-9a28-99eaa381965b:4' labels=frozenset({'CVE'}) properties={'assigner': 'cna@sap.com', 'id': 'CVE-2023-0016'}> cve2=<Node element_id='4:de342d72-e7ff-4d5b-9a28-99eaa381965b:7' labels=frozenset({'CVE'}) properties={'assigner': 'cna@sap.com', 'id': 'CVE-2023-0022'}> Entities=<Node element_id='4:de342d72-e7ff-4d5b-9a28-99eaa381965b:195' labels=frozenset({'Entities'}) properties={'wikipediaExternalRef': 241154, 'wikidataId': 'Q371199', 'confidence_score': 0.5158, 'offsetStart': 1120, 'offsetEnd': 1133, 'rawName': 'Reflected XSS'}>>, <Record cve1=<Node element_id='4:de342d72-e7ff-4d5b-9a28-99eaa381965b:4' labels=frozenset({'CVE'}) properties={'assigner': 'cna@sap.com', 'id': 'CVE-2023-0016'}> cve2=<Node element_id='4:de342d72-e7ff-4d5b-9a28-99eaa381965b:7' labels=frozenset({'CVE'}) properties={'assigner': 'cna@sap.com', 'id': 'CVE-2023-0022'}> Entities=<Node element_id='4:de342d72-e7ff-4d5b-9a28-99eaa381965b:208' labels=frozenset({'Entities'}) properties={'wikipediaExternalRef': 241154, 'wikidataId': 'Q371199', 'confidence_score': 0.5158, 'offsetStart': 1769, 'offsetEnd': 1779, 'rawName': 'Stored XSS'}>>, <Record cve1=<Node element_id='4:de342d72-e7ff-4d5b-9a28-99eaa381965b:4' labels=frozenset({'CVE'}) properties={'assigner': 'cna@sap.com', 'id': 'CVE-2023-0016'}> cve2=<Node element_id='4:de342d72-e7ff-4d5b-9a28-99eaa381965b:7' labels=frozenset({'CVE'}) properties={'assigner': 'cna@sap.com', 'id': 'CVE-2023-0022'}> Entities=<Node element_id='4:de342d72-e7ff-4d5b-9a28-99eaa381965b:168' labels=frozenset({'Entities'}) properties={'wikipediaExternalRef': 241154, 'wikidataId': 'Q371199', 'confidence_score': 0.8255, 'offsetStart': 3130, 'offsetEnd': 3133, 'rawName': 'XSS'}>>, <Record cve1=<Node element_id='4:de342d72-e7ff-4d5b-9a28-99eaa381965b:4' labels=frozenset({'CVE'}) properties={'assigner': 'cna@sap.com', 'id': 'CVE-2023-0016'}> cve2=<Node element_id='4:de342d72-e7ff-4d5b-9a28-99eaa381965b:7' labels=frozenset({'CVE'}) properties={'assigner': 'cna@sap.com', 'id': 'CVE-2023-0022'}> Entities=<Node element_id='4:de342d72-e7ff-4d5b-9a28-99eaa381965b:195' labels=frozenset({'Entities'}) properties={'wikipediaExternalRef': 241154, 'wikidataId': 'Q371199', 'confidence_score': 0.5158, 'offsetStart': 1120, 'offsetEnd': 1133, 'rawName': 'Reflected XSS'}>>, <Record cve1=<Node element_id='4:de342d72-e7ff-4d5b-9a28-99eaa381965b:4' labels=frozenset({'CVE'}) properties={'assigner': 'cna@sap.com', 'id': 'CVE-2023-0016'}> cve2=<Node element_id='4:de342d72-e7ff-4d5b-9a28-99eaa381965b:7' labels=frozenset({'CVE'}) properties={'assigner': 'cna@sap.com', 'id': 'CVE-2023-0022'}> Entities=<Node element_id='4:de342d72-e7ff-4d5b-9a28-99eaa381965b:208' labels=frozenset({'Entities'}) properties={'wikipediaExternalRef': 241154, 'wikidataId': 'Q371199', 'confidence_score': 0.5158, 'offsetStart': 1769, 'offsetEnd': 1779, 'rawName': 'Stored XSS'}>>, <Record cve1=<Node element_id='4:de342d72-e7ff-4d5b-9a28-99eaa381965b:4' labels=frozenset({'CVE'}) properties={'assigner': 'cna@sap.com', 'id': 'CVE-2023-0016'}> cve2=<Node element_id='4:de342d72-e7ff-4d5b-9a28-99eaa381965b:7' labels=frozenset({'CVE'}) properties={'assigner': 'cna@sap.com', 'id': 'CVE-2023-0022'}> Entities=<Node element_id='4:de342d72-e7ff-4d5b-9a28-99eaa381965b:168' labels=frozenset({'Entities'}) properties={'wikipediaExternalRef': 241154, 'wikidataId': 'Q371199', 'confidence_score': 0.8255, 'offsetStart': 3130, 'offsetEnd': 3133, 'rawName': 'XSS'}>>, <Record cve1=<Node element_id='4:de342d72-e7ff-4d5b-9a28-99eaa381965b:4' labels=frozenset({'CVE'}) properties={'assigner': 'cna@sap.com', 'id': 'CVE-2023-0016'}> cve2=<Node element_id='4:de342d72-e7ff-4d5b-9a28-99eaa381965b:7' labels=frozenset({'CVE'}) properties={'assigner': 'cna@sap.com', 'id': 'CVE-2023-0022'}> Entities=<Node element_id='4:de342d72-e7ff-4d5b-9a28-99eaa381965b:195' labels=frozenset({'Entities'}) properties={'wikipediaExternalRef': 241154, 'wikidataId': 'Q371199', 'confidence_score': 0.5158, 'offsetStart': 1120, 'offsetEnd': 1133, 'rawName': 'Reflected XSS'}>>, <Record cve1=<Node element_id='4:de342d72-e7ff-4d5b-9a28-99eaa381965b:4' labels=frozenset({'CVE'}) properties={'assigner': 'cna@sap.com', 'id': 'CVE-2023-0016'}> cve2=<Node element_id='4:de342d72-e7ff-4d5b-9a28-99eaa381965b:7' labels=frozenset({'CVE'}) properties={'assigner': 'cna@sap.com', 'id': 'CVE-2023-0022'}> Entities=<Node element_id='4:de342d72-e7ff-4d5b-9a28-99eaa381965b:208' labels=frozenset({'Entities'}) properties={'wikipediaExternalRef': 241154, 'wikidataId': 'Q371199', 'confidence_score': 0.5158, 'offsetStart': 1769, 'offsetEnd': 1779, 'rawName': 'Stored XSS'}>>, <Record cve1=<Node element_id='4:de342d72-e7ff-4d5b-9a28-99eaa381965b:4' labels=frozenset({'CVE'}) properties={'assigner': 'cna@sap.com', 'id': 'CVE-2023-0016'}> cve2=<Node element_id='4:de342d72-e7ff-4d5b-9a28-99eaa381965b:7' labels=frozenset({'CVE'}) properties={'assigner': 'cna@sap.com', 'id': 'CVE-2023-0022'}> Entities=<Node element_id='4:de342d72-e7ff-4d5b-9a28-99eaa381965b:168' labels=frozenset({'Entities'}) properties={'wikipediaExternalRef': 241154, 'wikidataId': 'Q371199', 'confidence_score': 0.8255, 'offsetStart': 3130, 'offsetEnd': 3133, 'rawName': 'XSS'}>>, <Record cve1=<Node element_id='4:de342d72-e7ff-4d5b-9a28-99eaa381965b:4' labels=frozenset({'CVE'}) properties={'assigner': 'cna@sap.com', 'id': 'CVE-2023-0016'}> cve2=<Node element_id='4:de342d72-e7ff-4d5b-9a28-99eaa381965b:7' labels=frozenset({'CVE'}) properties={'assigner': 'cna@sap.com', 'id': 'CVE-2023-0022'}> Entities=<Node element_id='4:de342d72-e7ff-4d5b-9a28-99eaa381965b:195' labels=frozenset({'Entities'}) properties={'wikipediaExternalRef': 241154, 'wikidataId': 'Q371199', 'confidence_score': 0.5158, 'offsetStart': 1120, 'offsetEnd': 1133, 'rawName': 'Reflected XSS'}>>, <Record cve1=<Node element_id='4:de342d72-e7ff-4d5b-9a28-99eaa381965b:4' labels=frozenset({'CVE'}) properties={'assigner': 'cna@sap.com', 'id': 'CVE-2023-0016'}> cve2=<Node element_id='4:de342d72-e7ff-4d5b-9a28-99eaa381965b:7' labels=frozenset({'CVE'}) properties={'assigner': 'cna@sap.com', 'id': 'CVE-2023-0022'}> Entities=<Node element_id='4:de342d72-e7ff-4d5b-9a28-99eaa381965b:208' labels=frozenset({'Entities'}) properties={'wikipediaExternalRef': 241154, 'wikidataId': 'Q371199', 'confidence_score': 0.5158, 'offsetStart': 1769, 'offsetEnd': 1779, 'rawName': 'Stored XSS'}>>, <Record cve1=<Node element_id='4:de342d72-e7ff-4d5b-9a28-99eaa381965b:4' labels=frozenset({'CVE'}) properties={'assigner': 'cna@sap.com', 'id': 'CVE-2023-0016'}> cve2=<Node element_id='4:de342d72-e7ff-4d5b-9a28-99eaa381965b:7' labels=frozenset({'CVE'}) properties={'assigner': 'cna@sap.com', 'id': 'CVE-2023-0022'}> Entities=<Node element_id='4:de342d72-e7ff-4d5b-9a28-99eaa381965b:216' labels=frozenset({'Entities'}) properties={'wikipediaExternalRef': 5316476, 'wikidataId': 'Q2587068', 'confidence_score': 0.4691, 'offsetStart': 2476, 'offsetEnd': 2490, 'rawName': 'sensitive data'}>>, <Record cve1=<Node element_id='4:de342d72-e7ff-4d5b-9a28-99eaa381965b:4' labels=frozenset({'CVE'}) properties={'assigner': 'cna@sap.com', 'id': 'CVE-2023-0016'}> cve2=<Node element_id='4:de342d72-e7ff-4d5b-9a28-99eaa381965b:7' labels=frozenset({'CVE'}) properties={'assigner': 'cna@sap.com', 'id': 'CVE-2023-0022'}> Entities=<Node element_id='4:de342d72-e7ff-4d5b-9a28-99eaa381965b:216' labels=frozenset({'Entities'}) properties={'wikipediaExternalRef': 5316476, 'wikidataId': 'Q2587068', 'confidence_score': 0.4691, 'offsetStart': 2476, 'offsetEnd': 2490, 'rawName': 'sensitive data'}>>, <Record cve1=<Node element_id='4:de342d72-e7ff-4d5b-9a28-99eaa381965b:4' labels=frozenset({'CVE'}) properties={'assigner': 'cna@sap.com', 'id': 'CVE-2023-0016'}> cve2=<Node element_id='4:de342d72-e7ff-4d5b-9a28-99eaa381965b:7' labels=frozenset({'CVE'}) properties={'assigner': 'cna@sap.com', 'id': 'CVE-2023-0022'}> Entities=<Node element_id='4:de342d72-e7ff-4d5b-9a28-99eaa381965b:216' labels=frozenset({'Entities'}) properties={'wikipediaExternalRef': 5316476, 'wikidataId': 'Q2587068', 'confidence_score': 0.4691, 'offsetStart': 2476, 'offsetEnd': 2490, 'rawName': 'sensitive data'}>>, <Record cve1=<Node element_id='4:de342d72-e7ff-4d5b-9a28-99eaa381965b:4' labels=frozenset({'CVE'}) properties={'assigner': 'cna@sap.com', 'id': 'CVE-2023-0016'}> cve2=<Node element_id='4:de342d72-e7ff-4d5b-9a28-99eaa381965b:7' labels=frozenset({'CVE'}) properties={'assigner': 'cna@sap.com', 'id': 'CVE-2023-0022'}> Entities=<Node element_id='4:de342d72-e7ff-4d5b-9a28-99eaa381965b:216' labels=frozenset({'Entities'}) properties={'wikipediaExternalRef': 5316476, 'wikidataId': 'Q2587068', 'confidence_score': 0.4691, 'offsetStart': 2476, 'offsetEnd': 2490, 'rawName': 'sensitive data'}>>, <Record cve1=<Node element_id='4:de342d72-e7ff-4d5b-9a28-99eaa381965b:4' labels=frozenset({'CVE'}) properties={'assigner': 'cna@sap.com', 'id': 'CVE-2023-0016'}> cve2=<Node element_id='4:de342d72-e7ff-4d5b-9a28-99eaa381965b:7' labels=frozenset({'CVE'}) properties={'assigner': 'cna@sap.com', 'id': 'CVE-2023-0022'}> Entities=<Node element_id='4:de342d72-e7ff-4d5b-9a28-99eaa381965b:322' labels=frozenset({'Entities'}) properties={'wikipediaExternalRef': 40684, 'wikidataId': 'Q228502', 'confidence_score': 0.4556, 'offsetStart': 947, 'offsetEnd': 961, 'rawName': 'access control'}>>, <Record cve1=<Node element_id='4:de342d72-e7ff-4d5b-9a28-99eaa381965b:4' labels=frozenset({'CVE'}) properties={'assigner': 'cna@sap.com', 'id': 'CVE-2023-0016'}> cve2=<Node element_id='4:de342d72-e7ff-4d5b-9a28-99eaa381965b:7' labels=frozenset({'CVE'}) properties={'assigner': 'cna@sap.com', 'id': 'CVE-2023-0022'}> Entities=<Node element_id='4:de342d72-e7ff-4d5b-9a28-99eaa381965b:322' labels=frozenset({'Entities'}) properties={'wikipediaExternalRef': 40684, 'wikidataId': 'Q228502', 'confidence_score': 0.4556, 'offsetStart': 947, 'offsetEnd': 961, 'rawName': 'access control'}>>]\n"
          ]
        }
      ]
    }
  ],
  "metadata": {
    "colab": {
      "provenance": []
    },
    "kernelspec": {
      "display_name": "Python 3",
      "name": "python3"
    },
    "language_info": {
      "name": "python"
    }
  },
  "nbformat": 4,
  "nbformat_minor": 0
}