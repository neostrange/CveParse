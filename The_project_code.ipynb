{
  "cells": [
    {
      "cell_type": "code",
      "execution_count": 339,
      "metadata": {
        "colab": {
          "base_uri": "https://localhost:8080/"
        },
        "id": "DfyJddh_FzaA",
        "outputId": "22a8d811-7f67-46b7-a881-1690c652f1f8"
      },
      "outputs": [
        {
          "output_type": "stream",
          "name": "stdout",
          "text": [
            "Looking in indexes: https://pypi.org/simple, https://us-python.pkg.dev/colab-wheels/public/simple/\n",
            "Requirement already satisfied: neo4j in /usr/local/lib/python3.10/dist-packages (5.8.0)\n",
            "Requirement already satisfied: pytz in /usr/local/lib/python3.10/dist-packages (from neo4j) (2022.7.1)\n"
          ]
        }
      ],
      "source": [
        "!pip install neo4j    "
      ]
    },
    {
      "cell_type": "code",
      "execution_count": 340,
      "metadata": {
        "id": "Ymat9Q2JHDXa"
      },
      "outputs": [],
      "source": [
        "from neo4j import GraphDatabase "
      ]
    },
    {
      "cell_type": "code",
      "execution_count": 341,
      "metadata": {
        "id": "oBAO4ErVCsZb"
      },
      "outputs": [],
      "source": [
        "uri = \"neo4j+s://70bc3204.databases.neo4j.io\"\n",
        "pwd = \"7de6kd6oEFEU8wwTlLbOI3F9cP6NSg2Ibxsy4zOcwZE\"\n",
        "driver = GraphDatabase.driver(uri, auth=(\"neo4j\", pwd))    "
      ]
    },
    {
      "cell_type": "code",
      "execution_count": 342,
      "metadata": {
        "id": "ZqinzjrOHKQI"
      },
      "outputs": [],
      "source": [
        "class Neo4jConnection:\n",
        "    \n",
        "    def __init__(self, uri, user, pwd):\n",
        "        \n",
        "        self.__uri = uri\n",
        "        self.__user = user\n",
        "        self.__pwd = pwd\n",
        "        self.__driver = None\n",
        "        \n",
        "        try:\n",
        "            self.__driver = GraphDatabase.driver(self.__uri, auth=(self.__user, self.__pwd))\n",
        "        except Exception as e:\n",
        "            print(\"Failed to create the driver:\", e)\n",
        "        \n",
        "    def close(self):\n",
        "        \n",
        "        if self.__driver is not None:\n",
        "            self.__driver.close()\n",
        "        \n",
        "    def query(self, query, parameters=None, db=None):\n",
        "        \n",
        "        assert self.__driver is not None, \"Driver not initialized!\"\n",
        "        session = None\n",
        "        response = None\n",
        "        \n",
        "        try: \n",
        "            session = self.__driver.session(database=db) if db is not None else self.__driver.session() \n",
        "            response = list(session.run(query, parameters))\n",
        "        except Exception as e:\n",
        "            print(\"Query failed:\", e)\n",
        "        finally: \n",
        "            if session is not None:\n",
        "                session.close()\n",
        "        return response"
      ]
    },
    {
      "cell_type": "code",
      "execution_count": 343,
      "metadata": {
        "id": "-caKdnERHQPG"
      },
      "outputs": [],
      "source": [
        "uri = \"neo4j+s://70bc3204.databases.neo4j.io\"\n",
        "pwd = \"7de6kd6oEFEU8wwTlLbOI3F9cP6NSg2Ibxsy4zOcwZE\"\n",
        "user = 'neo4j'\n",
        "conn = Neo4jConnection(uri, user, pwd)"
      ]
    },
    {
      "cell_type": "markdown",
      "metadata": {
        "id": "U1oIyYMuv4Tf"
      },
      "source": [
        "## **CONSTRAINTS**"
      ]
    },
    {
      "cell_type": "code",
      "execution_count": 344,
      "metadata": {
        "colab": {
          "base_uri": "https://localhost:8080/"
        },
        "id": "NgWPBVqr0ekm",
        "outputId": "b89321dd-d08f-49c2-94c5-d27b0dca33d1"
      },
      "outputs": [
        {
          "output_type": "stream",
          "name": "stdout",
          "text": [
            "[]\n"
          ]
        }
      ],
      "source": [
        "explore_reviews_csv_query = \"\"\"\n",
        "CREATE CONSTRAINT CVE IF NOT EXISTS FOR (cve:CVE) REQUIRE cve.id IS UNIQUE\n",
        "\"\"\"\n",
        "result = conn.query(explore_reviews_csv_query)\n",
        "print(result)"
      ]
    },
    {
      "cell_type": "code",
      "execution_count": 345,
      "metadata": {
        "colab": {
          "base_uri": "https://localhost:8080/"
        },
        "id": "u8uSRMnp1slw",
        "outputId": "218a5383-0928-4982-ccf1-9179aa3b00a6"
      },
      "outputs": [
        {
          "output_type": "stream",
          "name": "stdout",
          "text": [
            "[]\n"
          ]
        }
      ],
      "source": [
        "explore_reviews_csv_query = \"\"\"\n",
        "CREATE CONSTRAINT references IF NOT EXISTS FOR (ref:Reference) REQUIRE ref.url IS UNIQUE\n",
        "\"\"\"\n",
        "result = conn.query(explore_reviews_csv_query)\n",
        "print(result)"
      ]
    },
    {
      "cell_type": "code",
      "execution_count": 346,
      "metadata": {
        "colab": {
          "base_uri": "https://localhost:8080/"
        },
        "id": "co9S8kWs2r0L",
        "outputId": "43568e91-a0e2-4188-a7b3-9a3768307b79"
      },
      "outputs": [
        {
          "output_type": "stream",
          "name": "stdout",
          "text": [
            "[]\n"
          ]
        }
      ],
      "source": [
        "explore_reviews_csv_query = \"\"\"\n",
        "CREATE CONSTRAINT descriptions IF NOT EXISTS FOR (desc:Description) REQUIRE desc.id IS UNIQUE\n",
        "\"\"\"\n",
        "result = conn.query(explore_reviews_csv_query)\n",
        "print(result)"
      ]
    },
    {
      "cell_type": "code",
      "execution_count": 347,
      "metadata": {
        "colab": {
          "base_uri": "https://localhost:8080/"
        },
        "id": "02HjfwuQ2s94",
        "outputId": "2fc7a706-10cc-4e73-f36e-6aa3f6f633c1"
      },
      "outputs": [
        {
          "output_type": "stream",
          "name": "stdout",
          "text": [
            "[]\n"
          ]
        }
      ],
      "source": [
        "explore_reviews_csv_query = \"\"\"\n",
        "CREATE CONSTRAINT tags IF NOT EXISTS FOR (t:Tag) REQUIRE t.tag IS UNIQUE\n",
        "\"\"\"\n",
        "result = conn.query(explore_reviews_csv_query)\n",
        "print(result)"
      ]
    },
    {
      "cell_type": "code",
      "execution_count": 348,
      "metadata": {
        "colab": {
          "base_uri": "https://localhost:8080/"
        },
        "id": "v4yQyZmi2vZn",
        "outputId": "e222120a-9a6f-4d8c-e185-f624f67a6cb8"
      },
      "outputs": [
        {
          "output_type": "stream",
          "name": "stdout",
          "text": [
            "[]\n"
          ]
        }
      ],
      "source": [
        "explore_reviews_csv_query = \"\"\"\n",
        "CREATE CONSTRAINT CONFIG IF NOT EXISTS FOR (config:CONFIG) REQUIRE config.id IS UNIQUE\n",
        "\"\"\"\n",
        "result = conn.query(explore_reviews_csv_query)\n",
        "print(result)"
      ]
    },
    {
      "cell_type": "code",
      "execution_count": 349,
      "metadata": {
        "colab": {
          "base_uri": "https://localhost:8080/"
        },
        "id": "xZPKcwce2wgM",
        "outputId": "7cb99aa1-d9ff-46ae-c15c-15ee989ff1ab"
      },
      "outputs": [
        {
          "output_type": "stream",
          "name": "stdout",
          "text": [
            "[]\n"
          ]
        }
      ],
      "source": [
        "explore_reviews_csv_query = \"\"\"\n",
        "CREATE CONSTRAINT CPE IF NOT EXISTS FOR (cpe:CPE) REQUIRE cpe.cpe23Uri IS UNIQUE\n",
        "\"\"\"\n",
        "result = conn.query(explore_reviews_csv_query)\n",
        "print(result)"
      ]
    },
    {
      "cell_type": "code",
      "execution_count": 350,
      "metadata": {
        "colab": {
          "base_uri": "https://localhost:8080/"
        },
        "id": "GFhXM1juEt47",
        "outputId": "104e3728-5ac6-45c7-eb07-f4e2adbe9f05"
      },
      "outputs": [
        {
          "output_type": "stream",
          "name": "stdout",
          "text": [
            "[]\n"
          ]
        }
      ],
      "source": [
        "explore_reviews_csv_query = \"\"\"\n",
        "CREATE CONSTRAINT CWE IF NOT EXISTS FOR (cwe:CWE) REQUIRE cwe.CWE IS UNIQUE\n",
        "\"\"\"\n",
        "result = conn.query(explore_reviews_csv_query)\n",
        "print(result)"
      ]
    },
    {
      "cell_type": "code",
      "execution_count": 351,
      "metadata": {
        "colab": {
          "base_uri": "https://localhost:8080/"
        },
        "id": "RdGOPkmpD5N2",
        "outputId": "1d16c421-6623-4cad-831e-2a02e9b1b9a2"
      },
      "outputs": [
        {
          "output_type": "stream",
          "name": "stdout",
          "text": [
            "[]\n"
          ]
        }
      ],
      "source": [
        "explore_reviews_csv_query = \"\"\"\n",
        "CREATE CONSTRAINT CPE IF NOT EXISTS FOR (cpe:CPE) REQUIRE cpe.CPE IS UNIQUE\n",
        "\"\"\"\n",
        "result = conn.query(explore_reviews_csv_query)\n",
        "print(result)"
      ]
    },
    {
      "cell_type": "markdown",
      "metadata": {
        "id": "ALZWnkxavpYn"
      },
      "source": [
        "# **CVE Data**"
      ]
    },
    {
      "cell_type": "markdown",
      "metadata": {
        "id": "dKD1qUv61I07"
      },
      "source": [
        "**Script_1.cypher**"
      ]
    },
    {
      "cell_type": "code",
      "execution_count": 352,
      "metadata": {
        "colab": {
          "base_uri": "https://localhost:8080/"
        },
        "id": "3vr5fo2fq1gi",
        "outputId": "1ccd4786-541c-492f-8649-d6f6787b0259"
      },
      "outputs": [
        {
          "output_type": "stream",
          "name": "stdout",
          "text": [
            "[]\n"
          ]
        }
      ],
      "source": [
        "explore_reviews_csv_query = \"\"\"\n",
        "CALL apoc.load.json(\"https://raw.githubusercontent.com/neostrange/CveParse/main/nvd3.json\", null, {failOnError:false})\n",
        "YIELD value\n",
        "WITH value  AS data\n",
        "\n",
        "UNWIND data.CVE_Items as item\n",
        "MERGE (cve:CVE {id: item.cve.CVE_data_meta.ID})\n",
        "ON CREATE SET cve.assigner = item.cve.CVE_data_meta.ASSIGNER\n",
        "\n",
        "WITH cve, item\n",
        "UNWIND item.cve.problemtype.problemtype_data AS problem\n",
        "UNWIND problem.description AS problem_desc\n",
        "MERGE (cve)-[:PROBLEM_TYPE]->(problemType:ProblemType {lang: problem_desc.lang, value: problem_desc.value})\n",
        "//MERGE (cve)-[:PROBLEM_TYPE]->(problemType)\n",
        "\n",
        "\n",
        "WITH item, cve\n",
        "UNWIND item.cve.references.reference_data AS ref\n",
        "MERGE (reference:Reference {url: ref.url})\n",
        "ON CREATE SET reference.name = ref.name, reference.refsource = ref.refsource\n",
        "\n",
        "WITH item, cve, reference, ref\n",
        "UNWIND ref.tags AS tag\n",
        "MERGE (tagNode:Tag {name: tag, id: tag})\n",
        "MERGE (reference)-[:TAGGED_WITH]->(tagNode)\n",
        "\n",
        "WITH item, cve, reference\n",
        "UNWIND item.cve.description.description_data AS desc\n",
        "MERGE (description:Description {lang: desc.lang, value:desc.value, cveId:cve.id})\n",
        "//ON CREATE SET description.value = desc.value\n",
        "\n",
        "//WITH item, cve, reference, description\n",
        "MERGE (cve)-[:HAS_REFERENCE]->(reference)\n",
        "MERGE (cve)-[:HAS_DESCRIPTION]->(description)\n",
        "\n",
        "\n",
        "\n",
        "WITH item, cve,item.impact.baseMetricV3 as baseMetricV3, item.impact.baseMetricV3.cvssV3 as cvssV3\n",
        "MERGE (cve)-[:HAS_IMPACT]->(impact:IMPACT {exploitabilityScore: baseMetricV3.exploitabilityScore, \n",
        "                                           impactScore: baseMetricV3.impactScore, cveId: cve.id\n",
        "})-[:HAS_CVSSV3]->(cvssv3:CVSSV3 {version: cvssV3.version,\n",
        "                                              vectorString:cvssV3.vectorString,\n",
        "                                              attackVector:cvssV3.attackVector,\n",
        "                                              attackComplexity:cvssV3.attackComplexity,\n",
        "                                              privilegesRequired:cvssV3.privilegesRequired,\n",
        "                                              userInteraction:cvssV3.userInteraction,\n",
        "                                              scope:cvssV3.scope,\n",
        "                                              confidentialityImpact:cvssV3.confidentialityImpact,\n",
        "                                              integrityImpact:cvssV3.integrityImpact,\n",
        "                                              availabilityImpact:cvssV3.availabilityImpact,\n",
        "                                              baseScore:cvssV3.baseScore,\n",
        "                                              baseSeverity:cvssV3.baseSeverity \n",
        "})\n",
        "\"\"\"\n",
        "result = conn.query(explore_reviews_csv_query)\n",
        "print(result)"
      ]
    },
    {
      "cell_type": "markdown",
      "metadata": {
        "id": "2IuoqWLt1YZX"
      },
      "source": [
        "**Script_2.cypher**"
      ]
    },
    {
      "cell_type": "code",
      "execution_count": 353,
      "metadata": {
        "colab": {
          "base_uri": "https://localhost:8080/"
        },
        "id": "Jzi-BrPlq5GQ",
        "outputId": "4f90f967-0199-4626-d68a-37a9164cfcc1"
      },
      "outputs": [
        {
          "output_type": "stream",
          "name": "stdout",
          "text": [
            "[]\n"
          ]
        }
      ],
      "source": [
        "explore_reviews_csv_query = \"\"\"\n",
        "CALL apoc.load.json(\"https://raw.githubusercontent.com/neostrange/CveParse/main/nvd3.json\", null, {failOnError:false})\n",
        "YIELD value\n",
        "WITH value  AS data\n",
        "\n",
        "UNWIND data.CVE_Items as item\n",
        "MERGE (cve:CVE {id: item.cve.CVE_data_meta.ID})\n",
        "ON CREATE SET cve.assigner = item.cve.CVE_data_meta.ASSIGNER\n",
        "\n",
        "WITH item.configurations AS configurations, cve\n",
        "MERGE (config:Config {version: configurations.CVE_data_version, cveId: cve.id})\n",
        "MERGE (cve)-[:HAS_CONFIG]->(config)\n",
        "\n",
        "WITH configurations, config, cve\n",
        "UNWIND configurations.nodes as node\n",
        "  // Each node has operator, cpe_match and  children\n",
        "  //create operator for the node\n",
        "  CREATE (op:Operator {operator: node.operator})\n",
        "  CREATE (config)-[:HAS_OPERATOR]->(op)\n",
        "  //create cpe_match for the node\n",
        "  FOREACH (cpe_match in node.cpe_match |\n",
        "    CREATE (cpeMatch:CpeMatch {vulnerable: cpe_match.vulnerable, uri: cpe_match.cpe23Uri})\n",
        "    CREATE (cpeMatch)-[:HAS_OPERATOR]->(op))\n",
        "\n",
        "    //children in each node -  each children then has operator, cpe_match and children\n",
        "    FOREACH (child IN node.children | \n",
        "      CREATE (op1:Operator {operator: child.operator})\n",
        "      CREATE (op)-[:HAS_OPERATOR]->(op1)\n",
        "      FOREACH (cpe in child.cpe_match |\n",
        "        CREATE (cpeMatch:CpeMatch {vulnerable: cpe.vulnerable, uri: cpe.cpe23Uri})\n",
        "        MERGE (op1)-[:CPE_MATCH]->(cpeMatch))\n",
        ")\n",
        "\"\"\"\n",
        "result = conn.query(explore_reviews_csv_query)\n",
        "print(result)"
      ]
    },
    {
      "cell_type": "markdown",
      "metadata": {
        "id": "v0RLUDVmwCO9"
      },
      "source": [
        "# **CWE Data**"
      ]
    },
    {
      "cell_type": "markdown",
      "metadata": {
        "id": "2jAfmwvqKrZg"
      },
      "source": [
        "**Script_CWE.cypher**"
      ]
    },
    {
      "cell_type": "code",
      "execution_count": 354,
      "metadata": {
        "colab": {
          "base_uri": "https://localhost:8080/"
        },
        "id": "KJ7DH4orakUu",
        "outputId": "9eae835f-9cf9-4099-fab2-549725b3256d"
      },
      "outputs": [
        {
          "output_type": "stream",
          "name": "stdout",
          "text": [
            "[]\n"
          ]
        }
      ],
      "source": [
        "explore_reviews_csv_query = \"\"\"\n",
        "CALL apoc.load.json(\"https://raw.githubusercontent.com/neostrange/CveParse/main/CWE.json\", null, {failOnError:false})\n",
        "YIELD value\n",
        "WITH value  AS data\n",
        "//return data.CWE_Items[0].CWE.cwe_id\n",
        "UNWIND data.CWE_Items as item\n",
        "MERGE (cwe:CWE {cwe_id: item.CWE.cwe_id})\n",
        "SET \n",
        "    cwe.name = item.CWE.name,\n",
        "    cwe.weakness_abstraction = item.CWE.weakness_abstraction, \n",
        "    cwe.status = item.CWE.status, \n",
        "    cwe.description = item.CWE.description,  \n",
        "    cwe.extended_description = item.CWE.extended_description\n",
        "\n",
        "\"\"\"\n",
        "result = conn.query(explore_reviews_csv_query)\n",
        "print(result)"
      ]
    },
    {
      "cell_type": "markdown",
      "source": [
        "Mapping between CVE and CWE"
      ],
      "metadata": {
        "id": "NNjO7vHkvV5k"
      }
    },
    {
      "cell_type": "code",
      "execution_count": 355,
      "metadata": {
        "colab": {
          "base_uri": "https://localhost:8080/"
        },
        "id": "2jSJtZjpd9_F",
        "outputId": "54daa160-399f-425d-f85b-081336d6e046"
      },
      "outputs": [
        {
          "output_type": "stream",
          "name": "stdout",
          "text": [
            "[]\n"
          ]
        }
      ],
      "source": [
        "explore_reviews_csv_query = \"\"\"\n",
        "MERGE (problemType:ProblemType {value:\"CWE-79\"})\n",
        "MERGE (cwe:CWE {cwe_id:\"79\"})\n",
        "MERGE (problemType)-[:MAPPED_WITH]->(cwe)\n",
        "\n",
        "\"\"\"\n",
        "result = conn.query(explore_reviews_csv_query)\n",
        "print(result)"
      ]
    },
    {
      "cell_type": "code",
      "execution_count": 356,
      "metadata": {
        "colab": {
          "base_uri": "https://localhost:8080/"
        },
        "id": "vt24-oAzRPMP",
        "outputId": "314104d5-c77f-47e0-b222-2587596a6165"
      },
      "outputs": [
        {
          "output_type": "stream",
          "name": "stdout",
          "text": [
            "[]\n"
          ]
        }
      ],
      "source": [
        "explore_reviews_csv_query = \"\"\"\n",
        "MERGE (problemType:ProblemType {value:\"CWE-89\"})\n",
        "MERGE (cwe:CWE {cwe_id:\"89\"})\n",
        "MERGE (problemType)-[:MAPPED_WITH]->(cwe)\n",
        "\n",
        "\"\"\"\n",
        "result = conn.query(explore_reviews_csv_query)\n",
        "print(result)"
      ]
    },
    {
      "cell_type": "code",
      "execution_count": 357,
      "metadata": {
        "colab": {
          "base_uri": "https://localhost:8080/"
        },
        "id": "HGhiQXo0RSN-",
        "outputId": "b3c9db90-95bb-46f7-987a-8cddd5e64b57"
      },
      "outputs": [
        {
          "output_type": "stream",
          "name": "stdout",
          "text": [
            "[]\n"
          ]
        }
      ],
      "source": [
        "explore_reviews_csv_query = \"\"\"\n",
        "MERGE (problemType:ProblemType {value:\"CWE-94\"})\n",
        "MERGE (cwe:CWE {cwe_id:\"94\"})\n",
        "MERGE (problemType)-[:MAPPED_WITH]->(cwe)\n",
        "\n",
        "\"\"\"\n",
        "result = conn.query(explore_reviews_csv_query)\n",
        "print(result)"
      ]
    },
    {
      "cell_type": "code",
      "execution_count": 358,
      "metadata": {
        "colab": {
          "base_uri": "https://localhost:8080/"
        },
        "id": "f7vUdkFVRVKM",
        "outputId": "6eb15e6d-f689-420d-8f46-fc690ff87dc9"
      },
      "outputs": [
        {
          "output_type": "stream",
          "name": "stdout",
          "text": [
            "[]\n"
          ]
        }
      ],
      "source": [
        "explore_reviews_csv_query = \"\"\"\n",
        "MERGE (problemType:ProblemType {value:\"CWE-200\"})\n",
        "MERGE (cwe:CWE {cwe_id:\"200\"})\n",
        "MERGE (problemType)-[:MAPPED_WITH]->(cwe)\n",
        "\n",
        "\"\"\"\n",
        "result = conn.query(explore_reviews_csv_query)\n",
        "print(result)"
      ]
    },
    {
      "cell_type": "code",
      "execution_count": 359,
      "metadata": {
        "colab": {
          "base_uri": "https://localhost:8080/"
        },
        "id": "NDxsFoS6RbIi",
        "outputId": "2d706c52-18b0-40db-c409-73739b8f7e6b"
      },
      "outputs": [
        {
          "output_type": "stream",
          "name": "stdout",
          "text": [
            "[]\n"
          ]
        }
      ],
      "source": [
        "explore_reviews_csv_query = \"\"\"\n",
        "MERGE (problemType:ProblemType {value:\"CWE-284\"})\n",
        "MERGE (cwe:CWE {cwe_id:\"284\"})\n",
        "MERGE (problemType)-[:MAPPED_WITH]->(cwe)\n",
        "\n",
        "\"\"\"\n",
        "result = conn.query(explore_reviews_csv_query)\n",
        "print(result)"
      ]
    },
    {
      "cell_type": "code",
      "execution_count": 360,
      "metadata": {
        "colab": {
          "base_uri": "https://localhost:8080/"
        },
        "id": "U7hSomJqRcGs",
        "outputId": "51a5768c-9e16-4157-89c3-e4bf02a4d363"
      },
      "outputs": [
        {
          "output_type": "stream",
          "name": "stdout",
          "text": [
            "[]\n"
          ]
        }
      ],
      "source": [
        "explore_reviews_csv_query = \"\"\"\n",
        "MERGE (problemType:ProblemType {value:\"CWE-294\"})\n",
        "MERGE (cwe:CWE {cwe_id:\"294\"})\n",
        "MERGE (problemType)-[:MAPPED_WITH]->(cwe)\n",
        "\n",
        "\"\"\"\n",
        "result = conn.query(explore_reviews_csv_query)\n",
        "print(result)"
      ]
    },
    {
      "cell_type": "code",
      "execution_count": 361,
      "metadata": {
        "colab": {
          "base_uri": "https://localhost:8080/"
        },
        "id": "ebePW33VmBWf",
        "outputId": "5d8321d6-35ab-45e9-b491-d18c5d28ea63"
      },
      "outputs": [
        {
          "output_type": "stream",
          "name": "stdout",
          "text": [
            "[]\n"
          ]
        }
      ],
      "source": [
        "explore_reviews_csv_query = \"\"\"\n",
        "MERGE (cwe1:CWE { cwe_id:\"79\"})\n",
        "MERGE (cwe2:CWE { cwe_id:\"89\"})\n",
        "MERGE (cwe1)-[:HAS_RELATED_WEAKNESS{ NATURE:\"ChildOf\",CWEـID:\"74\",VIEWـID:\"1003\",ORDINAL:\"Primary\"}]->(cwe2)\n",
        "\n",
        "\"\"\"\n",
        "result = conn.query(explore_reviews_csv_query)\n",
        "print(result)"
      ]
    },
    {
      "cell_type": "code",
      "execution_count": 362,
      "metadata": {
        "colab": {
          "base_uri": "https://localhost:8080/"
        },
        "id": "HizU849aV3uR",
        "outputId": "8f80d018-ec79-4e8a-ce12-619de743a257"
      },
      "outputs": [
        {
          "output_type": "stream",
          "name": "stdout",
          "text": [
            "[]\n"
          ]
        }
      ],
      "source": [
        "explore_reviews_csv_query = \"\"\"\n",
        "MERGE (cwe1:CWE { cwe_id:\"79\"})\n",
        "MERGE (cwe2:CWE { cwe_id:\"94\"})\n",
        "MERGE (cwe1)-[:HAS_RELATED_WEAKNESS{ NATURE:\"ChildOf\",CWEـID:\"74\",VIEWـID:\"1000\",ORDINAL:\"Primary\"}]->(cwe2)\n",
        "\n",
        "\"\"\"\n",
        "result = conn.query(explore_reviews_csv_query)\n",
        "print(result)"
      ]
    },
    {
      "cell_type": "code",
      "execution_count": 363,
      "metadata": {
        "colab": {
          "base_uri": "https://localhost:8080/"
        },
        "id": "BV-1ql7RfODd",
        "outputId": "c41b801b-d5de-4ab3-f836-069b996d1826"
      },
      "outputs": [
        {
          "output_type": "stream",
          "name": "stdout",
          "text": [
            "[]\n"
          ]
        }
      ],
      "source": [
        "explore_reviews_csv_query = \"\"\"\n",
        "MERGE (cwe1:CWE { cwe_id:\"79\"})\n",
        "MERGE (cwe2:CWE { cwe_id:\"94\"})\n",
        "MERGE (cwe1)-[:HAS_RELATED_WEAKNESS{ NATURE:\"ChildOf\",CWEـID:\"74\",VIEWـID:\"1003\",ORDINAL:\"Primary\"}]->(cwe2)\n",
        "\n",
        "\"\"\"\n",
        "result = conn.query(explore_reviews_csv_query)\n",
        "print(result)"
      ]
    },
    {
      "cell_type": "code",
      "execution_count": 364,
      "metadata": {
        "colab": {
          "base_uri": "https://localhost:8080/"
        },
        "id": "uL6jPi4oYKOo",
        "outputId": "789461e7-963f-416d-cd2c-cc94f228e08a"
      },
      "outputs": [
        {
          "output_type": "stream",
          "name": "stdout",
          "text": [
            "[]\n"
          ]
        }
      ],
      "source": [
        "explore_reviews_csv_query = \"\"\"\n",
        "MERGE (cwe1:CWE { cwe_id:\"89\"})\n",
        "MERGE (cwe2:CWE { cwe_id:\"94\"})\n",
        "MERGE (cwe1)-[:HAS_RELATED_WEAKNESS{ NATURE:\"ChildOf\",CWEـID:\"74\",VIEWـID:\"1003\",ORDINAL:\"Primary\"}]->(cwe2)\n",
        "\n",
        "\"\"\"\n",
        "result = conn.query(explore_reviews_csv_query)\n",
        "print(result)"
      ]
    },
    {
      "cell_type": "markdown",
      "source": [
        "Extract the entities from unstructured data (extended_description) in CWE to structured data by using entity-fishing"
      ],
      "metadata": {
        "id": "U9L-NhVIvnEF"
      }
    },
    {
      "cell_type": "code",
      "source": [
        "explore_reviews_csv_query = \"\"\"\n",
        "CALL apoc.load.json(\"https://raw.githubusercontent.com/neostrange/CveParse/main/Extended_Descriptions.json\", null, {failOnError:false})\n",
        "YIELD value\n",
        "WITH value  AS data\n",
        "//return data.Extended_Descriptions[0].CWE.runtime\n",
        "UNWIND data.Extended_Descriptions as extended_descript\n",
        "MERGE (cwedata:Extended_Descriptions {runtime: extended_descript.CWE.runtime})\n",
        "SET \n",
        "    cwedata.software = extended_descript.CWE.software,\n",
        "    cwedata.version = extended_descript.CWE.version,\n",
        "    cwedata.date = extended_descript.CWE.date,\n",
        "    cwedata.nbest = extended_descript.CWE.nbest,\n",
        "    cwedata.text = extended_descript.CWE.text\n",
        "\n",
        "\"\"\"\n",
        "result = conn.query(explore_reviews_csv_query)\n",
        "print(result)"
      ],
      "metadata": {
        "colab": {
          "base_uri": "https://localhost:8080/"
        },
        "id": "XANCNvg7TPMr",
        "outputId": "c23d438d-fa19-4562-d0f9-24bbbd1252be"
      },
      "execution_count": 365,
      "outputs": [
        {
          "output_type": "stream",
          "name": "stdout",
          "text": [
            "[]\n"
          ]
        }
      ]
    },
    {
      "cell_type": "code",
      "source": [
        "explore_reviews_csv_query = \"\"\"\n",
        "MERGE (cwe:CWE {cwe_id:\"79\"})\n",
        "MERGE (cwedata:Extended_Descriptions {runtime:2992})\n",
        "MERGE (cwe)-[:MAPPED_WITH]->(cwedata)\n",
        "MERGE (cwedata)-[:HAS_GLOBAL_CATEGORY{weight:0.04878159541353045,source:\"wikipedia-en\",category:\"Hacking (computer security)\",page_id:11647669}]->(cwe)\n",
        "MERGE (cwedata)-[:HAS_GLOBAL_CATEGORY{weight:0.026132997553802943,source:\"wikipedia-en\",category:\"Web security exploits\",page_id:5131853}]->(cwe)\n",
        "MERGE (cwedata)-[:HAS_GLOBAL_CATEGORY{weight:0.001742199837897568,source:\"wikipedia-en\",category:\"Unicode\",page_id:720904}]->(cwe)\n",
        "\n",
        "\"\"\"\n",
        "result = conn.query(explore_reviews_csv_query)\n",
        "print(result)"
      ],
      "metadata": {
        "colab": {
          "base_uri": "https://localhost:8080/"
        },
        "id": "ncalbUWFXjI7",
        "outputId": "f07165b7-13b1-468d-8395-2da703edcacd"
      },
      "execution_count": 366,
      "outputs": [
        {
          "output_type": "stream",
          "name": "stdout",
          "text": [
            "[]\n"
          ]
        }
      ]
    },
    {
      "cell_type": "code",
      "source": [
        "explore_reviews_csv_query = \"\"\"\n",
        "CALL apoc.load.json(\"https://raw.githubusercontent.com/neostrange/CveParse/main/Extended_Descriptions.json\", null, {failOnError:false})\n",
        "YIELD value\n",
        "WITH value  AS data\n",
        "WITH data\n",
        "UNWIND data.Extended_Descriptions[0].CWE.entities as Entities\n",
        "MERGE (entities:Entities{rawName:Entities.`rawName`})\n",
        "  SET \n",
        "   entities.offsetStart = Entities.offsetStart,\n",
        "   entities.offsetEnd = Entities.offsetEnd,\n",
        "   entities.confidence_score = Entities.confidence_score,\n",
        "   entities.wikipediaExternalRef = Entities.wikipediaExternalRef\n",
        "\n",
        "\"\"\"\n",
        "result = conn.query(explore_reviews_csv_query)\n",
        "print(result)"
      ],
      "metadata": {
        "id": "dRIV7ctqG46x",
        "colab": {
          "base_uri": "https://localhost:8080/"
        },
        "outputId": "1bcba880-55fe-408c-97e2-ee0766a0ce20"
      },
      "execution_count": 367,
      "outputs": [
        {
          "output_type": "stream",
          "name": "stdout",
          "text": [
            "[]\n"
          ]
        }
      ]
    },
    {
      "cell_type": "code",
      "source": [
        "explore_reviews_csv_query = \"\"\"\n",
        "MERGE (cwedata:Extended_Descriptions {runtime:2992})\n",
        "MERGE (Entities:Entities {rawName:\"Cross-site scripting\"})\n",
        "MERGE (cwedata)-[:HAS_ENTITY]->(Entities)\n",
        "\n",
        "\"\"\"\n",
        "result = conn.query(explore_reviews_csv_query)\n",
        "print(result)"
      ],
      "metadata": {
        "id": "mIOeUSUpOsjm",
        "colab": {
          "base_uri": "https://localhost:8080/"
        },
        "outputId": "37ec632b-11bd-43b7-814c-2f3c6deae3f2"
      },
      "execution_count": 368,
      "outputs": [
        {
          "output_type": "stream",
          "name": "stdout",
          "text": [
            "[]\n"
          ]
        }
      ]
    },
    {
      "cell_type": "code",
      "source": [
        "explore_reviews_csv_query = \"\"\"\n",
        "MERGE (cwedata:Extended_Descriptions {runtime:2992})\n",
        "MERGE (Entities:Entities {rawName:\"XSS\"})\n",
        "MERGE (cwedata)-[:HAS_ENTITY]->(Entities)\n",
        "\n",
        "\"\"\"\n",
        "result = conn.query(explore_reviews_csv_query)\n",
        "print(result)"
      ],
      "metadata": {
        "id": "YcJpCPGkPAAf",
        "colab": {
          "base_uri": "https://localhost:8080/"
        },
        "outputId": "a9917b42-4580-4181-c568-d63e44408d1d"
      },
      "execution_count": 369,
      "outputs": [
        {
          "output_type": "stream",
          "name": "stdout",
          "text": [
            "[]\n"
          ]
        }
      ]
    },
    {
      "cell_type": "code",
      "source": [
        "explore_reviews_csv_query = \"\"\"\n",
        "MERGE (cwedata:Extended_Descriptions {runtime:2992})\n",
        "MERGE (Entities:Entities {rawName:\"vulnerabilities\"})\n",
        "MERGE (cwedata)-[:HAS_ENTITY]->(Entities)\n",
        "\n",
        "\"\"\"\n",
        "result = conn.query(explore_reviews_csv_query)\n",
        "print(result)"
      ],
      "metadata": {
        "id": "jee04c_yPBHC",
        "colab": {
          "base_uri": "https://localhost:8080/"
        },
        "outputId": "523653d8-04e3-4429-a0ac-d45dde7dbc9b"
      },
      "execution_count": 370,
      "outputs": [
        {
          "output_type": "stream",
          "name": "stdout",
          "text": [
            "[]\n"
          ]
        }
      ]
    },
    {
      "cell_type": "code",
      "source": [
        "explore_reviews_csv_query = \"\"\"\n",
        "MERGE (cwedata:Extended_Descriptions {runtime:2992})\n",
        "MERGE (Entities:Entities {rawName:\"Untrusted\"})\n",
        "MERGE (cwedata)-[:HAS_ENTITY]->(Entities)\n",
        "\n",
        "\"\"\"\n",
        "result = conn.query(explore_reviews_csv_query)\n",
        "print(result)"
      ],
      "metadata": {
        "id": "UdVmWpjUPCBB",
        "colab": {
          "base_uri": "https://localhost:8080/"
        },
        "outputId": "8781b6eb-473f-447c-a677-4531b4fd9353"
      },
      "execution_count": 371,
      "outputs": [
        {
          "output_type": "stream",
          "name": "stdout",
          "text": [
            "[]\n"
          ]
        }
      ]
    },
    {
      "cell_type": "code",
      "source": [
        "explore_reviews_csv_query = \"\"\"\n",
        "MERGE (cwedata:Extended_Descriptions {runtime:2992})\n",
        "MERGE (Entities:Entities {rawName:\"enters\"})\n",
        "MERGE (cwedata)-[:HAS_ENTITY]->(Entities)\n",
        "\n",
        "\"\"\"\n",
        "result = conn.query(explore_reviews_csv_query)\n",
        "print(result)"
      ],
      "metadata": {
        "id": "g7qNMclPPDJ_",
        "colab": {
          "base_uri": "https://localhost:8080/"
        },
        "outputId": "011c2264-7266-4a54-9d8b-d2cd1c3808d3"
      },
      "execution_count": 372,
      "outputs": [
        {
          "output_type": "stream",
          "name": "stdout",
          "text": [
            "[]\n"
          ]
        }
      ]
    },
    {
      "cell_type": "code",
      "source": [
        "explore_reviews_csv_query = \"\"\"\n",
        "MERGE (cwedata:Extended_Descriptions {runtime:2992})\n",
        "MERGE (Entities:Entities {rawName:\"web application\"})\n",
        "MERGE (cwedata)-[:HAS_ENTITY]->(Entities)\n",
        "\n",
        "\"\"\"\n",
        "result = conn.query(explore_reviews_csv_query)\n",
        "print(result)"
      ],
      "metadata": {
        "id": "0rxrRVfEPEHO",
        "colab": {
          "base_uri": "https://localhost:8080/"
        },
        "outputId": "49b97201-d46d-454e-b725-2515178454e6"
      },
      "execution_count": 373,
      "outputs": [
        {
          "output_type": "stream",
          "name": "stdout",
          "text": [
            "[]\n"
          ]
        }
      ]
    },
    {
      "cell_type": "code",
      "source": [
        "explore_reviews_csv_query = \"\"\"\n",
        "MERGE (cwedata:Extended_Descriptions {runtime:2992})\n",
        "MERGE (Entities:Entities {rawName:\"web request\"})\n",
        "MERGE (cwedata)-[:HAS_ENTITY]->(Entities)\n",
        "\n",
        "\"\"\"\n",
        "result = conn.query(explore_reviews_csv_query)\n",
        "print(result)"
      ],
      "metadata": {
        "id": "ZNEyBv7xPFZ8",
        "colab": {
          "base_uri": "https://localhost:8080/"
        },
        "outputId": "d61cd212-e3d0-4834-d9a9-7eacc1a5c491"
      },
      "execution_count": 374,
      "outputs": [
        {
          "output_type": "stream",
          "name": "stdout",
          "text": [
            "[]\n"
          ]
        }
      ]
    },
    {
      "cell_type": "code",
      "source": [
        "explore_reviews_csv_query = \"\"\"\n",
        "MERGE (cwedata:Extended_Descriptions {runtime:2992})\n",
        "MERGE (Entities:Entities {rawName:\"2\"})\n",
        "MERGE (cwedata)-[:HAS_ENTITY]->(Entities)\n",
        "\n",
        "\"\"\"\n",
        "result = conn.query(explore_reviews_csv_query)\n",
        "print(result)"
      ],
      "metadata": {
        "id": "w6K9LwO6PGcy",
        "colab": {
          "base_uri": "https://localhost:8080/"
        },
        "outputId": "b31c89e5-c19b-4003-9731-96572a496e24"
      },
      "execution_count": 375,
      "outputs": [
        {
          "output_type": "stream",
          "name": "stdout",
          "text": [
            "[]\n"
          ]
        }
      ]
    },
    {
      "cell_type": "code",
      "source": [
        "explore_reviews_csv_query = \"\"\"\n",
        "MERGE (cwedata:Extended_Descriptions {runtime:2992})\n",
        "MERGE (Entities:Entities {rawName:\"dynamically generates\"})\n",
        "MERGE (cwedata)-[:HAS_ENTITY]->(Entities)\n",
        "\n",
        "\"\"\"\n",
        "result = conn.query(explore_reviews_csv_query)\n",
        "print(result)"
      ],
      "metadata": {
        "id": "Xspm_zyiPHga",
        "colab": {
          "base_uri": "https://localhost:8080/"
        },
        "outputId": "c350b567-988c-4c6e-c339-527cecd8e350"
      },
      "execution_count": 376,
      "outputs": [
        {
          "output_type": "stream",
          "name": "stdout",
          "text": [
            "[]\n"
          ]
        }
      ]
    },
    {
      "cell_type": "code",
      "source": [
        "explore_reviews_csv_query = \"\"\"\n",
        "MERGE (cwedata:Extended_Descriptions {runtime:2992})\n",
        "MERGE (Entities:Entities {rawName:\"web page\"})\n",
        "MERGE (cwedata)-[:HAS_ENTITY]->(Entities)\n",
        "\n",
        "\"\"\"\n",
        "result = conn.query(explore_reviews_csv_query)\n",
        "print(result)"
      ],
      "metadata": {
        "id": "5hZ92vStPIqL",
        "colab": {
          "base_uri": "https://localhost:8080/"
        },
        "outputId": "2c957903-bc4c-4413-9a27-2b19a2db148a"
      },
      "execution_count": 377,
      "outputs": [
        {
          "output_type": "stream",
          "name": "stdout",
          "text": [
            "[]\n"
          ]
        }
      ]
    },
    {
      "cell_type": "code",
      "source": [
        "explore_reviews_csv_query = \"\"\"\n",
        "MERGE (cwedata:Extended_Descriptions {runtime:2992})\n",
        "MERGE (Entities:Entities {rawName:\"web browser\"})\n",
        "MERGE (cwedata)-[:HAS_ENTITY]->(Entities)\n",
        "\n",
        "\"\"\"\n",
        "result = conn.query(explore_reviews_csv_query)\n",
        "print(result)"
      ],
      "metadata": {
        "id": "oYdtVqnlPKJY",
        "colab": {
          "base_uri": "https://localhost:8080/"
        },
        "outputId": "a4778a4f-8eac-403f-91cd-475c659385d1"
      },
      "execution_count": 378,
      "outputs": [
        {
          "output_type": "stream",
          "name": "stdout",
          "text": [
            "[]\n"
          ]
        }
      ]
    },
    {
      "cell_type": "code",
      "source": [
        "explore_reviews_csv_query = \"\"\"\n",
        "MERGE (cwedata:Extended_Descriptions {runtime:2992})\n",
        "MERGE (Entities:Entities {rawName:\"JavaScript\"})\n",
        "MERGE (cwedata)-[:HAS_ENTITY]->(Entities)\n",
        "\n",
        "\"\"\"\n",
        "result = conn.query(explore_reviews_csv_query)\n",
        "print(result)"
      ],
      "metadata": {
        "id": "wcAf0GbIPJ_p",
        "colab": {
          "base_uri": "https://localhost:8080/"
        },
        "outputId": "cda9fbe0-369c-4ada-eb21-6feaf50dd671"
      },
      "execution_count": 379,
      "outputs": [
        {
          "output_type": "stream",
          "name": "stdout",
          "text": [
            "[]\n"
          ]
        }
      ]
    },
    {
      "cell_type": "code",
      "source": [
        "explore_reviews_csv_query = \"\"\"\n",
        "MERGE (cwedata:Extended_Descriptions {runtime:2992})\n",
        "MERGE (Entities:Entities {rawName:\"HTML\"})\n",
        "MERGE (cwedata)-[:HAS_ENTITY]->(Entities)\n",
        "\n",
        "\"\"\"\n",
        "result = conn.query(explore_reviews_csv_query)\n",
        "print(result)"
      ],
      "metadata": {
        "id": "PTJgYrsRPJ84",
        "colab": {
          "base_uri": "https://localhost:8080/"
        },
        "outputId": "c7b39634-5469-42e2-b75a-b9b830eb39c3"
      },
      "execution_count": 380,
      "outputs": [
        {
          "output_type": "stream",
          "name": "stdout",
          "text": [
            "[]\n"
          ]
        }
      ]
    },
    {
      "cell_type": "code",
      "source": [
        "explore_reviews_csv_query = \"\"\"\n",
        "MERGE (cwedata:Extended_Descriptions {runtime:2992})\n",
        "MERGE (Entities:Entities {rawName:\"tags\"})\n",
        "MERGE (cwedata)-[:HAS_ENTITY]->(Entities)\n",
        "\n",
        "\"\"\"\n",
        "result = conn.query(explore_reviews_csv_query)\n",
        "print(result)"
      ],
      "metadata": {
        "id": "yZiwXcidPJ6I",
        "colab": {
          "base_uri": "https://localhost:8080/"
        },
        "outputId": "8f88ab67-968d-41ad-a378-0554336fc916"
      },
      "execution_count": 381,
      "outputs": [
        {
          "output_type": "stream",
          "name": "stdout",
          "text": [
            "[]\n"
          ]
        }
      ]
    },
    {
      "cell_type": "code",
      "source": [
        "explore_reviews_csv_query = \"\"\"\n",
        "MERGE (cwedata:Extended_Descriptions {runtime:2992})\n",
        "MERGE (Entities:Entities {rawName:\"HTML attributes\"})\n",
        "MERGE (cwedata)-[:HAS_ENTITY]->(Entities)\n",
        "\n",
        "\"\"\"\n",
        "result = conn.query(explore_reviews_csv_query)\n",
        "print(result)"
      ],
      "metadata": {
        "id": "4AE4pyDuPJ3X",
        "colab": {
          "base_uri": "https://localhost:8080/"
        },
        "outputId": "7fdb9d4a-e977-4ecd-fcaf-039bf5c571bc"
      },
      "execution_count": 382,
      "outputs": [
        {
          "output_type": "stream",
          "name": "stdout",
          "text": [
            "[]\n"
          ]
        }
      ]
    },
    {
      "cell_type": "code",
      "source": [
        "explore_reviews_csv_query = \"\"\"\n",
        "MERGE (cwedata:Extended_Descriptions {runtime:2992})\n",
        "MERGE (Entities:Entities {rawName:\"Flash\"})\n",
        "MERGE (cwedata)-[:HAS_ENTITY]->(Entities)\n",
        "\n",
        "\"\"\"\n",
        "result = conn.query(explore_reviews_csv_query)\n",
        "print(result)"
      ],
      "metadata": {
        "id": "hgDrxY0IPJ0i",
        "colab": {
          "base_uri": "https://localhost:8080/"
        },
        "outputId": "62c56b29-2138-4ad5-a28d-47a3a6e886d2"
      },
      "execution_count": 383,
      "outputs": [
        {
          "output_type": "stream",
          "name": "stdout",
          "text": [
            "[]\n"
          ]
        }
      ]
    },
    {
      "cell_type": "code",
      "source": [
        "explore_reviews_csv_query = \"\"\"\n",
        "MERGE (cwedata:Extended_Descriptions {runtime:2992})\n",
        "MERGE (Entities:Entities {rawName:\"ActiveX\"})\n",
        "MERGE (cwedata)-[:HAS_ENTITY]->(Entities)\n",
        "\n",
        "\"\"\"\n",
        "result = conn.query(explore_reviews_csv_query)\n",
        "print(result)"
      ],
      "metadata": {
        "id": "J_gfL7EgPJxe",
        "colab": {
          "base_uri": "https://localhost:8080/"
        },
        "outputId": "a51639a7-b679-43f1-b230-0e125b447918"
      },
      "execution_count": 384,
      "outputs": [
        {
          "output_type": "stream",
          "name": "stdout",
          "text": [
            "[]\n"
          ]
        }
      ]
    },
    {
      "cell_type": "code",
      "source": [
        "explore_reviews_csv_query = \"\"\"\n",
        "MERGE (cwedata:Extended_Descriptions {runtime:2992})\n",
        "MERGE (Entities:Entities {rawName:\"malicious\"})\n",
        "MERGE (cwedata)-[:HAS_ENTITY]->(Entities)\n",
        "\n",
        "\"\"\"\n",
        "result = conn.query(explore_reviews_csv_query)\n",
        "print(result)"
      ],
      "metadata": {
        "id": "x7GH6B4oPJuS",
        "colab": {
          "base_uri": "https://localhost:8080/"
        },
        "outputId": "ff2725b2-dd95-4e57-bd21-bb0209fc0aa4"
      },
      "execution_count": 385,
      "outputs": [
        {
          "output_type": "stream",
          "name": "stdout",
          "text": [
            "[]\n"
          ]
        }
      ]
    },
    {
      "cell_type": "code",
      "source": [
        "explore_reviews_csv_query = \"\"\"\n",
        "MERGE (cwedata:Extended_Descriptions {runtime:2992})\n",
        "MERGE (Entities:Entities {rawName:\"injected\"})\n",
        "MERGE (cwedata)-[:HAS_ENTITY]->(Entities)\n",
        "\n",
        "\"\"\"\n",
        "result = conn.query(explore_reviews_csv_query)\n",
        "print(result)"
      ],
      "metadata": {
        "id": "C8NP4HuKRdRA",
        "colab": {
          "base_uri": "https://localhost:8080/"
        },
        "outputId": "c41960dd-07ea-4c6f-8209-a2857e5a2321"
      },
      "execution_count": 386,
      "outputs": [
        {
          "output_type": "stream",
          "name": "stdout",
          "text": [
            "[]\n"
          ]
        }
      ]
    },
    {
      "cell_type": "code",
      "source": [
        "explore_reviews_csv_query = \"\"\"\n",
        "MERGE (cwedata:Extended_Descriptions {runtime:2992})\n",
        "MERGE (Entities:Entities {rawName:\"web server\"})\n",
        "MERGE (cwedata)-[:HAS_ENTITY]->(Entities)\n",
        "\n",
        "\"\"\"\n",
        "result = conn.query(explore_reviews_csv_query)\n",
        "print(result)"
      ],
      "metadata": {
        "id": "9pvzAXNQRdC0",
        "colab": {
          "base_uri": "https://localhost:8080/"
        },
        "outputId": "e4c24e8f-18e0-4a33-db2b-7ca1e110999d"
      },
      "execution_count": 387,
      "outputs": [
        {
          "output_type": "stream",
          "name": "stdout",
          "text": [
            "[]\n"
          ]
        }
      ]
    },
    {
      "cell_type": "code",
      "source": [
        "explore_reviews_csv_query = \"\"\"\n",
        "MERGE (cwedata:Extended_Descriptions {runtime:2992})\n",
        "MERGE (Entities:Entities {rawName:\"executes\"})\n",
        "MERGE (cwedata)-[:HAS_ENTITY]->(Entities)\n",
        "\n",
        "\"\"\"\n",
        "result = conn.query(explore_reviews_csv_query)\n",
        "print(result)"
      ],
      "metadata": {
        "id": "GImUK4nxRcuN",
        "colab": {
          "base_uri": "https://localhost:8080/"
        },
        "outputId": "3b880ae1-fe34-4fe9-eeb1-c42eb2f2ff7c"
      },
      "execution_count": 388,
      "outputs": [
        {
          "output_type": "stream",
          "name": "stdout",
          "text": [
            "[]\n"
          ]
        }
      ]
    },
    {
      "cell_type": "code",
      "source": [
        "explore_reviews_csv_query = \"\"\"\n",
        "MERGE (cwedata:Extended_Descriptions {runtime:2992})\n",
        "MERGE (Entities:Entities {rawName:\"violates\"})\n",
        "MERGE (cwedata)-[:HAS_ENTITY]->(Entities)\n",
        "\n",
        "\"\"\"\n",
        "result = conn.query(explore_reviews_csv_query)\n",
        "print(result)"
      ],
      "metadata": {
        "id": "pIEaCHgBRcp5",
        "colab": {
          "base_uri": "https://localhost:8080/"
        },
        "outputId": "46eaf48b-6e5c-4361-ca98-7f6f6d372a3e"
      },
      "execution_count": 389,
      "outputs": [
        {
          "output_type": "stream",
          "name": "stdout",
          "text": [
            "[]\n"
          ]
        }
      ]
    },
    {
      "cell_type": "code",
      "source": [
        "explore_reviews_csv_query = \"\"\"\n",
        "MERGE (cwedata:Extended_Descriptions {runtime:2992})\n",
        "MERGE (Entities:Entities {rawName:\"web browser's\"})\n",
        "MERGE (cwedata)-[:HAS_ENTITY]->(Entities)\n",
        "\n",
        "\"\"\"\n",
        "result = conn.query(explore_reviews_csv_query)\n",
        "print(result)"
      ],
      "metadata": {
        "id": "MOnDlutcRclm",
        "colab": {
          "base_uri": "https://localhost:8080/"
        },
        "outputId": "ee465f7f-eeda-4490-e5ff-59e4cfd0578c"
      },
      "execution_count": 390,
      "outputs": [
        {
          "output_type": "stream",
          "name": "stdout",
          "text": [
            "[]\n"
          ]
        }
      ]
    },
    {
      "cell_type": "code",
      "source": [
        "explore_reviews_csv_query = \"\"\"\n",
        "MERGE (cwedata:Extended_Descriptions {runtime:2992})\n",
        "MERGE (Entities:Entities {rawName:\"same-origin policy\"})\n",
        "MERGE (cwedata)-[:HAS_ENTITY]->(Entities)\n",
        "\n",
        "\"\"\"\n",
        "result = conn.query(explore_reviews_csv_query)\n",
        "print(result)"
      ],
      "metadata": {
        "id": "h51goGJERchY",
        "colab": {
          "base_uri": "https://localhost:8080/"
        },
        "outputId": "a89eb95c-968e-4ed4-9f01-72aabd64713d"
      },
      "execution_count": 391,
      "outputs": [
        {
          "output_type": "stream",
          "name": "stdout",
          "text": [
            "[]\n"
          ]
        }
      ]
    },
    {
      "cell_type": "code",
      "source": [
        "explore_reviews_csv_query = \"\"\"\n",
        "MERGE (cwedata:Extended_Descriptions {runtime:2992})\n",
        "MERGE (Entities:Entities {rawName:\"scripts\"})\n",
        "MERGE (cwedata)-[:HAS_ENTITY]->(Entities)\n",
        "\n",
        "\"\"\"\n",
        "result = conn.query(explore_reviews_csv_query)\n",
        "print(result)"
      ],
      "metadata": {
        "id": "gLmOafNIRcVD",
        "colab": {
          "base_uri": "https://localhost:8080/"
        },
        "outputId": "fef9551d-e93d-444d-cb0a-ed2420cf84b9"
      },
      "execution_count": 392,
      "outputs": [
        {
          "output_type": "stream",
          "name": "stdout",
          "text": [
            "[]\n"
          ]
        }
      ]
    },
    {
      "cell_type": "code",
      "source": [
        "explore_reviews_csv_query = \"\"\"\n",
        "MERGE (cwedata:Extended_Descriptions {runtime:2992})\n",
        "MERGE (Entities:Entities {rawName:\"Type 1\"})\n",
        "MERGE (cwedata)-[:HAS_ENTITY]->(Entities)\n",
        "\n",
        "\"\"\"\n",
        "result = conn.query(explore_reviews_csv_query)\n",
        "print(result)"
      ],
      "metadata": {
        "id": "Ufh4XynaRl66",
        "colab": {
          "base_uri": "https://localhost:8080/"
        },
        "outputId": "c22ccc7d-cd58-43a2-c9e8-0f21e91b211f"
      },
      "execution_count": 393,
      "outputs": [
        {
          "output_type": "stream",
          "name": "stdout",
          "text": [
            "[]\n"
          ]
        }
      ]
    },
    {
      "cell_type": "code",
      "source": [
        "explore_reviews_csv_query = \"\"\"\n",
        "MERGE (cwedata:Extended_Descriptions {runtime:2992})\n",
        "MERGE (Entities:Entities {rawName:\"Reflected XSS\"})\n",
        "MERGE (cwedata)-[:HAS_ENTITY]->(Entities)\n",
        "\n",
        "\"\"\"\n",
        "result = conn.query(explore_reviews_csv_query)\n",
        "print(result)"
      ],
      "metadata": {
        "id": "Z_6gx7j-RlrL",
        "colab": {
          "base_uri": "https://localhost:8080/"
        },
        "outputId": "e30e93cc-555c-43ce-d221-e2e6b5cde1ea"
      },
      "execution_count": 394,
      "outputs": [
        {
          "output_type": "stream",
          "name": "stdout",
          "text": [
            "[]\n"
          ]
        }
      ]
    },
    {
      "cell_type": "code",
      "source": [
        "explore_reviews_csv_query = \"\"\"\n",
        "MERGE (cwedata:Extended_Descriptions {runtime:2992})\n",
        "MERGE (Entities:Entities {rawName:\"Persistent\"})\n",
        "MERGE (cwedata)-[:HAS_ENTITY]->(Entities)\n",
        "\n",
        "\"\"\"\n",
        "result = conn.query(explore_reviews_csv_query)\n",
        "print(result)"
      ],
      "metadata": {
        "id": "niHFAIQLRlmZ",
        "colab": {
          "base_uri": "https://localhost:8080/"
        },
        "outputId": "8d3d1ebe-f264-4c6f-8ea4-0dac2a05e218"
      },
      "execution_count": 395,
      "outputs": [
        {
          "output_type": "stream",
          "name": "stdout",
          "text": [
            "[]\n"
          ]
        }
      ]
    },
    {
      "cell_type": "code",
      "source": [
        "explore_reviews_csv_query = \"\"\"\n",
        "MERGE (cwedata:Extended_Descriptions {runtime:2992})\n",
        "MERGE (Entities:Entities {rawName:\"HTTP request\"})\n",
        "MERGE (cwedata)-[:HAS_ENTITY]->(Entities)\n",
        "\n",
        "\"\"\"\n",
        "result = conn.query(explore_reviews_csv_query)\n",
        "print(result)"
      ],
      "metadata": {
        "id": "axItueCJRlWr",
        "colab": {
          "base_uri": "https://localhost:8080/"
        },
        "outputId": "a9723232-29cb-4ca7-8a6b-77912f8ce7e9"
      },
      "execution_count": 396,
      "outputs": [
        {
          "output_type": "stream",
          "name": "stdout",
          "text": [
            "[]\n"
          ]
        }
      ]
    },
    {
      "cell_type": "code",
      "source": [
        "explore_reviews_csv_query = \"\"\"\n",
        "MERGE (cwedata:Extended_Descriptions {runtime:2992})\n",
        "MERGE (Entities:Entities {rawName:\"HTTP response\"})\n",
        "MERGE (cwedata)-[:HAS_ENTITY]->(Entities)\n",
        "\n",
        "\"\"\"\n",
        "result = conn.query(explore_reviews_csv_query)\n",
        "print(result)"
      ],
      "metadata": {
        "id": "Uag8yv-zRlSI",
        "colab": {
          "base_uri": "https://localhost:8080/"
        },
        "outputId": "a1406ae7-3f0f-40c0-a43b-7d688a4a7179"
      },
      "execution_count": 397,
      "outputs": [
        {
          "output_type": "stream",
          "name": "stdout",
          "text": [
            "[]\n"
          ]
        }
      ]
    },
    {
      "cell_type": "code",
      "source": [
        "explore_reviews_csv_query = \"\"\"\n",
        "MERGE (cwedata:Extended_Descriptions {runtime:2992})\n",
        "MERGE (Entities:Entities {rawName:\"exploits\"})\n",
        "MERGE (cwedata)-[:HAS_ENTITY]->(Entities)\n",
        "\n",
        "\"\"\"\n",
        "result = conn.query(explore_reviews_csv_query)\n",
        "print(result)"
      ],
      "metadata": {
        "id": "Vx8uPVUZRlNd",
        "colab": {
          "base_uri": "https://localhost:8080/"
        },
        "outputId": "57af3087-3080-426e-f9ec-6d1bad44e1ab"
      },
      "execution_count": 398,
      "outputs": [
        {
          "output_type": "stream",
          "name": "stdout",
          "text": [
            "[]\n"
          ]
        }
      ]
    },
    {
      "cell_type": "code",
      "source": [
        "explore_reviews_csv_query = \"\"\"\n",
        "MERGE (cwedata:Extended_Descriptions {runtime:2992})\n",
        "MERGE (Entities:Entities {rawName:\"attacker\"})\n",
        "MERGE (cwedata)-[:HAS_ENTITY]->(Entities)\n",
        "\n",
        "\"\"\"\n",
        "result = conn.query(explore_reviews_csv_query)\n",
        "print(result)"
      ],
      "metadata": {
        "id": "oMjjzdhGRq4P",
        "colab": {
          "base_uri": "https://localhost:8080/"
        },
        "outputId": "3cc933a0-50b6-40fc-8a69-e36c6d32fdc3"
      },
      "execution_count": 399,
      "outputs": [
        {
          "output_type": "stream",
          "name": "stdout",
          "text": [
            "[]\n"
          ]
        }
      ]
    },
    {
      "cell_type": "code",
      "source": [
        "explore_reviews_csv_query = \"\"\"\n",
        "MERGE (cwedata:Extended_Descriptions {runtime:2992})\n",
        "MERGE (Entities:Entities {rawName:\"parameter\"})\n",
        "MERGE (cwedata)-[:HAS_ENTITY]->(Entities)\n",
        "\n",
        "\"\"\"\n",
        "result = conn.query(explore_reviews_csv_query)\n",
        "print(result)"
      ],
      "metadata": {
        "id": "PZUGJvXSRqm3",
        "colab": {
          "base_uri": "https://localhost:8080/"
        },
        "outputId": "b99b00a8-59c6-42d1-bc4b-b02cee9a9c8e"
      },
      "execution_count": 400,
      "outputs": [
        {
          "output_type": "stream",
          "name": "stdout",
          "text": [
            "[]\n"
          ]
        }
      ]
    },
    {
      "cell_type": "code",
      "source": [
        "explore_reviews_csv_query = \"\"\"\n",
        "MERGE (cwedata:Extended_Descriptions {runtime:2992})\n",
        "MERGE (Entities:Entities {rawName:\"URL\"})\n",
        "MERGE (cwedata)-[:HAS_ENTITY]->(Entities)\n",
        "\n",
        "\"\"\"\n",
        "result = conn.query(explore_reviews_csv_query)\n",
        "print(result)"
      ],
      "metadata": {
        "id": "ARr1YMTZRqh4",
        "colab": {
          "base_uri": "https://localhost:8080/"
        },
        "outputId": "1c612200-bed8-487f-c768-95b3617b0e1f"
      },
      "execution_count": 401,
      "outputs": [
        {
          "output_type": "stream",
          "name": "stdout",
          "text": [
            "[]\n"
          ]
        }
      ]
    },
    {
      "cell_type": "code",
      "source": [
        "explore_reviews_csv_query = \"\"\"\n",
        "MERGE (cwedata:Extended_Descriptions {runtime:2992})\n",
        "MERGE (Entities:Entities {rawName:\"e-mailed\"})\n",
        "MERGE (cwedata)-[:HAS_ENTITY]->(Entities)\n",
        "\n",
        "\"\"\"\n",
        "result = conn.query(explore_reviews_csv_query)\n",
        "print(result)"
      ],
      "metadata": {
        "id": "yH5VykVNRqdA",
        "colab": {
          "base_uri": "https://localhost:8080/"
        },
        "outputId": "2e588bbd-33f0-4d96-93b0-340b7414a4a0"
      },
      "execution_count": 402,
      "outputs": [
        {
          "output_type": "stream",
          "name": "stdout",
          "text": [
            "[]\n"
          ]
        }
      ]
    },
    {
      "cell_type": "code",
      "source": [
        "explore_reviews_csv_query = \"\"\"\n",
        "MERGE (cwedata:Extended_Descriptions {runtime:2992})\n",
        "MERGE (Entities:Entities {rawName:\"URLs\"})\n",
        "MERGE (cwedata)-[:HAS_ENTITY]->(Entities)\n",
        "\n",
        "\"\"\"\n",
        "result = conn.query(explore_reviews_csv_query)\n",
        "print(result)"
      ],
      "metadata": {
        "id": "60X7FgPBS-Nm",
        "colab": {
          "base_uri": "https://localhost:8080/"
        },
        "outputId": "58851eed-e9ac-457c-e53a-635e0aa38593"
      },
      "execution_count": 403,
      "outputs": [
        {
          "output_type": "stream",
          "name": "stdout",
          "text": [
            "[]\n"
          ]
        }
      ]
    },
    {
      "cell_type": "code",
      "source": [
        "explore_reviews_csv_query = \"\"\"\n",
        "MERGE (cwedata:Extended_Descriptions {runtime:2992})\n",
        "MERGE (Entities:Entities {rawName:\"phishing\"})\n",
        "MERGE (cwedata)-[:HAS_ENTITY]->(Entities)\n",
        "\n",
        "\"\"\"\n",
        "result = conn.query(explore_reviews_csv_query)\n",
        "print(result)"
      ],
      "metadata": {
        "id": "VcInHA6yS-HX",
        "colab": {
          "base_uri": "https://localhost:8080/"
        },
        "outputId": "173e2d8d-e0d1-4c28-d0c3-b00cf275723b"
      },
      "execution_count": 404,
      "outputs": [
        {
          "output_type": "stream",
          "name": "stdout",
          "text": [
            "[]\n"
          ]
        }
      ]
    },
    {
      "cell_type": "code",
      "source": [
        "explore_reviews_csv_query = \"\"\"\n",
        "MERGE (cwedata:Extended_Descriptions {runtime:2992})\n",
        "MERGE (Entities:Entities {rawName:\"browser\"})\n",
        "MERGE (cwedata)-[:HAS_ENTITY]->(Entities)\n",
        "\n",
        "\"\"\"\n",
        "result = conn.query(explore_reviews_csv_query)\n",
        "print(result)"
      ],
      "metadata": {
        "id": "aYWCM_mDS-BP",
        "colab": {
          "base_uri": "https://localhost:8080/"
        },
        "outputId": "70d7dc8f-beca-489e-dac1-20d99a2a45d5"
      },
      "execution_count": 405,
      "outputs": [
        {
          "output_type": "stream",
          "name": "stdout",
          "text": [
            "[]\n"
          ]
        }
      ]
    },
    {
      "cell_type": "code",
      "source": [
        "explore_reviews_csv_query = \"\"\"\n",
        "MERGE (cwedata:Extended_Descriptions {runtime:2992})\n",
        "MERGE (Entities:Entities {rawName:\"Type 2\"})\n",
        "MERGE (cwedata)-[:HAS_ENTITY]->(Entities)\n",
        "\n",
        "\"\"\"\n",
        "result = conn.query(explore_reviews_csv_query)\n",
        "print(result)"
      ],
      "metadata": {
        "id": "hMXREtiFS97H",
        "colab": {
          "base_uri": "https://localhost:8080/"
        },
        "outputId": "6ddd342e-ed52-43a7-8c9f-7e48d0ed3670"
      },
      "execution_count": 406,
      "outputs": [
        {
          "output_type": "stream",
          "name": "stdout",
          "text": [
            "[]\n"
          ]
        }
      ]
    },
    {
      "cell_type": "code",
      "source": [
        "explore_reviews_csv_query = \"\"\"\n",
        "MERGE (cwedata:Extended_Descriptions {runtime:2992})\n",
        "MERGE (Entities:Entities {rawName:\"Stored XSS\"})\n",
        "MERGE (cwedata)-[:HAS_ENTITY]->(Entities)\n",
        "\n",
        "\"\"\"\n",
        "result = conn.query(explore_reviews_csv_query)\n",
        "print(result)"
      ],
      "metadata": {
        "id": "hiUnMEsZS9nJ",
        "colab": {
          "base_uri": "https://localhost:8080/"
        },
        "outputId": "7bd4aa86-57cd-4343-fc2f-1f758ce4145f"
      },
      "execution_count": 407,
      "outputs": [
        {
          "output_type": "stream",
          "name": "stdout",
          "text": [
            "[]\n"
          ]
        }
      ]
    },
    {
      "cell_type": "code",
      "source": [
        "explore_reviews_csv_query = \"\"\"\n",
        "MERGE (cwedata:Extended_Descriptions {runtime:2992})\n",
        "MERGE (Entities:Entities {rawName:\"visitor\"})\n",
        "MERGE (cwedata)-[:HAS_ENTITY]->(Entities)\n",
        "\n",
        "\"\"\"\n",
        "result = conn.query(explore_reviews_csv_query)\n",
        "print(result)"
      ],
      "metadata": {
        "id": "IXm7v5qwS9hH",
        "colab": {
          "base_uri": "https://localhost:8080/"
        },
        "outputId": "60b10e18-03c6-4de1-a104-4a6030def843"
      },
      "execution_count": 408,
      "outputs": [
        {
          "output_type": "stream",
          "name": "stdout",
          "text": [
            "[]\n"
          ]
        }
      ]
    },
    {
      "cell_type": "code",
      "source": [
        "explore_reviews_csv_query = \"\"\"\n",
        "MERGE (cwedata:Extended_Descriptions {runtime:2992})\n",
        "MERGE (Entities:Entities {rawName:\"data store\"})\n",
        "MERGE (cwedata)-[:HAS_ENTITY]->(Entities)\n",
        "\n",
        "\"\"\"\n",
        "result = conn.query(explore_reviews_csv_query)\n",
        "print(result)"
      ],
      "metadata": {
        "id": "MesdvHaDS9a9",
        "colab": {
          "base_uri": "https://localhost:8080/"
        },
        "outputId": "66ae6aa5-c2e8-4504-d3a8-f39a6b4d09b8"
      },
      "execution_count": 409,
      "outputs": [
        {
          "output_type": "stream",
          "name": "stdout",
          "text": [
            "[]\n"
          ]
        }
      ]
    },
    {
      "cell_type": "code",
      "source": [
        "explore_reviews_csv_query = \"\"\"\n",
        "MERGE (cwedata:Extended_Descriptions {runtime:2992})\n",
        "MERGE (Entities:Entities {rawName:\"dynamic content\"})\n",
        "MERGE (cwedata)-[:HAS_ENTITY]->(Entities)\n",
        "\n",
        "\"\"\"\n",
        "result = conn.query(explore_reviews_csv_query)\n",
        "print(result)"
      ],
      "metadata": {
        "id": "4FqjOOuiTI3U",
        "colab": {
          "base_uri": "https://localhost:8080/"
        },
        "outputId": "a2f9e4ff-fcf0-45e3-d27f-82e8b33fa73b"
      },
      "execution_count": 410,
      "outputs": [
        {
          "output_type": "stream",
          "name": "stdout",
          "text": [
            "[]\n"
          ]
        }
      ]
    },
    {
      "cell_type": "code",
      "source": [
        "explore_reviews_csv_query = \"\"\"\n",
        "MERGE (cwedata:Extended_Descriptions {runtime:2992})\n",
        "MERGE (Entities:Entities {rawName:\"optimal\"})\n",
        "MERGE (cwedata)-[:HAS_ENTITY]->(Entities)\n",
        "\n",
        "\"\"\"\n",
        "result = conn.query(explore_reviews_csv_query)\n",
        "print(result)"
      ],
      "metadata": {
        "id": "ZjKAUGIlTInY",
        "colab": {
          "base_uri": "https://localhost:8080/"
        },
        "outputId": "1195fac1-ee84-44a9-8773-cbf1ce481423"
      },
      "execution_count": 411,
      "outputs": [
        {
          "output_type": "stream",
          "name": "stdout",
          "text": [
            "[]\n"
          ]
        }
      ]
    },
    {
      "cell_type": "code",
      "source": [
        "explore_reviews_csv_query = \"\"\"\n",
        "MERGE (cwedata:Extended_Descriptions {runtime:2992})\n",
        "MERGE (Entities:Entities {rawName:\"inject\"})\n",
        "MERGE (cwedata)-[:HAS_ENTITY]->(Entities)\n",
        "\n",
        "\"\"\"\n",
        "result = conn.query(explore_reviews_csv_query)\n",
        "print(result)"
      ],
      "metadata": {
        "id": "iW4LgPZHTIg1",
        "colab": {
          "base_uri": "https://localhost:8080/"
        },
        "outputId": "b6979543-a33e-42cf-c9a6-9184192ebcab"
      },
      "execution_count": 412,
      "outputs": [
        {
          "output_type": "stream",
          "name": "stdout",
          "text": [
            "[]\n"
          ]
        }
      ]
    },
    {
      "cell_type": "code",
      "source": [
        "explore_reviews_csv_query = \"\"\"\n",
        "MERGE (cwedata:Extended_Descriptions {runtime:2992})\n",
        "MERGE (Entities:Entities {rawName:\"Interesting\"})\n",
        "MERGE (cwedata)-[:HAS_ENTITY]->(Entities)\n",
        "\n",
        "\"\"\"\n",
        "result = conn.query(explore_reviews_csv_query)\n",
        "print(result)"
      ],
      "metadata": {
        "id": "ugJMY1PRTIQ9",
        "colab": {
          "base_uri": "https://localhost:8080/"
        },
        "outputId": "e01e8d7d-c734-45a5-ea0a-784d8c8fd2fc"
      },
      "execution_count": 413,
      "outputs": [
        {
          "output_type": "stream",
          "name": "stdout",
          "text": [
            "[]\n"
          ]
        }
      ]
    },
    {
      "cell_type": "code",
      "source": [
        "explore_reviews_csv_query = \"\"\"\n",
        "MERGE (cwedata:Extended_Descriptions {runtime:2992})\n",
        "MERGE (Entities:Entities {rawName:\"privileges\"})\n",
        "MERGE (cwedata)-[:HAS_ENTITY]->(Entities)\n",
        "\n",
        "\"\"\"\n",
        "result = conn.query(explore_reviews_csv_query)\n",
        "print(result)"
      ],
      "metadata": {
        "id": "W4uq-1m-TQNu",
        "colab": {
          "base_uri": "https://localhost:8080/"
        },
        "outputId": "7d26b530-7dfd-433a-f020-a096c1444acd"
      },
      "execution_count": 414,
      "outputs": [
        {
          "output_type": "stream",
          "name": "stdout",
          "text": [
            "[]\n"
          ]
        }
      ]
    },
    {
      "cell_type": "code",
      "source": [
        "explore_reviews_csv_query = \"\"\"\n",
        "MERGE (cwedata:Extended_Descriptions {runtime:2992})\n",
        "MERGE (Entities:Entities {rawName:\"sensitive data\"})\n",
        "MERGE (cwedata)-[:HAS_ENTITY]->(Entities)\n",
        "\n",
        "\"\"\"\n",
        "result = conn.query(explore_reviews_csv_query)\n",
        "print(result)"
      ],
      "metadata": {
        "id": "QYbyY26pTQEz",
        "colab": {
          "base_uri": "https://localhost:8080/"
        },
        "outputId": "51f30df7-5290-4386-ca56-4328794b2e74"
      },
      "execution_count": 415,
      "outputs": [
        {
          "output_type": "stream",
          "name": "stdout",
          "text": [
            "[]\n"
          ]
        }
      ]
    },
    {
      "cell_type": "code",
      "source": [
        "explore_reviews_csv_query = \"\"\"\n",
        "MERGE (cwedata:Extended_Descriptions {runtime:2992})\n",
        "MERGE (Entities:Entities {rawName:\"privileged\"})\n",
        "MERGE (cwedata)-[:HAS_ENTITY]->(Entities)\n",
        "\n",
        "\"\"\"\n",
        "result = conn.query(explore_reviews_csv_query)\n",
        "print(result)"
      ],
      "metadata": {
        "id": "GArvDet8TP8m",
        "colab": {
          "base_uri": "https://localhost:8080/"
        },
        "outputId": "046f5aff-0868-49cb-bda9-95b4d08d648a"
      },
      "execution_count": 416,
      "outputs": [
        {
          "output_type": "stream",
          "name": "stdout",
          "text": [
            "[]\n"
          ]
        }
      ]
    },
    {
      "cell_type": "code",
      "source": [
        "explore_reviews_csv_query = \"\"\"\n",
        "MERGE (cwedata:Extended_Descriptions {runtime:2992})\n",
        "MERGE (Entities:Entities {rawName:\"gain access\"})\n",
        "MERGE (cwedata)-[:HAS_ENTITY]->(Entities)\n",
        "\n",
        "\"\"\"\n",
        "result = conn.query(explore_reviews_csv_query)\n",
        "print(result)"
      ],
      "metadata": {
        "id": "xzuOnfXRTP1q",
        "colab": {
          "base_uri": "https://localhost:8080/"
        },
        "outputId": "1838a338-97c4-41d7-dc7e-df73439c9ed5"
      },
      "execution_count": 417,
      "outputs": [
        {
          "output_type": "stream",
          "name": "stdout",
          "text": [
            "[]\n"
          ]
        }
      ]
    },
    {
      "cell_type": "code",
      "source": [
        "explore_reviews_csv_query = \"\"\"\n",
        "MERGE (cwedata:Extended_Descriptions {runtime:2992})\n",
        "MERGE (Entities:Entities {rawName:\"log message\"})\n",
        "MERGE (cwedata)-[:HAS_ENTITY]->(Entities)\n",
        "\n",
        "\"\"\"\n",
        "result = conn.query(explore_reviews_csv_query)\n",
        "print(result)"
      ],
      "metadata": {
        "id": "vSab3cl0TPns",
        "colab": {
          "base_uri": "https://localhost:8080/"
        },
        "outputId": "f1aa45d1-0ff0-4096-b815-d7c018117cc3"
      },
      "execution_count": 418,
      "outputs": [
        {
          "output_type": "stream",
          "name": "stdout",
          "text": [
            "[]\n"
          ]
        }
      ]
    },
    {
      "cell_type": "code",
      "source": [
        "explore_reviews_csv_query = \"\"\"\n",
        "MERGE (cwedata:Extended_Descriptions {runtime:2992})\n",
        "MERGE (Entities:Entities {rawName:\"logs\"})\n",
        "MERGE (cwedata)-[:HAS_ENTITY]->(Entities)\n",
        "\n",
        "\"\"\"\n",
        "result = conn.query(explore_reviews_csv_query)\n",
        "print(result)"
      ],
      "metadata": {
        "id": "ExuCOQE1TPg0",
        "colab": {
          "base_uri": "https://localhost:8080/"
        },
        "outputId": "df2e79eb-1994-4d8b-9a4e-3ee3e9e43286"
      },
      "execution_count": 419,
      "outputs": [
        {
          "output_type": "stream",
          "name": "stdout",
          "text": [
            "[]\n"
          ]
        }
      ]
    },
    {
      "cell_type": "code",
      "source": [
        "explore_reviews_csv_query = \"\"\"\n",
        "MERGE (cwedata:Extended_Descriptions {runtime:2992})\n",
        "MERGE (Entities:Entities {rawName:\"Type 0\"})\n",
        "MERGE (cwedata)-[:HAS_ENTITY]->(Entities)\n",
        "\n",
        "\"\"\"\n",
        "result = conn.query(explore_reviews_csv_query)\n",
        "print(result)"
      ],
      "metadata": {
        "id": "ntb6O28tTPVT",
        "colab": {
          "base_uri": "https://localhost:8080/"
        },
        "outputId": "c86634b6-21cd-4da2-fd7c-3c53d9eab9bb"
      },
      "execution_count": 420,
      "outputs": [
        {
          "output_type": "stream",
          "name": "stdout",
          "text": [
            "[]\n"
          ]
        }
      ]
    },
    {
      "cell_type": "code",
      "source": [
        "explore_reviews_csv_query = \"\"\"\n",
        "MERGE (cwedata:Extended_Descriptions {runtime:2992})\n",
        "MERGE (Entities:Entities {rawName:\"DOM\"})\n",
        "MERGE (cwedata)-[:HAS_ENTITY]->(Entities)\n",
        "\n",
        "\"\"\"\n",
        "result = conn.query(explore_reviews_csv_query)\n",
        "print(result)"
      ],
      "metadata": {
        "id": "b6nJN1SPTPCz",
        "colab": {
          "base_uri": "https://localhost:8080/"
        },
        "outputId": "e4922cc0-3c8f-4ed1-e2d5-ab16f4fb104c"
      },
      "execution_count": 421,
      "outputs": [
        {
          "output_type": "stream",
          "name": "stdout",
          "text": [
            "[]\n"
          ]
        }
      ]
    },
    {
      "cell_type": "code",
      "source": [
        "explore_reviews_csv_query = \"\"\"\n",
        "MERGE (cwedata:Extended_Descriptions {runtime:2992})\n",
        "MERGE (Entities:Entities {rawName:\"Based\"})\n",
        "MERGE (cwedata)-[:HAS_ENTITY]->(Entities)\n",
        "\n",
        "\"\"\"\n",
        "result = conn.query(explore_reviews_csv_query)\n",
        "print(result)"
      ],
      "metadata": {
        "id": "GiBJxL-pTO6b",
        "colab": {
          "base_uri": "https://localhost:8080/"
        },
        "outputId": "3a1bf2c1-9157-4454-a1c3-757abdc9c396"
      },
      "execution_count": 422,
      "outputs": [
        {
          "output_type": "stream",
          "name": "stdout",
          "text": [
            "[]\n"
          ]
        }
      ]
    },
    {
      "cell_type": "code",
      "source": [
        "explore_reviews_csv_query = \"\"\"\n",
        "MERGE (cwedata:Extended_Descriptions {runtime:2992})\n",
        "MERGE (Entities:Entities {rawName:\"performs\"})\n",
        "MERGE (cwedata)-[:HAS_ENTITY]->(Entities)\n",
        "\n",
        "\"\"\"\n",
        "result = conn.query(explore_reviews_csv_query)\n",
        "print(result)"
      ],
      "metadata": {
        "id": "JV58Xwv3X4oU",
        "colab": {
          "base_uri": "https://localhost:8080/"
        },
        "outputId": "df5f3ee5-6cca-4c16-89b3-97fc09df7670"
      },
      "execution_count": 423,
      "outputs": [
        {
          "output_type": "stream",
          "name": "stdout",
          "text": [
            "[]\n"
          ]
        }
      ]
    },
    {
      "cell_type": "code",
      "source": [
        "explore_reviews_csv_query = \"\"\"\n",
        "MERGE (cwedata:Extended_Descriptions {runtime:2992})\n",
        "MERGE (Entities:Entities {rawName:\"injection\"})\n",
        "MERGE (cwedata)-[:HAS_ENTITY]->(Entities)\n",
        "\n",
        "\"\"\"\n",
        "result = conn.query(explore_reviews_csv_query)\n",
        "print(result)"
      ],
      "metadata": {
        "id": "pkhMx5ngX4fN",
        "colab": {
          "base_uri": "https://localhost:8080/"
        },
        "outputId": "88045e57-e76d-435e-cea4-193844bd663b"
      },
      "execution_count": 424,
      "outputs": [
        {
          "output_type": "stream",
          "name": "stdout",
          "text": [
            "[]\n"
          ]
        }
      ]
    },
    {
      "cell_type": "code",
      "source": [
        "explore_reviews_csv_query = \"\"\"\n",
        "MERGE (cwedata:Extended_Descriptions {runtime:2992})\n",
        "MERGE (Entities:Entities {rawName:\"Javascript\"})\n",
        "MERGE (cwedata)-[:HAS_ENTITY]->(Entities)\n",
        "\n",
        "\"\"\"\n",
        "result = conn.query(explore_reviews_csv_query)\n",
        "print(result)"
      ],
      "metadata": {
        "id": "LcR27UhwX4WJ",
        "colab": {
          "base_uri": "https://localhost:8080/"
        },
        "outputId": "7427f1ec-7313-4310-adeb-392222e5f8a1"
      },
      "execution_count": 425,
      "outputs": [
        {
          "output_type": "stream",
          "name": "stdout",
          "text": [
            "[]\n"
          ]
        }
      ]
    },
    {
      "cell_type": "code",
      "source": [
        "explore_reviews_csv_query = \"\"\"\n",
        "MERGE (cwedata:Extended_Descriptions {runtime:2992})\n",
        "MERGE (Entities:Entities {rawName:\"sanity\"})\n",
        "MERGE (cwedata)-[:HAS_ENTITY]->(Entities)\n",
        "\n",
        "\"\"\"\n",
        "result = conn.query(explore_reviews_csv_query)\n",
        "print(result)"
      ],
      "metadata": {
        "id": "Bn7OlSaxX4NQ",
        "colab": {
          "base_uri": "https://localhost:8080/"
        },
        "outputId": "8fda2905-a7db-45f8-ec49-7ffc6aede56d"
      },
      "execution_count": 426,
      "outputs": [
        {
          "output_type": "stream",
          "name": "stdout",
          "text": [
            "[]\n"
          ]
        }
      ]
    },
    {
      "cell_type": "code",
      "source": [
        "explore_reviews_csv_query = \"\"\"\n",
        "MERGE (cwedata:Extended_Descriptions {runtime:2992})\n",
        "MERGE (Entities:Entities {rawName:\"injects\"})\n",
        "MERGE (cwedata)-[:HAS_ENTITY]->(Entities)\n",
        "\n",
        "\"\"\"\n",
        "result = conn.query(explore_reviews_csv_query)\n",
        "print(result)"
      ],
      "metadata": {
        "id": "uJK71QtoX4EM",
        "colab": {
          "base_uri": "https://localhost:8080/"
        },
        "outputId": "599cbb5e-1883-4b55-893d-340006d7c167"
      },
      "execution_count": 427,
      "outputs": [
        {
          "output_type": "stream",
          "name": "stdout",
          "text": [
            "[]\n"
          ]
        }
      ]
    },
    {
      "cell_type": "code",
      "source": [
        "explore_reviews_csv_query = \"\"\"\n",
        "MERGE (cwedata:Extended_Descriptions {runtime:2992})\n",
        "MERGE (Entities:Entities {rawName:\"dynamic HTML\"})\n",
        "MERGE (cwedata)-[:HAS_ENTITY]->(Entities)\n",
        "\n",
        "\"\"\"\n",
        "result = conn.query(explore_reviews_csv_query)\n",
        "print(result)"
      ],
      "metadata": {
        "id": "uRbrgsnfX37M",
        "colab": {
          "base_uri": "https://localhost:8080/"
        },
        "outputId": "2f0c3d24-73ac-4bd8-d4da-da2b69780d48"
      },
      "execution_count": 428,
      "outputs": [
        {
          "output_type": "stream",
          "name": "stdout",
          "text": [
            "[]\n"
          ]
        }
      ]
    },
    {
      "cell_type": "code",
      "source": [
        "explore_reviews_csv_query = \"\"\"\n",
        "MERGE (cwedata:Extended_Descriptions {runtime:2992})\n",
        "MERGE (Entities:Entities {rawName:\"private information\"})\n",
        "MERGE (cwedata)-[:HAS_ENTITY]->(Entities)\n",
        "\n",
        "\"\"\"\n",
        "result = conn.query(explore_reviews_csv_query)\n",
        "print(result)"
      ],
      "metadata": {
        "id": "n9qgHjxzX3e_",
        "colab": {
          "base_uri": "https://localhost:8080/"
        },
        "outputId": "c46136e5-29d2-4453-8d84-00febf084357"
      },
      "execution_count": 429,
      "outputs": [
        {
          "output_type": "stream",
          "name": "stdout",
          "text": [
            "[]\n"
          ]
        }
      ]
    },
    {
      "cell_type": "code",
      "source": [
        "explore_reviews_csv_query = \"\"\"\n",
        "MERGE (cwedata:Extended_Descriptions {runtime:2992})\n",
        "MERGE (Entities:Entities {rawName:\"web site\"})\n",
        "MERGE (cwedata)-[:HAS_ENTITY]->(Entities)\n",
        "\n",
        "\"\"\"\n",
        "result = conn.query(explore_reviews_csv_query)\n",
        "print(result)"
      ],
      "metadata": {
        "id": "Jm6oAOh5X3WG",
        "colab": {
          "base_uri": "https://localhost:8080/"
        },
        "outputId": "f58a2d81-aa34-449d-ff1b-7a16a3c1a8d7"
      },
      "execution_count": 430,
      "outputs": [
        {
          "output_type": "stream",
          "name": "stdout",
          "text": [
            "[]\n"
          ]
        }
      ]
    },
    {
      "cell_type": "code",
      "source": [
        "explore_reviews_csv_query = \"\"\"\n",
        "MERGE (cwedata:Extended_Descriptions {runtime:2992})\n",
        "MERGE (Entities:Entities {rawName:\"administrator privileges\"})\n",
        "MERGE (cwedata)-[:HAS_ENTITY]->(Entities)\n",
        "\n",
        "\"\"\"\n",
        "result = conn.query(explore_reviews_csv_query)\n",
        "print(result)"
      ],
      "metadata": {
        "id": "59g45ZzOX3NA",
        "colab": {
          "base_uri": "https://localhost:8080/"
        },
        "outputId": "ee7e79fa-2f14-40c4-ec53-2fb91313b523"
      },
      "execution_count": 431,
      "outputs": [
        {
          "output_type": "stream",
          "name": "stdout",
          "text": [
            "[]\n"
          ]
        }
      ]
    },
    {
      "cell_type": "code",
      "source": [
        "explore_reviews_csv_query = \"\"\"\n",
        "MERGE (cwedata:Extended_Descriptions {runtime:2992})\n",
        "MERGE (Entities:Entities {rawName:\"Phishing attacks\"})\n",
        "MERGE (cwedata)-[:HAS_ENTITY]->(Entities)\n",
        "\n",
        "\"\"\"\n",
        "result = conn.query(explore_reviews_csv_query)\n",
        "print(result)"
      ],
      "metadata": {
        "id": "QKFvaGEIYFaF",
        "colab": {
          "base_uri": "https://localhost:8080/"
        },
        "outputId": "d77c0103-ec81-4a25-e7be-5b97ac97a049"
      },
      "execution_count": 432,
      "outputs": [
        {
          "output_type": "stream",
          "name": "stdout",
          "text": [
            "[]\n"
          ]
        }
      ]
    },
    {
      "cell_type": "code",
      "source": [
        "explore_reviews_csv_query = \"\"\"\n",
        "MERGE (cwedata:Extended_Descriptions {runtime:2992})\n",
        "MERGE (Entities:Entities {rawName:\"emulate\"})\n",
        "MERGE (cwedata)-[:HAS_ENTITY]->(Entities)\n",
        "\n",
        "\"\"\"\n",
        "result = conn.query(explore_reviews_csv_query)\n",
        "print(result)"
      ],
      "metadata": {
        "id": "vqPT8clcYFP-",
        "colab": {
          "base_uri": "https://localhost:8080/"
        },
        "outputId": "6490ed56-0f5f-4f6b-919e-cb1fede4d2fe"
      },
      "execution_count": 433,
      "outputs": [
        {
          "output_type": "stream",
          "name": "stdout",
          "text": [
            "[]\n"
          ]
        }
      ]
    },
    {
      "cell_type": "code",
      "source": [
        "explore_reviews_csv_query = \"\"\"\n",
        "MERGE (cwedata:Extended_Descriptions {runtime:2992})\n",
        "MERGE (Entities:Entities {rawName:\"web sites\"})\n",
        "MERGE (cwedata)-[:HAS_ENTITY]->(Entities)\n",
        "\n",
        "\"\"\"\n",
        "result = conn.query(explore_reviews_csv_query)\n",
        "print(result)"
      ],
      "metadata": {
        "id": "wWKUTpzgYFF-",
        "colab": {
          "base_uri": "https://localhost:8080/"
        },
        "outputId": "774a69fc-5f25-4a9b-b678-12df8cb75080"
      },
      "execution_count": 434,
      "outputs": [
        {
          "output_type": "stream",
          "name": "stdout",
          "text": [
            "[]\n"
          ]
        }
      ]
    },
    {
      "cell_type": "code",
      "source": [
        "explore_reviews_csv_query = \"\"\"\n",
        "MERGE (cwedata:Extended_Descriptions {runtime:2992})\n",
        "MERGE (Entities:Entities {rawName:\"Finally\"})\n",
        "MERGE (cwedata)-[:HAS_ENTITY]->(Entities)\n",
        "\n",
        "\"\"\"\n",
        "result = conn.query(explore_reviews_csv_query)\n",
        "print(result)"
      ],
      "metadata": {
        "id": "S3zNzeHdYEyT",
        "colab": {
          "base_uri": "https://localhost:8080/"
        },
        "outputId": "fb19c406-945e-453d-c720-6f340a37493d"
      },
      "execution_count": 435,
      "outputs": [
        {
          "output_type": "stream",
          "name": "stdout",
          "text": [
            "[]\n"
          ]
        }
      ]
    },
    {
      "cell_type": "code",
      "source": [
        "explore_reviews_csv_query = \"\"\"\n",
        "MERGE (cwedata:Extended_Descriptions {runtime:2992})\n",
        "MERGE (Entities:Entities {rawName:\"exploit\"})\n",
        "MERGE (cwedata)-[:HAS_ENTITY]->(Entities)\n",
        "\n",
        "\"\"\"\n",
        "result = conn.query(explore_reviews_csv_query)\n",
        "print(result)"
      ],
      "metadata": {
        "id": "xGgazzaDYEor",
        "colab": {
          "base_uri": "https://localhost:8080/"
        },
        "outputId": "870c54c5-5404-4e64-d16c-26b26187448e"
      },
      "execution_count": 436,
      "outputs": [
        {
          "output_type": "stream",
          "name": "stdout",
          "text": [
            "[]\n"
          ]
        }
      ]
    },
    {
      "cell_type": "code",
      "source": [
        "explore_reviews_csv_query = \"\"\"\n",
        "MERGE (cwedata:Extended_Descriptions {runtime:2992})\n",
        "MERGE (Entities:Entities {rawName:\"vulnerability\"})\n",
        "MERGE (cwedata)-[:HAS_ENTITY]->(Entities)\n",
        "\n",
        "\"\"\"\n",
        "result = conn.query(explore_reviews_csv_query)\n",
        "print(result)"
      ],
      "metadata": {
        "id": "obUcNvicYEfA",
        "colab": {
          "base_uri": "https://localhost:8080/"
        },
        "outputId": "d613bf2d-558a-449d-ca35-26de304e3450"
      },
      "execution_count": 437,
      "outputs": [
        {
          "output_type": "stream",
          "name": "stdout",
          "text": [
            "[]\n"
          ]
        }
      ]
    },
    {
      "cell_type": "code",
      "source": [
        "explore_reviews_csv_query = \"\"\"\n",
        "MERGE (cwedata:Extended_Descriptions {runtime:2992})\n",
        "MERGE (Entities:Entities {rawName:\"drive-by\"})\n",
        "MERGE (cwedata)-[:HAS_ENTITY]->(Entities)\n",
        "\n",
        "\"\"\"\n",
        "result = conn.query(explore_reviews_csv_query)\n",
        "print(result)"
      ],
      "metadata": {
        "id": "RTYoj2KGYEVL",
        "colab": {
          "base_uri": "https://localhost:8080/"
        },
        "outputId": "6ee1e51a-2147-44a0-e89e-18cb9ef2110c"
      },
      "execution_count": 438,
      "outputs": [
        {
          "output_type": "stream",
          "name": "stdout",
          "text": [
            "[]\n"
          ]
        }
      ]
    },
    {
      "cell_type": "code",
      "source": [
        "explore_reviews_csv_query = \"\"\"\n",
        "MERGE (cwedata:Extended_Descriptions {runtime:2992})\n",
        "MERGE (Entities:Entities {rawName:\"hacking\"})\n",
        "MERGE (cwedata)-[:HAS_ENTITY]->(Entities)\n",
        "\n",
        "\"\"\"\n",
        "result = conn.query(explore_reviews_csv_query)\n",
        "print(result)"
      ],
      "metadata": {
        "id": "PHNu4lnnYECa",
        "colab": {
          "base_uri": "https://localhost:8080/"
        },
        "outputId": "b35448a2-5cbd-417e-d6f9-b02c756ad5c9"
      },
      "execution_count": 439,
      "outputs": [
        {
          "output_type": "stream",
          "name": "stdout",
          "text": [
            "[]\n"
          ]
        }
      ]
    },
    {
      "cell_type": "code",
      "source": [
        "explore_reviews_csv_query = \"\"\"\n",
        "MERGE (cwedata:Extended_Descriptions {runtime:2992})\n",
        "MERGE (Entities:Entities {rawName:\"attackers\"})\n",
        "MERGE (cwedata)-[:HAS_ENTITY]->(Entities)\n",
        "\n",
        "\"\"\"\n",
        "result = conn.query(explore_reviews_csv_query)\n",
        "print(result)"
      ],
      "metadata": {
        "id": "QT3hOtHsYD40",
        "colab": {
          "base_uri": "https://localhost:8080/"
        },
        "outputId": "a164fd26-366e-46ed-f686-7396468c7579"
      },
      "execution_count": 440,
      "outputs": [
        {
          "output_type": "stream",
          "name": "stdout",
          "text": [
            "[]\n"
          ]
        }
      ]
    },
    {
      "cell_type": "code",
      "source": [
        "explore_reviews_csv_query = \"\"\"\n",
        "MERGE (cwedata:Extended_Descriptions {runtime:2992})\n",
        "MERGE (Entities:Entities {rawName:\"variety of methods\"})\n",
        "MERGE (cwedata)-[:HAS_ENTITY]->(Entities)\n",
        "\n",
        "\"\"\"\n",
        "result = conn.query(explore_reviews_csv_query)\n",
        "print(result)"
      ],
      "metadata": {
        "id": "jT3Kbpz0Z2Z7",
        "colab": {
          "base_uri": "https://localhost:8080/"
        },
        "outputId": "22ca8dab-dd11-487f-a289-288090ba3dcb"
      },
      "execution_count": 441,
      "outputs": [
        {
          "output_type": "stream",
          "name": "stdout",
          "text": [
            "[]\n"
          ]
        }
      ]
    },
    {
      "cell_type": "code",
      "source": [
        "explore_reviews_csv_query = \"\"\"\n",
        "MERGE (cwedata:Extended_Descriptions {runtime:2992})\n",
        "MERGE (Entities:Entities {rawName:\"encode\"})\n",
        "MERGE (cwedata)-[:HAS_ENTITY]->(Entities)\n",
        "\n",
        "\"\"\"\n",
        "result = conn.query(explore_reviews_csv_query)\n",
        "print(result)"
      ],
      "metadata": {
        "id": "Imm3EoEHZ2FE",
        "colab": {
          "base_uri": "https://localhost:8080/"
        },
        "outputId": "09b692c2-f1a3-4bc2-8217-1043ec706e85"
      },
      "execution_count": 442,
      "outputs": [
        {
          "output_type": "stream",
          "name": "stdout",
          "text": [
            "[]\n"
          ]
        }
      ]
    },
    {
      "cell_type": "code",
      "source": [
        "explore_reviews_csv_query = \"\"\"\n",
        "MERGE (cwedata:Extended_Descriptions {runtime:2992})\n",
        "MERGE (Entities:Entities {rawName:\"URL encoding\"})\n",
        "MERGE (cwedata)-[:HAS_ENTITY]->(Entities)\n",
        "\n",
        "\"\"\"\n",
        "result = conn.query(explore_reviews_csv_query)\n",
        "print(result)"
      ],
      "metadata": {
        "id": "fo4IJcg8Z1t_",
        "colab": {
          "base_uri": "https://localhost:8080/"
        },
        "outputId": "39e132b6-c383-43a3-900c-ee189ae4823c"
      },
      "execution_count": 443,
      "outputs": [
        {
          "output_type": "stream",
          "name": "stdout",
          "text": [
            "[]\n"
          ]
        }
      ]
    },
    {
      "cell_type": "code",
      "source": [
        "explore_reviews_csv_query = \"\"\"\n",
        "MERGE (cwedata:Extended_Descriptions {runtime:2992})\n",
        "MERGE (Entities:Entities {rawName:\"Unicode\"})\n",
        "MERGE (cwedata)-[:HAS_ENTITY]->(Entities)\n",
        "\n",
        "\"\"\"\n",
        "result = conn.query(explore_reviews_csv_query)\n",
        "print(result)"
      ],
      "metadata": {
        "id": "XDWUOPZfZ1Ws",
        "colab": {
          "base_uri": "https://localhost:8080/"
        },
        "outputId": "7b7421b3-3857-4f55-efda-e77571102b7e"
      },
      "execution_count": 444,
      "outputs": [
        {
          "output_type": "stream",
          "name": "stdout",
          "text": [
            "[]\n"
          ]
        }
      ]
    },
    {
      "cell_type": "code",
      "source": [
        "explore_reviews_csv_query = \"\"\"\n",
        "MERGE (cwedata:Extended_Descriptions {runtime:2992})\n",
        "MERGE (Entities:Entities {rawName:\"submits\"})\n",
        "MERGE (cwedata)-[:HAS_ENTITY]->(Entities)\n",
        "\n",
        "\"\"\"\n",
        "result = conn.query(explore_reviews_csv_query)\n",
        "print(result)"
      ],
      "metadata": {
        "id": "uipuN-NGaXml",
        "colab": {
          "base_uri": "https://localhost:8080/"
        },
        "outputId": "55917477-cf3b-489e-e48d-3130f78e60fe"
      },
      "execution_count": 445,
      "outputs": [
        {
          "output_type": "stream",
          "name": "stdout",
          "text": [
            "[]\n"
          ]
        }
      ]
    },
    {
      "cell_type": "code",
      "source": [
        "explore_reviews_csv_query = \"\"\"\n",
        "MERGE (cwedata:Extended_Descriptions {runtime:2992})\n",
        "MERGE (Entities:Entities {rawName:\"executable\"})\n",
        "MERGE (cwedata)-[:HAS_ENTITY]->(Entities)\n",
        "\n",
        "\"\"\"\n",
        "result = conn.query(explore_reviews_csv_query)\n",
        "print(result)"
      ],
      "metadata": {
        "id": "TemT9-v5aXOn",
        "colab": {
          "base_uri": "https://localhost:8080/"
        },
        "outputId": "de4de2ff-fbdf-48b7-f26d-0690a652dd55"
      },
      "execution_count": 446,
      "outputs": [
        {
          "output_type": "stream",
          "name": "stdout",
          "text": [
            "[]\n"
          ]
        }
      ]
    },
    {
      "cell_type": "code",
      "source": [
        "explore_reviews_csv_query = \"\"\"\n",
        "MERGE (cwedata:Extended_Descriptions {runtime:2992})\n",
        "MERGE (Entities:Entities {rawName:\"untrusted\"})\n",
        "MERGE (cwedata)-[:HAS_ENTITY]->(Entities)\n",
        "\n",
        "\"\"\"\n",
        "result = conn.query(explore_reviews_csv_query)\n",
        "print(result)"
      ],
      "metadata": {
        "id": "BwKV3J10aWxz",
        "colab": {
          "base_uri": "https://localhost:8080/"
        },
        "outputId": "7332874b-103d-4cb1-86d5-018b46729ce3"
      },
      "execution_count": 447,
      "outputs": [
        {
          "output_type": "stream",
          "name": "stdout",
          "text": [
            "[]\n"
          ]
        }
      ]
    },
    {
      "cell_type": "code",
      "source": [
        "explore_reviews_csv_query = \"\"\"\n",
        "MERGE (cwe:CWE {cwe_id:\"89\"})\n",
        "MERGE (cwedata:Extended_Descriptions {runtime:691})\n",
        "MERGE (cwe)-[:MAPPED_WITH]->(cwedata)\n",
        "MERGE (cwedata)-[:HAS_GLOBAL_CATEGORY{weight:0.019997397708562056,source:\"wikipedia-en\",category:\"Data-centric programming languages\",page_id:925067}]->(cwe)\n",
        "MERGE (cwedata)-[:HAS_GLOBAL_CATEGORY{weight:0.009998698833835067,source:\"wikipedia-en\",category:\"1984 in comics\",page_id:17718412}]->(cwe)\n",
        "MERGE (cwedata)-[:HAS_GLOBAL_CATEGORY{weight:0.009998698833835067,source:\"wikipedia-en\",category:\"Command and control\",page_id:13460558}]->(cwe)\n",
        "\n",
        "\"\"\"\n",
        "result = conn.query(explore_reviews_csv_query)\n",
        "print(result)"
      ],
      "metadata": {
        "id": "7L81EhCOqj60",
        "colab": {
          "base_uri": "https://localhost:8080/"
        },
        "outputId": "e9efaf17-c21c-4829-8e43-8332921487c3"
      },
      "execution_count": 448,
      "outputs": [
        {
          "output_type": "stream",
          "name": "stdout",
          "text": [
            "[]\n"
          ]
        }
      ]
    },
    {
      "cell_type": "code",
      "source": [
        "explore_reviews_csv_query = \"\"\"\n",
        "CALL apoc.load.json(\"https://raw.githubusercontent.com/neostrange/CveParse/main/Extended_Descriptions.json\", null, {failOnError:false})\n",
        "YIELD value\n",
        "WITH value  AS data\n",
        "WITH data\n",
        "UNWIND data.Extended_Descriptions[1].CWE.entities as Entities\n",
        "MERGE (entities:Entities{rawName:Entities.`rawName`})\n",
        "  SET \n",
        "   entities.offsetStart = Entities.offsetStart,\n",
        "   entities.offsetEnd = Entities.offsetEnd,\n",
        "   entities.confidence_score = Entities.confidence_score,\n",
        "   entities.wikipediaExternalRef = Entities.wikipediaExternalRef\n",
        "\n",
        "\"\"\"\n",
        "result = conn.query(explore_reviews_csv_query)\n",
        "print(result)"
      ],
      "metadata": {
        "id": "b88zBe-oHdR9",
        "colab": {
          "base_uri": "https://localhost:8080/"
        },
        "outputId": "f4a369c1-cc4d-46a7-9348-e86ee5d58e27"
      },
      "execution_count": 449,
      "outputs": [
        {
          "output_type": "stream",
          "name": "stdout",
          "text": [
            "[]\n"
          ]
        }
      ]
    },
    {
      "cell_type": "code",
      "source": [
        "explore_reviews_csv_query = \"\"\"\n",
        "MERGE (cwedata:Extended_Descriptions {runtime:691})\n",
        "MERGE (Entities: Entities {rawName:\"quoting\"})\n",
        "MERGE (cwedata)-[:HAS_ENTITY]->(Entities)\n",
        "\n",
        "\"\"\"\n",
        "result = conn.query(explore_reviews_csv_query)\n",
        "print(result)"
      ],
      "metadata": {
        "id": "bPEACnsCaxvT",
        "colab": {
          "base_uri": "https://localhost:8080/"
        },
        "outputId": "2db49f06-53a8-4877-f4c2-3fa3af7ba725"
      },
      "execution_count": 450,
      "outputs": [
        {
          "output_type": "stream",
          "name": "stdout",
          "text": [
            "[]\n"
          ]
        }
      ]
    },
    {
      "cell_type": "code",
      "source": [
        "explore_reviews_csv_query = \"\"\"\n",
        "MERGE (cwedata:Extended_Descriptions {runtime:691})\n",
        "MERGE (Entities:Entities {rawName:\"SQL syntax\"})\n",
        "MERGE (cwedata)-[:HAS_ENTITY]->(Entities)\n",
        "\n",
        "\"\"\"\n",
        "result = conn.query(explore_reviews_csv_query)\n",
        "print(result)"
      ],
      "metadata": {
        "id": "P1-o_IWua8r7",
        "colab": {
          "base_uri": "https://localhost:8080/"
        },
        "outputId": "e1af74da-5bad-4c2d-b2f2-b2b8c1ed1af5"
      },
      "execution_count": 451,
      "outputs": [
        {
          "output_type": "stream",
          "name": "stdout",
          "text": [
            "[]\n"
          ]
        }
      ]
    },
    {
      "cell_type": "code",
      "source": [
        "explore_reviews_csv_query = \"\"\"\n",
        "MERGE (cwedata:Extended_Descriptions {runtime:691})\n",
        "MERGE (Entities:Entities {rawName:\"controllable\"})\n",
        "MERGE (cwedata)-[:HAS_ENTITY]->(Entities)\n",
        "\n",
        "\"\"\"\n",
        "result = conn.query(explore_reviews_csv_query)\n",
        "print(result)"
      ],
      "metadata": {
        "id": "FULjeSALa8Ud",
        "colab": {
          "base_uri": "https://localhost:8080/"
        },
        "outputId": "c6a325d5-4d7e-4ff3-899c-d9f42f3844d2"
      },
      "execution_count": 452,
      "outputs": [
        {
          "output_type": "stream",
          "name": "stdout",
          "text": [
            "[]\n"
          ]
        }
      ]
    },
    {
      "cell_type": "code",
      "source": [
        "explore_reviews_csv_query = \"\"\"\n",
        "MERGE (cwedata:Extended_Descriptions {runtime:691})\n",
        "MERGE (Entities:Entities {rawName: \"inputs\"})\n",
        "MERGE (cwedata)-[:HAS_ENTITY]->(Entities)\n",
        "\n",
        "\"\"\"\n",
        "result = conn.query(explore_reviews_csv_query)\n",
        "print(result)"
      ],
      "metadata": {
        "id": "5xRKxCPda78P",
        "colab": {
          "base_uri": "https://localhost:8080/"
        },
        "outputId": "8c8b24d9-290a-4443-ef41-60284c7b3af8"
      },
      "execution_count": 453,
      "outputs": [
        {
          "output_type": "stream",
          "name": "stdout",
          "text": [
            "[]\n"
          ]
        }
      ]
    },
    {
      "cell_type": "code",
      "source": [
        "explore_reviews_csv_query = \"\"\"\n",
        "MERGE (cwedata:Extended_Descriptions {runtime:691})\n",
        "MERGE (Entities:Entities {rawName: \"SQL query\"})\n",
        "MERGE (cwedata)-[:HAS_ENTITY]->(Entities)\n",
        "\n",
        "\"\"\"\n",
        "result = conn.query(explore_reviews_csv_query)\n",
        "print(result)"
      ],
      "metadata": {
        "id": "gTR_Tvb7a6zs",
        "colab": {
          "base_uri": "https://localhost:8080/"
        },
        "outputId": "c6e47fbd-dc88-413e-d6a5-3108df6f1cb9"
      },
      "execution_count": 454,
      "outputs": [
        {
          "output_type": "stream",
          "name": "stdout",
          "text": [
            "[]\n"
          ]
        }
      ]
    },
    {
      "cell_type": "code",
      "source": [
        "explore_reviews_csv_query = \"\"\"\n",
        "MERGE (cwedata:Extended_Descriptions {runtime:691})\n",
        "MERGE (Entities:Entities {rawName: \"interpreted\"})\n",
        "MERGE (cwedata)-[:HAS_ENTITY]->(Entities)\n",
        "\n",
        "\"\"\"\n",
        "result = conn.query(explore_reviews_csv_query)\n",
        "print(result)"
      ],
      "metadata": {
        "id": "s2gMEoP-a6l3",
        "colab": {
          "base_uri": "https://localhost:8080/"
        },
        "outputId": "a5a993f0-71f9-47ec-829c-a1b7b0886fb1"
      },
      "execution_count": 455,
      "outputs": [
        {
          "output_type": "stream",
          "name": "stdout",
          "text": [
            "[]\n"
          ]
        }
      ]
    },
    {
      "cell_type": "code",
      "source": [
        "explore_reviews_csv_query = \"\"\"\n",
        "MERGE (cwedata:Extended_Descriptions {runtime:691})\n",
        "MERGE (Entities:Entities {rawName: \"SQL\"})\n",
        "MERGE (cwedata)-[:HAS_ENTITY]->(Entities)\n",
        "\n",
        "\"\"\"\n",
        "result = conn.query(explore_reviews_csv_query)\n",
        "print(result)"
      ],
      "metadata": {
        "id": "LflKi3N2a6YD",
        "colab": {
          "base_uri": "https://localhost:8080/"
        },
        "outputId": "13db371c-6dc2-4c6c-b6bd-eaebc2e9b117"
      },
      "execution_count": 456,
      "outputs": [
        {
          "output_type": "stream",
          "name": "stdout",
          "text": [
            "[]\n"
          ]
        }
      ]
    },
    {
      "cell_type": "code",
      "source": [
        "explore_reviews_csv_query = \"\"\"\n",
        "MERGE (cwedata:Extended_Descriptions {runtime:691})\n",
        "MERGE (Entities:Entities {rawName: \"user data\"})\n",
        "MERGE (cwedata)-[:HAS_ENTITY]->(Entities)\n",
        "\n",
        "\"\"\"\n",
        "result = conn.query(explore_reviews_csv_query)\n",
        "print(result)"
      ],
      "metadata": {
        "id": "txN-xxFBa6J4",
        "colab": {
          "base_uri": "https://localhost:8080/"
        },
        "outputId": "35040602-af6e-4b42-f0f9-e3b3d3c04885"
      },
      "execution_count": 457,
      "outputs": [
        {
          "output_type": "stream",
          "name": "stdout",
          "text": [
            "[]\n"
          ]
        }
      ]
    },
    {
      "cell_type": "code",
      "source": [
        "explore_reviews_csv_query = \"\"\"\n",
        "MERGE (cwedata:Extended_Descriptions {runtime:691})\n",
        "MERGE (Entities:Entities {rawName: \"query\"})\n",
        "MERGE (cwedata)-[:HAS_ENTITY]->(Entities)\n",
        "\n",
        "\"\"\"\n",
        "result = conn.query(explore_reviews_csv_query)\n",
        "print(result)"
      ],
      "metadata": {
        "id": "mWHdeVRXa5x2",
        "colab": {
          "base_uri": "https://localhost:8080/"
        },
        "outputId": "a7fcad5d-167e-4a48-9bd9-31a1ce112f19"
      },
      "execution_count": 458,
      "outputs": [
        {
          "output_type": "stream",
          "name": "stdout",
          "text": [
            "[]\n"
          ]
        }
      ]
    },
    {
      "cell_type": "code",
      "source": [
        "explore_reviews_csv_query = \"\"\"\n",
        "MERGE (cwedata:Extended_Descriptions {runtime:691})\n",
        "MERGE (Entities:Entities {rawName: \"bypass\"})\n",
        "MERGE (cwedata)-[:HAS_ENTITY]->(Entities)\n",
        "\n",
        "\"\"\"\n",
        "result = conn.query(explore_reviews_csv_query)\n",
        "print(result)"
      ],
      "metadata": {
        "id": "L4Cbn54Wa5j-",
        "colab": {
          "base_uri": "https://localhost:8080/"
        },
        "outputId": "243a2dba-b323-4844-c6a2-25a7ff931944"
      },
      "execution_count": 459,
      "outputs": [
        {
          "output_type": "stream",
          "name": "stdout",
          "text": [
            "[]\n"
          ]
        }
      ]
    },
    {
      "cell_type": "code",
      "source": [
        "explore_reviews_csv_query = \"\"\"\n",
        "MERGE (cwedata:Extended_Descriptions {runtime:691})\n",
        "MERGE (Entities:Entities {rawName: \"security checks\"})\n",
        "MERGE (cwedata)-[:HAS_ENTITY]->(Entities)\n",
        "\n",
        "\"\"\"\n",
        "result = conn.query(explore_reviews_csv_query)\n",
        "print(result)"
      ],
      "metadata": {
        "id": "PLIaYsOBa5V_",
        "colab": {
          "base_uri": "https://localhost:8080/"
        },
        "outputId": "a00c94a3-b083-4640-a4dd-16435447cd23"
      },
      "execution_count": 460,
      "outputs": [
        {
          "output_type": "stream",
          "name": "stdout",
          "text": [
            "[]\n"
          ]
        }
      ]
    },
    {
      "cell_type": "code",
      "source": [
        "explore_reviews_csv_query = \"\"\"\n",
        "MERGE (cwedata:Extended_Descriptions {runtime:691})\n",
        "MERGE (Entities:Entities {rawName: \"insert\"})\n",
        "MERGE (cwedata)-[:HAS_ENTITY]->(Entities)\n",
        "\n",
        "\"\"\"\n",
        "result = conn.query(explore_reviews_csv_query)\n",
        "print(result)"
      ],
      "metadata": {
        "id": "RfpOt2vgYUmU",
        "colab": {
          "base_uri": "https://localhost:8080/"
        },
        "outputId": "9f27fbe0-92a0-4d05-c055-133177174b0a"
      },
      "execution_count": 461,
      "outputs": [
        {
          "output_type": "stream",
          "name": "stdout",
          "text": [
            "[]\n"
          ]
        }
      ]
    },
    {
      "cell_type": "code",
      "source": [
        "explore_reviews_csv_query = \"\"\"\n",
        "MERGE (cwedata:Extended_Descriptions {runtime:691})\n",
        "MERGE (Entities:Entities {rawName: \"modify\"})\n",
        "MERGE (cwedata)-[:HAS_ENTITY]->(Entities)\n",
        "\n",
        "\"\"\"\n",
        "result = conn.query(explore_reviews_csv_query)\n",
        "print(result)"
      ],
      "metadata": {
        "id": "HBbEWUl1YUf3",
        "colab": {
          "base_uri": "https://localhost:8080/"
        },
        "outputId": "19908af8-7881-4d2c-d987-143cd817f9c4"
      },
      "execution_count": 462,
      "outputs": [
        {
          "output_type": "stream",
          "name": "stdout",
          "text": [
            "[]\n"
          ]
        }
      ]
    },
    {
      "cell_type": "code",
      "source": [
        "explore_reviews_csv_query = \"\"\"\n",
        "MERGE (cwedata:Extended_Descriptions {runtime:691})\n",
        "MERGE (Entities:Entities {rawName: \"back-end database\"})\n",
        "MERGE (cwedata)-[:HAS_ENTITY]->(Entities)\n",
        "\n",
        "\"\"\"\n",
        "result = conn.query(explore_reviews_csv_query)\n",
        "print(result)"
      ],
      "metadata": {
        "id": "Ln7F82zjYUYY",
        "colab": {
          "base_uri": "https://localhost:8080/"
        },
        "outputId": "cbf17e1e-447f-4dbf-e0d3-6e7b208f3dd6"
      },
      "execution_count": 463,
      "outputs": [
        {
          "output_type": "stream",
          "name": "stdout",
          "text": [
            "[]\n"
          ]
        }
      ]
    },
    {
      "cell_type": "code",
      "source": [
        "explore_reviews_csv_query = \"\"\"\n",
        "MERGE (cwedata:Extended_Descriptions {runtime:691})\n",
        "MERGE (Entities:Entities {rawName: \"commands\"})\n",
        "MERGE (cwedata)-[:HAS_ENTITY]->(Entities)\n",
        "\n",
        "\"\"\"\n",
        "result = conn.query(explore_reviews_csv_query)\n",
        "print(result)"
      ],
      "metadata": {
        "id": "QMFMevCFYUQg",
        "colab": {
          "base_uri": "https://localhost:8080/"
        },
        "outputId": "62a95bae-90ce-4218-c653-6c3c955a4913"
      },
      "execution_count": 464,
      "outputs": [
        {
          "output_type": "stream",
          "name": "stdout",
          "text": [
            "[]\n"
          ]
        }
      ]
    },
    {
      "cell_type": "code",
      "source": [
        "explore_reviews_csv_query = \"\"\"\n",
        "MERGE (cwedata:Extended_Descriptions {runtime:691})\n",
        "MERGE (Entities:Entities {rawName: \"SQL injection\"})\n",
        "MERGE (cwedata)-[:HAS_ENTITY]->(Entities)\n",
        "\n",
        "\"\"\"\n",
        "result = conn.query(explore_reviews_csv_query)\n",
        "print(result)"
      ],
      "metadata": {
        "id": "t0Jeu1SdYUH_",
        "colab": {
          "base_uri": "https://localhost:8080/"
        },
        "outputId": "e8ee4d1c-f7ac-40fc-9856-0c7f8853a440"
      },
      "execution_count": 465,
      "outputs": [
        {
          "output_type": "stream",
          "name": "stdout",
          "text": [
            "[]\n"
          ]
        }
      ]
    },
    {
      "cell_type": "code",
      "source": [
        "explore_reviews_csv_query = \"\"\"\n",
        "MERGE (cwedata:Extended_Descriptions {runtime:691})\n",
        "MERGE (Entities:Entities {rawName: \"database-driven\"})\n",
        "MERGE (cwedata)-[:HAS_ENTITY]->(Entities)\n",
        "\n",
        "\"\"\"\n",
        "result = conn.query(explore_reviews_csv_query)\n",
        "print(result)"
      ],
      "metadata": {
        "id": "9H_0ss1TYT_g",
        "colab": {
          "base_uri": "https://localhost:8080/"
        },
        "outputId": "270ea8d0-2e52-4c3a-d664-3f55c680ca7f"
      },
      "execution_count": 466,
      "outputs": [
        {
          "output_type": "stream",
          "name": "stdout",
          "text": [
            "[]\n"
          ]
        }
      ]
    },
    {
      "cell_type": "code",
      "source": [
        "explore_reviews_csv_query = \"\"\"\n",
        "MERGE (cwedata:Extended_Descriptions {runtime:691})\n",
        "MERGE (Entities:Entities {rawName: \"web sites\"})\n",
        "MERGE (cwedata)-[:HAS_ENTITY]->(Entities)\n",
        "\n",
        "\"\"\"\n",
        "result = conn.query(explore_reviews_csv_query)\n",
        "print(result)"
      ],
      "metadata": {
        "id": "NPhir1DHYT15",
        "colab": {
          "base_uri": "https://localhost:8080/"
        },
        "outputId": "a7e9e89c-d44e-4d68-d867-c26fb0c87292"
      },
      "execution_count": 467,
      "outputs": [
        {
          "output_type": "stream",
          "name": "stdout",
          "text": [
            "[]\n"
          ]
        }
      ]
    },
    {
      "cell_type": "code",
      "source": [
        "explore_reviews_csv_query = \"\"\"\n",
        "MERGE (cwedata:Extended_Descriptions {runtime:691})\n",
        "MERGE (Entities:Entities {rawName: \"flaw\"})\n",
        "MERGE (cwedata)-[:HAS_ENTITY]->(Entities)\n",
        "\n",
        "\"\"\"\n",
        "result = conn.query(explore_reviews_csv_query)\n",
        "print(result)"
      ],
      "metadata": {
        "id": "e4CxeljFYjgU",
        "colab": {
          "base_uri": "https://localhost:8080/"
        },
        "outputId": "dddbc933-b396-4c82-aeb0-f35867a21be2"
      },
      "execution_count": 468,
      "outputs": [
        {
          "output_type": "stream",
          "name": "stdout",
          "text": [
            "[]\n"
          ]
        }
      ]
    },
    {
      "cell_type": "code",
      "source": [
        "explore_reviews_csv_query = \"\"\"\n",
        "MERGE (cwedata:Extended_Descriptions {runtime:691})\n",
        "MERGE (Entities:Entities {rawName: \"exploited\"})\n",
        "MERGE (cwedata)-[:HAS_ENTITY]->(Entities)\n",
        "\n",
        "\"\"\"\n",
        "result = conn.query(explore_reviews_csv_query)\n",
        "print(result)"
      ],
      "metadata": {
        "id": "WmZiJhOXYko2",
        "colab": {
          "base_uri": "https://localhost:8080/"
        },
        "outputId": "59a775a8-1751-4b35-b082-25cbcbde4b44"
      },
      "execution_count": 469,
      "outputs": [
        {
          "output_type": "stream",
          "name": "stdout",
          "text": [
            "[]\n"
          ]
        }
      ]
    },
    {
      "cell_type": "code",
      "source": [
        "explore_reviews_csv_query = \"\"\"\n",
        "MERGE (cwedata:Extended_Descriptions {runtime:691})\n",
        "MERGE (Entities:Entities {rawName: \"software package\"})\n",
        "MERGE (cwedata)-[:HAS_ENTITY]->(Entities)\n",
        "\n",
        "\"\"\"\n",
        "result = conn.query(explore_reviews_csv_query)\n",
        "print(result)"
      ],
      "metadata": {
        "id": "GKD9yXs6YjNy",
        "colab": {
          "base_uri": "https://localhost:8080/"
        },
        "outputId": "2a6d79e3-841f-4f4f-8330-0956698be45e"
      },
      "execution_count": 470,
      "outputs": [
        {
          "output_type": "stream",
          "name": "stdout",
          "text": [
            "[]\n"
          ]
        }
      ]
    },
    {
      "cell_type": "code",
      "source": [
        "explore_reviews_csv_query = \"\"\"\n",
        "MERGE (cwedata:Extended_Descriptions {runtime:691})\n",
        "MERGE (Entities:Entities {rawName: \"user base\"})\n",
        "MERGE (cwedata)-[:HAS_ENTITY]->(Entities)\n",
        "\n",
        "\"\"\"\n",
        "result = conn.query(explore_reviews_csv_query)\n",
        "print(result)"
      ],
      "metadata": {
        "id": "DeF7lGrNYi93",
        "colab": {
          "base_uri": "https://localhost:8080/"
        },
        "outputId": "e1f560a8-de2f-478a-f463-c45bdd56f3ff"
      },
      "execution_count": 471,
      "outputs": [
        {
          "output_type": "stream",
          "name": "stdout",
          "text": [
            "[]\n"
          ]
        }
      ]
    },
    {
      "cell_type": "code",
      "source": [
        "explore_reviews_csv_query = \"\"\"\n",
        "MERGE (cwe:CWE {cwe_id:\"94\"})\n",
        "MERGE (cwedata:Extended_Descriptions {runtime:833})\n",
        "MERGE (cwe)-[:MAPPED_WITH]->(cwedata)\n",
        "MERGE (cwedata)-[:HAS_GLOBAL_CATEGORY{weight:0.0901926432383948,source:\"wikipedia-en\",category:\"Computer security exploits\",page_id:22272764}]->(cwe)\n",
        "MERGE (cwedata)-[:HAS_GLOBAL_CATEGORY{weight:0.06764448218898413,source:\"wikipedia-en\",category:\"Hacking (computer security)\",page_id:11647669}]->(cwe)\n",
        "MERGE (cwedata)-[:HAS_GLOBAL_CATEGORY{weight:0.022548160729661378,source:\"wikipedia-en\",category:\"Programming language topics\",page_id:5699671}]->(cwe)\n",
        "MERGE (cwedata)-[:HAS_GLOBAL_CATEGORY{weight:0.022548160729661378,source:\"wikipedia-en\",category:\"Illegal occupations\",page_id:1005451}]->(cwe)\n",
        "\n",
        "\"\"\"\n",
        "result = conn.query(explore_reviews_csv_query)\n",
        "print(result)"
      ],
      "metadata": {
        "id": "PkhWIl3tqnoG",
        "colab": {
          "base_uri": "https://localhost:8080/"
        },
        "outputId": "b603e1da-dba4-44bf-9e47-c7f87c2abfb0"
      },
      "execution_count": 472,
      "outputs": [
        {
          "output_type": "stream",
          "name": "stdout",
          "text": [
            "[]\n"
          ]
        }
      ]
    },
    {
      "cell_type": "code",
      "source": [
        "explore_reviews_csv_query = \"\"\"\n",
        "CALL apoc.load.json(\"https://raw.githubusercontent.com/neostrange/CveParse/main/Extended_Descriptions.json\", null, {failOnError:false})\n",
        "YIELD value\n",
        "WITH value  AS data\n",
        "WITH data\n",
        "UNWIND data.Extended_Descriptions[2].CWE.entities as Entities\n",
        "MERGE (entities:Entities{rawName:Entities.`rawName`})\n",
        "  SET \n",
        "   entities.offsetStart = Entities.offsetStart,\n",
        "   entities.offsetEnd = Entities.offsetEnd,\n",
        "   entities.confidence_score = Entities.confidence_score,\n",
        "   entities.wikipediaExternalRef = Entities.wikipediaExternalRef\n",
        "\n",
        "\"\"\"\n",
        "result = conn.query(explore_reviews_csv_query)\n",
        "print(result)"
      ],
      "metadata": {
        "id": "5p7fR7f9IUuc",
        "colab": {
          "base_uri": "https://localhost:8080/"
        },
        "outputId": "27129330-bf52-46c0-82b2-24354a34d8f5"
      },
      "execution_count": 473,
      "outputs": [
        {
          "output_type": "stream",
          "name": "stdout",
          "text": [
            "[]\n"
          ]
        }
      ]
    },
    {
      "cell_type": "code",
      "source": [
        "explore_reviews_csv_query = \"\"\"\n",
        "MERGE (cwedata:Extended_Descriptions {runtime: 833})\n",
        "MERGE (Entities:Entities {rawName: \"syntax\"})\n",
        "MERGE (cwedata)-[:HAS_ENTITY]->(Entities)\n",
        "\n",
        "\"\"\"\n",
        "result = conn.query(explore_reviews_csv_query)\n",
        "print(result)"
      ],
      "metadata": {
        "id": "GdLpeHbgbQPT",
        "colab": {
          "base_uri": "https://localhost:8080/"
        },
        "outputId": "9dc9aca0-0267-4639-f7ce-31093797bee9"
      },
      "execution_count": 474,
      "outputs": [
        {
          "output_type": "stream",
          "name": "stdout",
          "text": [
            "[]\n"
          ]
        }
      ]
    },
    {
      "cell_type": "code",
      "source": [
        "explore_reviews_csv_query = \"\"\"\n",
        "MERGE (cwedata:Extended_Descriptions {runtime: 833})\n",
        "MERGE (Entities:Entities {rawName: \"attacker\"})\n",
        "MERGE (cwedata)-[:HAS_ENTITY]->(Entities)\n",
        "\n",
        "\"\"\"\n",
        "result = conn.query(explore_reviews_csv_query)\n",
        "print(result)"
      ],
      "metadata": {
        "id": "YQbTFcRWbSRv",
        "colab": {
          "base_uri": "https://localhost:8080/"
        },
        "outputId": "31ad3513-c92d-4084-c8c4-7896e448ed71"
      },
      "execution_count": 475,
      "outputs": [
        {
          "output_type": "stream",
          "name": "stdout",
          "text": [
            "[]\n"
          ]
        }
      ]
    },
    {
      "cell_type": "code",
      "source": [
        "explore_reviews_csv_query = \"\"\"\n",
        "MERGE (cwedata:Extended_Descriptions {runtime: 833})\n",
        "MERGE (Entities:Entities {rawName: \"control flow\"})\n",
        "MERGE (cwedata)-[:HAS_ENTITY]->(Entities)\n",
        "\n",
        "\"\"\"\n",
        "result = conn.query(explore_reviews_csv_query)\n",
        "print(result)"
      ],
      "metadata": {
        "id": "LUjBZi75bR08",
        "colab": {
          "base_uri": "https://localhost:8080/"
        },
        "outputId": "bd9c1e87-4898-4ac9-c49d-794ce96b3d7b"
      },
      "execution_count": 476,
      "outputs": [
        {
          "output_type": "stream",
          "name": "stdout",
          "text": [
            "[]\n"
          ]
        }
      ]
    },
    {
      "cell_type": "code",
      "source": [
        "explore_reviews_csv_query = \"\"\"\n",
        "MERGE (cwedata:Extended_Descriptions {runtime: 833})\n",
        "MERGE (Entities:Entities {rawName: \"alteration\"})\n",
        "MERGE (cwedata)-[:HAS_ENTITY]->(Entities)\n",
        "\n",
        "\"\"\"\n",
        "result = conn.query(explore_reviews_csv_query)\n",
        "print(result)"
      ],
      "metadata": {
        "id": "CPVz-IYoijva",
        "colab": {
          "base_uri": "https://localhost:8080/"
        },
        "outputId": "110d460a-6f63-4e2c-e6df-0d66ec8f8d9b"
      },
      "execution_count": 477,
      "outputs": [
        {
          "output_type": "stream",
          "name": "stdout",
          "text": [
            "[]\n"
          ]
        }
      ]
    },
    {
      "cell_type": "code",
      "source": [
        "explore_reviews_csv_query = \"\"\"\n",
        "MERGE (cwedata:Extended_Descriptions {runtime: 833})\n",
        "MERGE (Entities:Entities {rawName: \"arbitrary code execution\"})\n",
        "MERGE (cwedata)-[:HAS_ENTITY]->(Entities)\n",
        "\n",
        "\"\"\"\n",
        "result = conn.query(explore_reviews_csv_query)\n",
        "print(result)"
      ],
      "metadata": {
        "id": "fa6GjVdAijsE",
        "colab": {
          "base_uri": "https://localhost:8080/"
        },
        "outputId": "ce964e46-7f04-47c7-e508-5aba76c30823"
      },
      "execution_count": 478,
      "outputs": [
        {
          "output_type": "stream",
          "name": "stdout",
          "text": [
            "[]\n"
          ]
        }
      ]
    },
    {
      "cell_type": "code",
      "source": [
        "explore_reviews_csv_query = \"\"\"\n",
        "MERGE (cwedata:Extended_Descriptions {runtime: 833})\n",
        "MERGE (Entities:Entities {rawName: \"Injection\"})\n",
        "MERGE (cwedata)-[:HAS_ENTITY]->(Entities)\n",
        "\n",
        "\"\"\"\n",
        "result = conn.query(explore_reviews_csv_query)\n",
        "print(result)"
      ],
      "metadata": {
        "id": "9mGZ5SmDijo-",
        "colab": {
          "base_uri": "https://localhost:8080/"
        },
        "outputId": "1abcddb7-f9b9-49b0-f85c-9d84f3e362e4"
      },
      "execution_count": 479,
      "outputs": [
        {
          "output_type": "stream",
          "name": "stdout",
          "text": [
            "[]\n"
          ]
        }
      ]
    },
    {
      "cell_type": "code",
      "source": [
        "explore_reviews_csv_query = \"\"\"\n",
        "MERGE (cwedata:Extended_Descriptions {runtime: 833})\n",
        "MERGE (Entities:Entities {rawName: \"wide variety\"})\n",
        "MERGE (cwedata)-[:HAS_ENTITY]->(Entities)\n",
        "\n",
        "\"\"\"\n",
        "result = conn.query(explore_reviews_csv_query)\n",
        "print(result)"
      ],
      "metadata": {
        "id": "esTBbvRaijmJ",
        "colab": {
          "base_uri": "https://localhost:8080/"
        },
        "outputId": "b3b9ad03-0808-4660-bbb0-b70a8890c54c"
      },
      "execution_count": 480,
      "outputs": [
        {
          "output_type": "stream",
          "name": "stdout",
          "text": [
            "[]\n"
          ]
        }
      ]
    },
    {
      "cell_type": "code",
      "source": [
        "explore_reviews_csv_query = \"\"\"\n",
        "MERGE (cwedata:Extended_Descriptions {runtime: 833})\n",
        "MERGE (Entities:Entities {rawName: \"mitigated\"})\n",
        "MERGE (cwedata)-[:HAS_ENTITY]->(Entities)\n",
        "\n",
        "\"\"\"\n",
        "result = conn.query(explore_reviews_csv_query)\n",
        "print(result)"
      ],
      "metadata": {
        "id": "7U9hs8VUijiz",
        "colab": {
          "base_uri": "https://localhost:8080/"
        },
        "outputId": "3d0f09d2-7f65-454d-d2a8-9bcdca952b49"
      },
      "execution_count": 481,
      "outputs": [
        {
          "output_type": "stream",
          "name": "stdout",
          "text": [
            "[]\n"
          ]
        }
      ]
    },
    {
      "cell_type": "code",
      "source": [
        "explore_reviews_csv_query = \"\"\"\n",
        "MERGE (cwedata:Extended_Descriptions {runtime: 833})\n",
        "MERGE (Entities:Entities {rawName: \"weaknesses\"})\n",
        "MERGE (cwedata)-[:HAS_ENTITY]->(Entities)\n",
        "\n",
        "\"\"\"\n",
        "result = conn.query(explore_reviews_csv_query)\n",
        "print(result)"
      ],
      "metadata": {
        "id": "HKiVd7DhijgI",
        "colab": {
          "base_uri": "https://localhost:8080/"
        },
        "outputId": "3de56201-8c70-45a9-d3db-a37ff694eb35"
      },
      "execution_count": 482,
      "outputs": [
        {
          "output_type": "stream",
          "name": "stdout",
          "text": [
            "[]\n"
          ]
        }
      ]
    },
    {
      "cell_type": "code",
      "source": [
        "explore_reviews_csv_query = \"\"\"\n",
        "MERGE (cwedata:Extended_Descriptions {runtime: 833})\n",
        "MERGE (Entities:Entities {rawName: \"classify\"})\n",
        "MERGE (cwedata)-[:HAS_ENTITY]->(Entities)\n",
        "\n",
        "\"\"\"\n",
        "result = conn.query(explore_reviews_csv_query)\n",
        "print(result)"
      ],
      "metadata": {
        "id": "qvnuconcijcu",
        "colab": {
          "base_uri": "https://localhost:8080/"
        },
        "outputId": "5a8a09d4-7119-4926-cb1e-7a4b3ee9ee36"
      },
      "execution_count": 483,
      "outputs": [
        {
          "output_type": "stream",
          "name": "stdout",
          "text": [
            "[]\n"
          ]
        }
      ]
    },
    {
      "cell_type": "code",
      "source": [
        "explore_reviews_csv_query = \"\"\"\n",
        "MERGE (cwedata:Extended_Descriptions {runtime: 833})\n",
        "MERGE (Entities:Entities {rawName: \"injection\"})\n",
        "MERGE (cwedata)-[:HAS_ENTITY]->(Entities)\n",
        "\n",
        "\"\"\"\n",
        "result = conn.query(explore_reviews_csv_query)\n",
        "print(result)"
      ],
      "metadata": {
        "id": "wA-y3JQgijX6",
        "colab": {
          "base_uri": "https://localhost:8080/"
        },
        "outputId": "f0ff7ede-7ef6-45b9-d8dc-8802f764e1a9"
      },
      "execution_count": 484,
      "outputs": [
        {
          "output_type": "stream",
          "name": "stdout",
          "text": [
            "[]\n"
          ]
        }
      ]
    },
    {
      "cell_type": "code",
      "source": [
        "explore_reviews_csv_query = \"\"\"\n",
        "MERGE (cwedata:Extended_Descriptions {runtime: 833})\n",
        "MERGE (Entities:Entities {rawName: \"control plane\"})\n",
        "MERGE (cwedata)-[:HAS_ENTITY]->(Entities)\n",
        "\n",
        "\"\"\"\n",
        "result = conn.query(explore_reviews_csv_query)\n",
        "print(result)"
      ],
      "metadata": {
        "id": "vFVgzkyeijVQ",
        "colab": {
          "base_uri": "https://localhost:8080/"
        },
        "outputId": "cf8f280e-fe51-4fc8-92f2-6d8f98fbb51a"
      },
      "execution_count": 485,
      "outputs": [
        {
          "output_type": "stream",
          "name": "stdout",
          "text": [
            "[]\n"
          ]
        }
      ]
    },
    {
      "cell_type": "code",
      "source": [
        "explore_reviews_csv_query = \"\"\"\n",
        "MERGE (cwedata:Extended_Descriptions {runtime: 833})\n",
        "MERGE (Entities:Entities {rawName: \"controlled data\"})\n",
        "MERGE (cwedata)-[:HAS_ENTITY]->(Entities)\n",
        "\n",
        "\"\"\"\n",
        "result = conn.query(explore_reviews_csv_query)\n",
        "print(result)"
      ],
      "metadata": {
        "id": "wwvew0ZIijSn",
        "colab": {
          "base_uri": "https://localhost:8080/"
        },
        "outputId": "c464a11a-f05f-4fcb-8b6a-d3d989d24dd5"
      },
      "execution_count": 486,
      "outputs": [
        {
          "output_type": "stream",
          "name": "stdout",
          "text": [
            "[]\n"
          ]
        }
      ]
    },
    {
      "cell_type": "code",
      "source": [
        "explore_reviews_csv_query = \"\"\"\n",
        "MERGE (cwedata:Extended_Descriptions {runtime: 833})\n",
        "MERGE (Entities:Entities {rawName: \"data channels\"})\n",
        "MERGE (cwedata)-[:HAS_ENTITY]->(Entities)\n",
        "\n",
        "\"\"\"\n",
        "result = conn.query(explore_reviews_csv_query)\n",
        "print(result)"
      ],
      "metadata": {
        "id": "kYx-6eSiijPV",
        "colab": {
          "base_uri": "https://localhost:8080/"
        },
        "outputId": "7f9b9d6a-dbb7-4f25-f7d6-b33d62e9a28f"
      },
      "execution_count": 487,
      "outputs": [
        {
          "output_type": "stream",
          "name": "stdout",
          "text": [
            "[]\n"
          ]
        }
      ]
    },
    {
      "cell_type": "code",
      "source": [
        "explore_reviews_csv_query = \"\"\"\n",
        "MERGE (cwedata:Extended_Descriptions {runtime: 833})\n",
        "MERGE (Entities:Entities {rawName: \"buffer overflows\"})\n",
        "MERGE (cwedata)-[:HAS_ENTITY]->(Entities)\n",
        "\n",
        "\"\"\"\n",
        "result = conn.query(explore_reviews_csv_query)\n",
        "print(result)"
      ],
      "metadata": {
        "id": "1OHqXds_ijMA",
        "colab": {
          "base_uri": "https://localhost:8080/"
        },
        "outputId": "5494f4c8-8436-4288-c4ba-6ed811719877"
      },
      "execution_count": 488,
      "outputs": [
        {
          "output_type": "stream",
          "name": "stdout",
          "text": [
            "[]\n"
          ]
        }
      ]
    },
    {
      "cell_type": "code",
      "source": [
        "explore_reviews_csv_query = \"\"\"\n",
        "MERGE (cwedata:Extended_Descriptions {runtime: 833})\n",
        "MERGE (Entities:Entities {rawName: \"flaws\"})\n",
        "MERGE (cwedata)-[:HAS_ENTITY]->(Entities)\n",
        "\n",
        "\"\"\"\n",
        "result = conn.query(explore_reviews_csv_query)\n",
        "print(result)"
      ],
      "metadata": {
        "id": "JDAiRDkVbRk8",
        "colab": {
          "base_uri": "https://localhost:8080/"
        },
        "outputId": "5d617178-417d-4a84-d059-2aca1a2ec5b0"
      },
      "execution_count": 489,
      "outputs": [
        {
          "output_type": "stream",
          "name": "stdout",
          "text": [
            "[]\n"
          ]
        }
      ]
    },
    {
      "cell_type": "code",
      "source": [
        "explore_reviews_csv_query = \"\"\"\n",
        "MERGE (cwedata:Extended_Descriptions {runtime: 833})\n",
        "MERGE (Entities:Entities {rawName: \"parsed\"})\n",
        "MERGE (cwedata)-[:HAS_ENTITY]->(Entities)\n",
        "\n",
        "\"\"\"\n",
        "result = conn.query(explore_reviews_csv_query)\n",
        "print(result)"
      ],
      "metadata": {
        "id": "FHLNbMk6lew2",
        "colab": {
          "base_uri": "https://localhost:8080/"
        },
        "outputId": "83fded37-6f8e-4c6d-a5ab-38225eba1a83"
      },
      "execution_count": 490,
      "outputs": [
        {
          "output_type": "stream",
          "name": "stdout",
          "text": [
            "[]\n"
          ]
        }
      ]
    },
    {
      "cell_type": "code",
      "source": [
        "explore_reviews_csv_query = \"\"\"\n",
        "MERGE (cwedata:Extended_Descriptions {runtime: 833})\n",
        "MERGE (Entities:Entities {rawName: \"instantiations\"})\n",
        "MERGE (cwedata)-[:HAS_ENTITY]->(Entities)\n",
        "\n",
        "\"\"\"\n",
        "result = conn.query(explore_reviews_csv_query)\n",
        "print(result)"
      ],
      "metadata": {
        "id": "Q8WqqdT3lmSD",
        "colab": {
          "base_uri": "https://localhost:8080/"
        },
        "outputId": "243b2f8a-7fa1-44a0-9019-492e7befe70d"
      },
      "execution_count": 491,
      "outputs": [
        {
          "output_type": "stream",
          "name": "stdout",
          "text": [
            "[]\n"
          ]
        }
      ]
    },
    {
      "cell_type": "code",
      "source": [
        "explore_reviews_csv_query = \"\"\"\n",
        "MERGE (cwedata:Extended_Descriptions {runtime: 833})\n",
        "MERGE (Entities:Entities {rawName: \"SQL injection\"})\n",
        "MERGE (cwedata)-[:HAS_ENTITY]->(Entities)\n",
        "\n",
        "\"\"\"\n",
        "result = conn.query(explore_reviews_csv_query)\n",
        "print(result)"
      ],
      "metadata": {
        "id": "_1IxmXG2lmDb",
        "colab": {
          "base_uri": "https://localhost:8080/"
        },
        "outputId": "d2c06f58-6ebf-4922-9181-7e9e9dd49c7e"
      },
      "execution_count": 492,
      "outputs": [
        {
          "output_type": "stream",
          "name": "stdout",
          "text": [
            "[]\n"
          ]
        }
      ]
    },
    {
      "cell_type": "code",
      "source": [
        "explore_reviews_csv_query = \"\"\"\n",
        "MERGE (cwedata:Extended_Descriptions {runtime: 833})\n",
        "MERGE (Entities:Entities {rawName: \"format string vulnerabilities\"})\n",
        "MERGE (cwedata)-[:HAS_ENTITY]->(Entities)\n",
        "\n",
        "\"\"\"\n",
        "result = conn.query(explore_reviews_csv_query)\n",
        "print(result)"
      ],
      "metadata": {
        "id": "7kxNzBnrll2X",
        "colab": {
          "base_uri": "https://localhost:8080/"
        },
        "outputId": "6c198d3d-c10e-4360-be55-3e0c6a4fc436"
      },
      "execution_count": 493,
      "outputs": [
        {
          "output_type": "stream",
          "name": "stdout",
          "text": [
            "[]\n"
          ]
        }
      ]
    },
    {
      "cell_type": "code",
      "source": [
        "explore_reviews_csv_query = \"\"\"\n",
        "MERGE (cwe:CWE {cwe_id:\"200\"})\n",
        "MERGE (cwedata:Extended_Descriptions {runtime:1302})\n",
        "MERGE (cwe)-[:MAPPED_WITH]->(cwedata)\n",
        "MERGE (cwedata)-[:HAS_GLOBAL_CATEGORY{weight:0.009935460988123061,source:\"wikipedia-en\",category:\"Medical manuals\",page_id:724491}]->(cwe)\n",
        "MERGE (cwedata)-[:HAS_GLOBAL_CATEGORY{weight:0.009935460988123061,source:\"wikipedia-en\",category:\"Construction\",page_id:755979}]->(cwe)\n",
        "MERGE (cwedata)-[:HAS_GLOBAL_CATEGORY{weight:0.009935460988123061,source:\"wikipedia-en\",category:\"File sharing\",page_id:802056}]->(cwe)\n",
        "\n",
        "\"\"\"\n",
        "result = conn.query(explore_reviews_csv_query)\n",
        "print(result)"
      ],
      "metadata": {
        "id": "x6kQFPSkqo2q",
        "colab": {
          "base_uri": "https://localhost:8080/"
        },
        "outputId": "889e39cc-905b-4d5d-e0a3-6d666bea6f79"
      },
      "execution_count": 494,
      "outputs": [
        {
          "output_type": "stream",
          "name": "stdout",
          "text": [
            "[]\n"
          ]
        }
      ]
    },
    {
      "cell_type": "code",
      "source": [
        "explore_reviews_csv_query = \"\"\"\n",
        "CALL apoc.load.json(\"https://raw.githubusercontent.com/neostrange/CveParse/main/Extended_Descriptions.json\", null, {failOnError:false})\n",
        "YIELD value\n",
        "WITH value  AS data\n",
        "WITH data\n",
        "UNWIND data.Extended_Descriptions[3].CWE.entities as Entities\n",
        "MERGE (entities:Entities{rawName:Entities.`rawName`})\n",
        "  SET \n",
        "   entities.offsetStart = Entities.offsetStart,\n",
        "   entities.offsetEnd = Entities.offsetEnd,\n",
        "   entities.confidence_score = Entities.confidence_score,\n",
        "   entities.wikipediaExternalRef = Entities.wikipediaExternalRef\n",
        "\n",
        "\"\"\"\n",
        "result = conn.query(explore_reviews_csv_query)\n",
        "print(result)"
      ],
      "metadata": {
        "id": "oC33BGS3IXRe",
        "colab": {
          "base_uri": "https://localhost:8080/"
        },
        "outputId": "1643848e-a858-4a39-e100-54cfd38804bc"
      },
      "execution_count": 495,
      "outputs": [
        {
          "output_type": "stream",
          "name": "stdout",
          "text": [
            "[]\n"
          ]
        }
      ]
    },
    {
      "cell_type": "code",
      "source": [
        "explore_reviews_csv_query = \"\"\"\n",
        "MERGE (cwedata:Extended_Descriptions {runtime: 1302})\n",
        "MERGE (Entities:Entities {rawName: \"exposures\"})\n",
        "MERGE (cwedata)-[:HAS_ENTITY]->(Entities)\n",
        "\n",
        "\"\"\"\n",
        "result = conn.query(explore_reviews_csv_query)\n",
        "print(result)"
      ],
      "metadata": {
        "id": "RyJp_yHxba7l",
        "colab": {
          "base_uri": "https://localhost:8080/"
        },
        "outputId": "8a3aea98-0eb1-4682-bd55-ca1e063e4101"
      },
      "execution_count": 496,
      "outputs": [
        {
          "output_type": "stream",
          "name": "stdout",
          "text": [
            "[]\n"
          ]
        }
      ]
    },
    {
      "cell_type": "code",
      "source": [
        "explore_reviews_csv_query = \"\"\"\n",
        "MERGE (cwedata:Extended_Descriptions {runtime: 1302})\n",
        "MERGE (Entities:Entities {rawName: \"severity\"})\n",
        "MERGE (cwedata)-[:HAS_ENTITY]->(Entities)\n",
        "\n",
        "\"\"\"\n",
        "result = conn.query(explore_reviews_csv_query)\n",
        "print(result)"
      ],
      "metadata": {
        "id": "_N-LpVIobaiI",
        "colab": {
          "base_uri": "https://localhost:8080/"
        },
        "outputId": "bd2ed11b-58d4-4ddd-e3fd-3b0e579a2900"
      },
      "execution_count": 497,
      "outputs": [
        {
          "output_type": "stream",
          "name": "stdout",
          "text": [
            "[]\n"
          ]
        }
      ]
    },
    {
      "cell_type": "code",
      "source": [
        "explore_reviews_csv_query = \"\"\"\n",
        "MERGE (cwedata:Extended_Descriptions {runtime: 1302})\n",
        "MERGE (Entities:Entities {rawName: \"sensitive information\"})\n",
        "MERGE (cwedata)-[:HAS_ENTITY]->(Entities)\n",
        "\n",
        "\"\"\"\n",
        "result = conn.query(explore_reviews_csv_query)\n",
        "print(result)"
      ],
      "metadata": {
        "id": "1hQ8eblqoe9M",
        "colab": {
          "base_uri": "https://localhost:8080/"
        },
        "outputId": "953adee5-2b7f-4297-f35a-e934bc807601"
      },
      "execution_count": 498,
      "outputs": [
        {
          "output_type": "stream",
          "name": "stdout",
          "text": [
            "[]\n"
          ]
        }
      ]
    },
    {
      "cell_type": "code",
      "source": [
        "explore_reviews_csv_query = \"\"\"\n",
        "MERGE (cwedata:Extended_Descriptions {runtime: 1302})\n",
        "MERGE (Entities:Entities {rawName: \"attacker\"})\n",
        "MERGE (cwedata)-[:HAS_ENTITY]->(Entities)\n",
        "\n",
        "\"\"\"\n",
        "result = conn.query(explore_reviews_csv_query)\n",
        "print(result)"
      ],
      "metadata": {
        "id": "cVIxBK7Eoe1t",
        "colab": {
          "base_uri": "https://localhost:8080/"
        },
        "outputId": "29abb7c1-3179-47e1-f554-84fa9c0c4d2d"
      },
      "execution_count": 499,
      "outputs": [
        {
          "output_type": "stream",
          "name": "stdout",
          "text": [
            "[]\n"
          ]
        }
      ]
    },
    {
      "cell_type": "code",
      "source": [
        "explore_reviews_csv_query = \"\"\"\n",
        "MERGE (cwedata:Extended_Descriptions {runtime: 1302})\n",
        "MERGE (Entities:Entities {rawName: \"personal information\"})\n",
        "MERGE (cwedata)-[:HAS_ENTITY]->(Entities)\n",
        "\n",
        "\"\"\"\n",
        "result = conn.query(explore_reviews_csv_query)\n",
        "print(result)"
      ],
      "metadata": {
        "id": "xC1II70eoe5V",
        "colab": {
          "base_uri": "https://localhost:8080/"
        },
        "outputId": "98271737-ff6f-4f9b-ba0a-317073e112a1"
      },
      "execution_count": 500,
      "outputs": [
        {
          "output_type": "stream",
          "name": "stdout",
          "text": [
            "[]\n"
          ]
        }
      ]
    },
    {
      "cell_type": "code",
      "source": [
        "explore_reviews_csv_query = \"\"\"\n",
        "MERGE (cwedata:Extended_Descriptions {runtime: 1302})\n",
        "MERGE (Entities:Entities {rawName: \"personal messages\"})\n",
        "MERGE (cwedata)-[:HAS_ENTITY]->(Entities)\n",
        "\n",
        "\"\"\"\n",
        "result = conn.query(explore_reviews_csv_query)\n",
        "print(result)"
      ],
      "metadata": {
        "id": "sjHoBtkvoexu",
        "colab": {
          "base_uri": "https://localhost:8080/"
        },
        "outputId": "d4ca2639-9b5e-4f58-e64d-0aadfeba32eb"
      },
      "execution_count": 501,
      "outputs": [
        {
          "output_type": "stream",
          "name": "stdout",
          "text": [
            "[]\n"
          ]
        }
      ]
    },
    {
      "cell_type": "code",
      "source": [
        "explore_reviews_csv_query = \"\"\"\n",
        "MERGE (cwedata:Extended_Descriptions {runtime: 1302})\n",
        "MERGE (Entities:Entities {rawName: \"financial data\"})\n",
        "MERGE (cwedata)-[:HAS_ENTITY]->(Entities)\n",
        "\n",
        "\"\"\"\n",
        "result = conn.query(explore_reviews_csv_query)\n",
        "print(result)"
      ],
      "metadata": {
        "id": "kElQ8kvLoeuR",
        "colab": {
          "base_uri": "https://localhost:8080/"
        },
        "outputId": "921a1e79-879c-479f-e7b0-7b5105036d23"
      },
      "execution_count": 502,
      "outputs": [
        {
          "output_type": "stream",
          "name": "stdout",
          "text": [
            "[]\n"
          ]
        }
      ]
    },
    {
      "cell_type": "code",
      "source": [
        "explore_reviews_csv_query = \"\"\"\n",
        "MERGE (cwedata:Extended_Descriptions {runtime: 1302})\n",
        "MERGE (Entities:Entities {rawName: \"health records\"})\n",
        "MERGE (cwedata)-[:HAS_ENTITY]->(Entities)\n",
        "\n",
        "\"\"\"\n",
        "result = conn.query(explore_reviews_csv_query)\n",
        "print(result)"
      ],
      "metadata": {
        "id": "-P-J86weoerH",
        "colab": {
          "base_uri": "https://localhost:8080/"
        },
        "outputId": "c7877852-7461-4cbe-d8ef-a8e29bfb2c53"
      },
      "execution_count": 503,
      "outputs": [
        {
          "output_type": "stream",
          "name": "stdout",
          "text": [
            "[]\n"
          ]
        }
      ]
    },
    {
      "cell_type": "code",
      "source": [
        "explore_reviews_csv_query = \"\"\"\n",
        "MERGE (cwedata:Extended_Descriptions {runtime: 1302})\n",
        "MERGE (Entities:Entities {rawName: \"geographic location\"})\n",
        "MERGE (cwedata)-[:HAS_ENTITY]->(Entities)\n",
        "\n",
        "\"\"\"\n",
        "result = conn.query(explore_reviews_csv_query)\n",
        "print(result)"
      ],
      "metadata": {
        "id": "s7sMokXyoen9",
        "colab": {
          "base_uri": "https://localhost:8080/"
        },
        "outputId": "c54e855a-9b34-48ad-bd81-86c017ccb2e0"
      },
      "execution_count": 504,
      "outputs": [
        {
          "output_type": "stream",
          "name": "stdout",
          "text": [
            "[]\n"
          ]
        }
      ]
    },
    {
      "cell_type": "code",
      "source": [
        "explore_reviews_csv_query = \"\"\"\n",
        "MERGE (cwedata:Extended_Descriptions {runtime: 1302})\n",
        "MERGE (Entities:Entities {rawName: \"contact details\"})\n",
        "MERGE (cwedata)-[:HAS_ENTITY]->(Entities)\n",
        "\n",
        "\"\"\"\n",
        "result = conn.query(explore_reviews_csv_query)\n",
        "print(result)"
      ],
      "metadata": {
        "id": "Sx7GCwZkoekk",
        "colab": {
          "base_uri": "https://localhost:8080/"
        },
        "outputId": "4659defe-b1fe-41c8-b47a-5750582d9321"
      },
      "execution_count": 505,
      "outputs": [
        {
          "output_type": "stream",
          "name": "stdout",
          "text": [
            "[]\n"
          ]
        }
      ]
    },
    {
      "cell_type": "code",
      "source": [
        "explore_reviews_csv_query = \"\"\"\n",
        "MERGE (cwedata:Extended_Descriptions {runtime: 1302})\n",
        "MERGE (Entities:Entities {rawName: \"packages\"})\n",
        "MERGE (cwedata)-[:HAS_ENTITY]->(Entities)\n",
        "\n",
        "\"\"\"\n",
        "result = conn.query(explore_reviews_csv_query)\n",
        "print(result)"
      ],
      "metadata": {
        "id": "1TDSVpjYoee4",
        "colab": {
          "base_uri": "https://localhost:8080/"
        },
        "outputId": "58bc4acd-fe50-43d2-efcc-8056f1b6c59c"
      },
      "execution_count": 506,
      "outputs": [
        {
          "output_type": "stream",
          "name": "stdout",
          "text": [
            "[]\n"
          ]
        }
      ]
    },
    {
      "cell_type": "code",
      "source": [
        "explore_reviews_csv_query = \"\"\"\n",
        "MERGE (cwedata:Extended_Descriptions {runtime: 1302})\n",
        "MERGE (Entities:Entities {rawName: \"intellectual property\"})\n",
        "MERGE (cwedata)-[:HAS_ENTITY]->(Entities)\n",
        "\n",
        "\"\"\"\n",
        "result = conn.query(explore_reviews_csv_query)\n",
        "print(result)"
      ],
      "metadata": {
        "id": "CFL2Tmtjoebs",
        "colab": {
          "base_uri": "https://localhost:8080/"
        },
        "outputId": "849571c0-291d-4f3f-996c-487b1da147c1"
      },
      "execution_count": 507,
      "outputs": [
        {
          "output_type": "stream",
          "name": "stdout",
          "text": [
            "[]\n"
          ]
        }
      ]
    },
    {
      "cell_type": "code",
      "source": [
        "explore_reviews_csv_query = \"\"\"\n",
        "MERGE (cwedata:Extended_Descriptions {runtime: 1302})\n",
        "MERGE (Entities:Entities {rawName: \"configuration\"})\n",
        "MERGE (cwedata)-[:HAS_ENTITY]->(Entities)\n",
        "\n",
        "\"\"\"\n",
        "result = conn.query(explore_reviews_csv_query)\n",
        "print(result)"
      ],
      "metadata": {
        "id": "AazvA0lToeVv",
        "colab": {
          "base_uri": "https://localhost:8080/"
        },
        "outputId": "b7991f55-c91a-4362-9745-77b9014a19fb"
      },
      "execution_count": 508,
      "outputs": [
        {
          "output_type": "stream",
          "name": "stdout",
          "text": [
            "[]\n"
          ]
        }
      ]
    },
    {
      "cell_type": "code",
      "source": [
        "explore_reviews_csv_query = \"\"\"\n",
        "MERGE (cwedata:Extended_Descriptions {runtime: 1302})\n",
        "MERGE (Entities:Entities {rawName: \"internal state\"})\n",
        "MERGE (cwedata)-[:HAS_ENTITY]->(Entities)\n",
        "\n",
        "\"\"\"\n",
        "result = conn.query(explore_reviews_csv_query)\n",
        "print(result)"
      ],
      "metadata": {
        "id": "mMTxkUAPoeSZ",
        "colab": {
          "base_uri": "https://localhost:8080/"
        },
        "outputId": "798bd1a1-3699-4e34-cbb9-e9bbcd2acdcf"
      },
      "execution_count": 509,
      "outputs": [
        {
          "output_type": "stream",
          "name": "stdout",
          "text": [
            "[]\n"
          ]
        }
      ]
    },
    {
      "cell_type": "code",
      "source": [
        "explore_reviews_csv_query = \"\"\"\n",
        "MERGE (cwedata:Extended_Descriptions {runtime: 1302})\n",
        "MERGE (Entities:Entities {rawName: \"metadata\"})\n",
        "MERGE (cwedata)-[:HAS_ENTITY]->(Entities)\n",
        "\n",
        "\"\"\"\n",
        "result = conn.query(explore_reviews_csv_query)\n",
        "print(result)"
      ],
      "metadata": {
        "id": "HxVs1oOXbaEJ",
        "colab": {
          "base_uri": "https://localhost:8080/"
        },
        "outputId": "90351d4d-2730-4c04-fda8-7099d8dfab99"
      },
      "execution_count": 510,
      "outputs": [
        {
          "output_type": "stream",
          "name": "stdout",
          "text": [
            "[]\n"
          ]
        }
      ]
    },
    {
      "cell_type": "code",
      "source": [
        "explore_reviews_csv_query = \"\"\"\n",
        "MERGE (cwedata:Extended_Descriptions {runtime: 1302})\n",
        "MERGE (Entities:Entities {rawName: \"logging\"})\n",
        "MERGE (cwedata)-[:HAS_ENTITY]->(Entities)\n",
        "\n",
        "\"\"\"\n",
        "result = conn.query(explore_reviews_csv_query)\n",
        "print(result)"
      ],
      "metadata": {
        "colab": {
          "base_uri": "https://localhost:8080/"
        },
        "id": "PLPHZQLp7MeG",
        "outputId": "493c9ff0-57cd-4613-8a5a-d21f96e12065"
      },
      "execution_count": 511,
      "outputs": [
        {
          "output_type": "stream",
          "name": "stdout",
          "text": [
            "[]\n"
          ]
        }
      ]
    },
    {
      "cell_type": "code",
      "source": [
        "explore_reviews_csv_query = \"\"\"\n",
        "MERGE (cwedata:Extended_Descriptions {runtime: 1302})\n",
        "MERGE (Entities:Entities {rawName: \"headers\"})\n",
        "MERGE (cwedata)-[:HAS_ENTITY]->(Entities)\n",
        "\n",
        "\"\"\"\n",
        "result = conn.query(explore_reviews_csv_query)\n",
        "print(result)"
      ],
      "metadata": {
        "colab": {
          "base_uri": "https://localhost:8080/"
        },
        "id": "YDB6cN7B7MTy",
        "outputId": "1cefefe1-ac3d-4c8c-aca1-e998d500dbd5"
      },
      "execution_count": 512,
      "outputs": [
        {
          "output_type": "stream",
          "name": "stdout",
          "text": [
            "[]\n"
          ]
        }
      ]
    },
    {
      "cell_type": "code",
      "source": [
        "explore_reviews_csv_query = \"\"\"\n",
        "MERGE (cwedata:Extended_Descriptions {runtime: 1302})\n",
        "MERGE (Entities:Entities {rawName: \"indirect\"})\n",
        "MERGE (cwedata)-[:HAS_ENTITY]->(Entities)\n",
        "\n",
        "\"\"\"\n",
        "result = conn.query(explore_reviews_csv_query)\n",
        "print(result)"
      ],
      "metadata": {
        "colab": {
          "base_uri": "https://localhost:8080/"
        },
        "id": "yniJxPEp7MJG",
        "outputId": "ff53d8c4-2444-4658-addb-ece8340f6756"
      },
      "execution_count": 513,
      "outputs": [
        {
          "output_type": "stream",
          "name": "stdout",
          "text": [
            "[]\n"
          ]
        }
      ]
    },
    {
      "cell_type": "code",
      "source": [
        "explore_reviews_csv_query = \"\"\"\n",
        "MERGE (cwedata:Extended_Descriptions {runtime: 1302})\n",
        "MERGE (Entities:Entities {rawName: \"discrepancy\"})\n",
        "MERGE (cwedata)-[:HAS_ENTITY]->(Entities)\n",
        "\n",
        "\"\"\"\n",
        "result = conn.query(explore_reviews_csv_query)\n",
        "print(result)"
      ],
      "metadata": {
        "colab": {
          "base_uri": "https://localhost:8080/"
        },
        "id": "CZTQOxt97MAF",
        "outputId": "69eee7c9-cd51-422d-a270-926883acf494"
      },
      "execution_count": 514,
      "outputs": [
        {
          "output_type": "stream",
          "name": "stdout",
          "text": [
            "[]\n"
          ]
        }
      ]
    },
    {
      "cell_type": "code",
      "source": [
        "explore_reviews_csv_query = \"\"\"\n",
        "MERGE (cwedata:Extended_Descriptions {runtime: 1302})\n",
        "MERGE (Entities:Entities {rawName: \"outsider\"})\n",
        "MERGE (cwedata)-[:HAS_ENTITY]->(Entities)\n",
        "\n",
        "\"\"\"\n",
        "result = conn.query(explore_reviews_csv_query)\n",
        "print(result)"
      ],
      "metadata": {
        "colab": {
          "base_uri": "https://localhost:8080/"
        },
        "id": "qoxDMgxh7L2Z",
        "outputId": "6d8c9e57-e9dc-46b7-f0f0-8bc82b0c4fbb"
      },
      "execution_count": 515,
      "outputs": [
        {
          "output_type": "stream",
          "name": "stdout",
          "text": [
            "[]\n"
          ]
        }
      ]
    },
    {
      "cell_type": "code",
      "source": [
        "explore_reviews_csv_query = \"\"\"\n",
        "MERGE (cwedata:Extended_Descriptions {runtime: 1302})\n",
        "MERGE (Entities:Entities {rawName: \"Information\"})\n",
        "MERGE (cwedata)-[:HAS_ENTITY]->(Entities)\n",
        "\n",
        "\"\"\"\n",
        "result = conn.query(explore_reviews_csv_query)\n",
        "print(result)"
      ],
      "metadata": {
        "colab": {
          "base_uri": "https://localhost:8080/"
        },
        "id": "ZnL0wU2f7LtM",
        "outputId": "fc5d82df-658b-49d5-bcc4-16952774693f"
      },
      "execution_count": 516,
      "outputs": [
        {
          "output_type": "stream",
          "name": "stdout",
          "text": [
            "[]\n"
          ]
        }
      ]
    },
    {
      "cell_type": "code",
      "source": [
        "explore_reviews_csv_query = \"\"\"\n",
        "MERGE (cwedata:Extended_Descriptions {runtime: 1302})\n",
        "MERGE (Entities:Entities {rawName: \"direct product\"})\n",
        "MERGE (cwedata)-[:HAS_ENTITY]->(Entities)\n",
        "\n",
        "\"\"\"\n",
        "result = conn.query(explore_reviews_csv_query)\n",
        "print(result)"
      ],
      "metadata": {
        "colab": {
          "base_uri": "https://localhost:8080/"
        },
        "id": "rN_WGsGs7LkQ",
        "outputId": "6c4a2852-68d8-4139-f270-4c713d997450"
      },
      "execution_count": 517,
      "outputs": [
        {
          "output_type": "stream",
          "name": "stdout",
          "text": [
            "[]\n"
          ]
        }
      ]
    },
    {
      "cell_type": "code",
      "source": [
        "explore_reviews_csv_query = \"\"\"\n",
        "MERGE (cwedata:Extended_Descriptions {runtime: 1302})\n",
        "MERGE (Entities:Entities {rawName: \"administrators\"})\n",
        "MERGE (cwedata)-[:HAS_ENTITY]->(Entities)\n",
        "\n",
        "\"\"\"\n",
        "result = conn.query(explore_reviews_csv_query)\n",
        "print(result)"
      ],
      "metadata": {
        "colab": {
          "base_uri": "https://localhost:8080/"
        },
        "id": "kmsseapt7LbB",
        "outputId": "78b1d636-4c8d-4269-d3f6-9e15580bf051"
      },
      "execution_count": 518,
      "outputs": [
        {
          "output_type": "stream",
          "name": "stdout",
          "text": [
            "[]\n"
          ]
        }
      ]
    },
    {
      "cell_type": "code",
      "source": [
        "explore_reviews_csv_query = \"\"\"\n",
        "MERGE (cwedata:Extended_Descriptions {runtime: 1302})\n",
        "MERGE (Entities:Entities {rawName: \"admins\"})\n",
        "MERGE (cwedata)-[:HAS_ENTITY]->(Entities)\n",
        "\n",
        "\"\"\"\n",
        "result = conn.query(explore_reviews_csv_query)\n",
        "print(result)"
      ],
      "metadata": {
        "colab": {
          "base_uri": "https://localhost:8080/"
        },
        "id": "CjOv-9Tw7LS8",
        "outputId": "ae3b45b6-43d0-41e5-da6e-4e55adb3a963"
      },
      "execution_count": 519,
      "outputs": [
        {
          "output_type": "stream",
          "name": "stdout",
          "text": [
            "[]\n"
          ]
        }
      ]
    },
    {
      "cell_type": "code",
      "source": [
        "explore_reviews_csv_query = \"\"\"\n",
        "MERGE (cwedata:Extended_Descriptions {runtime: 1302})\n",
        "MERGE (Entities:Entities {rawName: \"and/or\"})\n",
        "MERGE (cwedata)-[:HAS_ENTITY]->(Entities)\n",
        "\n",
        "\"\"\"\n",
        "result = conn.query(explore_reviews_csv_query)\n",
        "print(result)"
      ],
      "metadata": {
        "colab": {
          "base_uri": "https://localhost:8080/"
        },
        "id": "0GDSO-Iv7LKF",
        "outputId": "352b1305-54e5-4aca-cd1f-e22e7b99d1e2"
      },
      "execution_count": 520,
      "outputs": [
        {
          "output_type": "stream",
          "name": "stdout",
          "text": [
            "[]\n"
          ]
        }
      ]
    },
    {
      "cell_type": "code",
      "source": [
        "explore_reviews_csv_query = \"\"\"\n",
        "MERGE (cwedata:Extended_Descriptions {runtime: 1302})\n",
        "MERGE (Entities:Entities {rawName: \"explicitly\"})\n",
        "MERGE (cwedata)-[:HAS_ENTITY]->(Entities)\n",
        "\n",
        "\"\"\"\n",
        "result = conn.query(explore_reviews_csv_query)\n",
        "print(result)"
      ],
      "metadata": {
        "colab": {
          "base_uri": "https://localhost:8080/"
        },
        "id": "h846zxb-7LCo",
        "outputId": "43f9e4f4-c4f3-4f2b-9709-bd43586adb5d"
      },
      "execution_count": 521,
      "outputs": [
        {
          "output_type": "stream",
          "name": "stdout",
          "text": [
            "[]\n"
          ]
        }
      ]
    },
    {
      "cell_type": "code",
      "source": [
        "explore_reviews_csv_query = \"\"\"\n",
        "MERGE (cwedata:Extended_Descriptions {runtime: 1302})\n",
        "MERGE (Entities:Entities {rawName: \"inserts\"})\n",
        "MERGE (cwedata)-[:HAS_ENTITY]->(Entities)\n",
        "\n",
        "\"\"\"\n",
        "result = conn.query(explore_reviews_csv_query)\n",
        "print(result)"
      ],
      "metadata": {
        "colab": {
          "base_uri": "https://localhost:8080/"
        },
        "id": "0VLN9tm17K6J",
        "outputId": "9dec3f51-552e-422e-8597-a41f382ee56d"
      },
      "execution_count": 522,
      "outputs": [
        {
          "output_type": "stream",
          "name": "stdout",
          "text": [
            "[]\n"
          ]
        }
      ]
    },
    {
      "cell_type": "code",
      "source": [
        "explore_reviews_csv_query = \"\"\"\n",
        "MERGE (cwedata:Extended_Descriptions {runtime: 1302})\n",
        "MERGE (Entities:Entities {rawName: \"unauthorized\"})\n",
        "MERGE (cwedata)-[:HAS_ENTITY]->(Entities)\n",
        "\n",
        "\"\"\"\n",
        "result = conn.query(explore_reviews_csv_query)\n",
        "print(result)"
      ],
      "metadata": {
        "colab": {
          "base_uri": "https://localhost:8080/"
        },
        "id": "8SZMAk4T7Kxk",
        "outputId": "141af4a8-deae-47f6-d522-0b224c10f5a8"
      },
      "execution_count": 523,
      "outputs": [
        {
          "output_type": "stream",
          "name": "stdout",
          "text": [
            "[]\n"
          ]
        }
      ]
    },
    {
      "cell_type": "code",
      "source": [
        "explore_reviews_csv_query = \"\"\"\n",
        "MERGE (cwedata:Extended_Descriptions {runtime: 1302})\n",
        "MERGE (Entities:Entities {rawName: \"script error\"})\n",
        "MERGE (cwedata)-[:HAS_ENTITY]->(Entities)\n",
        "\n",
        "\"\"\"\n",
        "result = conn.query(explore_reviews_csv_query)\n",
        "print(result)"
      ],
      "metadata": {
        "colab": {
          "base_uri": "https://localhost:8080/"
        },
        "id": "vBUzHMcT7KpU",
        "outputId": "b4f3c74a-0ad6-49d0-b090-2acff09ce86b"
      },
      "execution_count": 524,
      "outputs": [
        {
          "output_type": "stream",
          "name": "stdout",
          "text": [
            "[]\n"
          ]
        }
      ]
    },
    {
      "cell_type": "code",
      "source": [
        "explore_reviews_csv_query = \"\"\"\n",
        "MERGE (cwedata:Extended_Descriptions {runtime: 1302})\n",
        "MERGE (Entities:Entities {rawName: \"revealing\"})\n",
        "MERGE (cwedata)-[:HAS_ENTITY]->(Entities)\n",
        "\n",
        "\"\"\"\n",
        "result = conn.query(explore_reviews_csv_query)\n",
        "print(result)"
      ],
      "metadata": {
        "colab": {
          "base_uri": "https://localhost:8080/"
        },
        "id": "GTBVexkN7KNz",
        "outputId": "b4a155e0-629d-4a68-f1d6-18037952445d"
      },
      "execution_count": 525,
      "outputs": [
        {
          "output_type": "stream",
          "name": "stdout",
          "text": [
            "[]\n"
          ]
        }
      ]
    },
    {
      "cell_type": "code",
      "source": [
        "explore_reviews_csv_query = \"\"\"\n",
        "MERGE (cwe:CWE {cwe_id:\"284\"})\n",
        "MERGE (cwedata:Extended_Descriptions {runtime:1089})\n",
        "MERGE (cwe)-[:MAPPED_WITH]->(cwedata)\n",
        "MERGE (cwedata)-[:HAS_GLOBAL_CATEGORY{weight:0.02177728820880549,source:\"wikipedia-en\",category:\"Perimeter security\",page_id:29568962}]->(cwe)\n",
        "MERGE (cwedata)-[:HAS_GLOBAL_CATEGORY{weight:0.018774733450646813,source:\"wikipedia-en\",category:\"Command and control\",page_id:13460558}]->(cwe)\n",
        "MERGE (cwedata)-[:HAS_GLOBAL_CATEGORY{weight:0.0054037453131323635,source:\"wikipedia-en\",category:\"Software architecture\",page_id:1805593}]->(cwe)\n",
        "\n",
        "\"\"\"\n",
        "result = conn.query(explore_reviews_csv_query)\n",
        "print(result)"
      ],
      "metadata": {
        "id": "CV4URuRiqp0Y",
        "colab": {
          "base_uri": "https://localhost:8080/"
        },
        "outputId": "d17aaa1c-7bd0-411a-bff6-fd05f09aaa7b"
      },
      "execution_count": 526,
      "outputs": [
        {
          "output_type": "stream",
          "name": "stdout",
          "text": [
            "[]\n"
          ]
        }
      ]
    },
    {
      "cell_type": "code",
      "source": [
        "explore_reviews_csv_query = \"\"\"\n",
        "CALL apoc.load.json(\"https://raw.githubusercontent.com/neostrange/CveParse/main/Extended_Descriptions.json\", null, {failOnError:false})\n",
        "YIELD value\n",
        "WITH value  AS data\n",
        "WITH data\n",
        "UNWIND data.Extended_Descriptions[4].CWE.entities as Entities\n",
        "MERGE (entities:Entities{rawName:Entities.`rawName`})\n",
        "  SET \n",
        "   entities.offsetStart = Entities.offsetStart,\n",
        "   entities.offsetEnd = Entities.offsetEnd,\n",
        "   entities.confidence_score = Entities.confidence_score,\n",
        "   entities.wikipediaExternalRef = Entities.wikipediaExternalRef\n",
        "\n",
        "\"\"\"\n",
        "result = conn.query(explore_reviews_csv_query)\n",
        "print(result)"
      ],
      "metadata": {
        "id": "NxCUlPAKIZhf",
        "colab": {
          "base_uri": "https://localhost:8080/"
        },
        "outputId": "f0004962-b441-46a0-bfb3-a2634bda0e74"
      },
      "execution_count": 527,
      "outputs": [
        {
          "output_type": "stream",
          "name": "stdout",
          "text": [
            "[]\n"
          ]
        }
      ]
    },
    {
      "cell_type": "code",
      "source": [
        "explore_reviews_csv_query = \"\"\"\n",
        "MERGE (cwedata:Extended_Descriptions {runtime: 1089})\n",
        "MERGE (Entities:Entities {rawName: \"Access control\"})\n",
        "MERGE (cwedata)-[:HAS_ENTITY]->(Entities)\n",
        "\n",
        "\"\"\"\n",
        "result = conn.query(explore_reviews_csv_query)\n",
        "print(result)"
      ],
      "metadata": {
        "colab": {
          "base_uri": "https://localhost:8080/"
        },
        "id": "CV3EudGl7KXU",
        "outputId": "8b934079-496d-4a37-a130-c5e6ffb4721e"
      },
      "execution_count": 528,
      "outputs": [
        {
          "output_type": "stream",
          "name": "stdout",
          "text": [
            "[]\n"
          ]
        }
      ]
    },
    {
      "cell_type": "code",
      "source": [
        "explore_reviews_csv_query = \"\"\"\n",
        "MERGE (cwedata:Extended_Descriptions {runtime: 1089})\n",
        "MERGE (Entities:Entities {rawName: \"Authentication\"})\n",
        "MERGE (cwedata)-[:HAS_ENTITY]->(Entities)\n",
        "\n",
        "\"\"\"\n",
        "result = conn.query(explore_reviews_csv_query)\n",
        "print(result)"
      ],
      "metadata": {
        "colab": {
          "base_uri": "https://localhost:8080/"
        },
        "id": "9_9vePy37KCc",
        "outputId": "99d52fd7-de5c-4ff8-cc44-05b02b6b064c"
      },
      "execution_count": 529,
      "outputs": [
        {
          "output_type": "stream",
          "name": "stdout",
          "text": [
            "[]\n"
          ]
        }
      ]
    },
    {
      "cell_type": "code",
      "source": [
        "explore_reviews_csv_query = \"\"\"\n",
        "MERGE (cwedata:Extended_Descriptions {runtime: 1089})\n",
        "MERGE (Entities:Entities {rawName: \"proving\"})\n",
        "MERGE (cwedata)-[:HAS_ENTITY]->(Entities)\n",
        "\n",
        "\"\"\"\n",
        "result = conn.query(explore_reviews_csv_query)\n",
        "print(result)"
      ],
      "metadata": {
        "colab": {
          "base_uri": "https://localhost:8080/"
        },
        "id": "GPYhNs-c7KgR",
        "outputId": "b3fecfdf-8e97-427b-9cf4-356e83025672"
      },
      "execution_count": 530,
      "outputs": [
        {
          "output_type": "stream",
          "name": "stdout",
          "text": [
            "[]\n"
          ]
        }
      ]
    },
    {
      "cell_type": "code",
      "source": [
        "explore_reviews_csv_query = \"\"\"\n",
        "MERGE (cwedata:Extended_Descriptions {runtime: 1089})\n",
        "MERGE (Entities:Entities {rawName: \"Authorization\"})\n",
        "MERGE (cwedata)-[:HAS_ENTITY]->(Entities)\n",
        "\n",
        "\"\"\"\n",
        "result = conn.query(explore_reviews_csv_query)\n",
        "print(result)"
      ],
      "metadata": {
        "id": "jal6HUjBc8bm",
        "colab": {
          "base_uri": "https://localhost:8080/"
        },
        "outputId": "374424dd-6b4a-4206-dfca-5fdab8641332"
      },
      "execution_count": 531,
      "outputs": [
        {
          "output_type": "stream",
          "name": "stdout",
          "text": [
            "[]\n"
          ]
        }
      ]
    },
    {
      "cell_type": "code",
      "source": [
        "explore_reviews_csv_query = \"\"\"\n",
        "MERGE (cwedata:Extended_Descriptions {runtime: 1089})\n",
        "MERGE (Entities:Entities {rawName: \"Accountability\"})\n",
        "MERGE (cwedata)-[:HAS_ENTITY]->(Entities)\n",
        "\n",
        "\"\"\"\n",
        "result = conn.query(explore_reviews_csv_query)\n",
        "print(result)"
      ],
      "metadata": {
        "id": "ElCfE75bc73k",
        "colab": {
          "base_uri": "https://localhost:8080/"
        },
        "outputId": "9a3c06d0-74b5-49b3-cbc9-45b7be7529a5"
      },
      "execution_count": 532,
      "outputs": [
        {
          "output_type": "stream",
          "name": "stdout",
          "text": [
            "[]\n"
          ]
        }
      ]
    },
    {
      "cell_type": "code",
      "source": [
        "explore_reviews_csv_query = \"\"\"\n",
        "MERGE (cwedata:Extended_Descriptions {runtime: 1089})\n",
        "MERGE (Entities:Entities {rawName: \"attackers\"})\n",
        "MERGE (cwedata)-[:HAS_ENTITY]->(Entities)\n",
        "\n",
        "\"\"\"\n",
        "result = conn.query(explore_reviews_csv_query)\n",
        "print(result)"
      ],
      "metadata": {
        "id": "Tbg4nXnvc7OO",
        "colab": {
          "base_uri": "https://localhost:8080/"
        },
        "outputId": "baf45f21-91fb-4fe2-a41d-5d0d77eee04a"
      },
      "execution_count": 533,
      "outputs": [
        {
          "output_type": "stream",
          "name": "stdout",
          "text": [
            "[]\n"
          ]
        }
      ]
    },
    {
      "cell_type": "code",
      "source": [
        "explore_reviews_csv_query = \"\"\"\n",
        "MERGE (cwedata:Extended_Descriptions {runtime: 1089})\n",
        "MERGE (Entities:Entities {rawName: \"privileges\"})\n",
        "MERGE (cwedata)-[:HAS_ENTITY]->(Entities)\n",
        "\n",
        "\"\"\"\n",
        "result = conn.query(explore_reviews_csv_query)\n",
        "print(result)"
      ],
      "metadata": {
        "id": "pwy8pDnropMm",
        "colab": {
          "base_uri": "https://localhost:8080/"
        },
        "outputId": "dd760b42-9fed-485f-9468-3b4b7ac8d1b7"
      },
      "execution_count": 534,
      "outputs": [
        {
          "output_type": "stream",
          "name": "stdout",
          "text": [
            "[]\n"
          ]
        }
      ]
    },
    {
      "cell_type": "code",
      "source": [
        "explore_reviews_csv_query = \"\"\"\n",
        "MERGE (cwedata:Extended_Descriptions {runtime: 1089})\n",
        "MERGE (Entities:Entities {rawName: \"sensitive information\"})\n",
        "MERGE (cwedata)-[:HAS_ENTITY]->(Entities)\n",
        "\n",
        "\"\"\"\n",
        "result = conn.query(explore_reviews_csv_query)\n",
        "print(result)"
      ],
      "metadata": {
        "id": "pNvSiiRzopI2",
        "colab": {
          "base_uri": "https://localhost:8080/"
        },
        "outputId": "8b631463-6a4a-4631-c7d0-b3cded479179"
      },
      "execution_count": 535,
      "outputs": [
        {
          "output_type": "stream",
          "name": "stdout",
          "text": [
            "[]\n"
          ]
        }
      ]
    },
    {
      "cell_type": "code",
      "source": [
        "explore_reviews_csv_query = \"\"\"\n",
        "MERGE (cwedata:Extended_Descriptions {runtime: 1089})\n",
        "MERGE (Entities:Entities {rawName: \"executing\"})\n",
        "MERGE (cwedata)-[:HAS_ENTITY]->(Entities)\n",
        "\n",
        "\"\"\"\n",
        "result = conn.query(explore_reviews_csv_query)\n",
        "print(result)"
      ],
      "metadata": {
        "id": "KlV738NIopEt",
        "colab": {
          "base_uri": "https://localhost:8080/"
        },
        "outputId": "4eb02a2c-99e3-4f52-9134-2763efb4b58b"
      },
      "execution_count": 536,
      "outputs": [
        {
          "output_type": "stream",
          "name": "stdout",
          "text": [
            "[]\n"
          ]
        }
      ]
    },
    {
      "cell_type": "code",
      "source": [
        "explore_reviews_csv_query = \"\"\"\n",
        "MERGE (cwedata:Extended_Descriptions {runtime: 1089})\n",
        "MERGE (Entities:Entities {rawName: \"commands\"})\n",
        "MERGE (cwedata)-[:HAS_ENTITY]->(Entities)\n",
        "\n",
        "\"\"\"\n",
        "result = conn.query(explore_reviews_csv_query)\n",
        "print(result)"
      ],
      "metadata": {
        "id": "kaKQ2q61opA0",
        "colab": {
          "base_uri": "https://localhost:8080/"
        },
        "outputId": "a8d60ee2-8ea9-4378-a829-431cfcaaaf95"
      },
      "execution_count": 537,
      "outputs": [
        {
          "output_type": "stream",
          "name": "stdout",
          "text": [
            "[]\n"
          ]
        }
      ]
    },
    {
      "cell_type": "code",
      "source": [
        "explore_reviews_csv_query = \"\"\"\n",
        "MERGE (cwedata:Extended_Descriptions {runtime: 1089})\n",
        "MERGE (Entities:Entities {rawName: \"evading detection\"})\n",
        "MERGE (cwedata)-[:HAS_ENTITY]->(Entities)\n",
        "\n",
        "\"\"\"\n",
        "result = conn.query(explore_reviews_csv_query)\n",
        "print(result)"
      ],
      "metadata": {
        "id": "IW-pePMAoo0U",
        "colab": {
          "base_uri": "https://localhost:8080/"
        },
        "outputId": "9b2ac4b4-064e-4ef5-8fe2-856110263d74"
      },
      "execution_count": 538,
      "outputs": [
        {
          "output_type": "stream",
          "name": "stdout",
          "text": [
            "[]\n"
          ]
        }
      ]
    },
    {
      "cell_type": "code",
      "source": [
        "explore_reviews_csv_query = \"\"\"\n",
        "MERGE (cwedata:Extended_Descriptions {runtime: 1089})\n",
        "MERGE (Entities:Entities {rawName: \"behaviors\"})\n",
        "MERGE (cwedata)-[:HAS_ENTITY]->(Entities)\n",
        "\n",
        "\"\"\"\n",
        "result = conn.query(explore_reviews_csv_query)\n",
        "print(result)"
      ],
      "metadata": {
        "id": "nUDGRhUEc6y7",
        "colab": {
          "base_uri": "https://localhost:8080/"
        },
        "outputId": "7cba9712-260e-4f3e-9b48-12723d28319a"
      },
      "execution_count": 539,
      "outputs": [
        {
          "output_type": "stream",
          "name": "stdout",
          "text": [
            "[]\n"
          ]
        }
      ]
    },
    {
      "cell_type": "code",
      "source": [
        "explore_reviews_csv_query = \"\"\"\n",
        "MERGE (cwedata:Extended_Descriptions {runtime: 1089})\n",
        "MERGE (Entities:Entities {rawName: \"access control\"})\n",
        "MERGE (cwedata)-[:HAS_ENTITY]->(Entities)\n",
        "\n",
        "\"\"\"\n",
        "result = conn.query(explore_reviews_csv_query)\n",
        "print(result)"
      ],
      "metadata": {
        "colab": {
          "base_uri": "https://localhost:8080/"
        },
        "id": "IqF9hJck7JLu",
        "outputId": "96dfddee-762d-4edc-9dcc-7d2683440a1c"
      },
      "execution_count": 540,
      "outputs": [
        {
          "output_type": "stream",
          "name": "stdout",
          "text": [
            "[]\n"
          ]
        }
      ]
    },
    {
      "cell_type": "code",
      "source": [
        "explore_reviews_csv_query = \"\"\"\n",
        "MERGE (cwedata:Extended_Descriptions {runtime: 1089})\n",
        "MERGE (Entities:Entities {rawName: \"weaknesses\"})\n",
        "MERGE (cwedata)-[:HAS_ENTITY]->(Entities)\n",
        "\n",
        "\"\"\"\n",
        "result = conn.query(explore_reviews_csv_query)\n",
        "print(result)"
      ],
      "metadata": {
        "colab": {
          "base_uri": "https://localhost:8080/"
        },
        "id": "x38_i_qmCjcK",
        "outputId": "fc6159fa-386a-4c8d-c56f-8645168b4e61"
      },
      "execution_count": 541,
      "outputs": [
        {
          "output_type": "stream",
          "name": "stdout",
          "text": [
            "[]\n"
          ]
        }
      ]
    },
    {
      "cell_type": "code",
      "source": [
        "explore_reviews_csv_query = \"\"\"\n",
        "MERGE (cwedata:Extended_Descriptions {runtime: 1089})\n",
        "MERGE (Entities:Entities {rawName: \"incorrect\"})\n",
        "MERGE (cwedata)-[:HAS_ENTITY]->(Entities)\n",
        "\n",
        "\"\"\"\n",
        "result = conn.query(explore_reviews_csv_query)\n",
        "print(result)"
      ],
      "metadata": {
        "colab": {
          "base_uri": "https://localhost:8080/"
        },
        "id": "91bn5g9XCjWd",
        "outputId": "de14ec23-9e64-4c49-cecb-a4859a56b5c7"
      },
      "execution_count": 542,
      "outputs": [
        {
          "output_type": "stream",
          "name": "stdout",
          "text": [
            "[]\n"
          ]
        }
      ]
    },
    {
      "cell_type": "code",
      "source": [
        "explore_reviews_csv_query = \"\"\"\n",
        "MERGE (cwedata:Extended_Descriptions {runtime: 1089})\n",
        "MERGE (Entities:Entities {rawName: \"permissions\"})\n",
        "MERGE (cwedata)-[:HAS_ENTITY]->(Entities)\n",
        "\n",
        "\"\"\"\n",
        "result = conn.query(explore_reviews_csv_query)\n",
        "print(result)"
      ],
      "metadata": {
        "colab": {
          "base_uri": "https://localhost:8080/"
        },
        "id": "wRWlznONCjBy",
        "outputId": "c3e04b1d-3795-4860-a992-798b90d07818"
      },
      "execution_count": 543,
      "outputs": [
        {
          "output_type": "stream",
          "name": "stdout",
          "text": [
            "[]\n"
          ]
        }
      ]
    },
    {
      "cell_type": "code",
      "source": [
        "explore_reviews_csv_query = \"\"\"\n",
        "MERGE (cwedata:Extended_Descriptions {runtime: 1089})\n",
        "MERGE (Entities:Entities {rawName: \"explicitly\"})\n",
        "MERGE (cwedata)-[:HAS_ENTITY]->(Entities)\n",
        "\n",
        "\"\"\"\n",
        "result = conn.query(explore_reviews_csv_query)\n",
        "print(result)"
      ],
      "metadata": {
        "colab": {
          "base_uri": "https://localhost:8080/"
        },
        "id": "ojkIzPtsCi8P",
        "outputId": "48af0df0-22ec-439a-a349-35e6f729659c"
      },
      "execution_count": 544,
      "outputs": [
        {
          "output_type": "stream",
          "name": "stdout",
          "text": [
            "[]\n"
          ]
        }
      ]
    },
    {
      "cell_type": "code",
      "source": [
        "explore_reviews_csv_query = \"\"\"\n",
        "MERGE (cwedata:Extended_Descriptions {runtime: 1089})\n",
        "MERGE (Entities:Entities {rawName: \"syntactically\"})\n",
        "MERGE (cwedata)-[:HAS_ENTITY]->(Entities)\n",
        "\n",
        "\"\"\"\n",
        "result = conn.query(explore_reviews_csv_query)\n",
        "print(result)"
      ],
      "metadata": {
        "colab": {
          "base_uri": "https://localhost:8080/"
        },
        "id": "0hiuTFzRCi2t",
        "outputId": "2dde0705-1dd0-4f39-8f3c-9275f9233b4e"
      },
      "execution_count": 545,
      "outputs": [
        {
          "output_type": "stream",
          "name": "stdout",
          "text": [
            "[]\n"
          ]
        }
      ]
    },
    {
      "cell_type": "code",
      "source": [
        "explore_reviews_csv_query = \"\"\"\n",
        "MERGE (cwedata:Extended_Descriptions {runtime: 1089})\n",
        "MERGE (Entities:Entities {rawName: \"ACL\"})\n",
        "MERGE (cwedata)-[:HAS_ENTITY]->(Entities)\n",
        "\n",
        "\"\"\"\n",
        "result = conn.query(explore_reviews_csv_query)\n",
        "print(result)"
      ],
      "metadata": {
        "colab": {
          "base_uri": "https://localhost:8080/"
        },
        "id": "cT_gxzLpCixM",
        "outputId": "2658d6f7-b766-481a-d3e4-ec783516c27a"
      },
      "execution_count": 546,
      "outputs": [
        {
          "output_type": "stream",
          "name": "stdout",
          "text": [
            "[]\n"
          ]
        }
      ]
    },
    {
      "cell_type": "code",
      "source": [
        "explore_reviews_csv_query = \"\"\"\n",
        "MERGE (cwedata:Extended_Descriptions {runtime: 1089})\n",
        "MERGE (Entities:Entities {rawName: \"insecure\"})\n",
        "MERGE (cwedata)-[:HAS_ENTITY]->(Entities)\n",
        "\n",
        "\"\"\"\n",
        "result = conn.query(explore_reviews_csv_query)\n",
        "print(result)"
      ],
      "metadata": {
        "colab": {
          "base_uri": "https://localhost:8080/"
        },
        "id": "T3IzRBY6Cinh",
        "outputId": "55be87e1-9b24-4cba-b539-02781cbec8bd"
      },
      "execution_count": 547,
      "outputs": [
        {
          "output_type": "stream",
          "name": "stdout",
          "text": [
            "[]\n"
          ]
        }
      ]
    },
    {
      "cell_type": "code",
      "source": [
        "explore_reviews_csv_query = \"\"\"\n",
        "MERGE (cwedata:Extended_Descriptions {runtime: 1089})\n",
        "MERGE (Entities:Entities {rawName: \"security policy\"})\n",
        "MERGE (cwedata)-[:HAS_ENTITY]->(Entities)\n",
        "\n",
        "\"\"\"\n",
        "result = conn.query(explore_reviews_csv_query)\n",
        "print(result)"
      ],
      "metadata": {
        "colab": {
          "base_uri": "https://localhost:8080/"
        },
        "id": "BXrR7rLKCiSH",
        "outputId": "ce1ecda9-d06d-443a-9c6e-04c5a030c7bd"
      },
      "execution_count": 548,
      "outputs": [
        {
          "output_type": "stream",
          "name": "stdout",
          "text": [
            "[]\n"
          ]
        }
      ]
    },
    {
      "cell_type": "code",
      "source": [
        "explore_reviews_csv_query = \"\"\"\n",
        "MERGE (cwe:CWE {cwe_id:\"294\"})\n",
        "MERGE (cwedata:Extended_Descriptions {runtime:253})\n",
        "MERGE (cwe)-[:MAPPED_WITH]->(cwedata)\n",
        "MERGE (cwedata)-[:HAS_GLOBAL_CATEGORY{weight:0.09559506604831125,source:\"wikipedia-en\",category:\"User interfaces\",page_id:30875525}]->(cwe)\n",
        "MERGE (cwedata)-[:HAS_GLOBAL_CATEGORY{weight:0.09559506604831125,source:\"wikipedia-en\",category:\"Computing commands\",page_id:28119161}]->(cwe)\n",
        "MERGE (cwedata)-[:HAS_GLOBAL_CATEGORY{weight:0.09559506604831125,source:\"wikipedia-en\",category:\"Computing terminology\",page_id:2458835}]->(cwe)\n",
        "MERGE (cwedata)-[:HAS_GLOBAL_CATEGORY{weight:0.047797533024155625,source:\"wikipedia-en\",category:\"Television shows set in California\",page_id:5636468}]->(cwe)\n",
        "MERGE (cwedata)-[:HAS_GLOBAL_CATEGORY{weight:0.047797533024155625,source:\"wikipedia-en\",category:\"2013 American television series endings\",page_id:37840227}]->(cwe)\n",
        "MERGE (cwedata)-[:HAS_GLOBAL_CATEGORY{weight:0.047797533024155625,source:\"wikipedia-en\",category:\"2010s American reality television series\",page_id:54647202}]->(cwe)\n",
        "\n",
        "\n",
        "\"\"\"\n",
        "result = conn.query(explore_reviews_csv_query)\n",
        "print(result)"
      ],
      "metadata": {
        "id": "3iJ6XxZBqqyE",
        "colab": {
          "base_uri": "https://localhost:8080/"
        },
        "outputId": "bb4e33f4-f12a-4c8e-b7bd-359cbe864ff9"
      },
      "execution_count": 549,
      "outputs": [
        {
          "output_type": "stream",
          "name": "stdout",
          "text": [
            "[]\n"
          ]
        }
      ]
    },
    {
      "cell_type": "code",
      "source": [
        "explore_reviews_csv_query = \"\"\"\n",
        "CALL apoc.load.json(\"https://raw.githubusercontent.com/neostrange/CveParse/main/Extended_Descriptions.json\", null, {failOnError:false})\n",
        "YIELD value\n",
        "WITH value  AS data\n",
        "WITH data\n",
        "UNWIND data.Extended_Descriptions[5].CWE.entities as Entities\n",
        "MERGE (entities:Entities{rawName:Entities.`rawName`})\n",
        "  SET \n",
        "   entities.offsetStart = Entities.offsetStart,\n",
        "   entities.offsetEnd = Entities.offsetEnd,\n",
        "   entities.confidence_score = Entities.confidence_score,\n",
        "   entities.wikipediaExternalRef = Entities.wikipediaExternalRef\n",
        "\n",
        "\"\"\"\n",
        "result = conn.query(explore_reviews_csv_query)\n",
        "print(result)"
      ],
      "metadata": {
        "id": "a0OzbXyAIbrO",
        "colab": {
          "base_uri": "https://localhost:8080/"
        },
        "outputId": "85d016ea-82d0-41f3-d333-897409baa012"
      },
      "execution_count": 550,
      "outputs": [
        {
          "output_type": "stream",
          "name": "stdout",
          "text": [
            "[]\n"
          ]
        }
      ]
    },
    {
      "cell_type": "code",
      "source": [
        "explore_reviews_csv_query = \"\"\"\n",
        "MERGE (cwedata:Extended_Descriptions {runtime: 253})\n",
        "MERGE (Entities:Entities {rawName: \"Capture\"})\n",
        "MERGE (cwedata)-[:HAS_ENTITY]->(Entities)\n",
        "\n",
        "\"\"\"\n",
        "result = conn.query(explore_reviews_csv_query)\n",
        "print(result)"
      ],
      "metadata": {
        "colab": {
          "base_uri": "https://localhost:8080/"
        },
        "id": "Lv0ml9XzC1nt",
        "outputId": "2e5f09d4-4d0c-4dc3-f528-3be312a667b1"
      },
      "execution_count": 551,
      "outputs": [
        {
          "output_type": "stream",
          "name": "stdout",
          "text": [
            "[]\n"
          ]
        }
      ]
    },
    {
      "cell_type": "code",
      "source": [
        "explore_reviews_csv_query = \"\"\"\n",
        "MERGE (cwedata:Extended_Descriptions {runtime: 253})\n",
        "MERGE (Entities:Entities {rawName: \"replay attacks\"})\n",
        "MERGE (cwedata)-[:HAS_ENTITY]->(Entities)\n",
        "\n",
        "\"\"\"\n",
        "result = conn.query(explore_reviews_csv_query)\n",
        "print(result)"
      ],
      "metadata": {
        "colab": {
          "base_uri": "https://localhost:8080/"
        },
        "id": "MAuY3lheC1TI",
        "outputId": "821a0dac-cbda-4954-a424-44231791d86c"
      },
      "execution_count": 552,
      "outputs": [
        {
          "output_type": "stream",
          "name": "stdout",
          "text": [
            "[]\n"
          ]
        }
      ]
    },
    {
      "cell_type": "code",
      "source": [
        "explore_reviews_csv_query = \"\"\"\n",
        "MERGE (cwedata:Extended_Descriptions {runtime: 253})\n",
        "MERGE (Entities:Entities {rawName: \"cryptography\"})\n",
        "MERGE (cwedata)-[:HAS_ENTITY]->(Entities)\n",
        "\n",
        "\"\"\"\n",
        "result = conn.query(explore_reviews_csv_query)\n",
        "print(result)"
      ],
      "metadata": {
        "colab": {
          "base_uri": "https://localhost:8080/"
        },
        "id": "TXo8oahQCzc7",
        "outputId": "fc56e2d2-4a2f-49f0-a7c4-41143b32e414"
      },
      "execution_count": 553,
      "outputs": [
        {
          "output_type": "stream",
          "name": "stdout",
          "text": [
            "[]\n"
          ]
        }
      ]
    },
    {
      "cell_type": "code",
      "source": [
        "explore_reviews_csv_query = \"\"\"\n",
        "MERGE (cwedata:Extended_Descriptions {runtime: 253})\n",
        "MERGE (Entities:Entities {rawName: \"subset\"})\n",
        "MERGE (cwedata)-[:HAS_ENTITY]->(Entities)\n",
        "\n",
        "\"\"\"\n",
        "result = conn.query(explore_reviews_csv_query)\n",
        "print(result)"
      ],
      "metadata": {
        "colab": {
          "base_uri": "https://localhost:8080/"
        },
        "id": "4pPdZ8EYCiXz",
        "outputId": "ed60b6a2-890d-4508-d93e-43efdd706c77"
      },
      "execution_count": 554,
      "outputs": [
        {
          "output_type": "stream",
          "name": "stdout",
          "text": [
            "[]\n"
          ]
        }
      ]
    },
    {
      "cell_type": "code",
      "source": [
        "explore_reviews_csv_query = \"\"\"\n",
        "MERGE (cwedata:Extended_Descriptions {runtime: 253})\n",
        "MERGE (Entities:Entities {rawName: \"injection\"})\n",
        "MERGE (cwedata)-[:HAS_ENTITY]->(Entities)\n",
        "\n",
        "\"\"\"\n",
        "result = conn.query(explore_reviews_csv_query)\n",
        "print(result)"
      ],
      "metadata": {
        "colab": {
          "base_uri": "https://localhost:8080/"
        },
        "id": "Dpp6UgQzC1AV",
        "outputId": "51610079-799f-4da2-ade9-ef5e188abc72"
      },
      "execution_count": 555,
      "outputs": [
        {
          "output_type": "stream",
          "name": "stdout",
          "text": [
            "[]\n"
          ]
        }
      ]
    },
    {
      "cell_type": "code",
      "source": [
        "explore_reviews_csv_query = \"\"\"\n",
        "MERGE (cwedata:Extended_Descriptions {runtime: 253})\n",
        "MERGE (Entities:Entities {rawName: \"observing\"})\n",
        "MERGE (cwedata)-[:HAS_ENTITY]->(Entities)\n",
        "\n",
        "\"\"\"\n",
        "result = conn.query(explore_reviews_csv_query)\n",
        "print(result) "
      ],
      "metadata": {
        "id": "2qxSzqHXdB5K",
        "colab": {
          "base_uri": "https://localhost:8080/"
        },
        "outputId": "da0cb19c-5a95-491d-fef2-4339c0f172e0"
      },
      "execution_count": 556,
      "outputs": [
        {
          "output_type": "stream",
          "name": "stdout",
          "text": [
            "[]\n"
          ]
        }
      ]
    },
    {
      "cell_type": "code",
      "source": [
        "explore_reviews_csv_query = \"\"\"\n",
        "MERGE (cwedata:Extended_Descriptions {runtime: 253})\n",
        "MERGE (Entities:Entities {rawName: \"commands\"})\n",
        "MERGE (cwedata)-[:HAS_ENTITY]->(Entities)\n",
        "\n",
        "\"\"\"\n",
        "result = conn.query(explore_reviews_csv_query)\n",
        "print(result)"
      ],
      "metadata": {
        "id": "AuWAE2MrdBhe",
        "colab": {
          "base_uri": "https://localhost:8080/"
        },
        "outputId": "a9b0116b-871b-4b0e-c505-0276d07c45bb"
      },
      "execution_count": 557,
      "outputs": [
        {
          "output_type": "stream",
          "name": "stdout",
          "text": [
            "[]\n"
          ]
        }
      ]
    },
    {
      "cell_type": "markdown",
      "metadata": {
        "id": "4tkFWQMewURh"
      },
      "source": [
        "# **CPE Data**"
      ]
    },
    {
      "cell_type": "markdown",
      "source": [
        "**Script_CPE.cypher**"
      ],
      "metadata": {
        "id": "UvXjcm5jxpjj"
      }
    },
    {
      "cell_type": "markdown",
      "source": [
        "Parse CPE values in CVE using cpeparser"
      ],
      "metadata": {
        "id": "Fp-yl_lZvxFK"
      }
    },
    {
      "cell_type": "code",
      "execution_count": 558,
      "metadata": {
        "id": "5MfG2-9AeJDB",
        "colab": {
          "base_uri": "https://localhost:8080/"
        },
        "outputId": "71facd57-2212-4bd9-eb75-20d473cf0759"
      },
      "outputs": [
        {
          "output_type": "stream",
          "name": "stdout",
          "text": [
            "[]\n"
          ]
        }
      ],
      "source": [
        "explore_reviews_csv_query = \"\"\"\n",
        "CALL apoc.load.json(\"https://raw.githubusercontent.com/neostrange/CveParse/main/CPE.json\", null, {failOnError:false})\n",
        "YIELD value\n",
        "WITH value  AS data\n",
        "//return data.CPE_Items[0].CPE.version\n",
        "UNWIND data.CPE_Items as item\n",
        "MERGE (cpe:CPE {version: item.CPE.version})\n",
        "SET \n",
        "    cpe.part = item.CPE.part,\n",
        "    cpe.vendor = item.CPE.vendor,\n",
        "    cpe.product = item.CPE.product,\n",
        "    cpe.update = item.CPE.update,\n",
        "    cpe.edition = item.CPE.edition,\n",
        "    cpe.language = item.CPE.language,\n",
        "    cpe.sw_edition = item.CPE.sw_edition,\n",
        "    cpe.target_sw = item.CPE.target_sw,\n",
        "    cpe.target_hw = item.CPE.target_hw,\n",
        "    cpe.other = item.CPE.other\n",
        "    \n",
        "\"\"\"\n",
        "result = conn.query(explore_reviews_csv_query)\n",
        "print(result)"
      ]
    },
    {
      "cell_type": "code",
      "execution_count": 559,
      "metadata": {
        "id": "lBtYxIhulZMv",
        "colab": {
          "base_uri": "https://localhost:8080/"
        },
        "outputId": "293eb555-4b20-49b7-b6eb-806d04f335d1"
      },
      "outputs": [
        {
          "output_type": "stream",
          "name": "stdout",
          "text": [
            "[]\n"
          ]
        }
      ],
      "source": [
        "explore_reviews_csv_query = \"\"\"\n",
        "MERGE (cpeMatch:CpeMatch {uri:\"cpe:2.3:a:sap:host_agent:7.21:*:*:*:*:*:*:*\" })\n",
        "MERGE (cpe:CPE {version:\"7.21\"})\n",
        "MERGE (cpeMatch)-[:MAPPED_WITH]->(cpe)\n",
        "\n",
        "\"\"\"\n",
        "result = conn.query(explore_reviews_csv_query)\n",
        "print(result)"
      ]
    },
    {
      "cell_type": "code",
      "execution_count": 560,
      "metadata": {
        "id": "NG5t__R7laOg",
        "colab": {
          "base_uri": "https://localhost:8080/"
        },
        "outputId": "e03602af-76cb-491c-b2ec-90944da84768"
      },
      "outputs": [
        {
          "output_type": "stream",
          "name": "stdout",
          "text": [
            "[]\n"
          ]
        }
      ],
      "source": [
        "explore_reviews_csv_query = \"\"\"\n",
        "MERGE (cpeMatch:CpeMatch {uri:\"cpe:2.3:a:sap:host_agent:7.22:*:*:*:*:*:*:*\" })\n",
        "MERGE (cpe:CPE {version:\"7.22\"})\n",
        "MERGE (cpeMatch)-[:MAPPED_WITH]->(cpe)\n",
        "\n",
        "\"\"\"\n",
        "result = conn.query(explore_reviews_csv_query)\n",
        "print(result)"
      ]
    },
    {
      "cell_type": "code",
      "execution_count": 561,
      "metadata": {
        "id": "3_kvJDYY809M",
        "colab": {
          "base_uri": "https://localhost:8080/"
        },
        "outputId": "1f89c2ab-d628-4a72-c5f8-1c3579f93997"
      },
      "outputs": [
        {
          "output_type": "stream",
          "name": "stdout",
          "text": [
            "[]\n"
          ]
        }
      ],
      "source": [
        "explore_reviews_csv_query = \"\"\"\n",
        "MERGE (cpeMatch:CpeMatch {uri:\"cpe:2.3:o:microsoft:windows:-:*:*:*:*:*:*:*\" })\n",
        "MERGE (cpe:CPE {version:\"-\"})\n",
        "MERGE (cpeMatch)-[:MAPPED_WITH]->(cpe)\n",
        "\n",
        "\"\"\"\n",
        "result = conn.query(explore_reviews_csv_query)\n",
        "print(result)"
      ]
    },
    {
      "cell_type": "code",
      "execution_count": 562,
      "metadata": {
        "id": "iJDpnnyCldu5",
        "colab": {
          "base_uri": "https://localhost:8080/"
        },
        "outputId": "f4db669b-dcdc-4666-c028-f53c51f37c12"
      },
      "outputs": [
        {
          "output_type": "stream",
          "name": "stdout",
          "text": [
            "[]\n"
          ]
        }
      ],
      "source": [
        "explore_reviews_csv_query = \"\"\"\n",
        "MERGE (cpeMatch:CpeMatch {uri:\"cpe:2.3:a:sap:netweaver_application_server_abap:702:*:*:*:*:*:*:*\" })\n",
        "MERGE (cpe:CPE {version:\"702\"})\n",
        "MERGE (cpeMatch)-[:MAPPED_WITH]->(cpe)\n",
        "\n",
        "\"\"\"\n",
        "result = conn.query(explore_reviews_csv_query)\n",
        "print(result)"
      ]
    },
    {
      "cell_type": "code",
      "execution_count": 563,
      "metadata": {
        "id": "EmvZ0vHMlqex",
        "colab": {
          "base_uri": "https://localhost:8080/"
        },
        "outputId": "46972312-603d-4804-fd3c-58b737cf19e4"
      },
      "outputs": [
        {
          "output_type": "stream",
          "name": "stdout",
          "text": [
            "[]\n"
          ]
        }
      ],
      "source": [
        "explore_reviews_csv_query = \"\"\"\n",
        "MERGE (cpeMatch:CpeMatch {uri:\"cpe:2.3:a:sap:netweaver_application_server_abap:750:*:*:*:*:*:*:*\" })\n",
        "MERGE (cpe:CPE {version:\"750\"})\n",
        "MERGE (cpeMatch)-[:MAPPED_WITH]->(cpe)\n",
        "\n",
        "\"\"\"\n",
        "result = conn.query(explore_reviews_csv_query)\n",
        "print(result)"
      ]
    },
    {
      "cell_type": "code",
      "execution_count": 564,
      "metadata": {
        "id": "uUh-YkFul1-o",
        "colab": {
          "base_uri": "https://localhost:8080/"
        },
        "outputId": "e7638216-d504-45f1-9d89-0602cc9413fe"
      },
      "outputs": [
        {
          "output_type": "stream",
          "name": "stdout",
          "text": [
            "[]\n"
          ]
        }
      ],
      "source": [
        "explore_reviews_csv_query = \"\"\"\n",
        "MERGE (cpeMatch:CpeMatch {uri:\"cpe:2.3:a:sap:netweaver_application_server_abap:752:*:*:*:*:*:*:*\" })\n",
        "MERGE (cpe:CPE {version:\"752\"})\n",
        "MERGE (cpeMatch)-[:MAPPED_WITH]->(cpe)\n",
        "\n",
        "\"\"\"\n",
        "result = conn.query(explore_reviews_csv_query)\n",
        "print(result)"
      ]
    },
    {
      "cell_type": "code",
      "execution_count": 565,
      "metadata": {
        "id": "NvcgSg_ml33y",
        "colab": {
          "base_uri": "https://localhost:8080/"
        },
        "outputId": "c0fe1ea7-ad14-4aa9-f0d7-7ed62db9ea47"
      },
      "outputs": [
        {
          "output_type": "stream",
          "name": "stdout",
          "text": [
            "[]\n"
          ]
        }
      ],
      "source": [
        "explore_reviews_csv_query = \"\"\"\n",
        "MERGE (cpeMatch:CpeMatch {uri:\"cpe:2.3:a:sap:netweaver_application_server_abap:753:*:*:*:*:*:*:*\" })\n",
        "MERGE (cpe:CPE {version:\"753\"})\n",
        "MERGE (cpeMatch)-[:MAPPED_WITH]->(cpe)\n",
        "\n",
        "\"\"\"\n",
        "result = conn.query(explore_reviews_csv_query)\n",
        "print(result)"
      ]
    },
    {
      "cell_type": "code",
      "execution_count": 566,
      "metadata": {
        "id": "1e-LB5lil5hc",
        "colab": {
          "base_uri": "https://localhost:8080/"
        },
        "outputId": "76574777-5c5d-42d5-cee8-b29feaf2ca28"
      },
      "outputs": [
        {
          "output_type": "stream",
          "name": "stdout",
          "text": [
            "[]\n"
          ]
        }
      ],
      "source": [
        "explore_reviews_csv_query = \"\"\"\n",
        "MERGE (cpeMatch:CpeMatch {uri:\"cpe:2.3:a:sap:netweaver_application_server_abap:754:*:*:*:*:*:*:*\" })\n",
        "MERGE (cpe:CPE {version:\"754\"})\n",
        "MERGE (cpeMatch)-[:MAPPED_WITH]->(cpe)\n",
        "\n",
        "\"\"\"\n",
        "result = conn.query(explore_reviews_csv_query)\n",
        "print(result)"
      ]
    },
    {
      "cell_type": "code",
      "execution_count": 567,
      "metadata": {
        "id": "bqZb_yAJl8Cj",
        "colab": {
          "base_uri": "https://localhost:8080/"
        },
        "outputId": "eeb27c45-8578-46bb-fdf1-dfb6263cd689"
      },
      "outputs": [
        {
          "output_type": "stream",
          "name": "stdout",
          "text": [
            "[]\n"
          ]
        }
      ],
      "source": [
        "explore_reviews_csv_query = \"\"\"\n",
        "MERGE (cpeMatch:CpeMatch {uri:\"cpe:2.3:a:sap:netweaver_application_server_abap:755:*:*:*:*:*:*:*\" })\n",
        "MERGE (cpe:CPE {version:\"755\"})\n",
        "MERGE (cpeMatch)-[:MAPPED_WITH]->(cpe)\n",
        "\n",
        "\"\"\"\n",
        "result = conn.query(explore_reviews_csv_query)\n",
        "print(result)"
      ]
    },
    {
      "cell_type": "code",
      "execution_count": 568,
      "metadata": {
        "id": "A25kD7aM8due",
        "colab": {
          "base_uri": "https://localhost:8080/"
        },
        "outputId": "b330694e-d64f-4c7a-8eff-edae27503430"
      },
      "outputs": [
        {
          "output_type": "stream",
          "name": "stdout",
          "text": [
            "[]\n"
          ]
        }
      ],
      "source": [
        "explore_reviews_csv_query = \"\"\"\n",
        "MERGE (cpeMatch:CpeMatch {uri:\"cpe:2.3:a:sap:netweaver_application_server_abap:756:*:*:*:*:*:*:*\" })\n",
        "MERGE (cpe:CPE {version:\"756\"})\n",
        "MERGE (cpeMatch)-[:MAPPED_WITH]->(cpe)\n",
        "\n",
        "\"\"\"\n",
        "result = conn.query(explore_reviews_csv_query)\n",
        "print(result)"
      ]
    },
    {
      "cell_type": "code",
      "execution_count": 569,
      "metadata": {
        "id": "6_asvk5elmU4",
        "colab": {
          "base_uri": "https://localhost:8080/"
        },
        "outputId": "2bea1b27-6939-480c-aa18-593de891c70a"
      },
      "outputs": [
        {
          "output_type": "stream",
          "name": "stdout",
          "text": [
            "[]\n"
          ]
        }
      ],
      "source": [
        "explore_reviews_csv_query = \"\"\"\n",
        "MERGE (cpeMatch:CpeMatch {uri:\"cpe:2.3:a:sap:netweaver_application_server_abap:731:*:*:*:*:*:*:*\" })\n",
        "MERGE (cpe:CPE {version:\"731\"})\n",
        "MERGE (cpeMatch)-[:MAPPED_WITH]->(cpe)\n",
        "\n",
        "\"\"\"\n",
        "result = conn.query(explore_reviews_csv_query)\n",
        "print(result)"
      ]
    },
    {
      "cell_type": "code",
      "execution_count": 570,
      "metadata": {
        "id": "iPjsqunuloiy",
        "colab": {
          "base_uri": "https://localhost:8080/"
        },
        "outputId": "02220129-5b89-40b0-f8f6-7188ded9534a"
      },
      "outputs": [
        {
          "output_type": "stream",
          "name": "stdout",
          "text": [
            "[]\n"
          ]
        }
      ],
      "source": [
        "explore_reviews_csv_query = \"\"\"\n",
        "MERGE (cpeMatch:CpeMatch {uri:\"cpe:2.3:a:sap:netweaver_application_server_abap:740:*:*:*:*:*:*:*\" })\n",
        "MERGE (cpe:CPE {version:\"740\"})\n",
        "MERGE (cpeMatch)-[:MAPPED_WITH]->(cpe)\n",
        "\n",
        "\"\"\"\n",
        "result = conn.query(explore_reviews_csv_query)\n",
        "print(result)"
      ]
    },
    {
      "cell_type": "code",
      "execution_count": 571,
      "metadata": {
        "id": "WAVztOyjlzzs",
        "colab": {
          "base_uri": "https://localhost:8080/"
        },
        "outputId": "33abe2e8-57af-4ac8-c674-302404c0e5da"
      },
      "outputs": [
        {
          "output_type": "stream",
          "name": "stdout",
          "text": [
            "[]\n"
          ]
        }
      ],
      "source": [
        "explore_reviews_csv_query = \"\"\"\n",
        "MERGE (cpeMatch:CpeMatch {uri:\"cpe:2.3:a:sap:netweaver_application_server_abap:751:*:*:*:*:*:*:*\" })\n",
        "MERGE (cpe:CPE {version:\"751\"})\n",
        "MERGE (cpeMatch)-[:MAPPED_WITH]->(cpe)\n",
        "\n",
        "\"\"\"\n",
        "result = conn.query(explore_reviews_csv_query)\n",
        "print(result)"
      ]
    },
    {
      "cell_type": "code",
      "execution_count": 572,
      "metadata": {
        "id": "SyeXOGMh8f-w",
        "colab": {
          "base_uri": "https://localhost:8080/"
        },
        "outputId": "8b1fa78d-cec9-4e2c-eeb7-8cb654e82f59"
      },
      "outputs": [
        {
          "output_type": "stream",
          "name": "stdout",
          "text": [
            "[]\n"
          ]
        }
      ],
      "source": [
        "explore_reviews_csv_query = \"\"\"\n",
        "MERGE (cpeMatch:CpeMatch {uri:\"cpe:2.3:a:sap:netweaver_application_server_abap:757:*:*:*:*:*:*:*\" })\n",
        "MERGE (cpe:CPE {version:\"757\"})\n",
        "MERGE (cpeMatch)-[:MAPPED_WITH]->(cpe)\n",
        "\n",
        "\"\"\"\n",
        "result = conn.query(explore_reviews_csv_query)\n",
        "print(result)"
      ]
    },
    {
      "cell_type": "code",
      "execution_count": 573,
      "metadata": {
        "id": "oZJ5mTvlle7y",
        "colab": {
          "base_uri": "https://localhost:8080/"
        },
        "outputId": "ee56f4d3-906d-4f2c-9615-ae97ed728220"
      },
      "outputs": [
        {
          "output_type": "stream",
          "name": "stdout",
          "text": [
            "[]\n"
          ]
        }
      ],
      "source": [
        "explore_reviews_csv_query = \"\"\"\n",
        "MERGE (cpeMatch:CpeMatch {uri:\"cpe:2.3:a:sap:netweaver_application_server_abap:702:*:*:*:sap_basis:*:*:*\" })\n",
        "MERGE (cpe:CPE {version:\"702\"})\n",
        "MERGE (cpeMatch)-[:MAPPED_WITH]->(cpe)\n",
        "\n",
        "\"\"\"\n",
        "result = conn.query(explore_reviews_csv_query)\n",
        "print(result)"
      ]
    },
    {
      "cell_type": "code",
      "execution_count": 574,
      "metadata": {
        "id": "PazmT6TJ8rRe",
        "colab": {
          "base_uri": "https://localhost:8080/"
        },
        "outputId": "10a799ec-6834-40a0-f2b1-3b3a4ec6a0b0"
      },
      "outputs": [
        {
          "output_type": "stream",
          "name": "stdout",
          "text": [
            "[]\n"
          ]
        }
      ],
      "source": [
        "explore_reviews_csv_query = \"\"\"\n",
        "MERGE (cpeMatch:CpeMatch {uri:\"cpe:2.3:a:sap:netweaver_as_abap_krnl64nuc:7.22ext:*:*:*:*:*:*:*\" })\n",
        "MERGE (cpe:CPE {version:\"7.22ext\"})\n",
        "MERGE (cpeMatch)-[:MAPPED_WITH]->(cpe)\n",
        "\n",
        "\"\"\"\n",
        "result = conn.query(explore_reviews_csv_query)\n",
        "print(result)"
      ]
    },
    {
      "cell_type": "code",
      "execution_count": 575,
      "metadata": {
        "id": "Gc20DxOC8uDy",
        "colab": {
          "base_uri": "https://localhost:8080/"
        },
        "outputId": "cf02663d-e1e2-455d-b6ea-63bbce46e725"
      },
      "outputs": [
        {
          "output_type": "stream",
          "name": "stdout",
          "text": [
            "[]\n"
          ]
        }
      ],
      "source": [
        "explore_reviews_csv_query = \"\"\"\n",
        "MERGE (cpeMatch:CpeMatch {uri:\"cpe:2.3:a:sap:netweaver_as_abap_krnl64uc:7.53:*:*:*:*:*:*:*\" })\n",
        "MERGE (cpe:CPE {version:\"7.53\"})\n",
        "MERGE (cpeMatch)-[:MAPPED_WITH]->(cpe)\n",
        "\n",
        "\"\"\"\n",
        "result = conn.query(explore_reviews_csv_query)\n",
        "print(result)"
      ]
    },
    {
      "cell_type": "code",
      "execution_count": 576,
      "metadata": {
        "id": "oe1q7sBY8qbG",
        "colab": {
          "base_uri": "https://localhost:8080/"
        },
        "outputId": "5ab96464-ac6e-4183-8eee-ec750bbd0581"
      },
      "outputs": [
        {
          "output_type": "stream",
          "name": "stdout",
          "text": [
            "[]\n"
          ]
        }
      ],
      "source": [
        "explore_reviews_csv_query = \"\"\"\n",
        "MERGE (cpeMatch:CpeMatch {uri:\"cpe:2.3:a:sap:netweaver_as_abap_krnl64nuc:7.22:*:*:*:*:*:*:*\" })\n",
        "MERGE (cpe:CPE {version:\"7.22\"})\n",
        "MERGE (cpeMatch)-[:MAPPED_WITH]->(cpe)\n",
        "\n",
        "\"\"\"\n",
        "result = conn.query(explore_reviews_csv_query)\n",
        "print(result)"
      ]
    },
    {
      "cell_type": "code",
      "execution_count": 577,
      "metadata": {
        "id": "Jh9kyOUq8kBJ",
        "colab": {
          "base_uri": "https://localhost:8080/"
        },
        "outputId": "3171e4d8-3ac7-47ca-de51-64d91efd9d5f"
      },
      "outputs": [
        {
          "output_type": "stream",
          "name": "stdout",
          "text": [
            "[]\n"
          ]
        }
      ],
      "source": [
        "explore_reviews_csv_query = \"\"\"\n",
        "MERGE (cpeMatch:CpeMatch {uri:\"cpe:2.3:a:sap:netweaver_as_abap_kernel:7.22:*:*:*:*:*:*:*\" })\n",
        "MERGE (cpe:CPE {version:\"7.22\"})\n",
        "MERGE (cpeMatch)-[:MAPPED_WITH]->(cpe)\n",
        "\n",
        "\"\"\"\n",
        "result = conn.query(explore_reviews_csv_query)\n",
        "print(result)"
      ]
    },
    {
      "cell_type": "code",
      "execution_count": 578,
      "metadata": {
        "id": "QNKafT_Q8k1f",
        "colab": {
          "base_uri": "https://localhost:8080/"
        },
        "outputId": "03405c65-c8b6-4e9f-d5e4-a34e85ff9afb"
      },
      "outputs": [
        {
          "output_type": "stream",
          "name": "stdout",
          "text": [
            "[]\n"
          ]
        }
      ],
      "source": [
        "explore_reviews_csv_query = \"\"\"\n",
        "MERGE (cpeMatch:CpeMatch {uri:\"cpe:2.3:a:sap:netweaver_as_abap_kernel:7.53:*:*:*:*:*:*:*\" })\n",
        "MERGE (cpe:CPE {version:\"7.53\"})\n",
        "MERGE (cpeMatch)-[:MAPPED_WITH]->(cpe)\n",
        "\n",
        "\"\"\"\n",
        "result = conn.query(explore_reviews_csv_query)\n",
        "print(result)"
      ]
    },
    {
      "cell_type": "code",
      "execution_count": 579,
      "metadata": {
        "id": "kLuNRj978l1w",
        "colab": {
          "base_uri": "https://localhost:8080/"
        },
        "outputId": "5140a446-2a98-4732-d5fa-abbee25c5b73"
      },
      "outputs": [
        {
          "output_type": "stream",
          "name": "stdout",
          "text": [
            "[]\n"
          ]
        }
      ],
      "source": [
        "explore_reviews_csv_query = \"\"\"\n",
        "MERGE (cpeMatch:CpeMatch {uri:\"cpe:2.3:a:sap:netweaver_as_abap_kernel:7.77:*:*:*:*:*:*:*\" })\n",
        "MERGE (cpe:CPE {version:\"7.77\"})\n",
        "MERGE (cpeMatch)-[:MAPPED_WITH]->(cpe)\n",
        "\n",
        "\"\"\"\n",
        "result = conn.query(explore_reviews_csv_query)\n",
        "print(result)"
      ]
    },
    {
      "cell_type": "code",
      "execution_count": 580,
      "metadata": {
        "id": "Q-OYYGAX8ms_",
        "colab": {
          "base_uri": "https://localhost:8080/"
        },
        "outputId": "8b53c545-39bb-4b32-8d55-821a1a6d0214"
      },
      "outputs": [
        {
          "output_type": "stream",
          "name": "stdout",
          "text": [
            "[]\n"
          ]
        }
      ],
      "source": [
        "explore_reviews_csv_query = \"\"\"\n",
        "MERGE (cpeMatch:CpeMatch {uri:\"cpe:2.3:a:sap:netweaver_as_abap_kernel:7.81:*:*:*:*:*:*:*\" })\n",
        "MERGE (cpe:CPE {version:\"7.81\"})\n",
        "MERGE (cpeMatch)-[:MAPPED_WITH]->(cpe)\n",
        "\n",
        "\"\"\"\n",
        "result = conn.query(explore_reviews_csv_query)\n",
        "print(result)"
      ]
    },
    {
      "cell_type": "code",
      "execution_count": 581,
      "metadata": {
        "id": "lAPeVdAs8n7w",
        "colab": {
          "base_uri": "https://localhost:8080/"
        },
        "outputId": "3e05b4ee-fa42-4a56-9660-fa12b3c15c68"
      },
      "outputs": [
        {
          "output_type": "stream",
          "name": "stdout",
          "text": [
            "[]\n"
          ]
        }
      ],
      "source": [
        "explore_reviews_csv_query = \"\"\"\n",
        "MERGE (cpeMatch:CpeMatch {uri:\"cpe:2.3:a:sap:netweaver_as_abap_kernel:7.85:*:*:*:*:*:*:*\" })\n",
        "MERGE (cpe:CPE {version:\"7.85\"})\n",
        "MERGE (cpeMatch)-[:MAPPED_WITH]->(cpe)\n",
        "\n",
        "\"\"\"\n",
        "result = conn.query(explore_reviews_csv_query)\n",
        "print(result)"
      ]
    },
    {
      "cell_type": "code",
      "execution_count": 582,
      "metadata": {
        "id": "xNzOHV5v8tH8",
        "colab": {
          "base_uri": "https://localhost:8080/"
        },
        "outputId": "04310a5e-7810-44cc-8230-4838d16a058d"
      },
      "outputs": [
        {
          "output_type": "stream",
          "name": "stdout",
          "text": [
            "[]\n"
          ]
        }
      ],
      "source": [
        "explore_reviews_csv_query = \"\"\"\n",
        "MERGE (cpeMatch:CpeMatch {uri:\"cpe:2.3:a:sap:netweaver_as_abap_krnl64uc:7.22ext:*:*:*:*:*:*:*\" })\n",
        "MERGE (cpe:CPE {version:\"7.22ext\"})\n",
        "MERGE (cpeMatch)-[:MAPPED_WITH]->(cpe)\n",
        "\n",
        "\"\"\"\n",
        "result = conn.query(explore_reviews_csv_query)\n",
        "print(result)"
      ]
    },
    {
      "cell_type": "code",
      "execution_count": 583,
      "metadata": {
        "id": "8-cEYveglcBm",
        "colab": {
          "base_uri": "https://localhost:8080/"
        },
        "outputId": "45027ba2-8fc1-40fb-e6be-234fc46faa57"
      },
      "outputs": [
        {
          "output_type": "stream",
          "name": "stdout",
          "text": [
            "[]\n"
          ]
        }
      ],
      "source": [
        "explore_reviews_csv_query = \"\"\"\n",
        "MERGE (cpeMatch:CpeMatch {uri:\"cpe:2.3:a:sap:netweaver_application_server_abap:700:*:*:*:sap_basis:*:*:*\" })\n",
        "MERGE (cpe:CPE {version:\"700\"})\n",
        "MERGE (cpeMatch)-[:MAPPED_WITH]->(cpe)\n",
        "\n",
        "\"\"\"\n",
        "result = conn.query(explore_reviews_csv_query)\n",
        "print(result)"
      ]
    },
    {
      "cell_type": "code",
      "execution_count": 584,
      "metadata": {
        "id": "CvEb5lvAlc7J",
        "colab": {
          "base_uri": "https://localhost:8080/"
        },
        "outputId": "77c2d13e-ae54-4edc-801e-84ccbd1ee31e"
      },
      "outputs": [
        {
          "output_type": "stream",
          "name": "stdout",
          "text": [
            "[]\n"
          ]
        }
      ],
      "source": [
        "explore_reviews_csv_query = \"\"\"\n",
        "MERGE (cpeMatch:CpeMatch {uri:\"cpe:2.3:a:sap:netweaver_application_server_abap:701:*:*:*:sap_basis:*:*:*\" })\n",
        "MERGE (cpe:CPE {version:\"701\"})\n",
        "MERGE (cpeMatch)-[:MAPPED_WITH]->(cpe)\n",
        "\n",
        "\"\"\"\n",
        "result = conn.query(explore_reviews_csv_query)\n",
        "print(result)"
      ]
    },
    {
      "cell_type": "code",
      "execution_count": 585,
      "metadata": {
        "id": "iDzLl205lhmc",
        "colab": {
          "base_uri": "https://localhost:8080/"
        },
        "outputId": "bb77f371-df45-4626-8724-7bfe599e0d99"
      },
      "outputs": [
        {
          "output_type": "stream",
          "name": "stdout",
          "text": [
            "[]\n"
          ]
        }
      ],
      "source": [
        "explore_reviews_csv_query = \"\"\"\n",
        "MERGE (cpeMatch:CpeMatch {uri:\"cpe:2.3:a:sap:netweaver_application_server_abap:710:*:*:*:sap_basis:*:*:*\" })\n",
        "MERGE (cpe:CPE {version:\"710\"})\n",
        "MERGE (cpeMatch)-[:MAPPED_WITH]->(cpe)\n",
        "\n",
        "\"\"\"\n",
        "result = conn.query(explore_reviews_csv_query)\n",
        "print(result)"
      ]
    },
    {
      "cell_type": "code",
      "execution_count": 586,
      "metadata": {
        "id": "lVHrRpuUljMZ",
        "colab": {
          "base_uri": "https://localhost:8080/"
        },
        "outputId": "8c17bb36-9509-46f6-e7fc-ab8b9abb6d33"
      },
      "outputs": [
        {
          "output_type": "stream",
          "name": "stdout",
          "text": [
            "[]\n"
          ]
        }
      ],
      "source": [
        "explore_reviews_csv_query = \"\"\"\n",
        "MERGE (cpeMatch:CpeMatch {uri:\"cpe:2.3:a:sap:netweaver_application_server_abap:711:*:*:*:sap_basis:*:*:*\" })\n",
        "MERGE (cpe:CPE {version:\"711\"})\n",
        "MERGE (cpeMatch)-[:MAPPED_WITH]->(cpe)\n",
        "\n",
        "\"\"\"\n",
        "result = conn.query(explore_reviews_csv_query)\n",
        "print(result)"
      ]
    },
    {
      "cell_type": "code",
      "execution_count": 587,
      "metadata": {
        "id": "PnzGM_mjlkf9",
        "colab": {
          "base_uri": "https://localhost:8080/"
        },
        "outputId": "a0a87bd2-353a-466b-efa6-15458a83f0de"
      },
      "outputs": [
        {
          "output_type": "stream",
          "name": "stdout",
          "text": [
            "[]\n"
          ]
        }
      ],
      "source": [
        "explore_reviews_csv_query = \"\"\"\n",
        "MERGE (cpeMatch:CpeMatch {uri:\"cpe:2.3:a:sap:netweaver_application_server_abap:730:*:*:*:sap_basis:*:*:*\" })\n",
        "MERGE (cpe:CPE {version:\"730\"})\n",
        "MERGE (cpeMatch)-[:MAPPED_WITH]->(cpe)\n",
        "\n",
        "\"\"\"\n",
        "result = conn.query(explore_reviews_csv_query)\n",
        "print(result)"
      ]
    },
    {
      "cell_type": "code",
      "execution_count": 588,
      "metadata": {
        "id": "MU7726D8lnak",
        "colab": {
          "base_uri": "https://localhost:8080/"
        },
        "outputId": "679ce479-7d17-4633-b9bf-c7f3e7ca3478"
      },
      "outputs": [
        {
          "output_type": "stream",
          "name": "stdout",
          "text": [
            "[]\n"
          ]
        }
      ],
      "source": [
        "explore_reviews_csv_query = \"\"\"\n",
        "MERGE (cpeMatch:CpeMatch {uri:\"cpe:2.3:a:sap:netweaver_application_server_abap:731:*:*:*:sap_basis:*:*:*\" })\n",
        "MERGE (cpe:CPE {version:\"731\"})\n",
        "MERGE (cpeMatch)-[:MAPPED_WITH]->(cpe)\n",
        "\n",
        "\"\"\"\n",
        "result = conn.query(explore_reviews_csv_query)\n",
        "print(result)"
      ]
    },
    {
      "cell_type": "code",
      "execution_count": 589,
      "metadata": {
        "id": "e2DhnZYMlplA",
        "colab": {
          "base_uri": "https://localhost:8080/"
        },
        "outputId": "11e386c2-7e94-4b82-9c4b-01098b4f3591"
      },
      "outputs": [
        {
          "output_type": "stream",
          "name": "stdout",
          "text": [
            "[]\n"
          ]
        }
      ],
      "source": [
        "explore_reviews_csv_query = \"\"\"\n",
        "MERGE (cpeMatch:CpeMatch {uri:\"cpe:2.3:a:sap:netweaver_application_server_abap:740:*:*:*:sap_basis:*:*:*\" })\n",
        "MERGE (cpe:CPE {version:\"740\"})\n",
        "MERGE (cpeMatch)-[:MAPPED_WITH]->(cpe)\n",
        "\n",
        "\"\"\"\n",
        "result = conn.query(explore_reviews_csv_query)\n",
        "print(result)"
      ]
    },
    {
      "cell_type": "code",
      "execution_count": 590,
      "metadata": {
        "id": "HKnoiNejly3y",
        "colab": {
          "base_uri": "https://localhost:8080/"
        },
        "outputId": "35a0809c-1555-477d-ccd6-d2872c3cda56"
      },
      "outputs": [
        {
          "output_type": "stream",
          "name": "stdout",
          "text": [
            "[]\n"
          ]
        }
      ],
      "source": [
        "explore_reviews_csv_query = \"\"\"\n",
        "MERGE (cpeMatch:CpeMatch {uri:\"cpe:2.3:a:sap:netweaver_application_server_abap:750:*:*:*:sap_basis:*:*:*\" })\n",
        "MERGE (cpe:CPE {version:\"750\"})\n",
        "MERGE (cpeMatch)-[:MAPPED_WITH]->(cpe)\n",
        "\n",
        "\"\"\"\n",
        "result = conn.query(explore_reviews_csv_query)\n",
        "print(result)"
      ]
    },
    {
      "cell_type": "code",
      "execution_count": 591,
      "metadata": {
        "id": "MIiSlCxAl0v8",
        "colab": {
          "base_uri": "https://localhost:8080/"
        },
        "outputId": "bf0a7c25-8723-424b-f6bc-88f3f54fefa4"
      },
      "outputs": [
        {
          "output_type": "stream",
          "name": "stdout",
          "text": [
            "[]\n"
          ]
        }
      ],
      "source": [
        "explore_reviews_csv_query = \"\"\"\n",
        "MERGE (cpeMatch:CpeMatch {uri:\"cpe:2.3:a:sap:netweaver_application_server_abap:751:*:*:*:sap_basis:*:*:*\" })\n",
        "MERGE (cpe:CPE {version:\"751\"})\n",
        "MERGE (cpeMatch)-[:MAPPED_WITH]->(cpe)\n",
        "\n",
        "\"\"\"\n",
        "result = conn.query(explore_reviews_csv_query)\n",
        "print(result)"
      ]
    },
    {
      "cell_type": "code",
      "execution_count": 592,
      "metadata": {
        "id": "q-X3TUtBl288",
        "colab": {
          "base_uri": "https://localhost:8080/"
        },
        "outputId": "863a3b7e-e225-4dee-b5e7-11cbf48174cd"
      },
      "outputs": [
        {
          "output_type": "stream",
          "name": "stdout",
          "text": [
            "[]\n"
          ]
        }
      ],
      "source": [
        "explore_reviews_csv_query = \"\"\"\n",
        "MERGE (cpeMatch:CpeMatch {uri:\"cpe:2.3:a:sap:netweaver_application_server_abap:752:*:*:*:sap_basis:*:*:*\" })\n",
        "MERGE (cpe:CPE {version:\"752\"})\n",
        "MERGE (cpeMatch)-[:MAPPED_WITH]->(cpe)\n",
        "\n",
        "\"\"\"\n",
        "result = conn.query(explore_reviews_csv_query)\n",
        "print(result)"
      ]
    },
    {
      "cell_type": "code",
      "execution_count": 593,
      "metadata": {
        "id": "fj24pVAml4os",
        "colab": {
          "base_uri": "https://localhost:8080/"
        },
        "outputId": "13645908-7cbb-4227-e47a-4d82a5f626e5"
      },
      "outputs": [
        {
          "output_type": "stream",
          "name": "stdout",
          "text": [
            "[]\n"
          ]
        }
      ],
      "source": [
        "explore_reviews_csv_query = \"\"\"\n",
        "MERGE (cpeMatch:CpeMatch {uri:\"cpe:2.3:a:sap:netweaver_application_server_abap:753:*:*:*:sap_basis:*:*:*\" })\n",
        "MERGE (cpe:CPE {version:\"753\"})\n",
        "MERGE (cpeMatch)-[:MAPPED_WITH]->(cpe)\n",
        "\n",
        "\"\"\"\n",
        "result = conn.query(explore_reviews_csv_query)\n",
        "print(result)"
      ]
    },
    {
      "cell_type": "code",
      "execution_count": 594,
      "metadata": {
        "id": "sEGg2-VDl6v8",
        "colab": {
          "base_uri": "https://localhost:8080/"
        },
        "outputId": "3b3a00d5-0b10-43ec-8c66-29ae3d06b36a"
      },
      "outputs": [
        {
          "output_type": "stream",
          "name": "stdout",
          "text": [
            "[]\n"
          ]
        }
      ],
      "source": [
        "explore_reviews_csv_query = \"\"\"\n",
        "MERGE (cpeMatch:CpeMatch {uri:\"cpe:2.3:a:sap:netweaver_application_server_abap:754:*:*:*:sap_basis:*:*:*\" })\n",
        "MERGE (cpe:CPE {version:\"754\"})\n",
        "MERGE (cpeMatch)-[:MAPPED_WITH]->(cpe)\n",
        "\n",
        "\"\"\"\n",
        "result = conn.query(explore_reviews_csv_query)\n",
        "print(result)"
      ]
    },
    {
      "cell_type": "code",
      "execution_count": 595,
      "metadata": {
        "id": "KFYj95Sv8Q-j",
        "colab": {
          "base_uri": "https://localhost:8080/"
        },
        "outputId": "63120cb2-4426-483c-c412-3a5bc6bb9341"
      },
      "outputs": [
        {
          "output_type": "stream",
          "name": "stdout",
          "text": [
            "[]\n"
          ]
        }
      ],
      "source": [
        "explore_reviews_csv_query = \"\"\"\n",
        "MERGE (cpeMatch:CpeMatch {uri:\"cpe:2.3:a:sap:netweaver_application_server_abap:755:*:*:*:sap_basis:*:*:*\" })\n",
        "MERGE (cpe:CPE {version:\"755\"})\n",
        "MERGE (cpeMatch)-[:MAPPED_WITH]->(cpe)\n",
        "\n",
        "\"\"\"\n",
        "result = conn.query(explore_reviews_csv_query)\n",
        "print(result)"
      ]
    },
    {
      "cell_type": "code",
      "execution_count": 596,
      "metadata": {
        "id": "PGAxEOgb8evX",
        "colab": {
          "base_uri": "https://localhost:8080/"
        },
        "outputId": "53f7571f-4fad-4f7f-a0e8-4d4cbbf18935"
      },
      "outputs": [
        {
          "output_type": "stream",
          "name": "stdout",
          "text": [
            "[]\n"
          ]
        }
      ],
      "source": [
        "explore_reviews_csv_query = \"\"\"\n",
        "MERGE (cpeMatch:CpeMatch {uri:\"cpe:2.3:a:sap:netweaver_application_server_abap:756:*:*:*:sap_basis:*:*:*\" })\n",
        "MERGE (cpe:CPE {version:\"756\"})\n",
        "MERGE (cpeMatch)-[:MAPPED_WITH]->(cpe)\n",
        "\n",
        "\"\"\"\n",
        "result = conn.query(explore_reviews_csv_query)\n",
        "print(result)"
      ]
    },
    {
      "cell_type": "code",
      "execution_count": 597,
      "metadata": {
        "id": "dbkOXjAP8g1i",
        "colab": {
          "base_uri": "https://localhost:8080/"
        },
        "outputId": "da252b2a-b7a0-4cef-824d-98e105874a38"
      },
      "outputs": [
        {
          "output_type": "stream",
          "name": "stdout",
          "text": [
            "[]\n"
          ]
        }
      ],
      "source": [
        "explore_reviews_csv_query = \"\"\"\n",
        "MERGE (cpeMatch:CpeMatch {uri:\"cpe:2.3:a:sap:netweaver_application_server_abap:757:*:*:*:sap_basis:*:*:*\" })\n",
        "MERGE (cpe:CPE {version:\"757\"})\n",
        "MERGE (cpeMatch)-[:MAPPED_WITH]->(cpe)\n",
        "\n",
        "\"\"\"\n",
        "result = conn.query(explore_reviews_csv_query)\n",
        "print(result)"
      ]
    },
    {
      "cell_type": "code",
      "execution_count": 598,
      "metadata": {
        "id": "5pqSTgTW8pP7",
        "colab": {
          "base_uri": "https://localhost:8080/"
        },
        "outputId": "077a984c-ed24-41a3-d2e1-87314236ce7c"
      },
      "outputs": [
        {
          "output_type": "stream",
          "name": "stdout",
          "text": [
            "[]\n"
          ]
        }
      ],
      "source": [
        "explore_reviews_csv_query = \"\"\"\n",
        "MERGE (cpeMatch:CpeMatch {uri:\"cpe:2.3:a:sap:netweaver_as_abap_kernel:7.89:*:*:*:*:*:*:*\" })\n",
        "MERGE (cpe:CPE {version:\"7.89\"})\n",
        "MERGE (cpeMatch)-[:MAPPED_WITH]->(cpe)\n",
        "\n",
        "\"\"\"\n",
        "result = conn.query(explore_reviews_csv_query)\n",
        "print(result)"
      ]
    },
    {
      "cell_type": "code",
      "execution_count": 599,
      "metadata": {
        "id": "8n_04uVPFgQ4",
        "colab": {
          "base_uri": "https://localhost:8080/"
        },
        "outputId": "08588277-118e-4696-efa3-fb299fae6979"
      },
      "outputs": [
        {
          "output_type": "stream",
          "name": "stdout",
          "text": [
            "[]\n"
          ]
        }
      ],
      "source": [
        "explore_reviews_csv_query = \"\"\"\n",
        "MERGE (cpeMatch:CpeMatch {uri:\"cpe:2.3:a:sap:business_objects_business_intelligence_platform:420:*:*:*:*:*:*:*\" })\n",
        "MERGE (cpe:CPE {version:\"420\"})\n",
        "MERGE (cpeMatch)-[:MAPPED_WITH]->(cpe)\n",
        "\n",
        "\"\"\"\n",
        "result = conn.query(explore_reviews_csv_query)\n",
        "print(result)"
      ]
    },
    {
      "cell_type": "code",
      "execution_count": 600,
      "metadata": {
        "id": "ixCqK_VllPi3",
        "colab": {
          "base_uri": "https://localhost:8080/"
        },
        "outputId": "3f68fa2d-8745-45c8-acd2-307f1aa73210"
      },
      "outputs": [
        {
          "output_type": "stream",
          "name": "stdout",
          "text": [
            "[]\n"
          ]
        }
      ],
      "source": [
        "explore_reviews_csv_query = \"\"\"\n",
        "MERGE (cpeMatch:CpeMatch {uri:\"cpe:2.3:a:sap:business_planning_and_consolidation:810:*:*:*:*:microsoft:*:*\" })\n",
        "MERGE (cpe:CPE {version:\"810\"})\n",
        "MERGE (cpeMatch)-[:MAPPED_WITH]->(cpe)\n",
        "\n",
        "\"\"\"\n",
        "result = conn.query(explore_reviews_csv_query)\n",
        "print(result)"
      ]
    },
    {
      "cell_type": "code",
      "execution_count": 601,
      "metadata": {
        "id": "phfT7_GZlOIG",
        "colab": {
          "base_uri": "https://localhost:8080/"
        },
        "outputId": "743ec041-2a50-480b-8d9c-107bee6e22c3"
      },
      "outputs": [
        {
          "output_type": "stream",
          "name": "stdout",
          "text": [
            "[]\n"
          ]
        }
      ],
      "source": [
        "explore_reviews_csv_query = \"\"\"\n",
        "MERGE (cpeMatch:CpeMatch {uri:\"cpe:2.3:a:sap:business_planning_and_consolidation:800:*:*:*:*:microsoft:*:*\" })\n",
        "MERGE (cpe:CPE {version:\"800\"})\n",
        "MERGE (cpeMatch)-[:MAPPED_WITH]->(cpe)\n",
        "\n",
        "\"\"\"\n",
        "result = conn.query(explore_reviews_csv_query)\n",
        "print(result)"
      ]
    },
    {
      "cell_type": "code",
      "execution_count": 602,
      "metadata": {
        "id": "RNRVapf_8jBy",
        "colab": {
          "base_uri": "https://localhost:8080/"
        },
        "outputId": "937fe336-b5c8-4c11-e17a-e138e6c91910"
      },
      "outputs": [
        {
          "output_type": "stream",
          "name": "stdout",
          "text": [
            "[]\n"
          ]
        }
      ],
      "source": [
        "explore_reviews_csv_query = \"\"\"\n",
        "MERGE (cpeMatch:CpeMatch {uri:\"cpe:2.3:a:sap:netweaver_application_server_for_java:7.50:*:*:*:*:*:*:*\" })\n",
        "MERGE (cpe:CPE {version:\"7.50\"})\n",
        "MERGE (cpeMatch)-[:MAPPED_WITH]->(cpe)\n",
        "\n",
        "\"\"\"\n",
        "result = conn.query(explore_reviews_csv_query)\n",
        "print(result)"
      ]
    },
    {
      "cell_type": "code",
      "execution_count": 603,
      "metadata": {
        "id": "0ae3KnbtlQct",
        "colab": {
          "base_uri": "https://localhost:8080/"
        },
        "outputId": "82181fcd-87e1-445d-d748-b1b4b8aeb896"
      },
      "outputs": [
        {
          "output_type": "stream",
          "name": "stdout",
          "text": [
            "[]\n"
          ]
        }
      ],
      "source": [
        "explore_reviews_csv_query = \"\"\"\n",
        "MERGE (cpeMatch:CpeMatch {uri:\"cpe:2.3:a:sap:businessobjects_business_intelligence_platform:420:*:*:*:*:*:*:*\" })\n",
        "MERGE (cpe:CPE {version:\"420\"})\n",
        "MERGE (cpeMatch)-[:MAPPED_WITH]->(cpe)\n",
        "\n",
        "\"\"\"\n",
        "result = conn.query(explore_reviews_csv_query)\n",
        "print(result)"
      ]
    },
    {
      "cell_type": "code",
      "execution_count": 604,
      "metadata": {
        "id": "LnEdxBrllSh0",
        "colab": {
          "base_uri": "https://localhost:8080/"
        },
        "outputId": "97c0b768-fbf0-4ead-cb56-55fe3e8b7ac0"
      },
      "outputs": [
        {
          "output_type": "stream",
          "name": "stdout",
          "text": [
            "[]\n"
          ]
        }
      ],
      "source": [
        "explore_reviews_csv_query = \"\"\"\n",
        "MERGE (cpeMatch:CpeMatch {uri:\"cpe:2.3:a:sap:businessobjects_business_intelligence_platform:430:*:*:*:*:*:*:*\" })\n",
        "MERGE (cpe:CPE {version:\"430\"})\n",
        "MERGE (cpeMatch)-[:MAPPED_WITH]->(cpe)\n",
        "\n",
        "\"\"\"\n",
        "result = conn.query(explore_reviews_csv_query)\n",
        "print(result)"
      ]
    },
    {
      "cell_type": "code",
      "execution_count": 605,
      "metadata": {
        "id": "_HJaQ1NilRUD",
        "colab": {
          "base_uri": "https://localhost:8080/"
        },
        "outputId": "81a72798-1bc3-471a-b37e-10c4bb10e42d"
      },
      "outputs": [
        {
          "output_type": "stream",
          "name": "stdout",
          "text": [
            "[]\n"
          ]
        }
      ],
      "source": [
        "explore_reviews_csv_query = \"\"\"\n",
        "MERGE (cpeMatch:CpeMatch {uri:\"cpe:2.3:a:sap:businessobjects_business_intelligence_platform:420:*:*:*:analysis:olap:*:*\" })\n",
        "MERGE (cpe:CPE {version:\"420\"})\n",
        "MERGE (cpeMatch)-[:MAPPED_WITH]->(cpe)\n",
        "\n",
        "\"\"\"\n",
        "result = conn.query(explore_reviews_csv_query)\n",
        "print(result)"
      ]
    },
    {
      "cell_type": "code",
      "execution_count": 606,
      "metadata": {
        "id": "4BBQv4MBlYN0",
        "colab": {
          "base_uri": "https://localhost:8080/"
        },
        "outputId": "4af8c7a8-daef-42a0-e94a-c9d572a70a33"
      },
      "outputs": [
        {
          "output_type": "stream",
          "name": "stdout",
          "text": [
            "[]\n"
          ]
        }
      ],
      "source": [
        "explore_reviews_csv_query = \"\"\"\n",
        "MERGE (cpeMatch:CpeMatch {uri:\"cpe:2.3:a:sap:businessobjects_business_intelligence_platform:430:*:*:*:analysis:olap:*:*\" })\n",
        "MERGE (cpe:CPE {version:\"430\"})\n",
        "MERGE (cpeMatch)-[:MAPPED_WITH]->(cpe)\n",
        "\n",
        "\"\"\"\n",
        "result = conn.query(explore_reviews_csv_query)\n",
        "print(result)"
      ]
    },
    {
      "cell_type": "code",
      "execution_count": 607,
      "metadata": {
        "id": "w64VdVfuhxfS",
        "colab": {
          "base_uri": "https://localhost:8080/"
        },
        "outputId": "802dddee-7e3e-4fdf-f4b3-9310c92e4fa6"
      },
      "outputs": [
        {
          "output_type": "stream",
          "name": "stdout",
          "text": [
            "[]\n"
          ]
        }
      ],
      "source": [
        "explore_reviews_csv_query = \"\"\"\n",
        "MERGE (cpeMatch:CpeMatch {uri:\"cpe:2.3:a:sap:bank_account_management:900:*:*:*:*:*:*:*\" })\n",
        "MERGE (cpe:CPE {version:\"900\"})\n",
        "MERGE (cpeMatch)-[:MAPPED_WITH]->(cpe)\n",
        "\n",
        "\"\"\"\n",
        "result = conn.query(explore_reviews_csv_query)\n",
        "print(result)"
      ]
    },
    {
      "cell_type": "code",
      "execution_count": 608,
      "metadata": {
        "id": "4NYG_JuJ2np3",
        "colab": {
          "base_uri": "https://localhost:8080/"
        },
        "outputId": "ed1c9867-22e7-4010-ece1-89beb2d32c77"
      },
      "outputs": [
        {
          "output_type": "stream",
          "name": "stdout",
          "text": [
            "[]\n"
          ]
        }
      ],
      "source": [
        "explore_reviews_csv_query = \"\"\"\n",
        "MERGE (cpeMatch:CpeMatch {uri:\"cpe:2.3:a:sap:bank_account_management:800:*:*:*:*:*:*:*\" })\n",
        "MERGE (cpe:CPE {version:\"800\"})\n",
        "MERGE (cpeMatch)-[:MAPPED_WITH]->(cpe)\n",
        "\n",
        "\"\"\"\n",
        "result = conn.query(explore_reviews_csv_query)\n",
        "print(result)"
      ]
    },
    {
      "cell_type": "code",
      "execution_count": 609,
      "metadata": {
        "id": "rL35pxMdmEYp",
        "colab": {
          "base_uri": "https://localhost:8080/"
        },
        "outputId": "17ece532-3944-436a-e1c0-cd02d802e9fe"
      },
      "outputs": [
        {
          "output_type": "stream",
          "name": "stdout",
          "text": [
            "[]\n"
          ]
        }
      ],
      "source": [
        "explore_reviews_csv_query = \"\"\"\n",
        "MERGE (cpeMatch:CpeMatch {uri:\"cpe:2.3:a:linagora:twake:*:*:*:*:*:*:*:*\" })\n",
        "MERGE (cpe:CPE {version:\"*\"})\n",
        "MERGE (cpeMatch)-[:MAPPED_WITH]->(cpe)\n",
        "\n",
        "\"\"\"\n",
        "result = conn.query(explore_reviews_csv_query)\n",
        "print(result)"
      ]
    },
    {
      "cell_type": "code",
      "execution_count": 610,
      "metadata": {
        "id": "1n3v0vB781t3",
        "colab": {
          "base_uri": "https://localhost:8080/"
        },
        "outputId": "d49d022d-4ed5-4ba3-eced-6723ef8defef"
      },
      "outputs": [
        {
          "output_type": "stream",
          "name": "stdout",
          "text": [
            "[]\n"
          ]
        }
      ],
      "source": [
        "explore_reviews_csv_query = \"\"\"\n",
        "MERGE (cpeMatch:CpeMatch {uri:\"cpe:2.3:o:multilaserempresas:re708_firmware:re1200r4gc-2t2r-v3_v3411b_mul029b:*:*:*:*:*:*:*\" })\n",
        "MERGE (cpe:CPE {version:\"re1200r4gc-2t2r-v3_v3411b_mul029b\"})\n",
        "MERGE (cpeMatch)-[:MAPPED_WITH]->(cpe)\n",
        "\n",
        "\"\"\"\n",
        "result = conn.query(explore_reviews_csv_query)\n",
        "print(result)"
      ]
    },
    {
      "cell_type": "code",
      "execution_count": 611,
      "metadata": {
        "id": "eOAoAjLL8z-o",
        "colab": {
          "base_uri": "https://localhost:8080/"
        },
        "outputId": "acbb21ad-7e89-46d4-96f2-91c54fc4bef6"
      },
      "outputs": [
        {
          "output_type": "stream",
          "name": "stdout",
          "text": [
            "[]\n"
          ]
        }
      ],
      "source": [
        "explore_reviews_csv_query = \"\"\"\n",
        "MERGE (cpeMatch:CpeMatch {uri:\"cpe:2.3:h:multilaserempresas:re708:-:*:*:*:*:*:*:*\" })\n",
        "MERGE (cpe:CPE {version:\"-\"})\n",
        "MERGE (cpeMatch)-[:MAPPED_WITH]->(cpe)\n",
        "\n",
        "\"\"\"\n",
        "result = conn.query(explore_reviews_csv_query)\n",
        "print(result)"
      ]
    },
    {
      "cell_type": "markdown",
      "source": [
        "**Script_Unstructured data.cypher**"
      ],
      "metadata": {
        "id": "v_JgjuTayQL5"
      }
    },
    {
      "cell_type": "markdown",
      "metadata": {
        "id": "5bS9uBOlK-8v"
      },
      "source": [
        "Extract the entities from unstructured data (vulnerability description) in CVE by using OIE model, entity-fishing, and en_core_web_sm model (from spaCy)\n"
      ]
    },
    {
      "cell_type": "code",
      "execution_count": 612,
      "metadata": {
        "id": "8LrhRlpYK-G8",
        "colab": {
          "base_uri": "https://localhost:8080/"
        },
        "outputId": "abd2b29d-342a-406e-84a8-9d4fd8563096"
      },
      "outputs": [
        {
          "output_type": "stream",
          "name": "stdout",
          "text": [
            "[]\n"
          ]
        }
      ],
      "source": [
        "explore_reviews_csv_query = \"\"\"\n",
        "CREATE (node1:Frame {text:\"gains\",type:\"verb\"}),\n",
        "       (node2:Frame_Argument{text:\"an attacker\",type:\"ARG0\"}),\n",
        "       (node3:Reference{text:\"who\",type:\"R-ARG0\"}),\n",
        "       (node4:Frame_Argument{text:\"local membership\",type:\"ARG1\"}),\n",
        "       (node5:Frame_Argument{text:\"to SAP_LocalAdmin\",type:\"ARG4\"}),\n",
        "\n",
        "       (node2)-[:HAS_ARGUMENT]->(node1),\n",
        "       (node3)-[:HAS_ARGUMENT]->(node1),\n",
        "       (node4)-[:HAS_ARGUMENT]->(node1),\n",
        "       (node5)-[:HAS_ARGUMENT]->(node1)\n",
        "\n",
        "MERGE (description:Description {cveId:\"CVE-2023-0012\"})\n",
        "MERGE (frame:Frame {text:\"gains\"})\n",
        "MERGE (description)-[:MAPPED_WITH]->(frame)\n",
        "\n",
        "\"\"\"\n",
        "result = conn.query(explore_reviews_csv_query)\n",
        "print(result)"
      ]
    },
    {
      "cell_type": "code",
      "execution_count": 613,
      "metadata": {
        "id": "rSYckdLLNPqg",
        "colab": {
          "base_uri": "https://localhost:8080/"
        },
        "outputId": "ec46739f-c112-4c4c-9a04-c14e598ed0a1"
      },
      "outputs": [
        {
          "output_type": "stream",
          "name": "stdout",
          "text": [
            "[]\n"
          ]
        }
      ],
      "source": [
        "explore_reviews_csv_query = \"\"\"\n",
        "CREATE (node1:Frame {text:\"be\",type:\"verb\"}),\n",
        "       (node2:Frame_Argument{text:\"an attacker who gains local membership to SAP_LocalAdmin\",type:\"ARG1\"}),\n",
        "       (node3:Modifier_Modal{text:\"could\",type:\"ARGM-MOD\"}),\n",
        "       (node4:Frame_Argument{text:\"able to replace executables with a malicious file that will be started under a privileged account\",type:\"ARG2\"}),\n",
        "       (node5:Frame_Argument{type:\"ARG0\",Head:\"attacker\",offsetStart:3,offsetEnd:11,confidence_score:0.3651,wikipediaExternalRef:428681,wikidataId:\"Q280658\",domains:\"Biology\"}),\n",
        "       (node6:Frame_Argument{type:\"ARG2\",Head:\"malicious\",offsetStart:35,offsetEnd:44,confidence_score:0.5011,wikipediaExternalRef:20901,wikidataId:\"Q14001\",domains:\"Computer_Science\"}),\n",
        "\n",
        "       (node2)-[:HAS_ARGUMENT]->(node1),\n",
        "       (node3)-[:HAS_ARGUMENT]->(node1),\n",
        "       (node4)-[:HAS_ARGUMENT]->(node1),\n",
        "       (node5)-[:HAS_ARGUMENT]->(node1),\n",
        "       (node6)-[:HAS_ARGUMENT]->(node1)\n",
        "\n",
        "MERGE (description:Description {cveId:\"CVE-2023-0012\"})\n",
        "MERGE (frame:Frame {text:\"be\"})\n",
        "MERGE (description)-[:MAPPED_WITH]->(frame)       \n",
        "       \n",
        "\"\"\"\n",
        "result = conn.query(explore_reviews_csv_query)\n",
        "print(result)"
      ]
    },
    {
      "cell_type": "code",
      "execution_count": 614,
      "metadata": {
        "id": "NTsuS76jLisW",
        "colab": {
          "base_uri": "https://localhost:8080/"
        },
        "outputId": "3cb01daa-25ef-4f25-ed70-a24ecbae9cb9"
      },
      "outputs": [
        {
          "output_type": "stream",
          "name": "stdout",
          "text": [
            "[]\n"
          ]
        }
      ],
      "source": [
        "explore_reviews_csv_query = \"\"\"\n",
        "CREATE (node1:Frame {text:\"replace\",type:\"verb\"}),\n",
        "       (node2:Frame_Argument{text:\"executables\",type:\"ARG1\"}),\n",
        "       (node3:Frame_Argument{text:\"an attacker who gains local membership to SAP_LocalAdmin\",type:\"ARG2\"}),\n",
        "       (node4:Frame_Argument{text:\"with a malicious file that will be started under a privileged account\",type:\"ARG2\"}),\n",
        "\n",
        "       (node2)-[:HAS_ARGUMENT]->(node1),\n",
        "       (node3)-[:HAS_ARGUMENT]->(node1),\n",
        "       (node4)-[:HAS_ARGUMENT]->(node1)\n",
        "\n",
        "MERGE (description:Description {cveId:\"CVE-2023-0012\"})\n",
        "MERGE (frame:Frame {text:\"replace\"})\n",
        "MERGE (description)-[:MAPPED_WITH]->(frame)        \n",
        "\n",
        "\"\"\"\n",
        "result = conn.query(explore_reviews_csv_query)\n",
        "print(result)"
      ]
    },
    {
      "cell_type": "code",
      "execution_count": 615,
      "metadata": {
        "id": "UHZeCtIINjMO",
        "colab": {
          "base_uri": "https://localhost:8080/"
        },
        "outputId": "e7784e50-8538-4504-8e33-a060d7433422"
      },
      "outputs": [
        {
          "output_type": "stream",
          "name": "stdout",
          "text": [
            "[]\n"
          ]
        }
      ],
      "source": [
        "explore_reviews_csv_query = \"\"\"\n",
        "CREATE (node1:Frame {text:\"started\",type:\"verb\"}),\n",
        "       (node2:Frame_Argument{text:\"a malicious file\",type:\"ARG1\"}),\n",
        "       (node3:Reference{text:\"that\",type:\"R-ARG1\"}),\n",
        "       (node4:Modifier_Modal{text:\"will\",type:\"ARGM-MOD\"}),\n",
        "       (node5:Modifier_Location{text:\"under a privileged account\",type:\"ARGM-LOC\"}),\n",
        "\n",
        "       (node2)-[:HAS_ARGUMENT]->(node1),\n",
        "       (node3)-[:HAS_ARGUMENT]->(node1),\n",
        "       (node4)-[:HAS_ARGUMENT]->(node1),\n",
        "       (node5)-[:HAS_ARGUMENT]->(node1)\n",
        "\n",
        "MERGE (description:Description {cveId:\"CVE-2023-0012\"})\n",
        "MERGE (frame:Frame {text:\"started\"})\n",
        "MERGE (description)-[:MAPPED_WITH]->(frame)       \n",
        "\n",
        "\"\"\"\n",
        "result = conn.query(explore_reviews_csv_query)\n",
        "print(result)"
      ]
    },
    {
      "cell_type": "code",
      "execution_count": 616,
      "metadata": {
        "id": "XCmuApWEq1J0",
        "colab": {
          "base_uri": "https://localhost:8080/"
        },
        "outputId": "1fc85b62-c19a-4823-923a-812020304335"
      },
      "outputs": [
        {
          "output_type": "stream",
          "name": "stdout",
          "text": [
            "[]\n"
          ]
        }
      ],
      "source": [
        "explore_reviews_csv_query = \"\"\"\n",
        "CREATE (node1:Frame {text:\"Note\",type:\"verb\"}),\n",
        "       (node2:Modifier_Location{text:\"In SAP\",type:\"ARGM-LOC\"}),\n",
        "       (node3:Frame_Argument{text:\"that by default all user members of SAP_LocaAdmin are denied the ability to logon locally by security policy so that this can only occur if the system has already been compromised\",type:\"ARG1\"}),\n",
        "       (node4:Frame_Argument{type:\"ARG1\",Head:\"logon\",offsetStart:76,offsetEnd:81,confidence_score:0.6351,wikipediaExternalRef:9878372,wikidataId:\"Q472302\",domains:\"Computer_Science\"}),\n",
        "\n",
        "       (node2)-[:HAS_ARGUMENT]->(node1),\n",
        "       (node3)-[:HAS_ARGUMENT]->(node1),\n",
        "       (node4)-[:HAS_ARGUMENT]->(node1)\n",
        "\n",
        "MERGE (description:Description {cveId:\"CVE-2023-0012\"})\n",
        "MERGE (frame:Frame {text:\"Note\"})\n",
        "MERGE (description)-[:MAPPED_WITH]->(frame)       \n",
        "\n",
        "\"\"\"\n",
        "result = conn.query(explore_reviews_csv_query)\n",
        "print(result)"
      ]
    },
    {
      "cell_type": "code",
      "execution_count": 617,
      "metadata": {
        "id": "Tlpm6WuqNkjy",
        "colab": {
          "base_uri": "https://localhost:8080/"
        },
        "outputId": "bcfe78d7-3524-44a6-989c-8e4e7484725a"
      },
      "outputs": [
        {
          "output_type": "stream",
          "name": "stdout",
          "text": [
            "[]\n"
          ]
        }
      ],
      "source": [
        "explore_reviews_csv_query = \"\"\"\n",
        "CREATE (node1:Frame {text:\"denied\",type:\"Verb\"}),\n",
        "       (node2:Modifier_Manner{text:\"by default all user members of\",type:\"ARGM-MNR\"}),\n",
        "       (node3:Frame_Argument{text:\"the ability to logon locally by security policy\",type:\"ARG1\"}),\n",
        "       (node4:Modifier_Purpose{text:\"so that this can only occur if the system has already been compromised\",type:\"ARGM-PRP\"}),\n",
        "       (node5:Frame_Argument{type:\"ARG0\",Head:\"security policy\",offsetStart:32,offsetEnd:47,confidence_score:0.5825,wikipediaExternalRef:34231217,wikidataId:\"Q1128636\",domains:\"Electronics, Computer_Science, Telecommunication\"}),\n",
        "\n",
        "       (node2)-[:HAS_ARGUMENT]->(node1),\n",
        "       (node3)-[:HAS_ARGUMENT]->(node1),\n",
        "       (node4)-[:HAS_ARGUMENT]->(node1),\n",
        "       (node5)-[:HAS_ARGUMENT]->(node1)\n",
        "\n",
        "MERGE (description:Description {cveId:\"CVE-2023-0012\"})\n",
        "MERGE (frame:Frame {text:\"denied\"})\n",
        "MERGE (description)-[:MAPPED_WITH]->(frame)        \n",
        "\n",
        "\"\"\"\n",
        "result = conn.query(explore_reviews_csv_query)\n",
        "print(result)"
      ]
    },
    {
      "cell_type": "code",
      "execution_count": 618,
      "metadata": {
        "id": "YZr_jd8CNlyL",
        "colab": {
          "base_uri": "https://localhost:8080/"
        },
        "outputId": "a9c01ed7-934c-4e3b-f3c0-ba9d9bfe3b20"
      },
      "outputs": [
        {
          "output_type": "stream",
          "name": "stdout",
          "text": [
            "[]\n"
          ]
        }
      ],
      "source": [
        "explore_reviews_csv_query = \"\"\"\n",
        "CREATE (node1:Frame {text:\"logon\",type:\"Verb\"}),\n",
        "       (node2:Frame_Argument{text:\"locally\",type:\"ARG1\"}),\n",
        "       (node3:Frame_Argument{text:\"by security\",type:\"ARG2\"}),\n",
        "\n",
        "       (node2)-[:HAS_ARGUMENT]->(node1),\n",
        "       (node3)-[:HAS_ARGUMENT]->(node1)\n",
        "\n",
        "MERGE (description:Description {cveId:\"CVE-2023-0012\"})\n",
        "MERGE (frame:Frame {text:\"logon\"})\n",
        "MERGE (description)-[:MAPPED_WITH]->(frame)       \n",
        "      \n",
        "\n",
        "\"\"\"\n",
        "result = conn.query(explore_reviews_csv_query)\n",
        "print(result)"
      ]
    },
    {
      "cell_type": "code",
      "execution_count": 619,
      "metadata": {
        "id": "p9WqiFIwNm1S",
        "colab": {
          "base_uri": "https://localhost:8080/"
        },
        "outputId": "4f50067a-547e-46d9-fc6a-b6c18be0803c"
      },
      "outputs": [
        {
          "output_type": "stream",
          "name": "stdout",
          "text": [
            "[]\n"
          ]
        }
      ],
      "source": [
        "explore_reviews_csv_query = \"\"\"\n",
        "CREATE (node1:Frame {text:\"occur\",type:\"Verb\"}),\n",
        "       (node2:Frame_Argument{text:\"this\",type:\"ARG1\"}),\n",
        "       (node3:Modifier_Modal{text:\"can\",type:\"ARGM-MOD\"}),\n",
        "       (node4:Modifier_Adverbial{text:\"only\",type:\"ARGM-ADV\"}),\n",
        "       (node5:Modifier_Adverbial{text:\"if the system has already been compromised\",type:\"ARGM-ADV\"}),\n",
        "\n",
        "       (node2)-[:HAS_ARGUMENT]->(node1),\n",
        "       (node3)-[:HAS_ARGUMENT]->(node1),\n",
        "       (node4)-[:HAS_ARGUMENT]->(node1),\n",
        "       (node5)-[:HAS_ARGUMENT]->(node1)\n",
        "\n",
        "MERGE (description:Description {cveId:\"CVE-2023-0012\"})\n",
        "MERGE (frame:Frame {text:\"occur\"})\n",
        "MERGE (description)-[:MAPPED_WITH]->(frame)        \n",
        "\n",
        "\"\"\"\n",
        "result = conn.query(explore_reviews_csv_query)\n",
        "print(result)"
      ]
    },
    {
      "cell_type": "code",
      "execution_count": 620,
      "metadata": {
        "id": "qg51jo8dNo2u",
        "colab": {
          "base_uri": "https://localhost:8080/"
        },
        "outputId": "77e80007-f910-4b8b-b821-578e9983a94c"
      },
      "outputs": [
        {
          "output_type": "stream",
          "name": "stdout",
          "text": [
            "[]\n"
          ]
        }
      ],
      "source": [
        "explore_reviews_csv_query = \"\"\"\n",
        "CREATE (node1:Frame {text:\"compromised\",type:\"Verb\"}),\n",
        "       (node2:Frame_Argument{text:\"the system\",type:\"ARG1\"}),\n",
        "       (node3:Modifier_Temporal{text:\"already\",type:\"ARGM-TMP\"}),\n",
        "\n",
        "       (node2)-[:HAS_ARGUMENT]->(node1),\n",
        "       (node3)-[:HAS_ARGUMENT]->(node1)\n",
        "\n",
        "MERGE (description:Description {cveId:\"CVE-2023-0012\"})\n",
        "MERGE (frame:Frame {text:\"compromised\"})\n",
        "MERGE (description)-[:MAPPED_WITH]->(frame)       \n",
        "\n",
        "\"\"\"\n",
        "result = conn.query(explore_reviews_csv_query)\n",
        "print(result)"
      ]
    },
    {
      "cell_type": "code",
      "execution_count": 621,
      "metadata": {
        "id": "mLviV6NxNn6W",
        "colab": {
          "base_uri": "https://localhost:8080/"
        },
        "outputId": "16e43a50-94bf-4067-ee40-129032ecb5cb"
      },
      "outputs": [
        {
          "output_type": "stream",
          "name": "stdout",
          "text": [
            "[]\n"
          ]
        }
      ],
      "source": [
        "explore_reviews_csv_query = \"\"\"\n",
        "CREATE (node1:Frame {text:\"encode\",type:\"Verb\"}),\n",
        "       (node2:Frame_Argument{text:\"The ABAP Keyword Documentation of SAP NetWeaver Application Server - versions 702 , 731 , 740 , 750 , 751 , 752 , 753 , 754 , 755 , 756 , 757 , for ABAP and ABAP Platform\",type:\"ARG0\"}),\n",
        "       (node3:Modifier_Negation{text:\"not\",type:\"ARGM-NEG\"}),\n",
        "       (node4:Modifier_Manner{text:\"sufficiently\",type:\"ARGM-MNR\"}),\n",
        "       (node5:Frame_Argument{text:\"user - controlled inputs\",type:\"ARG1\"}),\n",
        "       (node6:Modifier_Adverbial{text:\"resulting in Cross - Site Scripting ( XSS ) vulnerability . On successful exploitation an attacker can cause limited impact on confidentiality and integrity of the application\",type:\"ARGM-ADV\"}),\n",
        "       (node7:Frame_Argument{type:\"ARG1\",Head:\"user-controlled\",offsetStart:189,offsetEnd:204,confidence_score:0.4601,wikipediaExternalRef:21875249,wikidataId:\"Q3561045\",domains:\"Computer_Science\"}),\n",
        "       (node8:Frame_Argument{type:\"ARG1\",Head:\"inputs\",offsetStart:205,offsetEnd:211,confidence_score:0.3879,wikipediaExternalRef:11231,wikidataId:\"Q210947\",domains:\"Finance,Sociology,Economy,Commerce,Enterprise\"}),\n",
        "\n",
        "       (node2)-[:HAS_ARGUMENT]->(node1),\n",
        "       (node3)-[:HAS_ARGUMENT]->(node1),\n",
        "       (node4)-[:HAS_ARGUMENT]->(node1),\n",
        "       (node5)-[:HAS_ARGUMENT]->(node1),\n",
        "       (node6)-[:HAS_ARGUMENT]->(node1),\n",
        "       (node7)-[:HAS_ARGUMENT]->(node1),\n",
        "       (node8)-[:HAS_ARGUMENT]->(node1)\n",
        "\n",
        "MERGE (description:Description {cveId:\"CVE-2023-0013\"})\n",
        "MERGE (frame:Frame {text:\"encode\"})\n",
        "MERGE (description)-[:MAPPED_WITH]->(frame)        \n",
        "\n",
        "\"\"\"\n",
        "result = conn.query(explore_reviews_csv_query)\n",
        "print(result)"
      ]
    },
    {
      "cell_type": "code",
      "execution_count": 622,
      "metadata": {
        "id": "X1Aq_2RVNqDm",
        "colab": {
          "base_uri": "https://localhost:8080/"
        },
        "outputId": "8205b044-6278-4e1e-c878-fd7d23b30f70"
      },
      "outputs": [
        {
          "output_type": "stream",
          "name": "stdout",
          "text": [
            "[]\n"
          ]
        }
      ],
      "source": [
        "explore_reviews_csv_query = \"\"\"\n",
        "CREATE (node1:Frame {text:\"controlled\",type:\"Verb\"}),\n",
        "       (node2:Frame_Argument{text:\"user\",type:\"ARG0\"}),\n",
        "       (node3:Frame_Argument{text:\"inputs\",type:\"ARG1\"}),\n",
        "\n",
        "       (node2)-[:HAS_ARGUMENT]->(node1),\n",
        "       (node3)-[:HAS_ARGUMENT]->(node1)\n",
        "\n",
        "MERGE (description:Description {cveId:\"CVE-2023-0013\"})\n",
        "MERGE (frame:Frame {text:\"controlled\"})\n",
        "MERGE (description)-[:MAPPED_WITH]->(frame)        \n",
        "\n",
        "\"\"\"\n",
        "result = conn.query(explore_reviews_csv_query)\n",
        "print(result)"
      ]
    },
    {
      "cell_type": "code",
      "execution_count": 623,
      "metadata": {
        "id": "HAlGxjMENq9t",
        "colab": {
          "base_uri": "https://localhost:8080/"
        },
        "outputId": "21cbc713-3b11-45f3-829c-a90b8780f67b"
      },
      "outputs": [
        {
          "output_type": "stream",
          "name": "stdout",
          "text": [
            "[]\n"
          ]
        }
      ],
      "source": [
        "explore_reviews_csv_query = \"\"\"\n",
        "CREATE (node1:Frame {text:\"cause\",type:\"Verb\"}),\n",
        "       (node2:Modifier_Location{text:\"On successful exploitation\",type:\"ARGM-LOC\"}),\n",
        "       (node3:Frame_Argument{text:\"an attacker\",type:\"ARG0\"}),\n",
        "       (node4:Modifier_Modal{text:\"can\",type:\"ARGM-MOD\"}),\n",
        "       (node5:Frame_Argument{text:\"limited impact on confidentiality and integrity of the application\",type:\"ARG1\"}),\n",
        "\n",
        "       (node2)-[:HAS_ARGUMENT]->(node1),\n",
        "       (node3)-[:HAS_ARGUMENT]->(node1),\n",
        "       (node4)-[:HAS_ARGUMENT]->(node1),\n",
        "       (node5)-[:HAS_ARGUMENT]->(node1)\n",
        "\n",
        "MERGE (description:Description {cveId:\"CVE-2023-0013\"})\n",
        "MERGE (frame:Frame {text:\"cause\"})\n",
        "MERGE (description)-[:MAPPED_WITH]->(frame)        \n",
        "\n",
        "\"\"\"\n",
        "result = conn.query(explore_reviews_csv_query)\n",
        "print(result)"
      ]
    },
    {
      "cell_type": "code",
      "execution_count": 624,
      "metadata": {
        "id": "YWkiE2vtNsPd",
        "colab": {
          "base_uri": "https://localhost:8080/"
        },
        "outputId": "585098cc-fb9f-4c0d-f48f-188fe2d0e6d5"
      },
      "outputs": [
        {
          "output_type": "stream",
          "name": "stdout",
          "text": [
            "[]\n"
          ]
        }
      ],
      "source": [
        "explore_reviews_csv_query = \"\"\"\n",
        "CREATE (node1:Frame {text:\"creates\",type:\"Verb\"}),\n",
        "       (node2:Frame_Argument{text:\"SAP NetWeaver ABAP Server and ABAP Platform - versions SAP_BASIS 700 , 701 , 702 , 710 , 711 , 730 , 731 , 740 , 750 , 751 , 752 , 753 , 754 , 755 , 756 , 757 , KERNEL 7.22 , 7.53 , 7.77 , 7.81 , 7.85 , 7.89 , KRNL64UC 7.22 , 7.22EXT , 7.53 , KRNL64NUC 7.22 , 7.22EXT\",type:\"ARG0\"}),\n",
        "       (node3:Frame_Argument{text:\"information about system identity\",type:\"ARG1\"}),\n",
        "       (node4:Modifier_Location{text:\"in an ambiguous format\",type:\"ARGM-LOC\"}),\n",
        "       (node5:Frame_Argument{type:\"ARG1\",Head:\"KERNEL\",offsetStart:161,offsetEnd:167,confidence_score:0.4157,wikipediaExternalRef:21346982,wikidataId:\"Q9662\",domains:\"Computer_Science\"}),\n",
        "\n",
        "       (node2)-[:HAS_ARGUMENT]->(node1),\n",
        "       (node3)-[:HAS_ARGUMENT]->(node1),\n",
        "       (node4)-[:HAS_ARGUMENT]->(node1),\n",
        "       (node5)-[:HAS_ARGUMENT]->(node1)\n",
        "\n",
        "MERGE (description:Description {cveId:\"CVE-2023-0014\"})\n",
        "MERGE (frame:Frame {text:\"creates\"})\n",
        "MERGE (description)-[:MAPPED_WITH]->(frame)        \n",
        "\n",
        "\"\"\"\n",
        "result = conn.query(explore_reviews_csv_query)\n",
        "print(result)"
      ]
    },
    {
      "cell_type": "code",
      "execution_count": 625,
      "metadata": {
        "id": "f3UO_q-mNtXL",
        "colab": {
          "base_uri": "https://localhost:8080/"
        },
        "outputId": "59d6bb13-9a92-4803-fcf9-b5c5c5e04f8f"
      },
      "outputs": [
        {
          "output_type": "stream",
          "name": "stdout",
          "text": [
            "[]\n"
          ]
        }
      ],
      "source": [
        "explore_reviews_csv_query = \"\"\"\n",
        "CREATE (node1:Frame {text:\"lead\",type:\"Verb\"}),\n",
        "       (node2:Frame_Argument{text:\"This\",type:\"ARG0\"}),\n",
        "       (node3:Modifier_Modal{text:\"could\",type:\"ARGM-MOD\"}),\n",
        "       (node4:Frame_Argument{text:\"to capture - replay vulnerability\",type:\"ARG2\"}),\n",
        "       (node5:Frame_Argument{type:\"ARG1\",Head:\"vulnerability\",offsetStart:20,offsetEnd:33,confidence_score:0.3654,wikipediaExternalRef:1129827,wikidataId:\"Q631425\",domains:\"Military,Computer_Science\"}),\n",
        "\n",
        "       (node2)-[:HAS_ARGUMENT]->(node1),\n",
        "       (node3)-[:HAS_ARGUMENT]->(node1),\n",
        "       (node4)-[:HAS_ARGUMENT]->(node1),\n",
        "       (node5)-[:HAS_ARGUMENT]->(node1)\n",
        "\n",
        "MERGE (description:Description {cveId:\"CVE-2023-0014\"})\n",
        "MERGE (frame:Frame {text:\"lead\"})\n",
        "MERGE (description)-[:MAPPED_WITH]->(frame)       \n",
        "\n",
        "\"\"\"\n",
        "result = conn.query(explore_reviews_csv_query)\n",
        "print(result)"
      ]
    },
    {
      "cell_type": "code",
      "execution_count": 626,
      "metadata": {
        "id": "oB5R3dBoQWqv",
        "colab": {
          "base_uri": "https://localhost:8080/"
        },
        "outputId": "97a604b1-085d-4917-930b-cafbeb023b3a"
      },
      "outputs": [
        {
          "output_type": "stream",
          "name": "stdout",
          "text": [
            "[]\n"
          ]
        }
      ],
      "source": [
        "explore_reviews_csv_query = \"\"\"\n",
        "CREATE (node1:Frame {text:\"may\",type:\"Verb\"}),\n",
        "       (node2:Modifier_Modal{text:\"could\",type:\"ARGM-MOD\"}),\n",
        "       (node3:Frame_Argument{text:\"be exploited by malicious users to obtain illegitimate access to the system\",type:\"ARG1\"}),\n",
        "       (node4:Frame_Argument{type:\"ARG0\",Head:\"malicious users\",offsetStart:16,offsetEnd:31,confidence_score:0.6062,wikipediaExternalRef:2471540,wikidataId:\"Q2798820\",domains:\"Computer_Science\"}),\n",
        "\n",
        "       (node2)-[:HAS_ARGUMENT]->(node1),\n",
        "       (node3)-[:HAS_ARGUMENT]->(node1),\n",
        "       (node4)-[:HAS_ARGUMENT]->(node1)\n",
        "\n",
        "MERGE (description:Description {cveId:\"CVE-2023-0014\"})\n",
        "MERGE (frame:Frame {text:\"may\"})\n",
        "MERGE (description)-[:MAPPED_WITH]->(frame)       \n",
        "\n",
        "\"\"\"\n",
        "result = conn.query(explore_reviews_csv_query)\n",
        "print(result)"
      ]
    },
    {
      "cell_type": "code",
      "execution_count": 627,
      "metadata": {
        "id": "jTIZT8-fxEJE",
        "colab": {
          "base_uri": "https://localhost:8080/"
        },
        "outputId": "ffbf6c83-e996-4fb5-cc97-747af5fb8563"
      },
      "outputs": [
        {
          "output_type": "stream",
          "name": "stdout",
          "text": [
            "[]\n"
          ]
        }
      ],
      "source": [
        "explore_reviews_csv_query = \"\"\"\n",
        "CREATE (node1:Frame {text:\"exploited\",type:\"Verb\"}),\n",
        "       (node2:Frame_Argument{text:\"This\",type:\"ARG1\"}),\n",
        "       (node3:Modifier_Modal{text:\"may\",type:\"ARGM-MOD\"}),\n",
        "       (node4:Frame_Argument{text:\"by malicious users\",type:\"ARG0\"}),\n",
        "       (node5:Frame_Argument{text:\"to obtain illegitimate access to the system\",type:\"ARG2\"}),\n",
        "\n",
        "       (node2)-[:HAS_ARGUMENT]->(node1),\n",
        "       (node3)-[:HAS_ARGUMENT]->(node1),\n",
        "       (node4)-[:HAS_ARGUMENT]->(node1),\n",
        "       (node5)-[:HAS_ARGUMENT]->(node1)\n",
        "\n",
        "MERGE (description:Description {cveId:\"CVE-2023-0014\"})\n",
        "MERGE (frame:Frame {text:\"exploited\"})\n",
        "MERGE (description)-[:MAPPED_WITH]->(frame)       \n",
        "\n",
        "\"\"\"\n",
        "result = conn.query(explore_reviews_csv_query)\n",
        "print(result)"
      ]
    },
    {
      "cell_type": "code",
      "execution_count": 628,
      "metadata": {
        "id": "ZJ4s34ypxFEX",
        "colab": {
          "base_uri": "https://localhost:8080/"
        },
        "outputId": "a8abf517-8fd9-4ec5-c559-ed5dadd39222"
      },
      "outputs": [
        {
          "output_type": "stream",
          "name": "stdout",
          "text": [
            "[]\n"
          ]
        }
      ],
      "source": [
        "explore_reviews_csv_query = \"\"\"\n",
        "CREATE (node1:Frame {text:\"return\",type:\"Verb\"}),\n",
        "       (node2:Frame_Argument{text:\"some calls\",type:\"ARG0\"}),\n",
        "       (node3:Frame_Argument{text:\"json\",type:\"ARG1\"}),\n",
        "       (node4:Modifier_Manner{text:\"with wrong content type\",type:\"ARGM-MNR\"}),\n",
        "       (node5:Modifier_Manner{text:\"in the header of the\",type:\"ARGM-MNR\"}),\n",
        "\n",
        "       (node2)-[:HAS_ARGUMENT]->(node1),\n",
        "       (node3)-[:HAS_ARGUMENT]->(node1),\n",
        "       (node4)-[:HAS_ARGUMENT]->(node1),\n",
        "       (node5)-[:HAS_ARGUMENT]->(node1)\n",
        "\n",
        "MERGE (description:Description {cveId:\"CVE-2023-0015\"})\n",
        "MERGE (frame:Frame {text:\"return\"})\n",
        "MERGE (description)-[:MAPPED_WITH]->(frame)        \n",
        "\n",
        "\"\"\"\n",
        "result = conn.query(explore_reviews_csv_query)\n",
        "print(result)"
      ]
    },
    {
      "cell_type": "code",
      "execution_count": 629,
      "metadata": {
        "id": "GnCyLc3SxGEL",
        "colab": {
          "base_uri": "https://localhost:8080/"
        },
        "outputId": "d261a7ec-d549-4e4a-bb93-c8cfd917b899"
      },
      "outputs": [
        {
          "output_type": "stream",
          "name": "stdout",
          "text": [
            "[]\n"
          ]
        }
      ],
      "source": [
        "explore_reviews_csv_query = \"\"\"\n",
        "CREATE (node1:Frame {text:\"calls\",type:\"Verb\"}),\n",
        "       (node2:Frame_Argument{text:\"a custom application\",type:\"ARG0\"}),\n",
        "       (node3:Reference{text:\"that\",type:\"R-ARG0\"}),\n",
        "       (node4:Modifier_Manner{text:\"directly\",type:\"ARGM-MNR\"}),\n",
        "       (node5:Frame_Argument{text:\"the jsp of Web Intelligence\",type:\"ARG1\"}),\n",
        "\n",
        "       (node2)-[:HAS_ARGUMENT]->(node1),\n",
        "       (node3)-[:HAS_ARGUMENT]->(node1),\n",
        "       (node4)-[:HAS_ARGUMENT]->(node1),\n",
        "       (node5)-[:HAS_ARGUMENT]->(node1)\n",
        "\n",
        "MERGE (description:Description {cveId:\"CVE-2023-0015\"})\n",
        "MERGE (frame:Frame {text:\"calls\"})\n",
        "MERGE (description)-[:MAPPED_WITH]->(frame)        \n",
        "\n",
        "\"\"\"\n",
        "result = conn.query(explore_reviews_csv_query)\n",
        "print(result)"
      ]
    },
    {
      "cell_type": "code",
      "execution_count": 630,
      "metadata": {
        "id": "ejO46JMLxG5C",
        "colab": {
          "base_uri": "https://localhost:8080/"
        },
        "outputId": "083bf17f-ae04-4869-cfda-0dfd98a3a310"
      },
      "outputs": [
        {
          "output_type": "stream",
          "name": "stdout",
          "text": [
            "[]\n"
          ]
        }
      ],
      "source": [
        "explore_reviews_csv_query = \"\"\"\n",
        "CREATE (node1:Frame {text:\"be\",type:\"Verb\"}),\n",
        "       (node2:Frame_Argument{text:\"a custom application that calls directly the jsp of Web Intelligence DHTML\",type:\"ARG1\"}),\n",
        "       (node3:Modifier_Modal{text:\"may\",type:\"ARGM-MOD\"}),\n",
        "       (node4:Frame_Argument{text:\"vulnerable to XSS attacks\",type:\"ARG2\"}),\n",
        "\n",
        "       (node2)-[:HAS_ARGUMENT]->(node1),\n",
        "       (node3)-[:HAS_ARGUMENT]->(node1),\n",
        "       (node4)-[:HAS_ARGUMENT]->(node1)\n",
        "\n",
        "MERGE (description:Description {cveId:\"CVE-2023-0015\"})\n",
        "MERGE (frame:Frame {text:\"be\"})\n",
        "MERGE (description)-[:MAPPED_WITH]->(frame)       \n",
        "\n",
        "\"\"\"\n",
        "result = conn.query(explore_reviews_csv_query)\n",
        "print(result)"
      ]
    },
    {
      "cell_type": "code",
      "execution_count": 631,
      "metadata": {
        "id": "NJxnNpvpxH0p",
        "colab": {
          "base_uri": "https://localhost:8080/"
        },
        "outputId": "2b77793f-d810-4933-c04e-668633a66f36"
      },
      "outputs": [
        {
          "output_type": "stream",
          "name": "stdout",
          "text": [
            "[]\n"
          ]
        }
      ],
      "source": [
        "explore_reviews_csv_query = \"\"\"\n",
        "CREATE (node1:Frame {text:\"cause\",type:\"Verb\"}),\n",
        "       (node2:Modifier_Location{text:\"On successful exploitation\",type:\"ARGM-LOC\"}),\n",
        "       (node3:Frame_Argument{text:\"an attacker\",type:\"ARG0\"}),\n",
        "       (node4:Modifier_Modal{text:\"can\",type:\"ARGM-MOD\"}),\n",
        "       (node5:Frame_Argument{text:\"limited impact on confidentiality and integrity of the application\",type:\"ARG1\"}),\n",
        "\n",
        "       (node2)-[:HAS_ARGUMENT]->(node1),\n",
        "       (node3)-[:HAS_ARGUMENT]->(node1),\n",
        "       (node4)-[:HAS_ARGUMENT]->(node1),\n",
        "       (node5)-[:HAS_ARGUMENT]->(node1)\n",
        "\n",
        "MERGE (description:Description {cveId:\"CVE-2023-0015\"})\n",
        "MERGE (frame:Frame {text:\"cause\"})\n",
        "MERGE (description)-[:MAPPED_WITH]->(frame)       \n",
        "\n",
        "\"\"\"\n",
        "result = conn.query(explore_reviews_csv_query)\n",
        "print(result)"
      ]
    },
    {
      "cell_type": "code",
      "execution_count": 632,
      "metadata": {
        "id": "ksvrkEhsxI2c",
        "colab": {
          "base_uri": "https://localhost:8080/"
        },
        "outputId": "ad4af865-ee13-4833-a380-16fd1e11560c"
      },
      "outputs": [
        {
          "output_type": "stream",
          "name": "stdout",
          "text": [
            "[]\n"
          ]
        }
      ],
      "source": [
        "explore_reviews_csv_query = \"\"\"\n",
        "CREATE (node1:Frame {text:\"allows\",type:\"Verb\"}),\n",
        "       (node2:Frame_Argument{text:\"SAP BPC MS 10.0 - version 810\",type:\"ARG0\"}),\n",
        "       (node3:Frame_Argument{text:\"an unauthorized attacker to execute crafted database queries\",type:\"ARG1\"}),\n",
        "       (node4:Frame_Argument{type:\"ARG1\",Head:\"unauthorized\",offsetStart:41,offsetEnd:53,confidence_score:0.3687,wikipediaExternalRef:151617,wikidataId:\"Q788590\",domains:\"Sociology,Electronics,Engineering\"}),\n",
        "       (node5:Frame_Argument{type:\"ARG1\",Head:\"attacker\",offsetStart:54,offsetEnd:62,confidence_score:0.4001,wikipediaExternalRef:428681,wikidataId:\"Q280658\",domains:\"Biology\"}),\n",
        "\n",
        "\n",
        "       (node2)-[:HAS_ARGUMENT]->(node1),\n",
        "       (node3)-[:HAS_ARGUMENT]->(node1),\n",
        "       (node4)-[:HAS_ARGUMENT]->(node1),\n",
        "       (node5)-[:HAS_ARGUMENT]->(node1)\n",
        "\n",
        "MERGE (description:Description {cveId:\"CVE-2023-0016\"})\n",
        "MERGE (frame:Frame {text:\"allows\"})\n",
        "MERGE (description)-[:MAPPED_WITH]->(frame)       \n",
        "\n",
        "\"\"\"\n",
        "result = conn.query(explore_reviews_csv_query)\n",
        "print(result)"
      ]
    },
    {
      "cell_type": "code",
      "execution_count": 633,
      "metadata": {
        "id": "7lGP5TUuxJ_h",
        "colab": {
          "base_uri": "https://localhost:8080/"
        },
        "outputId": "83a19228-0de4-4371-b13e-2296433a6cde"
      },
      "outputs": [
        {
          "output_type": "stream",
          "name": "stdout",
          "text": [
            "[]\n"
          ]
        }
      ],
      "source": [
        "explore_reviews_csv_query = \"\"\"\n",
        "CREATE (node1:Frame {text:\"execute\",type:\"Verb\"}),\n",
        "       (node2:Frame_Argument{text:\"an unauthorized attacker\",type:\"ARG0\"}),\n",
        "       (node3:Frame_Argument{text:\"crafted database queries\",type:\"ARG1\"}),\n",
        "\n",
        "       (node2)-[:HAS_ARGUMENT]->(node1),\n",
        "       (node3)-[:HAS_ARGUMENT]->(node1)\n",
        "\n",
        "MERGE (description:Description {cveId:\"CVE-2023-0016\"})\n",
        "MERGE (frame:Frame {text:\"execute\"})\n",
        "MERGE (description)-[:MAPPED_WITH]->(frame)       \n",
        "\n",
        "\"\"\"\n",
        "result = conn.query(explore_reviews_csv_query)\n",
        "print(result)"
      ]
    },
    {
      "cell_type": "code",
      "execution_count": 634,
      "metadata": {
        "id": "aZUemEcexMKR",
        "colab": {
          "base_uri": "https://localhost:8080/"
        },
        "outputId": "d1cd3424-7f6f-4621-aa73-a7274e9b5414"
      },
      "outputs": [
        {
          "output_type": "stream",
          "name": "stdout",
          "text": [
            "[]\n"
          ]
        }
      ],
      "source": [
        "explore_reviews_csv_query = \"\"\"\n",
        "CREATE (node1:Frame {text:\"lead\",type:\"Verb\"}),\n",
        "       (node2:Frame_Argument{text:\"The exploitation of this issue\",type:\"ARG0\"}),\n",
        "       (node3:Modifier_Modal{text:\"could\",type:\"ARGM-MOD\"}),\n",
        "       (node4:Frame_Argument{text:\"to SQL injection vulnerability\",type:\"ARG2\"}),\n",
        "\n",
        "       (node2)-[:HAS_ARGUMENT]->(node1),\n",
        "       (node3)-[:HAS_ARGUMENT]->(node1),\n",
        "       (node4)-[:HAS_ARGUMENT]->(node1)\n",
        "\n",
        "MERGE (description:Description {cveId:\"CVE-2023-0016\"})\n",
        "MERGE (frame:Frame {text:\"lead\"})\n",
        "MERGE (description)-[:MAPPED_WITH]->(frame)        \n",
        "\n",
        "\"\"\"\n",
        "result = conn.query(explore_reviews_csv_query)\n",
        "print(result)"
      ]
    },
    {
      "cell_type": "code",
      "execution_count": 635,
      "metadata": {
        "id": "P4iipYB3xNGH",
        "colab": {
          "base_uri": "https://localhost:8080/"
        },
        "outputId": "b5237c01-3c98-4934-bb35-7171220c05ad"
      },
      "outputs": [
        {
          "output_type": "stream",
          "name": "stdout",
          "text": [
            "[]\n"
          ]
        }
      ],
      "source": [
        "explore_reviews_csv_query = \"\"\"\n",
        "CREATE (node1:Frame {text:\"could\",type:\"Verb\"}),\n",
        "       (node2:Frame_Argument{text:\"The exploitation of this issue\",type:\"ARG0\"}),\n",
        "       (node3:Modifier_Modal{text:\"could\",type:\"ARGM-MOD\"}),\n",
        "       (node4:Frame_Argument{text:\"allow an attacker to access , modify , and/or delete data from the backend database\",type:\"ARG1\"}),\n",
        "\n",
        "       (node2)-[:HAS_ARGUMENT]->(node1),\n",
        "       (node3)-[:HAS_ARGUMENT]->(node1),\n",
        "       (node4)-[:HAS_ARGUMENT]->(node1)\n",
        "\n",
        "MERGE (description:Description {cveId:\"CVE-2023-0016\"})\n",
        "MERGE (frame:Frame {text:\"could\"})\n",
        "MERGE (description)-[:MAPPED_WITH]->(frame)       \n",
        "\n",
        "\"\"\"\n",
        "result = conn.query(explore_reviews_csv_query)\n",
        "print(result)"
      ]
    },
    {
      "cell_type": "code",
      "execution_count": 636,
      "metadata": {
        "id": "e84wr0dWxOHU",
        "colab": {
          "base_uri": "https://localhost:8080/"
        },
        "outputId": "e89d71ed-e707-479b-9a83-03107b91ac7b"
      },
      "outputs": [
        {
          "output_type": "stream",
          "name": "stdout",
          "text": [
            "[]\n"
          ]
        }
      ],
      "source": [
        "explore_reviews_csv_query = \"\"\"\n",
        "CREATE (node1:Frame {text:\"allow\",type:\"Verb\"}),\n",
        "       (node2:Frame_Argument{text:\"The exploitation of this issue\",type:\"ARG0\"}),\n",
        "       (node3:Modifier_Modal{text:\"could\",type:\"ARGM-MOD\"}),\n",
        "       (node4:Frame_Argument{text:\"an attacker to access , modify , and/or delete data from the backend database\",type:\"ARG1\"}),\n",
        "\n",
        "       (node2)-[:HAS_ARGUMENT]->(node1),\n",
        "       (node3)-[:HAS_ARGUMENT]->(node1),\n",
        "       (node4)-[:HAS_ARGUMENT]->(node1)\n",
        "\n",
        "MERGE (description:Description {cveId:\"CVE-2023-0016\"})\n",
        "MERGE (frame:Frame {text:\"allow\"})\n",
        "MERGE (description)-[:MAPPED_WITH]->(frame)       \n",
        "\n",
        "\"\"\"\n",
        "result = conn.query(explore_reviews_csv_query)\n",
        "print(result)"
      ]
    },
    {
      "cell_type": "code",
      "execution_count": 637,
      "metadata": {
        "id": "BuhxF1RkxPH8",
        "colab": {
          "base_uri": "https://localhost:8080/"
        },
        "outputId": "41fa9250-8248-4ab0-a4ba-dae2926b6323"
      },
      "outputs": [
        {
          "output_type": "stream",
          "name": "stdout",
          "text": [
            "[]\n"
          ]
        }
      ],
      "source": [
        "explore_reviews_csv_query = \"\"\"\n",
        "CREATE (node1:Frame {text:\"can\",type:\"Verb\"}),\n",
        "       (node2:Frame_Argument{text:\"An unauthenticated attacker in SAP NetWeaver AS for Java - version 7.50\",type:\"ARG0\"}),\n",
        "       (node3:Frame_Argument{text:\"attach to an open interface and make use of an open naming and directory API to access services which can be used to perform unauthorized operations affecting users and data on the current\",type:\"ARG1\"}),\n",
        "       (node4:Frame_Argument{type:\"ARG1\",Head:\"unauthorized\",offsetStart:125,offsetEnd:137,confidence_score:0.3803,wikipediaExternalRef:18948365,wikidataId:\"Q647578\",domains:\"Electronics,Computer_Science,Economy,Sociology\"}),\n",
        "\n",
        "       (node2)-[:HAS_ARGUMENT]->(node1),\n",
        "       (node3)-[:HAS_ARGUMENT]->(node1),\n",
        "       (node4)-[:HAS_ARGUMENT]->(node1)\n",
        "\n",
        "MERGE (description:Description {cveId:\"CVE-2023-0017\"})\n",
        "MERGE (frame:Frame {text:\"can\"})\n",
        "MERGE (description)-[:MAPPED_WITH]->(frame)       \n",
        "\n",
        "\"\"\"\n",
        "result = conn.query(explore_reviews_csv_query)\n",
        "print(result)"
      ]
    },
    {
      "cell_type": "code",
      "execution_count": 638,
      "metadata": {
        "id": "vIJkIyV5xQV5",
        "colab": {
          "base_uri": "https://localhost:8080/"
        },
        "outputId": "1c1c46ba-00fb-4243-e969-6768c77705f0"
      },
      "outputs": [
        {
          "output_type": "stream",
          "name": "stdout",
          "text": [
            "[]\n"
          ]
        }
      ],
      "source": [
        "explore_reviews_csv_query = \"\"\"\n",
        "CREATE (node1:Frame {text:\"attach\",type:\"Verb\"}),\n",
        "       (node2:Frame_Argument{text:\"An unauthenticated attacker in SAP NetWeaver AS for Java - version 7.50 , due to improper access control\",type:\"ARG0\"}),\n",
        "       (node3:Modifier_Modal{text:\"can\",type:\"ARGM-MOD\"}),\n",
        "       (node4:Frame_Argument{text:\"to an open interface\",type:\"ARG2\"}),\n",
        "\n",
        "       (node2)-[:HAS_ARGUMENT]->(node1),\n",
        "       (node3)-[:HAS_ARGUMENT]->(node1),\n",
        "       (node4)-[:HAS_ARGUMENT]->(node1)\n",
        "\n",
        "MERGE (description:Description {cveId:\"CVE-2023-0017\"})\n",
        "MERGE (frame:Frame {text:\"attach\"})\n",
        "MERGE (description)-[:MAPPED_WITH]->(frame)       \n",
        "\n",
        "\"\"\"\n",
        "result = conn.query(explore_reviews_csv_query)\n",
        "print(result)"
      ]
    },
    {
      "cell_type": "code",
      "execution_count": 639,
      "metadata": {
        "id": "bWmIxjA0xRai",
        "colab": {
          "base_uri": "https://localhost:8080/"
        },
        "outputId": "67e07013-03a5-4017-ebd9-e13f5bb1c505"
      },
      "outputs": [
        {
          "output_type": "stream",
          "name": "stdout",
          "text": [
            "[]\n"
          ]
        }
      ],
      "source": [
        "explore_reviews_csv_query = \"\"\"\n",
        "CREATE (node1:Frame {text:\"make\",type:\"Verb\"}),\n",
        "       (node2:Frame_Argument{text:\"An unauthenticated attacker in SAP NetWeaver AS for Java - version 7.50 , due to improper access control\",type:\"ARG0\"}),\n",
        "       (node3:Modifier_Modal{text:\"can\",type:\"ARGM-MOD\"}),\n",
        "       (node4:Frame_Argument{text:\"use of an open naming and directory API to access services which can be used to perform unauthorized operations affecting users and data on the current system\",type:\"ARG1\"}),\n",
        "\n",
        "       (node2)-[:HAS_ARGUMENT]->(node1),\n",
        "       (node3)-[:HAS_ARGUMENT]->(node1),\n",
        "       (node4)-[:HAS_ARGUMENT]->(node1)\n",
        "\n",
        "MERGE (description:Description {cveId:\"CVE-2023-0017\"})\n",
        "MERGE (frame:Frame {text:\"make\"})\n",
        "MERGE (description)-[:MAPPED_WITH]->(frame)       \n",
        "\n",
        "\"\"\"\n",
        "result = conn.query(explore_reviews_csv_query)\n",
        "print(result)"
      ]
    },
    {
      "cell_type": "code",
      "execution_count": 640,
      "metadata": {
        "id": "a5SMemIjxTC0",
        "colab": {
          "base_uri": "https://localhost:8080/"
        },
        "outputId": "84ea5e9b-669e-4800-fb98-e553436d4b5d"
      },
      "outputs": [
        {
          "output_type": "stream",
          "name": "stdout",
          "text": [
            "[]\n"
          ]
        }
      ],
      "source": [
        "explore_reviews_csv_query = \"\"\"\n",
        "CREATE (node1:Frame {text:\"used\",type:\"Verb\"}),\n",
        "       (node2:Frame_Argument{text:\"access services\",type:\"ARG1\"}),\n",
        "       (node3:Reference{text:\"which\",type:\"R-ARG1\"}),\n",
        "       (node4:Modifier_Modal{text:\"can\",type:\"ARGM-MOD\"}),\n",
        "       (node5:Frame_Argument{text:\"to perform unauthorized operations affecting users and data on the current system\",type:\"ARG2\"}),\n",
        "\n",
        "       (node2)-[:HAS_ARGUMENT]->(node1),\n",
        "       (node3)-[:HAS_ARGUMENT]->(node1),\n",
        "       (node4)-[:HAS_ARGUMENT]->(node1),\n",
        "       (node5)-[:HAS_ARGUMENT]->(node1)\n",
        "\n",
        "MERGE (description:Description {cveId:\"CVE-2023-0017\"})\n",
        "MERGE (frame:Frame {text:\"used\"})\n",
        "MERGE (description)-[:MAPPED_WITH]->(frame)       \n",
        "\n",
        "\"\"\"\n",
        "result = conn.query(explore_reviews_csv_query)\n",
        "print(result)"
      ]
    },
    {
      "cell_type": "code",
      "execution_count": 641,
      "metadata": {
        "id": "dofYm29TxT9T",
        "colab": {
          "base_uri": "https://localhost:8080/"
        },
        "outputId": "87d848b6-eb78-4dff-85c5-bdf7311976d7"
      },
      "outputs": [
        {
          "output_type": "stream",
          "name": "stdout",
          "text": [
            "[]\n"
          ]
        }
      ],
      "source": [
        "explore_reviews_csv_query = \"\"\"\n",
        "CREATE (node1:Frame {text:\"perform\",type:\"Verb\"}),\n",
        "       (node2:Frame_Argument{text:\"access services\",type:\"ARG0\"}),\n",
        "       (node3:Frame_Argument{text:\"unauthorized operations affecting users and data on the current system\",type:\"ARG1\"}),\n",
        "       (node4:Frame_Argument{type:\"ARG1\",Head:\"unauthorized\",offsetStart:234,offsetEnd:246,confidence_score:0.3753,wikipediaExternalRef:205662,wikidataId:\"Q502918\",domains:\"Commerce, Enterprise, Finance\"}),\n",
        "\n",
        "       (node2)-[:HAS_ARGUMENT]->(node1),\n",
        "       (node3)-[:HAS_ARGUMENT]->(node1),\n",
        "       (node4)-[:HAS_ARGUMENT]->(node1)\n",
        "\n",
        "MERGE (description:Description {cveId:\"CVE-2023-0017\"})\n",
        "MERGE (frame:Frame {text:\"perform\"})\n",
        "MERGE (description)-[:MAPPED_WITH]->(frame)       \n",
        "\n",
        "\"\"\"\n",
        "result = conn.query(explore_reviews_csv_query)\n",
        "print(result)"
      ]
    },
    {
      "cell_type": "code",
      "execution_count": 642,
      "metadata": {
        "id": "VM2-rf8kxU5l",
        "colab": {
          "base_uri": "https://localhost:8080/"
        },
        "outputId": "18ea8107-b034-4b10-9d55-49ec9b1ba881"
      },
      "outputs": [
        {
          "output_type": "stream",
          "name": "stdout",
          "text": [
            "[]\n"
          ]
        }
      ],
      "source": [
        "explore_reviews_csv_query = \"\"\"\n",
        "CREATE (node1:Frame {text:\"affecting\",type:\"Verb\"}),\n",
        "       (node2:Frame_Argument{text:\"unauthorized operations\",type:\"ARG0\"}),\n",
        "       (node3:Frame_Argument{text:\"users\",type:\"ARG1\"}),\n",
        "\n",
        "       (node2)-[:HAS_ARGUMENT]->(node1),\n",
        "       (node3)-[:HAS_ARGUMENT]->(node1)\n",
        "\n",
        "MERGE (description:Description {cveId:\"CVE-2023-0017\"})\n",
        "MERGE (frame:Frame {text:\"affecting\"})\n",
        "MERGE (description)-[:MAPPED_WITH]->(frame)        \n",
        "\n",
        "\"\"\"\n",
        "result = conn.query(explore_reviews_csv_query)\n",
        "print(result)"
      ]
    },
    {
      "cell_type": "code",
      "execution_count": 643,
      "metadata": {
        "id": "cgTdPA78xV1C",
        "colab": {
          "base_uri": "https://localhost:8080/"
        },
        "outputId": "a8fd1a3a-24d4-4d52-c8c8-57221896733c"
      },
      "outputs": [
        {
          "output_type": "stream",
          "name": "stdout",
          "text": [
            "[]\n"
          ]
        }
      ],
      "source": [
        "explore_reviews_csv_query = \"\"\"\n",
        "CREATE (node1:Frame {text:\"could\",type:\"Verb\"}),\n",
        "       (node2:Frame_Argument{text:\"This\",type:\"ARG0\"}),\n",
        "       (node3:Frame_Argument{text:\"allow the attacker to have full read access to user data , make modifications to user data , and make services within the system unavailable\",type:\"ARG1\"}),\n",
        "\n",
        "       (node2)-[:HAS_ARGUMENT]->(node1),\n",
        "       (node3)-[:HAS_ARGUMENT]->(node1)\n",
        "\n",
        "MERGE (description:Description {cveId:\"CVE-2023-0017\"})\n",
        "MERGE (frame:Frame {text:\"could\"})\n",
        "MERGE (description)-[:MAPPED_WITH]->(frame)       \n",
        "\n",
        "\"\"\"\n",
        "result = conn.query(explore_reviews_csv_query)\n",
        "print(result)"
      ]
    },
    {
      "cell_type": "code",
      "execution_count": 644,
      "metadata": {
        "id": "KbG6_9-RxXVD",
        "colab": {
          "base_uri": "https://localhost:8080/"
        },
        "outputId": "c0a90e87-ea44-44bc-8e43-1458f0b0f20f"
      },
      "outputs": [
        {
          "output_type": "stream",
          "name": "stdout",
          "text": [
            "[]\n"
          ]
        }
      ],
      "source": [
        "explore_reviews_csv_query = \"\"\"\n",
        "CREATE (node1:Frame {text:\"allow\",type:\"Verb\"}),\n",
        "       (node2:Frame_Argument{text:\"This\",type:\"ARG0\"}),\n",
        "       (node3:Modifier_Modal{text:\"could\",type:\"ARGM-MOD\"}),\n",
        "       (node4:Frame_Argument{text:\"the attacker to have full read access to user data , make modifications to user data , and make services within the system unavailable\",type:\"ARG1\"}),\n",
        "\n",
        "       (node2)-[:HAS_ARGUMENT]->(node1),\n",
        "       (node3)-[:HAS_ARGUMENT]->(node1),\n",
        "       (node4)-[:HAS_ARGUMENT]->(node1)\n",
        "\n",
        "MERGE (description:Description {cveId:\"CVE-2023-0017\"})\n",
        "MERGE (frame:Frame {text:\"allow\"})\n",
        "MERGE (description)-[:MAPPED_WITH]->(frame)       \n",
        "\n",
        "\"\"\"\n",
        "result = conn.query(explore_reviews_csv_query)\n",
        "print(result)"
      ]
    },
    {
      "cell_type": "code",
      "execution_count": 645,
      "metadata": {
        "id": "zs77hxE3xYfT",
        "colab": {
          "base_uri": "https://localhost:8080/"
        },
        "outputId": "e4d46870-c81c-423b-fa52-467b01fcac58"
      },
      "outputs": [
        {
          "output_type": "stream",
          "name": "stdout",
          "text": [
            "[]\n"
          ]
        }
      ],
      "source": [
        "explore_reviews_csv_query = \"\"\"\n",
        "CREATE (node1:Frame {text:\"have\",type:\"Verb\"}),\n",
        "       (node2:Frame_Argument{text:\"the attacker\",type:\"ARG0\"}),\n",
        "       (node3:Frame_Argument{text:\"full read access to user data\",type:\"ARG1\"}),\n",
        "\n",
        "       (node2)-[:HAS_ARGUMENT]->(node1),\n",
        "       (node3)-[:HAS_ARGUMENT]->(node1)\n",
        "\n",
        "MERGE (description:Description {cveId:\"CVE-2023-0017\"})\n",
        "MERGE (frame:Frame {text:\"have\"})\n",
        "MERGE (description)-[:MAPPED_WITH]->(frame)       \n",
        "\n",
        "\"\"\"\n",
        "result = conn.query(explore_reviews_csv_query)\n",
        "print(result)"
      ]
    },
    {
      "cell_type": "code",
      "execution_count": 646,
      "metadata": {
        "id": "5kEWiXXFxcGW",
        "colab": {
          "base_uri": "https://localhost:8080/"
        },
        "outputId": "df0c45a5-b635-4ced-f2a0-d80b3c59aa19"
      },
      "outputs": [
        {
          "output_type": "stream",
          "name": "stdout",
          "text": [
            "[]\n"
          ]
        }
      ],
      "source": [
        "explore_reviews_csv_query = \"\"\"\n",
        "CREATE (node1:Frame {text:\"user\",type:\"Verb\"}),\n",
        "       (node2:Frame_Argument{text:\"full read\",type:\"ARG0\"}),\n",
        "       (node3:Frame_Argument{text:\"data\",type:\"ARG1\"}),\n",
        "\n",
        "       (node2)-[:HAS_ARGUMENT]->(node1),\n",
        "       (node3)-[:HAS_ARGUMENT]->(node1)\n",
        "\n",
        "MERGE (description:Description {cveId:\"CVE-2023-0017\"})\n",
        "MERGE (frame:Frame {text:\"user\"})\n",
        "MERGE (description)-[:MAPPED_WITH]->(frame)       \n",
        "\n",
        "\"\"\"\n",
        "result = conn.query(explore_reviews_csv_query)\n",
        "print(result)"
      ]
    },
    {
      "cell_type": "code",
      "execution_count": 647,
      "metadata": {
        "id": "FO0iycOExdEo",
        "colab": {
          "base_uri": "https://localhost:8080/"
        },
        "outputId": "7df856ec-ad6f-46d0-cf98-3c5b1a00f1c8"
      },
      "outputs": [
        {
          "output_type": "stream",
          "name": "stdout",
          "text": [
            "[]\n"
          ]
        }
      ],
      "source": [
        "explore_reviews_csv_query = \"\"\"\n",
        "CREATE (node1:Frame {text:\"make\",type:\"Verb\"}),\n",
        "       (node2:Frame_Argument{text:\"the attacker\",type:\"ARG0\"}),\n",
        "       (node3:Frame_Argument{text:\"modifications to user data , and make\",type:\"ARG1\"}),\n",
        "\n",
        "       (node2)-[:HAS_ARGUMENT]->(node1),\n",
        "       (node3)-[:HAS_ARGUMENT]->(node1)\n",
        "\n",
        "MERGE (description:Description {cveId:\"CVE-2023-0017\"})\n",
        "MERGE (frame:Frame {text:\"make\"})\n",
        "MERGE (description)-[:MAPPED_WITH]->(frame)       \n",
        "\n",
        "\"\"\"\n",
        "result = conn.query(explore_reviews_csv_query)\n",
        "print(result)"
      ]
    },
    {
      "cell_type": "code",
      "execution_count": 648,
      "metadata": {
        "id": "7-pb9hw2xd9Y",
        "colab": {
          "base_uri": "https://localhost:8080/"
        },
        "outputId": "ae5a0374-ada2-4966-a527-fe2405e53097"
      },
      "outputs": [
        {
          "output_type": "stream",
          "name": "stdout",
          "text": [
            "[]\n"
          ]
        }
      ],
      "source": [
        "explore_reviews_csv_query = \"\"\"\n",
        "CREATE (node1:Frame {text:\"make\",type:\"Verb\"}),\n",
        "       (node2:Frame_Argument{text:\"the attacker\",type:\"ARG0\"}),\n",
        "       (node3:Frame_Argument{text:\"services within the system\",type:\"ARG1\"}),\n",
        "       (node4:Modifier_Manner{text:\"unavailable\",type:\"ARGM-MNR\"}),\n",
        "\n",
        "       (node2)-[:HAS_ARGUMENT]->(node1),\n",
        "       (node3)-[:HAS_ARGUMENT]->(node1),\n",
        "       (node4)-[:HAS_ARGUMENT]->(node1)\n",
        "\n",
        "MERGE (description:Description {cveId:\"CVE-2023-0017\"})\n",
        "MERGE (frame:Frame {text:\"make\"})\n",
        "MERGE (description)-[:MAPPED_WITH]->(frame)       \n",
        "\n",
        "\"\"\"\n",
        "result = conn.query(explore_reviews_csv_query)\n",
        "print(result)"
      ]
    },
    {
      "cell_type": "code",
      "execution_count": 649,
      "metadata": {
        "id": "-PIZObvms17S",
        "colab": {
          "base_uri": "https://localhost:8080/"
        },
        "outputId": "47f492c8-fe23-4cac-e627-e0358194bee7"
      },
      "outputs": [
        {
          "output_type": "stream",
          "name": "stdout",
          "text": [
            "[]\n"
          ]
        }
      ],
      "source": [
        "explore_reviews_csv_query = \"\"\"\n",
        "CREATE (node1:Frame {text:\"controlled\",type:\"Verb\"}),\n",
        "       (node2:Frame_Argument{text:\"user\",type:\"ARG0\"}),\n",
        "       (node3:Frame_Argument{text:\"input\",type:\"ARG1\"}),\n",
        "\n",
        "       (node2)-[:HAS_ARGUMENT]->(node1),\n",
        "       (node3)-[:HAS_ARGUMENT]->(node1)\n",
        "\n",
        "MERGE (description:Description {cveId:\"CVE-2023-0018\"})\n",
        "MERGE (frame:Frame {text:\"controlled\"})\n",
        "MERGE (description)-[:MAPPED_WITH]->(frame)       \n",
        "\n",
        "\"\"\"\n",
        "result = conn.query(explore_reviews_csv_query)\n",
        "print(result)"
      ]
    },
    {
      "cell_type": "code",
      "execution_count": 650,
      "metadata": {
        "id": "e7w70wyaxe-Q",
        "colab": {
          "base_uri": "https://localhost:8080/"
        },
        "outputId": "be65139b-b321-4890-90a4-f76a9688cafe"
      },
      "outputs": [
        {
          "output_type": "stream",
          "name": "stdout",
          "text": [
            "[]\n"
          ]
        }
      ],
      "source": [
        "explore_reviews_csv_query = \"\"\"\n",
        "CREATE (node1:Frame {text:\"modify\",type:\"Verb\"}),\n",
        "       (node2:Modifier_Cause{text:\"Due to improper input sanitization of user - controlled input in SAP BusinessObjects Business Intelligence\",type:\"ARGM-CAU\"}),\n",
        "       (node3:Frame_Argument{text:\"an attacker with basic user - level privileges\",type:\"ARG0\"}),\n",
        "       (node4:Modifier_Modal{text:\"can\",type:\"ARGM-MOD\"}),\n",
        "       (node5:Frame_Argument{text:\"reports containing a malicious payload\",type:\"ARG1\"}),\n",
        "\n",
        "       (node2)-[:HAS_ARGUMENT]->(node1),\n",
        "       (node3)-[:HAS_ARGUMENT]->(node1),\n",
        "       (node4)-[:HAS_ARGUMENT]->(node1),\n",
        "       (node5)-[:HAS_ARGUMENT]->(node1)\n",
        "       \n",
        "MERGE (description:Description {cveId:\"CVE-2023-0018\"})\n",
        "MERGE (frame:Frame {text:\"modify\"})\n",
        "MERGE (description)-[:MAPPED_WITH]->(frame)       \n",
        "\n",
        "\"\"\"\n",
        "result = conn.query(explore_reviews_csv_query)\n",
        "print(result)"
      ]
    },
    {
      "cell_type": "code",
      "execution_count": 651,
      "metadata": {
        "id": "wf7i4Wsvxf9s",
        "colab": {
          "base_uri": "https://localhost:8080/"
        },
        "outputId": "425a1774-be81-479e-c639-a7f92ebec26a"
      },
      "outputs": [
        {
          "output_type": "stream",
          "name": "stdout",
          "text": [
            "[]\n"
          ]
        }
      ],
      "source": [
        "explore_reviews_csv_query = \"\"\"\n",
        "CREATE (node1:Frame {text:\"containing\",type:\"Verb\"}),\n",
        "       (node2:Frame_Argument{text:\"reports\",type:\"ARG0\"}),\n",
        "       (node3:Frame_Argument{text:\"a malicious payload\",type:\"ARG1\"}),\n",
        "       \n",
        "       (node2)-[:HAS_ARGUMENT]->(node1),\n",
        "       (node3)-[:HAS_ARGUMENT]->(node1)\n",
        "      \n",
        "MERGE (description:Description {cveId:\"CVE-2023-0018\"})\n",
        "MERGE (frame:Frame {text:\"containing\"})\n",
        "MERGE (description)-[:MAPPED_WITH]->(frame)        \n",
        "\n",
        "\"\"\"\n",
        "result = conn.query(explore_reviews_csv_query)\n",
        "print(result)"
      ]
    },
    {
      "cell_type": "code",
      "execution_count": 652,
      "metadata": {
        "id": "GWCDz-hJxg9y",
        "colab": {
          "base_uri": "https://localhost:8080/"
        },
        "outputId": "8e3e5067-2dd2-4f11-9546-28f08f121fe5"
      },
      "outputs": [
        {
          "output_type": "stream",
          "name": "stdout",
          "text": [
            "[]\n"
          ]
        }
      ],
      "source": [
        "explore_reviews_csv_query = \"\"\"\n",
        "CREATE (node1:Frame {text:\"are\",type:\"Verb\"}),\n",
        "       (node2:Frame_Argument{text:\"these reports\",type:\"ARG1\"}),\n",
        "       (node3:Frame_Argument{text:\"viewable\",type:\"ARG2\"}),\n",
        "\n",
        "       (node2)-[:HAS_ARGUMENT]->(node1),\n",
        "       (node3)-[:HAS_ARGUMENT]->(node1)\n",
        "\n",
        "MERGE (description:Description {cveId:\"CVE-2023-0018\"})\n",
        "MERGE (frame:Frame {text:\"are\"})\n",
        "MERGE (description)-[:MAPPED_WITH]->(frame)       \n",
        "\n",
        "\"\"\"\n",
        "result = conn.query(explore_reviews_csv_query)\n",
        "print(result)"
      ]
    },
    {
      "cell_type": "code",
      "execution_count": 653,
      "metadata": {
        "id": "RViaMR2Sxh6U",
        "colab": {
          "base_uri": "https://localhost:8080/"
        },
        "outputId": "c3b47d8a-4488-4831-9faa-4b272ba17b28"
      },
      "outputs": [
        {
          "output_type": "stream",
          "name": "stdout",
          "text": [
            "[]\n"
          ]
        }
      ],
      "source": [
        "explore_reviews_csv_query = \"\"\"\n",
        "CREATE (node1:Frame {text:\"opens\",type:\"Verb\"}),\n",
        "       (node2:Frame_Argument{text:\"anyone\",type:\"ARG0\"}),\n",
        "       (node3:Reference{text:\"who\",type:\"R-ARG0\"}),\n",
        "       (node4:Frame_Argument{text:\"those reports\",type:\"ARG1\"}),\n",
        "\n",
        "       (node2)-[:HAS_ARGUMENT]->(node1),\n",
        "       (node3)-[:HAS_ARGUMENT]->(node1),\n",
        "       (node4)-[:HAS_ARGUMENT]->(node1)\n",
        "\n",
        "MERGE (description:Description {cveId:\"CVE-2023-0018\"})\n",
        "MERGE (frame:Frame {text:\"opens\"})\n",
        "MERGE (description)-[:MAPPED_WITH]->(frame)       \n",
        "\n",
        "\"\"\"\n",
        "result = conn.query(explore_reviews_csv_query)\n",
        "print(result)"
      ]
    },
    {
      "cell_type": "code",
      "execution_count": 654,
      "metadata": {
        "id": "tJx83bcgxi98",
        "colab": {
          "base_uri": "https://localhost:8080/"
        },
        "outputId": "7daa49ce-8810-4804-d917-6746c216107e"
      },
      "outputs": [
        {
          "output_type": "stream",
          "name": "stdout",
          "text": [
            "[]\n"
          ]
        }
      ],
      "source": [
        "explore_reviews_csv_query = \"\"\"\n",
        "CREATE (node1:Frame {text:\"be\",type:\"Verb\"}),\n",
        "       (node2:Frame_Argument{text:\"anyone who opens those reports\",type:\"ARG1\"}),\n",
        "       (node3:Modifier_Modal{text:\"would\",type:\"ARGM-MOD\"}),\n",
        "       (node4:Frame_Argument{text:\"susceptible to stored XSS attacks\",type:\"ARG2\"}),\n",
        "       (node5:Modifier_Cause{text:\"As\",type:\"ARGM-CAU\"}),\n",
        "\n",
        "       (node2)-[:HAS_ARGUMENT]->(node1),\n",
        "       (node3)-[:HAS_ARGUMENT]->(node1),\n",
        "       (node4)-[:HAS_ARGUMENT]->(node1),\n",
        "       (node5)-[:HAS_ARGUMENT]->(node1)\n",
        "\n",
        "MERGE (description:Description {cveId:\"CVE-2023-0018\"})\n",
        "MERGE (frame:Frame {text:\"be\"})\n",
        "MERGE (description)-[:MAPPED_WITH]->(frame)        \n",
        "\n",
        "\"\"\"\n",
        "result = conn.query(explore_reviews_csv_query)\n",
        "print(result)"
      ]
    },
    {
      "cell_type": "code",
      "execution_count": 655,
      "metadata": {
        "id": "sbFiOw_Axj_F",
        "colab": {
          "base_uri": "https://localhost:8080/"
        },
        "outputId": "90a14d7a-fc4d-4a72-8143-32d9ffa498da"
      },
      "outputs": [
        {
          "output_type": "stream",
          "name": "stdout",
          "text": [
            "[]\n"
          ]
        }
      ],
      "source": [
        "explore_reviews_csv_query = \"\"\"\n",
        "CREATE (node1:Frame {text:\"maintained\",type:\"Verb\"}),\n",
        "       (node2:Frame_Argument{text:\"information\",type:\"ARG1\"}),\n",
        "       (node3:Modifier_Location{text:\"in the victim 's web browser\",type:\"ARGM-LOC\"}),\n",
        "\n",
        "       (node2)-[:HAS_ARGUMENT]->(node1),\n",
        "       (node3)-[:HAS_ARGUMENT]->(node1)\n",
        "\n",
        "MERGE (description:Description {cveId:\"CVE-2023-0018\"})\n",
        "MERGE (frame:Frame {text:\"maintained\"})\n",
        "MERGE (description)-[:MAPPED_WITH]->(frame)       \n",
        "\n",
        "\"\"\"\n",
        "result = conn.query(explore_reviews_csv_query)\n",
        "print(result)"
      ]
    },
    {
      "cell_type": "code",
      "execution_count": 656,
      "metadata": {
        "id": "7De5Gg1pxk2U",
        "colab": {
          "base_uri": "https://localhost:8080/"
        },
        "outputId": "c18e5719-7420-4480-9421-d6d09271fc18"
      },
      "outputs": [
        {
          "output_type": "stream",
          "name": "stdout",
          "text": [
            "[]\n"
          ]
        }
      ],
      "source": [
        "explore_reviews_csv_query = \"\"\"\n",
        "CREATE (node1:Frame {text:\"read\",type:\"Verb\"}),\n",
        "       (node2:Modifier_Cause{text:\"As a result of the attack\",type:\"ARGM-CAU\"}),\n",
        "       (node3:Frame_Argument{text:\"information maintained in the victim 's web browser\",type:\"ARG1\"}),\n",
        "       (node4:Modifier_Modal{text:\"can\",type:\"ARGM-MOD\"}),\n",
        "\n",
        "       (node2)-[:HAS_ARGUMENT]->(node1),\n",
        "       (node3)-[:HAS_ARGUMENT]->(node1),\n",
        "       (node4)-[:HAS_ARGUMENT]->(node1)\n",
        "\n",
        "MERGE (description:Description {cveId:\"CVE-2023-0018\"})\n",
        "MERGE (frame:Frame {text:\"read\"})\n",
        "MERGE (description)-[:MAPPED_WITH]->(frame)       \n",
        "\n",
        "\"\"\"\n",
        "result = conn.query(explore_reviews_csv_query)\n",
        "print(result)"
      ]
    },
    {
      "cell_type": "code",
      "execution_count": 657,
      "metadata": {
        "id": "JlhqWV8pxl1E",
        "colab": {
          "base_uri": "https://localhost:8080/"
        },
        "outputId": "c7821a1c-740f-4aaa-c9d1-10ffc1a16582"
      },
      "outputs": [
        {
          "output_type": "stream",
          "name": "stdout",
          "text": [
            "[]\n"
          ]
        }
      ],
      "source": [
        "explore_reviews_csv_query = \"\"\"\n",
        "CREATE (node1:Frame {text:\"modified\",type:\"Verb\"}),\n",
        "       (node2:Frame_Argument{text:\"information maintained in the victim 's web browser\",type:\"ARG1\"}),\n",
        "       (node3:Modifier_Modal{text:\"can\",type:\"ARGM-MOD\"}),\n",
        "\n",
        "       (node2)-[:HAS_ARGUMENT]->(node1),\n",
        "       (node3)-[:HAS_ARGUMENT]->(node1)\n",
        "\n",
        "MERGE (description:Description {cveId:\"CVE-2023-0018\"})\n",
        "MERGE (frame:Frame {text:\"modified\"})\n",
        "MERGE (description)-[:MAPPED_WITH]->(frame)       \n",
        "\n",
        "\"\"\"\n",
        "result = conn.query(explore_reviews_csv_query)\n",
        "print(result)"
      ]
    },
    {
      "cell_type": "code",
      "execution_count": 658,
      "metadata": {
        "id": "UzxmXlMuxmzu",
        "colab": {
          "base_uri": "https://localhost:8080/"
        },
        "outputId": "0ea38fe4-c803-47fc-8d51-45c41c483a0c"
      },
      "outputs": [
        {
          "output_type": "stream",
          "name": "stdout",
          "text": [
            "[]\n"
          ]
        }
      ],
      "source": [
        "explore_reviews_csv_query = \"\"\"\n",
        "CREATE (node1:Frame {text:\"sent\",type:\"Verb\"}),\n",
        "       (node2:Frame_Argument{text:\"information maintained in the victim 's web browser\",type:\"ARG1\"}),\n",
        "       (node3:Modifier_Modal{text:\"can\",type:\"ARGM-MOD\"}),\n",
        "       (node4:Frame_Argument{text:\"to the attacker\",type:\"ARG2\"}),\n",
        "\n",
        "       (node2)-[:HAS_ARGUMENT]->(node1),\n",
        "       (node3)-[:HAS_ARGUMENT]->(node1),\n",
        "       (node4)-[:HAS_ARGUMENT]->(node1)\n",
        "\n",
        "MERGE (description:Description {cveId:\"CVE-2023-0018\"})\n",
        "MERGE (frame:Frame {text:\"sent\"})\n",
        "MERGE (description)-[:MAPPED_WITH]->(frame)       \n",
        "\n",
        "\"\"\"\n",
        "result = conn.query(explore_reviews_csv_query)\n",
        "print(result)"
      ]
    },
    {
      "cell_type": "code",
      "execution_count": 659,
      "metadata": {
        "id": "QnGTfdgFxn2o",
        "colab": {
          "base_uri": "https://localhost:8080/"
        },
        "outputId": "a010edd0-f46a-4698-8290-e7f9308177e5"
      },
      "outputs": [
        {
          "output_type": "stream",
          "name": "stdout",
          "text": [
            "[]\n"
          ]
        }
      ],
      "source": [
        "explore_reviews_csv_query = \"\"\"\n",
        "CREATE (node1:Frame {text:\"allows\",type:\"Verb\"}),\n",
        "       (node2:Frame_Argument{text:\"SAP BusinessObjects Business Intelligence Analysis edition for OLAP\",type:\"ARG0\"}),\n",
        "       (node3:Frame_Argument{text:\"an authenticated attacker to inject malicious code that can be executed by the application over the network . On successful exploitation , an attacker can perform operations that may completely compromise the application causing a high impact on the confidentiality , integrity , and availability of the application\",type:\"ARG1\"}),\n",
        "       (node4:Frame_Argument{type:\"ARG0\",Head:\"authenticated\",offsetStart:3,offsetEnd:16,confidence_score:0.3605,wikipediaExternalRef:47967,wikidataId:\"Q212108\",domains:\"Economy,Electronics,Engineering\"}),\n",
        "       (node5:Frame_Argument{type:\"ARG1\",Head:\"malicious code\",offsetStart:36,offsetEnd:50,confidence_score:0.4342,wikipediaExternalRef:20901,wikidataId:\"Q14001\",domains:\"Computer_Science\"}),\n",
        "\n",
        "       (node2)-[:HAS_ARGUMENT]->(node1),\n",
        "       (node3)-[:HAS_ARGUMENT]->(node1),\n",
        "       (node4)-[:HAS_ARGUMENT]->(node1),\n",
        "       (node5)-[:HAS_ARGUMENT]->(node1)\n",
        "\n",
        "MERGE (description:Description {cveId:\"CVE-2023-0022\"})\n",
        "MERGE (frame:Frame {text:\"allows\"})\n",
        "MERGE (description)-[:MAPPED_WITH]->(frame)       \n",
        "\n",
        "\"\"\"\n",
        "result = conn.query(explore_reviews_csv_query)\n",
        "print(result)"
      ]
    },
    {
      "cell_type": "code",
      "execution_count": 660,
      "metadata": {
        "id": "7WnIajMJxoz6",
        "colab": {
          "base_uri": "https://localhost:8080/"
        },
        "outputId": "c5e5a228-b214-495f-cd68-b487ef5663f7"
      },
      "outputs": [
        {
          "output_type": "stream",
          "name": "stdout",
          "text": [
            "[]\n"
          ]
        }
      ],
      "source": [
        "explore_reviews_csv_query = \"\"\"\n",
        "CREATE (node1:Frame {text:\"inject\",type:\"Verb\"}),\n",
        "       (node2:Frame_Argument{text:\"an authenticated attacker\",type:\"ARG0\"}),\n",
        "       (node3:Frame_Argument{text:\"malicious code that can be executed by the application over the network . On successful exploitation\",type:\"ARG1\"}),\n",
        "       (node4:Frame_Argument{type:\"ARG1\",Head:\"malicious code\",offsetStart:0,offsetEnd:14,confidence_score:0.4342,wikipediaExternalRef:20901,wikidataId:\"Q14001\",domains:\"Computer_Science\"}),\n",
        "\n",
        "       (node2)-[:HAS_ARGUMENT]->(node1),\n",
        "       (node3)-[:HAS_ARGUMENT]->(node1),\n",
        "       (node4)-[:HAS_ARGUMENT]->(node1)\n",
        "\n",
        "MERGE (description:Description {cveId:\"CVE-2023-0022\"})\n",
        "MERGE (frame:Frame {text:\"inject\"})\n",
        "MERGE (description)-[:MAPPED_WITH]->(frame)       \n",
        "\n",
        "\"\"\"\n",
        "result = conn.query(explore_reviews_csv_query)\n",
        "print(result)"
      ]
    },
    {
      "cell_type": "code",
      "execution_count": 661,
      "metadata": {
        "id": "aW0UU04GxqD4",
        "colab": {
          "base_uri": "https://localhost:8080/"
        },
        "outputId": "0cdc864e-78a3-4e3d-bb93-c9396952f415"
      },
      "outputs": [
        {
          "output_type": "stream",
          "name": "stdout",
          "text": [
            "[]\n"
          ]
        }
      ],
      "source": [
        "explore_reviews_csv_query = \"\"\"\n",
        "CREATE (node1:Frame {text:\"executed\",type:\"Verb\"}),\n",
        "       (node2:Frame_Argument{text:\"malicious code\",type:\"ARG1\"}),\n",
        "       (node3:Reference{text:\"that\",type:\"R-ARG1\"}),\n",
        "       (node4:Modifier_Modal{text:\"can\",type:\"ARGM-MOD\"}),\n",
        "       (node5:Frame_Argument{text:\"by the application over the network\",type:\"ARG0\"}),\n",
        "      \n",
        "       (node2)-[:HAS_ARGUMENT]->(node1),\n",
        "       (node3)-[:HAS_ARGUMENT]->(node1),\n",
        "       (node4)-[:HAS_ARGUMENT]->(node1),\n",
        "       (node5)-[:HAS_ARGUMENT]->(node1)\n",
        "\n",
        "MERGE (description:Description {cveId:\"CVE-2023-0022\"})\n",
        "MERGE (frame:Frame {text:\"executed\"})\n",
        "MERGE (description)-[:MAPPED_WITH]->(frame)        \n",
        "\n",
        "\"\"\"\n",
        "result = conn.query(explore_reviews_csv_query)\n",
        "print(result)"
      ]
    },
    {
      "cell_type": "code",
      "execution_count": 662,
      "metadata": {
        "id": "4IOCQyZasv4A",
        "colab": {
          "base_uri": "https://localhost:8080/"
        },
        "outputId": "2aa11b8c-15d6-4938-875b-1643a167403c"
      },
      "outputs": [
        {
          "output_type": "stream",
          "name": "stdout",
          "text": [
            "[]\n"
          ]
        }
      ],
      "source": [
        "explore_reviews_csv_query = \"\"\"\n",
        "CREATE (node1:Frame {text:\"perform\",type:\"Verb\"}),\n",
        "       (node2:Frame_Argument{text:\"an attacker\",type:\"ARG0\"}),\n",
        "       (node3:Modifier_Modal{text:\"can\",type:\"ARGM-MOD\"}),\n",
        "       (node4:Frame_Argument{text:\"operations\",type:\"ARG1\"}),\n",
        "\n",
        "       (node2)-[:HAS_ARGUMENT]->(node1),\n",
        "       (node3)-[:HAS_ARGUMENT]->(node1),\n",
        "       (node4)-[:HAS_ARGUMENT]->(node1)\n",
        "\n",
        "MERGE (description:Description {cveId:\"CVE-2023-0022\"})\n",
        "MERGE (frame:Frame {text:\"perform\"})\n",
        "MERGE (description)-[:MAPPED_WITH]->(frame)       \n",
        "\n",
        "\"\"\"\n",
        "result = conn.query(explore_reviews_csv_query)\n",
        "print(result)"
      ]
    },
    {
      "cell_type": "code",
      "execution_count": 663,
      "metadata": {
        "id": "SS6uGNJ0sw7w",
        "colab": {
          "base_uri": "https://localhost:8080/"
        },
        "outputId": "14bd5119-221f-444b-bf7d-c7dceae7f739"
      },
      "outputs": [
        {
          "output_type": "stream",
          "name": "stdout",
          "text": [
            "[]\n"
          ]
        }
      ],
      "source": [
        "explore_reviews_csv_query = \"\"\"\n",
        "CREATE (node1:Frame {text:\"compromise\",type:\"Verb\"}),\n",
        "       (node2:Frame_Argument{text:\"operations\",type:\"ARG0\"}),\n",
        "       (node3:Reference{text:\"that\",type:\"R-ARG0\"}),\n",
        "       (node4:Modifier_Modal{text:\"may\",type:\"ARGM-MOD\"}),\n",
        "       (node5:Modifier_Extent{text:\"completely\",type:\"ARGM-EXT\"}),\n",
        "       (node6:Frame_Argument{text:\"the application causing a high impact on the confidentiality , integrity , and availability of the application\",type:\"ARG1\"}),\n",
        "\n",
        "       (node2)-[:HAS_ARGUMENT]->(node1),\n",
        "       (node3)-[:HAS_ARGUMENT]->(node1),\n",
        "       (node4)-[:HAS_ARGUMENT]->(node1),\n",
        "       (node5)-[:HAS_ARGUMENT]->(node1),\n",
        "       (node6)-[:HAS_ARGUMENT]->(node1)\n",
        "\n",
        "MERGE (description:Description {cveId:\"CVE-2023-0022\"})\n",
        "MERGE (frame:Frame {text:\"compromise\"})\n",
        "MERGE (description)-[:MAPPED_WITH]->(frame)       \n",
        "\n",
        "\"\"\"\n",
        "result = conn.query(explore_reviews_csv_query)\n",
        "print(result)"
      ]
    },
    {
      "cell_type": "code",
      "execution_count": 664,
      "metadata": {
        "id": "zK1Myi-WsyFA",
        "colab": {
          "base_uri": "https://localhost:8080/"
        },
        "outputId": "fd6cc165-d436-48aa-e924-c6f4b768b021"
      },
      "outputs": [
        {
          "output_type": "stream",
          "name": "stdout",
          "text": [
            "[]\n"
          ]
        }
      ],
      "source": [
        "explore_reviews_csv_query = \"\"\"\n",
        "CREATE (node1:Frame {text:\"causing\",type:\"Verb\"}),\n",
        "       (node2:Frame_Argument{text:\"the application\",type:\"ARG0\"}),\n",
        "       (node3:Frame_Argument{text:\"a high impact on the confidentiality , integrity , and availability of the application\",type:\"ARG1\"}),\n",
        "\n",
        "       (node2)-[:HAS_ARGUMENT]->(node1),\n",
        "       (node3)-[:HAS_ARGUMENT]->(node1)\n",
        "\n",
        "MERGE (description:Description {cveId:\"CVE-2023-0022\"})\n",
        "MERGE (frame:Frame {text:\"causing\"})\n",
        "MERGE (description)-[:MAPPED_WITH]->(frame)       \n",
        "\n",
        "\"\"\"\n",
        "result = conn.query(explore_reviews_csv_query)\n",
        "print(result)"
      ]
    },
    {
      "cell_type": "code",
      "execution_count": 665,
      "metadata": {
        "id": "500QHLa2szCF",
        "colab": {
          "base_uri": "https://localhost:8080/"
        },
        "outputId": "2f1a6609-8a78-445b-f0ac-998c6ea37b4c"
      },
      "outputs": [
        {
          "output_type": "stream",
          "name": "stdout",
          "text": [
            "[]\n"
          ]
        }
      ],
      "source": [
        "explore_reviews_csv_query = \"\"\"\n",
        "CREATE (node1:Frame {text:\"clicks\",type:\"Verb\"}),\n",
        "       (node2:Modifier_Temporal{text:\"when\",type:\"ARGM-TMP\"}),\n",
        "       (node3:Frame_Argument{text:\"a user\",type:\"ARG0\"}),\n",
        "       (node4:Frame_Argument{text:\"a smart link to navigate to another app\",type:\"ARG1\"}),\n",
        "\n",
        "       (node2)-[:HAS_ARGUMENT]->(node1),\n",
        "       (node3)-[:HAS_ARGUMENT]->(node1),\n",
        "       (node4)-[:HAS_ARGUMENT]->(node1)\n",
        "\n",
        "MERGE (description:Description {cveId:\"CVE-2023-0023\"})\n",
        "MERGE (frame:Frame {text:\"clicks\"})\n",
        "MERGE (description)-[:MAPPED_WITH]->(frame)       \n",
        "\n",
        "\"\"\"\n",
        "result = conn.query(explore_reviews_csv_query)\n",
        "print(result)"
      ]
    },
    {
      "cell_type": "code",
      "execution_count": 666,
      "metadata": {
        "id": "KdONSAoVsz9P",
        "colab": {
          "base_uri": "https://localhost:8080/"
        },
        "outputId": "f5578732-0c3a-420e-9438-a19fed8aa0d5"
      },
      "outputs": [
        {
          "output_type": "stream",
          "name": "stdout",
          "text": [
            "[]\n"
          ]
        }
      ],
      "source": [
        "explore_reviews_csv_query = \"\"\"\n",
        "CREATE (node1:Frame {text:\"navigate\",type:\"Verb\"}),\n",
        "       (node2:Frame_Argument{text:\"a user\",type:\"ARG0\"}),\n",
        "       (node3:Frame_Argument{text:\"to another app\",type:\"ARG1\"}),\n",
        "\n",
        "       (node2)-[:HAS_ARGUMENT]->(node1),\n",
        "       (node3)-[:HAS_ARGUMENT]->(node1)\n",
        "\n",
        "MERGE (description:Description {cveId:\"CVE-2023-0023\"})\n",
        "MERGE (frame:Frame {text:\"navigate\"})\n",
        "MERGE (description)-[:MAPPED_WITH]->(frame)       \n",
        "\n",
        "\"\"\"\n",
        "result = conn.query(explore_reviews_csv_query)\n",
        "print(result)"
      ]
    },
    {
      "cell_type": "code",
      "execution_count": 667,
      "metadata": {
        "id": "3vsStx39s05p",
        "colab": {
          "base_uri": "https://localhost:8080/"
        },
        "outputId": "5a2a50ab-5aca-45d8-b61e-36563195b050"
      },
      "outputs": [
        {
          "output_type": "stream",
          "name": "stdout",
          "text": [
            "[]\n"
          ]
        }
      ],
      "source": [
        "explore_reviews_csv_query = \"\"\"\n",
        "CREATE (node1:Frame {text:\"shown\",type:\"Verb\"}),\n",
        "       (node2:Modifier_Location{text:\"In SAP Bank Account Management ( Manage Banks ) application\",type:\"ARGM-LOC\"}),\n",
        "       (node3:Modifier_Temporal{text:\"when a user clicks a smart link to navigate to another app\",type:\"ARGM-TMP\"}),\n",
        "       (node4:Frame_Argument{text:\"personal data\",type:\"ARG1\"}),\n",
        "       (node5:Modifier_Manner{text:\"directly\",type:\"ARGM-MNR\"}),\n",
        "       (node6:Modifier_Location{text:\"in the URL\",type:\"ARGM-LOC\"}),\n",
        "\n",
        "       (node2)-[:HAS_ARGUMENT]->(node1),\n",
        "       (node3)-[:HAS_ARGUMENT]->(node1),\n",
        "       (node4)-[:HAS_ARGUMENT]->(node1), \n",
        "       (node5)-[:HAS_ARGUMENT]->(node1),\n",
        "       (node6)-[:HAS_ARGUMENT]->(node1)\n",
        "\n",
        "MERGE (description:Description {cveId:\"CVE-2023-0023\"})\n",
        "MERGE (frame:Frame {text:\"shown\"})\n",
        "MERGE (description)-[:MAPPED_WITH]->(frame)        \n",
        "\n",
        "\"\"\"\n",
        "result = conn.query(explore_reviews_csv_query)\n",
        "print(result)"
      ]
    },
    {
      "cell_type": "code",
      "execution_count": 668,
      "metadata": {
        "id": "poOinGq9s3fz",
        "colab": {
          "base_uri": "https://localhost:8080/"
        },
        "outputId": "471c627c-1c5d-438f-9e2e-df7cb36a8bf7"
      },
      "outputs": [
        {
          "output_type": "stream",
          "name": "stdout",
          "text": [
            "[]\n"
          ]
        }
      ],
      "source": [
        "explore_reviews_csv_query = \"\"\"\n",
        "CREATE (node1:Frame {text:\"get\",type:\"Verb\"}),\n",
        "       (node2:Frame_Argument{text:\"They\",type:\"ARG1\"}),\n",
        "       (node3:Modifier_Modal{text:\"might\",type:\"ARGM-MOD\"}),\n",
        "       (node4:Frame_Argument{text:\"captured in log files , bookmarks , and so on disclosing sensitive data of the application\",type:\"ARG2\"}),\n",
        "\n",
        "       (node2)-[:HAS_ARGUMENT]->(node1),\n",
        "       (node3)-[:HAS_ARGUMENT]->(node1),\n",
        "       (node4)-[:HAS_ARGUMENT]->(node1)\n",
        "\n",
        "MERGE (description:Description {cveId:\"CVE-2023-0023\"})\n",
        "MERGE (frame:Frame {text:\"get\"})\n",
        "MERGE (description)-[:MAPPED_WITH]->(frame)       \n",
        "\n",
        "\"\"\"\n",
        "result = conn.query(explore_reviews_csv_query)\n",
        "print(result)"
      ]
    },
    {
      "cell_type": "code",
      "execution_count": 669,
      "metadata": {
        "id": "fcSYYWXvrIjN",
        "colab": {
          "base_uri": "https://localhost:8080/"
        },
        "outputId": "b420e922-088d-4d12-f71d-fab3b5fb4cb8"
      },
      "outputs": [
        {
          "output_type": "stream",
          "name": "stdout",
          "text": [
            "[]\n"
          ]
        }
      ],
      "source": [
        "explore_reviews_csv_query = \"\"\"\n",
        "CREATE (node1:Frame {text:\"captured\",type:\"Verb\"}),\n",
        "       (node2:Frame_Argument{text:\"They\",type:\"ARG1\"}),\n",
        "       (node3:Modifier_Modal{text:\"might\",type:\"ARGM-MOD\"}),\n",
        "       (node4:Modifier_Location{text:\"in log files , bookmarks\",type:\"ARGM-LOC\"}),\n",
        "\n",
        "       (node2)-[:HAS_ARGUMENT]->(node1),\n",
        "       (node3)-[:HAS_ARGUMENT]->(node1),\n",
        "       (node4)-[:HAS_ARGUMENT]->(node1)\n",
        "\n",
        "MERGE (description:Description {cveId:\"CVE-2023-0023\"})\n",
        "MERGE (frame:Frame {text:\"captured\"})\n",
        "MERGE (description)-[:MAPPED_WITH]->(frame)       \n",
        "\n",
        "\"\"\"\n",
        "result = conn.query(explore_reviews_csv_query)\n",
        "print(result)"
      ]
    },
    {
      "cell_type": "code",
      "execution_count": 670,
      "metadata": {
        "id": "z0lmbOAvrJhw",
        "colab": {
          "base_uri": "https://localhost:8080/"
        },
        "outputId": "be343351-4c81-4213-8de0-3c3125237784"
      },
      "outputs": [
        {
          "output_type": "stream",
          "name": "stdout",
          "text": [
            "[]\n"
          ]
        }
      ],
      "source": [
        "explore_reviews_csv_query = \"\"\"\n",
        "CREATE (node1:Frame {text:\"Stored\",type:\"Verb\"}),\n",
        "       (node2:Frame_Argument{text:\")\",type:\"ARG0\"}),\n",
        "       (node3:Frame_Argument{text:\"in GitHub repository linagora / twake\",type:\"ARG1\"}),\n",
        "       (node4:Modifier_Temporal{text:\"prior to 2023.Q1.1200 +\",type:\"ARGM-TMP\"}),\n",
        "\n",
        "       (node2)-[:HAS_ARGUMENT]->(node1),\n",
        "       (node3)-[:HAS_ARGUMENT]->(node1),\n",
        "       (node4)-[:HAS_ARGUMENT]->(node1)\n",
        "\n",
        "MERGE (description:Description {cveId:\"CVE-2023-0028\"})\n",
        "MERGE (frame:Frame {text:\"Stored\"})\n",
        "MERGE (description)-[:MAPPED_WITH]->(frame)       \n",
        "\n",
        "\"\"\"\n",
        "result = conn.query(explore_reviews_csv_query)\n",
        "print(result)"
      ]
    },
    {
      "cell_type": "code",
      "execution_count": 671,
      "metadata": {
        "id": "bGSHdBPrrKZa",
        "colab": {
          "base_uri": "https://localhost:8080/"
        },
        "outputId": "01656917-adf9-4119-ae95-a38d0a28c152"
      },
      "outputs": [
        {
          "output_type": "stream",
          "name": "stdout",
          "text": [
            "[]\n"
          ]
        }
      ],
      "source": [
        "explore_reviews_csv_query = \"\"\"\n",
        "CREATE (node1:Frame {text:\"found\",type:\"Verb\"}),\n",
        "       (node2:Frame_Argument{text:\"A vulnerability\",type:\"ARG1\"}),\n",
        "       (node3:Modifier_Location{text:\"in Multilaser RE708 RE1200R4GC-2T2R - V3_v3411b_MUL029B.\",type:\"ARGM-LOC\"}),\n",
        "\n",
        "       (node2)-[:HAS_ARGUMENT]->(node1),\n",
        "       (node3)-[:HAS_ARGUMENT]->(node1)\n",
        "\n",
        "MERGE (description:Description {cveId:\"CVE-2023-0029\"})\n",
        "MERGE (frame:Frame {text:\"found\"})\n",
        "MERGE (description)-[:MAPPED_WITH]->(frame)       \n",
        "\n",
        "\"\"\"\n",
        "result = conn.query(explore_reviews_csv_query)\n",
        "print(result)"
      ]
    },
    {
      "cell_type": "code",
      "execution_count": 672,
      "metadata": {
        "id": "tJHKnfZcrLP1",
        "colab": {
          "base_uri": "https://localhost:8080/"
        },
        "outputId": "7caf40ef-7d49-4d91-b692-9e816ef10b4a"
      },
      "outputs": [
        {
          "output_type": "stream",
          "name": "stdout",
          "text": [
            "[]\n"
          ]
        }
      ],
      "source": [
        "explore_reviews_csv_query = \"\"\"\n",
        "CREATE (node1:Frame {text:\"rated\",type:\"Verb\"}),\n",
        "       (node2:Frame_Argument{text:\"in Multilaser RE708 RE1200R4GC-2T2R - V3_v3411b_MUL029B\",type:\"ARG2\"}),\n",
        "       (node3:Frame_Argument{text:\"It\",type:\"ARG1\"}),\n",
        "       (node4:Frame_Argument{text:\"as problematic\",type:\"ARG2\"}),\n",
        "\n",
        "       (node2)-[:HAS_ARGUMENT]->(node1),\n",
        "       (node3)-[:HAS_ARGUMENT]->(node1),\n",
        "       (node4)-[:HAS_ARGUMENT]->(node1)\n",
        "\n",
        "MERGE (description:Description {cveId:\"CVE-2023-0029\"})\n",
        "MERGE (frame:Frame {text:\"rated\"})\n",
        "MERGE (description)-[:MAPPED_WITH]->(frame)       \n",
        "\n",
        "\"\"\"\n",
        "result = conn.query(explore_reviews_csv_query)\n",
        "print(result)"
      ]
    },
    {
      "cell_type": "code",
      "execution_count": 673,
      "metadata": {
        "id": "lfKPZ9CxrMMI",
        "colab": {
          "base_uri": "https://localhost:8080/"
        },
        "outputId": "48ca4665-c3c0-4ac4-c53c-e2da23fe8afb"
      },
      "outputs": [
        {
          "output_type": "stream",
          "name": "stdout",
          "text": [
            "[]\n"
          ]
        }
      ],
      "source": [
        "explore_reviews_csv_query = \"\"\"\n",
        "CREATE (node1:Frame {text:\"affects\",type:\"Verb\"}),\n",
        "       (node2:Frame_Argument{text:\"This issue\",type:\"ARG0\"}),\n",
        "       (node3:Frame_Argument{text:\"some unknown processing of the component Telnet Service\",type:\"ARG1\"}),\n",
        "\n",
        "       (node2)-[:HAS_ARGUMENT]->(node1),\n",
        "       (node3)-[:HAS_ARGUMENT]->(node1)\n",
        "\n",
        "MERGE (description:Description {cveId:\"CVE-2023-0029\"})\n",
        "MERGE (frame:Frame {text:\"affects\"})\n",
        "MERGE (description)-[:MAPPED_WITH]->(frame)        \n",
        "\n",
        "\"\"\"\n",
        "result = conn.query(explore_reviews_csv_query)\n",
        "print(result)"
      ]
    },
    {
      "cell_type": "code",
      "execution_count": 674,
      "metadata": {
        "id": "2WACRjJCrM_6",
        "colab": {
          "base_uri": "https://localhost:8080/"
        },
        "outputId": "c1394353-a735-4749-aba4-f4b7df1068ed"
      },
      "outputs": [
        {
          "output_type": "stream",
          "name": "stdout",
          "text": [
            "[]\n"
          ]
        }
      ],
      "source": [
        "explore_reviews_csv_query = \"\"\"\n",
        "CREATE (node1:Frame {text:\"leads\",type:\"Verb\"}),\n",
        "       (node2:Frame_Argument{text:\"The manipulation\",type:\"ARG0\"}),\n",
        "       (node3:Frame_Argument{text:\"to denial of service\",type:\"ARG2\"}),\n",
        "\n",
        "       (node2)-[:HAS_ARGUMENT]->(node1),\n",
        "       (node3)-[:HAS_ARGUMENT]->(node1)\n",
        "\n",
        "MERGE (description:Description {cveId:\"CVE-2023-0029\"})\n",
        "MERGE (frame:Frame {text:\"leads\"})\n",
        "MERGE (description)-[:MAPPED_WITH]->(frame)        \n",
        "\n",
        "\"\"\"\n",
        "result = conn.query(explore_reviews_csv_query)\n",
        "print(result)"
      ]
    },
    {
      "cell_type": "code",
      "execution_count": 675,
      "metadata": {
        "id": "tVlNVdOBrN2D",
        "colab": {
          "base_uri": "https://localhost:8080/"
        },
        "outputId": "48f0d54f-a35a-4d32-e404-ebd3fd94efd9"
      },
      "outputs": [
        {
          "output_type": "stream",
          "name": "stdout",
          "text": [
            "[]\n"
          ]
        }
      ],
      "source": [
        "explore_reviews_csv_query = \"\"\"\n",
        "CREATE (node1:Frame {text:\"initiated\",type:\"Verb\"}),\n",
        "       (node2:Frame_Argument{text:\"The attack\",type:\"ARG1\"}),\n",
        "       (node3:Modifier_Modal{text:\"may\",type:\"ARGM-MOD\"}),\n",
        "       (node4:Modifier_Manner{text:\"remotely\",type:\"ARGM-MNR\"}),\n",
        "\n",
        "       (node2)-[:HAS_ARGUMENT]->(node1),\n",
        "       (node3)-[:HAS_ARGUMENT]->(node1),\n",
        "       (node4)-[:HAS_ARGUMENT]->(node1)\n",
        "\n",
        "MERGE (description:Description {cveId:\"CVE-2023-0029\"})\n",
        "MERGE (frame:Frame {text:\"initiated\"})\n",
        "MERGE (description)-[:MAPPED_WITH]->(frame)       \n",
        "\n",
        "\"\"\"\n",
        "result = conn.query(explore_reviews_csv_query)\n",
        "print(result)"
      ]
    },
    {
      "cell_type": "code",
      "execution_count": 676,
      "metadata": {
        "id": "Y7ZevRlUrOrC",
        "colab": {
          "base_uri": "https://localhost:8080/"
        },
        "outputId": "4e2e7c43-0d56-4b7d-a485-0c390aec8bd0"
      },
      "outputs": [
        {
          "output_type": "stream",
          "name": "stdout",
          "text": [
            "[]\n"
          ]
        }
      ],
      "source": [
        "explore_reviews_csv_query = \"\"\"\n",
        "CREATE (node1:Frame {text:\"assigned\",type:\"Verb\"}),\n",
        "       (node2:Frame_Argument{text:\"The identifier VDB-217169\",type:\"ARG1\"}),\n",
        "       (node3:Frame_Argument{text:\"to this vulnerability\",type:\"ARG2\"}),\n",
        "\n",
        "       (node2)-[:HAS_ARGUMENT]->(node1),\n",
        "       (node3)-[:HAS_ARGUMENT]->(node1)\n",
        "\n",
        "MERGE (description:Description {cveId:\"CVE-2023-0029\"})\n",
        "MERGE (frame:Frame {text:\"assigned\"})\n",
        "MERGE (description)-[:MAPPED_WITH]->(frame)       \n",
        "\n",
        "\"\"\"\n",
        "result = conn.query(explore_reviews_csv_query)\n",
        "print(result)"
      ]
    }
  ],
  "metadata": {
    "colab": {
      "provenance": []
    },
    "kernelspec": {
      "display_name": "Python 3",
      "name": "python3"
    },
    "language_info": {
      "name": "python"
    }
  },
  "nbformat": 4,
  "nbformat_minor": 0
}